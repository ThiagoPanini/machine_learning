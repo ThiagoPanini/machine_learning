{
 "cells": [
  {
   "cell_type": "markdown",
   "metadata": {
    "toc": true
   },
   "source": [
    "<h1>Table of Contents<span class=\"tocSkip\"></span></h1>\n",
    "<div class=\"toc\"><ul class=\"toc-item\"><li><span><a href=\"#MNIST\" data-toc-modified-id=\"MNIST-1\"><span class=\"toc-item-num\">1&nbsp;&nbsp;</span>MNIST</a></span><ul class=\"toc-item\"><li><span><a href=\"#Importando-os-Dados\" data-toc-modified-id=\"Importando-os-Dados-1.1\"><span class=\"toc-item-num\">1.1&nbsp;&nbsp;</span>Importando os Dados</a></span></li><li><span><a href=\"#Visualizando-os-Dados\" data-toc-modified-id=\"Visualizando-os-Dados-1.2\"><span class=\"toc-item-num\">1.2&nbsp;&nbsp;</span>Visualizando os Dados</a></span></li><li><span><a href=\"#Dados-de-Treinamento-e-Dados-de-Teste\" data-toc-modified-id=\"Dados-de-Treinamento-e-Dados-de-Teste-1.3\"><span class=\"toc-item-num\">1.3&nbsp;&nbsp;</span>Dados de Treinamento e Dados de Teste</a></span><ul class=\"toc-item\"><li><span><a href=\"#Embaralhando-os-Dados\" data-toc-modified-id=\"Embaralhando-os-Dados-1.3.1\"><span class=\"toc-item-num\">1.3.1&nbsp;&nbsp;</span>Embaralhando os Dados</a></span></li></ul></li></ul></li><li><span><a href=\"#Treinando-um-Classificador-Binário\" data-toc-modified-id=\"Treinando-um-Classificador-Binário-2\"><span class=\"toc-item-num\">2&nbsp;&nbsp;</span>Treinando um Classificador Binário</a></span></li><li><span><a href=\"#Avaliando-Performance\" data-toc-modified-id=\"Avaliando-Performance-3\"><span class=\"toc-item-num\">3&nbsp;&nbsp;</span>Avaliando Performance</a></span><ul class=\"toc-item\"><li><span><a href=\"#Accuracy\" data-toc-modified-id=\"Accuracy-3.1\"><span class=\"toc-item-num\">3.1&nbsp;&nbsp;</span>Accuracy</a></span></li><li><span><a href=\"#Confusion-Matrix\" data-toc-modified-id=\"Confusion-Matrix-3.2\"><span class=\"toc-item-num\">3.2&nbsp;&nbsp;</span>Confusion Matrix</a></span></li><li><span><a href=\"#Precision\" data-toc-modified-id=\"Precision-3.3\"><span class=\"toc-item-num\">3.3&nbsp;&nbsp;</span>Precision</a></span></li><li><span><a href=\"#Recall\" data-toc-modified-id=\"Recall-3.4\"><span class=\"toc-item-num\">3.4&nbsp;&nbsp;</span>Recall</a></span></li><li><span><a href=\"#Precision-and-Recall\" data-toc-modified-id=\"Precision-and-Recall-3.5\"><span class=\"toc-item-num\">3.5&nbsp;&nbsp;</span>Precision and Recall</a></span></li><li><span><a href=\"#F1-Score\" data-toc-modified-id=\"F1-Score-3.6\"><span class=\"toc-item-num\">3.6&nbsp;&nbsp;</span>F1 Score</a></span></li><li><span><a href=\"#Precision/Recall-Tradeoff\" data-toc-modified-id=\"Precision/Recall-Tradeoff-3.7\"><span class=\"toc-item-num\">3.7&nbsp;&nbsp;</span>Precision/Recall Tradeoff</a></span><ul class=\"toc-item\"><li><span><a href=\"#Determinando-Precisão\" data-toc-modified-id=\"Determinando-Precisão-3.7.1\"><span class=\"toc-item-num\">3.7.1&nbsp;&nbsp;</span>Determinando Precisão</a></span></li></ul></li><li><span><a href=\"#The-ROC-Curve\" data-toc-modified-id=\"The-ROC-Curve-3.8\"><span class=\"toc-item-num\">3.8&nbsp;&nbsp;</span>The ROC Curve</a></span></li><li><span><a href=\"#Comparação-com-Random-Forest\" data-toc-modified-id=\"Comparação-com-Random-Forest-3.9\"><span class=\"toc-item-num\">3.9&nbsp;&nbsp;</span>Comparação com Random Forest</a></span></li></ul></li><li><span><a href=\"#Multiclass-Classification\" data-toc-modified-id=\"Multiclass-Classification-4\"><span class=\"toc-item-num\">4&nbsp;&nbsp;</span>Multiclass Classification</a></span><ul class=\"toc-item\"><li><span><a href=\"#Avaliando-Performance\" data-toc-modified-id=\"Avaliando-Performance-4.1\"><span class=\"toc-item-num\">4.1&nbsp;&nbsp;</span>Avaliando Performance</a></span></li></ul></li><li><span><a href=\"#Multilabel-Classification\" data-toc-modified-id=\"Multilabel-Classification-5\"><span class=\"toc-item-num\">5&nbsp;&nbsp;</span>Multilabel Classification</a></span><ul class=\"toc-item\"><li><span><a href=\"#Avaliando-Performance\" data-toc-modified-id=\"Avaliando-Performance-5.1\"><span class=\"toc-item-num\">5.1&nbsp;&nbsp;</span>Avaliando Performance</a></span></li></ul></li><li><span><a href=\"#Multioutput-Classification\" data-toc-modified-id=\"Multioutput-Classification-6\"><span class=\"toc-item-num\">6&nbsp;&nbsp;</span>Multioutput Classification</a></span></li></ul></div>"
   ]
  },
  {
   "cell_type": "markdown",
   "metadata": {},
   "source": [
    "O presente notebook tem por objetivo apresentar características importantes de um problema de ```Classificação```, também pertencente ao grupo de problemas de ```Aprendizado Supervisionado```. Nele, será possível visualizar os principais desafios envolvendo este tipo de tarefa, bem como as principais formas de se chegar a resultados satisfatórios."
   ]
  },
  {
   "cell_type": "markdown",
   "metadata": {},
   "source": [
    "# MNIST"
   ]
  },
  {
   "cell_type": "markdown",
   "metadata": {},
   "source": [
    "Considerado como o ```Hello World``` no universo de classificação, o famoso dataset ```MNIST``` contém 70.000 imagens de dígitos manuscritos por estudantes e funcionários públicos dos EUA. Cada imagem possui dimensão 28x28 e isso será de extrema importância para compreender o treinamento do algoritimo de classificação responsável. Ademais, este dataset contém uma coluna label que indica o numeral representante de cada uma das imagens.\n",
    "\n",
    "Muitos utilizam o MNIST para verificar a performance de seus algoritmos."
   ]
  },
  {
   "cell_type": "markdown",
   "metadata": {},
   "source": [
    "## Importando os Dados"
   ]
  },
  {
   "cell_type": "code",
   "execution_count": 1,
<<<<<<< HEAD
   "metadata": {},
=======
   "metadata": {
    "ExecuteTime": {
     "end_time": "2019-03-01T19:44:50.082785Z",
     "start_time": "2019-03-01T19:44:31.886117Z"
    }
   },
>>>>>>> 465c7e6b7893226eeaa6ecd42108701a3bb754d4
   "outputs": [
    {
     "data": {
      "text/plain": [
       "{'COL_NAMES': ['label', 'data'],\n",
       " 'DESCR': 'mldata.org dataset: mnist-original',\n",
       " 'data': array([[0, 0, 0, ..., 0, 0, 0],\n",
       "        [0, 0, 0, ..., 0, 0, 0],\n",
       "        [0, 0, 0, ..., 0, 0, 0],\n",
       "        ...,\n",
       "        [0, 0, 0, ..., 0, 0, 0],\n",
       "        [0, 0, 0, ..., 0, 0, 0],\n",
       "        [0, 0, 0, ..., 0, 0, 0]], dtype=uint8),\n",
       " 'target': array([0., 0., 0., ..., 9., 9., 9.])}"
      ]
     },
     "execution_count": 1,
     "metadata": {},
     "output_type": "execute_result"
    }
   ],
   "source": [
    "# Importando biblioteca e lendo arquivo\n",
    "from sklearn.datasets import fetch_mldata\n",
    "\n",
    "mnist = fetch_mldata('MNIST original')\n",
    "mnist"
   ]
  },
  {
   "cell_type": "markdown",
   "metadata": {},
   "source": [
    "Em alguns casos, é possível que o dataset esteja corrompido dentro do diretório ```home``` do scikit-learn. Para solucionar este problema, segue link abaixo que descreve uma forma diferenciada para realizar o download do dataset: https://github.com/ageron/handson-ml/issues/143"
   ]
  },
  {
   "cell_type": "code",
<<<<<<< HEAD
   "execution_count": 4,
   "metadata": {},
   "outputs": [
    {
     "name": "stdout",
     "output_type": "stream",
     "text": [
      "Success!\n"
     ]
    },
    {
     "data": {
      "text/plain": [
       "{'COL_NAMES': ['label', 'data'],\n",
       " 'DESCR': 'mldata.org dataset: mnist-original',\n",
       " 'data': array([[0, 0, 0, ..., 0, 0, 0],\n",
       "        [0, 0, 0, ..., 0, 0, 0],\n",
       "        [0, 0, 0, ..., 0, 0, 0],\n",
       "        ...,\n",
       "        [0, 0, 0, ..., 0, 0, 0],\n",
       "        [0, 0, 0, ..., 0, 0, 0],\n",
       "        [0, 0, 0, ..., 0, 0, 0]], dtype=uint8),\n",
       " 'target': array([0., 0., 0., ..., 9., 9., 9.])}"
      ]
     },
     "execution_count": 4,
     "metadata": {},
     "output_type": "execute_result"
    }
   ],
=======
   "execution_count": null,
   "metadata": {
    "code_folding": []
   },
   "outputs": [],
>>>>>>> 465c7e6b7893226eeaa6ecd42108701a3bb754d4
   "source": [
    "# Modo alternativo\n",
    "from six.moves import urllib\n",
    "from sklearn.datasets import fetch_mldata\n",
    "\n",
    "from scipy.io import loadmat\n",
    "mnist_alternative_url = \"https://github.com/amplab/datascience-sp14/raw/master/lab7/mldata/mnist-original.mat\"\n",
    "mnist_path = \"./mnist-original.mat\"\n",
    "response = urllib.request.urlopen(mnist_alternative_url)\n",
    "with open(mnist_path, \"wb\") as f:\n",
    "    content = response.read()\n",
    "    f.write(content)\n",
    "mnist_raw = loadmat(mnist_path)\n",
    "mnist = {\n",
    "    \"data\": mnist_raw[\"data\"].T,\n",
    "    \"target\": mnist_raw[\"label\"][0],\n",
    "    \"COL_NAMES\": [\"label\", \"data\"],\n",
    "    \"DESCR\": \"mldata.org dataset: mnist-original\",\n",
    "}\n",
    "print(\"Success!\")\n",
    "\n",
    "mnist"
   ]
  },
  {
   "cell_type": "markdown",
   "metadata": {},
   "source": [
    "Tentativas após consertar o erro da célula anterior:"
   ]
  },
  {
   "cell_type": "code",
<<<<<<< HEAD
   "execution_count": 5,
   "metadata": {},
   "outputs": [
    {
     "name": "stdout",
     "output_type": "stream",
     "text": [
      "C:\\Users\\thiagoPanini\\scikit_learn_data\n"
     ]
    }
   ],
=======
   "execution_count": null,
   "metadata": {
    "code_folding": []
   },
   "outputs": [],
>>>>>>> 465c7e6b7893226eeaa6ecd42108701a3bb754d4
   "source": [
    "# 1 - Coletando informações a respeito da pasta $HOME do scikit-learn\n",
    "from sklearn.datasets.base import get_data_home \n",
    "print (get_data_home())"
   ]
  },
  {
   "cell_type": "code",
<<<<<<< HEAD
   "execution_count": 6,
   "metadata": {},
   "outputs": [
    {
     "data": {
      "text/plain": [
       "{'COL_NAMES': ['label', 'data'],\n",
       " 'DESCR': 'mldata.org dataset: mnist-original',\n",
       " 'data': array([[0, 0, 0, ..., 0, 0, 0],\n",
       "        [0, 0, 0, ..., 0, 0, 0],\n",
       "        [0, 0, 0, ..., 0, 0, 0],\n",
       "        ...,\n",
       "        [0, 0, 0, ..., 0, 0, 0],\n",
       "        [0, 0, 0, ..., 0, 0, 0],\n",
       "        [0, 0, 0, ..., 0, 0, 0]], dtype=uint8),\n",
       " 'target': array([0., 0., 0., ..., 9., 9., 9.])}"
      ]
     },
     "execution_count": 6,
     "metadata": {},
     "output_type": "execute_result"
    }
   ],
=======
   "execution_count": null,
   "metadata": {
    "code_folding": []
   },
   "outputs": [],
>>>>>>> 465c7e6b7893226eeaa6ecd42108701a3bb754d4
   "source": [
    "# 2 - Após baixar o arquivo e colocá-lo na pasta, realizar nova tentativa\n",
    "from sklearn.datasets import fetch_mldata\n",
    "\n",
    "mnist = fetch_mldata('MNIST original')\n",
    "mnist"
   ]
  },
  {
   "cell_type": "markdown",
   "metadata": {},
   "source": [
    "O dataset importado possui uma estrutura semelhante a de um dicionário com as chaves:\n",
    "\n",
    "* **DESCR:** descrevendo o dataset;\n",
    "* **data:** contendo um array onde cada linha representa uma instância e cada coluna, uma feature;\n",
    "* **target:** contendo um array com os labels"
   ]
  },
  {
   "cell_type": "code",
<<<<<<< HEAD
   "execution_count": 105,
   "metadata": {},
=======
   "execution_count": 2,
   "metadata": {
    "ExecuteTime": {
     "end_time": "2019-03-01T19:44:50.092755Z",
     "start_time": "2019-03-01T19:44:50.084777Z"
    }
   },
>>>>>>> 465c7e6b7893226eeaa6ecd42108701a3bb754d4
   "outputs": [
    {
     "name": "stdout",
     "output_type": "stream",
     "text": [
      "X.shape: (70000, 784)\n",
      "y.shape: (70000,)\n"
     ]
    }
   ],
   "source": [
    "# Separando o dataset entre features e target\n",
    "X, y = mnist['data'], mnist['target']\n",
    "print(f'X.shape: {X.shape}')\n",
    "print(f'y.shape: {y.shape}')"
   ]
  },
  {
   "cell_type": "markdown",
   "metadata": {},
   "source": [
    "Importante:\n",
    "\n",
    "        Cada imagem possui dimensão 28x28 representando, na verdade, um total de 784 features;\n",
    "        Cada uma das 784 features de cada imagem representa a intensidade de cada pixel, de 0 (branco) a 255 (preto);"
   ]
  },
  {
   "cell_type": "markdown",
   "metadata": {},
   "source": [
    "## Visualizando os Dados"
   ]
  },
  {
   "cell_type": "code",
<<<<<<< HEAD
   "execution_count": 106,
   "metadata": {},
=======
   "execution_count": 8,
   "metadata": {
    "ExecuteTime": {
     "end_time": "2019-03-01T19:46:24.278351Z",
     "start_time": "2019-03-01T19:46:19.308183Z"
    }
   },
>>>>>>> 465c7e6b7893226eeaa6ecd42108701a3bb754d4
   "outputs": [],
   "source": [
    "# Importando matplotlib\n",
    "import matplotlib\n",
    "import matplotlib.pyplot as plt\n",
    "%matplotlib inline"
   ]
  },
  {
   "cell_type": "code",
<<<<<<< HEAD
   "execution_count": 107,
   "metadata": {},
=======
   "execution_count": 9,
   "metadata": {
    "ExecuteTime": {
     "end_time": "2019-03-01T19:46:25.556357Z",
     "start_time": "2019-03-01T19:46:24.280337Z"
    }
   },
>>>>>>> 465c7e6b7893226eeaa6ecd42108701a3bb754d4
   "outputs": [
    {
     "data": {
      "image/png": "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\n",
      "text/plain": [
<<<<<<< HEAD
       "<matplotlib.figure.Figure at 0x1cedea090f0>"
=======
       "<matplotlib.figure.Figure at 0x240768a8860>"
>>>>>>> 465c7e6b7893226eeaa6ecd42108701a3bb754d4
      ]
     },
     "metadata": {
      "needs_background": "light"
     },
     "output_type": "display_data"
    }
   ],
   "source": [
    "# Preparando visualização\n",
    "some_digit = X[36000]\n",
    "some_digit_image = some_digit.reshape(28, 28)\n",
    "\n",
    "plt.imshow(some_digit_image, cmap = matplotlib.cm.binary, interpolation = 'nearest')\n",
    "plt.axis('off')\n",
    "plt.show()"
   ]
  },
  {
   "cell_type": "markdown",
   "metadata": {},
   "source": [
    "Perceba que foi utilizado o método ```reshape()``` para a plotagem gráfica. Para entender melhor o que aconteceu, vamos visualizar separadamente cada uma das variáveis envolvidas no bloco acima e também o conteúdo de cada um dos elementos do dataset."
   ]
  },
  {
   "cell_type": "code",
<<<<<<< HEAD
   "execution_count": 108,
=======
   "execution_count": 5,
>>>>>>> 465c7e6b7893226eeaa6ecd42108701a3bb754d4
   "metadata": {},
   "outputs": [
    {
     "data": {
      "text/plain": [
       "array([  0,   0,   0,   0,   0,   0,   0,   0,   0,   0,   0,   0,   0,\n",
       "         0,   0,   0,   0,   0,   0,   0,   0,   0,   0,   0,   0,   0,\n",
       "         0,   0,   0,   0,   0,   0,   0,   0,   0,   0,   0,   0,   0,\n",
       "         0,   0,   0,   0,   0,   0,   0,   0,   0,   0,   0,   0,   0,\n",
       "         0,   0,   0,   0,   0,   0,   0,   0,   0,   0,   0,   0,   0,\n",
       "         0,   0,   0,   0,   0,   0,   0,   0,   0,   0,   0,   0,   0,\n",
       "         0,   0,   0,   0,   0,   0,   0,   0,   0,   0,   0,   0,   0,\n",
       "         0,   0,   0,   0,   0,   0,   0,   0,   0,   0,   0,   0,   0,\n",
       "         0,   0,   0,   0,   0,   0,   0,   0,   0,   0,   0,   0,   0,\n",
       "         0,   0,   0,   0,   0,   0,   0,   0,   0,   0,   0,   0,   0,\n",
       "         0,   0,   0,   0,   0,   0,   0,   0,   0,   0,   0,   0,   0,\n",
       "         0,   0,   0,   0,   0,   0,   0,   0,   0,   0,   0,   0,   0,\n",
       "         0,   0,   0,  86, 131, 225, 225, 225,   0,   0,   0,   0,   0,\n",
       "         0,   0,   0,   0,   0,   0,   0,   0,   0,   0,   0,   0,   0,\n",
       "         0,   0,  13,  73, 197, 253, 252, 252, 252, 252,   0,   0,   0,\n",
       "         0,   0,   0,   0,   0,   0,   0,   0,   0,   0,   0,   0,   0,\n",
       "         4,  29,  29, 154, 187, 252, 252, 253, 252, 252, 233, 145,   0,\n",
       "         0,   0,   0,   0,   0,   0,   0,   0,   0,   0,   0,   0,   0,\n",
       "         0,   0,  29, 252, 253, 252, 252, 252, 252, 253, 204, 112,  37,\n",
       "         0,   0,   0,   0,   0,   0,   0,   0,   0,   0,   0,   0,   0,\n",
       "         0,   0,   0,   0, 169, 253, 255, 253, 228, 126,   0,   0,   0,\n",
       "         0,   0,   0,   0,   0,   0,   0,   0,   0,   0,   0,   0,   0,\n",
       "         0,   0,   0,   0,   0,  98, 243, 252, 253, 252, 246, 130,  38,\n",
       "         0,   0,   0,   0,   0,   0,   0,   0,   0,   0,   0,   0,   0,\n",
       "         0,   0,   0,   0,   0,   0,  98, 240, 252, 252, 253, 252, 252,\n",
       "       252, 221,   0,   0,   0,   0,   0,   0,   0,   0,   0,   0,   0,\n",
       "         0,   0,   0,   0,   0,   0,   0,   0, 225, 252, 252, 236, 225,\n",
       "       223, 230, 252, 252,   0,   0,   0,   0,   0,   0,   0,   0,   0,\n",
       "         0,   0,   0,   0,   0,   0,   0,   0,   0,   0, 146, 252, 157,\n",
       "        50,   0,   0,  25, 205, 252,   0,   0,   0,   0,   0,   0,   0,\n",
       "         0,   0,   0,   0,   0,   0,   0,   0,   0,   0,   0,   0,   0,\n",
       "         0,   0,   0,   0,   0,  26, 207, 253,   0,   0,   0,   0,   0,\n",
       "         0,   0,   0,   0,   0,   0,   0,   0,   0,  29,  19,   0,   0,\n",
       "         0,   0,   0,   0,   0,   0,   0,  73, 205, 252,  79,   0,   0,\n",
       "         0,   0,   0,   0,   0,   0,   0,   0,   0,   0, 120, 215, 209,\n",
       "       175,   0,   0,   0,   0,   0,   0,   0,  19, 209, 252, 220,  79,\n",
       "         0,   0,   0,   0,   0,   0,   0,   0,   0,   0,   0,   0, 174,\n",
       "       252, 252, 239, 140,   0,   0,   0,   0,   0,  29, 104, 252, 249,\n",
       "       177,   0,   0,   0,   0,   0,   0,   0,   0,   0,   0,   0,   0,\n",
       "         0, 174, 252, 252, 223,   0,   0,   0,   0,   0,   0, 174, 252,\n",
       "       252, 223,   0,   0,   0,   0,   0,   0,   0,   0,   0,   0,   0,\n",
       "         0,   0,   0, 141, 241, 253, 146,   0,   0,   0,   0, 169, 253,\n",
       "       255, 253, 253,  84,   0,   0,   0,   0,   0,   0,   0,   0,   0,\n",
       "         0,   0,   0,   0,   0,   0, 178, 252, 154,  85,  85, 210, 225,\n",
       "       243, 252, 215, 121,  27,   9,   0,   0,   0,   0,   0,   0,   0,\n",
       "         0,   0,   0,   0,   0,   0,   0,   0,  66, 208, 220, 252, 253,\n",
       "       252, 252, 214, 195,  31,   0,   0,   0,   0,   0,   0,   0,   0,\n",
       "         0,   0,   0,   0,   0,   0,   0,   0,   0,   0,   0,  19,  37,\n",
       "        84, 146, 223, 114,  28,   0,   0,   0,   0,   0,   0,   0,   0,\n",
       "         0,   0,   0,   0,   0,   0,   0,   0,   0,   0,   0,   0,   0,\n",
       "         0,   0,   0,   0,   0,   0,   0,   0,   0,   0,   0,   0,   0,\n",
       "         0,   0,   0,   0,   0,   0,   0,   0,   0,   0,   0,   0,   0,\n",
       "         0,   0,   0,   0,   0,   0,   0,   0,   0,   0,   0,   0,   0,\n",
       "         0,   0,   0,   0,   0,   0,   0,   0,   0,   0,   0,   0,   0,\n",
       "         0,   0,   0,   0,   0,   0,   0,   0,   0,   0,   0,   0,   0,\n",
       "         0,   0,   0,   0,   0,   0,   0,   0,   0,   0,   0,   0,   0,\n",
       "         0,   0,   0,   0,   0,   0,   0,   0,   0,   0,   0,   0,   0,\n",
       "         0,   0,   0,   0,   0,   0,   0,   0,   0,   0,   0,   0,   0,\n",
       "         0,   0,   0,   0,   0,   0,   0,   0,   0,   0,   0,   0,   0,\n",
       "         0,   0,   0,   0,   0,   0,   0,   0,   0,   0,   0,   0,   0,\n",
       "         0,   0,   0,   0], dtype=uint8)"
      ]
     },
<<<<<<< HEAD
     "execution_count": 108,
=======
     "execution_count": 5,
>>>>>>> 465c7e6b7893226eeaa6ecd42108701a3bb754d4
     "metadata": {},
     "output_type": "execute_result"
    }
   ],
   "source": [
    "# O que é some_digit antes do reshape?\n",
    "some_digit"
   ]
  },
  {
   "cell_type": "markdown",
   "metadata": {},
   "source": [
    "Trata-se de um array com todos os \"níveis de intensidade\" dos pixels em cada uma das 784 features."
   ]
  },
  {
   "cell_type": "code",
<<<<<<< HEAD
   "execution_count": 109,
=======
   "execution_count": 6,
>>>>>>> 465c7e6b7893226eeaa6ecd42108701a3bb754d4
   "metadata": {},
   "outputs": [
    {
     "data": {
      "text/plain": [
       "(784,)"
      ]
     },
<<<<<<< HEAD
     "execution_count": 109,
=======
     "execution_count": 6,
>>>>>>> 465c7e6b7893226eeaa6ecd42108701a3bb754d4
     "metadata": {},
     "output_type": "execute_result"
    }
   ],
   "source": [
    "# Será que some_digit representa um único digito com as 784 features?\n",
    "some_digit.shape"
   ]
  },
  {
   "cell_type": "markdown",
   "metadata": {},
   "source": [
    "Exatamente! Mas o que acontece após o reshape?"
   ]
  },
  {
   "cell_type": "code",
<<<<<<< HEAD
   "execution_count": 110,
=======
   "execution_count": 7,
>>>>>>> 465c7e6b7893226eeaa6ecd42108701a3bb754d4
   "metadata": {},
   "outputs": [
    {
     "data": {
      "text/plain": [
       "array([[  0,   0,   0,   0,   0,   0,   0,   0,   0,   0,   0,   0,   0,\n",
       "          0,   0,   0,   0,   0,   0,   0,   0,   0,   0,   0,   0,   0,\n",
       "          0,   0],\n",
       "       [  0,   0,   0,   0,   0,   0,   0,   0,   0,   0,   0,   0,   0,\n",
       "          0,   0,   0,   0,   0,   0,   0,   0,   0,   0,   0,   0,   0,\n",
       "          0,   0],\n",
       "       [  0,   0,   0,   0,   0,   0,   0,   0,   0,   0,   0,   0,   0,\n",
       "          0,   0,   0,   0,   0,   0,   0,   0,   0,   0,   0,   0,   0,\n",
       "          0,   0],\n",
       "       [  0,   0,   0,   0,   0,   0,   0,   0,   0,   0,   0,   0,   0,\n",
       "          0,   0,   0,   0,   0,   0,   0,   0,   0,   0,   0,   0,   0,\n",
       "          0,   0],\n",
       "       [  0,   0,   0,   0,   0,   0,   0,   0,   0,   0,   0,   0,   0,\n",
       "          0,   0,   0,   0,   0,   0,   0,   0,   0,   0,   0,   0,   0,\n",
       "          0,   0],\n",
       "       [  0,   0,   0,   0,   0,   0,   0,   0,   0,   0,   0,   0,   0,\n",
       "          0,   0,   0,   0,   0,   0,  86, 131, 225, 225, 225,   0,   0,\n",
       "          0,   0],\n",
       "       [  0,   0,   0,   0,   0,   0,   0,   0,   0,   0,   0,   0,   0,\n",
       "          0,   0,   0,  13,  73, 197, 253, 252, 252, 252, 252,   0,   0,\n",
       "          0,   0],\n",
       "       [  0,   0,   0,   0,   0,   0,   0,   0,   0,   0,   0,   0,   4,\n",
       "         29,  29, 154, 187, 252, 252, 253, 252, 252, 233, 145,   0,   0,\n",
       "          0,   0],\n",
       "       [  0,   0,   0,   0,   0,   0,   0,   0,   0,   0,   0,   0,  29,\n",
       "        252, 253, 252, 252, 252, 252, 253, 204, 112,  37,   0,   0,   0,\n",
       "          0,   0],\n",
       "       [  0,   0,   0,   0,   0,   0,   0,   0,   0,   0,   0,   0, 169,\n",
       "        253, 255, 253, 228, 126,   0,   0,   0,   0,   0,   0,   0,   0,\n",
       "          0,   0],\n",
       "       [  0,   0,   0,   0,   0,   0,   0,   0,   0,   0,   0,  98, 243,\n",
       "        252, 253, 252, 246, 130,  38,   0,   0,   0,   0,   0,   0,   0,\n",
       "          0,   0],\n",
       "       [  0,   0,   0,   0,   0,   0,   0,   0,   0,   0,  98, 240, 252,\n",
       "        252, 253, 252, 252, 252, 221,   0,   0,   0,   0,   0,   0,   0,\n",
       "          0,   0],\n",
       "       [  0,   0,   0,   0,   0,   0,   0,   0,   0,   0, 225, 252, 252,\n",
       "        236, 225, 223, 230, 252, 252,   0,   0,   0,   0,   0,   0,   0,\n",
       "          0,   0],\n",
       "       [  0,   0,   0,   0,   0,   0,   0,   0,   0,   0, 146, 252, 157,\n",
       "         50,   0,   0,  25, 205, 252,   0,   0,   0,   0,   0,   0,   0,\n",
       "          0,   0],\n",
       "       [  0,   0,   0,   0,   0,   0,   0,   0,   0,   0,   0,   0,   0,\n",
       "          0,   0,   0,  26, 207, 253,   0,   0,   0,   0,   0,   0,   0,\n",
       "          0,   0],\n",
       "       [  0,   0,   0,   0,   0,  29,  19,   0,   0,   0,   0,   0,   0,\n",
       "          0,   0,   0,  73, 205, 252,  79,   0,   0,   0,   0,   0,   0,\n",
       "          0,   0],\n",
       "       [  0,   0,   0,   0, 120, 215, 209, 175,   0,   0,   0,   0,   0,\n",
       "          0,   0,  19, 209, 252, 220,  79,   0,   0,   0,   0,   0,   0,\n",
       "          0,   0],\n",
       "       [  0,   0,   0,   0, 174, 252, 252, 239, 140,   0,   0,   0,   0,\n",
       "          0,  29, 104, 252, 249, 177,   0,   0,   0,   0,   0,   0,   0,\n",
       "          0,   0],\n",
       "       [  0,   0,   0,   0, 174, 252, 252, 223,   0,   0,   0,   0,   0,\n",
       "          0, 174, 252, 252, 223,   0,   0,   0,   0,   0,   0,   0,   0,\n",
       "          0,   0],\n",
       "       [  0,   0,   0,   0, 141, 241, 253, 146,   0,   0,   0,   0, 169,\n",
       "        253, 255, 253, 253,  84,   0,   0,   0,   0,   0,   0,   0,   0,\n",
       "          0,   0],\n",
       "       [  0,   0,   0,   0,   0, 178, 252, 154,  85,  85, 210, 225, 243,\n",
       "        252, 215, 121,  27,   9,   0,   0,   0,   0,   0,   0,   0,   0,\n",
       "          0,   0],\n",
       "       [  0,   0,   0,   0,   0,  66, 208, 220, 252, 253, 252, 252, 214,\n",
       "        195,  31,   0,   0,   0,   0,   0,   0,   0,   0,   0,   0,   0,\n",
       "          0,   0],\n",
       "       [  0,   0,   0,   0,   0,   0,  19,  37,  84, 146, 223, 114,  28,\n",
       "          0,   0,   0,   0,   0,   0,   0,   0,   0,   0,   0,   0,   0,\n",
       "          0,   0],\n",
       "       [  0,   0,   0,   0,   0,   0,   0,   0,   0,   0,   0,   0,   0,\n",
       "          0,   0,   0,   0,   0,   0,   0,   0,   0,   0,   0,   0,   0,\n",
       "          0,   0],\n",
       "       [  0,   0,   0,   0,   0,   0,   0,   0,   0,   0,   0,   0,   0,\n",
       "          0,   0,   0,   0,   0,   0,   0,   0,   0,   0,   0,   0,   0,\n",
       "          0,   0],\n",
       "       [  0,   0,   0,   0,   0,   0,   0,   0,   0,   0,   0,   0,   0,\n",
       "          0,   0,   0,   0,   0,   0,   0,   0,   0,   0,   0,   0,   0,\n",
       "          0,   0],\n",
       "       [  0,   0,   0,   0,   0,   0,   0,   0,   0,   0,   0,   0,   0,\n",
       "          0,   0,   0,   0,   0,   0,   0,   0,   0,   0,   0,   0,   0,\n",
       "          0,   0],\n",
       "       [  0,   0,   0,   0,   0,   0,   0,   0,   0,   0,   0,   0,   0,\n",
       "          0,   0,   0,   0,   0,   0,   0,   0,   0,   0,   0,   0,   0,\n",
       "          0,   0]], dtype=uint8)"
      ]
     },
<<<<<<< HEAD
     "execution_count": 110,
=======
     "execution_count": 7,
>>>>>>> 465c7e6b7893226eeaa6ecd42108701a3bb754d4
     "metadata": {},
     "output_type": "execute_result"
    }
   ],
   "source": [
    "# Resultado após o reshape\n",
    "some_digit_image"
   ]
  },
  {
   "cell_type": "markdown",
   "metadata": {},
   "source": [
    "Aparentemente os dados foram transformados em outro formato (28 linhas por 28 colunas). Vamos verificar o que acontece com o ```shape```."
   ]
  },
  {
   "cell_type": "code",
<<<<<<< HEAD
   "execution_count": 111,
=======
   "execution_count": 8,
>>>>>>> 465c7e6b7893226eeaa6ecd42108701a3bb754d4
   "metadata": {},
   "outputs": [
    {
     "data": {
      "text/plain": [
       "(28, 28)"
      ]
     },
<<<<<<< HEAD
     "execution_count": 111,
=======
     "execution_count": 8,
>>>>>>> 465c7e6b7893226eeaa6ecd42108701a3bb754d4
     "metadata": {},
     "output_type": "execute_result"
    }
   ],
   "source": [
    "# Novo shape após reshape\n",
    "some_digit_image.shape"
   ]
  },
  {
   "cell_type": "markdown",
   "metadata": {},
   "source": [
    "Faz sentido. Demos um ```reshape()``` no array anterior de (784,) e passamos, como argumento, os índices (28, 28), transformando-o então em um novo array com dimensões (28, 28)."
   ]
  },
  {
   "cell_type": "code",
<<<<<<< HEAD
   "execution_count": 112,
=======
   "execution_count": 14,
>>>>>>> 465c7e6b7893226eeaa6ecd42108701a3bb754d4
   "metadata": {},
   "outputs": [
    {
     "data": {
<<<<<<< HEAD
      "image/png": "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\n",
      "text/plain": [
       "<matplotlib.figure.Figure at 0x1cedb51a320>"
=======
      "image/png": "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\n",
      "text/plain": [
       "<matplotlib.figure.Figure at 0x1ced3bf5978>"
>>>>>>> 465c7e6b7893226eeaa6ecd42108701a3bb754d4
      ]
     },
     "metadata": {
      "needs_background": "light"
     },
     "output_type": "display_data"
    }
   ],
   "source": [
    "# Customizando print para visualizar demais dados\n",
    "import numpy as np\n",
    "\n",
    "fig, ax = plt.subplots(1, 5, figsize=(16, 6))\n",
    "for axe in ax:\n",
    "    another_digit = X[np.random.randint(70000)]\n",
    "    another_digit_image = another_digit.reshape(28, 28)\n",
    "    axe.imshow(another_digit_image, cmap = matplotlib.cm.binary, interpolation = 'nearest')\n",
    "    axe.axis('off')"
   ]
  },
  {
   "cell_type": "markdown",
   "metadata": {},
   "source": [
    "Como visto, o dado representado por ```X[36000]``` indica o numeral \"5\". Vejamos se o label está correto."
   ]
  },
  {
   "cell_type": "code",
<<<<<<< HEAD
   "execution_count": 113,
=======
   "execution_count": 15,
>>>>>>> 465c7e6b7893226eeaa6ecd42108701a3bb754d4
   "metadata": {},
   "outputs": [
    {
     "data": {
      "text/plain": [
       "5.0"
      ]
     },
<<<<<<< HEAD
     "execution_count": 113,
=======
     "execution_count": 15,
>>>>>>> 465c7e6b7893226eeaa6ecd42108701a3bb754d4
     "metadata": {},
     "output_type": "execute_result"
    }
   ],
   "source": [
    "# Verificando label de X[36000]\n",
    "y[36000]"
   ]
  },
  {
   "cell_type": "code",
<<<<<<< HEAD
   "execution_count": 114,
=======
   "execution_count": 11,
>>>>>>> 465c7e6b7893226eeaa6ecd42108701a3bb754d4
   "metadata": {},
   "outputs": [
    {
     "data": {
      "image/png": "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\n",
      "text/plain": [
<<<<<<< HEAD
       "<matplotlib.figure.Figure at 0x1cedb526828>"
=======
       "<matplotlib.figure.Figure at 0x2570784e0f0>"
>>>>>>> 465c7e6b7893226eeaa6ecd42108701a3bb754d4
      ]
     },
     "metadata": {
      "needs_background": "light"
     },
     "output_type": "display_data"
    }
   ],
   "source": [
    "# Plotando mais dados\n",
    "def plot_digits(instances, images_per_row=10, **options):\n",
    "    size = 28\n",
    "    images_per_row = min(len(instances), images_per_row)\n",
    "    images = [instance.reshape(size,size) for instance in instances]\n",
    "    n_rows = (len(instances) - 1) // images_per_row + 1\n",
    "    row_images = []\n",
    "    n_empty = n_rows * images_per_row - len(instances)\n",
    "    images.append(np.zeros((size, size * n_empty)))\n",
    "    for row in range(n_rows):\n",
    "        rimages = images[row * images_per_row : (row + 1) * images_per_row]\n",
    "        row_images.append(np.concatenate(rimages, axis=1))\n",
    "    image = np.concatenate(row_images, axis=0)\n",
    "    plt.imshow(image, cmap = matplotlib.cm.binary, **options)\n",
    "    plt.axis(\"off\")\n",
    "    \n",
    "plt.figure(figsize=(9,9))\n",
    "example_images = np.r_[X[:12000:600], X[13000:30600:600], X[30600:60000:590]]\n",
    "plot_digits(example_images, images_per_row=10)"
   ]
  },
  {
   "cell_type": "markdown",
   "metadata": {},
   "source": [
    "## Dados de Treinamento e Dados de Teste"
   ]
  },
  {
   "cell_type": "markdown",
   "metadata": {},
   "source": [
    "O dataset MNIST já está previamente seperado em training e test set. As primeiras 60.000 linhas representam **dados de treinamento**, enquanto as últimas 10.000 imagens representam **dados de teste**."
   ]
  },
  {
   "cell_type": "code",
<<<<<<< HEAD
   "execution_count": 115,
=======
   "execution_count": 16,
>>>>>>> 465c7e6b7893226eeaa6ecd42108701a3bb754d4
   "metadata": {},
   "outputs": [],
   "source": [
    "# Separando dados\n",
    "X_train, X_test, y_train, y_test = X[:60000], X[60000:], y[:60000], y[60000:]"
   ]
  },
  {
   "cell_type": "code",
<<<<<<< HEAD
   "execution_count": 116,
=======
   "execution_count": 17,
>>>>>>> 465c7e6b7893226eeaa6ecd42108701a3bb754d4
   "metadata": {},
   "outputs": [
    {
     "data": {
      "text/plain": [
       "(60000, 784)"
      ]
     },
<<<<<<< HEAD
     "execution_count": 116,
=======
     "execution_count": 17,
>>>>>>> 465c7e6b7893226eeaa6ecd42108701a3bb754d4
     "metadata": {},
     "output_type": "execute_result"
    }
   ],
   "source": [
    "# Verificando\n",
    "X_train.shape"
   ]
  },
  {
   "cell_type": "code",
<<<<<<< HEAD
   "execution_count": 117,
=======
   "execution_count": 18,
>>>>>>> 465c7e6b7893226eeaa6ecd42108701a3bb754d4
   "metadata": {},
   "outputs": [
    {
     "data": {
      "text/plain": [
       "(10000,)"
      ]
     },
<<<<<<< HEAD
     "execution_count": 117,
=======
     "execution_count": 18,
>>>>>>> 465c7e6b7893226eeaa6ecd42108701a3bb754d4
     "metadata": {},
     "output_type": "execute_result"
    }
   ],
   "source": [
    "# Verificando\n",
    "y_test.shape"
   ]
  },
  {
   "cell_type": "markdown",
   "metadata": {},
   "source": [
    "### Embaralhando os Dados "
   ]
  },
  {
   "cell_type": "markdown",
   "metadata": {},
   "source": [
    "Aplicar este processo é muito importante para garantir que todas as ```cross-validation``` sejam similares. Não é desejado que em um ```fold``` do cross-validation esteja faltando algum digito. Além disso, alguns algoritmos são sensíveis à ordem das instâncias durante o treinamento, performando mal se encontrarem instâncias iguais em uma mesma leva. O Shuffling (ou embaralhamento) dos dados evita este processo."
   ]
  },
  {
   "cell_type": "code",
<<<<<<< HEAD
   "execution_count": 118,
=======
   "execution_count": 19,
>>>>>>> 465c7e6b7893226eeaa6ecd42108701a3bb754d4
   "metadata": {},
   "outputs": [],
   "source": [
    "# Aplicando shuffling\n",
    "import numpy as np\n",
    "\n",
    "shuffle_index = np.random.permutation(60000)\n",
    "X_train, y_train = X_train[shuffle_index], y_train[shuffle_index]"
   ]
  },
  {
   "cell_type": "markdown",
   "metadata": {},
   "source": [
    "Verificando resultados do métoodo ```permutation()``` e da variável shuffle_index."
   ]
  },
  {
   "cell_type": "code",
<<<<<<< HEAD
   "execution_count": 119,
=======
   "execution_count": 20,
>>>>>>> 465c7e6b7893226eeaa6ecd42108701a3bb754d4
   "metadata": {},
   "outputs": [
    {
     "data": {
      "text/plain": [
<<<<<<< HEAD
       "array([48001, 55135, 17297, ..., 43321, 33376,  8790])"
      ]
     },
     "execution_count": 119,
=======
       "array([34963,  9665, 39474, ..., 59600, 19716, 14259])"
      ]
     },
     "execution_count": 20,
>>>>>>> 465c7e6b7893226eeaa6ecd42108701a3bb754d4
     "metadata": {},
     "output_type": "execute_result"
    }
   ],
   "source": [
    "# O que seria np.random.permutation?\n",
    "np.random.permutation(60000)"
   ]
  },
  {
   "cell_type": "code",
<<<<<<< HEAD
   "execution_count": 120,
=======
   "execution_count": 21,
>>>>>>> 465c7e6b7893226eeaa6ecd42108701a3bb754d4
   "metadata": {},
   "outputs": [
    {
     "data": {
      "text/plain": [
<<<<<<< HEAD
       "array([ 8537, 51164, 51809, ..., 11872, 26042, 50029])"
      ]
     },
     "execution_count": 120,
=======
       "array([23993, 38395, 33469, ..., 45018, 38100,   996])"
      ]
     },
     "execution_count": 21,
>>>>>>> 465c7e6b7893226eeaa6ecd42108701a3bb754d4
     "metadata": {},
     "output_type": "execute_result"
    }
   ],
   "source": [
    "# shuffle_index\n",
    "shuffle_index"
   ]
  },
  {
   "cell_type": "markdown",
   "metadata": {},
   "source": [
    "Indexar os datasets com ```shuffle_index``` significa embaralhar os índices de cada um deles de maneira aleatório, selecionando os dados e modificando a ordem original dos elementos."
   ]
  },
  {
   "cell_type": "markdown",
   "metadata": {},
   "source": [
    "# Treinando um Classificador Binário"
   ]
  },
  {
   "cell_type": "markdown",
   "metadata": {},
   "source": [
    "Agora que já estamos familiarizados com o MNIST e, dada as aplicações de alguns conceitos preparatórios, o primeiro passo para adentar em problemas de classificação é trabalhar em uma espécie de classificador binário.\n",
    "\n",
    "Em outras palavras, iremos criar um modelo que responde apenas \"Sim\" ou \"Não\" para uma pergunta do tipo: \"Este número equivale ao numeral X?\". No caso, será escolhido o numeral **5** como alvo da análise e será treinado um algoritmo \"Classificador de 5s\"."
   ]
  },
  {
   "cell_type": "code",
<<<<<<< HEAD
   "execution_count": 121,
=======
   "execution_count": 26,
   "metadata": {},
   "outputs": [
    {
     "data": {
      "text/plain": [
       "array([3., 6., 5., 8., 4.])"
      ]
     },
     "execution_count": 26,
     "metadata": {},
     "output_type": "execute_result"
    }
   ],
   "source": [
    "y_train[:5]"
   ]
  },
  {
   "cell_type": "code",
   "execution_count": 27,
>>>>>>> 465c7e6b7893226eeaa6ecd42108701a3bb754d4
   "metadata": {},
   "outputs": [],
   "source": [
    "# Separando um dígito alvo\n",
    "y_train_5 = (y_train == 5) # Verdadeiro para todos os 5s, Falso para o resto.\n",
    "y_test_5 = (y_test == 5)"
   ]
  },
  {
   "cell_type": "code",
<<<<<<< HEAD
   "execution_count": 122,
=======
   "execution_count": 28,
>>>>>>> 465c7e6b7893226eeaa6ecd42108701a3bb754d4
   "metadata": {},
   "outputs": [
    {
     "data": {
      "text/plain": [
<<<<<<< HEAD
       "array([False, False, False, ..., False, False, False])"
      ]
     },
     "execution_count": 122,
=======
       "array([False, False,  True, ..., False, False, False])"
      ]
     },
     "execution_count": 28,
>>>>>>> 465c7e6b7893226eeaa6ecd42108701a3bb754d4
     "metadata": {},
     "output_type": "execute_result"
    }
   ],
   "source": [
    "# Verificando\n",
    "y_train_5"
   ]
  },
  {
   "cell_type": "code",
<<<<<<< HEAD
   "execution_count": 123,
=======
   "execution_count": 32,
>>>>>>> 465c7e6b7893226eeaa6ecd42108701a3bb754d4
   "metadata": {},
   "outputs": [
    {
     "data": {
      "text/plain": [
<<<<<<< HEAD
       "8.0"
      ]
     },
     "execution_count": 123,
=======
       "5.0"
      ]
     },
     "execution_count": 32,
>>>>>>> 465c7e6b7893226eeaa6ecd42108701a3bb754d4
     "metadata": {},
     "output_type": "execute_result"
    }
   ],
   "source": [
    "# O terceiro número (False) é um 5?\n",
    "y_train[2]"
   ]
  },
  {
   "cell_type": "code",
<<<<<<< HEAD
   "execution_count": 124,
=======
   "execution_count": 33,
>>>>>>> 465c7e6b7893226eeaa6ecd42108701a3bb754d4
   "metadata": {},
   "outputs": [
    {
     "data": {
      "text/plain": [
<<<<<<< HEAD
       "8.0"
      ]
     },
     "execution_count": 124,
=======
       "0.0"
      ]
     },
     "execution_count": 33,
>>>>>>> 465c7e6b7893226eeaa6ecd42108701a3bb754d4
     "metadata": {},
     "output_type": "execute_result"
    }
   ],
   "source": [
    "# E o último número (True)?\n",
    "y_train[-1]"
   ]
  },
  {
   "cell_type": "markdown",
   "metadata": {},
   "source": [
    "Como modelo, será utilizado o ```SGDClassifier```, sendo capaz de tratar com eficiente grandes datasets."
   ]
  },
  {
   "cell_type": "code",
<<<<<<< HEAD
   "execution_count": 125,
=======
   "execution_count": 34,
>>>>>>> 465c7e6b7893226eeaa6ecd42108701a3bb754d4
   "metadata": {},
   "outputs": [
    {
     "name": "stderr",
     "output_type": "stream",
     "text": [
      "C:\\Users\\thiagoPanini\\Anaconda3\\lib\\site-packages\\sklearn\\linear_model\\stochastic_gradient.py:128: FutureWarning: max_iter and tol parameters have been added in <class 'sklearn.linear_model.stochastic_gradient.SGDClassifier'> in 0.19. If both are left unset, they default to max_iter=5 and tol=None. If tol is not None, max_iter defaults to max_iter=1000. From 0.21, default max_iter will be 1000, and default tol will be 1e-3.\n",
      "  \"and default tol will be 1e-3.\" % type(self), FutureWarning)\n"
     ]
    },
    {
     "data": {
      "text/plain": [
       "SGDClassifier(alpha=0.0001, average=False, class_weight=None, epsilon=0.1,\n",
       "       eta0=0.0, fit_intercept=True, l1_ratio=0.15,\n",
       "       learning_rate='optimal', loss='hinge', max_iter=None, n_iter=None,\n",
       "       n_jobs=1, penalty='l2', power_t=0.5, random_state=42, shuffle=True,\n",
       "       tol=None, verbose=0, warm_start=False)"
      ]
     },
<<<<<<< HEAD
     "execution_count": 125,
=======
     "execution_count": 34,
>>>>>>> 465c7e6b7893226eeaa6ecd42108701a3bb754d4
     "metadata": {},
     "output_type": "execute_result"
    }
   ],
   "source": [
    "# Importando biblioteca e treinando modelo\n",
    "from sklearn.linear_model import SGDClassifier\n",
    "\n",
    "sgd_clf = SGDClassifier(random_state=42)\n",
    "sgd_clf.fit(X_train, y_train_5)"
   ]
  },
  {
   "cell_type": "markdown",
   "metadata": {},
   "source": [
    "Para verificar, a princípio, o resultado do treinamento, vamos voltar ao que tínhamos com a variável ```some_digit```"
   ]
  },
  {
   "cell_type": "code",
<<<<<<< HEAD
   "execution_count": 126,
=======
   "execution_count": 41,
>>>>>>> 465c7e6b7893226eeaa6ecd42108701a3bb754d4
   "metadata": {},
   "outputs": [
    {
     "data": {
      "image/png": "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\n",
      "text/plain": [
<<<<<<< HEAD
       "<matplotlib.figure.Figure at 0x1cee0116400>"
=======
       "<matplotlib.figure.Figure at 0x1ced32e0550>"
>>>>>>> 465c7e6b7893226eeaa6ecd42108701a3bb754d4
      ]
     },
     "metadata": {
      "needs_background": "light"
     },
     "output_type": "display_data"
    }
   ],
   "source": [
    "# Preparando visualização\n",
    "some_digit = X[36000]\n",
    "some_digit_image = some_digit.reshape(28, 28)\n",
    "\n",
    "plt.imshow(some_digit_image, cmap = matplotlib.cm.binary, interpolation = 'nearest')\n",
    "plt.axis('off')\n",
    "plt.show()"
   ]
  },
  {
   "cell_type": "code",
<<<<<<< HEAD
   "execution_count": 127,
=======
   "execution_count": 36,
>>>>>>> 465c7e6b7893226eeaa6ecd42108701a3bb754d4
   "metadata": {},
   "outputs": [
    {
     "data": {
      "text/plain": [
       "5.0"
      ]
     },
<<<<<<< HEAD
     "execution_count": 127,
=======
     "execution_count": 36,
>>>>>>> 465c7e6b7893226eeaa6ecd42108701a3bb754d4
     "metadata": {},
     "output_type": "execute_result"
    }
   ],
   "source": [
    "# Como já visto, o elemento 36000 do dataset é um 5\n",
    "y[36000]"
   ]
  },
  {
   "cell_type": "code",
<<<<<<< HEAD
   "execution_count": 128,
=======
   "execution_count": 37,
>>>>>>> 465c7e6b7893226eeaa6ecd42108701a3bb754d4
   "metadata": {},
   "outputs": [
    {
     "data": {
      "text/plain": [
       "array([ True])"
      ]
     },
<<<<<<< HEAD
     "execution_count": 128,
=======
     "execution_count": 37,
>>>>>>> 465c7e6b7893226eeaa6ecd42108701a3bb754d4
     "metadata": {},
     "output_type": "execute_result"
    }
   ],
   "source": [
    "# Mas será que o algoritmo reconhece?\n",
    "sgd_clf.predict([some_digit])"
   ]
  },
  {
<<<<<<< HEAD
=======
   "cell_type": "code",
   "execution_count": 38,
   "metadata": {},
   "outputs": [
    {
     "data": {
      "image/png": "iVBORw0KGgoAAAANSUhEUgAAAP8AAAD8CAYAAAC4nHJkAAAABHNCSVQICAgIfAhkiAAAAAlwSFlzAAALEgAACxIB0t1+/AAAADl0RVh0U29mdHdhcmUAbWF0cGxvdGxpYiB2ZXJzaW9uIDIuMS4yLCBodHRwOi8vbWF0cGxvdGxpYi5vcmcvNQv5yAAABXFJREFUeJzt3S+L1F0fgPF7b0QwiLAgLlhEsRgEg0HxDQgmwWxQsRsFi2LxDWjZahODbLIYVIyiwWpwEQwWxb/IPOUJT5kz++zcM3rv9fnU78w5v+DFCcff7MpkMvkL6Pn7dz8A8HuIH6LED1HihyjxQ5T4IUr8ECV+iBI/RO1a8n7+OyEs3spWPuTkhyjxQ5T4IUr8ECV+iBI/RIkfosQPUeKHKPFDlPghSvwQJX6IEj9EiR+ixA9R4oco8UOU+CFK/BAlfogSP0SJH6LED1HihyjxQ5T4IUr8ECV+iBI/RIkfosQPUeKHKPFDlPghSvwQJX6IEj9EiR+ixA9R4oco8UOU+CFK/BAlfogSP0SJH6LED1HihyjxQ5T4IUr8ECV+iNr1ux+Axfr8+fNwPplM5lp/Y2NjOH/16tVc64+sr68P5+fPn586u3PnzvC7e/fu3dYz/Zs4+SFK/BAlfogSP0SJH6LED1Hih6iVee95/09L3ex//fr1azj/8OHDcP7w4cOps9XV1eF3nz9/Ppwv0r1794bznz9/LulJ/izv378fztfW1pb0JAuxspUPOfkhSvwQJX6IEj9EiR+ixA9R4oeozPv8Hz9+HM5Pnz49nL99+/YffBqWYd++fVNnu3Zl/ulP5eSHKPFDlPghSvwQJX6IEj9EiR+iMu/zz/Lp06fh/OrVq1Nnb968+acfZ2muX78+nK+sbOnV8G25ffv2cP7y5cu51n/06NHU2blz5+Za+w/nfX5gOvFDlPghSvwQJX6IEj9EiR+ivNT8X7P+Hvv9+/eX9CT/Ll+/fh3ONzY2ps42Nzfn2nv//v3D+YkTJ+Zaf6dz8kOU+CFK/BAlfogSP0SJH6Jc9TGXd+/eDecXLlxY2N6XL18ezg8ePLiwvXcCJz9EiR+ixA9R4oco8UOU+CFK/BDlnp+5rK+vL2ztM2fODOc3btxY2N4FTn6IEj9EiR+ixA9R4oco8UOU+CHKPT9DX758Gc6fPXu2sL1n3fPv2bNnYXsXOPkhSvwQJX6IEj9EiR+ixA9R4oco9/wM3bp1azh/+vTpttee9bv6V65c2fbazObkhyjxQ5T4IUr8ECV+iBI/RIkfotzzx/348WM4f/LkycL2vnv37nB++PDhhe2Nkx+yxA9R4oco8UOU+CFK/BDlqi/u+/fvw/mLFy/mWn9tbW3q7NixY3OtzXyc/BAlfogSP0SJH6LED1HihyjxQ5R7/rjHjx8vdP2LFy9OnR05cmShezPm5Ico8UOU+CFK/BAlfogSP0SJH6JWJpPJMvdb6mbMdvz48eH89evXw/mBAweG89HvARw6dGj4XbZtZSsfcvJDlPghSvwQJX6IEj9EiR+ixA9R3uff4Wb9GexZ9/izHD16dDh3l//ncvJDlPghSvwQJX6IEj9EiR+iXPXtAJubm1Nn165dW+jely5dWuj6LI6TH6LED1HihyjxQ5T4IUr8ECV+iHLPvwM8ePBg6uzbt29zrb26ujqcnz17dq71+X2c/BAlfogSP0SJH6LED1HihyjxQ5R7foZ27949nM/6E938uZz8ECV+iBI/RIkfosQPUeKHKPFDlPghSvwQJX6IEj9EiR+ixA9R4oco8UOU+CFK/BAlfogSP0SJH6LED1Hihyg/3b0DnDx5cups1k9vnzp1aji/efPmtp6JP5+TH6LED1HihyjxQ5T4IUr8ECV+iFqZTCbL3G+pm0HUylY+5OSHKPFDlPghSvwQJX6IEj9EiR+ilv0+/5buH4HFc/JDlPghSvwQJX6IEj9EiR+ixA9R4oco8UOU+CFK/BAlfogSP0SJH6LED1HihyjxQ5T4IUr8ECV+iBI/RIkfosQPUf8BBAmWA9o3eJ4AAAAASUVORK5CYII=\n",
      "text/plain": [
       "<matplotlib.figure.Figure at 0x1ced719dba8>"
      ]
     },
     "metadata": {
      "needs_background": "light"
     },
     "output_type": "display_data"
    }
   ],
   "source": [
    "some_digit = X[46000]\n",
    "some_digit_image = some_digit.reshape(28, 28)\n",
    "\n",
    "plt.imshow(some_digit_image, cmap = matplotlib.cm.binary, interpolation = 'nearest')\n",
    "plt.axis('off')\n",
    "plt.show()"
   ]
  },
  {
   "cell_type": "code",
   "execution_count": 39,
   "metadata": {},
   "outputs": [
    {
     "data": {
      "text/plain": [
       "7.0"
      ]
     },
     "execution_count": 39,
     "metadata": {},
     "output_type": "execute_result"
    }
   ],
   "source": [
    "y[46000]"
   ]
  },
  {
   "cell_type": "code",
   "execution_count": 40,
   "metadata": {},
   "outputs": [
    {
     "data": {
      "text/plain": [
       "array([False])"
      ]
     },
     "execution_count": 40,
     "metadata": {},
     "output_type": "execute_result"
    }
   ],
   "source": [
    "sgd_clf.predict([some_digit])"
   ]
  },
  {
>>>>>>> 465c7e6b7893226eeaa6ecd42108701a3bb754d4
   "cell_type": "markdown",
   "metadata": {},
   "source": [
    "O modelo previu corretamente. Realmente o \"Classificador de 5s\" funcionou para este caso. Vamos avaliar sua performance."
   ]
  },
  {
   "cell_type": "markdown",
   "metadata": {},
   "source": [
    "# Avaliando Performance"
   ]
  },
  {
   "cell_type": "markdown",
   "metadata": {},
   "source": [
    "Para modelos de Classificação, serão apresentadas diversas maneiras de medir a performance de um algoritmo treinado."
   ]
  },
  {
   "cell_type": "markdown",
   "metadata": {},
   "source": [
    "## Accuracy"
   ]
  },
  {
   "cell_type": "code",
<<<<<<< HEAD
   "execution_count": 129,
=======
   "execution_count": 42,
>>>>>>> 465c7e6b7893226eeaa6ecd42108701a3bb754d4
   "metadata": {},
   "outputs": [
    {
     "name": "stderr",
     "output_type": "stream",
     "text": [
      "C:\\Users\\thiagoPanini\\Anaconda3\\lib\\site-packages\\sklearn\\linear_model\\stochastic_gradient.py:128: FutureWarning: max_iter and tol parameters have been added in <class 'sklearn.linear_model.stochastic_gradient.SGDClassifier'> in 0.19. If both are left unset, they default to max_iter=5 and tol=None. If tol is not None, max_iter defaults to max_iter=1000. From 0.21, default max_iter will be 1000, and default tol will be 1e-3.\n",
      "  \"and default tol will be 1e-3.\" % type(self), FutureWarning)\n",
      "C:\\Users\\thiagoPanini\\Anaconda3\\lib\\site-packages\\sklearn\\linear_model\\stochastic_gradient.py:128: FutureWarning: max_iter and tol parameters have been added in <class 'sklearn.linear_model.stochastic_gradient.SGDClassifier'> in 0.19. If both are left unset, they default to max_iter=5 and tol=None. If tol is not None, max_iter defaults to max_iter=1000. From 0.21, default max_iter will be 1000, and default tol will be 1e-3.\n",
      "  \"and default tol will be 1e-3.\" % type(self), FutureWarning)\n",
      "C:\\Users\\thiagoPanini\\Anaconda3\\lib\\site-packages\\sklearn\\linear_model\\stochastic_gradient.py:128: FutureWarning: max_iter and tol parameters have been added in <class 'sklearn.linear_model.stochastic_gradient.SGDClassifier'> in 0.19. If both are left unset, they default to max_iter=5 and tol=None. If tol is not None, max_iter defaults to max_iter=1000. From 0.21, default max_iter will be 1000, and default tol will be 1e-3.\n",
      "  \"and default tol will be 1e-3.\" % type(self), FutureWarning)\n"
     ]
    },
    {
     "data": {
      "text/plain": [
<<<<<<< HEAD
       "array([0.96395, 0.96015, 0.96835])"
      ]
     },
     "execution_count": 129,
=======
       "array([0.96605, 0.93865, 0.96835])"
      ]
     },
     "execution_count": 42,
>>>>>>> 465c7e6b7893226eeaa6ecd42108701a3bb754d4
     "metadata": {},
     "output_type": "execute_result"
    }
   ],
   "source": [
    "# Importando módulos e realizando medições\n",
    "from sklearn.model_selection import cross_val_score\n",
    "\n",
    "cross_val_score(sgd_clf, X_train, y_train_5, cv=3, scoring='accuracy')"
   ]
  },
  {
   "cell_type": "markdown",
   "metadata": {},
   "source": [
    "O código acima exemplifica a avaliação do modelo  ```SGDClassifier()``` utilizando três ```folds``` através da validação cruzada. Lembrando que este processo trata da divisão do set de treinamento em K-folds (neste caso, três), ou seja, subconjuntos compostos por dados de treino e de \"verificação\". Em um batch de processamento, é realizado o treinamento do modelo em um subconjunto desses dados com a subsequente verificação realizada no fold restante. Após isso, mais um batch de folds é separado e o processo é repetido tal que, no final, todos os folds serão treinados e a avaliação será feita em todos os folds."
   ]
  },
  {
   "cell_type": "markdown",
   "metadata": {},
   "source": [
    "Antes de ficarmos animados com os índices superiores a 95% de performance, vamos avaliar um segundo classificador de ```não-5s```"
   ]
  },
  {
   "cell_type": "code",
<<<<<<< HEAD
   "execution_count": 130,
=======
   "execution_count": 43,
>>>>>>> 465c7e6b7893226eeaa6ecd42108701a3bb754d4
   "metadata": {},
   "outputs": [],
   "source": [
    "# Classificando não-5s\n",
    "from sklearn.base import BaseEstimator\n",
    "\n",
    "class Never5Classifier(BaseEstimator):\n",
    "    def fit(self, X, y=None):\n",
    "        pass\n",
    "    def predict(self, X):\n",
    "        return np.zeros((len(X), 1), dtype=bool)"
   ]
  },
  {
   "cell_type": "code",
<<<<<<< HEAD
   "execution_count": 131,
=======
   "execution_count": 44,
>>>>>>> 465c7e6b7893226eeaa6ecd42108701a3bb754d4
   "metadata": {},
   "outputs": [
    {
     "data": {
      "text/plain": [
<<<<<<< HEAD
       "array([0.9084 , 0.90875, 0.9118 ])"
      ]
     },
     "execution_count": 131,
=======
       "array([0.90935, 0.90875, 0.91085])"
      ]
     },
     "execution_count": 44,
>>>>>>> 465c7e6b7893226eeaa6ecd42108701a3bb754d4
     "metadata": {},
     "output_type": "execute_result"
    }
   ],
   "source": [
    "# Realizando o mesmo procedimento\n",
    "never_5_clf = Never5Classifier()\n",
    "cross_val_score(never_5_clf, X_train, y_train_5, cv=3, scoring='accuracy')"
   ]
  },
  {
   "cell_type": "markdown",
   "metadata": {},
   "source": [
    "Bom, chegamos a uma acurácia de pouco mais de 90%. Isto se deu pois apenas aproximadamente 10% das imagens são 5s, portanto, se você SEMPRE predizer que uma imagem **não** é um 5, você estará certo 90% do tempo!"
   ]
  },
  {
   "cell_type": "markdown",
   "metadata": {},
   "source": [
    "    Isto demonstra que, no geral, a acurácia não é o meio mais adequado para medir a performance de classificadores."
   ]
  },
  {
   "cell_type": "markdown",
   "metadata": {},
   "source": [
    "## Confusion Matrix"
   ]
  },
  {
   "cell_type": "markdown",
   "metadata": {},
   "source": [
    "Para computar a Matriz de Confusão, é necessário possuir um set de _predictions_ para que estes sejam comparados aos valores _target_. Para tal, seria possível realizar predições no set de teste, entretanto, a ideia é deixa-lo intocável o tanto quanto possível. Dessa forma, os valores serão obtidos através de predições nos próprios dados de treinamenteo.\n",
    "\n",
    "Para reunis *predições* ao invés de *scores*, basta mudar o método ```cross_val_scores()``` para ```cross_val_predict```."
   ]
  },
  {
   "cell_type": "code",
<<<<<<< HEAD
   "execution_count": 132,
=======
   "execution_count": 45,
>>>>>>> 465c7e6b7893226eeaa6ecd42108701a3bb754d4
   "metadata": {},
   "outputs": [
    {
     "name": "stderr",
     "output_type": "stream",
     "text": [
      "C:\\Users\\thiagoPanini\\Anaconda3\\lib\\site-packages\\sklearn\\linear_model\\stochastic_gradient.py:128: FutureWarning: max_iter and tol parameters have been added in <class 'sklearn.linear_model.stochastic_gradient.SGDClassifier'> in 0.19. If both are left unset, they default to max_iter=5 and tol=None. If tol is not None, max_iter defaults to max_iter=1000. From 0.21, default max_iter will be 1000, and default tol will be 1e-3.\n",
      "  \"and default tol will be 1e-3.\" % type(self), FutureWarning)\n",
      "C:\\Users\\thiagoPanini\\Anaconda3\\lib\\site-packages\\sklearn\\linear_model\\stochastic_gradient.py:128: FutureWarning: max_iter and tol parameters have been added in <class 'sklearn.linear_model.stochastic_gradient.SGDClassifier'> in 0.19. If both are left unset, they default to max_iter=5 and tol=None. If tol is not None, max_iter defaults to max_iter=1000. From 0.21, default max_iter will be 1000, and default tol will be 1e-3.\n",
      "  \"and default tol will be 1e-3.\" % type(self), FutureWarning)\n",
      "C:\\Users\\thiagoPanini\\Anaconda3\\lib\\site-packages\\sklearn\\linear_model\\stochastic_gradient.py:128: FutureWarning: max_iter and tol parameters have been added in <class 'sklearn.linear_model.stochastic_gradient.SGDClassifier'> in 0.19. If both are left unset, they default to max_iter=5 and tol=None. If tol is not None, max_iter defaults to max_iter=1000. From 0.21, default max_iter will be 1000, and default tol will be 1e-3.\n",
      "  \"and default tol will be 1e-3.\" % type(self), FutureWarning)\n"
     ]
    }
   ],
   "source": [
    "# Predições altenartivas\n",
    "from sklearn.model_selection import cross_val_predict\n",
    "\n",
    "y_train_pred = cross_val_predict(sgd_clf, X_train, y_train_5, cv=3)"
   ]
  },
  {
   "cell_type": "code",
<<<<<<< HEAD
   "execution_count": 133,
=======
   "execution_count": 46,
>>>>>>> 465c7e6b7893226eeaa6ecd42108701a3bb754d4
   "metadata": {},
   "outputs": [
    {
     "data": {
      "text/plain": [
<<<<<<< HEAD
       "array([[53896,   683],\n",
       "       [ 1468,  3953]], dtype=int64)"
      ]
     },
     "execution_count": 133,
=======
       "array([[53275,  1304],\n",
       "       [ 1235,  4186]], dtype=int64)"
      ]
     },
     "execution_count": 46,
>>>>>>> 465c7e6b7893226eeaa6ecd42108701a3bb754d4
     "metadata": {},
     "output_type": "execute_result"
    }
   ],
   "source": [
    "# Verificando matriz de confusão\n",
    "from sklearn.metrics import confusion_matrix\n",
    "\n",
    "confusion_matrix(y_train_5, y_train_pred)"
   ]
  },
  {
   "cell_type": "markdown",
   "metadata": {},
   "source": [
    "Explicando a Matriz de Confusão:\n",
    "    - Cada linha representa uma classe target;\n",
    "    - Cada coluna representa uma classe predita;\n",
    "    \n",
    "    - A primeira linha considera imagens \"não-5s\" (classe negativa);\n",
    "        - +53.000 imagens foram corretamente classificadas como \"não-5s\" (verdadeiro negativo);\n",
    "        - +1000 imagens foram incorretamente classificadas como \"5s\" (falso positivo);\n",
    "    - A segunda linha considera imagens de \"5s\" (classe positivva);\n",
    "        - +1200 imagens foram incorretamente classificadas como \"não-5s\" (falso negativo);\n",
    "        - +4000 imagens foram corretamente classificadas como \"5s\" (verdadeiro positivo);"
   ]
  },
  {
   "cell_type": "markdown",
   "metadata": {},
   "source": [
    "Uma outra forma de pensar:\n",
    "    \n",
    "Primeira coluna - **não-5**\n",
    "        - Primeira linha: corretamente (True Negative - Verdadeiro Negativo);\n",
    "        - Segunda linha: incorretamente (False Negative - Falso Negativo);\n",
    "    \n",
    "Segunda coluna - **5**\n",
    "        - Primeira linha: incorretamente (False Positive - Falso Positivo);\n",
    "        - Segunda linha: corretamente (True Positive - Verdadeiro Positivo)."
   ]
  },
  {
   "cell_type": "code",
<<<<<<< HEAD
   "execution_count": 134,
=======
   "execution_count": 47,
>>>>>>> 465c7e6b7893226eeaa6ecd42108701a3bb754d4
   "metadata": {},
   "outputs": [
    {
     "data": {
      "text/plain": [
       "array([[54579,     0],\n",
       "       [    0,  5421]])"
      ]
     },
<<<<<<< HEAD
     "execution_count": 134,
=======
     "execution_count": 47,
>>>>>>> 465c7e6b7893226eeaa6ecd42108701a3bb754d4
     "metadata": {},
     "output_type": "execute_result"
    }
   ],
   "source": [
    "# Exemplo de classificador perfeito\n",
    "\n",
    "np.array([[54579, 0], [0, 5421]])"
   ]
  },
  {
   "cell_type": "markdown",
   "metadata": {},
   "source": [
    "## Precision"
   ]
  },
  {
   "cell_type": "markdown",
   "metadata": {},
   "source": [
    "    - Indica o quão acertivo é o modelo. Por exemplo, dos itens classificados como 5, quantos realmente são 5?"
   ]
  },
  {
   "attachments": {
    "image.png": {
     "image/png": "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"
    }
   },
   "cell_type": "markdown",
   "metadata": {},
   "source": [
    "![image.png](attachment:image.png)"
   ]
  },
  {
   "cell_type": "markdown",
   "metadata": {},
   "source": [
    "    - Onde:\n",
    "           - TP = True Positives (5 = 5)\n",
    "           - FP = False Positives (não-5 = 5)"
   ]
  },
  {
   "cell_type": "markdown",
   "metadata": {},
   "source": [
    "Sozinho, o índice de _precision_ não diz muito. Normalmente é utilizado junto a outro índice conhecido como _recall_."
   ]
  },
  {
   "cell_type": "markdown",
   "metadata": {},
   "source": [
    "## Recall"
   ]
  },
  {
   "cell_type": "markdown",
   "metadata": {},
   "source": [
    "    - Indica algo relacionado a taxa de detecção do algorítmo. De todos os 5s, quantos realmente foram classificados como 5?"
   ]
  },
  {
   "attachments": {
    "image.png": {
     "image/png": "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"
    }
   },
   "cell_type": "markdown",
   "metadata": {},
   "source": [
    "![image.png](attachment:image.png)"
   ]
  },
  {
   "cell_type": "markdown",
   "metadata": {},
   "source": [
    "    - Onde:\n",
    "            - TP = True Positives (5 = 5)\n",
    "            - FN = False Negatives (5 = não-5)"
   ]
  },
  {
   "attachments": {
    "ch3recall.png": {
     "image/png": "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"
    }
   },
   "cell_type": "markdown",
   "metadata": {},
   "source": [
    "![ch3recall.png](attachment:ch3recall.png)"
   ]
  },
  {
   "cell_type": "markdown",
   "metadata": {},
   "source": [
    "## Precision and Recall"
   ]
  },
  {
   "cell_type": "markdown",
   "metadata": {},
   "source": [
    "O módulo ```sklearn.metrics``` possui uma série de indicadores para medição de performance. Entre eles, ```precision``` and ```recal```."
   ]
  },
  {
   "cell_type": "code",
<<<<<<< HEAD
   "execution_count": 135,
=======
   "execution_count": 48,
>>>>>>> 465c7e6b7893226eeaa6ecd42108701a3bb754d4
   "metadata": {},
   "outputs": [
    {
     "data": {
      "text/plain": [
<<<<<<< HEAD
       "array([[53896,   683],\n",
       "       [ 1468,  3953]], dtype=int64)"
      ]
     },
     "execution_count": 135,
=======
       "array([[53275,  1304],\n",
       "       [ 1235,  4186]], dtype=int64)"
      ]
     },
     "execution_count": 48,
>>>>>>> 465c7e6b7893226eeaa6ecd42108701a3bb754d4
     "metadata": {},
     "output_type": "execute_result"
    }
   ],
   "source": [
    "# Visualizando novaamente a matriz de confusão\n",
    "confusion_matrix(y_train_5, y_train_pred)"
   ]
  },
  {
   "cell_type": "code",
<<<<<<< HEAD
   "execution_count": 136,
=======
   "execution_count": 49,
>>>>>>> 465c7e6b7893226eeaa6ecd42108701a3bb754d4
   "metadata": {},
   "outputs": [
    {
     "name": "stdout",
     "output_type": "stream",
     "text": [
<<<<<<< HEAD
      "Precision: 0.8526747195858498\n",
      "Recall: 0.7292012543811105\n"
=======
      "Precision: 0.7624772313296904\n",
      "Recall: 0.7721822541966427\n"
>>>>>>> 465c7e6b7893226eeaa6ecd42108701a3bb754d4
     ]
    }
   ],
   "source": [
    "# Importando métricas\n",
    "from sklearn.metrics import precision_score, recall_score\n",
    "\n",
    "print(f'Precision: {precision_score(y_train_5, y_train_pred)}') # = 4029 / 4029 + 735'\n",
    "print(f'Recall: {recall_score(y_train_5, y_train_pred)}') # = 4029 / 4029 + 1392}'"
   ]
  },
  {
   "cell_type": "markdown",
   "metadata": {},
   "source": [
    "Note que agora o classificador não parece tão interessante quanto antigamente. Possui 85% de precisão de 74% de recall. Em outras palavras, classifica corretamente um 5 em 85% das vezes, enquanto detecta apenas 74% dos 5s."
   ]
  },
  {
   "cell_type": "markdown",
   "metadata": {},
   "source": [
    "## F1 Score"
   ]
  },
  {
   "cell_type": "markdown",
   "metadata": {},
   "source": [
    "O índice ```f1score``` nada mais é do que uma combinação fiel entre ```precision``` e ```recall```. Fórmula:"
   ]
  },
  {
   "attachments": {
    "image.png": {
     "image/png": "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"
    }
   },
   "cell_type": "markdown",
   "metadata": {},
   "source": [
    "![image.png](attachment:image.png)"
   ]
  },
  {
   "cell_type": "code",
<<<<<<< HEAD
   "execution_count": 137,
=======
   "execution_count": 50,
>>>>>>> 465c7e6b7893226eeaa6ecd42108701a3bb754d4
   "metadata": {},
   "outputs": [
    {
     "data": {
      "text/plain": [
<<<<<<< HEAD
       "0.7861191210102416"
      ]
     },
     "execution_count": 137,
=======
       "0.7672990559985337"
      ]
     },
     "execution_count": 50,
>>>>>>> 465c7e6b7893226eeaa6ecd42108701a3bb754d4
     "metadata": {},
     "output_type": "execute_result"
    }
   ],
   "source": [
    "# Computando f1_score\n",
    "from sklearn.metrics import f1_score\n",
    "\n",
    "f1_score(y_train_5, y_train_pred)"
   ]
  },
  {
   "cell_type": "markdown",
   "metadata": {},
   "source": [
    "O ```f1_score``` favorece classificadores que possuem índices de precision e recall bem próximos. Porém, isto não é sempre o desejado.    "
   ]
  },
  {
   "cell_type": "markdown",
   "metadata": {},
   "source": [
    "## Precision/Recall Tradeoff"
   ]
  },
  {
   "cell_type": "markdown",
   "metadata": {},
   "source": [
    "Como visto, tanto o Precision quando o Recall são dois índices extremamente importantes na análise de resultados. Entretando, ambos possuem uma espécie de \"troca\". Veja alguns exemplos:\n",
    "\n",
    "* **Classificador para detectar conteúdo impróprio para crianças: **\n",
    "    - Preferível um algoritmo que rejeita bons vídeos (baixo recall), mas mantém sempre os vídeos seguros (alta precisão)\n",
    "    - Imagine um modelo que não rejeite bons vídeos (alto recall) mas que deixe alguns vídeos ruins passarem (baixa precisão). Péssimo.\n",
    "\n",
    "\n",
    "* **Classificador para detectar ladrões em vídeos de segurança:**\n",
    "    - Preferível um modelo menos preciso, contanto que o recall seja extremamente elvado.\n",
    "    - Isto significa que os guardas receberão alguns alarmes falsos, porém com certeza nenhum ladrão irá passar despercebido."
   ]
  },
  {
   "attachments": {
    "precision_recall_threshold.png": {
     "image/png": "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"
    }
   },
   "cell_type": "markdown",
   "metadata": {},
   "source": [
    "![precision_recall_threshold.png](attachment:precision_recall_threshold.png)"
   ]
  },
  {
   "cell_type": "markdown",
   "metadata": {},
   "source": [
    "Situação 1 - Threshold no centro:\n",
    "    - Precision de 80% (5 imagens classificadas como \"cinco\", porém apenas 4 o são -> 4/5);\n",
    "    - Recall de 67% (De 6 \"cincos\", apenas 4 são classificados como tal -> 4/6);\n",
    "Situação 2 - Threshold à direita:\n",
    "    - Precision de 100% (3 imagens classificadas como \"cinco\", sendo as 3 acertadamente -> 3/3);\n",
    "    - Entretanto, Recall cai para 50%, uma vez que, de 6 \"cincos\", apenas 3 são ditos como um -> 3/6);\n",
    "Situação 1 - Threshold à esquerda:\n",
    "    - Precision de 75% (8 imagens presentes, sendo 6 delas classificadas como \"cinco\" -> 6/8);\n",
    "    - Recall de 100%, pois todos os 6 \"cincos\" foram classificados como tal -> 6/6)."
   ]
  },
  {
   "cell_type": "markdown",
   "metadata": {},
   "source": [
    "Ao invés de chamar o método ```predict()``` do classificador, há um outro método do scikit chamado ```decision_function()``` que, por sua vez, retorna um score para cada instância e faz predições baseadas nesses scores, utilizando qualquer threshold definido."
   ]
  },
  {
   "cell_type": "code",
<<<<<<< HEAD
   "execution_count": 185,
=======
   "execution_count": 51,
>>>>>>> 465c7e6b7893226eeaa6ecd42108701a3bb754d4
   "metadata": {},
   "outputs": [
    {
     "data": {
      "text/plain": [
       "5.0"
      ]
     },
<<<<<<< HEAD
     "execution_count": 185,
=======
     "execution_count": 51,
>>>>>>> 465c7e6b7893226eeaa6ecd42108701a3bb754d4
     "metadata": {},
     "output_type": "execute_result"
    }
   ],
   "source": [
    "# Lembra do some_digit?\n",
    "some_digit = X[36000]\n",
    "y[36000]"
   ]
  },
  {
   "cell_type": "code",
<<<<<<< HEAD
   "execution_count": 142,
=======
   "execution_count": 52,
>>>>>>> 465c7e6b7893226eeaa6ecd42108701a3bb754d4
   "metadata": {},
   "outputs": [
    {
     "data": {
      "text/plain": [
<<<<<<< HEAD
       "array([28514.26814943])"
      ]
     },
     "execution_count": 142,
=======
       "array([45576.98321787])"
      ]
     },
     "execution_count": 52,
>>>>>>> 465c7e6b7893226eeaa6ecd42108701a3bb754d4
     "metadata": {},
     "output_type": "execute_result"
    }
   ],
   "source": [
    "# Chamando decision function\n",
    "y_scores = sgd_clf.decision_function([some_digit])\n",
    "y_scores"
   ]
  },
  {
   "cell_type": "code",
<<<<<<< HEAD
   "execution_count": 143,
=======
   "execution_count": 53,
>>>>>>> 465c7e6b7893226eeaa6ecd42108701a3bb754d4
   "metadata": {},
   "outputs": [
    {
     "data": {
      "text/plain": [
       "array([ True])"
      ]
     },
<<<<<<< HEAD
     "execution_count": 143,
=======
     "execution_count": 53,
>>>>>>> 465c7e6b7893226eeaa6ecd42108701a3bb754d4
     "metadata": {},
     "output_type": "execute_result"
    }
   ],
   "source": [
    "# Modificando threshold\n",
    "threshold = 0 # Padrão\n",
    "y_some_digit_pred = (y_scores > threshold)\n",
    "y_some_digit_pred"
   ]
  },
  {
   "cell_type": "code",
<<<<<<< HEAD
   "execution_count": 146,
=======
   "execution_count": 54,
>>>>>>> 465c7e6b7893226eeaa6ecd42108701a3bb754d4
   "metadata": {},
   "outputs": [
    {
     "data": {
      "text/plain": [
       "array([ True])"
      ]
     },
<<<<<<< HEAD
     "execution_count": 146,
=======
     "execution_count": 54,
>>>>>>> 465c7e6b7893226eeaa6ecd42108701a3bb754d4
     "metadata": {},
     "output_type": "execute_result"
    }
   ],
   "source": [
    "# Modifiando threshold\n",
    "threshold = 20000\n",
    "y_some_digit_pred = (y_scores > threshold)\n",
    "y_some_digit_pred"
   ]
  },
  {
<<<<<<< HEAD
=======
   "cell_type": "code",
   "execution_count": 55,
   "metadata": {},
   "outputs": [
    {
     "data": {
      "text/plain": [
       "array([False])"
      ]
     },
     "execution_count": 55,
     "metadata": {},
     "output_type": "execute_result"
    }
   ],
   "source": [
    "# Modifiando threshold\n",
    "threshold = 50000\n",
    "y_some_digit_pred = (y_scores > threshold)\n",
    "y_some_digit_pred"
   ]
  },
  {
   "cell_type": "code",
   "execution_count": 64,
   "metadata": {},
   "outputs": [
    {
     "data": {
      "text/plain": [
       "0.0"
      ]
     },
     "execution_count": 64,
     "metadata": {},
     "output_type": "execute_result"
    }
   ],
   "source": [
    "another_digit = X[3030]\n",
    "y[50]"
   ]
  },
  {
   "cell_type": "code",
   "execution_count": 57,
   "metadata": {},
   "outputs": [
    {
     "data": {
      "text/plain": [
       "array([-592248.49128533])"
      ]
     },
     "execution_count": 57,
     "metadata": {},
     "output_type": "execute_result"
    }
   ],
   "source": [
    "y_scores = sgd_clf.decision_function([another_digit])\n",
    "y_scores"
   ]
  },
  {
   "cell_type": "code",
   "execution_count": null,
   "metadata": {},
   "outputs": [],
   "source": [
    "# Modifiando threshold\n",
    "threshold = 50000\n",
    "y_some_digit_pred = (y_scores > threshold)\n",
    "y_some_digit_pred"
   ]
  },
  {
>>>>>>> 465c7e6b7893226eeaa6ecd42108701a3bb754d4
   "cell_type": "markdown",
   "metadata": {},
   "source": [
    "Perceba que este *score* retornado por ```decision_function()``` pode ser exemplificado como uma posição em uma linha que descreve a classificação de 5s e não 5s (semelhante a mostrada acima). Se estivermos falando de um Verdadeiro Positivo (5 classificado como 5), qualquer threshold colocado **abaixo** do score relativo à este instância, não afetará a classificação.\n",
    "\n",
    "Entretando, colocar um threhsold **acima** do score destas instância (ou de qualquer outra instância TN), afetará o resultado. Em outras palavras, um Verdadeiro Positivo não mais será um Verdadeiro Positivo."
   ]
  },
  {
   "cell_type": "code",
<<<<<<< HEAD
   "execution_count": 147,
=======
   "execution_count": 39,
>>>>>>> 465c7e6b7893226eeaa6ecd42108701a3bb754d4
   "metadata": {},
   "outputs": [
    {
     "data": {
      "text/plain": [
       "array([False])"
      ]
     },
<<<<<<< HEAD
     "execution_count": 147,
=======
     "execution_count": 39,
>>>>>>> 465c7e6b7893226eeaa6ecd42108701a3bb754d4
     "metadata": {},
     "output_type": "execute_result"
    }
   ],
   "source": [
    "# Realizando mais testes\n",
    "threshold = 30000\n",
    "y_some_digit_pred = (y_scores > threshold)\n",
    "y_some_digit_pred"
   ]
  },
  {
   "cell_type": "code",
<<<<<<< HEAD
   "execution_count": 184,
=======
   "execution_count": 65,
>>>>>>> 465c7e6b7893226eeaa6ecd42108701a3bb754d4
   "metadata": {},
   "outputs": [
    {
     "name": "stdout",
     "output_type": "stream",
     "text": [
      "Dígito escolhido: 4.0\n",
<<<<<<< HEAD
      "Score relacionado: [-307877.98981228 -404541.80406011 -396493.35605788 ... -390287.14460535\n",
      " -292563.97185325 -628845.19713297]\n",
      "Predição com threhsold = -33820.3876646827: [False]\n"
=======
      "Score relacionado: [-592248.49128533]\n",
      "Predição com threhsold = -77380.96906805049: [False]\n"
>>>>>>> 465c7e6b7893226eeaa6ecd42108701a3bb754d4
     ]
    }
   ],
   "source": [
    "# Outro dígito\n",
    "rand = np.random.randint(60000)\n",
    "outro_digito = X[rand]\n",
    "print(f'Dígito escolhido: {y_train[rand]}')\n",
    "y_scores_outro = sgd_clf.decision_function([outro_digito])\n",
    "print(f'Score relacionado: {y_scores}')\n",
    "threshold = 100000 * np.random.randn()\n",
    "y_outro_digito_pred = (y_scores_outro > threshold)\n",
    "print(f'Predição com threhsold = {threshold}: {y_some_digit_pred}')"
   ]
  },
  {
   "cell_type": "markdown",
   "metadata": {},
   "source": [
    "Como definir o threshold mais adequado?\n",
    "    - Para tal, será necessário retornar os scores com cross_validation e plotar uma curva de precision e recall"
   ]
  },
  {
   "cell_type": "code",
<<<<<<< HEAD
   "execution_count": 149,
=======
   "execution_count": 66,
>>>>>>> 465c7e6b7893226eeaa6ecd42108701a3bb754d4
   "metadata": {},
   "outputs": [
    {
     "name": "stderr",
     "output_type": "stream",
     "text": [
      "C:\\Users\\thiagoPanini\\Anaconda3\\lib\\site-packages\\sklearn\\linear_model\\stochastic_gradient.py:128: FutureWarning: max_iter and tol parameters have been added in <class 'sklearn.linear_model.stochastic_gradient.SGDClassifier'> in 0.19. If both are left unset, they default to max_iter=5 and tol=None. If tol is not None, max_iter defaults to max_iter=1000. From 0.21, default max_iter will be 1000, and default tol will be 1e-3.\n",
      "  \"and default tol will be 1e-3.\" % type(self), FutureWarning)\n",
      "C:\\Users\\thiagoPanini\\Anaconda3\\lib\\site-packages\\sklearn\\linear_model\\stochastic_gradient.py:128: FutureWarning: max_iter and tol parameters have been added in <class 'sklearn.linear_model.stochastic_gradient.SGDClassifier'> in 0.19. If both are left unset, they default to max_iter=5 and tol=None. If tol is not None, max_iter defaults to max_iter=1000. From 0.21, default max_iter will be 1000, and default tol will be 1e-3.\n",
      "  \"and default tol will be 1e-3.\" % type(self), FutureWarning)\n",
      "C:\\Users\\thiagoPanini\\Anaconda3\\lib\\site-packages\\sklearn\\linear_model\\stochastic_gradient.py:128: FutureWarning: max_iter and tol parameters have been added in <class 'sklearn.linear_model.stochastic_gradient.SGDClassifier'> in 0.19. If both are left unset, they default to max_iter=5 and tol=None. If tol is not None, max_iter defaults to max_iter=1000. From 0.21, default max_iter will be 1000, and default tol will be 1e-3.\n",
      "  \"and default tol will be 1e-3.\" % type(self), FutureWarning)\n"
     ]
    },
    {
     "data": {
      "text/plain": [
<<<<<<< HEAD
       "array([-307877.98981228, -404541.80406011, -396493.35605788, ...,\n",
       "       -390287.14460535, -292563.97185325, -628845.19713297])"
      ]
     },
     "execution_count": 149,
=======
       "array([-457687.47825219, -366867.97168748,  145988.55993704, ...,\n",
       "       -379319.88903258, -808577.04951595, -621576.86543544])"
      ]
     },
     "execution_count": 66,
>>>>>>> 465c7e6b7893226eeaa6ecd42108701a3bb754d4
     "metadata": {},
     "output_type": "execute_result"
    }
   ],
   "source": [
    "# Calculando scores\n",
    "y_scores = cross_val_predict(sgd_clf, X_train, y_train_5, cv=3,\n",
    "                            method='decision_function')\n",
    "y_scores"
   ]
  },
  {
   "cell_type": "code",
<<<<<<< HEAD
   "execution_count": 150,
=======
   "execution_count": 68,
>>>>>>> 465c7e6b7893226eeaa6ecd42108701a3bb754d4
   "metadata": {},
   "outputs": [],
   "source": [
    "# Agora é possível plotar a curva de Precision vs Recall para todos os possíveis thresholds\n",
    "from sklearn.metrics import precision_recall_curve\n",
    "\n",
    "precisions, recalls, thresholds = precision_recall_curve(y_train_5, y_scores)"
   ]
  },
  {
   "cell_type": "code",
<<<<<<< HEAD
   "execution_count": 151,
=======
   "execution_count": 69,
>>>>>>> 465c7e6b7893226eeaa6ecd42108701a3bb754d4
   "metadata": {},
   "outputs": [
    {
     "data": {
      "text/plain": [
<<<<<<< HEAD
       "array([0.09062944, 0.09061424, 0.09061575, ..., 1.        , 1.        ,\n",
       "       1.        ])"
      ]
     },
     "execution_count": 151,
=======
       "array([0.09118894, 0.09117365, 0.09117518, ..., 1.        , 1.        ,\n",
       "       1.        ])"
      ]
     },
     "execution_count": 69,
>>>>>>> 465c7e6b7893226eeaa6ecd42108701a3bb754d4
     "metadata": {},
     "output_type": "execute_result"
    }
   ],
   "source": [
    "# Visualizando precisions\n",
    "precisions"
   ]
  },
  {
   "cell_type": "code",
<<<<<<< HEAD
   "execution_count": 152,
=======
   "execution_count": 70,
>>>>>>> 465c7e6b7893226eeaa6ecd42108701a3bb754d4
   "metadata": {},
   "outputs": [
    {
     "data": {
      "text/plain": [
       "array([1.00000000e+00, 9.99815532e-01, 9.99815532e-01, ...,\n",
       "       3.68935621e-04, 1.84467810e-04, 0.00000000e+00])"
      ]
     },
<<<<<<< HEAD
     "execution_count": 152,
=======
     "execution_count": 70,
>>>>>>> 465c7e6b7893226eeaa6ecd42108701a3bb754d4
     "metadata": {},
     "output_type": "execute_result"
    }
   ],
   "source": [
    "# Recalls\n",
    "recalls"
   ]
  },
  {
   "cell_type": "code",
<<<<<<< HEAD
   "execution_count": 153,
=======
   "execution_count": 71,
>>>>>>> 465c7e6b7893226eeaa6ecd42108701a3bb754d4
   "metadata": {},
   "outputs": [
    {
     "data": {
      "text/plain": [
<<<<<<< HEAD
       "array([-1867730.62589502, -1867555.54862453, -1867297.29040577, ...,\n",
       "         920481.80479509,  1012480.22269766,  1047297.65960033])"
      ]
     },
     "execution_count": 153,
=======
       "array([-1475330.5374214 , -1474901.92832385, -1474827.8483533 , ...,\n",
       "         935969.30610989,   973004.9630037 ,  1155343.68110677])"
      ]
     },
     "execution_count": 71,
>>>>>>> 465c7e6b7893226eeaa6ecd42108701a3bb754d4
     "metadata": {},
     "output_type": "execute_result"
    }
   ],
   "source": [
    "# Thresholds\n",
    "thresholds"
   ]
  },
  {
   "cell_type": "code",
<<<<<<< HEAD
   "execution_count": 154,
=======
   "execution_count": 72,
>>>>>>> 465c7e6b7893226eeaa6ecd42108701a3bb754d4
   "metadata": {},
   "outputs": [
    {
     "data": {
<<<<<<< HEAD
      "image/png": "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\n",
      "text/plain": [
       "<matplotlib.figure.Figure at 0x1cede4ebf98>"
=======
      "image/png": "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\n",
      "text/plain": [
       "<matplotlib.figure.Figure at 0x1ced3bf5ef0>"
>>>>>>> 465c7e6b7893226eeaa6ecd42108701a3bb754d4
      ]
     },
     "metadata": {
      "needs_background": "light"
     },
     "output_type": "display_data"
    }
   ],
   "source": [
    "# Plotando curva\n",
    "def plot_precision_recall_vs_threshold(precisions, recalls, thresholds):\n",
    "    plt.figure(figsize=(15, 6))\n",
    "    plt.plot(thresholds, precisions[:-1], 'b--', label='Precision')\n",
    "    plt.plot(thresholds, recalls[:-1], 'g-', label='Recall')\n",
    "    plt.xlabel('Threshold')\n",
    "    plt.legend(loc='center left')\n",
    "    plt.ylim([0, 1])\n",
    "\n",
    "plot_precision_recall_vs_threshold(precisions, recalls, thresholds)\n",
    "plt.show()"
   ]
  },
  {
   "cell_type": "markdown",
   "metadata": {},
   "source": [
    "### Determinando Precisão"
   ]
  },
  {
   "cell_type": "markdown",
   "metadata": {},
   "source": [
    "Suponha que, para o problema a ser resolvido, deseja-se alcançar uma precisão de 90%. Neste caso, é interessante visualiar os índices plotados em um grafico de ```Precision``` versus ```Recall```."
   ]
  },
  {
   "cell_type": "code",
<<<<<<< HEAD
   "execution_count": 155,
=======
   "execution_count": 73,
>>>>>>> 465c7e6b7893226eeaa6ecd42108701a3bb754d4
   "metadata": {},
   "outputs": [
    {
     "data": {
<<<<<<< HEAD
      "image/png": "iVBORw0KGgoAAAANSUhEUgAAAgAAAAGMCAYAAACs4hrEAAAABHNCSVQICAgIfAhkiAAAAAlwSFlzAAALEgAACxIB0t1+/AAAADl0RVh0U29mdHdhcmUAbWF0cGxvdGxpYiB2ZXJzaW9uIDIuMS4yLCBodHRwOi8vbWF0cGxvdGxpYi5vcmcvNQv5yAAAIABJREFUeJzt3Xm8XeO9+PHPNyNiKE1CzFRoY9ZTVVpUTfUzlKsuLi11aYtW0UnraqrD7UAppaWtq4ZrrqFo1TVXGxVVY9EgiIhIjDGFeH5/POt075yck5xh7732Pvvzfr3Waz1r2Gt993JkffeznvU8kVJCkiS1lyFlByBJkhrPBECSpDZkAiBJUhsyAZAkqQ2ZAEiS1IZMACRJakMmABq0IuKAiEhV0ysRcU9EHB4Rwxocy8SI6NM7txFxc0TcXKeQ2l6Xv413ImJWRFwZEes2QWwL/L0UcU4sKSQNQg39R1AqySeBacDSRflUYCxwXANj+BXwhz5+5tB6BKL5nA2cQf63cAPg28AfImL9lNKLZQYm1ZsJgNrB31NKU4ryHyNiLeBL9JAAREQAw1NKc2sVQEppGjkJ6ctnHqzV+ZtJRIxMKb1ZdhyFp1NKk4rynyLiJeA8YEfgwvLCkurPRwBqR3cCS0XEWICImBoR50XEZyLiIWAu8P+KbUtExA8j4vGImFvMvxkR8/2/ExFjIuL0iHgqIt4s5udGxMhie3dVukdExD8i4vWIeCEiJkfE7lXbF3gEEBHrRMTlEfFi8blJEbFjl30mFtXF4yPimoiYExFPRMRxXePu8rmREfF8RJzYzbZ/L465UdW6rSLihuLRyqsRcV1ErNflczdHxJ8iYpeIuDsi3qSo2ejF958aEWd3E8t8VeERsXZxTWZGxBsR8WREXNLPxzx/K+ardjnnsIg4JiIeKv77To+IEyNisS77jYqIH0TEo8V+MyLisohYvtg+JiLOiIhHIuK14u/kfyNipX7EKg2INQBqR2sA84A5Ves+CmxErgKeCUwtbiDXAROA7wD3AZsB/wUsBxwNEBHLAn8u1n0XuJf8iGE3YASwwK/diPgP4ETgeOA2YHFyFfRyPQUdESsCfwJeAQ4HXgIOA66JiJ1TSr/v8pHLgf8BTgJ2Kb7bU8W6BaSU3oyIi4F9I+KrKaV5VZv3A+5PKf29iOX/AVcC1xTbAL4G3BYRG6SUnqr67NrAKeRr+BjwfH++/0JcDbwIfB6YBawE7ET/fuCsXswf7bL+PPI1/CH5v/X7yN9ndeDfACJiBHA9+e/ov4FJwDLADsCywLPk7/cGcAzwHLAi+e/o9oh4b0rpjX7ELPVPSsnJaVBOwAFAAtYhJ7vLAp8l3/yvqNpvKvAasEKXz+9ffH7LLuu/Sa4lGFssH18cc+OFxDIx/+/2r+WfAX9bRPw3AzdXLZ8AvA2sVbVuKPBw9bE6zwUc2OV49wF/XMQ5tyg+u0PVujHAW8BXq9ZNAW7o8tmlyTfgk7t8h3eAjbrs25vvPxU4u5v1CZhYlEcXy7v24+8jAd8r/jZGAh8A7gf+Qn4E1LnfR4p9P9Xl8/9RrN+oWP5MX2Mp/vutUnxu957+Xrp+byenWkw+AlA7eIh8A3seOB04n/yPdbVJKaUZXdbtCDwB/LmoAh5W1Ar8ERhOrg0A2B64M6V0dx9iuhPYKCJOjYhtI2KJXnxmyyLOzvYMpPwr/YLiWEt32f+aLsv306Vqu6uU0u3kX7/7V63em/xr+nyAiBgPvAc4v8t1eY1889yyy2GnpqLmoEp/vn93ZpNrFX4QEQcXsfXFN8h/G28AfwVGkW/gb1XtsyM54busm78DqHzf7YEZKaWrFnbCiPh85LdR5pATuieLTev0MXZpQEwA1A52J/+6ey8wKqX0qZTS8132eaabz40FViPfIKqnvxbb310171MDP+AccpX1B8mPGZ6PiN9GxOoL+cxyPcQ5AwhyDUe1rt/xTWAxFu084BMRsWSxvD9wY0rp6WJ5bDH/NQtem52pXJdO3cXcn++/gJRSArYDJpOr3R+JiMci4vO9PMRZ5L+Nj5B/da8KXBgRUbXPWPKjnDnM/11nFtur/w6eZiEi4gvkJPT/gD2ATakkkr35byPVjG0A1A7ur/7V3IPu3tGfDTwO7NXDZ6YW887nzr1W3LjOAM4o2hBsT34mfhH5ptid54EVulm/Ajn+rjf8/joX+Bawe0TcQb5Bfrpq++xifgz5RtZV17cnFri2vfz+b5BvvP8SEQu0EUgpPQZ8qrhpb0huH3F6RExNC7aL6OqZlNLkovyn4hjfAvYELinWzy5i+UgPx5hezGcB6/WwT6e9yY9Ojq76Tmss4jNSXVgDIPXsD+Tns3NSSpO7mWYV+/0R2DQiNuzPSVJKL6SULgIuZuE3kFuAzap/JUfEUODfgbtTSq/05/zdxPMouSp//2J6Ffht1S4Pk5OfdXu4Lvf28Xw9ff8nWPB67LyQ46TiUcNRxapF3Yy780PyDf1bVbUAfyD/Ol+mh+/bmQD8EVghInZZyPGXINceVDuwH3FKA2YNgNSz88n/ON9QvBp3D/kX6XuAXYFPpJReI7ey3xf4v4j4Lrmx3WjyWwCf6+7GHBFnklvz/4Vclbw2+Wb7x677VjmJ3LDx+oj4FvAy+ZW6tSleW6yhc4DTgPWBy1NK/3pjIqWUIuIw4Mqi5fvF5F+/ywObA0+mlH6ysIP38vtfCJwVESeRW/pvSP7+1cfZAPgpueZgCrlR3QHkZ+s39vVLp5Rej4jvkxsp7gFcllK6OSIuAC6NiJ+QHwG9Q34DYCfgaymlR8iPTg4GLoiI/wbuAJYivwVwckrpIXIy8bWI+EZxnG3ItQ1Sw5kASD1IKb0VETsAXwcOIb8++Cq5kdw1FFXdKaUXI2IL8iuAXyc/C36WfAPqqTOh28nJxf7kV8Wmk28g31pIPNMj4sPkX6k/J7dc/zvw/1JKfe1lcFEuIt9YVyA/Eugay7URsSX5jYhfkV/jm0F+9e2iXhy/N9//N+QamIPIb2/cRm7PUf04Zwa5Ed1RwMrkqvr7gJ1TSnf17qsu4JfAV4BjI+K3xeOK/YAvkBuPfpPcnmIquf3Cs/Cvv5fti+9wSDGfXXzXzsczxwPvAo4k1yrcQk4QHutnrFK/Rf7bliRJ7cQ2AJIktaFSEoCIOKvotvP+HrZHRJwSEVMi4t6I2KTRMUqSNJiVVQNwNrlzjZ58HBhfTIeQn3dKkqQaKSUBSCndysLfWd4NOKd4rWcS8K6IGNeY6CRJGvyatQ3ASuRBSzpNo48drUiSpJ4162uA0c26bl9XiIhDyI8JGDZs2fcPHbomb74JSywB73tfPUOUJKlcd91116yU0pj+fLZZE4Bp5Pd/O61MpbvN+aSUzgTOBOjo6Eg///lkNt0UJkyAO++sf6CSJJUlIp7o72eb9RHAVRR9e0fEZsBLKaXuBhSRJEn9UEoNQNGt5tbA6IiYRu4xazhASukXwLXkLjankIcYta/sLt5+G2bNgmefzdPs2bDppvDud8O73lV2dJKkZldKApBS2mcR2xNw2EDOMWcO/Oxn8IlPwMorD+RIA/Pmm/DII/DggzmmffeFxRevbJ83D556Cp54Is+7TtOm5Zv7Djvkm37nDX/WLFhYJ44jRsDBB8Nzz+XpgQfg2mvh5ZfzZ2fNyuuffRaGDYMvfhHGjIGlu44oL0kalAZVV8DVbQA6HXEEnHxybY6fUr5Rr7ACLNbNyN3PPw9//StMmgT33JNv+lOmwDvvzL/fGmvABhvkxODRR2FuT73FL0RE/rW//PIwalQ+b60MH56Tpi9/GVZfvZIobL45bLxxTiKWXx6GNOsDJElqExFxV0qpoz+fbdZGgDVzzz09b3v8cTj2WBg3Dv7rv+C88/JNbr314Oqr4Ve/yr/Cv/UtuP12uOSS/Isc8s176aXh+uvz9Je/wD//ueA5hgyB8ePn3/b443nqNG5cTgpWWSXfeFdZpTK99RbccUflZt85jRmTf7l3SilPkyfDH/8Ir78OY8fm6cQT4W9/g/e+N39u9OjK/Je/hJkz54/5rbdyfIf1oQ7m5JNzDcf06fDGG/Cd7+REySRBkprToK8B+M//zDe5ainBSSfBN76Rq+i7Wn75/Iu3rxZbDN7/fvjgB6GjA9ZdF9Zeu1Jb8PDD8Otf58Rh7bVzYrDWWrDUUn0/V62llJOa227LtRzf/S5ssklOFKZMyTUV/XXiifk6r7IK7LILLLNM5ZyvvZZrMCRJfTeQGoBBlwCccMJkPvrR+ddfd12+Ab3ySm4T8OlPw6WXLvxYEybkKnzIv74PPBB22w2OOw5uuimvX2wx2Gqr/Hx+q61g/fVz9flgNW9e/kX/xhv5cceMGXDaafDYYzmRGT0azj+/UkvSk+HDc2Ixc2Zu1wDwuc/BRhvldTNn5pqMDTbIycEKK1TaLXSdXnghf36llWDDDXN8f/4zbLdd/u+30Uawzjo53s7ptttyg8lZs/LfwuOP55qXrbfO/02ffz4/9hg3DlZbLbenGDYsn2vIEFh11Zy8RHe9VUhSA5kAFDo6OtLVV09m3EI6Dd5883yDWHppOOecXHU9e3auDfjGN/KN5NhjYfvt87P5hx/OjwSqq7KvvjrfxLbccv4GfcrmzcvtBA47LF/Da67JN9YXXyw7stqJqDTCXHPNShI0ZUqu4dh885xYvPpqTmI6p6efzu0q7rkHPvlJePJJWHFFOPTQ3HnVSitZIyKp90wACh0dHWny5MnMnAk//CH85Cfd77f88nDjjflXvhpn7ly49VZYdtncNmHMGHjooVyD8qEP5eWxY3Py8OKLuWHj5pvnmoV3vzvPu04PPphvprNn51/r06fnG+gDD8C99+ZGi8stl6dll83tFF55Bf7nf3KNwbx58I9/5DYayy+f9xk6NH++2pJL5s820mqr5ccxkGsy1l03f8+ll85J6Ysv5tjXWw/uuy8/YlliiZxgjB6dH0MtuWS5b8FIqi8TgEJnAgC50dv739/9fvfdl//RlHqjurp/7lx46aVc8zNpUv61H5HbMrzwQq4JGDs233iffDInFNOn55vzI4/kxwc335wfKbz9dm6wOWNG/b/DyJH5MVhnIjN0aK7JevHFnCSts079Y5BUeyYAheoEAOC//ztX61f7zW/gU59qcGBSL82enRtcDh+ek4vf/Q6mTs2PoKZOzcnH+PG5RuOBB/J4F//8Z040fvUr2GyznJgMxPDh+U2QI46Az38+n8+3OaTmZAJQ6JoAnHQSHHVULv/f/+V/XPfaq6TgpBK8/XauiVhiifzoY8aMfFN/vhiM+5k+dLB9yin5s8MG/cvDUuswASh0TQBeeQVOOAE+85n8PFXSgubMyW893HVXbn9x+eX58cDCrLBC7mvipZfyI4/vfCf3POmbEVJjmQAUuiYAkgbmhRfyI7NFJQSdVl019x8xcmRuwLnrrrm9xNixJgdSPZgAFEwApPqaMSP/8h85MtcWXHEFHHNM7z672mqwxRbw4x/nNgu+QisNnAlAwQRAKsesWfCHP+Q3Jn760/w4obe22io/SujoyG/urLxyfu3zjTdyPwoTJuS+FiQtyASgYAIgNZ958/Krj9tuO7DjfOpTsN9+uZdHSZkJQMEEQGoNnb1s3ndfHnDrxhtzPwmvvpoThrXWqgyh3Z0RI3Kvia+8kmsf9tkndxx1wAF5LI5ttsl9HUiDnQlAwQRAGnyefBL23TePyNlXo0fDl76UXwe2zYEGIxOAggmANLg98UQeb2G55fIoms89B3ffnWsSLrggtyXoyahR+bXgD34Q3vOe3DeCfRqo1ZkAFEwAJL3zTu418eyzc/8Ei3LooXlUyA98wFcV1XoGkgDYwaekQWXIkPzWwPHH57cS5s3LXYKvsUb3+59+eq4VGDIkJwBHH51fdZQGO2sAJLWduXPh+9/P4yc8/XTP+626Kuy8M7z3vbDHHnnESB8bqJn4CKBgAiCpP955B37xCzjssN7tv//+cPLJuUMjHxuoTD4CkKQBGDIktwVIKU+PP57fHPjCF/Lrhl2de27urGj48Nzl8dVXw5VX5scNUquwBkCSeunpp3N7gYU9Npg0Ke8jNYI1AJLUACutBNOm5VqC116DddfNbw9U22yz/FigL90hS2UwAZCkflh8cbj//twDYUpw7bXzb+/oyInAkUfm7VKzMQGQpBr4+Mfzjf4nP5l//ckn5zYGm22Wyy+/XE58UlcmAJJUQ52/+G+4IY9u2OmOO/K2ZZbJ07775l4MpbKYAEhSHWyzDUyeDNOnw1e+Mv+2l1/OXRdvskke/ti3B1QGEwBJqqNx4+BHP8q1Am+8AWeeCZ/9bGX700/nzoXuuae8GNWefA1QkkrwzjsLDlm86qrw2GMOZaze8zVASWoxQ4bkWoFLLqmse/LJXBuw++45QZDqyQRAkkq0554wZ8786664ItcCXHNNOTGpPZgASFLJRo3KtQHTp8+/fued4ZOfLCcmDX4mAJLUJMaNy4nAL35RWXfppblDoalTSwtLg5QJgCQ1mc9+dsHxBtZYIycCN9xQTkwafEwAJKkJrbhi7h9g//3nX7/ttjkRuPfecuLS4GECIElNasgQOOec/EbAiSfOv23DDStjDdi9sPrDBECSmlwEHHVUbh/Q9c2Ak0/OXQsfc0w5sal1mQBIUgvZaSd4/fXco2C1H/wAzjqrnJjUmkwAJKnFLLYYHHxwrhGYMaOy/qCDcm3BrFnlxabWYQIgSS1s+eXhoYfmXzdmDIwcCTNnlhOTWoMJgCS1uHXWgbffnn/d3Lk5OfjHP8qJSc3PBECSBoGhQ/MjgVdfhb32qqyfMAH22KO8uNS8TAAkaRBZYgm46CK4+ebKussvz20DpkwpLSw1IRMASRqEttoq1wZUGz8+jzT44IPlxKTmYgIgSYPUEkvktgBHHVVZd8UVsO66sP76Djnc7kwAJGkQGz489yI4dSosu2xl/f3353YDal8mAJLUBlZbDZ5/PjcUXHPNyvq77y4vJpXLBECS2syjj1bKm2wCP/lJebGoPCYAktSGrrqqUj766JwIqL2YAEhSG9plF5g+vbJ89935VcHq2gENbiYAktSmxo1b8E2AtdYqJxY1ngmAJLWxiNww8Nxz51/32GPlxaTGMAGQJLHffvMvv+c9edhhDV4mAJIkINcEnHVWZXmJJcqLRfVnAiBJ+pcDD4TPf76yvNVW5cWi+iotAYiIHSPi4YiYEhFf72b7qhFxU0TcHRH3RsROZcQpSe3m9NNho41y+dZb8+BCGnxKSQAiYihwGvBxYAKwT0RM6LLbscDFKaWNgb2B0xsbpSS1r9tuq5T33ju3EXDsgMGlrBqATYEpKaXHUkpzgQuB3brsk4Cli/IywHQkSQ2x5JLz9wlw/vl57ICUyotJtVVWArAS8FTV8rRiXbWJwH4RMQ24FvhCY0KTJEEeM+Dll+dfN2QIPP10OfGotspKAKKbdV3zyn2As1NKKwM7AedGxALxRsQhETE5IiY/99xzdQhVktrXUkst+Kt/5ZXtOngwKCsBmAasUrW8MgtW8R8EXAyQUvoLsBgwuuuBUkpnppQ6UkodY8aMqVO4ktTeUoKvfrWyfPfdsM8+5cWjgSsrAbgTGB8Ra0TECHIjv6u67PMk8DGAiHgfOQHwJ74kleSHP5y/NuDCC3OvgWpNpSQAKaW3gcOB64B/kFv7PxARx0fErsVuRwMHR8Q9wAXAASnZ/ESSyjZv3vzLt99eThwamBhM99SOjo40efLkssOQpEEvpdwgsNP558O++5YXT7uKiLtSSh39+aw9AUqS+ixi/r4C/uM/4Ac/KC8e9Z0JgCSpXz78YZg9u7J8zDG2CWglJgCSpH5bbrn5kwDIScBDD5UTj3rPBECSNCDLLbdgN8E77FBOLOo9EwBJ0oBF5IaBXy+GdnvyyXLj0aKZAEiSambixErZoYSbmwmAJKlmRo6Ej3wkl2+9Fbbcstx41DMTAElSTf3+99DZM/ttt8H3vlduPOqeCYAkqaZGjYKpUyvLxx4L3/52aeGoByYAkqSaW2IJmDmzsjxxIlx+eWnhqBsmAJKkuhgzBl58sbK8xx7lxaIFmQBIkupmmWXgllsqy1/8YnmxaH4mAJKkutpyS1hllVw+9VR4661y41FmAiBJqrsbb6yUR4woLw5VmABIkupurbVg110ryx/6UHmxKDMBkCQ1xJVXVsqTJsEFF5QXi0wAJEkNNGdOpbzvvvDPf5YXS7szAZAkNcyoUfMPFbz22nD99eXF085MACRJDbXOOvDb31aWt98eXnutvHjalQmAJKnhdt8d7ryzsjxqFLzySnnxtCMTAElSKTo64Ac/qCwvvXR5sbQjEwBJUmm+9rWyI2hfJgCSpFJVvxnwm9+UF0e7MQGQJJVq1KhK+YADSguj7ZgASJJKd9lllfJhh5UXRzsxAZAkla56qODTT/e1wEYwAZAkNYVZsyrlU08tL452YQIgSWoK7343bLhhLn/963DLLeXGM9iZAEiSmkb1WwBbbw0plRbKoGcCIElqGhtuCDfdVFm+667yYhnsTAAkSU1l661h3Lhc/sAHYNq0UsMZtEwAJElN59xzK+VVVvFRQD2YAEiSms7HPgZnn11Z3mab0kIZtEwAJElN6dOfrpRvvhk+97nSQhmUTAAkSU2r+vn/GWfA7NnlxTLYmABIkprWSivBSy9VlkePhhtvLC+ewcQEQJLU1JZeGr785cryxz5WXiyDiQmAJKnp/fjHcPLJleX3va+8WAYLEwBJUks44ghYeeVcfughOOigcuNpdSYAkqSWMXUqbLZZLp91FrzxRqnhtDQTAElSyxg6FG6/vbK87bblxdLqTAAkSS1lyBD46EdzuToZUN+YAEiSWs6ZZ1bK3/52eXG0MhMASVLLWWutSnnixEq7APWeCYAkqSVNn14p33FHeXG0KhMASVJLGjcOZsyoLN93X3mxtCITAElSy1p++Ur5wx8uL45WZAIgSWppP/1pnr/8cu4bQL1jAiBJammHH14pH3QQpFReLK3EBECS1NKGDIFXXqksH3ZYebG0EhMASVLLW3JJ2H33XP75z+GZZ8qNpxWYAEiSBoWLL66UV1yxvDhahQmAJGlQGDYMTj21sjxuXHmxtAITAEnSoHH44ZVXA2fMsJvghTEBkCQNKk88USlPnAivvlpaKE3NBECSNKiMHDl/D4E+CuieCYAkadBZfnnYdddcfuUVeOihcuNpRqUlABGxY0Q8HBFTIuLrPeyzV0Q8GBEPRMT/NjpGSVLruuiiSnnvvcuLo1mVkgBExFDgNODjwARgn4iY0GWf8cAxwBYppXWBLzU8UElSy1psMfjP/8zle+4pN5ZmVFYNwKbAlJTSYymlucCFwG5d9jkYOC2l9AJASmlmg2OUJLW4z362Up4zp7w4mlFZCcBKwFNVy9OKddXWBtaOiNsjYlJE7NjdgSLikIiYHBGTn3vuuTqFK0lqRR0dlfK115YXRzPqcwIQEZ+OiD8Uz+Yf6zI92tvDdLOu6/ANw4DxwNbAPsCvIuJdC3wopTNTSh0ppY4xY8b05atIktrAdtvl+b//e7lxNJs+JQAR8V/A/wArAn8Hbuky3drLQ00DVqlaXhmY3s0+V6aU3kopPQ48TE4IJEnqterBgX72s/LiaDaR+jBuYkRMBS5PKR05oJNGDAMeAT4GPA3cCeybUnqgap8dgX1SSp+OiNHA3cBGKaXZPR23o6MjTZ48eSChSZIGoaiqdx5MwwVHxF0ppY5F77mgvj4CeDfwu/6cqFpK6W3gcOA64B/AxSmlByLi+Igo3tzkOmB2RDwI3AR8ZWE3f0mSenLKKZXy88+XF0cz6WsNwNXADSmlk+oXUv9ZAyBJ6s7cubmHQIA//Qm22KLceGqlkTUAXwIOjIhPRcToiBjSdepPEJIk1dOIEbD99rn84Q8PrscA/dXXG/YjwHrkhoDPAm91mebWNDpJkmqk+i2ACy8sL45m0ddHABNZ8HW9+aSUSht80UcAkqSFed/7KuMCvPPO/I0DW9FAHgEM68vOKaWJ/TmJJEnN4KKLYMMNc3m33eCqq8qNp0z9fmYfEUtGxCoRMaqWAUmSVC8bbFAp/27A77S1tv70BLhDREwGXgSmAi9FxF8jYrtaBydJUq09/XSlvOmm5cVRtr72BLgDcA2wJPAd4FDgu8BSwLUmAZKkZrfiinkCuPNOeP31cuMpS19rACYCfwQmpJS+nVI6o2gXsC5wPVBaA0BJknprypRKed99y4ujTH1NADYkD9H7TvXKYvl0YKNaBSZJUr0svjisVIxBe8UV5cZSlr4mAG8CS/ewbaliuyRJTa+6EWA7dg/c1wTgZuA7EbFG9cqIWJX8eOCm2oQlSVJ9bbxxpfyrX5UXR1n6mgB8DVgGeDgibo2IiyLiFuCfwLuK7ZIktYT3vz/Pv9aGd68+JQAppUeADYBTgJHAJsBiwE/JQ/X+s+YRSpJUJ2eeWSm//HJ5cZShTz0BAqSUngG+XIdYJElqqE02gWHD4O234QtfgN/8puyIGsfR+yRJbW3nnfP8nHPKjaPRFlkDEBE3AoemlB4qyguTUkofq01okiTV34knVl4FfOcdGNImP4178zWrx0oaUiz3NLXJZZMkDRZrVL3XdsYZ5cXRaH0aDrjZORywJKk/Vl0Vnnoql1vptjiQ4YD9xS5JanvXXFMp33lneXE0Ul8HA9otIg6sWl4tIv4SEa9ExKURsWTtQ5Qkqb7WX79S/shHyoujkfpaA3AsMKZq+SfAysCZwJbk3gAlSWo5J5yQ56NGlRtHo/Q1AXgPcC9ARCwO7AQclVI6GvgGsHttw5MkqTE6Xwd8/nn485/LjaUR+poALAZ0jpy8Ofk1wj8Wyw8DK9YoLkmSGmrttSvlLbYoL45G6WsCMBX4cFHeDbgrpfRSsTwWeKm7D0mS1Owi4LbbKssvDfI7Wl8TgDOAiRExGTgU+HXVtg8BD9YqMEmSGu3DH66Uf/Sj8uJohD6NBZBS+mlEzAI2A05JKVV3nLgU8D+1DE6SpEZbdVV48slKvwCDVZ/7AUgpnZ9S+kJqUcPBAAAUpElEQVSXmz8ppc+mlM6tXWiSJDXewQfn+WBvCGhHQJIkVeko+tV79FF4661yY6mnRSYAETEvIjYtyu8Uyz1Nb9c/ZEmS6qf6DYD3vre8OOqtN20AjgemVZVbqJdkSZL6ZqmlKuXHHisvjnpbZAKQUvp2VXliXaORJKkJzJwJY8fm8rx5MHRoufHUQ1/HAhgeEd12khgRoyJieG3CkiSpPGOqOr3/ylfKi6Oe+toI8NfAL3vYdkYxSZI0aJx0UtkR1EdfE4CtgSt72HYV8LEBRSNJUpO45JJKec6c8uKol74mAGOBmT1sew5YfmDhSJLUHPbcs1I+YxDWb/c1AZgJrN/DtvWB2QMLR5Kk5rHMMnl+zTXlxlEPfU0Argb+KyI2qF4ZEesD3wR+V6vAJEkq25FH5vlNN5UbRz30NQE4DngRuCsi/hwRF0fE7cDfyCMBHlvrACVJKsvOO1fKr75aXhz10KcEIKU0C/gA8N9AABsV8+8BHyi2S5I0KGyySaW85JLlxVEP/RkM6MWU0nEppQ+llNZOKW2eUpqYUhrkIydLktpNBOy7b2X58cfLi6XW+jUYUESMjoidI+LTEbFcsW6xiHBwIUnSoHLeeZXy3nuXF0et9bUnwIiIH5PHBrgKOAtYvdh8JbkhoCRJg0YErF+8//bXv5YbSy319Rf7McDh5EGBPkh+/t/pd8DO3X1IkqRWdtZZZUdQe31NAP4TOD6l9H1yy/9qU4D31CQqSZKaSHVjwAcfLC+OWuprArASMKmHbXOBbgcKkiSplQ0ZAosvnssf+lC5sdRKXxOAp4H1eti2ITCI2kdKklTxta/l+csvQ0rlxlILfU0ALgGOi4gtqtaliFgbOBq4sGaRSZLURI47rlLeeuvSwqiZviYAE4GHgFuBfxbrLgHuK5Z/ULPIJElqIhEwfnwu3313ubHUQl97AnydPCTwAcCfgf8D7gQOAbZLKc2tcXySJDWNU07J81deKTeOWhjW2x0jYjiwE3BvSulc4Ny6RSVJUhP64Acr5blzYcSI8mIZqF7XAKSU3gIuptLxjyRJbWXZZSvlKVPKi6MW+toG4DFgbD0CkSSpFWy8cZ4/9FC5cQxUXxOAHwHfjIgx9QhGkqRm9/zzef5v/1ZuHAPV6zYAhW2A5YDHI2IS8AxQ/TZkSil9ulbBSZLUbI44Ao46quwoBq6vCcBHgLeA58jd/nbt+ncQdI0gSVLP9t+/kgC88QYstli58fRXXxOADmBOSumNegQjSVKzq24IePrprVsbsMg2ABExNCImRsSLwLPAyxFxWUS8ayAnjogdI+LhiJgSEV9fyH57RkSKiI6BnE+SpFoYOhTWKzrFv+qqcmMZiN40AvwccBx59L8TgCuB3YCT+nvSiBgKnAZ8HJgA7BMRE7rZbyngi8Ad/T2XJEm1tu++eX7LLeXGMRC9SQAOBn6ZUtompfS1lNIngcOA/SKiv10gbApMSSk9VvQeeCE5qejqO+Q3D3zkIElqGrvsUnYEA9ebBGBNcn//1S4ChgKr9fO8KwFPVS1PK9b9S0RsDKySUrp6YQeKiEMiYnJETH7uuef6GY4kSb235pqV8ve+V14cA9GbBGBJ4OUu6zp7QV6qn+eNbtb96w2CiBhCfsRw9KIOlFI6M6XUkVLqGDPG7gkkSfW3xBKV8rHHwltvlRdLf/W2I6CVImLNzolcK7DA+mJbb0wDVqlaXhmYXrW8FLAecHNETAU2A66yIaAkqVk8+2ylfOut5cXRX719DfDSHtZf0c26ob043p3A+IhYA3ga2BvYt3NjSuklYHTnckTcDHw5pTS5l/FKklRXY8fCCivAjBmw7baQWqwnnN4kAAfW+qQppbcj4nDgOnLCcFZK6YGIOB6YnFJq4RcrJEnt4qSTYJ99cvmRR2DttcuNpy8itVrKshAdHR1p8mQrCSRJjZESDCkepu+5J1zStcl8nUXEXSmlfj0e7+tgQJIkqRABRxfN1S/t6WF5kzIBkCRpAI48slK+997y4ugrEwBJkgZgpapebDbcsLw4+soEQJKkAfrpT8uOoO9MACRJGqCDD66U33yzvDj6wgRAkqQBWnzxSnmvvcqLoy9MACRJqoGPfjTPW2WIYBMASZJq4MILK+UpU8qLo7dMACRJqoGxYyvl008vL47eMgGQJKlGPve5PD/ppHLj6A0TAEmSaqRzXABo/iGCTQAkSaqRLbeslI84orw4esMEQJKkGlp55Ty/775y41gUEwBJkmrouOPy/E9/yqMFNisTAEmSamj33Svlv/+9vDgWxQRAkqQaGj0ahg/P5UceKTeWhTEBkCSpxkaNyvO99y43joUxAZAkqca++MVKee7c8uJYGBMASZJq7NvfrpS32668OBbGBECSpDq69VaYN6/sKBZkAiBJUh28/HKlvOee5cXRExMASZLqYKmlYIcdcvmKK5qvTwATAEmS6uTKKyvlSZPKi6M7JgCSJNXJyJGwwgq5fN115cbSlQmAJEl1tOuueV79ZkAzMAGQJKmOOjrKjqB7JgCSJNXRgQdWyq+/Xl4cXZkASJJUR8OGVcrN1A7ABECSpDobMybP99qr3DiqmQBIklRnG22U52+9VW4c1UwAJEmqs/POq5T/9rfy4qhmAiBJUp2NHVsp/+IX5cVRzQRAkqQG6BwV8Je/LDeOTiYAkiQ1wKGHVsrNMC6ACYAkSQ2wyy6V8hVXlBdHJxMASZIaYOhQiMjlPfYoNxYwAZAkqWGOOqrsCCpMACRJapDvf79Sfvzx8uIAEwBJkhpmxIjKY4D99is3FhMASZIa6KMfzfM//7ncOEwAJElqoG99q+wIMhMASZIaaLPNKuXZs8uLwwRAkqQGGjGiUv7Sl8qLwwRAkqQG22CDPK8eJKjRTAAkSWqwE06olKdNKycGEwBJkhpsm20q5bJeBzQBkCSpwYYOhc98JpdvuaWcwYFMACRJKkF1r4CXXdb485sASJJUguWXr5QvuKDx5zcBkCSpJAcdlOdljAtgAiBJUkm22y7P77678ec2AZAkqSQ77lgp/+1vjT23CYAkSSVZZplK+dRTG3tuEwBJkkr01a/m+dlnN/a8JgCSJJXo0EMr5b/+tXHnNQGQJKlEq61WKd9zT+POW1oCEBE7RsTDETElIr7ezfajIuLBiLg3Im6IiNW6O44kSa1ur73y/Je/bNw5S0kAImIocBrwcWACsE9ETOiy291AR0ppA+BS4EeNjVKSpMZYddU8f9e7GnfOsmoANgWmpJQeSynNBS4EdqveIaV0U0rptWJxErByg2OUJKkhdt45z9vhEcBKwFNVy9OKdT05CPh9XSOSJKkkyy2X5zNnwrx5jTlnWQlAdLOu27GQImI/oAP4cQ/bD4mIyREx+bnnnqthiJIkNcZ661XK99/fmHOWlQBMA1apWl4ZmN51p4jYFvgmsGtK6c3uDpRSOjOl1JFS6hgzZkxdgpUkqZ4iYPz4XL7jjsacs6wE4E5gfESsEREjgL2Bq6p3iIiNgTPIN/+ZJcQoSVLDbLBBng/qBCCl9DZwOHAd8A/g4pTSAxFxfETsWuz2Y2BJ4JKI+HtEXNXD4SRJankjR+b50ks35nzDGnOaBaWUrgWu7bLuuKrytg0PSpKkkmyxBfzv/zbuTQB7ApQkqQmMHZvnN93UmPOZAEiS1AR23bVSnjOn/uczAZAkqQmMGFEpP/NM/c9nAiBJUpNYd908v++++p/LBECSpCbzpS/V/xwmAJIkNYktt8zzF16o/7lMACRJahKf/Wyez5kDjz1W33OZAEiS1CQ22ACGFHfmjTeu77lMACRJahIRcPTRufzyy/U9lwmAJElN5PDDK+XU7Ti5tWECIElSE1mlaqzc3/2ufucxAZAkqYlEQOfo9rvtVr9aABMASZKazGWXVcr1GhzIBECSpCbzkY9Uyt/7Xn3OYQIgSVIT2mefPL/0Unjnndof3wRAkqQmdMIJlfLOO9f++CYAkiQ1oRVXhNVWy+Xf/772xzcBkCSpSf32t5Xy22/X9tgmAJIkNanq7oBXXbW2xzYBkCSpSUXAxIm5/Mwz8OCDtTu2CYAkSU3suOMq5eOPr91xTQAkSWpiEXD22bl80UW1O64JgCRJTW6HHSrl66+vzTFNACRJanIrrFApb799bY5pAiBJUgs466xK+fLLB348EwBJklrAgQfCkkvm8h57DPx4JgCSJLWIc86plAc6PoAJgCRJLWKnnSrlvfce2LFMACRJahEjR1bKl1wysGOZAEiS1ELmzoUhNbh7mwBIktRChg+Hl14a+HFMACRJajFLLjnw0QFNACRJakFDhw7s8yYAkiS1IRMASZLakAmAJEltyARAkqQ2ZAIgSVIbMgGQJKkNmQBIktSGTAAkSWpDJgCSJLUhEwBJktqQCYAkSW3IBECSpDZkAiBJUhsyAZAkqQ2ZAEiS1IZMACRJakMmAJIktSETAEmS2pAJgCRJbcgEQJKkNmQCIElSGzIBkCSpDZkASJLUhkpLACJix4h4OCKmRMTXu9k+MiIuKrbfERGrNz5KSZIGp1ISgIgYCpwGfByYAOwTERO67HYQ8EJKaS3gJOCHjY1SkqTBq6wagE2BKSmlx1JKc4ELgd267LMb8JuifCnwsYiIBsYoSdKgVVYCsBLwVNXytGJdt/uklN4GXgLe3ZDoJEka5IaVdN7ufsmnfuxDRBwCHFIsvhkR9w8wNi3caGBW2UG0Aa9z/XmN689rXH/r9PeDZSUA04BVqpZXBqb3sM+0iBgGLAM83/VAKaUzgTMBImJySqmjLhEL8Bo3ite5/rzG9ec1rr+ImNzfz5b1COBOYHxErBERI4C9gau67HMV8OmivCdwY0ppgRoASZLUd6XUAKSU3o6Iw4HrgKHAWSmlByLieGBySukq4NfAuRExhfzLf+8yYpUkaTAq6xEAKaVrgWu7rDuuqvwG8Mk+HvbMGoSmhfMaN4bXuf68xvXnNa6/fl/jsFZdkqT2Y1fAkiS1oZZMAOxGuP56cY2PiogHI+LeiLghIlYrI85WtqhrXLXfnhGRIsLW1P3Qm+scEXsVf88PRMT/NjrGVteLfy9WjYibIuLu4t+MncqIs5VFxFkRMbOnV90jO6X4b3BvRGyyyIOmlFpqIjcafBRYExgB3ANM6LLPocAvivLewEVlx91KUy+v8UeBJYry573Gtb/GxX5LAbcCk4COsuNutamXf8vjgbuBZYvlsWXH3UpTL6/xmcDni/IEYGrZcbfaBGwJbALc38P2nYDfk/vQ2Qy4Y1HHbMUaALsRrr9FXuOU0k0ppdeKxUnkvhzUe735Owb4DvAj4I1GBjeI9OY6HwycllJ6ASClNLPBMba63lzjBCxdlJdhwX5ftAgppVvppi+cKrsB56RsEvCuiBi3sGO2YgJgN8L115trXO0gcuap3lvkNY6IjYFVUkpXNzKwQaY3f8trA2tHxO0RMSkidmxYdINDb67xRGC/iJhGfvvrC40Jra309d/t8l4DHICadSOsHvX6+kXEfkAHsFVdIxp8FnqNI2IIeRTMAxoV0CDVm7/lYeTHAFuTa7Jui4j1Ukov1jm2waI313gf4OyU0okR8SFyHy/rpZTeqX94baPP971WrAHoSzfCLKwbYfWoN9eYiNgW+Cawa0rpzQbFNlgs6hovBawH3BwRU8nP9K6yIWCf9fbfiytTSm+llB4HHiYnBOqd3lzjg4CLAVJKfwEWI48ToNrp1b/b1VoxAbAb4fpb5DUuqqfPIN/8fWbadwu9ximll1JKo1NKq6eUVie3s9g1pdTvfr/bVG/+vbiC3KiViBhNfiTwWEOjbG29ucZPAh8DiIj3kROA5xoa5eB3FfCp4m2AzYCXUkrPLOwDLfcIINmNcN318hr/GFgSuKRoX/lkSmnX0oJuMb28xhqgXl7n64DtI+JBYB7wlZTS7PKibi29vMZHA7+MiCPJ1dIH+KOsbyLiAvJjqtFFW4pvAcMBUkq/ILet2AmYArwGHLjIY/rfQJKk9tOKjwAkSdIAmQBIktSGTAAkSWpDJgCSJLUhEwBJktqQCYAkSW3IBECSpDZkAiC1kYg4ICJS1TQ3Ih6NiO9HxGIlxzY1Is6uWu6MdfXSgpIGsZbrCVBSTXyS3Hf4UsDuwDFF2VHapDZhAiC1p7+nlKYU5esjYjxwUEQc4QhtUnvwEYAkgL8Bi1M1QlsxuMv5EfFcRLwZEX+PiN27fjAiNoyIyyNidkS8HhEPR8QxVdu3j4hrI+KZiHgtIu6PiKMjYmhjvpqk7lgDIAlgdeAlYDZARKwC3AHMBI4kj9z278BlEfGJzsGKImJT4GbyACRHkh8rjAc2qDr2msANwKnAG0AHMBEYA3y9rt9KUo9MAKT2NDQihlFpA/BvwJdSSvOK7ROBALaqGhnvuiIxOJ7KcK8nkJOGzVJKrxXrbqw+UTFSGQCRh468DRgBfDkivuEjB6kcJgBSe3qoy/LpKaWfVS3vSB5e9KUiUeh0HfDjiFgaeBvYAvhx1c1/ARExjpxQ7AisyPz/7owFZvT3S0jqPxMAqT3tTq6uHwMcBRwaEXeklM4pto8FPlVM3Xk3MJfcjmhaTyeJiCHk2oIVyUnAQ8DrwCeAbwKlvnootTMTAKk93d/5FkBE3AjcS/5lf1lK6VVytf5twA97+Px0YCjwDrDSQs7zHvIz//1TSud1royIXQb+FSQNhG8BSG0upfQm8BXyr/5Di9V/IDfkeyClNLmb6c2i2v9PwH4RsXgPh1+imL/VuSIihgP/UZcvI6nXrAGQRErpqoi4k9ww72fAccBfgVuL5anAssB6wJoppc8UH/0ycAvwl4g4kfw4YE1go5TSF4B/AE8A34uIeeRE4MjGfTNJPbEGQFKnY8m1AJ9LKT1Jrrq/B/g+cD3wc2Arqlr5p5TuJDcEfIr8mt+15NqEacX2ueTn/TOAc4DTgFuBHzTkG0nqUaSUyo5BkiQ1mDUAkiS1IRMASZLakAmAJEltyARAkqQ2ZAIgSVIbMgGQJKkNmQBIktSGTAAkSWpDJgCSJLWh/w+EDndSxz8rIAAAAABJRU5ErkJggg==\n",
      "text/plain": [
       "<matplotlib.figure.Figure at 0x1cede95d668>"
=======
      "image/png": "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\n",
      "text/plain": [
       "<matplotlib.figure.Figure at 0x1ced3bf5780>"
>>>>>>> 465c7e6b7893226eeaa6ecd42108701a3bb754d4
      ]
     },
     "metadata": {
      "needs_background": "light"
     },
     "output_type": "display_data"
    }
   ],
   "source": [
    "# Definindo função\n",
    "def plot_precision_vs_recall(precisions, recalls):\n",
    "    plt.plot(recalls, precisions, 'b-', linewidth=2)\n",
    "    plt.title('Precision versus Recall', fontsize=16)\n",
    "    plt.xlabel('Recall', fontsize=16, labelpad=6)\n",
    "    plt.ylabel('Precision', fontsize=16, labelpad=6)\n",
    "    plt.axis([0, 1, 0, 1])\n",
    "\n",
    "plt.figure(figsize=(8, 6))\n",
    "\n",
    "# Chamando função\n",
    "plot_precision_vs_recall(precisions, recalls)\n",
    "plt.show()"
   ]
  },
  {
   "cell_type": "code",
<<<<<<< HEAD
   "execution_count": 156,
=======
   "execution_count": 76,
>>>>>>> 465c7e6b7893226eeaa6ecd42108701a3bb754d4
   "metadata": {},
   "outputs": [],
   "source": [
    "# Determinando precisão de, pelo menos, 90%\n",
    "y_train_pred_90 = (y_scores > 70000) # Aumentar esse valor (threshold), aumenta precision (e diminui recall)"
   ]
  },
  {
   "cell_type": "code",
<<<<<<< HEAD
   "execution_count": 157,
=======
   "execution_count": 77,
>>>>>>> 465c7e6b7893226eeaa6ecd42108701a3bb754d4
   "metadata": {},
   "outputs": [
    {
     "data": {
      "text/plain": [
<<<<<<< HEAD
       "array([-307877.98981228, -404541.80406011, -396493.35605788, ...,\n",
       "       -390287.14460535, -292563.97185325, -628845.19713297])"
      ]
     },
     "execution_count": 157,
=======
       "array([-457687.47825219, -366867.97168748,  145988.55993704, ...,\n",
       "       -379319.88903258, -808577.04951595, -621576.86543544])"
      ]
     },
     "execution_count": 77,
>>>>>>> 465c7e6b7893226eeaa6ecd42108701a3bb754d4
     "metadata": {},
     "output_type": "execute_result"
    }
   ],
   "source": [
    "# Lembrando o que é y_scores\n",
    "y_scores"
   ]
  },
  {
   "cell_type": "markdown",
   "metadata": {},
   "source": [
    "```y_scores``` possui os scores de TODAS as instâncias do dataset de treinamento e foi gerado através da função ```cross_val_predict()```."
   ]
  },
  {
   "cell_type": "code",
<<<<<<< HEAD
   "execution_count": 158,
=======
   "execution_count": 78,
>>>>>>> 465c7e6b7893226eeaa6ecd42108701a3bb754d4
   "metadata": {},
   "outputs": [
    {
     "data": {
      "text/plain": [
       "(60000,)"
      ]
     },
<<<<<<< HEAD
     "execution_count": 158,
=======
     "execution_count": 78,
>>>>>>> 465c7e6b7893226eeaa6ecd42108701a3bb754d4
     "metadata": {},
     "output_type": "execute_result"
    }
   ],
   "source": [
    "# Quantidade do array y_scores\n",
    "y_scores.shape"
   ]
  },
  {
   "cell_type": "markdown",
   "metadata": {},
   "source": [
    "```y_train_pred_90``` nada mais é do que um array de True e False definido pela condição y_scores > 70000"
   ]
  },
  {
   "cell_type": "code",
<<<<<<< HEAD
   "execution_count": 159,
=======
   "execution_count": 79,
>>>>>>> 465c7e6b7893226eeaa6ecd42108701a3bb754d4
   "metadata": {},
   "outputs": [
    {
     "data": {
      "text/plain": [
<<<<<<< HEAD
       "array([False, False, False, ..., False, False, False])"
      ]
     },
     "execution_count": 159,
=======
       "array([False, False,  True, ..., False, False, False])"
      ]
     },
     "execution_count": 79,
>>>>>>> 465c7e6b7893226eeaa6ecd42108701a3bb754d4
     "metadata": {},
     "output_type": "execute_result"
    }
   ],
   "source": [
    "# Verificando\n",
    "y_train_pred_90"
   ]
  },
  {
   "cell_type": "code",
<<<<<<< HEAD
   "execution_count": 160,
=======
   "execution_count": 80,
>>>>>>> 465c7e6b7893226eeaa6ecd42108701a3bb754d4
   "metadata": {},
   "outputs": [
    {
     "data": {
      "text/plain": [
<<<<<<< HEAD
       "0.9270921985815603"
      ]
     },
     "execution_count": 160,
=======
       "0.8428809127644402"
      ]
     },
     "execution_count": 80,
>>>>>>> 465c7e6b7893226eeaa6ecd42108701a3bb754d4
     "metadata": {},
     "output_type": "execute_result"
    }
   ],
   "source": [
    "# Verificando precision\n",
    "precision_score(y_train_5, y_train_pred_90)"
   ]
  },
  {
   "cell_type": "code",
<<<<<<< HEAD
   "execution_count": 161,
=======
   "execution_count": 81,
>>>>>>> 465c7e6b7893226eeaa6ecd42108701a3bb754d4
   "metadata": {},
   "outputs": [
    {
     "data": {
      "text/plain": [
<<<<<<< HEAD
       "0.6028408042796533"
      ]
     },
     "execution_count": 161,
=======
       "0.6541228555617045"
      ]
     },
     "execution_count": 81,
>>>>>>> 465c7e6b7893226eeaa6ecd42108701a3bb754d4
     "metadata": {},
     "output_type": "execute_result"
    }
   ],
   "source": [
    "# Verificando recall\n",
    "recall_score(y_train_5, y_train_pred_90)"
   ]
  },
  {
   "cell_type": "markdown",
   "metadata": {},
   "source": [
    "Dessa forma, pôde ser verificado que é possível configurar o algoritmo o modela-lo para qualquer precisão que se queira, desde que respeitados os índices de recall propostos pelo projeto. É necessário avaliar caso a caso. Dependendo da situação, não vale a pena possuir um algorítimo extremamente preciso quando seu recall é muito baixo."
   ]
  },
  {
   "cell_type": "code",
<<<<<<< HEAD
   "execution_count": 162,
=======
   "execution_count": 82,
>>>>>>> 465c7e6b7893226eeaa6ecd42108701a3bb754d4
   "metadata": {},
   "outputs": [
    {
     "name": "stdout",
     "output_type": "stream",
     "text": [
      "Precision: 1.00\n",
<<<<<<< HEAD
      "Recall: 0.00036893562073418186\n"
=======
      "Recall: 0.00018446781036709093\n"
>>>>>>> 465c7e6b7893226eeaa6ecd42108701a3bb754d4
     ]
    }
   ],
   "source": [
    "# Será que o termo ajustável não possui limites aceitáveis?\n",
    "ajuste = 1000000\n",
    "y_train_ajuste = y_scores > ajuste\n",
    "print(f'Precision: {precision_score(y_train_5, y_train_ajuste):.2f}')\n",
    "print(f'Recall: {recall_score(y_train_5, y_train_ajuste)}')"
   ]
  },
  {
   "cell_type": "markdown",
   "metadata": {},
   "source": [
    "## The ROC Curve"
   ]
  },
  {
   "cell_type": "markdown",
   "metadata": {},
   "source": [
    "    Receiver Operating Characteristic (ROC)"
   ]
  },
  {
   "cell_type": "markdown",
   "metadata": {},
   "source": [
    "Esta curva é outra ferramenta comum usada para **classificadores binários**. Ela é muito semelhante à curva vista há pouco de precision/recall, com a diferença de que a ROC plota o TPR (True Positive Rate) contra o FPR (False Positive Rate)."
   ]
  },
  {
   "cell_type": "markdown",
   "metadata": {},
   "source": [
    "Lembrando:\n",
    "    * FPR: False Positive Rate -> Instâncias negativas (não-5s) erroneamente classificadas como positivas (5s).\n",
    "           FPR = 1 - TNR\n",
    "    \n",
    "    * TNR: True Negative Rate -> Instâncias negativas (não-5s) corretamente classificadas como negativas (não-5s).\n",
    "    \n",
    "    * TPR: True Positive Rate -> Instâncias positivas (5s) corretamente classificados como positivas (5s)."
   ]
  },
  {
   "cell_type": "code",
<<<<<<< HEAD
   "execution_count": 163,
=======
   "execution_count": 83,
>>>>>>> 465c7e6b7893226eeaa6ecd42108701a3bb754d4
   "metadata": {},
   "outputs": [
    {
     "data": {
<<<<<<< HEAD
      "image/png": "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\n",
      "text/plain": [
       "<matplotlib.figure.Figure at 0x1cee035b588>"
=======
      "image/png": "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\n",
      "text/plain": [
       "<matplotlib.figure.Figure at 0x1ced3bf5898>"
>>>>>>> 465c7e6b7893226eeaa6ecd42108701a3bb754d4
      ]
     },
     "metadata": {
      "needs_background": "light"
     },
     "output_type": "display_data"
    }
   ],
   "source": [
    "# Plotando ROC curve\n",
    "from sklearn.metrics import roc_curve\n",
    "fpr, tpr, thresholds = roc_curve(y_train_5, y_scores)\n",
    "\n",
    "def plot_roc_curve(fpr, tpr, label=None):\n",
    "    plt.plot(fpr, tpr, linewidth=2, label=label)\n",
    "    plt.plot([0, 1], [0, 1], 'k--')\n",
    "    plt.axis([0, 1, 0, 1])\n",
    "    plt.xlabel('False Positive Rate')\n",
    "    plt.ylabel('True Positive Rate')\n",
    "    \n",
    "plot_roc_curve(fpr, tpr)\n",
    "plt.show()"
   ]
  },
  {
   "cell_type": "code",
<<<<<<< HEAD
   "execution_count": 164,
=======
   "execution_count": 84,
>>>>>>> 465c7e6b7893226eeaa6ecd42108701a3bb754d4
   "metadata": {},
   "outputs": [
    {
     "data": {
      "text/plain": [
       "array([0.00000000e+00, 0.00000000e+00, 1.83220653e-05, ...,\n",
<<<<<<< HEAD
       "       9.96610418e-01, 9.96610418e-01, 1.00000000e+00])"
      ]
     },
     "execution_count": 164,
=======
       "       9.89886220e-01, 9.89886220e-01, 1.00000000e+00])"
      ]
     },
     "execution_count": 84,
>>>>>>> 465c7e6b7893226eeaa6ecd42108701a3bb754d4
     "metadata": {},
     "output_type": "execute_result"
    }
   ],
   "source": [
    "# O que seria fpr?\n",
    "fpr"
   ]
  },
  {
   "cell_type": "code",
<<<<<<< HEAD
   "execution_count": 165,
=======
   "execution_count": 85,
>>>>>>> 465c7e6b7893226eeaa6ecd42108701a3bb754d4
   "metadata": {},
   "outputs": [
    {
     "data": {
      "text/plain": [
<<<<<<< HEAD
       "array([1.84467810e-04, 6.08743774e-03, 6.08743774e-03, ...,\n",
       "       9.99815532e-01, 1.00000000e+00, 1.00000000e+00])"
      ]
     },
     "execution_count": 165,
=======
       "array([1.84467810e-04, 1.56797639e-02, 1.56797639e-02, ...,\n",
       "       9.99815532e-01, 1.00000000e+00, 1.00000000e+00])"
      ]
     },
     "execution_count": 85,
>>>>>>> 465c7e6b7893226eeaa6ecd42108701a3bb754d4
     "metadata": {},
     "output_type": "execute_result"
    }
   ],
   "source": [
    "# E tpr?\n",
    "tpr"
   ]
  },
  {
   "cell_type": "code",
<<<<<<< HEAD
   "execution_count": 166,
=======
   "execution_count": 86,
>>>>>>> 465c7e6b7893226eeaa6ecd42108701a3bb754d4
   "metadata": {},
   "outputs": [
    {
     "name": "stdout",
     "output_type": "stream",
     "text": [
<<<<<<< HEAD
      "(3403,)\n",
      "(3403,)\n"
=======
      "(3669,)\n",
      "(3669,)\n"
>>>>>>> 465c7e6b7893226eeaa6ecd42108701a3bb754d4
     ]
    }
   ],
   "source": [
    "# Dimensões\n",
    "print(fpr.shape)\n",
    "print(tpr.shape)"
   ]
  },
  {
   "cell_type": "code",
<<<<<<< HEAD
   "execution_count": 167,
=======
   "execution_count": 87,
>>>>>>> 465c7e6b7893226eeaa6ecd42108701a3bb754d4
   "metadata": {},
   "outputs": [
    {
     "data": {
      "text/plain": [
<<<<<<< HEAD
       "-112257.85789553296"
      ]
     },
     "execution_count": 167,
=======
       "-77380.96906805049"
      ]
     },
     "execution_count": 87,
>>>>>>> 465c7e6b7893226eeaa6ecd42108701a3bb754d4
     "metadata": {},
     "output_type": "execute_result"
    }
   ],
   "source": [
    "# Qual o threshold?\n",
    "threshold"
   ]
  },
  {
   "cell_type": "markdown",
   "metadata": {},
   "source": [
    "```tpr``` e ```fpr``` representam as probabilidades da amostra ser, respectivamente Verdadeira Positiva ou Falsa Positiva."
   ]
  },
  {
   "cell_type": "markdown",
   "metadata": {},
   "source": [
    "Um novo **tradeoff** aparece:\n",
    "    - Quanto maior o recall (TPR), mais falsos positivos (FPR) o classificador produz.\n",
    "    \n",
    "    - Um Classificador perfeito possuiria a área da curva (ROC AUC - Area Under the Curve) igual a 1 e tão distante quanto possível da linha linear (área = 0.5)."
   ]
  },
  {
   "cell_type": "code",
<<<<<<< HEAD
   "execution_count": 168,
=======
   "execution_count": 88,
>>>>>>> 465c7e6b7893226eeaa6ecd42108701a3bb754d4
   "metadata": {},
   "outputs": [
    {
     "data": {
      "text/plain": [
<<<<<<< HEAD
       "0.960316491995804"
      ]
     },
     "execution_count": 168,
=======
       "0.9629692167774053"
      ]
     },
     "execution_count": 88,
>>>>>>> 465c7e6b7893226eeaa6ecd42108701a3bb754d4
     "metadata": {},
     "output_type": "execute_result"
    }
   ],
   "source": [
    "# Verificando roc_auc_score\n",
    "from sklearn.metrics import roc_auc_score\n",
    "roc_auc_score(y_train_5, y_scores)"
   ]
  },
  {
   "cell_type": "markdown",
   "metadata": {},
   "source": [
    "Quando usar ```Precision/Recall curve``` ou ```Roc_Curve```? Dica:\n",
    "* Caso a classe positiva seja de rara aparição ou quando há um interesse maior em falsos positivos (não-5s classificados como 5) do que falsos negativos (5s classificados como não-5s) -> PR Curve\n",
    "* Analisando o classificador binário de 5s com a ROC Curve, aparentemente percebe-se que tudo está muito bom. Entretanto, isso se deve ao fato de termos poucas instâncias de 5s disponíveis. Realizando esta mesma análise com a curva PR, é possível perceber que o algoritmo possui espaço para aprimoramento."
   ]
  },
  {
   "cell_type": "markdown",
   "metadata": {},
   "source": [
    "## Comparação com Random Forest"
   ]
  },
  {
   "cell_type": "markdown",
   "metadata": {},
   "source": [
    "O classificador ```RandomForest()``` não possui um método de ```decision_function()```, entretando, nele é possível encontrar um método chamado ```predict_proba()``` que, por via de regras, possui a mesma filosofia."
   ]
  },
  {
   "cell_type": "code",
<<<<<<< HEAD
   "execution_count": 169,
=======
   "execution_count": 89,
>>>>>>> 465c7e6b7893226eeaa6ecd42108701a3bb754d4
   "metadata": {},
   "outputs": [],
   "source": [
    "# Treinando classificador\n",
    "from sklearn.ensemble import RandomForestClassifier\n",
    "\n",
    "forest_clf = RandomForestClassifier()\n",
    "y_probas_forest = cross_val_predict(forest_clf, X_train, y_train, cv=3, method='predict_proba')"
   ]
  },
  {
   "cell_type": "code",
<<<<<<< HEAD
   "execution_count": 170,
=======
   "execution_count": 95,
>>>>>>> 465c7e6b7893226eeaa6ecd42108701a3bb754d4
   "metadata": {},
   "outputs": [
    {
     "data": {
      "text/plain": [
<<<<<<< HEAD
       "array([[0. , 1. , 0. , ..., 0. , 0. , 0. ],\n",
       "       [0. , 0.2, 0. , ..., 0. , 0.7, 0. ],\n",
       "       [0.1, 0.3, 0.1, ..., 0. , 0.4, 0. ],\n",
       "       ...,\n",
       "       [0. , 1. , 0. , ..., 0. , 0. , 0. ],\n",
       "       [0. , 0. , 0. , ..., 0. , 0. , 0. ],\n",
       "       [0. , 0.6, 0. , ..., 0.2, 0.1, 0. ]])"
      ]
     },
     "execution_count": 170,
=======
       "array([[0.3, 0.1, 0.2, ..., 0. , 0. , 0. ],\n",
       "       [0. , 0. , 0. , ..., 0. , 0. , 0. ],\n",
       "       [0. , 0. , 0. , ..., 0. , 0.1, 0. ],\n",
       "       ...,\n",
       "       [0. , 0. , 0. , ..., 0.9, 0. , 0.1],\n",
       "       [0. , 0. , 0.1, ..., 0. , 0. , 0. ],\n",
       "       [0.7, 0. , 0. , ..., 0. , 0.1, 0. ]])"
      ]
     },
     "execution_count": 95,
>>>>>>> 465c7e6b7893226eeaa6ecd42108701a3bb754d4
     "metadata": {},
     "output_type": "execute_result"
    }
   ],
   "source": [
    "# Verificando o resultado \n",
    "y_probas_forest"
   ]
  },
  {
   "cell_type": "markdown",
   "metadata": {},
   "source": [
    "O método ```predict_proba()``` retorna um array contendo uma linha por instância e uma coluna por classe (target). Parece confuso mas, em outras palavras, cada linha deste array representa a probabilidade de uma instância ser classificada em determinado label. Vejamos:"
   ]
  },
  {
   "cell_type": "code",
<<<<<<< HEAD
   "execution_count": 171,
=======
   "execution_count": 107,
>>>>>>> 465c7e6b7893226eeaa6ecd42108701a3bb754d4
   "metadata": {},
   "outputs": [
    {
     "data": {
      "text/plain": [
<<<<<<< HEAD
       "array([0., 1., 0., 0., 0., 0., 0., 0., 0., 0.])"
      ]
     },
     "execution_count": 171,
=======
       "array([0.3, 0.1, 0.2, 0.2, 0. , 0.2, 0. , 0. , 0. , 0. ])"
      ]
     },
     "execution_count": 107,
>>>>>>> 465c7e6b7893226eeaa6ecd42108701a3bb754d4
     "metadata": {},
     "output_type": "execute_result"
    }
   ],
   "source": [
    "# Testando afirmação acima\n",
    "y_probas_forest[0]"
   ]
  },
  {
<<<<<<< HEAD
=======
   "cell_type": "code",
   "execution_count": 108,
   "metadata": {},
   "outputs": [
    {
     "data": {
      "image/png": "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\n",
      "text/plain": [
       "<matplotlib.figure.Figure at 0x1ced402b630>"
      ]
     },
     "metadata": {
      "needs_background": "light"
     },
     "output_type": "display_data"
    }
   ],
   "source": [
    "some_digit = X_train[0]\n",
    "some_digit_image = some_digit.reshape(28, 28)\n",
    "\n",
    "plt.imshow(some_digit_image, cmap = matplotlib.cm.binary, interpolation = 'nearest')\n",
    "plt.axis('off')\n",
    "plt.show()"
   ]
  },
  {
>>>>>>> 465c7e6b7893226eeaa6ecd42108701a3bb754d4
   "cell_type": "markdown",
   "metadata": {},
   "source": [
    "Muito provavelmente trata-se do elemento ```9```, dado que há 90% desta instância pertencer à esta classe. Também há 10% de chance de ser 5, porém me parece inviável. "
   ]
  },
  {
   "cell_type": "code",
<<<<<<< HEAD
   "execution_count": 172,
=======
   "execution_count": 109,
>>>>>>> 465c7e6b7893226eeaa6ecd42108701a3bb754d4
   "metadata": {},
   "outputs": [
    {
     "data": {
      "text/plain": [
<<<<<<< HEAD
       "1.0"
      ]
     },
     "execution_count": 172,
=======
       "3.0"
      ]
     },
     "execution_count": 109,
>>>>>>> 465c7e6b7893226eeaa6ecd42108701a3bb754d4
     "metadata": {},
     "output_type": "execute_result"
    }
   ],
   "source": [
    "# Checando \n",
    "y_train[0]"
   ]
  },
  {
   "cell_type": "code",
<<<<<<< HEAD
   "execution_count": 173,
=======
   "execution_count": 110,
>>>>>>> 465c7e6b7893226eeaa6ecd42108701a3bb754d4
   "metadata": {},
   "outputs": [
    {
     "data": {
      "text/plain": [
<<<<<<< HEAD
       "array([0. , 0.2, 0. , 0.1, 0. , 0. , 0. , 0. , 0.7, 0. ])"
      ]
     },
     "execution_count": 173,
=======
       "array([0., 0., 0., 0., 0., 0., 1., 0., 0., 0.])"
      ]
     },
     "execution_count": 110,
>>>>>>> 465c7e6b7893226eeaa6ecd42108701a3bb754d4
     "metadata": {},
     "output_type": "execute_result"
    }
   ],
   "source": [
    "# Outro exemplo\n",
    "y_probas_forest[1]"
   ]
  },
  {
   "cell_type": "code",
<<<<<<< HEAD
   "execution_count": 174,
=======
   "execution_count": 111,
>>>>>>> 465c7e6b7893226eeaa6ecd42108701a3bb754d4
   "metadata": {},
   "outputs": [
    {
     "data": {
      "text/plain": [
<<<<<<< HEAD
       "8.0"
      ]
     },
     "execution_count": 174,
=======
       "6.0"
      ]
     },
     "execution_count": 111,
>>>>>>> 465c7e6b7893226eeaa6ecd42108701a3bb754d4
     "metadata": {},
     "output_type": "execute_result"
    }
   ],
   "source": [
    "# Aparentemente é um 2\n",
    "y_train[1]"
   ]
  },
  {
   "cell_type": "markdown",
   "metadata": {},
   "source": [
    "Correto! Todavia, para plotar a curva ROC, são necessários ```scores``` e não ```probabilidades```. Uma solução simples é utilizar a probabilidade da classe positiva como score."
   ]
  },
  {
   "cell_type": "code",
<<<<<<< HEAD
   "execution_count": 175,
=======
   "execution_count": 112,
>>>>>>> 465c7e6b7893226eeaa6ecd42108701a3bb754d4
   "metadata": {},
   "outputs": [],
   "source": [
    "# Gerando scores\n",
    "y_scores_forest = y_probas_forest[:, 1] # score = proba da classe positiva\n",
    "fpr_forest, tpr_forest, thresholds_forest = roc_curve(y_train_5, y_scores_forest)"
   ]
  },
  {
   "cell_type": "code",
<<<<<<< HEAD
   "execution_count": 176,
=======
   "execution_count": 113,
>>>>>>> 465c7e6b7893226eeaa6ecd42108701a3bb754d4
   "metadata": {},
   "outputs": [
    {
     "data": {
      "text/plain": [
<<<<<<< HEAD
       "array([1. , 0.2, 0.3, ..., 1. , 0. , 0.6])"
      ]
     },
     "execution_count": 176,
=======
       "array([0.1, 0. , 0. , ..., 0. , 0. , 0. ])"
      ]
     },
     "execution_count": 113,
>>>>>>> 465c7e6b7893226eeaa6ecd42108701a3bb754d4
     "metadata": {},
     "output_type": "execute_result"
    }
   ],
   "source": [
    "# Verificando resultado\n",
    "y_scores_forest"
   ]
  },
  {
   "cell_type": "code",
<<<<<<< HEAD
   "execution_count": 177,
=======
   "execution_count": 114,
>>>>>>> 465c7e6b7893226eeaa6ecd42108701a3bb754d4
   "metadata": {},
   "outputs": [
    {
     "name": "stdout",
     "output_type": "stream",
     "text": [
      "(60000, 10)\n",
      "(60000,)\n"
     ]
    }
   ],
   "source": [
    "# Comparando alterações\n",
    "print(y_probas_forest.shape)\n",
    "print(y_scores_forest.shape)"
   ]
  },
  {
   "cell_type": "markdown",
   "metadata": {},
   "source": [
    "Pelos testes realizados alterando o número da coluna em ```[:, x]```, é possível dizer que ```y_scores_forest``` representa a probabilidade de cada uma das instâncias (em um formato de array único), representar a classe referida por ```x``` dentro da expressão acima.\n",
    "\n",
    "Por exemplo, no caso de ```y_probias_forest[:, 1]```, estamos retornando um array onde cada elemento representa a probabilidade de cada instância representar o numeral ```1```. A prova disso foi que, ao passar o número 9 como coluna em ```x```, temos que o primeiro elemento do array possui um valor de 0.9. Isso foi testado logo acima, visto que o primeiro elemento do dataset ```y``` realmente representa um 9."
   ]
  },
  {
   "cell_type": "code",
<<<<<<< HEAD
   "execution_count": 178,
=======
   "execution_count": 115,
>>>>>>> 465c7e6b7893226eeaa6ecd42108701a3bb754d4
   "metadata": {},
   "outputs": [
    {
     "data": {
<<<<<<< HEAD
      "image/png": "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\n",
      "text/plain": [
       "<matplotlib.figure.Figure at 0x1cede4eb668>"
=======
      "image/png": "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\n",
      "text/plain": [
       "<matplotlib.figure.Figure at 0x1ced41b8ef0>"
>>>>>>> 465c7e6b7893226eeaa6ecd42108701a3bb754d4
      ]
     },
     "metadata": {
      "needs_background": "light"
     },
     "output_type": "display_data"
    }
   ],
   "source": [
    "# Plotando curva comparando RandomForest com SGD\n",
    "plt.plot(fpr, tpr, 'b:', label='SGD')\n",
    "plot_roc_curve(fpr_forest, tpr_forest, 'Random Forest')\n",
    "plt.legend(loc='lower right')\n",
    "plt.show()"
   ]
  },
  {
   "cell_type": "markdown",
   "metadata": {},
   "source": [
    "Aparentemente aconteceu um problema. O livro contém um equívoco. Você consegue descobrir?"
   ]
  },
  {
   "cell_type": "code",
<<<<<<< HEAD
   "execution_count": 179,
=======
   "execution_count": 116,
>>>>>>> 465c7e6b7893226eeaa6ecd42108701a3bb754d4
   "metadata": {
    "code_folding": []
   },
   "outputs": [
    {
     "data": {
<<<<<<< HEAD
      "image/png": "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\n",
      "text/plain": [
       "<matplotlib.figure.Figure at 0x1cee0418da0>"
=======
      "image/png": "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\n",
      "text/plain": [
       "<matplotlib.figure.Figure at 0x1ced82078d0>"
>>>>>>> 465c7e6b7893226eeaa6ecd42108701a3bb754d4
      ]
     },
     "metadata": {
      "needs_background": "light"
     },
     "output_type": "display_data"
    }
   ],
   "source": [
    "# Gerando scores\n",
    "y_scores_forest = y_probas_forest[:, 5] # score = proba da classe positiva\n",
    "fpr_forest, tpr_forest, thresholds_forest = roc_curve(y_train_5, y_scores_forest)\n",
    "\n",
    "# Plotando curva comparando RandomForest com SGD\n",
    "plt.plot(fpr, tpr, 'b:', label='SGD')\n",
    "plot_roc_curve(fpr_forest, tpr_forest, 'Random Forest')\n",
    "plt.legend(loc='lower right')\n",
    "plt.show()"
   ]
  },
  {
   "cell_type": "markdown",
   "metadata": {},
   "source": [
    "A curva do RandomForest é muito melhor. Vamos verificar o score disso."
   ]
  },
  {
   "cell_type": "code",
<<<<<<< HEAD
   "execution_count": 180,
=======
   "execution_count": 117,
>>>>>>> 465c7e6b7893226eeaa6ecd42108701a3bb754d4
   "metadata": {},
   "outputs": [
    {
     "data": {
      "text/plain": [
<<<<<<< HEAD
       "0.9917979387213542"
      ]
     },
     "execution_count": 180,
=======
       "0.992433059712672"
      ]
     },
     "execution_count": 117,
>>>>>>> 465c7e6b7893226eeaa6ecd42108701a3bb754d4
     "metadata": {},
     "output_type": "execute_result"
    }
   ],
   "source": [
    "# Verificando score\n",
    "roc_auc_score(y_train_5, y_scores_forest)"
   ]
  },
  {
   "cell_type": "code",
<<<<<<< HEAD
   "execution_count": 181,
=======
   "execution_count": 118,
>>>>>>> 465c7e6b7893226eeaa6ecd42108701a3bb754d4
   "metadata": {},
   "outputs": [
    {
     "ename": "ValueError",
     "evalue": "Classification metrics can't handle a mix of binary and continuous targets",
     "output_type": "error",
     "traceback": [
      "\u001b[1;31m---------------------------------------------------------------------------\u001b[0m",
      "\u001b[1;31mValueError\u001b[0m                                Traceback (most recent call last)",
<<<<<<< HEAD
      "\u001b[1;32m<ipython-input-181-62707b76b8b4>\u001b[0m in \u001b[0;36m<module>\u001b[1;34m()\u001b[0m\n\u001b[0;32m      1\u001b[0m \u001b[1;31m# Medindo precision\u001b[0m\u001b[1;33m\u001b[0m\u001b[1;33m\u001b[0m\u001b[0m\n\u001b[1;32m----> 2\u001b[1;33m \u001b[0mprint\u001b[0m\u001b[1;33m(\u001b[0m\u001b[1;34mf'Precision: {precision_score(y_train_5, y_scores_forest)}'\u001b[0m\u001b[1;33m)\u001b[0m\u001b[1;33m\u001b[0m\u001b[0m\n\u001b[0m\u001b[0;32m      3\u001b[0m \u001b[0mprint\u001b[0m\u001b[1;33m(\u001b[0m\u001b[1;34mf'Recall: {recall_score(y_train_5, y_scores_forest)}'\u001b[0m\u001b[1;33m)\u001b[0m\u001b[1;33m\u001b[0m\u001b[0m\n",
=======
      "\u001b[1;32m<ipython-input-118-62707b76b8b4>\u001b[0m in \u001b[0;36m<module>\u001b[1;34m()\u001b[0m\n\u001b[0;32m      1\u001b[0m \u001b[1;31m# Medindo precision\u001b[0m\u001b[1;33m\u001b[0m\u001b[1;33m\u001b[0m\u001b[0m\n\u001b[1;32m----> 2\u001b[1;33m \u001b[0mprint\u001b[0m\u001b[1;33m(\u001b[0m\u001b[1;34mf'Precision: {precision_score(y_train_5, y_scores_forest)}'\u001b[0m\u001b[1;33m)\u001b[0m\u001b[1;33m\u001b[0m\u001b[0m\n\u001b[0m\u001b[0;32m      3\u001b[0m \u001b[0mprint\u001b[0m\u001b[1;33m(\u001b[0m\u001b[1;34mf'Recall: {recall_score(y_train_5, y_scores_forest)}'\u001b[0m\u001b[1;33m)\u001b[0m\u001b[1;33m\u001b[0m\u001b[0m\n",
>>>>>>> 465c7e6b7893226eeaa6ecd42108701a3bb754d4
      "\u001b[1;32m~\\Anaconda3\\lib\\site-packages\\sklearn\\metrics\\classification.py\u001b[0m in \u001b[0;36mprecision_score\u001b[1;34m(y_true, y_pred, labels, pos_label, average, sample_weight)\u001b[0m\n\u001b[0;32m   1259\u001b[0m                                                  \u001b[0maverage\u001b[0m\u001b[1;33m=\u001b[0m\u001b[0maverage\u001b[0m\u001b[1;33m,\u001b[0m\u001b[1;33m\u001b[0m\u001b[0m\n\u001b[0;32m   1260\u001b[0m                                                  \u001b[0mwarn_for\u001b[0m\u001b[1;33m=\u001b[0m\u001b[1;33m(\u001b[0m\u001b[1;34m'precision'\u001b[0m\u001b[1;33m,\u001b[0m\u001b[1;33m)\u001b[0m\u001b[1;33m,\u001b[0m\u001b[1;33m\u001b[0m\u001b[0m\n\u001b[1;32m-> 1261\u001b[1;33m                                                  sample_weight=sample_weight)\n\u001b[0m\u001b[0;32m   1262\u001b[0m     \u001b[1;32mreturn\u001b[0m \u001b[0mp\u001b[0m\u001b[1;33m\u001b[0m\u001b[0m\n\u001b[0;32m   1263\u001b[0m \u001b[1;33m\u001b[0m\u001b[0m\n",
      "\u001b[1;32m~\\Anaconda3\\lib\\site-packages\\sklearn\\metrics\\classification.py\u001b[0m in \u001b[0;36mprecision_recall_fscore_support\u001b[1;34m(y_true, y_pred, beta, labels, pos_label, average, warn_for, sample_weight)\u001b[0m\n\u001b[0;32m   1023\u001b[0m         \u001b[1;32mraise\u001b[0m \u001b[0mValueError\u001b[0m\u001b[1;33m(\u001b[0m\u001b[1;34m\"beta should be >0 in the F-beta score\"\u001b[0m\u001b[1;33m)\u001b[0m\u001b[1;33m\u001b[0m\u001b[0m\n\u001b[0;32m   1024\u001b[0m \u001b[1;33m\u001b[0m\u001b[0m\n\u001b[1;32m-> 1025\u001b[1;33m     \u001b[0my_type\u001b[0m\u001b[1;33m,\u001b[0m \u001b[0my_true\u001b[0m\u001b[1;33m,\u001b[0m \u001b[0my_pred\u001b[0m \u001b[1;33m=\u001b[0m \u001b[0m_check_targets\u001b[0m\u001b[1;33m(\u001b[0m\u001b[0my_true\u001b[0m\u001b[1;33m,\u001b[0m \u001b[0my_pred\u001b[0m\u001b[1;33m)\u001b[0m\u001b[1;33m\u001b[0m\u001b[0m\n\u001b[0m\u001b[0;32m   1026\u001b[0m     \u001b[0mpresent_labels\u001b[0m \u001b[1;33m=\u001b[0m \u001b[0munique_labels\u001b[0m\u001b[1;33m(\u001b[0m\u001b[0my_true\u001b[0m\u001b[1;33m,\u001b[0m \u001b[0my_pred\u001b[0m\u001b[1;33m)\u001b[0m\u001b[1;33m\u001b[0m\u001b[0m\n\u001b[0;32m   1027\u001b[0m \u001b[1;33m\u001b[0m\u001b[0m\n",
      "\u001b[1;32m~\\Anaconda3\\lib\\site-packages\\sklearn\\metrics\\classification.py\u001b[0m in \u001b[0;36m_check_targets\u001b[1;34m(y_true, y_pred)\u001b[0m\n\u001b[0;32m     79\u001b[0m     \u001b[1;32mif\u001b[0m \u001b[0mlen\u001b[0m\u001b[1;33m(\u001b[0m\u001b[0my_type\u001b[0m\u001b[1;33m)\u001b[0m \u001b[1;33m>\u001b[0m \u001b[1;36m1\u001b[0m\u001b[1;33m:\u001b[0m\u001b[1;33m\u001b[0m\u001b[0m\n\u001b[0;32m     80\u001b[0m         raise ValueError(\"Classification metrics can't handle a mix of {0} \"\n\u001b[1;32m---> 81\u001b[1;33m                          \"and {1} targets\".format(type_true, type_pred))\n\u001b[0m\u001b[0;32m     82\u001b[0m \u001b[1;33m\u001b[0m\u001b[0m\n\u001b[0;32m     83\u001b[0m     \u001b[1;31m# We can't have more than one value on y_type => The set is no more needed\u001b[0m\u001b[1;33m\u001b[0m\u001b[1;33m\u001b[0m\u001b[0m\n",
      "\u001b[1;31mValueError\u001b[0m: Classification metrics can't handle a mix of binary and continuous targets"
     ]
    }
   ],
   "source": [
    "# Medindo precision\n",
    "print(f'Precision: {precision_score(y_train_5, y_scores_forest)}')\n",
    "print(f'Recall: {recall_score(y_train_5, y_scores_forest)}')"
   ]
  },
  {
   "cell_type": "markdown",
   "metadata": {},
   "source": [
    "Deu erro. Verificando o por que."
   ]
  },
  {
   "cell_type": "code",
<<<<<<< HEAD
   "execution_count": null,
   "metadata": {},
   "outputs": [],
=======
   "execution_count": 119,
   "metadata": {},
   "outputs": [
    {
     "data": {
      "text/plain": [
       "array([False, False,  True, ..., False, False, False])"
      ]
     },
     "execution_count": 119,
     "metadata": {},
     "output_type": "execute_result"
    }
   ],
>>>>>>> 465c7e6b7893226eeaa6ecd42108701a3bb754d4
   "source": [
    "# Temos como argumentos\n",
    "y_train_5"
   ]
  },
  {
   "cell_type": "code",
<<<<<<< HEAD
   "execution_count": null,
   "metadata": {},
   "outputs": [],
=======
   "execution_count": 120,
   "metadata": {},
   "outputs": [
    {
     "data": {
      "text/plain": [
       "array([0.2, 0. , 0.7, ..., 0. , 0. , 0. ])"
      ]
     },
     "execution_count": 120,
     "metadata": {},
     "output_type": "execute_result"
    }
   ],
>>>>>>> 465c7e6b7893226eeaa6ecd42108701a3bb754d4
   "source": [
    "# Segundo argumento\n",
    "y_scores_forest"
   ]
  },
  {
   "cell_type": "code",
<<<<<<< HEAD
   "execution_count": null,
   "metadata": {},
   "outputs": [],
   "source": [
=======
   "execution_count": 124,
   "metadata": {},
   "outputs": [],
   "source": [
    "forest_clf.fit(X_train, y_train_5)\n",
    "y_train_pred = forest_clf.predict(X_train)"
   ]
  },
  {
   "cell_type": "code",
   "execution_count": 125,
   "metadata": {},
   "outputs": [
    {
     "name": "stdout",
     "output_type": "stream",
     "text": [
      "Precision: 1.0\n",
      "Recall: 0.985795978601734\n"
     ]
    }
   ],
   "source": [
>>>>>>> 465c7e6b7893226eeaa6ecd42108701a3bb754d4
    "# Anteriormente, no sgd classifier, precision e recall foram retornados da seguinte forma\n",
    "print(f'Precision: {precision_score(y_train_5, y_train_pred)}') # = 4029 / 4029 + 735'\n",
    "print(f'Recall: {recall_score(y_train_5, y_train_pred)}') # = 4029 / 4029 + 1392}'"
   ]
  },
  {
   "cell_type": "markdown",
   "metadata": {},
   "source": [
    "Onde ```y_train_pred``` foi gerado por:\n",
    "\n",
    "    y_train_pred = cross_val_predict(sgd_clf, X_train, y_train_5, cv=3)"
   ]
  },
  {
   "cell_type": "code",
<<<<<<< HEAD
   "execution_count": null,
   "metadata": {},
   "outputs": [],
=======
   "execution_count": 126,
   "metadata": {},
   "outputs": [
    {
     "name": "stdout",
     "output_type": "stream",
     "text": [
      "Precision: 0.983117737338303\n",
      "Recall: 0.8271536616860358\n"
     ]
    }
   ],
>>>>>>> 465c7e6b7893226eeaa6ecd42108701a3bb754d4
   "source": [
    "# Aplicando a mesma filosofia com Random Forest\n",
    "y_train_pred_forest = cross_val_predict(forest_clf, X_train, y_train_5, cv=3)\n",
    "\n",
    "print(f'Precision: {precision_score(y_train_5, y_train_pred_forest)}')\n",
    "print(f'Recall: {recall_score(y_train_5, y_train_pred_forest)}')"
   ]
  },
  {
   "cell_type": "markdown",
   "metadata": {},
   "source": [
    "Valores bateram com o que foi proposto no livro."
   ]
  },
  {
   "cell_type": "markdown",
   "metadata": {},
   "source": [
    "# Multiclass Classification"
   ]
  },
  {
   "cell_type": "markdown",
   "metadata": {},
   "source": [
    "    Ler anotações no livro sobre classificadores OvA (one-versus-all) e OvO (one-versus-one).\n",
    "    Alguns exemplos:\n",
    "    - SVM (OvO) -> escala mal com o aumento do tamanho dos dados\n",
    "    - Binary classification -> OvA"
   ]
  },
  {
   "cell_type": "code",
<<<<<<< HEAD
   "execution_count": 186,
=======
   "execution_count": 130,
>>>>>>> 465c7e6b7893226eeaa6ecd42108701a3bb754d4
   "metadata": {},
   "outputs": [
    {
     "name": "stderr",
     "output_type": "stream",
     "text": [
      "C:\\Users\\thiagoPanini\\Anaconda3\\lib\\site-packages\\sklearn\\linear_model\\stochastic_gradient.py:128: FutureWarning: max_iter and tol parameters have been added in <class 'sklearn.linear_model.stochastic_gradient.SGDClassifier'> in 0.19. If both are left unset, they default to max_iter=5 and tol=None. If tol is not None, max_iter defaults to max_iter=1000. From 0.21, default max_iter will be 1000, and default tol will be 1e-3.\n",
      "  \"and default tol will be 1e-3.\" % type(self), FutureWarning)\n"
     ]
    },
    {
     "data": {
      "text/plain": [
       "array([5.])"
      ]
     },
<<<<<<< HEAD
     "execution_count": 186,
=======
     "execution_count": 130,
>>>>>>> 465c7e6b7893226eeaa6ecd42108701a3bb754d4
     "metadata": {},
     "output_type": "execute_result"
    }
   ],
   "source": [
    "# Treinando classificador de digitos com SGD\n",
    "sgd_clf.fit(X_train, y_train) # perceba que agora é y_train e não y_train_5\n",
    "\n",
    "# Prevendo valor 5\n",
<<<<<<< HEAD
    "sgd_clf.predict([some_digit])"
=======
    "sgd_clf.predict([X_train[2]])"
   ]
  },
  {
   "cell_type": "code",
   "execution_count": 131,
   "metadata": {},
   "outputs": [
    {
     "data": {
      "text/plain": [
       "array([5.])"
      ]
     },
     "execution_count": 131,
     "metadata": {},
     "output_type": "execute_result"
    }
   ],
   "source": [
    "sgd_clf.predict([X_train[0]])"
>>>>>>> 465c7e6b7893226eeaa6ecd42108701a3bb754d4
   ]
  },
  {
   "cell_type": "markdown",
   "metadata": {},
   "source": [
    "O scikit-learn, nos bastidores, realizou treinamentos para 10 classificadores binários (temos 10 classes possíveis), coletou as decision_scores de cada um deles e, por fim, selecionou um output com a maior score entre todos (no caso, 5)."
   ]
  },
  {
   "cell_type": "code",
<<<<<<< HEAD
   "execution_count": 187,
=======
   "execution_count": 132,
>>>>>>> 465c7e6b7893226eeaa6ecd42108701a3bb754d4
   "metadata": {},
   "outputs": [
    {
     "data": {
      "text/plain": [
<<<<<<< HEAD
       "array([[-283694.26793712, -527926.95790839, -427070.70417625,\n",
       "          11839.09058558, -473630.63299198,   28514.26814943,\n",
       "        -655448.19763208, -268024.32621947, -521303.34686911,\n",
       "        -869046.15212615]])"
      ]
     },
     "execution_count": 187,
=======
       "array([[ -310080.29099063,  -980437.36225502,  -330265.46896199,\n",
       "         -260790.04181663,  -935317.74174131,  -251149.71687082,\n",
       "         -371503.41243921, -1044014.20065045,  -752091.34236156,\n",
       "        -1416661.4211067 ]])"
      ]
     },
     "execution_count": 132,
>>>>>>> 465c7e6b7893226eeaa6ecd42108701a3bb754d4
     "metadata": {},
     "output_type": "execute_result"
    }
   ],
   "source": [
    "# Verificando com os próprios olhos\n",
    "some_digit_scores = sgd_clf.decision_function([some_digit])\n",
    "some_digit_scores"
   ]
  },
  {
   "cell_type": "markdown",
   "metadata": {},
   "source": [
    "Perceba que o índice onde o score é máximo pertence ao número 5."
   ]
  },
  {
   "cell_type": "code",
<<<<<<< HEAD
   "execution_count": 188,
=======
   "execution_count": 133,
>>>>>>> 465c7e6b7893226eeaa6ecd42108701a3bb754d4
   "metadata": {},
   "outputs": [
    {
     "data": {
      "text/plain": [
       "5"
      ]
     },
<<<<<<< HEAD
     "execution_count": 188,
=======
     "execution_count": 133,
>>>>>>> 465c7e6b7893226eeaa6ecd42108701a3bb754d4
     "metadata": {},
     "output_type": "execute_result"
    }
   ],
   "source": [
    "# Verificando isso\n",
    "np.argmax(some_digit_scores)"
   ]
  },
  {
   "cell_type": "code",
<<<<<<< HEAD
   "execution_count": 189,
=======
   "execution_count": 134,
>>>>>>> 465c7e6b7893226eeaa6ecd42108701a3bb754d4
   "metadata": {},
   "outputs": [
    {
     "data": {
      "text/plain": [
       "array([0., 1., 2., 3., 4., 5., 6., 7., 8., 9.])"
      ]
     },
<<<<<<< HEAD
     "execution_count": 189,
=======
     "execution_count": 134,
>>>>>>> 465c7e6b7893226eeaa6ecd42108701a3bb754d4
     "metadata": {},
     "output_type": "execute_result"
    }
   ],
   "source": [
    "# Verificando ordenação dos labels dentro do classificador\n",
    "sgd_clf.classes_"
   ]
  },
  {
   "cell_type": "code",
<<<<<<< HEAD
   "execution_count": 190,
=======
   "execution_count": 135,
>>>>>>> 465c7e6b7893226eeaa6ecd42108701a3bb754d4
   "metadata": {},
   "outputs": [
    {
     "data": {
      "text/plain": [
       "5.0"
      ]
     },
<<<<<<< HEAD
     "execution_count": 190,
=======
     "execution_count": 135,
>>>>>>> 465c7e6b7893226eeaa6ecd42108701a3bb754d4
     "metadata": {},
     "output_type": "execute_result"
    }
   ],
   "source": [
    "# Retornando label referente ao índice de score máximo\n",
    "sgd_clf.classes_[np.argmax(some_digit_scores)]"
   ]
  },
  {
   "cell_type": "markdown",
   "metadata": {},
   "source": [
    "Também é possível forçar o scikit-learn a trabakhar com métodos OvO ou OvA através das classes ```OneVsOneClassifier``` e ```OneVsRestClassifier```."
   ]
  },
  {
   "cell_type": "code",
<<<<<<< HEAD
   "execution_count": 191,
=======
   "execution_count": 136,
>>>>>>> 465c7e6b7893226eeaa6ecd42108701a3bb754d4
   "metadata": {},
   "outputs": [
    {
     "name": "stderr",
     "output_type": "stream",
     "text": [
      "C:\\Users\\thiagoPanini\\Anaconda3\\lib\\site-packages\\sklearn\\linear_model\\stochastic_gradient.py:128: FutureWarning: max_iter and tol parameters have been added in <class 'sklearn.linear_model.stochastic_gradient.SGDClassifier'> in 0.19. If both are left unset, they default to max_iter=5 and tol=None. If tol is not None, max_iter defaults to max_iter=1000. From 0.21, default max_iter will be 1000, and default tol will be 1e-3.\n",
      "  \"and default tol will be 1e-3.\" % type(self), FutureWarning)\n",
      "C:\\Users\\thiagoPanini\\Anaconda3\\lib\\site-packages\\sklearn\\linear_model\\stochastic_gradient.py:128: FutureWarning: max_iter and tol parameters have been added in <class 'sklearn.linear_model.stochastic_gradient.SGDClassifier'> in 0.19. If both are left unset, they default to max_iter=5 and tol=None. If tol is not None, max_iter defaults to max_iter=1000. From 0.21, default max_iter will be 1000, and default tol will be 1e-3.\n",
      "  \"and default tol will be 1e-3.\" % type(self), FutureWarning)\n",
      "C:\\Users\\thiagoPanini\\Anaconda3\\lib\\site-packages\\sklearn\\linear_model\\stochastic_gradient.py:128: FutureWarning: max_iter and tol parameters have been added in <class 'sklearn.linear_model.stochastic_gradient.SGDClassifier'> in 0.19. If both are left unset, they default to max_iter=5 and tol=None. If tol is not None, max_iter defaults to max_iter=1000. From 0.21, default max_iter will be 1000, and default tol will be 1e-3.\n",
      "  \"and default tol will be 1e-3.\" % type(self), FutureWarning)\n",
      "C:\\Users\\thiagoPanini\\Anaconda3\\lib\\site-packages\\sklearn\\linear_model\\stochastic_gradient.py:128: FutureWarning: max_iter and tol parameters have been added in <class 'sklearn.linear_model.stochastic_gradient.SGDClassifier'> in 0.19. If both are left unset, they default to max_iter=5 and tol=None. If tol is not None, max_iter defaults to max_iter=1000. From 0.21, default max_iter will be 1000, and default tol will be 1e-3.\n",
      "  \"and default tol will be 1e-3.\" % type(self), FutureWarning)\n",
      "C:\\Users\\thiagoPanini\\Anaconda3\\lib\\site-packages\\sklearn\\linear_model\\stochastic_gradient.py:128: FutureWarning: max_iter and tol parameters have been added in <class 'sklearn.linear_model.stochastic_gradient.SGDClassifier'> in 0.19. If both are left unset, they default to max_iter=5 and tol=None. If tol is not None, max_iter defaults to max_iter=1000. From 0.21, default max_iter will be 1000, and default tol will be 1e-3.\n",
      "  \"and default tol will be 1e-3.\" % type(self), FutureWarning)\n",
      "C:\\Users\\thiagoPanini\\Anaconda3\\lib\\site-packages\\sklearn\\linear_model\\stochastic_gradient.py:128: FutureWarning: max_iter and tol parameters have been added in <class 'sklearn.linear_model.stochastic_gradient.SGDClassifier'> in 0.19. If both are left unset, they default to max_iter=5 and tol=None. If tol is not None, max_iter defaults to max_iter=1000. From 0.21, default max_iter will be 1000, and default tol will be 1e-3.\n",
      "  \"and default tol will be 1e-3.\" % type(self), FutureWarning)\n",
      "C:\\Users\\thiagoPanini\\Anaconda3\\lib\\site-packages\\sklearn\\linear_model\\stochastic_gradient.py:128: FutureWarning: max_iter and tol parameters have been added in <class 'sklearn.linear_model.stochastic_gradient.SGDClassifier'> in 0.19. If both are left unset, they default to max_iter=5 and tol=None. If tol is not None, max_iter defaults to max_iter=1000. From 0.21, default max_iter will be 1000, and default tol will be 1e-3.\n",
      "  \"and default tol will be 1e-3.\" % type(self), FutureWarning)\n",
      "C:\\Users\\thiagoPanini\\Anaconda3\\lib\\site-packages\\sklearn\\linear_model\\stochastic_gradient.py:128: FutureWarning: max_iter and tol parameters have been added in <class 'sklearn.linear_model.stochastic_gradient.SGDClassifier'> in 0.19. If both are left unset, they default to max_iter=5 and tol=None. If tol is not None, max_iter defaults to max_iter=1000. From 0.21, default max_iter will be 1000, and default tol will be 1e-3.\n",
      "  \"and default tol will be 1e-3.\" % type(self), FutureWarning)\n",
      "C:\\Users\\thiagoPanini\\Anaconda3\\lib\\site-packages\\sklearn\\linear_model\\stochastic_gradient.py:128: FutureWarning: max_iter and tol parameters have been added in <class 'sklearn.linear_model.stochastic_gradient.SGDClassifier'> in 0.19. If both are left unset, they default to max_iter=5 and tol=None. If tol is not None, max_iter defaults to max_iter=1000. From 0.21, default max_iter will be 1000, and default tol will be 1e-3.\n",
      "  \"and default tol will be 1e-3.\" % type(self), FutureWarning)\n",
      "C:\\Users\\thiagoPanini\\Anaconda3\\lib\\site-packages\\sklearn\\linear_model\\stochastic_gradient.py:128: FutureWarning: max_iter and tol parameters have been added in <class 'sklearn.linear_model.stochastic_gradient.SGDClassifier'> in 0.19. If both are left unset, they default to max_iter=5 and tol=None. If tol is not None, max_iter defaults to max_iter=1000. From 0.21, default max_iter will be 1000, and default tol will be 1e-3.\n",
      "  \"and default tol will be 1e-3.\" % type(self), FutureWarning)\n",
      "C:\\Users\\thiagoPanini\\Anaconda3\\lib\\site-packages\\sklearn\\linear_model\\stochastic_gradient.py:128: FutureWarning: max_iter and tol parameters have been added in <class 'sklearn.linear_model.stochastic_gradient.SGDClassifier'> in 0.19. If both are left unset, they default to max_iter=5 and tol=None. If tol is not None, max_iter defaults to max_iter=1000. From 0.21, default max_iter will be 1000, and default tol will be 1e-3.\n",
      "  \"and default tol will be 1e-3.\" % type(self), FutureWarning)\n",
      "C:\\Users\\thiagoPanini\\Anaconda3\\lib\\site-packages\\sklearn\\linear_model\\stochastic_gradient.py:128: FutureWarning: max_iter and tol parameters have been added in <class 'sklearn.linear_model.stochastic_gradient.SGDClassifier'> in 0.19. If both are left unset, they default to max_iter=5 and tol=None. If tol is not None, max_iter defaults to max_iter=1000. From 0.21, default max_iter will be 1000, and default tol will be 1e-3.\n",
      "  \"and default tol will be 1e-3.\" % type(self), FutureWarning)\n",
      "C:\\Users\\thiagoPanini\\Anaconda3\\lib\\site-packages\\sklearn\\linear_model\\stochastic_gradient.py:128: FutureWarning: max_iter and tol parameters have been added in <class 'sklearn.linear_model.stochastic_gradient.SGDClassifier'> in 0.19. If both are left unset, they default to max_iter=5 and tol=None. If tol is not None, max_iter defaults to max_iter=1000. From 0.21, default max_iter will be 1000, and default tol will be 1e-3.\n",
      "  \"and default tol will be 1e-3.\" % type(self), FutureWarning)\n",
      "C:\\Users\\thiagoPanini\\Anaconda3\\lib\\site-packages\\sklearn\\linear_model\\stochastic_gradient.py:128: FutureWarning: max_iter and tol parameters have been added in <class 'sklearn.linear_model.stochastic_gradient.SGDClassifier'> in 0.19. If both are left unset, they default to max_iter=5 and tol=None. If tol is not None, max_iter defaults to max_iter=1000. From 0.21, default max_iter will be 1000, and default tol will be 1e-3.\n",
      "  \"and default tol will be 1e-3.\" % type(self), FutureWarning)\n",
      "C:\\Users\\thiagoPanini\\Anaconda3\\lib\\site-packages\\sklearn\\linear_model\\stochastic_gradient.py:128: FutureWarning: max_iter and tol parameters have been added in <class 'sklearn.linear_model.stochastic_gradient.SGDClassifier'> in 0.19. If both are left unset, they default to max_iter=5 and tol=None. If tol is not None, max_iter defaults to max_iter=1000. From 0.21, default max_iter will be 1000, and default tol will be 1e-3.\n",
      "  \"and default tol will be 1e-3.\" % type(self), FutureWarning)\n",
      "C:\\Users\\thiagoPanini\\Anaconda3\\lib\\site-packages\\sklearn\\linear_model\\stochastic_gradient.py:128: FutureWarning: max_iter and tol parameters have been added in <class 'sklearn.linear_model.stochastic_gradient.SGDClassifier'> in 0.19. If both are left unset, they default to max_iter=5 and tol=None. If tol is not None, max_iter defaults to max_iter=1000. From 0.21, default max_iter will be 1000, and default tol will be 1e-3.\n",
      "  \"and default tol will be 1e-3.\" % type(self), FutureWarning)\n",
      "C:\\Users\\thiagoPanini\\Anaconda3\\lib\\site-packages\\sklearn\\linear_model\\stochastic_gradient.py:128: FutureWarning: max_iter and tol parameters have been added in <class 'sklearn.linear_model.stochastic_gradient.SGDClassifier'> in 0.19. If both are left unset, they default to max_iter=5 and tol=None. If tol is not None, max_iter defaults to max_iter=1000. From 0.21, default max_iter will be 1000, and default tol will be 1e-3.\n",
<<<<<<< HEAD
      "  \"and default tol will be 1e-3.\" % type(self), FutureWarning)\n",
      "C:\\Users\\thiagoPanini\\Anaconda3\\lib\\site-packages\\sklearn\\linear_model\\stochastic_gradient.py:128: FutureWarning: max_iter and tol parameters have been added in <class 'sklearn.linear_model.stochastic_gradient.SGDClassifier'> in 0.19. If both are left unset, they default to max_iter=5 and tol=None. If tol is not None, max_iter defaults to max_iter=1000. From 0.21, default max_iter will be 1000, and default tol will be 1e-3.\n",
=======
>>>>>>> 465c7e6b7893226eeaa6ecd42108701a3bb754d4
      "  \"and default tol will be 1e-3.\" % type(self), FutureWarning)\n"
     ]
    },
    {
     "name": "stderr",
     "output_type": "stream",
     "text": [
      "C:\\Users\\thiagoPanini\\Anaconda3\\lib\\site-packages\\sklearn\\linear_model\\stochastic_gradient.py:128: FutureWarning: max_iter and tol parameters have been added in <class 'sklearn.linear_model.stochastic_gradient.SGDClassifier'> in 0.19. If both are left unset, they default to max_iter=5 and tol=None. If tol is not None, max_iter defaults to max_iter=1000. From 0.21, default max_iter will be 1000, and default tol will be 1e-3.\n",
      "  \"and default tol will be 1e-3.\" % type(self), FutureWarning)\n",
      "C:\\Users\\thiagoPanini\\Anaconda3\\lib\\site-packages\\sklearn\\linear_model\\stochastic_gradient.py:128: FutureWarning: max_iter and tol parameters have been added in <class 'sklearn.linear_model.stochastic_gradient.SGDClassifier'> in 0.19. If both are left unset, they default to max_iter=5 and tol=None. If tol is not None, max_iter defaults to max_iter=1000. From 0.21, default max_iter will be 1000, and default tol will be 1e-3.\n",
      "  \"and default tol will be 1e-3.\" % type(self), FutureWarning)\n",
      "C:\\Users\\thiagoPanini\\Anaconda3\\lib\\site-packages\\sklearn\\linear_model\\stochastic_gradient.py:128: FutureWarning: max_iter and tol parameters have been added in <class 'sklearn.linear_model.stochastic_gradient.SGDClassifier'> in 0.19. If both are left unset, they default to max_iter=5 and tol=None. If tol is not None, max_iter defaults to max_iter=1000. From 0.21, default max_iter will be 1000, and default tol will be 1e-3.\n",
      "  \"and default tol will be 1e-3.\" % type(self), FutureWarning)\n",
      "C:\\Users\\thiagoPanini\\Anaconda3\\lib\\site-packages\\sklearn\\linear_model\\stochastic_gradient.py:128: FutureWarning: max_iter and tol parameters have been added in <class 'sklearn.linear_model.stochastic_gradient.SGDClassifier'> in 0.19. If both are left unset, they default to max_iter=5 and tol=None. If tol is not None, max_iter defaults to max_iter=1000. From 0.21, default max_iter will be 1000, and default tol will be 1e-3.\n",
      "  \"and default tol will be 1e-3.\" % type(self), FutureWarning)\n",
      "C:\\Users\\thiagoPanini\\Anaconda3\\lib\\site-packages\\sklearn\\linear_model\\stochastic_gradient.py:128: FutureWarning: max_iter and tol parameters have been added in <class 'sklearn.linear_model.stochastic_gradient.SGDClassifier'> in 0.19. If both are left unset, they default to max_iter=5 and tol=None. If tol is not None, max_iter defaults to max_iter=1000. From 0.21, default max_iter will be 1000, and default tol will be 1e-3.\n",
      "  \"and default tol will be 1e-3.\" % type(self), FutureWarning)\n",
      "C:\\Users\\thiagoPanini\\Anaconda3\\lib\\site-packages\\sklearn\\linear_model\\stochastic_gradient.py:128: FutureWarning: max_iter and tol parameters have been added in <class 'sklearn.linear_model.stochastic_gradient.SGDClassifier'> in 0.19. If both are left unset, they default to max_iter=5 and tol=None. If tol is not None, max_iter defaults to max_iter=1000. From 0.21, default max_iter will be 1000, and default tol will be 1e-3.\n",
      "  \"and default tol will be 1e-3.\" % type(self), FutureWarning)\n",
      "C:\\Users\\thiagoPanini\\Anaconda3\\lib\\site-packages\\sklearn\\linear_model\\stochastic_gradient.py:128: FutureWarning: max_iter and tol parameters have been added in <class 'sklearn.linear_model.stochastic_gradient.SGDClassifier'> in 0.19. If both are left unset, they default to max_iter=5 and tol=None. If tol is not None, max_iter defaults to max_iter=1000. From 0.21, default max_iter will be 1000, and default tol will be 1e-3.\n",
      "  \"and default tol will be 1e-3.\" % type(self), FutureWarning)\n",
      "C:\\Users\\thiagoPanini\\Anaconda3\\lib\\site-packages\\sklearn\\linear_model\\stochastic_gradient.py:128: FutureWarning: max_iter and tol parameters have been added in <class 'sklearn.linear_model.stochastic_gradient.SGDClassifier'> in 0.19. If both are left unset, they default to max_iter=5 and tol=None. If tol is not None, max_iter defaults to max_iter=1000. From 0.21, default max_iter will be 1000, and default tol will be 1e-3.\n",
      "  \"and default tol will be 1e-3.\" % type(self), FutureWarning)\n",
      "C:\\Users\\thiagoPanini\\Anaconda3\\lib\\site-packages\\sklearn\\linear_model\\stochastic_gradient.py:128: FutureWarning: max_iter and tol parameters have been added in <class 'sklearn.linear_model.stochastic_gradient.SGDClassifier'> in 0.19. If both are left unset, they default to max_iter=5 and tol=None. If tol is not None, max_iter defaults to max_iter=1000. From 0.21, default max_iter will be 1000, and default tol will be 1e-3.\n",
      "  \"and default tol will be 1e-3.\" % type(self), FutureWarning)\n",
      "C:\\Users\\thiagoPanini\\Anaconda3\\lib\\site-packages\\sklearn\\linear_model\\stochastic_gradient.py:128: FutureWarning: max_iter and tol parameters have been added in <class 'sklearn.linear_model.stochastic_gradient.SGDClassifier'> in 0.19. If both are left unset, they default to max_iter=5 and tol=None. If tol is not None, max_iter defaults to max_iter=1000. From 0.21, default max_iter will be 1000, and default tol will be 1e-3.\n",
      "  \"and default tol will be 1e-3.\" % type(self), FutureWarning)\n",
      "C:\\Users\\thiagoPanini\\Anaconda3\\lib\\site-packages\\sklearn\\linear_model\\stochastic_gradient.py:128: FutureWarning: max_iter and tol parameters have been added in <class 'sklearn.linear_model.stochastic_gradient.SGDClassifier'> in 0.19. If both are left unset, they default to max_iter=5 and tol=None. If tol is not None, max_iter defaults to max_iter=1000. From 0.21, default max_iter will be 1000, and default tol will be 1e-3.\n",
      "  \"and default tol will be 1e-3.\" % type(self), FutureWarning)\n",
      "C:\\Users\\thiagoPanini\\Anaconda3\\lib\\site-packages\\sklearn\\linear_model\\stochastic_gradient.py:128: FutureWarning: max_iter and tol parameters have been added in <class 'sklearn.linear_model.stochastic_gradient.SGDClassifier'> in 0.19. If both are left unset, they default to max_iter=5 and tol=None. If tol is not None, max_iter defaults to max_iter=1000. From 0.21, default max_iter will be 1000, and default tol will be 1e-3.\n",
      "  \"and default tol will be 1e-3.\" % type(self), FutureWarning)\n",
      "C:\\Users\\thiagoPanini\\Anaconda3\\lib\\site-packages\\sklearn\\linear_model\\stochastic_gradient.py:128: FutureWarning: max_iter and tol parameters have been added in <class 'sklearn.linear_model.stochastic_gradient.SGDClassifier'> in 0.19. If both are left unset, they default to max_iter=5 and tol=None. If tol is not None, max_iter defaults to max_iter=1000. From 0.21, default max_iter will be 1000, and default tol will be 1e-3.\n",
      "  \"and default tol will be 1e-3.\" % type(self), FutureWarning)\n",
      "C:\\Users\\thiagoPanini\\Anaconda3\\lib\\site-packages\\sklearn\\linear_model\\stochastic_gradient.py:128: FutureWarning: max_iter and tol parameters have been added in <class 'sklearn.linear_model.stochastic_gradient.SGDClassifier'> in 0.19. If both are left unset, they default to max_iter=5 and tol=None. If tol is not None, max_iter defaults to max_iter=1000. From 0.21, default max_iter will be 1000, and default tol will be 1e-3.\n",
      "  \"and default tol will be 1e-3.\" % type(self), FutureWarning)\n",
      "C:\\Users\\thiagoPanini\\Anaconda3\\lib\\site-packages\\sklearn\\linear_model\\stochastic_gradient.py:128: FutureWarning: max_iter and tol parameters have been added in <class 'sklearn.linear_model.stochastic_gradient.SGDClassifier'> in 0.19. If both are left unset, they default to max_iter=5 and tol=None. If tol is not None, max_iter defaults to max_iter=1000. From 0.21, default max_iter will be 1000, and default tol will be 1e-3.\n",
      "  \"and default tol will be 1e-3.\" % type(self), FutureWarning)\n",
      "C:\\Users\\thiagoPanini\\Anaconda3\\lib\\site-packages\\sklearn\\linear_model\\stochastic_gradient.py:128: FutureWarning: max_iter and tol parameters have been added in <class 'sklearn.linear_model.stochastic_gradient.SGDClassifier'> in 0.19. If both are left unset, they default to max_iter=5 and tol=None. If tol is not None, max_iter defaults to max_iter=1000. From 0.21, default max_iter will be 1000, and default tol will be 1e-3.\n",
      "  \"and default tol will be 1e-3.\" % type(self), FutureWarning)\n",
      "C:\\Users\\thiagoPanini\\Anaconda3\\lib\\site-packages\\sklearn\\linear_model\\stochastic_gradient.py:128: FutureWarning: max_iter and tol parameters have been added in <class 'sklearn.linear_model.stochastic_gradient.SGDClassifier'> in 0.19. If both are left unset, they default to max_iter=5 and tol=None. If tol is not None, max_iter defaults to max_iter=1000. From 0.21, default max_iter will be 1000, and default tol will be 1e-3.\n",
      "  \"and default tol will be 1e-3.\" % type(self), FutureWarning)\n"
     ]
    },
    {
     "name": "stderr",
     "output_type": "stream",
     "text": [
      "C:\\Users\\thiagoPanini\\Anaconda3\\lib\\site-packages\\sklearn\\linear_model\\stochastic_gradient.py:128: FutureWarning: max_iter and tol parameters have been added in <class 'sklearn.linear_model.stochastic_gradient.SGDClassifier'> in 0.19. If both are left unset, they default to max_iter=5 and tol=None. If tol is not None, max_iter defaults to max_iter=1000. From 0.21, default max_iter will be 1000, and default tol will be 1e-3.\n",
      "  \"and default tol will be 1e-3.\" % type(self), FutureWarning)\n",
      "C:\\Users\\thiagoPanini\\Anaconda3\\lib\\site-packages\\sklearn\\linear_model\\stochastic_gradient.py:128: FutureWarning: max_iter and tol parameters have been added in <class 'sklearn.linear_model.stochastic_gradient.SGDClassifier'> in 0.19. If both are left unset, they default to max_iter=5 and tol=None. If tol is not None, max_iter defaults to max_iter=1000. From 0.21, default max_iter will be 1000, and default tol will be 1e-3.\n",
      "  \"and default tol will be 1e-3.\" % type(self), FutureWarning)\n",
      "C:\\Users\\thiagoPanini\\Anaconda3\\lib\\site-packages\\sklearn\\linear_model\\stochastic_gradient.py:128: FutureWarning: max_iter and tol parameters have been added in <class 'sklearn.linear_model.stochastic_gradient.SGDClassifier'> in 0.19. If both are left unset, they default to max_iter=5 and tol=None. If tol is not None, max_iter defaults to max_iter=1000. From 0.21, default max_iter will be 1000, and default tol will be 1e-3.\n",
      "  \"and default tol will be 1e-3.\" % type(self), FutureWarning)\n",
      "C:\\Users\\thiagoPanini\\Anaconda3\\lib\\site-packages\\sklearn\\linear_model\\stochastic_gradient.py:128: FutureWarning: max_iter and tol parameters have been added in <class 'sklearn.linear_model.stochastic_gradient.SGDClassifier'> in 0.19. If both are left unset, they default to max_iter=5 and tol=None. If tol is not None, max_iter defaults to max_iter=1000. From 0.21, default max_iter will be 1000, and default tol will be 1e-3.\n",
      "  \"and default tol will be 1e-3.\" % type(self), FutureWarning)\n",
      "C:\\Users\\thiagoPanini\\Anaconda3\\lib\\site-packages\\sklearn\\linear_model\\stochastic_gradient.py:128: FutureWarning: max_iter and tol parameters have been added in <class 'sklearn.linear_model.stochastic_gradient.SGDClassifier'> in 0.19. If both are left unset, they default to max_iter=5 and tol=None. If tol is not None, max_iter defaults to max_iter=1000. From 0.21, default max_iter will be 1000, and default tol will be 1e-3.\n",
      "  \"and default tol will be 1e-3.\" % type(self), FutureWarning)\n",
      "C:\\Users\\thiagoPanini\\Anaconda3\\lib\\site-packages\\sklearn\\linear_model\\stochastic_gradient.py:128: FutureWarning: max_iter and tol parameters have been added in <class 'sklearn.linear_model.stochastic_gradient.SGDClassifier'> in 0.19. If both are left unset, they default to max_iter=5 and tol=None. If tol is not None, max_iter defaults to max_iter=1000. From 0.21, default max_iter will be 1000, and default tol will be 1e-3.\n",
      "  \"and default tol will be 1e-3.\" % type(self), FutureWarning)\n",
      "C:\\Users\\thiagoPanini\\Anaconda3\\lib\\site-packages\\sklearn\\linear_model\\stochastic_gradient.py:128: FutureWarning: max_iter and tol parameters have been added in <class 'sklearn.linear_model.stochastic_gradient.SGDClassifier'> in 0.19. If both are left unset, they default to max_iter=5 and tol=None. If tol is not None, max_iter defaults to max_iter=1000. From 0.21, default max_iter will be 1000, and default tol will be 1e-3.\n",
      "  \"and default tol will be 1e-3.\" % type(self), FutureWarning)\n",
      "C:\\Users\\thiagoPanini\\Anaconda3\\lib\\site-packages\\sklearn\\linear_model\\stochastic_gradient.py:128: FutureWarning: max_iter and tol parameters have been added in <class 'sklearn.linear_model.stochastic_gradient.SGDClassifier'> in 0.19. If both are left unset, they default to max_iter=5 and tol=None. If tol is not None, max_iter defaults to max_iter=1000. From 0.21, default max_iter will be 1000, and default tol will be 1e-3.\n",
      "  \"and default tol will be 1e-3.\" % type(self), FutureWarning)\n",
      "C:\\Users\\thiagoPanini\\Anaconda3\\lib\\site-packages\\sklearn\\linear_model\\stochastic_gradient.py:128: FutureWarning: max_iter and tol parameters have been added in <class 'sklearn.linear_model.stochastic_gradient.SGDClassifier'> in 0.19. If both are left unset, they default to max_iter=5 and tol=None. If tol is not None, max_iter defaults to max_iter=1000. From 0.21, default max_iter will be 1000, and default tol will be 1e-3.\n",
      "  \"and default tol will be 1e-3.\" % type(self), FutureWarning)\n",
      "C:\\Users\\thiagoPanini\\Anaconda3\\lib\\site-packages\\sklearn\\linear_model\\stochastic_gradient.py:128: FutureWarning: max_iter and tol parameters have been added in <class 'sklearn.linear_model.stochastic_gradient.SGDClassifier'> in 0.19. If both are left unset, they default to max_iter=5 and tol=None. If tol is not None, max_iter defaults to max_iter=1000. From 0.21, default max_iter will be 1000, and default tol will be 1e-3.\n",
<<<<<<< HEAD
=======
      "  \"and default tol will be 1e-3.\" % type(self), FutureWarning)\n",
      "C:\\Users\\thiagoPanini\\Anaconda3\\lib\\site-packages\\sklearn\\linear_model\\stochastic_gradient.py:128: FutureWarning: max_iter and tol parameters have been added in <class 'sklearn.linear_model.stochastic_gradient.SGDClassifier'> in 0.19. If both are left unset, they default to max_iter=5 and tol=None. If tol is not None, max_iter defaults to max_iter=1000. From 0.21, default max_iter will be 1000, and default tol will be 1e-3.\n",
>>>>>>> 465c7e6b7893226eeaa6ecd42108701a3bb754d4
      "  \"and default tol will be 1e-3.\" % type(self), FutureWarning)\n"
     ]
    },
    {
     "data": {
      "text/plain": [
<<<<<<< HEAD
       "array([5.])"
      ]
     },
     "execution_count": 191,
=======
       "array([3.])"
      ]
     },
     "execution_count": 136,
>>>>>>> 465c7e6b7893226eeaa6ecd42108701a3bb754d4
     "metadata": {},
     "output_type": "execute_result"
    }
   ],
   "source": [
    "# Forçando OvO\n",
    "from sklearn.multiclass import OneVsOneClassifier\n",
    "ovo_clf = OneVsOneClassifier(SGDClassifier(random_state=42))\n",
    "ovo_clf.fit(X_train, y_train)\n",
    "ovo_clf.predict([some_digit])"
   ]
  },
  {
   "cell_type": "markdown",
   "metadata": {},
   "source": [
    "Funcionou bem."
   ]
  },
  {
   "cell_type": "code",
<<<<<<< HEAD
   "execution_count": 192,
=======
   "execution_count": 137,
>>>>>>> 465c7e6b7893226eeaa6ecd42108701a3bb754d4
   "metadata": {},
   "outputs": [
    {
     "data": {
      "text/plain": [
       "45"
      ]
     },
<<<<<<< HEAD
     "execution_count": 192,
=======
     "execution_count": 137,
>>>>>>> 465c7e6b7893226eeaa6ecd42108701a3bb754d4
     "metadata": {},
     "output_type": "execute_result"
    }
   ],
   "source": [
    "# Detalhes sobre este output\n",
    "len(ovo_clf.estimators_)"
   ]
  },
  {
   "cell_type": "code",
<<<<<<< HEAD
   "execution_count": 193,
=======
   "execution_count": 140,
>>>>>>> 465c7e6b7893226eeaa6ecd42108701a3bb754d4
   "metadata": {},
   "outputs": [
    {
     "data": {
      "text/plain": [
       "array([5.])"
      ]
     },
<<<<<<< HEAD
     "execution_count": 193,
=======
     "execution_count": 140,
>>>>>>> 465c7e6b7893226eeaa6ecd42108701a3bb754d4
     "metadata": {},
     "output_type": "execute_result"
    }
   ],
   "source": [
    "# Um classificador RandomForest também cabe\n",
    "forest_clf.fit(X_train, y_train)\n",
<<<<<<< HEAD
=======
    "some_digit = X[36000]\n",
>>>>>>> 465c7e6b7893226eeaa6ecd42108701a3bb754d4
    "forest_clf.predict([some_digit])"
   ]
  },
  {
   "cell_type": "code",
<<<<<<< HEAD
   "execution_count": 194,
=======
   "execution_count": 141,
>>>>>>> 465c7e6b7893226eeaa6ecd42108701a3bb754d4
   "metadata": {},
   "outputs": [
    {
     "data": {
      "text/plain": [
<<<<<<< HEAD
       "array([[0.1, 0. , 0. , 0.1, 0. , 0.8, 0. , 0. , 0. , 0. ]])"
      ]
     },
     "execution_count": 194,
=======
       "array([[0. , 0. , 0. , 0.2, 0. , 0.8, 0. , 0. , 0. , 0. ]])"
      ]
     },
     "execution_count": 141,
>>>>>>> 465c7e6b7893226eeaa6ecd42108701a3bb754d4
     "metadata": {},
     "output_type": "execute_result"
    }
   ],
   "source": [
<<<<<<< HEAD
    "# Verificando probabilidades\n",
=======
    "# Verificandoprobabilidades\n",
>>>>>>> 465c7e6b7893226eeaa6ecd42108701a3bb754d4
    "forest_clf.predict_proba([some_digit])"
   ]
  },
  {
   "cell_type": "markdown",
   "metadata": {},
   "source": [
    "some_digit tem 100% de chance de ser um 5!"
   ]
  },
  {
   "cell_type": "markdown",
   "metadata": {},
   "source": [
    "## Avaliando Performance"
   ]
  },
  {
   "cell_type": "code",
<<<<<<< HEAD
   "execution_count": 195,
=======
   "execution_count": 142,
>>>>>>> 465c7e6b7893226eeaa6ecd42108701a3bb754d4
   "metadata": {},
   "outputs": [
    {
     "name": "stderr",
     "output_type": "stream",
     "text": [
      "C:\\Users\\thiagoPanini\\Anaconda3\\lib\\site-packages\\sklearn\\linear_model\\stochastic_gradient.py:128: FutureWarning: max_iter and tol parameters have been added in <class 'sklearn.linear_model.stochastic_gradient.SGDClassifier'> in 0.19. If both are left unset, they default to max_iter=5 and tol=None. If tol is not None, max_iter defaults to max_iter=1000. From 0.21, default max_iter will be 1000, and default tol will be 1e-3.\n",
      "  \"and default tol will be 1e-3.\" % type(self), FutureWarning)\n",
      "C:\\Users\\thiagoPanini\\Anaconda3\\lib\\site-packages\\sklearn\\linear_model\\stochastic_gradient.py:128: FutureWarning: max_iter and tol parameters have been added in <class 'sklearn.linear_model.stochastic_gradient.SGDClassifier'> in 0.19. If both are left unset, they default to max_iter=5 and tol=None. If tol is not None, max_iter defaults to max_iter=1000. From 0.21, default max_iter will be 1000, and default tol will be 1e-3.\n",
      "  \"and default tol will be 1e-3.\" % type(self), FutureWarning)\n",
      "C:\\Users\\thiagoPanini\\Anaconda3\\lib\\site-packages\\sklearn\\linear_model\\stochastic_gradient.py:128: FutureWarning: max_iter and tol parameters have been added in <class 'sklearn.linear_model.stochastic_gradient.SGDClassifier'> in 0.19. If both are left unset, they default to max_iter=5 and tol=None. If tol is not None, max_iter defaults to max_iter=1000. From 0.21, default max_iter will be 1000, and default tol will be 1e-3.\n",
      "  \"and default tol will be 1e-3.\" % type(self), FutureWarning)\n"
     ]
    },
    {
     "data": {
      "text/plain": [
<<<<<<< HEAD
       "array([0.87807439, 0.8780939 , 0.87113067])"
      ]
     },
     "execution_count": 195,
=======
       "array([0.86127774, 0.87084354, 0.84787718])"
      ]
     },
     "execution_count": 142,
>>>>>>> 465c7e6b7893226eeaa6ecd42108701a3bb754d4
     "metadata": {},
     "output_type": "execute_result"
    }
   ],
   "source": [
    "# Avaliando SGDClassifier\n",
    "cross_val_score(sgd_clf, X_train, y_train, cv=3, scoring='accuracy')"
   ]
  },
  {
   "cell_type": "markdown",
   "metadata": {},
   "source": [
    "Ainda é possível melhorar através de uma técnica já vista: ```StandardScaler```"
   ]
  },
  {
   "cell_type": "code",
<<<<<<< HEAD
   "execution_count": 196,
=======
   "execution_count": 143,
>>>>>>> 465c7e6b7893226eeaa6ecd42108701a3bb754d4
   "metadata": {},
   "outputs": [
    {
     "name": "stderr",
     "output_type": "stream",
     "text": [
      "C:\\Users\\thiagoPanini\\Anaconda3\\lib\\site-packages\\sklearn\\linear_model\\stochastic_gradient.py:128: FutureWarning: max_iter and tol parameters have been added in <class 'sklearn.linear_model.stochastic_gradient.SGDClassifier'> in 0.19. If both are left unset, they default to max_iter=5 and tol=None. If tol is not None, max_iter defaults to max_iter=1000. From 0.21, default max_iter will be 1000, and default tol will be 1e-3.\n",
      "  \"and default tol will be 1e-3.\" % type(self), FutureWarning)\n",
      "C:\\Users\\thiagoPanini\\Anaconda3\\lib\\site-packages\\sklearn\\linear_model\\stochastic_gradient.py:128: FutureWarning: max_iter and tol parameters have been added in <class 'sklearn.linear_model.stochastic_gradient.SGDClassifier'> in 0.19. If both are left unset, they default to max_iter=5 and tol=None. If tol is not None, max_iter defaults to max_iter=1000. From 0.21, default max_iter will be 1000, and default tol will be 1e-3.\n",
      "  \"and default tol will be 1e-3.\" % type(self), FutureWarning)\n",
      "C:\\Users\\thiagoPanini\\Anaconda3\\lib\\site-packages\\sklearn\\linear_model\\stochastic_gradient.py:128: FutureWarning: max_iter and tol parameters have been added in <class 'sklearn.linear_model.stochastic_gradient.SGDClassifier'> in 0.19. If both are left unset, they default to max_iter=5 and tol=None. If tol is not None, max_iter defaults to max_iter=1000. From 0.21, default max_iter will be 1000, and default tol will be 1e-3.\n",
      "  \"and default tol will be 1e-3.\" % type(self), FutureWarning)\n"
     ]
    },
    {
     "data": {
      "text/plain": [
<<<<<<< HEAD
       "array([0.90941812, 0.9099455 , 0.90943642])"
      ]
     },
     "execution_count": 196,
=======
       "array([0.90841832, 0.91119556, 0.90708606])"
      ]
     },
     "execution_count": 143,
>>>>>>> 465c7e6b7893226eeaa6ecd42108701a3bb754d4
     "metadata": {},
     "output_type": "execute_result"
    }
   ],
   "source": [
    "# Aplicando scaler\n",
    "from sklearn.preprocessing import StandardScaler\n",
    "scaler = StandardScaler()\n",
    "X_train_scaled = scaler.fit_transform(X_train.astype(np.float64))\n",
    "\n",
    "# Realizando novo treinamento\n",
    "cross_val_score(sgd_clf, X_train_scaled, y_train, cv=3, scoring='accuracy')"
   ]
  },
  {
   "cell_type": "markdown",
   "metadata": {},
   "source": [
    "Melhorou muito!"
   ]
  },
  {
   "cell_type": "code",
<<<<<<< HEAD
   "execution_count": 197,
=======
   "execution_count": 144,
>>>>>>> 465c7e6b7893226eeaa6ecd42108701a3bb754d4
   "metadata": {},
   "outputs": [
    {
     "name": "stderr",
     "output_type": "stream",
     "text": [
      "C:\\Users\\thiagoPanini\\Anaconda3\\lib\\site-packages\\sklearn\\linear_model\\stochastic_gradient.py:128: FutureWarning: max_iter and tol parameters have been added in <class 'sklearn.linear_model.stochastic_gradient.SGDClassifier'> in 0.19. If both are left unset, they default to max_iter=5 and tol=None. If tol is not None, max_iter defaults to max_iter=1000. From 0.21, default max_iter will be 1000, and default tol will be 1e-3.\n",
      "  \"and default tol will be 1e-3.\" % type(self), FutureWarning)\n",
      "C:\\Users\\thiagoPanini\\Anaconda3\\lib\\site-packages\\sklearn\\linear_model\\stochastic_gradient.py:128: FutureWarning: max_iter and tol parameters have been added in <class 'sklearn.linear_model.stochastic_gradient.SGDClassifier'> in 0.19. If both are left unset, they default to max_iter=5 and tol=None. If tol is not None, max_iter defaults to max_iter=1000. From 0.21, default max_iter will be 1000, and default tol will be 1e-3.\n",
      "  \"and default tol will be 1e-3.\" % type(self), FutureWarning)\n",
      "C:\\Users\\thiagoPanini\\Anaconda3\\lib\\site-packages\\sklearn\\linear_model\\stochastic_gradient.py:128: FutureWarning: max_iter and tol parameters have been added in <class 'sklearn.linear_model.stochastic_gradient.SGDClassifier'> in 0.19. If both are left unset, they default to max_iter=5 and tol=None. If tol is not None, max_iter defaults to max_iter=1000. From 0.21, default max_iter will be 1000, and default tol will be 1e-3.\n",
      "  \"and default tol will be 1e-3.\" % type(self), FutureWarning)\n"
     ]
    },
    {
     "data": {
      "text/plain": [
<<<<<<< HEAD
       "array([[5731,    2,   23,    9,   12,   51,   40,   11,   40,    4],\n",
       "       [   2, 6470,   41,   26,    5,   44,    8,    9,  127,   10],\n",
       "       [  51,   36, 5320,  102,   85,   21,   87,   57,  182,   17],\n",
       "       [  48,   39,  143, 5339,    3,  232,   38,   53,  146,   90],\n",
       "       [  17,   24,   39,    7, 5356,   11,   53,   32,   87,  216],\n",
       "       [  76,   38,   37,  189,   73, 4594,  113,   25,  183,   93],\n",
       "       [  36,   25,   45,    2,   41,   93, 5620,    9,   47,    0],\n",
       "       [  21,   24,   70,   29,   44,   12,    4, 5818,   19,  224],\n",
       "       [  56,  141,   70,  140,   15,  149,   56,   26, 5067,  131],\n",
       "       [  44,   35,   23,   84,  168,   36,    2,  212,   84, 5261]],\n",
       "      dtype=int64)"
      ]
     },
     "execution_count": 197,
=======
       "array([[5739,    3,   27,   11,   10,   44,   42,    7,   36,    4],\n",
       "       [   2, 6479,   45,   24,    6,   46,    8,   10,  109,   13],\n",
       "       [  60,   38, 5338,  103,   75,   27,   91,   55,  154,   17],\n",
       "       [  44,   42,  144, 5345,    4,  239,   31,   46,  127,  109],\n",
       "       [  18,   28,   41,    6, 5364,    8,   49,   29,   74,  225],\n",
       "       [  76,   43,   34,  183,   74, 4603,  103,   27,  176,  102],\n",
       "       [  36,   24,   46,    2,   38,  100, 5624,    6,   40,    2],\n",
       "       [  27,   23,   71,   30,   55,   12,    4, 5774,   14,  255],\n",
       "       [  56,  153,   75,  163,   14,  165,   53,   27, 4984,  161],\n",
       "       [  47,   35,   28,   95,  158,   34,    2,  193,   73, 5284]],\n",
       "      dtype=int64)"
      ]
     },
     "execution_count": 144,
>>>>>>> 465c7e6b7893226eeaa6ecd42108701a3bb754d4
     "metadata": {},
     "output_type": "execute_result"
    }
   ],
   "source": [
    "# Avaliando matriz de confusão\n",
    "y_train_pred = cross_val_predict(sgd_clf, X_train_scaled, y_train, cv=3)\n",
    "conf_mx = confusion_matrix(y_train, y_train_pred)\n",
    "conf_mx"
   ]
  },
  {
   "cell_type": "markdown",
   "metadata": {},
   "source": [
    "São muitos números para se analisar. Seria bem melhor visualizar este resultado em formato gráfico. Diferente da ```classificação binária``` a ```classificação multiclasse``` possui uma matriz de confusão que faz o cruzamento de todas as classes (outputs) com todas as classes, sendo difícil realizar uma avaliação baseada em números."
   ]
  },
  {
   "cell_type": "code",
<<<<<<< HEAD
   "execution_count": 199,
=======
   "execution_count": 145,
>>>>>>> 465c7e6b7893226eeaa6ecd42108701a3bb754d4
   "metadata": {},
   "outputs": [
    {
     "data": {
      "text/plain": [
<<<<<<< HEAD
       "<matplotlib.figure.Figure at 0x1cee039f4a8>"
=======
       "<matplotlib.figure.Figure at 0x1ced40fcac8>"
>>>>>>> 465c7e6b7893226eeaa6ecd42108701a3bb754d4
      ]
     },
     "metadata": {},
     "output_type": "display_data"
    },
    {
     "data": {
<<<<<<< HEAD
      "image/png": "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\n",
      "text/plain": [
       "<matplotlib.figure.Figure at 0x1cee039fba8>"
=======
      "image/png": "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\n",
      "text/plain": [
       "<matplotlib.figure.Figure at 0x1ced40fc208>"
>>>>>>> 465c7e6b7893226eeaa6ecd42108701a3bb754d4
      ]
     },
     "metadata": {
      "needs_background": "light"
     },
     "output_type": "display_data"
    }
   ],
   "source": [
    "# Plotando matriz de confusão\n",
    "plt.figure(figsize=(12, 8))\n",
    "plt.matshow(conf_mx, cmap='binary')\n",
    "plt.show()"
   ]
  },
  {
   "cell_type": "markdown",
   "metadata": {},
   "source": [
    "Pelo resultado acima exposto, é possível concluir que trata-se de um bom classificador, uma vez que as faixas mais escuras concentram-se na diagonal. Porém, vamos entender melhor o que significam as manchas cinzas."
   ]
  },
  {
   "cell_type": "code",
<<<<<<< HEAD
   "execution_count": 200,
=======
   "execution_count": 146,
>>>>>>> 465c7e6b7893226eeaa6ecd42108701a3bb754d4
   "metadata": {},
   "outputs": [
    {
     "data": {
<<<<<<< HEAD
      "image/png": "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\n",
      "text/plain": [
       "<matplotlib.figure.Figure at 0x1cee03762b0>"
=======
      "image/png": "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\n",
      "text/plain": [
       "<matplotlib.figure.Figure at 0x1ced40fca90>"
>>>>>>> 465c7e6b7893226eeaa6ecd42108701a3bb754d4
      ]
     },
     "metadata": {
      "needs_background": "light"
     },
     "output_type": "display_data"
    }
   ],
   "source": [
    "# Visualizando melhor\n",
    "row_sums = conf_mx.sum(axis=1, keepdims=True)\n",
    "norm_conf_mx = conf_mx / row_sums\n",
<<<<<<< HEAD
    "\n",
=======
    "a\n",
>>>>>>> 465c7e6b7893226eeaa6ecd42108701a3bb754d4
    "np.fill_diagonal(norm_conf_mx, 0)\n",
    "plt.matshow(norm_conf_mx, cmap=plt.cm.gray)\n",
    "plt.show()"
   ]
  },
  {
   "cell_type": "markdown",
   "metadata": {},
   "source": [
    "As colunas 8 e 9 possuem quadrados mais claros que as outras. Isto significa que muitas imagens são classificadas erroneamente como 8s e 9s.\n",
    "\n",
    "Da mesma forma, as linhas 8 e 9 também possuem quadrados mais claros, mostrando que os próprios digitos 8 e 9 são confundidos com outros.\n",
    "\n",
    "Outra análise a ser feita diz respeito à coluna 1 que, por sua vez, é bem escura, mostrando que dificilmente há erros neste caso (apenas uma pequena parte pode ser confundida com 8)."
   ]
  },
  {
   "cell_type": "markdown",
   "metadata": {},
   "source": [
    "    Os erros não são simétricos: e.g. há mais 5s classificados como 8s do que ao contrário"
   ]
  },
  {
   "cell_type": "markdown",
   "metadata": {},
   "source": [
    "Esta matriz proporciona diversos insights em como melhorar a performance do algoritmo. Por exemplo, tendo em vista os resultados acima explorado, seria importante pensar em uma forma de mitigar os erros apresentados nos labels 8 e 9. Coletando mais dados destes labels, talvez. Ou então supor novas features, como por exemplo, escrever um algoritmo que consiga calcular o número de loops em um número (8 possui dois, 6 possui um, 5 nenhum) e assim sucessivamente.\n",
    "\n",
    "Um outro ponto sugerido é o de pré-processamento das imagens (```Scikit-Image```, ```Pillow``` ou ```OpenCV```)."
   ]
  },
  {
   "cell_type": "code",
<<<<<<< HEAD
   "execution_count": 201,
=======
   "execution_count": 147,
>>>>>>> 465c7e6b7893226eeaa6ecd42108701a3bb754d4
   "metadata": {},
   "outputs": [
    {
     "data": {
<<<<<<< HEAD
      "image/png": "iVBORw0KGgoAAAANSUhEUgAAAlMAAAJCCAYAAADky0LWAAAABHNCSVQICAgIfAhkiAAAAAlwSFlzAAALEgAACxIB0t1+/AAAADl0RVh0U29mdHdhcmUAbWF0cGxvdGxpYiB2ZXJzaW9uIDIuMS4yLCBodHRwOi8vbWF0cGxvdGxpYi5vcmcvNQv5yAAAIABJREFUeJzsnXmgTdX7xj+3MiQS0aAMmZMyVBKRBilDRaEikiSSqCRJJZEpERGSTA2mZAiNRAMlZLgIkSFlSCSE/P44v2ftc889dzzj9X0//3DPdNe5e++113re933ehJMnT2IYhmEYhmFkjtNiPQDDMAzDMIysjC2mDMMwDMMwQsAWU4ZhGIZhGCFgiynDMAzDMIwQsMWUYRiGYRhGCNhiyjAMwzAMIwRsMWUYhmEYhhECtpgyDMMwDMMIAVtMGYZhGIZhhMAZsR7A/2M27IZx6pIQ6wFEAZvDDOPUJc05zJQpwzAMwzCMELDFlGEYhmEYRgjYYsowDMMwDCMEbDFlGIZhGIYRAraYMgzDMAzDCIF4qeYLC8899xwTJ04EYOvWrUFf06BBA2bNmgXA7bffDsBHH30UnQGmg48//hiA4cOHAzBnzpwUX3vOOecA8Oeff0Z+YGmwevVqAH755RcA5s6dC8DOnTuT/X3vvvtuAEqVKgVA27ZtKVq0aLSG+j/Lf//9B8CxY8fcY2PHjgV8xwngzTffBGD37t107NgRgJdffhmAPHnyRG2s/yscP34cgB9//BGArl27UqlSJQCuv/56ACpXrgzAeeedB0COHDmiPcz/KVq2bAnA+PHjAahXr56bs6pVqwZA4cKFk7wne/bsnH766VEcZco0atQIgA8//NA9dt111wG+8wugfv360R9YCPz111+Ad69+4YUXKFOmTNDXlixZEoAHH3zQXTvRwJQpwzAMwzCMEEg4eTIu7FFCGsQ333wDwE033cTRo0eD/4L//54JCZ5dhHZ4er92hLHkwQcfBOCdd94BoFmzZgB07NjRqQhSD6RM7du3L8qjTMqbb77J448/DiRVPdJLgQIF2Lx5MwC5c+cO69gMOHHiBAALFy4E4Oabb87Q+7ds2QJAkSJFMjsE85lKAV3Ljz76aPIPDJizbrzxRgDy58/vjmGbNm0y82vDzrBhwwB47LHH3GMXXngh4IsYALRv3z76A8sEr7zyCuCNW4puarRq1YpRo0YBcMYZ0Q34bNu2DYC3334bgL59+wIEvRfqnvf9998DUL58+WgMMdNIsdV9cf369QBcc801nH/++UHf89VXXwE+1XflypUAFCpUKNShmM+UYRiGYRhGJDklcqY+/fRTIPhKXLk4f//9N+Bb0SovSa/XajcelKnBgwcDsGvXLgBeffVVwJcvMX/+/CSvjRNVkWnTpjlF6qyzzgKS7gS0+1GMWwrb77//DsCePXto3rw5AJMmTUryObFm9uzZbhc3efJkwNt5litXzr2udu3agJevkD9//mgOM1UGDBgAwLPPPpup999xxx0AfP311wDkypUrPAMz3FxUoEABAG644QY2bNgAwIoVK5K89osvvnD/nzlzJuCpjo888kjExxqML7/8EoAnn3wSSKr8aw6TWlW4cGEaNGgQ5RFmnG7dugFw+eWXAySZdzUXKCf3yJEjgG9Ou//++wHfMYwW1apVY8eOHYCnUIkqVaoAvijHvffeC+CUmi5dugC+vLCCBQtGa7gZZurUqYA37hdffBHw5UylROfOnQHfvXT//v1AWJSpNDklwnw6me6++26uvvpqwLupXXXVVYA36Zx++unuItEFoT++Fi7xgBJTldR45MgRWrRoAfgWLwC33nor4E3IsaJ27douWVaJjRUrVkzx9Up2VthCNw/wvou+W7TRwlzJ1+vWrcvQ+xWm7NatW6YXL+FG18KMGTOSPaebuBa8jRs3BmDp0qWMGzcuyWv37NkDZGqhaGG+FNAipGHDhoAvUfjgwYOAl3Qrfv75ZwB69erFggULAC8hevHixZn59ZmmVq1aACxZsgSAnDlzAjB69Gjq1q0LeAncnTp1Anyb1W+//Taq44w0KrSpW7cuTz31FOBtXiKJ5tDLLrvMnScqEFGY78477wR84dYhQ4YA3r1OfPLJJxkO+0eTf//9F/AWrQpTBivC0Gtr1qwJwJo1a5xQYmE+wzAMwzCMOOeUCPNddNFFAOna9ezZsyeZbcJdd90VkXGFQmAS44YNG5wiJflWO79YM3XqVLcrOu20tNfn2iXUqVMHSKpMxZr77rsP8FSYJk2auJ12vXr1AE/lnDdvnnufwi7Tp08HoHv37mTLlg3wJPVYoUIF7eYuuOACV/6tpGCV3QspH0ZkCaaG61oKtKK4+OKLAVi0aJELry1btgzwEnWjVQqu5HKlSkjhlIUAeKHH119/HUhfIndWQUU/PXv2BCBbtmxufogGs2fPBnx/dykxUp2kGvqTN29ewLuvKPLx8ccfx7UylT179iT/psYbb7wBeGpphw4dohLeE6ZMGYZhGIZhhMApoUylhwMHDgAwceJEl7itJOd4NiOUGab/ji9fvnyAtxuMNdr1pBclSsY61ysY+pvWqFEDgPfeey9FtU3qDuCSTzt06ADAiBEjnIFprFEOR5MmTYDU89GU5+WfdKvjGy+mhP+rqFR/yJAhLtFbOYrRNCcEeOuttwAYOnQokLoirXy8jz76yCXVp5ZTGW8cPHiQRYsWAZ71S+/evQEvIb1ly5ZBFaFI8fDDDyf5Ny2kuOscUs6VVPesiIrKlN+qHE/9rDyxaGHKlGEYhmEYRgicUsrUb7/9xoQJEwD44YcfAFi1ahUAhw8fBuDXX391uzqVsJYtWzbaQ00RGSuOHDkSwLW+OXTokHuNSqSff/55AF566aVoDjHT/PPPPwD06dMHgE2bNrnnLrnkEsBroRErlIMiFSY9OWDgtfTxL2cPzEOKFeeeey4QXJGSAiWTWOWBSckFrxorowqkERq6XpTXpmrMf/75xxkWyvQz2kjVT83CRKq6zrFjx465fMN4RorHM888A/iqp2XzEEjVqlWTvDZeUWWfFKmszoYNG2jbti3g5UrLVsjfODaanBKLKTnPdunSxZUVBxLMAV1975SAN378+Jj3iFN5p04Q3cyvuOIKBg4cCHgyZr9+/QBfwp1COVdccUVUx5sefv31V8BbvAYLf8nD6cwzz4zewIKQUQ8lLdIl++u4FShQIG6sEcTGjRsB3wZDmw4t3lPr76hJywg/mq8UNvvggw/47bffAC+kJD82f1QqLiuPe+65J+JjTS86pxRS0nds06ZN3Dtug+enpoTm1NB3S++mK5oojaJRo0buvhLIjBkzXEFW69atoza2jKKEeW0eevbs6R5Tvz4VNMWK+DsDDMMwDMMwshBZ2rRz+PDhgNfXyl91SvYLgihTgeTOnduF1+QYG2tUAuvf5Vt97CTdrl692oXHVDIda/T3njt3rjMmlIGaUCJ99+7dXShDJbDxuNMLZO3ata4n4WeffQZ4obD33nuP2267LWZjC4bOoYwm/is0cMEFF2T2V5tppx///PMP/fv3B7zS+mDzUmpzVuBzUqb69+/vLBRihUL2UjweeughwIsgxDs9evQA4OWXX3aPKazarl07wLN5UIpFw4YNGTNmDODNa7FCSenvvfcekDRFJBiySwi0sogHpPwpgV7z7FNPPeXCeVFKpzDTTsMwDMMwjEiSJZUp7XhUXqv+O6mpTjLm9LfTHzFiBOD1gzt58iSFCxcGvB5A6lYdj8hioGjRok7RmThxIpDUSiGaqLWB+ltlNEFWcW+1QGnTpk0YRxcaSgheunQp4FMG9X3Vtki703jMXcusMqU8sGuuuSazv9qUKT8eeOABl7OWmvqka1qFJqVKlXLPKV9SZp2idOnSfP7550B0+pEFo3jx4gBs2bIF8Mbds2dPd13L0Da1OTtWKBdHUYGzzjrLKf86JjpuSrK/+eabqV69OgBvv/024JnlRhvd6z788EMASpYs6Y5JIAcOHOC7774DvGOhuatXr17cdNNNQGxyWceMGePy7lQAoIKHYsWKuddJJVR/VEWVVBwQJkyZMgzDMAzDiCRZUplS89lLL7002XMyXZSJonZC1113XYqfN2jQIMCXb6DKGeUjaXUfj6jap23btq60XS1mmjdvHpMxqSJk7NixIX2Odq5t2rRh2LBhIY8rsyxcuNDlHqj6U0ro8ePHXcXe008/DQRvwBkvBFOm1DFeKq/O/59++sm95vbbbwdgypQpgHdsMkD8yQ/hJ91zWLVq1VzLi2DKlJSoBg0aAMENOffu3Qt4+aKyS9m7d69r9i7FIdpoLpJ6FpgrCT51Drzv3a5dO4oUKQLEj6VIRpg5c6a7ZyjnSAa+0UbX7h9//AFAiRIlXB5bIAcPHuSTTz4BvHNJ7wMvj0rV4qlZYYQLRVyKFCniqutlLqqG2sHQPC0Vq2rVqq7pcxgsd0yZMgzDMAzDiCRZUpmSZ4ZW1IsXLwZ8sWLlCaj5cUZo3bq1U1S0y1Dj2nhm4MCBThmJtTLVqlUrwLP2B1/MHrxGrQ0bNgQ8byN5TIHnSSXjvISEBJ566inA2+lGA+2u27Rp43IohHbQb7zxhvMoS23HFC8ol2bw4MG0aNEC8PIjypQpA3iKR+XKld0OUaj5c/78+TP6q02Z8mPx4sXOG0f5Hpq3mjZt6poIZ6R9j+bA+vXru9w+zV3+lcDRRJVYamS+YMEC1xBc7VlEjhw5XLWo8lY1h6SkqsQbqjhTk/CVK1cCnvob78iwWHmub7/9tlNOpVCpMXckc6g0306bNo077rgDSN/8qvuJVNpu3bq5OWz06NFASPfFNOewLLmYihTvvfcezZo1A7LGYkqJwfXq1XOhp1gvpuQArtLvm2++2ZVtp8cQU471N954I+C7uWsxpkk5GuiCfPTRR13oK5ixZYUKFQAvNKOwclanTJky/Pzzz0kes8VUqsTFHDZo0CBnRaLS8XgqddfiUefSBx98APhsE2TBoetMIR4VfMT7okTjVKFGr169AM+8NKvRqlUrdz/ROkH3Q4Wg47lf5x9//OHug9psqCgiE6FkC/MZhmEYhmFEklOinUy4yGq9x9SLaP/+/S4pWKW7sUKJzO+++26m3l+iRAkg6Y5H7TWiiZSxxMREt2OWMqbw8qxZs5yUr8T7yy67DPDCZlkNtSxSuNXIWuzatcsldQfaJsQDMuOVMiD1rE2bNi4koxC0kvSljkhxi1cUMq9UqRKQtPdoVmTs2LHufqIwmZR3KT46NvHIeeed59oXqe1SSm11woEpU4ZhGIZhGCFgyhSe4qAyyqxItWrVAGjSpEmMR5I5VK6vhq/+5bn+Bm2xQMnB+rdWrVqAL09KCffvv/8+4JnCZtQYM1SUdKzxrFixwpn39enTJ92fo6Tfo0ePuseUR5jVlNv/JaTqqHACfAaeWYWcOXM6c89zzz03yXMqRokkO3bscEnWU6dOBTJuc6Ikaak3SuTev39/zAw8Q0V/ExUOKH9U6ny0kD2OWqm1bNnS5aumxJEjR5w6KwNPtQWKBKZMGYZhGIZhhECWU6aWL1/uVqkq+VWpfXo4duyYi8Vr56B2MuDlHMWqnDg9qDJh3rx5gK+UWLku8cjhw4cBr5xWP2s3/cEHHzj1xF8RAShXrlzUVZ70kjNnTrp37w54ylQwg8JIcuTIEcBTj1Ryn16UGyVFM7CCD7xqpHiu3MlqqAxdO+dQ2yapmfDevXvJkycPgGvCnVXQNSQLD1XvqXFvJPn3339d+xj9PlUkZ1bN2LFjB+CrToy1MiXz6VtvvRVIv7WB8r9k2Kt5QlWZkUaNpF944YUkj1977bVpKlPPPvssCxcuBHDtmzJhOJxustxias6cOc4LSv8q2ffuu+92E4nYuHEj4Pma/Pfff8luGErYPHnypHOBjUZPPiXD+Z+YGktqErMWk/JxeeSRR7jyyisjNcw0+fHHH9m3bx/g3Zznzp3rnlcipspptTjSDSUY5cqVA2D+/PmZ8gyLFnLPF/JFiRYnTpwAgie7yhNG14l6VmXPnj1ZOE/WGv4oEVi+R0b40PWqa0I9Hv19ps44I+XpOTExEfA2kv62IXKsT+tmEw9oMzB9+nRXxKF5cejQoUB0zr8cOXKQO3duwEuqloP8iBEjqFmzJpD6MZFtgHrzyVcvE1YiYUfXvuZV+RLWqVOHfPnypfl+dRDRefvll18Cvg4RYXAXT5Fvvvkmyc/6+wc7J2TfoFSRIUOGOB/AaPSqtTCfYRiGYRhGCGQ5086GDRsmC2Wk1nk9I6/p37+/S7jTLiUSqLegdpBSz8BLvpQJpHZr4OuiDfDiiy8CXtLx+++/H1VFRJ3SGzduDPjCdRpLZsiRI4eTwRU2k5twPOzqUmLjxo1OBtd5pRJcGfdFCylNSkAPlXvuucdJ42EI75lpZwrIHFYd78Fnwgtwyy23AJ4aIIPL3377zYVdAuez+vXruz5q8ZyAriRvpScsXbrUhfWkSEW7mEZj0rzmj9zZhUydZ8yY4R6T2ajU3h49egBeqCqWKFQv1W379u2Ab55SP1vdj6pXrw5Avnz5XC++r776CvDC0bqfqg9epNAxkRWD+lQGKlbg9XvUXHjjjTe6VB4VN4SAmXYahmEYhmFEkiynTK1evdq1J1m7dq3vzRlUptT7SSXuzzzzDACXXnppBoedOZRPFGzHItVKORSKcYP3fcVrr70GRD/RVLsb7QTSi9Q+mdspDt+5c+eIlqxmBu249uzZ44zfhGwbbr31VpYvXw54OXZSD6ON8u7U57BPnz5OQcwIUkJfeumlcOaqmDKVAlIxZKkxcuRI7wNTmdf0nNQcva9SpUquDUu8oLy+5557jmnTpgGeGq8cmHPPPddFHKpUqRKDUXrj1Pwsq5yvv/46Q58j9aZ3795AfLXBkbWAbFN+/fXXoG2ywJeLrDlA/QaF7Gr0eZFG97rhw4cDPmuGOXPmAF7eqgqa1MbnySefDGfCuSlThmEYhmEYkSTLKVPgldZLFVC10tSpU52iI1Tpp6qX+vXrU7ZsWSA+83G0K1ILE7VQOHDggHtNv379AK9CIdpd1bWT0W7av6WASm/9jTabNm0KeKaXYYhfRxxVf06ZMsXloKh1TNu2bQGfMWaNGjUAX2sZiB9jy+PHjzuDvVGjRgFensTYsWPdOaP8O6m9UgpSU3kzgSlTaSCFavfu3a4aSTvvYG1hlI/Tvn17IFONW6OGFAN/xUy5hmqJpesonpDau3TpUpejplwdVfqp6rpx48Z07NgR8HLc1Donnvn9999dbqSQNcX8+fPdY2rzpblP83ygah8pdD8MVtmte41y7SJka2TKlGEYhmEYRiTJksqUYUQaKVM1a9Z0lYbHjh0D4NChQ4DPu2XEiBFA/ChScYopU//DKMewSZMmrtWKqnVVSWYYcU6ac5gtpgwjCHv27AF8FhUKt2hRpdBYRpz3/8exxZRhGFkZC/MZhmEYhmFEElOmDMOINKZMGYaRlTFlyjAMwzAMI5LYYsowDMMwDCMEbDFlGIZhGIYRAraYMgzDMAzDCAFbTBmGYRiGYYSALaYMwzAMwzBCwBZThmEYhmEYIWCLKcMwDMMwjBCwxZRhGIZhGEYI2GLKMAzDMAwjBM6I9QAM2LJlCwCDBw/mnXfeAaBw4cIArF69GoBWrVq5BrtFihSJ9hDTzU8//QTA5MmTAfjtt9949913AShatCgA+/fvB+Duu+8G4NFHH+XSSy+N9lAjws6dOwHfccuTJw8A1157bSyHZMQhf/31F4C73jt16pTsNWqs3a1bNwBatmwJwPnnnx+FEUaGP/74A4Avv/wSgGXLlgG+OXDq1KlJXqtWZwkJvk4eOXLkcK8vV65cVMYLsGrVKqZNmwbgxrhmzRoAcufODUD37t155plnojam1Hj11VcB3/0E4LrrriNHjhwA3HXXXQA0aNAgNoM7hTlle/PNnj0bgJ9//tn3C/7/e/bq1ctNZJqcHnvsMQAqV64c7mGki8TERACqVavmxla2bFkALrroIgAqVarE8OHDAXjggQcA3yIEiIuFiBZRVatWBaBevXoAbhLyJ2/evIB3Q8mTJw+9e/cGoEOHDhEfa2Y5duwYAEOHDgV8C0VNrkeOHEny7/79+8mePTsAhQoVAuD9998H4Jprron4WI8cOcInn3wC4P5NDxprq1atuPDCC8M1HOvNF8Cnn34KQJ06dZI8XrBgQe677z4Axo4dC8CBAwcA79jMnTuXyy+/PLTRRhBdJ2vXrgW8OWDr1q3u///88w/gLZQASpcuDUDOnDkB3/UFsHv3bgCaNWvG+PHjIz18R79+/QDo3bs3Bw8eTPW1CQkJfPvtt0B0ru/UqFGjBuBt7EqXLs2SJUsAbyNbpkwZwLfguvnmmwE4/fTToz3UNBk3bhwAK1euTPL4W2+9xUMPPRT0PZ07dwZ8i+/zzjsvXEOx3nyGYRiGYRiR5JRSpmbPnk3//v0BWL58OeDtgLTr2b59u3tMSCnZt29fOIaRafr06UPBggUBLwSWL18+9/z9998PwKRJk5I8t337ds4888xoDjUJBw8epEmTJkkea9euXYqvL1WqFOCpWAcPHuTiiy8GYMWKFQDkz58/EkMNiYkTJwLQokULwKd2+u+s/cmZM6dTqYSO1969eyM2xvnz5wPw/PPP88MPP6T4usAQSiB16tTh448/DtewTJkKoHnz5oAXNnrhhRcAX7hP17KUW10n69evB6B9+/YMGzYsDEMOH1JlvvzyS6e6ffXVVym+vnbt2gDUrVsX8Knr+p4jR44E4I033gDgzz//BOCLL76IavRA1/nFF19M48aN3TgB/v77bwCuvvpq97OUOM3hsUIqlK7tKlWqOGVNURBFNxITE5k+fToADRs2jPJI06Zp06YALFiwAPDuHf/99x8bN24Eks+nmtsKFChA27ZtAe88E6VLl+bcc8/NyFBMmTIMwzAMw4gkp0QCuhJ8V6xYwb///gt4SlSrVq0Ab4W7d+9efvzxRwC3atUOMNY8++yzqT4fuJI+fPgw4K3EY8WxY8e48cYbAbj11lsBUs3pUA6Pxg+QK1cuwJdXAfGpTGl3OmvWLMCXZH/VVVcBXr6dEjwvvPBCrr/+esDbWUfiOx06dAjAKRXPP/884DsmKalOgMsl0Gv27NkD+HZ84ClcRmS44oorAFi6dCngJZn7I/UjUOHUe2PJ4sWLARg4cCAAn332GeC7pjUfKXfnkksuAXyqjhSCwPlh586dNGrUCIBFixYleY0SqaOd0xosP0vHpFmzZoBXPNS5c+eYK1IiWM6WimGqVKkCeIn/uXLlcjl6ylFT4UM80KtXL8Cbp6RMAWzYsAFIHlHS+fLdd9/Rp08fAPevzs0yZcq46Ilyr3QPyiymTBmGYRiGYYTAKZEzpZL7SpUquVwExd+Vi+PP3LlzAahfv36Sx0+cOBHKMCLK8uXLuffeewFvRd6jRw8AevbsGbNxZQSNW4rN77//DkDNmjVdnkW2bNliM7hMsHnzZooXLx70uU8++SRZpVbXrl0B6Nu3b8i/W7llDz/8MODtNIV/PpeuDymxJUqUcDl5QpWtyguDsF4PljMVgCrUtBs+66yzkr1GavqUKVMA33ED+P7772OmHkgJrVWrFoBT+S+77DIAbrvtNp544gnAy0VVdV6wz5HyMHr0aFe5rHlNKlawv0202bRpE+DLVwNPXb/tttuApOPPCqj6ukKFCs4m4cMPPwTis6ovM+zdu9dFP9566y0AXnrpJSBprqiqlrdv357ax1nOlGEYhmEYRiQ5JZSpjLBixQq3EpcPh4hHZUqr5auuusopOYp7y/gu1FhvpJFHiPKpdu3aBcDZZ58N+Ezx4tmINCMod6Rr166uolT5Sb/++iuA85/KLPv27aNatWqA56MWSPv27bnjjjsA3+4TUq8ykrqpnRuYMpVBwjKHHT9+3OXmzZw5E/COn/LY4iU3J6McPnyYzz//HPBMI5UD06dPn2RqabwwevRop5ZpDpYfnlTmeFDP0oNyI6+88krAp97oPqLKxKzOtm3bAJgzZ46LhowZMwbwPNsKFiyYrAJe+bopkOYcdkokoKeHQYMGAb4b944dOwDvZv7RRx/FbFyBaHH79ttvA/DUU08BviR5TaJvvvkmEN+LKCUyDxw4kAEDBgBeCesjjzwCwJNPPgnEt6N7aiQmJjJnzhzAMyhUmfFff/3ljFd1IYe6iBK1atVyk4RQ0qnGk9Fkd513+lehWCO6PPfcc8nmI9mOZLVFlEIsCuEPHDiQr7/+GoDHH388yb9KUo8HdMN9/fXXAd9GQyE8Xd9KEckKaQknTpxwBQMqdNDGbvz48c4MVvfFCy64AMg64T7dV9577z0AOnbsCCQN5WnxKIPS9u3bB00BCgUL8xmGYRiGYYTAKRfmk4y8efNmAF5++WXAk/78V6ujRo0CoHXr1uH69SGj0lupZqJAgQJ88cUXAJQvXz7q48oo33zzDeDrCxXIL7/8AniJ0VmVli1bMmHChKDPNW7c2D0XLkVKnHbaaS4BWEm6SiDPrHohg0IZws6fP9/t4sKAhfnSSaFChVwYXOj88Q9LPPjggwDcc889QHyFaKSaSpGWyl6oUCFn4aEQdDyiHntqJ1OhQgVnJBrrVjHpQabUKkp59913XTQjPah464EHHnC2AfGmUv3zzz8uqXzEiBGAd94pTF6vXj0XRpatRghzsSWgG4ZhGIZhRJJTImdKrQxWrlzpdhVpNaYEr+ljPKHdpxIctZM788wz4zpHKhAlZHbo0MHFshXbluKhZGdZPmQ1xo0b53Ip1PpC+RaLFi1yOSPhVqZ+//13Vxqf2ZyN48ePA74cHfDyDapXrw748rL0GuW/hft7GMlp2rSpm5ekoit6IHPCWbNmuRxQNd3WPCGrjFixevVqbrrpJsA7b5S83bp1awoXLhyzsaWXwPO8VKlScWVkGYgKRaTQvPbaa4AXnUlISHDjV8sYGar62zmo/dT3338P+PKKZH2hRvQFChSI3BdJB6NHjwZ87ZdUDCCDbkUCZEIabUyZMgzDMAyC3urIAAAgAElEQVTDCIEsnTOlHZwql4K1z9CKPHfu3ICvNYPKQ6WevPvuu0ByE89YorY4qrCoVasWJUuWBLycIzU+vuiii2K+I00NNXPVLlo7CrUvmDZtWjjzc2KCKpYUr//rr7+cIaHUn3hhx44dLhdC5oNCNg41a9Z0KtvRo0cBL89FFVgZwHKmwvEL/n+uPnbsmGtUqyotzRPXX3+9M1+UaWY0WL16NeBrYKy8T5kjB8ubTI3hw4cn+VlGmdFCOUcygP7www+d8ajuEZ07dwa8XJxgxqTRQnnBUgB1z9NcdNdddyUzEE4PDz74IGPHjgV8DbjBU72ixbhx4wCvClH5hM2aNXPfV8pUhElzDsvSiymV1usA+y+mlJCrcJlO+ilTprikTaEycCV4xysLFy4EPPfrNWvWAD53V02umohieXGnxbRp0wCvr9d3333nushr4RWYgJ9VkJfW/PnzqVixIoDzm4o1uuHeeuut7txJrX+f5ga95owzfFkBffr0cddeOrHFVITQxkQ9SOfNm+f+rwTd1I5xqKiIRze23bt3s2TJEsC7ya1btw7wXfcKRWnBlZ7z7/zzzwd8303XVDTQomrGjBluXvr4448Bb4Oh8fTo0cP1Fow2Cs9t3LgR8BZ8EhAyy9atW10fSPX2S8MlPOyoC4D+/vpuMbAzsgR0wzAMwzCMSJKllSmtTpXIXKtWLWfYlVrZ/bXXXgvgdlBCCZNZjTx58rheV927dwe8nlfxjMZcrVo1Vq1aBeAUKh3beFbY/Pnzzz8BXzdy8O3QZbiqEvFYoV2dzB8hueqk8J6/tYJeI2dgHS/wSvIVIk8DU6aiRIsWLVx/RR33SCgmMn2UE79C9uALwYBXGKREaPDOMxlD6melLIBX0q9uAjLELVSokAuZq89ktNHfVBYi8+bNA3zXiq4JKe6xTtYOB5dffjngRUG++uorIOOh28wixbNPnz6Ap0wNGDAgWuE9YcqUYRiGYRhGJMnSypT466+/gPQnXMqM7dlnn03y+LJly6Iakw8X/spUBhWDuGDXrl0uQVIK1fPPPw/Aiy++GKthZQjtRrt06QL4iiKUlK58vVhRqVIlwOsUD15O2qOPPgrgEtKLFSuW7P3KcVNCroojIN39+0yZihLr1693eS76V6Xu4UQtkoIVvgSqnmrl0blzZ6666irA68mXGspL0vnXqVMncuTIAXjzQ5s2bTL9HcLB0qVLAZ+9ixQ4qTYq41dbqazGoUOHnDIl5V0q4YUXXhiVMegcUMRJeYAXXXSRUy7jJQHdlCnDMAzDMIwQOCVMOzNSArx3794UVZsJEyZkCWVKyoAaBh86dMiZN2bFBrUXXHABt912G+ApU6+88grgy0GKZ1NPlYTLNFG78VtuuSXmipSqe/xzVsCnmmm3X7NmzTQ/p169eoBX0bN3795kHdeN+KBMmTLccsstgFf9q3M0nG2olNuoJrk6H6pVq8YTTzwBeNeC1E6dP+lFKpRMGMePH+/UXp3bsaZKlSqAz6T3scceA7xmyGqUHGj1kFX44YcfnA2PquOjpUgJnQOqHlaF5cSJE53iJ5VS+XSqOo42p8RiSuzfvz9Np9rp06e7ySUQ9SeLdyZPngzAO++84x5T4nmsEjNDRR5aQgvGKVOmhLyYUgKuOtPLJT+zfexEYmKiS4hUQq5uWPEwgepvKl8o+aq1a9cuXdYTCxYsADx3dznYn3POOW4CM+IPhdmOHDkCeK784aRIkSKAFzpW77ZIWJr88ccfgK8Q4rLLLgPIqDVHxClUqJAL72kxlVXRgqVdu3ZuMaNimlgR6HJ+44030rVrV8ArtpJb+8yZM2MwQgvzGYZhGIZhhMQpoUxJzn7qqadc6WqgNYKkZ3UwD0aFChUiNML00a9fP6ciBLMEUMlwoAtt1apVXSJxVuLYsWOAr+y1b9++gLerFjLsC4WVK1cCPvM98FSjnj178vTTT2f482RU+OKLLzpHXiXW6vzKly9faIPOJOqx56/myTokPcjY895773Xu2oHGis2bN8+MC7oRBfbt2+dMHDUHyr4gEkTyPFfI339eVmqDLBXihd9++81FDESselkqrK+wanoVePUSVUgvMTHRmayGM0QcDlq1auX6iCoqI0VQ81201XNTpgzDMAzDMELglLBG0M45ISHBJS6rn9Ptt98OePkf/rts7STuvvvuUH59yGj136lTJ2dSFtjPbfHixU5F+e677wC4+uqrAV9/tWj24RIqW82WLRunnZb+dfmmTZsAz8ZBips/tWrVAnymeKHu8KSwNGjQAPB6OtauXdvlnSmRNhjqdSbjOO38wevCrlLxWClSQgnlixYtcmMbP348kLS9hPIGdd7IwDY1Y09dJ4E78HRg1ghpIGsTKZ3g5fhl5NqaOHGiy/0sUaIEAD///HMoQ0vCzp07AS/hPJzn+4YNGwDfuQue7UGuXLkAX66jFPhYX2fq76r7zZgxY5xFzzXXXAN4rWfUOzZaqCefzKkVlUkJ2R7IHkUKz5AhQ9wxiOeCE0UeVHyl+WrJkiXhtE0wawTDMAzDMIxIckrkTPkrUzJ5HDp0KOC1OdBrihYt6ponquQ71iQmJgK+HCKpParEmT9/PuCrNFRVjtQH5QDFQpUCb0fzwgsvULdu3XS/T/k2qoADrwpI1YgyVg0HqrJ5//33AWjdujXga1dx0003AZ5qFciECRPcLlQGlSo979mzpyuNzoh6EEmUP3Dbbbe5ljyynVCJ+u233+6uAeWkaecZrPGsdqfq3G6ED6kZ2lX7G6tKQU2tQm7WrFmANxf4277I6DCcSLWQIWXVqlUBnC1AsNwaVYH6K9BqS+Kv8kpxl5Jz5513AjhFXr8rUkjBltmp/u7Hjh1zlWLKyVXFmNS0c845xynXmsOirUgJNZFW/mbFihWdca+q3TV3Dxw4kLFjxyZ5nyr32rRpE1FFSmauMn6V8n3uueem6/26V+rvXKNGDQBmz54N+K6laLaciY87gGEYhmEYRhbllMiZkioQbFftfsH/f8+nn37aVY7FC+vXrwd8MW6pTGoE6t+MWe08Bg0aBMS+kaYa4F5xxRUcPHgQSJ5nEwx9x4suugjwVY9o16ndRSTR7r9Xr158/vnngKcCBJI3b16nbKlVjHZ5GTUhjCadOnVi5MiRQNL2LyKl46T8tHPOOcepHPr+MobNBJYzlQJSCJQfdeDAAXdspArInFDHYd26dU5F0e5c7ylatChDhgwBPLU1tWsxo0hJU16WVAApHkWKFEl2bklR37Jli/ucYOefcrxUjaWcymghRUT3E1VBrl27NplJqF6jHMMePXpQrly5aA01VTSnKVrw77//uutaUQ21YgG44YYbAE9t1HGINFLw1CKmcOHCgJdzBl70KLD90MKFC933/OKLL5I8J0PZt956i4svvjhcw03zIjrlF1O6yHVjqVevXtwm07322msuAV3GaZpkn3/+eVeyGm8sXbrUhRl2794NePJ3zpw5XW8wGcApWVsXcSyPh0IQkvEDKV++fNRdf8OFLEMGDBgAeMnDK1eudDczOf7rOtHPWrCHCVtMpYGul+HDh7tQ2vbt29N8n5KNdSNv3bp1OG8gKSJbk+XLlwNe/7wRI0a4cFGw+ViFQUoq14awZcuWzg4mEsaf6UE3dV0vOib58+d3oX2ZhsoIOF4WUMHQ+GfMmOHCkzpeOm+aNm3qjIdlvBottBHo3bt3kvGKyZMnp7gROHnypLN80H1EHScyY3eTDiwB3TAMwzAMI5KccsqUkmyVEClZM9Z90gwj1qj8XuFZ8Iwd1WomQpgyZRhGhvBXZmXvIbuJGjVquNSQKBm4mjJlGIZhGIYRSU4JZcowjLjGlCnDMLIypkwZhmEYhmFEEltMGYZhGIZhhIAtpgzDMAzDMELAFlOGYRiGYRghYIspwzAMwzCMELDFlGEYhmEYRgjYYsowDMMwDCMEbDFlGIZhGIYRAraYMgzDMAzDCAFbTBmGYRiGYYSALaYMwzAMwzBC4IxYD8BISt++fQHo378/AD169ADg5MmTJCT42gPdc889AFx44YUxGGFwEhMTAWjbti0AixYtSvG1Gr++T8GCBXnssccAKFmyZCSHaRhxze7du6lZsyYA69evB3zXPnjXS4ECBfjhhx8AKFKkSAxGmZzly5cDULlyZYoXLw7Aiy++CEDjxo0BOO00b++ePXv26A4wTPz2228APPPMMwAcPHgQgCNHjnDeeecBkC9fPgBeeuklAPLkyRPtYSbh2muvpXPnzul+fZMmTSI4mlMXU6YMwzAMwzBCIEG7nhiT7kGMHDmS6dOnA/DJJ58ke/6yyy4DYM2aNUHfny9fPqeMPPzwwwBUrFgxY6ONINWqVQNgyZIlSR73V6a0A9K/zz33nNu9NmjQAIAzzzwzKuMVbdq0AWDMmDFpvjZwpw1w/vnnA95uTp8Xj3z++ecArFixghUrVgCwfft2AIoVK+Zed8MNNwBw0003AXDRRRdFcZQwd+5cAOrVq5fk8WDnUvfu3QGcQhhm0uy4fgoQ0kS6e/duAOrWrcuvv/4KwLPPPgtAjRo1kry2efPm3HXXXQD06tUrlF8bNqRMXXnllcmea9WqFQAVKlRwj0nBfvrpp91juj78H4sHVq9e7a6PxYsXA56yljdvXvc6qVYHDhwAvKiC5rRY4a9eVq1aNdnz27ZtA2DHjh1Jfq5atSqDBg0CfOpWpPjrr78AmDBhAoA7/wG+//57AK6++uok73n44YejHcVIcw4zZcowDMMwDCMEsowyNXjwYAC6dOnCiRMnwvJLc+TIAcDjjz8OePlKseT9998HoFmzZkke91cTgqHj2Lp1awC3o4hGvH7GjBk88MADAFSqVCnF1/3++++Al18V7PuccYYvje/tt98GfLvwWDNz5kwAevfuDcDSpUuB4OMPhnIoRo8eDUCjRo3CPcSg/PPPPwDUr18fgIULFwKpn0slSpQA4LPPPgtnPo4pU2lw6aWXArBv3z5GjBgBpHyeXHrppZQrVw6AadOmhfJrw8batWsBaNiwYbLnBg4cCHiqOXi5Rv7KjhTcTz/9NGLjzAhSoJs3b86RI0cAGDt2LADVq1cHfPmeQuO+/fbbAWjfvj0Ar776anQGnALbtm2jcOHCGX6f/xwRiXXCxo0bAbjtttsA2Lx5c7LXBItiABQvXtwp71FSqEyZMgzDMAzDiCRZpprv22+/BeC///5L8TXFihUjW7ZsAJQvXx6AMmXKAEl3cIoJa7ehncNZZ53l4tyxolSpUm4sAIcOHcrQ+6Xo6O8wfPjwMI4uOHXr1mXDhg2Al4MTjMOHDwO+HASAqVOnAvDLL78wa9YsAI4ePQrAgAEDgNgrU/3793dVSTpfpGjmz5+fO++8M+j7EhMT+frrrwH4888/AU/ZipYylStXLiB5xVepUqXcsVCehNBusW/fvu4Y6Fw0Iocq9+bNm8ctt9wS9DXKFV2/fr2b3+IFKWX6HmkhldqfO+64I6xjCpUPP/wQ8M1Jc+bMAbyc1mBImdI8cfHFF0d4hOkjo6qUf36UKjEjwahRo4DkitSbb74JJM0/DXzP9OnT3XUSTNGKBVkmzCeuuOIKrrrqKiB5KKx69erkzJkzzc/44IMPAK90VxNAs2bNXBJcrJk9ezbghesWLFiQrjCfXqOLPjWLgnhi2LBhAHTs2BHwpFst0mJFnTp13KJIBQsaY7CLXSQmJlK7dm0Adu7cCXiLmi1btkRotMHZv38/4C3ivvjiC7Zu3Qp4IUCFafzPo48//hjw/Q1CxMJ8aaCFUrCF9rx58wBo2bIl4DuPFOIoUKBAKL82quzYsYOJEycC3k3xl19+AaB06dJ06dIF8FIVYs2qVasAX2J8/vz5U31t+/bt3Ub2vvvuA7zvqNSFeEXigkKX+rlz587u/hMJlLCvuUfpH1pUB1sEKt3nySefdI+FK+0nDSzMZxiGYRiGEUnie8kchG+//daFsDJr/Na0aVMAV9ber18/ILjVQqyQYqB/wSuxXbduHeAlq0PyBME4URzTjSwtUvo5VowcOdKZDaYnIVshzLp16zpFSjzyyCPhH2A6OOeccwCfIiXSOj+KFSsWN4aQ/wsEU6RefvllAJ5//nnAU53XrFmTpRQp2YbUr1+fn376CfDOv2uuuQaAjz76yNmjxAuXX355is8dO3YM8IpT/CMa9957LxD/ihTA5MmT3f1QfPPNN0Bk7RDAM53WvypASA2ptOAl+McLpkwZhmEYhmGEQPwvnQMIZzKs8kayCtqhKkFPuV/+aPea3rL9WKJEzXbt2rkdh9TGeDHuSy0vyp9///0X8ErDtRsHnG1ERlo6RJK5c+c6Q0jlKwTy7rvvunJ9I/Ko0GTdunWu6EK5nFIIpX7Euyql3BclZCvvxt+MUabCKjzxtxjICsiIdNKkSYAvx/OVV14BcLmS8YyOyZNPPulyk5QbmhkbhUghCw3lqSp6dOWVV8aFlZE/pkwZhmEYhmGEQJZTpkLlxIkT9OzZE0iu7KjkPVbceeed/PHHH0Gf8zdaTElN8Kdo0aJhHVs40C5D+QZqhTFu3DiXBzdkyBAg8vH6cCH1QJVWmzZtcs+98MILgK/dD8Dpp58etXHt37/ftSiRkinFYN68ecmUS1layFgxtXwRI3zomKg9zPr1610+kewGZCFStmzZGIwwfbz33nuA75yXFcjff/8NeHYn4LWUkXqj62XhwoXcfffdURtveti7dy/gU2xUPTl//nzAq0IUY8eO5brrrovuADOB5tXvvvsO8LWMke1QPCID2/HjxwNw9tlnA745Nd4sW7KcNUJaaHIKXJSo9HjTpk2u5FtINp81a5ZLiIwG48aNA3Dj+fjjj51rdSDpdUBXH7Z33nkHgHPPPTdcw80UM2bMcDfzlStXArBr1y4gaShSJa+Sc+MZ9ZIaMWKEs9dQmC937twA9OzZ032XaC6idON94403+Oqrr4K+JlhvPt0krrjiikgMK/5jzqGTqTlM85UWTgkJCclsTtSbT6HZIkWKxE0IVh4/KhjxXzgF8tBDD7nQjL6brp8RI0a4z5gxYwYQ3Q3h3r173fUiT0IVbKiEPzWKFCniugfIq1C9OWPNtm3bktkeyFvxiSeeiNm40mLLli0UL14c8M6XkSNHAr5zKcqYNYJhGIZhGEYkydLKlLpzS4V59913XdhF6kF6UGhj6tSpLtwUDdQrTTuYtJSn9ChT2nmoA3uskMJ21VVXOSsHEazfksr3tfOIpPNuZpE03q1bN8A7fv5oVxusR1kkUUhPrsBSAYNx8uRJp2DKHDbCmDKVBj/++CPgC+ErEViqldRlKTa5cuVyIT+pVjrf9HO0UChMv3fdunXOcFcFMxpbrly5ks1h6mghR36AZcuWAV4PzKeeeipSw3dWJjfffHNQV3Zx//33A14xiZASfPDgQWdIqlCUVLh27dqFdcwZpUiRIllKkRIDBw50hUg6b/RzvXr1oh1WNWXKMAzDMAwjkmRpZapmzZoALF68OCyDOOecc1xCZL58+cLymemhVq1aACnmuED6lSmV6qqlQazQjrVs2bLs2bMnw+9X8rZyKmLF7t276d+/P+D1Pdy3bx8QXElUK4QxY8ak2YIiEuhv3apVK6ecBfZ3PHnypMvtUo5U9+7dAa+De5gxZSqMjBo1yvWNU2siKfIFChRwydJXXnlltIbk8iAPHTrkcocyi64hGWK+9tprAHTq1Cmkzw2G1L6GDRu6vqhS1mRm2axZs3QZcC5YsACANm3aAF6fy27dutGnT5+wjjsj+M9TcXK/TxeHDh3ixhtvBOCHH35I8tyZZ55Jnjx5gKStZQKRKhiGZHVTpgzDMAzDMCJJllamVImUHuXjzjvvBHyVVWojoziyKrEAt6tSJUc0DMy080otNyC9ypRW4K+//jrgmcvFiqNHj7qxySRV5n3aef7xxx9MmTIlyfuUdzB37tyY2iS0a9fOVSNmhGuuucblWMUKKZ06v5S7tn79+hTPJTU17tGjh1OtorGrOwWIyUSq3ERVK/fp08cpp19++SVA3FT+pRc1Z7/++usBaNKkCZC0fVa4UM7Wzp07yZs3L4BTPDKLbBNUQVejRo2gBsvRIljLmNRyUmVRUbhw4Zhb1EhVl0WCclK3bNni7vvHjx8HUs851rkk5b1NmzYZjT6ZMmUYhmEYhhFJsrQy9dlnnwFeLL1SpUpUqVIlyWuUj1S+fHn3mHYjMitTdZaqaMDzsRg1alRmhpYh5GPSpk2bFKsQt2/fnqQdQyCBFXLVqlUDvF1ePLNz506nygXuPosVK+a8bGLBhg0bXN6WqkfVlPaWW25xLXFKly6d5H0FChRI0YA11gwbNsw10VUVoPA/j1q3bg2E5RowZSpKJCYmUrduXcDb1SvfJKs0rv7oo48ArwowkspUJKlUqRLgm7vVXirWxtCTJ09O8vP27du5+OKLkzymCsVt27Y5dT0eqwA1Ts3Bwl+9UkWsok+6PxYqVMi5ACj3Oo1K/jTnsCy9mAoXSpauX78+S5YsAbyTXm7jl1xySci/R4Z2Kd1kCxUqlKLB44YNG1zH9Z9//hnwnLUhNospnbSJiYlJxpIZlMCq/nWSxfPkycPy5csBnIFbPKEbVeAivnr16nG9kNV5reR6OQwHs60Q2oRkAltMRRGFP5QGoXO0cuXKMRtTelB4THOXrApitZjSZnvOnDlu85ERtJhasWKFC8eqJ2FWQX8DHZN4XFSlhopwJLwo9O3v+q6uGx06dEjtoyzMZxiGYRiGEUn+53rzBUOmeGPHjnVtHaQiyXYhHMqUjPkCzcakBgwbNoz27dsHfW/p0qVdKElhyVij8uwTJ044GTV79uyZ+qwLLrgA8Er0pUwdPHjQhZnirUv4zp07XUglkC5dukR5NBlD5/no0aMBrwWGCjWC9X9UL0W91ohPVDARJ1GHdHH48GFnHxBonhmNIiB/lNAstTbU0FzFihWjagYdTlSkJQJDgvGOEs/1r8xhH3/8ccaMGQMk/46ZxZQpwzAMwzCMEDBlCq9NSMuWLSP6exRnDtwx6ucOHTpw8OBBALp27Qp4Md9ly5Y5ZSBYknrgZ0ajrYQS4hcvXuzKr5955hkg8wqVctZEtmzZXIf5eEFj7Nq1azJbDhnIpaRYxRvaMcuKQsn1wZQp5RYa8UtiYiL9+vUDPEsEtZ6JRxQB6NChA2PHjk3yXLNmzQDPwDdaTJgwAfDya1IzUw6GFHsZqTZo0CBdpp/xhr+lgtRB5a9lVXR/Tc1GIbOYMmUYhmEYhhECWW+5HCLHjx/nzz//BKBt27aAp/7ocfAaxt51111h+91aDae0Kk5ISHBl+MOHDwc8FerAgQNpvh/g9ttvB6Jj1ilTx8WLF7txqxT12WefBXy5XmnlHAwbNsyVuQYqU3Xq1OGmm24K57AzzIkTJwCvAatUJ//zRTlIPXv2BIj7naiUJ+Wj6RpQg+Rg55hUKyN0ZFvwyiuvAN58ozLtjH6O1JDevXu7x1RtmytXrtAHHAZmzpzpck9VGarrZcaMGa7ZuSw5pEip9VG00N+tQoUKgFcVmRY7d+4EvLZTys9RS5R4R7lDUtenTJniFCl/26CsiOx1dH9cu3YtOXPmBDz7pFCJ7xk/ncjRPD1O6K+++irz589P8XndKFWGG86JqFixYkDyBYM/SuSWL0l6UemqEooLFiyYiRFmDPl7rVq1ypWaKnFc/1aoUIGKFSsCcPXVVwNeWaou3m+//ZZjx44B3iLk1ltvBbxeg7Fi2bJl7rsMHDgQSGofIMdwTaDxcuPyR749Cst27NgxxQW5f7hYNzf1L8vojd5IGbnRazGlY1OuXDkKFCiQ6nv9fb8GDx4MJO3NN2/ePCC6zudanO/Zs8dZmAwdOhQgSR/BQHdxf7sNFT8MGDAg4uNNjR07dgCwevVqAO655x5XUBLY71ALpg8++MAVyOhY1K9fH/A8C8OJ/KJCDbtNnjzZbWQDu1B07tyZQYMGhfT5sUChvM2bN7tijJEjRwLeJvHss89m3LhxQPj6kVqYzzAMwzAMIwSytGmnSmjV5VvydkaRGjJixAiXcBcJaVlhIu3AJAunZpQo/HvzKWx2/vnnAz7pUsZjsWDXrl2uN5iS5APLm/0J/L7Zs2d3Uvrzzz8PRGY3lxpbtmwB4PPPPwc8qf/zzz93qpnQ+da1a1cXTj3ttPjal2zZsoX77rsP8HbYuj5S6/OoXVqPHj248MILgbA4Z5tpZwAKh7do0QLwjDUTEhKSXR/Bftb/dWykGnbr1i0mvfhkrOsfkt+/f3+Kr9d30jw7ffp0VzSj8EusmDt3LuClKqxYscIV1Ci6oPFrbtiyZYtTFPU9pFQFdkcIB1KMBg8eTNWqVQHPtiC1qIaiAf59Q/V+9evLKoacCxYsALxojhRZmSXLigi8Y6DoSKdOnTJqYmumnYZhGIZhGJEkSytTim1n1NRNO4jmzZsDvtJVgBtuuCEzw8gwiunKNEylt8ptCcb111/vkuekGAR2Ao8HpH7MmjUL8CWdagehljE65y666CIAvvjii4js3gJRD0T9HXUcwOtR559ULgoVKgTAgw8+COD6CMpOIB4ZOnSoy2kLpGTJkk5JUxGG1AzlgIUZU6bSQHmcyk8DL9eoevXqgJeLU6NGDde3TrvrtPKsIo1U9pkzZ6ZoPOyPFOinn34aiM9cQ7X9+vLLL53qsWnTJsBTP/LmzQv4CpWU/5behPVwsG3bNpfrJLVJ6pPui999951Tn4RUrMaNG3PttddGa7iZRvOyIgFbt25Nte8e+FTSRx55BIASJUoAIeUSmzJlGIZhGIYRSbK0MqV4teLHW7dudc8pT0QrWlkclCxZ0uUXZJUu6kZ4adOmDeApg/4oH+2ee+4B4JprrnFl6/HYaDklhg4d6glkG8YAACAASURBVCo7H3744STPpdHQMxKYMmUYRqbRXK25rGXLlslUJuV7qnpc1chhIs05LEsvpgzDyBLYYsowjKyMhfkMwzAMwzAiiS2mDMMwDMMwQsAWU4ZhGIZhGCFgiynDMAzDMIwQsMWUYRiGYRhGCNhiyjAMwzAMIwRsMWUYhmEYhhECtpgyDMMwDMMIAVtMGYZhGIZhhIAtpgzDMAzDMELAFlOGYRiGYRghYIspwzAMwzCMEDgj1gNIiyNHjgAwYsQIAJ566qlkrylevDgA7du355dffgG87tKifPnykRxmSCQmJgIwevRoNm7cCMDs2bMBUCPqhASvz+KVV14JQI0aNQBo1KgRlStXBiB79uwAnHFGeA/t0aNHueGGGwD49ttvM/Te5s2bA/D8888DUKxYMQCyZcsWvgEayVi0aBEAy5YtA2Dp0qUALFiwgNy5cwNQrlw5ANeB/e677wagTp06UR2rYRiRY+/evQDs2bMHgPXr1wPQuHFj8ufPD8Cll14KwIkTJwC44oor3H1T91P/+5CRFFOmDMMwDMMwQiBBykeMSXEQr732GgBdu3ZN8c1aSZ9++ukpvmbSpEnu/5dddhng7cqjzfTp0wH44IMPAJgyZQoQfNWv43P22We7xw4ePJjkuQIFClCyZEkAWrZsCUDbtm3DOuYFCxZwxx13JPn9IiEhgVy5cgFw6NChND+rRIkSAHTr1g3wjTm1YxdJunTpAsCOHTsA+PLLLwEoXbo04FN3UrtGpNZdffXVAPTp0wdI/VyMBn/88QeXX365+39GmTRpEvfdd1+4hvO/sJ3N0EQqpb1v374A/PXXX4BPAc6RIwfgUw3A1EIjNBYsWECbNm0AXOTjoYceAnzn2BVXXAF499E1a9YA8NJLL/H1118D3j1K52I40T3jlVdeAaB3796A774SGJnx/1n/l6JWs2bNJJ9boEABnn32WQB3fwqBNOewuF9M6aaU2s0pPYsp/9coPKY/fvv27QEv1BEptIh68MEHgeSLooSEBG666SYAJ72Kpk2bUqpUKQD+/vtvAH788UcAdu3axZtvvgl4Yb7t27eHffz//vsv4N0IRJ48eWjYsCEA48ePT/a+rVu3AvD2228DcODAgSTP33///fTq1QuAIkWKhHfQadCkSRPAmyzSQ86cOQHfWDds2JDkOR2juXPnukVjLNi4caMbSyDFihVzk+u8efMA75z6+eefAV/ofOXKleEaji2m/Ni6dasLfb/wwgsA3HzzzYDvutUNb9WqVYAXHtdNRvOVET2WL18OePPqrFmzAC90ntq10qZNG+69917A23xFk+XLl/P0008DXppMrVq1ANzC3R/djxo2bMhHH30EeKJGp06dwj6+5557DvAWU8EWTBI+/vvvP8AniEybNs29LvB9+rl79+4A7v4SAmnOYRbmMwzDMAzDCIH/SWUqEO0KP/7443QMNXPs3LmTMmXKAPDPP/8kea5Hjx6AT3o977zzAE9hSi/VqlUDYMmSJYD3feOJbdu2Ad4uZ/jw4YBP8WrRogUA77zzTlTHdPz4ccDbHW3evNmNCeDiiy92CfP6VyHXggULOmXqnnvuSfK5xYsXZ+TIkYB3fkWTf//9153P2jU3bdoUgAsvvJC8efMGfZ/Oox9++MH9DcKAKVMhoFBgv379APjzzz8j9avSZPfu3YCXRjBjxgwguJrQqFEjwAvDNGzY0BXPxCNS0NetWwfA1KlTAZg8ebIrhNI1cckllwCeYtKgQYNkn6cCkEmTJjklSGkE8YzGeOONN7qIg/4Wp50Wfv3l5ZdfBnBzabDohoq0pKSvX7/eza+BypTuoZUrV2bChAmAL+QXIqZMGYZhGIZhRJK4V6ZkEaBdDsDAgQMBqF27dpLXfvLJJy6hOJD0qFdh3Ikn44knnmDw4MEAXHfddQDMmTMH8OUchcKqVatccuquXbsAL7Ycz8jOYcWKFTFTpkJF18/nn38OQN26dQE4duwYVatWBTJuJRFL/BVO7QaVjB8CpkyFwFtvvQV4xRKxUqZefvllxowZA3gqTmqJwcGeU1GDFINY8+uvvwK+e4oUERUDSM1o3rw5d911F+DZ8GjO1r/Hjx93+UUqLPrmm28AX06oEqFDnesjgaIZn376KeApoA8++KArqDnrrLNiMravvvoK8Aqr/M87nVc6NjpeygfV/SVMmDJlGIZhGIYRSeLetLN+/fqApxoNGzbM7ZQVixeXXnopjz/+eNDPUWWTcmKCUb58eVavXh3ymIPRqFEjlzOkyrtQdylHjx4FfKrX77//DmQNUzWVwkZSCYwW+ntfcMEFSX4G7/hkBY4dOwZ4KsLJkyeTVV0asUHl6TrHYsWkSZMoWrQoAK+++iqQNGKQEsqRfPLJJ10+Urwgpezrr792OZFSNp544gnAl2MoDh8+DHhRBVWUbdq0iXz58gGefYD+RoULF47kV8gUyhXduXOny+nU/VQqmqxros3EiRMB3/kiWxfNq6omLFu2bDJj7lhjypRhGIZhGEYIxL0yFUiHDh0y9T55s6Rm/nnbbbdl6rPTw3XXXedypcKF8ltWrFjhHgtDfkvEkafT2rVrAcibN2+yarisghQdeYdJbStbtiyDBg2K2bhSY8qUKa46R+NVewnlSRUvXpyrrroqNgM0AK/qVzl38uGJFfv27XPmx+nJR9G5pGrEhIQEp3rEC/IcrFOnjvNgOvPMM5O8Zv/+/SxYsACAnj17Ap66Lv+mvn37OtUuntG4W7VqBcDixYtdNV1KUZ1oo5Y3e/bscYqU/tU5FW/nEWSBBPRQGTZsGOCdKLFKQA8HKh2VAZkmtoSEBLeIUhLhxRdfHIMRpo7sB2T6qUTaqVOnpitcEG+sXr3aTUo//PBDkue6dOlC//79YzGsZChpU+XZW7ZsSfM9pUqVcsmfYQgvxX/sOXTCNocpPKyydLnzq8ghDGXeEWP37t3JbBNkhzBo0CC3eIlndE+cOXMm4OtLpx51cqV/4IEHAM/AN97R4kN2KQpdjho1Ki7DkEJz0JNPPgl482xCQoIrGNC9Iwwu56lhCeiGYRiGYRiR5JRVphRikYSpctd4V6Yk7UthUqKjyqP9CSxBBi95UoZm8UBKipSoWbOmk8vVTidYm4N4YdSoUYCvFYisKIRUg08++YRKlSpFfWz+yGBRBoPp6Zvoj/p36Ro6//zzMzsUU6YygOYu7cbbtWsHeNd2qVKlyJ07d7h+XUgo7KJE7DFjxiSzTVCLqBo1anDnnXcC6UtcjzZqqaSUkPfeew/wJdDrsUiYVkYKKdB33HGHaxOlc0jRDf+er/GMQn/+qqd/2xvw5qnAwrQwYcqUYRiGYRhGJDnllCnlSKk5qHYbqZl2KrYvw8VYcfDgQReLD9amIZDUnlN5bufOnQGcgWQsuOWWWwD47LPP0nytkvSfeeYZwGcWp8dSUxWjgfLu1AZH5cX+yFBWqkIskV1GenKepBhop+rf0kF5YVLkzjgjw3UrpkxlgO+++w6A0aNHA56di863jRs3UrFiRQAee+wxwLvGMnFsMoVyV6pUqQJ4+SrBVAHNwevXr3dzll4nxaFRo0ZONdFzEc6BSYZseBQNUPuvRo0aue+rRPRAsmfP7swjhfKrateuHVWlXTl3anWzefNmVyCj+4HmhK5du7rmy7IPUiuzWCvrqTF9+nQeeeQRwDuHFBWQsqtm4mHClCnDMAzDMIxIcsopUy+++CLgxYSF2qukFvNeuXIl55xzDhCbarhOnToxdOjQJI8FU5+0g/Iv4d2+fTvglVEHWu3LjiAWrFq1CvCVGAdjzZo1Tu0JZpqqRr2XX355hEaYPl544QUAXnrppRRfI0NWxfZjiZQM5aN9//33gM9EUPkUUtvuuOMOwFM2nn76aWe2KL744gsAt5PNAKZMheMX/P81/eOPPzpri8WLFwPeNTZgwACn8EQS5XbKhFMqUtmyZVN9rfL4pLwvXLgQSKpaSVGR6hbYLiQS1K1b1+Wp6rqRelOyZEmn7Mv+QMrgZZdd5j5DCqLmYF1v33//vVN9hgwZAnhN0yOBciOD5dXpMX2ffPnyJbs3SJmqWLGiMzXVsYinnDG1ApKC27t3b8BrdNyhQweXrxsG0pzDTrnFlHxA9IcV6enNd+LECapXrw54N0Vd2NGgadOmbpIUOj4NGjSgR48egCe/+n8XTVgKpSlsI3l56NChLqE4HtEkKxlaCa1Hjx6lUKFCgJeUH6EEwzRR53j14Orfvz8//vhjktfI1X7OnDlZogw8Jf777z/njKwu8kqE1sI3A9hiKsLohtKxY0dnoRLPJe+BJCYmuj5wWiBqwa+N5J133uncscMVAlRItWbNmlSoUAHwine0cDr33HND+h379u1zbuoq9dfiNxI973TP2LhxIwDvv/9+stcoBFa0aNFknQ7UU3DJkiUubUaL33ie04LZKOjcCYONgoX5DMMwDMMwIokpUwGv0fNagdesWRPwymULFiwYrqEmo127ds5UTUyfPh3wjO/SiwwatVpv0qRJ0B1KvKKQmn+4VsqcjnGsOXbsmPubtmjRIslzderUcYmssU6czyzqFiDzUSUbq8t8BjBlKko88MAD7Nu3D/BMJ7MaSijW9f7hhx8C8Mcff9C9e3cgeRpHZtG53K9fP6dIRWKOV485qV8qkJLaG49MnDiR+++/H/BsIrJCpwqdP0OGDHFqZ6CNgiIfGcCUKcMwDMMwjEhyyilT6vcmM7lgKC8pcHXqr0wFovyRQOUoXlGMXgmPhQsXZtmyZUDoOQBC5cLvvPOO62sVrsRK7a5LlCjhDFfjTZkCr7BBZqP+pdPKX9NzWQ21MSlevDjg5XesXbs2oy1mTJmKEkOGDOGdd94BYPny5bEdTJi5/vrrXRJ6JpSFuEA9DTWnbdq0KZbDCYpyJBs1auSucxUGZTWVXesA5UqpB2mNGjWchUI6oz6mTBmGYRiGYUSS6Di8RRGVb8tgUPz000/u/8qDUtxalW+qfghGegwn44nA77Jt2zYOHz4c1t/x9ttvAzBr1iwXmw4Xqu5Trlu8olLhjh07AkmVqQ8++ACIjTL1+++/061bN8DXdBkyXgV50UUXAZ4ypTL4NWvWhKP5sREBnnnmGWdmeKqxbt06lw+T1VAZv+wTlNMaT0iRUlPkokWLMm/ePCDrKVJCc56iMq+88grgy6muV68e4LNQAEK2UTglFlMqWR8xYoQLN6WGQpu6UUsyjpaPkRZvkuEzm2QeDCU0zp49G/DKiuvXr+86hYebo0ePOrftcPV6evXVVwGfe7KSNiWRZxVU4h0LFixYwNixYwHfYhc8u49GjRoFdc0PRKHWX375JcnjKhk34gfdLE6cOJGsGCJeSExMdHNtajcubaT0nVq2bAn4krjD6BsUVRReUv/XeFnwbt682SXeS4CQPdCoUaNOmU2TrBBUuFCpUiV3Xr3++uuAV0SkXpIZxcJ8hmEYhmEYIXBKKFMKaXXt2jVFOXLy5MmAT6nR7kiKkDjttNNSfH+dOnVCHufOnTsBz9F727ZtgOco/dBDD3HvvfcCnjFnar225Ci+YcMGp3bt2rUL8NQ3rb779OkTMal2z549rmxe4a6MJonLjE+WFjqmrVu3pm/fvkD4EufDidRNOe/7Ew6lMbP89ttv7v8KjahfY/HixV3fMD2m3ZjOt/fff59x48YBXq8vSeb58+eP9PCNdKIEZh3PypUrx11PNSUBV6lSxTmkS2GSGrJu3ToWLVoEeOfr1q1bAU9dnzBhgkskzkp8++23NG3aFMD1yLv11ltjMhZFEDSnTpo0yd0XNGcr7BVPbufhplGjRi7kJwVUNkKZ7el36v61DMMwDMMwosApYY2gss3UcmoyatoptHNXXDUc/aGqVasGeIZxwfrvKTnOv/9eIFK4fv7552TPlS9fHvA6oEei16B2ObVr13bHQMqGOq53797dGb1JHZRCJ0aOHOmUKB0n5Ul9/fXXUe8eD16vwzx58pA3b96gr9m3b5/b4Q0YMCDZ82rBoL530WTPnj088MADgHcOpIZyI3T89P39UW7Fww8/nNHhmDVCmJEFzHXXXQd4ZoqZaPUTcfyVqb///hvw5jr/uU/qqEwz1f4qGr35IoHyVlu0aOHykBQNyZYtW9h/n9Ro5RCLqVOnuuc++eQTwFP9Zs2a5c6h1KIg0URj27NnT7JzIrOoX6GKaHr37u3mZ0Wd5s6dm9pHmDWCYRiGYRhGJDkllCk1anz55ZcZPHhw0NdkVJmSIiXFQWXi4UAqjmK0ilEHq7AKploFe05NTdX2Rm0AIlXB58/vv/9O7dq1Ae+7idNPP92pa7JmCGZ3ICVNipyqMqOdJ6W/qcaRmJhIvnz5ALj99tsBz7zy3XffZcWKFUnenzNnTgDuvfdeRowYAXjNpqONKodkW7F06VIgzR2YQ8ctsNpFXeUzgClTYWDv3r3A/7F354Ey198fx5+iKHsb0a4V2bJTStFqK1vxbU+RkiUlSVFCsqS0oYWSULYWW1RCiRRFIoQieyh7vz/m93p/5s6de+/Mnf06j39cM3Pnvu+dz3zm/Tnvc84bhg8fTr9+/QBc+ws16U3mEvYVK1a4JsJy7733uq8VhUi1CJTs2LED8DbaVXPou+66y32ORDsiNXv2bNd8UhsUqwrXn9qbaJu0hx9+GIAKFSpEdTzRUKxYMcAXmerQoQOA+x1Doejf1q1b3VZEinapqvK///6jdOnSgNfOJovjziJTxhhjjDGxlCMiUzJu3DhatWoV9L5QI1PXX389gOvRE4+rJK3jjhgxgpUrVwLeentmkakCBQoAvhwWVe0pwhNvhw4dAryrMTWAe+ONN9xjzjnnHMCrllBORPHixd3vl+h1ex0nivC98cYbZPYe0bh13Oh3UnVlMtKxBd5muNqIddKkSQDUrVvXVVhGIbppkaksKH/y22+/TdfvTtVGijDmz5/fRQuT+ThLJYMGDXKb4IazJZaacPbt25cZM2YAUKRIEQAXPaxfv34UR5rWOeecw9q1awEv+qQcTeXmlitXzkX4k7EiOlCVKlUA3+diYI6dPo9vuummdJ+Nyun0z8fT18q7VUXyvffe6ypDQ/yMz/IclqMmU8ZE29SpU5k2bZr7GnAnL8Atbyqx0wRlk6ksKEG2X79+bqKk/dtEbUe6dOnilvVNdHz33Xdusqq/s39B0/z58wHvva/in1GjRgG+5btHH30U8NofRJo0fbRbsWIF7777LuBdSPhPoAInU/4TLdEEWUvIas2RDbbMZ4wxxhgTSxaZMsbEmkWmTNLTHpZvvfUWQKb7AKrtiNo21KpVyxWqmBzJIlPGGGOMMbFkkSljTKxZZMoYk8osMmWMMcYYE0s2mTLGGGOMiYBNpowxxhhjImCTKWOMMcaYCNhkyhhjjDEmAjaZMsYYY4yJgE2mjDHGGGMiYJMpY4wxxpgI2GTKGGOMMSYCeRI9AJOW9oN64403ANi/fz8AvXr1SrdL9mOPPQZA586dOemkk+I91EwdOnQI8O38/cEHHwDQu3dvwBu/v2eeeQaA5s2bA3DeeefFY5gZeumllwB48MEH3W0dO3YE4MYbbwR8+3HlzZs3/oMzxhiTVCwyZYwxxhgTgZTem2/ZsmUATJ06FYCJEyeybt06wNvNWxGGZPTbb78B8MknnwAwcuRIVq1aBcDevXvTPT4wMiVVq1Zl4sSJABQrVixm4w3F+vXrAbjrrrsA+Pzzz919GY3f3+mnnw7Ad999B8App5wSk3FmZdu2bQDMnj2bxYsXAzBt2jQAvv/+ewDuv/9+Bg0aBGARqszZ3nzAlClTABg4cCA1atQI+pi7776bU089FYDjjjsOsGPLhGf8+PEAzJo1C/B9znz55ZcA7Nu3L81jL774Yl588UUArr766jiOMuXY3nzGGGOMMbGUkpEpRTuuvfZaAA4ePJjuMXny+NLBhg8fDsCHH37oHtuiRQsAbrnlFsC7AoyX1atXA17uzcqVK0P6vswiO7rSHTduHACnnXZaxOPMDv38li1bpruvQIECAJxwwgkA3HnnnQBs376d999/H4C///4bgMqVKwO+yFD+/PljO+gQKX9NkcQ2bdrw6KOPAtClS5eEjKlPnz6A9/eqX78+AIMGDWLevHmAd6UazFlnnQVAjx49AF9kJAYsMgU8/vjjAPTt2zekJyxfvjwAl19+OQDdunUDoHjx4tkaYLyNGTMGgNdeew2AJUuWcMcddwBebmTNmjUTMrac5JtvvgG84+Orr74CvLxVgGbNmgHeZ87vv/8OwKhRo1i7di3grfScf/75sR803ipG586d0/x/wYIFWX5vs2bNeOGFFwA444wzYjTCNCwyZYwxxhgTSykZmVIkp1KlSkDw/KJQNGnSBPCiVvHyzjvvAF5kJhRly5blyJEjABxzjG8OrCsJf0OGDAGgffv2kQ4zW+bMmQP4qg9FEcC6desCUKpUqXTfN2zYMMAbt6JvmzZtSljeVFZq1Kjhrqx1lRQvyqNRVDZ37txp/j1w4EBYz6e/9yOPPAKEHj0J9emj+WRJKstz2D///APABx984CKx06dPB3DR1xIlSri8z8DXUNH2Tz75JGnzWzZt2sSSJUsAX04heFEQ8KLrGv+MGTPiPMLg/vrrL5d7G+jxxx93ldO33XYbACeeeGLcxpaVihUrAri/u6gieteuXS7fU4+V+fPnu3OYouvPP/98TMcrWk1RZEn5slK9enX39YYNGwAvajVu3Dj3ff7HVwxZZMoYY4wxJpZSss/UBRdcAHi5K8FypjKjCr9PP/0UgG+//RbwVcUlmvKKBgwYAECFChWA9LN28K4ytmzZ4m579913gcRFpq644oo0/4ZKV+qpJlGRXUUtFFE6fPhwmn/Dpd9DV7BRjkwZvFzBO+64g0aNGgFpK64Aunbt6s5LynV78803Ae8816dPn6SLTP31118ANGzY0FXiKtdLeXxjx451OZHJYvbs2YCvB56+DkY95hT513k2GXK+hg4dCnjRsgsvvBDwzg179+51EetA/vmU2T13ZNf8+fOz/b1nnnmmy7FKFik5mRK9WcP18ccfA16ZqMrg4+Xkk08G4Pjjjwfg2GOPBaBevXp06tQJSBviDKQ2CMl2YgqXwtLNmzd3LSEClwE0uUwmWmZetWpVwk6mbdu2BbzmrpmdCBUa919eveGGGwDvQkJ++uknACZPnkzDhg2jN2CTRtGiRQFo2rRpuvt0fihUqFDQ712xYkXsBpZNmugdPHiQSZMmAXDdddcB8NFHHwEwYsQIChYsCECdOnUSMEqPLsT19//333/dfVpOVZuZjRs3uvuUrK0l22RQu3btTO/X3xy812nEiBGAbyJ25ZVXAvD000/HaITRowbQ69evd0n1ycKW+YwxxhhjIpDSkansmDt3Lm+//TaAa4536aWXxnUM119/PYC7glOEKqsox4QJEwBv6xWV6vtr1apV1MYZbbt27QK8pNs2bdoAvgibQtKKSOkKRH+bZKCrUSWjnnDCCWEVEUSTEvbV0kBtEFq3bg2kPTbUikPL2Bs2bGD79u1Bn1fFAvXq1YvBqE1GtFQ/atQonnjiCSB9g0VREnQyKVmyJOA1tAUv6vnQQw8BvqizIqlqTxNvei/069cP8CJS1atXd8UXikwpeli3bt00bQbAa7lzzjnnAL5oYuHChWM8+uybO3cu4BWYKFpdp04dJk+eDCTnKoBoxUZNks844wz3GZEsLDJljDHGGBOBoyYypaukG2+80V2N6ApQEap4u+qqq7J8zObNmwF49NFHWbp0KQA//vhjuseVLVsWCJ6DkUgHDhxw+RG//PIL4EWo/ClqEhitSyYq41bOWvny5eOebxdIzVm1fVKVKlUAX9RPEUBtF/Hzzz8DvqtqHVeB9DzJ+PfPiVQooqTzNWvWpHvMRRddBHgRdDU5TFZq2aIIro61J598MmERKdF7uEiRIgC8+uqrgC9xXu+lnTt3Al4rl8CoFPiS6f3/rVOnDp999lmax+TLly/aww/Jpk2bAK+YZPDgwfzwww+A93trlaNRo0YZJqcnA0Wf/CNSAF9//XXCxpQRi0wZY4wxxkQgJZt2hkIVGFrbVknrjh07XF7Ie++9F+0fG5HDhw+7ahGNVxtULl26NNPtZDRjV9SkTJkygFcpmChz5sxxEbjMxq8Gc9qeRRslJxNVxWj7ofz587N7924AatWqBXhXUiqDTxT/Rn3+uWmB1BBV1T1qaRHl/Alr2pkB5U8GRjX8KXfHv5niZZddBsRv649wqBmyoswNGjQAfM2RkzkKImo2qm1wQqXXRBVzqhqPZYPPI0eO8PLLLwO+DbTBq07XuSkYrca0atWKDh06AL52A5D5RvTxprHEuUFn0KFk+YBUnkxp7Eoq7NOnj+tdoVCtQp7+lCh4++23A97EJdG+/fbbDHeTh8wnI4Huu+8+wEtUTpS9e/e6flhqf6APAPWfmT59urtPExVNIrVslQwUKj/ppJMAX+8vtUnQJOSaa64BvN5AiaSOzioh9k9K1yRK/XJi3Lcoec7OsZOtc9iOHTsA76Jv9uzZGU6s/N//OofpwlAXIdprMZFuvfVWwOsdp+U+7SOZrFSYpAs57TgB3lKr3t+i10opDP60Q8fHH38cs/0Ud+zY4SZBuoDWBF3nWSXJg/e5qHYV77zzjit00LGkC6tkWOrX7xasp5TaB2mipRSXwM7qUWId0I0xxhhjYimlI1ODBw8GvO60/tRwTTNbXVn88ssvLF++PM1j33rrLcCXnK7ISCLUq1fPdUQOJpzIlKh0X1cbyUrFAM8++yzgXVUtXrw4qUt2RaW7agb49ddfuwhWoowePRoIXkqvhpBagr333nsBb3kvq0aAYbLIVIgOHTrkIohKslXbCzVVDPb+V7Jzr1693B5rVRVyrAAAIABJREFUifLrr78CXuRZLUVeeOEF17oj2SxevNgt1Qe2pLjoootcgcDZZ5+d5j4VDFx33XVBo1PgW+ZU+4FY0HiV0hHOUuq6devc8vErr7wCeJ+ZI0eOdA09E02RKa08bdiwIc0+fcF07NjRLX1GgUWmjDHGGGNiKaUjU8r72Lp1KwB58+ala9euANxzzz2AN8v2p1wSRUOUCzNr1ixXDpsIc+fOTbfNgiJlbdq0cc06A/388880btwY8PbIEpXCzpkzh0suuSTaQ466m266CfCSVzdt2uRe52SmaKfyFubNm5fplkDxoEaQyjsLJXkzf/78gC+H6sEHHwS8YzCCaJVFpqJoz5499OrVC/BK+9Xu5dChQy4Kr0aNiYqQatsb5RmtX7/e5XQ98MADAAmPoknLli1dmwNRUcysWbOCfo7427hxI8899xyASwiXAgUKuFWUu+++O1pDjjq1jWjevDngi3jptihHqmNC0SuNf8GCBS5vSq9tZjnJWbDIlDHGGGNMLKV0ZErNH3UFfvbZZ7utAEKhCJVKd4sVKxa0+i9eDhw44KJsovwINZTLiP4GqmjQVamcfvrprFu3LlpDjRk1MdT6/ZQpU1x1SjLTVZGuYOfPn5/wyJR88803AAwYMADwNVFU49dQNsvOmzcv4FX8vfbaa5QoUSKcIVhkKsZ0NT5+/Hh3m7Z2KV++fELGJL/99hvgey/rGNywYQPgNRvu2bNnQhoOq5HtNddc48akfE21FvGvhsuMfk9VyCr/c//+/S4XUa9PYFVgMlFe0nXXXedWNhYuXAiQEqsEsn79epcHp/Oz8quzkUtlkSljjDHGmFhK6chUpNQgU1cehQoVclshRLlHRcwpV0pXPIFbzhQqVMj1tImU/m6vv/46AKVKlYpaLkBgZKpnz548+eSTUXnuWNKVj3JCkiFnKjOKVqnvjKiR7dSpUzM8XipWrMiiRYvC+XEWmYoxbdnSuHFj99omYyXv3r17Afj8888BrxHpwoUL3SbIiaj4u/nmm92WY8p9inQc6q+3ZMkSd5s2ENdWT8ls9OjRrhejqhjV0zHVKBKlrZiaNWsW7kbJObtpZ6TUlE0TkJkzZ7owrPYoSwXz58+nZ8+eAOlaK2iJZsCAAbRr1y4qP+/iiy8GcA0rhw0b5pqEZpf2HVTzS33IL1++nAsuuCCi544HfSioeWKyT6ay8t133zF06FDAWw7X5OrYY491CbVt27YN5elsMhUnn376KTfccAPgfQAuXrwY8IpRkomOqXfeecftIallpkTtmRotaox58803u7Y2amGh91Qo+7MmkgqbpkyZAsAXX3wBJD4hXccIhJdUrglUixYtXFK6lsizYMt8xhhjjDGxFHq2dg6kZmfayyhVaIlFCY4zZ8504XPR3nAKWUcrKgWwfft2wGsium3bNrc8qiVTldhnRkuTo0ePdr+LnluJ9xs3bkyJyFTv3r0BuPTSSwFvK4lUVblyZbe9hpZklCC8c+dOl8iprWpOPvnkBIzSBPIv79dyfGATymSifQdbtmzpjik1wkz1yJT2KHzsscfceVivhaKFyR6Z6tu3L+AtSyoNINGRqRYtWqTbPiYU/lGoFi1aAF5KTwRtEwCLTBljjDHGRCTH5UwdOHAA8NomZFbKGZiAnitXLtf2/8Ybb4zWkBxtN6CrFJWlK2pUsmTJTL+/e/fugLdliXYn9xcYkVJCdzRp0061YwAvSlWhQgXAy8+oX78+pUqVAryo008//QR4eQP+LRv0PMqdmjhxotv6JBlpi49BgwYBuCTWZI6m/fPPP64BrJJsS5cuneX3Pf7444B3tQq45pFqgJsBy5mKsQ8//BDwNYXUuU9X3EqAVhQoGW3evNm1f1E+TLVq1RI5pKj54osv3PlMlMuazFFDfzo/KOdLkbVE6dSpkzvnKjr+wgsvAKEXj/k394QsmxpbzpQxxhhjTCzlqJypgwcPuuoibfKqTUNDcfLJJ8ckIiW60tq9e3ea27V1SlYy2+hYVzqxjEjJ5ZdfDsCECRPS3aeteUTVHxDaRs1t2rQBcJVk2rwz3lSp+Oeff6bb4keeeOIJV9WmbYySOSIlnTp1cm0tVHGYWWTq8OHDQOrnsCQz5aVt3brVNanNaIPvf//911VXqSVCjx49gLRNWMeMGQMkd0RKlHOYE6lS2Z82Rk922qZIm1Uff/zxiRyOM3DgQJdjpwiVGibrnNaxY8eQKvXU1iZSOWoy9eabbzJy5EgAypUrB/hKbiFtq4NVq1YB8NRTT6X5fvXUiJWCBQsC3oeTDtBIn69s2bLuw7xhw4YRPWcoRo0aBXhh0jFjxrgy4OwoUqSIW24aMmRI5AOMAi053Hfffa5Ls5Ywhw8fDvi6J2tvsVTohSXaMw28yXfNmjUBb5nY/9jUhUmwDwA93kRG75+XX37Z9SpTQqw6z8tnn32WptO5vzPOOMPtqag9GZORlrd03ho2bJi7IMydO3fCxhVNmiB369bN3aZ9LvX5lAx04ajPRf8dJ9TyRakY2vM2GWg5Tz2ktNyn81SLFi1ckrkmWPqeBQsWpOuKHilb5jPGGGOMiUCOSkDfvXu3u8JWqX4oFAZfuXJlXEq8FfZVIrm6fWcVblT7AC2Taef1jJYD4kl7XKlDrhL5FSkEb5lPjeC0K/sDDzzgrsaTzdy5c90Sypw5cwCvUGDixImuy3EqXU2vXbuWunXruq/96QpOSZkZ0WuoxOcsWAJ6FpSO0LZtW956663gPyCTZXIdk927d+f++++PZCgxpajotddeC3hJv4UKFXItX1SwkqrUiFRRkRkzZrj7FOUOtvQXbUoSHzx4sGtQrQIZ/50PVLBw2223Ad7S3m+//ea66SsNQK+RImzJbP78+a6YIdj5TOe6EJdcLQHdGGOMMSaWclRkCmDPnj2AL2oAvm09wNut+8ILL+SSSy4BvIRwJRhr+wVjcjo131Pir9p2hKJQoUKuiV/VqlVD+RaLTIXo0KFDLkql/EG1n9Dt11xzjdvjTVGoY47xXRcnS4Kwv02bNgG+qIgKYzZs2AB4LVAaNGgQtdyVRFMuqSLZAMWKFQO83DhF5WMpcD+6UGm7sDPPPNO9v9UWRa0RjkIWmTLGGGOMiaUcF5kyxoROeXraOkYRq23btrmqMFHlXjbKui0ydRS76aabAF/VbuHChQFfJAq8bUlSIQfHHNWyPIfZZMoYE2s2mTLGpDJb5jPGGGOMiSWbTBljjDHGRMAmU8YYY4wxEUiW7WSOhpwKY0zOZecwY45iFpkyxhhjjImATaaMMcYYYyJgkyljjDHGmAjYZMoYY4wxJgI2mTLGGGOMiYBNpowxxhhjImCTKWOMMcaYCNhkyhhjjDEmAjaZMsYYY4yJgE2mjDHGGGMiYJMpY4wxxpgI2GTKGGOMMSYCNpkyxhhjjImATaaMMcYYYyJgkyljjDHGmAjYZMoYY4wxJgI2mTLGGGOMiYBNpowxxhhjImCTKWOMMcaYCNhkyhhjjDEmAjaZMsYYY4yJgE2mjDHGGGMiYJMpY4wxxpgI2GTKGGOMMSYCNpkyxhhjjImATaaMMcYYYyJgkyljjDHGmAjYZMoYY4wxJgI2mTLGGGOMiYBNpowxxhhjImCTKWOMMcaYCNhkyhhjjDEmAjaZMsYYY4yJgE2mjDHGGGMiYJMpY4wxxpgI2GTKGGOMMSYCNpkyxhhjjImATaaMMcYYYyJgkyljjDHGmAjYZMoYY4wxJgI2mTLGGGOMiYBNpowxxhhjImCTKWOMMcaYCNhkyhhjjDEmAjaZMsYYY4yJgE2mjDHGGGMiYJMpY4wxxpgI2GTKGGOMMSYCNpkyxhhjjIlAnkQP4P/9l+gBGGNiJleiBxAHdg4zJufK8hxmkSljjDHGmAjYZMoYY4wxJgI2mTLGGGOMiYBNpowxxhhjImCTKWOMMcaYCCRLNV9CffnllwB89NFHjB8/HoANGzYA8MQTTwDQu3fvxAzu//3zzz+MHTsWgMKFCwNw9913A7Bz506qVq0KQN68eQE4//zzAbjkkksAqFy5MtWqVQPg2GOPjd/AjTHGmBzOIlPGGGOMMRHI9d9/SdEeJW6DWLJkiYvwvPvuuwBs3LgRgCNHjrjHKaLzySefAHD66afHa4hpzJo1C4A2bdqwZs0aAPSa5cqVceuLYI9RtOqtt94CoEaNGlEfbygqVqwI+F6LULzxxhsA3HPPPVEfy3fffQfAZ599BsAff/wBQL169QC46aabsvW8FSpU4Pvvv4/CCOPj4MGDAOzatQuASZMmuWNn7ty5ALz55psAVKtWjcceewyABg0aAJA7d+7Mnt76TCWQou2LFy8G4LnnnqNPnz4AdOvWLWHjMiaFWJ8pY4wxxphYOmpyphSBqF27Nvv37w/6mEqVKrkrtcsuuwyAYsWKxWeAGZg0aRKAi0r53yazZs0iX758APz6669A5tGr3bt3x2SsWfn9998BLyKVWWTNX6iPC9f06dNdtEs5cvLqq6+G9bOVj9awYUMATj311GgNM+p2797NHXfcAcBff/3lbgP48ccfAd/xE/i76/+7du1y75Py5csDcM4558R83CZjK1asAODFF190EXfZt28f4EUf8+XLR+XKleM7wP+3fv16AD799FMA5s2bB8BJJ51ErVq1AO8YlFatWgGwbds2fvnlFyDt+RDgqaeeitmYQ7V27VoARowYAcCJJ54IwOWXX+4ec+mll8Z9XP4WLFgAwNKlS91t+jz5+OOPAS8n9/nnn8/weU477TQAbrzxxpiMM9CiRYsA3woN+KKsZ555JuAdU4GrbAUKFHCR83PPPReAdu3aAVCiRImoj/GoWebTctnVV1+d7j4lmXfu3JkiRYrEeihhadKkCZB2AuW/HJlKhgwZAsDDDz8MQPXq1QHfMp5Oqlpy1Yf0GWecwXnnnQdA0aJFozKOw4cPA9C9e3f69++f5eOV1J8nT9prj0cffdQtB2rylAqTiq5du7oTZUaTxYsuuojGjRsDULNmTcBbJr7wwgvD/ZG2zBdlb7/9NgBPP/004CtC8f83mPz58wPwzjvvuPNKPOzduxeAHj16uImGJu8FCxZM8/9gjjvuuDSPBe892bRpUwAGDx4c5VGntXLlSsBb8tbEQ++FRYsWuQnK5s2bAd8EEdL+bkpx0Pe9/PLLnHDCCTEdu/+4mzdvDsCmTZsier5ChQoBUK5cOVfAFQsKgtxwww2Ad/GXXccffzzgC6p07twZ8Ca7ui8DtsxnjDHGGBNLOX6Zb/v27QB06dLF3XbxxRcDMHr0aMCXLAxwzDHJPbfMRkQgKWhZ9cUXXwS8v3P37t0BKFu2LGXLlo3beJYtWwb4WmFkpWTJki4B/tprr43puOJFBQjgXe0/+OCDANx8880AlClTxkUETHzpnKXlOUVkH3jgAQDmz5/vlvUyW4Zu2bIlAD179gS8yGqpUqViMOr0FGW+6qqrAC+6A9CrVy8A7rvvPgBee+01F21S8Y+cfPLJAAlbmly5ciWPPvoo4K0QBPu7B6ZWbNu2Ld1933zzTZp/t23bxuTJk2M0cp9vv/3WHQuRRqTk77//BrxodSzs3r3bRR4zi0hp5ULLqv7n9enTpwOwZcsWAN5//30A1q1b587nxYsXB6BZs2YA9OnThwIFCoQ93uSePRhjjDHGJLkcmzO1detWwEuQ05VAkyZNGDVqFODlECQz5a3450wlyWsWMl156Xc5++yzAfjtt98SNSTAlyunEvGMNG/e3F3N5BR//vmnS8C86KKLAFi+fHksf6TlTIVo+/bt3HnnnYAXmRo5ciTgyx90PywgCqLXs3Tp0rRt2xbwIkLKb4kX5eeoiEduuukmXnvtNcCLNqUKrWZkFhHMrOhH96lQSDmW99xzDz169Ij+gP20a9fOFdQEatmypWt5kh158uTJqi1KtvnndoqiSH379nVFP2pbpEjgWWedleVz792717WuGThwIOAdt4ULF3Y5cRdccIG+xXKmjDHGGGNiKcfmTGkmroiUv2nTpgHZb8gYT8phifW6eiypnDnZtG/fnkaNGgFQv359wGtaKdOnT3dND7V+72/Hjh1A+grL3LlzJ11lqKxatcp97V+2bRJv8uTJTJkyBfCOSUVxOnToAPjK23W8qSWArsZLly4dz+Gms3fvXtduRMe/Ku2aN2+eVcVU0lKJvc5lij61b98eSBuF+/PPPwFcc2jA5eAo9+rKK6+M8Yg9mUWe7rrrLperlmwWLlyY7jYd77fffnu6+8LJc8qfPz+1a9cGcP/qdVuzZg0HDhwId7g5dzIV2GtFPvroIyZOnAh4yXOaXGn5KZnEO0QfbUeOHHFd5EXl2yolvuCCCxLyhi5evLgLG2vpV32iZOfOnS4hWL1x9uzZ4+5X3xL/ZFPwHUv9+vUDvDererMk2oQJE9zXmqybxNIEqlOnTu62+++/H/DaAAwaNCj+AwvTihUrXKK50ijKlSsH+Hq5aalSy12pYP369fzwww9B79Py3X///ecSmEVFHYnWrFkzV2yVStSxH7wiDF1gxILOz9k9T9synzHGGGNMBHJsZEpRgcBQ4d9//+1KJ3UFdd111wEwZ86chHc8D8WwYcMALyqSzL788ku++OKLNLdpaUyNOS+88ELXVDUWnWkj9d577wG4q9PApcBg1q5dS4sWLQC4/vrrAa9k99hjj43FMEPm30TwpZdeArwlCTVWzU5psAnfP//8A+AaCO7cudO1akl0t+zsKF++PNdccw3g7Xeppq/79+93LVBUGKS2Dcm61AS+JPGZM2cGve/ll192/z755JOA9zupHUGi1atXL6UiU9ofVR37AR566CEguZsiW2TKGGOMMSYCObY1Qma0nYj2+VHp8ZIlS1y0JFloH7uaNWu6UmnlUekKqHDhwm4/pWTJgfn3338BX16arjREx5z2S1qzZo1r1Kf8qpIlS8ZrqABMnToVSJ8zFSo1v9Ta/saNG91xJnpubQWi1yzerr/+epf/FUjbXXTq1InWrVtH60daa4QMvPPOOwBur8QLL7yQGTNmAF7Jd6pSZErR5ldffdXl66mJovLCBg0alDTRKeV0arsr/2ajobQ/0H3PPfcc4CWdJ0qlSpXc50igMWPGuAh6slBxRdGiRV1zUOWdvv7664DXqiKOrDWCMcYYY0wsHZWRKVE0QmWvyRiZkvvvv981vMuMtpxRc7lEUQM0/9J75YKoSZ3ua9++vcvZUX5SvPMNshOZuuyyy9zWHFdccQUAt912GwC33nprhs0+tbG2ttSIt3Hjxrld2PU6aeuPdevWAb5KLB1DUYgSWmQqA4GRqbPOOotHHnkESI2cyHBpa6mOHTsC8MorrwDQrVu3LBvoxosiUzVq1ACyH5lS5eKiRYvcpseJcPzxx7u/e6DChQu79g6KoCVLvuS5557LmjVr0tymKlD/Fhs6P2lVplu3bkDU8/AsMmWMMcYYE0tHdWSqd+/eAK4KI5kjU1u2bHGbgiqa4H91tHfvXsCrDtIVbxTzXsKiqsi//vrL9ZsZM2YM4EUCZdmyZa5yqVKlSoBvM9d42rBhA+Dl0SnfIxg16HvzzTdd3leg7du3uwoURdtEfXfGjBmTiLX/oJTjpojg5MmTXeQsCttdWGQqA8qfU2TKn7YcUSQzWfoWga9KF3wV0ODb+gNC7x+l5pfazqh69epxf89nRFEcVRx+/vnn7j69d7UCoPdL8eLF3Wv466+/pnm+jz76KNu5mNGQWWTK39VXXw14nx3qwZcoy5cv57HHHgPCa1rdqlUrAIYPHx7NfmZZnsNSZjKlMskVK1ak21U8XIcOHQJwe/soOW/JkiURP3c41J1dzfh69uyZ7Q9XHXT9+/cHoFatWgB89dVXkQ4zW5RYOnXqVJ5++mkA7r777gwfrwRulU4n6sSqtge33HILQJow8ymnnAJ4+yQq2Twj69evB3ydnyF9N/5Zs2bFtRNyKPS7NW7c2B2XDz/8cKRPa5OpDOiY0IVdYINb8C6abr31VsD3eiS6bYKKJ9RmQ0th5513Xkjf/+OPPwJee5RkmkyJGvH++OOP7nXRhbfOV/7UfiCwO/cNN9yQ0B0snnzySd544400t6mYKVibFzXGzOyCMl50kbd69ep0961duxaADz/8EPAuTJTA3rNnT9cxPQpsmc8YY4wxJpZSpmmnohv9+/enSZMmAG4PqHr16oX1XNp3R+3qtewU66iUluA0k7733nsBL6ysZaHs+Pbbb9P8P1Fl9/Lss88CviWirMayYsUKFy1MNI01WIQgXOPGjQOC7w+ZrKpWreq+zqic2kSPouM6VtTQFrxIh6IK2iKrTJkyCY9Mqd2BluvC3ctMkalEUZPgCy64APAtqQYmLCtp/Morrwwpgqylz8DVHv/tpxKhV69e6Ypdli1bBkCjRo3SJXlntHVOIijRXCsW/gIbwGqbOL2H3n777WhGprJkkSljjDHGmAikTGRKDh48yAcffAB4W8aEY9++felKjkNpORANioSpfD5Surrr27cv8+bNS3OfcqgSJZxS4P79+4eUIJlK1q5d6zZPTiX+ZdFq+2BiT1fg/iXfSupWDouKMwYNGpTw93flypUBLzL1v//9D/CdS3VfMGq3EViUEe9tQp555hnAiybVrVvX/b3DWenQKsPYsWNddDGwbUIUCjiiTlGd8847L11kKtWorYv/9jOJYJEpY4wxxpgIpExkqlGjRgA8//zzbn1+6NChgBehypMn419Hs9bnn3/elX6qSklVWrH25ptvAunX1MOlqyFVx6nJHHgNy9R+PxmpkmTKlCmAr3RYm/+qrDXVbN26FfBaLDRs2NB9HUhtI5KlOZ4/VZUVKFCAu+66K8GjMQClS5cGoFmzZoCXX5VIXbp0AWD8+PGAF3WvUqWKizKpotjftGnTAG87GVXz6byVKJ9//rmrbFPOTbDGnIpkqentzz//DKTdPFzUfDXY38FEj7bGSnRuWspMpqpUqQL4Qt8K0Q4cOBDwyid79OjBaaedlub7VD6pXi3vvvuuaz+g0u94C3yTam8k7YvmT8tfGzZscJNGJaTqeXLlyuWeIxlDyoG0rKouyOAl36sbb6rQiVdLx/pwCUadevX66ZhOBkpI1d5X55xzTtz3RzTBHXfccYDXdyoZaIKnfU11Ybdv3z53ztXyUbBJSdu2bQHo0KED4PVtSiRNkNQ7KpQu58GoV50mU3r9TGwMGDAg6O2RFHRlhy3zGWOMMcZEIGUiU6IIE3jLe9rfaeTIkS65O3fu3IAXAtSeY8WLF2fmzJlxG28odFU2ffp0zjzzTMDroqvoWbDyenWsbdiwobsaSsRV0Ny5czNcVty/f7/bd0/73wUmalapUsW1vkgW2q08q2VHdZ5XJ+jMqNS9Tp06kQ0uCCX2akmhefPmbslOdGz4l7Fr6VmP1X1ajjHRt3XrVrfMpSaXWuYORq9tNNp1RIvGq+a2NWvWBGDp0qUuwqMkcy37lStXziXRqx2NdkeIN+0L+sUXX6S7L7M0jIzuK1GiRIbL+om2efNmfv/9dyC5ouGROHLkiFvZ8N87EbwVABVFxItFpowxxhhjIpAy28kEozVpJaJnVl5fpkwZAJ577rl0e8PFi7ZLqFu3LhB8vGocF3hf3rx53RWedvfWvnuKwsWbkjEbNGjgcifUBG/hwoWAL+Ff5dOiq1q9fp07d85ya5Z4UzJq9erV040/FAUKFHD7eKmBqa6GM8u3yC7lDarp5k8//ZQuv0PtKrZt25Zh7oeivNoHMkpsOxk/Q4cOdcUv2unevyVCILU90ZYahQsXTtPc04RPDZQV7Rs7dqyLnOvcq/fGJZdc4opFtFWJoh/KVb3hhhsyfQ0TadSoUS5/KPCz7/PPP+ePP/5Ic5sKZP7888/4DDATav+jc6m88cYbbjUmkPLxhg0bFs2h2HYyxhhjjDGxlNKRKdFmviNHjnRbLqjaRFd+2nomsNovEbQho3IKZsyY4e7T61GhQgUAt3VOgwYNglb7JdLw4cMBMrxCCKTIWufOnQHSNU9NRsuWLePOO+8EvGqfzDRt2hTwRaESUZmoKFrv3r3deyGUqiTlF7z66qtA5pGSbLDIVABV5qmlRijy5csH+BpOdurUKZwfZ0Kg9g6BW+OUKVMm6MbGqWLUqFHpNl/OjDbUVo5nIvXs2RPwcuv0ud6qVSuX1yo1atQAvPzVKOcPW2TKGGOMMSaWckRkyiSGGtVNmjTJ5QUpMqK8qHbt2rmIlCrjwtlqJhnod1JugX8k8bPPPgPghRdeALzcvGToCaScB41RVZRLlixxG+xee+21gBe5jVH+nUWmAijK6X8sga+iV1Vhq1atAnyVmeBtL6OKOGNCsWPHDpcDmVkfPEXgVUFeqFCh2A8uCxMmTAC885N/g2pRJbmqxrUJd5RleQ6zyZQxJtZsMmVMAmkSosmJmqX+888/NG7cGMClBSRjIr2SypWGAF5qQp8+fQA4/fTTYzkEW+YzxhhjjIkli0wZY2LNIlPGmFRmkSljjDHGmFiyyZQxxhhjTARsMmWMMcYYEwGbTBljjDHGRMAmU8YYY4wxEbDJlDHGGGNMBGwyZYwxxhgTAZtMGWOMMcZEwCZTxhhjjDERsMmUMcYYY0wE8iR6AMYzevRobrvtNgBeeOEFAEqWLAl4O8enom3btgHwwQcfANCuXTsAcuXKuEP/o48+CsBzzz0X49EZf/Pnzwdg/fr17vXRllM1a9YEYr6hqDEmRdSoUYOOHTsCqf0ZFQ0pOZnaunUrAHPnzk1z+/jx4/n0008BGDFiRJr7vvrqKwAGDhxIhQoVAOjZsycARYsWBaBOnTqxG3QmvvzySwAefPBB9wHWpUsXwNvBe/Xq1WzcuBGANm3aAFCuXLl4DzVb9Pu1b98e8CZRmU2mBg8eDMBNmqe+AAAgAElEQVRxxx1Hjx49AMiTJyUP16Q0cODANP//5ptv0vz7+++/kzt3bgAOHz4MeJOpwPedMebooonTggULOOOMM2L+844cOQLAM888A8Cnn35KiRIlAKhSpQoAL774IgB//vknAE2aNOHDDz+M+djElvmMMcYYYyKQSyH8BAtrEM2aNQNgwoQJUfnhVatWBXyz7ESYOnUqAI0aNXK3FS5cGIB//vkHgIMHD7rllmLFigG+ZUGAq666Km5jDdfcuXPd6/XXX38B3rJRZpEpfzt27ACgUKFCMRhh2p/xyy+/pLn91FNPdeMO9OWXX7Jq1ao0ty1atAiAxYsXZ/izLrroIgCWL1+e7fFmh5ZZBw8e7JbzApfy/P+f0X26SgxDaC90akuKEynA7t27AdizZw8Ap512WiKHY/DeM7///nua25cuXerO8S1atIj7uEKl84XGuH79esD3WazzSizpfHrppZeG/D0dO3ZMF4GPQJbnMItMGWOMMcZEIOWSUF588UWmTJkS1ef8/vvvAejQoQOtWrUCvGhVPMyYMSPdbWvXrgW8dWDld4EX4VEk6+OPP05YvldWhg8fnmFkJzOKzLVr147jjjsu2sNyFI3s1q0bAF988UWa+4sWLeqiVuHIly+fy/EqVaoUAFdeeWUkQ802XZ0pDy937twuyhSYF6X/V6tWzX1/jRo1AC+PzSS33r17A/Dee+8BXgRbx2O1atU49thjEzO4o9DSpUtdQdE777yT5r4yZcrQuHFjIPkiUx988IE7ZygSJVptiEdUCmDfvn3pblPucODnw1lnnQXA3XffHfuB+bHIlDHGGGNMBFIyZ+rEE08EYOfOnVEfyHnnnQfAypUro/7cGTnnnHMA33q6IiS9evUC4NChQwAMGTLEXWEuW7YszfcXKlSIn376CcBVOCSLokWL8vfff6e57cwzzwR81RaAK631p6voWOZ7vPTSSzz++OOAl1+SmSuuuAJIm+ulqyK1tJA6deok/LXQ1aSueP3zpAYMGABAp06d4jEUy5nKBlUm69hSNGDYsGGuYmn8+PGAlz/6888/u1YkovfSwYMHAWjVqhWjRo2K9nBjRpHt4447jp9//hmAU045BYDzzz8/YeMKtGHDBgCXRzlnzhwAnn32WXfOuOaaa9xtAKVLl05olfL8+fPdeULHkqL1gdEo8M7VUcxFytSBAwcAuPzyywGv2rhy5crufBanv5/lTBljjDHGxFLK5Uxt2LAhw2qiYsWKuTVp5akEGjBggJvlqiGkKriKFi3KBRdcEO0hZ2jatGkAaXJyAn83RT4eeeQRihcvDsCTTz4JwC233OK+X72yUsF1110HxO/qJtC///4LwOOPP87evXsBr0noihUrAJg3bx7giwoogqbcoVCrEBNNV5gLFy4ESNPDLE4RKROBMWPGAF5fvVdeeSXNv/50dV60aFF3zihQoADgve6Kvo4ePToukanVq1cDXl5N06ZNXSRJ57nNmzcDvmNU0XVRBZf6muXJk8dFf5RTGYvViex44YUXXF6rqvOkRIkSblVB0e14Cjf6JNWrV094Q87OnTsDXkRKhg4dmnR9B1Nume+uu+7irbfeCnrfE0884ZbHwtG/f3/Al5iZiERu/2U+iUc7gHgItsynpqlKILzvvvviOiZNoAoWLEjevHkB3IdL06ZN4zqWWNLkTycivde7dOniGt3pgzawq7m+N0pSY/YZmaicSPfv30/r1q0BmDx5MuAtdei1OuGEE9x756abbgIgf/78AFSsWNEtMyllQfSB/sknn7jk9FjSTgea/D300EM0aNAAgH79+gEwc+bMbD332WefDcCaNWsiHGX2aIKnAqFx48aRL18+wLtYvP/++wGoX79+AkboTZSUVpGR6tWrA94Snt778WjGmZnffvuNWrVqAbBp0ybAK+KZPn16vCdTtsxnjDHGGBNLOSoyVaJEiSyTfjt37kzt2rXT3KawuJIa4+1oi0zpmNPf/cQTT+STTz4BvKhVLOnnDxw40CWgH3OM77pCV2NaQv3f//7nxqn7UmWZb9y4cQDceuutQNr2B4GtEPS+0e9WrVo19/X7778f6VBS4w8WmaicSIcNG+a2XZLy5csD3vZRa9ascVs0JaPPPvsMwJX8a0nv5Zdf5qOPPgK85Hp/ZcqUAbwom859l1xyCeBbtlRE6IknngCgbt26MfkdwFum7NWrFxUrVgS8lJC3334b8N4/TZo0cekXgRHBRJs/f366ZpvSsWNHF5FKdCRKFImtU6eOW45U5Pzbb78FfOk+KqiQk08+GSBWqToWmTLGGGOMiaUcFZnKLjX5euSRR2jZsiXgtV+IB/0+HTt2dFEcrVvryge8iEr37t0Br7FikSJF4jXUkE2cOBHwRXh0pSHBtpPRVZEKCHQlWLBgwZiO86WXXgK8JNnMNvG9+uqrAe8KumbNmu4qSNGDZKREfyVz5sqVK+j2MYH/z+i+atWquQR2letnwSJTWdBG7K1bt3bRg2uvvRbw3ksqnBg/fnzcGxKG6o8//nDRIkVxFG1u1aoVlStXBnw5L+BFTcErGtLm7ol25513Ar7zs459FQEpD0rn4mRq0RCMzm+KUMW76WY4HnzwQcA7N4O3iqH3xCeffOLaBml7tV27dgFw4403Ar7P0IYNGwJRiRZaZMoYY4wxJpZSLjK1bNky17DuzTffBGDs2LG+J4nC71KzZk3Aa5Snqpl4GD16NLfffnuG9wdGCBQpKVWqlGsCl2wtEtq1a8drr72W5rZQNjpWRZNyE2JN6+/K91CrBPBy2QJLngFXDairalVXtWnTJl2FXKKpLHrw4MGu9UNG28kcPnw4pPsC8xYyYJGpDGibETVRVdUSeJERVRurHUAybgWjRqGXXHKJOz8Ho99BbQ/OPffc2A8uTKqGVK7W4cOHueOOOwAvEqXVjFShlY6NGzcC8PXXXwPJkyflT5HN2bNnp7tPn281a9Z0rSh0TGkrsJdffhmAH374wa0wPfPMMwC0bds2u8PK8hyWcpOpYJRAN3v2bH788ceoDEihwhEjRgDxS05XSP+kk04CvF4z4JUYB5uErFu3DkjON0dWWrduna5UWyerRJU++9MxpaRZLV9s2rTJTb4CnXTSSfzvf/8DoGvXroC3RJDMtCT4zTffZLjMt27dOtduIaOebwFsMhVAx5RaVAS2P0jzxP//99dS8h133OGWQvzTABLpjz/+AHzL86HsxankdCWkJxN1LteHeqp1jBd1CG/RooVbOlbgIVF9o0KxfPlywHfRp2NeqSxqO5FZ0EAXfz/88IPrOL99+3YA+vTpA6S9WA6RLfMZY4wxxsRSjohMyc8//8zSpUuzfJweo1lqZlSyv3btWsBrxJYI2pPv+++/B3ChZ4ALL7wQ8KIg/vfFSkbNAcO1fv16V8avkmcdl127dqVHjx5A3PZgCtl///3nroJmzZoFeF31f/jhB5cQqeiBrm5V5JCqxo0b5xKHbZnPCescpgRsJfKrGWHBggXdVbeinp9//jmQNmqlMvynnnoqgiFH3+LFi91xrqV6Hf+vv/66i64//PDDAAwaNCgBo8ycVgN0jA8ZMoSHHnookUMKi46pUP62ydgaIZr0ua3lZC0JTps2japVq4bzVBaZMsYYY4yJpRwVmQqV8jyUp6AtRBSF8qeySyUhJ0Py55YtWwC4+eabAS+ZELytA2KZa6ScoUaNGgG+Pe50Farml9kVrIGp8ng6dOgQ0XPH0+rVq10CsV4fJaurcEJlyuFSFA+8ZnZR3v4lU506dWLw4MGA5Uz5ydY5TOcglX4Ho2RtRRC++uordyypXUIy0+/41FNPucitEu7VriOZBOZM1apVixkzZgC4LWOSWTiRKUjuNgnRouPtkUceAXytLJYsWQL4tmcKgUWmjDHGGGNi6aiMTAVauHAh4DXB9KeqOkWDkomiQf4Vf6p6+PjjjwFvE8toUmNL/02hX3/9dYCImwkGi0y1atUK8Bp6phrltQRuwh1iVCedY445Jt02MIpMRWHrl7B+vuVMOTE7h6mRr/IJhw4d6ppErly5MlY/NihFJHv37g14+ZKBrTb8qZKsVq1a7mtFV5NxY3Hl2eg9tWnTJleGn2w5atkV7DVJhUq/7FLLkdKlSwO+7drC/H2zPIclV0Zvgij0HIy6rGrZTB/2yUC9M/wnUwUKFAC8gyZelFCqRD8l1IaiQ4cOTJ48GSBojxp1HE9VCrv369cPgP3790f0fE2bNnWtCTTpDDwhdunSxSVY6kMh3L5XKq3esGED4C0b+Cfem9jRe0HLwbqIyZ8/f9R3gQjVhAkTAK/UXHul/fDDDwBcdNFF7rE6ftT3Z/369Vx22WVAbC7youXss88GvB5grVq1Sre/aCrQ3//0009Pl1yu/w8YMMAdX3p/58TJlNrS6N8dO3aE1MIjHLbMZ4wxxhgTAYtM4SVtB6NljJ9++glIrshUsMZlSgDXjuuxoORXRcH27NnjuoMrUuK/TBdIO94r4XHJkiWuM2+gIkWK8MADD0Rn4Amiq3ZFOSP1wQcfuN3U1bE/sFv54MGD3dd6TMmSJYHQ9+YLjH7pZ9SqVcslQ5vomzlzJuAt42/evBnwimHee+8995rGmxJ4Fy1aBHgJ8JdeemlI33/yyScD4UdJEyHExOSko8iSotU5ObE8VFu3bgW8Tv0AF198cVR/hkWmjDHGGGMikNKRKc02tTVDhw4dXAmk9koLRk0vlRAcLIlTidzaTkbbyyQDJUi++OKLCfn52gJj+PDhQNomlHfddVeW3x/K3nz+ifSKgKUa5RopsqZIUe3atSN+buWcKIld7SNUan748GH3d1ZysP/fPZTIVOB9KtBQ7o4Jz9ChQwFcSTbAtddeC3itEaZNm+beV4pkKtlceVKJikoBNGzYEPA1SAav8fG0adOA4BFpRdCrVKmSdBFNfV60adPGRfP1d/eP6CTybx4qjVfJ/cqfDLUZZ7I17Rw7diyjR48GYMqUKRE9l9pdKE/qrLPOClpwFgmLTBljjDHGRCClI1OqwvNvTqaNELNLEZG3334bgAYNGkT0fKFQvlDLli3dljHBKEKgf/fs2ZPuMTt37gS87Srq168f1bH6u+GGGwCoUKFCmqvtSCiXQldVyVz1k5n58+fTpk0bwMu30+bNqlyMJlUMKv9v8ODBrsJS5ez+5euKkgXmWvn/X1+rWjRVX4tkoXwj/2rOkSNHpnucIjn33HMPAP3794/D6MKjije1RNm9ezdA0PPXaaedluZ7kolyvooXL+42xVWERm1GWrRokZQtHAIpj1Ljz6yRryr9unTp4m5Ltvf3kCFDXEWrcnLDzWP79ddfAW+bNSlfvnzUVzwsMmWMMcYYE4GUbtqp/JBIN8vUFjGFChVyV1pNmjSJ6DnDoeq2YNul7Nu3D/DldWWWa6QtAXSlUbly5ZiMNZgRI0bQvn17wNs6IjP6PbQ58/333++qgdQkNdqVFrGmpnDKHbnvvvtcBEK5GIpI+Tc7jSf1kwklZyrKzT+taSewfPlywNfjRhtja6sh9b9p2rQpV111FQDHH398TAZqPIrIjhkzxm1iryiIcmo+++wzt0FuMlO0KTC/64wzznBRJ1X4KYoFybudTN++fd3qk7b2ee+994DM3xuqwJ8xY4bLV1WesSL3Cxcu5NRTTw1nOFmew2wyBTz22GOAl0yZTFTKOX78eL744gvAW4rRgQXewZKoJEIlCiqhc+nSpekeo13Ya9WqBXglvCeeeGI8hugmOgrnR2r+/PlugqT99vwbwV1++eUADBs2DIh/I9UkYpMpk/Q02VXbh8aNGwOkXAGMJkz6XNywYYO7TfQ50bRp06Ru0tm3b1/AdwEC3i4ABQsWdIVnQ4YMAbxinIkTJwJeygtApUqVAHj11VcBr4gqDLY3nzHGGGNMLKV0ZErJjip7fOihh8L6foV1VVaeCjuCm+xTQ1Nd0ZQtWzbDx+qqxr/UW0syulr6888/0zXi1NLlAw88wH333Qd4y8hHMYtMGWOiZurUqXz44YeAtyogKnSoXLmyayuiAh01jc0Gi0wZY4wxxsRSSkemjAmHkqvLlSsHpC2zVQ6BGsGq4eaqVasyfL5ixYq5Joba2FmFC9pyxwAWmTLGpDaLTBljjDHGxFJKN+00JhxJEoU1xhiTw1hkyhhjjDEmAjaZMsYYY4yJgE2mjDHGGGMiYJMpY4wxxpgI2GTKGGOMMSYCNpkyxhhjjImATaaMMcYYYyJgkyljjDHGmAjYZMoYY4wxJgJHTQf0bdu2ATB69Gh69eoFwPbt29M85sorr2Tq1KlA2n3bjPGn/fr27dvHjBkzAOjSpUu6x1188cUALFu2LH6DMznG3r17AejevTsA11xzDQDXXXddht/Tv39/XnnlFcA7/saNGwdA/vz5YzZWY452FpkyxhhjjIlAriTZryzqg1i8eDEAgwYNAuDrr78GYO3ate4xuuKrWrUqALVr16Zo0aLRHkpEFixYAMDYsWMZPHhwho8rWbIkAH379gWgcePGABQoUCDGIwzd7t27AShYsCAAy5cvB6B37968//77aR6r4zJXrlw8+eSTADzxxBMA5MmTmIDq/PnzAbjlllsAWL9+Pblz587w8SVKlABwv1v16tVjPMLMff755wBcffXVtGzZEoD33nsvHj86yx3Xc4ConcN0jqpTpw7gO84A8ubNC0DPnj3d+/rXX38FYNq0ae579+/fD/jeOwB9+vQB4LHHHovWECP222+/AbBkyRIAfvrpJ5555hkADh48CBDvY/SocPjw4TT/X7lypTuv6jXR52GvXr0oVqxYfAcYok2bNlG8ePF4/sgsz2EWmTLGGGOMiUCOi0zpSu3SSy8FYM+ePb4f8P+/5+mnn+7yWx588EEAjjkm+eaU8+bNA9JGQcJxxRVXANCpUycAbrzxxugNLgzbtm2jXbt2gO8qCOCCCy4AvFwOXUH7849Mybp16wDfa5gIulL+8MMPAd9VXmaRKV0FtmjRAkj8FfZff/0FwGmnneZumzBhAuBFMvft2wfAlClT0n2/jqlTTjkl3B9tkakwzJw5E4D69esH/0H//ZfuPaMcz+bNm/Ppp58CXp6oIvA9e/aM1hCzZcuWLXTu3Bnw5a5C8Pe+KNr+ySefAFC2bNkYjzC16T2r9/nOnTsBmD17tnuM7lP0b8mSJW41RsfbiSeeCMCYMWN48803Ae/8kGjvvPMOAI888ki6HMAKFSoA3mfeG2+8keHzXH/99Zx99tmAlzudWS4iFpkyxhhjjImtHFXNd+DAAVq1agV4ESlRZKZ///6uyiUZzZ07F/DG+/fff7v7jj32WADuu+++dN83duxYwHf1BzBnzhwAt+Zdr149l3MRT/Xr13d5EfLjjz+G9Rxt27YF4NRTT43auKKtadOmANx8883utubNmydqOCHr378/AEOHDgVg6dKlgBfVAC9KePvttwO4q1UTG8GighkpUqQI4LtSB+jWrRtbt24F4KGHHgKgWrVqUR5heD766CPAFzH4/fffQ/6+jRs3AricSUWEU9GKFSsA7/2lv8nChQu58847AXj88ccj+hnKD1Yk6rjjjgPgpJNOco9RnpHOTYMGDXIRZ/n3338B3/s90ceOdOvWDYB3330X8CJs/tasWQN4f9vMKMIFcPzxxwNQq1YtAFehHa4cN5n67rvvgt43YMAAAC688MJ4Diksv/zyi1tK8p9EgS+RXImk7du3T/e999xzDwD//PMPAA8//DAA3377LeD728RzMqUQ6/fff59pKD+Qlmevv/56wPd7aRKlk0O8vfTSSwBMnz49ze3nnXceEydOBLylr5NPPtndP2nSJCDxy3sSOH7wChxCeY2SrTgjp/IvkgmmdevWNGvWDICrrroKSNv2QMdgoo+7p59+GoDnnnsO8JaWwCtCueiiiwDfMpLSAXTu0gferFmz4jPgCGmJXH/3Xbt2Ab5JoC6SA99nRYoUSTeZya6BAwcCUKNGDcC76NFnSqg0uUiWiRTgiio0wfanwp7MUi6UGqL3y+rVqylVqlSax2SxzJclW+YzxhhjjIlAjopMHX/88TRs2BCAyZMnJ3g04Xvvvff4448/gt43bNgwWrduneH3litXLs3/FXFIFLVB8C9wUIRHV6CyaNEiF5FKRlo20ZWm/PLLL5l+n666lUibaIqUhUvJp717947mcEwQn376abpzlyLK+vtrSS9ZaTmuX79+gBeROvHEEzn//PMBL2oSbKXg+eefB7z3m5bIkomW5t56662wvq9mzZoA3HXXXQDceuut5MuXLypjUgK20liUuB9uZCoZPfvsswCuIe2+ffvceUlFNIkuJLPIlDHGGGNMBHJUZCp37twuiS/w6k5rpbNnz3ZXR8lCs20lA/tTI7tbb701rmOKlHIDcuXK5b6uVKlS0Mcmc1QKvN8lcE1+2rRpbouPYM477zzAu9JOFDWw/fjjj4G00UJ9fdZZZwFePl6pUqWSphz6aHPOOecA8OKLLwJeYmwq5Kxt3brVJQsrz0VNIJ999lnq1q2b5XMo50sRrk2bNsViqNmiXFblFSlquH//ftdMWK0FChcuDPiKUvQaqv1ALPM/9TPefvttAHbs2JESx05mVEyhvLR8+fK5ZqOJjkhJcozCGGOMMSZF5ajIFHjRAEWoVMWnKoD+/fvz1FNPAcmTy6IydF3J+fvqq68A6Nq1a9LMwEOh5qngXWmqRFfNO1WOv2jRIvfYe++9F/CuxtXgM5FUbaMrZW2Dc8cdd7jfQa0RktHq1asB0mwzopwVHXvankSVQNYgMTGmTJniouqp+BqsWrXKbQT+wAMPAF7ulKI54YrztiHpbNu2zVUUqtJQbQi0YrB9+3YXbbr22msTMEqPVmEU2fzqq69cLnGqCqzia9u2bdKtaOS4DuiB1JPp9ddfB3wfJNozTW/6aCUAZpe6Abdt29btFB8o2B5J6mxcunRpd7B17do16PdXrFjRdX4PJdQeKS0brV+/3oXC1eJAyenq0BusLF8T3ZkzZybFhAqCd0A/88wzgeBlxIH7DcbboUOHAK/kV3vzgdefSD1lNNHSxHfixIlUqVIFiMpeiNYBPUSnn366Oz+pUKNBgwaA1zLhjz/+oHLlyoC3XKQLrUQv5yxYsMBdCKkvnpK0a9So4c4LqaRTp07u4kNJ8VoO14QlGZUuXRrw7XiQKu0lAqlfoiaD+ux49dVXg/ZbjCHrgG6MMcYYE0s5PjIlKkX1L2X98ssvAahdu3asf3xIBg0a5PauiqUjR47E/GcoYrN+/foMG0KqkVquXLlcs1EtO+m4LFmyJF9//TVAwq9qw92bTxGh7LYkiNSyZcsAKF++fIaPCbYHoqhbs65wI2CRqRBddtll7njP8AcF2ZtPEarevXu7JWclsseTf2Qq0CmnnML//vc/AFe4cfXVV8dtbOFSE8zOnTun+3uraaoiU8FWDhJNLTSGDBniPvcKFSoE+CI7QNBjrWLFioCvMCrRTa7r1asHePtVSpcuXVxKgtoCKcUnRiwyZYwxxhgTS0dNZEpr3ddddx3z588HvIRItfrPqHQ/Xo4cOeKuILTzu0ycOJHDhw9H7efEmn/OlK6GlFCrrW/uuOMO9/gNGzYA0KNHD8Ar682VKxfjx48HoEmTJjEfdzhWrVrFTTfdlOa29evXA74Sav2dFdEaM2ZMXMcXSmTq8ssvB7z3wrRp09x9FpkKS7bOYdpPTBECRW4y4184E2x7DUVE1bQxnvbv3+8iBj/88EOGj1MenppYdu/ePWmiVGoSGsoerorcPPvss2n25UwG27dvB3wJ6YH7o0rz5s1p1KgR4LUdGDJkCOA7h+lzSA2I403RNW1PFtg4GbycZ+ULqgVMyZIlo7mfq0WmjDHGGGNi6aiJTMnixYtdqfuePXsAr2nku+++mzSVY4EmTZqUaURJV7iq2AuUJ08eV9YbrDlotKlR5IEDB1zZfSil3n/++ScAV155JeBrsaD8hERXx4Vi8ODBgG+D6bFjxwLQokULIHEbz6o9yAcffAD4IoKKlqnBoCj3Y8uWLQwbNgyA+++/P9IhWGQqA4rAajPgX375xeXnXHbZZQCuOaHOU/4NH9VWRFHedevWueiuNhpONG27dMUVV7B582YgeK7eCSecAHi5rIlaKThw4AAAHTp0AHzblVxyySWA14BUG8gronjaaae5r1WNmYzUduOGG24Agm8OrIryChUquA2pdT5PlN9++w2Al19+GfCtrqhCUW14FFmTsmXLuujsGWecEekQLDJljDHGGBNLR11kCnz5R+BFDLQRZ/v27ZO6b0hGli5d6nrR/P7770Ef079//wyjVsmoU6dOgG/9PpUiU/60BYI2Sk5UZCocapC4ZcsWXnjhBcBrVBgBi0xl4K+//gK8PKeVK1e6ymNFFNWvKTPKU/rmm29o3rw5kHzvl02bNrn8HOXjKZ9yy5Yt7nF9+/YF4ruh87Jly1xETxtKhxJJV9POMWPGMHz4cADuvvvuGI0yvkaPHs2DDz4IwI8//ghEJcITdRqbtu1S30bw8t5+/vnnSH9MluewHNcBPRRqFqlJlOhDL1lp4qu9qvr06QP4koYDJ1FqlKlWC1H4QIwLNWX74osvAN/vnD9//pj9vHHjxgHeSaJ69epRe+42bdoAXtNFJdInY7d0hf/VmgK8Pb5M7ChBVon/27ZtC6scXY2H/T8s1Hg12RQvXtwtuwQ2kbzlllvc1x999BEQn8nUSy+9BEC3bt3c+7RUqVJZfp+WlhYuXAhA/vz5M2wJkaoqVarkPiuVIhCP1j3hUmsELZkr1eL888+nTJkycRuHLfMZY4wxxkTgqItM7dq1y82yRUl2Wk5KRitXrnTNIrXvYGaefPJJALeDe6pQiP37778HfAmq2q8vFsjCFWQAACAASURBVHRFr214dMV87rnnRvzcauWg8nXt6ZeMpkyZAnhtM4oUKRLTiKDx+eyzzwDv6jrUqJSi6EpVUEQ32Wl/Ti1Fqt3LPffc45bJ4hnh0Xlm7969nHLKKYDXUkKtDjZv3uzK7dU8Uu101NKlVq1aCWsfEA+pcC7Qlko6xnLnzp2uxVBMf37cfpIxxhhjTA501ESmVELcs2dPdzUoKiFOpqaQK1euBLy2/xMnTnQbnQajMmo1XItCo8W40u85dOjQNLfffPPNMV33Vh6acs7OP/98IHjDQW2Ro6TZVatWuatZNetUnsf06dNdCbtKrJXgGi9qEuqfjxLomWeeAXBtHNS8c9y4cQnfvicnU97jbbfdBuDah4wdO9Y1JgzM6ZR58+a5/Ds1mJQqVaokJK9FY921a1dYOVtqT6P3D3gtIOJBOUH//fefKz4KpQhJkRrlrQY27002f//9N+Cdu0LhvzG6tv9JZtqSTAUce/bs4aqrrorbz7fIlDHGGGNMBFIyMqWmYionlgkTJjBv3jwAfvrpJ8Db2Fhr2/v27XOlxsqdSqZZt9Z4lQuhK7dgdJXRtWtXV46bjBtuZmXq1Kn069cP8BrmqfHd22+/7aIlsaDyZ0WdlN+kLVj8m9qpIrJKlSqALwqlvIrAiFru3LldlEslu/Gg90br1q0zvSpTRErRMjVPVM5O3bp1YznMo55aAyj3Sf/Wrl2bQ4cOAV7UNJD/Rsf69/XXXwfg9ttvD6mVQrTpeDnmmGNcbqdyV4LRSsFTTz0F+KoZ1d5Bm9vGg8roBw0a5LZfCqw0/O+//1wFriJQqvhLxGbS4dqzZw8dO3YEYMSIEVk+XtvQDB061K0K+G9hFG2KKOm4zez4/ffffwHfa6TI/5w5cwDvM1+Vyfny5XOtK+IhJSdTkyZNArwkQMlsIqH+OZUqVeKxxx4DfCeueNmyZYsrp/W/DdK2LVDYOdgkSh90CqPrgzAeJew7d+6kXbt2gNcNVyXMWe1hpXJ7vWn0/b169QK8JFDwigH0GsdyIgVemwItm+iDIBiV3Mrhw4fTTaL8tW3bNgojDI+6ZU+ePNmVfct3330H+Cbf+lofxtoVYOTIkXEa6dGtTp06gLcX36hRowDfxYR/V/CMaD8ytVTQBD8REymAihUrAr4O1ZqgqHO+/3KlLm7VA0v7pILX/y+zSVi06fwSSlFPqhoxYoTrxaSJuvZGDEY7H6xcudL1OvPvuh9trVq1Arzu8lqSPHz4sHsvaIcPddPX75OZBg0axHUyZct8xhhjjDERSMnIlCIcgfLkycP111+f5jbtWaWkxkR1cJ02bZpLNs2OChUquOhJNMr2w7V7926XpCxaIsuqCeWCBQsAb6lVtIxRqFAh1xLh8ssvB7xltnhRdPCbb74BMu4knxWF06tWrZqQXeT/+OMP97V2WleUb/Xq1YC3FAjea6co4dlnnx2PYR71dKWv41770WVWZCLlypVzy2MqPEk0/2NKuxcoyqnlM3967ysS3b17d4oUKRLrYR6VrrrqKh599FHAOxcHW5VRRFEpAE2aNHHFM7GkiKT+zS5FZVu3bg3wf+2de6CVY9rGf5lMSSmSSIyZkFPiGzLM6OBURmocv5KQKeU0MhKjdFKNatCMCWlUlJpQUeZzqNFBxrmonGaUJEKl6JxN3x9rrudde+21j+u4c/3+qb3Wu9d+1lrv+7zPc933fd3cf//9qQ2snFiZMsYYY4xJgUrZm08GdWrX8dZbbwGxHJ58NU475ZRTwq6gLCg2rHYTu+++e+iqngu2b98ezOy6d+8ORLlQ8QmxiZT0nFTDG2+8sUx9sLKBupNv374diFkcJLa10A4qWfKpEjXLU4KcTuJ7GuraTvz8jz766NBzK5OGqHG4N18pSHXu3bt3UKd0DrVr1w6IzjdZueQTmtvKaripuUwtQPLdWqCyo4iNkus1pzVs2DDkrclKRVGcBQsWFCrAyRTKRU2Wf6px694jqlWrFnKkFc047rjjgIxZHJU6h1mZMsYYY4xJgUqpTFVGJk6cWGrO1IgRI4IlwG9+8xsg89VsFUGd7lX1sXHjRlavXg1E5o/a3dSsWTP8/9BDDwXgnHPOAWK7IpNelLvSuXNn1q9fD0S5bTqX+vbtm23lzMrULo4qleMjA6rOkuUBRLmQsu3wHJAd1CaqT58+AKFKr6CgIORPKddIppe5qgzNU0qdw7yYMsZkGi+mjDGVGYf5jDHGGGMyiRdTxhhjjDEp4MWUMcYYY0wKeDFljDHGGJMCXkwZY4wxxqSAF1PGGGOMMSngxZQxxhhjTAp4MWWMMcYYkwJeTBljjDHGpIAXU8YYY4wxKVA11wPINjNnzgx9idQjThx++OGhJ54xxhhjTFmwMmWMMcYYkwK7fKPjJ598EoBhw4YBsGjRIrZv35702AsvvJDHH388U0MpExrvXXfdBcCCBQvK9futW7cG4Gc/+xkArVq1AqBt27bsscce6Rpmhfjwww8B+PTTTws9PnnyZN5++20ANm/eDMCrr74KkPMxm7TgRsdpYPXq1QC8/vrrPPXUUwCMGzeu0DHt27dn4sSJAOy5556ZHlJStm3bBhAiAJ9//nmRY0aNGgVAlSrRqXH99dcD8Oc//znTQzTlZPr06QCcf/75AHTs2BGASZMm5WxMWcaNjo0xxhhjMskuq0xJ/Tj11FMB+Oijj4o99uyzzwbgzjvv5Nhjj033UMrFmDFjAOjevXtaX/fRRx8Nu4lsIKUpPgdt/fr1AHz99ddFjj/wwAMBgjJ48sknZ3qIFWb+/PkA3H777UyYMAGAgw8+uNAxH3/8MWvXrgVgzZo1QKQ6jh49GoAePXpw//33Z2XMAN999x0A99xzD8uXLwegTZs2ALRr167Qsc8++yzt27cHYMeOHYWeGz16NFdddVV5/rSVqRR47rnnAOjatSsAn332WfGD2LmTOXPmANCiRYtMDalEZsyYAcB5551X7DG678QrUxrvCy+8kMHRZZ6VK1cCcNxxxwGxea9Hjx4AWb3e49HfPf744wH4xS9+UervvPvuuyxZsgQgXO/ffPMNAA0bNgTgk08+SftYy0KPHj1CFCORBg0aANCyZcvw2AcffADAm2++Weprt2zZkt/+9reJD5c6h+1yCeiSwiVHlrSI0gnxxBNPAFCjRo0Mj650jj76aAB+/OMfA0VvZAC1atUCoGrV2NenRUpJvPzyy1ldTNWsWROADRs2sGHDBiAKXTZt2rTI8SeeeCIAe+21V5ZGWH60KLrpppuA2IX561//Gogmqffffx+ITahaTCXeOOJvINnkkUceAaB3797hMYWEXnvtNSAKsUyePJlvv/0WKDregoKCjI/1h8obb7zB1KlTgSiEp+s7/vvYd999Abj22msL/f6pp57KKaeckq3hFmH+/Pl06NCh0GMa62677cYxxxwDwN577w0Qfq5evXp5F+hpYevWrQCcfvrpRe4VP//5zwE46qijOO200wA44IADCh2j9xE/B+ta0nVz1lln0a1btwyMvmwUFBSEc6lPnz4AXHDBBQBcffXVvPvuuwAsXrwYICzG33nnnfD5iCOOOAKIbchywd///ncgJjoUJwTp8REjRhR5rnHjxgDUqVMnnJdKjdH3n/iey4rDfMYYY4wxKbBLhfkmTZrE8OHDgSjMJKpVqwbEwkm77747ANOmTQNiO498QYl+l112GUAhKVO7oN/97ndApBAMGTKk2NerW7cuAEOHDs3J7mj48OHccsstQBTey2f1qSQkEUtF27lzZ9h9JqpPNWrU4Mgjjyz0+wp76N/E5zOFziGpngpDxKPrI74445BDDgHguuuuA6JigG7dugVVtIw4zFcKgwYNAuC+++4LCmgiCpl37NgxzFn5NHcBNGnShHfeeQeAiy66CIgUUZ1j+YTuE1KWAerXrw8QlGWFx6HodR6vTOm52rVrA9C/f38gFp5VNCEXfPvttyEa8N5775Xrd/VZXHHFFQAhXKm5IdsodLp48eKQEpMYzn7ppZcAWLFiRUjbadKkCRApixUoznACujHGGGNMJtmlcqbee++9IoqUdtADBgwA4NZbb832sMqF4rZSE/bbbz8glpAuRU0oN+KGG24Ij61atQqI8qqkTNWpUyeDoy6eZPlRlRWphtqVnnfeeUFlSlQIatSoEfILco0S5pMpUiLRLqRVq1Y89NBDQO52oT8ElOQ/c+ZMIHk+nXIdld+Wj4wdOxaI2Z9IQdNj+ahICVnInHHGGcyePRuIlA0lV3/zzTchjy1Z4rzQc3/4wx8A8ub6LygoKFaRqlevHj/60Y8A+MlPfgLAT3/6UyBmFdS8efNwXC559tlngUhJbNKkCZ06dQJi+XbxHHroodkd3H+xMmWMMcYYkwK7lDKVDFVh5LsiJRJ3AFIMLr30Ug477LBSf18VCvmCKmIqM8phSdyd6ud8R8qAVNqSqvFkyTF8+PCc5nns6ihfU4pUfO6q8nDmzZsHEK77r776CoB99tkna+MsjY0bNwIxWxmIKbIDBw4EcmcaWh50jg8cOJBZs2YBURVYvI3BueeeW+j35s6dCySvti5LdXU2+ec//1nkMdm0tG7duoiyk48kzrVt27bNu3FbmTLGGGOMSYFdSpkaMGBAqOZLtmOoDHz88ceFflauU65yntKJqnpUHVZZUK6UjN/k0VJZkDorY9TEcwwIJnVq87Hbbt5nZZI33ngDKJp7U6VKleDLpnxDVY9K8bjmmmtCVVWu85HkybNs2TIgpnRUxhZQhx9+eKjCU16OfL0A7r33XiBSrUqq9JNHoNS6XFfzJVPQlQuVb+pOIuvWrQPgb3/7W6HHe/XqlYvhlMguZY0AkbOrervpZFFvPtkK5CMFBQXBEFIXryT/p556iu+//x4gqVmZktNzadiXjLVr14bQ5ciRI4HCCfP5zubNm8PNbMuWLUB0I4wPqco2QeW6ECWg9uzZMytjLQ2V36sYI57XX38dyFhY1tYICWizJ7uQ++67D4gtpmSw+MUXXwBRqD8++VmGw1deeSUAXbp0AYo68WcaLSr0d7dv385BBx0ERDdsLeK/+uqrsNC67bbbgGiTqAVILvn9738PRIaUsqdZvnx5SEqXVYDC4TKHhihx/Y9//CMQFQNdddVVPPDAA5kefhHUv/G8884rcs9Qp4lzzjknrxe/cv9Xl5ITTjgBgH79+oWwrJDjeUnO+ylgawRjjDHGmEyyyylTaoeRqAZIoRo4cGBod5DtXVxpfPfddyHRUaWgonbt2kl72gklF6ssVCv48ePHA7kL28QrU+r/ph2TWLx4Mf/5z3+AaOf3q1/9KoujLJ6+ffuGnaZKcRWufPDBB0MIcOHChQCFWsgohKOE3L59+2Zv4EmQGtKpU6ci0r/UQrX8SfP5YmWqArzyyitApHCIp556KrTA0neq6/6FF14ISlA20fnUpUsXNm3aBJTcNkn3HfUbvO2223JuwaFWZJp7ZFNTo0aNoBxKrSoJJeUrHWD27NlBmcpmy5xFixYB8D//8z/FHlOnTp3QXkqtifLFVHndunWht67adJVkTSH0HQ0fPjxYC6UBK1PGGGOMMZlkl1OmZEyo1alyp7Zt2xaOUbNDxfbFrbfeGtSqstgQpJstW7YEu/wPP/wwLa/5pz/9CYjyAbLNhg0bQqsGfTdqgiy2b98e8kKksGlXp8aWuaJHjx48+OCDQJQjpV3Rl19+GVrCtGnTBohyQdasWUOzZs0Awk5deVUl7RSzwZYtW+jcuTMQJdcLKZll2YGXAytTaUZJ0hdffDEQzRfdu3cPKkouWLZsWciNTMbSpUuByPZB19LBBx8cTDMbNWqU4VGWjM79CRMmAHDzzTeHwqbyoOu9TZs24b7yr3/9C8hs4YDmUuUQSeEsDRU1xFtC5AKp/Lp3QXQfkAn1RRddFO4RylWTOqqGzRdddBF//etfAdKhUFmZMsYYY4zJJLucMpVI69atgailRrxClQytYJWzFN8AM9Ns2LAh7YZ8UoEmTpwYcpayjUq91TpDuRFvvfUWAL/85S9DS4PRo0cDUZsHxcpzxciRI0OFZWK8/rbbbgutI2rUqFHkd7XDVRsQVQHmWpmCqOxbVWEyJlV11Z133pnO/A4rUxni008/BSL7hNWrV4eqzdtvvz0XQyoTMiBVE3S1LoIopzLRKDNbzJgxA4gaS998882hGrwijBkzJlxLd9xxB5DZ/Mm//OUvQOGqaZ0fUqRbtWoFxD53KYmKCvzjH/8A4KyzzsrYGEtCVi6TJ08O1ewvvPACEEUASkI2L+PGjQvqldS2FEytS53DdvnFlFA4Y+nSpQwZMqTQc4l9ySByJm7btm2mhxZ45ZVXQglosmTzCy+8EIiSTdUBGyJJ+t///jcQ6ycVT5MmTYr0Lcwn5NciaVo391wvpiByqxbx5dAlMXjwYCC6qeVLmC8eWSKcc845QJRAf9JJJ4VQTBrK1r2YimPbtm3hc9ZiNlV0458xY0awR5Hzda69qEpC1/kNN9zAlClTCj0nX7ds91pTArkS0OvVq1dori0v69evDzYRWrAoOTwTaOGnrh977rlnCC8ee+yxhY6Nt35R/77LL78ciEL+2eKZZ54BIguXl19+OaXX69GjR9icayMv65oK9Bp0mM8YY4wxJpP8YJSpkpDSEJ+Mmwtlavv27aEUVCEhJcuPHj06lOyWVLb+/PPPA7HkO4h2We3bty+SbJxPyOG2W7duQGS+muruJFfEJ6DLcTyfwnyJyMhTu0KIrCzUxysFrEzFMWzYMF588UUAnn766bT8cSmMJ510UghDf/7550CFduFZZ/PmzSH0JAVXSd8Ks1dmpPYoOTqTypTMhaWMX3LJJRxzzDHFHi/rFxXPSEWbM2dOVi11pK4qWV/hyopSUFAQ7pmvvfYaEM1vFQizWpkyxhhjjMkku1RvvvKiHZCS23JNtWrVmDRpEhCVeZ5++ulAZMJZGkoalKrw6KOPAsn7seUTer/aCcW3ZamMrFy5MnzmKoLIR0VKSJnSLvXbb7/N6xy7ysy2bdv47LPPgJgiA7G8llRQ3ktlZc899wyJz5rrpKwoj/Soo47KzeDSQDYiQCr0kZKn4pjScs4S8/ZUrDV16tQQ4cgGKjxQK7VUqVq1ahi/lCnd8zOBlSljjDHGmBT4wSlTr776KqNGjQKivKj4yrmTTjoJiMozs412ESoZLi/KnVB7FqFdSz7y8ssvB3NVqTglxfgrA9OnTy9koWBMPFL9pMbIfLOi5KpVkVQMVUhPnjy5wvYuyu1SNaKq+2S8mGkzUjX/lS1Lupp+r1+/PrT/UQ5sJlDu75w5c4DIhLM0lKe7K6IWOQ8//DAQqV/bt29Pe5VrpVtMvfjii0EG1Aclj6L4fm5yfZXtgcJGzzzzTPA4SaRVq1ZhoZXMNyjfkJ3AwoULgy+WJqB333230LFl8efIFePGjWP9+vVA+iawkpDv09ChQ0N4UU7mqSIbhSFDhgTPssowWSkk+f333+d4JLs+V199dejXqD6hsp9QEm5Z+eSTT4Dout+5c2dYmGUj8VxecbNmzQJic6jeW3nfi5g8eTIAzz33HEBwRt+0aVOR7gnpRHNBuhdTTzzxBFu3bk3La5WEbHGEvJUaN25cYr89OY4LbQLT7XlYVpR2c91116X8WlrE6joR69ato0GDBim/fjwO8xljjDHGpEClU6Y2bNgQ5Fj9u/vuuwOFHVtlWFea4znAEUccAcQS9tKlUCRDO4e5c+cCULt2baCoilTcY4koeVWqVDIULiur0WQ2UYhg/PjxwUwu3rU3U0ilbNGiRdoVKZVA77fffsGELp+RE3qnTp2ASO2E7Ha4/yFRrVq1UP6tHbOcqTt06BCugZJC3VKidGy8g33Xrl0zM/Ak6HyXfca8efMKvReInMzL24HhkksuASKFZevWrRlVppQKkajUVBQlO/fp0yc8dsYZZ6TltZOhXrNyxR83bhwQuxfKOFgJ2br3QGSOKqTIqfgpWygqpGKYRYsWpdSBZP78+SF6JRNrpc+kW5UCK1PGGGOMMSlR6Uw7n3vuubDz0WozWTuY4thrr71C4pl2CUpOk8KVTlQCPWjQoLCbTNYqJt1oxygjPPWJyxRqvbBs2bJCf1f5bPHIsFBqyPr163nssceAqAw6kygn4M0330zZrkCKlHafyse7//77c6oGfvHFFyxZsgSApk2bAslzaFR+3q9fvyLPKY8tfhdbQWzamYDmrhYtWgBRQnqVKlVC/7BrrrkGiBQeJWBPmTKFdevWAVGO2x577AHEjC71e9lkx44dQKwdlPKoNC/L7qRu3brhvSgvST9DNFcqSVhtUVSU8/LLL6dsIVESyvWSMqLc3PLm7igCIVVk9uzZYT6WyqbvK53IrFO5X3ofy5cvD8eoL6psExo0aEDv3r2BqJ3M1VdfDWQ+4T8RqeT6rObMmRPu9d27dwegUaNGRX6voKAAiJTAl156CYj1QdS9VkVA/fv3Byp0r7dppzHGGGNMJql0ylQ8itMvXboUKLlL+oEHHgjEqk4ymReViNSJNLTkKBHFy6+88kogaoOTjeo4iEq7lccmIzipQPF88cUXQLSbvfvuu7nxxhuzMUwgMv878sgjwy6uPGgHd9lll4VGzPqc7777biD3Bp0XXHBBaB+kPAnZfWzatClcMzpGSkndunWB2K5OrX2SqYvlxMpUMUjJHTp0KFByc1nN1VWqVAnVfyeffDIQWSPkytIlHuWryi5hxYoVQGHj4Pj3UhyqqFbkINNKr/JUe/bsCRAafXfv3p1evXoBUauTRJYvXx5ad40cORKIGvf269cvJ2rhqlWrgFirLlW1yTJHc288TZo0AQjG0bmyp1Ge87Bhw4I6qfNdFdLx542UKUVH4s8tRT+UJ1u9evWKDsvKlDHGGGNMJqnUylRlIL6BrMzoVLkmg814i3tVGSjfIN7Of/Xq1UCkeujnQw45JORE7b///hl5H6Wh9zJjxgwgqiiBaGcqM7mjjz4aiCorOnTokJF8teJQntCwYcPYtGkTEO10pMZoFzxt2rTwnHaqqn7ZuXNnOK4iClcm6dy5c2glVBbq168PwPXXXw+k3WjUylQp6Hp//vnnwzU0duzYQsfEqxsyF7700ktT+bNZQZWGEydODPk7qtxKpkx17NgRiOa+9u3bZ2OYAeU8KXdowYIFoYpQEYDEcX/00UchP0d5n/q+FCXIB5TPpvvFkiVLggKlHLGWLVvmZGzJUEPoK664Aojy6iCqPJYiWKdOHSAyfb3wwgvDOZSCIiVKncO8mDI/WN5///2QOK4wbGL4YefOneH/SgzWAqpbt27BViPfTF43bNgQpH2FW3RDeOedd8JxmjjvuusugJRKkUvAiylTaZkzZ04INWp+UDqDQlJnnnlmmBe6dOkCRKEpkxlkDSSD7gxbOTjMZ4wxxhiTSaxMGWMyjZUpY0xlxsqUMcYYY0wm8WLKGGOMMSYFvJgyxhhjjEkBL6aMMcYYY1LAiyljjDHGmBTwYsoYY4wxJgW8mDLGGGOMSQEvpowxxhhjUsCLKWOMMcaYFPBiyhhjjDEmBarmegDG5DvPPPMMAJdeeikAV111FQB//OMfczYmY4wx+YN781US5s6dS6tWrQCoUiXWJujWW28F4KabbqJu3bo5G1tZmTx5MgDfffddocdr1KgROq7nI1pETZo0CYBDDz0UiHUr32effXI2rvLy/fffA7BixQrGjRtX6Dl1uj/wwAPDY+p6r/Pt1VdfBeDpp59m2LBhQHQODho0qKQ/7d58xmSZpUuXAvDaa6+Fx9566y0AVq5cCcCLL77IV199BcDZZ58NwP/93/9lc5hp45tvvgFg+fLlAIwdO5a///3vAKxZs6bI8ZrPzz33XABq1qxZ0su7N58xxhhjTCapdGG+Z599lmeffbbY59etWwfAli1bADjooINKfU2t1q+88kouu+yyNIwydTZt2gTAhRdeCMC8efOCQqB/Z8yYAcANN9yQgxGWnZEjRwJw8803A0WVqWrVqnH66acDMHjwYAB+8pOfALDXXnvxox/9KFtDLRMffvghAGeeeSZjx44FoGnTprkcUpmQsnTKKacUeU6fezzdunUDYO+99wZg0aJFAMyaNSscI/XKZI6nn34aiL4PKQjJWLVqVaHvB+Dqq68G4L777svQCHdNFLVZs2YN9957LwAffPABAI899ljOxlUa//nPfwBo0aIFAOvXry9yjN5blSpVwv2kpPtqPvLtt98C8PDDDwOE72jJkiVFjtV7jKdTp04AHH/88UB0P41X58uDlSljjDHGmBSoNMqU4rrXXHMNK1asKPfvx6/Ei6NBgwY5V6bmzJkDwF133QVQZJcJcMkllwAwZMgQAOrXr5+l0ZWfVatWhV1coiIltm/fHuL0ifH60aNHhx15rli2bFnSxxcuXEjLli2B6Pv69a9/DcD++++flbGVhfHjxwNwxx13lOv3xowZU+xzUqtuueWWCo/LlMzixYuBSNH9/PPPAYrku5WGlFRTNqRQSKm5//77w3NSMcrC5s2bgShXEWD33XcHoHr16imPszjeffddILpnlnTPi+ewww7L2JjShT7LKVOm8OSTTwLw+OOPFzrm1FNPBaBZs2b87//+LwD77rtvsa8p5TdVld3KlDHGGGNMClQaZWrChAlArBJJq/rWrVsD8NRTTwFw3HHHsXXrViCKbZfEFVdcAUDVqrGPQSXvueLKK69k2rRpAGzcuLHI88o9uu666wDYbbf8XwsvWLCAV155pdBj1apVAyIVbsOGDVx77bUAFBQUAPDJJ58A8Mgjj+RcmXr//fcL/dykSRMgphx8/fXXAHTt2hWA2rVrA9C3b99QBZgr5VCKmhRMVbmkyv777x/UDu20TfrZtm0bUPT8KyuaH3I9DNKL6wAAEpZJREFUryVj9erVQDSvlxddZ3vuuScAtWrVCspd9+7dK/Sa+rz79+8PRLm08Sg3cseOHUCkZnzzzTf87W9/A6K5S9ViX375Zfj9Y445BoAzzjgDiF2bNWrUqNB4i6Mk9ey4444DontIrVq1OO2004Dos8xHpEgNGDAAKJzjecIJJwDRHHz55ZcD0X2mNPRZpEr+342NMcYYY/KYSuMz1b59ewBmzpwZsvCVC7J9+3YgpjDp/STm5yTLmdpjjz2KPJYLXn/9dQDOOuus4JUhjj32WAAefPBBTjzxxKyPLVUOOOAAvvjii0KPdejQAYh2bvFoFzdq1CgAGjZsmHNlqk6dOgBBherYsSMQy0WRApr4vcWjqhrF7/X7et1MsHbtWk4++eQwznh+9rOfBdXskUceASKlQNdSPA0bNgSgV69eAPTo0aPMu77/Yp+pcqA8SeVGrl27FoCf/vSnQCy3U1XKUhXi+fnPfw5Ec4eU91zx3nvvAbEIwtSpU4HonNywYQMQm4OlNp155pkARea7I488MuT16Fh5A9WsWTMoUxXNV5wyZQoQzU8loYrKQw45BIjdl1atWlXuv9mlS5eQk1XOa6pUpN7cfvvtQUFTRe5RRx2V1r+VTlSNeO+994ZIkwyS99tvv3CcVELltmU4AlDqHJb3YT7dXBcuXAhAq1atQgKmSubTLZNmG92Ik92QJT336dMnXBw6aWQfUNm46KKLin1OF8vAgQOzNZwSWbhwYVhgaNEtI7idO3cWsauIRwv4+fPnF/pXF7/C05lg5cqVxSYeb9y4MdgjaGPy17/+FYhuvJs3b+ZXv/oVQDBUzecwwK6EFuhaRImHHnoIIJj35ju6cZ933nlAZBQZz8UXXwzELGDOOussIFoolZdUij4KCgoYOnRooce02WnZsiWzZ88GIssadUUoaRwKqcneJp577rkHiKU6KN2hTZs2FR5/Mho0aADE5qabbroJyO9FlNB8884774THlCQuBgwYQM+ePYGYfU4+4DCfMcYYY0wK5L0yJUXq008/BWIGlbmWrdON5Pi2bdsG9UIq1b///e/wr3ZHCtHceeedQLQDySdUXqydXGVl8uTJQZnSTrV3795AzDROio7aFejnvffeO1h4qFRZ523iDjgTKEyajDVr1hS7C1ZIr1u3bkEBsSKVPcaPH8+NN95Y6DGF9H7xi1/kYkjloqCggH/9619AlBD88ccfA7Hzv1GjRgC88cYbQKktPLLGd999F6wohNJApk+fXsQgWde2DB6vuuqqEIZVCLCkcvzf/va36Rt8GUhm1JtvJLa6qV69OgcccAAAH330ERBFodq1a5c3ipSwMmWMMcYYkwJ5L/EkxkpbtGhRIbUjPrkv38q569WrB8RyaObOnQtENgiKp8e/50cffRQgWA7MnDmTxo0bZ2u4ZeKzzz4DIquDeLQru+aaa4CY4iOzSylzaqRbu3btkFCbC+INO9W+QMaiVatWDcaWTzzxBBCphrnaNclSI1lZd1lQEm3//v1Djo4KPZRDlW/Xz67EwoULwzVzxBFHAPD2228D+d26R2Pu1asXf/nLXwo9J8VmzJgxoW1UZUDvaf369bRr1w6IikmU99i8eXOAoKDkE/HtYWrVqpXDkZSNP//5z0A0h/Xr1y+og3/4wx+AyO7j+uuvD9eDrD9kN1G3bt3sDToOK1PGGGOMMSmQ99YIKiNX2WpFOemkk8L/ZZwmZUS5LHXq1ClTY+RsIqVm6dKlwVwssXKsUaNGQcE7/PDDszvAUkhmjVAe6tevH1Qr5ZZls7Hzhg0b6Nu3LxDLn4KocWjVqlXDLkiVec2aNcva2EpiwIABaa+IVOuYwYMHlzdv0dYIpaAm1FdccUUw6dRO/Xe/+12KQ8s8GqNyBiGWawQENSpf8qOSsWPHjlAdLYsF0apVK/70pz8Bkcqmdkr5zG9+8xsgNjepwjDxvTVv3jxUXUp5PvTQQ4FYG6Ns3A+l/h999NFAZIhaq1atkK+qx0pCOa2///3vAbj22muDIpeGPOtS57C8X0zpy+/RowcQS2aU7J1I1apVQ0Kgkh7DHyhDb7769euHztPJyllzjRLOBw0aBBT2BJLE+dxzz2V/YCWwaNGikHCtXkrF9egrDVlhTJw4EYh8m7KFPls5LMefY/Kb+ec//wnEvJxyydatW3nppZeSPrdq1aoQutPCMDH5tiQWLlxYrh5leDFVKvLRue2228JjSk2QZYBo165dSHKuaIf7dBNvESLfJPnDVYZODRA5zSukpPkqHtkdKKynDUs+egDKkiKZBUtJ90M9d+KJJ4ZQ4T777JOpYYZiK91zVWgFUahbG+j4YhgVMWgjIiuF+JQYeePp+tI9pAKUOodVjrPcGGOMMSZPyXtlKpGNGzcWMbMTu+22W1i5Jva2mzdvHhBL1pb8nAztBuVKrpBgPiEpPV7+lzT7/PPPA5FSkk9ohxTfRb00brjhhiLOwtoFakeSbbST6tSpE//4xz8KPafS79dffz2jDufpQsrUkiVLgGh3PmrUqGLVqhtvvJG77767PH/GylQpqChj7NixZTpe89wDDzwARIUPueKuu+4CYsqaUg0UNlJZ/vnnn18pbDZkmqp5Nj50mYiUqn79+gUlKF+QynnnnXcGI1T1FZXL+GGHHRbsh5TsrftrlSpVwnenQqhMFp/IDV92QBApU2Up6Fm6dCkQhcdnz54dogcqHNBnIpf9cmBlyhhjjDEmk1Q6ZSqdaMchdWHu3LmhfYtQDkyyHli5Qsl4ystRXzWAO+64Ayice1GZGTp0aEgAT6Q8CldZUSJ/27ZtSz32+++/D5/z8OHDCz03atQorr766rSPL1vMnz8/JP5v3ry50HP7778/y5cvB6LdbClYmSoF7ZxVcAIx08L4f8Mf2rkz9InUc/mipE+fPj3kp8ieQ5YiBx10UMj1uvXWW4EooTsfUU7q888/H3JppeAmJnLXqVMnqIr5olDpXrZgwYKg5kuhUl5RzZo1gyKkfCLlJymvEqL5TTlIlYFp06Zx8803A5HppxLRFy9eHFSvMmJlyhhjjDEmk/yglalEHnroIa699logUn/UCPbBBx8EyrwTzwpS1uKtAlSa//LLL2fs76raJT5nSTkbV155ZUqvrUpNtdR45ZVXwg5L+Wy33347kF71TbtoGQ6WNXdFbSVkvaG2Mo0bN+a9995L2/hygYwKZ86cWeQ55SSWsdzdylQpyPR1woQJoW2M1FHluYitW7eGhrU6/6RMnXDCCakMI62o0fbWrVuBmForw1spa4888ggA7du3z8EIy49yjZSrpsriL7/8Mqg+CxYsAHKvEqbKokWLQkTm5JNPBiLD4myh/C0paeXNBVakQWqhKslHjBgRmj+XEStTxhhjjDGZxMpUAlqt3nPPPYUel5+IVJF8QLu6Ll26hMeknKlyLp3tG9SwV34gqvzq1KlTUKZat25d7tfdtGlT2OmpEkONreM555xzgORKSUXRrlm7yIcffhiIKpHKit7/pEmTwmOZyOnKJjq/Lr/88iLPWZkqQtbmsIKCguArpyplnXcyOc5XlH8nLyoZwfbr14/+/fvnbFzxaF4rS06NDCLj7xdSFCdMmABQKap6i0NKvXKlVLV5/fXXZ/xvz5w5M0RdOnToAFS8SbzGrRyqfffdN7Q8K6OhZ6lzWN735kvGli1bgKiDdDrRYilxMfXVV1+l/W9lAi0OKtK/sDSUkKyu3nL/7tWrF02bNi3z62iRoQXUAw88EMpaE6lRo0aYZC+44IKKDbwEZBCnhOqpU6cCBNf2Aw44oEwd1xWaUd9EiIoXKlM/snjkoCyDwvhCB5N9lPTcuXPnsIhKtB/Id2SNoJuzNvO9e/cOc8Djjz+ek7FpodemTRsAZs2aBcTsA4pj8ODBQCytQr1SFVpS0nM5DW7zCtnvyEJFBU6ZXEzpnHj88cfDOa9uJRVFBs9aTK1duzaYGqv4I1Uc5jPGGGOMSYFKqUypT5KS0c4//3wgPb2fipP81NsonWi1LyO0so5fqomUnXj0GpmQlmWAphYECimUpkpNmzYNIPSAUjf2YcOGFfs7aqHRsWPHpGGmVFBC+9133x3Citp96ueRI0cCsc9TJoRSyNRaYevWrUHJeuihh4DC7RkyqUgpkVLhklGjRgHQp08fID0mjjrP4tsWmezz5ptvArG+fUAhFVcFM+orV9no2bMnEJtblNwsdT3bxT5S+zTPKTpx3333Ffs7io7kU99BhcRks3H22WfTqlUrgNCr7sc//nF4riwolUTzTCaRlcbEiRND4njDhg1Tes1kaSMyK7UyZYwxxhiTB1RKZUq5HLLyHzFiBBCLw6eqYsRb2UO0Ik615D8Z2nGqNcdhhx0WjDilzEgR23vvvUOpvXYJKoeOp2XLlkD6VtsloQTlE044IbSzUam2FBKI8s0SW/yIatWqhZJu5SBI7cqEwib7gjvuuCOoLlKm1Exa3/v48ePDDq9z585ApD7t2LGjiMlrttA5L5sKofN/yJAhQbVQDoi+o7Ii643EfMGmTZtmtK3ED4G5c+cCkVorJbFevXphPtB3LFNFnWvVq1dnzJgxAFx88cVZG3MmWb16dRGbh+bNm2d1DKeeemqhnydPngzErGcaN26c1bGkwpFHHgnAlClTgJjNS1msXqRSSWXTvAGRgWe2C9aUd6Z8tvK0I5o1a1Yw5I4vDBLptq6wMmWMMcYYkwKV0hrhyy+/BKKcKe3YqlSpEnYQqso799xzgeQxba12VaU0ePDgkN+jarhBgwYBFNvSJB0oV2DEiBG88cYbQFSxKBPOxo0bByUoPi9HqJpHlTCZyPGSOhffZqAiKF6vHXiNGjVCPkg2WbFiRahOeeyxx4DonNDn16xZs1Cpp+9EbRc+++yzoBAkcvzxxwflMRMon6QsyphaduhcLimfSiaE8+bNC7vZRIsHNzpOSrnmMDVaVTWplNCDDjoomOEmfu7K53z44Ye55JJLUhtthhg3blxQOMoyB0l9u+WWW0J1sJrqZtv0UteSrncZCB988MGhgXyiQqW81Z49ewaVW9+tVJFsq7hSkvU+ZJ4aj+77ye4lJT237777AtE9OBMoZ6pevXqhqbzaJvXo0SMc17VrVyCaCzWHK7qxZcuWIkqaXmfcuHFB1U32PpNQ6kGVcjEl9IVqwZQs7CXUlT0eeQopIRqiG6UkX91cGjRoUJEhlhstmFSSGh8aK+4kb9asWfCV2m+//TI2NrnC6/NW6XBpKGSnG4aSTvPJMkATjqwNlIS6YMGCpJMRxL4PfReSxHUj6dKlS0aTUuVIrHLssrDbbjEhuiRLES0Yk3lkqcR7zpw5we25jHgxFce2bdvC5kdhvmRos6gQtLxyEh3R84kXX3wxFGqoUOjggw8Oz2uzp+ITXWcNGzYM/nFK38gV06dPByJvwbfffjtcywceeCAQObarUEVzI0SLQaVc5AoVqcTPX7IaiHfc14JFlLSYUuhVYepMUlJf1rKi60xpM/pXC81yYAd0Y4wxxphMUqmVKaES7nfeeYcnn3wSiJJnwx8oYbUtmjdvHhy8ExN7s40UKZXnDhw4MLyHX/7yl0DktNu1a9cgkWcD7UrKauKoUGWjRo0yNaQfHNoJa/ebyV6M8YoUUF5VCqxMFaKgoIB+/foBUcFD/Dys62XIkCEAwe28spDomq2wTfzcqxCgQjW9evVir732yuYwS2XdunUAnHbaaSxevLjU46WiDBgwAIiiHPnM119/HcKZy5YtAyIrlKlTpwbjYaFinPJ2iKgI27dvDwbRSplINs8pBPvBBx8A0L17dyAWQVH0Q31dU8DKlDHGGGNMJtkllKl4tGNPNOnSbmnlypUhJq7ScSk8LVu2TMcK1hhTGCtTxaBiDOUhNm3aNNiKVAZloySUl6PydoipPBDZdFRA5cw6BQUF4Z7xwgsvAFGStxLSO3XqFHLblJtodimsTBljjDHGZJJdTpkyxuQdVqaMMZUZK1PGGGOMMZnEiyljjDHGmBTwYsoYY4wxJgW8mDLGGGOMSYGquR7Af/khJKgaY3ZdPIcZ8wPGypQxxhhjTAp4MWWMMcYYkwJeTBljjDHGpIAXU8YYY4wxKeDFlDHGGGNMCngxZYwxxhiTAl5MGWOMMcakgBdTxhhjjDEp4MWUMcYYY0wKeDFljDHGGJMCXkwZY4wxxqSAF1PGGGOMMSngxZQxxhhjTAp4MWWMMcYYkwJeTBljjDHGpIAXU8YYY4wxKeDFlDHGGGNMCngxZYwxxhiTAl5MGWOMMcakgBdTxhhjjDEp4MWUMcYYY0wKeDFljDHGGJMCXkwZY4wxxqTA/wMEQHwG9HfpWAAAAABJRU5ErkJggg==\n",
      "text/plain": [
       "<matplotlib.figure.Figure at 0x1cede7d0b00>"
=======
      "image/png": "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\n",
      "text/plain": [
       "<matplotlib.figure.Figure at 0x1ce8002eb38>"
>>>>>>> 465c7e6b7893226eeaa6ecd42108701a3bb754d4
      ]
     },
     "metadata": {
      "needs_background": "light"
     },
     "output_type": "display_data"
    }
   ],
   "source": [
    "# Analisando erros individuais (por que 5s são tão confundidos com 3s?)\n",
    "# EXTRA\n",
    "def plot_digits(instances, images_per_row=10, **options):\n",
    "    size = 28\n",
    "    images_per_row = min(len(instances), images_per_row)\n",
    "    images = [instance.reshape(size,size) for instance in instances]\n",
    "    n_rows = (len(instances) - 1) // images_per_row + 1\n",
    "    row_images = []\n",
    "    n_empty = n_rows * images_per_row - len(instances)\n",
    "    images.append(np.zeros((size, size * n_empty)))\n",
    "    for row in range(n_rows):\n",
    "        rimages = images[row * images_per_row : (row + 1) * images_per_row]\n",
    "        row_images.append(np.concatenate(rimages, axis=1))\n",
    "    image = np.concatenate(row_images, axis=0)\n",
    "    plt.imshow(image, cmap = matplotlib.cm.binary, **options)\n",
    "    plt.axis(\"off\")\n",
    "    \n",
    "cl_a, cl_b = 3, 5\n",
    "X_aa = X_train[(y_train == cl_a) & (y_train_pred == cl_a)]\n",
    "X_ab = X_train[(y_train == cl_a) & (y_train_pred == cl_b)]\n",
    "X_ba = X_train[(y_train == cl_b) & (y_train_pred == cl_a)]\n",
    "X_bb = X_train[(y_train == cl_b) & (y_train_pred == cl_b)]\n",
    "\n",
    "plt.figure(figsize=(10, 10))\n",
    "plt.subplot(221); plot_digits(X_aa[:25], images_per_row=5)\n",
    "plt.subplot(222); plot_digits(X_ab[:25], images_per_row=5)\n",
    "plt.subplot(223); plot_digits(X_ba[:25], images_per_row=5)\n",
    "plt.subplot(224); plot_digits(X_bb[:25], images_per_row=5)\n",
    "plt.show()"
   ]
  },
  {
   "cell_type": "markdown",
   "metadata": {},
   "source": [
    "Os dois blocos à **esquerda** mostram dígitos classificados como ```3```.\n",
    "\n",
    "Os dois blocos à **direita** mostram dígitos classificados como ```5```."
   ]
  },
  {
   "cell_type": "markdown",
   "metadata": {},
   "source": [
    "A grande diferençe entre um 3 e um 5 é a posição da pequena linha que junta a linha superior com o arco inferior. Desenhando um 3 com essa junção um pouco à esquerda, provavelmente geraria uma classificação como 5 pelo algoritmo. Uma solução pra isso seria pre-processar as imagens para que estas fiquem bem centraliadas e não tão inclinadas. Provavelmente a performance aumentaria."
   ]
  },
  {
   "cell_type": "markdown",
   "metadata": {},
   "source": [
    "# Multilabel Classification"
   ]
  },
  {
   "cell_type": "code",
<<<<<<< HEAD
   "execution_count": 202,
=======
   "execution_count": 148,
>>>>>>> 465c7e6b7893226eeaa6ecd42108701a3bb754d4
   "metadata": {},
   "outputs": [
    {
     "data": {
      "text/plain": [
       "KNeighborsClassifier(algorithm='auto', leaf_size=30, metric='minkowski',\n",
       "           metric_params=None, n_jobs=1, n_neighbors=5, p=2,\n",
       "           weights='uniform')"
      ]
     },
<<<<<<< HEAD
     "execution_count": 202,
=======
     "execution_count": 148,
>>>>>>> 465c7e6b7893226eeaa6ecd42108701a3bb754d4
     "metadata": {},
     "output_type": "execute_result"
    }
   ],
   "source": [
    "# Exemplo com knn\n",
    "from sklearn.neighbors import KNeighborsClassifier\n",
    "\n",
    "y_train_large = (y_train >= 7)\n",
    "y_train_odd = (y_train % 2 == 1)\n",
    "y_multilabel = np.c_[y_train_large, y_train_odd]\n",
    "\n",
    "knn_clf = KNeighborsClassifier()\n",
    "knn_clf.fit(X_train, y_multilabel)"
   ]
  },
  {
   "cell_type": "markdown",
   "metadata": {},
   "source": [
    "Entendendo o problema:\n",
    "    - Uma tarefa Multilabel indica que temos dois possíveis labels para predizer.\n",
    "    - No caso acima, foi separado dois datasets:\n",
    "        - \"large\", indicando números maiores ou iguais a 7\n",
    "        - \"odd\", indicando números ímpares.\n",
    "    - Assim, espera-se do algoritmo, ao receber novas instâncias, uma previsão do tipo [0, 1], e.g. \"not_large\" e \"odd\"\n",
    "\n",
    "Verificando detalhes das variáveis envolvidas:"
   ]
  },
  {
   "cell_type": "code",
<<<<<<< HEAD
   "execution_count": 203,
=======
   "execution_count": 149,
>>>>>>> 465c7e6b7893226eeaa6ecd42108701a3bb754d4
   "metadata": {},
   "outputs": [
    {
     "data": {
      "text/plain": [
<<<<<<< HEAD
       "array([False,  True,  True, ..., False, False,  True])"
      ]
     },
     "execution_count": 203,
=======
       "array([False, False, False, ...,  True, False, False])"
      ]
     },
     "execution_count": 149,
>>>>>>> 465c7e6b7893226eeaa6ecd42108701a3bb754d4
     "metadata": {},
     "output_type": "execute_result"
    }
   ],
   "source": [
    "# Array indicando todos os elementos maiores ou iguais a 7\n",
    "y_train_large"
   ]
  },
  {
   "cell_type": "code",
<<<<<<< HEAD
   "execution_count": 205,
=======
   "execution_count": 150,
>>>>>>> 465c7e6b7893226eeaa6ecd42108701a3bb754d4
   "metadata": {},
   "outputs": [
    {
     "data": {
      "text/plain": [
       "(60000,)"
      ]
     },
<<<<<<< HEAD
     "execution_count": 205,
=======
     "execution_count": 150,
>>>>>>> 465c7e6b7893226eeaa6ecd42108701a3bb754d4
     "metadata": {},
     "output_type": "execute_result"
    }
   ],
   "source": [
    "# Mesmo shape conhecido\n",
    "y_train_large.shape"
   ]
  },
  {
   "cell_type": "code",
<<<<<<< HEAD
   "execution_count": 206,
=======
   "execution_count": 151,
>>>>>>> 465c7e6b7893226eeaa6ecd42108701a3bb754d4
   "metadata": {},
   "outputs": [
    {
     "data": {
      "text/plain": [
<<<<<<< HEAD
       "array([ True, False, False, ...,  True, False, False])"
      ]
     },
     "execution_count": 206,
=======
       "array([ True, False,  True, ...,  True, False, False])"
      ]
     },
     "execution_count": 151,
>>>>>>> 465c7e6b7893226eeaa6ecd42108701a3bb754d4
     "metadata": {},
     "output_type": "execute_result"
    }
   ],
   "source": [
    "# Array indicando todos os elementos ímpares\n",
    "y_train_odd"
   ]
  },
  {
   "cell_type": "code",
<<<<<<< HEAD
   "execution_count": 207,
=======
   "execution_count": 152,
>>>>>>> 465c7e6b7893226eeaa6ecd42108701a3bb754d4
   "metadata": {},
   "outputs": [
    {
     "data": {
      "text/plain": [
       "(60000,)"
      ]
     },
<<<<<<< HEAD
     "execution_count": 207,
=======
     "execution_count": 152,
>>>>>>> 465c7e6b7893226eeaa6ecd42108701a3bb754d4
     "metadata": {},
     "output_type": "execute_result"
    }
   ],
   "source": [
    "# Mesmo shape conhecido\n",
    "y_train_odd.shape"
   ]
  },
  {
   "cell_type": "code",
<<<<<<< HEAD
   "execution_count": 209,
=======
   "execution_count": 153,
>>>>>>> 465c7e6b7893226eeaa6ecd42108701a3bb754d4
   "metadata": {},
   "outputs": [
    {
     "data": {
      "text/plain": [
       "array([[False,  True],\n",
<<<<<<< HEAD
       "       [ True, False],\n",
       "       [ True, False],\n",
       "       ...,\n",
       "       [False,  True],\n",
       "       [False, False],\n",
       "       [ True, False]])"
      ]
     },
     "execution_count": 209,
=======
       "       [False, False],\n",
       "       [False,  True],\n",
       "       ...,\n",
       "       [ True,  True],\n",
       "       [False, False],\n",
       "       [False, False]])"
      ]
     },
     "execution_count": 153,
>>>>>>> 465c7e6b7893226eeaa6ecd42108701a3bb754d4
     "metadata": {},
     "output_type": "execute_result"
    }
   ],
   "source": [
    "# Resultado da junção\n",
    "y_multilabel"
   ]
  },
  {
   "cell_type": "code",
<<<<<<< HEAD
   "execution_count": 211,
=======
   "execution_count": 154,
>>>>>>> 465c7e6b7893226eeaa6ecd42108701a3bb754d4
   "metadata": {},
   "outputs": [
    {
     "data": {
      "text/plain": [
       "(60000, 2)"
      ]
     },
<<<<<<< HEAD
     "execution_count": 211,
=======
     "execution_count": 154,
>>>>>>> 465c7e6b7893226eeaa6ecd42108701a3bb754d4
     "metadata": {},
     "output_type": "execute_result"
    }
   ],
   "source": [
    "# Shape modificado (colunas)\n",
    "y_multilabel.shape"
   ]
  },
  {
   "cell_type": "code",
<<<<<<< HEAD
   "execution_count": 212,
=======
   "execution_count": 155,
>>>>>>> 465c7e6b7893226eeaa6ecd42108701a3bb754d4
   "metadata": {},
   "outputs": [
    {
     "data": {
      "text/plain": [
       "array([[False,  True]])"
      ]
     },
<<<<<<< HEAD
     "execution_count": 212,
=======
     "execution_count": 155,
>>>>>>> 465c7e6b7893226eeaa6ecd42108701a3bb754d4
     "metadata": {},
     "output_type": "execute_result"
    }
   ],
   "source": [
    "# Realizando predições\n",
    "knn_clf.predict([some_digit])"
   ]
  },
  {
   "cell_type": "markdown",
   "metadata": {},
   "source": [
    "Exatamente! O numeral 5 realmente é número \"not-large\" (<=7, primeiro False), porém ímpar (segundo True)."
   ]
  },
  {
   "cell_type": "markdown",
   "metadata": {},
   "source": [
    "## Avaliando Performance"
   ]
  },
  {
   "cell_type": "code",
   "execution_count": null,
   "metadata": {},
   "outputs": [],
   "source": [
    "# Medindo f1_score\n",
    "y_train_knn_pred = cross_val_predict(knn_clf, X_train, y_multilabel, cv=3)\n",
    "f1_score(y_multilabel, y_train_knn_pred, average='macro')"
   ]
  },
  {
   "cell_type": "markdown",
   "metadata": {},
   "source": [
    "O caso acima indica um score baseando-se na igualdade dos labels, o que pode não ser o caso. Por exemplo, podemos possuir muito mais números pares do que ímpares, ou muito mais números baixos do que altos. Neste caso, ```average='macro'``` não cabe muito bem. Para resolver, é possível colocar pesos nos labels, indicando o parâmetro ```average='weighted'```."
   ]
  },
  {
   "cell_type": "code",
   "execution_count": null,
   "metadata": {},
   "outputs": [],
   "source": [
    "# Modificando parâmetros\n",
    "f1_score(y_multilabel, y_train_knn_pred, average='weighted')"
   ]
  },
  {
   "cell_type": "markdown",
   "metadata": {},
   "source": [
    "# Multioutput Classification"
   ]
  },
  {
   "cell_type": "markdown",
   "metadata": {},
   "source": [
    "Exemplo: algoritmo que recebe uma imagem cheia de ruídos (sujeira) e limpe. O outpout do algorimo serão muitos labels (28x28 -> um label por pixel), ademais, cada label pode possuir diversos valores (pixels de 0 a 255 de intensidade), portanto trata-se de um exemplo de **Multioutput Classification**."
   ]
  },
  {
   "cell_type": "code",
<<<<<<< HEAD
   "execution_count": null,
=======
   "execution_count": 101,
>>>>>>> 465c7e6b7893226eeaa6ecd42108701a3bb754d4
   "metadata": {},
   "outputs": [],
   "source": [
    "# Aplicando exemplo\n",
    "noise = np.random.randint(0, 100, (len(X_train), 784))\n",
    "X_train_mod = X_train + noise\n",
    "\n",
    "noise = np.random.randint(0, 100, (len(X_test), 784))\n",
    "X_test_mod = X_test + noise\n",
    "\n",
    "y_train_mod = X_train\n",
    "y_test_mod = X_test"
   ]
  },
  {
   "cell_type": "code",
<<<<<<< HEAD
   "execution_count": null,
   "metadata": {},
   "outputs": [],
=======
   "execution_count": 102,
   "metadata": {},
   "outputs": [
    {
     "data": {
      "image/png": "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\n",
      "text/plain": [
       "<matplotlib.figure.Figure at 0x2570bfbbbe0>"
      ]
     },
     "metadata": {
      "needs_background": "light"
     },
     "output_type": "display_data"
    }
   ],
>>>>>>> 465c7e6b7893226eeaa6ecd42108701a3bb754d4
   "source": [
    "# Visualizando resultados\n",
    "def plot_digit(data):\n",
    "    image = data.reshape(28, 28)\n",
    "    plt.imshow(image, cmap = matplotlib.cm.binary,\n",
    "               interpolation=\"nearest\")\n",
    "    plt.axis(\"off\")\n",
    "\n",
    "some_index = 5500\n",
    "plt.subplot(121); plot_digit(X_test_mod[some_index])\n",
    "plt.subplot(122); plot_digit(y_test_mod[some_index])\n",
    "plt.show()"
   ]
  },
  {
   "cell_type": "code",
<<<<<<< HEAD
   "execution_count": null,
   "metadata": {},
   "outputs": [],
=======
   "execution_count": 103,
   "metadata": {},
   "outputs": [
    {
     "data": {
      "image/png": "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\n",
      "text/plain": [
       "<matplotlib.figure.Figure at 0x2570bfb21d0>"
      ]
     },
     "metadata": {
      "needs_background": "light"
     },
     "output_type": "display_data"
    }
   ],
>>>>>>> 465c7e6b7893226eeaa6ecd42108701a3bb754d4
   "source": [
    "# Treinando modelo pra receber imagem \"ruim\" e retornar a boa\n",
    "knn_clf\n",
    "knn_clf.fit(X_train_mod, y_train_mod)\n",
    "clean_digit = knn_clf.predict([X_test_mod[some_index]])\n",
    "plot_digit(clean_digit)"
   ]
  },
  {
   "cell_type": "markdown",
   "metadata": {},
   "source": [
    "Algoritmo aparentemente conseguiu cumprir com o esperado!"
   ]
  },
  {
   "cell_type": "code",
   "execution_count": null,
   "metadata": {},
   "outputs": [],
   "source": []
  }
 ],
 "metadata": {
  "kernelspec": {
   "display_name": "Python 3",
   "language": "python",
   "name": "python3"
  },
  "language_info": {
   "codemirror_mode": {
    "name": "ipython",
    "version": 3
   },
   "file_extension": ".py",
   "mimetype": "text/x-python",
   "name": "python",
   "nbconvert_exporter": "python",
   "pygments_lexer": "ipython3",
<<<<<<< HEAD
   "version": "3.6.4"
=======
   "version": "3.7.3"
>>>>>>> 465c7e6b7893226eeaa6ecd42108701a3bb754d4
  },
  "toc": {
   "base_numbering": 1,
   "nav_menu": {},
   "number_sections": true,
   "sideBar": true,
   "skip_h1_title": false,
   "title_cell": "Table of Contents",
   "title_sidebar": "Contents",
   "toc_cell": true,
<<<<<<< HEAD
   "toc_position": {},
=======
   "toc_position": {
    "height": "calc(100% - 180px)",
    "left": "10px",
    "top": "150px",
    "width": "252px"
   },
>>>>>>> 465c7e6b7893226eeaa6ecd42108701a3bb754d4
   "toc_section_display": true,
   "toc_window_display": true
  }
 },
 "nbformat": 4,
 "nbformat_minor": 2
}
