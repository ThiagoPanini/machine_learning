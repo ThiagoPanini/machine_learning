{
 "cells": [
  {
   "cell_type": "markdown",
   "metadata": {
    "toc": true
   },
   "source": [
    "<h1>Table of Contents<span class=\"tocSkip\"></span></h1>\n",
    "<div class=\"toc\"><ul class=\"toc-item\"><li><span><a href=\"#Lendo-os-Dados\" data-toc-modified-id=\"Lendo-os-Dados-1\"><span class=\"toc-item-num\">1&nbsp;&nbsp;</span>Lendo os Dados</a></span><ul class=\"toc-item\"><li><span><a href=\"#Baixando-os-Dados\" data-toc-modified-id=\"Baixando-os-Dados-1.1\"><span class=\"toc-item-num\">1.1&nbsp;&nbsp;</span>Baixando os Dados</a></span></li><li><span><a href=\"#Preparando-Leitura\" data-toc-modified-id=\"Preparando-Leitura-1.2\"><span class=\"toc-item-num\">1.2&nbsp;&nbsp;</span>Preparando Leitura</a></span></li><li><span><a href=\"#Extraindo-o-Conteúdo\" data-toc-modified-id=\"Extraindo-o-Conteúdo-1.3\"><span class=\"toc-item-num\">1.3&nbsp;&nbsp;</span>Extraindo o Conteúdo</a></span></li><li><span><a href=\"#Tipos-de-E-mails\" data-toc-modified-id=\"Tipos-de-E-mails-1.4\"><span class=\"toc-item-num\">1.4&nbsp;&nbsp;</span>Tipos de E-mails</a></span></li><li><span><a href=\"#Cabeçalho-dos-E-mails\" data-toc-modified-id=\"Cabeçalho-dos-E-mails-1.5\"><span class=\"toc-item-num\">1.5&nbsp;&nbsp;</span>Cabeçalho dos E-mails</a></span></li><li><span><a href=\"#Dados-de-Teste-e-Treino\" data-toc-modified-id=\"Dados-de-Teste-e-Treino-1.6\"><span class=\"toc-item-num\">1.6&nbsp;&nbsp;</span>Dados de Teste e Treino</a></span></li></ul></li><li><span><a href=\"#Preparando-os-Dados\" data-toc-modified-id=\"Preparando-os-Dados-2\"><span class=\"toc-item-num\">2&nbsp;&nbsp;</span>Preparando os Dados</a></span><ul class=\"toc-item\"><li><span><a href=\"#RegEx\" data-toc-modified-id=\"RegEx-2.1\"><span class=\"toc-item-num\">2.1&nbsp;&nbsp;</span>RegEx</a></span></li><li><span><a href=\"#E-mails-Spam-HTML\" data-toc-modified-id=\"E-mails-Spam-HTML-2.2\"><span class=\"toc-item-num\">2.2&nbsp;&nbsp;</span>E-mails Spam HTML</a></span></li><li><span><a href=\"#NLTK\" data-toc-modified-id=\"NLTK-2.3\"><span class=\"toc-item-num\">2.3&nbsp;&nbsp;</span>NLTK</a></span></li><li><span><a href=\"#URL-Extract\" data-toc-modified-id=\"URL-Extract-2.4\"><span class=\"toc-item-num\">2.4&nbsp;&nbsp;</span>URL Extract</a></span></li></ul></li><li><span><a href=\"#Juntando-Informações\" data-toc-modified-id=\"Juntando-Informações-3\"><span class=\"toc-item-num\">3&nbsp;&nbsp;</span>Juntando Informações</a></span></li><li><span><a href=\"#Treinando-Modelo\" data-toc-modified-id=\"Treinando-Modelo-4\"><span class=\"toc-item-num\">4&nbsp;&nbsp;</span>Treinando Modelo</a></span></li></ul></div>"
   ]
  },
  {
   "cell_type": "markdown",
   "metadata": {},
   "source": [
    "Este notebook tem por objetivo implementar um classificador de Spam de acordo com o exercício 4 proposto pelo livro ```Hands On Machine Learning``` de ```Aurélien Géron```. A implementação será dada com base na resolução deste exercício, proposta pelo autor. Os comentários e as interpretações serão adicionais a parte."
   ]
  },
  {
   "cell_type": "markdown",
   "metadata": {},
   "source": [
    "## Lendo os Dados"
   ]
  },
  {
   "cell_type": "markdown",
   "metadata": {},
   "source": [
    "### Baixando os Dados"
   ]
  },
  {
   "cell_type": "markdown",
   "metadata": {},
   "source": [
    "A função a seguir realizará o download dos dados para treinamento do classificador de spam. Tais dados estão divididos em dois grandes grupos:\n",
    "\n",
    "    - ham: e-mails IMPORTANTES não classificados como spam;\n",
    "    - spam: e-mails classificados como SPAM;\n",
    "    \n",
    "Ao chamar a função ```fetch_spam_data```, será criado uma pasta chamada ```datasets/spam``` dentro do diretório onde o jupyter notebook está sendo executado e, dentro desta pasta, mais duas pastas serão criadas, ```easy_ham``` e ```spam```, com os respectivos e-mails. Os arquivos de e-mail possuirão uma extensão característica, ainda desconhecida por mim, mas que será investigada posteriormente."
   ]
  },
  {
   "cell_type": "code",
   "execution_count": 1,
   "metadata": {
    "ExecuteTime": {
     "end_time": "2019-08-19T07:33:21.238419Z",
     "start_time": "2019-08-19T07:33:21.217654Z"
    }
   },
   "outputs": [],
   "source": [
    "# Importando bibliotecas e definindo função\n",
    "import os\n",
    "import tarfile\n",
    "from six.moves import urllib\n",
    "\n",
    "DOWNLOAD_ROOT = \"http://spamassassin.apache.org/old/publiccorpus/\"\n",
    "HAM_URL = DOWNLOAD_ROOT + \"20030228_easy_ham.tar.bz2\"\n",
    "SPAM_URL = DOWNLOAD_ROOT + \"20030228_spam.tar.bz2\"\n",
    "SPAM_PATH = os.path.join(\"datasets\", \"spam\")\n",
    "\n",
    "def fetch_spam_data(spam_url=SPAM_URL, spam_path=SPAM_PATH):\n",
    "    if not os.path.isdir(spam_path): # Verifica se não há pasta no diretório\n",
    "        os.makedirs(spam_path) # Cria pasta no diretório\n",
    "    for filename, url in ((\"ham.tar.bz2\", HAM_URL), (\"spam.tar.bz2\", SPAM_URL)):\n",
    "        step_name = filename.split('.')[0]\n",
    "        try:\n",
    "            path = os.path.join(spam_path, filename)\n",
    "            if not os.path.isfile(path):\n",
    "                urllib.request.urlretrieve(url, path)\n",
    "            tar_bz2_file = tarfile.open(path)\n",
    "            tar_bz2_file.extractall(path=SPAM_PATH)\n",
    "            tar_bz2_file.close()\n",
    "        except tarfile.ReadError:\n",
    "            print(f'Erro de leitura de arquivos {step_name}: não foi possível abrir o arquivo.')\n",
    "            continue\n",
    "        except tarfile.ExtractError:\n",
    "            print('Erro de extração de arquivos {step_name}: arquivo corrompido ou inexistente.')\n",
    "            continue\n",
    "        except FileNotFoundError:\n",
    "            print('Erro de extração de arquivos {step_name}: arquivo não encontrado.')\n",
    "            continue\n",
    "        except urllib.error.URLError:\n",
    "            print('Erro HTTP: URL não encontrada (Erro 404) para arquivos {step_name}.')\n",
    "            continue\n",
    "        except urllib.error.HTTPError:\n",
    "            print('Erro HTTP: erro no site para arquivos {step_name}.')\n",
    "            continue\n",
    "        print(f'\\nDownload e extração de dados de {step_name} realizado com sucesso.')"
   ]
  },
  {
   "cell_type": "code",
   "execution_count": 2,
   "metadata": {
    "ExecuteTime": {
     "end_time": "2019-08-19T07:33:24.288348Z",
     "start_time": "2019-08-19T07:33:23.277931Z"
    }
   },
   "outputs": [
    {
     "name": "stdout",
     "output_type": "stream",
     "text": [
      "\n",
      "Download e extração de dados de ham realizado com sucesso.\n",
      "\n",
      "Download e extração de dados de spam realizado com sucesso.\n"
     ]
    }
   ],
   "source": [
    "fetch_spam_data()"
   ]
  },
  {
   "cell_type": "markdown",
   "metadata": {},
   "source": [
    "Na função ```fetch_spam_data()``` definida acima, foram adicionados diversas exceções para auxiliar o usuário em caso de inconsistências encontradas. A função original, definida pelo autor, pode ser encontrada abaixo:"
   ]
  },
  {
   "cell_type": "code",
   "execution_count": 3,
   "metadata": {
    "ExecuteTime": {
     "end_time": "2019-01-28T14:12:29.623572Z",
     "start_time": "2019-01-28T14:12:29.596644Z"
    },
    "code_folding": []
   },
   "outputs": [],
   "source": [
    "# Função original definida pelo autor\n",
    "import os\n",
    "import tarfile\n",
    "from six.moves import urllib\n",
    "\n",
    "DOWNLOAD_ROOT = \"http://spamassassin.apache.org/old/publiccorpus/\"\n",
    "HAM_URL = DOWNLOAD_ROOT + \"20030228_easy_ham.tar.bz2\"\n",
    "SPAM_URL = DOWNLOAD_ROOT + \"20030228_spam.tar.bz2\"\n",
    "SPAM_PATH = os.path.join(\"datasets\", \"spam\")\n",
    "\n",
    "def fetch_spam_data_original(spam_url=SPAM_URL, spam_path=SPAM_PATH):\n",
    "    if not os.path.isdir(spam_path):\n",
    "        os.makedirs(spam_path)\n",
    "    for filename, url in ((\"ham.tar.bz2\", HAM_URL), (\"spam.tar.bz2\", SPAM_URL)):\n",
    "        path = os.path.join(spam_path, filename)\n",
    "        if not os.path.isfile(path):\n",
    "            urllib.request.urlretrieve(url, path)\n",
    "        tar_bz2_file = tarfile.open(path)\n",
    "        tar_bz2_file.extractall(path=SPAM_PATH)\n",
    "        tar_bz2_file.close()"
   ]
  },
  {
   "cell_type": "markdown",
   "metadata": {},
   "source": [
    "    Explicação:\n",
    "\n",
    "O primeiro passo é definir variáveis relacionadas à url de download dos dados, bem como do caminho específico onde os dados se encontram, sempre dividisos entre ```ham``` (e-mails não-spam) e ```spam``` (e-mails spam):\n",
    "\n",
    "* ```DOWNLOAD_ROOT```: armazena o link original do site;\n",
    "* ```HAM_URL``` e  ```SPAM_URL```: armazenam o link específico de cada um dos respectivos conjuntos de dados;\n",
    "* ```SPAM_PATH```: diretório, no sistema operacional, onde os dados serão armazenados.\n",
    "\n",
    "Após a definição das variáveis acima, a primeira linha de código definida pela função visa verificar se já existe um diretório estabelecido e definido pela variável SPAM_PATH. Caso não exista, são criadas as pastas 'datasets' e 'spam' no referido caminho.\n",
    "\n",
    "Logo após isso, o laço ```for```, resumidamente falando, realiza todos os procedimentos de download e armazenamento dos dados em duas etapas (1ª iteração: ```ham```, 2ª iteração: ```spam```).\n",
    "\n",
    "Abaixo, uma imagem que representa o front do link de download dos dados (*http://spamassassin.apache.org/old/publiccorpus/*)"
   ]
  },
  {
   "attachments": {
    "spam-01.png": {
     "image/png": "iVBORw0KGgoAAAANSUhEUgAAAnAAAAIoCAIAAABmrEFuAAAAAXNSR0IArs4c6QAAAARnQU1BAACxjwv8YQUAAAAJcEhZcwAAEnQAABJ0Ad5mH3gAAOwRSURBVHhe7P0PbBxVv9+PL1C4KI8KFKg0qrjtY8n9thEpxLqAbGiv8Epp44UIMFi3LEors6BH1l7rEu1jCXeVm2qZhotZ8uWmC1V8t0YK2lXlao1+hjVPra6BGtYqQev7U67WUo3WQYHuj1jas39sT5yN8e+cM2dmz5m/u/YmccLnpVHimTNz/s95z+f8W882AAAAAAC7BgQVAAAAANoACCoAAAAAtAEQVAAAAABoAyCoAAAAANAGQFABAAAAoA2AoAIAAABAGwBBBQAAAIA2AIIKAAAAAG0ABBUAAAAA2gAIKgAAAAC0ARBUAAAAAGgDIKgAAAAA0AZAUAEAAACgDYCgAgAAAEAbAEEFAAAAgDbgKKgXE/2e5ohk2SPXFNv49CcusltueZSL2cRYsL93v6QmXdrvHZQTC0Xm3DzLcR99Xl5gF3ZGNkKjYaTZErF5vIkapWTCNAv6k62n/ZpQTAzQmBuRm383iknrCm4uIzQf9R/A6Zf2vxzLIXYRAIAbSxMWal0pzIR72KstIB2N51YVdtv1QrmYDnezCGj8SgS1kD7mVXW063gGbSvZ4130DCP5kwV2V3Owtltqobm3Q1nNRvtoLBq0UiJ1lBv3s+8DHVdBXZBVPd1TRa+sZmRj5Wwxh2uF1JAxMwyCqpyThfexL95a2QMAcG1otss3N6a33TqB1Cpzvc7kThki82sQ1ELiaKOdDc+TS6JB01JxMHNKalPXQmHcS+Og02KJoHSQPajhFrFshObGQGKP2Kc6Jpu75U8WZTbEHtUwCKopiK7oInMCAOAG0qygWnVGtcG42RmmyNz6glqYoB20GmoLa8iHFjpvWee5FJ5rTwfDrkskK7MHNVwENavap76JPWeb7V5QsfHNHtUAQQWAmwIQ1JuCXPQgS6qK2sKiac6uk8KZpsURTQXoM6HmH3HmegvqYpT2UXjjy+zC3uE6CKqxy7c7mmMuAADcSEBQbwZWjLOxtBa2kB7xdWAxPeCPLTavjSg9RH0ZaZeeXm9BZX3+h/bi2OF1EFSMNimpo2cQJiUBwF4BBPVmoIkWtgW0AcvQbLv09DoLKrPXveN7cS7O9RFUAAD2ICCoNwNtbWG1juJgun2WzXUVVNbfu0cHDkFQAeBXCwjqzUA7W1glM0K9GGqjnl5XQWUzig/u0YFDEFQA+NXSXkE1NYsUdek92ZEgEvB2d9BrHT2Dcuq8W5OuFDMToQDbxEDa3xuIzhTwMy0132g5HR8JeMmAE6ajZyAYo54IOG9hQdZmWCRtR1sKoMJMPDTo7elU/cCJ6g+OJbIXLXtf7fYK0Gm9sVYy6pqMwJR95hfFvSM6e7yDofhMHtWZu5nmSwQtpqJD/Sz5nT39I/EsycXmBbUQP0Tcu8Y4PTUpkAopoHohjWudlhbpgDcQSdAQDdhktRYNq/qPsch/G0FF+SlZq8k2lVDHXlBtouGkuGgpHRvq1+q/p6PbGxiJZ6zrm0Yd5WdiwQGvVgM6eg4FQhOZovMQQWvVxrqt0BOCX9voYA9pLKT9gYk8CdnuJSVlhHITwf5D9H4MrldDsfSyRQa7lKNNENbZW8w0Gha6v0pqEYeoZCM98AH0q6XtFqpSnAyyN0qjfyKT0nYkEME1z/YdRbNh7RnJP54nL4dSTI/2dAzG0x8aImPTfNcLLFzJFz1HPEDn4+oOAlJvOGNYtbmaSwxbbF/RP5FHahzrKMM2UugJTmQLNXqxFZSlRKhXTVJPeIa2TnWUPeVTY+Q9lsgb/Wy/oCpz6v5CdotWUXasX22V6K4d5JKynAqqmxV09kfnrVWgKUGt5eODrMXzdIfTVNXQYtzf6Q3PpsLMQcNOUNkGT6b+3jrKGWuFp/9sll+820DyhqbN468KrnKGBc5CNCz2r2hOUFczYVbuAhaVUMXZQm1i5wcGysUGaIaz3NYrMKaDqZQJdC7WTz93ekbTRayFKBPWZ5h3BuJL1g/tqNoohbPGDT3UhBSSAa2iqOjFrRSnQ6YySmMNY38LdPSfzpmjq+DiEOfMC+VIX0l2WcOcvcoCm2jdE8mQLwbyCSKrbzIGBPVXyzXo8nW29gzYLPbQ6ytB2AhG2N9Aw7L5zspaK+bjZq80FnR2y1mjgFl43nU8q0eQdDZibW5hPm0DZTGqv2+CdYVNLq2ZlnrNUaK0rQ9QyYzSSFjvh1BINz4pBMVVZkNa3DsCkxZTgZoQVD5vhfWvQlnr2AgqKz7LDZ5MFU+SJE93MEHsBiqHR/jCtfyYczGUm+nONd0jSZ3eUDJHDTWlaNh0zKISuhe3684PBFz/2Z5NXY2UsuFnFck/aawFjbI4KOv1XthHRfKnTCW742pjLjKckELStG0Wrk+N3iBTGeFilnzyHP1CVQop4bPYegcxl3J0fd0uprQoigvPVhLq9Z2+nsBNz3USVOmIrPYymb9Jg9Omr9fVNG/kGntWmY3CY26+i6lG8y1aY8txfVMfybxupJbR2wCNHvZ1TJy6wvPGJ5qiluU+iiX5HLusUjjbyDDpaMpC6tomqGw/BMvOaj4aHmM0spwF2SOfM2aCq6DmTnHNnFEONZnnsRZUxw2eLCpef2KFORIMNUcKZYxidi0EtT8mWnVCVmC5izS+2Biuxe1eH7jPF36w2bAjlWEcWtMDTNcp7iF+ubPohNlNtTEXWTAi90j++HkkvjKOguoR30rjK+wzL1bepaBy28YZGwScVzhwENRfLddDUKWjCe4r0fg+SCeF9xMjbnNonsxpbn+NzTf3aWxarSi0KRamrfpKCBB7jrRQPea2rymUbIRPkSlQ4QW22r2oXYLK9r+1aGKMpWZULLHz2bR5rIugrqbUjSQY5vlQ5o8kJ8m02eDJVPHEngCMsQvdtNHStRBU0z3cJx3F1P2+a0EV6rCQ24YdQvhiQmmuJ1n4zBXsWrF7Y3fVxlxkuHD1oLlU8I2AqYwGU4bqxLal1JBGjd/NuxPUQuIFdp0gecMz/FcE6XCy/GAFfg1cD0EVq5dYHTGGl1D7FRENC81zs4fE19jYvSm8kOZeL/WVEJH8g36pW7YYkGkG40a1pnwzvMCmBsK9hW0O9qVitZe6YXtkU4tgkCLjV45ziRj2TbQSSxclU2EbPNntCeVS8QjGXaAd6wbhWgiqKRRjPHcrqKJqikkQvlb5rgJRNR085LsHdlltLARVKFwle9IrGYdC3auKwaQ2DxDsTlBz6mcph+Q9lipoc69wLTVXPOBXwvUXVKOVYHwfzhmqq0UoLoJqEDDnRtP0NmKUBVlsdzHcQFSLmEa8TCkyboRkWiHaHkF12A+BTZ3VMbcI2ePMScXQ7+dYIsXUUXZVxaq5aUZQUWqQOtlt8NSEoBYn/cyNYcjq6yOoplfguHjLLgXVYFAacrKWT1jtrmWQRkOIZD5dH3mI/Fpco598t9XGQlDdV3M1UVWMbYhRyHcnqNpGYwbsp+wBvx72gKCKrYkpIItQXATV9D44YZRbFaH7S8VKBpoid9LglSlFxhwzDrK2R1BZO2u1/20xZdAZi5bR0AaJo2WOJWJsAa1ysolW0nWDpyYE1ZSThqb2BgmqoRK6FrfjDcaPBnNOWmD86Gmqgu262piLrIndr5qoKiZvDRM1dieo+lR5M5KX/K4i8OtlDwiq2JqYfgjMIhRnQTVahNaS6YZ5VM9iDktTGN9e8w60phxrqQFtEmaCWO6HYIqAWbSMqRBz1alEtJWvOjsTVK0fz36DJ5eKR3HJyVtBUI1vUFP1393WtGDX1aapIjOyE0E1eOtSRu6vG1lsytxMSEeinBEP/LrYc4LaTJvlLKhGV0m2kBB3DDOJCD2GDqvmcGlTMLZ732u43uCOth+CZRJMRWb239B3Z0iFU4k01Wi6tpJNbPDUTEB7U1ANdtvuBNUUgbA5kiZMCTf0Qluy62rTXN0wsBcEFYMyxy3X1hOktm5DBtxE7DlBNQVkYZE4C6rpfdjpj3wtxYxfoVIwbZiQ2QTGLl+zoBojbOrybaLlcoHNLDXNClEx9d2Z/HfRAMcSMbaAVqLu1ko2s8FTM62zS924MYJqnOju2qA73mAqC6mJ2mIqX8uVvgZ2XW2um6AaTOd2CCqhOKNvPmPA5kUDbnX2nKCapvCIYklxEVTjsoSd/Qw16dUhOwOIWKwadMM459Dc5Wt8gf1iq9MGQWXzbG33vzWspjD33blogGOJGLsTLVpAt1bSbYMnyk4EdU9MSjLm9u4EdXveuOuUed2IGaMpabc2SWC31eZ6CWp7JyWJrGaj6nZUInvzp5CAa82eE1Tz4+F55qLjIqj4lTPooN3w50oibKO1yny4S/Knlsz7PFgt4nTGsArTnG+GF9hswprypEVBZQuBrPdDoIhrf83tmqHUjEaPc4kY1gV6XuDXJas4t5LOGzxpNNE6u42vm1ZEGATVqDo7E1QxFPMqoF0KqnGZFsa90ho/+zBWy6sM7LLaNFNkJpoQVMMntcnadpknaPoiEaNdTBw1FJmSTwaNvVn27xpwC7P3BFVfHaFhWp5vnrhktGIN7zlG3FyCQvYmtBFasrUYW2BuTrj1ZkZOGHaiELcrw0EI0zIbC9sb7FJQ2eOOXX/iJCzT97WoAd1GS9flE8ewkMNsaJomLontkdMGTw2aaJ2FbX0sui5MlZMbSrTaInFHgiomlt8Xk7FLQTXWN4rVHodoVpZntMpmXP9NsNrJBGUicsOs3121uVaCKiqi2UA3VVdumLmxZWMDo6AOWMRTWWL7hKtYLXAHbn32oKCaloEa7EtugzQNo6Bym202kI7I6SW1JVDQYiLU22FT6Q2bIuWixhdMMs9mdEHYTNE4pssvAbQQfszuBJWVnd1+CBrClniGtZ6C0WOxC66LoJoKXVQRqzmTfCvpsMETj7ninTXkpTazScWq38JoTEt+dfNCtNDYipmjGUE1fj9pyaFY7hayW0G1qf+9ocQi+6EHZTWXOOaVRJXFH3bmh7zHErlV9hB9a4z7he2m2rRHUE3zp8QPbqtqwxcBQfKrVcW44TPD+L2Ca5FWMXi4yuM4NgHcujQrqGabz7bSuLwkpp2SLPrxjC0skRnyMirFOdnX6ZePG0Lw9H+YY02FhuUW2zw2+wiqm6AKSRM2MlRpfQkNb9+IcsJtzGS5VTrGNCrciqIzi7+JgTRuA1gxgVwOWO82brD8TIJq/gzqkefoxw39kZ+eiGzscDwYSq+w+LK659oDaap4UmdAaPWEvnebXzpajJq0Xaejg/3onk4zgmr4/MLNsZYRnYGUqVEmuHQ5NnGDWN+ssZAEp9UgKlYffDuvNuaKvZN1qJJXLEp+ZNcmXIuv5AYdncYxUUP2siLGb6vYl6R/Gfec3OGmasDNThOCWlcKhp/I0KA/1WSoORY/3+YZiOs/TIYWY0YxPBjOGD3B2MxKp22QlblMMNT7wnTIZg6e5fpr/AGeCrPv066w2txTlHMxw2uPkY5Esy1+hCo47axF1n6+jf4gnXqpYzBOf6POhIIypmZOGko1+/txmoo0p8GFtPZDe/rvcJFfWGOXDNuWMrC5EzP0OuCG7GxeEX8IU1mKB4yChJG8J/GXjamVVCEfWw4bPIlYfMnls2PBqPo7JHW+3bf8+TaGzadYT3C6YBLLrvCssczYPTSvkJpkyR9Xf/GmjnIT7IfJOgZs6k+tkB4xfryS3wjTS8/1Bg39h9jM2P5y3DbKnWY/xGbCYdeCnVQbyx9KIzJv/QtxOhZdvoXJkPZ7Poj7JrD++TaGRUcXoWc4XZg3htCFE85V5kY1kHzhKfYpr6eX+EBvA36FOAqqqYWyhXXQ2TSLFKx2pvaogWVXDzov/Bh1IJJSJaeY9O/v9XoHguGxaHwqk5nLFRAyNygEVEhPhAKuvzxsnVJsf5g6qEWa6KESIb+byP/AOPvBZ60v2oBTflJMhqAJbbKJqePRHvJT8GPcL0VL+3FWR5NZy9+XdihTjNFyqou/GH8kGJtTMzArd/Z4D+GsiEZPJ9JzmexSkZWowwZPBmy6RnAtkgfZb2VLB3zBMVaLHEDzseARlnxSQNpvklsnVuxiyUboT9vqQeAkn25kpnTAS2qgdXHbfimq4OS43sA80qkXs0lZrP/RxILpNgPFbCIS8Hazhzq66W/guz3UUrVxqdsWvVY6FoJKLhczMb6tGIln3CK8vZqNDflYdMnPocssZ0w96pTGu5Y71ROaQcTSWEjExN8Yd89b4Jam2S5fANjr2AgqcGthI6gAsAcAQQVuFUBQfxWAoAJ7FxBU4FYBBPVXAQgqsHcBQQVuFUBQfxWAoAJ7FxBU4FYBBPVXAQgqsHcBQQVuFUBQfxWAoAJ7FxBU4FYBBPVXAQgqsHcBQQVuCRSU+9Cgpx7PQEzdZAC4RagrhemQcVeLg6H0xaYXWQPAtQQEFbj5sV6Jr+O+/QVwE2DqgTBg3n8RAK4zIKgAAAAA0AZAUAEAAACgDYCgAgAAAEAbAEEFAAAAgDYAggoAAAAAbQAEFQAAAADaAAgqAAAAALQBEFQAAAAAaAMgqAAAAADQBkBQAQAAAKANgKACAAAAQBsAQQUAAACANgCCCgAAAABtAAQVAAAAANoACCoAAAAAtAEQVAAAAABoAyCoAAAAANAGQFABAAAAoA2AoAIAAABAGwBBBQAAAIA2AIIKAAAAAG0ABBUAAAAA2gAIKgAAAAC0ARBUAAAAAGgDIKgAAAAA0AZAUAEAAACgDYCgAgAAAEAbAEEFAAAAgDYAggoAAAAAbQAEFQAAAADaAAgqAAAAALQBEFQAAAAAaAMgqAAAAADQBkBQAQAAAKANgKACAAAAQBsAQQUAAACANgCCCgAAAABtAAQVAAAAANoACOrNgpIYKHk8jUNeYA6EhQrnVMmyq8BNTzGJuJJlh1D0NznZiGW61mVyBSUusnMK/wpgJ8t7XFGfUo92vyn8azhQLZLiq3DR21mEm+NitV8P2nhcmxCbg1XgyDo73xksdTdBywaCenNhaFPYVRXcNt1KTS2go6tOf1Jhl9qMkogQAbgh6B8NjdqrKROXXiaE+B52v5c91Xqe6C9RWxtoNc66cjAN4F5Si0S1m4aia0kzX7mu7DSrFyp8U2ZRQ/YqIKg3FwY7Vaim4ucwcOtwrQWVNFjUorohWDWXqnxy1VsTBl1Q+5MV4z3Nci0E1RRhAr7If/Va3tNWLOVTv3gjilgrrJbqLckoQTvVr5MbV0WbBwT15gK3BZUs373DVTIQ1FuVayqoTM/2lqCa4AR111wDQTXbo5Tr/Upa26ONr/BraBy3DfWzoy0FfQMAQb25oIKK/2+8OY1eJvPbqzdV5OBaTG7gCvvGajA+1Pet4Woc+bi53sxbhxYElf/YMrTvuhMuVtal1ihQdphllfMQh87VKFoPG65GLRGqqNlbrulPGASVe1C9wlVXemDfTPdoNCqzoUXmanX1mlmo5DCEyzBG2JTz6sFlVCOrzblnB5erfNIaaRe8snudtbTgmy9WZUsncrAguCpB6wCLA/6bSyMNl2+O5GSjXjVyjMsl3cnoP0PIQC7PuRgOVLONZ9tY1k6AoN5c4GpkrsfsfRAFlVY49f3hW1IGXx2Jh3ybRWqnVrNNNbXxzoCmXjeaFFRaJdRGRy9fvR2hxafWB1p8tGSVIpvaozlZwjVzJAK8ZpOntLB4H9RHhOrHtYbMQ/VKowXUK5tetxvVT4uD0z0sIJJk1VV3YhnIJZ8e7Wxk+feRHKb8FCNMMo1Fz+qjRI0wLW6u4FyxSRoXN7E+WLzOamnS22jEGlWOK0fmoRYrrX6iRLKif6/Q1BlrVyMm6hUt7WpWFC82vtj0ssM0/Gf5w6qceg9zbTRujRolVFejeXBNAEG9ucA1qfGqaPWMHLhuCYIq1FRjtdZrpP6CGeux9mbqrxMLS3gNhJcWuHboBd1o3SzQypQ2HMY2iGsNCY1JH+a6YcJYGQyPGOuSfoN2vxCxxqkWorkNtWhVtTjY3yOGot4vVFdTfNpegbVI6gdfXmKEG7PAGm+x3uIzf9TCYrFtZIUDjQiISWtcZxXA/nVmZceC4yxU9ogaSfURrQQNSaApVQMy1i7bUrOvDBhDZdbu0dIoZBfGEKgxDtcUENSbC1z/+FdFbxrI0T/AW6j8i2GuUsY2xViPtTfQ2AYJdVSvwcC1RW+w+AbaDN/kGdqgRh3QbtBoorkxVgbDI8a6ZLpfj4zQZOvRMLehFq2qyU/TPaK3vEhoz2p3miLcVvSIqYd9hCma2POR0e5kZafmnnPRM7SUGpLGRUm97vA665ljqBLGUuPR66eQNIKhqlhkglg3rHNJrMym4jN+MBkCNcbhmgKCenOBK5PwqjSqCzksFI57l/gqZayUxnps14aKh+n9Aa4JeoNl1aquy4Y2rtFG44OvEnwh6rWoiebGrjKwR0wNnFHAxAZRj157BVVItX6QEE2+mSK8e4xjjY1A9Yy1SFQjJkLJ6sUtHFZKZsRVUFlknF/nRqwa9cdUajyi4PEYa5c5EwzPWuWS4R4tenqNNcbNEGgTNbx9gKDeXODKZGoFGk2JWKHVt4tUI3OVMrYpxnrs0oYC1xW9hbUQ1IUKd1EtJlIN7No43asWmhuXymCsS/r9pgaa3nCtBdXU4pt8M0V49+DQTRmohWvzimG0RBky367s3NE9FJKmp7eF11mPrbHUrB6xj7AxIHMmaM/a55LRfy05ekxc6mcTNbx9gKDeXODKZNUKsOrOVWihUTNXKWObYqzHpvbL4p1ZqLb8wgM7Qsv8RnFokHI0tiNUUYzlhWuIrjSscNWib6K5cWmwjHVJv0G7X7uBRUA71UI0t6EWraqpQpruMUcD31Mlf2tiYIwPd+duoUHocWOocbb9btCykU+COrBqSiy+OWHw3BLtQSFpVlpo/zqvy/ptQquiZxr3iIaFbwxj7bItNfvKgDH4r92jpZGlWg/dEKgxDtcUENSbC1z/bFoBUqsaFVqvl/idLCYr/WKtNb8exnqsv5l6K2x8LU09jcA1QxdU0fxihciKjC+gi1V5QC1QoZVhDbRauAZ5I82TkkhalamxMhhaKGNdwrDqpN4gtMsUoQXUfKOHmha+9pJzjBYH/YrDPSye5gk1anz028jRJk3VM79RQGq6Gv4bIqyf6o+QSNpkaTbSXDwbSdPu1yNmSKnt60yD1jKQ3MNu4DxvRJL56S6oWuiNVKueaNFoyCdf0Nonu17/tduYt+opczXmPJc04fTaAoJ606DXKrvKIS6b0auyWjWFl0HwilsIqB5yhG9xuAar8XLio7k3HNgdjQbI/tAbo0axklLWK4CmW5F1Y3Om0ihWc4NoKHRcGap6vSLHQEVmTb96cLXCUbe4dLHqZ6GL9MCpE6srjbzpHgZ/XXhHdInCLa+6rsMqsTtGE2+hvPgIGCL8/xFytXE0VIGLMJ9AO8RiEg+blFq/ztRKbsRWLDjhEeatoYpyURWSoOaGfrP1OlRKo7hpboj+62kRPG9UHq7dI8cAErJFqBLXBBBUAAAA4HrQEFTXT4SbExDUm4a/9/e4T629ceAoscgB14aXXloz5Dkc7T3+7b9dY3m9UxYW6gY/r9Fx7txVFqSJ//f/vWy4ea8dajwNgqq7XrcDZxSNyLUCBPWmAQT1VwgI6rU+QFCvz6HGEwQVAAAAAHaLOBrKDxjfOoCgAgAAAEAbAEEFAAAAgDYAggoAAAAAbQAEFQAAAADaAAgqAAAAALQBEFQAAAAAaAMgqAAAAADQBkBQAQAAAKANgKACAAAAQBsAQQUAAACANgCCCgAAAABtAAQVAAAAANoACCoAAAAAtAEQVAAAAABoAyCoAAAAANAGQFABAAAAoA2AoAIAAABAGwBBBQAAAIA20JSgjgMAAADATc7XX3/NVO3a0JSg4kiUAAAAAOAmh6natQG6fAEAAACgDYCgAgAAAEAbAEEFAAAAgDYAggoAAAAAbQAEFQAAAADaAAgqAAAAALQBEFQAAAAAaAMgqAAAAADQBkBQAQAAAKANgKACAAAAQBsAQQUAAACANgCCCgAAAABtAAQVAAAAANoACCoAAAAAtAEQVAAAAABoAyCoAAAAANAGdiuoa2tr8Xi8UCik0+k///M/D4fD5XKZuQEAAADAr4bdCmq1Wj116tR777336quv/smf/Mm/+lf/6q/+6q9OUz799FN2EwAAAADc6uxWUGu12n/+z//5L//yL//sz/4MCyrPK6+88jnl559/ZncDAAAAwC3KbgW1XC4fP378f/7P/4kNUyakJiYnJ0ulEnsAAAAAAG5Fdiuo6+vrZ8+efemllx5//HGmnyaeeOKJv/mbv2EPAAAAAMCtyG4FtVKpnDhx4vPPP5dlmemnFYcPH37vvffYM78GVmvBzpL3ww12CgAAANzqtGEM9a//+q/feuutV155hYmnDc888wy+jT2ms1DxeEqGY38vCp5eK9bZLXsCq3jiA0e1f6iSWLjMbtMBQQUAAPiVsVtBrVar77///l/91V/9u3/375hyWoFdh4aG/viP/5g9JrCZOU7Eqf+sQs7ql3MT5Q4sV92VbI26X0fQVC3L/jSjxTNJ44mpXyksVOUBcrFjoJK7XrF1jCQAAABwY2iDhfpf/st/+f7778+cOcPEk6O7u/vf//t//9prr/3n//yf3377bY/HOrhiEglCtX0lM0JUquvUdbbwNuJ9FQetMsVTZTMbIdelo9UCu3JNcYkkAAAAcEPYraDqfPTRR3/6p3/6r/7Vv3rssceeeuop/Pe//Jf/8tlnn/3hhx+wFTs6OorVtGlBZVc8wzWDdl1LrlBd3IGgYjai3eQLIDx3rfup3SMJAAAA3BDaJqhYNX/66afz588fOnTok08+wX9/++23/+k//aeXXnrpkUceue+++1oR1K3cGG+hXskny74D5IpHKvlGaswQrF/Oz1Xll0tSZF1ZrPR3ljoGmY2oLNXIdXx/JwqMrSFybUu5uJ46XfZ1YjW6WpjCfxDfApNqoEp6mEo4O1DiIr0sYi+o2hfAUI2EhSM2Uw29XPKrd7YWT43iWnQQka5vkuRqnvQn20SyfjlD0kUudnQjeWqDxc8i3PL7tINaPeQF9b51Wb0yUC2qFwAAAIDW2aGgYqX8b//tv7ETjkqlcvLkyZGRkVdfffXf/Jt/8y/+xb944IEH7rzzTlVNMew+ESZUE6oQ1Isz5R7cvksoRQUDTZclD4qvXMWiiOYr2EmVNAVdRosVH75zsBwdq8ax2EjljLKtLFS8R6u5VXz/VdWrnpPryvZVfH9qGCtHOXq2klhQEFLSpGMZxZdJKBgajZ1ZqNvb5ypEF6VKTo3YuYp3h/EkEKdOFF+kc52WyLOSKtUWkVQSR0s9ozUyh6t+OTeOcDR6sILahfv/24gfJamOnd9iHmBWqv03YsQaAADgVqJlQcWWaDQa/X/+n//nP/7H/8gubW8vLy9/+umnf/3Xf/0f/sN/6O/v379//9//+3+fSagIe0BEFSrpAOqhZhaxyYYqmSJWGkLhLJK6K3n1RDWnIuvsTD0VeoaVeF9DI7e3L6eIfpTTVI5oQOW0rhxUBTVDbXeCerHaj2OiP45qQeHOluK5Eesu+djnBWYj1luSXmBGrSGS5JTKs4Y6/Iz1Uj01h4tLq4pVlvN/G02VA1OmicoAAABAK7QmqMVi8b/+1/96//33Y2n8sz/7symNv/zLv/zX//pfS5KkqqYDzCMRJ6HSIf2olWAfVVyDoDZOsV9VPxE24yGfo44GyaQq2B5B5SxUComYUVCbjOdyFVu3eqwMiJFUEgOmrtr5MvbHO672lpvCJdSzERzVcoZ9WGxEe3lJBgAAAHZCC4KKEPqbv/kbJoytc/vtt//RH/0R80vETVDpkOcBFDhdy6+uiQphEgyikdYjoJhrJ6iqk2dEtwXdBNUhnnTNa3OCSr01CKpqK7OwLAWV3dNDh6iVuXI/U18AAPYkFxP9rB2lDCRgusPepAVBPXny5L59+1iJts6999578OBB5peIg1CRCUqnkXSwnEHqmJ9BISyFqhScucJOVZZrKdoFapTMtgkqm+UrL+izfEnE3ATVJp7UQu0aE1VwsZam75AYyY34IRyuaF9Sn/2TaheujaDiXD2F/cGKrsT7yqlVdhUAgL2IUszNZTL6ca5o2VYCN5xmBfXNN9/8J//knzBt3BH/7J/9M37YlcdRUDeiB0ue42vszFVQ1fu7yykyiUllMx1hPbHXRlDZOlR1KpDGWthZUJ3iuU6cJJTQnWobsTHrSUmFCRJ0cLoxAqrMlrHEahppJ6h0LyepJHWjntE1eDkBAAB2T1OCOjw83NHRwYRxR/zxH//x0NDQ3/3d3zEfBdgORF3HxXUjDDpMKJEpr2hlPTGGsPXmGa4V5mtkVuoKUUTPQLXArf9UFshMYOyhb6gSHasEepG8oBqC+oQdVai20ExZwrdpGwSqehmevVyYqaQa04V0nHZK8h7TFvOonCezfKURpoItxnMbR0xdMOMfqUSPk+7u+DKblGuMpLIuY+OY5g9xXl3Dp2y5DsYqXI2twjjxKrrITfcFAAAAdkpTgvraa6/943/8j5k2tsLtt99+//33Hzx48C/+4i/m5uaYdzymPXItxg5XqgG6CNUXqRXrl9PDZNVmbPGKKi3awY9HbqHz1dARsr5TOoCi86r1RoVZux+LIpmYoz+u2nC1dbmXeB6aNtls9nv5Bkaq6eVNdhtFiNhA9f/bWjxVyAKhAO1G7ugrJ5a4nmFzJGsbqQjaL5Gb9x8px+aYP/b5o4HldlCTfAAAAGB3NNvle+zYsX/0j/4R00k3/uiP/ugf/sN/+E//6T/t7u7+t//2337wwQf5vLbsBdgzFCbQtd/aCQAA4NdCC5OSIpHIHXfcwTRT5LbbbsPG6N/7e3/vTso//+f/fGho6H/8j//BnrTn6aernBUFx7U9WKYz1qN9bGhZdb37bjBWAQAAdk4Lgnrp0qVYLMYkVOQf/+N/PDAwcObMmb+j/J//839++umnWs196x0Q1Ot5kBxfrHjpvhmhgcaQreoKggoAALAbWhBUzI8//vjBBx/8g3/wD7CIvvjiiwmN6enp//2///f//b//l90H7Fku1gKd5iFbAAAAYLe0JqiYSqUiy3JnZ6fdGhgAAAAA+BXSsqCq/OVf/uXHH3/MTgAAAADgV88OBRUAAAAAAB4QVAAAAABoAyCoAAAAANAGQFABAAAAoA2AoAIAAABAGwBBBQAAAIA20JSg/kmL/K//9b/YkwAAAADw66BZQR0fH8+6ge/xer2ff/7522+/nU6n2cMAAAAA8CugWUFtxujE9xw+fPjSpUuZTObMmTOffvopcwAAAACAW52WBbVer6+srCwvL3/55ZdsJ1+Nt956SxVUfBvW1Pfee++LL764fBn2jAUAAABufVoT1CtXrly8ePHdd989ceLE008/rf7UjM69996rCyrmu+++CwQCi4uL6+v057sBAAAA4NalNUH94YcfotHo/ffff8cdd9x2221MSDUMgvrLL78Ui8Vnnnlmfn5evQIAAAAAtyqtCeqFCxfeeeed++67j0moCFbZBx544KWXXsLGK1bW559//rHHHsPP4n/PnDmjegXcHKxupE+XfZ0ocZFduMmoX87PVIJ9JXmBXQAAALjWtCaoX3/99RNPPHHXXXepCvrQQw+99tprH3zwwRtvvPHoo4/iK7fffju2X/EN+/btu+eee/RTl996Q+vxIdThKXnIb19Xc2iLXWdsoflKoJv8CPb+lyvZ1VZcXXzG1IsL1VBf2Uo5nMPF7ObZvczl4srl1DCO/M0qqGhlI58s48zfkaBuoXNVLMb4cekACk6sX9MfXkfn4sG+DvzuSAd8wYmcKSyUHQv0dGLn/f6xbIuuOrlot6c/WWRn9ihLidCR/ZLH09EXSiwp7KoBpZiZCAV6yW0ufqJcfMhH07bfNxQ3pq1ezKiRx84vyym74DTQfDTQjT3DN0ezq+wio5ZPjGgBjaQKdXbZjsKM7D+Ao+/p6A7IMwV21YhSnIuHBr0knQMJp3QqxexEyDfoeI8IWkxFh/pp2uUsPl3KpCeCPfjM0xVdZPeYyY11kVso8KW4N2lNUKenp1l5Up566qlvv/12c3Mzn8+/+uqr7Cqlo6OjV+PBBx90ElRlXe5FgdO1zFwtEaHi113J1pgjBs2UOyQUP7+5vX21cBZJEkqsNPTJydXN5220kZldix21Vg7ncHf17M1AMYlukKCup6Zd2tamuFjt35GgKucq3t5ybGotM1OVB4is9kTW2xEhC5Rzsrc3EJvKZGYS8gBRhJ5IlgsLpYc7pKPxPJaieiFxVJKOJrjm39lVR8lGSFvtLqiLMa/UE54ht6F5ucfTIy8Y043Oxfo7PVJvKL5QQPyrZEbJyb3ewOlUZi6diPSTtHXL3NtHItwzmi5i8auj7CmfJHlj9lqCZoIdkj9+nmhy4axfkvyJFdUFU0i87peT6cxcKjZIUtol5KGR4qR//4CcmMlkpmKBXqyWkj9pyjaUi+HikLyhiWwBORU+Op/JzMb8rqKrUy+kjnklT0f/WDpf5L0uJF7Acfd4BlPWH0ar6SD5BvBII2nrG4A9QGuC+s033/wpx5tvvqneUCqVQqEQrQ6MZ5999ozGI4884iCoxWQ5tnSVnWxvFZJI8pS84xvsQq0WkkreD7XTbSXeV5KGaqxKObq6+KyhzGJTxqQczuFq7ObZPc6NElScpf6kUxPWLDsUVCUxWsk3TBwlQb+Z4svsvK0UE6MxLiyiMR6PVw9LmQ1JHm9siZ1uL8d9Hik4zeqRs6tOcTIQSCbC7oJaiPd5PMNpLeuVzKjk6Y7m2CmhMI2tKMl3ymxGW1BMhhtxw88mieh4x5l0oamAxxPKNMqZht4Xt7YWaxmS1A/z7JTeLA0xXUGzqUwjQig1iJsfYvbZkJVHOUGqZeVufD8fk+3tlXSw2yMdiTaVToKSGWlOUGu56BGcq8FU42tAp5gYCIZGcCb1WBqphYn+0EgQx7WZngbgRtGaoBrY2trC5mm1Wp2amjp8+DARUo3nnnvuo48+mpiYGB8fdxTUzfTkmtB8KrUQNiUjbGIwbdZLfA3DBp/ewDm6uvjcYKFiVg7ncBvs5tm9zY0R1JWqXyr130BBRbXUnNBjSL+Zrs1YLEqn5sQaOku+SrWwcAvr8RzkJY0aMUx1nF01VhKBUSwWWdm1IV6QcVsu6PE8VmEprMdwMYqtP9GAdgClJwWRwqJD0hZRla6YOmpUoMLZfrsOz2LS6ERv9lm+UNmIvTBjFlMp8anCuBfnDVfPSfe4aEy7QwJ1F1SUHpKwPczZ1jy4QOUszWRpRMw6jJIJ44+beVyMIKh7ml0J6o8//qgaoJIk7du3jwipxujoKBban3/++ezZs84Wqol12aM3qZvpIWIfpPgqNE8auOD0ppurGd5nDgtRbNrn3TxrR20jFUH7JexJqWeQH3+9kk+WfQfIdTIkPFJrtBqra9GXS9j+lg6gwFA5RlpkklhyJzm0GFKNIVfMXxUmNEG9Wpgq+zpJiIFJLutwiIO0F91T6uhGscUr9OqWos5mOoAfJKPIfhrb/tO0y1SLZEdfOW3VAa4sVnw01exQI2kX0MX1lDptakVJHyOd6vKC6qTBBLURDd9INa+1ktkIF5B2SMNWvQhW30zXigUifCwslCb2yFGhHmWP40tBYmE5u6ooORm30STJ7oKaO9WFW3L5HDslrCSIjp1SJZvqtxRMGwYvW4CPg/lrQE27xz9pjiTWIeIivlBY7EX5Z2Dj1dBTTTrGsUDmTO+9ClFrqWHRUvG2MPSdaUZQlQUZZ3EPy08zVFCZhW38VsAGfWAKqVkEgrqX2bmgfv/99++///7DDz9855134mLm6evr++yzz/A96+vrH3/8cWuCulz1SmXtvVUSL+CWriJ04JAGTu25dXY1IfjMYdFiNu3zbp61pEbGfeOLdDeMYi3cTcZ91bYATZclbOauXMVygkWip/FxQLqUQ9P0EWUjNaSZU+rjnrIw5DJflo5Wbb/fOVRBDZ+qJhYUVNxIjWCv9JRuRLtLXcfXiMd12ikqqem9qqDLaXqnPF6Jz2wUkZIeJfZ6aLwqn6rlVjYLCxVsg3psO8ANHz12AV1BRRZQcLQSTxIl9k2ITSYV1GCkEoxU03O12Oukw59kJnXMTvD9uleyEWQcX9cojKPr1l2PrSW9J1PVM82kY5CGW+0TdnYlKNmTIc0YchdUKsa8oYYzkAahWkuLUaK3w/H06aCPTOch04jS1paWDctxb0OPaR+pKBvFST+JgUUk1cFFsReXSovegayCltLykS7/WUPtVu1C7jtDgMSEE7lc9CDR0/h0LEgnZ0kH/Pazlho0IajqZ4E3OpmSB3vIiHKnYQ6aKqhMdyXSr6CTi/bJpGcABHXPs3NBTSaTjz/+OC5gnrvvvvvQoUPY6aeffsL3tC6oW7kxxA2hqWaWhThR88XZ1YDBZw4LUWza5908a0VhAvG6W5wkaqSatmRyU3dFG0eioTAP8d8otqTZfKu1lNY/qcxiDS6FG32YJBOii01Nj2IWqt5o0iQwqVbWwp2l4AwzuA2dw8YHi1U/1siG2m1ljxNdtPlQJ+lqCGoTATUSbkAV1BndbL2K046TEJoVenRxfMjguu2ssfVo93WbUJaLdnP9gbT1tJJM2ifs7IprSzLAmVmugkpNRktBpTpB7TaPbySVWyVFoywnyIio5E8JNd+J3FiPMPdH7ds8wubrKivZ+BCZwqp1d/OQyFsKKp98Ne2Ujv7TBnNUUazee8JqKsD37qpJ7gulFul0IUUd1Zas7GaBJgSVpuKgPzpXUHAFrKMMnSnWc1KPKhNUXHRkONkTSGmf/spsqH+CZh0I6p5n54KKNRKXro4kSU8++eQrr7zyySef6Hs7tCyoy9V+wX7aiB+yFieqOs6uIkafOSxEsWmfd/OsBZdTZAqM8ZBOckqsrbAkTkxQ61gqpE4UndkwfYUriYGSp09L+Got+EJT5inGoF7bK+YhSdLvmmC90yZBbeSJqJGk9cH3i/nTwHgzpcmARMxjqDQJQmbiDDpHbP2gat8b2cLmaXtmSDVBYbxfkBxs0uH3ys4GdXZdSYRO8oOdroKqmoy2Fir1WegQVmZIl7PWIezGcrzfNANZXy9E1q5MpaKH8J+WdmQhTpzcLdTtulKYiwXIJCNu6NcJnGqv0D9MvZVOcomq0a51Q++0CXdBVTNT6KLPx4Qk64K6rcyFsYx3jalhFuIvhDKq5IOg7nnaJqgvvvjiV199xdw0WhPU2rp8rDHKRVHHI8t894c6SYQbQ7Vz5bDwmcNCFJv2eTfPWkD0zyQnOnQ48wBZCJRfXeMsVMxVuiK25OlEoaQgq8pCpUsTDGz+hmbFgUZ7jHJl0Ce0Hnu5tH+gklhQ1ClX+p1tFtQWAhIxCyr1XOgnwBWj23ZVDM660PiGXWG0F2VBDo3nhbDUUVJhfooqe9wYqo0r1T9rSIaojbsOVQI6htqYYEygmq1KZu4kbuFFuVUjQBXdEJyY5ziTs/KxuO3bp0INVpvlLmpnqTARV529ZT3SadUZbkkhGQrPij6cIzOzRMVSQxfl3IS7oBZTpEdbjBXNcz1XG4JK+yqwsJMeclwxfPpXCwjqnqdtgnr8+PF63dCZ1oqg1jbikUrO9NapjSb/nmOjQW9GnV0ZNj43sBDF5nzG7OZZC6hBOVwTmxUlNYVN263caSQdLGfY3hQmbSBcRYvVQGepQ5hcc5kI/MFKdnUtrI0gNoNRrnh9wpZuZ6MX13Cn8cHdCGprAYmYBRXVgp6Sf1I3RsmgrN2IsrJUldW5VNceZSkuG3spMbQb9hA/YZXaaqzhdnJFS5nMHH/EAlgtj6fw3/lVHF4xx7ueK5Kg6Szf0GwjFlS0JDUD0TRRz7CwhSixelVjzhAcCUKnlo9HYk5vH6HgPOOJdjgLYm+amstDckawMq1As1F52lTy6lfCcaFuErGUZGfv3AVVHZ19QTDTabr0yVa8oKrLijy+8WxqsNH3C4K699m5oF64cAGbpDr4lDlwNCuoWPNGrKeEkCZVmG8irul0dsU4+KxjJYruPqvs5lkrcqew2KDglP7sFpqp0FHPjejBkuf4GrssCOp6nOtMptawKFeLpFezpxsZp+044iCoaBoH0Rgl3a2gKle4aAk3txiQ6JVJUHHOSI1ZaVu5U8hzsMzXjewC+0DBahoau35qGhqzXouCZUziZ+6IK02dXUVcu3wxxCri5sKI61CVTFgSl3OQ4Jy29SFgNR2Jurx99UJqmKxujS7a5zfd08CnjiMShHWoJvKxQ+JSzrpi2JsBzcqhSZOaEmiqJa2LlUDC0npfbbETVIX7Ni5M+MR5WDSsxjYOWFDD3GurTo+ShHVKdG4zCOpeZueCOjMzM8yBT5kDR1OCWluPHkHy9FpmTj9qiUg5xubO6HNGrm5vb+bHDfNHHF1dfFa5mv8Qt8vm/ljncFV286wNtBMS+9nRVw6PVcKvIy/rkKTGq0QmAKOV9cQY8mJBHa4V5mtZ/IiEwjMKmeywvUkmrOqDpowrGTIhttz41HVnU51DGzuPk0BQZkivtU9V7oWKhBV6tFZAdED3CL3z3EZ6FrtezZ0UHtw+X8FRlUb074nLqUESmbRqamOrUeLXq9APhYFqvrgeP7umOAW0mTmOT0vhOS3zDV5RQe0YrGQv4nzZQuerfm5pDfa5xyOutMEW/CkiqGT1zkAl3agzdMuk11sw7ptHWYz6BuQ0Z96RLZNej2lhafsf4RSgfNy4F5KzK08zgkp6F8nuSPMk/4ozYcNOSaprcKpALtHgXNakkk0M+uVpLmlky6RAYzskBeXn4qFeu40OBMi+EGwFJ8qP8zslofSx/WTnwkVa7EoxPer1neLN/ULiBWGWb2E66BuKc7GiWybpuz3QrR56hlMsnTgs1zWp9XyMTCMyDgCjGfwZIAVn9Ku0vLR5WCSH+TWpKBM+6I1xXxUmAUbZMTJuDjsl7WXa1uVrKZnugqow/TAeg7w9d7Uwoy0lHDLvi2vj2ozPtM1tOA1UxSbHMdzdPOsM2kiM0Ak4Usk/RleMqKxUA6qHkVqxfjk9TEZM6bpMMhPVqyWWrLY0b1k8X+4aM/QPO0DFW0satheFVZvELL6SHSNrQ6UDZbK94mLFK5W8x2oF04PUiNSvYG0TMo2Yj6gW6ix1HNMLZaswWcY+739Z7aW3C4jqrn6olrrJK3S+Jg82VvRmiprGXyTbRzQe1w/87ULnKBmve0qBKctZS7tCOYclygKy4lCnXkhH/GQBR6cveNq0W6+za4OmBBWjTRSy3lxX202XbDscSpIdD21RcnQHIhOaQUaHXaX9vQF5KoeMI0XWaBvwdviGYvxevoXpkI9sikv88w7KKbo9IYewDrU4SaYnmxBN7dVsVF3ZQnYGTjimc1ud/6zDZzKaCXV4OkINQcVqTfYcJuXl6egZjGa0e2lu6Ggdv0omrHcY0M5eHmEsA9gz3GhBBa4H9czoTbZPEwAAwE3HzgU1EoncyYFPmQOHq6A+/XTVYArAsfuDZa7Oai2g2eWGO+Fo6Vhd/YXmIgAAgAU7F9RLly79HYe+9pQHBPWGHGre0l+8KflHKoG+sj6Ca7gTjpYOEFQAABzYuaA2A3T5ighDjOaDnwq7e8jPkElkclNiybT2lExONobOHXZrWgAAAABbmhXUEydO/OEPf/jbFvnmm29+//vf//a3vwVBBQAAAG5tmhLUP6cMDw//RYv87ne/O3DgwG9+8xsQVAAAAODWpilBVcGiyGb0tg4IKgAAAHBr04KgAgAAAABgBwgqAAAAALQBEFQAAAAAaAMgqAAAAADQBkBQAQAAAKANNCWof9IiO9sFAgAAAABuXpoV1PHx8awb+B6v1/v555+//fbb6XSaPQwAAAAAvwKaFdRmjE58z+HDhy9dupTJZM6cOfPpp58yBwAAAAC41WlZUOv1+srKyvLy8pdffpkQeeutt1RBxbdhTX3vvfe++OKLy5fb/0OSAAAAALDXaE1Qr1y5cvHixXfffffEiRNPP/002wZJ495779UFFfPdd98FAoHFxcX19eZ/2hoAAAAAbkpaE9QffvghGo3ef//9d9xxx2233caEVMMgqL/88kuxWHzmmWfm5+fVKwAAAABwq9KaoF64cOGdd9657777mISKYJV94IEHXnrpJWy8YmV9/vnnH3vsMfws/vfMmTOqV4Aj9eJCVX65JEWuhU1PPR8oyQvs3InVjfTpsq8TJS6yCzcZ9cv5mUqwr7nEAgAAtIPWBPXrr79+4okn7rrrLlVBH3rooddee+2DDz544403Hn30UXzl9ttvx/YrvmHfvn333HOPfuqyOT5ajw+hDk/JI5V8Q9UcYr+GrbGF5iuBbvJTnftfrmRXW3F18RlDZCbUV7ZSDudwMbt51gJlVSmeq3hxbK+BoBbPr6VPIRyfJjTmcnHlcmoYR/5mFVS0spFPlptLrJktdK6KxRg/Lh1AwYl1xK5fE9C5eLCvA7870gFfcCJnCgtlxwI9ndh5v38s26KrTi7a7elPFtmZI2gpHX15v0W+1QvpiH+/hGPa0TMop1fYZTeU4kI81BdwqkirudRYsL+bZIJjedl7VS9m1HzAGfGynFpq+neFV9NByRgoOp8IHaEJ7fQFTzvkqoZSzE6EfIOJJvLXurzQUiY9EezBIXq6oovsopncWBe5hbKjig1cc1oT1OnpaVaelKeeeurbb7/d3NzM5/Ovvvoqu0rp6Ojo1XjwwQedBFVZl3tR4HQtM1dLRKj4dVeyNeaIQTPlDgnFz29ub18tnEWShBIrDX1ycnXzeRttZGbXYketlcM53F0968S6fG0ElbBY6WpaY4pJrL43RFDXU9Pt+KH1i9X+HQkq+WH23nJsai0zQwx6LKs9kfV2/vI7h3JO9vYGYlOZzExCHiCK0hPJcmGh9HCHdDSex01vvZA4KklHEwXmhHF21VGyEdJWuwuqUszNZhKj5GZTvhVTR/f3RxLpuUzqdMCL1UbyJ1w1FeUzs5nYUXx3v11FKkyFsG8dA9H0UhE55LKTVyTtPaPpYh3nA8qe8kmSN2YvSxzkQUNilQW5R/LHzxOxU5ZTwW5Px3DaQVPR+UxmNubH3gy4CqpzeRUSL+C4eDyDKevgqPZjpBGn+AA3ltYE9ZtvvvlTjjfffFO9oVQqhUIhWh0Yzz777BmNRx55xEFQi8lybOkqO9neKiSR5Cl5xzfYhVotJJW8H2qn20q8ryQN1ViVcnR18VlDmcWmjEk5nMPV2M2zNlxLQW1FY26UoOIs9SdvoKAqidFKHjfNDCVBv5niy+y8rRQTozEuLLV99+phKbMhyeONLbHT7eW4zyMFp1k9cnbVKU4GAslEuBlBVVmOe82CuiCHZxo+E9XBL/lIpplywvG0EVQlh8XP0xOcsvoMsMLSKzQV8HhCXFQK8T6Ppy/u5qmSO9kvJ2P9QmJz0YMe73jjUZrJUnjOOaFKZsRdUN3Kq5gYCIZGcAXosTRSCxP9oZEgzvVmyxG4EbQmqAa2traweVqtVqempg4fPkyVlPHcc8999NFHExMT4+PjjoK6mZ5cE2qrUgtxikKb9RJfw7DBpzdwjq4uPjdYqJiVwzncBrt51ppft6CuVP1Sqf8GCiqqpeYaEoeh30w7sXTdQemU2FJTwdDbd9zCejwHozn1jECNGCYVzq4aK4nAKNaarNx8Q3wxIWoMITeZEvWpED/UjE1GWSCBmysSmsYWl+RPugkfj4VX2HQ2xqRwFqfAqe8Ug78JAlg4DYk9J2NBE9Oexd8iniEXozAbcc0N1/LCN8jZxSj+UpHMXypKJtwdzc3j5IOg7ml2Jag//vijaoBKkrRv3z4ipBqjo6NYaH/++eezZ886W6gmiKJoTepmeojYBym+Cs2TBi44venmaob3mcNCFJv2eTfPWqMJKlqPvVzCJnVHH99NfSWfLPsOYP/pqPBIjb2N9cv5OTabSVms9HeWOgarqpOyVCPX8f2dKHSq3LqgXi1MlX2dJLjAJJd1q2vRQdqLjmPYjWKLV+jVLUWdzXQAP0hGkf00qv2naZcpfoSlqJy26gDHMfdJNGnqoX5V2AV0cT2lTptaUdLHSKe6vKA6aTBBbUTDN1LNazmZjXABaYc0bNWLYPXNdK3gBQOliT1yVKhH2eP4UpC07s6uKkpOxm00SfJuBdUEkQcpkmVnzlgKqpKVD3o8WCTYeXNYCapJqNTbPP5JNb2ko9XTLef49/5iKjBIu1sNiaUPilY+9V+SnePpLqju5UUFdRulBvFFn+HjG1vhgSmkRg8EdS+zc0H9/vvv33///YcffvjOO+/ExczT19f32Wef4XvW19c//vjj1gR1ueqVyulV9URJvIBbuorw4pIGTu25dXY1IfjMYdFiNu3zbp61hgrq65X4eC1f3CwsVLAq6JN+0XRZwpbuylWsKFgnerTvAwVdRliN8IOD5ehYNT6MPFIZf+WS4UAJhWfo3hrFWphOkmpJUMOnqokFBRU3UiP4WT2lG9HuUtfxNdIU1GmnqKSm9yqOSZreKY9X4jMbRaSkR4m9HhqvyqdquRWSImyDemw7wA0fPXYBXUFFFlBwtBJPEiX2TfBNJhPUYKQSjFTTc7XY66TD39NdUVvG7ATfr3slG0HG8XWNwjhqurt+txTGvZJuDK2Qtt4jihZpuNU+YWdXgpI9GdKGOdstqEomZNMzaYGVoGLzlMR1LJWKqJOJOnxDcfOMLCMWXtHuVlGBipN+fElLL0oPYUuY+87ApuEx9TvDlFja3S0aiDlitHqw1DnhLqju5aUKKjGdu3AcSL+CTi7aJ5OhdRDUPc/OBTWZTD7++OO4gHnuvvvuQ4cOYaeffvoJ39O6oG7lxhA3hEbVxUqcqPni7GrA4DOHhSg27fNunrWGPn58jZ1heR4oeQaq6jtE5jd1V/L0b3Znw096OlzjUkjVaIwLdKGCRaUlQW1MPKFJYM8qa+HOUnCGGdyGzmHjg8WqH2tkQ+22sseJLtp88pNUNAS1iYBiSzazvVRBndHN1qu4AuAkhGaFHl0cHzK4bjtrbD3a3fyEsl2Si3ZzM31o62nVBFMBcHbFVSUZ4CytNgsqNpjEyVOOWAkqjWqX/1SmQIUNzdFBWYMdacbKq221m/RINEu/lZWVbHyIzIblkqAoDW+VbKS/8SlgTCxVXzqsS55QUH5G9mG/3Dq33QXVrbxwdVYFFRcdGQP2BFLap78yG+qfoP1N1BMQ1L3MzgUVaySpDhqSJD355JOvvPLKJ598ou/t0LKgLlf7j7K+SspG/JC1OFFrz9lVxOgzh4UoNu3zbp61xiCTVH40QWVoiyyxn0ZB5TX7HJHP8DwnBrsZQ10xP0v6XRMRtJ/005oEtZEnokaSdsSUPw2MN1OaDEjEnFiaBOkkl0W4tTpHDP3gNDXijWxh87Q9M6SaoDDeLwwoUmvJ1qZxdl1JhE7ygtdWQa1lQr2ahdcMFipI+1E9fr4DNP8hSZB5UpWApaBiGdSWHnV0B+SpVPQQ8YkzSRtg+y/EZ7I5sfrqIGm/byiWniBTa7tOufRMuwuqc3kRdEHdVubCJNAxNdBC/IVQRs1tENQ9T9sE9cUXX/zqq6+Ym0Zrglpbl481Rrko6ngk6b3UUSeJcGOodq4cFj5zWIhi0z7v5llrjLpI5KchqHRE8wBZC5RfXRPvND5I9UZUlN0IquFZOsS7f6CSWFDUKVf6nW0W1BYCErFIrDGLSMXotl0VoyxUQuMblk5thzT043khLHXUTeh+VLs3uTFUG1fV9LGEZAhVkQYGJXAR1ELiWDgjjpsYgjM+ayWoZCaRoR91MYrtShe1sBFUAWqwdlkb0KqQW2LprWqwuoXYjKA6lyahIai0rwIrejC9SiqGT5dzENQ9T9sE9fjx4/W6oTOtFUGtbcQjlZxJ89RGkx8gwUaD3ow6uzJsfG5gIYrN+YzZzbPWOAjqVu40kg6WM2x7CsOdxgeLkzhQsYezXYK6Wgt2NnpxDXcaHzRpZAuC2lpAIubEolrQU/JP6sYoGZSVbPotlKWqrM6luvYoS3H5tLmzk7b+h/hZu/zcWidXtJTJzPFHLIBNoeMp/Hcea6FSzPGu54pC0E6CijJjFls6GIIjQfBYqWDuFFFPYSUrDVebSWSDu6AW6BwiIkVWKMVzQlQzk2FsOAY+xH/nxFwgKPNhHMseN/MU4y6oLqWJ4QVVXQvk8Y1nU4ONvl8Q1L3PzgX1woUL2CTVwafMgaNZQcWaN2I9JYQ0qcJ8E3FNp7MrxsFnHStRdPdZZTfPWuMgqBvRg/zwqougbi9XfZ6SNMKNqlKNMQ0iWuMgqGgaG9yNUdLdCqpypeEm3txiQKJXJkFVZstSY1baVu4U8hws83Uju8ByD6tpaOz6qWlozHo8ki4s4abbiCsXnV1F2tLlizKRUMqkpu5YqiCJLRaMhr7Qfk5OPCxxFtR6ITXc45F80UUxO+uK7ZYR9l8P6FyULJIdTlt+bxmwE1SFe/ncygsLapj7yiQrYj2SJIxVz5MlPCCoe5mdC+rMzMwwBz5lDhxNCWptPXoEydNrmTn9qCUi5diiaofpc0aubm9v5scN80ccXV18Vrma/xC3y+b+WOdwVXbzrA1LdLJuY/3GRuxQiUzZJe0+naAkofjiZbSynhhDZJPC4VphvkZUgQ4QYuktGCavekq+k2t0E5nLuYlyh4dMms0vc7M0rNlU59DGzuMkEJQZ0mvtU4eB6eSmntFaAdHR3CP0znMb6VnsejV3Unhw+zzZTBHrupaiy6lBfEM5rdrZ2GqU+PUq9LNgoJovrsfPrilOAW1mjuPTUnhOy3yDV1RQOwYr2Ys48VvofNXPLa3BPvd4xJU2q2vhU0RQyeqdgUq6UWfolkmv282i2hXKYtQ3IKd5m2kmIb8e08LS9tPBKUD5uHlvHSdXnhYEFc2EJGzOntamvjEK6WFfcIKLJ90yKew85EnJf0im9ZiVvpD0S1j8Fuj1Yjrc7b4m1c4rMntoLh7qlTzdQZPkFxIvGGb5clgJqrKSS431d2BlPuU+75hQz8fINCJjEGiGLLQNNjbEcCwvlAkf9Ma4T4HCBPnk4Dq6UHaMjMPCTkl7mbZ1+VpKprugKmQQCzeLxmOQt+euFma0pYRD5n1xbVyb8Zm2uQ0nw9wf53B386wdxN7V/cRKwAdBTbGVakD1M1Ir1i+nh8nq0tjiFWqriXcyNrGIklWk+JGRan6p6j+A5OQ60VcnqHJrHmJ7kdqU2kGM4CvZMbI2VDpQJtsrLla8Usl7rFYwPShGzJAiaj6iWqiz1HFML5StwiRR/f0vq730dgFR3dUP1S43eYXO1+RBdSpTqWewkilqGn+RbB/ReFw/IuvqHCXjdU8pMGU5a2lXKOfo1FYTZMWhjj5HxnJfWWfXBk0KKrmNQ++BLKboFn1GDKs/zVC5amC04ZR8MuQ7QHzu6A5E5xyjZ+8VHcGV9vcG5KkcsqjYVutQdQyCqobS2dM/FMtcdPvmpBSTQrz4TMafJh2ejhC3w5RdeYmD0Fq2K5mwvniGdvbyWFrVwA3nRgsqAAAAANwS7FxQI5HInRz4lDlwuArq009XDaYAHHDs2WN19RdWcQEAAEzsXFAvXbr0dxz62lMeEFQ4bqUDBBUAAAd2LqjNAF2+IsIQo/ngp8JeW4TBWvNht6YFAAAAsKVZQT1x4sQf/vCHv22Rb7755ve///1vf/tbEFQAAADg1qYpQf1zyvDw8F+0yO9+97sDBw785je/AUEFAAAAbm2aElQVLIpsRm/rgKACAAAAtzYtCCoAAAAAAHaAoAIAAABAGwBBBQAAAIA2AIIKAAAAAG0ABBUAAAAA2kBTgvonLbKzXSAAAAAA4OalWUEdHx/PuoHv8Xq9n3/++dtvv51Op9nDAAAAAPAroFlBbcboxPccPnz40qVLmUzmzJkzn376KXMAAAAAgFudlgW1Xq+vrKwsLy9/+eWXCZG33npLFVR8G9bU995774svvrh8uf0/JAkAAAAAe43WBPXKlSsXL1589913T5w48fTTT7NtkDTuvfdeXVAx3333XSAQWFxcXF+nv/8MAAAAALcurQnqDz/8EI1G77///jvuuOO2225jQqphENRffvmlWCw+88wz8/Pz6hUAAAAAuFVpTVAvXLjwzjvv3HfffUxCRbDKPvDAAy+99BI2XrGyPv/884899hh+Fv975swZ1SvgV0m9uFCVXy75r9vv0wEAAFx3WhPUr7/++oknnrjrrrtUBX3ooYdee+21Dz744I033nj00Ufxldtvvx3br/iGffv23XPPPfqpy+b4aD0+hDo8JY9U8g1Vc2iLXWdsoflKoJv8VOf+lyvZ1VZcXXzGkLY+1FdOXGTnHM7hYnbz7K8I5eJGfr7i3fEPvroX4k0MOhcP9nXgd0c64AtO5BC7rIOyY4GeTuy83z+WbdFVJxft9vQni+zMHmUpETqyX/J4OvpCiSWbwlKKmYlQoJfc5uInysWHfDRt+31DcWPa6sWMGnns/LKcsgtOA81HA93YM3xzNLvKLjJq+cSIFtBIqlBnl+0ozMj+Azj6no7ugDxTYFeNKMW5eGjQS9I5kHBKp1LMToR8g4736FjdjJYy6YlgD46Qpyu6yC6ayY11kVso8gK7COwpWhPU6elpVp6Up5566ttvv93c3Mzn86+++iq7Suno6OjVePDBB50EVVmXe1HgdC0zV0tEaLvZXcnWmCMGzZQ7JBQ/v7m9fbVwFkkSSqw0mlQnVzeft9FGZnYtdhTLHjKLonO4u3r2ZuJyaqotQ+Dr8s4E1bUQb2aUc7K3NxCbymRmEvIAUYSeSJbLI5Qe7pCOxvNYiuqFxFFJOprgmn9nVx0lGyFttbugLsa8Uk94htyG5uUeT4+8YCwvdC7W3+mRekPxhQJyLgUlJ/d6A6dTmbl0ItJP0tYtcwVHItwzmi5i8auj7CmfJHlj9lqCZoIdkj9+nmhy4axfkvyJFdUFU0i87peT6cxcKjZIUtol5KGR4qR//4CcmMlkpmKBXqyWkj9pyjaUi+HikLyhiWwBOVVadD6TmY35XUWX4nhzIfECjrvHM5iy/jBaTQfJN4BHGklb3wDsAVoT1G+++eZPOd588031hlKpFAqFaHVgPPvss2c0HnnkEQdBLSbLsaWr7GR7q5BEkqfkHd9gF2q1kFTyfqidbivxvpI0VGNVytHVxWcNZbZsIYrO4Wrs5tmbg+WqL3IjBbXJQrw5KSZGY/mGOUU0xuPxxpfZuTIbkjze2BI73V6O+zxScJrVI2dXneJkIJBMhN0FtRDv83iG01oJKZlRydMdzbFTQmEaW1GS75TZjLagmAw34oafTRId8Y4z6UJTAY8nlGlUBxp6X9zaWqxlSFI/zLNTerM0xHQFzaYyjQih1CBufuQsOzWTlUc5Qapl5W58Px+T7e2VdLDbIx2JNpVOgpIZaUpQKXY3FxMDwdAIzqQeSyO1MNEfGgniuDbT0wDcKFoTVANbW1vYPK1Wq1NTU4cPHyZCqvHcc8999NFHExMT4+PjjoK6mZ5cE1pZpRbCVojWiBeTyOMp8TUMG3xYw9RGx9HVxecGCxWzKDqH22A3z+59autyt1WO7YSdCWrThXgzgtKpOTFxs+SrVOvNwy2sx3OQlzRqxDDVcXbVWEkERrFYZGXXhnhBxm25oMfzWIWlsB7DxSi2/kQD2gGUnhRECusISVtEVbpi6qhRVApn++06PItJoxO92Wf5QmUj9sKMWUylxKcK416cN9wrTLrHRWPaHRJos4JqdzMuUDlLM1kaEbMOo2TC+ONmHhcjCOqeZleC+uOPP6oGqCRJ+/btI0KqMTo6ioX2559/Pnv2rLOFaoJveTfTQ6RPNcVXoXlsFJaC05turmZs2nQLUWza5908a83l7BjaL5HxQu9gOXCaKsfqRnqi7D+AA7qST5Z9ncTVf3qd+9DeSIzQpzwl6QAKTWtprCnZJBnKxW20slQN9ZEbvMdqpLmhj3TQ+2OLV9TbBS7WgnQMmB0DVZIgu4BWNzLJiv8ADuhK7jTxNjBpyGeW+Xo0+KFl9RPEeHRXdJOEY4eW7s3BAhE+Vp1QmtgjR4V6lD2OLwWJheXsqqLkZNxGE2FwF9TcqS7cksvn2ClhJUF07JQq2VS/pWDaMHjZAnwczF8Dato9/klzJFF6iLiILxQWe1H+Gdh4NfRUk45xLJA5mypD1FpqWLRUvC0MfWfaJqjMwjZ+K2CDPjCF1CwCQd3L7FxQv//++/fff//hhx++8847cTHz9PX1ffbZZ/ie9fX1jz/+uDVBXa56pbL23iqJF3DbWhE6cIiGqZ1+zq4mBJ85LESxaZ9386wVhQnUNVIjA0vb9cJkuYuYYlcVdDlzHPuJwifLoYlaZqYa6sWnpZ5TqoeXiYQPVOlcjM1shFjDNEpbCtrMfUi0KjhWjU2uF9Dl3DjpMvWdqsYi1czS5eJSLYxV82BFaNoaKIkB3hy0C6iOVllAgeFKNFnFSiyNipalKoTHK6GhSkofDdWKozhZTTemGtF+XbtRZ7tCvCXA1pLek6nqmWbSMUhbrPYJO7sSlOzJkDbQ6C6oVIx5Qw1/UdEgVGtpMUr0djiePh30kek8ZBpRujGK2QTLcW9Dj2m3pygbxUk/iYFFJNXBRbEXl0qL3oGsgpbS8pEu/1mDdYr1WCKfAtYSSWLSwz4aMLnoQaKn8elYkE7Okg747WctNWifoG4rCzLJatKvoJOL9smkZwAEdc+zc0FNJpOPP/44LmCeu++++9ChQ9jpp59+wve0LqhbuTHELa4grbClONFW3tnVgMFnDgtRbNrn3TxrRTbCD742JgRRGw7FzmujibW18EEcSpm+dkTCe05rT9GwGpMA6Wl4XhendRnbl6Nr7Aw3V7Q7Wvj8b2AQVPeAgjNWxi6BZAuXtK3iVNl6SHuh0uNB2NJl5wL2hXgrkIt2c3NtaOtpJZm0T9jZFRdrMsCZWa6CSk1GS0GlTT+12zy+kVRulVa45QQZEZX8KaHmO5Eb6xHm/qh9m0fYfF1lJRsfIlNYG9WpAYm8paDyyVfTTunoP20wRxXFrsqspgJ8766a5L5QapHORFLUUW3Jym4WaKOg4qIjw8meQEr7alRmQ/0TNOtAUPc8OxdUrJGk9mpIkvTkk0++8sorn3zyib63Q8uCulztP1rlXruN+CFrcaINsbOriNFnDvKIQRSb9nk3z1qhnKt4pVL/WK0gLg5RBZUPqDBOLEKhj251I32adgibdI5rpwwaaeEzh/FmRlMBGSCCKnbVroXxR8ZR2pOsc7Hql3TL24RDId78FMb7BcnBJh1+r+xsUGfXlUToJD/Y6Sqoqsloa6FSn4UOYWWGdDlrHcJuLMf7TTOQ9fVCZO3KVCp6CP9paUcW4sTJ3ULdriuFuViATDLihn6dwKn2Cv3D1FvpJJeoGu1aN/ROm2iroG4rc2Es411japiF+AuhjCr5IKh7nrYJ6osvvvjVV18xN43WBLW2Lh+r5oW5AOp4pGqHMejEWn4M1c6Vw8JnDgtRbNrn3TxrR3E9Tkc3fSPVvCarZtlTxx2ZgNWV1Aja31uOzWygOVHY2iuoLQRkwCyo1HN1aJahJI6WJDvJdC7EmxxlQQ6N5/ncYaOkwvwUVfa4MVQbV6p/1pACUpVShzbudAy1McGYQDVblczcSdzCi3KrRoAquiE4Yx2oZeVjcZeCowarzXIXdQxVmIirzt6yHum06gy3pJAMhWdFH86RmVmiYqmhi3Juor2CSvsqsLCTHnJcMXz6VwsI6p6nbYJ6/Pjxer2xAkClBUGtbcQjlZzprVObe/49p5YZEwBnV4aNzw0sRLE5nzG7edaZ1fX4YMnTqY0ymmSPu7IR6y11HV9jbYNB2NopqC0FZMAsqBvRgyXppO75FTIoa7fG1LUQb2aUpbhs7KXE0G7YQ/yEVWqrsbbYyRUtZTJz/BELYLU8nsJ/53F1Uoo53vVckQRNZ/mGZhuxoKIlqQWKpol6hoUtRInVqxpzhuBIEDq1fDwScyu4gvOMJ9rhLIi9aWouD8kZwcq0As1G5WnTl5v6lXBcUE+if5Ls7F27BVVdVuTxjWdTg42+XxDUvc/OBfXChQvYJNXBp8yBo1lBxc3liE1LuloLSiXfhP6ei2s6nV0xDj7rWImiu88qu3nWiuwEZ5/RJSJqi2aSvXpmtOTpozcvVrr4UVIXnXMT1PoVpfFdJN7cWkAGr0yCulz1eVB0kfmGpssSjgY3Eam4sM5ajmYK8aYFq2lozHotCpYxiZ+5I640dXYVcZ+UpFpF3FwYcR2qkglL4nIOEpzTtj4ErKYjUZeCqxdSw2R1a3TRMg8odE8DnzqOSBDWoZrIxw6JSznrimFvBjQrhyZNakqgqZa0LlYCCUvrfbXFTlCVmkWi7AU1zCm5Oj1KEtYp0bnNIKh7mZ0L6szMzDAHPmUOHE0Jam09egTJ02uZOf2oJSLlGGtq9TmfV7e3N/Pjhvmfjq4uPqtczavzYI39sc7hquzmWWvIpKTjtUINP0g2L+zRLF0qe6We0VpRwf7UizPlHgmxhFys9ntIT2muuFlYqEYHaZSmlOzMurK9VZwUe5tRLejBSlzR9hO4mjtZwoKqTXfaiHXz61WooB4sZ4pK+nSt4BTQ1cIEOe1vfEYYvCKCKvWWU0v05/yKZHZxY3rRChk6FWYbKdgkVRfqNFOINyvKYtQ3IKc5845smfR6TGu/tf2PcGGhfNy4F5KzK08zgkp6F8nuSPNEp4ozYcNOSaprcKpALtHgXNak1nLRI/3yNJc0smVSoLEdkoLyc/FQL5btYMptwjDZF4LtjoTy4/xOSSh9bD/ZuXCRyqtSTI96fad4c7+QeEGY5VuYDvqG4lys6JZJ+m4PdKuHnuEUSycOy3VNaj0fI9OIjAPAaAZ/BkjBGfGqzc3bKBM+6I1xXxWFCZ84ERplx8i4OeyUtJdpW5evpWS6C6pCtw4g02LFY5C3564WZsgaR3zdN2TeF9fGtRmfqUI0nITxPIxjuLt51p7sGPIeoktKPKWOvnKCbF5IUO3I0Ek2FWj/kXJiSZ8Hu1WYLJO1oZ1InrlM7OPOUscA6SDF8syihw9saFIjUjuwVUpETr9CzUfSqSv1VvUFoMoCmSSFY5ImHwR2AVHd1b1iWWH0aru4FhtCPXr8taTZlhT2p6nqcbOinMMSZQFZcahTL6QjfrKAo9MXPG3ardfZtUFTgorRJgpZb66r7aZLth0OJcmOh7YoOboDkQltXz1ipeFQegPyVA41ujGc0Dbg7fANxfi9fAvTIR/ZEJj45x2UU3R7Qg5hHWpxkkxPNiGa2qvZ6GAPTed+30jCMZ1qd3QDPpPRTKjD0xHiBNXuZpobOlrHr5IJ6x0GtLOXR+gKAvYMN1pQgeZwHOkEAAAAbjw7F9RIJHInBz5lDhyugvr001Wj8QGHeKgZxQuq4YZf7fHf/7uhpx0AAOBGsnNBvXTp0t9x6GtPeUBQd3/QfNpUd0pSRzoNN/xqDxBUAAD2FDsX1GaALl8RcazRdIirSnSEkU5+gi4AAACwd2hWUE+cOPGHP/zhb1vkm2+++f3vf//b3/4WBBUAAAC4tWlKUP+cMjw8/Bct8rvf/e7AgQO/+c1vQFABAACAW5umBFUFiyKb0ds6IKgAAADArU0LggoAAAAAgB0gqAAAAADQBkBQAQAAAKANgKACAAAAQBsAQQUAAACANtCUoP5Ji+xsFwgAAAAAuHlpVlDHx8ezbuB7vF7v559//vbbb6fTafYwAAAAAPwKaFZQmzE68T2HDx++dOlSJpM5c+bMp59+yhwAAAAA4FanZUGt1+srKyvLy8tffvllQuStt95SBRXfhjX1vffe++KLLy5fpj8oDQAAAAC3NK0J6pUrVy5evPjuu++eOHHi6aefZtsgadx77726oGK+++67QCCwuLi4vg77uQMAAAC3OK0J6g8//BCNRu+///477rjjtttuY0KqYRDUX375pVgsPvPMM/Pz8+oVAAAAALhVaU1QL1y48M4779x3331MQkWwyj7wwAMvvfQSNl6xsj7//POPPfYYfhb/e+bMGdUr4OZgdSN9uuzrZD9pfvNRv5yfqQT7SvICuwAAAHCtaU1Qv/766yeeeOKuu+5SFfShhx567bXXPvjggzfeeOPRRx/FV26//XZsv+Ib9u3bd8899+inLpvjo/X4EOrwlDxSyTdUzaEtdp2xheYrgW7ya6D7X65kV1txrW0kRjSfR2qFOrus4fisc6ycXWsbqQjq6SQ+d3QjeWrD8pdO9yqXiyuXU8M48jeroKKVjXyyjDN/R4K6hc5VsRjjx6UDKDixjtj1awI6Fw/2deB3RzrgC07kTGGh7FigpxM77/ePZVt01clFuz39ySI7s0dZSoSO7Jc8no6+UGLJps4qxcxEKNBLbnPxE+XiQz6atv2+obgxbfViRo08dn5ZTtkFp4Hmo4Fu7Bm+OZpdZRcZtXxiRAtoJGV6zY0UZmT/ARx9T0d3QJ4psKtGlOJcPDToJekcSDilUylmJ0K+Qcd7NJQFuQsHrBGYIpmCljLpiWAPudAVXVRvtCA31ngUvhT3Jq0J6vT0NCtPylNPPfXtt99ubm7m8/lXX32VXaV0dHT0ajz44INOgqqsy70ocLqWmaslIlSiuivZGnPEoJlyh4Ti5ze3t68WziJJQomVhno5uiqJ15GcJD7HBhFuH7si6/xb6/Ssc6xc4qykjpZ6RmtFBfu2pVyshbtL/smbSlK3t4tJnGM3RFDXU9PtyKuL1f4dCapyruLtLcem1jIzVZn+IHyPWG3aiHJO9vYGYlOZzExCHiCK0BPJcmGh9HCHdDSex61uvZA4KklHE1zz7+yqo2QjpK12F9TFmFfqCc+Q29C83OPpkReM6UbnYv2dHqk3FF8oIO4ltUDJyb3ewOlUZi6diPSTtHXL3DtCItwzmi5i8auj7CmfJHlj9lqCZoIdkj9+nshP4axfkvyJFdUFU0i87peT6cxcKjZIUtol5KGR4qR//4CcmMlkpmKBXqyWkj9pyjaUi+HikLyhiWwBORU+Op/JzMb8rqLLKMQHA+GxaJQd6Ty7jikkXsBx93gGU4YPD8ZqOki+ATzSSNr6BmAP0JqgfvPNN3/K8eabb6o3lEqlUChEqwPj2WefPaPxyCOPOAhqMVmOLV1lJ9tbhSSSPCXv+Aa7UKuFpJL3Q+10W4n3laShGqtSjq5otpppGI6XU4O4caxk2anLs86xconzYqVLlCKs1p6BajMfsHuHGyWoymzZn2yHfu1QUJXEaCXfMHGUxFFiqceX2XlbKSZGY1xYRGM8Hq8eljIbkjze2BI73V6O+zxScJrVfWdXneJkIJBMhN0FtRDv83iG01rWK5lRydMdzbFTQmEaW1GS75TZjLagmAw34oafTRLR8Y4z6UJTAY8nlGmUMw29L25tLdYyJKkf6upDbpaGmK6g2VSmESGUGsTNj9x4zY1k5VFOkGpZuRvfz8dke3slHez2SEeiTaWToGRGmhJUNB2S5+3qdjExEAyN4EzqsTRSCxP9oZEgjmszPQ3AjaI1QTWwtbWFzdNqtTo1NXX48GEipBrPPffcRx99NDExMT4+7iiom+nJNaGKKbUQNvgibGIwbdZLfA0j4qQ1cM6uBrKRkqevqr+xjs86x8olzlRQS6HZK+wU+zyOpFHxkT3PjRHUlapfKvXfQEFFtdSc0GOIBR7Xk2vSw4bSqTmxHs2Sr1ItLNzCejwHeUmjRgxTHWdXjZVEYBSLRVZ2bYgXZNyWC3o8j1VYCusxXIxi6080oB1A6UlBpLDokLRFVKUrpo4aFahwtt+uw7OYNDrRm302r7m9MGMWUynxqcK4F+cNV89J97hoTLtDAnUVVCUrH/R4Onv6h2LpZbNW4wKVszSTpREx6zBKJow/buZxMYKg7ml2Jag//vijaoBKkrRv3z4ipBqjo6NYaH/++eezZ886W6gm1mWP3qRupoeIfZDiq9A8aeCC05turgY24n1IXtBFrqVnMXyszBhcSZevR0LyPF2Du1IN9Amd2C7Q8df9Eo5eqWeQH9m9kk+WfQfIdTYkzK5vb6+uRV8uYStZOoACQ+UYaZFJlMid5NB0kWoMuaJrvz2aoF4tTJV9nSTEAN9rjUMcpH3ddJA4tqhm7JaizmY6gB8k49N+Gtv+07TLVItkR185zXXa6yiLFR9NNTvUSNoFdHE9pU6bWlHSx0h3PVe4FCaojWj4Rqp5rRTI15UekHZIw1rPB89CpZGB15oFInwsLJQm9shRoYZmj+NLQWJhObuqKDkZt9Ekye6CmjvVhVty+Rw7JawkiI6dUiWb6rcUTBsGL1uAj4P5a0BNu8c/aY4kSg8RF/FVxWIvyj8DG6+GnmrSMY4FMmfz7hK1lhoWLRVvC0PfmWYEVTmXiI4EvGQYGCN5j3N2NYEKKrOwjd8K2KAno600i0BQ9zI7F9Tvv//+/ffff/jhh++8805aRRr09fV99tln+J719fWPP/64NUFdrnqlsvbeKokXcEvH9dNiSAOn9q86u+pcRUs1+UjJf5a/2OSzGkKsTJhda+tyL2mjva+XQ2NrZKCoSciDKL5IlbhIBl893RW1LUDTZQkb0CtXsZxgkehpSDjprA5N00eUjdSQZk6pj3vKwpDLfFk62jDTHVAFNXyqmlhQUHEjNYK90nVlI9pd6jq+Rjyu005RSc3Jqwq6nKZ3yuOV+MxGESnpUdITEBqvyqdquZXNwkIF26AevdPeiOHTxC6gK6jIAgqOVuJJosS+CbHJpIIajFSCkWp6rhZ7nXTLk8ykjtkJvl/3SjaCDCP3OqR3wTa2bQZbS3pPpqpnmknHIA232ifs7EpQsidD2kCju6BSMeYNNZyBNAjVWlqMEr0djqdPB31kOg+ZRpRujGI2wXLc29Bj2kcqykZx0k9iYBFJdXBR7MWl0qJ3IKugpbR8pMt/1lC7sR5L5FPAughJTHrYRwMmF8VGpBSMT8eCdHKWdMBvP2upQVMWqk4xE7UYL1cFlc1akki/gk4u2ieTW0FQ9zw7F9RkMvn444/jAua5++67Dx06hJ1++uknfE/rgrqVG0PcEJpqZlnIHjVfnF0ZvC3CTCVCU89qGGJlwMZ1tRZ6jAQq9ZYzxpnJthQmEK/oxUmiRqrRTKZNdVe0cSQafxZV/DeKLWlBrNZSWv+kMos1uBRu9GGSqEYXm4oMs1D1RpNmDpNqZS3cWQrOMFPe0DlsfLBY9eOcb6jdVvY40UXBOmlA0tUQ1CYCaiTcgCqoM7rZehWnHSchNGv4uqFD4OJMN471aLedU9vJRbu5uTa09bSSTNon7OyKa0sywJlZroJKTUZLQaU6Qe02j28klVslRaMsJ8iIqORP8fc7khvrEeb+qH2bR9h8XWUlGx8iU1i17m4eEnlLQeWTr6ad0tF/2mCOKorp7WSspgJ8766a5L5QapHORFLUUW3Jym4WaE1QCarP/CcFE1TsRIaTPYGU9oGuzIb6J2jWgaDueXYuqFgjSe3VkCTpySeffOWVVz755BN9b4eWBXW52i/YTxvxQ9ayR1XH2ZWjfqUwx5bHaOrS9LMYY6xELF1XqoHXq4U66S/1YoOss5xqqlG+TPqKNfnXD+kkp/HaCkvixAS1jqVC6kTRmQ3TV7iSGOBGjldrwReaMk8xBvXCKTINSZJ+1wTrnTYJaqOpFTWStD74fjHnGxhvpjQZkIh5DJUmQchMnEHniK0fVO17I1vYPG3PDKkmKIz3C5KDTTr8XtnZoM6uK4nQSd76cRVU1WS0tVCpz0KHsDJDupy1DmE3luP9phnI+nohsnZlKhU9hP+0tCMLceLkbqFu15XCXCxAJhlxQ79O4FR7hf5h6q10kktUjXatG3qnTbQuqFTLhV5rXVC3lbkwFtuuMTXMQvyFUEaVfBDUPU/bBPXFF1/86quvmJtGa4JaW5ePNUa5KOpIZ5nv/lAniXBjqHauJmh7qolQ089axIrD0lVZl7s5y4lOtOHnQ9lD9M8kJzp0OPMAWa6TX13jLFTM1eJCNYRVthOFkoKsKgtkhpQqGNj85adKOWOUK4M+ofXYy6X9A5XEgqJO5rLXud0JagsBiZgFlXou9EDg4uu2XRWDsy40fp0WECsLcmg8L4SljpIK81NU2ePGUG1cqf5ZQzJEVUodqgR0DLUxwZhANVuVzNxJ3MKLcqtGgCq6ITgxz3EmZ+Vjcds3SIUarDbLXdQxVGEirjp7y3qk06oz3JJCMhSeFX04R2ZmiYqlhi7KuYmdCCrtFeBs34ag0r4KLOykhxxXDJ/+1QKCuudpm6AeP368XjcOFbYgqLWNeKSSM711aqPJv+fYaNCbUWdXE0SudAOlqWdtYsWwcaXCLAgG7Xq1b/obUINyuCY2K0pqChvNW7nTSDpY1hYCmbSBcBUtVgOdpQ5hcs1l8ulwsJJdXQtrI4jNYJQrXp+wpdvZ6MU13Gl8cDeC2lpAImZBRbWgp+Sf1I1RMihrN6KsLFXlxgDBtUVZisvGXkoM7YY9xE9YpbYaa7idXNFSJjPHHzFsDHmPp/Df+VUcXjHHu54rkqDpLN/QbCMWVLQkNQPRNFHPsLCFKLF6VWPOEBwJQqeWj0ditm8Qo0DSYj/jiXY4C2JvmprLQ3JGsDKtQLNRedpU8upXwnGhbhKxlGRn73YkqIXEC5ZdvgRElhV5fOPZ1GCj7xcEde+zc0G9cOECNkl18Clz4GhWULEyjdjMg8VNqjDfRFyH6uxqZCN2iBtBdH3WIVYYe1cqqOLSneWq1zA5yIbcKSw2KDilx2oLzVRonDeiB0ue42vssiCo63Gum9os59uLpFezpxsZp+044iCoaJokUB/t262gKle4aAk3txiQ6JVJUMlnTWPu2FbuFPIcLPMlmF1gHyhYTUNj109NQ2PWa1GwjEn8MJu40tTZVcR9UpJqFXFzYcR1qEomLInLOUhwTtv6ELCajkRt3yCVeiE1TFa3Rhft85vuaeBTxxEJwjpUE/nYIXEpZ10x7M2AZuXQpPV3FEm1pHWxEkhYWu+rLXaCqhi+jXlWEn4hCVhQw9xrq06PkoSJS3RuMwjqXmbngjozMzPMgU+ZA0dTglpbjx5B8vRaZk4/aolIOcaUT58zcnV7ezM/bpg/4uC6mT5GNhRMqTNmFTLd1HeKbyUdfXaOlUucydxUbPrkVunmD6vr8aOlnpPNNdC0E9JD15aExyrh15GXdUhS41UiE4DRynpiDHmxoA7XCvO1LH5EQuEZRSEdBJtkwqqxe/lKhkyILTc+dd3ZVOfQxs7TJODgZ7C2lXyqci9UJKzQo7UCogO6R+id5zbSs9j1au6k8OD2+QqOqjSif6moO2zgzwuaV9hqlPj1KvRDYaCaL67Hz64pTgFtZo7j01J4TuuiN3hFBbVjsJK9iPNlC52v+rmlNdjnHo+40gZb8KeIoJLVOwOVdKNk6ZZJr7dg3DePshj1DchpzrwjWya9HtPC0vY/wilA+bhxLyRnV55mBJX0LpLdkeZJ/hVnwoadklTX4FSBXKLBuaxJreWiR/rlaS5pZMukQGM7JAXl5+KhXizbwZQ+FcsGsi8E2x0J5cf5nZJQ+th+snPhIi12pZge9fpO8eY+NgSFWb6F6aBvKM7Fim6ZpO/2QLd66BlOsXTisFzXpNbzMTKNyDgAjGbwZ4AUnFGv5mPdkvdYIkffQbSYCL0eFQx3lAkf9Ma4r4rChE+ctYSyY2TcHHZK2su0rcvXUjLdBZUMN5Jm0XgM8lbm1cKMtpRwyLyXr53rVmGaLqDEvkkl72AlRbYYNGDzrHOsmonzbvbyRWT/YTIBRyr5x+iKEZWVakCNaqRWrF9OD5MRU7ouk8xE9WpRIqstDRsLY+bLXWOG/mEHqHhr6cL2Ij9TmprFV7JjZG2odKBMNm5crHhxDh+rFUwPUiNSv4K1jYicfoWYj6gW6ix1HNOzbqswWcY+4y8h2tzYBUR1Vz9US93kFTpfkwcbK3ozRU3jL9JRbd4H9cDfLnSOkvG6pxSYspy1tCuUc1iiLFD3d2XUC+mInyzg6PQFT5t263V2bdCUoGK0iULWm+tqu+mSbYdDSbLjoS1Kju5AZELbV48Ou0r7ewPyVA4ZR4qs0Tbg7fANxfi9fAvTIR/ZEJj45x2UU3R7Qg5hHWpxkkxPNiGa2qvZ6GAPTed+30jCMZ3b6vxnHT6T0Uyow9MRYoKq5E7TkmKTsARfaW7oaB2/SiasdxjQzl4eYSwD2DPcaEEFrgf1zKjYBQ0AAAC0m50LaiQSuZMDnzIHDldBffrpqsEUgGP3B8tcndVaQLOeDXfC0dKxuvoLzUUAAAALdi6oly5d+jsOfe0pDwjqDTnUvKW/pVPyj1QCfWV9bNhwJxwtHSCoAAA4sHNBbQbo8hURhhjNBz8VdveQnyGTyOSmxJJp7am6J5TtYbemBQAAALClWUE9ceLEH/7wh79tkW+++eb3v//9b3/7WxBUAAAA4NamKUH9c8rw8PBftMjvfve7AwcO/OY3vwFBBQAAAG5tmhJUFSyKbEZv64CgAgAAALc2LQgqAAAAAAB2gKACAAAAQBsAQQUAAACANgCCCgAAAABtAAQVAAAAANpAU4L6Jy2ys10gAAAAAODmpVlBHR8fz7qB7/F6vZ9//vnbb7+dTqfZwwAAAADwK6BZQW3G6MT3HD58+NKlS5lM5syZM59++ilzAAAAAIBbnZYFtV6vr6ysLC8vf/nllwmRt956SxVUfBvW1Pfee++LL764fLn9PyQJAAAAAHuN1gT1ypUrFy9efPfdd0+cOPH000+zbZA07r33Xl1QMd99910gEFhcXFxfb/6nrQEAAADgpqQ1Qf3hhx+i0ej9999/xx133HbbbUxINQyC+ssvvxSLxWeeeWZ+fl69AgAAAAC3Kq0J6oULF95555377ruPSagIVtkHHnjgpZdewsYrVtbnn3/+sccew8/if8+cOaN6BdwcrG6kT5d9nShxkV34FVG/nJ+pBPtK8gK7AAAA0AytCerXX3/9xBNP3HXXXaqCPvTQQ6+99toHH3zwxhtvPProo/jK7bffju1XfMO+ffvuuece/dRlc3y0Hh9CHZ6SRyr5hqo5xH4NW2MLzVcC3eSnOve/XMmutuJa20iMaD6P1Ap1dlnD8VnnWDm71jZSEdTTSXzu6Eby1EY7f+n0mnO5uHI5NYwjvwcE1aVutB+0spFPlnHB7UhQt9C5KhZj/Lh0AAUn1hG7bgs6Fw/2deB3RzrgC07kTPej7FigpxM77/ePZVt01clFuz39ySI7s0dZSoSO7Jc8no6+UGLJps4qxcxEKNBLbnPxE+XiQz6atv2+obgxbfViRo08dn5ZTtkFp4Hmo4Fu7Bm+OZpdZRcZtXxiRAtoJGV6zY0UZmT/ARx9T0d3QJ4psKtGlOJcPDToJekcSDilUylmJ0K+Qcd7GNblhZYy6YlgD46Qpyu6yC6ayY11kVso8LW3N2lNUKenp1l5Up566qlvv/12c3Mzn8+/+uqr7Cqlo6OjV+PBBx90ElRlXe5FgdO1zFwtEaFNZ3clW2OOGDRT7pBQ/Pzm9vbVwlkkSSix0mhVHV2VxOtIThKfY4MIt3FdkXX+rXV61jlWLnFWUkdLPaO1ooJ921Iu1sLdJf/kTSWp29vFJM6xGy2obnXDxHpquh35fLHavyNBJT/q3luOTa1lZqoy/TH5HrHKGVDOyd7eQGwqk5lJyANEEXoiWe5+lB7ukI7G87jprRcSRyXpaIJr/p1ddZRshLTV7oK6GPNKPeEZchual3s8PfKCMe7oXKy/0yP1huILBeRUEDjYnNzrDZxOZebSiUg/SVu3zJUdiXDPaLqIxa+Osqd8kuSN2WsJmgl2SP74eaJBhbN+SfInVlQXTCHxul9OpjNzqdggSWmXkIdGipP+/QNyYiaTmYoFerFaSv6kKdtQLoaLQ/KGJrIF5FSj0PlMZjbmdxVdgnN5FRIv4Lh7PIMpXWgFVtNB8g3gkUbS1jcAe4DWBPWbb775U44333xTvaFUKoVCIVodGM8+++wZjUceecRBUIvJcmzpKjvZ3iokkeQpecc32IVaLSSVvB9qp9tKvK8kDdVYlXJ0RbPVTMOguZwaxA1cJctOXZ51jpVLnBcrXaIUYbX2DFSb+IDdQ+wFQXXJZxPKbNmfdGr+mmWHgqokRiv5hnmkJI4SKz++zM5NFBOjMe5+0sh6PF79fmU2JHm8sSV2ur0c93mk4DSr+86uOsXJQCCZCLsLaiHe5/EMp7XsUzKjkqc7mmOnhMI0tqIk3ymzGW1BMRluxA0/mySi4x1nCoKmAh5PKNMoKxp6X9zqgwC/qhmS1A/z7JTeLA0xXUGzqUwjQig1iJsfufGaG8nKo5wg1bJyN76fj8n29ko62O2RjkSbSidByYy4C6pbeRUTA8HQCM6kHksjtTDRHxoJ4rg209MA3ChaE1QDW1tb2DytVqtTU1OHDx8mQqrx3HPPffTRRxMTE+Pj446CupmeXBOaQKUWwoZIhE0Mps16ia9hRJy0RsrZ1UA2UvL0VfU31vFZ51i5xJkKaik0e4WdYp/HkTQqPrLn2QOC6pbPBlaqfqnUfwMFFdVSc0JvIxZ4XMds/UHp1JyYvlnyVardj1tYj+cgL2nUiGGq4+yqsZIIjGKxyMquDfGCjNtyQY/nsQpLYT2Gi1Fs/YkGtAMoPSmIFBYdkraIqnTF1FGjAhXO9tt1eBaTRid6s8/mNbcXZsxiKiU+VRj34rzh6jnpHheNaXdIoC6C6lpe+AY5SzNZGhGzDqNkwvjjZh4XIwjqnmZXgvrjjz+qBqgkSfv27SNCqjE6OoqF9ueffz579qyzhWpiXfbozeJmeoh846f4KjRPGqng9Kabq4GNeB+SF3SRa+lZDB8rMwZX0uXrkZA8T9fgrlQDfc4dlSJ0/HW/hKNX6hnkR3av5JNl3wFynQ0Js+vb26tr0ZdL2HqTDqDAUDlGWmQSJXInOTRdpDpBrthpEocmqFcLU2VfJwkxwPda4xAHaR8sHSSOLaoZu6Wos5kO4AfJ+LSfxrb/NO321CLZ0VdOc532rWBbCspixUdzjB1qAu0ieXE9pU65WlHSx0hXP1cxKExQG0nwjVTzWgmSLzM9IO2QhrVeE56FSiPzm2GBCB+7H6WJPXJUqKHZ4/hSkFhYzq4qSk7GbTSJtrug5k514ZZcPsdOCSsJomOnVAmgeiAF04bByxbg42BWFzXtHv+kOZIoPURcxFcVi70o/wxsvBp6qklHKxbInEWtIRC1lhoWLRVvC0PfGXdBdS8vKqjMwjZ+K2CDPjCF1CwCQd3L7FxQv//++/fff//hhx++8847cTHz9PX1ffbZZ/ie9fX1jz/+uDVBXa56pbL23iqJF3BrxfXTYkgjpfb7ObvqXEVLNflIyX+Wv9jksxpCrEyYXWvrci9pZ72vl0Nja2SgqEnIgyi+SJW4SAZfPd0VtS1A02UJG9ArV7Ek4Ia+pyEtpLM6NE0fUTZSQ5pJpD7uKXM9XOSjQTraMNMdUAU1fKqaWFBQcSM1gr3StWEj2l3qOr5GPK7Tjk1JzcmrCrqcpnfK45X4zEYRKelR0hMQGq/Kp2q5lc3CQgXbkR69074lnEvBKLd2kbyCiiySwdFKPEmU2DchNrdUUIORSjBSTc/VYq+TrmZSENQxO8H3617JRpDdyC7pmWglpdha0nsyVT3TTDoGabjVPmFnV4KSPRnSBhrdBZU27ryhhjOBBqFaS4tRorfD8fTpoI9M5yHTiNKNUcwmWI57G3pM+0hF2ShO+kkMLCKpDi6KvbhUWvQOZBW0lJaPdPnPGmo31mOJfApYFwOJSQ/7aMDkogeJnsanY0E6OUs64LeftdTAXVDdy0sV1G1lQSZZTfoVdHLRPpn0DICg7nl2LqjJZPLxxx/HBcxz9913Hzp0CDv99NNP+J7WBXUrN4a4YTDVzLKQPWqCOLsyeHuCmUqEpp7VMMTKgI3rai30GAlU6i1njDOTbSlMIF7Ri5NEjVSjmUyb6q5o40g0/iyq+G8UW9KCWK2ltD5GZRZrcCnc6IckUY0uNhUZZqHqjSbNHCbVylq4sxScYaa8oXPY+GCx6sc531Csrexxom2CddIUzqWAIXnSENQmItnINAOqoM7oZutVHDROfmjW8GVEh3XFWXIc69FuOydLctFubq4NbT2tmmDaJ+zsimtLMsCZWa6CSk1GS0GlOkHtNo9vJJVbJdmrLCfIiKjkT/H3O5Ib6xHm/qh9m0fYfF1lJRsfIlNYte5uHhJ5S0Hlk6+mndLRf9pgjiqKXa1ZTQX43l01yX2h1CKdiaSoo9qSld0s4C6obuVFi0BNIx1O9gRS2oejMhvqn6BZB4K659m5oGKNJNVBQ5KkJ5988pVXXvnkk0/0vR1aFtTlar9gP23ED1nLHlUdZ1eO+pXCHFseo6lL089ijLESsXRdqQZerxbqpL/Uiw2yznKqqYb1Mukr1uRfP6STnMZrqySJExPUOm7upU4UndkwfYUriQFu5Hi1FnyhKfMUY1AgnCLTsCLpO02w3mmToDaaWlHnSDuC7xdzvhmcS4FgDIjSZCRFzGOoNPlCQeDMPUf6CYJq34CRLWyetjRDqjDeL0gONunwe2Vn0zi7riRCJ/nBTldBVU1GWwuV+ix0CCszpAtT6xB2Yzneb5qBrK8XImtXplLRQ/hPSzuyECdO7hbqdl0pzMUCZJIRN/TrBE61V+gfpt5KJ7lE1WhXraF32oS7oDqXF0EX1G1lLoxlvGtMDbMQfyGUUSUfBHXP0zZBffHFF7/66ivmptGaoNbW5WONkSqKOtJZ5rs/1Ike3BiqnasJ2iZqItT0sxax4rB0Vdblbs76oZNl+PlQ9hD9M0mCDh3OPECWkeRX1zgLFXO1uFANYZXtRKGkIKvKApkhpTb62Pzlp0o5Y5Qcg8ag9djLpf0DlcSCok7msteqdgiqcykwTILaQiRFzIJKPRd6L3CUum1XxeBsD423sPhYWZBD43nhfnXUTZifosoeN4Zq40pbamtIolSl1KFKQMdQ9cadQjVAlczcSdzCi3KrRoAqhCE4Md9wRmXlY3GXsqMGq81yF3UMVZiIq87esh7ptOpctaSQDIVnRR/OkZlZomKpoYtybsJdUJ1Lk9AQVNpXgYWd9JDjiuHTv1pAUPc8bRPU48eP1+vGocIWBLW2EY9Ucqa3Tm34+Pccf/jrTaGzqwkiV7qR0dSzNrFi2LhSYRYEg3a92jffDahBOVwTmxUlNYWN5q3caSQdLGsLgUztO+EqWqwGOksdwgSZy+TT4WAlu7oW1kYBm8EoObzGYEu3s9GLa7jT+ODuBdW5FBqIAbUWSRGzoKJa0FPyT+rGKBmUtRuNVpaqcmNwwR1lKS4beykxtBv2ED9hldpqrOF2ckVLmcwcf8QCWC2Pp/Df+VUcXjHHu54rkqDpLN/QbCMWVLQkNRPQNJGDsLCFKLF6VWPOEBwJQqeWj0dibmVXcJ7xRDucBbE3Tc3lITkjWJlWoNmoPG0qPVX2jgt1k4ilJDt75y6oLqWJ4QVVXVbk8Y1nU4ONvl8Q1L3PzgX1woUL2CTVwafMgaNZQcUt5ojNPFjcLApzRsR1qM6uRjZih7gRRNdnHWKFsXelgiou3Vmueg2Tg2zIncJig4JTeqy20EyFxnkjerDkOb7GLguCuh7nuqnNcr69SHome7qRceqNIw6CiqZJAvXRvmsrqM6loFzhkiQE1GIkRa9Mgko+iRrzobZyp5DnYJmPVXaBfdxgNQ2NtaamoTHrtShYxiR+5o64ctHZVcR9UpJqFXFzYcR1qEomLInLOUhwTtv6ELCajkRty06lXkgNk9Wt0UX7PKN7GvjUcUSCsA7VRD52SFzKWVcMezOgWTk0aVJTAk21pHWxEkhYWu+rLXaCqnDfxm7lhQU1zL0U6vQoSVinROc2g6DuZXYuqDMzM8Mc+JQ5cDQlqLX16BEkT69l5vSjloiUY0z59HkfV7e3N/PjhjkgDq6b6WNkQ8GUOmNWIdNNfaf4ls7RZ+dYucSZzC/F5ktulW5KsLoeP1rqOdlcI0s7Ej10bUl4rBJ+HXlZpyI1XiUyARitrCfGkBcL6nCtMF/L4kckFJ5RFNJBsEkmnRq7l69kyKTWcuNT151NdR5s7DxNAg5+ButTyacq90JFwgo9WisgOqB7hN55biM9i12v5k4KD26fr+CoSiP6l4q6wwb+vNAL0R7nfMZWo8SvV6EfGQPVfHE9fnZNcYrkZuY4Pi2F57TufYNXVFA7BivZizhPt9D5qp9bWoN97vGIK22w9X+KCCpZvTNQSTdiS7dMet22Y0BZjPoG5DRn3pEtk16Pafdr++ngWKB83Ly3jpMrTzOCSnoXye5I8yQPijNhw05JqmtwqkAu0eBc1qTWctEj/fI0lzSyZVKgsR2SgvJz8VAvlu1gSp+KZQPZF4LtjoTy4/xOSSh9bD/ZuXCRFp1STI96fad4c7+QeEGY5VuYDvqG4lys6JZJ+m4PdKuHnuEUSycOy3VNaj0fI9OIjAPAaAYrqBSc0a86lhfKhA96Y9xXRWHCJ06ERtkxMg4LOyXtZdrW5Wspme6CSoYbSdNmPAZ5K/NqYUZbDjhk3svXznWrME0XUGLfpJJ3sJIiWwwasHnWOVbNxHk3e/kisv8wmUQjlfxjdNWHyko1oEY1UivWL6eHyYgpXVtJZpN6tSiRFZNmrZovd40Z+ocdoOKtpQvbfPxMaWoWX8mOkfWd0oEy2bhxseLFOXysVjA9SA1B/QrWJyJU+hWhT9WMaz6jWqiz1HFMz/atwmQZxwp/RdE+RrtIUt3VD9XKN3mFztfkwcZq4ExR+z64SEfEeR/UA3/30DlKxuueUmDKctYS2XeQbJRngqw41KkX0hE/WcDR6QueNu3W6+zaoClBxWgThaw319V20yXbDoeSZAc9W5Qc3YHIhLavHh12lfb3BuSpHCIfgu5oG/B2+IZi/F6+hemQj2wITPzzDsopuj0hh7AOtThJpiebEE3t1Wx0sIemc79vJOGYzm11/rMOn8loJtTh6Qg1BNW2vGhu6Ggdv0omrHcY0M5eHpd3B7hB3GhBBa4H9cyo2AUNAAAAtJudC2okErmTA58yBw5XQX366arhcx6O3R8sc3VWawHNqjPcCcd1O1ZXf6ElAADALcvOBfXSpUt/x6GvPeUBQb0hh5q39Ld0Sv6RSqCvrI8NG+6E47odIKgAcMuzc0FtBujyFRGGGM0HPxV295CfEpPI5KbEkmntqbonlO3R4iLRHXJdcwMAAOBa06ygnjhx4g9/+MPftsg333zz+9///re//S0IKgAAAHBr05Sg/jlleHj4L1rkd7/73YEDB37zm9+AoAIAAAC3Nk0JqgoWRTajt3VAUAEAAIBbmxYEFQAAAAAAO0BQAQAAAKANgKACAAAAQBsAQQUAAACANgCCCgAAAABtoClB/ZMW2dkuEAAAAABw89KsoI6Pj2fdwPd4vd7PP//87bffTqfT7GEAAAAA+BXQrKA2Y3Tiew4fPnzp0qVMJnPmzJlPP/2UOQAAAADArU7Lglqv11dWVpaXl7/88suEyFtvvaUKKr4Na+p77733xRdfXL5s/WOQAAAAAHAr0ZqgXrly5eLFi+++++6JEyeefvpptg2Sxr333qsLKua7774LBAKLi4vr683/tDUAAAAA3JS0Jqg//PBDNBq9//7777jjjttuu40JqYZBUH/55ZdisfjMM8/Mz8+rVwAAAADgVqU1Qb1w4cI777xz3333MQkVwSr7wAMPvPTSS9h4xcr6/PPPP/bYY/hZ/O+ZM2dUrwBH6sWFqvxySYpcC5ueej5QkhfYuROrG+nTZV8nSlxkF24y6pfzM5VgX3OJBQAAaAetCerXX3/9xBNP3HXXXaqCPvTQQ6+99toHH3zwxhtvPProo/jK7bffju1XfMO+ffvuuece/dRlc3y0Hh9CHZ6SRyr5hqo5xH4NW2MLzVcC3eQ3Mve/XMmutuJa20iMaD6P1Ap1dlnD8VnnWDm71jZSEdTTSXzu6Eby1EYzv+2prCrFcxUv9vMaCGrx/Fr6FMLxaUJjLhdXLqeGceRvVkFFKxv5ZLm5xJrZQueqWIzx49IBFJxYR+z6NQGdiwf7OvC7Ix3wBSdyprBQdizQ04md9/vHsi266uSi3Z7+ZJGdOYKW0tGX91vkW72Qjvj3SzimHT2DcnqFXXZDKS7EQ30Bp4q0mkuNBfu7SSY4lpe9V/ViRs0HnBEvy6mlpn9JdzUdlIyBovOJ0BGa0E5f8LRDrmooxexEyDeYaCJ/rcsLLWXSE8EeHKKnK7rILprJjXWRWyg7qtjANac1QZ2enmblSXnqqae+/fbbzc3NfD7/6quvsquUjo6OXo0HH3zQSVCVdbkXBU7XMnO1RIRKVHclW2OOGDRT7pBQ/Pzm9vbVwlkkSSix0lAvR1cl8TqSk8Tn2CDRkq7IOv+qOT3rHCuXOCupo6We0VpRwb5tKRdr4e6Sf7LJl3xdvjaCSlisdDWtMcUkzrEbIqjrqel2/LT4xWr/jgSV/DB7bzk2tZaZIQY9rjY9YrVpI8o52dsbiE1lMjMJeYAoSk8ky4WF0sMd0tF4Hje99ULiqCQdTRSYE8bZVUfJRkhb7S6oSjE3m0mMkptN+VZMHd3fH0mk5zKp0wEvVhvJn3DVVJTPzGZiR/Hd/XYVqTAVwr51DETTS0XkkMtOXpG094ymi/hzuY6yp3yS5I3ZyxIHedCQWGVB7pH88fNE7JTlVLDb0zGcdtBUdD6TmY35sTcDroLqXF6FxAs4Lh7PYMo6OKr9GGnEKT7AjaU1Qf3mm2/+lOPNN99UbyiVSqFQiFYHxrPPPntG45FHHnEQ1GKyHFu6yk62twpJJHlK3vENdqFWC0kl74fa6bYS7ytJQzVWpRxd0Ww10zAcL6cGceNYybJTl2edY+USZ6JbghRhtfYMVJsyEK6poLaiMTdKUJXZsj95AwVVSYxW8o2eDCVxlFjq8WV23laKidEYF5bavnv1sJTZkOTxxpbY6fZy3OeRgtOs7ju76hQnA4FkItyMoKosx71mQV2QwzMNn4nq4Jd8JNNMOeF42giqksPi5+kJTll9Blhh6RWaCng8IS4qhXifx9MXd/NUyZ3sl5OxfiGxuehBj3e88SjNZCk855xQJTPiLqhu5VVMDARDI7gC9FgaqYWJ/tBIEOd6s+UI3AhaE1QDW1tb2DytVqtTU1OHDx+mSsp47rnnPvroo4mJifHxcUdB3UxPrgm1VamFOEWhzXqJr2FEnLQGztnVQDZS8vRV9XfF8VnnWLnEWTUEQ7NX2Cn2eRxJo+Ijtvy6BXWl6pdK/TdQUFEtNScMDGCBx/WkdWFuApROiS01FQy9fcctrMdzMJpTzwjUiGFS4eyqsZIIjGKtycrNN8QXE6LGEHKTKVGfCvFDzdhklAUSuLkioWlscUn+pOixMxZeYdPZGJPCWZwCp75TDP4mCGDhNCT2nIwFTUx7Fn+LeIZcjMJsxDU3XMsL3yBnF6P4S0Uyf6komXB3NDePkw+CuqfZlaD++OOPqgEqSdK+ffuIkGqMjo5iof3555/Pnj3rbKGaIIqiNamb6SFiH6T4KjRPGrjg9Kabq4GNeB+SF3SRa+lZDB8rMwZX0uXrkZA8T9fgrlQDfUIntiOaoKL12MslbPh2CM9eySfLvgM45tqosHq5fjk/x2YzKYuV/s5SxyD7dFCWauQ6vr8ThU6VWxfUq4Wpsq+TBBfge61X16KDtK+bDhLHFtWM3VLU2UwH8INkfNpPo9p/mnaZ4kdYispprtNeB8fcJ9GkqYf6VWEX0MX1lDptakVJHyPd9VzhUpigNqLhG6nmtZwkX1d6QNohDWs9HzwLlev3YcELBkoTe+SoUEOzx/GlIGndnV1VlJyM22iS5N0KqgkiD1Kk0d3jhKWgKln5oMeDRYKdN4eVoJqESr3N459U00s6Wj3dco5/dy+mAoO0u9WQWPqgaOVT/yXZOZ7ugupeXlRQt1FqEF/0GUwCbIUHppAaPRDUvczOBfX7779///33H3744TvvvBMXM09fX99nn32G71lfX//4449bE9Tlqlcqp1fVEyXxAm7puH5aDGng1P5VZ1edqwiLypGS/yx/sclnNYRYmTC71tblXtJGe18vh8bWyOhOs1BBfb0SH6/li5uFhQpWBX3SL5ouS9iGXrmKFQXrRI+m4gq6jLAa4QcHy9GxanwYeaQy/solw4ESCs9QXS+SoVwcpZYENXyqmlhQUHEjNYKf1XVlI9pd6jq+RpqCOu0UldScvIpjkqZ3yuOV+MxGESnpUdITEBqvyqdquRWSImyDevROeyOGTxO7gK6gIgsoOFqJJ4kS+yb4JpMJajBSCUaq6bla7HXSLe/prqgtY3aC79e9ko0gw8i9DuldsI1tmymMeyXdGFohbb1HFC3ScKt9ws6uBCV7MqQNc7ZbUJVMyKZn0gIrQcXmKYnrWCoVUScTdfiG4uYZWUYsvKLdraICFSf9+JKWXpQewpYw952BTcNj6neGKbG0u1s0EHPEaPVgqXPCXVDdy0sVVGI6d+E4kH4FnVy0TyZD6yCoe56dC2oymXz88cdxAfPcfffdhw4dwk4//fQTvqd1Qd3KjSFuCI2qi5XsUfPF2ZXB2yLMVCI09ayGIVYGbFxXa6HHSKBSbzljnJnsAI3Y8TV2hoV/oKSPv5KZU92VPP2b3dmILT0drnHxoGo0xiVnoYJFpSVBbUw8oZnDnlXWwp2l4Awz5Q2dw8YHi1U/zvmG2m1ljxNdtPnkJ6loCGoTAcWWbPJWFdQZ3Wy9iosJJyE0a/i6oUPg4kw3jvVot51T28lFu7mZPrT1tGqCqQA4u+KqkgxwllabBRUbTOLkKUesBJVGtct/KlOgwobm6KCswY40Y+XVttpNeiSapV+0yko2PkRmw3JJUJSGt0o20t/4FDAmlqovHdYlTygoPyP7sF9undvugupWXrg6q4KKi46MAXsCKe0DXZkN9U/Q/ibqCQjqXmbngoo1klQHDUmSnnzyyVdeeeWTTz7R93ZoWVCXq/1HG8OcpJ/2kLXsUTvS2ZWjfqUwx5bHhNkIWdPPYoyxErF0XakGXq8W6qS/1IsNss5yqtlG2SCTVH4ME5q0RZY4tkZB5b8GzhH5DM9z4e5mDHXF/Czpd01E0H7ST2sS1EarJ2okaUdMOd/AeDOlyYBEzImlSZBOclmEW6tzxNAPTlMj3sgWNk/bM0OqCQrj/cKAIrWWbG0aZ9eVROgkL3htFdRaJtSrWXjNYKGCtB/V4+c7QPMfkgSZJ1UJWAoqlkFt6VFHd0CeSkUPEZ84k7QBtv9CfCabE6uvDpL2+4Zi6QkytbbrlEvPtLugOpcXQRfUbWUuTAIdUwMtxF8IZdTcBkHd87RNUF988cWvvvqKuWm0Jqi1dflYY5SLoo50kt5LHXWSCDeGaudqgranmuQ0/axFrDgsXZV1uZuznOhEG34+lCNGXSTy0xBUOqJ5gKzYya+uiXcaH6R6IyrKbgTV8Cwd4t0/UEksKOpkLnud252gthCQiEVijVlEiq/bdlWMslAJjTe1gHj3kIZ+PC+EpY66Cd2PavcmN4Zq46qaPpaQDKEq0sCgBC6CWkgcC2fEsQ9DcMZnrQSVzCQy9KMuRrFd6aIWNoIqQA3WLmsDWhVySyy9VQ1WtxCbEVTn0iQ0BJX2VWBFD6ZXScXw6XIOgrrnaZugHj9+vF43DhW2IKi1jXikkjPpltpo8gMk2GjQm1FnVxOk+1Q3UJp61iZWDBtXKsyCYOArkkPTL+AgqFu500g6WNbWAhnuND5YnMTJEXs42yWoq7VgZ6MX13Cn8UGTRrYgqK0FJGJOLKoFPSX/pG6MkkFZyabvQVmqyo0BgmuLshSXT5s7O2nrf4iftcvPrXVyRUuZzBx/xALYFDqewn/nsRYqxRzveq4oBO0kqCgzZrGlgyE4EgSPlQrmThH1FFay0nC1mUQ2uAtqgc4hIlJkhVI8J0Q1MxnGhmPgQ/x3TswFgjIfxrHscTNPMe6C6lKaGF5Q1bVAHt94NjXY6PsFQd377FxQL1y4gE1SHXzKHDiaFVSsTCM282BxkyrMNxHXoTq7GtmIHULRRc1wdH3WIVYYe1cqqOLSneWq11O27IMy4SCoG9GD/PCqi6DiQH2ekjTCjapSjTENIlrjIKhomiRQbw13K6jKlYabeHOLAYlemQSVfNY05o5t5U4hz8EyX4LZBZZ7WE1DY9dPTUNj1uORdGEJN91GXLno7CrSli5flImEUiY1dcdSBUlssWA09IX2c3LiYYmzoNYLqeEej+SLLorZWVdst4yw/3pA56Jkkexw2vJ7y4CdoCrcy+dWXlhQw9xXJlkR65EkYax6nizhAUHdy+xcUGdmZoY58Clz4GhKUGvr0SNInl7LzOlHLREpx5jy6XNGrm5vb+bHDfNHHFw308fIhoKpRWqRKGS6qe8U30o6+uwcK5c4k9lA2PTJrdLNH1bX40dLPSeba6CX6GTdxvoN/BFQIlN2SbtPJyhJKL54Ga2sJ8YQ2aRwuFaYrxFVUDu0B6rc9op08qqn5DtJpxnXL+cmyh0eMmk2v8zN0rBmU51DGztPk4DDniH94T51gJlObuoZrRUQHc09Qu88t5Gexa5XcyeFB7fPk80Usa5rKVJ32MCfFzSvsNUo8etV6GfBQDVfXI+fXVOcAtrMHMenpfCc1kVv8IoKasdgJXsRJ34Lna/6uaU12Ocej7jSZnUtfIoIKlm9M1BJN0qWbpn0ut0sql2hLEZ9A3Kat5lmEvLrMS0sbT8dnAKUj5v31nFy5WlBUNFMSMLm7Glt6hujkB72BSe4eNItk8LOQ56U/IdkWo9Z6QtJv4TFb4FeL6bD3e5rUu28IrOH5uKhXsnTHTRJfiHxgmGWL4eVoCorudRYfwdW5lPu844J9XyMTCMyBoFmyELbYGNDDMfyQpnwQW+M+xQoTJBPDu67HGXHyDgs7JS0l2lbl6+lZLoLKhluJM2i8RjkLMXtq4UZbSnhkHkvXzvXrcI0XUCJfZNK3sFKimwxaMDmWedYNRPnHe3lq86K0g6sBFQj2UFNsZVqQI1tpFasX04Pk9WlscUr1FYT72RsYhFVM4Gswlyq+g8gObnutoyHKrfmIbYXqU2pHcQIvpIdI2tDpQNlsnHjYsWLc/hYrWB6UIyYIUXUfES1UGep45iedVuFSaL6+EuI9qXbBUR1Vz9Uu9zkFTpfkwfVqUylnsFKpqhp/EU6qs37oB6RdXWOkvG6pxSYspy1tCuUc3Rqqwmy4lBHnyNjua+ss2uDJgWV3Mah90AWU3SLPiOG1Z9mqFw1MNpwSj4Z8h0gPnd0B6JzjtGz94qO4Er7ewPyVA5ZVGyrdag6BkFVQ+ns6R+KZS429coWk0K8+EzGnyYdno4Qt8OUXXmJg9BatiuZsL54hnb28lha1cAN50YLKgAAAADcEuxcUCORyJ0c+JQ5cLgK6tNPVw2mABxw7NljdfUXVnEBAABM7FxQL1269Hcc+tpTHhBUOG6lAwQVAAAHdi6ozQBdviLCEKP54KfCXluEwVrzYbemBQAAALClWUE9ceLEH/7wh79tkW+++eb3v//9b3/7WxBUAAAA4NamKUH9c8rw8PBftMjvfve7AwcO/OY3vwFBBQAAAG5tmhJUFSyKbEZv64CgAgAAALc2LQgqAAAAAAB2gKACAAAAQBsAQQUAAACANgCCCgAAAABtAAQVAAAAANpAU4L6Jy2ys10gAAAAAODmpVlBHR8fz7qB7/F6vZ9//vnbb7+dTqfZwwAAAADwK6BZQW3G6MT3HD58+NKlS5lM5syZM59++ilzAAAAAIBbnZYFtV6vr6ysLC8vf/nllwmRt956SxVUfBvW1Pfee++LL764fLn9PyQJAAAAAHuN1gT1ypUrFy9efPfdd0+cOPH000+zbZA07r33Xl1QMd99910gEFhcXFxfp7//DAAAAAC3Lq0J6g8//BCNRu+///477rjjtttuY0KqYRDUX375pVgsPvPMM/Pz8+oVAAAAALhVaU1QL1y48M4779x3331MQkWwyj7wwAMvvfQSNl6xsj7//POPPfYYfhb/e+bMGdUr4FdJvbhQlV8u+a/b79MBAABcd1oT1K+//vqJJ5646667VAV96KGHXnvttQ8++OCNN9549NFH8ZXbb78d26/4hn379t1zzz36qcvm+Gg9PoQ6PCWPVPINVXNoi11nbKH5SqCb/FTn/pcr2dVWXGsbiRHN55Faoc4uazg+6xwrZ9faRiqCejqJzx3dSJ7a+DUriXJxIz9f8e74B19dqsfNDToXD/Z14HdHOuALTuQQu6yDsmOBnk7svN8/lm3RVScX7fb0J4vszB5lKRE6sl/yeDr6Qoklm8JSipmJUKCX3ObiJ8rFh3w0bft9Q3Fj2urFjBp57PyynLILTgPNRwPd2DN8czS7yi4yavnEiBbQSMr0mhspzMj+Azj6no7ugDxTYFeNKMW5eGjQS9I5kHBKp1LMToR8g4736FjdjJYy6YlgD46Qpyu6yC6ayY11kVso8gK7COwpWhPU6elpVp6Up5566ttvv93c3Mzn86+++iq7Suno6OjVePDBB50EVVmXe1HgdC0zV0tEaLvZXcnWmCMGzZQ7JBQ/v7m9fbVwFkkSSqw0mlRHVyXxOpKTxOfYIMLa1hVZ599ap2edY+USZyV1tNQzWisq2Lct5WIt3F3yT96kkno5NdWWIfB1eWeC6lY9bmqUc7K3NxCbymRmEvIAUYSeSJbLI5Qe7pCOxvNYiuqFxFFJOprgmn9nVx0lGyFttbugLsa8Uk94htyG5uUeT4+8YCwvdC7W3+mRekPxhQJyLgUlJ/d6A6dTmbl0ItJP0tYtcwVHItwzmi5i8auj7CmfJHlj9lqCZoIdkj9+nmhy4axfkvyJFdUFU0i87peT6cxcKjZIUtol5KGR4qR//4CcmMlkpmKBXqyWkj9pyjaUi+HikLyhiWwBOVVadD6TmY35XUWX4nhzIfECjrvHM5iy/jBaTQfJN4BHGklb3wDsAVoT1G+++eZPOd588031hlKpFAqFaHVgPPvss2c0HnnkEQdBLSbLsaWr7GR7q5BEkqfkHd9gF2q1kFTyfqidbivxvpI0VGNVytEVzVYzDWvmcmoQ24uVLDt1edY5Vi5xXqx0eVDiIjvDYLX2DFRd37e9yHLVF7mRguqS1Tc3xcRoLN8wp4jGeDze+DI7V2ZDkscbW2Kn28txn0cKTrO67+yqU5wMBJKJsLugFuJ9Hs9wWishJTMqebqjOXZKKExjK0rynTKb0RYUk+FG3PCzSaIj3nEmXWgq4PGEMo3qQEPvi1tbi7UMSeqHeXZKb5aGmK6g2VSmESGUGsTNj9x4zY1k5VFOkGpZuRvfz8dke3slHez2SEeiTaWToGRGmhJUit3NxcRAMDSCM6nH0kgtTPSHRoI4rs30NAA3itYE1cDW1hY2T6vV6tTU1OHDh4mQajz33HMfffTRxMTE+Pi4o6BupifXhFZWqYWwFaI14sUksSz5GkbEyYPURsfZ1UA2UvL0VfU31vFZ51i5xJkKaik0e4WdYp/HkTQqPnJTUFuXu7l07YqdCapbVt/UoHRqTkzcLPkq1XrzcAvr8RzkJY0aMUx1nF01VhKBUSwWWdm1IV6QcVsu6PE8VmEprMdwMYqtP9GAdgClJwWRwjpC0hZRla6YOmoUlcLZfrsOz2LS6ERv9tm85vbCjFlMpcSnCuNenDfc5y/pHheNaXdIoM0Kqt3NuEDlLM1kaUTMOoySCeOPm3lcjCCoe5pdCeqPP/6oGqCSJO3bt48Iqcbo6CgW2p9//vns2bPOFqoJvuXdTA9hsxKl+Co0X8ZCGJzedHM1sBHvQ/KCLnItPYtx1gODK+ny9UhInqdrcFeqgb7meykvZ8fQfomMF3oHy4HTVDlWN9ITZf8BbPVeySfLvk7i6j+9zn1ok6Fi8pSnJB1AoWktJjUlmySDxLiNVpaqoT5yg/dYjTQ32ugyvj+22ND+BhdrQTq6zA7VwrYLaHUjk6z4D+CAruROE28Dxi5ulkV6NPhBa/Xjxnh0V3SThGNnwnyTsECEjzXuKE3skaNCDc0ex5eCxMJydlVRcjJuo0nFcxfU3Kku3JLL59gpYSVBdOyUKtlUv6Vg2jB42QJ8HMxfA2raPf5JcyRReoi4iK8qFntR/hnYeDX0VJOOcSyQOZsqQ9Raali0VLwtDH1n2iaozMI2fitggz4whdQsAkHdy+xcUL///vv333//4YcfvvPOO3Ex8/T19X322Wf4nvX19Y8//rg1QV2ueqWy9t4qiRdw28r102IWKri1pZ1+zq46V9FSTT5S8p/lLzb5rIYQKxNmV2zb9RJV8L5eDo2tkYGi5ihMoK6RGr2/XpgsdxFT7KqCLmeOY99Q+GQ5NFHLzFRD1POeU2pUL5OPg4EqnYuxmY0QO5s2ylsK2sx9SLQqOFaNTa4X0OUctpU9Jd+paixSzSxdLi6R8V3PwYrQtDVQEgO8OWgXUB2tsoACw5VosoqV2GSRUyE8XgkNVVL6aKiWacXJarrROU/7dcWR8gbOBXGTg60lvSdT1TPNpGOQtljtE3Z2JSjZkyFtoNFdUKkY84Ya/qKiQajW0mKU6O1wPH066CPTecg0onRjFLMJluPehh7Tbk9RNoqTfhIDi0iqg4tiLy6VFr0DWQUtpeUjXf6zBusU67FEPgWsJZLEpId9NGBy0YNET+PTsSCdnCUd8NvPWmrQPkHdVhZkktWkX0EnF+2TSc8ACOqeZ+eCmkwmH3/8cVzAPHffffehQ4ew008//YTvaV1Qt3JjiFtcQVphS9mjrbyzK4P09JLbyNF/Wp+U1NSzGoZYGbBxXa2FHiOBSr3ljHFmsi04ttywbmNCELXhUOy8NppYWwsfxJ6X6WtHPg56TmtP0VQ0JgHS0/C8HoF1GduXo2vsDDdXtKNb+PxvYBBU94CCM1bGLoFkOJe0reJU2XI0VFmo9Hj4vgQe54K42clFu7m5NrT1tJJM2ifs7IqLNRngzCxXQaUmo6Wg0qaf2m0e30gqt0or3HKCjIhK/hR/vyO5sR5h7o/at3mEzddVVrLxITKFtVGdGpDIWwoqn3w17ZSO/tMGc1RR7KrMairA9+6qSe4LpRbpTCRFHdWWrOxmgTYKKi46MpzsCaS0r0ZlNtQ/QbMOBHXPs3NBxRpJaq+GJElPPvnkK6+88sknn+h7O7QsqMvV/qONYU7ST3vIWvZoQ+zsylG/Uphjy2PCc6q12PSzGGOsRCxdV6qB17Eld7UwVfZiAesspyztLRPKuQq+v3+sVhAXh6iCyrd3hXFiEQp9dKsb6dO0Q9ikc1w7ZdBIC585jDczmgrIALVQBS1cC+PPl6PiXK2LVb+kW94mnAviJqcw3i9IDjbp8HtlZ4M6u64kQif5wU5XQVVNRlsLlfosdAgrM6TLWesQdmM53m+agayvFyJrV6ZS0UP4T0s7shAnTu4W6nZdKczFAmSSETf06wROtVfoH6beSie5RNVo17qhd9pEWwV1W5kLYxnvGlPDLMRfCGVUyQdB3fO0TVBffPHFr776irlptCaotXX5WDUvjDWqI52qHcZQZg1jqHauJlaq/Q0DtOlnLWLFYemqrMvdKLakKeIKEQl+PpQLxfU4Hd30jVTzmqyaZU8dd2QCVldSI2h/bzk2s4HmRGFrr6C2EJABs6BSz4XJz0riaEmyk0zngrjJURbk0Hiezx02SirMT1FljxtDtXGl+mcNKSBVKXVo407HUBsTjAlUs1XJzJ3ELbwot2oEqKIbgjPWgVpWPhZ3KThqsNosd1HHUIWJuOrsLeuRTqvOcEsKyVB4VvThHJmZJSqWGroo5ybaK6i0rwILO+khxxXDp3+1gKDuedomqMePH6/XjUOFLQhqbSMeqeRMb53a3PPvObXMmAA4u5ogLbh0kslDU8/axIph40qFWbB98RXJNlY2rK7HB4lpy0YZTbLHXdmI9Za6jq+xtsEgbO0U1JYCMmAW1I3owUZxbG9fIYOydmtMnQviJkdZisvGXkoM7YY9xE9YpbYaa4udXNFSJjPHH7EAVsvjKfx3HlcnpZjjXc8VSdB0lm9othELKlqSWqBomqhnWNhClFi9qjFnCI4EoVPLxyMxt4IrOM94oh3OgtibpubykJwRrEwr0GxUnjZ9ualfCccF9ST6J8nO3rVbUNVlRR7feDY12Oj7BUHd++xcUC9cuIBNUh18yhw4mhVU3FyO2LSkq7WgVPJN6O+5uA7V2dXIRuwQii5qhqPrsw6xwti7UkEVl+4sV72ess20CIHsBGef0SUiaotmkr16ZlSzeukqncYo6S4FtX5FaXwXiTe3FpDBK5OgLld9nkZxoGn6zcF1jBcX1lnL4VwQNzlYTUNj1mtRsIxJ/MwdcaWps6uI+6Qk1Sri5sKI61CVTFgSl3OQ4Jy29SFgNR2JuhRcvZAaJqtbo4uWeUChexr41HFEgrAO1UQ+dkhcyllXDHszoFk5NGlSUwJNtaR1sRJIWFrvqy12gqrULBJlL6hhTsnV6VGSsE6Jzm0GQd3L7FxQZ2ZmhjnwKXPgaEpQa+vRI0ieXsvM6UctESnHWFOrz/m8ur29mR83zP90cN1MHyNrM1KLdO2KoqRHke8Uv1OSo8/OsXKJ80a0m3Rd5lbpHCJsax4t9ZwUNmmyg0xKOl4r1PCDZFvEHk2Yqezpuy/VizPlHgmx4C6SrmwSXHGzsFCN0j2hglNKdgaHuFWcFPuxUS3owUpc0fYTuJo7WcKCqk132oh18+tVqKAeLGeKSvp0reAU0NXCBDntb3ygGLwigir1llNLtDiKdPcoXV9pr7gw20jBJqm6UMc5q29ulMWob0BOc+Yd2TLp9ZjWfmv7H+HCQvm4cS8kZ1eeZgSV9C6S3ZHmiU4VZ8KGnZJU1+BUgVyiwbmsSa3lokf65WkuaWTLpEBjOyQF5efioV4s28GU24Rhsi8E2x0J5cf5nZJQ+th+snPhIpVXpZge9fpO8eZ+IfGCMMu3MB30DcW5WNEtk/TdHuhWDz3DKZZOHJbrmtR6PkamERkHgNEM/gyQgjPiVZubt1EmfNAb474qChM+cSI0yo6RcXPYKWkv07YuX0vJdBdUMtxI5rYYj0HeyrxamCFrHPF135B5L187163CNJs4Q9d0VlJki0EDNs86x6qZOO90L9/sGPIeoktK8IN95YQWZ9WODJ1kKdp/pJxY0ufBbhUmy2RtaCeSZy4Ty7uz1DFAOkj5Gc7E0KRGpHZgq5SInH6Fmo+kU1fqreoLQJUFMkkKxyRNPjXsAqK6q3vFhkWNXm0X12JDLE9I/PXisMtP7E9T1eNmRTmHJcoCsuJQp15IR/xkAUenL3jatFuvs2uDpgQVo00Ust5cV9tNl2w7HEqSHQ9tUXJ0ByIT2r56xErDofQG5KkcanRjOKFtwNvhG4rxe/kWpkM+siEw8c87KKfo9oQcwjrU4iSZnmxCNLVXs9HBHprO/b6RhGM61e7oBnwmo5lQh6cjxAmq3c00N3S0jl8lE9Y7DGhnL4/QFQTsGW60oALN4TjSCQAAANx4di6okUjkTg58yhw4XAX16aerRuMDDvFQM4oXVMMNv9rjv/93c5cDAADADWPngnrp0qW/49DXnvKAoO7+oPm0qe6UpI50Gm741R4gqAAA7Cl2LqjNAF2+IuJYo+kQV5XoCCOd/ARdAAAAYO/QrKCeOHHiD3/4w9+2yDfffPP73//+t7/9LQgqAAAAcGvTlKD+OWV4ePgvWuR3v/vdgQMHfvOb34CgAgAAALc2TQmqChZFNqO3dUBQAQAAgFubFgQVAAAAAAA7QFABAAAAoA2AoAIAAABAGwBBBQAAAIA2AIIKAAAAAG2gKUH9kxbZ2S4QAAAAAHDz0qygjo+PZ93A93i93s8///ztt99Op9PsYQAAAAD4FdCsoDZjdOJ7Dh8+fOnSpUwmc+bMmU8//ZQ5AAAAAMCtTsuCWq/XV1ZWlpeXv/zyy4TIW2+9pQoqvg1r6nvvvffFF19cvkx/UBoAAAAAbmlaE9QrV65cvHjx3XffPXHixNNPP822QdK49957dUHFfPfdd4FAYHFxcX0d9nMHAAAAbnFaE9QffvghGo3ef//9d9xxx2233caEVMMgqL/88kuxWHzmmWfm5+fVKwAAAABwq9KaoF64cOGdd9657777mISKYJV94IEHXnrpJWy8YmV9/vnnH3vsMfws/vfMmTOqVwDQIvXiQlV+ueS3/m07AACAvUJrgvr1118/8cQTd911l6qgDz300GuvvfbBBx+88cYbjz76KL5y++23Y/sV37Bv37577rlHP3XZHB+tx4dQh6fkkUq+oWoObbHrjC00Xwl0k18D3f9yJbvaimttIzGi+TxSK9TZZQ3HZ51j5exa20hFUE8n8bmjG8lTG7eIGtSVdATtl0i6egYr6RXyg+fXFOXiRn6+4rX9sVg3XKrWjQediwf7OvC7Ix3wBSdyiF3WQdmxQE8ndt7vH8u26KqTi3Z7+pNFdmaPspQIHdkveTwdfaHEkk2GK8XMRCjQS25z8RPl4kM+mrb9vqG4MW31YkaNPHZ+WU7ZBaeB5qOBbuwZvjmaXWUXGbV8YkQLaCRles2NFGZk/wEcfU9Hd0CeKbCrRpTiXDw06CXpHEjYpdOt+AxYlxdayqQngj3YF09XdJFdNJMb6yK3UOQFdhHYU7QmqNPT06w8KU899dS33367ubmZz+dfffVVdpXS0dHRq/Hggw86CaqyLveiwOlaZq6WiNC2r7uSrTFHDJopd0gofn5ze/tq4SySJJRYaTSLjq5K4nUkJ4nPsUGENaArss6/tU7POsfKJc5K6mipZ7RWVLBvW8rFWri75J+8BSSVpKs/Uk3PraVOl71YVsWyMHE5NdWW4XPyE+s7EVS3qnXDUc7J3t5AbCqTmUnIA6Rd7olkuXSi9HCHdDSex01vvZA4KklHE1zz7+yqo2QjpK12F9TFmFfqCc+Q29C83OPpkReMeY7Oxfo7PVJvKL5QQM45qeTkXm/gdCozl05E+knaumUu80mEe0bTRSx+dZQ95ZMkb8xeS9BMsEPyx88TDSqc9UuSP7GiumAKidf9cjKdmUvFBklKu4Q8NFKc9O8fkBMzmcxULNCL1VLyJ03ZhnIxXBySNzSRLSBbz9yKz4BzeRUSL2APPJ7BlC60AqvpIPkG8EgjaesbgD1Aa4L6zTff/CnHm2++qd5QKpVCoRCtDoxnn332jMYjjzziIKjFZDm2pBs6W4Ukkjwl7/gGu1CrhaSS90PtdFuJ95WkoRqrUo6uaLaaaVgkl1OD2K6qZNmpy7POsXKJ82Kly4MSF9kZBqu1Z6DqbiDscRYq4Rn88cFQFio9WKJGarYtyHLVF7mRgupSTDeeYmI0lm+YU6SR9Xi88WV2rsyGJI83tsROt5fjPo8UnGZ139lVpzgZCCQTYXdBLcT7PJ7htJbLSmZU8nRHc+yUUJjGVpTkO+VqhxGKyXAjbvjZpJ+kbZwpCJoKeDyhTKNIaeh9casPAvyqZkhSP8yzU3qzNMR0Bc2mMo0IodQgbn7kxmtuJCuPcoJUy8rd+H4+JtvbK+lgt0c6EnVLp0vxGXArr2JiIBgawT70WBqphYn+0EgQx7WZngbgRtGaoBrY2trC5mm1Wp2amjp8+DARUo3nnnvuo48+mpiYGB8fdxTUzfTkmtBSKrUQbqa1hriYJJYlX8OIOHmQWmudXQ1kIyVPX1V/Yx2fdY6VS5ypoJZCs1fYKfZ5HEmj4iM3IbnJRu5RNuKHSrYfCrV1uZvLk12xM0F1K6YbDkqn5sQIzpKvUq03D7ewHs9BXtKoEcNUx9lVYyURGMVikZVdG+IFGbflgh7PYxWWwnoMF6PY+nO0wHhQelIQKSzQJG0RVemKqaPGftTC2X67Ds9i0uhEb/bZvOb2woxZTKXEpwrjXpw33Ocv6R4XjWkbXIrPgGt54RvkLM1kaUTMOoySCeOPm3lcjCCoe5pdCeqPP/6oGqCSJO3btw8Xts7o6CgW2p9//vns2bPOFqoJvvXcTA9hsxKl+Co0X8ZCGJzGppKzq4GNeB+SF3SRa+lZjHObbnAlXaMeCcnzdA3uSjXQ13xP4+XsGB2kxNbzYDlwmrb+qxvpibL/ALZ6r+STZV8ncfWfXuc+tMlQsTq0KR1AoWktJjUlmySDxPglV5aqoT5yg/dYjbzD2ugyvj+22ND+VlASAyXJUp8u1oJ0ZJodqujaRXJ1I5Os+A/gSF7JnSZRChi7x1n26kngB7zVDyPj0V3RzRmOnQnzdWSBCB9r3FGa2CNHhRqaPY4vBYmF5eyqouRk3EaTiucuqLlTXbgll8+xU8JKgujYKVUCqB5IwbRh8LIF+DiY1UVNu8c/aY4kSg8RF/FVxWIvyj8DG6+GnmrS0YoFMmdT7EStpYZFS8XbwtBvCr74DLiXFxVUZmEbvxWwQR+YQmoWgaDuZXYuqN9///3777//8MMP33nnnbiYefr6+j777DN8z/r6+scff9yaoC5XvVJZe2+VxAu4feT6aTELFdxi0o47Z1edq2ipJh8p+c/yF5t8VkOIlQmzK7bPeknL7n29HBpbIwNFzVGYQF0jNXp/vTBZ7iJydVVBlzPHsW8ofLIcmqhlZqoh6nnPKTWql8nHwUCVzsXYzEaInU3f6i0FbeY+JHoTHKvGJtcL6HIO28qeku9UNRapZpYuF5fI+K7nYEVo2pqEGHwoumg3hkrkljMH7SJZR6sskoHhSjRZxUpssuapEB6vhIYqKX00VMvw4mQ13ejYp/26diO7zoW4B8DWkt6TqeqZZtIxiPmldio6uxKU7MmQNtDoLqi0cRfF4CINQrWWFqNEb4fj6dNBH5nOQ6YRpRujmE2wHPc29FjJjGCvBdkoTvpJDCwiqQ4uir24VFr0DmQVtJSWj3T5zxqsU6zHEvkUsJZIEpMe9tGAyUUPEj2NT8eCdHKWdMBvP2vJiFB8BtzLSxXUbWVBJllN+hV0ctE+mfQMgKDueXYuqMlk8vHHH8cFzHP33XcfOnQIO/3000/4ntYFdSs3hrgFEqQltZQ92lI7uzJITy+5jRz9p/VJSU09q2GIlQEb19Va6DESqNRbzhhnJtuCY8sN6zYm9VA7DMXOayOCtbXwQex5mb525OOg57T2FE1Fo9+Jnobn9Qisy9hGHF1jZ7gVoB3dwpdzc6Cpco84yUvEIKjukQzO2BnKpLC4bNkqTpUtR0PpsC7fD8HjXIh7gVy0m5trQ1tPqyaYdio6u+JiTQY4M8tVUKnJaCmotGOW2m0e30gqt0or3HKCjIhK/pSlNWZFbqxHmPuj9m0eYfN1lZVsfIhMYW1UiQYk8paCyidfTTulo/+0wRxVFLtiX00F+N5dNcl9odQinYmkqMOikpXdbEYsPgNu5aULKi46MpzsCaS0Lz9lNtQ/QbMOBHXPs3NBxRpJqoOGJElPPvnkK6+88sknn+h7O7QsqMvV/qP8QB0dpbO1I51dOepXCnNseUx4TrUWm34WY4yViKXrSjXwOrbGrham6GzYznLKaTZsA+VcBd/fP1YriAs8VEHl27vCOLHqhD661Y30adohbNIqrp0y6JyFz01Rq4V6nfuxjQExmoqkAWqhClq4FsafPkfF4duLVb+kW+0mnAtxD1AY7xckB5t0+L2ys2mcXVcSoZP8YKeroKomo62FSn0WOoSVGdKFqXUIu7Ec7zfNQNYXnJC1K1Op6CH8p6UdWYgTJ3cLdbuuFOZiATLJiBv6dQKn2iv0D1NvpZNcomq0q9bQO22FsfgMOJcXQRfUbWUujGW8a0wNsxB/IZRRXzQQ1D1P2wT1xRdf/Oqrr5ibRmuCWluXj1XzQhutjnSqdhhDmTWModq5mlip9jcM0KaftYgVh6Wrsi53o9iSpogrpKHn50O5UFyP09FN30g1r8mqWfbUsUMmQnUlNYL295ZjMxtoThSnayKoSuKYq9ltEtQWImnALKjUc2E+lJI4WpLsJNO5EPcAyoIcGs/zKWSjbsL8FFX2uDFUG1fV9LGEZLKqlDrUBqVjqHrjTqEaoEpm7iRu4UW5VSNAFcIQnLEca1n5WNwl86nBarPcRR1DFSbiqtN/rEc6rTpXLSkkQ+FZ0YdzZGaWqFhq6KKcm7AoPgPOpUloCCo1drGwkx5y7LNP/2oBQd3ztE1Qjx8/Xq8bhwpbENTaRjxSyZneOrW5599zapkxAXB2NUFaYekka+KbetYmVgwbVyrMgu2Lr0ititbqenyQmLZspNAke9yVjVhvqev4GnsxDeLUfkG9nBmrpN0NbkNALUXSgFlQN6IHG0W5vX2FDMrarTF1LsQ9gLIUl429lBjaDXuIn7BKbTU2OdbJFS1lMnP8EQtgtTyewn/ncXVSijne9VyRBE1n+YZmG7GgoiWphYKmiRyEhS1EidWrGnOG4EgQOrV8PBJzy/yC84wn2uEsiL1pai4PyRnByrQCzUbladPXlyp7xwX1JJ8LkuzgnU3xGXAuTQwvqOqyIo9vPJsabPT9gqDufXYuqBcuXMAmqQ4+ZQ4czQoqbvJGbFrD1VpQKvkm9OoqrkN1djWyETvETaJxfdYhVhh7Vyqo4tKd5arXU7aZriCQneBsLLrMQ23RTLJXz4xqVi9dpdMYJb22gno5E7Hvvq5fURrfVGJArUXS4JVJUJerPm4+FJqm3ytcrIoL66zVcS7EPQBujkNj1mtRsIxJ/MwdceWis6uI+6Qk1Sri5sKI61CVTFgSl3OQ4Jy29SFgNR2JumR+vZAaJqtbo4uWeUChexr41HFEgrAO1UQ+dkhcyllXDHszoFk5NGlSUwJNtaR1sRJIWFrvqwUOxYdRuEXabuWFBTXMKbk6PUoS1inRuc0gqHuZnQvqzMzMMAc+ZQ4cTQlqbT16BMnTa5k5/aglIuUYay71eZtXt7c38+OGOZwOrpvpY2R9RWqRrl1RlPQo8p3iJ9E4+uwcK5c4b0S7Sfdj7v/f3vnHNnLdB36aIkFhA26R5I9Jrn+YBx0KtUK6Qn6JSZNb8aCDRWcTm4kQLAvdnUpvfQotxDpah6js3qbMYI3S9DanY7ddlZWLdUcotqBykT2MK5RyEnkpOPKRPmyOQqFilJzqI7wK+PhjpdEuV9a99+YH3wyHQ1JLeRXt94PBQjNvZvjmkTOf+b5fu037EOFYc7TovujQf6cO6ZR0vipX8YFkWkS3LmaqPWP2pVohVXLzSPu4LVKVTT6ucFtercTonFDBBSWTwp+4X7hmrsdG1SCHTVzWB6TfzV4sYqHWuzs5oUgTKDjHXjWZMim8SEsYv68MsONVqFBPldIFRZqpyk6ZvCvPkVVf/eXGcioiVH6wlFynH1SgM08ZfqU16qbeRgoOSdWBOs5f0/1HycW8I4LEhHdkzp1zcf35rc+ng78slE80zq3jlMrSjlBJ7SKZHWmFPOILqbBlpiQ1Nbggk03041qMSa1mY2d8wiJzaWTKpEB9OiQF5ZcToUGs7WCyVYdhMi+ENjsSys+yMyUhabKXzFyYo2ZSCtK0x3uJjRdl8UlTL195MegdTzC5olMmGbM90Kke3BNJ7TrxZzUfk+r89aEUNigfTBnKdPy+UDp8yhNn3irkOa+5IzTKREk7LMyUdJzpWpWvrTJbC5U0N5L+KdZljI0y78opMk4Rb/eON87l2yx1X17UOr/QMZ3lJJli0EKTY51z1U6eDzuXbyaKPEN0WAg+cLgk6nlW48jQRe2Kes+UxHWjL+u+fK1Exnf2ICG1RyLvnqJrhFRysj2cSbBIA0F9wVEpEZWxpdUATTq4ltlfW+pDbkilLj9YMQaAKqukgxW+Clo/3CyT1LvG2bRmUeupDgq34uNaeZJrN77KZt8FPk9bP637ibKGFWUDGXFoUJOliJ8M4OjxBmcaZut1Tq3TllAxekch+8l19dl0yby1oXkyg15TlCydgagBfV49tZdT72BAWMiielWEE/oEvC7veJydy1deDHnJhMDkfJ4xIUmnJ2QwjUMtXCPdkxswh9rbmdiYm15nr3dKbHadLb8+lAq5OFeoLtSm35e5EVqv+FXSYaPCgFb2spiqc4Bjw/0WKtAenbd0AgAAAO8rhxdqJBL5IANe1RIYWgr19OmKNYCAxbyoBcUK1bIDLIdY/v7vG6srAAAA7onDC/XmzZs/ZTDGnrKAUO99oeV0W50pSW3ptOwAyyEWECoAAF3n8EJtB6jyNWNuL2xYmrRimlo62Q663cXU4Nq4HNnnAgAAnAzaFeqFCxdee+21tzvk+vXrzz333KOPPgpCBQAAAE42bQn1GcrExMQ3O+Tpp5/u6+t7+OGHQagAAADAyaYtoapgKWo9ejsHhAoAAACcbDoQKgAAAAAAzQChAgAAAEAXAKECAAAAQBcAoQIAAABAFwChAgAAAEAXaEuon+yQw80CAQAAAAC/vLQr1NnZ2Uwr8D4ej+cHP/jB888/L0mSdjAAAAAAPAC0K9R2gk68z2OPPXbz5s10On3lypVXXnlFSwAAAACAk07HQq3VapubmxsbGz/84Q9FM9/5zndUoeLdsFNffPHF119/fW9P/d+nAQAAAOAk05lQ79y5s7W19cILL1y4cOH06dPaNEg6v/7rv24IFfPWW28FAoFcLrezA/OqAwAAACeczoT685//PBaLffjDH/7VX/3VX/mVX9FEqmMR6nvvvVcoFB5//PGVlRV1CwAAAACcVDoT6s9+9rM//dM//Y3f+A1NoWawZT/ykY987Wtfw8ErNusTTzzxqU99Ch+L/71y5Yp6KgDohH1la0eMoN7RSkHbAgAAcEzpTKhvvPHGZz7zmQ996EOqQX/zN3/zqaee+vM///Nnn332d3/3d/GWD3zgAzh+xTs89NBDjzzyiLHaYnJ8tJMYRy6uyPFF73gli/a17Rr7aKUcGCD/K2fv2XJmu6PUgwNlRzjF/L+eY1WkJWAcj63uilN6rqaqck3bzFArrFZCwyVxS1tnuIvWq7GzRWFVWz8R3JVTZX8fKS7XABJStv97a1dRFHl9JzZU5EYOJdSaImEZ8yTD7rGytEn+e/ZjiJwS/H08vn1cAwEhJWtbDap5ccrbi9N7vKH5vLXQnVMPDgrzPnqzqvTHctr2ZqCVWGDAxXF879lYZlvbqEE/C6fhRO9U0u6OsEMpZOZC3jHR7htUCquJ0HDA7g4yg7KJcf2jxxNZ5h4mdJ4x52Jpv9DQWiI4TD+5zxucs+arAZSJBtw9JJ/+aMbYGa2npbmgu9VnZaP9ZBfKyXqwnBw6E+ri4qL2fVI+//nP/+QnP7l9+3Y+n/+DP/gDbSvF5XIN6nz0ox91EioW3iAKzFTTy1UcixCBDZQzVS0Rg1IlF48SN26TB/pVxPNI3KybzzkVK1OeLQXOl2NRbZHW2zxWEc8hYZ7kKj6G8BO5P7Jjelqh3fTSrfgoflgj6+NAUbJLt8RpctRJ+t0XrqHekbKYupVeKAcGiaX89v8jugZaqGa0P+8J8j+fH0aoSnK06ItUpOVbyZmSB2vV+ts4FhSu+XtHBDGVTi/EA4NYjLx/nnVqNj7Iu6elApYEyggDnDuSYQrdORWbJh0eCcWiMW2ZrT/EbUGpoIv3J26QveSrfp73i5tqCkYWz/mFeSm9nIyPkYd/v+Wz7EA30umluB9f1kiDUFE+vZSOj+I0XwuhKllh0BOYSaaXJTHiI/oaEJhHROcZcy6WtgtNWRM8g4H4QjqdEoURki9r+ZtA0oSLH03k8elqsjjK86Mi803L4pP4BBw3lrT/uG0piIsK/z6mpGb5Ae47nQn1+vXrX2T41re+pe5QLBZDoRD9OWh86UtfuqLziU98wkGohflSfN0IHfblecRzRc/srrahWg3xRc9lffVASQwX+XE9ynROxWxXQ5Fb9j9xx2PRUiVdD5T3kmPYH+VGPShLJRuhqmxUPCdKqDvCNFOw1R2BRPaldNPnx25i2KbEDsEhhbpaDqfwq5KGslp243e1qWpLB7y/ZIRp5vlYJVLkuJBRqvKsl+OCki4PZTnMc24jiHFOxWQvBRkjtqKaDvGc53JeWz2QE8McP65lDy0l0/WMouQYzqfQ3verpKfshEpRlvBzo4VQC/Ph+Lr2N0aeJ4L2zGoyOkTGnIul7UIriNPxfD0aJo7E+UpsaOsW8JXi0q1fyEbCy/HBRSPrBXEkGJrCZzB9gwbynC80FcTX5pvv/N0SeL/oTKgW9vf3cXhaqVQWFhYee+wx/GUbfOUrX3nppZfm5uZmZ2cdhXpbumYWnlIN4QdfROsYXJgncR77C8OhJHaY+qt1TsXvgeRZzBXdI6V4ard+01FaHWuCnGe40lAZR57aTYW6VfGdJKHmKklzycizpLiaPArvZCI49X4KNXvN8n3tJg5ddXx05JINpephBJMR8ANWVxolE8YxyrQqXOdU/AsUfXi1zxOIiJk2LpvWc5qqHOWreIu3yR3BccMJmzvCDrJzE6EerAqthIqka+bXNiVNXt4j9j+u1hlzLpb2Cw1JyWVzvsjLQbPKWOxLjjsVy2qrGBqS1rOKdxAyuRgOsfmphtdUJR0eiGVXcFmBUI819yTUf/mXf1EDUJ7nH3roISJSnenpaSzad9999+rVq84RagM7Alf0aXWJt6VxUqeaZH9CKzgoLAYXcfDhnEqiKDFaCgzRamSuyA+W0vVW0lbHmsDBFhJW72hrLF0W6p38fMnbo70EBKbp07+2l09VQmdJ/aqyXgkNk9Tes2WmpZkeRZs2teZedXPtjrxaEcaQC7+d6O3BuBAkUu2pfxBf9M+Yq7LbhryR8LbKVKQJ8rKiL2r5NMvkXn65Ipwt8pEdJVf29RRdY9YXF02oxiX0odiKPriZFjLzWeqC4je0dAZFHCGfoq0dV4jVeD3AysX68eP1IvMQVp/C6nPZORWvpGLhcZ+Hts5ynCswZ9PCyoCkcbyb33xHYEFzTBRlgINXt7Da7g/n3oTaSIYcY++VxoyRilZuQMjq25yLpcNCM+NwLUgi0eWoqXQz5/GmoP5CRIWqRdjWlxi0EAgsIHp+EOqx5vBC/ed//ufvfve7v/M7v/PBD34Qf80sw8PDr776Kt5nZ2fn5Zdf7kyoGxUPX5K03hCK+CR+Ppqf2sRhap2wcypDbS8dtbTOtnks6VsknCn6r5pPaNBVoSrLJX6knCemvItWy141nKreLiyV+vFLxvlyaKoiLVcTk6RWHF+L+txEiyUeB9akxw3pY+U2XkeUOyhX9uI9J8ri5Upm83YhV/HzONTGq+XE8m6hsJukDb22VUytqKWniu5LTYpF1S1TvM0yqaA9LZNjpVi0ksAm5q3VyESoT5aEqVJ84ZY0T6SL8xxcpE7dqiSYet2DTXKB9i27pOYDxXLGW8jxhNSOui/pjqQ+Mz9AaaCj1gk7pzKgG2LIpnXWgtqGZ64spU9wo3JVBa1Lwpl+/1WHU1npslA3Eh4+qD8i6jTJGH5R4Dm8f8NbgXOxtFdoJuRZj1FDbmWTBL6WqJoUS72KWBXqgbIqkPcko5qBkI0NC6RtFoR67Dm8UOfn5z/96U/jL5jl137t14aGhnDSO++8g/fpXKj72ShiHogkWrXVHq0Tdk61oLXOeufUk7d1rFpjrC4+20iuq0IlEpowGvn2swtV7dahp/LMGPa6kzlPshRaIg04pDvVQFlv+KLXVb8Eunr+lraGb82L+MBS2mj42SRn9l/TA7722a4GzH3HLFiE2jqT9Qu3Qr6FIeNYfOpqEL8WDDXUwNNmXbel75gOWig1SzpGbCcDTHcbta+pnTKJgZxTraits3y4oTLRgIR9tkJlNUAdoOLyzRhRXwu6K9Rs1N0oOceMKUqzjDoXS+tCY8nGBtg+XGYaShKj5ll/RGhCxfdKYhhvDiT1NwZlKeSbo9cLQj32HF6o2JHk56DD8/znPve53//93//e975nzO3QsVA3Kr5R9kFJ273stEfjSOfURmjfIq3bUdvH1u7Iy9rQmvByvQeCRleFerBVDfQUPZOVTME8wIOeSq8Gp9AeT/xF5r2B1AyXg7RC2Ooq5hXB4jmbM7fFnfRUkzpwHesHqbSXSQsNbaj79H3CXF1P+/QaUbuVajU06KT/4wEOTz1sdaXaJtcsBnVOtYFUETuMypATQ/jY1hHqQU2Rl+MB0nmKD5sbEZvRTaFuJHymzrEMnWeM4FwsLQqtjjzrc4plcVSN89VGhIqhncu4/qhWc594MpRWf7og1GNP14T61a9+9Uc/+pGWptOZUHGEMVnJm556akunqQ6Qdqxl21CbpdpAnvLaFAEdHksjOZuHfneFikG7UpQMnew9W04bWm3UHt2i5+euvFDy9pGhR/ntWzbBH5PtbggVx/ql8FKLoLZBqB1k0kKDUNWTs8VOqx+ajopRxEm2+fyYIs+Hwkvm+kLaSmr2GdUe04baNNUGHIPywhr9Uw2YDMiDXm1DNclYdbZdG6qlDlMVuYFVkF0TKg4ZJxPmR0QDdpWrjjDFYoNzqoayKoRmHVtb1TZUU28j2vnZ2oaqgoNd/FZAqrXxmb1GEwAI9djTNaGeP3++VrMGcB0ItbqbiJSzDbeK+uhkm+jZzqXOqY3IV5Fe5dvpsbRLCxsRqnRdqCqKIp0nhoirbX5NhEq37GdnEH+qpA/yscip60LdR0tlYbH1/uYP6iyTFhqFmr1U5Ph6MEqHxDSLmPfS0TLth3WsQUsxYbExvqH9eNmnMO3gymu2cE5tJBM2ai+38+nldH1ZJw91WodsGvVh7nJsgUhU7xKlFNaYsy1nC+YfSHeEWs0nIvHGR0QDbMbagSkWG5xTCcp6Qmhd+03fOYbY7sf07adeLKxQSS8k/FD1zmaSY/W6XxDq8efwQv3Zz36GQ1IDvKolMLQrVGzTqSY1ctukwcywIP71mkaaOqdaUcRRo7tTp8fuxofsurR0VaiFaxWtbodAKqU11TVoj3Rf0t4GdmOn2FbSIxUqsWnoWrOd7yrVek21+YM6y6TlVA1C3cXfVL0/FP0efVeZXG3tZLRvZC8dKSV/CWwqhK7Z1xZmL7nZNjzLSFPnVAvKSrge69hCpw7wqs11BNM41Aby8aGmn2WhC0LFNp2KtVdp35CxmoKa/8Cdi6VloWGbhqJNJ3NQmI4BaJGUbv19xWYcaph5FcrGTuGXI940U4RNNzTgeHF4oaZSqQkGvKolMLQl1OpO7AwSFm+ll42lKkZKWnBWr83DT9jb+VlLzZ5Tah5HRYMlMUcrJ7d3xMlSLMcGMQ7H3pYmSaVrUj0Wx4vTyHupsUvL3fxlrA3bWuJ9lMLOY3sStQZLyDVWyW7TQJ92WNVaban2uIGStIVX95WtanjAODMJnTkeJXJ7aHNHjCIP3nOiKq9UydOnUAnQVf2uvS1NkNbH+kwaa+X+djO5Ly+WvOMV5muiUybpsz3g0iZn1serUKEWw0t7cqqc3HDMpFqdPlIxZoyznIoIlUfhhV2Ed6jt4e+Crze045ekIrOKqclzZfqAJqN3gnNMbumUSWG1e/CxQV4MescTTHhHp0wyZnug/WLwU5WsFqSwZS4kh1SE7ejyRdM0WFQKy0JgUrKXNgOZM0GbHQnlZ9mZkpA02dt7VkjmaL6UgjTtwaZpuCPsqOXjpJeNTT9bTP6yl6TZ1iobVLOxMz5hkSkiMmVSIE6s2TJjsvgk08vXuVg6LDQlF/OOCFI9V3TKpHNx1cAohQ3KB1PGpemzI+GfMconLDMloXT4lCeeq2dcnsMlw46fQZkoaYeFmZKOM12r8rVVZmuhKuqEOw2Lacbd+hSy3vHG2Xqbpio5bTvXgwKRKh2OYqHZsVQedHgGxxc9Y+UkmZ7QjCo5YzGFUDTkqi9sU6IThWslz5A29ywZbbmsP/rpZ3mmyuogVJwUmt+t33mblYB6CZFqAfsGK7MHxfGrA+1jpS84D6Zc4aiUiMrYYq5TbaRwjY7VaViMqB2/W+A3kvoA0OqOMEhyElLrh5tkUvWuvmixvvVUtb30TMlHfyfqteu/jVr2Inu4seDz0D5K1u1F7lSTXkv3icI1MulPA+ZeMPo0tnyfX1hoaKhrmipL6vS2HN97Jhhfbjes0ScWdnnH4+xcvvJiyNtDc8f3esaEJJ2esCVqV2QDU3RFp1Co0yyEVbKkq20j+hR9rTJmGYfqXCwdFJqyJtDZd62QAaMUlAq5OFeoLlTysidF/OrEy8GZ+oyGtHeSgV7xq6TDxuAZWtnLcsi2JOCIud9CBdqhs4pZAAAA4D5weKFGIpEPMuBVLYGhpVBPn65YYwhYzAspJkaollRYDrE880zTDlAAAACH5vBCvXnz5k8ZjLGnLCDUe19Ic+wymSlJbem0pMJyiAWECgDAUXB4obYDVPmymNosG5cm40bMR7XbHNsxpgbXxuXIPhcAAOCk0K5QL1y48Nprr73dIdevX3/uueceffRRECoAAABwsmlLqM9QJiYmvtkhTz/9dF9f38MPPwxCBQAAAE42bQlVBUtR69HbOSBUAAAA4GTTgVABAAAAAGgGCBUAAAAAugAIFQAAAAC6AAgVAAAAALoACBUAAAAAugAIFQAAAAC6AAgVAAAAALoACBUAAAAAugAIFQAAAAC6QAdCtfz3MhZs/7cZAAAAAHhA6EColv8A1YLt/4cKAAAAAA8I7Qp1cnLy28Gvr738R80WnIr30fbuFrW9fKocHC4Kq9qGbnAXrVfj48jV5L9L6wKr5eDibe1vAAAA4MGgLaE+9dRTL0z9x//1t+GDt640W3Aq3gfv2cjbb7+tnahD0OZufr7EcV0V6vaevF7xcU3//9F7ppaeLklIWwEAZ9BaIjjs4jiO7/MG57INPxyUiQbcPTi51x/N2PyslEJmLuQdEwvaeh1lPSmMucmpOZd7TEiuK1pCc5R1MXSml8cHDIfEZvsrhfRcKDBIdvPNN36sCbQSCwzgLPC9Z2OZbW1jI9lLbm7E5hJY2jrVdjYZDfrIbpzDQwOfyt+Hs8+5BgLxNVOhKsthkmBhKCFr6QDgRFtCxb+o+LNn3k19xyJRdsGpUvQ/TXx9sHF5/k/+6M0339TO1SlbRH5djVAxO0IHQt1LLnSiXuVWeKIKPgXaQVkTPIOB+EI6nRKFEaIBdyTDeAxJEy5+NJHHv6eaLI7y/KjIPtnRjXR6Ke7HBmi00VbSz7vDqQI9m1JIhd28P7lFk5qRi3voIfhPtCK4ObewanUqWov7ejh+MJRYlVFV29gMlAq6eH/iBrkb5Kt+nveLm2qKCWUVf5bdJTC0cyp5IeThOddITFovoOYvD/jj/OfiyeW0NB/2Enn6xHqxoOSYyzsejkVjxhIc5rxz4FOgLdoV6h+f/fRbV/7w/73y7WYLTn3zcsBiWXV5+iufDU08/dOf/lQ7XUfcd6FuVLydxLLKcim8VNNWAMCJgjgdz9d/LESZHOdJbGjrylKI5zzxdW31YCPh5fjgouVtTUlP2dgoe6nfvFEWn3QOKOXEMMdNSLqJlPQ0zw3EstoqQV4Mujnee6kxjLajmia5v5zXVun5+fGGuputZGBMFM87CrX1qZTsJSxHd3ChpfmyyWvMPrlYPxtnb6Qb4vhs7JTX+EYAwJl2hbr4Z8FcYvylZ9zNFpxq8She3lv7yzur8dR3nvjyp/6V1+stl8vaGdvn/gq1uiMMdFQ5TOp7083fjgGgDpKSy6bfCjYovtf0X3tBHOG4U6zSiBS5YWv1YybSRKh8KF0PIuXEEB82f5yJVQHL3GTrlTDHMYfkYjiONAfQThTmfRzXH8tpqxj5Kt5ikZMsjoVxJm0vwaDlqdBikOd4/3znceSW6GOvsRFs3IYCB4BmdCDUveszlddjzRacarEpXnZXvvu9Px7+6298NjB8qre31+VyaWe0UNtLz5S8PUWOK7oGkLCwW/+Ba0LdRytlfx/ZwTtVydcfE3uZKOrlixxf9IyVAjOM+Qq3SM8jLE6u6B4rJ9fvaNsJjULdy+gZ6D1TEtWdt6pBbFN6BrKMVNQbXlmvCmeLPN7SgwLRW6Y3bqUamqq2+cQBACurQr0GEklBfOONJlnNZHAkxwUtUZ69jUiVL8efEdTmRnk+4L3o5EIiYI4X1rRVwiaWDdd/SRU6tTsflJq3g5pB0jjOqt+Ue2Jo1tlK9qJPrVV2FGqrUykZ4RRnCaYZSLU5NyBk7S4ev8G4zLXoFrLR/pbtxABg0IFQLbJsZ7n75uX/+70/Xgg/9odf+mRPTw8+j3ZGE4o4WnRPVws1YtbsLMKuckd2tN8/FWowUg5GKtJyNX6OpHIDZfXmkedQ/xQ98KAmXyv1G47crPh5FE7tkb+3dxKj2IhIWDWcahEqzgDeWSGfiHbJzjzSW5sUccSkXmW17BmtZLfvHhzcLaRKbpzVi3pWyf1ZCi9DfS9wSORZT70mk/qMi2TUNRUiHqZOWKWZjZRVwYOjTt4TGA/FlltYgaqabU1UozeOm6IVLrRqlJ9ISDNBL+nOw/eeFSS7BlEdGkxzgin35HWB88xq/sLZC+kxpaNQW5wKh6fk72gyGaG9tziXdzzB1EpjH+M3C+tbCO3MFXQPhO06ehlkY6cCyXbfIQDgiIV6ZzX+v+eCfzflcRBqYR5xPFtNeic9RfwXv0HXVKGmDBfezUYRjhdDtJ0yEyl6Lu+qCUzvIWJBfvpW/ZTVaghHsQNlvRHGJFRlucSzYeVaGTu7/5J6WotQlcQwYh5ne0miaqNPL9T3AvdCNjbA9LWhzrATqrX/qoONUCrUT/rd8J7zaSdxqAGorVDpmWmlK+edSma3ye9b2RBJTyinXk4ZmnsbC2pXtCkGJuqOcxRqi1PRMun3X0rLtOIKLdMuTqaQVKEvywzqpVH4wVDTNwP8GjGWdCw3ADBxtELduz7zwxf9Lz/7heZCpcbSa1M1VshQGc8sVVpjG+om2cJfJJJT1soevuiLVmW0ryYS6CG+efYe2s+cJ5LWXWgSavYirdG1LKNqlsxCLVT8lt3oolWUoWqQtTgAdII86zO1Am4kPPiGuYcIVb4WCFyVD2pycpJEqq6xZPO6TdqzqXmESj/XVCGspEhcqFcINyInhnB6s7BSFieFDNNJ2FGozqdSXwVMFcL5y6TkGnpvWVG2s8lp2s+3SStpNtofWACfAh1wtEJ9b+0vqz988dU/+XJzoVK3WYRKjahprFGolgrbwk5iirSVkrZVVaurZSw5s1BpHFw/j+kMOMytn82KWagkM8j00GFAi1DfCxwSUv85mzf9ZNU2VLXGVUPVXlttqMqa4B6K1/vFXiUhpTb8g4nPCPRY2oZqVjU1uqrM7EV8tFm3avbqMWIdepepDZ8hU+5plyviOTW+tMX8AkFxPNVBITmK/zTr1tJ31wklc57sa3dTZ4TGiuL7hd1XBhxDjlaoOz/+s7+b8vzVf/50c6HuJoZwkGeuKaUS9V+jLaCNQsWBoJFqsL2TGCtyPSXSaWKj4sG+NHcOokJF+mtsg1CHjNpglVp6QT28Uahs/TNlo5oktdO3pYly48MAAFqirCeEmcZOMzT2Mk0pQGO1hoepnVCpek1ywlt4bTelkF1Op41ljY5Vpb18Q0v1XFBp8eqtp7ZThldoggapieUvEt2ideZsy+k8bXSktcQmQ8uzWNBUXdt5dn+8xM/hKw0n8d/rNgZzOpX2KuAzDUul+vFfa086xO7mHk8quEAaB/ncL2y/MuD4cbRCvfvm5XdT3/mf570ObajyHIkdg4t1QSpLJaxYrS9Ag1BxKs9TceJ7eq5Sf9wo1ZC2p5IYLnL6PpQaaZcdM+ZbMAkVR5Y4A95LO/WbZ70sLKj5sbSh7sZOFbmBUnLzrrYBezRCe0hhzdd3A4B2wTYNRe3739LRIMw4E/txqM2Faq7JJBJyMkQ2NsDx08abrXkcqpIO8xzPhsskM6ahLFa2JZL7+pQITcahUhyrfFudiuSE8+p9nTB0tiOmM1FNcZrnIRW0yxW5fPb1AgDa4WiFejvzP37yF0/Nh047CPVAoWM9eZTIUYdt38KrfqPClgrVNVbObNUODvbRDdJ91+ivSzolna/KVaw3Mq7GrbeSKmv47yKvd8dFy2U3j8RNvZ2VxrjccFkfU0+6GWOn8n0oFC3HplDvqOFpKtRTpXRBkWaqeKOySs5MBDxejkXLgUEtM2ihJKwy7bgA0AZKLuYdESQ2+EiJwrm43jKpz46Ef6gon2iYKYlQy8eH8Y3VUDlJho3y/tksoj9ylEv4ebew5mQIOmORW1ghJyIzK5lnSlJTgwsy2UQz03JMqjxvTGmE8rNNZ0rCtBBqq1PRVG9slRZBQQoPsGNSZfFJppfvjbinzxucwTc0WSPFMhi06ZREXiBMlcwA0A5HLtTV+Jj4X/6tk1Ax1d1khA4npcNA48tsdS6WaFUY01LdY+V0wYgODzJR5BnSBpu6hkvijfqU9PXRojyRX/0oami8P130BtHaXjqK3HQcqnmcKzGohycnlzQfE6mHzpAzYwHHVtSs7iUntZE8ANAmpJkT3xINmDrC1GQp4ifT5vZgDViHeKidbw0srYaHmMtXn1iYjIpp3F+fTZdMOxyaJ/MhtkROCXTWXJd3PO4wl29LoWIcT6Xk50N0PA+Zntc8Rsg8DrWajZ8lxUn39BGz2nV7wDGuqx6sA0C7HK1Q93/yF7/4h4vf/2+PtxAqAAAAAPyS05lQ31v7S+xI9Q91cV6t/vBFHJ7OPv2pZkI9fbqiB4snannhBXi7BQAAeLDoTKjvLF545dtndle++8Z//w//5+o3W67i2LTw6p/gjSBUAAAA4GTTllBFUXz2qa+/MP7vFy986a+/8dl/uPjVv5384t9/a6jN1f/q/+LQ70GVLwAAAHCSaddwf/M3f/PU14fPfvFff+PLn+x0+Xef/+Rv/dZvffzjH+d5XjsdAAAAAJwsOggZX3755S984Qv/5lB87GMf++3f/u1nnnlGOxcAAAAAnCw6q4NdXFzkDgUW6rPPPqudBQAAAABOHNCoCQAAAABdAIQKAAAAAF0AhAoAAAAAXQCECgAAAABdAIQKAAAAAF2gLaF+skN+/OMfa0cCAAAAwINBu0KdnZ3NtALv4/F4fvCDHzz//POSJGkHAwAAAMADQLtCbSfoxPs89thjN2/eTKfTV65ceeWVV7QEAAAAADjpHIlQ8d/YqS+++OLrr7++t8f+56YAAAAAcDI5KqFi3nrrrUAgkMvldnZ21C0AAAAAcFI5QqG+9957hULh8ccfX1lZUbcAAAAAwEmlM6Hifz9lh5oqSdJHPvKRr33ta6dPn8ZmfeKJJ3ASPhb/e+XKFXqm95NaYbUijBSFVW39SFCUzHzZ33dkn7K9K82UvD3ljLYOAAAAHFM6E+rPf/7zv7IDb8epi4uLH/jABz784Q9/6EMfeuihhx555BFj9dvf/jY90/tH4cYt6RLiuCMVag1t7WVnju5T9gqbu4mRIseBUE8saC0RHHZxHMf3eYNzWaRtNkCZaMDdg5N7/dFMh6kaKJeMjfvIbpzg/ENS1sXQmV6e41zDIXHd5j/JR+tS7Gxvu7/2al6c8tJr6/VOJeWatplBKawmQsMBcUtbbwrKJsb1U40nbIppJRYYwOl879lYZlvb2Ay8s78PXyXnGgjE1xrORbNNSqHHG5rP25RCK7KX3NyIWNDWmqBkhFM4CzpjSZKPVUFb1VGLOhPRVim+1sUF3Cc6E6osyzN24O049caNGxOUL3/5y4MMH/3oR99/oRJy5f6jFSpltdxCqLmqdA83QCYCQj2xKGuCZzAQX0inU6IwQnzhjmSYJziSJlz8aCKPn7U1WRzl+VGR3GkazqmUmpyc9PCcyxeV8gXUwg25uId3h1NEBGhFcHNuYZU5Qilkl9LitBtnsr17ShbP+YV5Kb2cjI+Ro/pNl4Y/I59eSsdHsbhaGULJCoOewEwyvSyJER8ppgEhU9USMSgVdPH+xA2iJPmqn+f94qaaYoOyKvjPxZPLaWk+7CVWtXx6Nj7Iu6elAtY/yggDlm+kNfj85GpbCVWeDQTOx2JRbZHWte34U9Pn+0lxnU+zqpfnvBzvCc1nkc17CXBc6Eyo169f/6IdeLu6p8qbb74piuIVnU984hP3R6hbFd/9F+qd9BS6lzdKEOrJpSBOx/P15yORIsd5EhvaurIU4jlP3HjUbiTwMzW4qD1mnVMJ1WzsDM8NBJPN7cIgJ4Y5bkLS5aGkp/Gxsay2qrOR8LQnVLSUZISAkmPYETbxMb6KlkItzIfrl4kzOu8nxTSrvzxU06QgLue1VXoh/LjE2oghm7zGvHXkYthdvvm6++RZL8cFJd3WynKY59yxnLbamq1kYEwUz7cS6rYUau7pwryPeJ7J1cF2OjzS5vcI3E86E2qtViu3Ad4tl8u99NJLc3Nzs7OzD7BQ9+V5xHMgVMAOJCWXTQ9VahdDVwVxhONOsUqTxSc5bjhBheCcikHSOM85xmomVgVsKZOPV8Icx4fNOTzYEvHD/hD3FKm0rOeNgVRyOgsVSdfS5mJKk2KKaPcE1U8/6zz5Kt7iNd5LnCCXw15jhpSCScYZUgrT5gw0RRbHwukqvVgnoSqZCPa4yz0SjKfkRvFbhbopBs7GskxEDhxbOhPqP/7jP7raAO+2t7dXqVTefffdq1evOgm1tpdfrghni3xkR8mVfT1F11hFveuU9SrZzhW5HhSI3qr/7LZvxcaQC2/niq4BFM/d0bZT2KNCl0q6UPcVtXdPH3bbPloh3Yjw4b6ZHXKf4BPSQ1zDJWlzn56GUt1NRlAvT/Z0j5Uz20wSiybUfbSmndYbpac9qGVnsE3JFnXB+xwiGyDUBwjWLkgK4sfqaJJ9Lmdw6IPjJ3wzOKfiG2FVwM9s9yVrhNmM7CW8Oy+saauETeLOfssZDilUHDWaK5ANWgu1kQw5RvMNfm/AV+03FQR5FTBeDkjFODcgZO0+HL/BuNh6chqw8hfZS6avKaYXl2Yo2Ys+9RpbCLWaFaOhwJCb1F3jjxsMp82NvqxQ0VLYP2nb/AwcRzoTaqFQWGgDvJt64M7Ozssvv+wgVAXtoVzZi30zVopFK4kJxPEl/DaorJY9o5Xs9t2Dg7uFVMmNlXZRtdRubKDYf576taaIo0WOr8tGWSt7eBRO0akkCtXwgKoxvHIXf5A0hVeRMFtOpHYLSJGmSWei0GxFuFTNbt6WV8t+7M7xqmbu6o4wiBI55lQDZdt7UhVqIFJRT5vRekLpRiSpRoTaeTZAqA8S8qynXldJfWbEYSq0cwqtE3ZO1TTjiV1LCmP0wd1j2+OpDpWxWWzUndyUOTjrXKhoXRLO9Puv2kSnhEMIdSPh4YOSJiEqPEtlMu3ao9cJq5G69p5RRylk5oLugbCpKxc1samuVa0J4EItQ1T8BhOa166xVYSqUyukozZNwppQr+azl7xuc0sqcMzpTKj/9E//hNXYErybemBLoVJ2BCzUiSrzi1USw4ipsdlLYnFyJXJLKLfCPcVg6raaUJjHNjJ0RV0bZSaRWC3jgM+4+bWdjRqwQsWPo8M542P3M+eJntVXUXkOeWZ36Z+EwjWiveCi9rkmqFDDK7pBaT2zb14/rUmohI6ygQGhPjBkYwNMDS21gp0yqc+cU2kMx53yx5ZlBQc3NZSOkI4y7ov274T4V0i1YSdUixg6FKqaJYrLN2P36Z0LNRt1+3V1aVdqJ1SmcBTF8sHqpVH4wZCkl7lN46VtyTSyKQYm6spuV6gUtUnYO1d/4VCz4R704O3cQNDIHnD86Uyoa2trT7YB3k09sAOhRhgRUsdgS1kWpj5qX9naEbX6WF1Xa0SfdbFhzG2oZvtiyOfWzUduA3w2VV2qwq0Lf9FuyietyldbOzi4FW5HqG1lgwBCfUCQZ32MJ7TuP01jUOdUVRimCuF8fAhvagjUNJT0FE49kgj1oKbIy/HAAD5XQ4ssplOhbiR8ps7McoJcl0OE2hRlO5ucpv189cZdtQ278whVFidNIWZHQsUxNOmxxTTc6l6X5cUgeQ/i/Qm7IUzAMaQzoWJBym1gzDV4SKESEZokZALtxM8We0fK4qoiX63LiYqKFdu9CFURR0xJTliFaj4tCBVoA1JhOGse8qi2kpp8pmqPaUNtllpI+vGfZt3SVlKqLiY+I9BHP01Vq4t1qLPbaUNlwlCCvW7t6qgJHQm1mhEmE3lT9xy1ctskPNWLpg5WTVEyZIyKngHahmo2MRW2cxuqGhDb0ni9dhCDMm8/bKCs5GLU+e7wUjuXA9xnOhNqKpV6pA3wbuqB9yDUYjBl6m10sFFN3jg42K4Ge+oVpKyc1FrZ0BLTfH9vQjXXQmOU5EK9ErgOCBW4N5T1hGBTHUpjoyG2Zyx9uGuhj3NqNnaK4540DUulj2naeUcpZJfTaWNZK5CPpr18Q0v1XFAt8VY72gkVrTNnW07n7edVIBk29/ehtC/Uaj4RiTd2dqXXZXoVkGfxm0DbkiYZMPo00V6+7GsK7VHMO3txO89ePl7i5/BXE07iv9fbsqB81ddY5VsPlDeTQRLfuwJsBQZwLOlMqL/4xS9+1AZ4N/XAQwr1YDd2qsgNlJKbd7UNB7elCGlWRIslYqN6mwcjp42KlyvyU4wFqVANxXZksuwl/DcKLhip+yhVjuXU+uR9pcpoG4QK3APYpqGo/ZBEtBjk2eEf5pGmzqlkHgDT0BE6rlSdjseebGyAHR/SZBzqIap8NfLxIbsBnW0KFdt0KsZWq9bZlkhB1IXUMA61pjhMaaGkguzOZJIjPlwvhU7HoVJsqnwbmnEZZHHU6GNFsAoVg+iQYo73XnLqWQbcdzoTKgsOQ9V5kRq5cQPHkoS2hLpJtMeNVNiu4cpq2U2bLb3j5Vi0HBhEwioNWGk/I/d0VUZ7+VQ5eIZoL762Ky3h2PFOJoJdVfRevEVmOantZedKLo50Cc5v4F/z3exFuvMNXdI3yh4qYP0HupccwzuUJEStWd0RaCdh13ApHC2HzyFPRO1mfIBSJZwHvWPU3fxl8qH1/krr2mm1+4fq1je3W8hVxBWcrQ6zgd8kJuj+68a7BXByIBV6I4LExjcpUTgX1zWmz3+Efzgon7DOhdRG6hltHr5CKuxuNSaVTvHjFlbIL5Hsb5kpiYJSIfxc98wYsyg0A0mTvb1nhWSO/q6VgjTtwTJolEr+MhZ/q+pZMkOFT1hkSolMmRSI654j/Xq0q0P5WctMSbL4JNPL90bc0+cNzqRpVH6Acgn/oLnXT1WbHYmWghTufKYkjFWoiCif13st5Wfc/GBIVEtmOytOBmI59hPsZ0o6WCY9kDHqsZ1mCXh/OLxQv//97z/VhLffflvdp6VQabhGvEUXNm7bRzcqoTNkXCbfh2IrdPgK4U4mSgah8n2lxI3bB7myhy96Jqv6c+Q2lqi3h5zNO1XJr1f8fUiY3ynUaBWu/kE4HDR/bjlDY1lji/YCjnbFKdrviS/6mYGwWKg4AyEqVBo+6ktkx3TakQq9oxQiSHwGMti002xY9yfnA04Kyhqdo66BwALzIK3JUsSvzisbnGmYrdc51ZiTlnO5x2JpU8Rkjz6xME9caO0Io/anNbCZ9ohFXgx5yezB5GSeMSFJ5wU0YdeUa4OSxYazwRxtyymBTs/r8o7HzXP5msehVrPxs7RI8K4DPmJW5j1eQ583mO/zCwuHmcu3UaihHs41qQlVycXVmYS5HncgkiQzRxo0NMdqz6KG7S3LH7gvHF6o77zzzloTENJ+I+1V+QIAAADALz2HF2okEvlgE1599VV1n5ZCPX26YkRgsDgvv/d7Fa3UAAAAgOPH4YV68+bNnzahUtEe/SDULi4gVAAAgOPM4YXaDlDlCwAAADwgtCvUCxcuvPbaa293yPXr15977rlHH30UhAoAAACcbNoS6jOUiYmJb3bI008/3dfX9/DDD4NQAQAAgJNNW0JVwVLUOmx3DggVAAAAONl0IFQAAAAAAJoBQgUAAACALgBCBQAAAIAuAEIFAAAAgC4AQgUAAACALgBCBQAAAIAuAEIFAAAAgC4AQgUAAACALgBCBQAAAIAuAEIFAAAAgC4AQgUAAACALgBCBQAAAIAuAEIFAAAAgC4AQgUAAACALgBCBQAAAIAu0JZQZwEAAADgl5w33nhDs9rR0JZQcSaKAAAAAPBLjma1owGqfAEAAACgC4BQAQAAAKALgFABAAAAoAuAUAEAAACgC4BQAQAAAKALgFABAAAAoAuAUAEAAACgC4BQAQAAAKALgFABAAAAoAuAUAEAAACgC4BQAQAAAKALgFABAAAAoAuAUAEAAACgC4BQAQAAAOCeOTj4/zX5RnLNC2t0AAAAAElFTkSuQmCC"
    }
   },
   "cell_type": "markdown",
   "metadata": {},
   "source": [
    "![spam-01.png](attachment:spam-01.png)"
   ]
  },
  {
   "cell_type": "markdown",
   "metadata": {},
   "source": [
    "Após a execução da função, são criadas pastas dentro do diretório estabelecido:"
   ]
  },
  {
   "attachments": {
    "spam-02.png": {
     "image/png": "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"
    }
   },
   "cell_type": "markdown",
   "metadata": {},
   "source": [
    "![spam-02.png](attachment:spam-02.png)"
   ]
  },
  {
   "cell_type": "markdown",
   "metadata": {},
   "source": [
    "E os arquivos de e-mails são armazenados dentro de cada uma das pastas *easy_ham* e *spam*."
   ]
  },
  {
   "attachments": {
    "spam-03.png": {
     "image/png": "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"
    }
   },
   "cell_type": "markdown",
   "metadata": {},
   "source": [
    "![spam-03.png](attachment:spam-03.png)"
   ]
  },
  {
   "cell_type": "markdown",
   "metadata": {},
   "source": [
    "### Preparando Leitura"
   ]
  },
  {
   "cell_type": "markdown",
   "metadata": {},
   "source": [
    "Após obter sucesso no download dos dados (e-mails) a serem trabalhados neste exemplo, será necessário utilizar alguns recursos da biblioteca ```os``` do Python para criar uma lista com o nome dos arquivos de cada um dos tipos de e-mails."
   ]
  },
  {
   "cell_type": "code",
   "execution_count": 3,
   "metadata": {
    "ExecuteTime": {
     "end_time": "2019-08-19T07:33:36.006036Z",
     "start_time": "2019-08-19T07:33:35.996840Z"
    }
   },
   "outputs": [],
   "source": [
    "# Preparando os dados para leitura\n",
    "HAM_DIR = os.path.join(SPAM_PATH, \"easy_ham\")\n",
    "SPAM_DIR = os.path.join(SPAM_PATH, \"spam\")\n",
    "ham_filenames = [name for name in sorted(os.listdir(HAM_DIR)) if len(name) > 20]\n",
    "spam_filenames = [name for name in sorted(os.listdir(SPAM_DIR)) if len(name) > 20]"
   ]
  },
  {
   "cell_type": "code",
   "execution_count": 4,
   "metadata": {
    "ExecuteTime": {
     "end_time": "2019-08-19T07:33:37.398054Z",
     "start_time": "2019-08-19T07:33:37.378295Z"
    }
   },
   "outputs": [
    {
     "data": {
      "text/plain": [
       "['00001.7c53336b37003a9286aba55d2945844c',\n",
       " '00002.9c4069e25e1ef370c078db7ee85ff9ac',\n",
       " '00003.860e3c3cee1b42ead714c5c874fe25f7',\n",
       " '00004.864220c5b6930b209cc287c361c99af1',\n",
       " '00005.bf27cdeaf0b8c4647ecd61b1d09da613',\n",
       " '00006.253ea2f9a9cc36fa0b1129b04b806608',\n",
       " '00007.37a8af848caae585af4fe35779656d55',\n",
       " '00008.5891548d921601906337dcf1ed8543cb',\n",
       " '00009.371eca25b0169ce5cb4f71d3e07b9e2d',\n",
       " '00010.145d22c053c1a0c410242e46c01635b3',\n",
       " '00011.fbcde1b4833bdbaaf0ced723edd6e355',\n",
       " '00012.48a387bc38d1316a6f6b49e8c2e43a03',\n",
       " '00013.81c34741dbed59c6dde50777e27e7ea3',\n",
       " '00014.cb20e10b2bfcb8210a1c310798532a57',\n",
       " '00015.4d7026347ba7478c9db04c70913e68fd',\n",
       " '00016.ef397cef16f8041242e3b6560e168053',\n",
       " '00017.08ef2d89f14cf7e2a458b80697eb1837',\n",
       " '00018.6fee38026193b5adde4b56892a6f14bc',\n",
       " '00019.5322cb10d8819b39499924d852819c27',\n",
       " '00020.d10651e31fcb92630c6229ec773cfe26',\n",
       " '00021.607c41268c5b0d66e81b58713a66d12c',\n",
       " '00022.48098f942c31097d2ef605df44dd8593',\n",
       " '00023.e0e815ea1d7fd40e7e70b4c0035bef0c',\n",
       " '00024.59c2cb781c60594315241e2b50ea70e2',\n",
       " '00025.d685245bdc4444f44fa091e6620b20b3',\n",
       " '00026.f9755fb0cee92676d7bd76d32bc5f50f',\n",
       " '00027.4d456dd9ce0afde7629f94dc3034e0bb',\n",
       " '00028.ddbae7c7b229813409ae50c47624ddb9',\n",
       " '00029.56d4310a82386b76b9e771523d571e67',\n",
       " '00030.cc78e84cd398ff4a2e9e287263de928f',\n",
       " '00031.ac7e81ff64671b17569d2c6a66648bb2',\n",
       " '00032.57e29a75bca42afb412fc68d5051aa20',\n",
       " '00033.2ceb520d2c6500ccf24357f2ebdce618',\n",
       " '00034.1d56abea55f3c516d0ffdd4f1e8b883b',\n",
       " '00035.9069e05ad40dd0f98cdae72072ee7186',\n",
       " '00036.719795e8d4670c6d8095274b18b59749',\n",
       " '00037.5a7af2f7bd57a2f50b7cfa05d5e37c29',\n",
       " '00038.cd457af47eb78d4b93c7d94043a43108',\n",
       " '00039.be5e34dcebd922928045634015e3ed78',\n",
       " '00040.eec48d76fbc04e9b98c3de0f59af97ac',\n",
       " '00041.002af69a10eb9b6683a7cff5f3ac14b4',\n",
       " '00042.efe6317ef2ebefe739aaeb4f0d51fbdb',\n",
       " '00043.d2673a72d215cbdd747dc98cde41fbd2',\n",
       " '00044.d087bf5e76ba737908b482cb028b056c',\n",
       " '00045.f0a8de2cf2b3cf745341b960d7a0119f',\n",
       " '00046.c8491e68aa5652272d6511bb7d848d37',\n",
       " '00047.39812fcb014cf9c22a2ff4fec61f3c19',\n",
       " '00048.1e067f31e83cc6ea3e9103b52f15588e',\n",
       " '00049.838d44b342e0ab4743507510a8ca206f',\n",
       " '00050.74d3103c5691914a530dcae2f656a1f5',\n",
       " '00051.03dcdb0e4e6100cfcf0eddbf78fbae17',\n",
       " '00052.c6c74aeef6d36423f57807ad4c901dc4',\n",
       " '00053.707c625cb618aadafe3e54544fa3ca78',\n",
       " '00054.f3e1dc8f3a7fdc5bec424db5e07e8ef8',\n",
       " '00055.8481bc92aa3ab9d23ca30c0eaecfc5e4',\n",
       " '00056.b510d34bac037c4c377b1f51dbe5f0d3',\n",
       " '00057.7c3a836baaa732cd915546442c0fef1a',\n",
       " '00058.ecfc3a7f406355a82abe9d16d3d5733a',\n",
       " '00059.34a8067a36762120b9292004a4d68558',\n",
       " '00060.d51949a7342f8adc568483f6e799ee25',\n",
       " '00061.9cc2b5c110807914cc6c38263b7dd62a',\n",
       " '00062.009f5a1a8fa88f0b38299ad01562bb37',\n",
       " '00063.0acbc484a73f0e0b727e06c100d8df7b',\n",
       " '00064.cb4bd5482454f02b6c3d70343af090a8',\n",
       " '00065.fa593405941ce1f32a29e813493eacf2',\n",
       " '00066.7dda463deb5e41ba1af3a0da55ab504b',\n",
       " '00067.23813c5ac6ce66fd892ee5501fd5dbd2',\n",
       " '00068.5053f669dda8f920e5300ed327cdd986',\n",
       " '00069.1477f740f56d3e0bd132ad70993edda5',\n",
       " '00070.c62a036deb1de40aa32cabc761b0861c',\n",
       " '00071.a1a5f4834bebcb59bb75698821cf9f9a',\n",
       " '00072.8dcd09744b5534002262a8f3927ba3fc',\n",
       " '00073.30ffa73f8021a40ac03218af092d0dc7',\n",
       " '00074.71045f0bdb236b814e4729d318bd6509',\n",
       " '00075.6485889c364c71761110c2b1190bb645',\n",
       " '00076.5aa682e393bfbef53e244acf3b2d23d6',\n",
       " '00077.24cfaba59d55d652be33b58bd7d41ca2',\n",
       " '00078.2ea8ca29bc2ed373a6c8270b488def60',\n",
       " '00079.5fa6a133fe202da2627f52bdf31fc6e2',\n",
       " '00080.ba42e846212f912a63aa36c7a9ded217',\n",
       " '00081.c16e4d631ac7941fd25ffb1cd316e100',\n",
       " '00082.b40e4eedafc60aef72a0a0cbb63c2406',\n",
       " '00083.d6bec4788401bc0df20b740557680768',\n",
       " '00084.2ef0c65e298880c3869b39dc95b40e8e',\n",
       " '00085.badc533c7037554017afb30c94dfcb55',\n",
       " '00086.2d36c5f829135d1fed8f88471163b240',\n",
       " '00087.03a92f5753c44cb83d28837121d82b06',\n",
       " '00088.945614c3f6213f59548ab21306451675',\n",
       " '00089.c31c9b44b66c440d6b39c5f8841ed43b',\n",
       " '00090.3af9d04b3ade1077fce4fb224ebf38cb',\n",
       " '00091.abb1965e279e4365f1ef31e4878c5d14',\n",
       " '00092.7ecc7d565565fbe466bfc8db6e456f9d',\n",
       " '00093.ee758841ef674e30d7d36f22fffeaeb6',\n",
       " '00094.ef72156b3ba9ff0fc5fedc2125ceb736',\n",
       " '00095.24caf7db5c45203f312f742f49385618',\n",
       " '00096.3517ca839b03cdf37c14ff9b3667dd98',\n",
       " '00097.e8e276c07ee885c4b8d904c1414412e5',\n",
       " '00098.90c05d1ad65ea3fa796bfa2808f71052',\n",
       " '00099.beef92f5eeeed3e40c1facf42809d510',\n",
       " '00100.f070e3aaa7f475f95589b1900ff58d26',\n",
       " '00101.216942b87258b063ec2d7b7981ee2454',\n",
       " '00102.b18fa07ca9504cfc39be46ba8376ee7d',\n",
       " '00103.23abe7cbe651a970e2dc6cc531c268a3',\n",
       " '00104.1a66c829aa9b0883591a2e8266c18bb2',\n",
       " '00105.00d508c7c037170e597798385b380a80',\n",
       " '00106.d8f1a8de1b70767b3dbf5ce810da67fd',\n",
       " '00107.787086c3c593b9e2335199019b130158',\n",
       " '00108.9ab147c83812fc34f69032c40df5a21f',\n",
       " '00109.bcb73e4561798e05f2299471ab0be1bb',\n",
       " '00110.1e36beebd2dffe60b0d8f68d82bde52c',\n",
       " '00111.a478af0547f2fd548f7b412df2e71a92',\n",
       " '00112.55ec2d4a4203ff075f5570bdac744550',\n",
       " '00113.6b233fa48d08abf97ff91e4548fd381d',\n",
       " '00114.240461056916c0cdd555ba9d2bc9e63e',\n",
       " '00115.d5db4a9d477aa17a19669e3945b7aedb',\n",
       " '00116.22aef63fc606e0ad46b5593bc897469a',\n",
       " '00117.a9afb0bc89818ffe2f2a590c8a40434b',\n",
       " '00118.f15bf997342540b404a4672c47d57d55',\n",
       " '00119.0f469afee6aef0a05d9850f7021bd629',\n",
       " '00120.4de6f88fbcb22a39a0498f84d9ce358b',\n",
       " '00121.333fff2f2cb3dfd617a6210b669757d3',\n",
       " '00122.b4b9733750e203d0215d49043d29c173',\n",
       " '00123.91b85aaea560d92f9199f9ba74e77918',\n",
       " '00124.f0f8fe0588f5245c08846ca9d308dfb1',\n",
       " '00125.0b972a986a586ab4ba3ff45e88f330db',\n",
       " '00126.b0a45fbc9d8f9e6de6be5d3062cc91ef',\n",
       " '00127.c1981aeb12ebd22536f12f0a044efe56',\n",
       " '00128.0e92ec0c8bd8233f7e7873e93df43277',\n",
       " '00129.ac1318f7fba969847e1ac4aa4ec3c26a',\n",
       " '00130.77c75ddeffde2b89edaf8720370f6afc',\n",
       " '00131.0884e29887b7378ca04f4defe0a069e0',\n",
       " '00132.2eddfbbe44385a450eae4ee89da0a830',\n",
       " '00133.e5aa9fa1cc35faff5801a6b16ca7afa6',\n",
       " '00134.f7d26b0dc6c2f3de63b08d2810d54df6',\n",
       " '00135.bd3bc1c036eab89c9c50cff40958c939',\n",
       " '00136.c507301e643ec123aa6e487ce2e2e3e2',\n",
       " '00137.11311a8e5dbfe18503bf736b82b91fc7',\n",
       " '00138.b4fe49f8cd3b3bcc8d19741e705b0e01',\n",
       " '00139.cfea5d726c0371fa63c9720a291ca9ad',\n",
       " '00140.354632516317e3a37a05e93c609ec65d',\n",
       " '00141.00b956daf6951da2bea354300d121512',\n",
       " '00142.0f7dc427ea4ecdf0c257b8bf7d152249',\n",
       " '00143.4cae4623140fc349a57dac7ffd863227',\n",
       " '00144.a6f12b97adc08a63ce541daaba0b0825',\n",
       " '00145.9e4594abeb96d3ba5650b9cf88e91015',\n",
       " '00146.a6d4ba98c7866de55109077d2960d245',\n",
       " '00147.fcb1b60290a155a5b837cd290b77a6dd',\n",
       " '00148.6bdcd2791992fb3b923e961f71295ce8',\n",
       " '00149.6ace09f27948721429b08699d9b92f4c',\n",
       " '00150.a4c5a8aaccd6b54f1000e9fa02f53114',\n",
       " '00151.4ecb35a7f837a0240663d3bbc5c8dbe8',\n",
       " '00152.703c271de3d42fb8bf266db6f77a0dda',\n",
       " '00153.2ba33aef8f6b3010c92db7f992fbec43',\n",
       " '00154.cc63335f9a4e3b5f4a16be338b0d00a4',\n",
       " '00155.22281cddbc29a93d630798e0aa97f725',\n",
       " '00156.d4205c868d67d1c334455950b21d226d',\n",
       " '00157.3a532432a98ebf828fdeb46a6ddfa082',\n",
       " '00158.71abc842fe120eb73cbfa0fe6c5df852',\n",
       " '00159.53acdde1c0b5aadf73295f0c58ddb6a7',\n",
       " '00160.eb0db8e14a3308c08db1cc38c4c7d66a',\n",
       " '00161.e75ee4467e41dd1d5f5156f2b9ca5bd8',\n",
       " '00162.02738313b3d9cf5812167de5493c6852',\n",
       " '00163.550a6ef7fd451fba494cc3128aaf3c7c',\n",
       " '00164.8a0a728a1d5e56631369e5192f0348b6',\n",
       " '00165.a626a87fa5b56f724e6a00e7c1ec163a',\n",
       " '00166.8feace9f17d092d9532e62c35c37ce95',\n",
       " '00167.ae9235b61c9e2fb740bfe4b0b3d703da',\n",
       " '00168.a13640e4b9528891d2e6690008307683',\n",
       " '00169.efbfc0b209eeae7c4c08e5ff14d539a8',\n",
       " '00170.14c40e625814c14dfe2eb997157c6437',\n",
       " '00171.71f0cff94c1091432c43111941bd015c',\n",
       " '00172.de357389925b5094f2e7ff3d1c20deb9',\n",
       " '00173.253a0161257f4fe309df9d9ffabd5ef3',\n",
       " '00174.ea47d0c060fa8ce10dfb448db1f27be8',\n",
       " '00175.04e562a3e92558eef6aa45dd66a96564',\n",
       " '00176.69b5e43c0fb4a313ba18a91c291b3bbc',\n",
       " '00177.22e75f7ffcce4664a3266d90a4b4266b',\n",
       " '00178.e021e35d6b9ec076f35e72ed932356e2',\n",
       " '00179.402096b649c7af65ed3b8b18ca416544',\n",
       " '00180.1d7edb742cfbd5d48881c99a8e03cccd',\n",
       " '00181.6831a0d4a6d648236f7ccd26b5e3e7ab',\n",
       " '00182.8e6541320c6c08e0a899455a0a21f91c',\n",
       " '00183.54d98788fca5892267d8dfe4d09b2bbf',\n",
       " '00184.4534b61b19d6102fe241eecf0a436a35',\n",
       " '00185.d596ca9befa5afe75fd8ebca4c215d46',\n",
       " '00186.7fb6108d51b6cf37e682b16713376f98',\n",
       " '00187.f2e1e617b73fa1c5137d78383372886f',\n",
       " '00188.f416128c8a1bc74ac615e5bdf7ae0172',\n",
       " '00189.b66293957540969a231d2fd09886ee0f',\n",
       " '00190.e26c75eb1c827ea35cf2e3407595fa67',\n",
       " '00191.41a15d7d511bc977b0fcb93cd9492bd1',\n",
       " '00192.9ab41d05f7b9bad7f7eccf7d393293dc',\n",
       " '00193.56c58a594fe8a1e7b830f48eaf12e654',\n",
       " '00194.c2c3f757416af5818ec89cf01a9aa601',\n",
       " '00195.d01606c130956bbbe4d0571e187a03de',\n",
       " '00196.5a8ba13e30d79286b01472ef383d773d',\n",
       " '00197.811a3c4022f3c7c548fcc7df7782e1d8',\n",
       " '00198.abf0f5bd6209bb8e268d51902158e0aa',\n",
       " '00199.05aa582ea00818b07c867878ced559fb',\n",
       " '00200.883884dc35bd45feb65b9a351371a7c9',\n",
       " '00201.190add142b96a42eec8969c51dcf89c7',\n",
       " '00202.fc22c26924eef6d26b3818db4450e2b6',\n",
       " '00203.b5773afbae12d0d79df74b32b2f46697',\n",
       " '00204.5c64400ff51925eb0ca4bc7bdab0bc09',\n",
       " '00205.a7ef07a6046817705ce83f59e2bd3ac8',\n",
       " '00206.5c77fcb0b64166d0fd0795b9d5f7330b',\n",
       " '00207.13171e04f004b9e401b749be95abb2ea',\n",
       " '00208.f6805ede51fb25adfc2bebfa72e70f3b',\n",
       " '00209.d685082621cfefa2f7a2e614b455258d',\n",
       " '00210.a85c0673394ffce41e84cbd558ade870',\n",
       " '00211.3ccf7a2df02a7f7ec7160e29eacfd8ee',\n",
       " '00212.51860640683706a0041c8576cf35fe26',\n",
       " '00213.cbab995631e4345875a326d533cf6cd6',\n",
       " '00214.ccc58960373c957d965f300ace6c9576',\n",
       " '00215.d09b3f3c0df56258c17c3de4dfbfc6c6',\n",
       " '00216.70fc915ba97c52baa07a10c19b89f848',\n",
       " '00217.e2416507f33a5350042484cc38de4800',\n",
       " '00218.17547ce08d682678c539484cf094982d',\n",
       " '00219.642f44312e1eaf0fbecf90d6b39876d9',\n",
       " '00220.7c18420ed3257e8630e67dd0045f6563',\n",
       " '00221.073d8414c8d4801265b1894e139284f9',\n",
       " '00222.09f314ba527328f1537a99a2423af0c6',\n",
       " '00223.02084417d77ed822ef1ba7391a7ff417',\n",
       " '00224.937d82e92fbb4a21cc11cc49310eff39',\n",
       " '00225.13c1eaece69dd93afacadb48189e65fc',\n",
       " '00226.b629152d594cf90a252b1f45dce90a65',\n",
       " '00227.9e23fa007bc1e12a6b957372d24116f0',\n",
       " '00228.6cf71899d7146e93641d4ad9d0aeb34e',\n",
       " '00229.5ee5fd3867d69cd25a5fde771fda0094',\n",
       " '00230.9a0c6d7bc5e78a2b597bc050e491d05e',\n",
       " '00231.b295668c907d5f4d50f8e9db78ae5714',\n",
       " '00232.dba1ba74b7372e3b13b0a351e2d45b89',\n",
       " '00233.46a5a0be6835c796dac95e1c5b691673',\n",
       " '00234.335356ba4b116d347be3199b40cdaed2',\n",
       " '00235.c3a09c057f8fec7d833a8f38062b9a48',\n",
       " '00236.0d42e8e99de86aae42a4f3e3cdc2465b',\n",
       " '00237.885411da9a2cf59e223a953a1747d44f',\n",
       " '00238.dab1868a3b43de1e01ebdfd0e53de50f',\n",
       " '00239.849f683f7532fe3ef85d3ae6cf2d7153',\n",
       " '00240.6430542510c59bcb5e4cca0112eff3ac',\n",
       " '00241.45aeb31a71118db41c3757eee21f8757',\n",
       " '00242.640f27e47a5754dbf4893781ce156a75',\n",
       " '00243.356078a6eb0847e4670477133553b3af',\n",
       " '00244.d6a35c3356b3796b5ddc77ed1b1995e2',\n",
       " '00245.5d4317b10e081f87fd2cd84e6fc94cd7',\n",
       " '00246.b7cc35e095c9fae344813bf6e1bc681a',\n",
       " '00247.e14fcbf137267399278507b469811f0a',\n",
       " '00248.668706b3eca383f610723863786d422d',\n",
       " '00249.5123280972d4935e630a46f92266f6c8',\n",
       " '00250.c99c3af1901ffb471442f3ef4580ffc8',\n",
       " '00251.7b7563dab83993b166e03ab8f052c5ac',\n",
       " '00252.18ef1111d1d7543890e6b0a7eb13e014',\n",
       " '00253.a396ca42887c9f843052432ff1bcbf41',\n",
       " '00254.84ee8f124a5dbb36412c2e2d5cca3095',\n",
       " '00255.11be25bd4a3d55702ed4a1f13e7d2a3d',\n",
       " '00256.53663e6f042c696de327ed117c0990c4',\n",
       " '00257.3e5b4e24045e108fedeff7d6ff8eecc5',\n",
       " '00258.586a8a7ca9e58ea82936ef0487ae8638',\n",
       " '00259.7310c53a2b5baca35187f0ee38aab709',\n",
       " '00260.9c633d54c32d46465f4162f3a91f553c',\n",
       " '00261.9e12183461e1f5e5061eb9f8d39d9822',\n",
       " '00262.ce0f0852efe359866e64ad9a524e51d4',\n",
       " '00263.6be4d6f2afb3d1b5b8acee019e560ce4',\n",
       " '00264.cef5d54bbce2f4a833aab06487467f82',\n",
       " '00265.d0ebd6ba8f3e2b8d71e9cdaa2ec6fd91',\n",
       " '00266.edda19cbe2bb12d6aca8f9550b870824',\n",
       " '00267.332a04bf60ba54e3a303ee253fb977ee',\n",
       " '00268.ed64201ab977eaad5fd6ad999c2f8255',\n",
       " '00269.b2b5cff76f0c1d2811d88cdfc81a2b4a',\n",
       " '00270.d0a83be3891cf0ea26d2af0102e9a875',\n",
       " '00271.b67b5b37ce874d5ccea3391922f14506',\n",
       " '00272.c319ce83bd9b379fda60a7991da1b9d5',\n",
       " '00273.b57629503558401c3945450dc5dfc5eb',\n",
       " '00274.ecbd86ce57edcb6a419a92479216e43c',\n",
       " '00275.4602fde18bf961c7bdff1a65e4e0fcbe',\n",
       " '00276.5068c9f11be01b50bd179e900cee257e',\n",
       " '00277.0b91824bfb092e74957ecff204754944',\n",
       " '00278.143effa95043688280ced372741d3862',\n",
       " '00279.db581b9c25766016fa42b54f426e1838',\n",
       " '00280.c853f6dc1379a418f0a48e7ec7009744',\n",
       " '00281.a143a6b20ae0f54335a78d477b3d82fe',\n",
       " '00282.865809c7b627e9c6f0d5b32b5a80b02c',\n",
       " '00283.3049b55cf228fd4add06e7b701f71878',\n",
       " '00284.74169e544362fc645322f98d1de72128',\n",
       " '00285.c422b202e0487f766ba13baa7b755bfd',\n",
       " '00286.74f122eeb4cd901867d74f5676c85809',\n",
       " '00287.175dfcaba6a69ffe40222e3937308e2f',\n",
       " '00288.3bf1e169fdf5504b8fa28e9998da147a',\n",
       " '00289.759738dc8d12e85d6e26b866faa94337',\n",
       " '00290.98400fc8bb102f11e201c037a613cf85',\n",
       " '00291.69656be850c89e739f4ae1db5b43d90f',\n",
       " '00292.d70b6d753352d01060579b1c34df4e4d',\n",
       " '00293.d74734bf5cf13ea138e4ee4df7555008',\n",
       " '00294.73bcb5b3dfaccc628419d7ecfe69ff1b',\n",
       " '00295.00390d9365839897c097b0db0d0a567b',\n",
       " '00296.fd066cc4153d4d6e65dc8f06165e3f78',\n",
       " '00297.be029fdbe088fc14a8124640f0bb053e',\n",
       " '00298.8b7d79e9cff4860a08188dd3d0c4ceb9',\n",
       " '00299.7e89319a2d14ca28a61ad12fcb49eff8',\n",
       " '00300.e98a210bc3981e1d64524ed9984be049',\n",
       " '00301.48ccf486575754a29b80e4eae2c5e227',\n",
       " '00302.9aa28800eefcb167ac80f4b6b1e939d6',\n",
       " '00303.72eec73b937da55ad1c649c0092f75ad',\n",
       " '00304.d02fe9b0a4d9111f79643c1e0793d846',\n",
       " '00305.4d30f302b0e02fed5944d83cf2de08e4',\n",
       " '00306.a94c65293f1aa18dd41198b867329cb9',\n",
       " '00307.a2256465cea488cb0ffe6da0a2b0fb07',\n",
       " '00308.ba65bb8c48b44b1767ed1c1de1825892',\n",
       " '00309.ac6da28f3f125547c80fb3fccc295f0d',\n",
       " '00310.66b26e342f980a716f81bb66e9b28c92',\n",
       " '00311.44caa311ef0bcbaf2efd0c9a4e09673f',\n",
       " '00312.2909c5a1114ade0b2aa7c3da6960a3f7',\n",
       " '00313.966f088102b6c7932c1a3655abd2a9be',\n",
       " '00314.611159749e214b996589d557e335648e',\n",
       " '00315.57e3c784e646e449c12675f2981a956f',\n",
       " '00316.cec9411f0e3de588aaffde5847356a72',\n",
       " '00317.62e22febb8eeb1d0a49673ddd92b543d',\n",
       " '00318.5b1d22882c6fbfebcebe12a792b3c6c8',\n",
       " '00319.2c5f52556f53f685fc0a72c6c12cd590',\n",
       " '00320.9933c126186ef60960c78df427a2d8d6',\n",
       " '00321.c3dda1549b97568144b8290208504673',\n",
       " '00322.4eeafc78a7cbb0eb92f9030742660997',\n",
       " '00323.8f7195f98946c42be7c95881ad779fbe',\n",
       " '00324.ce7f14e25bb864ee4084ce6179f975fc',\n",
       " '00325.4c10ab2dbc1ca699e7ce7a4f8aa89498',\n",
       " '00326.e77a07ed3bc9f0e54bc12c3ea32e25fa',\n",
       " '00327.f160a103dfff0676aad343813aeab390',\n",
       " '00328.3f61d8085d0a6376ce225b4d9e5630e8',\n",
       " '00329.84bd9e3cd5592c4335ded8736acbccae',\n",
       " '00330.9676b57232270d009783f5276a1efde3',\n",
       " '00331.ccd0a9edb0852f4811a401d533542237',\n",
       " '00332.5f70a83716da60e6dde2cc0c29d0a0f9',\n",
       " '00333.9542450892a144f44e4d63faabbdb27c',\n",
       " '00334.c7dd12784ce69de4bb49147cce037d76',\n",
       " '00335.a48aba9076c75a8eb74f74ae1f9be1e9',\n",
       " '00336.6d3511fa350ee5cf350ec4827fab5100',\n",
       " '00337.2214ccddb3c9bd9cae70fc25dc9b1de6',\n",
       " '00338.e761d6d7c88c70b86e0dc9d7f0003fbf',\n",
       " '00339.865b307b144029f04b1fc94110acdb91',\n",
       " '00340.91d8c92aa5eccc84c40364fc4fc1ed63',\n",
       " '00341.c7f56e7cd829d52190cfd4af810bebce',\n",
       " '00342.e6c781df2ebba44a429b49b86b376559',\n",
       " '00343.81675074f7fcb53fd83ebabd4d158cb7',\n",
       " '00344.99ffe210a9d425a86ab01840bdfd86c9',\n",
       " '00345.20c35f26ff6b56d678fdbe7750477668',\n",
       " '00346.f1d941485f6a20b29329111c59760585',\n",
       " '00347.f133df7e59af41ba1c596e60dde9dc48',\n",
       " '00348.009168209d00ae1cb41ebe3a7f113d4b',\n",
       " '00349.0a6507ca70c84e4beab8698a733970f6',\n",
       " '00350.b01dafc878fcedbeee6a4d7c120ef0c4',\n",
       " '00351.edc235781cd0e2e3b562d868d3a8df62',\n",
       " '00352.986723b3325cd57e893cfcdf992d59b3',\n",
       " '00353.ec01b62420323fffe253643fe0439c86',\n",
       " '00354.2302c4c1801e52a59346a64a5a31ed85',\n",
       " '00355.9fabc0fb3da1d8376c6db0702b60fb39',\n",
       " '00356.f414aefc1fc74d9cd77da0f07f64546c',\n",
       " '00357.d559b71616f64ba1d1c1e61a03644fd4',\n",
       " '00358.df37619f4cc3d224acd6f8e57e67fd24',\n",
       " '00359.dad4917f824800d6623db29ea557b514',\n",
       " '00360.5e45677c7b7a664d516da6b003d9656d',\n",
       " '00361.6a215262fed7b15f657b22c65107eafd',\n",
       " '00362.bfb007d2df523d5e4ad58dfcdbc1b8cb',\n",
       " '00363.64af27f0c753ccf6ec2e9c4e64c14b76',\n",
       " '00364.30f174421507d353f1f602919dec35af',\n",
       " '00365.b73623c2ea40e64854121432f02a5a15',\n",
       " '00366.e6bc462793d21f588e2368dc089399fc',\n",
       " '00367.d44ba629ed6383ee94999179bb6a04e2',\n",
       " '00368.f86324a03e7ae7070cc40f302385f5d3',\n",
       " '00369.f6f9d4cac4af831140abf032d0378365',\n",
       " '00370.0a2e3b397565840b5c4e46d5c5700444',\n",
       " '00371.3d08a5b828fb31bdacd4d07cad065171',\n",
       " '00372.caa02bf9e0bbd7643dbe83fbac984003',\n",
       " '00373.818730ce90950ecbf244e045a713de53',\n",
       " '00374.67d51286926b6af9ae9be32a9e446b29',\n",
       " '00375.205477cf488dba15ec6dbc46011b8251',\n",
       " '00376.3d17aeac1de8eee4383e077b9e0fe703',\n",
       " '00377.6adf708637c5f1dac1822d80ad0a5740',\n",
       " '00378.46432f84e1aab28c26cf1bc5aa2d36bc',\n",
       " '00379.9c4d9f4fb86361e3c21f376f2cbd0ac1',\n",
       " '00380.9426f88747cb44438bb358841649f326',\n",
       " '00381.235df96b897714cb8dd4fdb74113428d',\n",
       " '00382.457cf61e60b0e7fe754a478f2e2c0592',\n",
       " '00383.5b3e8da8353f48bae364fa900109c027',\n",
       " '00384.956b8ffd2bf74442b89dcfc3b3ea32af',\n",
       " '00385.c874a33cb7def0721807ea870e3c31c8',\n",
       " '00386.d929d7bb175845f6eaa3549dedd8a1e6',\n",
       " '00387.1a5243d401fec09abe374e77ad201d79',\n",
       " '00388.18e2a6069150c2c9139f760fda7668ac',\n",
       " '00389.8606961eaeef7b921ce1c53773248d69',\n",
       " '00390.1b4f14e80c8e7797dce79cf5dc22b625',\n",
       " '00391.57ff08c2830235fc1315c1745829d190',\n",
       " '00392.1a94887ca585cbdaeec97524b9308b63',\n",
       " '00393.b7ba3f196286b0c5ce6e5b1ec9078cd3',\n",
       " '00394.608684acea4bef2ae7f5b89309a6046e',\n",
       " '00395.01a60f5f85141b74be6aa6e347feb5d9',\n",
       " '00396.e9b98e25827d06c7a9cc304282011961',\n",
       " '00397.8e97b74b0753e9f56160fc8cb8d933c9',\n",
       " '00398.d6847698229e6211c91085261e0a9002',\n",
       " '00399.a7f6ab4a02fcda6c06662a660a75e677',\n",
       " '00400.ff81f656b45e5f910a2a64116ea00fc8',\n",
       " '00401.fccfd3c52e43aa3512874c3efec9edcb',\n",
       " '00402.8e937401f8a8a7a1c7661e076f96cd55',\n",
       " '00403.bda6864694236a9ec97714233b831c31',\n",
       " '00404.fb2c69f7df37b12bc62737254d0ea36a',\n",
       " '00405.c838c0717624d85d5a53371fdbce5955',\n",
       " '00406.fe97503539c60ff6814fa2fadf1aa630',\n",
       " '00407.11425a14d7fd9c3e1806fd7dc648001a',\n",
       " '00408.d52d0dde484c37acb79bfdc18d4a2aa9',\n",
       " '00409.6219d28fb4f2ca0173e3f76acbbec8ce',\n",
       " '00410.2bd60034fe4c3f781e44ddac87195fd3',\n",
       " '00411.478dc892fbb1a7970a4442fd6b977c25',\n",
       " '00412.2f7375258785a03b8f8ca2adb0c72620',\n",
       " '00413.e637d3bed73c6df691dc86dd61d46192',\n",
       " '00414.c2dee68136358ceec7d235d03185822b',\n",
       " '00415.62ff4ec7f1c4aa5e5ff0d1165892c0bd',\n",
       " '00416.ea1ffcacd8dd84214e745d86a5013115',\n",
       " '00417.7ec0b5a250ddfd52a9b46385688f9f9c',\n",
       " '00418.93eb266673b3731d82ce305ce6f9aef4',\n",
       " '00419.a88b7702054f8fe1ea38daf082124a6f',\n",
       " '00420.04f6a1501e06ccfc93978982ee7ece8a',\n",
       " '00421.805fdd426ce515374b9e0b42a83a4042',\n",
       " '00422.ac4b66f9c3390c3a98d9c8cbe75f403a',\n",
       " '00423.cfe8ba459149d893789505dcac7db306',\n",
       " '00424.9975dd35a0bc8834d9ccd7dfb27ae7e6',\n",
       " '00425.0ba16e840d94d629f8a3881b4e03a3ad',\n",
       " '00426.dbc70af5d406b97fdf70de03697f5a5a',\n",
       " '00427.49db73be9017efca7355ee80f173a26c',\n",
       " '00428.f28828195802a97e84fbace0b81dbe53',\n",
       " '00429.5c83e9a65ee27155654607ee770b8142',\n",
       " '00430.3fc5dbd2463ea79d094b859e9d7e3465',\n",
       " '00431.7f3adeb8cda736429bbe7ee757a07232',\n",
       " '00432.039993123f40c5865c1a9831b3e32297',\n",
       " '00433.881e63c5f176a80aeb5428f36bd0810e',\n",
       " '00434.41010fa84308b599b5ca5b597185a576',\n",
       " '00435.01f1329e5314b30b44b36c20a98ed846',\n",
       " '00436.90165e25df2411e4bef93391f57d2257',\n",
       " '00437.a1f4bc09ef8406e572438adeb849d31c',\n",
       " '00438.e56e66c54e734033b4f014a98615eeb0',\n",
       " '00439.982a2ff6189badfe70c2fe3c972466a2',\n",
       " '00440.02086b5f064e33a48c34183441934bd3',\n",
       " '00441.d98a50dfe00c17a9d864f859480617e2',\n",
       " '00442.d35b7a477107b2e6bcf47f07eca41fa6',\n",
       " '00443.cbff6c2a1679fe0ffa99c07c61c123ae',\n",
       " '00444.eca3cc749e5630f73f2243f1f35563e7',\n",
       " '00445.45f666c21ff201e070e34c0ddc33dbe0',\n",
       " '00446.8305adb883b4b3721b4c9e541d5017f7',\n",
       " '00447.decc7752d5a6bc685e47b094f76bb2c1',\n",
       " '00448.18e06f65c923e685fb4f72d90962c217',\n",
       " '00449.a5774525dc915cffc54433a1793cbf1a',\n",
       " '00450.72b1e6931947f5bfcc7c116431e2a093',\n",
       " '00451.939a31fdd3afff7c049dd3224ced6261',\n",
       " '00452.82e58fa634669d9f5543b297cec9b6b7',\n",
       " '00453.1b26da8f96711b00e186def7371d1e0d',\n",
       " '00454.e4cd59db7f7856303052e3e882be313c',\n",
       " '00455.d88c833e795f29473c862b4e4a43ac20',\n",
       " '00456.6932df857bc1b0c8766e5a9794d167ba',\n",
       " '00457.89579a11f9036c69e46063fb22057fe6',\n",
       " '00458.ad4375d9c03bdcd1828da9c405441b65',\n",
       " '00459.1b37170cbdad7f2ad4051ccff4d2b863',\n",
       " '00460.ae11aa8c20cf158f55b6a180679d74ea',\n",
       " '00461.94c0b7cab722e5ac253b285e50b047e1',\n",
       " '00462.d20502b45c48c8bb613feb09cd9219c7',\n",
       " '00463.4d93152b4c4c397486807b53501aed8b',\n",
       " '00464.5a7f552394a07524c4aa23b06c9e5915',\n",
       " '00465.772004398b9f98bc63ab9c603b10ce08',\n",
       " '00466.cfc9f0d8a4e28c000bc8962d4d3924d9',\n",
       " '00467.db0549489738f320732f286f74986743',\n",
       " '00468.0aeb96f2dc4a95abedb750a6cff7f343',\n",
       " '00469.b1d31cab7c1b3b5897393f46ce62b3e9',\n",
       " '00470.efaf4cc30f0107b82eaee72c68af5bec',\n",
       " '00471.4275aa8908e9754226118eb99aad8c6d',\n",
       " '00472.32120f66ef86d03baf663889b0235d94',\n",
       " '00473.18c8849136c818c42e6429e94bb42f6a',\n",
       " '00474.df7437b06e0b8725f8309196ba8dd09d',\n",
       " '00475.90154e8e3f3761b155d35323f54aaad7',\n",
       " '00476.7133902476448f294ee064117d96c988',\n",
       " '00477.ae6b0e13cfb834b905857a31327dda32',\n",
       " '00478.416296a9700921997bbda37e62c65035',\n",
       " '00479.1bf2cda4c4b42b94b9b0b14ecb9f826c',\n",
       " '00480.a12b636b1444ed8273930c901422c6d8',\n",
       " '00481.a7bee7a7de9cfdb9ad19c88c0440be61',\n",
       " '00482.6967f5ac2b3b99a8c940773658f4c406',\n",
       " '00483.0ce5057dc155d6a6aca6c917b4eb0793',\n",
       " '00484.0196194ad15151d749ec445f38a2ab47',\n",
       " '00485.51303357b6e195501f2bf225d60161b1',\n",
       " '00486.8294dd2af26dd3d759390f412bbec227',\n",
       " '00487.3f2dcd848a26fee4af6be79673ca12ad',\n",
       " '00488.88642710e6c206d0de1d8a0093ed2700',\n",
       " '00489.2a739cd71c4667d635698fff5120bceb',\n",
       " '00490.4734366879f0805c510b6665d99d8fec',\n",
       " '00491.c0d9405bdda12781f96bc37c00a382d9',\n",
       " '00492.3ffb38f175e41790b1f05096dbe339d8',\n",
       " '00493.29a23aaa27a825c8cfb67264b9d7aeb3',\n",
       " '00494.ba6ae1d625f2a4e039f6822868ee48ad',\n",
       " '00495.3bba63110f3a2a97ae71ce53268766cf',\n",
       " '00496.6ebe7969144149d6c8c170732a1b63e1',\n",
       " '00497.d1de10013dcdc07beee6507aa0d274c9',\n",
       " '00498.05456f69b8ce95cc1846f396b73f31b8',\n",
       " '00499.e9a4884055f2ee93c2c0d974c8b2e7cd',\n",
       " '00500.eb1460f32ec4693ed36e356f0401c8e1',\n",
       " '00501.d49136e1973b2bb467093cc28419b214',\n",
       " '00502.19da1b53a1529e45350243255bee8fd2',\n",
       " '00503.8371a5419a277838b32355a79e9d00cc',\n",
       " '00504.9f783e81d6dd916618dc079f58606b8d',\n",
       " '00505.22cfc49506156219ff2e4441d92e077a',\n",
       " '00506.e8f8279bf8b010bab338e085be47dd9b',\n",
       " '00507.accde385fd6700b6e66aaeaf9032bfc0',\n",
       " '00508.80880b09c43a6a31fdf49578eb5692f1',\n",
       " '00509.d5737f6af394368a65215162e3cb23f4',\n",
       " '00510.850dcc2f8864451743299b60cbd4dd5b',\n",
       " '00511.a729fad46d130c7f0990e0586ed25aa9',\n",
       " '00512.c77705cc5e9a878a5c1f5b17583720f6',\n",
       " '00513.8454cc27ffb04db6d63c81e33c0067e8',\n",
       " '00514.d44bd760b7ea720b9d1e1a7ba105e696',\n",
       " '00515.e84988067a252d765f7d24f15c0b0670',\n",
       " '00516.139a390f9320423395da77f14f7118db',\n",
       " '00517.4610bfad0be0872b61a11e2e7786a4e5',\n",
       " '00518.9aaa49b7c1be4cece3992633347b8a40',\n",
       " '00519.595dfd5bc0bec7bd5f06673fc428bbb3',\n",
       " '00520.823579bff3285c4aefe85db5bff0d6c9',\n",
       " '00521.900f67b5696388c58966c58e3aaaf90c',\n",
       " '00522.db4b857b35a54049c2dc88b2516eb1ea',\n",
       " '00523.9fcc28348487963a8ae5f43c3deb4334',\n",
       " '00524.8635e65e0ff007a8d5cc29de21c04cfc',\n",
       " '00525.08f2f03dc58bc667d28140d30c203cea',\n",
       " '00526.27d0075c192b704fd3b804497b8c33d1',\n",
       " '00527.fe739430917f1facd61acbc162d71970',\n",
       " '00528.4069e359640cbe831b602fd3cc387469',\n",
       " '00529.f267247f996b2eab55c6e18b63e3968b',\n",
       " '00530.1a07bbd6fe2438ed2b3f11e92449327c',\n",
       " '00531.711a16c97d6955bdc3d4b09656e44d93',\n",
       " '00532.81180d4d1d632bb50c189b51f83921e0',\n",
       " '00533.ebdd2ab43a73a867388b595061d66d59',\n",
       " '00534.6db349fcd98d25f61e5bcc4552b45f57',\n",
       " '00535.2c21f614f9593edc5049248d6e873ce8',\n",
       " '00536.ee0a85c68f0db6388d6f8a3468af70ac',\n",
       " '00537.0b676300c214afdc2dd6a5007e8b8e2a',\n",
       " '00538.313057481a3b1638c05066fad46ae65f',\n",
       " '00539.f3a3a009e8410ed004b045e724be525a',\n",
       " '00540.c9e660864381381e6a16c599c8f2e1fe',\n",
       " '00541.cbdcefd1a6109b8f95e1c8dddfbd7bb2',\n",
       " '00542.1db9cca8020648c0ed80436b9aea4d33',\n",
       " '00543.0641e755767b41b404070e155708cee6',\n",
       " '00544.5a9365cf80100b89b50656045cb8b80c',\n",
       " '00545.99996f28814c7028ce6aac44270ff3cd',\n",
       " '00546.30fed3b8e986dc41b1865b9285e84e56',\n",
       " '00547.59bf01e07cf08c7e3a778b747e020989',\n",
       " '00548.120e45c5d33311bc09e844bf236521d2',\n",
       " '00549.a847ea8934802a0ec67a7fd1d136d26d',\n",
       " '00550.02e6c81fb637ae555b997d6fd72df731',\n",
       " '00551.1c59fd8e4f3176c859b79b9a75fcc3b6',\n",
       " '00552.2a17c933697e682b93c2f32b66230a3b',\n",
       " '00553.d1e0ab732c8cbe70432e98301e352954',\n",
       " '00554.a01a74aee9653a7ae8d1d558c75f0a5d',\n",
       " '00555.4139b207075574b3774942a3a42013d8',\n",
       " '00556.eea9a26e128c1b4b676b4180adbd547a',\n",
       " '00557.62ed7b82fd342ca4d7932ccee2552337',\n",
       " '00558.95b8c2677759a2f569a5dc0bd70b8cc0',\n",
       " '00559.caa975fbe7e1641a76de679bdf213adc',\n",
       " '00560.e49654efbb65ad7539d43d356457a322',\n",
       " '00561.4fb75fe802e36488a6acbbcccbcde3c1',\n",
       " '00562.3f2a351171504facae22864c794c26b6',\n",
       " '00563.8c8efdf5034a0ba771e48494fd2d8099',\n",
       " '00564.e6fc359c277f507a2e01198b9c60ae61',\n",
       " '00565.4ef76da45577ee17827cec345ac543b0',\n",
       " '00566.4ce66e249726f98555ef3a7ba1f666d5',\n",
       " '00567.aa0b1a5ccd63ce58ca09389b7dd7a5aa',\n",
       " '00568.e5478bfa670cbd9bc3d26ed23e7b3eb6',\n",
       " '00569.d6da87140fd0ef187bcf217a57153cca',\n",
       " '00570.d98ca90ac201b5d881f2397c95838eb2',\n",
       " '00571.8f35c46bee6d7a238eabf207a5696b0c',\n",
       " '00572.c406ac5bc5c42bedbce48f5661d29976',\n",
       " '00573.f36b8bb4af93f6b0736e7475eb6cbcba',\n",
       " '00574.6c736036ab8317e753dae53ef19123e9',\n",
       " '00575.c4b32c1dc29245ce6298f5abf2f0b085',\n",
       " '00576.36892439c0a6bdd5b4231b639b639399',\n",
       " '00577.8f3db8ab8b69d38bddf8e5a91b353da2',\n",
       " '00578.8c710aa944374d631b9969a806e32a30',\n",
       " '00579.566d8e05220571bff1c2f392a1c7bf41',\n",
       " '00580.41f4f9793351fe7c7d3abe77cedc5528',\n",
       " '00581.9922b0f34aa8f51fb4adf4bf4ecf1464',\n",
       " '00582.25153a03da1710fd133d6ff373d612d3',\n",
       " '00583.7db5166f3ec5a8bcf81bf1b639b48361',\n",
       " '00584.1994033689471c5000d715aeaaf7be24',\n",
       " '00585.a55a40c5fca535871d78848d27efd540',\n",
       " '00586.7ca83d6acc8e5b0e44b78a4fe8bab72c',\n",
       " '00587.8d78332c747a44bf017724d66bf71647',\n",
       " '00588.708ecb20113d4c80b91936cd1c86b186',\n",
       " '00589.38f809ae603fbabb0d3f2389011e9150',\n",
       " '00590.3b596d6b2e6ad9b9f5cf3593a398260b',\n",
       " '00591.3bca4fff29ae5e89e2e2948401a24ab8',\n",
       " '00592.9608ca87c212f35feae1ebde5567c0e2',\n",
       " '00593.f71a708b88b51c4d428bb3bd741ece2d',\n",
       " '00594.805dae98d1ad6f99a7792418c1faccfd',\n",
       " '00595.7182665eb052808e2061bacbc75ed5ee',\n",
       " '00596.73c2473a9c778e096f3a9160d72567e9',\n",
       " '00597.d69fd43248612845c272cc277b890e1a',\n",
       " '00598.583ed313ddee00f0dc9929f76d3bb24e',\n",
       " '00599.94c013ab7037d45045aafbac3389bef0',\n",
       " '00600.a1c1bac6e4b69ad676c35512fec98e05',\n",
       " '00601.3db4b70f50e83050fcec38b75dee609e',\n",
       " '00602.2dc7ba42179a34e52badfe383f7fe08a',\n",
       " '00603.712b15c7b1e7bef7235068a3e4d9bd39',\n",
       " '00604.2241c022167d341022d1f345689801d7',\n",
       " '00605.63a8dd42dd6ce5499718d03acfeb0746',\n",
       " '00606.9733a34d34069bbc9671b0292068449d',\n",
       " '00607.5032b5e20289cecc351fc872b92c2003',\n",
       " '00608.36856bbc19336f3fd57897105b32c720',\n",
       " '00609.07f3cfa331e44f1fc138217fc9f9eb86',\n",
       " '00610.ef7ca9c067516bdd7e29aebc488d1edd',\n",
       " '00611.62116da308e2b9eb2e57ee12de12b677',\n",
       " '00612.97d0559a45fd4630e954b8687dfff55a',\n",
       " '00613.b8dd681e75a5583349b54f16991b096b',\n",
       " '00614.2487f80400eb954b7c3ab257771ed393',\n",
       " '00615.4762e05d7ff70fa43cccbad6745b34cb',\n",
       " '00616.1111fc61de078f069db9d72e961ab5a1',\n",
       " '00617.5433c6be9644f6d773afef39392cb24c',\n",
       " '00618.bec430e993398552fbf09c76e04b9994',\n",
       " '00619.b2a33ba25583113a3d435bcbc8759244',\n",
       " '00620.8d1ccac5b4a36e47f5f168c19e6ac573',\n",
       " '00621.2b161b5c7c09b45b568c1982ed49a008',\n",
       " '00622.80ded6eb7b17a2bb45d502b85244dad1',\n",
       " '00623.37932984e4241279e60e9c28f7fd6706',\n",
       " '00624.2847b091fbcbd97af477c23439e0f22f',\n",
       " '00625.bc9f45777515eeeb8da0c8898c0526c4',\n",
       " '00626.349d4ef602ebce0ec03f1505989ab135',\n",
       " '00627.fcd38764f184dd61db99e15081590e7c',\n",
       " '00628.4a185fee450d8239cf82bee902dbd1af',\n",
       " '00629.370fec99ddca8da57ef5cb0bf30375e5',\n",
       " '00630.d4dad4b8734a30afbf8c80499e652c2c',\n",
       " '00631.585978ee5a109ebd04ea2289ddaa3f20',\n",
       " '00632.5aaf2a16e34b00ee971d17bd4343e61e',\n",
       " '00633.a3d861bf0435fda936962c572ce0956a',\n",
       " '00634.3215eb7dfc919ae5ca49520f9fcd43df',\n",
       " '00635.b30f8636725812c0d15a96f31c07f8b6',\n",
       " '00636.f15c6eabe3d5204cb8704b0a4b845403',\n",
       " '00637.0f0bbdfd5cab1e45883719f70f691862',\n",
       " '00638.62a452b9264fb77572bb34181f71a325',\n",
       " '00639.bf2aca6432694667dc120fff4224e5be',\n",
       " '00640.bd6aaf961fe455813d6cd9448c29f312',\n",
       " '00641.96719d053974ef201283237fc146f384',\n",
       " '00642.19131d951ee16af5a157685213dbc7b8',\n",
       " '00643.25062169a6a9d2109b047a95c633f885',\n",
       " '00644.47e9eaa5c1cac5f991f30201ae7fda6e',\n",
       " '00645.2d95a6a89614625aafb7b333e799e111',\n",
       " '00646.866a1abeab0f141ef2de39b398134d0b',\n",
       " '00647.7d9cd4058b01e8b7f5f788e7fc159aae',\n",
       " '00648.d3808dc202cff72d0326d74d23eaad17',\n",
       " '00649.b630711c0f63812f552cbe85b22f4568',\n",
       " '00650.2c20a3ae4da8ff5186f738ee5d833fda',\n",
       " '00651.10adacfbcf0526d9aa331dbecc1a9509',\n",
       " '00652.dde353b33fdd09f8daa33ffcdb016188',\n",
       " '00653.5bf375439fd118575f08b85000c0d3c7',\n",
       " '00654.820dea38bee9162874d734e791ef5ab9',\n",
       " '00655.cf1f1255898932a567c5f7c39faab3b9',\n",
       " '00656.7d0db073b656ae5ecd234e0c59e97623',\n",
       " '00657.9095f1e5c94587ee44a269318647bf4d',\n",
       " '00658.b990e54a957ef200aa8d668dff83e83c',\n",
       " '00659.1217006d88c29f2f900a9406c51feb64',\n",
       " '00660.91d1af396b1bc7b8703f5fae9de020d8',\n",
       " '00661.e779083f6d4522af5231edf0b9371a1d',\n",
       " '00662.020708cee6e991e3c3a58aa83df7f8d0',\n",
       " '00663.cbfae39e27122415329840060e7619e8',\n",
       " '00664.dd3769251f79f493bd990b8c3f870f24',\n",
       " '00665.f1547d981d26d8c8ccfa9375dcd7d222',\n",
       " '00666.9f288224f19ca69b2663b5b9a85d8d62',\n",
       " '00667.dfa0ab3eb4214034892b8cda76d9d750',\n",
       " '00668.c788422df192a179d3a6ddbcb8b8b612',\n",
       " '00669.1324e7460b86ccd5cf81ea949704351d',\n",
       " '00670.be029e37187b8615a231865e3663dcf9',\n",
       " '00671.daf16d838d9b71f5f6cf09d54ebc1e3c',\n",
       " '00672.f7e4f9c91f81b7506b0e9a22ef1fdfe5',\n",
       " '00673.aa68749868d6679697146490282dc908',\n",
       " '00674.6dcadfb64e1a333f826a1c7b5c722f5f',\n",
       " '00675.2b3aefd8378ddbd20396c4b9d961a0bd',\n",
       " '00676.5a7325cc70b1732867ec5b831da86eca',\n",
       " '00677.b957e34b4dd0d9263b56bf71b1168d8a',\n",
       " '00678.28c4d8cffba35f7a4fa077efb4836fc0',\n",
       " '00679.7c3eae8e28aadb8ea378fb5c04bc5d29',\n",
       " '00680.fba9fe0db5780caca8155fb4defdc679',\n",
       " '00681.fd01c0551b4b72201697bfbd55bccd25',\n",
       " '00682.7b96194cc45dfc4d54679a198dda3244',\n",
       " '00683.7d0233053c9421fe2bf29e23a4aa5b18',\n",
       " '00684.1969c6baadceb721cc2a565b93e7f63f',\n",
       " '00685.0c2b26b54c5bb9e9072515d58ccc14ea',\n",
       " '00686.24376d10c9d96b5aad34a8ed8e6b7586',\n",
       " '00687.a044e978152b1411bd3ea6ddc0f537b2',\n",
       " '00688.b05bdac7f180a6947d701b974b413dec',\n",
       " '00689.baf30774fe011781f6822746345015d5',\n",
       " '00690.f56ab439b3ce565dd3fbbefa5fefd0bc',\n",
       " '00691.fe0daf79c97e1e314de953d18efc37e2',\n",
       " '00692.9761f9740766106c5f982e773069a76d',\n",
       " '00693.6849440c3e1d1584a9f05b067d0062aa',\n",
       " '00694.d04cd6e81d2ff9a678a18607d32e229d',\n",
       " '00695.4ea4110f03a11a6f24b27420647d375f',\n",
       " '00696.767a9ee8575785978ea5174d3ad3ee26',\n",
       " '00697.edd28212eb2b368046311fd1918aae7d',\n",
       " '00698.09cdefd75c1242540db1183f9fc54461',\n",
       " '00699.29e599983f044aee500f3a58c34acffc',\n",
       " '00700.7eee792482a5a8cf20f1e4225f905f6b',\n",
       " '00701.4c1a296394c3afdcb38020e8283d1a5d',\n",
       " '00702.bf064c61d1ba308535d0d8af3bcb1789',\n",
       " '00703.ec6e20ebdbfec16d51db2989785583ed',\n",
       " '00704.e077ad131955ba1fa3b9ba7a68b78f62',\n",
       " '00705.e481bd3281b960fad92e6dfaeb567d14',\n",
       " '00706.a5e10c660dcdf09e6e760d87c0589b9b',\n",
       " '00707.72dce8440a545f840d53765a11adce4f',\n",
       " '00708.d3270ed75122fa3989cec02ffb5b3066',\n",
       " '00709.ab6879788945a66541ed05b4f23edbed',\n",
       " '00710.ab32156df4d26cf061b7e553b51547b5',\n",
       " '00711.cd5fd593ba9d0f75c0af12f4fd2d64f0',\n",
       " '00712.89e45eecae00da0b8207bc79d2e843f1',\n",
       " '00713.7b4a3ad6c8b6bbcf358ee5ee23dcdc12',\n",
       " '00714.16c4d34ab2c9622fe82de9570946f9ef',\n",
       " '00715.ca0843463580080429cb2d0192b9ce0a',\n",
       " '00716.c0e0c922db8f605b6475839d8fec9985',\n",
       " '00717.041b5d95813b24c07616f52509bb9fd9',\n",
       " '00718.1fc4cf16dbe6d0395c754671b24782e1',\n",
       " '00719.6d73cfb0bea6fe5002fbd3b260d480e6',\n",
       " '00720.60fb431980df487172ca5ba412bbedc4',\n",
       " '00721.9f0c973b343b808cdf4ab26c9e9b3b50',\n",
       " '00722.6520838870f11a569a006ac7e119782f',\n",
       " '00723.e72e8e80f67f30983c089943e184f5e6',\n",
       " '00724.06d186a9890c1bc07b1e0bd89b7efb8f',\n",
       " '00725.5d2dec63252bb5fc57f3de280129656a',\n",
       " '00726.96933510684f33c2eea5711f969fe444',\n",
       " '00727.ea5bab335cc61c1d3d85a8566232f5e8',\n",
       " '00728.b5de363dc254b32b4a44fc37743d9322',\n",
       " '00729.d8f3ba695fd4f3c1ac6361f2e118ae55',\n",
       " '00730.b2c9b979063d66d1a14f8d834a1c6dfa',\n",
       " '00731.23dbba60cc6ea56f735599461109200d',\n",
       " '00732.3ed34429d759468e94c14ca1e2bb231c',\n",
       " '00733.8cd99b24ae020e6028d85ad0c4f06186',\n",
       " '00734.e37922bdfd9e3246c18322e4b07a4b23',\n",
       " '00735.97b119b8e994bfd0c9a3455b407e52a3',\n",
       " '00736.ca47a5a3b86318e4f1ae4d6bcaa7fc80',\n",
       " '00737.fe2d8d182d9bc421411c9ca9012f3afc',\n",
       " '00738.5c6ce770da4cc06ebea777b8be30abaa',\n",
       " '00739.9034df113ffe0cff225c698efcea7426',\n",
       " '00740.aef9889d927eccf01a365d72db48882e',\n",
       " '00741.03396e9c6182ba4f821ba2cd3740d1e4',\n",
       " '00742.1be305d2baafb0b3699c2750ee546787',\n",
       " '00743.1ee0d64b26edd4ab988d5b848232f554',\n",
       " '00744.667c8aba4400684b27c339f72ad86968',\n",
       " '00745.d2df6fc9d5de220dc9b34cf04addf9e2',\n",
       " '00746.0ca47650bbc1a73fcfdb519b04fb635e',\n",
       " '00747.39967f26d6c1cba3713e2b9f318d0531',\n",
       " '00748.d6ca40c29f4224487fc8d802cb5dca88',\n",
       " '00749.5f32bf86d99139f3256aa4afdd607f58',\n",
       " '00750.5bf605243948976794d149274a18159b',\n",
       " '00751.1e509bcc1e777532f90081474defea62',\n",
       " '00752.3ce51c783c3d6160d34de35e429dc470',\n",
       " '00753.880e08a60a1c96760d26d37f2d6b1cbb',\n",
       " '00754.35836a337d451aa3b7cfc7a7e617c2b2',\n",
       " '00755.798a2e0b9045d90a9bddbb501dc1fcfb',\n",
       " '00756.286dd5a4431bc1a94af390a6bf4d0349',\n",
       " '00757.0c98cd042bf54bed37dc526f0b57bf26',\n",
       " '00758.af02ef2952273218fb9d6c7ddbec7910',\n",
       " '00759.1c5ec35412195e0c2d80ae829d68e8e9',\n",
       " '00760.705760ac23c26098abf407bfdfd30499',\n",
       " '00761.b4bbbb76fb1fa8407236f5cb167c33d8',\n",
       " '00762.c95ecbfb41e18e9ae4b9aceb4a7de176',\n",
       " '00763.509a13b8ff69430aacaa8b786b322939',\n",
       " '00764.13a2828e7c0475a4d67413331b3f7b2d',\n",
       " '00765.ea01c46568902b1338c9685b55d77f6c',\n",
       " '00766.9ac5716a891643ea31d43388a282cbbb',\n",
       " '00767.d5b223070f2a19834daa88bc4338354d',\n",
       " '00768.ce54703f83eb3bf04a04f665dbf55e96',\n",
       " '00769.25bf9a767b5db0ed93f03c1637281663',\n",
       " '00770.b6b328aeb18316cabd60aa75025771d0',\n",
       " '00771.2ce14d08f77127e0720658404cc4ce11',\n",
       " '00772.ab8da3bd11afb162b0ccbd65edaf6cc8',\n",
       " '00773.d8b19e7b6c9a53f4f37242b3f1ca1276',\n",
       " '00774.1af9be3cd1aba6a371ee11dacc7d1025',\n",
       " '00775.0e012f373467846510d9db297e99a008',\n",
       " '00776.20cdc88a69e453f1ef0dd3b5f55cc717',\n",
       " '00777.5abc0824f35b966cf589b15c4f10f2d2',\n",
       " '00778.d83af9d544ca2957ea6f326728ad004c',\n",
       " '00779.d5e815dc2dda6819f41227fce324b31d',\n",
       " '00780.3c407d4d7361184c739b0346741036dd',\n",
       " '00781.f2f409be2c85d1303022b58db1551d85',\n",
       " '00782.6600ba2aef2816e4852a4c8e43130591',\n",
       " '00783.14a724489223eda0063e308c6914ee38',\n",
       " '00784.372fcb5f8a0507aa4a8fa0de1e76fe79',\n",
       " '00785.95b5f5d3a4210fd76015c4659c5b3ca0',\n",
       " '00786.ca79d7745b67c62712e5a5553c3b83e1',\n",
       " '00787.2ffb20c151e974ecf6dceb42547761d8',\n",
       " '00788.cae8367898a24746723decabdd20ac38',\n",
       " '00789.87278efee0d73a7e902af35c49084230',\n",
       " '00790.226ce4b62d85d7ca13f3f837b731b082',\n",
       " '00791.0150510afcb54992415d2eff33d5a8cb',\n",
       " '00792.f321af7901fa6c9e85362d921eadf2ae',\n",
       " '00793.6da29475fba399c38bb0a93efabcae5c',\n",
       " '00794.ce4c417f911968e4be6ee1203db0bd94',\n",
       " '00795.ea9b54832cc27bb552e483a6aefbde47',\n",
       " '00796.1c06b1656c17f8aa92a42a82ef0ad2e9',\n",
       " '00797.f9905519971d08a70a6d9815016f8295',\n",
       " '00798.789e730c08cdcd58675c1f273fe507ab',\n",
       " '00799.160a04b5935b5a9610b4dc15951b5d30',\n",
       " '00800.0a94761ce8069732112ac9fe52b14e9d',\n",
       " '00801.0a1ec38cd598d6c2e02323487c74e53c',\n",
       " '00802.c2f1957d9e67ae45f06a7c0845b02f3f',\n",
       " '00803.a9faabf181ecae3ece9f7003a005aeea',\n",
       " '00804.a27b268d92e03d488d534b6e69d98f43',\n",
       " '00805.15e21951a8e03def748ffb6b0de7220a',\n",
       " '00806.eed01b7d2bc05e5490e75f366a534353',\n",
       " '00807.ee4df461634d0e9d9c7ef72046c3fa2c',\n",
       " '00808.1398044c30f7120129aed031ce56ba58',\n",
       " '00809.93dfdb8801515083fde97a7fe6c921e4',\n",
       " '00810.a290b36b1210ae7d5ad8d224aef851bf',\n",
       " '00811.caf6de89b99d2266288dfeff16359be3',\n",
       " '00812.5c9165b987d6010d672516ea28ffe213',\n",
       " '00813.3bb7842dbc6ea433e2fa5fb94f3d2571',\n",
       " '00814.6095f126eed33df37a63e3a37b2728fb',\n",
       " '00815.141d4c82a4df4a06f0c0967a608109e6',\n",
       " '00816.5fa114769164d0ff93317bc714a3f68f',\n",
       " '00817.6dd747cab2629ac615233a528525bb8f',\n",
       " '00818.02224a14a25dd7014fd4f48518f48e5b',\n",
       " '00819.cbb61ae5d168944f5a02eccfd7217173',\n",
       " '00820.13f6cb2d10777d8b8ff18399657607e8',\n",
       " '00821.610507766f9b9a60431a96042fc135a5',\n",
       " '00822.9d70f64546100d8f04b7394760cf512b',\n",
       " '00823.187ae0372c96a338a86a19fc3215010d',\n",
       " '00824.77239fe11a4e1336ea49ba0bfc2de54b',\n",
       " '00825.49de040a4a48997da11b0e751d40c211',\n",
       " '00826.6ab31aba455701b24c69fd1f6dd59184',\n",
       " '00827.b863d1780c6c6ed248a3e9136bd52b72',\n",
       " '00828.709e1ec58a2bf04455cdf5c0c83f444c',\n",
       " '00829.7c74d7c59a6a5f0d0e54562ef671d14b',\n",
       " '00830.3a2cadbd29e654a7cbbf64ba4bdc378d',\n",
       " '00831.dfa70bbdaef79d5863917ba90097ba7a',\n",
       " '00832.e30b18b8b964c0252bfcfbfe2b99efd6',\n",
       " '00833.cc61a5d9b6ac040ef4ce65d1ee5ec069',\n",
       " '00834.a73f96c83f5f638954df85ede58a3709',\n",
       " '00835.9068443a73e2e4b91c9117ef9b022675',\n",
       " '00836.0270377f02e23355cca97c0805001c03',\n",
       " '00837.d989d85087fd0d2297bdfc4c4d9039fb',\n",
       " '00838.5d38f350c098436eb6d9cccda1e054e2',\n",
       " '00839.e4777b19e2429f9cece122c1d56998d8',\n",
       " '00840.fd947072df20db5eebb0d015f20073a4',\n",
       " '00841.d62d1f4d0dd8f02d0595dd52875776ef',\n",
       " '00842.85c0352fd0fd5ed7b6008fbe62b42bb2',\n",
       " '00843.0c778329d09499853d99746d0f6f2dc1',\n",
       " '00844.4af56580a8f02ae25ec39faffafba8ce',\n",
       " '00845.c74b7d7bdbbbab316dcb7498825bba9c',\n",
       " '00846.cd171eed5306de66f8ebf444aa61e718',\n",
       " '00847.f752ba326e2f6670fb6fecc5fd655d3a',\n",
       " '00848.a99e7c1ff97407816f4c0b323421b5c9',\n",
       " '00849.5ff774a5add00c6739307f6950b4ddf5',\n",
       " '00850.9435ce0e094b16d0f2c9c458f2900706',\n",
       " '00851.51d3571c945fd64a210d477de46e14b7',\n",
       " '00852.8be48f515c9ecb089aa3fc5983eaf038',\n",
       " '00853.8b209d0398d8c0f76b676097759e24e5',\n",
       " '00854.357b5bdeea553ec020631b131b7e2278',\n",
       " '00855.8e0647984e6592b6400021a5b87ee133',\n",
       " '00856.b71f98991ee068f642498810ba0c5383',\n",
       " '00857.cea46b6fc4077476d49923b4d56621e7',\n",
       " '00858.54a727ce6b2e452f05e2719d99393999',\n",
       " '00859.54a8c500034dd8056834ee17cec9c4cc',\n",
       " '00860.a2a3bca553c3ec8e6ce24f45b3f2a9a4',\n",
       " '00861.6e526bc95d6eb4736211696fec13d9f0',\n",
       " '00862.b3e793b7c8e41cd45a0eccaa7abaf722',\n",
       " '00863.f20cfe969a2e3162ce6ce19fd80188bd',\n",
       " '00864.95da38aac2ee9c6c8d36d0f2f1e8c8e5',\n",
       " '00865.ffa802dadbaca77b74f05cc1c23c30bd',\n",
       " '00866.670508b848fa453d194f443f4737b351',\n",
       " '00867.9e8b300d814c941ba6bbedba138239f0',\n",
       " '00868.f6059340a945c22b175f306ee79e674e',\n",
       " '00869.96acf5a2b0543fd7c1767e5562891eae',\n",
       " '00870.cf6be25af593cc88d0c7f58e7deccea4',\n",
       " '00871.f3bb3f8e157f00992af581a509234858',\n",
       " '00872.b037dfd3ef82cc1690c6692ed42c4dd5',\n",
       " '00873.9fa4518a4adfab3e6b194ee33a89b2e0',\n",
       " '00874.d9f0374ce55cb5e03ca46a5459894e34',\n",
       " '00875.b8e33b6137c804fbf4e77135aeae2283',\n",
       " '00876.f075a944de6d2290fd7a1965ac72d94f',\n",
       " '00877.fb94c382f9f10548db78b9d0339621e7',\n",
       " '00878.23aea042030421f155edaf41a36b3701',\n",
       " '00879.798415ecafdee535a11c68481f5d66b2',\n",
       " '00880.146f15b727deb84e2459cecd3fd67088',\n",
       " '00881.c1a373126fc964123ffbc018433b21d5',\n",
       " '00882.7d2cb3dcfbe9ae110726e656347c0628',\n",
       " '00883.c44a035e7589e83076b7f1fed8fa97d5',\n",
       " '00884.48ae15dc5f48f6caafa8c235d148782a',\n",
       " '00885.5923b3938b5b422e7d514cc4bf403316',\n",
       " '00886.6d792e0aa2cd6975ef5e050f7b0173b5',\n",
       " '00887.07d5efdf4a700dc6d1a7926e0008e57f',\n",
       " '00888.b1cc484869abb3e20ae3843f597dc307',\n",
       " '00889.8f1ca88d8dc661c9ffcd25a2104efe7a',\n",
       " '00890.85334af70442efdbf0b83768fb1d2eb3',\n",
       " '00891.e165e538480dcd42dc62b43b7622ecb3',\n",
       " '00892.9dc7dadb7e1258d9d1256673f2ae741c',\n",
       " '00893.6edf02e68e0e172b2142e5a75d467057',\n",
       " '00894.5b21597d342d44631ebc33acf460883c',\n",
       " '00895.0c7898bdc5199ca3efd6af04c80430d0',\n",
       " '00896.73f4eb6d676530f00ca391dd522034ac',\n",
       " '00897.116b99f81aa0d54498bca28abf4c29ab',\n",
       " '00898.611a5a9738e5905aaff6344c1cdaf32a',\n",
       " '00899.d7f9c80cf9bbd1355322a75886903b65',\n",
       " '00900.04d3fc4b18f2def855155994cd956529',\n",
       " '00901.dd49a05f9b0b28396c8a91b5b2fb0e2a',\n",
       " '00902.1e45b913616e9e1f42bab6b6f31ea830',\n",
       " '00903.49d4e076baf5a4d6272fa9a4e510dc5b',\n",
       " '00904.42d2e7951496bc3b1ee4b67185ce2746',\n",
       " '00905.05268a196c3e0e6464a45e41958a4554',\n",
       " '00906.bdc0d543b54cc81cf378c33bdfa39d4d',\n",
       " '00907.647447c8ce096234074b65ea25655a10',\n",
       " '00908.0be94e6d9ef62596e0dd488fc4d98b8f',\n",
       " '00909.777e83e14a0637cb3ffae7b5c8b0e77f',\n",
       " '00910.ba4833ce4dbc0ae64d1c148cf41aedcf',\n",
       " '00911.dcbdde154d9f25c1afe32f4b8f5f1f9b',\n",
       " '00912.f7faf669f2794a54dd91d62e7ac3b904',\n",
       " '00913.bc83c1f37836dee281cc5282e61acdee',\n",
       " '00914.a24840d53c5f49a00e66fa4425e4626d',\n",
       " '00915.22a9c52df39c264be488f62bba9d621c',\n",
       " '00916.1ea7a40e892220d43795fee49ab4849e',\n",
       " '00917.b633b615b29b9483b6e3ec54dd6914b9',\n",
       " '00918.4fb416f486e8b21ffe522b4074598b69',\n",
       " '00919.3ca1925f3bab9136611b8222f8cb047b',\n",
       " '00920.d7c069763cedddefa021e23cae0dd259',\n",
       " '00921.0407865778a278e577c287a9a04763a7',\n",
       " '00922.699506b21f6625eaaa1482c7fa034e1d',\n",
       " '00923.1a2af021ec7490b689a04ecd0226f9d5',\n",
       " '00924.4dbdc2c81ad764bfe29627498857b6f3',\n",
       " '00925.f32ef12bc4c8a7f4831cdfecd3b743e5',\n",
       " '00926.11b20c87f289b3743af174cd5a1d2c4f',\n",
       " '00927.acbc1da1de97d9257d57b4f46ed7a3f4',\n",
       " '00928.83cc6f8987cb3dd6090a8928f04bd608',\n",
       " '00929.8de0f155d0404d74ae006c0edff6b957',\n",
       " '00930.dd136d3d36e14ab324b79c3cf8c9e6e2',\n",
       " '00931.c27bf5c9bcb24c213aafe1b28fcbcc7a',\n",
       " '00932.659c11cb26c11baa33395f6f6c363ef6',\n",
       " '00933.20b1ef5013048f152931fb6c4e92e9ce',\n",
       " '00934.f9ba910a655535304bf26a3e281cb324',\n",
       " '00935.8ecbeab3ef30caba2c29e25744a2265a',\n",
       " '00936.e8fd8c240b680e948f85f2326cc87250',\n",
       " '00937.1442bfa30552275d60548860104339c3',\n",
       " '00938.e1a61251ecebf0f323c7815e68bdaa27',\n",
       " '00939.e48ae1c641ef0958595719db1befb0d9',\n",
       " '00940.2d6167e70e2aaa01e531409f1dbdd551',\n",
       " '00941.6805692546cf6517f808151dcc9dd6f4',\n",
       " '00942.727cb1619115cdee240fa418da19dd1f',\n",
       " '00943.c87bed16cca1b008f6e796a9e652ddbf',\n",
       " '00944.4c4f3aa0e543af3cab4859ad1b1b16be',\n",
       " '00945.e6eb589db145071f678c95f19b162b9b',\n",
       " '00946.36ac3a6b0fc1b34bb8c125fe75cff193',\n",
       " '00947.488310e3c7ba27ec9d99d390007b8c53',\n",
       " '00948.12717d1c7815c5e226f5b4324220dcd8',\n",
       " '00949.5a860f580179b99a227c4064ac28724c',\n",
       " '00950.552f3425d82204ce19d468127085b7d9',\n",
       " '00951.23649926ba46e21259b518be64d300af',\n",
       " '00952.61bd88dce9acd2fd68dfd2c2e2d9b675',\n",
       " '00953.39959392b9ccbbcbcacdb4211f2986f0',\n",
       " '00954.64e0c6e4f6fad8027420d8082164331d',\n",
       " '00955.34c902aff03e7a4911b6d5e378f69635',\n",
       " '00956.f566e64727b8f438aa73ee8d26e8f31d',\n",
       " '00957.7a0420bc5e7ed1ce8333c98dc766e702',\n",
       " '00958.82f86525742d7ae45f4e6a9df49fb674',\n",
       " '00959.68fb2328c01cd34b7e0f1763c85f9c66',\n",
       " '00960.c4805da3c25d516184adc9343144c909',\n",
       " '00961.509b19e210cc3cda4ae6615a47663d68',\n",
       " '00962.52e0a3b43febe264a7010803f7909f88',\n",
       " '00963.0cc9003be43ed6a642376156e98f5fb1',\n",
       " '00964.4c5e48c8c2668559fbc379616893f3a7',\n",
       " '00965.5732172f491041028b563a9c919d9b4f',\n",
       " '00966.2a4fb2559839748a35516c870f765211',\n",
       " '00967.e95bd7ad9ef796e4b8f762d898bfc690',\n",
       " '00968.747f6cb40f4a18a2e7185454549d06c2',\n",
       " '00969.2d5fb4b3c8c376b12157cc8e0a2e7111',\n",
       " '00970.b567daf8f05ff88b2cc4418bdc993913',\n",
       " '00971.5b0ba338d08a9077b1256678781e4a93',\n",
       " '00972.b94b5871ba0d2d042da63d0fcaa2fa32',\n",
       " '00973.42545038686536033b1032380502ae09',\n",
       " '00974.e075ae7ee23cfacb24d0d1b59ae5af83',\n",
       " '00975.23aa3095e145bf342502ee60bc602c28',\n",
       " '00976.13ecce82e8d787ee17ae688d4c70737d',\n",
       " '00977.8046655ae38293b58a69a94389f20020',\n",
       " '00978.a136387f15961a4f0a2c0ca583206199',\n",
       " '00979.9eef0c20fa5a680d5d4d5b752bbf9453',\n",
       " '00980.c44ba5c1509adaeba8e9e496c91aef25',\n",
       " '00981.3eb28c739b5443730f65626c58e3995e',\n",
       " '00982.4e1d46e8b99725e70515f1df7410aa44',\n",
       " '00983.42eb62cc4057d03dfd3eb1c8afc270e2',\n",
       " '00984.6f4ec805e2e78d5310e0a4ae931e67b3',\n",
       " '00985.e20b9f4f171d907fb8d8439584fe03b1',\n",
       " '00986.93b7eb74f26330872be1d58ec9d2b64c',\n",
       " '00987.88641ac821f19f26060f12197bc585a4',\n",
       " '00988.2154210bb53f94daded7a622e26225a1',\n",
       " '00989.59155225507b38fbee48407ebb6cc68d',\n",
       " '00990.ee34876c3873d8e6197432ad9c558429',\n",
       " '00991.ec5d16cf8c633a2f15b8f98a39c58a60',\n",
       " '00992.4a6d6d9013a804213fff718806aaae49',\n",
       " '00993.041d0d8e108657fd1ba5c605a10e2bfa',\n",
       " '00994.63ad3cd73487972bfc2eb3e78e2e7cf9',\n",
       " '00995.11200ae0fc914c7056dcbf7dcfb4c107',\n",
       " '00996.01a4386651fb07928d2314d8690e61cf',\n",
       " '00997.3e7c9ac060fb43183adc891520f41ce0',\n",
       " '00998.84daa7907ccbbee4f20c4da1288cb196',\n",
       " '00999.c78296e77769d280844fe48f2f3babde',\n",
       " '01000.bd0b18ad8256a7cb29f5508a20cd19ba',\n",
       " ...]"
      ]
     },
     "execution_count": 4,
     "metadata": {},
     "output_type": "execute_result"
    }
   ],
   "source": [
    "# Visualizando nomes dos arquivos não-spam\n",
    "ham_filenames"
   ]
  },
  {
   "cell_type": "code",
   "execution_count": 5,
   "metadata": {
    "ExecuteTime": {
     "end_time": "2019-08-19T07:33:49.323944Z",
     "start_time": "2019-08-19T07:33:49.314758Z"
    }
   },
   "outputs": [
    {
     "data": {
      "text/plain": [
       "['00001.7848dde101aa985090474a91ec93fcf0',\n",
       " '00002.d94f1b97e48ed3b553b3508d116e6a09',\n",
       " '00003.2ee33bc6eacdb11f38d052c44819ba6c',\n",
       " '00004.eac8de8d759b7e74154f142194282724',\n",
       " '00005.57696a39d7d84318ce497886896bf90d',\n",
       " '00006.5ab5620d3d7c6c0db76234556a16f6c1',\n",
       " '00007.d8521faf753ff9ee989122f6816f87d7',\n",
       " '00008.dfd941deb10f5eed78b1594b131c9266',\n",
       " '00009.027bf6e0b0c4ab34db3ce0ea4bf2edab',\n",
       " '00010.445affef4c70feec58f9198cfbc22997',\n",
       " '00011.61816b9ad167657773a427d890d0468e',\n",
       " '00012.381e4f512915109ba1e0853a7a8407b2',\n",
       " '00013.d3f0b591a65f116ea5d9d4ad919f83aa',\n",
       " '00014.7d38c46424f24fc8012ac15a95a2ac14',\n",
       " '00015.048434ab64c86cf890eda1326a5643f5',\n",
       " '00016.67fb281761ca1051a22ec3f21917e7c0',\n",
       " '00017.1a938ecddd047b93cbd7ed92c241e6d1',\n",
       " '00018.5b2765c42b7648d41c93b9b27140b23a',\n",
       " '00019.bbc97ad616ffd06e93ce0f821ca8c381',\n",
       " '00020.29725cf331fc21e18a1809e7d8b27332',\n",
       " '00021.effe1449462a9d7ad7af0f1c94b1a237',\n",
       " '00022.8203cdf03888f656dc0381701148f73d',\n",
       " '00023.b6d27c684f5fc803cfa1060adb2d0805',\n",
       " '00024.6b5437b14d403176c3f046c871b5b52f',\n",
       " '00025.619ab8051359048795e3cd09e82ad1a0',\n",
       " '00026.da18dbed27ae933172f7a70f860c6ad0',\n",
       " '00027.d1d0f97e096fe08fc80a4939355759e7',\n",
       " '00028.ace98eff213f4e6314b5571aece625e1',\n",
       " '00029.de865ad8d5ad0df985ae2f72388befba',\n",
       " '00030.0c9cdd9d4025bd55dac02719ec8d29dc',\n",
       " '00031.a78bb452b3a7376202b5e62a81530449',\n",
       " '00032.7b07a09236ce9feb12d80197144d3206',\n",
       " '00033.9babb58d9298daa2963d4f514193d7d6',\n",
       " '00034.8e582263070076dfe6000411d9b13ce6',\n",
       " '00035.7ce3307b56dd90453027a6630179282e',\n",
       " '00036.256602e2cb5a5b373bdd1fb631d9f452',\n",
       " '00037.21cc985cc36d931916863aed24de8c27',\n",
       " '00038.8d93819b95ff90bf2e2b141c2909bfc9',\n",
       " '00039.889d785885f092c269741b11f2124dce',\n",
       " '00040.949a3d300eadb91d8745f1c1dab51133',\n",
       " '00041.f1b3402799046db3c1f143a911dc085d',\n",
       " '00042.3e934ba4075f82283d755174d2642b76',\n",
       " '00043.548c447db5d9ba3f5546de96baa9b0e6',\n",
       " '00044.9eece8e53a8982c26558b9eb38230bb8',\n",
       " '00045.7282c2c4e009744f2f3450d370009235',\n",
       " '00046.e0fd04360622dbe9250380447f6465cc',\n",
       " '00047.0d7a240951e460b5884a8886ee64a8c3',\n",
       " '00048.8a64080dbd9d868358a22b655fb1b1cd',\n",
       " '00049.09e42d433e0661f264a25c7d4ed6e3ea',\n",
       " '00050.45de99e8c120fddafe7c89fb3de1c14f',\n",
       " '00051.fd20658f0e586d1f27f9396401f4981c',\n",
       " '00052.edb775ef7470f35cd593d07e5a0466a8',\n",
       " '00053.d88d8b162ca1b7108221fb338cd7d0a5',\n",
       " '00054.62863160db27f89df8c73275b6dae134',\n",
       " '00055.58adfd0c60ebc04370658a76b9352aa1',\n",
       " '00056.c56d61cadd81b4ade0030c8dee384704',\n",
       " '00057.0a2e17bde9485e999ac2259df38528e2',\n",
       " '00058.64bb1902c4e561fb3e521a6dbf8625be',\n",
       " '00059.dc5b9ea22c6848c97871f0d9576cc931',\n",
       " '00060.ec71d52a6f585ace52f4a2a2be2adfce',\n",
       " '00061.bec763248306fb3228141491856ed216',\n",
       " '00062.3019eac14dfe3c503c03e25e70e63091',\n",
       " '00063.2334fb4e465fc61e8406c75918ff72ed',\n",
       " '00064.65b95365450ebe5eef61e7f1c60edc5e',\n",
       " '00065.6203de135559b319326445aafd68dbca',\n",
       " '00066.6afbb1258bcf3e4d59d53c847a84e469',\n",
       " '00067.ec108870b01dc3ccb8fabc5def869ca5',\n",
       " '00068.d10af636a6082d5172ceb34a944486e6',\n",
       " '00069.066b1a012235d062a5da73eead4a6b35',\n",
       " '00070.ab34b6c044a55bef3d6c1f64b7521773',\n",
       " '00071.4b7e06d97286ec97820a0f8725878126',\n",
       " '00072.d519a73b92f487519c2bc5ba45f5eb2c',\n",
       " '00073.8dcd40346d48c69a9e075e935395e96d',\n",
       " '00074.51aab41b27a9ba7736803318a2e4c8de',\n",
       " '00075.28a918cd03a0ef5aa2f1e0551a798108',\n",
       " '00076.066bf704d9c4a3cf45da5ac7a6b684f8',\n",
       " '00077.c85b7442247d61308f15d86aa125ec28',\n",
       " '00078.6944f51ce9c0586d8f9137d2d2207df0',\n",
       " '00079.cc3fa7d977a44a09d450dde5db161c37',\n",
       " '00080.5a7386cb47846dfef68429241ad80354',\n",
       " '00081.123b29a781b2e8c83763e5d440e672a3',\n",
       " '00082.0341a767bbaca01fd89b6236ef681257',\n",
       " '00083.c1891c507954e5b75b72b16712e799bf',\n",
       " '00084.a9f5b3a9b7feb7070f25ae76320c8ec6',\n",
       " '00085.f63a9484ac582233db057dbb45dc0eaf',\n",
       " '00086.9c945bb90f76a8b76331599106c28429',\n",
       " '00087.f09438ca6392721e63696f4f753effbb',\n",
       " '00088.1673f91313df07da1a18b2fc458dd4c4',\n",
       " '00089.7e7baae6ef4a8fb945d7b3fe551329fe',\n",
       " '00090.52630c4c07cd069c7bc7658c1a7a7253',\n",
       " '00091.bcaf9648660ba372bc4d542aa06456ad',\n",
       " '00092.8ca54ce0c31e6149b5ef05c0108743be',\n",
       " '00093.ca4edc32d2ff8e1dbb5f9c0b15ec435b',\n",
       " '00094.7f704c47988221c18cb6a620409442b8',\n",
       " '00095.17594a58d6736a8f6a1990b0b92090cd',\n",
       " '00096.a791864be5f1205bf2cea0adf241b25a',\n",
       " '00097.013347cc91e7d0915074dccb0428883f',\n",
       " '00098.f1f1a3bd3ec32d8e967fba2a7a03e1e5',\n",
       " '00099.d41a21dc96bb3c3342292f7c9fa4db1e',\n",
       " '00100.81611d62ec1f172be947fda4af7caa2c',\n",
       " '00101.5a24bf3ba3962442179b1a0325a1d1cb',\n",
       " '00102.fb09d2f978a271fba5a3ffc172003ed9',\n",
       " '00103.2eef38789b4ecce796e7e8dbe718e3d2',\n",
       " '00104.04d165183bb8feab0956362c70591b3d',\n",
       " '00105.00951a21b8464f4eb4e106d6b14c68b6',\n",
       " '00106.f20a99365b7016f8e9dcd8620b472e74',\n",
       " '00107.e6cd2d9f49514710dc85db0fef5b8726',\n",
       " '00108.ce25a55c6b4cc9bcd32ed090ee20785a',\n",
       " '00109.eda1664dd3b3c31b67e5cd04553b6546',\n",
       " '00110.f3c4ebe14b439420b53212332326181f',\n",
       " '00111.ae6aba48f8aa83849be067076eea8ce5',\n",
       " '00112.be81f2f6f7940a9403c9809b4a9e243a',\n",
       " '00113.eebc11982ccc4730fb8759f94400ce19',\n",
       " '00114.e337195587d1dbb42e8a2b693e9fc938',\n",
       " '00115.c97af50ef7ccd816f95bbdc6f4d226b2',\n",
       " '00116.29e39a0064e2714681726ac28ff3fdef',\n",
       " '00117.b3ceb6525a1dc935463f3e3080110039',\n",
       " '00118.b31615605a37b4878bd1de4f829c89cb',\n",
       " '00119.7bd666ac52f079fb3b5ff0be83b55286',\n",
       " '00120.58579af867ff9a702cff23e7b8818a59',\n",
       " '00121.bf18a63d6e7d40409f8b722036eadd82',\n",
       " '00122.98bcaad36eb81e75911371f841f28dfc',\n",
       " '00123.a5ee0040ec9a30b3f32f61e547fa5f8f',\n",
       " '00124.db848e36f1b4c2705cbc16ef33a302d4',\n",
       " '00125.120d27c936362896c00a3db9d3a4571e',\n",
       " '00126.e98e1ba87a38e0cceeb55f3b86dbd4dd',\n",
       " '00127.3500d109361b544b0937523adb763588',\n",
       " '00128.721b6b20d5834d490662e2ae8c5c0684',\n",
       " '00129.1080cea3a532759b015dc071d033749d',\n",
       " '00130.c8128e89eff5b0e61aa864ebfd96afba',\n",
       " '00131.d955acc659fb151479460f9dd2f87efe',\n",
       " '00132.0ead3e293c6c41cbffb69670e8b85ae7',\n",
       " '00133.17dccf2499a4245b83890e0784c43499',\n",
       " '00134.9f41f4111a33dc1efca04de72e1a105a',\n",
       " '00135.00e388e3b23df6278a8845047ca25160',\n",
       " '00136.faa39d8e816c70f23b4bb8758d8a74f0',\n",
       " '00137.09969121c8540730f1020b5a700b4c42',\n",
       " '00138.c15973a4d40bed4333079296be2522ca',\n",
       " '00139.b2a205ac25d7d907cdfb3f865dbae1ae',\n",
       " '00140.eba666846fa0a138a90aeef51a627022',\n",
       " '00141.c30e993ea9a98743b0a98733bdfba8c2',\n",
       " '00142.eddc7114a8566cbf83fa8210bf0d3603',\n",
       " '00143.13c0751d4b9f10098bb3ac85a435d884',\n",
       " '00144.4eeba2f228a8658e0d2e3a64764f4f31',\n",
       " '00145.0ec326fee0570953d684e40edd3fa7b8',\n",
       " '00146.e9b64856c0cd982a64f47c9ab9084287',\n",
       " '00147.1782d51354c31ea53db25ea927d5c51d',\n",
       " '00148.21c30154aa358d903c10c5d8a3ef6ffd',\n",
       " '00149.c07359393107925a86798dd72d6a56b3',\n",
       " '00150.f97c73fa56460a6afc6d9418ad76b5b5',\n",
       " '00151.34bbdbf089edc6f58080753a166a3cfc',\n",
       " '00152.8ed8aaed94054e507af5b9c760dd7be6',\n",
       " '00153.6a5ffe584834ea334041ab958cadcadb',\n",
       " '00154.b6c448ccff434e2dbe2c7c200a36aa31',\n",
       " '00155.1c37ce73590cc67186717a491ed0db5f',\n",
       " '00156.0b541afe96820e3bb8f900b565608269',\n",
       " '00157.52b0a260de7c64f539b0e5d16198b5bf',\n",
       " '00158.9c8bf53ed738031b4bfab819c4b3ef13',\n",
       " '00159.b16f070a576c2eb1533aa9e2cf8e6b77',\n",
       " '00160.cec5f611ae665ff0add6c4928d47f2be',\n",
       " '00161.ae33257753c9bdaaadc9221347868496',\n",
       " '00162.6d0397cc491b214db1e84e19bb49177a',\n",
       " '00163.244a217b150d2129cbdc52b96d992382',\n",
       " '00164.8536500ed9cadc8397a63b697d043c0b',\n",
       " '00165.45db168e8e1a78a66972b9f50c47b6dc',\n",
       " '00166.1b7ca83ece36a955e80c7f32efe5fd3d',\n",
       " '00167.af33a21e8b279ee28d5e70a6ef1dc86a',\n",
       " '00168.7422ce438a3d745e2cafb7430e5ddb0f',\n",
       " '00169.86721d6b50e889ed39c7d302adb2a5ab',\n",
       " '00170.33a973aa9bb7d122bdfbd96d44332996',\n",
       " '00171.08c5c55e9c2b4062344655e9ee32b979',\n",
       " '00172.7fe063c5f90c46934dc79a83d9fdabfe',\n",
       " '00173.e10eb62e2c7808674c43d6a5e9e08a1c',\n",
       " '00174.516721408a0d043ffc5258ecc49e907a',\n",
       " '00175.e672ac062c93c15915d4d264c4282b47',\n",
       " '00176.79f82496c612ea28f45f13ca5c47f8c2',\n",
       " '00177.56ed33af0cb1d0f700cc2d26a866870b',\n",
       " '00178.cdecf0f56ddc0bf61e922a131dc806c2',\n",
       " '00179.2174c80cb3eff623dfc991e51a53eb99',\n",
       " '00180.13a95a2542a0fd01ff24303561cca949',\n",
       " '00181.a9ce64eb710cb3f00a7d7db7911291ab',\n",
       " '00182.1b9ba0f95506a6f2bf256f40fad0687d',\n",
       " '00183.38d9e73b56e7a59ca1472e08076a9b71',\n",
       " '00184.ead42d7ed872c504c79928a5f0a2b2eb',\n",
       " '00185.8ca19012fa3f2a906f23c3b41f11ffed',\n",
       " '00186.a66b4fc4ab114c9cb37e1a31d1ea1aeb',\n",
       " '00187.efd97ab2034b3384606e21db00014ecb',\n",
       " '00188.3d145a97a4ccf05a36a1f2795b4c331d',\n",
       " '00189.58d4489891c5ab450678438eb8cc4a3e',\n",
       " '00190.dbaebac8c91d57cf7c9b9a431606ce54',\n",
       " '00191.9ff80a41f015b7a6c409732e41c0df07',\n",
       " '00192.e5a6bb15ae1e965f3b823c75e435651a',\n",
       " '00193.c04ef77bc3dbaa5762760a6ea138df0e',\n",
       " '00194.767c323b4ae7a4909397e42cbd0c56a4',\n",
       " '00195.0a543c2780491168160570bb6708af86',\n",
       " '00196.dd21040c7757d477c967ae71b537810e',\n",
       " '00197.5a921df53d215a60d557c68754559e93',\n",
       " '00198.aad7df5b8be674a0ce09c8040ef53f1e',\n",
       " '00199.9be6cec49c53210152780926cdeb59ff',\n",
       " '00200.bacd4b2168049778b480367ca670254f',\n",
       " '00201.00020fc9911604f6cae7ae0f598ad29d',\n",
       " '00202.d5b52386f66bd36cd1508319c82cf671',\n",
       " '00203.3956f8506171ffd90a0060cafad4fdea',\n",
       " '00204.a008813ddeb2d5febd1fc676c07e9760',\n",
       " '00205.312e72065386636132fa6c4a1fde871e',\n",
       " '00206.0c8362d7e86ddcaf39829800ac40e2ca',\n",
       " '00207.0b71ac81a360455c1514f5872564b1e1',\n",
       " '00208.369921416af87a0b70f133632131b184',\n",
       " '00209.5276f967533f2ce0209c1eff631a86ff',\n",
       " '00210.050ffd105bd4e006771ee63cabc59978',\n",
       " '00211.d976c6049e8448e7c407c124b580e0ba',\n",
       " '00212.a9947ad74a529a35d11538e1df60cd73',\n",
       " '00213.8c42a1c257aa30ff3b3ba668cca59408',\n",
       " '00214.1367039e50dc6b7adb0f2aa8aba83216',\n",
       " '00215.f571ecd203e8d39296419bffc47e4a6a',\n",
       " '00216.89c1ede0b81fb09f7334f47a5183410a',\n",
       " '00217.43b4ef3d9c56cf42be9c37b546a19e78',\n",
       " '00218.917ed95f5c90c1d9d15d2528b0bd1e79',\n",
       " '00219.eaf6c0ff67706c784f67f5c1225028a1',\n",
       " '00220.cf7d03e161582887dc589229e2896e26',\n",
       " '00221.c4dfeecf0cacc9469540337f5baf69db',\n",
       " '00222.77293b7002c5749b9d31a99b2f4e0366',\n",
       " '00223.349b9b0748ee72bad60729ffaae2cc00',\n",
       " '00224.0654fe0af51e1dcefa0eb66eb932f55f',\n",
       " '00225.b1ca16fa2be1be1d68f5e3bf2603f3cb',\n",
       " '00226.e0e2704cde3bbd561a98042f4a3baf5f',\n",
       " '00227.1171cc6d8c586141b4110a2abdccba00',\n",
       " '00228.cf58326ab05a757c7e759acc8d6b360d',\n",
       " '00229.4c37dd3d98b8d6fb2694b6f83061ca5a',\n",
       " '00230.214f8d9a756aee75e292056c1f65a005',\n",
       " '00231.77a5d20da55f185c1bb7a3949332d364',\n",
       " '00232.2d55046b9cf0b192ad6332545ef2a334',\n",
       " '00233.a268478ca6f03604012ffff8dd3de396',\n",
       " '00234.6b386bd178f4ae52c67b6c6d15ece489',\n",
       " '00235.45b5f386cf62b5865d9d4440d8b78aab',\n",
       " '00236.2772a068fff32e2f8d7f8a94bd9280cd',\n",
       " '00237.9cee6fd8bdd653d21d92158e702adf50',\n",
       " '00238.e3e16467d10137fa9a99b1701d76ae94',\n",
       " '00239.2f1370f9cba5ab21297eadb2af40b051',\n",
       " '00240.2ff7f745285653a238214d975859406b',\n",
       " '00241.c28ade5771085a8fddd054a219566b7c',\n",
       " '00242.e030c8b1f053037aeffb062f3a34b523',\n",
       " '00243.c6e70273fe1cf9e56e26bb6bbeef415d',\n",
       " '00244.5cac9708afd7f9f00e9bf64eeb127f0a',\n",
       " '00245.f129d5e7df2eebd03948bb4f33fa7107',\n",
       " '00246.4dc5830a5a3e1fda805613b61822bac8',\n",
       " '00247.4f7c67c9792706fa90fe218d4b092b7a',\n",
       " '00248.b243bca51ee69d6e428ca2f45f0fe41b',\n",
       " '00249.5f45607c1bffe89f60ba1ec9f878039a',\n",
       " '00250.32279787338af8a5de4cfbc0b837718e',\n",
       " '00251.6b4b7e79e1706156839a00817d774e37',\n",
       " '00252.7e355e0c5fd1de609684544262435579',\n",
       " '00253.83b95b05e275286eddcf557ea581e754',\n",
       " '00254.e3e30f2b37ef8db36aa652bb3e563b61',\n",
       " '00255.aeff2fdf2ba6b8b49686df3575859a48',\n",
       " '00256.edd9bfb44729edf3c4f177814fd8c9e1',\n",
       " '00257.5c8ef87f8b11d2515df71a7fe46a70b6',\n",
       " '00258.4af5bde7fabd4e797b85cf95bcbbb45a',\n",
       " '00259.7b838a90b63541213eff9099e1a1aa3c',\n",
       " '00260.c75ce8b8d8bfc55723426979d260bf61',\n",
       " '00261.12b64e557e52daf5fc5a52e47df2f4e3',\n",
       " '00262.678598cbe253f19239da03b65dac7392',\n",
       " '00263.13fc73e09ae15e0023bdb13d0a010f2d',\n",
       " '00264.02b614f34aa0d5970959123b9386b285',\n",
       " '00265.d2acd28cf29d90c9b7a1297b219187b3',\n",
       " '00266.3cf1dcf8df07100b1530493e11f80a25',\n",
       " '00267.ef433fb350170f28a1567cbc24900e53',\n",
       " '00268.9b64189b6da55d1e0a30026ca73eb0da',\n",
       " '00269.e85c3ef79a5cf21ee1ef7b8df17760e1',\n",
       " '00270.5dcd9ce3be2992222b9038d7bf75a23a',\n",
       " '00271.85110ef4815c81ccea879857b0b062ed',\n",
       " '00272.8353b9140b08dab4be0e8ce53f09172b',\n",
       " '00273.0c7d73771d79e84e2aab8c909c5bb210',\n",
       " '00274.ecb5ce751d8768ef609c171b84ca07a9',\n",
       " '00275.4675c4cce2bf27adaafeef693d562f8b',\n",
       " '00276.a6e447390e371ddba7cee092bb0ec98f',\n",
       " '00277.64128ce1653bc4e1bde9ffe2f83db557',\n",
       " '00278.b62c5fc23a2f87760696cb9fa51f073c',\n",
       " '00279.1d58a13e343c1e53aca2ed2121a3f815',\n",
       " '00280.026da2bd191f11081b8d8428134b0c66',\n",
       " '00281.db28f3aab77ff478279d8de20d572b42',\n",
       " '00282.0e230e05877f40a522bfb93aa3e314f3',\n",
       " '00283.e8e42ee52f919afd2a453983f1256b1d',\n",
       " '00284.4cdf4c9e9404c79c85ab5ac12ce39e85',\n",
       " '00285.8a06c91fcdf4a1ae8ca928f3ef3feecb',\n",
       " '00286.efd0b8f0c9c779b7a0ad93505c9b0bae',\n",
       " '00287.b0495a4dbdff36654c3b3ee2f92bdbf3',\n",
       " '00288.8c8bc71976c3b67d900ebd8eeab8a0f5',\n",
       " '00289.61a681a72c71512f115ad65033acc7c9',\n",
       " '00290.eb053a191b7509a9399aa16717630414',\n",
       " '00291.7aa227e74e89bdd529a3875459d0d5a2',\n",
       " '00292.dbf78a2aaa230d288eb80ab843804252',\n",
       " '00293.f4e9fd5549f9063ad5559c094edf08f2',\n",
       " '00294.df27a988d82cc82296e33e6d727ac47e',\n",
       " '00295.b028688ce4ea3693f4ed591b8ca3f72e',\n",
       " '00296.0087354f4bb7c4e756124632a4a7e80a',\n",
       " '00297.3350c2dbbb0272c27b2c7773d7012356',\n",
       " '00298.90b548a0816ca0783f012bb9c69166cc',\n",
       " '00299.f786faed64bef7134e52fafa17ea861f',\n",
       " '00300.834f370a21ca4f1774d5724b5443411c',\n",
       " '00301.68fe7955b96d085360ca916289e8e716',\n",
       " '00302.544366fa4cd0f5d210dd8443a1c2c95a',\n",
       " '00303.22239f1393297a691eb5df3dfe7a5001',\n",
       " '00304.ed5fbfc3e6f2be662f29f43f172a1fb3',\n",
       " '00305.f80c21904d6d4f6facd036450a588b0d',\n",
       " '00306.729a42414b91e9b2bddf273c514c50d7',\n",
       " '00307.7ed50c6d80c6e37c8cc1b132f4a19e4d',\n",
       " '00308.c80d7cb2a6981efac408b429d42d2b89',\n",
       " '00309.d9efb4713f45f4e1237d3f9b757d0916',\n",
       " '00310.3f652995aadb0bf696dd10c89ce30afc',\n",
       " '00311.9797029f3ee441b00f3b7521e573cb96',\n",
       " '00312.75c839d7d4f6da9e860a11b617904fb5',\n",
       " '00313.fab744bfd5a128fca39b69df9811c086',\n",
       " '00314.8f7993db02bde4d724e1eff9d2d35db1',\n",
       " '00315.0ee82a2e087ffcf6efbd30b36499ead6',\n",
       " '00316.311d11f764c6e452b2f0208b53b94ea2',\n",
       " '00317.22fe43af6f4c707c4f1bdc56af959a8e',\n",
       " '00318.7ce7e3cbbf4fa9c30a67b7ecdda2342e',\n",
       " '00319.a99dff9c010e00ec182ed5701556d330',\n",
       " '00320.20dcbb5b047b8e2f212ee78267ee27ad',\n",
       " '00321.22ec127de780c31da00ae5e1c1aa32e4',\n",
       " '00322.7d39d31fb7aad32c15dff84c14019b8c',\n",
       " '00323.9e36bf05304c99f2133a4c03c49533a9',\n",
       " '00324.6f320a8c6b5f8e4bc47d475b3d4e86ef',\n",
       " '00325.58d1a52f435030dc38568bc12a3d76a2',\n",
       " '00326.5ec68244bb085cb140deb79563abd7b3',\n",
       " '00327.7f21bc8575786a0e00341a6407b9f286',\n",
       " '00328.73c1a9f83d3b1247522c26eb6d74c215',\n",
       " '00329.af4af411fb1268d1461b29fa2d2145a3',\n",
       " '00330.c5f7346dec1e6fe6ed324d8e78a2b46e',\n",
       " '00331.a61788d316e7393c8bbf8ee19b24c713',\n",
       " '00332.580b62752adefb845db173e375271cb5',\n",
       " '00333.4bb36a535cb3d738f30f985f1e10a786',\n",
       " '00334.a1038f98abb76b403d068afb57bfb290',\n",
       " '00335.f71c6e9b23487811a44e6aeaa50e73a5',\n",
       " '00336.92409253178027f58e2c072a7e82791e',\n",
       " '00337.813498483bc80a24c002e6e7e8e0f2cb',\n",
       " '00338.a595ffbb6cbcf3a5058293051ebaabf4',\n",
       " '00339.16bd110d8aa11e7d9398287c27b1b389',\n",
       " '00340.520783fd73bb73df88d6effd04e1f55d',\n",
       " '00341.99b463b92346291f5848137f4a253966',\n",
       " '00342.0dab365fab3be83284b08ac5783335da',\n",
       " '00343.37d895b3a54847548875136ad6b0192d',\n",
       " '00344.17882edad13c2c761e6d8d99eef5a346',\n",
       " '00345.613b3c2aeac033eebb379c91b8ce9fba',\n",
       " '00346.1ae83883f566cdf6ff18958a33a215b3',\n",
       " '00347.0958e79c14164f0f902d863f41156c0b',\n",
       " '00348.1948d1e6b724e8abf4b8f0fc024ac627',\n",
       " '00349.dd7982f40576ff4897c18efc813e38bf',\n",
       " '00350.c2658f17a328efdf045b38ab38db472f',\n",
       " '00351.fd1b8a6cd42e81125fb38c2660cd9317',\n",
       " '00352.19a8ba03f566612e0b9e124609d9dbd0',\n",
       " '00353.464ef65be6651440e15675faeb15a7ca',\n",
       " '00354.dca4b8984863a76ffd01a33888498288',\n",
       " '00355.e10c2eba9316a09e612e6675ce339d5e',\n",
       " '00356.ea7eb32330fa6bf65270023c0d99e2c5',\n",
       " '00357.b523d4209d633d6fdf86b93bc19e3aa2',\n",
       " '00358.2cf55d91739f3530d1f4bc8bc9bc0b12',\n",
       " '00359.4ab70de20a198b736ed01940c9745384',\n",
       " '00360.3c1e6c84cb93d024c1f1aa85cd56ac9c',\n",
       " '00361.e91ac048b0ede961d3f51009eee1c620',\n",
       " '00362.be7a346be8746732d4dc27bc549d7441',\n",
       " '00363.e6935b8f87c5984a5c6f6656afa1afb4',\n",
       " '00364.11dba84b95e0471927d1ebc8ff0017ef',\n",
       " '00365.da6795d02b44e4d5e168d62718f3e7c9',\n",
       " '00366.f0bfcc3c84da11ae1154c6c593362f69',\n",
       " '00367.9688cdee9dfe720c297672c8f60d998f',\n",
       " '00368.2c1ab4bc7f408e0fcb22dca9b2d5a113',\n",
       " '00369.845eeb9573484bd88a6a6224c7068d81',\n",
       " '00370.549e569ab1b84fb13a4ea7d61f98f86d',\n",
       " '00371.3bc80f63aa7c64a56eb77fc82ce22e7f',\n",
       " '00372.4ebcb6306af1946c3ff1b2bc933e1203',\n",
       " '00373.ebe8670ac56b04125c25100a36ab0510',\n",
       " '00374.8942e17f10389fe620e1e96cba52c9aa',\n",
       " '00375.1130c29a255fa277c5acbee4d08edacd',\n",
       " '00376.f4ed5f002f9b6b320a67f1da9cacbe72',\n",
       " '00377.e30c013b7392bf14f132258aa82b1b25',\n",
       " '00378.143069173c8ee0047916f124032367d1',\n",
       " '00379.f04dedf09dce65a80fbe1fd831abefd0',\n",
       " '00380.a262abe251ca7cc3026e4e146d9cf817',\n",
       " '00381.7d436777379ad18167e4614190b206cf',\n",
       " '00382.98464d934c8402ef42e6dbdb07b18a65',\n",
       " '00383.1aa9a8211d1de540d6e3852e230e5a9d',\n",
       " '00384.2054d62f06fd10e4018a43e156b32acf',\n",
       " '00385.51089b24dee5a89d38ee1b505b470c68',\n",
       " '00386.6074f269f0bd1aec1546f9e654e8fcfe',\n",
       " '00387.8562ea27520ea0fa6030679792f2fb72',\n",
       " '00388.53eae0055e66fcb7194f9cca080fdefe',\n",
       " '00389.6222f886a2658f890c49f1853beea193',\n",
       " '00390.ce19abc8034db9e6b435d494a91db87a',\n",
       " '00391.e2c76e9dc5ef65b90275138f73eb475b',\n",
       " '00392.ffefdd973d6b1bf1243937030e3bd07f',\n",
       " '00393.13d4d84cb98ea19954f895c629520bf8',\n",
       " '00394.cca39f925676ecca947eaed2b600fe70',\n",
       " '00395.f9df5b3574ef5ba6143c08a1fa301886',\n",
       " '00396.6fc0d31374c02ec5614f503a09a37211',\n",
       " '00397.1a99f98a5b996f99f3661e9609782932',\n",
       " '00398.1939605e3c713ff2ef852b1fbf10b0bb',\n",
       " '00399.cd1239166aa4d43f7c3127c3b48b3f18',\n",
       " '00400.cc74b7994a7282f32ee2a3b7e3634d31',\n",
       " '00401.309e29417819ce39d8599047d50933cc',\n",
       " '00402.9fd8762dd436ec868d4c22a17d8ccc3d',\n",
       " '00403.46d0face754b6bb7dce8b3ea560f75fb',\n",
       " '00404.b4bbecbee92f735a845f589582e7695d',\n",
       " '00405.3163fff27ff95b91afd656f0025c6a83',\n",
       " '00406.05e2214fea602970426862295f9b4a2e',\n",
       " '00407.7a447442b07fa08de0b69e907ce3ca53',\n",
       " '00408.22230b84aee00e439ae1938e025d5005',\n",
       " '00409.e59f63e813b6766a9a4ddf0790634ca3',\n",
       " '00410.b3134c2bf520f95f9b90d4aef4fdd683',\n",
       " '00411.fae7b15cc1f966d92c2cedc872893268',\n",
       " '00412.700e6d74e5f886eb75017714a6aeb735',\n",
       " '00413.28e8cb47d7429bf78c711079da50fcd4',\n",
       " '00414.b2312673ca5358901c801eb44c00e310',\n",
       " '00415.6faccf48ec514344fc850e8b3c154528',\n",
       " '00416.bff1badad869f205fdb54f311f060734',\n",
       " '00417.7b196fd20fd308e0afa9032ccb02474b',\n",
       " '00418.6321175c76411371c109eafc99563d2c',\n",
       " '00419.141092086514a246ff2ff8d4bc523400',\n",
       " '00420.e208f7d65551c01efaa3b4ee4bc4df3c',\n",
       " '00421.ca2fe949a956845a9ba81c649a7db6c0',\n",
       " '00422.7d5baf3fe64de8647b41aeb820ada876',\n",
       " '00423.bee32224fd8c9c8c06e2099d9c2adccd',\n",
       " '00424.9acca894169b3162d76ebddb69097f3c',\n",
       " '00425.1434e0ab4e5235b64825b4c2a0999d76',\n",
       " '00426.36b36cbe96efe9001c4d80363ea7ed4e',\n",
       " '00427.fa1252c91a3b89bb64bc2bc217725e26',\n",
       " '00428.a7bbcb15affd49a93d516d5ed5700d66',\n",
       " '00429.0061e48e64f9ce93ffae69bba9151357',\n",
       " '00430.d2179c2841013fea688db8bbcf60b3b0',\n",
       " '00431.12b2043fed99f1202eb0677969d1a61e',\n",
       " '00432.40ceb2dcb26e292ea6fd8669dfc9b4c5',\n",
       " '00433.8ac2ba68fca4bccc0856abe31002a8e9',\n",
       " '00434.8507c67a652e01636df9b92a0a397193',\n",
       " '00435.69467ebbdbdd2d891624bf8fccda579f',\n",
       " '00436.4ef1bd17d9202e4229485da7a47afd6c',\n",
       " '00437.defdb75139dbe5cdd027cbab9f704a27',\n",
       " '00438.41295e1df4b651b7611316331b8468e4',\n",
       " '00439.6f4246a5e3336b6ecb5624e209e0b59f',\n",
       " '00440.647d9eb44fd0cb069ea92be204966a8e',\n",
       " '00441.77768298934252b2fa200e7d9482993b',\n",
       " '00442.6a4db031f5561b90c04bb3d3aee31e85',\n",
       " '00443.cac50573829d4df1111b6ead28212e73',\n",
       " '00444.33afc8c1f9cea3100ca8502e8a785259',\n",
       " '00445.94d3ccfafc541255ff46625091d333e4',\n",
       " '00446.a54877313142d56c24d499d761c48fb1',\n",
       " '00447.bd5eb01e94f6d127465bf325513b2516',\n",
       " '00448.a6ac96e93ef03ec1a638c577c6940f5e',\n",
       " '00449.7d33f465cb813806296901ee541841d6',\n",
       " '00450.93d3d59fcdd0f8fda9ef4678535182e8',\n",
       " '00451.5af88ff99e71a8984ac293c250b37d34',\n",
       " '00452.ed43fc952c31c82aa29646edfbecb03f',\n",
       " '00453.456abc0bc83034492888f63725796d5b',\n",
       " '00454.1bb460b3ade9801644e4eb60e18d1f8d',\n",
       " '00455.c48d026b0aae9a1a14e9ab1193a2a5f3',\n",
       " '00456.b700dd37219f192d25cfc87f5c97a86d',\n",
       " '00457.f8db516c753eff2c82cfb89b33bd2620',\n",
       " '00458.62211764fde0dd7128ea4146268b40dd',\n",
       " '00459.e71f7a769d6b09c6d75bfbe8711dbbbe',\n",
       " '00460.8996dc28ab56dd7b6f35b956deceaf22',\n",
       " '00461.1a27d007492d1c665d07db820b7dc3b8',\n",
       " '00462.868771c8074e480f540a1d2e6a5ac7cb',\n",
       " '00463.45bff4629688e8031231a8b64a4eef06',\n",
       " '00464.8240aba24840864cb7439fc03f94ef6e',\n",
       " '00465.ca5d79d0e5dadee322c117789196ebb4',\n",
       " '00466.ecb11c98ec4511b5422b20476d935bd1',\n",
       " '00467.5b733c506b7165424a0d4a298e67970f',\n",
       " '00468.77534696791a755fb0fb8be8c2704ed8',\n",
       " '00469.ee3b2f31459cc2ec43ae7cae00d40cf6',\n",
       " '00470.32f31d3d1598f840a6471fa25332336d',\n",
       " '00471.fc87286572c99b7a554dc8c86f34506c',\n",
       " '00472.713268dfca421e165c1ac59bab045e00',\n",
       " '00473.7086ec944a1245a002b04547a433c887',\n",
       " '00474.30772a1ac9e824976fc6676844d68b76',\n",
       " '00475.71f75afb1960d619af86e1c64dcb11fc',\n",
       " '00476.af3a29817853a5c56bae5257c2d4b742',\n",
       " '00477.24ef7a042f97482f884387c75249380c',\n",
       " '00478.6c50ff18ef92c52a3342f1c9f090740b',\n",
       " '00479.a2cd6780001042d8203b05a6ab0f34ac',\n",
       " '00480.a5931465ca6f5b22eff24943b5c8b17d',\n",
       " '00481.5c95b526e965fa325044123c4ce29c1f',\n",
       " '00482.980c7ceb9333bc5027cd8d1d360a8c6f',\n",
       " '00483.50c5dda7dd4710798c15a85ade6e9f93',\n",
       " '00484.a34bda1ad8a88b5b21b13b8ad05d0dd3',\n",
       " '00485.a5d28b804adbceff7fd75ed9fc8138bb',\n",
       " '00486.c0a2036a3da75d6d5ac6d19ab4b3d6ec',\n",
       " '00487.139a2f4e8edbbdd64441536308169d74',\n",
       " '00488.29e96da757cc5566c848833e26abdd65',\n",
       " '00489.023c1d77de9365cad956a4c9118aee4b',\n",
       " '00490.f0020a3ea5546c122f688b39f4380c95',\n",
       " '00491.28cb63173ed4740180e45e6248db5584',\n",
       " '00492.73db79fb9ad03aff1e08deb73b83203c',\n",
       " '00493.1c5f59825f7a246187c137614fb1ea82',\n",
       " '00494.fd2efa67e63247ee89cdcf3a6fe7906d',\n",
       " '00495.e22a609b7dc412c120d09e11544c67fb',\n",
       " '00496.1a37de098f6c8847c3c7839d73cc7106',\n",
       " '00497.ebf699da617b11135f3aa9173b9781b9',\n",
       " '00498.48c3098854d339353f1a28a13b196017',\n",
       " '00499.988506a852cf86b396771a8bdc8cf839',\n",
       " '00500.85b72f09f6778a085dc8b6821965a76f']"
      ]
     },
     "execution_count": 5,
     "metadata": {},
     "output_type": "execute_result"
    }
   ],
   "source": [
    "# Visualizando nomes dos arquivos spam\n",
    "spam_filenames"
   ]
  },
  {
   "cell_type": "code",
   "execution_count": 6,
   "metadata": {
    "ExecuteTime": {
     "end_time": "2019-08-19T07:33:49.513314Z",
     "start_time": "2019-08-19T07:33:49.507839Z"
    }
   },
   "outputs": [
    {
     "name": "stdout",
     "output_type": "stream",
     "text": [
      "E-mails não-spam: 2500\n",
      "E-mails spam: 500\n"
     ]
    }
   ],
   "source": [
    "# Verificando quantidades\n",
    "print(f'E-mails não-spam: {len(ham_filenames)}')\n",
    "print(f'E-mails spam: {len(spam_filenames)}')"
   ]
  },
  {
   "cell_type": "markdown",
   "metadata": {},
   "source": [
    "### Extraindo o Conteúdo"
   ]
  },
  {
   "cell_type": "markdown",
   "metadata": {},
   "source": [
    "Utilizando a biblioteca ```e-mail``` juntamente com seu método ```policy```, será possível extrair o conteúdo dos arquivos de e-mails obtidos em sua forma bruta. Vejamos"
   ]
  },
  {
   "cell_type": "code",
   "execution_count": 7,
   "metadata": {
    "ExecuteTime": {
     "end_time": "2019-08-19T07:33:51.852239Z",
     "start_time": "2019-08-19T07:33:51.840525Z"
    }
   },
   "outputs": [],
   "source": [
    "# Definindo função para leitura dos e-mails\n",
    "import email\n",
    "import email.policy\n",
    "\n",
    "def load_email(is_spam, filename, spam_path=SPAM_PATH):\n",
    "    \"\"\"docstring for load_email: \n",
    "    função responsável por ler e  interpretar e-mails, salvando-os em listas\n",
    "    \n",
    "    input: \n",
    "        is_spam: valor booleano que identifica se a busca será dada em e-mails spam ou não-spam\n",
    "        filename: nome do arquivo (e-mail) a ser lido\n",
    "        spam_path: diretório onde os arquivos (e-mails) estão armazenados\n",
    "    \n",
    "    output:\n",
    "        email.parser.BytesParser(args).parse(object): e-mail lido\"\"\"\n",
    "    \n",
    "    directory = 'spam' if is_spam else 'easy_ham'\n",
    "    with open(os.path.join(spam_path, directory, filename), 'rb') as f:\n",
    "        return email.parser.BytesParser(policy=email.policy.default).parse(f)"
   ]
  },
  {
   "cell_type": "code",
   "execution_count": 8,
   "metadata": {
    "ExecuteTime": {
     "end_time": "2019-08-19T07:33:53.098840Z",
     "start_time": "2019-08-19T07:33:53.087162Z"
    }
   },
   "outputs": [
    {
     "data": {
      "text/plain": [
       "<email.message.EmailMessage at 0x7fa55c4e4a58>"
      ]
     },
     "execution_count": 8,
     "metadata": {},
     "output_type": "execute_result"
    }
   ],
   "source": [
    "# Testando função para um único e-mail\n",
    "email_test = load_email(is_spam=False, filename=ham_filenames[1])\n",
    "email_test"
   ]
  },
  {
   "cell_type": "code",
   "execution_count": 9,
   "metadata": {
    "ExecuteTime": {
     "end_time": "2019-08-19T07:33:53.863171Z",
     "start_time": "2019-08-19T07:33:53.854496Z"
    }
   },
   "outputs": [
    {
     "data": {
      "text/plain": [
       "\"Martin A posted:\\nTassos Papadopoulos, the Greek sculptor behind the plan, judged that the\\n limestone of Mount Kerdylio, 70 miles east of Salonika and not far from the\\n Mount Athos monastic community, was ideal for the patriotic sculpture. \\n \\n As well as Alexander's granite features, 240 ft high and 170 ft wide, a\\n museum, a restored amphitheatre and car park for admiring crowds are\\nplanned\\n---------------------\\nSo is this mountain limestone or granite?\\nIf it's limestone, it'll weather pretty fast.\\n\\n------------------------ Yahoo! Groups Sponsor ---------------------~-->\\n4 DVDs Free +s&p Join Now\\nhttp://us.click.yahoo.com/pt6YBB/NXiEAA/mG3HAA/7gSolB/TM\\n---------------------------------------------------------------------~->\\n\\nTo unsubscribe from this group, send an email to:\\nforteana-unsubscribe@egroups.com\\n\\n \\n\\nYour use of Yahoo! Groups is subject to http://docs.yahoo.com/info/terms/\""
      ]
     },
     "execution_count": 9,
     "metadata": {},
     "output_type": "execute_result"
    }
   ],
   "source": [
    "# Printando conteúdo lido\n",
    "email_test.get_content().strip()"
   ]
  },
  {
   "cell_type": "markdown",
   "metadata": {},
   "source": [
    "Com isso, é possível agora realizar o mesmo procedimento em todos os nomes de e-mails presentes em cada uma das listas ```ham_filenames``` e ```spam_filenames```. Para tal, basta chamar a função repetidas vezes para cada um dos elementos das respectivas listas."
   ]
  },
  {
   "cell_type": "code",
   "execution_count": 10,
   "metadata": {
    "ExecuteTime": {
     "end_time": "2019-08-19T07:33:59.580369Z",
     "start_time": "2019-08-19T07:33:57.302485Z"
    }
   },
   "outputs": [],
   "source": [
    "# Retornando listas com e-mails lidos \n",
    "ham_emails = [load_email(is_spam=False, filename=name) for name in ham_filenames]\n",
    "spam_emails = [load_email(is_spam=True, filename=name) for name in spam_filenames]"
   ]
  },
  {
   "cell_type": "code",
   "execution_count": 11,
   "metadata": {
    "ExecuteTime": {
     "end_time": "2019-08-19T07:33:59.587507Z",
     "start_time": "2019-08-19T07:33:59.582678Z"
    }
   },
   "outputs": [
    {
     "name": "stdout",
     "output_type": "stream",
     "text": [
      "Martin A posted:\n",
      "Tassos Papadopoulos, the Greek sculptor behind the plan, judged that the\n",
      " limestone of Mount Kerdylio, 70 miles east of Salonika and not far from the\n",
      " Mount Athos monastic community, was ideal for the patriotic sculpture. \n",
      " \n",
      " As well as Alexander's granite features, 240 ft high and 170 ft wide, a\n",
      " museum, a restored amphitheatre and car park for admiring crowds are\n",
      "planned\n",
      "---------------------\n",
      "So is this mountain limestone or granite?\n",
      "If it's limestone, it'll weather pretty fast.\n",
      "\n",
      "------------------------ Yahoo! Groups Sponsor ---------------------~-->\n",
      "4 DVDs Free +s&p Join Now\n",
      "http://us.click.yahoo.com/pt6YBB/NXiEAA/mG3HAA/7gSolB/TM\n",
      "---------------------------------------------------------------------~->\n",
      "\n",
      "To unsubscribe from this group, send an email to:\n",
      "forteana-unsubscribe@egroups.com\n",
      "\n",
      " \n",
      "\n",
      "Your use of Yahoo! Groups is subject to http://docs.yahoo.com/info/terms/\n"
     ]
    }
   ],
   "source": [
    "# Verificando resultado\n",
    "print(ham_emails[1].get_content().strip())"
   ]
  },
  {
   "cell_type": "markdown",
   "metadata": {},
   "source": [
    "Adicionalmente, foi possível verificar o conteúdo do e-mail sem caracteres especiais como o retorno de carro ```\\n```."
   ]
  },
  {
   "cell_type": "code",
   "execution_count": 12,
   "metadata": {
    "ExecuteTime": {
     "end_time": "2019-08-19T07:34:01.685729Z",
     "start_time": "2019-08-19T07:34:01.680970Z"
    }
   },
   "outputs": [
    {
     "name": "stdout",
     "output_type": "stream",
     "text": [
      "Help wanted.  We are a 14 year old fortune 500 company, that is\n",
      "growing at a tremendous rate.  We are looking for individuals who\n",
      "want to work from home.\n",
      "\n",
      "This is an opportunity to make an excellent income.  No experience\n",
      "is required.  We will train you.\n",
      "\n",
      "So if you are looking to be employed from home with a career that has\n",
      "vast opportunities, then go:\n",
      "\n",
      "http://www.basetel.com/wealthnow\n",
      "\n",
      "We are looking for energetic and self motivated people.  If that is you\n",
      "than click on the link and fill out the form, and one of our\n",
      "employement specialist will contact you.\n",
      "\n",
      "To be removed from our link simple go to:\n",
      "\n",
      "http://www.basetel.com/remove.html\n",
      "\n",
      "\n",
      "4139vOLW7-758DoDY1425FRhM1-764SMFc8513fCsLl40\n"
     ]
    }
   ],
   "source": [
    "# Exemplo de e-mail spam\n",
    "print(spam_emails[6].get_content().strip())"
   ]
  },
  {
   "cell_type": "markdown",
   "metadata": {},
   "source": [
    "### Tipos de E-mails"
   ]
  },
  {
   "cell_type": "markdown",
   "metadata": {},
   "source": [
    "Alguns e-mails são multi-partes, ou seja, possuem imagens, anexos (que podem possuir seus próprios anexos). Com as funções que serão definidas logo abaixo, será possível verificar quais os diferentes tipos de e-mails presentes no pacote de dados."
   ]
  },
  {
   "cell_type": "code",
   "execution_count": 13,
   "metadata": {
    "ExecuteTime": {
     "end_time": "2019-08-19T07:34:03.863582Z",
     "start_time": "2019-08-19T07:34:03.857499Z"
    }
   },
   "outputs": [],
   "source": [
    "def get_email_structure(email):\n",
    "    \"\"\"docstring for get_email_structure:\n",
    "    função responsável por retornar o tipo de estrutura de cada e-mail,\n",
    "    concatenando o tipo do conteúdo com o prefixo 'multipart()'\n",
    "    \n",
    "    input:\n",
    "        email: e-mail (objeto conteúdo)\n",
    "    output:\n",
    "        email.get_content_type(): tipo do e-mail\"\"\"\n",
    "    \n",
    "    if isinstance(email, str):\n",
    "        return email\n",
    "    payload = email.get_payload()\n",
    "    if isinstance(payload, list):\n",
    "        return \"multipart({})\".format(\", \".join([\n",
    "            get_email_structure(sub_email)\n",
    "            for sub_email in payload\n",
    "        ]))\n",
    "    else:\n",
    "        return email.get_content_type()"
   ]
  },
  {
   "cell_type": "markdown",
   "metadata": {},
   "source": [
    "    -----------------------------------------------------------\n",
    "    (1) - Explicando função get_email_structure(email)\n",
    "    -----------------------------------------------------------\n",
    "    \n",
    "```if isinstance(email, str)```"
   ]
  },
  {
   "cell_type": "code",
   "execution_count": 15,
   "metadata": {
    "ExecuteTime": {
     "end_time": "2019-01-28T14:12:35.626690Z",
     "start_time": "2019-01-28T14:12:35.532440Z"
    }
   },
   "outputs": [],
   "source": [
    "# 1 - isinstance(email, str)\n",
    "for email in ham_emails:\n",
    "    if isinstance(email, str):\n",
    "        print(True)"
   ]
  },
  {
   "cell_type": "markdown",
   "metadata": {},
   "source": [
    "Aparentemente, nenhum email não spam se enquadra na condição analisada. Vejamos o que ```isinstance()``` retorna."
   ]
  },
  {
   "cell_type": "code",
   "execution_count": 16,
   "metadata": {
    "ExecuteTime": {
     "end_time": "2019-01-28T14:12:35.756875Z",
     "start_time": "2019-01-28T14:12:35.628684Z"
    }
   },
   "outputs": [
    {
     "name": "stdout",
     "output_type": "stream",
     "text": [
      "Help on built-in function isinstance in module builtins:\n",
      "\n",
      "isinstance(obj, class_or_tuple, /)\n",
      "    Return whether an object is an instance of a class or of a subclass thereof.\n",
      "    \n",
      "    A tuple, as in ``isinstance(x, (A, B, ...))``, may be given as the target to\n",
      "    check against. This is equivalent to ``isinstance(x, A) or isinstance(x, B)\n",
      "    or ...`` etc.\n",
      "\n"
     ]
    }
   ],
   "source": [
    "# Verificando função isinstasnce\n",
    "help(isinstance)"
   ]
  },
  {
   "cell_type": "markdown",
   "metadata": {},
   "source": [
    "Na função definida, esse bloco condicional tem como objetivo verificar se existem e-mails cuja instância é um objeto da classe string (```str```). Em caso positivo, a função retorna este e-mail sem nenhuma operação."
   ]
  },
  {
   "cell_type": "markdown",
   "metadata": {},
   "source": [
    "    -----------------------------------------------------------\n",
    "    (2) - Explicando a função get_email_structure(email)\n",
    "    -----------------------------------------------------------\n",
    "\n",
    "```payload = email.get_payload()```"
   ]
  },
  {
   "cell_type": "code",
   "execution_count": 17,
   "metadata": {
    "ExecuteTime": {
     "end_time": "2019-01-28T14:12:36.000248Z",
     "start_time": "2019-01-28T14:12:35.759854Z"
    }
   },
   "outputs": [
    {
     "data": {
      "text/plain": [
       "email.message.EmailMessage"
      ]
     },
     "execution_count": 17,
     "metadata": {},
     "output_type": "execute_result"
    }
   ],
   "source": [
    "# Verificando tipo primitivo do objeto email\n",
    "type(ham_emails[0])"
   ]
  },
  {
   "cell_type": "code",
   "execution_count": 18,
   "metadata": {
    "ExecuteTime": {
     "end_time": "2019-01-28T14:12:36.136446Z",
     "start_time": "2019-01-28T14:12:36.002243Z"
    }
   },
   "outputs": [
    {
     "data": {
      "text/plain": [
       "\"Martin A posted:\\nTassos Papadopoulos, the Greek sculptor behind the plan, judged that the\\n limestone of Mount Kerdylio, 70 miles east of Salonika and not far from the\\n Mount Athos monastic community, was ideal for the patriotic sculpture. \\n \\n As well as Alexander's granite features, 240 ft high and 170 ft wide, a\\n museum, a restored amphitheatre and car park for admiring crowds are\\nplanned\\n---------------------\\nSo is this mountain limestone or granite?\\nIf it's limestone, it'll weather pretty fast.\\n\\n------------------------ Yahoo! Groups Sponsor ---------------------~-->\\n4 DVDs Free +s&p Join Now\\nhttp://us.click.yahoo.com/pt6YBB/NXiEAA/mG3HAA/7gSolB/TM\\n---------------------------------------------------------------------~->\\n\\nTo unsubscribe from this group, send an email to:\\nforteana-unsubscribe@egroups.com\\n\\n \\n\\nYour use of Yahoo! Groups is subject to http://docs.yahoo.com/info/terms/ \\n\\n\\n\\n\""
      ]
     },
     "execution_count": 18,
     "metadata": {},
     "output_type": "execute_result"
    }
   ],
   "source": [
    "# Verificando função get_payload()\n",
    "ham_emails[1].get_payload()"
   ]
  },
  {
   "cell_type": "code",
   "execution_count": 19,
   "metadata": {
    "ExecuteTime": {
     "end_time": "2019-01-28T14:12:36.322381Z",
     "start_time": "2019-01-28T14:12:36.138442Z"
    }
   },
   "outputs": [
    {
     "data": {
      "text/plain": [
       "\"Martin A posted:\\nTassos Papadopoulos, the Greek sculptor behind the plan, judged that the\\n limestone of Mount Kerdylio, 70 miles east of Salonika and not far from the\\n Mount Athos monastic community, was ideal for the patriotic sculpture. \\n \\n As well as Alexander's granite features, 240 ft high and 170 ft wide, a\\n museum, a restored amphitheatre and car park for admiring crowds are\\nplanned\\n---------------------\\nSo is this mountain limestone or granite?\\nIf it's limestone, it'll weather pretty fast.\\n\\n------------------------ Yahoo! Groups Sponsor ---------------------~-->\\n4 DVDs Free +s&p Join Now\\nhttp://us.click.yahoo.com/pt6YBB/NXiEAA/mG3HAA/7gSolB/TM\\n---------------------------------------------------------------------~->\\n\\nTo unsubscribe from this group, send an email to:\\nforteana-unsubscribe@egroups.com\\n\\n \\n\\nYour use of Yahoo! Groups is subject to http://docs.yahoo.com/info/terms/ \\n\\n\\n\\n\""
      ]
     },
     "execution_count": 19,
     "metadata": {},
     "output_type": "execute_result"
    }
   ],
   "source": [
    "# Diferença para impressão normal do e-mail\n",
    "ham_emails[1].get_content()"
   ]
  },
  {
   "cell_type": "markdown",
   "metadata": {},
   "source": [
    "Aparentemente, não há nenhuma diferença."
   ]
  },
  {
   "cell_type": "code",
   "execution_count": 20,
   "metadata": {
    "ExecuteTime": {
     "end_time": "2019-01-28T14:12:36.417129Z",
     "start_time": "2019-01-28T14:12:36.324375Z"
    }
   },
   "outputs": [
    {
     "name": "stdout",
     "output_type": "stream",
     "text": [
      "Qtd de caracteres retornados com get_payload(): 899\n",
      "Qtd de caracteres retornados com get_content(): 899\n"
     ]
    }
   ],
   "source": [
    "# Verificando contagem de caracteres\n",
    "print(f'Qtd de caracteres retornados com get_payload(): {len(ham_emails[1].get_payload())}')\n",
    "print(f'Qtd de caracteres retornados com get_content(): {len(ham_emails[1].get_content())}')"
   ]
  },
  {
   "cell_type": "markdown",
   "metadata": {},
   "source": [
    "Documentação das bibliotecas utilizadas para esta extração de conteúdo e retorno de tipos dos e-mails:\n",
    "* [email](https://docs.python.org/3/library/email.examples.html)\n",
    "* [email.message](https://docs.python.org/3/library/email.message.html)\n",
    "* [exemplo: email.message.EmailMessage](https://www.programcreek.com/python/example/99476/email.message.EmailMessage)"
   ]
  },
  {
   "cell_type": "markdown",
   "metadata": {},
   "source": [
    "    -----------------------------------------------------------\n",
    "    (3) - Explicando a função get_email_structure(email)\n",
    "    -----------------------------------------------------------\n",
    "\n",
    "```if isinstance(payload, list):```"
   ]
  },
  {
   "cell_type": "code",
   "execution_count": 21,
   "metadata": {
    "ExecuteTime": {
     "end_time": "2019-01-28T14:12:36.511231Z",
     "start_time": "2019-01-28T14:12:36.420119Z"
    }
   },
   "outputs": [],
   "source": [
    "# Testando em um único exemplo\n",
    "payload_test = ham_emails[1].get_payload()\n",
    "if isinstance(payload_test, list):\n",
    "    print(True)"
   ]
  },
  {
   "cell_type": "markdown",
   "metadata": {},
   "source": [
    "Aparentemente, o e-mail utilizado como teste não se enquadra na condição acima."
   ]
  },
  {
   "cell_type": "code",
   "execution_count": 22,
   "metadata": {
    "ExecuteTime": {
     "end_time": "2019-01-28T14:12:36.654858Z",
     "start_time": "2019-01-28T14:12:36.513136Z"
    }
   },
   "outputs": [
    {
     "data": {
      "text/plain": [
       "\"multipart(M, a, r, t, i, n,  , A,  , p, o, s, t, e, d, :, \\n, T, a, s, s, o, s,  , P, a, p, a, d, o, p, o, u, l, o, s, ,,  , t, h, e,  , G, r, e, e, k,  , s, c, u, l, p, t, o, r,  , b, e, h, i, n, d,  , t, h, e,  , p, l, a, n, ,,  , j, u, d, g, e, d,  , t, h, a, t,  , t, h, e, \\n,  , l, i, m, e, s, t, o, n, e,  , o, f,  , M, o, u, n, t,  , K, e, r, d, y, l, i, o, ,,  , 7, 0,  , m, i, l, e, s,  , e, a, s, t,  , o, f,  , S, a, l, o, n, i, k, a,  , a, n, d,  , n, o, t,  , f, a, r,  , f, r, o, m,  , t, h, e, \\n,  , M, o, u, n, t,  , A, t, h, o, s,  , m, o, n, a, s, t, i, c,  , c, o, m, m, u, n, i, t, y, ,,  , w, a, s,  , i, d, e, a, l,  , f, o, r,  , t, h, e,  , p, a, t, r, i, o, t, i, c,  , s, c, u, l, p, t, u, r, e, .,  , \\n,  , \\n,  , A, s,  , w, e, l, l,  , a, s,  , A, l, e, x, a, n, d, e, r, ', s,  , g, r, a, n, i, t, e,  , f, e, a, t, u, r, e, s, ,,  , 2, 4, 0,  , f, t,  , h, i, g, h,  , a, n, d,  , 1, 7, 0,  , f, t,  , w, i, d, e, ,,  , a, \\n,  , m, u, s, e, u, m, ,,  , a,  , r, e, s, t, o, r, e, d,  , a, m, p, h, i, t, h, e, a, t, r, e,  , a, n, d,  , c, a, r,  , p, a, r, k,  , f, o, r,  , a, d, m, i, r, i, n, g,  , c, r, o, w, d, s,  , a, r, e, \\n, p, l, a, n, n, e, d, \\n, -, -, -, -, -, -, -, -, -, -, -, -, -, -, -, -, -, -, -, -, -, \\n, S, o,  , i, s,  , t, h, i, s,  , m, o, u, n, t, a, i, n,  , l, i, m, e, s, t, o, n, e,  , o, r,  , g, r, a, n, i, t, e, ?, \\n, I, f,  , i, t, ', s,  , l, i, m, e, s, t, o, n, e, ,,  , i, t, ', l, l,  , w, e, a, t, h, e, r,  , p, r, e, t, t, y,  , f, a, s, t, ., \\n, \\n, -, -, -, -, -, -, -, -, -, -, -, -, -, -, -, -, -, -, -, -, -, -, -, -,  , Y, a, h, o, o, !,  , G, r, o, u, p, s,  , S, p, o, n, s, o, r,  , -, -, -, -, -, -, -, -, -, -, -, -, -, -, -, -, -, -, -, -, -, ~, -, -, >, \\n, 4,  , D, V, D, s,  , F, r, e, e,  , +, s, &, p,  , J, o, i, n,  , N, o, w, \\n, h, t, t, p, :, /, /, u, s, ., c, l, i, c, k, ., y, a, h, o, o, ., c, o, m, /, p, t, 6, Y, B, B, /, N, X, i, E, A, A, /, m, G, 3, H, A, A, /, 7, g, S, o, l, B, /, T, M, \\n, -, -, -, -, -, -, -, -, -, -, -, -, -, -, -, -, -, -, -, -, -, -, -, -, -, -, -, -, -, -, -, -, -, -, -, -, -, -, -, -, -, -, -, -, -, -, -, -, -, -, -, -, -, -, -, -, -, -, -, -, -, -, -, -, -, -, -, -, -, ~, -, >, \\n, \\n, T, o,  , u, n, s, u, b, s, c, r, i, b, e,  , f, r, o, m,  , t, h, i, s,  , g, r, o, u, p, ,,  , s, e, n, d,  , a, n,  , e, m, a, i, l,  , t, o, :, \\n, f, o, r, t, e, a, n, a, -, u, n, s, u, b, s, c, r, i, b, e, @, e, g, r, o, u, p, s, ., c, o, m, \\n, \\n,  , \\n, \\n, Y, o, u, r,  , u, s, e,  , o, f,  , Y, a, h, o, o, !,  , G, r, o, u, p, s,  , i, s,  , s, u, b, j, e, c, t,  , t, o,  , h, t, t, p, :, /, /, d, o, c, s, ., y, a, h, o, o, ., c, o, m, /, i, n, f, o, /, t, e, r, m, s, /,  , \\n, \\n, \\n, \\n)\""
      ]
     },
     "execution_count": 22,
     "metadata": {},
     "output_type": "execute_result"
    }
   ],
   "source": [
    "# Verificando o retorno da função caso o condicional for verdadeiro\n",
    "\"multipart({})\".format(\", \".join([\n",
    "            get_email_structure(sub_email)\n",
    "            for sub_email in payload_test\n",
    "        ]))"
   ]
  },
  {
   "cell_type": "markdown",
   "metadata": {},
   "source": [
    "    -----------------------------------------------------------\n",
    "    (4) - Explicando a função get_email_structure(email)\n",
    "    -----------------------------------------------------------\n",
    "\n",
    "```return email.get_content_type()```"
   ]
  },
  {
   "cell_type": "code",
   "execution_count": 23,
   "metadata": {
    "ExecuteTime": {
     "end_time": "2019-01-28T14:12:36.783510Z",
     "start_time": "2019-01-28T14:12:36.662832Z"
    }
   },
   "outputs": [
    {
     "data": {
      "text/plain": [
       "'text/plain'"
      ]
     },
     "execution_count": 23,
     "metadata": {},
     "output_type": "execute_result"
    }
   ],
   "source": [
    "# Testando em uma única instância\n",
    "ham_emails[1].get_content_type()"
   ]
  },
  {
   "cell_type": "markdown",
   "metadata": {},
   "source": [
    "    -----------------------------------------------------------\n",
    "    Fim das explicações sobre a função get_email_structure\n",
    "    -----------------------------------------------------------"
   ]
  },
  {
   "cell_type": "code",
   "execution_count": 24,
   "metadata": {
    "ExecuteTime": {
     "end_time": "2019-01-28T14:12:36.939795Z",
     "start_time": "2019-01-28T14:12:36.788496Z"
    }
   },
   "outputs": [
    {
     "name": "stdout",
     "output_type": "stream",
     "text": [
      "Tipo do e-mail: text/plain\n",
      "Tipo do e-mail: text/plain\n",
      "Tipo do e-mail: text/plain\n",
      "Tipo do e-mail: text/plain\n",
      "Tipo do e-mail: text/plain\n",
      "Tipo do e-mail: text/plain\n",
      "Tipo do e-mail: text/plain\n",
      "Tipo do e-mail: text/plain\n",
      "Tipo do e-mail: text/plain\n",
      "Tipo do e-mail: text/plain\n"
     ]
    }
   ],
   "source": [
    "# Testando função com e-mails não-spam\n",
    "for email in ham_emails[:10]:\n",
    "    print(f'Tipo do e-mail: {get_email_structure(email)}')"
   ]
  },
  {
   "cell_type": "code",
   "execution_count": 25,
   "metadata": {
    "ExecuteTime": {
     "end_time": "2019-01-28T14:12:37.033545Z",
     "start_time": "2019-01-28T14:12:36.942787Z"
    }
   },
   "outputs": [
    {
     "name": "stdout",
     "output_type": "stream",
     "text": [
      "Tipo do e-mail: text/html\n",
      "Tipo do e-mail: text/plain\n",
      "Tipo do e-mail: text/plain\n",
      "Tipo do e-mail: text/plain\n",
      "Tipo do e-mail: text/plain\n",
      "Tipo do e-mail: text/plain\n",
      "Tipo do e-mail: text/plain\n",
      "Tipo do e-mail: text/html\n",
      "Tipo do e-mail: text/plain\n",
      "Tipo do e-mail: text/html\n"
     ]
    }
   ],
   "source": [
    "# Testando função com e-mails epam\n",
    "for email in spam_emails[:10]:\n",
    "    print(f'Tipo do e-mail: {get_email_structure(email)}')"
   ]
  },
  {
   "cell_type": "markdown",
   "metadata": {},
   "source": [
    "Só isso não basta. Precisamos de uma função responsável por realizar um agrupamento e uma contagem em cada um dos tipos encontrados. Somente assim será possível comparar tipos predonimantes em cada um dos blocos de e-mails (spams e não-spams)."
   ]
  },
  {
   "cell_type": "code",
   "execution_count": 26,
   "metadata": {
    "ExecuteTime": {
     "end_time": "2019-01-28T14:12:37.136895Z",
     "start_time": "2019-01-28T14:12:37.036537Z"
    }
   },
   "outputs": [],
   "source": [
    "# Definindo função para contagem dos tipos\n",
    "from collections import Counter\n",
    "\n",
    "def structures_counter(emails):\n",
    "    structures = Counter()\n",
    "    for email in emails:\n",
    "        structure = get_email_structure(email)\n",
    "        structures[structure] += 1\n",
    "    return structures"
   ]
  },
  {
   "cell_type": "code",
   "execution_count": 27,
   "metadata": {
    "ExecuteTime": {
     "end_time": "2019-01-28T14:12:37.950944Z",
     "start_time": "2019-01-28T14:12:37.140884Z"
    }
   },
   "outputs": [
    {
     "data": {
      "text/plain": [
       "[('text/plain', 2408),\n",
       " ('multipart(text/plain, application/pgp-signature)', 66),\n",
       " ('multipart(text/plain, text/html)', 8),\n",
       " ('multipart(text/plain, text/plain)', 4),\n",
       " ('multipart(text/plain)', 3),\n",
       " ('multipart(text/plain, application/octet-stream)', 2),\n",
       " ('multipart(text/plain, text/enriched)', 1),\n",
       " ('multipart(text/plain, application/ms-tnef, text/plain)', 1),\n",
       " ('multipart(multipart(text/plain, text/plain, text/plain), application/pgp-signature)',\n",
       "  1),\n",
       " ('multipart(text/plain, video/mng)', 1),\n",
       " ('multipart(text/plain, multipart(text/plain))', 1),\n",
       " ('multipart(text/plain, application/x-pkcs7-signature)', 1),\n",
       " ('multipart(text/plain, multipart(text/plain, text/plain), text/rfc822-headers)',\n",
       "  1),\n",
       " ('multipart(text/plain, multipart(text/plain, text/plain), multipart(multipart(text/plain, application/x-pkcs7-signature)))',\n",
       "  1),\n",
       " ('multipart(text/plain, application/x-java-applet)', 1)]"
      ]
     },
     "execution_count": 27,
     "metadata": {},
     "output_type": "execute_result"
    }
   ],
   "source": [
    "# Executando função em e-mails não spam\n",
    "structures_counter(ham_emails).most_common()"
   ]
  },
  {
   "cell_type": "code",
   "execution_count": 28,
   "metadata": {
    "ExecuteTime": {
     "end_time": "2019-01-28T14:12:38.158400Z",
     "start_time": "2019-01-28T14:12:37.953925Z"
    }
   },
   "outputs": [
    {
     "data": {
      "text/plain": [
       "[('text/plain', 218),\n",
       " ('text/html', 183),\n",
       " ('multipart(text/plain, text/html)', 45),\n",
       " ('multipart(text/html)', 20),\n",
       " ('multipart(text/plain)', 19),\n",
       " ('multipart(multipart(text/html))', 5),\n",
       " ('multipart(text/plain, image/jpeg)', 3),\n",
       " ('multipart(text/html, application/octet-stream)', 2),\n",
       " ('multipart(text/plain, application/octet-stream)', 1),\n",
       " ('multipart(text/html, text/plain)', 1),\n",
       " ('multipart(multipart(text/html), application/octet-stream, image/jpeg)', 1),\n",
       " ('multipart(multipart(text/plain, text/html), image/gif)', 1),\n",
       " ('multipart/alternative', 1)]"
      ]
     },
     "execution_count": 28,
     "metadata": {},
     "output_type": "execute_result"
    }
   ],
   "source": [
    "# Executando função em e-mails spam\n",
    "structures_counter(spam_emails).most_common()"
   ]
  },
  {
   "cell_type": "markdown",
   "metadata": {},
   "source": [
    "A avaliação que pode ser feita ao comparar a frequência de cada um dos tipos nos blocos de e-mails spam e não spam, gira em torno da presença, no bloco dos e-mails não maliciosos, de uma maior quantidade de arquivos em formato 'text/plain'.\n",
    "\n",
    "Por outro lado, no bloco de e-mails maliciosos é possível encontrar uma proporção muito maior de e-mails do tipo 'text/html'."
   ]
  },
  {
   "cell_type": "markdown",
   "metadata": {},
   "source": [
    "### Cabeçalho dos E-mails"
   ]
  },
  {
   "cell_type": "code",
   "execution_count": 29,
   "metadata": {
    "ExecuteTime": {
     "end_time": "2019-01-28T14:12:38.170369Z",
     "start_time": "2019-01-28T14:12:38.160394Z"
    }
   },
   "outputs": [
    {
     "data": {
      "text/plain": [
       "500"
      ]
     },
     "execution_count": 29,
     "metadata": {},
     "output_type": "execute_result"
    }
   ],
   "source": [
    "# Explorando um pouco mais a estrutura de e-mails\n",
    "len(spam_emails)"
   ]
  },
  {
   "cell_type": "code",
   "execution_count": 30,
   "metadata": {
    "ExecuteTime": {
     "end_time": "2019-01-28T14:12:38.309010Z",
     "start_time": "2019-01-28T14:12:38.172363Z"
    }
   },
   "outputs": [
    {
     "data": {
      "text/plain": [
       "[<email.message.EmailMessage at 0x212d08472b0>,\n",
       " <email.message.EmailMessage at 0x212d0833da0>,\n",
       " <email.message.EmailMessage at 0x212d0833be0>,\n",
       " <email.message.EmailMessage at 0x212d0847668>,\n",
       " <email.message.EmailMessage at 0x212d0847828>,\n",
       " <email.message.EmailMessage at 0x212d0847a20>,\n",
       " <email.message.EmailMessage at 0x212d080ada0>,\n",
       " <email.message.EmailMessage at 0x212d0847e80>,\n",
       " <email.message.EmailMessage at 0x212d0847e10>,\n",
       " <email.message.EmailMessage at 0x212d08560b8>]"
      ]
     },
     "execution_count": 30,
     "metadata": {},
     "output_type": "execute_result"
    }
   ],
   "source": [
    "spam_emails[:10]"
   ]
  },
  {
   "cell_type": "markdown",
   "metadata": {},
   "source": [
    "Trata-se de uma lista. Com ela, todos os métodos poderão ser aplicados."
   ]
  },
  {
   "cell_type": "code",
   "execution_count": 31,
   "metadata": {
    "ExecuteTime": {
     "end_time": "2019-01-28T14:12:38.393812Z",
     "start_time": "2019-01-28T14:12:38.311002Z"
    }
   },
   "outputs": [
    {
     "data": {
      "text/plain": [
       "<email.message.EmailMessage at 0x212d08472b0>"
      ]
     },
     "execution_count": 31,
     "metadata": {},
     "output_type": "execute_result"
    }
   ],
   "source": [
    "# Indexando elementos\n",
    "spam_emails[0]"
   ]
  },
  {
   "cell_type": "markdown",
   "metadata": {},
   "source": [
    "Os objetos individuais (elementos da lista) não mais podem ser tratados como uma lista, pois tratam-se de elementos do tipo ```email.message.EmailMessage``` e, com isso, diferentes métodos e atributos são chamados."
   ]
  },
  {
   "cell_type": "code",
   "execution_count": 32,
   "metadata": {
    "ExecuteTime": {
     "end_time": "2019-01-28T14:12:38.494671Z",
     "start_time": "2019-01-28T14:12:38.395774Z"
    }
   },
   "outputs": [
    {
     "data": {
      "text/plain": [
       "[('Return-Path', '<12a1mailbot1@web.de>'),\n",
       " ('Delivered-To', 'zzzz@localhost.spamassassin.taint.org'),\n",
       " ('Received',\n",
       "  'from localhost (localhost [127.0.0.1])\\tby phobos.labs.spamassassin.taint.org (Postfix) with ESMTP id 136B943C32\\tfor <zzzz@localhost>; Thu, 22 Aug 2002 08:17:21 -0400 (EDT)'),\n",
       " ('Received',\n",
       "  'from mail.webnote.net [193.120.211.219]\\tby localhost with POP3 (fetchmail-5.9.0)\\tfor zzzz@localhost (single-drop); Thu, 22 Aug 2002 13:17:21 +0100 (IST)'),\n",
       " ('Received',\n",
       "  'from dd_it7 ([210.97.77.167])\\tby webnote.net (8.9.3/8.9.3) with ESMTP id NAA04623\\tfor <zzzz@spamassassin.taint.org>; Thu, 22 Aug 2002 13:09:41 +0100'),\n",
       " ('From', '12a1mailbot1@web.de'),\n",
       " ('Received',\n",
       "  'from r-smtp.korea.com - 203.122.2.197 by dd_it7  with Microsoft SMTPSVC(5.5.1775.675.6);\\t Sat, 24 Aug 2002 09:42:10 +0900'),\n",
       " ('To', 'dcek1a1@netsgo.com'),\n",
       " ('Subject', 'Life Insurance - Why Pay More?'),\n",
       " ('Date', 'Wed, 21 Aug 2002 20:31:57 -1600'),\n",
       " ('MIME-Version', '1.0'),\n",
       " ('Message-ID', '<0103c1042001882DD_IT7@dd_it7>'),\n",
       " ('Content-Type', 'text/html; charset=\"iso-8859-1\"'),\n",
       " ('Content-Transfer-Encoding', 'quoted-printable')]"
      ]
     },
     "execution_count": 32,
     "metadata": {},
     "output_type": "execute_result"
    }
   ],
   "source": [
    "# Verificando método items\n",
    "spam_emails[0].items()"
   ]
  },
  {
   "cell_type": "code",
   "execution_count": 33,
   "metadata": {
    "ExecuteTime": {
     "end_time": "2019-01-28T14:12:38.611266Z",
     "start_time": "2019-01-28T14:12:38.496672Z"
    }
   },
   "outputs": [
    {
     "data": {
      "text/plain": [
       "'<!DOCTYPE HTML PUBLIC \"-//W3C//DTD HTML 4.0 Transitional//EN\">\\n<HTML><HEAD>\\n<META content=\"text/html; charset=windows-1252\" http-equiv=Content-Type>\\n<META content=\"MSHTML 5.00.2314.1000\" name=GENERATOR></HEAD>\\n<BODY><!-- Inserted by Calypso -->\\n<TABLE border=0 cellPadding=0 cellSpacing=2 id=_CalyPrintHeader_ rules=none \\nstyle=\"COLOR: black; DISPLAY: none\" width=\"100%\">\\n  <TBODY>\\n  <TR>\\n    <TD colSpan=3>\\n      <HR color=black noShade SIZE=1>\\n    </TD></TR></TD></TR>\\n  <TR>\\n    <TD colSpan=3>\\n      <HR color=black noShade SIZE=1>\\n    </TD></TR></TBODY></TABLE><!-- End Calypso --><!-- Inserted by Calypso --><FONT \\ncolor=#000000 face=VERDANA,ARIAL,HELVETICA size=-2><BR></FONT></TD></TR></TABLE><!-- End Calypso --><FONT color=#ff0000 \\nface=\"Copperplate Gothic Bold\" size=5 PTSIZE=\"10\">\\n<CENTER>Save up to 70% on Life Insurance.</CENTER></FONT><FONT color=#ff0000 \\nface=\"Copperplate Gothic Bold\" size=5 PTSIZE=\"10\">\\n<CENTER>Why Spend More Than You Have To?\\n<CENTER><FONT color=#ff0000 face=\"Copperplate Gothic Bold\" size=5 PTSIZE=\"10\">\\n<CENTER>Life Quote Savings\\n<CENTER>\\n<P align=left></P>\\n<P align=left></P></FONT></U></I></B><BR></FONT></U></B></U></I>\\n<P></P>\\n<CENTER>\\n<TABLE border=0 borderColor=#111111 cellPadding=0 cellSpacing=0 width=650>\\n  <TBODY></TBODY></TABLE>\\n<TABLE border=0 borderColor=#111111 cellPadding=5 cellSpacing=0 width=650>\\n  <TBODY>\\n  <TR>\\n    <TD colSpan=2 width=\"35%\"><B><FONT face=Verdana size=4>Ensuring your \\n      family\\'s financial security is very important. Life Quote Savings makes \\n      buying life insurance simple and affordable. We Provide FREE Access to The \\n      Very Best Companies and The Lowest Rates.</FONT></B></TD></TR>\\n  <TR>\\n    <TD align=middle vAlign=top width=\"18%\">\\n      <TABLE borderColor=#111111 width=\"100%\">\\n        <TBODY>\\n        <TR>\\n          <TD style=\"PADDING-LEFT: 5px; PADDING-RIGHT: 5px\" width=\"100%\"><FONT \\n            face=Verdana size=4><B>Life Quote Savings</B> is FAST, EASY and \\n            SAVES you money! Let us help you get started with the best values in \\n            the country on new coverage. You can SAVE hundreds or even thousands \\n            of dollars by requesting a FREE quote from Lifequote Savings. Our \\n            service will take you less than 5 minutes to complete. Shop and \\n            compare. SAVE up to 70% on all types of Life insurance! \\n</FONT></TD></TR>\\n        <TR><BR><BR>\\n          <TD height=50 style=\"PADDING-LEFT: 5px; PADDING-RIGHT: 5px\" \\n          width=\"100%\">\\n            <P align=center><B><FONT face=Verdana size=5><A \\n            href=\"http://website.e365.cc/savequote/\">Click Here For Your \\n            Free Quote!</A></FONT></B></P></TD>\\n          <P><FONT face=Verdana size=4><STRONG>\\n          <CENTER>Protecting your family is the best investment you\\'ll ever \\n          make!<BR></B></TD></TR>\\n        <TR><BR><BR></STRONG></FONT></TD></TR></TD></TR>\\n        <TR></TR></TBODY></TABLE>\\n      <P align=left><FONT face=\"Arial, Helvetica, sans-serif\" size=2></FONT></P>\\n      <P></P>\\n      <CENTER><BR><BR><BR>\\n      <P></P>\\n      <P align=left><BR></B><BR><BR><BR><BR></P>\\n      <P align=center><BR></P>\\n      <P align=left><BR></B><BR><BR></FONT>If you are in receipt of this email \\n      in error and/or wish to be removed from our list, <A \\n      href=\"mailto:coins@btamail.net.cn\">PLEASE CLICK HERE</A> AND TYPE REMOVE. If you \\n      reside in any state which prohibits e-mail solicitations for insurance, \\n      please disregard this \\n      email.<BR></FONT><BR><BR><BR><BR><BR><BR><BR><BR><BR><BR><BR><BR><BR><BR><BR><BR></FONT></P></CENTER></CENTER></TR></TBODY></TABLE></CENTER></CENTER></CENTER></CENTER></CENTER></BODY></HTML>\\n\\n\\n\\n'"
      ]
     },
     "execution_count": 33,
     "metadata": {},
     "output_type": "execute_result"
    }
   ],
   "source": [
    "# Buscando relações com o corpo do e-mail\n",
    "spam_emails[0].get_content()"
   ]
  },
  {
   "cell_type": "markdown",
   "metadata": {},
   "source": [
    "Após todas as análises realizadas, é possível identificar um comportamento de spam nesse e-mail."
   ]
  },
  {
   "cell_type": "code",
   "execution_count": 34,
   "metadata": {
    "ExecuteTime": {
     "end_time": "2019-01-28T14:12:38.711169Z",
     "start_time": "2019-01-28T14:12:38.615228Z"
    }
   },
   "outputs": [
    {
     "name": "stdout",
     "output_type": "stream",
     "text": [
      "Return-Path : <12a1mailbot1@web.de>\n",
      "Delivered-To : zzzz@localhost.spamassassin.taint.org\n",
      "Received : from localhost (localhost [127.0.0.1])\tby phobos.labs.spamassassin.taint.org (Postfix) with ESMTP id 136B943C32\tfor <zzzz@localhost>; Thu, 22 Aug 2002 08:17:21 -0400 (EDT)\n",
      "Received : from mail.webnote.net [193.120.211.219]\tby localhost with POP3 (fetchmail-5.9.0)\tfor zzzz@localhost (single-drop); Thu, 22 Aug 2002 13:17:21 +0100 (IST)\n",
      "Received : from dd_it7 ([210.97.77.167])\tby webnote.net (8.9.3/8.9.3) with ESMTP id NAA04623\tfor <zzzz@spamassassin.taint.org>; Thu, 22 Aug 2002 13:09:41 +0100\n",
      "From : 12a1mailbot1@web.de\n",
      "Received : from r-smtp.korea.com - 203.122.2.197 by dd_it7  with Microsoft SMTPSVC(5.5.1775.675.6);\t Sat, 24 Aug 2002 09:42:10 +0900\n",
      "To : dcek1a1@netsgo.com\n",
      "Subject : Life Insurance - Why Pay More?\n",
      "Date : Wed, 21 Aug 2002 20:31:57 -1600\n",
      "MIME-Version : 1.0\n",
      "Message-ID : <0103c1042001882DD_IT7@dd_it7>\n",
      "Content-Type : text/html; charset=\"iso-8859-1\"\n",
      "Content-Transfer-Encoding : quoted-printable\n"
     ]
    }
   ],
   "source": [
    "for header, value in spam_emails[0].items():\n",
    "    print(header, ':', value)"
   ]
  },
  {
   "cell_type": "code",
   "execution_count": 35,
   "metadata": {
    "ExecuteTime": {
     "end_time": "2019-01-28T14:12:38.797871Z",
     "start_time": "2019-01-28T14:12:38.715189Z"
    }
   },
   "outputs": [
    {
     "name": "stdout",
     "output_type": "stream",
     "text": [
      "Return-Path : <Steve_Burt@cursor-system.com>\n",
      "Delivered-To : zzzz@localhost.netnoteinc.com\n",
      "Received : from localhost (localhost [127.0.0.1])\tby phobos.labs.netnoteinc.com (Postfix) with ESMTP id BE12E43C34\tfor <zzzz@localhost>; Thu, 22 Aug 2002 07:46:38 -0400 (EDT)\n",
      "Received : from phobos [127.0.0.1]\tby localhost with IMAP (fetchmail-5.9.0)\tfor zzzz@localhost (single-drop); Thu, 22 Aug 2002 12:46:38 +0100 (IST)\n",
      "Received : from n20.grp.scd.yahoo.com (n20.grp.scd.yahoo.com    [66.218.66.76]) by dogma.slashnull.org (8.11.6/8.11.6) with SMTP id    g7MBkTZ05087 for <zzzz@spamassassin.taint.org>; Thu, 22 Aug 2002 12:46:29 +0100\n",
      "X-Egroups-Return : sentto-2242572-52726-1030016790-zzzz=spamassassin.taint.org@returns.groups.yahoo.com\n",
      "Received : from [66.218.67.196] by n20.grp.scd.yahoo.com with NNFMP;    22 Aug 2002 11:46:30 -0000\n",
      "X-Sender : steve.burt@cursor-system.com\n",
      "X-Apparently-To : zzzzteana@yahoogroups.com\n",
      "Received : (EGP: mail-8_1_0_1); 22 Aug 2002 11:46:29 -0000\n",
      "Received : (qmail 11764 invoked from network); 22 Aug 2002 11:46:29 -0000\n",
      "Received : from unknown (66.218.66.217) by m3.grp.scd.yahoo.com with QMQP;    22 Aug 2002 11:46:29 -0000\n",
      "Received : from unknown (HELO mailgateway.cursor-system.com) (62.189.7.27)    by mta2.grp.scd.yahoo.com with SMTP; 22 Aug 2002 11:46:29 -0000\n",
      "Received : from exchange1.cps.local (unverified) by    mailgateway.cursor-system.com (Content Technologies SMTPRS 4.2.10) with    ESMTP id <T5cde81f695ac1d100407d@mailgateway.cursor-system.com> for    <forteana@yahoogroups.com>; Thu, 22 Aug 2002 13:14:10 +0100\n",
      "Received : by exchange1.cps.local with Internet Mail Service (5.5.2653.19)    id <PXX6AT23>; Thu, 22 Aug 2002 12:46:27 +0100\n",
      "Message-Id : <5EC2AD6D2314D14FB64BDA287D25D9EF12B4F6@exchange1.cps.local>\n",
      "To : \"'zzzzteana@yahoogroups.com'\" <zzzzteana@yahoogroups.com>\n",
      "X-Mailer : Internet Mail Service (5.5.2653.19)\n",
      "X-Egroups-From : Steve Burt <steve.burt@cursor-system.com>\n",
      "From : Steve Burt <Steve_Burt@cursor-system.com>\n",
      "X-Yahoo-Profile : pyruse\n",
      "MIME-Version : 1.0\n",
      "Mailing-List : list zzzzteana@yahoogroups.com; contact    forteana-owner@yahoogroups.com\n",
      "Delivered-To : mailing list zzzzteana@yahoogroups.com\n",
      "Precedence : bulk\n",
      "List-Unsubscribe : <mailto:zzzzteana-unsubscribe@yahoogroups.com>\n",
      "Date : Thu, 22 Aug 2002 12:46:18 +0100\n",
      "Subject : [zzzzteana] RE: Alexander\n",
      "Reply-To : zzzzteana@yahoogroups.com\n",
      "Content-Type : text/plain; charset=\"US-ASCII\"\n",
      "Content-Transfer-Encoding : 7bit\n"
     ]
    }
   ],
   "source": [
    "# Repetindo procedimento para email não spam\n",
    "for header, value in ham_emails[1].items():\n",
    "    print(header, ':', value)"
   ]
  },
  {
   "cell_type": "markdown",
   "metadata": {},
   "source": [
    "Será que as informações contidas no cabeçalho dos e-mails poderiam ser consideradas *features* para o treinamento do algoritmo? Por exemplo, e-mails recebidos de determinado servidor são mais propensos a serem considerados SPAM, ou e-mails com assunto (Subject) X..."
   ]
  },
  {
   "cell_type": "code",
   "execution_count": 36,
   "metadata": {
    "ExecuteTime": {
     "end_time": "2019-01-28T14:12:38.949540Z",
     "start_time": "2019-01-28T14:12:38.800877Z"
    }
   },
   "outputs": [
    {
     "name": "stdout",
     "output_type": "stream",
     "text": [
      "Return-Path\n",
      "Delivered-To\n",
      "Received\n",
      "Received\n",
      "Received\n",
      "From\n",
      "Received\n",
      "To\n",
      "Subject\n",
      "Date\n",
      "MIME-Version\n",
      "Message-ID\n",
      "Content-Type\n",
      "Content-Transfer-Encoding\n",
      "\n",
      "Analisando título do e-mail\n",
      "\n",
      "Subject: Life Insurance - Why Pay More?\n"
     ]
    }
   ],
   "source": [
    "# Vejamos\n",
    "for header in spam_emails[0]:\n",
    "    print(header)\n",
    "print()\n",
    "print('Analisando título do e-mail\\n')\n",
    "print(f'Subject: {spam_emails[0][\"Subject\"]}')"
   ]
  },
  {
   "cell_type": "markdown",
   "metadata": {},
   "source": [
    "### Dados de Teste e Treino"
   ]
  },
  {
   "cell_type": "code",
   "execution_count": 37,
   "metadata": {
    "ExecuteTime": {
     "end_time": "2019-01-28T14:12:39.466323Z",
     "start_time": "2019-01-28T14:12:38.951534Z"
    }
   },
   "outputs": [],
   "source": [
    "# Separando os dados\n",
    "import numpy as np\n",
    "from sklearn.model_selection import train_test_split\n",
    "\n",
    "X = np.array(ham_emails + spam_emails)\n",
    "y = np.array([0] * len(ham_emails) + [1] * len(spam_emails))\n",
    "\n",
    "X_train, X_test, y_train, y_test = train_test_split(X, y, \n",
    "                                                    test_size=0.2, random_state=42)"
   ]
  },
  {
   "cell_type": "markdown",
   "metadata": {},
   "source": [
    "Com as funcionalidades do array do NumPy, foi possível realizar esta preparação facilmente. Observação especial no vetor target y: e-mails com flag 0 são considerados não-spam, enquanto e-mails com flag 1 são considerados spam."
   ]
  },
  {
   "cell_type": "code",
   "execution_count": 38,
   "metadata": {
    "ExecuteTime": {
     "end_time": "2019-01-28T14:12:39.476297Z",
     "start_time": "2019-01-28T14:12:39.469314Z"
    }
   },
   "outputs": [
    {
     "name": "stdout",
     "output_type": "stream",
     "text": [
      "Totalidade de e-mails: (3000,)\n",
      "Vetor target: (3000,)\n",
      "\n",
      "Dados de treino: (2400,)\n",
      "Dados de teste: (600,)\n"
     ]
    }
   ],
   "source": [
    "# Verificando\n",
    "print(f'Totalidade de e-mails: {X.shape}')\n",
    "print(f'Vetor target: {y.shape}')\n",
    "print(f'\\nDados de treino: {X_train.shape}')\n",
    "print(f'Dados de teste: {X_test.shape}')"
   ]
  },
  {
   "cell_type": "code",
   "execution_count": 39,
   "metadata": {
    "ExecuteTime": {
     "end_time": "2019-01-28T14:12:39.806097Z",
     "start_time": "2019-01-28T14:12:39.478293Z"
    }
   },
   "outputs": [
    {
     "data": {
      "text/plain": [
       "<email.message.EmailMessage at 0x212cfa6c438>"
      ]
     },
     "execution_count": 39,
     "metadata": {},
     "output_type": "execute_result"
    }
   ],
   "source": [
    "# Verificando um e-mail aleatório\n",
    "X_train[100]"
   ]
  },
  {
   "cell_type": "code",
   "execution_count": 40,
   "metadata": {
    "ExecuteTime": {
     "end_time": "2019-01-28T14:12:39.929767Z",
     "start_time": "2019-01-28T14:12:39.808088Z"
    }
   },
   "outputs": [
    {
     "data": {
      "text/plain": [
       "\"On Wed, 4 Sep 2002, Mr. FoRK wrote:\\n--]It'd be an MP3 player with solid state storage... instant on.\\n\\n\\nGetting new media on is a bit out of the reach of the kindala. With a CD\\nsolution you hand em a disc and in it goes.\\n\\nTradeoffs abound.\\n\\nHeather got a CD player when she was 5. Even though it was a crappy\\nhandmedown it worked great other than the batterys poping out..bad bad ui\\nthere. Her next one was a store bought.  Its an all Audio player, no mp3\\ndecoders for her yet. I wanted to do the bottom line Volt but momala put\\nthe kabash on anything costing over 30 bucks. heck I had to scrounge ebay\\nto get her a palm m100 for about 25 bucks.\\n\\nThe only hitch is new music. Upshot is we spend time going over usenet\\nlisting togther:)-\\n\\nIts a happy family.\\n\\nNow for Benjamin, yea id love to have something like the amazingly cool\\nFisher Price My First (cd, casset, vasectomy, dirtybomb) products. Perhaps\\nthe My First Cd might work...time to let ebay do the walking.\\n\\n\\n\\n\\n\""
      ]
     },
     "execution_count": 40,
     "metadata": {},
     "output_type": "execute_result"
    }
   ],
   "source": [
    "# Conteúdo\n",
    "X_train[100].get_content()"
   ]
  },
  {
   "cell_type": "markdown",
   "metadata": {},
   "source": [
    "Me parece um e-mail não malicioso. Vejamos mais informações a respeito."
   ]
  },
  {
   "cell_type": "code",
   "execution_count": 41,
   "metadata": {
    "ExecuteTime": {
     "end_time": "2019-01-28T14:12:40.094323Z",
     "start_time": "2019-01-28T14:12:39.931758Z"
    }
   },
   "outputs": [
    {
     "data": {
      "text/plain": [
       "'text/plain'"
      ]
     },
     "execution_count": 41,
     "metadata": {},
     "output_type": "execute_result"
    }
   ],
   "source": [
    "# Tipo do e-mail\n",
    "get_email_structure(X_train[100])"
   ]
  },
  {
   "cell_type": "code",
   "execution_count": 42,
   "metadata": {
    "ExecuteTime": {
     "end_time": "2019-01-28T14:12:40.243446Z",
     "start_time": "2019-01-28T14:12:40.096317Z"
    }
   },
   "outputs": [
    {
     "name": "stdout",
     "output_type": "stream",
     "text": [
      "Return-Path : <fork-admin@xent.com>\n",
      "Delivered-To : yyyy@localhost.spamassassin.taint.org\n",
      "Received : from localhost (jalapeno [127.0.0.1])\tby jmason.org (Postfix) with ESMTP id 3BC4F16F82\tfor <jm@localhost>; Thu,  5 Sep 2002 11:28:41 +0100 (IST)\n",
      "Received : from jalapeno [127.0.0.1]\tby localhost with IMAP (fetchmail-5.9.0)\tfor jm@localhost (single-drop); Thu, 05 Sep 2002 11:28:41 +0100 (IST)\n",
      "Received : from xent.com ([64.161.22.236]) by dogma.slashnull.org    (8.11.6/8.11.6) with ESMTP id g854d1Z04493 for <jm@jmason.org>;    Thu, 5 Sep 2002 05:39:01 +0100\n",
      "Received : from lair.xent.com (localhost [127.0.0.1]) by xent.com (Postfix)    with ESMTP id 1EC3E294241; Wed,  4 Sep 2002 21:36:03 -0700 (PDT)\n",
      "Delivered-To : fork@spamassassin.taint.org\n",
      "Received : from crank.slack.net (slack.net [166.84.151.181]) by xent.com    (Postfix) with ESMTP id 8130C2940AA for <FoRK@xent.com>; Wed,    4 Sep 2002 21:35:46 -0700 (PDT)\n",
      "Received : by crank.slack.net (Postfix, from userid 596) id A49DC3EDF7;    Thu,  5 Sep 2002 00:41:24 -0400 (EDT)\n",
      "Received : from localhost (localhost [127.0.0.1]) by crank.slack.net    (Postfix) with ESMTP id A33413EDAD; Thu,  5 Sep 2002 00:41:24 -0400 (EDT)\n",
      "From : Tom <tomwhore@slack.net>\n",
      "To : \"Mr. FoRK\" <fork_list@hotmail.com>\n",
      "Cc : FoRK <FoRK@xent.com>\n",
      "Subject : Re: CD player UI for toddlers\n",
      "In-Reply-To : <DAV16XoivCNoMKrwDVT0000bc1e@hotmail.com>\n",
      "Message-Id : <Pine.BSO.4.44.0209050036160.9755-100000@crank.slack.net>\n",
      "MIME-Version : 1.0\n",
      "Content-Type : TEXT/PLAIN; charset=\"US-ASCII\"\n",
      "Sender : fork-admin@xent.com\n",
      "Errors-To : fork-admin@xent.com\n",
      "X-Beenthere : fork@spamassassin.taint.org\n",
      "X-Mailman-Version : 2.0.11\n",
      "Precedence : bulk\n",
      "List-Help : <mailto:fork-request@xent.com?subject=help>\n",
      "List-Post : <mailto:fork@spamassassin.taint.org>\n",
      "List-Subscribe : <http://xent.com/mailman/listinfo/fork>, <mailto:fork-request@xent.com?subject=subscribe>\n",
      "List-Id : Friends of Rohit Khare <fork.xent.com>\n",
      "List-Unsubscribe : <http://xent.com/mailman/listinfo/fork>,    <mailto:fork-request@xent.com?subject=unsubscribe>\n",
      "List-Archive : <http://xent.com/pipermail/fork/>\n",
      "Date : Thu, 05 Sep 2002 00:41:24 -0400\n"
     ]
    }
   ],
   "source": [
    "# Informações do cabeçalho\n",
    "for header, value in X_train[100].items():\n",
    "    print(header, ':', value)"
   ]
  },
  {
   "cell_type": "markdown",
   "metadata": {},
   "source": [
    "Tudo indica que não se trata de um spam. Vejamos o respectivo label."
   ]
  },
  {
   "cell_type": "code",
   "execution_count": 43,
   "metadata": {
    "ExecuteTime": {
     "end_time": "2019-01-28T14:12:40.384575Z",
     "start_time": "2019-01-28T14:12:40.244440Z"
    }
   },
   "outputs": [
    {
     "data": {
      "text/plain": [
       "0"
      ]
     },
     "execution_count": 43,
     "metadata": {},
     "output_type": "execute_result"
    }
   ],
   "source": [
    "# Label\n",
    "y_train[100]"
   ]
  },
  {
   "cell_type": "markdown",
   "metadata": {},
   "source": [
    "Façamos o mesmo procedimento de exemplo para um e-mail caracterizado como spam."
   ]
  },
  {
   "cell_type": "code",
   "execution_count": 44,
   "metadata": {
    "ExecuteTime": {
     "end_time": "2019-01-28T14:12:40.517240Z",
     "start_time": "2019-01-28T14:12:40.386570Z"
    }
   },
   "outputs": [
    {
     "data": {
      "text/plain": [
       "'<事業者>\\n氏名:Vip-mail\\n突然のメール失礼いたします。\\n今後この広告がご不要な方はその旨を\\nstop-vip@e-project-web.com\\nまでお送り下さい。\\n\\n☆★☆★☆★☆★☆★☆★☆★☆★☆★☆★☆★☆★☆\\n♪リッチな出会いはVip-mailで♪\\nVip-mailがハイクラスな出会いをプレゼント☆\\n携帯3キャリアとPC対応の出会いサイト♪\\n今までの出会いサイトに飽きた人!\\n出会いは欲しいけどサイトを使うのはと迷ってる人!\\n今直ぐVip-mailにGo!!!!!\\nhttp://www.vip-jp.net/?sid=2\\n女性無料は当たり前!?\\n男性にはお試しポイント50ptプレゼント☆\\n女性はリッチな男性をGETしようo(≧∇≦)o\\n男性はお試しポイント気に入った娘を見つけよう(∇＜)b\\n出会いを求めるならVip-mailに今直ぐアクセス\\n↓↓↓↓↓↓↓↓↓↓↓↓↓↓\\nhttp://www.vip-jp.net/?sid=2\\n☆★☆★☆★☆★☆★☆★☆★☆★☆★☆★☆★☆★☆\\n\\n突然のメール失礼いたしました。\\n今後この広告がご不要な方、配信停止を希望される方はその旨を\\nstop-vip@e-project-web.com\\nまでお送り下さい\\n'"
      ]
     },
     "execution_count": 44,
     "metadata": {},
     "output_type": "execute_result"
    }
   ],
   "source": [
    "# Verificando e-mail spam\n",
    "spam_index = y_train.argmax()\n",
    "X_train[spam_index].get_content()"
   ]
  },
  {
   "cell_type": "code",
   "execution_count": 45,
   "metadata": {
    "ExecuteTime": {
     "end_time": "2019-01-28T14:12:40.643901Z",
     "start_time": "2019-01-28T14:12:40.520233Z"
    }
   },
   "outputs": [
    {
     "data": {
      "text/plain": [
       "'text/plain'"
      ]
     },
     "execution_count": 45,
     "metadata": {},
     "output_type": "execute_result"
    }
   ],
   "source": [
    "# Que tipo de e-mail é esse?\n",
    "get_email_structure(X_train[spam_index])"
   ]
  },
  {
   "cell_type": "code",
   "execution_count": 46,
   "metadata": {
    "ExecuteTime": {
     "end_time": "2019-01-28T14:12:40.739645Z",
     "start_time": "2019-01-28T14:12:40.645898Z"
    }
   },
   "outputs": [
    {
     "name": "stdout",
     "output_type": "stream",
     "text": [
      "spam\n"
     ]
    }
   ],
   "source": [
    "# Qual seu label?\n",
    "print('spam' if y_train[spam_index] == 1 else 'não-spam')"
   ]
  },
  {
   "cell_type": "markdown",
   "metadata": {},
   "source": [
    "## Preparando os Dados"
   ]
  },
  {
   "cell_type": "markdown",
   "metadata": {},
   "source": [
    "Nesta importante etapa do processo, será necessário escrever uma função que converta o HTML para texto normal. O melhor método para realizar este procedimento é através da incrível biblioteca ```BeautifulSoup``` [Link](https://www.crummy.com/software/BeautifulSoup/). Entretanto, visando não adicionar mais uma dependência no projeto, o autor preferiu escrever as funções na raça, utilizando *regular expressions* (RegEx).\n",
    "\n",
    "A função a seguir dropa a sessão ```<head>``` e então converte a tag ```<a>``` para a palavra HYPERLINK, se librando de todas as tags HTML e deixando apenas o texto. Para um melhor entendimento, a função também substitui múltiplas quebras de linha para apenas quebras de linhas singulares. "
   ]
  },
  {
   "cell_type": "code",
   "execution_count": 47,
   "metadata": {
    "ExecuteTime": {
     "end_time": "2019-01-28T14:12:40.924153Z",
     "start_time": "2019-01-28T14:12:40.741640Z"
    }
   },
   "outputs": [],
   "source": [
    "# Definindo função\n",
    "import re\n",
    "from html import unescape\n",
    "\n",
    "def html_to_plain_text(html):\n",
    "    text = re.sub('<head.*?>.*?</head>', '', html, flags=re.M | re.S | re.I)\n",
    "    text = re.sub('<a\\s.*?>', ' HYPERLINK ', text, flags=re.M | re.S | re.I)\n",
    "    text = re.sub('<.*?>', '', text, flags=re.M | re.S)\n",
    "    text = re.sub(r'(\\s*\\n)+', '\\n', text, flags=re.M | re.S)\n",
    "    return unescape(text)"
   ]
  },
  {
   "cell_type": "markdown",
   "metadata": {},
   "source": [
    "Antes de mais nada, vamos dar uma olhada nas documentações das novas bibliotecas utilizadas:\n",
    "\n",
    "* Regular Expressions: [HOWTO](https://docs.python.org/3/howto/regex.html#regex-howto)\n",
    "* re: [biblioteca](https://docs.python.org/3/library/re.html)"
   ]
  },
  {
   "cell_type": "markdown",
   "metadata": {},
   "source": [
    "### RegEx"
   ]
  },
  {
   "cell_type": "markdown",
   "metadata": {},
   "source": [
    "Esta seção 2.1 será criada para auxiliar no aprendizado de expressões regulares, ou ```RegEx```."
   ]
  },
  {
   "cell_type": "code",
   "execution_count": 48,
   "metadata": {
    "ExecuteTime": {
     "end_time": "2019-01-28T14:12:41.058792Z",
     "start_time": "2019-01-28T14:12:40.926146Z"
    }
   },
   "outputs": [
    {
     "data": {
      "text/plain": [
       "\"Martin A posted:\\nTassos Papadopoulos, the Greek sculptor behind the plan, judged that the\\n limestone of Mount Kerdylio, 70 miles east of Salonika and not far from the\\n Mount Athos monastic community, was ideal for the patriotic sculpture. \\n \\n As well as Alexander's granite features, 240 ft high and 170 ft wide, a\\n museum, a restored amphitheatre and car park for admiring crowds are\\nplanned\\n---------------------\\nSo is this mountain limestone or granite?\\nIf it's limestone, it'll weather pretty fast.\\n\\n------------------------ Yahoo! Groups Sponsor ---------------------~-->\\n4 DVDs Free +s&p Join Now\\nhttp://us.click.yahoo.com/pt6YBB/NXiEAA/mG3HAA/7gSolB/TM\\n---------------------------------------------------------------------~->\\n\\nTo unsubscribe from this group, send an email to:\\nforteana-unsubscribe@egroups.com\\n\\n \\n\\nYour use of Yahoo! Groups is subject to http://docs.yahoo.com/info/terms/ \\n\\n\\n\\n\""
      ]
     },
     "execution_count": 48,
     "metadata": {},
     "output_type": "execute_result"
    }
   ],
   "source": [
    "# Pegando um e-mail de teste\n",
    "ham_emails[1].get_content()"
   ]
  },
  {
   "cell_type": "code",
   "execution_count": 16,
   "metadata": {
    "ExecuteTime": {
     "end_time": "2019-08-19T08:16:01.013725Z",
     "start_time": "2019-08-19T08:16:01.006439Z"
    }
   },
   "outputs": [
    {
     "data": {
      "text/plain": [
       "str"
      ]
     },
     "execution_count": 16,
     "metadata": {},
     "output_type": "execute_result"
    }
   ],
   "source": [
    "# Verificando seu tipo primitivo\n",
    "type(ham_emails[1].get_content())"
   ]
  },
  {
   "cell_type": "code",
   "execution_count": 17,
   "metadata": {
    "ExecuteTime": {
     "end_time": "2019-08-19T08:16:01.811821Z",
     "start_time": "2019-08-19T08:16:01.805493Z"
    }
   },
   "outputs": [
    {
     "name": "stdout",
     "output_type": "stream",
     "text": [
      "None\n"
     ]
    }
   ],
   "source": [
    "# Testando RegEx\n",
    "import re\n",
    "\n",
    "email = ham_emails[1].get_content()\n",
    "p = re.compile(r'[\\\\n]')\n",
    "m = p.match(email)\n",
    "print(m)"
   ]
  },
  {
   "cell_type": "markdown",
   "metadata": {},
   "source": [
    "O resultado foi ```None``` pois o método ```match(str)``` verifica se o padrão do RegEx encontra-se no início da string, o que não é o caso. Vejamos então o método ```search(str)```. "
   ]
  },
  {
   "cell_type": "code",
   "execution_count": 18,
   "metadata": {
    "ExecuteTime": {
     "end_time": "2019-08-19T08:16:02.928613Z",
     "start_time": "2019-08-19T08:16:02.923722Z"
    }
   },
   "outputs": [
    {
     "name": "stdout",
     "output_type": "stream",
     "text": [
      "<re.Match object; span=(5, 6), match='n'>\n"
     ]
    }
   ],
   "source": [
    "# Testando search\n",
    "s = p.search(email)\n",
    "print(s)"
   ]
  },
  {
   "cell_type": "markdown",
   "metadata": {},
   "source": [
    "Opa! Aparecentemente funcionou! O método ```search()``` nos retornou a posição primeira aparição do padrão ```\\n```: span=(5, 6). Vejamos."
   ]
  },
  {
   "cell_type": "code",
   "execution_count": 52,
   "metadata": {
    "ExecuteTime": {
     "end_time": "2019-01-28T14:12:41.893465Z",
     "start_time": "2019-01-28T14:12:41.798625Z"
    }
   },
   "outputs": [
    {
     "data": {
      "text/plain": [
       "'in'"
      ]
     },
     "execution_count": 52,
     "metadata": {},
     "output_type": "execute_result"
    }
   ],
   "source": [
    "# Verificando\n",
    "email[4:6]"
   ]
  },
  {
   "cell_type": "markdown",
   "metadata": {},
   "source": [
    "O retorno não foi como o esperado, pois o padrão ```\\n``` solicitado no ```compile()``` foi entendido apenas como sendo a letra ```n``` e não o bloco ```\\n```. A posição retornada pelo método ```search()``` refere-se a letra ```n``` da palavra ```Martin``` (posição 5)."
   ]
  },
  {
   "cell_type": "code",
   "execution_count": 53,
   "metadata": {
    "ExecuteTime": {
     "end_time": "2019-01-28T14:12:42.001177Z",
     "start_time": "2019-01-28T14:12:41.895460Z"
    }
   },
   "outputs": [
    {
     "name": "stdout",
     "output_type": "stream",
     "text": [
      "<_sre.SRE_Match object; span=(16, 17), match='\\n'>\n"
     ]
    }
   ],
   "source": [
    "# Refazendo o RegEx\n",
    "p = re.compile(r'\\n')\n",
    "s = p.search(email)\n",
    "print(s)"
   ]
  },
  {
   "cell_type": "code",
   "execution_count": 54,
   "metadata": {
    "ExecuteTime": {
     "end_time": "2019-01-28T14:12:42.111881Z",
     "start_time": "2019-01-28T14:12:42.003172Z"
    }
   },
   "outputs": [
    {
     "data": {
      "text/plain": [
       "'\\n'"
      ]
     },
     "execution_count": 54,
     "metadata": {},
     "output_type": "execute_result"
    }
   ],
   "source": [
    "# Verificando na string original\n",
    "email[16:17]"
   ]
  },
  {
   "cell_type": "markdown",
   "metadata": {},
   "source": [
    "Excelente! Conseguimos retornar a primeira aparição do padrão ```\\n```. Vamos tentar agora retornar todas as posições."
   ]
  },
  {
   "cell_type": "code",
   "execution_count": 55,
   "metadata": {
    "ExecuteTime": {
     "end_time": "2019-01-28T14:12:42.219602Z",
     "start_time": "2019-01-28T14:12:42.113879Z"
    }
   },
   "outputs": [
    {
     "name": "stdout",
     "output_type": "stream",
     "text": [
      "(16, 17)\n",
      "(89, 90)\n",
      "(166, 167)\n",
      "(239, 240)\n",
      "(241, 242)\n",
      "(314, 315)\n",
      "(384, 385)\n",
      "(392, 393)\n",
      "(414, 415)\n",
      "(456, 457)\n",
      "(502, 503)\n",
      "(503, 504)\n",
      "(576, 577)\n",
      "(602, 603)\n",
      "(659, 660)\n",
      "(732, 733)\n",
      "(733, 734)\n",
      "(783, 784)\n",
      "(816, 817)\n",
      "(817, 818)\n",
      "(819, 820)\n",
      "(820, 821)\n",
      "(895, 896)\n",
      "(896, 897)\n",
      "(897, 898)\n",
      "(898, 899)\n"
     ]
    }
   ],
   "source": [
    "# Retornando todas as posições onde aparece \\n\n",
    "iterator = p.finditer(email)\n",
    "for match in iterator:\n",
    "    print(match.span())"
   ]
  },
  {
   "cell_type": "code",
   "execution_count": 56,
   "metadata": {
    "ExecuteTime": {
     "end_time": "2019-01-28T14:12:42.312346Z",
     "start_time": "2019-01-28T14:12:42.221588Z"
    }
   },
   "outputs": [
    {
     "name": "stdout",
     "output_type": "stream",
     "text": [
      "\n",
      "\n",
      "\n",
      "\n",
      "\n",
      "\n",
      "\n",
      "\n",
      "\n",
      "\n",
      "\n",
      "\n",
      "\n",
      "\n",
      "\n",
      "\n",
      "\n",
      "\n",
      "\n",
      "\n",
      "\n",
      "\n",
      "\n",
      "\n",
      "\n",
      "\n",
      "\n",
      "\n",
      "\n",
      "\n",
      "\n",
      "\n",
      "\n",
      "\n",
      "\n",
      "\n",
      "\n",
      "\n",
      "\n",
      "\n",
      "\n",
      "\n",
      "\n",
      "\n",
      "\n",
      "\n",
      "\n",
      "\n",
      "\n",
      "\n",
      "\n",
      "\n"
     ]
    }
   ],
   "source": [
    "# Será que deu certo mesmo?\n",
    "iterator = p.finditer(email)\n",
    "for match in iterator:\n",
    "    print(email[match.span()[0]:match.span()[1]])"
   ]
  },
  {
   "cell_type": "markdown",
   "metadata": {},
   "source": [
    "```\\n``` representa o Enter..."
   ]
  },
  {
   "cell_type": "code",
   "execution_count": 19,
   "metadata": {
    "ExecuteTime": {
     "end_time": "2019-08-19T08:37:10.828272Z",
     "start_time": "2019-08-19T08:37:10.823235Z"
    }
   },
   "outputs": [],
   "source": [
    "# Testando de uma outra forma\n",
    "iterator = p.finditer(email)\n",
    "positions = []\n",
    "for match in iterator:\n",
    "    positions.append(match.span())"
   ]
  },
  {
   "cell_type": "code",
   "execution_count": 58,
   "metadata": {
    "ExecuteTime": {
     "end_time": "2019-01-28T14:12:42.528765Z",
     "start_time": "2019-01-28T14:12:42.396120Z"
    }
   },
   "outputs": [
    {
     "data": {
      "text/plain": [
       "'\\n'"
      ]
     },
     "execution_count": 58,
     "metadata": {},
     "output_type": "execute_result"
    }
   ],
   "source": [
    "email[positions[0][0]]"
   ]
  },
  {
   "cell_type": "markdown",
   "metadata": {},
   "source": [
    "Vamos olhar agora o cabeçalho do e-mail em busca de alguns padrões"
   ]
  },
  {
   "cell_type": "code",
   "execution_count": 59,
   "metadata": {
    "ExecuteTime": {
     "end_time": "2019-01-28T14:12:42.643459Z",
     "start_time": "2019-01-28T14:12:42.529765Z"
    }
   },
   "outputs": [
    {
     "name": "stdout",
     "output_type": "stream",
     "text": [
      "Return-Path<Steve_Burt@cursor-system.com>\\nDelivered-Tozzzz@localhost.netnoteinc.com\\nReceivedfrom localhost (localhost [127.0.0.1])\tby phobos.labs.netnoteinc.com (Postfix) with ESMTP id BE12E43C34\tfor <zzzz@localhost>; Thu, 22 Aug 2002 07:46:38 -0400 (EDT)\\nReceivedfrom phobos [127.0.0.1]\tby localhost with IMAP (fetchmail-5.9.0)\tfor zzzz@localhost (single-drop); Thu, 22 Aug 2002 12:46:38 +0100 (IST)\\nReceivedfrom n20.grp.scd.yahoo.com (n20.grp.scd.yahoo.com    [66.218.66.76]) by dogma.slashnull.org (8.11.6/8.11.6) with SMTP id    g7MBkTZ05087 for <zzzz@spamassassin.taint.org>; Thu, 22 Aug 2002 12:46:29 +0100\\nX-Egroups-Returnsentto-2242572-52726-1030016790-zzzz=spamassassin.taint.org@returns.groups.yahoo.com\\nReceivedfrom [66.218.67.196] by n20.grp.scd.yahoo.com with NNFMP;    22 Aug 2002 11:46:30 -0000\\nX-Sendersteve.burt@cursor-system.com\\nX-Apparently-Tozzzzteana@yahoogroups.com\\nReceived(EGP: mail-8_1_0_1); 22 Aug 2002 11:46:29 -0000\\nReceived(qmail 11764 invoked from network); 22 Aug 2002 11:46:29 -0000\\nReceivedfrom unknown (66.218.66.217) by m3.grp.scd.yahoo.com with QMQP;    22 Aug 2002 11:46:29 -0000\\nReceivedfrom unknown (HELO mailgateway.cursor-system.com) (62.189.7.27)    by mta2.grp.scd.yahoo.com with SMTP; 22 Aug 2002 11:46:29 -0000\\nReceivedfrom exchange1.cps.local (unverified) by    mailgateway.cursor-system.com (Content Technologies SMTPRS 4.2.10) with    ESMTP id <T5cde81f695ac1d100407d@mailgateway.cursor-system.com> for    <forteana@yahoogroups.com>; Thu, 22 Aug 2002 13:14:10 +0100\\nReceivedby exchange1.cps.local with Internet Mail Service (5.5.2653.19)    id <PXX6AT23>; Thu, 22 Aug 2002 12:46:27 +0100\\nMessage-Id<5EC2AD6D2314D14FB64BDA287D25D9EF12B4F6@exchange1.cps.local>\\nTo\"'zzzzteana@yahoogroups.com'\" <zzzzteana@yahoogroups.com>\\nX-MailerInternet Mail Service (5.5.2653.19)\\nX-Egroups-FromSteve Burt <steve.burt@cursor-system.com>\\nFromSteve Burt <Steve_Burt@cursor-system.com>\\nX-Yahoo-Profilepyruse\\nMIME-Version1.0\\nMailing-Listlist zzzzteana@yahoogroups.com; contact    forteana-owner@yahoogroups.com\\nDelivered-Tomailing list zzzzteana@yahoogroups.com\\nPrecedencebulk\\nList-Unsubscribe<mailto:zzzzteana-unsubscribe@yahoogroups.com>\\nDateThu, 22 Aug 2002 12:46:18 +0100\\nSubject[zzzzteana] RE: Alexander\\nReply-Tozzzzteana@yahoogroups.com\\nContent-Typetext/plain; charset=\"US-ASCII\"\\nContent-Transfer-Encoding7bit\\n\n"
     ]
    }
   ],
   "source": [
    "# Olhando cabeçalho\n",
    "email = ham_emails[1].items()\n",
    "cabecalho = ''\n",
    "for header, value in email:\n",
    "    header_value = header + value\n",
    "    cabecalho += header_value\n",
    "    cabecalho += r'\\n'\n",
    "print(cabecalho)"
   ]
  },
  {
   "cell_type": "code",
   "execution_count": 60,
   "metadata": {
    "ExecuteTime": {
     "end_time": "2019-01-28T14:12:42.765134Z",
     "start_time": "2019-01-28T14:12:42.646451Z"
    }
   },
   "outputs": [
    {
     "name": "stdout",
     "output_type": "stream",
     "text": [
      "(22, 23)\n",
      "(59, 60)\n",
      "(207, 208)\n",
      "(340, 341)\n",
      "(559, 560)\n",
      "(693, 694)\n",
      "(835, 836)\n",
      "(879, 880)\n",
      "(1428, 1429)\n",
      "(1476, 1477)\n",
      "(1700, 1701)\n",
      "(1736, 1737)\n",
      "(1765, 1766)\n",
      "(1865, 1866)\n",
      "(1912, 1913)\n",
      "(1999, 2000)\n",
      "(2042, 2043)\n",
      "(2094, 2095)\n",
      "(2173, 2174)\n",
      "(2280, 2281)\n"
     ]
    }
   ],
   "source": [
    "for position in re.finditer('@', cabecalho):\n",
    "    print(position.span())"
   ]
  },
  {
   "cell_type": "markdown",
   "metadata": {},
   "source": [
    "Vamos tentar retornar o site descrito no corpo de e-mail!"
   ]
  },
  {
   "cell_type": "code",
   "execution_count": 61,
   "metadata": {
    "ExecuteTime": {
     "end_time": "2019-01-28T14:12:42.964601Z",
     "start_time": "2019-01-28T14:12:42.767128Z"
    }
   },
   "outputs": [
    {
     "name": "stdout",
     "output_type": "stream",
     "text": [
      "Martin A posted:\n",
      "Tassos Papadopoulos, the Greek sculptor behind the plan, judged that the\n",
      " limestone of Mount Kerdylio, 70 miles east of Salonika and not far from the\n",
      " Mount Athos monastic community, was ideal for the patriotic sculpture. \n",
      " \n",
      " As well as Alexander's granite features, 240 ft high and 170 ft wide, a\n",
      " museum, a restored amphitheatre and car park for admiring crowds are\n",
      "planned\n",
      "---------------------\n",
      "So is this mountain limestone or granite?\n",
      "If it's limestone, it'll weather pretty fast.\n",
      "\n",
      "------------------------ Yahoo! Groups Sponsor ---------------------~-->\n",
      "4 DVDs Free +s&p Join Now\n",
      "http://us.click.yahoo.com/pt6YBB/NXiEAA/mG3HAA/7gSolB/TM\n",
      "---------------------------------------------------------------------~->\n",
      "\n",
      "To unsubscribe from this group, send an email to:\n",
      "forteana-unsubscribe@egroups.com\n",
      "\n",
      " \n",
      "\n",
      "Your use of Yahoo! Groups is subject to http://docs.yahoo.com/info/terms/ \n",
      "\n",
      "\n",
      "\n",
      "\n"
     ]
    }
   ],
   "source": [
    "# Retornando parte específica do cabeçalho\n",
    "email = ham_emails[1].get_content()\n",
    "print(email)"
   ]
  },
  {
   "cell_type": "code",
   "execution_count": 62,
   "metadata": {
    "ExecuteTime": {
     "end_time": "2019-01-28T14:12:43.114208Z",
     "start_time": "2019-01-28T14:12:42.967592Z"
    }
   },
   "outputs": [
    {
     "name": "stdout",
     "output_type": "stream",
     "text": [
      "http://\n",
      "http://\n"
     ]
    }
   ],
   "source": [
    "# Retornando o site\n",
    "for f in re.finditer(r'http://', email):\n",
    "    print(f.group())"
   ]
  },
  {
   "cell_type": "markdown",
   "metadata": {},
   "source": [
    "Um jeito de resolver este desafio pôde ser encontrado em: https://stackoverflow.com/questions/6883049/regex-to-extract-urls-from-href-attribute-in-html-with-python"
   ]
  },
  {
   "cell_type": "code",
   "execution_count": 63,
   "metadata": {
    "ExecuteTime": {
     "end_time": "2019-01-28T14:12:43.258324Z",
     "start_time": "2019-01-28T14:12:43.117193Z"
    }
   },
   "outputs": [
    {
     "data": {
      "text/plain": [
       "['http://us.click.yahoo.com', 'http://docs.yahoo.com']"
      ]
     },
     "execution_count": 63,
     "metadata": {},
     "output_type": "execute_result"
    }
   ],
   "source": [
    "# Retornando urls\n",
    "urls = re.findall('https?://(?:[-\\w.]|(?:%[\\da-fA-F]{2}))+', email)\n",
    "urls"
   ]
  },
  {
   "cell_type": "markdown",
   "metadata": {},
   "source": [
    "Funcionou bem, porém o retorno foi dado apenas para os links 'mães' e não os links específicos"
   ]
  },
  {
   "cell_type": "markdown",
   "metadata": {},
   "source": [
    "Testando um outro método encontrado em: https://www.geeksforgeeks.org/python-check-url-string/"
   ]
  },
  {
   "cell_type": "code",
   "execution_count": 64,
   "metadata": {
    "ExecuteTime": {
     "end_time": "2019-01-28T14:12:43.385983Z",
     "start_time": "2019-01-28T14:12:43.260318Z"
    }
   },
   "outputs": [
    {
     "data": {
      "text/plain": [
       "['http://us.click.yahoo.com/pt6YBB/NXiEAA/mG3HAA/7gSolB/TM',\n",
       " 'http://docs.yahoo.com/info/terms/ ']"
      ]
     },
     "execution_count": 64,
     "metadata": {},
     "output_type": "execute_result"
    }
   ],
   "source": [
    "# Testando outro método\n",
    "urls = re.findall('http[s]?://(?:[a-zA-Z]|[0-9]|[$-_@.&+]|[!*\\(\\), ]|(?:%[0-9a-fA-F][0-9a-fA-F]))+', email)\n",
    "urls"
   ]
  },
  {
   "cell_type": "code",
   "execution_count": 65,
   "metadata": {
    "ExecuteTime": {
     "end_time": "2019-01-28T14:12:43.503180Z",
     "start_time": "2019-01-28T14:12:43.387977Z"
    }
   },
   "outputs": [
    {
     "name": "stdout",
     "output_type": "stream",
     "text": [
      "Hello, have you seen and discussed this article and his approach?\n",
      "\n",
      "Thank you\n",
      "\n",
      "http://www.paulgraham.com/spam.html\n",
      "-- \"Hell, there are no rules here-- we're trying to accomplish something.\"\n",
      "-- Thomas Alva Edison\n",
      "\n",
      "\n",
      "\n",
      "\n",
      "-------------------------------------------------------\n",
      "This sf.net email is sponsored by: OSDN - Tired of that same old\n",
      "cell phone?  Get a new here for FREE!\n",
      "https://www.inphonic.com/r.asp?r=sourceforge1&refcode1=vs3390\n",
      "_______________________________________________\n",
      "Spamassassin-devel mailing list\n",
      "Spamassassin-devel@lists.sourceforge.net\n",
      "https://lists.sourceforge.net/lists/listinfo/spamassassin-devel\n",
      "\n",
      "\n"
     ]
    }
   ],
   "source": [
    "# Um outro exemplo\n",
    "email = ham_emails[10].get_content()\n",
    "print(email)"
   ]
  },
  {
   "cell_type": "code",
   "execution_count": 66,
   "metadata": {
    "ExecuteTime": {
     "end_time": "2019-01-28T14:12:43.632833Z",
     "start_time": "2019-01-28T14:12:43.505175Z"
    }
   },
   "outputs": [
    {
     "data": {
      "text/plain": [
       "['http://www.paulgraham.com/spam.html',\n",
       " 'https://www.inphonic.com/r.asp?r=sourceforge1&refcode1=vs3390',\n",
       " 'https://lists.sourceforge.net/lists/listinfo/spamassassin-devel']"
      ]
     },
     "execution_count": 66,
     "metadata": {},
     "output_type": "execute_result"
    }
   ],
   "source": [
    "# Aplicando RegEx\n",
    "urls = re.findall('http[s]?://(?:[a-zA-Z]|[0-9]|[$-_@.&+]|[!*\\(\\), ]|(?:%[0-9a-fA-F][0-9a-fA-F]))+', email)\n",
    "urls"
   ]
  },
  {
   "cell_type": "markdown",
   "metadata": {},
   "source": [
    "Seria possível retornar todos os e-mails contidos em uma string?\n"
   ]
  },
  {
   "cell_type": "code",
   "execution_count": 67,
   "metadata": {
    "ExecuteTime": {
     "end_time": "2019-01-28T14:12:43.761494Z",
     "start_time": "2019-01-28T14:12:43.634828Z"
    }
   },
   "outputs": [
    {
     "data": {
      "text/plain": [
       "['Spamassassin-devel@lists.sourceforge.net']"
      ]
     },
     "execution_count": 67,
     "metadata": {},
     "output_type": "execute_result"
    }
   ],
   "source": [
    "# Aplicando RegEx para retornar e-mails\n",
    "contatos = re.findall(r'[\\w\\.-]+@[\\w\\.-]+', email)\n",
    "contatos"
   ]
  },
  {
   "cell_type": "markdown",
   "metadata": {},
   "source": [
    "### E-mails Spam HTML"
   ]
  },
  {
   "cell_type": "markdown",
   "metadata": {},
   "source": [
    "Como visto em ```1.4 Tipos de E-mails```, envios comumente classificados como spam possuem uma maior frequência de conteúdo HTML. Vejamos um exemplo."
   ]
  },
  {
   "cell_type": "code",
   "execution_count": 68,
   "metadata": {
    "ExecuteTime": {
     "end_time": "2019-01-28T14:12:44.549860Z",
     "start_time": "2019-01-28T14:12:43.774464Z"
    }
   },
   "outputs": [
    {
     "data": {
      "text/plain": [
       "[('text/plain', 2408),\n",
       " ('multipart(text/plain, application/pgp-signature)', 66),\n",
       " ('multipart(text/plain, text/html)', 8),\n",
       " ('multipart(text/plain, text/plain)', 4),\n",
       " ('multipart(text/plain)', 3),\n",
       " ('multipart(text/plain, application/octet-stream)', 2),\n",
       " ('multipart(text/plain, text/enriched)', 1),\n",
       " ('multipart(text/plain, application/ms-tnef, text/plain)', 1),\n",
       " ('multipart(multipart(text/plain, text/plain, text/plain), application/pgp-signature)',\n",
       "  1),\n",
       " ('multipart(text/plain, video/mng)', 1),\n",
       " ('multipart(text/plain, multipart(text/plain))', 1),\n",
       " ('multipart(text/plain, application/x-pkcs7-signature)', 1),\n",
       " ('multipart(text/plain, multipart(text/plain, text/plain), text/rfc822-headers)',\n",
       "  1),\n",
       " ('multipart(text/plain, multipart(text/plain, text/plain), multipart(multipart(text/plain, application/x-pkcs7-signature)))',\n",
       "  1),\n",
       " ('multipart(text/plain, application/x-java-applet)', 1)]"
      ]
     },
     "execution_count": 68,
     "metadata": {},
     "output_type": "execute_result"
    }
   ],
   "source": [
    "# Verificando novamente os tipos de e-mails não spam\n",
    "structures_counter(ham_emails).most_common()"
   ]
  },
  {
   "cell_type": "code",
   "execution_count": 69,
   "metadata": {
    "ExecuteTime": {
     "end_time": "2019-01-28T14:12:44.753315Z",
     "start_time": "2019-01-28T14:12:44.553849Z"
    }
   },
   "outputs": [
    {
     "data": {
      "text/plain": [
       "[('text/plain', 218),\n",
       " ('text/html', 183),\n",
       " ('multipart(text/plain, text/html)', 45),\n",
       " ('multipart(text/html)', 20),\n",
       " ('multipart(text/plain)', 19),\n",
       " ('multipart(multipart(text/html))', 5),\n",
       " ('multipart(text/plain, image/jpeg)', 3),\n",
       " ('multipart(text/html, application/octet-stream)', 2),\n",
       " ('multipart(text/plain, application/octet-stream)', 1),\n",
       " ('multipart(text/html, text/plain)', 1),\n",
       " ('multipart(multipart(text/html), application/octet-stream, image/jpeg)', 1),\n",
       " ('multipart(multipart(text/plain, text/html), image/gif)', 1),\n",
       " ('multipart/alternative', 1)]"
      ]
     },
     "execution_count": 69,
     "metadata": {},
     "output_type": "execute_result"
    }
   ],
   "source": [
    "# Verificando tipos de e-mails classificados como spam\n",
    "structures_counter(spam_emails).most_common()"
   ]
  },
  {
   "cell_type": "code",
   "execution_count": 70,
   "metadata": {
    "ExecuteTime": {
     "end_time": "2019-01-28T14:12:44.968762Z",
     "start_time": "2019-01-28T14:12:44.755310Z"
    }
   },
   "outputs": [
    {
     "name": "stdout",
     "output_type": "stream",
     "text": [
      "Quantidade de e-mails spam do tipo \"text/html\": 150\n",
      "\n",
      "-\n",
      "\n",
      "<!DOCTYPE HTML PUBLIC \"-//W3C//DTD HTML 4.0 Transitional//EN\">\n",
      "<HTML><HEAD><TITLE></TITLE>\n",
      "<META http-equiv=Content-Type content=\"text/html; charset=iso-8859-1\"></HEAD>\n",
      "<BODY>\n",
      "<CENTER><A href=\"http://61.145.116.189/user0203/627216/index.htm\">\n",
      "<IMG src=\"http://61.129.68.14/life-ad.gif\" border=0></A> </CENTER><BR><BR>\n",
      "<TABLE width=450 align=center><TBODY><TR>\n",
      "<TD align=middle><FONT face=Arial,Helvetica color=#000000 size=1>ÿFFFFA9\n",
      "Copyright 2002 - All rights reserved<BR><BR>If you would no longer like us\n",
      "to contact you or feel that you have<BR>received this email in error,\n",
      "please <A href=\"http://61.145.116.189/light/first.asp\">click here to\n",
      "unsubscribe</A>.</FONT></TD></TR></TBODY></TABLE></BODY></HTML>\n"
     ]
    }
   ],
   "source": [
    "# Retornando apenas e-mails classificados como spam do tipo html\n",
    "html_spam_emails = [email for email in X_train[y_train==1]\n",
    "                    if get_email_structure(email) == 'text/html']\n",
    "print(f'Quantidade de e-mails spam do tipo \"text/html\": {len(html_spam_emails)}\\n\\n-\\n')\n",
    "sample_html_spam = html_spam_emails[10]\n",
    "print(sample_html_spam.get_content().strip())"
   ]
  },
  {
   "cell_type": "markdown",
   "metadata": {},
   "source": [
    "Escrevendo novamente a função para tratamento de tags HTML"
   ]
  },
  {
   "cell_type": "code",
   "execution_count": 71,
   "metadata": {
    "ExecuteTime": {
     "end_time": "2019-01-28T14:12:44.985716Z",
     "start_time": "2019-01-28T14:12:44.970756Z"
    }
   },
   "outputs": [],
   "source": [
    "# Definindo função\n",
    "import re\n",
    "from html import unescape\n",
    "\n",
    "def html_to_plain_text(html):\n",
    "    text = re.sub('<head.*?>.*?</head>', '', html, flags=re.M | re.S | re.I)\n",
    "    text = re.sub('<a\\s.*?>', ' HYPERLINK ', text, flags=re.M | re.S | re.I)\n",
    "    text = re.sub('<.*?>', '', text, flags=re.M | re.S)\n",
    "    text = re.sub(r'(\\s*\\n)+', '\\n', text, flags=re.M | re.S)\n",
    "    return unescape(text)"
   ]
  },
  {
   "cell_type": "code",
   "execution_count": 72,
   "metadata": {
    "ExecuteTime": {
     "end_time": "2019-01-28T14:12:45.089440Z",
     "start_time": "2019-01-28T14:12:44.987711Z"
    }
   },
   "outputs": [
    {
     "name": "stdout",
     "output_type": "stream",
     "text": [
      "\n",
      " HYPERLINK\n",
      "ÿFFFFA9\n",
      "Copyright 2002 - All rights reservedIf you would no longer like us\n",
      "to contact you or feel that you havereceived this email in error,\n",
      "please  HYPERLINK click here to\n",
      "unsubscribe.\n",
      "\n"
     ]
    }
   ],
   "source": [
    "# Executando função no exemplo acima visualizado\n",
    "print(html_to_plain_text(sample_html_spam.get_content()))"
   ]
  },
  {
   "cell_type": "code",
   "execution_count": 73,
   "metadata": {
    "ExecuteTime": {
     "end_time": "2019-01-28T14:12:45.185259Z",
     "start_time": "2019-01-28T14:12:45.091433Z"
    }
   },
   "outputs": [
    {
     "data": {
      "text/plain": [
       "'<html>\\n<head>\\n<title>Toy</title>\\n</head>\\n<body bgcolor=\"#FFFFFF\" text=\"#000000\">\\n<div align=\"center\">\\n  <p>ABC\\'s Good Morning America ranks it the #1 Christmas Toy of the season! </p>\\n  <p><b>&quot;The new 3-inch mini remote control cars are out of stock everywhere! \\n    Parents are searching frantically but having no luck. There are millions of \\n    kids expecting these for the Holiday season, lets hope somebody gets them \\n    in or Santa may be in trouble!&quot; </b>Dianne Sawyer, Nov 2002</p>\\n  <p>Sold Out in all stores accross the country. Retail price is $59.99. We have \\n    limited stock and <b>Free</b> shipping for only $29.95!</p>\\n  <p><a href=\"http://206.158.98.85/affil10/4/\">Check out this Years Hottest Toy!</a></p>\\n  <p>&nbsp;</p>\\n  <p><font size=\"2\"><a href=\"http://206.158.98.85/affil10/4/1/\">unsubscribe</a> \\n    forever </font></p>\\n</div>\\n</body>\\n</html>'"
      ]
     },
     "execution_count": 73,
     "metadata": {},
     "output_type": "execute_result"
    }
   ],
   "source": [
    "# Vejamos um outro exemplo\n",
    "another_email = html_spam_emails[15]\n",
    "another_email.get_content().strip()"
   ]
  },
  {
   "cell_type": "code",
   "execution_count": 74,
   "metadata": {
    "ExecuteTime": {
     "end_time": "2019-01-28T14:12:45.302952Z",
     "start_time": "2019-01-28T14:12:45.187254Z"
    }
   },
   "outputs": [
    {
     "name": "stdout",
     "output_type": "stream",
     "text": [
      "\n",
      "  ABC's Good Morning America ranks it the #1 Christmas Toy of the season!\n",
      "  \"The new 3-inch mini remote control cars are out of stock everywhere!\n",
      "    Parents are searching frantically but having no luck. There are millions of\n",
      "    kids expecting these for the Holiday season, lets hope somebody gets them\n",
      "    in or Santa may be in trouble!\" Dianne Sawyer, Nov 2002\n",
      "  Sold Out in all stores accross the country. Retail price is $59.99. We have\n",
      "    limited stock and Free shipping for only $29.95!\n",
      "   HYPERLINK Check out this Years Hottest Toy!\n",
      "   \n",
      "   HYPERLINK unsubscribe\n",
      "    forever\n",
      "\n"
     ]
    }
   ],
   "source": [
    "# Executando função\n",
    "print(html_to_plain_text(another_email.get_content()))"
   ]
  },
  {
   "cell_type": "markdown",
   "metadata": {},
   "source": [
    "Excelente! Vamos agora criar uma função que receba um email como input e que retorne seu conteúdo no tipo *plain/text*, qualquer que seja seu formato."
   ]
  },
  {
   "cell_type": "code",
   "execution_count": 75,
   "metadata": {
    "ExecuteTime": {
     "end_time": "2019-01-28T14:12:45.457537Z",
     "start_time": "2019-01-28T14:12:45.304945Z"
    }
   },
   "outputs": [],
   "source": [
    "# Definindo função\n",
    "def email_to_text(email):\n",
    "    html = None\n",
    "    for part in email.walk():\n",
    "        ctype = part.get_content_type()\n",
    "        if not ctype in ('text/plain', 'text/html'):\n",
    "            continue\n",
    "        try:\n",
    "            content = part.get_content()\n",
    "        except: # em caso de erro no enconding\n",
    "            content = str(part.get_payload())\n",
    "        if ctype == 'text/plain':\n",
    "            return content\n",
    "        else:\n",
    "            html = content\n",
    "    if html:\n",
    "        return html_to_plain_text(html)"
   ]
  },
  {
   "cell_type": "markdown",
   "metadata": {},
   "source": [
    "Vamos entender a função:\n",
    "1 - É dado um e-mail como input e, logo na segunda linha de código, é utilizada a função ```walk()```."
   ]
  },
  {
   "cell_type": "code",
   "execution_count": 76,
   "metadata": {
    "ExecuteTime": {
     "end_time": "2019-01-28T14:12:45.637565Z",
     "start_time": "2019-01-28T14:12:45.459533Z"
    }
   },
   "outputs": [
    {
     "name": "stdout",
     "output_type": "stream",
     "text": [
      "On Wed, 4 Sep 2002, Mr. FoRK wrote:\n",
      "--]It'd be an MP3 player with solid state storage... instant on.\n",
      "\n",
      "\n",
      "Getting new media on is a bit out of the reach of the kindala. With a CD\n",
      "solution you hand em a disc and in it goes.\n",
      "\n",
      "Tradeoffs abound.\n",
      "\n",
      "Heather got a CD player when she was 5. Even though it was a crappy\n",
      "handmedown it worked great other than the batterys poping out..bad bad ui\n",
      "there. Her next one was a store bought.  Its an all Audio player, no mp3\n",
      "decoders for her yet. I wanted to do the bottom line Volt but momala put\n",
      "the kabash on anything costing over 30 bucks. heck I had to scrounge ebay\n",
      "to get her a palm m100 for about 25 bucks.\n",
      "\n",
      "The only hitch is new music. Upshot is we spend time going over usenet\n",
      "listing togther:)-\n",
      "\n",
      "Its a happy family.\n",
      "\n",
      "Now for Benjamin, yea id love to have something like the amazingly cool\n",
      "Fisher Price My First (cd, casset, vasectomy, dirtybomb) products. Perhaps\n",
      "the My First Cd might work...time to let ebay do the walking.\n"
     ]
    }
   ],
   "source": [
    "# Verificnado\n",
    "email_exemplo = X_train[100]\n",
    "print(email_exemplo.get_content().strip())"
   ]
  },
  {
   "cell_type": "code",
   "execution_count": 77,
   "metadata": {
    "ExecuteTime": {
     "end_time": "2019-01-28T14:12:45.756248Z",
     "start_time": "2019-01-28T14:12:45.639560Z"
    }
   },
   "outputs": [
    {
     "data": {
      "text/plain": [
       "<generator object walk at 0x00000212D2CA1938>"
      ]
     },
     "execution_count": 77,
     "metadata": {},
     "output_type": "execute_result"
    }
   ],
   "source": [
    "# Método walk\n",
    "email_exemplo.walk()"
   ]
  },
  {
   "cell_type": "code",
   "execution_count": 78,
   "metadata": {
    "ExecuteTime": {
     "end_time": "2019-01-28T14:12:45.922802Z",
     "start_time": "2019-01-28T14:12:45.758243Z"
    }
   },
   "outputs": [
    {
     "name": "stdout",
     "output_type": "stream",
     "text": [
      "Return-Path: <fork-admin@xent.com>\n",
      "Delivered-To: yyyy@localhost.spamassassin.taint.org\n",
      "Received: from localhost (jalapeno [127.0.0.1])\n",
      "\tby jmason.org (Postfix) with ESMTP id 3BC4F16F82\n",
      "\tfor <jm@localhost>; Thu,  5 Sep 2002 11:28:41 +0100 (IST)\n",
      "Received: from jalapeno [127.0.0.1]\n",
      "\tby localhost with IMAP (fetchmail-5.9.0)\n",
      "\tfor jm@localhost (single-drop); Thu, 05 Sep 2002 11:28:41 +0100 (IST)\n",
      "Received: from xent.com ([64.161.22.236]) by dogma.slashnull.org\n",
      "    (8.11.6/8.11.6) with ESMTP id g854d1Z04493 for <jm@jmason.org>;\n",
      "    Thu, 5 Sep 2002 05:39:01 +0100\n",
      "Received: from lair.xent.com (localhost [127.0.0.1]) by xent.com (Postfix)\n",
      "    with ESMTP id 1EC3E294241; Wed,  4 Sep 2002 21:36:03 -0700 (PDT)\n",
      "Delivered-To: fork@spamassassin.taint.org\n",
      "Received: from crank.slack.net (slack.net [166.84.151.181]) by xent.com\n",
      "    (Postfix) with ESMTP id 8130C2940AA for <FoRK@xent.com>; Wed,\n",
      "    4 Sep 2002 21:35:46 -0700 (PDT)\n",
      "Received: by crank.slack.net (Postfix, from userid 596) id A49DC3EDF7;\n",
      "    Thu,  5 Sep 2002 00:41:24 -0400 (EDT)\n",
      "Received: from localhost (localhost [127.0.0.1]) by crank.slack.net\n",
      "    (Postfix) with ESMTP id A33413EDAD; Thu,  5 Sep 2002 00:41:24 -0400 (EDT)\n",
      "From: Tom <tomwhore@slack.net>\n",
      "To: \"Mr. FoRK\" <fork_list@hotmail.com>\n",
      "Cc: FoRK <FoRK@xent.com>\n",
      "Subject: Re: CD player UI for toddlers\n",
      "In-Reply-To: <DAV16XoivCNoMKrwDVT0000bc1e@hotmail.com>\n",
      "Message-Id: <Pine.BSO.4.44.0209050036160.9755-100000@crank.slack.net>\n",
      "MIME-Version: 1.0\n",
      "Content-Type: TEXT/PLAIN; charset=US-ASCII\n",
      "Sender: fork-admin@xent.com\n",
      "Errors-To: fork-admin@xent.com\n",
      "X-Beenthere: fork@spamassassin.taint.org\n",
      "X-Mailman-Version: 2.0.11\n",
      "Precedence: bulk\n",
      "List-Help: <mailto:fork-request@xent.com?subject=help>\n",
      "List-Post: <mailto:fork@spamassassin.taint.org>\n",
      "List-Subscribe: <http://xent.com/mailman/listinfo/fork>,\n",
      " <mailto:fork-request@xent.com?subject=subscribe>\n",
      "List-Id: Friends of Rohit Khare <fork.xent.com>\n",
      "List-Unsubscribe: <http://xent.com/mailman/listinfo/fork>,\n",
      "    <mailto:fork-request@xent.com?subject=unsubscribe>\n",
      "List-Archive: <http://xent.com/pipermail/fork/>\n",
      "Date: Thu, 5 Sep 2002 00:41:24 -0400 (EDT)\n",
      "\n",
      "On Wed, 4 Sep 2002, Mr. FoRK wrote:\n",
      "--]It'd be an MP3 player with solid state storage... instant on.\n",
      "\n",
      "\n",
      "Getting new media on is a bit out of the reach of the kindala. With a CD\n",
      "solution you hand em a disc and in it goes.\n",
      "\n",
      "Tradeoffs abound.\n",
      "\n",
      "Heather got a CD player when she was 5. Even though it was a crappy\n",
      "handmedown it worked great other than the batterys poping out..bad bad ui\n",
      "there. Her next one was a store bought.  Its an all Audio player, no mp3\n",
      "decoders for her yet. I wanted to do the bottom line Volt but momala put\n",
      "the kabash on anything costing over 30 bucks. heck I had to scrounge ebay\n",
      "to get her a palm m100 for about 25 bucks.\n",
      "\n",
      "The only hitch is new music. Upshot is we spend time going over usenet\n",
      "listing togther:)-\n",
      "\n",
      "Its a happy family.\n",
      "\n",
      "Now for Benjamin, yea id love to have something like the amazingly cool\n",
      "Fisher Price My First (cd, casset, vasectomy, dirtybomb) products. Perhaps\n",
      "the My First Cd might work...time to let ebay do the walking.\n",
      "\n",
      "\n",
      "\n",
      "\n",
      "\n"
     ]
    }
   ],
   "source": [
    "# Iterando\n",
    "for part in email_exemplo.walk():\n",
    "    print(part)"
   ]
  },
  {
   "cell_type": "markdown",
   "metadata": {},
   "source": [
    "Parece que o método ```walk()``` realmente percorre o e-mail. Porém, mais um método é utilizado e armazenado na variável ctype: ```get_content_type()```."
   ]
  },
  {
   "cell_type": "code",
   "execution_count": 79,
   "metadata": {
    "ExecuteTime": {
     "end_time": "2019-01-28T14:12:46.174131Z",
     "start_time": "2019-01-28T14:12:45.924797Z"
    }
   },
   "outputs": [
    {
     "name": "stdout",
     "output_type": "stream",
     "text": [
      "text/plain\n"
     ]
    }
   ],
   "source": [
    "# Testando\n",
    "for part in email_exemplo.walk():\n",
    "    print(part.get_content_type())"
   ]
  },
  {
   "cell_type": "markdown",
   "metadata": {},
   "source": [
    "Após isso, uma nova verificação pe realizada:"
   ]
  },
  {
   "cell_type": "code",
   "execution_count": 80,
   "metadata": {
    "ExecuteTime": {
     "end_time": "2019-01-28T14:12:46.302787Z",
     "start_time": "2019-01-28T14:12:46.176131Z"
    }
   },
   "outputs": [],
   "source": [
    "# Testando\n",
    "for part in email_exemplo.walk():\n",
    "    ctype = part.get_content_type()\n",
    "    if not ctype in ('text/plain', 'text/html'):\n",
    "        print('if true')"
   ]
  },
  {
   "cell_type": "code",
   "execution_count": 81,
   "metadata": {
    "ExecuteTime": {
     "end_time": "2019-01-28T14:12:46.411531Z",
     "start_time": "2019-01-28T14:12:46.303783Z"
    }
   },
   "outputs": [
    {
     "name": "stdout",
     "output_type": "stream",
     "text": [
      "if true\n"
     ]
    }
   ],
   "source": [
    "# Verificando sem o \"not\" no if\n",
    "for part in email_exemplo.walk():\n",
    "    ctype = part.get_content_type()\n",
    "    if ctype in ('text/plain', 'text/html'):\n",
    "        print('if true')"
   ]
  },
  {
   "cell_type": "code",
   "execution_count": 82,
   "metadata": {
    "ExecuteTime": {
     "end_time": "2019-01-28T14:12:46.519249Z",
     "start_time": "2019-01-28T14:12:46.413525Z"
    }
   },
   "outputs": [
    {
     "name": "stdout",
     "output_type": "stream",
     "text": [
      "Isto deveria ser printado?\n"
     ]
    }
   ],
   "source": [
    "# Testando continue com um exemplo que se enquadra no if\n",
    "for part in email_exemplo.walk():\n",
    "    ctype = part.get_content_type()\n",
    "    if ctype not in ('text/plain', 'text/html'):\n",
    "        print('Talvez')\n",
    "        continue\n",
    "    print('Isto deveria ser printado?')"
   ]
  },
  {
   "cell_type": "code",
   "execution_count": 83,
   "metadata": {
    "ExecuteTime": {
     "end_time": "2019-01-28T14:12:47.434626Z",
     "start_time": "2019-01-28T14:12:46.521236Z"
    }
   },
   "outputs": [
    {
     "data": {
      "text/plain": [
       "'multipart(text/plain, text/html)'"
      ]
     },
     "execution_count": 83,
     "metadata": {},
     "output_type": "execute_result"
    }
   ],
   "source": [
    "# Testando com outros exemplos\n",
    "email_not_text = [email for email in X_train\n",
    "                 if get_email_structure(email) not in ('text/plain', 'text/html')]\n",
    "sample_not_text = email_not_text[15]\n",
    "get_email_structure(sample_not_text)"
   ]
  },
  {
   "cell_type": "code",
   "execution_count": 84,
   "metadata": {
    "ExecuteTime": {
     "end_time": "2019-01-28T14:12:48.192679Z",
     "start_time": "2019-01-28T14:12:47.437617Z"
    }
   },
   "outputs": [
    {
     "data": {
      "text/plain": [
       "'multipart(text/plain, application/pgp-signature)'"
      ]
     },
     "execution_count": 84,
     "metadata": {},
     "output_type": "execute_result"
    }
   ],
   "source": [
    "# Confirmando uma suspeita\n",
    "email_not_text = [email for email in X_train\n",
    "                 if get_email_structure(email) not in ('text/plain', 'text/html')]\n",
    "sample_not_text = email_not_text[9]\n",
    "get_email_structure(sample_not_text)"
   ]
  },
  {
   "cell_type": "markdown",
   "metadata": {},
   "source": [
    "Ah! Aparentemente, mesmo e-mails que não são puramente do tipo ```text_plain``` ou ```text_html``` possuem tipos compostos por um desses dois. Dessa forma o condicional ```if ctype not in (\"text/plain\", \"text/html\")``` irá captar qualquer um destes exemplos de tipos \"múltiplos\"."
   ]
  },
  {
   "cell_type": "code",
   "execution_count": 85,
   "metadata": {
    "ExecuteTime": {
     "end_time": "2019-01-28T14:12:48.359630Z",
     "start_time": "2019-01-28T14:12:48.195671Z"
    }
   },
   "outputs": [
    {
     "data": {
      "text/plain": [
       "[('text/plain', 218),\n",
       " ('text/html', 183),\n",
       " ('multipart(text/plain, text/html)', 45),\n",
       " ('multipart(text/html)', 20),\n",
       " ('multipart(text/plain)', 19),\n",
       " ('multipart(multipart(text/html))', 5),\n",
       " ('multipart(text/plain, image/jpeg)', 3),\n",
       " ('multipart(text/html, application/octet-stream)', 2),\n",
       " ('multipart(text/plain, application/octet-stream)', 1),\n",
       " ('multipart(text/html, text/plain)', 1),\n",
       " ('multipart(multipart(text/html), application/octet-stream, image/jpeg)', 1),\n",
       " ('multipart(multipart(text/plain, text/html), image/gif)', 1),\n",
       " ('multipart/alternative', 1)]"
      ]
     },
     "execution_count": 85,
     "metadata": {},
     "output_type": "execute_result"
    }
   ],
   "source": [
    "# Vejamos novamente todos os tipos de e-mails - spam\n",
    "structures_counter(spam_emails).most_common()"
   ]
  },
  {
   "cell_type": "code",
   "execution_count": 86,
   "metadata": {
    "ExecuteTime": {
     "end_time": "2019-01-28T14:12:49.178950Z",
     "start_time": "2019-01-28T14:12:48.361624Z"
    }
   },
   "outputs": [
    {
     "name": "stdout",
     "output_type": "stream",
     "text": [
      "Talvez\n",
      "Isto deveria ser printado?\n"
     ]
    }
   ],
   "source": [
    "# Confirmando mais uma suspeita\n",
    "email_not_text = [email for email in X_train\n",
    "                 if get_email_structure(email) == 'multipart(text/html)']\n",
    "sample_not_text = email_not_text[9]\n",
    "#get_email_structure(sample_not_text)\n",
    "for part in sample_not_text.walk():\n",
    "    ctype = part.get_content_type()\n",
    "    if ctype not in ('text/plain', 'text/html'):\n",
    "        print('Talvez')\n",
    "        continue\n",
    "    print('Isto deveria ser printado?')"
   ]
  },
  {
   "cell_type": "code",
   "execution_count": 87,
   "metadata": {
    "ExecuteTime": {
     "end_time": "2019-01-28T14:12:49.391889Z",
     "start_time": "2019-01-28T14:12:49.181942Z"
    }
   },
   "outputs": [
    {
     "ename": "KeyError",
     "evalue": "'multipart/mixed'",
     "output_type": "error",
     "traceback": [
      "\u001b[1;31m---------------------------------------------------------------------------\u001b[0m",
      "\u001b[1;31mKeyError\u001b[0m                                  Traceback (most recent call last)",
      "\u001b[1;32m<ipython-input-87-a3c224d595b2>\u001b[0m in \u001b[0;36m<module>\u001b[1;34m()\u001b[0m\n\u001b[1;32m----> 1\u001b[1;33m \u001b[0mprint\u001b[0m\u001b[1;33m(\u001b[0m\u001b[0msample_not_text\u001b[0m\u001b[1;33m.\u001b[0m\u001b[0mget_content\u001b[0m\u001b[1;33m(\u001b[0m\u001b[1;33m)\u001b[0m\u001b[1;33m)\u001b[0m\u001b[1;33m\u001b[0m\u001b[0m\n\u001b[0m",
      "\u001b[1;32m~\\Anaconda3\\lib\\email\\message.py\u001b[0m in \u001b[0;36mget_content\u001b[1;34m(self, content_manager, *args, **kw)\u001b[0m\n\u001b[0;32m   1085\u001b[0m         \u001b[1;32mif\u001b[0m \u001b[0mcontent_manager\u001b[0m \u001b[1;32mis\u001b[0m \u001b[1;32mNone\u001b[0m\u001b[1;33m:\u001b[0m\u001b[1;33m\u001b[0m\u001b[0m\n\u001b[0;32m   1086\u001b[0m             \u001b[0mcontent_manager\u001b[0m \u001b[1;33m=\u001b[0m \u001b[0mself\u001b[0m\u001b[1;33m.\u001b[0m\u001b[0mpolicy\u001b[0m\u001b[1;33m.\u001b[0m\u001b[0mcontent_manager\u001b[0m\u001b[1;33m\u001b[0m\u001b[0m\n\u001b[1;32m-> 1087\u001b[1;33m         \u001b[1;32mreturn\u001b[0m \u001b[0mcontent_manager\u001b[0m\u001b[1;33m.\u001b[0m\u001b[0mget_content\u001b[0m\u001b[1;33m(\u001b[0m\u001b[0mself\u001b[0m\u001b[1;33m,\u001b[0m \u001b[1;33m*\u001b[0m\u001b[0margs\u001b[0m\u001b[1;33m,\u001b[0m \u001b[1;33m**\u001b[0m\u001b[0mkw\u001b[0m\u001b[1;33m)\u001b[0m\u001b[1;33m\u001b[0m\u001b[0m\n\u001b[0m\u001b[0;32m   1088\u001b[0m \u001b[1;33m\u001b[0m\u001b[0m\n\u001b[0;32m   1089\u001b[0m     \u001b[1;32mdef\u001b[0m \u001b[0mset_content\u001b[0m\u001b[1;33m(\u001b[0m\u001b[0mself\u001b[0m\u001b[1;33m,\u001b[0m \u001b[1;33m*\u001b[0m\u001b[0margs\u001b[0m\u001b[1;33m,\u001b[0m \u001b[0mcontent_manager\u001b[0m\u001b[1;33m=\u001b[0m\u001b[1;32mNone\u001b[0m\u001b[1;33m,\u001b[0m \u001b[1;33m**\u001b[0m\u001b[0mkw\u001b[0m\u001b[1;33m)\u001b[0m\u001b[1;33m:\u001b[0m\u001b[1;33m\u001b[0m\u001b[0m\n",
      "\u001b[1;32m~\\Anaconda3\\lib\\email\\contentmanager.py\u001b[0m in \u001b[0;36mget_content\u001b[1;34m(self, msg, *args, **kw)\u001b[0m\n\u001b[0;32m     23\u001b[0m         \u001b[1;32mif\u001b[0m \u001b[1;34m''\u001b[0m \u001b[1;32min\u001b[0m \u001b[0mself\u001b[0m\u001b[1;33m.\u001b[0m\u001b[0mget_handlers\u001b[0m\u001b[1;33m:\u001b[0m\u001b[1;33m\u001b[0m\u001b[0m\n\u001b[0;32m     24\u001b[0m             \u001b[1;32mreturn\u001b[0m \u001b[0mself\u001b[0m\u001b[1;33m.\u001b[0m\u001b[0mget_handlers\u001b[0m\u001b[1;33m[\u001b[0m\u001b[1;34m''\u001b[0m\u001b[1;33m]\u001b[0m\u001b[1;33m(\u001b[0m\u001b[0mmsg\u001b[0m\u001b[1;33m,\u001b[0m \u001b[1;33m*\u001b[0m\u001b[0margs\u001b[0m\u001b[1;33m,\u001b[0m \u001b[1;33m**\u001b[0m\u001b[0mkw\u001b[0m\u001b[1;33m)\u001b[0m\u001b[1;33m\u001b[0m\u001b[0m\n\u001b[1;32m---> 25\u001b[1;33m         \u001b[1;32mraise\u001b[0m \u001b[0mKeyError\u001b[0m\u001b[1;33m(\u001b[0m\u001b[0mcontent_type\u001b[0m\u001b[1;33m)\u001b[0m\u001b[1;33m\u001b[0m\u001b[0m\n\u001b[0m\u001b[0;32m     26\u001b[0m \u001b[1;33m\u001b[0m\u001b[0m\n\u001b[0;32m     27\u001b[0m     \u001b[1;32mdef\u001b[0m \u001b[0madd_set_handler\u001b[0m\u001b[1;33m(\u001b[0m\u001b[0mself\u001b[0m\u001b[1;33m,\u001b[0m \u001b[0mtypekey\u001b[0m\u001b[1;33m,\u001b[0m \u001b[0mhandler\u001b[0m\u001b[1;33m)\u001b[0m\u001b[1;33m:\u001b[0m\u001b[1;33m\u001b[0m\u001b[0m\n",
      "\u001b[1;31mKeyError\u001b[0m: 'multipart/mixed'"
     ]
    }
   ],
   "source": [
    "print(sample_not_text.get_content())"
   ]
  },
  {
   "cell_type": "code",
   "execution_count": 88,
   "metadata": {
    "ExecuteTime": {
     "end_time": "2019-01-28T14:12:59.007962Z",
     "start_time": "2019-01-28T14:12:59.002966Z"
    }
   },
   "outputs": [
    {
     "data": {
      "text/plain": [
       "'[<email.message.EmailMessage object at 0x00000212D0A1FA20>]'"
      ]
     },
     "execution_count": 88,
     "metadata": {},
     "output_type": "execute_result"
    }
   ],
   "source": [
    "str(sample_not_text.get_payload())"
   ]
  },
  {
   "cell_type": "code",
   "execution_count": 89,
   "metadata": {
    "ExecuteTime": {
     "end_time": "2019-01-28T14:12:59.909566Z",
     "start_time": "2019-01-28T14:12:59.543474Z"
    }
   },
   "outputs": [
    {
     "data": {
      "text/plain": [
       "[('text/plain', 2408),\n",
       " ('multipart(text/plain, application/pgp-signature)', 66),\n",
       " ('multipart(text/plain, text/html)', 8),\n",
       " ('multipart(text/plain, text/plain)', 4),\n",
       " ('multipart(text/plain)', 3),\n",
       " ('multipart(text/plain, application/octet-stream)', 2),\n",
       " ('multipart(text/plain, text/enriched)', 1),\n",
       " ('multipart(text/plain, application/ms-tnef, text/plain)', 1),\n",
       " ('multipart(multipart(text/plain, text/plain, text/plain), application/pgp-signature)',\n",
       "  1),\n",
       " ('multipart(text/plain, video/mng)', 1),\n",
       " ('multipart(text/plain, multipart(text/plain))', 1),\n",
       " ('multipart(text/plain, application/x-pkcs7-signature)', 1),\n",
       " ('multipart(text/plain, multipart(text/plain, text/plain), text/rfc822-headers)',\n",
       "  1),\n",
       " ('multipart(text/plain, multipart(text/plain, text/plain), multipart(multipart(text/plain, application/x-pkcs7-signature)))',\n",
       "  1),\n",
       " ('multipart(text/plain, application/x-java-applet)', 1)]"
      ]
     },
     "execution_count": 89,
     "metadata": {},
     "output_type": "execute_result"
    }
   ],
   "source": [
    "# Vejamos novamente todos os tipos de e-mails - não-spam\n",
    "structures_counter(ham_emails).most_common()"
   ]
  },
  {
   "cell_type": "markdown",
   "metadata": {},
   "source": [
    "Explicação definitiva sobre a função\n",
    "\n",
    "1 - Atribui o valor ```None``` à variável html;\n",
    "\n",
    "2 - Percorre o e-mail recebido como output através de um laço ```for```;\n",
    "\n",
    "3 - Se o tipo do e-mail não contém os tipos ```text/plain``` ou ```text/html```, continua o laço;\n",
    "\n",
    "4 - Coleta o contéudo do email a partir do método ```get_payload()```;\n",
    "\n",
    "5 - Se o tipo de e-mail for exclusivamente ```text/plain```, nada mais é preciso: retorna o conteúdo;\n",
    "\n",
    "6 - Caso contrário, atribui o conteúdo do e-mail obtido em (4) à variável html;\n",
    "\n",
    "7 - Retorna a conversão do e-mail em ```text/plain``` através da função ```html_to_plain_tet(html)```"
   ]
  },
  {
   "cell_type": "code",
   "execution_count": 90,
   "metadata": {
    "ExecuteTime": {
     "end_time": "2019-01-28T14:13:00.924308Z",
     "start_time": "2019-01-28T14:13:00.910349Z"
    }
   },
   "outputs": [],
   "source": [
    "def email_to_text(email):\n",
    "    html = None\n",
    "    for part in email.walk():\n",
    "        ctype = part.get_content_type()\n",
    "        if not ctype in (\"text/plain\", \"text/html\"):\n",
    "            continue\n",
    "        try:\n",
    "            content = part.get_content()\n",
    "        except: # in case of encoding issues\n",
    "            content = str(part.get_payload())\n",
    "        if ctype == \"text/plain\":\n",
    "            return content\n",
    "        else:\n",
    "            html = content\n",
    "    if html:\n",
    "        return html_to_plain_text(html)"
   ]
  },
  {
   "cell_type": "code",
   "execution_count": 91,
   "metadata": {
    "ExecuteTime": {
     "end_time": "2019-01-28T14:13:01.272472Z",
     "start_time": "2019-01-28T14:13:01.266488Z"
    }
   },
   "outputs": [
    {
     "data": {
      "text/plain": [
       "'<!DOCTYPE HTML PUBLIC \"-//W3C//DTD HTML 4.0 Transitional//EN\">\\n<HTML><HEAD><TITLE></TITLE>\\n<META http-equiv=Content-Type content=\"text/html; charset=iso-8859-1\"></HEAD>\\n<BODY>\\n<CENTER><A href=\"http://61.145.116.189/user0203/627216/index.htm\">\\n<IMG src=\"http://61.129.68.14/life-ad.gif\" border=0></A> </CENTER><BR><BR>\\n<TABLE width=450 align=center><TBODY><TR>\\n<TD align=middle><FONT face=Arial,Helvetica color=#000000 size=1>ÿFFFFA9\\nCopyright 2002 - All rights reserved<BR><BR>If you would no longer like us\\nto contact you or feel that you have<BR>received this email in error,\\nplease <A href=\"http://61.145.116.189/light/first.asp\">click here to\\nunsubscribe</A>.</FONT></TD></TR></TBODY></TABLE></BODY></HTML>\\n\\n\\n\\n\\n'"
      ]
     },
     "execution_count": 91,
     "metadata": {},
     "output_type": "execute_result"
    }
   ],
   "source": [
    "# Executando função\n",
    "sample_html_spam.get_content()"
   ]
  },
  {
   "cell_type": "code",
   "execution_count": 92,
   "metadata": {
    "ExecuteTime": {
     "end_time": "2019-01-28T14:13:03.102477Z",
     "start_time": "2019-01-28T14:13:03.096491Z"
    }
   },
   "outputs": [
    {
     "name": "stdout",
     "output_type": "stream",
     "text": [
      "\n",
      " HYPERLINK\n",
      "ÿFFFFA9\n",
      "Copyright 2002 - All rights reservedIf you would no longer like us\n",
      "to contact yo ...\n"
     ]
    }
   ],
   "source": [
    "print(email_to_text(sample_html_spam)[:100], '...')"
   ]
  },
  {
   "cell_type": "code",
   "execution_count": 93,
   "metadata": {
    "ExecuteTime": {
     "end_time": "2019-01-28T14:13:03.306280Z",
     "start_time": "2019-01-28T14:13:03.294313Z"
    }
   },
   "outputs": [
    {
     "name": "stdout",
     "output_type": "stream",
     "text": [
      "Return-Path: ler@lerami.lerctr.org\n",
      "Delivery-Date: Fri Sep 13 22:48:06 2002\n",
      "Return-Path: <bengreen@mindupmerchants.com>\n",
      "Received: from mindupmerchants.com\n",
      " (pDepriver@24-205-211-91.rno-cres.charterpipeline.net [24.205.211.91])\tby\n",
      " lerami.lerctr.org (8.12.2/8.12.2/20020902/$Revision: 1.30 $) with ESMTP id\n",
      " g8E3loE9024995\tfor <ler@lerctr.org>; Fri, 13 Sep 2002 22:47:55 -0500 (CDT)\n",
      "Message-Id: <200209140347.g8E3loE9024995@lerami.lerctr.org>\n",
      "Received: from 192.168.0.0 by mindupmerchants.com\n",
      "\twith SMTP (MDaemon.PRO.v6.0.7.R)\n",
      "\tfor <ler@lerctr.org>; Fri, 13 Sep 2002 20:46:36 -0700\n",
      "From: \"Ben Green\" <bengreen@mindupmerchants.com>\n",
      "To: ler@lerctr.org\n",
      "Subject: One of a kind Money maker! Try it for free!\n",
      "Date: Fri, 13 Sep 2002 20:46:34 -0700\n",
      "X-M5MailerProjectID: 4fb0caa2-c329-4c20-b331-229e681acee3\n",
      "Reply-To: bengreen@mindupmerchants.com\n",
      "MIME-Version: 1.0\n",
      "Content-Type: multipart/mixed;\n",
      "\tboundary=\"----000000000000000000000\"\n",
      "X-Return-Path: bengreen@mindupmerchants.com\n",
      "X-MDaemon-Deliver-To: ler@lerctr.org\n",
      "X-Virus-Scanned: by amavisd-milter (http://amavis.org/)\n",
      "X-Status: \n",
      "X-Keywords: \n",
      "\n",
      "------000000000000000000000\n",
      "Content-Type: text/html; charset=\"iso-8859-1\"\n",
      "Content-Transfer-Encoding: quoted-printable\n",
      "\n",
      "<body lang=3DEN-US>\n",
      "\n",
      "<div class=3DSection1>\n",
      "\n",
      "\n",
      "<p class=3DMsoBodyText style=3D'text-align:justify'><b>CONSANTLY</b> being\n",
      "bombarded by so-called =93FREE=94 money-making systems that teases you with=\n",
      " limited\n",
      "information, and when it=92s all said and done, blind-sides you by demandin=\n",
      "g your\n",
      "money/credit card information upfront in some slick way,<b> after-the-fact<=\n",
      "/b>!\n",
      "Yes, I too was as skeptical about such offers and the Internet in general w=\n",
      "ith\n",
      "all its hype, as you probably are. Fortunate for me, my main business\n",
      "slowed-down (<i>I have been self-employed all my life</i>), so I looked for\n",
      "something to fit my lifestyle and some other way to assist me in paying my\n",
      "bills, without working myself to death or loosing more money; then, this\n",
      "proposal to try something new without any upfront investment (<i>great! bec=\n",
      "ause\n",
      "I had none</i>) interested me to click on the link provided. And I don=92t =\n",
      "regret\n",
      "at all that I did! I am very happy, and happy enough to recommend it to you=\n",
      " as\n",
      "a system that is true to its word. I mean absolutely no upfront money. You =\n",
      "join\n",
      "only if (<i>when</i>) you make money. You also get to track the results of =\n",
      "your\n",
      "time and efforts instantly and updated daily! I especially liked this idea =\n",
      "of\n",
      "personal control with real-time, staying informed statistics.</p>\n",
      "\n",
      "<p class=3DMsoBodyText style=3D'text-align:justify'><b>This system is quite=\n",
      " simply\n",
      "the most logical, opened, and fair of any others that I=92ve seen before. W=\n",
      "hy?\n",
      "Because from the start, you get all the specific facts you need to seriously\n",
      "consider if this is right for you.=A0 No teasing. No grand testimonies! No\n",
      "kidding! Just the facts! Unlike in other programs that give you =93no idea=\n",
      "=94 of\n",
      "their overall plan before first forking over your money/credit card; or wor=\n",
      "st\n",
      "yet, joining and finding-out too late, after wasting valuable time trying to\n",
      "figure them out, this system is straightforward and informative, providing =\n",
      "you\n",
      "with the two things you really must know: =93<u>What=92s it all about</u>?=\n",
      "=94 and =93<u>How\n",
      "does it work</u>?=94. These are the ultimate deal makers or deal breakers t=\n",
      "hat\n",
      "need to be immediately disclosed, well before discovering that maybe you do=\n",
      "n=92t\n",
      "want to do that; by then you are =93hooked=94 and now locked into a frustra=\n",
      "ting\n",
      "battle to try to get your money back! </b></p>\n",
      "\n",
      "<p class=3DMsoBodyText style=3D'text-align:justify'>I call this my =93Plati=\n",
      "num\n",
      "Choice=94 because it stands alone as a true, superior deal that is totally\n",
      "different from previously misleading, =93hook-first=94 programs that promis=\n",
      "e lofty\n",
      "mega-money jackpots, but really just want your money upfront to line their =\n",
      "own\n",
      "pockets! You=92ve seen the headlines: =93<u>Join free and Make $10,000 ever=\n",
      "y week\n",
      "for life</u>=94 yeah, right!</p>\n",
      "\n",
      "<p class=3DMsoBodyText style=3D'text-align:justify'>I did not make millions=\n",
      " yet,\n",
      "but the whole thing was launched just a few weeks ago and I am more than ha=\n",
      "ppy\n",
      "with my earnings, so far. I must tell you, I wouldn=92t be able to do anyth=\n",
      "ing\n",
      "without corporate help =96 which was unusually thorough, timely, and motiva=\n",
      "ting. </p>\n",
      "\n",
      "<p class=3DMsoBodyText style=3D'text-align:justify'>You have to see this in=\n",
      " action\n",
      "for yourself and make up your own mind; just go to my site and fill out the\n",
      "form as soon as you can. You will get your own site in a few minutes. Then =\n",
      "you\n",
      "are ready to try whether you can make some decent money with this system and\n",
      "the Internet=92s explosive potential - fully loaded with hi-tech software, =\n",
      "free\n",
      "corporate help, on-time member=92s support and even protective safeguards! =\n",
      "</p>\n",
      "\n",
      "<p class=3DMsoBodyText style=3D'text-align:justify'>Get it now, and you can=\n",
      " call me\n",
      "at any time with questions. It really could help you like it is helping me =\n",
      "to\n",
      "finally be able to pay my bills, and keep my free time free.=A0 Good luck!<=\n",
      "/p>\n",
      "\n",
      "<p class=3DMsoBodyText style=3D'text-align:justify'><a\n",
      "href=3D\"http://www.mindupmerchants.com/default.asp?ID=3D5581\">http://www.mi=\n",
      "ndupmerchants.com/default.asp?ID=3D5581</a></p>\n",
      "\n",
      "<p class=3DMsoBodyText style=3D'text-align:justify'>Ben Green, (775) 322-33=\n",
      "23 </p>\n",
      "\n",
      "<p class=3DMsoBodyText>P.S.Free POP3 email is ofered for members now!</p>\n",
      "</div>\n",
      "\n",
      "</body>\n",
      "\n",
      "------000000000000000000000--\n",
      "\n",
      "Content-Type: text/html; charset=\"iso-8859-1\"\n",
      "Content-Transfer-Encoding: quoted-printable\n",
      "\n",
      "<body lang=3DEN-US>\n",
      "\n",
      "<div class=3DSection1>\n",
      "\n",
      "\n",
      "<p class=3DMsoBodyText style=3D'text-align:justify'><b>CONSANTLY</b> being\n",
      "bombarded by so-called =93FREE=94 money-making systems that teases you with=\n",
      " limited\n",
      "information, and when it=92s all said and done, blind-sides you by demandin=\n",
      "g your\n",
      "money/credit card information upfront in some slick way,<b> after-the-fact<=\n",
      "/b>!\n",
      "Yes, I too was as skeptical about such offers and the Internet in general w=\n",
      "ith\n",
      "all its hype, as you probably are. Fortunate for me, my main business\n",
      "slowed-down (<i>I have been self-employed all my life</i>), so I looked for\n",
      "something to fit my lifestyle and some other way to assist me in paying my\n",
      "bills, without working myself to death or loosing more money; then, this\n",
      "proposal to try something new without any upfront investment (<i>great! bec=\n",
      "ause\n",
      "I had none</i>) interested me to click on the link provided. And I don=92t =\n",
      "regret\n",
      "at all that I did! I am very happy, and happy enough to recommend it to you=\n",
      " as\n",
      "a system that is true to its word. I mean absolutely no upfront money. You =\n",
      "join\n",
      "only if (<i>when</i>) you make money. You also get to track the results of =\n",
      "your\n",
      "time and efforts instantly and updated daily! I especially liked this idea =\n",
      "of\n",
      "personal control with real-time, staying informed statistics.</p>\n",
      "\n",
      "<p class=3DMsoBodyText style=3D'text-align:justify'><b>This system is quite=\n",
      " simply\n",
      "the most logical, opened, and fair of any others that I=92ve seen before. W=\n",
      "hy?\n",
      "Because from the start, you get all the specific facts you need to seriously\n",
      "consider if this is right for you.=A0 No teasing. No grand testimonies! No\n",
      "kidding! Just the facts! Unlike in other programs that give you =93no idea=\n",
      "=94 of\n",
      "their overall plan before first forking over your money/credit card; or wor=\n",
      "st\n",
      "yet, joining and finding-out too late, after wasting valuable time trying to\n",
      "figure them out, this system is straightforward and informative, providing =\n",
      "you\n",
      "with the two things you really must know: =93<u>What=92s it all about</u>?=\n",
      "=94 and =93<u>How\n",
      "does it work</u>?=94. These are the ultimate deal makers or deal breakers t=\n",
      "hat\n",
      "need to be immediately disclosed, well before discovering that maybe you do=\n",
      "n=92t\n",
      "want to do that; by then you are =93hooked=94 and now locked into a frustra=\n",
      "ting\n",
      "battle to try to get your money back! </b></p>\n",
      "\n",
      "<p class=3DMsoBodyText style=3D'text-align:justify'>I call this my =93Plati=\n",
      "num\n",
      "Choice=94 because it stands alone as a true, superior deal that is totally\n",
      "different from previously misleading, =93hook-first=94 programs that promis=\n",
      "e lofty\n",
      "mega-money jackpots, but really just want your money upfront to line their =\n",
      "own\n",
      "pockets! You=92ve seen the headlines: =93<u>Join free and Make $10,000 ever=\n",
      "y week\n",
      "for life</u>=94 yeah, right!</p>\n",
      "\n",
      "<p class=3DMsoBodyText style=3D'text-align:justify'>I did not make millions=\n",
      " yet,\n",
      "but the whole thing was launched just a few weeks ago and I am more than ha=\n",
      "ppy\n",
      "with my earnings, so far. I must tell you, I wouldn=92t be able to do anyth=\n",
      "ing\n",
      "without corporate help =96 which was unusually thorough, timely, and motiva=\n",
      "ting. </p>\n",
      "\n",
      "<p class=3DMsoBodyText style=3D'text-align:justify'>You have to see this in=\n",
      " action\n",
      "for yourself and make up your own mind; just go to my site and fill out the\n",
      "form as soon as you can. You will get your own site in a few minutes. Then =\n",
      "you\n",
      "are ready to try whether you can make some decent money with this system and\n",
      "the Internet=92s explosive potential - fully loaded with hi-tech software, =\n",
      "free\n",
      "corporate help, on-time member=92s support and even protective safeguards! =\n",
      "</p>\n",
      "\n",
      "<p class=3DMsoBodyText style=3D'text-align:justify'>Get it now, and you can=\n",
      " call me\n",
      "at any time with questions. It really could help you like it is helping me =\n",
      "to\n",
      "finally be able to pay my bills, and keep my free time free.=A0 Good luck!<=\n",
      "/p>\n",
      "\n",
      "<p class=3DMsoBodyText style=3D'text-align:justify'><a\n",
      "href=3D\"http://www.mindupmerchants.com/default.asp?ID=3D5581\">http://www.mi=\n",
      "ndupmerchants.com/default.asp?ID=3D5581</a></p>\n",
      "\n",
      "<p class=3DMsoBodyText style=3D'text-align:justify'>Ben Green, (775) 322-33=\n",
      "23 </p>\n",
      "\n",
      "<p class=3DMsoBodyText>P.S.Free POP3 email is ofered for members now!</p>\n",
      "</div>\n",
      "\n",
      "</body>\n",
      "\n"
     ]
    }
   ],
   "source": [
    "# Mesmo um e-mail que não se enquadra nos padrões\n",
    "for part in sample_not_text.walk():\n",
    "    print(part)"
   ]
  },
  {
   "cell_type": "code",
   "execution_count": 94,
   "metadata": {
    "ExecuteTime": {
     "end_time": "2019-01-28T14:13:03.718213Z",
     "start_time": "2019-01-28T14:13:03.711238Z"
    }
   },
   "outputs": [
    {
     "name": "stdout",
     "output_type": "stream",
     "text": [
      "\n",
      "CONSANTLY being\n",
      "bombarded by so-called FREE money-making systems that teases you with limited\n",
      "information, and when its all said and done, blind-sides you by demanding your\n",
      "money/credit card information upfront in some slick way, after-the-fact!\n",
      "Yes, I too was as skeptical about such offers and the Internet in general with\n",
      "all its hype, as you probably are. Fortunate for me, my main business\n",
      "slowed-down (I have been self-employed all my life), so I looked for\n",
      "something to fit my lifestyle and some other way to assist me in paying my\n",
      "bills, without working myself to death or loosing more money; then, this\n",
      "proposal to try something new without any upfront investment (great! because\n",
      "I had none) interested me to click on the link provided. And I dont regret\n",
      "at all that I did! I am very happy, and happy enough to recommend it to you as\n",
      "a system that is true to its word. I mean absolutely no upfront money. You join\n",
      "only if (when) you make money. You also get to track the results of your\n",
      "time and efforts instantly and updated daily! I especially liked this idea of\n",
      "personal control with real-time, staying informed statistics.\n",
      "This system is quite simply\n",
      "the most logical, opened, and fair of any others that Ive seen before. Why?\n",
      "Because from the start, you get all the specific facts you need to seriously\n",
      "consider if this is right for you.  No teasing. No grand testimonies! No\n",
      "kidding! Just the facts! Unlike in other programs that give you no idea of\n",
      "their overall plan before first forking over your money/credit card; or worst\n",
      "yet, joining and finding-out too late, after wasting valuable time trying to\n",
      "figure them out, this system is straightforward and informative, providing you\n",
      "with the two things you really must know: Whats it all about? and How\n",
      "does it work?. These are the ultimate deal makers or deal breakers that\n",
      "need to be immediately disclosed, well before discovering that maybe you dont\n",
      "want to do that; by then you are hooked and now locked into a frustrating\n",
      "battle to try to get your money back!\n",
      "I call this my Platinum\n",
      "Choice because it stands alone as a true, superior deal that is totally\n",
      "different from previously misleading, hook-first programs that promise lofty\n",
      "mega-money jackpots, but really just want your money upfront to line their own\n",
      "pockets! Youve seen the headlines: Join free and Make $10,000 every week\n",
      "for life yeah, right!\n",
      "I did not make millions yet,\n",
      "but the whole thing was launched just a few weeks ago and I am more than happy\n",
      "with my earnings, so far. I must tell you, I wouldnt be able to do anything\n",
      "without corporate help  which was unusually thorough, timely, and motivating.\n",
      "You have to see this in action\n",
      "for yourself and make up your own mind; just go to my site and fill out the\n",
      "form as soon as you can. You will get your own site in a few minutes. Then you\n",
      "are ready to try whether you can make some decent money with this system and\n",
      "the Internets explosive potential - fully loaded with hi-tech software, free\n",
      "corporate help, on-time members support and even protective safeguards!\n",
      "Get it now, and you can call me\n",
      "at any time with questions. It really could help you like it is helping me to\n",
      "finally be able to pay my bills, and keep my free time free.  Good luck!\n",
      " HYPERLINK http://www.mindupmerchants.com/default.asp?ID=5581\n",
      "Ben Green, (775) 322-3323\n",
      "P.S.Free POP3 email is ofered for members now!\n",
      "\n"
     ]
    }
   ],
   "source": [
    "print(email_to_text(sample_not_text))"
   ]
  },
  {
   "cell_type": "markdown",
   "metadata": {},
   "source": [
    "### NLTK"
   ]
  },
  {
   "cell_type": "markdown",
   "metadata": {},
   "source": [
    "https://www.nltk.org/\n",
    "\n",
    "https://www.nltk.org/book/"
   ]
  },
  {
   "cell_type": "code",
   "execution_count": 1,
   "metadata": {
    "ExecuteTime": {
     "end_time": "2019-08-19T02:14:31.205026Z",
     "start_time": "2019-08-19T02:13:53.417514Z"
    }
   },
   "outputs": [
    {
     "name": "stdout",
     "output_type": "stream",
     "text": [
      "Computations => comput\n",
      "Computation => comput\n",
      "Computing => comput\n",
      "Computed => comput\n",
      "Compute => comput\n",
      "Compulsive => compuls\n"
     ]
    }
   ],
   "source": [
    "# Realizando alguns testes\n",
    "try:\n",
    "    import nltk\n",
    "\n",
    "    stemmer = nltk.PorterStemmer()\n",
    "    for word in (\"Computations\", \"Computation\", \"Computing\", \"Computed\", \"Compute\", \"Compulsive\"):\n",
    "        print(word, \"=>\", stemmer.stem(word))\n",
    "except ImportError:\n",
    "    print(\"Error: stemming requires the NLTK module.\")\n",
    "    stemmer = None"
   ]
  },
  {
   "cell_type": "code",
   "execution_count": 3,
   "metadata": {
    "ExecuteTime": {
     "end_time": "2019-08-19T00:23:28.440089Z",
     "start_time": "2019-08-19T02:16:26.849048Z"
    }
   },
   "outputs": [
    {
     "name": "stdout",
     "output_type": "stream",
     "text": [
      "showing info https://raw.githubusercontent.com/nltk/nltk_data/gh-pages/index.xml\n"
     ]
    },
    {
     "ename": "KeyboardInterrupt",
     "evalue": "",
     "output_type": "error",
     "traceback": [
      "\u001b[1;31m---------------------------------------------------------------------------\u001b[0m",
      "\u001b[1;31mKeyboardInterrupt\u001b[0m                         Traceback (most recent call last)",
      "\u001b[1;32m<ipython-input-3-cfdf40a1a82b>\u001b[0m in \u001b[0;36m<module>\u001b[1;34m\u001b[0m\n\u001b[0;32m      2\u001b[0m \u001b[1;32mfrom\u001b[0m \u001b[0mnltk\u001b[0m\u001b[1;33m.\u001b[0m\u001b[0mstem\u001b[0m \u001b[1;32mimport\u001b[0m \u001b[0mWordNetLemmatizer\u001b[0m\u001b[1;33m\u001b[0m\u001b[1;33m\u001b[0m\u001b[0m\n\u001b[0;32m      3\u001b[0m \u001b[1;33m\u001b[0m\u001b[0m\n\u001b[1;32m----> 4\u001b[1;33m \u001b[0mnltk\u001b[0m\u001b[1;33m.\u001b[0m\u001b[0mdownload\u001b[0m\u001b[1;33m(\u001b[0m\u001b[1;33m)\u001b[0m\u001b[1;33m\u001b[0m\u001b[1;33m\u001b[0m\u001b[0m\n\u001b[0m\u001b[0;32m      5\u001b[0m \u001b[0mwn_lemmatizer\u001b[0m \u001b[1;33m=\u001b[0m \u001b[0mWordNetLemmatizer\u001b[0m\u001b[1;33m(\u001b[0m\u001b[1;33m)\u001b[0m\u001b[1;33m\u001b[0m\u001b[1;33m\u001b[0m\u001b[0m\n\u001b[0;32m      6\u001b[0m \u001b[0mfrase\u001b[0m \u001b[1;33m=\u001b[0m \u001b[1;34m\"I am working on a way to receive the best evaluation on this test. I want to learn more and more!\"\u001b[0m\u001b[1;33m\u001b[0m\u001b[1;33m\u001b[0m\u001b[0m\n",
      "\u001b[1;32m~\\Anaconda3\\lib\\site-packages\\nltk\\downloader.py\u001b[0m in \u001b[0;36mdownload\u001b[1;34m(self, info_or_id, download_dir, quiet, force, prefix, halt_on_error, raise_on_error, print_error_to)\u001b[0m\n\u001b[0;32m    771\u001b[0m             \u001b[1;32mif\u001b[0m \u001b[0mdownload_dir\u001b[0m \u001b[1;32mis\u001b[0m \u001b[1;32mnot\u001b[0m \u001b[1;32mNone\u001b[0m\u001b[1;33m:\u001b[0m\u001b[1;33m\u001b[0m\u001b[1;33m\u001b[0m\u001b[0m\n\u001b[0;32m    772\u001b[0m                 \u001b[0mself\u001b[0m\u001b[1;33m.\u001b[0m\u001b[0m_download_dir\u001b[0m \u001b[1;33m=\u001b[0m \u001b[0mdownload_dir\u001b[0m\u001b[1;33m\u001b[0m\u001b[1;33m\u001b[0m\u001b[0m\n\u001b[1;32m--> 773\u001b[1;33m             \u001b[0mself\u001b[0m\u001b[1;33m.\u001b[0m\u001b[0m_interactive_download\u001b[0m\u001b[1;33m(\u001b[0m\u001b[1;33m)\u001b[0m\u001b[1;33m\u001b[0m\u001b[1;33m\u001b[0m\u001b[0m\n\u001b[0m\u001b[0;32m    774\u001b[0m             \u001b[1;32mreturn\u001b[0m \u001b[1;32mTrue\u001b[0m\u001b[1;33m\u001b[0m\u001b[1;33m\u001b[0m\u001b[0m\n\u001b[0;32m    775\u001b[0m \u001b[1;33m\u001b[0m\u001b[0m\n",
      "\u001b[1;32m~\\Anaconda3\\lib\\site-packages\\nltk\\downloader.py\u001b[0m in \u001b[0;36m_interactive_download\u001b[1;34m(self)\u001b[0m\n\u001b[0;32m   1121\u001b[0m         \u001b[1;32mif\u001b[0m \u001b[0mTKINTER\u001b[0m\u001b[1;33m:\u001b[0m\u001b[1;33m\u001b[0m\u001b[1;33m\u001b[0m\u001b[0m\n\u001b[0;32m   1122\u001b[0m             \u001b[1;32mtry\u001b[0m\u001b[1;33m:\u001b[0m\u001b[1;33m\u001b[0m\u001b[1;33m\u001b[0m\u001b[0m\n\u001b[1;32m-> 1123\u001b[1;33m                 \u001b[0mDownloaderGUI\u001b[0m\u001b[1;33m(\u001b[0m\u001b[0mself\u001b[0m\u001b[1;33m)\u001b[0m\u001b[1;33m.\u001b[0m\u001b[0mmainloop\u001b[0m\u001b[1;33m(\u001b[0m\u001b[1;33m)\u001b[0m\u001b[1;33m\u001b[0m\u001b[1;33m\u001b[0m\u001b[0m\n\u001b[0m\u001b[0;32m   1124\u001b[0m             \u001b[1;32mexcept\u001b[0m \u001b[0mTclError\u001b[0m\u001b[1;33m:\u001b[0m\u001b[1;33m\u001b[0m\u001b[1;33m\u001b[0m\u001b[0m\n\u001b[0;32m   1125\u001b[0m                 \u001b[0mDownloaderShell\u001b[0m\u001b[1;33m(\u001b[0m\u001b[0mself\u001b[0m\u001b[1;33m)\u001b[0m\u001b[1;33m.\u001b[0m\u001b[0mrun\u001b[0m\u001b[1;33m(\u001b[0m\u001b[1;33m)\u001b[0m\u001b[1;33m\u001b[0m\u001b[1;33m\u001b[0m\u001b[0m\n",
      "\u001b[1;32m~\\Anaconda3\\lib\\site-packages\\nltk\\downloader.py\u001b[0m in \u001b[0;36mmainloop\u001b[1;34m(self, *args, **kwargs)\u001b[0m\n\u001b[0;32m   1943\u001b[0m \u001b[1;33m\u001b[0m\u001b[0m\n\u001b[0;32m   1944\u001b[0m     \u001b[1;32mdef\u001b[0m \u001b[0mmainloop\u001b[0m\u001b[1;33m(\u001b[0m\u001b[0mself\u001b[0m\u001b[1;33m,\u001b[0m \u001b[1;33m*\u001b[0m\u001b[0margs\u001b[0m\u001b[1;33m,\u001b[0m \u001b[1;33m**\u001b[0m\u001b[0mkwargs\u001b[0m\u001b[1;33m)\u001b[0m\u001b[1;33m:\u001b[0m\u001b[1;33m\u001b[0m\u001b[1;33m\u001b[0m\u001b[0m\n\u001b[1;32m-> 1945\u001b[1;33m         \u001b[0mself\u001b[0m\u001b[1;33m.\u001b[0m\u001b[0mtop\u001b[0m\u001b[1;33m.\u001b[0m\u001b[0mmainloop\u001b[0m\u001b[1;33m(\u001b[0m\u001b[1;33m*\u001b[0m\u001b[0margs\u001b[0m\u001b[1;33m,\u001b[0m \u001b[1;33m**\u001b[0m\u001b[0mkwargs\u001b[0m\u001b[1;33m)\u001b[0m\u001b[1;33m\u001b[0m\u001b[1;33m\u001b[0m\u001b[0m\n\u001b[0m\u001b[0;32m   1946\u001b[0m \u001b[1;33m\u001b[0m\u001b[0m\n\u001b[0;32m   1947\u001b[0m     \u001b[1;31m# /////////////////////////////////////////////////////////////////\u001b[0m\u001b[1;33m\u001b[0m\u001b[1;33m\u001b[0m\u001b[1;33m\u001b[0m\u001b[0m\n",
      "\u001b[1;32m~\\Anaconda3\\lib\\tkinter\\__init__.py\u001b[0m in \u001b[0;36mmainloop\u001b[1;34m(self, n)\u001b[0m\n\u001b[0;32m   1281\u001b[0m     \u001b[1;32mdef\u001b[0m \u001b[0mmainloop\u001b[0m\u001b[1;33m(\u001b[0m\u001b[0mself\u001b[0m\u001b[1;33m,\u001b[0m \u001b[0mn\u001b[0m\u001b[1;33m=\u001b[0m\u001b[1;36m0\u001b[0m\u001b[1;33m)\u001b[0m\u001b[1;33m:\u001b[0m\u001b[1;33m\u001b[0m\u001b[1;33m\u001b[0m\u001b[0m\n\u001b[0;32m   1282\u001b[0m         \u001b[1;34m\"\"\"Call the mainloop of Tk.\"\"\"\u001b[0m\u001b[1;33m\u001b[0m\u001b[1;33m\u001b[0m\u001b[0m\n\u001b[1;32m-> 1283\u001b[1;33m         \u001b[0mself\u001b[0m\u001b[1;33m.\u001b[0m\u001b[0mtk\u001b[0m\u001b[1;33m.\u001b[0m\u001b[0mmainloop\u001b[0m\u001b[1;33m(\u001b[0m\u001b[0mn\u001b[0m\u001b[1;33m)\u001b[0m\u001b[1;33m\u001b[0m\u001b[1;33m\u001b[0m\u001b[0m\n\u001b[0m\u001b[0;32m   1284\u001b[0m     \u001b[1;32mdef\u001b[0m \u001b[0mquit\u001b[0m\u001b[1;33m(\u001b[0m\u001b[0mself\u001b[0m\u001b[1;33m)\u001b[0m\u001b[1;33m:\u001b[0m\u001b[1;33m\u001b[0m\u001b[1;33m\u001b[0m\u001b[0m\n\u001b[0;32m   1285\u001b[0m         \u001b[1;34m\"\"\"Quit the Tcl interpreter. All widgets will be destroyed.\"\"\"\u001b[0m\u001b[1;33m\u001b[0m\u001b[1;33m\u001b[0m\u001b[0m\n",
      "\u001b[1;31mKeyboardInterrupt\u001b[0m: "
     ]
    }
   ],
   "source": [
    "import nltk\n",
    "from nltk.stem import WordNetLemmatizer\n",
    "\n",
    "nltk.download()\n",
    "wn_lemmatizer = WordNetLemmatizer()\n",
    "frase = \"I am working on a way to receive the best evaluation on this test. I want to learn more and more!\"\n",
    "pontuacoes = '.!'\n",
    "palavras = nltk.word_tokenize(frase)\n",
    "palavras"
   ]
  },
  {
   "cell_type": "markdown",
   "metadata": {},
   "source": [
    "A biblioteca ```nltk``` (Natural Language Toolkit) é extremamente útil para diversas aplicações. Acima, criamos um objeto da classe ```PorterStemmer``` capaz de retirar acréscimos morfológicos de palavras. Isso é muito útil para o tratamento e interpretação de palavras ([Link](http://www.nltk.org/howto/stem.html)). Vejamos abaixo alguns testes adicionais."
   ]
  },
  {
   "cell_type": "code",
   "execution_count": 98,
   "metadata": {
    "ExecuteTime": {
     "end_time": "2019-01-28T14:27:20.255415Z",
     "start_time": "2019-01-28T14:27:20.248434Z"
    }
   },
   "outputs": [
    {
     "name": "stdout",
     "output_type": "stream",
     "text": [
      "Martin A posted:\n",
      "Tassos Papadopoulos, the Greek sculptor behind the plan, judged that the\n",
      " limestone of Mount Kerdylio, 70 miles east of Salonika and not far from the\n",
      " Mount Athos monastic community, was ideal for the patriotic sculpture. \n",
      " \n",
      " As well as Alexander's granite features, 240 ft high and 170 ft wide, a\n",
      " museum, a restored amphitheatre and car park for admiring crowds are\n",
      "planned\n",
      "---------------------\n",
      "So is this mountain limestone or granite?\n",
      "If it's limestone, it'll weather pretty fast.\n",
      "\n",
      "------------------------ Yahoo! Groups Sponsor ---------------------~-->\n",
      "4 DVDs Free +s&p Join Now\n",
      "http://us.click.yahoo.com/pt6YBB/NXiEAA/mG3HAA/7gSolB/TM\n",
      "---------------------------------------------------------------------~->\n",
      "\n",
      "To unsubscribe from this group, send an email to:\n",
      "forteana-unsubscribe@egroups.com\n",
      "\n",
      " \n",
      "\n",
      "Your use of Yahoo! Groups is subject to http://docs.yahoo.com/info/terms/ \n",
      "\n",
      "\n",
      "\n",
      "\n"
     ]
    }
   ],
   "source": [
    "# Coletando um e-mail teste\n",
    "email_teste = ham_emails[1]\n",
    "email_texto = email_to_text(email_teste)\n",
    "print(email_texto)"
   ]
  },
  {
   "cell_type": "code",
   "execution_count": 107,
   "metadata": {
    "ExecuteTime": {
     "end_time": "2019-01-28T14:29:58.537787Z",
     "start_time": "2019-01-28T14:29:58.530838Z"
    }
   },
   "outputs": [
    {
     "data": {
      "text/plain": [
       "\"Tassos Papadopoulos, the Greek sculptor behind the plan, judged that the\\n limestone of Mount Kerdylio, 70 miles east of Salonika and not far from the\\n Mount Athos monastic community, was ideal for the patriotic sculpture. \\n \\n As well as Alexander's granite features, 240 ft high and 170 ft wide, a\\n museum, a restored amphitheatre and car park for admiring crowds are\\nplanned\\n---------------------\\nSo is this mountain limestone or granite?\\nIf it's limestone, it'll weather pretty fast.\\n\\n\""
      ]
     },
     "execution_count": 107,
     "metadata": {},
     "output_type": "execute_result"
    }
   ],
   "source": [
    "# Coletando uma frase do email\n",
    "frase = email_texto[17:504]\n",
    "frase"
   ]
  },
  {
   "cell_type": "code",
   "execution_count": 111,
   "metadata": {
    "ExecuteTime": {
     "end_time": "2019-01-28T14:48:41.405396Z",
     "start_time": "2019-01-28T14:47:04.978094Z"
    }
   },
   "outputs": [
    {
     "name": "stdout",
     "output_type": "stream",
     "text": [
      "[nltk_data] Downloading package punkt to\n",
      "[nltk_data]     C:\\Users\\thiagoPanini\\AppData\\Roaming\\nltk_data...\n",
      "[nltk_data]   Unzipping tokenizers\\punkt.zip.\n"
     ]
    }
   ],
   "source": [
    "# Aplicando tokenize\n",
    "nltk.download('punkt')\n",
    "frases = nltk.tokenize.sent_tokenize(frase)"
   ]
  },
  {
   "cell_type": "code",
   "execution_count": 114,
   "metadata": {
    "ExecuteTime": {
     "end_time": "2019-01-28T14:51:09.930800Z",
     "start_time": "2019-01-28T14:51:09.925814Z"
    }
   },
   "outputs": [
    {
     "data": {
      "text/plain": [
       "['Tassos Papadopoulos, the Greek sculptor behind the plan, judged that the\\n limestone of Mount Kerdylio, 70 miles east of Salonika and not far from the\\n Mount Athos monastic community, was ideal for the patriotic sculpture.',\n",
       " \"As well as Alexander's granite features, 240 ft high and 170 ft wide, a\\n museum, a restored amphitheatre and car park for admiring crowds are\\nplanned\\n---------------------\\nSo is this mountain limestone or granite?\",\n",
       " \"If it's limestone, it'll weather pretty fast.\"]"
      ]
     },
     "execution_count": 114,
     "metadata": {},
     "output_type": "execute_result"
    }
   ],
   "source": [
    "# Testando\n",
    "frases"
   ]
  },
  {
   "cell_type": "code",
   "execution_count": 115,
   "metadata": {
    "ExecuteTime": {
     "end_time": "2019-01-28T14:51:13.044202Z",
     "start_time": "2019-01-28T14:51:13.038219Z"
    }
   },
   "outputs": [
    {
     "data": {
      "text/plain": [
       "3"
      ]
     },
     "execution_count": 115,
     "metadata": {},
     "output_type": "execute_result"
    }
   ],
   "source": [
    "len(frases)"
   ]
  },
  {
   "cell_type": "code",
   "execution_count": 117,
   "metadata": {
    "ExecuteTime": {
     "end_time": "2019-01-28T14:51:29.907033Z",
     "start_time": "2019-01-28T14:51:29.902049Z"
    }
   },
   "outputs": [
    {
     "name": "stdout",
     "output_type": "stream",
     "text": [
      "Tassos Papadopoulos, the Greek sculptor behind the plan, judged that the\n",
      " limestone of Mount Kerdylio, 70 miles east of Salonika and not far from the\n",
      " Mount Athos monastic community, was ideal for the patriotic sculpture.\n",
      "\n",
      "As well as Alexander's granite features, 240 ft high and 170 ft wide, a\n",
      " museum, a restored amphitheatre and car park for admiring crowds are\n",
      "planned\n",
      "---------------------\n",
      "So is this mountain limestone or granite?\n",
      "\n",
      "If it's limestone, it'll weather pretty fast.\n",
      "\n"
     ]
    }
   ],
   "source": [
    "for f in frases:\n",
    "    print(f)\n",
    "    print()"
   ]
  },
  {
   "cell_type": "code",
   "execution_count": 120,
   "metadata": {
    "ExecuteTime": {
     "end_time": "2019-01-28T14:53:24.374630Z",
     "start_time": "2019-01-28T14:53:24.368640Z"
    }
   },
   "outputs": [
    {
     "data": {
      "text/plain": [
       "['Tassos',\n",
       " 'Papadopoulos',\n",
       " ',',\n",
       " 'the',\n",
       " 'Greek',\n",
       " 'sculptor',\n",
       " 'behind',\n",
       " 'the',\n",
       " 'plan',\n",
       " ',',\n",
       " 'judged',\n",
       " 'that',\n",
       " 'the',\n",
       " 'limestone',\n",
       " 'of',\n",
       " 'Mount',\n",
       " 'Kerdylio',\n",
       " ',',\n",
       " '70',\n",
       " 'miles',\n",
       " 'east',\n",
       " 'of',\n",
       " 'Salonika',\n",
       " 'and',\n",
       " 'not',\n",
       " 'far',\n",
       " 'from',\n",
       " 'the',\n",
       " 'Mount',\n",
       " 'Athos',\n",
       " 'monastic',\n",
       " 'community',\n",
       " ',',\n",
       " 'was',\n",
       " 'ideal',\n",
       " 'for',\n",
       " 'the',\n",
       " 'patriotic',\n",
       " 'sculpture',\n",
       " '.',\n",
       " 'As',\n",
       " 'well',\n",
       " 'as',\n",
       " 'Alexander',\n",
       " \"'s\",\n",
       " 'granite',\n",
       " 'features',\n",
       " ',',\n",
       " '240',\n",
       " 'ft',\n",
       " 'high',\n",
       " 'and',\n",
       " '170',\n",
       " 'ft',\n",
       " 'wide',\n",
       " ',',\n",
       " 'a',\n",
       " 'museum',\n",
       " ',',\n",
       " 'a',\n",
       " 'restored',\n",
       " 'amphitheatre',\n",
       " 'and',\n",
       " 'car',\n",
       " 'park',\n",
       " 'for',\n",
       " 'admiring',\n",
       " 'crowds',\n",
       " 'are',\n",
       " 'planned',\n",
       " '--',\n",
       " '--',\n",
       " '--',\n",
       " '--',\n",
       " '--',\n",
       " '--',\n",
       " '--',\n",
       " '--',\n",
       " '--',\n",
       " '--',\n",
       " '-',\n",
       " 'So',\n",
       " 'is',\n",
       " 'this',\n",
       " 'mountain',\n",
       " 'limestone',\n",
       " 'or',\n",
       " 'granite',\n",
       " '?',\n",
       " 'If',\n",
       " 'it',\n",
       " \"'s\",\n",
       " 'limestone',\n",
       " ',',\n",
       " 'it',\n",
       " \"'ll\",\n",
       " 'weather',\n",
       " 'pretty',\n",
       " 'fast',\n",
       " '.']"
      ]
     },
     "execution_count": 120,
     "metadata": {},
     "output_type": "execute_result"
    }
   ],
   "source": [
    "# Separando palavra por palavra\n",
    "tokens = nltk.word_tokenize(frase)\n",
    "tokens"
   ]
  },
  {
   "cell_type": "code",
   "execution_count": 122,
   "metadata": {
    "ExecuteTime": {
     "end_time": "2019-01-28T14:54:30.700001Z",
     "start_time": "2019-01-28T14:54:09.322068Z"
    }
   },
   "outputs": [
    {
     "name": "stdout",
     "output_type": "stream",
     "text": [
      "[nltk_data] Downloading package averaged_perceptron_tagger to\n",
      "[nltk_data]     C:\\Users\\thiagoPanini\\AppData\\Roaming\\nltk_data...\n",
      "[nltk_data]   Unzipping taggers\\averaged_perceptron_tagger.zip.\n"
     ]
    },
    {
     "data": {
      "text/plain": [
       "[('Tassos', 'NNP'),\n",
       " ('Papadopoulos', 'NNP'),\n",
       " (',', ','),\n",
       " ('the', 'DT'),\n",
       " ('Greek', 'NNP'),\n",
       " ('sculptor', 'NN'),\n",
       " ('behind', 'IN'),\n",
       " ('the', 'DT'),\n",
       " ('plan', 'NN'),\n",
       " (',', ','),\n",
       " ('judged', 'VBD'),\n",
       " ('that', 'IN'),\n",
       " ('the', 'DT'),\n",
       " ('limestone', 'NN'),\n",
       " ('of', 'IN'),\n",
       " ('Mount', 'NNP'),\n",
       " ('Kerdylio', 'NNP'),\n",
       " (',', ','),\n",
       " ('70', 'CD'),\n",
       " ('miles', 'NNS'),\n",
       " ('east', 'RB'),\n",
       " ('of', 'IN'),\n",
       " ('Salonika', 'NNP'),\n",
       " ('and', 'CC'),\n",
       " ('not', 'RB'),\n",
       " ('far', 'RB'),\n",
       " ('from', 'IN'),\n",
       " ('the', 'DT'),\n",
       " ('Mount', 'NNP'),\n",
       " ('Athos', 'NNP'),\n",
       " ('monastic', 'NNP'),\n",
       " ('community', 'NN'),\n",
       " (',', ','),\n",
       " ('was', 'VBD'),\n",
       " ('ideal', 'NN'),\n",
       " ('for', 'IN'),\n",
       " ('the', 'DT'),\n",
       " ('patriotic', 'JJ'),\n",
       " ('sculpture', 'NN'),\n",
       " ('.', '.'),\n",
       " ('As', 'RB'),\n",
       " ('well', 'RB'),\n",
       " ('as', 'IN'),\n",
       " ('Alexander', 'NNP'),\n",
       " (\"'s\", 'POS'),\n",
       " ('granite', 'NN'),\n",
       " ('features', 'NNS'),\n",
       " (',', ','),\n",
       " ('240', 'CD'),\n",
       " ('ft', 'NN'),\n",
       " ('high', 'JJ'),\n",
       " ('and', 'CC'),\n",
       " ('170', 'CD'),\n",
       " ('ft', 'NNS'),\n",
       " ('wide', 'JJ'),\n",
       " (',', ','),\n",
       " ('a', 'DT'),\n",
       " ('museum', 'NN'),\n",
       " (',', ','),\n",
       " ('a', 'DT'),\n",
       " ('restored', 'JJ'),\n",
       " ('amphitheatre', 'NN'),\n",
       " ('and', 'CC'),\n",
       " ('car', 'NN'),\n",
       " ('park', 'NN'),\n",
       " ('for', 'IN'),\n",
       " ('admiring', 'VBG'),\n",
       " ('crowds', 'NN'),\n",
       " ('are', 'VBP'),\n",
       " ('planned', 'VBN'),\n",
       " ('--', ':'),\n",
       " ('--', ':'),\n",
       " ('--', ':'),\n",
       " ('--', ':'),\n",
       " ('--', ':'),\n",
       " ('--', ':'),\n",
       " ('--', ':'),\n",
       " ('--', ':'),\n",
       " ('--', ':'),\n",
       " ('--', ':'),\n",
       " ('-', ':'),\n",
       " ('So', 'RB'),\n",
       " ('is', 'VBZ'),\n",
       " ('this', 'DT'),\n",
       " ('mountain', 'NN'),\n",
       " ('limestone', 'NN'),\n",
       " ('or', 'CC'),\n",
       " ('granite', 'VB'),\n",
       " ('?', '.'),\n",
       " ('If', 'IN'),\n",
       " ('it', 'PRP'),\n",
       " (\"'s\", 'VBZ'),\n",
       " ('limestone', 'NN'),\n",
       " (',', ','),\n",
       " ('it', 'PRP'),\n",
       " (\"'ll\", 'MD'),\n",
       " ('weather', 'VB'),\n",
       " ('pretty', 'RB'),\n",
       " ('fast', 'RB'),\n",
       " ('.', '.')]"
      ]
     },
     "execution_count": 122,
     "metadata": {},
     "output_type": "execute_result"
    }
   ],
   "source": [
    "# Aplicando pos_tag\n",
    "nltk.download('averaged_perceptron_tagger')\n",
    "classes = nltk.pos_tag(tokens)\n",
    "classes"
   ]
  },
  {
   "cell_type": "markdown",
   "metadata": {},
   "source": [
    "Significado das tags: https://cs.nyu.edu/grishman/jet/guide/PennPOS.html"
   ]
  },
  {
   "cell_type": "markdown",
   "metadata": {},
   "source": [
    "### URL Extract"
   ]
  },
  {
   "cell_type": "markdown",
   "metadata": {},
   "source": [
    "https://urlextract.readthedocs.io/en/latest/urlextract.html"
   ]
  },
  {
   "cell_type": "markdown",
   "metadata": {},
   "source": [
    "Para esta tarefa, seria possível aplicar Regular Expressions, mas o trabalho seria muito mai sárduo."
   ]
  },
  {
   "cell_type": "code",
   "execution_count": 123,
   "metadata": {
    "ExecuteTime": {
     "end_time": "2019-01-28T15:12:57.968299Z",
     "start_time": "2019-01-28T15:12:56.506212Z"
    }
   },
   "outputs": [
    {
     "name": "stdout",
     "output_type": "stream",
     "text": [
      "['github.com', 'https://youtu.be/7Pq-S557XQU?t=3m32s']\n"
     ]
    }
   ],
   "source": [
    "try:\n",
    "    import urlextract\n",
    "    \n",
    "    extractor = urlextract.URLExtract()\n",
    "    print(extractor.find_urls(\"Will it detect github.com and https://youtu.be/7Pq-S557XQU?t=3m32s\"))\n",
    "except ImportError:\n",
    "    print(\"Error: replacing URLs requires the urlextract module.\")\n",
    "    extractor = None"
   ]
  },
  {
   "cell_type": "markdown",
   "metadata": {},
   "source": [
    "We are ready to put all this together into a transformer that we will use to convert emails to word counters. Note that we split sentences into words using Python's `split()` method, which uses whitespaces for word boundaries. This works for many written languages, but not all. For example, Chinese and Japanese scripts generally don't use spaces between words, and Vietnamese often uses spaces even between syllables. It's okay in this exercise, because the dataset is (mostly) in English."
   ]
  },
  {
   "cell_type": "markdown",
   "metadata": {},
   "source": [
    "## Juntando Informações"
   ]
  },
  {
   "cell_type": "code",
   "execution_count": 126,
   "metadata": {
    "ExecuteTime": {
     "end_time": "2019-01-28T15:21:57.976409Z",
     "start_time": "2019-01-28T15:21:57.829801Z"
    }
   },
   "outputs": [],
   "source": [
    "from sklearn.base import BaseEstimator, TransformerMixin\n",
    "import urlextract\n",
    "\n",
    "url_extractor = urlextract.URLExtract()\n",
    "\n",
    "class EmailToWordCounterTransformer(BaseEstimator, TransformerMixin):\n",
    "    def __init__(self, strip_headers=True, lower_case=True, remove_punctuation=True,\n",
    "                 replace_urls=True, replace_numbers=True, stemming=True):\n",
    "        self.strip_headers = strip_headers\n",
    "        self.lower_case = lower_case\n",
    "        self.remove_punctuation = remove_punctuation\n",
    "        self.replace_urls = replace_urls\n",
    "        self.replace_numbers = replace_numbers\n",
    "        self.stemming = stemming\n",
    "    def fit(self, X, y=None):\n",
    "        return self\n",
    "    def transform(self, X, y=None):\n",
    "        X_transformed = []\n",
    "        for email in X:\n",
    "            text = email_to_text(email) or \"\"\n",
    "            if self.lower_case:\n",
    "                text = text.lower()\n",
    "            if self.replace_urls and url_extractor is not None:\n",
    "                urls = list(set(url_extractor.find_urls(text)))\n",
    "                urls.sort(key=lambda url: len(url), reverse=True)\n",
    "                for url in urls:\n",
    "                    text = text.replace(url, \" URL \")\n",
    "            if self.replace_numbers:\n",
    "                text = re.sub(r'\\d+(?:\\.\\d*(?:[eE]\\d+))?', 'NUMBER', text)\n",
    "            if self.remove_punctuation:\n",
    "                text = re.sub(r'\\W+', ' ', text, flags=re.M)\n",
    "            word_counts = Counter(text.split())\n",
    "            if self.stemming and stemmer is not None:\n",
    "                stemmed_word_counts = Counter()\n",
    "                for word, count in word_counts.items():\n",
    "                    stemmed_word = stemmer.stem(word)\n",
    "                    stemmed_word_counts[stemmed_word] += count\n",
    "                word_counts = stemmed_word_counts\n",
    "            X_transformed.append(word_counts)\n",
    "        return np.array(X_transformed)"
   ]
  },
  {
   "cell_type": "code",
   "execution_count": 127,
   "metadata": {
    "ExecuteTime": {
     "end_time": "2019-01-28T15:21:58.837915Z",
     "start_time": "2019-01-28T15:21:58.775078Z"
    }
   },
   "outputs": [
    {
     "data": {
      "text/plain": [
       "array([Counter({'chuck': 1, 'murcko': 1, 'wrote': 1, 'stuff': 1, 'yawn': 1, 'r': 1}),\n",
       "       Counter({'the': 11, 'of': 9, 'and': 8, 'all': 3, 'christian': 3, 'to': 3, 'by': 3, 'jefferson': 2, 'i': 2, 'have': 2, 'superstit': 2, 'one': 2, 'on': 2, 'been': 2, 'ha': 2, 'half': 2, 'rogueri': 2, 'teach': 2, 'jesu': 2, 'some': 1, 'interest': 1, 'quot': 1, 'url': 1, 'thoma': 1, 'examin': 1, 'known': 1, 'word': 1, 'do': 1, 'not': 1, 'find': 1, 'in': 1, 'our': 1, 'particular': 1, 'redeem': 1, 'featur': 1, 'they': 1, 'are': 1, 'alik': 1, 'found': 1, 'fabl': 1, 'mytholog': 1, 'million': 1, 'innoc': 1, 'men': 1, 'women': 1, 'children': 1, 'sinc': 1, 'introduct': 1, 'burnt': 1, 'tortur': 1, 'fine': 1, 'imprison': 1, 'what': 1, 'effect': 1, 'thi': 1, 'coercion': 1, 'make': 1, 'world': 1, 'fool': 1, 'other': 1, 'hypocrit': 1, 'support': 1, 'error': 1, 'over': 1, 'earth': 1, 'six': 1, 'histor': 1, 'american': 1, 'john': 1, 'e': 1, 'remsburg': 1, 'letter': 1, 'william': 1, 'short': 1, 'again': 1, 'becom': 1, 'most': 1, 'pervert': 1, 'system': 1, 'that': 1, 'ever': 1, 'shone': 1, 'man': 1, 'absurd': 1, 'untruth': 1, 'were': 1, 'perpetr': 1, 'upon': 1, 'a': 1, 'larg': 1, 'band': 1, 'dupe': 1, 'import': 1, 'led': 1, 'paul': 1, 'first': 1, 'great': 1, 'corrupt': 1}),\n",
       "       Counter({'url': 5, 's': 3, 'group': 3, 'to': 3, 'in': 2, 'forteana': 2, 'martin': 2, 'an': 2, 'and': 2, 'we': 2, 'is': 2, 'yahoo': 2, 'unsubscrib': 2, 'y': 1, 'adamson': 1, 'wrote': 1, 'for': 1, 'altern': 1, 'rather': 1, 'more': 1, 'factual': 1, 'base': 1, 'rundown': 1, 'on': 1, 'hamza': 1, 'career': 1, 'includ': 1, 'hi': 1, 'belief': 1, 'that': 1, 'all': 1, 'non': 1, 'muslim': 1, 'yemen': 1, 'should': 1, 'be': 1, 'murder': 1, 'outright': 1, 'know': 1, 'how': 1, 'unbias': 1, 'memri': 1, 'don': 1, 't': 1, 'html': 1, 'rob': 1, 'sponsor': 1, 'number': 1, 'dvd': 1, 'free': 1, 'p': 1, 'join': 1, 'now': 1, 'from': 1, 'thi': 1, 'send': 1, 'email': 1, 'your': 1, 'use': 1, 'of': 1, 'subject': 1})],\n",
       "      dtype=object)"
      ]
     },
     "execution_count": 127,
     "metadata": {},
     "output_type": "execute_result"
    }
   ],
   "source": [
    "# Testando classe\n",
    "X_few = X_train[:3]\n",
    "X_few_wordcounts = EmailToWordCounterTransformer().fit_transform(X_few)\n",
    "X_few_wordcounts"
   ]
  },
  {
   "cell_type": "markdown",
   "metadata": {},
   "source": [
    "Now we have the word counts, and we need to convert them to vectors. For this, we will build another transformer whose `fit()` method will build the vocabulary (an ordered list of the most common words) and whose `transform()` method will use the vocabulary to convert word counts to vectors. The output is a sparse matrix."
   ]
  },
  {
   "cell_type": "code",
   "execution_count": 128,
   "metadata": {
    "ExecuteTime": {
     "end_time": "2019-01-28T15:22:17.920926Z",
     "start_time": "2019-01-28T15:22:17.889043Z"
    }
   },
   "outputs": [],
   "source": [
    "from scipy.sparse import csr_matrix\n",
    "\n",
    "class WordCounterToVectorTransformer(BaseEstimator, TransformerMixin):\n",
    "    def __init__(self, vocabulary_size=1000):\n",
    "        self.vocabulary_size = vocabulary_size\n",
    "    def fit(self, X, y=None):\n",
    "        total_count = Counter()\n",
    "        for word_count in X:\n",
    "            for word, count in word_count.items():\n",
    "                total_count[word] += min(count, 10)\n",
    "        most_common = total_count.most_common()[:self.vocabulary_size]\n",
    "        self.most_common_ = most_common\n",
    "        self.vocabulary_ = {word: index + 1 for index, (word, count) in enumerate(most_common)}\n",
    "        return self\n",
    "    def transform(self, X, y=None):\n",
    "        rows = []\n",
    "        cols = []\n",
    "        data = []\n",
    "        for row, word_count in enumerate(X):\n",
    "            for word, count in word_count.items():\n",
    "                rows.append(row)\n",
    "                cols.append(self.vocabulary_.get(word, 0))\n",
    "                data.append(count)\n",
    "        return csr_matrix((data, (rows, cols)), shape=(len(X), self.vocabulary_size + 1))"
   ]
  },
  {
   "cell_type": "code",
   "execution_count": 129,
   "metadata": {
    "ExecuteTime": {
     "end_time": "2019-01-28T15:22:25.491230Z",
     "start_time": "2019-01-28T15:22:25.373506Z"
    }
   },
   "outputs": [
    {
     "data": {
      "text/plain": [
       "<3x11 sparse matrix of type '<class 'numpy.int32'>'\n",
       "\twith 20 stored elements in Compressed Sparse Row format>"
      ]
     },
     "execution_count": 129,
     "metadata": {},
     "output_type": "execute_result"
    }
   ],
   "source": [
    "vocab_transformer = WordCounterToVectorTransformer(vocabulary_size=10)\n",
    "X_few_vectors = vocab_transformer.fit_transform(X_few_wordcounts)\n",
    "X_few_vectors"
   ]
  },
  {
   "cell_type": "code",
   "execution_count": 130,
   "metadata": {
    "ExecuteTime": {
     "end_time": "2019-01-28T15:22:31.757990Z",
     "start_time": "2019-01-28T15:22:31.751979Z"
    }
   },
   "outputs": [
    {
     "data": {
      "text/plain": [
       "array([[ 6,  0,  0,  0,  0,  0,  0,  0,  0,  0,  0],\n",
       "       [99, 11,  9,  8,  1,  3,  3,  1,  3,  2,  3],\n",
       "       [65,  0,  1,  2,  5,  3,  1,  2,  0,  1,  0]], dtype=int32)"
      ]
     },
     "execution_count": 130,
     "metadata": {},
     "output_type": "execute_result"
    }
   ],
   "source": [
    "X_few_vectors.toarray()"
   ]
  },
  {
   "cell_type": "markdown",
   "metadata": {},
   "source": [
    "What does this matrix mean? Well, the 64 in the third row, first column, means that the third email contains 64 words that are not part of the vocabulary. The 1 next to it means that the first word in the vocabulary is present once in this email. The 2 next to it means that the second word is present twice, and so on. You can look at the vocabulary to know which words we are talking about. The first word is \"of\", the second word is \"and\", etc."
   ]
  },
  {
   "cell_type": "code",
   "execution_count": 131,
   "metadata": {
    "ExecuteTime": {
     "end_time": "2019-01-28T15:22:46.977001Z",
     "start_time": "2019-01-28T15:22:46.970054Z"
    }
   },
   "outputs": [
    {
     "data": {
      "text/plain": [
       "{'all': 6,\n",
       " 'and': 3,\n",
       " 'by': 10,\n",
       " 'christian': 8,\n",
       " 'in': 7,\n",
       " 'of': 2,\n",
       " 'on': 9,\n",
       " 'the': 1,\n",
       " 'to': 5,\n",
       " 'url': 4}"
      ]
     },
     "execution_count": 131,
     "metadata": {},
     "output_type": "execute_result"
    }
   ],
   "source": [
    "vocab_transformer.vocabulary_"
   ]
  },
  {
   "cell_type": "code",
   "execution_count": 132,
   "metadata": {
    "ExecuteTime": {
     "end_time": "2019-01-28T15:23:18.648115Z",
     "start_time": "2019-01-28T15:23:10.447986Z"
    }
   },
   "outputs": [],
   "source": [
    "from sklearn.pipeline import Pipeline\n",
    "\n",
    "preprocess_pipeline = Pipeline([\n",
    "    (\"email_to_wordcount\", EmailToWordCounterTransformer()),\n",
    "    (\"wordcount_to_vector\", WordCounterToVectorTransformer()),\n",
    "])\n",
    "\n",
    "X_train_transformed = preprocess_pipeline.fit_transform(X_train)"
   ]
  },
  {
   "cell_type": "code",
   "execution_count": 139,
   "metadata": {
    "ExecuteTime": {
     "end_time": "2019-01-28T15:32:47.415355Z",
     "start_time": "2019-01-28T15:32:47.404360Z"
    }
   },
   "outputs": [
    {
     "data": {
      "text/plain": [
       "array([[ 3,  0,  0, ...,  0,  0,  0],\n",
       "       [41,  0, 11, ...,  0,  0,  0],\n",
       "       [16,  1,  0, ...,  0,  0,  0],\n",
       "       ...,\n",
       "       [86, 29, 20, ...,  0,  0,  0],\n",
       "       [12,  6,  2, ...,  0,  0,  0],\n",
       "       [75, 28, 11, ...,  0,  0,  0]], dtype=int32)"
      ]
     },
     "execution_count": 139,
     "metadata": {},
     "output_type": "execute_result"
    }
   ],
   "source": [
    "X_train_transformed.toarray()"
   ]
  },
  {
   "cell_type": "code",
   "execution_count": 140,
   "metadata": {
    "ExecuteTime": {
     "end_time": "2019-01-28T15:32:54.626461Z",
     "start_time": "2019-01-28T15:32:54.611502Z"
    }
   },
   "outputs": [
    {
     "data": {
      "text/plain": [
       "(2400, 1001)"
      ]
     },
     "execution_count": 140,
     "metadata": {},
     "output_type": "execute_result"
    }
   ],
   "source": [
    "X_train_transformed.toarray().shape"
   ]
  },
  {
   "cell_type": "markdown",
   "metadata": {},
   "source": [
    "## Treinando Modelo"
   ]
  },
  {
   "cell_type": "code",
   "execution_count": 133,
   "metadata": {
    "ExecuteTime": {
     "end_time": "2019-01-28T15:23:25.123821Z",
     "start_time": "2019-01-28T15:23:23.993463Z"
    }
   },
   "outputs": [
    {
     "name": "stdout",
     "output_type": "stream",
     "text": [
      "[CV]  ................................................................\n",
      "[CV] .................................. , score=0.98375, total=   0.6s\n",
      "[CV]  ................................................................\n",
      "[CV] .................................... , score=0.985, total=   0.0s\n",
      "[CV]  ................................................................\n"
     ]
    },
    {
     "name": "stderr",
     "output_type": "stream",
     "text": [
      "[Parallel(n_jobs=1)]: Done   1 out of   1 | elapsed:    0.8s remaining:    0.0s\n",
      "[Parallel(n_jobs=1)]: Done   2 out of   2 | elapsed:    0.8s remaining:    0.0s\n"
     ]
    },
    {
     "name": "stdout",
     "output_type": "stream",
     "text": [
      "[CV] ................................... , score=0.9925, total=   0.1s\n"
     ]
    },
    {
     "name": "stderr",
     "output_type": "stream",
     "text": [
      "[Parallel(n_jobs=1)]: Done   3 out of   3 | elapsed:    1.0s finished\n"
     ]
    },
    {
     "data": {
      "text/plain": [
       "0.9870833333333334"
      ]
     },
     "execution_count": 133,
     "metadata": {},
     "output_type": "execute_result"
    }
   ],
   "source": [
    "from sklearn.linear_model import LogisticRegression\n",
    "from sklearn.model_selection import cross_val_score\n",
    "\n",
    "log_clf = LogisticRegression(random_state=42)\n",
    "score = cross_val_score(log_clf, X_train_transformed, y_train, cv=3, verbose=3)\n",
    "score.mean()"
   ]
  },
  {
   "cell_type": "markdown",
   "metadata": {},
   "source": [
    "Over 98.7%, not bad for a first try! :) However, remember that we are using the \"easy\" dataset. You can try with the harder datasets, the results won't be so amazing. You would have to try multiple models, select the best ones and fine-tune them using cross-validation, and so on.\n",
    "\n",
    "But you get the picture, so let's stop now, and just print out the precision/recall we get on the test set:"
   ]
  },
  {
   "cell_type": "code",
   "execution_count": 134,
   "metadata": {
    "ExecuteTime": {
     "end_time": "2019-01-28T15:23:52.866121Z",
     "start_time": "2019-01-28T15:23:50.573970Z"
    }
   },
   "outputs": [
    {
     "name": "stdout",
     "output_type": "stream",
     "text": [
      "Precision: 94.90%\n",
      "Recall: 97.89%\n"
     ]
    }
   ],
   "source": [
    "from sklearn.metrics import precision_score, recall_score\n",
    "\n",
    "X_test_transformed = preprocess_pipeline.transform(X_test)\n",
    "\n",
    "log_clf = LogisticRegression(random_state=42)\n",
    "log_clf.fit(X_train_transformed, y_train)\n",
    "\n",
    "y_pred = log_clf.predict(X_test_transformed)\n",
    "\n",
    "print(\"Precision: {:.2f}%\".format(100 * precision_score(y_test, y_pred)))\n",
    "print(\"Recall: {:.2f}%\".format(100 * recall_score(y_test, y_pred)))"
   ]
  },
  {
   "cell_type": "code",
   "execution_count": null,
   "metadata": {},
   "outputs": [],
   "source": []
  }
 ],
 "metadata": {
  "kernelspec": {
   "display_name": "Python 3",
   "language": "python",
   "name": "python3"
  },
<<<<<<< HEAD
=======
  "language_info": {
   "codemirror_mode": {
    "name": "ipython",
    "version": 3
   },
   "file_extension": ".py",
   "mimetype": "text/x-python",
   "name": "python",
   "nbconvert_exporter": "python",
   "pygments_lexer": "ipython3",
   "version": "3.7.3"
  },
>>>>>>> 465c7e6b7893226eeaa6ecd42108701a3bb754d4
  "toc": {
   "base_numbering": 1,
   "nav_menu": {},
   "number_sections": true,
   "sideBar": true,
   "skip_h1_title": true,
   "title_cell": "Table of Contents",
   "title_sidebar": "Contents",
   "toc_cell": true,
   "toc_position": {},
   "toc_section_display": true,
   "toc_window_display": true
  },
  "varInspector": {
   "cols": {
    "lenName": 16,
    "lenType": 16,
    "lenVar": 40
   },
   "kernels_config": {
    "python": {
     "delete_cmd_postfix": "",
     "delete_cmd_prefix": "del ",
     "library": "var_list.py",
     "varRefreshCmd": "print(var_dic_list())"
    },
    "r": {
     "delete_cmd_postfix": ") ",
     "delete_cmd_prefix": "rm(",
     "library": "var_list.r",
     "varRefreshCmd": "cat(var_dic_list()) "
    }
   },
   "types_to_exclude": [
    "module",
    "function",
    "builtin_function_or_method",
    "instance",
    "_Feature"
   ],
   "window_display": false
  }
 },
 "nbformat": 4,
 "nbformat_minor": 2
}
