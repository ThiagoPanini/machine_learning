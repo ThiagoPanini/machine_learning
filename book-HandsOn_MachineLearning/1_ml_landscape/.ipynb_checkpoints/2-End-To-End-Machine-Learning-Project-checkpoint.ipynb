{
 "cells": [
  {
   "cell_type": "markdown",
   "metadata": {
    "toc": true
   },
   "source": [
    "<h1>Table of Contents<span class=\"tocSkip\"></span></h1>\n",
    "<div class=\"toc\"><ul class=\"toc-item\"><li><span><a href=\"#Teoria\" data-toc-modified-id=\"Teoria-1\"><span class=\"toc-item-num\">1&nbsp;&nbsp;</span>Teoria</a></span></li><li><span><a href=\"#Predicting-Housing-Prices\" data-toc-modified-id=\"Predicting-Housing-Prices-2\"><span class=\"toc-item-num\">2&nbsp;&nbsp;</span>Predicting Housing Prices</a></span></li></ul></div>"
   ]
  },
  {
   "cell_type": "markdown",
   "metadata": {},
   "source": [
    "# Teoria"
   ]
  },
  {
   "cell_type": "code",
   "execution_count": null,
   "metadata": {},
   "outputs": [],
   "source": []
  },
  {
   "cell_type": "markdown",
   "metadata": {},
   "source": [
    "# Predicting Housing Prices"
   ]
  },
  {
   "cell_type": "markdown",
   "metadata": {},
   "source": [
    "Após a apresentação dos conceitos teóricos bem como sobre o problema de negócio alvo desta primeira análise, os primeiros passos para a implementação do código passam pela criação de uma **função** que automaticamente realiza o download de conjuntos de dados da internet.\n",
    "\n",
    "Esta metodologia é extremamente útil em casos onde os dados mudam rapidamente. Dessa forma, um pequeno script pode ser responsável por facilmente coletar o último conjunto de dados existentes de determinada fonte. Inclusive isto pode ser feito periodicamente em intervalos pre-definidos. Uma outra utilidade deste tipo de abordagem diz respeito a facilidade que se tem caso seja necessário baixar conjuntos de dados em diversas máquinas.\n",
    "\n",
    "_Em projetos reais, o ideal é transformar esta função em um arquivo com extensão _.py_, porém, para fins didáticos, ela pode ser tranquilamente implementada neste jupyter notebook._"
   ]
  },
  {
   "cell_type": "code",
   "execution_count": 38,
   "metadata": {},
   "outputs": [],
   "source": [
    "# Importando bibliotecas, definindo variáveis e função para extração do dataset\n",
    "import os\n",
    "import tarfile # em casos de download de arquivos .tgz (linux)\n",
    "from six.moves import urllib\n",
    "\n",
    "DOWNLOAD_ROOT = 'https://github.com/ageron/handson-ml/tree/master'\n",
    "HOUSING_PATH = os.path.join('datasets', 'housing')\n",
    "HOUSING_URL = DOWNLOAD_ROOT + 'datasets/housing/housing.csv'\n",
    "\n",
    "def fetch_housing_data(housing_url=HOUSING_URL, housing_path=HOUSING_PATH):\n",
    "    if not os.path.isdir(housing_path):\n",
    "        os.makedirs(housing_path)\n",
    "    if 'csv' in housing_url:\n",
    "        tgz_path = os.path.join(housing_path, 'housing.csv')\n",
    "        urllib.request.urlretrieve('https://github.com/ageron/handson-ml/tree/master/datasets/housing/housing.csv', tgz_path)\n",
    "        \"\"\"housing_tgz = tarfile.open(tgz_path)\n",
    "        housing_tgz.extractall(path=housing_path)\n",
    "        housing_tgz.close\"\"\""
   ]
  },
  {
   "cell_type": "code",
   "execution_count": 39,
   "metadata": {},
   "outputs": [],
   "source": [
    "# Chamando função\n",
    "fetch_housing_data()"
   ]
  },
  {
   "cell_type": "code",
   "execution_count": 5,
   "metadata": {},
   "outputs": [
    {
     "data": {
      "text/plain": [
       "True"
      ]
     },
     "execution_count": 5,
     "metadata": {},
     "output_type": "execute_result"
    }
   ],
   "source": [
    "'tgz' in HOUSING_URL"
   ]
  },
  {
   "cell_type": "code",
   "execution_count": null,
   "metadata": {},
   "outputs": [],
   "source": []
  }
 ],
 "metadata": {
  "kernelspec": {
   "display_name": "Python 3",
   "language": "python",
   "name": "python3"
  },
  "language_info": {
   "codemirror_mode": {
    "name": "ipython",
    "version": 3
   },
   "file_extension": ".py",
   "mimetype": "text/x-python",
   "name": "python",
   "nbconvert_exporter": "python",
   "pygments_lexer": "ipython3",
   "version": "3.6.4"
  },
  "toc": {
   "base_numbering": 1,
   "nav_menu": {},
   "number_sections": true,
   "sideBar": true,
   "skip_h1_title": false,
   "title_cell": "Table of Contents",
   "title_sidebar": "Contents",
   "toc_cell": true,
   "toc_position": {},
   "toc_section_display": true,
   "toc_window_display": false
  }
 },
 "nbformat": 4,
 "nbformat_minor": 2
}
