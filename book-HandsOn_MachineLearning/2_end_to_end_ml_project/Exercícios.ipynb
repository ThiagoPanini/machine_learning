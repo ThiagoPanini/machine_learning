{
 "cells": [
  {
   "cell_type": "markdown",
   "metadata": {
    "toc": true
   },
   "source": [
    "<h1>Table of Contents<span class=\"tocSkip\"></span></h1>\n",
    "<div class=\"toc\"><ul class=\"toc-item\"><li><span><a href=\"#Exercício-1---SMV-Regressor\" data-toc-modified-id=\"Exercício-1---SMV-Regressor-1\"><span class=\"toc-item-num\">1&nbsp;&nbsp;</span>Exercício 1 - SMV Regressor</a></span><ul class=\"toc-item\"><li><span><a href=\"#Aplicando-Cross-Validation\" data-toc-modified-id=\"Aplicando-Cross-Validation-1.1\"><span class=\"toc-item-num\">1.1&nbsp;&nbsp;</span>Aplicando Cross Validation</a></span></li><li><span><a href=\"#Comparando-diversos-modelos\" data-toc-modified-id=\"Comparando-diversos-modelos-1.2\"><span class=\"toc-item-num\">1.2&nbsp;&nbsp;</span>Comparando diversos modelos</a></span></li><li><span><a href=\"#Aprimorando-Resultados-(GridSearchCV)\" data-toc-modified-id=\"Aprimorando-Resultados-(GridSearchCV)-1.3\"><span class=\"toc-item-num\">1.3&nbsp;&nbsp;</span>Aprimorando Resultados (GridSearchCV)</a></span></li></ul></li><li><span><a href=\"#Exercício-2---RandomizedSearchCV\" data-toc-modified-id=\"Exercício-2---RandomizedSearchCV-2\"><span class=\"toc-item-num\">2&nbsp;&nbsp;</span>Exercício 2 - RandomizedSearchCV</a></span></li><li><span><a href=\"#Exercício-3---Pipeline\" data-toc-modified-id=\"Exercício-3---Pipeline-3\"><span class=\"toc-item-num\">3&nbsp;&nbsp;</span>Exercício 3 - Pipeline</a></span><ul class=\"toc-item\"><li><span><a href=\"#Utilizando-SVM-Regressor\" data-toc-modified-id=\"Utilizando-SVM-Regressor-3.1\"><span class=\"toc-item-num\">3.1&nbsp;&nbsp;</span>Utilizando SVM Regressor</a></span></li></ul></li><li><span><a href=\"#Exercício-4---Pipeline-Completo\" data-toc-modified-id=\"Exercício-4---Pipeline-Completo-4\"><span class=\"toc-item-num\">4&nbsp;&nbsp;</span>Exercício 4 - Pipeline Completo</a></span></li></ul></div>"
   ]
  },
  {
   "cell_type": "markdown",
   "metadata": {},
   "source": [
    "## Exercício 1 - SMV Regressor"
   ]
  },
  {
   "cell_type": "markdown",
   "metadata": {},
   "source": [
    "1 - Try a Support Vector Machine Regressor (```sklearn.svm.SVR```), with various hyperparameters such as ```kernel='linear'``` (with various values for C hyperparameters) or ```kernel='rbf'``` (with varioues values for the C and famma hyperparameters). Don't worry about what these hyperparameters mean for now. How does the best SVR predictor perform?"
   ]
  },
  {
   "cell_type": "markdown",
   "metadata": {},
   "source": [
    "Antes de iniciar o exercício, é necessário preparar os dados."
   ]
  },
  {
   "cell_type": "code",
   "execution_count": 1,
   "metadata": {},
   "outputs": [],
   "source": [
    "# Importando bibliotecas necessárias\n",
    "import pandas as pd\n",
    "import numpy as np\n",
    "from sklearn.model_selection import train_test_split, cross_val_score, GridSearchCV, StratifiedShuffleSplit\n",
    "from sklearn.metrics import mean_squared_error\n",
    "from sklearn.preprocessing import Imputer, StandardScaler\n",
    "from sklearn.base import BaseEstimator, TransformerMixin\n",
    "from future_encoders import OneHotEncoder, ColumnTransformer\n",
    "from sklearn.pipeline import Pipeline\n",
    "from sklearn.linear_model import LinearRegression\n",
    "from sklearn.tree import DecisionTreeRegressor\n",
    "from sklearn.ensemble import RandomForestRegressor\n",
    "from sklearn.svm import SVR\n",
    "from sklearn.externals import joblib"
   ]
  },
  {
   "cell_type": "code",
   "execution_count": 2,
   "metadata": {},
   "outputs": [],
   "source": [
    "# Realizando leitura do arquivo\n",
    "df = pd.read_csv('datasets/housing/housing.csv')\n",
    "\n",
    "# Separando os dados\n",
    "df['income_cat'] = np.ceil(df['median_income'] / 1.5) # Limitando valores\n",
    "df['income_cat'].where(df['income_cat'] < 5, 5.0, inplace=True)\n",
    "split = StratifiedShuffleSplit(n_splits=1, test_size=.20, random_state=42)\n",
    "\n",
    "# Criando coluna adicional\n",
    "for train_index, test_index in split.split(df, df['income_cat']):\n",
    "    strat_train_set = df.loc[train_index]\n",
    "    strat_test_set = df.loc[test_index]\n",
    "\n",
    "# Eliminando a coluna\n",
    "for set_ in (strat_train_set, strat_test_set):\n",
    "    set_.drop('income_cat', axis=1, inplace=True)\n",
    "    \n",
    "target = 'median_house_value'\n",
    "y_train, y_test = strat_train_set[target], strat_test_set[target]\n",
    "X_train, X_test = strat_train_set.drop(target, axis=1), strat_test_set.drop(target, axis=1)"
   ]
  },
  {
   "cell_type": "code",
   "execution_count": 3,
   "metadata": {},
   "outputs": [],
   "source": [
    "# Criando classe própria para combinação de atributos e utilização futura em Pipeline\n",
    "indice_rooms, indice_bedrooms, indice_pop, indice_household = 3, 4, 5, 6\n",
    "\n",
    "class CombinedAttr(BaseEstimator, TransformerMixin):\n",
    "    \n",
    "    def __init__(self, add_bedrooms_per_room=False):\n",
    "        self.add_bedrooms_per_room = add_bedrooms_per_room # Define uma combinação extra\n",
    "    \n",
    "    def fit(self, X, y=None):\n",
    "        return self\n",
    "    \n",
    "    def transform(self, X, y=None):\n",
    "        rooms_per_household = X[:, indice_rooms] / X[:, indice_household]\n",
    "        population_per_household = X[:, indice_pop] / X[:, indice_household]\n",
    "        if self.add_bedrooms_per_room:\n",
    "            bedrooms_per_room = X[:, indice_bedrooms] / X[:, indice_bedrooms]\n",
    "            return np.c_[X, rooms_per_household, population_per_household, bedrooms_per_room]\n",
    "        else:\n",
    "            return np.c_[X, rooms_per_household, population_per_household]"
   ]
  },
  {
   "cell_type": "code",
   "execution_count": 4,
   "metadata": {},
   "outputs": [],
   "source": [
    "# Preparando Pipeline\n",
    "num_attribs = list(X_train.drop('ocean_proximity', axis=1))\n",
    "cat_attribs = ['ocean_proximity']\n",
    "\n",
    "# Definindo Pipeline numérico\n",
    "num_pipeline = Pipeline([\n",
    "    ('imputer', Imputer(strategy='median')),\n",
    "    ('attribs_adder', CombinedAttr()),\n",
    "    ('std_scaler', StandardScaler())\n",
    "])\n",
    "\n",
    "# Definindo Pipeline categórico\n",
    "cat_pipeline = Pipeline([\n",
    "    ('one_hot', OneHotEncoder())\n",
    "])\n",
    "\n",
    "# Definindo Pipeline COMPLETO\n",
    "full_pipeline = ColumnTransformer([\n",
    "    ('num', num_pipeline, num_attribs),\n",
    "    ('cat', cat_pipeline, cat_attribs)\n",
    "])\n",
    "\n",
    "# Dados preparados\n",
    "X_train_prepared = full_pipeline.fit_transform(X_train)"
   ]
  },
  {
   "cell_type": "code",
   "execution_count": 5,
   "metadata": {},
   "outputs": [
    {
     "data": {
      "text/plain": [
       "SVR(C=1.0, cache_size=200, coef0=0.0, degree=3, epsilon=0.1, gamma='auto',\n",
       "  kernel='rbf', max_iter=-1, shrinking=True, tol=0.001, verbose=False)"
      ]
     },
     "execution_count": 5,
     "metadata": {},
     "output_type": "execute_result"
    }
   ],
   "source": [
    "# Criando Regressor SVM\n",
    "svm_reg = SVR()\n",
    "svm_reg.fit(X_train_prepared, y_train)"
   ]
  },
  {
   "cell_type": "code",
   "execution_count": 6,
   "metadata": {},
   "outputs": [
    {
     "name": "stdout",
     "output_type": "stream",
     "text": [
      "Predictions: [180233.37514606 180107.16200717 180153.76651084 179877.60124421\n",
      " 179538.01852982]\n",
      "Target: [452600. 358500. 352100. 341300. 342200.]\n"
     ]
    }
   ],
   "source": [
    "# Realizando alguns testes rápidos no dataset original\n",
    "some_data = df.iloc[:5]\n",
    "some_labels = df['median_house_value'].iloc[:5]\n",
    "\n",
    "# Aplicando pipeline\n",
    "some_data_prepared = full_pipeline.transform(some_data)\n",
    "\n",
    "# Verificando resultados\n",
    "predictions = svm_reg.predict(some_data_prepared)\n",
    "print(f'Predictions: {predictions}')\n",
    "print(f'Target: {some_labels.values}')"
   ]
  },
  {
   "cell_type": "markdown",
   "metadata": {},
   "source": [
    "Algo está muito errado..."
   ]
  },
  {
   "cell_type": "code",
   "execution_count": 7,
   "metadata": {},
   "outputs": [
    {
     "name": "stdout",
     "output_type": "stream",
     "text": [
      "Predictions: [407634.32088365 423201.8383078  381117.86461068 320715.50011369\n",
      " 257604.52845538]\n",
      "Target: [452600. 358500. 352100. 341300. 342200.]\n"
     ]
    }
   ],
   "source": [
    "# Testando com Linear Regression\n",
    "lin_reg = LinearRegression()\n",
    "lin_reg.fit(X_train_prepared, y_train)\n",
    "\n",
    "# Realizando alguns testes rápidos no dataset original\n",
    "some_data = df.iloc[:5]\n",
    "some_labels = df['median_house_value'].iloc[:5]\n",
    "\n",
    "# Aplicando pipeline\n",
    "some_data_prepared = full_pipeline.transform(some_data)\n",
    "\n",
    "# Verificando resultados\n",
    "predictions = lin_reg.predict(some_data_prepared)\n",
    "print(f'Predictions: {predictions}')\n",
    "print(f'Target: {some_labels.values}')"
   ]
  },
  {
   "cell_type": "markdown",
   "metadata": {},
   "source": [
    "    Realmente o SVR performou MUITO MAL. Vamos medir sua acurácia."
   ]
  },
  {
   "cell_type": "code",
   "execution_count": 8,
   "metadata": {},
   "outputs": [
    {
     "data": {
      "text/plain": [
       "118574.40937899028"
      ]
     },
     "execution_count": 8,
     "metadata": {},
     "output_type": "execute_result"
    }
   ],
   "source": [
    "# Realizando predições com o cjto de treinamento\n",
    "predictions = svm_reg.predict(X_train_prepared)\n",
    "\n",
    "# Calculando erro\n",
    "lin_mse = mean_squared_error(y_train, predictions)\n",
    "lin_rmse = np.sqrt(lin_mse)\n",
    "lin_rmse"
   ]
  },
  {
   "cell_type": "markdown",
   "metadata": {},
   "source": [
    "    Absurdamente alto. Vamos comparar com o treinamento realizado através da Regressão Linear"
   ]
  },
  {
   "cell_type": "code",
   "execution_count": 9,
   "metadata": {},
   "outputs": [
    {
     "data": {
      "text/plain": [
       "68911.7605423384"
      ]
     },
     "execution_count": 9,
     "metadata": {},
     "output_type": "execute_result"
    }
   ],
   "source": [
    "# Erro quadrático médio com Linear Regression\n",
    "predictions = lin_reg.predict(X_train_prepared)\n",
    "lin_mse = mean_squared_error(y_train, predictions)\n",
    "lin_rmse = np.sqrt(lin_mse)\n",
    "lin_rmse"
   ]
  },
  {
   "cell_type": "markdown",
   "metadata": {},
   "source": [
    "### Aplicando Cross Validation"
   ]
  },
  {
   "cell_type": "code",
   "execution_count": 10,
   "metadata": {},
   "outputs": [],
   "source": [
    "# Verificando se a cross validation melhora a situação do SVR\n",
    "from sklearn.model_selection import cross_val_score\n",
    "\n",
    "scores = cross_val_score(svm_reg, X_train_prepared, y_train,\n",
    "                        scoring='neg_mean_squared_error', cv=10)\n",
    "svm_scores = np.sqrt(-scores)"
   ]
  },
  {
   "cell_type": "markdown",
   "metadata": {},
   "source": [
    "Explicação do por que utilizar ```neg_mean_squared_error``` e não ```mean_squared_error```:\n",
    "\n",
    "*WARNING*: C:\\Users\\thiagoPanini\\Anaconda3\\lib\\site-packages\\sklearn\\metrics\\scorer.py:100: DeprecationWarning: Scoring method mean_squared_error was renamed to neg_mean_squared_error in version 0.18 and will be removed in 0.20."
   ]
  },
  {
   "cell_type": "code",
   "execution_count": 11,
   "metadata": {},
   "outputs": [
    {
     "name": "stdout",
     "output_type": "stream",
     "text": [
      "Scores: [111394.72935104 119546.16936454 116972.32667654 120457.8919817\n",
      " 117617.03814114 122308.34704619 117634.99268649 121470.90475521\n",
      " 120355.93674124 118020.53525862]\n",
      "\n",
      "Média: 118577.88720026996\n",
      "Desv Pad: 2936.2873357509266\n"
     ]
    }
   ],
   "source": [
    "# Verificando scores através de uma função\n",
    "def display_scores(scores):\n",
    "    print(f'Scores: {scores}\\n')\n",
    "    print(f'Média: {scores.mean()}')\n",
    "    print(f'Desv Pad: {scores.std()}')\n",
    "\n",
    "display_scores(svm_scores)"
   ]
  },
  {
   "cell_type": "code",
   "execution_count": 12,
   "metadata": {},
   "outputs": [
    {
     "name": "stdout",
     "output_type": "stream",
     "text": [
      "Scores: [67461.9308165  67232.2484863  68224.22888082 74716.58955656\n",
      " 68420.26897488 71610.91469695 65201.58349349 68686.9304607\n",
      " 72262.5140762  68112.28697795]\n",
      "\n",
      "Média: 69192.94964203317\n",
      "Desv Pad: 2674.144726597017\n"
     ]
    }
   ],
   "source": [
    "# Comparando com o modelo de Regressão Linear\n",
    "scores = cross_val_score(lin_reg, X_train_prepared, y_train,\n",
    "                        scoring='neg_mean_squared_error', cv=10)\n",
    "lin_reg_scores = np.sqrt(-scores)\n",
    "\n",
    "display_scores(lin_reg_scores)"
   ]
  },
  {
   "cell_type": "markdown",
   "metadata": {},
   "source": [
    "### Comparando diversos modelos"
   ]
  },
  {
   "cell_type": "code",
   "execution_count": 13,
   "metadata": {},
   "outputs": [],
   "source": [
    "# Definindo pipeline para preparação e treinamento de dados\n",
    "from sklearn.linear_model import LinearRegression\n",
    "from sklearn.svm import SVR\n",
    "from sklearn.tree import DecisionTreeRegressor\n",
    "from sklearn.ensemble import RandomForestRegressor\n",
    "\n",
    "# Definindo função para treinamento em massa\n",
    "def linear_training(X_train, y_train):\n",
    "\n",
    "    model_comparison = {\n",
    "        'algoritmo': ['linear_regression', 'svr_regressor', 'tree_regressor', 'forest_regressir'],\n",
    "        'folds_cv': [5, 5, 5, 5],\n",
    "        'score_medio': [],\n",
    "        'desv_pad': []\n",
    "    }\n",
    "    \n",
    "    # Linear Regression\n",
    "    lin_reg = LinearRegression()\n",
    "    lin_reg.fit(X_train, y_train)\n",
    "    scores = cross_val_score(lin_reg, X_train, y_train,\n",
    "                            scoring='neg_mean_squared_error', cv=5)\n",
    "    lin_reg_scores = np.sqrt(-scores)\n",
    "    print('--- Scores for Linear Regression ---\\n')\n",
    "    display_scores(lin_reg_scores)\n",
    "    print()\n",
    "    model_comparison['score_medio'].append(lin_reg_scores.mean())\n",
    "    model_comparison['desv_pad'].append(lin_reg_scores.std())\n",
    "    \n",
    "    # SVR\n",
    "    svm_reg = SVR()\n",
    "    svm_reg.fit(X_train, y_train)\n",
    "    scores = cross_val_score(svm_reg, X_train, y_train,\n",
    "                            scoring='neg_mean_squared_error', cv=5)\n",
    "    svm_reg_scores = np.sqrt(-scores)\n",
    "    print('--- Scores for SVR Regression ---\\n')\n",
    "    display_scores(svm_reg_scores)\n",
    "    print()\n",
    "    model_comparison['score_medio'].append(svm_reg_scores.mean())\n",
    "    model_comparison['desv_pad'].append(svm_reg_scores.std())\n",
    "    \n",
    "    # Decision Trees Regressor\n",
    "    tree_reg = DecisionTreeRegressor()\n",
    "    tree_reg.fit(X_train, y_train)\n",
    "    scores = cross_val_score(tree_reg, X_train, y_train,\n",
    "                            scoring='neg_mean_squared_error', cv=5)\n",
    "    tree_reg_scores = np.sqrt(-scores)\n",
    "    print('--- Scores for Decision Tree Regressor ---\\n')\n",
    "    display_scores(tree_reg_scores)\n",
    "    print()\n",
    "    model_comparison['score_medio'].append(tree_reg_scores.mean())\n",
    "    model_comparison['desv_pad'].append(tree_reg_scores.std())\n",
    "    \n",
    "    # Random Forest\n",
    "    forest_reg = RandomForestRegressor()\n",
    "    forest_reg.fit(X_train, y_train)\n",
    "    scores = cross_val_score(forest_reg, X_train, y_train,\n",
    "                            scoring='neg_mean_squared_error', cv=5)\n",
    "    forest_reg_scores = np.sqrt(-scores)\n",
    "    print('--- Scores for Random Forest Regressor ---\\n')\n",
    "    display_scores(forest_reg_scores)\n",
    "    print()\n",
    "    model_comparison['score_medio'].append(forest_reg_scores.mean())\n",
    "    model_comparison['desv_pad'].append(forest_reg_scores.std())\n",
    "    \n",
    "    # Transformando resultados em um DataFrame\n",
    "    return pd.DataFrame(model_comparison)"
   ]
  },
  {
   "cell_type": "code",
   "execution_count": 14,
   "metadata": {},
   "outputs": [
    {
     "name": "stdout",
     "output_type": "stream",
     "text": [
      "--- Scores for Linear Regression ---\n",
      "\n",
      "Scores: [67372.33386161 71377.12012377 70035.63165052 66964.20283004\n",
      " 70278.43771076]\n",
      "\n",
      "Média: 69205.54523533875\n",
      "Desv Pad: 1728.5924294123142\n",
      "\n",
      "--- Scores for SVR Regression ---\n",
      "\n",
      "Scores: [115479.88496329 118673.75282394 120053.52353855 119622.23038932\n",
      " 119298.10030231]\n",
      "\n",
      "Média: 118625.49840348284\n",
      "Desv Pad: 1635.9912075856812\n",
      "\n",
      "--- Scores for Decision Tree Regressor ---\n",
      "\n",
      "Scores: [68703.9061132  69485.1756656  74476.37100589 70696.76386639\n",
      " 74326.88731705]\n",
      "\n",
      "Média: 71537.8207936268\n",
      "Desv Pad: 2423.459123420775\n",
      "\n",
      "--- Scores for Random Forest Regressor ---\n",
      "\n",
      "Scores: [51546.52516283 53501.81727196 55364.91736532 51594.9257692\n",
      " 54574.31882794]\n",
      "\n",
      "Média: 53316.50087945089\n",
      "Desv Pad: 1543.314171133218\n",
      "\n"
     ]
    },
    {
     "data": {
      "text/html": [
       "<div>\n",
       "<style scoped>\n",
       "    .dataframe tbody tr th:only-of-type {\n",
       "        vertical-align: middle;\n",
       "    }\n",
       "\n",
       "    .dataframe tbody tr th {\n",
       "        vertical-align: top;\n",
       "    }\n",
       "\n",
       "    .dataframe thead th {\n",
       "        text-align: right;\n",
       "    }\n",
       "</style>\n",
       "<table border=\"1\" class=\"dataframe\">\n",
       "  <thead>\n",
       "    <tr style=\"text-align: right;\">\n",
       "      <th></th>\n",
       "      <th>algoritmo</th>\n",
       "      <th>desv_pad</th>\n",
       "      <th>folds_cv</th>\n",
       "      <th>score_medio</th>\n",
       "    </tr>\n",
       "  </thead>\n",
       "  <tbody>\n",
       "    <tr>\n",
       "      <th>0</th>\n",
       "      <td>linear_regression</td>\n",
       "      <td>1728.592429</td>\n",
       "      <td>5</td>\n",
       "      <td>69205.545235</td>\n",
       "    </tr>\n",
       "    <tr>\n",
       "      <th>1</th>\n",
       "      <td>svr_regressor</td>\n",
       "      <td>1635.991208</td>\n",
       "      <td>5</td>\n",
       "      <td>118625.498403</td>\n",
       "    </tr>\n",
       "    <tr>\n",
       "      <th>2</th>\n",
       "      <td>tree_regressor</td>\n",
       "      <td>2423.459123</td>\n",
       "      <td>5</td>\n",
       "      <td>71537.820794</td>\n",
       "    </tr>\n",
       "    <tr>\n",
       "      <th>3</th>\n",
       "      <td>forest_regressir</td>\n",
       "      <td>1543.314171</td>\n",
       "      <td>5</td>\n",
       "      <td>53316.500879</td>\n",
       "    </tr>\n",
       "  </tbody>\n",
       "</table>\n",
       "</div>"
      ],
      "text/plain": [
       "           algoritmo     desv_pad  folds_cv    score_medio\n",
       "0  linear_regression  1728.592429         5   69205.545235\n",
       "1      svr_regressor  1635.991208         5  118625.498403\n",
       "2     tree_regressor  2423.459123         5   71537.820794\n",
       "3   forest_regressir  1543.314171         5   53316.500879"
      ]
     },
     "execution_count": 14,
     "metadata": {},
     "output_type": "execute_result"
    }
   ],
   "source": [
    "# Chamando função\n",
    "model_comparison = linear_training(X_train_prepared, y_train)\n",
    "model_comparison"
   ]
  },
  {
   "cell_type": "markdown",
   "metadata": {},
   "source": [
    "### Aprimorando Resultados (GridSearchCV)"
   ]
  },
  {
   "cell_type": "markdown",
   "metadata": {},
   "source": [
    "Para procurar a disponibilidade dos parâmetros de cada modelo, basta acessar os métodos ```estimator.get_params().keys()```."
   ]
  },
  {
   "cell_type": "code",
   "execution_count": 15,
   "metadata": {},
   "outputs": [
    {
     "data": {
      "text/plain": [
       "dict_keys(['C', 'cache_size', 'coef0', 'degree', 'epsilon', 'gamma', 'kernel', 'max_iter', 'shrinking', 'tol', 'verbose'])"
      ]
     },
     "execution_count": 15,
     "metadata": {},
     "output_type": "execute_result"
    }
   ],
   "source": [
    "# Buscando parâmtros possíveis\n",
    "svm_reg.get_params().keys()"
   ]
  },
  {
   "cell_type": "code",
   "execution_count": 16,
   "metadata": {},
   "outputs": [
    {
     "data": {
      "text/plain": [
       "dict_keys(['copy_X', 'fit_intercept', 'n_jobs', 'normalize'])"
      ]
     },
     "execution_count": 16,
     "metadata": {},
     "output_type": "execute_result"
    }
   ],
   "source": [
    "# Já o modelo de Regressão Linear...\n",
    "lin_reg.get_params().keys()"
   ]
  },
  {
   "cell_type": "code",
   "execution_count": 17,
   "metadata": {},
   "outputs": [
    {
     "name": "stdout",
     "output_type": "stream",
     "text": [
      "Fitting 5 folds for each of 15 candidates, totalling 75 fits\n"
     ]
    },
    {
     "name": "stderr",
     "output_type": "stream",
     "text": [
      "[Parallel(n_jobs=4)]: Done  33 tasks      | elapsed:  4.0min\n",
      "[Parallel(n_jobs=4)]: Done  75 out of  75 | elapsed:  8.2min finished\n"
     ]
    },
    {
     "data": {
      "text/plain": [
       "GridSearchCV(cv=5, error_score='raise',\n",
       "       estimator=SVR(C=1.0, cache_size=200, coef0=0.0, degree=3, epsilon=0.1, gamma='auto',\n",
       "  kernel='rbf', max_iter=-1, shrinking=True, tol=0.001, verbose=False),\n",
       "       fit_params=None, iid=True, n_jobs=4,\n",
       "       param_grid=[{'kernel': ['linear'], 'C': [10.0, 30.0, 100.0]}, {'kernel': ['rbf'], 'C': [1.0, 3.0, 10.0, 30.0], 'gamma': [0.01, 0.03, 0.1]}],\n",
       "       pre_dispatch='2*n_jobs', refit=True, return_train_score='warn',\n",
       "       scoring='neg_mean_squared_error', verbose=2)"
      ]
     },
     "execution_count": 17,
     "metadata": {},
     "output_type": "execute_result"
    }
   ],
   "source": [
    "# Definindo parâmetros\n",
    "param_grid = [\n",
    "        {'kernel': ['linear'], 'C': [10., 30., 100.]}, #, 300., 1000., 3000., 10000., 30000.0]}, demora muito\n",
    "        {'kernel': ['rbf'], 'C': [1.0, 3.0, 10., 30.], #, 100., 300., 1000.0], demora muito \n",
    "         'gamma': [0.01, 0.03, 0.1]}, #, 0.3, 1.0, 3.0]}, demora muito\n",
    "    ]\n",
    "\n",
    "svm_reg = SVR()\n",
    "grid_search = GridSearchCV(svm_reg, param_grid, cv=5, scoring='neg_mean_squared_error', verbose=2, n_jobs=4)\n",
    "grid_search.fit(X_train_prepared, y_train)"
   ]
  },
  {
   "cell_type": "code",
   "execution_count": 18,
   "metadata": {},
   "outputs": [
    {
     "data": {
      "text/plain": [
       "72038.33406140901"
      ]
     },
     "execution_count": 18,
     "metadata": {},
     "output_type": "execute_result"
    }
   ],
   "source": [
    "# Verificando scores retornados pelo grid\n",
    "negative_mse = grid_search.best_score_\n",
    "rmse = np.sqrt(-negative_mse)\n",
    "rmse"
   ]
  },
  {
   "cell_type": "markdown",
   "metadata": {},
   "source": [
    "Um resultado muito mais interessante do que o anterior, porém ainda longe do encontrado pelo ```RandomForestRegressor()```. Vamos verificar a melhor combinação de hyperparâmetros encontrada."
   ]
  },
  {
   "cell_type": "code",
   "execution_count": 19,
   "metadata": {},
   "outputs": [
    {
     "data": {
      "text/plain": [
       "{'C': 100.0, 'kernel': 'linear'}"
      ]
     },
     "execution_count": 19,
     "metadata": {},
     "output_type": "execute_result"
    }
   ],
   "source": [
    "# Melhor combinação\n",
    "grid_search.best_params_"
   ]
  },
  {
   "cell_type": "markdown",
   "metadata": {},
   "source": [
    "Aparentemente, quanto maior o valor do hiperparâmetro ```C```, melhor o resultado do modelo. Uma ideia é executar novamente o ```GridSearchCV```, passando números mais elevados para este hiperparâmetro e retirando os números menores."
   ]
  },
  {
   "cell_type": "markdown",
   "metadata": {},
   "source": [
    "## Exercício 2 - RandomizedSearchCV"
   ]
  },
  {
   "cell_type": "markdown",
   "metadata": {},
   "source": [
    "2 - Try replacing ```GridSearchCV``` with ```RandomizedSearchCV```."
   ]
  },
  {
   "cell_type": "code",
   "execution_count": 1,
   "metadata": {
    "ExecuteTime": {
     "end_time": "2018-12-30T23:41:55.421066Z",
     "start_time": "2018-12-30T23:41:47.127561Z"
    }
   },
   "outputs": [],
   "source": [
    "from scipy.stats import randint as sp_randint"
   ]
  },
  {
   "cell_type": "code",
   "execution_count": 9,
   "metadata": {
    "ExecuteTime": {
     "end_time": "2018-12-30T23:42:56.358044Z",
     "start_time": "2018-12-30T23:42:56.347094Z"
    }
   },
   "outputs": [
    {
     "data": {
      "text/plain": [
       "<scipy.stats._distn_infrastructure.rv_frozen at 0x1e5bce066d8>"
      ]
     },
     "execution_count": 9,
     "metadata": {},
     "output_type": "execute_result"
    }
   ],
   "source": [
    "sp_randint(1, 11)"
   ]
  },
  {
   "cell_type": "code",
   "execution_count": 20,
   "metadata": {},
   "outputs": [
    {
     "name": "stdout",
     "output_type": "stream",
     "text": [
      "Fitting 5 folds for each of 10 candidates, totalling 50 fits\n"
     ]
    },
    {
     "name": "stderr",
     "output_type": "stream",
     "text": [
      "[Parallel(n_jobs=4)]: Done  33 tasks      | elapsed:  7.5min\n",
      "[Parallel(n_jobs=4)]: Done  50 out of  50 | elapsed: 10.6min finished\n"
     ]
    },
    {
     "data": {
      "text/plain": [
       "RandomizedSearchCV(cv=5, error_score='raise',\n",
       "          estimator=SVR(C=1.0, cache_size=200, coef0=0.0, degree=3, epsilon=0.1, gamma='auto',\n",
       "  kernel='rbf', max_iter=-1, shrinking=True, tol=0.001, verbose=False),\n",
       "          fit_params=None, iid=True, n_iter=10, n_jobs=4,\n",
       "          param_distributions={'kernel': ['linear', 'rbf'], 'C': <scipy.stats._distn_infrastructure.rv_frozen object at 0x00000237DD1EF080>, 'gamma': <scipy.stats._distn_infrastructure.rv_frozen object at 0x00000237DD1EFE48>},\n",
       "          pre_dispatch='2*n_jobs', random_state=42, refit=True,\n",
       "          return_train_score='warn', scoring='neg_mean_squared_error',\n",
       "          verbose=2)"
      ]
     },
     "execution_count": 20,
     "metadata": {},
     "output_type": "execute_result"
    }
   ],
   "source": [
    "# Realizando nova procura pelos melhores hiperparâmetros\n",
    "from sklearn.model_selection import RandomizedSearchCV\n",
    "from scipy.stats import expon, reciprocal\n",
    "\n",
    "# Detalhe: 'gamma' é ignorado quando o kernel = 'linear'\n",
    "param_distribs = {\n",
    "    'kernel': ['linear', 'rbf'],\n",
    "    'C': reciprocal(50000, 200000),\n",
    "    'gamma': expon(scale=1.0)\n",
    "}\n",
    "\n",
    "svm_reg = SVR()\n",
    "rnd_search = RandomizedSearchCV(svm_reg, param_distributions=param_distribs,\n",
    "                               n_iter=10, cv=5, scoring='neg_mean_squared_error',\n",
    "                               verbose=2, n_jobs=4, random_state=42)\n",
    "rnd_search.fit(X_train_prepared, y_train)"
   ]
  },
  {
   "cell_type": "code",
   "execution_count": 21,
   "metadata": {},
   "outputs": [
    {
     "data": {
      "text/plain": [
       "54534.48696447714"
      ]
     },
     "execution_count": 21,
     "metadata": {},
     "output_type": "execute_result"
    }
   ],
   "source": [
    "# Avaliando resultados com 5-fold cross validation\n",
    "negative_mse = rnd_search.best_score_\n",
    "rmse= np.sqrt(-negative_mse)\n",
    "rmse"
   ]
  },
  {
   "cell_type": "markdown",
   "metadata": {},
   "source": [
    "Agora sim! O modelo está competitivo! Ainda acredito que este erro é relativamente elevado, entretanto está muito melhor que nos primeiros testes. Vamos verificar qual combinação levou a este resultado."
   ]
  },
  {
   "cell_type": "code",
   "execution_count": 22,
   "metadata": {},
   "outputs": [
    {
     "data": {
      "text/plain": [
       "{'C': 192854.2631223385, 'gamma': 0.26497040005002437, 'kernel': 'rbf'}"
      ]
     },
     "execution_count": 22,
     "metadata": {},
     "output_type": "execute_result"
    }
   ],
   "source": [
    "# Verificando combinações de hiperparâmetros\n",
    "rnd_search.best_params_"
   ]
  },
  {
   "cell_type": "markdown",
   "metadata": {},
   "source": [
    "Curioso que agora o kernel selecionado foi o ```rbf```. No geral, ```RandomizedSearchCV``` tende a encontrar melhores combinações de hiperparâmetros em um mesmo intervalo de tempo. Vamos entender os métodos do ```SciPy``` utilizados: ```reciprocal()``` e ```expon()```.\n",
    "\n",
    "Documentação do módulo _stats_ do _SciPy_: https://docs.scipy.org/doc/scipy/reference/stats.html "
   ]
  },
  {
   "cell_type": "code",
   "execution_count": 23,
   "metadata": {},
   "outputs": [
    {
     "data": {
      "image/png": "[encoded data removed]",
      "text/plain": [
       "<matplotlib.figure.Figure at 0x237ec8c31d0>"
      ]
     },
     "metadata": {
      "needs_background": "light"
     },
     "output_type": "display_data"
    }
   ],
   "source": [
    "# Visualizando atribuições ao hiperparâmetro 'gamma' através do 'expon()'\n",
    "import matplotlib.pyplot as plt\n",
    "%matplotlib inline\n",
    "\n",
    "expon_distrib = expon(scale=1.)\n",
    "samples = expon_distrib.rvs(10000, random_state=42)\n",
    "plt.figure(figsize=(10, 4))\n",
    "plt.subplot(121)\n",
    "plt.title(\"Exponential distribution (scale=1.0)\")\n",
    "plt.hist(samples, bins=50)\n",
    "plt.subplot(122)\n",
    "plt.title(\"Log of this distribution\")\n",
    "plt.hist(np.log(samples), bins=50)\n",
    "plt.show()"
   ]
  },
  {
   "cell_type": "code",
   "execution_count": 24,
   "metadata": {},
   "outputs": [
    {
     "data": {
      "image/png": "[encoded data removed]",
      "text/plain": [
       "<matplotlib.figure.Figure at 0x237eca5f668>"
      ]
     },
     "metadata": {
      "needs_background": "light"
     },
     "output_type": "display_data"
    }
   ],
   "source": [
    "# Visualizando atribuições ao hiperparâmetro 'C' através do 'reciprocal()'\n",
    "reciprocal_distrib = reciprocal(20, 200000)\n",
    "samples = reciprocal_distrib.rvs(10000, random_state=42)\n",
    "plt.figure(figsize=(10, 4))\n",
    "plt.subplot(121)\n",
    "plt.title(\"Reciprocal distribution (scale=1.0)\")\n",
    "plt.hist(samples, bins=50)\n",
    "plt.subplot(122)\n",
    "plt.title(\"Log of this distribution\")\n",
    "plt.hist(np.log(samples), bins=50)\n",
    "plt.show()"
   ]
  },
  {
   "cell_type": "markdown",
   "metadata": {},
   "source": [
    "A distribuição recíproca (```reciprocal()```) é extremamente útil quando não se tem ideia de qual escala os hiperparâmetros devem estar. Por outro lado, a distribuição exponencial é mais adequado quando se tem uma pequena ideia sobre tais escalas."
   ]
  },
  {
   "cell_type": "code",
   "execution_count": 25,
   "metadata": {},
   "outputs": [],
   "source": [
    "# Criando com os demais algorítimos em um pipeline\n",
    "def model_train(df_prepared, df_labels, \n",
    "                lin_reg=False, svm_reg=False, tree_reg=False, forest_reg=False):\n",
    "    \"\"\"\n",
    "    Função que recebe dados de entrada e um algorítimo selecionado para realizar o treinamento completo\n",
    "    \"\"\"\n",
    "    # Verificando o modelo escolhido\n",
    "    if lin_reg:\n",
    "        model = LinearRegression()\n",
    "        desc = 'Linear Regression'\n",
    "    elif svm_reg:\n",
    "        model = SVR()\n",
    "        desc = 'SVM'\n",
    "    elif tree_reg:\n",
    "        model = DecisionTreeRegressor()\n",
    "        desc = 'Decision Tree Regressor'\n",
    "    elif forest_reg:\n",
    "        model = RandomForestRegressor()\n",
    "        desc = 'Random Forest Regressor'\n",
    "    else:\n",
    "        print('Nenhum modelo selecionado.')\n",
    "        return\n",
    "    \n",
    "    # Treinando e computando erro\n",
    "    model.fit(df_prepared, df_labels)\n",
    "    model_predictions = model.predict(df_prepared)\n",
    "    model_mse = mean_squared_error(df_labels, model_predictions)\n",
    "    model_rmse = np.sqrt(model_mse)\n",
    "    print(f'Erro Médio Quadrádico para {desc}: {model_rmse:.2f}')"
   ]
  },
  {
   "cell_type": "code",
   "execution_count": 26,
   "metadata": {},
   "outputs": [
    {
     "name": "stdout",
     "output_type": "stream",
     "text": [
      "Erro Médio Quadrádico para Linear Regression: 68911.76\n",
      "Erro Médio Quadrádico para SVM: 118574.41\n",
      "Erro Médio Quadrádico para Decision Tree Regressor: 0.00\n",
      "Erro Médio Quadrádico para Random Forest Regressor: 22081.84\n"
     ]
    }
   ],
   "source": [
    "model_train(X_train_prepared, y_train, lin_reg=True)\n",
    "model_train(X_train_prepared, y_train, svm_reg=True)\n",
    "model_train(X_train_prepared, y_train, tree_reg=True)\n",
    "model_train(X_train_prepared, y_train, forest_reg=True)"
   ]
  },
  {
   "cell_type": "markdown",
   "metadata": {},
   "source": [
    "## Exercício 3 - Pipeline"
   ]
  },
  {
   "cell_type": "markdown",
   "metadata": {},
   "source": [
    "3 - Try adding a transformer in the preparation pipeline to select only thre most important attributes"
   ]
  },
  {
   "cell_type": "code",
   "execution_count": 27,
   "metadata": {},
   "outputs": [
    {
     "data": {
      "text/plain": [
       "GridSearchCV(cv=5, error_score='raise',\n",
       "       estimator=RandomForestRegressor(bootstrap=True, criterion='mse', max_depth=None,\n",
       "           max_features='auto', max_leaf_nodes=None,\n",
       "           min_impurity_decrease=0.0, min_impurity_split=None,\n",
       "           min_samples_leaf=1, min_samples_split=2,\n",
       "           min_weight_fraction_leaf=0.0, n_estimators=10, n_jobs=1,\n",
       "           oob_score=False, random_state=None, verbose=0, warm_start=False),\n",
       "       fit_params=None, iid=True, n_jobs=1,\n",
       "       param_grid=[{'n_estimators': [3, 10, 30], 'max_features': [2, 4, 6, 8, 10]}, {'bootstrap': [False], 'n_estimators': [3, 10], 'max_features': [2, 3, 4, 5]}],\n",
       "       pre_dispatch='2*n_jobs', refit=True, return_train_score='warn',\n",
       "       scoring='neg_mean_squared_error', verbose=0)"
      ]
     },
     "execution_count": 27,
     "metadata": {},
     "output_type": "execute_result"
    }
   ],
   "source": [
    "# Realizando treinamento com forest_reg\n",
    "param_grid = [\n",
    "    {'n_estimators': [3, 10, 30], 'max_features': [2, 4, 6, 8, 10]},\n",
    "    {'bootstrap': [False], 'n_estimators': [3, 10], 'max_features': [2, 3, 4, 5]}\n",
    "]\n",
    "\n",
    "forest_reg = RandomForestRegressor()\n",
    "grid_search_forest = GridSearchCV(forest_reg, param_grid, cv=5, scoring='neg_mean_squared_error')\n",
    "grid_search_forest.fit(X_train_prepared, y_train)"
   ]
  },
  {
   "cell_type": "code",
   "execution_count": 44,
   "metadata": {},
   "outputs": [
    {
     "name": "stdout",
     "output_type": "stream",
     "text": [
      "65768.3311211548 {'max_features': 1, 'n_estimators': 3}\n",
      "58463.9992497956 {'max_features': 1, 'n_estimators': 10}\n",
      "57012.71223131422 {'max_features': 1, 'n_estimators': 30}\n",
      "65246.13219308834 {'max_features': 2, 'n_estimators': 3}\n",
      "58370.000974677925 {'max_features': 2, 'n_estimators': 10}\n",
      "56473.76745175456 {'max_features': 2, 'n_estimators': 30}\n",
      "65047.52274249016 {'max_features': 3, 'n_estimators': 3}\n",
      "58731.710640437734 {'max_features': 3, 'n_estimators': 10}\n",
      "56785.572765184406 {'max_features': 3, 'n_estimators': 30}\n",
      "64447.66503653773 {'max_features': 4, 'n_estimators': 3}\n",
      "59026.093089704395 {'max_features': 4, 'n_estimators': 10}\n",
      "57068.42504061862 {'max_features': 4, 'n_estimators': 30}\n",
      "64635.87082898271 {'max_features': 5, 'n_estimators': 3}\n",
      "58999.62650536829 {'max_features': 5, 'n_estimators': 10}\n",
      "57211.36921576607 {'max_features': 5, 'n_estimators': 30}\n",
      "65261.14227464895 {'bootstrap': False, 'max_features': 2, 'n_estimators': 3}\n",
      "58817.69049448026 {'bootstrap': False, 'max_features': 2, 'n_estimators': 10}\n",
      "64528.25729511665 {'bootstrap': False, 'max_features': 3, 'n_estimators': 3}\n",
      "59926.93958739937 {'bootstrap': False, 'max_features': 3, 'n_estimators': 10}\n",
      "66649.93471501983 {'bootstrap': False, 'max_features': 4, 'n_estimators': 3}\n",
      "61250.81106546088 {'bootstrap': False, 'max_features': 4, 'n_estimators': 10}\n",
      "76070.84352509907 {'bootstrap': False, 'max_features': 5, 'n_estimators': 3}\n",
      "75262.07587991774 {'bootstrap': False, 'max_features': 5, 'n_estimators': 10}\n"
     ]
    }
   ],
   "source": [
    "# Resultados\n",
    "results = grid_search_forest.cv_results_\n",
    "for mean_score, params in zip(results['mean_test_score'], results['params']):\n",
    "    print(np.sqrt(-mean_score), params)"
   ]
  },
  {
   "cell_type": "code",
   "execution_count": 45,
   "metadata": {},
   "outputs": [
    {
     "data": {
      "text/plain": [
       "56473.76745175456"
      ]
     },
     "execution_count": 45,
     "metadata": {},
     "output_type": "execute_result"
    }
   ],
   "source": [
    "negative_mse = grid_search_forest.best_score_\n",
    "rmse = np.sqrt(-negative_mse)\n",
    "rmse"
   ]
  },
  {
   "cell_type": "code",
   "execution_count": 46,
   "metadata": {},
   "outputs": [
    {
     "data": {
      "text/plain": [
       "array([0.41013061, 0.16622206, 0.16059632, 0.12894307, 0.13410794])"
      ]
     },
     "execution_count": 46,
     "metadata": {},
     "output_type": "execute_result"
    }
   ],
   "source": [
    "# Coletando feature importances\n",
    "feature_importances = grid_search_forest.best_estimator_.feature_importances_\n",
    "feature_importances"
   ]
  },
  {
   "cell_type": "code",
   "execution_count": 47,
   "metadata": {},
   "outputs": [
    {
     "data": {
      "text/plain": [
       "[(0.4101306129163207, 'longitude'),\n",
       " (0.16622206117420282, 'latitude'),\n",
       " (0.16059632329351675, 'housing_median_age'),\n",
       " (0.13410793553574904, 'total_bedrooms'),\n",
       " (0.12894306708021072, 'total_rooms')]"
      ]
     },
     "execution_count": 47,
     "metadata": {},
     "output_type": "execute_result"
    }
   ],
   "source": [
    "# Relacionando\n",
    "atributos_extra = ['rooms_per_household', 'pop_per_household']\n",
    "cat_one_hot_attribs = list(full_pipeline.named_transformers_['cat'].steps[0][1].categories_[0])\n",
    "atributos = num_attribs + atributos_extra + cat_one_hot_attribs\n",
    "\n",
    "feature_importances = sorted(zip(feature_importances, atributos), reverse=True)\n",
    "feature_importances"
   ]
  },
  {
   "cell_type": "code",
   "execution_count": 32,
   "metadata": {},
   "outputs": [],
   "source": [
    "# Criando classe para selecionar apenas os atributos mais importantes\n",
    "class ImportanceSelector(BaseEstimator, TransformerMixin):\n",
    "    \n",
    "    def __init__(self, feature_importances, atributos, n=5):\n",
    "        self.feature_importances = feature_importances\n",
    "        self.atributos = atributos\n",
    "        self.n = n\n",
    "    \n",
    "    def fit(self, X, y=None):\n",
    "        return self\n",
    "    \n",
    "    def transform(self, X, n=5, y=None): \n",
    "        \n",
    "        indices = []\n",
    "        features = []\n",
    "        for feature in feature_importances:\n",
    "            features.append(feature[1])\n",
    "        \n",
    "        for f in features[:n]:\n",
    "            indices.append(atributos.index(f))\n",
    "        \n",
    "        X = X[:, indices]\n",
    "        return X"
   ]
  },
  {
   "cell_type": "code",
   "execution_count": 33,
   "metadata": {},
   "outputs": [],
   "source": [
    "imp_sel = ImportanceSelector(feature_importances, atributos)"
   ]
  },
  {
   "cell_type": "code",
   "execution_count": 34,
   "metadata": {},
   "outputs": [
    {
     "data": {
      "text/plain": [
       "['longitude',\n",
       " 'latitude',\n",
       " 'housing_median_age',\n",
       " 'total_rooms',\n",
       " 'total_bedrooms',\n",
       " 'population',\n",
       " 'households',\n",
       " 'median_income',\n",
       " 'rooms_per_household',\n",
       " 'pop_per_household',\n",
       " '<1H OCEAN',\n",
       " 'INLAND',\n",
       " 'ISLAND',\n",
       " 'NEAR BAY',\n",
       " 'NEAR OCEAN']"
      ]
     },
     "execution_count": 34,
     "metadata": {},
     "output_type": "execute_result"
    }
   ],
   "source": [
    "atributos"
   ]
  },
  {
   "cell_type": "code",
   "execution_count": 35,
   "metadata": {},
   "outputs": [
    {
     "data": {
      "text/plain": [
       "['median_income',\n",
       " 'INLAND',\n",
       " 'pop_per_household',\n",
       " 'rooms_per_household',\n",
       " 'longitude',\n",
       " 'latitude',\n",
       " 'housing_median_age',\n",
       " 'total_rooms',\n",
       " 'population',\n",
       " 'total_bedrooms',\n",
       " 'households',\n",
       " '<1H OCEAN',\n",
       " 'NEAR OCEAN',\n",
       " 'NEAR BAY',\n",
       " 'ISLAND']"
      ]
     },
     "execution_count": 35,
     "metadata": {},
     "output_type": "execute_result"
    }
   ],
   "source": [
    "features = []\n",
    "for feature in feature_importances:\n",
    "    features.append(feature[1])\n",
    "features"
   ]
  },
  {
   "cell_type": "code",
   "execution_count": 36,
   "metadata": {},
   "outputs": [
    {
     "data": {
      "text/plain": [
       "[7, 11, 9, 8, 0]"
      ]
     },
     "execution_count": 36,
     "metadata": {},
     "output_type": "execute_result"
    }
   ],
   "source": [
    "indices = []\n",
    "for f in features[:5]:\n",
    "    indices.append(atributos.index(f))\n",
    "indices"
   ]
  },
  {
   "cell_type": "code",
   "execution_count": 37,
   "metadata": {},
   "outputs": [
    {
     "data": {
      "text/plain": [
       "15"
      ]
     },
     "execution_count": 37,
     "metadata": {},
     "output_type": "execute_result"
    }
   ],
   "source": [
    "len(atributos)"
   ]
  },
  {
   "cell_type": "code",
   "execution_count": null,
   "metadata": {},
   "outputs": [],
   "source": [
    "imp_select = ImportanceSelector(feature_importances, atributos, n=5)\n",
    "imp_select.transform(X_train_prepared)"
   ]
  },
  {
   "cell_type": "code",
   "execution_count": 39,
   "metadata": {},
   "outputs": [],
   "source": [
    "# Preparando Pipeline\n",
    "num_attribs = list(X_train.drop('ocean_proximity', axis=1))\n",
    "cat_attribs = ['ocean_proximity']\n",
    "\n",
    "# Definindo Pipeline numérico\n",
    "num_pipeline = Pipeline([\n",
    "    ('imputer', Imputer(strategy='median')),\n",
    "    ('attribs_adder', CombinedAttr()),\n",
    "    ('std_scaler', StandardScaler())\n",
    "])\n",
    "\n",
    "# Definindo Pipeline categórico\n",
    "cat_pipeline = Pipeline([\n",
    "    ('one_hot', OneHotEncoder()),\n",
    "])\n",
    "\n",
    "# Definindo Pipeline COMPLETO\n",
    "full_pipeline = ColumnTransformer([\n",
    "    ('num', num_pipeline, num_attribs),\n",
    "    ('cat', cat_pipeline, cat_attribs),\n",
    "])\n",
    "\n",
    "# Dados preparados\n",
    "X_train_prepared = full_pipeline.fit_transform(X_train)"
   ]
  },
  {
   "cell_type": "code",
   "execution_count": 40,
   "metadata": {},
   "outputs": [],
   "source": [
    "# Definindo pipeline adicional\n",
    "feature_selector = Pipeline([\n",
    "    ('best_f', ImportanceSelector(feature_importances, atributos))\n",
    "])\n",
    "\n",
    "X_importances = feature_selector.fit_transform(X_train_prepared)"
   ]
  },
  {
   "cell_type": "code",
   "execution_count": 41,
   "metadata": {},
   "outputs": [
    {
     "data": {
      "text/plain": [
       "GridSearchCV(cv=5, error_score='raise',\n",
       "       estimator=RandomForestRegressor(bootstrap=True, criterion='mse', max_depth=None,\n",
       "           max_features='auto', max_leaf_nodes=None,\n",
       "           min_impurity_decrease=0.0, min_impurity_split=None,\n",
       "           min_samples_leaf=1, min_samples_split=2,\n",
       "           min_weight_fraction_leaf=0.0, n_estimators=10, n_jobs=1,\n",
       "           oob_score=False, random_state=None, verbose=0, warm_start=False),\n",
       "       fit_params=None, iid=True, n_jobs=1,\n",
       "       param_grid=[{'n_estimators': [3, 10, 30], 'max_features': [1, 2, 3, 4, 5]}, {'bootstrap': [False], 'n_estimators': [3, 10], 'max_features': [2, 3, 4, 5]}],\n",
       "       pre_dispatch='2*n_jobs', refit=True, return_train_score='warn',\n",
       "       scoring='neg_mean_squared_error', verbose=0)"
      ]
     },
     "execution_count": 41,
     "metadata": {},
     "output_type": "execute_result"
    }
   ],
   "source": [
    "# Realizando treinamento com forest_reg\n",
    "param_grid = [\n",
    "    {'n_estimators': [3, 10, 30], 'max_features': [1, 2, 3, 4, 5]},\n",
    "    {'bootstrap': [False], 'n_estimators': [3, 10], 'max_features': [2, 3, 4, 5]}\n",
    "]\n",
    "\n",
    "forest_reg = RandomForestRegressor()\n",
    "grid_search_forest = GridSearchCV(forest_reg, param_grid, cv=5, scoring='neg_mean_squared_error')\n",
    "grid_search_forest.fit(X_importances, y_train)"
   ]
  },
  {
   "cell_type": "code",
   "execution_count": 42,
   "metadata": {},
   "outputs": [
    {
     "data": {
      "text/plain": [
       "RandomForestRegressor(bootstrap=True, criterion='mse', max_depth=None,\n",
       "           max_features=2, max_leaf_nodes=None, min_impurity_decrease=0.0,\n",
       "           min_impurity_split=None, min_samples_leaf=1,\n",
       "           min_samples_split=2, min_weight_fraction_leaf=0.0,\n",
       "           n_estimators=30, n_jobs=1, oob_score=False, random_state=None,\n",
       "           verbose=0, warm_start=False)"
      ]
     },
     "execution_count": 42,
     "metadata": {},
     "output_type": "execute_result"
    }
   ],
   "source": [
    "grid_search_forest.best_estimator_"
   ]
  },
  {
   "cell_type": "code",
   "execution_count": 43,
   "metadata": {},
   "outputs": [
    {
     "data": {
      "text/plain": [
       "56473.76745175456"
      ]
     },
     "execution_count": 43,
     "metadata": {},
     "output_type": "execute_result"
    }
   ],
   "source": [
    "negative_mse = grid_search_forest.best_score_\n",
    "rmse = np.sqrt(-negative_mse)\n",
    "rmse"
   ]
  },
  {
   "cell_type": "markdown",
   "metadata": {},
   "source": [
    "Os valores se mantiveram iguais!"
   ]
  },
  {
   "cell_type": "code",
   "execution_count": 48,
   "metadata": {},
   "outputs": [
    {
     "name": "stdout",
     "output_type": "stream",
     "text": [
      "65768.3311211548 {'max_features': 1, 'n_estimators': 3}\n",
      "58463.9992497956 {'max_features': 1, 'n_estimators': 10}\n",
      "57012.71223131422 {'max_features': 1, 'n_estimators': 30}\n",
      "65246.13219308834 {'max_features': 2, 'n_estimators': 3}\n",
      "58370.000974677925 {'max_features': 2, 'n_estimators': 10}\n",
      "56473.76745175456 {'max_features': 2, 'n_estimators': 30}\n",
      "65047.52274249016 {'max_features': 3, 'n_estimators': 3}\n",
      "58731.710640437734 {'max_features': 3, 'n_estimators': 10}\n",
      "56785.572765184406 {'max_features': 3, 'n_estimators': 30}\n",
      "64447.66503653773 {'max_features': 4, 'n_estimators': 3}\n",
      "59026.093089704395 {'max_features': 4, 'n_estimators': 10}\n",
      "57068.42504061862 {'max_features': 4, 'n_estimators': 30}\n",
      "64635.87082898271 {'max_features': 5, 'n_estimators': 3}\n",
      "58999.62650536829 {'max_features': 5, 'n_estimators': 10}\n",
      "57211.36921576607 {'max_features': 5, 'n_estimators': 30}\n",
      "65261.14227464895 {'bootstrap': False, 'max_features': 2, 'n_estimators': 3}\n",
      "58817.69049448026 {'bootstrap': False, 'max_features': 2, 'n_estimators': 10}\n",
      "64528.25729511665 {'bootstrap': False, 'max_features': 3, 'n_estimators': 3}\n",
      "59926.93958739937 {'bootstrap': False, 'max_features': 3, 'n_estimators': 10}\n",
      "66649.93471501983 {'bootstrap': False, 'max_features': 4, 'n_estimators': 3}\n",
      "61250.81106546088 {'bootstrap': False, 'max_features': 4, 'n_estimators': 10}\n",
      "76070.84352509907 {'bootstrap': False, 'max_features': 5, 'n_estimators': 3}\n",
      "75262.07587991774 {'bootstrap': False, 'max_features': 5, 'n_estimators': 10}\n"
     ]
    }
   ],
   "source": [
    "results = grid_search_forest.cv_results_\n",
    "for mean_score, params in zip(results['mean_test_score'], results['params']):\n",
    "    print(np.sqrt(-mean_score), params)"
   ]
  },
  {
   "cell_type": "markdown",
   "metadata": {},
   "source": [
    "### Utilizando SVM Regressor"
   ]
  },
  {
   "cell_type": "code",
   "execution_count": 49,
   "metadata": {},
   "outputs": [],
   "source": [
    "# Preparando Pipeline\n",
    "num_attribs = list(X_train.drop('ocean_proximity', axis=1))\n",
    "cat_attribs = ['ocean_proximity']\n",
    "\n",
    "# Definindo Pipeline numérico\n",
    "num_pipeline = Pipeline([\n",
    "    ('imputer', Imputer(strategy='median')),\n",
    "    ('attribs_adder', CombinedAttr()),\n",
    "    ('std_scaler', StandardScaler())\n",
    "])\n",
    "\n",
    "# Definindo Pipeline categórico\n",
    "cat_pipeline = Pipeline([\n",
    "    ('one_hot', OneHotEncoder()),\n",
    "])\n",
    "\n",
    "selector_pipeline = Pipeline([\n",
    "    ('importance', ImportanceSelector(feature_importances, atributos))\n",
    "])\n",
    "\n",
    "# Definindo Pipeline COMPLETO\n",
    "full_pipeline = ColumnTransformer([\n",
    "    ('num', num_pipeline, num_attribs),\n",
    "    ('cat', cat_pipeline, cat_attribs),\n",
    "])\n",
    "\n",
    "# Dados preparados\n",
    "X_train_prepared = full_pipeline.fit_transform(X_train)"
   ]
  },
  {
   "cell_type": "code",
   "execution_count": 50,
   "metadata": {},
   "outputs": [],
   "source": [
    "# Pipeline importance\n",
    "X_importance = selector_pipeline.fit_transform(X_train_prepared)"
   ]
  },
  {
   "cell_type": "code",
   "execution_count": 51,
   "metadata": {},
   "outputs": [
    {
     "name": "stdout",
     "output_type": "stream",
     "text": [
      "Fitting 5 folds for each of 10 candidates, totalling 50 fits\n"
     ]
    },
    {
     "name": "stderr",
     "output_type": "stream",
     "text": [
      "[Parallel(n_jobs=4)]: Done  33 tasks      | elapsed:  2.8min\n",
      "[Parallel(n_jobs=4)]: Done  50 out of  50 | elapsed:  4.0min finished\n"
     ]
    },
    {
     "data": {
      "text/plain": [
       "RandomizedSearchCV(cv=5, error_score='raise',\n",
       "          estimator=SVR(C=1.0, cache_size=200, coef0=0.0, degree=3, epsilon=0.1, gamma='auto',\n",
       "  kernel='rbf', max_iter=-1, shrinking=True, tol=0.001, verbose=False),\n",
       "          fit_params=None, iid=True, n_iter=10, n_jobs=4,\n",
       "          param_distributions={'kernel': ['linear', 'rbf'], 'C': <scipy.stats._distn_infrastructure.rv_frozen object at 0x00000237ECC78E10>, 'gamma': <scipy.stats._distn_infrastructure.rv_frozen object at 0x00000237ECC78DA0>},\n",
       "          pre_dispatch='2*n_jobs', random_state=42, refit=True,\n",
       "          return_train_score='warn', scoring='neg_mean_squared_error',\n",
       "          verbose=2)"
      ]
     },
     "execution_count": 51,
     "metadata": {},
     "output_type": "execute_result"
    }
   ],
   "source": [
    "# Realizando nova procura pelos melhores hiperparâmetros\n",
    "from sklearn.model_selection import RandomizedSearchCV\n",
    "from scipy.stats import expon, reciprocal\n",
    "\n",
    "# Detalhe: 'gamma' é ignorado quando o kernel = 'linear'\n",
    "param_distribs = {\n",
    "    'kernel': ['linear', 'rbf'],\n",
    "    'C': reciprocal(50000, 200000),\n",
    "    'gamma': expon(scale=1.0)\n",
    "}\n",
    "\n",
    "svm_reg = SVR()\n",
    "rnd_search = RandomizedSearchCV(svm_reg, param_distributions=param_distribs,\n",
    "                               n_iter=10, cv=5, scoring='neg_mean_squared_error',\n",
    "                               verbose=2, n_jobs=4, random_state=42)\n",
    "rnd_search.fit(X_importance, y_train)"
   ]
  },
  {
   "cell_type": "markdown",
   "metadata": {},
   "source": [
    "Primeiro ponto: demorou muito menos tempo"
   ]
  },
  {
   "cell_type": "code",
   "execution_count": 52,
   "metadata": {},
   "outputs": [
    {
     "data": {
      "text/plain": [
       "76184.17479686238"
      ]
     },
     "execution_count": 52,
     "metadata": {},
     "output_type": "execute_result"
    }
   ],
   "source": [
    "# Avaliando resultados com 5-fold cross validation\n",
    "negative_mse = rnd_search.best_score_\n",
    "rmse= np.sqrt(-negative_mse)\n",
    "rmse"
   ]
  },
  {
   "cell_type": "markdown",
   "metadata": {},
   "source": [
    "Porém o resultado não foi tão bom."
   ]
  },
  {
   "cell_type": "markdown",
   "metadata": {},
   "source": [
    "Testando com GridSearchCV"
   ]
  },
  {
   "cell_type": "code",
   "execution_count": 53,
   "metadata": {},
   "outputs": [
    {
     "name": "stdout",
     "output_type": "stream",
     "text": [
      "Fitting 5 folds for each of 15 candidates, totalling 75 fits\n"
     ]
    },
    {
     "name": "stderr",
     "output_type": "stream",
     "text": [
      "[Parallel(n_jobs=4)]: Done  33 tasks      | elapsed:  2.4min\n",
      "[Parallel(n_jobs=4)]: Done  75 out of  75 | elapsed:  5.4min finished\n"
     ]
    },
    {
     "data": {
      "text/plain": [
       "GridSearchCV(cv=5, error_score='raise',\n",
       "       estimator=SVR(C=1.0, cache_size=200, coef0=0.0, degree=3, epsilon=0.1, gamma='auto',\n",
       "  kernel='rbf', max_iter=-1, shrinking=True, tol=0.001, verbose=False),\n",
       "       fit_params=None, iid=True, n_jobs=4,\n",
       "       param_grid=[{'kernel': ['linear'], 'C': [10.0, 30.0, 100.0]}, {'kernel': ['rbf'], 'C': [1.0, 3.0, 10.0, 30.0], 'gamma': [0.01, 0.03, 0.1]}],\n",
       "       pre_dispatch='2*n_jobs', refit=True, return_train_score='warn',\n",
       "       scoring='neg_mean_squared_error', verbose=2)"
      ]
     },
     "execution_count": 53,
     "metadata": {},
     "output_type": "execute_result"
    }
   ],
   "source": [
    "param_grid = [\n",
    "        {'kernel': ['linear'], 'C': [10., 30., 100.]}, #, 300., 1000., 3000., 10000., 30000.0]}, demora muito\n",
    "        {'kernel': ['rbf'], 'C': [1.0, 3.0, 10., 30.], #, 100., 300., 1000.0], demora muito \n",
    "         'gamma': [0.01, 0.03, 0.1]}, #, 0.3, 1.0, 3.0]}, demora muito\n",
    "    ]\n",
    "\n",
    "svm_reg = SVR()\n",
    "grid_search = GridSearchCV(svm_reg, param_grid, cv=5, scoring='neg_mean_squared_error', verbose=2, n_jobs=4)\n",
    "grid_search.fit(X_importance, y_train)"
   ]
  },
  {
   "cell_type": "code",
   "execution_count": 54,
   "metadata": {},
   "outputs": [
    {
     "data": {
      "text/plain": [
       "104697.0159209443"
      ]
     },
     "execution_count": 54,
     "metadata": {},
     "output_type": "execute_result"
    }
   ],
   "source": [
    "negative_mse = grid_search.best_score_\n",
    "rmse = np.sqrt(-negative_mse)\n",
    "rmse"
   ]
  },
  {
   "cell_type": "markdown",
   "metadata": {},
   "source": [
    "Conclusão: Tempo menor no SVR, porém qualidade não tão significativa"
   ]
  },
  {
   "cell_type": "markdown",
   "metadata": {},
   "source": [
    "## Exercício 4 - Pipeline Completo"
   ]
  },
  {
   "cell_type": "code",
   "execution_count": 55,
   "metadata": {},
   "outputs": [],
   "source": [
    "# Realizando leitura do arquivo\n",
    "import pandas as pd\n",
    "from sklearn.model_selection import StratifiedShuffleSplit\n",
    "import numpy as np\n",
    "\n",
    "df = pd.read_csv('datasets/housing/housing.csv')\n",
    "\n",
    "# Separando os dados\n",
    "df['income_cat'] = np.ceil(df['median_income'] / 1.5) # Limitando valores\n",
    "df['income_cat'].where(df['income_cat'] < 5, 5.0, inplace=True)\n",
    "split = StratifiedShuffleSplit(n_splits=1, test_size=.20, random_state=42)\n",
    "\n",
    "# Criando coluna adicional\n",
    "for train_index, test_index in split.split(df, df['income_cat']):\n",
    "    strat_train_set = df.loc[train_index]\n",
    "    strat_test_set = df.loc[test_index]\n",
    "\n",
    "# Eliminando a coluna\n",
    "for set_ in (strat_train_set, strat_test_set):\n",
    "    set_.drop('income_cat', axis=1, inplace=True)\n",
    "    \n",
    "target = 'median_house_value'\n",
    "y_train, y_test = strat_train_set[target], strat_test_set[target]\n",
    "X_train, X_test = strat_train_set.drop(target, axis=1), strat_test_set.drop(target, axis=1)"
   ]
  },
  {
   "cell_type": "code",
   "execution_count": 56,
   "metadata": {},
   "outputs": [],
   "source": [
    "# Criando classe própria para combinação de atributos e utilização futura em Pipeline\n",
    "from sklearn.base import BaseEstimator, TransformerMixin\n",
    "\n",
    "indice_rooms, indice_bedrooms, indice_pop, indice_household = 3, 4, 5, 6\n",
    "\n",
    "class CombinedAttr(BaseEstimator, TransformerMixin):\n",
    "    \n",
    "    def __init__(self, add_bedrooms_per_room=False):\n",
    "        self.add_bedrooms_per_room = add_bedrooms_per_room # Define uma combinação extra\n",
    "    \n",
    "    def fit(self, X, y=None):\n",
    "        return self\n",
    "    \n",
    "    def transform(self, X, y=None):\n",
    "        rooms_per_household = X[:, indice_rooms] / X[:, indice_household]\n",
    "        population_per_household = X[:, indice_pop] / X[:, indice_household]\n",
    "        if self.add_bedrooms_per_room:\n",
    "            bedrooms_per_room = X[:, indice_bedrooms] / X[:, indice_bedrooms]\n",
    "            return np.c_[X, rooms_per_household, population_per_household, bedrooms_per_room]\n",
    "        else:\n",
    "            return np.c_[X, rooms_per_household, population_per_household]"
   ]
  },
  {
   "cell_type": "code",
   "execution_count": 57,
   "metadata": {},
   "outputs": [],
   "source": [
    "# Preparando Pipeline\n",
    "from sklearn.pipeline import Pipeline\n",
    "from sklearn.preprocessing import Imputer, StandardScaler\n",
    "from future_encoders import OneHotEncoder, ColumnTransformer\n",
    "\n",
    "num_attribs = list(X_train.drop('ocean_proximity', axis=1))\n",
    "cat_attribs = ['ocean_proximity']\n",
    "\n",
    "# Definindo Pipeline numérico\n",
    "num_pipeline = Pipeline([\n",
    "    ('imputer', Imputer(strategy='median')),\n",
    "    ('attribs_adder', CombinedAttr()),\n",
    "    ('std_scaler', StandardScaler())\n",
    "])\n",
    "\n",
    "# Definindo Pipeline categórico\n",
    "cat_pipeline = Pipeline([\n",
    "    ('one_hot', OneHotEncoder())\n",
    "])\n",
    "\n",
    "# Definindo Pipeline COMPLETO\n",
    "full_pipeline = ColumnTransformer([\n",
    "    ('num', num_pipeline, num_attribs),\n",
    "    ('cat', cat_pipeline, cat_attribs)\n",
    "])"
   ]
  },
  {
   "cell_type": "code",
   "execution_count": 58,
   "metadata": {},
   "outputs": [],
   "source": [
    "# Pipeline completo\n",
    "from sklearn.ensemble import RandomForestRegressor\n",
    "\n",
    "full_pipeline_with_predictor = Pipeline([\n",
    "        (\"preparation\", full_pipeline),\n",
    "        (\"forest\", RandomForestRegressor())\n",
    "    ])"
   ]
  },
  {
   "cell_type": "code",
   "execution_count": 59,
   "metadata": {},
   "outputs": [
    {
     "data": {
      "text/plain": [
       "Pipeline(memory=None,\n",
       "     steps=[('preparation', ColumnTransformer(n_jobs=1, remainder='drop', sparse_threshold=0.3,\n",
       "         transformer_weights=None,\n",
       "         transformers=[('num', Pipeline(memory=None,\n",
       "     steps=[('imputer', Imputer(axis=0, copy=True, missing_values='NaN', strategy='median', verbose=0)), ('attribs_adder'...timators=10, n_jobs=1,\n",
       "           oob_score=False, random_state=None, verbose=0, warm_start=False))])"
      ]
     },
     "execution_count": 59,
     "metadata": {},
     "output_type": "execute_result"
    }
   ],
   "source": [
    "# Chamando pipeline completo\n",
    "full_pipeline_with_predictor.fit(X_train, y_train)"
   ]
  },
  {
   "cell_type": "code",
   "execution_count": 60,
   "metadata": {},
   "outputs": [
    {
     "data": {
      "text/plain": [
       "array([266080., 323070., 234360.,  49930., 239560.])"
      ]
     },
     "execution_count": 60,
     "metadata": {},
     "output_type": "execute_result"
    }
   ],
   "source": [
    "full_pipeline_with_predictor.predict(X_train[:5])"
   ]
  },
  {
   "cell_type": "code",
   "execution_count": 61,
   "metadata": {},
   "outputs": [
    {
     "data": {
      "text/plain": [
       "17606    286600.0\n",
       "18632    340600.0\n",
       "14650    196900.0\n",
       "3230      46300.0\n",
       "3555     254500.0\n",
       "Name: median_house_value, dtype: float64"
      ]
     },
     "execution_count": 61,
     "metadata": {},
     "output_type": "execute_result"
    }
   ],
   "source": [
    "y_train[:5]"
   ]
  },
  {
   "cell_type": "code",
   "execution_count": null,
   "metadata": {},
   "outputs": [],
   "source": [
    "# Buscando a melhor combinação para RandomForestRegressor\n",
    "from sklearn.model_selection import GridSearchCV\n",
    "\n",
    "# Definindo parâmetros\n",
    "param_grid = [\n",
    "    {'n_estimators': [3, 10, 30], 'max_features': [1, 2, 3, 4, 5]},\n",
    "    {'bootstrap': [False], 'n_estimators': [3, 10], 'max_features': [2, 3, 4, 5]}\n",
    "]\n",
    "\n",
    "# Criando regressor\n",
    "forest_reg = RandomForestRegressor()\n",
    "\n",
    "# Treinando e procurando a melhor combinação\n",
    "grid_search = GridSearchCV(forest_reg, param_grid, cv=5, scoring='neg_mean_squared_error')\n",
    "grid_search.fit(X_train_prepared, y_train)\n",
    "\n",
    "negative_mse = grid_search.best_score_\n",
    "rmse = np.sqrt(-negative_mse)\n",
    "rmse"
   ]
  },
  {
   "cell_type": "code",
   "execution_count": null,
   "metadata": {},
   "outputs": [],
   "source": [
    "full_pipeline_with_predictor.predict(X_train[:5])"
   ]
  },
  {
   "cell_type": "code",
   "execution_count": null,
   "metadata": {},
   "outputs": [],
   "source": [
    "from sklearn.base import BaseEstimator, TransformerMixin\n",
    "\n",
    "def indices_of_top_k(arr, k):\n",
    "    return np.sort(np.argpartition(np.array(arr), -k)[-k:])\n",
    "\n",
    "class TopFeatureSelector(BaseEstimator, TransformerMixin):\n",
    "    def __init__(self, feature_importances, k):\n",
    "        self.feature_importances = feature_importances\n",
    "        self.k = k\n",
    "    def fit(self, X, y=None):\n",
    "        self.feature_indices_ = indices_of_top_k(self.feature_importances, self.k)\n",
    "        return self\n",
    "    def transform(self, X):\n",
    "        return X[:, self.feature_indices_]"
   ]
  },
  {
   "cell_type": "code",
   "execution_count": null,
   "metadata": {},
   "outputs": [],
   "source": [
    "prepare_select_and_predict_pipeline = Pipeline([\n",
    "    ('preparation', full_pipeline),\n",
    "    ('feature_selection', TopFeatureSelector(feature_importances, k)),\n",
    "    ('forest_reg', RandomForestRegressor(**rnd_search.best_params_))\n",
    "])"
   ]
  },
  {
   "cell_type": "code",
   "execution_count": null,
   "metadata": {},
   "outputs": [],
   "source": [
    "# Importando bibliotecas necessárias\n",
    "import pandas as pd\n",
    "import numpy as np\n",
    "from sklearn.model_selection import train_test_split, cross_val_score, GridSearchCV, StratifiedShuffleSplit\n",
    "from sklearn.metrics import mean_squared_error\n",
    "from sklearn.preprocessing import Imputer, StandardScaler\n",
    "from sklearn.base import BaseEstimator, TransformerMixin\n",
    "from future_encoders import OneHotEncoder, ColumnTransformer\n",
    "from sklearn.pipeline import Pipeline\n",
    "from sklearn.linear_model import LinearRegression\n",
    "from sklearn.tree import DecisionTreeRegressor\n",
    "from sklearn.ensemble import RandomForestRegressor\n",
    "from sklearn.svm import SVR\n",
    "from sklearn.externals import joblib"
   ]
  }
 ],
 "metadata": {
  "kernelspec": {
   "display_name": "Python 3",
   "language": "python",
   "name": "python3"
  },
  "language_info": {
   "codemirror_mode": {
    "name": "ipython",
    "version": 3
   },
   "file_extension": ".py",
   "mimetype": "text/x-python",
   "name": "python",
   "nbconvert_exporter": "python",
   "pygments_lexer": "ipython3",
   "version": "3.7.3"
  },
  "toc": {
   "base_numbering": 1,
   "nav_menu": {},
   "number_sections": true,
   "sideBar": true,
   "skip_h1_title": true,
   "title_cell": "Table of Contents",
   "title_sidebar": "Contents",
   "toc_cell": true,
   "toc_position": {
    "height": "calc(100% - 180px)",
    "left": "10px",
    "top": "150px",
    "width": "331px"
   },
   "toc_section_display": true,
   "toc_window_display": true
  },
  "varInspector": {
   "cols": {
    "lenName": 16,
    "lenType": 16,
    "lenVar": 40
   },
   "kernels_config": {
    "python": {
     "delete_cmd_postfix": "",
     "delete_cmd_prefix": "del ",
     "library": "var_list.py",
     "varRefreshCmd": "print(var_dic_list())"
    },
    "r": {
     "delete_cmd_postfix": ") ",
     "delete_cmd_prefix": "rm(",
     "library": "var_list.r",
     "varRefreshCmd": "cat(var_dic_list()) "
    }
   },
   "types_to_exclude": [
    "module",
    "function",
    "builtin_function_or_method",
    "instance",
    "_Feature"
   ],
   "window_display": false
  }
 },
 "nbformat": 4,
 "nbformat_minor": 2
}
