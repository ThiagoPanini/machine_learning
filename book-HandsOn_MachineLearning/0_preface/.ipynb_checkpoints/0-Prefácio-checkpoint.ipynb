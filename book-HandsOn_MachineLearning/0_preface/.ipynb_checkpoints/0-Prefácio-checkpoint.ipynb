{
 "cells": [
  {
   "cell_type": "markdown",
   "metadata": {
    "toc": true
   },
   "source": [
    "<h1>Table of Contents<span class=\"tocSkip\"></span></h1>\n",
    "<div class=\"toc\"><ul class=\"toc-item\"><li><span><a href=\"#Introdução-a-Machine-Learning\" data-toc-modified-id=\"Introdução-a-Machine-Learning-1\"><span class=\"toc-item-num\">1&nbsp;&nbsp;</span>Introdução a Machine Learning</a></span></li><li><span><a href=\"#Objetivo\" data-toc-modified-id=\"Objetivo-2\"><span class=\"toc-item-num\">2&nbsp;&nbsp;</span>Objetivo</a></span></li><li><span><a href=\"#Pré-requisitos\" data-toc-modified-id=\"Pré-requisitos-3\"><span class=\"toc-item-num\">3&nbsp;&nbsp;</span>Pré-requisitos</a></span></li><li><span><a href=\"#Roteiro\" data-toc-modified-id=\"Roteiro-4\"><span class=\"toc-item-num\">4&nbsp;&nbsp;</span>Roteiro</a></span></li><li><span><a href=\"#Links-Úteis-e-Referências\" data-toc-modified-id=\"Links-Úteis-e-Referências-5\"><span class=\"toc-item-num\">5&nbsp;&nbsp;</span>Links Úteis e Referências</a></span></li></ul></div>"
   ]
  },
  {
   "cell_type": "markdown",
   "metadata": {},
   "source": [
    "# Introdução a Machine Learning"
   ]
  },
  {
   "cell_type": "markdown",
   "metadata": {},
   "source": [
    "Em 2006, Geoffrey Hinton et al. publicaram um _paper_ mostrando como treinar uma rede neural profunda capaz de reconhecer dígitos manuscritos com uma precisão maior que 98%. Esta técnica foi denominada pelos autores como _Deep Learning_. Naquela época, treinar uma rede neural profunda era impossível e muitos pesquisadores abandonaram a ideia.\n",
    "\n",
    "Atualmente, técnicas de Machine Learning são a verdadeira paixão das indústrias e soam como mágica à produtos tecnológicos de diversos segmentos. Com seus algorítimos, é possível:\n",
    "\n",
    "* <font size=3> Segmentar clientes e encontrar a melhor estratégia de marketing para cada grupo; </font>\n",
    "* <font size=3> Recomendar produtos para cada cliente baseado em seu histórico de compras; </font>\n",
    "* <font size=3> Detectar possíveis transações fraudulentas; </font>\n",
    "* <font size=3> Prever receitas financeiras de anos posteriores; </font>\n",
    "* <font size=3> E muito mais [7-use-cases-for-Data-Science](https://towardsdatascience.com/7-use-cases-for-data-science-and-predictive-analytics-e3616e9331f9) </font>"
   ]
  },
  {
   "cell_type": "markdown",
   "metadata": {},
   "source": [
    "# Objetivo"
   ]
  },
  {
   "cell_type": "markdown",
   "metadata": {},
   "source": [
    "O livro _Hands-On Machine Learning with Scikit-Learn and Tensor Flow_ de _Aurélien Géron_ publicado pela editora _O'Reilly_ tem por objetivo cobrir diversas técnicas de Aprendizado, desde as mais simples e comuns (como Regressões Lineares) até as mais complexas (técnicas Deep Learning que normalmente vencem competições no ramo). Para tal, serão abordadas duas pricipais bibliotecas oferecidas pela linguagem Python:"
   ]
  },
  {
   "cell_type": "markdown",
   "metadata": {},
   "source": [
    "\n",
    "* <font size=3> **_Sickit-Learn_** (http://scikit-learn.org/) é uma biblioteca de implementação simples que traz uma série de algorítimos de Machine Learning de forma eficiente; </font>"
   ]
  },
  {
   "cell_type": "markdown",
   "metadata": {},
   "source": [
    "* <font size=3> **_TensorFlow_** (https://www.tensorflow.org/) fornece um ambiente um pouco mais complexo para computação distribuída utilizando grafos. Com ela, é possível treinar uma grande quantidade de redes neurais através de processamento paralelo. TensorFlow foi desenvolvida pela Google e se tornou open-source em Novembro de 2015. </font>\n"
   ]
  },
  {
   "cell_type": "markdown",
   "metadata": {},
   "source": [
    "# Pré-requisitos"
   ]
  },
  {
   "cell_type": "markdown",
   "metadata": {},
   "source": [
    "Para um bom aproveitamento nos estudos, é de extrema importância que se tenha familiaridade com algumas da bibliotecas essenciais de Python para Análise de dados, em particular:"
   ]
  },
  {
   "cell_type": "markdown",
   "metadata": {},
   "source": [
    "* <font size=3> **_NumPy_** (http://www.numpy.org/); </font>"
   ]
  },
  {
   "cell_type": "markdown",
   "metadata": {},
   "source": [
    "* <font size=3> **_Pandas_** (https://pandas.pydata.org/); </font>"
   ]
  },
  {
   "cell_type": "markdown",
   "metadata": {},
   "source": [
    "* <font size=3> **_Matplotlib_** (https://matplotlib.org/); </font>"
   ]
  },
  {
   "cell_type": "markdown",
   "metadata": {},
   "source": [
    "Conhecimentos medianos em Cálculo Numérico, Álgebra Linear, Probabilidade e Estatística também são fundamentais. Sobre a linguagem de programação, é necessário conhecer pelo menos o básico de Python e, caso haja uma defasagem no conteúdo, o link a seguir pode ser de grande utilidade (https://www.learnpython.org/)."
   ]
  },
  {
   "cell_type": "markdown",
   "metadata": {},
   "source": [
    "# Roteiro"
   ]
  },
  {
   "cell_type": "markdown",
   "metadata": {},
   "source": [
    "Parte 1:\n",
    "* O que é Machine Learning? Quais problemas podem ser resolvidos? Quais as principais categorias e conceitos fundamentais de sistemas de Machine Learning?\n",
    "* Os principais passos de um projeto de Machine Learning.\n",
    "* Aprendendo através do ajuste de um modelo à um conjunto de dados.\n",
    "* Otimizando a _Cost Function_.\n",
    "* Preparando e limpando os dados.\n",
    "* Selecionando e trabalhando nas _features_.\n",
    "* Selecionando um modelo e tunando hiperparâmetros usando _cross validation_.\n",
    "* Underfitting e Overfittins (bias/variance tradeoff).\n",
    "* Redução de dimensionalidade.\n",
    "* Principais algorítimos de Machine Learning\n",
    "    - _Regressão Linear e Polinomial_;\n",
    "    - _Regressão Logística_;\n",
    "    - _k-Nearest Neighbors (kNN)_;\n",
    "    - _Support Vector Machines (SVM)_;\n",
    "    - _Decision Thress_;\n",
    "    - _Random Forest._"
   ]
  },
  {
   "cell_type": "markdown",
   "metadata": {},
   "source": [
    "Parte 2:\n",
    "* O que são Redes Neurais? Pra que servem?\n",
    "* Construindo e treinando redes neurais usando TensorFlow.\n",
    "* Arquiteruras mais comuns de redes neurais: feedfoward, convolutional, recurrent, long shhort-term memory (LSTM) e autoencoders.\n",
    "* Técnicas para treinar redes neurais profundas.\n",
    "* Scalando redes neurais para grandes Datasets.\n",
    "* Reinforcement Learning (Aprendizado por reforço)."
   ]
  },
  {
   "cell_type": "markdown",
   "metadata": {},
   "source": [
    "# Links Úteis e Referências"
   ]
  },
  {
   "cell_type": "markdown",
   "metadata": {},
   "source": [
    "* <font size=3> **_Github do livro_** (https://github.com/ageron/handson-ml)"
   ]
  },
  {
   "cell_type": "markdown",
   "metadata": {},
   "source": [
    "* <font size=3> **_Introduction to Machine Learning_** _- Andrew Ng_ (https://www.coursera.org/learn/machine-learning); </font>"
   ]
  },
  {
   "cell_type": "markdown",
   "metadata": {},
   "source": [
    "* <font size=3> **_Neural Networks for Machine Larning_** _- Geoffrey Hinton_ (https://www.coursera.org/learn/neural-networks); </font>"
   ]
  },
  {
   "cell_type": "markdown",
   "metadata": {},
   "source": [
    "* <font size=3> Joel Grus, _\"Data Science from Scratch\"_ </font>\n",
    "* <font size=3> Stephen Marsland, _\"Machine Learning: An Algorithmic Perspective\"_ </font>\n",
    "* <font size=3> Sebastian Raschka, _\"Python Machine Learning\"_ </font>\n",
    "* <font size=3> Yaser S. Abu-Mostafa, Malik Magdon-Ismail and Hsuan-Tien Lin, _\"Learning from Data\"_ </font>\n",
    "* <font size=3> Stuart Russell and Peter Norvig, _\"Artificial Intelligence: A Modern Approach\"_ </font>"
   ]
  },
  {
   "cell_type": "code",
   "execution_count": null,
   "metadata": {},
   "outputs": [],
   "source": []
  }
 ],
 "metadata": {
  "kernelspec": {
   "display_name": "Python 3",
   "language": "python",
   "name": "python3"
  },
  "language_info": {
   "codemirror_mode": {
    "name": "ipython",
    "version": 3
   },
   "file_extension": ".py",
   "mimetype": "text/x-python",
   "name": "python",
   "nbconvert_exporter": "python",
   "pygments_lexer": "ipython3",
   "version": "3.6.4"
  },
  "toc": {
   "base_numbering": 1,
   "nav_menu": {},
   "number_sections": true,
   "sideBar": false,
   "skip_h1_title": false,
   "title_cell": "Table of Contents",
   "title_sidebar": "Contents",
   "toc_cell": true,
   "toc_position": {
    "height": "146px",
    "left": "23px",
    "top": "178px",
    "width": "239px"
   },
   "toc_section_display": true,
   "toc_window_display": true
  }
 },
 "nbformat": 4,
 "nbformat_minor": 2
}
