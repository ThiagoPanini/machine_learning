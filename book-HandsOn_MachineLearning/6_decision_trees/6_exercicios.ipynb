{
 "cells": [
  {
   "cell_type": "markdown",
   "metadata": {
    "toc": true
   },
   "source": [
    "<h1>Table of Contents<span class=\"tocSkip\"></span></h1>\n",
    "<div class=\"toc\"><ul class=\"toc-item\"><li><span><a href=\"#Exercício-1\" data-toc-modified-id=\"Exercício-1-1\"><span class=\"toc-item-num\">1&nbsp;&nbsp;</span>Exercício 1</a></span></li><li><span><a href=\"#Exercício-2\" data-toc-modified-id=\"Exercício-2-2\"><span class=\"toc-item-num\">2&nbsp;&nbsp;</span>Exercício 2</a></span></li><li><span><a href=\"#Exercício-3\" data-toc-modified-id=\"Exercício-3-3\"><span class=\"toc-item-num\">3&nbsp;&nbsp;</span>Exercício 3</a></span></li><li><span><a href=\"#Exercício-4\" data-toc-modified-id=\"Exercício-4-4\"><span class=\"toc-item-num\">4&nbsp;&nbsp;</span>Exercício 4</a></span></li><li><span><a href=\"#Exercício-5\" data-toc-modified-id=\"Exercício-5-5\"><span class=\"toc-item-num\">5&nbsp;&nbsp;</span>Exercício 5</a></span></li><li><span><a href=\"#Exercício-6\" data-toc-modified-id=\"Exercício-6-6\"><span class=\"toc-item-num\">6&nbsp;&nbsp;</span>Exercício 6</a></span></li><li><span><a href=\"#Exercício-7\" data-toc-modified-id=\"Exercício-7-7\"><span class=\"toc-item-num\">7&nbsp;&nbsp;</span>Exercício 7</a></span></li></ul></div>"
   ]
  },
  {
   "cell_type": "markdown",
   "metadata": {},
   "source": [
    "## Exercício 1"
   ]
  },
  {
   "cell_type": "markdown",
   "metadata": {},
   "source": [
    "_What is the approximate depth of a Decision Tree trained (without restrictions) on a training set with 1 million instances?_"
   ]
  },
  {
   "cell_type": "markdown",
   "metadata": {},
   "source": [
    "A profundidade de uma árvore binária e balanceada contendo $m$ amostras é igual a $log_2(m)$ arrendodado para cima. A árvore final terá um leaf node para cada amostrada se treinada sem restrições. Portanto, uma árvore sem restrições terá uma profundidade de $log_2(10^6)\\approx20$ (talvez um pouco mais por conta do não balanceamento exato da árvore)."
   ]
  },
  {
   "cell_type": "markdown",
   "metadata": {},
   "source": [
    "## Exercício 2"
   ]
  },
  {
   "cell_type": "markdown",
   "metadata": {},
   "source": [
    "_Is a node's Gini impurity generally lower or greater than its parent's? Is it generally lower/greater, or always lower/greater?_"
   ]
  },
  {
   "cell_type": "markdown",
   "metadata": {},
   "source": [
    "No geral, a impureza Gini dos nós filhos são menores do que a impureza Gini dos nós pais. Isto devido as funcionalidades do algoritmo CART utilizando pelas Árvores de Decisão do Scikit-Learn. Entretanto, nem sempre isso é verdade. Existem alguns exemplos que mostram que as ramificações podem possuir índices Gini maiores."
   ]
  },
  {
   "cell_type": "markdown",
   "metadata": {},
   "source": [
    "## Exercício 3"
   ]
  },
  {
   "cell_type": "markdown",
   "metadata": {},
   "source": [
    "_If a Decision Tree is overfitting the training set, is it a good idea do try decreasing max depth?_"
   ]
  },
  {
   "cell_type": "markdown",
   "metadata": {},
   "source": [
    "Sim, uma vez que o hiperparêmtro `max_depth` irá restringir o modelo e aplicar regularização na árvore."
   ]
  },
  {
   "cell_type": "markdown",
   "metadata": {},
   "source": [
    "## Exercício 4"
   ]
  },
  {
   "cell_type": "markdown",
   "metadata": {},
   "source": [
    "_If a Decision Tree is underfitting, is it a good idea to try scaling the input features?_"
   ]
  },
  {
   "cell_type": "markdown",
   "metadata": {},
   "source": [
    "Não. Árvores de Decisão não são sensíveis a padronização dos dados."
   ]
  },
  {
   "cell_type": "markdown",
   "metadata": {},
   "source": [
    "## Exercício 5"
   ]
  },
  {
   "cell_type": "markdown",
   "metadata": {},
   "source": [
    "_If it takes one hour to train a Decision Tree on a training set containing 1 million instances, roughly how much time will it take to train another Decision Tree on a training set containing 10 million instances?_"
   ]
  },
  {
   "cell_type": "markdown",
   "metadata": {},
   "source": [
    "R: A complexidade computacional de um treinamento envolvendo Árvores de Decisão é dada por $O(n\\times m \\log(m))$ e, se o conjunto de dados por multiplicado por 10 (10 milhões contra 1 milhão), temos $K=(n\\times 10m\\log(10m))/(n\\times m\\log(m))$ = $10\\times \\log(10m) / \\log(m)$\n",
    "\n",
    "Se $m=10^6$, então temos que $K\\approx11.7$, levando assim, 11.7 horas para o treinamento."
   ]
  },
  {
   "cell_type": "markdown",
   "metadata": {},
   "source": [
    "## Exercício 6"
   ]
  },
  {
   "cell_type": "markdown",
   "metadata": {},
   "source": [
    "_If your training set contains 1000,000 instances, will setting presort=True speed up training?_"
   ]
  },
  {
   "cell_type": "markdown",
   "metadata": {},
   "source": [
    "R: O parâmetro `presort` somente aumenta a velocidade do treinamento se o dataset for menor que 10,000 instâncias. Com 100,000 amostras, setar presort=True irá diminuir a velocidade do treinamento consideravelmente."
   ]
  },
  {
   "cell_type": "markdown",
   "metadata": {},
   "source": [
    "## Exercício 7"
   ]
  },
  {
   "cell_type": "markdown",
   "metadata": {},
   "source": [
    "_Train and fine-tune a Decision Tree for the moons dataset_\n",
    "\n",
    "    a. Generate a moons dataset using make_moons(n_samples=10000, noise=0.4)\n",
    "    b. Split it into a training set and a test set using train_test_split()\n",
    "    c. Use grid search with cross-validation (with the help of the GridSearchCV class) to find good hyperparameter values for a DecisionTreeClassifier. Hint: try various values for max_leaf_nodes"
   ]
  },
  {
   "cell_type": "code",
   "execution_count": 1,
   "metadata": {
    "ExecuteTime": {
     "end_time": "2019-05-20T16:29:34.868698Z",
     "start_time": "2019-05-20T16:29:34.857083Z"
    }
   },
   "outputs": [],
   "source": [
    "# Lendo dados\n",
    "from sklearn.datasets import make_moons\n",
    "\n",
    "X, y = make_moons(n_samples=10000, noise=0.4)"
   ]
  },
  {
   "cell_type": "code",
   "execution_count": 2,
   "metadata": {
    "ExecuteTime": {
     "end_time": "2019-05-20T16:29:39.193956Z",
     "start_time": "2019-05-20T16:29:39.178366Z"
    }
   },
   "outputs": [
    {
     "data": {
      "text/plain": [
       "array([[-0.39588541,  0.12994939],\n",
       "       [ 0.88790926,  0.70722852],\n",
       "       [-1.63399653,  0.42969084],\n",
       "       ...,\n",
       "       [ 0.01157024,  0.14648153],\n",
       "       [ 1.72253622,  0.18837113],\n",
       "       [ 2.11769614,  0.77657461]])"
      ]
     },
     "execution_count": 2,
     "metadata": {},
     "output_type": "execute_result"
    }
   ],
   "source": [
    "# Verificando\n",
    "X"
   ]
  },
  {
   "cell_type": "code",
   "execution_count": 3,
   "metadata": {
    "ExecuteTime": {
     "end_time": "2019-05-20T16:29:44.818563Z",
     "start_time": "2019-05-20T16:29:44.812897Z"
    }
   },
   "outputs": [
    {
     "data": {
      "text/plain": [
       "array([0, 0, 0, ..., 0, 1, 1], dtype=int64)"
      ]
     },
     "execution_count": 3,
     "metadata": {},
     "output_type": "execute_result"
    }
   ],
   "source": [
    "# Labels\n",
    "y"
   ]
  },
  {
   "cell_type": "code",
   "execution_count": 4,
   "metadata": {
    "ExecuteTime": {
     "end_time": "2019-05-20T16:39:09.791700Z",
     "start_time": "2019-05-20T16:39:09.780545Z"
    }
   },
   "outputs": [],
   "source": [
    "# Separando dados\n",
    "from sklearn.model_selection import train_test_split\n",
    "\n",
    "X_train, X_test, y_train, y_test = train_test_split(X, y, test_size=.2)"
   ]
  },
  {
   "cell_type": "code",
   "execution_count": 5,
   "metadata": {
    "ExecuteTime": {
     "end_time": "2019-05-20T16:39:15.657895Z",
     "start_time": "2019-05-20T16:39:15.644533Z"
    }
   },
   "outputs": [
    {
     "data": {
      "text/plain": [
       "(8000, 2)"
      ]
     },
     "execution_count": 5,
     "metadata": {},
     "output_type": "execute_result"
    }
   ],
   "source": [
    "# Verificando\n",
    "X_train.shape"
   ]
  },
  {
   "cell_type": "code",
   "execution_count": 15,
   "metadata": {
    "ExecuteTime": {
     "end_time": "2019-05-20T16:45:45.225341Z",
     "start_time": "2019-05-20T16:45:45.186272Z"
    }
   },
   "outputs": [],
   "source": [
    "# Treinando Árvore de Decisão\n",
    "from sklearn.tree import DecisionTreeClassifier\n",
    "from sklearn.metrics import accuracy_score, precision_score, recall_score, classification_report\n",
    "from sklearn.model_selection import cross_val_score, cross_val_predict\n",
    "\n",
    "# Sem restrições\n",
    "tree_clf = DecisionTreeClassifier()\n",
    "tree_clf.fit(X_train, y_train)\n",
    "\n",
    "# Acurácia, Precision e Recall nos dados de treino\n",
    "train_pred = tree_clf.predict(X_train)"
   ]
  },
  {
   "cell_type": "code",
   "execution_count": 16,
   "metadata": {
    "ExecuteTime": {
     "end_time": "2019-05-20T16:45:45.699022Z",
     "start_time": "2019-05-20T16:45:45.675698Z"
    }
   },
   "outputs": [
    {
     "name": "stdout",
     "output_type": "stream",
     "text": [
      "              precision    recall  f1-score   support\n",
      "\n",
      "           0       1.00      1.00      1.00      3978\n",
      "           1       1.00      1.00      1.00      4022\n",
      "\n",
      "    accuracy                           1.00      8000\n",
      "   macro avg       1.00      1.00      1.00      8000\n",
      "weighted avg       1.00      1.00      1.00      8000\n",
      "\n"
     ]
    }
   ],
   "source": [
    "print(classification_report(y_train, train_pred))"
   ]
  },
  {
   "cell_type": "markdown",
   "metadata": {
    "ExecuteTime": {
     "end_time": "2019-05-20T16:44:15.260809Z",
     "start_time": "2019-05-20T16:44:15.254784Z"
    }
   },
   "source": [
    "A árvore se ajustou tao bem ao modelo (overfitting) que produziu métricas de 100% de eficiência nos dados de treino. Vejamos as métricas para validação cruzada."
   ]
  },
  {
   "cell_type": "code",
   "execution_count": 20,
   "metadata": {
    "ExecuteTime": {
     "end_time": "2019-05-20T16:46:24.700299Z",
     "start_time": "2019-05-20T16:46:24.555173Z"
    }
   },
   "outputs": [
    {
     "data": {
      "text/plain": [
       "array([0.79575265, 0.8119925 , 0.790625  , 0.81113196, 0.81425891])"
      ]
     },
     "execution_count": 20,
     "metadata": {},
     "output_type": "execute_result"
    }
   ],
   "source": [
    "# Validação cruzada\n",
    "cv_pred = cross_val_score(tree_clf, X_train, y_train, cv=5)\n",
    "cv_pred"
   ]
  },
  {
   "cell_type": "code",
   "execution_count": 21,
   "metadata": {
    "ExecuteTime": {
     "end_time": "2019-05-20T16:46:45.721668Z",
     "start_time": "2019-05-20T16:46:45.707968Z"
    }
   },
   "outputs": [
    {
     "name": "stdout",
     "output_type": "stream",
     "text": [
      "              precision    recall  f1-score   support\n",
      "\n",
      "           0       0.82      0.81      0.81      1022\n",
      "           1       0.80      0.81      0.81       978\n",
      "\n",
      "    accuracy                           0.81      2000\n",
      "   macro avg       0.81      0.81      0.81      2000\n",
      "weighted avg       0.81      0.81      0.81      2000\n",
      "\n"
     ]
    }
   ],
   "source": [
    "# Report nos dados de teste\n",
    "test_pred = tree_clf.predict(X_test)\n",
    "print(classification_report(y_test, test_pred))"
   ]
  },
  {
   "cell_type": "markdown",
   "metadata": {},
   "source": [
    "Percebemos a queda no rendimento."
   ]
  },
  {
   "cell_type": "code",
   "execution_count": 27,
   "metadata": {
    "ExecuteTime": {
     "end_time": "2019-05-20T16:50:25.191489Z",
     "start_time": "2019-05-20T16:50:20.664785Z"
    }
   },
   "outputs": [
    {
     "name": "stdout",
     "output_type": "stream",
     "text": [
      "Fitting 3 folds for each of 294 candidates, totalling 882 fits\n"
     ]
    },
    {
     "name": "stderr",
     "output_type": "stream",
     "text": [
      "[Parallel(n_jobs=-1)]: Using backend LokyBackend with 4 concurrent workers.\n",
      "[Parallel(n_jobs=-1)]: Done 882 out of 882 | elapsed:    4.4s finished\n"
     ]
    },
    {
     "data": {
      "text/plain": [
       "GridSearchCV(cv=3, error_score='raise-deprecating',\n",
       "             estimator=DecisionTreeClassifier(class_weight=None,\n",
       "                                              criterion='gini', max_depth=None,\n",
       "                                              max_features=None,\n",
       "                                              max_leaf_nodes=None,\n",
       "                                              min_impurity_decrease=0.0,\n",
       "                                              min_impurity_split=None,\n",
       "                                              min_samples_leaf=1,\n",
       "                                              min_samples_split=2,\n",
       "                                              min_weight_fraction_leaf=0.0,\n",
       "                                              presort=False, random_state=42,\n",
       "                                              splitter='best'),\n",
       "             iid='warn', n_jobs=-1,\n",
       "             param_grid={'max_leaf_nodes': [2, 3, 4, 5, 6, 7, 8, 9, 10, 11, 12,\n",
       "                                            13, 14, 15, 16, 17, 18, 19, 20, 21,\n",
       "                                            22, 23, 24, 25, 26, 27, 28, 29, 30,\n",
       "                                            31, ...],\n",
       "                         'min_samples_split': [2, 3, 4]},\n",
       "             pre_dispatch='2*n_jobs', refit=True, return_train_score=False,\n",
       "             scoring=None, verbose=1)"
      ]
     },
     "execution_count": 27,
     "metadata": {},
     "output_type": "execute_result"
    }
   ],
   "source": [
    "# Utilizando GridSearch\n",
    "from sklearn.model_selection import GridSearchCV\n",
    "\n",
    "params = {\n",
    "    'max_leaf_nodes': list(range(2, 100)), \n",
    "    'min_samples_split': [2, 3, 4]\n",
    "}\n",
    "grid_search_cv = GridSearchCV(DecisionTreeClassifier(random_state=42), params, n_jobs=-1, verbose=1, cv=3)\n",
    "\n",
    "grid_search_cv.fit(X_train, y_train)"
   ]
  },
  {
   "cell_type": "code",
   "execution_count": 28,
   "metadata": {
    "ExecuteTime": {
     "end_time": "2019-05-20T16:50:50.592852Z",
     "start_time": "2019-05-20T16:50:50.585248Z"
    }
   },
   "outputs": [
    {
     "data": {
      "text/plain": [
       "DecisionTreeClassifier(class_weight=None, criterion='gini', max_depth=None,\n",
       "                       max_features=None, max_leaf_nodes=11,\n",
       "                       min_impurity_decrease=0.0, min_impurity_split=None,\n",
       "                       min_samples_leaf=1, min_samples_split=2,\n",
       "                       min_weight_fraction_leaf=0.0, presort=False,\n",
       "                       random_state=42, splitter='best')"
      ]
     },
     "execution_count": 28,
     "metadata": {},
     "output_type": "execute_result"
    }
   ],
   "source": [
    "# Verificando melhor modelo\n",
    "grid_search_cv.best_estimator_"
   ]
  },
  {
   "cell_type": "code",
   "execution_count": 30,
   "metadata": {
    "ExecuteTime": {
     "end_time": "2019-05-20T16:51:20.658219Z",
     "start_time": "2019-05-20T16:51:20.649569Z"
    }
   },
   "outputs": [
    {
     "data": {
      "text/plain": [
       "0.8545"
      ]
     },
     "execution_count": 30,
     "metadata": {},
     "output_type": "execute_result"
    }
   ],
   "source": [
    "# Vejamos a acurácia\n",
    "y_pred = grid_search_cv.predict(X_test)\n",
    "accuracy_score(y_test, y_pred)"
   ]
  },
  {
   "cell_type": "code",
   "execution_count": 31,
   "metadata": {
    "ExecuteTime": {
     "end_time": "2019-05-20T16:51:37.829010Z",
     "start_time": "2019-05-20T16:51:37.815118Z"
    }
   },
   "outputs": [
    {
     "data": {
      "text/plain": [
       "0.81"
      ]
     },
     "execution_count": 31,
     "metadata": {},
     "output_type": "execute_result"
    }
   ],
   "source": [
    "# Antes tínhamos\n",
    "accuracy_score(y_test, test_pred)"
   ]
  },
  {
   "cell_type": "code",
   "execution_count": null,
   "metadata": {},
   "outputs": [],
   "source": []
  }
 ],
 "metadata": {
  "kernelspec": {
   "display_name": "Python 3",
   "language": "python",
   "name": "python3"
  },
  "language_info": {
   "codemirror_mode": {
    "name": "ipython",
    "version": 3
   },
   "file_extension": ".py",
   "mimetype": "text/x-python",
   "name": "python",
   "nbconvert_exporter": "python",
   "pygments_lexer": "ipython3",
<<<<<<< HEAD
   "version": "3.7.3"
=======
   "version": "3.6.4"
>>>>>>> 465c7e6b7893226eeaa6ecd42108701a3bb754d4
  },
  "toc": {
   "base_numbering": 1,
   "nav_menu": {},
   "number_sections": true,
   "sideBar": true,
   "skip_h1_title": true,
   "title_cell": "Table of Contents",
   "title_sidebar": "Contents",
   "toc_cell": true,
   "toc_position": {},
   "toc_section_display": true,
   "toc_window_display": false
<<<<<<< HEAD
  },
  "varInspector": {
   "cols": {
    "lenName": 16,
    "lenType": 16,
    "lenVar": 40
   },
   "kernels_config": {
    "python": {
     "delete_cmd_postfix": "",
     "delete_cmd_prefix": "del ",
     "library": "var_list.py",
     "varRefreshCmd": "print(var_dic_list())"
    },
    "r": {
     "delete_cmd_postfix": ") ",
     "delete_cmd_prefix": "rm(",
     "library": "var_list.r",
     "varRefreshCmd": "cat(var_dic_list()) "
    }
   },
   "types_to_exclude": [
    "module",
    "function",
    "builtin_function_or_method",
    "instance",
    "_Feature"
   ],
   "window_display": false
=======
>>>>>>> 465c7e6b7893226eeaa6ecd42108701a3bb754d4
  }
 },
 "nbformat": 4,
 "nbformat_minor": 2
}
