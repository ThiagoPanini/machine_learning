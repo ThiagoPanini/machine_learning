{
 "cells": [
  {
   "cell_type": "markdown",
   "metadata": {
    "toc": true
   },
   "source": [
    "<h1>Table of Contents<span class=\"tocSkip\"></span></h1>\n",
    "<div class=\"toc\"><ul class=\"toc-item\"><li><span><a href=\"#Explorando-os-dados-de-bicicletas-compartilhadas-em-Chicago\" data-toc-modified-id=\"Explorando-os-dados-de-bicicletas-compartilhadas-em-Chicago-1\"><span class=\"toc-item-num\">1&nbsp;&nbsp;</span>Explorando os dados de bicicletas compartilhadas em Chicago</a></span></li></ul></div>"
   ]
  },
  {
   "cell_type": "markdown",
   "metadata": {},
   "source": [
    "# Projeto I - Fundamentos de Data Scientist I - Udacity\n",
    "\n",
    "### Explorando os dados de bicicletas compartilhadas em Chicago"
   ]
  },
  {
   "cell_type": "code",
   "execution_count": null,
   "metadata": {},
   "outputs": [],
   "source": [
    "# Colunas (campos) presentes neste dataset:\n",
    "    # Start Time\n",
    "    # End Time\n",
    "    # Trip Duration\n",
    "    # Start Station\n",
    "    # End Station\n",
    "    # User Type\n",
    "    # Gender\n",
    "    # Birth Year"
   ]
  },
  {
   "cell_type": "code",
   "execution_count": 1,
   "metadata": {},
   "outputs": [],
   "source": [
    "import csv\n",
    "import matplotlib.pyplot as plt\n",
    "import statistics"
   ]
  },
  {
   "cell_type": "code",
   "execution_count": 2,
   "metadata": {},
   "outputs": [],
   "source": [
    "with open('chicago-bikeshare-pt/chicago.csv', 'r') as file_read:\n",
    "    reader = csv.reader(file_read)\n",
    "    data_list = list(reader)"
   ]
  },
  {
   "cell_type": "code",
   "execution_count": 3,
   "metadata": {},
   "outputs": [
    {
     "name": "stdout",
     "output_type": "stream",
     "text": [
      "1551506\n"
     ]
    }
   ],
   "source": [
    "print(len(data_list))"
   ]
  },
  {
   "cell_type": "code",
   "execution_count": 4,
   "metadata": {},
   "outputs": [
    {
     "name": "stdout",
     "output_type": "stream",
     "text": [
      "['Start Time', 'End Time', 'Trip Duration', 'Start Station', 'End Station', 'User Type', 'Gender', 'Birth Year']\n"
     ]
    }
   ],
   "source": [
    "print(data_list[0])"
   ]
  },
  {
   "cell_type": "code",
   "execution_count": 5,
   "metadata": {},
   "outputs": [
    {
     "name": "stdout",
     "output_type": "stream",
     "text": [
      "['2017-01-01 00:00:36', '2017-01-01 00:06:32', '356', 'Canal St & Taylor St', 'Canal St & Monroe St (*)', 'Customer', '', '']\n"
     ]
    }
   ],
   "source": [
    "print(data_list[1])"
   ]
  },
  {
   "cell_type": "code",
   "execution_count": 6,
   "metadata": {},
   "outputs": [
    {
     "name": "stdout",
     "output_type": "stream",
     "text": [
      "['2017-01-01 00:02:54', '2017-01-01 00:08:21', '327', 'Larrabee St & Menomonee St', 'Sheffield Ave & Kingsbury St', 'Subscriber', 'Male', '1984.0']\n"
     ]
    }
   ],
   "source": [
    "print(data_list[2])"
   ]
  },
  {
   "cell_type": "code",
   "execution_count": 7,
   "metadata": {},
   "outputs": [
    {
     "name": "stdout",
     "output_type": "stream",
     "text": [
      "['2017-01-01 00:06:06', '2017-01-01 00:18:31', '745', 'Orleans St & Chestnut St (NEXT Apts)', 'Ashland Ave & Blackhawk St', 'Subscriber', 'Male', '1985.0']\n"
     ]
    }
   ],
   "source": [
    "print(data_list[3])"
   ]
  },
  {
   "cell_type": "code",
   "execution_count": 8,
   "metadata": {},
   "outputs": [
    {
     "name": "stdout",
     "output_type": "stream",
     "text": [
      "['2017-01-01 00:00:36', '2017-01-01 00:06:32', '356', 'Canal St & Taylor St', 'Canal St & Monroe St (*)', 'Customer', '', '']\n"
     ]
    }
   ],
   "source": [
    "# Eliminando cabeçalho\n",
    "data_list = data_list[1:]\n",
    "print(data_list[0])"
   ]
  },
  {
   "cell_type": "code",
   "execution_count": 9,
   "metadata": {},
   "outputs": [
    {
     "name": "stdout",
     "output_type": "stream",
     "text": [
      "2017-01-01 00:00:36\n"
     ]
    }
   ],
   "source": [
    "print(data_list[0][0])"
   ]
  },
  {
   "cell_type": "code",
   "execution_count": 10,
   "metadata": {},
   "outputs": [
    {
     "name": "stdout",
     "output_type": "stream",
     "text": [
      "['2017-01-01 00:00:36', '2017-01-01 00:06:32', '356', 'Canal St & Taylor St', 'Canal St & Monroe St (*)', 'Customer', '', '']\n",
      "['2017-01-01 00:02:54', '2017-01-01 00:08:21', '327', 'Larrabee St & Menomonee St', 'Sheffield Ave & Kingsbury St', 'Subscriber', 'Male', '1984.0']\n",
      "['2017-01-01 00:06:06', '2017-01-01 00:18:31', '745', 'Orleans St & Chestnut St (NEXT Apts)', 'Ashland Ave & Blackhawk St', 'Subscriber', 'Male', '1985.0']\n",
      "['2017-01-01 00:07:28', '2017-01-01 00:12:51', '323', 'Franklin St & Monroe St', 'Clinton St & Tilden St', 'Subscriber', 'Male', '1990.0']\n",
      "['2017-01-01 00:07:57', '2017-01-01 00:20:53', '776', 'Broadway & Barry Ave', 'Sedgwick St & North Ave', 'Subscriber', 'Male', '1990.0']\n",
      "['2017-01-01 00:10:44', '2017-01-01 00:21:27', '643', 'State St & Kinzie St', 'Wells St & Polk St', 'Subscriber', 'Male', '1970.0']\n",
      "['2017-01-01 00:11:34', '2017-01-01 00:23:47', '733', 'Wabash Ave & Wacker Pl', 'Clinton St & Tilden St', 'Subscriber', 'Male', '1986.0']\n",
      "['2017-01-01 00:14:57', '2017-01-01 00:26:22', '685', 'Daley Center Plaza', 'Canal St & Monroe St (*)', 'Customer', '', '']\n",
      "['2017-01-01 00:15:03', '2017-01-01 00:26:28', '685', 'Daley Center Plaza', 'Canal St & Monroe St (*)', 'Customer', '', '']\n",
      "['2017-01-01 00:17:01', '2017-01-01 00:29:49', '768', 'Dayton St & North Ave', 'Ogden Ave & Chicago Ave', 'Customer', '', '']\n",
      "['2017-01-01 00:17:13', '2017-01-01 11:03:34', '38781', 'Wilton Ave & Diversey Pkwy', 'Halsted St & Wrightwood Ave', 'Subscriber', 'Female', '1988.0']\n",
      "['2017-01-01 00:18:28', '2017-01-01 00:31:05', '757', 'Canal St & Madison St', 'LaSalle St & Illinois St', 'Customer', '', '']\n",
      "['2017-01-01 00:18:50', '2017-01-01 00:21:47', '177', 'Theater on the Lake', 'Lakeview Ave & Fullerton Pkwy', 'Subscriber', 'Male', '1991.0']\n",
      "['2017-01-01 00:23:41', '2017-01-01 00:29:13', '332', 'Halsted St & Maxwell St', 'Halsted St & 18th St', 'Subscriber', 'Male', '1984.0']\n",
      "['2017-01-01 00:25:47', '2017-01-01 00:39:53', '846', 'Ravenswood Ave & Lawrence Ave', 'Clarendon Ave & Gordon Ter', 'Subscriber', 'Female', '1987.0']\n",
      "['2017-01-01 00:25:47', '2017-01-01 00:43:23', '1056', 'Clark St & Congress Pkwy', 'Wolcott Ave & Polk St', 'Subscriber', 'Male', '1984.0']\n",
      "['2017-01-01 00:26:21', '2017-01-01 00:39:40', '799', 'Ravenswood Ave & Lawrence Ave', 'Clarendon Ave & Gordon Ter', 'Subscriber', 'Male', '1987.0']\n",
      "['2017-01-01 00:27:21', '2017-01-01 00:42:59', '938', 'Millennium Park', 'Michigan Ave & 18th St', 'Subscriber', 'Male', '1991.0']\n",
      "['2017-01-01 00:27:28', '2017-01-01 00:42:44', '916', 'Millennium Park', 'Michigan Ave & 18th St', 'Subscriber', 'Female', '1990.0']\n",
      "['2017-01-01 00:27:45', '2017-01-01 00:31:13', '208', 'Damen Ave & Chicago Ave', 'Damen Ave & Division St', 'Subscriber', 'Male', '1982.0']\n"
     ]
    }
   ],
   "source": [
    "# Imprimindo as 20 primeiras amostras\n",
    "for i in range(20):\n",
    "    print(data_list[i])"
   ]
  },
  {
   "cell_type": "code",
   "execution_count": 11,
   "metadata": {},
   "outputs": [],
   "source": [
    "# Testando Dict_reader\n",
    "with open('chicago-bikeshare-pt/chicago.csv', 'r') as file_read:\n",
    "    named_list = [{k: v for k , v in row.items()} for row in csv.DictReader(file_read, skipinitialspace=True)]"
   ]
  },
  {
   "cell_type": "code",
   "execution_count": 12,
   "metadata": {},
   "outputs": [
    {
     "name": "stdout",
     "output_type": "stream",
     "text": [
      "{'Start Time': '2017-01-01 00:06:06', 'End Time': '2017-01-01 00:18:31', 'Trip Duration': '745', 'Start Station': 'Orleans St & Chestnut St (NEXT Apts)', 'End Station': 'Ashland Ave & Blackhawk St', 'User Type': 'Subscriber', 'Gender': 'Male', 'Birth Year': '1985.0'}\n"
     ]
    }
   ],
   "source": [
    "print(named_list[2])"
   ]
  },
  {
   "cell_type": "code",
   "execution_count": 13,
   "metadata": {},
   "outputs": [
    {
     "name": "stdout",
     "output_type": "stream",
     "text": [
      "['2017-01-01 00:00:36', '2017-01-01 00:06:32', '356', 'Canal St & Taylor St', 'Canal St & Monroe St (*)', 'Customer', '', '']\n"
     ]
    }
   ],
   "source": [
    "print(data_list[0])"
   ]
  },
  {
   "cell_type": "code",
   "execution_count": 14,
   "metadata": {},
   "outputs": [
    {
     "name": "stdout",
     "output_type": "stream",
     "text": [
      "['2017-01-01 00:02:54', '2017-01-01 00:08:21', '327', 'Larrabee St & Menomonee St', 'Sheffield Ave & Kingsbury St', 'Subscriber', 'Male', '1984.0']\n",
      "['2017-01-01 00:06:06', '2017-01-01 00:18:31', '745', 'Orleans St & Chestnut St (NEXT Apts)', 'Ashland Ave & Blackhawk St', 'Subscriber', 'Male', '1985.0']\n",
      "['2017-01-01 00:07:28', '2017-01-01 00:12:51', '323', 'Franklin St & Monroe St', 'Clinton St & Tilden St', 'Subscriber', 'Male', '1990.0']\n",
      "['2017-01-01 00:07:57', '2017-01-01 00:20:53', '776', 'Broadway & Barry Ave', 'Sedgwick St & North Ave', 'Subscriber', 'Male', '1990.0']\n",
      "['2017-01-01 00:10:44', '2017-01-01 00:21:27', '643', 'State St & Kinzie St', 'Wells St & Polk St', 'Subscriber', 'Male', '1970.0']\n",
      "['2017-01-01 00:11:34', '2017-01-01 00:23:47', '733', 'Wabash Ave & Wacker Pl', 'Clinton St & Tilden St', 'Subscriber', 'Male', '1986.0']\n",
      "['2017-01-01 00:14:57', '2017-01-01 00:26:22', '685', 'Daley Center Plaza', 'Canal St & Monroe St (*)', 'Customer', '', '']\n",
      "['2017-01-01 00:15:03', '2017-01-01 00:26:28', '685', 'Daley Center Plaza', 'Canal St & Monroe St (*)', 'Customer', '', '']\n",
      "['2017-01-01 00:17:01', '2017-01-01 00:29:49', '768', 'Dayton St & North Ave', 'Ogden Ave & Chicago Ave', 'Customer', '', '']\n",
      "['2017-01-01 00:17:13', '2017-01-01 11:03:34', '38781', 'Wilton Ave & Diversey Pkwy', 'Halsted St & Wrightwood Ave', 'Subscriber', 'Female', '1988.0']\n",
      "['2017-01-01 00:18:28', '2017-01-01 00:31:05', '757', 'Canal St & Madison St', 'LaSalle St & Illinois St', 'Customer', '', '']\n",
      "['2017-01-01 00:18:50', '2017-01-01 00:21:47', '177', 'Theater on the Lake', 'Lakeview Ave & Fullerton Pkwy', 'Subscriber', 'Male', '1991.0']\n",
      "['2017-01-01 00:23:41', '2017-01-01 00:29:13', '332', 'Halsted St & Maxwell St', 'Halsted St & 18th St', 'Subscriber', 'Male', '1984.0']\n",
      "['2017-01-01 00:25:47', '2017-01-01 00:39:53', '846', 'Ravenswood Ave & Lawrence Ave', 'Clarendon Ave & Gordon Ter', 'Subscriber', 'Female', '1987.0']\n",
      "['2017-01-01 00:25:47', '2017-01-01 00:43:23', '1056', 'Clark St & Congress Pkwy', 'Wolcott Ave & Polk St', 'Subscriber', 'Male', '1984.0']\n",
      "['2017-01-01 00:26:21', '2017-01-01 00:39:40', '799', 'Ravenswood Ave & Lawrence Ave', 'Clarendon Ave & Gordon Ter', 'Subscriber', 'Male', '1987.0']\n",
      "['2017-01-01 00:27:21', '2017-01-01 00:42:59', '938', 'Millennium Park', 'Michigan Ave & 18th St', 'Subscriber', 'Male', '1991.0']\n",
      "['2017-01-01 00:27:28', '2017-01-01 00:42:44', '916', 'Millennium Park', 'Michigan Ave & 18th St', 'Subscriber', 'Female', '1990.0']\n",
      "['2017-01-01 00:27:45', '2017-01-01 00:31:13', '208', 'Damen Ave & Chicago Ave', 'Damen Ave & Division St', 'Subscriber', 'Male', '1982.0']\n",
      "['2017-01-01 00:27:52', '2017-01-01 00:33:46', '354', 'Paulina Ave & North Ave', 'Damen Ave & Division St', 'Subscriber', 'Female', '1982.0']\n"
     ]
    }
   ],
   "source": [
    "for i in range(1, 21):\n",
    "    print(data_list[i])"
   ]
  },
  {
   "cell_type": "code",
   "execution_count": 15,
   "metadata": {},
   "outputs": [
    {
     "name": "stdout",
     "output_type": "stream",
     "text": [
      "Amostra  1 - Gênero: Male\n",
      "Amostra  2 - Gênero: Male\n",
      "Amostra  3 - Gênero: Male\n",
      "Amostra  4 - Gênero: Male\n",
      "Amostra  5 - Gênero: Male\n",
      "Amostra  6 - Gênero: Male\n",
      "Amostra  7 - Gênero: Não informado\n",
      "Amostra  8 - Gênero: Não informado\n",
      "Amostra  9 - Gênero: Não informado\n",
      "Amostra 10 - Gênero: Female\n",
      "Amostra 11 - Gênero: Não informado\n",
      "Amostra 12 - Gênero: Male\n",
      "Amostra 13 - Gênero: Male\n",
      "Amostra 14 - Gênero: Female\n",
      "Amostra 15 - Gênero: Male\n",
      "Amostra 16 - Gênero: Male\n",
      "Amostra 17 - Gênero: Male\n",
      "Amostra 18 - Gênero: Female\n",
      "Amostra 19 - Gênero: Male\n",
      "Amostra 20 - Gênero: Female\n"
     ]
    }
   ],
   "source": [
    "# Tarefa 2: Imprima o Gênero das 20 primeiras amostras\n",
    "data_list = data_list[1:]\n",
    "for i in range(20):\n",
    "    print(\"Amostra {:2} - Gênero: {}\".format(i+1, data_list[i][6] if data_list[i][6] != '' else 'Não informado'))\n",
    "    #print(f'Amostra {(i+1):2} - Gênero: {data_list[i][6] if data_list[i][6] != \"\" else \"Não informado\"}')"
   ]
  },
  {
   "cell_type": "code",
   "execution_count": 16,
   "metadata": {},
   "outputs": [],
   "source": [
    "# Tarefa 3: Crie uma função para adicionar as colunas(features) de uma lista em outra lista, na mesma ordem\n",
    "\n",
    "def column_to_list(data, index):\n",
    "    \"\"\"\n",
    "    Cria uma lista com todos os dados referentes a uma determinada coluna\n",
    "    \n",
    "    Argumentos:\n",
    "    data -- Dataset no qual deseja-se extrair os campos (list)\n",
    "    index -- Referência numérica do índice da coluna dentro do referido Dataset (int)\n",
    "    \n",
    "    Retorno:\n",
    "    column_list -- Lista com todos os dados referentes ao campo em questão (list)\n",
    "    \"\"\"\n",
    "    column_list = []\n",
    "    for registro in data:\n",
    "        try:\n",
    "            column_list.append(registro[index]) \n",
    "        except IndexError:\n",
    "            message = 'Para o data_set \"data\", selecione um \"index\" < {}.'.format(len(data[0]))\n",
    "            return message\n",
    "            \n",
    "    return column_list"
   ]
  },
  {
   "cell_type": "code",
   "execution_count": 17,
   "metadata": {},
   "outputs": [
    {
     "name": "stdout",
     "output_type": "stream",
     "text": [
      "['Male', 'Male', 'Male', 'Male', 'Male', 'Male', '', '', '', 'Female', '', 'Male', 'Male', 'Female', 'Male', 'Male', 'Male', 'Female', 'Male', 'Female', '', 'Female', '', 'Female', 'Male', '', 'Male', 'Female', '', 'Male', '', 'Male', 'Male', 'Male', 'Female', 'Male', 'Male', 'Male', 'Male', 'Male', '', '', 'Male', 'Male', '', 'Male', 'Male', 'Female', 'Male', 'Female']\n"
     ]
    }
   ],
   "source": [
    "gender_column_data = column_to_list(data_list, 6)\n",
    "print(gender_column_data[:50])"
   ]
  },
  {
   "cell_type": "code",
   "execution_count": 18,
   "metadata": {},
   "outputs": [],
   "source": [
    "# Tarefa 3: Crie uma função para adicionar as colunas(features) de uma lista em outra lista, na mesma ordem\n",
    "\n",
    "# Tentantdo via named_list (dict)\n",
    "\n",
    "def column_to_list(data, index):\n",
    "    \"\"\"\n",
    "    Cria uma lista com todos os dados referentes a uma determinada coluna\n",
    "    \n",
    "    Argumentos:\n",
    "    data -- Dataset no qual deseja-se extrair os campos (lista de dicionários)\n",
    "    index -- Nome da coluna [chave] dentro do referido Dataset (string)\n",
    "    \n",
    "    Retorno:\n",
    "    column_list -- Lista com todos os dados referentes ao campo em questão (list)\n",
    "    \"\"\"\n",
    "    column_list = []\n",
    "    #index = index.title() # Evita erros do tipo \"birth year\" != \"Birth Year\"\n",
    "    for registro in data:\n",
    "        try:\n",
    "            column_list.append(registro[index])\n",
    "        except KeyError:\n",
    "            print('Coluna inexistente no Dataset \"data\". Veja as entradas possíveis: ')\n",
    "            chaves = list(registro.keys())\n",
    "            return chaves\n",
    "    \n",
    "    return column_list"
   ]
  },
  {
   "cell_type": "code",
   "execution_count": 19,
   "metadata": {},
   "outputs": [
    {
     "name": "stdout",
     "output_type": "stream",
     "text": [
      "['', 'Male', 'Male', 'Male', 'Male', 'Male', 'Male', '', '', '', 'Female', '', 'Male', 'Male', 'Female', 'Male', 'Male', 'Male', 'Female', 'Male', 'Female', '', 'Female', '', 'Female', 'Male', '', 'Male', 'Female', '', 'Male', '', 'Male', 'Male', 'Male', 'Female', 'Male', 'Male', 'Male', 'Male', 'Male', '', '', 'Male', 'Male', '', 'Male', 'Male', 'Female', 'Male']\n"
     ]
    }
   ],
   "source": [
    "result = column_to_list(named_list, 'Gender')\n",
    "print(result[:50])"
   ]
  },
  {
   "cell_type": "code",
   "execution_count": 20,
   "metadata": {},
   "outputs": [
    {
     "name": "stdout",
     "output_type": "stream",
     "text": [
      "Masculinos: 935854\n",
      "Feminino: 298784\n"
     ]
    }
   ],
   "source": [
    "# TAREFA 4\n",
    "# Agora sabemos como acessar as features, vamos contar quantos Male (Masculinos) e Female (Femininos) o dataset tem\n",
    "# TODO: Conte cada gênero. Você não deveria usar uma função parTODO isso.\n",
    "masculino = feminino = 0\n",
    "\n",
    "for gender in gender_column_data:\n",
    "    if gender == 'Male':\n",
    "        masculino += 1\n",
    "    elif gender == 'Female':\n",
    "        feminino += 1\n",
    "\n",
    "print(f'Masculinos: {masculino}\\nFeminino: {feminino}')"
   ]
  },
  {
   "cell_type": "code",
   "execution_count": 21,
   "metadata": {},
   "outputs": [
    {
     "name": "stdout",
     "output_type": "stream",
     "text": [
      "<class 'list'>\n",
      "Tamanho da lista retornada: 2\n",
      "Masculinos: 935854\n",
      "Femininos: 298784\n"
     ]
    }
   ],
   "source": [
    "# TAREFA 5\n",
    "# TODO: Crie uma função para contar os gêneros. Retorne uma lista.\n",
    "# Isso deveria retornar uma lista com [count_male, count_female] (exemplo: [10, 15] significa 10 Masculinos, 15 Femininos)\n",
    "def count_gender(data_list):\n",
    "    male = 0\n",
    "    female = 0\n",
    "    \n",
    "    gender_column_data = column_to_list(data_list, 6)\n",
    "    \n",
    "    for gender in gender_column_data:\n",
    "        if gender == 'Male':\n",
    "            male += 1\n",
    "        elif gender == 'Female':\n",
    "            female += 1\n",
    "    return [male, female]\n",
    "\n",
    "gender_list = count_gender(data_list)\n",
    "print(type(gender_list))\n",
    "print(f'Tamanho da lista retornada: {len(gender_list)}')\n",
    "print(f'Masculinos: {gender_list[0]}')\n",
    "print(f'Femininos: {gender_list[1]}')"
   ]
  },
  {
   "cell_type": "code",
   "execution_count": 22,
   "metadata": {},
   "outputs": [],
   "source": [
    "# Agora que nós podemos contar os usuários, qual gênero é mais prevalente?\n",
    "# TAREFA 6\n",
    "# TODO: Crie uma função que pegue o gênero mais popular, e retorne este gênero como uma string.\n",
    "# Esperamos ver \"Masculino\", \"Feminino\", ou \"Igual\" como resposta.\n",
    "def most_popular_gender(data_list):\n",
    "    male = 0\n",
    "    female = 0   \n",
    "    gender_column_data = column_to_list(data_list, 6)    \n",
    "    \n",
    "    for gender in gender_column_data:\n",
    "        if gender == 'Male':\n",
    "            male += 1\n",
    "        elif gender == 'Female':\n",
    "            female += 1\n",
    "    \n",
    "    if male > female:\n",
    "        answer = 'Male'\n",
    "    elif female > male:\n",
    "        answer = 'Female'\n",
    "    else:\n",
    "        answer = 'Igual'\n",
    "    \n",
    "    return answer"
   ]
  },
  {
   "cell_type": "code",
   "execution_count": 23,
   "metadata": {},
   "outputs": [
    {
     "name": "stdout",
     "output_type": "stream",
     "text": [
      "Male\n"
     ]
    }
   ],
   "source": [
    "print(most_popular_gender(data_list))"
   ]
  },
  {
   "cell_type": "code",
   "execution_count": null,
   "metadata": {},
   "outputs": [],
   "source": [
    "\"\"\"\n",
    "# Se tudo está rodando como esperado, verifique este gráfico!\n",
    "gender_list = column_to_list(data_list, -2)\n",
    "types = [\"Male\", \"Female\"]\n",
    "quantity = count_gender(data_list)\n",
    "y_pos = list(range(len(types)))\n",
    "plt.bar(y_pos, quantity)\n",
    "plt.ylabel('Quantidade')\n",
    "plt.xlabel('Gênero')\n",
    "plt.xticks(y_pos, types)\n",
    "plt.title('Quantidade por Gênero')\n",
    "plt.show(block=True)\n",
    "\n",
    "input(\"Aperte Enter para continuar...\")\n",
    "\"\"\""
   ]
  },
  {
   "cell_type": "code",
   "execution_count": null,
   "metadata": {},
   "outputs": [],
   "source": [
    "# TAREFA 7\n",
    "# TODO: Crie um gráfico similar para user_types. Tenha certeza que a legenda está correta.\n",
    "\n",
    "def count_user_types(data_list):\n",
    "    costumer = subscriber = 0\n",
    "    \n",
    "    user_types_data = column_to_list(data_list, 5)\n",
    "    \n",
    "    for user_type in user_types_data:\n",
    "        if user_type == 'Customer':\n",
    "            costumer += 1\n",
    "        elif user_type == 'Subscriber':\n",
    "            subscriber += 1\n",
    "    return [costumer, subscriber]\n",
    "\n",
    "user_types_list = column_to_list(data_list, 5)\n",
    "#print(user_types_list[:40])\n",
    "types = ['Customer', 'Subscriber']\n",
    "quantity = count_user_types(data_list)\n",
    "#print(f'Customers: {quantity[0]} \\nSubscribers: {quantity[1]}')\n",
    "y_pos = list(range(len(types)))\n",
    "plt.bar(y_pos, quantity)\n",
    "plt.ylabel('Quantidade')\n",
    "plt.xlabel('Categorias de Usuário')\n",
    "plt.xticks(y_pos, types)\n",
    "plt.title('Quantidade por Categoria')\n",
    "plt.show(block=True)"
   ]
  },
  {
   "cell_type": "code",
   "execution_count": 24,
   "metadata": {},
   "outputs": [
    {
     "data": {
      "image/png": "[encoded data removed]",
      "text/plain": [
       "<matplotlib.figure.Figure at 0x2220e469cc0>"
      ]
     },
     "metadata": {},
     "output_type": "display_data"
    }
   ],
   "source": []
  },
  {
   "cell_type": "code",
   "execution_count": 26,
   "metadata": {},
   "outputs": [
    {
     "name": "stdout",
     "output_type": "stream",
     "text": [
      "\n",
      "TAREFA 8: Por que a condição a seguir é Falsa?\n",
      "male + female == len(data_list): False\n",
      "resposta: A condição acima é falsa pois, na base de dados fornecida, há também entradas cujo gênero não foi especificado, ou seja, além de gêneros masculinos e femininos, há valores vazios que devem ser contabilizados, dentro da lista de gêneros, por 'lista_generos.count('')'\n"
     ]
    }
   ],
   "source": [
    "# TAREFA 8\n",
    "# TODO: Responda a seguinte questão\n",
    "male, female = count_gender(data_list)\n",
    "print(\"\\nTAREFA 8: Por que a condição a seguir é Falsa?\")\n",
    "print(\"male + female == len(data_list):\", male + female == len(data_list))\n",
    "answer = \"A condição acima é falsa pois, na base de dados fornecida, há também entradas cujo gênero não foi especificado, ou seja, além de gêneros masculinos\\\n",
    " e femininos, há valores vazios que devem ser contabilizados, dentro da lista de gêneros, por 'lista_generos.count('')'\"\n",
    "print(\"resposta:\", answer)"
   ]
  },
  {
   "cell_type": "code",
   "execution_count": 29,
   "metadata": {},
   "outputs": [
    {
     "name": "stdout",
     "output_type": "stream",
     "text": [
      "['327', '745', '323', '776', '643', '733', '685', '685', '768', '38781', '757', '177', '332', '846', '1056', '799', '938', '916', '208', '354', '265', '2424', '541', '450', '393', '1799', '748', '755', '1792', '701', '1683', '782', '657', '539', '386', '378', '663', '896', '1246', '88', '552', '1396', '619', '370', '882', '725', '404', '333', '288', '1447']\n",
      "\n",
      "Duração mínima de viagem: 60s\n",
      "Duração máxima de viagem: 86338s\n",
      "Duração média de viagem: 939.7781352803473s\n",
      "Mediana: 670.0s\n"
     ]
    }
   ],
   "source": [
    "# Vamos trabalhar com trip_duration (duração da viagem) agora. Não conseguimos tirar alguns valores dele.\n",
    "# TAREFA 9\n",
    "# TODO: Ache a duração de viagem Mínima, Máxima, Média, e Mediana.\n",
    "# Você não deve usar funções prontas parTODO isso, como max() e min().\n",
    "trip_duration_list = column_to_list(data_list, 2)\n",
    "min_trip = 0.\n",
    "max_trip = 0.\n",
    "mean_trip = 0.\n",
    "median_trip = 0.\n",
    "\n",
    "print(trip_duration_list[:50])\n",
    "print()\n",
    "min_trip = min(int(i) for i in trip_duration_list)\n",
    "max_trip = max(int(i) for i in trip_duration_list)\n",
    "mean_trip = (sum(int(i) for i in trip_duration_list)) / len(trip_duration_list)\n",
    "median_trip = statistics.median(int(i) for i in trip_duration_list)\n",
    "\n",
    "\"\"\"mediana = trip_duration_list[int((len(trip_duration_list)/2))+1]\n",
    "print(len(trip_duration_list))\n",
    "print(trip_duration_list.index('670'))\"\"\"\n",
    "\n",
    "\n",
    "print(f'Duração mínima de viagem: {min_trip}s')\n",
    "print(f'Duração máxima de viagem: {max_trip}s')\n",
    "print(f'Duração média de viagem: {mean_trip}s')\n",
    "print(f'Mediana: {median_trip}s')\n",
    "#print(f'Mediana na raça: {mediana}s')"
   ]
  },
  {
   "cell_type": "code",
   "execution_count": 42,
   "metadata": {},
   "outputs": [
    {
     "name": "stdout",
     "output_type": "stream",
     "text": [
      "['Subscriber', 'Subscriber', 'Subscriber', 'Subscriber', 'Subscriber', 'Subscriber', 'Customer', 'Customer', 'Customer', 'Subscriber', 'Customer', 'Subscriber', 'Subscriber', 'Subscriber', 'Subscriber', 'Subscriber', 'Subscriber', 'Subscriber', 'Subscriber', 'Subscriber']\n",
      "{'Customer', 'Subscriber', 'Dependent'}\n",
      "3\n",
      "\n",
      "Há 1551504 entradas estações iniciais (Start Station).\n",
      "Há 582 estações iniciais que não se repetem.\n"
     ]
    }
   ],
   "source": [
    "# TAREFA 10\n",
    "# Gênero é fácil porque nós temos apenas algumas opções. E quanto a start_stations? Quantas opções ele tem?\n",
    "# TODO: Verifique quantos tipos de start_stations nós temos, usando set()\n",
    "\n",
    "print(user_types_list[:20])\n",
    "user_types = set(user_types_list)\n",
    "print(user_types)\n",
    "print(len(user_types))\n",
    "print()\n",
    "\n",
    "start_station_list = column_to_list(data_list, 3) # Cria lista com todas as Start Station\n",
    "print(f'Há {len(start_station_list)} entradas estações iniciais (Start Station).')\n",
    "start_station = set(start_station_list)\n",
    "print(f'Há {len(start_station)} estações iniciais que não se repetem.')\n",
    "\n",
    "\n"
   ]
  },
  {
   "cell_type": "code",
   "execution_count": 43,
   "metadata": {},
   "outputs": [
    {
     "name": "stdout",
     "output_type": "stream",
     "text": [
      "\n",
      "TAREFA 10: Imprimindo as start stations:\n",
      "582\n",
      "{'Wentworth Ave & Archer Ave', 'Theater on the Lake', 'East Ave & Garfield St', 'Halsted St & Roscoe St', 'Ashland Ave & McDowell Ave', 'Ogden Ave & Congress Pkwy', 'California Ave & Division St', 'Calumet Ave & 51st St', 'Kimbark Ave & 53rd St', 'Bennett Ave & 79th St', 'Racine Ave & 18th St', 'California Ave & Fletcher St', 'University Ave & 57th St', 'Halsted St & 59th St', 'Racine Ave & Randolph St', 'Western Ave & Monroe St', 'Sacramento Blvd & Franklin Blvd', 'Kedzie Ave & Leland Ave', 'Jeffery Blvd & 76th St', 'Southport Ave & Clybourn Ave', 'Ashland Ave & Division St', 'Spaulding Ave & Division St', 'Rush St & Hubbard St', 'Clark St & Touhy Ave', 'Marine Dr & Ainslie St', 'Wells St & 19th St', 'Exchange Ave & 79th St', 'Halsted St & 35th St (*)', 'Campbell Ave & Montrose Ave', 'MLK Jr Dr & 47th St', 'Milwaukee Ave & Cuyler Ave', 'Damen Ave & Grand Ave', 'Pine Grove Ave & Irving Park Rd', 'State St & Harrison St', 'Central Park Ave & Elbridge Ave', 'Southport Ave & Clark St', 'Canal St & Madison St', 'Ogden Ave & Roosevelt Rd', 'Humphrey Ave & Ontario St', 'Wabash Ave & 16th St', 'Halsted St & Archer Ave', 'Leavitt St & Lawrence Ave', 'Damen Ave & Pershing Rd', 'Ellis Ave & 83rd St', 'Perry Ave & 69th St', 'Lombard Ave & Madison St', 'Broadway & Cornelia Ave', 'Central Ave & Lake St', 'Michigan Ave & 18th St', 'Normal Ave & 72nd St', 'Museum of Science and Industry', 'Lake Shore Dr & Ohio St', 'Ashland Ave & Lake St', 'Michigan Ave & Madison St', 'Logan Blvd & Elston Ave', 'Ashland Ave & Wrightwood Ave', 'Forest Ave & Lake St', 'Halsted St & 37th St', 'Halsted St & Willow St', 'Clinton St & Washington Blvd', 'Buckingham Fountain', 'Michigan Ave & 8th St', 'Halsted St & Blackhawk St (*)', 'Milwaukee Ave & Rockwell St', 'Canal St & Adams St', 'Milwaukee Ave & Wabansia Ave', 'Adler Planetarium', 'Ravenswood Ave & Montrose Ave (*)', 'Lake Park Ave & 56th St', 'Streeter Dr & Grand Ave', 'Clark St & Elm St', 'Michigan Ave & Congress Pkwy', 'Pine Grove Ave & Waveland Ave', 'Paulina St & 18th St', 'Canal St & Harrison St', 'Larrabee St & Webster Ave', 'Stony Island Ave & 82nd St', 'Clark St & Wrightwood Ave', 'Princeton Ave & Garfield Blvd', 'Clarendon Ave & Junior Ter', 'Kostner Ave & Lake St', 'Calumet Ave & 21st St', 'Woodlawn Ave & 55th St', 'Clark St & Bryn Mawr Ave', 'Dusable Harbor', 'Michigan Ave & Jackson Blvd', 'Richmond St & Diversey Ave', 'MLK Jr Dr & 29th St', 'Kimball Ave & Belmont Ave', 'Sheffield Ave & Webster Ave', 'Wolcott Ave & Polk St', 'Cottage Grove Ave & 78th St', 'Wabash Ave & Grand Ave', 'Racine Ave (May St) & Fulton St', 'Ashland Ave & Grand Ave', 'Racine Ave & Fullerton Ave', 'Sheffield Ave & Wrightwood Ave', 'Wood St & Taylor St', 'Damen Ave & Sunnyside Ave', 'Larrabee St & North Ave', 'Sheridan Rd & Montrose Ave', 'Troy St & North Ave', 'Avondale Ave & Irving Park Rd', 'Clark St & Jarvis Ave', 'Kilbourn Ave & Milwaukee Ave', 'Kosciuszko Park', 'Orleans St & Chestnut St (NEXT Apts)', 'Rush St & Superior St', 'Sheffield Ave & Kingsbury St', 'State St & 19th St', 'Maplewood Ave & Peterson Ave', 'Benson Ave & Church St', 'Monticello Ave & Irving Park Rd', 'Marshfield Ave & Cortland St', 'Clarendon Ave & Leland Ave', 'State St & Van Buren St', 'MLK Jr Dr & 56th St (*)', 'Lakefront Trail & Bryn Mawr Ave', 'Throop St & 52nd St', 'Cottage Grove Ave & Oakwood Blvd', 'Kedzie Ave & Lake St', '63rd St Beach', 'Sheffield Ave & Willow St', 'East Ave & Madison St', 'Halsted St & 21st St', 'Desplaines St & Randolph St', 'Clark St & Grace St', 'State St & 29th St', 'Woodlawn Ave & 75th St', 'Indiana Ave & 26th St', 'Wacker Dr & Washington St', 'Cottage Grove Ave & 67th St', 'Racine Ave & 15th St', 'Indiana Ave & 40th St', 'Damen Ave & Cortland St', 'Austin Blvd & Chicago Ave', 'Lawndale Ave & 23rd St', 'Albany Ave & Bloomingdale Ave', 'Clark St & Schiller St', 'Southport Ave & Waveland Ave', 'Sedgwick St & Huron St', 'California Ave & Byron St', 'Financial Pl & Congress Pkwy', 'Clinton St & Lake St', 'Cottage Grove Ave & 51st St', 'Lake Park Ave & 47th St', 'Warren Park West', 'MLK Jr Dr & 83rd St', 'Sheridan Rd & Noyes St (NU)', 'Central Park Ave & Ogden Ave', 'Clark St & Schreiber Ave', 'MLK Jr Dr & 63rd St', 'McClurg Ct & Illinois St', 'Eckhart Park', 'State St & Randolph St', 'Burnham Harbor', 'Halsted St & 47th Pl', 'Laramie Ave & Kinzie St', 'Wabash Ave & 8th St', 'Lincoln Ave & Waveland Ave', 'Southport Ave & Roscoe St', 'California Ave & Altgeld St', 'Loomis St & Archer Ave', 'Fairfield Ave & Roosevelt Rd', 'Sedgwick St & Schiller St', 'Kedzie Ave & 24th St', 'Western Ave & Division St', 'May St & 69th St', 'Franklin St & Monroe St', 'Orleans St & Merchandise Mart Plaza', 'South Shore Dr & 71st St', 'Ogden Ave & Chicago Ave', 'Rockwell St & Eastwood Ave', 'Damen Ave & Wellington Ave', 'South Shore Dr & 74th St', 'Clark St & Congress Pkwy', 'McClurg Ct & Erie St', 'Keystone Ave & Montrose Ave', 'Ritchie Ct & Banks St', 'Drake Ave & Fullerton Ave', 'Clark St & Winnemac Ave', 'Western Ave & Walton St', 'Wallace St & 35th St', 'State St & 33rd St', 'Franklin St & Quincy St', 'Noble St & Milwaukee Ave', 'Elston Ave & Wabansia Ave', 'Seeley Ave & Roscoe St', 'Daley Center Plaza', 'Broadway & Belmont Ave', 'Pulaski Rd & Congress Pkwy', 'Loomis St & Lexington St', 'Damen Ave & Augusta Blvd', 'Ashland Ave & Archer Ave', 'Wells St & Elm St', 'Larrabee St & Oak St', 'Phillips Ave & 79th St', 'Racine Ave & Congress Pkwy', 'Harper Ave & 59th St', 'Phillips Ave & 82nd St', 'Montrose Harbor', 'Clark St & Wellington Ave', 'Racine Ave & Garfield Blvd', 'Indiana Ave & Roosevelt Rd', 'Pulaski Rd & Eddy St', 'Clark St & Lincoln Ave', 'Rush St & Cedar St', 'Clinton St & 18th St', 'Blackstone Ave & Hyde Park Blvd', 'Drake Ave & Addison St', 'Sheridan Rd & Greenleaf Ave', 'Desplaines St & Kinzie St', 'Columbus Dr & Randolph St', 'University Library (NU)', 'Racine Ave & 35th St', 'LaSalle St & Jackson Blvd', 'Federal St & Polk St', 'Dodge Ave & Church St', 'Kedzie Ave & Bryn Mawr Ave', 'Damen Ave & Chicago Ave', 'Paulina Ave & North Ave', 'Greenview Ave & Fullerton Ave', 'Calumet Ave & 71st St', 'Damen Ave & Foster Ave', 'Kingsbury St & Kinzie St', 'Lincoln Ave & Winona St', 'Dearborn St & Monroe St', 'Broadway & Granville Ave', 'Larrabee St & Division St', 'Sheridan Rd & Buena Ave', 'Wentworth Ave & 35th St', 'Stetson Ave & South Water St', 'Halsted St & Maxwell St', 'Leavitt St & Archer Ave', 'Peoria St & Jackson Blvd', 'Campbell Ave & North Ave', 'Wells St & Polk St', 'Central St Metra', 'Broadway & Argyle St', 'Broadway & Berwyn Ave', 'Clark St & Elmdale Ave', 'Wells St & Huron St', 'Calumet Ave & 18th St', 'Christiana Ave & Lawrence Ave', 'Lake Shore Dr & Belmont Ave', 'California Ave & Montrose Ave', 'Cottage Grove Ave & 63rd St', 'Damen Ave & 59th St', 'Damen Ave & Clybourn Ave', 'Western Ave & Granville Ave', 'Ashland Ave & Harrison St', 'Clinton St & Jackson Blvd', 'California Ave & Francis Pl', 'Wabash Ave & Adams St', 'Central Ave & Chicago Ave', 'Western Blvd & 48th Pl', 'Wood St & Division St', 'Aberdeen St & Jackson Blvd', 'Hampden Ct & Diversey Pkwy', 'Michigan Ave & Oak St', 'Clybourn Ave & Division St', 'Oak Park Ave & South Blvd', 'Broadway & Barry Ave', 'Green St & Randolph St', 'Union Ave & Root St', 'Artesian Ave & Hubbard St', 'Yates Blvd & 75th St', 'Talman Ave & Addison St', 'Elmwood Ave & Austin St', 'Western Ave & Lunt Ave', 'Morgan St & Lake St', 'Greenwood Ave & 79th St', 'Morgan St & 31st St', 'Oakley Ave & Touhy Ave', 'Ellis Ave & 60th St', 'Morgan Ave & 14th Pl', 'Central Park Ave & North Ave', 'Albany Ave & 26th St', 'Field Blvd & South Water St', 'Damen Ave & Pierce Ave', 'Halsted St & 18th St', 'Ashland Ave & Pershing Rd', 'Halsted St & Roosevelt Rd', 'Western Ave & 28th St', 'Western Ave & Howard St', 'Ashland Ave & 69th St', 'Western Ave & Winnebago Ave', 'Greenwood Ave & 47th St', 'Kedzie Ave & Roosevelt Rd', 'Franklin St & Lake St', 'Laramie Ave & Gladys Ave', 'Halsted St & Wrightwood Ave', 'Damen Ave & Charleston St', 'Central St & Girard Ave', 'Western Ave & 24th St', '2112 W Peterson Ave', 'Ravenswood Ave & Balmoral Ave', 'Canal St & Monroe St (*)', 'Wabash Ave & 83rd St', 'Dearborn Pkwy & Delaware Pl', 'Michigan Ave & Lake St', 'Sangamon St & Washington Blvd (*)', 'Jefferson St & Monroe St', 'Marshfield Ave & 44th St', 'Mies van der Rohe Way & Chestnut St', 'Ada St & Washington Blvd', 'Fort Dearborn Dr & 31st St', 'Shedd Aquarium', 'Aberdeen St & Monroe St', 'LaSalle St & Washington St', 'Lombard Ave & Garfield St', 'Central Ave & Madison St', 'Conservatory Dr & Lake St', 'Wood St & Milwaukee Ave', 'Glenwood Ave & Touhy Ave', 'Broadway & Wilson Ave', 'Cicero Ave & Flournoy St', 'Normal Ave & Archer Ave', 'Oakley Ave & Roscoe St', 'State St & 79th St', 'Wilton Ave & Diversey Pkwy', 'Kenton Ave & Madison St', 'Loomis St & Taylor St (*)', 'Lake Shore Dr & Monroe St', 'Sheridan Rd & Irving Park Rd', 'Sheffield Ave & Wellington Ave', 'Ashland Ave & Wellington Ave', 'Wood St & 35th St', 'Damen Ave & Melrose Ave', 'Damen Ave & 51st St', 'Ashland Ave & Garfield Blvd', 'Millennium Park', 'Marshfield Ave & 59th St', 'Milwaukee Ave & Grand Ave', 'California Ave & Cortez St', 'Fairbanks Ct & Grand Ave', 'Damen Ave & Leland Ave', 'Kedzie Ave & 21st St', 'Clark St & Armitage Ave', 'Elizabeth St & 47th St', 'Blue Island Ave & 18th St', 'Clinton St & Tilden St', 'Ridge Blvd & Touhy Ave', 'Millard Ave & 26th St', 'Campbell Ave & Fullerton Ave', 'Lincoln Ave & Diversey Pkwy', 'Stony Island Ave & South Chicago Ave', 'Calumet Ave & 33rd St', 'Central Park Blvd & 5th Ave', 'Jeffery Blvd & 71st St', 'Cottage Grove Ave & 83rd St', 'Damen Ave & Cullerton St', 'Princeton Ave & 47th St', 'Halsted St & 56th St', 'Green St & Madison St', 'Shields Ave & 43rd St', 'Wells St & Walton St', 'McCormick Place', 'Lincoln Ave & Belle Plaine Ave', 'Leavitt St & Armitage Ave', 'Albany (Kedzie) Ave & Montrose Ave', 'Knox Ave & Montrose Ave', 'Carpenter St & Huron St', 'State St & 35th St', 'Damen Ave & Coulter St', 'Lake Park Ave & 53rd St', 'Kostner Ave & Adams St', 'Sheridan Rd & Lawrence Ave', 'Broadway & Ridge Ave', 'Ravenswood Ave & Lawrence Ave', 'Ellis Ave & 55th St', 'Spaulding Ave & Armitage Ave', 'California Ave & 23rd Pl', 'Cityfront Plaza Dr & Pioneer Ct', 'Rhodes Ave & 32nd St', 'Oak Park Ave & Harrison St', 'Vernon Ave & 75th St', 'Vernon Ave & 79th St', 'Saginaw Ave & Exchange Ave', 'Rainbow Beach', 'Damen Ave & Division St', 'Dayton St & North Ave', 'Michigan Ave & Washington St', 'California Ave & 21st St', 'Manor Ave & Leland Ave', 'Larrabee St & Kingsbury St', 'Kedzie Ave & Chicago Ave', 'Halsted St & Diversey Pkwy', 'Clark St & Berwyn Ave', 'Eberhart Ave & 61st St', 'Sheffield Ave & Waveland Ave', '900 W Harrison St', 'Wabash Ave & Wacker Pl', 'Michigan Ave & Pearson St', 'Larrabee St & Menomonee St', 'Wentworth Ave & 33rd St', 'Kingsbury St & Erie St', 'Winchester Ave & Elston Ave', 'Halsted St & 63rd St', 'Warren Park East', 'Halsted St & 51st St', 'Racine Ave & 61st St', 'Dorchester Ave & 49th St', 'DuSable Museum', 'Kedzie Ave & Milwaukee Ave', 'State St & Pershing Rd', 'Cottage Grove Ave & 71st St', 'State St & Kinzie St', 'Halsted St & Dickens Ave', 'Cottage Grove Ave & 47th St', 'Stony Island Ave & 67th St', 'Commercial Ave & 83rd St', 'St. Louis Ave & Balmoral Ave', 'Racine Ave & Wrightwood Ave', 'Paulina St & Montrose Ave', 'Clark St & Lunt Ave', 'Ashland Ave & Blackhawk St', 'Halsted St & 69th St', 'Evans Ave & 75th St', 'Mies van der Rohe Way & Chicago Ave', 'Lincoln Ave & Leavitt St', 'Francisco Ave & Foster Ave', 'Kedzie Ave & Harrison St', 'Woodlawn Ave & Lake Park Ave', 'State St & 76th St', 'Keystone Ave & Fullerton Ave', 'May St & Cullerton St', 'Lincoln Ave & Addison St', 'Prairie Ave & Garfield Blvd', 'Stockton Dr & Wrightwood Ave', 'State St & Pearson St', 'Lake Shore Dr & Wellington Ave', 'Dearborn St & Erie St', 'Cicero Ave & Quincy St', 'Wood St & Hubbard St', 'Halsted St & North Branch St', 'Damen Ave & Madison St', 'Leavitt St & North Ave', 'Wabash Ave & Cermak Rd', 'California Ave & North Ave', 'Shields Ave & 28th Pl', 'Clark St & Chicago Ave', 'Sawyer Ave & Irving Park Rd', 'Greenview Ave & Diversey Pkwy', 'Ridge Blvd & Howard St', 'Ellis Ave & 53rd St', 'Hermitage Ave & Polk St', 'Lake Shore Dr & North Blvd', 'Eastlake Ter & Rogers Ave', 'Western Ave & Leland Ave', 'Clark St & Montrose Ave', 'Sheridan Rd & Loyola Ave', 'Clark St & Randolph St', 'Greenview Ave & Jarvis Ave', 'Southport Ave & Wrightwood Ave', 'Emerald Ave & 28th St', 'Ashland Ave & 66th St', 'Ashland Ave & Belle Plaine Ave', 'Dearborn St & Adams St', 'Clifton Ave & Armitage Ave', 'Southport Ave & Irving Park Rd', 'Cuyler Ave & Augusta St', 'Sedgwick St & Webster Ave', 'Ashland Ave & 21st St', 'Austin Blvd & Lake St', 'Chicago Ave & Washington St', 'Forest Ave & Chicago Ave', 'Sedgwick St & North Ave', 'Broadway & Sheridan Rd', 'Canal St & Taylor St', 'Kedzie Ave & Foster Ave', 'Broadway & Thorndale Ave', 'Dorchester Ave & 63rd St', 'Franklin St & Chicago Ave', 'California Ave & Milwaukee Ave', 'Wabash Ave & Roosevelt Rd', 'Clark St & 9th St (AMLI)', 'Washtenaw Ave & Lawrence Ave', 'Wolcott Ave & Fargo Ave', 'Wentworth Ave & 24th St', 'Morgan St & Pershing Rd', 'Drake Ave & Montrose Ave', 'Wisconsin Ave & Madison St', 'Troy St & Elston Ave', 'South Shore Dr & 67th St', 'Humboldt Blvd & Armitage Ave', 'Clark St & Lake St', 'Stave St & Armitage Ave', 'Stony Island Ave & 75th St', 'Shields Ave & 31st St', 'Bosworth Ave & Howard St', 'Ridgeland Ave & Lake St', 'Loomis St & Jackson Blvd', 'Morgan St & 18th St', 'Lincoln Ave & Belmont Ave', 'Clark St & Leland Ave', 'LaSalle St & Illinois St', 'LaSalle St & Adams St', 'Jeffery Blvd & 67th St', 'Clark St & Columbia Ave', 'Kedzie Ave & Palmer Ct', 'Western Ave & 21st St', 'Shore Dr & 55th St', 'Larrabee St & Armitage Ave', 'Mason Ave & Madison St', 'Prairie Ave & 43rd St', 'Clark St & North Ave', 'Wilton Ave & Belmont Ave', 'Central Ave & Harrison St', 'Franklin St & Jackson Blvd', 'Orleans St & Ohio St', 'California Ave & 26th St', 'South Chicago Ave & 83rd St', 'Wabash Ave & 87th St', 'Glenwood Ave & Morse Ave', 'Pulaski Rd & Madison St', 'Clarendon Ave & Gordon Ter', 'May St & Taylor St', 'Ashland Ave & Chicago Ave', 'Field Museum', 'Lake Park Ave & 35th St', 'Clifton Ave & Lawrence Ave', 'Valli Produce - Evanston Plaza', 'Morgan St & Polk St', 'Lakeview Ave & Fullerton Pkwy', 'Lincoln Ave & Roscoe St', 'Ashland Ave & 50th St', 'St. Clair St & Erie St', 'Western Ave & Congress Pkwy', 'Wentworth Ave & 63rd St', 'Lake Shore Dr & Diversey Pkwy', 'Cicero Ave & Lake St', 'Ellis Ave & 58th St', 'Racine Ave & 13th St', 'Stony Island Ave & 71st St', 'Southport Ave & Wellington Ave', 'Chicago Ave & Sheridan Rd', 'Calumet Ave & 35th St', 'Seeley Ave & Garfield Blvd', 'Wells St & Concord Ln', 'Claremont Ave & Hirsch St', 'Paulina St & Howard St', 'Ogden Ave & Race Ave', 'Emerald Ave & 31st St', 'MLK Jr Dr & Oakwood Blvd', 'Leavitt St & Addison St', 'Racine Ave & 65th St', 'Desplaines St & Jackson Blvd', 'Racine Ave & Belmont Ave', 'Marion St & South Blvd', 'Ashland Ave & Grace St', 'Laramie Ave & Madison St', 'Sheffield Ave & Fullerton Ave', 'Wells St & Evergreen Ave', 'Halsted St & Polk St', 'Hoyne Ave & 47th St', 'Budlong Woods Library', 'Michigan Ave & 14th St', 'Southport Ave & Belmont Ave', 'Pulaski Rd & Lake St', 'Washtenaw Ave & 15th St (*)', 'Ashland Ave & 13th St', 'Ravenswood Ave & Irving Park Rd', 'Clinton St & Roosevelt Rd', 'Cottage Grove Ave & 43rd St', 'Bissell St & Armitage Ave', 'Cornell Ave & Hyde Park Blvd', 'Lincoln Ave & Fullerton Ave', 'Stony Island Ave & 64th St', 'Clinton St & Madison St', 'Oakley Ave & Irving Park Rd', 'Clinton St & Polk St (*)', 'Orleans St & Elm St (*)', 'Ashland Ave & 63rd St', 'California Ave & Lake St', 'Cannon Dr & Fullerton Ave', 'Ravenswood Ave & Berteau Ave', 'Avers Ave & Belmont Ave', 'Broadway & Waveland Ave', 'Kilbourn Ave & Irving Park Rd', 'Indiana Ave & 31st St', 'Ashland Ave & Augusta Blvd'}\n"
     ]
    }
   ],
   "source": [
    "user_types = set(column_to_list(data_list, 3))\n",
    "\n",
    "print(\"\\nTAREFA 10: Imprimindo as start stations:\")\n",
    "print(len(user_types))\n",
    "print(user_types)"
   ]
  },
  {
   "cell_type": "code",
   "execution_count": null,
   "metadata": {},
   "outputs": [],
   "source": []
  }
 ],
 "metadata": {
  "kernelspec": {
   "display_name": "Python 3",
   "language": "python",
   "name": "python3"
  },
  "language_info": {
   "codemirror_mode": {
    "name": "ipython",
    "version": 3
   },
   "file_extension": ".py",
   "mimetype": "text/x-python",
   "name": "python",
   "nbconvert_exporter": "python",
   "pygments_lexer": "ipython3",
   "version": "3.6.4"
  },
  "toc": {
   "base_numbering": 1,
   "nav_menu": {},
   "number_sections": true,
   "sideBar": true,
   "skip_h1_title": true,
   "title_cell": "Table of Contents",
   "title_sidebar": "Contents",
   "toc_cell": true,
   "toc_position": {},
   "toc_section_display": true,
   "toc_window_display": false
  }
 },
 "nbformat": 4,
 "nbformat_minor": 2
}
