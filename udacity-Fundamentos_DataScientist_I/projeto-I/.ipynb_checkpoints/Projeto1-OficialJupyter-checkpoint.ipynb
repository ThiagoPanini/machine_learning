{
 "cells": [
  {
   "cell_type": "markdown",
   "metadata": {},
   "source": [
    "# Projeto I - Fundamentos de Data Scientist I - Udacity\n",
    "\n",
    "### Explorando os dados de bicicletas compartilhadas em Chicago"
   ]
  },
  {
   "cell_type": "code",
   "execution_count": 1,
   "metadata": {},
   "outputs": [],
   "source": [
    "# Colunas (campos) presentes neste dataset:\n",
    "    # Start Time\n",
    "    # End Time\n",
    "    # Trip Duration\n",
    "    # Start Station\n",
    "    # End Station\n",
    "    # User Type\n",
    "    # Gender\n",
    "    # Birth Year"
   ]
  },
  {
   "cell_type": "code",
   "execution_count": 38,
   "metadata": {},
   "outputs": [],
   "source": [
    "# Imports iniciais\n",
    "import csv\n",
    "import matplotlib.pyplot as plt"
   ]
  },
  {
   "cell_type": "code",
   "execution_count": 3,
   "metadata": {},
   "outputs": [],
   "source": [
    "# Tratanto lista com csv.reader\n",
    "with open('chicago-bikeshare-pt/chicago.csv', 'r') as file_read:\n",
    "    reader = csv.reader(file_read)\n",
    "    data_list = list(reader)"
   ]
  },
  {
   "cell_type": "code",
   "execution_count": 5,
   "metadata": {},
   "outputs": [],
   "source": [
    "# Tratando lista (dict) com csv.DictReader\n",
    "with open('chicago-bikeshare-pt/chicago.csv', 'r') as file_read:\n",
    "    named_list = [{k: v for k, v in row.items()} for row in csv.DictReader(file_read, skipinitialspace=True)]"
   ]
  },
  {
   "cell_type": "code",
   "execution_count": 12,
   "metadata": {},
   "outputs": [
    {
     "name": "stdout",
     "output_type": "stream",
     "text": [
      "Testando data_list\n",
      "['Start Time', 'End Time', 'Trip Duration', 'Start Station', 'End Station', 'User Type', 'Gender', 'Birth Year']\n",
      "\n",
      "Acessando Gênero da segunda amostra através de data_list\n",
      "Male\n",
      "\n",
      " - - -\n",
      "\n",
      "Testando named_list\n",
      "{'Start Time': '2017-01-01 00:00:36', 'End Time': '2017-01-01 00:06:32', 'Trip Duration': '356', 'Start Station': 'Canal St & Taylor St', 'End Station': 'Canal St & Monroe St (*)', 'User Type': 'Customer', 'Gender': '', 'Birth Year': ''}\n",
      "\n",
      "Acessando Gênero da segunda amostra através de named_list\n",
      "Male\n"
     ]
    }
   ],
   "source": [
    "# Testando ambos\n",
    "print('Testando data_list')\n",
    "print(data_list[0])\n",
    "print('\\nAcessando Gênero da segunda amostra através de data_list')\n",
    "print(data_list[2][6])\n",
    "\n",
    "print('\\n- - -')\n",
    "\n",
    "print('\\nTestando named_list')\n",
    "print(named_list[0])\n",
    "print('\\nAcessando Gênero da segunda amostra através de named_list')\n",
    "print(named_list[1]['Gender'])\n"
   ]
  },
  {
   "cell_type": "code",
   "execution_count": 13,
   "metadata": {},
   "outputs": [
    {
     "name": "stdout",
     "output_type": "stream",
     "text": [
      "['2017-01-01 00:00:36', '2017-01-01 00:06:32', '356', 'Canal St & Taylor St', 'Canal St & Monroe St (*)', 'Customer', '', '']\n",
      "['2017-01-01 00:02:54', '2017-01-01 00:08:21', '327', 'Larrabee St & Menomonee St', 'Sheffield Ave & Kingsbury St', 'Subscriber', 'Male', '1984.0']\n",
      "['2017-01-01 00:06:06', '2017-01-01 00:18:31', '745', 'Orleans St & Chestnut St (NEXT Apts)', 'Ashland Ave & Blackhawk St', 'Subscriber', 'Male', '1985.0']\n",
      "['2017-01-01 00:07:28', '2017-01-01 00:12:51', '323', 'Franklin St & Monroe St', 'Clinton St & Tilden St', 'Subscriber', 'Male', '1990.0']\n",
      "['2017-01-01 00:07:57', '2017-01-01 00:20:53', '776', 'Broadway & Barry Ave', 'Sedgwick St & North Ave', 'Subscriber', 'Male', '1990.0']\n",
      "['2017-01-01 00:10:44', '2017-01-01 00:21:27', '643', 'State St & Kinzie St', 'Wells St & Polk St', 'Subscriber', 'Male', '1970.0']\n",
      "['2017-01-01 00:11:34', '2017-01-01 00:23:47', '733', 'Wabash Ave & Wacker Pl', 'Clinton St & Tilden St', 'Subscriber', 'Male', '1986.0']\n",
      "['2017-01-01 00:14:57', '2017-01-01 00:26:22', '685', 'Daley Center Plaza', 'Canal St & Monroe St (*)', 'Customer', '', '']\n",
      "['2017-01-01 00:15:03', '2017-01-01 00:26:28', '685', 'Daley Center Plaza', 'Canal St & Monroe St (*)', 'Customer', '', '']\n",
      "['2017-01-01 00:17:01', '2017-01-01 00:29:49', '768', 'Dayton St & North Ave', 'Ogden Ave & Chicago Ave', 'Customer', '', '']\n",
      "['2017-01-01 00:17:13', '2017-01-01 11:03:34', '38781', 'Wilton Ave & Diversey Pkwy', 'Halsted St & Wrightwood Ave', 'Subscriber', 'Female', '1988.0']\n",
      "['2017-01-01 00:18:28', '2017-01-01 00:31:05', '757', 'Canal St & Madison St', 'LaSalle St & Illinois St', 'Customer', '', '']\n",
      "['2017-01-01 00:18:50', '2017-01-01 00:21:47', '177', 'Theater on the Lake', 'Lakeview Ave & Fullerton Pkwy', 'Subscriber', 'Male', '1991.0']\n",
      "['2017-01-01 00:23:41', '2017-01-01 00:29:13', '332', 'Halsted St & Maxwell St', 'Halsted St & 18th St', 'Subscriber', 'Male', '1984.0']\n",
      "['2017-01-01 00:25:47', '2017-01-01 00:39:53', '846', 'Ravenswood Ave & Lawrence Ave', 'Clarendon Ave & Gordon Ter', 'Subscriber', 'Female', '1987.0']\n",
      "['2017-01-01 00:25:47', '2017-01-01 00:43:23', '1056', 'Clark St & Congress Pkwy', 'Wolcott Ave & Polk St', 'Subscriber', 'Male', '1984.0']\n",
      "['2017-01-01 00:26:21', '2017-01-01 00:39:40', '799', 'Ravenswood Ave & Lawrence Ave', 'Clarendon Ave & Gordon Ter', 'Subscriber', 'Male', '1987.0']\n",
      "['2017-01-01 00:27:21', '2017-01-01 00:42:59', '938', 'Millennium Park', 'Michigan Ave & 18th St', 'Subscriber', 'Male', '1991.0']\n",
      "['2017-01-01 00:27:28', '2017-01-01 00:42:44', '916', 'Millennium Park', 'Michigan Ave & 18th St', 'Subscriber', 'Female', '1990.0']\n",
      "['2017-01-01 00:27:45', '2017-01-01 00:31:13', '208', 'Damen Ave & Chicago Ave', 'Damen Ave & Division St', 'Subscriber', 'Male', '1982.0']\n"
     ]
    }
   ],
   "source": [
    "## Tarefa 1: Imprimindo as 20 primeiras amostras\n",
    "\n",
    "# 1) Via data_list\n",
    "for i in range(1, 21):\n",
    "    print(data_list[i])"
   ]
  },
  {
   "cell_type": "code",
   "execution_count": 16,
   "metadata": {},
   "outputs": [
    {
     "name": "stdout",
     "output_type": "stream",
     "text": [
      "AMOSTRA 1: {'Start Time': '2017-01-01 00:00:36', 'End Time': '2017-01-01 00:06:32', 'Trip Duration': '356', 'Start Station': 'Canal St & Taylor St', 'End Station': 'Canal St & Monroe St (*)', 'User Type': 'Customer', 'Gender': '', 'Birth Year': ''}\n",
      "\n",
      "AMOSTRA 2: {'Start Time': '2017-01-01 00:02:54', 'End Time': '2017-01-01 00:08:21', 'Trip Duration': '327', 'Start Station': 'Larrabee St & Menomonee St', 'End Station': 'Sheffield Ave & Kingsbury St', 'User Type': 'Subscriber', 'Gender': 'Male', 'Birth Year': '1984.0'}\n",
      "\n",
      "AMOSTRA 3: {'Start Time': '2017-01-01 00:06:06', 'End Time': '2017-01-01 00:18:31', 'Trip Duration': '745', 'Start Station': 'Orleans St & Chestnut St (NEXT Apts)', 'End Station': 'Ashland Ave & Blackhawk St', 'User Type': 'Subscriber', 'Gender': 'Male', 'Birth Year': '1985.0'}\n",
      "\n",
      "AMOSTRA 4: {'Start Time': '2017-01-01 00:07:28', 'End Time': '2017-01-01 00:12:51', 'Trip Duration': '323', 'Start Station': 'Franklin St & Monroe St', 'End Station': 'Clinton St & Tilden St', 'User Type': 'Subscriber', 'Gender': 'Male', 'Birth Year': '1990.0'}\n",
      "\n",
      "AMOSTRA 5: {'Start Time': '2017-01-01 00:07:57', 'End Time': '2017-01-01 00:20:53', 'Trip Duration': '776', 'Start Station': 'Broadway & Barry Ave', 'End Station': 'Sedgwick St & North Ave', 'User Type': 'Subscriber', 'Gender': 'Male', 'Birth Year': '1990.0'}\n",
      "\n",
      "AMOSTRA 6: {'Start Time': '2017-01-01 00:10:44', 'End Time': '2017-01-01 00:21:27', 'Trip Duration': '643', 'Start Station': 'State St & Kinzie St', 'End Station': 'Wells St & Polk St', 'User Type': 'Subscriber', 'Gender': 'Male', 'Birth Year': '1970.0'}\n",
      "\n",
      "AMOSTRA 7: {'Start Time': '2017-01-01 00:11:34', 'End Time': '2017-01-01 00:23:47', 'Trip Duration': '733', 'Start Station': 'Wabash Ave & Wacker Pl', 'End Station': 'Clinton St & Tilden St', 'User Type': 'Subscriber', 'Gender': 'Male', 'Birth Year': '1986.0'}\n",
      "\n",
      "AMOSTRA 8: {'Start Time': '2017-01-01 00:14:57', 'End Time': '2017-01-01 00:26:22', 'Trip Duration': '685', 'Start Station': 'Daley Center Plaza', 'End Station': 'Canal St & Monroe St (*)', 'User Type': 'Customer', 'Gender': '', 'Birth Year': ''}\n",
      "\n",
      "AMOSTRA 9: {'Start Time': '2017-01-01 00:15:03', 'End Time': '2017-01-01 00:26:28', 'Trip Duration': '685', 'Start Station': 'Daley Center Plaza', 'End Station': 'Canal St & Monroe St (*)', 'User Type': 'Customer', 'Gender': '', 'Birth Year': ''}\n",
      "\n",
      "AMOSTRA 10: {'Start Time': '2017-01-01 00:17:01', 'End Time': '2017-01-01 00:29:49', 'Trip Duration': '768', 'Start Station': 'Dayton St & North Ave', 'End Station': 'Ogden Ave & Chicago Ave', 'User Type': 'Customer', 'Gender': '', 'Birth Year': ''}\n",
      "\n",
      "AMOSTRA 11: {'Start Time': '2017-01-01 00:17:13', 'End Time': '2017-01-01 11:03:34', 'Trip Duration': '38781', 'Start Station': 'Wilton Ave & Diversey Pkwy', 'End Station': 'Halsted St & Wrightwood Ave', 'User Type': 'Subscriber', 'Gender': 'Female', 'Birth Year': '1988.0'}\n",
      "\n",
      "AMOSTRA 12: {'Start Time': '2017-01-01 00:18:28', 'End Time': '2017-01-01 00:31:05', 'Trip Duration': '757', 'Start Station': 'Canal St & Madison St', 'End Station': 'LaSalle St & Illinois St', 'User Type': 'Customer', 'Gender': '', 'Birth Year': ''}\n",
      "\n",
      "AMOSTRA 13: {'Start Time': '2017-01-01 00:18:50', 'End Time': '2017-01-01 00:21:47', 'Trip Duration': '177', 'Start Station': 'Theater on the Lake', 'End Station': 'Lakeview Ave & Fullerton Pkwy', 'User Type': 'Subscriber', 'Gender': 'Male', 'Birth Year': '1991.0'}\n",
      "\n",
      "AMOSTRA 14: {'Start Time': '2017-01-01 00:23:41', 'End Time': '2017-01-01 00:29:13', 'Trip Duration': '332', 'Start Station': 'Halsted St & Maxwell St', 'End Station': 'Halsted St & 18th St', 'User Type': 'Subscriber', 'Gender': 'Male', 'Birth Year': '1984.0'}\n",
      "\n",
      "AMOSTRA 15: {'Start Time': '2017-01-01 00:25:47', 'End Time': '2017-01-01 00:39:53', 'Trip Duration': '846', 'Start Station': 'Ravenswood Ave & Lawrence Ave', 'End Station': 'Clarendon Ave & Gordon Ter', 'User Type': 'Subscriber', 'Gender': 'Female', 'Birth Year': '1987.0'}\n",
      "\n",
      "AMOSTRA 16: {'Start Time': '2017-01-01 00:25:47', 'End Time': '2017-01-01 00:43:23', 'Trip Duration': '1056', 'Start Station': 'Clark St & Congress Pkwy', 'End Station': 'Wolcott Ave & Polk St', 'User Type': 'Subscriber', 'Gender': 'Male', 'Birth Year': '1984.0'}\n",
      "\n",
      "AMOSTRA 17: {'Start Time': '2017-01-01 00:26:21', 'End Time': '2017-01-01 00:39:40', 'Trip Duration': '799', 'Start Station': 'Ravenswood Ave & Lawrence Ave', 'End Station': 'Clarendon Ave & Gordon Ter', 'User Type': 'Subscriber', 'Gender': 'Male', 'Birth Year': '1987.0'}\n",
      "\n",
      "AMOSTRA 18: {'Start Time': '2017-01-01 00:27:21', 'End Time': '2017-01-01 00:42:59', 'Trip Duration': '938', 'Start Station': 'Millennium Park', 'End Station': 'Michigan Ave & 18th St', 'User Type': 'Subscriber', 'Gender': 'Male', 'Birth Year': '1991.0'}\n",
      "\n",
      "AMOSTRA 19: {'Start Time': '2017-01-01 00:27:28', 'End Time': '2017-01-01 00:42:44', 'Trip Duration': '916', 'Start Station': 'Millennium Park', 'End Station': 'Michigan Ave & 18th St', 'User Type': 'Subscriber', 'Gender': 'Female', 'Birth Year': '1990.0'}\n",
      "\n",
      "AMOSTRA 20: {'Start Time': '2017-01-01 00:27:45', 'End Time': '2017-01-01 00:31:13', 'Trip Duration': '208', 'Start Station': 'Damen Ave & Chicago Ave', 'End Station': 'Damen Ave & Division St', 'User Type': 'Subscriber', 'Gender': 'Male', 'Birth Year': '1982.0'}\n",
      "\n"
     ]
    }
   ],
   "source": [
    "## Tarefa 1: Imprimindo as 20 primeiras amostras\n",
    "\n",
    "# 2) Via named_list (dict)\n",
    "for i in range(20):\n",
    "    print(f'{\"AMOSTRA \"}{i+1}: {named_list[i]}')\n",
    "    print()"
   ]
  },
  {
   "cell_type": "code",
   "execution_count": 17,
   "metadata": {},
   "outputs": [
    {
     "name": "stdout",
     "output_type": "stream",
     "text": [
      "Amostra 1: Não informado\n",
      "Amostra 2: Male\n",
      "Amostra 3: Male\n",
      "Amostra 4: Male\n",
      "Amostra 5: Male\n",
      "Amostra 6: Male\n",
      "Amostra 7: Male\n",
      "Amostra 8: Não informado\n",
      "Amostra 9: Não informado\n",
      "Amostra 10: Não informado\n",
      "Amostra 11: Female\n",
      "Amostra 12: Não informado\n",
      "Amostra 13: Male\n",
      "Amostra 14: Male\n",
      "Amostra 15: Female\n",
      "Amostra 16: Male\n",
      "Amostra 17: Male\n",
      "Amostra 18: Male\n",
      "Amostra 19: Female\n",
      "Amostra 20: Male\n"
     ]
    }
   ],
   "source": [
    "# Tarefa 2: imprimindo o gênero das 20 primeiras amostras\n",
    "\n",
    "# 1) Via data_list\n",
    "data_list = data_list[1:] # Excluindo o cabeçalho da lista\n",
    "for i in range(20):\n",
    "    print(f'{\"Amostra \"}{i+1}: {data_list[i][6] if data_list[i][6] != \"\" else \"Não informado\"}')\n",
    "\n"
   ]
  },
  {
   "cell_type": "code",
   "execution_count": 18,
   "metadata": {},
   "outputs": [
    {
     "name": "stdout",
     "output_type": "stream",
     "text": [
      "Amostra1: Não informado\n",
      "Amostra2: Male\n",
      "Amostra3: Male\n",
      "Amostra4: Male\n",
      "Amostra5: Male\n",
      "Amostra6: Male\n",
      "Amostra7: Male\n",
      "Amostra8: Não informado\n",
      "Amostra9: Não informado\n",
      "Amostra10: Não informado\n",
      "Amostra11: Female\n",
      "Amostra12: Não informado\n",
      "Amostra13: Male\n",
      "Amostra14: Male\n",
      "Amostra15: Female\n",
      "Amostra16: Male\n",
      "Amostra17: Male\n",
      "Amostra18: Male\n",
      "Amostra19: Female\n",
      "Amostra20: Male\n"
     ]
    }
   ],
   "source": [
    "# Tarefa 2: imprimindo o gênero das 20 primeiras amostras\n",
    "\n",
    "# 2) Via named_list (dict)\n",
    "for i in range(20):\n",
    "    print(f'{\"Amostra\"}{i+1}: {named_list[i][\"Gender\"] if named_list[i][\"Gender\"] != \"\" else \"Não informado\"}')"
   ]
  },
  {
   "cell_type": "code",
   "execution_count": 33,
   "metadata": {},
   "outputs": [
    {
     "name": "stdout",
     "output_type": "stream",
     "text": [
      "1551505\n",
      "['', 'Male', 'Male', 'Male', 'Male', 'Male', 'Male', '', '', '', 'Female', '', 'Male', 'Male', 'Female', 'Male', 'Male', 'Male', 'Female', 'Male']\n"
     ]
    }
   ],
   "source": [
    "# Tarefa 3: Crie uma função para adicionar as colunas(features) de uma lista em outra lista, na mesma ordem\n",
    "\n",
    "def column_to_list(data, index):\n",
    "    \"\"\"\n",
    "    Cria uma lista com todos os dados referentes a uma determinada coluna\n",
    "    \n",
    "    Argumentos:\n",
    "    data -- Dataset no qual deseja-se extrair os campos (list)\n",
    "    index -- Referência numérica do índice da coluna dentro do referido Dataset (int)\n",
    "    \n",
    "    Retorno:\n",
    "    column_list -- Lista com todos os dados referentes ao campo em questão (list)\n",
    "    \"\"\"\n",
    "    column_list = []\n",
    "    for registro in data:\n",
    "        try:\n",
    "            column_list.append(registro[index])\n",
    "        except IndexError:\n",
    "            message = 'Para o data_set \"data\", selecione um \"index\" < {}.'.format(len(data[0]))\n",
    "            return message\n",
    "    return column_list\n",
    "\n",
    "coluna_ano_nascimento = column_to_list(data_list, 7)\n",
    "print(len(column_to_list(data_list, -2)))\n",
    "print(column_to_list(data_list, -2)[:20])"
   ]
  },
  {
   "cell_type": "code",
   "execution_count": 31,
   "metadata": {},
   "outputs": [
    {
     "name": "stdout",
     "output_type": "stream",
     "text": [
      "['', '1984.0', '1985.0', '1990.0', '1990.0', '1970.0', '1986.0', '', '', '', '1988.0', '', '1991.0', '1984.0', '1987.0', '1984.0', '1987.0', '1991.0', '1990.0', '1982.0', '1982.0', '', '1985.0', '', '1979.0', '1961.0', '', '1990.0', '1989.0', '', '1986.0', '', '1967.0', '1985.0', '1954.0', '1968.0', '1964.0', '1980.0', '1986.0', '1980.0', '1975.0', '', '', '1993.0', '1966.0', '', '1992.0', '1970.0', '1979.0', '1975.0']\n"
     ]
    }
   ],
   "source": [
    "# Tarefa 3: Crie uma função para adicionar as colunas(features) de uma lista em outra lista, na mesma ordem\n",
    "\n",
    "def column_to_list(data, index):\n",
    "    \"\"\"\n",
    "    Cria uma lista com todos os dados referentes a uma determinada coluna\n",
    "    \n",
    "    Argumentos:\n",
    "    data -- Dataset no qual deseja-se extrair os campos (lista de dicionários)\n",
    "    index -- Nome da coluna [chave] dentro do referido Dataset (string)\n",
    "    \n",
    "    Retorno:\n",
    "    column_list -- Lista com todos os dados referentes ao campo em questão (list)\n",
    "    \"\"\"\n",
    "    column_list = []\n",
    "    index = index.title() # Evita erros do tipo \"birth year\" != \"Birth Year\"\n",
    "    for registro in data:\n",
    "        try:\n",
    "            column_list.append(registro[index])\n",
    "        except KeyError:\n",
    "            print('Coluna inexistente no Dataset \"data\". Veja as entradas possíveis: ')\n",
    "            chaves = list(registro.keys())\n",
    "            return chaves\n",
    "    return column_list\n",
    "\n",
    "result = column_to_list(named_list, 'birth year')\n",
    "print(result[:50])        "
   ]
  },
  {
   "cell_type": "code",
   "execution_count": 35,
   "metadata": {},
   "outputs": [
    {
     "name": "stdout",
     "output_type": "stream",
     "text": [
      "Masculinos: 935854\n",
      "Feminino: 298784\n"
     ]
    }
   ],
   "source": [
    "# TAREFA 4\n",
    "# Agora sabemos como acessar as features, vamos contar quantos Male (Masculinos) e Female (Femininos) o dataset tem\n",
    "# TODO: Conte cada gênero. Você não deveria usar uma função parTODO isso.\n",
    "masculino = feminino = 0\n",
    "\n",
    "gender_column_data = column_to_list(data_list, 6)\n",
    "\n",
    "for gender in gender_column_data:\n",
    "    if gender == 'Male':\n",
    "        masculino += 1\n",
    "    elif gender == 'Female':\n",
    "        feminino += 1\n",
    "\n",
    "print(f'Masculinos: {masculino}\\nFeminino: {feminino}')"
   ]
  },
  {
   "cell_type": "code",
   "execution_count": 36,
   "metadata": {},
   "outputs": [
    {
     "name": "stdout",
     "output_type": "stream",
     "text": [
      "<class 'list'>\n",
      "Tamanho da lista retornada: 2\n",
      "Masculinos: 935854\n",
      "Femininos: 298784\n"
     ]
    }
   ],
   "source": [
    "# TAREFA 5\n",
    "# TODO: Crie uma função para contar os gêneros. Retorne uma lista.\n",
    "# Isso deveria retornar uma lista com [count_male, count_female] (exemplo: [10, 15] significa 10 Masculinos, 15 Femininos)\n",
    "def count_gender(data_list):\n",
    "    male = 0\n",
    "    female = 0\n",
    "    \n",
    "    gender_column_data = column_to_list(data_list, 6)\n",
    "    \n",
    "    for gender in gender_column_data:\n",
    "        if gender == 'Male':\n",
    "            male += 1\n",
    "        elif gender == 'Female':\n",
    "            female += 1\n",
    "    return [male, female]\n",
    "\n",
    "gender_list = count_gender(data_list)\n",
    "print(type(gender_list))\n",
    "print(f'Tamanho da lista retornada: {len(gender_list)}')\n",
    "print(f'Masculinos: {gender_list[0]}')\n",
    "print(f'Femininos: {gender_list[1]}')"
   ]
  },
  {
   "cell_type": "code",
   "execution_count": 37,
   "metadata": {},
   "outputs": [
    {
     "name": "stdout",
     "output_type": "stream",
     "text": [
      "Male\n"
     ]
    }
   ],
   "source": [
    "# Agora que nós podemos contar os usuários, qual gênero é mais prevalente?\n",
    "# TAREFA 6\n",
    "# TODO: Crie uma função que pegue o gênero mais popular, e retorne este gênero como uma string.\n",
    "# Esperamos ver \"Masculino\", \"Feminino\", ou \"Igual\" como resposta.\n",
    "def most_popular_gender(data_list):\n",
    "    male = 0\n",
    "    female = 0   \n",
    "    gender_column_data = column_to_list(data_list, 6)    \n",
    "    \n",
    "    for gender in gender_column_data:\n",
    "        if gender == 'Male':\n",
    "            male += 1\n",
    "        elif gender == 'Female':\n",
    "            female += 1\n",
    "    \n",
    "    if male > female:\n",
    "        answer = 'Male'\n",
    "    elif female > male:\n",
    "        answer = 'Female'\n",
    "    else:\n",
    "        answer = 'Igual'\n",
    "    \n",
    "    return answer\n",
    "\n",
    "print(most_popular_gender(data_list))"
   ]
  },
  {
   "cell_type": "code",
   "execution_count": null,
   "metadata": {},
   "outputs": [],
   "source": [
    "\"\"\"\n",
    "# Se tudo está rodando como esperado, verifique este gráfico!\n",
    "gender_list = column_to_list(data_list, -2)\n",
    "types = [\"Male\", \"Female\"]\n",
    "quantity = count_gender(data_list)\n",
    "y_pos = list(range(len(types)))\n",
    "plt.bar(y_pos, quantity)\n",
    "plt.ylabel('Quantidade')\n",
    "plt.xlabel('Gênero')\n",
    "plt.xticks(y_pos, types)\n",
    "plt.title('Quantidade por Gênero')\n",
    "plt.show(block=True)\n",
    "\n",
    "input(\"Aperte Enter para continuar...\")\n",
    "\"\"\""
   ]
  },
  {
   "cell_type": "code",
   "execution_count": 39,
   "metadata": {},
   "outputs": [
    {
     "data": {
      "image/png": "[encoded data removed]",
      "text/plain": [
       "<matplotlib.figure.Figure at 0x1e08d791a20>"
      ]
     },
     "metadata": {},
     "output_type": "display_data"
    }
   ],
   "source": [
    "# TAREFA 7\n",
    "# TODO: Crie um gráfico similar para user_types. Tenha certeza que a legenda está correta.\n",
    "\n",
    "def count_user_types(data_list):\n",
    "    costumer = subscriber = 0\n",
    "    \n",
    "    user_types_data = column_to_list(data_list, 5)\n",
    "    \n",
    "    for user_type in user_types_data:\n",
    "        if user_type == 'Customer':\n",
    "            costumer += 1\n",
    "        elif user_type == 'Subscriber':\n",
    "            subscriber += 1\n",
    "    return [costumer, subscriber]\n",
    "\n",
    "user_types_list = column_to_list(data_list, 5)\n",
    "#print(user_types_list[:40])\n",
    "types = ['Customer', 'Subscriber']\n",
    "quantity = count_user_types(data_list)\n",
    "#print(f'Customers: {quantity[0]} \\nSubscribers: {quantity[1]}')\n",
    "y_pos = list(range(len(types)))\n",
    "plt.bar(y_pos, quantity)\n",
    "plt.ylabel('Quantidade')\n",
    "plt.xlabel('Categorias de Usuário')\n",
    "plt.xticks(y_pos, types)\n",
    "plt.title('Quantidade por Categoria')\n",
    "plt.show(block=True)"
   ]
  },
  {
   "cell_type": "code",
   "execution_count": null,
   "metadata": {},
   "outputs": [],
   "source": [
    "min_trip = min(int(i) for i in trip_duration_list)\n",
    "max_trip = max(int(i) for i in trip_duration_list)\n",
    "mean_trip = (sum(int(i) for i in trip_duration_list)) / len(trip_duration_list)\n",
    "median_trip = statistics.median(int(i) for i in trip_duration_list)\n",
    "\n",
    "\"\"\"mediana = trip_duration_list[int((len(trip_duration_list)/2))+1]\n",
    "print(len(trip_duration_list))\n",
    "print(trip_duration_list.index('670'))\"\"\"\n",
    "\n",
    "\n",
    "print(f'Duração mínima de viagem: {min_trip}s')\n",
    "print(f'Duração máxima de viagem: {max_trip}s')\n",
    "print(f'Duração média de viagem: {mean_trip}s')\n",
    "print(f'Mediana: {median_trip}s')\n",
    "print(f'Mediana na raça: {mediana}s')"
   ]
  }
 ],
 "metadata": {
  "kernelspec": {
   "display_name": "Python 3",
   "language": "python",
   "name": "python3"
  },
  "language_info": {
   "codemirror_mode": {
    "name": "ipython",
    "version": 3
   },
   "file_extension": ".py",
   "mimetype": "text/x-python",
   "name": "python",
   "nbconvert_exporter": "python",
   "pygments_lexer": "ipython3",
   "version": "3.6.4"
  }
 },
 "nbformat": 4,
 "nbformat_minor": 2
}
