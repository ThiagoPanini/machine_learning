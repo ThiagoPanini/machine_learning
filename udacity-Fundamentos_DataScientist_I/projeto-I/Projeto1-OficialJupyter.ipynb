{
 "cells": [
  {
   "cell_type": "markdown",
   "metadata": {
    "toc": true
   },
   "source": [
    "<h1>Table of Contents<span class=\"tocSkip\"></span></h1>\n",
    "<div class=\"toc\"><ul class=\"toc-item\"><li><span><a href=\"#Explorando-os-dados-de-bicicletas-compartilhadas-em-Chicago\" data-toc-modified-id=\"Explorando-os-dados-de-bicicletas-compartilhadas-em-Chicago-1\"><span class=\"toc-item-num\">1&nbsp;&nbsp;</span>Explorando os dados de bicicletas compartilhadas em Chicago</a></span></li></ul></div>"
   ]
  },
  {
   "cell_type": "markdown",
   "metadata": {},
   "source": [
    "# Projeto I - Fundamentos de Data Scientist I - Udacity\n",
    "\n",
    "### Explorando os dados de bicicletas compartilhadas em Chicago"
   ]
  },
  {
   "cell_type": "code",
   "execution_count": 1,
   "metadata": {},
   "outputs": [],
   "source": [
    "# Colunas (campos) presentes neste dataset:\n",
    "    # Start Time\n",
    "    # End Time\n",
    "    # Trip Duration\n",
    "    # Start Station\n",
    "    # End Station\n",
    "    # User Type\n",
    "    # Gender\n",
    "    # Birth Year"
   ]
  },
  {
   "cell_type": "code",
   "execution_count": 15,
   "metadata": {},
   "outputs": [],
   "source": [
    "# Imports iniciais\n",
    "import csv\n",
    "import matplotlib.pyplot as plt\n",
    "import statistics"
   ]
  },
  {
   "cell_type": "code",
   "execution_count": 3,
   "metadata": {},
   "outputs": [],
   "source": [
    "# Tratanto lista com csv.reader\n",
    "with open('chicago-bikeshare-pt/chicago.csv', 'r') as file_read:\n",
    "    reader = csv.reader(file_read)\n",
    "    data_list = list(reader)"
   ]
  },
  {
   "cell_type": "code",
   "execution_count": 4,
   "metadata": {},
   "outputs": [],
   "source": [
    "# Tratando lista (dict) com csv.DictReader\n",
    "with open('chicago-bikeshare-pt/chicago.csv', 'r') as file_read:\n",
    "    named_list = [{k: v for k, v in row.items()} for row in csv.DictReader(file_read, skipinitialspace=True)]"
   ]
  },
  {
   "cell_type": "code",
   "execution_count": 5,
   "metadata": {},
   "outputs": [
    {
     "name": "stdout",
     "output_type": "stream",
     "text": [
      "Testando data_list\n",
      "['Start Time', 'End Time', 'Trip Duration', 'Start Station', 'End Station', 'User Type', 'Gender', 'Birth Year']\n",
      "\n",
      "Acessando Gênero da segunda amostra através de data_list\n",
      "Male\n",
      "\n",
      "- - -\n",
      "\n",
      "Testando named_list\n",
      "{'Start Time': '2017-01-01 00:00:36', 'End Time': '2017-01-01 00:06:32', 'Trip Duration': '356', 'Start Station': 'Canal St & Taylor St', 'End Station': 'Canal St & Monroe St (*)', 'User Type': 'Customer', 'Gender': '', 'Birth Year': ''}\n",
      "\n",
      "Acessando Gênero da segunda amostra através de named_list\n",
      "Male\n"
     ]
    }
   ],
   "source": [
    "# Testando ambos\n",
    "print('Testando data_list')\n",
    "print(data_list[0])\n",
    "print('\\nAcessando Gênero da segunda amostra através de data_list')\n",
    "print(data_list[2][6])\n",
    "\n",
    "print('\\n- - -')\n",
    "\n",
    "print('\\nTestando named_list')\n",
    "print(named_list[0])\n",
    "print('\\nAcessando Gênero da segunda amostra através de named_list')\n",
    "print(named_list[1]['Gender'])\n"
   ]
  },
  {
   "cell_type": "code",
   "execution_count": 6,
   "metadata": {},
   "outputs": [
    {
     "name": "stdout",
     "output_type": "stream",
     "text": [
      "['2017-01-01 00:00:36', '2017-01-01 00:06:32', '356', 'Canal St & Taylor St', 'Canal St & Monroe St (*)', 'Customer', '', '']\n",
      "['2017-01-01 00:02:54', '2017-01-01 00:08:21', '327', 'Larrabee St & Menomonee St', 'Sheffield Ave & Kingsbury St', 'Subscriber', 'Male', '1984.0']\n",
      "['2017-01-01 00:06:06', '2017-01-01 00:18:31', '745', 'Orleans St & Chestnut St (NEXT Apts)', 'Ashland Ave & Blackhawk St', 'Subscriber', 'Male', '1985.0']\n",
      "['2017-01-01 00:07:28', '2017-01-01 00:12:51', '323', 'Franklin St & Monroe St', 'Clinton St & Tilden St', 'Subscriber', 'Male', '1990.0']\n",
      "['2017-01-01 00:07:57', '2017-01-01 00:20:53', '776', 'Broadway & Barry Ave', 'Sedgwick St & North Ave', 'Subscriber', 'Male', '1990.0']\n",
      "['2017-01-01 00:10:44', '2017-01-01 00:21:27', '643', 'State St & Kinzie St', 'Wells St & Polk St', 'Subscriber', 'Male', '1970.0']\n",
      "['2017-01-01 00:11:34', '2017-01-01 00:23:47', '733', 'Wabash Ave & Wacker Pl', 'Clinton St & Tilden St', 'Subscriber', 'Male', '1986.0']\n",
      "['2017-01-01 00:14:57', '2017-01-01 00:26:22', '685', 'Daley Center Plaza', 'Canal St & Monroe St (*)', 'Customer', '', '']\n",
      "['2017-01-01 00:15:03', '2017-01-01 00:26:28', '685', 'Daley Center Plaza', 'Canal St & Monroe St (*)', 'Customer', '', '']\n",
      "['2017-01-01 00:17:01', '2017-01-01 00:29:49', '768', 'Dayton St & North Ave', 'Ogden Ave & Chicago Ave', 'Customer', '', '']\n",
      "['2017-01-01 00:17:13', '2017-01-01 11:03:34', '38781', 'Wilton Ave & Diversey Pkwy', 'Halsted St & Wrightwood Ave', 'Subscriber', 'Female', '1988.0']\n",
      "['2017-01-01 00:18:28', '2017-01-01 00:31:05', '757', 'Canal St & Madison St', 'LaSalle St & Illinois St', 'Customer', '', '']\n",
      "['2017-01-01 00:18:50', '2017-01-01 00:21:47', '177', 'Theater on the Lake', 'Lakeview Ave & Fullerton Pkwy', 'Subscriber', 'Male', '1991.0']\n",
      "['2017-01-01 00:23:41', '2017-01-01 00:29:13', '332', 'Halsted St & Maxwell St', 'Halsted St & 18th St', 'Subscriber', 'Male', '1984.0']\n",
      "['2017-01-01 00:25:47', '2017-01-01 00:39:53', '846', 'Ravenswood Ave & Lawrence Ave', 'Clarendon Ave & Gordon Ter', 'Subscriber', 'Female', '1987.0']\n",
      "['2017-01-01 00:25:47', '2017-01-01 00:43:23', '1056', 'Clark St & Congress Pkwy', 'Wolcott Ave & Polk St', 'Subscriber', 'Male', '1984.0']\n",
      "['2017-01-01 00:26:21', '2017-01-01 00:39:40', '799', 'Ravenswood Ave & Lawrence Ave', 'Clarendon Ave & Gordon Ter', 'Subscriber', 'Male', '1987.0']\n",
      "['2017-01-01 00:27:21', '2017-01-01 00:42:59', '938', 'Millennium Park', 'Michigan Ave & 18th St', 'Subscriber', 'Male', '1991.0']\n",
      "['2017-01-01 00:27:28', '2017-01-01 00:42:44', '916', 'Millennium Park', 'Michigan Ave & 18th St', 'Subscriber', 'Female', '1990.0']\n",
      "['2017-01-01 00:27:45', '2017-01-01 00:31:13', '208', 'Damen Ave & Chicago Ave', 'Damen Ave & Division St', 'Subscriber', 'Male', '1982.0']\n"
     ]
    }
   ],
   "source": [
    "## Tarefa 1: Imprimindo as 20 primeiras amostras\n",
    "\n",
    "# 1) Via data_list\n",
    "for i in range(1, 21):\n",
    "    print(data_list[i])"
   ]
  },
  {
   "cell_type": "code",
   "execution_count": 16,
   "metadata": {},
   "outputs": [
    {
     "name": "stdout",
     "output_type": "stream",
     "text": [
      "AMOSTRA 1: {'Start Time': '2017-01-01 00:00:36', 'End Time': '2017-01-01 00:06:32', 'Trip Duration': '356', 'Start Station': 'Canal St & Taylor St', 'End Station': 'Canal St & Monroe St (*)', 'User Type': 'Customer', 'Gender': '', 'Birth Year': ''}\n",
      "\n",
      "AMOSTRA 2: {'Start Time': '2017-01-01 00:02:54', 'End Time': '2017-01-01 00:08:21', 'Trip Duration': '327', 'Start Station': 'Larrabee St & Menomonee St', 'End Station': 'Sheffield Ave & Kingsbury St', 'User Type': 'Subscriber', 'Gender': 'Male', 'Birth Year': '1984.0'}\n",
      "\n",
      "AMOSTRA 3: {'Start Time': '2017-01-01 00:06:06', 'End Time': '2017-01-01 00:18:31', 'Trip Duration': '745', 'Start Station': 'Orleans St & Chestnut St (NEXT Apts)', 'End Station': 'Ashland Ave & Blackhawk St', 'User Type': 'Subscriber', 'Gender': 'Male', 'Birth Year': '1985.0'}\n",
      "\n",
      "AMOSTRA 4: {'Start Time': '2017-01-01 00:07:28', 'End Time': '2017-01-01 00:12:51', 'Trip Duration': '323', 'Start Station': 'Franklin St & Monroe St', 'End Station': 'Clinton St & Tilden St', 'User Type': 'Subscriber', 'Gender': 'Male', 'Birth Year': '1990.0'}\n",
      "\n",
      "AMOSTRA 5: {'Start Time': '2017-01-01 00:07:57', 'End Time': '2017-01-01 00:20:53', 'Trip Duration': '776', 'Start Station': 'Broadway & Barry Ave', 'End Station': 'Sedgwick St & North Ave', 'User Type': 'Subscriber', 'Gender': 'Male', 'Birth Year': '1990.0'}\n",
      "\n",
      "AMOSTRA 6: {'Start Time': '2017-01-01 00:10:44', 'End Time': '2017-01-01 00:21:27', 'Trip Duration': '643', 'Start Station': 'State St & Kinzie St', 'End Station': 'Wells St & Polk St', 'User Type': 'Subscriber', 'Gender': 'Male', 'Birth Year': '1970.0'}\n",
      "\n",
      "AMOSTRA 7: {'Start Time': '2017-01-01 00:11:34', 'End Time': '2017-01-01 00:23:47', 'Trip Duration': '733', 'Start Station': 'Wabash Ave & Wacker Pl', 'End Station': 'Clinton St & Tilden St', 'User Type': 'Subscriber', 'Gender': 'Male', 'Birth Year': '1986.0'}\n",
      "\n",
      "AMOSTRA 8: {'Start Time': '2017-01-01 00:14:57', 'End Time': '2017-01-01 00:26:22', 'Trip Duration': '685', 'Start Station': 'Daley Center Plaza', 'End Station': 'Canal St & Monroe St (*)', 'User Type': 'Customer', 'Gender': '', 'Birth Year': ''}\n",
      "\n",
      "AMOSTRA 9: {'Start Time': '2017-01-01 00:15:03', 'End Time': '2017-01-01 00:26:28', 'Trip Duration': '685', 'Start Station': 'Daley Center Plaza', 'End Station': 'Canal St & Monroe St (*)', 'User Type': 'Customer', 'Gender': '', 'Birth Year': ''}\n",
      "\n",
      "AMOSTRA 10: {'Start Time': '2017-01-01 00:17:01', 'End Time': '2017-01-01 00:29:49', 'Trip Duration': '768', 'Start Station': 'Dayton St & North Ave', 'End Station': 'Ogden Ave & Chicago Ave', 'User Type': 'Customer', 'Gender': '', 'Birth Year': ''}\n",
      "\n",
      "AMOSTRA 11: {'Start Time': '2017-01-01 00:17:13', 'End Time': '2017-01-01 11:03:34', 'Trip Duration': '38781', 'Start Station': 'Wilton Ave & Diversey Pkwy', 'End Station': 'Halsted St & Wrightwood Ave', 'User Type': 'Subscriber', 'Gender': 'Female', 'Birth Year': '1988.0'}\n",
      "\n",
      "AMOSTRA 12: {'Start Time': '2017-01-01 00:18:28', 'End Time': '2017-01-01 00:31:05', 'Trip Duration': '757', 'Start Station': 'Canal St & Madison St', 'End Station': 'LaSalle St & Illinois St', 'User Type': 'Customer', 'Gender': '', 'Birth Year': ''}\n",
      "\n",
      "AMOSTRA 13: {'Start Time': '2017-01-01 00:18:50', 'End Time': '2017-01-01 00:21:47', 'Trip Duration': '177', 'Start Station': 'Theater on the Lake', 'End Station': 'Lakeview Ave & Fullerton Pkwy', 'User Type': 'Subscriber', 'Gender': 'Male', 'Birth Year': '1991.0'}\n",
      "\n",
      "AMOSTRA 14: {'Start Time': '2017-01-01 00:23:41', 'End Time': '2017-01-01 00:29:13', 'Trip Duration': '332', 'Start Station': 'Halsted St & Maxwell St', 'End Station': 'Halsted St & 18th St', 'User Type': 'Subscriber', 'Gender': 'Male', 'Birth Year': '1984.0'}\n",
      "\n",
      "AMOSTRA 15: {'Start Time': '2017-01-01 00:25:47', 'End Time': '2017-01-01 00:39:53', 'Trip Duration': '846', 'Start Station': 'Ravenswood Ave & Lawrence Ave', 'End Station': 'Clarendon Ave & Gordon Ter', 'User Type': 'Subscriber', 'Gender': 'Female', 'Birth Year': '1987.0'}\n",
      "\n",
      "AMOSTRA 16: {'Start Time': '2017-01-01 00:25:47', 'End Time': '2017-01-01 00:43:23', 'Trip Duration': '1056', 'Start Station': 'Clark St & Congress Pkwy', 'End Station': 'Wolcott Ave & Polk St', 'User Type': 'Subscriber', 'Gender': 'Male', 'Birth Year': '1984.0'}\n",
      "\n",
      "AMOSTRA 17: {'Start Time': '2017-01-01 00:26:21', 'End Time': '2017-01-01 00:39:40', 'Trip Duration': '799', 'Start Station': 'Ravenswood Ave & Lawrence Ave', 'End Station': 'Clarendon Ave & Gordon Ter', 'User Type': 'Subscriber', 'Gender': 'Male', 'Birth Year': '1987.0'}\n",
      "\n",
      "AMOSTRA 18: {'Start Time': '2017-01-01 00:27:21', 'End Time': '2017-01-01 00:42:59', 'Trip Duration': '938', 'Start Station': 'Millennium Park', 'End Station': 'Michigan Ave & 18th St', 'User Type': 'Subscriber', 'Gender': 'Male', 'Birth Year': '1991.0'}\n",
      "\n",
      "AMOSTRA 19: {'Start Time': '2017-01-01 00:27:28', 'End Time': '2017-01-01 00:42:44', 'Trip Duration': '916', 'Start Station': 'Millennium Park', 'End Station': 'Michigan Ave & 18th St', 'User Type': 'Subscriber', 'Gender': 'Female', 'Birth Year': '1990.0'}\n",
      "\n",
      "AMOSTRA 20: {'Start Time': '2017-01-01 00:27:45', 'End Time': '2017-01-01 00:31:13', 'Trip Duration': '208', 'Start Station': 'Damen Ave & Chicago Ave', 'End Station': 'Damen Ave & Division St', 'User Type': 'Subscriber', 'Gender': 'Male', 'Birth Year': '1982.0'}\n",
      "\n"
     ]
    }
   ],
   "source": [
    "## Tarefa 1: Imprimindo as 20 primeiras amostras\n",
    "\n",
    "# 2) Via named_list (dict)\n",
    "for i in range(20):\n",
    "    print(f'{\"AMOSTRA \"}{i+1}: {named_list[i]}')\n",
    "    print()"
   ]
  },
  {
   "cell_type": "code",
   "execution_count": 7,
   "metadata": {},
   "outputs": [
    {
     "name": "stdout",
     "output_type": "stream",
     "text": [
      "Amostra 1: Não informado\n",
      "Amostra 2: Male\n",
      "Amostra 3: Male\n",
      "Amostra 4: Male\n",
      "Amostra 5: Male\n",
      "Amostra 6: Male\n",
      "Amostra 7: Male\n",
      "Amostra 8: Não informado\n",
      "Amostra 9: Não informado\n",
      "Amostra 10: Não informado\n",
      "Amostra 11: Female\n",
      "Amostra 12: Não informado\n",
      "Amostra 13: Male\n",
      "Amostra 14: Male\n",
      "Amostra 15: Female\n",
      "Amostra 16: Male\n",
      "Amostra 17: Male\n",
      "Amostra 18: Male\n",
      "Amostra 19: Female\n",
      "Amostra 20: Male\n"
     ]
    }
   ],
   "source": [
    "# Tarefa 2: imprimindo o gênero das 20 primeiras amostras\n",
    "\n",
    "# 1) Via data_list\n",
    "data_list = data_list[1:] # Excluindo o cabeçalho da lista\n",
    "for i in range(20):\n",
    "    print(f'{\"Amostra \"}{i+1}: {data_list[i][6] if data_list[i][6] != \"\" else \"Não informado\"}')\n",
    "\n"
   ]
  },
  {
   "cell_type": "code",
   "execution_count": 9,
   "metadata": {},
   "outputs": [
    {
     "name": "stdout",
     "output_type": "stream",
     "text": [
      "Amostra  1: Não informado\n",
      "Amostra  2: Male\n",
      "Amostra  3: Male\n",
      "Amostra  4: Male\n",
      "Amostra  5: Male\n",
      "Amostra  6: Male\n",
      "Amostra  7: Male\n",
      "Amostra  8: Não informado\n",
      "Amostra  9: Não informado\n",
      "Amostra 10: Não informado\n",
      "Amostra 11: Female\n",
      "Amostra 12: Não informado\n",
      "Amostra 13: Male\n",
      "Amostra 14: Male\n",
      "Amostra 15: Female\n",
      "Amostra 16: Male\n",
      "Amostra 17: Male\n",
      "Amostra 18: Male\n",
      "Amostra 19: Female\n",
      "Amostra 20: Male\n"
     ]
    }
   ],
   "source": [
    "# Tarefa 2: imprimindo o gênero das 20 primeiras amostras\n",
    "\n",
    "# 2) Via named_list (dict)\n",
    "for i in range(20):\n",
    "    print(f'{\"Amostra \"}{i+1:2}: {named_list[i][\"Gender\"] if named_list[i][\"Gender\"] != \"\" else \"Não informado\"}')"
   ]
  },
  {
   "cell_type": "code",
   "execution_count": 33,
   "metadata": {},
   "outputs": [
    {
     "name": "stdout",
     "output_type": "stream",
     "text": [
      "1551505\n",
      "['', 'Male', 'Male', 'Male', 'Male', 'Male', 'Male', '', '', '', 'Female', '', 'Male', 'Male', 'Female', 'Male', 'Male', 'Male', 'Female', 'Male']\n"
     ]
    }
   ],
   "source": [
    "# Tarefa 3: Crie uma função para adicionar as colunas(features) de uma lista em outra lista, na mesma ordem\n",
    "\n",
    "def column_to_list(data, index):\n",
    "    \"\"\"\n",
    "    Cria uma lista com todos os dados referentes a uma determinada coluna\n",
    "    \n",
    "    Argumentos:\n",
    "    data -- Dataset no qual deseja-se extrair os campos (list)\n",
    "    index -- Referência numérica do índice da coluna dentro do referido Dataset (int)\n",
    "    \n",
    "    Retorno:\n",
    "    column_list -- Lista com todos os dados referentes ao campo em questão (list)\n",
    "    \"\"\"\n",
    "    column_list = []\n",
    "    for registro in data:\n",
    "        try:\n",
    "            column_list.append(registro[index])\n",
    "        except IndexError:\n",
    "            message = 'Para o data_set \"data\", selecione um \"index\" < {}.'.format(len(data[0]))\n",
    "            return message\n",
    "    return column_list\n",
    "\n",
    "coluna_ano_nascimento = column_to_list(data_list, 7)\n",
    "print(len(column_to_list(data_list, -2)))\n",
    "print(column_to_list(data_list, -2)[:20])"
   ]
  },
  {
   "cell_type": "code",
   "execution_count": 11,
   "metadata": {},
   "outputs": [
    {
     "name": "stdout",
     "output_type": "stream",
     "text": [
      "Coluna inexistente no Dataset \"data\". Veja as entradas possíveis: \n",
      "['Start Time', 'End Time', 'Trip Duration', 'Start Station', 'End Station', 'User Type', 'Gender', 'Birth Year']\n"
     ]
    }
   ],
   "source": [
    "# Tarefa 3: Crie uma função para adicionar as colunas(features) de uma lista em outra lista, na mesma ordem\n",
    "\n",
    "def column_to_list(data, index):\n",
    "    \"\"\"\n",
    "    Cria uma lista com todos os dados referentes a uma determinada coluna\n",
    "    \n",
    "    Argumentos:\n",
    "    data -- Dataset no qual deseja-se extrair os campos (lista de dicionários)\n",
    "    index -- Nome da coluna [chave] dentro do referido Dataset (string)\n",
    "    \n",
    "    Retorno:\n",
    "    column_list -- Lista com todos os dados referentes ao campo em questão (list)\n",
    "    \"\"\"\n",
    "    column_list = []\n",
    "    #index = index.title() # Evita erros do tipo \"birth year\" != \"Birth Year\"\n",
    "    for registro in data:\n",
    "        try:\n",
    "            column_list.append(registro[index])\n",
    "        except KeyError:\n",
    "            print('Coluna inexistente no Dataset \"data\". Veja as entradas possíveis: ')\n",
    "            chaves = list(registro.keys())\n",
    "            return chaves\n",
    "    return column_list\n",
    "\n",
    "result = column_to_list(named_list, 'teste')\n",
    "print(result[:50])        "
   ]
  },
  {
   "cell_type": "code",
   "execution_count": 12,
   "metadata": {},
   "outputs": [
    {
     "name": "stdout",
     "output_type": "stream",
     "text": [
      "Masculinos: 935854\n",
      "Feminino: 298784\n"
     ]
    }
   ],
   "source": [
    "# TAREFA 4\n",
    "# Agora sabemos como acessar as features, vamos contar quantos Male (Masculinos) e Female (Femininos) o dataset tem\n",
    "# TODO: Conte cada gênero. Você não deveria usar uma função parTODO isso.\n",
    "masculino = feminino = 0\n",
    "\n",
    "gender_column_data = column_to_list(data_list, 6)\n",
    "\n",
    "for gender in gender_column_data:\n",
    "    if gender == 'Male':\n",
    "        masculino += 1\n",
    "    elif gender == 'Female':\n",
    "        feminino += 1\n",
    "\n",
    "print(f'Masculinos: {masculino}\\nFeminino: {feminino}')"
   ]
  },
  {
   "cell_type": "code",
   "execution_count": 13,
   "metadata": {},
   "outputs": [
    {
     "name": "stdout",
     "output_type": "stream",
     "text": [
      "<class 'list'>\n",
      "Tamanho da lista retornada: 2\n",
      "Masculinos: 935854\n",
      "Femininos: 298784\n"
     ]
    }
   ],
   "source": [
    "# TAREFA 5\n",
    "# TODO: Crie uma função para contar os gêneros. Retorne uma lista.\n",
    "# Isso deveria retornar uma lista com [count_male, count_female] (exemplo: [10, 15] significa 10 Masculinos, 15 Femininos)\n",
    "def count_gender(data_list):\n",
    "    male = 0\n",
    "    female = 0\n",
    "    \n",
    "    gender_column_data = column_to_list(data_list, 6)\n",
    "    \n",
    "    for gender in gender_column_data:\n",
    "        if gender == 'Male':\n",
    "            male += 1\n",
    "        elif gender == 'Female':\n",
    "            female += 1\n",
    "    return [male, female]\n",
    "\n",
    "gender_list = count_gender(data_list)\n",
    "print(type(gender_list))\n",
    "print(f'Tamanho da lista retornada: {len(gender_list)}')\n",
    "print(f'Masculinos: {gender_list[0]}')\n",
    "print(f'Femininos: {gender_list[1]}')"
   ]
  },
  {
   "cell_type": "code",
   "execution_count": 14,
   "metadata": {},
   "outputs": [
    {
     "name": "stdout",
     "output_type": "stream",
     "text": [
      "Male\n"
     ]
    }
   ],
   "source": [
    "# Agora que nós podemos contar os usuários, qual gênero é mais prevalente?\n",
    "# TAREFA 6\n",
    "# TODO: Crie uma função que pegue o gênero mais popular, e retorne este gênero como uma string.\n",
    "# Esperamos ver \"Masculino\", \"Feminino\", ou \"Igual\" como resposta.\n",
    "def most_popular_gender(data_list):\n",
    "    male = 0\n",
    "    female = 0   \n",
    "    gender_column_data = column_to_list(data_list, 6)    \n",
    "    \n",
    "    for gender in gender_column_data:\n",
    "        if gender == 'Male':\n",
    "            male += 1\n",
    "        elif gender == 'Female':\n",
    "            female += 1\n",
    "    \n",
    "    if male > female:\n",
    "        answer = 'Male'\n",
    "    elif female > male:\n",
    "        answer = 'Female'\n",
    "    else:\n",
    "        answer = 'Igual'\n",
    "    \n",
    "    return answer\n",
    "\n",
    "print(most_popular_gender(data_list))"
   ]
  },
  {
   "cell_type": "code",
   "execution_count": null,
   "metadata": {},
   "outputs": [],
   "source": [
    "\"\"\"\n",
    "# Se tudo está rodando como esperado, verifique este gráfico!\n",
    "gender_list = column_to_list(data_list, -2)\n",
    "types = [\"Male\", \"Female\"]\n",
    "quantity = count_gender(data_list)\n",
    "y_pos = list(range(len(types)))\n",
    "plt.bar(y_pos, quantity)\n",
    "plt.ylabel('Quantidade')\n",
    "plt.xlabel('Gênero')\n",
    "plt.xticks(y_pos, types)\n",
    "plt.title('Quantidade por Gênero')\n",
    "plt.show(block=True)\n",
    "\n",
    "input(\"Aperte Enter para continuar...\")\n",
    "\"\"\""
   ]
  },
  {
   "cell_type": "code",
   "execution_count": 39,
   "metadata": {},
   "outputs": [
    {
     "data": {
      "image/png": "[encoded data removed]",
      "text/plain": [
       "<matplotlib.figure.Figure at 0x1e08d791a20>"
      ]
     },
     "metadata": {},
     "output_type": "display_data"
    }
   ],
   "source": [
    "# TAREFA 7\n",
    "# TODO: Crie um gráfico similar para user_types. Tenha certeza que a legenda está correta.\n",
    "\n",
    "def count_user_types(data_list):\n",
    "    costumer = subscriber = 0\n",
    "    \n",
    "    user_types_data = column_to_list(data_list, 5)\n",
    "    \n",
    "    for user_type in user_types_data:\n",
    "        if user_type == 'Customer':\n",
    "            costumer += 1\n",
    "        elif user_type == 'Subscriber':\n",
    "            subscriber += 1\n",
    "    return [costumer, subscriber]\n",
    "\n",
    "user_types_list = column_to_list(data_list, 5)\n",
    "#print(user_types_list[:40])\n",
    "types = ['Customer', 'Subscriber']\n",
    "quantity = count_user_types(data_list)\n",
    "#print(f'Customers: {quantity[0]} \\nSubscribers: {quantity[1]}')\n",
    "y_pos = list(range(len(types)))\n",
    "plt.bar(y_pos, quantity)\n",
    "plt.ylabel('Quantidade')\n",
    "plt.xlabel('Categorias de Usuário')\n",
    "plt.xticks(y_pos, types)\n",
    "plt.title('Quantidade por Categoria')\n",
    "plt.show(block=True)"
   ]
  },
  {
   "cell_type": "code",
   "execution_count": 16,
   "metadata": {},
   "outputs": [
    {
     "name": "stdout",
     "output_type": "stream",
     "text": [
      "\n",
      "TAREFA 8: Por que a condição a seguir é Falsa?\n",
      "male + female == len(data_list): False\n",
      "resposta: A condição acima é falsa pois, na base de dados fornecida, há também entradas cujo gênero não foi especificado, ou seja, além de gêneros masculinos e femininos, há valores vazios que devem ser contabilizados, dentro da lista de gêneros, por 'lista_generos.count('')'\n"
     ]
    }
   ],
   "source": [
    "# TAREFA 8\n",
    "# TODO: Responda a seguinte questão\n",
    "male, female = count_gender(data_list)\n",
    "print(\"\\nTAREFA 8: Por que a condição a seguir é Falsa?\")\n",
    "print(\"male + female == len(data_list):\", male + female == len(data_list))\n",
    "answer = \"A condição acima é falsa pois, na base de dados fornecida, há também entradas cujo gênero não foi especificado, ou seja, além de gêneros masculinos\\\n",
    " e femininos, há valores vazios que devem ser contabilizados, dentro da lista de gêneros, por 'lista_generos.count('')'\"\n",
    "print(\"resposta:\", answer)"
   ]
  },
  {
   "cell_type": "code",
   "execution_count": 21,
   "metadata": {},
   "outputs": [
    {
     "name": "stdout",
     "output_type": "stream",
     "text": [
      "['356', '327', '745', '323', '776', '643', '733', '685', '685', '768', '38781', '757', '177', '332', '846', '1056', '799', '938', '916', '208', '354', '265', '2424', '541', '450', '393', '1799', '748', '755', '1792', '701', '1683', '782', '657', '539', '386', '378', '663', '896', '1246', '88', '552', '1396', '619', '370', '882', '725', '404', '333', '288']\n",
      "\n",
      "Duração mínima de viagem: 60s\n",
      "Duração máxima de viagem: 86338s\n",
      "Duração média de viagem: 939.7777590146342s\n",
      "Mediana: 670s\n"
     ]
    }
   ],
   "source": [
    "# Vamos trabalhar com trip_duration (duração da viagem) agora. Não conseguimos tirar alguns valores dele.\n",
    "# TAREFA 9\n",
    "# TODO: Ache a duração de viagem Mínima, Máxima, Média, e Mediana.\n",
    "# Você não deve usar funções prontas parTODO isso, como max() e min().\n",
    "trip_duration_list = column_to_list(data_list, 2)\n",
    "min_trip = 0.\n",
    "max_trip = 0.\n",
    "mean_trip = 0.\n",
    "median_trip = 0.\n",
    "\n",
    "print(trip_duration_list[:50])\n",
    "print()\n",
    "min_trip = min(int(i) for i in trip_duration_list)\n",
    "max_trip = max(int(i) for i in trip_duration_list)\n",
    "mean_trip = (sum(int(i) for i in trip_duration_list)) / len(trip_duration_list)\n",
    "median_trip = statistics.median(int(i) for i in trip_duration_list)\n",
    "\n",
    "\"\"\"mediana = trip_duration_list[int((len(trip_duration_list)/2))+1]\n",
    "print(len(trip_duration_list))\n",
    "print(trip_duration_list.index('670'))\"\"\"\n",
    "\n",
    "\n",
    "print(f'Duração mínima de viagem: {min_trip}s')\n",
    "print(f'Duração máxima de viagem: {max_trip}s')\n",
    "print(f'Duração média de viagem: {mean_trip}s')\n",
    "print(f'Mediana: {median_trip}s')\n",
    "#print(f'Mediana na raça: {mediana}s')"
   ]
  },
  {
   "cell_type": "code",
   "execution_count": 22,
   "metadata": {},
   "outputs": [
    {
     "name": "stdout",
     "output_type": "stream",
     "text": [
      "\n",
      "TAREFA 10: Imprimindo as start stations:\n",
      "582\n",
      "{'MLK Jr Dr & 29th St', 'Clinton St & Lake St', 'State St & Harrison St', 'Clark St & Congress Pkwy', 'Franklin St & Jackson Blvd', 'Oak Park Ave & Harrison St', 'Southport Ave & Irving Park Rd', 'MLK Jr Dr & Oakwood Blvd', 'Valli Produce - Evanston Plaza', 'Halsted St & 47th Pl', 'Pulaski Rd & Congress Pkwy', 'Western Ave & 28th St', 'Leavitt St & Archer Ave', 'Western Ave & Winnebago Ave', 'Indiana Ave & Roosevelt Rd', 'Lake Park Ave & 47th St', 'Clinton St & Roosevelt Rd', 'Kilbourn Ave & Irving Park Rd', 'Leavitt St & Lawrence Ave', 'Seeley Ave & Garfield Blvd', 'Ogden Ave & Chicago Ave', 'Clark St & Berwyn Ave', 'Broadway & Ridge Ave', 'Stony Island Ave & 64th St', 'Central Park Blvd & 5th Ave', 'Ellis Ave & 53rd St', 'California Ave & Fletcher St', 'Keystone Ave & Montrose Ave', 'Ashland Ave & Wrightwood Ave', 'East Ave & Madison St', 'Green St & Randolph St', 'Rockwell St & Eastwood Ave', 'Albany Ave & 26th St', 'Clark St & Touhy Ave', 'Racine Ave & Randolph St', 'Clinton St & Polk St (*)', 'University Library (NU)', 'Lincoln Ave & Winona St', 'Clark St & Lake St', 'Milwaukee Ave & Cuyler Ave', 'State St & 35th St', 'Southport Ave & Roscoe St', 'Winchester Ave & Elston Ave', 'Clinton St & Washington Blvd', 'Ashland Ave & Grace St', 'Woodlawn Ave & 75th St', 'Broadway & Argyle St', 'Albany Ave & Bloomingdale Ave', 'Western Ave & 21st St', 'Drake Ave & Addison St', 'St. Clair St & Erie St', 'Halsted St & Maxwell St', 'Emerald Ave & 31st St', 'Sheridan Rd & Loyola Ave', 'Shields Ave & 43rd St', 'Ashland Ave & 13th St', 'Clark St & Leland Ave', 'Ashland Ave & Wellington Ave', 'Jeffery Blvd & 76th St', 'Kilbourn Ave & Milwaukee Ave', 'Wentworth Ave & 63rd St', 'Ashland Ave & 21st St', 'Sacramento Blvd & Franklin Blvd', 'Wabash Ave & 83rd St', 'Carpenter St & Huron St', 'Lincoln Ave & Belle Plaine Ave', 'Halsted St & Roscoe St', 'Halsted St & 21st St', 'Halsted St & Willow St', 'Yates Blvd & 75th St', 'South Shore Dr & 74th St', 'Morgan Ave & 14th Pl', 'Monticello Ave & Irving Park Rd', 'Indiana Ave & 40th St', 'Dearborn St & Monroe St', 'Union Ave & Root St', 'Wells St & Huron St', 'Michigan Ave & Congress Pkwy', 'Marine Dr & Ainslie St', 'Ashland Ave & Archer Ave', 'Lombard Ave & Madison St', 'Clark St & Lincoln Ave', 'Michigan Ave & Madison St', 'Larrabee St & Oak St', 'Racine Ave & 35th St', 'Halsted St & 59th St', 'Ravenswood Ave & Lawrence Ave', 'Vernon Ave & 79th St', 'Field Blvd & South Water St', 'Rainbow Beach', 'Broadway & Waveland Ave', 'Kedzie Ave & Milwaukee Ave', 'Dorchester Ave & 49th St', 'Ashland Ave & Chicago Ave', 'Milwaukee Ave & Grand Ave', 'Ellis Ave & 55th St', 'Normal Ave & Archer Ave', 'Calumet Ave & 71st St', 'Wabash Ave & Roosevelt Rd', 'Chicago Ave & Sheridan Rd', 'Wabash Ave & Grand Ave', 'Sheffield Ave & Webster Ave', 'Canal St & Taylor St', 'Halsted St & 63rd St', 'Stony Island Ave & 71st St', 'Wood St & 35th St', 'Franklin St & Monroe St', 'Kenton Ave & Madison St', 'Southport Ave & Waveland Ave', 'Dayton St & North Ave', 'Ashland Ave & Harrison St', 'Michigan Ave & Washington St', 'Ridge Blvd & Howard St', 'St. Louis Ave & Balmoral Ave', 'Wabash Ave & 16th St', 'Paulina Ave & North Ave', 'Central Park Ave & North Ave', 'Clark St & Bryn Mawr Ave', 'Cottage Grove Ave & 71st St', 'Greenview Ave & Jarvis Ave', 'Cottage Grove Ave & 43rd St', 'Lincoln Ave & Leavitt St', 'Clark St & Elmdale Ave', 'Streeter Dr & Grand Ave', 'Ashland Ave & Grand Ave', 'Campbell Ave & Montrose Ave', 'Washtenaw Ave & Lawrence Ave', 'Eberhart Ave & 61st St', 'Ashland Ave & Division St', 'Racine Ave & 61st St', 'Clark St & Lunt Ave', 'Cottage Grove Ave & 78th St', 'Kedzie Ave & Roosevelt Rd', 'Halsted St & 56th St', 'Millennium Park', 'LaSalle St & Washington St', 'Racine Ave & 13th St', 'Lake Park Ave & 56th St', 'Damen Ave & Cortland St', 'Kimball Ave & Belmont Ave', 'Lincoln Ave & Belmont Ave', 'Franklin St & Chicago Ave', 'Morgan St & 31st St', 'Desplaines St & Kinzie St', 'Stony Island Ave & 82nd St', 'Halsted St & 35th St (*)', 'Marshfield Ave & Cortland St', 'Pulaski Rd & Lake St', 'State St & Pearson St', 'Cottage Grove Ave & Oakwood Blvd', 'Bennett Ave & 79th St', 'Desplaines St & Randolph St', 'Clifton Ave & Armitage Ave', 'Sheridan Rd & Buena Ave', 'Kedzie Ave & Harrison St', 'Blue Island Ave & 18th St', 'Clark St & Jarvis Ave', 'Spaulding Ave & Armitage Ave', '900 W Harrison St', 'Lincoln Ave & Roscoe St', 'California Ave & Lake St', 'Richmond St & Diversey Ave', 'Wabash Ave & 8th St', 'Campbell Ave & North Ave', 'May St & Cullerton St', 'Damen Ave & Coulter St', 'Racine Ave & 65th St', 'Bissell St & Armitage Ave', 'Lake Park Ave & 53rd St', 'Ellis Ave & 60th St', 'Adler Planetarium', 'Marshfield Ave & 59th St', 'LaSalle St & Adams St', 'California Ave & Milwaukee Ave', 'Kedzie Ave & Palmer Ct', 'Throop St & 52nd St', 'Sawyer Ave & Irving Park Rd', 'Clark St & Wellington Ave', 'California Ave & 26th St', 'Jeffery Blvd & 67th St', 'Wentworth Ave & 33rd St', 'Millard Ave & 26th St', 'Wacker Dr & Washington St', 'Stave St & Armitage Ave', 'Clark St & Columbia Ave', 'Drake Ave & Montrose Ave', 'Michigan Ave & Pearson St', 'Blackstone Ave & Hyde Park Blvd', 'Troy St & Elston Ave', 'Ashland Ave & Augusta Blvd', 'Pulaski Rd & Eddy St', 'Commercial Ave & 83rd St', 'MLK Jr Dr & 47th St', 'Western Ave & 24th St', 'Troy St & North Ave', 'Racine Ave & Garfield Blvd', 'Western Ave & Walton St', 'Laramie Ave & Madison St', 'Rush St & Cedar St', 'State St & 76th St', 'Ada St & Washington Blvd', 'Greenview Ave & Fullerton Ave', 'Ashland Ave & 66th St', 'Wabash Ave & Adams St', 'Shore Dr & 55th St', 'Loomis St & Taylor St (*)', 'Cityfront Plaza Dr & Pioneer Ct', 'Jefferson St & Monroe St', 'Logan Blvd & Elston Ave', 'Museum of Science and Industry', 'Kedzie Ave & Chicago Ave', 'Ravenswood Ave & Montrose Ave (*)', 'Sedgwick St & Schiller St', 'Greenwood Ave & 47th St', 'LaSalle St & Illinois St', 'Western Ave & Howard St', 'Western Ave & Monroe St', 'Lincoln Ave & Addison St', 'Clinton St & Tilden St', 'Hoyne Ave & 47th St', 'State St & 19th St', 'Orleans St & Elm St (*)', 'DuSable Museum', 'Ogden Ave & Congress Pkwy', 'Wisconsin Ave & Madison St', 'Ashland Ave & 69th St', 'Artesian Ave & Hubbard St', 'Wabash Ave & Cermak Rd', 'Canal St & Adams St', 'Fairfield Ave & Roosevelt Rd', 'Kosciuszko Park', 'Noble St & Milwaukee Ave', 'Stony Island Ave & South Chicago Ave', 'Halsted St & Wrightwood Ave', 'Sheridan Rd & Greenleaf Ave', 'Dorchester Ave & 63rd St', 'Claremont Ave & Hirsch St', 'Montrose Harbor', 'Ashland Ave & Garfield Blvd', 'Elizabeth St & 47th St', 'Broadway & Belmont Ave', 'Calumet Ave & 35th St', 'Cottage Grove Ave & 83rd St', 'Sheridan Rd & Lawrence Ave', 'Peoria St & Jackson Blvd', 'Halsted St & 69th St', 'Broadway & Sheridan Rd', 'Southport Ave & Wellington Ave', 'Halsted St & 18th St', 'California Ave & 23rd Pl', 'Ravenswood Ave & Balmoral Ave', 'Racine Ave & Congress Pkwy', 'Central Ave & Harrison St', 'Halsted St & Roosevelt Rd', 'Damen Ave & Chicago Ave', 'University Ave & 57th St', 'Michigan Ave & 18th St', 'Emerald Ave & 28th St', 'Sheffield Ave & Wellington Ave', 'Oakley Ave & Irving Park Rd', 'Jeffery Blvd & 71st St', 'Clinton St & Jackson Blvd', 'Cornell Ave & Hyde Park Blvd', 'Wells St & Concord Ln', 'Normal Ave & 72nd St', 'Ogden Ave & Race Ave', 'Eastlake Ter & Rogers Ave', 'Daley Center Plaza', 'Cicero Ave & Flournoy St', 'McClurg Ct & Illinois St', 'Orleans St & Chestnut St (NEXT Apts)', 'Desplaines St & Jackson Blvd', 'Lake Shore Dr & Ohio St', 'Damen Ave & Division St', 'California Ave & Francis Pl', 'Clinton St & Madison St', 'Columbus Dr & Randolph St', 'Fort Dearborn Dr & 31st St', 'Field Museum', 'Kedzie Ave & 24th St', 'Leavitt St & North Ave', 'Canal St & Harrison St', 'Ogden Ave & Roosevelt Rd', 'Ashland Ave & Lake St', 'May St & Taylor St', 'Clark St & Wrightwood Ave', 'Michigan Ave & Lake St', 'Western Blvd & 48th Pl', 'Damen Ave & Charleston St', 'Kingsbury St & Kinzie St', 'Prairie Ave & Garfield Blvd', 'Cottage Grove Ave & 47th St', 'Loomis St & Lexington St', 'Lawndale Ave & 23rd St', 'Cicero Ave & Lake St', 'Damen Ave & Grand Ave', 'Sheffield Ave & Kingsbury St', 'McCormick Place', 'Dodge Ave & Church St', 'Southport Ave & Belmont Ave', 'South Shore Dr & 67th St', 'Ashland Ave & McDowell Ave', 'Humphrey Ave & Ontario St', 'Sangamon St & Washington Blvd (*)', 'Central Ave & Chicago Ave', 'Clarendon Ave & Gordon Ter', 'Dusable Harbor', 'Halsted St & Archer Ave', 'Wood St & Hubbard St', 'Larrabee St & Division St', 'Clarendon Ave & Junior Ter', 'Saginaw Ave & Exchange Ave', 'Marshfield Ave & 44th St', 'Sheffield Ave & Willow St', 'Larrabee St & Webster Ave', 'Woodlawn Ave & 55th St', 'Ashland Ave & 50th St', 'Canal St & Monroe St (*)', 'Wentworth Ave & 24th St', 'Lake Shore Dr & Wellington Ave', 'Clarendon Ave & Leland Ave', 'Michigan Ave & Oak St', 'Kedzie Ave & Foster Ave', 'State St & Van Buren St', 'Elmwood Ave & Austin St', 'Vernon Ave & 75th St', 'Stetson Ave & South Water St', 'Kedzie Ave & 21st St', 'Forest Ave & Lake St', 'Financial Pl & Congress Pkwy', 'Wells St & Elm St', 'Federal St & Polk St', 'South Chicago Ave & 83rd St', 'Clifton Ave & Lawrence Ave', 'Theater on the Lake', 'Keystone Ave & Fullerton Ave', 'Ellis Ave & 83rd St', 'Michigan Ave & Jackson Blvd', 'Halsted St & 51st St', 'Clark St & Elm St', 'Shedd Aquarium', 'Racine Ave (May St) & Fulton St', 'Racine Ave & Wrightwood Ave', 'Lake Park Ave & 35th St', 'Knox Ave & Montrose Ave', 'May St & 69th St', 'Benson Ave & Church St', 'Albany (Kedzie) Ave & Montrose Ave', 'Lake Shore Dr & Belmont Ave', 'Damen Ave & Melrose Ave', 'Christiana Ave & Lawrence Ave', 'Michigan Ave & 14th St', 'Morgan St & 18th St', 'Dearborn Pkwy & Delaware Pl', 'Franklin St & Lake St', 'Wolcott Ave & Fargo Ave', 'Clark St & Chicago Ave', 'Pine Grove Ave & Irving Park Rd', 'Indiana Ave & 31st St', 'Princeton Ave & Garfield Blvd', 'Larrabee St & North Ave', 'Princeton Ave & 47th St', 'Mies van der Rohe Way & Chicago Ave', 'Kedzie Ave & Leland Ave', 'Western Ave & Leland Ave', 'Lincoln Ave & Diversey Pkwy', 'Damen Ave & Madison St', 'Pine Grove Ave & Waveland Ave', 'Humboldt Blvd & Armitage Ave', 'Halsted St & Dickens Ave', 'Cuyler Ave & Augusta St', 'Southport Ave & Clybourn Ave', 'McClurg Ct & Erie St', 'Orleans St & Ohio St', 'Central Ave & Lake St', 'Halsted St & North Branch St', 'Oakley Ave & Roscoe St', 'Ravenswood Ave & Irving Park Rd', 'East Ave & Garfield St', 'Cottage Grove Ave & 51st St', 'California Ave & Cortez St', 'Damen Ave & Foster Ave', 'Central St Metra', 'Lombard Ave & Garfield St', 'Phillips Ave & 82nd St', 'Western Ave & Congress Pkwy', 'Lake Shore Dr & North Blvd', 'California Ave & North Ave', 'Ritchie Ct & Banks St', 'Kostner Ave & Adams St', 'Oakley Ave & Touhy Ave', '2112 W Peterson Ave', 'Wabash Ave & 87th St', 'MLK Jr Dr & 83rd St', 'Buckingham Fountain', 'Hermitage Ave & Polk St', 'Warren Park West', 'Cicero Ave & Quincy St', 'California Ave & Division St', 'Maplewood Ave & Peterson Ave', 'Damen Ave & Augusta Blvd', 'Sheffield Ave & Wrightwood Ave', 'Damen Ave & Cullerton St', 'MLK Jr Dr & 63rd St', 'Ashland Ave & 63rd St', 'Wood St & Taylor St', 'Stony Island Ave & 67th St', 'Wells St & Walton St', 'Cannon Dr & Fullerton Ave', 'Greenview Ave & Diversey Pkwy', 'Greenwood Ave & 79th St', 'Broadway & Granville Ave', 'Rush St & Superior St', 'Kedzie Ave & Lake St', 'Halsted St & Polk St', 'Sheffield Ave & Waveland Ave', 'Aberdeen St & Monroe St', 'California Ave & 21st St', 'Ashland Ave & Belle Plaine Ave', 'Laramie Ave & Gladys Ave', 'Wells St & Evergreen Ave', 'Aberdeen St & Jackson Blvd', 'State St & Kinzie St', 'Clinton St & 18th St', 'Central Park Ave & Elbridge Ave', 'Elston Ave & Wabansia Ave', 'Larrabee St & Kingsbury St', 'Paulina St & Howard St', 'Calumet Ave & 18th St', 'Clark St & Randolph St', 'Wentworth Ave & Archer Ave', 'Lincoln Ave & Waveland Ave', 'Southport Ave & Clark St', 'Ridge Blvd & Touhy Ave', 'Lake Shore Dr & Monroe St', 'Halsted St & Diversey Pkwy', 'Sedgwick St & Webster Ave', 'Wood St & Division St', 'Harper Ave & 59th St', 'Clark St & North Ave', 'Morgan St & Pershing Rd', 'Ashland Ave & Blackhawk St', 'Marion St & South Blvd', 'State St & Pershing Rd', 'Paulina St & Montrose Ave', 'Clark St & Grace St', 'Conservatory Dr & Lake St', 'State St & 79th St', 'Kostner Ave & Lake St', 'Racine Ave & Fullerton Ave', 'Leavitt St & Addison St', 'Drake Ave & Fullerton Ave', 'Wolcott Ave & Polk St', 'Clark St & 9th St (AMLI)', 'Canal St & Madison St', 'Wilton Ave & Diversey Pkwy', 'Broadway & Wilson Ave', 'Glenwood Ave & Touhy Ave', 'Avondale Ave & Irving Park Rd', 'Wentworth Ave & 35th St', 'LaSalle St & Jackson Blvd', 'Spaulding Ave & Division St', 'Warren Park East', 'Cottage Grove Ave & 63rd St', 'Rhodes Ave & 32nd St', '63rd St Beach', 'Damen Ave & Pierce Ave', 'Damen Ave & Clybourn Ave', 'Damen Ave & 51st St', 'Seeley Ave & Roscoe St', 'Broadway & Berwyn Ave', 'Ridgeland Ave & Lake St', 'Laramie Ave & Kinzie St', 'Morgan St & Lake St', 'Calumet Ave & 51st St', 'Lincoln Ave & Fullerton Ave', 'Orleans St & Merchandise Mart Plaza', 'Broadway & Cornelia Ave', 'Halsted St & 37th St', 'Dearborn St & Erie St', 'Perry Ave & 69th St', 'MLK Jr Dr & 56th St (*)', 'Broadway & Barry Ave', 'Clark St & Armitage Ave', 'Wallace St & 35th St', 'Sedgwick St & North Ave', 'Glenwood Ave & Morse Ave', 'Loomis St & Archer Ave', 'Calumet Ave & 33rd St', 'Sheridan Rd & Montrose Ave', 'Chicago Ave & Washington St', 'Exchange Ave & 79th St', 'Woodlawn Ave & Lake Park Ave', 'Franklin St & Quincy St', 'Budlong Woods Library', 'Ashland Ave & Pershing Rd', 'Bosworth Ave & Howard St', 'South Shore Dr & 71st St', 'Forest Ave & Chicago Ave', 'Milwaukee Ave & Wabansia Ave', 'Dearborn St & Adams St', 'Wood St & Milwaukee Ave', 'Oak Park Ave & South Blvd', 'Wells St & Polk St', 'Morgan St & Polk St', 'Central St & Girard Ave', 'Rush St & Hubbard St', 'State St & 33rd St', 'Clark St & Montrose Ave', 'Damen Ave & 59th St', 'Broadway & Thorndale Ave', 'California Ave & Altgeld St', 'Halsted St & Blackhawk St (*)', 'State St & Randolph St', 'Stockton Dr & Wrightwood Ave', 'Larrabee St & Menomonee St', 'Paulina St & 18th St', 'Mason Ave & Madison St', 'Western Ave & Division St', 'Lakeview Ave & Fullerton Pkwy', 'Damen Ave & Pershing Rd', 'Michigan Ave & 8th St', 'Damen Ave & Leland Ave', 'Evans Ave & 75th St', 'Kimbark Ave & 53rd St', 'Sheridan Rd & Noyes St (NU)', 'Loomis St & Jackson Blvd', 'Phillips Ave & 79th St', 'Hampden Ct & Diversey Pkwy', 'Wabash Ave & Wacker Pl', 'Milwaukee Ave & Rockwell St', 'Eckhart Park', 'Ellis Ave & 58th St', 'Racine Ave & 15th St', 'Sheffield Ave & Fullerton Ave', 'Green St & Madison St', 'Francisco Ave & Foster Ave', 'Lakefront Trail & Bryn Mawr Ave', 'Burnham Harbor', 'Racine Ave & 18th St', 'Calumet Ave & 21st St', 'Sheridan Rd & Irving Park Rd', 'Prairie Ave & 43rd St', 'Manor Ave & Leland Ave', 'Kedzie Ave & Bryn Mawr Ave', 'Clark St & Winnemac Ave', 'Mies van der Rohe Way & Chestnut St', 'Washtenaw Ave & 15th St (*)', 'Sedgwick St & Huron St', 'Shields Ave & 28th Pl', 'Ravenswood Ave & Berteau Ave', 'Talman Ave & Addison St', 'Shields Ave & 31st St', 'Cottage Grove Ave & 67th St', 'Leavitt St & Armitage Ave', 'Clark St & Schiller St', 'Central Park Ave & Ogden Ave', 'Campbell Ave & Fullerton Ave', 'Austin Blvd & Lake St', 'Clybourn Ave & Division St', 'Kingsbury St & Erie St', 'Damen Ave & Sunnyside Ave', 'Damen Ave & Wellington Ave', 'Larrabee St & Armitage Ave', 'Indiana Ave & 26th St', 'Southport Ave & Wrightwood Ave', 'Avers Ave & Belmont Ave', 'Fairbanks Ct & Grand Ave', 'Wilton Ave & Belmont Ave', 'Clark St & Schreiber Ave', 'Western Ave & Lunt Ave', 'Pulaski Rd & Madison St', 'Racine Ave & Belmont Ave', 'Austin Blvd & Chicago Ave', 'Wells St & 19th St', 'California Ave & Byron St', 'State St & 29th St', 'Central Ave & Madison St', 'California Ave & Montrose Ave', 'Stony Island Ave & 75th St', 'Western Ave & Granville Ave', 'Lake Shore Dr & Diversey Pkwy'}\n"
     ]
    }
   ],
   "source": [
    "# TAREFA 10\n",
    "# Gênero é fácil porque nós temos apenas algumas opções. E quanto a start_stations? Quantas opções ele tem?\n",
    "# TODO: Verifique quantos tipos de start_stations nós temos, usando set()\n",
    "\n",
    "user_types = set(column_to_list(data_list, 3)) # A função column_to_list retorna uma lista com TODAS as Start Stations (arg = 3)\n",
    "\n",
    "print(\"\\nTAREFA 10: Imprimindo as start stations:\")\n",
    "print(len(user_types))\n",
    "print(user_types)"
   ]
  },
  {
   "cell_type": "code",
   "execution_count": 35,
   "metadata": {},
   "outputs": [
    {
     "name": "stdout",
     "output_type": "stream",
     "text": [
      "\n",
      "TAREFA 11: Imprimindo resultados para count_items()\n",
      "Tipos: ['', 'Male', 'Female'] Counts: [316867, 935854, 298784]\n",
      "3\n",
      "1551505\n"
     ]
    }
   ],
   "source": [
    "# TAREFA 12 - Desafio! (Opcional)\n",
    "# TODO: Crie uma função para contar tipos de usuários, sem definir os tipos\n",
    "# para que nós possamos usar essa função com outra categoria de dados.\n",
    "\n",
    "def count_items(column_list):\n",
    "    item_types = []\n",
    "    count_items = [] \n",
    "    for item in column_list:\n",
    "        if item not in item_types:\n",
    "            item_types.append(item)\n",
    "    \n",
    "    for item in item_types:\n",
    "        count_items.append(column_list.count(item))\n",
    "    return item_types, count_items\n",
    "\n",
    "column_list = column_to_list(data_list, -2) # Mesma coisa que column_to_list(data_list, 6) = Genero\n",
    "types, counts = count_items(column_list)\n",
    "print(\"\\nTAREFA 11: Imprimindo resultados para count_items()\")\n",
    "print(\"Tipos:\", types, \"Counts:\", counts)\n",
    "print(len(types))\n",
    "print(sum(counts))"
   ]
  },
  {
   "cell_type": "code",
   "execution_count": null,
   "metadata": {},
   "outputs": [],
   "source": []
  }
 ],
 "metadata": {
  "kernelspec": {
   "display_name": "Python 3",
   "language": "python",
   "name": "python3"
  },
  "language_info": {
   "codemirror_mode": {
    "name": "ipython",
    "version": 3
   },
   "file_extension": ".py",
   "mimetype": "text/x-python",
   "name": "python",
   "nbconvert_exporter": "python",
   "pygments_lexer": "ipython3",
   "version": "3.6.4"
  },
  "toc": {
   "base_numbering": 1,
   "nav_menu": {},
   "number_sections": true,
   "sideBar": true,
   "skip_h1_title": true,
   "title_cell": "Table of Contents",
   "title_sidebar": "Contents",
   "toc_cell": true,
   "toc_position": {},
   "toc_section_display": true,
   "toc_window_display": false
  }
 },
 "nbformat": 4,
 "nbformat_minor": 2
}
