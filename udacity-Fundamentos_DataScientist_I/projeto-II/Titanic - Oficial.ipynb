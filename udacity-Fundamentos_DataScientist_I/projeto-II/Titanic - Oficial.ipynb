{
 "cells": [
  {
   "cell_type": "markdown",
   "metadata": {},
   "source": [
    "## Titanic: Estudo de Caso Voltado à Dados"
   ]
  },
  {
   "cell_type": "markdown",
   "metadata": {},
   "source": [
    "**Nome:** Thiago Henrique Gomes Panini\n",
    "\n",
    "**Curso:** Nanodegree: Fundamentos de Data Science I"
   ]
  },
  {
   "cell_type": "markdown",
   "metadata": {},
   "source": [
    "O naufrágio do navio Titanic foi um dos mais marcantes acontecimentos da história. Em 15 de abril de 1912, durante sua viagem inaugural, o Titanic afundou depois de colidir com um iceberg, somando 1.502 vítimas entre passageiros e tripulantes. Esta tragédia chocou a comunidade internacional e levou a melhores normas de segurança para os navios."
   ]
  },
  {
   "cell_type": "markdown",
   "metadata": {},
   "source": [
    "O objetivo deste projeto é avaliar, analisar, entender, estudar, preparar e aplicar um conjunto de estatísticas descritivas para retirada de conclusões em uma base de dados que transcreve características de passageiros e tripulantes do Titanic afim de verificar, em primeira instância, quais os fatores que influenciaram diretamente na probabilidade de sobrevivência dos presentes na viagem.\n",
    "\n",
    "Utilizando a linguagem Python e as ferramentas do pacote Anaconda, espera-se:\n",
    "\n",
    "* Aplicar todos os passos envolvidos em um processo de análise de dados típico;\n",
    "* Realizar perguntas que podem ser respondidas por um conjunto de dados e, em seguida, respondê-las;\n",
    "* Investigar problemas em um conjunto de dados;\n",
    "* Adquirir prática em comunicar os resultados da análise;\n",
    "* Utilizar operações vetorizadas no NumPy e Pandas para aprimorar o código;\n",
    "* Trabalhar com Series e DataFrame do Pandas, que permitem acessar os dados de forma mais conveniente;\n",
    "* Utilizar o Matplotlib para produzir gráficos mostrando as descobertas e os resultados obtidos.\n",
    "\n",
    "Para a conclusão do curso Fundamentos de Data Science I, foi proposto um projeto final envolvendo a análise de uma base contendo dados de 891 dos 2.224 passageiros e tripulantes a bordo do Titanic. Com essas informações, deve-se realizar questionamentos prévios para serem respondidos utilizando as ferramentas do Python acima mencionadas.\n"
   ]
  },
  {
   "cell_type": "markdown",
   "metadata": {},
   "source": [
    "### Entendendo e Avaliando os Dados"
   ]
  },
  {
   "cell_type": "markdown",
   "metadata": {},
   "source": [
    "O Dataset disponibilizado possui os seguintes:\n",
    "\n",
    "* _PassengerId_ - Coluna criada pelo Kaggle para identificação dos registros;\n",
    "* _Survived_ - Indica se a pessoa sobreviveu ou não ao acidente (0=Não, 1=Sim);\n",
    "* _Pclass_ - A classe referente ao ticket comprado pelo passageiro;\n",
    "* _Sex_ - Gênero do passageiro;\n",
    "* _Age_ - Idade do passageiro;\n",
    "* _SibSp_ - Número de irmãos ou conjûges a bordo com o passageiro;\n",
    "* _Parch_ - Número de pais ou crianças a bordo com o passageiro;\n",
    "* _Ticket_ - Número do ticket do passageiro;\n",
    "* _Fare_ - Tarifa paga pelo passageiro;\n",
    "* _Cabin_ - Número da cabine do passageiro;\n",
    "* _Embarked_ - Porto no qual o passageiro embarcou (C=Cherbourg, Q=Queenstown, S=Southampton)."
   ]
  },
  {
   "cell_type": "code",
   "execution_count": 94,
   "metadata": {},
   "outputs": [
    {
     "data": {
      "text/html": [
       "<div>\n",
       "<style scoped>\n",
       "    .dataframe tbody tr th:only-of-type {\n",
       "        vertical-align: middle;\n",
       "    }\n",
       "\n",
       "    .dataframe tbody tr th {\n",
       "        vertical-align: top;\n",
       "    }\n",
       "\n",
       "    .dataframe thead th {\n",
       "        text-align: right;\n",
       "    }\n",
       "</style>\n",
       "<table border=\"1\" class=\"dataframe\">\n",
       "  <thead>\n",
       "    <tr style=\"text-align: right;\">\n",
       "      <th></th>\n",
       "      <th>PassengerId</th>\n",
       "      <th>Survived</th>\n",
       "      <th>Pclass</th>\n",
       "      <th>Name</th>\n",
       "      <th>Sex</th>\n",
       "      <th>Age</th>\n",
       "      <th>SibSp</th>\n",
       "      <th>Parch</th>\n",
       "      <th>Ticket</th>\n",
       "      <th>Fare</th>\n",
       "      <th>Cabin</th>\n",
       "      <th>Embarked</th>\n",
       "    </tr>\n",
       "  </thead>\n",
       "  <tbody>\n",
       "    <tr>\n",
       "      <th>0</th>\n",
       "      <td>1</td>\n",
       "      <td>0</td>\n",
       "      <td>3</td>\n",
       "      <td>Braund, Mr. Owen Harris</td>\n",
       "      <td>male</td>\n",
       "      <td>22.0</td>\n",
       "      <td>1</td>\n",
       "      <td>0</td>\n",
       "      <td>A/5 21171</td>\n",
       "      <td>7.2500</td>\n",
       "      <td>NaN</td>\n",
       "      <td>S</td>\n",
       "    </tr>\n",
       "    <tr>\n",
       "      <th>1</th>\n",
       "      <td>2</td>\n",
       "      <td>1</td>\n",
       "      <td>1</td>\n",
       "      <td>Cumings, Mrs. John Bradley (Florence Briggs Th...</td>\n",
       "      <td>female</td>\n",
       "      <td>38.0</td>\n",
       "      <td>1</td>\n",
       "      <td>0</td>\n",
       "      <td>PC 17599</td>\n",
       "      <td>71.2833</td>\n",
       "      <td>C85</td>\n",
       "      <td>C</td>\n",
       "    </tr>\n",
       "    <tr>\n",
       "      <th>2</th>\n",
       "      <td>3</td>\n",
       "      <td>1</td>\n",
       "      <td>3</td>\n",
       "      <td>Heikkinen, Miss. Laina</td>\n",
       "      <td>female</td>\n",
       "      <td>26.0</td>\n",
       "      <td>0</td>\n",
       "      <td>0</td>\n",
       "      <td>STON/O2. 3101282</td>\n",
       "      <td>7.9250</td>\n",
       "      <td>NaN</td>\n",
       "      <td>S</td>\n",
       "    </tr>\n",
       "    <tr>\n",
       "      <th>3</th>\n",
       "      <td>4</td>\n",
       "      <td>1</td>\n",
       "      <td>1</td>\n",
       "      <td>Futrelle, Mrs. Jacques Heath (Lily May Peel)</td>\n",
       "      <td>female</td>\n",
       "      <td>35.0</td>\n",
       "      <td>1</td>\n",
       "      <td>0</td>\n",
       "      <td>113803</td>\n",
       "      <td>53.1000</td>\n",
       "      <td>C123</td>\n",
       "      <td>S</td>\n",
       "    </tr>\n",
       "    <tr>\n",
       "      <th>4</th>\n",
       "      <td>5</td>\n",
       "      <td>0</td>\n",
       "      <td>3</td>\n",
       "      <td>Allen, Mr. William Henry</td>\n",
       "      <td>male</td>\n",
       "      <td>35.0</td>\n",
       "      <td>0</td>\n",
       "      <td>0</td>\n",
       "      <td>373450</td>\n",
       "      <td>8.0500</td>\n",
       "      <td>NaN</td>\n",
       "      <td>S</td>\n",
       "    </tr>\n",
       "  </tbody>\n",
       "</table>\n",
       "</div>"
      ],
      "text/plain": [
       "   PassengerId  Survived  Pclass  \\\n",
       "0            1         0       3   \n",
       "1            2         1       1   \n",
       "2            3         1       3   \n",
       "3            4         1       1   \n",
       "4            5         0       3   \n",
       "\n",
       "                                                Name     Sex   Age  SibSp  \\\n",
       "0                            Braund, Mr. Owen Harris    male  22.0      1   \n",
       "1  Cumings, Mrs. John Bradley (Florence Briggs Th...  female  38.0      1   \n",
       "2                             Heikkinen, Miss. Laina  female  26.0      0   \n",
       "3       Futrelle, Mrs. Jacques Heath (Lily May Peel)  female  35.0      1   \n",
       "4                           Allen, Mr. William Henry    male  35.0      0   \n",
       "\n",
       "   Parch            Ticket     Fare Cabin Embarked  \n",
       "0      0         A/5 21171   7.2500   NaN        S  \n",
       "1      0          PC 17599  71.2833   C85        C  \n",
       "2      0  STON/O2. 3101282   7.9250   NaN        S  \n",
       "3      0            113803  53.1000  C123        S  \n",
       "4      0            373450   8.0500   NaN        S  "
      ]
     },
     "execution_count": 94,
     "metadata": {},
     "output_type": "execute_result"
    }
   ],
   "source": [
    "# Importando biblioteca Pandas e lendo arquivo\n",
    "import pandas as pd\n",
    "\n",
    "df = pd.read_csv('C:/Users/thiagoPanini/Downloads/datasets/titanic-data-6.csv')\n",
    "df.head()"
   ]
  },
  {
   "cell_type": "code",
   "execution_count": 95,
   "metadata": {},
   "outputs": [
    {
     "name": "stdout",
     "output_type": "stream",
     "text": [
      "O DataFrame Titanic possui 891 linhas e 12 colunas.\n"
     ]
    }
   ],
   "source": [
    "# Verificando dimensões\n",
    "print(f'O DataFrame Titanic possui {df.shape[0]} linhas e {df.shape[1]} colunas.')"
   ]
  },
  {
   "cell_type": "code",
   "execution_count": 96,
   "metadata": {},
   "outputs": [
    {
     "data": {
      "text/plain": [
       "PassengerId      int64\n",
       "Survived         int64\n",
       "Pclass           int64\n",
       "Name            object\n",
       "Sex             object\n",
       "Age            float64\n",
       "SibSp            int64\n",
       "Parch            int64\n",
       "Ticket          object\n",
       "Fare           float64\n",
       "Cabin           object\n",
       "Embarked        object\n",
       "dtype: object"
      ]
     },
     "execution_count": 96,
     "metadata": {},
     "output_type": "execute_result"
    }
   ],
   "source": [
    "# Verificando tipos primitivos\n",
    "df.dtypes"
   ]
  },
  {
   "cell_type": "markdown",
   "metadata": {},
   "source": [
    "De acordo com o significado de cada uma das colunas do Dataset, não será necessária nenhuma transformação nos tipos de dados."
   ]
  },
  {
   "cell_type": "code",
   "execution_count": 97,
   "metadata": {},
   "outputs": [
    {
     "data": {
      "text/plain": [
       "True"
      ]
     },
     "execution_count": 97,
     "metadata": {},
     "output_type": "execute_result"
    }
   ],
   "source": [
    "# Verificando dados missing\n",
    "df.isnull().values.any()"
   ]
  },
  {
   "cell_type": "code",
   "execution_count": 98,
   "metadata": {},
   "outputs": [
    {
     "name": "stdout",
     "output_type": "stream",
     "text": [
      "Há dados faltantes neste Dataset?\n",
      "R: True\n"
     ]
    }
   ],
   "source": [
    "# Comunicando\n",
    "print(f'Há dados faltantes neste Dataset?\\nR: {df.isnull().values.any()}')"
   ]
  },
  {
   "cell_type": "code",
   "execution_count": 99,
   "metadata": {},
   "outputs": [
    {
     "data": {
      "text/plain": [
       "PassengerId      0\n",
       "Survived         0\n",
       "Pclass           0\n",
       "Name             0\n",
       "Sex              0\n",
       "Age            177\n",
       "SibSp            0\n",
       "Parch            0\n",
       "Ticket           0\n",
       "Fare             0\n",
       "Cabin          687\n",
       "Embarked         2\n",
       "dtype: int64"
      ]
     },
     "execution_count": 99,
     "metadata": {},
     "output_type": "execute_result"
    }
   ],
   "source": [
    "# Dados nulos \n",
    "df.isnull().sum()"
   ]
  },
  {
   "cell_type": "markdown",
   "metadata": {},
   "source": [
    "**1)** É notório que a coluna *Cabin* possui a situação mais crítica: 687 dos 891 dados estão faltando. Porém, trata-se de uma coluna que, a princípio, não possui relevância para a análise de dados proposta, fato este que leva a manutenção desta coluna e a não exclusão de seus registros faltantes.\n",
    "\n",
    "**2)** Coluna Age também apresenta problemas. São 177 dados faltantes que precisam ser tratados de alguma forma, visto que esta feature pode ser muito importante para análises futuras.\n",
    "\n",
    "**3)** Embarked apresenta 2 valores faltantes. Investigar se há uma relação entre ambos e se é possível deduzir em qual porto estas duas instâncias embarcaram."
   ]
  },
  {
   "cell_type": "code",
   "execution_count": 100,
   "metadata": {},
   "outputs": [
    {
     "name": "stdout",
     "output_type": "stream",
     "text": [
      "<class 'pandas.core.frame.DataFrame'>\n",
      "RangeIndex: 891 entries, 0 to 890\n",
      "Data columns (total 12 columns):\n",
      "PassengerId    891 non-null int64\n",
      "Survived       891 non-null int64\n",
      "Pclass         891 non-null int64\n",
      "Name           891 non-null object\n",
      "Sex            891 non-null object\n",
      "Age            714 non-null float64\n",
      "SibSp          891 non-null int64\n",
      "Parch          891 non-null int64\n",
      "Ticket         891 non-null object\n",
      "Fare           891 non-null float64\n",
      "Cabin          204 non-null object\n",
      "Embarked       889 non-null object\n",
      "dtypes: float64(2), int64(5), object(5)\n",
      "memory usage: 83.6+ KB\n"
     ]
    }
   ],
   "source": [
    "# Outra abordagem para dados nulos\n",
    "df.info()"
   ]
  },
  {
   "cell_type": "code",
   "execution_count": 101,
   "metadata": {},
   "outputs": [
    {
     "data": {
      "text/plain": [
       "False"
      ]
     },
     "execution_count": 101,
     "metadata": {},
     "output_type": "execute_result"
    }
   ],
   "source": [
    "# Verificando dados duplicados\n",
    "df.duplicated().any()"
   ]
  },
  {
   "cell_type": "markdown",
   "metadata": {},
   "source": [
    "Não há dados duplicados, logo, não é necessário nenhum procedimento posterior para exclusão (ou não) dos registros."
   ]
  },
  {
   "cell_type": "code",
   "execution_count": 102,
   "metadata": {},
   "outputs": [
    {
     "data": {
      "text/plain": [
       "PassengerId    891\n",
       "Survived         2\n",
       "Pclass           3\n",
       "Name           891\n",
       "Sex              2\n",
       "Age             88\n",
       "SibSp            7\n",
       "Parch            7\n",
       "Ticket         681\n",
       "Fare           248\n",
       "Cabin          147\n",
       "Embarked         3\n",
       "dtype: int64"
      ]
     },
     "execution_count": 102,
     "metadata": {},
     "output_type": "execute_result"
    }
   ],
   "source": [
    "# Valores únicos em cada coluna\n",
    "df.nunique()"
   ]
  },
  {
   "cell_type": "markdown",
   "metadata": {},
   "source": [
    "### Preparando os Dados"
   ]
  },
  {
   "cell_type": "code",
   "execution_count": 103,
   "metadata": {},
   "outputs": [
    {
     "data": {
      "text/html": [
       "<div>\n",
       "<style scoped>\n",
       "    .dataframe tbody tr th:only-of-type {\n",
       "        vertical-align: middle;\n",
       "    }\n",
       "\n",
       "    .dataframe tbody tr th {\n",
       "        vertical-align: top;\n",
       "    }\n",
       "\n",
       "    .dataframe thead th {\n",
       "        text-align: right;\n",
       "    }\n",
       "</style>\n",
       "<table border=\"1\" class=\"dataframe\">\n",
       "  <thead>\n",
       "    <tr style=\"text-align: right;\">\n",
       "      <th></th>\n",
       "      <th>PassengerId</th>\n",
       "      <th>Survived</th>\n",
       "      <th>Pclass</th>\n",
       "      <th>Age</th>\n",
       "      <th>SibSp</th>\n",
       "      <th>Parch</th>\n",
       "      <th>Fare</th>\n",
       "    </tr>\n",
       "  </thead>\n",
       "  <tbody>\n",
       "    <tr>\n",
       "      <th>count</th>\n",
       "      <td>891.000000</td>\n",
       "      <td>891.000000</td>\n",
       "      <td>891.000000</td>\n",
       "      <td>714.000000</td>\n",
       "      <td>891.000000</td>\n",
       "      <td>891.000000</td>\n",
       "      <td>891.000000</td>\n",
       "    </tr>\n",
       "    <tr>\n",
       "      <th>mean</th>\n",
       "      <td>446.000000</td>\n",
       "      <td>0.383838</td>\n",
       "      <td>2.308642</td>\n",
       "      <td>29.699118</td>\n",
       "      <td>0.523008</td>\n",
       "      <td>0.381594</td>\n",
       "      <td>32.204208</td>\n",
       "    </tr>\n",
       "    <tr>\n",
       "      <th>std</th>\n",
       "      <td>257.353842</td>\n",
       "      <td>0.486592</td>\n",
       "      <td>0.836071</td>\n",
       "      <td>14.526497</td>\n",
       "      <td>1.102743</td>\n",
       "      <td>0.806057</td>\n",
       "      <td>49.693429</td>\n",
       "    </tr>\n",
       "    <tr>\n",
       "      <th>min</th>\n",
       "      <td>1.000000</td>\n",
       "      <td>0.000000</td>\n",
       "      <td>1.000000</td>\n",
       "      <td>0.420000</td>\n",
       "      <td>0.000000</td>\n",
       "      <td>0.000000</td>\n",
       "      <td>0.000000</td>\n",
       "    </tr>\n",
       "    <tr>\n",
       "      <th>25%</th>\n",
       "      <td>223.500000</td>\n",
       "      <td>0.000000</td>\n",
       "      <td>2.000000</td>\n",
       "      <td>20.125000</td>\n",
       "      <td>0.000000</td>\n",
       "      <td>0.000000</td>\n",
       "      <td>7.910400</td>\n",
       "    </tr>\n",
       "    <tr>\n",
       "      <th>50%</th>\n",
       "      <td>446.000000</td>\n",
       "      <td>0.000000</td>\n",
       "      <td>3.000000</td>\n",
       "      <td>28.000000</td>\n",
       "      <td>0.000000</td>\n",
       "      <td>0.000000</td>\n",
       "      <td>14.454200</td>\n",
       "    </tr>\n",
       "    <tr>\n",
       "      <th>75%</th>\n",
       "      <td>668.500000</td>\n",
       "      <td>1.000000</td>\n",
       "      <td>3.000000</td>\n",
       "      <td>38.000000</td>\n",
       "      <td>1.000000</td>\n",
       "      <td>0.000000</td>\n",
       "      <td>31.000000</td>\n",
       "    </tr>\n",
       "    <tr>\n",
       "      <th>max</th>\n",
       "      <td>891.000000</td>\n",
       "      <td>1.000000</td>\n",
       "      <td>3.000000</td>\n",
       "      <td>80.000000</td>\n",
       "      <td>8.000000</td>\n",
       "      <td>6.000000</td>\n",
       "      <td>512.329200</td>\n",
       "    </tr>\n",
       "  </tbody>\n",
       "</table>\n",
       "</div>"
      ],
      "text/plain": [
       "       PassengerId    Survived      Pclass         Age       SibSp  \\\n",
       "count   891.000000  891.000000  891.000000  714.000000  891.000000   \n",
       "mean    446.000000    0.383838    2.308642   29.699118    0.523008   \n",
       "std     257.353842    0.486592    0.836071   14.526497    1.102743   \n",
       "min       1.000000    0.000000    1.000000    0.420000    0.000000   \n",
       "25%     223.500000    0.000000    2.000000   20.125000    0.000000   \n",
       "50%     446.000000    0.000000    3.000000   28.000000    0.000000   \n",
       "75%     668.500000    1.000000    3.000000   38.000000    1.000000   \n",
       "max     891.000000    1.000000    3.000000   80.000000    8.000000   \n",
       "\n",
       "            Parch        Fare  \n",
       "count  891.000000  891.000000  \n",
       "mean     0.381594   32.204208  \n",
       "std      0.806057   49.693429  \n",
       "min      0.000000    0.000000  \n",
       "25%      0.000000    7.910400  \n",
       "50%      0.000000   14.454200  \n",
       "75%      0.000000   31.000000  \n",
       "max      6.000000  512.329200  "
      ]
     },
     "execution_count": 103,
     "metadata": {},
     "output_type": "execute_result"
    }
   ],
   "source": [
    "# Visualizando algumas estatísticas de dados numéricos\n",
    "df.describe()"
   ]
  },
  {
   "cell_type": "code",
   "execution_count": 104,
   "metadata": {},
   "outputs": [
    {
     "data": {
      "text/html": [
       "<div>\n",
       "<style scoped>\n",
       "    .dataframe tbody tr th:only-of-type {\n",
       "        vertical-align: middle;\n",
       "    }\n",
       "\n",
       "    .dataframe tbody tr th {\n",
       "        vertical-align: top;\n",
       "    }\n",
       "\n",
       "    .dataframe thead th {\n",
       "        text-align: right;\n",
       "    }\n",
       "</style>\n",
       "<table border=\"1\" class=\"dataframe\">\n",
       "  <thead>\n",
       "    <tr style=\"text-align: right;\">\n",
       "      <th></th>\n",
       "      <th>PassengerId</th>\n",
       "      <th>Survived</th>\n",
       "      <th>Pclass</th>\n",
       "      <th>Name</th>\n",
       "      <th>Sex</th>\n",
       "      <th>Age</th>\n",
       "      <th>SibSp</th>\n",
       "      <th>Parch</th>\n",
       "      <th>Ticket</th>\n",
       "      <th>Fare</th>\n",
       "      <th>Cabin</th>\n",
       "      <th>Embarked</th>\n",
       "    </tr>\n",
       "  </thead>\n",
       "  <tbody>\n",
       "    <tr>\n",
       "      <th>0</th>\n",
       "      <td>1</td>\n",
       "      <td>0</td>\n",
       "      <td>3</td>\n",
       "      <td>Braund, Mr. Owen Harris</td>\n",
       "      <td>male</td>\n",
       "      <td>22.0</td>\n",
       "      <td>1</td>\n",
       "      <td>0</td>\n",
       "      <td>A/5 21171</td>\n",
       "      <td>7.2500</td>\n",
       "      <td>NaN</td>\n",
       "      <td>S</td>\n",
       "    </tr>\n",
       "    <tr>\n",
       "      <th>1</th>\n",
       "      <td>2</td>\n",
       "      <td>1</td>\n",
       "      <td>1</td>\n",
       "      <td>Cumings, Mrs. John Bradley (Florence Briggs Th...</td>\n",
       "      <td>female</td>\n",
       "      <td>38.0</td>\n",
       "      <td>1</td>\n",
       "      <td>0</td>\n",
       "      <td>PC 17599</td>\n",
       "      <td>71.2833</td>\n",
       "      <td>C85</td>\n",
       "      <td>C</td>\n",
       "    </tr>\n",
       "    <tr>\n",
       "      <th>2</th>\n",
       "      <td>3</td>\n",
       "      <td>1</td>\n",
       "      <td>3</td>\n",
       "      <td>Heikkinen, Miss. Laina</td>\n",
       "      <td>female</td>\n",
       "      <td>26.0</td>\n",
       "      <td>0</td>\n",
       "      <td>0</td>\n",
       "      <td>STON/O2. 3101282</td>\n",
       "      <td>7.9250</td>\n",
       "      <td>NaN</td>\n",
       "      <td>S</td>\n",
       "    </tr>\n",
       "    <tr>\n",
       "      <th>3</th>\n",
       "      <td>4</td>\n",
       "      <td>1</td>\n",
       "      <td>1</td>\n",
       "      <td>Futrelle, Mrs. Jacques Heath (Lily May Peel)</td>\n",
       "      <td>female</td>\n",
       "      <td>35.0</td>\n",
       "      <td>1</td>\n",
       "      <td>0</td>\n",
       "      <td>113803</td>\n",
       "      <td>53.1000</td>\n",
       "      <td>C123</td>\n",
       "      <td>S</td>\n",
       "    </tr>\n",
       "    <tr>\n",
       "      <th>4</th>\n",
       "      <td>5</td>\n",
       "      <td>0</td>\n",
       "      <td>3</td>\n",
       "      <td>Allen, Mr. William Henry</td>\n",
       "      <td>male</td>\n",
       "      <td>35.0</td>\n",
       "      <td>0</td>\n",
       "      <td>0</td>\n",
       "      <td>373450</td>\n",
       "      <td>8.0500</td>\n",
       "      <td>NaN</td>\n",
       "      <td>S</td>\n",
       "    </tr>\n",
       "  </tbody>\n",
       "</table>\n",
       "</div>"
      ],
      "text/plain": [
       "   PassengerId  Survived  Pclass  \\\n",
       "0            1         0       3   \n",
       "1            2         1       1   \n",
       "2            3         1       3   \n",
       "3            4         1       1   \n",
       "4            5         0       3   \n",
       "\n",
       "                                                Name     Sex   Age  SibSp  \\\n",
       "0                            Braund, Mr. Owen Harris    male  22.0      1   \n",
       "1  Cumings, Mrs. John Bradley (Florence Briggs Th...  female  38.0      1   \n",
       "2                             Heikkinen, Miss. Laina  female  26.0      0   \n",
       "3       Futrelle, Mrs. Jacques Heath (Lily May Peel)  female  35.0      1   \n",
       "4                           Allen, Mr. William Henry    male  35.0      0   \n",
       "\n",
       "   Parch            Ticket     Fare Cabin Embarked  \n",
       "0      0         A/5 21171   7.2500   NaN        S  \n",
       "1      0          PC 17599  71.2833   C85        C  \n",
       "2      0  STON/O2. 3101282   7.9250   NaN        S  \n",
       "3      0            113803  53.1000  C123        S  \n",
       "4      0            373450   8.0500   NaN        S  "
      ]
     },
     "execution_count": 104,
     "metadata": {},
     "output_type": "execute_result"
    }
   ],
   "source": [
    "# Visualizando novamente o head\n",
    "df.head()"
   ]
  },
  {
   "cell_type": "markdown",
   "metadata": {},
   "source": [
    "Percebe-se que a coluna **PassengerId** poderia muito bem se tornar o índice do DataFrame"
   ]
  },
  {
   "cell_type": "code",
   "execution_count": 105,
   "metadata": {},
   "outputs": [
    {
     "data": {
      "text/html": [
       "<div>\n",
       "<style scoped>\n",
       "    .dataframe tbody tr th:only-of-type {\n",
       "        vertical-align: middle;\n",
       "    }\n",
       "\n",
       "    .dataframe tbody tr th {\n",
       "        vertical-align: top;\n",
       "    }\n",
       "\n",
       "    .dataframe thead th {\n",
       "        text-align: right;\n",
       "    }\n",
       "</style>\n",
       "<table border=\"1\" class=\"dataframe\">\n",
       "  <thead>\n",
       "    <tr style=\"text-align: right;\">\n",
       "      <th></th>\n",
       "      <th>Survived</th>\n",
       "      <th>Pclass</th>\n",
       "      <th>Name</th>\n",
       "      <th>Sex</th>\n",
       "      <th>Age</th>\n",
       "      <th>SibSp</th>\n",
       "      <th>Parch</th>\n",
       "      <th>Ticket</th>\n",
       "      <th>Fare</th>\n",
       "      <th>Cabin</th>\n",
       "      <th>Embarked</th>\n",
       "    </tr>\n",
       "    <tr>\n",
       "      <th>PassengerId</th>\n",
       "      <th></th>\n",
       "      <th></th>\n",
       "      <th></th>\n",
       "      <th></th>\n",
       "      <th></th>\n",
       "      <th></th>\n",
       "      <th></th>\n",
       "      <th></th>\n",
       "      <th></th>\n",
       "      <th></th>\n",
       "      <th></th>\n",
       "    </tr>\n",
       "  </thead>\n",
       "  <tbody>\n",
       "    <tr>\n",
       "      <th>1</th>\n",
       "      <td>0</td>\n",
       "      <td>3</td>\n",
       "      <td>Braund, Mr. Owen Harris</td>\n",
       "      <td>male</td>\n",
       "      <td>22.0</td>\n",
       "      <td>1</td>\n",
       "      <td>0</td>\n",
       "      <td>A/5 21171</td>\n",
       "      <td>7.2500</td>\n",
       "      <td>NaN</td>\n",
       "      <td>S</td>\n",
       "    </tr>\n",
       "    <tr>\n",
       "      <th>2</th>\n",
       "      <td>1</td>\n",
       "      <td>1</td>\n",
       "      <td>Cumings, Mrs. John Bradley (Florence Briggs Th...</td>\n",
       "      <td>female</td>\n",
       "      <td>38.0</td>\n",
       "      <td>1</td>\n",
       "      <td>0</td>\n",
       "      <td>PC 17599</td>\n",
       "      <td>71.2833</td>\n",
       "      <td>C85</td>\n",
       "      <td>C</td>\n",
       "    </tr>\n",
       "    <tr>\n",
       "      <th>3</th>\n",
       "      <td>1</td>\n",
       "      <td>3</td>\n",
       "      <td>Heikkinen, Miss. Laina</td>\n",
       "      <td>female</td>\n",
       "      <td>26.0</td>\n",
       "      <td>0</td>\n",
       "      <td>0</td>\n",
       "      <td>STON/O2. 3101282</td>\n",
       "      <td>7.9250</td>\n",
       "      <td>NaN</td>\n",
       "      <td>S</td>\n",
       "    </tr>\n",
       "    <tr>\n",
       "      <th>4</th>\n",
       "      <td>1</td>\n",
       "      <td>1</td>\n",
       "      <td>Futrelle, Mrs. Jacques Heath (Lily May Peel)</td>\n",
       "      <td>female</td>\n",
       "      <td>35.0</td>\n",
       "      <td>1</td>\n",
       "      <td>0</td>\n",
       "      <td>113803</td>\n",
       "      <td>53.1000</td>\n",
       "      <td>C123</td>\n",
       "      <td>S</td>\n",
       "    </tr>\n",
       "    <tr>\n",
       "      <th>5</th>\n",
       "      <td>0</td>\n",
       "      <td>3</td>\n",
       "      <td>Allen, Mr. William Henry</td>\n",
       "      <td>male</td>\n",
       "      <td>35.0</td>\n",
       "      <td>0</td>\n",
       "      <td>0</td>\n",
       "      <td>373450</td>\n",
       "      <td>8.0500</td>\n",
       "      <td>NaN</td>\n",
       "      <td>S</td>\n",
       "    </tr>\n",
       "  </tbody>\n",
       "</table>\n",
       "</div>"
      ],
      "text/plain": [
       "             Survived  Pclass  \\\n",
       "PassengerId                     \n",
       "1                   0       3   \n",
       "2                   1       1   \n",
       "3                   1       3   \n",
       "4                   1       1   \n",
       "5                   0       3   \n",
       "\n",
       "                                                          Name     Sex   Age  \\\n",
       "PassengerId                                                                    \n",
       "1                                      Braund, Mr. Owen Harris    male  22.0   \n",
       "2            Cumings, Mrs. John Bradley (Florence Briggs Th...  female  38.0   \n",
       "3                                       Heikkinen, Miss. Laina  female  26.0   \n",
       "4                 Futrelle, Mrs. Jacques Heath (Lily May Peel)  female  35.0   \n",
       "5                                     Allen, Mr. William Henry    male  35.0   \n",
       "\n",
       "             SibSp  Parch            Ticket     Fare Cabin Embarked  \n",
       "PassengerId                                                          \n",
       "1                1      0         A/5 21171   7.2500   NaN        S  \n",
       "2                1      0          PC 17599  71.2833   C85        C  \n",
       "3                0      0  STON/O2. 3101282   7.9250   NaN        S  \n",
       "4                1      0            113803  53.1000  C123        S  \n",
       "5                0      0            373450   8.0500   NaN        S  "
      ]
     },
     "execution_count": 105,
     "metadata": {},
     "output_type": "execute_result"
    }
   ],
   "source": [
    "# Transformando coluna PassengerId em índice\n",
    "df.set_index('PassengerId', inplace=True)\n",
    "df.head()"
   ]
  },
  {
   "cell_type": "code",
   "execution_count": 106,
   "metadata": {},
   "outputs": [
    {
     "data": {
      "text/plain": [
       "Survived      0\n",
       "Pclass        0\n",
       "Name          0\n",
       "Sex           0\n",
       "Age         177\n",
       "SibSp         0\n",
       "Parch         0\n",
       "Ticket        0\n",
       "Fare          0\n",
       "Cabin       687\n",
       "Embarked      2\n",
       "dtype: int64"
      ]
     },
     "execution_count": 106,
     "metadata": {},
     "output_type": "execute_result"
    }
   ],
   "source": [
    "# Verificando dados nulos\n",
    "df.isnull().sum()"
   ]
  },
  {
   "cell_type": "code",
   "execution_count": 107,
   "metadata": {},
   "outputs": [
    {
     "data": {
      "text/plain": [
       "177"
      ]
     },
     "execution_count": 107,
     "metadata": {},
     "output_type": "execute_result"
    }
   ],
   "source": [
    "# Tratando dados da coluna Age\n",
    "df['Age'].isnull().sum()"
   ]
  },
  {
   "cell_type": "code",
   "execution_count": 108,
   "metadata": {},
   "outputs": [
    {
     "data": {
      "text/plain": [
       "29.69911764705882"
      ]
     },
     "execution_count": 108,
     "metadata": {},
     "output_type": "execute_result"
    }
   ],
   "source": [
    "# Verificando a média de Idades\n",
    "media = df['Age'].mean()\n",
    "media"
   ]
  },
  {
   "cell_type": "code",
   "execution_count": 109,
   "metadata": {},
   "outputs": [
    {
     "data": {
      "text/plain": [
       "80.0"
      ]
     },
     "execution_count": 109,
     "metadata": {},
     "output_type": "execute_result"
    }
   ],
   "source": [
    "# Verificando Idade máxima\n",
    "df['Age'].max()"
   ]
  },
  {
   "cell_type": "code",
   "execution_count": 110,
   "metadata": {},
   "outputs": [
    {
     "data": {
      "text/plain": [
       "0.42"
      ]
     },
     "execution_count": 110,
     "metadata": {},
     "output_type": "execute_result"
    }
   ],
   "source": [
    "# Verificando Idade mínima\n",
    "df['Age'].min()"
   ]
  },
  {
   "cell_type": "code",
   "execution_count": 111,
   "metadata": {},
   "outputs": [
    {
     "data": {
      "text/plain": [
       "28.0"
      ]
     },
     "execution_count": 111,
     "metadata": {},
     "output_type": "execute_result"
    }
   ],
   "source": [
    "# Verificando mediana\n",
    "df['Age'].median()"
   ]
  },
  {
   "cell_type": "code",
   "execution_count": 112,
   "metadata": {},
   "outputs": [
    {
     "name": "stdout",
     "output_type": "stream",
     "text": [
      "Média de idades: 29.7 anos.\n",
      "Mediana de idades: 28.00 anos.\n",
      "Maior idade encontrada: 80.0 anos.\n",
      "Menor idade encontrada: 0.42 anos.\n"
     ]
    }
   ],
   "source": [
    "# Características do atributo Age\n",
    "print(f'Média de idades: {df[\"Age\"].mean():.1f} anos.')\n",
    "print(f'Mediana de idades: {df[\"Age\"].median():.2f} anos.')\n",
    "print(f'Maior idade encontrada: {df[\"Age\"].max()} anos.')\n",
    "print(f'Menor idade encontrada: {df[\"Age\"].min()} anos.')"
   ]
  },
  {
   "cell_type": "code",
   "execution_count": 113,
   "metadata": {},
   "outputs": [
    {
     "data": {
      "text/plain": [
       "count    714.000000\n",
       "mean      29.699118\n",
       "std       14.526497\n",
       "min        0.420000\n",
       "25%       20.125000\n",
       "50%       28.000000\n",
       "75%       38.000000\n",
       "max       80.000000\n",
       "Name: Age, dtype: float64"
      ]
     },
     "execution_count": 113,
     "metadata": {},
     "output_type": "execute_result"
    }
   ],
   "source": [
    "# Estatísticas sobre atributo Idade\n",
    "df['Age'].describe()"
   ]
  },
  {
   "cell_type": "code",
   "execution_count": 114,
   "metadata": {},
   "outputs": [
    {
     "name": "stdout",
     "output_type": "stream",
     "text": [
      "Há dados faltantes na coluna Age? False\n"
     ]
    }
   ],
   "source": [
    "# Preenchendo dados com a média\n",
    "age_mean = df['Age'].mean()\n",
    "df['Age'].fillna(age_mean, inplace=True)\n",
    "\n",
    "# Verificando resultado\n",
    "print(f'Há dados faltantes na coluna Age? {df[\"Age\"].isnull().any()}')"
   ]
  },
  {
   "cell_type": "code",
   "execution_count": 115,
   "metadata": {},
   "outputs": [
    {
     "data": {
      "text/plain": [
       "Survived      0\n",
       "Pclass        0\n",
       "Name          0\n",
       "Sex           0\n",
       "Age           0\n",
       "SibSp         0\n",
       "Parch         0\n",
       "Ticket        0\n",
       "Fare          0\n",
       "Cabin       687\n",
       "Embarked      2\n",
       "dtype: int64"
      ]
     },
     "execution_count": 115,
     "metadata": {},
     "output_type": "execute_result"
    }
   ],
   "source": [
    "# Visão geral\n",
    "df.isnull().sum()"
   ]
  },
  {
   "cell_type": "code",
   "execution_count": 116,
   "metadata": {},
   "outputs": [
    {
     "data": {
      "text/plain": [
       "C23 C25 C27    4\n",
       "G6             4\n",
       "B96 B98        4\n",
       "E101           3\n",
       "D              3\n",
       "F2             3\n",
       "F33            3\n",
       "C22 C26        3\n",
       "B22            2\n",
       "E24            2\n",
       "C2             2\n",
       "B18            2\n",
       "D36            2\n",
       "C123           2\n",
       "E121           2\n",
       "B77            2\n",
       "E33            2\n",
       "B35            2\n",
       "B5             2\n",
       "D26            2\n",
       "D33            2\n",
       "B49            2\n",
       "E8             2\n",
       "C52            2\n",
       "B20            2\n",
       "B58 B60        2\n",
       "B28            2\n",
       "C125           2\n",
       "D35            2\n",
       "E25            2\n",
       "              ..\n",
       "E17            1\n",
       "C87            1\n",
       "E40            1\n",
       "D50            1\n",
       "B42            1\n",
       "D19            1\n",
       "D47            1\n",
       "C7             1\n",
       "D7             1\n",
       "C101           1\n",
       "C86            1\n",
       "B80            1\n",
       "D37            1\n",
       "D46            1\n",
       "C91            1\n",
       "B30            1\n",
       "B78            1\n",
       "C95            1\n",
       "C118           1\n",
       "B3             1\n",
       "C47            1\n",
       "B71            1\n",
       "C103           1\n",
       "B94            1\n",
       "D9             1\n",
       "A19            1\n",
       "D56            1\n",
       "C104           1\n",
       "C54            1\n",
       "E49            1\n",
       "Name: Cabin, Length: 147, dtype: int64"
      ]
     },
     "execution_count": 116,
     "metadata": {},
     "output_type": "execute_result"
    }
   ],
   "source": [
    "# Verificando impacto da coluna Cabin\n",
    "df['Cabin'].value_counts()"
   ]
  },
  {
   "cell_type": "markdown",
   "metadata": {},
   "source": [
    "A coluna Cabin não apresenta nenhuma singularidade e, portanto, não provoca efeitos significativos na análise dos resultados. Dessa forma, optar por elimina-la é o caminho mais adequado, visando a simplicidade e objetividade do projeto."
   ]
  },
  {
   "cell_type": "code",
   "execution_count": 117,
   "metadata": {},
   "outputs": [
    {
     "data": {
      "text/html": [
       "<div>\n",
       "<style scoped>\n",
       "    .dataframe tbody tr th:only-of-type {\n",
       "        vertical-align: middle;\n",
       "    }\n",
       "\n",
       "    .dataframe tbody tr th {\n",
       "        vertical-align: top;\n",
       "    }\n",
       "\n",
       "    .dataframe thead th {\n",
       "        text-align: right;\n",
       "    }\n",
       "</style>\n",
       "<table border=\"1\" class=\"dataframe\">\n",
       "  <thead>\n",
       "    <tr style=\"text-align: right;\">\n",
       "      <th></th>\n",
       "      <th>Survived</th>\n",
       "      <th>Pclass</th>\n",
       "      <th>Name</th>\n",
       "      <th>Sex</th>\n",
       "      <th>Age</th>\n",
       "      <th>SibSp</th>\n",
       "      <th>Parch</th>\n",
       "      <th>Ticket</th>\n",
       "      <th>Fare</th>\n",
       "      <th>Cabin</th>\n",
       "      <th>Embarked</th>\n",
       "    </tr>\n",
       "    <tr>\n",
       "      <th>PassengerId</th>\n",
       "      <th></th>\n",
       "      <th></th>\n",
       "      <th></th>\n",
       "      <th></th>\n",
       "      <th></th>\n",
       "      <th></th>\n",
       "      <th></th>\n",
       "      <th></th>\n",
       "      <th></th>\n",
       "      <th></th>\n",
       "      <th></th>\n",
       "    </tr>\n",
       "  </thead>\n",
       "  <tbody>\n",
       "    <tr>\n",
       "      <th>62</th>\n",
       "      <td>1</td>\n",
       "      <td>1</td>\n",
       "      <td>Icard, Miss. Amelie</td>\n",
       "      <td>female</td>\n",
       "      <td>38.0</td>\n",
       "      <td>0</td>\n",
       "      <td>0</td>\n",
       "      <td>113572</td>\n",
       "      <td>80.0</td>\n",
       "      <td>B28</td>\n",
       "      <td>NaN</td>\n",
       "    </tr>\n",
       "    <tr>\n",
       "      <th>830</th>\n",
       "      <td>1</td>\n",
       "      <td>1</td>\n",
       "      <td>Stone, Mrs. George Nelson (Martha Evelyn)</td>\n",
       "      <td>female</td>\n",
       "      <td>62.0</td>\n",
       "      <td>0</td>\n",
       "      <td>0</td>\n",
       "      <td>113572</td>\n",
       "      <td>80.0</td>\n",
       "      <td>B28</td>\n",
       "      <td>NaN</td>\n",
       "    </tr>\n",
       "  </tbody>\n",
       "</table>\n",
       "</div>"
      ],
      "text/plain": [
       "             Survived  Pclass                                       Name  \\\n",
       "PassengerId                                                                \n",
       "62                  1       1                        Icard, Miss. Amelie   \n",
       "830                 1       1  Stone, Mrs. George Nelson (Martha Evelyn)   \n",
       "\n",
       "                Sex   Age  SibSp  Parch  Ticket  Fare Cabin Embarked  \n",
       "PassengerId                                                           \n",
       "62           female  38.0      0      0  113572  80.0   B28      NaN  \n",
       "830          female  62.0      0      0  113572  80.0   B28      NaN  "
      ]
     },
     "execution_count": 117,
     "metadata": {},
     "output_type": "execute_result"
    }
   ],
   "source": [
    "# Visualizando detalhes sobre dados faltantes em Embarked\n",
    "df[df['Embarked'].isnull()].head()"
   ]
  },
  {
   "cell_type": "code",
   "execution_count": 118,
   "metadata": {},
   "outputs": [
    {
     "name": "stdout",
     "output_type": "stream",
     "text": [
      "Pessoas com o ticket 113572: 2\n",
      "Pessoas na cabine B28: 2\n"
     ]
    }
   ],
   "source": [
    "# Dedução pelo Ticket?\n",
    "print(f\"Pessoas com o ticket 113572: {(df['Ticket'] == '113572').sum()}\")\n",
    "print(f\"Pessoas na cabine B28: {(df['Cabin'] == 'B28').sum()}\")"
   ]
  },
  {
   "cell_type": "code",
   "execution_count": 119,
   "metadata": {},
   "outputs": [
    {
     "data": {
      "text/plain": [
       "PassengerId\n",
       "62                           Icard, Miss. Amelie\n",
       "830    Stone, Mrs. George Nelson (Martha Evelyn)\n",
       "Name: Name, dtype: object"
      ]
     },
     "execution_count": 119,
     "metadata": {},
     "output_type": "execute_result"
    }
   ],
   "source": [
    "# Pessoas que pagaram 80 no ticket\n",
    "f_80 = df.query('Fare == 80')['Name']\n",
    "f_80"
   ]
  },
  {
   "cell_type": "code",
   "execution_count": 120,
   "metadata": {},
   "outputs": [
    {
     "data": {
      "text/plain": [
       "Embarked\n",
       "C    36\n",
       "Q     2\n",
       "S    71\n",
       "Name: Name, dtype: int64"
      ]
     },
     "execution_count": 120,
     "metadata": {},
     "output_type": "execute_result"
    }
   ],
   "source": [
    "near_fare"
   ]
  },
  {
   "cell_type": "code",
   "execution_count": 121,
   "metadata": {},
   "outputs": [
    {
     "name": "stdout",
     "output_type": "stream",
     "text": [
      "Embarcaram em Cherbourg e pagaram entre 50.00 e 110.00: 21.43%\n",
      "Embarcaram em Queenstown e pagaram entre 50.00 e 110.00: 2.60%\n",
      "Embarcaram em Southampton e pagaram entre 50.00 e 110.00: 11.02%\n"
     ]
    }
   ],
   "source": [
    "# Dedução pelo atributo Fare? Proporção de pessoas que pagaram 80 +/- 30\n",
    "limit_above = 30\n",
    "limit_below = 30\n",
    "target = 80\n",
    "near_fare = df.query('Fare < @target+@limit_above & Fare > @target-@limit_below')\n",
    "near_fare = near_fare.groupby('Embarked').count()['Name']\n",
    "emb_totals = df.groupby('Embarked').count()['Name']\n",
    "proportions = 100 * near_fare / totals\n",
    "\n",
    "for state in near_fare.index:\n",
    "    if state == 'C':\n",
    "        estado = 'Cherbourg'\n",
    "    elif state == 'Q':\n",
    "        estado = 'Queenstown'\n",
    "    else:\n",
    "        estado = 'Southampton'\n",
    "    print(f\"Embarcaram em {estado} e pagaram entre 50.00 e 110.00: {proportions[state]:.2f}%\")"
   ]
  },
  {
   "cell_type": "code",
   "execution_count": 122,
   "metadata": {},
   "outputs": [
    {
     "name": "stdout",
     "output_type": "stream",
     "text": [
      "Embarcaram em Southampton e pertencem à Classe 1: 19.72%\n",
      "Embarcaram em Cherbourg e pertencem à Classe 1: 50.60%\n",
      "Embarcaram em Queenstown e pertencem à Classe 1: 2.60%\n"
     ]
    }
   ],
   "source": [
    "# Proporção de Classe 1 por porto de embarque \n",
    "\n",
    "class_embarked = df.groupby(['Pclass', 'Embarked']).count()['Name']\n",
    "states_index = df['Embarked'].value_counts().index\n",
    "prop_class = 100 * class_embarked / emb_totals\n",
    "\n",
    "for state in states_index:\n",
    "    if state == 'C':\n",
    "        estado = 'Cherbourg'\n",
    "    elif state == 'Q':\n",
    "        estado = 'Queenstown'\n",
    "    else:\n",
    "        estado = 'Southampton'\n",
    "    print(f'Embarcaram em {estado} e pertencem à Classe 1: {prop_class[1][state]:.2f}%')"
   ]
  },
  {
   "cell_type": "markdown",
   "metadata": {},
   "source": [
    "Após as análises, é possível supor que as duas passageiras com valor faltante na coluna 'Embarked' possivelmente embarcaram em Southampton pois:\n",
    "\n",
    "* A maioria dos passageiros da Classe 1 embarcaram em Cherbourg\n",
    "* Grande parte dos passageiros que pagaram um valor semelhante no ticket, embarcaram em Cherbourg\n",
    "* Por exclusão, Queenstown ficou fora de cogitação por possuir poucos dados que satisfaziam os critérios"
   ]
  },
  {
   "cell_type": "code",
   "execution_count": 123,
   "metadata": {},
   "outputs": [
    {
     "name": "stdout",
     "output_type": "stream",
     "text": [
      "Dados faltantes antes da inserção: 2\n",
      "Dados faltantes após a inserção: 0\n"
     ]
    }
   ],
   "source": [
    "# Preenchendo dados faltantes em Embarked\n",
    "print(f'Dados faltantes antes da inserção: {df[\"Embarked\"].isnull().sum()}')\n",
    "df['Embarked'].fillna('C', inplace=True)\n",
    "print(f'Dados faltantes após a inserção: {df[\"Embarked\"].isnull().sum()}')"
   ]
  },
  {
   "cell_type": "code",
   "execution_count": 124,
   "metadata": {},
   "outputs": [
    {
     "data": {
      "text/plain": [
       "Survived      0\n",
       "Pclass        0\n",
       "Name          0\n",
       "Sex           0\n",
       "Age           0\n",
       "SibSp         0\n",
       "Parch         0\n",
       "Ticket        0\n",
       "Fare          0\n",
       "Cabin       687\n",
       "Embarked      0\n",
       "dtype: int64"
      ]
     },
     "execution_count": 124,
     "metadata": {},
     "output_type": "execute_result"
    }
   ],
   "source": [
    "# Verificando alterações\n",
    "df.isnull().sum()"
   ]
  },
  {
   "cell_type": "code",
   "execution_count": 125,
   "metadata": {},
   "outputs": [
    {
     "data": {
      "text/html": [
       "<div>\n",
       "<style scoped>\n",
       "    .dataframe tbody tr th:only-of-type {\n",
       "        vertical-align: middle;\n",
       "    }\n",
       "\n",
       "    .dataframe tbody tr th {\n",
       "        vertical-align: top;\n",
       "    }\n",
       "\n",
       "    .dataframe thead th {\n",
       "        text-align: right;\n",
       "    }\n",
       "</style>\n",
       "<table border=\"1\" class=\"dataframe\">\n",
       "  <thead>\n",
       "    <tr style=\"text-align: right;\">\n",
       "      <th></th>\n",
       "      <th>Survived</th>\n",
       "      <th>Pclass</th>\n",
       "      <th>Name</th>\n",
       "      <th>Sex</th>\n",
       "      <th>Age</th>\n",
       "      <th>SibSp</th>\n",
       "      <th>Parch</th>\n",
       "      <th>Ticket</th>\n",
       "      <th>Fare</th>\n",
       "      <th>Embarked</th>\n",
       "    </tr>\n",
       "    <tr>\n",
       "      <th>PassengerId</th>\n",
       "      <th></th>\n",
       "      <th></th>\n",
       "      <th></th>\n",
       "      <th></th>\n",
       "      <th></th>\n",
       "      <th></th>\n",
       "      <th></th>\n",
       "      <th></th>\n",
       "      <th></th>\n",
       "      <th></th>\n",
       "    </tr>\n",
       "  </thead>\n",
       "  <tbody>\n",
       "    <tr>\n",
       "      <th>1</th>\n",
       "      <td>0</td>\n",
       "      <td>3</td>\n",
       "      <td>Braund, Mr. Owen Harris</td>\n",
       "      <td>male</td>\n",
       "      <td>22.0</td>\n",
       "      <td>1</td>\n",
       "      <td>0</td>\n",
       "      <td>A/5 21171</td>\n",
       "      <td>7.2500</td>\n",
       "      <td>S</td>\n",
       "    </tr>\n",
       "    <tr>\n",
       "      <th>2</th>\n",
       "      <td>1</td>\n",
       "      <td>1</td>\n",
       "      <td>Cumings, Mrs. John Bradley (Florence Briggs Th...</td>\n",
       "      <td>female</td>\n",
       "      <td>38.0</td>\n",
       "      <td>1</td>\n",
       "      <td>0</td>\n",
       "      <td>PC 17599</td>\n",
       "      <td>71.2833</td>\n",
       "      <td>C</td>\n",
       "    </tr>\n",
       "    <tr>\n",
       "      <th>3</th>\n",
       "      <td>1</td>\n",
       "      <td>3</td>\n",
       "      <td>Heikkinen, Miss. Laina</td>\n",
       "      <td>female</td>\n",
       "      <td>26.0</td>\n",
       "      <td>0</td>\n",
       "      <td>0</td>\n",
       "      <td>STON/O2. 3101282</td>\n",
       "      <td>7.9250</td>\n",
       "      <td>S</td>\n",
       "    </tr>\n",
       "    <tr>\n",
       "      <th>4</th>\n",
       "      <td>1</td>\n",
       "      <td>1</td>\n",
       "      <td>Futrelle, Mrs. Jacques Heath (Lily May Peel)</td>\n",
       "      <td>female</td>\n",
       "      <td>35.0</td>\n",
       "      <td>1</td>\n",
       "      <td>0</td>\n",
       "      <td>113803</td>\n",
       "      <td>53.1000</td>\n",
       "      <td>S</td>\n",
       "    </tr>\n",
       "    <tr>\n",
       "      <th>5</th>\n",
       "      <td>0</td>\n",
       "      <td>3</td>\n",
       "      <td>Allen, Mr. William Henry</td>\n",
       "      <td>male</td>\n",
       "      <td>35.0</td>\n",
       "      <td>0</td>\n",
       "      <td>0</td>\n",
       "      <td>373450</td>\n",
       "      <td>8.0500</td>\n",
       "      <td>S</td>\n",
       "    </tr>\n",
       "  </tbody>\n",
       "</table>\n",
       "</div>"
      ],
      "text/plain": [
       "             Survived  Pclass  \\\n",
       "PassengerId                     \n",
       "1                   0       3   \n",
       "2                   1       1   \n",
       "3                   1       3   \n",
       "4                   1       1   \n",
       "5                   0       3   \n",
       "\n",
       "                                                          Name     Sex   Age  \\\n",
       "PassengerId                                                                    \n",
       "1                                      Braund, Mr. Owen Harris    male  22.0   \n",
       "2            Cumings, Mrs. John Bradley (Florence Briggs Th...  female  38.0   \n",
       "3                                       Heikkinen, Miss. Laina  female  26.0   \n",
       "4                 Futrelle, Mrs. Jacques Heath (Lily May Peel)  female  35.0   \n",
       "5                                     Allen, Mr. William Henry    male  35.0   \n",
       "\n",
       "             SibSp  Parch            Ticket     Fare Embarked  \n",
       "PassengerId                                                    \n",
       "1                1      0         A/5 21171   7.2500        S  \n",
       "2                1      0          PC 17599  71.2833        C  \n",
       "3                0      0  STON/O2. 3101282   7.9250        S  \n",
       "4                1      0            113803  53.1000        S  \n",
       "5                0      0            373450   8.0500        S  "
      ]
     },
     "execution_count": 125,
     "metadata": {},
     "output_type": "execute_result"
    }
   ],
   "source": [
    "# Excluindo coluna Cabin\n",
    "df.drop('Cabin', axis=1, inplace=True)\n",
    "df.head()"
   ]
  },
  {
   "cell_type": "code",
   "execution_count": 126,
   "metadata": {},
   "outputs": [],
   "source": [
    "# Salvando novo Dataset\n",
    "df.to_csv('C:/Users/thiagoPanini/Downloads/datasets/titanic-data-6-edited.csv')"
   ]
  },
  {
   "cell_type": "markdown",
   "metadata": {},
   "source": [
    "### Exploração Gráfica"
   ]
  },
  {
   "cell_type": "markdown",
   "metadata": {},
   "source": [
    "Em um processo de análise de dados, é muito comum atribuir conclusões e retiradas de insights através de visualizações e paineis gráficos. Se confecionadas de maneira adequada, tais visões são capazes de mostrar, de forma clara e precisa, a situação real dos dados, seja através de comparações, distribuições, correlações, ou qualquer outro parâmetro."
   ]
  },
  {
   "cell_type": "code",
   "execution_count": 129,
   "metadata": {},
   "outputs": [],
   "source": [
    "# Importando bibliotecas\n",
    "import pandas as pd\n",
    "import matplotlib.pyplot as plt\n",
    "%matplotlib inline\n",
    "import numpy as np\n",
    "import seaborn as sns\n",
    "\n",
    "df = pd.read_csv('C:/Users/thiagoPanini/Downloads/datasets/titanic-data-6-edited.csv', index_col='PassengerId')\n",
    "#df.set_index('PassengerId', inplace=True)\n",
    "sns.set()"
   ]
  },
  {
   "cell_type": "code",
   "execution_count": 131,
   "metadata": {},
   "outputs": [
    {
     "data": {
      "image/png": "[encoded data removed]",
      "text/plain": [
       "<matplotlib.figure.Figure at 0x1d32d328278>"
      ]
     },
     "metadata": {},
     "output_type": "display_data"
    }
   ],
   "source": [
    "# Número de sobreviventes e vítimas\n",
    "tx_surv = df.groupby('Survived').count()['Sex'][1]\n",
    "tx_vict = df.groupby('Survived').count()['Sex'][0]\n",
    "\n",
    "# Taxa de Sobreviventes\n",
    "labels = ['Sobreviventes', 'Vítimas']\n",
    "sizes = [tx_surv, tx_vict]\n",
    "explode = (0.05, 0)\n",
    "colors = ['lightskyblue', 'lightcoral']\n",
    "fig, ax = plt.subplots(figsize=(6.5, 6.5))\n",
    "wedges, texts, autotexts = ax.pie(sizes, labels=labels, \n",
    "                                   startangle=90, shadow=True, explode=explode, \n",
    "                                  autopct='%1.1f%%', colors=colors)\n",
    "ax.set_title('Taxa de Sobrevivência no Naufrágio Titanic', fontsize=17)\n",
    "ax.axis('equal')\n",
    "plt.legend(fontsize=12, loc='lower left')\n",
    "plt.tight_layout()\n",
    "plt.setp(autotexts, size=15)\n",
    "plt.setp(texts, size=15)\n",
    "plt.show()"
   ]
  },
  {
   "cell_type": "markdown",
   "metadata": {},
   "source": [
    "A partir do gráfico acima, é possível identificar que, dos 891 passageiros e tripulantes, 38.4% sobreviveram e 61.6% foram vítimas. Tais números estão relativamente próximos dos índices históricos propostos pelos 2.224 presentes no navio que, por sua vez, apresentam taxas de 32% de sobreviventes e 68% de vítimas. Em outras palavras, pode-se dizer que os registros presentes neste Dataset estão coerentes com a realidade."
   ]
  },
  {
   "cell_type": "markdown",
   "metadata": {},
   "source": [
    "#### Sobreviventes por Gênero"
   ]
  },
  {
   "cell_type": "code",
   "execution_count": 132,
   "metadata": {},
   "outputs": [
    {
     "data": {
      "image/png": "[encoded data removed]",
      "text/plain": [
       "<matplotlib.figure.Figure at 0x1d32ca66a58>"
      ]
     },
     "metadata": {},
     "output_type": "display_data"
    }
   ],
   "source": [
    "# Totalização por gênero\n",
    "total_gender = df.groupby('Sex').count()['Name']\n",
    "\n",
    "# Taxas de sobrevivência por gênero\n",
    "gender_rate = df.groupby(['Sex', 'Survived']).count()['Name']\n",
    "proportions = gender_rate / total_gender\n",
    "prop_f = proportions['female']\n",
    "prop_m = proportions['male']\n",
    "\n",
    "# Proporção de sobreviventes e vítimas\n",
    "survivors = [prop_f[1], prop_m[1]]\n",
    "victims = [prop_f[0], prop_m[0]]\n",
    "\n",
    "# Preparando plotagem e definindo design gráfico\n",
    "ind = np.arange(len(survivors))\n",
    "width = .35\n",
    "sns.set_style('ticks')\n",
    "sns.set_context('talk')\n",
    "\n",
    "# Criando figs e axes\n",
    "fig, ax = plt.subplots(figsize=(7, 6))\n",
    "m_bar = plt.bar(ind, survivors, width, alpha=.7, label='Sobreviventes')\n",
    "f_bar = plt.bar(ind+width, victims, width, color='r', alpha=.7, label='Vítimas')\n",
    "plt.xlabel('Gênero', fontsize=14)\n",
    "plt.ylabel('Proporção (%)', fontsize=14)\n",
    "plt.title('Taxa de Sobrevivência por Gênero', fontsize=17)\n",
    "locations = ind + width / 2\n",
    "labels = ['Mulheres', 'Homens']\n",
    "plt.xticks(locations, labels, fontsize=13)\n",
    "plt.legend(fontsize=12)\n",
    "\n",
    "# Mostrando porcentagem dos dados\n",
    "for p in ax.patches:\n",
    "    width, height = p.get_width(), p.get_height()\n",
    "    x, y = p.get_xy() \n",
    "    ax.annotate('{:.2%}'.format(height), (p.get_x()+.15*width, p.get_y() + height - 0.04), \n",
    "                color='w', weight='bold')\n",
    "plt.show()"
   ]
  },
  {
   "cell_type": "markdown",
   "metadata": {},
   "source": [
    "O gráfico acima indica que, da totalidade de instâncias do gênero feminino, 74,20% mulheres sobreviveram e 25,80% foram vítimas. Analogamente, considerando a quantidade total de homens, apenas 18,89% sobreviveram e 81,11\\% foram vítimas. Apesar de indicar que a probabilidade de uma mulher ter sobrevivido ao naufrágio foi maior, é importante ressaltar que a análise acima foi baseada na quantidade total por gênero, o que pode deturpar o julgamento, visto que a quantidade de mulheres presentes no navio era relativamente menor que a quantidade de homens."
   ]
  },
  {
   "cell_type": "markdown",
   "metadata": {},
   "source": [
    "Também é possível visualizar a proporção de sobreviventes e vítimas, levando em consideração os gêneros."
   ]
  },
  {
   "cell_type": "code",
   "execution_count": 133,
   "metadata": {},
   "outputs": [
    {
     "data": {
      "image/png": "[encoded data removed]",
      "text/plain": [
       "<matplotlib.figure.Figure at 0x1d32ce00240>"
      ]
     },
     "metadata": {},
     "output_type": "display_data"
    }
   ],
   "source": [
    "# Totalização por gênero\n",
    "total_surv = df.groupby('Survived').count()['Name']\n",
    "\n",
    "# Taxas de sobrevivência por gênero\n",
    "gender_rate = df.groupby(['Sex', 'Survived']).count()['Name']\n",
    "proportions = gender_rate / total_surv\n",
    "prop_f = proportions['female']\n",
    "prop_m = proportions['male']\n",
    "\n",
    "# Proporção de sobreviventes e vítimas\n",
    "survivors = [prop_f[1], prop_f[0]]\n",
    "victims = [prop_m[1], prop_m[0]]\n",
    "\n",
    "# Preparando plotagem\n",
    "ind = np.arange(len(survivors))\n",
    "width = .35\n",
    "sns.set_style('ticks')\n",
    "sns.set_context('talk')\n",
    "\n",
    "# Criando figs e axes\n",
    "fig, ax = plt.subplots(figsize=(7, 6))\n",
    "m_bar = plt.bar(ind, victims, width, alpha=.7, label='Homens')\n",
    "f_bar = plt.bar(ind+width, survivors, width, color='r', alpha=.7, label='Mulheres')\n",
    "plt.xlabel('Condição Após Naufrágio', fontsize=14)\n",
    "plt.ylabel('Proporção (%)', fontsize=14)\n",
    "plt.title('Condição de Gêneros Após Naufrágio', fontsize=17)\n",
    "locations = ind + width / 2\n",
    "labels = ['Sobreviventes', 'Vítimas']\n",
    "plt.xticks(locations, labels, fontsize=13)\n",
    "plt.legend(fontsize=12)\n",
    "\n",
    "# Mostrando legenda dos dados\n",
    "for p in ax.patches:\n",
    "    width, height = p.get_width(), p.get_height()\n",
    "    x, y = p.get_xy() \n",
    "    ax.annotate('{:.2%}'.format(height), (p.get_x()+.15*width, p.get_y() + height - 0.04), \n",
    "                color='w', weight='bold')\n",
    "plt.show()"
   ]
  },
  {
   "cell_type": "markdown",
   "metadata": {},
   "source": [
    "Assim, é possível dizer que, da quantidade total de sobreviventes, 68,13% eram mulheres e 31,87% eram homens. De modo equivalente, da totalidade de vítimas, 85,25% eram do gênero masculino e apenas 14,75% do gênero feminino. A probabilidade de uma mulher ter sobrevivido ao naufrágio é bem maior que a de um homem. Alguns argumentos que possivelmente explicariam este resultado:\n",
    "\n",
    "* Aplicação da regra \"Mulheres e crianças primeiro\";\n",
    "* Maior quantidade de homens presentes;\n",
    "* Peso máximo em botes salva-vidas;"
   ]
  },
  {
   "cell_type": "code",
   "execution_count": 134,
   "metadata": {},
   "outputs": [
    {
     "data": {
      "image/png": "[encoded data removed]",
      "text/plain": [
       "<matplotlib.figure.Figure at 0x1d32d453908>"
      ]
     },
     "metadata": {},
     "output_type": "display_data"
    }
   ],
   "source": [
    "# Plotagem final da taxa de sobreviventes contendo informações de gênero\n",
    "\n",
    "import matplotlib.patches as mpatches\n",
    "\n",
    "# Número de sobreviventes e vítimas\n",
    "total_surv = df.groupby('Survived').count()['Name']\n",
    "surv_gender = df.groupby(['Sex', 'Survived']).count()['Name']\n",
    "prop_surv_f = surv_gender['female'] \n",
    "prop_surv_m = surv_gender['male'] \n",
    "\n",
    "# Preparando dados para plotagem\n",
    "labels = ['Sobreviventes', 'Vítimas']\n",
    "sizes = [total_surv[1], total_surv[0]]\n",
    "labels_gender = ['Masculino', 'Feminino'] * 2\n",
    "sizes_gender = [prop_surv_m[1], prop_surv_f[1], prop_surv_m[0], prop_surv_f[0]]\n",
    "colors = ['lightskyblue', 'lightcoral']\n",
    "colors_gender = ['blue', 'red']\n",
    "explode = (0.05, 0)\n",
    "explode_gender = (0.05, 0, 0.05, 0)\n",
    "\n",
    "# Criando figz e axes\n",
    "fig, ax = plt.subplots(figsize=(7, 7))\n",
    "wedges, texts, autotexts = plt.pie(sizes, labels=labels, colors=colors, startangle=90,\n",
    "                                   frame=True, autopct='%1.1f%%', pctdistance=1.20)\n",
    "wedges_g, texts_g, autotexts_g = plt.pie(sizes_gender, colors=colors_gender, radius=0.75, \n",
    "                  autopct='%1.1f%%', pctdistance=0.57, startangle=90)\n",
    "center_circle = plt.Circle((0,0), 0.55, fc='white', linewidth=0)\n",
    "fig = plt.gcf()\n",
    "fig.gca().add_artist(center_circle)\n",
    "ax.set_title('Taxa de Sobrevivência - Visão por Gênero', fontsize=20)\n",
    "ax.axis('equal')\n",
    "plt.legend(fontsize=12, loc='upper left')\n",
    "\n",
    "# Criando legenda manualmente\n",
    "legend_f = mpatches.Patch(color='red', label='Mulheres')\n",
    "legend_m = mpatches.Patch(color='blue', label='Homens')\n",
    "legend_s = mpatches.Patch(color='lightskyblue', label='Sobreviventes')\n",
    "legend_v = mpatches.Patch(color='lightcoral', label='Vítimas')\n",
    "plt.legend(bbox_to_anchor=(0., 0.87, 1., .102), loc=3, \n",
    "           ncol=2, mode=\"expand\", borderaxespad=0., handles=[legend_s, legend_v, legend_m, legend_f])\n",
    "plt.tight_layout()\n",
    "plt.setp(autotexts, size=15)\n",
    "plt.setp(texts, size=0)\n",
    "plt.show()"
   ]
  },
  {
   "cell_type": "markdown",
   "metadata": {},
   "source": [
    "Desse modo, é possível perceber que a fatia interna vermelha, referente ao gênero feminino representa a maior parcela da fatia externa de sobreviventes. Em outras palavras, é válido dizer que 26,2% de todos os passageiros e tripulantes podem ser classificados como sobreviventes do gênero feminino. Analogamente, é possível concluir, através da análise da fatia referente às vitimas, que 52,5% do total de passageiros encontram-se no grupo de vítimas do gênero masculino."
   ]
  },
  {
   "cell_type": "markdown",
   "metadata": {},
   "source": [
    "#### Sobreviventes por Classe Econômica"
   ]
  },
  {
   "cell_type": "markdown",
   "metadata": {},
   "source": [
    "É possível que a Classe Econômica de passageiros e tripulantes tivesse efeito direto na taxa de sobrevivência. Averiguando..."
   ]
  },
  {
   "cell_type": "code",
   "execution_count": 135,
   "metadata": {},
   "outputs": [
    {
     "data": {
      "image/png": "[encoded data removed]",
      "text/plain": [
       "<matplotlib.figure.Figure at 0x1d32ce3fb38>"
      ]
     },
     "metadata": {},
     "output_type": "display_data"
    }
   ],
   "source": [
    "# Investigando Taxa de Sobrevivência por Classe Econômica\n",
    "\n",
    "# Preparando dados\n",
    "surv_counts = df.groupby(['Survived', 'Pclass']).count()['Name']\n",
    "class_total = df.groupby('Pclass').count()['Name']\n",
    "s_prop = surv_counts[1] / class_total\n",
    "v_prop = surv_counts[0] / class_total\n",
    "\n",
    "ind = np.arange(len(s_prop))\n",
    "width = .35\n",
    "sns.set_style('ticks')\n",
    "sns.set_context('talk')\n",
    "\n",
    "# Criando figs e axes\n",
    "fig, ax = plt.subplots(figsize=(8, 5))\n",
    "s_bar = plt.bar(ind, s_prop, width, alpha=.7, label='Sobreviventes')\n",
    "v_bar = plt.bar(ind+width, v_prop, width, color='r', alpha=.7, label='Vítimas')\n",
    "plt.ylabel('Proporção (%)', fontsize=13)\n",
    "plt.xlabel('Classe Econômica', fontsize=13)\n",
    "plt.title('Sobreviventes por Classe Econômica', fontsize=17)\n",
    "locations = ind + width / 2\n",
    "labels = ['Classe Alta', 'Classe Média', 'Classe Baixa']\n",
    "plt.xticks(locations, labels, fontsize=12)\n",
    "plt.legend()\n",
    "\n",
    "# Mostrando porcentagem de dados nas barras\n",
    "for p in ax.patches:\n",
    "    width, height = p.get_width(), p.get_height()\n",
    "    x, y = p.get_xy() \n",
    "    ax.annotate('{:.0%}'.format(height), (p.get_x()+.20*width, p.get_y() + height - 0.06), \n",
    "                color='w', weight='bold')\n",
    "plt.show()"
   ]
  },
  {
   "cell_type": "markdown",
   "metadata": {},
   "source": [
    "Interpretando as informações obtidas acima, chega-se a conclusão de que passageiros de classe econômica alta possuíam maiores chances de sobrevivência, seguidos da classe média e baixa que, por sua vez, apresentou os maiores índices de vítimas do naufrágio, totalizando 76%. "
   ]
  },
  {
   "cell_type": "code",
   "execution_count": 136,
   "metadata": {},
   "outputs": [
    {
     "data": {
      "image/png": "[encoded data removed]",
      "text/plain": [
       "<matplotlib.figure.Figure at 0x1d32d359f98>"
      ]
     },
     "metadata": {},
     "output_type": "display_data"
    }
   ],
   "source": [
    "# Distribuição das Classes Econômicas no grupo de Sobreviventes\n",
    "\n",
    "surv_class = df.groupby(['Survived', 'Pclass']).count()['Name'][1]\n",
    "surv_class\n",
    "\n",
    "labels = ['Classe Alta', 'Classe Média', 'Classe Baixa']\n",
    "colors = ['#CFB53B', '#d9d9d9', '#8C7853']\n",
    "explode = (0.02, 0.02, 0.02)\n",
    "fig, ax = plt.subplots(figsize=(7, 7))\n",
    "wedges, texts, autotexts = ax.pie(surv_class, labels=labels, \n",
    "                                   startangle=90, shadow=True, explode=explode,\n",
    "                                  autopct='%1.1f%%', colors=colors)\n",
    "ax.set_title('Porcentagem de Grupos Econômicos Sobreviventes', fontsize=19)\n",
    "ax.axis('equal')\n",
    "plt.legend(fontsize=12, loc='upper left')\n",
    "plt.tight_layout()\n",
    "plt.setp(autotexts, size=20, weight='bold', color='w')\n",
    "plt.setp(texts, size=17)\n",
    "plt.show()"
   ]
  },
  {
   "cell_type": "markdown",
   "metadata": {},
   "source": [
    "Assim como avaliado na análise de sobreviventes por gênero, a quantidade total em cada uma das classes pode interferir no julgamento sobre suas respectivas probabilidades de sobrevivência. Para tal, o gráfico abaixo foca apenas a visão de sobreviventes separados por classe econômica."
   ]
  },
  {
   "cell_type": "code",
   "execution_count": 137,
   "metadata": {},
   "outputs": [
    {
     "data": {
      "image/png": "[encoded data removed]",
      "text/plain": [
       "<matplotlib.figure.Figure at 0x1d32e6ab358>"
      ]
     },
     "metadata": {},
     "output_type": "display_data"
    }
   ],
   "source": [
    "# Plotagem final da taxa de sobreviventes contendo informações de gênero\n",
    "\n",
    "import matplotlib.patches as mpatches\n",
    "\n",
    "# Número de sobreviventes e vítimas\n",
    "total_surv = df.groupby('Survived').count()['Name']\n",
    "surv_gender = df.groupby(['Sex', 'Survived']).count()['Name']\n",
    "prop_surv_f = surv_gender['female'] \n",
    "import matplotlib.patches as mpatches\n",
    "\n",
    "# Número de sobreviventes e vítimas\n",
    "total_surv = df.groupby('Survived').count()['Name']\n",
    "\n",
    "# Sobreviventes por gênero\n",
    "surv_gender = df.groupby(['Sex', 'Survived']).count()['Name']\n",
    "prop_surv_f = surv_gender['female'] \n",
    "prop_surv_m = surv_gender['male'] \n",
    "\n",
    "# Sobreviventes por classe social\n",
    "surv_class = df.groupby(['Pclass', 'Survived']).count()['Name']\n",
    "prop_surv_1 = surv_class[1]\n",
    "prop_surv_2 = surv_class[2]\n",
    "prop_surv_3 = surv_class[3]\n",
    "\n",
    "# Fatia de sobreviventes\n",
    "labels = ['Sobreviventes', 'Vítimas']\n",
    "sizes = [total_surv[1], total_surv[0]]\n",
    "\n",
    "# Fatia de gêneros\n",
    "labels_gender = ['Masculino', 'Feminino'] * 2\n",
    "sizes_gender = [prop_surv_m[1], prop_surv_f[1], \n",
    "                prop_surv_m[0], prop_surv_f[0]]\n",
    "\n",
    "# Fatia de classe econômica\n",
    "labels_class = ['Alta', 'Média', 'Baixa'] * 2\n",
    "sizes_class = [prop_surv_1[1], prop_surv_2[1], prop_surv_3[1], \n",
    "               prop_surv_1[0], prop_surv_2[0], prop_surv_3[0]]\n",
    "\n",
    "# Definindo cores\n",
    "colors = ['lightskyblue', 'lightcoral']\n",
    "colors_gender = ['blue', 'red']\n",
    "colors_class = ['#CFB53B', '#E6E8FA', '#8C7853']\n",
    "\n",
    "# Criando plots\n",
    "fig, ax = plt.subplots(figsize=(7, 7))\n",
    "\n",
    "wedges, texts, autotexts = plt.pie(sizes, labels=labels, colors=colors, startangle=90, radius=1.00,\n",
    "                                   frame=True, autopct='%1.1f%%', pctdistance=1.20)\n",
    "wedges_g, texts_g, autotexts_g = plt.pie(sizes_gender, colors=colors_gender, radius=0.75, \n",
    "                  autopct='%1.1f%%', pctdistance=0.57, startangle=90)\n",
    "wedges_c, texts_c, autotexts_c = plt.pie(sizes_class, colors=colors_class, radius=0.62, \n",
    "                  autopct='%1.1f%%', pctdistance=0.64, startangle=90)\n",
    "\n",
    "# Configurando especialidades do gráfico\n",
    "center_circle = plt.Circle((0,0), 0.50, fc='white', linewidth=0)\n",
    "fig = plt.gcf()\n",
    "fig.gca().add_artist(center_circle)\n",
    "ax.set_title('Taxa de Sobrevivência por Gênero e Classe', fontsize=20)\n",
    "ttl = ax.title\n",
    "ttl.set_position([.5, 1.05])\n",
    "ax.axis('equal')\n",
    "plt.legend(fontsize=12, loc='upper left')\n",
    "legend_f = mpatches.Patch(color='red', label='Mulheres')\n",
    "legend_m = mpatches.Patch(color='blue', label='Homens')\n",
    "legend_s = mpatches.Patch(color='lightskyblue', label='Sobreviventes')\n",
    "legend_v = mpatches.Patch(color='lightcoral', label='Vítimas')\n",
    "legend_c1 = mpatches.Patch(color='#CFB53B', label='Classe Alta')\n",
    "legend_c2 = mpatches.Patch(color='#E6E8FA', label='Classe Média')\n",
    "legend_c3 = mpatches.Patch(color='#8C7853', label='Classe Baixa')\n",
    "\n",
    "plt.legend(bbox_to_anchor=(0., 0.85, 1., .102), loc=3, \n",
    "           ncol=2, mode=\"expand\", borderaxespad=0., \n",
    "           handles=[legend_s, legend_v, legend_m, legend_f, legend_c1, legend_c2, legend_c3])\n",
    "\n",
    "plt.tight_layout()\n",
    "plt.setp(autotexts_g, size=0)\n",
    "plt.setp(autotexts_c, size=15)\n",
    "plt.setp(texts, size=0)\n",
    "plt.show()"
   ]
  },
  {
   "cell_type": "markdown",
   "metadata": {},
   "source": [
    "Interpretando as informações obtidas, chega-se a conclusão de que passageiros de classe econômica alta possuíram maiores chances de sobrevivência, seguidos da classe média e baixa que, por sua vez, apresentou os maiores índices de instâncias vítimas do naufrágio (76\\%). \n",
    "\n",
    "Alguns possíveis fatores que explicariam tal resultado:\n",
    "\n",
    "* Passageiros de Classe Alta possivelmente tiveram prioridade para evacuação nos botes salva-vidas;\n",
    "* Passageiros de Classe Alta possivelmente tiveram acesso facilitado durante a evacuação;\n",
    "* Mesmo após a evacuação, passageiros de Classe Alta possivelmente tiveram melhores condições de proteção ao frio em alto mar;\n",
    "* Por possivelmente possuírem melhores condições financeiras, os passageiros de Classe Alta poderiam ter habilidades de nado que se fizeram úteis após o naufrágio;"
   ]
  },
  {
   "cell_type": "markdown",
   "metadata": {},
   "source": [
    "#### Sobreviventes por Faixa Etária"
   ]
  },
  {
   "cell_type": "code",
   "execution_count": 138,
   "metadata": {},
   "outputs": [
    {
     "data": {
      "text/plain": [
       "count    891.000000\n",
       "mean      29.699118\n",
       "std       13.002015\n",
       "min        0.420000\n",
       "25%       22.000000\n",
       "50%       29.699118\n",
       "75%       35.000000\n",
       "max       80.000000\n",
       "Name: Age, dtype: float64"
      ]
     },
     "execution_count": 138,
     "metadata": {},
     "output_type": "execute_result"
    }
   ],
   "source": [
    "# Analisando propriedades estatísticas do atributo Age\n",
    "df['Age'].describe()"
   ]
  },
  {
   "cell_type": "markdown",
   "metadata": {},
   "source": [
    "Para avaliar a influência da idade na taxa de sobrevivência, é necessário realizar um agrupamento nos dados numéricos de acordo com as faixas abaixo:\n",
    "\n",
    "* Crianças - Passageiros com idade menor que 21 anos;\n",
    "* Adultos - Passageiros com idade entre 21 e 50 anos;\n",
    "* Idosos - Passageiros com 50 anos de idade ou mais."
   ]
  },
  {
   "cell_type": "code",
   "execution_count": 139,
   "metadata": {},
   "outputs": [
    {
     "data": {
      "text/plain": [
       "[0.42, 21, 55, 80.0]"
      ]
     },
     "execution_count": 139,
     "metadata": {},
     "output_type": "execute_result"
    }
   ],
   "source": [
    "# Agrupando - Definindo ranges\n",
    "bin_edges = [df['Age'].describe()['min'], 21, \n",
    "             55, df['Age'].describe()['max']]\n",
    "\n",
    "bin_edges"
   ]
  },
  {
   "cell_type": "code",
   "execution_count": 140,
   "metadata": {},
   "outputs": [
    {
     "data": {
      "text/plain": [
       "['Criança', 'Adulto', 'Idoso']"
      ]
     },
     "execution_count": 140,
     "metadata": {},
     "output_type": "execute_result"
    }
   ],
   "source": [
    "# Definindo Labels\n",
    "bin_names = ['Criança', 'Adulto', 'Idoso']\n",
    "bin_names"
   ]
  },
  {
   "cell_type": "code",
   "execution_count": 141,
   "metadata": {},
   "outputs": [
    {
     "data": {
      "text/plain": [
       "PassengerId\n",
       "1      Adulto\n",
       "2      Adulto\n",
       "3      Adulto\n",
       "4      Adulto\n",
       "5      Adulto\n",
       "6      Adulto\n",
       "7      Adulto\n",
       "8     Criança\n",
       "9      Adulto\n",
       "10    Criança\n",
       "11    Criança\n",
       "12      Idoso\n",
       "13    Criança\n",
       "14     Adulto\n",
       "15    Criança\n",
       "Name: Age, dtype: category\n",
       "Categories (3, object): [Criança < Adulto < Idoso]"
      ]
     },
     "execution_count": 141,
     "metadata": {},
     "output_type": "execute_result"
    }
   ],
   "source": [
    "# Aplicando .cut()\n",
    "pd.cut(df['Age'], bin_edges, labels=bin_names)[:15]"
   ]
  },
  {
   "cell_type": "code",
   "execution_count": 142,
   "metadata": {},
   "outputs": [
    {
     "data": {
      "text/html": [
       "<div>\n",
       "<style scoped>\n",
       "    .dataframe tbody tr th:only-of-type {\n",
       "        vertical-align: middle;\n",
       "    }\n",
       "\n",
       "    .dataframe tbody tr th {\n",
       "        vertical-align: top;\n",
       "    }\n",
       "\n",
       "    .dataframe thead th {\n",
       "        text-align: right;\n",
       "    }\n",
       "</style>\n",
       "<table border=\"1\" class=\"dataframe\">\n",
       "  <thead>\n",
       "    <tr style=\"text-align: right;\">\n",
       "      <th></th>\n",
       "      <th>Survived</th>\n",
       "      <th>Pclass</th>\n",
       "      <th>Name</th>\n",
       "      <th>Sex</th>\n",
       "      <th>Age</th>\n",
       "      <th>SibSp</th>\n",
       "      <th>Parch</th>\n",
       "      <th>Ticket</th>\n",
       "      <th>Fare</th>\n",
       "      <th>Embarked</th>\n",
       "    </tr>\n",
       "    <tr>\n",
       "      <th>PassengerId</th>\n",
       "      <th></th>\n",
       "      <th></th>\n",
       "      <th></th>\n",
       "      <th></th>\n",
       "      <th></th>\n",
       "      <th></th>\n",
       "      <th></th>\n",
       "      <th></th>\n",
       "      <th></th>\n",
       "      <th></th>\n",
       "    </tr>\n",
       "  </thead>\n",
       "  <tbody>\n",
       "    <tr>\n",
       "      <th>1</th>\n",
       "      <td>0</td>\n",
       "      <td>3</td>\n",
       "      <td>Braund, Mr. Owen Harris</td>\n",
       "      <td>male</td>\n",
       "      <td>22.000000</td>\n",
       "      <td>1</td>\n",
       "      <td>0</td>\n",
       "      <td>A/5 21171</td>\n",
       "      <td>7.2500</td>\n",
       "      <td>S</td>\n",
       "    </tr>\n",
       "    <tr>\n",
       "      <th>2</th>\n",
       "      <td>1</td>\n",
       "      <td>1</td>\n",
       "      <td>Cumings, Mrs. John Bradley (Florence Briggs Th...</td>\n",
       "      <td>female</td>\n",
       "      <td>38.000000</td>\n",
       "      <td>1</td>\n",
       "      <td>0</td>\n",
       "      <td>PC 17599</td>\n",
       "      <td>71.2833</td>\n",
       "      <td>C</td>\n",
       "    </tr>\n",
       "    <tr>\n",
       "      <th>3</th>\n",
       "      <td>1</td>\n",
       "      <td>3</td>\n",
       "      <td>Heikkinen, Miss. Laina</td>\n",
       "      <td>female</td>\n",
       "      <td>26.000000</td>\n",
       "      <td>0</td>\n",
       "      <td>0</td>\n",
       "      <td>STON/O2. 3101282</td>\n",
       "      <td>7.9250</td>\n",
       "      <td>S</td>\n",
       "    </tr>\n",
       "    <tr>\n",
       "      <th>4</th>\n",
       "      <td>1</td>\n",
       "      <td>1</td>\n",
       "      <td>Futrelle, Mrs. Jacques Heath (Lily May Peel)</td>\n",
       "      <td>female</td>\n",
       "      <td>35.000000</td>\n",
       "      <td>1</td>\n",
       "      <td>0</td>\n",
       "      <td>113803</td>\n",
       "      <td>53.1000</td>\n",
       "      <td>S</td>\n",
       "    </tr>\n",
       "    <tr>\n",
       "      <th>5</th>\n",
       "      <td>0</td>\n",
       "      <td>3</td>\n",
       "      <td>Allen, Mr. William Henry</td>\n",
       "      <td>male</td>\n",
       "      <td>35.000000</td>\n",
       "      <td>0</td>\n",
       "      <td>0</td>\n",
       "      <td>373450</td>\n",
       "      <td>8.0500</td>\n",
       "      <td>S</td>\n",
       "    </tr>\n",
       "    <tr>\n",
       "      <th>6</th>\n",
       "      <td>0</td>\n",
       "      <td>3</td>\n",
       "      <td>Moran, Mr. James</td>\n",
       "      <td>male</td>\n",
       "      <td>29.699118</td>\n",
       "      <td>0</td>\n",
       "      <td>0</td>\n",
       "      <td>330877</td>\n",
       "      <td>8.4583</td>\n",
       "      <td>Q</td>\n",
       "    </tr>\n",
       "    <tr>\n",
       "      <th>7</th>\n",
       "      <td>0</td>\n",
       "      <td>1</td>\n",
       "      <td>McCarthy, Mr. Timothy J</td>\n",
       "      <td>male</td>\n",
       "      <td>54.000000</td>\n",
       "      <td>0</td>\n",
       "      <td>0</td>\n",
       "      <td>17463</td>\n",
       "      <td>51.8625</td>\n",
       "      <td>S</td>\n",
       "    </tr>\n",
       "    <tr>\n",
       "      <th>8</th>\n",
       "      <td>0</td>\n",
       "      <td>3</td>\n",
       "      <td>Palsson, Master. Gosta Leonard</td>\n",
       "      <td>male</td>\n",
       "      <td>2.000000</td>\n",
       "      <td>3</td>\n",
       "      <td>1</td>\n",
       "      <td>349909</td>\n",
       "      <td>21.0750</td>\n",
       "      <td>S</td>\n",
       "    </tr>\n",
       "    <tr>\n",
       "      <th>9</th>\n",
       "      <td>1</td>\n",
       "      <td>3</td>\n",
       "      <td>Johnson, Mrs. Oscar W (Elisabeth Vilhelmina Berg)</td>\n",
       "      <td>female</td>\n",
       "      <td>27.000000</td>\n",
       "      <td>0</td>\n",
       "      <td>2</td>\n",
       "      <td>347742</td>\n",
       "      <td>11.1333</td>\n",
       "      <td>S</td>\n",
       "    </tr>\n",
       "    <tr>\n",
       "      <th>10</th>\n",
       "      <td>1</td>\n",
       "      <td>2</td>\n",
       "      <td>Nasser, Mrs. Nicholas (Adele Achem)</td>\n",
       "      <td>female</td>\n",
       "      <td>14.000000</td>\n",
       "      <td>1</td>\n",
       "      <td>0</td>\n",
       "      <td>237736</td>\n",
       "      <td>30.0708</td>\n",
       "      <td>C</td>\n",
       "    </tr>\n",
       "    <tr>\n",
       "      <th>11</th>\n",
       "      <td>1</td>\n",
       "      <td>3</td>\n",
       "      <td>Sandstrom, Miss. Marguerite Rut</td>\n",
       "      <td>female</td>\n",
       "      <td>4.000000</td>\n",
       "      <td>1</td>\n",
       "      <td>1</td>\n",
       "      <td>PP 9549</td>\n",
       "      <td>16.7000</td>\n",
       "      <td>S</td>\n",
       "    </tr>\n",
       "    <tr>\n",
       "      <th>12</th>\n",
       "      <td>1</td>\n",
       "      <td>1</td>\n",
       "      <td>Bonnell, Miss. Elizabeth</td>\n",
       "      <td>female</td>\n",
       "      <td>58.000000</td>\n",
       "      <td>0</td>\n",
       "      <td>0</td>\n",
       "      <td>113783</td>\n",
       "      <td>26.5500</td>\n",
       "      <td>S</td>\n",
       "    </tr>\n",
       "    <tr>\n",
       "      <th>13</th>\n",
       "      <td>0</td>\n",
       "      <td>3</td>\n",
       "      <td>Saundercock, Mr. William Henry</td>\n",
       "      <td>male</td>\n",
       "      <td>20.000000</td>\n",
       "      <td>0</td>\n",
       "      <td>0</td>\n",
       "      <td>A/5. 2151</td>\n",
       "      <td>8.0500</td>\n",
       "      <td>S</td>\n",
       "    </tr>\n",
       "    <tr>\n",
       "      <th>14</th>\n",
       "      <td>0</td>\n",
       "      <td>3</td>\n",
       "      <td>Andersson, Mr. Anders Johan</td>\n",
       "      <td>male</td>\n",
       "      <td>39.000000</td>\n",
       "      <td>1</td>\n",
       "      <td>5</td>\n",
       "      <td>347082</td>\n",
       "      <td>31.2750</td>\n",
       "      <td>S</td>\n",
       "    </tr>\n",
       "    <tr>\n",
       "      <th>15</th>\n",
       "      <td>0</td>\n",
       "      <td>3</td>\n",
       "      <td>Vestrom, Miss. Hulda Amanda Adolfina</td>\n",
       "      <td>female</td>\n",
       "      <td>14.000000</td>\n",
       "      <td>0</td>\n",
       "      <td>0</td>\n",
       "      <td>350406</td>\n",
       "      <td>7.8542</td>\n",
       "      <td>S</td>\n",
       "    </tr>\n",
       "  </tbody>\n",
       "</table>\n",
       "</div>"
      ],
      "text/plain": [
       "             Survived  Pclass  \\\n",
       "PassengerId                     \n",
       "1                   0       3   \n",
       "2                   1       1   \n",
       "3                   1       3   \n",
       "4                   1       1   \n",
       "5                   0       3   \n",
       "6                   0       3   \n",
       "7                   0       1   \n",
       "8                   0       3   \n",
       "9                   1       3   \n",
       "10                  1       2   \n",
       "11                  1       3   \n",
       "12                  1       1   \n",
       "13                  0       3   \n",
       "14                  0       3   \n",
       "15                  0       3   \n",
       "\n",
       "                                                          Name     Sex  \\\n",
       "PassengerId                                                              \n",
       "1                                      Braund, Mr. Owen Harris    male   \n",
       "2            Cumings, Mrs. John Bradley (Florence Briggs Th...  female   \n",
       "3                                       Heikkinen, Miss. Laina  female   \n",
       "4                 Futrelle, Mrs. Jacques Heath (Lily May Peel)  female   \n",
       "5                                     Allen, Mr. William Henry    male   \n",
       "6                                             Moran, Mr. James    male   \n",
       "7                                      McCarthy, Mr. Timothy J    male   \n",
       "8                               Palsson, Master. Gosta Leonard    male   \n",
       "9            Johnson, Mrs. Oscar W (Elisabeth Vilhelmina Berg)  female   \n",
       "10                         Nasser, Mrs. Nicholas (Adele Achem)  female   \n",
       "11                             Sandstrom, Miss. Marguerite Rut  female   \n",
       "12                                    Bonnell, Miss. Elizabeth  female   \n",
       "13                              Saundercock, Mr. William Henry    male   \n",
       "14                                 Andersson, Mr. Anders Johan    male   \n",
       "15                        Vestrom, Miss. Hulda Amanda Adolfina  female   \n",
       "\n",
       "                   Age  SibSp  Parch            Ticket     Fare Embarked  \n",
       "PassengerId                                                               \n",
       "1            22.000000      1      0         A/5 21171   7.2500        S  \n",
       "2            38.000000      1      0          PC 17599  71.2833        C  \n",
       "3            26.000000      0      0  STON/O2. 3101282   7.9250        S  \n",
       "4            35.000000      1      0            113803  53.1000        S  \n",
       "5            35.000000      0      0            373450   8.0500        S  \n",
       "6            29.699118      0      0            330877   8.4583        Q  \n",
       "7            54.000000      0      0             17463  51.8625        S  \n",
       "8             2.000000      3      1            349909  21.0750        S  \n",
       "9            27.000000      0      2            347742  11.1333        S  \n",
       "10           14.000000      1      0            237736  30.0708        C  \n",
       "11            4.000000      1      1           PP 9549  16.7000        S  \n",
       "12           58.000000      0      0            113783  26.5500        S  \n",
       "13           20.000000      0      0         A/5. 2151   8.0500        S  \n",
       "14           39.000000      1      5            347082  31.2750        S  \n",
       "15           14.000000      0      0            350406   7.8542        S  "
      ]
     },
     "execution_count": 142,
     "metadata": {},
     "output_type": "execute_result"
    }
   ],
   "source": [
    "# Verificando alterações\n",
    "df.head(15)"
   ]
  },
  {
   "cell_type": "code",
   "execution_count": 143,
   "metadata": {},
   "outputs": [],
   "source": [
    "# Aparentemente os resultados batem, porém as alterações não foram incluídas no Dataset.\n",
    "\n",
    "# Criando nova coluna\n",
    "df['AgeRange'] = pd.cut(df['Age'], bin_edges, labels=bin_names)"
   ]
  },
  {
   "cell_type": "code",
   "execution_count": 144,
   "metadata": {},
   "outputs": [
    {
     "data": {
      "text/html": [
       "<div>\n",
       "<style scoped>\n",
       "    .dataframe tbody tr th:only-of-type {\n",
       "        vertical-align: middle;\n",
       "    }\n",
       "\n",
       "    .dataframe tbody tr th {\n",
       "        vertical-align: top;\n",
       "    }\n",
       "\n",
       "    .dataframe thead th {\n",
       "        text-align: right;\n",
       "    }\n",
       "</style>\n",
       "<table border=\"1\" class=\"dataframe\">\n",
       "  <thead>\n",
       "    <tr style=\"text-align: right;\">\n",
       "      <th></th>\n",
       "      <th>Survived</th>\n",
       "      <th>Pclass</th>\n",
       "      <th>Name</th>\n",
       "      <th>Sex</th>\n",
       "      <th>Age</th>\n",
       "      <th>SibSp</th>\n",
       "      <th>Parch</th>\n",
       "      <th>Ticket</th>\n",
       "      <th>Fare</th>\n",
       "      <th>Embarked</th>\n",
       "      <th>AgeRange</th>\n",
       "    </tr>\n",
       "    <tr>\n",
       "      <th>PassengerId</th>\n",
       "      <th></th>\n",
       "      <th></th>\n",
       "      <th></th>\n",
       "      <th></th>\n",
       "      <th></th>\n",
       "      <th></th>\n",
       "      <th></th>\n",
       "      <th></th>\n",
       "      <th></th>\n",
       "      <th></th>\n",
       "      <th></th>\n",
       "    </tr>\n",
       "  </thead>\n",
       "  <tbody>\n",
       "    <tr>\n",
       "      <th>1</th>\n",
       "      <td>0</td>\n",
       "      <td>3</td>\n",
       "      <td>Braund, Mr. Owen Harris</td>\n",
       "      <td>male</td>\n",
       "      <td>22.000000</td>\n",
       "      <td>1</td>\n",
       "      <td>0</td>\n",
       "      <td>A/5 21171</td>\n",
       "      <td>7.2500</td>\n",
       "      <td>S</td>\n",
       "      <td>Adulto</td>\n",
       "    </tr>\n",
       "    <tr>\n",
       "      <th>2</th>\n",
       "      <td>1</td>\n",
       "      <td>1</td>\n",
       "      <td>Cumings, Mrs. John Bradley (Florence Briggs Th...</td>\n",
       "      <td>female</td>\n",
       "      <td>38.000000</td>\n",
       "      <td>1</td>\n",
       "      <td>0</td>\n",
       "      <td>PC 17599</td>\n",
       "      <td>71.2833</td>\n",
       "      <td>C</td>\n",
       "      <td>Adulto</td>\n",
       "    </tr>\n",
       "    <tr>\n",
       "      <th>3</th>\n",
       "      <td>1</td>\n",
       "      <td>3</td>\n",
       "      <td>Heikkinen, Miss. Laina</td>\n",
       "      <td>female</td>\n",
       "      <td>26.000000</td>\n",
       "      <td>0</td>\n",
       "      <td>0</td>\n",
       "      <td>STON/O2. 3101282</td>\n",
       "      <td>7.9250</td>\n",
       "      <td>S</td>\n",
       "      <td>Adulto</td>\n",
       "    </tr>\n",
       "    <tr>\n",
       "      <th>4</th>\n",
       "      <td>1</td>\n",
       "      <td>1</td>\n",
       "      <td>Futrelle, Mrs. Jacques Heath (Lily May Peel)</td>\n",
       "      <td>female</td>\n",
       "      <td>35.000000</td>\n",
       "      <td>1</td>\n",
       "      <td>0</td>\n",
       "      <td>113803</td>\n",
       "      <td>53.1000</td>\n",
       "      <td>S</td>\n",
       "      <td>Adulto</td>\n",
       "    </tr>\n",
       "    <tr>\n",
       "      <th>5</th>\n",
       "      <td>0</td>\n",
       "      <td>3</td>\n",
       "      <td>Allen, Mr. William Henry</td>\n",
       "      <td>male</td>\n",
       "      <td>35.000000</td>\n",
       "      <td>0</td>\n",
       "      <td>0</td>\n",
       "      <td>373450</td>\n",
       "      <td>8.0500</td>\n",
       "      <td>S</td>\n",
       "      <td>Adulto</td>\n",
       "    </tr>\n",
       "    <tr>\n",
       "      <th>6</th>\n",
       "      <td>0</td>\n",
       "      <td>3</td>\n",
       "      <td>Moran, Mr. James</td>\n",
       "      <td>male</td>\n",
       "      <td>29.699118</td>\n",
       "      <td>0</td>\n",
       "      <td>0</td>\n",
       "      <td>330877</td>\n",
       "      <td>8.4583</td>\n",
       "      <td>Q</td>\n",
       "      <td>Adulto</td>\n",
       "    </tr>\n",
       "    <tr>\n",
       "      <th>7</th>\n",
       "      <td>0</td>\n",
       "      <td>1</td>\n",
       "      <td>McCarthy, Mr. Timothy J</td>\n",
       "      <td>male</td>\n",
       "      <td>54.000000</td>\n",
       "      <td>0</td>\n",
       "      <td>0</td>\n",
       "      <td>17463</td>\n",
       "      <td>51.8625</td>\n",
       "      <td>S</td>\n",
       "      <td>Adulto</td>\n",
       "    </tr>\n",
       "    <tr>\n",
       "      <th>8</th>\n",
       "      <td>0</td>\n",
       "      <td>3</td>\n",
       "      <td>Palsson, Master. Gosta Leonard</td>\n",
       "      <td>male</td>\n",
       "      <td>2.000000</td>\n",
       "      <td>3</td>\n",
       "      <td>1</td>\n",
       "      <td>349909</td>\n",
       "      <td>21.0750</td>\n",
       "      <td>S</td>\n",
       "      <td>Criança</td>\n",
       "    </tr>\n",
       "    <tr>\n",
       "      <th>9</th>\n",
       "      <td>1</td>\n",
       "      <td>3</td>\n",
       "      <td>Johnson, Mrs. Oscar W (Elisabeth Vilhelmina Berg)</td>\n",
       "      <td>female</td>\n",
       "      <td>27.000000</td>\n",
       "      <td>0</td>\n",
       "      <td>2</td>\n",
       "      <td>347742</td>\n",
       "      <td>11.1333</td>\n",
       "      <td>S</td>\n",
       "      <td>Adulto</td>\n",
       "    </tr>\n",
       "    <tr>\n",
       "      <th>10</th>\n",
       "      <td>1</td>\n",
       "      <td>2</td>\n",
       "      <td>Nasser, Mrs. Nicholas (Adele Achem)</td>\n",
       "      <td>female</td>\n",
       "      <td>14.000000</td>\n",
       "      <td>1</td>\n",
       "      <td>0</td>\n",
       "      <td>237736</td>\n",
       "      <td>30.0708</td>\n",
       "      <td>C</td>\n",
       "      <td>Criança</td>\n",
       "    </tr>\n",
       "    <tr>\n",
       "      <th>11</th>\n",
       "      <td>1</td>\n",
       "      <td>3</td>\n",
       "      <td>Sandstrom, Miss. Marguerite Rut</td>\n",
       "      <td>female</td>\n",
       "      <td>4.000000</td>\n",
       "      <td>1</td>\n",
       "      <td>1</td>\n",
       "      <td>PP 9549</td>\n",
       "      <td>16.7000</td>\n",
       "      <td>S</td>\n",
       "      <td>Criança</td>\n",
       "    </tr>\n",
       "    <tr>\n",
       "      <th>12</th>\n",
       "      <td>1</td>\n",
       "      <td>1</td>\n",
       "      <td>Bonnell, Miss. Elizabeth</td>\n",
       "      <td>female</td>\n",
       "      <td>58.000000</td>\n",
       "      <td>0</td>\n",
       "      <td>0</td>\n",
       "      <td>113783</td>\n",
       "      <td>26.5500</td>\n",
       "      <td>S</td>\n",
       "      <td>Idoso</td>\n",
       "    </tr>\n",
       "    <tr>\n",
       "      <th>13</th>\n",
       "      <td>0</td>\n",
       "      <td>3</td>\n",
       "      <td>Saundercock, Mr. William Henry</td>\n",
       "      <td>male</td>\n",
       "      <td>20.000000</td>\n",
       "      <td>0</td>\n",
       "      <td>0</td>\n",
       "      <td>A/5. 2151</td>\n",
       "      <td>8.0500</td>\n",
       "      <td>S</td>\n",
       "      <td>Criança</td>\n",
       "    </tr>\n",
       "    <tr>\n",
       "      <th>14</th>\n",
       "      <td>0</td>\n",
       "      <td>3</td>\n",
       "      <td>Andersson, Mr. Anders Johan</td>\n",
       "      <td>male</td>\n",
       "      <td>39.000000</td>\n",
       "      <td>1</td>\n",
       "      <td>5</td>\n",
       "      <td>347082</td>\n",
       "      <td>31.2750</td>\n",
       "      <td>S</td>\n",
       "      <td>Adulto</td>\n",
       "    </tr>\n",
       "    <tr>\n",
       "      <th>15</th>\n",
       "      <td>0</td>\n",
       "      <td>3</td>\n",
       "      <td>Vestrom, Miss. Hulda Amanda Adolfina</td>\n",
       "      <td>female</td>\n",
       "      <td>14.000000</td>\n",
       "      <td>0</td>\n",
       "      <td>0</td>\n",
       "      <td>350406</td>\n",
       "      <td>7.8542</td>\n",
       "      <td>S</td>\n",
       "      <td>Criança</td>\n",
       "    </tr>\n",
       "  </tbody>\n",
       "</table>\n",
       "</div>"
      ],
      "text/plain": [
       "             Survived  Pclass  \\\n",
       "PassengerId                     \n",
       "1                   0       3   \n",
       "2                   1       1   \n",
       "3                   1       3   \n",
       "4                   1       1   \n",
       "5                   0       3   \n",
       "6                   0       3   \n",
       "7                   0       1   \n",
       "8                   0       3   \n",
       "9                   1       3   \n",
       "10                  1       2   \n",
       "11                  1       3   \n",
       "12                  1       1   \n",
       "13                  0       3   \n",
       "14                  0       3   \n",
       "15                  0       3   \n",
       "\n",
       "                                                          Name     Sex  \\\n",
       "PassengerId                                                              \n",
       "1                                      Braund, Mr. Owen Harris    male   \n",
       "2            Cumings, Mrs. John Bradley (Florence Briggs Th...  female   \n",
       "3                                       Heikkinen, Miss. Laina  female   \n",
       "4                 Futrelle, Mrs. Jacques Heath (Lily May Peel)  female   \n",
       "5                                     Allen, Mr. William Henry    male   \n",
       "6                                             Moran, Mr. James    male   \n",
       "7                                      McCarthy, Mr. Timothy J    male   \n",
       "8                               Palsson, Master. Gosta Leonard    male   \n",
       "9            Johnson, Mrs. Oscar W (Elisabeth Vilhelmina Berg)  female   \n",
       "10                         Nasser, Mrs. Nicholas (Adele Achem)  female   \n",
       "11                             Sandstrom, Miss. Marguerite Rut  female   \n",
       "12                                    Bonnell, Miss. Elizabeth  female   \n",
       "13                              Saundercock, Mr. William Henry    male   \n",
       "14                                 Andersson, Mr. Anders Johan    male   \n",
       "15                        Vestrom, Miss. Hulda Amanda Adolfina  female   \n",
       "\n",
       "                   Age  SibSp  Parch            Ticket     Fare Embarked  \\\n",
       "PassengerId                                                                \n",
       "1            22.000000      1      0         A/5 21171   7.2500        S   \n",
       "2            38.000000      1      0          PC 17599  71.2833        C   \n",
       "3            26.000000      0      0  STON/O2. 3101282   7.9250        S   \n",
       "4            35.000000      1      0            113803  53.1000        S   \n",
       "5            35.000000      0      0            373450   8.0500        S   \n",
       "6            29.699118      0      0            330877   8.4583        Q   \n",
       "7            54.000000      0      0             17463  51.8625        S   \n",
       "8             2.000000      3      1            349909  21.0750        S   \n",
       "9            27.000000      0      2            347742  11.1333        S   \n",
       "10           14.000000      1      0            237736  30.0708        C   \n",
       "11            4.000000      1      1           PP 9549  16.7000        S   \n",
       "12           58.000000      0      0            113783  26.5500        S   \n",
       "13           20.000000      0      0         A/5. 2151   8.0500        S   \n",
       "14           39.000000      1      5            347082  31.2750        S   \n",
       "15           14.000000      0      0            350406   7.8542        S   \n",
       "\n",
       "            AgeRange  \n",
       "PassengerId           \n",
       "1             Adulto  \n",
       "2             Adulto  \n",
       "3             Adulto  \n",
       "4             Adulto  \n",
       "5             Adulto  \n",
       "6             Adulto  \n",
       "7             Adulto  \n",
       "8            Criança  \n",
       "9             Adulto  \n",
       "10           Criança  \n",
       "11           Criança  \n",
       "12             Idoso  \n",
       "13           Criança  \n",
       "14            Adulto  \n",
       "15           Criança  "
      ]
     },
     "execution_count": 144,
     "metadata": {},
     "output_type": "execute_result"
    }
   ],
   "source": [
    "# Verificando alterações no Dataset\n",
    "df.head(15)"
   ]
  },
  {
   "cell_type": "code",
   "execution_count": 145,
   "metadata": {},
   "outputs": [
    {
     "data": {
      "text/html": [
       "<div>\n",
       "<style scoped>\n",
       "    .dataframe tbody tr th:only-of-type {\n",
       "        vertical-align: middle;\n",
       "    }\n",
       "\n",
       "    .dataframe tbody tr th {\n",
       "        vertical-align: top;\n",
       "    }\n",
       "\n",
       "    .dataframe thead th {\n",
       "        text-align: right;\n",
       "    }\n",
       "</style>\n",
       "<table border=\"1\" class=\"dataframe\">\n",
       "  <thead>\n",
       "    <tr style=\"text-align: right;\">\n",
       "      <th></th>\n",
       "      <th>Name</th>\n",
       "      <th>Survived</th>\n",
       "      <th>Age</th>\n",
       "      <th>AgeRange</th>\n",
       "    </tr>\n",
       "    <tr>\n",
       "      <th>PassengerId</th>\n",
       "      <th></th>\n",
       "      <th></th>\n",
       "      <th></th>\n",
       "      <th></th>\n",
       "    </tr>\n",
       "  </thead>\n",
       "  <tbody>\n",
       "    <tr>\n",
       "      <th>1</th>\n",
       "      <td>Braund, Mr. Owen Harris</td>\n",
       "      <td>0</td>\n",
       "      <td>22.000000</td>\n",
       "      <td>Adulto</td>\n",
       "    </tr>\n",
       "    <tr>\n",
       "      <th>2</th>\n",
       "      <td>Cumings, Mrs. John Bradley (Florence Briggs Th...</td>\n",
       "      <td>1</td>\n",
       "      <td>38.000000</td>\n",
       "      <td>Adulto</td>\n",
       "    </tr>\n",
       "    <tr>\n",
       "      <th>3</th>\n",
       "      <td>Heikkinen, Miss. Laina</td>\n",
       "      <td>1</td>\n",
       "      <td>26.000000</td>\n",
       "      <td>Adulto</td>\n",
       "    </tr>\n",
       "    <tr>\n",
       "      <th>4</th>\n",
       "      <td>Futrelle, Mrs. Jacques Heath (Lily May Peel)</td>\n",
       "      <td>1</td>\n",
       "      <td>35.000000</td>\n",
       "      <td>Adulto</td>\n",
       "    </tr>\n",
       "    <tr>\n",
       "      <th>5</th>\n",
       "      <td>Allen, Mr. William Henry</td>\n",
       "      <td>0</td>\n",
       "      <td>35.000000</td>\n",
       "      <td>Adulto</td>\n",
       "    </tr>\n",
       "    <tr>\n",
       "      <th>6</th>\n",
       "      <td>Moran, Mr. James</td>\n",
       "      <td>0</td>\n",
       "      <td>29.699118</td>\n",
       "      <td>Adulto</td>\n",
       "    </tr>\n",
       "    <tr>\n",
       "      <th>7</th>\n",
       "      <td>McCarthy, Mr. Timothy J</td>\n",
       "      <td>0</td>\n",
       "      <td>54.000000</td>\n",
       "      <td>Adulto</td>\n",
       "    </tr>\n",
       "    <tr>\n",
       "      <th>8</th>\n",
       "      <td>Palsson, Master. Gosta Leonard</td>\n",
       "      <td>0</td>\n",
       "      <td>2.000000</td>\n",
       "      <td>Criança</td>\n",
       "    </tr>\n",
       "    <tr>\n",
       "      <th>9</th>\n",
       "      <td>Johnson, Mrs. Oscar W (Elisabeth Vilhelmina Berg)</td>\n",
       "      <td>1</td>\n",
       "      <td>27.000000</td>\n",
       "      <td>Adulto</td>\n",
       "    </tr>\n",
       "    <tr>\n",
       "      <th>10</th>\n",
       "      <td>Nasser, Mrs. Nicholas (Adele Achem)</td>\n",
       "      <td>1</td>\n",
       "      <td>14.000000</td>\n",
       "      <td>Criança</td>\n",
       "    </tr>\n",
       "    <tr>\n",
       "      <th>11</th>\n",
       "      <td>Sandstrom, Miss. Marguerite Rut</td>\n",
       "      <td>1</td>\n",
       "      <td>4.000000</td>\n",
       "      <td>Criança</td>\n",
       "    </tr>\n",
       "    <tr>\n",
       "      <th>12</th>\n",
       "      <td>Bonnell, Miss. Elizabeth</td>\n",
       "      <td>1</td>\n",
       "      <td>58.000000</td>\n",
       "      <td>Idoso</td>\n",
       "    </tr>\n",
       "    <tr>\n",
       "      <th>13</th>\n",
       "      <td>Saundercock, Mr. William Henry</td>\n",
       "      <td>0</td>\n",
       "      <td>20.000000</td>\n",
       "      <td>Criança</td>\n",
       "    </tr>\n",
       "    <tr>\n",
       "      <th>14</th>\n",
       "      <td>Andersson, Mr. Anders Johan</td>\n",
       "      <td>0</td>\n",
       "      <td>39.000000</td>\n",
       "      <td>Adulto</td>\n",
       "    </tr>\n",
       "    <tr>\n",
       "      <th>15</th>\n",
       "      <td>Vestrom, Miss. Hulda Amanda Adolfina</td>\n",
       "      <td>0</td>\n",
       "      <td>14.000000</td>\n",
       "      <td>Criança</td>\n",
       "    </tr>\n",
       "  </tbody>\n",
       "</table>\n",
       "</div>"
      ],
      "text/plain": [
       "                                                          Name  Survived  \\\n",
       "PassengerId                                                                \n",
       "1                                      Braund, Mr. Owen Harris         0   \n",
       "2            Cumings, Mrs. John Bradley (Florence Briggs Th...         1   \n",
       "3                                       Heikkinen, Miss. Laina         1   \n",
       "4                 Futrelle, Mrs. Jacques Heath (Lily May Peel)         1   \n",
       "5                                     Allen, Mr. William Henry         0   \n",
       "6                                             Moran, Mr. James         0   \n",
       "7                                      McCarthy, Mr. Timothy J         0   \n",
       "8                               Palsson, Master. Gosta Leonard         0   \n",
       "9            Johnson, Mrs. Oscar W (Elisabeth Vilhelmina Berg)         1   \n",
       "10                         Nasser, Mrs. Nicholas (Adele Achem)         1   \n",
       "11                             Sandstrom, Miss. Marguerite Rut         1   \n",
       "12                                    Bonnell, Miss. Elizabeth         1   \n",
       "13                              Saundercock, Mr. William Henry         0   \n",
       "14                                 Andersson, Mr. Anders Johan         0   \n",
       "15                        Vestrom, Miss. Hulda Amanda Adolfina         0   \n",
       "\n",
       "                   Age AgeRange  \n",
       "PassengerId                      \n",
       "1            22.000000   Adulto  \n",
       "2            38.000000   Adulto  \n",
       "3            26.000000   Adulto  \n",
       "4            35.000000   Adulto  \n",
       "5            35.000000   Adulto  \n",
       "6            29.699118   Adulto  \n",
       "7            54.000000   Adulto  \n",
       "8             2.000000  Criança  \n",
       "9            27.000000   Adulto  \n",
       "10           14.000000  Criança  \n",
       "11            4.000000  Criança  \n",
       "12           58.000000    Idoso  \n",
       "13           20.000000  Criança  \n",
       "14           39.000000   Adulto  \n",
       "15           14.000000  Criança  "
      ]
     },
     "execution_count": 145,
     "metadata": {},
     "output_type": "execute_result"
    }
   ],
   "source": [
    "# Filtrando visualização\n",
    "df.loc[:, ['Name', 'Survived', 'Age', 'AgeRange']].head(15)"
   ]
  },
  {
   "cell_type": "code",
   "execution_count": 146,
   "metadata": {},
   "outputs": [
    {
     "data": {
      "text/plain": [
       "True"
      ]
     },
     "execution_count": 146,
     "metadata": {},
     "output_type": "execute_result"
    }
   ],
   "source": [
    "# Há alguma inconsistência nos dados?\n",
    "df['AgeRange'].isnull().values.any()"
   ]
  },
  {
   "cell_type": "markdown",
   "metadata": {},
   "source": [
    "Parece que alguns dados não foram classificados corretamente. É preciso verificar em quais linhas este problema ocorreu."
   ]
  },
  {
   "cell_type": "code",
   "execution_count": 147,
   "metadata": {},
   "outputs": [
    {
     "data": {
      "text/html": [
       "<div>\n",
       "<style scoped>\n",
       "    .dataframe tbody tr th:only-of-type {\n",
       "        vertical-align: middle;\n",
       "    }\n",
       "\n",
       "    .dataframe tbody tr th {\n",
       "        vertical-align: top;\n",
       "    }\n",
       "\n",
       "    .dataframe thead th {\n",
       "        text-align: right;\n",
       "    }\n",
       "</style>\n",
       "<table border=\"1\" class=\"dataframe\">\n",
       "  <thead>\n",
       "    <tr style=\"text-align: right;\">\n",
       "      <th></th>\n",
       "      <th>Survived</th>\n",
       "      <th>Pclass</th>\n",
       "      <th>Name</th>\n",
       "      <th>Sex</th>\n",
       "      <th>Age</th>\n",
       "      <th>SibSp</th>\n",
       "      <th>Parch</th>\n",
       "      <th>Ticket</th>\n",
       "      <th>Fare</th>\n",
       "      <th>Embarked</th>\n",
       "      <th>AgeRange</th>\n",
       "    </tr>\n",
       "    <tr>\n",
       "      <th>PassengerId</th>\n",
       "      <th></th>\n",
       "      <th></th>\n",
       "      <th></th>\n",
       "      <th></th>\n",
       "      <th></th>\n",
       "      <th></th>\n",
       "      <th></th>\n",
       "      <th></th>\n",
       "      <th></th>\n",
       "      <th></th>\n",
       "      <th></th>\n",
       "    </tr>\n",
       "  </thead>\n",
       "  <tbody>\n",
       "    <tr>\n",
       "      <th>804</th>\n",
       "      <td>1</td>\n",
       "      <td>3</td>\n",
       "      <td>Thomas, Master. Assad Alexander</td>\n",
       "      <td>male</td>\n",
       "      <td>0.42</td>\n",
       "      <td>0</td>\n",
       "      <td>1</td>\n",
       "      <td>2625</td>\n",
       "      <td>8.5167</td>\n",
       "      <td>C</td>\n",
       "      <td>NaN</td>\n",
       "    </tr>\n",
       "  </tbody>\n",
       "</table>\n",
       "</div>"
      ],
      "text/plain": [
       "             Survived  Pclass                             Name   Sex   Age  \\\n",
       "PassengerId                                                                  \n",
       "804                 1       3  Thomas, Master. Assad Alexander  male  0.42   \n",
       "\n",
       "             SibSp  Parch Ticket    Fare Embarked AgeRange  \n",
       "PassengerId                                                 \n",
       "804              0      1   2625  8.5167        C      NaN  "
      ]
     },
     "execution_count": 147,
     "metadata": {},
     "output_type": "execute_result"
    }
   ],
   "source": [
    "df_age_null = df[df['AgeRange'].isnull()]\n",
    "df_age_null"
   ]
  },
  {
   "cell_type": "markdown",
   "metadata": {},
   "source": [
    "Então o passageiro de id 804 e idade 0.42 não foi classificado como deveria. Provavelmente algum erro nos parâmetros de `cut()`."
   ]
  },
  {
   "cell_type": "code",
   "execution_count": 148,
   "metadata": {},
   "outputs": [
    {
     "name": "stdout",
     "output_type": "stream",
     "text": [
      "Há dados nulos na coluna \"AgeRange\"? False\n",
      "Qual a classificação do passageiro 804? Criança\n"
     ]
    }
   ],
   "source": [
    "# Classificando manualmente e verificando alterações\n",
    "df['AgeRange'][804] = 'Criança'\n",
    "\n",
    "print(f'Há dados nulos na coluna \"AgeRange\"? {df.isnull().values.any()}')\n",
    "print(f'Qual a classificação do passageiro 804? {df[\"AgeRange\"][804]}')"
   ]
  },
  {
   "cell_type": "code",
   "execution_count": 149,
   "metadata": {},
   "outputs": [
    {
     "data": {
      "image/png": "[encoded data removed]",
      "text/plain": [
       "<matplotlib.figure.Figure at 0x1d32d2f9da0>"
      ]
     },
     "metadata": {},
     "output_type": "display_data"
    }
   ],
   "source": [
    "# Plotando distribuição de idades\n",
    "# Distribuição de Idades\n",
    "fig, ax = plt.subplots(1, 2, figsize=(10, 14))\n",
    "sns.set_context('talk')\n",
    "sns.set_style('whitegrid')\n",
    "# Primeiro plot = histograma\n",
    "plt.subplot(211)\n",
    "sns.distplot(df['Age'], kde=False, bins=10, \n",
    "             hist_kws={\"histtype\": \"stepfilled\", \"linewidth\": 3,\n",
    "                             \"alpha\": 1, \"color\": \"#002db3\"})\n",
    "plt.title('Distribuição de Idades')\n",
    "plt.xlabel('Idades')\n",
    "plt.ylabel('Contagem')\n",
    "# Segundo plot = kde\n",
    "plt.subplot(212)\n",
    "sns.kdeplot(df['Age'], shade=True, label='Idade')\n",
    "plt.title('Distribuição kde (Não-Paramétrica) de Idades')\n",
    "plt.xlabel('Idades')\n",
    "plt.ylabel('Frequência')\n",
    "\n",
    "plt.show()"
   ]
  },
  {
   "cell_type": "code",
   "execution_count": 150,
   "metadata": {},
   "outputs": [
    {
     "data": {
      "text/plain": [
       "Survived  AgeRange\n",
       "0         Criança     117\n",
       "          Adulto      404\n",
       "          Idoso        28\n",
       "1         Criança      87\n",
       "          Adulto      243\n",
       "          Idoso        12\n",
       "Name: Name, dtype: int64"
      ]
     },
     "execution_count": 150,
     "metadata": {},
     "output_type": "execute_result"
    }
   ],
   "source": [
    "# PLotando gráfico\n",
    "\n",
    "# Agrupando dados por condição após naufrágio e faixa etária\n",
    "surv_age = df.groupby(['Survived', 'AgeRange']).count()['Name']\n",
    "surv_age"
   ]
  },
  {
   "cell_type": "code",
   "execution_count": 151,
   "metadata": {},
   "outputs": [
    {
     "data": {
      "text/plain": [
       "AgeRange\n",
       "Criança    204\n",
       "Adulto     647\n",
       "Idoso       40\n",
       "Name: Name, dtype: int64"
      ]
     },
     "execution_count": 151,
     "metadata": {},
     "output_type": "execute_result"
    }
   ],
   "source": [
    "# Contagem total de cada faixa etária\n",
    "age_total = df.groupby('AgeRange').count()['Name']\n",
    "age_total"
   ]
  },
  {
   "cell_type": "code",
   "execution_count": 152,
   "metadata": {},
   "outputs": [
    {
     "data": {
      "text/plain": [
       "Survived  AgeRange\n",
       "0         Criança     0.573529\n",
       "          Adulto      0.624420\n",
       "          Idoso       0.700000\n",
       "1         Criança     0.426471\n",
       "          Adulto      0.375580\n",
       "          Idoso       0.300000\n",
       "Name: Name, dtype: float64"
      ]
     },
     "execution_count": 152,
     "metadata": {},
     "output_type": "execute_result"
    }
   ],
   "source": [
    "# Proporção de cada faixa etária com relação as condições pós-naufrágio\n",
    "age_prop = surv_age / age_total\n",
    "age_prop"
   ]
  },
  {
   "cell_type": "code",
   "execution_count": 153,
   "metadata": {},
   "outputs": [
    {
     "data": {
      "text/plain": [
       "AgeRange\n",
       "Criança    0.426471\n",
       "Adulto     0.375580\n",
       "Idoso      0.300000\n",
       "Name: Name, dtype: float64"
      ]
     },
     "execution_count": 153,
     "metadata": {},
     "output_type": "execute_result"
    }
   ],
   "source": [
    "# Indexando valores\n",
    "surv_prop = age_prop[1]\n",
    "vict_prop = age_prop[0]\n",
    "\n",
    "surv_prop"
   ]
  },
  {
   "cell_type": "markdown",
   "metadata": {},
   "source": [
    "Após os testes, é possível plotar a análise graficamente."
   ]
  },
  {
   "cell_type": "code",
   "execution_count": 154,
   "metadata": {},
   "outputs": [
    {
     "data": {
      "text/html": [
       "<div>\n",
       "<style scoped>\n",
       "    .dataframe tbody tr th:only-of-type {\n",
       "        vertical-align: middle;\n",
       "    }\n",
       "\n",
       "    .dataframe tbody tr th {\n",
       "        vertical-align: top;\n",
       "    }\n",
       "\n",
       "    .dataframe thead th {\n",
       "        text-align: right;\n",
       "    }\n",
       "</style>\n",
       "<table border=\"1\" class=\"dataframe\">\n",
       "  <thead>\n",
       "    <tr style=\"text-align: right;\">\n",
       "      <th></th>\n",
       "      <th>Survived</th>\n",
       "      <th>Pclass</th>\n",
       "      <th>Name</th>\n",
       "      <th>Sex</th>\n",
       "      <th>Age</th>\n",
       "      <th>SibSp</th>\n",
       "      <th>Parch</th>\n",
       "      <th>Ticket</th>\n",
       "      <th>Fare</th>\n",
       "      <th>Embarked</th>\n",
       "      <th>AgeRange</th>\n",
       "    </tr>\n",
       "    <tr>\n",
       "      <th>PassengerId</th>\n",
       "      <th></th>\n",
       "      <th></th>\n",
       "      <th></th>\n",
       "      <th></th>\n",
       "      <th></th>\n",
       "      <th></th>\n",
       "      <th></th>\n",
       "      <th></th>\n",
       "      <th></th>\n",
       "      <th></th>\n",
       "      <th></th>\n",
       "    </tr>\n",
       "  </thead>\n",
       "  <tbody>\n",
       "    <tr>\n",
       "      <th>1</th>\n",
       "      <td>0</td>\n",
       "      <td>3</td>\n",
       "      <td>Braund, Mr. Owen Harris</td>\n",
       "      <td>male</td>\n",
       "      <td>22.0</td>\n",
       "      <td>1</td>\n",
       "      <td>0</td>\n",
       "      <td>A/5 21171</td>\n",
       "      <td>7.2500</td>\n",
       "      <td>S</td>\n",
       "      <td>Adulto</td>\n",
       "    </tr>\n",
       "    <tr>\n",
       "      <th>2</th>\n",
       "      <td>1</td>\n",
       "      <td>1</td>\n",
       "      <td>Cumings, Mrs. John Bradley (Florence Briggs Th...</td>\n",
       "      <td>female</td>\n",
       "      <td>38.0</td>\n",
       "      <td>1</td>\n",
       "      <td>0</td>\n",
       "      <td>PC 17599</td>\n",
       "      <td>71.2833</td>\n",
       "      <td>C</td>\n",
       "      <td>Adulto</td>\n",
       "    </tr>\n",
       "    <tr>\n",
       "      <th>3</th>\n",
       "      <td>1</td>\n",
       "      <td>3</td>\n",
       "      <td>Heikkinen, Miss. Laina</td>\n",
       "      <td>female</td>\n",
       "      <td>26.0</td>\n",
       "      <td>0</td>\n",
       "      <td>0</td>\n",
       "      <td>STON/O2. 3101282</td>\n",
       "      <td>7.9250</td>\n",
       "      <td>S</td>\n",
       "      <td>Adulto</td>\n",
       "    </tr>\n",
       "    <tr>\n",
       "      <th>4</th>\n",
       "      <td>1</td>\n",
       "      <td>1</td>\n",
       "      <td>Futrelle, Mrs. Jacques Heath (Lily May Peel)</td>\n",
       "      <td>female</td>\n",
       "      <td>35.0</td>\n",
       "      <td>1</td>\n",
       "      <td>0</td>\n",
       "      <td>113803</td>\n",
       "      <td>53.1000</td>\n",
       "      <td>S</td>\n",
       "      <td>Adulto</td>\n",
       "    </tr>\n",
       "    <tr>\n",
       "      <th>5</th>\n",
       "      <td>0</td>\n",
       "      <td>3</td>\n",
       "      <td>Allen, Mr. William Henry</td>\n",
       "      <td>male</td>\n",
       "      <td>35.0</td>\n",
       "      <td>0</td>\n",
       "      <td>0</td>\n",
       "      <td>373450</td>\n",
       "      <td>8.0500</td>\n",
       "      <td>S</td>\n",
       "      <td>Adulto</td>\n",
       "    </tr>\n",
       "  </tbody>\n",
       "</table>\n",
       "</div>"
      ],
      "text/plain": [
       "             Survived  Pclass  \\\n",
       "PassengerId                     \n",
       "1                   0       3   \n",
       "2                   1       1   \n",
       "3                   1       3   \n",
       "4                   1       1   \n",
       "5                   0       3   \n",
       "\n",
       "                                                          Name     Sex   Age  \\\n",
       "PassengerId                                                                    \n",
       "1                                      Braund, Mr. Owen Harris    male  22.0   \n",
       "2            Cumings, Mrs. John Bradley (Florence Briggs Th...  female  38.0   \n",
       "3                                       Heikkinen, Miss. Laina  female  26.0   \n",
       "4                 Futrelle, Mrs. Jacques Heath (Lily May Peel)  female  35.0   \n",
       "5                                     Allen, Mr. William Henry    male  35.0   \n",
       "\n",
       "             SibSp  Parch            Ticket     Fare Embarked AgeRange  \n",
       "PassengerId                                                             \n",
       "1                1      0         A/5 21171   7.2500        S   Adulto  \n",
       "2                1      0          PC 17599  71.2833        C   Adulto  \n",
       "3                0      0  STON/O2. 3101282   7.9250        S   Adulto  \n",
       "4                1      0            113803  53.1000        S   Adulto  \n",
       "5                0      0            373450   8.0500        S   Adulto  "
      ]
     },
     "execution_count": 154,
     "metadata": {},
     "output_type": "execute_result"
    }
   ],
   "source": [
    "df.head()"
   ]
  },
  {
   "cell_type": "code",
   "execution_count": 155,
   "metadata": {},
   "outputs": [
    {
     "data": {
      "image/png": "[encoded data removed]",
      "text/plain": [
       "<matplotlib.figure.Figure at 0x1d32cd19f60>"
      ]
     },
     "metadata": {},
     "output_type": "display_data"
    }
   ],
   "source": [
    "# Investigando Taxa de Sobrevivência por Classe Econômica\n",
    "\n",
    "# Preparando dados\n",
    "surv_age = df.groupby(['Survived', 'AgeRange']).count()['Name']\n",
    "age_total = df.groupby('AgeRange').count()['Name']\n",
    "age_prop = surv_age / age_total\n",
    "surv_prop = age_prop[1]\n",
    "vict_prop = age_prop[0]\n",
    "\n",
    "ind = np.arange(len(surv_prop))\n",
    "width = .35\n",
    "sns.set_style('ticks')\n",
    "sns.set_context('talk')\n",
    "\n",
    "# Criando figs e axes\n",
    "fig, ax = plt.subplots(figsize=(8, 5))\n",
    "s_bar = plt.bar(ind, surv_prop, width, alpha=.7, label='Sobreviventes')\n",
    "v_bar = plt.bar(ind+width, vict_prop, width, color='r', alpha=.7, label='Vítimas')\n",
    "plt.ylabel('Proporção (%)', fontsize=13)\n",
    "plt.xlabel('Faixa Etária', fontsize=13, labelpad=20)\n",
    "plt.title('Sobreviventes por Faixa Etária', fontsize=17)\n",
    "locations = ind + width / 2\n",
    "labels = ['Crianças', 'Adultos', 'Idosos']\n",
    "plt.xticks(locations, labels, fontsize=13)\n",
    "plt.legend()\n",
    "\n",
    "# Mostrando porcentagem de dados nas barras\n",
    "for p in ax.patches:\n",
    "    width, height = p.get_width(), p.get_height()\n",
    "    x, y = p.get_xy() \n",
    "    ax.annotate('{:.0%}'.format(height), (p.get_x()+.20*width, p.get_y() + height - 0.06), \n",
    "                color='w', weight='bold')\n",
    "plt.show()"
   ]
  },
  {
   "cell_type": "markdown",
   "metadata": {},
   "source": [
    "O gráfico acima indica que o grupo etário classificado como \"Crianças\" obteve maiores chances de sobrevivência. Dentre alguns pontos que podem ser destacados com o objetivo de entender tais resultados, encontram-se:\n",
    "\n",
    "* Prioridade de resgate foi dada às crianças;\n",
    "* Idosos poderiam ter encontrado dificuldades de sobrevivência dados os imensos obstáculos presentes;\n",
    "* A baixa resistência física dos Idosos pode ter contribuído com a grande porcentagem de vítimas;"
   ]
  },
  {
   "cell_type": "code",
   "execution_count": 156,
   "metadata": {},
   "outputs": [
    {
     "data": {
      "image/png": "[encoded data removed]",
      "text/plain": [
       "<matplotlib.figure.Figure at 0x1d32cc80a20>"
      ]
     },
     "metadata": {},
     "output_type": "display_data"
    }
   ],
   "source": [
    "# Distribuição por Sobreviventes\n",
    "\n",
    "# Sobreviventes por classe social\n",
    "surv_age = df.groupby(['Survived', 'AgeRange']).count()['Name'][1]\n",
    "\n",
    "labels = ['Crianças', 'Adultos', 'Idosos']\n",
    "colors = ['#cc99ff', '#66ccff', '#d9b38c']\n",
    "explode = (0.0, 0.1, 0.0)\n",
    "fig, ax = plt.subplots(figsize=(7, 7))\n",
    "wedges, texts, autotexts = ax.pie(surv_age, labels=labels, \n",
    "                                   startangle=0, shadow=True, explode=explode,\n",
    "                                  autopct='%1.1f%%', colors=colors)\n",
    "ax.set_title('Distribuição de Grupos Etários Sobreviventes', fontsize=19)\n",
    "ax.axis('equal')\n",
    "plt.legend(fontsize=12, loc='upper left')\n",
    "plt.tight_layout()\n",
    "plt.setp(autotexts, size=20, weight='bold', color='w')\n",
    "plt.setp(texts, size=17)\n",
    "plt.show()"
   ]
  },
  {
   "cell_type": "code",
   "execution_count": 157,
   "metadata": {},
   "outputs": [],
   "source": [
    "# Salvando novo Dataset\n",
    "df.to_csv('C:/Users/thiagoPanini/Downloads/datasets/titanic-data-6-edited-2.csv')"
   ]
  },
  {
   "cell_type": "code",
   "execution_count": 158,
   "metadata": {},
   "outputs": [
    {
     "data": {
      "text/html": [
       "<div>\n",
       "<style scoped>\n",
       "    .dataframe tbody tr th:only-of-type {\n",
       "        vertical-align: middle;\n",
       "    }\n",
       "\n",
       "    .dataframe tbody tr th {\n",
       "        vertical-align: top;\n",
       "    }\n",
       "\n",
       "    .dataframe thead th {\n",
       "        text-align: right;\n",
       "    }\n",
       "</style>\n",
       "<table border=\"1\" class=\"dataframe\">\n",
       "  <thead>\n",
       "    <tr style=\"text-align: right;\">\n",
       "      <th></th>\n",
       "      <th>Survived</th>\n",
       "      <th>Pclass</th>\n",
       "      <th>Name</th>\n",
       "      <th>Sex</th>\n",
       "      <th>Age</th>\n",
       "      <th>SibSp</th>\n",
       "      <th>Parch</th>\n",
       "      <th>Ticket</th>\n",
       "      <th>Fare</th>\n",
       "      <th>Embarked</th>\n",
       "      <th>AgeRange</th>\n",
       "    </tr>\n",
       "    <tr>\n",
       "      <th>PassengerId</th>\n",
       "      <th></th>\n",
       "      <th></th>\n",
       "      <th></th>\n",
       "      <th></th>\n",
       "      <th></th>\n",
       "      <th></th>\n",
       "      <th></th>\n",
       "      <th></th>\n",
       "      <th></th>\n",
       "      <th></th>\n",
       "      <th></th>\n",
       "    </tr>\n",
       "  </thead>\n",
       "  <tbody>\n",
       "    <tr>\n",
       "      <th>1</th>\n",
       "      <td>0</td>\n",
       "      <td>3</td>\n",
       "      <td>Braund, Mr. Owen Harris</td>\n",
       "      <td>male</td>\n",
       "      <td>22.0</td>\n",
       "      <td>1</td>\n",
       "      <td>0</td>\n",
       "      <td>A/5 21171</td>\n",
       "      <td>7.2500</td>\n",
       "      <td>S</td>\n",
       "      <td>Adulto</td>\n",
       "    </tr>\n",
       "    <tr>\n",
       "      <th>2</th>\n",
       "      <td>1</td>\n",
       "      <td>1</td>\n",
       "      <td>Cumings, Mrs. John Bradley (Florence Briggs Th...</td>\n",
       "      <td>female</td>\n",
       "      <td>38.0</td>\n",
       "      <td>1</td>\n",
       "      <td>0</td>\n",
       "      <td>PC 17599</td>\n",
       "      <td>71.2833</td>\n",
       "      <td>C</td>\n",
       "      <td>Adulto</td>\n",
       "    </tr>\n",
       "    <tr>\n",
       "      <th>3</th>\n",
       "      <td>1</td>\n",
       "      <td>3</td>\n",
       "      <td>Heikkinen, Miss. Laina</td>\n",
       "      <td>female</td>\n",
       "      <td>26.0</td>\n",
       "      <td>0</td>\n",
       "      <td>0</td>\n",
       "      <td>STON/O2. 3101282</td>\n",
       "      <td>7.9250</td>\n",
       "      <td>S</td>\n",
       "      <td>Adulto</td>\n",
       "    </tr>\n",
       "    <tr>\n",
       "      <th>4</th>\n",
       "      <td>1</td>\n",
       "      <td>1</td>\n",
       "      <td>Futrelle, Mrs. Jacques Heath (Lily May Peel)</td>\n",
       "      <td>female</td>\n",
       "      <td>35.0</td>\n",
       "      <td>1</td>\n",
       "      <td>0</td>\n",
       "      <td>113803</td>\n",
       "      <td>53.1000</td>\n",
       "      <td>S</td>\n",
       "      <td>Adulto</td>\n",
       "    </tr>\n",
       "    <tr>\n",
       "      <th>5</th>\n",
       "      <td>0</td>\n",
       "      <td>3</td>\n",
       "      <td>Allen, Mr. William Henry</td>\n",
       "      <td>male</td>\n",
       "      <td>35.0</td>\n",
       "      <td>0</td>\n",
       "      <td>0</td>\n",
       "      <td>373450</td>\n",
       "      <td>8.0500</td>\n",
       "      <td>S</td>\n",
       "      <td>Adulto</td>\n",
       "    </tr>\n",
       "  </tbody>\n",
       "</table>\n",
       "</div>"
      ],
      "text/plain": [
       "             Survived  Pclass  \\\n",
       "PassengerId                     \n",
       "1                   0       3   \n",
       "2                   1       1   \n",
       "3                   1       3   \n",
       "4                   1       1   \n",
       "5                   0       3   \n",
       "\n",
       "                                                          Name     Sex   Age  \\\n",
       "PassengerId                                                                    \n",
       "1                                      Braund, Mr. Owen Harris    male  22.0   \n",
       "2            Cumings, Mrs. John Bradley (Florence Briggs Th...  female  38.0   \n",
       "3                                       Heikkinen, Miss. Laina  female  26.0   \n",
       "4                 Futrelle, Mrs. Jacques Heath (Lily May Peel)  female  35.0   \n",
       "5                                     Allen, Mr. William Henry    male  35.0   \n",
       "\n",
       "             SibSp  Parch            Ticket     Fare Embarked AgeRange  \n",
       "PassengerId                                                             \n",
       "1                1      0         A/5 21171   7.2500        S   Adulto  \n",
       "2                1      0          PC 17599  71.2833        C   Adulto  \n",
       "3                0      0  STON/O2. 3101282   7.9250        S   Adulto  \n",
       "4                1      0            113803  53.1000        S   Adulto  \n",
       "5                0      0            373450   8.0500        S   Adulto  "
      ]
     },
     "execution_count": 158,
     "metadata": {},
     "output_type": "execute_result"
    }
   ],
   "source": [
    "# Importando bibliotecas\n",
    "import pandas as pd\n",
    "import matplotlib.pyplot as plt\n",
    "%matplotlib inline\n",
    "import numpy as np\n",
    "import seaborn as sns\n",
    "\n",
    "df = pd.read_csv('C:/Users/thiagoPanini/Downloads/datasets/titanic-data-6-edited-2.csv')\n",
    "df.set_index('PassengerId', inplace=True)\n",
    "df.head()"
   ]
  },
  {
   "cell_type": "markdown",
   "metadata": {},
   "source": [
    "#### Sobreviventes por Porto de Embarque"
   ]
  },
  {
   "cell_type": "markdown",
   "metadata": {},
   "source": [
    "Função para retornar dados estatísticos relevantes sobre passageiros de acordo com o porto de embarque"
   ]
  },
  {
   "cell_type": "code",
   "execution_count": 159,
   "metadata": {},
   "outputs": [],
   "source": [
    "def stats_bay(bay):\n",
    "    bay = bay.strip().upper()\n",
    "    \n",
    "    contagem = df.groupby('Embarked').count()['Name']\n",
    "    medias = df.groupby('Embarked').mean()\n",
    "    p_class_emb = df.groupby(['Embarked', 'Pclass']).count()['Name']\n",
    "    prop_class = 100 *  p_class_emb[bay] / contagem[bay]\n",
    "    gender_emb = df.groupby(['Embarked', 'Sex']).count()['Name']\n",
    "    prop_gender = 100 * gender_emb[bay] / contagem[bay]\n",
    "    agerange_emb = df.groupby(['Embarked', 'AgeRange']).count()['Name']\n",
    "    prop_agerange = 100 * agerange_emb[bay] / contagem[bay]\n",
    "    surv_emb = df.groupby(['Embarked', 'Survived']).count()['Name']\n",
    "    prop_surv = 100 * surv_emb[bay] / contagem[bay]\n",
    "    \n",
    "    if bay == 'C':\n",
    "        bay_name = 'Cherbourg'\n",
    "    elif bay == 'S':\n",
    "        bay_name = 'Southampton'\n",
    "    else:\n",
    "        bay_name = 'Queenstown'\n",
    "\n",
    "    print(f'- - - DADOS DE {bay_name.upper()} - - -')\n",
    "    print(f'Total de passageiros com embarque em {bay_name}: {contagem[bay]} pessoas.')\n",
    "    print(f'Idade média dos passageiros de {bay_name}: {medias[\"Age\"][bay]:.2f} anos.')\n",
    "    print(f'Ticket médio dos passageiros de {bay_name}: ${medias[\"Fare\"][bay]:.2f}')\n",
    "    print('- - - CLASSE ECONÔMICA - - -')\n",
    "    print(f'Porcentagem de Classe Alta que embarcaram em {bay_name}: {prop_class[1]:.2f}%')\n",
    "    print(f'Porcentagem de Classe Média que embarcaram em {bay_name}: {prop_class[2]:.2f}%')\n",
    "    print(f'Porcentagem de Classe Baixa que embarcaram em {bay_name}: {prop_class[3]:.2f}%')\n",
    "    print('- - - GÊNERO - - -')\n",
    "    print(f'Porcetagem de Homens que embarcaram em {bay_name}: {prop_gender[\"male\"]:.2f}%')\n",
    "    print(f'Porcetagem de Mulheres que embarcaram em {bay_name}: {prop_gender[\"female\"]:.2f}%')\n",
    "    print('- - - FAIXA ETÁRIA - - -')\n",
    "    print(f'Porcentagem de Crianças que embarcaram em {bay_name}: {prop_agerange[\"Criança\"]:.2f}%')\n",
    "    print(f'Porcentagem de Adultos que embarcaram em {bay_name}: {prop_agerange[\"Adulto\"]:.2f}%')\n",
    "    print(f'Porcentagem de Idosos que embarcaram em {bay_name}: {prop_agerange[\"Idoso\"]:.2f}%')\n",
    "    print('- - - PROBABILIDADE DE SOBREVIVÊNCIA - - -')\n",
    "    print(f'Probabilidade de sobrevivência para embarcantes em {bay_name}: {prop_surv[1]:.2f}%')"
   ]
  },
  {
   "cell_type": "code",
   "execution_count": 163,
   "metadata": {},
   "outputs": [
    {
     "name": "stdout",
     "output_type": "stream",
     "text": [
      "- - - DADOS DE CHERBOURG - - -\n",
      "Total de passageiros com embarque em Cherbourg: 170 pessoas.\n",
      "Idade média dos passageiros de Cherbourg: 30.79 anos.\n",
      "Ticket médio dos passageiros de Cherbourg: $60.19\n",
      "- - - CLASSE ECONÔMICA - - -\n",
      "Porcentagem de Classe Alta que embarcaram em Cherbourg: 51.18%\n",
      "Porcentagem de Classe Média que embarcaram em Cherbourg: 10.00%\n",
      "Porcentagem de Classe Baixa que embarcaram em Cherbourg: 38.82%\n",
      "- - - GÊNERO - - -\n",
      "Porcetagem de Homens que embarcaram em Cherbourg: 55.88%\n",
      "Porcetagem de Mulheres que embarcaram em Cherbourg: 44.12%\n",
      "- - - FAIXA ETÁRIA - - -\n",
      "Porcentagem de Crianças que embarcaram em Cherbourg: 19.41%\n",
      "Porcentagem de Adultos que embarcaram em Cherbourg: 73.53%\n",
      "Porcentagem de Idosos que embarcaram em Cherbourg: 7.06%\n",
      "- - - PROBABILIDADE DE SOBREVIVÊNCIA - - -\n",
      "Probabilidade de sobrevivência para embarcantes em Cherbourg: 55.88%\n"
     ]
    }
   ],
   "source": [
    "stats_bay('c')"
   ]
  },
  {
   "cell_type": "markdown",
   "metadata": {},
   "source": [
    "Apesar da massiva quantidade de dados na análise acima, seria interessante visualizar apenas a plotagem gráfica de alguns atributos."
   ]
  },
  {
   "cell_type": "code",
   "execution_count": 164,
   "metadata": {},
   "outputs": [
    {
     "data": {
      "image/png": "[encoded data removed]",
      "text/plain": [
       "<matplotlib.figure.Figure at 0x1d32cd19fd0>"
      ]
     },
     "metadata": {},
     "output_type": "display_data"
    }
   ],
   "source": [
    "# Preparando dados\n",
    "surv_emb = df.groupby(['Survived', 'Embarked']).count()['Name']\n",
    "emb_total = df.groupby('Embarked').count()['Name']\n",
    "emb_prop = surv_emb / emb_total\n",
    "surv_prop = emb_prop[1]\n",
    "vict_prop = emb_prop[0]\n",
    "\n",
    "ind = np.arange(len(emb_prop[1]))\n",
    "width = .35\n",
    "sns.set_style('ticks')\n",
    "sns.set_context('talk')\n",
    "\n",
    "# Criando figs e axes\n",
    "fig, ax = plt.subplots(figsize=(8, 5))\n",
    "s_bar = plt.bar(ind, surv_prop, width, alpha=.7, label='Sobreviventes')\n",
    "v_bar = plt.bar(ind+width, vict_prop, width, color='r', alpha=.7, label='Vítimas')\n",
    "plt.ylabel('Proporção (%)', fontsize=13)\n",
    "plt.xlabel('Porto de Embarque', fontsize=13, labelpad=20)\n",
    "plt.title('Sobreviventes por Porto de Embarque', fontsize=18)\n",
    "locations = ind + width / 2\n",
    "labels = ['Cherbourg', 'Queenstown', 'Southampton']\n",
    "plt.xticks(locations, labels, fontsize=13)\n",
    "plt.legend()\n",
    "\n",
    "# Mostrando porcentagem de dados nas barras\n",
    "for p in ax.patches:\n",
    "    width, height = p.get_width(), p.get_height()\n",
    "    x, y = p.get_xy() \n",
    "    ax.annotate('{:.0%}'.format(height), (p.get_x()+.20*width, p.get_y() + height - 0.06), \n",
    "                color='w', weight='bold')\n",
    "plt.show()"
   ]
  },
  {
   "cell_type": "code",
   "execution_count": 165,
   "metadata": {},
   "outputs": [
    {
     "data": {
      "image/png": "[encoded data removed]",
      "text/plain": [
       "<matplotlib.figure.Figure at 0x1d32d4bf1d0>"
      ]
     },
     "metadata": {},
     "output_type": "display_data"
    }
   ],
   "source": [
    "# Agrupamento de Classe Econômica por Porto de Embarque\n",
    "pclass_emb = df.groupby(['Pclass', 'Embarked']).count()['Name']\n",
    "\n",
    "# Contagem total por Porto\n",
    "emb_total = df.groupby('Embarked').count()['Name']\n",
    "\n",
    "# Proporção de Classe Econômica por Porto\n",
    "emb_prop = pclass_emb / emb_total\n",
    "high_class = emb_prop[1]\n",
    "medium_class = emb_prop[2]\n",
    "low_class = emb_prop[3]\n",
    "\n",
    "# Configurando barras e figure\n",
    "ind = np.arange(len(high_class))\n",
    "width = .25\n",
    "sns.set_style('ticks')\n",
    "sns.set_context('talk')\n",
    "\n",
    "# Criando figs e axes\n",
    "fig, ax = plt.subplots(figsize=(12, 6.5))\n",
    "high_bar = plt.bar(ind, high_class, width, color='#CFB53B', alpha=.7, label='Classe Alta')\n",
    "medium_bar = plt.bar(ind+width, medium_class, width, color='#d9d9d9', alpha=.7, label='Classe Média')\n",
    "low_bar = plt.bar(ind+2*width, low_class, width, color='#8C7853', alpha=.7, label='Classe Baixa')\n",
    "plt.ylabel('Proporção (%)', fontsize=13)\n",
    "plt.xlabel('Porto de Embarque', fontsize=13, labelpad=20)\n",
    "plt.title('Classe Econômica por Porto de Embarque', fontsize=18)\n",
    "locations = ind + width / 2\n",
    "labels = ['Cherbourg', 'Queenstown', 'Southampton']\n",
    "plt.xticks(locations, labels, fontsize=13)\n",
    "plt.legend()\n",
    "\n",
    "# Mostrando porcentagem de dados nas barras\n",
    "for p in ax.patches:\n",
    "    width, height = p.get_width(), p.get_height()\n",
    "    x, y = p.get_xy() \n",
    "    ax.annotate('{:.0%}'.format(height), (p.get_x()+.20*width, p.get_y() + height + 0.00), \n",
    "                color='black', weight='bold')\n",
    "\n",
    "plt.show()"
   ]
  },
  {
   "cell_type": "markdown",
   "metadata": {},
   "source": [
    "Avaliando os resultados obtidos com a função acima definida, é possível perceber, logo de cara, uma maior probabilidade de sobrevivência entre os passageiros que embarcaram em Cherbourg. Na ciência de tal informação, nota-se também que há diferenciações importantes em outros atributos, como por exemplo, a grande concentração de passageiros de Classe Alta que embarcaram em Cherbourg. Ademais, a menor porcentagem de passageiros de Classe Baixa embarcaram neste mesmo porto.\n",
    "\n",
    "Como esperado as conclusões reteiradas da análise acima indicaram que o Ticket Médio pago por passageiros que embarcaram em Cherbourg é consideravalmente maior, o que confirma o fato de passageiros de Classe Alta terem pago um valor maior no Ticket."
   ]
  },
  {
   "cell_type": "markdown",
   "metadata": {},
   "source": [
    "Alguns pontos que explicariam os resultados obtidos:\n",
    "\n",
    "* Maior presença de passageiros de Classe Alta em Cherbourg;\n",
    "* Passageiros de Classe Alta provavelmente teriam condições privilegiadas no navio, como localização dos quartos, acesso às rotas de emergência ou à equipamentos de segurança, entre outros;\n",
    "* Pouca porcentagem de Jovens e Crianças que embarcaram em Queenstown pode ter contribuído para a possível baixa prioridade de resgate;\n",
    "* Grande presença de passageiros de Classe Baixa em Queenstown influenciaram diretamente na grande proporção de vítimas."
   ]
  },
  {
   "cell_type": "markdown",
   "metadata": {},
   "source": [
    "### Conclusão"
   ]
  },
  {
   "cell_type": "markdown",
   "metadata": {},
   "source": [
    "A análise de dados permite retirar informações de onde jamais fosse possível imaginar tal feito. O naufrågio do Titanic se mostrou um excelente instrumento de análise para evidenciar, na prática, uma pequena parcela do poder oferecido pelo ferramental da ciência de dados\n",
    " \n",
    "Através da união entre conceitos estatísticos, probabilísticos, computacionais e de entendimento do caso estudado, foi possível concluir que as maiores chances de sobrevivência estavam em nichos específicos de passageiros que contemplavam, por exemplo, o genêro feminino, a classe econômica alta, as menores faixas etárias e até mesmo o porto de embarque.\n",
    " \n",
    "Em cada um dos respectivos tópicos, foi possível discorrer sobre os principais motivos que poderiam servir como justificativas para os resultados obtidos. O levantamento de hipóteses, como a possível dificuldade encontrada por idosos ou a possível prioridade à passageiros de classes econômicas mais altas, por exemplo, somente foi possível com uma investigação direcionada na base de dados oferecida, aplicando conceitos de limpeza, preparação, transformação e análise.\n",
    "\n",
    "As plotagens gráficas e tabelas presentes nesse relatório foram desenvolvidas visando a simplicidade e coerência dos fatos apresentados, sempre procurando transmitir o impacto adequado causado pelo tratamento puro dos dados, sendo este realizado nos bastidores do código.\n",
    "\n",
    "Por fim, e nao menos importante, as conclusões obtidas com relação as chances de sobrevivência em cada um dos tópicos estudados ocasionaram não somente um maior entendimento sobre as ferramentas de analise de dados, mas tambem contribuíram para um enriquecimento histórico-pessoal, uma vez que os insights obtidos com a presente análise poderão ser comunicados à qualquer pessoa que já tenha ouvido falar sobre o navio Titanic.\n"
   ]
  },
  {
   "cell_type": "markdown",
   "metadata": {},
   "source": [
    "As plotagens gráficas e tabelas presentes nesse relatório foram desenvolvidas visando a simplicidade e coerência dos fatos apresentados, sempre procurando transmitir o impacto adequado causado pelo tratamento puro dos dados realizado nos bastidores do código. Com tais ferramentas foi possível concluir:\n",
    "\n",
    "* Gênero: 74\\% das mulheres sobreviverem e, do outro lado, apenas 19\\% dos homens;\n",
    "* Classe Econômica: tem-se, na Classe Alta, 63\\% de sobreviventes contra 47\\% e 24\\% nas classes Média e Baixa, respectivamente;\n",
    "* Faixa Etária: Crianças (até 21 anos) com 43\\% de sobrevivência, Adultos (de 21 a 50 anos) com 38\\% e, por fim, Idosos (acima de 50 anos) com 30\\% de sobrevivência;\n",
    "* Porto de Embarque: Dos passageiros que embarcaram em Cherbourg, 56\\% sobreviveram contra 39\\% em Queenstown e 34\\% em Southampton;\n",
    "\n",
    "Alguns fatores que explicam tais índices giram em torno da prioridade de resgate dada a grupos específicos, como passageiros de Classe Alta, Mulheres e Crianças, por exemplo, ou até mesmo a localizações privilegiadas dentro do navio.\n"
   ]
  },
  {
   "cell_type": "markdown",
   "metadata": {},
   "source": [
    "### Limitações"
   ]
  },
  {
   "cell_type": "markdown",
   "metadata": {},
   "source": [
    "Durante a execução do projeto, foram enfrentados diversos desafios e superados vários obstáculos. O primeiro ponto a ser destacado tem relação com o grande número de dados faltantes em certas colunas do Dataset, como Age, Cabin e Embarked. Este foi um ponto crucial pois fez-se necessária uma minuciosa análise nas consequências das possíveis ações a serem tomadas.\n",
    "\n",
    "Com relação a coluna Cabin, foi decidido pela sua exclusão, visto que as hipóteses levantadas, para o escopo deste trabalho, não a levavam em consideração como instrumento influenciador na taxa de sobreviventes do naufrágio Titanic. Já para a coluna Age, por sua vez, decidiu-se pelo preenchimento dos valores faltantes através da média do atributo. Em Embarked, foi realizada uma investigação levando em conta as características principais dos passageiros com este dado faltante. \n",
    "\n",
    "As plotagens gráficas também representaram grandes desafios. Algumas apresentam certa complexididade e só foram possíveis através de árduas pesquisas e testes afim de posicionar e apresentar os elementos da melhor forma possível.\n",
    "\n",
    "Para uma análise coerente do atributo Age, decidiu-se pelo agrupamento dos dados em faixas etárias representando, assim, grupos descritos por Crianças, Adultos e Idosos. A criação de uma nova coluna no Dataset se fez necessária para o armazenamento destes dados."
   ]
  },
  {
   "cell_type": "code",
   "execution_count": null,
   "metadata": {},
   "outputs": [],
   "source": []
  }
 ],
 "metadata": {
  "kernelspec": {
   "display_name": "Python 3",
   "language": "python",
   "name": "python3"
  },
  "language_info": {
   "codemirror_mode": {
    "name": "ipython",
    "version": 3
   },
   "file_extension": ".py",
   "mimetype": "text/x-python",
   "name": "python",
   "nbconvert_exporter": "python",
   "pygments_lexer": "ipython3",
   "version": "3.6.4"
  },
  "toc": {
   "base_numbering": 1,
   "nav_menu": {},
   "number_sections": true,
   "sideBar": true,
   "skip_h1_title": false,
   "title_cell": "Table of Contents",
   "title_sidebar": "Contents",
   "toc_cell": false,
   "toc_position": {},
   "toc_section_display": true,
   "toc_window_display": true
  }
 },
 "nbformat": 4,
 "nbformat_minor": 2
}
