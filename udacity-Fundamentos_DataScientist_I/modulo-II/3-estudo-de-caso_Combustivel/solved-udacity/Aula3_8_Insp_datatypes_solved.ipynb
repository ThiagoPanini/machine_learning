{
 "cells": [
  {
   "cell_type": "markdown",
   "metadata": {
    "collapsed": true
   },
   "source": [
    "# Inspecionando tipos de dados\n",
    "Use o espaço abaixo para explorar os arquivos `data_08.csv` e `data_18.csv` para responder às perguntas do teste abaixo sobre tipos de dados."
   ]
  },
  {
   "cell_type": "code",
   "execution_count": 1,
   "metadata": {},
   "outputs": [],
   "source": [
    "import pandas as pd\n",
    "df_08 = pd.read_csv(\"data_08.csv\")\n",
    "df_18 = pd.read_csv(\"data_18.csv\")"
   ]
  },
  {
   "cell_type": "code",
   "execution_count": 6,
   "metadata": {},
   "outputs": [
    {
     "name": "stdout",
     "output_type": "stream",
     "text": [
      "Cyl em 08:<class 'str'> \n",
      "Cyl em 18: <class 'numpy.float64'>\n"
     ]
    }
   ],
   "source": [
    "#Quais das mudanças a seguir podem ser feitas à coluna “cyl.” nos dois conjuntos de dados de forma clara e consistente?\n",
    "print(\"Cyl em 08:{0} \\nCyl em 18: {1}\".format(\n",
    "        type(df_08['cyl'][0]), type(df_18['cyl'][0])))"
   ]
  },
  {
   "cell_type": "code",
   "execution_count": 7,
   "metadata": {},
   "outputs": [
    {
     "name": "stdout",
     "output_type": "stream",
     "text": [
      "Air Pollution em 08:<class 'str'> \n",
      "Air Pollution em 18: <class 'numpy.int64'>\n"
     ]
    }
   ],
   "source": [
    "# Quais das mudanças a seguir podem ser feitas à coluna “air_pollution_score” nos dois conjuntos de dados de forma clara e consistente?\n",
    "print(\"Air Pollution em 08:{0} \\nAir Pollution em 18: {1}\".format(\n",
    "        type(df_08['air_pollution_score'][0]), type(df_18['air_pollution_score'][0])))\n"
   ]
  },
  {
   "cell_type": "code",
   "execution_count": 8,
   "metadata": {},
   "outputs": [
    {
     "name": "stdout",
     "output_type": "stream",
     "text": [
      "City Mpg em 08:<class 'str'> \n",
      "City Mpg em 18: <class 'str'>\n"
     ]
    }
   ],
   "source": [
    "# Quais dos atributos a seguir precisam ser transformados de strings em floats?\n",
    "print(\"City Mpg em 08:{0} \\nCity Mpg em 18: {1}\".format(\n",
    "        type(df_08['city_mpg'][0]), type(df_18['city_mpg'][0])))"
   ]
  },
  {
   "cell_type": "code",
   "execution_count": 9,
   "metadata": {},
   "outputs": [
    {
     "name": "stdout",
     "output_type": "stream",
     "text": [
      "Hwy Mpg em 08:<class 'str'> \n",
      "Hwy Mpg em 18: <class 'str'>\n"
     ]
    }
   ],
   "source": [
    "print(\"Hwy Mpg em 08:{0} \\nHwy Mpg em 18: {1}\".format(\n",
    "        type(df_08['hwy_mpg'][0]), type(df_18['hwy_mpg'][0])))"
   ]
  },
  {
   "cell_type": "code",
   "execution_count": 10,
   "metadata": {},
   "outputs": [
    {
     "name": "stdout",
     "output_type": "stream",
     "text": [
      "Cmb Mpg em 08:<class 'str'> \n",
      "Cmb Mpg em 18: <class 'str'>\n"
     ]
    }
   ],
   "source": [
    "print(\"Cmb Mpg em 08:{0} \\nCmb Mpg em 18: {1}\".format(\n",
    "        type(df_08['cmb_mpg'][0]), type(df_18['cmb_mpg'][0])))"
   ]
  },
  {
   "cell_type": "code",
   "execution_count": 11,
   "metadata": {},
   "outputs": [
    {
     "name": "stdout",
     "output_type": "stream",
     "text": [
      "Greenhouse Gas em 08:<class 'str'> \n",
      "Greenhouse Gas em 18: <class 'numpy.int64'>\n"
     ]
    }
   ],
   "source": [
    "# Quais mudanças precisam ser feitas para deixar a coluna “greenhouse_gas_score” consistente nos dois conjuntos de dados?\n",
    "print(\"Greenhouse Gas em 08:{0} \\nGreenhouse Gas em 18: {1}\".format(\n",
    "        type(df_08['greenhouse_gas_score'][0]), type(df_18['greenhouse_gas_score'][0])))"
   ]
  },
  {
   "cell_type": "code",
   "execution_count": null,
   "metadata": {},
   "outputs": [],
   "source": []
  }
 ],
 "metadata": {
  "kernelspec": {
   "display_name": "Python 3",
   "language": "python",
   "name": "python3"
  },
  "language_info": {
   "codemirror_mode": {
    "name": "ipython",
    "version": 3
   },
   "file_extension": ".py",
   "mimetype": "text/x-python",
   "name": "python",
   "nbconvert_exporter": "python",
   "pygments_lexer": "ipython3",
   "version": "3.6.4"
  },
  "toc": {
   "base_numbering": 1,
   "nav_menu": {},
   "number_sections": true,
   "sideBar": true,
   "skip_h1_title": false,
   "title_cell": "Table of Contents",
   "title_sidebar": "Contents",
   "toc_cell": false,
   "toc_position": {},
   "toc_section_display": true,
   "toc_window_display": false
  }
 },
 "nbformat": 4,
 "nbformat_minor": 2
}
