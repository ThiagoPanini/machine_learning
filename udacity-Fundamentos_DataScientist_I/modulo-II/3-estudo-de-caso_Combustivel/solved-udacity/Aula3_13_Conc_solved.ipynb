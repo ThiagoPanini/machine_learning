{
 "cells": [
  {
   "cell_type": "markdown",
   "metadata": {
    "colab_type": "text",
    "id": "t4_2nZC7kf-6"
   },
   "source": [
    "# Tirando conclusões\n",
    "Use o espaço abaixo para resolver questões sobre os conjuntos de dados `clean_08.csv` e `clean_18.csv`"
   ]
  },
  {
   "cell_type": "code",
   "execution_count": 0,
   "metadata": {
    "colab": {
     "autoexec": {
      "startup": false,
      "wait_interval": 0
     }
    },
    "colab_type": "code",
    "id": "HCZF7a16kf-7"
   },
   "outputs": [],
   "source": [
    "# carregue os conjuntos de dados\n",
    "import pandas as pd\n",
    "\n",
    "df_08 = pd.read_csv('clean_08.csv')\n",
    "df_18 = pd.read_csv('clean_18.csv')"
   ]
  },
  {
   "cell_type": "markdown",
   "metadata": {
    "colab_type": "text",
    "id": "U6fu1DT_kf-_"
   },
   "source": [
    "### Q1: Existem mais modelos únicos usando fontes alternativas de combustível? Em qual proporção?"
   ]
  },
  {
   "cell_type": "code",
   "execution_count": 0,
   "metadata": {
    "colab": {
     "autoexec": {
      "startup": false,
      "wait_interval": 0
     },
     "output_extras": [
      {}
     ]
    },
    "colab_type": "code",
    "id": "jRXOM0BEkf_A",
    "outputId": "ccd93c19-34ce-48c3-87a1-e0119086d6e3"
   },
   "outputs": [
    {
     "data": {
      "text/plain": [
       "array(['Gasoline', 'CNG', 'ethanol', 'gas'], dtype=object)"
      ]
     },
     "execution_count": 2,
     "metadata": {
      "tags": []
     },
     "output_type": "execute_result"
    }
   ],
   "source": [
    "df_08['fuel'].unique()"
   ]
  },
  {
   "cell_type": "code",
   "execution_count": 0,
   "metadata": {
    "colab": {
     "autoexec": {
      "startup": false,
      "wait_interval": 0
     }
    },
    "colab_type": "code",
    "id": "9STT82Tukf_H"
   },
   "outputs": [],
   "source": [
    "fuel_08 = df_08['fuel'].unique()\n",
    "fuel_18 = df_18['fuel'].unique()"
   ]
  },
  {
   "cell_type": "code",
   "execution_count": 0,
   "metadata": {
    "colab": {
     "autoexec": {
      "startup": false,
      "wait_interval": 0
     },
     "output_extras": [
      {}
     ]
    },
    "colab_type": "code",
    "id": "mwWN74PXkf_J",
    "outputId": "d0866193-fb9f-4fcd-aff0-b45550466666"
   },
   "outputs": [
    {
     "name": "stdout",
     "output_type": "stream",
     "text": [
      "08\n",
      "Combustível: Gasoline Quantidade: 0.9969604863221885\n",
      "Combustível: CNG Quantidade: 0.0010131712259371835\n",
      "Combustível: ethanol Quantidade: 0.0010131712259371835\n",
      "Combustível: gas Quantidade: 0.0010131712259371835\n",
      "18\n",
      "Combustível: Gasoline Quantidade: 0.9002403846153846\n",
      "Combustível: Diesel Quantidade: 0.02283653846153846\n",
      "Combustível: Ethanol Quantidade: 0.03125\n",
      "Combustível: Electricity Quantidade: 0.014423076923076924\n",
      "Combustível: Gas Quantidade: 0.03125\n"
     ]
    }
   ],
   "source": [
    "def calc_fuel_prop(df):\n",
    "    \n",
    "    fuels = df['fuel'].unique()\n",
    "    for fuel in fuels:\n",
    "        total = df.shape[0]\n",
    "        print('Combustível: {0} Quantidade: {1}'.format(\n",
    "                fuel, df.query(\"fuel == @fuel\")['fuel'].count()/total))\n",
    "\n",
    "print(\"08\")\n",
    "calc_fuel_prop(df_08)\n",
    "print(\"18\")\n",
    "calc_fuel_prop(df_18)"
   ]
  },
  {
   "cell_type": "markdown",
   "metadata": {
    "colab_type": "text",
    "id": "BIZtkVm-kf_N"
   },
   "source": [
    "### Q2: Qual foi o nível de melhoria das classes de veículo no quesito \"economia de combustível\"?"
   ]
  },
  {
   "cell_type": "code",
   "execution_count": 0,
   "metadata": {
    "colab": {
     "autoexec": {
      "startup": false,
      "wait_interval": 0
     },
     "output_extras": [
      {}
     ]
    },
    "colab_type": "code",
    "id": "HSu6EL3tkf_N",
    "outputId": "f79583de-7e8b-4f46-a411-f15c4cc15501"
   },
   "outputs": [
    {
     "name": "stdout",
     "output_type": "stream",
     "text": [
      "Classe: small SUV Variação: 0.0\n",
      "Classe: small car Variação: 1.168421052631579\n",
      "Classe: midsize car Variação: 1.0\n",
      "Classe: large car Variação: 0.625\n",
      "Classe: standard SUV Variação: 0.0\n",
      "Classe: station wagon Variação: 1.7647058823529411\n",
      "Classe: pickup Variação: 1.064102564102564\n",
      "Classe: special purpose Variação: 0.0\n",
      "Classe: minivan Variação: 3.4\n"
     ]
    }
   ],
   "source": [
    "def calc_veh_fuel(df1, df2):\n",
    "    \n",
    "    classes = df2['veh_class'].unique()\n",
    "    for v_class in classes:\n",
    "        print('Classe: {0} Variação: {1}'.format(\n",
    "                v_class, df1.query(\"veh_class == @v_class\")['veh_class'].count()/\n",
    "                         df2.query(\"veh_class == @v_class\")['veh_class'].count()))\n",
    "\n",
    "calc_veh_fuel(df_08, df_18)\n"
   ]
  },
  {
   "cell_type": "markdown",
   "metadata": {
    "colab_type": "text",
    "id": "Tqo00fFpkf_Q"
   },
   "source": [
    "### Q3: Quais são as características dos veículos SmartWay? Elas mudaram com o tempo?"
   ]
  },
  {
   "cell_type": "code",
   "execution_count": 0,
   "metadata": {
    "colab": {
     "autoexec": {
      "startup": false,
      "wait_interval": 0
     },
     "output_extras": [
      {}
     ]
    },
    "colab_type": "code",
    "id": "70AURsJekf_R",
    "outputId": "a63ddd55-bf8e-43fb-88df-0242c3ef6311"
   },
   "outputs": [
    {
     "data": {
      "text/html": [
       "<div>\n",
       "<style>\n",
       "    .dataframe thead tr:only-child th {\n",
       "        text-align: right;\n",
       "    }\n",
       "\n",
       "    .dataframe thead th {\n",
       "        text-align: left;\n",
       "    }\n",
       "\n",
       "    .dataframe tbody tr th {\n",
       "        vertical-align: top;\n",
       "    }\n",
       "</style>\n",
       "<table border=\"1\" class=\"dataframe\">\n",
       "  <thead>\n",
       "    <tr>\n",
       "      <th></th>\n",
       "      <th colspan=\"8\" halign=\"left\">air_pollution_score</th>\n",
       "      <th colspan=\"2\" halign=\"left\">city_mpg</th>\n",
       "      <th>...</th>\n",
       "      <th colspan=\"2\" halign=\"left\">greenhouse_gas_score</th>\n",
       "      <th colspan=\"8\" halign=\"left\">hwy_mpg</th>\n",
       "    </tr>\n",
       "    <tr>\n",
       "      <th></th>\n",
       "      <th>count</th>\n",
       "      <th>mean</th>\n",
       "      <th>std</th>\n",
       "      <th>min</th>\n",
       "      <th>25%</th>\n",
       "      <th>50%</th>\n",
       "      <th>75%</th>\n",
       "      <th>max</th>\n",
       "      <th>count</th>\n",
       "      <th>mean</th>\n",
       "      <th>...</th>\n",
       "      <th>75%</th>\n",
       "      <th>max</th>\n",
       "      <th>count</th>\n",
       "      <th>mean</th>\n",
       "      <th>std</th>\n",
       "      <th>min</th>\n",
       "      <th>25%</th>\n",
       "      <th>50%</th>\n",
       "      <th>75%</th>\n",
       "      <th>max</th>\n",
       "    </tr>\n",
       "    <tr>\n",
       "      <th>smartway</th>\n",
       "      <th></th>\n",
       "      <th></th>\n",
       "      <th></th>\n",
       "      <th></th>\n",
       "      <th></th>\n",
       "      <th></th>\n",
       "      <th></th>\n",
       "      <th></th>\n",
       "      <th></th>\n",
       "      <th></th>\n",
       "      <th></th>\n",
       "      <th></th>\n",
       "      <th></th>\n",
       "      <th></th>\n",
       "      <th></th>\n",
       "      <th></th>\n",
       "      <th></th>\n",
       "      <th></th>\n",
       "      <th></th>\n",
       "      <th></th>\n",
       "      <th></th>\n",
       "    </tr>\n",
       "  </thead>\n",
       "  <tbody>\n",
       "    <tr>\n",
       "      <th>no</th>\n",
       "      <td>607.0</td>\n",
       "      <td>6.293245</td>\n",
       "      <td>0.551479</td>\n",
       "      <td>4.0</td>\n",
       "      <td>6.0</td>\n",
       "      <td>6.0</td>\n",
       "      <td>7.0</td>\n",
       "      <td>9.5</td>\n",
       "      <td>607.0</td>\n",
       "      <td>15.133443</td>\n",
       "      <td>...</td>\n",
       "      <td>5.0</td>\n",
       "      <td>7.0</td>\n",
       "      <td>607.0</td>\n",
       "      <td>21.299835</td>\n",
       "      <td>3.366852</td>\n",
       "      <td>13.0</td>\n",
       "      <td>19.0</td>\n",
       "      <td>21.0</td>\n",
       "      <td>24.0</td>\n",
       "      <td>28.0</td>\n",
       "    </tr>\n",
       "    <tr>\n",
       "      <th>yes</th>\n",
       "      <td>380.0</td>\n",
       "      <td>7.365789</td>\n",
       "      <td>1.148195</td>\n",
       "      <td>6.0</td>\n",
       "      <td>7.0</td>\n",
       "      <td>7.0</td>\n",
       "      <td>7.0</td>\n",
       "      <td>9.5</td>\n",
       "      <td>380.0</td>\n",
       "      <td>20.984211</td>\n",
       "      <td>...</td>\n",
       "      <td>7.0</td>\n",
       "      <td>10.0</td>\n",
       "      <td>380.0</td>\n",
       "      <td>28.413158</td>\n",
       "      <td>3.075194</td>\n",
       "      <td>22.0</td>\n",
       "      <td>26.0</td>\n",
       "      <td>28.0</td>\n",
       "      <td>30.0</td>\n",
       "      <td>45.0</td>\n",
       "    </tr>\n",
       "  </tbody>\n",
       "</table>\n",
       "<p>2 rows × 56 columns</p>\n",
       "</div>"
      ],
      "text/plain": [
       "         air_pollution_score                                               \\\n",
       "                       count      mean       std  min  25%  50%  75%  max   \n",
       "smartway                                                                    \n",
       "no                     607.0  6.293245  0.551479  4.0  6.0  6.0  7.0  9.5   \n",
       "yes                    380.0  7.365789  1.148195  6.0  7.0  7.0  7.0  9.5   \n",
       "\n",
       "         city_mpg             ...  greenhouse_gas_score       hwy_mpg  \\\n",
       "            count       mean  ...                   75%   max   count   \n",
       "smartway                      ...                                       \n",
       "no          607.0  15.133443  ...                   5.0   7.0   607.0   \n",
       "yes         380.0  20.984211  ...                   7.0  10.0   380.0   \n",
       "\n",
       "                                                             \n",
       "               mean       std   min   25%   50%   75%   max  \n",
       "smartway                                                     \n",
       "no        21.299835  3.366852  13.0  19.0  21.0  24.0  28.0  \n",
       "yes       28.413158  3.075194  22.0  26.0  28.0  30.0  45.0  \n",
       "\n",
       "[2 rows x 56 columns]"
      ]
     },
     "execution_count": 6,
     "metadata": {
      "tags": []
     },
     "output_type": "execute_result"
    }
   ],
   "source": [
    "df_08.groupby(\"smartway\").describe()"
   ]
  },
  {
   "cell_type": "code",
   "execution_count": 0,
   "metadata": {
    "colab": {
     "autoexec": {
      "startup": false,
      "wait_interval": 0
     },
     "output_extras": [
      {}
     ]
    },
    "colab_type": "code",
    "id": "9oQhkg08kf_U",
    "outputId": "f2eb62f1-cb72-47ff-9223-b3335b20a224"
   },
   "outputs": [
    {
     "data": {
      "text/html": [
       "<div>\n",
       "<style>\n",
       "    .dataframe thead tr:only-child th {\n",
       "        text-align: right;\n",
       "    }\n",
       "\n",
       "    .dataframe thead th {\n",
       "        text-align: left;\n",
       "    }\n",
       "\n",
       "    .dataframe tbody tr th {\n",
       "        vertical-align: top;\n",
       "    }\n",
       "</style>\n",
       "<table border=\"1\" class=\"dataframe\">\n",
       "  <thead>\n",
       "    <tr>\n",
       "      <th></th>\n",
       "      <th colspan=\"8\" halign=\"left\">air_pollution_score</th>\n",
       "      <th colspan=\"2\" halign=\"left\">city_mpg</th>\n",
       "      <th>...</th>\n",
       "      <th colspan=\"2\" halign=\"left\">greenhouse_gas_score</th>\n",
       "      <th colspan=\"8\" halign=\"left\">hwy_mpg</th>\n",
       "    </tr>\n",
       "    <tr>\n",
       "      <th></th>\n",
       "      <th>count</th>\n",
       "      <th>mean</th>\n",
       "      <th>std</th>\n",
       "      <th>min</th>\n",
       "      <th>25%</th>\n",
       "      <th>50%</th>\n",
       "      <th>75%</th>\n",
       "      <th>max</th>\n",
       "      <th>count</th>\n",
       "      <th>mean</th>\n",
       "      <th>...</th>\n",
       "      <th>75%</th>\n",
       "      <th>max</th>\n",
       "      <th>count</th>\n",
       "      <th>mean</th>\n",
       "      <th>std</th>\n",
       "      <th>min</th>\n",
       "      <th>25%</th>\n",
       "      <th>50%</th>\n",
       "      <th>75%</th>\n",
       "      <th>max</th>\n",
       "    </tr>\n",
       "    <tr>\n",
       "      <th>smartway</th>\n",
       "      <th></th>\n",
       "      <th></th>\n",
       "      <th></th>\n",
       "      <th></th>\n",
       "      <th></th>\n",
       "      <th></th>\n",
       "      <th></th>\n",
       "      <th></th>\n",
       "      <th></th>\n",
       "      <th></th>\n",
       "      <th></th>\n",
       "      <th></th>\n",
       "      <th></th>\n",
       "      <th></th>\n",
       "      <th></th>\n",
       "      <th></th>\n",
       "      <th></th>\n",
       "      <th></th>\n",
       "      <th></th>\n",
       "      <th></th>\n",
       "      <th></th>\n",
       "    </tr>\n",
       "  </thead>\n",
       "  <tbody>\n",
       "    <tr>\n",
       "      <th>Elite</th>\n",
       "      <td>17.0</td>\n",
       "      <td>7.000000</td>\n",
       "      <td>0.000000</td>\n",
       "      <td>7.0</td>\n",
       "      <td>7.0</td>\n",
       "      <td>7.0</td>\n",
       "      <td>7.0</td>\n",
       "      <td>7.0</td>\n",
       "      <td>17.0</td>\n",
       "      <td>53.235294</td>\n",
       "      <td>...</td>\n",
       "      <td>10.0</td>\n",
       "      <td>10.0</td>\n",
       "      <td>17.0</td>\n",
       "      <td>53.117647</td>\n",
       "      <td>21.854297</td>\n",
       "      <td>28.0</td>\n",
       "      <td>33.0</td>\n",
       "      <td>47.0</td>\n",
       "      <td>68.0</td>\n",
       "      <td>99.0</td>\n",
       "    </tr>\n",
       "    <tr>\n",
       "      <th>No</th>\n",
       "      <td>724.0</td>\n",
       "      <td>3.798343</td>\n",
       "      <td>1.746982</td>\n",
       "      <td>1.0</td>\n",
       "      <td>3.0</td>\n",
       "      <td>3.0</td>\n",
       "      <td>5.0</td>\n",
       "      <td>7.0</td>\n",
       "      <td>724.0</td>\n",
       "      <td>19.325967</td>\n",
       "      <td>...</td>\n",
       "      <td>5.0</td>\n",
       "      <td>10.0</td>\n",
       "      <td>724.0</td>\n",
       "      <td>26.708564</td>\n",
       "      <td>5.073390</td>\n",
       "      <td>12.0</td>\n",
       "      <td>23.0</td>\n",
       "      <td>27.0</td>\n",
       "      <td>30.0</td>\n",
       "      <td>61.0</td>\n",
       "    </tr>\n",
       "    <tr>\n",
       "      <th>Yes</th>\n",
       "      <td>91.0</td>\n",
       "      <td>4.879121</td>\n",
       "      <td>1.769087</td>\n",
       "      <td>3.0</td>\n",
       "      <td>3.0</td>\n",
       "      <td>5.0</td>\n",
       "      <td>7.0</td>\n",
       "      <td>7.0</td>\n",
       "      <td>91.0</td>\n",
       "      <td>31.483516</td>\n",
       "      <td>...</td>\n",
       "      <td>8.0</td>\n",
       "      <td>10.0</td>\n",
       "      <td>91.0</td>\n",
       "      <td>39.296703</td>\n",
       "      <td>9.410980</td>\n",
       "      <td>27.0</td>\n",
       "      <td>36.0</td>\n",
       "      <td>37.0</td>\n",
       "      <td>40.0</td>\n",
       "      <td>99.0</td>\n",
       "    </tr>\n",
       "  </tbody>\n",
       "</table>\n",
       "<p>3 rows × 56 columns</p>\n",
       "</div>"
      ],
      "text/plain": [
       "         air_pollution_score                                               \\\n",
       "                       count      mean       std  min  25%  50%  75%  max   \n",
       "smartway                                                                    \n",
       "Elite                   17.0  7.000000  0.000000  7.0  7.0  7.0  7.0  7.0   \n",
       "No                     724.0  3.798343  1.746982  1.0  3.0  3.0  5.0  7.0   \n",
       "Yes                     91.0  4.879121  1.769087  3.0  3.0  5.0  7.0  7.0   \n",
       "\n",
       "         city_mpg             ...  greenhouse_gas_score       hwy_mpg  \\\n",
       "            count       mean  ...                   75%   max   count   \n",
       "smartway                      ...                                       \n",
       "Elite        17.0  53.235294  ...                  10.0  10.0    17.0   \n",
       "No          724.0  19.325967  ...                   5.0  10.0   724.0   \n",
       "Yes          91.0  31.483516  ...                   8.0  10.0    91.0   \n",
       "\n",
       "                                                              \n",
       "               mean        std   min   25%   50%   75%   max  \n",
       "smartway                                                      \n",
       "Elite     53.117647  21.854297  28.0  33.0  47.0  68.0  99.0  \n",
       "No        26.708564   5.073390  12.0  23.0  27.0  30.0  61.0  \n",
       "Yes       39.296703   9.410980  27.0  36.0  37.0  40.0  99.0  \n",
       "\n",
       "[3 rows x 56 columns]"
      ]
     },
     "execution_count": 7,
     "metadata": {
      "tags": []
     },
     "output_type": "execute_result"
    }
   ],
   "source": [
    "df_18.groupby(\"smartway\").describe()"
   ]
  },
  {
   "cell_type": "markdown",
   "metadata": {
    "colab_type": "text",
    "id": "LS3n0OC9kf_X"
   },
   "source": [
    "### Q4: Quais características estão associadas à uma maior economia de combustível?"
   ]
  },
  {
   "cell_type": "code",
   "execution_count": 0,
   "metadata": {
    "colab": {
     "autoexec": {
      "startup": false,
      "wait_interval": 0
     },
     "output_extras": [
      {}
     ]
    },
    "colab_type": "code",
    "id": "e8DtYy8ykf_Y",
    "outputId": "26dd2bf3-8f4b-4e6f-9aaf-a19c24910aa0"
   },
   "outputs": [
    {
     "data": {
      "text/html": [
       "<div>\n",
       "<style>\n",
       "    .dataframe thead tr:only-child th {\n",
       "        text-align: right;\n",
       "    }\n",
       "\n",
       "    .dataframe thead th {\n",
       "        text-align: left;\n",
       "    }\n",
       "\n",
       "    .dataframe tbody tr th {\n",
       "        vertical-align: top;\n",
       "    }\n",
       "</style>\n",
       "<table border=\"1\" class=\"dataframe\">\n",
       "  <thead>\n",
       "    <tr style=\"text-align: right;\">\n",
       "      <th></th>\n",
       "      <th>displ</th>\n",
       "      <th>cyl</th>\n",
       "      <th>air_pollution_score</th>\n",
       "      <th>city_mpg</th>\n",
       "      <th>hwy_mpg</th>\n",
       "      <th>cmb_mpg</th>\n",
       "      <th>greenhouse_gas_score</th>\n",
       "    </tr>\n",
       "  </thead>\n",
       "  <tbody>\n",
       "    <tr>\n",
       "      <th>displ</th>\n",
       "      <td>1.000000</td>\n",
       "      <td>0.899304</td>\n",
       "      <td>-0.289993</td>\n",
       "      <td>-0.790440</td>\n",
       "      <td>-0.801678</td>\n",
       "      <td>-0.818799</td>\n",
       "      <td>-0.847613</td>\n",
       "    </tr>\n",
       "    <tr>\n",
       "      <th>cyl</th>\n",
       "      <td>0.899304</td>\n",
       "      <td>1.000000</td>\n",
       "      <td>-0.270417</td>\n",
       "      <td>-0.756304</td>\n",
       "      <td>-0.733064</td>\n",
       "      <td>-0.770538</td>\n",
       "      <td>-0.820940</td>\n",
       "    </tr>\n",
       "    <tr>\n",
       "      <th>air_pollution_score</th>\n",
       "      <td>-0.289993</td>\n",
       "      <td>-0.270417</td>\n",
       "      <td>1.000000</td>\n",
       "      <td>0.432434</td>\n",
       "      <td>0.400708</td>\n",
       "      <td>0.425784</td>\n",
       "      <td>0.388444</td>\n",
       "    </tr>\n",
       "    <tr>\n",
       "      <th>city_mpg</th>\n",
       "      <td>-0.790440</td>\n",
       "      <td>-0.756304</td>\n",
       "      <td>0.432434</td>\n",
       "      <td>1.000000</td>\n",
       "      <td>0.902942</td>\n",
       "      <td>0.980891</td>\n",
       "      <td>0.910693</td>\n",
       "    </tr>\n",
       "    <tr>\n",
       "      <th>hwy_mpg</th>\n",
       "      <td>-0.801678</td>\n",
       "      <td>-0.733064</td>\n",
       "      <td>0.400708</td>\n",
       "      <td>0.902942</td>\n",
       "      <td>1.000000</td>\n",
       "      <td>0.960533</td>\n",
       "      <td>0.931744</td>\n",
       "    </tr>\n",
       "    <tr>\n",
       "      <th>cmb_mpg</th>\n",
       "      <td>-0.818799</td>\n",
       "      <td>-0.770538</td>\n",
       "      <td>0.425784</td>\n",
       "      <td>0.980891</td>\n",
       "      <td>0.960533</td>\n",
       "      <td>1.000000</td>\n",
       "      <td>0.947607</td>\n",
       "    </tr>\n",
       "    <tr>\n",
       "      <th>greenhouse_gas_score</th>\n",
       "      <td>-0.847613</td>\n",
       "      <td>-0.820940</td>\n",
       "      <td>0.388444</td>\n",
       "      <td>0.910693</td>\n",
       "      <td>0.931744</td>\n",
       "      <td>0.947607</td>\n",
       "      <td>1.000000</td>\n",
       "    </tr>\n",
       "  </tbody>\n",
       "</table>\n",
       "</div>"
      ],
      "text/plain": [
       "                         displ       cyl  air_pollution_score  city_mpg  \\\n",
       "displ                 1.000000  0.899304            -0.289993 -0.790440   \n",
       "cyl                   0.899304  1.000000            -0.270417 -0.756304   \n",
       "air_pollution_score  -0.289993 -0.270417             1.000000  0.432434   \n",
       "city_mpg             -0.790440 -0.756304             0.432434  1.000000   \n",
       "hwy_mpg              -0.801678 -0.733064             0.400708  0.902942   \n",
       "cmb_mpg              -0.818799 -0.770538             0.425784  0.980891   \n",
       "greenhouse_gas_score -0.847613 -0.820940             0.388444  0.910693   \n",
       "\n",
       "                       hwy_mpg   cmb_mpg  greenhouse_gas_score  \n",
       "displ                -0.801678 -0.818799             -0.847613  \n",
       "cyl                  -0.733064 -0.770538             -0.820940  \n",
       "air_pollution_score   0.400708  0.425784              0.388444  \n",
       "city_mpg              0.902942  0.980891              0.910693  \n",
       "hwy_mpg               1.000000  0.960533              0.931744  \n",
       "cmb_mpg               0.960533  1.000000              0.947607  \n",
       "greenhouse_gas_score  0.931744  0.947607              1.000000  "
      ]
     },
     "execution_count": 8,
     "metadata": {
      "tags": []
     },
     "output_type": "execute_result"
    }
   ],
   "source": [
    "df_08.corr()"
   ]
  },
  {
   "cell_type": "code",
   "execution_count": 0,
   "metadata": {
    "colab": {
     "autoexec": {
      "startup": false,
      "wait_interval": 0
     },
     "output_extras": [
      {}
     ]
    },
    "colab_type": "code",
    "id": "ig1lwh_9kf_c",
    "outputId": "6390a5cc-d084-452e-9ee9-4d73fe9704bf"
   },
   "outputs": [
    {
     "data": {
      "text/html": [
       "<div>\n",
       "<style>\n",
       "    .dataframe thead tr:only-child th {\n",
       "        text-align: right;\n",
       "    }\n",
       "\n",
       "    .dataframe thead th {\n",
       "        text-align: left;\n",
       "    }\n",
       "\n",
       "    .dataframe tbody tr th {\n",
       "        vertical-align: top;\n",
       "    }\n",
       "</style>\n",
       "<table border=\"1\" class=\"dataframe\">\n",
       "  <thead>\n",
       "    <tr style=\"text-align: right;\">\n",
       "      <th></th>\n",
       "      <th>displ</th>\n",
       "      <th>cyl</th>\n",
       "      <th>air_pollution_score</th>\n",
       "      <th>city_mpg</th>\n",
       "      <th>hwy_mpg</th>\n",
       "      <th>cmb_mpg</th>\n",
       "      <th>greenhouse_gas_score</th>\n",
       "    </tr>\n",
       "  </thead>\n",
       "  <tbody>\n",
       "    <tr>\n",
       "      <th>displ</th>\n",
       "      <td>1.000000</td>\n",
       "      <td>0.928189</td>\n",
       "      <td>-0.384986</td>\n",
       "      <td>-0.536748</td>\n",
       "      <td>-0.605202</td>\n",
       "      <td>-0.574880</td>\n",
       "      <td>-0.754193</td>\n",
       "    </tr>\n",
       "    <tr>\n",
       "      <th>cyl</th>\n",
       "      <td>0.928189</td>\n",
       "      <td>1.000000</td>\n",
       "      <td>-0.404966</td>\n",
       "      <td>-0.524090</td>\n",
       "      <td>-0.589986</td>\n",
       "      <td>-0.561166</td>\n",
       "      <td>-0.743946</td>\n",
       "    </tr>\n",
       "    <tr>\n",
       "      <th>air_pollution_score</th>\n",
       "      <td>-0.384986</td>\n",
       "      <td>-0.404966</td>\n",
       "      <td>1.000000</td>\n",
       "      <td>0.288700</td>\n",
       "      <td>0.309338</td>\n",
       "      <td>0.301150</td>\n",
       "      <td>0.390771</td>\n",
       "    </tr>\n",
       "    <tr>\n",
       "      <th>city_mpg</th>\n",
       "      <td>-0.536748</td>\n",
       "      <td>-0.524090</td>\n",
       "      <td>0.288700</td>\n",
       "      <td>1.000000</td>\n",
       "      <td>0.950309</td>\n",
       "      <td>0.992635</td>\n",
       "      <td>0.785513</td>\n",
       "    </tr>\n",
       "    <tr>\n",
       "      <th>hwy_mpg</th>\n",
       "      <td>-0.605202</td>\n",
       "      <td>-0.589986</td>\n",
       "      <td>0.309338</td>\n",
       "      <td>0.950309</td>\n",
       "      <td>1.000000</td>\n",
       "      <td>0.978206</td>\n",
       "      <td>0.826981</td>\n",
       "    </tr>\n",
       "    <tr>\n",
       "      <th>cmb_mpg</th>\n",
       "      <td>-0.574880</td>\n",
       "      <td>-0.561166</td>\n",
       "      <td>0.301150</td>\n",
       "      <td>0.992635</td>\n",
       "      <td>0.978206</td>\n",
       "      <td>1.000000</td>\n",
       "      <td>0.814982</td>\n",
       "    </tr>\n",
       "    <tr>\n",
       "      <th>greenhouse_gas_score</th>\n",
       "      <td>-0.754193</td>\n",
       "      <td>-0.743946</td>\n",
       "      <td>0.390771</td>\n",
       "      <td>0.785513</td>\n",
       "      <td>0.826981</td>\n",
       "      <td>0.814982</td>\n",
       "      <td>1.000000</td>\n",
       "    </tr>\n",
       "  </tbody>\n",
       "</table>\n",
       "</div>"
      ],
      "text/plain": [
       "                         displ       cyl  air_pollution_score  city_mpg  \\\n",
       "displ                 1.000000  0.928189            -0.384986 -0.536748   \n",
       "cyl                   0.928189  1.000000            -0.404966 -0.524090   \n",
       "air_pollution_score  -0.384986 -0.404966             1.000000  0.288700   \n",
       "city_mpg             -0.536748 -0.524090             0.288700  1.000000   \n",
       "hwy_mpg              -0.605202 -0.589986             0.309338  0.950309   \n",
       "cmb_mpg              -0.574880 -0.561166             0.301150  0.992635   \n",
       "greenhouse_gas_score -0.754193 -0.743946             0.390771  0.785513   \n",
       "\n",
       "                       hwy_mpg   cmb_mpg  greenhouse_gas_score  \n",
       "displ                -0.605202 -0.574880             -0.754193  \n",
       "cyl                  -0.589986 -0.561166             -0.743946  \n",
       "air_pollution_score   0.309338  0.301150              0.390771  \n",
       "city_mpg              0.950309  0.992635              0.785513  \n",
       "hwy_mpg               1.000000  0.978206              0.826981  \n",
       "cmb_mpg               0.978206  1.000000              0.814982  \n",
       "greenhouse_gas_score  0.826981  0.814982              1.000000  "
      ]
     },
     "execution_count": 9,
     "metadata": {
      "tags": []
     },
     "output_type": "execute_result"
    }
   ],
   "source": [
    "df_18.corr()"
   ]
  },
  {
   "cell_type": "code",
   "execution_count": 0,
   "metadata": {
    "colab": {
     "autoexec": {
      "startup": false,
      "wait_interval": 0
     }
    },
    "colab_type": "code",
    "id": "tvclSBVAkf_h"
   },
   "outputs": [],
   "source": []
  }
 ],
 "metadata": {
  "colab": {
   "default_view": {},
   "name": "Aula3_13_Conc_solved.ipynb",
   "provenance": [],
   "version": "0.3.2",
   "views": {}
  },
  "kernelspec": {
   "display_name": "Python 3",
   "language": "python",
   "name": "python3"
  },
  "language_info": {
   "codemirror_mode": {
    "name": "ipython",
    "version": 3
   },
   "file_extension": ".py",
   "mimetype": "text/x-python",
   "name": "python",
   "nbconvert_exporter": "python",
   "pygments_lexer": "ipython3",
   "version": "3.6.4"
  },
  "toc": {
   "base_numbering": 1,
   "nav_menu": {},
   "number_sections": true,
   "sideBar": true,
   "skip_h1_title": false,
   "title_cell": "Table of Contents",
   "title_sidebar": "Contents",
   "toc_cell": false,
   "toc_position": {},
   "toc_section_display": true,
   "toc_window_display": false
  }
 },
 "nbformat": 4,
 "nbformat_minor": 1
}
