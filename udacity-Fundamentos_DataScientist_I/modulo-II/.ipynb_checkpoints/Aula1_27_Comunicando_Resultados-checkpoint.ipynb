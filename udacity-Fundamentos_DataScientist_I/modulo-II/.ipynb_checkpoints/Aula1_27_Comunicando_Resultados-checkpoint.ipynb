{
 "cells": [
  {
   "cell_type": "markdown",
   "metadata": {},
   "source": [
    "# Comunicando Resultados\n",
    "### Análises finais do capítulo 2 do módulo 2 do curso.\n",
    "\n",
    "Neste Jupyter Notebook, serão realizados diversos processos de análises de dados e comparações através de gráficos. Todo o conteúdo aprendido até o momento deverá ser aplicado ao Dataset de bike_share de Chicago (Dataset do Projeto 1)."
   ]
  },
  {
   "cell_type": "code",
   "execution_count": 101,
   "metadata": {},
   "outputs": [
    {
     "ename": "ModuleNotFoundError",
     "evalue": "No module named 'plotly'",
     "output_type": "error",
     "traceback": [
      "\u001b[1;31m---------------------------------------------------------------------------\u001b[0m",
      "\u001b[1;31mModuleNotFoundError\u001b[0m                       Traceback (most recent call last)",
      "\u001b[1;32m<ipython-input-101-dfc4b3f812cf>\u001b[0m in \u001b[0;36m<module>\u001b[1;34m()\u001b[0m\n\u001b[0;32m      2\u001b[0m \u001b[1;32mimport\u001b[0m \u001b[0mpandas\u001b[0m \u001b[1;32mas\u001b[0m \u001b[0mpd\u001b[0m\u001b[1;33m\u001b[0m\u001b[0m\n\u001b[0;32m      3\u001b[0m \u001b[1;32mimport\u001b[0m \u001b[0mmatplotlib\u001b[0m\u001b[1;33m.\u001b[0m\u001b[0mpyplot\u001b[0m \u001b[1;32mas\u001b[0m \u001b[0mplt\u001b[0m\u001b[1;33m\u001b[0m\u001b[0m\n\u001b[1;32m----> 4\u001b[1;33m \u001b[1;32mimport\u001b[0m \u001b[0mplotly\u001b[0m\u001b[1;33m.\u001b[0m\u001b[0mplotly\u001b[0m \u001b[1;32mas\u001b[0m \u001b[0mpy\u001b[0m\u001b[1;33m\u001b[0m\u001b[0m\n\u001b[0m\u001b[0;32m      5\u001b[0m \u001b[1;32mimport\u001b[0m \u001b[0mcufflinks\u001b[0m \u001b[1;32mas\u001b[0m \u001b[0mcf\u001b[0m\u001b[1;33m\u001b[0m\u001b[0m\n\u001b[0;32m      6\u001b[0m \u001b[0mget_ipython\u001b[0m\u001b[1;33m(\u001b[0m\u001b[1;33m)\u001b[0m\u001b[1;33m.\u001b[0m\u001b[0mrun_line_magic\u001b[0m\u001b[1;33m(\u001b[0m\u001b[1;34m'matplotlib'\u001b[0m\u001b[1;33m,\u001b[0m \u001b[1;34m'inline'\u001b[0m\u001b[1;33m)\u001b[0m\u001b[1;33m\u001b[0m\u001b[0m\n",
      "\u001b[1;31mModuleNotFoundError\u001b[0m: No module named 'plotly'"
     ]
    }
   ],
   "source": [
    "# Imports necessários e leitura de arquivo\n",
    "import pandas as pd\n",
    "import matplotlib.pyplot as plt\n",
    "% matplotlib inline\n",
    "\n",
    "df = pd.read_csv('C:/Users/thiagoPanini/Downloads/chicago.csv')\n",
    "df.head()"
   ]
  },
  {
   "cell_type": "code",
   "execution_count": 4,
   "metadata": {},
   "outputs": [
    {
     "data": {
      "text/html": [
       "<div>\n",
       "<style scoped>\n",
       "    .dataframe tbody tr th:only-of-type {\n",
       "        vertical-align: middle;\n",
       "    }\n",
       "\n",
       "    .dataframe tbody tr th {\n",
       "        vertical-align: top;\n",
       "    }\n",
       "\n",
       "    .dataframe thead th {\n",
       "        text-align: right;\n",
       "    }\n",
       "</style>\n",
       "<table border=\"1\" class=\"dataframe\">\n",
       "  <thead>\n",
       "    <tr style=\"text-align: right;\">\n",
       "      <th></th>\n",
       "      <th>Trip Duration</th>\n",
       "      <th>Birth Year</th>\n",
       "    </tr>\n",
       "  </thead>\n",
       "  <tbody>\n",
       "    <tr>\n",
       "      <th>count</th>\n",
       "      <td>1.551505e+06</td>\n",
       "      <td>1.234822e+06</td>\n",
       "    </tr>\n",
       "    <tr>\n",
       "      <th>mean</th>\n",
       "      <td>9.397778e+02</td>\n",
       "      <td>1.980864e+03</td>\n",
       "    </tr>\n",
       "    <tr>\n",
       "      <th>std</th>\n",
       "      <td>1.617702e+03</td>\n",
       "      <td>1.099154e+01</td>\n",
       "    </tr>\n",
       "    <tr>\n",
       "      <th>min</th>\n",
       "      <td>6.000000e+01</td>\n",
       "      <td>1.899000e+03</td>\n",
       "    </tr>\n",
       "    <tr>\n",
       "      <th>25%</th>\n",
       "      <td>3.920000e+02</td>\n",
       "      <td>1.975000e+03</td>\n",
       "    </tr>\n",
       "    <tr>\n",
       "      <th>50%</th>\n",
       "      <td>6.700000e+02</td>\n",
       "      <td>1.984000e+03</td>\n",
       "    </tr>\n",
       "    <tr>\n",
       "      <th>75%</th>\n",
       "      <td>1.127000e+03</td>\n",
       "      <td>1.989000e+03</td>\n",
       "    </tr>\n",
       "    <tr>\n",
       "      <th>max</th>\n",
       "      <td>8.633800e+04</td>\n",
       "      <td>2.016000e+03</td>\n",
       "    </tr>\n",
       "  </tbody>\n",
       "</table>\n",
       "</div>"
      ],
      "text/plain": [
       "       Trip Duration    Birth Year\n",
       "count   1.551505e+06  1.234822e+06\n",
       "mean    9.397778e+02  1.980864e+03\n",
       "std     1.617702e+03  1.099154e+01\n",
       "min     6.000000e+01  1.899000e+03\n",
       "25%     3.920000e+02  1.975000e+03\n",
       "50%     6.700000e+02  1.984000e+03\n",
       "75%     1.127000e+03  1.989000e+03\n",
       "max     8.633800e+04  2.016000e+03"
      ]
     },
     "execution_count": 4,
     "metadata": {},
     "output_type": "execute_result"
    }
   ],
   "source": [
    "# Explorando o DataFrame\n",
    "df.describe()"
   ]
  },
  {
   "cell_type": "markdown",
   "metadata": {},
   "source": [
    "#### Desafio\n",
    "O método .describe() aplica-se apenas a colunas numéricas do DataFrame, ou seja, <i>Trip Duration</i> e <i>Birth Year</i> no caso. Tentaremos analisar alguns padrões de relação com outras colunas de modo a identificar correlações como, por exemplo, no tempo de viagem e o tipo de cliente, gênero e ano de nascimento, entre outros."
   ]
  },
  {
   "cell_type": "code",
   "execution_count": 19,
   "metadata": {},
   "outputs": [
    {
     "name": "stdout",
     "output_type": "stream",
     "text": [
      "Tipos de Start Time e End Time após a conversão: <class 'pandas._libs.tslib.Timestamp'>\n"
     ]
    }
   ],
   "source": [
    "# Convertendo colunas Start Time e End Time em datetime\n",
    "df['Start Time'] = pd.to_datetime(df['Start Time'])\n",
    "df['End Time'] = pd.to_datetime(df['End Time'])\n",
    "print(f'Tipos de Start Time e End Time após a conversão: {type(df[\"Start Time\"][0])}')"
   ]
  },
  {
   "cell_type": "code",
   "execution_count": 21,
   "metadata": {},
   "outputs": [],
   "source": [
    "# Setando Start Time como index\n",
    "df_bike = df.set_index('Start Time')"
   ]
  },
  {
   "cell_type": "code",
   "execution_count": 88,
   "metadata": {},
   "outputs": [
    {
     "data": {
      "text/html": [
       "<div>\n",
       "<style scoped>\n",
       "    .dataframe tbody tr th:only-of-type {\n",
       "        vertical-align: middle;\n",
       "    }\n",
       "\n",
       "    .dataframe tbody tr th {\n",
       "        vertical-align: top;\n",
       "    }\n",
       "\n",
       "    .dataframe thead th {\n",
       "        text-align: right;\n",
       "    }\n",
       "</style>\n",
       "<table border=\"1\" class=\"dataframe\">\n",
       "  <thead>\n",
       "    <tr style=\"text-align: right;\">\n",
       "      <th></th>\n",
       "      <th>Trip Duration</th>\n",
       "      <th>Birth Year</th>\n",
       "    </tr>\n",
       "    <tr>\n",
       "      <th>Start Time</th>\n",
       "      <th></th>\n",
       "      <th></th>\n",
       "    </tr>\n",
       "  </thead>\n",
       "  <tbody>\n",
       "    <tr>\n",
       "      <th>2017-01-31</th>\n",
       "      <td>672.657483</td>\n",
       "      <td>1979.456104</td>\n",
       "    </tr>\n",
       "    <tr>\n",
       "      <th>2017-02-28</th>\n",
       "      <td>817.263997</td>\n",
       "      <td>1979.930365</td>\n",
       "    </tr>\n",
       "    <tr>\n",
       "      <th>2017-03-31</th>\n",
       "      <td>712.789506</td>\n",
       "      <td>1979.765755</td>\n",
       "    </tr>\n",
       "    <tr>\n",
       "      <th>2017-04-30</th>\n",
       "      <td>983.345646</td>\n",
       "      <td>1980.737486</td>\n",
       "    </tr>\n",
       "    <tr>\n",
       "      <th>2017-05-31</th>\n",
       "      <td>986.819208</td>\n",
       "      <td>1981.046151</td>\n",
       "    </tr>\n",
       "    <tr>\n",
       "      <th>2017-06-30</th>\n",
       "      <td>1052.853576</td>\n",
       "      <td>1981.978989</td>\n",
       "    </tr>\n",
       "  </tbody>\n",
       "</table>\n",
       "</div>"
      ],
      "text/plain": [
       "            Trip Duration   Birth Year\n",
       "Start Time                            \n",
       "2017-01-31     672.657483  1979.456104\n",
       "2017-02-28     817.263997  1979.930365\n",
       "2017-03-31     712.789506  1979.765755\n",
       "2017-04-30     983.345646  1980.737486\n",
       "2017-05-31     986.819208  1981.046151\n",
       "2017-06-30    1052.853576  1981.978989"
      ]
     },
     "execution_count": 88,
     "metadata": {},
     "output_type": "execute_result"
    }
   ],
   "source": [
    "# Vamos agora agregar o DataFrame por mês e retornar a média em cada um deles\n",
    "df_mes = df_bike.resample(rule='M').mean()\n",
    "df_mes"
   ]
  },
  {
   "cell_type": "code",
   "execution_count": 93,
   "metadata": {},
   "outputs": [
    {
     "ename": "AttributeError",
     "evalue": "'Index' object has no attribute 'strftime'",
     "output_type": "error",
     "traceback": [
      "\u001b[1;31m---------------------------------------------------------------------------\u001b[0m",
      "\u001b[1;31mAttributeError\u001b[0m                            Traceback (most recent call last)",
      "\u001b[1;32m<ipython-input-93-8561d39a0cfa>\u001b[0m in \u001b[0;36m<module>\u001b[1;34m()\u001b[0m\n\u001b[1;32m----> 1\u001b[1;33m \u001b[0mdf_mes\u001b[0m\u001b[1;33m.\u001b[0m\u001b[0mindex\u001b[0m \u001b[1;33m=\u001b[0m \u001b[0mdf_mes\u001b[0m\u001b[1;33m.\u001b[0m\u001b[0mindex\u001b[0m\u001b[1;33m.\u001b[0m\u001b[0mstrftime\u001b[0m\u001b[1;33m(\u001b[0m\u001b[1;34m'%B'\u001b[0m\u001b[1;33m)\u001b[0m\u001b[1;33m\u001b[0m\u001b[0m\n\u001b[0m",
      "\u001b[1;31mAttributeError\u001b[0m: 'Index' object has no attribute 'strftime'"
     ]
    }
   ],
   "source": [
    "# Mudando o nome dos índices para retornar o respectivo mês\n",
    "\n",
    "df_mes.index = df_mes.index.strftime('%B') # Se executado uma vez, dá erro na segunda. Modifica df_mes"
   ]
  },
  {
   "cell_type": "code",
   "execution_count": 96,
   "metadata": {},
   "outputs": [
    {
     "data": {
      "text/html": [
       "<div>\n",
       "<style scoped>\n",
       "    .dataframe tbody tr th:only-of-type {\n",
       "        vertical-align: middle;\n",
       "    }\n",
       "\n",
       "    .dataframe tbody tr th {\n",
       "        vertical-align: top;\n",
       "    }\n",
       "\n",
       "    .dataframe thead th {\n",
       "        text-align: right;\n",
       "    }\n",
       "</style>\n",
       "<table border=\"1\" class=\"dataframe\">\n",
       "  <thead>\n",
       "    <tr style=\"text-align: right;\">\n",
       "      <th>Atributos</th>\n",
       "      <th>Trip Duration</th>\n",
       "      <th>Birth Year</th>\n",
       "    </tr>\n",
       "    <tr>\n",
       "      <th>Mês</th>\n",
       "      <th></th>\n",
       "      <th></th>\n",
       "    </tr>\n",
       "  </thead>\n",
       "  <tbody>\n",
       "    <tr>\n",
       "      <th>January</th>\n",
       "      <td>672.657483</td>\n",
       "      <td>1979.456104</td>\n",
       "    </tr>\n",
       "    <tr>\n",
       "      <th>February</th>\n",
       "      <td>817.263997</td>\n",
       "      <td>1979.930365</td>\n",
       "    </tr>\n",
       "    <tr>\n",
       "      <th>March</th>\n",
       "      <td>712.789506</td>\n",
       "      <td>1979.765755</td>\n",
       "    </tr>\n",
       "    <tr>\n",
       "      <th>April</th>\n",
       "      <td>983.345646</td>\n",
       "      <td>1980.737486</td>\n",
       "    </tr>\n",
       "    <tr>\n",
       "      <th>May</th>\n",
       "      <td>986.819208</td>\n",
       "      <td>1981.046151</td>\n",
       "    </tr>\n",
       "    <tr>\n",
       "      <th>June</th>\n",
       "      <td>1052.853576</td>\n",
       "      <td>1981.978989</td>\n",
       "    </tr>\n",
       "  </tbody>\n",
       "</table>\n",
       "</div>"
      ],
      "text/plain": [
       "Atributos  Trip Duration   Birth Year\n",
       "Mês                                  \n",
       "January       672.657483  1979.456104\n",
       "February      817.263997  1979.930365\n",
       "March         712.789506  1979.765755\n",
       "April         983.345646  1980.737486\n",
       "May           986.819208  1981.046151\n",
       "June         1052.853576  1981.978989"
      ]
     },
     "execution_count": 96,
     "metadata": {},
     "output_type": "execute_result"
    }
   ],
   "source": [
    "# Renomeando índices \n",
    "\n",
    "df_mes.rename_axis('Mês').rename_axis('Atributos', axis='columns')"
   ]
  },
  {
   "cell_type": "code",
   "execution_count": 97,
   "metadata": {},
   "outputs": [
    {
     "data": {
      "image/png": "[encoded data removed]",
      "text/plain": [
       "<matplotlib.figure.Figure at 0x20b1e588da0>"
      ]
     },
     "metadata": {},
     "output_type": "display_data"
    }
   ],
   "source": [
    "# Plotando alguns gráficos simples\n",
    "\n",
    "df_mes['Trip Duration'].plot(kind='bar');"
   ]
  },
  {
   "cell_type": "code",
   "execution_count": 98,
   "metadata": {},
   "outputs": [
    {
     "data": {
      "text/plain": [
       "<matplotlib.axes._subplots.AxesSubplot at 0x20b7d216240>"
      ]
     },
     "execution_count": 98,
     "metadata": {},
     "output_type": "execute_result"
    },
    {
     "data": {
      "image/png": "[encoded data removed]",
      "text/plain": [
       "<matplotlib.figure.Figure at 0x20b7d225908>"
      ]
     },
     "metadata": {},
     "output_type": "display_data"
    }
   ],
   "source": [
    "df_mes['Trip Duration'].plot(kind='pie')"
   ]
  },
  {
   "cell_type": "code",
   "execution_count": 106,
   "metadata": {},
   "outputs": [
    {
     "data": {
      "text/html": [
       "<div>\n",
       "<style scoped>\n",
       "    .dataframe tbody tr th:only-of-type {\n",
       "        vertical-align: middle;\n",
       "    }\n",
       "\n",
       "    .dataframe tbody tr th {\n",
       "        vertical-align: top;\n",
       "    }\n",
       "\n",
       "    .dataframe thead th {\n",
       "        text-align: right;\n",
       "    }\n",
       "</style>\n",
       "<table border=\"1\" class=\"dataframe\">\n",
       "  <thead>\n",
       "    <tr style=\"text-align: right;\">\n",
       "      <th></th>\n",
       "      <th>Trip Duration</th>\n",
       "      <th>Birth Year</th>\n",
       "    </tr>\n",
       "  </thead>\n",
       "  <tbody>\n",
       "    <tr>\n",
       "      <th>June</th>\n",
       "      <td>1052.853576</td>\n",
       "      <td>1981.978989</td>\n",
       "    </tr>\n",
       "    <tr>\n",
       "      <th>May</th>\n",
       "      <td>986.819208</td>\n",
       "      <td>1981.046151</td>\n",
       "    </tr>\n",
       "    <tr>\n",
       "      <th>April</th>\n",
       "      <td>983.345646</td>\n",
       "      <td>1980.737486</td>\n",
       "    </tr>\n",
       "    <tr>\n",
       "      <th>March</th>\n",
       "      <td>712.789506</td>\n",
       "      <td>1979.765755</td>\n",
       "    </tr>\n",
       "    <tr>\n",
       "      <th>February</th>\n",
       "      <td>817.263997</td>\n",
       "      <td>1979.930365</td>\n",
       "    </tr>\n",
       "    <tr>\n",
       "      <th>January</th>\n",
       "      <td>672.657483</td>\n",
       "      <td>1979.456104</td>\n",
       "    </tr>\n",
       "  </tbody>\n",
       "</table>\n",
       "</div>"
      ],
      "text/plain": [
       "          Trip Duration   Birth Year\n",
       "June        1052.853576  1981.978989\n",
       "May          986.819208  1981.046151\n",
       "April        983.345646  1980.737486\n",
       "March        712.789506  1979.765755\n",
       "February     817.263997  1979.930365\n",
       "January      672.657483  1979.456104"
      ]
     },
     "execution_count": 106,
     "metadata": {},
     "output_type": "execute_result"
    }
   ],
   "source": [
    "df_mes_rev = df_mes.iloc[::-1]\n",
    "df_mes_rev"
   ]
  },
  {
   "cell_type": "code",
   "execution_count": 147,
   "metadata": {},
   "outputs": [
    {
     "data": {
      "image/png": "[encoded data removed]",
      "text/plain": [
       "<matplotlib.figure.Figure at 0x20b00866278>"
      ]
     },
     "metadata": {},
     "output_type": "display_data"
    }
   ],
   "source": [
    "# Plots mais avançados\n",
    "\n",
    "# Create a figure of given size\n",
    "fig = plt.figure(figsize=(16,12))\n",
    "# Add a subplot\n",
    "ax = fig.add_subplot(111)\n",
    "# Set title\n",
    "ttl = 'Duração de viagens por mês'\n",
    "\n",
    "# Set color transparency (0: transparent; 1: solid)\n",
    "a = 0.6\n",
    "# Create a colormap\n",
    "customcmap = [(x/10.0,  x/8.0, 0.02) for x in range(len(df_mes))]\n",
    "\n",
    "# Plot the 'Trip Duration' column as horizontal bar plot\n",
    "df_mes_rev['Trip Duration'].plot(kind='barh', ax=ax, alpha=a, legend=False, color=customcmap,\n",
    "                      edgecolor='w', xlim=(0,max(df_mes_rev['Trip Duration'])), title=ttl)\n",
    "\n",
    "# Remove grid lines (dotted lines inside plot)\n",
    "ax.grid(False)\n",
    "# Remove plot frame\n",
    "ax.set_frame_on(False)\n",
    "# Pandas trick: remove weird dotted line on axis\n",
    "# ax.lines[0].set_visible(False)\n",
    " \n",
    "# Customize title, set position, allow space on top of plot for title\n",
    "ax.set_title(ax.get_title(), fontsize=26, alpha=a, ha='left')\n",
    "plt.subplots_adjust(top=0.9)\n",
    "ax.title.set_position((0,1.02))\n",
    " \n",
    "# Set x axis label on top of plot, set label text\n",
    "#ax.xaxis.set_label_position('bottom')\n",
    "xlab = 'Duração da Viagem (s)'\n",
    "ax.set_xlabel(xlab, fontsize=20, alpha=a, ha='left')\n",
    "ax.xaxis.set_label_coords(0, -0.08)\n",
    " \n",
    "# Position x tick labels on top\n",
    "# ax.xaxis.tick_top()\n",
    "\n",
    "# Remove tick lines in x and y axes\n",
    "ax.yaxis.set_ticks_position('none')\n",
    "ax.xaxis.set_ticks_position('none')\n",
    " \n",
    "# Customize x tick lables\n",
    "xticks = [0,200,500,800,1000]\n",
    "ax.xaxis.set_ticks(xticks)\n",
    "ax.set_xticklabels(xticks, fontsize=16, alpha=a)\n",
    " \n",
    "# Customize y tick labels\n",
    "yticks = [item.get_text() for item in ax.get_yticklabels()]\n",
    "ax.set_yticklabels(yticks, fontsize=16, alpha=a)\n",
    "ax.yaxis.set_tick_params(pad=12)"
   ]
  },
  {
   "cell_type": "code",
   "execution_count": 157,
   "metadata": {},
   "outputs": [
    {
     "data": {
      "text/plain": [
       "\"xlab = 'Duração da Viagem (s)'\\nax.set_xlabel(xlab, fontsize=20, alpha=a, ha='left')\\nax.xaxis.set_label_coords(0, -0.08)\\n \\n# Position x tick labels on top\\n# ax.xaxis.tick_top()\\n\\n# Remove tick lines in x and y axes\\nax.yaxis.set_ticks_position('none')\\nax.xaxis.set_ticks_position('none')\\n \\n# Customize y tick lables\\nyticks = [0,200,500,800,1000]\\nax.xaxis.set_ticks(yticks)\\nax.set_xticklabels(yticks, fontsize=16, alpha=a)\\n \\n# Customize y tick labels\\nyticks = [item.get_text() for item in ax.get_yticklabels()]\\nax.set_yticklabels(yticks, fontsize=16, alpha=a)\\nax.yaxis.set_tick_params(pad=12)\""
      ]
     },
     "execution_count": 157,
     "metadata": {},
     "output_type": "execute_result"
    },
    {
     "data": {
      "image/png": "[encoded data removed]",
      "text/plain": [
       "<matplotlib.figure.Figure at 0x20b0157a278>"
      ]
     },
     "metadata": {},
     "output_type": "display_data"
    }
   ],
   "source": [
    "# Plots mais avançados\n",
    "\n",
    "# Create a figure of given size\n",
    "fig = plt.figure(figsize=(16,12))\n",
    "# Add a subplot\n",
    "ax = fig.add_subplot(111)\n",
    "# Set title\n",
    "ttl = 'Duração de viagens por mês'\n",
    "\n",
    "# Set color transparency (0: transparent; 1: solid)\n",
    "a = 0.6\n",
    "# Create a colormap\n",
    "customcmap = [(x/10.0,  x/8.0, 0.02) for x in range(len(df_mes))]\n",
    "\n",
    "# Plot the 'Trip Duration' column as horizontal bar plot\n",
    "df_mes['Trip Duration'].plot(kind='bar', ax=ax, alpha=a, legend=False, color=customcmap,\n",
    "                      edgecolor='w', xlim=(0,max(df_mes['Trip Duration'])), title=ttl)\n",
    "\n",
    "# Remove grid lines (dotted lines inside plot)\n",
    "ax.grid(False)\n",
    "# Remove plot frame\n",
    "ax.set_frame_on(False)\n",
    "# Pandas trick: remove weird dotted line on axis\n",
    "# ax.lines[0].set_visible(False)\n",
    " \n",
    "# Customize title, set position, allow space on top of plot for title\n",
    "ax.set_title(ax.get_title(), fontsize=26, alpha=a, ha='left')\n",
    "plt.subplots_adjust(top=0.9)\n",
    "ax.title.set_position((0,1.02))\n",
    " \n",
    "# Set x axis label on top of plot, set label text\n",
    "#ax.xaxis.set_label_position('bottom')\n",
    "\"\"\"xlab = 'Duração da Viagem (s)'\n",
    "ax.set_xlabel(xlab, fontsize=20, alpha=a, ha='left')\n",
    "ax.xaxis.set_label_coords(0, -0.08)\n",
    " \n",
    "# Position x tick labels on top\n",
    "# ax.xaxis.tick_top()\n",
    "\n",
    "# Remove tick lines in x and y axes\n",
    "ax.yaxis.set_ticks_position('none')\n",
    "ax.xaxis.set_ticks_position('none')\n",
    " \n",
    "# Customize y tick lables\n",
    "yticks = [0,200,500,800,1000]\n",
    "ax.xaxis.set_ticks(yticks)\n",
    "ax.set_xticklabels(yticks, fontsize=16, alpha=a)\n",
    " \n",
    "# Customize y tick labels\n",
    "yticks = [item.get_text() for item in ax.get_yticklabels()]\n",
    "ax.set_yticklabels(yticks, fontsize=16, alpha=a)\n",
    "ax.yaxis.set_tick_params(pad=12)\"\"\""
   ]
  },
  {
   "cell_type": "code",
   "execution_count": 71,
   "metadata": {},
   "outputs": [
    {
     "data": {
      "text/plain": [
       "<matplotlib.axes._subplots.AxesSubplot at 0x20b3622ada0>"
      ]
     },
     "execution_count": 71,
     "metadata": {},
     "output_type": "execute_result"
    },
    {
     "data": {
      "image/png": "[encoded data removed]",
      "text/plain": [
       "<matplotlib.figure.Figure at 0x20b35d77128>"
      ]
     },
     "metadata": {},
     "output_type": "display_data"
    }
   ],
   "source": [
    "df_bike['Birth Year'].value_counts().plot(kind='bar', figsize=(16, 4))"
   ]
  },
  {
   "cell_type": "code",
   "execution_count": 72,
   "metadata": {},
   "outputs": [],
   "source": [
    "monthly = df_bike.resample(rule='M').mean()"
   ]
  },
  {
   "cell_type": "code",
   "execution_count": 73,
   "metadata": {},
   "outputs": [
    {
     "data": {
      "text/html": [
       "<div>\n",
       "<style scoped>\n",
       "    .dataframe tbody tr th:only-of-type {\n",
       "        vertical-align: middle;\n",
       "    }\n",
       "\n",
       "    .dataframe tbody tr th {\n",
       "        vertical-align: top;\n",
       "    }\n",
       "\n",
       "    .dataframe thead th {\n",
       "        text-align: right;\n",
       "    }\n",
       "</style>\n",
       "<table border=\"1\" class=\"dataframe\">\n",
       "  <thead>\n",
       "    <tr style=\"text-align: right;\">\n",
       "      <th></th>\n",
       "      <th>Trip Duration</th>\n",
       "      <th>Birth Year</th>\n",
       "    </tr>\n",
       "    <tr>\n",
       "      <th>Start Time</th>\n",
       "      <th></th>\n",
       "      <th></th>\n",
       "    </tr>\n",
       "  </thead>\n",
       "  <tbody>\n",
       "    <tr>\n",
       "      <th>2017-01-31</th>\n",
       "      <td>672.657483</td>\n",
       "      <td>1979.456104</td>\n",
       "    </tr>\n",
       "    <tr>\n",
       "      <th>2017-02-28</th>\n",
       "      <td>817.263997</td>\n",
       "      <td>1979.930365</td>\n",
       "    </tr>\n",
       "    <tr>\n",
       "      <th>2017-03-31</th>\n",
       "      <td>712.789506</td>\n",
       "      <td>1979.765755</td>\n",
       "    </tr>\n",
       "    <tr>\n",
       "      <th>2017-04-30</th>\n",
       "      <td>983.345646</td>\n",
       "      <td>1980.737486</td>\n",
       "    </tr>\n",
       "    <tr>\n",
       "      <th>2017-05-31</th>\n",
       "      <td>986.819208</td>\n",
       "      <td>1981.046151</td>\n",
       "    </tr>\n",
       "    <tr>\n",
       "      <th>2017-06-30</th>\n",
       "      <td>1052.853576</td>\n",
       "      <td>1981.978989</td>\n",
       "    </tr>\n",
       "  </tbody>\n",
       "</table>\n",
       "</div>"
      ],
      "text/plain": [
       "            Trip Duration   Birth Year\n",
       "Start Time                            \n",
       "2017-01-31     672.657483  1979.456104\n",
       "2017-02-28     817.263997  1979.930365\n",
       "2017-03-31     712.789506  1979.765755\n",
       "2017-04-30     983.345646  1980.737486\n",
       "2017-05-31     986.819208  1981.046151\n",
       "2017-06-30    1052.853576  1981.978989"
      ]
     },
     "execution_count": 73,
     "metadata": {},
     "output_type": "execute_result"
    }
   ],
   "source": [
    "monthly"
   ]
  },
  {
   "cell_type": "code",
   "execution_count": 75,
   "metadata": {},
   "outputs": [
    {
     "data": {
      "text/plain": [
       "1052.8535762643419"
      ]
     },
     "execution_count": 75,
     "metadata": {},
     "output_type": "execute_result"
    }
   ],
   "source": [
    "df_bike_6['Trip Duration'].mean()"
   ]
  },
  {
   "cell_type": "code",
   "execution_count": 76,
   "metadata": {},
   "outputs": [
    {
     "data": {
      "text/plain": [
       "1981.0377814339454"
      ]
     },
     "execution_count": 76,
     "metadata": {},
     "output_type": "execute_result"
    }
   ],
   "source": [
    "df_bike_5['Birth Year'].mean()"
   ]
  },
  {
   "cell_type": "code",
   "execution_count": 78,
   "metadata": {},
   "outputs": [
    {
     "data": {
      "text/plain": [
       "<matplotlib.axes._subplots.AxesSubplot at 0x20b3e954550>"
      ]
     },
     "execution_count": 78,
     "metadata": {},
     "output_type": "execute_result"
    },
    {
     "data": {
      "image/png": "[encoded data removed]",
      "text/plain": [
       "<matplotlib.figure.Figure at 0x20b3e984dd8>"
      ]
     },
     "metadata": {},
     "output_type": "display_data"
    }
   ],
   "source": [
    "monthly['Trip Duration'].plot(kind='bar')"
   ]
  },
  {
   "cell_type": "markdown",
   "metadata": {},
   "source": [
    "<b>Site interessante: </b>\n",
    "https://www.shanelynn.ie/summarising-aggregation-and-grouping-data-in-python-pandas/"
   ]
  },
  {
   "cell_type": "code",
   "execution_count": 67,
   "metadata": {},
   "outputs": [],
   "source": [
    "gp = df.groupby('Start Time')['Trip Duration'].count()"
   ]
  },
  {
   "cell_type": "code",
   "execution_count": 68,
   "metadata": {},
   "outputs": [
    {
     "data": {
      "text/plain": [
       "Start Time\n",
       "2017-01-01 00:00:36    1\n",
       "2017-01-01 00:02:54    1\n",
       "2017-01-01 00:06:06    1\n",
       "2017-01-01 00:07:28    1\n",
       "2017-01-01 00:07:57    1\n",
       "2017-01-01 00:10:44    1\n",
       "2017-01-01 00:11:34    1\n",
       "2017-01-01 00:14:57    1\n",
       "2017-01-01 00:15:03    1\n",
       "2017-01-01 00:17:01    1\n",
       "2017-01-01 00:17:13    1\n",
       "2017-01-01 00:18:28    1\n",
       "2017-01-01 00:18:50    1\n",
       "2017-01-01 00:23:41    1\n",
       "2017-01-01 00:25:47    2\n",
       "2017-01-01 00:26:21    1\n",
       "2017-01-01 00:27:21    1\n",
       "2017-01-01 00:27:28    1\n",
       "2017-01-01 00:27:45    1\n",
       "2017-01-01 00:27:52    1\n",
       "2017-01-01 00:30:07    1\n",
       "2017-01-01 00:30:10    1\n",
       "2017-01-01 00:32:58    1\n",
       "2017-01-01 00:33:39    1\n",
       "2017-01-01 00:34:23    1\n",
       "2017-01-01 00:35:23    1\n",
       "2017-01-01 00:35:26    1\n",
       "2017-01-01 00:35:32    1\n",
       "2017-01-01 00:35:34    1\n",
       "2017-01-01 00:37:02    1\n",
       "                      ..\n",
       "2017-06-30 23:51:39    1\n",
       "2017-06-30 23:52:07    1\n",
       "2017-06-30 23:52:33    1\n",
       "2017-06-30 23:52:40    2\n",
       "2017-06-30 23:52:43    1\n",
       "2017-06-30 23:52:54    1\n",
       "2017-06-30 23:52:56    2\n",
       "2017-06-30 23:53:05    1\n",
       "2017-06-30 23:53:15    1\n",
       "2017-06-30 23:53:16    1\n",
       "2017-06-30 23:54:02    1\n",
       "2017-06-30 23:54:12    1\n",
       "2017-06-30 23:54:36    1\n",
       "2017-06-30 23:55:06    1\n",
       "2017-06-30 23:55:13    1\n",
       "2017-06-30 23:55:18    1\n",
       "2017-06-30 23:55:33    1\n",
       "2017-06-30 23:55:48    1\n",
       "2017-06-30 23:55:57    1\n",
       "2017-06-30 23:55:58    1\n",
       "2017-06-30 23:56:20    1\n",
       "2017-06-30 23:56:48    1\n",
       "2017-06-30 23:58:13    1\n",
       "2017-06-30 23:58:19    1\n",
       "2017-06-30 23:58:21    1\n",
       "2017-06-30 23:59:01    1\n",
       "2017-06-30 23:59:14    1\n",
       "2017-06-30 23:59:18    1\n",
       "2017-06-30 23:59:28    1\n",
       "2017-06-30 23:59:51    1\n",
       "Name: Trip Duration, Length: 1374908, dtype: int64"
      ]
     },
     "execution_count": 68,
     "metadata": {},
     "output_type": "execute_result"
    }
   ],
   "source": [
    "gp"
   ]
  },
  {
   "cell_type": "code",
   "execution_count": null,
   "metadata": {},
   "outputs": [],
   "source": []
  }
 ],
 "metadata": {
  "kernelspec": {
   "display_name": "Python 3",
   "language": "python",
   "name": "python3"
  },
  "language_info": {
   "codemirror_mode": {
    "name": "ipython",
    "version": 3
   },
   "file_extension": ".py",
   "mimetype": "text/x-python",
   "name": "python",
   "nbconvert_exporter": "python",
   "pygments_lexer": "ipython3",
   "version": "3.6.4"
  }
 },
 "nbformat": 4,
 "nbformat_minor": 2
}
