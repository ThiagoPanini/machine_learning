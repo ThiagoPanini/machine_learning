{
 "cells": [
  {
   "cell_type": "markdown",
   "metadata": {
    "toc": true
   },
   "source": [
    "<h1>Table of Contents<span class=\"tocSkip\"></span></h1>\n",
    "<div class=\"toc\"><ul class=\"toc-item\"><li><span><a href=\"#Matrizes-e-Vetores\" data-toc-modified-id=\"Matrizes-e-Vetores-1\"><span class=\"toc-item-num\">1&nbsp;&nbsp;</span>Matrizes e Vetores</a></span><ul class=\"toc-item\"><li><span><a href=\"#ones\" data-toc-modified-id=\"ones-1.1\"><span class=\"toc-item-num\">1.1&nbsp;&nbsp;</span>ones</a></span></li><li><span><a href=\"#zeros\" data-toc-modified-id=\"zeros-1.2\"><span class=\"toc-item-num\">1.2&nbsp;&nbsp;</span>zeros</a></span></li><li><span><a href=\"#eye\" data-toc-modified-id=\"eye-1.3\"><span class=\"toc-item-num\">1.3&nbsp;&nbsp;</span>eye</a></span></li><li><span><a href=\"#rand-e-randn\" data-toc-modified-id=\"rand-e-randn-1.4\"><span class=\"toc-item-num\">1.4&nbsp;&nbsp;</span>rand e randn</a></span></li><li><span><a href=\"#size\" data-toc-modified-id=\"size-1.5\"><span class=\"toc-item-num\">1.5&nbsp;&nbsp;</span>size</a></span></li><li><span><a href=\"#length\" data-toc-modified-id=\"length-1.6\"><span class=\"toc-item-num\">1.6&nbsp;&nbsp;</span>length</a></span></li></ul></li><li><span><a href=\"#Lendo-arquivos\" data-toc-modified-id=\"Lendo-arquivos-2\"><span class=\"toc-item-num\">2&nbsp;&nbsp;</span>Lendo arquivos</a></span></li><li><span><a href=\"#Plotando-dados\" data-toc-modified-id=\"Plotando-dados-3\"><span class=\"toc-item-num\">3&nbsp;&nbsp;</span>Plotando dados</a></span></li></ul></div>"
   ]
  },
  {
   "cell_type": "markdown",
   "metadata": {},
   "source": [
    "Este notebook tem por objetivo armazenar informações introdutórias a respeito da linguagem de programação GNU Octave. Para a instalação do _kernel_ Octave dentro do Jupyter Notebook, foram realizados os procedimentos descritos pelo link [Octave-Kernel-Jupyter](https://github.com/Calysto/octave_kernel)."
   ]
  },
  {
   "cell_type": "markdown",
   "metadata": {},
   "source": [
    "# Matrizes e Vetores"
   ]
  },
  {
   "cell_type": "code",
   "execution_count": 1,
   "metadata": {},
   "outputs": [
    {
     "name": "stdout",
     "output_type": "stream",
     "text": [
      "A =\n",
      "\n",
      "   1   2   3\n",
      "   4   5   6\n",
      "   7   8   9\n",
      "\n"
     ]
    }
   ],
   "source": [
    "# Criando uma matriz 3x3\n",
    "A = [1, 2, 3; 4, 5, 6; 7, 8, 9]"
   ]
  },
  {
   "cell_type": "markdown",
   "metadata": {},
   "source": [
    "Vírgula ```,``` especifica quebra de coluna, enquanto o ponto-vírgula ```;``` específica quebra de linha."
   ]
  },
  {
   "cell_type": "code",
   "execution_count": 2,
   "metadata": {},
   "outputs": [
    {
     "name": "stdout",
     "output_type": "stream",
     "text": [
      "A =\n",
      "\n",
      "   1   2   3\n",
      "   4   5   6\n",
      "   7   8   9\n",
      "\n"
     ]
    }
   ],
   "source": [
    "# Também é possível especificar quebra de coluna sem a vírgula\n",
    "A = [1 2 3; 4 5 6; 7 8 9]"
   ]
  },
  {
   "cell_type": "code",
   "execution_count": 4,
   "metadata": {},
   "outputs": [
    {
     "name": "stdout",
     "output_type": "stream",
     "text": [
      "v =\n",
      "\n",
      "   1\n",
      "   2\n",
      "   3\n",
      "   4\n",
      "   5\n",
      "\n"
     ]
    }
   ],
   "source": [
    "# Criando um vetor 5x1\n",
    "v = [1; 2; 3; 4; 5]"
   ]
  },
  {
   "cell_type": "markdown",
   "metadata": {},
   "source": [
    "É possível criar matrizes e vetores utilizando os dois pontos ```:```, indicando um ```range``` de valores."
   ]
  },
  {
   "cell_type": "code",
   "execution_count": 11,
   "metadata": {},
   "outputs": [
    {
     "name": "stdout",
     "output_type": "stream",
     "text": [
      "M =\n",
      "\n",
      "   1.0000   1.2000   1.4000   1.6000   1.8000   2.0000\n",
      "   3.0000   3.2000   3.4000   3.6000   3.8000   4.0000\n",
      "   5.0000   5.2000   5.4000   5.6000   5.8000   6.0000\n",
      "\n"
     ]
    }
   ],
   "source": [
    "# Criando matriz através de range\n",
    "M = [1:.2:2; 3:.2:4; 5:.2:6]"
   ]
  },
  {
   "cell_type": "markdown",
   "metadata": {},
   "source": [
    "## ones"
   ]
  },
  {
   "cell_type": "markdown",
   "metadata": {},
   "source": [
    "A função ```ones(i, j)``` do Octave permite a criação de estruturas formadas apenas pelo numeral 1."
   ]
  },
  {
   "cell_type": "code",
   "execution_count": 12,
   "metadata": {},
   "outputs": [
    {
     "name": "stdout",
     "output_type": "stream",
     "text": [
      "A =\n",
      "\n",
      "   1   1   1\n",
      "   1   1   1\n",
      "\n"
     ]
    }
   ],
   "source": [
    "# Criando matriz através de ones\n",
    "A = ones(2, 3)"
   ]
  },
  {
   "cell_type": "code",
   "execution_count": 14,
   "metadata": {},
   "outputs": [
    {
     "name": "stdout",
     "output_type": "stream",
     "text": [
      "A =\n",
      "\n",
      "   3   3   3   3   3\n",
      "   3   3   3   3   3\n",
      "   3   3   3   3   3\n",
      "   3   3   3   3   3\n",
      "   3   3   3   3   3\n",
      "\n"
     ]
    }
   ],
   "source": [
    "# Criando matriz composta por outros números\n",
    "b = 3;\n",
    "A = b*ones(5, 5)"
   ]
  },
  {
   "cell_type": "markdown",
   "metadata": {},
   "source": [
    "## zeros"
   ]
  },
  {
   "cell_type": "markdown",
   "metadata": {},
   "source": [
    "A função ```zeros(i, j)```, por sua vez, cria estruturas formadas apenas pelo numeral 0."
   ]
  },
  {
   "cell_type": "code",
   "execution_count": 15,
   "metadata": {},
   "outputs": [
    {
     "name": "stdout",
     "output_type": "stream",
     "text": [
      "Z =\n",
      "\n",
      "   0   0   0   0\n",
      "   0   0   0   0\n",
      "   0   0   0   0\n",
      "\n"
     ]
    }
   ],
   "source": [
    "Z = zeros(3, 4)"
   ]
  },
  {
   "cell_type": "markdown",
   "metadata": {},
   "source": [
    "## eye"
   ]
  },
  {
   "cell_type": "markdown",
   "metadata": {},
   "source": [
    "A função ```eye(m)``` cria uma matriz identidade especificada pelo argumento m (dimensões m x m)"
   ]
  },
  {
   "cell_type": "code",
   "execution_count": 17,
   "metadata": {},
   "outputs": [
    {
     "name": "stdout",
     "output_type": "stream",
     "text": [
      "I =\n",
      "\n",
      "Diagonal Matrix\n",
      "\n",
      "   1   0   0   0   0\n",
      "   0   1   0   0   0\n",
      "   0   0   1   0   0\n",
      "   0   0   0   1   0\n",
      "   0   0   0   0   1\n",
      "\n"
     ]
    }
   ],
   "source": [
    "I = eye(5)"
   ]
  },
  {
   "cell_type": "markdown",
   "metadata": {},
   "source": [
    "## rand e randn"
   ]
  },
  {
   "cell_type": "markdown",
   "metadata": {},
   "source": [
    "As funções ```rand e randn``` sao responsáveis por gerar, respectivamente, estruturas com dados randômicos positivos (rand) e positivos e negativos (randn)"
   ]
  },
  {
   "cell_type": "code",
   "execution_count": 18,
   "metadata": {},
   "outputs": [
    {
     "name": "stdout",
     "output_type": "stream",
     "text": [
      "w =\n",
      "\n",
      "   0.58401   0.78007   0.57374\n",
      "\n"
     ]
    }
   ],
   "source": [
    "# Matriz com rand\n",
    "w = rand(1, 3)"
   ]
  },
  {
   "cell_type": "code",
   "execution_count": 20,
   "metadata": {},
   "outputs": [
    {
     "name": "stdout",
     "output_type": "stream",
     "text": [
      "k =\n",
      "\n",
      "   0.585389   0.426623   0.158439   0.095972\n",
      "   0.281603   0.940495   0.652302   0.481531\n",
      "   0.123105   0.700332   0.246238   0.132231\n",
      "\n"
     ]
    }
   ],
   "source": [
    "# Matriz 3x4\n",
    "k = rand(3, 4)"
   ]
  },
  {
   "cell_type": "markdown",
   "metadata": {},
   "source": [
    "## size"
   ]
  },
  {
   "cell_type": "markdown",
   "metadata": {},
   "source": [
    "```size(structure)``` retorna as dimensões de uma Matriz ou vetor."
   ]
  },
  {
   "cell_type": "code",
   "execution_count": 21,
   "metadata": {},
   "outputs": [
    {
     "name": "stdout",
     "output_type": "stream",
     "text": [
      "ans =\n",
      "\n",
      "   2   2\n",
      "\n"
     ]
    }
   ],
   "source": [
    "# Matriz 2x2\n",
    "A = [1 2; 5 6];\n",
    "size(A)"
   ]
  },
  {
   "cell_type": "code",
   "execution_count": 23,
   "metadata": {},
   "outputs": [
    {
     "name": "stdout",
     "output_type": "stream",
     "text": [
      "ans =\n",
      "\n",
      "   1   5\n",
      "\n"
     ]
    }
   ],
   "source": [
    "# Matriz 1x5\n",
    "M = [1:2:10];\n",
    "size(M)"
   ]
  },
  {
   "cell_type": "code",
   "execution_count": 24,
   "metadata": {},
   "outputs": [
    {
     "name": "stdout",
     "output_type": "stream",
     "text": [
      "ans =  3\n",
      "ans =  5\n"
     ]
    }
   ],
   "source": [
    "# Retornando linhas ou colunas\n",
    "A = rand(3, 3);\n",
    "B = randn(2, 5);\n",
    "size(A, 1) # deve ser 3\n",
    "size(B, 2) # deve ser 5"
   ]
  },
  {
   "cell_type": "code",
   "execution_count": 25,
   "metadata": {},
   "outputs": [
    {
     "name": "stdout",
     "output_type": "stream",
     "text": [
      "ans =  4\n"
     ]
    }
   ],
   "source": [
    "# Também é possível indexar após a função\n",
    "C = randn(2, 4);\n",
    "size(C)(2)"
   ]
  },
  {
   "cell_type": "code",
   "execution_count": 27,
   "metadata": {},
   "outputs": [
    {
     "name": "stdout",
     "output_type": "stream",
     "text": [
      "A matriz possui 50 linhas e 10 colunas.\n"
     ]
    }
   ],
   "source": [
    "# Printando resultado\n",
    "A = randn(50, 10);\n",
    "lin = size(A, 1);\n",
    "col = size(A, 2);\n",
    "disp(sprintf('A matriz possui %d linhas e %d colunas.', lin, col))"
   ]
  },
  {
   "cell_type": "markdown",
   "metadata": {},
   "source": [
    "## length"
   ]
  },
  {
   "cell_type": "markdown",
   "metadata": {},
   "source": [
    "A função ```length``` retorna o maior tamanho de um elemento"
   ]
  },
  {
   "cell_type": "code",
   "execution_count": 28,
   "metadata": {},
   "outputs": [
    {
     "name": "stdout",
     "output_type": "stream",
     "text": [
      "ans =  5\n"
     ]
    }
   ],
   "source": [
    "# Funciona com matrizes\n",
    "length([1 2 3 4 5; 1 3 4 2 6])"
   ]
  },
  {
   "cell_type": "code",
   "execution_count": 29,
   "metadata": {},
   "outputs": [
    {
     "name": "stdout",
     "output_type": "stream",
     "text": [
      "ans =  6\n"
     ]
    }
   ],
   "source": [
    "# E também com strings\n",
    "length(\"Octave\")"
   ]
  },
  {
   "cell_type": "markdown",
   "metadata": {},
   "source": [
    "# Lendo arquivos"
   ]
  },
  {
   "cell_type": "markdown",
   "metadata": {},
   "source": [
    "Também é possível ler arquivos com o Octave através da função ```load```."
   ]
  },
  {
   "cell_type": "code",
   "execution_count": 33,
   "metadata": {},
   "outputs": [],
   "source": [
    "# Lendo arquivo featuresX.dat\n",
    "load featuresX.dat"
   ]
  },
  {
   "cell_type": "code",
   "execution_count": 34,
   "metadata": {},
   "outputs": [
    {
     "name": "stdout",
     "output_type": "stream",
     "text": [
      "featuresX =\n",
      "\n",
      "   2104      3\n",
      "   1600      3\n",
      "   2400      3\n",
      "   1416      2\n",
      "   3000      4\n",
      "   1985      4\n",
      "   1534      3\n",
      "   1427      3\n",
      "   1380      3\n",
      "   1494      3\n",
      "   1940      4\n",
      "   2000      3\n",
      "   1890      3\n",
      "   4478      5\n",
      "   1268      3\n",
      "   2300      4\n",
      "   1320      2\n",
      "   1236      3\n",
      "   2609      4\n",
      "   3031      4\n",
      "   1767      3\n",
      "   1888      2\n",
      "   1604      3\n",
      "   1962      4\n",
      "   3890      3\n",
      "   1100      3\n",
      "   1458      3\n",
      "   2526      3\n",
      "   2200      3\n",
      "   2637      3\n",
      "   1839      2\n",
      "   1000      1\n",
      "   2040      4\n",
      "   3137      3\n",
      "   1811      4\n",
      "   1437      3\n",
      "   1239      3\n",
      "   2132      4\n",
      "   4215      4\n",
      "   2162      4\n",
      "   1664      2\n",
      "   2238      3\n",
      "   2567      4\n",
      "   1200      3\n",
      "    852      2\n",
      "   1852      4\n",
      "   1203      3\n",
      "\n"
     ]
    }
   ],
   "source": [
    "# Imprimindo arquivo\n",
    "featuresX"
   ]
  },
  {
   "cell_type": "code",
   "execution_count": 37,
   "metadata": {},
   "outputs": [
    {
     "name": "stdout",
     "output_type": "stream",
     "text": [
      "slice_target =\n",
      "\n",
      "   399900\n",
      "   329900\n",
      "   369000\n",
      "   232000\n",
      "   539900\n",
      "   299900\n",
      "   314900\n",
      "   198999\n",
      "   212000\n",
      "   242500\n",
      "\n"
     ]
    }
   ],
   "source": [
    "# Lendo novo arquivo, aplicando slice e salvando novamente\n",
    "load priceY.dat\n",
    "slice_target = priceY(1:10)\n",
    "save slice_target.mat slice_target"
   ]
  },
  {
   "cell_type": "code",
   "execution_count": 38,
   "metadata": {},
   "outputs": [
    {
     "name": "stdout",
     "output_type": "stream",
     "text": [
      "priceY =\n",
      "\n",
      "   399900\n",
      "   329900\n",
      "   369000\n",
      "   232000\n",
      "   539900\n",
      "   299900\n",
      "   314900\n",
      "   198999\n",
      "   212000\n",
      "   242500\n",
      "   239999\n",
      "   347000\n",
      "   329999\n",
      "   699900\n",
      "   259900\n",
      "   449900\n",
      "   299900\n",
      "   199900\n",
      "   499998\n",
      "   599000\n",
      "   252900\n",
      "   255000\n",
      "   242900\n",
      "   259900\n",
      "   573900\n",
      "   249900\n",
      "   464500\n",
      "   469000\n",
      "   475000\n",
      "   299900\n",
      "   349900\n",
      "   169900\n",
      "   314900\n",
      "   579900\n",
      "   285900\n",
      "   249900\n",
      "   229900\n",
      "   345000\n",
      "   549000\n",
      "   287000\n",
      "   368500\n",
      "   329900\n",
      "   314000\n",
      "   299000\n",
      "   179900\n",
      "   299900\n",
      "   239500\n",
      "\n"
     ]
    }
   ],
   "source": [
    "# Confirmando que priceY contém mais dados\n",
    "priceY"
   ]
  },
  {
   "cell_type": "code",
   "execution_count": 39,
   "metadata": {},
   "outputs": [
    {
     "name": "stdout",
     "output_type": "stream",
     "text": [
      "slice_target =\n",
      "\n",
      "   399900\n",
      "   329900\n",
      "   369000\n",
      "   232000\n",
      "   539900\n",
      "   299900\n",
      "   314900\n",
      "   198999\n",
      "   212000\n",
      "   242500\n",
      "\n"
     ]
    }
   ],
   "source": [
    "slice_target"
   ]
  },
  {
   "cell_type": "code",
   "execution_count": 45,
   "metadata": {},
   "outputs": [
    {
     "name": "stdout",
     "output_type": "stream",
     "text": [
      "ans = 1\n"
     ]
    }
   ],
   "source": [
    "# Verificando igualdade de termos\n",
    "all((slice_target == priceY(1:10)))"
   ]
  },
  {
   "cell_type": "markdown",
   "metadata": {},
   "source": [
    "# Plotando dados"
   ]
  },
  {
   "cell_type": "code",
   "execution_count": 48,
   "metadata": {},
   "outputs": [
    {
     "data": {
      "image/png": "[encoded data removed]",
      "text/plain": [
       "<IPython.core.display.Image object>"
      ]
     },
     "metadata": {},
     "output_type": "display_data"
    }
   ],
   "source": [
    "# Criando função\n",
    "f = -6 + sqrt(10)*(randn(1, 10000));\n",
    "hist(f, 50)"
   ]
  },
  {
   "cell_type": "code",
   "execution_count": null,
   "metadata": {},
   "outputs": [],
   "source": []
  }
 ],
 "metadata": {
  "kernelspec": {
   "display_name": "Octave",
   "language": "octave",
   "name": "octave"
  },
  "language_info": {
   "file_extension": ".m",
   "help_links": [
    {
     "text": "GNU Octave",
     "url": "https://www.gnu.org/software/octave/support.html"
    },
    {
     "text": "Octave Kernel",
     "url": "https://github.com/Calysto/octave_kernel"
    },
    {
     "text": "MetaKernel Magics",
     "url": "https://github.com/calysto/metakernel/blob/master/metakernel/magics/README.md"
    }
   ],
   "mimetype": "text/x-octave",
   "name": "octave",
   "version": "4.4.1"
  },
  "toc": {
   "base_numbering": 1,
   "nav_menu": {},
   "number_sections": true,
   "sideBar": true,
   "skip_h1_title": false,
   "title_cell": "Table of Contents",
   "title_sidebar": "Contents",
   "toc_cell": true,
   "toc_position": {},
   "toc_section_display": true,
   "toc_window_display": true
  }
 },
 "nbformat": 4,
 "nbformat_minor": 2
}
