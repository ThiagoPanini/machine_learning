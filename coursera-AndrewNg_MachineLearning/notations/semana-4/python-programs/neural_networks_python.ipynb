{
 "cells": [
  {
   "cell_type": "markdown",
   "metadata": {
    "toc": true
   },
   "source": [
    "<h1>Table of Contents<span class=\"tocSkip\"></span></h1>\n",
    "<div class=\"toc\"><ul class=\"toc-item\"><li><span><a href=\"#MNIST\" data-toc-modified-id=\"MNIST-1\"><span class=\"toc-item-num\">1&nbsp;&nbsp;</span>MNIST</a></span><ul class=\"toc-item\"><li><span><a href=\"#Importando-e-Visualizando-os-Dados\" data-toc-modified-id=\"Importando-e-Visualizando-os-Dados-1.1\"><span class=\"toc-item-num\">1.1&nbsp;&nbsp;</span>Importando e Visualizando os Dados</a></span></li><li><span><a href=\"#Treinando-um-Modelo\" data-toc-modified-id=\"Treinando-um-Modelo-1.2\"><span class=\"toc-item-num\">1.2&nbsp;&nbsp;</span>Treinando um Modelo</a></span></li><li><span><a href=\"#Avaliando-Performance\" data-toc-modified-id=\"Avaliando-Performance-1.3\"><span class=\"toc-item-num\">1.3&nbsp;&nbsp;</span>Avaliando Performance</a></span></li><li><span><a href=\"#Melhorando-Performance\" data-toc-modified-id=\"Melhorando-Performance-1.4\"><span class=\"toc-item-num\">1.4&nbsp;&nbsp;</span>Melhorando Performance</a></span></li><li><span><a href=\"#Comparando-Modelos\" data-toc-modified-id=\"Comparando-Modelos-1.5\"><span class=\"toc-item-num\">1.5&nbsp;&nbsp;</span>Comparando Modelos</a></span></li></ul></li></ul></div>"
   ]
  },
  {
   "cell_type": "markdown",
   "metadata": {},
   "source": [
    "# Redes Neurais Artificiais"
   ]
  },
  {
   "cell_type": "markdown",
   "metadata": {},
   "source": [
    "O objetivo deste notebook é viabilizar e testar aplicações, em Python, utilizando os algoritimos de Redes Neurais fornecidos pelo Scikit-Learn, como por exemplo, o ```MLPClassifier```."
   ]
  },
  {
   "cell_type": "markdown",
   "metadata": {},
   "source": [
    "## MNIST"
   ]
  },
  {
   "cell_type": "markdown",
   "metadata": {},
   "source": [
    "Baseado nos procedimentos realizados no livro de Aurélien Géron, o dataset MNIST será importado e tratado para receber algoritmos baseados em Redes Neurais."
   ]
  },
  {
   "cell_type": "markdown",
   "metadata": {},
   "source": [
    "### Importando e Visualizando os Dados"
   ]
  },
  {
   "cell_type": "code",
   "execution_count": 4,
   "metadata": {},
   "outputs": [
    {
     "data": {
      "text/plain": [
       "{'COL_NAMES': ['label', 'data'],\n",
       " 'DESCR': 'mldata.org dataset: mnist-original',\n",
       " 'data': array([[0, 0, 0, ..., 0, 0, 0],\n",
       "        [0, 0, 0, ..., 0, 0, 0],\n",
       "        [0, 0, 0, ..., 0, 0, 0],\n",
       "        ...,\n",
       "        [0, 0, 0, ..., 0, 0, 0],\n",
       "        [0, 0, 0, ..., 0, 0, 0],\n",
       "        [0, 0, 0, ..., 0, 0, 0]], dtype=uint8),\n",
       " 'target': array([0., 0., 0., ..., 9., 9., 9.])}"
      ]
     },
     "execution_count": 4,
     "metadata": {},
     "output_type": "execute_result"
    }
   ],
   "source": [
    "# Importando bibliotecas e arquivos\n",
    "import pandas as pd\n",
    "from sklearn.datasets import fetch_mldata\n",
    "\n",
    "mnist = fetch_mldata('MNIST original')\n",
    "mnist"
   ]
  },
  {
   "cell_type": "code",
   "execution_count": 5,
   "metadata": {},
   "outputs": [],
   "source": [
    "# Separando dataset\n",
    "data = mnist['data']\n",
    "target = mnist['target']"
   ]
  },
  {
   "cell_type": "code",
   "execution_count": 6,
   "metadata": {},
   "outputs": [
    {
     "name": "stdout",
     "output_type": "stream",
     "text": [
      "Dimensões de \"data\": (70000, 784)\n",
      "Dimensões de \"target\": (70000,)\n"
     ]
    }
   ],
   "source": [
    "# Verificando dimensões\n",
    "print(f'Dimensões de \"data\": {data.shape}')\n",
    "print(f'Dimensões de \"target\": {target.shape}')"
   ]
  },
  {
   "cell_type": "markdown",
   "metadata": {},
   "source": [
    "Para separa o dataset MNIST em \"treino\" e \"teste\", é possível indexar as 60000 primeiras instâncias. Esta propriedade é característica do MNIST."
   ]
  },
  {
   "cell_type": "code",
   "execution_count": 32,
   "metadata": {},
   "outputs": [],
   "source": [
    "# Separando dataset em treino e teste\n",
    "X_train, y_train, X_test, y_test = data[:60000], target[:60000], data[60000:], target[60000:]"
   ]
  },
  {
   "cell_type": "code",
   "execution_count": 33,
   "metadata": {},
   "outputs": [
    {
     "name": "stdout",
     "output_type": "stream",
     "text": [
      "Dimensões X_train: (60000, 784)\n",
      "Dimensões y_train: (60000,)\n",
      "\n",
      "Dimensões X_test: (10000, 784)\n",
      "Dimensões y_test: (10000,)\n"
     ]
    }
   ],
   "source": [
    "# Verificando separação\n",
    "print(f'Dimensões X_train: {X_train.shape}')\n",
    "print(f'Dimensões y_train: {y_train.shape}')\n",
    "print()\n",
    "print(f'Dimensões X_test: {X_test.shape}')\n",
    "print(f'Dimensões y_test: {y_test.shape}')"
   ]
  },
  {
   "cell_type": "code",
   "execution_count": 34,
   "metadata": {},
   "outputs": [],
   "source": [
    "# Criando função para visualizar os dados\n",
    "import numpy as np\n",
    "import matplotlib\n",
    "import matplotlib.pyplot as plt\n",
    "%matplotlib inline\n",
    "\n",
    "def plot_digit(some_digit):\n",
    "    some_digit_image = some_digit.reshape(28, 28)\n",
    "    plt.imshow(some_digit_image, cmap=matplotlib.cm.binary, interpolation='nearest')\n",
    "    plt.axis('off')\n",
    "    plt.show()"
   ]
  },
  {
   "cell_type": "code",
   "execution_count": 25,
   "metadata": {},
   "outputs": [
    {
     "data": {
      "image/png": "[encoded data removed]",
      "text/plain": [
       "<matplotlib.figure.Figure at 0x1fb151a45c0>"
      ]
     },
     "metadata": {
      "needs_background": "light"
     },
     "output_type": "display_data"
    }
   ],
   "source": [
    "# Visualizando os dados\n",
    "some_digit = X_train[987]\n",
    "plot_digit(some_digit)"
   ]
  },
  {
   "cell_type": "markdown",
   "metadata": {},
   "source": [
    "É necessário embaralhar os dados para evitar repetições sequenciais de uma mesma instância. Por exemplo:"
   ]
  },
  {
   "cell_type": "code",
   "execution_count": 35,
   "metadata": {},
   "outputs": [
    {
     "data": {
      "text/plain": [
       "array([0., 0., 0., 0., 0., 0., 0., 0., 0., 0., 0., 0., 0., 0., 0., 0., 0.,\n",
       "       0., 0., 0., 0., 0., 0., 0., 0., 0., 0., 0., 0., 0., 0., 0., 0., 0.,\n",
       "       0., 0., 0., 0., 0., 0., 0., 0., 0., 0., 0., 0., 0., 0., 0., 0., 0.,\n",
       "       0., 0., 0., 0., 0., 0., 0., 0., 0., 0., 0., 0., 0., 0., 0., 0., 0.,\n",
       "       0., 0., 0., 0., 0., 0., 0., 0., 0., 0., 0., 0., 0., 0., 0., 0., 0.,\n",
       "       0., 0., 0., 0., 0., 0., 0., 0., 0., 0., 0., 0., 0., 0., 0., 0., 0.,\n",
       "       0., 0., 0., 0., 0., 0., 0., 0., 0., 0., 0., 0., 0., 0., 0., 0., 0.,\n",
       "       0., 0., 0., 0., 0., 0., 0., 0., 0., 0., 0., 0., 0., 0., 0., 0., 0.,\n",
       "       0., 0., 0., 0., 0., 0., 0., 0., 0., 0., 0., 0., 0., 0., 0., 0., 0.,\n",
       "       0., 0., 0., 0., 0., 0., 0., 0., 0., 0., 0., 0., 0., 0., 0., 0., 0.,\n",
       "       0., 0., 0., 0., 0., 0., 0., 0., 0., 0., 0., 0., 0., 0., 0., 0., 0.,\n",
       "       0., 0., 0., 0., 0., 0., 0., 0., 0., 0., 0., 0., 0., 0., 0., 0., 0.,\n",
       "       0., 0., 0., 0., 0., 0., 0., 0., 0., 0., 0., 0., 0., 0., 0., 0., 0.,\n",
       "       0., 0., 0., 0., 0., 0., 0., 0., 0., 0., 0., 0., 0., 0., 0., 0., 0.,\n",
       "       0., 0., 0., 0., 0., 0., 0., 0., 0., 0., 0., 0., 0., 0., 0., 0., 0.,\n",
       "       0., 0., 0., 0., 0., 0., 0., 0., 0., 0., 0., 0., 0., 0., 0., 0., 0.,\n",
       "       0., 0., 0., 0., 0., 0., 0., 0., 0., 0., 0., 0., 0., 0., 0., 0., 0.,\n",
       "       0., 0., 0., 0., 0., 0., 0., 0., 0., 0., 0., 0., 0., 0., 0., 0., 0.,\n",
       "       0., 0., 0., 0., 0., 0., 0., 0., 0., 0., 0., 0., 0., 0., 0., 0., 0.,\n",
       "       0., 0., 0., 0., 0., 0., 0., 0., 0., 0., 0., 0., 0., 0., 0., 0., 0.,\n",
       "       0., 0., 0., 0., 0., 0., 0., 0., 0., 0., 0., 0., 0., 0., 0., 0., 0.,\n",
       "       0., 0., 0., 0., 0., 0., 0., 0., 0., 0., 0., 0., 0., 0., 0., 0., 0.,\n",
       "       0., 0., 0., 0., 0., 0., 0., 0., 0., 0., 0., 0., 0., 0., 0., 0., 0.,\n",
       "       0., 0., 0., 0., 0., 0., 0., 0., 0., 0., 0., 0., 0., 0., 0., 0., 0.,\n",
       "       0., 0., 0., 0., 0., 0., 0., 0., 0., 0., 0., 0., 0., 0., 0., 0., 0.,\n",
       "       0., 0., 0., 0., 0., 0., 0., 0., 0., 0., 0., 0., 0., 0., 0., 0., 0.,\n",
       "       0., 0., 0., 0., 0., 0., 0., 0., 0., 0., 0., 0., 0., 0., 0., 0., 0.,\n",
       "       0., 0., 0., 0., 0., 0., 0., 0., 0., 0., 0., 0., 0., 0., 0., 0., 0.,\n",
       "       0., 0., 0., 0., 0., 0., 0., 0., 0., 0., 0., 0., 0., 0., 0., 0., 0.,\n",
       "       0., 0., 0., 0., 0., 0., 0., 0., 0., 0., 0., 0., 0., 0., 0., 0., 0.,\n",
       "       0., 0., 0., 0., 0., 0., 0., 0., 0., 0., 0., 0., 0., 0., 0., 0., 0.,\n",
       "       0., 0., 0., 0., 0., 0., 0., 0., 0., 0., 0., 0., 0., 0., 0., 0., 0.,\n",
       "       0., 0., 0., 0., 0., 0., 0., 0., 0., 0., 0., 0., 0., 0., 0., 0., 0.,\n",
       "       0., 0., 0., 0., 0., 0., 0., 0., 0., 0., 0., 0., 0., 0., 0., 0., 0.,\n",
       "       0., 0., 0., 0., 0., 0., 0., 0., 0., 0., 0., 0., 0., 0., 0., 0., 0.,\n",
       "       0., 0., 0., 0., 0., 0., 0., 0., 0., 0., 0., 0., 0., 0., 0., 0., 0.,\n",
       "       0., 0., 0., 0., 0., 0., 0., 0., 0., 0., 0., 0., 0., 0., 0., 0., 0.,\n",
       "       0., 0., 0., 0., 0., 0., 0., 0., 0., 0., 0., 0., 0., 0., 0., 0., 0.,\n",
       "       0., 0., 0., 0., 0., 0., 0., 0., 0., 0., 0., 0., 0., 0., 0., 0., 0.,\n",
       "       0., 0., 0., 0., 0., 0., 0., 0., 0., 0., 0., 0., 0., 0., 0., 0., 0.,\n",
       "       0., 0., 0., 0., 0., 0., 0., 0., 0., 0., 0., 0., 0., 0., 0., 0., 0.,\n",
       "       0., 0., 0., 0., 0., 0., 0., 0., 0., 0., 0., 0., 0., 0., 0., 0., 0.,\n",
       "       0., 0., 0., 0., 0., 0., 0., 0., 0., 0., 0., 0., 0., 0., 0., 0., 0.,\n",
       "       0., 0., 0., 0., 0., 0., 0., 0., 0., 0., 0., 0., 0., 0., 0., 0., 0.,\n",
       "       0., 0., 0., 0., 0., 0., 0., 0., 0., 0., 0., 0., 0., 0., 0., 0., 0.,\n",
       "       0., 0., 0., 0., 0., 0., 0., 0., 0., 0., 0., 0., 0., 0., 0., 0., 0.,\n",
       "       0., 0., 0., 0., 0., 0., 0., 0., 0., 0., 0., 0., 0., 0., 0., 0., 0.,\n",
       "       0., 0., 0., 0., 0., 0., 0., 0., 0., 0., 0., 0., 0., 0., 0., 0., 0.,\n",
       "       0., 0., 0., 0., 0., 0., 0., 0., 0., 0., 0., 0., 0., 0., 0., 0., 0.,\n",
       "       0., 0., 0., 0., 0., 0., 0., 0., 0., 0., 0., 0., 0., 0., 0., 0., 0.,\n",
       "       0., 0., 0., 0., 0., 0., 0., 0., 0., 0., 0., 0., 0., 0., 0., 0., 0.,\n",
       "       0., 0., 0., 0., 0., 0., 0., 0., 0., 0., 0., 0., 0., 0., 0., 0., 0.,\n",
       "       0., 0., 0., 0., 0., 0., 0., 0., 0., 0., 0., 0., 0., 0., 0., 0., 0.,\n",
       "       0., 0., 0., 0., 0., 0., 0., 0., 0., 0., 0., 0., 0., 0., 0., 0., 0.,\n",
       "       0., 0., 0., 0., 0., 0., 0., 0., 0., 0., 0., 0., 0., 0., 0., 0., 0.,\n",
       "       0., 0., 0., 0., 0., 0., 0., 0., 0., 0., 0., 0., 0., 0., 0., 0., 0.,\n",
       "       0., 0., 0., 0., 0., 0., 0., 0., 0., 0., 0., 0., 0., 0., 0., 0., 0.,\n",
       "       0., 0., 0., 0., 0., 0., 0., 0., 0., 0., 0., 0., 0., 0., 0., 0., 0.,\n",
       "       0., 0., 0., 0., 0., 0., 0., 0., 0., 0., 0., 0., 0., 0.])"
      ]
     },
     "execution_count": 35,
     "metadata": {},
     "output_type": "execute_result"
    }
   ],
   "source": [
    "# Quais dígitos estão alocados nas primeiras posições?\n",
    "y_train[:1000]"
   ]
  },
  {
   "cell_type": "code",
   "execution_count": 36,
   "metadata": {},
   "outputs": [],
   "source": [
    "# Embaralhando os dados\n",
    "shuffle_index = np.random.permutation(60000)\n",
    "X_train, y_train = X_train[shuffle_index], y_train[shuffle_index]"
   ]
  },
  {
   "cell_type": "code",
   "execution_count": 38,
   "metadata": {},
   "outputs": [
    {
     "data": {
      "text/plain": [
       "array([2., 3., 9., 3., 4., 7., 9., 5., 1., 4.])"
      ]
     },
     "execution_count": 38,
     "metadata": {},
     "output_type": "execute_result"
    }
   ],
   "source": [
    "# Verificando\n",
    "y_train[:10]"
   ]
  },
  {
   "cell_type": "markdown",
   "metadata": {},
   "source": [
    "Será que é possível saber quantas instâncias de cada numeral estão nos dados de treinamento?"
   ]
  },
  {
   "cell_type": "code",
   "execution_count": 41,
   "metadata": {},
   "outputs": [
    {
     "name": "stdout",
     "output_type": "stream",
     "text": [
      "Quantidade de 0s: 5923\n",
      "Quantidade de 1s: 6742\n"
     ]
    }
   ],
   "source": [
    "# Verificando\n",
    "print(f'Quantidade de 0s: {sum(y_train==0)}')\n",
    "print(f'Quantidade de 1s: {sum(y_train==1)}')"
   ]
  },
  {
   "cell_type": "code",
   "execution_count": 44,
   "metadata": {},
   "outputs": [],
   "source": [
    "# Criando função para retornar este resultado\n",
    "def count_instances(data):\n",
    "    range_instances = list(range(10))\n",
    "    for instance in range_instances:\n",
    "        print(f'Quantidade de {instance}s: {sum(y_train==instance)}')"
   ]
  },
  {
   "cell_type": "code",
   "execution_count": 45,
   "metadata": {},
   "outputs": [
    {
     "name": "stdout",
     "output_type": "stream",
     "text": [
      "Quantidade de 0s: 5923\n",
      "Quantidade de 1s: 6742\n",
      "Quantidade de 2s: 5958\n",
      "Quantidade de 3s: 6131\n",
      "Quantidade de 4s: 5842\n",
      "Quantidade de 5s: 5421\n",
      "Quantidade de 6s: 5918\n",
      "Quantidade de 7s: 6265\n",
      "Quantidade de 8s: 5851\n",
      "Quantidade de 9s: 5949\n"
     ]
    }
   ],
   "source": [
    "# Chamando função\n",
    "count_instances(y_train)"
   ]
  },
  {
   "cell_type": "markdown",
   "metadata": {},
   "source": [
    "### Treinando um Modelo"
   ]
  },
  {
   "cell_type": "markdown",
   "metadata": {},
   "source": [
    "Como dito anteriormente, o objetivo deste notebook é a familiarização com algoritmos de Redes Neurais. O primeiro (e único, até o momento) a ser utilizado será o ```MLPClassifier()```."
   ]
  },
  {
   "cell_type": "code",
   "execution_count": 46,
   "metadata": {},
   "outputs": [
    {
     "data": {
      "text/plain": [
       "MLPClassifier(activation='relu', alpha=0.0001, batch_size='auto', beta_1=0.9,\n",
       "       beta_2=0.999, early_stopping=False, epsilon=1e-08,\n",
       "       hidden_layer_sizes=(100,), learning_rate='constant',\n",
       "       learning_rate_init=0.001, max_iter=200, momentum=0.9,\n",
       "       nesterovs_momentum=True, power_t=0.5, random_state=None,\n",
       "       shuffle=True, solver='adam', tol=0.0001, validation_fraction=0.1,\n",
       "       verbose=False, warm_start=False)"
      ]
     },
     "execution_count": 46,
     "metadata": {},
     "output_type": "execute_result"
    }
   ],
   "source": [
    "# Importando algoritmo\n",
    "from sklearn.neural_network import MLPClassifier\n",
    "\n",
    "# Criando classificador e treinando modelo\n",
    "mlp_clf = MLPClassifier()\n",
    "mlp_clf.fit(X_train, y_train)"
   ]
  },
  {
   "cell_type": "markdown",
   "metadata": {},
   "source": [
    "* Primeiro ponto a ser destacado: o treinamento possui relativa demora. Não aplicar ```cross_validation``` nesta máquina.\n",
    "* Segundo ponto a ser destacado: **hiperparâmetros**.\n",
    "* Terceiro ponto a ser destacado: hiperparâmetros **hidden_layer_sizes** e **alpha**."
   ]
  },
  {
   "cell_type": "markdown",
   "metadata": {},
   "source": [
    "### Avaliando Performance"
   ]
  },
  {
   "cell_type": "code",
   "execution_count": 47,
   "metadata": {},
   "outputs": [
    {
     "data": {
      "text/plain": [
       "array([[ 964,    0,    2,    1,    0,    4,    5,    1,    2,    1],\n",
       "       [   1, 1112,    4,    0,    1,    0,    4,    0,   12,    1],\n",
       "       [   5,    4,  984,    8,   11,    1,    3,    8,    5,    3],\n",
       "       [   3,    2,    6,  970,    3,   14,    1,    4,    5,    2],\n",
       "       [   1,    0,    2,    1,  945,    1,    6,    4,    5,   17],\n",
       "       [   8,    0,    1,   27,    5,  832,   11,    0,    6,    2],\n",
       "       [   9,    3,    0,    0,    5,   10,  929,    0,    2,    0],\n",
       "       [   0,    5,   22,    6,   10,    0,    1,  972,    4,    8],\n",
       "       [   6,    2,   11,   14,    2,    3,    4,    4,  923,    5],\n",
       "       [   6,    2,    1,   12,   22,    1,    1,    7,    6,  951]],\n",
       "      dtype=int64)"
      ]
     },
     "execution_count": 47,
     "metadata": {},
     "output_type": "execute_result"
    }
   ],
   "source": [
    "# Matriz de Confusão\n",
    "from sklearn.metrics import confusion_matrix\n",
    "\n",
    "y_pred = mlp_clf.predict(X_test)\n",
    "confusion_matrix(y_test, y_pred)"
   ]
  },
  {
   "cell_type": "markdown",
   "metadata": {},
   "source": [
    "Os números parecem satisfatórios. Vamos avaliar a acurácia."
   ]
  },
  {
   "cell_type": "code",
   "execution_count": 48,
   "metadata": {},
   "outputs": [
    {
     "data": {
      "text/plain": [
       "0.9582"
      ]
     },
     "execution_count": 48,
     "metadata": {},
     "output_type": "execute_result"
    }
   ],
   "source": [
    "# Acurácia\n",
    "from sklearn.metrics import accuracy_score\n",
    "\n",
    "accuracy_score(y_test, y_pred)"
   ]
  },
  {
   "cell_type": "code",
   "execution_count": 50,
   "metadata": {},
   "outputs": [
    {
     "data": {
      "text/plain": [
       "array([0.94781044, 0.93349667, 0.9453418 ])"
      ]
     },
     "execution_count": 50,
     "metadata": {},
     "output_type": "execute_result"
    }
   ],
   "source": [
    "# Aplicando cross validation\n",
    "from sklearn.model_selection import cross_val_score\n",
    "\n",
    "cross_val_score(mlp_clf, X_train, y_train, cv=3, scoring='accuracy')"
   ]
  },
  {
   "cell_type": "markdown",
   "metadata": {},
   "source": [
    "Os valores são razoavelmente satisfatórios, visto que trata-se de um problema de classificação multiclasse."
   ]
  },
  {
   "cell_type": "code",
   "execution_count": 52,
   "metadata": {},
   "outputs": [],
   "source": [
    "# Aplicando cross_val_precit\n",
    "from sklearn.model_selection import cross_val_predict\n",
    "\n",
    "mlp_clf = MLPClassifier()\n",
    "y_probas_mlp = cross_val_predict(mlp_clf, X_train, y_train, \n",
    "                                 cv=3, method='predict_proba')"
   ]
  },
  {
   "cell_type": "code",
   "execution_count": 56,
   "metadata": {},
   "outputs": [
    {
     "data": {
      "text/plain": [
       "array([6.41379887e-66, 6.89788205e-33, 2.33005247e-15, 1.00000000e+00,\n",
       "       3.17577417e-57, 2.64489211e-22, 2.47310368e-81, 9.86934696e-39,\n",
       "       4.05620181e-27, 1.12536009e-19])"
      ]
     },
     "execution_count": 56,
     "metadata": {},
     "output_type": "execute_result"
    }
   ],
   "source": [
    "y_probas_mlp[1]"
   ]
  },
  {
   "cell_type": "code",
   "execution_count": 58,
   "metadata": {},
   "outputs": [
    {
     "data": {
      "text/plain": [
       "3.0"
      ]
     },
     "execution_count": 58,
     "metadata": {},
     "output_type": "execute_result"
    }
   ],
   "source": [
    "# Verificando se realmente é o número 3\n",
    "y_train[1]"
   ]
  },
  {
   "cell_type": "code",
   "execution_count": 60,
   "metadata": {},
   "outputs": [
    {
     "data": {
      "image/png": "[encoded data removed]",
      "text/plain": [
       "<matplotlib.figure.Figure at 0x1fb193b3e10>"
      ]
     },
     "metadata": {
      "needs_background": "light"
     },
     "output_type": "display_data"
    }
   ],
   "source": [
    "# Plotando\n",
    "plot_digit(X_train[1])"
   ]
  },
  {
   "cell_type": "markdown",
   "metadata": {},
   "source": [
    "### Melhorando Performance"
   ]
  },
  {
   "cell_type": "code",
   "execution_count": 61,
   "metadata": {},
   "outputs": [
    {
     "data": {
      "text/plain": [
       "array([0.96180764, 0.9680484 , 0.96914537])"
      ]
     },
     "execution_count": 61,
     "metadata": {},
     "output_type": "execute_result"
    }
   ],
   "source": [
    "# Aplicando Normalização\n",
    "from sklearn.preprocessing import StandardScaler\n",
    "\n",
    "std_scaler = StandardScaler()\n",
    "X_train_scaled = std_scaler.fit_transform(X_train.astype(np.float64))\n",
    "\n",
    "# Realizando novo treinamento\n",
    "cross_val_score(mlp_clf, X_train_scaled, y_train,\n",
    "               cv=3, scoring='accuracy')"
   ]
  },
  {
   "cell_type": "markdown",
   "metadata": {},
   "source": [
    "Ganhamos aproximadamente 2% de acurácia com a padronização dos dados."
   ]
  },
  {
   "cell_type": "code",
   "execution_count": 70,
   "metadata": {},
   "outputs": [
    {
     "data": {
      "text/plain": [
       "array([[ 960,    0,    0,    1,    2,    4,    6,    2,    4,    1],\n",
       "       [   0, 1103,    7,    3,    1,    2,    3,    3,   12,    1],\n",
       "       [  12,    3,  935,    7,   20,    4,    9,   23,   16,    3],\n",
       "       [   2,    0,   18,  923,    0,   30,    0,   10,   12,   15],\n",
       "       [   2,    3,    7,    0,  930,    0,   10,    6,    2,   22],\n",
       "       [  10,    4,    5,   22,   16,  789,   21,    5,   13,    7],\n",
       "       [  10,    3,    3,    1,   11,   10,  915,    1,    4,    0],\n",
       "       [   3,   10,   10,    5,   12,    6,    0,  954,    5,   23],\n",
       "       [   8,    6,   12,   13,   10,   16,    7,   10,  888,    4],\n",
       "       [  11,    7,    1,   13,   19,   11,    2,   27,    8,  910]],\n",
       "      dtype=int64)"
      ]
     },
     "execution_count": 70,
     "metadata": {},
     "output_type": "execute_result"
    }
   ],
   "source": [
    "# Verificando acurácia com dados de teste\n",
    "mlp_clf = MLPClassifier()\n",
    "\n",
    "X_test_scaled = std_scaler.fit_transform(X_test.astype(np.float64))\n",
    "y_pred_scaled = cross_val_predict(mlp_clf, X_test_scaled, y_test, \n",
    "                                cv=3)\n",
    "\n",
    "conf_mx = confusion_matrix(y_test, y_pred_scaled)\n",
    "conf_mx"
   ]
  },
  {
   "cell_type": "code",
   "execution_count": 71,
   "metadata": {},
   "outputs": [
    {
     "data": {
      "text/plain": [
       "<matplotlib.figure.Figure at 0x1fb1942f438>"
      ]
     },
     "metadata": {},
     "output_type": "display_data"
    },
    {
     "data": {
      "image/png": "[encoded data removed]",
      "text/plain": [
       "<matplotlib.figure.Figure at 0x1fb1942f0b8>"
      ]
     },
     "metadata": {
      "needs_background": "light"
     },
     "output_type": "display_data"
    }
   ],
   "source": [
    "# Visualizando matriz graficamente\n",
    "plt.figure(figsize=(12, 8))\n",
    "plt.matshow(conf_mx, cmap='binary')\n",
    "plt.show()"
   ]
  },
  {
   "cell_type": "code",
   "execution_count": 72,
   "metadata": {},
   "outputs": [
    {
     "data": {
      "image/png": "[encoded data removed]",
      "text/plain": [
       "<matplotlib.figure.Figure at 0x1fb150c6be0>"
      ]
     },
     "metadata": {
      "needs_background": "light"
     },
     "output_type": "display_data"
    }
   ],
   "source": [
    "# Melhor visualização\n",
    "row_sums = conf_mx.sum(axis=1, keepdims=True)\n",
    "norm_conf_mx = conf_mx / row_sums\n",
    "\n",
    "np.fill_diagonal(norm_conf_mx, 0)\n",
    "plt.matshow(norm_conf_mx, cmap=plt.cm.gray)\n",
    "plt.show()"
   ]
  },
  {
   "cell_type": "markdown",
   "metadata": {},
   "source": [
    "### Comparando Modelos"
   ]
  },
  {
   "cell_type": "code",
   "execution_count": 74,
   "metadata": {},
   "outputs": [
    {
     "name": "stderr",
     "output_type": "stream",
     "text": [
      "C:\\Users\\thiagoPanini\\Anaconda3\\lib\\site-packages\\sklearn\\linear_model\\stochastic_gradient.py:128: FutureWarning: max_iter and tol parameters have been added in <class 'sklearn.linear_model.stochastic_gradient.SGDClassifier'> in 0.19. If both are left unset, they default to max_iter=5 and tol=None. If tol is not None, max_iter defaults to max_iter=1000. From 0.21, default max_iter will be 1000, and default tol will be 1e-3.\n",
      "  \"and default tol will be 1e-3.\" % type(self), FutureWarning)\n",
      "C:\\Users\\thiagoPanini\\Anaconda3\\lib\\site-packages\\sklearn\\linear_model\\stochastic_gradient.py:128: FutureWarning: max_iter and tol parameters have been added in <class 'sklearn.linear_model.stochastic_gradient.SGDClassifier'> in 0.19. If both are left unset, they default to max_iter=5 and tol=None. If tol is not None, max_iter defaults to max_iter=1000. From 0.21, default max_iter will be 1000, and default tol will be 1e-3.\n",
      "  \"and default tol will be 1e-3.\" % type(self), FutureWarning)\n",
      "C:\\Users\\thiagoPanini\\Anaconda3\\lib\\site-packages\\sklearn\\linear_model\\stochastic_gradient.py:128: FutureWarning: max_iter and tol parameters have been added in <class 'sklearn.linear_model.stochastic_gradient.SGDClassifier'> in 0.19. If both are left unset, they default to max_iter=5 and tol=None. If tol is not None, max_iter defaults to max_iter=1000. From 0.21, default max_iter will be 1000, and default tol will be 1e-3.\n",
      "  \"and default tol will be 1e-3.\" % type(self), FutureWarning)\n"
     ]
    }
   ],
   "source": [
    "# Bônus: comparando com matriz do classificados SGD\n",
    "from sklearn.linear_model import SGDClassifier\n",
    "\n",
    "sgd_clf = SGDClassifier()\n",
    "y_pred_sgd = cross_val_predict(sgd_clf, X_test_scaled, y_test, cv=3)\n",
    "conf_mx_sgd = confusion_matrix(y_test, y_pred_sgd)"
   ]
  },
  {
   "cell_type": "code",
   "execution_count": 75,
   "metadata": {},
   "outputs": [
    {
     "name": "stdout",
     "output_type": "stream",
     "text": [
      "MLP CLASSIFIER: \n",
      "[[ 960    0    0    1    2    4    6    2    4    1]\n",
      " [   0 1103    7    3    1    2    3    3   12    1]\n",
      " [  12    3  935    7   20    4    9   23   16    3]\n",
      " [   2    0   18  923    0   30    0   10   12   15]\n",
      " [   2    3    7    0  930    0   10    6    2   22]\n",
      " [  10    4    5   22   16  789   21    5   13    7]\n",
      " [  10    3    3    1   11   10  915    1    4    0]\n",
      " [   3   10   10    5   12    6    0  954    5   23]\n",
      " [   8    6   12   13   10   16    7   10  888    4]\n",
      " [  11    7    1   13   19   11    2   27    8  910]]\n",
      "\n",
      "SGD CLASSIFIER: \n",
      "[[ 951    0    2    3    5    9    6    1    3    0]\n",
      " [   0 1061   13    5    0    5    3    4   43    1]\n",
      " [   9    5  891   24   23    3   19   16   37    5]\n",
      " [   3    3   23  889    0   34    4   15   18   21]\n",
      " [   1    3   12    0  887    1   14    8   12   44]\n",
      " [  10    8    5   39   29  724   18   14   31   14]\n",
      " [  10    5    9    1   11   24  889    3    6    0]\n",
      " [   7   10   18    9   13    1    1  923    5   41]\n",
      " [  12   13   16   33    9   37    9   16  811   18]\n",
      " [   8    5    6   16   45    8    0   66    9  846]]\n"
     ]
    }
   ],
   "source": [
    "# Comparando matrizes\n",
    "print(f'MLP CLASSIFIER: \\n{conf_mx}')\n",
    "print()\n",
    "print(f'SGD CLASSIFIER: \\n{conf_mx_sgd}')"
   ]
  },
  {
   "cell_type": "markdown",
   "metadata": {},
   "source": [
    "Análise: diagnoais do ```MLPClassifier``` possuem valores mais interessantes."
   ]
  },
  {
   "cell_type": "code",
   "execution_count": 78,
   "metadata": {},
   "outputs": [],
   "source": [
    "# Comparando acurácia com Random Forest\n",
    "from sklearn.ensemble import RandomForestClassifier\n",
    "\n",
    "# Treinando Random Forest\n",
    "forest_clf = RandomForestClassifier()\n",
    "y_pred_scores_forest = cross_val_score(forest_clf, X_test_scaled, y_test, \n",
    "                                       cv=3, scoring='accuracy')\n",
    "\n",
    "# Treinando MLP\n",
    "mlp_clf = MLPClassifier()\n",
    "y_pred_scores_mlp = cross_val_score(mlp_clf, X_test_scaled, y_test, \n",
    "                                    cv=3, scoring='accuracy')"
   ]
  },
  {
   "cell_type": "code",
   "execution_count": 79,
   "metadata": {},
   "outputs": [
    {
     "name": "stdout",
     "output_type": "stream",
     "text": [
      "Acurácia média do modelo Random Forest: 0.89\n",
      "Acurácia média do modelo MLP Classifier: 0.93\n"
     ]
    }
   ],
   "source": [
    "# Comparando valores\n",
    "print(f'Acurácia média do modelo Random Forest: {y_pred_scores_forest.mean():.2f}')\n",
    "print(f'Acurácia média do modelo MLP Classifier: {y_pred_scores_mlp.mean():.2f}')"
   ]
  },
  {
   "cell_type": "markdown",
   "metadata": {},
   "source": [
    "Aumentando o número k de folds melhora em algo? Tentando com 7 folds."
   ]
  },
  {
   "cell_type": "code",
   "execution_count": 80,
   "metadata": {},
   "outputs": [
    {
     "name": "stdout",
     "output_type": "stream",
     "text": [
      "Acurácia média do modelo Random Forest: 0.91\n",
      "Acurácia média do modelo MLP Classifier: 0.95\n"
     ]
    }
   ],
   "source": [
    "# Aumentando cv\n",
    "# Treinando Random Forest\n",
    "forest_clf = RandomForestClassifier()\n",
    "y_pred_scores_forest = cross_val_score(forest_clf, X_test_scaled, y_test, \n",
    "                                       cv=7, scoring='accuracy')\n",
    "\n",
    "# Treinando MLP\n",
    "mlp_clf = MLPClassifier()\n",
    "y_pred_scores_mlp = cross_val_score(mlp_clf, X_test_scaled, y_test, \n",
    "                                    cv=7, scoring='accuracy')\n",
    "\n",
    "# Comunicando resultados\n",
    "print(f'Acurácia média do modelo Random Forest: {y_pred_scores_forest.mean():.2f}')\n",
    "print(f'Acurácia média do modelo MLP Classifier: {y_pred_scores_mlp.mean():.2f}')"
   ]
  },
  {
   "cell_type": "markdown",
   "metadata": {},
   "source": [
    "Aumento de dois pontos percentuais na acurácia de cada um dos modelos."
   ]
  },
  {
   "cell_type": "code",
   "execution_count": 84,
   "metadata": {},
   "outputs": [
    {
     "name": "stdout",
     "output_type": "stream",
     "text": [
      "Resultado com 1 camada(s) oculta(s): 0.38\n"
     ]
    },
    {
     "name": "stderr",
     "output_type": "stream",
     "text": [
      "C:\\Users\\thiagoPanini\\Anaconda3\\lib\\site-packages\\sklearn\\neural_network\\multilayer_perceptron.py:564: ConvergenceWarning: Stochastic Optimizer: Maximum iterations (200) reached and the optimization hasn't converged yet.\n",
      "  % self.max_iter, ConvergenceWarning)\n"
     ]
    },
    {
     "name": "stdout",
     "output_type": "stream",
     "text": [
      "Resultado com 2 camada(s) oculta(s): 0.68\n",
      "Resultado com 3 camada(s) oculta(s): 0.82\n",
      "Resultado com 4 camada(s) oculta(s): 0.87\n",
      "Resultado com 5 camada(s) oculta(s): 0.88\n",
      "Resultado com 6 camada(s) oculta(s): 0.91\n",
      "Resultado com 7 camada(s) oculta(s): 0.92\n",
      "Resultado com 8 camada(s) oculta(s): 0.93\n",
      "Resultado com 9 camada(s) oculta(s): 0.94\n",
      "Resultado com 10 camada(s) oculta(s): 0.93\n",
      "Resultado com 11 camada(s) oculta(s): 0.94\n",
      "Resultado com 12 camada(s) oculta(s): 0.94\n",
      "Resultado com 13 camada(s) oculta(s): 0.94\n",
      "Resultado com 14 camada(s) oculta(s): 0.94\n",
      "Resultado com 15 camada(s) oculta(s): 0.95\n",
      "Resultado com 16 camada(s) oculta(s): 0.94\n",
      "Resultado com 17 camada(s) oculta(s): 0.95\n",
      "Resultado com 18 camada(s) oculta(s): 0.94\n",
      "Resultado com 19 camada(s) oculta(s): 0.95\n",
      "Resultado com 20 camada(s) oculta(s): 0.94\n",
      "Resultado com 21 camada(s) oculta(s): 0.95\n",
      "Resultado com 22 camada(s) oculta(s): 0.95\n",
      "Resultado com 23 camada(s) oculta(s): 0.95\n",
      "Resultado com 24 camada(s) oculta(s): 0.95\n",
      "Resultado com 25 camada(s) oculta(s): 0.95\n",
      "Resultado com 26 camada(s) oculta(s): 0.95\n",
      "Resultado com 27 camada(s) oculta(s): 0.96\n",
      "Resultado com 28 camada(s) oculta(s): 0.96\n",
      "Resultado com 29 camada(s) oculta(s): 0.96\n",
      "Resultado com 30 camada(s) oculta(s): 0.96\n"
     ]
    }
   ],
   "source": [
    "# Comparando com o aumento de hidden_layers\n",
    "layers = 30\n",
    "\n",
    "for number_layers in range(1, layers+1):\n",
    "    # Criando classificador\n",
    "    mlp_clf = MLPClassifier(hidden_layer_sizes=number_layers)\n",
    "    \n",
    "    # Treinando modelo e realizando predições\n",
    "    mlp_clf.fit(X_train_scaled, y_train)\n",
    "    y_pred_mlp = mlp_clf.predict(X_test_scaled)\n",
    "    \n",
    "    # Medindo acurácia\n",
    "    acc = accuracy_score(y_test, y_pred_mlp)\n",
    "    print(f'Resultado com {number_layers} camada(s) oculta(s): {acc:.2f}')"
   ]
  },
  {
   "cell_type": "markdown",
   "metadata": {},
   "source": [
    "Considerações: demorou aproximadamente 40 minutos para a realização de todos os treinamentos. O padrão, para o MLP, é de 100 hidden_layers."
   ]
  },
  {
   "cell_type": "code",
   "execution_count": null,
   "metadata": {},
   "outputs": [],
   "source": []
  }
 ],
 "metadata": {
  "kernelspec": {
   "display_name": "Python 3",
   "language": "python",
   "name": "python3"
  },
  "language_info": {
   "codemirror_mode": {
    "name": "ipython",
    "version": 3
   },
   "file_extension": ".py",
   "mimetype": "text/x-python",
   "name": "python",
   "nbconvert_exporter": "python",
   "pygments_lexer": "ipython3",
   "version": "3.6.4"
  },
  "toc": {
   "base_numbering": 1,
   "nav_menu": {},
   "number_sections": true,
   "sideBar": true,
   "skip_h1_title": true,
   "title_cell": "Table of Contents",
   "title_sidebar": "Contents",
   "toc_cell": true,
   "toc_position": {},
   "toc_section_display": true,
   "toc_window_display": true
  }
 },
 "nbformat": 4,
 "nbformat_minor": 2
}
