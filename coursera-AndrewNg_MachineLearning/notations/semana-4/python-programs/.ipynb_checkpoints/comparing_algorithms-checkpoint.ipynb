{
 "cells": [
  {
   "cell_type": "markdown",
   "metadata": {
    "toc": true
   },
   "source": [
    "<h1>Table of Contents<span class=\"tocSkip\"></span></h1>\n",
    "<div class=\"toc\"><ul class=\"toc-item\"><li><span><a href=\"#MNIST\" data-toc-modified-id=\"MNIST-1\"><span class=\"toc-item-num\">1&nbsp;&nbsp;</span>MNIST</a></span></li><li><span><a href=\"#Decision-Trees\" data-toc-modified-id=\"Decision-Trees-2\"><span class=\"toc-item-num\">2&nbsp;&nbsp;</span>Decision Trees</a></span><ul class=\"toc-item\"><li><span><a href=\"#Treinando-Modelo\" data-toc-modified-id=\"Treinando-Modelo-2.1\"><span class=\"toc-item-num\">2.1&nbsp;&nbsp;</span>Treinando Modelo</a></span></li><li><span><a href=\"#Avaliando-Performance\" data-toc-modified-id=\"Avaliando-Performance-2.2\"><span class=\"toc-item-num\">2.2&nbsp;&nbsp;</span>Avaliando Performance</a></span><ul class=\"toc-item\"><li><span><a href=\"#Accuracy\" data-toc-modified-id=\"Accuracy-2.2.1\"><span class=\"toc-item-num\">2.2.1&nbsp;&nbsp;</span>Accuracy</a></span></li><li><span><a href=\"#Confusion-Matrix\" data-toc-modified-id=\"Confusion-Matrix-2.2.2\"><span class=\"toc-item-num\">2.2.2&nbsp;&nbsp;</span>Confusion Matrix</a></span></li></ul></li><li><span><a href=\"#Padronização-dos-Dados\" data-toc-modified-id=\"Padronização-dos-Dados-2.3\"><span class=\"toc-item-num\">2.3&nbsp;&nbsp;</span>Padronização dos Dados</a></span></li><li><span><a href=\"#Tunando-Hiperparâmetros\" data-toc-modified-id=\"Tunando-Hiperparâmetros-2.4\"><span class=\"toc-item-num\">2.4&nbsp;&nbsp;</span>Tunando Hiperparâmetros</a></span><ul class=\"toc-item\"><li><span><a href=\"#max_depth\" data-toc-modified-id=\"max_depth-2.4.1\"><span class=\"toc-item-num\">2.4.1&nbsp;&nbsp;</span>max_depth</a></span></li><li><span><a href=\"#min_samples_split\" data-toc-modified-id=\"min_samples_split-2.4.2\"><span class=\"toc-item-num\">2.4.2&nbsp;&nbsp;</span>min_samples_split</a></span></li><li><span><a href=\"#min_samples_leaf\" data-toc-modified-id=\"min_samples_leaf-2.4.3\"><span class=\"toc-item-num\">2.4.3&nbsp;&nbsp;</span>min_samples_leaf</a></span></li><li><span><a href=\"#max_features\" data-toc-modified-id=\"max_features-2.4.4\"><span class=\"toc-item-num\">2.4.4&nbsp;&nbsp;</span>max_features</a></span></li><li><span><a href=\"#criterion\" data-toc-modified-id=\"criterion-2.4.5\"><span class=\"toc-item-num\">2.4.5&nbsp;&nbsp;</span>criterion</a></span></li><li><span><a href=\"#GridSearchCV\" data-toc-modified-id=\"GridSearchCV-2.4.6\"><span class=\"toc-item-num\">2.4.6&nbsp;&nbsp;</span>GridSearchCV</a></span></li></ul></li><li><span><a href=\"#Avaliando-Resultados\" data-toc-modified-id=\"Avaliando-Resultados-2.5\"><span class=\"toc-item-num\">2.5&nbsp;&nbsp;</span>Avaliando Resultados</a></span></li><li><span><a href=\"#Avaliando-em-Dados-de-Teste\" data-toc-modified-id=\"Avaliando-em-Dados-de-Teste-2.6\"><span class=\"toc-item-num\">2.6&nbsp;&nbsp;</span>Avaliando em Dados de Teste</a></span></li></ul></li><li><span><a href=\"#SGD-Classifier\" data-toc-modified-id=\"SGD-Classifier-3\"><span class=\"toc-item-num\">3&nbsp;&nbsp;</span>SGD Classifier</a></span><ul class=\"toc-item\"><li><span><a href=\"#Treinando-Modelo\" data-toc-modified-id=\"Treinando-Modelo-3.1\"><span class=\"toc-item-num\">3.1&nbsp;&nbsp;</span>Treinando Modelo</a></span></li><li><span><a href=\"#Avaliando-Performance\" data-toc-modified-id=\"Avaliando-Performance-3.2\"><span class=\"toc-item-num\">3.2&nbsp;&nbsp;</span>Avaliando Performance</a></span><ul class=\"toc-item\"><li><span><a href=\"#Accuracy\" data-toc-modified-id=\"Accuracy-3.2.1\"><span class=\"toc-item-num\">3.2.1&nbsp;&nbsp;</span>Accuracy</a></span></li><li><span><a href=\"#Confusion-Matrix\" data-toc-modified-id=\"Confusion-Matrix-3.2.2\"><span class=\"toc-item-num\">3.2.2&nbsp;&nbsp;</span>Confusion Matrix</a></span></li></ul></li><li><span><a href=\"#Padronização-dos-Dados\" data-toc-modified-id=\"Padronização-dos-Dados-3.3\"><span class=\"toc-item-num\">3.3&nbsp;&nbsp;</span>Padronização dos Dados</a></span></li><li><span><a href=\"#Tunando-Hiperparâmetros\" data-toc-modified-id=\"Tunando-Hiperparâmetros-3.4\"><span class=\"toc-item-num\">3.4&nbsp;&nbsp;</span>Tunando Hiperparâmetros</a></span></li><li><span><a href=\"#Avaliando-Resultados\" data-toc-modified-id=\"Avaliando-Resultados-3.5\"><span class=\"toc-item-num\">3.5&nbsp;&nbsp;</span>Avaliando Resultados</a></span></li><li><span><a href=\"#Avaliando-nos-Dados-de-Teste\" data-toc-modified-id=\"Avaliando-nos-Dados-de-Teste-3.6\"><span class=\"toc-item-num\">3.6&nbsp;&nbsp;</span>Avaliando nos Dados de Teste</a></span></li></ul></li><li><span><a href=\"#Random-Forest\" data-toc-modified-id=\"Random-Forest-4\"><span class=\"toc-item-num\">4&nbsp;&nbsp;</span>Random Forest</a></span><ul class=\"toc-item\"><li><span><a href=\"#Dados-de-Treino\" data-toc-modified-id=\"Dados-de-Treino-4.1\"><span class=\"toc-item-num\">4.1&nbsp;&nbsp;</span>Dados de Treino</a></span></li><li><span><a href=\"#Tunando-Hiperparâmetros\" data-toc-modified-id=\"Tunando-Hiperparâmetros-4.2\"><span class=\"toc-item-num\">4.2&nbsp;&nbsp;</span>Tunando Hiperparâmetros</a></span></li><li><span><a href=\"#Dados-de-Teste\" data-toc-modified-id=\"Dados-de-Teste-4.3\"><span class=\"toc-item-num\">4.3&nbsp;&nbsp;</span>Dados de Teste</a></span></li></ul></li></ul></div>"
   ]
  },
  {
   "cell_type": "markdown",
   "metadata": {},
   "source": [
    "Este notebook tem por objetivo realizar treinamentos em diferentes algoritmo de Classificação, comparando suas performances e analisando algumas especificidades. Como o tema deste capítulo gira em torno de ```Redes Neurais```, o foco, neste código, será dado ao algoritmo ```MLPClassifier``` do Scikit-Learn."
   ]
  },
  {
   "cell_type": "markdown",
   "metadata": {},
   "source": [
    "## MNIST"
   ]
  },
  {
   "cell_type": "code",
   "execution_count": 1,
   "metadata": {
    "ExecuteTime": {
     "end_time": "2019-01-05T15:38:05.088451Z",
     "start_time": "2019-01-05T15:37:55.602995Z"
    }
   },
   "outputs": [],
   "source": [
    "# Preparação para análise futura\n",
    "import pandas as pd\n",
    "dataset_columns = ['acc_train', 'acc_train_cv', 'acc_train_scaled', 'acc_train_grid',\n",
    "                   'acc_test', 'acc_test_cv', 'acc_test_scaled', 'acc_test_grid']\n",
    "dict_accs = {}\n",
    "dataset_accs = pd.DataFrame({})\n",
    "for col in dataset_columns:\n",
    "    dataset_accs[col] = []"
   ]
  },
  {
   "cell_type": "code",
   "execution_count": 2,
   "metadata": {
    "ExecuteTime": {
     "end_time": "2019-01-05T15:38:05.411063Z",
     "start_time": "2019-01-05T15:38:05.092389Z"
    }
   },
   "outputs": [
    {
     "data": {
      "text/html": [
       "<div>\n",
       "<style scoped>\n",
       "    .dataframe tbody tr th:only-of-type {\n",
       "        vertical-align: middle;\n",
       "    }\n",
       "\n",
       "    .dataframe tbody tr th {\n",
       "        vertical-align: top;\n",
       "    }\n",
       "\n",
       "    .dataframe thead th {\n",
       "        text-align: right;\n",
       "    }\n",
       "</style>\n",
       "<table border=\"1\" class=\"dataframe\">\n",
       "  <thead>\n",
       "    <tr style=\"text-align: right;\">\n",
       "      <th></th>\n",
       "      <th>acc_train</th>\n",
       "      <th>acc_train_cv</th>\n",
       "      <th>acc_train_scaled</th>\n",
       "      <th>acc_train_grid</th>\n",
       "      <th>acc_test</th>\n",
       "      <th>acc_test_cv</th>\n",
       "      <th>acc_test_scaled</th>\n",
       "      <th>acc_test_grid</th>\n",
       "    </tr>\n",
       "  </thead>\n",
       "  <tbody>\n",
       "  </tbody>\n",
       "</table>\n",
       "</div>"
      ],
      "text/plain": [
       "Empty DataFrame\n",
       "Columns: [acc_train, acc_train_cv, acc_train_scaled, acc_train_grid, acc_test, acc_test_cv, acc_test_scaled, acc_test_grid]\n",
       "Index: []"
      ]
     },
     "execution_count": 2,
     "metadata": {},
     "output_type": "execute_result"
    }
   ],
   "source": [
    "# Testando\n",
    "dataset_accs"
   ]
  },
  {
   "cell_type": "code",
   "execution_count": 3,
   "metadata": {
    "ExecuteTime": {
     "end_time": "2019-01-05T15:38:05.434429Z",
     "start_time": "2019-01-05T15:38:05.417488Z"
    }
   },
   "outputs": [],
   "source": [
    "# Criando função para mostrar scores da validação cruzado\n",
    "def display_scores(scores):\n",
    "    print(f'Scores: {scores}')\n",
    "    print(f'Média: {scores.mean():.4f}')\n",
    "    print(f'Desvio Padrão: {scores.std():.4f}')"
   ]
  },
  {
   "cell_type": "code",
   "execution_count": 4,
   "metadata": {
    "ExecuteTime": {
     "end_time": "2019-01-05T15:38:16.399348Z",
     "start_time": "2019-01-05T15:38:05.442271Z"
    }
   },
   "outputs": [
    {
     "data": {
      "text/plain": [
       "{'COL_NAMES': ['label', 'data'],\n",
       " 'DESCR': 'mldata.org dataset: mnist-original',\n",
       " 'data': array([[0, 0, 0, ..., 0, 0, 0],\n",
       "        [0, 0, 0, ..., 0, 0, 0],\n",
       "        [0, 0, 0, ..., 0, 0, 0],\n",
       "        ...,\n",
       "        [0, 0, 0, ..., 0, 0, 0],\n",
       "        [0, 0, 0, ..., 0, 0, 0],\n",
       "        [0, 0, 0, ..., 0, 0, 0]], dtype=uint8),\n",
       " 'target': array([0., 0., 0., ..., 9., 9., 9.])}"
      ]
     },
     "execution_count": 4,
     "metadata": {},
     "output_type": "execute_result"
    }
   ],
   "source": [
    "# Importando biblioteca e lendo arquivo\n",
    "from sklearn.datasets import fetch_mldata\n",
    "\n",
    "mnist = fetch_mldata('MNIST original')\n",
    "mnist"
   ]
  },
  {
   "cell_type": "code",
   "execution_count": 5,
   "metadata": {
    "ExecuteTime": {
     "end_time": "2019-01-05T15:38:16.415592Z",
     "start_time": "2019-01-05T15:38:16.404436Z"
    }
   },
   "outputs": [],
   "source": [
    "# Separando features de target\n",
    "X, y = mnist['data'], mnist['target']"
   ]
  },
  {
   "cell_type": "code",
   "execution_count": 6,
   "metadata": {
    "ExecuteTime": {
     "end_time": "2019-01-05T15:38:16.548153Z",
     "start_time": "2019-01-05T15:38:16.419729Z"
    }
   },
   "outputs": [
    {
     "name": "stdout",
     "output_type": "stream",
     "text": [
      "O dataset MNIST possui 70000 registros e 784 features.\n",
      "O conjunto de target do MNIST possui dimensões: (70000,).\n"
     ]
    }
   ],
   "source": [
    "# Entendendo os dados\n",
    "print(f'O dataset MNIST possui {X.shape[0]} registros e {X.shape[1]} features.')\n",
    "print(f'O conjunto de target do MNIST possui dimensões: {y.shape}.')"
   ]
  },
  {
   "cell_type": "code",
   "execution_count": 7,
   "metadata": {
    "ExecuteTime": {
     "end_time": "2019-01-05T15:38:20.396787Z",
     "start_time": "2019-01-05T15:38:16.560693Z"
    }
   },
   "outputs": [
    {
     "data": {
      "image/png": "[encoded data removed]",
      "text/plain": [
       "<matplotlib.figure.Figure at 0x24a171349b0>"
      ]
     },
     "metadata": {
      "needs_background": "light"
     },
     "output_type": "display_data"
    }
   ],
   "source": [
    "# Visualizando dados\n",
    "import matplotlib\n",
    "import matplotlib.pyplot as plt\n",
    "%matplotlib inline\n",
    "\n",
    "# Indexando um elemento aleatório\n",
    "some_digit = X[5000]\n",
    "\n",
    "# Aplicando reshape para plotar gráfico (imagens são 28x28 pixel)\n",
    "some_digit_reshaped = some_digit.reshape(28, 28)\n",
    "\n",
    "# Plotando elemento\n",
    "plt.imshow(some_digit_reshaped, cmap='binary', interpolation='nearest')\n",
    "plt.axis('off')\n",
    "plt.show()"
   ]
  },
  {
   "cell_type": "code",
   "execution_count": 8,
   "metadata": {
    "ExecuteTime": {
     "end_time": "2019-01-05T15:38:20.488159Z",
     "start_time": "2019-01-05T15:38:20.399534Z"
    }
   },
   "outputs": [
    {
     "data": {
      "image/png": "[encoded data removed]",
      "text/plain": [
       "<matplotlib.figure.Figure at 0x24a1265e7f0>"
      ]
     },
     "metadata": {
      "needs_background": "light"
     },
     "output_type": "display_data"
    }
   ],
   "source": [
    "# Plotando outro elemento com formatação diferente\n",
    "from random import randint\n",
    "\n",
    "another_digit = X[randint(1, X.shape[0])]\n",
    "another_digit_reshaped = another_digit.reshape(28, 28)\n",
    "plt.imshow(another_digit_reshaped, cmap='viridis', interpolation='nearest')\n",
    "plt.axis('off')\n",
    "plt.show()"
   ]
  },
  {
   "cell_type": "code",
   "execution_count": 9,
   "metadata": {
    "ExecuteTime": {
     "end_time": "2019-01-05T15:38:20.507664Z",
     "start_time": "2019-01-05T15:38:20.490493Z"
    }
   },
   "outputs": [
    {
     "name": "stdout",
     "output_type": "stream",
     "text": [
      "Dados de treino\n",
      "X_train: (60000, 784)\n",
      "y_train: (60000,)\n",
      "\n",
      "Dados de teste\n",
      "X_test: (10000, 784)\n",
      "y_test: (10000,)\n"
     ]
    }
   ],
   "source": [
    "# Separando dados em teste e treino\n",
    "X_train, y_train, X_test, y_test = X[:60000], y[:60000], X[60000:], y[60000:]\n",
    "\n",
    "# Verificando separação\n",
    "print(f'Dados de treino\\nX_train: {X_train.shape}\\ny_train: {y_train.shape}')\n",
    "print()\n",
    "print(f'Dados de teste\\nX_test: {X_test.shape}\\ny_test: {y_test.shape}')"
   ]
  },
  {
   "cell_type": "code",
   "execution_count": 10,
   "metadata": {
    "ExecuteTime": {
     "end_time": "2019-01-05T15:38:20.672481Z",
     "start_time": "2019-01-05T15:38:20.509900Z"
    }
   },
   "outputs": [],
   "source": [
    "# Embaralhando os dados\n",
    "import numpy as np\n",
    "\n",
    "shuffle_index = np.random.permutation(X_train.shape[0])\n",
    "X_train, y_train = X_train[shuffle_index], y_train[shuffle_index]"
   ]
  },
  {
   "cell_type": "code",
   "execution_count": 11,
   "metadata": {
    "ExecuteTime": {
     "end_time": "2019-01-05T15:38:20.793512Z",
     "start_time": "2019-01-05T15:38:20.674644Z"
    }
   },
   "outputs": [],
   "source": [
    "# Criando função para realizar todo o procedimento\n",
    "def prepare_mnist():\n",
    "    \"\"\"\n",
    "    Função responsável por importar e realizar todos os procedimentos preparatórios\n",
    "    no dataset MNIST.\n",
    "    \n",
    "    Output: X_train, y_train, X_test, y_test\n",
    "    \"\"\"\n",
    "    \n",
    "    # Download das bibliotecas necessárias\n",
    "    from sklearn.datasets import fetch_mldata\n",
    "    import numpy as np\n",
    "    \n",
    "    # Download e separação do dataset\n",
    "    mnist = fetch_mldata('MNIST original')\n",
    "    X, y = mnist['data'], mnist['target']\n",
    "    \n",
    "    # Separando dados de treino e de teste\n",
    "    X_train, y_train, X_test, y_test = X[:60000], y[:60000], X[60000:], y[60000:]\n",
    "    \n",
    "    # Embaralhando dados\n",
    "    shuffle_index = np.random.permutation(X_train.shape[0])\n",
    "    X_train, y_train = X_train[shuffle_index], y_train[shuffle_index]\n",
    "    \n",
    "    # Retornando dados\n",
    "    return X_train, y_train, X_test, y_test"
   ]
  },
  {
   "cell_type": "code",
   "execution_count": 12,
   "metadata": {
    "ExecuteTime": {
     "end_time": "2019-01-05T15:38:21.100121Z",
     "start_time": "2019-01-05T15:38:20.793512Z"
    }
   },
   "outputs": [
    {
     "name": "stdout",
     "output_type": "stream",
     "text": [
      "Dados de treino\n",
      "X_train: (60000, 784)\n",
      "y_train: (60000,)\n",
      "\n",
      "Dados de teste\n",
      "X_test: (10000, 784)\n",
      "y_test: (10000,)\n"
     ]
    }
   ],
   "source": [
    "# Chamando função e verificando viabilidade\n",
    "X_train, y_train, X_test, y_test = prepare_mnist()\n",
    "print(f'Dados de treino\\nX_train: {X_train.shape}\\ny_train: {y_train.shape}')\n",
    "print()\n",
    "print(f'Dados de teste\\nX_test: {X_test.shape}\\ny_test: {y_test.shape}')"
   ]
  },
  {
   "cell_type": "markdown",
   "metadata": {
    "heading_collapsed": true
   },
   "source": [
    "## Decision Trees"
   ]
  },
  {
   "cell_type": "markdown",
   "metadata": {
    "hidden": true
   },
   "source": [
    "O primeiro algoritmo utilizado será o ```DecisionTrees```: [Doc](https://scikit-learn.org/stable/modules/tree.html)"
   ]
  },
  {
   "cell_type": "code",
   "execution_count": 13,
   "metadata": {
    "ExecuteTime": {
     "end_time": "2019-01-03T22:29:06.405451Z",
     "start_time": "2019-01-03T22:29:04.880373Z"
    },
    "hidden": true
   },
   "outputs": [],
   "source": [
    "# Lendo e preparando dados do MNIST\n",
    "X_train, y_train, X_test, y_test = prepare_mnist()"
   ]
  },
  {
   "cell_type": "markdown",
   "metadata": {
    "hidden": true
   },
   "source": [
    "### Treinando Modelo"
   ]
  },
  {
   "cell_type": "code",
   "execution_count": 14,
   "metadata": {
    "ExecuteTime": {
     "end_time": "2019-01-03T22:29:39.835463Z",
     "start_time": "2019-01-03T22:29:06.407298Z"
    },
    "hidden": true
   },
   "outputs": [
    {
     "data": {
      "text/plain": [
       "DecisionTreeClassifier(class_weight=None, criterion='gini', max_depth=None,\n",
       "            max_features=None, max_leaf_nodes=None,\n",
       "            min_impurity_decrease=0.0, min_impurity_split=None,\n",
       "            min_samples_leaf=1, min_samples_split=2,\n",
       "            min_weight_fraction_leaf=0.0, presort=False, random_state=None,\n",
       "            splitter='best')"
      ]
     },
     "execution_count": 14,
     "metadata": {},
     "output_type": "execute_result"
    }
   ],
   "source": [
    "# Importando biblioteca\n",
    "from sklearn.tree import DecisionTreeClassifier\n",
    "\n",
    "# Criando classificador\n",
    "tree_clf = DecisionTreeClassifier()\n",
    "\n",
    "# Treinando modelo\n",
    "tree_clf.fit(X_train, y_train)"
   ]
  },
  {
   "cell_type": "markdown",
   "metadata": {
    "hidden": true
   },
   "source": [
    "### Avaliando Performance"
   ]
  },
  {
   "cell_type": "markdown",
   "metadata": {
    "hidden": true
   },
   "source": [
    "#### Accuracy"
   ]
  },
  {
   "cell_type": "code",
   "execution_count": 15,
   "metadata": {
    "ExecuteTime": {
     "end_time": "2019-01-03T22:29:40.080858Z",
     "start_time": "2019-01-03T22:29:39.838455Z"
    },
    "hidden": true
   },
   "outputs": [
    {
     "name": "stdout",
     "output_type": "stream",
     "text": [
      "Acurácia do modelo Decision Trees: 100.00%\n"
     ]
    }
   ],
   "source": [
    "# Avaliando acurácia com os dados de treino\n",
    "from sklearn.metrics import accuracy_score\n",
    "\n",
    "tree_pred_train = tree_clf.predict(X_train)\n",
    "tree_accuracy_train = accuracy_score(y_train, tree_pred_train)\n",
    "print(f'Acurácia do modelo Decision Trees: {tree_accuracy_train*100:.2f}%')"
   ]
  },
  {
   "cell_type": "code",
   "execution_count": 16,
   "metadata": {
    "ExecuteTime": {
     "end_time": "2019-01-03T22:29:40.088836Z",
     "start_time": "2019-01-03T22:29:40.084847Z"
    },
    "hidden": true
   },
   "outputs": [],
   "source": [
    "# Salvando dados\n",
    "dict_accs['acc_train'] = tree_accuracy_train"
   ]
  },
  {
   "cell_type": "code",
   "execution_count": 17,
   "metadata": {
    "ExecuteTime": {
     "end_time": "2019-01-03T22:29:40.449913Z",
     "start_time": "2019-01-03T22:29:40.090831Z"
    },
    "hidden": true
   },
   "outputs": [
    {
     "data": {
      "text/html": [
       "<div>\n",
       "<style scoped>\n",
       "    .dataframe tbody tr th:only-of-type {\n",
       "        vertical-align: middle;\n",
       "    }\n",
       "\n",
       "    .dataframe tbody tr th {\n",
       "        vertical-align: top;\n",
       "    }\n",
       "\n",
       "    .dataframe thead th {\n",
       "        text-align: right;\n",
       "    }\n",
       "</style>\n",
       "<table border=\"1\" class=\"dataframe\">\n",
       "  <thead>\n",
       "    <tr style=\"text-align: right;\">\n",
       "      <th></th>\n",
       "      <th>acc_train</th>\n",
       "      <th>acc_train_cv</th>\n",
       "      <th>acc_train_scaled</th>\n",
       "      <th>acc_train_grid</th>\n",
       "      <th>acc_test</th>\n",
       "      <th>acc_test_cv</th>\n",
       "      <th>acc_test_scaled</th>\n",
       "      <th>acc_test_grid</th>\n",
       "    </tr>\n",
       "  </thead>\n",
       "  <tbody>\n",
       "    <tr>\n",
       "      <th>decision_trees</th>\n",
       "      <td>1.0</td>\n",
       "      <td>NaN</td>\n",
       "      <td>NaN</td>\n",
       "      <td>NaN</td>\n",
       "      <td>NaN</td>\n",
       "      <td>NaN</td>\n",
       "      <td>NaN</td>\n",
       "      <td>NaN</td>\n",
       "    </tr>\n",
       "  </tbody>\n",
       "</table>\n",
       "</div>"
      ],
      "text/plain": [
       "                acc_train  acc_train_cv  acc_train_scaled  acc_train_grid  \\\n",
       "decision_trees        1.0           NaN               NaN             NaN   \n",
       "\n",
       "                acc_test  acc_test_cv  acc_test_scaled  acc_test_grid  \n",
       "decision_trees       NaN          NaN              NaN            NaN  "
      ]
     },
     "execution_count": 17,
     "metadata": {},
     "output_type": "execute_result"
    }
   ],
   "source": [
    "# Salvando dados\n",
    "teste = dataset_accs.copy()\n",
    "teste = teste.append(dict_accs, ignore_index=True)\n",
    "teste.index = ['decision_trees']\n",
    "teste"
   ]
  },
  {
   "cell_type": "markdown",
   "metadata": {
    "hidden": true
   },
   "source": [
    "Será um tremendo overfitting? Avaliando performance utilizando validação cruzada."
   ]
  },
  {
   "cell_type": "code",
   "execution_count": 18,
   "metadata": {
    "ExecuteTime": {
     "end_time": "2019-01-03T22:30:40.221465Z",
     "start_time": "2019-01-03T22:29:40.456790Z"
    },
    "hidden": true
   },
   "outputs": [
    {
     "name": "stdout",
     "output_type": "stream",
     "text": [
      "Scores: [0.86172765 0.86459323 0.85877882]\n",
      "Média: 0.8617\n",
      "Desvio Padrão: 0.0024\n"
     ]
    }
   ],
   "source": [
    "# Aplicando cross validation\n",
    "from sklearn.model_selection import cross_val_score\n",
    "\n",
    "tree_scores = cross_val_score(tree_clf, X_train, y_train, cv=3, scoring='accuracy')\n",
    "print(f'Scores: {tree_scores}')\n",
    "print(f'Média: {tree_scores.mean():.4f}')\n",
    "print(f'Desvio Padrão: {tree_scores.std():.4f}')"
   ]
  },
  {
   "cell_type": "code",
   "execution_count": 19,
   "metadata": {
    "ExecuteTime": {
     "end_time": "2019-01-03T22:30:40.230562Z",
     "start_time": "2019-01-03T22:30:40.224457Z"
    },
    "hidden": true
   },
   "outputs": [],
   "source": [
    "# Salvando dados\n",
    "dict_accs['acc_train_cv'] = round(tree_scores.mean(), 4)"
   ]
  },
  {
   "cell_type": "markdown",
   "metadata": {
    "hidden": true
   },
   "source": [
    "A diferença dos resultados obtidos com o ```cross validation``` indica que há um pequeno ```overfitting``` nos dados."
   ]
  },
  {
   "cell_type": "code",
   "execution_count": 20,
   "metadata": {
    "ExecuteTime": {
     "end_time": "2019-01-03T22:30:40.618962Z",
     "start_time": "2019-01-03T22:30:40.233433Z"
    },
    "hidden": true
   },
   "outputs": [],
   "source": [
    "# Criando função para mostrar scores da validação cruzado\n",
    "def display_scores(scores):\n",
    "    print(f'Scores: {scores}')\n",
    "    print(f'Média: {scores.mean():.4f}')\n",
    "    print(f'Desvio Padrão: {scores.std():.4f}')"
   ]
  },
  {
   "cell_type": "markdown",
   "metadata": {
    "hidden": true
   },
   "source": [
    "#### Confusion Matrix"
   ]
  },
  {
   "cell_type": "code",
   "execution_count": 21,
   "metadata": {
    "ExecuteTime": {
     "end_time": "2019-01-03T22:31:38.059556Z",
     "start_time": "2019-01-03T22:30:40.621395Z"
    },
    "hidden": true
   },
   "outputs": [],
   "source": [
    "# Importando matriz de confusão\n",
    "from sklearn.model_selection import cross_val_predict\n",
    "from sklearn.metrics import confusion_matrix\n",
    "\n",
    "tree_cross_pred = cross_val_predict(tree_clf, X_train, y_train, cv=3)\n",
    "\n",
    "conf_mx = confusion_matrix(y_train, tree_cross_pred)"
   ]
  },
  {
   "cell_type": "code",
   "execution_count": 22,
   "metadata": {
    "ExecuteTime": {
     "end_time": "2019-01-03T22:31:38.520147Z",
     "start_time": "2019-01-03T22:31:38.062553Z"
    },
    "hidden": true
   },
   "outputs": [
    {
     "data": {
      "image/png": "[encoded data removed]",
      "text/plain": [
       "<matplotlib.figure.Figure at 0x2afcd8ffdd8>"
      ]
     },
     "metadata": {
      "needs_background": "light"
     },
     "output_type": "display_data"
    }
   ],
   "source": [
    "# Visualizando matriz de confusão\n",
    "row_sums = conf_mx.sum(axis=1, keepdims=True)\n",
    "norm_conf_mx = conf_mx / row_sums\n",
    "\n",
    "np.fill_diagonal(norm_conf_mx, 0)\n",
    "plt.matshow(norm_conf_mx, cmap=plt.cm.gray)\n",
    "plt.show()"
   ]
  },
  {
   "cell_type": "markdown",
   "metadata": {
    "hidden": true
   },
   "source": [
    "### Padronização dos Dados"
   ]
  },
  {
   "cell_type": "code",
   "execution_count": 23,
   "metadata": {
    "ExecuteTime": {
     "end_time": "2019-01-03T22:32:39.742047Z",
     "start_time": "2019-01-03T22:31:38.523020Z"
    },
    "hidden": true
   },
   "outputs": [
    {
     "name": "stdout",
     "output_type": "stream",
     "text": [
      "Scores: [0.86432713 0.86549327 0.85877882]\n",
      "Média: 0.8629\n",
      "Desvio Padrão: 0.0029\n"
     ]
    }
   ],
   "source": [
    "# Aplicando padronização dos dados\n",
    "from sklearn.preprocessing import StandardScaler\n",
    "\n",
    "scaler = StandardScaler()\n",
    "X_train_scaled = scaler.fit_transform(X_train.astype(np.float64))\n",
    "\n",
    "# Realizando novo treinamento\n",
    "tree_scores_scaled = cross_val_score(tree_clf, X_train_scaled, y_train, cv=3, scoring='accuracy')\n",
    "display_scores(tree_scores_scaled)"
   ]
  },
  {
   "cell_type": "code",
   "execution_count": 24,
   "metadata": {
    "ExecuteTime": {
     "end_time": "2019-01-03T22:32:39.752060Z",
     "start_time": "2019-01-03T22:32:39.747034Z"
    },
    "hidden": true
   },
   "outputs": [],
   "source": [
    "# Salvando dados\n",
    "dict_accs['acc_train_scaled'] = round(tree_scores_scaled.mean(), 4)"
   ]
  },
  {
   "cell_type": "code",
   "execution_count": 25,
   "metadata": {
    "ExecuteTime": {
     "end_time": "2019-01-03T22:32:39.959465Z",
     "start_time": "2019-01-03T22:32:39.755459Z"
    },
    "hidden": true
   },
   "outputs": [
    {
     "name": "stdout",
     "output_type": "stream",
     "text": [
      "Scores: [0.00259948 0.00090005 0.        ]\n",
      "Média: 0.0012\n",
      "Desvio Padrão: 0.0011\n",
      "\n",
      "Ganho (ou perda) de acurácia com a padronização: 0.1167%\n"
     ]
    }
   ],
   "source": [
    "# Calculando diferença na acurácia\n",
    "tree_diff = tree_scores_scaled - tree_scores\n",
    "display_scores(tree_diff)\n",
    "\n",
    "# Comunicando diferença na média\n",
    "mean_scaled = tree_scores_scaled.mean()\n",
    "mean_normal = tree_scores.mean()\n",
    "mean_diff = mean_scaled - mean_normal\n",
    "print(f'\\nGanho (ou perda) de acurácia com a padronização: {mean_diff*100:.4f}%')"
   ]
  },
  {
   "cell_type": "markdown",
   "metadata": {
    "hidden": true
   },
   "source": [
    "Não houve melhora significativa (se é que houve melhora). Dessa forma, é possível concluir que a Padronização dos dados não surtiu efeito dentro do algorítmo ```DecisionTrees```."
   ]
  },
  {
   "cell_type": "markdown",
   "metadata": {
    "hidden": true
   },
   "source": [
    "### Tunando Hiperparâmetros"
   ]
  },
  {
   "cell_type": "markdown",
   "metadata": {
    "hidden": true
   },
   "source": [
    "Os efeitos de cada um dos hiperparâmetros presentes no ```DecisionTreeClassifier()``` ainda são desconhecidos. Esta sessão (e também as próximas) possui o objetivo de avaliar os efeitos dos hiperparâmetros na acurácia medida, tanto com os dados de treino, como com os dados de teste. Fonte de inspiração: [InDepth-DecisionTreeHyperparameters](https://medium.com/@mohtedibf/indepth-parameter-tuning-for-decision-tree-6753118a03c3)\n",
    "\n",
    "Antes de mais nada, vamos aplicar o ```GridSearchCV``` para verificar qual a melhor combinação."
   ]
  },
  {
   "cell_type": "code",
   "execution_count": 26,
   "metadata": {
    "ExecuteTime": {
     "end_time": "2019-01-03T22:36:40.634039Z",
     "start_time": "2019-01-03T22:32:39.961459Z"
    },
    "hidden": true
   },
   "outputs": [
    {
     "data": {
      "text/plain": [
       "GridSearchCV(cv=3, error_score='raise',\n",
       "       estimator=DecisionTreeClassifier(class_weight=None, criterion='gini', max_depth=None,\n",
       "            max_features=None, max_leaf_nodes=None,\n",
       "            min_impurity_decrease=0.0, min_impurity_split=None,\n",
       "            min_samples_leaf=1, min_samples_split=2,\n",
       "            min_weight_fraction_leaf=0.0, presort=False, random_state=None,\n",
       "            splitter='best'),\n",
       "       fit_params=None, iid=True, n_jobs=1,\n",
       "       param_grid=[{'criterion': ['gini', 'entropy'], 'max_depth': [5, 10, 15]}],\n",
       "       pre_dispatch='2*n_jobs', refit=True, return_train_score='warn',\n",
       "       scoring='accuracy', verbose=0)"
      ]
     },
     "execution_count": 26,
     "metadata": {},
     "output_type": "execute_result"
    }
   ],
   "source": [
    "# Aplicando GridSearchCV\n",
    "from sklearn.model_selection import GridSearchCV\n",
    "\n",
    "# Definindo parâmetros para Decision Trees\n",
    "param_grid_tree = [\n",
    "    {'criterion': ['gini', 'entropy'],\n",
    "     'max_depth': [5, 10, 15]}\n",
    "]\n",
    "\n",
    "# Criando classificador\n",
    "tree_clf = DecisionTreeClassifier()\n",
    "\n",
    "# Treinando e procurando a melhor combinação\n",
    "grid_search = GridSearchCV(tree_clf, param_grid_tree, cv=3, \n",
    "                           scoring='accuracy')\n",
    "grid_search.fit(X_train_scaled, y_train)"
   ]
  },
  {
   "cell_type": "code",
   "execution_count": 127,
   "metadata": {
    "ExecuteTime": {
     "end_time": "2019-01-03T20:05:28.026721Z",
     "start_time": "2019-01-03T20:05:28.020738Z"
    },
    "hidden": true
   },
   "outputs": [
    {
     "data": {
      "text/plain": [
       "{'criterion': 'entropy', 'max_depth': 15}"
      ]
     },
     "execution_count": 127,
     "metadata": {},
     "output_type": "execute_result"
    }
   ],
   "source": [
    "# Verificando melhores parâmetros\n",
    "grid_search.best_params_"
   ]
  },
  {
   "cell_type": "code",
   "execution_count": 128,
   "metadata": {
    "ExecuteTime": {
     "end_time": "2019-01-03T20:05:41.194516Z",
     "start_time": "2019-01-03T20:05:41.187535Z"
    },
    "hidden": true
   },
   "outputs": [
    {
     "name": "stdout",
     "output_type": "stream",
     "text": [
      "Score: 67.1250 - Params: {'criterion': 'gini', 'max_depth': 5}\n",
      "Score: 84.8800 - Params: {'criterion': 'gini', 'max_depth': 10}\n",
      "Score: 86.3900 - Params: {'criterion': 'gini', 'max_depth': 15}\n",
      "Score: 68.3933 - Params: {'criterion': 'entropy', 'max_depth': 5}\n",
      "Score: 85.9467 - Params: {'criterion': 'entropy', 'max_depth': 10}\n",
      "Score: 87.1267 - Params: {'criterion': 'entropy', 'max_depth': 15}\n"
     ]
    }
   ],
   "source": [
    "results = grid_search.cv_results_\n",
    "for mean_score, params in zip(results['mean_test_score'], results['params']):\n",
    "    print(f'Score: {mean_score*100:.4f} - Params: {params}')"
   ]
  },
  {
   "cell_type": "code",
   "execution_count": 27,
   "metadata": {
    "ExecuteTime": {
     "end_time": "2019-01-03T22:36:40.644013Z",
     "start_time": "2019-01-03T22:36:40.636414Z"
    },
    "hidden": true
   },
   "outputs": [
    {
     "name": "stdout",
     "output_type": "stream",
     "text": [
      "Acurácia inicial: 86.1700%\n",
      "Acurácia com padronização: 86.2866%\n",
      "Acurácia com Grid Search CV(1): 86.8683%\n",
      "\n",
      "Ganho total até o momento: 0.6983%\n"
     ]
    }
   ],
   "source": [
    "# Comunicando melhora\n",
    "print(f'Acurácia inicial: {tree_scores.mean()*100:.4f}%')\n",
    "print(f'Acurácia com padronização: {tree_scores_scaled.mean()*100:.4f}%')\n",
    "print(f'Acurácia com Grid Search CV(1): {grid_search.best_score_*100:.4f}%')\n",
    "\n",
    "print(f'\\nGanho total até o momento: {(grid_search.best_score_ - tree_scores.mean())*100:.4f}%')"
   ]
  },
  {
   "cell_type": "markdown",
   "metadata": {
    "hidden": true
   },
   "source": [
    "Aparentemente, é possível melhorar através do aumento do hiperparâmetro ```max_depth```, porém é necessário tomar cuidado, uma vez que este hiperparâmetro pode causar overfitting e performar muito mal nos dados de teste."
   ]
  },
  {
   "cell_type": "code",
   "execution_count": 125,
   "metadata": {
    "ExecuteTime": {
     "end_time": "2019-01-03T19:59:27.650259Z",
     "start_time": "2019-01-03T19:59:27.628290Z"
    },
    "hidden": true
   },
   "outputs": [
    {
     "ename": "NameError",
     "evalue": "name 'GridSearchCV' is not defined",
     "output_type": "error",
     "traceback": [
      "\u001b[1;31m---------------------------------------------------------------------------\u001b[0m",
      "\u001b[1;31mNameError\u001b[0m                                 Traceback (most recent call last)",
      "\u001b[1;32m<ipython-input-125-003c9bfc7169>\u001b[0m in \u001b[0;36m<module>\u001b[1;34m()\u001b[0m\n\u001b[0;32m      9\u001b[0m \u001b[1;33m\u001b[0m\u001b[0m\n\u001b[0;32m     10\u001b[0m \u001b[1;31m# Treinando e procurando a melhor combinação\u001b[0m\u001b[1;33m\u001b[0m\u001b[1;33m\u001b[0m\u001b[0m\n\u001b[1;32m---> 11\u001b[1;33m grid_search = GridSearchCV(tree_clf, param_grid_tree, cv=3, \n\u001b[0m\u001b[0;32m     12\u001b[0m                            scoring='accuracy')\n\u001b[0;32m     13\u001b[0m \u001b[0mgrid_search\u001b[0m\u001b[1;33m.\u001b[0m\u001b[0mfit\u001b[0m\u001b[1;33m(\u001b[0m\u001b[0mX_train_scaled\u001b[0m\u001b[1;33m,\u001b[0m \u001b[0my_train\u001b[0m\u001b[1;33m)\u001b[0m\u001b[1;33m\u001b[0m\u001b[0m\n",
      "\u001b[1;31mNameError\u001b[0m: name 'GridSearchCV' is not defined"
     ]
    }
   ],
   "source": [
    "# Definindo parâmetros para Decision Trees\n",
    "param_grid_tree = [\n",
    "    {'criterion': ['gini', 'entropy'],\n",
    "     'max_depth': [15, 50, 55, 60, 65, 70]}\n",
    "]\n",
    "\n",
    "# Criando classificador\n",
    "tree_clf = DecisionTreeClassifier()\n",
    "\n",
    "# Treinando e procurando a melhor combinação\n",
    "grid_search = GridSearchCV(tree_clf, param_grid_tree, cv=3, \n",
    "                           scoring='accuracy')\n",
    "grid_search.fit(X_train_scaled, y_train)"
   ]
  },
  {
   "cell_type": "code",
   "execution_count": 40,
   "metadata": {
    "ExecuteTime": {
     "end_time": "2018-12-30T14:05:48.062539Z",
     "start_time": "2018-12-30T14:05:48.056555Z"
    },
    "hidden": true
   },
   "outputs": [
    {
     "data": {
      "text/plain": [
       "{'criterion': 'entropy', 'max_depth': 15}"
      ]
     },
     "execution_count": 40,
     "metadata": {},
     "output_type": "execute_result"
    }
   ],
   "source": [
    "# Verificando melhores parâmetros\n",
    "grid_search.best_params_"
   ]
  },
  {
   "cell_type": "code",
   "execution_count": 41,
   "metadata": {
    "ExecuteTime": {
     "end_time": "2018-12-30T14:05:59.824041Z",
     "start_time": "2018-12-30T14:05:59.818059Z"
    },
    "hidden": true
   },
   "outputs": [
    {
     "name": "stdout",
     "output_type": "stream",
     "text": [
      "Score: 86.6517 - Params: {'criterion': 'gini', 'max_depth': 15}\n",
      "Score: 86.1333 - Params: {'criterion': 'gini', 'max_depth': 50}\n",
      "Score: 86.1983 - Params: {'criterion': 'gini', 'max_depth': 55}\n",
      "Score: 86.1833 - Params: {'criterion': 'gini', 'max_depth': 60}\n",
      "Score: 86.0817 - Params: {'criterion': 'gini', 'max_depth': 65}\n",
      "Score: 86.0433 - Params: {'criterion': 'gini', 'max_depth': 70}\n",
      "Score: 87.3100 - Params: {'criterion': 'entropy', 'max_depth': 15}\n",
      "Score: 87.2600 - Params: {'criterion': 'entropy', 'max_depth': 50}\n",
      "Score: 87.0417 - Params: {'criterion': 'entropy', 'max_depth': 55}\n",
      "Score: 87.1417 - Params: {'criterion': 'entropy', 'max_depth': 60}\n",
      "Score: 87.1733 - Params: {'criterion': 'entropy', 'max_depth': 65}\n",
      "Score: 87.2167 - Params: {'criterion': 'entropy', 'max_depth': 70}\n"
     ]
    }
   ],
   "source": [
    "results = grid_search.cv_results_\n",
    "for mean_score, params in zip(results['mean_test_score'], results['params']):\n",
    "    print(f'Score: {mean_score*100:.4f} - Params: {params}')"
   ]
  },
  {
   "cell_type": "markdown",
   "metadata": {
    "hidden": true
   },
   "source": [
    "O ganho obtido com o aumento do hiperparâmetro ```max_depth``` foi irrisório."
   ]
  },
  {
   "cell_type": "markdown",
   "metadata": {
    "hidden": true
   },
   "source": [
    "#### max_depth"
   ]
  },
  {
   "cell_type": "markdown",
   "metadata": {
    "hidden": true
   },
   "source": [
    "O hiperparâmetro ```max_depth``` indica o quão profunda a árvore de decisão pode ser."
   ]
  },
  {
   "cell_type": "code",
   "execution_count": 50,
   "metadata": {
    "ExecuteTime": {
     "end_time": "2018-12-30T14:12:19.357068Z",
     "start_time": "2018-12-30T14:12:19.350062Z"
    },
    "hidden": true
   },
   "outputs": [
    {
     "data": {
      "text/plain": [
       "array([ 1.        ,  1.63265306,  2.26530612,  2.89795918,  3.53061224,\n",
       "        4.16326531,  4.79591837,  5.42857143,  6.06122449,  6.69387755,\n",
       "        7.32653061,  7.95918367,  8.59183673,  9.2244898 ,  9.85714286,\n",
       "       10.48979592, 11.12244898, 11.75510204, 12.3877551 , 13.02040816,\n",
       "       13.65306122, 14.28571429, 14.91836735, 15.55102041, 16.18367347,\n",
       "       16.81632653, 17.44897959, 18.08163265, 18.71428571, 19.34693878,\n",
       "       19.97959184, 20.6122449 , 21.24489796, 21.87755102, 22.51020408,\n",
       "       23.14285714, 23.7755102 , 24.40816327, 25.04081633, 25.67346939,\n",
       "       26.30612245, 26.93877551, 27.57142857, 28.20408163, 28.83673469,\n",
       "       29.46938776, 30.10204082, 30.73469388, 31.36734694, 32.        ])"
      ]
     },
     "execution_count": 50,
     "metadata": {},
     "output_type": "execute_result"
    }
   ],
   "source": [
    "# Avaliando a melhor forma de distribuir os valores\n",
    "np.linspace(1, 32)"
   ]
  },
  {
   "cell_type": "code",
   "execution_count": 55,
   "metadata": {
    "ExecuteTime": {
     "end_time": "2018-12-30T14:21:04.843300Z",
     "start_time": "2018-12-30T14:21:04.836317Z"
    },
    "hidden": true
   },
   "outputs": [
    {
     "data": {
      "text/plain": [
       "array([ 1.,  2.,  3.,  4.,  5.,  6.,  7.,  8.,  9., 10., 11., 12., 13.,\n",
       "       14., 15., 16., 17., 18., 19., 20., 21., 22., 23., 24., 25., 26.,\n",
       "       27., 28., 29., 30., 31., 32.])"
      ]
     },
     "execution_count": 55,
     "metadata": {},
     "output_type": "execute_result"
    }
   ],
   "source": [
    "# Melhorando distribuição\n",
    "np.linspace(1, 32, 32, endpoint=True)"
   ]
  },
  {
   "cell_type": "code",
   "execution_count": 60,
   "metadata": {
    "ExecuteTime": {
     "end_time": "2018-12-30T14:53:31.955227Z",
     "start_time": "2018-12-30T14:29:31.405837Z"
    },
    "hidden": true
   },
   "outputs": [
    {
     "data": {
      "image/png": "[encoded data removed]",
      "text/plain": [
       "<matplotlib.figure.Figure at 0x19ea54beac8>"
      ]
     },
     "metadata": {
      "needs_background": "light"
     },
     "output_type": "display_data"
    }
   ],
   "source": [
    "# Configurando avaliação\n",
    "max_depths = np.linspace(1, 35, 35, endpoint=True)\n",
    "train_results = []\n",
    "test_results = []\n",
    "\n",
    "for depth in max_depths:\n",
    "    # Treinando classificador com hiperparâmetro estabelecido\n",
    "    tree_clf = DecisionTreeClassifier(max_depth=depth)\n",
    "    tree_clf.fit(X_train, y_train) # Sem utilizar X_train_scaled\n",
    "    \n",
    "    # Realizando predições com dados de treino\n",
    "    tree_train_scores = cross_val_score(tree_clf, X_train, y_train, \n",
    "                                        cv=3, scoring='accuracy')\n",
    "    train_results.append(tree_train_scores.mean())\n",
    "    \n",
    "    # Realizando predições com os dados de teste\n",
    "    tree_test_scores = cross_val_score(tree_clf, X_test, y_test,\n",
    "                                      cv=3, scoring='accuracy')\n",
    "    test_results.append(tree_test_scores.mean())\n",
    "    \n",
    "# Plotando gráfico\n",
    "from matplotlib.legend_handler import HandlerLine2D\n",
    "line1, = plt.plot(max_depths, train_results, 'b', label='Train Accuracy')\n",
    "line2, = plt.plot(max_depths, test_results, 'r', label='Test Accuracy')\n",
    "plt.legend(handler_map={line1: HandlerLine2D(numpoints=2)})\n",
    "plt.ylabel('Accuracy')\n",
    "plt.xlabel('Tree depth')\n",
    "plt.show()"
   ]
  },
  {
   "cell_type": "markdown",
   "metadata": {
    "hidden": true
   },
   "source": [
    "Após a análise realizada acima, é possível concluir a existência da proporcionalidade entre o aumento do parâmetro ```max_depth``` com o efeito de ```overfitting``` no treinamento, uma vez que a diferença entre as acurácias obtidas com os dados de treino e teste apresentam uma significativa diferença a partir de uma profundidade de 5.\n",
    "\n",
    "Observando o gráfico, é possível supor o nível 10 de profundidade como sendo ótimo."
   ]
  },
  {
   "cell_type": "code",
   "execution_count": 82,
   "metadata": {
    "ExecuteTime": {
     "end_time": "2018-12-30T16:42:08.694038Z",
     "start_time": "2018-12-30T16:42:08.685525Z"
    },
    "hidden": true
   },
   "outputs": [
    {
     "name": "stdout",
     "output_type": "stream",
     "text": [
      "Acurácia máxima nos dados de teste: max_depth=28\n",
      "Acurácia nos dados de treino com esse parâmetro: 0.8628\n"
     ]
    }
   ],
   "source": [
    "# Calculando melhor profundidade para os dados de teste\n",
    "train_depth_results = train_results\n",
    "test_depth_results = test_results\n",
    "\n",
    "max_acc_test = test_depth_results.index(max(test_depth_results))+1\n",
    "print(f'Acurácia máxima nos dados de teste: max_depth={max_acc_test}')\n",
    "print(f'Acurácia nos dados de treino com esse parâmetro: {train_depth_results[max_acc_test-1]:.4f}')"
   ]
  },
  {
   "cell_type": "markdown",
   "metadata": {
    "hidden": true
   },
   "source": [
    "#### min_samples_split"
   ]
  },
  {
   "cell_type": "markdown",
   "metadata": {
    "hidden": true
   },
   "source": [
    "O hiperparâmetro ```min_samples_split``` representa o número mínimo de amostras necessárias para 'splitar' um nó interno da árvore. Ao aumentar este hiperparâmetro, a árvore se torna mais restrira, uma vez que é necessário considerar um número maior de amostras para separar os nós. No teste a seguir, iremos avaliar os resultados entre 10% e 100% de amostras."
   ]
  },
  {
   "cell_type": "code",
   "execution_count": 84,
   "metadata": {
    "ExecuteTime": {
     "end_time": "2018-12-30T16:42:38.705184Z",
     "start_time": "2018-12-30T16:42:38.695420Z"
    },
    "hidden": true
   },
   "outputs": [
    {
     "data": {
      "text/plain": [
       "array([0.1, 0.2, 0.3, 0.4, 0.5, 0.6, 0.7, 0.8, 0.9, 1. ])"
      ]
     },
     "execution_count": 84,
     "metadata": {},
     "output_type": "execute_result"
    }
   ],
   "source": [
    "# Avaliando melhor distribuição\n",
    "np.linspace(0.1, 1.0, 10, endpoint=True)"
   ]
  },
  {
   "cell_type": "code",
   "execution_count": 89,
   "metadata": {
    "ExecuteTime": {
     "end_time": "2018-12-30T16:55:10.039467Z",
     "start_time": "2018-12-30T16:52:49.548272Z"
    },
    "hidden": true
   },
   "outputs": [
    {
     "data": {
      "image/png": "[encoded data removed]",
      "text/plain": [
       "<matplotlib.figure.Figure at 0x19e80cb0d68>"
      ]
     },
     "metadata": {
      "needs_background": "light"
     },
     "output_type": "display_data"
    }
   ],
   "source": [
    "# Configurando avaliação\n",
    "min_samples_split = np.linspace(.1, 1.0, 10, endpoint=True)\n",
    "\n",
    "train_results = []\n",
    "test_results = []\n",
    "\n",
    "for min_sample in min_samples_split:\n",
    "    tree_clf = DecisionTreeClassifier(min_samples_split=min_sample)\n",
    "    tree_clf.fit(X_train, y_train)\n",
    "    \n",
    "    # Dados de treino\n",
    "    tree_train_scores = cross_val_score(tree_clf, X_train, y_train,\n",
    "                                       cv=3, scoring='accuracy')\n",
    "    train_results.append(tree_train_scores.mean())\n",
    "    \n",
    "    # dados de teste\n",
    "    tree_test_scores = cross_val_score(tree_clf, X_test, y_test,\n",
    "                                      cv=3, scoring='accuracy')\n",
    "    test_results.append(tree_test_scores.mean())\n",
    "    \n",
    "# Plotando gráfico\n",
    "from matplotlib.legend_handler import HandlerLine2D\n",
    "line1, = plt.plot(min_samples_split, train_results, 'b', label='Train Accuracy')\n",
    "line2, = plt.plot(min_samples_split, test_results, 'r', label='Test Accuracy')\n",
    "plt.legend(handler_map={line1: HandlerLine2D(numpoints=2)})\n",
    "plt.ylabel('Accuracy')\n",
    "plt.xlabel('min samples split')\n",
    "plt.show()"
   ]
  },
  {
   "cell_type": "markdown",
   "metadata": {
    "hidden": true
   },
   "source": [
    "Parece que, neste caso, quanto menor o valor de ```min_samples_split```, melhor. Não há relações com overfitting, entretanto um ```underfitting``` pode ser identificado, visto que a acurácia do modelo, mesmo nos dados de treino, cai consideravelmente com o aumento deste hiperparâmetro."
   ]
  },
  {
   "cell_type": "code",
   "execution_count": 90,
   "metadata": {
    "ExecuteTime": {
     "end_time": "2018-12-30T16:57:12.248225Z",
     "start_time": "2018-12-30T16:57:12.242009Z"
    },
    "hidden": true
   },
   "outputs": [],
   "source": [
    "# Salvando resultados\n",
    "train_min_samples_results = train_results\n",
    "test_min_samples_results = test_results"
   ]
  },
  {
   "cell_type": "markdown",
   "metadata": {
    "hidden": true
   },
   "source": [
    "#### min_samples_leaf"
   ]
  },
  {
   "cell_type": "markdown",
   "metadata": {
    "hidden": true
   },
   "source": [
    "Este hiperparâmetro indica o número mínimo de amostras que devem estar em um nó (\"folha\"). ```min_samples_leaf``` se assemelha muito com ```min_samples_split```."
   ]
  },
  {
   "cell_type": "code",
   "execution_count": 93,
   "metadata": {
    "ExecuteTime": {
     "end_time": "2018-12-30T17:06:59.571632Z",
     "start_time": "2018-12-30T17:05:59.928191Z"
    },
    "hidden": true
   },
   "outputs": [
    {
     "data": {
      "image/png": "[encoded data removed]",
      "text/plain": [
       "<matplotlib.figure.Figure at 0x19e811290f0>"
      ]
     },
     "metadata": {
      "needs_background": "light"
     },
     "output_type": "display_data"
    }
   ],
   "source": [
    "# Configurando análise\n",
    "min_samples_leaf = np.linspace(0.1, 0.5, 5, endpoint=True)\n",
    "\n",
    "train_results = []\n",
    "test_results = []\n",
    "\n",
    "for n in min_samples_leaf:\n",
    "    \n",
    "    tree_clf = DecisionTreeClassifier(min_samples_leaf=n)\n",
    "    tree_clf.fit(X_train, y_train)\n",
    "    \n",
    "    # Análise nos dados de treino\n",
    "    tree_train_scores = cross_val_score(tree_clf, X_train, y_train, \n",
    "                                 cv=3, scoring='accuracy')\n",
    "    train_results.append(tree_train_scores.mean())\n",
    "    \n",
    "    # Análise nos dados de teste\n",
    "    tree_test_scores = cross_val_score(tree_clf, X_test, y_test,\n",
    "                                      cv=3, scoring='accuracy')\n",
    "    test_results.append(tree_test_scores.mean())\n",
    "\n",
    "# Plotando gráfico\n",
    "from matplotlib.legend_handler import HandlerLine2D\n",
    "line1, = plt.plot(min_samples_leaf, train_results, 'b', label='Train Accuracy')\n",
    "line2, = plt.plot(min_samples_leaf, test_results, 'r', label='Test Accuracy')\n",
    "plt.legend(handler_map={line1: HandlerLine2D(numpoints=2)})\n",
    "plt.ylabel('Accuracy')\n",
    "plt.xlabel('min samples leaf')\n",
    "plt.show()"
   ]
  },
  {
   "cell_type": "markdown",
   "metadata": {
    "hidden": true
   },
   "source": [
    "Assim como a plotagem referente ao hiperparâmetro ```min_samples_split```, neste caso, temos indícios de underfitting, uma vez que a acurácia do modelo cai de acordo com o aumento de ```min_samples_leaf```."
   ]
  },
  {
   "cell_type": "markdown",
   "metadata": {
    "hidden": true
   },
   "source": [
    "#### max_features"
   ]
  },
  {
   "cell_type": "markdown",
   "metadata": {
    "hidden": true
   },
   "source": [
    "Este hiperparâmetro representa o número de features a serem consideradas durante a procura da melhor configuração."
   ]
  },
  {
   "cell_type": "code",
   "execution_count": 97,
   "metadata": {
    "ExecuteTime": {
     "end_time": "2018-12-30T18:05:32.634610Z",
     "start_time": "2018-12-30T17:46:16.453803Z"
    },
    "hidden": true
   },
   "outputs": [
    {
     "data": {
      "image/png": "[encoded data removed]",
      "text/plain": [
       "<matplotlib.figure.Figure at 0x19ea4eedb00>"
      ]
     },
     "metadata": {
      "needs_background": "light"
     },
     "output_type": "display_data"
    }
   ],
   "source": [
    "# Configurando análise\n",
    "max_features = list(range(X_train.shape[1]-10, X_train.shape[1]))\n",
    "\n",
    "train_results = []\n",
    "test_results = []\n",
    "\n",
    "for n_features in max_features:\n",
    "    \n",
    "    tree_clf = DecisionTreeClassifier(max_features=n_features)\n",
    "    tree_clf.fit(X_train, y_train)\n",
    "    \n",
    "    # Análise nos dados de treino\n",
    "    tree_train_scores = cross_val_score(tree_clf, X_train, y_train, \n",
    "                                 cv=3, scoring='accuracy')\n",
    "    train_results.append(tree_train_scores.mean())\n",
    "    \n",
    "    # Análise nos dados de teste\n",
    "    tree_test_scores = cross_val_score(tree_clf, X_test, y_test,\n",
    "                                      cv=3, scoring='accuracy')\n",
    "    test_results.append(tree_test_scores.mean())\n",
    "\n",
    "# Plotando gráfico\n",
    "from matplotlib.legend_handler import HandlerLine2D\n",
    "line1, = plt.plot(max_features, train_results, 'b', label='Train Accuracy')\n",
    "line2, = plt.plot(max_features, test_results, 'r', label='Test Accuracy')\n",
    "plt.legend(handler_map={line1: HandlerLine2D(numpoints=2)})\n",
    "plt.ylabel('Accuracy')\n",
    "plt.xlabel('Number of features')\n",
    "plt.show()"
   ]
  },
  {
   "cell_type": "markdown",
   "metadata": {
    "hidden": true
   },
   "source": [
    "A análise que se faz, para este hiperparâmetro, dentro deste conceito é que, como temos um problema de classificação de imagens, temos uma grande número de features (784, para sermos exatos). Dado este fato, não há muita lógica em utilizar uma quantidade menor de features para análise.\n",
    "\n",
    "Para fins didáticos, a avaliação do gráfico acima indica, novamente, um overfitting nos dados."
   ]
  },
  {
   "cell_type": "markdown",
   "metadata": {
    "hidden": true
   },
   "source": [
    "#### criterion"
   ]
  },
  {
   "cell_type": "markdown",
   "metadata": {
    "hidden": true
   },
   "source": [
    "Este hiperparâmetro define a função responsável por medir a qualidade do split. Há duas opções: *\"gini\"* para definir a Impureza Gini e *\"entropy\"* para definir o ganho de informação."
   ]
  },
  {
   "cell_type": "code",
   "execution_count": 136,
   "metadata": {
    "ExecuteTime": {
     "end_time": "2018-12-31T00:17:45.056559Z",
     "start_time": "2018-12-30T23:55:01.550287Z"
    },
    "hidden": true
   },
   "outputs": [
    {
     "data": {
      "image/png": "[encoded data removed]",
      "text/plain": [
       "<matplotlib.figure.Figure at 0x19ea542e780>"
      ]
     },
     "metadata": {
      "needs_background": "light"
     },
     "output_type": "display_data"
    }
   ],
   "source": [
    "# Avaliando os diferentes critérios de acordo com a máxima profundidade\n",
    "max_depths = list(range(10, 25))\n",
    "\n",
    "gini_train_results = []\n",
    "gini_test_results = []\n",
    "entropy_train_results = []\n",
    "entropy_test_results = []\n",
    "\n",
    "for max_depth in max_depths:\n",
    "    \n",
    "    # Criando classificador com critério 'gini'\n",
    "    tree_gini = DecisionTreeClassifier(max_depth=max_depth, criterion='gini')\n",
    "    \n",
    "    # Avaliando nos dados de treino\n",
    "    gini_train_scores = cross_val_score(tree_gini, X_train, y_train,\n",
    "                                       cv=3, scoring='accuracy')\n",
    "    gini_train_results.append(gini_train_scores.mean())\n",
    "    \n",
    "    # Avaliando nos dados de teste\n",
    "    gini_test_scores = cross_val_score(tree_gini, X_test, y_test,\n",
    "                                      cv=3, scoring='accuracy')\n",
    "    gini_test_results.append(gini_test_scores.mean())\n",
    "    \n",
    "    # Criando classificador com critério 'entropy'\n",
    "    tree_entropy = DecisionTreeClassifier(max_depth=max_depth, criterion='entropy')\n",
    "    \n",
    "    # Avaliando nos dados de treino\n",
    "    entropy_train_scores = cross_val_score(tree_entropy, X_train, y_train,\n",
    "                                           cv=3, scoring='accuracy')\n",
    "    entropy_train_results.append(entropy_train_scores.mean())\n",
    "    \n",
    "    # Avaliando nos dados de teste\n",
    "    entropy_test_scores = cross_val_score(tree_entropy, X_test, y_test,\n",
    "                                          cv=3, scoring='accuracy')\n",
    "    entropy_test_results.append(entropy_test_scores.mean())\n",
    "\n",
    "# Plotando gráfico \n",
    "from matplotlib.legend_handler import HandlerLine2D\n",
    "line1, = plt.plot(max_depths, gini_train_results, 'b', label='Gini Train Accuracy')\n",
    "line2, = plt.plot(max_depths, gini_test_results, 'r', label='Gini Test Accuracy')\n",
    "line3, = plt.plot(max_depths, entropy_train_results, 'y--', label='Entropy Train Accuracy')\n",
    "line4, = plt.plot(max_depths, entropy_test_results, 'k--', label='Entropy Test Accuracy')\n",
    "plt.legend(handler_map={line1: HandlerLine2D(numpoints=2)})\n",
    "plt.ylabel('Accuracy')\n",
    "plt.xlabel('max depths')\n",
    "plt.show()"
   ]
  },
  {
   "cell_type": "markdown",
   "metadata": {
    "hidden": true
   },
   "source": [
    "A análise do gráfico acima indica que, entre os critérios ```\"gini\"``` e ```\"entropy\"```, é preferível utilizar o critério ```\"entropy\"```, uma vez que as acurácias, tanto para treino, quanto para teste, apresentaram valores maiores.\n",
    "\n",
    "Adicionalmente, um ```max_depth``` de 13 foi o melhor índice para os dados de teste."
   ]
  },
  {
   "cell_type": "markdown",
   "metadata": {
    "hidden": true
   },
   "source": [
    "#### GridSearchCV"
   ]
  },
  {
   "cell_type": "markdown",
   "metadata": {
    "hidden": true
   },
   "source": [
    "Após avaliar os efeitos de diferentes hiperparâmetros, a ideia agora é realizar uma busca da melhor combinação de hiperparâmetros utilizando o ```GridSearchCV```."
   ]
  },
  {
   "cell_type": "code",
   "execution_count": 159,
   "metadata": {
    "ExecuteTime": {
     "end_time": "2018-12-31T00:46:06.070790Z",
     "start_time": "2018-12-31T00:46:06.064807Z"
    },
    "hidden": true
   },
   "outputs": [
    {
     "data": {
      "text/plain": [
       "array([0.1, 0.2, 0.3, 0.4, 0.5])"
      ]
     },
     "execution_count": 159,
     "metadata": {},
     "output_type": "execute_result"
    }
   ],
   "source": [
    "np.linspace(.1, .5, 5)"
   ]
  },
  {
   "cell_type": "code",
   "execution_count": 28,
   "metadata": {
    "ExecuteTime": {
     "end_time": "2019-01-03T23:22:36.765150Z",
     "start_time": "2019-01-03T22:36:40.647005Z"
    },
    "hidden": true
   },
   "outputs": [
    {
     "name": "stdout",
     "output_type": "stream",
     "text": [
      "Fitting 3 folds for each of 72 candidates, totalling 216 fits\n",
      "[CV] criterion=gini, max_depth=None, min_samples_leaf=1, min_samples_split=2 \n",
      "[CV]  criterion=gini, max_depth=None, min_samples_leaf=1, min_samples_split=2, score=0.8636772645470906, total=  18.5s\n",
      "[CV] criterion=gini, max_depth=None, min_samples_leaf=1, min_samples_split=2 \n"
     ]
    },
    {
     "name": "stderr",
     "output_type": "stream",
     "text": [
      "[Parallel(n_jobs=1)]: Done   1 out of   1 | elapsed:   18.8s remaining:    0.0s\n"
     ]
    },
    {
     "name": "stdout",
     "output_type": "stream",
     "text": [
      "[CV]  criterion=gini, max_depth=None, min_samples_leaf=1, min_samples_split=2, score=0.8655932796639833, total=  18.4s\n",
      "[CV] criterion=gini, max_depth=None, min_samples_leaf=1, min_samples_split=2 \n"
     ]
    },
    {
     "name": "stderr",
     "output_type": "stream",
     "text": [
      "[Parallel(n_jobs=1)]: Done   2 out of   2 | elapsed:   37.4s remaining:    0.0s\n"
     ]
    },
    {
     "name": "stdout",
     "output_type": "stream",
     "text": [
      "[CV]  criterion=gini, max_depth=None, min_samples_leaf=1, min_samples_split=2, score=0.8578786818022703, total=  18.7s\n",
      "[CV] criterion=gini, max_depth=None, min_samples_leaf=1, min_samples_split=10 \n",
      "[CV]  criterion=gini, max_depth=None, min_samples_leaf=1, min_samples_split=10, score=0.8627774445110978, total=  18.8s\n",
      "[CV] criterion=gini, max_depth=None, min_samples_leaf=1, min_samples_split=10 \n",
      "[CV]  criterion=gini, max_depth=None, min_samples_leaf=1, min_samples_split=10, score=0.863693184659233, total=  18.2s\n",
      "[CV] criterion=gini, max_depth=None, min_samples_leaf=1, min_samples_split=10 \n",
      "[CV]  criterion=gini, max_depth=None, min_samples_leaf=1, min_samples_split=10, score=0.8557783667550133, total=  18.7s\n",
      "[CV] criterion=gini, max_depth=None, min_samples_leaf=1, min_samples_split=20 \n",
      "[CV]  criterion=gini, max_depth=None, min_samples_leaf=1, min_samples_split=20, score=0.858378324335133, total=  18.7s\n",
      "[CV] criterion=gini, max_depth=None, min_samples_leaf=1, min_samples_split=20 \n",
      "[CV]  criterion=gini, max_depth=None, min_samples_leaf=1, min_samples_split=20, score=0.8607930396519826, total=  18.1s\n",
      "[CV] criterion=gini, max_depth=None, min_samples_leaf=1, min_samples_split=20 \n",
      "[CV]  criterion=gini, max_depth=None, min_samples_leaf=1, min_samples_split=20, score=0.8536780517077561, total=  18.5s\n",
      "[CV] criterion=gini, max_depth=None, min_samples_leaf=5, min_samples_split=2 \n",
      "[CV]  criterion=gini, max_depth=None, min_samples_leaf=5, min_samples_split=2, score=0.8677764447110577, total=  16.0s\n",
      "[CV] criterion=gini, max_depth=None, min_samples_leaf=5, min_samples_split=2 \n",
      "[CV]  criterion=gini, max_depth=None, min_samples_leaf=5, min_samples_split=2, score=0.8653432671633582, total=  15.7s\n",
      "[CV] criterion=gini, max_depth=None, min_samples_leaf=5, min_samples_split=2 \n",
      "[CV]  criterion=gini, max_depth=None, min_samples_leaf=5, min_samples_split=2, score=0.8597789668450267, total=  15.5s\n",
      "[CV] criterion=gini, max_depth=None, min_samples_leaf=5, min_samples_split=10 \n",
      "[CV]  criterion=gini, max_depth=None, min_samples_leaf=5, min_samples_split=10, score=0.8664767046590682, total=  16.0s\n",
      "[CV] criterion=gini, max_depth=None, min_samples_leaf=5, min_samples_split=10 \n",
      "[CV]  criterion=gini, max_depth=None, min_samples_leaf=5, min_samples_split=10, score=0.8659432971648583, total=  15.6s\n",
      "[CV] criterion=gini, max_depth=None, min_samples_leaf=5, min_samples_split=10 \n",
      "[CV]  criterion=gini, max_depth=None, min_samples_leaf=5, min_samples_split=10, score=0.8608791318697805, total=  11.5s\n",
      "[CV] criterion=gini, max_depth=None, min_samples_leaf=5, min_samples_split=20 \n",
      "[CV]  criterion=gini, max_depth=None, min_samples_leaf=5, min_samples_split=20, score=0.8655768846230754, total=  14.8s\n",
      "[CV] criterion=gini, max_depth=None, min_samples_leaf=5, min_samples_split=20 \n",
      "[CV]  criterion=gini, max_depth=None, min_samples_leaf=5, min_samples_split=20, score=0.863843192159608, total=  15.1s\n",
      "[CV] criterion=gini, max_depth=None, min_samples_leaf=5, min_samples_split=20 \n",
      "[CV]  criterion=gini, max_depth=None, min_samples_leaf=5, min_samples_split=20, score=0.8567285092763914, total=  15.8s\n",
      "[CV] criterion=gini, max_depth=None, min_samples_leaf=10, min_samples_split=2 \n",
      "[CV]  criterion=gini, max_depth=None, min_samples_leaf=10, min_samples_split=2, score=0.8625274945010998, total=  14.7s\n",
      "[CV] criterion=gini, max_depth=None, min_samples_leaf=10, min_samples_split=2 \n",
      "[CV]  criterion=gini, max_depth=None, min_samples_leaf=10, min_samples_split=2, score=0.8624931246562328, total=  14.5s\n",
      "[CV] criterion=gini, max_depth=None, min_samples_leaf=10, min_samples_split=2 \n",
      "[CV]  criterion=gini, max_depth=None, min_samples_leaf=10, min_samples_split=2, score=0.8543281492223833, total=  14.0s\n",
      "[CV] criterion=gini, max_depth=None, min_samples_leaf=10, min_samples_split=10 \n",
      "[CV]  criterion=gini, max_depth=None, min_samples_leaf=10, min_samples_split=10, score=0.8627274545090982, total=  14.7s\n",
      "[CV] criterion=gini, max_depth=None, min_samples_leaf=10, min_samples_split=10 \n",
      "[CV]  criterion=gini, max_depth=None, min_samples_leaf=10, min_samples_split=10, score=0.8627931396569829, total=  14.3s\n",
      "[CV] criterion=gini, max_depth=None, min_samples_leaf=10, min_samples_split=10 \n",
      "[CV]  criterion=gini, max_depth=None, min_samples_leaf=10, min_samples_split=10, score=0.8546281942291344, total=  14.0s\n",
      "[CV] criterion=gini, max_depth=None, min_samples_leaf=10, min_samples_split=20 \n",
      "[CV]  criterion=gini, max_depth=None, min_samples_leaf=10, min_samples_split=20, score=0.8635272945410918, total=  14.9s\n",
      "[CV] criterion=gini, max_depth=None, min_samples_leaf=10, min_samples_split=20 \n",
      "[CV]  criterion=gini, max_depth=None, min_samples_leaf=10, min_samples_split=20, score=0.8626931346567328, total=  14.3s\n",
      "[CV] criterion=gini, max_depth=None, min_samples_leaf=10, min_samples_split=20 \n",
      "[CV]  criterion=gini, max_depth=None, min_samples_leaf=10, min_samples_split=20, score=0.8542781417212582, total=  13.9s\n",
      "[CV] criterion=gini, max_depth=5, min_samples_leaf=1, min_samples_split=2 \n",
      "[CV]  criterion=gini, max_depth=5, min_samples_leaf=1, min_samples_split=2, score=0.6679164167166567, total=   5.4s\n",
      "[CV] criterion=gini, max_depth=5, min_samples_leaf=1, min_samples_split=2 \n",
      "[CV]  criterion=gini, max_depth=5, min_samples_leaf=1, min_samples_split=2, score=0.6778338916945847, total=   5.3s\n",
      "[CV] criterion=gini, max_depth=5, min_samples_leaf=1, min_samples_split=2 \n",
      "[CV]  criterion=gini, max_depth=5, min_samples_leaf=1, min_samples_split=2, score=0.6572985947892184, total=   5.6s\n",
      "[CV] criterion=gini, max_depth=5, min_samples_leaf=1, min_samples_split=10 \n",
      "[CV]  criterion=gini, max_depth=5, min_samples_leaf=1, min_samples_split=10, score=0.6679164167166567, total=   5.5s\n",
      "[CV] criterion=gini, max_depth=5, min_samples_leaf=1, min_samples_split=10 \n",
      "[CV]  criterion=gini, max_depth=5, min_samples_leaf=1, min_samples_split=10, score=0.6778338916945847, total=   5.4s\n",
      "[CV] criterion=gini, max_depth=5, min_samples_leaf=1, min_samples_split=10 \n",
      "[CV]  criterion=gini, max_depth=5, min_samples_leaf=1, min_samples_split=10, score=0.6572985947892184, total=   5.5s\n",
      "[CV] criterion=gini, max_depth=5, min_samples_leaf=1, min_samples_split=20 \n",
      "[CV]  criterion=gini, max_depth=5, min_samples_leaf=1, min_samples_split=20, score=0.6679164167166567, total=   5.4s\n",
      "[CV] criterion=gini, max_depth=5, min_samples_leaf=1, min_samples_split=20 \n",
      "[CV]  criterion=gini, max_depth=5, min_samples_leaf=1, min_samples_split=20, score=0.6778338916945847, total=   5.5s\n",
      "[CV] criterion=gini, max_depth=5, min_samples_leaf=1, min_samples_split=20 \n",
      "[CV]  criterion=gini, max_depth=5, min_samples_leaf=1, min_samples_split=20, score=0.6572985947892184, total=   5.4s\n",
      "[CV] criterion=gini, max_depth=5, min_samples_leaf=5, min_samples_split=2 \n",
      "[CV]  criterion=gini, max_depth=5, min_samples_leaf=5, min_samples_split=2, score=0.6679164167166567, total=   5.6s\n",
      "[CV] criterion=gini, max_depth=5, min_samples_leaf=5, min_samples_split=2 \n",
      "[CV]  criterion=gini, max_depth=5, min_samples_leaf=5, min_samples_split=2, score=0.6778338916945847, total=   5.3s\n",
      "[CV] criterion=gini, max_depth=5, min_samples_leaf=5, min_samples_split=2 \n",
      "[CV]  criterion=gini, max_depth=5, min_samples_leaf=5, min_samples_split=2, score=0.6572985947892184, total=   5.6s\n",
      "[CV] criterion=gini, max_depth=5, min_samples_leaf=5, min_samples_split=10 \n",
      "[CV]  criterion=gini, max_depth=5, min_samples_leaf=5, min_samples_split=10, score=0.6679164167166567, total=   5.4s\n",
      "[CV] criterion=gini, max_depth=5, min_samples_leaf=5, min_samples_split=10 \n",
      "[CV]  criterion=gini, max_depth=5, min_samples_leaf=5, min_samples_split=10, score=0.6778338916945847, total=   5.5s\n",
      "[CV] criterion=gini, max_depth=5, min_samples_leaf=5, min_samples_split=10 \n",
      "[CV]  criterion=gini, max_depth=5, min_samples_leaf=5, min_samples_split=10, score=0.6572985947892184, total=   5.5s\n",
      "[CV] criterion=gini, max_depth=5, min_samples_leaf=5, min_samples_split=20 \n",
      "[CV]  criterion=gini, max_depth=5, min_samples_leaf=5, min_samples_split=20, score=0.6679164167166567, total=   5.2s\n",
      "[CV] criterion=gini, max_depth=5, min_samples_leaf=5, min_samples_split=20 \n",
      "[CV]  criterion=gini, max_depth=5, min_samples_leaf=5, min_samples_split=20, score=0.6778338916945847, total=   5.6s\n",
      "[CV] criterion=gini, max_depth=5, min_samples_leaf=5, min_samples_split=20 \n"
     ]
    },
    {
     "name": "stdout",
     "output_type": "stream",
     "text": [
      "[CV]  criterion=gini, max_depth=5, min_samples_leaf=5, min_samples_split=20, score=0.6572985947892184, total=   5.2s\n",
      "[CV] criterion=gini, max_depth=5, min_samples_leaf=10, min_samples_split=2 \n",
      "[CV]  criterion=gini, max_depth=5, min_samples_leaf=10, min_samples_split=2, score=0.6679164167166567, total=   5.5s\n",
      "[CV] criterion=gini, max_depth=5, min_samples_leaf=10, min_samples_split=2 \n",
      "[CV]  criterion=gini, max_depth=5, min_samples_leaf=10, min_samples_split=2, score=0.6778338916945847, total=   5.5s\n",
      "[CV] criterion=gini, max_depth=5, min_samples_leaf=10, min_samples_split=2 \n",
      "[CV]  criterion=gini, max_depth=5, min_samples_leaf=10, min_samples_split=2, score=0.6572985947892184, total=   5.6s\n",
      "[CV] criterion=gini, max_depth=5, min_samples_leaf=10, min_samples_split=10 \n",
      "[CV]  criterion=gini, max_depth=5, min_samples_leaf=10, min_samples_split=10, score=0.6679164167166567, total=   5.2s\n",
      "[CV] criterion=gini, max_depth=5, min_samples_leaf=10, min_samples_split=10 \n",
      "[CV]  criterion=gini, max_depth=5, min_samples_leaf=10, min_samples_split=10, score=0.6778338916945847, total=   5.6s\n",
      "[CV] criterion=gini, max_depth=5, min_samples_leaf=10, min_samples_split=10 \n",
      "[CV]  criterion=gini, max_depth=5, min_samples_leaf=10, min_samples_split=10, score=0.6572985947892184, total=   5.3s\n",
      "[CV] criterion=gini, max_depth=5, min_samples_leaf=10, min_samples_split=20 \n",
      "[CV]  criterion=gini, max_depth=5, min_samples_leaf=10, min_samples_split=20, score=0.6679164167166567, total=   5.7s\n",
      "[CV] criterion=gini, max_depth=5, min_samples_leaf=10, min_samples_split=20 \n",
      "[CV]  criterion=gini, max_depth=5, min_samples_leaf=10, min_samples_split=20, score=0.6778338916945847, total=   5.5s\n",
      "[CV] criterion=gini, max_depth=5, min_samples_leaf=10, min_samples_split=20 \n",
      "[CV]  criterion=gini, max_depth=5, min_samples_leaf=10, min_samples_split=20, score=0.6572985947892184, total=   5.3s\n",
      "[CV] criterion=gini, max_depth=10, min_samples_leaf=1, min_samples_split=2 \n",
      "[CV]  criterion=gini, max_depth=10, min_samples_leaf=1, min_samples_split=2, score=0.8518296340731853, total=   9.8s\n",
      "[CV] criterion=gini, max_depth=10, min_samples_leaf=1, min_samples_split=2 \n",
      "[CV]  criterion=gini, max_depth=10, min_samples_leaf=1, min_samples_split=2, score=0.8497424871243562, total=   9.9s\n",
      "[CV] criterion=gini, max_depth=10, min_samples_leaf=1, min_samples_split=2 \n",
      "[CV]  criterion=gini, max_depth=10, min_samples_leaf=1, min_samples_split=2, score=0.8505775866379957, total=   9.7s\n",
      "[CV] criterion=gini, max_depth=10, min_samples_leaf=1, min_samples_split=10 \n",
      "[CV]  criterion=gini, max_depth=10, min_samples_leaf=1, min_samples_split=10, score=0.8516796640671865, total=   9.6s\n",
      "[CV] criterion=gini, max_depth=10, min_samples_leaf=1, min_samples_split=10 \n",
      "[CV]  criterion=gini, max_depth=10, min_samples_leaf=1, min_samples_split=10, score=0.8496924846242312, total=   9.9s\n",
      "[CV] criterion=gini, max_depth=10, min_samples_leaf=1, min_samples_split=10 \n",
      "[CV]  criterion=gini, max_depth=10, min_samples_leaf=1, min_samples_split=10, score=0.849477421613242, total=   9.7s\n",
      "[CV] criterion=gini, max_depth=10, min_samples_leaf=1, min_samples_split=20 \n",
      "[CV]  criterion=gini, max_depth=10, min_samples_leaf=1, min_samples_split=20, score=0.8507298540291942, total=   9.7s\n",
      "[CV] criterion=gini, max_depth=10, min_samples_leaf=1, min_samples_split=20 \n",
      "[CV]  criterion=gini, max_depth=10, min_samples_leaf=1, min_samples_split=20, score=0.848142407120356, total=   9.6s\n",
      "[CV] criterion=gini, max_depth=10, min_samples_leaf=1, min_samples_split=20 \n",
      "[CV]  criterion=gini, max_depth=10, min_samples_leaf=1, min_samples_split=20, score=0.8481772265839876, total=   9.7s\n",
      "[CV] criterion=gini, max_depth=10, min_samples_leaf=5, min_samples_split=2 \n",
      "[CV]  criterion=gini, max_depth=10, min_samples_leaf=5, min_samples_split=2, score=0.8514297140571886, total=   9.7s\n",
      "[CV] criterion=gini, max_depth=10, min_samples_leaf=5, min_samples_split=2 \n",
      "[CV]  criterion=gini, max_depth=10, min_samples_leaf=5, min_samples_split=2, score=0.848392419620981, total=   9.6s\n",
      "[CV] criterion=gini, max_depth=10, min_samples_leaf=5, min_samples_split=2 \n",
      "[CV]  criterion=gini, max_depth=10, min_samples_leaf=5, min_samples_split=2, score=0.8489773466019903, total=   9.3s\n",
      "[CV] criterion=gini, max_depth=10, min_samples_leaf=5, min_samples_split=10 \n",
      "[CV]  criterion=gini, max_depth=10, min_samples_leaf=5, min_samples_split=10, score=0.8518296340731853, total=   9.6s\n",
      "[CV] criterion=gini, max_depth=10, min_samples_leaf=5, min_samples_split=10 \n",
      "[CV]  criterion=gini, max_depth=10, min_samples_leaf=5, min_samples_split=10, score=0.848092404620231, total=   9.7s\n",
      "[CV] criterion=gini, max_depth=10, min_samples_leaf=5, min_samples_split=10 \n",
      "[CV]  criterion=gini, max_depth=10, min_samples_leaf=5, min_samples_split=10, score=0.8489273391008652, total=   9.7s\n",
      "[CV] criterion=gini, max_depth=10, min_samples_leaf=5, min_samples_split=20 \n",
      "[CV]  criterion=gini, max_depth=10, min_samples_leaf=5, min_samples_split=20, score=0.8513297340531893, total=   9.6s\n",
      "[CV] criterion=gini, max_depth=10, min_samples_leaf=5, min_samples_split=20 \n",
      "[CV]  criterion=gini, max_depth=10, min_samples_leaf=5, min_samples_split=20, score=0.847742387119356, total=   9.9s\n",
      "[CV] criterion=gini, max_depth=10, min_samples_leaf=5, min_samples_split=20 \n",
      "[CV]  criterion=gini, max_depth=10, min_samples_leaf=5, min_samples_split=20, score=0.8466269940491074, total=   9.5s\n",
      "[CV] criterion=gini, max_depth=10, min_samples_leaf=10, min_samples_split=2 \n",
      "[CV]  criterion=gini, max_depth=10, min_samples_leaf=10, min_samples_split=2, score=0.8489302139572086, total=   9.6s\n",
      "[CV] criterion=gini, max_depth=10, min_samples_leaf=10, min_samples_split=2 \n",
      "[CV]  criterion=gini, max_depth=10, min_samples_leaf=10, min_samples_split=2, score=0.8459422971148557, total=   9.6s\n",
      "[CV] criterion=gini, max_depth=10, min_samples_leaf=10, min_samples_split=2 \n",
      "[CV]  criterion=gini, max_depth=10, min_samples_leaf=10, min_samples_split=2, score=0.8463769565434816, total=   9.5s\n",
      "[CV] criterion=gini, max_depth=10, min_samples_leaf=10, min_samples_split=10 \n",
      "[CV]  criterion=gini, max_depth=10, min_samples_leaf=10, min_samples_split=10, score=0.8485302939412117, total=   9.5s\n",
      "[CV] criterion=gini, max_depth=10, min_samples_leaf=10, min_samples_split=10 \n",
      "[CV]  criterion=gini, max_depth=10, min_samples_leaf=10, min_samples_split=10, score=0.8461923096154808, total=   9.7s\n",
      "[CV] criterion=gini, max_depth=10, min_samples_leaf=10, min_samples_split=10 \n",
      "[CV]  criterion=gini, max_depth=10, min_samples_leaf=10, min_samples_split=10, score=0.8461269190378556, total=   9.4s\n",
      "[CV] criterion=gini, max_depth=10, min_samples_leaf=10, min_samples_split=20 \n",
      "[CV]  criterion=gini, max_depth=10, min_samples_leaf=10, min_samples_split=20, score=0.8490801839632074, total=   9.5s\n",
      "[CV] criterion=gini, max_depth=10, min_samples_leaf=10, min_samples_split=20 \n",
      "[CV]  criterion=gini, max_depth=10, min_samples_leaf=10, min_samples_split=20, score=0.8459922996149808, total=   9.8s\n",
      "[CV] criterion=gini, max_depth=10, min_samples_leaf=10, min_samples_split=20 \n",
      "[CV]  criterion=gini, max_depth=10, min_samples_leaf=10, min_samples_split=20, score=0.8464269640446067, total=   9.7s\n",
      "[CV] criterion=gini, max_depth=15, min_samples_leaf=1, min_samples_split=2 \n",
      "[CV]  criterion=gini, max_depth=15, min_samples_leaf=1, min_samples_split=2, score=0.8679764047190562, total=  12.7s\n",
      "[CV] criterion=gini, max_depth=15, min_samples_leaf=1, min_samples_split=2 \n",
      "[CV]  criterion=gini, max_depth=15, min_samples_leaf=1, min_samples_split=2, score=0.8683434171708585, total=  12.8s\n",
      "[CV] criterion=gini, max_depth=15, min_samples_leaf=1, min_samples_split=2 \n",
      "[CV]  criterion=gini, max_depth=15, min_samples_leaf=1, min_samples_split=2, score=0.8614292143821574, total=  13.0s\n",
      "[CV] criterion=gini, max_depth=15, min_samples_leaf=1, min_samples_split=10 \n",
      "[CV]  criterion=gini, max_depth=15, min_samples_leaf=1, min_samples_split=10, score=0.8658268346330734, total=  12.9s\n",
      "[CV] criterion=gini, max_depth=15, min_samples_leaf=1, min_samples_split=10 \n",
      "[CV]  criterion=gini, max_depth=15, min_samples_leaf=1, min_samples_split=10, score=0.8688934446722336, total=  12.6s\n",
      "[CV] criterion=gini, max_depth=15, min_samples_leaf=1, min_samples_split=10 \n",
      "[CV]  criterion=gini, max_depth=15, min_samples_leaf=1, min_samples_split=10, score=0.860129019352903, total=  12.8s\n",
      "[CV] criterion=gini, max_depth=15, min_samples_leaf=1, min_samples_split=20 \n"
     ]
    },
    {
     "name": "stdout",
     "output_type": "stream",
     "text": [
      "[CV]  criterion=gini, max_depth=15, min_samples_leaf=1, min_samples_split=20, score=0.8608278344331134, total=  12.6s\n",
      "[CV] criterion=gini, max_depth=15, min_samples_leaf=1, min_samples_split=20 \n",
      "[CV]  criterion=gini, max_depth=15, min_samples_leaf=1, min_samples_split=20, score=0.8642432121606081, total=  12.5s\n",
      "[CV] criterion=gini, max_depth=15, min_samples_leaf=1, min_samples_split=20 \n",
      "[CV]  criterion=gini, max_depth=15, min_samples_leaf=1, min_samples_split=20, score=0.8555283292493874, total=  12.8s\n",
      "[CV] criterion=gini, max_depth=15, min_samples_leaf=5, min_samples_split=2 \n",
      "[CV]  criterion=gini, max_depth=15, min_samples_leaf=5, min_samples_split=2, score=0.8684263147370526, total=  12.5s\n",
      "[CV] criterion=gini, max_depth=15, min_samples_leaf=5, min_samples_split=2 \n",
      "[CV]  criterion=gini, max_depth=15, min_samples_leaf=5, min_samples_split=2, score=0.8675933796689834, total=  12.4s\n",
      "[CV] criterion=gini, max_depth=15, min_samples_leaf=5, min_samples_split=2 \n",
      "[CV]  criterion=gini, max_depth=15, min_samples_leaf=5, min_samples_split=2, score=0.861629244386658, total=  12.5s\n",
      "[CV] criterion=gini, max_depth=15, min_samples_leaf=5, min_samples_split=10 \n",
      "[CV]  criterion=gini, max_depth=15, min_samples_leaf=5, min_samples_split=10, score=0.8666266746650669, total=  12.7s\n",
      "[CV] criterion=gini, max_depth=15, min_samples_leaf=5, min_samples_split=10 \n",
      "[CV]  criterion=gini, max_depth=15, min_samples_leaf=5, min_samples_split=10, score=0.8683434171708585, total=  12.4s\n",
      "[CV] criterion=gini, max_depth=15, min_samples_leaf=5, min_samples_split=10 \n",
      "[CV]  criterion=gini, max_depth=15, min_samples_leaf=5, min_samples_split=10, score=0.8621293193979097, total=  12.3s\n",
      "[CV] criterion=gini, max_depth=15, min_samples_leaf=5, min_samples_split=20 \n",
      "[CV]  criterion=gini, max_depth=15, min_samples_leaf=5, min_samples_split=20, score=0.8662767446510697, total=  12.2s\n",
      "[CV] criterion=gini, max_depth=15, min_samples_leaf=5, min_samples_split=20 \n",
      "[CV]  criterion=gini, max_depth=15, min_samples_leaf=5, min_samples_split=20, score=0.8660433021651083, total=  12.2s\n",
      "[CV] criterion=gini, max_depth=15, min_samples_leaf=5, min_samples_split=20 \n",
      "[CV]  criterion=gini, max_depth=15, min_samples_leaf=5, min_samples_split=20, score=0.8581287193078961, total=  12.7s\n",
      "[CV] criterion=gini, max_depth=15, min_samples_leaf=10, min_samples_split=2 \n",
      "[CV]  criterion=gini, max_depth=15, min_samples_leaf=10, min_samples_split=2, score=0.861877624475105, total=  12.1s\n",
      "[CV] criterion=gini, max_depth=15, min_samples_leaf=10, min_samples_split=2 \n",
      "[CV]  criterion=gini, max_depth=15, min_samples_leaf=10, min_samples_split=2, score=0.8633931696584829, total=  12.2s\n",
      "[CV] criterion=gini, max_depth=15, min_samples_leaf=10, min_samples_split=2 \n",
      "[CV]  criterion=gini, max_depth=15, min_samples_leaf=10, min_samples_split=2, score=0.8540781117167575, total=  11.9s\n",
      "[CV] criterion=gini, max_depth=15, min_samples_leaf=10, min_samples_split=10 \n",
      "[CV]  criterion=gini, max_depth=15, min_samples_leaf=10, min_samples_split=10, score=0.862127574485103, total=  11.9s\n",
      "[CV] criterion=gini, max_depth=15, min_samples_leaf=10, min_samples_split=10 \n",
      "[CV]  criterion=gini, max_depth=15, min_samples_leaf=10, min_samples_split=10, score=0.863993199659983, total=  12.2s\n",
      "[CV] criterion=gini, max_depth=15, min_samples_leaf=10, min_samples_split=10 \n",
      "[CV]  criterion=gini, max_depth=15, min_samples_leaf=10, min_samples_split=10, score=0.8543781567235085, total=  12.2s\n",
      "[CV] criterion=gini, max_depth=15, min_samples_leaf=10, min_samples_split=20 \n",
      "[CV]  criterion=gini, max_depth=15, min_samples_leaf=10, min_samples_split=20, score=0.8611777644471106, total=  12.2s\n",
      "[CV] criterion=gini, max_depth=15, min_samples_leaf=10, min_samples_split=20 \n",
      "[CV]  criterion=gini, max_depth=15, min_samples_leaf=10, min_samples_split=20, score=0.863943197159858, total=  12.1s\n",
      "[CV] criterion=gini, max_depth=15, min_samples_leaf=10, min_samples_split=20 \n",
      "[CV]  criterion=gini, max_depth=15, min_samples_leaf=10, min_samples_split=20, score=0.8541281192178827, total=  12.4s\n",
      "[CV] criterion=entropy, max_depth=None, min_samples_leaf=1, min_samples_split=2 \n",
      "[CV]  criterion=entropy, max_depth=None, min_samples_leaf=1, min_samples_split=2, score=0.875374925014997, total=  18.0s\n",
      "[CV] criterion=entropy, max_depth=None, min_samples_leaf=1, min_samples_split=2 \n",
      "[CV]  criterion=entropy, max_depth=None, min_samples_leaf=1, min_samples_split=2, score=0.8652932646632332, total=  17.9s\n",
      "[CV] criterion=entropy, max_depth=None, min_samples_leaf=1, min_samples_split=2 \n",
      "[CV]  criterion=entropy, max_depth=None, min_samples_leaf=1, min_samples_split=2, score=0.8649297394609191, total=  17.1s\n",
      "[CV] criterion=entropy, max_depth=None, min_samples_leaf=1, min_samples_split=10 \n",
      "[CV]  criterion=entropy, max_depth=None, min_samples_leaf=1, min_samples_split=10, score=0.8727754449110178, total=  17.8s\n",
      "[CV] criterion=entropy, max_depth=None, min_samples_leaf=1, min_samples_split=10 \n",
      "[CV]  criterion=entropy, max_depth=None, min_samples_leaf=1, min_samples_split=10, score=0.8647432371618581, total=  17.8s\n",
      "[CV] criterion=entropy, max_depth=None, min_samples_leaf=1, min_samples_split=10 \n",
      "[CV]  criterion=entropy, max_depth=None, min_samples_leaf=1, min_samples_split=10, score=0.8661799269890483, total=  17.1s\n",
      "[CV] criterion=entropy, max_depth=None, min_samples_leaf=1, min_samples_split=20 \n",
      "[CV]  criterion=entropy, max_depth=None, min_samples_leaf=1, min_samples_split=20, score=0.8704259148170366, total=  17.5s\n",
      "[CV] criterion=entropy, max_depth=None, min_samples_leaf=1, min_samples_split=20 \n",
      "[CV]  criterion=entropy, max_depth=None, min_samples_leaf=1, min_samples_split=20, score=0.864143207160358, total=  17.6s\n",
      "[CV] criterion=entropy, max_depth=None, min_samples_leaf=1, min_samples_split=20 \n",
      "[CV]  criterion=entropy, max_depth=None, min_samples_leaf=1, min_samples_split=20, score=0.8606791018652797, total=  16.9s\n",
      "[CV] criterion=entropy, max_depth=None, min_samples_leaf=5, min_samples_split=2 \n",
      "[CV]  criterion=entropy, max_depth=None, min_samples_leaf=5, min_samples_split=2, score=0.8744251149770046, total=  17.1s\n",
      "[CV] criterion=entropy, max_depth=None, min_samples_leaf=5, min_samples_split=2 \n",
      "[CV]  criterion=entropy, max_depth=None, min_samples_leaf=5, min_samples_split=2, score=0.8660933046652333, total=  17.2s\n",
      "[CV] criterion=entropy, max_depth=None, min_samples_leaf=5, min_samples_split=2 \n",
      "[CV]  criterion=entropy, max_depth=None, min_samples_leaf=5, min_samples_split=2, score=0.8663799569935491, total=  16.5s\n",
      "[CV] criterion=entropy, max_depth=None, min_samples_leaf=5, min_samples_split=10 \n",
      "[CV]  criterion=entropy, max_depth=None, min_samples_leaf=5, min_samples_split=10, score=0.874125174965007, total=  17.4s\n",
      "[CV] criterion=entropy, max_depth=None, min_samples_leaf=5, min_samples_split=10 \n",
      "[CV]  criterion=entropy, max_depth=None, min_samples_leaf=5, min_samples_split=10, score=0.8652432621631082, total=  17.5s\n",
      "[CV] criterion=entropy, max_depth=None, min_samples_leaf=5, min_samples_split=10 \n",
      "[CV]  criterion=entropy, max_depth=None, min_samples_leaf=5, min_samples_split=10, score=0.8664299644946742, total=  16.6s\n",
      "[CV] criterion=entropy, max_depth=None, min_samples_leaf=5, min_samples_split=20 \n",
      "[CV]  criterion=entropy, max_depth=None, min_samples_leaf=5, min_samples_split=20, score=0.8733253349330133, total=  17.4s\n",
      "[CV] criterion=entropy, max_depth=None, min_samples_leaf=5, min_samples_split=20 \n",
      "[CV]  criterion=entropy, max_depth=None, min_samples_leaf=5, min_samples_split=20, score=0.863493174658733, total=  17.3s\n",
      "[CV] criterion=entropy, max_depth=None, min_samples_leaf=5, min_samples_split=20 \n",
      "[CV]  criterion=entropy, max_depth=None, min_samples_leaf=5, min_samples_split=20, score=0.8623293494024104, total=  16.5s\n",
      "[CV] criterion=entropy, max_depth=None, min_samples_leaf=10, min_samples_split=2 \n",
      "[CV]  criterion=entropy, max_depth=None, min_samples_leaf=10, min_samples_split=2, score=0.8683263347330534, total=  16.6s\n",
      "[CV] criterion=entropy, max_depth=None, min_samples_leaf=10, min_samples_split=2 \n",
      "[CV]  criterion=entropy, max_depth=None, min_samples_leaf=10, min_samples_split=2, score=0.8626931346567328, total=  16.4s\n",
      "[CV] criterion=entropy, max_depth=None, min_samples_leaf=10, min_samples_split=2 \n",
      "[CV]  criterion=entropy, max_depth=None, min_samples_leaf=10, min_samples_split=2, score=0.8596289443416513, total=  16.2s\n",
      "[CV] criterion=entropy, max_depth=None, min_samples_leaf=10, min_samples_split=10 \n"
     ]
    },
    {
     "name": "stdout",
     "output_type": "stream",
     "text": [
      "[CV]  criterion=entropy, max_depth=None, min_samples_leaf=10, min_samples_split=10, score=0.8682763447310538, total=  17.0s\n",
      "[CV] criterion=entropy, max_depth=None, min_samples_leaf=10, min_samples_split=10 \n",
      "[CV]  criterion=entropy, max_depth=None, min_samples_leaf=10, min_samples_split=10, score=0.8629431471573579, total=  17.0s\n",
      "[CV] criterion=entropy, max_depth=None, min_samples_leaf=10, min_samples_split=10 \n",
      "[CV]  criterion=entropy, max_depth=None, min_samples_leaf=10, min_samples_split=10, score=0.8605290793619043, total=  16.3s\n",
      "[CV] criterion=entropy, max_depth=None, min_samples_leaf=10, min_samples_split=20 \n",
      "[CV]  criterion=entropy, max_depth=None, min_samples_leaf=10, min_samples_split=20, score=0.8684763047390522, total=  16.5s\n",
      "[CV] criterion=entropy, max_depth=None, min_samples_leaf=10, min_samples_split=20 \n",
      "[CV]  criterion=entropy, max_depth=None, min_samples_leaf=10, min_samples_split=20, score=0.8622931146557328, total=  16.7s\n",
      "[CV] criterion=entropy, max_depth=None, min_samples_leaf=10, min_samples_split=20 \n",
      "[CV]  criterion=entropy, max_depth=None, min_samples_leaf=10, min_samples_split=20, score=0.8584787718157724, total=  16.5s\n",
      "[CV] criterion=entropy, max_depth=5, min_samples_leaf=1, min_samples_split=2 \n",
      "[CV]  criterion=entropy, max_depth=5, min_samples_leaf=1, min_samples_split=2, score=0.6906618676264747, total=   6.8s\n",
      "[CV] criterion=entropy, max_depth=5, min_samples_leaf=1, min_samples_split=2 \n",
      "[CV]  criterion=entropy, max_depth=5, min_samples_leaf=1, min_samples_split=2, score=0.6839841992099605, total=   7.0s\n",
      "[CV] criterion=entropy, max_depth=5, min_samples_leaf=1, min_samples_split=2 \n",
      "[CV]  criterion=entropy, max_depth=5, min_samples_leaf=1, min_samples_split=2, score=0.6733009951492724, total=   7.0s\n",
      "[CV] criterion=entropy, max_depth=5, min_samples_leaf=1, min_samples_split=10 \n",
      "[CV]  criterion=entropy, max_depth=5, min_samples_leaf=1, min_samples_split=10, score=0.6906618676264747, total=   7.0s\n",
      "[CV] criterion=entropy, max_depth=5, min_samples_leaf=1, min_samples_split=10 \n",
      "[CV]  criterion=entropy, max_depth=5, min_samples_leaf=1, min_samples_split=10, score=0.6839841992099605, total=   7.0s\n",
      "[CV] criterion=entropy, max_depth=5, min_samples_leaf=1, min_samples_split=10 \n",
      "[CV]  criterion=entropy, max_depth=5, min_samples_leaf=1, min_samples_split=10, score=0.6733009951492724, total=   6.8s\n",
      "[CV] criterion=entropy, max_depth=5, min_samples_leaf=1, min_samples_split=20 \n",
      "[CV]  criterion=entropy, max_depth=5, min_samples_leaf=1, min_samples_split=20, score=0.6906618676264747, total=   6.6s\n",
      "[CV] criterion=entropy, max_depth=5, min_samples_leaf=1, min_samples_split=20 \n",
      "[CV]  criterion=entropy, max_depth=5, min_samples_leaf=1, min_samples_split=20, score=0.6839841992099605, total=   6.8s\n",
      "[CV] criterion=entropy, max_depth=5, min_samples_leaf=1, min_samples_split=20 \n",
      "[CV]  criterion=entropy, max_depth=5, min_samples_leaf=1, min_samples_split=20, score=0.6733009951492724, total=   7.0s\n",
      "[CV] criterion=entropy, max_depth=5, min_samples_leaf=5, min_samples_split=2 \n",
      "[CV]  criterion=entropy, max_depth=5, min_samples_leaf=5, min_samples_split=2, score=0.6906618676264747, total=   6.7s\n",
      "[CV] criterion=entropy, max_depth=5, min_samples_leaf=5, min_samples_split=2 \n",
      "[CV]  criterion=entropy, max_depth=5, min_samples_leaf=5, min_samples_split=2, score=0.6839841992099605, total=   6.9s\n",
      "[CV] criterion=entropy, max_depth=5, min_samples_leaf=5, min_samples_split=2 \n",
      "[CV]  criterion=entropy, max_depth=5, min_samples_leaf=5, min_samples_split=2, score=0.6733009951492724, total=   7.0s\n",
      "[CV] criterion=entropy, max_depth=5, min_samples_leaf=5, min_samples_split=10 \n",
      "[CV]  criterion=entropy, max_depth=5, min_samples_leaf=5, min_samples_split=10, score=0.6906618676264747, total=   6.9s\n",
      "[CV] criterion=entropy, max_depth=5, min_samples_leaf=5, min_samples_split=10 \n",
      "[CV]  criterion=entropy, max_depth=5, min_samples_leaf=5, min_samples_split=10, score=0.6839841992099605, total=   7.0s\n",
      "[CV] criterion=entropy, max_depth=5, min_samples_leaf=5, min_samples_split=10 \n",
      "[CV]  criterion=entropy, max_depth=5, min_samples_leaf=5, min_samples_split=10, score=0.6733009951492724, total=   7.0s\n",
      "[CV] criterion=entropy, max_depth=5, min_samples_leaf=5, min_samples_split=20 \n",
      "[CV]  criterion=entropy, max_depth=5, min_samples_leaf=5, min_samples_split=20, score=0.6906618676264747, total=   6.7s\n",
      "[CV] criterion=entropy, max_depth=5, min_samples_leaf=5, min_samples_split=20 \n",
      "[CV]  criterion=entropy, max_depth=5, min_samples_leaf=5, min_samples_split=20, score=0.6839841992099605, total=   6.7s\n",
      "[CV] criterion=entropy, max_depth=5, min_samples_leaf=5, min_samples_split=20 \n",
      "[CV]  criterion=entropy, max_depth=5, min_samples_leaf=5, min_samples_split=20, score=0.6733009951492724, total=   7.0s\n",
      "[CV] criterion=entropy, max_depth=5, min_samples_leaf=10, min_samples_split=2 \n",
      "[CV]  criterion=entropy, max_depth=5, min_samples_leaf=10, min_samples_split=2, score=0.6906618676264747, total=   7.1s\n",
      "[CV] criterion=entropy, max_depth=5, min_samples_leaf=10, min_samples_split=2 \n",
      "[CV]  criterion=entropy, max_depth=5, min_samples_leaf=10, min_samples_split=2, score=0.6839841992099605, total=   6.7s\n",
      "[CV] criterion=entropy, max_depth=5, min_samples_leaf=10, min_samples_split=2 \n",
      "[CV]  criterion=entropy, max_depth=5, min_samples_leaf=10, min_samples_split=2, score=0.6733009951492724, total=   7.1s\n",
      "[CV] criterion=entropy, max_depth=5, min_samples_leaf=10, min_samples_split=10 \n",
      "[CV]  criterion=entropy, max_depth=5, min_samples_leaf=10, min_samples_split=10, score=0.6906618676264747, total=   6.9s\n",
      "[CV] criterion=entropy, max_depth=5, min_samples_leaf=10, min_samples_split=10 \n",
      "[CV]  criterion=entropy, max_depth=5, min_samples_leaf=10, min_samples_split=10, score=0.6839841992099605, total=   6.5s\n",
      "[CV] criterion=entropy, max_depth=5, min_samples_leaf=10, min_samples_split=10 \n",
      "[CV]  criterion=entropy, max_depth=5, min_samples_leaf=10, min_samples_split=10, score=0.6733009951492724, total=   6.9s\n",
      "[CV] criterion=entropy, max_depth=5, min_samples_leaf=10, min_samples_split=20 \n",
      "[CV]  criterion=entropy, max_depth=5, min_samples_leaf=10, min_samples_split=20, score=0.6906618676264747, total=   6.8s\n",
      "[CV] criterion=entropy, max_depth=5, min_samples_leaf=10, min_samples_split=20 \n",
      "[CV]  criterion=entropy, max_depth=5, min_samples_leaf=10, min_samples_split=20, score=0.6839841992099605, total=   6.6s\n",
      "[CV] criterion=entropy, max_depth=5, min_samples_leaf=10, min_samples_split=20 \n",
      "[CV]  criterion=entropy, max_depth=5, min_samples_leaf=10, min_samples_split=20, score=0.6733009951492724, total=   6.8s\n",
      "[CV] criterion=entropy, max_depth=10, min_samples_leaf=1, min_samples_split=2 \n",
      "[CV]  criterion=entropy, max_depth=10, min_samples_leaf=1, min_samples_split=2, score=0.8630773845230953, total=  14.1s\n",
      "[CV] criterion=entropy, max_depth=10, min_samples_leaf=1, min_samples_split=2 \n",
      "[CV]  criterion=entropy, max_depth=10, min_samples_leaf=1, min_samples_split=2, score=0.8616930846542327, total=  14.4s\n",
      "[CV] criterion=entropy, max_depth=10, min_samples_leaf=1, min_samples_split=2 \n",
      "[CV]  criterion=entropy, max_depth=10, min_samples_leaf=1, min_samples_split=2, score=0.8582287343101466, total=  14.1s\n",
      "[CV] criterion=entropy, max_depth=10, min_samples_leaf=1, min_samples_split=10 \n",
      "[CV]  criterion=entropy, max_depth=10, min_samples_leaf=1, min_samples_split=10, score=0.8642271545690862, total=  14.1s\n",
      "[CV] criterion=entropy, max_depth=10, min_samples_leaf=1, min_samples_split=10 \n",
      "[CV]  criterion=entropy, max_depth=10, min_samples_leaf=1, min_samples_split=10, score=0.8601430071503575, total=  14.4s\n",
      "[CV] criterion=entropy, max_depth=10, min_samples_leaf=1, min_samples_split=10 \n",
      "[CV]  criterion=entropy, max_depth=10, min_samples_leaf=1, min_samples_split=10, score=0.857178576786518, total=  14.2s\n",
      "[CV] criterion=entropy, max_depth=10, min_samples_leaf=1, min_samples_split=20 \n",
      "[CV]  criterion=entropy, max_depth=10, min_samples_leaf=1, min_samples_split=20, score=0.862627474505099, total=  14.6s\n",
      "[CV] criterion=entropy, max_depth=10, min_samples_leaf=1, min_samples_split=20 \n",
      "[CV]  criterion=entropy, max_depth=10, min_samples_leaf=1, min_samples_split=20, score=0.8589429471473574, total=  14.3s\n",
      "[CV] criterion=entropy, max_depth=10, min_samples_leaf=1, min_samples_split=20 \n"
     ]
    },
    {
     "name": "stdout",
     "output_type": "stream",
     "text": [
      "[CV]  criterion=entropy, max_depth=10, min_samples_leaf=1, min_samples_split=20, score=0.8569785467820173, total=  13.6s\n",
      "[CV] criterion=entropy, max_depth=10, min_samples_leaf=5, min_samples_split=2 \n",
      "[CV]  criterion=entropy, max_depth=10, min_samples_leaf=5, min_samples_split=2, score=0.8647770445910817, total=  14.9s\n",
      "[CV] criterion=entropy, max_depth=10, min_samples_leaf=5, min_samples_split=2 \n",
      "[CV]  criterion=entropy, max_depth=10, min_samples_leaf=5, min_samples_split=2, score=0.8612430621531076, total=  14.8s\n",
      "[CV] criterion=entropy, max_depth=10, min_samples_leaf=5, min_samples_split=2 \n",
      "[CV]  criterion=entropy, max_depth=10, min_samples_leaf=5, min_samples_split=2, score=0.857178576786518, total=  14.6s\n",
      "[CV] criterion=entropy, max_depth=10, min_samples_leaf=5, min_samples_split=10 \n",
      "[CV]  criterion=entropy, max_depth=10, min_samples_leaf=5, min_samples_split=10, score=0.8644271145770845, total=  14.1s\n",
      "[CV] criterion=entropy, max_depth=10, min_samples_leaf=5, min_samples_split=10 \n",
      "[CV]  criterion=entropy, max_depth=10, min_samples_leaf=5, min_samples_split=10, score=0.8612430621531076, total=  14.8s\n",
      "[CV] criterion=entropy, max_depth=10, min_samples_leaf=5, min_samples_split=10 \n",
      "[CV]  criterion=entropy, max_depth=10, min_samples_leaf=5, min_samples_split=10, score=0.857178576786518, total=  14.9s\n",
      "[CV] criterion=entropy, max_depth=10, min_samples_leaf=5, min_samples_split=20 \n",
      "[CV]  criterion=entropy, max_depth=10, min_samples_leaf=5, min_samples_split=20, score=0.862627474505099, total=  14.4s\n",
      "[CV] criterion=entropy, max_depth=10, min_samples_leaf=5, min_samples_split=20 \n",
      "[CV]  criterion=entropy, max_depth=10, min_samples_leaf=5, min_samples_split=20, score=0.8597429871493575, total=  14.7s\n",
      "[CV] criterion=entropy, max_depth=10, min_samples_leaf=5, min_samples_split=20 \n",
      "[CV]  criterion=entropy, max_depth=10, min_samples_leaf=5, min_samples_split=20, score=0.8569785467820173, total=  14.8s\n",
      "[CV] criterion=entropy, max_depth=10, min_samples_leaf=10, min_samples_split=2 \n",
      "[CV]  criterion=entropy, max_depth=10, min_samples_leaf=10, min_samples_split=2, score=0.858878224355129, total=  14.2s\n",
      "[CV] criterion=entropy, max_depth=10, min_samples_leaf=10, min_samples_split=2 \n",
      "[CV]  criterion=entropy, max_depth=10, min_samples_leaf=10, min_samples_split=2, score=0.8598429921496075, total=  14.6s\n",
      "[CV] criterion=entropy, max_depth=10, min_samples_leaf=10, min_samples_split=2 \n",
      "[CV]  criterion=entropy, max_depth=10, min_samples_leaf=10, min_samples_split=2, score=0.8532279841976297, total=  14.0s\n",
      "[CV] criterion=entropy, max_depth=10, min_samples_leaf=10, min_samples_split=10 \n",
      "[CV]  criterion=entropy, max_depth=10, min_samples_leaf=10, min_samples_split=10, score=0.8594781043791242, total=  14.6s\n",
      "[CV] criterion=entropy, max_depth=10, min_samples_leaf=10, min_samples_split=10 \n",
      "[CV]  criterion=entropy, max_depth=10, min_samples_leaf=10, min_samples_split=10, score=0.8592429621481074, total=  14.2s\n",
      "[CV] criterion=entropy, max_depth=10, min_samples_leaf=10, min_samples_split=10 \n",
      "[CV]  criterion=entropy, max_depth=10, min_samples_leaf=10, min_samples_split=10, score=0.853928089213382, total=  14.4s\n",
      "[CV] criterion=entropy, max_depth=10, min_samples_leaf=10, min_samples_split=20 \n",
      "[CV]  criterion=entropy, max_depth=10, min_samples_leaf=10, min_samples_split=20, score=0.8589782043591282, total=  14.4s\n",
      "[CV] criterion=entropy, max_depth=10, min_samples_leaf=10, min_samples_split=20 \n",
      "[CV]  criterion=entropy, max_depth=10, min_samples_leaf=10, min_samples_split=20, score=0.8595929796489824, total=  14.3s\n",
      "[CV] criterion=entropy, max_depth=10, min_samples_leaf=10, min_samples_split=20 \n",
      "[CV]  criterion=entropy, max_depth=10, min_samples_leaf=10, min_samples_split=20, score=0.8534780217032555, total=  14.5s\n",
      "[CV] criterion=entropy, max_depth=15, min_samples_leaf=1, min_samples_split=2 \n",
      "[CV]  criterion=entropy, max_depth=15, min_samples_leaf=1, min_samples_split=2, score=0.8737252549490102, total=  17.7s\n",
      "[CV] criterion=entropy, max_depth=15, min_samples_leaf=1, min_samples_split=2 \n",
      "[CV]  criterion=entropy, max_depth=15, min_samples_leaf=1, min_samples_split=2, score=0.8647932396619831, total=  17.9s\n",
      "[CV] criterion=entropy, max_depth=15, min_samples_leaf=1, min_samples_split=2 \n",
      "[CV]  criterion=entropy, max_depth=15, min_samples_leaf=1, min_samples_split=2, score=0.8682802420363055, total=  17.4s\n",
      "[CV] criterion=entropy, max_depth=15, min_samples_leaf=1, min_samples_split=10 \n",
      "[CV]  criterion=entropy, max_depth=15, min_samples_leaf=1, min_samples_split=10, score=0.8733253349330133, total=  17.3s\n",
      "[CV] criterion=entropy, max_depth=15, min_samples_leaf=1, min_samples_split=10 \n",
      "[CV]  criterion=entropy, max_depth=15, min_samples_leaf=1, min_samples_split=10, score=0.863843192159608, total=  17.6s\n",
      "[CV] criterion=entropy, max_depth=15, min_samples_leaf=1, min_samples_split=10 \n",
      "[CV]  criterion=entropy, max_depth=15, min_samples_leaf=1, min_samples_split=10, score=0.8646296944541682, total=  17.3s\n",
      "[CV] criterion=entropy, max_depth=15, min_samples_leaf=1, min_samples_split=20 \n",
      "[CV]  criterion=entropy, max_depth=15, min_samples_leaf=1, min_samples_split=20, score=0.8711757648470306, total=  17.4s\n",
      "[CV] criterion=entropy, max_depth=15, min_samples_leaf=1, min_samples_split=20 \n",
      "[CV]  criterion=entropy, max_depth=15, min_samples_leaf=1, min_samples_split=20, score=0.8622431121556078, total=  17.3s\n",
      "[CV] criterion=entropy, max_depth=15, min_samples_leaf=1, min_samples_split=20 \n",
      "[CV]  criterion=entropy, max_depth=15, min_samples_leaf=1, min_samples_split=20, score=0.8599289893484022, total=  17.2s\n",
      "[CV] criterion=entropy, max_depth=15, min_samples_leaf=5, min_samples_split=2 \n",
      "[CV]  criterion=entropy, max_depth=15, min_samples_leaf=5, min_samples_split=2, score=0.8749250149970006, total=  16.9s\n",
      "[CV] criterion=entropy, max_depth=15, min_samples_leaf=5, min_samples_split=2 \n",
      "[CV]  criterion=entropy, max_depth=15, min_samples_leaf=5, min_samples_split=2, score=0.8657932896644832, total=  17.1s\n",
      "[CV] criterion=entropy, max_depth=15, min_samples_leaf=5, min_samples_split=2 \n",
      "[CV]  criterion=entropy, max_depth=15, min_samples_leaf=5, min_samples_split=2, score=0.8677801670250538, total=  16.6s\n",
      "[CV] criterion=entropy, max_depth=15, min_samples_leaf=5, min_samples_split=10 \n",
      "[CV]  criterion=entropy, max_depth=15, min_samples_leaf=5, min_samples_split=10, score=0.8750249950009998, total=  16.8s\n",
      "[CV] criterion=entropy, max_depth=15, min_samples_leaf=5, min_samples_split=10 \n",
      "[CV]  criterion=entropy, max_depth=15, min_samples_leaf=5, min_samples_split=10, score=0.8656432821641082, total=  17.2s\n",
      "[CV] criterion=entropy, max_depth=15, min_samples_leaf=5, min_samples_split=10 \n",
      "[CV]  criterion=entropy, max_depth=15, min_samples_leaf=5, min_samples_split=10, score=0.8663299494924238, total=  16.7s\n",
      "[CV] criterion=entropy, max_depth=15, min_samples_leaf=5, min_samples_split=20 \n",
      "[CV]  criterion=entropy, max_depth=15, min_samples_leaf=5, min_samples_split=20, score=0.8725754849030194, total=  16.8s\n",
      "[CV] criterion=entropy, max_depth=15, min_samples_leaf=5, min_samples_split=20 \n",
      "[CV]  criterion=entropy, max_depth=15, min_samples_leaf=5, min_samples_split=20, score=0.8627931396569829, total=  17.0s\n",
      "[CV] criterion=entropy, max_depth=15, min_samples_leaf=5, min_samples_split=20 \n",
      "[CV]  criterion=entropy, max_depth=15, min_samples_leaf=5, min_samples_split=20, score=0.8619792968945342, total=  16.5s\n",
      "[CV] criterion=entropy, max_depth=15, min_samples_leaf=10, min_samples_split=2 \n",
      "[CV]  criterion=entropy, max_depth=15, min_samples_leaf=10, min_samples_split=2, score=0.8697760447910418, total=  16.5s\n",
      "[CV] criterion=entropy, max_depth=15, min_samples_leaf=10, min_samples_split=2 \n",
      "[CV]  criterion=entropy, max_depth=15, min_samples_leaf=10, min_samples_split=2, score=0.8622931146557328, total=  16.8s\n",
      "[CV] criterion=entropy, max_depth=15, min_samples_leaf=10, min_samples_split=2 \n",
      "[CV]  criterion=entropy, max_depth=15, min_samples_leaf=10, min_samples_split=2, score=0.8599789968495274, total=  16.0s\n",
      "[CV] criterion=entropy, max_depth=15, min_samples_leaf=10, min_samples_split=10 \n",
      "[CV]  criterion=entropy, max_depth=15, min_samples_leaf=10, min_samples_split=10, score=0.8685262947410518, total=  16.6s\n",
      "[CV] criterion=entropy, max_depth=15, min_samples_leaf=10, min_samples_split=10 \n"
     ]
    },
    {
     "name": "stdout",
     "output_type": "stream",
     "text": [
      "[CV]  criterion=entropy, max_depth=15, min_samples_leaf=10, min_samples_split=10, score=0.8622431121556078, total=  11.9s\n",
      "[CV] criterion=entropy, max_depth=15, min_samples_leaf=10, min_samples_split=10 \n",
      "[CV]  criterion=entropy, max_depth=15, min_samples_leaf=10, min_samples_split=10, score=0.8604790718607791, total=  15.3s\n",
      "[CV] criterion=entropy, max_depth=15, min_samples_leaf=10, min_samples_split=20 \n",
      "[CV]  criterion=entropy, max_depth=15, min_samples_leaf=10, min_samples_split=20, score=0.8692761447710458, total=  16.6s\n",
      "[CV] criterion=entropy, max_depth=15, min_samples_leaf=10, min_samples_split=20 \n",
      "[CV]  criterion=entropy, max_depth=15, min_samples_leaf=10, min_samples_split=20, score=0.8624931246562328, total=  16.5s\n",
      "[CV] criterion=entropy, max_depth=15, min_samples_leaf=10, min_samples_split=20 \n",
      "[CV]  criterion=entropy, max_depth=15, min_samples_leaf=10, min_samples_split=20, score=0.8596289443416513, total=  16.1s\n"
     ]
    },
    {
     "name": "stderr",
     "output_type": "stream",
     "text": [
      "[Parallel(n_jobs=1)]: Done 216 out of 216 | elapsed: 45.5min finished\n"
     ]
    },
    {
     "data": {
      "text/plain": [
       "GridSearchCV(cv=3, error_score='raise',\n",
       "       estimator=DecisionTreeClassifier(class_weight=None, criterion='gini', max_depth=None,\n",
       "            max_features=None, max_leaf_nodes=None,\n",
       "            min_impurity_decrease=0.0, min_impurity_split=None,\n",
       "            min_samples_leaf=1, min_samples_split=2,\n",
       "            min_weight_fraction_leaf=0.0, presort=False, random_state=None,\n",
       "            splitter='best'),\n",
       "       fit_params=None, iid=True, n_jobs=1,\n",
       "       param_grid=[{'criterion': ['gini', 'entropy'], 'min_samples_split': [2, 10, 20], 'max_depth': [None, 5, 10, 15], 'min_samples_leaf': [1, 5, 10]}],\n",
       "       pre_dispatch='2*n_jobs', refit=True, return_train_score='warn',\n",
       "       scoring='accuracy', verbose=3)"
      ]
     },
     "execution_count": 28,
     "metadata": {},
     "output_type": "execute_result"
    }
   ],
   "source": [
    "# Aplicando GridSearchCV\n",
    "from sklearn.model_selection import GridSearchCV\n",
    "\n",
    "# Definindo parâmetros para Decision Trees\n",
    "param_grid_tree = [\n",
    "    {\n",
    "     'criterion': ['gini', 'entropy'],\n",
    "     'min_samples_split': [2, 10, 20],\n",
    "     'max_depth': [None, 5, 10, 15],\n",
    "     'min_samples_leaf': [1, 5, 10]\n",
    "     #'max_leaf_nodes': [None, 5, 10, 20]\n",
    "    }\n",
    "]\n",
    "\n",
    "# Criando classificador\n",
    "tree_clf = DecisionTreeClassifier()\n",
    "\n",
    "# Treinando e procurando a melhor combinação\n",
    "grid_search_2 = GridSearchCV(tree_clf, param_grid_tree, cv=3, \n",
    "                           scoring='accuracy', verbose=3)\n",
    "\n",
    "grid_search_2.fit(X_train_scaled, y_train)"
   ]
  },
  {
   "cell_type": "markdown",
   "metadata": {
    "hidden": true
   },
   "source": [
    "A procura pelos melhores parâmetros através do ```GridSearchCV``` demorou aproximadamente 50 minutos (216 fits), o que torna este procedimento extremamente custoso com o processamento disponível. Para os demais algoritmos, será discutido se este procedimento será mantido."
   ]
  },
  {
   "cell_type": "markdown",
   "metadata": {
    "hidden": true
   },
   "source": [
    "### Avaliando Resultados"
   ]
  },
  {
   "cell_type": "code",
   "execution_count": 131,
   "metadata": {
    "ExecuteTime": {
     "end_time": "2019-01-03T20:50:17.749425Z",
     "start_time": "2019-01-03T20:50:17.743441Z"
    },
    "hidden": true
   },
   "outputs": [
    {
     "data": {
      "text/plain": [
       "{'criterion': 'entropy',\n",
       " 'max_depth': 15,\n",
       " 'min_samples_leaf': 1,\n",
       " 'min_samples_split': 2}"
      ]
     },
     "execution_count": 131,
     "metadata": {},
     "output_type": "execute_result"
    }
   ],
   "source": [
    "# Analisando melhor modelo\n",
    "grid_search_2.best_params_"
   ]
  },
  {
   "cell_type": "code",
   "execution_count": 32,
   "metadata": {
    "ExecuteTime": {
     "end_time": "2019-01-03T23:25:10.594115Z",
     "start_time": "2019-01-03T23:25:10.326869Z"
    },
    "code_folding": [
     0
    ],
    "hidden": true
   },
   "outputs": [
    {
     "name": "stdout",
     "output_type": "stream",
     "text": [
      "Acurácia final nos dados de treino: 95.7083%\n"
     ]
    }
   ],
   "source": [
    "# Analisando acurácia obtida com os dados de treino\n",
    "final_model = grid_search_2.best_estimator_\n",
    "\n",
    "final_train_pred = final_model.predict(X_train_scaled)\n",
    "final_acc_train = accuracy_score(y_train, final_train_pred)\n",
    "print(f'Acurácia final nos dados de treino: {final_acc_train*100:.4f}%')"
   ]
  },
  {
   "cell_type": "code",
   "execution_count": 30,
   "metadata": {
    "ExecuteTime": {
     "end_time": "2019-01-03T23:22:37.042567Z",
     "start_time": "2019-01-03T23:22:37.038414Z"
    },
    "hidden": true
   },
   "outputs": [],
   "source": [
    "# Salvando dados\n",
    "dict_accs['acc_train_grid'] = round(final_acc_train, 4)"
   ]
  },
  {
   "cell_type": "code",
   "execution_count": 33,
   "metadata": {
    "ExecuteTime": {
     "end_time": "2019-01-03T23:25:17.458255Z",
     "start_time": "2019-01-03T23:25:17.102532Z"
    },
    "hidden": true
   },
   "outputs": [
    {
     "name": "stderr",
     "output_type": "stream",
     "text": [
      "C:\\Users\\thiagoPanini\\Anaconda3\\lib\\site-packages\\sklearn\\utils\\validation.py:475: DataConversionWarning: Data with input dtype uint8 was converted to float64 by StandardScaler.\n",
      "  warnings.warn(msg, DataConversionWarning)\n"
     ]
    },
    {
     "name": "stdout",
     "output_type": "stream",
     "text": [
      "Acurácia obtida nos dados de teste: 83.5600%\n"
     ]
    }
   ],
   "source": [
    "# Analisando acurácia obtida com os dados de teste\n",
    "X_test_scaled = scaler.fit_transform(X_test)\n",
    "final_test_pred = final_model.predict(X_test_scaled)\n",
    "final_acc_test = accuracy_score(y_test, final_test_pred)\n",
    "print(f'Acurácia obtida nos dados de teste: {final_acc_test*100:.4f}%')"
   ]
  },
  {
   "cell_type": "code",
   "execution_count": 45,
   "metadata": {
    "ExecuteTime": {
     "end_time": "2019-01-04T00:53:50.139361Z",
     "start_time": "2019-01-04T00:53:50.130385Z"
    },
    "hidden": true
   },
   "outputs": [
    {
     "name": "stdout",
     "output_type": "stream",
     "text": [
      "Acurácia inicial: 86.1700%\n",
      "Acurácia com padronização: 86.2866%\n",
      "Acurácia com Grid Search CV(1): 86.8683%\n",
      "Acurácia com Grid Search CV(2): 86.9500%\n",
      "\n",
      "Ganho total até o momento: 0.7800%\n"
     ]
    }
   ],
   "source": [
    "# Comunicando melhora\n",
    "print(f'Acurácia inicial: {tree_scores.mean()*100:.4f}%')\n",
    "print(f'Acurácia com padronização: {tree_scores_scaled.mean()*100:.4f}%')\n",
    "print(f'Acurácia com Grid Search CV(1): {grid_search.best_score_*100:.4f}%')\n",
    "print(f'Acurácia com Grid Search CV(2): {grid_search_2.best_score_*100:.4f}%')\n",
    "\n",
    "print(f'\\nGanho total até o momento: {(grid_search_2.best_score_ - tree_scores.mean())*100:.4f}%')"
   ]
  },
  {
   "cell_type": "markdown",
   "metadata": {
    "hidden": true
   },
   "source": [
    "### Avaliando em Dados de Teste"
   ]
  },
  {
   "cell_type": "code",
   "execution_count": 47,
   "metadata": {
    "ExecuteTime": {
     "end_time": "2019-01-04T00:55:50.073331Z",
     "start_time": "2019-01-04T00:55:12.418998Z"
    },
    "hidden": true
   },
   "outputs": [
    {
     "data": {
      "text/plain": [
       "0.878"
      ]
     },
     "execution_count": 47,
     "metadata": {},
     "output_type": "execute_result"
    }
   ],
   "source": [
    "# Buscando resultados com dados de teste\n",
    "\n",
    "# 1 - Acurácia normal\n",
    "tree_clf = DecisionTreeClassifier()\n",
    "tree_clf.fit(X_train, y_train)\n",
    "tree_pred_test = tree_clf.predict(X_test)\n",
    "tree_accuracy_test = accuracy_score(y_test, tree_pred_test)\n",
    "tree_accuracy_test"
   ]
  },
  {
   "cell_type": "code",
   "execution_count": 50,
   "metadata": {
    "ExecuteTime": {
     "end_time": "2019-01-04T00:57:37.490120Z",
     "start_time": "2019-01-04T00:57:37.486127Z"
    },
    "hidden": true
   },
   "outputs": [],
   "source": [
    "# Salvando resultados\n",
    "dict_accs['acc_test'] = round(tree_accuracy_test, 4)"
   ]
  },
  {
   "cell_type": "code",
   "execution_count": 52,
   "metadata": {
    "ExecuteTime": {
     "end_time": "2019-01-04T00:58:26.010443Z",
     "start_time": "2019-01-04T00:58:19.638924Z"
    },
    "hidden": true
   },
   "outputs": [
    {
     "name": "stdout",
     "output_type": "stream",
     "text": [
      "Scores: [0.71929299 0.78337834 0.79243016]\n",
      "Média: 0.7650\n",
      "Desvio Padrão: 0.0326\n"
     ]
    }
   ],
   "source": [
    "# 2 - Acurácia com cross validation\n",
    "tree_test_scores = cross_val_score(tree_clf, X_test, y_test, cv=3, scoring='accuracy')\n",
    "display_scores(tree_test_scores)"
   ]
  },
  {
   "cell_type": "code",
   "execution_count": 53,
   "metadata": {
    "ExecuteTime": {
     "end_time": "2019-01-04T00:58:47.015618Z",
     "start_time": "2019-01-04T00:58:47.011085Z"
    },
    "hidden": true
   },
   "outputs": [],
   "source": [
    "# Salvando resultados\n",
    "dict_accs['acc_test_cv'] = round(tree_test_scores.mean(), 4)"
   ]
  },
  {
   "cell_type": "code",
   "execution_count": 54,
   "metadata": {
    "ExecuteTime": {
     "end_time": "2019-01-04T01:02:26.319401Z",
     "start_time": "2019-01-04T01:01:40.536810Z"
    },
    "hidden": true
   },
   "outputs": [
    {
     "name": "stderr",
     "output_type": "stream",
     "text": [
      "C:\\Users\\thiagoPanini\\Anaconda3\\lib\\site-packages\\sklearn\\utils\\validation.py:475: DataConversionWarning: Data with input dtype uint8 was converted to float64 by StandardScaler.\n",
      "  warnings.warn(msg, DataConversionWarning)\n"
     ]
    },
    {
     "name": "stdout",
     "output_type": "stream",
     "text": [
      "Scores: [0.71989215 0.78637864 0.78732352]\n",
      "Média: 0.7645\n",
      "Desvio Padrão: 0.0316\n"
     ]
    }
   ],
   "source": [
    "# 3 - Utilizando modelo com dados padronizados\n",
    "tree_clf = DecisionTreeClassifier()\n",
    "X_train_scaled = scaler.fit_transform(X_train)\n",
    "X_test_scaled = scaler.fit_transform(X_test)\n",
    "\n",
    "tree_clf.fit(X_train_scaled, y_train)\n",
    "tree_test_scaled_scores = cross_val_score(tree_clf, X_test_scaled, y_test,\n",
    "                                         cv=3, scoring='accuracy')\n",
    "display_scores(tree_test_scaled_scores)"
   ]
  },
  {
   "cell_type": "code",
   "execution_count": 55,
   "metadata": {
    "ExecuteTime": {
     "end_time": "2019-01-04T01:02:59.531035Z",
     "start_time": "2019-01-04T01:02:59.527064Z"
    },
    "hidden": true
   },
   "outputs": [],
   "source": [
    "# Salvando resultados\n",
    "dict_accs['acc_test_scaled'] = round(tree_test_scaled_scores.mean(), 4)"
   ]
  },
  {
   "cell_type": "markdown",
   "metadata": {
    "hidden": true
   },
   "source": [
    "Neste ponto da análise, serão avaliados os resultados obtidos com o ```GridSearchCV```. Tanto o primeiro, quanto o segundo grid_search aplicados apresentaram taxas extremamente próximas"
   ]
  },
  {
   "cell_type": "code",
   "execution_count": 56,
   "metadata": {
    "ExecuteTime": {
     "end_time": "2019-01-04T01:03:39.395740Z",
     "start_time": "2019-01-04T01:03:39.388767Z"
    },
    "hidden": true
   },
   "outputs": [
    {
     "data": {
      "text/plain": [
       "{'criterion': 'entropy', 'max_depth': 15}"
      ]
     },
     "execution_count": 56,
     "metadata": {},
     "output_type": "execute_result"
    }
   ],
   "source": [
    "# Primeiro grid_search\n",
    "grid_search.best_params_"
   ]
  },
  {
   "cell_type": "code",
   "execution_count": 57,
   "metadata": {
    "ExecuteTime": {
     "end_time": "2019-01-04T01:03:41.357223Z",
     "start_time": "2019-01-04T01:03:41.351196Z"
    },
    "hidden": true
   },
   "outputs": [
    {
     "data": {
      "text/plain": [
       "{'criterion': 'entropy',\n",
       " 'max_depth': 15,\n",
       " 'min_samples_leaf': 5,\n",
       " 'min_samples_split': 2}"
      ]
     },
     "execution_count": 57,
     "metadata": {},
     "output_type": "execute_result"
    }
   ],
   "source": [
    "# Segundo grid_search\n",
    "grid_search_2.best_params_"
   ]
  },
  {
   "cell_type": "markdown",
   "metadata": {
    "hidden": true
   },
   "source": [
    "Vamos comparar a capacidade de generalização de cada um deles."
   ]
  },
  {
   "cell_type": "code",
   "execution_count": 58,
   "metadata": {
    "ExecuteTime": {
     "end_time": "2019-01-04T01:03:57.053789Z",
     "start_time": "2019-01-04T01:03:56.665085Z"
    },
    "hidden": true
   },
   "outputs": [
    {
     "name": "stderr",
     "output_type": "stream",
     "text": [
      "C:\\Users\\thiagoPanini\\Anaconda3\\lib\\site-packages\\sklearn\\utils\\validation.py:475: DataConversionWarning: Data with input dtype uint8 was converted to float64 by StandardScaler.\n",
      "  warnings.warn(msg, DataConversionWarning)\n"
     ]
    },
    {
     "name": "stdout",
     "output_type": "stream",
     "text": [
      "Acurácia nos dados de teste (grid search 1): 83.9900%\n",
      "Acurácia nos dados de teste (grid search 2): 83.5600%\n"
     ]
    }
   ],
   "source": [
    "# Primeiro modelo\n",
    "first_grid = grid_search.best_estimator_\n",
    "scaler = StandardScaler()\n",
    "\n",
    "X_test_scaled = scaler.fit_transform(X_test)\n",
    "first_pred = first_grid.predict(X_test_scaled)\n",
    "first_acc = accuracy_score(y_test, first_pred)\n",
    "print(f'Acurácia nos dados de teste (grid search 1): {first_acc*100:.4f}%')\n",
    "\n",
    "# Segundo modelo\n",
    "print(f'Acurácia nos dados de teste (grid search 2): {final_acc_test*100:.4f}%')"
   ]
  },
  {
   "cell_type": "code",
   "execution_count": 60,
   "metadata": {
    "ExecuteTime": {
     "end_time": "2019-01-04T01:04:54.333812Z",
     "start_time": "2019-01-04T01:04:54.323833Z"
    },
    "hidden": true
   },
   "outputs": [],
   "source": [
    "# Salvando resultados\n",
    "dict_accs['acc_test_grid'] = round(final_acc_test, 4)"
   ]
  },
  {
   "cell_type": "code",
   "execution_count": 65,
   "metadata": {
    "ExecuteTime": {
     "end_time": "2019-01-04T01:07:30.825735Z",
     "start_time": "2019-01-04T01:07:30.797783Z"
    },
    "hidden": true
   },
   "outputs": [
    {
     "data": {
      "text/html": [
       "<div>\n",
       "<style scoped>\n",
       "    .dataframe tbody tr th:only-of-type {\n",
       "        vertical-align: middle;\n",
       "    }\n",
       "\n",
       "    .dataframe tbody tr th {\n",
       "        vertical-align: top;\n",
       "    }\n",
       "\n",
       "    .dataframe thead th {\n",
       "        text-align: right;\n",
       "    }\n",
       "</style>\n",
       "<table border=\"1\" class=\"dataframe\">\n",
       "  <thead>\n",
       "    <tr style=\"text-align: right;\">\n",
       "      <th></th>\n",
       "      <th>acc_train</th>\n",
       "      <th>acc_train_cv</th>\n",
       "      <th>acc_train_scaled</th>\n",
       "      <th>acc_train_grid</th>\n",
       "      <th>acc_test</th>\n",
       "      <th>acc_test_cv</th>\n",
       "      <th>acc_test_scaled</th>\n",
       "      <th>acc_test_grid</th>\n",
       "    </tr>\n",
       "  </thead>\n",
       "  <tbody>\n",
       "    <tr>\n",
       "      <th>decision_trees</th>\n",
       "      <td>1.0</td>\n",
       "      <td>0.8617</td>\n",
       "      <td>0.8629</td>\n",
       "      <td>0.9571</td>\n",
       "      <td>0.878</td>\n",
       "      <td>0.765</td>\n",
       "      <td>0.7645</td>\n",
       "      <td>0.8356</td>\n",
       "    </tr>\n",
       "  </tbody>\n",
       "</table>\n",
       "</div>"
      ],
      "text/plain": [
       "                acc_train  acc_train_cv  acc_train_scaled  acc_train_grid  \\\n",
       "decision_trees        1.0        0.8617            0.8629          0.9571   \n",
       "\n",
       "                acc_test  acc_test_cv  acc_test_scaled  acc_test_grid  \n",
       "decision_trees     0.878        0.765           0.7645         0.8356  "
      ]
     },
     "execution_count": 65,
     "metadata": {},
     "output_type": "execute_result"
    }
   ],
   "source": [
    "# Criando registro para classificador Decision Trees\n",
    "dataset_accs = pd.DataFrame({})\n",
    "for col in dataset_columns:\n",
    "    dataset_accs[col] = []\n",
    "\n",
    "dataset_accs = dataset_accs.append(dict_accs, ignore_index=True)\n",
    "dataset_accs.index = ['decision_trees']\n",
    "dataset_accs"
   ]
  },
  {
   "cell_type": "code",
   "execution_count": 66,
   "metadata": {
    "ExecuteTime": {
     "end_time": "2019-01-04T01:08:20.245005Z",
     "start_time": "2019-01-04T01:08:20.237001Z"
    },
    "hidden": true
   },
   "outputs": [],
   "source": [
    "# Salvando em arquivo csv\n",
    "dataset_accs.to_csv('dataset_accs.csv', index=False)"
   ]
  },
  {
   "cell_type": "markdown",
   "metadata": {
    "hidden": true
   },
   "source": [
    "Conclusões:\n",
    "    - A padronização nos dados influenciou na performance do modelo nos dados de TREINO\n",
    "    - Com relação aos dados de TESTE, o primeiro grid_search treinado apresentou OVERFITTING\n",
    "    - A vantagem do segundo grid_search se deu na melhor acurácia obtida com os dados de TESTE"
   ]
  },
  {
   "cell_type": "markdown",
   "metadata": {
    "hidden": true
   },
   "source": [
    "Fontes:\n",
    "\n",
    "https://medium.com/@mohtedibf/indepth-parameter-tuning-for-decision-tree-6753118a03c3\n",
    "\n",
    "http://chrisstrelioff.ws/sandbox/2015/06/25/decision_trees_in_python_again_cross_validation.html\n",
    "\n",
    "https://www.jeremyjordan.me/hyperparameter-tuning/"
   ]
  },
  {
   "cell_type": "markdown",
   "metadata": {},
   "source": [
    "## SGD Classifier"
   ]
  },
  {
   "cell_type": "markdown",
   "metadata": {},
   "source": [
    "O segundo algoritmo utilizado será o ```SGDClassifier```. [Doc](https://scikit-learn.org/stable/modules/generated/sklearn.linear_model.SGDClassifier.html) "
   ]
  },
  {
   "cell_type": "code",
   "execution_count": 24,
   "metadata": {
    "ExecuteTime": {
     "end_time": "2019-01-04T19:36:28.304063Z",
     "start_time": "2019-01-04T19:36:28.178400Z"
    }
   },
   "outputs": [
    {
     "data": {
      "text/html": [
       "<div>\n",
       "<style scoped>\n",
       "    .dataframe tbody tr th:only-of-type {\n",
       "        vertical-align: middle;\n",
       "    }\n",
       "\n",
       "    .dataframe tbody tr th {\n",
       "        vertical-align: top;\n",
       "    }\n",
       "\n",
       "    .dataframe thead th {\n",
       "        text-align: right;\n",
       "    }\n",
       "</style>\n",
       "<table border=\"1\" class=\"dataframe\">\n",
       "  <thead>\n",
       "    <tr style=\"text-align: right;\">\n",
       "      <th></th>\n",
       "      <th>acc_train</th>\n",
       "      <th>acc_train_cv</th>\n",
       "      <th>acc_train_scaled</th>\n",
       "      <th>acc_train_grid</th>\n",
       "      <th>acc_test</th>\n",
       "      <th>acc_test_cv</th>\n",
       "      <th>acc_test_scaled</th>\n",
       "      <th>acc_test_grid</th>\n",
       "    </tr>\n",
       "  </thead>\n",
       "  <tbody>\n",
       "    <tr>\n",
       "      <th>dtree</th>\n",
       "      <td>1.0</td>\n",
       "      <td>0.8617</td>\n",
       "      <td>0.8629</td>\n",
       "      <td>0.9571</td>\n",
       "      <td>0.878</td>\n",
       "      <td>0.765</td>\n",
       "      <td>0.7645</td>\n",
       "      <td>0.8356</td>\n",
       "    </tr>\n",
       "  </tbody>\n",
       "</table>\n",
       "</div>"
      ],
      "text/plain": [
       "       acc_train  acc_train_cv  acc_train_scaled  acc_train_grid  acc_test  \\\n",
       "dtree        1.0        0.8617            0.8629          0.9571     0.878   \n",
       "\n",
       "       acc_test_cv  acc_test_scaled  acc_test_grid  \n",
       "dtree        0.765           0.7645         0.8356  "
      ]
     },
     "execution_count": 24,
     "metadata": {},
     "output_type": "execute_result"
    }
   ],
   "source": [
    "# Realizando procedimento para leitura dos dados\n",
    "X_train, y_train, X_test, y_test = prepare_mnist()\n",
    "\n",
    "# Lendo arquivo de armazenamento de performance\n",
    "import pandas as pd\n",
    "\n",
    "path = 'C:/Users/thiagoPanini/data-science-repos/coursera-stanford/'\n",
    "root = 'machine-learning/notations/semana-4/python-programs/'\n",
    "file_name = 'dataset_accs.csv'\n",
    "\n",
    "dataset_accs = pd.read_csv(path + root + file_name)\n",
    "dataset_accs.index = ['dtree']\n",
    "\n",
    "# Criando dicionário vazio\n",
    "dict_accs_sgd = {}\n",
    "\n",
    "dataset_accs"
   ]
  },
  {
   "cell_type": "markdown",
   "metadata": {},
   "source": [
    "### Treinando Modelo"
   ]
  },
  {
   "cell_type": "code",
   "execution_count": 25,
   "metadata": {
    "ExecuteTime": {
     "end_time": "2019-01-04T19:36:41.548027Z",
     "start_time": "2019-01-04T19:36:35.067851Z"
    }
   },
   "outputs": [
    {
     "name": "stderr",
     "output_type": "stream",
     "text": [
      "C:\\Users\\thiagoPanini\\Anaconda3\\lib\\site-packages\\sklearn\\linear_model\\stochastic_gradient.py:128: FutureWarning: max_iter and tol parameters have been added in <class 'sklearn.linear_model.stochastic_gradient.SGDClassifier'> in 0.19. If both are left unset, they default to max_iter=5 and tol=None. If tol is not None, max_iter defaults to max_iter=1000. From 0.21, default max_iter will be 1000, and default tol will be 1e-3.\n",
      "  \"and default tol will be 1e-3.\" % type(self), FutureWarning)\n"
     ]
    }
   ],
   "source": [
    "# Importando classificador\n",
    "from sklearn.linear_model import SGDClassifier\n",
    "\n",
    "# Criando classificador e treinando modelo\n",
    "sgd_clf = SGDClassifier(random_state=42)\n",
    "sgd_clf.fit(X_train, y_train)\n",
    "\n",
    "# Realizando predições\n",
    "sgd_pred = sgd_clf.predict(X_train)"
   ]
  },
  {
   "cell_type": "markdown",
   "metadata": {},
   "source": [
    "### Avaliando Performance"
   ]
  },
  {
   "cell_type": "markdown",
   "metadata": {},
   "source": [
    "#### Accuracy"
   ]
  },
  {
   "cell_type": "code",
   "execution_count": 26,
   "metadata": {
    "ExecuteTime": {
     "end_time": "2019-01-04T19:36:41.710594Z",
     "start_time": "2019-01-04T19:36:41.700622Z"
    }
   },
   "outputs": [
    {
     "name": "stdout",
     "output_type": "stream",
     "text": [
      "Acurácia do modelo SGD Classifier (dados de treino): 88.8483%\n"
     ]
    }
   ],
   "source": [
    "# Testando Acurácia nos dados de treino\n",
    "from sklearn.metrics import accuracy_score\n",
    "\n",
    "acc_sgd = accuracy_score(sgd_pred, y_train)\n",
    "print(f'Acurácia do modelo SGD Classifier (dados de treino): {(acc_sgd*100):.4f}%')"
   ]
  },
  {
   "cell_type": "code",
   "execution_count": 27,
   "metadata": {
    "ExecuteTime": {
     "end_time": "2019-01-04T19:36:44.974577Z",
     "start_time": "2019-01-04T19:36:44.968593Z"
    }
   },
   "outputs": [
    {
     "data": {
      "text/plain": [
       "{'acc_train': 0.8885}"
      ]
     },
     "execution_count": 27,
     "metadata": {},
     "output_type": "execute_result"
    }
   ],
   "source": [
    "# Salvando dados\n",
    "dict_accs_sgd['acc_train'] = round(acc_sgd, 4)\n",
    "dict_accs_sgd"
   ]
  },
  {
   "cell_type": "markdown",
   "metadata": {},
   "source": [
    "Para ter certeza de que não se trata de um Overfitting, vamos aplicar validação cruzada com os dados de treino."
   ]
  },
  {
   "cell_type": "code",
   "execution_count": 30,
   "metadata": {
    "ExecuteTime": {
     "end_time": "2019-01-04T19:37:49.078502Z",
     "start_time": "2019-01-04T19:37:40.780690Z"
    }
   },
   "outputs": [
    {
     "name": "stderr",
     "output_type": "stream",
     "text": [
      "C:\\Users\\thiagoPanini\\Anaconda3\\lib\\site-packages\\sklearn\\linear_model\\stochastic_gradient.py:128: FutureWarning: max_iter and tol parameters have been added in <class 'sklearn.linear_model.stochastic_gradient.SGDClassifier'> in 0.19. If both are left unset, they default to max_iter=5 and tol=None. If tol is not None, max_iter defaults to max_iter=1000. From 0.21, default max_iter will be 1000, and default tol will be 1e-3.\n",
      "  \"and default tol will be 1e-3.\" % type(self), FutureWarning)\n",
      "C:\\Users\\thiagoPanini\\Anaconda3\\lib\\site-packages\\sklearn\\linear_model\\stochastic_gradient.py:128: FutureWarning: max_iter and tol parameters have been added in <class 'sklearn.linear_model.stochastic_gradient.SGDClassifier'> in 0.19. If both are left unset, they default to max_iter=5 and tol=None. If tol is not None, max_iter defaults to max_iter=1000. From 0.21, default max_iter will be 1000, and default tol will be 1e-3.\n",
      "  \"and default tol will be 1e-3.\" % type(self), FutureWarning)\n",
      "C:\\Users\\thiagoPanini\\Anaconda3\\lib\\site-packages\\sklearn\\linear_model\\stochastic_gradient.py:128: FutureWarning: max_iter and tol parameters have been added in <class 'sklearn.linear_model.stochastic_gradient.SGDClassifier'> in 0.19. If both are left unset, they default to max_iter=5 and tol=None. If tol is not None, max_iter defaults to max_iter=1000. From 0.21, default max_iter will be 1000, and default tol will be 1e-3.\n",
      "  \"and default tol will be 1e-3.\" % type(self), FutureWarning)\n"
     ]
    },
    {
     "name": "stdout",
     "output_type": "stream",
     "text": [
      "Scores: [0.87322535 0.84554228 0.8593289 ]\n",
      "Média: 0.8594\n",
      "Desvio Padrão: 0.0113\n"
     ]
    }
   ],
   "source": [
    "# Aplicando cross validation\n",
    "from sklearn.model_selection import cross_val_score\n",
    "\n",
    "sgd_scores_train = cross_val_score(sgd_clf, X_train, y_train, cv=3, scoring='accuracy')\n",
    "\n",
    "# Comunicando resultados\n",
    "display_scores(sgd_scores_train)"
   ]
  },
  {
   "cell_type": "code",
   "execution_count": 31,
   "metadata": {
    "ExecuteTime": {
     "end_time": "2019-01-04T19:38:04.035522Z",
     "start_time": "2019-01-04T19:38:04.030537Z"
    }
   },
   "outputs": [
    {
     "data": {
      "text/plain": [
       "{'acc_train': 0.8885, 'acc_train_cv': 0.8594}"
      ]
     },
     "execution_count": 31,
     "metadata": {},
     "output_type": "execute_result"
    }
   ],
   "source": [
    "# Salvando dados\n",
    "dict_accs_sgd['acc_train_cv'] = round(sgd_scores_train.mean(), 4)\n",
    "dict_accs_sgd"
   ]
  },
  {
   "cell_type": "markdown",
   "metadata": {},
   "source": [
    "Considerando que, neste mesmo ponto, o algoritmo ```Decision Trees``` apresentou aproximadamente 86% de acurácia. Provavelmente há espaço para melhorias dentro do ```SGD Classifier```."
   ]
  },
  {
   "cell_type": "markdown",
   "metadata": {},
   "source": [
    "#### Confusion Matrix"
   ]
  },
  {
   "cell_type": "code",
   "execution_count": 32,
   "metadata": {
    "ExecuteTime": {
     "end_time": "2019-01-04T19:38:17.905293Z",
     "start_time": "2019-01-04T19:38:09.268360Z"
    }
   },
   "outputs": [
    {
     "name": "stderr",
     "output_type": "stream",
     "text": [
      "C:\\Users\\thiagoPanini\\Anaconda3\\lib\\site-packages\\sklearn\\linear_model\\stochastic_gradient.py:128: FutureWarning: max_iter and tol parameters have been added in <class 'sklearn.linear_model.stochastic_gradient.SGDClassifier'> in 0.19. If both are left unset, they default to max_iter=5 and tol=None. If tol is not None, max_iter defaults to max_iter=1000. From 0.21, default max_iter will be 1000, and default tol will be 1e-3.\n",
      "  \"and default tol will be 1e-3.\" % type(self), FutureWarning)\n",
      "C:\\Users\\thiagoPanini\\Anaconda3\\lib\\site-packages\\sklearn\\linear_model\\stochastic_gradient.py:128: FutureWarning: max_iter and tol parameters have been added in <class 'sklearn.linear_model.stochastic_gradient.SGDClassifier'> in 0.19. If both are left unset, they default to max_iter=5 and tol=None. If tol is not None, max_iter defaults to max_iter=1000. From 0.21, default max_iter will be 1000, and default tol will be 1e-3.\n",
      "  \"and default tol will be 1e-3.\" % type(self), FutureWarning)\n",
      "C:\\Users\\thiagoPanini\\Anaconda3\\lib\\site-packages\\sklearn\\linear_model\\stochastic_gradient.py:128: FutureWarning: max_iter and tol parameters have been added in <class 'sklearn.linear_model.stochastic_gradient.SGDClassifier'> in 0.19. If both are left unset, they default to max_iter=5 and tol=None. If tol is not None, max_iter defaults to max_iter=1000. From 0.21, default max_iter will be 1000, and default tol will be 1e-3.\n",
      "  \"and default tol will be 1e-3.\" % type(self), FutureWarning)\n"
     ]
    }
   ],
   "source": [
    "# Importando matriz de confusão\n",
    "from sklearn.model_selection import cross_val_predict\n",
    "from sklearn.metrics import confusion_matrix\n",
    "\n",
    "sgd_cross_pred = cross_val_predict(sgd_clf, X_train, y_train, cv=3)\n",
    "\n",
    "conf_mx = confusion_matrix(y_train, sgd_cross_pred)"
   ]
  },
  {
   "cell_type": "code",
   "execution_count": 33,
   "metadata": {
    "ExecuteTime": {
     "end_time": "2019-01-04T19:38:19.234710Z",
     "start_time": "2019-01-04T19:38:19.022278Z"
    }
   },
   "outputs": [
    {
     "data": {
      "image/png": "[encoded data removed]",
      "text/plain": [
       "<matplotlib.figure.Figure at 0x1eb8cb70d68>"
      ]
     },
     "metadata": {
      "needs_background": "light"
     },
     "output_type": "display_data"
    }
   ],
   "source": [
    "# Visualizando matriz de confusão\n",
    "import numpy as np\n",
    "import matplotlib\n",
    "import matplotlib.pyplot as plt\n",
    "%matplotlib inline\n",
    "\n",
    "row_sums = conf_mx.sum(axis=1, keepdims=True)\n",
    "norm_conf_mx = conf_mx / row_sums\n",
    "\n",
    "np.fill_diagonal(norm_conf_mx, 0)\n",
    "plt.matshow(norm_conf_mx, cmap=plt.cm.gray)\n",
    "plt.show()"
   ]
  },
  {
   "cell_type": "markdown",
   "metadata": {},
   "source": [
    "### Padronização dos Dados"
   ]
  },
  {
   "cell_type": "code",
   "execution_count": 34,
   "metadata": {
    "ExecuteTime": {
     "end_time": "2019-01-04T19:38:35.249922Z",
     "start_time": "2019-01-04T19:38:25.210766Z"
    }
   },
   "outputs": [
    {
     "name": "stderr",
     "output_type": "stream",
     "text": [
      "C:\\Users\\thiagoPanini\\Anaconda3\\lib\\site-packages\\sklearn\\linear_model\\stochastic_gradient.py:128: FutureWarning: max_iter and tol parameters have been added in <class 'sklearn.linear_model.stochastic_gradient.SGDClassifier'> in 0.19. If both are left unset, they default to max_iter=5 and tol=None. If tol is not None, max_iter defaults to max_iter=1000. From 0.21, default max_iter will be 1000, and default tol will be 1e-3.\n",
      "  \"and default tol will be 1e-3.\" % type(self), FutureWarning)\n",
      "C:\\Users\\thiagoPanini\\Anaconda3\\lib\\site-packages\\sklearn\\linear_model\\stochastic_gradient.py:128: FutureWarning: max_iter and tol parameters have been added in <class 'sklearn.linear_model.stochastic_gradient.SGDClassifier'> in 0.19. If both are left unset, they default to max_iter=5 and tol=None. If tol is not None, max_iter defaults to max_iter=1000. From 0.21, default max_iter will be 1000, and default tol will be 1e-3.\n",
      "  \"and default tol will be 1e-3.\" % type(self), FutureWarning)\n",
      "C:\\Users\\thiagoPanini\\Anaconda3\\lib\\site-packages\\sklearn\\linear_model\\stochastic_gradient.py:128: FutureWarning: max_iter and tol parameters have been added in <class 'sklearn.linear_model.stochastic_gradient.SGDClassifier'> in 0.19. If both are left unset, they default to max_iter=5 and tol=None. If tol is not None, max_iter defaults to max_iter=1000. From 0.21, default max_iter will be 1000, and default tol will be 1e-3.\n",
      "  \"and default tol will be 1e-3.\" % type(self), FutureWarning)\n"
     ]
    },
    {
     "name": "stdout",
     "output_type": "stream",
     "text": [
      "Scores: [0.90556889 0.91259563 0.91328699]\n",
      "Média: 0.9105\n",
      "Desvio Padrão: 0.0035\n"
     ]
    }
   ],
   "source": [
    "# Buscando espaço para melhoria\n",
    "from sklearn.preprocessing import StandardScaler\n",
    "scaler = StandardScaler()\n",
    "X_train_scaled = scaler.fit_transform(X_train.astype(np.float64))\n",
    "\n",
    "# Realizando novo treinamento\n",
    "sgd_scores_scaled = cross_val_score(sgd_clf, X_train_scaled, y_train, \n",
    "                                    cv=3, scoring='accuracy')\n",
    "\n",
    "display_scores(sgd_scores_scaled)"
   ]
  },
  {
   "cell_type": "code",
   "execution_count": 35,
   "metadata": {
    "ExecuteTime": {
     "end_time": "2019-01-04T19:38:37.191816Z",
     "start_time": "2019-01-04T19:38:37.186831Z"
    }
   },
   "outputs": [
    {
     "name": "stdout",
     "output_type": "stream",
     "text": [
      "Houve uma melhoria de 5.1118%\n"
     ]
    }
   ],
   "source": [
    "# Quantificando melhoria\n",
    "print(f'Houve uma melhoria de {((sgd_scores_scaled.mean()-sgd_scores_train.mean())*100):.4f}%')"
   ]
  },
  {
   "cell_type": "markdown",
   "metadata": {},
   "source": [
    "A conclusão que se chega é a que de que, no modelo SGD, a classe ```StandardScaler``` surte muito mais efeito do que no modelo de Árvore de Decisão."
   ]
  },
  {
   "cell_type": "code",
   "execution_count": 36,
   "metadata": {
    "ExecuteTime": {
     "end_time": "2019-01-04T19:38:40.357817Z",
     "start_time": "2019-01-04T19:38:40.352859Z"
    }
   },
   "outputs": [
    {
     "name": "stdout",
     "output_type": "stream",
     "text": [
      "Acurácia inicial: 85.9366%\n",
      "Acurácia com padronização: 91.0484%\n"
     ]
    }
   ],
   "source": [
    "# Comunicando melhora\n",
    "print(f'Acurácia inicial: {sgd_scores_train.mean()*100:.4f}%')\n",
    "print(f'Acurácia com padronização: {sgd_scores_scaled.mean()*100:.4f}%')"
   ]
  },
  {
   "cell_type": "code",
   "execution_count": 37,
   "metadata": {
    "ExecuteTime": {
     "end_time": "2019-01-04T19:38:43.906781Z",
     "start_time": "2019-01-04T19:38:43.900798Z"
    }
   },
   "outputs": [
    {
     "data": {
      "text/plain": [
       "{'acc_train': 0.8885, 'acc_train_cv': 0.8594, 'acc_train_scaled': 0.9105}"
      ]
     },
     "execution_count": 37,
     "metadata": {},
     "output_type": "execute_result"
    }
   ],
   "source": [
    "# Salvando dados\n",
    "dict_accs_sgd['acc_train_scaled'] = round(sgd_scores_scaled.mean(), 4)\n",
    "dict_accs_sgd"
   ]
  },
  {
   "cell_type": "markdown",
   "metadata": {},
   "source": [
    "### Tunando Hiperparâmetros"
   ]
  },
  {
   "cell_type": "code",
   "execution_count": 38,
   "metadata": {
    "ExecuteTime": {
     "end_time": "2019-01-04T19:39:06.789633Z",
     "start_time": "2019-01-04T19:39:06.774675Z"
    }
   },
   "outputs": [
    {
     "data": {
      "text/html": [
       "<div>\n",
       "<style scoped>\n",
       "    .dataframe tbody tr th:only-of-type {\n",
       "        vertical-align: middle;\n",
       "    }\n",
       "\n",
       "    .dataframe tbody tr th {\n",
       "        vertical-align: top;\n",
       "    }\n",
       "\n",
       "    .dataframe thead th {\n",
       "        text-align: right;\n",
       "    }\n",
       "</style>\n",
       "<table border=\"1\" class=\"dataframe\">\n",
       "  <thead>\n",
       "    <tr style=\"text-align: right;\">\n",
       "      <th></th>\n",
       "      <th>acc_train</th>\n",
       "      <th>acc_train_cv</th>\n",
       "      <th>acc_train_scaled</th>\n",
       "      <th>acc_train_grid</th>\n",
       "      <th>acc_test</th>\n",
       "      <th>acc_test_cv</th>\n",
       "      <th>acc_test_scaled</th>\n",
       "      <th>acc_test_grid</th>\n",
       "    </tr>\n",
       "  </thead>\n",
       "  <tbody>\n",
       "    <tr>\n",
       "      <th>dtree</th>\n",
       "      <td>1.0</td>\n",
       "      <td>0.8617</td>\n",
       "      <td>0.8629</td>\n",
       "      <td>0.9571</td>\n",
       "      <td>0.878</td>\n",
       "      <td>0.765</td>\n",
       "      <td>0.7645</td>\n",
       "      <td>0.8356</td>\n",
       "    </tr>\n",
       "  </tbody>\n",
       "</table>\n",
       "</div>"
      ],
      "text/plain": [
       "       acc_train  acc_train_cv  acc_train_scaled  acc_train_grid  acc_test  \\\n",
       "dtree        1.0        0.8617            0.8629          0.9571     0.878   \n",
       "\n",
       "       acc_test_cv  acc_test_scaled  acc_test_grid  \n",
       "dtree        0.765           0.7645         0.8356  "
      ]
     },
     "execution_count": 38,
     "metadata": {},
     "output_type": "execute_result"
    }
   ],
   "source": [
    "# Antes de mais nada, veja comparação dos valores obtidos entre SGD e DT\n",
    "dataset_accs"
   ]
  },
  {
   "cell_type": "code",
   "execution_count": 39,
   "metadata": {
    "ExecuteTime": {
     "end_time": "2019-01-04T19:39:10.906960Z",
     "start_time": "2019-01-04T19:39:10.901946Z"
    }
   },
   "outputs": [
    {
     "data": {
      "text/plain": [
       "{'acc_train': 0.8885, 'acc_train_cv': 0.8594, 'acc_train_scaled': 0.9105}"
      ]
     },
     "execution_count": 39,
     "metadata": {},
     "output_type": "execute_result"
    }
   ],
   "source": [
    "dict_accs_sgd"
   ]
  },
  {
   "cell_type": "markdown",
   "metadata": {},
   "source": [
    "Uma análise prévia indica que o modelo SGD é mais sensível à padronização dos dados (```StandardScaler```) do que o Decision Trees."
   ]
  },
  {
   "cell_type": "code",
   "execution_count": 40,
   "metadata": {
    "ExecuteTime": {
     "end_time": "2019-01-04T19:47:44.949752Z",
     "start_time": "2019-01-04T19:47:44.944765Z"
    }
   },
   "outputs": [
    {
     "data": {
      "text/plain": [
       "<bound method BaseEstimator.get_params of SGDClassifier(alpha=0.0001, average=False, class_weight=None, epsilon=0.1,\n",
       "       eta0=0.0, fit_intercept=True, l1_ratio=0.15,\n",
       "       learning_rate='optimal', loss='hinge', max_iter=None, n_iter=None,\n",
       "       n_jobs=1, penalty='l2', power_t=0.5, random_state=42, shuffle=True,\n",
       "       tol=None, verbose=0, warm_start=False)>"
      ]
     },
     "execution_count": 40,
     "metadata": {},
     "output_type": "execute_result"
    }
   ],
   "source": [
    "# Verificando hiperparâmetros a serem tunados\n",
    "sgd_clf.get_params"
   ]
  },
  {
   "cell_type": "code",
   "execution_count": 41,
   "metadata": {
    "ExecuteTime": {
     "end_time": "2019-01-04T19:48:36.167983Z",
     "start_time": "2019-01-04T19:48:36.162002Z"
    }
   },
   "outputs": [
    {
     "data": {
      "text/plain": [
       "<bound method BaseEstimator.get_params of DecisionTreeClassifier(class_weight=None, criterion='gini', max_depth=None,\n",
       "            max_features=None, max_leaf_nodes=None,\n",
       "            min_impurity_decrease=0.0, min_impurity_split=None,\n",
       "            min_samples_leaf=1, min_samples_split=2,\n",
       "            min_weight_fraction_leaf=0.0, presort=False, random_state=None,\n",
       "            splitter='best')>"
      ]
     },
     "execution_count": 41,
     "metadata": {},
     "output_type": "execute_result"
    }
   ],
   "source": [
    "# Comparando com decision trees\n",
    "from sklearn.tree import DecisionTreeClassifier\n",
    "\n",
    "tree_clf = DecisionTreeClassifier()\n",
    "tree_clf.get_params"
   ]
  },
  {
   "cell_type": "code",
   "execution_count": 43,
   "metadata": {
    "ExecuteTime": {
     "end_time": "2019-01-04T19:54:19.334258Z",
     "start_time": "2019-01-04T19:54:19.328274Z"
    }
   },
   "outputs": [
    {
     "data": {
      "text/plain": [
       "array([0.0001, 0.0012, 0.0023, 0.0034, 0.0045, 0.0056, 0.0067, 0.0078,\n",
       "       0.0089, 0.01  ])"
      ]
     },
     "execution_count": 43,
     "metadata": {},
     "output_type": "execute_result"
    }
   ],
   "source": [
    "np.linspace(0.0001, 0.01, 10)"
   ]
  },
  {
   "cell_type": "code",
   "execution_count": 49,
   "metadata": {
    "ExecuteTime": {
     "end_time": "2019-01-04T20:16:03.899348Z",
     "start_time": "2019-01-04T20:06:51.070179Z"
    }
   },
   "outputs": [
    {
     "name": "stdout",
     "output_type": "stream",
     "text": [
      "Fitting 3 folds for each of 30 candidates, totalling 90 fits\n",
      "[CV] alpha=0.0001, learning_rate=optimal, loss=hinge, penalty=l1 .....\n"
     ]
    },
    {
     "name": "stderr",
     "output_type": "stream",
     "text": [
      "C:\\Users\\thiagoPanini\\Anaconda3\\lib\\site-packages\\sklearn\\linear_model\\stochastic_gradient.py:128: FutureWarning: max_iter and tol parameters have been added in <class 'sklearn.linear_model.stochastic_gradient.SGDClassifier'> in 0.19. If both are left unset, they default to max_iter=5 and tol=None. If tol is not None, max_iter defaults to max_iter=1000. From 0.21, default max_iter will be 1000, and default tol will be 1e-3.\n",
      "  \"and default tol will be 1e-3.\" % type(self), FutureWarning)\n"
     ]
    },
    {
     "name": "stdout",
     "output_type": "stream",
     "text": [
      "[CV]  alpha=0.0001, learning_rate=optimal, loss=hinge, penalty=l1, score=0.8973205358928215, total=   7.0s\n",
      "[CV] alpha=0.0001, learning_rate=optimal, loss=hinge, penalty=l1 .....\n"
     ]
    },
    {
     "name": "stderr",
     "output_type": "stream",
     "text": [
      "[Parallel(n_jobs=1)]: Done   1 out of   1 | elapsed:    7.1s remaining:    0.0s\n",
      "C:\\Users\\thiagoPanini\\Anaconda3\\lib\\site-packages\\sklearn\\linear_model\\stochastic_gradient.py:128: FutureWarning: max_iter and tol parameters have been added in <class 'sklearn.linear_model.stochastic_gradient.SGDClassifier'> in 0.19. If both are left unset, they default to max_iter=5 and tol=None. If tol is not None, max_iter defaults to max_iter=1000. From 0.21, default max_iter will be 1000, and default tol will be 1e-3.\n",
      "  \"and default tol will be 1e-3.\" % type(self), FutureWarning)\n"
     ]
    },
    {
     "name": "stdout",
     "output_type": "stream",
     "text": [
      "[CV]  alpha=0.0001, learning_rate=optimal, loss=hinge, penalty=l1, score=0.9062453122656133, total=   7.2s\n",
      "[CV] alpha=0.0001, learning_rate=optimal, loss=hinge, penalty=l1 .....\n"
     ]
    },
    {
     "name": "stderr",
     "output_type": "stream",
     "text": [
      "[Parallel(n_jobs=1)]: Done   2 out of   2 | elapsed:   14.6s remaining:    0.0s\n",
      "C:\\Users\\thiagoPanini\\Anaconda3\\lib\\site-packages\\sklearn\\linear_model\\stochastic_gradient.py:128: FutureWarning: max_iter and tol parameters have been added in <class 'sklearn.linear_model.stochastic_gradient.SGDClassifier'> in 0.19. If both are left unset, they default to max_iter=5 and tol=None. If tol is not None, max_iter defaults to max_iter=1000. From 0.21, default max_iter will be 1000, and default tol will be 1e-3.\n",
      "  \"and default tol will be 1e-3.\" % type(self), FutureWarning)\n"
     ]
    },
    {
     "name": "stdout",
     "output_type": "stream",
     "text": [
      "[CV]  alpha=0.0001, learning_rate=optimal, loss=hinge, penalty=l1, score=0.9043356503475521, total=   7.7s\n",
      "[CV] alpha=0.0001, learning_rate=optimal, loss=hinge, penalty=l2 .....\n"
     ]
    },
    {
     "name": "stderr",
     "output_type": "stream",
     "text": [
      "[Parallel(n_jobs=1)]: Done   3 out of   3 | elapsed:   22.6s remaining:    0.0s\n",
      "C:\\Users\\thiagoPanini\\Anaconda3\\lib\\site-packages\\sklearn\\linear_model\\stochastic_gradient.py:128: FutureWarning: max_iter and tol parameters have been added in <class 'sklearn.linear_model.stochastic_gradient.SGDClassifier'> in 0.19. If both are left unset, they default to max_iter=5 and tol=None. If tol is not None, max_iter defaults to max_iter=1000. From 0.21, default max_iter will be 1000, and default tol will be 1e-3.\n",
      "  \"and default tol will be 1e-3.\" % type(self), FutureWarning)\n"
     ]
    },
    {
     "name": "stdout",
     "output_type": "stream",
     "text": [
      "[CV]  alpha=0.0001, learning_rate=optimal, loss=hinge, penalty=l2, score=0.9055188962207559, total=   3.3s\n",
      "[CV] alpha=0.0001, learning_rate=optimal, loss=hinge, penalty=l2 .....\n"
     ]
    },
    {
     "name": "stderr",
     "output_type": "stream",
     "text": [
      "C:\\Users\\thiagoPanini\\Anaconda3\\lib\\site-packages\\sklearn\\linear_model\\stochastic_gradient.py:128: FutureWarning: max_iter and tol parameters have been added in <class 'sklearn.linear_model.stochastic_gradient.SGDClassifier'> in 0.19. If both are left unset, they default to max_iter=5 and tol=None. If tol is not None, max_iter defaults to max_iter=1000. From 0.21, default max_iter will be 1000, and default tol will be 1e-3.\n",
      "  \"and default tol will be 1e-3.\" % type(self), FutureWarning)\n"
     ]
    },
    {
     "name": "stdout",
     "output_type": "stream",
     "text": [
      "[CV]  alpha=0.0001, learning_rate=optimal, loss=hinge, penalty=l2, score=0.9104955247762389, total=   3.0s\n",
      "[CV] alpha=0.0001, learning_rate=optimal, loss=hinge, penalty=l2 .....\n"
     ]
    },
    {
     "name": "stderr",
     "output_type": "stream",
     "text": [
      "C:\\Users\\thiagoPanini\\Anaconda3\\lib\\site-packages\\sklearn\\linear_model\\stochastic_gradient.py:128: FutureWarning: max_iter and tol parameters have been added in <class 'sklearn.linear_model.stochastic_gradient.SGDClassifier'> in 0.19. If both are left unset, they default to max_iter=5 and tol=None. If tol is not None, max_iter defaults to max_iter=1000. From 0.21, default max_iter will be 1000, and default tol will be 1e-3.\n",
      "  \"and default tol will be 1e-3.\" % type(self), FutureWarning)\n"
     ]
    },
    {
     "name": "stdout",
     "output_type": "stream",
     "text": [
      "[CV]  alpha=0.0001, learning_rate=optimal, loss=hinge, penalty=l2, score=0.9133870080512076, total=   2.9s\n",
      "[CV] alpha=0.0001, learning_rate=optimal, loss=perceptron, penalty=l1 \n"
     ]
    },
    {
     "name": "stderr",
     "output_type": "stream",
     "text": [
      "C:\\Users\\thiagoPanini\\Anaconda3\\lib\\site-packages\\sklearn\\linear_model\\stochastic_gradient.py:128: FutureWarning: max_iter and tol parameters have been added in <class 'sklearn.linear_model.stochastic_gradient.SGDClassifier'> in 0.19. If both are left unset, they default to max_iter=5 and tol=None. If tol is not None, max_iter defaults to max_iter=1000. From 0.21, default max_iter will be 1000, and default tol will be 1e-3.\n",
      "  \"and default tol will be 1e-3.\" % type(self), FutureWarning)\n"
     ]
    },
    {
     "name": "stdout",
     "output_type": "stream",
     "text": [
      "[CV]  alpha=0.0001, learning_rate=optimal, loss=perceptron, penalty=l1, score=0.8995200959808038, total=   8.5s\n",
      "[CV] alpha=0.0001, learning_rate=optimal, loss=perceptron, penalty=l1 \n"
     ]
    },
    {
     "name": "stderr",
     "output_type": "stream",
     "text": [
      "C:\\Users\\thiagoPanini\\Anaconda3\\lib\\site-packages\\sklearn\\linear_model\\stochastic_gradient.py:128: FutureWarning: max_iter and tol parameters have been added in <class 'sklearn.linear_model.stochastic_gradient.SGDClassifier'> in 0.19. If both are left unset, they default to max_iter=5 and tol=None. If tol is not None, max_iter defaults to max_iter=1000. From 0.21, default max_iter will be 1000, and default tol will be 1e-3.\n",
      "  \"and default tol will be 1e-3.\" % type(self), FutureWarning)\n"
     ]
    },
    {
     "name": "stdout",
     "output_type": "stream",
     "text": [
      "[CV]  alpha=0.0001, learning_rate=optimal, loss=perceptron, penalty=l1, score=0.9071453572678634, total=   8.2s\n",
      "[CV] alpha=0.0001, learning_rate=optimal, loss=perceptron, penalty=l1 \n"
     ]
    },
    {
     "name": "stderr",
     "output_type": "stream",
     "text": [
      "C:\\Users\\thiagoPanini\\Anaconda3\\lib\\site-packages\\sklearn\\linear_model\\stochastic_gradient.py:128: FutureWarning: max_iter and tol parameters have been added in <class 'sklearn.linear_model.stochastic_gradient.SGDClassifier'> in 0.19. If both are left unset, they default to max_iter=5 and tol=None. If tol is not None, max_iter defaults to max_iter=1000. From 0.21, default max_iter will be 1000, and default tol will be 1e-3.\n",
      "  \"and default tol will be 1e-3.\" % type(self), FutureWarning)\n"
     ]
    },
    {
     "name": "stdout",
     "output_type": "stream",
     "text": [
      "[CV]  alpha=0.0001, learning_rate=optimal, loss=perceptron, penalty=l1, score=0.905485822873431, total=   9.3s\n",
      "[CV] alpha=0.0001, learning_rate=optimal, loss=perceptron, penalty=l2 \n"
     ]
    },
    {
     "name": "stderr",
     "output_type": "stream",
     "text": [
      "C:\\Users\\thiagoPanini\\Anaconda3\\lib\\site-packages\\sklearn\\linear_model\\stochastic_gradient.py:128: FutureWarning: max_iter and tol parameters have been added in <class 'sklearn.linear_model.stochastic_gradient.SGDClassifier'> in 0.19. If both are left unset, they default to max_iter=5 and tol=None. If tol is not None, max_iter defaults to max_iter=1000. From 0.21, default max_iter will be 1000, and default tol will be 1e-3.\n",
      "  \"and default tol will be 1e-3.\" % type(self), FutureWarning)\n"
     ]
    },
    {
     "name": "stdout",
     "output_type": "stream",
     "text": [
      "[CV]  alpha=0.0001, learning_rate=optimal, loss=perceptron, penalty=l2, score=0.9057188562287543, total=   2.5s\n",
      "[CV] alpha=0.0001, learning_rate=optimal, loss=perceptron, penalty=l2 \n"
     ]
    },
    {
     "name": "stderr",
     "output_type": "stream",
     "text": [
      "C:\\Users\\thiagoPanini\\Anaconda3\\lib\\site-packages\\sklearn\\linear_model\\stochastic_gradient.py:128: FutureWarning: max_iter and tol parameters have been added in <class 'sklearn.linear_model.stochastic_gradient.SGDClassifier'> in 0.19. If both are left unset, they default to max_iter=5 and tol=None. If tol is not None, max_iter defaults to max_iter=1000. From 0.21, default max_iter will be 1000, and default tol will be 1e-3.\n",
      "  \"and default tol will be 1e-3.\" % type(self), FutureWarning)\n"
     ]
    },
    {
     "name": "stdout",
     "output_type": "stream",
     "text": [
      "[CV]  alpha=0.0001, learning_rate=optimal, loss=perceptron, penalty=l2, score=0.911745587279364, total=   2.6s\n",
      "[CV] alpha=0.0001, learning_rate=optimal, loss=perceptron, penalty=l2 \n"
     ]
    },
    {
     "name": "stderr",
     "output_type": "stream",
     "text": [
      "C:\\Users\\thiagoPanini\\Anaconda3\\lib\\site-packages\\sklearn\\linear_model\\stochastic_gradient.py:128: FutureWarning: max_iter and tol parameters have been added in <class 'sklearn.linear_model.stochastic_gradient.SGDClassifier'> in 0.19. If both are left unset, they default to max_iter=5 and tol=None. If tol is not None, max_iter defaults to max_iter=1000. From 0.21, default max_iter will be 1000, and default tol will be 1e-3.\n",
      "  \"and default tol will be 1e-3.\" % type(self), FutureWarning)\n"
     ]
    },
    {
     "name": "stdout",
     "output_type": "stream",
     "text": [
      "[CV]  alpha=0.0001, learning_rate=optimal, loss=perceptron, penalty=l2, score=0.9129369405410812, total=   2.6s\n",
      "[CV] alpha=0.0001, learning_rate=optimal, loss=log, penalty=l1 .......\n"
     ]
    },
    {
     "name": "stderr",
     "output_type": "stream",
     "text": [
      "C:\\Users\\thiagoPanini\\Anaconda3\\lib\\site-packages\\sklearn\\linear_model\\stochastic_gradient.py:128: FutureWarning: max_iter and tol parameters have been added in <class 'sklearn.linear_model.stochastic_gradient.SGDClassifier'> in 0.19. If both are left unset, they default to max_iter=5 and tol=None. If tol is not None, max_iter defaults to max_iter=1000. From 0.21, default max_iter will be 1000, and default tol will be 1e-3.\n",
      "  \"and default tol will be 1e-3.\" % type(self), FutureWarning)\n"
     ]
    },
    {
     "name": "stdout",
     "output_type": "stream",
     "text": [
      "[CV]  alpha=0.0001, learning_rate=optimal, loss=log, penalty=l1, score=0.8983203359328135, total=   9.3s\n",
      "[CV] alpha=0.0001, learning_rate=optimal, loss=log, penalty=l1 .......\n"
     ]
    },
    {
     "name": "stderr",
     "output_type": "stream",
     "text": [
      "C:\\Users\\thiagoPanini\\Anaconda3\\lib\\site-packages\\sklearn\\linear_model\\stochastic_gradient.py:128: FutureWarning: max_iter and tol parameters have been added in <class 'sklearn.linear_model.stochastic_gradient.SGDClassifier'> in 0.19. If both are left unset, they default to max_iter=5 and tol=None. If tol is not None, max_iter defaults to max_iter=1000. From 0.21, default max_iter will be 1000, and default tol will be 1e-3.\n",
      "  \"and default tol will be 1e-3.\" % type(self), FutureWarning)\n"
     ]
    },
    {
     "name": "stdout",
     "output_type": "stream",
     "text": [
      "[CV]  alpha=0.0001, learning_rate=optimal, loss=log, penalty=l1, score=0.9053952697634882, total=   8.9s\n",
      "[CV] alpha=0.0001, learning_rate=optimal, loss=log, penalty=l1 .......\n"
     ]
    },
    {
     "name": "stderr",
     "output_type": "stream",
     "text": [
      "C:\\Users\\thiagoPanini\\Anaconda3\\lib\\site-packages\\sklearn\\linear_model\\stochastic_gradient.py:128: FutureWarning: max_iter and tol parameters have been added in <class 'sklearn.linear_model.stochastic_gradient.SGDClassifier'> in 0.19. If both are left unset, they default to max_iter=5 and tol=None. If tol is not None, max_iter defaults to max_iter=1000. From 0.21, default max_iter will be 1000, and default tol will be 1e-3.\n",
      "  \"and default tol will be 1e-3.\" % type(self), FutureWarning)\n"
     ]
    },
    {
     "name": "stdout",
     "output_type": "stream",
     "text": [
      "[CV]  alpha=0.0001, learning_rate=optimal, loss=log, penalty=l1, score=0.9045356803520528, total=   9.3s\n",
      "[CV] alpha=0.0001, learning_rate=optimal, loss=log, penalty=l2 .......\n"
     ]
    },
    {
     "name": "stderr",
     "output_type": "stream",
     "text": [
      "C:\\Users\\thiagoPanini\\Anaconda3\\lib\\site-packages\\sklearn\\linear_model\\stochastic_gradient.py:128: FutureWarning: max_iter and tol parameters have been added in <class 'sklearn.linear_model.stochastic_gradient.SGDClassifier'> in 0.19. If both are left unset, they default to max_iter=5 and tol=None. If tol is not None, max_iter defaults to max_iter=1000. From 0.21, default max_iter will be 1000, and default tol will be 1e-3.\n",
      "  \"and default tol will be 1e-3.\" % type(self), FutureWarning)\n"
     ]
    },
    {
     "name": "stdout",
     "output_type": "stream",
     "text": [
      "[CV]  alpha=0.0001, learning_rate=optimal, loss=log, penalty=l2, score=0.904119176164767, total=   4.4s\n",
      "[CV] alpha=0.0001, learning_rate=optimal, loss=log, penalty=l2 .......\n"
     ]
    },
    {
     "name": "stderr",
     "output_type": "stream",
     "text": [
      "C:\\Users\\thiagoPanini\\Anaconda3\\lib\\site-packages\\sklearn\\linear_model\\stochastic_gradient.py:128: FutureWarning: max_iter and tol parameters have been added in <class 'sklearn.linear_model.stochastic_gradient.SGDClassifier'> in 0.19. If both are left unset, they default to max_iter=5 and tol=None. If tol is not None, max_iter defaults to max_iter=1000. From 0.21, default max_iter will be 1000, and default tol will be 1e-3.\n",
      "  \"and default tol will be 1e-3.\" % type(self), FutureWarning)\n"
     ]
    },
    {
     "name": "stdout",
     "output_type": "stream",
     "text": [
      "[CV]  alpha=0.0001, learning_rate=optimal, loss=log, penalty=l2, score=0.912195609780489, total=   4.2s\n",
      "[CV] alpha=0.0001, learning_rate=optimal, loss=log, penalty=l2 .......\n"
     ]
    },
    {
     "name": "stderr",
     "output_type": "stream",
     "text": [
      "C:\\Users\\thiagoPanini\\Anaconda3\\lib\\site-packages\\sklearn\\linear_model\\stochastic_gradient.py:128: FutureWarning: max_iter and tol parameters have been added in <class 'sklearn.linear_model.stochastic_gradient.SGDClassifier'> in 0.19. If both are left unset, they default to max_iter=5 and tol=None. If tol is not None, max_iter defaults to max_iter=1000. From 0.21, default max_iter will be 1000, and default tol will be 1e-3.\n",
      "  \"and default tol will be 1e-3.\" % type(self), FutureWarning)\n"
     ]
    },
    {
     "name": "stdout",
     "output_type": "stream",
     "text": [
      "[CV]  alpha=0.0001, learning_rate=optimal, loss=log, penalty=l2, score=0.9128369255388308, total=   4.5s\n",
      "[CV] alpha=0.002575, learning_rate=optimal, loss=hinge, penalty=l1 ...\n"
     ]
    },
    {
     "name": "stderr",
     "output_type": "stream",
     "text": [
      "C:\\Users\\thiagoPanini\\Anaconda3\\lib\\site-packages\\sklearn\\linear_model\\stochastic_gradient.py:128: FutureWarning: max_iter and tol parameters have been added in <class 'sklearn.linear_model.stochastic_gradient.SGDClassifier'> in 0.19. If both are left unset, they default to max_iter=5 and tol=None. If tol is not None, max_iter defaults to max_iter=1000. From 0.21, default max_iter will be 1000, and default tol will be 1e-3.\n",
      "  \"and default tol will be 1e-3.\" % type(self), FutureWarning)\n"
     ]
    },
    {
     "name": "stdout",
     "output_type": "stream",
     "text": [
      "[CV]  alpha=0.002575, learning_rate=optimal, loss=hinge, penalty=l1, score=0.8740751849630074, total=   6.4s\n",
      "[CV] alpha=0.002575, learning_rate=optimal, loss=hinge, penalty=l1 ...\n"
     ]
    },
    {
     "name": "stderr",
     "output_type": "stream",
     "text": [
      "C:\\Users\\thiagoPanini\\Anaconda3\\lib\\site-packages\\sklearn\\linear_model\\stochastic_gradient.py:128: FutureWarning: max_iter and tol parameters have been added in <class 'sklearn.linear_model.stochastic_gradient.SGDClassifier'> in 0.19. If both are left unset, they default to max_iter=5 and tol=None. If tol is not None, max_iter defaults to max_iter=1000. From 0.21, default max_iter will be 1000, and default tol will be 1e-3.\n",
      "  \"and default tol will be 1e-3.\" % type(self), FutureWarning)\n"
     ]
    },
    {
     "name": "stdout",
     "output_type": "stream",
     "text": [
      "[CV]  alpha=0.002575, learning_rate=optimal, loss=hinge, penalty=l1, score=0.8888444422221111, total=   6.3s\n",
      "[CV] alpha=0.002575, learning_rate=optimal, loss=hinge, penalty=l1 ...\n"
     ]
    },
    {
     "name": "stderr",
     "output_type": "stream",
     "text": [
      "C:\\Users\\thiagoPanini\\Anaconda3\\lib\\site-packages\\sklearn\\linear_model\\stochastic_gradient.py:128: FutureWarning: max_iter and tol parameters have been added in <class 'sklearn.linear_model.stochastic_gradient.SGDClassifier'> in 0.19. If both are left unset, they default to max_iter=5 and tol=None. If tol is not None, max_iter defaults to max_iter=1000. From 0.21, default max_iter will be 1000, and default tol will be 1e-3.\n",
      "  \"and default tol will be 1e-3.\" % type(self), FutureWarning)\n"
     ]
    },
    {
     "name": "stdout",
     "output_type": "stream",
     "text": [
      "[CV]  alpha=0.002575, learning_rate=optimal, loss=hinge, penalty=l1, score=0.8839325898884832, total=   7.2s\n",
      "[CV] alpha=0.002575, learning_rate=optimal, loss=hinge, penalty=l2 ...\n"
     ]
    },
    {
     "name": "stderr",
     "output_type": "stream",
     "text": [
      "C:\\Users\\thiagoPanini\\Anaconda3\\lib\\site-packages\\sklearn\\linear_model\\stochastic_gradient.py:128: FutureWarning: max_iter and tol parameters have been added in <class 'sklearn.linear_model.stochastic_gradient.SGDClassifier'> in 0.19. If both are left unset, they default to max_iter=5 and tol=None. If tol is not None, max_iter defaults to max_iter=1000. From 0.21, default max_iter will be 1000, and default tol will be 1e-3.\n",
      "  \"and default tol will be 1e-3.\" % type(self), FutureWarning)\n"
     ]
    },
    {
     "name": "stdout",
     "output_type": "stream",
     "text": [
      "[CV]  alpha=0.002575, learning_rate=optimal, loss=hinge, penalty=l2, score=0.8933213357328534, total=   2.7s\n",
      "[CV] alpha=0.002575, learning_rate=optimal, loss=hinge, penalty=l2 ...\n"
     ]
    },
    {
     "name": "stderr",
     "output_type": "stream",
     "text": [
      "C:\\Users\\thiagoPanini\\Anaconda3\\lib\\site-packages\\sklearn\\linear_model\\stochastic_gradient.py:128: FutureWarning: max_iter and tol parameters have been added in <class 'sklearn.linear_model.stochastic_gradient.SGDClassifier'> in 0.19. If both are left unset, they default to max_iter=5 and tol=None. If tol is not None, max_iter defaults to max_iter=1000. From 0.21, default max_iter will be 1000, and default tol will be 1e-3.\n",
      "  \"and default tol will be 1e-3.\" % type(self), FutureWarning)\n"
     ]
    },
    {
     "name": "stdout",
     "output_type": "stream",
     "text": [
      "[CV]  alpha=0.002575, learning_rate=optimal, loss=hinge, penalty=l2, score=0.9023951197559879, total=   2.6s\n",
      "[CV] alpha=0.002575, learning_rate=optimal, loss=hinge, penalty=l2 ...\n"
     ]
    },
    {
     "name": "stderr",
     "output_type": "stream",
     "text": [
      "C:\\Users\\thiagoPanini\\Anaconda3\\lib\\site-packages\\sklearn\\linear_model\\stochastic_gradient.py:128: FutureWarning: max_iter and tol parameters have been added in <class 'sklearn.linear_model.stochastic_gradient.SGDClassifier'> in 0.19. If both are left unset, they default to max_iter=5 and tol=None. If tol is not None, max_iter defaults to max_iter=1000. From 0.21, default max_iter will be 1000, and default tol will be 1e-3.\n",
      "  \"and default tol will be 1e-3.\" % type(self), FutureWarning)\n"
     ]
    },
    {
     "name": "stdout",
     "output_type": "stream",
     "text": [
      "[CV]  alpha=0.002575, learning_rate=optimal, loss=hinge, penalty=l2, score=0.9002850427564134, total=   2.6s\n",
      "[CV] alpha=0.002575, learning_rate=optimal, loss=perceptron, penalty=l1 \n"
     ]
    },
    {
     "name": "stderr",
     "output_type": "stream",
     "text": [
      "C:\\Users\\thiagoPanini\\Anaconda3\\lib\\site-packages\\sklearn\\linear_model\\stochastic_gradient.py:128: FutureWarning: max_iter and tol parameters have been added in <class 'sklearn.linear_model.stochastic_gradient.SGDClassifier'> in 0.19. If both are left unset, they default to max_iter=5 and tol=None. If tol is not None, max_iter defaults to max_iter=1000. From 0.21, default max_iter will be 1000, and default tol will be 1e-3.\n",
      "  \"and default tol will be 1e-3.\" % type(self), FutureWarning)\n"
     ]
    },
    {
     "name": "stdout",
     "output_type": "stream",
     "text": [
      "[CV]  alpha=0.002575, learning_rate=optimal, loss=perceptron, penalty=l1, score=0.8761747650469907, total=   6.3s\n",
      "[CV] alpha=0.002575, learning_rate=optimal, loss=perceptron, penalty=l1 \n"
     ]
    },
    {
     "name": "stderr",
     "output_type": "stream",
     "text": [
      "C:\\Users\\thiagoPanini\\Anaconda3\\lib\\site-packages\\sklearn\\linear_model\\stochastic_gradient.py:128: FutureWarning: max_iter and tol parameters have been added in <class 'sklearn.linear_model.stochastic_gradient.SGDClassifier'> in 0.19. If both are left unset, they default to max_iter=5 and tol=None. If tol is not None, max_iter defaults to max_iter=1000. From 0.21, default max_iter will be 1000, and default tol will be 1e-3.\n",
      "  \"and default tol will be 1e-3.\" % type(self), FutureWarning)\n"
     ]
    },
    {
     "name": "stdout",
     "output_type": "stream",
     "text": [
      "[CV]  alpha=0.002575, learning_rate=optimal, loss=perceptron, penalty=l1, score=0.8859942997149858, total=   6.6s\n",
      "[CV] alpha=0.002575, learning_rate=optimal, loss=perceptron, penalty=l1 \n"
     ]
    },
    {
     "name": "stderr",
     "output_type": "stream",
     "text": [
      "C:\\Users\\thiagoPanini\\Anaconda3\\lib\\site-packages\\sklearn\\linear_model\\stochastic_gradient.py:128: FutureWarning: max_iter and tol parameters have been added in <class 'sklearn.linear_model.stochastic_gradient.SGDClassifier'> in 0.19. If both are left unset, they default to max_iter=5 and tol=None. If tol is not None, max_iter defaults to max_iter=1000. From 0.21, default max_iter will be 1000, and default tol will be 1e-3.\n",
      "  \"and default tol will be 1e-3.\" % type(self), FutureWarning)\n"
     ]
    },
    {
     "name": "stdout",
     "output_type": "stream",
     "text": [
      "[CV]  alpha=0.002575, learning_rate=optimal, loss=perceptron, penalty=l1, score=0.8805320798119718, total=   6.4s\n",
      "[CV] alpha=0.002575, learning_rate=optimal, loss=perceptron, penalty=l2 \n"
     ]
    },
    {
     "name": "stderr",
     "output_type": "stream",
     "text": [
      "C:\\Users\\thiagoPanini\\Anaconda3\\lib\\site-packages\\sklearn\\linear_model\\stochastic_gradient.py:128: FutureWarning: max_iter and tol parameters have been added in <class 'sklearn.linear_model.stochastic_gradient.SGDClassifier'> in 0.19. If both are left unset, they default to max_iter=5 and tol=None. If tol is not None, max_iter defaults to max_iter=1000. From 0.21, default max_iter will be 1000, and default tol will be 1e-3.\n",
      "  \"and default tol will be 1e-3.\" % type(self), FutureWarning)\n"
     ]
    },
    {
     "name": "stdout",
     "output_type": "stream",
     "text": [
      "[CV]  alpha=0.002575, learning_rate=optimal, loss=perceptron, penalty=l2, score=0.8934213157368527, total=   2.8s\n",
      "[CV] alpha=0.002575, learning_rate=optimal, loss=perceptron, penalty=l2 \n"
     ]
    },
    {
     "name": "stderr",
     "output_type": "stream",
     "text": [
      "C:\\Users\\thiagoPanini\\Anaconda3\\lib\\site-packages\\sklearn\\linear_model\\stochastic_gradient.py:128: FutureWarning: max_iter and tol parameters have been added in <class 'sklearn.linear_model.stochastic_gradient.SGDClassifier'> in 0.19. If both are left unset, they default to max_iter=5 and tol=None. If tol is not None, max_iter defaults to max_iter=1000. From 0.21, default max_iter will be 1000, and default tol will be 1e-3.\n",
      "  \"and default tol will be 1e-3.\" % type(self), FutureWarning)\n"
     ]
    },
    {
     "name": "stdout",
     "output_type": "stream",
     "text": [
      "[CV]  alpha=0.002575, learning_rate=optimal, loss=perceptron, penalty=l2, score=0.9028451422571129, total=   2.5s\n",
      "[CV] alpha=0.002575, learning_rate=optimal, loss=perceptron, penalty=l2 \n"
     ]
    },
    {
     "name": "stderr",
     "output_type": "stream",
     "text": [
      "C:\\Users\\thiagoPanini\\Anaconda3\\lib\\site-packages\\sklearn\\linear_model\\stochastic_gradient.py:128: FutureWarning: max_iter and tol parameters have been added in <class 'sklearn.linear_model.stochastic_gradient.SGDClassifier'> in 0.19. If both are left unset, they default to max_iter=5 and tol=None. If tol is not None, max_iter defaults to max_iter=1000. From 0.21, default max_iter will be 1000, and default tol will be 1e-3.\n",
      "  \"and default tol will be 1e-3.\" % type(self), FutureWarning)\n"
     ]
    },
    {
     "name": "stdout",
     "output_type": "stream",
     "text": [
      "[CV]  alpha=0.002575, learning_rate=optimal, loss=perceptron, penalty=l2, score=0.8988348252237836, total=   2.6s\n",
      "[CV] alpha=0.002575, learning_rate=optimal, loss=log, penalty=l1 .....\n"
     ]
    },
    {
     "name": "stderr",
     "output_type": "stream",
     "text": [
      "C:\\Users\\thiagoPanini\\Anaconda3\\lib\\site-packages\\sklearn\\linear_model\\stochastic_gradient.py:128: FutureWarning: max_iter and tol parameters have been added in <class 'sklearn.linear_model.stochastic_gradient.SGDClassifier'> in 0.19. If both are left unset, they default to max_iter=5 and tol=None. If tol is not None, max_iter defaults to max_iter=1000. From 0.21, default max_iter will be 1000, and default tol will be 1e-3.\n",
      "  \"and default tol will be 1e-3.\" % type(self), FutureWarning)\n"
     ]
    },
    {
     "name": "stdout",
     "output_type": "stream",
     "text": [
      "[CV]  alpha=0.002575, learning_rate=optimal, loss=log, penalty=l1, score=0.879374125174965, total=  13.7s\n",
      "[CV] alpha=0.002575, learning_rate=optimal, loss=log, penalty=l1 .....\n"
     ]
    },
    {
     "name": "stderr",
     "output_type": "stream",
     "text": [
      "C:\\Users\\thiagoPanini\\Anaconda3\\lib\\site-packages\\sklearn\\linear_model\\stochastic_gradient.py:128: FutureWarning: max_iter and tol parameters have been added in <class 'sklearn.linear_model.stochastic_gradient.SGDClassifier'> in 0.19. If both are left unset, they default to max_iter=5 and tol=None. If tol is not None, max_iter defaults to max_iter=1000. From 0.21, default max_iter will be 1000, and default tol will be 1e-3.\n",
      "  \"and default tol will be 1e-3.\" % type(self), FutureWarning)\n"
     ]
    },
    {
     "name": "stdout",
     "output_type": "stream",
     "text": [
      "[CV]  alpha=0.002575, learning_rate=optimal, loss=log, penalty=l1, score=0.8854942747137357, total=  13.8s\n",
      "[CV] alpha=0.002575, learning_rate=optimal, loss=log, penalty=l1 .....\n"
     ]
    },
    {
     "name": "stderr",
     "output_type": "stream",
     "text": [
      "C:\\Users\\thiagoPanini\\Anaconda3\\lib\\site-packages\\sklearn\\linear_model\\stochastic_gradient.py:128: FutureWarning: max_iter and tol parameters have been added in <class 'sklearn.linear_model.stochastic_gradient.SGDClassifier'> in 0.19. If both are left unset, they default to max_iter=5 and tol=None. If tol is not None, max_iter defaults to max_iter=1000. From 0.21, default max_iter will be 1000, and default tol will be 1e-3.\n",
      "  \"and default tol will be 1e-3.\" % type(self), FutureWarning)\n"
     ]
    },
    {
     "name": "stdout",
     "output_type": "stream",
     "text": [
      "[CV]  alpha=0.002575, learning_rate=optimal, loss=log, penalty=l1, score=0.8811321698254738, total=  12.8s\n",
      "[CV] alpha=0.002575, learning_rate=optimal, loss=log, penalty=l2 .....\n"
     ]
    },
    {
     "name": "stderr",
     "output_type": "stream",
     "text": [
      "C:\\Users\\thiagoPanini\\Anaconda3\\lib\\site-packages\\sklearn\\linear_model\\stochastic_gradient.py:128: FutureWarning: max_iter and tol parameters have been added in <class 'sklearn.linear_model.stochastic_gradient.SGDClassifier'> in 0.19. If both are left unset, they default to max_iter=5 and tol=None. If tol is not None, max_iter defaults to max_iter=1000. From 0.21, default max_iter will be 1000, and default tol will be 1e-3.\n",
      "  \"and default tol will be 1e-3.\" % type(self), FutureWarning)\n"
     ]
    },
    {
     "name": "stdout",
     "output_type": "stream",
     "text": [
      "[CV]  alpha=0.002575, learning_rate=optimal, loss=log, penalty=l2, score=0.8932213557288542, total=   4.4s\n",
      "[CV] alpha=0.002575, learning_rate=optimal, loss=log, penalty=l2 .....\n"
     ]
    },
    {
     "name": "stderr",
     "output_type": "stream",
     "text": [
      "C:\\Users\\thiagoPanini\\Anaconda3\\lib\\site-packages\\sklearn\\linear_model\\stochastic_gradient.py:128: FutureWarning: max_iter and tol parameters have been added in <class 'sklearn.linear_model.stochastic_gradient.SGDClassifier'> in 0.19. If both are left unset, they default to max_iter=5 and tol=None. If tol is not None, max_iter defaults to max_iter=1000. From 0.21, default max_iter will be 1000, and default tol will be 1e-3.\n",
      "  \"and default tol will be 1e-3.\" % type(self), FutureWarning)\n"
     ]
    },
    {
     "name": "stdout",
     "output_type": "stream",
     "text": [
      "[CV]  alpha=0.002575, learning_rate=optimal, loss=log, penalty=l2, score=0.9021451072553628, total=   4.5s\n",
      "[CV] alpha=0.002575, learning_rate=optimal, loss=log, penalty=l2 .....\n"
     ]
    },
    {
     "name": "stderr",
     "output_type": "stream",
     "text": [
      "C:\\Users\\thiagoPanini\\Anaconda3\\lib\\site-packages\\sklearn\\linear_model\\stochastic_gradient.py:128: FutureWarning: max_iter and tol parameters have been added in <class 'sklearn.linear_model.stochastic_gradient.SGDClassifier'> in 0.19. If both are left unset, they default to max_iter=5 and tol=None. If tol is not None, max_iter defaults to max_iter=1000. From 0.21, default max_iter will be 1000, and default tol will be 1e-3.\n",
      "  \"and default tol will be 1e-3.\" % type(self), FutureWarning)\n"
     ]
    },
    {
     "name": "stdout",
     "output_type": "stream",
     "text": [
      "[CV]  alpha=0.002575, learning_rate=optimal, loss=log, penalty=l2, score=0.9013852077811672, total=   4.4s\n",
      "[CV] alpha=0.005050000000000001, learning_rate=optimal, loss=hinge, penalty=l1 \n"
     ]
    },
    {
     "name": "stderr",
     "output_type": "stream",
     "text": [
      "C:\\Users\\thiagoPanini\\Anaconda3\\lib\\site-packages\\sklearn\\linear_model\\stochastic_gradient.py:128: FutureWarning: max_iter and tol parameters have been added in <class 'sklearn.linear_model.stochastic_gradient.SGDClassifier'> in 0.19. If both are left unset, they default to max_iter=5 and tol=None. If tol is not None, max_iter defaults to max_iter=1000. From 0.21, default max_iter will be 1000, and default tol will be 1e-3.\n",
      "  \"and default tol will be 1e-3.\" % type(self), FutureWarning)\n"
     ]
    },
    {
     "name": "stdout",
     "output_type": "stream",
     "text": [
      "[CV]  alpha=0.005050000000000001, learning_rate=optimal, loss=hinge, penalty=l1, score=0.8685262947410518, total=   6.4s\n",
      "[CV] alpha=0.005050000000000001, learning_rate=optimal, loss=hinge, penalty=l1 \n"
     ]
    },
    {
     "name": "stderr",
     "output_type": "stream",
     "text": [
      "C:\\Users\\thiagoPanini\\Anaconda3\\lib\\site-packages\\sklearn\\linear_model\\stochastic_gradient.py:128: FutureWarning: max_iter and tol parameters have been added in <class 'sklearn.linear_model.stochastic_gradient.SGDClassifier'> in 0.19. If both are left unset, they default to max_iter=5 and tol=None. If tol is not None, max_iter defaults to max_iter=1000. From 0.21, default max_iter will be 1000, and default tol will be 1e-3.\n",
      "  \"and default tol will be 1e-3.\" % type(self), FutureWarning)\n"
     ]
    },
    {
     "name": "stdout",
     "output_type": "stream",
     "text": [
      "[CV]  alpha=0.005050000000000001, learning_rate=optimal, loss=hinge, penalty=l1, score=0.8747437371868594, total=   6.7s\n",
      "[CV] alpha=0.005050000000000001, learning_rate=optimal, loss=hinge, penalty=l1 \n"
     ]
    },
    {
     "name": "stderr",
     "output_type": "stream",
     "text": [
      "C:\\Users\\thiagoPanini\\Anaconda3\\lib\\site-packages\\sklearn\\linear_model\\stochastic_gradient.py:128: FutureWarning: max_iter and tol parameters have been added in <class 'sklearn.linear_model.stochastic_gradient.SGDClassifier'> in 0.19. If both are left unset, they default to max_iter=5 and tol=None. If tol is not None, max_iter defaults to max_iter=1000. From 0.21, default max_iter will be 1000, and default tol will be 1e-3.\n",
      "  \"and default tol will be 1e-3.\" % type(self), FutureWarning)\n"
     ]
    },
    {
     "name": "stdout",
     "output_type": "stream",
     "text": [
      "[CV]  alpha=0.005050000000000001, learning_rate=optimal, loss=hinge, penalty=l1, score=0.873481022153323, total=   6.2s\n",
      "[CV] alpha=0.005050000000000001, learning_rate=optimal, loss=hinge, penalty=l2 \n"
     ]
    },
    {
     "name": "stderr",
     "output_type": "stream",
     "text": [
      "C:\\Users\\thiagoPanini\\Anaconda3\\lib\\site-packages\\sklearn\\linear_model\\stochastic_gradient.py:128: FutureWarning: max_iter and tol parameters have been added in <class 'sklearn.linear_model.stochastic_gradient.SGDClassifier'> in 0.19. If both are left unset, they default to max_iter=5 and tol=None. If tol is not None, max_iter defaults to max_iter=1000. From 0.21, default max_iter will be 1000, and default tol will be 1e-3.\n",
      "  \"and default tol will be 1e-3.\" % type(self), FutureWarning)\n"
     ]
    },
    {
     "name": "stdout",
     "output_type": "stream",
     "text": [
      "[CV]  alpha=0.005050000000000001, learning_rate=optimal, loss=hinge, penalty=l2, score=0.8922715456908619, total=   2.8s\n",
      "[CV] alpha=0.005050000000000001, learning_rate=optimal, loss=hinge, penalty=l2 \n"
     ]
    },
    {
     "name": "stderr",
     "output_type": "stream",
     "text": [
      "C:\\Users\\thiagoPanini\\Anaconda3\\lib\\site-packages\\sklearn\\linear_model\\stochastic_gradient.py:128: FutureWarning: max_iter and tol parameters have been added in <class 'sklearn.linear_model.stochastic_gradient.SGDClassifier'> in 0.19. If both are left unset, they default to max_iter=5 and tol=None. If tol is not None, max_iter defaults to max_iter=1000. From 0.21, default max_iter will be 1000, and default tol will be 1e-3.\n",
      "  \"and default tol will be 1e-3.\" % type(self), FutureWarning)\n"
     ]
    },
    {
     "name": "stdout",
     "output_type": "stream",
     "text": [
      "[CV]  alpha=0.005050000000000001, learning_rate=optimal, loss=hinge, penalty=l2, score=0.9009450472523626, total=   2.7s\n",
      "[CV] alpha=0.005050000000000001, learning_rate=optimal, loss=hinge, penalty=l2 \n"
     ]
    },
    {
     "name": "stderr",
     "output_type": "stream",
     "text": [
      "C:\\Users\\thiagoPanini\\Anaconda3\\lib\\site-packages\\sklearn\\linear_model\\stochastic_gradient.py:128: FutureWarning: max_iter and tol parameters have been added in <class 'sklearn.linear_model.stochastic_gradient.SGDClassifier'> in 0.19. If both are left unset, they default to max_iter=5 and tol=None. If tol is not None, max_iter defaults to max_iter=1000. From 0.21, default max_iter will be 1000, and default tol will be 1e-3.\n",
      "  \"and default tol will be 1e-3.\" % type(self), FutureWarning)\n"
     ]
    },
    {
     "name": "stdout",
     "output_type": "stream",
     "text": [
      "[CV]  alpha=0.005050000000000001, learning_rate=optimal, loss=hinge, penalty=l2, score=0.896584487673151, total=   2.8s\n",
      "[CV] alpha=0.005050000000000001, learning_rate=optimal, loss=perceptron, penalty=l1 \n"
     ]
    },
    {
     "name": "stderr",
     "output_type": "stream",
     "text": [
      "C:\\Users\\thiagoPanini\\Anaconda3\\lib\\site-packages\\sklearn\\linear_model\\stochastic_gradient.py:128: FutureWarning: max_iter and tol parameters have been added in <class 'sklearn.linear_model.stochastic_gradient.SGDClassifier'> in 0.19. If both are left unset, they default to max_iter=5 and tol=None. If tol is not None, max_iter defaults to max_iter=1000. From 0.21, default max_iter will be 1000, and default tol will be 1e-3.\n",
      "  \"and default tol will be 1e-3.\" % type(self), FutureWarning)\n"
     ]
    },
    {
     "name": "stdout",
     "output_type": "stream",
     "text": [
      "[CV]  alpha=0.005050000000000001, learning_rate=optimal, loss=perceptron, penalty=l1, score=0.8586782643471306, total=   6.4s\n",
      "[CV] alpha=0.005050000000000001, learning_rate=optimal, loss=perceptron, penalty=l1 \n"
     ]
    },
    {
     "name": "stderr",
     "output_type": "stream",
     "text": [
      "C:\\Users\\thiagoPanini\\Anaconda3\\lib\\site-packages\\sklearn\\linear_model\\stochastic_gradient.py:128: FutureWarning: max_iter and tol parameters have been added in <class 'sklearn.linear_model.stochastic_gradient.SGDClassifier'> in 0.19. If both are left unset, they default to max_iter=5 and tol=None. If tol is not None, max_iter defaults to max_iter=1000. From 0.21, default max_iter will be 1000, and default tol will be 1e-3.\n",
      "  \"and default tol will be 1e-3.\" % type(self), FutureWarning)\n"
     ]
    },
    {
     "name": "stdout",
     "output_type": "stream",
     "text": [
      "[CV]  alpha=0.005050000000000001, learning_rate=optimal, loss=perceptron, penalty=l1, score=0.8713435671783589, total=   6.1s\n",
      "[CV] alpha=0.005050000000000001, learning_rate=optimal, loss=perceptron, penalty=l1 \n"
     ]
    },
    {
     "name": "stderr",
     "output_type": "stream",
     "text": [
      "C:\\Users\\thiagoPanini\\Anaconda3\\lib\\site-packages\\sklearn\\linear_model\\stochastic_gradient.py:128: FutureWarning: max_iter and tol parameters have been added in <class 'sklearn.linear_model.stochastic_gradient.SGDClassifier'> in 0.19. If both are left unset, they default to max_iter=5 and tol=None. If tol is not None, max_iter defaults to max_iter=1000. From 0.21, default max_iter will be 1000, and default tol will be 1e-3.\n",
      "  \"and default tol will be 1e-3.\" % type(self), FutureWarning)\n"
     ]
    },
    {
     "name": "stdout",
     "output_type": "stream",
     "text": [
      "[CV]  alpha=0.005050000000000001, learning_rate=optimal, loss=perceptron, penalty=l1, score=0.8661299194879232, total=   6.4s\n",
      "[CV] alpha=0.005050000000000001, learning_rate=optimal, loss=perceptron, penalty=l2 \n"
     ]
    },
    {
     "name": "stderr",
     "output_type": "stream",
     "text": [
      "C:\\Users\\thiagoPanini\\Anaconda3\\lib\\site-packages\\sklearn\\linear_model\\stochastic_gradient.py:128: FutureWarning: max_iter and tol parameters have been added in <class 'sklearn.linear_model.stochastic_gradient.SGDClassifier'> in 0.19. If both are left unset, they default to max_iter=5 and tol=None. If tol is not None, max_iter defaults to max_iter=1000. From 0.21, default max_iter will be 1000, and default tol will be 1e-3.\n",
      "  \"and default tol will be 1e-3.\" % type(self), FutureWarning)\n"
     ]
    },
    {
     "name": "stdout",
     "output_type": "stream",
     "text": [
      "[CV]  alpha=0.005050000000000001, learning_rate=optimal, loss=perceptron, penalty=l2, score=0.8919716056788642, total=   2.6s\n",
      "[CV] alpha=0.005050000000000001, learning_rate=optimal, loss=perceptron, penalty=l2 \n"
     ]
    },
    {
     "name": "stderr",
     "output_type": "stream",
     "text": [
      "C:\\Users\\thiagoPanini\\Anaconda3\\lib\\site-packages\\sklearn\\linear_model\\stochastic_gradient.py:128: FutureWarning: max_iter and tol parameters have been added in <class 'sklearn.linear_model.stochastic_gradient.SGDClassifier'> in 0.19. If both are left unset, they default to max_iter=5 and tol=None. If tol is not None, max_iter defaults to max_iter=1000. From 0.21, default max_iter will be 1000, and default tol will be 1e-3.\n",
      "  \"and default tol will be 1e-3.\" % type(self), FutureWarning)\n"
     ]
    },
    {
     "name": "stdout",
     "output_type": "stream",
     "text": [
      "[CV]  alpha=0.005050000000000001, learning_rate=optimal, loss=perceptron, penalty=l2, score=0.8978448922446123, total=   2.7s\n",
      "[CV] alpha=0.005050000000000001, learning_rate=optimal, loss=perceptron, penalty=l2 \n"
     ]
    },
    {
     "name": "stderr",
     "output_type": "stream",
     "text": [
      "C:\\Users\\thiagoPanini\\Anaconda3\\lib\\site-packages\\sklearn\\linear_model\\stochastic_gradient.py:128: FutureWarning: max_iter and tol parameters have been added in <class 'sklearn.linear_model.stochastic_gradient.SGDClassifier'> in 0.19. If both are left unset, they default to max_iter=5 and tol=None. If tol is not None, max_iter defaults to max_iter=1000. From 0.21, default max_iter will be 1000, and default tol will be 1e-3.\n",
      "  \"and default tol will be 1e-3.\" % type(self), FutureWarning)\n"
     ]
    },
    {
     "name": "stdout",
     "output_type": "stream",
     "text": [
      "[CV]  alpha=0.005050000000000001, learning_rate=optimal, loss=perceptron, penalty=l2, score=0.8984847727159074, total=   2.7s\n",
      "[CV] alpha=0.005050000000000001, learning_rate=optimal, loss=log, penalty=l1 \n"
     ]
    },
    {
     "name": "stderr",
     "output_type": "stream",
     "text": [
      "C:\\Users\\thiagoPanini\\Anaconda3\\lib\\site-packages\\sklearn\\linear_model\\stochastic_gradient.py:128: FutureWarning: max_iter and tol parameters have been added in <class 'sklearn.linear_model.stochastic_gradient.SGDClassifier'> in 0.19. If both are left unset, they default to max_iter=5 and tol=None. If tol is not None, max_iter defaults to max_iter=1000. From 0.21, default max_iter will be 1000, and default tol will be 1e-3.\n",
      "  \"and default tol will be 1e-3.\" % type(self), FutureWarning)\n"
     ]
    },
    {
     "name": "stdout",
     "output_type": "stream",
     "text": [
      "[CV]  alpha=0.005050000000000001, learning_rate=optimal, loss=log, penalty=l1, score=0.8662767446510697, total=  12.5s\n",
      "[CV] alpha=0.005050000000000001, learning_rate=optimal, loss=log, penalty=l1 \n"
     ]
    },
    {
     "name": "stderr",
     "output_type": "stream",
     "text": [
      "C:\\Users\\thiagoPanini\\Anaconda3\\lib\\site-packages\\sklearn\\linear_model\\stochastic_gradient.py:128: FutureWarning: max_iter and tol parameters have been added in <class 'sklearn.linear_model.stochastic_gradient.SGDClassifier'> in 0.19. If both are left unset, they default to max_iter=5 and tol=None. If tol is not None, max_iter defaults to max_iter=1000. From 0.21, default max_iter will be 1000, and default tol will be 1e-3.\n",
      "  \"and default tol will be 1e-3.\" % type(self), FutureWarning)\n"
     ]
    },
    {
     "name": "stdout",
     "output_type": "stream",
     "text": [
      "[CV]  alpha=0.005050000000000001, learning_rate=optimal, loss=log, penalty=l1, score=0.8750437521876093, total=  12.6s\n",
      "[CV] alpha=0.005050000000000001, learning_rate=optimal, loss=log, penalty=l1 \n"
     ]
    },
    {
     "name": "stderr",
     "output_type": "stream",
     "text": [
      "C:\\Users\\thiagoPanini\\Anaconda3\\lib\\site-packages\\sklearn\\linear_model\\stochastic_gradient.py:128: FutureWarning: max_iter and tol parameters have been added in <class 'sklearn.linear_model.stochastic_gradient.SGDClassifier'> in 0.19. If both are left unset, they default to max_iter=5 and tol=None. If tol is not None, max_iter defaults to max_iter=1000. From 0.21, default max_iter will be 1000, and default tol will be 1e-3.\n",
      "  \"and default tol will be 1e-3.\" % type(self), FutureWarning)\n"
     ]
    },
    {
     "name": "stdout",
     "output_type": "stream",
     "text": [
      "[CV]  alpha=0.005050000000000001, learning_rate=optimal, loss=log, penalty=l1, score=0.8729309396409461, total=  13.0s\n",
      "[CV] alpha=0.005050000000000001, learning_rate=optimal, loss=log, penalty=l2 \n"
     ]
    },
    {
     "name": "stderr",
     "output_type": "stream",
     "text": [
      "C:\\Users\\thiagoPanini\\Anaconda3\\lib\\site-packages\\sklearn\\linear_model\\stochastic_gradient.py:128: FutureWarning: max_iter and tol parameters have been added in <class 'sklearn.linear_model.stochastic_gradient.SGDClassifier'> in 0.19. If both are left unset, they default to max_iter=5 and tol=None. If tol is not None, max_iter defaults to max_iter=1000. From 0.21, default max_iter will be 1000, and default tol will be 1e-3.\n",
      "  \"and default tol will be 1e-3.\" % type(self), FutureWarning)\n"
     ]
    },
    {
     "name": "stdout",
     "output_type": "stream",
     "text": [
      "[CV]  alpha=0.005050000000000001, learning_rate=optimal, loss=log, penalty=l2, score=0.890371925614877, total=   4.6s\n",
      "[CV] alpha=0.005050000000000001, learning_rate=optimal, loss=log, penalty=l2 \n"
     ]
    },
    {
     "name": "stderr",
     "output_type": "stream",
     "text": [
      "C:\\Users\\thiagoPanini\\Anaconda3\\lib\\site-packages\\sklearn\\linear_model\\stochastic_gradient.py:128: FutureWarning: max_iter and tol parameters have been added in <class 'sklearn.linear_model.stochastic_gradient.SGDClassifier'> in 0.19. If both are left unset, they default to max_iter=5 and tol=None. If tol is not None, max_iter defaults to max_iter=1000. From 0.21, default max_iter will be 1000, and default tol will be 1e-3.\n",
      "  \"and default tol will be 1e-3.\" % type(self), FutureWarning)\n"
     ]
    },
    {
     "name": "stdout",
     "output_type": "stream",
     "text": [
      "[CV]  alpha=0.005050000000000001, learning_rate=optimal, loss=log, penalty=l2, score=0.9013950697534877, total=   4.6s\n",
      "[CV] alpha=0.005050000000000001, learning_rate=optimal, loss=log, penalty=l2 \n"
     ]
    },
    {
     "name": "stderr",
     "output_type": "stream",
     "text": [
      "C:\\Users\\thiagoPanini\\Anaconda3\\lib\\site-packages\\sklearn\\linear_model\\stochastic_gradient.py:128: FutureWarning: max_iter and tol parameters have been added in <class 'sklearn.linear_model.stochastic_gradient.SGDClassifier'> in 0.19. If both are left unset, they default to max_iter=5 and tol=None. If tol is not None, max_iter defaults to max_iter=1000. From 0.21, default max_iter will be 1000, and default tol will be 1e-3.\n",
      "  \"and default tol will be 1e-3.\" % type(self), FutureWarning)\n"
     ]
    },
    {
     "name": "stdout",
     "output_type": "stream",
     "text": [
      "[CV]  alpha=0.005050000000000001, learning_rate=optimal, loss=log, penalty=l2, score=0.8966344951742762, total=   4.9s\n",
      "[CV] alpha=0.007525000000000001, learning_rate=optimal, loss=hinge, penalty=l1 \n"
     ]
    },
    {
     "name": "stderr",
     "output_type": "stream",
     "text": [
      "C:\\Users\\thiagoPanini\\Anaconda3\\lib\\site-packages\\sklearn\\linear_model\\stochastic_gradient.py:128: FutureWarning: max_iter and tol parameters have been added in <class 'sklearn.linear_model.stochastic_gradient.SGDClassifier'> in 0.19. If both are left unset, they default to max_iter=5 and tol=None. If tol is not None, max_iter defaults to max_iter=1000. From 0.21, default max_iter will be 1000, and default tol will be 1e-3.\n",
      "  \"and default tol will be 1e-3.\" % type(self), FutureWarning)\n"
     ]
    },
    {
     "name": "stdout",
     "output_type": "stream",
     "text": [
      "[CV]  alpha=0.007525000000000001, learning_rate=optimal, loss=hinge, penalty=l1, score=0.8594281143771246, total=   5.9s\n",
      "[CV] alpha=0.007525000000000001, learning_rate=optimal, loss=hinge, penalty=l1 \n"
     ]
    },
    {
     "name": "stderr",
     "output_type": "stream",
     "text": [
      "C:\\Users\\thiagoPanini\\Anaconda3\\lib\\site-packages\\sklearn\\linear_model\\stochastic_gradient.py:128: FutureWarning: max_iter and tol parameters have been added in <class 'sklearn.linear_model.stochastic_gradient.SGDClassifier'> in 0.19. If both are left unset, they default to max_iter=5 and tol=None. If tol is not None, max_iter defaults to max_iter=1000. From 0.21, default max_iter will be 1000, and default tol will be 1e-3.\n",
      "  \"and default tol will be 1e-3.\" % type(self), FutureWarning)\n"
     ]
    },
    {
     "name": "stdout",
     "output_type": "stream",
     "text": [
      "[CV]  alpha=0.007525000000000001, learning_rate=optimal, loss=hinge, penalty=l1, score=0.8615930796539827, total=   6.1s\n",
      "[CV] alpha=0.007525000000000001, learning_rate=optimal, loss=hinge, penalty=l1 \n"
     ]
    },
    {
     "name": "stderr",
     "output_type": "stream",
     "text": [
      "C:\\Users\\thiagoPanini\\Anaconda3\\lib\\site-packages\\sklearn\\linear_model\\stochastic_gradient.py:128: FutureWarning: max_iter and tol parameters have been added in <class 'sklearn.linear_model.stochastic_gradient.SGDClassifier'> in 0.19. If both are left unset, they default to max_iter=5 and tol=None. If tol is not None, max_iter defaults to max_iter=1000. From 0.21, default max_iter will be 1000, and default tol will be 1e-3.\n",
      "  \"and default tol will be 1e-3.\" % type(self), FutureWarning)\n"
     ]
    },
    {
     "name": "stdout",
     "output_type": "stream",
     "text": [
      "[CV]  alpha=0.007525000000000001, learning_rate=optimal, loss=hinge, penalty=l1, score=0.8604790718607791, total=   6.3s\n",
      "[CV] alpha=0.007525000000000001, learning_rate=optimal, loss=hinge, penalty=l2 \n"
     ]
    },
    {
     "name": "stderr",
     "output_type": "stream",
     "text": [
      "C:\\Users\\thiagoPanini\\Anaconda3\\lib\\site-packages\\sklearn\\linear_model\\stochastic_gradient.py:128: FutureWarning: max_iter and tol parameters have been added in <class 'sklearn.linear_model.stochastic_gradient.SGDClassifier'> in 0.19. If both are left unset, they default to max_iter=5 and tol=None. If tol is not None, max_iter defaults to max_iter=1000. From 0.21, default max_iter will be 1000, and default tol will be 1e-3.\n",
      "  \"and default tol will be 1e-3.\" % type(self), FutureWarning)\n"
     ]
    },
    {
     "name": "stdout",
     "output_type": "stream",
     "text": [
      "[CV]  alpha=0.007525000000000001, learning_rate=optimal, loss=hinge, penalty=l2, score=0.8910717856428714, total=   2.6s\n",
      "[CV] alpha=0.007525000000000001, learning_rate=optimal, loss=hinge, penalty=l2 \n"
     ]
    },
    {
     "name": "stderr",
     "output_type": "stream",
     "text": [
      "C:\\Users\\thiagoPanini\\Anaconda3\\lib\\site-packages\\sklearn\\linear_model\\stochastic_gradient.py:128: FutureWarning: max_iter and tol parameters have been added in <class 'sklearn.linear_model.stochastic_gradient.SGDClassifier'> in 0.19. If both are left unset, they default to max_iter=5 and tol=None. If tol is not None, max_iter defaults to max_iter=1000. From 0.21, default max_iter will be 1000, and default tol will be 1e-3.\n",
      "  \"and default tol will be 1e-3.\" % type(self), FutureWarning)\n"
     ]
    },
    {
     "name": "stdout",
     "output_type": "stream",
     "text": [
      "[CV]  alpha=0.007525000000000001, learning_rate=optimal, loss=hinge, penalty=l2, score=0.8979448972448623, total=   2.7s\n",
      "[CV] alpha=0.007525000000000001, learning_rate=optimal, loss=hinge, penalty=l2 \n"
     ]
    },
    {
     "name": "stderr",
     "output_type": "stream",
     "text": [
      "C:\\Users\\thiagoPanini\\Anaconda3\\lib\\site-packages\\sklearn\\linear_model\\stochastic_gradient.py:128: FutureWarning: max_iter and tol parameters have been added in <class 'sklearn.linear_model.stochastic_gradient.SGDClassifier'> in 0.19. If both are left unset, they default to max_iter=5 and tol=None. If tol is not None, max_iter defaults to max_iter=1000. From 0.21, default max_iter will be 1000, and default tol will be 1e-3.\n",
      "  \"and default tol will be 1e-3.\" % type(self), FutureWarning)\n"
     ]
    },
    {
     "name": "stdout",
     "output_type": "stream",
     "text": [
      "[CV]  alpha=0.007525000000000001, learning_rate=optimal, loss=hinge, penalty=l2, score=0.8970345551832775, total=   3.0s\n",
      "[CV] alpha=0.007525000000000001, learning_rate=optimal, loss=perceptron, penalty=l1 \n"
     ]
    },
    {
     "name": "stderr",
     "output_type": "stream",
     "text": [
      "C:\\Users\\thiagoPanini\\Anaconda3\\lib\\site-packages\\sklearn\\linear_model\\stochastic_gradient.py:128: FutureWarning: max_iter and tol parameters have been added in <class 'sklearn.linear_model.stochastic_gradient.SGDClassifier'> in 0.19. If both are left unset, they default to max_iter=5 and tol=None. If tol is not None, max_iter defaults to max_iter=1000. From 0.21, default max_iter will be 1000, and default tol will be 1e-3.\n",
      "  \"and default tol will be 1e-3.\" % type(self), FutureWarning)\n"
     ]
    },
    {
     "name": "stdout",
     "output_type": "stream",
     "text": [
      "[CV]  alpha=0.007525000000000001, learning_rate=optimal, loss=perceptron, penalty=l1, score=0.8456808638272345, total=   5.9s\n",
      "[CV] alpha=0.007525000000000001, learning_rate=optimal, loss=perceptron, penalty=l1 \n"
     ]
    },
    {
     "name": "stderr",
     "output_type": "stream",
     "text": [
      "C:\\Users\\thiagoPanini\\Anaconda3\\lib\\site-packages\\sklearn\\linear_model\\stochastic_gradient.py:128: FutureWarning: max_iter and tol parameters have been added in <class 'sklearn.linear_model.stochastic_gradient.SGDClassifier'> in 0.19. If both are left unset, they default to max_iter=5 and tol=None. If tol is not None, max_iter defaults to max_iter=1000. From 0.21, default max_iter will be 1000, and default tol will be 1e-3.\n",
      "  \"and default tol will be 1e-3.\" % type(self), FutureWarning)\n"
     ]
    },
    {
     "name": "stdout",
     "output_type": "stream",
     "text": [
      "[CV]  alpha=0.007525000000000001, learning_rate=optimal, loss=perceptron, penalty=l1, score=0.8583929196459823, total=   6.4s\n",
      "[CV] alpha=0.007525000000000001, learning_rate=optimal, loss=perceptron, penalty=l1 \n"
     ]
    },
    {
     "name": "stderr",
     "output_type": "stream",
     "text": [
      "C:\\Users\\thiagoPanini\\Anaconda3\\lib\\site-packages\\sklearn\\linear_model\\stochastic_gradient.py:128: FutureWarning: max_iter and tol parameters have been added in <class 'sklearn.linear_model.stochastic_gradient.SGDClassifier'> in 0.19. If both are left unset, they default to max_iter=5 and tol=None. If tol is not None, max_iter defaults to max_iter=1000. From 0.21, default max_iter will be 1000, and default tol will be 1e-3.\n",
      "  \"and default tol will be 1e-3.\" % type(self), FutureWarning)\n"
     ]
    },
    {
     "name": "stdout",
     "output_type": "stream",
     "text": [
      "[CV]  alpha=0.007525000000000001, learning_rate=optimal, loss=perceptron, penalty=l1, score=0.8579286893033955, total=   5.9s\n",
      "[CV] alpha=0.007525000000000001, learning_rate=optimal, loss=perceptron, penalty=l2 \n"
     ]
    },
    {
     "name": "stderr",
     "output_type": "stream",
     "text": [
      "C:\\Users\\thiagoPanini\\Anaconda3\\lib\\site-packages\\sklearn\\linear_model\\stochastic_gradient.py:128: FutureWarning: max_iter and tol parameters have been added in <class 'sklearn.linear_model.stochastic_gradient.SGDClassifier'> in 0.19. If both are left unset, they default to max_iter=5 and tol=None. If tol is not None, max_iter defaults to max_iter=1000. From 0.21, default max_iter will be 1000, and default tol will be 1e-3.\n",
      "  \"and default tol will be 1e-3.\" % type(self), FutureWarning)\n"
     ]
    },
    {
     "name": "stdout",
     "output_type": "stream",
     "text": [
      "[CV]  alpha=0.007525000000000001, learning_rate=optimal, loss=perceptron, penalty=l2, score=0.8904719056188762, total=   2.9s\n",
      "[CV] alpha=0.007525000000000001, learning_rate=optimal, loss=perceptron, penalty=l2 \n"
     ]
    },
    {
     "name": "stderr",
     "output_type": "stream",
     "text": [
      "C:\\Users\\thiagoPanini\\Anaconda3\\lib\\site-packages\\sklearn\\linear_model\\stochastic_gradient.py:128: FutureWarning: max_iter and tol parameters have been added in <class 'sklearn.linear_model.stochastic_gradient.SGDClassifier'> in 0.19. If both are left unset, they default to max_iter=5 and tol=None. If tol is not None, max_iter defaults to max_iter=1000. From 0.21, default max_iter will be 1000, and default tol will be 1e-3.\n",
      "  \"and default tol will be 1e-3.\" % type(self), FutureWarning)\n"
     ]
    },
    {
     "name": "stdout",
     "output_type": "stream",
     "text": [
      "[CV]  alpha=0.007525000000000001, learning_rate=optimal, loss=perceptron, penalty=l2, score=0.895894794739737, total=   2.5s\n",
      "[CV] alpha=0.007525000000000001, learning_rate=optimal, loss=perceptron, penalty=l2 \n"
     ]
    },
    {
     "name": "stderr",
     "output_type": "stream",
     "text": [
      "C:\\Users\\thiagoPanini\\Anaconda3\\lib\\site-packages\\sklearn\\linear_model\\stochastic_gradient.py:128: FutureWarning: max_iter and tol parameters have been added in <class 'sklearn.linear_model.stochastic_gradient.SGDClassifier'> in 0.19. If both are left unset, they default to max_iter=5 and tol=None. If tol is not None, max_iter defaults to max_iter=1000. From 0.21, default max_iter will be 1000, and default tol will be 1e-3.\n",
      "  \"and default tol will be 1e-3.\" % type(self), FutureWarning)\n"
     ]
    },
    {
     "name": "stdout",
     "output_type": "stream",
     "text": [
      "[CV]  alpha=0.007525000000000001, learning_rate=optimal, loss=perceptron, penalty=l2, score=0.893334000100015, total=   2.6s\n",
      "[CV] alpha=0.007525000000000001, learning_rate=optimal, loss=log, penalty=l1 \n"
     ]
    },
    {
     "name": "stderr",
     "output_type": "stream",
     "text": [
      "C:\\Users\\thiagoPanini\\Anaconda3\\lib\\site-packages\\sklearn\\linear_model\\stochastic_gradient.py:128: FutureWarning: max_iter and tol parameters have been added in <class 'sklearn.linear_model.stochastic_gradient.SGDClassifier'> in 0.19. If both are left unset, they default to max_iter=5 and tol=None. If tol is not None, max_iter defaults to max_iter=1000. From 0.21, default max_iter will be 1000, and default tol will be 1e-3.\n",
      "  \"and default tol will be 1e-3.\" % type(self), FutureWarning)\n"
     ]
    },
    {
     "name": "stdout",
     "output_type": "stream",
     "text": [
      "[CV]  alpha=0.007525000000000001, learning_rate=optimal, loss=log, penalty=l1, score=0.8560787842431514, total=  12.2s\n",
      "[CV] alpha=0.007525000000000001, learning_rate=optimal, loss=log, penalty=l1 \n"
     ]
    },
    {
     "name": "stderr",
     "output_type": "stream",
     "text": [
      "C:\\Users\\thiagoPanini\\Anaconda3\\lib\\site-packages\\sklearn\\linear_model\\stochastic_gradient.py:128: FutureWarning: max_iter and tol parameters have been added in <class 'sklearn.linear_model.stochastic_gradient.SGDClassifier'> in 0.19. If both are left unset, they default to max_iter=5 and tol=None. If tol is not None, max_iter defaults to max_iter=1000. From 0.21, default max_iter will be 1000, and default tol will be 1e-3.\n",
      "  \"and default tol will be 1e-3.\" % type(self), FutureWarning)\n"
     ]
    },
    {
     "name": "stdout",
     "output_type": "stream",
     "text": [
      "[CV]  alpha=0.007525000000000001, learning_rate=optimal, loss=log, penalty=l1, score=0.8646932346617331, total=  12.5s\n",
      "[CV] alpha=0.007525000000000001, learning_rate=optimal, loss=log, penalty=l1 \n"
     ]
    },
    {
     "name": "stderr",
     "output_type": "stream",
     "text": [
      "C:\\Users\\thiagoPanini\\Anaconda3\\lib\\site-packages\\sklearn\\linear_model\\stochastic_gradient.py:128: FutureWarning: max_iter and tol parameters have been added in <class 'sklearn.linear_model.stochastic_gradient.SGDClassifier'> in 0.19. If both are left unset, they default to max_iter=5 and tol=None. If tol is not None, max_iter defaults to max_iter=1000. From 0.21, default max_iter will be 1000, and default tol will be 1e-3.\n",
      "  \"and default tol will be 1e-3.\" % type(self), FutureWarning)\n"
     ]
    },
    {
     "name": "stdout",
     "output_type": "stream",
     "text": [
      "[CV]  alpha=0.007525000000000001, learning_rate=optimal, loss=log, penalty=l1, score=0.8576286442966445, total=  12.4s\n",
      "[CV] alpha=0.007525000000000001, learning_rate=optimal, loss=log, penalty=l2 \n"
     ]
    },
    {
     "name": "stderr",
     "output_type": "stream",
     "text": [
      "C:\\Users\\thiagoPanini\\Anaconda3\\lib\\site-packages\\sklearn\\linear_model\\stochastic_gradient.py:128: FutureWarning: max_iter and tol parameters have been added in <class 'sklearn.linear_model.stochastic_gradient.SGDClassifier'> in 0.19. If both are left unset, they default to max_iter=5 and tol=None. If tol is not None, max_iter defaults to max_iter=1000. From 0.21, default max_iter will be 1000, and default tol will be 1e-3.\n",
      "  \"and default tol will be 1e-3.\" % type(self), FutureWarning)\n"
     ]
    },
    {
     "name": "stdout",
     "output_type": "stream",
     "text": [
      "[CV]  alpha=0.007525000000000001, learning_rate=optimal, loss=log, penalty=l2, score=0.8884223155368927, total=   5.0s\n",
      "[CV] alpha=0.007525000000000001, learning_rate=optimal, loss=log, penalty=l2 \n"
     ]
    },
    {
     "name": "stderr",
     "output_type": "stream",
     "text": [
      "C:\\Users\\thiagoPanini\\Anaconda3\\lib\\site-packages\\sklearn\\linear_model\\stochastic_gradient.py:128: FutureWarning: max_iter and tol parameters have been added in <class 'sklearn.linear_model.stochastic_gradient.SGDClassifier'> in 0.19. If both are left unset, they default to max_iter=5 and tol=None. If tol is not None, max_iter defaults to max_iter=1000. From 0.21, default max_iter will be 1000, and default tol will be 1e-3.\n",
      "  \"and default tol will be 1e-3.\" % type(self), FutureWarning)\n"
     ]
    },
    {
     "name": "stdout",
     "output_type": "stream",
     "text": [
      "[CV]  alpha=0.007525000000000001, learning_rate=optimal, loss=log, penalty=l2, score=0.8978448922446123, total=   4.7s\n",
      "[CV] alpha=0.007525000000000001, learning_rate=optimal, loss=log, penalty=l2 \n"
     ]
    },
    {
     "name": "stderr",
     "output_type": "stream",
     "text": [
      "C:\\Users\\thiagoPanini\\Anaconda3\\lib\\site-packages\\sklearn\\linear_model\\stochastic_gradient.py:128: FutureWarning: max_iter and tol parameters have been added in <class 'sklearn.linear_model.stochastic_gradient.SGDClassifier'> in 0.19. If both are left unset, they default to max_iter=5 and tol=None. If tol is not None, max_iter defaults to max_iter=1000. From 0.21, default max_iter will be 1000, and default tol will be 1e-3.\n",
      "  \"and default tol will be 1e-3.\" % type(self), FutureWarning)\n"
     ]
    },
    {
     "name": "stdout",
     "output_type": "stream",
     "text": [
      "[CV]  alpha=0.007525000000000001, learning_rate=optimal, loss=log, penalty=l2, score=0.8952842926438966, total=   4.6s\n",
      "[CV] alpha=0.01, learning_rate=optimal, loss=hinge, penalty=l1 .......\n"
     ]
    },
    {
     "name": "stderr",
     "output_type": "stream",
     "text": [
      "C:\\Users\\thiagoPanini\\Anaconda3\\lib\\site-packages\\sklearn\\linear_model\\stochastic_gradient.py:128: FutureWarning: max_iter and tol parameters have been added in <class 'sklearn.linear_model.stochastic_gradient.SGDClassifier'> in 0.19. If both are left unset, they default to max_iter=5 and tol=None. If tol is not None, max_iter defaults to max_iter=1000. From 0.21, default max_iter will be 1000, and default tol will be 1e-3.\n",
      "  \"and default tol will be 1e-3.\" % type(self), FutureWarning)\n"
     ]
    },
    {
     "name": "stdout",
     "output_type": "stream",
     "text": [
      "[CV]  alpha=0.01, learning_rate=optimal, loss=hinge, penalty=l1, score=0.8423315336932613, total=   6.0s\n",
      "[CV] alpha=0.01, learning_rate=optimal, loss=hinge, penalty=l1 .......\n"
     ]
    },
    {
     "name": "stderr",
     "output_type": "stream",
     "text": [
      "C:\\Users\\thiagoPanini\\Anaconda3\\lib\\site-packages\\sklearn\\linear_model\\stochastic_gradient.py:128: FutureWarning: max_iter and tol parameters have been added in <class 'sklearn.linear_model.stochastic_gradient.SGDClassifier'> in 0.19. If both are left unset, they default to max_iter=5 and tol=None. If tol is not None, max_iter defaults to max_iter=1000. From 0.21, default max_iter will be 1000, and default tol will be 1e-3.\n",
      "  \"and default tol will be 1e-3.\" % type(self), FutureWarning)\n"
     ]
    },
    {
     "name": "stdout",
     "output_type": "stream",
     "text": [
      "[CV]  alpha=0.01, learning_rate=optimal, loss=hinge, penalty=l1, score=0.8461423071153558, total=   5.8s\n",
      "[CV] alpha=0.01, learning_rate=optimal, loss=hinge, penalty=l1 .......\n"
     ]
    },
    {
     "name": "stderr",
     "output_type": "stream",
     "text": [
      "C:\\Users\\thiagoPanini\\Anaconda3\\lib\\site-packages\\sklearn\\linear_model\\stochastic_gradient.py:128: FutureWarning: max_iter and tol parameters have been added in <class 'sklearn.linear_model.stochastic_gradient.SGDClassifier'> in 0.19. If both are left unset, they default to max_iter=5 and tol=None. If tol is not None, max_iter defaults to max_iter=1000. From 0.21, default max_iter will be 1000, and default tol will be 1e-3.\n",
      "  \"and default tol will be 1e-3.\" % type(self), FutureWarning)\n"
     ]
    },
    {
     "name": "stdout",
     "output_type": "stream",
     "text": [
      "[CV]  alpha=0.01, learning_rate=optimal, loss=hinge, penalty=l1, score=0.8474771215682352, total=   6.0s\n",
      "[CV] alpha=0.01, learning_rate=optimal, loss=hinge, penalty=l2 .......\n"
     ]
    },
    {
     "name": "stderr",
     "output_type": "stream",
     "text": [
      "C:\\Users\\thiagoPanini\\Anaconda3\\lib\\site-packages\\sklearn\\linear_model\\stochastic_gradient.py:128: FutureWarning: max_iter and tol parameters have been added in <class 'sklearn.linear_model.stochastic_gradient.SGDClassifier'> in 0.19. If both are left unset, they default to max_iter=5 and tol=None. If tol is not None, max_iter defaults to max_iter=1000. From 0.21, default max_iter will be 1000, and default tol will be 1e-3.\n",
      "  \"and default tol will be 1e-3.\" % type(self), FutureWarning)\n"
     ]
    },
    {
     "name": "stdout",
     "output_type": "stream",
     "text": [
      "[CV]  alpha=0.01, learning_rate=optimal, loss=hinge, penalty=l2, score=0.891371725654869, total=   2.6s\n",
      "[CV] alpha=0.01, learning_rate=optimal, loss=hinge, penalty=l2 .......\n"
     ]
    },
    {
     "name": "stderr",
     "output_type": "stream",
     "text": [
      "C:\\Users\\thiagoPanini\\Anaconda3\\lib\\site-packages\\sklearn\\linear_model\\stochastic_gradient.py:128: FutureWarning: max_iter and tol parameters have been added in <class 'sklearn.linear_model.stochastic_gradient.SGDClassifier'> in 0.19. If both are left unset, they default to max_iter=5 and tol=None. If tol is not None, max_iter defaults to max_iter=1000. From 0.21, default max_iter will be 1000, and default tol will be 1e-3.\n",
      "  \"and default tol will be 1e-3.\" % type(self), FutureWarning)\n"
     ]
    },
    {
     "name": "stdout",
     "output_type": "stream",
     "text": [
      "[CV]  alpha=0.01, learning_rate=optimal, loss=hinge, penalty=l2, score=0.8966948347417371, total=   2.9s\n",
      "[CV] alpha=0.01, learning_rate=optimal, loss=hinge, penalty=l2 .......\n"
     ]
    },
    {
     "name": "stderr",
     "output_type": "stream",
     "text": [
      "C:\\Users\\thiagoPanini\\Anaconda3\\lib\\site-packages\\sklearn\\linear_model\\stochastic_gradient.py:128: FutureWarning: max_iter and tol parameters have been added in <class 'sklearn.linear_model.stochastic_gradient.SGDClassifier'> in 0.19. If both are left unset, they default to max_iter=5 and tol=None. If tol is not None, max_iter defaults to max_iter=1000. From 0.21, default max_iter will be 1000, and default tol will be 1e-3.\n",
      "  \"and default tol will be 1e-3.\" % type(self), FutureWarning)\n"
     ]
    },
    {
     "name": "stdout",
     "output_type": "stream",
     "text": [
      "[CV]  alpha=0.01, learning_rate=optimal, loss=hinge, penalty=l2, score=0.8953343001450218, total=   2.8s\n",
      "[CV] alpha=0.01, learning_rate=optimal, loss=perceptron, penalty=l1 ..\n"
     ]
    },
    {
     "name": "stderr",
     "output_type": "stream",
     "text": [
      "C:\\Users\\thiagoPanini\\Anaconda3\\lib\\site-packages\\sklearn\\linear_model\\stochastic_gradient.py:128: FutureWarning: max_iter and tol parameters have been added in <class 'sklearn.linear_model.stochastic_gradient.SGDClassifier'> in 0.19. If both are left unset, they default to max_iter=5 and tol=None. If tol is not None, max_iter defaults to max_iter=1000. From 0.21, default max_iter will be 1000, and default tol will be 1e-3.\n",
      "  \"and default tol will be 1e-3.\" % type(self), FutureWarning)\n"
     ]
    },
    {
     "name": "stdout",
     "output_type": "stream",
     "text": [
      "[CV]  alpha=0.01, learning_rate=optimal, loss=perceptron, penalty=l1, score=0.847130573885223, total=   5.9s\n",
      "[CV] alpha=0.01, learning_rate=optimal, loss=perceptron, penalty=l1 ..\n"
     ]
    },
    {
     "name": "stderr",
     "output_type": "stream",
     "text": [
      "C:\\Users\\thiagoPanini\\Anaconda3\\lib\\site-packages\\sklearn\\linear_model\\stochastic_gradient.py:128: FutureWarning: max_iter and tol parameters have been added in <class 'sklearn.linear_model.stochastic_gradient.SGDClassifier'> in 0.19. If both are left unset, they default to max_iter=5 and tol=None. If tol is not None, max_iter defaults to max_iter=1000. From 0.21, default max_iter will be 1000, and default tol will be 1e-3.\n",
      "  \"and default tol will be 1e-3.\" % type(self), FutureWarning)\n"
     ]
    },
    {
     "name": "stdout",
     "output_type": "stream",
     "text": [
      "[CV]  alpha=0.01, learning_rate=optimal, loss=perceptron, penalty=l1, score=0.848192409620481, total=   6.6s\n",
      "[CV] alpha=0.01, learning_rate=optimal, loss=perceptron, penalty=l1 ..\n"
     ]
    },
    {
     "name": "stderr",
     "output_type": "stream",
     "text": [
      "C:\\Users\\thiagoPanini\\Anaconda3\\lib\\site-packages\\sklearn\\linear_model\\stochastic_gradient.py:128: FutureWarning: max_iter and tol parameters have been added in <class 'sklearn.linear_model.stochastic_gradient.SGDClassifier'> in 0.19. If both are left unset, they default to max_iter=5 and tol=None. If tol is not None, max_iter defaults to max_iter=1000. From 0.21, default max_iter will be 1000, and default tol will be 1e-3.\n",
      "  \"and default tol will be 1e-3.\" % type(self), FutureWarning)\n"
     ]
    },
    {
     "name": "stdout",
     "output_type": "stream",
     "text": [
      "[CV]  alpha=0.01, learning_rate=optimal, loss=perceptron, penalty=l1, score=0.8425763864579687, total=   6.4s\n",
      "[CV] alpha=0.01, learning_rate=optimal, loss=perceptron, penalty=l2 ..\n"
     ]
    },
    {
     "name": "stderr",
     "output_type": "stream",
     "text": [
      "C:\\Users\\thiagoPanini\\Anaconda3\\lib\\site-packages\\sklearn\\linear_model\\stochastic_gradient.py:128: FutureWarning: max_iter and tol parameters have been added in <class 'sklearn.linear_model.stochastic_gradient.SGDClassifier'> in 0.19. If both are left unset, they default to max_iter=5 and tol=None. If tol is not None, max_iter defaults to max_iter=1000. From 0.21, default max_iter will be 1000, and default tol will be 1e-3.\n",
      "  \"and default tol will be 1e-3.\" % type(self), FutureWarning)\n"
     ]
    },
    {
     "name": "stdout",
     "output_type": "stream",
     "text": [
      "[CV]  alpha=0.01, learning_rate=optimal, loss=perceptron, penalty=l2, score=0.8887722455508899, total=   2.6s\n",
      "[CV] alpha=0.01, learning_rate=optimal, loss=perceptron, penalty=l2 ..\n"
     ]
    },
    {
     "name": "stderr",
     "output_type": "stream",
     "text": [
      "C:\\Users\\thiagoPanini\\Anaconda3\\lib\\site-packages\\sklearn\\linear_model\\stochastic_gradient.py:128: FutureWarning: max_iter and tol parameters have been added in <class 'sklearn.linear_model.stochastic_gradient.SGDClassifier'> in 0.19. If both are left unset, they default to max_iter=5 and tol=None. If tol is not None, max_iter defaults to max_iter=1000. From 0.21, default max_iter will be 1000, and default tol will be 1e-3.\n",
      "  \"and default tol will be 1e-3.\" % type(self), FutureWarning)\n"
     ]
    },
    {
     "name": "stdout",
     "output_type": "stream",
     "text": [
      "[CV]  alpha=0.01, learning_rate=optimal, loss=perceptron, penalty=l2, score=0.8976948847442372, total=   2.6s\n",
      "[CV] alpha=0.01, learning_rate=optimal, loss=perceptron, penalty=l2 ..\n"
     ]
    },
    {
     "name": "stderr",
     "output_type": "stream",
     "text": [
      "C:\\Users\\thiagoPanini\\Anaconda3\\lib\\site-packages\\sklearn\\linear_model\\stochastic_gradient.py:128: FutureWarning: max_iter and tol parameters have been added in <class 'sklearn.linear_model.stochastic_gradient.SGDClassifier'> in 0.19. If both are left unset, they default to max_iter=5 and tol=None. If tol is not None, max_iter defaults to max_iter=1000. From 0.21, default max_iter will be 1000, and default tol will be 1e-3.\n",
      "  \"and default tol will be 1e-3.\" % type(self), FutureWarning)\n"
     ]
    },
    {
     "name": "stdout",
     "output_type": "stream",
     "text": [
      "[CV]  alpha=0.01, learning_rate=optimal, loss=perceptron, penalty=l2, score=0.8954343151472721, total=   2.9s\n",
      "[CV] alpha=0.01, learning_rate=optimal, loss=log, penalty=l1 .........\n"
     ]
    },
    {
     "name": "stderr",
     "output_type": "stream",
     "text": [
      "C:\\Users\\thiagoPanini\\Anaconda3\\lib\\site-packages\\sklearn\\linear_model\\stochastic_gradient.py:128: FutureWarning: max_iter and tol parameters have been added in <class 'sklearn.linear_model.stochastic_gradient.SGDClassifier'> in 0.19. If both are left unset, they default to max_iter=5 and tol=None. If tol is not None, max_iter defaults to max_iter=1000. From 0.21, default max_iter will be 1000, and default tol will be 1e-3.\n",
      "  \"and default tol will be 1e-3.\" % type(self), FutureWarning)\n"
     ]
    },
    {
     "name": "stdout",
     "output_type": "stream",
     "text": [
      "[CV]  alpha=0.01, learning_rate=optimal, loss=log, penalty=l1, score=0.8416316736652669, total=  12.0s\n",
      "[CV] alpha=0.01, learning_rate=optimal, loss=log, penalty=l1 .........\n"
     ]
    },
    {
     "name": "stderr",
     "output_type": "stream",
     "text": [
      "C:\\Users\\thiagoPanini\\Anaconda3\\lib\\site-packages\\sklearn\\linear_model\\stochastic_gradient.py:128: FutureWarning: max_iter and tol parameters have been added in <class 'sklearn.linear_model.stochastic_gradient.SGDClassifier'> in 0.19. If both are left unset, they default to max_iter=5 and tol=None. If tol is not None, max_iter defaults to max_iter=1000. From 0.21, default max_iter will be 1000, and default tol will be 1e-3.\n",
      "  \"and default tol will be 1e-3.\" % type(self), FutureWarning)\n"
     ]
    },
    {
     "name": "stdout",
     "output_type": "stream",
     "text": [
      "[CV]  alpha=0.01, learning_rate=optimal, loss=log, penalty=l1, score=0.847742387119356, total=  11.9s\n",
      "[CV] alpha=0.01, learning_rate=optimal, loss=log, penalty=l1 .........\n"
     ]
    },
    {
     "name": "stderr",
     "output_type": "stream",
     "text": [
      "C:\\Users\\thiagoPanini\\Anaconda3\\lib\\site-packages\\sklearn\\linear_model\\stochastic_gradient.py:128: FutureWarning: max_iter and tol parameters have been added in <class 'sklearn.linear_model.stochastic_gradient.SGDClassifier'> in 0.19. If both are left unset, they default to max_iter=5 and tol=None. If tol is not None, max_iter defaults to max_iter=1000. From 0.21, default max_iter will be 1000, and default tol will be 1e-3.\n",
      "  \"and default tol will be 1e-3.\" % type(self), FutureWarning)\n"
     ]
    },
    {
     "name": "stdout",
     "output_type": "stream",
     "text": [
      "[CV]  alpha=0.01, learning_rate=optimal, loss=log, penalty=l1, score=0.8501775266289944, total=  11.6s\n",
      "[CV] alpha=0.01, learning_rate=optimal, loss=log, penalty=l2 .........\n"
     ]
    },
    {
     "name": "stderr",
     "output_type": "stream",
     "text": [
      "C:\\Users\\thiagoPanini\\Anaconda3\\lib\\site-packages\\sklearn\\linear_model\\stochastic_gradient.py:128: FutureWarning: max_iter and tol parameters have been added in <class 'sklearn.linear_model.stochastic_gradient.SGDClassifier'> in 0.19. If both are left unset, they default to max_iter=5 and tol=None. If tol is not None, max_iter defaults to max_iter=1000. From 0.21, default max_iter will be 1000, and default tol will be 1e-3.\n",
      "  \"and default tol will be 1e-3.\" % type(self), FutureWarning)\n"
     ]
    },
    {
     "name": "stdout",
     "output_type": "stream",
     "text": [
      "[CV]  alpha=0.01, learning_rate=optimal, loss=log, penalty=l2, score=0.8872225554889022, total=   4.3s\n",
      "[CV] alpha=0.01, learning_rate=optimal, loss=log, penalty=l2 .........\n"
     ]
    },
    {
     "name": "stderr",
     "output_type": "stream",
     "text": [
      "C:\\Users\\thiagoPanini\\Anaconda3\\lib\\site-packages\\sklearn\\linear_model\\stochastic_gradient.py:128: FutureWarning: max_iter and tol parameters have been added in <class 'sklearn.linear_model.stochastic_gradient.SGDClassifier'> in 0.19. If both are left unset, they default to max_iter=5 and tol=None. If tol is not None, max_iter defaults to max_iter=1000. From 0.21, default max_iter will be 1000, and default tol will be 1e-3.\n",
      "  \"and default tol will be 1e-3.\" % type(self), FutureWarning)\n"
     ]
    },
    {
     "name": "stdout",
     "output_type": "stream",
     "text": [
      "[CV]  alpha=0.01, learning_rate=optimal, loss=log, penalty=l2, score=0.8976448822441122, total=   4.4s\n",
      "[CV] alpha=0.01, learning_rate=optimal, loss=log, penalty=l2 .........\n"
     ]
    },
    {
     "name": "stderr",
     "output_type": "stream",
     "text": [
      "C:\\Users\\thiagoPanini\\Anaconda3\\lib\\site-packages\\sklearn\\linear_model\\stochastic_gradient.py:128: FutureWarning: max_iter and tol parameters have been added in <class 'sklearn.linear_model.stochastic_gradient.SGDClassifier'> in 0.19. If both are left unset, they default to max_iter=5 and tol=None. If tol is not None, max_iter defaults to max_iter=1000. From 0.21, default max_iter will be 1000, and default tol will be 1e-3.\n",
      "  \"and default tol will be 1e-3.\" % type(self), FutureWarning)\n"
     ]
    },
    {
     "name": "stdout",
     "output_type": "stream",
     "text": [
      "[CV]  alpha=0.01, learning_rate=optimal, loss=log, penalty=l2, score=0.8956343451517728, total=   4.4s\n"
     ]
    },
    {
     "name": "stderr",
     "output_type": "stream",
     "text": [
      "[Parallel(n_jobs=1)]: Done  90 out of  90 | elapsed:  9.1min finished\n",
      "C:\\Users\\thiagoPanini\\Anaconda3\\lib\\site-packages\\sklearn\\linear_model\\stochastic_gradient.py:128: FutureWarning: max_iter and tol parameters have been added in <class 'sklearn.linear_model.stochastic_gradient.SGDClassifier'> in 0.19. If both are left unset, they default to max_iter=5 and tol=None. If tol is not None, max_iter defaults to max_iter=1000. From 0.21, default max_iter will be 1000, and default tol will be 1e-3.\n",
      "  \"and default tol will be 1e-3.\" % type(self), FutureWarning)\n"
     ]
    },
    {
     "data": {
      "text/plain": [
       "GridSearchCV(cv=3, error_score='raise',\n",
       "       estimator=SGDClassifier(alpha=0.0001, average=False, class_weight=None, epsilon=0.1,\n",
       "       eta0=0.0, fit_intercept=True, l1_ratio=0.15,\n",
       "       learning_rate='optimal', loss='hinge', max_iter=None, n_iter=None,\n",
       "       n_jobs=1, penalty='l2', power_t=0.5, random_state=None,\n",
       "       shuffle=True, tol=None, verbose=0, warm_start=False),\n",
       "       fit_params=None, iid=True, n_jobs=1,\n",
       "       param_grid=[{'loss': ['hinge', 'perceptron', 'log'], 'penalty': ['l1', 'l2'], 'alpha': array([0.0001 , 0.00258, 0.00505, 0.00753, 0.01   ]), 'learning_rate': ['optimal']}],\n",
       "       pre_dispatch='2*n_jobs', refit=True, return_train_score='warn',\n",
       "       scoring='accuracy', verbose=4)"
      ]
     },
     "execution_count": 49,
     "metadata": {},
     "output_type": "execute_result"
    }
   ],
   "source": [
    "# Aplicando GridSearchCV\n",
    "from sklearn.model_selection import GridSearchCV\n",
    "\n",
    "# Definindo parâmetros para Decision Trees\n",
    "param_grid_sgd = [\n",
    "    {\n",
    "        'loss': ['hinge', 'perceptron', 'log'],\n",
    "        'penalty': ['l1', 'l2'],\n",
    "        'alpha': np.linspace(0.0001, 0.01, 5),\n",
    "        'learning_rate': ['optimal']\n",
    "    }\n",
    "    \n",
    "]\n",
    "\n",
    "# Criando classificador\n",
    "sgd_clf = SGDClassifier()\n",
    "\n",
    "# Treinando e procurando a melhor combinação\n",
    "grid_search = GridSearchCV(sgd_clf, param_grid_sgd, cv=3, \n",
    "                           scoring='accuracy', verbose=4)\n",
    "grid_search.fit(X_train_scaled, y_train)"
   ]
  },
  {
   "cell_type": "markdown",
   "metadata": {},
   "source": [
    "### Avaliando Resultados"
   ]
  },
  {
   "cell_type": "code",
   "execution_count": 55,
   "metadata": {
    "ExecuteTime": {
     "end_time": "2019-01-04T20:40:11.167889Z",
     "start_time": "2019-01-04T20:40:11.160906Z"
    }
   },
   "outputs": [
    {
     "data": {
      "text/plain": [
       "{'alpha': 0.0001,\n",
       " 'learning_rate': 'optimal',\n",
       " 'loss': 'perceptron',\n",
       " 'penalty': 'l2'}"
      ]
     },
     "execution_count": 55,
     "metadata": {},
     "output_type": "execute_result"
    }
   ],
   "source": [
    "# Verificando melhores parâmetros\n",
    "grid_search.best_params_"
   ]
  },
  {
   "cell_type": "code",
   "execution_count": 56,
   "metadata": {
    "ExecuteTime": {
     "end_time": "2019-01-04T20:40:13.410298Z",
     "start_time": "2019-01-04T20:40:13.404314Z"
    }
   },
   "outputs": [
    {
     "data": {
      "text/plain": [
       "0.9101333333333333"
      ]
     },
     "execution_count": 56,
     "metadata": {},
     "output_type": "execute_result"
    }
   ],
   "source": [
    "# Verificando score\n",
    "grid_search.best_score_"
   ]
  },
  {
   "cell_type": "code",
   "execution_count": 57,
   "metadata": {
    "ExecuteTime": {
     "end_time": "2019-01-04T20:40:14.042614Z",
     "start_time": "2019-01-04T20:40:14.036630Z"
    }
   },
   "outputs": [
    {
     "data": {
      "text/plain": [
       "{'acc_train': 0.8885, 'acc_train_cv': 0.8594, 'acc_train_scaled': 0.9105}"
      ]
     },
     "execution_count": 57,
     "metadata": {},
     "output_type": "execute_result"
    }
   ],
   "source": [
    "dict_accs_sgd"
   ]
  },
  {
   "cell_type": "markdown",
   "metadata": {},
   "source": [
    "Aparentemente, não houve melhora no score se comparado com os índices obtidos com os dados padronizados. Entretanto, provavelmente será possível encontrar melhoriar nos dados de teste."
   ]
  },
  {
   "cell_type": "code",
   "execution_count": 59,
   "metadata": {
    "ExecuteTime": {
     "end_time": "2019-01-04T20:41:32.080932Z",
     "start_time": "2019-01-04T20:41:32.076944Z"
    }
   },
   "outputs": [],
   "source": [
    "# Salvando resultados\n",
    "dict_accs_sgd['acc_train_grid'] = round(grid_search.best_score_, 4)"
   ]
  },
  {
   "cell_type": "markdown",
   "metadata": {},
   "source": [
    "### Avaliando nos Dados de Teste"
   ]
  },
  {
   "cell_type": "code",
   "execution_count": 63,
   "metadata": {
    "ExecuteTime": {
     "end_time": "2019-01-04T20:43:46.129555Z",
     "start_time": "2019-01-04T20:43:41.954455Z"
    }
   },
   "outputs": [
    {
     "name": "stderr",
     "output_type": "stream",
     "text": [
      "C:\\Users\\thiagoPanini\\Anaconda3\\lib\\site-packages\\sklearn\\linear_model\\stochastic_gradient.py:128: FutureWarning: max_iter and tol parameters have been added in <class 'sklearn.linear_model.stochastic_gradient.SGDClassifier'> in 0.19. If both are left unset, they default to max_iter=5 and tol=None. If tol is not None, max_iter defaults to max_iter=1000. From 0.21, default max_iter will be 1000, and default tol will be 1e-3.\n",
      "  \"and default tol will be 1e-3.\" % type(self), FutureWarning)\n"
     ]
    },
    {
     "name": "stdout",
     "output_type": "stream",
     "text": [
      "Acurácia nos dados de teste (sem tratamento): 0.8730\n"
     ]
    }
   ],
   "source": [
    "# 1 - Acurácia sem tratamento\n",
    "\n",
    "sgd_clf = SGDClassifier()\n",
    "sgd_clf.fit(X_train, y_train)\n",
    "sgd_pred = sgd_clf.predict(X_train)\n",
    "\n",
    "acc_test_sgd = accuracy_score(y_train, sgd_pred)\n",
    "print(f'Acurácia nos dados de teste (sem tratamento): {acc_test_sgd:.4f}')"
   ]
  },
  {
   "cell_type": "code",
   "execution_count": 74,
   "metadata": {
    "ExecuteTime": {
     "end_time": "2019-01-04T20:52:06.404160Z",
     "start_time": "2019-01-04T20:52:06.399174Z"
    }
   },
   "outputs": [],
   "source": [
    "# Salvando resultados\n",
    "dict_accs_sgd['acc_test'] = round(acc_test_sgd, 4)"
   ]
  },
  {
   "cell_type": "code",
   "execution_count": 65,
   "metadata": {
    "ExecuteTime": {
     "end_time": "2019-01-04T20:45:05.841365Z",
     "start_time": "2019-01-04T20:44:57.691190Z"
    }
   },
   "outputs": [
    {
     "name": "stderr",
     "output_type": "stream",
     "text": [
      "C:\\Users\\thiagoPanini\\Anaconda3\\lib\\site-packages\\sklearn\\linear_model\\stochastic_gradient.py:128: FutureWarning: max_iter and tol parameters have been added in <class 'sklearn.linear_model.stochastic_gradient.SGDClassifier'> in 0.19. If both are left unset, they default to max_iter=5 and tol=None. If tol is not None, max_iter defaults to max_iter=1000. From 0.21, default max_iter will be 1000, and default tol will be 1e-3.\n",
      "  \"and default tol will be 1e-3.\" % type(self), FutureWarning)\n",
      "C:\\Users\\thiagoPanini\\Anaconda3\\lib\\site-packages\\sklearn\\linear_model\\stochastic_gradient.py:128: FutureWarning: max_iter and tol parameters have been added in <class 'sklearn.linear_model.stochastic_gradient.SGDClassifier'> in 0.19. If both are left unset, they default to max_iter=5 and tol=None. If tol is not None, max_iter defaults to max_iter=1000. From 0.21, default max_iter will be 1000, and default tol will be 1e-3.\n",
      "  \"and default tol will be 1e-3.\" % type(self), FutureWarning)\n",
      "C:\\Users\\thiagoPanini\\Anaconda3\\lib\\site-packages\\sklearn\\linear_model\\stochastic_gradient.py:128: FutureWarning: max_iter and tol parameters have been added in <class 'sklearn.linear_model.stochastic_gradient.SGDClassifier'> in 0.19. If both are left unset, they default to max_iter=5 and tol=None. If tol is not None, max_iter defaults to max_iter=1000. From 0.21, default max_iter will be 1000, and default tol will be 1e-3.\n",
      "  \"and default tol will be 1e-3.\" % type(self), FutureWarning)\n"
     ]
    },
    {
     "name": "stdout",
     "output_type": "stream",
     "text": [
      "Scores: [0.8634773  0.87564378 0.86838026]\n",
      "Média: 0.8692\n",
      "Desvio Padrão: 0.0050\n"
     ]
    }
   ],
   "source": [
    "# 2 - Acurácia com cross validation\n",
    "\n",
    "scores_test = cross_val_score(sgd_clf, X_train, y_train,\n",
    "                             cv=3, scoring='accuracy')\n",
    "\n",
    "display_scores(scores_test)"
   ]
  },
  {
   "cell_type": "code",
   "execution_count": 66,
   "metadata": {
    "ExecuteTime": {
     "end_time": "2019-01-04T20:45:34.326283Z",
     "start_time": "2019-01-04T20:45:34.322295Z"
    }
   },
   "outputs": [],
   "source": [
    "# Salvando resultados\n",
    "dict_accs_sgd['acc_test_cv'] = round(scores_test.mean(), 4)"
   ]
  },
  {
   "cell_type": "code",
   "execution_count": 67,
   "metadata": {
    "ExecuteTime": {
     "end_time": "2019-01-04T20:49:14.402970Z",
     "start_time": "2019-01-04T20:49:09.100149Z"
    }
   },
   "outputs": [
    {
     "name": "stderr",
     "output_type": "stream",
     "text": [
      "C:\\Users\\thiagoPanini\\Anaconda3\\lib\\site-packages\\sklearn\\utils\\validation.py:475: DataConversionWarning: Data with input dtype uint8 was converted to float64 by StandardScaler.\n",
      "  warnings.warn(msg, DataConversionWarning)\n",
      "C:\\Users\\thiagoPanini\\Anaconda3\\lib\\site-packages\\sklearn\\linear_model\\stochastic_gradient.py:128: FutureWarning: max_iter and tol parameters have been added in <class 'sklearn.linear_model.stochastic_gradient.SGDClassifier'> in 0.19. If both are left unset, they default to max_iter=5 and tol=None. If tol is not None, max_iter defaults to max_iter=1000. From 0.21, default max_iter will be 1000, and default tol will be 1e-3.\n",
      "  \"and default tol will be 1e-3.\" % type(self), FutureWarning)\n"
     ]
    },
    {
     "name": "stdout",
     "output_type": "stream",
     "text": [
      "Scores com dados padronizados: 0.9117\n"
     ]
    }
   ],
   "source": [
    "# 3 - Acurácia com dados padronizados\n",
    "\n",
    "X_train_scaled = scaler.fit_transform(X_train)\n",
    "X_test_scaled = scaler.fit_transform(X_test)\n",
    "\n",
    "sgd_clf.fit(X_train_scaled, y_train)\n",
    "pred_scaled = sgd_clf.predict(X_test_scaled)\n",
    "\n",
    "test_scaled_score = accuracy_score(y_test, pred_scaled)\n",
    "print(f'Scores com dados padronizados: {test_scaled_score:.4f}')"
   ]
  },
  {
   "cell_type": "code",
   "execution_count": 69,
   "metadata": {
    "ExecuteTime": {
     "end_time": "2019-01-04T20:49:57.169310Z",
     "start_time": "2019-01-04T20:49:57.165322Z"
    }
   },
   "outputs": [],
   "source": [
    "# Salvando resultados\n",
    "dict_accs_sgd['acc_test_scaled'] = round(test_scaled_score, 4)"
   ]
  },
  {
   "cell_type": "code",
   "execution_count": 70,
   "metadata": {
    "ExecuteTime": {
     "end_time": "2019-01-04T20:50:24.479533Z",
     "start_time": "2019-01-04T20:50:24.451609Z"
    }
   },
   "outputs": [
    {
     "name": "stdout",
     "output_type": "stream",
     "text": [
      "Acurácia final nos dados de treino: 0.9125%\n"
     ]
    }
   ],
   "source": [
    "# 4 - Performance nos dados de teste com grid_search\n",
    "final_model = grid_search.best_estimator_\n",
    "\n",
    "final_train_pred = final_model.predict(X_test_scaled)\n",
    "final_acc_train = accuracy_score(y_test, final_train_pred)\n",
    "print(f'Acurácia final nos dados de treino: {final_acc_train:.4f}%')"
   ]
  },
  {
   "cell_type": "code",
   "execution_count": 72,
   "metadata": {
    "ExecuteTime": {
     "end_time": "2019-01-04T20:51:07.224798Z",
     "start_time": "2019-01-04T20:51:07.220809Z"
    }
   },
   "outputs": [],
   "source": [
    "# Salvando resultados\n",
    "dict_accs_sgd['acc_test_grid'] = round(final_acc_train, 4)"
   ]
  },
  {
   "cell_type": "code",
   "execution_count": 75,
   "metadata": {
    "ExecuteTime": {
     "end_time": "2019-01-04T20:52:10.579589Z",
     "start_time": "2019-01-04T20:52:10.574606Z"
    }
   },
   "outputs": [
    {
     "data": {
      "text/plain": [
       "{'acc_test': 0.873,\n",
       " 'acc_test_cv': 0.8692,\n",
       " 'acc_test_grid': 0.9125,\n",
       " 'acc_test_scaled': 0.9117,\n",
       " 'acc_train': 0.8885,\n",
       " 'acc_train_cv': 0.8594,\n",
       " 'acc_train_grid': 0.9101,\n",
       " 'acc_train_scaled': 0.9105}"
      ]
     },
     "execution_count": 75,
     "metadata": {},
     "output_type": "execute_result"
    }
   ],
   "source": [
    "# Salvando resultados finais\n",
    "dict_accs_sgd"
   ]
  },
  {
   "cell_type": "code",
   "execution_count": 76,
   "metadata": {
    "ExecuteTime": {
     "end_time": "2019-01-04T20:52:44.874902Z",
     "start_time": "2019-01-04T20:52:44.625387Z"
    }
   },
   "outputs": [],
   "source": [
    "# Transformando em um dataFrame\n",
    "dataset_accs = dataset_accs.append(dict_accs_sgd, ignore_index=True)"
   ]
  },
  {
   "cell_type": "code",
   "execution_count": 80,
   "metadata": {
    "ExecuteTime": {
     "end_time": "2019-01-04T20:54:03.545746Z",
     "start_time": "2019-01-04T20:54:03.523804Z"
    }
   },
   "outputs": [
    {
     "data": {
      "text/html": [
       "<div>\n",
       "<style scoped>\n",
       "    .dataframe tbody tr th:only-of-type {\n",
       "        vertical-align: middle;\n",
       "    }\n",
       "\n",
       "    .dataframe tbody tr th {\n",
       "        vertical-align: top;\n",
       "    }\n",
       "\n",
       "    .dataframe thead th {\n",
       "        text-align: right;\n",
       "    }\n",
       "</style>\n",
       "<table border=\"1\" class=\"dataframe\">\n",
       "  <thead>\n",
       "    <tr style=\"text-align: right;\">\n",
       "      <th></th>\n",
       "      <th>acc_train</th>\n",
       "      <th>acc_train_cv</th>\n",
       "      <th>acc_train_scaled</th>\n",
       "      <th>acc_train_grid</th>\n",
       "      <th>acc_test</th>\n",
       "      <th>acc_test_cv</th>\n",
       "      <th>acc_test_scaled</th>\n",
       "      <th>acc_test_grid</th>\n",
       "    </tr>\n",
       "  </thead>\n",
       "  <tbody>\n",
       "    <tr>\n",
       "      <th>dtrees</th>\n",
       "      <td>1.0000</td>\n",
       "      <td>0.8617</td>\n",
       "      <td>0.8629</td>\n",
       "      <td>0.9571</td>\n",
       "      <td>0.878</td>\n",
       "      <td>0.7650</td>\n",
       "      <td>0.7645</td>\n",
       "      <td>0.8356</td>\n",
       "    </tr>\n",
       "    <tr>\n",
       "      <th>sgd_clf</th>\n",
       "      <td>0.8885</td>\n",
       "      <td>0.8594</td>\n",
       "      <td>0.9105</td>\n",
       "      <td>0.9101</td>\n",
       "      <td>0.873</td>\n",
       "      <td>0.8692</td>\n",
       "      <td>0.9117</td>\n",
       "      <td>0.9125</td>\n",
       "    </tr>\n",
       "  </tbody>\n",
       "</table>\n",
       "</div>"
      ],
      "text/plain": [
       "         acc_train  acc_train_cv  acc_train_scaled  acc_train_grid  acc_test  \\\n",
       "dtrees      1.0000        0.8617            0.8629          0.9571     0.878   \n",
       "sgd_clf     0.8885        0.8594            0.9105          0.9101     0.873   \n",
       "\n",
       "         acc_test_cv  acc_test_scaled  acc_test_grid  \n",
       "dtrees        0.7650           0.7645         0.8356  \n",
       "sgd_clf       0.8692           0.9117         0.9125  "
      ]
     },
     "execution_count": 80,
     "metadata": {},
     "output_type": "execute_result"
    }
   ],
   "source": [
    "# Acertando alguns detalhes\n",
    "dataset_accs.index = ['dtrees', 'sgd_clf']\n",
    "dataset_accs"
   ]
  },
  {
   "cell_type": "code",
   "execution_count": 81,
   "metadata": {
    "ExecuteTime": {
     "end_time": "2019-01-04T20:55:07.557387Z",
     "start_time": "2019-01-04T20:55:07.406510Z"
    }
   },
   "outputs": [],
   "source": [
    "# Salvando arquivo\n",
    "dataset_accs.to_csv('dataset_accs.csv', index=False)"
   ]
  },
  {
   "cell_type": "markdown",
   "metadata": {},
   "source": [
    "## Random Forest"
   ]
  },
  {
   "cell_type": "code",
   "execution_count": 13,
   "metadata": {
    "ExecuteTime": {
     "end_time": "2019-01-05T15:39:50.737631Z",
     "start_time": "2019-01-05T15:39:50.560231Z"
    }
   },
   "outputs": [
    {
     "data": {
      "text/html": [
       "<div>\n",
       "<style scoped>\n",
       "    .dataframe tbody tr th:only-of-type {\n",
       "        vertical-align: middle;\n",
       "    }\n",
       "\n",
       "    .dataframe tbody tr th {\n",
       "        vertical-align: top;\n",
       "    }\n",
       "\n",
       "    .dataframe thead th {\n",
       "        text-align: right;\n",
       "    }\n",
       "</style>\n",
       "<table border=\"1\" class=\"dataframe\">\n",
       "  <thead>\n",
       "    <tr style=\"text-align: right;\">\n",
       "      <th></th>\n",
       "      <th>acc_train</th>\n",
       "      <th>acc_train_cv</th>\n",
       "      <th>acc_train_scaled</th>\n",
       "      <th>acc_train_grid</th>\n",
       "      <th>acc_test</th>\n",
       "      <th>acc_test_cv</th>\n",
       "      <th>acc_test_scaled</th>\n",
       "      <th>acc_test_grid</th>\n",
       "    </tr>\n",
       "  </thead>\n",
       "  <tbody>\n",
       "    <tr>\n",
       "      <th>dtree</th>\n",
       "      <td>1.0000</td>\n",
       "      <td>0.8617</td>\n",
       "      <td>0.8629</td>\n",
       "      <td>0.9571</td>\n",
       "      <td>0.878</td>\n",
       "      <td>0.7650</td>\n",
       "      <td>0.7645</td>\n",
       "      <td>0.8356</td>\n",
       "    </tr>\n",
       "    <tr>\n",
       "      <th>sgd_clf</th>\n",
       "      <td>0.8885</td>\n",
       "      <td>0.8594</td>\n",
       "      <td>0.9105</td>\n",
       "      <td>0.9101</td>\n",
       "      <td>0.873</td>\n",
       "      <td>0.8692</td>\n",
       "      <td>0.9117</td>\n",
       "      <td>0.9125</td>\n",
       "    </tr>\n",
       "  </tbody>\n",
       "</table>\n",
       "</div>"
      ],
      "text/plain": [
       "         acc_train  acc_train_cv  acc_train_scaled  acc_train_grid  acc_test  \\\n",
       "dtree       1.0000        0.8617            0.8629          0.9571     0.878   \n",
       "sgd_clf     0.8885        0.8594            0.9105          0.9101     0.873   \n",
       "\n",
       "         acc_test_cv  acc_test_scaled  acc_test_grid  \n",
       "dtree         0.7650           0.7645         0.8356  \n",
       "sgd_clf       0.8692           0.9117         0.9125  "
      ]
     },
     "execution_count": 13,
     "metadata": {},
     "output_type": "execute_result"
    }
   ],
   "source": [
    "# Lendo dataset e preparando DataFrame\n",
    "X_train, y_train, X_test, y_test = prepare_mnist()\n",
    "\n",
    "# Lendo arquivo de armazenamento de performance\n",
    "import pandas as pd\n",
    "\n",
    "path = 'C:/Users/thiagoPanini/data-science-repos/coursera-stanford/'\n",
    "root = 'machine-learning/notations/semana-4/python-programs/'\n",
    "file_name = 'dataset_accs.csv'\n",
    "\n",
    "dataset_accs = pd.read_csv(path + root + file_name)\n",
    "dataset_accs.index = ['dtree', 'sgd_clf']\n",
    "\n",
    "# Criando dicionário vazio\n",
    "dict_accs_forest = {}\n",
    "\n",
    "dataset_accs"
   ]
  },
  {
   "cell_type": "markdown",
   "metadata": {},
   "source": [
    "### Dados de Treino"
   ]
  },
  {
   "cell_type": "code",
   "execution_count": 14,
   "metadata": {
    "ExecuteTime": {
     "end_time": "2019-01-05T15:40:30.434350Z",
     "start_time": "2019-01-05T15:40:19.189753Z"
    }
   },
   "outputs": [
    {
     "name": "stdout",
     "output_type": "stream",
     "text": [
      "Acurácia com dados de treino: 0.9994\n"
     ]
    }
   ],
   "source": [
    "# Importando algoritmo\n",
    "from sklearn.ensemble import RandomForestClassifier\n",
    "from sklearn.metrics import accuracy_score\n",
    "\n",
    "# Treinando modelo\n",
    "forest_clf = RandomForestClassifier()\n",
    "forest_clf.fit(X_train, y_train)\n",
    "\n",
    "# Avaliando acurácia\n",
    "forest_pred_train = forest_clf.predict(X_train)\n",
    "forest_acc_train = accuracy_score(y_train, forest_pred_train)\n",
    "\n",
    "# Comunicando resultado\n",
    "print(f'Acurácia com dados de treino: {forest_acc_train:.4f}')\n",
    "\n",
    "# Salvando dados\n",
    "dict_accs_forest['acc_train'] = round(forest_acc_train, 4)"
   ]
  },
  {
   "cell_type": "code",
   "execution_count": 16,
   "metadata": {
    "ExecuteTime": {
     "end_time": "2019-01-05T15:41:43.324999Z",
     "start_time": "2019-01-05T15:41:25.912732Z"
    }
   },
   "outputs": [
    {
     "name": "stdout",
     "output_type": "stream",
     "text": [
      "Scores: [0.94171166 0.93559678 0.94054108]\n",
      "Média: 0.9393\n",
      "Desvio Padrão: 0.0027\n"
     ]
    }
   ],
   "source": [
    "# Aplicando cross validation para verificar overfitting\n",
    "from sklearn.model_selection import cross_val_score\n",
    "\n",
    "# Aplicando validação cruzada\n",
    "forest_train_scores = cross_val_score(forest_clf, X_train, y_train,\n",
    "                                     cv=3, scoring='accuracy')\n",
    "display_scores(forest_train_scores)\n",
    "\n",
    "# Salvando resultados\n",
    "dict_accs_forest['acc_train_cv'] = round(forest_train_scores.mean(), 4)"
   ]
  },
  {
   "cell_type": "markdown",
   "metadata": {},
   "source": [
    "A queda não foi tão acentuada quanto no modelo ```DecisionTrees```."
   ]
  },
  {
   "cell_type": "code",
   "execution_count": 17,
   "metadata": {
    "ExecuteTime": {
     "end_time": "2019-01-05T15:42:17.706703Z",
     "start_time": "2019-01-05T15:41:49.635509Z"
    }
   },
   "outputs": [
    {
     "name": "stderr",
     "output_type": "stream",
     "text": [
      "C:\\Users\\thiagoPanini\\Anaconda3\\lib\\site-packages\\sklearn\\utils\\validation.py:475: DataConversionWarning: Data with input dtype uint8 was converted to float64 by StandardScaler.\n",
      "  warnings.warn(msg, DataConversionWarning)\n"
     ]
    },
    {
     "name": "stdout",
     "output_type": "stream",
     "text": [
      "Scores: [0.94276145 0.9379469  0.94294144]\n",
      "Média: 0.9412\n",
      "Desvio Padrão: 0.0023\n"
     ]
    }
   ],
   "source": [
    "# Aplicando padronização\n",
    "from sklearn.preprocessing import StandardScaler\n",
    "\n",
    "scaler = StandardScaler()\n",
    "X_train_scaled = scaler.fit_transform(X_train)\n",
    "\n",
    "forest_clf.fit(X_train_scaled, y_train)\n",
    "\n",
    "# Aplicando validação cruzada\n",
    "forest_scaled_scores = cross_val_score(forest_clf, X_train_scaled, y_train,\n",
    "                                     cv=3, scoring='accuracy')\n",
    "display_scores(forest_scaled_scores)\n",
    "\n",
    "# Salvando resultados\n",
    "dict_accs_forest['acc_train_scaled'] = round(forest_scaled_scores.mean(), 4)"
   ]
  },
  {
   "cell_type": "code",
   "execution_count": 18,
   "metadata": {
    "ExecuteTime": {
     "end_time": "2019-01-05T15:42:57.779199Z",
     "start_time": "2019-01-05T15:42:57.771882Z"
    }
   },
   "outputs": [
    {
     "data": {
      "text/plain": [
       "{'acc_train': 0.9994, 'acc_train_cv': 0.9393, 'acc_train_scaled': 0.9412}"
      ]
     },
     "execution_count": 18,
     "metadata": {},
     "output_type": "execute_result"
    }
   ],
   "source": [
    "# Verificando dados até o momento\n",
    "dict_accs_forest"
   ]
  },
  {
   "cell_type": "markdown",
   "metadata": {},
   "source": [
    "### Tunando Hiperparâmetros"
   ]
  },
  {
   "cell_type": "code",
   "execution_count": 19,
   "metadata": {
    "ExecuteTime": {
     "end_time": "2019-01-05T16:26:33.721062Z",
     "start_time": "2019-01-05T15:43:41.309758Z"
    }
   },
   "outputs": [
    {
     "name": "stdout",
     "output_type": "stream",
     "text": [
      "Fitting 3 folds for each of 64 candidates, totalling 192 fits\n",
      "[CV] bootstrap=True, criterion=gini, max_depth=None, n_estimators=5 ..\n",
      "[CV]  bootstrap=True, criterion=gini, max_depth=None, n_estimators=5, score=0.9148670265946811, total=   3.2s\n",
      "[CV] bootstrap=True, criterion=gini, max_depth=None, n_estimators=5 ..\n"
     ]
    },
    {
     "name": "stderr",
     "output_type": "stream",
     "text": [
      "[Parallel(n_jobs=1)]: Done   1 out of   1 | elapsed:    3.4s remaining:    0.0s\n"
     ]
    },
    {
     "name": "stdout",
     "output_type": "stream",
     "text": [
      "[CV]  bootstrap=True, criterion=gini, max_depth=None, n_estimators=5, score=0.9092954647732386, total=   3.1s\n",
      "[CV] bootstrap=True, criterion=gini, max_depth=None, n_estimators=5 ..\n"
     ]
    },
    {
     "name": "stderr",
     "output_type": "stream",
     "text": [
      "[Parallel(n_jobs=1)]: Done   2 out of   2 | elapsed:    7.1s remaining:    0.0s\n"
     ]
    },
    {
     "name": "stdout",
     "output_type": "stream",
     "text": [
      "[CV]  bootstrap=True, criterion=gini, max_depth=None, n_estimators=5, score=0.9106866029904486, total=   2.2s\n",
      "[CV] bootstrap=True, criterion=gini, max_depth=None, n_estimators=10 .\n",
      "[CV]  bootstrap=True, criterion=gini, max_depth=None, n_estimators=10, score=0.9420115976804639, total=   4.7s\n",
      "[CV] bootstrap=True, criterion=gini, max_depth=None, n_estimators=10 .\n",
      "[CV]  bootstrap=True, criterion=gini, max_depth=None, n_estimators=10, score=0.9367968398419921, total=   5.4s\n",
      "[CV] bootstrap=True, criterion=gini, max_depth=None, n_estimators=10 .\n",
      "[CV]  bootstrap=True, criterion=gini, max_depth=None, n_estimators=10, score=0.9399909986497975, total=   3.3s\n",
      "[CV] bootstrap=True, criterion=gini, max_depth=None, n_estimators=20 .\n",
      "[CV]  bootstrap=True, criterion=gini, max_depth=None, n_estimators=20, score=0.9551589682063587, total=  10.8s\n",
      "[CV] bootstrap=True, criterion=gini, max_depth=None, n_estimators=20 .\n",
      "[CV]  bootstrap=True, criterion=gini, max_depth=None, n_estimators=20, score=0.9528976448822442, total=  10.7s\n",
      "[CV] bootstrap=True, criterion=gini, max_depth=None, n_estimators=20 .\n",
      "[CV]  bootstrap=True, criterion=gini, max_depth=None, n_estimators=20, score=0.9569435415312297, total=  11.0s\n",
      "[CV] bootstrap=True, criterion=gini, max_depth=None, n_estimators=50 .\n",
      "[CV]  bootstrap=True, criterion=gini, max_depth=None, n_estimators=50, score=0.9636572685462907, total=  26.8s\n",
      "[CV] bootstrap=True, criterion=gini, max_depth=None, n_estimators=50 .\n",
      "[CV]  bootstrap=True, criterion=gini, max_depth=None, n_estimators=50, score=0.9627981399069954, total=  26.7s\n",
      "[CV] bootstrap=True, criterion=gini, max_depth=None, n_estimators=50 .\n",
      "[CV]  bootstrap=True, criterion=gini, max_depth=None, n_estimators=50, score=0.9636445466820023, total=  26.4s\n",
      "[CV] bootstrap=True, criterion=gini, max_depth=5, n_estimators=5 .....\n",
      "[CV]  bootstrap=True, criterion=gini, max_depth=5, n_estimators=5, score=0.7566986602679464, total=   1.7s\n",
      "[CV] bootstrap=True, criterion=gini, max_depth=5, n_estimators=5 .....\n",
      "[CV]  bootstrap=True, criterion=gini, max_depth=5, n_estimators=5, score=0.7413870693534677, total=   1.5s\n",
      "[CV] bootstrap=True, criterion=gini, max_depth=5, n_estimators=5 .....\n",
      "[CV]  bootstrap=True, criterion=gini, max_depth=5, n_estimators=5, score=0.7651647747162075, total=   1.5s\n",
      "[CV] bootstrap=True, criterion=gini, max_depth=5, n_estimators=10 ....\n",
      "[CV]  bootstrap=True, criterion=gini, max_depth=5, n_estimators=10, score=0.814887022595481, total=   2.4s\n",
      "[CV] bootstrap=True, criterion=gini, max_depth=5, n_estimators=10 ....\n",
      "[CV]  bootstrap=True, criterion=gini, max_depth=5, n_estimators=10, score=0.7848392419620981, total=   2.5s\n",
      "[CV] bootstrap=True, criterion=gini, max_depth=5, n_estimators=10 ....\n",
      "[CV]  bootstrap=True, criterion=gini, max_depth=5, n_estimators=10, score=0.8083712556883532, total=   2.5s\n",
      "[CV] bootstrap=True, criterion=gini, max_depth=5, n_estimators=20 ....\n",
      "[CV]  bootstrap=True, criterion=gini, max_depth=5, n_estimators=20, score=0.8369826034793041, total=   4.5s\n",
      "[CV] bootstrap=True, criterion=gini, max_depth=5, n_estimators=20 ....\n",
      "[CV]  bootstrap=True, criterion=gini, max_depth=5, n_estimators=20, score=0.8311415570778539, total=   4.5s\n",
      "[CV] bootstrap=True, criterion=gini, max_depth=5, n_estimators=20 ....\n",
      "[CV]  bootstrap=True, criterion=gini, max_depth=5, n_estimators=20, score=0.83852577886683, total=   4.6s\n",
      "[CV] bootstrap=True, criterion=gini, max_depth=5, n_estimators=50 ....\n",
      "[CV]  bootstrap=True, criterion=gini, max_depth=5, n_estimators=50, score=0.8534793041391722, total=  10.5s\n",
      "[CV] bootstrap=True, criterion=gini, max_depth=5, n_estimators=50 ....\n",
      "[CV]  bootstrap=True, criterion=gini, max_depth=5, n_estimators=50, score=0.8503925196259813, total=  10.4s\n",
      "[CV] bootstrap=True, criterion=gini, max_depth=5, n_estimators=50 ....\n",
      "[CV]  bootstrap=True, criterion=gini, max_depth=5, n_estimators=50, score=0.8514277141571236, total=  10.4s\n",
      "[CV] bootstrap=True, criterion=gini, max_depth=10, n_estimators=5 ....\n",
      "[CV]  bootstrap=True, criterion=gini, max_depth=10, n_estimators=5, score=0.9040691861627674, total=   2.3s\n",
      "[CV] bootstrap=True, criterion=gini, max_depth=10, n_estimators=5 ....\n",
      "[CV]  bootstrap=True, criterion=gini, max_depth=10, n_estimators=5, score=0.8935946797339867, total=   2.2s\n",
      "[CV] bootstrap=True, criterion=gini, max_depth=10, n_estimators=5 ....\n",
      "[CV]  bootstrap=True, criterion=gini, max_depth=10, n_estimators=5, score=0.8992848927339101, total=   2.3s\n",
      "[CV] bootstrap=True, criterion=gini, max_depth=10, n_estimators=10 ...\n",
      "[CV]  bootstrap=True, criterion=gini, max_depth=10, n_estimators=10, score=0.9238152369526095, total=   4.0s\n",
      "[CV] bootstrap=True, criterion=gini, max_depth=10, n_estimators=10 ...\n",
      "[CV]  bootstrap=True, criterion=gini, max_depth=10, n_estimators=10, score=0.919845992299615, total=   4.0s\n",
      "[CV] bootstrap=True, criterion=gini, max_depth=10, n_estimators=10 ...\n",
      "[CV]  bootstrap=True, criterion=gini, max_depth=10, n_estimators=10, score=0.9254388158223733, total=   4.2s\n",
      "[CV] bootstrap=True, criterion=gini, max_depth=10, n_estimators=20 ...\n",
      "[CV]  bootstrap=True, criterion=gini, max_depth=10, n_estimators=20, score=0.9368126374725055, total=   7.2s\n",
      "[CV] bootstrap=True, criterion=gini, max_depth=10, n_estimators=20 ...\n",
      "[CV]  bootstrap=True, criterion=gini, max_depth=10, n_estimators=20, score=0.9329466473323667, total=   7.3s\n",
      "[CV] bootstrap=True, criterion=gini, max_depth=10, n_estimators=20 ...\n",
      "[CV]  bootstrap=True, criterion=gini, max_depth=10, n_estimators=20, score=0.9356403460519078, total=   7.3s\n",
      "[CV] bootstrap=True, criterion=gini, max_depth=10, n_estimators=50 ...\n",
      "[CV]  bootstrap=True, criterion=gini, max_depth=10, n_estimators=50, score=0.9467606478704259, total=  17.2s\n",
      "[CV] bootstrap=True, criterion=gini, max_depth=10, n_estimators=50 ...\n",
      "[CV]  bootstrap=True, criterion=gini, max_depth=10, n_estimators=50, score=0.9403470173508676, total=  16.2s\n",
      "[CV] bootstrap=True, criterion=gini, max_depth=10, n_estimators=50 ...\n",
      "[CV]  bootstrap=True, criterion=gini, max_depth=10, n_estimators=50, score=0.9439415912386858, total=  15.2s\n",
      "[CV] bootstrap=True, criterion=gini, max_depth=15, n_estimators=5 ....\n",
      "[CV]  bootstrap=True, criterion=gini, max_depth=15, n_estimators=5, score=0.9142171565686863, total=   2.6s\n",
      "[CV] bootstrap=True, criterion=gini, max_depth=15, n_estimators=5 ....\n",
      "[CV]  bootstrap=True, criterion=gini, max_depth=15, n_estimators=5, score=0.9095954797739887, total=   2.8s\n",
      "[CV] bootstrap=True, criterion=gini, max_depth=15, n_estimators=5 ....\n",
      "[CV]  bootstrap=True, criterion=gini, max_depth=15, n_estimators=5, score=0.913787068060209, total=   2.4s\n",
      "[CV] bootstrap=True, criterion=gini, max_depth=15, n_estimators=10 ...\n",
      "[CV]  bootstrap=True, criterion=gini, max_depth=15, n_estimators=10, score=0.943011397720456, total=   4.8s\n",
      "[CV] bootstrap=True, criterion=gini, max_depth=15, n_estimators=10 ...\n",
      "[CV]  bootstrap=True, criterion=gini, max_depth=15, n_estimators=10, score=0.9348967448372418, total=   4.9s\n",
      "[CV] bootstrap=True, criterion=gini, max_depth=15, n_estimators=10 ...\n",
      "[CV]  bootstrap=True, criterion=gini, max_depth=15, n_estimators=10, score=0.9381907286092914, total=   5.2s\n",
      "[CV] bootstrap=True, criterion=gini, max_depth=15, n_estimators=20 ...\n",
      "[CV]  bootstrap=True, criterion=gini, max_depth=15, n_estimators=20, score=0.9551089782043591, total=   9.3s\n",
      "[CV] bootstrap=True, criterion=gini, max_depth=15, n_estimators=20 ...\n",
      "[CV]  bootstrap=True, criterion=gini, max_depth=15, n_estimators=20, score=0.9514475723786189, total=   9.5s\n",
      "[CV] bootstrap=True, criterion=gini, max_depth=15, n_estimators=20 ...\n",
      "[CV]  bootstrap=True, criterion=gini, max_depth=15, n_estimators=20, score=0.9530429564434665, total=   8.9s\n",
      "[CV] bootstrap=True, criterion=gini, max_depth=15, n_estimators=50 ...\n",
      "[CV]  bootstrap=True, criterion=gini, max_depth=15, n_estimators=50, score=0.9609078184363128, total=  14.8s\n",
      "[CV] bootstrap=True, criterion=gini, max_depth=15, n_estimators=50 ...\n",
      "[CV]  bootstrap=True, criterion=gini, max_depth=15, n_estimators=50, score=0.9570478523926196, total=  21.7s\n",
      "[CV] bootstrap=True, criterion=gini, max_depth=15, n_estimators=50 ...\n",
      "[CV]  bootstrap=True, criterion=gini, max_depth=15, n_estimators=50, score=0.9602440366054908, total=  21.2s\n",
      "[CV] bootstrap=True, criterion=entropy, max_depth=None, n_estimators=5 \n"
     ]
    },
    {
     "name": "stdout",
     "output_type": "stream",
     "text": [
      "[CV]  bootstrap=True, criterion=entropy, max_depth=None, n_estimators=5, score=0.9174165166966607, total=   4.1s\n",
      "[CV] bootstrap=True, criterion=entropy, max_depth=None, n_estimators=5 \n",
      "[CV]  bootstrap=True, criterion=entropy, max_depth=None, n_estimators=5, score=0.9088454422721136, total=   3.9s\n",
      "[CV] bootstrap=True, criterion=entropy, max_depth=None, n_estimators=5 \n",
      "[CV]  bootstrap=True, criterion=entropy, max_depth=None, n_estimators=5, score=0.9137370605590839, total=   4.0s\n",
      "[CV] bootstrap=True, criterion=entropy, max_depth=None, n_estimators=10 \n",
      "[CV]  bootstrap=True, criterion=entropy, max_depth=None, n_estimators=10, score=0.944511097780444, total=   6.3s\n",
      "[CV] bootstrap=True, criterion=entropy, max_depth=None, n_estimators=10 \n",
      "[CV]  bootstrap=True, criterion=entropy, max_depth=None, n_estimators=10, score=0.9405470273513675, total=   7.0s\n",
      "[CV] bootstrap=True, criterion=entropy, max_depth=None, n_estimators=10 \n",
      "[CV]  bootstrap=True, criterion=entropy, max_depth=None, n_estimators=10, score=0.9427414112116818, total=   7.1s\n",
      "[CV] bootstrap=True, criterion=entropy, max_depth=None, n_estimators=20 \n",
      "[CV]  bootstrap=True, criterion=entropy, max_depth=None, n_estimators=20, score=0.9567086582683463, total=  13.4s\n",
      "[CV] bootstrap=True, criterion=entropy, max_depth=None, n_estimators=20 \n",
      "[CV]  bootstrap=True, criterion=entropy, max_depth=None, n_estimators=20, score=0.9541977098854942, total=  13.1s\n",
      "[CV] bootstrap=True, criterion=entropy, max_depth=None, n_estimators=20 \n",
      "[CV]  bootstrap=True, criterion=entropy, max_depth=None, n_estimators=20, score=0.9554933239985998, total=  14.0s\n",
      "[CV] bootstrap=True, criterion=entropy, max_depth=None, n_estimators=50 \n",
      "[CV]  bootstrap=True, criterion=entropy, max_depth=None, n_estimators=50, score=0.962757448510298, total=  32.9s\n",
      "[CV] bootstrap=True, criterion=entropy, max_depth=None, n_estimators=50 \n",
      "[CV]  bootstrap=True, criterion=entropy, max_depth=None, n_estimators=50, score=0.9605980299014951, total=  31.9s\n",
      "[CV] bootstrap=True, criterion=entropy, max_depth=None, n_estimators=50 \n",
      "[CV]  bootstrap=True, criterion=entropy, max_depth=None, n_estimators=50, score=0.9633445016752513, total=  31.8s\n",
      "[CV] bootstrap=True, criterion=entropy, max_depth=5, n_estimators=5 ..\n",
      "[CV]  bootstrap=True, criterion=entropy, max_depth=5, n_estimators=5, score=0.749250149970006, total=   1.5s\n",
      "[CV] bootstrap=True, criterion=entropy, max_depth=5, n_estimators=5 ..\n",
      "[CV]  bootstrap=True, criterion=entropy, max_depth=5, n_estimators=5, score=0.7509875493774689, total=   1.8s\n",
      "[CV] bootstrap=True, criterion=entropy, max_depth=5, n_estimators=5 ..\n",
      "[CV]  bootstrap=True, criterion=entropy, max_depth=5, n_estimators=5, score=0.7720658098714808, total=   1.7s\n",
      "[CV] bootstrap=True, criterion=entropy, max_depth=5, n_estimators=10 .\n",
      "[CV]  bootstrap=True, criterion=entropy, max_depth=5, n_estimators=10, score=0.8214357128574286, total=   3.0s\n",
      "[CV] bootstrap=True, criterion=entropy, max_depth=5, n_estimators=10 .\n",
      "[CV]  bootstrap=True, criterion=entropy, max_depth=5, n_estimators=10, score=0.8018900945047253, total=   3.0s\n",
      "[CV] bootstrap=True, criterion=entropy, max_depth=5, n_estimators=10 .\n",
      "[CV]  bootstrap=True, criterion=entropy, max_depth=5, n_estimators=10, score=0.8073210981647247, total=   2.2s\n",
      "[CV] bootstrap=True, criterion=entropy, max_depth=5, n_estimators=20 .\n",
      "[CV]  bootstrap=True, criterion=entropy, max_depth=5, n_estimators=20, score=0.8320335932813437, total=   5.1s\n",
      "[CV] bootstrap=True, criterion=entropy, max_depth=5, n_estimators=20 .\n",
      "[CV]  bootstrap=True, criterion=entropy, max_depth=5, n_estimators=20, score=0.8274913745687285, total=   5.1s\n",
      "[CV] bootstrap=True, criterion=entropy, max_depth=5, n_estimators=20 .\n",
      "[CV]  bootstrap=True, criterion=entropy, max_depth=5, n_estimators=20, score=0.8288243236485473, total=   4.9s\n",
      "[CV] bootstrap=True, criterion=entropy, max_depth=5, n_estimators=50 .\n",
      "[CV]  bootstrap=True, criterion=entropy, max_depth=5, n_estimators=50, score=0.8573785242951409, total=  12.3s\n",
      "[CV] bootstrap=True, criterion=entropy, max_depth=5, n_estimators=50 .\n",
      "[CV]  bootstrap=True, criterion=entropy, max_depth=5, n_estimators=50, score=0.8421421071053553, total=   9.8s\n",
      "[CV] bootstrap=True, criterion=entropy, max_depth=5, n_estimators=50 .\n",
      "[CV]  bootstrap=True, criterion=entropy, max_depth=5, n_estimators=50, score=0.8440266039905986, total=  12.6s\n",
      "[CV] bootstrap=True, criterion=entropy, max_depth=10, n_estimators=5 .\n",
      "[CV]  bootstrap=True, criterion=entropy, max_depth=10, n_estimators=5, score=0.9040191961607679, total=   3.1s\n",
      "[CV] bootstrap=True, criterion=entropy, max_depth=10, n_estimators=5 .\n",
      "[CV]  bootstrap=True, criterion=entropy, max_depth=10, n_estimators=5, score=0.9036951847592379, total=   3.8s\n",
      "[CV] bootstrap=True, criterion=entropy, max_depth=10, n_estimators=5 .\n",
      "[CV]  bootstrap=True, criterion=entropy, max_depth=10, n_estimators=5, score=0.9080862129319398, total=   2.8s\n",
      "[CV] bootstrap=True, criterion=entropy, max_depth=10, n_estimators=10 \n",
      "[CV]  bootstrap=True, criterion=entropy, max_depth=10, n_estimators=10, score=0.9277644471105779, total=   5.9s\n",
      "[CV] bootstrap=True, criterion=entropy, max_depth=10, n_estimators=10 \n",
      "[CV]  bootstrap=True, criterion=entropy, max_depth=10, n_estimators=10, score=0.9217460873043652, total=   5.6s\n",
      "[CV] bootstrap=True, criterion=entropy, max_depth=10, n_estimators=10 \n",
      "[CV]  bootstrap=True, criterion=entropy, max_depth=10, n_estimators=10, score=0.9270890633595039, total=   5.5s\n",
      "[CV] bootstrap=True, criterion=entropy, max_depth=10, n_estimators=20 \n",
      "[CV]  bootstrap=True, criterion=entropy, max_depth=10, n_estimators=20, score=0.9433613277344531, total=  10.1s\n",
      "[CV] bootstrap=True, criterion=entropy, max_depth=10, n_estimators=20 \n",
      "[CV]  bootstrap=True, criterion=entropy, max_depth=10, n_estimators=20, score=0.9374968748437422, total=  11.1s\n",
      "[CV] bootstrap=True, criterion=entropy, max_depth=10, n_estimators=20 \n",
      "[CV]  bootstrap=True, criterion=entropy, max_depth=10, n_estimators=20, score=0.9382407361104166, total=  11.5s\n",
      "[CV] bootstrap=True, criterion=entropy, max_depth=10, n_estimators=50 \n",
      "[CV]  bootstrap=True, criterion=entropy, max_depth=10, n_estimators=50, score=0.9469106178764247, total=  27.2s\n",
      "[CV] bootstrap=True, criterion=entropy, max_depth=10, n_estimators=50 \n",
      "[CV]  bootstrap=True, criterion=entropy, max_depth=10, n_estimators=50, score=0.9440972048602431, total=  21.8s\n",
      "[CV] bootstrap=True, criterion=entropy, max_depth=10, n_estimators=50 \n",
      "[CV]  bootstrap=True, criterion=entropy, max_depth=10, n_estimators=50, score=0.9441916287443116, total=  26.9s\n",
      "[CV] bootstrap=True, criterion=entropy, max_depth=15, n_estimators=5 .\n",
      "[CV]  bootstrap=True, criterion=entropy, max_depth=15, n_estimators=5, score=0.9171165766846631, total=   2.5s\n",
      "[CV] bootstrap=True, criterion=entropy, max_depth=15, n_estimators=5 .\n",
      "[CV]  bootstrap=True, criterion=entropy, max_depth=15, n_estimators=5, score=0.9113455672783639, total=   2.1s\n",
      "[CV] bootstrap=True, criterion=entropy, max_depth=15, n_estimators=5 .\n",
      "[CV]  bootstrap=True, criterion=entropy, max_depth=15, n_estimators=5, score=0.917637645646847, total=   2.1s\n",
      "[CV] bootstrap=True, criterion=entropy, max_depth=15, n_estimators=10 \n",
      "[CV]  bootstrap=True, criterion=entropy, max_depth=15, n_estimators=10, score=0.9445610877824435, total=   5.9s\n",
      "[CV] bootstrap=True, criterion=entropy, max_depth=15, n_estimators=10 \n",
      "[CV]  bootstrap=True, criterion=entropy, max_depth=15, n_estimators=10, score=0.9387969398469923, total=   7.1s\n",
      "[CV] bootstrap=True, criterion=entropy, max_depth=15, n_estimators=10 \n",
      "[CV]  bootstrap=True, criterion=entropy, max_depth=15, n_estimators=10, score=0.9424413662049307, total=   7.3s\n",
      "[CV] bootstrap=True, criterion=entropy, max_depth=15, n_estimators=20 \n",
      "[CV]  bootstrap=True, criterion=entropy, max_depth=15, n_estimators=20, score=0.9559088182363528, total=  13.5s\n",
      "[CV] bootstrap=True, criterion=entropy, max_depth=15, n_estimators=20 \n",
      "[CV]  bootstrap=True, criterion=entropy, max_depth=15, n_estimators=20, score=0.9535476773838691, total=  13.7s\n",
      "[CV] bootstrap=True, criterion=entropy, max_depth=15, n_estimators=20 \n",
      "[CV]  bootstrap=True, criterion=entropy, max_depth=15, n_estimators=20, score=0.9560434065109766, total=  14.1s\n",
      "[CV] bootstrap=True, criterion=entropy, max_depth=15, n_estimators=50 \n"
     ]
    },
    {
     "name": "stdout",
     "output_type": "stream",
     "text": [
      "[CV]  bootstrap=True, criterion=entropy, max_depth=15, n_estimators=50, score=0.9628574285142971, total=  34.0s\n",
      "[CV] bootstrap=True, criterion=entropy, max_depth=15, n_estimators=50 \n",
      "[CV]  bootstrap=True, criterion=entropy, max_depth=15, n_estimators=50, score=0.959597979898995, total=  28.4s\n",
      "[CV] bootstrap=True, criterion=entropy, max_depth=15, n_estimators=50 \n",
      "[CV]  bootstrap=True, criterion=entropy, max_depth=15, n_estimators=50, score=0.9617442616392459, total=  32.5s\n",
      "[CV] bootstrap=False, criterion=gini, max_depth=None, n_estimators=5 .\n",
      "[CV]  bootstrap=False, criterion=gini, max_depth=None, n_estimators=5, score=0.9292641471705659, total=   4.4s\n",
      "[CV] bootstrap=False, criterion=gini, max_depth=None, n_estimators=5 .\n",
      "[CV]  bootstrap=False, criterion=gini, max_depth=None, n_estimators=5, score=0.920146007300365, total=   4.6s\n",
      "[CV] bootstrap=False, criterion=gini, max_depth=None, n_estimators=5 .\n",
      "[CV]  bootstrap=False, criterion=gini, max_depth=None, n_estimators=5, score=0.9241386207931189, total=   4.9s\n",
      "[CV] bootstrap=False, criterion=gini, max_depth=None, n_estimators=10 \n",
      "[CV]  bootstrap=False, criterion=gini, max_depth=None, n_estimators=10, score=0.9524095180963807, total=   8.8s\n",
      "[CV] bootstrap=False, criterion=gini, max_depth=None, n_estimators=10 \n",
      "[CV]  bootstrap=False, criterion=gini, max_depth=None, n_estimators=10, score=0.9482974148707435, total=   9.1s\n",
      "[CV] bootstrap=False, criterion=gini, max_depth=None, n_estimators=10 \n",
      "[CV]  bootstrap=False, criterion=gini, max_depth=None, n_estimators=10, score=0.9487423113467021, total=   9.3s\n",
      "[CV] bootstrap=False, criterion=gini, max_depth=None, n_estimators=20 \n",
      "[CV]  bootstrap=False, criterion=gini, max_depth=None, n_estimators=20, score=0.9625074985002999, total=  17.3s\n",
      "[CV] bootstrap=False, criterion=gini, max_depth=None, n_estimators=20 \n",
      "[CV]  bootstrap=False, criterion=gini, max_depth=None, n_estimators=20, score=0.959897994899745, total=  16.7s\n",
      "[CV] bootstrap=False, criterion=gini, max_depth=None, n_estimators=20 \n",
      "[CV]  bootstrap=False, criterion=gini, max_depth=None, n_estimators=20, score=0.9593939090863629, total=  16.8s\n",
      "[CV] bootstrap=False, criterion=gini, max_depth=None, n_estimators=50 \n",
      "[CV]  bootstrap=False, criterion=gini, max_depth=None, n_estimators=50, score=0.9669066186762647, total=  41.7s\n",
      "[CV] bootstrap=False, criterion=gini, max_depth=None, n_estimators=50 \n",
      "[CV]  bootstrap=False, criterion=gini, max_depth=None, n_estimators=50, score=0.9662983149157458, total=  39.0s\n",
      "[CV] bootstrap=False, criterion=gini, max_depth=None, n_estimators=50 \n",
      "[CV]  bootstrap=False, criterion=gini, max_depth=None, n_estimators=50, score=0.9671450717607641, total=  35.7s\n",
      "[CV] bootstrap=False, criterion=gini, max_depth=5, n_estimators=5 ....\n",
      "[CV]  bootstrap=False, criterion=gini, max_depth=5, n_estimators=5, score=0.7660967806438712, total=   1.6s\n",
      "[CV] bootstrap=False, criterion=gini, max_depth=5, n_estimators=5 ....\n",
      "[CV]  bootstrap=False, criterion=gini, max_depth=5, n_estimators=5, score=0.7665383269163458, total=   1.7s\n",
      "[CV] bootstrap=False, criterion=gini, max_depth=5, n_estimators=5 ....\n",
      "[CV]  bootstrap=False, criterion=gini, max_depth=5, n_estimators=5, score=0.7660149022353353, total=   1.8s\n",
      "[CV] bootstrap=False, criterion=gini, max_depth=5, n_estimators=10 ...\n",
      "[CV]  bootstrap=False, criterion=gini, max_depth=5, n_estimators=10, score=0.8129874025194961, total=   3.1s\n",
      "[CV] bootstrap=False, criterion=gini, max_depth=5, n_estimators=10 ...\n",
      "[CV]  bootstrap=False, criterion=gini, max_depth=5, n_estimators=10, score=0.8035901795089755, total=   3.1s\n",
      "[CV] bootstrap=False, criterion=gini, max_depth=5, n_estimators=10 ...\n",
      "[CV]  bootstrap=False, criterion=gini, max_depth=5, n_estimators=10, score=0.7913186978046707, total=   3.1s\n",
      "[CV] bootstrap=False, criterion=gini, max_depth=5, n_estimators=20 ...\n",
      "[CV]  bootstrap=False, criterion=gini, max_depth=5, n_estimators=20, score=0.8358328334333134, total=   5.8s\n",
      "[CV] bootstrap=False, criterion=gini, max_depth=5, n_estimators=20 ...\n",
      "[CV]  bootstrap=False, criterion=gini, max_depth=5, n_estimators=20, score=0.8348917445872294, total=   5.8s\n",
      "[CV] bootstrap=False, criterion=gini, max_depth=5, n_estimators=20 ...\n",
      "[CV]  bootstrap=False, criterion=gini, max_depth=5, n_estimators=20, score=0.8336750512576887, total=   5.7s\n",
      "[CV] bootstrap=False, criterion=gini, max_depth=5, n_estimators=50 ...\n",
      "[CV]  bootstrap=False, criterion=gini, max_depth=5, n_estimators=50, score=0.858878224355129, total=  13.3s\n",
      "[CV] bootstrap=False, criterion=gini, max_depth=5, n_estimators=50 ...\n",
      "[CV]  bootstrap=False, criterion=gini, max_depth=5, n_estimators=50, score=0.8504925246262313, total=  13.5s\n",
      "[CV] bootstrap=False, criterion=gini, max_depth=5, n_estimators=50 ...\n",
      "[CV]  bootstrap=False, criterion=gini, max_depth=5, n_estimators=50, score=0.8449767465119769, total=  13.1s\n",
      "[CV] bootstrap=False, criterion=gini, max_depth=10, n_estimators=5 ...\n",
      "[CV]  bootstrap=False, criterion=gini, max_depth=10, n_estimators=5, score=0.9067186562687463, total=   2.9s\n",
      "[CV] bootstrap=False, criterion=gini, max_depth=10, n_estimators=5 ...\n",
      "[CV]  bootstrap=False, criterion=gini, max_depth=10, n_estimators=5, score=0.9002450122506125, total=   2.9s\n",
      "[CV] bootstrap=False, criterion=gini, max_depth=10, n_estimators=5 ...\n",
      "[CV]  bootstrap=False, criterion=gini, max_depth=10, n_estimators=5, score=0.9038355753363004, total=   2.9s\n",
      "[CV] bootstrap=False, criterion=gini, max_depth=10, n_estimators=10 ..\n",
      "[CV]  bootstrap=False, criterion=gini, max_depth=10, n_estimators=10, score=0.9305138972205559, total=   4.9s\n",
      "[CV] bootstrap=False, criterion=gini, max_depth=10, n_estimators=10 ..\n",
      "[CV]  bootstrap=False, criterion=gini, max_depth=10, n_estimators=10, score=0.9253962698134907, total=   4.7s\n",
      "[CV] bootstrap=False, criterion=gini, max_depth=10, n_estimators=10 ..\n",
      "[CV]  bootstrap=False, criterion=gini, max_depth=10, n_estimators=10, score=0.9285392808921338, total=   5.8s\n",
      "[CV] bootstrap=False, criterion=gini, max_depth=10, n_estimators=20 ..\n",
      "[CV]  bootstrap=False, criterion=gini, max_depth=10, n_estimators=20, score=0.9402619476104779, total=  10.5s\n",
      "[CV] bootstrap=False, criterion=gini, max_depth=10, n_estimators=20 ..\n",
      "[CV]  bootstrap=False, criterion=gini, max_depth=10, n_estimators=20, score=0.9334966748337417, total=  11.5s\n",
      "[CV] bootstrap=False, criterion=gini, max_depth=10, n_estimators=20 ..\n",
      "[CV]  bootstrap=False, criterion=gini, max_depth=10, n_estimators=20, score=0.9374406160924139, total=  11.0s\n",
      "[CV] bootstrap=False, criterion=gini, max_depth=10, n_estimators=50 ..\n",
      "[CV]  bootstrap=False, criterion=gini, max_depth=10, n_estimators=50, score=0.9441611677664468, total=  24.7s\n",
      "[CV] bootstrap=False, criterion=gini, max_depth=10, n_estimators=50 ..\n",
      "[CV]  bootstrap=False, criterion=gini, max_depth=10, n_estimators=50, score=0.9415970798539927, total=  27.6s\n",
      "[CV] bootstrap=False, criterion=gini, max_depth=10, n_estimators=50 ..\n",
      "[CV]  bootstrap=False, criterion=gini, max_depth=10, n_estimators=50, score=0.942491373706056, total=  25.5s\n",
      "[CV] bootstrap=False, criterion=gini, max_depth=15, n_estimators=5 ...\n",
      "[CV]  bootstrap=False, criterion=gini, max_depth=15, n_estimators=5, score=0.9256148770245951, total=   3.9s\n",
      "[CV] bootstrap=False, criterion=gini, max_depth=15, n_estimators=5 ...\n",
      "[CV]  bootstrap=False, criterion=gini, max_depth=15, n_estimators=5, score=0.9189959497974899, total=   4.1s\n",
      "[CV] bootstrap=False, criterion=gini, max_depth=15, n_estimators=5 ...\n",
      "[CV]  bootstrap=False, criterion=gini, max_depth=15, n_estimators=5, score=0.9246386958043706, total=   3.9s\n",
      "[CV] bootstrap=False, criterion=gini, max_depth=15, n_estimators=10 ..\n",
      "[CV]  bootstrap=False, criterion=gini, max_depth=15, n_estimators=10, score=0.9501099780043991, total=   7.0s\n",
      "[CV] bootstrap=False, criterion=gini, max_depth=15, n_estimators=10 ..\n",
      "[CV]  bootstrap=False, criterion=gini, max_depth=15, n_estimators=10, score=0.9466473323666184, total=   7.6s\n",
      "[CV] bootstrap=False, criterion=gini, max_depth=15, n_estimators=10 ..\n",
      "[CV]  bootstrap=False, criterion=gini, max_depth=15, n_estimators=10, score=0.9481422213332, total=   7.6s\n",
      "[CV] bootstrap=False, criterion=gini, max_depth=15, n_estimators=20 ..\n",
      "[CV]  bootstrap=False, criterion=gini, max_depth=15, n_estimators=20, score=0.9594581083783243, total=  14.8s\n",
      "[CV] bootstrap=False, criterion=gini, max_depth=15, n_estimators=20 ..\n"
     ]
    },
    {
     "name": "stdout",
     "output_type": "stream",
     "text": [
      "[CV]  bootstrap=False, criterion=gini, max_depth=15, n_estimators=20, score=0.9575978798939947, total=  15.2s\n",
      "[CV] bootstrap=False, criterion=gini, max_depth=15, n_estimators=20 ..\n",
      "[CV]  bootstrap=False, criterion=gini, max_depth=15, n_estimators=20, score=0.9585437815672351, total=  14.3s\n",
      "[CV] bootstrap=False, criterion=gini, max_depth=15, n_estimators=50 ..\n",
      "[CV]  bootstrap=False, criterion=gini, max_depth=15, n_estimators=50, score=0.9654069186162767, total=  33.6s\n",
      "[CV] bootstrap=False, criterion=gini, max_depth=15, n_estimators=50 ..\n",
      "[CV]  bootstrap=False, criterion=gini, max_depth=15, n_estimators=50, score=0.9623481174058703, total=  32.4s\n",
      "[CV] bootstrap=False, criterion=gini, max_depth=15, n_estimators=50 ..\n",
      "[CV]  bootstrap=False, criterion=gini, max_depth=15, n_estimators=50, score=0.9650947642146323, total=  33.2s\n",
      "[CV] bootstrap=False, criterion=entropy, max_depth=None, n_estimators=5 \n",
      "[CV]  bootstrap=False, criterion=entropy, max_depth=None, n_estimators=5, score=0.9297140571885623, total=   5.4s\n",
      "[CV] bootstrap=False, criterion=entropy, max_depth=None, n_estimators=5 \n",
      "[CV]  bootstrap=False, criterion=entropy, max_depth=None, n_estimators=5, score=0.9226461323066153, total=   5.3s\n",
      "[CV] bootstrap=False, criterion=entropy, max_depth=None, n_estimators=5 \n",
      "[CV]  bootstrap=False, criterion=entropy, max_depth=None, n_estimators=5, score=0.929489423413512, total=   5.2s\n",
      "[CV] bootstrap=False, criterion=entropy, max_depth=None, n_estimators=10 \n",
      "[CV]  bootstrap=False, criterion=entropy, max_depth=None, n_estimators=10, score=0.9523595280943811, total=  10.8s\n",
      "[CV] bootstrap=False, criterion=entropy, max_depth=None, n_estimators=10 \n",
      "[CV]  bootstrap=False, criterion=entropy, max_depth=None, n_estimators=10, score=0.9476473823691185, total=   9.9s\n",
      "[CV] bootstrap=False, criterion=entropy, max_depth=None, n_estimators=10 \n",
      "[CV]  bootstrap=False, criterion=entropy, max_depth=None, n_estimators=10, score=0.9495424313647047, total=  11.2s\n",
      "[CV] bootstrap=False, criterion=entropy, max_depth=None, n_estimators=20 \n",
      "[CV]  bootstrap=False, criterion=entropy, max_depth=None, n_estimators=20, score=0.9617076584683063, total=  21.7s\n",
      "[CV] bootstrap=False, criterion=entropy, max_depth=None, n_estimators=20 \n",
      "[CV]  bootstrap=False, criterion=entropy, max_depth=None, n_estimators=20, score=0.95954797739887, total=  21.5s\n",
      "[CV] bootstrap=False, criterion=entropy, max_depth=None, n_estimators=20 \n",
      "[CV]  bootstrap=False, criterion=entropy, max_depth=None, n_estimators=20, score=0.9619442916437465, total=  22.1s\n",
      "[CV] bootstrap=False, criterion=entropy, max_depth=None, n_estimators=50 \n",
      "[CV]  bootstrap=False, criterion=entropy, max_depth=None, n_estimators=50, score=0.9696560687862428, total=  53.9s\n",
      "[CV] bootstrap=False, criterion=entropy, max_depth=None, n_estimators=50 \n",
      "[CV]  bootstrap=False, criterion=entropy, max_depth=None, n_estimators=50, score=0.9656482824141207, total=  54.2s\n",
      "[CV] bootstrap=False, criterion=entropy, max_depth=None, n_estimators=50 \n",
      "[CV]  bootstrap=False, criterion=entropy, max_depth=None, n_estimators=50, score=0.9671950792618893, total=  52.3s\n",
      "[CV] bootstrap=False, criterion=entropy, max_depth=5, n_estimators=5 .\n",
      "[CV]  bootstrap=False, criterion=entropy, max_depth=5, n_estimators=5, score=0.7706458708258348, total=   2.0s\n",
      "[CV] bootstrap=False, criterion=entropy, max_depth=5, n_estimators=5 .\n",
      "[CV]  bootstrap=False, criterion=entropy, max_depth=5, n_estimators=5, score=0.7488374418720936, total=   2.2s\n",
      "[CV] bootstrap=False, criterion=entropy, max_depth=5, n_estimators=5 .\n",
      "[CV]  bootstrap=False, criterion=entropy, max_depth=5, n_estimators=5, score=0.7471120668100215, total=   2.3s\n",
      "[CV] bootstrap=False, criterion=entropy, max_depth=5, n_estimators=10 \n",
      "[CV]  bootstrap=False, criterion=entropy, max_depth=5, n_estimators=10, score=0.8222855428914218, total=   4.1s\n",
      "[CV] bootstrap=False, criterion=entropy, max_depth=5, n_estimators=10 \n",
      "[CV]  bootstrap=False, criterion=entropy, max_depth=5, n_estimators=10, score=0.7973398669933497, total=   4.0s\n",
      "[CV] bootstrap=False, criterion=entropy, max_depth=5, n_estimators=10 \n",
      "[CV]  bootstrap=False, criterion=entropy, max_depth=5, n_estimators=10, score=0.814522178326749, total=   4.0s\n",
      "[CV] bootstrap=False, criterion=entropy, max_depth=5, n_estimators=20 \n",
      "[CV]  bootstrap=False, criterion=entropy, max_depth=5, n_estimators=20, score=0.8293341331733654, total=   7.6s\n",
      "[CV] bootstrap=False, criterion=entropy, max_depth=5, n_estimators=20 \n",
      "[CV]  bootstrap=False, criterion=entropy, max_depth=5, n_estimators=20, score=0.8265913295664783, total=   7.6s\n",
      "[CV] bootstrap=False, criterion=entropy, max_depth=5, n_estimators=20 \n",
      "[CV]  bootstrap=False, criterion=entropy, max_depth=5, n_estimators=20, score=0.8291243686552983, total=   7.5s\n",
      "[CV] bootstrap=False, criterion=entropy, max_depth=5, n_estimators=50 \n",
      "[CV]  bootstrap=False, criterion=entropy, max_depth=5, n_estimators=50, score=0.8505298940211957, total=  18.4s\n",
      "[CV] bootstrap=False, criterion=entropy, max_depth=5, n_estimators=50 \n",
      "[CV]  bootstrap=False, criterion=entropy, max_depth=5, n_estimators=50, score=0.8424921246062304, total=  18.4s\n",
      "[CV] bootstrap=False, criterion=entropy, max_depth=5, n_estimators=50 \n",
      "[CV]  bootstrap=False, criterion=entropy, max_depth=5, n_estimators=50, score=0.8470270540581087, total=  18.3s\n",
      "[CV] bootstrap=False, criterion=entropy, max_depth=10, n_estimators=5 \n",
      "[CV]  bootstrap=False, criterion=entropy, max_depth=10, n_estimators=5, score=0.9108678264347131, total=   4.4s\n",
      "[CV] bootstrap=False, criterion=entropy, max_depth=10, n_estimators=5 \n",
      "[CV]  bootstrap=False, criterion=entropy, max_depth=10, n_estimators=5, score=0.9065953297664884, total=   4.5s\n",
      "[CV] bootstrap=False, criterion=entropy, max_depth=10, n_estimators=5 \n",
      "[CV]  bootstrap=False, criterion=entropy, max_depth=10, n_estimators=5, score=0.912286843026454, total=   4.6s\n",
      "[CV] bootstrap=False, criterion=entropy, max_depth=10, n_estimators=10 \n",
      "[CV]  bootstrap=False, criterion=entropy, max_depth=10, n_estimators=10, score=0.9362127574485103, total=   8.3s\n",
      "[CV] bootstrap=False, criterion=entropy, max_depth=10, n_estimators=10 \n",
      "[CV]  bootstrap=False, criterion=entropy, max_depth=10, n_estimators=10, score=0.9237461873093654, total=   8.4s\n",
      "[CV] bootstrap=False, criterion=entropy, max_depth=10, n_estimators=10 \n",
      "[CV]  bootstrap=False, criterion=entropy, max_depth=10, n_estimators=10, score=0.9302395359303895, total=   8.4s\n",
      "[CV] bootstrap=False, criterion=entropy, max_depth=10, n_estimators=20 \n",
      "[CV]  bootstrap=False, criterion=entropy, max_depth=10, n_estimators=20, score=0.944011197760448, total=  16.4s\n",
      "[CV] bootstrap=False, criterion=entropy, max_depth=10, n_estimators=20 \n",
      "[CV]  bootstrap=False, criterion=entropy, max_depth=10, n_estimators=20, score=0.9383969198459923, total=  16.2s\n",
      "[CV] bootstrap=False, criterion=entropy, max_depth=10, n_estimators=20 \n",
      "[CV]  bootstrap=False, criterion=entropy, max_depth=10, n_estimators=20, score=0.9414412161824274, total=  16.2s\n",
      "[CV] bootstrap=False, criterion=entropy, max_depth=10, n_estimators=50 \n",
      "[CV]  bootstrap=False, criterion=entropy, max_depth=10, n_estimators=50, score=0.9460607878424315, total=  30.9s\n",
      "[CV] bootstrap=False, criterion=entropy, max_depth=10, n_estimators=50 \n",
      "[CV]  bootstrap=False, criterion=entropy, max_depth=10, n_estimators=50, score=0.9445472273613681, total=  38.9s\n",
      "[CV] bootstrap=False, criterion=entropy, max_depth=10, n_estimators=50 \n",
      "[CV]  bootstrap=False, criterion=entropy, max_depth=10, n_estimators=50, score=0.9472920938140721, total=  39.0s\n",
      "[CV] bootstrap=False, criterion=entropy, max_depth=15, n_estimators=5 \n",
      "[CV]  bootstrap=False, criterion=entropy, max_depth=15, n_estimators=5, score=0.9301139772045591, total=   5.4s\n",
      "[CV] bootstrap=False, criterion=entropy, max_depth=15, n_estimators=5 \n",
      "[CV]  bootstrap=False, criterion=entropy, max_depth=15, n_estimators=5, score=0.9228961448072404, total=   5.3s\n",
      "[CV] bootstrap=False, criterion=entropy, max_depth=15, n_estimators=5 \n",
      "[CV]  bootstrap=False, criterion=entropy, max_depth=15, n_estimators=5, score=0.9261889283392509, total=   5.4s\n",
      "[CV] bootstrap=False, criterion=entropy, max_depth=15, n_estimators=10 \n",
      "[CV]  bootstrap=False, criterion=entropy, max_depth=15, n_estimators=10, score=0.9520095980803839, total=  10.4s\n",
      "[CV] bootstrap=False, criterion=entropy, max_depth=15, n_estimators=10 \n"
     ]
    },
    {
     "name": "stdout",
     "output_type": "stream",
     "text": [
      "[CV]  bootstrap=False, criterion=entropy, max_depth=15, n_estimators=10, score=0.9465473273663683, total=  10.3s\n",
      "[CV] bootstrap=False, criterion=entropy, max_depth=15, n_estimators=10 \n",
      "[CV]  bootstrap=False, criterion=entropy, max_depth=15, n_estimators=10, score=0.948442266339951, total=  10.7s\n",
      "[CV] bootstrap=False, criterion=entropy, max_depth=15, n_estimators=20 \n",
      "[CV]  bootstrap=False, criterion=entropy, max_depth=15, n_estimators=20, score=0.9610077984403119, total=  20.1s\n",
      "[CV] bootstrap=False, criterion=entropy, max_depth=15, n_estimators=20 \n",
      "[CV]  bootstrap=False, criterion=entropy, max_depth=15, n_estimators=20, score=0.9580979048952447, total=  20.0s\n",
      "[CV] bootstrap=False, criterion=entropy, max_depth=15, n_estimators=20 \n",
      "[CV]  bootstrap=False, criterion=entropy, max_depth=15, n_estimators=20, score=0.9593439015852377, total=  20.0s\n",
      "[CV] bootstrap=False, criterion=entropy, max_depth=15, n_estimators=50 \n",
      "[CV]  bootstrap=False, criterion=entropy, max_depth=15, n_estimators=50, score=0.9666066786642672, total=  49.6s\n",
      "[CV] bootstrap=False, criterion=entropy, max_depth=15, n_estimators=50 \n",
      "[CV]  bootstrap=False, criterion=entropy, max_depth=15, n_estimators=50, score=0.9635981799089954, total=  49.6s\n",
      "[CV] bootstrap=False, criterion=entropy, max_depth=15, n_estimators=50 \n",
      "[CV]  bootstrap=False, criterion=entropy, max_depth=15, n_estimators=50, score=0.966244936740511, total=  49.5s\n"
     ]
    },
    {
     "name": "stderr",
     "output_type": "stream",
     "text": [
      "[Parallel(n_jobs=1)]: Done 192 out of 192 | elapsed: 41.6min finished\n"
     ]
    }
   ],
   "source": [
    "# Aplicando GridSearchCV\n",
    "from sklearn.model_selection import GridSearchCV\n",
    "\n",
    "# Definindo parâmetros para Decision Trees\n",
    "param_grid_forest = [\n",
    "    {\n",
    "        'n_estimators': [5, 10, 20, 50],        \n",
    "        'criterion': ['gini', 'entropy'],\n",
    "        #'min_samples_split': [2, 10, 20],\n",
    "        'max_depth': [None, 5, 10, 15],\n",
    "        #'min_samples_leaf': [1, 5, 10],\n",
    "        'bootstrap': [True, False]\n",
    "    }\n",
    "]\n",
    "\n",
    "# Criando classificador\n",
    "forest_clf = RandomForestClassifier()\n",
    "\n",
    "# Treinando e procurando a melhor combinação\n",
    "grid_search = GridSearchCV(forest_clf, param_grid_forest, cv=3, \n",
    "                           scoring='accuracy', verbose=3)\n",
    "\n",
    "grid_search.fit(X_train_scaled, y_train)\n",
    "\n",
    "# Salvando dados\n",
    "dict_accs_forest['acc_train_grid'] = round(grid_search.best_score_, 4)"
   ]
  },
  {
   "cell_type": "code",
   "execution_count": 20,
   "metadata": {
    "ExecuteTime": {
     "end_time": "2019-01-05T16:31:10.358111Z",
     "start_time": "2019-01-05T16:31:10.344204Z"
    }
   },
   "outputs": [
    {
     "data": {
      "text/plain": [
       "{'bootstrap': False,\n",
       " 'criterion': 'entropy',\n",
       " 'max_depth': None,\n",
       " 'n_estimators': 50}"
      ]
     },
     "execution_count": 20,
     "metadata": {},
     "output_type": "execute_result"
    }
   ],
   "source": [
    "# Verificando melhores parâmetros\n",
    "grid_search.best_params_"
   ]
  },
  {
   "cell_type": "code",
   "execution_count": 22,
   "metadata": {
    "ExecuteTime": {
     "end_time": "2019-01-05T16:31:29.539038Z",
     "start_time": "2019-01-05T16:31:29.531261Z"
    }
   },
   "outputs": [
    {
     "data": {
      "text/plain": [
       "0.9675"
      ]
     },
     "execution_count": 22,
     "metadata": {},
     "output_type": "execute_result"
    }
   ],
   "source": [
    "# Melhor score\n",
    "grid_search.best_score_"
   ]
  },
  {
   "cell_type": "code",
   "execution_count": 23,
   "metadata": {
    "ExecuteTime": {
     "end_time": "2019-01-05T16:31:46.338311Z",
     "start_time": "2019-01-05T16:31:46.330349Z"
    }
   },
   "outputs": [
    {
     "data": {
      "text/plain": [
       "{'acc_train': 0.9994,\n",
       " 'acc_train_cv': 0.9393,\n",
       " 'acc_train_grid': 0.9675,\n",
       " 'acc_train_scaled': 0.9412}"
      ]
     },
     "execution_count": 23,
     "metadata": {},
     "output_type": "execute_result"
    }
   ],
   "source": [
    "# Testes finalizados com os dados de treino\n",
    "dict_accs_forest"
   ]
  },
  {
   "cell_type": "code",
   "execution_count": 31,
   "metadata": {
    "ExecuteTime": {
     "end_time": "2019-01-05T17:07:14.806960Z",
     "start_time": "2019-01-05T16:42:04.362550Z"
    }
   },
   "outputs": [
    {
     "name": "stdout",
     "output_type": "stream",
     "text": [
      "Fitting 3 folds for each of 64 candidates, totalling 192 fits\n",
      "[CV] bootstrap=True, criterion=gini, max_depth=None, n_estimators=5 ..\n",
      "[CV]  bootstrap=True, criterion=gini, max_depth=None, n_estimators=5, score=0.917866426714657, total=   2.6s\n",
      "[CV] bootstrap=True, criterion=gini, max_depth=None, n_estimators=5 ..\n"
     ]
    },
    {
     "name": "stderr",
     "output_type": "stream",
     "text": [
      "[Parallel(n_jobs=1)]: Done   1 out of   1 | elapsed:    2.9s remaining:    0.0s\n"
     ]
    },
    {
     "name": "stdout",
     "output_type": "stream",
     "text": [
      "[CV]  bootstrap=True, criterion=gini, max_depth=None, n_estimators=5, score=0.9090454522726137, total=   2.5s\n",
      "[CV] bootstrap=True, criterion=gini, max_depth=None, n_estimators=5 ..\n"
     ]
    },
    {
     "name": "stderr",
     "output_type": "stream",
     "text": [
      "[Parallel(n_jobs=1)]: Done   2 out of   2 | elapsed:    5.9s remaining:    0.0s\n"
     ]
    },
    {
     "name": "stdout",
     "output_type": "stream",
     "text": [
      "[CV]  bootstrap=True, criterion=gini, max_depth=None, n_estimators=5, score=0.9121868280242036, total=   2.9s\n",
      "[CV] bootstrap=True, criterion=gini, max_depth=None, n_estimators=10 .\n",
      "[CV]  bootstrap=True, criterion=gini, max_depth=None, n_estimators=10, score=0.9429614077184563, total=   4.3s\n",
      "[CV] bootstrap=True, criterion=gini, max_depth=None, n_estimators=10 .\n",
      "[CV]  bootstrap=True, criterion=gini, max_depth=None, n_estimators=10, score=0.9376968848442422, total=   5.2s\n",
      "[CV] bootstrap=True, criterion=gini, max_depth=None, n_estimators=10 .\n",
      "[CV]  bootstrap=True, criterion=gini, max_depth=None, n_estimators=10, score=0.9390908636295444, total=   5.3s\n",
      "[CV] bootstrap=True, criterion=gini, max_depth=None, n_estimators=20 .\n",
      "[CV]  bootstrap=True, criterion=gini, max_depth=None, n_estimators=20, score=0.9570085982803439, total=  10.2s\n",
      "[CV] bootstrap=True, criterion=gini, max_depth=None, n_estimators=20 .\n",
      "[CV]  bootstrap=True, criterion=gini, max_depth=None, n_estimators=20, score=0.9529976498824941, total=  10.3s\n",
      "[CV] bootstrap=True, criterion=gini, max_depth=None, n_estimators=20 .\n",
      "[CV]  bootstrap=True, criterion=gini, max_depth=None, n_estimators=20, score=0.9539930989648447, total=  10.3s\n",
      "[CV] bootstrap=True, criterion=gini, max_depth=None, n_estimators=50 .\n",
      "[CV]  bootstrap=True, criterion=gini, max_depth=None, n_estimators=50, score=0.9656068786242752, total=  25.1s\n",
      "[CV] bootstrap=True, criterion=gini, max_depth=None, n_estimators=50 .\n",
      "[CV]  bootstrap=True, criterion=gini, max_depth=None, n_estimators=50, score=0.9607980399019951, total=  25.2s\n",
      "[CV] bootstrap=True, criterion=gini, max_depth=None, n_estimators=50 .\n",
      "[CV]  bootstrap=True, criterion=gini, max_depth=None, n_estimators=50, score=0.9633445016752513, total=  25.0s\n",
      "[CV] bootstrap=True, criterion=gini, max_depth=5, n_estimators=5 .....\n",
      "[CV]  bootstrap=True, criterion=gini, max_depth=5, n_estimators=5, score=0.7687962407518496, total=   1.2s\n",
      "[CV] bootstrap=True, criterion=gini, max_depth=5, n_estimators=5 .....\n",
      "[CV]  bootstrap=True, criterion=gini, max_depth=5, n_estimators=5, score=0.7552877643882194, total=   1.2s\n",
      "[CV] bootstrap=True, criterion=gini, max_depth=5, n_estimators=5 .....\n",
      "[CV]  bootstrap=True, criterion=gini, max_depth=5, n_estimators=5, score=0.747862179326899, total=   1.2s\n",
      "[CV] bootstrap=True, criterion=gini, max_depth=5, n_estimators=10 ....\n",
      "[CV]  bootstrap=True, criterion=gini, max_depth=5, n_estimators=10, score=0.8195360927814437, total=   2.2s\n",
      "[CV] bootstrap=True, criterion=gini, max_depth=5, n_estimators=10 ....\n",
      "[CV]  bootstrap=True, criterion=gini, max_depth=5, n_estimators=10, score=0.816490824541227, total=   2.2s\n",
      "[CV] bootstrap=True, criterion=gini, max_depth=5, n_estimators=10 ....\n",
      "[CV]  bootstrap=True, criterion=gini, max_depth=5, n_estimators=10, score=0.807721158173726, total=   2.2s\n",
      "[CV] bootstrap=True, criterion=gini, max_depth=5, n_estimators=20 ....\n",
      "[CV]  bootstrap=True, criterion=gini, max_depth=5, n_estimators=20, score=0.8354329134173165, total=   4.0s\n",
      "[CV] bootstrap=True, criterion=gini, max_depth=5, n_estimators=20 ....\n",
      "[CV]  bootstrap=True, criterion=gini, max_depth=5, n_estimators=20, score=0.8358917945897295, total=   4.1s\n",
      "[CV] bootstrap=True, criterion=gini, max_depth=5, n_estimators=20 ....\n",
      "[CV]  bootstrap=True, criterion=gini, max_depth=5, n_estimators=20, score=0.8357753663049458, total=   4.0s\n",
      "[CV] bootstrap=True, criterion=gini, max_depth=5, n_estimators=50 ....\n",
      "[CV]  bootstrap=True, criterion=gini, max_depth=5, n_estimators=50, score=0.8554789042191562, total=   9.7s\n",
      "[CV] bootstrap=True, criterion=gini, max_depth=5, n_estimators=50 ....\n",
      "[CV]  bootstrap=True, criterion=gini, max_depth=5, n_estimators=50, score=0.8514925746287314, total=   9.7s\n",
      "[CV] bootstrap=True, criterion=gini, max_depth=5, n_estimators=50 ....\n",
      "[CV]  bootstrap=True, criterion=gini, max_depth=5, n_estimators=50, score=0.8514277141571236, total=   9.7s\n",
      "[CV] bootstrap=True, criterion=gini, max_depth=10, n_estimators=5 ....\n",
      "[CV]  bootstrap=True, criterion=gini, max_depth=10, n_estimators=5, score=0.9039192161567686, total=   1.9s\n",
      "[CV] bootstrap=True, criterion=gini, max_depth=10, n_estimators=5 ....\n",
      "[CV]  bootstrap=True, criterion=gini, max_depth=10, n_estimators=5, score=0.8928946447322366, total=   2.0s\n",
      "[CV] bootstrap=True, criterion=gini, max_depth=10, n_estimators=5 ....\n",
      "[CV]  bootstrap=True, criterion=gini, max_depth=10, n_estimators=5, score=0.8991348702305346, total=   2.0s\n",
      "[CV] bootstrap=True, criterion=gini, max_depth=10, n_estimators=10 ...\n",
      "[CV]  bootstrap=True, criterion=gini, max_depth=10, n_estimators=10, score=0.9262647470505899, total=   3.6s\n",
      "[CV] bootstrap=True, criterion=gini, max_depth=10, n_estimators=10 ...\n",
      "[CV]  bootstrap=True, criterion=gini, max_depth=10, n_estimators=10, score=0.9183459172958648, total=   3.7s\n",
      "[CV] bootstrap=True, criterion=gini, max_depth=10, n_estimators=10 ...\n",
      "[CV]  bootstrap=True, criterion=gini, max_depth=10, n_estimators=10, score=0.9254888233234986, total=   3.7s\n",
      "[CV] bootstrap=True, criterion=gini, max_depth=10, n_estimators=20 ...\n",
      "[CV]  bootstrap=True, criterion=gini, max_depth=10, n_estimators=20, score=0.9379624075184964, total=   7.1s\n",
      "[CV] bootstrap=True, criterion=gini, max_depth=10, n_estimators=20 ...\n",
      "[CV]  bootstrap=True, criterion=gini, max_depth=10, n_estimators=20, score=0.9335966798339917, total=   7.0s\n",
      "[CV] bootstrap=True, criterion=gini, max_depth=10, n_estimators=20 ...\n",
      "[CV]  bootstrap=True, criterion=gini, max_depth=10, n_estimators=20, score=0.9359903985597839, total=   7.1s\n",
      "[CV] bootstrap=True, criterion=gini, max_depth=10, n_estimators=50 ...\n",
      "[CV]  bootstrap=True, criterion=gini, max_depth=10, n_estimators=50, score=0.9432613477304539, total=  17.1s\n",
      "[CV] bootstrap=True, criterion=gini, max_depth=10, n_estimators=50 ...\n",
      "[CV]  bootstrap=True, criterion=gini, max_depth=10, n_estimators=50, score=0.9399469973498675, total=  17.2s\n",
      "[CV] bootstrap=True, criterion=gini, max_depth=10, n_estimators=50 ...\n",
      "[CV]  bootstrap=True, criterion=gini, max_depth=10, n_estimators=50, score=0.94224133620043, total=  17.3s\n",
      "[CV] bootstrap=True, criterion=gini, max_depth=15, n_estimators=5 ....\n",
      "[CV]  bootstrap=True, criterion=gini, max_depth=15, n_estimators=5, score=0.9146670665866826, total=   2.5s\n",
      "[CV] bootstrap=True, criterion=gini, max_depth=15, n_estimators=5 ....\n",
      "[CV]  bootstrap=True, criterion=gini, max_depth=15, n_estimators=5, score=0.9055952797639882, total=   2.5s\n",
      "[CV] bootstrap=True, criterion=gini, max_depth=15, n_estimators=5 ....\n",
      "[CV]  bootstrap=True, criterion=gini, max_depth=15, n_estimators=5, score=0.9144871730759614, total=   2.5s\n",
      "[CV] bootstrap=True, criterion=gini, max_depth=15, n_estimators=10 ...\n",
      "[CV]  bootstrap=True, criterion=gini, max_depth=15, n_estimators=10, score=0.9423615276944611, total=   4.7s\n",
      "[CV] bootstrap=True, criterion=gini, max_depth=15, n_estimators=10 ...\n",
      "[CV]  bootstrap=True, criterion=gini, max_depth=15, n_estimators=10, score=0.9368968448422421, total=   4.7s\n",
      "[CV] bootstrap=True, criterion=gini, max_depth=15, n_estimators=10 ...\n",
      "[CV]  bootstrap=True, criterion=gini, max_depth=15, n_estimators=10, score=0.9404910736610491, total=   4.6s\n",
      "[CV] bootstrap=True, criterion=gini, max_depth=15, n_estimators=20 ...\n",
      "[CV]  bootstrap=True, criterion=gini, max_depth=15, n_estimators=20, score=0.9550589882023596, total=   9.1s\n",
      "[CV] bootstrap=True, criterion=gini, max_depth=15, n_estimators=20 ...\n",
      "[CV]  bootstrap=True, criterion=gini, max_depth=15, n_estimators=20, score=0.9491474573728687, total=   9.0s\n",
      "[CV] bootstrap=True, criterion=gini, max_depth=15, n_estimators=20 ...\n",
      "[CV]  bootstrap=True, criterion=gini, max_depth=15, n_estimators=20, score=0.9528429264389658, total=   9.2s\n",
      "[CV] bootstrap=True, criterion=gini, max_depth=15, n_estimators=50 ...\n",
      "[CV]  bootstrap=True, criterion=gini, max_depth=15, n_estimators=50, score=0.9610077984403119, total=  22.2s\n",
      "[CV] bootstrap=True, criterion=gini, max_depth=15, n_estimators=50 ...\n",
      "[CV]  bootstrap=True, criterion=gini, max_depth=15, n_estimators=50, score=0.9582979148957448, total=  22.4s\n",
      "[CV] bootstrap=True, criterion=gini, max_depth=15, n_estimators=50 ...\n",
      "[CV]  bootstrap=True, criterion=gini, max_depth=15, n_estimators=50, score=0.9599439915987398, total=  22.2s\n",
      "[CV] bootstrap=True, criterion=entropy, max_depth=None, n_estimators=5 \n"
     ]
    },
    {
     "name": "stdout",
     "output_type": "stream",
     "text": [
      "[CV]  bootstrap=True, criterion=entropy, max_depth=None, n_estimators=5, score=0.917866426714657, total=   3.5s\n",
      "[CV] bootstrap=True, criterion=entropy, max_depth=None, n_estimators=5 \n",
      "[CV]  bootstrap=True, criterion=entropy, max_depth=None, n_estimators=5, score=0.9118455922796139, total=   3.5s\n",
      "[CV] bootstrap=True, criterion=entropy, max_depth=None, n_estimators=5 \n",
      "[CV]  bootstrap=True, criterion=entropy, max_depth=None, n_estimators=5, score=0.9136370455568336, total=   3.5s\n",
      "[CV] bootstrap=True, criterion=entropy, max_depth=None, n_estimators=10 \n",
      "[CV]  bootstrap=True, criterion=entropy, max_depth=None, n_estimators=10, score=0.9448610277944411, total=   6.7s\n",
      "[CV] bootstrap=True, criterion=entropy, max_depth=None, n_estimators=10 \n",
      "[CV]  bootstrap=True, criterion=entropy, max_depth=None, n_estimators=10, score=0.9393469673483674, total=   5.1s\n",
      "[CV] bootstrap=True, criterion=entropy, max_depth=None, n_estimators=10 \n",
      "[CV]  bootstrap=True, criterion=entropy, max_depth=None, n_estimators=10, score=0.9424413662049307, total=   3.5s\n",
      "[CV] bootstrap=True, criterion=entropy, max_depth=None, n_estimators=20 \n",
      "[CV]  bootstrap=True, criterion=entropy, max_depth=None, n_estimators=20, score=0.9585082983403319, total=   7.4s\n",
      "[CV] bootstrap=True, criterion=entropy, max_depth=None, n_estimators=20 \n",
      "[CV]  bootstrap=True, criterion=entropy, max_depth=None, n_estimators=20, score=0.9513475673783689, total=   6.4s\n",
      "[CV] bootstrap=True, criterion=entropy, max_depth=None, n_estimators=20 \n",
      "[CV]  bootstrap=True, criterion=entropy, max_depth=None, n_estimators=20, score=0.956143421513227, total=   6.3s\n",
      "[CV] bootstrap=True, criterion=entropy, max_depth=None, n_estimators=50 \n",
      "[CV]  bootstrap=True, criterion=entropy, max_depth=None, n_estimators=50, score=0.9634573085382924, total=  15.6s\n",
      "[CV] bootstrap=True, criterion=entropy, max_depth=None, n_estimators=50 \n",
      "[CV]  bootstrap=True, criterion=entropy, max_depth=None, n_estimators=50, score=0.9603480174008701, total=  15.0s\n",
      "[CV] bootstrap=True, criterion=entropy, max_depth=None, n_estimators=50 \n",
      "[CV]  bootstrap=True, criterion=entropy, max_depth=None, n_estimators=50, score=0.9633945091763765, total=  15.1s\n",
      "[CV] bootstrap=True, criterion=entropy, max_depth=5, n_estimators=5 ..\n",
      "[CV]  bootstrap=True, criterion=entropy, max_depth=5, n_estimators=5, score=0.7509498100379924, total=   0.7s\n",
      "[CV] bootstrap=True, criterion=entropy, max_depth=5, n_estimators=5 ..\n",
      "[CV]  bootstrap=True, criterion=entropy, max_depth=5, n_estimators=5, score=0.752637631881594, total=   0.7s\n",
      "[CV] bootstrap=True, criterion=entropy, max_depth=5, n_estimators=5 ..\n",
      "[CV]  bootstrap=True, criterion=entropy, max_depth=5, n_estimators=5, score=0.7687653147972195, total=   0.6s\n",
      "[CV] bootstrap=True, criterion=entropy, max_depth=5, n_estimators=10 .\n",
      "[CV]  bootstrap=True, criterion=entropy, max_depth=5, n_estimators=10, score=0.8285842831433713, total=   1.2s\n",
      "[CV] bootstrap=True, criterion=entropy, max_depth=5, n_estimators=10 .\n",
      "[CV]  bootstrap=True, criterion=entropy, max_depth=5, n_estimators=10, score=0.8067403370168509, total=   1.2s\n",
      "[CV] bootstrap=True, criterion=entropy, max_depth=5, n_estimators=10 .\n",
      "[CV]  bootstrap=True, criterion=entropy, max_depth=5, n_estimators=10, score=0.812171825773866, total=   1.2s\n",
      "[CV] bootstrap=True, criterion=entropy, max_depth=5, n_estimators=20 .\n",
      "[CV]  bootstrap=True, criterion=entropy, max_depth=5, n_estimators=20, score=0.8356328734253149, total=   2.3s\n",
      "[CV] bootstrap=True, criterion=entropy, max_depth=5, n_estimators=20 .\n",
      "[CV]  bootstrap=True, criterion=entropy, max_depth=5, n_estimators=20, score=0.8219410970548527, total=   2.3s\n",
      "[CV] bootstrap=True, criterion=entropy, max_depth=5, n_estimators=20 .\n",
      "[CV]  bootstrap=True, criterion=entropy, max_depth=5, n_estimators=20, score=0.8249737460619093, total=   2.4s\n",
      "[CV] bootstrap=True, criterion=entropy, max_depth=5, n_estimators=50 .\n",
      "[CV]  bootstrap=True, criterion=entropy, max_depth=5, n_estimators=50, score=0.8567286542691461, total=   6.2s\n",
      "[CV] bootstrap=True, criterion=entropy, max_depth=5, n_estimators=50 .\n",
      "[CV]  bootstrap=True, criterion=entropy, max_depth=5, n_estimators=50, score=0.8469923496174808, total=   5.9s\n",
      "[CV] bootstrap=True, criterion=entropy, max_depth=5, n_estimators=50 .\n",
      "[CV]  bootstrap=True, criterion=entropy, max_depth=5, n_estimators=50, score=0.840576086412962, total=   5.9s\n",
      "[CV] bootstrap=True, criterion=entropy, max_depth=10, n_estimators=5 .\n",
      "[CV]  bootstrap=True, criterion=entropy, max_depth=10, n_estimators=5, score=0.9064187162567486, total=   1.3s\n",
      "[CV] bootstrap=True, criterion=entropy, max_depth=10, n_estimators=5 .\n",
      "[CV]  bootstrap=True, criterion=entropy, max_depth=10, n_estimators=5, score=0.9054952747637381, total=   1.3s\n",
      "[CV] bootstrap=True, criterion=entropy, max_depth=10, n_estimators=5 .\n",
      "[CV]  bootstrap=True, criterion=entropy, max_depth=10, n_estimators=5, score=0.9054358153723059, total=   1.3s\n",
      "[CV] bootstrap=True, criterion=entropy, max_depth=10, n_estimators=10 \n",
      "[CV]  bootstrap=True, criterion=entropy, max_depth=10, n_estimators=10, score=0.9275144971005799, total=   2.5s\n",
      "[CV] bootstrap=True, criterion=entropy, max_depth=10, n_estimators=10 \n",
      "[CV]  bootstrap=True, criterion=entropy, max_depth=10, n_estimators=10, score=0.9256462823141157, total=   2.8s\n",
      "[CV] bootstrap=True, criterion=entropy, max_depth=10, n_estimators=10 \n",
      "[CV]  bootstrap=True, criterion=entropy, max_depth=10, n_estimators=10, score=0.926538980847127, total=   2.5s\n",
      "[CV] bootstrap=True, criterion=entropy, max_depth=10, n_estimators=20 \n",
      "[CV]  bootstrap=True, criterion=entropy, max_depth=10, n_estimators=20, score=0.9386622675464907, total=   5.1s\n",
      "[CV] bootstrap=True, criterion=entropy, max_depth=10, n_estimators=20 \n",
      "[CV]  bootstrap=True, criterion=entropy, max_depth=10, n_estimators=20, score=0.9393469673483674, total=   5.1s\n",
      "[CV] bootstrap=True, criterion=entropy, max_depth=10, n_estimators=20 \n",
      "[CV]  bootstrap=True, criterion=entropy, max_depth=10, n_estimators=20, score=0.9400410061509227, total=   5.1s\n",
      "[CV] bootstrap=True, criterion=entropy, max_depth=10, n_estimators=50 \n",
      "[CV]  bootstrap=True, criterion=entropy, max_depth=10, n_estimators=50, score=0.9468106378724255, total=  12.1s\n",
      "[CV] bootstrap=True, criterion=entropy, max_depth=10, n_estimators=50 \n",
      "[CV]  bootstrap=True, criterion=entropy, max_depth=10, n_estimators=50, score=0.9428971448572429, total=  12.8s\n",
      "[CV] bootstrap=True, criterion=entropy, max_depth=10, n_estimators=50 \n",
      "[CV]  bootstrap=True, criterion=entropy, max_depth=10, n_estimators=50, score=0.9452917937690654, total=  12.0s\n",
      "[CV] bootstrap=True, criterion=entropy, max_depth=15, n_estimators=5 .\n",
      "[CV]  bootstrap=True, criterion=entropy, max_depth=15, n_estimators=5, score=0.919366126774645, total=   1.5s\n",
      "[CV] bootstrap=True, criterion=entropy, max_depth=15, n_estimators=5 .\n",
      "[CV]  bootstrap=True, criterion=entropy, max_depth=15, n_estimators=5, score=0.9109955497774889, total=   1.5s\n",
      "[CV] bootstrap=True, criterion=entropy, max_depth=15, n_estimators=5 .\n",
      "[CV]  bootstrap=True, criterion=entropy, max_depth=15, n_estimators=5, score=0.9159373906085913, total=   1.5s\n",
      "[CV] bootstrap=True, criterion=entropy, max_depth=15, n_estimators=10 \n",
      "[CV]  bootstrap=True, criterion=entropy, max_depth=15, n_estimators=10, score=0.9446110777844431, total=   3.0s\n",
      "[CV] bootstrap=True, criterion=entropy, max_depth=15, n_estimators=10 \n",
      "[CV]  bootstrap=True, criterion=entropy, max_depth=15, n_estimators=10, score=0.9394469723486174, total=   2.9s\n",
      "[CV] bootstrap=True, criterion=entropy, max_depth=15, n_estimators=10 \n",
      "[CV]  bootstrap=True, criterion=entropy, max_depth=15, n_estimators=10, score=0.9413912086813022, total=   3.0s\n",
      "[CV] bootstrap=True, criterion=entropy, max_depth=15, n_estimators=20 \n",
      "[CV]  bootstrap=True, criterion=entropy, max_depth=15, n_estimators=20, score=0.9560087982403519, total=   5.9s\n",
      "[CV] bootstrap=True, criterion=entropy, max_depth=15, n_estimators=20 \n",
      "[CV]  bootstrap=True, criterion=entropy, max_depth=15, n_estimators=20, score=0.952847642382119, total=   5.9s\n",
      "[CV] bootstrap=True, criterion=entropy, max_depth=15, n_estimators=20 \n",
      "[CV]  bootstrap=True, criterion=entropy, max_depth=15, n_estimators=20, score=0.954993248987348, total=   6.3s\n",
      "[CV] bootstrap=True, criterion=entropy, max_depth=15, n_estimators=50 \n"
     ]
    },
    {
     "name": "stdout",
     "output_type": "stream",
     "text": [
      "[CV]  bootstrap=True, criterion=entropy, max_depth=15, n_estimators=50, score=0.9629574085182964, total=  16.0s\n",
      "[CV] bootstrap=True, criterion=entropy, max_depth=15, n_estimators=50 \n",
      "[CV]  bootstrap=True, criterion=entropy, max_depth=15, n_estimators=50, score=0.9582479123956198, total=  20.3s\n",
      "[CV] bootstrap=True, criterion=entropy, max_depth=15, n_estimators=50 \n",
      "[CV]  bootstrap=True, criterion=entropy, max_depth=15, n_estimators=50, score=0.9635945391808771, total=  21.0s\n",
      "[CV] bootstrap=False, criterion=gini, max_depth=None, n_estimators=5 .\n",
      "[CV]  bootstrap=False, criterion=gini, max_depth=None, n_estimators=5, score=0.9260147970405919, total=   3.1s\n",
      "[CV] bootstrap=False, criterion=gini, max_depth=None, n_estimators=5 .\n",
      "[CV]  bootstrap=False, criterion=gini, max_depth=None, n_estimators=5, score=0.9244462223111155, total=   3.1s\n",
      "[CV] bootstrap=False, criterion=gini, max_depth=None, n_estimators=5 .\n",
      "[CV]  bootstrap=False, criterion=gini, max_depth=None, n_estimators=5, score=0.9258888833324999, total=   2.5s\n",
      "[CV] bootstrap=False, criterion=gini, max_depth=None, n_estimators=10 \n",
      "[CV]  bootstrap=False, criterion=gini, max_depth=None, n_estimators=10, score=0.9514097180563887, total=   5.4s\n",
      "[CV] bootstrap=False, criterion=gini, max_depth=None, n_estimators=10 \n",
      "[CV]  bootstrap=False, criterion=gini, max_depth=None, n_estimators=10, score=0.9468973448672433, total=   4.7s\n",
      "[CV] bootstrap=False, criterion=gini, max_depth=None, n_estimators=10 \n",
      "[CV]  bootstrap=False, criterion=gini, max_depth=None, n_estimators=10, score=0.9484922738410762, total=   4.9s\n",
      "[CV] bootstrap=False, criterion=gini, max_depth=None, n_estimators=20 \n",
      "[CV]  bootstrap=False, criterion=gini, max_depth=None, n_estimators=20, score=0.9633073385322936, total=   9.7s\n",
      "[CV] bootstrap=False, criterion=gini, max_depth=None, n_estimators=20 \n",
      "[CV]  bootstrap=False, criterion=gini, max_depth=None, n_estimators=20, score=0.9592979648982449, total=   9.9s\n",
      "[CV] bootstrap=False, criterion=gini, max_depth=None, n_estimators=20 \n",
      "[CV]  bootstrap=False, criterion=gini, max_depth=None, n_estimators=20, score=0.9624943741561234, total=  10.1s\n",
      "[CV] bootstrap=False, criterion=gini, max_depth=None, n_estimators=50 \n",
      "[CV]  bootstrap=False, criterion=gini, max_depth=None, n_estimators=50, score=0.9688062387522496, total=  24.7s\n",
      "[CV] bootstrap=False, criterion=gini, max_depth=None, n_estimators=50 \n",
      "[CV]  bootstrap=False, criterion=gini, max_depth=None, n_estimators=50, score=0.9654982749137457, total=  25.0s\n",
      "[CV] bootstrap=False, criterion=gini, max_depth=None, n_estimators=50 \n",
      "[CV]  bootstrap=False, criterion=gini, max_depth=None, n_estimators=50, score=0.9680952142821423, total=  25.3s\n",
      "[CV] bootstrap=False, criterion=gini, max_depth=5, n_estimators=5 ....\n",
      "[CV]  bootstrap=False, criterion=gini, max_depth=5, n_estimators=5, score=0.7682963407318536, total=   1.0s\n",
      "[CV] bootstrap=False, criterion=gini, max_depth=5, n_estimators=5 ....\n",
      "[CV]  bootstrap=False, criterion=gini, max_depth=5, n_estimators=5, score=0.760038001900095, total=   1.0s\n",
      "[CV] bootstrap=False, criterion=gini, max_depth=5, n_estimators=5 ....\n",
      "[CV]  bootstrap=False, criterion=gini, max_depth=5, n_estimators=5, score=0.77331599739961, total=   1.1s\n",
      "[CV] bootstrap=False, criterion=gini, max_depth=5, n_estimators=10 ...\n",
      "[CV]  bootstrap=False, criterion=gini, max_depth=5, n_estimators=10, score=0.8126374725054989, total=   1.9s\n",
      "[CV] bootstrap=False, criterion=gini, max_depth=5, n_estimators=10 ...\n",
      "[CV]  bootstrap=False, criterion=gini, max_depth=5, n_estimators=10, score=0.7981899094954747, total=   2.0s\n",
      "[CV] bootstrap=False, criterion=gini, max_depth=5, n_estimators=10 ...\n",
      "[CV]  bootstrap=False, criterion=gini, max_depth=5, n_estimators=10, score=0.806520978146722, total=   1.9s\n",
      "[CV] bootstrap=False, criterion=gini, max_depth=5, n_estimators=20 ...\n",
      "[CV]  bootstrap=False, criterion=gini, max_depth=5, n_estimators=20, score=0.8333833233353329, total=   3.7s\n",
      "[CV] bootstrap=False, criterion=gini, max_depth=5, n_estimators=20 ...\n",
      "[CV]  bootstrap=False, criterion=gini, max_depth=5, n_estimators=20, score=0.824391219560978, total=   3.7s\n",
      "[CV] bootstrap=False, criterion=gini, max_depth=5, n_estimators=20 ...\n",
      "[CV]  bootstrap=False, criterion=gini, max_depth=5, n_estimators=20, score=0.8404260639095864, total=   4.1s\n",
      "[CV] bootstrap=False, criterion=gini, max_depth=5, n_estimators=50 ...\n",
      "[CV]  bootstrap=False, criterion=gini, max_depth=5, n_estimators=50, score=0.8553289342131574, total=   7.5s\n",
      "[CV] bootstrap=False, criterion=gini, max_depth=5, n_estimators=50 ...\n",
      "[CV]  bootstrap=False, criterion=gini, max_depth=5, n_estimators=50, score=0.8448922446122306, total=   8.3s\n",
      "[CV] bootstrap=False, criterion=gini, max_depth=5, n_estimators=50 ...\n",
      "[CV]  bootstrap=False, criterion=gini, max_depth=5, n_estimators=50, score=0.8490773616042406, total=   7.8s\n",
      "[CV] bootstrap=False, criterion=gini, max_depth=10, n_estimators=5 ...\n",
      "[CV]  bootstrap=False, criterion=gini, max_depth=10, n_estimators=5, score=0.9060187962407519, total=   1.4s\n",
      "[CV] bootstrap=False, criterion=gini, max_depth=10, n_estimators=5 ...\n",
      "[CV]  bootstrap=False, criterion=gini, max_depth=10, n_estimators=5, score=0.9036951847592379, total=   1.4s\n",
      "[CV] bootstrap=False, criterion=gini, max_depth=10, n_estimators=5 ...\n",
      "[CV]  bootstrap=False, criterion=gini, max_depth=10, n_estimators=5, score=0.9064359653948092, total=   1.4s\n",
      "[CV] bootstrap=False, criterion=gini, max_depth=10, n_estimators=10 ..\n",
      "[CV]  bootstrap=False, criterion=gini, max_depth=10, n_estimators=10, score=0.9274145170965807, total=   2.7s\n",
      "[CV] bootstrap=False, criterion=gini, max_depth=10, n_estimators=10 ..\n",
      "[CV]  bootstrap=False, criterion=gini, max_depth=10, n_estimators=10, score=0.9271963598179909, total=   2.7s\n",
      "[CV] bootstrap=False, criterion=gini, max_depth=10, n_estimators=10 ..\n",
      "[CV]  bootstrap=False, criterion=gini, max_depth=10, n_estimators=10, score=0.9264389658448767, total=   2.7s\n",
      "[CV] bootstrap=False, criterion=gini, max_depth=10, n_estimators=20 ..\n",
      "[CV]  bootstrap=False, criterion=gini, max_depth=10, n_estimators=20, score=0.9403119376124776, total=   5.3s\n",
      "[CV] bootstrap=False, criterion=gini, max_depth=10, n_estimators=20 ..\n",
      "[CV]  bootstrap=False, criterion=gini, max_depth=10, n_estimators=20, score=0.935446772338617, total=   5.3s\n",
      "[CV] bootstrap=False, criterion=gini, max_depth=10, n_estimators=20 ..\n",
      "[CV]  bootstrap=False, criterion=gini, max_depth=10, n_estimators=20, score=0.9380407061059158, total=   5.3s\n",
      "[CV] bootstrap=False, criterion=gini, max_depth=10, n_estimators=50 ..\n",
      "[CV]  bootstrap=False, criterion=gini, max_depth=10, n_estimators=50, score=0.9486102779444111, total=  13.7s\n",
      "[CV] bootstrap=False, criterion=gini, max_depth=10, n_estimators=50 ..\n",
      "[CV]  bootstrap=False, criterion=gini, max_depth=10, n_estimators=50, score=0.9403970198509926, total=  14.6s\n",
      "[CV] bootstrap=False, criterion=gini, max_depth=10, n_estimators=50 ..\n",
      "[CV]  bootstrap=False, criterion=gini, max_depth=10, n_estimators=50, score=0.9436915537330599, total=  13.3s\n",
      "[CV] bootstrap=False, criterion=gini, max_depth=15, n_estimators=5 ...\n",
      "[CV]  bootstrap=False, criterion=gini, max_depth=15, n_estimators=5, score=0.9290141971605679, total=   1.8s\n",
      "[CV] bootstrap=False, criterion=gini, max_depth=15, n_estimators=5 ...\n",
      "[CV]  bootstrap=False, criterion=gini, max_depth=15, n_estimators=5, score=0.91999599979999, total=   1.9s\n",
      "[CV] bootstrap=False, criterion=gini, max_depth=15, n_estimators=5 ...\n",
      "[CV]  bootstrap=False, criterion=gini, max_depth=15, n_estimators=5, score=0.923838575786368, total=   1.9s\n",
      "[CV] bootstrap=False, criterion=gini, max_depth=15, n_estimators=10 ..\n",
      "[CV]  bootstrap=False, criterion=gini, max_depth=15, n_estimators=10, score=0.9493601279744052, total=   3.7s\n",
      "[CV] bootstrap=False, criterion=gini, max_depth=15, n_estimators=10 ..\n",
      "[CV]  bootstrap=False, criterion=gini, max_depth=15, n_estimators=10, score=0.943797189859493, total=   3.5s\n",
      "[CV] bootstrap=False, criterion=gini, max_depth=15, n_estimators=10 ..\n",
      "[CV]  bootstrap=False, criterion=gini, max_depth=15, n_estimators=10, score=0.9474921238185728, total=   3.5s\n",
      "[CV] bootstrap=False, criterion=gini, max_depth=15, n_estimators=20 ..\n",
      "[CV]  bootstrap=False, criterion=gini, max_depth=15, n_estimators=20, score=0.9600079984003199, total=   7.1s\n",
      "[CV] bootstrap=False, criterion=gini, max_depth=15, n_estimators=20 ..\n"
     ]
    },
    {
     "name": "stdout",
     "output_type": "stream",
     "text": [
      "[CV]  bootstrap=False, criterion=gini, max_depth=15, n_estimators=20, score=0.9570978548927447, total=   6.7s\n",
      "[CV] bootstrap=False, criterion=gini, max_depth=15, n_estimators=20 ..\n",
      "[CV]  bootstrap=False, criterion=gini, max_depth=15, n_estimators=20, score=0.957343601540231, total=   7.8s\n",
      "[CV] bootstrap=False, criterion=gini, max_depth=15, n_estimators=50 ..\n",
      "[CV]  bootstrap=False, criterion=gini, max_depth=15, n_estimators=50, score=0.9656568686262748, total=  17.4s\n",
      "[CV] bootstrap=False, criterion=gini, max_depth=15, n_estimators=50 ..\n",
      "[CV]  bootstrap=False, criterion=gini, max_depth=15, n_estimators=50, score=0.9628981449072453, total=  17.7s\n",
      "[CV] bootstrap=False, criterion=gini, max_depth=15, n_estimators=50 ..\n",
      "[CV]  bootstrap=False, criterion=gini, max_depth=15, n_estimators=50, score=0.9648947342101315, total=  17.4s\n",
      "[CV] bootstrap=False, criterion=entropy, max_depth=None, n_estimators=5 \n",
      "[CV]  bootstrap=False, criterion=entropy, max_depth=None, n_estimators=5, score=0.9314637072585483, total=   2.9s\n",
      "[CV] bootstrap=False, criterion=entropy, max_depth=None, n_estimators=5 \n",
      "[CV]  bootstrap=False, criterion=entropy, max_depth=None, n_estimators=5, score=0.9254962748137406, total=   2.6s\n",
      "[CV] bootstrap=False, criterion=entropy, max_depth=None, n_estimators=5 \n",
      "[CV]  bootstrap=False, criterion=entropy, max_depth=None, n_estimators=5, score=0.92443866579987, total=   2.5s\n",
      "[CV] bootstrap=False, criterion=entropy, max_depth=None, n_estimators=10 \n",
      "[CV]  bootstrap=False, criterion=entropy, max_depth=None, n_estimators=10, score=0.9529094181163767, total=   4.8s\n",
      "[CV] bootstrap=False, criterion=entropy, max_depth=None, n_estimators=10 \n",
      "[CV]  bootstrap=False, criterion=entropy, max_depth=None, n_estimators=10, score=0.9473473673683684, total=   5.0s\n",
      "[CV] bootstrap=False, criterion=entropy, max_depth=None, n_estimators=10 \n",
      "[CV]  bootstrap=False, criterion=entropy, max_depth=None, n_estimators=10, score=0.9517927689153373, total=   4.9s\n",
      "[CV] bootstrap=False, criterion=entropy, max_depth=None, n_estimators=20 \n",
      "[CV]  bootstrap=False, criterion=entropy, max_depth=None, n_estimators=20, score=0.9631073785242952, total=   9.7s\n",
      "[CV] bootstrap=False, criterion=entropy, max_depth=None, n_estimators=20 \n",
      "[CV]  bootstrap=False, criterion=entropy, max_depth=None, n_estimators=20, score=0.9598479923996199, total=   9.4s\n",
      "[CV] bootstrap=False, criterion=entropy, max_depth=None, n_estimators=20 \n",
      "[CV]  bootstrap=False, criterion=entropy, max_depth=None, n_estimators=20, score=0.9620943141471221, total=   9.3s\n",
      "[CV] bootstrap=False, criterion=entropy, max_depth=None, n_estimators=50 \n",
      "[CV]  bootstrap=False, criterion=entropy, max_depth=None, n_estimators=50, score=0.9689562087582484, total=  24.2s\n",
      "[CV] bootstrap=False, criterion=entropy, max_depth=None, n_estimators=50 \n",
      "[CV]  bootstrap=False, criterion=entropy, max_depth=None, n_estimators=50, score=0.9669483474173709, total=  22.9s\n",
      "[CV] bootstrap=False, criterion=entropy, max_depth=None, n_estimators=50 \n",
      "[CV]  bootstrap=False, criterion=entropy, max_depth=None, n_estimators=50, score=0.967995199279892, total=  23.6s\n",
      "[CV] bootstrap=False, criterion=entropy, max_depth=5, n_estimators=5 .\n",
      "[CV]  bootstrap=False, criterion=entropy, max_depth=5, n_estimators=5, score=0.7805938812237553, total=   0.9s\n",
      "[CV] bootstrap=False, criterion=entropy, max_depth=5, n_estimators=5 .\n",
      "[CV]  bootstrap=False, criterion=entropy, max_depth=5, n_estimators=5, score=0.7448372418620931, total=   0.9s\n",
      "[CV] bootstrap=False, criterion=entropy, max_depth=5, n_estimators=5 .\n",
      "[CV]  bootstrap=False, criterion=entropy, max_depth=5, n_estimators=5, score=0.754963244486673, total=   0.9s\n",
      "[CV] bootstrap=False, criterion=entropy, max_depth=5, n_estimators=10 \n",
      "[CV]  bootstrap=False, criterion=entropy, max_depth=5, n_estimators=10, score=0.8211857628474305, total=   1.7s\n",
      "[CV] bootstrap=False, criterion=entropy, max_depth=5, n_estimators=10 \n",
      "[CV]  bootstrap=False, criterion=entropy, max_depth=5, n_estimators=10, score=0.8095904795239762, total=   1.6s\n",
      "[CV] bootstrap=False, criterion=entropy, max_depth=5, n_estimators=10 \n",
      "[CV]  bootstrap=False, criterion=entropy, max_depth=5, n_estimators=10, score=0.8075711356703505, total=   1.7s\n",
      "[CV] bootstrap=False, criterion=entropy, max_depth=5, n_estimators=20 \n",
      "[CV]  bootstrap=False, criterion=entropy, max_depth=5, n_estimators=20, score=0.8369326134773045, total=   3.3s\n",
      "[CV] bootstrap=False, criterion=entropy, max_depth=5, n_estimators=20 \n",
      "[CV]  bootstrap=False, criterion=entropy, max_depth=5, n_estimators=20, score=0.8373918695934797, total=   3.3s\n",
      "[CV] bootstrap=False, criterion=entropy, max_depth=5, n_estimators=20 \n",
      "[CV]  bootstrap=False, criterion=entropy, max_depth=5, n_estimators=20, score=0.8322748412261839, total=   3.3s\n",
      "[CV] bootstrap=False, criterion=entropy, max_depth=5, n_estimators=50 \n",
      "[CV]  bootstrap=False, criterion=entropy, max_depth=5, n_estimators=50, score=0.8503799240151969, total=   8.0s\n",
      "[CV] bootstrap=False, criterion=entropy, max_depth=5, n_estimators=50 \n",
      "[CV]  bootstrap=False, criterion=entropy, max_depth=5, n_estimators=50, score=0.8391419570978549, total=   8.0s\n",
      "[CV] bootstrap=False, criterion=entropy, max_depth=5, n_estimators=50 \n",
      "[CV]  bootstrap=False, criterion=entropy, max_depth=5, n_estimators=50, score=0.8485772865929889, total=   8.1s\n",
      "[CV] bootstrap=False, criterion=entropy, max_depth=10, n_estimators=5 \n",
      "[CV]  bootstrap=False, criterion=entropy, max_depth=10, n_estimators=5, score=0.914617076584683, total=   1.9s\n",
      "[CV] bootstrap=False, criterion=entropy, max_depth=10, n_estimators=5 \n",
      "[CV]  bootstrap=False, criterion=entropy, max_depth=10, n_estimators=5, score=0.9066453322666134, total=   1.9s\n",
      "[CV] bootstrap=False, criterion=entropy, max_depth=10, n_estimators=5 \n",
      "[CV]  bootstrap=False, criterion=entropy, max_depth=10, n_estimators=5, score=0.9112366855028254, total=   1.9s\n",
      "[CV] bootstrap=False, criterion=entropy, max_depth=10, n_estimators=10 \n",
      "[CV]  bootstrap=False, criterion=entropy, max_depth=10, n_estimators=10, score=0.9347130573885223, total=   3.7s\n",
      "[CV] bootstrap=False, criterion=entropy, max_depth=10, n_estimators=10 \n",
      "[CV]  bootstrap=False, criterion=entropy, max_depth=10, n_estimators=10, score=0.9247462373118656, total=   3.5s\n",
      "[CV] bootstrap=False, criterion=entropy, max_depth=10, n_estimators=10 \n",
      "[CV]  bootstrap=False, criterion=entropy, max_depth=10, n_estimators=10, score=0.9284392658898835, total=   3.6s\n",
      "[CV] bootstrap=False, criterion=entropy, max_depth=10, n_estimators=20 \n",
      "[CV]  bootstrap=False, criterion=entropy, max_depth=10, n_estimators=20, score=0.9421115776844631, total=   7.0s\n",
      "[CV] bootstrap=False, criterion=entropy, max_depth=10, n_estimators=20 \n",
      "[CV]  bootstrap=False, criterion=entropy, max_depth=10, n_estimators=20, score=0.9372968648432422, total=   7.0s\n",
      "[CV] bootstrap=False, criterion=entropy, max_depth=10, n_estimators=20 \n",
      "[CV]  bootstrap=False, criterion=entropy, max_depth=10, n_estimators=20, score=0.9402910436565485, total=   7.1s\n",
      "[CV] bootstrap=False, criterion=entropy, max_depth=10, n_estimators=50 \n",
      "[CV]  bootstrap=False, criterion=entropy, max_depth=10, n_estimators=50, score=0.9487602479504099, total=  17.8s\n",
      "[CV] bootstrap=False, criterion=entropy, max_depth=10, n_estimators=50 \n",
      "[CV]  bootstrap=False, criterion=entropy, max_depth=10, n_estimators=50, score=0.9451472573628682, total=  18.1s\n",
      "[CV] bootstrap=False, criterion=entropy, max_depth=10, n_estimators=50 \n",
      "[CV]  bootstrap=False, criterion=entropy, max_depth=10, n_estimators=50, score=0.945491823773566, total=  17.5s\n",
      "[CV] bootstrap=False, criterion=entropy, max_depth=15, n_estimators=5 \n",
      "[CV]  bootstrap=False, criterion=entropy, max_depth=15, n_estimators=5, score=0.9275144971005799, total=   2.3s\n",
      "[CV] bootstrap=False, criterion=entropy, max_depth=15, n_estimators=5 \n",
      "[CV]  bootstrap=False, criterion=entropy, max_depth=15, n_estimators=5, score=0.9237461873093654, total=   2.3s\n",
      "[CV] bootstrap=False, criterion=entropy, max_depth=15, n_estimators=5 \n",
      "[CV]  bootstrap=False, criterion=entropy, max_depth=15, n_estimators=5, score=0.9269890483572536, total=   2.3s\n",
      "[CV] bootstrap=False, criterion=entropy, max_depth=15, n_estimators=10 \n",
      "[CV]  bootstrap=False, criterion=entropy, max_depth=15, n_estimators=10, score=0.9514597080583883, total=   4.5s\n",
      "[CV] bootstrap=False, criterion=entropy, max_depth=15, n_estimators=10 \n"
     ]
    },
    {
     "name": "stdout",
     "output_type": "stream",
     "text": [
      "[CV]  bootstrap=False, criterion=entropy, max_depth=15, n_estimators=10, score=0.9482974148707435, total=   4.6s\n",
      "[CV] bootstrap=False, criterion=entropy, max_depth=15, n_estimators=10 \n",
      "[CV]  bootstrap=False, criterion=entropy, max_depth=15, n_estimators=10, score=0.949642446366955, total=   4.5s\n",
      "[CV] bootstrap=False, criterion=entropy, max_depth=15, n_estimators=20 \n",
      "[CV]  bootstrap=False, criterion=entropy, max_depth=15, n_estimators=20, score=0.9612077584483103, total=   9.6s\n",
      "[CV] bootstrap=False, criterion=entropy, max_depth=15, n_estimators=20 \n",
      "[CV]  bootstrap=False, criterion=entropy, max_depth=15, n_estimators=20, score=0.9572978648932446, total=   8.9s\n",
      "[CV] bootstrap=False, criterion=entropy, max_depth=15, n_estimators=20 \n",
      "[CV]  bootstrap=False, criterion=entropy, max_depth=15, n_estimators=20, score=0.9595939390908637, total=   9.0s\n",
      "[CV] bootstrap=False, criterion=entropy, max_depth=15, n_estimators=50 \n",
      "[CV]  bootstrap=False, criterion=entropy, max_depth=15, n_estimators=50, score=0.9660567886422715, total=  22.9s\n",
      "[CV] bootstrap=False, criterion=entropy, max_depth=15, n_estimators=50 \n",
      "[CV]  bootstrap=False, criterion=entropy, max_depth=15, n_estimators=50, score=0.9647482374118705, total=  23.0s\n",
      "[CV] bootstrap=False, criterion=entropy, max_depth=15, n_estimators=50 \n",
      "[CV]  bootstrap=False, criterion=entropy, max_depth=15, n_estimators=50, score=0.966244936740511, total=  23.1s\n"
     ]
    },
    {
     "name": "stderr",
     "output_type": "stream",
     "text": [
      "[Parallel(n_jobs=1)]: Done 192 out of 192 | elapsed: 24.6min finished\n"
     ]
    },
    {
     "name": "stdout",
     "output_type": "stream",
     "text": [
      "Melhor score: 0.9680\n"
     ]
    }
   ],
   "source": [
    "# Será que o resultado será o mesmo utilizando X_train ao invés de X_train_scaled?\n",
    "from sklearn.model_selection import GridSearchCV\n",
    "\n",
    "# Definindo parâmetros para Decision Trees\n",
    "param_grid_forest = [\n",
    "    {\n",
    "        'n_estimators': [5, 10, 20, 50],        \n",
    "        'criterion': ['gini', 'entropy'],\n",
    "        #'min_samples_split': [2, 10, 20],\n",
    "        'max_depth': [None, 5, 10, 15],\n",
    "        #'min_samples_leaf': [1, 5, 10],\n",
    "        'bootstrap': [True, False]\n",
    "    }\n",
    "]\n",
    "\n",
    "# Criando classificador\n",
    "forest_clf = RandomForestClassifier()\n",
    "\n",
    "# Treinando e procurando a melhor combinação\n",
    "grid_search = GridSearchCV(forest_clf, param_grid_forest, cv=3, \n",
    "                           scoring='accuracy', verbose=3)\n",
    "\n",
    "grid_search.fit(X_train, y_train)\n",
    "print(f'Melhor score: {grid_search.best_score_:.4f}')"
   ]
  },
  {
   "cell_type": "code",
   "execution_count": 32,
   "metadata": {
    "ExecuteTime": {
     "end_time": "2019-01-05T19:07:22.291346Z",
     "start_time": "2019-01-05T19:07:22.276385Z"
    }
   },
   "outputs": [
    {
     "data": {
      "text/plain": [
       "0.9679666666666666"
      ]
     },
     "execution_count": 32,
     "metadata": {},
     "output_type": "execute_result"
    }
   ],
   "source": [
    "grid_search.best_score_"
   ]
  },
  {
   "cell_type": "markdown",
   "metadata": {},
   "source": [
    "Sim, houve um aumento mínimo de ganho de acurácia utilizando os dados brutos X_train (e não X_train_scaled). Isto pode ser explicado pela não sensibilidade do algoritmo de Árvores de Decisão quanto a padronização dos dados."
   ]
  },
  {
   "cell_type": "code",
   "execution_count": 33,
   "metadata": {
    "ExecuteTime": {
     "end_time": "2019-01-05T19:08:30.962043Z",
     "start_time": "2019-01-05T19:08:30.956058Z"
    }
   },
   "outputs": [],
   "source": [
    "# Salvando novamente\n",
    "dict_accs_forest['acc_train_grid'] = round(grid_search.best_score_, 4)"
   ]
  },
  {
   "cell_type": "code",
   "execution_count": 34,
   "metadata": {
    "ExecuteTime": {
     "end_time": "2019-01-05T19:08:42.944011Z",
     "start_time": "2019-01-05T19:08:42.937013Z"
    }
   },
   "outputs": [
    {
     "data": {
      "text/plain": [
       "{'acc_test': 0.9501,\n",
       " 'acc_test_cv': 0.8862,\n",
       " 'acc_train': 0.9994,\n",
       " 'acc_train_cv': 0.9393,\n",
       " 'acc_train_grid': 0.968,\n",
       " 'acc_train_scaled': 0.9412}"
      ]
     },
     "execution_count": 34,
     "metadata": {},
     "output_type": "execute_result"
    }
   ],
   "source": [
    "# Verificando resultados até o momento\n",
    "dict_accs_forest"
   ]
  },
  {
   "cell_type": "markdown",
   "metadata": {},
   "source": [
    "### Dados de Teste"
   ]
  },
  {
   "cell_type": "code",
   "execution_count": 25,
   "metadata": {
    "ExecuteTime": {
     "end_time": "2019-01-05T16:33:57.316655Z",
     "start_time": "2019-01-05T16:33:49.319937Z"
    }
   },
   "outputs": [
    {
     "name": "stdout",
     "output_type": "stream",
     "text": [
      "Acurácia normal (dados de teste): 0.9501\n"
     ]
    }
   ],
   "source": [
    "# 1 - Acurácia normal\n",
    "forest_clf = RandomForestClassifier()\n",
    "\n",
    "# Treinando o modelo e predizendo valores\n",
    "forest_clf.fit(X_train, y_train)\n",
    "test_pred = forest_clf.predict(X_test)\n",
    "\n",
    "# Verificando acurácia\n",
    "acc_forest_test = accuracy_score(y_test, test_pred)\n",
    "print(f'Acurácia normal (dados de teste): {acc_forest_test:.4f}')"
   ]
  },
  {
   "cell_type": "code",
   "execution_count": 26,
   "metadata": {
    "ExecuteTime": {
     "end_time": "2019-01-05T16:34:07.174673Z",
     "start_time": "2019-01-05T16:34:07.168668Z"
    }
   },
   "outputs": [],
   "source": [
    "# Salvando dados\n",
    "dict_accs_forest['acc_test'] = round(acc_forest_test, 4)"
   ]
  },
  {
   "cell_type": "code",
   "execution_count": 28,
   "metadata": {
    "ExecuteTime": {
     "end_time": "2019-01-05T16:36:54.662188Z",
     "start_time": "2019-01-05T16:36:52.849102Z"
    }
   },
   "outputs": [
    {
     "name": "stdout",
     "output_type": "stream",
     "text": [
      "Scores: [0.85769922 0.89018902 0.91078402]\n",
      "Média: 0.8862\n",
      "Desvio Padrão: 0.0219\n"
     ]
    }
   ],
   "source": [
    "# 2 - Acurácia com cross validation\n",
    "test_scores = cross_val_score(forest_clf, X_test, y_test,\n",
    "                             cv=3, scoring='accuracy')\n",
    "display_scores(test_scores)"
   ]
  },
  {
   "cell_type": "code",
   "execution_count": 29,
   "metadata": {
    "ExecuteTime": {
     "end_time": "2019-01-05T16:37:39.437316Z",
     "start_time": "2019-01-05T16:37:39.429749Z"
    }
   },
   "outputs": [],
   "source": [
    "# Salvando dados\n",
    "dict_accs_forest['acc_test_cv'] = round(test_scores.mean(), 4)"
   ]
  },
  {
   "cell_type": "code",
   "execution_count": 30,
   "metadata": {
    "ExecuteTime": {
     "end_time": "2019-01-05T16:39:59.137621Z",
     "start_time": "2019-01-05T16:39:48.555370Z"
    }
   },
   "outputs": [
    {
     "name": "stderr",
     "output_type": "stream",
     "text": [
      "C:\\Users\\thiagoPanini\\Anaconda3\\lib\\site-packages\\sklearn\\utils\\validation.py:475: DataConversionWarning: Data with input dtype uint8 was converted to float64 by StandardScaler.\n",
      "  warnings.warn(msg, DataConversionWarning)\n"
     ]
    },
    {
     "name": "stdout",
     "output_type": "stream",
     "text": [
      "Acurácia com dados padronizados (dados de teste): 0.8716\n"
     ]
    }
   ],
   "source": [
    "# 3 - Acurácia com dados padronizados\n",
    "\n",
    "# Criando classificador\n",
    "forest_clf = RandomForestClassifier()\n",
    "\n",
    "# Criando padronizador e padronizando dados\n",
    "scaler = StandardScaler()\n",
    "X_train_scaled = scaler.fit_transform(X_train)\n",
    "X_test_scaled = scaler.fit_transform(X_test)\n",
    "\n",
    "# Treinando modelo\n",
    "forest_clf.fit(X_train_scaled, y_train)\n",
    "\n",
    "# Realizando predições com os dados de teste\n",
    "forest_pred_scaled = forest_clf.predict(X_test_scaled)\n",
    "\n",
    "# Verificando acurácia\n",
    "acc_test_scaled = accuracy_score(y_test, forest_pred_scaled)\n",
    "print(f'Acurácia com dados padronizados (dados de teste): {acc_test_scaled:.4f}')"
   ]
  },
  {
   "cell_type": "code",
   "execution_count": 37,
   "metadata": {
    "ExecuteTime": {
     "end_time": "2019-01-05T19:12:12.482589Z",
     "start_time": "2019-01-05T19:12:12.468246Z"
    }
   },
   "outputs": [],
   "source": [
    "# Salvando dados\n",
    "dict_accs_forest['acc_test_scaled'] = round(acc_test_scaled, 4)"
   ]
  },
  {
   "cell_type": "code",
   "execution_count": 35,
   "metadata": {
    "ExecuteTime": {
     "end_time": "2019-01-05T19:09:42.180971Z",
     "start_time": "2019-01-05T19:09:04.626348Z"
    }
   },
   "outputs": [
    {
     "name": "stderr",
     "output_type": "stream",
     "text": [
      "C:\\Users\\thiagoPanini\\Anaconda3\\lib\\site-packages\\sklearn\\utils\\validation.py:475: DataConversionWarning: Data with input dtype uint8 was converted to float64 by StandardScaler.\n",
      "  warnings.warn(msg, DataConversionWarning)\n"
     ]
    },
    {
     "data": {
      "text/plain": [
       "0.9511"
      ]
     },
     "execution_count": 35,
     "metadata": {},
     "output_type": "execute_result"
    }
   ],
   "source": [
    "# 4 - Acurácia com melhores parâmetros (grid - teste)\n",
    "final_model = grid_search.best_estimator_\n",
    "final_model.fit(X_train_scaled, y_train)\n",
    "\n",
    "X_test_scaled = scaler.fit_transform(X_test)\n",
    "pred = final_model.predict(X_test_scaled)\n",
    "\n",
    "accuracy_score(y_test, pred)"
   ]
  },
  {
   "cell_type": "code",
   "execution_count": 36,
   "metadata": {
    "ExecuteTime": {
     "end_time": "2019-01-05T19:10:39.589702Z",
     "start_time": "2019-01-05T19:10:02.184198Z"
    }
   },
   "outputs": [
    {
     "name": "stderr",
     "output_type": "stream",
     "text": [
      "C:\\Users\\thiagoPanini\\Anaconda3\\lib\\site-packages\\sklearn\\utils\\validation.py:475: DataConversionWarning: Data with input dtype uint8 was converted to float64 by StandardScaler.\n",
      "  warnings.warn(msg, DataConversionWarning)\n"
     ]
    },
    {
     "data": {
      "text/plain": [
       "0.9703"
      ]
     },
     "execution_count": 36,
     "metadata": {},
     "output_type": "execute_result"
    }
   ],
   "source": [
    "# 4 - Acurácia com melhores parâmetros (grid - teste sem padronizar)\n",
    "final_model = grid_search.best_estimator_\n",
    "final_model.fit(X_train, y_train)\n",
    "\n",
    "X_test_scaled = scaler.fit_transform(X_test)\n",
    "pred = final_model.predict(X_test)\n",
    "\n",
    "accuracy_score(y_test, pred)"
   ]
  },
  {
   "cell_type": "code",
   "execution_count": 38,
   "metadata": {
    "ExecuteTime": {
     "end_time": "2019-01-05T19:12:39.877929Z",
     "start_time": "2019-01-05T19:12:39.871946Z"
    }
   },
   "outputs": [],
   "source": [
    "# Salvando dados\n",
    "dict_accs_forest['acc_test_grid'] = round(accuracy_score(y_test, pred), 4)"
   ]
  },
  {
   "cell_type": "code",
   "execution_count": 39,
   "metadata": {
    "ExecuteTime": {
     "end_time": "2019-01-05T19:12:46.711904Z",
     "start_time": "2019-01-05T19:12:46.706921Z"
    }
   },
   "outputs": [
    {
     "data": {
      "text/plain": [
       "{'acc_test': 0.9501,\n",
       " 'acc_test_cv': 0.8862,\n",
       " 'acc_test_grid': 0.9703,\n",
       " 'acc_test_scaled': 0.8716,\n",
       " 'acc_train': 0.9994,\n",
       " 'acc_train_cv': 0.9393,\n",
       " 'acc_train_grid': 0.968,\n",
       " 'acc_train_scaled': 0.9412}"
      ]
     },
     "execution_count": 39,
     "metadata": {},
     "output_type": "execute_result"
    }
   ],
   "source": [
    "# Verificando\n",
    "dict_accs_forest"
   ]
  },
  {
   "cell_type": "code",
   "execution_count": 40,
   "metadata": {
    "ExecuteTime": {
     "end_time": "2019-01-05T19:13:00.370448Z",
     "start_time": "2019-01-05T19:13:00.348500Z"
    }
   },
   "outputs": [
    {
     "data": {
      "text/html": [
       "<div>\n",
       "<style scoped>\n",
       "    .dataframe tbody tr th:only-of-type {\n",
       "        vertical-align: middle;\n",
       "    }\n",
       "\n",
       "    .dataframe tbody tr th {\n",
       "        vertical-align: top;\n",
       "    }\n",
       "\n",
       "    .dataframe thead th {\n",
       "        text-align: right;\n",
       "    }\n",
       "</style>\n",
       "<table border=\"1\" class=\"dataframe\">\n",
       "  <thead>\n",
       "    <tr style=\"text-align: right;\">\n",
       "      <th></th>\n",
       "      <th>acc_train</th>\n",
       "      <th>acc_train_cv</th>\n",
       "      <th>acc_train_scaled</th>\n",
       "      <th>acc_train_grid</th>\n",
       "      <th>acc_test</th>\n",
       "      <th>acc_test_cv</th>\n",
       "      <th>acc_test_scaled</th>\n",
       "      <th>acc_test_grid</th>\n",
       "    </tr>\n",
       "  </thead>\n",
       "  <tbody>\n",
       "    <tr>\n",
       "      <th>dtree</th>\n",
       "      <td>1.0000</td>\n",
       "      <td>0.8617</td>\n",
       "      <td>0.8629</td>\n",
       "      <td>0.9571</td>\n",
       "      <td>0.878</td>\n",
       "      <td>0.7650</td>\n",
       "      <td>0.7645</td>\n",
       "      <td>0.8356</td>\n",
       "    </tr>\n",
       "    <tr>\n",
       "      <th>sgd_clf</th>\n",
       "      <td>0.8885</td>\n",
       "      <td>0.8594</td>\n",
       "      <td>0.9105</td>\n",
       "      <td>0.9101</td>\n",
       "      <td>0.873</td>\n",
       "      <td>0.8692</td>\n",
       "      <td>0.9117</td>\n",
       "      <td>0.9125</td>\n",
       "    </tr>\n",
       "  </tbody>\n",
       "</table>\n",
       "</div>"
      ],
      "text/plain": [
       "         acc_train  acc_train_cv  acc_train_scaled  acc_train_grid  acc_test  \\\n",
       "dtree       1.0000        0.8617            0.8629          0.9571     0.878   \n",
       "sgd_clf     0.8885        0.8594            0.9105          0.9101     0.873   \n",
       "\n",
       "         acc_test_cv  acc_test_scaled  acc_test_grid  \n",
       "dtree         0.7650           0.7645         0.8356  \n",
       "sgd_clf       0.8692           0.9117         0.9125  "
      ]
     },
     "execution_count": 40,
     "metadata": {},
     "output_type": "execute_result"
    }
   ],
   "source": [
    "# Juntando dados\n",
    "dataset_accs"
   ]
  },
  {
   "cell_type": "code",
   "execution_count": 41,
   "metadata": {
    "ExecuteTime": {
     "end_time": "2019-01-05T19:13:27.061427Z",
     "start_time": "2019-01-05T19:13:26.851979Z"
    }
   },
   "outputs": [
    {
     "data": {
      "text/html": [
       "<div>\n",
       "<style scoped>\n",
       "    .dataframe tbody tr th:only-of-type {\n",
       "        vertical-align: middle;\n",
       "    }\n",
       "\n",
       "    .dataframe tbody tr th {\n",
       "        vertical-align: top;\n",
       "    }\n",
       "\n",
       "    .dataframe thead th {\n",
       "        text-align: right;\n",
       "    }\n",
       "</style>\n",
       "<table border=\"1\" class=\"dataframe\">\n",
       "  <thead>\n",
       "    <tr style=\"text-align: right;\">\n",
       "      <th></th>\n",
       "      <th>acc_train</th>\n",
       "      <th>acc_train_cv</th>\n",
       "      <th>acc_train_scaled</th>\n",
       "      <th>acc_train_grid</th>\n",
       "      <th>acc_test</th>\n",
       "      <th>acc_test_cv</th>\n",
       "      <th>acc_test_scaled</th>\n",
       "      <th>acc_test_grid</th>\n",
       "    </tr>\n",
       "  </thead>\n",
       "  <tbody>\n",
       "    <tr>\n",
       "      <th>0</th>\n",
       "      <td>1.0000</td>\n",
       "      <td>0.8617</td>\n",
       "      <td>0.8629</td>\n",
       "      <td>0.9571</td>\n",
       "      <td>0.8780</td>\n",
       "      <td>0.7650</td>\n",
       "      <td>0.7645</td>\n",
       "      <td>0.8356</td>\n",
       "    </tr>\n",
       "    <tr>\n",
       "      <th>1</th>\n",
       "      <td>0.8885</td>\n",
       "      <td>0.8594</td>\n",
       "      <td>0.9105</td>\n",
       "      <td>0.9101</td>\n",
       "      <td>0.8730</td>\n",
       "      <td>0.8692</td>\n",
       "      <td>0.9117</td>\n",
       "      <td>0.9125</td>\n",
       "    </tr>\n",
       "    <tr>\n",
       "      <th>2</th>\n",
       "      <td>0.9994</td>\n",
       "      <td>0.9393</td>\n",
       "      <td>0.9412</td>\n",
       "      <td>0.9680</td>\n",
       "      <td>0.9501</td>\n",
       "      <td>0.8862</td>\n",
       "      <td>0.8716</td>\n",
       "      <td>0.9703</td>\n",
       "    </tr>\n",
       "  </tbody>\n",
       "</table>\n",
       "</div>"
      ],
      "text/plain": [
       "   acc_train  acc_train_cv  acc_train_scaled  acc_train_grid  acc_test  \\\n",
       "0     1.0000        0.8617            0.8629          0.9571    0.8780   \n",
       "1     0.8885        0.8594            0.9105          0.9101    0.8730   \n",
       "2     0.9994        0.9393            0.9412          0.9680    0.9501   \n",
       "\n",
       "   acc_test_cv  acc_test_scaled  acc_test_grid  \n",
       "0       0.7650           0.7645         0.8356  \n",
       "1       0.8692           0.9117         0.9125  \n",
       "2       0.8862           0.8716         0.9703  "
      ]
     },
     "execution_count": 41,
     "metadata": {},
     "output_type": "execute_result"
    }
   ],
   "source": [
    "# Contemplando resultados do Random Forest\n",
    "dataset_accs = dataset_accs.append(dict_accs_forest, ignore_index=True)\n",
    "dataset_accs"
   ]
  },
  {
   "cell_type": "code",
   "execution_count": 43,
   "metadata": {
    "ExecuteTime": {
     "end_time": "2019-01-05T19:14:16.877536Z",
     "start_time": "2019-01-05T19:14:16.864572Z"
    }
   },
   "outputs": [
    {
     "data": {
      "text/html": [
       "<div>\n",
       "<style scoped>\n",
       "    .dataframe tbody tr th:only-of-type {\n",
       "        vertical-align: middle;\n",
       "    }\n",
       "\n",
       "    .dataframe tbody tr th {\n",
       "        vertical-align: top;\n",
       "    }\n",
       "\n",
       "    .dataframe thead th {\n",
       "        text-align: right;\n",
       "    }\n",
       "</style>\n",
       "<table border=\"1\" class=\"dataframe\">\n",
       "  <thead>\n",
       "    <tr style=\"text-align: right;\">\n",
       "      <th></th>\n",
       "      <th>acc_train</th>\n",
       "      <th>acc_train_cv</th>\n",
       "      <th>acc_train_scaled</th>\n",
       "      <th>acc_train_grid</th>\n",
       "      <th>acc_test</th>\n",
       "      <th>acc_test_cv</th>\n",
       "      <th>acc_test_scaled</th>\n",
       "      <th>acc_test_grid</th>\n",
       "    </tr>\n",
       "  </thead>\n",
       "  <tbody>\n",
       "    <tr>\n",
       "      <th>dtree</th>\n",
       "      <td>1.0000</td>\n",
       "      <td>0.8617</td>\n",
       "      <td>0.8629</td>\n",
       "      <td>0.9571</td>\n",
       "      <td>0.8780</td>\n",
       "      <td>0.7650</td>\n",
       "      <td>0.7645</td>\n",
       "      <td>0.8356</td>\n",
       "    </tr>\n",
       "    <tr>\n",
       "      <th>sgd_clf</th>\n",
       "      <td>0.8885</td>\n",
       "      <td>0.8594</td>\n",
       "      <td>0.9105</td>\n",
       "      <td>0.9101</td>\n",
       "      <td>0.8730</td>\n",
       "      <td>0.8692</td>\n",
       "      <td>0.9117</td>\n",
       "      <td>0.9125</td>\n",
       "    </tr>\n",
       "    <tr>\n",
       "      <th>rnd_forest</th>\n",
       "      <td>0.9994</td>\n",
       "      <td>0.9393</td>\n",
       "      <td>0.9412</td>\n",
       "      <td>0.9680</td>\n",
       "      <td>0.9501</td>\n",
       "      <td>0.8862</td>\n",
       "      <td>0.8716</td>\n",
       "      <td>0.9703</td>\n",
       "    </tr>\n",
       "  </tbody>\n",
       "</table>\n",
       "</div>"
      ],
      "text/plain": [
       "            acc_train  acc_train_cv  acc_train_scaled  acc_train_grid  \\\n",
       "dtree          1.0000        0.8617            0.8629          0.9571   \n",
       "sgd_clf        0.8885        0.8594            0.9105          0.9101   \n",
       "rnd_forest     0.9994        0.9393            0.9412          0.9680   \n",
       "\n",
       "            acc_test  acc_test_cv  acc_test_scaled  acc_test_grid  \n",
       "dtree         0.8780       0.7650           0.7645         0.8356  \n",
       "sgd_clf       0.8730       0.8692           0.9117         0.9125  \n",
       "rnd_forest    0.9501       0.8862           0.8716         0.9703  "
      ]
     },
     "execution_count": 43,
     "metadata": {},
     "output_type": "execute_result"
    }
   ],
   "source": [
    "# Montando índices e salvando\n",
    "dataset_accs.index = ['dtree', 'sgd_clf', 'rnd_forest']\n",
    "dataset_accs"
   ]
  },
  {
   "cell_type": "code",
   "execution_count": 44,
   "metadata": {
    "ExecuteTime": {
     "end_time": "2019-01-05T19:14:40.529277Z",
     "start_time": "2019-01-05T19:14:40.344771Z"
    }
   },
   "outputs": [],
   "source": [
    "# Salvando\n",
    "dataset_accs.to_csv('dataset_accs.csv', index=False)"
   ]
  },
  {
   "cell_type": "code",
   "execution_count": null,
   "metadata": {},
   "outputs": [],
   "source": []
  }
 ],
 "metadata": {
  "kernelspec": {
   "display_name": "Python 3",
   "language": "python",
   "name": "python3"
  },
  "language_info": {
   "codemirror_mode": {
    "name": "ipython",
    "version": 3
   },
   "file_extension": ".py",
   "mimetype": "text/x-python",
   "name": "python",
   "nbconvert_exporter": "python",
   "pygments_lexer": "ipython3",
   "version": "3.6.4"
  },
  "toc": {
   "base_numbering": 1,
   "nav_menu": {},
   "number_sections": true,
   "sideBar": true,
   "skip_h1_title": true,
   "title_cell": "Table of Contents",
   "title_sidebar": "Contents",
   "toc_cell": true,
   "toc_position": {
    "height": "calc(100% - 180px)",
    "left": "10px",
    "top": "150px",
    "width": "243px"
   },
   "toc_section_display": true,
   "toc_window_display": true
  }
 },
 "nbformat": 4,
 "nbformat_minor": 2
}
