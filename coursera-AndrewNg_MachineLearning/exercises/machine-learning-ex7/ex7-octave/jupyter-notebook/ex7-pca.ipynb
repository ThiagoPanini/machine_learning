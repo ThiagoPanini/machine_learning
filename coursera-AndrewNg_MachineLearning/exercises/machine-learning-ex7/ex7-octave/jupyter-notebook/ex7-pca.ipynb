{
 "cells": [
  {
   "cell_type": "markdown",
   "metadata": {
    "toc": true
   },
   "source": [
    "<h1>Table of Contents<span class=\"tocSkip\"></span></h1>\n",
    "<div class=\"toc\"><ul class=\"toc-item\"><li><span><a href=\"#PCA-para-Visualização\" data-toc-modified-id=\"PCA-para-Visualização-1\"><span class=\"toc-item-num\">1&nbsp;&nbsp;</span>PCA para Visualização</a></span><ul class=\"toc-item\"><li><span><a href=\"#Lendo-os-Dados\" data-toc-modified-id=\"Lendo-os-Dados-1.1\"><span class=\"toc-item-num\">1.1&nbsp;&nbsp;</span>Lendo os Dados</a></span></li><li><span><a href=\"#Plotando-os-Dados\" data-toc-modified-id=\"Plotando-os-Dados-1.2\"><span class=\"toc-item-num\">1.2&nbsp;&nbsp;</span>Plotando os Dados</a></span></li><li><span><a href=\"#Aplicando-PCA\" data-toc-modified-id=\"Aplicando-PCA-1.3\"><span class=\"toc-item-num\">1.3&nbsp;&nbsp;</span>Aplicando PCA</a></span><ul class=\"toc-item\"><li><span><a href=\"#Normalizando-Dados\" data-toc-modified-id=\"Normalizando-Dados-1.3.1\"><span class=\"toc-item-num\">1.3.1&nbsp;&nbsp;</span>Normalizando Dados</a></span></li><li><span><a href=\"#Implementando-PCA\" data-toc-modified-id=\"Implementando-PCA-1.3.2\"><span class=\"toc-item-num\">1.3.2&nbsp;&nbsp;</span>Implementando PCA</a></span></li></ul></li><li><span><a href=\"#Reduzindo-Dimensionalidade\" data-toc-modified-id=\"Reduzindo-Dimensionalidade-1.4\"><span class=\"toc-item-num\">1.4&nbsp;&nbsp;</span>Reduzindo Dimensionalidade</a></span><ul class=\"toc-item\"><li><span><a href=\"#Projetando-Dados\" data-toc-modified-id=\"Projetando-Dados-1.4.1\"><span class=\"toc-item-num\">1.4.1&nbsp;&nbsp;</span>Projetando Dados</a></span></li><li><span><a href=\"#Recuperando-Dimensões\" data-toc-modified-id=\"Recuperando-Dimensões-1.4.2\"><span class=\"toc-item-num\">1.4.2&nbsp;&nbsp;</span>Recuperando Dimensões</a></span></li><li><span><a href=\"#Test-Cases\" data-toc-modified-id=\"Test-Cases-1.4.3\"><span class=\"toc-item-num\">1.4.3&nbsp;&nbsp;</span>Test Cases</a></span></li></ul></li></ul></li><li><span><a href=\"#PCA-Reconstrução-de-Faces\" data-toc-modified-id=\"PCA-Reconstrução-de-Faces-2\"><span class=\"toc-item-num\">2&nbsp;&nbsp;</span>PCA Reconstrução de Faces</a></span><ul class=\"toc-item\"><li><span><a href=\"#Definindo-Funções\" data-toc-modified-id=\"Definindo-Funções-2.1\"><span class=\"toc-item-num\">2.1&nbsp;&nbsp;</span>Definindo Funções</a></span></li><li><span><a href=\"#Lendo-os-Dados\" data-toc-modified-id=\"Lendo-os-Dados-2.2\"><span class=\"toc-item-num\">2.2&nbsp;&nbsp;</span>Lendo os Dados</a></span></li><li><span><a href=\"#Aplicando-PCA\" data-toc-modified-id=\"Aplicando-PCA-2.3\"><span class=\"toc-item-num\">2.3&nbsp;&nbsp;</span>Aplicando PCA</a></span></li><li><span><a href=\"#Reduzindo-Dimensionalidade\" data-toc-modified-id=\"Reduzindo-Dimensionalidade-2.4\"><span class=\"toc-item-num\">2.4&nbsp;&nbsp;</span>Reduzindo Dimensionalidade</a></span></li></ul></li><li><span><a href=\"#Bônus\" data-toc-modified-id=\"Bônus-3\"><span class=\"toc-item-num\">3&nbsp;&nbsp;</span>Bônus</a></span><ul class=\"toc-item\"><li><span><a href=\"#Definindo-Funções\" data-toc-modified-id=\"Definindo-Funções-3.1\"><span class=\"toc-item-num\">3.1&nbsp;&nbsp;</span>Definindo Funções</a></span></li></ul></li></ul></div>"
   ]
  },
  {
   "cell_type": "markdown",
   "metadata": {},
   "source": [
    "Este notebook tem por objetivo armazenar instruções referentes a segunda parte do Exercício 7 do curso de Introdução a Machine Learning. Nele, será possível encontrar códigos relacionados ao modelo ```PCA``` para redução de dimensionalidade, sendo este aplicado, em um primeiro momento, a um problema de visualização de dados e, em seguida, a um desafio de reconhecimento facial."
   ]
  },
  {
   "cell_type": "markdown",
   "metadata": {},
   "source": [
    "## PCA para Visualização"
   ]
  },
  {
   "cell_type": "markdown",
   "metadata": {},
   "source": [
    "### Lendo os Dados"
   ]
  },
  {
   "cell_type": "code",
   "execution_count": 1,
   "metadata": {
    "ExecuteTime": {
     "end_time": "2019-03-03T14:16:32.613009Z",
     "start_time": "2019-03-03T14:16:32.565136Z"
    }
   },
   "outputs": [],
   "source": [
    "% Lendo os dados\n",
    "load('ex7data1.mat')"
   ]
  },
  {
   "cell_type": "code",
   "execution_count": 2,
   "metadata": {
    "ExecuteTime": {
     "end_time": "2019-03-03T14:16:39.242318Z",
     "start_time": "2019-03-03T14:16:39.196415Z"
    }
   },
   "outputs": [
    {
     "name": "stdout",
     "output_type": "stream",
     "text": [
      "ans =\n",
      "\n",
      "   50    2\n",
      "\n"
     ]
    }
   ],
   "source": [
    "% Verificando output\n",
    "size(X)"
   ]
  },
  {
   "cell_type": "markdown",
   "metadata": {},
   "source": [
    "Trata-se de um dataset pequeno. Vamos visualizar o conteúdo das primeiras linhas"
   ]
  },
  {
   "cell_type": "code",
   "execution_count": 3,
   "metadata": {
    "ExecuteTime": {
     "end_time": "2019-03-03T14:17:01.224544Z",
     "start_time": "2019-03-03T14:17:01.178666Z"
    }
   },
   "outputs": [
    {
     "name": "stdout",
     "output_type": "stream",
     "text": [
      "ans =\n",
      "\n",
      "   3.3816   3.3891\n",
      "   4.5279   5.8542\n",
      "   2.6557   4.4120\n",
      "   2.7652   3.7154\n",
      "   2.8466   4.1755\n",
      "\n"
     ]
    }
   ],
   "source": [
    "% Primeiras linhas\n",
    "X(1:5, :)"
   ]
  },
  {
   "cell_type": "markdown",
   "metadata": {},
   "source": [
    "### Plotando os Dados"
   ]
  },
  {
   "cell_type": "code",
   "execution_count": 5,
   "metadata": {
    "ExecuteTime": {
     "end_time": "2019-03-03T14:17:23.314505Z",
     "start_time": "2019-03-03T14:17:22.063848Z"
    }
   },
   "outputs": [
    {
     "data": {
      "image/png": "[encoded data removed]",
      "text/plain": [
       "<IPython.core.display.Image object>"
      ]
     },
     "metadata": {},
     "output_type": "display_data"
    }
   ],
   "source": [
    "% Visualizando os Dados\n",
    "plot(X(:, 1), X(:, 2), 'bo');\n",
    "axis([0.5 6.5 2 8]); axis square;"
   ]
  },
  {
   "cell_type": "markdown",
   "metadata": {},
   "source": [
    "### Aplicando PCA"
   ]
  },
  {
   "cell_type": "markdown",
   "metadata": {},
   "source": [
    "#### Normalizando Dados"
   ]
  },
  {
   "cell_type": "code",
   "execution_count": 48,
   "metadata": {
    "ExecuteTime": {
     "end_time": "2019-03-03T15:24:24.112900Z",
     "start_time": "2019-03-03T15:24:23.965197Z"
    }
   },
   "outputs": [],
   "source": [
    "function [X_norm, mu, sigma_std] = featureNormalize(X)\n",
    "%FEATURENORMALIZE Normalizes the features in X \n",
    "%   FEATURENORMALIZE(X) returns a normalized version of X where\n",
    "%   the mean value of each feature is 0 and the standard deviation\n",
    "%   is 1. This is often a good preprocessing step to do when\n",
    "%   working with learning algorithms.\n",
    "\n",
    "mu = mean(X);\n",
    "X_norm = bsxfun(@minus, X, mu);\n",
    "\n",
    "sigma_std = std(X_norm);\n",
    "X_norm = bsxfun(@rdivide, X_norm, sigma_std);\n",
    "\n",
    "\n",
    "% ============================================================\n",
    "\n",
    "end"
   ]
  },
  {
   "cell_type": "code",
   "execution_count": 61,
   "metadata": {
    "ExecuteTime": {
     "end_time": "2019-03-03T15:25:13.562313Z",
     "start_time": "2019-03-03T15:25:13.520438Z"
    }
   },
   "outputs": [],
   "source": [
    "% Normalizando\n",
    "[X_norm, mu, sigma_std] = featureNormalize(X);"
   ]
  },
  {
   "cell_type": "code",
   "execution_count": 62,
   "metadata": {
    "ExecuteTime": {
     "end_time": "2019-03-03T15:25:14.088350Z",
     "start_time": "2019-03-03T15:25:14.018538Z"
    }
   },
   "outputs": [
    {
     "name": "stdout",
     "output_type": "stream",
     "text": [
      "ans =\n",
      "\n",
      "   3.3816   3.3891\n",
      "   4.5279   5.8542\n",
      "   2.6557   4.4120\n",
      "   2.7652   3.7154\n",
      "   2.8466   4.1755\n",
      "\n",
      "ans =\n",
      "\n",
      "  -0.51805  -1.57678\n",
      "   0.45915   0.83190\n",
      "  -1.13685  -0.57730\n",
      "  -1.04346  -1.25795\n",
      "  -0.97413  -0.80838\n",
      "\n"
     ]
    }
   ],
   "source": [
    "% Verificando e comparando primeiras linhas\n",
    "X(1:5, :)\n",
    "X_norm(1:5, :)"
   ]
  },
  {
   "cell_type": "markdown",
   "metadata": {},
   "source": [
    "#### Implementando PCA"
   ]
  },
  {
   "cell_type": "markdown",
   "metadata": {},
   "source": [
    "Para aplicação do modelo, deve-se definir uma função capaz de realizar com eficiência a redução de dimensionalidade proposta.\n",
    "\n",
    "O retorno dessa função engloba as matrizes ```U``` (contendo os vetores relacionados a dimensão K desejada e utilizada para o cálculo de z) e ```S``` (matriz cuja diagonal se relaciona ao melhor valor de K)"
   ]
  },
  {
   "cell_type": "code",
   "execution_count": 63,
   "metadata": {
    "ExecuteTime": {
     "end_time": "2019-03-03T15:25:15.152997Z",
     "start_time": "2019-03-03T15:25:15.098146Z"
    }
   },
   "outputs": [],
   "source": [
    "% Primeiro passo: calculando sigma\n",
    "[m n] = size(X_norm);\n",
    "sigma = (X_norm' * X_norm) / m;"
   ]
  },
  {
   "cell_type": "code",
   "execution_count": 64,
   "metadata": {
    "ExecuteTime": {
     "end_time": "2019-03-03T15:25:15.386048Z",
     "start_time": "2019-03-03T15:25:15.321217Z"
    }
   },
   "outputs": [
    {
     "name": "stdout",
     "output_type": "stream",
     "text": [
      "ans =\n",
      "\n",
      "   2   2\n",
      "\n",
      "sigma =\n",
      "\n",
      "   0.98000   0.72082\n",
      "   0.72082   0.98000\n",
      "\n"
     ]
    }
   ],
   "source": [
    "% Verificando operação\n",
    "size(sigma)\n",
    "sigma"
   ]
  },
  {
   "cell_type": "markdown",
   "metadata": {},
   "source": [
    "Pelo menos as dimensões resultaram como o esperado n x n.\n",
    "\n",
    "Como desejamos reduzir as dimensões de 2D para 1D, vamos pegar apenas o primeiro elemento da matriz U resultante após chamar a função ```svd```."
   ]
  },
  {
   "cell_type": "code",
   "execution_count": 65,
   "metadata": {
    "ExecuteTime": {
     "end_time": "2019-03-03T15:25:15.759768Z",
     "start_time": "2019-03-03T15:25:15.715828Z"
    }
   },
   "outputs": [],
   "source": [
    "% Chamando svd\n",
    "[U, S, V] = svd(sigma);"
   ]
  },
  {
   "cell_type": "code",
   "execution_count": 66,
   "metadata": {
    "ExecuteTime": {
     "end_time": "2019-03-03T15:25:15.980649Z",
     "start_time": "2019-03-03T15:25:15.914838Z"
    }
   },
   "outputs": [
    {
     "name": "stdout",
     "output_type": "stream",
     "text": [
      "ans =\n",
      "\n",
      "   2   2\n",
      "\n",
      "ans =\n",
      "\n",
      "   2   2\n",
      "\n",
      "ans =\n",
      "\n",
      "   2   2\n",
      "\n"
     ]
    }
   ],
   "source": [
    "size(U)\n",
    "size(S)\n",
    "size(V)"
   ]
  },
  {
   "cell_type": "code",
   "execution_count": 67,
   "metadata": {
    "ExecuteTime": {
     "end_time": "2019-03-03T15:25:16.191597Z",
     "start_time": "2019-03-03T15:25:16.111812Z"
    }
   },
   "outputs": [
    {
     "name": "stdout",
     "output_type": "stream",
     "text": [
      "U_reduce =\n",
      "\n",
      "  -0.70711\n",
      "  -0.70711\n",
      "\n",
      "ans =\n",
      "\n",
      "   2   1\n",
      "\n"
     ]
    }
   ],
   "source": [
    "% Coletando vetores para 1D\n",
    "k = 1;\n",
    "U_reduce = U(:, 1:k)\n",
    "size(U_reduce)"
   ]
  },
  {
   "cell_type": "code",
   "execution_count": 68,
   "metadata": {
    "ExecuteTime": {
     "end_time": "2019-03-03T15:25:16.555739Z",
     "start_time": "2019-03-03T15:25:16.505868Z"
    }
   },
   "outputs": [
    {
     "name": "stdout",
     "output_type": "stream",
     "text": [
      "z =\n",
      "\n",
      "  -4.7876\n",
      "  -7.3412\n",
      "  -4.9976\n",
      "  -4.5825\n",
      "  -4.9654\n",
      "  -7.3391\n",
      "  -5.0266\n",
      "  -8.9039\n",
      "  -6.3833\n",
      "  -7.2020\n",
      "  -7.0511\n",
      "  -6.9529\n",
      "  -6.4675\n",
      "  -7.0043\n",
      "  -4.6696\n",
      "  -8.4481\n",
      "  -7.3197\n",
      "  -5.2870\n",
      "  -8.8200\n",
      "  -6.9502\n",
      "  -8.7599\n",
      "  -5.9273\n",
      "  -8.3154\n",
      "  -6.3307\n",
      "  -4.5403\n",
      "  -5.7745\n",
      "  -7.6965\n",
      "  -7.7084\n",
      "  -5.3993\n",
      "  -6.3563\n",
      "  -6.5310\n",
      "  -8.0618\n",
      "  -4.9222\n",
      "  -7.0797\n",
      "  -5.6150\n",
      "  -7.8001\n",
      "  -4.5302\n",
      "  -7.9053\n",
      "  -3.5671\n",
      "  -6.6706\n",
      "  -7.3869\n",
      "  -5.3854\n",
      "  -4.9585\n",
      "  -7.4169\n",
      "  -4.4293\n",
      "  -6.6323\n",
      "  -2.8701\n",
      "  -4.9427\n",
      "  -5.9825\n",
      "  -7.9217\n",
      "\n"
     ]
    }
   ],
   "source": [
    "z = X * U_reduce"
   ]
  },
  {
   "cell_type": "code",
   "execution_count": 69,
   "metadata": {
    "ExecuteTime": {
     "end_time": "2019-03-03T15:25:16.800840Z",
     "start_time": "2019-03-03T15:25:16.766933Z"
    }
   },
   "outputs": [
    {
     "name": "stdout",
     "output_type": "stream",
     "text": [
      "ans =\n",
      "\n",
      "   50    1\n",
      "\n"
     ]
    }
   ],
   "source": [
    "size(z)"
   ]
  },
  {
   "cell_type": "code",
   "execution_count": 70,
   "metadata": {
    "ExecuteTime": {
     "end_time": "2019-03-03T15:25:17.091858Z",
     "start_time": "2019-03-03T15:25:16.990037Z"
    }
   },
   "outputs": [],
   "source": [
    "% Pipeline completo\n",
    "[m n] = size(X_norm);\n",
    "sigma = (X_norm' * X_norm) / m;\n",
    "[U, S, V] = svd(sigma);\n",
    "k = 1;\n",
    "U_reduce = U(:, 1:k);\n",
    "z = X * U_reduce;"
   ]
  },
  {
   "cell_type": "code",
   "execution_count": 71,
   "metadata": {
    "ExecuteTime": {
     "end_time": "2019-03-03T15:25:17.282861Z",
     "start_time": "2019-03-03T15:25:17.251914Z"
    }
   },
   "outputs": [
    {
     "name": "stdout",
     "output_type": "stream",
     "text": [
      "ans =\n",
      "\n",
      "   50    1\n",
      "\n"
     ]
    }
   ],
   "source": [
    "size(z)"
   ]
  },
  {
   "cell_type": "code",
   "execution_count": 73,
   "metadata": {
    "ExecuteTime": {
     "end_time": "2019-03-03T15:25:46.387160Z",
     "start_time": "2019-03-03T15:25:46.279729Z"
    }
   },
   "outputs": [],
   "source": [
    "% Plotando dados\n",
    "function drawLine(p1, p2, varargin)\n",
    "%DRAWLINE Draws a line from point p1 to point p2\n",
    "%   DRAWLINE(p1, p2) Draws a line from point p1 to point p2 and holds the\n",
    "%   current figure\n",
    "\n",
    "plot([p1(1) p2(1)], [p1(2) p2(2)], varargin{:});\n",
    "\n",
    "end"
   ]
  },
  {
   "cell_type": "code",
   "execution_count": 117,
   "metadata": {
    "ExecuteTime": {
     "end_time": "2019-03-03T15:47:16.986129Z",
     "start_time": "2019-03-03T15:47:16.033322Z"
    }
   },
   "outputs": [
    {
     "data": {
      "image/png": "[encoded data removed]",
      "text/plain": [
       "<IPython.core.display.Image object>"
      ]
     },
     "metadata": {},
     "output_type": "display_data"
    }
   ],
   "source": [
    "# Verificando vetores U (z)\n",
    "plot(X(:, 1), X(:, 2), 'bo');\n",
    "hold on;\n",
    "drawLine(mu, mu + 1.5 * S(1,1) * U(:,1)', '-k', 'LineWidth', 2);\n",
    "drawLine(mu, mu + 1.5 * S(2,2) * U(:,2)', '-k', 'LineWidth', 2);\n",
    "hold off;"
   ]
  },
  {
   "cell_type": "markdown",
   "metadata": {},
   "source": [
    "### Reduzindo Dimensionalidade"
   ]
  },
  {
   "cell_type": "code",
   "execution_count": 82,
   "metadata": {
    "ExecuteTime": {
     "end_time": "2019-03-03T15:27:53.097876Z",
     "start_time": "2019-03-03T15:27:52.032118Z"
    }
   },
   "outputs": [
    {
     "data": {
      "image/png": "[encoded data removed]",
      "text/plain": [
       "<IPython.core.display.Image object>"
      ]
     },
     "metadata": {},
     "output_type": "display_data"
    }
   ],
   "source": [
    "%  Plot the normalized dataset (returned from pca)\n",
    "plot(X_norm(:, 1), X_norm(:, 2), 'bo');\n",
    "axis([-4 3 -4 3]); axis square"
   ]
  },
  {
   "cell_type": "markdown",
   "metadata": {},
   "source": [
    "#### Projetando Dados"
   ]
  },
  {
   "cell_type": "code",
   "execution_count": 84,
   "metadata": {
    "ExecuteTime": {
     "end_time": "2019-03-03T15:30:30.851978Z",
     "start_time": "2019-03-03T15:30:30.806103Z"
    }
   },
   "outputs": [
    {
     "name": "stdout",
     "output_type": "stream",
     "text": [
      "z =\n",
      "\n",
      "   0\n",
      "   0\n",
      "   0\n",
      "   0\n",
      "   0\n",
      "   0\n",
      "   0\n",
      "   0\n",
      "   0\n",
      "   0\n",
      "   0\n",
      "   0\n",
      "   0\n",
      "   0\n",
      "   0\n",
      "   0\n",
      "   0\n",
      "   0\n",
      "   0\n",
      "   0\n",
      "   0\n",
      "   0\n",
      "   0\n",
      "   0\n",
      "   0\n",
      "   0\n",
      "   0\n",
      "   0\n",
      "   0\n",
      "   0\n",
      "   0\n",
      "   0\n",
      "   0\n",
      "   0\n",
      "   0\n",
      "   0\n",
      "   0\n",
      "   0\n",
      "   0\n",
      "   0\n",
      "   0\n",
      "   0\n",
      "   0\n",
      "   0\n",
      "   0\n",
      "   0\n",
      "   0\n",
      "   0\n",
      "   0\n",
      "   0\n",
      "\n"
     ]
    }
   ],
   "source": [
    "z = zeros(size(X, 1), k)"
   ]
  },
  {
   "cell_type": "code",
   "execution_count": 98,
   "metadata": {
    "ExecuteTime": {
     "end_time": "2019-03-03T15:34:03.946360Z",
     "start_time": "2019-03-03T15:34:03.812718Z"
    }
   },
   "outputs": [
    {
     "name": "stdout",
     "output_type": "stream",
     "text": [
      "Z =\n",
      "\n",
      "   0\n",
      "   0\n",
      "   0\n",
      "   0\n",
      "   0\n",
      "   0\n",
      "   0\n",
      "   0\n",
      "   0\n",
      "   0\n",
      "   0\n",
      "   0\n",
      "   0\n",
      "   0\n",
      "   0\n",
      "   0\n",
      "   0\n",
      "   0\n",
      "   0\n",
      "   0\n",
      "   0\n",
      "   0\n",
      "   0\n",
      "   0\n",
      "   0\n",
      "   0\n",
      "   0\n",
      "   0\n",
      "   0\n",
      "   0\n",
      "   0\n",
      "   0\n",
      "   0\n",
      "   0\n",
      "   0\n",
      "   0\n",
      "   0\n",
      "   0\n",
      "   0\n",
      "   0\n",
      "   0\n",
      "   0\n",
      "   0\n",
      "   0\n",
      "   0\n",
      "   0\n",
      "   0\n",
      "   0\n",
      "   0\n",
      "   0\n",
      "\n"
     ]
    }
   ],
   "source": [
    "% Para cada exemplo do dataset, será necessário projetar os dados\n",
    "[m n] = size(X_norm);\n",
    "Z = zeros(size(X, 1), k)\n",
    "for i = 1:m\n",
    "    x = X_norm(i, :)';\n",
    "    projection_k = x' * U_reduce;\n",
    "    Z(i, :) = projection_k;\n",
    "endfor"
   ]
  },
  {
   "cell_type": "code",
   "execution_count": 99,
   "metadata": {
    "ExecuteTime": {
     "end_time": "2019-03-03T15:34:07.142817Z",
     "start_time": "2019-03-03T15:34:07.097937Z"
    }
   },
   "outputs": [
    {
     "name": "stdout",
     "output_type": "stream",
     "text": [
      "Z =\n",
      "\n",
      "   1.4812739\n",
      "  -0.9129123\n",
      "   1.2120866\n",
      "   1.6273401\n",
      "   1.2604241\n",
      "  -0.9670022\n",
      "   1.2560597\n",
      "  -2.3179497\n",
      "  -0.0296900\n",
      "  -0.7738612\n",
      "  -0.6253290\n",
      "  -0.5472454\n",
      "  -0.0887803\n",
      "  -0.5205690\n",
      "   1.5484340\n",
      "  -1.8968459\n",
      "  -0.8778846\n",
      "   0.9464647\n",
      "  -2.3065395\n",
      "  -0.4731351\n",
      "  -2.1951852\n",
      "   0.3850966\n",
      "  -1.7668851\n",
      "   0.0512347\n",
      "   1.6483886\n",
      "   0.5030287\n",
      "  -1.2246766\n",
      "  -1.1602077\n",
      "   0.8337522\n",
      "  -0.0068621\n",
      "  -0.2256510\n",
      "  -1.4978878\n",
      "   1.3252858\n",
      "  -0.5865692\n",
      "   0.6722510\n",
      "  -1.3393819\n",
      "   1.6705348\n",
      "  -1.3783654\n",
      "   2.5341974\n",
      "  -0.2757079\n",
      "  -0.9669598\n",
      "   0.8792732\n",
      "   1.2836292\n",
      "  -0.9797211\n",
      "   1.7945047\n",
      "  -0.2692302\n",
      "   3.1608862\n",
      "   1.2008003\n",
      "   0.3642308\n",
      "  -1.4281420\n",
      "\n"
     ]
    }
   ],
   "source": [
    "Z"
   ]
  },
  {
   "cell_type": "code",
   "execution_count": 139,
   "metadata": {
    "ExecuteTime": {
     "end_time": "2019-03-03T16:06:42.158532Z",
     "start_time": "2019-03-03T16:06:42.048828Z"
    }
   },
   "outputs": [],
   "source": [
    "% Comparando com operação vetorizada\n",
    "k = 1;\n",
    "[m n] = size(X_norm);\n",
    "sigma = (X_norm' * X_norm) / m;\n",
    "\n",
    "[U, S, V] = svd(sigma);\n",
    "U_reduce = U(:, 1:k);\n",
    "\n",
    "z = X_norm * U_reduce;"
   ]
  },
  {
   "cell_type": "code",
   "execution_count": 133,
   "metadata": {
    "ExecuteTime": {
     "end_time": "2019-03-03T16:04:12.006823Z",
     "start_time": "2019-03-03T16:04:11.945985Z"
    }
   },
   "outputs": [
    {
     "name": "stdout",
     "output_type": "stream",
     "text": [
      "ans =\n",
      "\n",
      "   1.48127\n",
      "  -0.91291\n",
      "   1.21209\n",
      "   1.62734\n",
      "   1.26042\n",
      "\n",
      "ans =\n",
      "\n",
      "   1.48127\n",
      "  -0.91291\n",
      "   1.21209\n",
      "   1.62734\n",
      "   1.26042\n",
      "\n"
     ]
    }
   ],
   "source": [
    "% Comparando primeiras linhas\n",
    "Z(1:5, :)\n",
    "z(1:5, :)"
   ]
  },
  {
   "cell_type": "markdown",
   "metadata": {},
   "source": [
    "Operação vetorizada implementada com sucesso!"
   ]
  },
  {
   "cell_type": "code",
   "execution_count": 116,
   "metadata": {
    "ExecuteTime": {
     "end_time": "2019-03-03T15:47:02.225874Z",
     "start_time": "2019-03-03T15:46:59.790353Z"
    }
   },
   "outputs": [
    {
     "data": {
      "image/png": "[encoded data removed]",
      "text/plain": [
       "<IPython.core.display.Image object>"
      ]
     },
     "metadata": {},
     "output_type": "display_data"
    }
   ],
   "source": [
    "% Verificando aproximação\n",
    "plot(X_norm(:, 1), X_norm(:, 2), 'bo');\n",
    "axis([-4 3 -4 3]); axis square\n",
    "hold on;\n",
    "plot(X_rec(:, 1), X_rec(:, 2), 'ro');\n",
    "for i = 1:size(X_norm, 1)\n",
    "    drawLine(X_norm(i,:), X_rec(i,:), '--k', 'LineWidth', 1);\n",
    "end\n",
    "hold off"
   ]
  },
  {
   "cell_type": "markdown",
   "metadata": {},
   "source": [
    "#### Recuperando Dimensões"
   ]
  },
  {
   "cell_type": "code",
   "execution_count": 106,
   "metadata": {
    "ExecuteTime": {
     "end_time": "2019-03-03T15:40:49.872185Z",
     "start_time": "2019-03-03T15:40:49.818330Z"
    }
   },
   "outputs": [
    {
     "name": "stdout",
     "output_type": "stream",
     "text": [
      "ans =\n",
      "\n",
      "   50    1\n",
      "\n",
      "ans =\n",
      "\n",
      "   50    2\n",
      "\n"
     ]
    }
   ],
   "source": [
    "% Implementando recuperação\n",
    "size(z)\n",
    "size(X_norm)"
   ]
  },
  {
   "cell_type": "code",
   "execution_count": 107,
   "metadata": {
    "ExecuteTime": {
     "end_time": "2019-03-03T15:40:56.255881Z",
     "start_time": "2019-03-03T15:40:56.224968Z"
    }
   },
   "outputs": [
    {
     "name": "stdout",
     "output_type": "stream",
     "text": [
      "ans =\n",
      "\n",
      "   2   1\n",
      "\n"
     ]
    }
   ],
   "source": [
    "size(U_reduce)"
   ]
  },
  {
   "cell_type": "code",
   "execution_count": 108,
   "metadata": {
    "ExecuteTime": {
     "end_time": "2019-03-03T15:41:11.313082Z",
     "start_time": "2019-03-03T15:41:11.268207Z"
    }
   },
   "outputs": [
    {
     "name": "stdout",
     "output_type": "stream",
     "text": [
      "X_rec =\n",
      "\n",
      "  -1.0474188  -1.0474188\n",
      "   0.6455265   0.6455265\n",
      "  -0.8570746  -0.8570746\n",
      "  -1.1507032  -1.1507032\n",
      "  -0.8912544  -0.8912544\n",
      "   0.6837738   0.6837738\n",
      "  -0.8881683  -0.8881683\n",
      "   1.6390379   1.6390379\n",
      "   0.0209940   0.0209940\n",
      "   0.5472025   0.5472025\n",
      "   0.4421744   0.4421744\n",
      "   0.3869609   0.3869609\n",
      "   0.0627771   0.0627771\n",
      "   0.3680979   0.3680979\n",
      "  -1.0949082  -1.0949082\n",
      "   1.3412726   1.3412726\n",
      "   0.6207581   0.6207581\n",
      "  -0.6692516  -0.6692516\n",
      "   1.6309698   1.6309698\n",
      "   0.3345570   0.3345570\n",
      "   1.5522304   1.5522304\n",
      "  -0.2723044  -0.2723044\n",
      "   1.2493764   1.2493764\n",
      "  -0.0362284  -0.0362284\n",
      "  -1.1655867  -1.1655867\n",
      "  -0.3556950  -0.3556950\n",
      "   0.8659771   0.8659771\n",
      "   0.8203907   0.8203907\n",
      "  -0.5895518  -0.5895518\n",
      "   0.0048522   0.0048522\n",
      "   0.1595594   0.1595594\n",
      "   1.0591666   1.0591666\n",
      "  -0.9371186  -0.9371186\n",
      "   0.4147671   0.4147671\n",
      "  -0.4753532  -0.4753532\n",
      "   0.9470860   0.9470860\n",
      "  -1.1812465  -1.1812465\n",
      "   0.9746515   0.9746515\n",
      "  -1.7919482  -1.7919482\n",
      "   0.1949549   0.1949549\n",
      "   0.6837438   0.6837438\n",
      "  -0.6217400  -0.6217400\n",
      "  -0.9076629  -0.9076629\n",
      "   0.6927674   0.6927674\n",
      "  -1.2689065  -1.2689065\n",
      "   0.1903745   0.1903745\n",
      "  -2.2350841  -2.2350841\n",
      "  -0.8490941  -0.8490941\n",
      "  -0.2575501  -0.2575501\n",
      "   1.0098489   1.0098489\n",
      "\n"
     ]
    }
   ],
   "source": [
    "X_rec = z * U_reduce'"
   ]
  },
  {
   "cell_type": "markdown",
   "metadata": {},
   "source": [
    "Para verificar se a operação funcionou, vamos comparar os primeiros exemplos dos conjuntos ```X_rec``` e ```X_norm```"
   ]
  },
  {
   "cell_type": "code",
   "execution_count": 111,
   "metadata": {
    "ExecuteTime": {
     "end_time": "2019-03-03T15:42:05.630144Z",
     "start_time": "2019-03-03T15:42:05.585265Z"
    }
   },
   "outputs": [
    {
     "name": "stdout",
     "output_type": "stream",
     "text": [
      "ans =\n",
      "\n",
      "  -0.51805  -1.57678\n",
      "   0.45915   0.83190\n",
      "  -1.13685  -0.57730\n",
      "  -1.04346  -1.25795\n",
      "  -0.97413  -0.80838\n",
      "\n",
      "ans =\n",
      "\n",
      "  -1.04742  -1.04742\n",
      "   0.64553   0.64553\n",
      "  -0.85707  -0.85707\n",
      "  -1.15070  -1.15070\n",
      "  -0.89125  -0.89125\n",
      "\n"
     ]
    }
   ],
   "source": [
    "X_norm(1:5, :)\n",
    "X_rec(1:5, :)"
   ]
  },
  {
   "cell_type": "markdown",
   "metadata": {},
   "source": [
    "Obviamente, houve perdas nos dados. De toda forma, é possível enxeregar uma certa proximidade entre os conjuntos."
   ]
  },
  {
   "cell_type": "code",
   "execution_count": 138,
   "metadata": {
    "ExecuteTime": {
     "end_time": "2019-03-03T16:06:18.574595Z",
     "start_time": "2019-03-03T16:06:18.310270Z"
    }
   },
   "outputs": [],
   "source": [
    "function X_rec = recoverData(Z, U, K)\n",
    "%RECOVERDATA Recovers an approximation of the original data when using the \n",
    "%projected data\n",
    "%   X_rec = RECOVERDATA(Z, U, K) recovers an approximation the \n",
    "%   original data that has been reduced to K dimensions. It returns the\n",
    "%   approximate reconstruction in X_rec.\n",
    "%\n",
    "\n",
    "% You need to return the following variables correctly.\n",
    "X_rec = zeros(size(Z, 1), size(U, 1));\n",
    "\n",
    "% ====================== YOUR CODE HERE ======================\n",
    "% Instructions: Compute the approximation of the data by projecting back\n",
    "%               onto the original space using the top K eigenvectors in U.\n",
    "%\n",
    "%               For the i-th example Z(i,:), the (approximate)\n",
    "%               recovered data for dimension j is given as follows:\n",
    "%                    v = Z(i, :)';\n",
    "%                    recovered_j = v' * U(j, 1:K)';\n",
    "%\n",
    "%               Notice that U(j, 1:K) is a row vector.\n",
    "%               \n",
    "U_reduce = U(:, K); % Correto: U_reduce = U(:, 1:K);\n",
    "X_rec = Z * U_reduce';\n",
    "\n",
    "% =============================================================\n",
    "\n",
    "end"
   ]
  },
  {
   "cell_type": "markdown",
   "metadata": {},
   "source": [
    "#### Test Cases"
   ]
  },
  {
   "cell_type": "code",
   "execution_count": 123,
   "metadata": {
    "ExecuteTime": {
     "end_time": "2019-03-03T16:01:43.514680Z",
     "start_time": "2019-03-03T16:01:43.472788Z"
    }
   },
   "outputs": [
    {
     "name": "stdout",
     "output_type": "stream",
     "text": [
      "error: recoverData: operator *: nonconformant arguments (op1 is 5x3, op2 is 1x5)\n",
      "error: called from\n",
      "    recoverData at line 24 column 7\n"
     ]
    }
   ],
   "source": [
    "Q = reshape([1:15],5,3);\n",
    "recoverData(Q, magic(5), 3)"
   ]
  },
  {
   "cell_type": "code",
   "execution_count": 125,
   "metadata": {
    "ExecuteTime": {
     "end_time": "2019-03-03T16:01:57.331778Z",
     "start_time": "2019-03-03T16:01:57.279890Z"
    }
   },
   "outputs": [
    {
     "name": "stdout",
     "output_type": "stream",
     "text": [
      "Q =\n",
      "\n",
      "    1    6   11\n",
      "    2    7   12\n",
      "    3    8   13\n",
      "    4    9   14\n",
      "    5   10   15\n",
      "\n",
      "ans =\n",
      "\n",
      "   17   24    1    8   15\n",
      "   23    5    7   14   16\n",
      "    4    6   13   20   22\n",
      "   10   12   19   21    3\n",
      "   11   18   25    2    9\n",
      "\n"
     ]
    }
   ],
   "source": [
    "Q\n",
    "magic(5)"
   ]
  },
  {
   "cell_type": "code",
   "execution_count": 129,
   "metadata": {
    "ExecuteTime": {
     "end_time": "2019-03-03T16:03:24.826916Z",
     "start_time": "2019-03-03T16:03:24.763084Z"
    }
   },
   "outputs": [
    {
     "name": "stdout",
     "output_type": "stream",
     "text": [
      "U_r =\n",
      "\n",
      "    1\n",
      "    7\n",
      "   13\n",
      "   19\n",
      "   25\n",
      "\n"
     ]
    }
   ],
   "source": [
    "k_teste = 3;\n",
    "U_teste = magic(5);\n",
    "U_r = U_teste(:, k_teste)"
   ]
  },
  {
   "cell_type": "code",
   "execution_count": 135,
   "metadata": {
    "ExecuteTime": {
     "end_time": "2019-03-03T16:04:25.538657Z",
     "start_time": "2019-03-03T16:04:25.491785Z"
    }
   },
   "outputs": [
    {
     "name": "stdout",
     "output_type": "stream",
     "text": [
      "U =\n",
      "\n",
      "  -0.70711  -0.70711\n",
      "  -0.70711   0.70711\n",
      "\n",
      "U_reduce =\n",
      "\n",
      "  -0.70711\n",
      "  -0.70711\n",
      "\n"
     ]
    }
   ],
   "source": [
    "U\n",
    "U_reduce"
   ]
  },
  {
   "cell_type": "markdown",
   "metadata": {},
   "source": [
    "Erro entendido! Correto:"
   ]
  },
  {
   "cell_type": "code",
   "execution_count": 136,
   "metadata": {
    "ExecuteTime": {
     "end_time": "2019-03-03T16:06:02.620201Z",
     "start_time": "2019-03-03T16:06:02.559364Z"
    }
   },
   "outputs": [
    {
     "name": "stdout",
     "output_type": "stream",
     "text": [
      "U_r =\n",
      "\n",
      "   17   24    1\n",
      "   23    5    7\n",
      "    4    6   13\n",
      "   10   12   19\n",
      "   11   18   25\n",
      "\n"
     ]
    }
   ],
   "source": [
    "k_teste = 3;\n",
    "U_teste = magic(5);\n",
    "U_r = U_teste(:, 1:k_teste) % Correção implementada"
   ]
  },
  {
   "cell_type": "markdown",
   "metadata": {},
   "source": [
    "## PCA Reconstrução de Faces"
   ]
  },
  {
   "cell_type": "markdown",
   "metadata": {},
   "source": [
    "### Definindo Funções"
   ]
  },
  {
   "cell_type": "code",
   "execution_count": 146,
   "metadata": {
    "ExecuteTime": {
     "end_time": "2019-03-03T16:28:30.207357Z",
     "start_time": "2019-03-03T16:28:29.918468Z"
    }
   },
   "outputs": [],
   "source": [
    "function [U, S] = pca(X)\n",
    "%PCA Run principal component analysis on the dataset X\n",
    "%   [U, S, X] = pca(X) computes eigenvectors of the covariance matrix of X\n",
    "%   Returns the eigenvectors U, the eigenvalues (on diagonal) in S\n",
    "%\n",
    "\n",
    "% Useful values\n",
    "[m, n] = size(X);\n",
    "\n",
    "% You need to return the following variables correctly.\n",
    "U = zeros(n);\n",
    "S = zeros(n);\n",
    "\n",
    "% ====================== YOUR CODE HERE ======================\n",
    "% Instructions: You should first compute the covariance matrix. Then, you\n",
    "%               should use the \"svd\" function to compute the eigenvectors\n",
    "%               and eigenvalues of the covariance matrix. \n",
    "%\n",
    "% Note: When computing the covariance matrix, remember to divide by m (the\n",
    "%       number of examples).\n",
    "%\n",
    "\n",
    "sigma = (X' * X) / m;\n",
    "[U, S, V] = svd(sigma);\n",
    "\n",
    "% =========================================================================\n",
    "\n",
    "end"
   ]
  },
  {
   "cell_type": "code",
   "execution_count": 147,
   "metadata": {
    "ExecuteTime": {
     "end_time": "2019-03-03T16:28:46.734482Z",
     "start_time": "2019-03-03T16:28:46.085566Z"
    }
   },
   "outputs": [],
   "source": [
    "% Definindo função para plotagem dos dados\n",
    "function [h, display_array] = displayData(X, example_width)\n",
    "%DISPLAYDATA Display 2D data in a nice grid\n",
    "%   [h, display_array] = DISPLAYDATA(X, example_width) displays 2D data\n",
    "%   stored in X in a nice grid. It returns the figure handle h and the \n",
    "%   displayed array if requested.\n",
    "\n",
    "% Set example_width automatically if not passed in\n",
    "if ~exist('example_width', 'var') || isempty(example_width) \n",
    "\texample_width = round(sqrt(size(X, 2)));\n",
    "end\n",
    "\n",
    "% Gray Image\n",
    "colormap(gray);\n",
    "\n",
    "% Compute rows, cols\n",
    "[m n] = size(X);\n",
    "example_height = (n / example_width);\n",
    "\n",
    "% Compute number of items to display\n",
    "display_rows = floor(sqrt(m));\n",
    "display_cols = ceil(m / display_rows);\n",
    "\n",
    "% Between images padding\n",
    "pad = 1;\n",
    "\n",
    "% Setup blank display\n",
    "display_array = - ones(pad + display_rows * (example_height + pad), ...\n",
    "                       pad + display_cols * (example_width + pad));\n",
    "\n",
    "% Copy each example into a patch on the display array\n",
    "curr_ex = 1;\n",
    "for j = 1:display_rows\n",
    "\tfor i = 1:display_cols\n",
    "\t\tif curr_ex > m, \n",
    "\t\t\tbreak; \n",
    "\t\tend\n",
    "\t\t% Copy the patch\n",
    "\t\t\n",
    "\t\t% Get the max value of the patch\n",
    "\t\tmax_val = max(abs(X(curr_ex, :)));\n",
    "\t\tdisplay_array(pad + (j - 1) * (example_height + pad) + (1:example_height), ...\n",
    "\t\t              pad + (i - 1) * (example_width + pad) + (1:example_width)) = ...\n",
    "\t\t\t\t\t\treshape(X(curr_ex, :), example_height, example_width) / max_val;\n",
    "\t\tcurr_ex = curr_ex + 1;\n",
    "\tend\n",
    "\tif curr_ex > m, \n",
    "\t\tbreak; \n",
    "\tend\n",
    "end\n",
    "\n",
    "% Display Image\n",
    "h = imagesc(display_array, [-1 1]);\n",
    "\n",
    "% Do not show axis\n",
    "axis image off\n",
    "\n",
    "drawnow;\n",
    "\n",
    "end"
   ]
  },
  {
   "cell_type": "code",
   "execution_count": 148,
   "metadata": {
    "ExecuteTime": {
     "end_time": "2019-03-03T16:29:07.501984Z",
     "start_time": "2019-03-03T16:29:07.320379Z"
    }
   },
   "outputs": [],
   "source": [
    "function [X_norm, mu, sigma] = featureNormalize(X)\n",
    "%FEATURENORMALIZE Normalizes the features in X \n",
    "%   FEATURENORMALIZE(X) returns a normalized version of X where\n",
    "%   the mean value of each feature is 0 and the standard deviation\n",
    "%   is 1. This is often a good preprocessing step to do when\n",
    "%   working with learning algorithms.\n",
    "\n",
    "mu = mean(X);\n",
    "X_norm = bsxfun(@minus, X, mu);\n",
    "\n",
    "sigma = std(X_norm);\n",
    "X_norm = bsxfun(@rdivide, X_norm, sigma);\n",
    "\n",
    "\n",
    "% ============================================================\n",
    "\n",
    "end"
   ]
  },
  {
   "cell_type": "code",
   "execution_count": 149,
   "metadata": {
    "ExecuteTime": {
     "end_time": "2019-03-03T16:29:23.210762Z",
     "start_time": "2019-03-03T16:29:22.921359Z"
    }
   },
   "outputs": [],
   "source": [
    "function Z = projectData(X, U, K)\n",
    "%PROJECTDATA Computes the reduced data representation when projecting only \n",
    "%on to the top k eigenvectors\n",
    "%   Z = projectData(X, U, K) computes the projection of \n",
    "%   the normalized inputs X into the reduced dimensional space spanned by\n",
    "%   the first K columns of U. It returns the projected examples in Z.\n",
    "%\n",
    "\n",
    "% You need to return the following variables correctly.\n",
    "Z = zeros(size(X, 1), K);\n",
    "\n",
    "% ====================== YOUR CODE HERE ======================\n",
    "% Instructions: Compute the projection of the data using only the top K \n",
    "%               eigenvectors in U (first K columns). \n",
    "%               For the i-th example X(i,:), the projection on to the k-th \n",
    "%               eigenvector is given as follows:\n",
    "%                    x = X(i, :)';\n",
    "%                    projection_k = x' * U(:, k);\n",
    "%\n",
    "\n",
    "U_reduce = U(:, 1:K);\n",
    "Z = X * U_reduce;\n",
    "\n",
    "% =============================================================\n",
    "\n",
    "end\n"
   ]
  },
  {
   "cell_type": "code",
   "execution_count": 150,
   "metadata": {
    "ExecuteTime": {
     "end_time": "2019-03-03T16:29:33.583742Z",
     "start_time": "2019-03-03T16:29:33.283856Z"
    }
   },
   "outputs": [],
   "source": [
    "function X_rec = recoverData(Z, U, K)\n",
    "%RECOVERDATA Recovers an approximation of the original data when using the \n",
    "%projected data\n",
    "%   X_rec = RECOVERDATA(Z, U, K) recovers an approximation the \n",
    "%   original data that has been reduced to K dimensions. It returns the\n",
    "%   approximate reconstruction in X_rec.\n",
    "%\n",
    "\n",
    "% You need to return the following variables correctly.\n",
    "X_rec = zeros(size(Z, 1), size(U, 1));\n",
    "\n",
    "% ====================== YOUR CODE HERE ======================\n",
    "% Instructions: Compute the approximation of the data by projecting back\n",
    "%               onto the original space using the top K eigenvectors in U.\n",
    "%\n",
    "%               For the i-th example Z(i,:), the (approximate)\n",
    "%               recovered data for dimension j is given as follows:\n",
    "%                    v = Z(i, :)';\n",
    "%                    recovered_j = v' * U(j, 1:K)';\n",
    "%\n",
    "%               Notice that U(j, 1:K) is a row vector.\n",
    "%               \n",
    "U_reduce = U(:, 1:K);\n",
    "X_rec = Z * U_reduce';\n",
    "\n",
    "% =============================================================\n",
    "\n",
    "end\n"
   ]
  },
  {
   "cell_type": "markdown",
   "metadata": {},
   "source": [
    "### Lendo os Dados"
   ]
  },
  {
   "cell_type": "code",
   "execution_count": 151,
   "metadata": {
    "ExecuteTime": {
     "end_time": "2019-03-03T16:29:43.874470Z",
     "start_time": "2019-03-03T16:29:43.527498Z"
    }
   },
   "outputs": [],
   "source": [
    "% Lendo dados\n",
    "load ('ex7faces.mat')"
   ]
  },
  {
   "cell_type": "code",
   "execution_count": 152,
   "metadata": {
    "ExecuteTime": {
     "end_time": "2019-03-03T16:29:44.011576Z",
     "start_time": "2019-03-03T16:29:43.963561Z"
    }
   },
   "outputs": [
    {
     "name": "stdout",
     "output_type": "stream",
     "text": [
      "ans =\n",
      "\n",
      "   5000   1024\n",
      "\n"
     ]
    }
   ],
   "source": [
    "% Verificando output\n",
    "size(X)"
   ]
  },
  {
   "cell_type": "markdown",
   "metadata": {},
   "source": [
    "Isso indica que o dataset contém 5000 imagens de dimensões 32x32 (=1024 features)."
   ]
  },
  {
   "cell_type": "code",
   "execution_count": 153,
   "metadata": {
    "ExecuteTime": {
     "end_time": "2019-03-03T16:29:46.706182Z",
     "start_time": "2019-03-03T16:29:45.987533Z"
    }
   },
   "outputs": [
    {
     "data": {
      "image/png": "[encoded data removed]",
      "text/plain": [
       "<IPython.core.display.Image object>"
      ]
     },
     "metadata": {},
     "output_type": "display_data"
    }
   ],
   "source": [
    "displayData(X(1:100, :));"
   ]
  },
  {
   "cell_type": "markdown",
   "metadata": {},
   "source": [
    "### Aplicando PCA"
   ]
  },
  {
   "cell_type": "code",
   "execution_count": 154,
   "metadata": {
    "ExecuteTime": {
     "end_time": "2019-03-03T16:29:50.589582Z",
     "start_time": "2019-03-03T16:29:48.916179Z"
    }
   },
   "outputs": [],
   "source": [
    "%  Before running PCA, it is important to first normalize X by subtracting \n",
    "%  the mean value from each feature\n",
    "[X_norm, mu, sigma] = featureNormalize(X);\n",
    "\n",
    "%  Run PCA\n",
    "[U, S] = pca(X_norm);"
   ]
  },
  {
   "cell_type": "code",
   "execution_count": 155,
   "metadata": {
    "ExecuteTime": {
     "end_time": "2019-03-03T16:30:16.537668Z",
     "start_time": "2019-03-03T16:30:16.112642Z"
    }
   },
   "outputs": [
    {
     "data": {
      "image/png": "[encoded data removed]",
      "text/plain": [
       "<IPython.core.display.Image object>"
      ]
     },
     "metadata": {},
     "output_type": "display_data"
    }
   ],
   "source": [
    "%  Visualize the top 36 eigenvectors found\n",
    "displayData(U(:, 1:36)');"
   ]
  },
  {
   "cell_type": "markdown",
   "metadata": {},
   "source": [
    "### Reduzindo Dimensionalidade"
   ]
  },
  {
   "cell_type": "code",
   "execution_count": 159,
   "metadata": {
    "ExecuteTime": {
     "end_time": "2019-03-03T16:31:13.020265Z",
     "start_time": "2019-03-03T16:31:12.909812Z"
    }
   },
   "outputs": [
    {
     "name": "stdout",
     "output_type": "stream",
     "text": [
      "The projected data Z has a size of: \n",
      "5000 \n",
      "100 \n"
     ]
    }
   ],
   "source": [
    "K = 100;\n",
    "Z = projectData(X_norm, U, K);\n",
    "\n",
    "fprintf('The projected data Z has a size of: \\n')\n",
    "fprintf('%d \\n', size(Z));"
   ]
  },
  {
   "cell_type": "code",
   "execution_count": 160,
   "metadata": {
    "ExecuteTime": {
     "end_time": "2019-03-03T16:31:37.671758Z",
     "start_time": "2019-03-03T16:31:35.719702Z"
    }
   },
   "outputs": [
    {
     "name": "stdout",
     "output_type": "stream",
     "text": [
      "\n",
      "Visualizing the projected (reduced dimension) faces.\n",
      "\n"
     ]
    },
    {
     "data": {
      "image/png": "[encoded data removed]",
      "text/plain": [
       "<IPython.core.display.Image object>"
      ]
     },
     "metadata": {},
     "output_type": "display_data"
    }
   ],
   "source": [
    "fprintf('\\nVisualizing the projected (reduced dimension) faces.\\n\\n');\n",
    "\n",
    "K = 100;\n",
    "X_rec  = recoverData(Z, U, K);\n",
    "\n",
    "% Display normalized data\n",
    "subplot(1, 2, 1);\n",
    "displayData(X_norm(1:100,:));\n",
    "title('Original faces');\n",
    "axis square;"
   ]
  },
  {
   "cell_type": "code",
   "execution_count": 161,
   "metadata": {
    "ExecuteTime": {
     "end_time": "2019-03-03T16:31:53.256116Z",
     "start_time": "2019-03-03T16:31:51.631697Z"
    }
   },
   "outputs": [
    {
     "data": {
      "image/png": "[encoded data removed]",
      "text/plain": [
       "<IPython.core.display.Image object>"
      ]
     },
     "metadata": {},
     "output_type": "display_data"
    }
   ],
   "source": [
    "% Display reconstructed data from only k eigenfaces\n",
    "subplot(1, 2, 2);\n",
    "displayData(X_rec(1:100,:));\n",
    "title('Recovered faces');\n",
    "axis square;"
   ]
  },
  {
   "cell_type": "markdown",
   "metadata": {},
   "source": [
    "## Bônus"
   ]
  },
  {
   "cell_type": "markdown",
   "metadata": {},
   "source": [
    "### Definindo Funções"
   ]
  },
  {
   "cell_type": "code",
   "execution_count": 163,
   "metadata": {
    "ExecuteTime": {
     "end_time": "2019-03-03T16:43:42.426664Z",
     "start_time": "2019-03-03T16:43:41.939016Z"
    }
   },
   "outputs": [],
   "source": [
    "% Redefinindo função findClosestCentroids\n",
    "function idx = findClosestCentroids(X, centroids)\n",
    "%FINDCLOSESTCENTROIDS computes the centroid memberships for every example\n",
    "%   idx = FINDCLOSESTCENTROIDS (X, centroids) returns the closest centroids\n",
    "%   in idx for a dataset X where each row is a single example. idx = m x 1 \n",
    "%   vector of centroid assignments (i.e. each entry in range [1..K])\n",
    "%\n",
    "\n",
    "% Set K\n",
    "K = size(centroids, 1);\n",
    "\n",
    "% You need to return the following variables correctly.\n",
    "idx = zeros(size(X,1), 1);\n",
    "\n",
    "% ====================== YOUR CODE HERE ======================\n",
    "% Instructions: Go over every example, find its closest centroid, and store\n",
    "%               the index inside idx at the appropriate location.\n",
    "%               Concretely, idx(i) should contain the index of the centroid\n",
    "%               closest to example i. Hence, it should be a value in the \n",
    "%               range 1..K\n",
    "%\n",
    "% Note: You can use a for-loop over the examples to compute this.\n",
    "%\n",
    "\n",
    "% Aplicando pipeline a todo o dataset\n",
    "m = size(X, 1);\n",
    "idx = zeros(m, 1);\n",
    "for i = 1:m\n",
    "    sample = X(i, :);\n",
    "    dist = sample - centroids;\n",
    "    magnitude = [];\n",
    "    for j = 1:size(dist, 1)\n",
    "        magnitude = [magnitude; sqrt(sum(dist(j, :).^2))];\n",
    "    endfor\n",
    "    \n",
    "    c = find(min(magnitude) == magnitude);\n",
    "    if size(c, 1) > 1\n",
    "        c = c(1);\n",
    "    end\n",
    "    idx(i) = c;    \n",
    "endfor\n",
    "\n",
    "% =============================================================\n",
    "\n",
    "end"
   ]
  },
  {
   "cell_type": "code",
   "execution_count": 164,
   "metadata": {
    "ExecuteTime": {
     "end_time": "2019-03-03T16:43:52.876731Z",
     "start_time": "2019-03-03T16:43:52.435014Z"
    }
   },
   "outputs": [],
   "source": [
    "function centroids = computeCentroids(X, idx, K)\n",
    "%COMPUTECENTROIDS returns the new centroids by computing the means of the \n",
    "%data points assigned to each centroid.\n",
    "%   centroids = COMPUTECENTROIDS(X, idx, K) returns the new centroids by \n",
    "%   computing the means of the data points assigned to each centroid. It is\n",
    "%   given a dataset X where each row is a single data point, a vector\n",
    "%   idx of centroid assignments (i.e. each entry in range [1..K]) for each\n",
    "%   example, and K, the number of centroids. You should return a matrix\n",
    "%   centroids, where each row of centroids is the mean of the data points\n",
    "%   assigned to it.\n",
    "%\n",
    "\n",
    "% Useful variables\n",
    "[m n] = size(X);\n",
    "\n",
    "% You need to return the following variables correctly.\n",
    "centroids = zeros(K, n);\n",
    "\n",
    "\n",
    "% ====================== YOUR CODE HERE ======================\n",
    "% Instructions: Go over every centroid and compute mean of all points that\n",
    "%               belong to it. Concretely, the row vector centroids(i, :)\n",
    "%               should contain the mean of the data points assigned to\n",
    "%               centroid i.\n",
    "%\n",
    "% Note: You can use a for-loop over the centroids to compute this.\n",
    "%\n",
    "\n",
    "for i = 1:K\n",
    "    number = size(find(idx == i), 1);\n",
    "    centroids(i, :) = sum([idx == i] .* X) / number;\n",
    "endfor\n",
    "\n",
    "\n",
    "% =============================================================\n",
    "\n",
    "\n",
    "end"
   ]
  },
  {
   "cell_type": "code",
   "execution_count": 165,
   "metadata": {
    "ExecuteTime": {
     "end_time": "2019-03-03T16:43:59.112692Z",
     "start_time": "2019-03-03T16:43:58.874134Z"
    }
   },
   "outputs": [],
   "source": [
    "function centroids = kMeansInitCentroids(X, K)\n",
    "%KMEANSINITCENTROIDS This function initializes K centroids that are to be \n",
    "%used in K-Means on the dataset X\n",
    "%   centroids = KMEANSINITCENTROIDS(X, K) returns K initial centroids to be\n",
    "%   used with the K-Means on the dataset X\n",
    "%\n",
    "\n",
    "% You should return this values correctly\n",
    "centroids = zeros(K, size(X, 2));\n",
    "\n",
    "% ====================== YOUR CODE HERE ======================\n",
    "% Instructions: You should set centroids to randomly chosen examples from\n",
    "%               the dataset X\n",
    "%\n",
    "\n",
    "% Randomly reorder the indices of examples\n",
    "randidx = randperm(size(X, 1));\n",
    "% Take the first K examples as centroids\n",
    "centroids = X(randidx(1:K), :);\n",
    "\n",
    "% =============================================================\n",
    "\n",
    "end"
   ]
  },
  {
   "cell_type": "code",
   "execution_count": 166,
   "metadata": {
    "ExecuteTime": {
     "end_time": "2019-03-03T16:44:06.404402Z",
     "start_time": "2019-03-03T16:44:05.382791Z"
    }
   },
   "outputs": [],
   "source": [
    "function [centroids, idx] = runkMeans(X, initial_centroids, ...\n",
    "                                      max_iters, plot_progress)\n",
    "%RUNKMEANS runs the K-Means algorithm on data matrix X, where each row of X\n",
    "%is a single example\n",
    "%   [centroids, idx] = RUNKMEANS(X, initial_centroids, max_iters, ...\n",
    "%   plot_progress) runs the K-Means algorithm on data matrix X, where each \n",
    "%   row of X is a single example. It uses initial_centroids used as the\n",
    "%   initial centroids. max_iters specifies the total number of interactions \n",
    "%   of K-Means to execute. plot_progress is a true/false flag that \n",
    "%   indicates if the function should also plot its progress as the \n",
    "%   learning happens. This is set to false by default. runkMeans returns \n",
    "%   centroids, a Kxn matrix of the computed centroids and idx, a m x 1 \n",
    "%   vector of centroid assignments (i.e. each entry in range [1..K])\n",
    "%\n",
    "\n",
    "% Set default value for plot progress\n",
    "if ~exist('plot_progress', 'var') || isempty(plot_progress)\n",
    "    plot_progress = false;\n",
    "end\n",
    "\n",
    "% Plot the data if we are plotting progress\n",
    "if plot_progress\n",
    "    figure;\n",
    "    hold on;\n",
    "end\n",
    "\n",
    "% Initialize values\n",
    "[m n] = size(X);\n",
    "K = size(initial_centroids, 1);\n",
    "centroids = initial_centroids;\n",
    "previous_centroids = centroids;\n",
    "idx = zeros(m, 1);\n",
    "\n",
    "% Run K-Means\n",
    "for i=1:max_iters\n",
    "    \n",
    "    % Output progress\n",
    "    fprintf('K-Means iteration %d/%d...\\n', i, max_iters);\n",
    "    if exist('OCTAVE_VERSION')\n",
    "        fflush(stdout);\n",
    "    end\n",
    "    \n",
    "    % For each example in X, assign it to the closest centroid\n",
    "    idx = findClosestCentroids(X, centroids);\n",
    "    \n",
    "    % Optionally, plot progress here\n",
    "    if plot_progress\n",
    "        plotProgresskMeans(X, centroids, previous_centroids, idx, K, i);\n",
    "        previous_centroids = centroids;\n",
    "        fprintf('Press enter to continue.\\n');\n",
    "        pause;\n",
    "    end\n",
    "    \n",
    "    % Given the memberships, compute new centroids\n",
    "    centroids = computeCentroids(X, idx, K);\n",
    "end\n",
    "\n",
    "% Hold off if we are plotting progress\n",
    "if plot_progress\n",
    "    hold off;\n",
    "end\n",
    "\n",
    "end"
   ]
  },
  {
   "cell_type": "code",
   "execution_count": 168,
   "metadata": {
    "ExecuteTime": {
     "end_time": "2019-03-03T16:47:21.056385Z",
     "start_time": "2019-03-03T16:47:20.901783Z"
    }
   },
   "outputs": [],
   "source": [
    "function plotDataPoints(X, idx, K)\n",
    "%PLOTDATAPOINTS plots data points in X, coloring them so that those with the same\n",
    "%index assignments in idx have the same color\n",
    "%   PLOTDATAPOINTS(X, idx, K) plots data points in X, coloring them so that those \n",
    "%   with the same index assignments in idx have the same color\n",
    "\n",
    "% Create palette\n",
    "palette = hsv(K + 1);\n",
    "colors = palette(idx, :);\n",
    "\n",
    "% Plot the data\n",
    "scatter(X(:,1), X(:,2), 15, colors);\n",
    "\n",
    "end\n"
   ]
  },
  {
   "cell_type": "code",
   "execution_count": 169,
   "metadata": {
    "ExecuteTime": {
     "end_time": "2019-03-03T17:04:00.268951Z",
     "start_time": "2019-03-03T16:48:11.280546Z"
    }
   },
   "outputs": [
    {
     "name": "stdout",
     "output_type": "stream",
     "text": [
      "K-Means iteration 1/10...\n",
      "K-Means iteration 2/10...\n",
      "K-Means iteration 3/10...\n",
      "K-Means iteration 4/10...\n",
      "K-Means iteration 5/10...\n",
      "K-Means iteration 6/10...\n",
      "K-Means iteration 7/10...\n",
      "K-Means iteration 8/10...\n",
      "K-Means iteration 9/10...\n",
      "K-Means iteration 10/10...\n",
      "Program paused. Press enter to continue.\n",
      "Paused, enter any value to continue\n",
      "Program paused. Press enter to continue.\n",
      "Paused, enter any value to continue\n"
     ]
    },
    {
     "data": {
      "image/png": "[encoded data removed]",
      "text/plain": [
       "<IPython.core.display.Image object>"
      ]
     },
     "metadata": {},
     "output_type": "display_data"
    },
    {
     "data": {
      "image/png": "[encoded data removed]",
      "text/plain": [
       "<IPython.core.display.Image object>"
      ]
     },
     "metadata": {},
     "output_type": "display_data"
    }
   ],
   "source": [
    "%% === Part 8(a): Optional (ungraded) Exercise: PCA for Visualization ===\n",
    "%  One useful application of PCA is to use it to visualize high-dimensional\n",
    "%  data. In the last K-Means exercise you ran K-Means on 3-dimensional \n",
    "%  pixel colors of an image. We first visualize this output in 3D, and then\n",
    "%  apply PCA to obtain a visualization in 2D.\n",
    "\n",
    "close all; close all; clc\n",
    "\n",
    "% Reload the image from the previous exercise and run K-Means on it\n",
    "% For this to work, you need to complete the K-Means assignment first\n",
    "A = double(imread('bird_small.png'));\n",
    "\n",
    "% If imread does not work for you, you can try instead\n",
    "%   load ('bird_small.mat');\n",
    "\n",
    "A = A / 255;\n",
    "img_size = size(A);\n",
    "X = reshape(A, img_size(1) * img_size(2), 3);\n",
    "K = 16; \n",
    "max_iters = 10;\n",
    "initial_centroids = kMeansInitCentroids(X, K);\n",
    "[centroids, idx] = runkMeans(X, initial_centroids, max_iters);\n",
    "\n",
    "%  Sample 1000 random indexes (since working with all the data is\n",
    "%  too expensive. If you have a fast computer, you may increase this.\n",
    "sel = floor(rand(1000, 1) * size(X, 1)) + 1;\n",
    "\n",
    "%  Setup Color Palette\n",
    "palette = hsv(K);\n",
    "colors = palette(idx(sel), :);\n",
    "\n",
    "%  Visualize the data and centroid memberships in 3D\n",
    "figure;\n",
    "scatter3(X(sel, 1), X(sel, 2), X(sel, 3), 10, colors);\n",
    "title('Pixel dataset plotted in 3D. Color shows centroid memberships');\n",
    "fprintf('Program paused. Press enter to continue.\\n');\n",
    "pause;\n",
    "\n",
    "%% === Part 8(b): Optional (ungraded) Exercise: PCA for Visualization ===\n",
    "% Use PCA to project this cloud to 2D for visualization\n",
    "\n",
    "% Subtract the mean to use PCA\n",
    "[X_norm, mu, sigma] = featureNormalize(X);\n",
    "\n",
    "% PCA and project the data to 2D\n",
    "[U, S] = pca(X_norm);\n",
    "Z = projectData(X_norm, U, 2);\n",
    "\n",
    "% Plot in 2D\n",
    "figure;\n",
    "plotDataPoints(Z(sel, :), idx(sel), K);\n",
    "title('Pixel dataset plotted in 2D, using PCA for dimensionality reduction');\n",
    "fprintf('Program paused. Press enter to continue.\\n');\n",
    "pause;"
   ]
  },
  {
   "cell_type": "code",
   "execution_count": null,
   "metadata": {},
   "outputs": [],
   "source": []
  }
 ],
 "metadata": {
  "kernelspec": {
   "display_name": "Octave",
   "language": "octave",
   "name": "octave"
  },
  "language_info": {
   "file_extension": ".m",
   "help_links": [
    {
     "text": "GNU Octave",
     "url": "https://www.gnu.org/software/octave/support.html"
    },
    {
     "text": "Octave Kernel",
     "url": "https://github.com/Calysto/octave_kernel"
    },
    {
     "text": "MetaKernel Magics",
     "url": "https://github.com/calysto/metakernel/blob/master/metakernel/magics/README.md"
    }
   ],
   "mimetype": "text/x-octave",
   "name": "octave",
   "version": "4.4.1"
  },
  "toc": {
   "base_numbering": 1,
   "nav_menu": {},
   "number_sections": true,
   "sideBar": true,
   "skip_h1_title": true,
   "title_cell": "Table of Contents",
   "title_sidebar": "Contents",
   "toc_cell": true,
   "toc_position": {},
   "toc_section_display": true,
   "toc_window_display": true
  }
 },
 "nbformat": 4,
 "nbformat_minor": 2
}
