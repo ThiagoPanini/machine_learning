{
 "cells": [
  {
   "cell_type": "markdown",
   "metadata": {
    "toc": true
   },
   "source": [
    "<h1>Table of Contents<span class=\"tocSkip\"></span></h1>\n",
    "<div class=\"toc\"><ul class=\"toc-item\"><li><span><a href=\"#Exercício-1---Classification\" data-toc-modified-id=\"Exercício-1---Classification-1\"><span class=\"toc-item-num\">1&nbsp;&nbsp;</span>Exercício 1 - Classification</a></span><ul class=\"toc-item\"><li><span><a href=\"#plotData---Testes\" data-toc-modified-id=\"plotData---Testes-1.1\"><span class=\"toc-item-num\">1.1&nbsp;&nbsp;</span>plotData - Testes</a></span></li><li><span><a href=\"#plotData---Oficial\" data-toc-modified-id=\"plotData---Oficial-1.2\"><span class=\"toc-item-num\">1.2&nbsp;&nbsp;</span>plotData - Oficial</a></span></li><li><span><a href=\"#Funçao-g(z)---Sigmoid\" data-toc-modified-id=\"Funçao-g(z)---Sigmoid-1.3\"><span class=\"toc-item-num\">1.3&nbsp;&nbsp;</span>Funçao g(z) - Sigmoid</a></span></li><li><span><a href=\"#Cost-Function-e-Gradient\" data-toc-modified-id=\"Cost-Function-e-Gradient-1.4\"><span class=\"toc-item-num\">1.4&nbsp;&nbsp;</span>Cost Function e Gradient</a></span></li><li><span><a href=\"#Otimizando-via-fminuc\" data-toc-modified-id=\"Otimizando-via-fminuc-1.5\"><span class=\"toc-item-num\">1.5&nbsp;&nbsp;</span>Otimizando via fminuc</a></span></li><li><span><a href=\"#plotDecisionBoundary\" data-toc-modified-id=\"plotDecisionBoundary-1.6\"><span class=\"toc-item-num\">1.6&nbsp;&nbsp;</span>plotDecisionBoundary</a></span></li><li><span><a href=\"#Prevendo-Valores\" data-toc-modified-id=\"Prevendo-Valores-1.7\"><span class=\"toc-item-num\">1.7&nbsp;&nbsp;</span>Prevendo Valores</a></span></li></ul></li><li><span><a href=\"#Exercício-2---Regularized-Class\" data-toc-modified-id=\"Exercício-2---Regularized-Class-2\"><span class=\"toc-item-num\">2&nbsp;&nbsp;</span>Exercício 2 - Regularized Class</a></span><ul class=\"toc-item\"><li><span><a href=\"#Feature-Mapping\" data-toc-modified-id=\"Feature-Mapping-2.1\"><span class=\"toc-item-num\">2.1&nbsp;&nbsp;</span>Feature Mapping</a></span></li><li><span><a href=\"#Cost-Function-e-Gradient\" data-toc-modified-id=\"Cost-Function-e-Gradient-2.2\"><span class=\"toc-item-num\">2.2&nbsp;&nbsp;</span>Cost Function e Gradient</a></span></li><li><span><a href=\"#Otimizando-via-fminunc\" data-toc-modified-id=\"Otimizando-via-fminunc-2.3\"><span class=\"toc-item-num\">2.3&nbsp;&nbsp;</span>Otimizando via fminunc</a></span></li><li><span><a href=\"#Decision-Boundary\" data-toc-modified-id=\"Decision-Boundary-2.4\"><span class=\"toc-item-num\">2.4&nbsp;&nbsp;</span>Decision Boundary</a></span></li><li><span><a href=\"#Prevendo-Valores\" data-toc-modified-id=\"Prevendo-Valores-2.5\"><span class=\"toc-item-num\">2.5&nbsp;&nbsp;</span>Prevendo Valores</a></span></li></ul></li></ul></div>"
   ]
  },
  {
   "cell_type": "markdown",
   "metadata": {},
   "source": [
    "Notebook criado para facilitar a execução do exercício 2 do curso de Introdução à Machine Learning. A execução em tempo real e a visualização do estado de algumas variáveis são alguns dos fatores que fazem com que o Jupyter Notebook seja extremamente útil na realização das tarefas."
   ]
  },
  {
   "cell_type": "markdown",
   "metadata": {},
   "source": [
    "# Exercício 1 - Classification"
   ]
  },
  {
   "cell_type": "code",
   "execution_count": 67,
   "metadata": {},
   "outputs": [
    {
     "name": "stdout",
     "output_type": "stream",
     "text": [
      "head =\n",
      "\n",
      "   34.62366   78.02469    0.00000\n",
      "   30.28671   43.89500    0.00000\n",
      "   35.84741   72.90220    0.00000\n",
      "   60.18260   86.30855    1.00000\n",
      "   79.03274   75.34438    1.00000\n",
      "   45.08328   56.31637    0.00000\n",
      "   61.10666   96.51143    1.00000\n",
      "   75.02475   46.55401    1.00000\n",
      "   76.09879   87.42057    1.00000\n",
      "   84.43282   43.53339    1.00000\n",
      "\n"
     ]
    }
   ],
   "source": [
    "# Lendo arquivo\n",
    "data = load('ex2data1.txt');\n",
    "\n",
    "head = data(1:10,:)"
   ]
  },
  {
   "cell_type": "markdown",
   "metadata": {},
   "source": [
    "Os dados acima ilustram um problema de classificação e representam, respectivamente, a nota nos dois primeiros exames de alunos e, como target, o resultado se o mesmo foi aprovado ou não na disciplina.\n",
    "\n",
    "    - Coluna 1: Exame 1\n",
    "    - Coluna 2: Exame 2\n",
    "    - Coluna 3: Aprovado (1) e Reprovado (0)"
   ]
  },
  {
   "cell_type": "code",
   "execution_count": 68,
   "metadata": {},
   "outputs": [
    {
     "name": "stdout",
     "output_type": "stream",
     "text": [
      "ans =\n",
      "\n",
      "   34.624   78.025\n",
      "   30.287   43.895\n",
      "   35.847   72.902\n",
      "   60.183   86.309\n",
      "   79.033   75.344\n",
      "\n",
      "ans =\n",
      "\n",
      "   0\n",
      "   0\n",
      "   0\n",
      "   1\n",
      "   1\n",
      "\n"
     ]
    }
   ],
   "source": [
    "# Organizando dataset em features e target\n",
    "X = data(:, 1:2);\n",
    "y = data(:, 3);\n",
    "\n",
    "# Testando\n",
    "X(1:5, :)\n",
    "y(1:5, :)"
   ]
  },
  {
   "cell_type": "markdown",
   "metadata": {
    "heading_collapsed": true
   },
   "source": [
    "## plotData - Testes"
   ]
  },
  {
   "cell_type": "markdown",
   "metadata": {
    "hidden": true
   },
   "source": [
    "O próximo desafio é implementar uma função chamada ```plotData()``` responsável por imprimir os dados coletados em forma de gráfico."
   ]
  },
  {
   "attachments": {
    "ideal_plotData.png": {
     "image/png": "[encoded data removed]"
    }
   },
   "cell_type": "markdown",
   "metadata": {
    "hidden": true
   },
   "source": [
    "![ideal_plotData.png](attachment:ideal_plotData.png)"
   ]
  },
  {
   "cell_type": "code",
   "execution_count": 3,
   "metadata": {
    "hidden": true
   },
   "outputs": [
    {
     "data": {
      "image/png": "[encoded data removed]",
      "text/plain": [
       "<IPython.core.display.Image object>"
      ]
     },
     "metadata": {},
     "output_type": "display_data"
    }
   ],
   "source": [
    "# Tentativas de plotagem para implementação da função plotData(X, y)\n",
    "figure()\n",
    "plot(X, y, 'rx')"
   ]
  },
  {
   "cell_type": "markdown",
   "metadata": {
    "hidden": true
   },
   "source": [
    "Parece que o ideal é eximir o ```y``` da plotagem, mantendo apenas os valores em ```X```"
   ]
  },
  {
   "cell_type": "code",
   "execution_count": 4,
   "metadata": {
    "hidden": true
   },
   "outputs": [
    {
     "name": "stdout",
     "output_type": "stream",
     "text": [
      "'figure' is a function from the file C:\\Octave\\Octave-4.4.1\\share\\octave\\4.4.1\\m\\plot\\util\\figure.m\n",
      "\n",
      " -- figure\n",
      " -- figure N\n",
      " -- figure (N)\n",
      " -- figure (..., \"PROPERTY\", VALUE, ...)\n",
      " -- H = figure (...)\n",
      "     Create a new figure window for plotting.\n",
      "\n",
      "     If no arguments are specified, a new figure with the next available\n",
      "     number is created.\n",
      "\n",
      "     If called with an integer N, and no such numbered figure exists,\n",
      "     then a new figure with the specified number is created.  If the\n",
      "     figure already exists then it is made visible and becomes the\n",
      "     current figure for plotting.\n",
      "\n",
      "     Multiple property-value pairs may be specified for the figure\n",
      "     object, but they must appear in pairs.\n",
      "\n",
      "     The optional return value H is a graphics handle to the created\n",
      "     figure object.\n",
      "\n",
      "     Programming Note: The full list of properties is documented at\n",
      "     *note Figure Properties: Figure Properties.\n",
      "\n",
      "     See also: axes, gcf, clf, close.\n",
      "\n",
      "Additional help for built-in functions and operators is\n",
      "available in the online version of the manual.  Use the command\n",
      "'doc <topic>' to search the manual index.\n",
      "\n",
      "Help and information about Octave is also available on the WWW\n",
      "at https://www.octave.org and via the help@octave.org\n",
      "mailing list.\n"
     ]
    }
   ],
   "source": [
    "help figure"
   ]
  },
  {
   "cell_type": "code",
   "execution_count": 5,
   "metadata": {
    "hidden": true
   },
   "outputs": [
    {
     "data": {
      "image/png": "[encoded data removed]",
      "text/plain": [
       "<IPython.core.display.Image object>"
      ]
     },
     "metadata": {},
     "output_type": "display_data"
    }
   ],
   "source": [
    "# Nova tentativa -> apenas dados em X e com novas configurações de plotagem\n",
    "h = figure;\n",
    "set (h,'papertype', '<custom>')\n",
    "set (h,'paperunits','inches');\n",
    "set (h,'papersize',[3 2.5])\n",
    "set (h,'paperposition', [0,0,[3 2.5]])\n",
    "set (h,'defaultaxesposition', [0.15, 0.15, 0.75, 0.75])\n",
    "set (0,'defaultaxesfontsize', 14)\n",
    "plot(X, 'rx')"
   ]
  },
  {
   "cell_type": "markdown",
   "metadata": {
    "hidden": true
   },
   "source": [
    "Está tudo junto e misturado. O ideal é separar os valores de X que são classificados como 1 dos valores que são classificados como 0.\n",
    "\n",
    "Fonte para configuração da plotagem: https://dawes.wordpress.com/2009/12/19/nice-octave-plots/"
   ]
  },
  {
   "cell_type": "code",
   "execution_count": 6,
   "metadata": {
    "hidden": true
   },
   "outputs": [
    {
     "data": {
      "image/png": "[encoded data removed]",
      "text/plain": [
       "<IPython.core.display.Image object>"
      ]
     },
     "metadata": {},
     "output_type": "display_data"
    }
   ],
   "source": [
    "# Configurando plot\n",
    "h = figure;\n",
    "set (h,'papertype', '<custom>')\n",
    "set (h,'paperunits','inches');\n",
    "set (h,'papersize',[3 2.5])\n",
    "set (h,'paperposition', [0,0,[3 2.5]])\n",
    "set (h,'defaultaxesposition', [0.15, 0.15, 0.75, 0.75])\n",
    "set (0,'defaultaxesfontsize', 14)\n",
    "\n",
    "# Slice em X\n",
    "X_pass = X(y==1);\n",
    "plot(X_pass, 'rx')"
   ]
  },
  {
   "cell_type": "markdown",
   "metadata": {
    "hidden": true
   },
   "source": [
    "Parece que está ficando OK. Tentando algumas implementações adicionais."
   ]
  },
  {
   "cell_type": "code",
   "execution_count": 7,
   "metadata": {
    "hidden": true
   },
   "outputs": [
    {
     "data": {
      "image/png": "[encoded data removed]",
      "text/plain": [
       "<IPython.core.display.Image object>"
      ]
     },
     "metadata": {},
     "output_type": "display_data"
    }
   ],
   "source": [
    "# Configurando plot\n",
    "h = figure;\n",
    "set (h,'papertype', '<custom>')\n",
    "set (h,'paperunits','inches');\n",
    "set (h,'papersize',[3 2.5])\n",
    "set (h,'paperposition', [0,0,[3 2.5]])\n",
    "set (h,'defaultaxesposition', [0.15, 0.15, 0.75, 0.75])\n",
    "set (0,'defaultaxesfontsize', 14)\n",
    "\n",
    "# Slice em X\n",
    "X_pass = X(y==1);\n",
    "X_rec = X(y==0);\n",
    "\n",
    "# Plotando\n",
    "plot(X_pass, 'k+')\n",
    "hold on;\n",
    "plot(X_rec, 'yo')\n",
    "ylabel('Exam2')\n",
    "xlabel('Exam1')\n",
    "title('Distribution of a student\"s grade')\n",
    "axis([30, 100, 30, 100])"
   ]
  },
  {
   "cell_type": "markdown",
   "metadata": {
    "hidden": true
   },
   "source": [
    "Algo de errado não está certo..."
   ]
  },
  {
   "cell_type": "code",
   "execution_count": 8,
   "metadata": {
    "hidden": true
   },
   "outputs": [
    {
     "name": "stdout",
     "output_type": "stream",
     "text": [
      "'find' is a built-in function from the file libinterp/corefcn/find.cc\n",
      "\n",
      " -- IDX = find (X)\n",
      " -- IDX = find (X, N)\n",
      " -- IDX = find (X, N, DIRECTION)\n",
      " -- [i, j] = find (...)\n",
      " -- [i, j, v] = find (...)\n",
      "     Return a vector of indices of nonzero elements of a matrix, as a\n",
      "     row if X is a row vector or as a column otherwise.\n",
      "\n",
      "     To obtain a single index for each matrix element, Octave pretends\n",
      "     that the columns of a matrix form one long vector (like Fortran\n",
      "     arrays are stored).  For example:\n",
      "\n",
      "          find (eye (2))\n",
      "            => [ 1; 4 ]\n",
      "\n",
      "     If two inputs are given, N indicates the maximum number of elements\n",
      "     to find from the beginning of the matrix or vector.\n",
      "\n",
      "     If three inputs are given, DIRECTION should be one of \"first\" or\n",
      "     \"last\", requesting only the first or last N indices, respectively.\n",
      "     However, the indices are always returned in ascending order.\n",
      "\n",
      "     If two outputs are requested, 'find' returns the row and column\n",
      "     indices of nonzero elements of a matrix.  For example:\n",
      "\n",
      "          [i, j] = find (2 * eye (2))\n",
      "              => i = [ 1; 2 ]\n",
      "              => j = [ 1; 2 ]\n",
      "\n",
      "     If three outputs are requested, 'find' also returns a vector\n",
      "     containing the nonzero values.  For example:\n",
      "\n",
      "          [i, j, v] = find (3 * eye (2))\n",
      "                 => i = [ 1; 2 ]\n",
      "                 => j = [ 1; 2 ]\n",
      "                 => v = [ 3; 3 ]\n",
      "\n",
      "     Note that this function is particularly useful for sparse matrices,\n",
      "     as it extracts the nonzero elements as vectors, which can then be\n",
      "     used to create the original matrix.  For example:\n",
      "\n",
      "          sz = size (a);\n",
      "          [i, j, v] = find (a);\n",
      "          b = sparse (i, j, v, sz(1), sz(2));\n",
      "\n",
      "     See also: nonzeros.\n",
      "\n",
      "Additional help for built-in functions and operators is\n",
      "available in the online version of the manual.  Use the command\n",
      "'doc <topic>' to search the manual index.\n",
      "\n",
      "Help and information about Octave is also available on the WWW\n",
      "at https://www.octave.org and via the help@octave.org\n",
      "mailing list.\n"
     ]
    }
   ],
   "source": [
    "# Será necessário utilizad a função find\n",
    "help find"
   ]
  },
  {
   "cell_type": "markdown",
   "metadata": {
    "hidden": true
   },
   "source": [
    "A função ```find(condition)``` irá retornar os índices de determinada matriz que satisfazem a condição especificada. Assim, os índices serão mantidos e não iremos correr riscos do plot ficar segregado."
   ]
  },
  {
   "cell_type": "code",
   "execution_count": 9,
   "metadata": {
    "hidden": true
   },
   "outputs": [
    {
     "name": "stdout",
     "output_type": "stream",
     "text": [
      "ans =\n",
      "\n",
      "    4\n",
      "    5\n",
      "    7\n",
      "    8\n",
      "    9\n",
      "   10\n",
      "   13\n",
      "\n",
      "ans =\n",
      "\n",
      "   0\n",
      "   0\n",
      "   0\n",
      "   1\n",
      "   1\n",
      "   0\n",
      "   1\n",
      "   1\n",
      "   1\n",
      "   1\n",
      "\n"
     ]
    }
   ],
   "source": [
    "# Aplicando find\n",
    "X_pass = find(y == 1);\n",
    "X_pass(1:7, :)\n",
    "\n",
    "# Verificando diretamente no y se os índices retornados realmente são valores y=1\n",
    "y(1:10)"
   ]
  },
  {
   "cell_type": "markdown",
   "metadata": {
    "hidden": true
   },
   "source": [
    "Realmente..."
   ]
  },
  {
   "cell_type": "code",
   "execution_count": 10,
   "metadata": {
    "hidden": true
   },
   "outputs": [
    {
     "name": "stdout",
     "output_type": "stream",
     "text": [
      "ans =\n",
      "\n",
      "    1\n",
      "    2\n",
      "    3\n",
      "    6\n",
      "   11\n",
      "   12\n",
      "   15\n",
      "\n",
      "ans =\n",
      "\n",
      "   0\n",
      "   0\n",
      "   0\n",
      "   1\n",
      "   1\n",
      "   0\n",
      "   1\n",
      "   1\n",
      "   1\n",
      "   1\n",
      "\n"
     ]
    }
   ],
   "source": [
    "# Aplicando valores também em alunos reprovados\n",
    "X_rec = find(y == 0);\n",
    "X_rec(1:7)\n",
    "\n",
    "# Verificando y (pelo exemplo acima, o retorno de X_rec deve conter 1, 2, 3, 6...)\n",
    "y(1:10)"
   ]
  },
  {
   "cell_type": "markdown",
   "metadata": {
    "hidden": true
   },
   "source": [
    "Agora só nos resta implementar a plotagem."
   ]
  },
  {
   "cell_type": "code",
   "execution_count": 11,
   "metadata": {
    "hidden": true
   },
   "outputs": [
    {
     "data": {
      "image/png": "[encoded data removed]",
      "text/plain": [
       "<IPython.core.display.Image object>"
      ]
     },
     "metadata": {},
     "output_type": "display_data"
    }
   ],
   "source": [
    "# Configurando plot\n",
    "h = figure;\n",
    "set (h,'papertype', '<custom>')\n",
    "set (h,'paperunits','inches');\n",
    "set (h,'papersize',[3 2.5])\n",
    "set (h,'paperposition', [0,0,[3 2.5]])\n",
    "set (h,'defaultaxesposition', [0.15, 0.15, 0.75, 0.75])\n",
    "set (0,'defaultaxesfontsize', 14)\n",
    "\n",
    "# Slice em X\n",
    "X_pass = find(y==1);\n",
    "X_rec = find(y==0);\n",
    "\n",
    "# Plotando\n",
    "plot(X(X_pass, 1), X(X_pass, 2), 'k+')\n",
    "hold on;\n",
    "plot(X(X_rec, 1), X(X_rec, 2), 'yo')\n",
    "ylabel('Exam 2 score')\n",
    "xlabel('Exam 1 score')\n",
    "title('Distribution of a student\"s grade')"
   ]
  },
  {
   "cell_type": "markdown",
   "metadata": {
    "hidden": true
   },
   "source": [
    "Para um melhor entendimento (houve dificuldade em entender a linha ```X(X_pass, 1)``` ), vou refazer a plotagem indexando as variáveis com um nome sugestivo."
   ]
  },
  {
   "cell_type": "code",
   "execution_count": 12,
   "metadata": {
    "hidden": true
   },
   "outputs": [
    {
     "data": {
      "image/png": "[encoded data removed]",
      "text/plain": [
       "<IPython.core.display.Image object>"
      ]
     },
     "metadata": {},
     "output_type": "display_data"
    }
   ],
   "source": [
    "# Configurando plot\n",
    "h = figure;\n",
    "set (h,'papertype', '<custom>')\n",
    "set (h,'paperunits','inches');\n",
    "set (h,'papersize',[3 2.5])\n",
    "set (h,'paperposition', [0,0,[3 2.5]])\n",
    "set (h,'defaultaxesposition', [0.15, 0.15, 0.75, 0.75])\n",
    "set (0,'defaultaxesfontsize', 14)\n",
    "\n",
    "# Slice em X\n",
    "X_pass = find(y==1);\n",
    "X_rec = find(y==0);\n",
    "\n",
    "X_exam1_pass = X(X_pass, 1);\n",
    "X_exam2_pass = X(X_pass, 2);\n",
    "\n",
    "X_exam1_rec = X(X_rec, 1);\n",
    "X_exam2_rec = X(X_rec, 2);\n",
    "\n",
    "# Plotando\n",
    "plot(X_exam1_pass, X_exam2_pass, 'k+', 'LineWidth', 2, ...\n",
    "'MarkerSize', 8)\n",
    "hold on;\n",
    "plot(X_exam1_rec, X_exam2_rec, 'yo', 'LineWidth', 2, ...\n",
    "'MarkerSize', 8)\n",
    "ylabel('Exam 2 score')\n",
    "xlabel('Exam 1 score')\n",
    "title('Distribution of a student\"s grade')"
   ]
  },
  {
   "cell_type": "markdown",
   "metadata": {},
   "source": [
    "## plotData - Oficial"
   ]
  },
  {
   "cell_type": "code",
   "execution_count": 13,
   "metadata": {},
   "outputs": [],
   "source": [
    "function plotData(X, y)\n",
    "    % ---------------------\n",
    "    %     Description\n",
    "    % ---------------------\n",
    "    % Função responsável pela plotagem gráfica da distribuição das notas dos alunos (Exames 1 e 2).\n",
    "    % Os valores serão distribuídos e separados de acordo com a classificação proposta em y (aprovado/reprovado)\n",
    "    \n",
    "    % Encontra os índices dos aprovados e dos reprovados\n",
    "    X_pass = find(y==1);\n",
    "    X_rec = find(y==0);\n",
    "    \n",
    "    % Separa os dados de aprovados e reprovados por exame\n",
    "    X_pass_e1 = X(X_pass, 1);\n",
    "    X_pass_e2 = X(X_pass, 2);\n",
    "    X_rec_e1 = X(X_rec, 1);\n",
    "    X_rec_e2 = X(X_rec, 2);\n",
    "    \n",
    "    % Configura plotagem\n",
    "    h = figure;\n",
    "    set (h,'papertype', '<custom>');\n",
    "    set (h,'paperunits','inches');\n",
    "    set (h,'papersize',[3 2.5]);\n",
    "    set (h,'paperposition', [0,0,[3 2.5]]);\n",
    "    set (h,'defaultaxesposition', [0.15, 0.15, 0.75, 0.75]);\n",
    "    set (0,'defaultaxesfontsize', 14);\n",
    "    \n",
    "    % Plota os dados\n",
    "    plot(X_pass_e1, X_pass_e2, 'k+', ...\n",
    "        'MarkerSize', 7, 'LineWidth', 8)\n",
    "    hold on;\n",
    "    plot(X_rec_e1, X_rec_e2, 'yo', ...\n",
    "        'MarkerSize', 7, 'LineWidth', 3)\n",
    "    \n",
    "    # Legendas e labels\n",
    "    xlabel('Nota no Exame 1')\n",
    "    ylabel('Nota no Exame 2')\n",
    "    title('Distribuicao de Notas e Classificacao dos Estudantes')\n",
    "\n",
    "endfunction"
   ]
  },
  {
   "cell_type": "code",
   "execution_count": 69,
   "metadata": {},
   "outputs": [
    {
     "data": {
      "image/png": "[encoded data removed]",
      "text/plain": [
       "<IPython.core.display.Image object>"
      ]
     },
     "metadata": {},
     "output_type": "display_data"
    }
   ],
   "source": [
    "# Chamando a função\n",
    "plotData(X, y)"
   ]
  },
  {
   "cell_type": "markdown",
   "metadata": {},
   "source": [
    "## Funçao g(z) - Sigmoid"
   ]
  },
  {
   "cell_type": "markdown",
   "metadata": {},
   "source": [
    "Nesta etapa da atividade, é preciso realizar o warmUpExercise que, por sua vez, contempla a criação de uma função que calcula a função ```g(z)``` sigmoidal."
   ]
  },
  {
   "cell_type": "code",
   "execution_count": 15,
   "metadata": {},
   "outputs": [
    {
     "name": "stdout",
     "output_type": "stream",
     "text": [
      "g = 0\n"
     ]
    }
   ],
   "source": [
    "# Realizando alguns testes\n",
    "z = [1 2 3; 4 5 6];\n",
    "g = zeros(size(2))"
   ]
  },
  {
   "cell_type": "code",
   "execution_count": 16,
   "metadata": {},
   "outputs": [
    {
     "name": "stdout",
     "output_type": "stream",
     "text": [
      "error: operator /: nonconformant arguments (op1 is 1x1, op2 is 2x3)\n"
     ]
    }
   ],
   "source": [
    "# Tentando aplicar resultado à função g\n",
    "g = 1 / (1 + exp(z))"
   ]
  },
  {
   "cell_type": "code",
   "execution_count": 17,
   "metadata": {},
   "outputs": [
    {
     "name": "stdout",
     "output_type": "stream",
     "text": [
      "v =\n",
      "\n",
      "   1   2   3\n",
      "\n",
      "ans =\n",
      "\n",
      "    2.7183    7.3891   20.0855\n",
      "\n"
     ]
    }
   ],
   "source": [
    "# Testando com vetores\n",
    "v = [1 2 3]\n",
    "exp(v)"
   ]
  },
  {
   "cell_type": "code",
   "execution_count": 18,
   "metadata": {},
   "outputs": [
    {
     "name": "stdout",
     "output_type": "stream",
     "text": [
      "m =\n",
      "\n",
      "   1   2\n",
      "   3   4\n",
      "\n",
      "ans =\n",
      "\n",
      "   0.367879   0.135335\n",
      "   0.049787   0.018316\n",
      "\n"
     ]
    }
   ],
   "source": [
    "# Encontrando o jeito certo = element-wise divison\n",
    "m = [1 2; 3 4]\n",
    "1 ./ exp(m)"
   ]
  },
  {
   "cell_type": "code",
   "execution_count": 19,
   "metadata": {},
   "outputs": [
    {
     "name": "stdout",
     "output_type": "stream",
     "text": [
      "g =\n",
      "\n",
      "   0.0474258731776\n",
      "   0.0000008315280\n",
      "   0.0000000020612\n",
      "   0.1192029220221\n",
      "\n"
     ]
    }
   ],
   "source": [
    "# Aplicando à função g\n",
    "z = [3; 14; 20; 2];\n",
    "g = 1 ./ (1 + exp(z))"
   ]
  },
  {
   "cell_type": "markdown",
   "metadata": {},
   "source": [
    "Aplicando função g sigmoidal"
   ]
  },
  {
   "cell_type": "code",
   "execution_count": 20,
   "metadata": {},
   "outputs": [],
   "source": [
    "function g = sigmoid(z)\n",
    "    % ----------------\n",
    "    %    DESCRIÇÃO\n",
    "    % ----------------\n",
    "    % Função responsável por calcular função g(z)\n",
    "    %\n",
    "    % INPUT:\n",
    "    % z -> parâmetros para o cálculo de g(z), lembrando que z define theta^T * X e também pode ser um vetor ou matriz.\n",
    "    %\n",
    "    % OUTPUT:\n",
    "    % g -> resultado a função para os parâmetros z passados.\n",
    "    \n",
    "    g = 1 ./ (1 + exp(-z));\n",
    "\n",
    "endfunction"
   ]
  },
  {
   "cell_type": "code",
   "execution_count": 21,
   "metadata": {},
   "outputs": [
    {
     "name": "stdout",
     "output_type": "stream",
     "text": [
      "g =\n",
      "\n",
      "   0.50000   1.00000   0.62246   0.73106\n",
      "\n"
     ]
    }
   ],
   "source": [
    "# Chamando a função g\n",
    "z = [0, 1000000, .5, 1];\n",
    "g = sigmoid(z)"
   ]
  },
  {
   "cell_type": "markdown",
   "metadata": {},
   "source": [
    "## Cost Function e Gradient"
   ]
  },
  {
   "cell_type": "markdown",
   "metadata": {},
   "source": [
    "Bloco de instruções responsável por definir a ```Função Custo``` para regressão logística, bem como as derivadas parciais do gradiente."
   ]
  },
  {
   "cell_type": "code",
   "execution_count": 22,
   "metadata": {},
   "outputs": [
    {
     "name": "stdout",
     "output_type": "stream",
     "text": [
      "m =  100\n"
     ]
    }
   ],
   "source": [
    "# De maneira vetorizada\n",
    "m = length(y)"
   ]
  },
  {
   "cell_type": "code",
   "execution_count": 23,
   "metadata": {},
   "outputs": [
    {
     "name": "stdout",
     "output_type": "stream",
     "text": [
      "m =  100\n",
      "n =  2\n",
      "ans =\n",
      "\n",
      "    1.0000   34.6237   78.0247\n",
      "    1.0000   30.2867   43.8950\n",
      "    1.0000   35.8474   72.9022\n",
      "    1.0000   60.1826   86.3086\n",
      "    1.0000   79.0327   75.3444\n",
      "\n",
      "initial_theta =\n",
      "\n",
      "   0\n",
      "   0\n",
      "   0\n",
      "\n"
     ]
    }
   ],
   "source": [
    "# Configurando termos\n",
    "[m, n] = size(X)\n",
    "\n",
    "X_train = [ones(m, 1) X];\n",
    "X_train(1:5, :)\n",
    "\n",
    "initial_theta = zeros(n + 1, 1) # theta = n+1 dimensional"
   ]
  },
  {
   "cell_type": "code",
   "execution_count": 24,
   "metadata": {},
   "outputs": [
    {
     "name": "stdout",
     "output_type": "stream",
     "text": [
      "ans =\n",
      "\n",
      "   0\n",
      "   0\n",
      "   0\n",
      "   0\n",
      "   0\n",
      "\n",
      "ans =\n",
      "\n",
      "   0.50000\n",
      "   0.50000\n",
      "   0.50000\n",
      "   0.50000\n",
      "   0.50000\n",
      "\n"
     ]
    }
   ],
   "source": [
    "# Definindo z e função g (h(x))\n",
    "z = X_train * initial_theta;\n",
    "z(1:5)\n",
    "\n",
    "h = sigmoid(z);\n",
    "h(1:5)"
   ]
  },
  {
   "cell_type": "code",
   "execution_count": 25,
   "metadata": {},
   "outputs": [
    {
     "name": "stdout",
     "output_type": "stream",
     "text": [
      "J =  0.69315\n"
     ]
    }
   ],
   "source": [
    "# Definindo a função custo\n",
    "J = (1 / m) * (-y' * log(h) - (1 - y)' * log(1 - h))"
   ]
  },
  {
   "cell_type": "markdown",
   "metadata": {},
   "source": [
    "O resultado bateu com o do exercício. Calculando agora o gradiente (derivadas parciais);"
   ]
  },
  {
   "cell_type": "code",
   "execution_count": 26,
   "metadata": {},
   "outputs": [
    {
     "name": "stdout",
     "output_type": "stream",
     "text": [
      "gradient =\n",
      "\n",
      "   0\n",
      "   0\n",
      "   0\n",
      "\n"
     ]
    }
   ],
   "source": [
    "# Definindo o gradiente\n",
    "gradient = zeros(size(initial_theta))"
   ]
  },
  {
   "cell_type": "code",
   "execution_count": 27,
   "metadata": {},
   "outputs": [
    {
     "name": "stdout",
     "output_type": "stream",
     "text": [
      "gradient =\n",
      "\n",
      "    -10.000\n",
      "  -1200.922\n",
      "  -1126.284\n",
      "\n"
     ]
    }
   ],
   "source": [
    "gradient = X_train' * (h - y) "
   ]
  },
  {
   "cell_type": "code",
   "execution_count": 217,
   "metadata": {},
   "outputs": [],
   "source": [
    "# Colocando tudo em função\n",
    "function [J, grad] = costFunction(theta, X, y)\n",
    "    % ------------------\n",
    "    %    DESCRIPTION\n",
    "    % ------------------\n",
    "    % Função responsável por calcular a função de custo J e o gradiente (Derivadas parciais)\n",
    "    %\n",
    "    % INPUT:\n",
    "    % theta -> parâmetros theta que definem o comportamento do moelo;\n",
    "    % X     -> dados de treinamento para cálculo de previsões;\n",
    "    % y     -> dados target.\n",
    "    %\n",
    "    % OUTPUT:\n",
    "    % J     -> função de custo para a hypothesis definida;\n",
    "    % grad  -> gradiente da função para cada parâmetro theta (derivadas parciais).\n",
    "    \n",
    "    # Define o parâmetro m\n",
    "    m = length(y);\n",
    "    J = 0;\n",
    "    grad = zeros(size(theta));\n",
    "    \n",
    "    # Adiciona coluna para x_0 nos dados de treinamento\n",
    "    X_train = [ones(m, 1), X];\n",
    "    \n",
    "    # Calcula hypothesis\n",
    "    z = X_train * theta;\n",
    "    h = sigmoid(z);\n",
    "    \n",
    "    # Calcula função de custo J\n",
    "    J = (1 / m) * (-y' * log(h) - (1 - y)' * log(1 - h));\n",
    "    \n",
    "    # Calcula gradiente para cada entrada\n",
    "    grad = (X_train' * (h - y)) / m;\n",
    "\n",
    "endfunction"
   ]
  },
  {
   "cell_type": "code",
   "execution_count": 29,
   "metadata": {},
   "outputs": [
    {
     "name": "stdout",
     "output_type": "stream",
     "text": [
      "J =  0.69315\n",
      "grad =\n",
      "\n",
      "   -0.10000\n",
      "  -12.00922\n",
      "  -11.26284\n",
      "\n"
     ]
    }
   ],
   "source": [
    "# Inicializando parâmetros e chamando função\n",
    "[m, n] = size(X);\n",
    "initial_theta = zeros(n + 1, 1);\n",
    "\n",
    "[J, grad] = costFunction(initial_theta, X, y)"
   ]
  },
  {
   "cell_type": "markdown",
   "metadata": {},
   "source": [
    "Os resultados surtiram o efeito esperado através da inicialização dos parâmetros theta como [0; 0; 0]"
   ]
  },
  {
   "cell_type": "markdown",
   "metadata": {},
   "source": [
    "## Otimizando via fminuc"
   ]
  },
  {
   "cell_type": "code",
   "execution_count": 30,
   "metadata": {},
   "outputs": [
    {
     "name": "stdout",
     "output_type": "stream",
     "text": [
      "test_theta =\n",
      "\n",
      "  -24.00000\n",
      "    0.20000\n",
      "    0.20000\n",
      "\n"
     ]
    }
   ],
   "source": [
    "# Inicializando os parâmetros theta de modo diferente\n",
    "test_theta = [-24; .2; .2]"
   ]
  },
  {
   "cell_type": "code",
   "execution_count": 31,
   "metadata": {},
   "outputs": [
    {
     "name": "stdout",
     "output_type": "stream",
     "text": [
      "cost =  0.21833\n",
      "gradient =\n",
      "\n",
      "   0.042903\n",
      "   2.566234\n",
      "   2.646797\n",
      "\n"
     ]
    }
   ],
   "source": [
    "# Chamando função que calcula J e grad\n",
    "[cost, gradient] = costFunction(test_theta, X, y)"
   ]
  },
  {
   "cell_type": "code",
   "execution_count": 32,
   "metadata": {},
   "outputs": [
    {
     "name": "stdout",
     "output_type": "stream",
     "text": [
      "inicial_theta =\n",
      "\n",
      "   0\n",
      "   0\n",
      "   0\n",
      "\n",
      "cost =  0.69315\n",
      "gradient =\n",
      "\n",
      "   -0.10000\n",
      "  -12.00922\n",
      "  -11.26284\n",
      "\n"
     ]
    }
   ],
   "source": [
    "# Verificando novamente os resultados para theta inicial\n",
    "inicial_theta = zeros(size(X_train, 2), 1)\n",
    "[cost, gradient] = costFunction(initial_theta, X, y)"
   ]
  },
  {
   "cell_type": "code",
   "execution_count": 33,
   "metadata": {},
   "outputs": [
    {
     "name": "stdout",
     "output_type": "stream",
     "text": [
      "theta =\n",
      "\n",
      "  -25.16127\n",
      "    0.20623\n",
      "    0.20147\n",
      "\n",
      "cost =  0.20350\n"
     ]
    }
   ],
   "source": [
    "# Verificando com fminunc\n",
    "options = optimset('GradObj', 'on', 'MaxIter', 400);\n",
    "[theta, cost] = fminunc(@(t)(costFunction(t, X, y)), initial_theta, options)"
   ]
  },
  {
   "cell_type": "markdown",
   "metadata": {},
   "source": [
    "Absurdamente melhor."
   ]
  },
  {
   "cell_type": "markdown",
   "metadata": {},
   "source": [
    "## plotDecisionBoundary"
   ]
  },
  {
   "cell_type": "code",
   "execution_count": 34,
   "metadata": {},
   "outputs": [
    {
     "name": "stdout",
     "output_type": "stream",
     "text": [
      "'contour' is a function from the file C:\\Octave\\Octave-4.4.1\\share\\octave\\4.4.1\\m\\plot\\draw\\contour.m\n",
      "\n",
      " -- contour (Z)\n",
      " -- contour (Z, VN)\n",
      " -- contour (X, Y, Z)\n",
      " -- contour (X, Y, Z, VN)\n",
      " -- contour (..., STYLE)\n",
      " -- contour (HAX, ...)\n",
      " -- [C, H] = contour (...)\n",
      "     Create a 2-D contour plot.\n",
      "\n",
      "     Plot level curves (contour lines) of the matrix Z, using the\n",
      "     contour matrix C computed by 'contourc' from the same arguments;\n",
      "     see the latter for their interpretation.\n",
      "\n",
      "     The appearance of contour lines can be defined with a line style\n",
      "     STYLE in the same manner as 'plot'.  Only line style and color are\n",
      "     used; Any markers defined by STYLE are ignored.\n",
      "\n",
      "     If the first argument HAX is an axes handle, then plot into this\n",
      "     axes, rather than the current axes returned by 'gca'.\n",
      "\n",
      "     The optional output C contains the contour levels in 'contourc'\n",
      "     format.\n",
      "\n",
      "     The optional return value H is a graphics handle to the hggroup\n",
      "     comprising the contour lines.\n",
      "\n",
      "     Example:\n",
      "\n",
      "          x = 0:2;\n",
      "          y = x;\n",
      "          z = x' * y;\n",
      "          contour (x, y, z, 2:3)\n",
      "\n",
      "     See also: ezcontour, contourc, contourf, contour3, clabel, meshc,\n",
      "     surfc, caxis, colormap, plot.\n",
      "\n",
      "Additional help for built-in functions and operators is\n",
      "available in the online version of the manual.  Use the command\n",
      "'doc <topic>' to search the manual index.\n",
      "\n",
      "Help and information about Octave is also available on the WWW\n",
      "at https://www.octave.org and via the help@octave.org\n",
      "mailing list.\n"
     ]
    }
   ],
   "source": [
    "help contour"
   ]
  },
  {
   "cell_type": "code",
   "execution_count": 35,
   "metadata": {},
   "outputs": [],
   "source": [
    "function plotDecisionBoundary(theta, X, y)\n",
    "%PLOTDECISIONBOUNDARY Plots the data points X and y into a new figure with\n",
    "%the decision boundary defined by theta\n",
    "%   PLOTDECISIONBOUNDARY(theta, X,y) plots the data points with + for the \n",
    "%   positive examples and o for the negative examples. X is assumed to be \n",
    "%   a either \n",
    "%   1) Mx3 matrix, where the first column is an all-ones column for the \n",
    "%      intercept.\n",
    "%   2) MxN, N>3 matrix, where the first column is all-ones\n",
    "\n",
    "% Plot Data\n",
    "plotData(X(:,2:3), y);\n",
    "hold on\n",
    "\n",
    "if size(X, 2) <= 3\n",
    "    % Only need 2 points to define a line, so choose two endpoints\n",
    "    plot_x = [min(X(:,2))-2,  max(X(:,2))+2];\n",
    "\n",
    "    % Calculate the decision boundary line\n",
    "    plot_y = (-1./theta(3)).*(theta(2).*plot_x + theta(1));\n",
    "\n",
    "    % Plot, and adjust axes for better viewing\n",
    "    plot(plot_x, plot_y)\n",
    "    \n",
    "    % Legend, specific for the exercise\n",
    "    %legend('Admitted', 'Not admitted', 'Decision Boundary')\n",
    "    axis([30, 100, 30, 100])\n",
    "else\n",
    "    % Here is the grid range\n",
    "    u = linspace(-1, 1.5, 50);\n",
    "    v = linspace(-1, 1.5, 50);\n",
    "\n",
    "    z = zeros(length(u), length(v));\n",
    "    % Evaluate z = theta*x over the grid\n",
    "    for i = 1:length(u)\n",
    "        for j = 1:length(v)\n",
    "            z(i,j) = mapFeature(u(i), v(j))*theta;\n",
    "        end\n",
    "    end\n",
    "    z = z'; % important to transpose z before calling contour\n",
    "\n",
    "    % Plot z = 0\n",
    "    % Notice you need to specify the range [0, 0]\n",
    "    contour(u, v, z, [0, 0], 'LineWidth', 2)\n",
    "end\n",
    "hold off\n",
    "\n",
    "end"
   ]
  },
  {
   "cell_type": "code",
   "execution_count": 36,
   "metadata": {},
   "outputs": [
    {
     "data": {
      "image/png": "[encoded data removed]",
      "text/plain": [
       "<IPython.core.display.Image object>"
      ]
     },
     "metadata": {},
     "output_type": "display_data"
    }
   ],
   "source": [
    "% Plotando resultados para otimizando por fminunc\n",
    "plotDecisionBoundary(theta, X_train, y)"
   ]
  },
  {
   "cell_type": "markdown",
   "metadata": {},
   "source": [
    "## Prevendo Valores"
   ]
  },
  {
   "cell_type": "markdown",
   "metadata": {},
   "source": [
    "Neste momento, será necessário criar uma função ```predict(theta, X)``` para previsão de valores e classificação."
   ]
  },
  {
   "cell_type": "code",
   "execution_count": 37,
   "metadata": {},
   "outputs": [
    {
     "name": "stdout",
     "output_type": "stream",
     "text": [
      "theta =\n",
      "\n",
      "  -25.16127\n",
      "    0.20623\n",
      "    0.20147\n",
      "\n"
     ]
    }
   ],
   "source": [
    "# Confirmando os valores ótimos para theta\n",
    "theta"
   ]
  },
  {
   "cell_type": "code",
   "execution_count": 38,
   "metadata": {},
   "outputs": [
    {
     "name": "stdout",
     "output_type": "stream",
     "text": [
      "ans =\n",
      "\n",
      "    1.0000   34.6237   78.0247\n",
      "    1.0000   30.2867   43.8950\n",
      "    1.0000   35.8474   72.9022\n",
      "    1.0000   60.1826   86.3086\n",
      "    1.0000   79.0327   75.3444\n",
      "\n"
     ]
    }
   ],
   "source": [
    "# Confirmando os valores de X\n",
    "X_train(1:5, :)"
   ]
  },
  {
   "cell_type": "code",
   "execution_count": 39,
   "metadata": {},
   "outputs": [
    {
     "name": "stdout",
     "output_type": "stream",
     "text": [
      "ans =\n",
      "\n",
      "   -2.3011\n",
      "  -10.0716\n",
      "   -3.0807\n",
      "    4.6390\n",
      "    6.3175\n",
      "\n"
     ]
    }
   ],
   "source": [
    "# Realizando um teste de predição\n",
    "p = X_train * theta;\n",
    "p(1:5, :)"
   ]
  },
  {
   "cell_type": "code",
   "execution_count": 40,
   "metadata": {},
   "outputs": [
    {
     "name": "stdout",
     "output_type": "stream",
     "text": [
      "ans =\n",
      "\n",
      "   0\n",
      "   0\n",
      "   0\n",
      "   1\n",
      "   1\n",
      "\n"
     ]
    }
   ],
   "source": [
    "# Seria possível comparar com nosso target y?\n",
    "y(1:5, :)"
   ]
  },
  {
   "cell_type": "markdown",
   "metadata": {},
   "source": [
    "Me parece que os valores que se encontram abaixo de um treshold são classificados como 0, enquanto valores localizados acima deste treshold são classificados como 1. A intenção é descobrir esse threshold, ou então determinar uma outra função para predição dos valores, o que pode ser bem mais provável."
   ]
  },
  {
   "cell_type": "code",
   "execution_count": 41,
   "metadata": {},
   "outputs": [
    {
     "name": "stdout",
     "output_type": "stream",
     "text": [
      "ans =\n",
      "\n",
      "   0.091033009\n",
      "   0.000042260\n",
      "   0.043908734\n",
      "   0.990424746\n",
      "   0.998198818\n",
      "   0.010797825\n",
      "   0.998978132\n",
      "   0.423243648\n",
      "   0.999710025\n",
      "   0.735403760\n",
      "\n"
     ]
    }
   ],
   "source": [
    "# Testando função sigmoid\n",
    "z = X_train * theta;\n",
    "h = sigmoid(z);\n",
    "h(1:10, :)"
   ]
  },
  {
   "cell_type": "markdown",
   "metadata": {},
   "source": [
    "Acredito que o threshold, com a função hypopthesis calculada através da função ```sigmoid(z)```, seja:\n",
    "\n",
    "    - Classificação = 1 para valores acima de 0.5\n",
    "    - Classificação = 0 para valores abaixo de 0.5"
   ]
  },
  {
   "cell_type": "markdown",
   "metadata": {},
   "source": [
    "A intenção é retornar um vetor p composto por 0's e 1's"
   ]
  },
  {
   "cell_type": "code",
   "execution_count": 42,
   "metadata": {},
   "outputs": [],
   "source": [
    "# Realizando mais alguns testes\n",
    "m = size(X_train, 1);\n",
    "p = zeros(m, 1);\n",
    "h = sigmoid(X_train * theta);\n",
    "\n",
    "for i = 1:m,\n",
    "    if h(i) > 0.5,\n",
    "        p(i) = 1;\n",
    "    else\n",
    "        p(i) = 0;\n",
    "    end\n",
    "end"
   ]
  },
  {
   "cell_type": "code",
   "execution_count": 43,
   "metadata": {},
   "outputs": [
    {
     "name": "stdout",
     "output_type": "stream",
     "text": [
      "predictions =\n",
      "\n",
      "   0\n",
      "   0\n",
      "   0\n",
      "   1\n",
      "   1\n",
      "   0\n",
      "   1\n",
      "   0\n",
      "   1\n",
      "   1\n",
      "\n"
     ]
    }
   ],
   "source": [
    "# Checando vetor p\n",
    "predictions = p(1:10, 1)"
   ]
  },
  {
   "cell_type": "markdown",
   "metadata": {},
   "source": [
    "Parece que o resultado almejado foi alcançado."
   ]
  },
  {
   "cell_type": "code",
   "execution_count": 44,
   "metadata": {},
   "outputs": [],
   "source": [
    "# Criando função predictions\n",
    "function p = predictions(theta, X)\n",
    "    % Função responsável por calcular predições, isto é, classificar valores de acordo com os inputs fornecidos\n",
    "    %\n",
    "    % PARÂMETROS\n",
    "    % theta -> parâmetros ótimos calculados para o modelo através de funções específicas (cost, gradient, fminunc)\n",
    "    % X -> dados de entrada para o modelo ((size(X), 1) = size(theta, 1))\n",
    "    \n",
    "    m = size(X, 1);\n",
    "    p = zeros(m, 1);\n",
    "    \n",
    "    % Calculando hypothesis\n",
    "    z = X * theta;\n",
    "    h = sigmoid(z);\n",
    "    \n",
    "    % Iterando sobre o resultado da função hypothesis para criar o vetor p\n",
    "    for i = 1:m,\n",
    "        if h(i) >= 0.5,\n",
    "            p(i) = 1;\n",
    "        else\n",
    "            p(i) = 0;\n",
    "        end\n",
    "    end\n",
    "    \n",
    "end"
   ]
  },
  {
   "cell_type": "code",
   "execution_count": 45,
   "metadata": {},
   "outputs": [
    {
     "name": "stdout",
     "output_type": "stream",
     "text": [
      "pred =\n",
      "\n",
      "   0\n",
      "   0\n",
      "   0\n",
      "   1\n",
      "   1\n",
      "   0\n",
      "   1\n",
      "   0\n",
      "   1\n",
      "   1\n",
      "\n",
      "target =\n",
      "\n",
      "   0\n",
      "   0\n",
      "   0\n",
      "   1\n",
      "   1\n",
      "   0\n",
      "   1\n",
      "   1\n",
      "   1\n",
      "   1\n",
      "\n"
     ]
    }
   ],
   "source": [
    "# Chamando função\n",
    "pred = predictions(theta, X_train);\n",
    "\n",
    "# Verificando primeiras linhas e comparando com target y\n",
    "pred = pred(1:10, :)\n",
    "target = y(1:10, :)"
   ]
  },
  {
   "cell_type": "markdown",
   "metadata": {},
   "source": [
    "Dessa forma, é possível realizar algumas predições e calcular a acurácia do nosso modelo."
   ]
  },
  {
   "cell_type": "code",
   "execution_count": 46,
   "metadata": {},
   "outputs": [
    {
     "name": "stdout",
     "output_type": "stream",
     "text": [
      "Um aluno com notas 45 e 85, prevemos que sua nota final será 0.776\n",
      "Valor esperado: 0.775 +/- 0.002\n"
     ]
    }
   ],
   "source": [
    "# Predizendo valores para aluno com nota 45 e 85 nos exames 1 e 2, respectivamente\n",
    "X_pred = [1, 45, 85];\n",
    "y_pred = sigmoid(X_pred * theta);\n",
    "\n",
    "fprintf('Um aluno com notas 45 e 85, prevemos que sua nota final será %.3f\\n', y_pred);\n",
    "fprintf('Valor esperado: 0.775 +/- 0.002\\n')"
   ]
  },
  {
   "cell_type": "code",
   "execution_count": 50,
   "metadata": {},
   "outputs": [
    {
     "name": "stdout",
     "output_type": "stream",
     "text": [
      "Train Accuracy: 89.000\n",
      "Acurácia esperada: 89.0\n",
      "Train Accuracy: 89.000\n"
     ]
    }
   ],
   "source": [
    "# Calculando a acurácia do modelo\n",
    "p = predictions(theta, X_train);\n",
    "acc = mean(double(p == y));\n",
    "\n",
    "fprintf('Train Accuracy: %.3f', acc * 100);\n",
    "fprintf('Acurácia esperada: 89.0\\n')"
   ]
  },
  {
   "cell_type": "code",
   "execution_count": 52,
   "metadata": {},
   "outputs": [
    {
     "name": "stdout",
     "output_type": "stream",
     "text": [
      "ans =\n",
      "\n",
      "   1\n",
      "   1\n",
      "   1\n",
      "   1\n",
      "   1\n",
      "   1\n",
      "   1\n",
      "   0\n",
      "   1\n",
      "   1\n",
      "   0\n",
      "   1\n",
      "   1\n",
      "   1\n",
      "   1\n",
      "\n"
     ]
    }
   ],
   "source": [
    "# Verificando cálculo da acurácia\n",
    "double(p == y)(1:15, :)"
   ]
  },
  {
   "cell_type": "code",
   "execution_count": 53,
   "metadata": {},
   "outputs": [
    {
     "name": "stdout",
     "output_type": "stream",
     "text": [
      "ans =  0.89000\n"
     ]
    }
   ],
   "source": [
    "mean(double(p==y))"
   ]
  },
  {
   "cell_type": "markdown",
   "metadata": {},
   "source": [
    "# Exercício 2 - Regularized Class"
   ]
  },
  {
   "cell_type": "markdown",
   "metadata": {},
   "source": [
    "Neste ponto, o exercício gira em torno da aplicação da regularização nas análises"
   ]
  },
  {
   "cell_type": "markdown",
   "metadata": {},
   "source": [
    "    In this part of the exercise, you will implement regularized logistic regression to predict whether microchips from a\n",
    "    fabrication plant passes quality assurance (QA). During QA, each microchip goes through various tests to ensure it is \n",
    "    functioning correctly. \n",
    "    \n",
    "    Suppose you're the product manager of the factory and you have test results for some microchips on two different tests. \n",
    "    From these two tests, you would like to determine whether the microchips should be accepted or rejected. \n",
    "    \n",
    "    To help you make the decision, you have a dataset of test results on past microchips, from which you can build a \n",
    "    logistic regression model.\n"
   ]
  },
  {
   "cell_type": "code",
   "execution_count": 54,
   "metadata": {},
   "outputs": [],
   "source": [
    "%% Machine Learning Online Class - Exercise 2: Logistic Regression\n",
    "%\n",
    "%  Instructions\n",
    "%  ------------\n",
    "%\n",
    "%  This file contains code that helps you get started on the second part\n",
    "%  of the exercise which covers regularization with logistic regression.\n",
    "%\n",
    "%  You will need to complete the following functions in this exericse:\n",
    "%\n",
    "%     sigmoid.m\n",
    "%     costFunction.m\n",
    "%     predict.m\n",
    "%     costFunctionReg.m\n",
    "%\n",
    "%  For this exercise, you will not need to change any code in this file,\n",
    "%  or any other files other than those mentioned above.\n",
    "%"
   ]
  },
  {
   "cell_type": "code",
   "execution_count": 71,
   "metadata": {},
   "outputs": [
    {
     "name": "stdout",
     "output_type": "stream",
     "text": [
      "ans =\n",
      "\n",
      "   0.051267   0.699560   1.000000\n",
      "  -0.092742   0.684940   1.000000\n",
      "  -0.213710   0.692250   1.000000\n",
      "  -0.375000   0.502190   1.000000\n",
      "  -0.513250   0.465640   1.000000\n",
      "  -0.524770   0.209800   1.000000\n",
      "  -0.398040   0.034357   1.000000\n",
      "  -0.305880  -0.192250   1.000000\n",
      "   0.016705  -0.404240   1.000000\n",
      "   0.131910  -0.513890   1.000000\n",
      "\n"
     ]
    }
   ],
   "source": [
    "% Lendo arquivos\n",
    "data = load('ex2data2.txt');\n",
    "data(1:10, :)"
   ]
  },
  {
   "cell_type": "code",
   "execution_count": 86,
   "metadata": {},
   "outputs": [
    {
     "name": "stdout",
     "output_type": "stream",
     "text": [
      "ans =\n",
      "\n",
      "   0.051267   0.699560\n",
      "  -0.092742   0.684940\n",
      "  -0.213710   0.692250\n",
      "  -0.375000   0.502190\n",
      "  -0.513250   0.465640\n",
      "\n",
      "ans =\n",
      "\n",
      "   1\n",
      "   1\n",
      "   1\n",
      "   1\n",
      "   1\n",
      "\n"
     ]
    }
   ],
   "source": [
    "# Separando entre features (colunas 1 e 2) e target (coluna 3)\n",
    "X = data(:, 1:2);\n",
    "y = data(:, 3);\n",
    "\n",
    "# Verificando\n",
    "X(1:5, :)\n",
    "y(1:5)"
   ]
  },
  {
   "cell_type": "markdown",
   "metadata": {},
   "source": [
    "Aparentemente, microchips classificados como ```1``` passaram no teste de qualidade, enquanto as entradas classificadas como ```0``` foram reprovadas."
   ]
  },
  {
   "cell_type": "code",
   "execution_count": 81,
   "metadata": {},
   "outputs": [],
   "source": [
    "% Plotando dados\n",
    "function plotData_2(X, y)\n",
    "    \n",
    "    % Calculando valores a serem plotados (generalizando para todas as futuras plotagens)\n",
    "    X_idx_1 = find(y == 1);\n",
    "    X_idx_0 = find(y == 0);\n",
    "    \n",
    "    % Separa dados entre classe 1 e classe 0\n",
    "    X_class_1_atr_1 = X(X_idx_1, 1);\n",
    "    X_class_1_atr_2 = X(X_idx_1, 2);\n",
    "    X_class_0_atr_1 = X(X_idx_0, 1);\n",
    "    X_class_0_atr_2 = X(X_idx_0, 2);\n",
    "    \n",
    "    % Configurando plotagem\n",
    "    h = figure();\n",
    "    set (h,'papertype', '<custom>');\n",
    "    set (h,'paperunits','inches');\n",
    "    set (h,'papersize',[3 2.5]);\n",
    "    set (h,'paperposition', [0,0,[3 2.5]]);\n",
    "    set (h,'defaultaxesposition', [0.15, 0.15, 0.75, 0.75]);\n",
    "    set (0,'defaultaxesfontsize', 14);\n",
    "    \n",
    "    % PLotando dados\n",
    "    plot(X_class_1_atr_1, X_class_1_atr_2, 'k+', ...\n",
    "        'MarkerSize', 7, 'LineWidth', 8)\n",
    "    hold on;\n",
    "    plot(X_class_0_atr_1, X_class_0_atr_2, 'yo', ...\n",
    "        'MarkerSize', 7, 'LineWidth', 8)\n",
    "    \n",
    "end"
   ]
  },
  {
   "cell_type": "code",
   "execution_count": 82,
   "metadata": {},
   "outputs": [
    {
     "data": {
      "image/png": "[encoded data removed]",
      "text/plain": [
       "<IPython.core.display.Image object>"
      ]
     },
     "metadata": {},
     "output_type": "display_data"
    }
   ],
   "source": [
    "# Chamando função de plotagem\n",
    "plotData_2(X, y);\n",
    "hold on;\n",
    "xlabel('Microchip Test 1');\n",
    "ylabel('Microchip Test 2');\n",
    "title('QA of Microchip Tests');\n",
    "legend('Pass', 'Reproved');\n",
    "hold off;"
   ]
  },
  {
   "cell_type": "markdown",
   "metadata": {},
   "source": [
    "## Feature Mapping"
   ]
  },
  {
   "cell_type": "markdown",
   "metadata": {},
   "source": [
    "One way to fit the data better is to create more features from each data point. In the provided function mapFeature.m, we will map the features into all polynomial terms of x1 and x2 up to the sixth power."
   ]
  },
  {
   "cell_type": "markdown",
   "metadata": {},
   "source": [
    "As a result of this mapping, our vector of two features (the scores on two QA tests) has been transformed into a 28-dimensional vector. A logistic regression classifier trained on this higher-dimension feature vector will have a more complex decision boundary and will appear nonlinear when drawn in our 2-dimensional plot.\n",
    "\n",
    "While the feature mapping allows us to build a more expressive classifier, it also more susceptible to overfitting. In the next parts of the exercise, you will implement regularized logistic regression to fit the data and also see for yourself how regularization can help combat the overfitting problem."
   ]
  },
  {
   "cell_type": "code",
   "execution_count": 83,
   "metadata": {},
   "outputs": [],
   "source": [
    "function out = mapFeature(X1, X2)\n",
    "% MAPFEATURE Feature mapping function to polynomial features\n",
    "%\n",
    "%   MAPFEATURE(X1, X2) maps the two input features\n",
    "%   to quadratic features used in the regularization exercise.\n",
    "%\n",
    "%   Returns a new feature array with more features, comprising of \n",
    "%   X1, X2, X1.^2, X2.^2, X1*X2, X1*X2.^2, etc..\n",
    "%\n",
    "%   Inputs X1, X2 must be the same size\n",
    "%\n",
    "\n",
    "degree = 6;\n",
    "out = ones(size(X1(:,1)));\n",
    "for i = 1:degree\n",
    "    for j = 0:i\n",
    "        out(:, end+1) = (X1.^(i-j)).*(X2.^j);\n",
    "    end\n",
    "end\n",
    "\n",
    "end"
   ]
  },
  {
   "cell_type": "code",
   "execution_count": 89,
   "metadata": {},
   "outputs": [
    {
     "name": "stdout",
     "output_type": "stream",
     "text": [
      "ans =\n",
      "\n",
      " Columns 1 through 4:\n",
      "\n",
      "   1.000000000000000   0.051267000000000   0.699560000000000   0.002628305289000\n",
      "   1.000000000000000  -0.092742000000000   0.684940000000000   0.008601078564000\n",
      "   1.000000000000000  -0.213710000000000   0.692250000000000   0.045671964100000\n",
      "   1.000000000000000  -0.375000000000000   0.502190000000000   0.140625000000000\n",
      "   1.000000000000000  -0.513250000000000   0.465640000000000   0.263425562500000\n",
      "   1.000000000000000  -0.524770000000000   0.209800000000000   0.275383552900000\n",
      "   1.000000000000000  -0.398040000000000   0.034357000000000   0.158435841600000\n",
      "   1.000000000000000  -0.305880000000000  -0.192250000000000   0.093562574400000\n",
      "   1.000000000000000   0.016705000000000  -0.404240000000000   0.000279057025000\n",
      "   1.000000000000000   0.131910000000000  -0.513890000000000   0.017400248100000\n",
      "\n",
      " Columns 5 through 8:\n",
      "\n",
      "   0.035864342520000   0.489384193600000   0.000134745327251   0.001838657247973\n",
      "  -0.063522705480000   0.469142803600000  -0.000797681228182   0.005891222751626\n",
      "  -0.147940747500000   0.479210062500000  -0.009760555447811   0.031616417148225\n",
      "  -0.188321250000000   0.252194796100000  -0.052734375000000   0.070620468750000\n",
      "  -0.238989730000000   0.216820609600000  -0.135203169953125   0.122661478922500\n",
      "  -0.110096746000000   0.044016040000000  -0.144513027055333   0.057775469398420\n",
      "  -0.013675460280000   0.001180403449000  -0.063063802390464   0.005443380209851\n",
      "   0.058805430000000   0.036960062500000  -0.028618920257472  -0.017987404928400\n",
      "  -0.006752829200000   0.163409977600000   0.000004661647603  -0.000112806011786\n",
      "  -0.067787229900000   0.264082932100000   0.002295266726871  -0.008941813496109\n",
      "\n",
      " Columns 9 through 12:\n",
      "\n",
      "   0.025089259453291   0.342353606474816   0.000006907988692   0.000094262441132\n",
      "  -0.043509241891471   0.321334671897784   0.000073978552464  -0.000546363780431\n",
      "  -0.102411982456875   0.331733165765625   0.002085928304752  -0.006756744508747\n",
      "  -0.094573048537500   0.126649704653459   0.019775390625000  -0.026482675781250\n",
      "  -0.111283177877200   0.100960348654144   0.069393026978441  -0.062956004056973\n",
      "  -0.023098297310800   0.009234565192000   0.075836101207827  -0.030318833076209\n",
      "  -0.000469847788840   0.000040555121297   0.025101915903500  -0.002166683058729\n",
      "  -0.011305343917500  -0.007105572015625   0.008753955328356   0.005501987419499\n",
      "   0.002729763675808  -0.066056849345024   0.000000077872823  -0.000001884424427\n",
      "   0.034835179573311  -0.135709577976869   0.000302768633942  -0.001179514618272\n",
      "\n",
      " Columns 13 through 16:\n",
      "\n",
      "   0.001286251064392   0.017551442343144   0.239496888945522   0.000000354151856\n",
      "   0.004035134111499  -0.029801220141144   0.220094970169668  -0.000006860918913\n",
      "   0.021886464770859  -0.070894694855772   0.229642284001254  -0.000445783738008\n",
      "   0.035464893201563  -0.047493639245047   0.063602215179921  -0.007415771484375\n",
      "   0.057116091045473  -0.051817898946739   0.047011176747316  -0.035615971096685\n",
      "   0.012121293479789  -0.004846022775806   0.001937411777282  -0.039796510830831\n",
      "   0.000187018213870  -0.000016142560481   0.000001393352302  -0.009991566606229\n",
      "   0.003458078597485   0.002173452368139   0.001366046220004  -0.002677659855837\n",
      "   0.000045600702204  -0.001103479668309   0.026702820779232   0.000000001300866\n",
      "   0.004595108537515  -0.017901450430929   0.069739795026533   0.000039938210503\n",
      "\n",
      " Columns 17 through 20:\n",
      "\n",
      "   0.000004832552570   0.000065942233318   0.000899809794606   0.012278287005570\n",
      "   0.000050670869725  -0.000374226407769   0.002763824758330  -0.020412047723475\n",
      "   0.001443983868964  -0.004677356386180   0.015150905237627  -0.049076852513908\n",
      "   0.009931003417969  -0.013299334950586   0.017810114716893  -0.023850830692470\n",
      "   0.032312169082241  -0.029314833729089   0.026595536634414  -0.024128486465560\n",
      "   0.015910414033402  -0.006360891179389   0.002543047372060  -0.001016695578364\n",
      "   0.000862426524697  -0.000074440729849   0.000006425384774  -0.000000554609950\n",
      "  -0.001682947911876  -0.001057757081399  -0.000664815610366  -0.000417846217775\n",
      "  -0.000000031479310   0.000000761759730  -0.000018433627859   0.000446070621117\n",
      "  -0.000155589773296   0.000606140767184  -0.002361380326344   0.009199376361950\n",
      "\n",
      " Columns 21 through 24:\n",
      "\n",
      "   0.167542443630730   0.000000018156303   0.000000247750473   0.000003380660476\n",
      "   0.150751848868013   0.000000636295342  -0.000004699317800   0.000034706505509\n",
      "   0.158969871099868   0.000095268442650  -0.000308593792636   0.000999597833291\n",
      "   0.031940396441204   0.002780914306641  -0.003724126281738   0.004987250606470\n",
      "   0.021890284340620   0.018279897165374  -0.016584220781460   0.015045838411455\n",
      "   0.000406468990874   0.020884014988695  -0.008349307972308   0.003338004864208\n",
      "   0.000000047871405   0.003977043171943  -0.000343280253890   0.000029630388109\n",
      "  -0.000262622385796   0.000819042596704   0.000514780107285   0.000323546736058\n",
      "  -0.010794348271797   0.000000000021731  -0.000000000525862   0.000000012725196\n",
      "  -0.035838583266185   0.000005268249347  -0.000020523846996   0.000079956028599\n",
      "\n",
      " Columns 25 through 28:\n",
      "\n",
      "   0.000046130548740   0.000629470939915   0.008589398457617   0.117205991866313\n",
      "  -0.000256322635737   0.001893054129971  -0.013981027967717   0.103255971363656\n",
      "  -0.003237899958333   0.010488214150747  -0.033973451152753   0.110046893268884\n",
      "  -0.006678793018835   0.008944061509676  -0.011977648665452   0.016040147688808\n",
      "  -0.013650159177613   0.012383945678449  -0.011235188437823   0.010192992000366\n",
      "  -0.001334514969436   0.000533531338658  -0.000213302732341   0.000085277194285\n",
      "  -0.000002557560155   0.000000220756945  -0.000000019054734   0.000000001644718\n",
      "   0.000203353798899   0.000127810801093   0.000080330935367   0.000050489153669\n",
      "  -0.000000307933753   0.000007451609726  -0.000180319587880   0.004363507345391\n",
      "  -0.000311489678848   0.001213489735905  -0.004727467518642   0.018417089554660\n",
      "\n"
     ]
    }
   ],
   "source": [
    "# Chamando função MapFeature\n",
    "X_column1 = X(:, 1);\n",
    "X_column2 = X(:, 2);\n",
    "\n",
    "X_map = mapFeature(X_column1, X_column2);\n",
    "X_map(1:10, :)"
   ]
  },
  {
   "cell_type": "markdown",
   "metadata": {},
   "source": [
    "Agora, é necessário realizar um procedimento de ```Regularization``` para diminuir a magnitude dos parâmetros, evitando assim problemas de overfitting e otimizando o modelo."
   ]
  },
  {
   "cell_type": "markdown",
   "metadata": {},
   "source": [
    "## Cost Function e Gradient"
   ]
  },
  {
   "cell_type": "markdown",
   "metadata": {},
   "source": [
    "Tínhamos..."
   ]
  },
  {
   "cell_type": "markdown",
   "metadata": {},
   "source": [
    "Calcula hypothesis\n",
    "\n",
    "    z = X * theta;\n",
    "    h = sigmoid(z);\n",
    "\n",
    "Calcula função de custo J\n",
    "\n",
    "    J = (1 / m) * (-y' * log(h) - (1 - y)' * log(1 - h));\n",
    "\n",
    "Calcula gradiente para cada entrada\n",
    "\n",
    "    grad = [(X' * (h - y)) / m];"
   ]
  },
  {
   "cell_type": "code",
   "execution_count": 93,
   "metadata": {},
   "outputs": [
    {
     "name": "stdout",
     "output_type": "stream",
     "text": [
      "theta =\n",
      "\n",
      "   0\n",
      "   0\n",
      "   0\n",
      "   0\n",
      "   0\n",
      "   0\n",
      "   0\n",
      "   0\n",
      "   0\n",
      "   0\n",
      "   0\n",
      "   0\n",
      "   0\n",
      "   0\n",
      "   0\n",
      "   0\n",
      "   0\n",
      "   0\n",
      "   0\n",
      "   0\n",
      "   0\n",
      "   0\n",
      "   0\n",
      "   0\n",
      "   0\n",
      "   0\n",
      "   0\n",
      "   0\n",
      "\n"
     ]
    }
   ],
   "source": [
    "# Adicionando termo responsável pela regularização\n",
    "theta = zeros(size(X_map, 2), 1) # 28 features\n",
    "lambda = 1;"
   ]
  },
  {
   "cell_type": "code",
   "execution_count": 102,
   "metadata": {},
   "outputs": [
    {
     "name": "stdout",
     "output_type": "stream",
     "text": [
      "J =  0.69315\n"
     ]
    }
   ],
   "source": [
    "# Testando custo com regularização\n",
    "h = sigmoid(X_map * theta);\n",
    "m = size(X_map, 1);\n",
    "J = ((1 / m) * (-y' * log(h) - (1 - y)' * log(1 - h))) + (lambda / 2*m) * sum(theta(2:28) .^ 2)"
   ]
  },
  {
   "cell_type": "code",
   "execution_count": 106,
   "metadata": {},
   "outputs": [
    {
     "name": "stdout",
     "output_type": "stream",
     "text": [
      "grad =\n",
      "\n",
      "   0.008474576\n",
      "   0.018788093\n",
      "   0.000077771\n",
      "   0.050344640\n",
      "   0.011501331\n",
      "   0.037664847\n",
      "   0.018355987\n",
      "   0.007323934\n",
      "   0.008192445\n",
      "   0.023476489\n",
      "   0.039348623\n",
      "   0.002239239\n",
      "   0.012860050\n",
      "   0.003095937\n",
      "   0.039302817\n",
      "   0.019970747\n",
      "   0.004329832\n",
      "   0.003386439\n",
      "   0.005838221\n",
      "   0.004476291\n",
      "   0.031007985\n",
      "   0.031031244\n",
      "   0.001097402\n",
      "   0.006315708\n",
      "   0.000408503\n",
      "   0.007265043\n",
      "   0.001376462\n",
      "   0.038793636\n",
      "\n"
     ]
    }
   ],
   "source": [
    "% Testando gradient\n",
    "grad = [(X_map' * (h - y)) / m]"
   ]
  },
  {
   "cell_type": "code",
   "execution_count": 123,
   "metadata": {},
   "outputs": [
    {
     "name": "stdout",
     "output_type": "stream",
     "text": [
      "ans =  28\n"
     ]
    }
   ],
   "source": [
    "size(gradient, 1)"
   ]
  },
  {
   "cell_type": "code",
   "execution_count": 127,
   "metadata": {},
   "outputs": [
    {
     "name": "stdout",
     "output_type": "stream",
     "text": [
      "ans = 0\n"
     ]
    }
   ],
   "source": [
    "sum(h-y)"
   ]
  },
  {
   "cell_type": "code",
   "execution_count": 153,
   "metadata": {},
   "outputs": [
    {
     "name": "stdout",
     "output_type": "stream",
     "text": [
      "ans = 0\n"
     ]
    }
   ],
   "source": [
    "sum(0 * X_map(:, 1))"
   ]
  },
  {
   "cell_type": "code",
   "execution_count": 156,
   "metadata": {},
   "outputs": [
    {
     "name": "stdout",
     "output_type": "stream",
     "text": [
      "ans = 0\n"
     ]
    }
   ],
   "source": [
    "gradient(1) = (1/m) * sum(sum(h - y) * X_map(:, 1));\n",
    "gradient(1)"
   ]
  },
  {
   "cell_type": "code",
   "execution_count": 158,
   "metadata": {},
   "outputs": [
    {
     "name": "stdout",
     "output_type": "stream",
     "text": [
      "gradient =\n",
      "\n",
      "   0\n",
      "   0\n",
      "   0\n",
      "   0\n",
      "   0\n",
      "   0\n",
      "   0\n",
      "   0\n",
      "   0\n",
      "   0\n",
      "   0\n",
      "   0\n",
      "   0\n",
      "   0\n",
      "   0\n",
      "   0\n",
      "   0\n",
      "   0\n",
      "   0\n",
      "   0\n",
      "   0\n",
      "   0\n",
      "   0\n",
      "   0\n",
      "   0\n",
      "   0\n",
      "   0\n",
      "   0\n",
      "\n"
     ]
    }
   ],
   "source": [
    "gradient = zeros(size(X_map, 2), 1);\n",
    "\n",
    "gradient(1) = (1/m) * sum(sum(h - y) * X_map(:, 1));\n",
    "\n",
    "for i = 2:size(gradient, 1),\n",
    "    gradient(i) = ((1/m) * sum(sum(h - y) * X_map(:, 1))) + (lambda/m) * theta(i);\n",
    "end\n",
    "\n",
    "gradient"
   ]
  },
  {
   "cell_type": "code",
   "execution_count": 235,
   "metadata": {},
   "outputs": [],
   "source": [
    "function [J, grad] = costFunctionReg(theta, X, y, lambda)\n",
    "%COSTFUNCTION Compute cost and gradient for logistic regression\n",
    "%   J = COSTFUNCTION(theta, X, y) computes the cost of using theta as the\n",
    "%   parameter for logistic regression and the gradient of the cost\n",
    "%   w.r.t. to the parameters.\n",
    "\n",
    "% Initialize some useful values\n",
    "m = length(y); % number of training examples\n",
    "\n",
    "% You need to return the following variables correctly \n",
    "J = 0;\n",
    "grad = zeros(size(theta, 1), 1);\n",
    "\n",
    "% ====================== YOUR CODE HERE ======================\n",
    "% Instructions: Compute the cost of a particular choice of theta.\n",
    "%               You should set J to the cost.\n",
    "%               Compute the partial derivatives and set grad to the partial\n",
    "%               derivatives of the cost w.r.t. each parameter in theta\n",
    "%\n",
    "% Note: grad should have the same dimensions as theta\n",
    "%\n",
    "    \n",
    "# Calcula hypothesis\n",
    "z = X * theta;\n",
    "h = sigmoid(z);\n",
    "\n",
    "% We want the regularization to exclude the bias feature, so we can set theta(1) to zero\n",
    "% or change the whole vector theta1 = [0 ; theta(2:size(theta), :)];\n",
    "theta(1) = 0;\n",
    "\n",
    "# Calcula função de custo J\n",
    "unreg_J = (1 / m) * (-y' * log(h) - (1 - y)' * log(1 - h)); % Custo sem regularização\n",
    "reg_J = (lambda / (2 * m)) * (theta' * theta); % Custo da regularização\n",
    "\n",
    "J = unreg_J + reg_J; % Somando os termos\n",
    "\n",
    "# Calcula gradiente para theta_0\n",
    "grad = (X' * (h - y) + lambda * theta) / m; % Termo (lambda*theta/2) aplicado\n",
    "\n",
    "\n",
    "% =============================================================\n",
    "\n",
    "end"
   ]
  },
  {
   "cell_type": "code",
   "execution_count": 236,
   "metadata": {},
   "outputs": [
    {
     "name": "stdout",
     "output_type": "stream",
     "text": [
      "cost =  0.69315\n",
      "gradient =\n",
      "\n",
      "   0.008474576\n",
      "   0.018788093\n",
      "   0.000077771\n",
      "   0.050344640\n",
      "   0.011501331\n",
      "   0.037664847\n",
      "   0.018355987\n",
      "   0.007323934\n",
      "   0.008192445\n",
      "   0.023476489\n",
      "   0.039348623\n",
      "   0.002239239\n",
      "   0.012860050\n",
      "   0.003095937\n",
      "   0.039302817\n",
      "   0.019970747\n",
      "   0.004329832\n",
      "   0.003386439\n",
      "   0.005838221\n",
      "   0.004476291\n",
      "   0.031007985\n",
      "   0.031031244\n",
      "   0.001097402\n",
      "   0.006315708\n",
      "   0.000408503\n",
      "   0.007265043\n",
      "   0.001376462\n",
      "   0.038793636\n",
      "\n"
     ]
    }
   ],
   "source": [
    "# Retornando parâmetros\n",
    "initial_theta = zeros(size(X_map, 2), 1);\n",
    "lambda = 1;\n",
    "\n",
    "[cost, gradient] = costFunctionReg(initial_theta, X_map, y, lambda);\n",
    "\n",
    "cost\n",
    "gradient"
   ]
  },
  {
   "cell_type": "code",
   "execution_count": 240,
   "metadata": {},
   "outputs": [
    {
     "name": "stdout",
     "output_type": "stream",
     "text": [
      "cost =  3.1645\n",
      "grad =\n",
      "\n",
      "   0.346045\n",
      "   0.161352\n",
      "   0.194796\n",
      "   0.226863\n",
      "   0.092186\n",
      "   0.244386\n",
      "   0.143392\n",
      "   0.108442\n",
      "   0.102314\n",
      "   0.183468\n",
      "   0.173530\n",
      "   0.087256\n",
      "   0.118228\n",
      "   0.085843\n",
      "   0.199949\n",
      "   0.135227\n",
      "   0.094975\n",
      "   0.093564\n",
      "   0.099798\n",
      "   0.091402\n",
      "   0.174852\n",
      "   0.149554\n",
      "   0.086786\n",
      "   0.098977\n",
      "   0.085320\n",
      "   0.101907\n",
      "   0.084502\n",
      "   0.182283\n",
      "\n"
     ]
    }
   ],
   "source": [
    "# Testando com outro theta\n",
    "test_theta = ones(size(X_map, 2),1);\n",
    "[cost, grad] = costFunctionReg(test_theta, X_map, y, 10);\n",
    "cost\n",
    "grad"
   ]
  },
  {
   "cell_type": "code",
   "execution_count": 238,
   "metadata": {},
   "outputs": [
    {
     "name": "stdout",
     "output_type": "stream",
     "text": [
      "Expected gradients (approx) - first five values only:\n",
      " 0.3460\n",
      " 0.1614\n",
      " 0.1948\n",
      " 0.2269\n",
      " 0.0922\n"
     ]
    }
   ],
   "source": [
    "fprintf('Expected gradients (approx) - first five values only:\\n');\n",
    "fprintf(' 0.3460\\n 0.1614\\n 0.1948\\n 0.2269\\n 0.0922\\n');"
   ]
  },
  {
   "cell_type": "markdown",
   "metadata": {},
   "source": [
    "## Otimizando via fminunc"
   ]
  },
  {
   "cell_type": "markdown",
   "metadata": {},
   "source": [
    "Após o cálculo da função de custo e do gradiente, é possível otimizar os parâmetros theta através da função ```fminunc``` "
   ]
  },
  {
   "cell_type": "code",
   "execution_count": 243,
   "metadata": {},
   "outputs": [],
   "source": [
    "% Set Options\n",
    "options = optimset('GradObj', 'on', 'MaxIter', 400);\n",
    "\n",
    "% Optimize\n",
    "[theta, J, exit_flag] = ...\n",
    "\tfminunc(@(t)(costFunctionReg(t, X_map, y, lambda)), initial_theta, options);"
   ]
  },
  {
   "cell_type": "code",
   "execution_count": 245,
   "metadata": {},
   "outputs": [
    {
     "name": "stdout",
     "output_type": "stream",
     "text": [
      "theta =\n",
      "\n",
      "   1.273005\n",
      "   0.624876\n",
      "   1.177376\n",
      "  -2.020142\n",
      "  -0.912616\n",
      "  -1.429907\n",
      "   0.125668\n",
      "  -0.368551\n",
      "  -0.360033\n",
      "  -0.171068\n",
      "  -1.460894\n",
      "  -0.052499\n",
      "  -0.618889\n",
      "  -0.273745\n",
      "  -1.192301\n",
      "  -0.240993\n",
      "  -0.207934\n",
      "  -0.047224\n",
      "  -0.278327\n",
      "  -0.296602\n",
      "  -0.453957\n",
      "  -1.045511\n",
      "   0.026463\n",
      "  -0.294330\n",
      "   0.014381\n",
      "  -0.328703\n",
      "  -0.143796\n",
      "  -0.924883\n",
      "\n"
     ]
    }
   ],
   "source": [
    "# Melhores parâmetros\n",
    "theta"
   ]
  },
  {
   "cell_type": "code",
   "execution_count": 247,
   "metadata": {},
   "outputs": [
    {
     "name": "stdout",
     "output_type": "stream",
     "text": [
      "J =  0.52900\n"
     ]
    }
   ],
   "source": [
    "# Menor Custo J\n",
    "J"
   ]
  },
  {
   "cell_type": "markdown",
   "metadata": {},
   "source": [
    "## Decision Boundary"
   ]
  },
  {
   "cell_type": "code",
   "execution_count": 251,
   "metadata": {},
   "outputs": [
    {
     "data": {
      "image/png": "[encoded data removed]",
      "text/plain": [
       "<IPython.core.display.Image object>"
      ]
     },
     "metadata": {},
     "output_type": "display_data"
    }
   ],
   "source": [
    "plotDecisionBoundary(theta, X_map, y)\n",
    "hold on;\n",
    "title(sprintf('QA Classification with lambda = %g', lambda));\n",
    "xlabel('Microchip Test 1');\n",
    "ylabel('Microchip Test 2');\n",
    "legend('Passed', 'Reproved', 'Decision Boundary');\n",
    "hold off;"
   ]
  },
  {
   "cell_type": "markdown",
   "metadata": {},
   "source": [
    "## Prevendo Valores\n"
   ]
  },
  {
   "cell_type": "code",
   "execution_count": 254,
   "metadata": {},
   "outputs": [
    {
     "name": "stdout",
     "output_type": "stream",
     "text": [
      "Train Accuracy: 83.050847\n",
      "Expected Accuracy (with lambda=1): 83.1 (approx)\n"
     ]
    }
   ],
   "source": [
    "p = predictions(theta, X_map);\n",
    "\n",
    "fprintf('Train Accuracy: %f\\n', mean(double(p==y))*100);\n",
    "fprintf('Expected Accuracy (with lambda=1): 83.1 (approx)\\n')"
   ]
  },
  {
   "cell_type": "code",
   "execution_count": null,
   "metadata": {},
   "outputs": [],
   "source": []
  }
 ],
 "metadata": {
  "kernelspec": {
   "display_name": "Octave",
   "language": "octave",
   "name": "octave"
  },
  "language_info": {
   "file_extension": ".m",
   "help_links": [
    {
     "text": "GNU Octave",
     "url": "https://www.gnu.org/software/octave/support.html"
    },
    {
     "text": "Octave Kernel",
     "url": "https://github.com/Calysto/octave_kernel"
    },
    {
     "text": "MetaKernel Magics",
     "url": "https://github.com/calysto/metakernel/blob/master/metakernel/magics/README.md"
    }
   ],
   "mimetype": "text/x-octave",
   "name": "octave",
   "version": "4.4.1"
  },
  "toc": {
   "base_numbering": 1,
   "nav_menu": {},
   "number_sections": true,
   "sideBar": true,
   "skip_h1_title": false,
   "title_cell": "Table of Contents",
   "title_sidebar": "Contents",
   "toc_cell": true,
   "toc_position": {
    "height": "calc(100% - 180px)",
    "left": "10px",
    "top": "150px",
    "width": "341px"
   },
   "toc_section_display": true,
   "toc_window_display": true
  }
 },
 "nbformat": 4,
 "nbformat_minor": 2
}
