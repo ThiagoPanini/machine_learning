{
 "cells": [
  {
   "cell_type": "markdown",
   "metadata": {
    "toc": true
   },
   "source": [
    "<h1>Table of Contents<span class=\"tocSkip\"></span></h1>\n",
    "<div class=\"toc\"><ul class=\"toc-item\"><li><span><a href=\"#Regressão-Logística-com-Regularização\" data-toc-modified-id=\"Regressão-Logística-com-Regularização-1\"><span class=\"toc-item-num\">1&nbsp;&nbsp;</span>Regressão Logística com Regularização</a></span><ul class=\"toc-item\"><li><span><a href=\"#Lendo-e-Explorando-Dados\" data-toc-modified-id=\"Lendo-e-Explorando-Dados-1.1\"><span class=\"toc-item-num\">1.1&nbsp;&nbsp;</span>Lendo e Explorando Dados</a></span></li><li><span><a href=\"#Feature-Mapping\" data-toc-modified-id=\"Feature-Mapping-1.2\"><span class=\"toc-item-num\">1.2&nbsp;&nbsp;</span>Feature Mapping</a></span></li><li><span><a href=\"#Função-Custo-Regularizada\" data-toc-modified-id=\"Função-Custo-Regularizada-1.3\"><span class=\"toc-item-num\">1.3&nbsp;&nbsp;</span>Função Custo Regularizada</a></span></li><li><span><a href=\"#Gradiente-Regularizado\" data-toc-modified-id=\"Gradiente-Regularizado-1.4\"><span class=\"toc-item-num\">1.4&nbsp;&nbsp;</span>Gradiente Regularizado</a></span></li><li><span><a href=\"#Otimização\" data-toc-modified-id=\"Otimização-1.5\"><span class=\"toc-item-num\">1.5&nbsp;&nbsp;</span>Otimização</a></span></li><li><span><a href=\"#Avaliando-Modelo\" data-toc-modified-id=\"Avaliando-Modelo-1.6\"><span class=\"toc-item-num\">1.6&nbsp;&nbsp;</span>Avaliando Modelo</a></span></li><li><span><a href=\"#Plotando-dados\" data-toc-modified-id=\"Plotando-dados-1.7\"><span class=\"toc-item-num\">1.7&nbsp;&nbsp;</span>Plotando dados</a></span></li></ul></li><li><span><a href=\"#Scikit-Learn\" data-toc-modified-id=\"Scikit-Learn-2\"><span class=\"toc-item-num\">2&nbsp;&nbsp;</span>Scikit-Learn</a></span><ul class=\"toc-item\"><li><span><a href=\"#Treinando-um-Modelo\" data-toc-modified-id=\"Treinando-um-Modelo-2.1\"><span class=\"toc-item-num\">2.1&nbsp;&nbsp;</span>Treinando um Modelo</a></span></li><li><span><a href=\"#Investigando-o-Modelo\" data-toc-modified-id=\"Investigando-o-Modelo-2.2\"><span class=\"toc-item-num\">2.2&nbsp;&nbsp;</span>Investigando o Modelo</a></span></li><li><span><a href=\"#Feature-Mapping\" data-toc-modified-id=\"Feature-Mapping-2.3\"><span class=\"toc-item-num\">2.3&nbsp;&nbsp;</span>Feature Mapping</a></span></li><li><span><a href=\"#Retreinando-o-Modelo\" data-toc-modified-id=\"Retreinando-o-Modelo-2.4\"><span class=\"toc-item-num\">2.4&nbsp;&nbsp;</span>Retreinando o Modelo</a></span></li><li><span><a href=\"#Plotando-Dados\" data-toc-modified-id=\"Plotando-Dados-2.5\"><span class=\"toc-item-num\">2.5&nbsp;&nbsp;</span>Plotando Dados</a></span></li></ul></li></ul></div>"
   ]
  },
  {
   "cell_type": "markdown",
   "metadata": {},
   "source": [
    "Este notebook tem por objetivo a implementação, em Python, da segunda parte do exercício 2 do curso de Aprendizagem Automática da Universidade de Stanford. Concluída a primeira parte referente a um problema de Regressão Logística, neste ponto do aprendizado é proposto um problema de Regressão Logística com ```Regularização```.\n",
    "\n",
    "Em outras palavras, é esperado um problema onde seja necessário definir uma função de um grau maior superior e, por consequência, curvilínia. A regularização atua de modo a dosar os pesos dos parâmetros relacionados aos graus elevados de ```x```, garantindo que o modelo não sofra de ```overfitting```. Para isto, novas equações de Custo e Gradiente deverão ser definidas levando em consideração uma penalização para tais termos. Vejamos."
   ]
  },
  {
   "cell_type": "markdown",
   "metadata": {},
   "source": [
    "## Regressão Logística com Regularização"
   ]
  },
  {
   "cell_type": "markdown",
   "metadata": {},
   "source": [
    "No problema proposto, iremos implementar um algoritmo de Regressão Logística para Controle de Qualidade em uma fábrica de microchips com o intuito de verificar se peças são aprovadas ou não.\n",
    "\n",
    "O dataset contém resultados de dois testes de cada um dos 118 microchips da cadeia de produção e, em sua última coluna, o resultado da aprovação ou não no Teste de Qualidade."
   ]
  },
  {
   "cell_type": "markdown",
   "metadata": {},
   "source": [
    "### Lendo e Explorando Dados"
   ]
  },
  {
   "cell_type": "code",
   "execution_count": 1,
   "metadata": {
    "ExecuteTime": {
     "end_time": "2019-04-09T19:19:51.703932Z",
     "start_time": "2019-04-09T19:19:47.623177Z"
    }
   },
   "outputs": [
    {
     "data": {
      "text/plain": [
       "array([[ 0.051267,  0.69956 ,  1.      ],\n",
       "       [-0.092742,  0.68494 ,  1.      ],\n",
       "       [-0.21371 ,  0.69225 ,  1.      ],\n",
       "       [-0.375   ,  0.50219 ,  1.      ],\n",
       "       [-0.51325 ,  0.46564 ,  1.      ]])"
      ]
     },
     "execution_count": 1,
     "metadata": {},
     "output_type": "execute_result"
    }
   ],
   "source": [
    "# Importando biblioteca\n",
    "import numpy as np\n",
    "\n",
    "dataset = np.loadtxt('ex2data2.txt', delimiter=',')\n",
    "dataset[:5]"
   ]
  },
  {
   "cell_type": "code",
   "execution_count": 2,
   "metadata": {
    "ExecuteTime": {
     "end_time": "2019-04-09T19:19:51.712907Z",
     "start_time": "2019-04-09T19:19:51.705925Z"
    }
   },
   "outputs": [
    {
     "data": {
      "text/plain": [
       "(118, 3)"
      ]
     },
     "execution_count": 2,
     "metadata": {},
     "output_type": "execute_result"
    }
   ],
   "source": [
    "# Dimensões do dataset\n",
    "dataset.shape"
   ]
  },
  {
   "cell_type": "markdown",
   "metadata": {},
   "source": [
    "Até o momento, o problema está muito semelhante ao anterior, inclusive na quantidade de dados."
   ]
  },
  {
   "cell_type": "code",
   "execution_count": 3,
   "metadata": {
    "ExecuteTime": {
     "end_time": "2019-04-09T19:20:00.922833Z",
     "start_time": "2019-04-09T19:19:51.715899Z"
    }
   },
   "outputs": [],
   "source": [
    "# Visualizando dados\n",
    "import matplotlib.pyplot as plt\n",
    "%matplotlib inline\n",
    "\n",
    "positive_class = dataset[dataset[:, 2] == 1]\n",
    "negative_class = dataset[dataset[:, 2] == 0]"
   ]
  },
  {
   "cell_type": "code",
   "execution_count": 4,
   "metadata": {
    "ExecuteTime": {
     "end_time": "2019-04-09T19:20:00.931808Z",
     "start_time": "2019-04-09T19:20:00.924826Z"
    }
   },
   "outputs": [
    {
     "data": {
      "text/plain": [
       "array([[ 0.051267,  0.69956 ,  1.      ],\n",
       "       [-0.092742,  0.68494 ,  1.      ],\n",
       "       [-0.21371 ,  0.69225 ,  1.      ],\n",
       "       [-0.375   ,  0.50219 ,  1.      ],\n",
       "       [-0.51325 ,  0.46564 ,  1.      ],\n",
       "       [-0.52477 ,  0.2098  ,  1.      ],\n",
       "       [-0.39804 ,  0.034357,  1.      ],\n",
       "       [-0.30588 , -0.19225 ,  1.      ],\n",
       "       [ 0.016705, -0.40424 ,  1.      ],\n",
       "       [ 0.13191 , -0.51389 ,  1.      ]])"
      ]
     },
     "execution_count": 4,
     "metadata": {},
     "output_type": "execute_result"
    }
   ],
   "source": [
    "# Verificando\n",
    "positive_class[:10]"
   ]
  },
  {
   "cell_type": "code",
   "execution_count": 5,
   "metadata": {
    "ExecuteTime": {
     "end_time": "2019-04-09T19:20:01.066448Z",
     "start_time": "2019-04-09T19:20:00.933803Z"
    }
   },
   "outputs": [
    {
     "data": {
      "text/plain": [
       "array([[0.18376 , 0.93348 , 0.      ],\n",
       "       [0.22408 , 0.77997 , 0.      ],\n",
       "       [0.29896 , 0.61915 , 0.      ],\n",
       "       [0.50634 , 0.75804 , 0.      ],\n",
       "       [0.61578 , 0.7288  , 0.      ],\n",
       "       [0.60426 , 0.59722 , 0.      ],\n",
       "       [0.76555 , 0.50219 , 0.      ],\n",
       "       [0.92684 , 0.3633  , 0.      ],\n",
       "       [0.82316 , 0.27558 , 0.      ],\n",
       "       [0.96141 , 0.085526, 0.      ]])"
      ]
     },
     "execution_count": 5,
     "metadata": {},
     "output_type": "execute_result"
    }
   ],
   "source": [
    "# Verificando\n",
    "negative_class[:10]"
   ]
  },
  {
   "cell_type": "code",
   "execution_count": 6,
   "metadata": {
    "ExecuteTime": {
     "end_time": "2019-04-09T19:20:02.852670Z",
     "start_time": "2019-04-09T19:20:01.068443Z"
    }
   },
   "outputs": [
    {
     "data": {
      "image/png": "[encoded data removed]",
      "text/plain": [
       "<matplotlib.figure.Figure at 0x141fb1ea940>"
      ]
     },
     "metadata": {
      "needs_background": "light"
     },
     "output_type": "display_data"
    }
   ],
   "source": [
    "# Plotando dados\n",
    "fig = plt.figure(figsize=(7, 5))\n",
    "plt.scatter(positive_class[:, 0], positive_class[:, 1], marker='x', c='r')\n",
    "plt.scatter(negative_class[:, 0], negative_class[:, 1], marker='x', c='k')\n",
    "plt.title('QA Microchips - Testes Realizados', size=15)\n",
    "plt.xlabel('Teste 1', size=12, labelpad=10)\n",
    "plt.ylabel('Teste 1', size=12, labelpad=10)\n",
    "plt.legend(['Aprovados', 'Reprovados'])\n",
    "plt.show()"
   ]
  },
  {
   "cell_type": "markdown",
   "metadata": {},
   "source": [
    "Aqui percebemos a diferença: para implementarmos uma regressão logística neste modelo, nossa função não poderá ser simplesmente linear. Os dados não são linearmente separavéis e, por conta disso, nossa função terá de ter um comportamento polinomial para alcançar os resultados pretendidos."
   ]
  },
  {
   "cell_type": "markdown",
   "metadata": {},
   "source": [
    "Para isto, vamos aplicar um procedimento chamado ```Map Feature``` com o objetivo de elevar o grau polinomial das nossas features (até a sexta potência). O cuidado que se tem de ter, como informado no bloco de introdução, é que modelos com alto grau polinomial tendem ao ```overfitting```, fator este combatido pela ```regularização```, a qual será implementada no decorrer deste exercício."
   ]
  },
  {
   "cell_type": "markdown",
   "metadata": {},
   "source": [
    "### Feature Mapping"
   ]
  },
  {
   "cell_type": "markdown",
   "metadata": {},
   "source": [
    "Após algumas pesquisas, será necessário importar um módulo do scikit-learn para realizar este procedimento.\n",
    "\n",
    "Fonte: [sklearn.preprocessing.PolynomialFeatures](https://scikit-learn.org/stable/modules/generated/sklearn.preprocessing.PolynomialFeatures.html)"
   ]
  },
  {
   "cell_type": "code",
   "execution_count": 7,
   "metadata": {
    "ExecuteTime": {
     "end_time": "2019-04-09T19:20:09.462856Z",
     "start_time": "2019-04-09T19:20:02.854665Z"
    }
   },
   "outputs": [
    {
     "data": {
      "text/plain": [
       "array([[ 1.        ,  0.051267  ,  0.69956   ,  0.00262831,  0.03586434,\n",
       "         0.48938419],\n",
       "       [ 1.        , -0.092742  ,  0.68494   ,  0.00860108, -0.06352271,\n",
       "         0.4691428 ],\n",
       "       [ 1.        , -0.21371   ,  0.69225   ,  0.04567196, -0.14794075,\n",
       "         0.47921006],\n",
       "       [ 1.        , -0.375     ,  0.50219   ,  0.140625  , -0.18832125,\n",
       "         0.2521948 ],\n",
       "       [ 1.        , -0.51325   ,  0.46564   ,  0.26342556, -0.23898973,\n",
       "         0.21682061]])"
      ]
     },
     "execution_count": 7,
     "metadata": {},
     "output_type": "execute_result"
    }
   ],
   "source": [
    "# Importando biblioteca e aplicando feature mapping\n",
    "from sklearn.preprocessing import PolynomialFeatures\n",
    "\n",
    "X = dataset[:, :2]\n",
    "y = dataset[:, -1].reshape(X.shape[0], 1)\n",
    "\n",
    "# Testando com um grau=2\n",
    "poly = PolynomialFeatures(2)\n",
    "X2 = poly.fit_transform(X)\n",
    "X2[:5]"
   ]
  },
  {
   "cell_type": "markdown",
   "metadata": {},
   "source": [
    "O que se esperava aconteceu: com o argumento = 2 dentro da inicialização da classe ```PolynomialFeatures()```, os dados foram transformados da seguinte forma:\n",
    "\n",
    "    - coluna 0 = adicionado termo bias automaticamente (=1)\n",
    "    - coluna 1 = antiga coluna 1, sem alterações\n",
    "    - coluna 2 = antiga coluna 2, sem alterações\n",
    "    - coluna 3 = x1^2 (coluna 1 ao quadrado)\n",
    "    - coluna 4 = x1*x2 (coluna 1 * coluna 2)\n",
    "    - coluna 5 = x2^2 (coluna 2 ao quadrado)"
   ]
  },
  {
   "cell_type": "code",
   "execution_count": 8,
   "metadata": {
    "ExecuteTime": {
     "end_time": "2019-04-09T19:20:09.476126Z",
     "start_time": "2019-04-09T19:20:09.465848Z"
    }
   },
   "outputs": [
    {
     "data": {
      "text/plain": [
       "array([0.051267, 0.69956 ])"
      ]
     },
     "execution_count": 8,
     "metadata": {},
     "output_type": "execute_result"
    }
   ],
   "source": [
    "# Testando o exposto acima\n",
    "amostra = X[0, :]\n",
    "amostra"
   ]
  },
  {
   "cell_type": "code",
   "execution_count": 9,
   "metadata": {
    "ExecuteTime": {
     "end_time": "2019-04-09T19:20:10.012993Z",
     "start_time": "2019-04-09T19:20:09.476126Z"
    }
   },
   "outputs": [
    {
     "name": "stdout",
     "output_type": "stream",
     "text": [
      "x1:    0.051267\n",
      "x2:    0.69956\n",
      "x1^2:  0.002628305289\n",
      "x1*x2: 0.035864342519999995\n",
      "x2^2:  0.48938419359999996\n"
     ]
    }
   ],
   "source": [
    "# Verificando\n",
    "print(f'x1: {amostra[0]:>11}')\n",
    "print(f'x2: {amostra[1]:>10}')\n",
    "print(f'x1^2: {(amostra[0] ** 2):>15}')\n",
    "print(f'x1*x2: {amostra[0] * amostra[1]:>11}')\n",
    "print(f'x2^2: {(amostra[1] ** 2):>20}')"
   ]
  },
  {
   "cell_type": "code",
   "execution_count": 10,
   "metadata": {
    "ExecuteTime": {
     "end_time": "2019-04-09T19:20:10.291249Z",
     "start_time": "2019-04-09T19:20:10.014987Z"
    }
   },
   "outputs": [
    {
     "name": "stdout",
     "output_type": "stream",
     "text": [
      "Poly x1:    0.051267\n",
      "Poly x2:    0.69956\n",
      "Poly x1^2:  0.002628305289\n",
      "Poly x1*x2: 0.035864342519999995\n",
      "Poly x2^2:  0.48938419359999996\n"
     ]
    }
   ],
   "source": [
    "# Comparando com os dados obtidos no procedimento\n",
    "print(f'Poly x1: {X2[0][1]:>11}')\n",
    "print(f'Poly x2: {X2[0][2]:>10}')\n",
    "print(f'Poly x1^2: {X2[0][3]:>15}')\n",
    "print(f'Poly x1*x2: {X2[0][4]:>11}')\n",
    "print(f'Poly x2^2: {X2[0][5]:>20}')"
   ]
  },
  {
   "cell_type": "markdown",
   "metadata": {},
   "source": [
    "É exatamente o que queremos, com a diferença no grau expadindo para a sexta potência!"
   ]
  },
  {
   "cell_type": "code",
   "execution_count": 11,
   "metadata": {
    "ExecuteTime": {
     "end_time": "2019-04-09T19:20:10.488143Z",
     "start_time": "2019-04-09T19:20:10.293243Z"
    }
   },
   "outputs": [
    {
     "data": {
      "text/plain": [
       "array([[ 1.00000000e+00,  5.12670000e-02,  6.99560000e-01,\n",
       "         2.62830529e-03,  3.58643425e-02,  4.89384194e-01,\n",
       "         1.34745327e-04,  1.83865725e-03,  2.50892595e-02,\n",
       "         3.42353606e-01,  6.90798869e-06,  9.42624411e-05,\n",
       "         1.28625106e-03,  1.75514423e-02,  2.39496889e-01,\n",
       "         3.54151856e-07,  4.83255257e-06,  6.59422333e-05,\n",
       "         8.99809795e-04,  1.22782870e-02,  1.67542444e-01,\n",
       "         1.81563032e-08,  2.47750473e-07,  3.38066048e-06,\n",
       "         4.61305487e-05,  6.29470940e-04,  8.58939846e-03,\n",
       "         1.17205992e-01],\n",
       "       [ 1.00000000e+00, -9.27420000e-02,  6.84940000e-01,\n",
       "         8.60107856e-03, -6.35227055e-02,  4.69142804e-01,\n",
       "        -7.97681228e-04,  5.89122275e-03, -4.35092419e-02,\n",
       "         3.21334672e-01,  7.39785525e-05, -5.46363780e-04,\n",
       "         4.03513411e-03, -2.98012201e-02,  2.20094970e-01,\n",
       "        -6.86091891e-06,  5.06708697e-05, -3.74226408e-04,\n",
       "         2.76382476e-03, -2.04120477e-02,  1.50751849e-01,\n",
       "         6.36295342e-07, -4.69931780e-06,  3.47065055e-05,\n",
       "        -2.56322636e-04,  1.89305413e-03, -1.39810280e-02,\n",
       "         1.03255971e-01],\n",
       "       [ 1.00000000e+00, -2.13710000e-01,  6.92250000e-01,\n",
       "         4.56719641e-02, -1.47940748e-01,  4.79210063e-01,\n",
       "        -9.76055545e-03,  3.16164171e-02, -1.02411982e-01,\n",
       "         3.31733166e-01,  2.08592830e-03, -6.75674451e-03,\n",
       "         2.18864648e-02, -7.08946949e-02,  2.29642284e-01,\n",
       "        -4.45783738e-04,  1.44398387e-03, -4.67735639e-03,\n",
       "         1.51509052e-02, -4.90768525e-02,  1.58969871e-01,\n",
       "         9.52684426e-05, -3.08593793e-04,  9.99597833e-04,\n",
       "        -3.23789996e-03,  1.04882142e-02, -3.39734512e-02,\n",
       "         1.10046893e-01],\n",
       "       [ 1.00000000e+00, -3.75000000e-01,  5.02190000e-01,\n",
       "         1.40625000e-01, -1.88321250e-01,  2.52194796e-01,\n",
       "        -5.27343750e-02,  7.06204687e-02, -9.45730485e-02,\n",
       "         1.26649705e-01,  1.97753906e-02, -2.64826758e-02,\n",
       "         3.54648932e-02, -4.74936392e-02,  6.36022152e-02,\n",
       "        -7.41577148e-03,  9.93100342e-03, -1.32993350e-02,\n",
       "         1.78101147e-02, -2.38508307e-02,  3.19403964e-02,\n",
       "         2.78091431e-03, -3.72412628e-03,  4.98725061e-03,\n",
       "        -6.67879302e-03,  8.94406151e-03, -1.19776487e-02,\n",
       "         1.60401477e-02],\n",
       "       [ 1.00000000e+00, -5.13250000e-01,  4.65640000e-01,\n",
       "         2.63425562e-01, -2.38989730e-01,  2.16820610e-01,\n",
       "        -1.35203170e-01,  1.22661479e-01, -1.11283178e-01,\n",
       "         1.00960349e-01,  6.93930270e-02, -6.29560041e-02,\n",
       "         5.71160910e-02, -5.18178989e-02,  4.70111767e-02,\n",
       "        -3.56159711e-02,  3.23121691e-02, -2.93148337e-02,\n",
       "         2.65955366e-02, -2.41284865e-02,  2.18902843e-02,\n",
       "         1.82798972e-02, -1.65842208e-02,  1.50458384e-02,\n",
       "        -1.36501592e-02,  1.23839457e-02, -1.12351884e-02,\n",
       "         1.01929920e-02]])"
      ]
     },
     "execution_count": 11,
     "metadata": {},
     "output_type": "execute_result"
    }
   ],
   "source": [
    "# Expandindo para a sexta potência\n",
    "poly = PolynomialFeatures(6)\n",
    "X = poly.fit_transform(X)\n",
    "\n",
    "# Verificando\n",
    "X[:5]"
   ]
  },
  {
   "cell_type": "code",
   "execution_count": 12,
   "metadata": {
    "ExecuteTime": {
     "end_time": "2019-04-09T19:20:11.075071Z",
     "start_time": "2019-04-09T19:20:10.502292Z"
    }
   },
   "outputs": [
    {
     "data": {
      "text/plain": [
       "(118, 28)"
      ]
     },
     "execution_count": 12,
     "metadata": {},
     "output_type": "execute_result"
    }
   ],
   "source": [
    "# Novas dimensões\n",
    "X.shape"
   ]
  },
  {
   "cell_type": "markdown",
   "metadata": {},
   "source": [
    "Sim, agora temos 28 features mapeadas."
   ]
  },
  {
   "cell_type": "markdown",
   "metadata": {},
   "source": [
    "### Função Custo Regularizada"
   ]
  },
  {
   "cell_type": "markdown",
   "metadata": {},
   "source": [
    "\\begin{equation*}\n",
    "             J(\\theta)=\\frac{1}{m}\\sum_{i=1}^{m}[-y^{(i)}\\log(h_\\theta(x^{(i)})-\n",
    "                      (1 - y^{(i)})\\log(1 - h_\\theta(x^{(i)})] + \n",
    "                      \\frac{\\lambda}{2m}\\sum_{j=1}^{n}\\theta_j^2 \n",
    "\\end{equation*}"
   ]
  },
  {
   "cell_type": "markdown",
   "metadata": {},
   "source": [
    "O último termo diminui a magnitude dos parâmetros (repare que o termo bias theta0 não é afetado, visto que o somatório vai de j=1 até n)"
   ]
  },
  {
   "cell_type": "markdown",
   "metadata": {},
   "source": [
    "Já tínhamos a função custo vetorizada implementada no exercício anterior. Antes de resgatá-la, precisamos também da função sigmoidal."
   ]
  },
  {
   "cell_type": "code",
   "execution_count": 13,
   "metadata": {
    "ExecuteTime": {
     "end_time": "2019-04-09T19:20:11.359070Z",
     "start_time": "2019-04-09T19:20:11.075071Z"
    }
   },
   "outputs": [],
   "source": [
    "# Calculando função sigmoidal\n",
    "def sigmoid(z):\n",
    "    \"\"\"Função responsável por calcular o resultado sigmoidal, dado o parâmetro z\n",
    "    Input:\n",
    "        z: parâmetro z definido por theta.T * x\n",
    "    Output:\n",
    "        g(z): função sigmoidal aplicada ao parâmetro z\"\"\"\n",
    "    return 1 / (1 + np.exp(-z))"
   ]
  },
  {
   "cell_type": "code",
   "execution_count": 14,
   "metadata": {
    "ExecuteTime": {
     "end_time": "2019-04-09T19:20:11.832119Z",
     "start_time": "2019-04-09T19:20:11.359070Z"
    }
   },
   "outputs": [
    {
     "data": {
      "text/plain": [
       "array([[2.],\n",
       "       [2.],\n",
       "       [2.],\n",
       "       [2.],\n",
       "       [2.]])"
      ]
     },
     "execution_count": 14,
     "metadata": {},
     "output_type": "execute_result"
    }
   ],
   "source": [
    "# Testando função custo\n",
    "[m, n] = X.shape\n",
    "theta_inicial = np.zeros((n, 1)) + 2\n",
    "theta_inicial[:5]"
   ]
  },
  {
   "cell_type": "code",
   "execution_count": 15,
   "metadata": {
    "ExecuteTime": {
     "end_time": "2019-04-09T19:20:12.203855Z",
     "start_time": "2019-04-09T19:20:11.834080Z"
    }
   },
   "outputs": [
    {
     "data": {
      "text/plain": [
       "array([[4.],\n",
       "       [4.],\n",
       "       [4.],\n",
       "       [4.],\n",
       "       [4.]])"
      ]
     },
     "execution_count": 15,
     "metadata": {},
     "output_type": "execute_result"
    }
   ],
   "source": [
    "# Testando termo de regularização\n",
    "(theta_inicial ** 2)[:5]"
   ]
  },
  {
   "cell_type": "code",
   "execution_count": 16,
   "metadata": {
    "ExecuteTime": {
     "end_time": "2019-04-09T19:20:12.721687Z",
     "start_time": "2019-04-09T19:20:12.203855Z"
    }
   },
   "outputs": [],
   "source": [
    "# Inicializando termos\n",
    "theta_inicial = np.zeros((n, 1))\n",
    "lamb = 1\n",
    "\n",
    "# Calculando função hypothesis\n",
    "z = X.dot(theta_inicial)\n",
    "h = sigmoid(z)\n",
    "\n",
    "# Definindo termos da função custo\n",
    "termo1 = np.log(h).T.dot(-y)\n",
    "termo2 = np.log(1 - h).T.dot(1 - y)\n",
    "termo3 = theta_inicial.T.dot(theta_inicial)\n",
    "\n",
    "# Função custo\n",
    "J = ((termo1 - termo2) / m) + ((lamb/(2*m)) * termo3)"
   ]
  },
  {
   "cell_type": "code",
   "execution_count": 17,
   "metadata": {
    "ExecuteTime": {
     "end_time": "2019-04-09T19:20:12.940382Z",
     "start_time": "2019-04-09T19:20:12.721687Z"
    }
   },
   "outputs": [
    {
     "data": {
      "text/plain": [
       "array([[0.69314718]])"
      ]
     },
     "execution_count": 17,
     "metadata": {},
     "output_type": "execute_result"
    }
   ],
   "source": [
    "# Qual seria o custo para parâmetros zerados?\n",
    "J"
   ]
  },
  {
   "cell_type": "markdown",
   "metadata": {},
   "source": [
    "Conforme o esperado, segundo o pdf do exerício. Vamos encapsular esse cálculo em uma função."
   ]
  },
  {
   "cell_type": "code",
   "execution_count": 18,
   "metadata": {
    "ExecuteTime": {
     "end_time": "2019-04-09T19:20:13.036102Z",
     "start_time": "2019-04-09T19:20:12.940382Z"
    }
   },
   "outputs": [],
   "source": [
    "# Definindo função\n",
    "def costFunction(theta, X, lamb):\n",
    "    \"\"\"\n",
    "        Função responsável por computar o Custo com regularização para um problema\n",
    "    de Regressão Logística.\n",
    "    Input:\n",
    "        - X: features\n",
    "        - theta: parâmetros\n",
    "        - lamb: termo de regularização\n",
    "    Output:\n",
    "        - J: função custo com regularização\n",
    "    \"\"\"\n",
    "    # Inicializando termos\n",
    "    [m, n] = X.shape\n",
    "\n",
    "    # Calculando função hypothesis\n",
    "    z = X.dot(theta_inicial)\n",
    "    h = sigmoid(z)\n",
    "\n",
    "    # Definindo termos da função custo\n",
    "    termo1 = np.log(h).T.dot(-y)\n",
    "    termo2 = np.log(1 - h).T.dot(1 - y)\n",
    "    termo3 = theta_inicial.T.dot(theta_inicial)\n",
    "\n",
    "    # Função custo\n",
    "    J = (((termo1 - termo2) / m) + ((lamb/(2*m)) * termo3)).flatten()\n",
    "    return J"
   ]
  },
  {
   "cell_type": "code",
   "execution_count": 19,
   "metadata": {
    "ExecuteTime": {
     "end_time": "2019-04-09T19:20:13.536036Z",
     "start_time": "2019-04-09T19:20:13.038088Z"
    }
   },
   "outputs": [
    {
     "data": {
      "text/plain": [
       "array([0.69314718])"
      ]
     },
     "execution_count": 19,
     "metadata": {},
     "output_type": "execute_result"
    }
   ],
   "source": [
    "# Testando\n",
    "costFunction(theta_inicial, X, 1)"
   ]
  },
  {
   "cell_type": "markdown",
   "metadata": {},
   "source": [
    "### Gradiente Regularizado"
   ]
  },
  {
   "cell_type": "markdown",
   "metadata": {},
   "source": [
    "O gradiente também muda:\n",
    "\n",
    "A derivada parcial da função custo em relação a theta faz com que o termo elevado ao quadrado caia sobre a fração de lambda e elimine o multiplicador de m, restando apenas (lambda/m)*theta.\n",
    "\n",
    "__Ponto Importante:__ a regularização ```não``` é aplicada ao termo bias (```theta0```)!"
   ]
  },
  {
   "cell_type": "markdown",
   "metadata": {},
   "source": [
    "\\begin{equation*}\n",
    "    \\frac{\\partial J(\\theta)}{\\partial\\theta_j} = \n",
    "        \\begin{cases} \n",
    "            \\left(\\frac{1}{m}\\sum_{i=1}^m(h_\\theta(x^{(i)})-y^{(i)})x_j^{(i)}\\right)\n",
    "                & \\mbox{para } j\\mbox{ = 0} \\\\\n",
    "            \\left(\\frac{1}{m}\\sum_{i=1}^m(h_\\theta(x^{(i)})-y^{(i)})x_j^{(i)}\\right) +\n",
    "            \\frac{\\lambda}{m}\\theta_j &\\mbox{para } j\\mbox{ >= 1}\n",
    "        \\end{cases}\n",
    "\\end{equation*}                                       "
   ]
  },
  {
   "cell_type": "markdown",
   "metadata": {},
   "source": [
    "Equações:\n",
    "\n",
    "https://tex.stackexchange.com/questions/38868/big-parenthesis-in-an-equation\n",
    "https://tex.stackexchange.com/questions/225523/how-to-write-partial-differential-equation-ex-dq-dt-ds-dt-with-real-partial-d"
   ]
  },
  {
   "cell_type": "code",
   "execution_count": 20,
   "metadata": {
    "ExecuteTime": {
     "end_time": "2019-04-09T19:20:14.086532Z",
     "start_time": "2019-04-09T19:20:13.538000Z"
    }
   },
   "outputs": [],
   "source": [
    "# Implementando gradiente sem regularização\n",
    "grad0 = X.T.dot(h - y) / m"
   ]
  },
  {
   "cell_type": "code",
   "execution_count": 21,
   "metadata": {
    "ExecuteTime": {
     "end_time": "2019-04-09T19:20:14.757738Z",
     "start_time": "2019-04-09T19:20:14.087530Z"
    }
   },
   "outputs": [
    {
     "data": {
      "text/plain": [
       "array([[8.47457627e-03],\n",
       "       [1.87880932e-02],\n",
       "       [7.77711864e-05],\n",
       "       [5.03446395e-02],\n",
       "       [1.15013308e-02],\n",
       "       [3.76648474e-02],\n",
       "       [1.83559872e-02],\n",
       "       [7.32393391e-03],\n",
       "       [8.19244468e-03],\n",
       "       [2.34764889e-02],\n",
       "       [3.93486234e-02],\n",
       "       [2.23923907e-03],\n",
       "       [1.28600503e-02],\n",
       "       [3.09593720e-03],\n",
       "       [3.93028171e-02],\n",
       "       [1.99707467e-02],\n",
       "       [4.32983232e-03],\n",
       "       [3.38643902e-03],\n",
       "       [5.83822078e-03],\n",
       "       [4.47629067e-03],\n",
       "       [3.10079849e-02],\n",
       "       [3.10312442e-02],\n",
       "       [1.09740238e-03],\n",
       "       [6.31570797e-03],\n",
       "       [4.08503006e-04],\n",
       "       [7.26504316e-03],\n",
       "       [1.37646175e-03],\n",
       "       [3.87936363e-02]])"
      ]
     },
     "execution_count": 21,
     "metadata": {},
     "output_type": "execute_result"
    }
   ],
   "source": [
    "# Verificando\n",
    "grad0"
   ]
  },
  {
   "cell_type": "code",
   "execution_count": 22,
   "metadata": {
    "ExecuteTime": {
     "end_time": "2019-04-09T19:20:15.101417Z",
     "start_time": "2019-04-09T19:20:14.757738Z"
    }
   },
   "outputs": [
    {
     "data": {
      "text/plain": [
       "array([[8.47457627e-03],\n",
       "       [1.87880932e-02],\n",
       "       [7.77711864e-05],\n",
       "       [5.03446395e-02],\n",
       "       [1.15013308e-02],\n",
       "       [3.76648474e-02],\n",
       "       [1.83559872e-02],\n",
       "       [7.32393391e-03],\n",
       "       [8.19244468e-03],\n",
       "       [2.34764889e-02],\n",
       "       [3.93486234e-02],\n",
       "       [2.23923907e-03],\n",
       "       [1.28600503e-02],\n",
       "       [3.09593720e-03],\n",
       "       [3.93028171e-02],\n",
       "       [1.99707467e-02],\n",
       "       [4.32983232e-03],\n",
       "       [3.38643902e-03],\n",
       "       [5.83822078e-03],\n",
       "       [4.47629067e-03],\n",
       "       [3.10079849e-02],\n",
       "       [3.10312442e-02],\n",
       "       [1.09740238e-03],\n",
       "       [6.31570797e-03],\n",
       "       [4.08503006e-04],\n",
       "       [7.26504316e-03],\n",
       "       [1.37646175e-03],\n",
       "       [3.87936363e-02]])"
      ]
     },
     "execution_count": 22,
     "metadata": {},
     "output_type": "execute_result"
    }
   ],
   "source": [
    "# Adicionando regularização aos termos de 1 a n\n",
    "grad0[1:] = grad0[1:] + theta_inicial[1:] * (lamb / m)\n",
    "\n",
    "# Verificando\n",
    "grad0"
   ]
  },
  {
   "cell_type": "markdown",
   "metadata": {
    "ExecuteTime": {
     "end_time": "2019-04-08T23:26:15.405178Z",
     "start_time": "2019-04-08T23:26:12.166229Z"
    }
   },
   "source": [
    "Aparentemente, surtiu como o esperado. Entretando, não houve alterações nos valores devido a multiplicação por 0 em ```theta_inicial```."
   ]
  },
  {
   "cell_type": "code",
   "execution_count": 23,
   "metadata": {
    "ExecuteTime": {
     "end_time": "2019-04-09T19:20:15.445553Z",
     "start_time": "2019-04-09T19:20:15.101417Z"
    }
   },
   "outputs": [
    {
     "data": {
      "text/plain": [
       "array([[8.47457627e-03],\n",
       "       [1.87880932e-02],\n",
       "       [7.77711864e-05],\n",
       "       [5.03446395e-02],\n",
       "       [1.15013308e-02]])"
      ]
     },
     "execution_count": 23,
     "metadata": {},
     "output_type": "execute_result"
    }
   ],
   "source": [
    "# Verificando os 5 primeiros valores\n",
    "grad0[:5]"
   ]
  },
  {
   "cell_type": "markdown",
   "metadata": {},
   "source": [
    "Os resultados bateram com o códito em Octave. Vamos encapsular a função gradiente."
   ]
  },
  {
   "cell_type": "code",
   "execution_count": 24,
   "metadata": {
    "ExecuteTime": {
     "end_time": "2019-04-09T19:20:15.601686Z",
     "start_time": "2019-04-09T19:20:15.445553Z"
    }
   },
   "outputs": [],
   "source": [
    "# Implementando função\n",
    "def gradientRegularized(X, y, theta, l):\n",
    "    \"\"\" Função responsável pela implementação do Gradiente Descendente\n",
    "    com Regularização\n",
    "    Input:\n",
    "        - X: features;\n",
    "        - y: labels;\n",
    "        - theta: parâmetros;\n",
    "        - l: termo de regularização lambda\n",
    "    Output:\n",
    "        - best_theta: parâmetros que melhor se enquadram ao modelo\"\"\"\n",
    "    \n",
    "    [m, n] = X.shape\n",
    "\n",
    "    # Calculando hypothesis\n",
    "    z = X.dot(theta)\n",
    "    h = sigmoid(z)\n",
    "\n",
    "    # Aplicando termo sem regularização (bias)\n",
    "    grad = X.T.dot(h - y) / m\n",
    "\n",
    "    # Aplicando regularização\n",
    "    grad[1:] = grad[1:] + ((theta[1:] * l) / m)\n",
    "\n",
    "    # Atualizando parâmetros\n",
    "    return grad"
   ]
  },
  {
   "cell_type": "code",
   "execution_count": 25,
   "metadata": {
    "ExecuteTime": {
     "end_time": "2019-04-09T19:20:16.179755Z",
     "start_time": "2019-04-09T19:20:15.601686Z"
    }
   },
   "outputs": [
    {
     "data": {
      "text/plain": [
       "array([[8.47457627e-03],\n",
       "       [1.87880932e-02],\n",
       "       [7.77711864e-05],\n",
       "       [5.03446395e-02],\n",
       "       [1.15013308e-02]])"
      ]
     },
     "execution_count": 25,
     "metadata": {},
     "output_type": "execute_result"
    }
   ],
   "source": [
    "# Chamando função\n",
    "l = 1\n",
    "grad = gradientRegularized(X, y, theta_inicial, l)\n",
    "grad[:5]"
   ]
  },
  {
   "cell_type": "code",
   "execution_count": 26,
   "metadata": {
    "ExecuteTime": {
     "end_time": "2019-04-09T19:20:16.820230Z",
     "start_time": "2019-04-09T19:20:16.179755Z"
    }
   },
   "outputs": [],
   "source": [
    "# Modificando função custo para contemplar o gradiente\n",
    "def newCostFunction(theta, X, y, lamb):\n",
    "    \"\"\"\n",
    "        Função responsável por computar o Custo com regularização para um problema\n",
    "    de Regressão Logística.\n",
    "    Input:\n",
    "        - theta: parâmetros\n",
    "        - X: features\n",
    "        - y: labels\n",
    "        - lamb: termo de regularização\n",
    "    Output:\n",
    "        - J: função custo com regularização\n",
    "        - grad: gradiente para esta iteração\n",
    "    \"\"\"\n",
    "    # Inicializando termos\n",
    "    [m, n] = X.shape\n",
    "\n",
    "    # Calculando função hypothesis\n",
    "    z = X.dot(theta)\n",
    "    h = sigmoid(z)\n",
    "\n",
    "    # Definindo termos da função custo\n",
    "    termo1 = np.log(h).T.dot(-y)\n",
    "    termo2 = np.log(1 - h).T.dot(1 - y)\n",
    "    termo3 = theta.T.dot(theta)\n",
    "\n",
    "    # Função custo\n",
    "    J = (((termo1 - termo2) / m) + ((lamb/(2*m)) * termo3)).flatten()\n",
    "    \n",
    "    # Gradiente\n",
    "    grad = gradientRegularized(X, y, theta, lamb)\n",
    "    \n",
    "    return J, grad"
   ]
  },
  {
   "cell_type": "code",
   "execution_count": 27,
   "metadata": {
    "ExecuteTime": {
     "end_time": "2019-04-09T19:20:17.461169Z",
     "start_time": "2019-04-09T19:20:16.820230Z"
    }
   },
   "outputs": [
    {
     "name": "stdout",
     "output_type": "stream",
     "text": [
      "Custo: [0.69314718]\n",
      "\n",
      "Gradiente (5 primeiros):\n",
      "[[8.47457627e-03]\n",
      " [1.87880932e-02]\n",
      " [7.77711864e-05]\n",
      " [5.03446395e-02]\n",
      " [1.15013308e-02]]\n"
     ]
    }
   ],
   "source": [
    "# Testando\n",
    "J, grad = newCostFunction(theta_inicial, X, y, lamb=1)\n",
    "print(f'Custo: {J}\\n\\nGradiente (5 primeiros):\\n{grad[:5]}')"
   ]
  },
  {
   "cell_type": "markdown",
   "metadata": {},
   "source": [
    "Testando com outros parâmetros..."
   ]
  },
  {
   "cell_type": "code",
   "execution_count": 28,
   "metadata": {
    "ExecuteTime": {
     "end_time": "2019-04-09T19:20:18.048782Z",
     "start_time": "2019-04-09T19:20:17.461169Z"
    }
   },
   "outputs": [
    {
     "data": {
      "text/plain": [
       "array([[1.],\n",
       "       [1.],\n",
       "       [1.],\n",
       "       [1.],\n",
       "       [1.]])"
      ]
     },
     "execution_count": 28,
     "metadata": {},
     "output_type": "execute_result"
    }
   ],
   "source": [
    "# Modificando theta\n",
    "theta_teste = np.ones((n, 1))\n",
    "theta_teste[:5]"
   ]
  },
  {
   "cell_type": "code",
   "execution_count": 29,
   "metadata": {
    "ExecuteTime": {
     "end_time": "2019-04-09T19:20:18.573587Z",
     "start_time": "2019-04-09T19:20:18.048782Z"
    }
   },
   "outputs": [
    {
     "name": "stdout",
     "output_type": "stream",
     "text": [
      "Custo: [3.20688221]\n",
      "\n",
      "Gradiente (5 primeiros):\n",
      "[[0.34604507]\n",
      " [0.16135192]\n",
      " [0.19479576]\n",
      " [0.22686278]\n",
      " [0.09218568]]\n"
     ]
    }
   ],
   "source": [
    "# Testando\n",
    "J, grad = newCostFunction(theta_teste, X, y, lamb=10)\n",
    "print(f'Custo: {J}\\n\\nGradiente (5 primeiros):\\n{grad[:5]}')"
   ]
  },
  {
   "cell_type": "markdown",
   "metadata": {},
   "source": [
    "O custo não mudou!? Algo está errado! O erro foi descoberto (só serviu para a ocasião, pois como foi corrigida a função, o valor acima provavelmente estará correto). Os parâmetros dentro da função ```costFunction``` e ```newCostFunction``` estavam apontando para a variável ```theta_inicial``` dentro do escopo da função, e não para a variável ```theta```, definida nos argumentos. "
   ]
  },
  {
   "cell_type": "code",
   "execution_count": 30,
   "metadata": {
    "ExecuteTime": {
     "end_time": "2019-04-09T19:20:19.377061Z",
     "start_time": "2019-04-09T19:20:18.573587Z"
    }
   },
   "outputs": [
    {
     "name": "stdout",
     "output_type": "stream",
     "text": [
      "Custo: [3.20688221]\n",
      "\n",
      "Gradiente (5 primeiros):\n",
      "[[0.34604507]\n",
      " [0.16135192]\n",
      " [0.19479576]\n",
      " [0.22686278]\n",
      " [0.09218568]]\n"
     ]
    }
   ],
   "source": [
    "# Verificando novamente\n",
    "J, grad = newCostFunction(theta_teste, X, y, lamb=10)\n",
    "print(f'Custo: {J}\\n\\nGradiente (5 primeiros):\\n{grad[:5]}')"
   ]
  },
  {
   "cell_type": "markdown",
   "metadata": {},
   "source": [
    "Esperava-se um valor de 3.16 e, com 3.20 como resultado, acredito que estamos caminhando bem. Os gradientes retornaram de acordo com o esperado."
   ]
  },
  {
   "cell_type": "markdown",
   "metadata": {},
   "source": [
    "### Otimização"
   ]
  },
  {
   "cell_type": "markdown",
   "metadata": {},
   "source": [
    "Agora que conseguimos definir corretamente as funções de custo e gradiente, vamos aplicar métodos automáticos para minimização da função e retorno dos melhores parâmetros. Já fizemos isso anteriormente através dos métodos da biblioteca ```scipy.optimize```."
   ]
  },
  {
   "cell_type": "code",
   "execution_count": 31,
   "metadata": {
    "ExecuteTime": {
     "end_time": "2019-04-09T19:20:20.439643Z",
     "start_time": "2019-04-09T19:20:19.377061Z"
    }
   },
   "outputs": [],
   "source": [
    "# Importando bibliotecas\n",
    "import scipy.optimize, scipy.special"
   ]
  },
  {
   "cell_type": "code",
   "execution_count": 32,
   "metadata": {
    "ExecuteTime": {
     "end_time": "2019-04-09T19:20:21.695694Z",
     "start_time": "2019-04-09T19:20:20.439643Z"
    }
   },
   "outputs": [
    {
     "ename": "ValueError",
     "evalue": "operands could not be broadcast together with shapes (27,118) (27,) ",
     "output_type": "error",
     "traceback": [
      "\u001b[1;31m---------------------------------------------------------------------------\u001b[0m",
      "\u001b[1;31mValueError\u001b[0m                                Traceback (most recent call last)",
      "\u001b[1;32m<ipython-input-32-9161ab2a4279>\u001b[0m in \u001b[0;36m<module>\u001b[1;34m()\u001b[0m\n\u001b[0;32m      3\u001b[0m \u001b[0ml\u001b[0m \u001b[1;33m=\u001b[0m \u001b[1;36m1\u001b[0m\u001b[1;33m\u001b[0m\u001b[0m\n\u001b[0;32m      4\u001b[0m result = scipy.optimize.fmin(newCostFunction, x0=theta, args=(X, y, l),\n\u001b[1;32m----> 5\u001b[1;33m                              maxiter=500, full_output=True)\n\u001b[0m",
      "\u001b[1;32m~\\Anaconda3\\lib\\site-packages\\scipy\\optimize\\optimize.py\u001b[0m in \u001b[0;36mfmin\u001b[1;34m(func, x0, args, xtol, ftol, maxiter, maxfun, full_output, disp, retall, callback, initial_simplex)\u001b[0m\n\u001b[0;32m    406\u001b[0m             'initial_simplex': initial_simplex}\n\u001b[0;32m    407\u001b[0m \u001b[1;33m\u001b[0m\u001b[0m\n\u001b[1;32m--> 408\u001b[1;33m     \u001b[0mres\u001b[0m \u001b[1;33m=\u001b[0m \u001b[0m_minimize_neldermead\u001b[0m\u001b[1;33m(\u001b[0m\u001b[0mfunc\u001b[0m\u001b[1;33m,\u001b[0m \u001b[0mx0\u001b[0m\u001b[1;33m,\u001b[0m \u001b[0margs\u001b[0m\u001b[1;33m,\u001b[0m \u001b[0mcallback\u001b[0m\u001b[1;33m=\u001b[0m\u001b[0mcallback\u001b[0m\u001b[1;33m,\u001b[0m \u001b[1;33m**\u001b[0m\u001b[0mopts\u001b[0m\u001b[1;33m)\u001b[0m\u001b[1;33m\u001b[0m\u001b[0m\n\u001b[0m\u001b[0;32m    409\u001b[0m     \u001b[1;32mif\u001b[0m \u001b[0mfull_output\u001b[0m\u001b[1;33m:\u001b[0m\u001b[1;33m\u001b[0m\u001b[0m\n\u001b[0;32m    410\u001b[0m         \u001b[0mretlist\u001b[0m \u001b[1;33m=\u001b[0m \u001b[0mres\u001b[0m\u001b[1;33m[\u001b[0m\u001b[1;34m'x'\u001b[0m\u001b[1;33m]\u001b[0m\u001b[1;33m,\u001b[0m \u001b[0mres\u001b[0m\u001b[1;33m[\u001b[0m\u001b[1;34m'fun'\u001b[0m\u001b[1;33m]\u001b[0m\u001b[1;33m,\u001b[0m \u001b[0mres\u001b[0m\u001b[1;33m[\u001b[0m\u001b[1;34m'nit'\u001b[0m\u001b[1;33m]\u001b[0m\u001b[1;33m,\u001b[0m \u001b[0mres\u001b[0m\u001b[1;33m[\u001b[0m\u001b[1;34m'nfev'\u001b[0m\u001b[1;33m]\u001b[0m\u001b[1;33m,\u001b[0m \u001b[0mres\u001b[0m\u001b[1;33m[\u001b[0m\u001b[1;34m'status'\u001b[0m\u001b[1;33m]\u001b[0m\u001b[1;33m\u001b[0m\u001b[0m\n",
      "\u001b[1;32m~\\Anaconda3\\lib\\site-packages\\scipy\\optimize\\optimize.py\u001b[0m in \u001b[0;36m_minimize_neldermead\u001b[1;34m(func, x0, args, callback, maxiter, maxfev, disp, return_all, initial_simplex, xatol, fatol, **unknown_options)\u001b[0m\n\u001b[0;32m    530\u001b[0m \u001b[1;33m\u001b[0m\u001b[0m\n\u001b[0;32m    531\u001b[0m     \u001b[1;32mfor\u001b[0m \u001b[0mk\u001b[0m \u001b[1;32min\u001b[0m \u001b[0mrange\u001b[0m\u001b[1;33m(\u001b[0m\u001b[0mN\u001b[0m \u001b[1;33m+\u001b[0m \u001b[1;36m1\u001b[0m\u001b[1;33m)\u001b[0m\u001b[1;33m:\u001b[0m\u001b[1;33m\u001b[0m\u001b[0m\n\u001b[1;32m--> 532\u001b[1;33m         \u001b[0mfsim\u001b[0m\u001b[1;33m[\u001b[0m\u001b[0mk\u001b[0m\u001b[1;33m]\u001b[0m \u001b[1;33m=\u001b[0m \u001b[0mfunc\u001b[0m\u001b[1;33m(\u001b[0m\u001b[0msim\u001b[0m\u001b[1;33m[\u001b[0m\u001b[0mk\u001b[0m\u001b[1;33m]\u001b[0m\u001b[1;33m)\u001b[0m\u001b[1;33m\u001b[0m\u001b[0m\n\u001b[0m\u001b[0;32m    533\u001b[0m \u001b[1;33m\u001b[0m\u001b[0m\n\u001b[0;32m    534\u001b[0m     \u001b[0mind\u001b[0m \u001b[1;33m=\u001b[0m \u001b[0mnumpy\u001b[0m\u001b[1;33m.\u001b[0m\u001b[0margsort\u001b[0m\u001b[1;33m(\u001b[0m\u001b[0mfsim\u001b[0m\u001b[1;33m)\u001b[0m\u001b[1;33m\u001b[0m\u001b[0m\n",
      "\u001b[1;32m~\\Anaconda3\\lib\\site-packages\\scipy\\optimize\\optimize.py\u001b[0m in \u001b[0;36mfunction_wrapper\u001b[1;34m(*wrapper_args)\u001b[0m\n\u001b[0;32m    290\u001b[0m     \u001b[1;32mdef\u001b[0m \u001b[0mfunction_wrapper\u001b[0m\u001b[1;33m(\u001b[0m\u001b[1;33m*\u001b[0m\u001b[0mwrapper_args\u001b[0m\u001b[1;33m)\u001b[0m\u001b[1;33m:\u001b[0m\u001b[1;33m\u001b[0m\u001b[0m\n\u001b[0;32m    291\u001b[0m         \u001b[0mncalls\u001b[0m\u001b[1;33m[\u001b[0m\u001b[1;36m0\u001b[0m\u001b[1;33m]\u001b[0m \u001b[1;33m+=\u001b[0m \u001b[1;36m1\u001b[0m\u001b[1;33m\u001b[0m\u001b[0m\n\u001b[1;32m--> 292\u001b[1;33m         \u001b[1;32mreturn\u001b[0m \u001b[0mfunction\u001b[0m\u001b[1;33m(\u001b[0m\u001b[1;33m*\u001b[0m\u001b[1;33m(\u001b[0m\u001b[0mwrapper_args\u001b[0m \u001b[1;33m+\u001b[0m \u001b[0margs\u001b[0m\u001b[1;33m)\u001b[0m\u001b[1;33m)\u001b[0m\u001b[1;33m\u001b[0m\u001b[0m\n\u001b[0m\u001b[0;32m    293\u001b[0m \u001b[1;33m\u001b[0m\u001b[0m\n\u001b[0;32m    294\u001b[0m     \u001b[1;32mreturn\u001b[0m \u001b[0mncalls\u001b[0m\u001b[1;33m,\u001b[0m \u001b[0mfunction_wrapper\u001b[0m\u001b[1;33m\u001b[0m\u001b[0m\n",
      "\u001b[1;32m<ipython-input-26-c1d84834ad80>\u001b[0m in \u001b[0;36mnewCostFunction\u001b[1;34m(theta, X, y, lamb)\u001b[0m\n\u001b[0;32m     29\u001b[0m \u001b[1;33m\u001b[0m\u001b[0m\n\u001b[0;32m     30\u001b[0m     \u001b[1;31m# Gradiente\u001b[0m\u001b[1;33m\u001b[0m\u001b[1;33m\u001b[0m\u001b[0m\n\u001b[1;32m---> 31\u001b[1;33m     \u001b[0mgrad\u001b[0m \u001b[1;33m=\u001b[0m \u001b[0mgradientRegularized\u001b[0m\u001b[1;33m(\u001b[0m\u001b[0mX\u001b[0m\u001b[1;33m,\u001b[0m \u001b[0my\u001b[0m\u001b[1;33m,\u001b[0m \u001b[0mtheta\u001b[0m\u001b[1;33m,\u001b[0m \u001b[0mlamb\u001b[0m\u001b[1;33m)\u001b[0m\u001b[1;33m\u001b[0m\u001b[0m\n\u001b[0m\u001b[0;32m     32\u001b[0m \u001b[1;33m\u001b[0m\u001b[0m\n\u001b[0;32m     33\u001b[0m     \u001b[1;32mreturn\u001b[0m \u001b[0mJ\u001b[0m\u001b[1;33m,\u001b[0m \u001b[0mgrad\u001b[0m\u001b[1;33m\u001b[0m\u001b[0m\n",
      "\u001b[1;32m<ipython-input-24-bff8da6b86a0>\u001b[0m in \u001b[0;36mgradientRegularized\u001b[1;34m(X, y, theta, l)\u001b[0m\n\u001b[0;32m     21\u001b[0m \u001b[1;33m\u001b[0m\u001b[0m\n\u001b[0;32m     22\u001b[0m     \u001b[1;31m# Aplicando regularização\u001b[0m\u001b[1;33m\u001b[0m\u001b[1;33m\u001b[0m\u001b[0m\n\u001b[1;32m---> 23\u001b[1;33m     \u001b[0mgrad\u001b[0m\u001b[1;33m[\u001b[0m\u001b[1;36m1\u001b[0m\u001b[1;33m:\u001b[0m\u001b[1;33m]\u001b[0m \u001b[1;33m=\u001b[0m \u001b[0mgrad\u001b[0m\u001b[1;33m[\u001b[0m\u001b[1;36m1\u001b[0m\u001b[1;33m:\u001b[0m\u001b[1;33m]\u001b[0m \u001b[1;33m+\u001b[0m \u001b[1;33m(\u001b[0m\u001b[1;33m(\u001b[0m\u001b[0mtheta\u001b[0m\u001b[1;33m[\u001b[0m\u001b[1;36m1\u001b[0m\u001b[1;33m:\u001b[0m\u001b[1;33m]\u001b[0m \u001b[1;33m*\u001b[0m \u001b[0ml\u001b[0m\u001b[1;33m)\u001b[0m \u001b[1;33m/\u001b[0m \u001b[0mm\u001b[0m\u001b[1;33m)\u001b[0m\u001b[1;33m\u001b[0m\u001b[0m\n\u001b[0m\u001b[0;32m     24\u001b[0m \u001b[1;33m\u001b[0m\u001b[0m\n\u001b[0;32m     25\u001b[0m     \u001b[1;31m# Atualizando parâmetros\u001b[0m\u001b[1;33m\u001b[0m\u001b[1;33m\u001b[0m\u001b[0m\n",
      "\u001b[1;31mValueError\u001b[0m: operands could not be broadcast together with shapes (27,118) (27,) "
     ]
    }
   ],
   "source": [
    "# Realizando alguns testes\n",
    "theta = np.zeros((n, 1))\n",
    "l = 1\n",
    "result = scipy.optimize.fmin(newCostFunction, x0=theta, args=(X, y, l),\n",
    "                             maxiter=500, full_output=True)"
   ]
  },
  {
   "cell_type": "code",
   "execution_count": 33,
   "metadata": {
    "ExecuteTime": {
     "end_time": "2019-04-09T19:25:41.442072Z",
     "start_time": "2019-04-09T19:25:41.439077Z"
    }
   },
   "outputs": [],
   "source": [
    "# Verificando resultadog\n",
    "grad[1:] = grad[1:] + theta[1:] * (l / m)"
   ]
  },
  {
   "cell_type": "code",
   "execution_count": 34,
   "metadata": {
    "ExecuteTime": {
     "end_time": "2019-04-09T19:26:02.316134Z",
     "start_time": "2019-04-09T19:26:02.311147Z"
    }
   },
   "outputs": [
    {
     "data": {
      "text/plain": [
       "(28, 1)"
      ]
     },
     "execution_count": 34,
     "metadata": {},
     "output_type": "execute_result"
    }
   ],
   "source": [
    "grad.shape"
   ]
  },
  {
   "cell_type": "code",
   "execution_count": 35,
   "metadata": {
    "ExecuteTime": {
     "end_time": "2019-04-09T19:26:02.823776Z",
     "start_time": "2019-04-09T19:26:02.816795Z"
    }
   },
   "outputs": [
    {
     "data": {
      "text/plain": [
       "(28, 1)"
      ]
     },
     "execution_count": 35,
     "metadata": {},
     "output_type": "execute_result"
    }
   ],
   "source": [
    "theta.shape"
   ]
  },
  {
   "cell_type": "code",
   "execution_count": 38,
   "metadata": {
    "ExecuteTime": {
     "end_time": "2019-04-09T19:26:16.345615Z",
     "start_time": "2019-04-09T19:26:16.339633Z"
    }
   },
   "outputs": [
    {
     "data": {
      "text/plain": [
       "(27, 1)"
      ]
     },
     "execution_count": 38,
     "metadata": {},
     "output_type": "execute_result"
    }
   ],
   "source": [
    "(theta[1:] * (l / m)).shape"
   ]
  },
  {
   "cell_type": "markdown",
   "metadata": {},
   "source": [
    "Algo não está dando certo. Provavalmente devemos tentar um outro algoritmo de otimização."
   ]
  },
  {
   "cell_type": "code",
   "execution_count": 39,
   "metadata": {
    "ExecuteTime": {
     "end_time": "2019-04-09T19:26:19.529249Z",
     "start_time": "2019-04-09T19:26:19.229942Z"
    }
   },
   "outputs": [
    {
     "ename": "ValueError",
     "evalue": "operands could not be broadcast together with shapes (27,118) (27,) ",
     "output_type": "error",
     "traceback": [
      "\u001b[1;31m---------------------------------------------------------------------------\u001b[0m",
      "\u001b[1;31mValueError\u001b[0m                                Traceback (most recent call last)",
      "\u001b[1;32m<ipython-input-39-8a11ee443bca>\u001b[0m in \u001b[0;36m<module>\u001b[1;34m()\u001b[0m\n\u001b[0;32m      2\u001b[0m \u001b[1;33m\u001b[0m\u001b[0m\n\u001b[0;32m      3\u001b[0m result = scipy.optimize.minimize(newCostFunction, theta, args=(X, y, l),  \n\u001b[1;32m----> 4\u001b[1;33m                                  method='BFGS', options={\"maxiter\":500, \"disp\":True} )\n\u001b[0m",
      "\u001b[1;32m~\\Anaconda3\\lib\\site-packages\\scipy\\optimize\\_minimize.py\u001b[0m in \u001b[0;36mminimize\u001b[1;34m(fun, x0, args, method, jac, hess, hessp, bounds, constraints, tol, callback, options)\u001b[0m\n\u001b[0;32m    479\u001b[0m         \u001b[1;32mreturn\u001b[0m \u001b[0m_minimize_cg\u001b[0m\u001b[1;33m(\u001b[0m\u001b[0mfun\u001b[0m\u001b[1;33m,\u001b[0m \u001b[0mx0\u001b[0m\u001b[1;33m,\u001b[0m \u001b[0margs\u001b[0m\u001b[1;33m,\u001b[0m \u001b[0mjac\u001b[0m\u001b[1;33m,\u001b[0m \u001b[0mcallback\u001b[0m\u001b[1;33m,\u001b[0m \u001b[1;33m**\u001b[0m\u001b[0moptions\u001b[0m\u001b[1;33m)\u001b[0m\u001b[1;33m\u001b[0m\u001b[0m\n\u001b[0;32m    480\u001b[0m     \u001b[1;32melif\u001b[0m \u001b[0mmeth\u001b[0m \u001b[1;33m==\u001b[0m \u001b[1;34m'bfgs'\u001b[0m\u001b[1;33m:\u001b[0m\u001b[1;33m\u001b[0m\u001b[0m\n\u001b[1;32m--> 481\u001b[1;33m         \u001b[1;32mreturn\u001b[0m \u001b[0m_minimize_bfgs\u001b[0m\u001b[1;33m(\u001b[0m\u001b[0mfun\u001b[0m\u001b[1;33m,\u001b[0m \u001b[0mx0\u001b[0m\u001b[1;33m,\u001b[0m \u001b[0margs\u001b[0m\u001b[1;33m,\u001b[0m \u001b[0mjac\u001b[0m\u001b[1;33m,\u001b[0m \u001b[0mcallback\u001b[0m\u001b[1;33m,\u001b[0m \u001b[1;33m**\u001b[0m\u001b[0moptions\u001b[0m\u001b[1;33m)\u001b[0m\u001b[1;33m\u001b[0m\u001b[0m\n\u001b[0m\u001b[0;32m    482\u001b[0m     \u001b[1;32melif\u001b[0m \u001b[0mmeth\u001b[0m \u001b[1;33m==\u001b[0m \u001b[1;34m'newton-cg'\u001b[0m\u001b[1;33m:\u001b[0m\u001b[1;33m\u001b[0m\u001b[0m\n\u001b[0;32m    483\u001b[0m         return _minimize_newtoncg(fun, x0, args, jac, hess, hessp, callback,\n",
      "\u001b[1;32m~\\Anaconda3\\lib\\site-packages\\scipy\\optimize\\optimize.py\u001b[0m in \u001b[0;36m_minimize_bfgs\u001b[1;34m(fun, x0, args, jac, callback, gtol, norm, eps, maxiter, disp, return_all, **unknown_options)\u001b[0m\n\u001b[0;32m    941\u001b[0m     \u001b[1;32melse\u001b[0m\u001b[1;33m:\u001b[0m\u001b[1;33m\u001b[0m\u001b[0m\n\u001b[0;32m    942\u001b[0m         \u001b[0mgrad_calls\u001b[0m\u001b[1;33m,\u001b[0m \u001b[0mmyfprime\u001b[0m \u001b[1;33m=\u001b[0m \u001b[0mwrap_function\u001b[0m\u001b[1;33m(\u001b[0m\u001b[0mfprime\u001b[0m\u001b[1;33m,\u001b[0m \u001b[0margs\u001b[0m\u001b[1;33m)\u001b[0m\u001b[1;33m\u001b[0m\u001b[0m\n\u001b[1;32m--> 943\u001b[1;33m     \u001b[0mgfk\u001b[0m \u001b[1;33m=\u001b[0m \u001b[0mmyfprime\u001b[0m\u001b[1;33m(\u001b[0m\u001b[0mx0\u001b[0m\u001b[1;33m)\u001b[0m\u001b[1;33m\u001b[0m\u001b[0m\n\u001b[0m\u001b[0;32m    944\u001b[0m     \u001b[0mk\u001b[0m \u001b[1;33m=\u001b[0m \u001b[1;36m0\u001b[0m\u001b[1;33m\u001b[0m\u001b[0m\n\u001b[0;32m    945\u001b[0m     \u001b[0mN\u001b[0m \u001b[1;33m=\u001b[0m \u001b[0mlen\u001b[0m\u001b[1;33m(\u001b[0m\u001b[0mx0\u001b[0m\u001b[1;33m)\u001b[0m\u001b[1;33m\u001b[0m\u001b[0m\n",
      "\u001b[1;32m~\\Anaconda3\\lib\\site-packages\\scipy\\optimize\\optimize.py\u001b[0m in \u001b[0;36mfunction_wrapper\u001b[1;34m(*wrapper_args)\u001b[0m\n\u001b[0;32m    290\u001b[0m     \u001b[1;32mdef\u001b[0m \u001b[0mfunction_wrapper\u001b[0m\u001b[1;33m(\u001b[0m\u001b[1;33m*\u001b[0m\u001b[0mwrapper_args\u001b[0m\u001b[1;33m)\u001b[0m\u001b[1;33m:\u001b[0m\u001b[1;33m\u001b[0m\u001b[0m\n\u001b[0;32m    291\u001b[0m         \u001b[0mncalls\u001b[0m\u001b[1;33m[\u001b[0m\u001b[1;36m0\u001b[0m\u001b[1;33m]\u001b[0m \u001b[1;33m+=\u001b[0m \u001b[1;36m1\u001b[0m\u001b[1;33m\u001b[0m\u001b[0m\n\u001b[1;32m--> 292\u001b[1;33m         \u001b[1;32mreturn\u001b[0m \u001b[0mfunction\u001b[0m\u001b[1;33m(\u001b[0m\u001b[1;33m*\u001b[0m\u001b[1;33m(\u001b[0m\u001b[0mwrapper_args\u001b[0m \u001b[1;33m+\u001b[0m \u001b[0margs\u001b[0m\u001b[1;33m)\u001b[0m\u001b[1;33m)\u001b[0m\u001b[1;33m\u001b[0m\u001b[0m\n\u001b[0m\u001b[0;32m    293\u001b[0m \u001b[1;33m\u001b[0m\u001b[0m\n\u001b[0;32m    294\u001b[0m     \u001b[1;32mreturn\u001b[0m \u001b[0mncalls\u001b[0m\u001b[1;33m,\u001b[0m \u001b[0mfunction_wrapper\u001b[0m\u001b[1;33m\u001b[0m\u001b[0m\n",
      "\u001b[1;32m~\\Anaconda3\\lib\\site-packages\\scipy\\optimize\\optimize.py\u001b[0m in \u001b[0;36mapprox_fprime\u001b[1;34m(xk, f, epsilon, *args)\u001b[0m\n\u001b[0;32m    701\u001b[0m \u001b[1;33m\u001b[0m\u001b[0m\n\u001b[0;32m    702\u001b[0m     \"\"\"\n\u001b[1;32m--> 703\u001b[1;33m     \u001b[1;32mreturn\u001b[0m \u001b[0m_approx_fprime_helper\u001b[0m\u001b[1;33m(\u001b[0m\u001b[0mxk\u001b[0m\u001b[1;33m,\u001b[0m \u001b[0mf\u001b[0m\u001b[1;33m,\u001b[0m \u001b[0mepsilon\u001b[0m\u001b[1;33m,\u001b[0m \u001b[0margs\u001b[0m\u001b[1;33m=\u001b[0m\u001b[0margs\u001b[0m\u001b[1;33m)\u001b[0m\u001b[1;33m\u001b[0m\u001b[0m\n\u001b[0m\u001b[0;32m    704\u001b[0m \u001b[1;33m\u001b[0m\u001b[0m\n\u001b[0;32m    705\u001b[0m \u001b[1;33m\u001b[0m\u001b[0m\n",
      "\u001b[1;32m~\\Anaconda3\\lib\\site-packages\\scipy\\optimize\\optimize.py\u001b[0m in \u001b[0;36m_approx_fprime_helper\u001b[1;34m(xk, f, epsilon, args, f0)\u001b[0m\n\u001b[0;32m    635\u001b[0m     \"\"\"\n\u001b[0;32m    636\u001b[0m     \u001b[1;32mif\u001b[0m \u001b[0mf0\u001b[0m \u001b[1;32mis\u001b[0m \u001b[1;32mNone\u001b[0m\u001b[1;33m:\u001b[0m\u001b[1;33m\u001b[0m\u001b[0m\n\u001b[1;32m--> 637\u001b[1;33m         \u001b[0mf0\u001b[0m \u001b[1;33m=\u001b[0m \u001b[0mf\u001b[0m\u001b[1;33m(\u001b[0m\u001b[1;33m*\u001b[0m\u001b[1;33m(\u001b[0m\u001b[1;33m(\u001b[0m\u001b[0mxk\u001b[0m\u001b[1;33m,\u001b[0m\u001b[1;33m)\u001b[0m \u001b[1;33m+\u001b[0m \u001b[0margs\u001b[0m\u001b[1;33m)\u001b[0m\u001b[1;33m)\u001b[0m\u001b[1;33m\u001b[0m\u001b[0m\n\u001b[0m\u001b[0;32m    638\u001b[0m     \u001b[0mgrad\u001b[0m \u001b[1;33m=\u001b[0m \u001b[0mnumpy\u001b[0m\u001b[1;33m.\u001b[0m\u001b[0mzeros\u001b[0m\u001b[1;33m(\u001b[0m\u001b[1;33m(\u001b[0m\u001b[0mlen\u001b[0m\u001b[1;33m(\u001b[0m\u001b[0mxk\u001b[0m\u001b[1;33m)\u001b[0m\u001b[1;33m,\u001b[0m\u001b[1;33m)\u001b[0m\u001b[1;33m,\u001b[0m \u001b[0mfloat\u001b[0m\u001b[1;33m)\u001b[0m\u001b[1;33m\u001b[0m\u001b[0m\n\u001b[0;32m    639\u001b[0m     \u001b[0mei\u001b[0m \u001b[1;33m=\u001b[0m \u001b[0mnumpy\u001b[0m\u001b[1;33m.\u001b[0m\u001b[0mzeros\u001b[0m\u001b[1;33m(\u001b[0m\u001b[1;33m(\u001b[0m\u001b[0mlen\u001b[0m\u001b[1;33m(\u001b[0m\u001b[0mxk\u001b[0m\u001b[1;33m)\u001b[0m\u001b[1;33m,\u001b[0m\u001b[1;33m)\u001b[0m\u001b[1;33m,\u001b[0m \u001b[0mfloat\u001b[0m\u001b[1;33m)\u001b[0m\u001b[1;33m\u001b[0m\u001b[0m\n",
      "\u001b[1;32m~\\Anaconda3\\lib\\site-packages\\scipy\\optimize\\optimize.py\u001b[0m in \u001b[0;36mfunction_wrapper\u001b[1;34m(*wrapper_args)\u001b[0m\n\u001b[0;32m    290\u001b[0m     \u001b[1;32mdef\u001b[0m \u001b[0mfunction_wrapper\u001b[0m\u001b[1;33m(\u001b[0m\u001b[1;33m*\u001b[0m\u001b[0mwrapper_args\u001b[0m\u001b[1;33m)\u001b[0m\u001b[1;33m:\u001b[0m\u001b[1;33m\u001b[0m\u001b[0m\n\u001b[0;32m    291\u001b[0m         \u001b[0mncalls\u001b[0m\u001b[1;33m[\u001b[0m\u001b[1;36m0\u001b[0m\u001b[1;33m]\u001b[0m \u001b[1;33m+=\u001b[0m \u001b[1;36m1\u001b[0m\u001b[1;33m\u001b[0m\u001b[0m\n\u001b[1;32m--> 292\u001b[1;33m         \u001b[1;32mreturn\u001b[0m \u001b[0mfunction\u001b[0m\u001b[1;33m(\u001b[0m\u001b[1;33m*\u001b[0m\u001b[1;33m(\u001b[0m\u001b[0mwrapper_args\u001b[0m \u001b[1;33m+\u001b[0m \u001b[0margs\u001b[0m\u001b[1;33m)\u001b[0m\u001b[1;33m)\u001b[0m\u001b[1;33m\u001b[0m\u001b[0m\n\u001b[0m\u001b[0;32m    293\u001b[0m \u001b[1;33m\u001b[0m\u001b[0m\n\u001b[0;32m    294\u001b[0m     \u001b[1;32mreturn\u001b[0m \u001b[0mncalls\u001b[0m\u001b[1;33m,\u001b[0m \u001b[0mfunction_wrapper\u001b[0m\u001b[1;33m\u001b[0m\u001b[0m\n",
      "\u001b[1;32m<ipython-input-26-c1d84834ad80>\u001b[0m in \u001b[0;36mnewCostFunction\u001b[1;34m(theta, X, y, lamb)\u001b[0m\n\u001b[0;32m     29\u001b[0m \u001b[1;33m\u001b[0m\u001b[0m\n\u001b[0;32m     30\u001b[0m     \u001b[1;31m# Gradiente\u001b[0m\u001b[1;33m\u001b[0m\u001b[1;33m\u001b[0m\u001b[0m\n\u001b[1;32m---> 31\u001b[1;33m     \u001b[0mgrad\u001b[0m \u001b[1;33m=\u001b[0m \u001b[0mgradientRegularized\u001b[0m\u001b[1;33m(\u001b[0m\u001b[0mX\u001b[0m\u001b[1;33m,\u001b[0m \u001b[0my\u001b[0m\u001b[1;33m,\u001b[0m \u001b[0mtheta\u001b[0m\u001b[1;33m,\u001b[0m \u001b[0mlamb\u001b[0m\u001b[1;33m)\u001b[0m\u001b[1;33m\u001b[0m\u001b[0m\n\u001b[0m\u001b[0;32m     32\u001b[0m \u001b[1;33m\u001b[0m\u001b[0m\n\u001b[0;32m     33\u001b[0m     \u001b[1;32mreturn\u001b[0m \u001b[0mJ\u001b[0m\u001b[1;33m,\u001b[0m \u001b[0mgrad\u001b[0m\u001b[1;33m\u001b[0m\u001b[0m\n",
      "\u001b[1;32m<ipython-input-24-bff8da6b86a0>\u001b[0m in \u001b[0;36mgradientRegularized\u001b[1;34m(X, y, theta, l)\u001b[0m\n\u001b[0;32m     21\u001b[0m \u001b[1;33m\u001b[0m\u001b[0m\n\u001b[0;32m     22\u001b[0m     \u001b[1;31m# Aplicando regularização\u001b[0m\u001b[1;33m\u001b[0m\u001b[1;33m\u001b[0m\u001b[0m\n\u001b[1;32m---> 23\u001b[1;33m     \u001b[0mgrad\u001b[0m\u001b[1;33m[\u001b[0m\u001b[1;36m1\u001b[0m\u001b[1;33m:\u001b[0m\u001b[1;33m]\u001b[0m \u001b[1;33m=\u001b[0m \u001b[0mgrad\u001b[0m\u001b[1;33m[\u001b[0m\u001b[1;36m1\u001b[0m\u001b[1;33m:\u001b[0m\u001b[1;33m]\u001b[0m \u001b[1;33m+\u001b[0m \u001b[1;33m(\u001b[0m\u001b[1;33m(\u001b[0m\u001b[0mtheta\u001b[0m\u001b[1;33m[\u001b[0m\u001b[1;36m1\u001b[0m\u001b[1;33m:\u001b[0m\u001b[1;33m]\u001b[0m \u001b[1;33m*\u001b[0m \u001b[0ml\u001b[0m\u001b[1;33m)\u001b[0m \u001b[1;33m/\u001b[0m \u001b[0mm\u001b[0m\u001b[1;33m)\u001b[0m\u001b[1;33m\u001b[0m\u001b[0m\n\u001b[0m\u001b[0;32m     24\u001b[0m \u001b[1;33m\u001b[0m\u001b[0m\n\u001b[0;32m     25\u001b[0m     \u001b[1;31m# Atualizando parâmetros\u001b[0m\u001b[1;33m\u001b[0m\u001b[1;33m\u001b[0m\u001b[0m\n",
      "\u001b[1;31mValueError\u001b[0m: operands could not be broadcast together with shapes (27,118) (27,) "
     ]
    }
   ],
   "source": [
    "# Testando minimize\n",
    "\n",
    "result = scipy.optimize.minimize(newCostFunction, theta, args=(X, y, l),  \n",
    "                                 method='BFGS', options={\"maxiter\":500, \"disp\":True} )"
   ]
  },
  {
   "cell_type": "code",
   "execution_count": 40,
   "metadata": {
    "ExecuteTime": {
     "end_time": "2019-04-09T19:26:19.947225Z",
     "start_time": "2019-04-09T19:26:19.927277Z"
    }
   },
   "outputs": [],
   "source": [
    "# Redefinindo função custo\n",
    "def newCostFunction(theta, X, y, lamb):\n",
    "    \"\"\"\n",
    "        Função responsável por computar o Custo com regularização para um problema\n",
    "    de Regressão Logística.\n",
    "    Input:\n",
    "        - theta: parâmetros\n",
    "        - X: features\n",
    "        - y: labels\n",
    "        - lamb: termo de regularização\n",
    "    Output:\n",
    "        - J: função custo com regularização\n",
    "        - grad: gradiente para esta iteração\n",
    "    \"\"\"\n",
    "    # Inicializando termos\n",
    "    [m, n] = X.shape\n",
    "\n",
    "    # Calculando função hypothesis\n",
    "    z = X.dot(theta)\n",
    "    h = sigmoid(z)\n",
    "\n",
    "    # Definindo termos da função custo\n",
    "    termo1 = np.log(h).T.dot(-y)\n",
    "    termo2 = np.log(1 - h).T.dot(1 - y)\n",
    "    termo3 = theta.T.dot(theta)\n",
    "\n",
    "    # Função custo\n",
    "    J = (((termo1 - termo2) / m) + ((lamb/(2*m)) * termo3)).flatten()\n",
    "    \n",
    "    # Gradiente\n",
    "    #grad = gradientRegularized(X, y, theta, lamb)\n",
    "    \n",
    "    return J"
   ]
  },
  {
   "cell_type": "code",
   "execution_count": 41,
   "metadata": {
    "ExecuteTime": {
     "end_time": "2019-04-09T19:26:21.003028Z",
     "start_time": "2019-04-09T19:26:20.898308Z"
    }
   },
   "outputs": [
    {
     "name": "stdout",
     "output_type": "stream",
     "text": [
      "Optimization terminated successfully.\n",
      "         Current function value: 0.535160\n",
      "         Iterations: 46\n",
      "         Function evaluations: 1410\n",
      "         Gradient evaluations: 47\n"
     ]
    }
   ],
   "source": [
    "# Realizando alguns testes\n",
    "result = scipy.optimize.minimize(newCostFunction, theta, args=(X, y, l),  \n",
    "                                 method='BFGS', options={\"maxiter\":500, \"disp\":True})"
   ]
  },
  {
   "cell_type": "code",
   "execution_count": 42,
   "metadata": {
    "ExecuteTime": {
     "end_time": "2019-04-09T19:26:22.848714Z",
     "start_time": "2019-04-09T19:26:22.805857Z"
    }
   },
   "outputs": [
    {
     "data": {
      "text/plain": [
       "      fun: 0.5351602589460671\n",
       " hess_inv: array([[ 9.28075271e+00,  3.68470894e-01,  6.08947297e-01,\n",
       "        -6.96496161e+00, -4.47693224e-01, -1.03002009e+01,\n",
       "         1.53389547e+00, -2.80497174e+00, -1.24086998e+00,\n",
       "         6.03293795e-01, -4.73375902e+00,  1.97909578e+00,\n",
       "        -4.45988859e+00,  3.03925116e-01, -4.67492554e+00,\n",
       "         3.71514419e-01, -9.30175751e-01,  2.36084763e-01,\n",
       "        -1.76397402e+00, -1.07964018e+00,  1.92997058e+00,\n",
       "        -2.86925315e+00,  1.41032861e+00, -1.90657688e+00,\n",
       "         9.15247370e-01, -2.22212595e+00,  1.37246037e-01,\n",
       "        -5.47158457e-01],\n",
       "       [ 3.68470894e-01,  1.27134732e+01,  4.22893770e+00,\n",
       "        -5.51672182e+00, -6.87856493e+00,  2.10882604e+00,\n",
       "         2.17635621e+00,  1.73829025e-01,  2.38611071e+00,\n",
       "        -2.69172776e+00, -4.32624523e+00, -3.20863412e-01,\n",
       "         3.60081662e-01, -1.55047547e+00, -1.19700403e+00,\n",
       "        -4.81324611e-01,  2.03033403e-01,  1.23436560e+00,\n",
       "        -6.75434290e-01,  7.53727384e-01, -2.60790400e+00,\n",
       "        -2.99332863e+00,  3.39453033e-01,  1.87865758e-02,\n",
       "         2.87542391e-01, -3.58198272e-02, -3.10091236e-01,\n",
       "        -1.45922692e+00],\n",
       "       [ 6.08947297e-01,  4.22893770e+00,  1.73730345e+01,\n",
       "        -2.26869396e+00, -8.10958926e+00, -3.12618348e+00,\n",
       "        -4.09942773e-01,  3.76855505e+00,  5.94051867e-01,\n",
       "        -2.83308855e+00, -2.55382533e+00,  2.08606212e-01,\n",
       "         6.64800671e-01, -1.50903020e+00, -6.72195713e+00,\n",
       "        -1.57521437e+00,  1.89761646e+00,  9.93131396e-01,\n",
       "         5.93773337e-03,  1.23276205e-01, -5.40909250e+00,\n",
       "        -1.82411569e+00,  8.53184672e-01,  2.82921838e-01,\n",
       "         6.53773011e-01, -2.27329344e-01, -4.26241062e-02,\n",
       "        -6.28705049e+00],\n",
       "       [-6.96496161e+00, -5.51672182e+00, -2.26869396e+00,\n",
       "         1.79747346e+01,  4.43332590e+00,  6.52765613e+00,\n",
       "        -6.68774710e-01,  4.11635183e+00,  3.91002571e-01,\n",
       "        -6.36753335e-01,  1.20934463e+01, -1.42143572e+00,\n",
       "         5.17002477e+00,  9.52128609e-01,  3.11649774e+00,\n",
       "         2.08835301e+00,  1.65895016e+00, -4.92142732e-01,\n",
       "         2.46665921e+00,  1.02603147e+00, -1.90128074e+00,\n",
       "         8.27207349e+00, -1.30001133e+00,  2.50679698e+00,\n",
       "        -8.35068068e-01,  2.45272314e+00,  4.42756737e-01,\n",
       "        -1.58602877e-01],\n",
       "       [-4.47693224e-01, -6.87856493e+00, -8.10958926e+00,\n",
       "         4.43332590e+00,  4.34602356e+01,  5.89964776e+00,\n",
       "         2.92168592e+00, -4.03061318e+00, -5.55606340e+00,\n",
       "         1.25025138e+01,  3.23472793e+00, -3.13265042e+00,\n",
       "        -1.01677586e+00,  9.91151080e+00,  2.84149526e+00,\n",
       "         3.49878997e+00, -5.58995391e+00, -6.77160804e+00,\n",
       "         3.42106824e+00, -1.39089416e+00, -2.21547745e+00,\n",
       "        -1.08318158e+00, -6.16029806e+00, -7.27445736e-01,\n",
       "        -3.85008721e+00,  5.61564553e-01,  2.00272312e+00,\n",
       "        -1.07171711e+01],\n",
       "       [-1.03002009e+01,  2.10882604e+00, -3.12618348e+00,\n",
       "         6.52765613e+00,  5.89964776e+00,  3.68757378e+01,\n",
       "        -7.40471029e+00,  4.70930720e+00,  2.12617728e+00,\n",
       "        -4.20809747e+00,  1.43509735e+00, -9.57834978e+00,\n",
       "         1.16885266e+01, -5.98092731e-01,  9.74548316e+00,\n",
       "        -6.41034926e+00, -6.74154024e-01, -3.22046822e+00,\n",
       "         4.75057838e+00,  2.42409453e+00, -1.55658821e+01,\n",
       "        -3.02449286e+00, -7.47095580e+00,  4.34021270e+00,\n",
       "        -4.72375001e+00,  5.89516166e+00, -1.00945499e+00,\n",
       "        -1.04704809e+01],\n",
       "       [ 1.53389547e+00,  2.17635621e+00, -4.09942773e-01,\n",
       "        -6.68774710e-01,  2.92168592e+00, -7.40471029e+00,\n",
       "         8.89286942e+00, -6.07100572e+00, -7.87784366e+00,\n",
       "         7.43768170e+00,  9.43395112e-01, -3.62139365e+00,\n",
       "        -3.96847923e+00, -1.60182625e+00, -1.70789896e+00,\n",
       "         6.23030133e+00, -4.31141640e+00, -3.14278537e+00,\n",
       "        -7.78168724e-01, -4.98543240e+00,  3.66321017e+00,\n",
       "         5.98152072e-01, -2.90251996e+00, -1.71884323e+00,\n",
       "        -2.21813231e+00, -1.52709691e+00, -2.41730667e+00,\n",
       "        -2.13919644e+00],\n",
       "       [-2.80497174e+00,  1.73829025e-01,  3.76855505e+00,\n",
       "         4.11635183e+00, -4.03061318e+00,  4.70930720e+00,\n",
       "        -6.07100572e+00,  8.56735958e+00,  8.86828682e+00,\n",
       "        -7.68858529e+00,  1.86125203e+00,  4.87089891e+00,\n",
       "         4.28242161e+00,  1.87701838e+00,  5.04961201e-01,\n",
       "        -4.58340121e+00,  5.42357191e+00,  4.05095192e+00,\n",
       "         8.56630054e-01,  5.47108074e+00, -2.99904623e+00,\n",
       "         1.95584570e+00,  3.93827083e+00,  2.03177424e+00,\n",
       "         2.92894184e+00,  1.51447877e+00,  2.88619358e+00,\n",
       "         2.82080159e+00],\n",
       "       [-1.24086998e+00,  2.38611071e+00,  5.94051867e-01,\n",
       "         3.91002571e-01, -5.55606340e+00,  2.12617728e+00,\n",
       "        -7.87784366e+00,  8.86828682e+00,  1.59331249e+01,\n",
       "        -1.04792661e+01, -4.93367794e-01,  1.04498736e+01,\n",
       "         3.29621042e+00,  3.77053942e+00,  1.95153821e+00,\n",
       "        -6.43257227e+00,  7.87449908e+00,  7.36773029e+00,\n",
       "        -2.16448951e-01,  8.73879592e+00,  1.10412388e+00,\n",
       "         1.57690994e+00,  8.11379577e+00,  1.73899054e+00,\n",
       "         5.84489467e+00,  8.99693578e-01,  5.02794375e+00,\n",
       "         1.01255288e+01],\n",
       "       [ 6.03293795e-01, -2.69172776e+00, -2.83308855e+00,\n",
       "        -6.36753335e-01,  1.25025138e+01, -4.20809747e+00,\n",
       "         7.43768170e+00, -7.68858529e+00, -1.04792661e+01,\n",
       "         1.32705728e+01,  1.12637380e+00, -5.05574953e+00,\n",
       "        -4.34373515e+00,  7.90980111e-02,  1.14032222e+00,\n",
       "         6.52719578e+00, -6.09855387e+00, -5.29549390e+00,\n",
       "         9.11861899e-02, -6.04703269e+00,  5.03544028e+00,\n",
       "        -1.15382743e-01, -4.81441088e+00, -2.01943576e+00,\n",
       "        -3.51698251e+00, -1.29109554e+00, -2.52551612e+00,\n",
       "        -2.81540157e+00],\n",
       "       [-4.73375902e+00, -4.32624523e+00, -2.55382533e+00,\n",
       "         1.20934463e+01,  3.23472793e+00,  1.43509735e+00,\n",
       "         9.43395112e-01,  1.86125203e+00, -4.93367794e-01,\n",
       "         1.12637380e+00,  1.02218706e+01, -3.41093160e-01,\n",
       "         2.39956635e+00,  6.53641756e-01,  2.41094656e+00,\n",
       "         2.88005962e+00,  8.77208322e-01, -2.81782138e-01,\n",
       "         1.31505183e+00,  1.39640730e-01,  1.50629193e+00,\n",
       "         6.79860080e+00, -4.36551857e-01,  1.31069963e+00,\n",
       "        -3.35283158e-01,  1.20082817e+00,  1.99545465e-01,\n",
       "         2.08577140e+00],\n",
       "       [ 1.97909578e+00, -3.20863412e-01,  2.08606212e-01,\n",
       "        -1.42143572e+00, -3.13265042e+00, -9.57834978e+00,\n",
       "        -3.62139365e+00,  4.87089891e+00,  1.04498736e+01,\n",
       "        -5.05574953e+00, -3.41093160e-01,  1.23342726e+01,\n",
       "        -1.51006264e+00,  3.84109609e+00, -3.63613820e-01,\n",
       "        -2.51595594e+00,  5.96598670e+00,  6.36962682e+00,\n",
       "        -1.52240184e+00,  5.84489428e+00,  7.35130924e+00,\n",
       "         2.51260508e+00,  8.53111924e+00, -1.81613194e-01,\n",
       "         5.93085838e+00, -1.20894016e+00,  4.36354818e+00,\n",
       "         1.22443947e+01],\n",
       "       [-4.45988859e+00,  3.60081662e-01,  6.64800671e-01,\n",
       "         5.17002477e+00, -1.01677586e+00,  1.16885266e+01,\n",
       "        -3.96847923e+00,  4.28242161e+00,  3.29621042e+00,\n",
       "        -4.34373515e+00,  2.39956635e+00, -1.51006264e+00,\n",
       "         6.26638923e+00, -2.84251644e-02,  2.55786271e+00,\n",
       "        -2.98551099e+00,  1.81622971e+00,  4.28758163e-01,\n",
       "         1.75920750e+00,  2.37222490e+00, -6.01019792e+00,\n",
       "         8.02957147e-01, -9.71313069e-01,  2.17853856e+00,\n",
       "        -4.90529221e-01,  2.37028763e+00,  4.71554873e-01,\n",
       "        -2.44434238e+00],\n",
       "       [ 3.03925116e-01, -1.55047547e+00, -1.50903020e+00,\n",
       "         9.52128609e-01,  9.91151080e+00, -5.98092731e-01,\n",
       "        -1.60182625e+00,  1.87701838e+00,  3.77053942e+00,\n",
       "         7.90980111e-02,  6.53641756e-01,  3.84109609e+00,\n",
       "        -2.84251644e-02,  5.40501757e+00,  5.86392061e-01,\n",
       "        -9.24475055e-01,  1.43121298e+00,  1.04382211e+00,\n",
       "         5.50758831e-01,  2.67065949e+00,  9.63725261e-01,\n",
       "         5.24215968e-01,  1.88664242e+00,  8.29706527e-02,\n",
       "         1.47801313e+00,  4.31368932e-03,  2.58504434e+00,\n",
       "         1.37057136e+00],\n",
       "       [-4.67492554e+00, -1.19700403e+00, -6.72195713e+00,\n",
       "         3.11649774e+00,  2.84149526e+00,  9.74548316e+00,\n",
       "        -1.70789896e+00,  5.04961201e-01,  1.95153821e+00,\n",
       "         1.14032222e+00,  2.41094656e+00, -3.63613820e-01,\n",
       "         2.55786271e+00,  5.86392061e-01,  8.60606781e+00,\n",
       "        -5.98859537e-01,  2.55016709e-01,  1.17487991e-01,\n",
       "         9.69192032e-01,  1.34045826e+00,  2.60507072e+00,\n",
       "         1.58866579e+00, -4.75301003e-01,  1.04038799e+00,\n",
       "        -3.20853338e-01,  1.54527535e+00,  2.22717310e-01,\n",
       "         5.47704858e+00],\n",
       "       [ 3.71514419e-01, -4.81324611e-01, -1.57521437e+00,\n",
       "         2.08835301e+00,  3.49878997e+00, -6.41034926e+00,\n",
       "         6.23030133e+00, -4.58340121e+00, -6.43257227e+00,\n",
       "         6.52719578e+00,  2.88005962e+00, -2.51595594e+00,\n",
       "        -2.98551099e+00, -9.24475055e-01, -5.98859537e-01,\n",
       "         6.59504751e+00, -3.19114456e+00, -2.49986188e+00,\n",
       "        -4.24341803e-01, -3.94758876e+00,  4.19125552e+00,\n",
       "         2.17149295e+00, -2.12438056e+00, -1.20990756e+00,\n",
       "        -1.66238145e+00, -1.09489047e+00, -1.77230160e+00,\n",
       "        -3.37327923e-01],\n",
       "       [-9.30175751e-01,  2.03033403e-01,  1.89761646e+00,\n",
       "         1.65895016e+00, -5.58995391e+00, -6.74154024e-01,\n",
       "        -4.31141640e+00,  5.42357191e+00,  7.87449908e+00,\n",
       "        -6.09855387e+00,  8.77208322e-01,  5.96598670e+00,\n",
       "         1.81622971e+00,  1.43121298e+00,  2.55016709e-01,\n",
       "        -3.19114456e+00,  5.81866660e+00,  4.33394524e+00,\n",
       "        -2.25807467e-01,  4.55748621e+00,  1.02364466e+00,\n",
       "         1.98905061e+00,  4.86781238e+00,  1.03879476e+00,\n",
       "         3.44671605e+00,  4.05393960e-01,  2.58962754e+00,\n",
       "         6.03111304e+00],\n",
       "       [ 2.36084763e-01,  1.23436560e+00,  9.93131396e-01,\n",
       "        -4.92142732e-01, -6.77160804e+00, -3.22046822e+00,\n",
       "        -3.14278537e+00,  4.05095192e+00,  7.36773029e+00,\n",
       "        -5.29549390e+00, -2.81782138e-01,  6.36962682e+00,\n",
       "         4.28758163e-01,  1.04382211e+00,  1.17487991e-01,\n",
       "        -2.49986188e+00,  4.33394524e+00,  5.46552002e+00,\n",
       "        -8.80352521e-01,  4.02598050e+00,  2.96479781e+00,\n",
       "         1.51167193e+00,  5.25665860e+00,  4.49281919e-01,\n",
       "         3.65235939e+00, -2.15909407e-01,  2.33851956e+00,\n",
       "         7.52546387e+00],\n",
       "       [-1.76397402e+00, -6.75434290e-01,  5.93773337e-03,\n",
       "         2.46665921e+00,  3.42106824e+00,  4.75057838e+00,\n",
       "        -7.78168724e-01,  8.56630054e-01, -2.16448951e-01,\n",
       "         9.11861899e-02,  1.31505183e+00, -1.52240184e+00,\n",
       "         1.75920750e+00,  5.50758831e-01,  9.69192032e-01,\n",
       "        -4.24341803e-01, -2.25807467e-01, -8.80352521e-01,\n",
       "         2.00419755e+00,  2.04530640e-01, -2.62338448e+00,\n",
       "         1.83869897e-01, -1.40629458e+00,  6.82695636e-01,\n",
       "        -8.84414569e-01,  9.06329274e-01,  1.81845925e-02,\n",
       "        -2.60614657e+00],\n",
       "       [-1.07964018e+00,  7.53727384e-01,  1.23276205e-01,\n",
       "         1.02603147e+00, -1.39089416e+00,  2.42409453e+00,\n",
       "        -4.98543240e+00,  5.47108074e+00,  8.73879592e+00,\n",
       "        -6.04703269e+00,  1.39640730e-01,  5.84489428e+00,\n",
       "         2.37222490e+00,  2.67065949e+00,  1.34045826e+00,\n",
       "        -3.94758876e+00,  4.55748621e+00,  4.02598050e+00,\n",
       "         2.04530640e-01,  6.26013311e+00, -1.30199341e-01,\n",
       "         9.79081255e-01,  4.38507437e+00,  1.19124826e+00,\n",
       "         3.20586253e+00,  7.63490306e-01,  3.09078644e+00,\n",
       "         5.05911037e+00],\n",
       "       [ 1.92997058e+00, -2.60790400e+00, -5.40909250e+00,\n",
       "        -1.90128074e+00, -2.21547745e+00, -1.55658821e+01,\n",
       "         3.66321017e+00, -2.99904623e+00,  1.10412388e+00,\n",
       "         5.03544028e+00,  1.50629193e+00,  7.35130924e+00,\n",
       "        -6.01019792e+00,  9.63725261e-01,  2.60507072e+00,\n",
       "         4.19125552e+00,  1.02364466e+00,  2.96479781e+00,\n",
       "        -2.62338448e+00, -1.30199341e-01,  1.74373750e+01,\n",
       "         4.26404385e+00,  5.58284051e+00, -2.12594057e+00,\n",
       "         3.49970013e+00, -2.69768417e+00,  1.03214955e+00,\n",
       "         1.63637353e+01],\n",
       "       [-2.86925315e+00, -2.99332863e+00, -1.82411569e+00,\n",
       "         8.27207349e+00, -1.08318158e+00, -3.02449286e+00,\n",
       "         5.98152072e-01,  1.95584570e+00,  1.57690994e+00,\n",
       "        -1.15382743e-01,  6.79860080e+00,  2.51260508e+00,\n",
       "         8.02957147e-01,  5.24215968e-01,  1.58866579e+00,\n",
       "         2.17149295e+00,  1.98905061e+00,  1.51167193e+00,\n",
       "         1.83869897e-01,  9.79081255e-01,  4.26404385e+00,\n",
       "         7.03502539e+00,  2.00959006e+00,  7.02021909e-01,\n",
       "         1.29887164e+00,  2.95553628e-01,  7.79158205e-01,\n",
       "         5.82538482e+00],\n",
       "       [ 1.41032861e+00,  3.39453033e-01,  8.53184672e-01,\n",
       "        -1.30001133e+00, -6.16029806e+00, -7.47095580e+00,\n",
       "        -2.90251996e+00,  3.93827083e+00,  8.11379577e+00,\n",
       "        -4.81441088e+00, -4.36551857e-01,  8.53111924e+00,\n",
       "        -9.71313069e-01,  1.88664242e+00, -4.75301003e-01,\n",
       "        -2.12438056e+00,  4.86781238e+00,  5.25665860e+00,\n",
       "        -1.40629458e+00,  4.38507437e+00,  5.58284051e+00,\n",
       "         2.00959006e+00,  7.77021559e+00, -4.75806425e-02,\n",
       "         4.66616843e+00, -9.13732099e-01,  2.99178139e+00,\n",
       "         9.94311503e+00],\n",
       "       [-1.90657688e+00,  1.87865758e-02,  2.82921838e-01,\n",
       "         2.50679698e+00, -7.27445736e-01,  4.34021270e+00,\n",
       "        -1.71884323e+00,  2.03177424e+00,  1.73899054e+00,\n",
       "        -2.01943576e+00,  1.31069963e+00, -1.81613194e-01,\n",
       "         2.17853856e+00,  8.29706527e-02,  1.04038799e+00,\n",
       "        -1.20990756e+00,  1.03879476e+00,  4.49281919e-01,\n",
       "         6.82695636e-01,  1.19124826e+00, -2.12594057e+00,\n",
       "         7.02021909e-01, -4.75806425e-02,  1.93361364e+00,\n",
       "         3.78593055e-02,  9.54817774e-01,  3.47774913e-01,\n",
       "        -4.26899903e-01],\n",
       "       [ 9.15247370e-01,  2.87542391e-01,  6.53773011e-01,\n",
       "        -8.35068068e-01, -3.85008721e+00, -4.72375001e+00,\n",
       "        -2.21813231e+00,  2.92894184e+00,  5.84489467e+00,\n",
       "        -3.51698251e+00, -3.35283158e-01,  5.93085838e+00,\n",
       "        -4.90529221e-01,  1.47801313e+00, -3.20853338e-01,\n",
       "        -1.66238145e+00,  3.44671605e+00,  3.65235939e+00,\n",
       "        -8.84414569e-01,  3.20586253e+00,  3.49970013e+00,\n",
       "         1.29887164e+00,  4.66616843e+00,  3.78593055e-02,\n",
       "         4.23368320e+00, -5.51829275e-01,  2.17745186e+00,\n",
       "         6.60661680e+00],\n",
       "       [-2.22212595e+00, -3.58198272e-02, -2.27329344e-01,\n",
       "         2.45272314e+00,  5.61564553e-01,  5.89516166e+00,\n",
       "        -1.52709691e+00,  1.51447877e+00,  8.99693578e-01,\n",
       "        -1.29109554e+00,  1.20082817e+00, -1.20894016e+00,\n",
       "         2.37028763e+00,  4.31368932e-03,  1.54527535e+00,\n",
       "        -1.09489047e+00,  4.05393960e-01, -2.15909407e-01,\n",
       "         9.06329274e-01,  7.63490306e-01, -2.69768417e+00,\n",
       "         2.95553628e-01, -9.13732099e-01,  9.54817774e-01,\n",
       "        -5.51829275e-01,  2.12951637e+00,  4.00041364e-02,\n",
       "        -1.42605415e+00],\n",
       "       [ 1.37246037e-01, -3.10091236e-01, -4.26241062e-02,\n",
       "         4.42756737e-01,  2.00272312e+00, -1.00945499e+00,\n",
       "        -2.41730667e+00,  2.88619358e+00,  5.02794375e+00,\n",
       "        -2.52551612e+00,  1.99545465e-01,  4.36354818e+00,\n",
       "         4.71554873e-01,  2.58504434e+00,  2.22717310e-01,\n",
       "        -1.77230160e+00,  2.58962754e+00,  2.33851956e+00,\n",
       "         1.81845925e-02,  3.09078644e+00,  1.03214955e+00,\n",
       "         7.79158205e-01,  2.99178139e+00,  3.47774913e-01,\n",
       "         2.17745186e+00,  4.00041364e-02,  3.25738509e+00,\n",
       "         3.25056749e+00],\n",
       "       [-5.47158457e-01, -1.45922692e+00, -6.28705049e+00,\n",
       "        -1.58602877e-01, -1.07171711e+01, -1.04704809e+01,\n",
       "        -2.13919644e+00,  2.82080159e+00,  1.01255288e+01,\n",
       "        -2.81540157e+00,  2.08577140e+00,  1.22443947e+01,\n",
       "        -2.44434238e+00,  1.37057136e+00,  5.47704858e+00,\n",
       "        -3.37327923e-01,  6.03111304e+00,  7.52546387e+00,\n",
       "        -2.60614657e+00,  5.05911037e+00,  1.63637353e+01,\n",
       "         5.82538482e+00,  9.94311503e+00, -4.26899903e-01,\n",
       "         6.60661680e+00, -1.42605415e+00,  3.25056749e+00,\n",
       "         2.44391523e+01]])\n",
       "      jac: array([ 6.33299351e-07,  3.02493572e-06,  5.43892384e-07,  6.31064177e-06,\n",
       "       -1.76578760e-06, -7.13765621e-06, -3.74764204e-06,  2.83122063e-06,\n",
       "        2.56299973e-06,  9.01520252e-07,  1.13993883e-06, -4.15742397e-06,\n",
       "       -6.85453415e-07,  1.49011612e-07, -1.49011612e-07, -4.75347042e-06,\n",
       "        1.78068876e-06, -1.80304050e-06,  1.86264515e-07,  1.99675560e-06,\n",
       "       -3.20374966e-07, -2.45869160e-06, -2.39908695e-06, -1.34110451e-07,\n",
       "       -1.81049109e-06, -2.30967999e-07,  2.98023224e-08, -7.00354576e-07])\n",
       "  message: 'Optimization terminated successfully.'\n",
       "     nfev: 1410\n",
       "      nit: 46\n",
       "     njev: 47\n",
       "   status: 0\n",
       "  success: True\n",
       "        x: array([ 1.14216767,  0.60159662,  1.16719539, -1.87133836, -0.91585481,\n",
       "       -1.27009658,  0.12635729, -0.36845912, -0.34493712, -0.17359468,\n",
       "       -1.42386113, -0.04897014, -0.60654097, -0.26932561, -1.16298461,\n",
       "       -0.24354141, -0.20689062, -0.0433884 , -0.28027313, -0.28676042,\n",
       "       -0.46905386, -1.03650761,  0.02900044, -0.29266117,  0.01716365,\n",
       "       -0.32900564, -0.13798811, -0.93193372])"
      ]
     },
     "execution_count": 42,
     "metadata": {},
     "output_type": "execute_result"
    }
   ],
   "source": [
    "# Avaliando retorno\n",
    "result"
   ]
  },
  {
   "cell_type": "code",
   "execution_count": 43,
   "metadata": {
    "ExecuteTime": {
     "end_time": "2019-04-09T19:26:24.862233Z",
     "start_time": "2019-04-09T19:26:24.858245Z"
    }
   },
   "outputs": [],
   "source": [
    "# Retornando o que interessa\n",
    "min_J = result.fun\n",
    "best_theta = result.x"
   ]
  },
  {
   "cell_type": "code",
   "execution_count": 44,
   "metadata": {
    "ExecuteTime": {
     "end_time": "2019-04-09T19:26:25.109782Z",
     "start_time": "2019-04-09T19:26:25.103800Z"
    }
   },
   "outputs": [
    {
     "name": "stdout",
     "output_type": "stream",
     "text": [
      "Custo mínimo: 0.5351602589460671\n",
      "\n",
      "Melhores parâmetros:\n",
      "[ 1.14216767  0.60159662  1.16719539 -1.87133836 -0.91585481 -1.27009658\n",
      "  0.12635729 -0.36845912 -0.34493712 -0.17359468 -1.42386113 -0.04897014\n",
      " -0.60654097 -0.26932561 -1.16298461 -0.24354141 -0.20689062 -0.0433884\n",
      " -0.28027313 -0.28676042 -0.46905386 -1.03650761  0.02900044 -0.29266117\n",
      "  0.01716365 -0.32900564 -0.13798811 -0.93193372]\n"
     ]
    }
   ],
   "source": [
    "# Comunicando\n",
    "print(f'Custo mínimo: {min_J}')\n",
    "\n",
    "print(f'\\nMelhores parâmetros:\\n{best_theta}')"
   ]
  },
  {
   "cell_type": "markdown",
   "metadata": {},
   "source": [
    "### Avaliando Modelo"
   ]
  },
  {
   "cell_type": "markdown",
   "metadata": {},
   "source": [
    "Após minimizarmos a função custo e obtermos os melhores parâmetros. Vamos realizar predições."
   ]
  },
  {
   "cell_type": "code",
   "execution_count": 45,
   "metadata": {
    "ExecuteTime": {
     "end_time": "2019-04-09T19:26:43.054259Z",
     "start_time": "2019-04-09T19:26:43.048277Z"
    }
   },
   "outputs": [],
   "source": [
    "# Realizando predições\n",
    "h = sigmoid(X.dot(best_theta))\n",
    "threshold = 0.5\n",
    "predictions = ((h >= 0.5) * 1).reshape((m, 1))"
   ]
  },
  {
   "cell_type": "code",
   "execution_count": 46,
   "metadata": {
    "ExecuteTime": {
     "end_time": "2019-04-09T19:26:43.585317Z",
     "start_time": "2019-04-09T19:26:43.578335Z"
    }
   },
   "outputs": [
    {
     "name": "stdout",
     "output_type": "stream",
     "text": [
      "Predições (5 primeiras): \n",
      "[[1]\n",
      " [1]\n",
      " [1]\n",
      " [1]\n",
      " [1]]\n",
      "\n",
      "Labels: (5 primeiros): \n",
      "[[1.]\n",
      " [1.]\n",
      " [1.]\n",
      " [1.]\n",
      " [1.]]\n"
     ]
    }
   ],
   "source": [
    "# Verificando\n",
    "print(f'Predições (5 primeiras): \\n{predictions[:5]}')\n",
    "print(f'\\nLabels: (5 primeiros): \\n{y[:5]}')"
   ]
  },
  {
   "cell_type": "code",
   "execution_count": 47,
   "metadata": {
    "ExecuteTime": {
     "end_time": "2019-04-09T19:26:44.522730Z",
     "start_time": "2019-04-09T19:26:44.515747Z"
    }
   },
   "outputs": [
    {
     "data": {
      "text/plain": [
       "array([22])"
      ]
     },
     "execution_count": 47,
     "metadata": {},
     "output_type": "execute_result"
    }
   ],
   "source": [
    "# Quantidade de erros\n",
    "errors = (predictions != y) * 1\n",
    "sum(errors)"
   ]
  },
  {
   "cell_type": "code",
   "execution_count": 48,
   "metadata": {
    "ExecuteTime": {
     "end_time": "2019-04-09T19:26:45.336458Z",
     "start_time": "2019-04-09T19:26:45.330475Z"
    }
   },
   "outputs": [
    {
     "name": "stdout",
     "output_type": "stream",
     "text": [
      "Acurácia do modelo: [0.81355932]\n"
     ]
    }
   ],
   "source": [
    "# Acurácia\n",
    "acc = 1 - (sum(errors) / y.shape[0])\n",
    "print(f'Acurácia do modelo: {acc}')"
   ]
  },
  {
   "cell_type": "markdown",
   "metadata": {},
   "source": [
    "No treinamento em Octave obtivemos uma Acurácia de ```83.1%``` aproximadamente."
   ]
  },
  {
   "cell_type": "markdown",
   "metadata": {},
   "source": [
    "### Plotando dados"
   ]
  },
  {
   "cell_type": "markdown",
   "metadata": {},
   "source": [
    "Com a ajuda de códigos encontrados no github de um dos alunos deste curso, vamos plotar a fronteira de decisão obtida."
   ]
  },
  {
   "cell_type": "code",
   "execution_count": 49,
   "metadata": {
    "ExecuteTime": {
     "end_time": "2019-04-09T19:26:52.425664Z",
     "start_time": "2019-04-09T19:26:52.414695Z"
    }
   },
   "outputs": [],
   "source": [
    "def mapFeature(X1, X2):\n",
    "    degrees = 6\n",
    "    out = np.ones((X1.shape[0], 1))\n",
    "    \n",
    "    for i in range(1, degrees+1):\n",
    "        for j in range(0, i+1):\n",
    "            term1 = X1 ** (i - j)\n",
    "            term2 = X2 ** (j)\n",
    "            term = (term1 * term2).reshape((term1.shape[0], 1))\n",
    "            out = np.hstack((out, term))\n",
    "    return out"
   ]
  },
  {
   "cell_type": "code",
   "execution_count": 50,
   "metadata": {
    "ExecuteTime": {
     "end_time": "2019-04-09T19:26:53.333772Z",
     "start_time": "2019-04-09T19:26:52.884869Z"
    }
   },
   "outputs": [],
   "source": [
    "u = np.linspace(-1, 1.5, 50)\n",
    "v = np.linspace(-1, 1.5, 50)\n",
    "z = np.zeros((len(u), len(v)))\n",
    "\n",
    "for i in range(len(u)):\n",
    "    for j in range(len(v)):\n",
    "        mapped = mapFeature(np.array([u[i]]), np.array([v[j]]))\n",
    "        z[i, j] = mapped.dot(best_theta)\n",
    "z = z.transpose()\n",
    "u, v = np.meshgrid(u, v)"
   ]
  },
  {
   "cell_type": "code",
   "execution_count": 51,
   "metadata": {
    "ExecuteTime": {
     "end_time": "2019-04-09T19:26:54.063662Z",
     "start_time": "2019-04-09T19:26:54.058675Z"
    }
   },
   "outputs": [
    {
     "data": {
      "text/plain": [
       "(50, 50)"
      ]
     },
     "execution_count": 51,
     "metadata": {},
     "output_type": "execute_result"
    }
   ],
   "source": [
    "u.shape"
   ]
  },
  {
   "cell_type": "code",
   "execution_count": 52,
   "metadata": {
    "ExecuteTime": {
     "end_time": "2019-04-09T19:26:55.325455Z",
     "start_time": "2019-04-09T19:26:55.320469Z"
    }
   },
   "outputs": [
    {
     "data": {
      "text/plain": [
       "(50, 50)"
      ]
     },
     "execution_count": 52,
     "metadata": {},
     "output_type": "execute_result"
    }
   ],
   "source": [
    "v.shape"
   ]
  },
  {
   "cell_type": "code",
   "execution_count": 53,
   "metadata": {
    "ExecuteTime": {
     "end_time": "2019-04-09T19:26:55.599723Z",
     "start_time": "2019-04-09T19:26:55.537886Z"
    }
   },
   "outputs": [
    {
     "data": {
      "text/plain": [
       "(50, 50)"
      ]
     },
     "execution_count": 53,
     "metadata": {},
     "output_type": "execute_result"
    }
   ],
   "source": [
    "z.shape"
   ]
  },
  {
   "cell_type": "code",
   "execution_count": 55,
   "metadata": {
    "ExecuteTime": {
     "end_time": "2019-04-09T19:27:01.749274Z",
     "start_time": "2019-04-09T19:27:00.851741Z"
    }
   },
   "outputs": [
    {
     "ename": "ValueError",
     "evalue": "Contour levels must be increasing",
     "output_type": "error",
     "traceback": [
      "\u001b[1;31m---------------------------------------------------------------------------\u001b[0m",
      "\u001b[1;31mValueError\u001b[0m                                Traceback (most recent call last)",
      "\u001b[1;32m<ipython-input-55-268218a3c938>\u001b[0m in \u001b[0;36m<module>\u001b[1;34m()\u001b[0m\n\u001b[0;32m      2\u001b[0m \u001b[0mplt\u001b[0m\u001b[1;33m.\u001b[0m\u001b[0mscatter\u001b[0m\u001b[1;33m(\u001b[0m\u001b[0mpositive_class\u001b[0m\u001b[1;33m[\u001b[0m\u001b[1;33m:\u001b[0m\u001b[1;33m,\u001b[0m \u001b[1;36m0\u001b[0m\u001b[1;33m]\u001b[0m\u001b[1;33m,\u001b[0m \u001b[0mpositive_class\u001b[0m\u001b[1;33m[\u001b[0m\u001b[1;33m:\u001b[0m\u001b[1;33m,\u001b[0m \u001b[1;36m1\u001b[0m\u001b[1;33m]\u001b[0m\u001b[1;33m,\u001b[0m \u001b[0mmarker\u001b[0m\u001b[1;33m=\u001b[0m\u001b[1;34m'x'\u001b[0m\u001b[1;33m,\u001b[0m \u001b[0mc\u001b[0m\u001b[1;33m=\u001b[0m\u001b[1;34m'r'\u001b[0m\u001b[1;33m)\u001b[0m\u001b[1;33m\u001b[0m\u001b[0m\n\u001b[0;32m      3\u001b[0m \u001b[0mplt\u001b[0m\u001b[1;33m.\u001b[0m\u001b[0mscatter\u001b[0m\u001b[1;33m(\u001b[0m\u001b[0mnegative_class\u001b[0m\u001b[1;33m[\u001b[0m\u001b[1;33m:\u001b[0m\u001b[1;33m,\u001b[0m \u001b[1;36m0\u001b[0m\u001b[1;33m]\u001b[0m\u001b[1;33m,\u001b[0m \u001b[0mnegative_class\u001b[0m\u001b[1;33m[\u001b[0m\u001b[1;33m:\u001b[0m\u001b[1;33m,\u001b[0m \u001b[1;36m1\u001b[0m\u001b[1;33m]\u001b[0m\u001b[1;33m,\u001b[0m \u001b[0mmarker\u001b[0m\u001b[1;33m=\u001b[0m\u001b[1;34m'x'\u001b[0m\u001b[1;33m,\u001b[0m \u001b[0mc\u001b[0m\u001b[1;33m=\u001b[0m\u001b[1;34m'k'\u001b[0m\u001b[1;33m)\u001b[0m\u001b[1;33m\u001b[0m\u001b[0m\n\u001b[1;32m----> 4\u001b[1;33m \u001b[0mplt\u001b[0m\u001b[1;33m.\u001b[0m\u001b[0mcontour\u001b[0m\u001b[1;33m(\u001b[0m\u001b[0mu\u001b[0m\u001b[1;33m,\u001b[0m \u001b[0mv\u001b[0m\u001b[1;33m,\u001b[0m \u001b[0mz\u001b[0m\u001b[1;33m,\u001b[0m \u001b[1;33m[\u001b[0m\u001b[1;36m0\u001b[0m\u001b[1;33m,\u001b[0m \u001b[1;36m0\u001b[0m\u001b[1;33m]\u001b[0m\u001b[1;33m)\u001b[0m\u001b[1;33m\u001b[0m\u001b[0m\n\u001b[0m\u001b[0;32m      5\u001b[0m \u001b[0mplt\u001b[0m\u001b[1;33m.\u001b[0m\u001b[0mtitle\u001b[0m\u001b[1;33m(\u001b[0m\u001b[1;34m'QA Microchips - Testes Realizados'\u001b[0m\u001b[1;33m,\u001b[0m \u001b[0msize\u001b[0m\u001b[1;33m=\u001b[0m\u001b[1;36m15\u001b[0m\u001b[1;33m)\u001b[0m\u001b[1;33m\u001b[0m\u001b[0m\n\u001b[0;32m      6\u001b[0m \u001b[0mplt\u001b[0m\u001b[1;33m.\u001b[0m\u001b[0mxlabel\u001b[0m\u001b[1;33m(\u001b[0m\u001b[1;34m'Teste 1'\u001b[0m\u001b[1;33m,\u001b[0m \u001b[0msize\u001b[0m\u001b[1;33m=\u001b[0m\u001b[1;36m12\u001b[0m\u001b[1;33m,\u001b[0m \u001b[0mlabelpad\u001b[0m\u001b[1;33m=\u001b[0m\u001b[1;36m10\u001b[0m\u001b[1;33m)\u001b[0m\u001b[1;33m\u001b[0m\u001b[0m\n",
      "\u001b[1;32m~\\Anaconda3\\lib\\site-packages\\matplotlib\\pyplot.py\u001b[0m in \u001b[0;36mcontour\u001b[1;34m(*args, **kwargs)\u001b[0m\n\u001b[0;32m   2795\u001b[0m                       mplDeprecation)\n\u001b[0;32m   2796\u001b[0m     \u001b[1;32mtry\u001b[0m\u001b[1;33m:\u001b[0m\u001b[1;33m\u001b[0m\u001b[0m\n\u001b[1;32m-> 2797\u001b[1;33m         \u001b[0mret\u001b[0m \u001b[1;33m=\u001b[0m \u001b[0max\u001b[0m\u001b[1;33m.\u001b[0m\u001b[0mcontour\u001b[0m\u001b[1;33m(\u001b[0m\u001b[1;33m*\u001b[0m\u001b[0margs\u001b[0m\u001b[1;33m,\u001b[0m \u001b[1;33m**\u001b[0m\u001b[0mkwargs\u001b[0m\u001b[1;33m)\u001b[0m\u001b[1;33m\u001b[0m\u001b[0m\n\u001b[0m\u001b[0;32m   2798\u001b[0m     \u001b[1;32mfinally\u001b[0m\u001b[1;33m:\u001b[0m\u001b[1;33m\u001b[0m\u001b[0m\n\u001b[0;32m   2799\u001b[0m         \u001b[0max\u001b[0m\u001b[1;33m.\u001b[0m\u001b[0m_hold\u001b[0m \u001b[1;33m=\u001b[0m \u001b[0mwashold\u001b[0m\u001b[1;33m\u001b[0m\u001b[0m\n",
      "\u001b[1;32m~\\Anaconda3\\lib\\site-packages\\matplotlib\\__init__.py\u001b[0m in \u001b[0;36minner\u001b[1;34m(ax, *args, **kwargs)\u001b[0m\n\u001b[0;32m   1715\u001b[0m                     warnings.warn(msg % (label_namer, func.__name__),\n\u001b[0;32m   1716\u001b[0m                                   RuntimeWarning, stacklevel=2)\n\u001b[1;32m-> 1717\u001b[1;33m             \u001b[1;32mreturn\u001b[0m \u001b[0mfunc\u001b[0m\u001b[1;33m(\u001b[0m\u001b[0max\u001b[0m\u001b[1;33m,\u001b[0m \u001b[1;33m*\u001b[0m\u001b[0margs\u001b[0m\u001b[1;33m,\u001b[0m \u001b[1;33m**\u001b[0m\u001b[0mkwargs\u001b[0m\u001b[1;33m)\u001b[0m\u001b[1;33m\u001b[0m\u001b[0m\n\u001b[0m\u001b[0;32m   1718\u001b[0m         \u001b[0mpre_doc\u001b[0m \u001b[1;33m=\u001b[0m \u001b[0minner\u001b[0m\u001b[1;33m.\u001b[0m\u001b[0m__doc__\u001b[0m\u001b[1;33m\u001b[0m\u001b[0m\n\u001b[0;32m   1719\u001b[0m         \u001b[1;32mif\u001b[0m \u001b[0mpre_doc\u001b[0m \u001b[1;32mis\u001b[0m \u001b[1;32mNone\u001b[0m\u001b[1;33m:\u001b[0m\u001b[1;33m\u001b[0m\u001b[0m\n",
      "\u001b[1;32m~\\Anaconda3\\lib\\site-packages\\matplotlib\\axes\\_axes.py\u001b[0m in \u001b[0;36mcontour\u001b[1;34m(self, *args, **kwargs)\u001b[0m\n\u001b[0;32m   5815\u001b[0m             \u001b[0mself\u001b[0m\u001b[1;33m.\u001b[0m\u001b[0mcla\u001b[0m\u001b[1;33m(\u001b[0m\u001b[1;33m)\u001b[0m\u001b[1;33m\u001b[0m\u001b[0m\n\u001b[0;32m   5816\u001b[0m         \u001b[0mkwargs\u001b[0m\u001b[1;33m[\u001b[0m\u001b[1;34m'filled'\u001b[0m\u001b[1;33m]\u001b[0m \u001b[1;33m=\u001b[0m \u001b[1;32mFalse\u001b[0m\u001b[1;33m\u001b[0m\u001b[0m\n\u001b[1;32m-> 5817\u001b[1;33m         \u001b[0mcontours\u001b[0m \u001b[1;33m=\u001b[0m \u001b[0mmcontour\u001b[0m\u001b[1;33m.\u001b[0m\u001b[0mQuadContourSet\u001b[0m\u001b[1;33m(\u001b[0m\u001b[0mself\u001b[0m\u001b[1;33m,\u001b[0m \u001b[1;33m*\u001b[0m\u001b[0margs\u001b[0m\u001b[1;33m,\u001b[0m \u001b[1;33m**\u001b[0m\u001b[0mkwargs\u001b[0m\u001b[1;33m)\u001b[0m\u001b[1;33m\u001b[0m\u001b[0m\n\u001b[0m\u001b[0;32m   5818\u001b[0m         \u001b[0mself\u001b[0m\u001b[1;33m.\u001b[0m\u001b[0mautoscale_view\u001b[0m\u001b[1;33m(\u001b[0m\u001b[1;33m)\u001b[0m\u001b[1;33m\u001b[0m\u001b[0m\n\u001b[0;32m   5819\u001b[0m         \u001b[1;32mreturn\u001b[0m \u001b[0mcontours\u001b[0m\u001b[1;33m\u001b[0m\u001b[0m\n",
      "\u001b[1;32m~\\Anaconda3\\lib\\site-packages\\matplotlib\\contour.py\u001b[0m in \u001b[0;36m__init__\u001b[1;34m(self, ax, *args, **kwargs)\u001b[0m\n\u001b[0;32m    851\u001b[0m         \u001b[0mself\u001b[0m\u001b[1;33m.\u001b[0m\u001b[0m_transform\u001b[0m \u001b[1;33m=\u001b[0m \u001b[0mkwargs\u001b[0m\u001b[1;33m.\u001b[0m\u001b[0mpop\u001b[0m\u001b[1;33m(\u001b[0m\u001b[1;34m'transform'\u001b[0m\u001b[1;33m,\u001b[0m \u001b[1;32mNone\u001b[0m\u001b[1;33m)\u001b[0m\u001b[1;33m\u001b[0m\u001b[0m\n\u001b[0;32m    852\u001b[0m \u001b[1;33m\u001b[0m\u001b[0m\n\u001b[1;32m--> 853\u001b[1;33m         \u001b[0mkwargs\u001b[0m \u001b[1;33m=\u001b[0m \u001b[0mself\u001b[0m\u001b[1;33m.\u001b[0m\u001b[0m_process_args\u001b[0m\u001b[1;33m(\u001b[0m\u001b[1;33m*\u001b[0m\u001b[0margs\u001b[0m\u001b[1;33m,\u001b[0m \u001b[1;33m**\u001b[0m\u001b[0mkwargs\u001b[0m\u001b[1;33m)\u001b[0m\u001b[1;33m\u001b[0m\u001b[0m\n\u001b[0m\u001b[0;32m    854\u001b[0m         \u001b[0mself\u001b[0m\u001b[1;33m.\u001b[0m\u001b[0m_process_levels\u001b[0m\u001b[1;33m(\u001b[0m\u001b[1;33m)\u001b[0m\u001b[1;33m\u001b[0m\u001b[0m\n\u001b[0;32m    855\u001b[0m \u001b[1;33m\u001b[0m\u001b[0m\n",
      "\u001b[1;32m~\\Anaconda3\\lib\\site-packages\\matplotlib\\contour.py\u001b[0m in \u001b[0;36m_process_args\u001b[1;34m(self, *args, **kwargs)\u001b[0m\n\u001b[0;32m   1445\u001b[0m                 \u001b[0mself\u001b[0m\u001b[1;33m.\u001b[0m\u001b[0m_corner_mask\u001b[0m \u001b[1;33m=\u001b[0m \u001b[0mmpl\u001b[0m\u001b[1;33m.\u001b[0m\u001b[0mrcParams\u001b[0m\u001b[1;33m[\u001b[0m\u001b[1;34m'contour.corner_mask'\u001b[0m\u001b[1;33m]\u001b[0m\u001b[1;33m\u001b[0m\u001b[0m\n\u001b[0;32m   1446\u001b[0m \u001b[1;33m\u001b[0m\u001b[0m\n\u001b[1;32m-> 1447\u001b[1;33m             \u001b[0mx\u001b[0m\u001b[1;33m,\u001b[0m \u001b[0my\u001b[0m\u001b[1;33m,\u001b[0m \u001b[0mz\u001b[0m \u001b[1;33m=\u001b[0m \u001b[0mself\u001b[0m\u001b[1;33m.\u001b[0m\u001b[0m_contour_args\u001b[0m\u001b[1;33m(\u001b[0m\u001b[0margs\u001b[0m\u001b[1;33m,\u001b[0m \u001b[0mkwargs\u001b[0m\u001b[1;33m)\u001b[0m\u001b[1;33m\u001b[0m\u001b[0m\n\u001b[0m\u001b[0;32m   1448\u001b[0m \u001b[1;33m\u001b[0m\u001b[0m\n\u001b[0;32m   1449\u001b[0m             \u001b[0m_mask\u001b[0m \u001b[1;33m=\u001b[0m \u001b[0mma\u001b[0m\u001b[1;33m.\u001b[0m\u001b[0mgetmask\u001b[0m\u001b[1;33m(\u001b[0m\u001b[0mz\u001b[0m\u001b[1;33m)\u001b[0m\u001b[1;33m\u001b[0m\u001b[0m\n",
      "\u001b[1;32m~\\Anaconda3\\lib\\site-packages\\matplotlib\\contour.py\u001b[0m in \u001b[0;36m_contour_args\u001b[1;34m(self, args, kwargs)\u001b[0m\n\u001b[0;32m   1538\u001b[0m             \u001b[0mwarnings\u001b[0m\u001b[1;33m.\u001b[0m\u001b[0mwarn\u001b[0m\u001b[1;33m(\u001b[0m\u001b[1;34m'Log scale: values of z <= 0 have been masked'\u001b[0m\u001b[1;33m)\u001b[0m\u001b[1;33m\u001b[0m\u001b[0m\n\u001b[0;32m   1539\u001b[0m             \u001b[0mself\u001b[0m\u001b[1;33m.\u001b[0m\u001b[0mzmin\u001b[0m \u001b[1;33m=\u001b[0m \u001b[0mfloat\u001b[0m\u001b[1;33m(\u001b[0m\u001b[0mz\u001b[0m\u001b[1;33m.\u001b[0m\u001b[0mmin\u001b[0m\u001b[1;33m(\u001b[0m\u001b[1;33m)\u001b[0m\u001b[1;33m)\u001b[0m\u001b[1;33m\u001b[0m\u001b[0m\n\u001b[1;32m-> 1540\u001b[1;33m         \u001b[0mself\u001b[0m\u001b[1;33m.\u001b[0m\u001b[0m_contour_level_args\u001b[0m\u001b[1;33m(\u001b[0m\u001b[0mz\u001b[0m\u001b[1;33m,\u001b[0m \u001b[0margs\u001b[0m\u001b[1;33m)\u001b[0m\u001b[1;33m\u001b[0m\u001b[0m\n\u001b[0m\u001b[0;32m   1541\u001b[0m         \u001b[1;32mreturn\u001b[0m \u001b[1;33m(\u001b[0m\u001b[0mx\u001b[0m\u001b[1;33m,\u001b[0m \u001b[0my\u001b[0m\u001b[1;33m,\u001b[0m \u001b[0mz\u001b[0m\u001b[1;33m)\u001b[0m\u001b[1;33m\u001b[0m\u001b[0m\n\u001b[0;32m   1542\u001b[0m \u001b[1;33m\u001b[0m\u001b[0m\n",
      "\u001b[1;32m~\\Anaconda3\\lib\\site-packages\\matplotlib\\contour.py\u001b[0m in \u001b[0;36m_contour_level_args\u001b[1;34m(self, z, args)\u001b[0m\n\u001b[0;32m   1188\u001b[0m                 \u001b[0mwarnings\u001b[0m\u001b[1;33m.\u001b[0m\u001b[0mwarn\u001b[0m\u001b[1;33m(\u001b[0m\u001b[1;34m\"Contour levels are not increasing\"\u001b[0m\u001b[1;33m)\u001b[0m\u001b[1;33m\u001b[0m\u001b[0m\n\u001b[0;32m   1189\u001b[0m             \u001b[1;32melse\u001b[0m\u001b[1;33m:\u001b[0m\u001b[1;33m\u001b[0m\u001b[0m\n\u001b[1;32m-> 1190\u001b[1;33m                 \u001b[1;32mraise\u001b[0m \u001b[0mValueError\u001b[0m\u001b[1;33m(\u001b[0m\u001b[1;34m\"Contour levels must be increasing\"\u001b[0m\u001b[1;33m)\u001b[0m\u001b[1;33m\u001b[0m\u001b[0m\n\u001b[0m\u001b[0;32m   1191\u001b[0m \u001b[1;33m\u001b[0m\u001b[0m\n\u001b[0;32m   1192\u001b[0m     \u001b[1;33m@\u001b[0m\u001b[0mproperty\u001b[0m\u001b[1;33m\u001b[0m\u001b[0m\n",
      "\u001b[1;31mValueError\u001b[0m: Contour levels must be increasing"
     ]
    },
    {
     "data": {
      "image/png": "[encoded data removed]",
      "text/plain": [
       "<matplotlib.figure.Figure at 0x141fd0dc2b0>"
      ]
     },
     "metadata": {
      "needs_background": "light"
     },
     "output_type": "display_data"
    }
   ],
   "source": [
    "fig = plt.figure(figsize=(7, 5))\n",
    "plt.scatter(positive_class[:, 0], positive_class[:, 1], marker='x', c='r')\n",
    "plt.scatter(negative_class[:, 0], negative_class[:, 1], marker='x', c='k')\n",
    "plt.contour(u, v, z, [0, 0])\n",
    "plt.title('QA Microchips - Testes Realizados', size=15)\n",
    "plt.xlabel('Teste 1', size=12, labelpad=10)\n",
    "plt.ylabel('Teste 1', size=12, labelpad=10)\n",
    "plt.legend(['Aprovados', 'Reprovados', 'Fronteira de Decisão'])\n",
    "plt.show()"
   ]
  },
  {
   "cell_type": "markdown",
   "metadata": {},
   "source": [
    "Vamos tentar na raça. A equação que temos é dada por:\n",
    "\n",
    "\\begin{equation*}\n",
    "    h_\\theta(x)=\\theta_0+\\theta_1x_1+\\theta_2x_2+\\theta_3x_1^{2}+\\theta_4x_1x_2+\\theta_5x_2^{2}\n",
    "    + ... + \\theta_{26}x_1x_2^{5}+\\theta_{27}x_2^{6}\n",
    "\\end{equation*}\n",
    "\n",
    "Para tal, com os parâmetros em mãos, precisamos utilizar o mapeamento de features utilizado no começo do problema."
   ]
  },
  {
   "cell_type": "code",
   "execution_count": 56,
   "metadata": {
    "ExecuteTime": {
     "end_time": "2019-04-09T19:27:11.936466Z",
     "start_time": "2019-04-09T19:27:11.928487Z"
    }
   },
   "outputs": [
    {
     "data": {
      "text/plain": [
       "array([-1.        , -0.94897959, -0.89795918, -0.84693878, -0.79591837,\n",
       "       -0.74489796, -0.69387755, -0.64285714, -0.59183673, -0.54081633,\n",
       "       -0.48979592, -0.43877551, -0.3877551 , -0.33673469, -0.28571429,\n",
       "       -0.23469388, -0.18367347, -0.13265306, -0.08163265, -0.03061224,\n",
       "        0.02040816,  0.07142857,  0.12244898,  0.17346939,  0.2244898 ,\n",
       "        0.2755102 ,  0.32653061,  0.37755102,  0.42857143,  0.47959184,\n",
       "        0.53061224,  0.58163265,  0.63265306,  0.68367347,  0.73469388,\n",
       "        0.78571429,  0.83673469,  0.8877551 ,  0.93877551,  0.98979592,\n",
       "        1.04081633,  1.09183673,  1.14285714,  1.19387755,  1.24489796,\n",
       "        1.29591837,  1.34693878,  1.39795918,  1.44897959,  1.5       ])"
      ]
     },
     "execution_count": 56,
     "metadata": {},
     "output_type": "execute_result"
    }
   ],
   "source": [
    "# Criando vetor teste\n",
    "u = np.linspace(-1, 1.5, 50) # Limites mínimos e máximos\n",
    "u"
   ]
  },
  {
   "cell_type": "code",
   "execution_count": 57,
   "metadata": {
    "ExecuteTime": {
     "end_time": "2019-04-09T19:27:13.659016Z",
     "start_time": "2019-04-09T19:27:13.653032Z"
    }
   },
   "outputs": [
    {
     "name": "stdout",
     "output_type": "stream",
     "text": [
      "Help on function contour in module matplotlib.pyplot:\n",
      "\n",
      "contour(*args, **kwargs)\n",
      "    Plot contours.\n",
      "    \n",
      "    :func:`~matplotlib.pyplot.contour` and\n",
      "    :func:`~matplotlib.pyplot.contourf` draw contour lines and\n",
      "    filled contours, respectively.  Except as noted, function\n",
      "    signatures and return values are the same for both versions.\n",
      "    \n",
      "    :func:`~matplotlib.pyplot.contourf` differs from the MATLAB\n",
      "    version in that it does not draw the polygon edges.\n",
      "    To draw edges, add line contours with\n",
      "    calls to :func:`~matplotlib.pyplot.contour`.\n",
      "    \n",
      "    \n",
      "    Call signatures::\n",
      "    \n",
      "      contour(Z)\n",
      "    \n",
      "    make a contour plot of an array *Z*. The level values are chosen\n",
      "    automatically.\n",
      "    \n",
      "    ::\n",
      "    \n",
      "      contour(X,Y,Z)\n",
      "    \n",
      "    *X*, *Y* specify the (x, y) coordinates of the surface\n",
      "    \n",
      "    ::\n",
      "    \n",
      "      contour(Z,N)\n",
      "      contour(X,Y,Z,N)\n",
      "    \n",
      "    contour up to *N* automatically-chosen levels.\n",
      "    \n",
      "    ::\n",
      "    \n",
      "      contour(Z,V)\n",
      "      contour(X,Y,Z,V)\n",
      "    \n",
      "    draw contour lines at the values specified in sequence *V*,\n",
      "    which must be in increasing order.\n",
      "    \n",
      "    ::\n",
      "    \n",
      "      contourf(..., V)\n",
      "    \n",
      "    fill the ``len(V)-1`` regions between the values in *V*,\n",
      "    which must be in increasing order.\n",
      "    \n",
      "    ::\n",
      "    \n",
      "      contour(Z, **kwargs)\n",
      "    \n",
      "    Use keyword args to control colors, linewidth, origin, cmap ... see\n",
      "    below for more details.\n",
      "    \n",
      "    *X* and *Y* must both be 2-D with the same shape as *Z*, or they\n",
      "    must both be 1-D such that ``len(X)`` is the number of columns in\n",
      "    *Z* and ``len(Y)`` is the number of rows in *Z*.\n",
      "    \n",
      "    ``C = contour(...)`` returns a\n",
      "    :class:`~matplotlib.contour.QuadContourSet` object.\n",
      "    \n",
      "    Optional keyword arguments:\n",
      "    \n",
      "      *corner_mask*: [ *True* | *False* | 'legacy' ]\n",
      "        Enable/disable corner masking, which only has an effect if *Z* is\n",
      "        a masked array.  If *False*, any quad touching a masked point is\n",
      "        masked out.  If *True*, only the triangular corners of quads\n",
      "        nearest those points are always masked out, other triangular\n",
      "        corners comprising three unmasked points are contoured as usual.\n",
      "        If 'legacy', the old contouring algorithm is used, which is\n",
      "        equivalent to *False* and is deprecated, only remaining whilst the\n",
      "        new algorithm is tested fully.\n",
      "    \n",
      "        If not specified, the default is taken from\n",
      "        rcParams['contour.corner_mask'], which is True unless it has\n",
      "        been modified.\n",
      "    \n",
      "      *colors*: [ *None* | string | (mpl_colors) ]\n",
      "        If *None*, the colormap specified by cmap will be used.\n",
      "    \n",
      "        If a string, like 'r' or 'red', all levels will be plotted in this\n",
      "        color.\n",
      "    \n",
      "        If a tuple of matplotlib color args (string, float, rgb, etc),\n",
      "        different levels will be plotted in different colors in the order\n",
      "        specified.\n",
      "    \n",
      "      *alpha*: float\n",
      "        The alpha blending value\n",
      "    \n",
      "      *cmap*: [ *None* | Colormap ]\n",
      "        A cm :class:`~matplotlib.colors.Colormap` instance or\n",
      "        *None*. If *cmap* is *None* and *colors* is *None*, a\n",
      "        default Colormap is used.\n",
      "    \n",
      "      *norm*: [ *None* | Normalize ]\n",
      "        A :class:`matplotlib.colors.Normalize` instance for\n",
      "        scaling data values to colors. If *norm* is *None* and\n",
      "        *colors* is *None*, the default linear scaling is used.\n",
      "    \n",
      "      *vmin*, *vmax*: [ *None* | scalar ]\n",
      "        If not *None*, either or both of these values will be\n",
      "        supplied to the :class:`matplotlib.colors.Normalize`\n",
      "        instance, overriding the default color scaling based on\n",
      "        *levels*.\n",
      "    \n",
      "      *levels*: [level0, level1, ..., leveln]\n",
      "        A list of floating point numbers indicating the level\n",
      "        curves to draw, in increasing order; e.g., to draw just\n",
      "        the zero contour pass ``levels=[0]``\n",
      "    \n",
      "      *origin*: [ *None* | 'upper' | 'lower' | 'image' ]\n",
      "        If *None*, the first value of *Z* will correspond to the\n",
      "        lower left corner, location (0,0). If 'image', the rc\n",
      "        value for ``image.origin`` will be used.\n",
      "    \n",
      "        This keyword is not active if *X* and *Y* are specified in\n",
      "        the call to contour.\n",
      "    \n",
      "      *extent*: [ *None* | (x0,x1,y0,y1) ]\n",
      "    \n",
      "        If *origin* is not *None*, then *extent* is interpreted as\n",
      "        in :func:`matplotlib.pyplot.imshow`: it gives the outer\n",
      "        pixel boundaries. In this case, the position of Z[0,0]\n",
      "        is the center of the pixel, not a corner. If *origin* is\n",
      "        *None*, then (*x0*, *y0*) is the position of Z[0,0], and\n",
      "        (*x1*, *y1*) is the position of Z[-1,-1].\n",
      "    \n",
      "        This keyword is not active if *X* and *Y* are specified in\n",
      "        the call to contour.\n",
      "    \n",
      "      *locator*: [ *None* | ticker.Locator subclass ]\n",
      "        If *locator* is *None*, the default\n",
      "        :class:`~matplotlib.ticker.MaxNLocator` is used. The\n",
      "        locator is used to determine the contour levels if they\n",
      "        are not given explicitly via the *V* argument.\n",
      "    \n",
      "      *extend*: [ 'neither' | 'both' | 'min' | 'max' ]\n",
      "        Unless this is 'neither', contour levels are automatically\n",
      "        added to one or both ends of the range so that all data\n",
      "        are included. These added ranges are then mapped to the\n",
      "        special colormap values which default to the ends of the\n",
      "        colormap range, but can be set via\n",
      "        :meth:`matplotlib.colors.Colormap.set_under` and\n",
      "        :meth:`matplotlib.colors.Colormap.set_over` methods.\n",
      "    \n",
      "      *xunits*, *yunits*: [ *None* | registered units ]\n",
      "        Override axis units by specifying an instance of a\n",
      "        :class:`matplotlib.units.ConversionInterface`.\n",
      "    \n",
      "      *antialiased*: [ *True* | *False* ]\n",
      "        enable antialiasing, overriding the defaults.  For\n",
      "        filled contours, the default is *True*.  For line contours,\n",
      "        it is taken from rcParams['lines.antialiased'].\n",
      "    \n",
      "      *nchunk*: [ 0 | integer ]\n",
      "        If 0, no subdivision of the domain.  Specify a positive integer to\n",
      "        divide the domain into subdomains of *nchunk* by *nchunk* quads.\n",
      "        Chunking reduces the maximum length of polygons generated by the\n",
      "        contouring algorithm which reduces the rendering workload passed\n",
      "        on to the backend and also requires slightly less RAM.  It can\n",
      "        however introduce rendering artifacts at chunk boundaries depending\n",
      "        on the backend, the *antialiased* flag and value of *alpha*.\n",
      "    \n",
      "    contour-only keyword arguments:\n",
      "    \n",
      "      *linewidths*: [ *None* | number | tuple of numbers ]\n",
      "        If *linewidths* is *None*, the default width in\n",
      "        ``lines.linewidth`` in ``matplotlibrc`` is used.\n",
      "    \n",
      "        If a number, all levels will be plotted with this linewidth.\n",
      "    \n",
      "        If a tuple, different levels will be plotted with different\n",
      "        linewidths in the order specified.\n",
      "    \n",
      "      *linestyles*: [ *None* | 'solid' | 'dashed' | 'dashdot' | 'dotted' ]\n",
      "        If *linestyles* is *None*, the default is 'solid' unless\n",
      "        the lines are monochrome.  In that case, negative\n",
      "        contours will take their linestyle from the ``matplotlibrc``\n",
      "        ``contour.negative_linestyle`` setting.\n",
      "    \n",
      "        *linestyles* can also be an iterable of the above strings\n",
      "        specifying a set of linestyles to be used. If this\n",
      "        iterable is shorter than the number of contour levels\n",
      "        it will be repeated as necessary.\n",
      "    \n",
      "    contourf-only keyword arguments:\n",
      "    \n",
      "      *hatches*:\n",
      "        A list of cross hatch patterns to use on the filled areas.\n",
      "        If None, no hatching will be added to the contour.\n",
      "        Hatching is supported in the PostScript, PDF, SVG and Agg\n",
      "        backends only.\n",
      "    \n",
      "    \n",
      "    Note: contourf fills intervals that are closed at the top; that\n",
      "    is, for boundaries *z1* and *z2*, the filled region is::\n",
      "    \n",
      "        z1 < z <= z2\n",
      "    \n",
      "    There is one exception: if the lowest boundary coincides with\n",
      "    the minimum value of the *z* array, then that minimum value\n",
      "    will be included in the lowest interval.\n",
      "\n"
     ]
    }
   ],
   "source": [
    "# Ajuda em plots de contorno\n",
    "help(plt.contour)"
   ]
  },
  {
   "cell_type": "code",
   "execution_count": 58,
   "metadata": {
    "ExecuteTime": {
     "end_time": "2019-04-09T19:27:14.094648Z",
     "start_time": "2019-04-09T19:27:13.828564Z"
    }
   },
   "outputs": [],
   "source": [
    "h = .02  # step size in the mesh\n",
    "# create a mesh to plot in\n",
    "x_min, x_max = X[:, 0].min() - 1, X[:, 0].max() + 1\n",
    "y_min, y_max = X[:, 1].min() - 1, X[:, 1].max() + 1\n",
    "xx, yy = np.meshgrid(np.arange(x_min, x_max, h),\n",
    "                     np.arange(y_min, y_max, h))"
   ]
  },
  {
   "cell_type": "code",
   "execution_count": 79,
   "metadata": {
    "ExecuteTime": {
     "end_time": "2019-04-09T19:28:56.616616Z",
     "start_time": "2019-04-09T19:28:56.610632Z"
    }
   },
   "outputs": [
    {
     "data": {
      "text/plain": [
       "-1.83007"
      ]
     },
     "execution_count": 79,
     "metadata": {},
     "output_type": "execute_result"
    }
   ],
   "source": [
    "y_min"
   ]
  },
  {
   "cell_type": "code",
   "execution_count": 80,
   "metadata": {
    "ExecuteTime": {
     "end_time": "2019-04-09T19:29:04.297000Z",
     "start_time": "2019-04-09T19:29:04.292014Z"
    }
   },
   "outputs": [],
   "source": [
    "xx = np.linspace(x_min - 1, x_max, 50)\n",
    "yy = np.linspace(y_min, y_max, 50)"
   ]
  },
  {
   "cell_type": "code",
   "execution_count": 81,
   "metadata": {
    "ExecuteTime": {
     "end_time": "2019-04-09T19:29:05.777292Z",
     "start_time": "2019-04-09T19:29:05.289531Z"
    }
   },
   "outputs": [],
   "source": [
    "for i in range(len(xx)):\n",
    "    for j in range(len(yy)):\n",
    "        mapped = mapFeature(np.array([xx[i]]), np.array([yy[j]]))\n",
    "        z[i, j] = mapped.dot(best_theta)\n",
    "z = z.transpose()\n",
    "xx, yy = np.meshgrid(xx, yy)"
   ]
  },
  {
   "cell_type": "code",
   "execution_count": 82,
   "metadata": {
    "ExecuteTime": {
     "end_time": "2019-04-09T19:29:06.006613Z",
     "start_time": "2019-04-09T19:29:06.001625Z"
    }
   },
   "outputs": [
    {
     "data": {
      "text/plain": [
       "(50, 50)"
      ]
     },
     "execution_count": 82,
     "metadata": {},
     "output_type": "execute_result"
    }
   ],
   "source": [
    "xx.shape"
   ]
  },
  {
   "cell_type": "code",
   "execution_count": 83,
   "metadata": {
    "ExecuteTime": {
     "end_time": "2019-04-09T19:29:06.579079Z",
     "start_time": "2019-04-09T19:29:06.573124Z"
    }
   },
   "outputs": [
    {
     "data": {
      "text/plain": [
       "(50, 50)"
      ]
     },
     "execution_count": 83,
     "metadata": {},
     "output_type": "execute_result"
    }
   ],
   "source": [
    "yy.shape"
   ]
  },
  {
   "cell_type": "code",
   "execution_count": 84,
   "metadata": {
    "ExecuteTime": {
     "end_time": "2019-04-09T19:29:07.015926Z",
     "start_time": "2019-04-09T19:29:06.827395Z"
    }
   },
   "outputs": [
    {
     "data": {
      "text/plain": [
       "(50, 50)"
      ]
     },
     "execution_count": 84,
     "metadata": {},
     "output_type": "execute_result"
    }
   ],
   "source": [
    "z.shape"
   ]
  },
  {
   "cell_type": "code",
   "execution_count": 85,
   "metadata": {
    "ExecuteTime": {
     "end_time": "2019-04-09T19:29:07.420622Z",
     "start_time": "2019-04-09T19:29:07.022892Z"
    }
   },
   "outputs": [
    {
     "data": {
      "text/plain": [
       "(2500,)"
      ]
     },
     "execution_count": 85,
     "metadata": {},
     "output_type": "execute_result"
    }
   ],
   "source": [
    "xx.ravel().shape"
   ]
  },
  {
   "cell_type": "code",
   "execution_count": 86,
   "metadata": {
    "ExecuteTime": {
     "end_time": "2019-04-09T19:29:07.758149Z",
     "start_time": "2019-04-09T19:29:07.750176Z"
    }
   },
   "outputs": [],
   "source": [
    "poly = PolynomialFeatures(6)\n",
    "X_test = poly.fit_transform(np.c_[xx.ravel(), yy.ravel()])"
   ]
  },
  {
   "cell_type": "code",
   "execution_count": 87,
   "metadata": {
    "ExecuteTime": {
     "end_time": "2019-04-09T19:29:08.396853Z",
     "start_time": "2019-04-09T19:29:08.388719Z"
    }
   },
   "outputs": [
    {
     "data": {
      "text/plain": [
       "(2500, 28)"
      ]
     },
     "execution_count": 87,
     "metadata": {},
     "output_type": "execute_result"
    }
   ],
   "source": [
    "# Verificando\n",
    "X_test.shape"
   ]
  },
  {
   "cell_type": "code",
   "execution_count": 88,
   "metadata": {
    "ExecuteTime": {
     "end_time": "2019-04-09T19:29:08.775684Z",
     "start_time": "2019-04-09T19:29:08.754739Z"
    }
   },
   "outputs": [
    {
     "data": {
      "text/plain": [
       "(118, 28)"
      ]
     },
     "execution_count": 88,
     "metadata": {},
     "output_type": "execute_result"
    }
   ],
   "source": [
    "# Original\n",
    "X.shape"
   ]
  },
  {
   "cell_type": "code",
   "execution_count": 89,
   "metadata": {
    "ExecuteTime": {
     "end_time": "2019-04-09T19:29:09.169065Z",
     "start_time": "2019-04-09T19:29:09.161085Z"
    }
   },
   "outputs": [],
   "source": [
    "# Calculando Z\n",
    "Z = sigmoid(X_test.dot(best_theta))\n",
    "Z = Z.reshape(xx.shape)"
   ]
  },
  {
   "cell_type": "code",
   "execution_count": 90,
   "metadata": {
    "ExecuteTime": {
     "end_time": "2019-04-09T19:29:09.857967Z",
     "start_time": "2019-04-09T19:29:09.852981Z"
    }
   },
   "outputs": [
    {
     "data": {
      "text/plain": [
       "(50, 50)"
      ]
     },
     "execution_count": 90,
     "metadata": {},
     "output_type": "execute_result"
    }
   ],
   "source": [
    "Z.shape"
   ]
  },
  {
   "cell_type": "code",
   "execution_count": 91,
   "metadata": {
    "ExecuteTime": {
     "end_time": "2019-04-09T19:29:10.197180Z",
     "start_time": "2019-04-09T19:29:10.192183Z"
    }
   },
   "outputs": [
    {
     "data": {
      "text/plain": [
       "(50, 50)"
      ]
     },
     "execution_count": 91,
     "metadata": {},
     "output_type": "execute_result"
    }
   ],
   "source": [
    "xx.shape"
   ]
  },
  {
   "cell_type": "code",
   "execution_count": 92,
   "metadata": {
    "ExecuteTime": {
     "end_time": "2019-04-09T19:29:10.552508Z",
     "start_time": "2019-04-09T19:29:10.545527Z"
    }
   },
   "outputs": [
    {
     "data": {
      "text/plain": [
       "(50, 50)"
      ]
     },
     "execution_count": 92,
     "metadata": {},
     "output_type": "execute_result"
    }
   ],
   "source": [
    "yy.shape"
   ]
  },
  {
   "cell_type": "code",
   "execution_count": 112,
   "metadata": {
    "ExecuteTime": {
     "end_time": "2019-04-09T19:36:58.978780Z",
     "start_time": "2019-04-09T19:36:58.770487Z"
    }
   },
   "outputs": [
    {
     "data": {
      "image/png": "[encoded data removed]",
      "text/plain": [
       "<matplotlib.figure.Figure at 0x141fdca3390>"
      ]
     },
     "metadata": {
      "needs_background": "light"
     },
     "output_type": "display_data"
    }
   ],
   "source": [
    "levels = 0\n",
    "fig = plt.figure(figsize=(7, 5))\n",
    "plt.scatter(positive_class[:, 0], positive_class[:, 1], marker='x', c='r')\n",
    "plt.scatter(negative_class[:, 0], negative_class[:, 1], marker='x', c='k')\n",
    "plt.contour(xx, yy, Z, levels)\n",
    "plt.title('QA Microchips - Testes Realizados', size=15)\n",
    "plt.xlabel('Teste 1', size=12, labelpad=10)\n",
    "plt.ylabel('Teste 2', size=12, labelpad=10)\n",
    "plt.xlim((-1, 1.5))\n",
    "plt.ylim((-1, 1.5))\n",
    "plt.legend(['Aprovados', 'Reprovados', 'Fronteira de Decisão'])\n",
    "plt.show()"
   ]
  },
  {
   "cell_type": "markdown",
   "metadata": {},
   "source": [
    "Provavelmente, seremos mais bem sucedidos nas análises via ```scikit-learn```"
   ]
  },
  {
   "cell_type": "markdown",
   "metadata": {},
   "source": [
    "## Scikit-Learn"
   ]
  },
  {
   "cell_type": "markdown",
   "metadata": {},
   "source": [
    "Após a implementação do algoritmo via NumPy, vamos utilizar as facilidades do scikit-learn para buscar uma performance igual ou melhor."
   ]
  },
  {
   "cell_type": "code",
   "execution_count": 115,
   "metadata": {
    "ExecuteTime": {
     "end_time": "2019-04-09T19:43:12.836778Z",
     "start_time": "2019-04-09T19:43:12.821819Z"
    }
   },
   "outputs": [
    {
     "data": {
      "text/html": [
       "<div>\n",
       "<style scoped>\n",
       "    .dataframe tbody tr th:only-of-type {\n",
       "        vertical-align: middle;\n",
       "    }\n",
       "\n",
       "    .dataframe tbody tr th {\n",
       "        vertical-align: top;\n",
       "    }\n",
       "\n",
       "    .dataframe thead th {\n",
       "        text-align: right;\n",
       "    }\n",
       "</style>\n",
       "<table border=\"1\" class=\"dataframe\">\n",
       "  <thead>\n",
       "    <tr style=\"text-align: right;\">\n",
       "      <th></th>\n",
       "      <th>teste1</th>\n",
       "      <th>teste2</th>\n",
       "      <th>passQA</th>\n",
       "    </tr>\n",
       "  </thead>\n",
       "  <tbody>\n",
       "    <tr>\n",
       "      <th>0</th>\n",
       "      <td>0.051267</td>\n",
       "      <td>0.69956</td>\n",
       "      <td>1</td>\n",
       "    </tr>\n",
       "    <tr>\n",
       "      <th>1</th>\n",
       "      <td>-0.092742</td>\n",
       "      <td>0.68494</td>\n",
       "      <td>1</td>\n",
       "    </tr>\n",
       "    <tr>\n",
       "      <th>2</th>\n",
       "      <td>-0.213710</td>\n",
       "      <td>0.69225</td>\n",
       "      <td>1</td>\n",
       "    </tr>\n",
       "    <tr>\n",
       "      <th>3</th>\n",
       "      <td>-0.375000</td>\n",
       "      <td>0.50219</td>\n",
       "      <td>1</td>\n",
       "    </tr>\n",
       "    <tr>\n",
       "      <th>4</th>\n",
       "      <td>-0.513250</td>\n",
       "      <td>0.46564</td>\n",
       "      <td>1</td>\n",
       "    </tr>\n",
       "  </tbody>\n",
       "</table>\n",
       "</div>"
      ],
      "text/plain": [
       "     teste1   teste2  passQA\n",
       "0  0.051267  0.69956       1\n",
       "1 -0.092742  0.68494       1\n",
       "2 -0.213710  0.69225       1\n",
       "3 -0.375000  0.50219       1\n",
       "4 -0.513250  0.46564       1"
      ]
     },
     "execution_count": 115,
     "metadata": {},
     "output_type": "execute_result"
    }
   ],
   "source": [
    "# Importando pandas\n",
    "import pandas as pd\n",
    "\n",
    "df = pd.read_csv('ex2data2.txt', names=['teste1', 'teste2', 'passQA'])\n",
    "df.head()"
   ]
  },
  {
   "cell_type": "code",
   "execution_count": 116,
   "metadata": {
    "ExecuteTime": {
     "end_time": "2019-04-09T19:43:25.149734Z",
     "start_time": "2019-04-09T19:43:25.144748Z"
    }
   },
   "outputs": [
    {
     "data": {
      "text/plain": [
       "(118, 3)"
      ]
     },
     "execution_count": 116,
     "metadata": {},
     "output_type": "execute_result"
    }
   ],
   "source": [
    "# Dimensões\n",
    "df.shape"
   ]
  },
  {
   "cell_type": "code",
   "execution_count": 117,
   "metadata": {
    "ExecuteTime": {
     "end_time": "2019-04-09T19:43:29.402721Z",
     "start_time": "2019-04-09T19:43:29.281074Z"
    }
   },
   "outputs": [
    {
     "name": "stdout",
     "output_type": "stream",
     "text": [
      "<class 'pandas.core.frame.DataFrame'>\n",
      "RangeIndex: 118 entries, 0 to 117\n",
      "Data columns (total 3 columns):\n",
      "teste1    118 non-null float64\n",
      "teste2    118 non-null float64\n",
      "passQA    118 non-null int64\n",
      "dtypes: float64(2), int64(1)\n",
      "memory usage: 2.8 KB\n"
     ]
    }
   ],
   "source": [
    "# Infos\n",
    "df.info()"
   ]
  },
  {
   "cell_type": "code",
   "execution_count": 118,
   "metadata": {
    "ExecuteTime": {
     "end_time": "2019-04-09T19:43:42.064169Z",
     "start_time": "2019-04-09T19:43:41.875673Z"
    }
   },
   "outputs": [
    {
     "data": {
      "text/html": [
       "<div>\n",
       "<style scoped>\n",
       "    .dataframe tbody tr th:only-of-type {\n",
       "        vertical-align: middle;\n",
       "    }\n",
       "\n",
       "    .dataframe tbody tr th {\n",
       "        vertical-align: top;\n",
       "    }\n",
       "\n",
       "    .dataframe thead th {\n",
       "        text-align: right;\n",
       "    }\n",
       "</style>\n",
       "<table border=\"1\" class=\"dataframe\">\n",
       "  <thead>\n",
       "    <tr style=\"text-align: right;\">\n",
       "      <th></th>\n",
       "      <th>teste1</th>\n",
       "      <th>teste2</th>\n",
       "      <th>passQA</th>\n",
       "    </tr>\n",
       "  </thead>\n",
       "  <tbody>\n",
       "    <tr>\n",
       "      <th>count</th>\n",
       "      <td>118.000000</td>\n",
       "      <td>118.000000</td>\n",
       "      <td>118.000000</td>\n",
       "    </tr>\n",
       "    <tr>\n",
       "      <th>mean</th>\n",
       "      <td>0.054779</td>\n",
       "      <td>0.183102</td>\n",
       "      <td>0.491525</td>\n",
       "    </tr>\n",
       "    <tr>\n",
       "      <th>std</th>\n",
       "      <td>0.496654</td>\n",
       "      <td>0.519743</td>\n",
       "      <td>0.502060</td>\n",
       "    </tr>\n",
       "    <tr>\n",
       "      <th>min</th>\n",
       "      <td>-0.830070</td>\n",
       "      <td>-0.769740</td>\n",
       "      <td>0.000000</td>\n",
       "    </tr>\n",
       "    <tr>\n",
       "      <th>25%</th>\n",
       "      <td>-0.372120</td>\n",
       "      <td>-0.254385</td>\n",
       "      <td>0.000000</td>\n",
       "    </tr>\n",
       "    <tr>\n",
       "      <th>50%</th>\n",
       "      <td>-0.006336</td>\n",
       "      <td>0.213455</td>\n",
       "      <td>0.000000</td>\n",
       "    </tr>\n",
       "    <tr>\n",
       "      <th>75%</th>\n",
       "      <td>0.478970</td>\n",
       "      <td>0.646562</td>\n",
       "      <td>1.000000</td>\n",
       "    </tr>\n",
       "    <tr>\n",
       "      <th>max</th>\n",
       "      <td>1.070900</td>\n",
       "      <td>1.108900</td>\n",
       "      <td>1.000000</td>\n",
       "    </tr>\n",
       "  </tbody>\n",
       "</table>\n",
       "</div>"
      ],
      "text/plain": [
       "           teste1      teste2      passQA\n",
       "count  118.000000  118.000000  118.000000\n",
       "mean     0.054779    0.183102    0.491525\n",
       "std      0.496654    0.519743    0.502060\n",
       "min     -0.830070   -0.769740    0.000000\n",
       "25%     -0.372120   -0.254385    0.000000\n",
       "50%     -0.006336    0.213455    0.000000\n",
       "75%      0.478970    0.646562    1.000000\n",
       "max      1.070900    1.108900    1.000000"
      ]
     },
     "execution_count": 118,
     "metadata": {},
     "output_type": "execute_result"
    }
   ],
   "source": [
    "# Estatistica\n",
    "df.describe()"
   ]
  },
  {
   "cell_type": "code",
   "execution_count": 119,
   "metadata": {
    "ExecuteTime": {
     "end_time": "2019-04-09T19:44:54.329250Z",
     "start_time": "2019-04-09T19:44:54.323269Z"
    }
   },
   "outputs": [
    {
     "name": "stdout",
     "output_type": "stream",
     "text": [
      "Shape X: (118, 2)\n",
      "Shape y: (118,)\n"
     ]
    }
   ],
   "source": [
    "# Separando dados\n",
    "X = df.iloc[:, :2]\n",
    "y = df.iloc[:, -1]\n",
    "\n",
    "# Testando X e y\n",
    "print(f'Shape X: {X.shape}')\n",
    "print(f'Shape y: {y.shape}')"
   ]
  },
  {
   "cell_type": "code",
   "execution_count": 120,
   "metadata": {
    "ExecuteTime": {
     "end_time": "2019-04-09T19:50:56.413840Z",
     "start_time": "2019-04-09T19:50:56.382921Z"
    }
   },
   "outputs": [],
   "source": [
    "# Plotando dados\n",
    "import matplotlib.pyplot as plt\n",
    "%matplotlib inline\n",
    "\n",
    "def plot(df):\n",
    "    \"\"\"Função responsável por plotar os dados em formato de gráfico de dispersão\n",
    "    Input:\n",
    "        df: dataframe\"\"\"\n",
    "    \n",
    "    # Separando dados em aprovados e reprovados\n",
    "    aprovados = df[df.iloc[:, 2] == 1]\n",
    "    reprovados = df[df.iloc[:, 2] == 0]\n",
    "    \n",
    "    # Configurando plotagem\n",
    "    fig = plt.figure(figsize=(9, 6))\n",
    "    plt.scatter(aprovados.iloc[:, 0], aprovados.iloc[:, 1], \n",
    "                marker='x', c='b', label='Aprovados')\n",
    "    plt.scatter(reprovados.iloc[:, 0], reprovados.iloc[:, 1], \n",
    "                marker='o', c='y', label='Reprovados')\n",
    "    plt.title('QA Microchips', size=15)\n",
    "    plt.xlabel('Teste 1', size=12, labelpad=10)\n",
    "    plt.ylabel('Teste 2', size=12, labelpad=10)\n",
    "    plt.legend()\n",
    "    plt.show()"
   ]
  },
  {
   "cell_type": "code",
   "execution_count": 121,
   "metadata": {
    "ExecuteTime": {
     "end_time": "2019-04-09T19:51:03.160237Z",
     "start_time": "2019-04-09T19:51:02.829123Z"
    }
   },
   "outputs": [
    {
     "data": {
      "image/png": "[encoded data removed]",
      "text/plain": [
       "<matplotlib.figure.Figure at 0x141ffabc400>"
      ]
     },
     "metadata": {
      "needs_background": "light"
     },
     "output_type": "display_data"
    }
   ],
   "source": [
    "# Chamando função de plotagem\n",
    "plot(df)"
   ]
  },
  {
   "cell_type": "code",
   "execution_count": 144,
   "metadata": {
    "ExecuteTime": {
     "end_time": "2019-04-09T20:04:03.535184Z",
     "start_time": "2019-04-09T20:04:03.490304Z"
    }
   },
   "outputs": [],
   "source": [
    "# Customizando plotagem\n",
    "def customPlot(df):\n",
    "    \"\"\"Função para plotagem customizada dos dados em um gráfico de dispersão\n",
    "    Input:\n",
    "        df: dataframe\"\"\"\n",
    "    \n",
    "    # Separando dados em aprovados e reprovados\n",
    "    aprovados = df[df.iloc[:, 2] == 1]\n",
    "    reprovados = df[df.iloc[:, 2] == 0]\n",
    "    \n",
    "    # Configurando plotagem\n",
    "    fig, ax = plt.subplots(figsize=(9, 6))\n",
    "    ax.scatter(aprovados.iloc[:, 0], aprovados.iloc[:, 1], \n",
    "                marker='x', c='b', label='Aprovados', alpha=.7)\n",
    "    ax.scatter(reprovados.iloc[:, 0], reprovados.iloc[:, 1], \n",
    "                marker='o', c='y', label='Reprovados', alpha=.7)\n",
    "    ax.set_title('QA Microchips', size=15)\n",
    "    ax.set_xlabel('Teste 1', size=12, labelpad=10)\n",
    "    ax.set_ylabel('Teste 2', size=12, labelpad=10)\n",
    "    \n",
    "    # Removendo bordas\n",
    "    ax.spines['top'].set_visible(False)\n",
    "    ax.spines['right'].set_visible(False)\n",
    "    \n",
    "    # Adicionando grid\n",
    "    ax.grid(color='gray', linestyle='--', linewidth='.25', alpha=.3)\n",
    "    \n",
    "    plt.legend()\n",
    "    plt.show()"
   ]
  },
  {
   "cell_type": "code",
   "execution_count": 145,
   "metadata": {
    "ExecuteTime": {
     "end_time": "2019-04-09T20:04:03.887242Z",
     "start_time": "2019-04-09T20:04:03.684785Z"
    }
   },
   "outputs": [
    {
     "data": {
      "image/png": "[encoded data removed]",
      "text/plain": [
       "<matplotlib.figure.Figure at 0x14182e2e8d0>"
      ]
     },
     "metadata": {
      "needs_background": "light"
     },
     "output_type": "display_data"
    }
   ],
   "source": [
    "customPlot(df)"
   ]
  },
  {
   "cell_type": "markdown",
   "metadata": {},
   "source": [
    "### Treinando um Modelo"
   ]
  },
  {
   "cell_type": "code",
   "execution_count": 153,
   "metadata": {
    "ExecuteTime": {
     "end_time": "2019-04-09T20:08:49.121066Z",
     "start_time": "2019-04-09T20:08:49.106141Z"
    }
   },
   "outputs": [
    {
     "name": "stdout",
     "output_type": "stream",
     "text": [
      "Acurácia: 0.5423728813559322\n"
     ]
    }
   ],
   "source": [
    "# Importando Classificador\n",
    "from sklearn.linear_model import LogisticRegression\n",
    "\n",
    "# Criando classificador sem nenhum hiperparâmetro pré configurado\n",
    "clf = LogisticRegression()\n",
    "\n",
    "# Treinando modelo\n",
    "clf.fit(X, y)\n",
    "\n",
    "# Predizendo \n",
    "predictions = clf.predict(X)\n",
    "\n",
    "# Avaliando score\n",
    "score = clf.score(X, y)\n",
    "print(f'Acurácia: {score}')"
   ]
  },
  {
   "cell_type": "markdown",
   "metadata": {
    "ExecuteTime": {
     "end_time": "2019-04-09T20:08:28.161097Z",
     "start_time": "2019-04-09T20:08:28.155112Z"
    }
   },
   "source": [
    "Tivemos uma performance muito aquém do esperado."
   ]
  },
  {
   "cell_type": "markdown",
   "metadata": {},
   "source": [
    "### Investigando o Modelo"
   ]
  },
  {
   "cell_type": "code",
   "execution_count": 154,
   "metadata": {
    "ExecuteTime": {
     "end_time": "2019-04-09T20:13:18.750094Z",
     "start_time": "2019-04-09T20:13:18.744111Z"
    }
   },
   "outputs": [
    {
     "data": {
      "text/plain": [
       "LogisticRegression(C=1.0, class_weight=None, dual=False, fit_intercept=True,\n",
       "          intercept_scaling=1, max_iter=100, multi_class='ovr', n_jobs=1,\n",
       "          penalty='l2', random_state=None, solver='liblinear', tol=0.0001,\n",
       "          verbose=0, warm_start=False)"
      ]
     },
     "execution_count": 154,
     "metadata": {},
     "output_type": "execute_result"
    }
   ],
   "source": [
    "# Parâmetros default\n",
    "clf"
   ]
  },
  {
   "cell_type": "code",
   "execution_count": 155,
   "metadata": {
    "ExecuteTime": {
     "end_time": "2019-04-09T20:14:37.713532Z",
     "start_time": "2019-04-09T20:14:37.707546Z"
    }
   },
   "outputs": [
    {
     "data": {
      "text/plain": [
       "array([-0.01675951])"
      ]
     },
     "execution_count": 155,
     "metadata": {},
     "output_type": "execute_result"
    }
   ],
   "source": [
    "clf.intercept_"
   ]
  },
  {
   "cell_type": "code",
   "execution_count": 167,
   "metadata": {
    "ExecuteTime": {
     "end_time": "2019-04-09T20:16:09.334397Z",
     "start_time": "2019-04-09T20:16:09.329412Z"
    }
   },
   "outputs": [
    {
     "data": {
      "text/plain": [
       "array([-0.26556762, -0.01198618])"
      ]
     },
     "execution_count": 167,
     "metadata": {},
     "output_type": "execute_result"
    }
   ],
   "source": [
    "clf.coef_[0]"
   ]
  },
  {
   "cell_type": "code",
   "execution_count": 166,
   "metadata": {
    "ExecuteTime": {
     "end_time": "2019-04-09T20:16:04.899257Z",
     "start_time": "2019-04-09T20:16:04.893276Z"
    }
   },
   "outputs": [
    {
     "data": {
      "text/plain": [
       "array([-0.01675951, -0.26556762, -0.01198618])"
      ]
     },
     "execution_count": 166,
     "metadata": {},
     "output_type": "execute_result"
    }
   ],
   "source": [
    "np.append(clf.intercept_, clf.coef_[0])"
   ]
  },
  {
   "cell_type": "code",
   "execution_count": 168,
   "metadata": {
    "ExecuteTime": {
     "end_time": "2019-04-09T20:16:34.531947Z",
     "start_time": "2019-04-09T20:16:34.526961Z"
    }
   },
   "outputs": [],
   "source": [
    "# Verificando parâmetros\n",
    "def findParams(clf):\n",
    "    \"\"\"Função para retornar, em formato de array, os parâmetros relacionados\n",
    "    ao treinamento de Regressão Logística com scikit-learn\n",
    "    Input:\n",
    "        clf: classificador utilizado\n",
    "    Output:\n",
    "        theta_clf: parâmetros do modelo em formato ndarray\"\"\"\n",
    "    return np.append(clf.intercept_, clf.coef_[0])"
   ]
  },
  {
   "cell_type": "code",
   "execution_count": 169,
   "metadata": {
    "ExecuteTime": {
     "end_time": "2019-04-09T20:16:42.164036Z",
     "start_time": "2019-04-09T20:16:42.158050Z"
    }
   },
   "outputs": [
    {
     "data": {
      "text/plain": [
       "array([-0.01675951, -0.26556762, -0.01198618])"
      ]
     },
     "execution_count": 169,
     "metadata": {},
     "output_type": "execute_result"
    }
   ],
   "source": [
    "# Verificando parâmetros\n",
    "findParams(clf)"
   ]
  },
  {
   "cell_type": "code",
   "execution_count": 170,
   "metadata": {
    "ExecuteTime": {
     "end_time": "2019-04-09T20:16:51.990851Z",
     "start_time": "2019-04-09T20:16:51.984868Z"
    }
   },
   "outputs": [
    {
     "data": {
      "text/plain": [
       "array([ 1.14216767,  0.60159662,  1.16719539, -1.87133836, -0.91585481,\n",
       "       -1.27009658,  0.12635729, -0.36845912, -0.34493712, -0.17359468,\n",
       "       -1.42386113, -0.04897014, -0.60654097, -0.26932561, -1.16298461,\n",
       "       -0.24354141, -0.20689062, -0.0433884 , -0.28027313, -0.28676042,\n",
       "       -0.46905386, -1.03650761,  0.02900044, -0.29266117,  0.01716365,\n",
       "       -0.32900564, -0.13798811, -0.93193372])"
      ]
     },
     "execution_count": 170,
     "metadata": {},
     "output_type": "execute_result"
    }
   ],
   "source": [
    "# Parâmetros antigos\n",
    "best_theta"
   ]
  },
  {
   "cell_type": "markdown",
   "metadata": {},
   "source": [
    "Ta aí uma coisa que foi esquecida por completo! Nossos dados foram aplicados a um processo de ```feature mapping``` para elevar o grau polinomial até 6, visando acompanhar o comportamento não linear da nossa possível fronteira de decisão. Precisamos realizar o mesmo procedimento aqui!"
   ]
  },
  {
   "cell_type": "markdown",
   "metadata": {},
   "source": [
    "### Feature Mapping"
   ]
  },
  {
   "cell_type": "code",
   "execution_count": 172,
   "metadata": {
    "ExecuteTime": {
     "end_time": "2019-04-09T20:18:44.037369Z",
     "start_time": "2019-04-09T20:18:44.028364Z"
    }
   },
   "outputs": [
    {
     "data": {
      "text/plain": [
       "(118, 28)"
      ]
     },
     "execution_count": 172,
     "metadata": {},
     "output_type": "execute_result"
    }
   ],
   "source": [
    "# Aplicando feature mapping\n",
    "poly = PolynomialFeatures(6)\n",
    "X_poly = poly.fit_transform(X)\n",
    "\n",
    "# Verificando\n",
    "X_poly.shape"
   ]
  },
  {
   "cell_type": "markdown",
   "metadata": {},
   "source": [
    "### Retreinando o Modelo"
   ]
  },
  {
   "cell_type": "code",
   "execution_count": 175,
   "metadata": {
    "ExecuteTime": {
     "end_time": "2019-04-09T20:20:18.756920Z",
     "start_time": "2019-04-09T20:20:18.748973Z"
    }
   },
   "outputs": [
    {
     "name": "stdout",
     "output_type": "stream",
     "text": [
      "Acurácia: 0.8305084745762712\n"
     ]
    }
   ],
   "source": [
    "# Novo classificador\n",
    "clf = LogisticRegression()\n",
    "\n",
    "clf.fit(X_poly, y)\n",
    "\n",
    "# Score\n",
    "print(f'Acurácia: {clf.score(X_poly, y)}')"
   ]
  },
  {
   "cell_type": "markdown",
   "metadata": {},
   "source": [
    "Perfeito! Uma acurácia semelhante ao encontrado em Octave e superior ao enquadro via NumPy!"
   ]
  },
  {
   "cell_type": "code",
   "execution_count": 227,
   "metadata": {
    "ExecuteTime": {
     "end_time": "2019-04-09T21:06:11.264644Z",
     "start_time": "2019-04-09T21:06:11.256666Z"
    }
   },
   "outputs": [
    {
     "data": {
      "text/plain": [
       "array([ 0.60181257,  0.60181257,  0.61262932,  1.17369724, -1.94159987,\n",
       "       -0.91652206, -1.34600069,  0.12538359, -0.3671774 , -0.35087379,\n",
       "       -0.17439841, -1.43997026, -0.04973447, -0.6106624 , -0.27187562,\n",
       "       -1.17708203, -0.24264323, -0.2065488 , -0.04393776, -0.27907087,\n",
       "       -0.2909125 , -0.46305003, -1.03941697,  0.02853522, -0.29251337,\n",
       "        0.01648987, -0.32818075, -0.14074991, -0.92845357])"
      ]
     },
     "execution_count": 227,
     "metadata": {},
     "output_type": "execute_result"
    }
   ],
   "source": [
    "# Parâmetros\n",
    "best_theta_log = findParams(clf)\n",
    "best_theta_log"
   ]
  },
  {
   "cell_type": "code",
   "execution_count": 228,
   "metadata": {
    "ExecuteTime": {
     "end_time": "2019-04-09T21:06:18.528988Z",
     "start_time": "2019-04-09T21:06:18.523005Z"
    }
   },
   "outputs": [
    {
     "data": {
      "text/plain": [
       "array([ 1.14216767,  0.60159662,  1.16719539, -1.87133836, -0.91585481,\n",
       "       -1.27009658,  0.12635729, -0.36845912, -0.34493712, -0.17359468,\n",
       "       -1.42386113, -0.04897014, -0.60654097, -0.26932561, -1.16298461,\n",
       "       -0.24354141, -0.20689062, -0.0433884 , -0.28027313, -0.28676042,\n",
       "       -0.46905386, -1.03650761,  0.02900044, -0.29266117,  0.01716365,\n",
       "       -0.32900564, -0.13798811, -0.93193372])"
      ]
     },
     "execution_count": 228,
     "metadata": {},
     "output_type": "execute_result"
    }
   ],
   "source": [
    "# Comparando\n",
    "best_theta"
   ]
  },
  {
   "cell_type": "code",
   "execution_count": 177,
   "metadata": {
    "ExecuteTime": {
     "end_time": "2019-04-09T20:24:54.435445Z",
     "start_time": "2019-04-09T20:24:54.427465Z"
    }
   },
   "outputs": [
    {
     "name": "stdout",
     "output_type": "stream",
     "text": [
      "             precision    recall  f1-score   support\n",
      "\n",
      "          0       0.90      0.75      0.82        60\n",
      "          1       0.78      0.91      0.84        58\n",
      "\n",
      "avg / total       0.84      0.83      0.83       118\n",
      "\n"
     ]
    }
   ],
   "source": [
    "# Report\n",
    "from sklearn.metrics import classification_report\n",
    "\n",
    "predictions = clf.predict(X_poly)\n",
    "print(classification_report(y, predictions))"
   ]
  },
  {
   "cell_type": "code",
   "execution_count": 179,
   "metadata": {
    "ExecuteTime": {
     "end_time": "2019-04-09T20:25:41.748692Z",
     "start_time": "2019-04-09T20:25:41.741724Z"
    }
   },
   "outputs": [
    {
     "name": "stdout",
     "output_type": "stream",
     "text": [
      "[[45 15]\n",
      " [ 5 53]]\n"
     ]
    }
   ],
   "source": [
    "# Matriz de confusão\n",
    "from sklearn.metrics import confusion_matrix\n",
    "\n",
    "conf_m = confusion_matrix(y, predictions)\n",
    "print(conf_m)"
   ]
  },
  {
   "cell_type": "markdown",
   "metadata": {},
   "source": [
    "    - Dissemos que 45 amostras não passaram no QA (corretamente - TN)\n",
    "    - Dissemos que 53 amostras passaram no QA (corretamente - TP)\n",
    "\n",
    "    - Dissemos que 5 amostras não passaram (incorretamente - FN)\n",
    "    - Dissemos que 15 amostras passaram no QA (incorretamente - FP)"
   ]
  },
  {
   "cell_type": "markdown",
   "metadata": {},
   "source": [
    "### Plotando Dados"
   ]
  },
  {
   "cell_type": "code",
   "execution_count": 192,
   "metadata": {
    "ExecuteTime": {
     "end_time": "2019-04-09T20:38:49.315360Z",
     "start_time": "2019-04-09T20:38:49.299438Z"
    }
   },
   "outputs": [
    {
     "name": "stdout",
     "output_type": "stream",
     "text": [
      "x1_min: -1.83007\n",
      "x1_max: 2.0709\n",
      "\n",
      "x2_min: -1.76974\n",
      "x2_max: 2.1089\n"
     ]
    }
   ],
   "source": [
    "# Levantando limites\n",
    "x1_min = X.iloc[:, 0].min() - 1\n",
    "x1_max = X.iloc[:, 0].max() + 1\n",
    "x2_min = X.iloc[:, 1].min() - 1\n",
    "x2_max = X.iloc[:, 1].max() + 1\n",
    "\n",
    "# Verificando\n",
    "print(f'x1_min: {x1_min}')\n",
    "print(f'x1_max: {x1_max}')\n",
    "print(f'\\nx2_min: {x2_min}')\n",
    "print(f'x2_max: {x2_max}')"
   ]
  },
  {
   "cell_type": "code",
   "execution_count": 197,
   "metadata": {
    "ExecuteTime": {
     "end_time": "2019-04-09T20:41:16.344493Z",
     "start_time": "2019-04-09T20:41:16.335548Z"
    }
   },
   "outputs": [
    {
     "name": "stdout",
     "output_type": "stream",
     "text": [
      "Shape x1: (50,)\n",
      "Shape x2: (50,)\n",
      "\n",
      "Shape X original: (118, 2)\n",
      "Shape X polinomial: (118, 28)\n"
     ]
    }
   ],
   "source": [
    "# Transformando em arrays\n",
    "qtd_pontos = 50\n",
    "x1 = np.linspace(x1_min, x1_max, qtd_pontos)\n",
    "x2 = np.linspace(x2_min, x2_max, qtd_pontos)\n",
    "\n",
    "# Verificando\n",
    "print(f'Shape x1: {x1.shape}')\n",
    "print(f'Shape x2: {x2.shape}')\n",
    "print(f'\\nShape X original: {X.shape}')\n",
    "print(f'Shape X polinomial: {X_poly.shape}')"
   ]
  },
  {
   "cell_type": "markdown",
   "metadata": {},
   "source": [
    "Aplicando procedimentos de acordo com pesquisas."
   ]
  },
  {
   "cell_type": "code",
   "execution_count": 219,
   "metadata": {
    "ExecuteTime": {
     "end_time": "2019-04-09T21:03:02.189221Z",
     "start_time": "2019-04-09T21:03:02.178242Z"
    }
   },
   "outputs": [],
   "source": [
    "# Definindo função manual para mapeamento das features\n",
    "def mapFeature(X1, X2):\n",
    "    degrees = 6\n",
    "    out = np.ones((X1.shape[0], 1))\n",
    "    \n",
    "    for i in range(1, degrees+1):\n",
    "        for j in range(0, i+1):\n",
    "            term1 = X1 ** (i - j)\n",
    "            term2 = X2 ** (j)\n",
    "            term = (term1 * term2).reshape((term1.shape[0], 1))\n",
    "            out = np.hstack((out, term))\n",
    "    return out"
   ]
  },
  {
   "cell_type": "code",
   "execution_count": 282,
   "metadata": {
    "ExecuteTime": {
     "end_time": "2019-04-09T21:20:36.918770Z",
     "start_time": "2019-04-09T21:20:36.345207Z"
    }
   },
   "outputs": [],
   "source": [
    "# Configurando contour plot\n",
    "u = np.linspace(-1, 1.5, 50)\n",
    "v = np.linspace(-1, 1.5, 50)\n",
    "z = np.zeros((len(u), len(v)))\n",
    "\n",
    "for i in range(len(u)):\n",
    "    for j in range(len(v)):\n",
    "        mapped = mapFeature(np.array([u[i]]), np.array([v[j]]))\n",
    "        z[i, j] = mapped.dot(best_theta)\n",
    "z = z.transpose()\n",
    "#u, v = np.meshgrid(u, v)"
   ]
  },
  {
   "cell_type": "code",
   "execution_count": 283,
   "metadata": {
    "ExecuteTime": {
     "end_time": "2019-04-09T21:20:37.089309Z",
     "start_time": "2019-04-09T21:20:36.920760Z"
    }
   },
   "outputs": [
    {
     "data": {
      "image/png": "[encoded data removed]",
      "text/plain": [
       "<matplotlib.figure.Figure at 0x14184c81b70>"
      ]
     },
     "metadata": {
      "needs_background": "light"
     },
     "output_type": "display_data"
    }
   ],
   "source": [
    "fig = plt.figure(figsize=(7, 5))\n",
    "plt.scatter(positive_class[:, 0], positive_class[:, 1], marker='x', c='r')\n",
    "plt.scatter(negative_class[:, 0], negative_class[:, 1], marker='x', c='k')\n",
    "plt.contour(u, v, z, 0)\n",
    "plt.title('QA Microchips - Testes Realizados', size=15)\n",
    "plt.xlabel('Teste 1', size=12, labelpad=10)\n",
    "plt.ylabel('Teste 2', size=12, labelpad=10)\n",
    "plt.legend(['Aprovados', 'Reprovados', 'Fronteira de Decisão'])\n",
    "plt.show()"
   ]
  },
  {
   "cell_type": "code",
   "execution_count": null,
   "metadata": {},
   "outputs": [],
   "source": []
  }
 ],
 "metadata": {
  "kernelspec": {
   "display_name": "Python 3",
   "language": "python",
   "name": "python3"
  },
  "language_info": {
   "codemirror_mode": {
    "name": "ipython",
    "version": 3
   },
   "file_extension": ".py",
   "mimetype": "text/x-python",
   "name": "python",
   "nbconvert_exporter": "python",
   "pygments_lexer": "ipython3",
   "version": "3.6.4"
  },
  "toc": {
   "base_numbering": 1,
   "nav_menu": {},
   "number_sections": true,
   "sideBar": true,
   "skip_h1_title": true,
   "title_cell": "Table of Contents",
   "title_sidebar": "Contents",
   "toc_cell": true,
   "toc_position": {},
   "toc_section_display": true,
   "toc_window_display": true
  }
 },
 "nbformat": 4,
 "nbformat_minor": 2
}
