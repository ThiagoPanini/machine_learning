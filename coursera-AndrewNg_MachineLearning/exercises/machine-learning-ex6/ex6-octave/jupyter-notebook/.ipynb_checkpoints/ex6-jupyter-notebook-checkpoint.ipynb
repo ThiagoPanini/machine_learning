{
 "cells": [
  {
   "cell_type": "markdown",
   "metadata": {
    "toc": true
   },
   "source": [
    "<h1>Table of Contents<span class=\"tocSkip\"></span></h1>\n",
    "<div class=\"toc\"><ul class=\"toc-item\"><li><span><a href=\"#Dataset-1\" data-toc-modified-id=\"Dataset-1-1\"><span class=\"toc-item-num\">1&nbsp;&nbsp;</span>Dataset 1</a></span><ul class=\"toc-item\"><li><span><a href=\"#Lendo-Arquivo\" data-toc-modified-id=\"Lendo-Arquivo-1.1\"><span class=\"toc-item-num\">1.1&nbsp;&nbsp;</span>Lendo Arquivo</a></span></li><li><span><a href=\"#Visualizando-os-Dados\" data-toc-modified-id=\"Visualizando-os-Dados-1.2\"><span class=\"toc-item-num\">1.2&nbsp;&nbsp;</span>Visualizando os Dados</a></span></li><li><span><a href=\"#Treinando-um-Modelo-SVM\" data-toc-modified-id=\"Treinando-um-Modelo-SVM-1.3\"><span class=\"toc-item-num\">1.3&nbsp;&nbsp;</span>Treinando um Modelo SVM</a></span></li><li><span><a href=\"#Gaussian-Kernel\" data-toc-modified-id=\"Gaussian-Kernel-1.4\"><span class=\"toc-item-num\">1.4&nbsp;&nbsp;</span>Gaussian Kernel</a></span></li></ul></li><li><span><a href=\"#Dataset-2\" data-toc-modified-id=\"Dataset-2-2\"><span class=\"toc-item-num\">2&nbsp;&nbsp;</span>Dataset 2</a></span><ul class=\"toc-item\"><li><span><a href=\"#Lendo-Arquivo\" data-toc-modified-id=\"Lendo-Arquivo-2.1\"><span class=\"toc-item-num\">2.1&nbsp;&nbsp;</span>Lendo Arquivo</a></span></li><li><span><a href=\"#Visualizando-Dados\" data-toc-modified-id=\"Visualizando-Dados-2.2\"><span class=\"toc-item-num\">2.2&nbsp;&nbsp;</span>Visualizando Dados</a></span></li><li><span><a href=\"#Treinando-um-Modelo-SVM\" data-toc-modified-id=\"Treinando-um-Modelo-SVM-2.3\"><span class=\"toc-item-num\">2.3&nbsp;&nbsp;</span>Treinando um Modelo SVM</a></span></li></ul></li><li><span><a href=\"#Dataset-3\" data-toc-modified-id=\"Dataset-3-3\"><span class=\"toc-item-num\">3&nbsp;&nbsp;</span>Dataset 3</a></span><ul class=\"toc-item\"><li><span><a href=\"#Lendo-os-Dados\" data-toc-modified-id=\"Lendo-os-Dados-3.1\"><span class=\"toc-item-num\">3.1&nbsp;&nbsp;</span>Lendo os Dados</a></span></li><li><span><a href=\"#Pipeline-para-Melhores-Parâmetros\" data-toc-modified-id=\"Pipeline-para-Melhores-Parâmetros-3.2\"><span class=\"toc-item-num\">3.2&nbsp;&nbsp;</span>Pipeline para Melhores Parâmetros</a></span></li><li><span><a href=\"#Melhores-Parâmetros\" data-toc-modified-id=\"Melhores-Parâmetros-3.3\"><span class=\"toc-item-num\">3.3&nbsp;&nbsp;</span>Melhores Parâmetros</a></span></li></ul></li><li><span><a href=\"#Spam-Classifier\" data-toc-modified-id=\"Spam-Classifier-4\"><span class=\"toc-item-num\">4&nbsp;&nbsp;</span>Spam Classifier</a></span></li></ul></div>"
   ]
  },
  {
   "cell_type": "markdown",
   "metadata": {},
   "source": [
    "# Exercício 6 - SVM"
   ]
  },
  {
   "cell_type": "markdown",
   "metadata": {},
   "source": [
    "Notebook criado para armazenar as implementações utilizadas no exercício 6 do curso Introdução a Machine Learning, de Andrew Ng."
   ]
  },
  {
   "cell_type": "markdown",
   "metadata": {},
   "source": [
    "## Dataset 1"
   ]
  },
  {
   "cell_type": "markdown",
   "metadata": {},
   "source": [
    "### Lendo Arquivo"
   ]
  },
  {
   "cell_type": "code",
   "execution_count": 1,
   "metadata": {
    "ExecuteTime": {
     "end_time": "2019-02-16T13:16:52.908583Z",
     "start_time": "2019-02-16T13:16:52.846779Z"
    }
   },
   "outputs": [],
   "source": [
    "# Lendo arquivo\n",
    "load('ex6data1.mat')"
   ]
  },
  {
   "cell_type": "code",
   "execution_count": 2,
   "metadata": {
    "ExecuteTime": {
     "end_time": "2019-02-16T13:16:52.975504Z",
     "start_time": "2019-02-16T13:16:52.911576Z"
    }
   },
   "outputs": [
    {
     "name": "stdout",
     "output_type": "stream",
     "text": [
      "Dimensões das features X: (51, 2)\n",
      "Dimensões do set de target y: (51, 1)\n"
     ]
    }
   ],
   "source": [
    "# Verificando dados lidos\n",
    "fprintf('Dimensões das features X: (%d, %d)\\n', size(X, 1), size(X, 2))\n",
    "fprintf('Dimensões do set de target y: (%d, %d)\\n', size(y, 1), size(y, 2))"
   ]
  },
  {
   "cell_type": "markdown",
   "metadata": {},
   "source": [
    "### Visualizando os Dados"
   ]
  },
  {
   "cell_type": "code",
   "execution_count": 3,
   "metadata": {
    "ExecuteTime": {
     "end_time": "2019-02-16T13:16:53.154927Z",
     "start_time": "2019-02-16T13:16:52.978470Z"
    }
   },
   "outputs": [],
   "source": [
    "# Criando função para visualizar os dados\n",
    "function plotData(X, y)\n",
    "    % Função responsável pela visualização dos dados\n",
    "    \n",
    "    % Find Indices of Positive and Negative Examples\n",
    "    pos = find(y == 1); neg = find(y == 0);\n",
    "\n",
    "    % Plot Examples\n",
    "    plot(X(pos, 1), X(pos, 2), 'k+','LineWidth', 1, 'MarkerSize', 7)\n",
    "    hold on;\n",
    "    plot(X(neg, 1), X(neg, 2), 'ko', 'MarkerFaceColor', 'y', 'MarkerSize', 7)\n",
    "    hold off;\n",
    "endfunction"
   ]
  },
  {
   "cell_type": "code",
   "execution_count": 4,
   "metadata": {
    "ExecuteTime": {
     "end_time": "2019-02-16T13:16:55.173054Z",
     "start_time": "2019-02-16T13:16:53.157918Z"
    }
   },
   "outputs": [
    {
     "data": {
      "image/png": "[encoded data removed]",
      "text/plain": [
       "<IPython.core.display.Image object>"
      ]
     },
     "metadata": {},
     "output_type": "display_data"
    }
   ],
   "source": [
    "# Visualizando os dados\n",
    "plotData(X, y)"
   ]
  },
  {
   "cell_type": "markdown",
   "metadata": {},
   "source": [
    "Um detalhe extremamente interessante a ser citado é um outlier em um dos exemplos positivos (aproximadamente em (0.1, 0.4)). Com isso, será possível verificar os efeitos do modelo ```SVM``` a partir de seu hiperparâmetro ```C``` que, por sua vez, controla a penalidade de exemplos classificados erroneamente."
   ]
  },
  {
   "cell_type": "markdown",
   "metadata": {},
   "source": [
    "### Treinando um Modelo SVM"
   ]
  },
  {
   "cell_type": "code",
   "execution_count": 5,
   "metadata": {
    "ExecuteTime": {
     "end_time": "2019-02-16T13:16:57.946311Z",
     "start_time": "2019-02-16T13:16:55.190170Z"
    }
   },
   "outputs": [],
   "source": [
    "# Definindo função para treinar modelo SVM\n",
    "function [model] = svmTrain(X, Y, C, kernelFunction, ...\n",
    "                            tol, max_passes)\n",
    "%SVMTRAIN Trains an SVM classifier using a simplified version of the SMO \n",
    "%algorithm. \n",
    "%   [model] = SVMTRAIN(X, Y, C, kernelFunction, tol, max_passes) trains an\n",
    "%   SVM classifier and returns trained model. X is the matrix of training \n",
    "%   examples.  Each row is a training example, and the jth column holds the \n",
    "%   jth feature.  Y is a column matrix containing 1 for positive examples \n",
    "%   and 0 for negative examples.  C is the standard SVM regularization \n",
    "%   parameter.  tol is a tolerance value used for determining equality of \n",
    "%   floating point numbers. max_passes controls the number of iterations\n",
    "%   over the dataset (without changes to alpha) before the algorithm quits.\n",
    "%\n",
    "% Note: This is a simplified version of the SMO algorithm for training\n",
    "%       SVMs. In practice, if you want to train an SVM classifier, we\n",
    "%       recommend using an optimized package such as:  \n",
    "%\n",
    "%           LIBSVM   (http://www.csie.ntu.edu.tw/~cjlin/libsvm/)\n",
    "%           SVMLight (http://svmlight.joachims.org/)\n",
    "%\n",
    "%\n",
    "\n",
    "if ~exist('tol', 'var') || isempty(tol)\n",
    "    tol = 1e-3;\n",
    "end\n",
    "\n",
    "if ~exist('max_passes', 'var') || isempty(max_passes)\n",
    "    max_passes = 5;\n",
    "end\n",
    "\n",
    "% Data parameters\n",
    "m = size(X, 1);\n",
    "n = size(X, 2);\n",
    "\n",
    "% Map 0 to -1\n",
    "Y(Y==0) = -1;\n",
    "\n",
    "% Variables\n",
    "alphas = zeros(m, 1);\n",
    "b = 0;\n",
    "E = zeros(m, 1);\n",
    "passes = 0;\n",
    "eta = 0;\n",
    "L = 0;\n",
    "H = 0;\n",
    "\n",
    "% Pre-compute the Kernel Matrix since our dataset is small\n",
    "% (in practice, optimized SVM packages that handle large datasets\n",
    "%  gracefully will _not_ do this)\n",
    "% \n",
    "% We have implemented optimized vectorized version of the Kernels here so\n",
    "% that the svm training will run faster.\n",
    "if strcmp(func2str(kernelFunction), 'linearKernel')\n",
    "    % Vectorized computation for the Linear Kernel\n",
    "    % This is equivalent to computing the kernel on every pair of examples\n",
    "    K = X*X';\n",
    "elseif strfind(func2str(kernelFunction), 'gaussianKernel')\n",
    "    % Vectorized RBF Kernel\n",
    "    % This is equivalent to computing the kernel on every pair of examples\n",
    "    X2 = sum(X.^2, 2);\n",
    "    K = bsxfun(@plus, X2, bsxfun(@plus, X2', - 2 * (X * X')));\n",
    "    K = kernelFunction(1, 0) .^ K;\n",
    "else\n",
    "    % Pre-compute the Kernel Matrix\n",
    "    % The following can be slow due to the lack of vectorization\n",
    "    K = zeros(m);\n",
    "    for i = 1:m\n",
    "        for j = i:m\n",
    "             K(i,j) = kernelFunction(X(i,:)', X(j,:)');\n",
    "             K(j,i) = K(i,j); %the matrix is symmetric\n",
    "        end\n",
    "    end\n",
    "end\n",
    "\n",
    "% Train\n",
    "fprintf('\\nTraining ...');\n",
    "dots = 12;\n",
    "while passes < max_passes,\n",
    "            \n",
    "    num_changed_alphas = 0;\n",
    "    for i = 1:m,\n",
    "        \n",
    "        % Calculate Ei = f(x(i)) - y(i) using (2). \n",
    "        % E(i) = b + sum (X(i, :) * (repmat(alphas.*Y,1,n).*X)') - Y(i);\n",
    "        E(i) = b + sum (alphas.*Y.*K(:,i)) - Y(i);\n",
    "        \n",
    "        if ((Y(i)*E(i) < -tol && alphas(i) < C) || (Y(i)*E(i) > tol && alphas(i) > 0)),\n",
    "            \n",
    "            % In practice, there are many heuristics one can use to select\n",
    "            % the i and j. In this simplified code, we select them randomly.\n",
    "            j = ceil(m * rand());\n",
    "            while j == i,  % Make sure i \\neq j\n",
    "                j = ceil(m * rand());\n",
    "            end\n",
    "\n",
    "            % Calculate Ej = f(x(j)) - y(j) using (2).\n",
    "            E(j) = b + sum (alphas.*Y.*K(:,j)) - Y(j);\n",
    "\n",
    "            % Save old alphas\n",
    "            alpha_i_old = alphas(i);\n",
    "            alpha_j_old = alphas(j);\n",
    "            \n",
    "            % Compute L and H by (10) or (11). \n",
    "            if (Y(i) == Y(j)),\n",
    "                L = max(0, alphas(j) + alphas(i) - C);\n",
    "                H = min(C, alphas(j) + alphas(i));\n",
    "            else\n",
    "                L = max(0, alphas(j) - alphas(i));\n",
    "                H = min(C, C + alphas(j) - alphas(i));\n",
    "            end\n",
    "           \n",
    "            if (L == H),\n",
    "                % continue to next i. \n",
    "                continue;\n",
    "            end\n",
    "\n",
    "            % Compute eta by (14).\n",
    "            eta = 2 * K(i,j) - K(i,i) - K(j,j);\n",
    "            if (eta >= 0),\n",
    "                % continue to next i. \n",
    "                continue;\n",
    "            end\n",
    "            \n",
    "            % Compute and clip new value for alpha j using (12) and (15).\n",
    "            alphas(j) = alphas(j) - (Y(j) * (E(i) - E(j))) / eta;\n",
    "            \n",
    "            % Clip\n",
    "            alphas(j) = min (H, alphas(j));\n",
    "            alphas(j) = max (L, alphas(j));\n",
    "            \n",
    "            % Check if change in alpha is significant\n",
    "            if (abs(alphas(j) - alpha_j_old) < tol),\n",
    "                % continue to next i. \n",
    "                % replace anyway\n",
    "                alphas(j) = alpha_j_old;\n",
    "                continue;\n",
    "            end\n",
    "            \n",
    "            % Determine value for alpha i using (16). \n",
    "            alphas(i) = alphas(i) + Y(i)*Y(j)*(alpha_j_old - alphas(j));\n",
    "            \n",
    "            % Compute b1 and b2 using (17) and (18) respectively. \n",
    "            b1 = b - E(i) ...\n",
    "                 - Y(i) * (alphas(i) - alpha_i_old) *  K(i,j)' ...\n",
    "                 - Y(j) * (alphas(j) - alpha_j_old) *  K(i,j)';\n",
    "            b2 = b - E(j) ...\n",
    "                 - Y(i) * (alphas(i) - alpha_i_old) *  K(i,j)' ...\n",
    "                 - Y(j) * (alphas(j) - alpha_j_old) *  K(j,j)';\n",
    "\n",
    "            % Compute b by (19). \n",
    "            if (0 < alphas(i) && alphas(i) < C),\n",
    "                b = b1;\n",
    "            elseif (0 < alphas(j) && alphas(j) < C),\n",
    "                b = b2;\n",
    "            else\n",
    "                b = (b1+b2)/2;\n",
    "            end\n",
    "\n",
    "            num_changed_alphas = num_changed_alphas + 1;\n",
    "\n",
    "        end\n",
    "        \n",
    "    end\n",
    "    \n",
    "    if (num_changed_alphas == 0),\n",
    "        passes = passes + 1;\n",
    "    else\n",
    "        passes = 0;\n",
    "    end\n",
    "\n",
    "    fprintf('.');\n",
    "    dots = dots + 1;\n",
    "    if dots > 78\n",
    "        dots = 0;\n",
    "        fprintf('\\n');\n",
    "    end\n",
    "    if exist('OCTAVE_VERSION')\n",
    "        fflush(stdout);\n",
    "    end\n",
    "end\n",
    "fprintf(' Done! \\n\\n');\n",
    "\n",
    "% Save the model\n",
    "idx = alphas > 0;\n",
    "model.X= X(idx,:);\n",
    "model.y= Y(idx);\n",
    "model.kernelFunction = kernelFunction;\n",
    "model.b= b;\n",
    "model.alphas= alphas(idx);\n",
    "model.w = ((alphas.*Y)'*X)';\n",
    "\n",
    "end"
   ]
  },
  {
   "cell_type": "code",
   "execution_count": 6,
   "metadata": {
    "ExecuteTime": {
     "end_time": "2019-02-16T13:16:58.124703Z",
     "start_time": "2019-02-16T13:16:57.949056Z"
    }
   },
   "outputs": [],
   "source": [
    "# Definindo função de Kernel\n",
    "function sim = linearKernel(x1, x2)\n",
    "%LINEARKERNEL returns a linear kernel between x1 and x2\n",
    "%   sim = linearKernel(x1, x2) returns a linear kernel between x1 and x2\n",
    "%   and returns the value in sim\n",
    "\n",
    "% Ensure that x1 and x2 are column vectors\n",
    "x1 = x1(:); x2 = x2(:);\n",
    "\n",
    "% Compute the kernel\n",
    "sim = x1' * x2;  % dot product\n",
    "\n",
    "end"
   ]
  },
  {
   "cell_type": "code",
   "execution_count": 7,
   "metadata": {
    "ExecuteTime": {
     "end_time": "2019-02-16T13:16:59.280622Z",
     "start_time": "2019-02-16T13:16:58.127696Z"
    }
   },
   "outputs": [
    {
     "name": "stdout",
     "output_type": "stream",
     "text": [
      "\n",
      "Training ......................................................................\n",
      "...............................................................................\n",
      "..... Done! \n",
      "\n"
     ]
    }
   ],
   "source": [
    "# Treinando modelo com C = 1\n",
    "C = 1;\n",
    "model = svmTrain(X, y, C, @linearKernel, 1e-3, 20);"
   ]
  },
  {
   "cell_type": "code",
   "execution_count": 8,
   "metadata": {
    "ExecuteTime": {
     "end_time": "2019-02-16T13:16:59.604815Z",
     "start_time": "2019-02-16T13:16:59.295580Z"
    }
   },
   "outputs": [],
   "source": [
    "# Definindo função para visualizar os dados\n",
    "function visualizeBoundaryLinear(X, y, model)\n",
    "%VISUALIZEBOUNDARYLINEAR plots a linear decision boundary learned by the\n",
    "%SVM\n",
    "%   VISUALIZEBOUNDARYLINEAR(X, y, model) plots a linear decision boundary \n",
    "%   learned by the SVM and overlays the data on it\n",
    "\n",
    "w = model.w;\n",
    "b = model.b;\n",
    "xp = linspace(min(X(:,1)), max(X(:,1)), 100);\n",
    "yp = - (w(1)*xp + b)/w(2);\n",
    "plotData(X, y);\n",
    "hold on;\n",
    "plot(xp, yp, '-b'); \n",
    "hold off\n",
    "\n",
    "end"
   ]
  },
  {
   "cell_type": "code",
   "execution_count": 9,
   "metadata": {
    "ExecuteTime": {
     "end_time": "2019-02-16T13:17:01.190540Z",
     "start_time": "2019-02-16T13:16:59.607806Z"
    }
   },
   "outputs": [
    {
     "data": {
      "image/png": "[encoded data removed]",
      "text/plain": [
       "<IPython.core.display.Image object>"
      ]
     },
     "metadata": {},
     "output_type": "display_data"
    }
   ],
   "source": [
    "# Visualizando dados\n",
    "visualizeBoundaryLinear(X, y, model)"
   ]
  },
  {
   "cell_type": "markdown",
   "metadata": {},
   "source": [
    "Lembrando da teoria:\n",
    "    * Com o hiperparâmetro C baixo, o modelo fica menos sensível a outliers, apresentando uma menor variância e um maior bias"
   ]
  },
  {
   "cell_type": "markdown",
   "metadata": {},
   "source": [
    "### Gaussian Kernel"
   ]
  },
  {
   "cell_type": "code",
   "execution_count": 10,
   "metadata": {
    "ExecuteTime": {
     "end_time": "2019-02-16T13:17:01.362047Z",
     "start_time": "2019-02-16T13:17:01.196571Z"
    }
   },
   "outputs": [
    {
     "name": "stdout",
     "output_type": "stream",
     "text": [
      "x1 =\n",
      "\n",
      "   1   2   1\n",
      "\n",
      "x2 =\n",
      "\n",
      "   0   4  -1\n",
      "\n"
     ]
    }
   ],
   "source": [
    "# Testes para implementação de Gaussian Kernel\n",
    "x1 = [1 2 1] \n",
    "x2 = [0 4 -1] \n",
    "sigma = 2;"
   ]
  },
  {
   "cell_type": "code",
   "execution_count": 11,
   "metadata": {
    "ExecuteTime": {
     "end_time": "2019-02-16T13:17:01.466766Z",
     "start_time": "2019-02-16T13:17:01.365093Z"
    }
   },
   "outputs": [
    {
     "name": "stdout",
     "output_type": "stream",
     "text": [
      "x1 =\n",
      "\n",
      "   1\n",
      "   2\n",
      "   1\n",
      "\n",
      "x2 =\n",
      "\n",
      "   0\n",
      "   4\n",
      "  -1\n",
      "\n"
     ]
    }
   ],
   "source": [
    "# Transformando em vetor de coluna\n",
    "x1 = x1(:)\n",
    "x2 = x2(:)"
   ]
  },
  {
   "cell_type": "code",
   "execution_count": 12,
   "metadata": {
    "ExecuteTime": {
     "end_time": "2019-02-16T13:17:01.532588Z",
     "start_time": "2019-02-16T13:17:01.469757Z"
    }
   },
   "outputs": [
    {
     "name": "stdout",
     "output_type": "stream",
     "text": [
      "ans =\n",
      "\n",
      "   1\n",
      "  -2\n",
      "   2\n",
      "\n"
     ]
    }
   ],
   "source": [
    "# Testando subtração\n",
    "x1 - x2"
   ]
  },
  {
   "cell_type": "code",
   "execution_count": 13,
   "metadata": {
    "ExecuteTime": {
     "end_time": "2019-02-16T13:17:01.592438Z",
     "start_time": "2019-02-16T13:17:01.534583Z"
    }
   },
   "outputs": [
    {
     "name": "stdout",
     "output_type": "stream",
     "text": [
      "ans =\n",
      "\n",
      "   1\n",
      "   4\n",
      "   4\n",
      "\n"
     ]
    }
   ],
   "source": [
    "# Elevando tudo ao quadrado\n",
    "(x1 - x2).^2"
   ]
  },
  {
   "cell_type": "code",
   "execution_count": 14,
   "metadata": {
    "ExecuteTime": {
     "end_time": "2019-02-16T13:17:01.651271Z",
     "start_time": "2019-02-16T13:17:01.595423Z"
    }
   },
   "outputs": [
    {
     "name": "stdout",
     "output_type": "stream",
     "text": [
      "ans =  9\n"
     ]
    }
   ],
   "source": [
    "# Somando termos\n",
    "sum((x1 - x2).^2)"
   ]
  },
  {
   "cell_type": "code",
   "execution_count": 15,
   "metadata": {
    "ExecuteTime": {
     "end_time": "2019-02-16T13:17:01.715105Z",
     "start_time": "2019-02-16T13:17:01.652299Z"
    }
   },
   "outputs": [
    {
     "name": "stdout",
     "output_type": "stream",
     "text": [
      "ans =  2.2500\n"
     ]
    }
   ],
   "source": [
    "# Dividindo por sigma quadrado\n",
    "sum((x1 - x2).^2) / sigma^2"
   ]
  },
  {
   "cell_type": "code",
   "execution_count": 16,
   "metadata": {
    "ExecuteTime": {
     "end_time": "2019-02-16T13:17:01.767963Z",
     "start_time": "2019-02-16T13:17:01.718097Z"
    }
   },
   "outputs": [
    {
     "name": "stdout",
     "output_type": "stream",
     "text": [
      "ans =  0.10540\n"
     ]
    }
   ],
   "source": [
    "# Aplicando exponencial\n",
    "exp(-sum((x1 - x2).^2) / sigma^2)"
   ]
  },
  {
   "cell_type": "code",
   "execution_count": 17,
   "metadata": {
    "ExecuteTime": {
     "end_time": "2019-02-16T13:17:01.813836Z",
     "start_time": "2019-02-16T13:17:01.771030Z"
    }
   },
   "outputs": [
    {
     "name": "stdout",
     "output_type": "stream",
     "text": [
      "ans =  1\n"
     ]
    }
   ],
   "source": [
    "exp(0)"
   ]
  },
  {
   "cell_type": "code",
   "execution_count": 18,
   "metadata": {
    "ExecuteTime": {
     "end_time": "2019-02-16T13:17:01.862706Z",
     "start_time": "2019-02-16T13:17:01.817827Z"
    }
   },
   "outputs": [
    {
     "name": "stdout",
     "output_type": "stream",
     "text": [
      "ans =  0.10540\n"
     ]
    }
   ],
   "source": [
    "exp(-2.25)"
   ]
  },
  {
   "cell_type": "markdown",
   "metadata": {},
   "source": [
    "Deu errado! Aparentemente, é necessário dividir por sigma e depois aplicar a soma"
   ]
  },
  {
   "cell_type": "code",
   "execution_count": 19,
   "metadata": {
    "ExecuteTime": {
     "end_time": "2019-02-16T13:17:01.897821Z",
     "start_time": "2019-02-16T13:17:01.864702Z"
    }
   },
   "outputs": [
    {
     "name": "stdout",
     "output_type": "stream",
     "text": [
      "ans =  0.10540\n"
     ]
    }
   ],
   "source": [
    "exp(-sum(((x1 - x2).^2/sigma^2)))"
   ]
  },
  {
   "cell_type": "markdown",
   "metadata": {},
   "source": [
    "Erro! Acredito que seja necessário aplicar feature scaling antes."
   ]
  },
  {
   "cell_type": "code",
   "execution_count": 20,
   "metadata": {
    "ExecuteTime": {
     "end_time": "2019-02-16T13:17:02.063335Z",
     "start_time": "2019-02-16T13:17:01.899607Z"
    }
   },
   "outputs": [
    {
     "name": "stdout",
     "output_type": "stream",
     "text": [
      "x1_scaled =\n",
      "\n",
      "  -0.57735\n",
      "   1.15470\n",
      "  -0.57735\n",
      "\n",
      "x2_scaled =\n",
      "\n",
      "  -0.37796\n",
      "   1.13389\n",
      "  -0.75593\n",
      "\n"
     ]
    }
   ],
   "source": [
    "# Aplicando normalização\n",
    "x1_scaled = (x1.-mean(x1)) / std(x1)\n",
    "x2_scaled = (x2.-mean(x2)) / std(x2)"
   ]
  },
  {
   "cell_type": "code",
   "execution_count": 21,
   "metadata": {
    "ExecuteTime": {
     "end_time": "2019-02-16T13:17:02.128157Z",
     "start_time": "2019-02-16T13:17:02.065325Z"
    }
   },
   "outputs": [
    {
     "name": "stdout",
     "output_type": "stream",
     "text": [
      "ans =  0.98214\n"
     ]
    }
   ],
   "source": [
    "# Aplicando Gaussian Kernel novamente\n",
    "exp(-sum(((x1_scaled - x2_scaled).^2/sigma^2)))"
   ]
  },
  {
   "cell_type": "markdown",
   "metadata": {},
   "source": [
    "Não era nada disso! **Faltou apenas multiplicar sigma por 2**"
   ]
  },
  {
   "cell_type": "code",
   "execution_count": 22,
   "metadata": {
    "ExecuteTime": {
     "end_time": "2019-02-16T13:17:02.181163Z",
     "start_time": "2019-02-16T13:17:02.131150Z"
    }
   },
   "outputs": [
    {
     "name": "stdout",
     "output_type": "stream",
     "text": [
      "ans =  0.32465\n"
     ]
    }
   ],
   "source": [
    "# Gaussian Kernel definitivo\n",
    "exp(-sum(((x1 - x2).^2/(2*(sigma^2)))))"
   ]
  },
  {
   "cell_type": "markdown",
   "metadata": {},
   "source": [
    "Perfeito! Basta definir a função."
   ]
  },
  {
   "cell_type": "code",
   "execution_count": 23,
   "metadata": {
    "ExecuteTime": {
     "end_time": "2019-02-16T13:17:02.315801Z",
     "start_time": "2019-02-16T13:17:02.189140Z"
    }
   },
   "outputs": [],
   "source": [
    "# Definindo função\n",
    "function sim = gaussianKernel(x1, x2, sigma)\n",
    "    \n",
    "    % Transformando dados em vetor com uma coluna apenas\n",
    "    x1 = x1(:);\n",
    "    x2 = x2(:);\n",
    "    \n",
    "    sim = exp(-sum(((x1 - x2).^2/(2*(sigma^2)))));\n",
    "    \n",
    "endfunction"
   ]
  },
  {
   "cell_type": "markdown",
   "metadata": {},
   "source": [
    "## Dataset 2"
   ]
  },
  {
   "cell_type": "markdown",
   "metadata": {},
   "source": [
    "### Lendo Arquivo"
   ]
  },
  {
   "cell_type": "code",
   "execution_count": 24,
   "metadata": {
    "ExecuteTime": {
     "end_time": "2019-02-16T13:17:02.403566Z",
     "start_time": "2019-02-16T13:17:02.321816Z"
    }
   },
   "outputs": [],
   "source": [
    "# Lendo arquivo\n",
    "load('ex6data2.mat')"
   ]
  },
  {
   "cell_type": "code",
   "execution_count": 25,
   "metadata": {
    "ExecuteTime": {
     "end_time": "2019-02-16T13:17:02.480402Z",
     "start_time": "2019-02-16T13:17:02.406599Z"
    }
   },
   "outputs": [
    {
     "name": "stdout",
     "output_type": "stream",
     "text": [
      "ans =\n",
      "\n",
      "   863     2\n",
      "\n",
      "ans =\n",
      "\n",
      "   863     1\n",
      "\n"
     ]
    }
   ],
   "source": [
    "# Verificando dimensões\n",
    "size(X)\n",
    "size(y)"
   ]
  },
  {
   "cell_type": "code",
   "execution_count": 26,
   "metadata": {
    "ExecuteTime": {
     "end_time": "2019-02-16T13:17:02.532221Z",
     "start_time": "2019-02-16T13:17:02.483394Z"
    }
   },
   "outputs": [
    {
     "name": "stdout",
     "output_type": "stream",
     "text": [
      "O dataset 2 possui 863 linhas e 2 colunas\n"
     ]
    }
   ],
   "source": [
    "# Comunicando resultado\n",
    "fprintf('O dataset 2 possui %d linhas e %d colunas\\n', size(X, 1), size(X, 2))"
   ]
  },
  {
   "cell_type": "markdown",
   "metadata": {},
   "source": [
    "### Visualizando Dados"
   ]
  },
  {
   "cell_type": "code",
   "execution_count": 27,
   "metadata": {
    "ExecuteTime": {
     "end_time": "2019-02-16T13:17:03.948786Z",
     "start_time": "2019-02-16T13:17:02.542195Z"
    }
   },
   "outputs": [
    {
     "data": {
      "image/png": "[encoded data removed]",
      "text/plain": [
       "<IPython.core.display.Image object>"
      ]
     },
     "metadata": {},
     "output_type": "display_data"
    }
   ],
   "source": [
    "# Chamando função de plotagem\n",
    "plotData(X, y)"
   ]
  },
  {
   "cell_type": "markdown",
   "metadata": {},
   "source": [
    "Trata-se de um problema cuja função não é linear."
   ]
  },
  {
   "cell_type": "code",
   "execution_count": 28,
   "metadata": {
    "ExecuteTime": {
     "end_time": "2019-02-16T13:17:04.330391Z",
     "start_time": "2019-02-16T13:17:03.960537Z"
    }
   },
   "outputs": [],
   "source": [
    "# Implementando função para visualização de função hypothesis não linear\n",
    "function visualizeBoundary(X, y, model, varargin)\n",
    "%VISUALIZEBOUNDARY plots a non-linear decision boundary learned by the SVM\n",
    "%   VISUALIZEBOUNDARYLINEAR(X, y, model) plots a non-linear decision \n",
    "%   boundary learned by the SVM and overlays the data on it\n",
    "\n",
    "% Plot the training data on top of the boundary\n",
    "plotData(X, y)\n",
    "\n",
    "% Make classification predictions over a grid of values\n",
    "x1plot = linspace(min(X(:,1)), max(X(:,1)), 100)';\n",
    "x2plot = linspace(min(X(:,2)), max(X(:,2)), 100)';\n",
    "[X1, X2] = meshgrid(x1plot, x2plot);\n",
    "vals = zeros(size(X1));\n",
    "for i = 1:size(X1, 2)\n",
    "   this_X = [X1(:, i), X2(:, i)];\n",
    "   vals(:, i) = svmPredict(model, this_X);\n",
    "end\n",
    "\n",
    "% Plot the SVM boundary\n",
    "hold on\n",
    "contour(X1, X2, vals, [0.5 0.5], 'b');\n",
    "hold off;\n",
    "\n",
    "end"
   ]
  },
  {
   "cell_type": "markdown",
   "metadata": {},
   "source": [
    "### Treinando um Modelo SVM"
   ]
  },
  {
   "cell_type": "code",
   "execution_count": 29,
   "metadata": {
    "ExecuteTime": {
     "end_time": "2019-02-16T13:17:12.832521Z",
     "start_time": "2019-02-16T13:17:04.332355Z"
    }
   },
   "outputs": [
    {
     "name": "stdout",
     "output_type": "stream",
     "text": [
      "\n",
      "Training ......................................................................\n",
      "........ Done! \n",
      "\n",
      "error: 'svmPredict' undefined near line 16 column 17\n",
      "error: called from\n",
      "    visualizeBoundary at line 16 column 15\n"
     ]
    },
    {
     "data": {
      "image/png": "[encoded data removed]",
      "text/plain": [
       "<IPython.core.display.Image object>"
      ]
     },
     "metadata": {},
     "output_type": "display_data"
    }
   ],
   "source": [
    "# Treinando modelo e visualizando função\n",
    "model = svmTrain(X, y, C, @(x1, x2) gaussianKernel(x1, x2, sigma)); \n",
    "visualizeBoundary(X, y, model);"
   ]
  },
  {
   "cell_type": "code",
   "execution_count": 30,
   "metadata": {
    "ExecuteTime": {
     "end_time": "2019-02-16T13:17:13.996397Z",
     "start_time": "2019-02-16T13:17:12.840213Z"
    }
   },
   "outputs": [],
   "source": [
    "# Implementando função para predizer os dados\n",
    "function pred = svmPredict(model, X)\n",
    "%SVMPREDICT returns a vector of predictions using a trained SVM model\n",
    "%(svmTrain). \n",
    "%   pred = SVMPREDICT(model, X) returns a vector of predictions using a \n",
    "%   trained SVM model (svmTrain). X is a mxn matrix where there each \n",
    "%   example is a row. model is a svm model returned from svmTrain.\n",
    "%   predictions pred is a m x 1 column of predictions of {0, 1} values.\n",
    "%\n",
    "\n",
    "% Check if we are getting a column vector, if so, then assume that we only\n",
    "% need to do prediction for a single example\n",
    "if (size(X, 2) == 1)\n",
    "    % Examples should be in rows\n",
    "    X = X';\n",
    "end\n",
    "\n",
    "% Dataset \n",
    "m = size(X, 1);\n",
    "p = zeros(m, 1);\n",
    "pred = zeros(m, 1);\n",
    "\n",
    "if strcmp(func2str(model.kernelFunction), 'linearKernel')\n",
    "    % We can use the weights and bias directly if working with the \n",
    "    % linear kernel\n",
    "    p = X * model.w + model.b;\n",
    "elseif strfind(func2str(model.kernelFunction), 'gaussianKernel')\n",
    "    % Vectorized RBF Kernel\n",
    "    % This is equivalent to computing the kernel on every pair of examples\n",
    "    X1 = sum(X.^2, 2);\n",
    "    X2 = sum(model.X.^2, 2)';\n",
    "    K = bsxfun(@plus, X1, bsxfun(@plus, X2, - 2 * X * model.X'));\n",
    "    K = model.kernelFunction(1, 0) .^ K;\n",
    "    K = bsxfun(@times, model.y', K);\n",
    "    K = bsxfun(@times, model.alphas', K);\n",
    "    p = sum(K, 2);\n",
    "else\n",
    "    % Other Non-linear kernel\n",
    "    for i = 1:m\n",
    "        prediction = 0;\n",
    "        for j = 1:size(model.X, 1)\n",
    "            prediction = prediction + ...\n",
    "                model.alphas(j) * model.y(j) * ...\n",
    "                model.kernelFunction(X(i,:)', model.X(j,:)');\n",
    "        end\n",
    "        p(i) = prediction + model.b;\n",
    "    end\n",
    "end\n",
    "\n",
    "% Convert predictions into 0 / 1\n",
    "pred(p >= 0) =  1;\n",
    "pred(p <  0) =  0;\n",
    "\n",
    "end"
   ]
  },
  {
   "cell_type": "code",
   "execution_count": 31,
   "metadata": {
    "ExecuteTime": {
     "end_time": "2019-02-16T13:17:26.664181Z",
     "start_time": "2019-02-16T13:17:14.000306Z"
    }
   },
   "outputs": [
    {
     "name": "stdout",
     "output_type": "stream",
     "text": [
      "\n",
      "Training ......................................................................\n",
      "............................................. Done! \n",
      "\n"
     ]
    },
    {
     "data": {
      "image/png": "[encoded data removed]",
      "text/plain": [
       "<IPython.core.display.Image object>"
      ]
     },
     "metadata": {},
     "output_type": "display_data"
    }
   ],
   "source": [
    "% Treinando novamente e visualizando\n",
    "model = svmTrain(X, y, C, @(x1, x2) gaussianKernel(x1, x2, sigma)); \n",
    "visualizeBoundary(X, y, model);"
   ]
  },
  {
   "cell_type": "markdown",
   "metadata": {},
   "source": [
    "Por algum motivo, a curva que define a função hipótese não foi plotada."
   ]
  },
  {
   "cell_type": "code",
   "execution_count": 32,
   "metadata": {
    "ExecuteTime": {
     "end_time": "2019-02-16T13:17:29.363241Z",
     "start_time": "2019-02-16T13:17:26.671161Z"
    }
   },
   "outputs": [
    {
     "data": {
      "image/png": "[encoded data removed]",
      "text/plain": [
       "<IPython.core.display.Image object>"
      ]
     },
     "metadata": {},
     "output_type": "display_data"
    }
   ],
   "source": [
    "visualizeBoundary(X, y, model)"
   ]
  },
  {
   "cell_type": "markdown",
   "metadata": {},
   "source": [
    "## Dataset 3"
   ]
  },
  {
   "cell_type": "markdown",
   "metadata": {},
   "source": [
    "### Lendo os Dados"
   ]
  },
  {
   "cell_type": "code",
   "execution_count": 33,
   "metadata": {
    "ExecuteTime": {
     "end_time": "2019-02-16T13:17:29.470671Z",
     "start_time": "2019-02-16T13:17:29.372318Z"
    }
   },
   "outputs": [],
   "source": [
    "# Lendo dados\n",
    "load('ex6data3.mat')"
   ]
  },
  {
   "cell_type": "code",
   "execution_count": 34,
   "metadata": {
    "ExecuteTime": {
     "end_time": "2019-02-16T13:17:29.551459Z",
     "start_time": "2019-02-16T13:17:29.475658Z"
    }
   },
   "outputs": [
    {
     "name": "stdout",
     "output_type": "stream",
     "text": [
      "ans =\n",
      "\n",
      "   211     2\n",
      "\n",
      "ans =\n",
      "\n",
      "   211     1\n",
      "\n"
     ]
    }
   ],
   "source": [
    "# Dimensões\n",
    "size(X)\n",
    "size(y)"
   ]
  },
  {
   "cell_type": "markdown",
   "metadata": {},
   "source": [
    "Parece que também há dados de validação ```Xval``` e ```yval```."
   ]
  },
  {
   "cell_type": "code",
   "execution_count": 35,
   "metadata": {
    "ExecuteTime": {
     "end_time": "2019-02-16T13:17:29.618291Z",
     "start_time": "2019-02-16T13:17:29.554448Z"
    }
   },
   "outputs": [
    {
     "name": "stdout",
     "output_type": "stream",
     "text": [
      "ans =\n",
      "\n",
      "   200     2\n",
      "\n",
      "ans =\n",
      "\n",
      "   200     1\n",
      "\n"
     ]
    }
   ],
   "source": [
    "size(Xval)\n",
    "size(yval)"
   ]
  },
  {
   "cell_type": "markdown",
   "metadata": {},
   "source": [
    "Será necessário criar uma função que retorne os parâmetros ótimos para ```C``` e ```sigma```, ou seja, o combinado que apresenta o menor erro de predição para os dados de validação."
   ]
  },
  {
   "cell_type": "markdown",
   "metadata": {},
   "source": [
    "Pipeline:\n",
    "    * Escolher valores específicos para os parâmetros;\n",
    "    * Treinar o modelo com os dados de treino;\n",
    "    * Realizar predições com os dados de validação;\n",
    "    * Mensurar performance do modelo."
   ]
  },
  {
   "cell_type": "code",
   "execution_count": 36,
   "metadata": {
    "ExecuteTime": {
     "end_time": "2019-02-16T13:17:31.182097Z",
     "start_time": "2019-02-16T13:17:29.621269Z"
    }
   },
   "outputs": [
    {
     "data": {
      "image/png": "[encoded data removed]",
      "text/plain": [
       "<IPython.core.display.Image object>"
      ]
     },
     "metadata": {},
     "output_type": "display_data"
    }
   ],
   "source": [
    "# Plotando dados\n",
    "plotData(X, y)"
   ]
  },
  {
   "cell_type": "markdown",
   "metadata": {},
   "source": [
    "O gráfico acima indica que talvez uma linha reta (parâmetro C bem baixo) talvez não seja a melhor opção."
   ]
  },
  {
   "cell_type": "code",
   "execution_count": 37,
   "metadata": {
    "ExecuteTime": {
     "end_time": "2019-02-16T13:17:36.162814Z",
     "start_time": "2019-02-16T13:17:31.184166Z"
    }
   },
   "outputs": [
    {
     "name": "stdout",
     "output_type": "stream",
     "text": [
      "\n",
      "Training ......................................................................\n",
      "...............................................................................\n",
      "............................................................................. Done! \n",
      "\n"
     ]
    },
    {
     "data": {
      "image/png": "[encoded data removed]",
      "text/plain": [
       "<IPython.core.display.Image object>"
      ]
     },
     "metadata": {},
     "output_type": "display_data"
    }
   ],
   "source": [
    "# Testando cálculo de erro através do pipeline definido\n",
    "C = 1;\n",
    "sigma = 0.3;\n",
    "\n",
    "model = svmTrain(X, y, C, @linearKernel, 1e-3, 20);\n",
    "visualizeBoundaryLinear(X, y, model)"
   ]
  },
  {
   "cell_type": "markdown",
   "metadata": {},
   "source": [
    "Bom... é possível melhorar. Vamos retornar um valor para servir de métrica de performance para este treinamento."
   ]
  },
  {
   "cell_type": "code",
   "execution_count": 38,
   "metadata": {
    "ExecuteTime": {
     "end_time": "2019-02-16T13:17:36.237881Z",
     "start_time": "2019-02-16T13:17:36.164769Z"
    }
   },
   "outputs": [
    {
     "name": "stdout",
     "output_type": "stream",
     "text": [
      "performance =  0.075000\n",
      "Erro do modelo com C=1 e sigma=0.3: 0.0750\n"
     ]
    }
   ],
   "source": [
    "# Mensurando performance\n",
    "predictions = svmPredict(model, Xval);\n",
    "performance = mean(double(predictions ~= yval))\n",
    "fprintf('Erro do modelo com C=%d e sigma=%d: %.4f\\n', C, sigma, performance)"
   ]
  },
  {
   "cell_type": "code",
   "execution_count": 39,
   "metadata": {
    "ExecuteTime": {
     "end_time": "2019-02-16T13:17:44.731532Z",
     "start_time": "2019-02-16T13:17:36.239567Z"
    }
   },
   "outputs": [
    {
     "name": "stdout",
     "output_type": "stream",
     "text": [
      "\n",
      "Training ......................................................................\n",
      "...............................................................................\n",
      "...............................................................................\n",
      "...............................................................................\n",
      "................................. Done! \n",
      "\n"
     ]
    },
    {
     "data": {
      "image/png": "[encoded data removed]",
      "text/plain": [
       "<IPython.core.display.Image object>"
      ]
     },
     "metadata": {},
     "output_type": "display_data"
    }
   ],
   "source": [
    "C = 10;\n",
    "sigma = 0.5;\n",
    "model = svmTrain(X, y, C, @linearKernel, 1e-3, 20);\n",
    "visualizeBoundaryLinear(X, y, model)"
   ]
  },
  {
   "cell_type": "code",
   "execution_count": 40,
   "metadata": {
    "ExecuteTime": {
     "end_time": "2019-02-16T13:17:44.819375Z",
     "start_time": "2019-02-16T13:17:44.737153Z"
    }
   },
   "outputs": [
    {
     "name": "stdout",
     "output_type": "stream",
     "text": [
      "performance =  0.065000\n",
      "Erro do modelo com C=10 e sigma=0.5: 0.0650\n"
     ]
    }
   ],
   "source": [
    "# Mensurando performance\n",
    "predictions = svmPredict(model, Xval);\n",
    "performance = mean(double(predictions ~= yval))\n",
    "fprintf('Erro do modelo com C=%d e sigma=%d: %.4f\\n', C, sigma, performance)"
   ]
  },
  {
   "cell_type": "markdown",
   "metadata": {},
   "source": [
    "Acredito que a ideia seja utilizar ```Gaussian Kernel ```"
   ]
  },
  {
   "cell_type": "code",
   "execution_count": 41,
   "metadata": {
    "ExecuteTime": {
     "end_time": "2019-02-16T13:17:49.562510Z",
     "start_time": "2019-02-16T13:17:44.821347Z"
    }
   },
   "outputs": [
    {
     "name": "stdout",
     "output_type": "stream",
     "text": [
      "\n",
      "Training ......................................................................\n",
      "............................................................... Done! \n",
      "\n"
     ]
    },
    {
     "data": {
      "image/png": "[encoded data removed]",
      "text/plain": [
       "<IPython.core.display.Image object>"
      ]
     },
     "metadata": {},
     "output_type": "display_data"
    }
   ],
   "source": [
    "model = svmTrain(X, y, C, @(x1, x2) gaussianKernel(x1, x2, sigma)); \n",
    "visualizeBoundary(X, y, model);"
   ]
  },
  {
   "cell_type": "markdown",
   "metadata": {},
   "source": [
    "### Pipeline para Melhores Parâmetros"
   ]
  },
  {
   "cell_type": "code",
   "execution_count": 42,
   "metadata": {
    "ExecuteTime": {
     "end_time": "2019-02-16T13:17:49.731899Z",
     "start_time": "2019-02-16T13:17:49.569562Z"
    }
   },
   "outputs": [],
   "source": [
    "function bestParams(C, sigma, X, y, Xval, yval)\n",
    "    \n",
    "    % Treinando modelo\n",
    "    model = svmTrain(X, y, C, @(x1, x2) gaussianKernel(x1, x2, sigma)); \n",
    "    \n",
    "    % Visualizando resultado\n",
    "    visualizeBoundary(X, y, model);\n",
    "    \n",
    "    % Avaliando performance\n",
    "    predictions = svmPredict(model, Xval);\n",
    "    performance = mean(double(predictions ~= yval));\n",
    "    fprintf('Erro do modelo com C=%d e sigma=%d: %.4f\\n', C, sigma, performance);\n",
    "    \n",
    "endfunction"
   ]
  },
  {
   "cell_type": "code",
   "execution_count": 43,
   "metadata": {
    "ExecuteTime": {
     "end_time": "2019-02-16T13:17:53.457975Z",
     "start_time": "2019-02-16T13:17:49.734128Z"
    }
   },
   "outputs": [
    {
     "name": "stdout",
     "output_type": "stream",
     "text": [
      "\n",
      "Training ......................................................................\n",
      "....................... Done! \n",
      "\n",
      "Erro do modelo com C=5 e sigma=1: 0.0800\n"
     ]
    },
    {
     "data": {
      "image/png": "[encoded data removed]",
      "text/plain": [
       "<IPython.core.display.Image object>"
      ]
     },
     "metadata": {},
     "output_type": "display_data"
    }
   ],
   "source": [
    "# Executando função\n",
    "C = 5;\n",
    "sigma = 1;\n",
    "bestParams(C, sigma, X, y, Xval, yval);"
   ]
  },
  {
   "cell_type": "markdown",
   "metadata": {},
   "source": [
    "Verificando valores sugeridos pelo instrutor para ```C``` e ```sigma```:\n",
    "\n",
    "0.01; 0.03; 0.1; 0.3; 1; 3; 10; 30"
   ]
  },
  {
   "cell_type": "code",
   "execution_count": 44,
   "metadata": {
    "ExecuteTime": {
     "end_time": "2019-02-16T13:17:53.517363Z",
     "start_time": "2019-02-16T13:17:53.463856Z"
    }
   },
   "outputs": [
    {
     "name": "stdout",
     "output_type": "stream",
     "text": [
      "params_values =\n",
      "\n",
      "    0.010000\n",
      "    0.030000\n",
      "    0.100000\n",
      "    0.300000\n",
      "    1.000000\n",
      "    3.000000\n",
      "   10.000000\n",
      "   30.000000\n",
      "\n"
     ]
    }
   ],
   "source": [
    "params_values = [0.01; 0.03; 0.1; 0.3; 1; 3; 10; 30]"
   ]
  },
  {
   "cell_type": "code",
   "execution_count": 45,
   "metadata": {
    "ExecuteTime": {
     "end_time": "2019-02-16T13:17:53.588099Z",
     "start_time": "2019-02-16T13:17:53.520220Z"
    }
   },
   "outputs": [
    {
     "name": "stdout",
     "output_type": "stream",
     "text": [
      "0.01\n",
      "0.03\n",
      "0.1\n",
      "0.3\n",
      "1\n",
      "3\n",
      "10\n",
      "30\n"
     ]
    }
   ],
   "source": [
    "for i = 1:length(params_values)\n",
    "    fprintf('%d\\n', params_values(i))\n",
    "endfor"
   ]
  },
  {
   "cell_type": "code",
   "execution_count": 46,
   "metadata": {
    "ExecuteTime": {
     "end_time": "2019-02-16T13:21:11.142736Z",
     "start_time": "2019-02-16T13:17:53.591032Z"
    }
   },
   "outputs": [
    {
     "name": "stdout",
     "output_type": "stream",
     "text": [
      "C =  0.010000\n",
      "sigma =  0.010000\n",
      "\n",
      "Training ......... Done! \n",
      "\n",
      "C =  0.010000\n",
      "sigma =  0.030000\n",
      "\n",
      "Training ................................................ Done! \n",
      "\n",
      "C =  0.010000\n",
      "sigma =  0.10000\n",
      "\n",
      "Training ..................................... Done! \n",
      "\n",
      "C =  0.010000\n",
      "sigma =  0.30000\n",
      "\n",
      "Training ............................... Done! \n",
      "\n",
      "C =  0.010000\n",
      "sigma =  1\n",
      "\n",
      "Training ........................................... Done! \n",
      "\n",
      "C =  0.010000\n",
      "sigma =  3\n",
      "\n",
      "Training ...................... Done! \n",
      "\n",
      "C =  0.010000\n",
      "sigma =  10\n",
      "\n",
      "Training ................................ Done! \n",
      "\n",
      "C =  0.010000\n",
      "sigma =  30\n",
      "\n",
      "Training ................................................ Done! \n",
      "\n",
      "C =  0.030000\n",
      "sigma =  0.010000\n",
      "\n",
      "Training ......... Done! \n",
      "\n",
      "C =  0.030000\n",
      "sigma =  0.030000\n",
      "\n",
      "Training ............................................................... Done! \n",
      "\n",
      "C =  0.030000\n",
      "sigma =  0.10000\n",
      "\n",
      "Training ..................................................... Done! \n",
      "\n",
      "C =  0.030000\n",
      "sigma =  0.30000\n",
      "\n",
      "Training .......................................................... Done! \n",
      "\n",
      "C =  0.030000\n",
      "sigma =  1\n",
      "\n",
      "Training .................................... Done! \n",
      "\n",
      "C =  0.030000\n",
      "sigma =  3\n",
      "\n",
      "Training ................................ Done! \n",
      "\n",
      "C =  0.030000\n",
      "sigma =  10\n",
      "\n",
      "Training ................................... Done! \n",
      "\n",
      "C =  0.030000\n",
      "sigma =  30\n",
      "\n",
      "Training ................................... Done! \n",
      "\n",
      "C =  0.10000\n",
      "sigma =  0.010000\n",
      "\n",
      "Training ......... Done! \n",
      "\n",
      "C =  0.10000\n",
      "sigma =  0.030000\n",
      "\n",
      "Training .............................................................. Done! \n",
      "\n",
      "C =  0.10000\n",
      "sigma =  0.10000\n",
      "\n",
      "Training ......................................................................\n",
      "........................................... Done! \n",
      "\n",
      "C =  0.10000\n",
      "sigma =  0.30000\n",
      "\n",
      "Training ......................................................................\n",
      ".................... Done! \n",
      "\n",
      "C =  0.10000\n",
      "sigma =  1\n",
      "\n",
      "Training ......................................................................\n",
      " Done! \n",
      "\n",
      "C =  0.10000\n",
      "sigma =  3\n",
      "\n",
      "Training ................................................. Done! \n",
      "\n",
      "C =  0.10000\n",
      "sigma =  10\n",
      "\n",
      "Training .................................................... Done! \n",
      "\n",
      "C =  0.10000\n",
      "sigma =  30\n",
      "\n",
      "Training ............................................................. Done! \n",
      "\n",
      "C =  0.30000\n",
      "sigma =  0.010000\n",
      "\n",
      "Training ......... Done! \n",
      "\n",
      "C =  0.30000\n",
      "sigma =  0.030000\n",
      "\n",
      "Training ................................................................... Done! \n",
      "\n",
      "C =  0.30000\n",
      "sigma =  0.10000\n",
      "\n",
      "Training ......................................................................\n",
      "...............................................................................\n",
      "...............................................................................\n",
      "...... Done! \n",
      "\n",
      "C =  0.30000\n",
      "sigma =  0.30000\n",
      "\n",
      "Training ......................................................................\n",
      ".... Done! \n",
      "\n",
      "C =  0.30000\n",
      "sigma =  1\n",
      "\n",
      "Training ............................................... Done! \n",
      "\n",
      "C =  0.30000\n",
      "sigma =  3\n",
      "\n",
      "Training ............................... Done! \n",
      "\n",
      "C =  0.30000\n",
      "sigma =  10\n",
      "\n",
      "Training ......................................................... Done! \n",
      "\n",
      "C =  0.30000\n",
      "sigma =  30\n",
      "\n",
      "Training ........................................................ Done! \n",
      "\n",
      "C =  1\n",
      "sigma =  0.010000\n",
      "\n",
      "Training ......... Done! \n",
      "\n",
      "C =  1\n",
      "sigma =  0.030000\n",
      "\n",
      "Training ......................................................................\n",
      "...............................................................................\n",
      "......... Done! \n",
      "\n",
      "C =  1\n",
      "sigma =  0.10000\n",
      "\n",
      "Training ......................................................................\n",
      "...............................................................................\n",
      "...............................................................................\n",
      "................................................... Done! \n",
      "\n",
      "C =  1\n",
      "sigma =  0.30000\n",
      "\n",
      "Training ......................................................................\n",
      "......................................... Done! \n",
      "\n",
      "C =  1\n",
      "sigma =  1\n",
      "\n",
      "Training ......................................................................\n",
      ". Done! \n",
      "\n",
      "C =  1\n",
      "sigma =  3\n",
      "\n",
      "Training ......................................................................\n",
      "................... Done! \n",
      "\n",
      "C =  1\n",
      "sigma =  10\n",
      "\n",
      "Training ................................. Done! \n",
      "\n",
      "C =  1\n",
      "sigma =  30\n",
      "\n",
      "Training ...................................... Done! \n",
      "\n",
      "C =  3\n",
      "sigma =  0.010000\n",
      "\n",
      "Training ......... Done! \n",
      "\n",
      "C =  3\n",
      "sigma =  0.030000\n",
      "\n",
      "Training ......................................................................\n",
      "................................... Done! \n",
      "\n",
      "C =  3\n",
      "sigma =  0.10000\n",
      "\n",
      "Training ......................................................................\n",
      "...............................................................................\n",
      "...............................................................................\n",
      "...............................................................................\n",
      "...............................................................................\n",
      "........ Done! \n",
      "\n",
      "C =  3\n",
      "sigma =  0.30000\n",
      "\n",
      "Training ......................................................................\n",
      "...............................................................................\n",
      "........................................ Done! \n",
      "\n",
      "C =  3\n",
      "sigma =  1\n",
      "\n",
      "Training ....................................................... Done! \n",
      "\n",
      "C =  3\n",
      "sigma =  3\n",
      "\n",
      "Training .......................................... Done! \n",
      "\n",
      "C =  3\n",
      "sigma =  10\n",
      "\n",
      "Training .................................. Done! \n",
      "\n",
      "C =  3\n",
      "sigma =  30\n",
      "\n",
      "Training .............................. Done! \n",
      "\n",
      "C =  10\n",
      "sigma =  0.010000\n",
      "\n",
      "Training .......... Done! \n",
      "\n",
      "C =  10\n",
      "sigma =  0.030000\n",
      "\n",
      "Training ......................................................................\n",
      ". Done! \n",
      "\n",
      "C =  10\n",
      "sigma =  0.10000\n",
      "\n",
      "Training ......................................................................\n",
      "...............................................................................\n",
      "...............................................................................\n",
      "...............................................................................\n",
      "...............................................................................\n",
      "...............................................................................\n",
      "...............................................................................\n",
      "...............................................................................\n",
      "...............................................................................\n",
      "...............................................................................\n",
      "...............................................................................\n",
      "...............................................................................\n",
      "...............................................................................\n",
      "...............................................................................\n",
      "...............................................................................\n",
      "...............................................................................\n",
      "...............................................................................\n",
      "...... Done! \n",
      "\n",
      "C =  10\n",
      "sigma =  0.30000\n",
      "\n",
      "Training ......................................................................\n",
      "...............................................................................\n",
      "...............................................................................\n",
      "...............................................................................\n",
      ".. Done! \n",
      "\n",
      "C =  10\n",
      "sigma =  1\n",
      "\n",
      "Training ......................................................................\n",
      "..................................................... Done! \n",
      "\n",
      "C =  10\n",
      "sigma =  3\n",
      "\n",
      "Training ......................................................................\n",
      "................. Done! \n",
      "\n",
      "C =  10\n",
      "sigma =  10\n",
      "\n",
      "Training ..................................... Done! \n",
      "\n",
      "C =  10\n",
      "sigma =  30\n",
      "\n",
      "Training ................................... Done! \n",
      "\n",
      "C =  30\n",
      "sigma =  0.010000\n",
      "\n",
      "Training .......... Done! \n",
      "\n",
      "C =  30\n",
      "sigma =  0.030000\n",
      "\n",
      "Training ......................................................................\n",
      "........................................ Done! \n",
      "\n",
      "C =  30\n",
      "sigma =  0.10000\n",
      "\n",
      "Training ......................................................................\n",
      "...............................................................................\n"
     ]
    },
    {
     "name": "stdout",
     "output_type": "stream",
     "text": [
      "...............................................................................\n",
      "...............................................................................\n",
      "...............................................................................\n",
      "...............................................................................\n",
      "...............................................................................\n",
      "...............................................................................\n",
      "...............................................................................\n",
      "...............................................................................\n",
      "...............................................................................\n",
      "...............................................................................\n",
      "...............................................................................\n",
      "...............................................................................\n",
      "............. Done! \n",
      "\n",
      "C =  30\n",
      "sigma =  0.30000\n",
      "\n",
      "Training ......................................................................\n",
      "...............................................................................\n",
      "...............................................................................\n",
      "............................ Done! \n",
      "\n",
      "C =  30\n",
      "sigma =  1\n",
      "\n",
      "Training ......................................................................\n",
      "...............................................................................\n",
      "....... Done! \n",
      "\n",
      "C =  30\n",
      "sigma =  3\n",
      "\n",
      "Training ......................................................................\n",
      "................. Done! \n",
      "\n",
      "C =  30\n",
      "sigma =  10\n",
      "\n",
      "Training ..................................................................... Done! \n",
      "\n",
      "C =  30\n",
      "sigma =  30\n",
      "\n",
      "Training ............................. Done! \n",
      "\n"
     ]
    }
   ],
   "source": [
    "# Realizando treinamento\n",
    "j = 1;\n",
    "k = 1;\n",
    "predictions = zeros(64, 1);\n",
    "for i = 1:length(predictions)\n",
    "    C = params_values(j)\n",
    "    sigma = params_values(k)\n",
    "    model = svmTrain(X, y, C, @(x1, x2) gaussianKernel(x1, x2, sigma));\n",
    "    y_pred = svmPredict(model, Xval);\n",
    "    performance = mean(double(y_pred ~= yval));\n",
    "    predictions(i) = performance;\n",
    "    \n",
    "    k = k + 1;\n",
    "    \n",
    "    if k == 9\n",
    "        k = 1;\n",
    "        j = j + 1;\n",
    "    endif\n",
    "    \n",
    "    if j == 9;\n",
    "        break\n",
    "    endif\n",
    "    \n",
    "endfor"
   ]
  },
  {
   "cell_type": "code",
   "execution_count": 47,
   "metadata": {
    "ExecuteTime": {
     "end_time": "2019-02-16T13:21:11.201634Z",
     "start_time": "2019-02-16T13:21:11.143732Z"
    }
   },
   "outputs": [
    {
     "name": "stdout",
     "output_type": "stream",
     "text": [
      "predictions =\n",
      "\n",
      "   0.565000\n",
      "   0.060000\n",
      "   0.045000\n",
      "   0.145000\n",
      "   0.180000\n",
      "   0.180000\n",
      "   0.180000\n",
      "   0.180000\n",
      "   0.565000\n",
      "   0.060000\n",
      "   0.045000\n",
      "   0.140000\n",
      "   0.185000\n",
      "   0.180000\n",
      "   0.180000\n",
      "   0.180000\n",
      "   0.565000\n",
      "   0.060000\n",
      "   0.045000\n",
      "   0.080000\n",
      "   0.170000\n",
      "   0.185000\n",
      "   0.180000\n",
      "   0.185000\n",
      "   0.565000\n",
      "   0.060000\n",
      "   0.035000\n",
      "   0.065000\n",
      "   0.095000\n",
      "   0.185000\n",
      "   0.185000\n",
      "   0.185000\n",
      "   0.565000\n",
      "   0.065000\n",
      "   0.030000\n",
      "   0.070000\n",
      "   0.080000\n",
      "   0.150000\n",
      "   0.185000\n",
      "   0.185000\n",
      "   0.565000\n",
      "   0.080000\n",
      "   0.035000\n",
      "   0.080000\n",
      "   0.085000\n",
      "   0.100000\n",
      "   0.180000\n",
      "   0.185000\n",
      "   0.565000\n",
      "   0.080000\n",
      "   0.070000\n",
      "   0.070000\n",
      "   0.080000\n",
      "   0.075000\n",
      "   0.165000\n",
      "   0.185000\n",
      "   0.565000\n",
      "   0.080000\n",
      "   0.060000\n",
      "   0.060000\n",
      "   0.105000\n",
      "   0.090000\n",
      "   0.095000\n",
      "   0.185000\n",
      "\n"
     ]
    }
   ],
   "source": [
    "predictions"
   ]
  },
  {
   "cell_type": "code",
   "execution_count": 48,
   "metadata": {
    "ExecuteTime": {
     "end_time": "2019-02-16T13:21:11.236682Z",
     "start_time": "2019-02-16T13:21:11.203295Z"
    }
   },
   "outputs": [
    {
     "name": "stdout",
     "output_type": "stream",
     "text": [
      "ans =  0.030000\n"
     ]
    }
   ],
   "source": [
    "min(predictions)"
   ]
  },
  {
   "cell_type": "code",
   "execution_count": 49,
   "metadata": {
    "ExecuteTime": {
     "end_time": "2019-02-16T13:21:11.322758Z",
     "start_time": "2019-02-16T13:21:11.238677Z"
    }
   },
   "outputs": [
    {
     "name": "stdout",
     "output_type": "stream",
     "text": [
      "predictions =\n",
      "\n",
      "   0\n",
      "   0\n",
      "   0\n",
      "   0\n",
      "   0\n",
      "   0\n",
      "   0\n",
      "   0\n",
      "   0\n",
      "   0\n",
      "   0\n",
      "   0\n",
      "   0\n",
      "   0\n",
      "   0\n",
      "   0\n",
      "   0\n",
      "   0\n",
      "   0\n",
      "   0\n",
      "   0\n",
      "   0\n",
      "   0\n",
      "   0\n",
      "   0\n",
      "   0\n",
      "   0\n",
      "   0\n",
      "   0\n",
      "   0\n",
      "   0\n",
      "   0\n",
      "   0\n",
      "   0\n",
      "   0\n",
      "   0\n",
      "   0\n",
      "   0\n",
      "   0\n",
      "   0\n",
      "   0\n",
      "   0\n",
      "   0\n",
      "   0\n",
      "   0\n",
      "   0\n",
      "   0\n",
      "   0\n",
      "   0\n",
      "   0\n",
      "   0\n",
      "   0\n",
      "   0\n",
      "   0\n",
      "   0\n",
      "   0\n",
      "   0\n",
      "   0\n",
      "   0\n",
      "   0\n",
      "   0\n",
      "   0\n",
      "   0\n",
      "   0\n",
      "\n",
      "predictions =\n",
      "\n",
      "   1\n",
      "   0\n",
      "   0\n",
      "   0\n",
      "   0\n",
      "   0\n",
      "   0\n",
      "   0\n",
      "   0\n",
      "   0\n",
      "   0\n",
      "   0\n",
      "   0\n",
      "   0\n",
      "   0\n",
      "   0\n",
      "   0\n",
      "   0\n",
      "   0\n",
      "   0\n",
      "   0\n",
      "   0\n",
      "   0\n",
      "   0\n",
      "   0\n",
      "   0\n",
      "   0\n",
      "   0\n",
      "   0\n",
      "   0\n",
      "   0\n",
      "   0\n",
      "   0\n",
      "   0\n",
      "   0\n",
      "   0\n",
      "   0\n",
      "   0\n",
      "   0\n",
      "   0\n",
      "   0\n",
      "   0\n",
      "   0\n",
      "   0\n",
      "   0\n",
      "   0\n",
      "   0\n",
      "   0\n",
      "   0\n",
      "   0\n",
      "   0\n",
      "   0\n",
      "   0\n",
      "   0\n",
      "   0\n",
      "   0\n",
      "   0\n",
      "   0\n",
      "   0\n",
      "   0\n",
      "   0\n",
      "   0\n",
      "   0\n",
      "   0\n",
      "\n"
     ]
    }
   ],
   "source": [
    "% Pensando em uma outra forma\n",
    "predictions = zeros(64, 1)\n",
    "predictions(1) = 1"
   ]
  },
  {
   "cell_type": "markdown",
   "metadata": {},
   "source": [
    "A ideia é salvar, a cada iteração, os valores de C e sigma."
   ]
  },
  {
   "cell_type": "code",
   "execution_count": 50,
   "metadata": {
    "ExecuteTime": {
     "end_time": "2019-02-16T13:21:11.375966Z",
     "start_time": "2019-02-16T13:21:11.324753Z"
    }
   },
   "outputs": [
    {
     "name": "stdout",
     "output_type": "stream",
     "text": [
      "predictions =\n",
      "\n",
      "   0   0   0\n",
      "   0   0   0\n",
      "   0   0   0\n",
      "   0   0   0\n",
      "   0   0   0\n",
      "\n"
     ]
    }
   ],
   "source": [
    "predictions = zeros(64)(1:5, 1:3)"
   ]
  },
  {
   "cell_type": "code",
   "execution_count": 51,
   "metadata": {
    "ExecuteTime": {
     "end_time": "2019-02-16T13:21:11.417911Z",
     "start_time": "2019-02-16T13:21:11.377960Z"
    }
   },
   "outputs": [
    {
     "name": "stdout",
     "output_type": "stream",
     "text": [
      "ans =\n",
      "\n",
      "   1   0   0\n",
      "   0   0   0\n",
      "   0   0   0\n",
      "   0   0   0\n",
      "   0   0   0\n",
      "\n"
     ]
    }
   ],
   "source": [
    "predictions(1) = 1;\n",
    "predictions(1:5, :)"
   ]
  },
  {
   "cell_type": "code",
   "execution_count": 52,
   "metadata": {
    "ExecuteTime": {
     "end_time": "2019-02-16T13:21:11.460199Z",
     "start_time": "2019-02-16T13:21:11.419420Z"
    }
   },
   "outputs": [
    {
     "name": "stdout",
     "output_type": "stream",
     "text": [
      "ans =\n",
      "\n",
      "   1   0   0\n",
      "   5   0   0\n",
      "   0   0   0\n",
      "   0   0   0\n",
      "   0   0   0\n",
      "\n"
     ]
    }
   ],
   "source": [
    "predictions(2) = 5;\n",
    "predictions(1:5, :)"
   ]
  },
  {
   "cell_type": "code",
   "execution_count": 53,
   "metadata": {
    "ExecuteTime": {
     "end_time": "2019-02-16T13:21:11.634869Z",
     "start_time": "2019-02-16T13:21:11.461198Z"
    }
   },
   "outputs": [
    {
     "name": "stdout",
     "output_type": "stream",
     "text": [
      "error: Invalid resizing operation or ambiguous assignment to an out-of-bounds array element\n",
      "ans =\n",
      "\n",
      "   1   0   0\n",
      "   5   0   0\n",
      "   0   0   0\n",
      "   0   0   0\n",
      "   0   0   0\n",
      "\n"
     ]
    }
   ],
   "source": [
    "predictions(67) = 7;\n",
    "predictions(1:5, :)"
   ]
  },
  {
   "cell_type": "markdown",
   "metadata": {},
   "source": [
    "Para salvar parâmetros em outras colunas, basta somar 64 e 128 no índice"
   ]
  },
  {
   "cell_type": "code",
   "execution_count": 54,
   "metadata": {
    "ExecuteTime": {
     "end_time": "2019-02-16T13:21:11.679883Z",
     "start_time": "2019-02-16T13:21:11.636865Z"
    }
   },
   "outputs": [
    {
     "name": "stdout",
     "output_type": "stream",
     "text": [
      "error: Invalid resizing operation or ambiguous assignment to an out-of-bounds array element\n",
      "ans =\n",
      "\n",
      "   1   0   0\n",
      "   5   0   0\n",
      "   0   0   0\n",
      "   0   0   0\n",
      "   0   0   0\n",
      "\n"
     ]
    }
   ],
   "source": [
    "predictions(129) = 10;\n",
    "predictions(1:5, :)"
   ]
  },
  {
   "cell_type": "code",
   "execution_count": 55,
   "metadata": {
    "ExecuteTime": {
     "end_time": "2019-02-16T13:21:11.738482Z",
     "start_time": "2019-02-16T13:21:11.681898Z"
    }
   },
   "outputs": [
    {
     "name": "stdout",
     "output_type": "stream",
     "text": [
      "ans =\n",
      "\n",
      "   64    3\n",
      "\n"
     ]
    }
   ],
   "source": [
    "predictions = zeros(64)(:, 1:3);\n",
    "size(predictions)"
   ]
  },
  {
   "cell_type": "code",
   "execution_count": 56,
   "metadata": {
    "ExecuteTime": {
     "end_time": "2019-02-16T13:24:55.511666Z",
     "start_time": "2019-02-16T13:21:11.741788Z"
    }
   },
   "outputs": [
    {
     "name": "stdout",
     "output_type": "stream",
     "text": [
      "C =  0.010000\n",
      "sigma =  0.010000\n",
      "\n",
      "Training ......... Done! \n",
      "\n",
      "C =  0.010000\n",
      "sigma =  0.030000\n",
      "\n",
      "Training ............................................... Done! \n",
      "\n",
      "C =  0.010000\n",
      "sigma =  0.10000\n",
      "\n",
      "Training ...................................................... Done! \n",
      "\n",
      "C =  0.010000\n",
      "sigma =  0.30000\n",
      "\n",
      "Training ................................ Done! \n",
      "\n",
      "C =  0.010000\n",
      "sigma =  1\n",
      "\n",
      "Training ................................................. Done! \n",
      "\n",
      "C =  0.010000\n",
      "sigma =  3\n",
      "\n",
      "Training .................................................................... Done! \n",
      "\n",
      "C =  0.010000\n",
      "sigma =  10\n",
      "\n",
      "Training ........................................ Done! \n",
      "\n",
      "C =  0.010000\n",
      "sigma =  30\n",
      "\n",
      "Training .................................... Done! \n",
      "\n",
      "C =  0.030000\n",
      "sigma =  0.010000\n",
      "\n",
      "Training ......... Done! \n",
      "\n",
      "C =  0.030000\n",
      "sigma =  0.030000\n",
      "\n",
      "Training ......................................................................\n",
      ".. Done! \n",
      "\n",
      "C =  0.030000\n",
      "sigma =  0.10000\n",
      "\n",
      "Training ................................................... Done! \n",
      "\n",
      "C =  0.030000\n",
      "sigma =  0.30000\n",
      "\n",
      "Training ................................ Done! \n",
      "\n",
      "C =  0.030000\n",
      "sigma =  1\n",
      "\n",
      "Training ................................. Done! \n",
      "\n",
      "C =  0.030000\n",
      "sigma =  3\n",
      "\n",
      "Training .................................................. Done! \n",
      "\n",
      "C =  0.030000\n",
      "sigma =  10\n",
      "\n",
      "Training ...................................... Done! \n",
      "\n",
      "C =  0.030000\n",
      "sigma =  30\n",
      "\n",
      "Training .................................. Done! \n",
      "\n",
      "C =  0.10000\n",
      "sigma =  0.010000\n",
      "\n",
      "Training ......... Done! \n",
      "\n",
      "C =  0.10000\n",
      "sigma =  0.030000\n",
      "\n",
      "Training ........................................... Done! \n",
      "\n",
      "C =  0.10000\n",
      "sigma =  0.10000\n",
      "\n",
      "Training ......................................................................\n",
      "...............................................................................\n",
      ". Done! \n",
      "\n",
      "C =  0.10000\n",
      "sigma =  0.30000\n",
      "\n",
      "Training ......................................................................\n",
      "................ Done! \n",
      "\n",
      "C =  0.10000\n",
      "sigma =  1\n",
      "\n",
      "Training ........................................ Done! \n",
      "\n",
      "C =  0.10000\n",
      "sigma =  3\n",
      "\n",
      "Training ................................................. Done! \n",
      "\n",
      "C =  0.10000\n",
      "sigma =  10\n",
      "\n",
      "Training ............................................... Done! \n",
      "\n",
      "C =  0.10000\n",
      "sigma =  30\n",
      "\n",
      "Training ................................................... Done! \n",
      "\n",
      "C =  0.30000\n",
      "sigma =  0.010000\n",
      "\n",
      "Training ......... Done! \n",
      "\n",
      "C =  0.30000\n",
      "sigma =  0.030000\n",
      "\n",
      "Training .................................................... Done! \n",
      "\n",
      "C =  0.30000\n",
      "sigma =  0.10000\n",
      "\n",
      "Training ......................................................................\n",
      "...............................................................................\n",
      "................................................. Done! \n",
      "\n",
      "C =  0.30000\n",
      "sigma =  0.30000\n",
      "\n",
      "Training ......................................................................\n",
      " Done! \n",
      "\n",
      "C =  0.30000\n",
      "sigma =  1\n",
      "\n",
      "Training ................................................................. Done! \n",
      "\n",
      "C =  0.30000\n",
      "sigma =  3\n",
      "\n",
      "Training ................................... Done! \n",
      "\n",
      "C =  0.30000\n",
      "sigma =  10\n",
      "\n",
      "Training ....................................... Done! \n",
      "\n",
      "C =  0.30000\n",
      "sigma =  30\n",
      "\n",
      "Training ....................................................... Done! \n",
      "\n",
      "C =  1\n",
      "sigma =  0.010000\n",
      "\n",
      "Training ......... Done! \n",
      "\n",
      "C =  1\n",
      "sigma =  0.030000\n",
      "\n",
      "Training ......................................................................\n",
      "......................................... Done! \n",
      "\n",
      "C =  1\n",
      "sigma =  0.10000\n",
      "\n",
      "Training ......................................................................\n",
      "...............................................................................\n",
      "...............................................................................\n",
      "........................................................ Done! \n",
      "\n",
      "C =  1\n",
      "sigma =  0.30000\n",
      "\n",
      "Training ......................................................................\n",
      "............... Done! \n",
      "\n",
      "C =  1\n",
      "sigma =  1\n",
      "\n",
      "Training ................................................................... Done! \n",
      "\n",
      "C =  1\n",
      "sigma =  3\n",
      "\n",
      "Training ............................................ Done! \n",
      "\n",
      "C =  1\n",
      "sigma =  10\n",
      "\n",
      "Training ...................................................... Done! \n",
      "\n",
      "C =  1\n",
      "sigma =  30\n",
      "\n",
      "Training .................................. Done! \n",
      "\n",
      "C =  3\n",
      "sigma =  0.010000\n",
      "\n",
      "Training ......... Done! \n",
      "\n",
      "C =  3\n",
      "sigma =  0.030000\n",
      "\n",
      "Training ......................................................................\n",
      "................................................ Done! \n",
      "\n",
      "C =  3\n",
      "sigma =  0.10000\n",
      "\n",
      "Training ......................................................................\n",
      "...............................................................................\n",
      "...............................................................................\n",
      "...............................................................................\n",
      "...............................................................................\n",
      "...............................................................................\n",
      "...............................................................................\n",
      "...............................................................................\n",
      "...............................................................................\n",
      "...............................................................................\n",
      "..... Done! \n",
      "\n",
      "C =  3\n",
      "sigma =  0.30000\n",
      "\n",
      "Training ......................................................................\n",
      "...............................................................................\n",
      "..................................... Done! \n",
      "\n",
      "C =  3\n",
      "sigma =  1\n",
      "\n",
      "Training ......................................................................\n",
      "........................................... Done! \n",
      "\n",
      "C =  3\n",
      "sigma =  3\n",
      "\n",
      "Training ................................................... Done! \n",
      "\n",
      "C =  3\n",
      "sigma =  10\n",
      "\n",
      "Training ............................................. Done! \n",
      "\n",
      "C =  3\n",
      "sigma =  30\n",
      "\n",
      "Training ........................... Done! \n",
      "\n",
      "C =  10\n",
      "sigma =  0.010000\n",
      "\n",
      "Training ......... Done! \n",
      "\n",
      "C =  10\n",
      "sigma =  0.030000\n",
      "\n",
      "Training ......................................................................\n",
      "....... Done! \n",
      "\n",
      "C =  10\n",
      "sigma =  0.10000\n",
      "\n",
      "Training ......................................................................\n",
      "...............................................................................\n",
      "...............................................................................\n",
      "...............................................................................\n",
      "...............................................................................\n",
      "...............................................................................\n",
      "...............................................................................\n",
      "...............................................................................\n",
      "...............................................................................\n",
      "...............................................................................\n",
      "...............................................................................\n",
      "...............................................................................\n",
      "...............................................................................\n",
      "...............................................................................\n",
      "...... Done! \n",
      "\n",
      "C =  10\n",
      "sigma =  0.30000\n",
      "\n",
      "Training ......................................................................\n",
      "...............................................................................\n",
      "...............................................................................\n",
      "..................... Done! \n",
      "\n",
      "C =  10\n",
      "sigma =  1\n",
      "\n",
      "Training ......................................................................\n",
      ".................................................................... Done! \n",
      "\n",
      "C =  10\n",
      "sigma =  3\n",
      "\n",
      "Training ......................................................................\n",
      ".......................... Done! \n",
      "\n",
      "C =  10\n",
      "sigma =  10\n",
      "\n",
      "Training .............................................. Done! \n",
      "\n",
      "C =  10\n",
      "sigma =  30\n",
      "\n",
      "Training ........................................................... Done! \n",
      "\n",
      "C =  30\n",
      "sigma =  0.010000\n",
      "\n",
      "Training ......... Done! \n",
      "\n",
      "C =  30\n",
      "sigma =  0.030000\n",
      "\n",
      "Training ......................................................................\n",
      ".................... Done! \n",
      "\n",
      "C =  30\n",
      "sigma =  0.10000\n"
     ]
    },
    {
     "name": "stdout",
     "output_type": "stream",
     "text": [
      "\n",
      "Training ......................................................................\n",
      "...............................................................................\n",
      "...............................................................................\n",
      "...............................................................................\n",
      "...............................................................................\n",
      "...............................................................................\n",
      "...............................................................................\n",
      "...............................................................................\n",
      "...............................................................................\n",
      "...............................................................................\n",
      "...............................................................................\n",
      "...............................................................................\n",
      "...............................................................................\n",
      "...............................................................................\n",
      "...... Done! \n",
      "\n",
      "C =  30\n",
      "sigma =  0.30000\n",
      "\n",
      "Training ......................................................................\n",
      "...............................................................................\n",
      "...............................................................................\n",
      "...............................................................................\n",
      "...............................................................................\n",
      "...............................................................................\n",
      "...............................................................................\n",
      "...............................................................................\n",
      "........................................................................... Done! \n",
      "\n",
      "C =  30\n",
      "sigma =  1\n",
      "\n",
      "Training ......................................................................\n",
      "...............................................................................\n",
      "......................... Done! \n",
      "\n",
      "C =  30\n",
      "sigma =  3\n",
      "\n",
      "Training ......................................................................\n",
      "....... Done! \n",
      "\n",
      "C =  30\n",
      "sigma =  10\n",
      "\n",
      "Training ......................................................... Done! \n",
      "\n",
      "C =  30\n",
      "sigma =  30\n",
      "\n",
      "Training ..................................... Done! \n",
      "\n"
     ]
    }
   ],
   "source": [
    "# Treinando novamente o modelo e salvando os parâmetros\n",
    "j = 1;\n",
    "k = 1;\n",
    "predictions = zeros(64)(:, 1:3);\n",
    "for i = 1:length(predictions)\n",
    "    C = params_values(j)\n",
    "    sigma = params_values(k)\n",
    "    model = svmTrain(X, y, C, @(x1, x2) gaussianKernel(x1, x2, sigma));\n",
    "    y_pred = svmPredict(model, Xval);\n",
    "    performance = mean(double(y_pred ~= yval));\n",
    "    \n",
    "    predictions(i) = performance;\n",
    "    predictions(i+64) = C;\n",
    "    predictions(i+128) = sigma;\n",
    "    \n",
    "    k = k + 1;\n",
    "    \n",
    "    if k == 9\n",
    "        k = 1;\n",
    "        j = j + 1;\n",
    "    endif\n",
    "    \n",
    "    if j == 9;\n",
    "        break\n",
    "    endif\n",
    "    \n",
    "endfor"
   ]
  },
  {
   "cell_type": "markdown",
   "metadata": {},
   "source": [
    "Verificando matriz obtida.\n",
    "\n",
    "* Coluna 1 - Erro\n",
    "* Coluna 2 - C\n",
    "* Coluna 3 - sigma"
   ]
  },
  {
   "cell_type": "code",
   "execution_count": 57,
   "metadata": {
    "ExecuteTime": {
     "end_time": "2019-02-16T13:24:55.615373Z",
     "start_time": "2019-02-16T13:24:55.512639Z"
    }
   },
   "outputs": [
    {
     "name": "stdout",
     "output_type": "stream",
     "text": [
      "predictions =\n",
      "\n",
      "    0.565000    0.010000    0.010000\n",
      "    0.060000    0.010000    0.030000\n",
      "    0.045000    0.010000    0.100000\n",
      "    0.145000    0.010000    0.300000\n",
      "    0.180000    0.010000    1.000000\n",
      "    0.185000    0.010000    3.000000\n",
      "    0.180000    0.010000   10.000000\n",
      "    0.180000    0.010000   30.000000\n",
      "    0.565000    0.030000    0.010000\n",
      "    0.060000    0.030000    0.030000\n",
      "    0.045000    0.030000    0.100000\n",
      "    0.140000    0.030000    0.300000\n",
      "    0.180000    0.030000    1.000000\n",
      "    0.185000    0.030000    3.000000\n",
      "    0.185000    0.030000   10.000000\n",
      "    0.180000    0.030000   30.000000\n",
      "    0.565000    0.100000    0.010000\n",
      "    0.060000    0.100000    0.030000\n",
      "    0.045000    0.100000    0.100000\n",
      "    0.075000    0.100000    0.300000\n",
      "    0.170000    0.100000    1.000000\n",
      "    0.185000    0.100000    3.000000\n",
      "    0.180000    0.100000   10.000000\n",
      "    0.180000    0.100000   30.000000\n",
      "    0.565000    0.300000    0.010000\n",
      "    0.060000    0.300000    0.030000\n",
      "    0.035000    0.300000    0.100000\n",
      "    0.070000    0.300000    0.300000\n",
      "    0.100000    0.300000    1.000000\n",
      "    0.180000    0.300000    3.000000\n",
      "    0.180000    0.300000   10.000000\n",
      "    0.185000    0.300000   30.000000\n",
      "    0.565000    1.000000    0.010000\n",
      "    0.065000    1.000000    0.030000\n",
      "    0.030000    1.000000    0.100000\n",
      "    0.070000    1.000000    0.300000\n",
      "    0.075000    1.000000    1.000000\n",
      "    0.165000    1.000000    3.000000\n",
      "    0.180000    1.000000   10.000000\n",
      "    0.180000    1.000000   30.000000\n",
      "    0.565000    3.000000    0.010000\n",
      "    0.080000    3.000000    0.030000\n",
      "    0.040000    3.000000    0.100000\n",
      "    0.075000    3.000000    0.300000\n",
      "    0.090000    3.000000    1.000000\n",
      "    0.095000    3.000000    3.000000\n",
      "    0.185000    3.000000   10.000000\n",
      "    0.180000    3.000000   30.000000\n",
      "    0.565000   10.000000    0.010000\n",
      "    0.080000   10.000000    0.030000\n",
      "    0.070000   10.000000    0.100000\n",
      "    0.070000   10.000000    0.300000\n",
      "    0.095000   10.000000    1.000000\n",
      "    0.075000   10.000000    3.000000\n",
      "    0.165000   10.000000   10.000000\n",
      "    0.180000   10.000000   30.000000\n",
      "    0.565000   30.000000    0.010000\n",
      "    0.080000   30.000000    0.030000\n",
      "    0.060000   30.000000    0.100000\n",
      "    0.060000   30.000000    0.300000\n",
      "    0.105000   30.000000    1.000000\n",
      "    0.075000   30.000000    3.000000\n",
      "    0.105000   30.000000   10.000000\n",
      "    0.180000   30.000000   30.000000\n",
      "\n"
     ]
    }
   ],
   "source": [
    "# Matriz\n",
    "predictions"
   ]
  },
  {
   "cell_type": "code",
   "execution_count": 58,
   "metadata": {
    "ExecuteTime": {
     "end_time": "2019-02-16T13:24:55.657573Z",
     "start_time": "2019-02-16T13:24:55.617367Z"
    }
   },
   "outputs": [
    {
     "name": "stdout",
     "output_type": "stream",
     "text": [
      "menor_erro =  0.030000\n"
     ]
    }
   ],
   "source": [
    "menor_erro = min(predictions(:, 1))"
   ]
  },
  {
   "cell_type": "code",
   "execution_count": 59,
   "metadata": {
    "ExecuteTime": {
     "end_time": "2019-02-16T13:24:59.936109Z",
     "start_time": "2019-02-16T13:24:55.660000Z"
    }
   },
   "outputs": [
    {
     "name": "stdout",
     "output_type": "stream",
     "text": [
      "'find' is a built-in function from the file libinterp/corefcn/find.cc\n",
      "\n",
      " -- IDX = find (X)\n",
      " -- IDX = find (X, N)\n",
      " -- IDX = find (X, N, DIRECTION)\n",
      " -- [i, j] = find (...)\n",
      " -- [i, j, v] = find (...)\n",
      "     Return a vector of indices of nonzero elements of a matrix, as a\n",
      "     row if X is a row vector or as a column otherwise.\n",
      "\n",
      "     To obtain a single index for each matrix element, Octave pretends\n",
      "     that the columns of a matrix form one long vector (like Fortran\n",
      "     arrays are stored).  For example:\n",
      "\n",
      "          find (eye (2))\n",
      "            => [ 1; 4 ]\n",
      "\n",
      "     If two inputs are given, N indicates the maximum number of elements\n",
      "     to find from the beginning of the matrix or vector.\n",
      "\n",
      "     If three inputs are given, DIRECTION should be one of \"first\" or\n",
      "     \"last\", requesting only the first or last N indices, respectively.\n",
      "     However, the indices are always returned in ascending order.\n",
      "\n",
      "     If two outputs are requested, 'find' returns the row and column\n",
      "     indices of nonzero elements of a matrix.  For example:\n",
      "\n",
      "          [i, j] = find (2 * eye (2))\n",
      "              => i = [ 1; 2 ]\n",
      "              => j = [ 1; 2 ]\n",
      "\n",
      "     If three outputs are requested, 'find' also returns a vector\n",
      "     containing the nonzero values.  For example:\n",
      "\n",
      "          [i, j, v] = find (3 * eye (2))\n",
      "                 => i = [ 1; 2 ]\n",
      "                 => j = [ 1; 2 ]\n",
      "                 => v = [ 3; 3 ]\n",
      "\n",
      "     Note that this function is particularly useful for sparse matrices,\n",
      "     as it extracts the nonzero elements as vectors, which can then be\n",
      "     used to create the original matrix.  For example:\n",
      "\n",
      "          sz = size (a);\n",
      "          [i, j, v] = find (a);\n",
      "          b = sparse (i, j, v, sz(1), sz(2));\n",
      "\n",
      "     See also: nonzeros.\n",
      "\n",
      "Additional help for built-in functions and operators is\n",
      "available in the online version of the manual.  Use the command\n",
      "'doc <topic>' to search the manual index.\n",
      "\n",
      "Help and information about Octave is also available on the WWW\n",
      "at https://www.octave.org and via the help@octave.org\n",
      "mailing list.\n"
     ]
    }
   ],
   "source": [
    "help find"
   ]
  },
  {
   "cell_type": "code",
   "execution_count": 60,
   "metadata": {
    "ExecuteTime": {
     "end_time": "2019-02-16T13:24:59.987557Z",
     "start_time": "2019-02-16T13:24:59.939689Z"
    }
   },
   "outputs": [
    {
     "name": "stdout",
     "output_type": "stream",
     "text": [
      "ans =  1\n"
     ]
    }
   ],
   "source": [
    "find(menor_erro)"
   ]
  },
  {
   "cell_type": "markdown",
   "metadata": {},
   "source": [
    "Visualmente, é possível ver que o menor erro é ```0,03``` com C = ```1``` e sigma = ```0,1```"
   ]
  },
  {
   "cell_type": "code",
   "execution_count": 61,
   "metadata": {
    "ExecuteTime": {
     "end_time": "2019-02-16T13:25:00.049423Z",
     "start_time": "2019-02-16T13:24:59.990549Z"
    }
   },
   "outputs": [
    {
     "name": "stdout",
     "output_type": "stream",
     "text": [
      "ans =\n",
      "\n",
      "   0.030000\n",
      "   0.030000\n",
      "   0.030000\n",
      "   0.030000\n",
      "   0.030000\n",
      "   0.030000\n",
      "   0.030000\n",
      "   0.030000\n",
      "   0.030000\n",
      "   0.030000\n",
      "   0.030000\n",
      "   0.030000\n",
      "   0.030000\n",
      "   0.030000\n",
      "   0.030000\n",
      "   0.030000\n",
      "   0.030000\n",
      "\n"
     ]
    }
   ],
   "source": [
    "predictions(predictions == menor_erro)"
   ]
  },
  {
   "cell_type": "markdown",
   "metadata": {},
   "source": [
    "### Melhores Parâmetros"
   ]
  },
  {
   "cell_type": "markdown",
   "metadata": {},
   "source": [
    "O melhor jeito é realizar uma verificação através de um if, para assim retornar os parâmetros C e sigma caso o erro seja o menor a cada iteração."
   ]
  },
  {
   "cell_type": "code",
   "execution_count": 62,
   "metadata": {
    "ExecuteTime": {
     "end_time": "2019-02-16T13:28:41.457456Z",
     "start_time": "2019-02-16T13:25:00.050419Z"
    }
   },
   "outputs": [
    {
     "name": "stdout",
     "output_type": "stream",
     "text": [
      "C =  0.010000\n",
      "sigma =  0.010000\n",
      "\n",
      "Training ......... Done! \n",
      "\n",
      "C =  0.010000\n",
      "sigma =  0.030000\n",
      "\n",
      "Training .................................................. Done! \n",
      "\n",
      "C =  0.010000\n",
      "sigma =  0.10000\n",
      "\n",
      "Training ......................................................................\n",
      "........ Done! \n",
      "\n",
      "C =  0.010000\n",
      "sigma =  0.30000\n",
      "\n",
      "Training ................................... Done! \n",
      "\n",
      "C =  0.010000\n",
      "sigma =  1\n",
      "\n",
      "Training .......................... Done! \n",
      "\n",
      "C =  0.010000\n",
      "sigma =  3\n",
      "\n",
      "Training ........................................... Done! \n",
      "\n",
      "C =  0.010000\n",
      "sigma =  10\n",
      "\n",
      "Training ............................................ Done! \n",
      "\n",
      "C =  0.010000\n",
      "sigma =  30\n",
      "\n",
      "Training ................................................... Done! \n",
      "\n",
      "C =  0.030000\n",
      "sigma =  0.010000\n",
      "\n",
      "Training ......... Done! \n",
      "\n",
      "C =  0.030000\n",
      "sigma =  0.030000\n",
      "\n",
      "Training ............................................................. Done! \n",
      "\n",
      "C =  0.030000\n",
      "sigma =  0.10000\n",
      "\n",
      "Training ....................................................... Done! \n",
      "\n",
      "C =  0.030000\n",
      "sigma =  0.30000\n",
      "\n",
      "Training .................................................. Done! \n",
      "\n",
      "C =  0.030000\n",
      "sigma =  1\n",
      "\n",
      "Training ............................... Done! \n",
      "\n",
      "C =  0.030000\n",
      "sigma =  3\n",
      "\n",
      "Training ...................................... Done! \n",
      "\n",
      "C =  0.030000\n",
      "sigma =  10\n",
      "\n",
      "Training .................................. Done! \n",
      "\n",
      "C =  0.030000\n",
      "sigma =  30\n",
      "\n",
      "Training ............................................. Done! \n",
      "\n",
      "C =  0.10000\n",
      "sigma =  0.010000\n",
      "\n",
      "Training ......... Done! \n",
      "\n",
      "C =  0.10000\n",
      "sigma =  0.030000\n",
      "\n",
      "Training ......................................................................\n",
      ".... Done! \n",
      "\n",
      "C =  0.10000\n",
      "sigma =  0.10000\n",
      "\n",
      "Training ......................................................................\n",
      ".................................................................. Done! \n",
      "\n",
      "C =  0.10000\n",
      "sigma =  0.30000\n",
      "\n",
      "Training ......................................................................\n",
      "........................ Done! \n",
      "\n",
      "C =  0.10000\n",
      "sigma =  1\n",
      "\n",
      "Training .................................... Done! \n",
      "\n",
      "C =  0.10000\n",
      "sigma =  3\n",
      "\n",
      "Training ........................... Done! \n",
      "\n",
      "C =  0.10000\n",
      "sigma =  10\n",
      "\n",
      "Training ................................ Done! \n",
      "\n",
      "C =  0.10000\n",
      "sigma =  30\n",
      "\n",
      "Training ..................................................... Done! \n",
      "\n",
      "C =  0.30000\n",
      "sigma =  0.010000\n",
      "\n",
      "Training ......... Done! \n",
      "\n",
      "C =  0.30000\n",
      "sigma =  0.030000\n",
      "\n",
      "Training .................................................. Done! \n",
      "\n",
      "C =  0.30000\n",
      "sigma =  0.10000\n",
      "\n",
      "Training ......................................................................\n",
      "...............................................................................\n",
      "...............................................................................\n",
      "................................................ Done! \n",
      "\n",
      "C =  0.30000\n",
      "sigma =  0.30000\n",
      "\n",
      "Training .................................................................... Done! \n",
      "\n",
      "C =  0.30000\n",
      "sigma =  1\n",
      "\n",
      "Training ......................................................................\n",
      "...................... Done! \n",
      "\n",
      "C =  0.30000\n",
      "sigma =  3\n",
      "\n",
      "Training ........................................... Done! \n",
      "\n",
      "C =  0.30000\n",
      "sigma =  10\n",
      "\n",
      "Training ................................... Done! \n",
      "\n",
      "C =  0.30000\n",
      "sigma =  30\n",
      "\n",
      "Training ................................................. Done! \n",
      "\n",
      "C =  1\n",
      "sigma =  0.010000\n",
      "\n",
      "Training ......... Done! \n",
      "\n",
      "C =  1\n",
      "sigma =  0.030000\n",
      "\n",
      "Training ......................................................................\n",
      ".......................... Done! \n",
      "\n",
      "C =  1\n",
      "sigma =  0.10000\n",
      "\n",
      "Training ......................................................................\n",
      "...............................................................................\n",
      "...............................................................................\n",
      "................................. Done! \n",
      "\n",
      "C =  1\n",
      "sigma =  0.30000\n",
      "\n",
      "Training ......................................................................\n",
      "............ Done! \n",
      "\n",
      "C =  1\n",
      "sigma =  1\n",
      "\n",
      "Training ............................................................ Done! \n",
      "\n",
      "C =  1\n",
      "sigma =  3\n",
      "\n",
      "Training ......................................................................\n",
      "............ Done! \n",
      "\n",
      "C =  1\n",
      "sigma =  10\n",
      "\n",
      "Training .............................................. Done! \n",
      "\n",
      "C =  1\n",
      "sigma =  30\n",
      "\n",
      "Training ....................................................... Done! \n",
      "\n",
      "C =  3\n",
      "sigma =  0.010000\n",
      "\n",
      "Training ......... Done! \n",
      "\n",
      "C =  3\n",
      "sigma =  0.030000\n",
      "\n",
      "Training ..................................................................... Done! \n",
      "\n",
      "C =  3\n",
      "sigma =  0.10000\n",
      "\n",
      "Training ......................................................................\n",
      "...............................................................................\n",
      "...............................................................................\n",
      "...............................................................................\n",
      "...............................................................................\n",
      "...............................................................................\n",
      "...............................................................................\n",
      "...............................................................................\n",
      "..................................................................... Done! \n",
      "\n",
      "C =  3\n",
      "sigma =  0.30000\n",
      "\n",
      "Training ......................................................................\n",
      "...............................................................................\n",
      "............................ Done! \n",
      "\n",
      "C =  3\n",
      "sigma =  1\n",
      "\n",
      "Training ......................................................................\n",
      "..................................................... Done! \n",
      "\n",
      "C =  3\n",
      "sigma =  3\n",
      "\n",
      "Training ......................................................................\n",
      ".................... Done! \n",
      "\n",
      "C =  3\n",
      "sigma =  10\n",
      "\n",
      "Training ................................. Done! \n",
      "\n",
      "C =  3\n",
      "sigma =  30\n",
      "\n",
      "Training ............................................................ Done! \n",
      "\n",
      "C =  10\n",
      "sigma =  0.010000\n",
      "\n",
      "Training ......... Done! \n",
      "\n",
      "C =  10\n",
      "sigma =  0.030000\n",
      "\n",
      "Training ......................................................................\n",
      "... Done! \n",
      "\n",
      "C =  10\n",
      "sigma =  0.10000\n",
      "\n",
      "Training ......................................................................\n",
      "...............................................................................\n",
      "...............................................................................\n",
      "...............................................................................\n",
      "...............................................................................\n",
      "...............................................................................\n",
      "...............................................................................\n",
      "...............................................................................\n",
      "...............................................................................\n",
      "...............................................................................\n",
      "...............................................................................\n",
      "......................................................... Done! \n",
      "\n",
      "C =  10\n",
      "sigma =  0.30000\n",
      "\n",
      "Training ......................................................................\n",
      "...............................................................................\n",
      "...............................................................................\n",
      "...............................................................................\n",
      "............... Done! \n",
      "\n",
      "C =  10\n",
      "sigma =  1\n",
      "\n",
      "Training ................................................................. Done! \n",
      "\n",
      "C =  10\n",
      "sigma =  3\n",
      "\n",
      "Training .............................................................. Done! \n",
      "\n",
      "C =  10\n",
      "sigma =  10\n",
      "\n",
      "Training ................................................. Done! \n",
      "\n",
      "C =  10\n",
      "sigma =  30\n",
      "\n",
      "Training ................................. Done! \n",
      "\n",
      "C =  30\n",
      "sigma =  0.010000\n",
      "\n",
      "Training ......... Done! \n",
      "\n",
      "C =  30\n",
      "sigma =  0.030000\n",
      "\n",
      "Training ................................................................ Done! \n",
      "\n",
      "C =  30\n",
      "sigma =  0.10000\n",
      "\n",
      "Training ......................................................................\n",
      "...............................................................................\n",
      "...............................................................................\n",
      "...............................................................................\n"
     ]
    },
    {
     "name": "stdout",
     "output_type": "stream",
     "text": [
      "...............................................................................\n",
      "...............................................................................\n",
      "...............................................................................\n",
      "...............................................................................\n",
      "...............................................................................\n",
      "...............................................................................\n",
      "............................................................ Done! \n",
      "\n",
      "C =  30\n",
      "sigma =  0.30000\n",
      "\n",
      "Training ......................................................................\n",
      "...............................................................................\n",
      "...............................................................................\n",
      "...............................................................................\n",
      "...............................................................................\n",
      "................................................................. Done! \n",
      "\n",
      "C =  30\n",
      "sigma =  1\n",
      "\n",
      "Training ......................................................................\n",
      "...............................................................................\n",
      ".......... Done! \n",
      "\n",
      "C =  30\n",
      "sigma =  3\n",
      "\n",
      "Training ......................................................................\n",
      "................................. Done! \n",
      "\n",
      "C =  30\n",
      "sigma =  10\n",
      "\n",
      "Training ................................................... Done! \n",
      "\n",
      "C =  30\n",
      "sigma =  30\n",
      "\n",
      "Training .......................................... Done! \n",
      "\n"
     ]
    }
   ],
   "source": [
    "# Treinando novamente o modelo e salvando os parâmetros\n",
    "j = 1;\n",
    "k = 1;\n",
    "predictions = zeros(64)(:, 1:3);\n",
    "lowest_error = 1;\n",
    "best_C = 0;\n",
    "best_sigma = 0;\n",
    "\n",
    "for i = 1:length(predictions)\n",
    "    C = params_values(j)\n",
    "    sigma = params_values(k)\n",
    "    model = svmTrain(X, y, C, @(x1, x2) gaussianKernel(x1, x2, sigma));\n",
    "    y_pred = svmPredict(model, Xval);\n",
    "    performance = mean(double(y_pred ~= yval));\n",
    "    \n",
    "    predictions(i) = performance;\n",
    "    predictions(i+64) = C;\n",
    "    predictions(i+128) = sigma;\n",
    "    \n",
    "    if performance < lowest_error\n",
    "        lowest_error = performance;\n",
    "        best_C = C;\n",
    "        best_sigma = sigma;\n",
    "    endif\n",
    "    \n",
    "    k = k + 1;\n",
    "    \n",
    "    if k == 9\n",
    "        k = 1;\n",
    "        j = j + 1;\n",
    "    endif\n",
    "    \n",
    "    if j == 9;\n",
    "        break\n",
    "    endif\n",
    "    \n",
    "endfor"
   ]
  },
  {
   "cell_type": "code",
   "execution_count": 63,
   "metadata": {
    "ExecuteTime": {
     "end_time": "2019-02-16T13:28:41.668851Z",
     "start_time": "2019-02-16T13:28:41.457456Z"
    }
   },
   "outputs": [
    {
     "name": "stdout",
     "output_type": "stream",
     "text": [
      "lowest_error =  0.030000\n",
      "best_C =  1\n",
      "best_sigma =  0.10000\n"
     ]
    }
   ],
   "source": [
    "lowest_error\n",
    "best_C\n",
    "best_sigma"
   ]
  },
  {
   "cell_type": "code",
   "execution_count": 64,
   "metadata": {
    "ExecuteTime": {
     "end_time": "2019-02-16T13:28:41.781307Z",
     "start_time": "2019-02-16T13:28:41.670159Z"
    }
   },
   "outputs": [
    {
     "name": "stdout",
     "output_type": "stream",
     "text": [
      "predictions =\n",
      "\n",
      "    0.565000    0.010000    0.010000\n",
      "    0.060000    0.010000    0.030000\n",
      "    0.045000    0.010000    0.100000\n",
      "    0.145000    0.010000    0.300000\n",
      "    0.185000    0.010000    1.000000\n",
      "    0.185000    0.010000    3.000000\n",
      "    0.185000    0.010000   10.000000\n",
      "    0.180000    0.010000   30.000000\n",
      "    0.565000    0.030000    0.010000\n",
      "    0.060000    0.030000    0.030000\n",
      "    0.045000    0.030000    0.100000\n",
      "    0.140000    0.030000    0.300000\n",
      "    0.180000    0.030000    1.000000\n",
      "    0.185000    0.030000    3.000000\n",
      "    0.185000    0.030000   10.000000\n",
      "    0.180000    0.030000   30.000000\n",
      "    0.565000    0.100000    0.010000\n",
      "    0.060000    0.100000    0.030000\n",
      "    0.045000    0.100000    0.100000\n",
      "    0.080000    0.100000    0.300000\n",
      "    0.175000    0.100000    1.000000\n",
      "    0.180000    0.100000    3.000000\n",
      "    0.185000    0.100000   10.000000\n",
      "    0.185000    0.100000   30.000000\n",
      "    0.565000    0.300000    0.010000\n",
      "    0.060000    0.300000    0.030000\n",
      "    0.035000    0.300000    0.100000\n",
      "    0.060000    0.300000    0.300000\n",
      "    0.100000    0.300000    1.000000\n",
      "    0.180000    0.300000    3.000000\n",
      "    0.185000    0.300000   10.000000\n",
      "    0.180000    0.300000   30.000000\n",
      "    0.565000    1.000000    0.010000\n",
      "    0.065000    1.000000    0.030000\n",
      "    0.030000    1.000000    0.100000\n",
      "    0.070000    1.000000    0.300000\n",
      "    0.075000    1.000000    1.000000\n",
      "    0.140000    1.000000    3.000000\n",
      "    0.185000    1.000000   10.000000\n",
      "    0.185000    1.000000   30.000000\n",
      "    0.565000    3.000000    0.010000\n",
      "    0.080000    3.000000    0.030000\n",
      "    0.035000    3.000000    0.100000\n",
      "    0.075000    3.000000    0.300000\n",
      "    0.085000    3.000000    1.000000\n",
      "    0.105000    3.000000    3.000000\n",
      "    0.185000    3.000000   10.000000\n",
      "    0.185000    3.000000   30.000000\n",
      "    0.565000   10.000000    0.010000\n",
      "    0.080000   10.000000    0.030000\n",
      "    0.070000   10.000000    0.100000\n",
      "    0.070000   10.000000    0.300000\n",
      "    0.085000   10.000000    1.000000\n",
      "    0.085000   10.000000    3.000000\n",
      "    0.165000   10.000000   10.000000\n",
      "    0.185000   10.000000   30.000000\n",
      "    0.565000   30.000000    0.010000\n",
      "    0.080000   30.000000    0.030000\n",
      "    0.060000   30.000000    0.100000\n",
      "    0.060000   30.000000    0.300000\n",
      "    0.095000   30.000000    1.000000\n",
      "    0.065000   30.000000    3.000000\n",
      "    0.095000   30.000000   10.000000\n",
      "    0.185000   30.000000   30.000000\n",
      "\n"
     ]
    }
   ],
   "source": [
    "predictions"
   ]
  },
  {
   "cell_type": "markdown",
   "metadata": {},
   "source": [
    "Ótimo, parece que deu certo. O menor erro é 0.03 com C=1 e sigma=0.1"
   ]
  },
  {
   "cell_type": "code",
   "execution_count": 65,
   "metadata": {
    "ExecuteTime": {
     "end_time": "2019-02-16T13:36:12.645477Z",
     "start_time": "2019-02-16T13:36:00.787973Z"
    }
   },
   "outputs": [
    {
     "name": "stdout",
     "output_type": "stream",
     "text": [
      "\n",
      "Training ......................................................................\n",
      "...............................................................................\n",
      "...............................................................................\n",
      "............... Done! \n",
      "\n",
      "Erro do modelo com C=1 e sigma=0.1: 0.0300\n"
     ]
    },
    {
     "data": {
      "image/png": "[encoded data removed]",
      "text/plain": [
       "<IPython.core.display.Image object>"
      ]
     },
     "metadata": {},
     "output_type": "display_data"
    }
   ],
   "source": [
    "# Visualizando\n",
    "bestParams(best_C, best_sigma, X, y, Xval, yval);"
   ]
  },
  {
   "cell_type": "code",
   "execution_count": 67,
   "metadata": {
    "ExecuteTime": {
     "end_time": "2019-02-16T13:37:23.406838Z",
     "start_time": "2019-02-16T13:37:17.775752Z"
    }
   },
   "outputs": [
    {
     "name": "stdout",
     "output_type": "stream",
     "text": [
      "C =  5\n",
      "sigma =  1\n",
      "\n",
      "Training ......................................................................\n",
      ".............................................................. Done! \n",
      "\n",
      "Erro do modelo com C=5 e sigma=1: 0.0750\n"
     ]
    },
    {
     "data": {
      "image/png": "[encoded data removed]",
      "text/plain": [
       "<IPython.core.display.Image object>"
      ]
     },
     "metadata": {},
     "output_type": "display_data"
    }
   ],
   "source": [
    "% Comparando com outros valores de C e sigma\n",
    "C = 5\n",
    "sigma = 1\n",
    "bestParams(C, sigma, X, y, Xval, yval);"
   ]
  },
  {
   "cell_type": "markdown",
   "metadata": {},
   "source": [
    "## Spam Classifier"
   ]
  },
  {
   "cell_type": "code",
   "execution_count": 69,
   "metadata": {
    "ExecuteTime": {
     "end_time": "2019-02-16T14:08:23.972605Z",
     "start_time": "2019-02-16T14:08:23.764705Z"
    }
   },
   "outputs": [],
   "source": [
    "# Criando função para ler arquivos de email\n",
    "function file_contents = readFile(filename)\n",
    "%READFILE reads a file and returns its entire contents \n",
    "%   file_contents = READFILE(filename) reads a file and returns its entire\n",
    "%   contents in file_contents\n",
    "%\n",
    "\n",
    "% Load File\n",
    "fid = fopen(filename);\n",
    "if fid\n",
    "    file_contents = fscanf(fid, '%c', inf);\n",
    "    fclose(fid);\n",
    "else\n",
    "    file_contents = '';\n",
    "    fprintf('Unable to open %s\\n', filename);\n",
    "end\n",
    "\n",
    "end"
   ]
  },
  {
   "cell_type": "code",
   "execution_count": 71,
   "metadata": {
    "ExecuteTime": {
     "end_time": "2019-02-16T14:08:31.774821Z",
     "start_time": "2019-02-16T14:08:31.744754Z"
    }
   },
   "outputs": [],
   "source": [
    "file_contents = readFile('emailSample1.txt');"
   ]
  },
  {
   "cell_type": "code",
   "execution_count": 73,
   "metadata": {
    "ExecuteTime": {
     "end_time": "2019-02-16T14:08:51.462467Z",
     "start_time": "2019-02-16T14:08:51.415594Z"
    }
   },
   "outputs": [
    {
     "name": "stdout",
     "output_type": "stream",
     "text": [
      "file_contents = > Anyone knows how much it costs to host a web portal ?\n",
      ">\n",
      "Well, it depends on how many visitors you're expecting.\n",
      "This can be anywhere from less than 10 bucks a month to a couple of $100. \n",
      "You should checkout http://www.rackspace.com/ or perhaps Amazon EC2 \n",
      "if youre running something big..\n",
      "\n",
      "To unsubscribe yourself from this mailing list, send an email to:\n",
      "groupname-unsubscribe@egroups.com\n",
      "\n",
      "\n"
     ]
    }
   ],
   "source": [
    "# Vejamos um exemplo de email\n",
    "file_contents"
   ]
  },
  {
   "cell_type": "markdown",
   "metadata": {},
   "source": [
    "Função para processar o email.\n"
   ]
  },
  {
   "cell_type": "code",
   "execution_count": 74,
   "metadata": {
    "ExecuteTime": {
     "end_time": "2019-02-16T14:19:39.431765Z",
     "start_time": "2019-02-16T14:19:37.754694Z"
    }
   },
   "outputs": [],
   "source": [
    "function word_indices = processEmail(email_contents)\n",
    "%PROCESSEMAIL preprocesses a the body of an email and\n",
    "%returns a list of word_indices \n",
    "%   word_indices = PROCESSEMAIL(email_contents) preprocesses \n",
    "%   the body of an email and returns a list of indices of the \n",
    "%   words contained in the email. \n",
    "%\n",
    "\n",
    "% Load Vocabulary\n",
    "vocabList = getVocabList();\n",
    "\n",
    "% Init return value\n",
    "word_indices = [];\n",
    "\n",
    "% ========================== Preprocess Email ===========================\n",
    "\n",
    "% Find the Headers ( \\n\\n and remove )\n",
    "% Uncomment the following lines if you are working with raw emails with the\n",
    "% full headers\n",
    "\n",
    "% hdrstart = strfind(email_contents, ([char(10) char(10)]));\n",
    "% email_contents = email_contents(hdrstart(1):end);\n",
    "\n",
    "% Lower case\n",
    "email_contents = lower(email_contents);\n",
    "\n",
    "% Strip all HTML\n",
    "% Looks for any expression that starts with < and ends with > and replace\n",
    "% and does not have any < or > in the tag it with a space\n",
    "email_contents = regexprep(email_contents, '<[^<>]+>', ' ');\n",
    "\n",
    "% Handle Numbers\n",
    "% Look for one or more characters between 0-9\n",
    "email_contents = regexprep(email_contents, '[0-9]+', 'number');\n",
    "\n",
    "% Handle URLS\n",
    "% Look for strings starting with http:// or https://\n",
    "email_contents = regexprep(email_contents, ...\n",
    "                           '(http|https)://[^\\s]*', 'httpaddr');\n",
    "\n",
    "% Handle Email Addresses\n",
    "% Look for strings with @ in the middle\n",
    "email_contents = regexprep(email_contents, '[^\\s]+@[^\\s]+', 'emailaddr');\n",
    "\n",
    "% Handle $ sign\n",
    "email_contents = regexprep(email_contents, '[$]+', 'dollar');\n",
    "\n",
    "\n",
    "% ========================== Tokenize Email ===========================\n",
    "\n",
    "% Output the email to screen as well\n",
    "fprintf('\\n==== Processed Email ====\\n\\n');\n",
    "\n",
    "% Process file\n",
    "l = 0;\n",
    "\n",
    "while ~isempty(email_contents)\n",
    "\n",
    "    % Tokenize and also get rid of any punctuation\n",
    "    [str, email_contents] = ...\n",
    "       strtok(email_contents, ...\n",
    "              [' @$/#.-:&*+=[]?!(){},''\">_<;%' char(10) char(13)]);\n",
    "   \n",
    "    % Remove any non alphanumeric characters\n",
    "    str = regexprep(str, '[^a-zA-Z0-9]', '');\n",
    "\n",
    "    % Stem the word \n",
    "    % (the porterStemmer sometimes has issues, so we use a try catch block)\n",
    "    try str = porterStemmer(strtrim(str)); \n",
    "    catch str = ''; continue;\n",
    "    end;\n",
    "\n",
    "    % Skip the word if it is too short\n",
    "    if length(str) < 1\n",
    "       continue;\n",
    "    end\n",
    "\n",
    "    % Look up the word in the dictionary and add to word_indices if\n",
    "    % found\n",
    "    % ====================== YOUR CODE HERE ======================\n",
    "    % Instructions: Fill in this function to add the index of str to\n",
    "    %               word_indices if it is in the vocabulary. At this point\n",
    "    %               of the code, you have a stemmed word from the email in\n",
    "    %               the variable str. You should look up str in the\n",
    "    %               vocabulary list (vocabList). If a match exists, you\n",
    "    %               should add the index of the word to the word_indices\n",
    "    %               vector. Concretely, if str = 'action', then you should\n",
    "    %               look up the vocabulary list to find where in vocabList\n",
    "    %               'action' appears. For example, if vocabList{18} =\n",
    "    %               'action', then, you should add 18 to the word_indices \n",
    "    %               vector (e.g., word_indices = [word_indices ; 18]; ).\n",
    "    % \n",
    "    % Note: vocabList{idx} returns a the word with index idx in the\n",
    "    %       vocabulary list.\n",
    "    % \n",
    "    % Note: You can use strcmp(str1, str2) to compare two strings (str1 and\n",
    "    %       str2). It will return 1 only if the two strings are equivalent.\n",
    "    %\n",
    "\n",
    "    vocabSize = size(vocabList);\n",
    "    \n",
    "    for index = 1 : vocabSize,\n",
    "    \tif strcmp(vocabList{index} , str),\n",
    "    \t\tword_indices = [word_indices ; index]; \n",
    "    \tend\n",
    "    end\n",
    "\n",
    "\n",
    "    % =============================================================\n",
    "\n",
    "\n",
    "    % Print to screen, ensuring that the output lines are not too long\n",
    "    if (l + length(str) + 1) > 78\n",
    "        fprintf('\\n');\n",
    "        l = 0;\n",
    "    end\n",
    "    fprintf('%s ', str);\n",
    "    l = l + length(str) + 1;\n",
    "\n",
    "end\n",
    "\n",
    "% Print footer\n",
    "fprintf('\\n\\n=========================\\n');\n",
    "\n",
    "end\n"
   ]
  },
  {
   "cell_type": "markdown",
   "metadata": {},
   "source": [
    "Função para extração das features"
   ]
  },
  {
   "cell_type": "code",
   "execution_count": 75,
   "metadata": {
    "ExecuteTime": {
     "end_time": "2019-02-16T14:19:54.474938Z",
     "start_time": "2019-02-16T14:19:53.537652Z"
    }
   },
   "outputs": [],
   "source": [
    "function x = emailFeatures(word_indices)\n",
    "%EMAILFEATURES takes in a word_indices vector and produces a feature vector\n",
    "%from the word indices\n",
    "%   x = EMAILFEATURES(word_indices) takes in a word_indices vector and \n",
    "%   produces a feature vector from the word indices. \n",
    "\n",
    "% Total number of words in the dictionary\n",
    "n = 1899;\n",
    "\n",
    "% You need to return the following variables correctly.\n",
    "x = zeros(n, 1);\n",
    "\n",
    "% ====================== YOUR CODE HERE ======================\n",
    "% Instructions: Fill in this function to return a feature vector for the\n",
    "%               given email (word_indices). To help make it easier to \n",
    "%               process the emails, we have have already pre-processed each\n",
    "%               email and converted each word in the email into an index in\n",
    "%               a fixed dictionary (of 1899 words). The variable\n",
    "%               word_indices contains the list of indices of the words\n",
    "%               which occur in one email.\n",
    "% \n",
    "%               Concretely, if an email has the text:\n",
    "%\n",
    "%                  The quick brown fox jumped over the lazy dog.\n",
    "%\n",
    "%               Then, the word_indices vector for this text might look \n",
    "%               like:\n",
    "%               \n",
    "%                   60  100   33   44   10     53  60  58   5\n",
    "%\n",
    "%               where, we have mapped each word onto a number, for example:\n",
    "%\n",
    "%                   the   -- 60\n",
    "%                   quick -- 100\n",
    "%                   ...\n",
    "%\n",
    "%              (note: the above numbers are just an example and are not the\n",
    "%               actual mappings).\n",
    "%\n",
    "%              Your task is take one such word_indices vector and construct\n",
    "%              a binary feature vector that indicates whether a particular\n",
    "%              word occurs in the email. That is, x(i) = 1 when word i\n",
    "%              is present in the email. Concretely, if the word 'the' (say,\n",
    "%              index 60) appears in the email, then x(60) = 1. The feature\n",
    "%              vector should look like:\n",
    "%\n",
    "%              x = [ 0 0 0 0 1 0 0 0 ... 0 0 0 0 1 ... 0 0 0 1 0 ..];\n",
    "%\n",
    "%\n",
    "\n",
    "for i = word_indices\n",
    "  x(i) = 1;\n",
    "end\n",
    "\n",
    "\n",
    "\n",
    "\n",
    "\n",
    "\n",
    "% =========================================================================\n",
    "    \n",
    "\n",
    "end\n"
   ]
  },
  {
   "cell_type": "code",
   "execution_count": 77,
   "metadata": {
    "ExecuteTime": {
     "end_time": "2019-02-16T14:25:06.997557Z",
     "start_time": "2019-02-16T14:25:06.719990Z"
    }
   },
   "outputs": [],
   "source": [
    "function vocabList = getVocabList()\n",
    "%GETVOCABLIST reads the fixed vocabulary list in vocab.txt and returns a\n",
    "%cell array of the words\n",
    "%   vocabList = GETVOCABLIST() reads the fixed vocabulary list in vocab.txt \n",
    "%   and returns a cell array of the words in vocabList.\n",
    "\n",
    "\n",
    "%% Read the fixed vocabulary list\n",
    "fid = fopen('vocab.txt');\n",
    "\n",
    "% Store all dictionary words in cell array vocab{}\n",
    "n = 1899;  % Total number of words in the dictionary\n",
    "\n",
    "% For ease of implementation, we use a struct to map the strings => integers\n",
    "% In practice, you'll want to use some form of hashmap\n",
    "vocabList = cell(n, 1);\n",
    "for i = 1:n\n",
    "    % Word Index (can ignore since it will be = i)\n",
    "    fscanf(fid, '%d', 1);\n",
    "    % Actual Word\n",
    "    vocabList{i} = fscanf(fid, '%s', 1);\n",
    "end\n",
    "fclose(fid);\n",
    "\n",
    "end"
   ]
  },
  {
   "cell_type": "code",
   "execution_count": null,
   "metadata": {
    "ExecuteTime": {
     "start_time": "2019-02-16T14:21:19.108Z"
    }
   },
   "outputs": [
    {
     "name": "stdout",
     "output_type": "stream",
     "text": [
      "** Warning: Cannot interrupt Octave on Windows\n"
     ]
    }
   ],
   "source": [
    "function stem = porterStemmer(inString)\n",
    "% Applies the Porter Stemming algorithm as presented in the following\n",
    "% paper:\n",
    "% Porter, 1980, An algorithm for suffix stripping, Program, Vol. 14,\n",
    "%   no. 3, pp 130-137\n",
    "\n",
    "% Original code modeled after the C version provided at:\n",
    "% http://www.tartarus.org/~martin/PorterStemmer/c.txt\n",
    "\n",
    "% The main part of the stemming algorithm starts here. b is an array of\n",
    "% characters, holding the word to be stemmed. The letters are in b[k0],\n",
    "% b[k0+1] ending at b[k]. In fact k0 = 1 in this demo program (since\n",
    "% matlab begins indexing by 1 instead of 0). k is readjusted downwards as\n",
    "% the stemming progresses. Zero termination is not in fact used in the\n",
    "% algorithm.\n",
    "\n",
    "% To call this function, use the string to be stemmed as the input\n",
    "% argument.  This function returns the stemmed word as a string.\n",
    "\n",
    "% Lower-case string\n",
    "inString = lower(inString);\n",
    "\n",
    "global j;\n",
    "b = inString;\n",
    "k = length(b);\n",
    "k0 = 1;\n",
    "j = k;\n",
    "\n",
    "\n",
    "\n",
    "% With this if statement, strings of length 1 or 2 don't go through the\n",
    "% stemming process. Remove this conditional to match the published\n",
    "% algorithm.\n",
    "stem = b;\n",
    "if k > 2\n",
    "    % Output displays per step are commented out.\n",
    "    %disp(sprintf('Word to stem: %s', b));\n",
    "    x = step1ab(b, k, k0);\n",
    "    %disp(sprintf('Steps 1A and B yield: %s', x{1}));\n",
    "    x = step1c(x{1}, x{2}, k0);\n",
    "    %disp(sprintf('Step 1C yields: %s', x{1}));\n",
    "    x = step2(x{1}, x{2}, k0);\n",
    "    %disp(sprintf('Step 2 yields: %s', x{1}));\n",
    "    x = step3(x{1}, x{2}, k0);\n",
    "    %disp(sprintf('Step 3 yields: %s', x{1}));\n",
    "    x = step4(x{1}, x{2}, k0);\n",
    "    %disp(sprintf('Step 4 yields: %s', x{1}));\n",
    "    x = step5(x{1}, x{2}, k0);\n",
    "    %disp(sprintf('Step 5 yields: %s', x{1}));\n",
    "    stem = x{1};\n",
    "end\n",
    "\n",
    "% cons(j) is TRUE <=> b[j] is a consonant.\n",
    "function c = cons(i, b, k0)\n",
    "c = true;\n",
    "switch(b(i))\n",
    "    case {'a', 'e', 'i', 'o', 'u'}\n",
    "        c = false;\n",
    "    case 'y'\n",
    "        if i == k0\n",
    "            c = true;\n",
    "        else\n",
    "            c = ~cons(i - 1, b, k0);\n",
    "        end\n",
    "end\n",
    "\n",
    "% mseq() measures the number of consonant sequences between k0 and j.  If\n",
    "% c is a consonant sequence and v a vowel sequence, and <..> indicates\n",
    "% arbitrary presence,\n",
    "\n",
    "%      <c><v>       gives 0\n",
    "%      <c>vc<v>     gives 1\n",
    "%      <c>vcvc<v>   gives 2\n",
    "%      <c>vcvcvc<v> gives 3\n",
    "%      ....\n",
    "function n = measure(b, k0)\n",
    "global j;\n",
    "n = 0;\n",
    "i = k0;\n",
    "while true\n",
    "    if i > j\n",
    "        return\n",
    "    end\n",
    "    if ~cons(i, b, k0)\n",
    "        break;\n",
    "    end\n",
    "    i = i + 1;\n",
    "end\n",
    "i = i + 1;\n",
    "while true\n",
    "    while true\n",
    "        if i > j\n",
    "            return\n",
    "        end\n",
    "        if cons(i, b, k0)\n",
    "            break;\n",
    "        end\n",
    "        i = i + 1;\n",
    "    end\n",
    "    i = i + 1;\n",
    "    n = n + 1;\n",
    "    while true\n",
    "        if i > j\n",
    "            return\n",
    "        end\n",
    "        if ~cons(i, b, k0)\n",
    "            break;\n",
    "        end\n",
    "        i = i + 1;\n",
    "    end\n",
    "    i = i + 1;\n",
    "end\n",
    "\n",
    "\n",
    "% vowelinstem() is TRUE <=> k0,...j contains a vowel\n",
    "function vis = vowelinstem(b, k0)\n",
    "global j;\n",
    "for i = k0:j,\n",
    "    if ~cons(i, b, k0)\n",
    "        vis = true;\n",
    "        return\n",
    "    end\n",
    "end\n",
    "vis = false;\n",
    "\n",
    "%doublec(i) is TRUE <=> i,(i-1) contain a double consonant.\n",
    "function dc = doublec(i, b, k0)\n",
    "if i < k0+1\n",
    "    dc = false;\n",
    "    return\n",
    "end\n",
    "if b(i) ~= b(i-1)\n",
    "    dc = false;\n",
    "    return\n",
    "end\n",
    "dc = cons(i, b, k0);\n",
    "\n",
    "\n",
    "% cvc(j) is TRUE <=> j-2,j-1,j has the form consonant - vowel - consonant\n",
    "% and also if the second c is not w,x or y. this is used when trying to\n",
    "% restore an e at the end of a short word. e.g.\n",
    "%\n",
    "%      cav(e), lov(e), hop(e), crim(e), but\n",
    "%      snow, box, tray.\n",
    "\n",
    "function c1 = cvc(i, b, k0)\n",
    "if ((i < (k0+2)) || ~cons(i, b, k0) || cons(i-1, b, k0) || ~cons(i-2, b, k0))\n",
    "    c1 = false;\n",
    "else\n",
    "    if (b(i) == 'w' || b(i) == 'x' || b(i) == 'y')\n",
    "        c1 = false;\n",
    "        return\n",
    "    end\n",
    "    c1 = true;\n",
    "end\n",
    "\n",
    "% ends(s) is TRUE <=> k0,...k ends with the string s.\n",
    "function s = ends(str, b, k)\n",
    "global j;\n",
    "if (str(length(str)) ~= b(k))\n",
    "    s = false;\n",
    "    return\n",
    "end % tiny speed-up\n",
    "if (length(str) > k)\n",
    "    s = false;\n",
    "    return\n",
    "end\n",
    "if strcmp(b(k-length(str)+1:k), str)\n",
    "    s = true;\n",
    "    j = k - length(str);\n",
    "    return\n",
    "else\n",
    "    s = false;\n",
    "end\n",
    "\n",
    "% setto(s) sets (j+1),...k to the characters in the string s, readjusting\n",
    "% k accordingly.\n",
    "\n",
    "function so = setto(s, b, k)\n",
    "global j;\n",
    "for i = j+1:(j+length(s))\n",
    "    b(i) = s(i-j);\n",
    "end\n",
    "if k > j+length(s)\n",
    "    b((j+length(s)+1):k) = '';\n",
    "end\n",
    "k = length(b);\n",
    "so = {b, k};\n",
    "\n",
    "% rs(s) is used further down.\n",
    "% [Note: possible null/value for r if rs is called]\n",
    "function r = rs(str, b, k, k0)\n",
    "r = {b, k};\n",
    "if measure(b, k0) > 0\n",
    "    r = setto(str, b, k);\n",
    "end\n",
    "\n",
    "% step1ab() gets rid of plurals and -ed or -ing. e.g.\n",
    "\n",
    "%       caresses  ->  caress\n",
    "%       ponies    ->  poni\n",
    "%       ties      ->  ti\n",
    "%       caress    ->  caress\n",
    "%       cats      ->  cat\n",
    "\n",
    "%       feed      ->  feed\n",
    "%       agreed    ->  agree\n",
    "%       disabled  ->  disable\n",
    "\n",
    "%       matting   ->  mat\n",
    "%       mating    ->  mate\n",
    "%       meeting   ->  meet\n",
    "%       milling   ->  mill\n",
    "%       messing   ->  mess\n",
    "\n",
    "%       meetings  ->  meet\n",
    "\n",
    "function s1ab = step1ab(b, k, k0)\n",
    "global j;\n",
    "if b(k) == 's'\n",
    "    if ends('sses', b, k)\n",
    "        k = k-2;\n",
    "    elseif ends('ies', b, k)\n",
    "        retVal = setto('i', b, k);\n",
    "        b = retVal{1};\n",
    "        k = retVal{2};\n",
    "    elseif (b(k-1) ~= 's')\n",
    "        k = k-1;\n",
    "    end\n",
    "end\n",
    "if ends('eed', b, k)\n",
    "    if measure(b, k0) > 0;\n",
    "        k = k-1;\n",
    "    end\n",
    "elseif (ends('ed', b, k) || ends('ing', b, k)) && vowelinstem(b, k0)\n",
    "    k = j;\n",
    "    retVal = {b, k};\n",
    "    if ends('at', b, k)\n",
    "        retVal = setto('ate', b(k0:k), k);\n",
    "    elseif ends('bl', b, k)\n",
    "        retVal = setto('ble', b(k0:k), k);\n",
    "    elseif ends('iz', b, k)\n",
    "        retVal = setto('ize', b(k0:k), k);\n",
    "    elseif doublec(k, b, k0)\n",
    "        retVal = {b, k-1};\n",
    "        if b(retVal{2}) == 'l' || b(retVal{2}) == 's' || ...\n",
    "                b(retVal{2}) == 'z'\n",
    "            retVal = {retVal{1}, retVal{2}+1};\n",
    "        end\n",
    "    elseif measure(b, k0) == 1 && cvc(k, b, k0)\n",
    "        retVal = setto('e', b(k0:k), k);\n",
    "    end\n",
    "    k = retVal{2};\n",
    "    b = retVal{1}(k0:k);\n",
    "end\n",
    "j = k;\n",
    "s1ab = {b(k0:k), k};\n",
    "\n",
    "%  step1c() turns terminal y to i when there is another vowel in the stem.\n",
    "function s1c = step1c(b, k, k0)\n",
    "global j;\n",
    "if ends('y', b, k) && vowelinstem(b, k0)\n",
    "    b(k) = 'i';\n",
    "end\n",
    "j = k;\n",
    "s1c = {b, k};\n",
    "\n",
    "% step2() maps double suffices to single ones. so -ization ( = -ize plus\n",
    "% -ation) maps to -ize etc. note that the string before the suffix must give\n",
    "% m() > 0.\n",
    "function s2 = step2(b, k, k0)\n",
    "global j;\n",
    "s2 = {b, k};\n",
    "switch b(k-1)\n",
    "    case {'a'}\n",
    "        if ends('ational', b, k) s2 = rs('ate', b, k, k0);\n",
    "        elseif ends('tional', b, k) s2 = rs('tion', b, k, k0); end;\n",
    "    case {'c'}\n",
    "        if ends('enci', b, k) s2 = rs('ence', b, k, k0);\n",
    "        elseif ends('anci', b, k) s2 = rs('ance', b, k, k0); end;\n",
    "    case {'e'}\n",
    "        if ends('izer', b, k) s2 = rs('ize', b, k, k0); end;\n",
    "    case {'l'}\n",
    "        if ends('bli', b, k) s2 = rs('ble', b, k, k0);\n",
    "        elseif ends('alli', b, k) s2 = rs('al', b, k, k0);\n",
    "        elseif ends('entli', b, k) s2 = rs('ent', b, k, k0);\n",
    "        elseif ends('eli', b, k) s2 = rs('e', b, k, k0);\n",
    "        elseif ends('ousli', b, k) s2 = rs('ous', b, k, k0); end;\n",
    "    case {'o'}\n",
    "        if ends('ization', b, k) s2 = rs('ize', b, k, k0);\n",
    "        elseif ends('ation', b, k) s2 = rs('ate', b, k, k0);\n",
    "        elseif ends('ator', b, k) s2 = rs('ate', b, k, k0); end;\n",
    "    case {'s'}\n",
    "        if ends('alism', b, k) s2 = rs('al', b, k, k0);\n",
    "        elseif ends('iveness', b, k) s2 = rs('ive', b, k, k0);\n",
    "        elseif ends('fulness', b, k) s2 = rs('ful', b, k, k0);\n",
    "        elseif ends('ousness', b, k) s2 = rs('ous', b, k, k0); end;\n",
    "    case {'t'}\n",
    "        if ends('aliti', b, k) s2 = rs('al', b, k, k0);\n",
    "        elseif ends('iviti', b, k) s2 = rs('ive', b, k, k0);\n",
    "        elseif ends('biliti', b, k) s2 = rs('ble', b, k, k0); end;\n",
    "    case {'g'}\n",
    "        if ends('logi', b, k) s2 = rs('log', b, k, k0); end;\n",
    "end\n",
    "j = s2{2};\n",
    "\n",
    "% step3() deals with -ic-, -full, -ness etc. similar strategy to step2.\n",
    "function s3 = step3(b, k, k0)\n",
    "global j;\n",
    "s3 = {b, k};\n",
    "switch b(k)\n",
    "    case {'e'}\n",
    "        if ends('icate', b, k) s3 = rs('ic', b, k, k0);\n",
    "        elseif ends('ative', b, k) s3 = rs('', b, k, k0);\n",
    "        elseif ends('alize', b, k) s3 = rs('al', b, k, k0); end;\n",
    "    case {'i'}\n",
    "        if ends('iciti', b, k) s3 = rs('ic', b, k, k0); end;\n",
    "    case {'l'}\n",
    "        if ends('ical', b, k) s3 = rs('ic', b, k, k0);\n",
    "        elseif ends('ful', b, k) s3 = rs('', b, k, k0); end;\n",
    "    case {'s'}\n",
    "        if ends('ness', b, k) s3 = rs('', b, k, k0); end;\n",
    "end\n",
    "j = s3{2};\n",
    "\n",
    "% step4() takes off -ant, -ence etc., in context <c>vcvc<v>.\n",
    "function s4 = step4(b, k, k0)\n",
    "global j;\n",
    "switch b(k-1)\n",
    "    case {'a'}\n",
    "        if ends('al', b, k) end;\n",
    "    case {'c'}\n",
    "        if ends('ance', b, k)\n",
    "        elseif ends('ence', b, k) end;\n",
    "    case {'e'}\n",
    "        if ends('er', b, k) end;\n",
    "    case {'i'}\n",
    "        if ends('ic', b, k) end;\n",
    "    case {'l'}\n",
    "        if ends('able', b, k)\n",
    "        elseif ends('ible', b, k) end;\n",
    "    case {'n'}\n",
    "        if ends('ant', b, k)\n",
    "        elseif ends('ement', b, k)\n",
    "        elseif ends('ment', b, k)\n",
    "        elseif ends('ent', b, k) end;\n",
    "    case {'o'}\n",
    "        if ends('ion', b, k)\n",
    "            if j == 0\n",
    "            elseif ~(strcmp(b(j),'s') || strcmp(b(j),'t'))\n",
    "                j = k;\n",
    "            end\n",
    "        elseif ends('ou', b, k) end;\n",
    "    case {'s'}\n",
    "        if ends('ism', b, k) end;\n",
    "    case {'t'}\n",
    "        if ends('ate', b, k)\n",
    "        elseif ends('iti', b, k) end;\n",
    "    case {'u'}\n",
    "        if ends('ous', b, k) end;\n",
    "    case {'v'}\n",
    "        if ends('ive', b, k) end;\n",
    "    case {'z'}\n",
    "        if ends('ize', b, k) end;\n",
    "end\n",
    "if measure(b, k0) > 1\n",
    "    s4 = {b(k0:j), j};\n",
    "else\n",
    "    s4 = {b(k0:k), k};\n",
    "end\n",
    "\n",
    "% step5() removes a final -e if m() > 1, and changes -ll to -l if m() > 1.\n",
    "function s5 = step5(b, k, k0)\n",
    "global j;\n",
    "j = k;\n",
    "if b(k) == 'e'\n",
    "    a = measure(b, k0);\n",
    "    if (a > 1) || ((a == 1) && ~cvc(k-1, b, k0))\n",
    "        k = k-1;\n",
    "    end\n",
    "end\n",
    "if (b(k) == 'l') && doublec(k, b, k0) && (measure(b, k0) > 1)\n",
    "    k = k-1;\n",
    "end\n",
    "s5 = {b(k0:k), k};\n"
   ]
  },
  {
   "cell_type": "markdown",
   "metadata": {},
   "source": [
    "Código completo"
   ]
  },
  {
   "cell_type": "code",
   "execution_count": null,
   "metadata": {
    "ExecuteTime": {
     "start_time": "2019-02-16T14:25:14.112Z"
    }
   },
   "outputs": [
    {
     "name": "stdout",
     "output_type": "stream",
     "text": [
      "** Warning: Cannot interrupt Octave on Windows\n"
     ]
    }
   ],
   "source": [
    "%% Machine Learning Online Class\n",
    "%  Exercise 6 | Spam Classification with SVMs\n",
    "%\n",
    "%  Instructions\n",
    "%  ------------\n",
    "% \n",
    "%  This file contains code that helps you get started on the\n",
    "%  exercise. You will need to complete the following functions:\n",
    "%\n",
    "%     gaussianKernel.m\n",
    "%     dataset3Params.m\n",
    "%     processEmail.m\n",
    "%     emailFeatures.m\n",
    "%\n",
    "%  For this exercise, you will not need to change any code in this file,\n",
    "%  or any other files other than those mentioned above.\n",
    "%\n",
    "\n",
    "%% Initialization\n",
    "clear ; close all; clc\n",
    "\n",
    "%% ==================== Part 1: Email Preprocessing ====================\n",
    "%  To use an SVM to classify emails into Spam v.s. Non-Spam, you first need\n",
    "%  to convert each email into a vector of features. In this part, you will\n",
    "%  implement the preprocessing steps for each email. You should\n",
    "%  complete the code in processEmail.m to produce a word indices vector\n",
    "%  for a given email.\n",
    "\n",
    "fprintf('\\nPreprocessing sample email (emailSample1.txt)\\n');\n",
    "\n",
    "% Extract Features\n",
    "file_contents = readFile('emailSample1.txt');\n",
    "word_indices  = processEmail(file_contents);\n",
    "\n",
    "% Print Stats\n",
    "fprintf('Word Indices: \\n');\n",
    "fprintf(' %d', word_indices);\n",
    "fprintf('\\n\\n');\n",
    "\n",
    "fprintf('Program paused. Press enter to continue.\\n');\n",
    "pause;\n",
    "\n",
    "%% ==================== Part 2: Feature Extraction ====================\n",
    "%  Now, you will convert each email into a vector of features in R^n. \n",
    "%  You should complete the code in emailFeatures.m to produce a feature\n",
    "%  vector for a given email.\n",
    "\n",
    "fprintf('\\nExtracting features from sample email (emailSample1.txt)\\n');\n",
    "\n",
    "% Extract Features\n",
    "file_contents = readFile('emailSample1.txt');\n",
    "word_indices  = processEmail(file_contents);\n",
    "features      = emailFeatures(word_indices);\n",
    "\n",
    "% Print Stats\n",
    "fprintf('Length of feature vector: %d\\n', length(features));\n",
    "fprintf('Number of non-zero entries: %d\\n', sum(features > 0));\n",
    "\n",
    "fprintf('Program paused. Press enter to continue.\\n');\n",
    "pause;\n",
    "\n",
    "%% =========== Part 3: Train Linear SVM for Spam Classification ========\n",
    "%  In this section, you will train a linear classifier to determine if an\n",
    "%  email is Spam or Not-Spam.\n",
    "\n",
    "% Load the Spam Email dataset\n",
    "% You will have X, y in your environment\n",
    "load('spamTrain.mat');\n",
    "\n",
    "fprintf('\\nTraining Linear SVM (Spam Classification)\\n')\n",
    "fprintf('(this may take 1 to 2 minutes) ...\\n')\n",
    "\n",
    "C = 0.1;\n",
    "model = svmTrain(X, y, C, @linearKernel);\n",
    "\n",
    "p = svmPredict(model, X);\n",
    "\n",
    "fprintf('Training Accuracy: %f\\n', mean(double(p == y)) * 100);\n",
    "\n",
    "%% =================== Part 4: Test Spam Classification ================\n",
    "%  After training the classifier, we can evaluate it on a test set. We have\n",
    "%  included a test set in spamTest.mat\n",
    "\n",
    "% Load the test dataset\n",
    "% You will have Xtest, ytest in your environment\n",
    "load('spamTest.mat');\n",
    "\n",
    "fprintf('\\nEvaluating the trained Linear SVM on a test set ...\\n')\n",
    "\n",
    "p = svmPredict(model, Xtest);\n",
    "\n",
    "fprintf('Test Accuracy: %f\\n', mean(double(p == ytest)) * 100);\n",
    "pause;\n",
    "\n",
    "\n",
    "%% ================= Part 5: Top Predictors of Spam ====================\n",
    "%  Since the model we are training is a linear SVM, we can inspect the\n",
    "%  weights learned by the model to understand better how it is determining\n",
    "%  whether an email is spam or not. The following code finds the words with\n",
    "%  the highest weights in the classifier. Informally, the classifier\n",
    "%  'thinks' that these words are the most likely indicators of spam.\n",
    "%\n",
    "\n",
    "% Sort the weights and obtin the vocabulary list\n",
    "[weight, idx] = sort(model.w, 'descend');\n",
    "vocabList = getVocabList();\n",
    "\n",
    "fprintf('\\nTop predictors of spam: \\n');\n",
    "for i = 1:15\n",
    "    fprintf(' %-15s (%f) \\n', vocabList{idx(i)}, weight(i));\n",
    "end\n",
    "\n",
    "fprintf('\\n\\n');\n",
    "fprintf('\\nProgram paused. Press enter to continue.\\n');\n",
    "pause;\n",
    "\n",
    "%% =================== Part 6: Try Your Own Emails =====================\n",
    "%  Now that you've trained the spam classifier, you can use it on your own\n",
    "%  emails! In the starter code, we have included spamSample1.txt,\n",
    "%  spamSample2.txt, emailSample1.txt and emailSample2.txt as examples. \n",
    "%  The following code reads in one of these emails and then uses your \n",
    "%  learned SVM classifier to determine whether the email is Spam or \n",
    "%  Not Spam\n",
    "\n",
    "% Set the file to be read in (change this to spamSample2.txt,\n",
    "% emailSample1.txt or emailSample2.txt to see different predictions on\n",
    "% different emails types). Try your own emails as well!\n",
    "filename = 'spamSample1.txt';\n",
    "\n",
    "% Read and predict\n",
    "file_contents = readFile(filename);\n",
    "word_indices  = processEmail(file_contents);\n",
    "x             = emailFeatures(word_indices);\n",
    "p = svmPredict(model, x);\n",
    "\n",
    "fprintf('\\nProcessed %s\\n\\nSpam Classification: %d\\n', filename, p);\n",
    "fprintf('(1 indicates spam, 0 indicates not spam)\\n\\n');\n"
   ]
  },
  {
   "cell_type": "code",
   "execution_count": null,
   "metadata": {},
   "outputs": [],
   "source": []
  }
 ],
 "metadata": {
  "kernelspec": {
   "display_name": "Octave",
   "language": "octave",
   "name": "octave"
  },
  "language_info": {
   "file_extension": ".m",
   "help_links": [
    {
     "text": "GNU Octave",
     "url": "https://www.gnu.org/software/octave/support.html"
    },
    {
     "text": "Octave Kernel",
     "url": "https://github.com/Calysto/octave_kernel"
    },
    {
     "text": "MetaKernel Magics",
     "url": "https://github.com/calysto/metakernel/blob/master/metakernel/magics/README.md"
    }
   ],
   "mimetype": "text/x-octave",
   "name": "octave",
   "version": "4.4.1"
  },
  "toc": {
   "base_numbering": 1,
   "nav_menu": {},
   "number_sections": true,
   "sideBar": true,
   "skip_h1_title": true,
   "title_cell": "Table of Contents",
   "title_sidebar": "Contents",
   "toc_cell": true,
   "toc_position": {},
   "toc_section_display": true,
   "toc_window_display": true
  }
 },
 "nbformat": 4,
 "nbformat_minor": 2
}
