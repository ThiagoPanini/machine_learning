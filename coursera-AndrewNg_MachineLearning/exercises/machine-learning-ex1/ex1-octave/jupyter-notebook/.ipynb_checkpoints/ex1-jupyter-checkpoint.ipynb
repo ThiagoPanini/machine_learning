{
 "cells": [
  {
   "cell_type": "markdown",
   "metadata": {
    "toc": true
   },
   "source": [
    "<h1>Table of Contents<span class=\"tocSkip\"></span></h1>\n",
    "<div class=\"toc\"><ul class=\"toc-item\"><li><span><a href=\"#warmUpExercise()\" data-toc-modified-id=\"warmUpExercise()-1\"><span class=\"toc-item-num\">1&nbsp;&nbsp;</span>warmUpExercise()</a></span></li><li><span><a href=\"#plotData(X,-y)\" data-toc-modified-id=\"plotData(X,-y)-2\"><span class=\"toc-item-num\">2&nbsp;&nbsp;</span>plotData(X, y)</a></span></li><li><span><a href=\"#computeCost(X,-y,-theta)\" data-toc-modified-id=\"computeCost(X,-y,-theta)-3\"><span class=\"toc-item-num\">3&nbsp;&nbsp;</span>computeCost(X, y, theta)</a></span></li><li><span><a href=\"#gradientDescent\" data-toc-modified-id=\"gradientDescent-4\"><span class=\"toc-item-num\">4&nbsp;&nbsp;</span>gradientDescent</a></span></li></ul></div>"
   ]
  },
  {
   "cell_type": "markdown",
   "metadata": {},
   "source": [
    "Este notebook tem por objetivo facilitar a leitura do Exercício 1 proposto pelo curso, contemplando e acompanhando os resultados dos códigos através das células do jupyter."
   ]
  },
  {
   "cell_type": "code",
   "execution_count": 2,
   "metadata": {},
   "outputs": [],
   "source": [
    "%% Machine Learning Online Class - Exercise 1: Linear Regression\n",
    "\n",
    "%  Instructions\n",
    "%  ------------\n",
    "%\n",
    "%  This file contains code that helps you get started on the\n",
    "%  linear exercise. You will need to complete the following functions\n",
    "%  in this exericse:\n",
    "%\n",
    "%     warmUpExercise.m\n",
    "%     plotData.m\n",
    "%     gradientDescent.m\n",
    "%     computeCost.m\n",
    "%     gradientDescentMulti.m\n",
    "%     computeCostMulti.m\n",
    "%     featureNormalize.m\n",
    "%     normalEqn.m\n",
    "%\n",
    "%  For this exercise, you will not need to change any code in this file,\n",
    "%  or any other files other than those mentioned above.\n",
    "%\n",
    "% x refers to the population size in 10,000s\n",
    "% y refers to the profit in $10,000s\n",
    "%\n",
    "\n",
    "%% Initialization\n",
    "clear ; close all; clc"
   ]
  },
  {
   "cell_type": "markdown",
   "metadata": {},
   "source": [
    "### warmUpExercise()"
   ]
  },
  {
   "cell_type": "code",
   "execution_count": 3,
   "metadata": {},
   "outputs": [],
   "source": [
    "function A = warmUpExercise()\n",
    "%WARMUPEXERCISE Example function in octave\n",
    "%   A = WARMUPEXERCISE() is an example function that returns the 5x5 identity matrix\n",
    "\n",
    "A = [];\n",
    "% ============= YOUR CODE HERE ==============\n",
    "% Instructions: Return the 5x5 identity matrix \n",
    "%               In octave, we return values by defining which variables\n",
    "%               represent the return values (at the top of the file)\n",
    "%               and then set them accordingly. \n",
    "\n",
    "A = eye(5);\n",
    "\n",
    "% ===========================================\n",
    "\n",
    "end"
   ]
  },
  {
   "cell_type": "code",
   "execution_count": 4,
   "metadata": {},
   "outputs": [
    {
     "name": "stdout",
     "output_type": "stream",
     "text": [
      "Running warmUpExercise ... \n",
      "5x5 Identity Matrix: \n",
      "ans =\n",
      "\n",
      "Diagonal Matrix\n",
      "\n",
      "   1   0   0   0   0\n",
      "   0   1   0   0   0\n",
      "   0   0   1   0   0\n",
      "   0   0   0   1   0\n",
      "   0   0   0   0   1\n",
      "\n",
      "Program paused. Press enter to continue.\n",
      "Paused, enter any value to continue\n"
     ]
    }
   ],
   "source": [
    "%% ==================== Part 1: Basic Function ====================\n",
    "% Complete warmUpExercise.m\n",
    "fprintf('Running warmUpExercise ... \\n');\n",
    "fprintf('5x5 Identity Matrix: \\n');\n",
    "warmUpExercise()\n",
    "\n",
    "fprintf('Program paused. Press enter to continue.\\n');\n",
    "pause;"
   ]
  },
  {
   "cell_type": "markdown",
   "metadata": {},
   "source": [
    "### plotData(X, y)"
   ]
  },
  {
   "cell_type": "code",
   "execution_count": 29,
   "metadata": {},
   "outputs": [],
   "source": [
    "function plotData(x, y)\n",
    "%PLOTDATA Plots the data points x and y into a new figure \n",
    "%   PLOTDATA(x,y) plots the data points and gives the figure axes labels of\n",
    "%   population and profit.\n",
    "\n",
    "figure; % open a new figure window\n",
    "\n",
    "% ====================== YOUR CODE HERE ======================\n",
    "% Instructions: Plot the training data into a figure using the \n",
    "%               \"figure\" and \"plot\" commands. Set the axes labels using\n",
    "%               the \"xlabel\" and \"ylabel\" commands. Assume the \n",
    "%               population and revenue data have been passed in\n",
    "%               as the x and y arguments of this function.\n",
    "%\n",
    "% Hint: You can use the 'rx' option with plot to have the markers\n",
    "%       appear as red crosses. Furthermore, you can make the\n",
    "%       markers larger by using plot(..., 'rx', 'MarkerSize', 10);\n",
    "\n",
    "plot(x, y, \"rx\", \"markersize\",10);\n",
    "axis([3, 25, -5, 28])\n",
    "xlabel('Profit in $10,000s');\n",
    "ylabel('Population of City in 10,000s');\n",
    "title('Correlation between City Population and Truck Profit');\n",
    "\n",
    "% ============================================================\n",
    "\n",
    "end"
   ]
  },
  {
   "cell_type": "code",
   "execution_count": 6,
   "metadata": {},
   "outputs": [
    {
     "name": "stdout",
     "output_type": "stream",
     "text": [
      "Loadint Data ...\n"
     ]
    }
   ],
   "source": [
    "%% ======================= Part 2: Plotting =======================\n",
    "fprintf('Loadint Data ...\\n')\n",
    "data = load('ex1data1.txt');"
   ]
  },
  {
   "cell_type": "code",
   "execution_count": 18,
   "metadata": {},
   "outputs": [
    {
     "name": "stdout",
     "output_type": "stream",
     "text": [
      "O dataset possui 97 linhas e 2 colunas.\n"
     ]
    }
   ],
   "source": [
    "% what is 'data'?\n",
    "[rows, cols] = size(data);\n",
    "disp(sprintf('O dataset possui %d linhas e %d colunas.', rows, cols));"
   ]
  },
  {
   "cell_type": "code",
   "execution_count": 22,
   "metadata": {},
   "outputs": [
    {
     "name": "stdout",
     "output_type": "stream",
     "text": [
      "head =\n",
      "\n",
      "    6.1101   17.5920\n",
      "    5.5277    9.1302\n",
      "    8.5186   13.6620\n",
      "    7.0032   11.8540\n",
      "    5.8598    6.8233\n",
      "    8.3829   11.8860\n",
      "    7.4764    4.3483\n",
      "    8.5781   12.0000\n",
      "    6.4862    6.5987\n",
      "    5.0546    3.8166\n",
      "\n"
     ]
    }
   ],
   "source": [
    "% too much rows, let's see only the first 10\n",
    "head = data(1:10,:)"
   ]
  },
  {
   "cell_type": "code",
   "execution_count": 34,
   "metadata": {},
   "outputs": [
    {
     "name": "stdout",
     "output_type": "stream",
     "text": [
      "Verificando split...\n",
      "\n",
      "first10_X_training =\n",
      "\n",
      "   6.1101\n",
      "   5.5277\n",
      "   8.5186\n",
      "   7.0032\n",
      "   5.8598\n",
      "   8.3829\n",
      "   7.4764\n",
      "   8.5781\n",
      "   6.4862\n",
      "   5.0546\n",
      "\n",
      "first10_y_label =\n",
      "\n",
      "   17.5920\n",
      "    9.1302\n",
      "   13.6620\n",
      "   11.8540\n",
      "    6.8233\n",
      "   11.8860\n",
      "    4.3483\n",
      "   12.0000\n",
      "    6.5987\n",
      "    3.8166\n",
      "\n",
      "m =  97\n"
     ]
    }
   ],
   "source": [
    "% now it's necessary to split the data into X traning examples (pop of city) and y label (truck profit)\n",
    "X = data(:, 1);\n",
    "y = data(:, 2);\n",
    "m = length(y); % number of training examples\n",
    "\n",
    "fprintf('Verificando split...\\n\\n')\n",
    "first10_X_training = X(1:10)\n",
    "first10_y_label = y(1:10)\n",
    "m"
   ]
  },
  {
   "cell_type": "code",
   "execution_count": 30,
   "metadata": {},
   "outputs": [
    {
     "name": "stdout",
     "output_type": "stream",
     "text": [
      "Program paused. Press enter to continue.\n",
      "Paused, enter any value to continue\n"
     ]
    },
    {
     "data": {
      "image/png": "[encoded data removed]",
      "text/plain": [
       "<IPython.core.display.Image object>"
      ]
     },
     "metadata": {},
     "output_type": "display_data"
    }
   ],
   "source": [
    "% Plot Data\n",
    "% Note: You have to complete the code in plotData.m\n",
    "plotData(X, y);\n",
    "\n",
    "fprintf('Program paused. Press enter to continue.\\n');\n",
    "pause;"
   ]
  },
  {
   "cell_type": "markdown",
   "metadata": {},
   "source": [
    "### computeCost(X, y, theta)"
   ]
  },
  {
   "cell_type": "code",
   "execution_count": 31,
   "metadata": {},
   "outputs": [],
   "source": [
    "function J = computeCost(X, y, theta)\n",
    "%COMPUTECOST Compute cost for linear regression\n",
    "%   J = COMPUTECOST(X, y, theta) computes the cost of using theta as the\n",
    "%   parameter for linear regression to fit the data points in X and y\n",
    "\n",
    "% Initialize some useful values\n",
    "m = length(y); % number of training examples\n",
    "\n",
    "% You need to return the following variables correctly \n",
    "J = 0;\n",
    "\n",
    "% ====================== YOUR CODE HERE ======================\n",
    "% Instructions: Compute the cost of a particular choice of theta\n",
    "%               You should set J to the cost.\n",
    "predictions = X * theta;\n",
    "sqrErrors = (predictions-y).^2;\n",
    "J = 1/(2*m)*sum(sqrErrors);\n",
    "\n",
    "% =========================================================================\n",
    "\n",
    "end"
   ]
  },
  {
   "cell_type": "code",
   "execution_count": 41,
   "metadata": {},
   "outputs": [],
   "source": [
    "%% =================== Part 3: Cost and Gradient descent ===================\n",
    "X = [ones(m, 1), data(:,1)]; % Add a column of ones to x\n",
    "theta = zeros(2, 1); % initialize fitting parameters\n",
    "\n",
    "% Some gradient descent settings\n",
    "iterations = 1500;\n",
    "alpha = 0.01;"
   ]
  },
  {
   "cell_type": "code",
   "execution_count": 42,
   "metadata": {},
   "outputs": [
    {
     "name": "stdout",
     "output_type": "stream",
     "text": [
      "head_X =\n",
      "\n",
      "   1.0000   6.1101\n",
      "   1.0000   5.5277\n",
      "   1.0000   8.5186\n",
      "   1.0000   7.0032\n",
      "   1.0000   5.8598\n",
      "   1.0000   8.3829\n",
      "   1.0000   7.4764\n",
      "   1.0000   8.5781\n",
      "   1.0000   6.4862\n",
      "   1.0000   5.0546\n",
      "\n",
      "theta =\n",
      "\n",
      "   0\n",
      "   0\n",
      "\n"
     ]
    }
   ],
   "source": [
    "% Verificando X e theta\n",
    "head_X = X(1:10,:)\n",
    "theta"
   ]
  },
  {
   "cell_type": "code",
   "execution_count": 44,
   "metadata": {},
   "outputs": [
    {
     "name": "stdout",
     "output_type": "stream",
     "text": [
      "\n",
      "Testing the cost function ...\n",
      "With theta = [0 ; 0]\n",
      "Cost computed = 32.072734\n",
      "Expected cost value (approx) 32.07\n",
      "\n",
      "With theta = [-1 ; 2]\n",
      "Cost computed = 54.242455\n",
      "Expected cost value (approx) 54.24\n",
      "Program paused. Press enter to continue.\n",
      "Paused, enter any value to continue\n"
     ]
    }
   ],
   "source": [
    "% Testando função\n",
    "\n",
    "fprintf('\\nTesting the cost function ...\\n')\n",
    "% compute and display initial cost\n",
    "J = computeCost(X, y, theta);\n",
    "fprintf('With theta = [0 ; 0]\\nCost computed = %f\\n', J);\n",
    "fprintf('Expected cost value (approx) 32.07\\n');\n",
    "\n",
    "% further testing of the cost function\n",
    "J = computeCost(X, y, [-1 ; 2]);\n",
    "fprintf('\\nWith theta = [-1 ; 2]\\nCost computed = %f\\n', J);\n",
    "fprintf('Expected cost value (approx) 54.24\\n');\n",
    "\n",
    "fprintf('Program paused. Press enter to continue.\\n');\n",
    "pause;"
   ]
  },
  {
   "cell_type": "markdown",
   "metadata": {},
   "source": [
    "### gradientDescent"
   ]
  },
  {
   "cell_type": "code",
   "execution_count": null,
   "metadata": {},
   "outputs": [],
   "source": [
    "function [theta, J_history] = gradientDescent(X, y, theta, alpha, num_iters)\n",
    "%GRADIENTDESCENT Performs gradient descent to learn theta\n",
    "%   theta = GRADIENTDESCENT(X, y, theta, alpha, num_iters) updates theta by \n",
    "%   taking num_iters gradient steps with learning rate alpha\n",
    "\n",
    "% Initialize some useful values\n",
    "m = length(y); % number of training examples\n",
    "J_history = zeros(num_iters, 1);\n",
    "\n",
    "for iter = 1:num_iters\n",
    "\n",
    "    % ====================== YOUR CODE HERE ======================\n",
    "    % Instructions: Perform a single gradient step on the parameter vector\n",
    "    %               theta. \n",
    "    %\n",
    "    % Hint: While debugging, it can be useful to print out the values\n",
    "    %       of the cost function (computeCost) and gradient here.\n",
    "    %\n",
    "\n",
    "    \n",
    "\n",
    "\n",
    "\n",
    "\n",
    "    % ============================================================\n",
    "\n",
    "    % Save the cost J in every iteration    \n",
    "    J_history(iter) = computeCost(X, y, theta);\n",
    "\n",
    "end\n",
    "\n",
    "end\n"
   ]
  },
  {
   "cell_type": "code",
   "execution_count": 85,
   "metadata": {},
   "outputs": [
    {
     "name": "stdout",
     "output_type": "stream",
     "text": [
      "ans =\n",
      "\n",
      "  -13.043556\n",
      "   -5.009611\n",
      "   -7.344174\n",
      "   -6.649449\n",
      "   -2.458737\n",
      "   -5.667864\n",
      "    1.203884\n",
      "   -5.638462\n",
      "   -1.773958\n",
      "   -0.043570\n",
      "\n"
     ]
    }
   ],
   "source": [
    "% Testando atualizações dos parâmetros theta através da função do gradiente descendente\n",
    "\n",
    "% Primeiro termo: (predictions - y)\n",
    "((X * theta) - y)(1:10)"
   ]
  },
  {
   "cell_type": "code",
   "execution_count": null,
   "metadata": {},
   "outputs": [],
   "source": [
    "% Segundo termo: somatório\n",
    "sum((X * theta) - y)"
   ]
  },
  {
   "cell_type": "code",
   "execution_count": 82,
   "metadata": {},
   "outputs": [
    {
     "name": "stdout",
     "output_type": "stream",
     "text": [
      "theta =\n",
      "\n",
      "   0.059714\n",
      "   0.734641\n",
      "\n"
     ]
    }
   ],
   "source": [
    "% Testando atualizações dos parâmetros theta através da função do gradiente descendente\n",
    "theta(1) = theta(1) -(alpha/m)*sum((X * theta) - y);\n",
    "theta(2) = theta(2) -(alpha/m)*sum(((X * theta) - y) .* X(:,2));\n",
    "theta"
   ]
  },
  {
   "cell_type": "code",
   "execution_count": 83,
   "metadata": {},
   "outputs": [
    {
     "name": "stdout",
     "output_type": "stream",
     "text": [
      "theta =\n",
      "\n",
      "   0.059714\n",
      "   0.734641\n",
      "\n"
     ]
    }
   ],
   "source": [
    "theta"
   ]
  },
  {
   "cell_type": "code",
   "execution_count": null,
   "metadata": {},
   "outputs": [],
   "source": []
  }
 ],
 "metadata": {
  "kernelspec": {
   "display_name": "Octave",
   "language": "octave",
   "name": "octave"
  },
  "language_info": {
   "file_extension": ".m",
   "help_links": [
    {
     "text": "GNU Octave",
     "url": "https://www.gnu.org/software/octave/support.html"
    },
    {
     "text": "Octave Kernel",
     "url": "https://github.com/Calysto/octave_kernel"
    },
    {
     "text": "MetaKernel Magics",
     "url": "https://github.com/calysto/metakernel/blob/master/metakernel/magics/README.md"
    }
   ],
   "mimetype": "text/x-octave",
   "name": "octave",
   "version": "4.4.1"
  },
  "toc": {
   "base_numbering": 1,
   "nav_menu": {},
   "number_sections": true,
   "sideBar": false,
   "skip_h1_title": false,
   "title_cell": "Table of Contents",
   "title_sidebar": "Contents",
   "toc_cell": true,
   "toc_position": {
    "height": "294px",
    "left": "37px",
    "top": "134.778px",
    "width": "220px"
   },
   "toc_section_display": true,
   "toc_window_display": true
  }
 },
 "nbformat": 4,
 "nbformat_minor": 2
}
