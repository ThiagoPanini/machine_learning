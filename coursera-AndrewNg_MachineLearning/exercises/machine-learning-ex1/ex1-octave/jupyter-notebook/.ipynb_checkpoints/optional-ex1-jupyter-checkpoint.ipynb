{
 "cells": [
  {
   "cell_type": "markdown",
   "metadata": {
    "toc": true
   },
   "source": [
    "<h1>Table of Contents<span class=\"tocSkip\"></span></h1>\n",
    "<div class=\"toc\"><ul class=\"toc-item\"><li><span><a href=\"#featureNormalize(X)\" data-toc-modified-id=\"featureNormalize(X)-1\"><span class=\"toc-item-num\">1&nbsp;&nbsp;</span>featureNormalize(X)</a></span></li><li><span><a href=\"#gradientDescentMulti(X,-y,-theta,-alpha,-num_iters)\" data-toc-modified-id=\"gradientDescentMulti(X,-y,-theta,-alpha,-num_iters)-2\"><span class=\"toc-item-num\">2&nbsp;&nbsp;</span>gradientDescentMulti(X, y, theta, alpha, num_iters)</a></span></li><li><span><a href=\"#computeCostMulti(X,-y,-theta)\" data-toc-modified-id=\"computeCostMulti(X,-y,-theta)-3\"><span class=\"toc-item-num\">3&nbsp;&nbsp;</span>computeCostMulti(X, y, theta)</a></span></li><li><span><a href=\"#Best-alpha-(learning-rate)\" data-toc-modified-id=\"Best-alpha-(learning-rate)-4\"><span class=\"toc-item-num\">4&nbsp;&nbsp;</span>Best alpha (learning rate)</a></span></li><li><span><a href=\"#Predicting-values\" data-toc-modified-id=\"Predicting-values-5\"><span class=\"toc-item-num\">5&nbsp;&nbsp;</span>Predicting values</a></span></li></ul></div>"
   ]
  },
  {
   "cell_type": "markdown",
   "metadata": {},
   "source": [
    "Exercício opcional referente a um problema de Regressão Linear com Múltiplas Variáveis"
   ]
  },
  {
   "cell_type": "code",
   "execution_count": 1,
   "metadata": {},
   "outputs": [
    {
     "name": "stdout",
     "output_type": "stream",
     "text": [
      "Loading data ...\n"
     ]
    }
   ],
   "source": [
    "%% Machine Learning Online Class\n",
    "%  Exercise 1: Linear regression with multiple variables\n",
    "%\n",
    "%  Instructions\n",
    "%  ------------\n",
    "% \n",
    "%  This file contains code that helps you get started on the\n",
    "%  linear regression exercise. \n",
    "%\n",
    "%  You will need to complete the following functions in this \n",
    "%  exericse:\n",
    "%\n",
    "%     warmUpExercise.m\n",
    "%     plotData.m\n",
    "%     gradientDescent.m\n",
    "%     computeCost.m\n",
    "%     gradientDescentMulti.m\n",
    "%     computeCostMulti.m\n",
    "%     featureNormalize.m\n",
    "%     normalEqn.m\n",
    "%\n",
    "%  For this part of the exercise, you will need to change some\n",
    "%  parts of the code below for various experiments (e.g., changing\n",
    "%  learning rates).\n",
    "%\n",
    "\n",
    "%% Initialization\n",
    "\n",
    "%% ================ Part 1: Feature Normalization ================\n",
    "\n",
    "%% Clear and Close Figures\n",
    "clear ; close all; clc\n",
    "\n",
    "fprintf('Loading data ...\\n');\n",
    "\n",
    "%% Load Data\n",
    "data = load('ex1data2.txt');\n",
    "X = data(:, 1:2);\n",
    "y = data(:, 3);\n",
    "m = length(y);"
   ]
  },
  {
   "cell_type": "code",
   "execution_count": 2,
   "metadata": {},
   "outputs": [
    {
     "name": "stdout",
     "output_type": "stream",
     "text": [
      "features =\n",
      "\n",
      "   2104      3\n",
      "   1600      3\n",
      "   2400      3\n",
      "   1416      2\n",
      "   3000      4\n",
      "   1985      4\n",
      "   1534      3\n",
      "   1427      3\n",
      "   1380      3\n",
      "   1494      3\n",
      "\n",
      "label =\n",
      "\n",
      "   399900\n",
      "   329900\n",
      "   369000\n",
      "   232000\n",
      "   539900\n",
      "   299900\n",
      "   314900\n",
      "   198999\n",
      "   212000\n",
      "   242500\n",
      "\n"
     ]
    }
   ],
   "source": [
    "% Imprimindo os 10 primeiros resultados de cada arquivo\n",
    "features = X(1:10, :)\n",
    "label = y(1:10, :)"
   ]
  },
  {
   "cell_type": "code",
   "execution_count": 3,
   "metadata": {},
   "outputs": [
    {
     "name": "stdout",
     "output_type": "stream",
     "text": [
      "First 10 examples from the dataset: \n",
      " x = [2104 3], y = 399900 \n",
      " x = [1600 3], y = 329900 \n",
      " x = [2400 3], y = 369000 \n",
      " x = [1416 2], y = 232000 \n",
      " x = [3000 4], y = 539900 \n",
      " x = [1985 4], y = 299900 \n",
      " x = [1534 3], y = 314900 \n",
      " x = [1427 3], y = 198999 \n",
      " x = [1380 3], y = 212000 \n",
      " x = [1494 3], y = 242500 \n"
     ]
    }
   ],
   "source": [
    "% Uma outra forma de visualizar\n",
    "fprintf('First 10 examples from the dataset: \\n');\n",
    "fprintf(' x = [%.0f %.0f], y = %.0f \\n', [X(1:10,:) y(1:10,:)]');"
   ]
  },
  {
   "cell_type": "markdown",
   "metadata": {},
   "source": [
    "### featureNormalize(X)"
   ]
  },
  {
   "cell_type": "code",
   "execution_count": 4,
   "metadata": {},
   "outputs": [],
   "source": [
    "function [X_norm, mu, sigma] = featureNormalize(X)\n",
    "%FEATURENORMALIZE Normalizes the features in X \n",
    "%   FEATURENORMALIZE(X) returns a normalized version of X where\n",
    "%   the mean value of each feature is 0 and the standard deviation\n",
    "%   is 1. This is often a good preprocessing step to do when\n",
    "%   working with learning algorithms.\n",
    "\n",
    "% You need to set these values correctly\n",
    "X_norm = X;\n",
    "mu = zeros(1, size(X, 2));\n",
    "sigma = zeros(1, size(X, 2));\n",
    "\n",
    "% ====================== YOUR CODE HERE ======================\n",
    "% Instructions: First, for each feature dimension, compute the mean\n",
    "%               of the feature and subtract it from the dataset,\n",
    "%               storing the mean value in mu. Next, compute the \n",
    "%               standard deviation of each feature and divide\n",
    "%               each feature by it's standard deviation, storing\n",
    "%               the standard deviation in sigma. \n",
    "%\n",
    "%               Note that X is a matrix where each column is a \n",
    "%               feature and each row is an example. You need \n",
    "%               to perform the normalization separately for \n",
    "%               each feature. \n",
    "%\n",
    "% Hint: You might find the 'mean' and 'std' functions useful.\n",
    "\n",
    "\n",
    "% Calculando mu e sigma\n",
    "for i = 1:2\n",
    "    mu(i) = mean(X_norm(:, i));\n",
    "    sigma(i) = std(X_norm(:, i));\n",
    "end\n",
    "\n",
    "% Aplicando feature normalization ao dataset X_norm\n",
    "for i = 1:size(X, 2)\n",
    "    X_norm(:, i) = (X_norm(:, i) - mu(i)) / sigma(i);\n",
    "end  \n",
    "\n",
    "% ============================================================\n",
    "\n",
    "end"
   ]
  },
  {
   "cell_type": "code",
   "execution_count": 5,
   "metadata": {},
   "outputs": [
    {
     "name": "stdout",
     "output_type": "stream",
     "text": [
      "features =\n",
      "\n",
      "   0.130010  -0.223675\n",
      "  -0.504190  -0.223675\n",
      "   0.502476  -0.223675\n",
      "  -0.735723  -1.537767\n",
      "   1.257476   1.090417\n",
      "  -0.019732   1.090417\n",
      "  -0.587240  -0.223675\n",
      "  -0.721881  -0.223675\n",
      "  -0.781023  -0.223675\n",
      "  -0.637573  -0.223675\n",
      "\n",
      "medias =\n",
      "\n",
      "   2000.6809      3.1702\n",
      "\n",
      "desv_pads =\n",
      "\n",
      "   794.70235     0.76098\n",
      "\n"
     ]
    }
   ],
   "source": [
    "% Chamando função e verificando resultados\n",
    "[X mu sigma] = featureNormalize(X);\n",
    "\n",
    "% Primeiras linhas de X normalizado\n",
    "features = X(1:10, :)\n",
    "\n",
    "% mu e sigma\n",
    "medias = mu\n",
    "desv_pads = sigma"
   ]
  },
  {
   "cell_type": "code",
   "execution_count": 6,
   "metadata": {},
   "outputs": [
    {
     "name": "stdout",
     "output_type": "stream",
     "text": [
      "ans =\n",
      "\n",
      "   1.000000   0.130010  -0.223675\n",
      "   1.000000  -0.504190  -0.223675\n",
      "   1.000000   0.502476  -0.223675\n",
      "   1.000000  -0.735723  -1.537767\n",
      "   1.000000   1.257476   1.090417\n",
      "   1.000000  -0.019732   1.090417\n",
      "   1.000000  -0.587240  -0.223675\n",
      "   1.000000  -0.721881  -0.223675\n",
      "   1.000000  -0.781023  -0.223675\n",
      "   1.000000  -0.637573  -0.223675\n",
      "\n"
     ]
    }
   ],
   "source": [
    "% Add intercept (aditional column x_0) term to X\n",
    "X = [ones(m, 1) X];\n",
    "X(1:10, :)"
   ]
  },
  {
   "cell_type": "markdown",
   "metadata": {},
   "source": [
    "### gradientDescentMulti(X, y, theta, alpha, num_iters)"
   ]
  },
  {
   "cell_type": "code",
   "execution_count": 7,
   "metadata": {},
   "outputs": [],
   "source": [
    "function [theta, J_history] = gradientDescentMulti(X, y, theta, alpha, num_iters)\n",
    "%GRADIENTDESCENTMULTI Performs gradient descent to learn theta\n",
    "%   theta = GRADIENTDESCENTMULTI(x, y, theta, alpha, num_iters) updates theta by\n",
    "%   taking num_iters gradient steps with learning rate alpha\n",
    "\n",
    "% Initialize some useful values\n",
    "m = length(y); % number of training examples\n",
    "J_history = zeros(num_iters, 1);\n",
    "\n",
    "for iter = 1:num_iters\n",
    "\n",
    "    % ====================== YOUR CODE HERE ======================\n",
    "    % Instructions: Perform a single gradient step on the parameter vector\n",
    "    %               theta. \n",
    "    %\n",
    "    % Hint: While debugging, it can be useful to print out the values\n",
    "    %       of the cost function (computeCostMulti) and gradient here.\n",
    "    %\n",
    "\n",
    "    theta = theta - (alpha/m) * X' * ((X * theta) - y);\n",
    "    \n",
    "    % delete semicollon if you need to see real time results\n",
    "    cost_iteration = computeCostMulti(X, y, theta);\n",
    "\n",
    "\n",
    "    % ============================================================\n",
    "\n",
    "    % Save the cost J in every iteration    \n",
    "    J_history(iter) = computeCostMulti(X, y, theta);\n",
    "\n",
    "end\n",
    "\n",
    "end"
   ]
  },
  {
   "cell_type": "markdown",
   "metadata": {},
   "source": [
    "### computeCostMulti(X, y, theta)"
   ]
  },
  {
   "cell_type": "code",
   "execution_count": 8,
   "metadata": {},
   "outputs": [],
   "source": [
    "function J = computeCostMulti(X, y, theta)\n",
    "%COMPUTECOSTMULTI Compute cost for linear regression with multiple variables\n",
    "%   J = COMPUTECOSTMULTI(X, y, theta) computes the cost of using theta as the\n",
    "%   parameter for linear regression to fit the data points in X and y\n",
    "\n",
    "% Initialize some useful values\n",
    "m = length(y); % number of training examples\n",
    "\n",
    "% You need to return the following variables correctly \n",
    "J = 0;\n",
    "\n",
    "% ====================== YOUR CODE HERE ======================\n",
    "% Instructions: Compute the cost of a particular choice of theta\n",
    "%               You should set J to the cost.\n",
    "\n",
    "% Vectorized version\n",
    "\n",
    "J = 1/(2*m) * ((X * theta) - y)' * ((X * theta) - y);\n",
    "\n",
    "% =========================================================================\n",
    "\n",
    "end"
   ]
  },
  {
   "cell_type": "markdown",
   "metadata": {},
   "source": [
    "### Best alpha (learning rate)"
   ]
  },
  {
   "cell_type": "code",
   "execution_count": 9,
   "metadata": {},
   "outputs": [
    {
     "name": "stdout",
     "output_type": "stream",
     "text": [
      "ans =  2108850058.40071\n"
     ]
    }
   ],
   "source": [
    "% Choose some alpha value\n",
    "alpha = 0.01;\n",
    "num_iters = 400;\n",
    "\n",
    "% Init Theta and Run Gradient Descent \n",
    "theta = zeros(3, 1);\n",
    "[theta, J_history] = gradientDescentMulti(X, y, theta, alpha, num_iters);\n",
    "\n",
    "% See the minimum cost\n",
    "min(J_history)"
   ]
  },
  {
   "cell_type": "code",
   "execution_count": 10,
   "metadata": {},
   "outputs": [
    {
     "name": "stdout",
     "output_type": "stream",
     "text": [
      "Theta computed from gradient descent (alpha=0.01, iters=400): \n",
      " 334302.063993 \n",
      " 100087.116006 \n",
      " 3673.548451 \n",
      "\n"
     ]
    },
    {
     "data": {
      "image/png": "[encoded data removed]",
      "text/plain": [
       "<IPython.core.display.Image object>"
      ]
     },
     "metadata": {},
     "output_type": "display_data"
    }
   ],
   "source": [
    "% Plot the convergence graph\n",
    "figure;\n",
    "plot(1:numel(J_history), J_history, '-b', 'LineWidth', 2);\n",
    "xlabel('Number of iterations');\n",
    "ylabel('Cost J');\n",
    "title('Cost Function among the number of iterations (alpha=0.01, iters=400)')\n",
    "\n",
    "% Display gradient descent's result\n",
    "fprintf('Theta computed from gradient descent (alpha=0.01, iters=400): \\n');\n",
    "fprintf(' %f \\n', theta);\n",
    "fprintf('\\n');"
   ]
  },
  {
   "cell_type": "markdown",
   "metadata": {},
   "source": [
    "Visualizando valores para 50 iterações"
   ]
  },
  {
   "cell_type": "code",
   "execution_count": 11,
   "metadata": {},
   "outputs": [
    {
     "name": "stdout",
     "output_type": "stream",
     "text": [
      "minimum_cost =  25099179837.57125\n",
      "\n",
      "Theta computed from gradient descent (alpha=0.01, iters=50): \n",
      " 134460.935201 \n",
      " 39283.227674 \n",
      " 16518.641918 \n",
      "\n"
     ]
    },
    {
     "data": {
      "image/png": "[encoded data removed]",
      "text/plain": [
       "<IPython.core.display.Image object>"
      ]
     },
     "metadata": {},
     "output_type": "display_data"
    }
   ],
   "source": [
    "% Choose some alpha value\n",
    "alpha = 0.01;\n",
    "num_iters = 50;\n",
    "\n",
    "% Init Theta and Run Gradient Descent \n",
    "theta = zeros(3, 1);\n",
    "[theta, J_history] = gradientDescentMulti(X, y, theta, alpha, num_iters);\n",
    "minimum_cost = min(J_history)\n",
    "\n",
    "% Plot the convergence graph\n",
    "figure;\n",
    "plot(1:numel(J_history), J_history, '-b', 'LineWidth', 2);\n",
    "xlabel('Number of iterations');\n",
    "ylabel('Cost J');\n",
    "title('Cost Function among the number of iterations (alpha=0.01, iters=50)')\n",
    "\n",
    "% Display gradient descent's result\n",
    "fprintf('\\nTheta computed from gradient descent (alpha=0.01, iters=50): \\n');\n",
    "fprintf(' %f \\n', theta);\n",
    "fprintf('\\n');"
   ]
  },
  {
   "cell_type": "code",
   "execution_count": 12,
   "metadata": {},
   "outputs": [
    {
     "name": "stdout",
     "output_type": "stream",
     "text": [
      "minimum_cost =  5239888073.23438\n",
      "\n",
      "Theta computed from gradient descent (alpha=0.03, iters=50): \n",
      " 266180.445191 \n",
      " 75037.932305 \n",
      " 18970.040594 \n",
      "\n"
     ]
    },
    {
     "data": {
      "image/png": "[encoded data removed]",
      "text/plain": [
       "<IPython.core.display.Image object>"
      ]
     },
     "metadata": {},
     "output_type": "display_data"
    }
   ],
   "source": [
    "% Choose some alpha value\n",
    "alpha = 0.03;\n",
    "num_iters = 50;\n",
    "\n",
    "% Init Theta and Run Gradient Descent \n",
    "theta = zeros(3, 1);\n",
    "[theta, J_history] = gradientDescentMulti(X, y, theta, alpha, num_iters);\n",
    "minimum_cost = min(J_history)\n",
    "\n",
    "% Plot the convergence graph\n",
    "figure;\n",
    "plot(1:numel(J_history), J_history, '-b', 'LineWidth', 2);\n",
    "xlabel('Number of iterations');\n",
    "ylabel('Cost J');\n",
    "title('Cost Function among the number of iterations (alpha=0.03, iters=50)')\n",
    "\n",
    "% Display gradient descent's result\n",
    "fprintf('\\nTheta computed from gradient descent (alpha=0.03, iters=50): \\n');\n",
    "fprintf(' %f \\n', theta);\n",
    "fprintf('\\n');"
   ]
  },
  {
   "cell_type": "code",
   "execution_count": 13,
   "metadata": {},
   "outputs": [
    {
     "name": "stdout",
     "output_type": "stream",
     "text": [
      "minimum_cost =  2062961418.08597\n",
      "\n",
      "Theta computed from gradient descent (alpha=0.1, iters=50): \n",
      " 338658.249249 \n",
      " 104127.515597 \n",
      " -172.205334 \n",
      "\n"
     ]
    },
    {
     "data": {
      "image/png": "[encoded data removed]",
      "text/plain": [
       "<IPython.core.display.Image object>"
      ]
     },
     "metadata": {},
     "output_type": "display_data"
    }
   ],
   "source": [
    "% Choose some alpha value\n",
    "alpha = 0.1;\n",
    "num_iters = 50;\n",
    "\n",
    "% Init Theta and Run Gradient Descent \n",
    "theta = zeros(3, 1);\n",
    "[theta, J_history] = gradientDescentMulti(X, y, theta, alpha, num_iters);\n",
    "minimum_cost = min(J_history)\n",
    "\n",
    "% Plot the convergence graph\n",
    "figure;\n",
    "plot(1:numel(J_history), J_history, '-b', 'LineWidth', 2);\n",
    "xlabel('Number of iterations');\n",
    "ylabel('Cost J');\n",
    "title('Cost Function among the number of iterations (alpha=0.1, iters=50)')\n",
    "\n",
    "% Display gradient descent's result\n",
    "fprintf('\\nTheta computed from gradient descent (alpha=0.1, iters=50): \\n');\n",
    "fprintf(' %f \\n', theta);\n",
    "fprintf('\\n');"
   ]
  },
  {
   "cell_type": "code",
   "execution_count": 14,
   "metadata": {},
   "outputs": [
    {
     "name": "stdout",
     "output_type": "stream",
     "text": [
      "minimum_cost =  2043281503.79509\n",
      "\n",
      "Theta computed from gradient descent (alpha=0.3, iters=50): \n",
      " 340412.653452 \n",
      " 110572.961931 \n",
      " -6591.385923 \n",
      "\n"
     ]
    },
    {
     "data": {
      "image/png": "[encoded data removed]",
      "text/plain": [
       "<IPython.core.display.Image object>"
      ]
     },
     "metadata": {},
     "output_type": "display_data"
    }
   ],
   "source": [
    "% Choose some alpha value\n",
    "alpha = 0.3;\n",
    "num_iters = 50;\n",
    "\n",
    "% Init Theta and Run Gradient Descent \n",
    "theta = zeros(3, 1);\n",
    "[theta, J_history] = gradientDescentMulti(X, y, theta, alpha, num_iters);\n",
    "minimum_cost = min(J_history)\n",
    "\n",
    "% Plot the convergence graph\n",
    "figure;\n",
    "plot(1:numel(J_history), J_history, '-b', 'LineWidth', 2);\n",
    "xlabel('Number of iterations');\n",
    "ylabel('Cost J');\n",
    "title('Cost Function among the number of iterations (alpha=0.3, iters=50)')\n",
    "\n",
    "% Display gradient descent's result\n",
    "fprintf('\\nTheta computed from gradient descent (alpha=0.3, iters=50): \\n');\n",
    "fprintf(' %f \\n', theta);\n",
    "fprintf('\\n');"
   ]
  },
  {
   "cell_type": "code",
   "execution_count": 15,
   "metadata": {},
   "outputs": [],
   "source": [
    "# Salvando funções de custo e plotando tudo em um mesmo gráfico\n",
    "\n",
    "% Primeiro teste\n",
    "alpha = 0.01;\n",
    "num_iters = 50;\n",
    "theta = zeros(3, 1);\n",
    "[theta, J1] = gradientDescentMulti(X, y, theta, alpha, num_iters);\n",
    "\n",
    "% Segundo teste\n",
    "alpha = 0.03;\n",
    "num_iters = 50;\n",
    "theta = zeros(3, 1);\n",
    "[theta, J2] = gradientDescentMulti(X, y, theta, alpha, num_iters);\n",
    "\n",
    "% Terceiro teste\n",
    "alpha = 0.1;\n",
    "num_iters = 50;\n",
    "theta = zeros(3, 1);\n",
    "[theta, J3] = gradientDescentMulti(X, y, theta, alpha, num_iters);\n",
    "\n",
    "% Quarto teste\n",
    "alpha = 0.3;\n",
    "num_iters = 50;\n",
    "theta = zeros(3, 1);\n",
    "[theta, J4] = gradientDescentMulti(X, y, theta, alpha, num_iters);\n",
    "\n",
    "% Quinto teste\n",
    "alpha = 1.0;\n",
    "num_iters = 50;\n",
    "theta = zeros(3, 1);\n",
    "[theta, J5] = gradientDescentMulti(X, y, theta, alpha, num_iters);\n",
    "\n",
    "% Sexto teste\n",
    "alpha = 3.0;\n",
    "num_iters = 50;\n",
    "theta = zeros(3, 1);\n",
    "[theta, J6] = gradientDescentMulti(X, y, theta, alpha, num_iters);"
   ]
  },
  {
   "cell_type": "code",
   "execution_count": 16,
   "metadata": {},
   "outputs": [
    {
     "name": "stdout",
     "output_type": "stream",
     "text": [
      "min_J1 =  25099179837.57125\n",
      "min_J2 =  5239888073.23438\n",
      "min_J3 =  2062961418.08597\n",
      "min_J4 =  2043281503.79509\n",
      "min_J5 =  2043280050.60283\n",
      "min_J6 =    2.8683e+11\n"
     ]
    }
   ],
   "source": [
    "% Verificando resultados\n",
    "min_J1 = min(J1)\n",
    "min_J2 = min(J2)\n",
    "min_J3 = min(J3)\n",
    "min_J4 = min(J4)\n",
    "min_J5 = min(J5)\n",
    "min_J6 = min(J6)"
   ]
  },
  {
   "cell_type": "markdown",
   "metadata": {},
   "source": [
    "Parece que a partir do Quarto Teste, o valor de custo não muda muito. Além disso, no Sétimo Teste ele não convergeu."
   ]
  },
  {
   "cell_type": "code",
   "execution_count": 17,
   "metadata": {},
   "outputs": [
    {
     "name": "stdout",
     "output_type": "stream",
     "text": [
      "A =\n",
      "\n",
      "   0\n",
      "   0\n",
      "   0\n",
      "   0\n",
      "\n",
      "B =\n",
      "\n",
      "   0   1\n",
      "   0   1\n",
      "   0   1\n",
      "   0   1\n",
      "\n"
     ]
    }
   ],
   "source": [
    "% Testando antes de aplicar um laço de repetição\n",
    "A = zeros(4, 1)\n",
    "B = [A ones(4, 1)]"
   ]
  },
  {
   "cell_type": "code",
   "execution_count": 18,
   "metadata": {},
   "outputs": [
    {
     "name": "stdout",
     "output_type": "stream",
     "text": [
      "alpha =  0.010000\n",
      "alpha =  0.030000\n",
      "alpha =  0.10000\n",
      "alpha =  0.30000\n",
      "alpha =  1.0000\n",
      "alpha =  3.0000\n"
     ]
    }
   ],
   "source": [
    "% Aplicando laço de repetição \n",
    "alpha = 0.01;\n",
    "i = 1;\n",
    "J_final = zeros(50, 1);\n",
    "num_iters = 50;\n",
    "while alpha <= 3.1\n",
    "    alpha\n",
    "    theta = zeros(3, 1);\n",
    "    [theta, J_iter] = gradientDescentMulti(X, y, theta, alpha, num_iters);\n",
    "    J_final = [J_final J_iter];\n",
    "    if mod(i, 2) == 0\n",
    "        alpha = (alpha / 3) * 10;\n",
    "    else\n",
    "        alpha = alpha * 3;\n",
    "    end\n",
    "    i = i + 1;\n",
    "end"
   ]
  },
  {
   "cell_type": "code",
   "execution_count": 19,
   "metadata": {},
   "outputs": [
    {
     "name": "stdout",
     "output_type": "stream",
     "text": [
      "J_final =\n",
      "\n",
      " Columns 1 through 6:\n",
      "\n",
      "   0.0000e+00   6.4301e+10   6.1760e+10   5.3294e+10   3.2769e+10   3.6685e+09\n",
      "   0.0000e+00   6.3037e+10   5.8165e+10   4.3427e+10   1.7162e+10   2.5167e+09\n",
      "   0.0000e+00   6.1799e+10   5.4791e+10   3.5500e+10   9.6102e+09   2.1819e+09\n",
      "   0.0000e+00   6.0587e+10   5.1624e+10   2.9123e+10   5.9038e+09   2.0841e+09\n",
      "   0.0000e+00   5.9400e+10   4.8653e+10   2.3987e+10   4.0603e+09   2.0554e+09\n",
      "   0.0000e+00   5.8238e+10   4.5863e+10   1.9846e+10   3.1294e+09   2.0469e+09\n",
      "   0.0000e+00   5.7100e+10   4.3244e+10   1.6504e+10   2.6505e+09   2.0444e+09\n",
      "   0.0000e+00   5.5986e+10   4.0785e+10   1.3803e+10   2.3980e+09   2.0436e+09\n",
      "   0.0000e+00   5.4894e+10   3.8477e+10   1.1620e+10   2.2605e+09   2.0434e+09\n",
      "   0.0000e+00   5.3825e+10   3.6309e+10   9.8517e+09   2.1826e+09   2.0433e+09\n",
      "   0.0000e+00   5.2779e+10   3.4272e+10   8.4192e+09   2.1365e+09   2.0433e+09\n",
      "   0.0000e+00   5.1754e+10   3.2360e+10   7.2573e+09   2.1079e+09   2.0433e+09\n",
      "   0.0000e+00   5.0750e+10   3.0564e+10   6.3139e+09   2.0893e+09   2.0433e+09\n",
      "   0.0000e+00   4.9767e+10   2.8877e+10   5.5472e+09   2.0767e+09   2.0433e+09\n",
      "   0.0000e+00   4.8804e+10   2.7291e+10   4.9234e+09   2.0679e+09   2.0433e+09\n",
      "   0.0000e+00   4.7861e+10   2.5802e+10   4.4154e+09   2.0616e+09   2.0433e+09\n",
      "   0.0000e+00   4.6938e+10   2.4402e+10   4.0011e+09   2.0570e+09   2.0433e+09\n",
      "   0.0000e+00   4.6033e+10   2.3087e+10   3.6628e+09   2.0536e+09   2.0433e+09\n",
      "   0.0000e+00   4.5148e+10   2.1851e+10   3.3862e+09   2.0511e+09   2.0433e+09\n",
      "   0.0000e+00   4.4280e+10   2.0690e+10   3.1597e+09   2.0492e+09   2.0433e+09\n",
      "   0.0000e+00   4.3431e+10   1.9598e+10   2.9740e+09   2.0477e+09   2.0433e+09\n",
      "   0.0000e+00   4.2598e+10   1.8572e+10   2.8215e+09   2.0467e+09   2.0433e+09\n",
      "   0.0000e+00   4.1783e+10   1.7607e+10   2.6959e+09   2.0458e+09   2.0433e+09\n",
      "   0.0000e+00   4.0985e+10   1.6700e+10   2.5924e+09   2.0452e+09   2.0433e+09\n",
      "   0.0000e+00   4.0203e+10   1.5847e+10   2.5068e+09   2.0447e+09   2.0433e+09\n",
      "   0.0000e+00   3.9437e+10   1.5045e+10   2.4360e+09   2.0444e+09   2.0433e+09\n",
      "   0.0000e+00   3.8687e+10   1.4291e+10   2.3772e+09   2.0441e+09   2.0433e+09\n",
      "   0.0000e+00   3.7953e+10   1.3581e+10   2.3282e+09   2.0439e+09   2.0433e+09\n",
      "   0.0000e+00   3.7233e+10   1.2914e+10   2.2874e+09   2.0438e+09   2.0433e+09\n",
      "   0.0000e+00   3.6528e+10   1.2287e+10   2.2531e+09   2.0436e+09   2.0433e+09\n",
      "   0.0000e+00   3.5838e+10   1.1697e+10   2.2244e+09   2.0436e+09   2.0433e+09\n",
      "   0.0000e+00   3.5162e+10   1.1141e+10   2.2002e+09   2.0435e+09   2.0433e+09\n",
      "   0.0000e+00   3.4499e+10   1.0619e+10   2.1797e+09   2.0434e+09   2.0433e+09\n",
      "   0.0000e+00   3.3850e+10   1.0127e+10   2.1624e+09   2.0434e+09   2.0433e+09\n",
      "   0.0000e+00   3.3215e+10   9.6649e+09   2.1476e+09   2.0434e+09   2.0433e+09\n",
      "   0.0000e+00   3.2592e+10   9.2297e+09   2.1349e+09   2.0433e+09   2.0433e+09\n",
      "   0.0000e+00   3.1983e+10   8.8201e+09   2.1241e+09   2.0433e+09   2.0433e+09\n",
      "   0.0000e+00   3.1385e+10   8.4346e+09   2.1148e+09   2.0433e+09   2.0433e+09\n",
      "   0.0000e+00   3.0800e+10   8.0717e+09   2.1067e+09   2.0433e+09   2.0433e+09\n",
      "   0.0000e+00   3.0227e+10   7.7302e+09   2.0997e+09   2.0433e+09   2.0433e+09\n",
      "   0.0000e+00   2.9665e+10   7.4086e+09   2.0936e+09   2.0433e+09   2.0433e+09\n",
      "   0.0000e+00   2.9115e+10   7.1059e+09   2.0883e+09   2.0433e+09   2.0433e+09\n",
      "   0.0000e+00   2.8576e+10   6.8208e+09   2.0836e+09   2.0433e+09   2.0433e+09\n",
      "   0.0000e+00   2.8048e+10   6.5524e+09   2.0795e+09   2.0433e+09   2.0433e+09\n",
      "   0.0000e+00   2.7531e+10   6.2997e+09   2.0759e+09   2.0433e+09   2.0433e+09\n",
      "   0.0000e+00   2.7025e+10   6.0616e+09   2.0727e+09   2.0433e+09   2.0433e+09\n",
      "   0.0000e+00   2.6528e+10   5.8374e+09   2.0698e+09   2.0433e+09   2.0433e+09\n",
      "   0.0000e+00   2.6042e+10   5.6263e+09   2.0673e+09   2.0433e+09   2.0433e+09\n",
      "   0.0000e+00   2.5566e+10   5.4273e+09   2.0650e+09   2.0433e+09   2.0433e+09\n",
      "   0.0000e+00   2.5099e+10   5.2399e+09   2.0630e+09   2.0433e+09   2.0433e+09\n",
      "\n",
      " Column 7:\n",
      "\n",
      "   2.8683e+11\n",
      "   1.6072e+12\n",
      "   1.2403e+13\n",
      "   1.2627e+14\n",
      "   1.4878e+15\n",
      "   1.8548e+16\n",
      "   2.3567e+17\n",
      "   3.0126e+18\n",
      "   3.8584e+19\n",
      "   4.9447e+20\n",
      "   6.3380e+21\n",
      "   8.1243e+22\n",
      "   1.0414e+24\n",
      "   1.3350e+25\n",
      "   1.7113e+26\n",
      "   2.1936e+27\n",
      "   2.8120e+28\n",
      "   3.6046e+29\n",
      "   4.6206e+30\n",
      "   5.9231e+31\n",
      "   7.5926e+32\n",
      "   9.7328e+33\n",
      "   1.2476e+35\n",
      "   1.5993e+36\n",
      "   2.0501e+37\n",
      "   2.6280e+38\n",
      "   3.3687e+39\n",
      "   4.3183e+40\n",
      "   5.5355e+41\n",
      "   7.0959e+42\n",
      "   9.0960e+43\n",
      "   1.1660e+45\n",
      "   1.4947e+46\n",
      "   1.9160e+47\n",
      "   2.4560e+48\n",
      "   3.1483e+49\n",
      "   4.0358e+50\n",
      "   5.1734e+51\n",
      "   6.6316e+52\n",
      "   8.5009e+53\n",
      "   1.0897e+55\n",
      "   1.3969e+56\n",
      "   1.7906e+57\n",
      "   2.2954e+58\n",
      "   2.9424e+59\n",
      "   3.7717e+60\n",
      "   4.8349e+61\n",
      "   6.1977e+62\n",
      "   7.9447e+63\n",
      "   1.0184e+65\n",
      "\n"
     ]
    }
   ],
   "source": [
    "% Verificando vetor final de J\n",
    "J_final"
   ]
  },
  {
   "cell_type": "code",
   "execution_count": 20,
   "metadata": {},
   "outputs": [
    {
     "name": "stdout",
     "output_type": "stream",
     "text": [
      "J_final =\n",
      "\n",
      "   6.4301e+10   6.1760e+10   5.3294e+10   3.2769e+10   3.6685e+09   2.8683e+11\n",
      "   6.3037e+10   5.8165e+10   4.3427e+10   1.7162e+10   2.5167e+09   1.6072e+12\n",
      "   6.1799e+10   5.4791e+10   3.5500e+10   9.6102e+09   2.1819e+09   1.2403e+13\n",
      "   6.0587e+10   5.1624e+10   2.9123e+10   5.9038e+09   2.0841e+09   1.2627e+14\n",
      "   5.9400e+10   4.8653e+10   2.3987e+10   4.0603e+09   2.0554e+09   1.4878e+15\n",
      "   5.8238e+10   4.5863e+10   1.9846e+10   3.1294e+09   2.0469e+09   1.8548e+16\n",
      "   5.7100e+10   4.3244e+10   1.6504e+10   2.6505e+09   2.0444e+09   2.3567e+17\n",
      "   5.5986e+10   4.0785e+10   1.3803e+10   2.3980e+09   2.0436e+09   3.0126e+18\n",
      "   5.4894e+10   3.8477e+10   1.1620e+10   2.2605e+09   2.0434e+09   3.8584e+19\n",
      "   5.3825e+10   3.6309e+10   9.8517e+09   2.1826e+09   2.0433e+09   4.9447e+20\n",
      "   5.2779e+10   3.4272e+10   8.4192e+09   2.1365e+09   2.0433e+09   6.3380e+21\n",
      "   5.1754e+10   3.2360e+10   7.2573e+09   2.1079e+09   2.0433e+09   8.1243e+22\n",
      "   5.0750e+10   3.0564e+10   6.3139e+09   2.0893e+09   2.0433e+09   1.0414e+24\n",
      "   4.9767e+10   2.8877e+10   5.5472e+09   2.0767e+09   2.0433e+09   1.3350e+25\n",
      "   4.8804e+10   2.7291e+10   4.9234e+09   2.0679e+09   2.0433e+09   1.7113e+26\n",
      "   4.7861e+10   2.5802e+10   4.4154e+09   2.0616e+09   2.0433e+09   2.1936e+27\n",
      "   4.6938e+10   2.4402e+10   4.0011e+09   2.0570e+09   2.0433e+09   2.8120e+28\n",
      "   4.6033e+10   2.3087e+10   3.6628e+09   2.0536e+09   2.0433e+09   3.6046e+29\n",
      "   4.5148e+10   2.1851e+10   3.3862e+09   2.0511e+09   2.0433e+09   4.6206e+30\n",
      "   4.4280e+10   2.0690e+10   3.1597e+09   2.0492e+09   2.0433e+09   5.9231e+31\n",
      "   4.3431e+10   1.9598e+10   2.9740e+09   2.0477e+09   2.0433e+09   7.5926e+32\n",
      "   4.2598e+10   1.8572e+10   2.8215e+09   2.0467e+09   2.0433e+09   9.7328e+33\n",
      "   4.1783e+10   1.7607e+10   2.6959e+09   2.0458e+09   2.0433e+09   1.2476e+35\n",
      "   4.0985e+10   1.6700e+10   2.5924e+09   2.0452e+09   2.0433e+09   1.5993e+36\n",
      "   4.0203e+10   1.5847e+10   2.5068e+09   2.0447e+09   2.0433e+09   2.0501e+37\n",
      "   3.9437e+10   1.5045e+10   2.4360e+09   2.0444e+09   2.0433e+09   2.6280e+38\n",
      "   3.8687e+10   1.4291e+10   2.3772e+09   2.0441e+09   2.0433e+09   3.3687e+39\n",
      "   3.7953e+10   1.3581e+10   2.3282e+09   2.0439e+09   2.0433e+09   4.3183e+40\n",
      "   3.7233e+10   1.2914e+10   2.2874e+09   2.0438e+09   2.0433e+09   5.5355e+41\n",
      "   3.6528e+10   1.2287e+10   2.2531e+09   2.0436e+09   2.0433e+09   7.0959e+42\n",
      "   3.5838e+10   1.1697e+10   2.2244e+09   2.0436e+09   2.0433e+09   9.0960e+43\n",
      "   3.5162e+10   1.1141e+10   2.2002e+09   2.0435e+09   2.0433e+09   1.1660e+45\n",
      "   3.4499e+10   1.0619e+10   2.1797e+09   2.0434e+09   2.0433e+09   1.4947e+46\n",
      "   3.3850e+10   1.0127e+10   2.1624e+09   2.0434e+09   2.0433e+09   1.9160e+47\n",
      "   3.3215e+10   9.6649e+09   2.1476e+09   2.0434e+09   2.0433e+09   2.4560e+48\n",
      "   3.2592e+10   9.2297e+09   2.1349e+09   2.0433e+09   2.0433e+09   3.1483e+49\n",
      "   3.1983e+10   8.8201e+09   2.1241e+09   2.0433e+09   2.0433e+09   4.0358e+50\n",
      "   3.1385e+10   8.4346e+09   2.1148e+09   2.0433e+09   2.0433e+09   5.1734e+51\n",
      "   3.0800e+10   8.0717e+09   2.1067e+09   2.0433e+09   2.0433e+09   6.6316e+52\n",
      "   3.0227e+10   7.7302e+09   2.0997e+09   2.0433e+09   2.0433e+09   8.5009e+53\n",
      "   2.9665e+10   7.4086e+09   2.0936e+09   2.0433e+09   2.0433e+09   1.0897e+55\n",
      "   2.9115e+10   7.1059e+09   2.0883e+09   2.0433e+09   2.0433e+09   1.3969e+56\n",
      "   2.8576e+10   6.8208e+09   2.0836e+09   2.0433e+09   2.0433e+09   1.7906e+57\n",
      "   2.8048e+10   6.5524e+09   2.0795e+09   2.0433e+09   2.0433e+09   2.2954e+58\n",
      "   2.7531e+10   6.2997e+09   2.0759e+09   2.0433e+09   2.0433e+09   2.9424e+59\n",
      "   2.7025e+10   6.0616e+09   2.0727e+09   2.0433e+09   2.0433e+09   3.7717e+60\n",
      "   2.6528e+10   5.8374e+09   2.0698e+09   2.0433e+09   2.0433e+09   4.8349e+61\n",
      "   2.6042e+10   5.6263e+09   2.0673e+09   2.0433e+09   2.0433e+09   6.1977e+62\n",
      "   2.5566e+10   5.4273e+09   2.0650e+09   2.0433e+09   2.0433e+09   7.9447e+63\n",
      "   2.5099e+10   5.2399e+09   2.0630e+09   2.0433e+09   2.0433e+09   1.0184e+65\n",
      "\n"
     ]
    }
   ],
   "source": [
    "% Eliminando primeira coluna auxiliar\n",
    "J_final = J_final(:, 2:7)"
   ]
  },
  {
   "cell_type": "code",
   "execution_count": 21,
   "metadata": {},
   "outputs": [
    {
     "name": "stdout",
     "output_type": "stream",
     "text": [
      "Menor custo para J1: 25099179837.57\n",
      "Menor custo para J2: 5239888073.23\n",
      "Menor custo para J3: 2062961418.09\n",
      "Menor custo para J4: 2043281503.80\n",
      "Menor custo para J5: 2043280050.60\n",
      "Menor custo para J6: 286833371473.62\n"
     ]
    }
   ],
   "source": [
    "% Plotando os melhores resultados para cada iteração\n",
    "for i = 1:size(J_final, 2),\n",
    "    fprintf('Menor custo para J%d: %.2f\\n', i, min(J_final(:, i)));\n",
    "end"
   ]
  },
  {
   "cell_type": "markdown",
   "metadata": {},
   "source": [
    "Visivelmente não há diferenças entre J4 e J5... além disso, J6 não convergiu."
   ]
  },
  {
   "cell_type": "code",
   "execution_count": 22,
   "metadata": {},
   "outputs": [
    {
     "name": "stdout",
     "output_type": "stream",
     "text": [
      "'numel' is a built-in function from the file libinterp/corefcn/data.cc\n",
      "\n",
      " -- numel (A)\n",
      " -- numel (A, IDX1, IDX2, ...)\n",
      "     Return the number of elements in the object A.\n",
      "\n",
      "     Optionally, if indices IDX1, IDX2, ... are supplied, return the\n",
      "     number of elements that would result from the indexing\n",
      "\n",
      "          A(IDX1, IDX2, ...)\n",
      "\n",
      "     Note that the indices do not have to be scalar numbers.  For\n",
      "     example,\n",
      "\n",
      "          A = 1;\n",
      "          B = ones (2, 3);\n",
      "          numel (A, B)\n",
      "\n",
      "     will return 6, as this is the number of ways to index with B.  Or\n",
      "     the index could be the string \":\" which represents the colon\n",
      "     operator.  For example,\n",
      "\n",
      "          A = ones (5, 3);\n",
      "          numel (A, 2, \":\")\n",
      "\n",
      "     will return 3 as the second row has three column entries.\n",
      "\n",
      "     This method is also called when an object appears as lvalue with\n",
      "     cs-list indexing, i.e., 'object{...}' or 'object(...).field'.\n",
      "\n",
      "     See also: size, length, ndims.\n",
      "\n",
      "Additional help for built-in functions and operators is\n",
      "available in the online version of the manual.  Use the command\n",
      "'doc <topic>' to search the manual index.\n",
      "\n",
      "Help and information about Octave is also available on the WWW\n",
      "at https://www.octave.org and via the help@octave.org\n",
      "mailing list.\n"
     ]
    }
   ],
   "source": [
    "help numel"
   ]
  },
  {
   "cell_type": "code",
   "execution_count": null,
   "metadata": {},
   "outputs": [],
   "source": [
    "colors = ['k', 'm', 'y', 'g', 'r']\n",
    "colors(1) + str('-')"
   ]
  },
  {
   "cell_type": "code",
   "execution_count": 27,
   "metadata": {},
   "outputs": [
    {
     "data": {
      "image/png": "[encoded data removed]",
      "text/plain": [
       "<IPython.core.display.Image object>"
      ]
     },
     "metadata": {},
     "output_type": "display_data"
    }
   ],
   "source": [
    "% Plot the convergence graph\n",
    "figure;\n",
    "\n",
    "plot(1:50, J_final(:, 1), '-b', 'LineWidth', 2);\n",
    "hold on;\n",
    "plot(1:50, J_final(:, 2), '-', 'LineWidth', 2);\n",
    "plot(1:50, J_final(:, 3), '-m', 'LineWidth', 2);\n",
    "xlabel('Number of iterations');\n",
    "ylabel('Cost J');\n",
    "title('Cost Function among the number of iterations (alpha=0.3, iters=50)')"
   ]
  },
  {
   "cell_type": "markdown",
   "metadata": {},
   "source": [
    "### Predicting values"
   ]
  },
  {
   "cell_type": "code",
   "execution_count": 25,
   "metadata": {},
   "outputs": [
    {
     "name": "stdout",
     "output_type": "stream",
     "text": [
      "price =   -4.2692e+35\n"
     ]
    }
   ],
   "source": [
    "% Estimate the price of a 1650 sq-ft, 3 br house\n",
    "% ====================== YOUR CODE HERE ======================\n",
    "% Recall that the first column of X is all-ones. Thus, it does\n",
    "% not need to be normalized.\n",
    "\n",
    "price = [1 1650 3] * theta"
   ]
  },
  {
   "cell_type": "code",
   "execution_count": null,
   "metadata": {},
   "outputs": [],
   "source": []
  }
 ],
 "metadata": {
  "kernelspec": {
   "display_name": "Octave",
   "language": "octave",
   "name": "octave"
  },
  "language_info": {
   "file_extension": ".m",
   "help_links": [
    {
     "text": "GNU Octave",
     "url": "https://www.gnu.org/software/octave/support.html"
    },
    {
     "text": "Octave Kernel",
     "url": "https://github.com/Calysto/octave_kernel"
    },
    {
     "text": "MetaKernel Magics",
     "url": "https://github.com/calysto/metakernel/blob/master/metakernel/magics/README.md"
    }
   ],
   "mimetype": "text/x-octave",
   "name": "octave",
   "version": "4.4.1"
  },
  "toc": {
   "base_numbering": 1,
   "nav_menu": {},
   "number_sections": true,
   "sideBar": true,
   "skip_h1_title": false,
   "title_cell": "Table of Contents",
   "title_sidebar": "Contents",
   "toc_cell": true,
   "toc_position": {},
   "toc_section_display": true,
   "toc_window_display": true
  }
 },
 "nbformat": 4,
 "nbformat_minor": 2
}
