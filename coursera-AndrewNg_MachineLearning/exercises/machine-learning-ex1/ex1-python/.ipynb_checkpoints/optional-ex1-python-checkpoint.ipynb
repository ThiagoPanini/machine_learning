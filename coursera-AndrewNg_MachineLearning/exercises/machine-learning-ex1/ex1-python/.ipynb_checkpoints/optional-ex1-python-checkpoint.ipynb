{
 "cells": [
  {
   "cell_type": "markdown",
   "metadata": {
    "toc": true
   },
   "source": [
    "<h1>Table of Contents<span class=\"tocSkip\"></span></h1>\n",
    "<div class=\"toc\"><ul class=\"toc-item\"><li><span><a href=\"#Explorando-os-Dados\" data-toc-modified-id=\"Explorando-os-Dados-1\"><span class=\"toc-item-num\">1&nbsp;&nbsp;</span>Explorando os Dados</a></span></li><li><span><a href=\"#Aplicando-Transformações\" data-toc-modified-id=\"Aplicando-Transformações-2\"><span class=\"toc-item-num\">2&nbsp;&nbsp;</span>Aplicando Transformações</a></span></li><li><span><a href=\"#Treinando-um-modelo\" data-toc-modified-id=\"Treinando-um-modelo-3\"><span class=\"toc-item-num\">3&nbsp;&nbsp;</span>Treinando um modelo</a></span></li></ul></div>"
   ]
  },
  {
   "cell_type": "markdown",
   "metadata": {},
   "source": [
    "    In this part, you will implement linear regression with multiple variables to\n",
    "    predict the prices of houses. Suppose you are selling your house and you\n",
    "    want to know what a good market price would be. One way to do this is to\n",
    "    first collect information on recent houses sold and make a model of housing\n",
    "    prices.\n",
    "    The fle ex1data2.txt contains a training set of housing prices in Portland, Oregon. \n",
    "    The first column is the size of the house (in square feet), the\n",
    "    second column is the number of bedrooms, and the third column is the price\n",
    "    of the house."
   ]
  },
  {
   "cell_type": "code",
   "execution_count": 2,
   "metadata": {},
   "outputs": [
    {
     "data": {
      "text/html": [
       "<div>\n",
       "<style scoped>\n",
       "    .dataframe tbody tr th:only-of-type {\n",
       "        vertical-align: middle;\n",
       "    }\n",
       "\n",
       "    .dataframe tbody tr th {\n",
       "        vertical-align: top;\n",
       "    }\n",
       "\n",
       "    .dataframe thead th {\n",
       "        text-align: right;\n",
       "    }\n",
       "</style>\n",
       "<table border=\"1\" class=\"dataframe\">\n",
       "  <thead>\n",
       "    <tr style=\"text-align: right;\">\n",
       "      <th></th>\n",
       "      <th>size</th>\n",
       "      <th>bedrooms</th>\n",
       "      <th>price</th>\n",
       "    </tr>\n",
       "  </thead>\n",
       "  <tbody>\n",
       "    <tr>\n",
       "      <th>0</th>\n",
       "      <td>2104</td>\n",
       "      <td>3</td>\n",
       "      <td>399900</td>\n",
       "    </tr>\n",
       "    <tr>\n",
       "      <th>1</th>\n",
       "      <td>1600</td>\n",
       "      <td>3</td>\n",
       "      <td>329900</td>\n",
       "    </tr>\n",
       "    <tr>\n",
       "      <th>2</th>\n",
       "      <td>2400</td>\n",
       "      <td>3</td>\n",
       "      <td>369000</td>\n",
       "    </tr>\n",
       "    <tr>\n",
       "      <th>3</th>\n",
       "      <td>1416</td>\n",
       "      <td>2</td>\n",
       "      <td>232000</td>\n",
       "    </tr>\n",
       "    <tr>\n",
       "      <th>4</th>\n",
       "      <td>3000</td>\n",
       "      <td>4</td>\n",
       "      <td>539900</td>\n",
       "    </tr>\n",
       "  </tbody>\n",
       "</table>\n",
       "</div>"
      ],
      "text/plain": [
       "   size  bedrooms   price\n",
       "0  2104         3  399900\n",
       "1  1600         3  329900\n",
       "2  2400         3  369000\n",
       "3  1416         2  232000\n",
       "4  3000         4  539900"
      ]
     },
     "execution_count": 2,
     "metadata": {},
     "output_type": "execute_result"
    }
   ],
   "source": [
    "# Importando biblilotecas e lendo arquivo\n",
    "import pandas as pd\n",
    "import matplotlib.pyplot as plt\n",
    "import numpy as np\n",
    "from sklearn.linear_model import LinearRegression\n",
    "from sklearn.metrics import mean_squared_error, r2_score\n",
    "from sklearn.model_selection import train_test_split\n",
    "\n",
    "df = pd.read_csv('ex1data2.csv', names=['size', 'bedrooms', 'price'])\n",
    "df.head()"
   ]
  },
  {
   "cell_type": "markdown",
   "metadata": {},
   "source": [
    "### Explorando os Dados"
   ]
  },
  {
   "cell_type": "code",
   "execution_count": 12,
   "metadata": {},
   "outputs": [],
   "source": [
    "def check_dataframe(df):\n",
    "    \"\"\"\n",
    "    Function that goes through dataset and verify dimensions, data types, missing data and duplicated data\n",
    "    \"\"\"\n",
    "    print('- - - - - DIMENSIONS - - - - -')\n",
    "    print(f'O dataset possui {df.shape[0]} linhas e {df.shape[1]} colunas.')\n",
    "    \n",
    "    print('\\n- - - - - MISSING DATA - - - - -')\n",
    "    print('O dataset possui dados nulos?')\n",
    "    missing = df.isnull().all().any()\n",
    "    print(f'R: {missing}')\n",
    "    if missing:\n",
    "        print('\\nQuantos dados?')\n",
    "        print(f'R: {df.isnull().all().sum()}')\n",
    "        print('\\nEm quais colunas?')\n",
    "        print(f'R: {df.isnull().sum()}')\n",
    "    \n",
    "    print('\\n- - - - - DUPLICATED DATA - - - - -')\n",
    "    print('O dataset possui dados duplicados?')\n",
    "    duplicated = df.duplicated().all()\n",
    "    print(f'R: {duplicated}')\n",
    "    if duplicated:\n",
    "        print('\\nQuantos?')\n",
    "        print(f'R: {df.duplicated().sum()}')\n",
    "    \n",
    "    print('\\n- - - - - DATA TYPES - - - - -')\n",
    "    print(f'{df.dtypes}')"
   ]
  },
  {
   "cell_type": "code",
   "execution_count": 13,
   "metadata": {},
   "outputs": [
    {
     "name": "stdout",
     "output_type": "stream",
     "text": [
      "- - - - - DIMENSIONS - - - - -\n",
      "O dataset possui 47 linhas e 3 colunas.\n",
      "\n",
      "- - - - - MISSING DATA - - - - -\n",
      "O dataset possui dados nulos?\n",
      "R: False\n",
      "\n",
      "- - - - - DUPLICATED DATA - - - - -\n",
      "O dataset possui dados duplicados?\n",
      "R: False\n",
      "\n",
      "- - - - - DATA TYPES - - - - -\n",
      "size        int64\n",
      "bedrooms    int64\n",
      "price       int64\n",
      "dtype: object\n"
     ]
    }
   ],
   "source": [
    "# Chamando função\n",
    "check_dataframe(df)"
   ]
  },
  {
   "cell_type": "markdown",
   "metadata": {},
   "source": [
    "### Aplicando Transformações"
   ]
  },
  {
   "cell_type": "code",
   "execution_count": 14,
   "metadata": {},
   "outputs": [],
   "source": [
    "# Separando dados em teste e treinamento\n",
    "train_set, test_set = train_test_split(df, test_size=.2, random_state=42)"
   ]
  },
  {
   "cell_type": "code",
   "execution_count": 15,
   "metadata": {},
   "outputs": [
    {
     "data": {
      "text/html": [
       "<div>\n",
       "<style scoped>\n",
       "    .dataframe tbody tr th:only-of-type {\n",
       "        vertical-align: middle;\n",
       "    }\n",
       "\n",
       "    .dataframe tbody tr th {\n",
       "        vertical-align: top;\n",
       "    }\n",
       "\n",
       "    .dataframe thead th {\n",
       "        text-align: right;\n",
       "    }\n",
       "</style>\n",
       "<table border=\"1\" class=\"dataframe\">\n",
       "  <thead>\n",
       "    <tr style=\"text-align: right;\">\n",
       "      <th></th>\n",
       "      <th>size</th>\n",
       "      <th>bedrooms</th>\n",
       "      <th>price</th>\n",
       "    </tr>\n",
       "  </thead>\n",
       "  <tbody>\n",
       "    <tr>\n",
       "      <th>8</th>\n",
       "      <td>1380</td>\n",
       "      <td>3</td>\n",
       "      <td>212000</td>\n",
       "    </tr>\n",
       "    <tr>\n",
       "      <th>3</th>\n",
       "      <td>1416</td>\n",
       "      <td>2</td>\n",
       "      <td>232000</td>\n",
       "    </tr>\n",
       "    <tr>\n",
       "      <th>6</th>\n",
       "      <td>1534</td>\n",
       "      <td>3</td>\n",
       "      <td>314900</td>\n",
       "    </tr>\n",
       "    <tr>\n",
       "      <th>40</th>\n",
       "      <td>1664</td>\n",
       "      <td>2</td>\n",
       "      <td>368500</td>\n",
       "    </tr>\n",
       "    <tr>\n",
       "      <th>33</th>\n",
       "      <td>3137</td>\n",
       "      <td>3</td>\n",
       "      <td>579900</td>\n",
       "    </tr>\n",
       "  </tbody>\n",
       "</table>\n",
       "</div>"
      ],
      "text/plain": [
       "    size  bedrooms   price\n",
       "8   1380         3  212000\n",
       "3   1416         2  232000\n",
       "6   1534         3  314900\n",
       "40  1664         2  368500\n",
       "33  3137         3  579900"
      ]
     },
     "execution_count": 15,
     "metadata": {},
     "output_type": "execute_result"
    }
   ],
   "source": [
    "train_set.head()"
   ]
  },
  {
   "cell_type": "code",
   "execution_count": 16,
   "metadata": {},
   "outputs": [
    {
     "data": {
      "text/html": [
       "<div>\n",
       "<style scoped>\n",
       "    .dataframe tbody tr th:only-of-type {\n",
       "        vertical-align: middle;\n",
       "    }\n",
       "\n",
       "    .dataframe tbody tr th {\n",
       "        vertical-align: top;\n",
       "    }\n",
       "\n",
       "    .dataframe thead th {\n",
       "        text-align: right;\n",
       "    }\n",
       "</style>\n",
       "<table border=\"1\" class=\"dataframe\">\n",
       "  <thead>\n",
       "    <tr style=\"text-align: right;\">\n",
       "      <th></th>\n",
       "      <th>size</th>\n",
       "      <th>bedrooms</th>\n",
       "      <th>price</th>\n",
       "    </tr>\n",
       "  </thead>\n",
       "  <tbody>\n",
       "    <tr>\n",
       "      <th>27</th>\n",
       "      <td>2526</td>\n",
       "      <td>3</td>\n",
       "      <td>469000</td>\n",
       "    </tr>\n",
       "    <tr>\n",
       "      <th>39</th>\n",
       "      <td>2162</td>\n",
       "      <td>4</td>\n",
       "      <td>287000</td>\n",
       "    </tr>\n",
       "    <tr>\n",
       "      <th>26</th>\n",
       "      <td>1458</td>\n",
       "      <td>3</td>\n",
       "      <td>464500</td>\n",
       "    </tr>\n",
       "    <tr>\n",
       "      <th>43</th>\n",
       "      <td>1200</td>\n",
       "      <td>3</td>\n",
       "      <td>299000</td>\n",
       "    </tr>\n",
       "    <tr>\n",
       "      <th>24</th>\n",
       "      <td>3890</td>\n",
       "      <td>3</td>\n",
       "      <td>573900</td>\n",
       "    </tr>\n",
       "  </tbody>\n",
       "</table>\n",
       "</div>"
      ],
      "text/plain": [
       "    size  bedrooms   price\n",
       "27  2526         3  469000\n",
       "39  2162         4  287000\n",
       "26  1458         3  464500\n",
       "43  1200         3  299000\n",
       "24  3890         3  573900"
      ]
     },
     "execution_count": 16,
     "metadata": {},
     "output_type": "execute_result"
    }
   ],
   "source": [
    "test_set.head()"
   ]
  },
  {
   "cell_type": "code",
   "execution_count": 21,
   "metadata": {},
   "outputs": [],
   "source": [
    "# Separando dados\n",
    "X_train = train_set.loc[:, ['size', 'bedrooms']]\n",
    "X_test = test_set.loc[:, ['size', 'bedrooms']]\n",
    "\n",
    "y_train = train_set['price']\n",
    "y_test = test_set['price']"
   ]
  },
  {
   "cell_type": "code",
   "execution_count": 28,
   "metadata": {},
   "outputs": [
    {
     "data": {
      "text/plain": [
       "array([[0.145615  , 0.5       ],\n",
       "       [0.1555433 , 0.25      ],\n",
       "       [0.18808605, 0.5       ],\n",
       "       [0.22393822, 0.25      ],\n",
       "       [0.63017099, 0.5       ]])"
      ]
     },
     "execution_count": 28,
     "metadata": {},
     "output_type": "execute_result"
    }
   ],
   "source": [
    "# Min Max Scaller\n",
    "from sklearn.preprocessing import MinMaxScaler\n",
    "\n",
    "scaler = MinMaxScaler()\n",
    "X_train_scaler = scaler.fit_transform(X_train)\n",
    "X_train_scaler[:5]"
   ]
  },
  {
   "cell_type": "code",
   "execution_count": 30,
   "metadata": {},
   "outputs": [
    {
     "data": {
      "text/plain": [
       "array([[-0.77562586, -0.16666667],\n",
       "       [-0.72751943, -1.4       ],\n",
       "       [-0.56983725, -0.16666667],\n",
       "       [-0.3961196 , -1.4       ],\n",
       "       [ 1.57223508, -0.16666667]])"
      ]
     },
     "execution_count": 30,
     "metadata": {},
     "output_type": "execute_result"
    }
   ],
   "source": [
    "# Standarization\n",
    "from sklearn.preprocessing import StandardScaler\n",
    "\n",
    "std_scaler = StandardScaler()\n",
    "X_train_std_scaler = std_scaler.fit_transform(X_train)\n",
    "X_train_std_scaler[:5]"
   ]
  },
  {
   "cell_type": "markdown",
   "metadata": {},
   "source": [
    "### Treinando um modelo\n"
   ]
  },
  {
   "cell_type": "markdown",
   "metadata": {},
   "source": [
    "IMPORTANTE: Programa em Octave previu um valor de \\$293.081,46 para casas com 1650 de size e 3 bedrooms"
   ]
  },
  {
   "cell_type": "code",
   "execution_count": 59,
   "metadata": {},
   "outputs": [],
   "source": [
    "# Salvando em variável para comparação\n",
    "octave_pred = 293081.46"
   ]
  },
  {
   "cell_type": "code",
   "execution_count": 60,
   "metadata": {},
   "outputs": [
    {
     "name": "stdout",
     "output_type": "stream",
     "text": [
      "lin_rmse: 92792.37331148326\n",
      "prediction for 1650 size and 3 bedrooms: [280536.50711115]\n",
      "diff from octave prediction: 12544.952888852858\n"
     ]
    }
   ],
   "source": [
    "# Regressão Linear com Múltiplas Variáveis\n",
    "\n",
    "# Treinamento sem feature scaling\n",
    "lin_reg = LinearRegression()\n",
    "lin_reg.fit(X_train, y_train)\n",
    "\n",
    "y_pred = lin_reg.predict(X_test)\n",
    "\n",
    "# Calculando o erro\n",
    "lin_mse = mean_squared_error(y_test, y_pred)\n",
    "lin_rmse = np.sqrt(lin_mse)\n",
    "print(f'lin_rmse: {lin_rmse}')\n",
    "prediction = lin_reg.predict([[1650, 3]])\n",
    "print(f'prediction for 1650 size and 3 bedrooms: {prediction}')\n",
    "print(f'diff from octave prediction: {octave_pred - prediction[0]}')"
   ]
  },
  {
   "cell_type": "code",
   "execution_count": 78,
   "metadata": {},
   "outputs": [
    {
     "name": "stdout",
     "output_type": "stream",
     "text": [
      "lin_rmse: 93266.45833378336\n",
      "prediction for 1650 size and 3 bedrooms: [193273.24739475]\n",
      "diff from octave prediction: 99808.2126052519\n"
     ]
    }
   ],
   "source": [
    "# Treinamento com MinMaxScaling\n",
    "lin_reg = LinearRegression()\n",
    "lin_reg.fit(X_train_scaler, y_train)\n",
    "\n",
    "scaler = MinMaxScaler()\n",
    "X_test_scaler = scaler.fit_transform(X_test)\n",
    "y_pred = lin_reg.predict(X_test_scaler)\n",
    "\n",
    "# Calculando o erro\n",
    "lin_mse = mean_squared_error(y_test, y_pred)\n",
    "lin_rmse = np.sqrt(lin_mse)\n",
    "print(f'lin_rmse: {lin_rmse}')\n",
    "X_pred_scaler = scaler.fit_transform([[1650, 3]])\n",
    "prediction = lin_reg.predict(X_pred_scaler)\n",
    "print(f'prediction for 1650 size and 3 bedrooms: {prediction}')\n",
    "print(f'diff from octave prediction: {octave_pred - prediction[0]}')"
   ]
  },
  {
   "cell_type": "markdown",
   "metadata": {},
   "source": [
    "Quando o conjunto possui poucos dados, as transformações não surtem efeito."
   ]
  },
  {
   "cell_type": "code",
   "execution_count": 77,
   "metadata": {},
   "outputs": [
    {
     "name": "stdout",
     "output_type": "stream",
     "text": [
      "lin_rmse: 109412.53077611802\n",
      "prediction for 1650 size and 3 bedrooms: [323170.16216216]\n",
      "diff from octave prediction: -30088.702162162168\n"
     ]
    }
   ],
   "source": [
    "# Treinamento com StdScaling\n",
    "lin_reg = LinearRegression()\n",
    "lin_reg.fit(X_train_std_scaler, y_train)\n",
    "\n",
    "std_scaler = StandardScaler()\n",
    "X_test_std_scaler = std_scaler.fit_transform(X_test)\n",
    "y_pred = lin_reg.predict(X_test_std_scaler)\n",
    "\n",
    "# Calculando o erro\n",
    "lin_mse = mean_squared_error(y_test, y_pred)\n",
    "lin_rmse = np.sqrt(lin_mse)\n",
    "print(f'lin_rmse: {lin_rmse}')\n",
    "X_pred_scaler = std_scaler.fit_transform([[1650, 3]])\n",
    "prediction = lin_reg.predict(X_pred_scaler)\n",
    "print(f'prediction for 1650 size and 3 bedrooms: {prediction}')\n",
    "print(f'diff from octave prediction: {octave_pred - prediction[0]}')"
   ]
  },
  {
   "cell_type": "code",
   "execution_count": 79,
   "metadata": {},
   "outputs": [
    {
     "name": "stdout",
     "output_type": "stream",
     "text": [
      "lin_rmse: 63926.2082498693\n",
      "prediction for 1650 size and 3 bedrooms: [293081.4643349]\n",
      "diff from octave prediction: -0.004334896104410291\n"
     ]
    }
   ],
   "source": [
    "# Treinando e testando com o conjunto todo\n",
    "lin_reg = LinearRegression()\n",
    "X = df.loc[:, ['size', 'bedrooms']]\n",
    "y = df.loc[:, 'price']\n",
    "lin_reg.fit(X, y)\n",
    "\n",
    "y_pred = lin_reg.predict(X)\n",
    "\n",
    "# Calculando o erro\n",
    "lin_mse = mean_squared_error(y, y_pred)\n",
    "lin_rmse = np.sqrt(lin_mse)\n",
    "print(f'lin_rmse: {lin_rmse}')\n",
    "prediction = lin_reg.predict([[1650, 3]])\n",
    "print(f'prediction for 1650 size and 3 bedrooms: {prediction}')\n",
    "print(f'diff from octave prediction: {octave_pred - prediction[0]}')"
   ]
  },
  {
   "cell_type": "code",
   "execution_count": 81,
   "metadata": {},
   "outputs": [
    {
     "name": "stdout",
     "output_type": "stream",
     "text": [
      "lin_rmse: 63926.20824986929\n",
      "prediction for 1650 size and 3 bedrooms: [340412.65957447]\n",
      "diff from octave prediction: -47331.199574468075\n"
     ]
    }
   ],
   "source": [
    "# Treinando e testando com o conjunto todo - APLICANDO STD SCALLING\n",
    "lin_reg = LinearRegression()\n",
    "X = df.loc[:, ['size', 'bedrooms']]\n",
    "y = df.loc[:, 'price']\n",
    "\n",
    "std_scaler = StandardScaler()\n",
    "X_scaler = std_scaler.fit_transform(X)\n",
    "\n",
    "lin_reg.fit(X_scaler, y)\n",
    "\n",
    "y_pred = lin_reg.predict(X_scaler)\n",
    "\n",
    "# Calculando o erro\n",
    "lin_mse = mean_squared_error(y, y_pred)\n",
    "lin_rmse = np.sqrt(lin_mse)\n",
    "print(f'lin_rmse: {lin_rmse}')\n",
    "X_pred_scaler = std_scaler.fit_transform([[1650, 3]])\n",
    "prediction = lin_reg.predict(X_pred_scaler)\n",
    "print(f'prediction for 1650 size and 3 bedrooms: {prediction}')\n",
    "print(f'diff from octave prediction: {octave_pred - prediction[0]}')"
   ]
  },
  {
   "cell_type": "code",
   "execution_count": 82,
   "metadata": {},
   "outputs": [
    {
     "name": "stdout",
     "output_type": "stream",
     "text": [
      "lin_rmse: 63926.20824986929\n",
      "prediction for 1650 size and 3 bedrooms: [199467.38469349]\n",
      "diff from octave prediction: 93614.07530651346\n"
     ]
    }
   ],
   "source": [
    "# Treinando e testando com o conjunto todo - APLICANDO MINMAX SCALLING\n",
    "lin_reg = LinearRegression()\n",
    "X = df.loc[:, ['size', 'bedrooms']]\n",
    "y = df.loc[:, 'price']\n",
    "\n",
    "scaler = MinMaxScaler()\n",
    "X_scaler = scaler.fit_transform(X)\n",
    "\n",
    "lin_reg.fit(X_scaler, y)\n",
    "\n",
    "y_pred = lin_reg.predict(X_scaler)\n",
    "\n",
    "# Calculando o erro\n",
    "lin_mse = mean_squared_error(y, y_pred)\n",
    "lin_rmse = np.sqrt(lin_mse)\n",
    "print(f'lin_rmse: {lin_rmse}')\n",
    "X_pred_scaler = scaler.fit_transform([[1650, 3]])\n",
    "prediction = lin_reg.predict(X_pred_scaler)\n",
    "print(f'prediction for 1650 size and 3 bedrooms: {prediction}')\n",
    "print(f'diff from octave prediction: {octave_pred - prediction[0]}')"
   ]
  },
  {
   "cell_type": "markdown",
   "metadata": {},
   "source": [
    "O melhor resultado é aquele dado sem as transformações propostas pelo Sickit Learn."
   ]
  },
  {
   "cell_type": "markdown",
   "metadata": {},
   "source": [
    "Analisar coeficientes."
   ]
  },
  {
   "cell_type": "code",
   "execution_count": null,
   "metadata": {},
   "outputs": [],
   "source": []
  }
 ],
 "metadata": {
  "kernelspec": {
   "display_name": "Python 3",
   "language": "python",
   "name": "python3"
  },
  "language_info": {
   "codemirror_mode": {
    "name": "ipython",
    "version": 3
   },
   "file_extension": ".py",
   "mimetype": "text/x-python",
   "name": "python",
   "nbconvert_exporter": "python",
   "pygments_lexer": "ipython3",
   "version": "3.6.4"
  },
  "toc": {
   "base_numbering": 1,
   "nav_menu": {},
   "number_sections": true,
   "sideBar": true,
   "skip_h1_title": false,
   "title_cell": "Table of Contents",
   "title_sidebar": "Contents",
   "toc_cell": true,
   "toc_position": {},
   "toc_section_display": true,
   "toc_window_display": true
  }
 },
 "nbformat": 4,
 "nbformat_minor": 2
}
