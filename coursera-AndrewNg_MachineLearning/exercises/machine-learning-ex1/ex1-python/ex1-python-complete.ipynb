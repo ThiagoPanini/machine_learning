{
 "cells": [
  {
   "cell_type": "markdown",
   "metadata": {
    "toc": true
   },
   "source": [
    "<h1>Table of Contents<span class=\"tocSkip\"></span></h1>\n",
    "<div class=\"toc\"><ul class=\"toc-item\"><li><span><a href=\"#Regressão-Linear-Univariável\" data-toc-modified-id=\"Regressão-Linear-Univariável-1\"><span class=\"toc-item-num\">1&nbsp;&nbsp;</span>Regressão Linear Univariável</a></span><ul class=\"toc-item\"><li><span><a href=\"#Entendimento-do-Problema\" data-toc-modified-id=\"Entendimento-do-Problema-1.1\"><span class=\"toc-item-num\">1.1&nbsp;&nbsp;</span>Entendimento do Problema</a></span></li><li><span><a href=\"#Lendo-e-Explorando-Dataset\" data-toc-modified-id=\"Lendo-e-Explorando-Dataset-1.2\"><span class=\"toc-item-num\">1.2&nbsp;&nbsp;</span>Lendo e Explorando Dataset</a></span></li><li><span><a href=\"#Visualizando-os-Dados\" data-toc-modified-id=\"Visualizando-os-Dados-1.3\"><span class=\"toc-item-num\">1.3&nbsp;&nbsp;</span>Visualizando os Dados</a></span></li><li><span><a href=\"#Implementando-Algoritmo\" data-toc-modified-id=\"Implementando-Algoritmo-1.4\"><span class=\"toc-item-num\">1.4&nbsp;&nbsp;</span>Implementando Algoritmo</a></span><ul class=\"toc-item\"><li><span><a href=\"#Hypothesis\" data-toc-modified-id=\"Hypothesis-1.4.1\"><span class=\"toc-item-num\">1.4.1&nbsp;&nbsp;</span>Hypothesis</a></span></li><li><span><a href=\"#Função-Custo\" data-toc-modified-id=\"Função-Custo-1.4.2\"><span class=\"toc-item-num\">1.4.2&nbsp;&nbsp;</span>Função Custo</a></span></li><li><span><a href=\"#Gradiente-Descendente\" data-toc-modified-id=\"Gradiente-Descendente-1.4.3\"><span class=\"toc-item-num\">1.4.3&nbsp;&nbsp;</span>Gradiente Descendente</a></span></li></ul></li></ul></li><li><span><a href=\"#Regressão-Linear-Multivariável\" data-toc-modified-id=\"Regressão-Linear-Multivariável-2\"><span class=\"toc-item-num\">2&nbsp;&nbsp;</span>Regressão Linear Multivariável</a></span><ul class=\"toc-item\"><li><span><a href=\"#Entendendo-o-Problema\" data-toc-modified-id=\"Entendendo-o-Problema-2.1\"><span class=\"toc-item-num\">2.1&nbsp;&nbsp;</span>Entendendo o Problema</a></span></li><li><span><a href=\"#Lendo-e-Explorando-Dataset\" data-toc-modified-id=\"Lendo-e-Explorando-Dataset-2.2\"><span class=\"toc-item-num\">2.2&nbsp;&nbsp;</span>Lendo e Explorando Dataset</a></span></li><li><span><a href=\"#Normalização-dos-Dados\" data-toc-modified-id=\"Normalização-dos-Dados-2.3\"><span class=\"toc-item-num\">2.3&nbsp;&nbsp;</span>Normalização dos Dados</a></span></li><li><span><a href=\"#Implementando-Algoritmo\" data-toc-modified-id=\"Implementando-Algoritmo-2.4\"><span class=\"toc-item-num\">2.4&nbsp;&nbsp;</span>Implementando Algoritmo</a></span><ul class=\"toc-item\"><li><span><a href=\"#Hypothesis\" data-toc-modified-id=\"Hypothesis-2.4.1\"><span class=\"toc-item-num\">2.4.1&nbsp;&nbsp;</span>Hypothesis</a></span></li><li><span><a href=\"#Função-Custo\" data-toc-modified-id=\"Função-Custo-2.4.2\"><span class=\"toc-item-num\">2.4.2&nbsp;&nbsp;</span>Função Custo</a></span></li><li><span><a href=\"#Gradiente-Descendente\" data-toc-modified-id=\"Gradiente-Descendente-2.4.3\"><span class=\"toc-item-num\">2.4.3&nbsp;&nbsp;</span>Gradiente Descendente</a></span></li><li><span><a href=\"#Learning-Rate\" data-toc-modified-id=\"Learning-Rate-2.4.4\"><span class=\"toc-item-num\">2.4.4&nbsp;&nbsp;</span>Learning Rate</a></span></li><li><span><a href=\"#Predizendo-Dados\" data-toc-modified-id=\"Predizendo-Dados-2.4.5\"><span class=\"toc-item-num\">2.4.5&nbsp;&nbsp;</span>Predizendo Dados</a></span></li></ul></li></ul></li><li><span><a href=\"#Scikit-Learn\" data-toc-modified-id=\"Scikit-Learn-3\"><span class=\"toc-item-num\">3&nbsp;&nbsp;</span>Scikit Learn</a></span><ul class=\"toc-item\"><li><span><a href=\"#Treinando-um-Modelo\" data-toc-modified-id=\"Treinando-um-Modelo-3.1\"><span class=\"toc-item-num\">3.1&nbsp;&nbsp;</span>Treinando um Modelo</a></span></li><li><span><a href=\"#Normalizando\" data-toc-modified-id=\"Normalizando-3.2\"><span class=\"toc-item-num\">3.2&nbsp;&nbsp;</span>Normalizando</a></span></li></ul></li><li><span><a href=\"#Conclusão\" data-toc-modified-id=\"Conclusão-4\"><span class=\"toc-item-num\">4&nbsp;&nbsp;</span>Conclusão</a></span></li></ul></div>"
   ]
  },
  {
   "cell_type": "markdown",
   "metadata": {},
   "source": [
    "Notebook criado para implementação do ```exercício 1``` do curso de Aprendizagem Automática da Universidade de Stanford. \n",
    "\n",
    "Em uma primeira etapa, tema proposto envolve a aplicação de um problema de Regressão Linear de uma variável para previsão de lucro de um estabelecimento levando em consideração a população do munícipio onde o mesmo se encontra.\n",
    "\n",
    "Posteriormente, é proposto um problema de Regressão Linear com múltiplas variáveis para previsão de preços de casas.\n",
    "\n",
    "    - Em ambos, a filosofia adotada será:\n",
    "        - Desenvolvimenteo da solução através de Álgebra Linear (arrays do NumPy)\n",
    "        - Desenvolvimento da solução através dos pacotes do scikit-learn"
   ]
  },
  {
   "cell_type": "markdown",
   "metadata": {},
   "source": [
    "## Regressão Linear Univariável"
   ]
  },
  {
   "cell_type": "markdown",
   "metadata": {},
   "source": [
    "### Entendimento do Problema"
   ]
  },
  {
   "cell_type": "markdown",
   "metadata": {},
   "source": [
    "No arquivo pdf disponibilizado na sessão de downloads do curso, o problema é descrito da seguinte maneira:\n",
    "\n",
    "Nesta parte do exercício, você implementará Regressão Linear com uma variável para predizer o ```lucro``` de um estabelecimento Food Truck. Suponha que você seja o CEO de uma franquia de restaurantes e está considerando diferentes cidades para a abertura de um novo estabelecimento. A franquia já possui restaurantes em diversas cidades e você tem em mãos os dados que relacionam o lucro e a ```população``` dessas cidades.\n",
    "\n",
    "Sua ideia é utilizar estes dados para escolher a melhor cidade para expansão do negócio. O arquivo ```ex1data1.txt``` contém o dataset para implementação da Regressão Linear. A primeira coluna refere-se a população da cidade, sendo a segunda coluna responsável por mostrar o lucro do Food Truck naquela cidade. Um valor negativo de lucro indica, na verdade, perda."
   ]
  },
  {
   "cell_type": "markdown",
   "metadata": {},
   "source": [
    "### Lendo e Explorando Dataset"
   ]
  },
  {
   "cell_type": "markdown",
   "metadata": {
    "ExecuteTime": {
     "end_time": "2019-04-03T19:49:51.566162Z",
     "start_time": "2019-04-03T19:49:51.518287Z"
    }
   },
   "source": [
    "Para ler o arquivo, vamos utilizar algumas funcionalidades do ```NumPy```"
   ]
  },
  {
   "cell_type": "code",
   "execution_count": 1,
   "metadata": {
    "ExecuteTime": {
     "end_time": "2019-09-19T23:07:29.542256Z",
     "start_time": "2019-09-19T23:07:29.357497Z"
    }
   },
   "outputs": [],
   "source": [
    "# Importando biblioteca e lendo arquivo\n",
    "import numpy as np\n",
    "\n",
    "dataset = np.loadtxt('ex1data1.txt', delimiter=',')"
   ]
  },
  {
   "cell_type": "markdown",
   "metadata": {},
   "source": [
    "Fonte: [numpy.loadtxt](https://docs.scipy.org/doc/numpy-1.15.0/reference/generated/numpy.loadtxt.html)"
   ]
  },
  {
   "cell_type": "code",
   "execution_count": 2,
   "metadata": {
    "ExecuteTime": {
     "end_time": "2019-09-19T23:07:29.571041Z",
     "start_time": "2019-09-19T23:07:29.545922Z"
    }
   },
   "outputs": [
    {
     "data": {
      "text/plain": [
       "array([[ 6.1101, 17.592 ],\n",
       "       [ 5.5277,  9.1302],\n",
       "       [ 8.5186, 13.662 ],\n",
       "       [ 7.0032, 11.854 ],\n",
       "       [ 5.8598,  6.8233]])"
      ]
     },
     "execution_count": 2,
     "metadata": {},
     "output_type": "execute_result"
    }
   ],
   "source": [
    "# Verificando primeiras linhas\n",
    "dataset[:5]"
   ]
  },
  {
   "cell_type": "code",
   "execution_count": 3,
   "metadata": {
    "ExecuteTime": {
     "end_time": "2019-09-19T23:07:29.583675Z",
     "start_time": "2019-09-19T23:07:29.576186Z"
    }
   },
   "outputs": [
    {
     "data": {
      "text/plain": [
       "dtype('float64')"
      ]
     },
     "execution_count": 3,
     "metadata": {},
     "output_type": "execute_result"
    }
   ],
   "source": [
    "# Tipo primitivo\n",
    "dataset.dtype"
   ]
  },
  {
   "cell_type": "code",
   "execution_count": 4,
   "metadata": {
    "ExecuteTime": {
     "end_time": "2019-09-19T23:07:29.596275Z",
     "start_time": "2019-09-19T23:07:29.587054Z"
    }
   },
   "outputs": [
    {
     "data": {
      "text/plain": [
       "(97, 2)"
      ]
     },
     "execution_count": 4,
     "metadata": {},
     "output_type": "execute_result"
    }
   ],
   "source": [
    "# Dimensões do dataset\n",
    "dataset.shape"
   ]
  },
  {
   "cell_type": "code",
   "execution_count": 5,
   "metadata": {
    "ExecuteTime": {
     "end_time": "2019-09-19T23:07:29.611235Z",
     "start_time": "2019-09-19T23:07:29.598964Z"
    }
   },
   "outputs": [
    {
     "name": "stdout",
     "output_type": "stream",
     "text": [
      "O dataset possui 97 linhas e 2 colunas.\n"
     ]
    }
   ],
   "source": [
    "# Comunicando\n",
    "print(f'O dataset possui {dataset.shape[0]} linhas e {dataset.shape[1]} colunas.')"
   ]
  },
  {
   "cell_type": "code",
   "execution_count": 6,
   "metadata": {
    "ExecuteTime": {
     "end_time": "2019-09-19T23:07:29.619383Z",
     "start_time": "2019-09-19T23:07:29.614792Z"
    }
   },
   "outputs": [],
   "source": [
    "# Separando dataset\n",
    "population = dataset[:, 0]\n",
    "profit = dataset[:, 1]"
   ]
  },
  {
   "cell_type": "code",
   "execution_count": 7,
   "metadata": {
    "ExecuteTime": {
     "end_time": "2019-09-19T23:07:29.635606Z",
     "start_time": "2019-09-19T23:07:29.623557Z"
    }
   },
   "outputs": [
    {
     "name": "stdout",
     "output_type": "stream",
     "text": [
      "População: [6.1101 5.5277 8.5186 7.0032 5.8598]\n",
      "Lucro: [17.592   9.1302 13.662  11.854   6.8233]\n",
      "\n",
      "Original: \n",
      "[[ 6.1101 17.592 ]\n",
      " [ 5.5277  9.1302]\n",
      " [ 8.5186 13.662 ]\n",
      " [ 7.0032 11.854 ]\n",
      " [ 5.8598  6.8233]]\n"
     ]
    }
   ],
   "source": [
    "# Verificando\n",
    "print(f'População: {population[:5]}')\n",
    "print(f'Lucro: {profit[:5]}')\n",
    "print(f'\\nOriginal: \\n{dataset[:5]}')"
   ]
  },
  {
   "cell_type": "markdown",
   "metadata": {},
   "source": [
    "### Visualizando os Dados"
   ]
  },
  {
   "cell_type": "markdown",
   "metadata": {},
   "source": [
    "Para esta importante funcionalidade, vamos utilizar a biblioteca ```matplotlib``` para relacionar os dados já explorados previamente."
   ]
  },
  {
   "cell_type": "code",
   "execution_count": 8,
   "metadata": {
    "ExecuteTime": {
     "end_time": "2019-09-19T23:07:36.506669Z",
     "start_time": "2019-09-19T23:07:29.637579Z"
    }
   },
   "outputs": [],
   "source": [
    "# Importando biblioteca\n",
    "import matplotlib.pyplot as plt\n",
    "%matplotlib inline"
   ]
  },
  {
   "cell_type": "code",
   "execution_count": 9,
   "metadata": {
    "ExecuteTime": {
     "end_time": "2019-09-19T23:07:36.521825Z",
     "start_time": "2019-09-19T23:07:36.507667Z"
    }
   },
   "outputs": [
    {
     "name": "stdout",
     "output_type": "stream",
     "text": [
      "Help on function scatter in module matplotlib.pyplot:\n",
      "\n",
      "scatter(x, y, s=None, c=None, marker=None, cmap=None, norm=None, vmin=None, vmax=None, alpha=None, linewidths=None, verts=None, edgecolors=None, *, data=None, **kwargs)\n",
      "    A scatter plot of *y* vs *x* with varying marker size and/or color.\n",
      "    \n",
      "    Parameters\n",
      "    ----------\n",
      "    x, y : array_like, shape (n, )\n",
      "        The data positions.\n",
      "    \n",
      "    s : scalar or array_like, shape (n, ), optional\n",
      "        The marker size in points**2.\n",
      "        Default is ``rcParams['lines.markersize'] ** 2``.\n",
      "    \n",
      "    c : color, sequence, or sequence of color, optional\n",
      "        The marker color. Possible values:\n",
      "    \n",
      "        - A single color format string.\n",
      "        - A sequence of color specifications of length n.\n",
      "        - A sequence of n numbers to be mapped to colors using *cmap* and\n",
      "          *norm*.\n",
      "        - A 2-D array in which the rows are RGB or RGBA.\n",
      "    \n",
      "        Note that *c* should not be a single numeric RGB or RGBA sequence\n",
      "        because that is indistinguishable from an array of values to be\n",
      "        colormapped. If you want to specify the same RGB or RGBA value for\n",
      "        all points, use a 2-D array with a single row.  Otherwise, value-\n",
      "        matching will have precedence in case of a size matching with *x*\n",
      "        and *y*.\n",
      "    \n",
      "        Defaults to ``None``. In that case the marker color is determined\n",
      "        by the value of ``color``, ``facecolor`` or ``facecolors``. In case\n",
      "        those are not specified or ``None``, the marker color is determined\n",
      "        by the next color of the ``Axes``' current \"shape and fill\" color\n",
      "        cycle. This cycle defaults to :rc:`axes.prop_cycle`.\n",
      "    \n",
      "    marker : `~matplotlib.markers.MarkerStyle`, optional\n",
      "        The marker style. *marker* can be either an instance of the class\n",
      "        or the text shorthand for a particular marker.\n",
      "        Defaults to ``None``, in which case it takes the value of\n",
      "        :rc:`scatter.marker` = 'o'.\n",
      "        See `~matplotlib.markers` for more information about marker styles.\n",
      "    \n",
      "    cmap : `~matplotlib.colors.Colormap`, optional, default: None\n",
      "        A `.Colormap` instance or registered colormap name. *cmap* is only\n",
      "        used if *c* is an array of floats. If ``None``, defaults to rc\n",
      "        ``image.cmap``.\n",
      "    \n",
      "    norm : `~matplotlib.colors.Normalize`, optional, default: None\n",
      "        A `.Normalize` instance is used to scale luminance data to 0, 1.\n",
      "        *norm* is only used if *c* is an array of floats. If *None*, use\n",
      "        the default `.colors.Normalize`.\n",
      "    \n",
      "    vmin, vmax : scalar, optional, default: None\n",
      "        *vmin* and *vmax* are used in conjunction with *norm* to normalize\n",
      "        luminance data. If None, the respective min and max of the color\n",
      "        array is used. *vmin* and *vmax* are ignored if you pass a *norm*\n",
      "        instance.\n",
      "    \n",
      "    alpha : scalar, optional, default: None\n",
      "        The alpha blending value, between 0 (transparent) and 1 (opaque).\n",
      "    \n",
      "    linewidths : scalar or array_like, optional, default: None\n",
      "        The linewidth of the marker edges. Note: The default *edgecolors*\n",
      "        is 'face'. You may want to change this as well.\n",
      "        If *None*, defaults to rcParams ``lines.linewidth``.\n",
      "    \n",
      "    edgecolors : color or sequence of color, optional, default: 'face'\n",
      "        The edge color of the marker. Possible values:\n",
      "    \n",
      "        - 'face': The edge color will always be the same as the face color.\n",
      "        - 'none': No patch boundary will be drawn.\n",
      "        - A matplotib color.\n",
      "    \n",
      "        For non-filled markers, the *edgecolors* kwarg is ignored and\n",
      "        forced to 'face' internally.\n",
      "    \n",
      "    Returns\n",
      "    -------\n",
      "    paths : `~matplotlib.collections.PathCollection`\n",
      "    \n",
      "    Other Parameters\n",
      "    ----------------\n",
      "    **kwargs : `~matplotlib.collections.Collection` properties\n",
      "    \n",
      "    See Also\n",
      "    --------\n",
      "    plot : To plot scatter plots when markers are identical in size and\n",
      "        color.\n",
      "    \n",
      "    Notes\n",
      "    -----\n",
      "    \n",
      "    * The `.plot` function will be faster for scatterplots where markers\n",
      "      don't vary in size or color.\n",
      "    \n",
      "    * Any or all of *x*, *y*, *s*, and *c* may be masked arrays, in which\n",
      "      case all masks will be combined and only unmasked points will be\n",
      "      plotted.\n",
      "    \n",
      "    * Fundamentally, scatter works with 1-D arrays; *x*, *y*, *s*, and *c*\n",
      "      may be input as 2-D arrays, but within scatter they will be\n",
      "      flattened. The exception is *c*, which will be flattened only if its\n",
      "      size matches the size of *x* and *y*.\n",
      "    \n",
      "    .. note::\n",
      "        In addition to the above described arguments, this function can take a\n",
      "        **data** keyword argument. If such a **data** argument is given, the\n",
      "        following arguments are replaced by **data[<arg>]**:\n",
      "    \n",
      "        * All arguments with the following names: 'c', 'color', 'edgecolors', 'facecolor', 'facecolors', 'linewidths', 's', 'x', 'y'.\n",
      "    \n",
      "        Objects passed as **data** must support item access (``data[<arg>]``) and\n",
      "        membership test (``<arg> in data``).\n",
      "\n"
     ]
    }
   ],
   "source": [
    "# Ajuda sobre plot de dispersão\n",
    "help(plt.scatter)"
   ]
  },
  {
   "cell_type": "code",
   "execution_count": 10,
   "metadata": {
    "ExecuteTime": {
     "end_time": "2019-09-19T23:07:36.935656Z",
     "start_time": "2019-09-19T23:07:36.525620Z"
    }
   },
   "outputs": [
    {
     "data": {
      "text/plain": [
       "<matplotlib.collections.PathCollection at 0x24694988198>"
      ]
     },
     "execution_count": 10,
     "metadata": {},
     "output_type": "execute_result"
    },
    {
     "data": {
      "image/png": "[encoded data removed]",
      "text/plain": [
       "<Figure size 432x288 with 1 Axes>"
      ]
     },
     "metadata": {
      "needs_background": "light"
     },
     "output_type": "display_data"
    }
   ],
   "source": [
    "# Plotando gráfico de dispersão\n",
    "plt.scatter(population, profit)"
   ]
  },
  {
   "cell_type": "code",
   "execution_count": 11,
   "metadata": {
    "ExecuteTime": {
     "end_time": "2019-09-19T23:07:37.278121Z",
     "start_time": "2019-09-19T23:07:36.937881Z"
    }
   },
   "outputs": [
    {
     "data": {
      "image/png": "[encoded data removed]",
      "text/plain": [
       "<Figure size 648x432 with 1 Axes>"
      ]
     },
     "metadata": {
      "needs_background": "light"
     },
     "output_type": "display_data"
    }
   ],
   "source": [
    "# Aprimorando plot\n",
    "fig = plt.figure(figsize=(9, 6))\n",
    "plt.scatter(population, profit, c='r', marker='x')\n",
    "plt.title('Lucro Food Truck x População da Cidade', size=16)\n",
    "plt.xlabel('População (10.000 hab)', size=13, labelpad=12)\n",
    "plt.ylabel('Lucro ($10.000)', size=13, labelpad=12)\n",
    "plt.show()"
   ]
  },
  {
   "cell_type": "markdown",
   "metadata": {},
   "source": [
    "### Implementando Algoritmo"
   ]
  },
  {
   "cell_type": "markdown",
   "metadata": {},
   "source": [
    "Após visualizar e entender os dados, vamos implementar o modelo de Regressão Linear"
   ]
  },
  {
   "cell_type": "markdown",
   "metadata": {},
   "source": [
    "#### Hypothesis"
   ]
  },
  {
   "cell_type": "markdown",
   "metadata": {},
   "source": [
    "A literatura diz que a definição da função hypothesis para um modelo de Regressão Linear é dada por:"
   ]
  },
  {
   "cell_type": "markdown",
   "metadata": {},
   "source": [
    "\\begin{equation*}\n",
    "h_\\theta(x) = \\theta^Tx=\\theta_0 + \\theta_1x_1\n",
    "\\end{equation*}"
   ]
  },
  {
   "cell_type": "markdown",
   "metadata": {},
   "source": [
    "Lembrando também que a Função Custo e a implementação do Gradiente Descendente são dadas por:"
   ]
  },
  {
   "cell_type": "markdown",
   "metadata": {},
   "source": [
    "\\begin{equation*}\n",
    "J(\\theta)=\\frac{1}{2m}\\sum_{i=1}^m(h_\\theta(x^{(i)})-y^{(i)})^2\n",
    "\\end{equation*}"
   ]
  },
  {
   "cell_type": "markdown",
   "metadata": {},
   "source": [
    "\\begin{equation*}\n",
    "    \\theta_j:= \\theta_j-\\alpha\\frac{\\partial}{\\partial \\theta_j}J(\\theta) \n",
    "             = \\theta_j-\\alpha\\frac{1}{m}\\sum_{i=1}^m(h_\\theta(x^{(i)})-y^{(i)})x_j^{(i)}\n",
    "\\end{equation*}"
   ]
  },
  {
   "cell_type": "markdown",
   "metadata": {},
   "source": [
    "Para considerar o termo enviesado da feature ```X```, vamos adicionar uma coluna de 1s no array de população."
   ]
  },
  {
   "cell_type": "code",
   "execution_count": 12,
   "metadata": {
    "ExecuteTime": {
     "end_time": "2019-09-19T23:07:37.290253Z",
     "start_time": "2019-09-19T23:07:37.280401Z"
    }
   },
   "outputs": [
    {
     "data": {
      "text/plain": [
       "array([[1.    , 6.1101],\n",
       "       [1.    , 5.5277],\n",
       "       [1.    , 8.5186],\n",
       "       [1.    , 7.0032],\n",
       "       [1.    , 5.8598]])"
      ]
     },
     "execution_count": 12,
     "metadata": {},
     "output_type": "execute_result"
    }
   ],
   "source": [
    "# Adicionando bias\n",
    "bias = np.ones(population.shape[0])\n",
    "X = np.column_stack((bias, population))\n",
    "# X = np.c_[np.ones((m, 1)), X]\n",
    "\n",
    "# Nomenclatura y\n",
    "y = profit[:]\n",
    "\n",
    "# Verificando\n",
    "X[:5]"
   ]
  },
  {
   "cell_type": "markdown",
   "metadata": {
    "ExecuteTime": {
     "end_time": "2019-04-03T20:48:57.841887Z",
     "start_time": "2019-04-03T20:48:57.835906Z"
    }
   },
   "source": [
    "Fontes:\n",
    "\n",
    "[np.ones](https://docs.scipy.org/doc/numpy/reference/generated/numpy.ones.html)\n",
    "\n",
    "[stackOverflow-np.column_stack()](https://stackoverflow.com/questions/21852892/use-numpy-to-join-two-columns)"
   ]
  },
  {
   "cell_type": "markdown",
   "metadata": {},
   "source": [
    "Ainda não temos os parâmetros ```theta``` para calcular nossa fução hypothesis e, portanto, vamos considerar um ```theta_inicial``` como sendo:\n",
    "    - theta_0 = 0\n",
    "    - theta_1 = 1\n",
    "    \n",
    "A partir disso, podemos calcular a Função Custo e o Gradiente visando encontrar os melhores parâmetros."
   ]
  },
  {
   "cell_type": "code",
   "execution_count": 13,
   "metadata": {
    "ExecuteTime": {
     "end_time": "2019-09-19T23:07:37.301618Z",
     "start_time": "2019-09-19T23:07:37.293203Z"
    }
   },
   "outputs": [
    {
     "data": {
      "text/plain": [
       "array([[0.],\n",
       "       [0.]])"
      ]
     },
     "execution_count": 13,
     "metadata": {},
     "output_type": "execute_result"
    }
   ],
   "source": [
    "# Inicializando parâmetros\n",
    "theta_inicial = np.zeros((2, 1))\n",
    "theta_inicial"
   ]
  },
  {
   "cell_type": "markdown",
   "metadata": {},
   "source": [
    "Fonte: [np.zeros()](https://docs.scipy.org/doc/numpy/reference/generated/numpy.zeros.html)"
   ]
  },
  {
   "cell_type": "code",
   "execution_count": 14,
   "metadata": {
    "ExecuteTime": {
     "end_time": "2019-09-19T23:07:37.313051Z",
     "start_time": "2019-09-19T23:07:37.305210Z"
    }
   },
   "outputs": [
    {
     "name": "stdout",
     "output_type": "stream",
     "text": [
      "Dimensões theta_inicial: (2, 1)\n",
      "Dimensões X: (97, 2)\n"
     ]
    }
   ],
   "source": [
    "# Verificando dimensões\n",
    "print(f'Dimensões theta_inicial: {theta_inicial.shape}')\n",
    "print(f'Dimensões X: {X.shape}')"
   ]
  },
  {
   "cell_type": "markdown",
   "metadata": {
    "ExecuteTime": {
     "end_time": "2019-04-03T21:00:13.651538Z",
     "start_time": "2019-04-03T21:00:13.646520Z"
    }
   },
   "source": [
    "Antes de calcular a função hypothesis, é preciso aplicar uma transposição na matriz de parâmetros. \n",
    "\n",
    "Fonte: [np.transpose()](https://docs.scipy.org/doc/numpy/reference/generated/numpy.transpose.html), [np.ndarray.T](https://docs.scipy.org/doc/numpy/reference/generated/numpy.ndarray.T.html#numpy.ndarray.T)"
   ]
  },
  {
   "cell_type": "code",
   "execution_count": 15,
   "metadata": {
    "ExecuteTime": {
     "end_time": "2019-09-19T23:07:37.327119Z",
     "start_time": "2019-09-19T23:07:37.316776Z"
    }
   },
   "outputs": [
    {
     "data": {
      "text/plain": [
       "array([[0.],\n",
       "       [0.],\n",
       "       [0.],\n",
       "       [0.],\n",
       "       [0.],\n",
       "       [0.],\n",
       "       [0.],\n",
       "       [0.],\n",
       "       [0.],\n",
       "       [0.],\n",
       "       [0.],\n",
       "       [0.],\n",
       "       [0.],\n",
       "       [0.],\n",
       "       [0.],\n",
       "       [0.],\n",
       "       [0.],\n",
       "       [0.],\n",
       "       [0.],\n",
       "       [0.],\n",
       "       [0.],\n",
       "       [0.],\n",
       "       [0.],\n",
       "       [0.],\n",
       "       [0.],\n",
       "       [0.],\n",
       "       [0.],\n",
       "       [0.],\n",
       "       [0.],\n",
       "       [0.],\n",
       "       [0.],\n",
       "       [0.],\n",
       "       [0.],\n",
       "       [0.],\n",
       "       [0.],\n",
       "       [0.],\n",
       "       [0.],\n",
       "       [0.],\n",
       "       [0.],\n",
       "       [0.],\n",
       "       [0.],\n",
       "       [0.],\n",
       "       [0.],\n",
       "       [0.],\n",
       "       [0.],\n",
       "       [0.],\n",
       "       [0.],\n",
       "       [0.],\n",
       "       [0.],\n",
       "       [0.],\n",
       "       [0.],\n",
       "       [0.],\n",
       "       [0.],\n",
       "       [0.],\n",
       "       [0.],\n",
       "       [0.],\n",
       "       [0.],\n",
       "       [0.],\n",
       "       [0.],\n",
       "       [0.],\n",
       "       [0.],\n",
       "       [0.],\n",
       "       [0.],\n",
       "       [0.],\n",
       "       [0.],\n",
       "       [0.],\n",
       "       [0.],\n",
       "       [0.],\n",
       "       [0.],\n",
       "       [0.],\n",
       "       [0.],\n",
       "       [0.],\n",
       "       [0.],\n",
       "       [0.],\n",
       "       [0.],\n",
       "       [0.],\n",
       "       [0.],\n",
       "       [0.],\n",
       "       [0.],\n",
       "       [0.],\n",
       "       [0.],\n",
       "       [0.],\n",
       "       [0.],\n",
       "       [0.],\n",
       "       [0.],\n",
       "       [0.],\n",
       "       [0.],\n",
       "       [0.],\n",
       "       [0.],\n",
       "       [0.],\n",
       "       [0.],\n",
       "       [0.],\n",
       "       [0.],\n",
       "       [0.],\n",
       "       [0.],\n",
       "       [0.],\n",
       "       [0.]])"
      ]
     },
     "execution_count": 15,
     "metadata": {},
     "output_type": "execute_result"
    }
   ],
   "source": [
    "# Calculando hypothesis\n",
    "h = X.dot(theta_inicial)\n",
    "h"
   ]
  },
  {
   "cell_type": "markdown",
   "metadata": {},
   "source": [
    "Fonte: [np.ndarray.dot(matrix)](https://docs.scipy.org/doc/numpy/reference/generated/numpy.ndarray.dot.html)"
   ]
  },
  {
   "cell_type": "markdown",
   "metadata": {},
   "source": [
    "Exatamente o que se esperava: um vetor de predições repleto por zeros. Isto pois iniciamos nossos parâmetros com (0, 0). Vamos calcular o custo."
   ]
  },
  {
   "cell_type": "code",
   "execution_count": 16,
   "metadata": {
    "ExecuteTime": {
     "end_time": "2019-09-19T23:07:37.335052Z",
     "start_time": "2019-09-19T23:07:37.330111Z"
    }
   },
   "outputs": [],
   "source": [
    "# Implementando função\n",
    "def hypothesis(X, theta):\n",
    "    \"\"\"\n",
    "    Função responsável por calcular o vetor h em um problema de Regressão Linear\n",
    "    INPUT:\n",
    "        X: matriz contendo features do dataset\n",
    "        theta: matriz de parâmetros\n",
    "    OUTPUT:\n",
    "        h: matriz de hypothesis contendo predições do modelo\n",
    "    \"\"\"\n",
    "    return X.dot(theta)"
   ]
  },
  {
   "cell_type": "markdown",
   "metadata": {},
   "source": [
    "#### Função Custo"
   ]
  },
  {
   "cell_type": "markdown",
   "metadata": {},
   "source": [
    "\\begin{equation*}\n",
    "J(\\theta)=\\frac{1}{2m}\\sum_{i=1}^m(h_\\theta(x^{(i)})-y^{(i)})^2\n",
    "\\end{equation*}"
   ]
  },
  {
   "cell_type": "code",
   "execution_count": 17,
   "metadata": {
    "ExecuteTime": {
     "end_time": "2019-09-19T23:07:37.351336Z",
     "start_time": "2019-09-19T23:07:37.337817Z"
    }
   },
   "outputs": [
    {
     "data": {
      "text/plain": [
       "array([[-17.592  ,  -9.1302 , -13.662  , ...,  -0.14454,  -9.0551 ,\n",
       "         -0.61705],\n",
       "       [-17.592  ,  -9.1302 , -13.662  , ...,  -0.14454,  -9.0551 ,\n",
       "         -0.61705],\n",
       "       [-17.592  ,  -9.1302 , -13.662  , ...,  -0.14454,  -9.0551 ,\n",
       "         -0.61705],\n",
       "       ...,\n",
       "       [-17.592  ,  -9.1302 , -13.662  , ...,  -0.14454,  -9.0551 ,\n",
       "         -0.61705],\n",
       "       [-17.592  ,  -9.1302 , -13.662  , ...,  -0.14454,  -9.0551 ,\n",
       "         -0.61705],\n",
       "       [-17.592  ,  -9.1302 , -13.662  , ...,  -0.14454,  -9.0551 ,\n",
       "         -0.61705]])"
      ]
     },
     "execution_count": 17,
     "metadata": {},
     "output_type": "execute_result"
    }
   ],
   "source": [
    "# Calculando custo\n",
    "m = X.shape[0]\n",
    "\n",
    "# Testando predições - label\n",
    "h - y"
   ]
  },
  {
   "cell_type": "code",
   "execution_count": 18,
   "metadata": {
    "ExecuteTime": {
     "end_time": "2019-09-19T23:07:37.364426Z",
     "start_time": "2019-09-19T23:07:37.353713Z"
    }
   },
   "outputs": [
    {
     "data": {
      "text/plain": [
       "array([-1706.424  ,  -885.6294 , -1325.214  , -1149.838  ,  -661.8601 ,\n",
       "       -1152.942  ,  -421.7851 , -1164.     ,  -640.0739 ,  -370.2102 ,\n",
       "        -315.4634 , -1503.985  ,  -306.0447 ,  -700.9026 ,   -69.46946,\n",
       "        -340.7513 ,  -514.5656 ,   -54.39469,  -354.2246 ,  -522.7621 ,\n",
       "        -304.4442 , -2111.399  ,  -413.511  ,  -503.1875 ,  -299.0025 ,\n",
       "       -2195.886  , -1309.597  ,  -683.5299 , -1425.124  , -2342.259  ,\n",
       "         118.34   ,  -581.6702 , -1176.998  ,  -179.4015 ,  -634.6322 ,\n",
       "        -442.5431 ,  -399.2908 ,  -329.1016 ,  -981.349  ,  -533.2478 ,\n",
       "         -53.98729,  -379.4155 ,  -522.3838 ,  -236.7382 ,  -652.9846 ,\n",
       "        -101.4911 ,  -497.9689 ,  -178.868  ,  -776.4171 ,   -98.7363 ,\n",
       "        -654.7888 ,  -178.4412 ,  -415.9845 ,  -484.8157 ,  -138.0601 ,\n",
       "         137.8467 ,  -240.1332 ,  -446.6074 ,  -384.3528 ,  -525.1677 ,\n",
       "        -501.4318 ,    72.05063, -1739.113  , -1169.238  , -1654.238  ,\n",
       "        -473.8644 ,  -557.1874 ,  -754.2138 ,   -98.6781 , -2036.224  ,\n",
       "        -647.9503 ,  -390.5123 ,  -124.0048 ,  -324.0867 ,   260.0279 ,\n",
       "         -28.78766,  -376.7965 ,  -553.0358 ,  -655.0022 ,  -199.5872 ,\n",
       "         -46.51441,   -19.80837,   -65.82517,  -731.7195 ,  -518.3292 ,\n",
       "        -411.4255 ,  -659.4157 ,   -89.91415,   -14.744  ,  -273.6758 ,\n",
       "        -178.9747 ,  -416.7023 ,  -698.6813 ,  -192.7293 ,   -14.02038,\n",
       "        -878.3447 ,   -59.85385])"
      ]
     },
     "execution_count": 18,
     "metadata": {},
     "output_type": "execute_result"
    }
   ],
   "source": [
    "# Testando soma\n",
    "sum(h - y)"
   ]
  },
  {
   "cell_type": "markdown",
   "metadata": {},
   "source": [
    "Algo está errado. O esperado seria um valor único. Vamos investigar."
   ]
  },
  {
   "cell_type": "code",
   "execution_count": 19,
   "metadata": {
    "ExecuteTime": {
     "end_time": "2019-09-19T23:07:37.376195Z",
     "start_time": "2019-09-19T23:07:37.367697Z"
    }
   },
   "outputs": [
    {
     "name": "stdout",
     "output_type": "stream",
     "text": [
      "Dimensão de h: (97, 1)\n",
      "Dimensão de y: (97,)\n"
     ]
    }
   ],
   "source": [
    "# Dimensões de cada um dos vetores\n",
    "print(f'Dimensão de h: {h.shape}')\n",
    "print(f'Dimensão de y: {y.shape}')"
   ]
  },
  {
   "cell_type": "markdown",
   "metadata": {},
   "source": [
    "Aparentemente, a dimensão de ```y``` está influenciando na subtração entre os vetores. Aplicando alterações"
   ]
  },
  {
   "cell_type": "code",
   "execution_count": 20,
   "metadata": {
    "ExecuteTime": {
     "end_time": "2019-09-19T23:07:37.386281Z",
     "start_time": "2019-09-19T23:07:37.379615Z"
    }
   },
   "outputs": [
    {
     "data": {
      "text/plain": [
       "(97, 1)"
      ]
     },
     "execution_count": 20,
     "metadata": {},
     "output_type": "execute_result"
    }
   ],
   "source": [
    "# Modificando dimensão\n",
    "y = y.reshape(m, 1)\n",
    "y.shape"
   ]
  },
  {
   "cell_type": "code",
   "execution_count": 21,
   "metadata": {
    "ExecuteTime": {
     "end_time": "2019-09-19T23:07:37.397946Z",
     "start_time": "2019-09-19T23:07:37.388745Z"
    }
   },
   "outputs": [
    {
     "data": {
      "text/plain": [
       "array([-566.3961])"
      ]
     },
     "execution_count": 21,
     "metadata": {},
     "output_type": "execute_result"
    }
   ],
   "source": [
    "# Testando mais uma vez\n",
    "sum(h - y)"
   ]
  },
  {
   "cell_type": "markdown",
   "metadata": {},
   "source": [
    "Faltou elevar ao quadrado..."
   ]
  },
  {
   "cell_type": "code",
   "execution_count": 22,
   "metadata": {
    "ExecuteTime": {
     "end_time": "2019-09-19T23:07:37.410328Z",
     "start_time": "2019-09-19T23:07:37.401950Z"
    }
   },
   "outputs": [
    {
     "data": {
      "text/plain": [
       "array([6222.11037223])"
      ]
     },
     "execution_count": 22,
     "metadata": {},
     "output_type": "execute_result"
    }
   ],
   "source": [
    "# Corrigindo\n",
    "sum((h - y) ** 2)"
   ]
  },
  {
   "cell_type": "code",
   "execution_count": 23,
   "metadata": {
    "ExecuteTime": {
     "end_time": "2019-09-19T23:07:37.438071Z",
     "start_time": "2019-09-19T23:07:37.417893Z"
    }
   },
   "outputs": [
    {
     "data": {
      "text/plain": [
       "array([[6222.11037223]])"
      ]
     },
     "execution_count": 23,
     "metadata": {},
     "output_type": "execute_result"
    }
   ],
   "source": [
    "# Uma outra forma\n",
    "e = (h - y)\n",
    "e.T.dot(e)"
   ]
  },
  {
   "cell_type": "code",
   "execution_count": 24,
   "metadata": {
    "ExecuteTime": {
     "end_time": "2019-09-19T23:07:37.453153Z",
     "start_time": "2019-09-19T23:07:37.442797Z"
    }
   },
   "outputs": [
    {
     "data": {
      "text/plain": [
       "array([32.07273388])"
      ]
     },
     "execution_count": 24,
     "metadata": {},
     "output_type": "execute_result"
    }
   ],
   "source": [
    "# Dividindo por 2m\n",
    "sum((h - y) ** 2) / (2*m)"
   ]
  },
  {
   "cell_type": "code",
   "execution_count": 25,
   "metadata": {
    "ExecuteTime": {
     "end_time": "2019-09-19T23:07:37.466047Z",
     "start_time": "2019-09-19T23:07:37.456144Z"
    }
   },
   "outputs": [],
   "source": [
    "# Definindo função para cálculo do custo\n",
    "def costFunction(X, y, theta):\n",
    "    \"\"\"\n",
    "    Função responsável por calcular o custo da função de acordo com os parâmetros empregados\n",
    "    INPUT:\n",
    "        X: matriz de features;\n",
    "        y: labels;\n",
    "        theta: parâmetros do modelo\n",
    "    OUTPUT:\n",
    "        J: função custo\n",
    "    \"\"\"\n",
    "    [m, n] = X.shape\n",
    "    # Computando hypothesis\n",
    "    h = hypothesis(X, theta)\n",
    "    \n",
    "    # Calculando custo\n",
    "    squared_error = (h - y) ** 2\n",
    "    return sum(squared_error / (2*m))"
   ]
  },
  {
   "cell_type": "code",
   "execution_count": 26,
   "metadata": {
    "ExecuteTime": {
     "end_time": "2019-09-19T23:07:37.478181Z",
     "start_time": "2019-09-19T23:07:37.468568Z"
    }
   },
   "outputs": [
    {
     "name": "stdout",
     "output_type": "stream",
     "text": [
      "Função custo para theta inicial = (0, 0): 32.07\n"
     ]
    }
   ],
   "source": [
    "# Verificando\n",
    "initial_theta = np.zeros((2, 1))\n",
    "J = costFunction(X, y, initial_theta)\n",
    "print(f'Função custo para theta inicial = (0, 0): {J[0]:.2f}')"
   ]
  },
  {
   "cell_type": "markdown",
   "metadata": {},
   "source": [
    "#### Gradiente Descendente"
   ]
  },
  {
   "cell_type": "markdown",
   "metadata": {},
   "source": [
    "Após a implementação da Função Custo, vamos implementar as derivadas parciais para o cálculo do gradiente. O objetivo é encontrar o melhor set de parâmetros ```theta``` para o problema em questão."
   ]
  },
  {
   "cell_type": "markdown",
   "metadata": {},
   "source": [
    "\\begin{equation*}\n",
    "    \\theta_j:= \\theta_j-\\alpha\\frac{\\partial}{\\partial \\theta_j}J(\\theta) \n",
    "             = \\theta_j-\\alpha\\frac{1}{m}\\sum_{i=1}^m(h_\\theta(x^{(i)})-y^{(i)})x_j^{(i)}\n",
    "\\end{equation*}"
   ]
  },
  {
   "cell_type": "code",
   "execution_count": 27,
   "metadata": {
    "ExecuteTime": {
     "end_time": "2019-09-19T23:07:37.493159Z",
     "start_time": "2019-09-19T23:07:37.481875Z"
    }
   },
   "outputs": [],
   "source": [
    "# Inicializando parâmetros\n",
    "[m, n] = X.shape\n",
    "iterations = 1500\n",
    "alpha = 0.01\n",
    "theta = np.zeros((n, 1))\n",
    "temp = theta"
   ]
  },
  {
   "cell_type": "code",
   "execution_count": 28,
   "metadata": {
    "ExecuteTime": {
     "end_time": "2019-09-19T23:07:37.508959Z",
     "start_time": "2019-09-19T23:07:37.496916Z"
    }
   },
   "outputs": [
    {
     "data": {
      "text/plain": [
       "array([[0.05839135],\n",
       "       [0.6532885 ]])"
      ]
     },
     "execution_count": 28,
     "metadata": {},
     "output_type": "execute_result"
    }
   ],
   "source": [
    "# Testando uma única iteração\n",
    "h = hypothesis(X, theta)\n",
    "temp[0] = temp[0] - (alpha/m) * sum(h - y)\n",
    "temp[1] = temp[1] - (alpha/m) * X[:, 1].dot((h-y))\n",
    "theta = temp[:]\n",
    "theta"
   ]
  },
  {
   "cell_type": "code",
   "execution_count": 29,
   "metadata": {
    "ExecuteTime": {
     "end_time": "2019-09-19T23:07:38.084664Z",
     "start_time": "2019-09-19T23:07:37.512094Z"
    }
   },
   "outputs": [],
   "source": [
    "# Implementando gradiente\n",
    "J_history = np.zeros((iterations, 1))\n",
    "for i in range(iterations):\n",
    "    h = hypothesis(X, theta) \n",
    "    temp[0] = temp[0] - (alpha/m) * sum(h - y)\n",
    "    temp[1] = temp[1] - (alpha/m) * X[:, 1].dot((h-y))\n",
    "    theta = temp[:]\n",
    "    J_history[i] = costFunction(X, y, theta)"
   ]
  },
  {
   "cell_type": "code",
   "execution_count": 30,
   "metadata": {
    "ExecuteTime": {
     "end_time": "2019-09-19T23:07:38.099696Z",
     "start_time": "2019-09-19T23:07:38.088660Z"
    }
   },
   "outputs": [
    {
     "data": {
      "text/plain": [
       "array([[-3.63077001],\n",
       "       [ 1.16641043]])"
      ]
     },
     "execution_count": 30,
     "metadata": {},
     "output_type": "execute_result"
    }
   ],
   "source": [
    "# Verificando melhores parâmetros\n",
    "theta"
   ]
  },
  {
   "cell_type": "code",
   "execution_count": 31,
   "metadata": {
    "ExecuteTime": {
     "end_time": "2019-09-19T23:07:38.112461Z",
     "start_time": "2019-09-19T23:07:38.103853Z"
    }
   },
   "outputs": [
    {
     "data": {
      "text/plain": [
       "array([4.48336514])"
      ]
     },
     "execution_count": 31,
     "metadata": {},
     "output_type": "execute_result"
    }
   ],
   "source": [
    "# Menor custo encontrado\n",
    "J = costFunction(X, y, theta)\n",
    "J"
   ]
  },
  {
   "cell_type": "code",
   "execution_count": 32,
   "metadata": {
    "ExecuteTime": {
     "end_time": "2019-09-19T23:07:38.495311Z",
     "start_time": "2019-09-19T23:07:38.116451Z"
    }
   },
   "outputs": [
    {
     "data": {
      "image/png": "[encoded data removed]",
      "text/plain": [
       "<Figure size 576x360 with 1 Axes>"
      ]
     },
     "metadata": {
      "needs_background": "light"
     },
     "output_type": "display_data"
    }
   ],
   "source": [
    "# Visualizando função custo\n",
    "axis = np.arange(iterations)\n",
    "fig = plt.figure(figsize=(8, 5))\n",
    "plt.plot(axis, J_history)\n",
    "plt.title('Função Custo a cada iteração', size=14)\n",
    "plt.xlabel('Iterações', size=11, labelpad=12)\n",
    "plt.ylabel('Custo', size=11, labelpad=12)\n",
    "plt.show()"
   ]
  },
  {
   "cell_type": "markdown",
   "metadata": {},
   "source": [
    "O problema de Regressão Linear foi implementado com sucesso através da aplicação de Álgebra Linear e das facilidades de bibliotecas como NumPy"
   ]
  },
  {
   "cell_type": "code",
   "execution_count": 33,
   "metadata": {
    "ExecuteTime": {
     "end_time": "2019-09-19T23:07:38.503479Z",
     "start_time": "2019-09-19T23:07:38.497572Z"
    }
   },
   "outputs": [],
   "source": [
    "# Calculando predições\n",
    "predictions = hypothesis(X, theta)"
   ]
  },
  {
   "cell_type": "code",
   "execution_count": 34,
   "metadata": {
    "ExecuteTime": {
     "end_time": "2019-09-19T23:07:38.867797Z",
     "start_time": "2019-09-19T23:07:38.506676Z"
    }
   },
   "outputs": [
    {
     "data": {
      "image/png": "[encoded data removed]",
      "text/plain": [
       "<Figure size 648x432 with 1 Axes>"
      ]
     },
     "metadata": {
      "needs_background": "light"
     },
     "output_type": "display_data"
    }
   ],
   "source": [
    "# Aprimorando plot\n",
    "fig = plt.figure(figsize=(9, 6))\n",
    "plt.scatter(population, profit, c='r', marker='x')\n",
    "plt.title('Lucro Food Truck x População da Cidade', size=16)\n",
    "plt.xlabel('População (10.000 hab)', size=13, labelpad=12)\n",
    "plt.ylabel('Lucro ($10.000)', size=13, labelpad=12)\n",
    "plt.plot(population, predictions)\n",
    "plt.show()"
   ]
  },
  {
   "cell_type": "markdown",
   "metadata": {},
   "source": [
    "## Regressão Linear Multivariável"
   ]
  },
  {
   "cell_type": "markdown",
   "metadata": {},
   "source": [
    "### Entendendo o Problema"
   ]
  },
  {
   "cell_type": "markdown",
   "metadata": {},
   "source": [
    "Nesta parte opcional do exercício, iremos implementar Regressão Linear com múltiplas variáveis para predição de preços de casas. Suponha que você esteja vendendo sua casa e queira saber um preço razoável de mercado para anunciá-la. Uma boa maneira de descobrir é coletando informações de casas ```vendidas recentemente``` e aplicar um modelo de predição de preços.\n",
    "\n",
    "O dataset a ser utilizado contém dados sobre o preço de casas em Portland, Oregon. As colunas são, respectivamente:\n",
    "        - Tamanho da casa (em pés quadrados);\n",
    "        - Número de quartos\n",
    "        - Preço"
   ]
  },
  {
   "cell_type": "markdown",
   "metadata": {},
   "source": [
    "### Lendo e Explorando Dataset"
   ]
  },
  {
   "cell_type": "code",
   "execution_count": 35,
   "metadata": {
    "ExecuteTime": {
     "end_time": "2019-09-19T23:07:38.895895Z",
     "start_time": "2019-09-19T23:07:38.871449Z"
    }
   },
   "outputs": [
    {
     "data": {
      "text/plain": [
       "array([[2.104e+03, 3.000e+00, 3.999e+05],\n",
       "       [1.600e+03, 3.000e+00, 3.299e+05],\n",
       "       [2.400e+03, 3.000e+00, 3.690e+05],\n",
       "       [1.416e+03, 2.000e+00, 2.320e+05],\n",
       "       [3.000e+03, 4.000e+00, 5.399e+05]])"
      ]
     },
     "execution_count": 35,
     "metadata": {},
     "output_type": "execute_result"
    }
   ],
   "source": [
    "# Importando biblioteca e lendo arquivo\n",
    "import numpy as np\n",
    "\n",
    "dataset = np.loadtxt('ex1data2.txt', delimiter=',')\n",
    "dataset[:5]"
   ]
  },
  {
   "cell_type": "markdown",
   "metadata": {},
   "source": [
    "Observando os dados, é possível identificar uma questão que precisa ser tratada"
   ]
  },
  {
   "cell_type": "code",
   "execution_count": 36,
   "metadata": {
    "ExecuteTime": {
     "end_time": "2019-09-19T23:07:38.907209Z",
     "start_time": "2019-09-19T23:07:38.898682Z"
    }
   },
   "outputs": [
    {
     "name": "stdout",
     "output_type": "stream",
     "text": [
      "Exemplo de tamanho de casa: 2104.0\n",
      "Exemplo de número de quartos: 3.0\n"
     ]
    }
   ],
   "source": [
    "# Observando\n",
    "size_sample = dataset[0][0]\n",
    "bedrooms_sample = dataset[0][1]\n",
    "\n",
    "print(f'Exemplo de tamanho de casa: {size_sample}')\n",
    "print(f'Exemplo de número de quartos: {bedrooms_sample}')"
   ]
  },
  {
   "cell_type": "markdown",
   "metadata": {},
   "source": [
    "A diferença é discrepância. Será necessário realizar um procedimento conhecido como ```Feature Normalization```."
   ]
  },
  {
   "cell_type": "code",
   "execution_count": 37,
   "metadata": {
    "ExecuteTime": {
     "end_time": "2019-09-19T23:07:38.916657Z",
     "start_time": "2019-09-19T23:07:38.910628Z"
    }
   },
   "outputs": [
    {
     "data": {
      "text/plain": [
       "(47, 3)"
      ]
     },
     "execution_count": 37,
     "metadata": {},
     "output_type": "execute_result"
    }
   ],
   "source": [
    "# Quantidade dos dados\n",
    "dataset.shape"
   ]
  },
  {
   "cell_type": "code",
   "execution_count": 38,
   "metadata": {
    "ExecuteTime": {
     "end_time": "2019-09-19T23:07:38.933186Z",
     "start_time": "2019-09-19T23:07:38.924816Z"
    }
   },
   "outputs": [
    {
     "name": "stdout",
     "output_type": "stream",
     "text": [
      "Valor máximo da feature \"size\": 4478.0\n",
      "Valor mínimo da feature \"size\": 852.0\n",
      "\n",
      "Valor máximo da feature \"bedrooms\": 5.0\n",
      "Valor mínimo da feature \"bedrooms\": 1.0\n"
     ]
    }
   ],
   "source": [
    "# Vejamos algumas análises estatísticas\n",
    "print(f'Valor máximo da feature \"size\": {dataset[:, 0].max()}')\n",
    "print(f'Valor mínimo da feature \"size\": {dataset[:, 0].min()}')\n",
    "print()\n",
    "print(f'Valor máximo da feature \"bedrooms\": {dataset[:, 1].max()}')\n",
    "print(f'Valor mínimo da feature \"bedrooms\": {dataset[:, 1].min()}')"
   ]
  },
  {
   "cell_type": "code",
   "execution_count": 39,
   "metadata": {
    "ExecuteTime": {
     "end_time": "2019-09-19T23:07:38.945449Z",
     "start_time": "2019-09-19T23:07:38.936250Z"
    }
   },
   "outputs": [
    {
     "name": "stdout",
     "output_type": "stream",
     "text": [
      "Média da feature \"size\": 2000.68\n",
      "Média da feature \"bedrooms\": 3.17\n"
     ]
    }
   ],
   "source": [
    "# Continuando análise\n",
    "print(f'Média da feature \"size\": {dataset[:, 0].mean():.2f}')\n",
    "print(f'Média da feature \"bedrooms\": {dataset[:, 1].mean():.2f}')"
   ]
  },
  {
   "cell_type": "code",
   "execution_count": 40,
   "metadata": {
    "ExecuteTime": {
     "end_time": "2019-09-19T23:07:38.960024Z",
     "start_time": "2019-09-19T23:07:38.948734Z"
    }
   },
   "outputs": [
    {
     "name": "stdout",
     "output_type": "stream",
     "text": [
      "Desvio padrão da feature \"size\": 786.20\n",
      "Variância da feature \"size\": 618114.56\n",
      "\n",
      "Desvio padrão da feature \"bedrooms\": 0.75\n",
      "Variância da feature \"bedrooms\": 0.57\n"
     ]
    }
   ],
   "source": [
    "# Mais análises\n",
    "print(f'Desvio padrão da feature \"size\": {np.std(dataset[:, 0]):.2f}')\n",
    "print(f'Variância da feature \"size\": {np.var(dataset[:, 0]):.2f}')\n",
    "print()\n",
    "print(f'Desvio padrão da feature \"bedrooms\": {np.std(dataset[:, 1]):.2f}')\n",
    "print(f'Variância da feature \"bedrooms\": {np.var(dataset[:, 1]):.2f}')"
   ]
  },
  {
   "cell_type": "markdown",
   "metadata": {},
   "source": [
    "Fontes: \n",
    "\n",
    "* [numpy.var() Variância](https://docs.scipy.org/doc/numpy-1.15.1/reference/generated/numpy.var.html)\n",
    "* [numpy.std() Desvio Padrão](https://docs.scipy.org/doc/numpy/reference/generated/numpy.std.html)"
   ]
  },
  {
   "cell_type": "markdown",
   "metadata": {},
   "source": [
    "### Normalização dos Dados"
   ]
  },
  {
   "cell_type": "markdown",
   "metadata": {},
   "source": [
    "Para normalizar os dados e, por consequência, eliminar a distância em escala entre as features presentes, vamos aplicar o procedimento de ```Normalização```, exemplificado pela fórmula:\n",
    "\n",
    "\\begin{equation*}\n",
    "    z = \\frac{x - \\mu}{\\sigma}\n",
    "\\end{equation*}\n",
    "\n",
    "onde:\n",
    "    - z = valor normalizado;\n",
    "    - x = amostra;\n",
    "    - u = média dos dados;\n",
    "    - mu = desvio padrão"
   ]
  },
  {
   "cell_type": "code",
   "execution_count": 41,
   "metadata": {
    "ExecuteTime": {
     "end_time": "2019-09-19T23:07:38.971804Z",
     "start_time": "2019-09-19T23:07:38.963709Z"
    }
   },
   "outputs": [],
   "source": [
    "# Separando features\n",
    "size = dataset[:, 0]\n",
    "bedrooms = dataset[:, 1]\n",
    "\n",
    "# Normalizando features\n",
    "size_norm = (size - size.mean()) / size.std()\n",
    "bedrooms_norm = (bedrooms - bedrooms.mean()) / bedrooms.std()"
   ]
  },
  {
   "cell_type": "code",
   "execution_count": 42,
   "metadata": {
    "ExecuteTime": {
     "end_time": "2019-09-19T23:07:38.984464Z",
     "start_time": "2019-09-19T23:07:38.975970Z"
    }
   },
   "outputs": [],
   "source": [
    "def feature_prop(feature, feature_name):\n",
    "    \"\"\"Exibe na tela as propriedades estatísticas de determinada feature\"\"\"\n",
    "    print(f'feature: {feature_name}')\n",
    "    print(f'* média: {feature.mean()}')\n",
    "    print(f'* desvpad: {feature.std()}')\n",
    "    print(f'* variância: {feature.var()}')\n",
    "    print(f'* amostra 1: {feature[0]}\\n')"
   ]
  },
  {
   "cell_type": "code",
   "execution_count": 43,
   "metadata": {
    "ExecuteTime": {
     "end_time": "2019-09-19T23:07:38.999791Z",
     "start_time": "2019-09-19T23:07:38.987452Z"
    }
   },
   "outputs": [
    {
     "name": "stdout",
     "output_type": "stream",
     "text": [
      "feature: size_norm\n",
      "* média: 9.448706592554524e-18\n",
      "* desvpad: 1.0\n",
      "* variância: 1.0\n",
      "* amostra 1: 0.13141542202104753\n",
      "\n",
      "feature: bedrooms_norm\n",
      "* média: 2.710597703739079e-16\n",
      "* desvpad: 0.9999999999999998\n",
      "* variância: 0.9999999999999996\n",
      "* amostra 1: -0.2260933675776883\n",
      "\n"
     ]
    }
   ],
   "source": [
    "# Comparando features após normalização\n",
    "feature_prop(size_norm, 'size_norm')\n",
    "feature_prop(bedrooms_norm, 'bedrooms_norm')"
   ]
  },
  {
   "cell_type": "markdown",
   "metadata": {},
   "source": [
    "### Implementando Algoritmo"
   ]
  },
  {
   "cell_type": "markdown",
   "metadata": {},
   "source": [
    "Lembrando algumas fórmulas:"
   ]
  },
  {
   "cell_type": "markdown",
   "metadata": {},
   "source": [
    "Tínhamos: \n",
    "\n",
    "\\begin{equation*}\n",
    "h_\\theta(x) = \\theta^Tx=\\theta_0 + \\theta_1x_1\n",
    "\\end{equation*}\n",
    "\n",
    "Agora temos:\n",
    "\\begin{equation*}\n",
    "h_\\theta(x) = \\theta^Tx=\\theta_0 + \\theta_1x_1 + \\theta_2x_2\n",
    "\\end{equation*}"
   ]
  },
  {
   "cell_type": "markdown",
   "metadata": {},
   "source": [
    "A Função Custo e a implementação do Gradiente Descendente são dadas por:"
   ]
  },
  {
   "cell_type": "markdown",
   "metadata": {},
   "source": [
    "\\begin{equation*}\n",
    "J(\\theta)=\\frac{1}{2m}\\sum_{i=1}^m(h_\\theta(x^{(i)})-y^{(i)})^2\n",
    "\\end{equation*}"
   ]
  },
  {
   "cell_type": "markdown",
   "metadata": {},
   "source": [
    "\\begin{equation*}\n",
    "    \\theta_j:= \\theta_j-\\alpha\\frac{\\partial}{\\partial \\theta_j}J(\\theta) \n",
    "             = \\theta_j-\\alpha\\frac{1}{m}\\sum_{i=1}^m(h_\\theta(x^{(i)})-y^{(i)})x_j^{(i)}\n",
    "\\end{equation*}"
   ]
  },
  {
   "cell_type": "markdown",
   "metadata": {},
   "source": [
    "#### Hypothesis"
   ]
  },
  {
   "cell_type": "markdown",
   "metadata": {},
   "source": [
    "Definimos o cálculo da função hypothesis como:"
   ]
  },
  {
   "cell_type": "code",
   "execution_count": 44,
   "metadata": {
    "ExecuteTime": {
     "end_time": "2019-09-19T23:07:39.009047Z",
     "start_time": "2019-09-19T23:07:39.004125Z"
    }
   },
   "outputs": [],
   "source": [
    "# Implementando função\n",
    "def hypothesis(X, theta):\n",
    "    \"\"\"\n",
    "    Função responsável por calcular o vetor h em um problema de Regressão Linear\n",
    "    INPUT:\n",
    "        X: matriz contendo features do dataset\n",
    "        theta: matriz de parâmetros\n",
    "    OUTPUT:\n",
    "        h: matriz de hypothesis contendo predições do modelo\n",
    "    \"\"\"\n",
    "    return X.dot(theta)"
   ]
  },
  {
   "cell_type": "markdown",
   "metadata": {},
   "source": [
    "Como separamos nossas features X em colunas diferentes para normalização, temos duas opções:\n",
    "    * 1 - Unir novamente os arrays já normalizados;\n",
    "    * 2 - Separar o dataset em ```X``` e ```y``` e aplicar a normalização em um laço for."
   ]
  },
  {
   "cell_type": "code",
   "execution_count": 45,
   "metadata": {
    "ExecuteTime": {
     "end_time": "2019-09-19T23:07:39.028760Z",
     "start_time": "2019-09-19T23:07:39.012665Z"
    }
   },
   "outputs": [
    {
     "name": "stdout",
     "output_type": "stream",
     "text": [
      "Dimensões de X: (47, 2)\n",
      "Dimensões de y: (47,)\n",
      "\n",
      "Primeiras linhas de X: \n",
      "[[2.104e+03 3.000e+00]\n",
      " [1.600e+03 3.000e+00]\n",
      " [2.400e+03 3.000e+00]\n",
      " [1.416e+03 2.000e+00]\n",
      " [3.000e+03 4.000e+00]]\n",
      "\n",
      "Primeiras linhas de y: [399900. 329900. 369000. 232000. 539900.]\n"
     ]
    }
   ],
   "source": [
    "# Por 2, temos:\n",
    "X = dataset[:, :2]\n",
    "y = dataset[:, -1]\n",
    "\n",
    "# Verificando\n",
    "print(f'Dimensões de X: {X.shape}')\n",
    "print(f'Dimensões de y: {y.shape}')\n",
    "print(f'\\nPrimeiras linhas de X: \\n{X[:5]}')\n",
    "print(f'\\nPrimeiras linhas de y: {y[:5]}')"
   ]
  },
  {
   "cell_type": "code",
   "execution_count": 46,
   "metadata": {
    "ExecuteTime": {
     "end_time": "2019-09-19T23:07:39.047789Z",
     "start_time": "2019-09-19T23:07:39.032105Z"
    }
   },
   "outputs": [],
   "source": [
    "# Aplicando normalização\n",
    "for i in range(X.shape[1]):\n",
    "    X[:, i] = (X[:, i] - X[:, i].mean()) / X[:, i].std()"
   ]
  },
  {
   "cell_type": "code",
   "execution_count": 47,
   "metadata": {
    "ExecuteTime": {
     "end_time": "2019-09-19T23:07:39.059204Z",
     "start_time": "2019-09-19T23:07:39.050788Z"
    }
   },
   "outputs": [
    {
     "data": {
      "text/plain": [
       "9.448706592554524e-18"
      ]
     },
     "execution_count": 47,
     "metadata": {},
     "output_type": "execute_result"
    }
   ],
   "source": [
    "X[:, 0].mean()"
   ]
  },
  {
   "cell_type": "code",
   "execution_count": 48,
   "metadata": {
    "ExecuteTime": {
     "end_time": "2019-09-19T23:07:39.072769Z",
     "start_time": "2019-09-19T23:07:39.062692Z"
    }
   },
   "outputs": [
    {
     "name": "stdout",
     "output_type": "stream",
     "text": [
      "Primeiras linhas de X: \n",
      "[[ 0.13141542 -0.22609337]\n",
      " [-0.5096407  -0.22609337]\n",
      " [ 0.5079087  -0.22609337]\n",
      " [-0.74367706 -1.5543919 ]\n",
      " [ 1.27107075  1.10220517]]\n",
      "\n",
      "Comparando com as obtidas anteriormente: \n",
      "0.1314154 -0.2260934\n"
     ]
    }
   ],
   "source": [
    "# Verificando\n",
    "print(f'Primeiras linhas de X: \\n{X[:5]}')\n",
    "print(f'\\nComparando com as obtidas anteriormente: \\n{size_norm[0]:.7f} {bedrooms_norm[0]:.7f}')"
   ]
  },
  {
   "cell_type": "code",
   "execution_count": 49,
   "metadata": {
    "ExecuteTime": {
     "end_time": "2019-09-19T23:07:39.089119Z",
     "start_time": "2019-09-19T23:07:39.077302Z"
    }
   },
   "outputs": [
    {
     "data": {
      "text/plain": [
       "array([[0.],\n",
       "       [0.],\n",
       "       [0.]])"
      ]
     },
     "execution_count": 49,
     "metadata": {},
     "output_type": "execute_result"
    }
   ],
   "source": [
    "# Precisamos iniciar nosso vetor de parâmetros\n",
    "theta_inicial = np.zeros(X.shape[1]+1).reshape(X.shape[1]+1, 1)\n",
    "theta_inicial"
   ]
  },
  {
   "cell_type": "code",
   "execution_count": 50,
   "metadata": {
    "ExecuteTime": {
     "end_time": "2019-09-19T23:07:39.117739Z",
     "start_time": "2019-09-19T23:07:39.093547Z"
    }
   },
   "outputs": [
    {
     "data": {
      "text/plain": [
       "array([[0.],\n",
       "       [0.],\n",
       "       [0.]])"
      ]
     },
     "execution_count": 50,
     "metadata": {},
     "output_type": "execute_result"
    }
   ],
   "source": [
    "# Ou então de um jeito mais simples\n",
    "[m, n] = X.shape\n",
    "theta_inicial = np.zeros((n+1, 1))\n",
    "theta_inicial"
   ]
  },
  {
   "cell_type": "code",
   "execution_count": 51,
   "metadata": {
    "ExecuteTime": {
     "end_time": "2019-09-19T23:07:39.137455Z",
     "start_time": "2019-09-19T23:07:39.121841Z"
    }
   },
   "outputs": [
    {
     "data": {
      "text/plain": [
       "(47, 3)"
      ]
     },
     "execution_count": 51,
     "metadata": {},
     "output_type": "execute_result"
    }
   ],
   "source": [
    "# Adicionando o termo bias em X\n",
    "X = np.c_[np.ones((m, 1)), X]\n",
    "\n",
    "# Verificando\n",
    "X.shape"
   ]
  },
  {
   "cell_type": "code",
   "execution_count": 52,
   "metadata": {
    "ExecuteTime": {
     "end_time": "2019-09-19T23:07:39.149397Z",
     "start_time": "2019-09-19T23:07:39.140830Z"
    }
   },
   "outputs": [
    {
     "data": {
      "text/plain": [
       "array([[ 1.        ,  0.13141542, -0.22609337],\n",
       "       [ 1.        , -0.5096407 , -0.22609337],\n",
       "       [ 1.        ,  0.5079087 , -0.22609337],\n",
       "       [ 1.        , -0.74367706, -1.5543919 ],\n",
       "       [ 1.        ,  1.27107075,  1.10220517]])"
      ]
     },
     "execution_count": 52,
     "metadata": {},
     "output_type": "execute_result"
    }
   ],
   "source": [
    "# Primeiras amostras\n",
    "X[:5, :]"
   ]
  },
  {
   "cell_type": "markdown",
   "metadata": {},
   "source": [
    "Calculando hypothesis\n",
    "\n",
    "\\begin{equation*}\n",
    "h_\\theta(x) = \\theta^Tx=\\theta_0 + \\theta_1x_1 + \\theta_2x_2\n",
    "\\end{equation*}"
   ]
  },
  {
   "cell_type": "code",
   "execution_count": 53,
   "metadata": {
    "ExecuteTime": {
     "end_time": "2019-09-19T23:07:39.158595Z",
     "start_time": "2019-09-19T23:07:39.151711Z"
    }
   },
   "outputs": [
    {
     "name": "stdout",
     "output_type": "stream",
     "text": [
      "Dimensões de X: (47, 3)\n",
      "Dimensões de theta: (3, 1)\n"
     ]
    }
   ],
   "source": [
    "# Verificando shapes\n",
    "print(f'Dimensões de X: {X.shape}')\n",
    "print(f'Dimensões de theta: {theta_inicial.shape}')"
   ]
  },
  {
   "cell_type": "code",
   "execution_count": 54,
   "metadata": {
    "ExecuteTime": {
     "end_time": "2019-09-19T23:07:39.179620Z",
     "start_time": "2019-09-19T23:07:39.161706Z"
    }
   },
   "outputs": [
    {
     "data": {
      "text/plain": [
       "array([[0.],\n",
       "       [0.],\n",
       "       [0.],\n",
       "       [0.],\n",
       "       [0.]])"
      ]
     },
     "execution_count": 54,
     "metadata": {},
     "output_type": "execute_result"
    }
   ],
   "source": [
    "# Calculando\n",
    "h = X.dot(theta_inicial)\n",
    "h[:5]"
   ]
  },
  {
   "cell_type": "code",
   "execution_count": 55,
   "metadata": {
    "ExecuteTime": {
     "end_time": "2019-09-19T23:07:39.191638Z",
     "start_time": "2019-09-19T23:07:39.182529Z"
    }
   },
   "outputs": [
    {
     "name": "stdout",
     "output_type": "stream",
     "text": [
      "Help on function hypothesis in module __main__:\n",
      "\n",
      "hypothesis(X, theta)\n",
      "    Função responsável por calcular o vetor h em um problema de Regressão Linear\n",
      "    INPUT:\n",
      "        X: matriz contendo features do dataset\n",
      "        theta: matriz de parâmetros\n",
      "    OUTPUT:\n",
      "        h: matriz de hypothesis contendo predições do modelo\n",
      "\n"
     ]
    }
   ],
   "source": [
    "# Poderíamos utilizar a mesma função\n",
    "help(hypothesis)"
   ]
  },
  {
   "cell_type": "code",
   "execution_count": 56,
   "metadata": {
    "ExecuteTime": {
     "end_time": "2019-09-19T23:07:39.208991Z",
     "start_time": "2019-09-19T23:07:39.195790Z"
    }
   },
   "outputs": [
    {
     "data": {
      "text/plain": [
       "array([[0.],\n",
       "       [0.],\n",
       "       [0.],\n",
       "       [0.],\n",
       "       [0.]])"
      ]
     },
     "execution_count": 56,
     "metadata": {},
     "output_type": "execute_result"
    }
   ],
   "source": [
    "# Calculando através da função já definida\n",
    "h = hypothesis(X, theta_inicial)\n",
    "h[:5]"
   ]
  },
  {
   "cell_type": "markdown",
   "metadata": {},
   "source": [
    "#### Função Custo"
   ]
  },
  {
   "cell_type": "markdown",
   "metadata": {},
   "source": [
    "\\begin{equation*}\n",
    "J(\\theta)=\\frac{1}{2m}\\sum_{i=1}^m(h_\\theta(x^{(i)})-y^{(i)})^2\n",
    "\\end{equation*}"
   ]
  },
  {
   "cell_type": "code",
   "execution_count": 57,
   "metadata": {
    "ExecuteTime": {
     "end_time": "2019-09-19T23:07:39.230107Z",
     "start_time": "2019-09-19T23:07:39.211780Z"
    }
   },
   "outputs": [
    {
     "data": {
      "text/plain": [
       "array([[-399900.],\n",
       "       [-329900.],\n",
       "       [-369000.],\n",
       "       [-232000.],\n",
       "       [-539900.],\n",
       "       [-299900.],\n",
       "       [-314900.],\n",
       "       [-198999.],\n",
       "       [-212000.],\n",
       "       [-242500.],\n",
       "       [-239999.],\n",
       "       [-347000.],\n",
       "       [-329999.],\n",
       "       [-699900.],\n",
       "       [-259900.],\n",
       "       [-449900.],\n",
       "       [-299900.],\n",
       "       [-199900.],\n",
       "       [-499998.],\n",
       "       [-599000.],\n",
       "       [-252900.],\n",
       "       [-255000.],\n",
       "       [-242900.],\n",
       "       [-259900.],\n",
       "       [-573900.],\n",
       "       [-249900.],\n",
       "       [-464500.],\n",
       "       [-469000.],\n",
       "       [-475000.],\n",
       "       [-299900.],\n",
       "       [-349900.],\n",
       "       [-169900.],\n",
       "       [-314900.],\n",
       "       [-579900.],\n",
       "       [-285900.],\n",
       "       [-249900.],\n",
       "       [-229900.],\n",
       "       [-345000.],\n",
       "       [-549000.],\n",
       "       [-287000.],\n",
       "       [-368500.],\n",
       "       [-329900.],\n",
       "       [-314000.],\n",
       "       [-299000.],\n",
       "       [-179900.],\n",
       "       [-299900.],\n",
       "       [-239500.]])"
      ]
     },
     "execution_count": 57,
     "metadata": {},
     "output_type": "execute_result"
    }
   ],
   "source": [
    "# Testando operações 1\n",
    "y = y.reshape(m, 1)\n",
    "h - y"
   ]
  },
  {
   "cell_type": "code",
   "execution_count": 58,
   "metadata": {
    "ExecuteTime": {
     "end_time": "2019-09-19T23:07:39.268540Z",
     "start_time": "2019-09-19T23:07:39.259328Z"
    }
   },
   "outputs": [
    {
     "data": {
      "text/plain": [
       "array([[1.5992001e+11],\n",
       "       [1.0883401e+11],\n",
       "       [1.3616100e+11],\n",
       "       [5.3824000e+10],\n",
       "       [2.9149201e+11],\n",
       "       [8.9940010e+10],\n",
       "       [9.9162010e+10],\n",
       "       [3.9600602e+10],\n",
       "       [4.4944000e+10],\n",
       "       [5.8806250e+10],\n",
       "       [5.7599520e+10],\n",
       "       [1.2040900e+11],\n",
       "       [1.0889934e+11],\n",
       "       [4.8986001e+11],\n",
       "       [6.7548010e+10],\n",
       "       [2.0241001e+11],\n",
       "       [8.9940010e+10],\n",
       "       [3.9960010e+10],\n",
       "       [2.4999800e+11],\n",
       "       [3.5880100e+11],\n",
       "       [6.3958410e+10],\n",
       "       [6.5025000e+10],\n",
       "       [5.9000410e+10],\n",
       "       [6.7548010e+10],\n",
       "       [3.2936121e+11],\n",
       "       [6.2450010e+10],\n",
       "       [2.1576025e+11],\n",
       "       [2.1996100e+11],\n",
       "       [2.2562500e+11],\n",
       "       [8.9940010e+10],\n",
       "       [1.2243001e+11],\n",
       "       [2.8866010e+10],\n",
       "       [9.9162010e+10],\n",
       "       [3.3628401e+11],\n",
       "       [8.1738810e+10],\n",
       "       [6.2450010e+10],\n",
       "       [5.2854010e+10],\n",
       "       [1.1902500e+11],\n",
       "       [3.0140100e+11],\n",
       "       [8.2369000e+10],\n",
       "       [1.3579225e+11],\n",
       "       [1.0883401e+11],\n",
       "       [9.8596000e+10],\n",
       "       [8.9401000e+10],\n",
       "       [3.2364010e+10],\n",
       "       [8.9940010e+10],\n",
       "       [5.7360250e+10]])"
      ]
     },
     "execution_count": 58,
     "metadata": {},
     "output_type": "execute_result"
    }
   ],
   "source": [
    "# Testando operações 2\n",
    "(h - y) ** 2"
   ]
  },
  {
   "cell_type": "code",
   "execution_count": 59,
   "metadata": {
    "ExecuteTime": {
     "end_time": "2019-09-19T23:07:39.283717Z",
     "start_time": "2019-09-19T23:07:39.272033Z"
    }
   },
   "outputs": [
    {
     "data": {
      "text/plain": [
       "array([6.16560552e+12])"
      ]
     },
     "execution_count": 59,
     "metadata": {},
     "output_type": "execute_result"
    }
   ],
   "source": [
    "# Testando operações 3\n",
    "sum((h - y) ** 2)"
   ]
  },
  {
   "cell_type": "code",
   "execution_count": 60,
   "metadata": {
    "ExecuteTime": {
     "end_time": "2019-09-19T23:07:39.300407Z",
     "start_time": "2019-09-19T23:07:39.287707Z"
    }
   },
   "outputs": [
    {
     "data": {
      "text/plain": [
       "array([6.55915481e+10])"
      ]
     },
     "execution_count": 60,
     "metadata": {},
     "output_type": "execute_result"
    }
   ],
   "source": [
    "# Testando operações 4\n",
    "sum((h - y) ** 2) / (2*m)"
   ]
  },
  {
   "cell_type": "markdown",
   "metadata": {},
   "source": [
    "Custo extremamente elevado para os parâmetros [0, 0, 0]. Isso já era esperado. Será que poderíamos usar a mesma função pré definida na parte A?"
   ]
  },
  {
   "cell_type": "code",
   "execution_count": 61,
   "metadata": {
    "ExecuteTime": {
     "end_time": "2019-09-19T23:07:39.312903Z",
     "start_time": "2019-09-19T23:07:39.303408Z"
    }
   },
   "outputs": [
    {
     "name": "stdout",
     "output_type": "stream",
     "text": [
      "Help on function costFunction in module __main__:\n",
      "\n",
      "costFunction(X, y, theta)\n",
      "    Função responsável por calcular o custo da função de acordo com os parâmetros empregados\n",
      "    INPUT:\n",
      "        X: matriz de features;\n",
      "        y: labels;\n",
      "        theta: parâmetros do modelo\n",
      "    OUTPUT:\n",
      "        J: função custo\n",
      "\n"
     ]
    }
   ],
   "source": [
    "help(costFunction)"
   ]
  },
  {
   "cell_type": "code",
   "execution_count": 62,
   "metadata": {
    "ExecuteTime": {
     "end_time": "2019-09-19T23:07:39.336925Z",
     "start_time": "2019-09-19T23:07:39.324319Z"
    }
   },
   "outputs": [
    {
     "name": "stdout",
     "output_type": "stream",
     "text": [
      "Função custo para theta=(0, 0, 0): [6.55915481e+10]\n"
     ]
    }
   ],
   "source": [
    "J = costFunction(X, y, theta_inicial)\n",
    "print(f'Função custo para theta=(0, 0, 0): {J}')"
   ]
  },
  {
   "cell_type": "markdown",
   "metadata": {},
   "source": [
    "Valores bateram perfeitamente!"
   ]
  },
  {
   "cell_type": "markdown",
   "metadata": {},
   "source": [
    "#### Gradiente Descendente"
   ]
  },
  {
   "cell_type": "markdown",
   "metadata": {},
   "source": [
    "\\begin{equation*}\n",
    "    \\theta_j:= \\theta_j-\\alpha\\frac{\\partial}{\\partial \\theta_j}J(\\theta) \n",
    "             = \\theta_j-\\alpha\\frac{1}{m}\\sum_{i=1}^m(h_\\theta(x^{(i)})-y^{(i)})x_j^{(i)}\n",
    "\\end{equation*}"
   ]
  },
  {
   "cell_type": "code",
   "execution_count": 63,
   "metadata": {
    "ExecuteTime": {
     "end_time": "2019-09-19T23:07:39.352493Z",
     "start_time": "2019-09-19T23:07:39.340605Z"
    }
   },
   "outputs": [],
   "source": [
    "# Parametrizando\n",
    "[m, n] = X.shape\n",
    "alpha = 0.01\n",
    "iterations = 1500\n",
    "theta = np.zeros((n, 1))\n",
    "temp = theta"
   ]
  },
  {
   "cell_type": "code",
   "execution_count": 64,
   "metadata": {
    "ExecuteTime": {
     "end_time": "2019-09-19T23:07:39.376360Z",
     "start_time": "2019-09-19T23:07:39.358092Z"
    }
   },
   "outputs": [
    {
     "data": {
      "text/plain": [
       "array([[3404.12659574],\n",
       "       [1057.64133493],\n",
       "       [ 547.08821756]])"
      ]
     },
     "execution_count": 64,
     "metadata": {},
     "output_type": "execute_result"
    }
   ],
   "source": [
    "# Gradiente em uma única iteração\n",
    "h = hypothesis(X, theta)\n",
    "temp[0] = temp[0] - (alpha/m) * sum(h - y)\n",
    "temp[1] = temp[1] - (alpha/m) * X[:, 1].dot((h-y))\n",
    "temp[2] = temp[2] - (alpha/m) * X[:, 2].dot((h-y))\n",
    "theta = temp[:]\n",
    "theta"
   ]
  },
  {
   "cell_type": "code",
   "execution_count": 65,
   "metadata": {
    "ExecuteTime": {
     "end_time": "2019-09-19T23:07:39.396869Z",
     "start_time": "2019-09-19T23:07:39.381728Z"
    }
   },
   "outputs": [
    {
     "data": {
      "text/plain": [
       "array([[3404.12659574],\n",
       "       [1057.64133493],\n",
       "       [ 547.08821756]])"
      ]
     },
     "execution_count": 65,
     "metadata": {},
     "output_type": "execute_result"
    }
   ],
   "source": [
    "# Calculando por loop\n",
    "theta = np.zeros((n, 1))\n",
    "temp = theta\n",
    "h = hypothesis(X, theta)\n",
    "temp[0] = temp[0] - (alpha/m) * sum(h - y)\n",
    "for i in range(1, n):\n",
    "    temp[i] = temp[i] - (alpha/m) * X[:, i].dot((h-y))\n",
    "theta = temp[:]\n",
    "theta"
   ]
  },
  {
   "cell_type": "code",
   "execution_count": 66,
   "metadata": {
    "ExecuteTime": {
     "end_time": "2019-09-19T23:07:39.707454Z",
     "start_time": "2019-09-19T23:07:39.399863Z"
    }
   },
   "outputs": [],
   "source": [
    "# Implementando gradiente\n",
    "J_history = np.zeros((iterations, 1))\n",
    "for i in range(iterations):\n",
    "    h = hypothesis(X, theta) \n",
    "    temp[0] = temp[0] - (alpha/m) * sum(h - y)\n",
    "    for j in range(1, n):\n",
    "        temp[j] = temp[j] - (alpha/m) * X[:, j].dot((h-y))\n",
    "    theta = temp[:]\n",
    "    J_history[i] = costFunction(X, y, theta)"
   ]
  },
  {
   "cell_type": "code",
   "execution_count": 67,
   "metadata": {
    "ExecuteTime": {
     "end_time": "2019-09-19T23:07:39.718921Z",
     "start_time": "2019-09-19T23:07:39.711510Z"
    }
   },
   "outputs": [
    {
     "data": {
      "text/plain": [
       "array([2.04328269e+09])"
      ]
     },
     "execution_count": 67,
     "metadata": {},
     "output_type": "execute_result"
    }
   ],
   "source": [
    "# Verificando\n",
    "min(J_history)"
   ]
  },
  {
   "cell_type": "code",
   "execution_count": 68,
   "metadata": {
    "ExecuteTime": {
     "end_time": "2019-09-19T23:07:40.148789Z",
     "start_time": "2019-09-19T23:07:39.740749Z"
    }
   },
   "outputs": [
    {
     "data": {
      "text/plain": [
       "Text(0, 0.5, 'Custo')"
      ]
     },
     "execution_count": 68,
     "metadata": {},
     "output_type": "execute_result"
    },
    {
     "data": {
      "image/png": "[encoded data removed]",
      "text/plain": [
       "<Figure size 504x288 with 1 Axes>"
      ]
     },
     "metadata": {
      "needs_background": "light"
     },
     "output_type": "display_data"
    }
   ],
   "source": [
    "# Plotando\n",
    "fig = plt.figure(figsize=(7, 4))\n",
    "plt.plot(np.arange(iterations), J_history)\n",
    "plt.title('Função Custo Debug', size=14)\n",
    "plt.xlabel('Iterações', labelpad=12)\n",
    "plt.ylabel('Custo', labelpad=12)"
   ]
  },
  {
   "cell_type": "markdown",
   "metadata": {},
   "source": [
    "#### Learning Rate"
   ]
  },
  {
   "cell_type": "markdown",
   "metadata": {},
   "source": [
    "Nessa parte do exercício, vamos calcular o melhor learning rate para o problema de Regressão Linear. A decisão será baseada no custo mínimo encontrado para este parâmetro."
   ]
  },
  {
   "cell_type": "code",
   "execution_count": 69,
   "metadata": {
    "ExecuteTime": {
     "end_time": "2019-09-19T23:07:40.176560Z",
     "start_time": "2019-09-19T23:07:40.163449Z"
    }
   },
   "outputs": [
    {
     "name": "stdout",
     "output_type": "stream",
     "text": [
      "Help on built-in function arange in module numpy:\n",
      "\n",
      "arange(...)\n",
      "    arange([start,] stop[, step,], dtype=None)\n",
      "    \n",
      "    Return evenly spaced values within a given interval.\n",
      "    \n",
      "    Values are generated within the half-open interval ``[start, stop)``\n",
      "    (in other words, the interval including `start` but excluding `stop`).\n",
      "    For integer arguments the function is equivalent to the Python built-in\n",
      "    `range` function, but returns an ndarray rather than a list.\n",
      "    \n",
      "    When using a non-integer step, such as 0.1, the results will often not\n",
      "    be consistent.  It is better to use `numpy.linspace` for these cases.\n",
      "    \n",
      "    Parameters\n",
      "    ----------\n",
      "    start : number, optional\n",
      "        Start of interval.  The interval includes this value.  The default\n",
      "        start value is 0.\n",
      "    stop : number\n",
      "        End of interval.  The interval does not include this value, except\n",
      "        in some cases where `step` is not an integer and floating point\n",
      "        round-off affects the length of `out`.\n",
      "    step : number, optional\n",
      "        Spacing between values.  For any output `out`, this is the distance\n",
      "        between two adjacent values, ``out[i+1] - out[i]``.  The default\n",
      "        step size is 1.  If `step` is specified as a position argument,\n",
      "        `start` must also be given.\n",
      "    dtype : dtype\n",
      "        The type of the output array.  If `dtype` is not given, infer the data\n",
      "        type from the other input arguments.\n",
      "    \n",
      "    Returns\n",
      "    -------\n",
      "    arange : ndarray\n",
      "        Array of evenly spaced values.\n",
      "    \n",
      "        For floating point arguments, the length of the result is\n",
      "        ``ceil((stop - start)/step)``.  Because of floating point overflow,\n",
      "        this rule may result in the last element of `out` being greater\n",
      "        than `stop`.\n",
      "    \n",
      "    See Also\n",
      "    --------\n",
      "    linspace : Evenly spaced numbers with careful handling of endpoints.\n",
      "    ogrid: Arrays of evenly spaced numbers in N-dimensions.\n",
      "    mgrid: Grid-shaped arrays of evenly spaced numbers in N-dimensions.\n",
      "    \n",
      "    Examples\n",
      "    --------\n",
      "    >>> np.arange(3)\n",
      "    array([0, 1, 2])\n",
      "    >>> np.arange(3.0)\n",
      "    array([ 0.,  1.,  2.])\n",
      "    >>> np.arange(3,7)\n",
      "    array([3, 4, 5, 6])\n",
      "    >>> np.arange(3,7,2)\n",
      "    array([3, 5])\n",
      "\n"
     ]
    }
   ],
   "source": [
    "# Ajuda arange\n",
    "help(np.arange)"
   ]
  },
  {
   "cell_type": "code",
   "execution_count": 70,
   "metadata": {
    "ExecuteTime": {
     "end_time": "2019-09-19T23:07:40.196175Z",
     "start_time": "2019-09-19T23:07:40.181009Z"
    }
   },
   "outputs": [
    {
     "data": {
      "text/plain": [
       "array([0.01, 0.04, 0.07, 0.1 , 0.13, 0.16, 0.19, 0.22, 0.25, 0.28, 0.31,\n",
       "       0.34, 0.37, 0.4 , 0.43, 0.46, 0.49, 0.52, 0.55, 0.58, 0.61, 0.64,\n",
       "       0.67, 0.7 , 0.73, 0.76, 0.79, 0.82, 0.85, 0.88, 0.91, 0.94, 0.97,\n",
       "       1.  , 1.03, 1.06, 1.09, 1.12, 1.15, 1.18, 1.21, 1.24, 1.27, 1.3 ,\n",
       "       1.33, 1.36, 1.39, 1.42, 1.45, 1.48, 1.51, 1.54, 1.57, 1.6 , 1.63,\n",
       "       1.66, 1.69, 1.72, 1.75, 1.78, 1.81, 1.84, 1.87, 1.9 , 1.93, 1.96,\n",
       "       1.99, 2.02, 2.05, 2.08, 2.11, 2.14, 2.17, 2.2 , 2.23, 2.26, 2.29,\n",
       "       2.32, 2.35, 2.38, 2.41, 2.44, 2.47, 2.5 , 2.53, 2.56, 2.59, 2.62,\n",
       "       2.65, 2.68, 2.71, 2.74, 2.77, 2.8 , 2.83, 2.86, 2.89, 2.92, 2.95,\n",
       "       2.98])"
      ]
     },
     "execution_count": 70,
     "metadata": {},
     "output_type": "execute_result"
    }
   ],
   "source": [
    "# Lista de parâmetros alpha\n",
    "alpha = np.arange(.01, 3, .03)\n",
    "alpha"
   ]
  },
  {
   "cell_type": "code",
   "execution_count": 71,
   "metadata": {
    "ExecuteTime": {
     "end_time": "2019-09-19T23:08:03.884982Z",
     "start_time": "2019-09-19T23:07:40.198170Z"
    }
   },
   "outputs": [
    {
     "name": "stderr",
     "output_type": "stream",
     "text": [
      "C:\\Users\\thipa\\Anaconda3\\lib\\site-packages\\ipykernel_launcher.py:17: RuntimeWarning: overflow encountered in square\n"
     ]
    }
   ],
   "source": [
    "# Preparando gradiente\n",
    "[m, n] = X.shape\n",
    "iterations = 1500\n",
    "theta = np.zeros((n, 1))\n",
    "J_history = np.zeros((iterations))\n",
    "J_min = np.zeros((alpha.shape[0]))\n",
    "temp = theta\n",
    "\n",
    "# Loop do gradiente\n",
    "for a in alpha:\n",
    "    for i in range(iterations):\n",
    "        h = hypothesis(X, theta)\n",
    "        temp[0] = temp[0] - (a/m) * sum(h-y)\n",
    "        for j in range(1, n):\n",
    "            temp[j] = temp[j] - (a/m) * X[:, j].dot((h-y))\n",
    "        theta = temp[:]\n",
    "        J_history[i] = costFunction(X, y, theta)\n",
    "    J_min[np.where(alpha==a)[0][0]] = min(J_history)"
   ]
  },
  {
   "cell_type": "code",
   "execution_count": 72,
   "metadata": {
    "ExecuteTime": {
     "end_time": "2019-09-19T23:08:03.898279Z",
     "start_time": "2019-09-19T23:08:03.885493Z"
    }
   },
   "outputs": [
    {
     "data": {
      "text/plain": [
       "array([2.04328271e+009, 2.04328005e+009, 2.04328005e+009, 2.04328005e+009,\n",
       "       2.04328005e+009, 2.04328005e+009, 2.04328005e+009, 2.04328005e+009,\n",
       "       2.04328005e+009, 2.04328005e+009, 2.04328005e+009, 2.04328005e+009,\n",
       "       2.04328005e+009, 2.04328005e+009, 2.04328005e+009, 2.04328005e+009,\n",
       "       2.04328005e+009, 2.04328005e+009, 2.04328005e+009, 2.04328005e+009,\n",
       "       2.04328005e+009, 2.04328005e+009, 2.04328005e+009, 2.04328005e+009,\n",
       "       2.04328005e+009, 2.04328005e+009, 2.04328005e+009, 2.04328005e+009,\n",
       "       2.04328005e+009, 2.04328005e+009, 2.04328005e+009, 2.04328005e+009,\n",
       "       2.04328005e+009, 2.04328005e+009, 2.04328005e+009, 2.04328005e+009,\n",
       "       2.04328005e+009, 2.04328005e+009, 2.04328005e+009, 2.04328005e+009,\n",
       "       2.04328005e+009, 2.04328005e+009, 2.04328005e+009, 2.04328005e+009,\n",
       "       2.04328005e+009, 2.04328005e+009, 9.58260372e+128,             inf,\n",
       "                   inf,             nan,             nan,             nan,\n",
       "                   nan,             nan,             nan,             nan,\n",
       "                   nan,             nan,             nan,             nan,\n",
       "                   nan,             nan,             nan,             nan,\n",
       "                   nan,             nan,             nan,             nan,\n",
       "                   nan,             nan,             nan,             nan,\n",
       "                   nan,             nan,             nan,             nan,\n",
       "                   nan,             nan,             nan,             nan,\n",
       "                   nan,             nan,             nan,             nan,\n",
       "                   nan,             nan,             nan,             nan,\n",
       "                   nan,             nan,             nan,             nan,\n",
       "                   nan,             nan,             nan,             nan,\n",
       "                   nan,             nan,             nan,             nan])"
      ]
     },
     "execution_count": 72,
     "metadata": {},
     "output_type": "execute_result"
    }
   ],
   "source": [
    "# Vejamos os resultados\n",
    "J_min"
   ]
  },
  {
   "cell_type": "markdown",
   "metadata": {},
   "source": [
    "Claramente vemos o que diz a literatura: com um ```learning rate``` alto, o algoritmo tende a não convergir, escapando fora da curva convexa."
   ]
  },
  {
   "cell_type": "code",
   "execution_count": 73,
   "metadata": {
    "ExecuteTime": {
     "end_time": "2019-09-19T23:08:04.140632Z",
     "start_time": "2019-09-19T23:08:03.900000Z"
    }
   },
   "outputs": [
    {
     "data": {
      "image/png": "[encoded data removed]",
      "text/plain": [
       "<Figure size 504x288 with 1 Axes>"
      ]
     },
     "metadata": {
      "needs_background": "light"
     },
     "output_type": "display_data"
    }
   ],
   "source": [
    "# Plotando\n",
    "fig = plt.figure(figsize=(7, 4))\n",
    "plt.plot(alpha, J_min)\n",
    "plt.title('Função Custo Debug', size=14)\n",
    "plt.xlabel('Parâmetro alpha', labelpad=12)\n",
    "plt.ylabel('Custo', labelpad=12)\n",
    "plt.show()"
   ]
  },
  {
   "cell_type": "code",
   "execution_count": 74,
   "metadata": {
    "ExecuteTime": {
     "end_time": "2019-09-19T23:08:04.168476Z",
     "start_time": "2019-09-19T23:08:04.144632Z"
    }
   },
   "outputs": [
    {
     "name": "stderr",
     "output_type": "stream",
     "text": [
      "C:\\Users\\thipa\\Anaconda3\\lib\\site-packages\\ipykernel_launcher.py:2: RuntimeWarning: invalid value encountered in less\n",
      "  \n"
     ]
    },
    {
     "data": {
      "text/plain": [
       "1.39"
      ]
     },
     "execution_count": 74,
     "metadata": {},
     "output_type": "execute_result"
    }
   ],
   "source": [
    "# Verificando o learning rate antes do estouro\n",
    "J_min_filtered = J_min[J_min<10e128]\n",
    "index = np.where(J_min_filtered == J_min_filtered.max())[0][0]\n",
    "alpha[index]"
   ]
  },
  {
   "cell_type": "markdown",
   "metadata": {},
   "source": [
    "Fonte: [np.where()](https://thispointer.com/find-the-index-of-a-value-in-numpy-array/)"
   ]
  },
  {
   "cell_type": "code",
   "execution_count": 75,
   "metadata": {
    "ExecuteTime": {
     "end_time": "2019-09-19T23:08:04.185234Z",
     "start_time": "2019-09-19T23:08:04.171937Z"
    }
   },
   "outputs": [
    {
     "data": {
      "text/plain": [
       "array([0.   , 0.005, 0.01 , 0.015, 0.02 , 0.025, 0.03 , 0.035, 0.04 ,\n",
       "       0.045, 0.05 , 0.055, 0.06 , 0.065, 0.07 , 0.075, 0.08 , 0.085,\n",
       "       0.09 , 0.095, 0.1  , 0.105, 0.11 , 0.115, 0.12 , 0.125, 0.13 ,\n",
       "       0.135, 0.14 , 0.145, 0.15 , 0.155, 0.16 , 0.165, 0.17 , 0.175,\n",
       "       0.18 , 0.185, 0.19 , 0.195, 0.2  , 0.205, 0.21 , 0.215, 0.22 ,\n",
       "       0.225, 0.23 , 0.235, 0.24 , 0.245, 0.25 , 0.255, 0.26 , 0.265,\n",
       "       0.27 , 0.275, 0.28 , 0.285, 0.29 , 0.295, 0.3  , 0.305, 0.31 ,\n",
       "       0.315, 0.32 , 0.325, 0.33 , 0.335, 0.34 , 0.345, 0.35 , 0.355,\n",
       "       0.36 , 0.365, 0.37 , 0.375, 0.38 , 0.385, 0.39 , 0.395, 0.4  ,\n",
       "       0.405, 0.41 , 0.415, 0.42 , 0.425, 0.43 , 0.435, 0.44 , 0.445,\n",
       "       0.45 , 0.455, 0.46 , 0.465, 0.47 , 0.475, 0.48 , 0.485, 0.49 ,\n",
       "       0.495, 0.5  , 0.505, 0.51 , 0.515, 0.52 , 0.525, 0.53 , 0.535,\n",
       "       0.54 , 0.545, 0.55 , 0.555, 0.56 , 0.565, 0.57 , 0.575, 0.58 ,\n",
       "       0.585, 0.59 , 0.595, 0.6  , 0.605, 0.61 , 0.615, 0.62 , 0.625,\n",
       "       0.63 , 0.635, 0.64 , 0.645, 0.65 , 0.655, 0.66 , 0.665, 0.67 ,\n",
       "       0.675, 0.68 , 0.685, 0.69 , 0.695, 0.7  , 0.705, 0.71 , 0.715,\n",
       "       0.72 , 0.725, 0.73 , 0.735, 0.74 , 0.745, 0.75 , 0.755, 0.76 ,\n",
       "       0.765, 0.77 , 0.775, 0.78 , 0.785, 0.79 , 0.795, 0.8  , 0.805,\n",
       "       0.81 , 0.815, 0.82 , 0.825, 0.83 , 0.835, 0.84 , 0.845, 0.85 ,\n",
       "       0.855, 0.86 , 0.865, 0.87 , 0.875, 0.88 , 0.885, 0.89 , 0.895,\n",
       "       0.9  , 0.905, 0.91 , 0.915, 0.92 , 0.925, 0.93 , 0.935, 0.94 ,\n",
       "       0.945, 0.95 , 0.955, 0.96 , 0.965, 0.97 , 0.975, 0.98 , 0.985,\n",
       "       0.99 , 0.995])"
      ]
     },
     "execution_count": 75,
     "metadata": {},
     "output_type": "execute_result"
    }
   ],
   "source": [
    "# Vamos realizar um novo filtro para o parâmetro alpha\n",
    "alpha = np.arange(0, 1, 0.005)\n",
    "alpha"
   ]
  },
  {
   "cell_type": "code",
   "execution_count": 76,
   "metadata": {
    "ExecuteTime": {
     "end_time": "2019-09-19T23:08:50.254391Z",
     "start_time": "2019-09-19T23:08:04.189816Z"
    }
   },
   "outputs": [],
   "source": [
    "# Preparando gradiente\n",
    "[m, n] = X.shape\n",
    "iterations = 1500\n",
    "theta = np.zeros((n, 1))\n",
    "J_history = np.zeros((iterations))\n",
    "J_min = np.zeros((alpha.shape[0]))\n",
    "temp = theta\n",
    "\n",
    "# Loop do gradiente\n",
    "for a in alpha:\n",
    "    for i in range(iterations):\n",
    "        h = hypothesis(X, theta)\n",
    "        temp[0] = temp[0] - (a/m) * sum(h-y)\n",
    "        for j in range(1, n):\n",
    "            temp[j] = temp[j] - (a/m) * X[:, j].dot((h-y))\n",
    "        theta = temp[:]\n",
    "        J_history[i] = costFunction(X, y, theta)\n",
    "    J_min[np.where(alpha==a)[0][0]] = min(J_history)"
   ]
  },
  {
   "cell_type": "code",
   "execution_count": 77,
   "metadata": {
    "ExecuteTime": {
     "end_time": "2019-09-19T23:08:50.270078Z",
     "start_time": "2019-09-19T23:08:50.256987Z"
    }
   },
   "outputs": [
    {
     "data": {
      "text/plain": [
       "array([6.55915481e+10, 2.04529616e+09, 2.04328005e+09, 2.04328005e+09,\n",
       "       2.04328005e+09, 2.04328005e+09, 2.04328005e+09, 2.04328005e+09,\n",
       "       2.04328005e+09, 2.04328005e+09, 2.04328005e+09, 2.04328005e+09,\n",
       "       2.04328005e+09, 2.04328005e+09, 2.04328005e+09, 2.04328005e+09,\n",
       "       2.04328005e+09, 2.04328005e+09, 2.04328005e+09, 2.04328005e+09,\n",
       "       2.04328005e+09, 2.04328005e+09, 2.04328005e+09, 2.04328005e+09,\n",
       "       2.04328005e+09, 2.04328005e+09, 2.04328005e+09, 2.04328005e+09,\n",
       "       2.04328005e+09, 2.04328005e+09, 2.04328005e+09, 2.04328005e+09,\n",
       "       2.04328005e+09, 2.04328005e+09, 2.04328005e+09, 2.04328005e+09,\n",
       "       2.04328005e+09, 2.04328005e+09, 2.04328005e+09, 2.04328005e+09,\n",
       "       2.04328005e+09, 2.04328005e+09, 2.04328005e+09, 2.04328005e+09,\n",
       "       2.04328005e+09, 2.04328005e+09, 2.04328005e+09, 2.04328005e+09,\n",
       "       2.04328005e+09, 2.04328005e+09, 2.04328005e+09, 2.04328005e+09,\n",
       "       2.04328005e+09, 2.04328005e+09, 2.04328005e+09, 2.04328005e+09,\n",
       "       2.04328005e+09, 2.04328005e+09, 2.04328005e+09, 2.04328005e+09,\n",
       "       2.04328005e+09, 2.04328005e+09, 2.04328005e+09, 2.04328005e+09,\n",
       "       2.04328005e+09, 2.04328005e+09, 2.04328005e+09, 2.04328005e+09,\n",
       "       2.04328005e+09, 2.04328005e+09, 2.04328005e+09, 2.04328005e+09,\n",
       "       2.04328005e+09, 2.04328005e+09, 2.04328005e+09, 2.04328005e+09,\n",
       "       2.04328005e+09, 2.04328005e+09, 2.04328005e+09, 2.04328005e+09,\n",
       "       2.04328005e+09, 2.04328005e+09, 2.04328005e+09, 2.04328005e+09,\n",
       "       2.04328005e+09, 2.04328005e+09, 2.04328005e+09, 2.04328005e+09,\n",
       "       2.04328005e+09, 2.04328005e+09, 2.04328005e+09, 2.04328005e+09,\n",
       "       2.04328005e+09, 2.04328005e+09, 2.04328005e+09, 2.04328005e+09,\n",
       "       2.04328005e+09, 2.04328005e+09, 2.04328005e+09, 2.04328005e+09,\n",
       "       2.04328005e+09, 2.04328005e+09, 2.04328005e+09, 2.04328005e+09,\n",
       "       2.04328005e+09, 2.04328005e+09, 2.04328005e+09, 2.04328005e+09,\n",
       "       2.04328005e+09, 2.04328005e+09, 2.04328005e+09, 2.04328005e+09,\n",
       "       2.04328005e+09, 2.04328005e+09, 2.04328005e+09, 2.04328005e+09,\n",
       "       2.04328005e+09, 2.04328005e+09, 2.04328005e+09, 2.04328005e+09,\n",
       "       2.04328005e+09, 2.04328005e+09, 2.04328005e+09, 2.04328005e+09,\n",
       "       2.04328005e+09, 2.04328005e+09, 2.04328005e+09, 2.04328005e+09,\n",
       "       2.04328005e+09, 2.04328005e+09, 2.04328005e+09, 2.04328005e+09,\n",
       "       2.04328005e+09, 2.04328005e+09, 2.04328005e+09, 2.04328005e+09,\n",
       "       2.04328005e+09, 2.04328005e+09, 2.04328005e+09, 2.04328005e+09,\n",
       "       2.04328005e+09, 2.04328005e+09, 2.04328005e+09, 2.04328005e+09,\n",
       "       2.04328005e+09, 2.04328005e+09, 2.04328005e+09, 2.04328005e+09,\n",
       "       2.04328005e+09, 2.04328005e+09, 2.04328005e+09, 2.04328005e+09,\n",
       "       2.04328005e+09, 2.04328005e+09, 2.04328005e+09, 2.04328005e+09,\n",
       "       2.04328005e+09, 2.04328005e+09, 2.04328005e+09, 2.04328005e+09,\n",
       "       2.04328005e+09, 2.04328005e+09, 2.04328005e+09, 2.04328005e+09,\n",
       "       2.04328005e+09, 2.04328005e+09, 2.04328005e+09, 2.04328005e+09,\n",
       "       2.04328005e+09, 2.04328005e+09, 2.04328005e+09, 2.04328005e+09,\n",
       "       2.04328005e+09, 2.04328005e+09, 2.04328005e+09, 2.04328005e+09,\n",
       "       2.04328005e+09, 2.04328005e+09, 2.04328005e+09, 2.04328005e+09,\n",
       "       2.04328005e+09, 2.04328005e+09, 2.04328005e+09, 2.04328005e+09,\n",
       "       2.04328005e+09, 2.04328005e+09, 2.04328005e+09, 2.04328005e+09,\n",
       "       2.04328005e+09, 2.04328005e+09, 2.04328005e+09, 2.04328005e+09,\n",
       "       2.04328005e+09, 2.04328005e+09, 2.04328005e+09, 2.04328005e+09,\n",
       "       2.04328005e+09, 2.04328005e+09, 2.04328005e+09, 2.04328005e+09])"
      ]
     },
     "execution_count": 77,
     "metadata": {},
     "output_type": "execute_result"
    }
   ],
   "source": [
    "# Vejamos o resultado\n",
    "J_min"
   ]
  },
  {
   "cell_type": "markdown",
   "metadata": {},
   "source": [
    "O custo tende a ficar estável muito rápido. Não há necessidade de alongar muito o parâmetro alpha para este modelo. Vejamos uma apresentação gráfica."
   ]
  },
  {
   "cell_type": "code",
   "execution_count": 78,
   "metadata": {
    "ExecuteTime": {
     "end_time": "2019-09-19T23:08:50.505454Z",
     "start_time": "2019-09-19T23:08:50.275598Z"
    }
   },
   "outputs": [
    {
     "data": {
      "image/png": "[encoded data removed]",
      "text/plain": [
       "<Figure size 504x288 with 1 Axes>"
      ]
     },
     "metadata": {
      "needs_background": "light"
     },
     "output_type": "display_data"
    }
   ],
   "source": [
    "# Plotando\n",
    "fig = plt.figure(figsize=(7, 4))\n",
    "plt.plot(alpha, J_min)\n",
    "plt.title('Função Custo Debug', size=14)\n",
    "plt.xlabel('Parâmetro alpha', labelpad=12)\n",
    "plt.ylabel('Custo', labelpad=12)\n",
    "plt.show()"
   ]
  },
  {
   "cell_type": "markdown",
   "metadata": {},
   "source": [
    "Talvez repetindo o processo com um valor máximo de alpha menor e com um step maior, consigamos ver o comportamento"
   ]
  },
  {
   "cell_type": "code",
   "execution_count": 79,
   "metadata": {
    "ExecuteTime": {
     "end_time": "2019-09-19T23:08:50.521800Z",
     "start_time": "2019-09-19T23:08:50.507084Z"
    }
   },
   "outputs": [
    {
     "data": {
      "text/plain": [
       "array([0.    , 0.0001, 0.0002, 0.0003, 0.0004, 0.0005, 0.0006, 0.0007,\n",
       "       0.0008, 0.0009, 0.001 , 0.0011, 0.0012, 0.0013, 0.0014, 0.0015,\n",
       "       0.0016, 0.0017, 0.0018, 0.0019, 0.002 , 0.0021, 0.0022, 0.0023,\n",
       "       0.0024, 0.0025, 0.0026, 0.0027, 0.0028, 0.0029, 0.003 , 0.0031,\n",
       "       0.0032, 0.0033, 0.0034, 0.0035, 0.0036, 0.0037, 0.0038, 0.0039,\n",
       "       0.004 , 0.0041, 0.0042, 0.0043, 0.0044, 0.0045, 0.0046, 0.0047,\n",
       "       0.0048, 0.0049, 0.005 , 0.0051, 0.0052, 0.0053, 0.0054, 0.0055,\n",
       "       0.0056, 0.0057, 0.0058, 0.0059, 0.006 , 0.0061, 0.0062, 0.0063,\n",
       "       0.0064, 0.0065, 0.0066, 0.0067, 0.0068, 0.0069, 0.007 , 0.0071,\n",
       "       0.0072, 0.0073, 0.0074, 0.0075, 0.0076, 0.0077, 0.0078, 0.0079,\n",
       "       0.008 , 0.0081, 0.0082, 0.0083, 0.0084, 0.0085, 0.0086, 0.0087,\n",
       "       0.0088, 0.0089, 0.009 , 0.0091, 0.0092, 0.0093, 0.0094, 0.0095,\n",
       "       0.0096, 0.0097, 0.0098, 0.0099, 0.01  , 0.0101, 0.0102, 0.0103,\n",
       "       0.0104, 0.0105, 0.0106, 0.0107, 0.0108, 0.0109, 0.011 , 0.0111,\n",
       "       0.0112, 0.0113, 0.0114, 0.0115, 0.0116, 0.0117, 0.0118, 0.0119,\n",
       "       0.012 , 0.0121, 0.0122, 0.0123, 0.0124, 0.0125, 0.0126, 0.0127,\n",
       "       0.0128, 0.0129, 0.013 , 0.0131, 0.0132, 0.0133, 0.0134, 0.0135,\n",
       "       0.0136, 0.0137, 0.0138, 0.0139, 0.014 , 0.0141, 0.0142, 0.0143,\n",
       "       0.0144, 0.0145, 0.0146, 0.0147, 0.0148, 0.0149, 0.015 , 0.0151,\n",
       "       0.0152, 0.0153, 0.0154, 0.0155, 0.0156, 0.0157, 0.0158, 0.0159,\n",
       "       0.016 , 0.0161, 0.0162, 0.0163, 0.0164, 0.0165, 0.0166, 0.0167,\n",
       "       0.0168, 0.0169, 0.017 , 0.0171, 0.0172, 0.0173, 0.0174, 0.0175,\n",
       "       0.0176, 0.0177, 0.0178, 0.0179, 0.018 , 0.0181, 0.0182, 0.0183,\n",
       "       0.0184, 0.0185, 0.0186, 0.0187, 0.0188, 0.0189, 0.019 , 0.0191,\n",
       "       0.0192, 0.0193, 0.0194, 0.0195, 0.0196, 0.0197, 0.0198, 0.0199,\n",
       "       0.02  , 0.0201, 0.0202, 0.0203, 0.0204, 0.0205, 0.0206, 0.0207,\n",
       "       0.0208, 0.0209, 0.021 , 0.0211, 0.0212, 0.0213, 0.0214, 0.0215,\n",
       "       0.0216, 0.0217, 0.0218, 0.0219, 0.022 , 0.0221, 0.0222, 0.0223,\n",
       "       0.0224, 0.0225, 0.0226, 0.0227, 0.0228, 0.0229, 0.023 , 0.0231,\n",
       "       0.0232, 0.0233, 0.0234, 0.0235, 0.0236, 0.0237, 0.0238, 0.0239,\n",
       "       0.024 , 0.0241, 0.0242, 0.0243, 0.0244, 0.0245, 0.0246, 0.0247,\n",
       "       0.0248, 0.0249, 0.025 , 0.0251, 0.0252, 0.0253, 0.0254, 0.0255,\n",
       "       0.0256, 0.0257, 0.0258, 0.0259, 0.026 , 0.0261, 0.0262, 0.0263,\n",
       "       0.0264, 0.0265, 0.0266, 0.0267, 0.0268, 0.0269, 0.027 , 0.0271,\n",
       "       0.0272, 0.0273, 0.0274, 0.0275, 0.0276, 0.0277, 0.0278, 0.0279,\n",
       "       0.028 , 0.0281, 0.0282, 0.0283, 0.0284, 0.0285, 0.0286, 0.0287,\n",
       "       0.0288, 0.0289, 0.029 , 0.0291, 0.0292, 0.0293, 0.0294, 0.0295,\n",
       "       0.0296, 0.0297, 0.0298, 0.0299])"
      ]
     },
     "execution_count": 79,
     "metadata": {},
     "output_type": "execute_result"
    }
   ],
   "source": [
    "# Novo alpha\n",
    "alpha = np.arange(0, 0.03, 0.0001)\n",
    "alpha"
   ]
  },
  {
   "cell_type": "code",
   "execution_count": 80,
   "metadata": {
    "ExecuteTime": {
     "end_time": "2019-09-19T23:10:00.157586Z",
     "start_time": "2019-09-19T23:08:50.525604Z"
    }
   },
   "outputs": [
    {
     "data": {
      "image/png": "[encoded data removed]",
      "text/plain": [
       "<Figure size 504x288 with 1 Axes>"
      ]
     },
     "metadata": {
      "needs_background": "light"
     },
     "output_type": "display_data"
    }
   ],
   "source": [
    "# Agora vai\n",
    "[m, n] = X.shape\n",
    "iterations = 1500\n",
    "theta = np.zeros((n, 1))\n",
    "J_history = np.zeros((iterations))\n",
    "J_min = np.zeros((alpha.shape[0]))\n",
    "temp = theta\n",
    "\n",
    "# Loop do gradiente\n",
    "for a in alpha:\n",
    "    for i in range(iterations):\n",
    "        h = hypothesis(X, theta)\n",
    "        temp[0] = temp[0] - (a/m) * sum(h-y)\n",
    "        for j in range(1, n):\n",
    "            temp[j] = temp[j] - (a/m) * X[:, j].dot((h-y))\n",
    "        theta = temp[:]\n",
    "        J_history[i] = costFunction(X, y, theta)\n",
    "    J_min[np.where(alpha==a)[0][0]] = min(J_history)\n",
    "\n",
    "# Plotando\n",
    "fig = plt.figure(figsize=(7, 4))\n",
    "plt.plot(alpha, J_min)\n",
    "plt.title('Função Custo Debug', size=14)\n",
    "plt.xlabel('Parâmetro alpha', labelpad=12)\n",
    "plt.ylabel('Custo', labelpad=12)\n",
    "plt.show()"
   ]
  },
  {
   "cell_type": "markdown",
   "metadata": {},
   "source": [
    "#### Predizendo Dados"
   ]
  },
  {
   "cell_type": "markdown",
   "metadata": {
    "ExecuteTime": {
     "end_time": "2019-04-06T02:08:20.733864Z",
     "start_time": "2019-04-06T02:08:20.727874Z"
    }
   },
   "source": [
    "Bom, voltemos ao normal e vejamos algumas predições com um alpha pré definido."
   ]
  },
  {
   "cell_type": "code",
   "execution_count": 81,
   "metadata": {
    "ExecuteTime": {
     "end_time": "2019-09-19T23:10:00.412430Z",
     "start_time": "2019-09-19T23:10:00.157586Z"
    }
   },
   "outputs": [],
   "source": [
    "alpha = 0.03\n",
    "[m, n] = X.shape\n",
    "iterations = 1500\n",
    "theta = np.zeros((n, 1))\n",
    "J_history = np.zeros((iterations))\n",
    "temp = theta\n",
    "for i in range(iterations):\n",
    "    h = hypothesis(X, theta) \n",
    "    temp[0] = temp[0] - (alpha/m) * sum(h - y)\n",
    "    for j in range(1, n):\n",
    "        temp[j] = temp[j] - (alpha/m) * X[:, j].dot((h-y))\n",
    "    theta = temp[:]\n",
    "    J_history[i] = costFunction(X, y, theta)"
   ]
  },
  {
   "cell_type": "code",
   "execution_count": 82,
   "metadata": {
    "ExecuteTime": {
     "end_time": "2019-09-19T23:10:00.421312Z",
     "start_time": "2019-09-19T23:10:00.412430Z"
    }
   },
   "outputs": [
    {
     "data": {
      "text/plain": [
       "array([[340412.65957447],\n",
       "       [109447.79634183],\n",
       "       [ -6578.35472634]])"
      ]
     },
     "execution_count": 82,
     "metadata": {},
     "output_type": "execute_result"
    }
   ],
   "source": [
    "# Melhores parâmetros\n",
    "theta"
   ]
  },
  {
   "cell_type": "code",
   "execution_count": 83,
   "metadata": {
    "ExecuteTime": {
     "end_time": "2019-09-19T23:10:00.433290Z",
     "start_time": "2019-09-19T23:10:00.423352Z"
    }
   },
   "outputs": [
    {
     "data": {
      "text/plain": [
       "array([1.80909542e+08])"
      ]
     },
     "execution_count": 83,
     "metadata": {},
     "output_type": "execute_result"
    }
   ],
   "source": [
    "# Previsão para uma casa de 1650 pés quadrados e 3 quartos\n",
    "X_teste = np.array([1, 1650, 3])\n",
    "h = hypothesis(X_teste, theta)\n",
    "h"
   ]
  },
  {
   "cell_type": "markdown",
   "metadata": {
    "ExecuteTime": {
     "end_time": "2019-04-06T02:13:20.139714Z",
     "start_time": "2019-04-06T02:13:20.132399Z"
    }
   },
   "source": [
    "Deu uma resposta substâncialmente inesperada. Motivo: ```normalização```. Precisamos resgatar os valores da média e desvio padrão de cada uma das features. Teremos que ler novamente o arquivo."
   ]
  },
  {
   "cell_type": "code",
   "execution_count": 84,
   "metadata": {
    "ExecuteTime": {
     "end_time": "2019-09-19T23:10:00.455170Z",
     "start_time": "2019-09-19T23:10:00.439123Z"
    }
   },
   "outputs": [
    {
     "data": {
      "text/plain": [
       "array([[2.104e+03, 3.000e+00, 3.999e+05],\n",
       "       [1.600e+03, 3.000e+00, 3.299e+05],\n",
       "       [2.400e+03, 3.000e+00, 3.690e+05],\n",
       "       [1.416e+03, 2.000e+00, 2.320e+05],\n",
       "       [3.000e+03, 4.000e+00, 5.399e+05]])"
      ]
     },
     "execution_count": 84,
     "metadata": {},
     "output_type": "execute_result"
    }
   ],
   "source": [
    "# Lendo novamente os dados\n",
    "dataset = np.loadtxt('ex1data2.txt', delimiter=',')\n",
    "dataset[:5]"
   ]
  },
  {
   "cell_type": "code",
   "execution_count": 85,
   "metadata": {
    "ExecuteTime": {
     "end_time": "2019-09-19T23:10:00.476385Z",
     "start_time": "2019-09-19T23:10:00.459758Z"
    }
   },
   "outputs": [
    {
     "data": {
      "text/plain": [
       "array([ 1.        , -0.44604386, -1.21098897])"
      ]
     },
     "execution_count": 85,
     "metadata": {},
     "output_type": "execute_result"
    }
   ],
   "source": [
    "# Recuperando cálculos\n",
    "media_size = dataset[:, 0].mean()\n",
    "media_bed = dataset[:, 1].mean()\n",
    "\n",
    "desv_size = dataset[:, 0].std()\n",
    "desv_bed = dataset[:, 1].std()\n",
    "\n",
    "# Normalizando X_teste\n",
    "X_teste_norm = np.zeros((3))\n",
    "\n",
    "X_teste_norm[0] = 1\n",
    "X_teste_norm[1] = (X_teste[1] - media_size) / desv_size\n",
    "X_teste_norm[2] = (X_teste[2] - media_bed / desv_bed)\n",
    "X_teste_norm"
   ]
  },
  {
   "cell_type": "code",
   "execution_count": 86,
   "metadata": {
    "ExecuteTime": {
     "end_time": "2019-09-19T23:10:00.491204Z",
     "start_time": "2019-09-19T23:10:00.478924Z"
    }
   },
   "outputs": [
    {
     "data": {
      "text/plain": [
       "array([299560.45701162])"
      ]
     },
     "execution_count": 86,
     "metadata": {},
     "output_type": "execute_result"
    }
   ],
   "source": [
    "# Vamos agora predizer o preço dessa casa\n",
    "h = hypothesis(X_teste_norm, theta)\n",
    "h"
   ]
  },
  {
   "cell_type": "markdown",
   "metadata": {},
   "source": [
    "Antes de dar continuidade no exercício, vamos separar os valores encontrados até o momento."
   ]
  },
  {
   "cell_type": "code",
   "execution_count": 87,
   "metadata": {
    "ExecuteTime": {
     "end_time": "2019-09-19T23:10:00.502294Z",
     "start_time": "2019-09-19T23:10:00.492200Z"
    }
   },
   "outputs": [],
   "source": [
    "# Separando valores\n",
    "theta_octave = np.array([340412.659574, 110631.050279, -6649.474271])\n",
    "theta_python = theta\n",
    "pred_octave = 293081.464335\n",
    "pred_python = h\n",
    "J_min_octave = 2043280050.60283\n",
    "J_min_python = min(J_history)"
   ]
  },
  {
   "cell_type": "markdown",
   "metadata": {},
   "source": [
    "## Scikit Learn"
   ]
  },
  {
   "cell_type": "markdown",
   "metadata": {},
   "source": [
    "Nessa etapa, vamos realizar o mesmo treinamento utilizando agora as funcionalidades do ```scikit-learn```. A ideia é mostrar o quão fácil e dinâmico é trabalhar com as bibliotecas do Python para treinamento e implementação de modelos de Machine Learning.\n",
    "\n",
    "Vamos utilizar o problema de Regressão Linear com Multivariáveis da parte 2 do exercício, comparando os valores obtidos nos coeficientes."
   ]
  },
  {
   "cell_type": "code",
   "execution_count": 88,
   "metadata": {
    "ExecuteTime": {
     "end_time": "2019-09-19T23:10:24.303384Z",
     "start_time": "2019-09-19T23:10:00.504904Z"
    }
   },
   "outputs": [
    {
     "data": {
      "text/html": [
       "<div>\n",
       "<style scoped>\n",
       "    .dataframe tbody tr th:only-of-type {\n",
       "        vertical-align: middle;\n",
       "    }\n",
       "\n",
       "    .dataframe tbody tr th {\n",
       "        vertical-align: top;\n",
       "    }\n",
       "\n",
       "    .dataframe thead th {\n",
       "        text-align: right;\n",
       "    }\n",
       "</style>\n",
       "<table border=\"1\" class=\"dataframe\">\n",
       "  <thead>\n",
       "    <tr style=\"text-align: right;\">\n",
       "      <th></th>\n",
       "      <th>size</th>\n",
       "      <th>bedrooms</th>\n",
       "      <th>price</th>\n",
       "    </tr>\n",
       "  </thead>\n",
       "  <tbody>\n",
       "    <tr>\n",
       "      <th>0</th>\n",
       "      <td>2104</td>\n",
       "      <td>3</td>\n",
       "      <td>399900</td>\n",
       "    </tr>\n",
       "    <tr>\n",
       "      <th>1</th>\n",
       "      <td>1600</td>\n",
       "      <td>3</td>\n",
       "      <td>329900</td>\n",
       "    </tr>\n",
       "    <tr>\n",
       "      <th>2</th>\n",
       "      <td>2400</td>\n",
       "      <td>3</td>\n",
       "      <td>369000</td>\n",
       "    </tr>\n",
       "    <tr>\n",
       "      <th>3</th>\n",
       "      <td>1416</td>\n",
       "      <td>2</td>\n",
       "      <td>232000</td>\n",
       "    </tr>\n",
       "    <tr>\n",
       "      <th>4</th>\n",
       "      <td>3000</td>\n",
       "      <td>4</td>\n",
       "      <td>539900</td>\n",
       "    </tr>\n",
       "  </tbody>\n",
       "</table>\n",
       "</div>"
      ],
      "text/plain": [
       "   size  bedrooms   price\n",
       "0  2104         3  399900\n",
       "1  1600         3  329900\n",
       "2  2400         3  369000\n",
       "3  1416         2  232000\n",
       "4  3000         4  539900"
      ]
     },
     "execution_count": 88,
     "metadata": {},
     "output_type": "execute_result"
    }
   ],
   "source": [
    "# Importando bibliotecas e lendo dados\n",
    "import pandas as pd\n",
    "\n",
    "data = pd.read_csv('ex1data2.txt', names=['size', 'bedrooms', 'price'])\n",
    "data.head()"
   ]
  },
  {
   "cell_type": "code",
   "execution_count": 89,
   "metadata": {
    "ExecuteTime": {
     "end_time": "2019-09-19T23:10:24.313228Z",
     "start_time": "2019-09-19T23:10:24.307877Z"
    }
   },
   "outputs": [
    {
     "name": "stdout",
     "output_type": "stream",
     "text": [
      "O dataset possui: 47 linhas e 3 colunas.\n"
     ]
    }
   ],
   "source": [
    "# Retirando informações do dataset\n",
    "print(f'O dataset possui: {data.shape[0]} linhas e {data.shape[1]} colunas.')"
   ]
  },
  {
   "cell_type": "code",
   "execution_count": 90,
   "metadata": {
    "ExecuteTime": {
     "end_time": "2019-09-19T23:10:24.337478Z",
     "start_time": "2019-09-19T23:10:24.315955Z"
    }
   },
   "outputs": [
    {
     "data": {
      "text/plain": [
       "size        False\n",
       "bedrooms    False\n",
       "price       False\n",
       "dtype: bool"
      ]
     },
     "execution_count": 90,
     "metadata": {},
     "output_type": "execute_result"
    }
   ],
   "source": [
    "# Dados nulos\n",
    "data.isnull().any()"
   ]
  },
  {
   "cell_type": "code",
   "execution_count": 91,
   "metadata": {
    "ExecuteTime": {
     "end_time": "2019-09-19T23:10:24.384876Z",
     "start_time": "2019-09-19T23:10:24.341820Z"
    }
   },
   "outputs": [
    {
     "data": {
      "text/html": [
       "<div>\n",
       "<style scoped>\n",
       "    .dataframe tbody tr th:only-of-type {\n",
       "        vertical-align: middle;\n",
       "    }\n",
       "\n",
       "    .dataframe tbody tr th {\n",
       "        vertical-align: top;\n",
       "    }\n",
       "\n",
       "    .dataframe thead th {\n",
       "        text-align: right;\n",
       "    }\n",
       "</style>\n",
       "<table border=\"1\" class=\"dataframe\">\n",
       "  <thead>\n",
       "    <tr style=\"text-align: right;\">\n",
       "      <th></th>\n",
       "      <th>size</th>\n",
       "      <th>bedrooms</th>\n",
       "      <th>price</th>\n",
       "    </tr>\n",
       "  </thead>\n",
       "  <tbody>\n",
       "    <tr>\n",
       "      <th>count</th>\n",
       "      <td>47.000000</td>\n",
       "      <td>47.000000</td>\n",
       "      <td>47.000000</td>\n",
       "    </tr>\n",
       "    <tr>\n",
       "      <th>mean</th>\n",
       "      <td>2000.680851</td>\n",
       "      <td>3.170213</td>\n",
       "      <td>340412.659574</td>\n",
       "    </tr>\n",
       "    <tr>\n",
       "      <th>std</th>\n",
       "      <td>794.702354</td>\n",
       "      <td>0.760982</td>\n",
       "      <td>125039.899586</td>\n",
       "    </tr>\n",
       "    <tr>\n",
       "      <th>min</th>\n",
       "      <td>852.000000</td>\n",
       "      <td>1.000000</td>\n",
       "      <td>169900.000000</td>\n",
       "    </tr>\n",
       "    <tr>\n",
       "      <th>25%</th>\n",
       "      <td>1432.000000</td>\n",
       "      <td>3.000000</td>\n",
       "      <td>249900.000000</td>\n",
       "    </tr>\n",
       "    <tr>\n",
       "      <th>50%</th>\n",
       "      <td>1888.000000</td>\n",
       "      <td>3.000000</td>\n",
       "      <td>299900.000000</td>\n",
       "    </tr>\n",
       "    <tr>\n",
       "      <th>75%</th>\n",
       "      <td>2269.000000</td>\n",
       "      <td>4.000000</td>\n",
       "      <td>384450.000000</td>\n",
       "    </tr>\n",
       "    <tr>\n",
       "      <th>max</th>\n",
       "      <td>4478.000000</td>\n",
       "      <td>5.000000</td>\n",
       "      <td>699900.000000</td>\n",
       "    </tr>\n",
       "  </tbody>\n",
       "</table>\n",
       "</div>"
      ],
      "text/plain": [
       "              size   bedrooms          price\n",
       "count    47.000000  47.000000      47.000000\n",
       "mean   2000.680851   3.170213  340412.659574\n",
       "std     794.702354   0.760982  125039.899586\n",
       "min     852.000000   1.000000  169900.000000\n",
       "25%    1432.000000   3.000000  249900.000000\n",
       "50%    1888.000000   3.000000  299900.000000\n",
       "75%    2269.000000   4.000000  384450.000000\n",
       "max    4478.000000   5.000000  699900.000000"
      ]
     },
     "execution_count": 91,
     "metadata": {},
     "output_type": "execute_result"
    }
   ],
   "source": [
    "# Estatística descritiva\n",
    "data.describe()"
   ]
  },
  {
   "cell_type": "markdown",
   "metadata": {},
   "source": [
    "Através do método ```describe()``` do pandas, é possível perceber a discrepância entre os ranges das features."
   ]
  },
  {
   "cell_type": "code",
   "execution_count": 92,
   "metadata": {
    "ExecuteTime": {
     "end_time": "2019-09-19T23:10:24.397133Z",
     "start_time": "2019-09-19T23:10:24.388653Z"
    }
   },
   "outputs": [
    {
     "data": {
      "text/plain": [
       "size        int64\n",
       "bedrooms    int64\n",
       "price       int64\n",
       "dtype: object"
      ]
     },
     "execution_count": 92,
     "metadata": {},
     "output_type": "execute_result"
    }
   ],
   "source": [
    "# Dados primitivos\n",
    "data.dtypes"
   ]
  },
  {
   "cell_type": "markdown",
   "metadata": {},
   "source": [
    "### Treinando um Modelo"
   ]
  },
  {
   "cell_type": "markdown",
   "metadata": {},
   "source": [
    "Como a quantidade de dados disposta é muito baixa e, considerando finalidades didáticas, não vamos separar os dados em conjuntos de treino e teste. Ao invés disso, vamos realizar o treinamento e medir a performance do modelo utilizando apenas o conjunto de treino."
   ]
  },
  {
   "cell_type": "code",
   "execution_count": 93,
   "metadata": {
    "ExecuteTime": {
     "end_time": "2019-09-19T23:10:24.409632Z",
     "start_time": "2019-09-19T23:10:24.400256Z"
    }
   },
   "outputs": [],
   "source": [
    "# Organizando dados\n",
    "X = data.iloc[:, :2]\n",
    "y = data.iloc[:, -1]"
   ]
  },
  {
   "cell_type": "code",
   "execution_count": 94,
   "metadata": {
    "ExecuteTime": {
     "end_time": "2019-09-19T23:10:24.429682Z",
     "start_time": "2019-09-19T23:10:24.412624Z"
    }
   },
   "outputs": [
    {
     "data": {
      "text/html": [
       "<div>\n",
       "<style scoped>\n",
       "    .dataframe tbody tr th:only-of-type {\n",
       "        vertical-align: middle;\n",
       "    }\n",
       "\n",
       "    .dataframe tbody tr th {\n",
       "        vertical-align: top;\n",
       "    }\n",
       "\n",
       "    .dataframe thead th {\n",
       "        text-align: right;\n",
       "    }\n",
       "</style>\n",
       "<table border=\"1\" class=\"dataframe\">\n",
       "  <thead>\n",
       "    <tr style=\"text-align: right;\">\n",
       "      <th></th>\n",
       "      <th>size</th>\n",
       "      <th>bedrooms</th>\n",
       "    </tr>\n",
       "  </thead>\n",
       "  <tbody>\n",
       "    <tr>\n",
       "      <th>0</th>\n",
       "      <td>2104</td>\n",
       "      <td>3</td>\n",
       "    </tr>\n",
       "    <tr>\n",
       "      <th>1</th>\n",
       "      <td>1600</td>\n",
       "      <td>3</td>\n",
       "    </tr>\n",
       "    <tr>\n",
       "      <th>2</th>\n",
       "      <td>2400</td>\n",
       "      <td>3</td>\n",
       "    </tr>\n",
       "    <tr>\n",
       "      <th>3</th>\n",
       "      <td>1416</td>\n",
       "      <td>2</td>\n",
       "    </tr>\n",
       "    <tr>\n",
       "      <th>4</th>\n",
       "      <td>3000</td>\n",
       "      <td>4</td>\n",
       "    </tr>\n",
       "  </tbody>\n",
       "</table>\n",
       "</div>"
      ],
      "text/plain": [
       "   size  bedrooms\n",
       "0  2104         3\n",
       "1  1600         3\n",
       "2  2400         3\n",
       "3  1416         2\n",
       "4  3000         4"
      ]
     },
     "execution_count": 94,
     "metadata": {},
     "output_type": "execute_result"
    }
   ],
   "source": [
    "# Verificando\n",
    "X.head()"
   ]
  },
  {
   "cell_type": "code",
   "execution_count": 95,
   "metadata": {
    "ExecuteTime": {
     "end_time": "2019-09-19T23:10:24.442759Z",
     "start_time": "2019-09-19T23:10:24.431678Z"
    }
   },
   "outputs": [
    {
     "data": {
      "text/plain": [
       "0    399900\n",
       "1    329900\n",
       "2    369000\n",
       "3    232000\n",
       "4    539900\n",
       "Name: price, dtype: int64"
      ]
     },
     "execution_count": 95,
     "metadata": {},
     "output_type": "execute_result"
    }
   ],
   "source": [
    "# Verificando\n",
    "y.head()"
   ]
  },
  {
   "cell_type": "code",
   "execution_count": 96,
   "metadata": {
    "ExecuteTime": {
     "end_time": "2019-09-19T23:10:56.333230Z",
     "start_time": "2019-09-19T23:10:24.446976Z"
    }
   },
   "outputs": [],
   "source": [
    "# Importando biblioteca\n",
    "from sklearn.linear_model import LinearRegression"
   ]
  },
  {
   "cell_type": "code",
   "execution_count": 97,
   "metadata": {
    "ExecuteTime": {
     "end_time": "2019-09-19T23:10:56.381927Z",
     "start_time": "2019-09-19T23:10:56.338328Z"
    }
   },
   "outputs": [
    {
     "data": {
      "text/plain": [
       "LinearRegression(copy_X=True, fit_intercept=True, n_jobs=None, normalize=False)"
      ]
     },
     "execution_count": 97,
     "metadata": {},
     "output_type": "execute_result"
    }
   ],
   "source": [
    "# Treinando modelo (sem normalização)\n",
    "lin_reg = LinearRegression()\n",
    "lin_reg.fit(X, y)"
   ]
  },
  {
   "cell_type": "markdown",
   "metadata": {},
   "source": [
    "Parâmetros da Regressão Linear do scikit: [scikit.linear_model.LinearRegression](https://scikit-learn.org/stable/modules/generated/sklearn.linear_model.LinearRegression.html)"
   ]
  },
  {
   "cell_type": "code",
   "execution_count": 98,
   "metadata": {
    "ExecuteTime": {
     "end_time": "2019-09-19T23:10:56.398816Z",
     "start_time": "2019-09-19T23:10:56.386333Z"
    }
   },
   "outputs": [
    {
     "data": {
      "text/plain": [
       "array([  139.21067402, -8738.01911233])"
      ]
     },
     "execution_count": 98,
     "metadata": {},
     "output_type": "execute_result"
    }
   ],
   "source": [
    "# Vamos reteornar alguns parâmetros\n",
    "lin_reg.coef_"
   ]
  },
  {
   "cell_type": "markdown",
   "metadata": {},
   "source": [
    "Estes seriam os parâmetros theta1 e theta2. Veja que diferença!"
   ]
  },
  {
   "cell_type": "code",
   "execution_count": 99,
   "metadata": {
    "ExecuteTime": {
     "end_time": "2019-09-19T23:10:56.413672Z",
     "start_time": "2019-09-19T23:10:56.401692Z"
    }
   },
   "outputs": [
    {
     "data": {
      "text/plain": [
       "89597.90954279748"
      ]
     },
     "execution_count": 99,
     "metadata": {},
     "output_type": "execute_result"
    }
   ],
   "source": [
    "# Intercepto\n",
    "lin_reg.intercept_"
   ]
  },
  {
   "cell_type": "code",
   "execution_count": 100,
   "metadata": {
    "ExecuteTime": {
     "end_time": "2019-09-19T23:10:56.429694Z",
     "start_time": "2019-09-19T23:10:56.417631Z"
    }
   },
   "outputs": [
    {
     "name": "stdout",
     "output_type": "stream",
     "text": [
      "Parâmetros obtidos no Octave: [340412.659574 110631.050279  -6649.474271]\n",
      "Parâmetros obtidos com NumPy: [[340412.65957447 109447.79634183  -6578.35472634]]\n",
      "Parâmetros obtidos no Scikit-Learn: [  139.21067402 -8738.01911233] 89597.90954279748\n"
     ]
    }
   ],
   "source": [
    "# Comparando valores\n",
    "print(f'Parâmetros obtidos no Octave: {theta_octave}')\n",
    "print(f'Parâmetros obtidos com NumPy: {theta_python.reshape(1, 3)}')\n",
    "print(f'Parâmetros obtidos no Scikit-Learn: {lin_reg.coef_} {lin_reg.intercept_}')"
   ]
  },
  {
   "cell_type": "markdown",
   "metadata": {},
   "source": [
    "De cara já é possível perceber que algo deu errado com o treinamento utilizando o Scikit-learn. Muito provavalmente a normalização dos dados influenciou nos resultados. Vamos predizer um preço para comparar."
   ]
  },
  {
   "cell_type": "code",
   "execution_count": 101,
   "metadata": {
    "ExecuteTime": {
     "end_time": "2019-09-19T23:10:56.448781Z",
     "start_time": "2019-09-19T23:10:56.436942Z"
    }
   },
   "outputs": [
    {
     "data": {
      "text/plain": [
       "array([293081.4643349])"
      ]
     },
     "execution_count": 101,
     "metadata": {},
     "output_type": "execute_result"
    }
   ],
   "source": [
    "# Predizendo preços\n",
    "X_test = np.array([[1650, 3]])\n",
    "lin_reg.predict(X_test)"
   ]
  },
  {
   "cell_type": "code",
   "execution_count": 102,
   "metadata": {
    "ExecuteTime": {
     "end_time": "2019-09-19T23:10:56.462192Z",
     "start_time": "2019-09-19T23:10:56.454072Z"
    }
   },
   "outputs": [
    {
     "name": "stdout",
     "output_type": "stream",
     "text": [
      "Predição obtida com Octave: 293081.464335\n",
      "Predição obtida com NumPy: [299560.45701162]\n",
      "Predição obtida com Scikit-Learn: [293081.4643349]\n"
     ]
    }
   ],
   "source": [
    "# Comparando\n",
    "print(f'Predição obtida com Octave: {pred_octave}')\n",
    "print(f'Predição obtida com NumPy: {pred_python}')\n",
    "print(f'Predição obtida com Scikit-Learn: {lin_reg.predict(X_test)}')"
   ]
  },
  {
   "cell_type": "markdown",
   "metadata": {},
   "source": [
    "Incrivelmente parecidas. Seria coincidência? A curva linear obtida pelo scikit é substancialmente diferente. Como seria possível obter os mesmos valores na predição?"
   ]
  },
  {
   "cell_type": "markdown",
   "metadata": {},
   "source": [
    "__Resposta__: Normalização.\n",
    "\n",
    "Os coeficientes obtidos foram distantes pois, graficamente, os valores não normalizados estão dispostos de formas totalmente diferentes, fazendo assim com que a reta que se enquadra nos dados possua coeficientes totalmente diferentes, o que não significa que o modelo errou, apenas que os cálculos foram realizados utilizando fontes diferentes.\n",
    "\n",
    "Vamos normalizar os dados e verificar se obtemos os mesmos coeficientes."
   ]
  },
  {
   "cell_type": "markdown",
   "metadata": {
    "ExecuteTime": {
     "end_time": "2019-04-06T15:12:20.889512Z",
     "start_time": "2019-04-06T15:12:20.882556Z"
    }
   },
   "source": [
    "### Normalizando "
   ]
  },
  {
   "cell_type": "code",
   "execution_count": 103,
   "metadata": {
    "ExecuteTime": {
     "end_time": "2019-09-19T23:10:56.470263Z",
     "start_time": "2019-09-19T23:10:56.466014Z"
    }
   },
   "outputs": [],
   "source": [
    "# Importando biblioteca\n",
    "from sklearn.preprocessing import StandardScaler"
   ]
  },
  {
   "cell_type": "code",
   "execution_count": 104,
   "metadata": {
    "ExecuteTime": {
     "end_time": "2019-09-19T23:10:56.489550Z",
     "start_time": "2019-09-19T23:10:56.473652Z"
    }
   },
   "outputs": [
    {
     "data": {
      "text/plain": [
       "array([[ 0.13141542, -0.22609337],\n",
       "       [-0.5096407 , -0.22609337],\n",
       "       [ 0.5079087 , -0.22609337],\n",
       "       [-0.74367706, -1.5543919 ],\n",
       "       [ 1.27107075,  1.10220517]])"
      ]
     },
     "execution_count": 104,
     "metadata": {},
     "output_type": "execute_result"
    }
   ],
   "source": [
    "# Normalizando dados\n",
    "scaler = StandardScaler()\n",
    "X_norm = scaler.fit_transform(X)\n",
    "\n",
    "# Verificando\n",
    "X_norm[:5]"
   ]
  },
  {
   "cell_type": "code",
   "execution_count": 105,
   "metadata": {
    "ExecuteTime": {
     "end_time": "2019-09-19T23:10:56.503080Z",
     "start_time": "2019-09-19T23:10:56.491546Z"
    }
   },
   "outputs": [
    {
     "data": {
      "text/plain": [
       "LinearRegression(copy_X=True, fit_intercept=True, n_jobs=None, normalize=False)"
      ]
     },
     "execution_count": 105,
     "metadata": {},
     "output_type": "execute_result"
    }
   ],
   "source": [
    "# Realizando um novo treinamento\n",
    "lin_reg_norm = LinearRegression()\n",
    "lin_reg_norm.fit(X_norm, y)"
   ]
  },
  {
   "cell_type": "code",
   "execution_count": 106,
   "metadata": {
    "ExecuteTime": {
     "end_time": "2019-09-19T23:10:56.519226Z",
     "start_time": "2019-09-19T23:10:56.506650Z"
    }
   },
   "outputs": [
    {
     "name": "stdout",
     "output_type": "stream",
     "text": [
      "Parâmetros obtidos no Octave: [340412.659574 110631.050279  -6649.474271]\n",
      "Parâmetros obtidos com NumPy: [[340412.65957447 109447.79634183  -6578.35472634]]\n",
      "Parâmetros obtidos no sklearn: [  139.21067402 -8738.01911233] 89597.90954279748\n",
      "Parâmetros obtidos pós normalização: [109447.79646964  -6578.35485416] 340412.6595744681\n"
     ]
    }
   ],
   "source": [
    "# Comparando parâmetros\n",
    "print(f'Parâmetros obtidos no Octave: {theta_octave}')\n",
    "print(f'Parâmetros obtidos com NumPy: {theta_python.reshape(1, 3)}')\n",
    "print(f'Parâmetros obtidos no sklearn: {lin_reg.coef_} {lin_reg.intercept_}')\n",
    "print(f'Parâmetros obtidos pós normalização: {lin_reg_norm.coef_} {lin_reg_norm.intercept_}')"
   ]
  },
  {
   "cell_type": "markdown",
   "metadata": {},
   "source": [
    "Ainda difere. Vamos verificar a predição."
   ]
  },
  {
   "cell_type": "code",
   "execution_count": 107,
   "metadata": {
    "ExecuteTime": {
     "end_time": "2019-09-19T23:10:56.538396Z",
     "start_time": "2019-09-19T23:10:56.524162Z"
    }
   },
   "outputs": [
    {
     "data": {
      "text/plain": [
       "array([ 91591.81213934,  91502.57028484,  91644.22402214, 103076.68790677,\n",
       "        80143.7663436 ,  79964.04316441,  91490.88385152,  91471.93766415,\n",
       "        91463.61550709,  91483.80116465,  79956.07514169,  91573.39715349,\n",
       "        91553.91976461,  68798.77364175,  91443.78398387,  80019.81932347,\n",
       "       103059.68945829,  91438.11783438,  80074.5330795 ,  80149.25542592,\n",
       "        91532.1405025 , 103160.26361177,  91503.27855353,  79959.97061946,\n",
       "        91908.05410784,  91414.03669904,  91477.42674647,  91666.53448576,\n",
       "        91608.81058781,  91686.18894181, 103151.58732036, 114609.72594488,\n",
       "        79973.78185885,  91774.72252762,  79933.23347655,  91473.70833587,\n",
       "        91438.64903589,  79990.07203864,  80358.90295711,  79995.38405379,\n",
       "       103120.60056533,  91615.53914033,  80067.09625829,  91431.7434162 ,\n",
       "       102976.82202198,  79940.49323059,  91432.27461771])"
      ]
     },
     "execution_count": 107,
     "metadata": {},
     "output_type": "execute_result"
    }
   ],
   "source": [
    "# Predizendo com a normalização feita lá atrás\n",
    "pred = lin_reg.predict(X_norm)\n",
    "pred"
   ]
  },
  {
   "cell_type": "code",
   "execution_count": 108,
   "metadata": {
    "ExecuteTime": {
     "end_time": "2019-09-19T23:10:56.554907Z",
     "start_time": "2019-09-19T23:10:56.543847Z"
    }
   },
   "outputs": [
    {
     "name": "stdout",
     "output_type": "stream",
     "text": [
      "Predição obtida com Octave: 293081.464335\n",
      "Predição obtida com NumPy: [299560.45701162]\n",
      "Predição obtida com Scikit-Learn: [293081.4643349]\n",
      "Predição obtida após normalização: [ 91591.81213934  91502.57028484  91644.22402214 103076.68790677\n",
      "  80143.7663436   79964.04316441  91490.88385152  91471.93766415\n",
      "  91463.61550709  91483.80116465  79956.07514169  91573.39715349\n",
      "  91553.91976461  68798.77364175  91443.78398387  80019.81932347\n",
      " 103059.68945829  91438.11783438  80074.5330795   80149.25542592\n",
      "  91532.1405025  103160.26361177  91503.27855353  79959.97061946\n",
      "  91908.05410784  91414.03669904  91477.42674647  91666.53448576\n",
      "  91608.81058781  91686.18894181 103151.58732036 114609.72594488\n",
      "  79973.78185885  91774.72252762  79933.23347655  91473.70833587\n",
      "  91438.64903589  79990.07203864  80358.90295711  79995.38405379\n",
      " 103120.60056533  91615.53914033  80067.09625829  91431.7434162\n",
      " 102976.82202198  79940.49323059  91432.27461771]\n"
     ]
    }
   ],
   "source": [
    "# Comparando\n",
    "print(f'Predição obtida com Octave: {pred_octave}')\n",
    "print(f'Predição obtida com NumPy: {pred_python}')\n",
    "print(f'Predição obtida com Scikit-Learn: {lin_reg.predict(X_test)}')\n",
    "print(f'Predição obtida após normalização: {pred}')"
   ]
  },
  {
   "cell_type": "markdown",
   "metadata": {},
   "source": [
    "__Conclusão:__\n",
    "\n",
    "Vimos que não foi possível obter os mesmos resultados com a normalização aplicada ao scikit-learn. Isto pois tínhamos em mãos apenas um exemplo para teste e, utilizando a normalização aplicada na raça, não foi possível obter os mesmos resultados."
   ]
  },
  {
   "cell_type": "code",
   "execution_count": 109,
   "metadata": {
    "ExecuteTime": {
     "end_time": "2019-09-19T23:10:56.570667Z",
     "start_time": "2019-09-19T23:10:56.558531Z"
    }
   },
   "outputs": [],
   "source": [
    "# Tentando resgatar a média e o desvio padrão\n",
    "scaler_2 = StandardScaler()\n",
    "scaler_2.fit(X)\n",
    "X_scaled = scaler_2.transform(X)"
   ]
  },
  {
   "cell_type": "code",
   "execution_count": 110,
   "metadata": {
    "ExecuteTime": {
     "end_time": "2019-09-19T23:10:56.584748Z",
     "start_time": "2019-09-19T23:10:56.573662Z"
    }
   },
   "outputs": [
    {
     "data": {
      "text/plain": [
       "LinearRegression(copy_X=True, fit_intercept=True, n_jobs=None, normalize=False)"
      ]
     },
     "execution_count": 110,
     "metadata": {},
     "output_type": "execute_result"
    }
   ],
   "source": [
    "# Treinando novamente\n",
    "lin_reg_scaled = LinearRegression()\n",
    "lin_reg_scaled.fit(X_scaled, y)"
   ]
  },
  {
   "cell_type": "code",
   "execution_count": 111,
   "metadata": {
    "ExecuteTime": {
     "end_time": "2019-09-19T23:10:56.600101Z",
     "start_time": "2019-09-19T23:10:56.591519Z"
    }
   },
   "outputs": [
    {
     "data": {
      "text/plain": [
       "array([2000.68085106,    3.17021277])"
      ]
     },
     "execution_count": 111,
     "metadata": {},
     "output_type": "execute_result"
    }
   ],
   "source": [
    "# Retornando média\n",
    "scaler_2.mean_"
   ]
  },
  {
   "cell_type": "code",
   "execution_count": 112,
   "metadata": {
    "ExecuteTime": {
     "end_time": "2019-09-19T23:10:56.613925Z",
     "start_time": "2019-09-19T23:10:56.602748Z"
    }
   },
   "outputs": [
    {
     "data": {
      "text/plain": [
       "array([7.86202619e+02, 7.52842809e-01])"
      ]
     },
     "execution_count": 112,
     "metadata": {},
     "output_type": "execute_result"
    }
   ],
   "source": [
    "# Retornando desvpad\n",
    "np.sqrt(scaler_2.var_)"
   ]
  },
  {
   "cell_type": "markdown",
   "metadata": {},
   "source": [
    "Perfeito! Vamos aplicar ao nosso teste e verificar se os resultados são favoráveis.."
   ]
  },
  {
   "cell_type": "code",
   "execution_count": 113,
   "metadata": {
    "ExecuteTime": {
     "end_time": "2019-09-19T23:10:56.626702Z",
     "start_time": "2019-09-19T23:10:56.618486Z"
    }
   },
   "outputs": [
    {
     "name": "stdout",
     "output_type": "stream",
     "text": [
      "[109447.79646964  -6578.35485416] 340412.6595744681\n"
     ]
    }
   ],
   "source": [
    "# Antes, verificando coeficientes\n",
    "print(lin_reg_scaled.coef_, lin_reg_scaled.intercept_)"
   ]
  },
  {
   "cell_type": "code",
   "execution_count": 114,
   "metadata": {
    "ExecuteTime": {
     "end_time": "2019-09-19T23:10:56.643086Z",
     "start_time": "2019-09-19T23:10:56.631556Z"
    }
   },
   "outputs": [
    {
     "data": {
      "text/plain": [
       "array([[1650,    3]])"
      ]
     },
     "execution_count": 114,
     "metadata": {},
     "output_type": "execute_result"
    }
   ],
   "source": [
    "# Normalizando X_teste\n",
    "X_test_norm = np.array([X_teste[1:]])\n",
    "X_test_norm"
   ]
  },
  {
   "cell_type": "code",
   "execution_count": 115,
   "metadata": {
    "ExecuteTime": {
     "end_time": "2019-09-19T23:10:56.663952Z",
     "start_time": "2019-09-19T23:10:56.653920Z"
    }
   },
   "outputs": [
    {
     "data": {
      "text/plain": [
       "array([[-0.44604386, -0.22609337]])"
      ]
     },
     "execution_count": 115,
     "metadata": {},
     "output_type": "execute_result"
    }
   ],
   "source": [
    "# Normalizando\n",
    "X_test_scaled = scaler_2.transform(X_test_norm)\n",
    "X_test_scaled"
   ]
  },
  {
   "cell_type": "code",
   "execution_count": 116,
   "metadata": {
    "ExecuteTime": {
     "end_time": "2019-09-19T23:10:56.679623Z",
     "start_time": "2019-09-19T23:10:56.668626Z"
    }
   },
   "outputs": [
    {
     "data": {
      "text/plain": [
       "array([293081.4643349])"
      ]
     },
     "execution_count": 116,
     "metadata": {},
     "output_type": "execute_result"
    }
   ],
   "source": [
    "# Predições\n",
    "pred_scaled = lin_reg_scaled.predict(X_test_scaled)\n",
    "pred_scaled"
   ]
  },
  {
   "cell_type": "markdown",
   "metadata": {},
   "source": [
    "Isso! Conseguimos!"
   ]
  },
  {
   "cell_type": "markdown",
   "metadata": {},
   "source": [
    "## Conclusão"
   ]
  },
  {
   "cell_type": "markdown",
   "metadata": {},
   "source": [
    "Após essa tarefa, foi possível aplicar e comparar diferentes meios de se implementar um algoritmo de Regressão Linear, seja ele Univariável ou Multivariável, em Octave, em Python com NumPy ou em Python com Scikit-learn. Alguns obstáculos foram encontrados no caminho mas, mesmo obtendo resultados incoerentes, foi possível estudar o acontecido e entender o que foi feito de errado. No final, os resultados foram bem próximos um do outro, mesmo com os diferentes caminhos tomados.\n",
    "\n",
    "Em um primeiro momento, não foi possível realizar predições com o modelo normalizado por conta de uma propriedade \"tricky\" da classe ```StandardScaler()```: ao aplicar a normalização de dados através do método ```fit_transform()``` não é possível recuperar atributos como a média e o desvio padrão. Por conta disso, foi necessário realizar uma nova normalização aplicando, primeiro, o método ```fit()``` e depois o ```transform()``` separadamente. Com isso, foi possível normalizar o único exemplo de teste obtido e realizar as predições de forma correta:\n",
    "\n",
    "Fonte: [problem_StandardScaler](https://social.msdn.microsoft.com/Forums/sqlserver/en-US/d67ff885-2de3-42c7-a768-9653d1eef8a3/problem-using-standard-scaler-from-scikitlearn-via-azureml?forum=MachineLearning)"
   ]
  },
  {
   "cell_type": "code",
   "execution_count": 117,
   "metadata": {
    "ExecuteTime": {
     "end_time": "2019-09-19T23:10:56.692733Z",
     "start_time": "2019-09-19T23:10:56.683478Z"
    }
   },
   "outputs": [
    {
     "name": "stdout",
     "output_type": "stream",
     "text": [
      "Predição obtida com Octave: 293081.464335\n",
      "Predição obtida com NumPy: [299560.45701162]\n",
      "Predição obtida com Scikit-Learn: [293081.4643349]\n",
      "Predição obtida após normalização correta: [293081.4643349]\n"
     ]
    }
   ],
   "source": [
    "# Comparação final\n",
    "print(f'Predição obtida com Octave: {pred_octave}')\n",
    "print(f'Predição obtida com NumPy: {pred_python}')\n",
    "print(f'Predição obtida com Scikit-Learn: {lin_reg.predict(X_test)}')\n",
    "print(f'Predição obtida após normalização correta: {pred_scaled}')"
   ]
  },
  {
   "cell_type": "code",
   "execution_count": null,
   "metadata": {},
   "outputs": [],
   "source": []
  }
 ],
 "metadata": {
  "kernelspec": {
   "display_name": "Python 3",
   "language": "python",
   "name": "python3"
  },
  "language_info": {
   "codemirror_mode": {
    "name": "ipython",
    "version": 3
   },
   "file_extension": ".py",
   "mimetype": "text/x-python",
   "name": "python",
   "nbconvert_exporter": "python",
   "pygments_lexer": "ipython3",
   "version": "3.7.3"
  },
  "toc": {
   "base_numbering": 1,
   "nav_menu": {},
   "number_sections": true,
   "sideBar": true,
   "skip_h1_title": true,
   "title_cell": "Table of Contents",
   "title_sidebar": "Contents",
   "toc_cell": true,
   "toc_position": {},
   "toc_section_display": true,
   "toc_window_display": true
  },
  "varInspector": {
   "cols": {
    "lenName": 16,
    "lenType": 16,
    "lenVar": 40
   },
   "kernels_config": {
    "python": {
     "delete_cmd_postfix": "",
     "delete_cmd_prefix": "del ",
     "library": "var_list.py",
     "varRefreshCmd": "print(var_dic_list())"
    },
    "r": {
     "delete_cmd_postfix": ") ",
     "delete_cmd_prefix": "rm(",
     "library": "var_list.r",
     "varRefreshCmd": "cat(var_dic_list()) "
    }
   },
   "types_to_exclude": [
    "module",
    "function",
    "builtin_function_or_method",
    "instance",
    "_Feature"
   ],
   "window_display": false
  }
 },
 "nbformat": 4,
 "nbformat_minor": 2
}
