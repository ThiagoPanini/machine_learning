{
 "cells": [
  {
   "cell_type": "markdown",
   "metadata": {
    "toc": true
   },
   "source": [
    "<h1>Table of Contents<span class=\"tocSkip\"></span></h1>\n",
    "<div class=\"toc\"><ul class=\"toc-item\"><li><span><a href=\"#Redes-Neurais\" data-toc-modified-id=\"Redes-Neurais-1\"><span class=\"toc-item-num\">1&nbsp;&nbsp;</span>Redes Neurais</a></span><ul class=\"toc-item\"><li><span><a href=\"#Arquitetura-da-Rede\" data-toc-modified-id=\"Arquitetura-da-Rede-1.1\"><span class=\"toc-item-num\">1.1&nbsp;&nbsp;</span>Arquitetura da Rede</a></span></li><li><span><a href=\"#Parâmetros-Theta\" data-toc-modified-id=\"Parâmetros-Theta-1.2\"><span class=\"toc-item-num\">1.2&nbsp;&nbsp;</span>Parâmetros Theta</a></span></li><li><span><a href=\"#Forward-Propagation\" data-toc-modified-id=\"Forward-Propagation-1.3\"><span class=\"toc-item-num\">1.3&nbsp;&nbsp;</span>Forward Propagation</a></span></li><li><span><a href=\"#Função-Custo\" data-toc-modified-id=\"Função-Custo-1.4\"><span class=\"toc-item-num\">1.4&nbsp;&nbsp;</span>Função Custo</a></span><ul class=\"toc-item\"><li><span><a href=\"#Função-Custo-Modificada\" data-toc-modified-id=\"Função-Custo-Modificada-1.4.1\"><span class=\"toc-item-num\">1.4.1&nbsp;&nbsp;</span>Função Custo Modificada</a></span></li><li><span><a href=\"#Função-Custo-Regularizada\" data-toc-modified-id=\"Função-Custo-Regularizada-1.4.2\"><span class=\"toc-item-num\">1.4.2&nbsp;&nbsp;</span>Função Custo Regularizada</a></span></li></ul></li><li><span><a href=\"#Unrolling-Parameters\" data-toc-modified-id=\"Unrolling-Parameters-1.5\"><span class=\"toc-item-num\">1.5&nbsp;&nbsp;</span>Unrolling Parameters</a></span><ul class=\"toc-item\"><li><span><a href=\"#Agrupando-Parâmetros\" data-toc-modified-id=\"Agrupando-Parâmetros-1.5.1\"><span class=\"toc-item-num\">1.5.1&nbsp;&nbsp;</span>Agrupando Parâmetros</a></span></li><li><span><a href=\"#Separando-Parâmetros\" data-toc-modified-id=\"Separando-Parâmetros-1.5.2\"><span class=\"toc-item-num\">1.5.2&nbsp;&nbsp;</span>Separando Parâmetros</a></span></li><li><span><a href=\"#Redefinindo-Funções\" data-toc-modified-id=\"Redefinindo-Funções-1.5.3\"><span class=\"toc-item-num\">1.5.3&nbsp;&nbsp;</span>Redefinindo Funções</a></span></li></ul></li><li><span><a href=\"#Back-Propagation\" data-toc-modified-id=\"Back-Propagation-1.6\"><span class=\"toc-item-num\">1.6&nbsp;&nbsp;</span>Back Propagation</a></span><ul class=\"toc-item\"><li><span><a href=\"#Sigmoid-Gradient\" data-toc-modified-id=\"Sigmoid-Gradient-1.6.1\"><span class=\"toc-item-num\">1.6.1&nbsp;&nbsp;</span>Sigmoid Gradient</a></span></li><li><span><a href=\"#Inicialização-Randômica\" data-toc-modified-id=\"Inicialização-Randômica-1.6.2\"><span class=\"toc-item-num\">1.6.2&nbsp;&nbsp;</span>Inicialização Randômica</a></span></li><li><span><a href=\"#Calculando-Back-Prop\" data-toc-modified-id=\"Calculando-Back-Prop-1.6.3\"><span class=\"toc-item-num\">1.6.3&nbsp;&nbsp;</span>Calculando Back Prop</a></span><ul class=\"toc-item\"><li><span><a href=\"#Forward-Pass\" data-toc-modified-id=\"Forward-Pass-1.6.3.1\"><span class=\"toc-item-num\">1.6.3.1&nbsp;&nbsp;</span>Forward Pass</a></span></li><li><span><a href=\"#Delta-Output-Layer\" data-toc-modified-id=\"Delta-Output-Layer-1.6.3.2\"><span class=\"toc-item-num\">1.6.3.2&nbsp;&nbsp;</span>Delta Output Layer</a></span></li><li><span><a href=\"#Delta-Hidden-Layer\" data-toc-modified-id=\"Delta-Hidden-Layer-1.6.3.3\"><span class=\"toc-item-num\">1.6.3.3&nbsp;&nbsp;</span>Delta Hidden Layer</a></span></li></ul></li><li><span><a href=\"#Definindo-Back-Prop\" data-toc-modified-id=\"Definindo-Back-Prop-1.6.4\"><span class=\"toc-item-num\">1.6.4&nbsp;&nbsp;</span>Definindo Back Prop</a></span></li></ul></li></ul></li><li><span><a href=\"#Pipeline-Completo\" data-toc-modified-id=\"Pipeline-Completo-2\"><span class=\"toc-item-num\">2&nbsp;&nbsp;</span>Pipeline Completo</a></span><ul class=\"toc-item\"><li><span><a href=\"#Fórmulas\" data-toc-modified-id=\"Fórmulas-2.1\"><span class=\"toc-item-num\">2.1&nbsp;&nbsp;</span>Fórmulas</a></span></li><li><span><a href=\"#Importando-Bibliotecas\" data-toc-modified-id=\"Importando-Bibliotecas-2.2\"><span class=\"toc-item-num\">2.2&nbsp;&nbsp;</span>Importando Bibliotecas</a></span></li><li><span><a href=\"#Definindo-Funções\" data-toc-modified-id=\"Definindo-Funções-2.3\"><span class=\"toc-item-num\">2.3&nbsp;&nbsp;</span>Definindo Funções</a></span></li><li><span><a href=\"#Treinando-Rede\" data-toc-modified-id=\"Treinando-Rede-2.4\"><span class=\"toc-item-num\">2.4&nbsp;&nbsp;</span>Treinando Rede</a></span></li></ul></li></ul></div>"
   ]
  },
  {
   "cell_type": "markdown",
   "metadata": {},
   "source": [
    "Neste notebook, iremos implementar o algoritmo de ```back propagation``` em um problema de utilização de ```Redes Neurais``` para reconhecimento e classificação de dígitos manuscritos. No exercício anterior, ```ex3.2-python-complete``` foi implementando o algoritmo de ```forward propagation``` apenas para calcular as predições, visto que os parâmetros ```theta``` já foram fornecidos previamente. Neste exercício, o back propagation será aplicado para ```aprender``` os parâmetros theta da rede neural."
   ]
  },
  {
   "cell_type": "markdown",
   "metadata": {},
   "source": [
    "## Redes Neurais"
   ]
  },
  {
   "cell_type": "markdown",
   "metadata": {},
   "source": [
    "O dataset utilizado neste exercício será o mesmo utilizado no exercício anterior."
   ]
  },
  {
   "cell_type": "code",
   "execution_count": null,
   "metadata": {
    "ExecuteTime": {
     "end_time": "2019-04-17T12:08:41.032841Z",
     "start_time": "2019-04-17T12:08:32.443749Z"
    }
   },
   "outputs": [],
   "source": [
    "# Importando bibliotecas\n",
    "import numpy as np\n",
    "import scipy.io as sio\n",
    "\n",
    "# Definindo função para leitura dos dados\n",
    "def load_data():\n",
    "    \"\"\" Função responsável por ler os dados e a matriz de parâmetros\n",
    "    Output:\n",
    "        X: features do modelo\n",
    "        y: vetor de label (10 classes)\"\"\"\n",
    "    \n",
    "    # Lendo dados\n",
    "    data = sio.loadmat('ex4data1.mat')\n",
    "    X = data['X']\n",
    "    y = data['y']\n",
    "    \n",
    "    return X, y.reshape(-1)"
   ]
  },
  {
   "cell_type": "code",
   "execution_count": null,
   "metadata": {
    "ExecuteTime": {
     "end_time": "2019-04-17T12:08:41.453649Z",
     "start_time": "2019-04-17T12:08:41.041564Z"
    }
   },
   "outputs": [],
   "source": [
    "# Lendo dados\n",
    "X, y = load_data()\n",
    "\n",
    "# Verificando\n",
    "print(f'Dimensões de X: {X.shape}')\n",
    "print(f'Dimensões de y: {y.shape}')"
   ]
  },
  {
   "cell_type": "code",
   "execution_count": null,
   "metadata": {
    "ExecuteTime": {
     "end_time": "2019-04-17T12:08:45.802405Z",
     "start_time": "2019-04-17T12:08:41.456142Z"
    }
   },
   "outputs": [],
   "source": [
    "# Importando bibliotecas para plotagem\n",
    "import matplotlib.pyplot as plt\n",
    "\n",
    "# Definindo função para plotagem aleatório de um dígito\n",
    "def plot_digit(X, y):\n",
    "    \"\"\" Função responsável pela plotagem de um dígito do dataset de forma aleatória\n",
    "    Input:\n",
    "        X: features do modelo;\n",
    "        y: vetor de labels\"\"\"\n",
    "    \n",
    "    m = X.shape[0]\n",
    "    rnd = np.random.randint(m)\n",
    "    plt.imshow(X[rnd].reshape(20, 20).T, cmap='viridis')\n",
    "    plt.axis('off')\n",
    "    plt.title(f'Dígito: {y[rnd]}', size=13)\n",
    "    plt.show()"
   ]
  },
  {
   "cell_type": "code",
   "execution_count": null,
   "metadata": {
    "ExecuteTime": {
     "end_time": "2019-04-17T12:08:47.275991Z",
     "start_time": "2019-04-17T12:08:45.808590Z"
    }
   },
   "outputs": [],
   "source": [
    "# PLotando dígito\n",
    "plot_digit(X, y)"
   ]
  },
  {
   "cell_type": "markdown",
   "metadata": {},
   "source": [
    "### Arquitetura da Rede"
   ]
  },
  {
   "cell_type": "markdown",
   "metadata": {},
   "source": [
    "A rede a ser implementada possui a seguinte característica:"
   ]
  },
  {
   "attachments": {
    "image.png": {
     "image/png": "[encoded data removed]"
    }
   },
   "cell_type": "markdown",
   "metadata": {},
   "source": [
    "![image.png](attachment:image.png)"
   ]
  },
  {
   "cell_type": "markdown",
   "metadata": {},
   "source": [
    "Dessa forma, é possível concluir que a rede possui:\n",
    "    - Uma camada de entrada\n",
    "    - Uma camada oculta\n",
    "    - Uma camada de saída\n",
    "\n",
    "Para mapear cada uma dessas camadas, são necessários dois conjuntos de vetores ```theta```, representados por Theta1 e Theta2, cujas dimensões serão definidas a seguir."
   ]
  },
  {
   "cell_type": "markdown",
   "metadata": {},
   "source": [
    "### Parâmetros Theta"
   ]
  },
  {
   "cell_type": "markdown",
   "metadata": {},
   "source": [
    "Algumas informações relevantes que irão ajudar na definição das dimensões dos parâmetros theta:\n",
    "    - Os dados de entrada possuem 400 features (imagens de dimensões 20x20);\n",
    "    - A rede neural a ser implementada possui 25 nós na camada oculta;\n",
    "    - Os dados possuem 10 labels diferentes (classificação de 0 a 10).\n",
    "    \n",
    "Dessa forma, é possível concluir que as dimensões dos parâmetros theta são:\n",
    "    - Theta1 possui dimensões 25x401;\n",
    "    - Theta2 possui dimensões 10x26"
   ]
  },
  {
   "cell_type": "code",
   "execution_count": null,
   "metadata": {
    "ExecuteTime": {
     "end_time": "2019-04-17T12:08:47.310440Z",
     "start_time": "2019-04-17T12:08:47.280711Z"
    }
   },
   "outputs": [],
   "source": [
    "# Definindo função para leitura dos parâmetros theta\n",
    "def load_params():\n",
    "    \"\"\" Função responsável por ler os dados e a matriz de parâmetros\n",
    "    Output:\n",
    "        Theta1: matriz de parâmetros que mapeia a camada de entrada para a camada oculta\n",
    "        Theta2: matriz de parâmetros que mapeia a camada oculta para a camada de saída\"\"\"\n",
    "    \n",
    "    # Lendo dados\n",
    "    data = sio.loadmat('ex4weights.mat')\n",
    "    theta1 = data['Theta1']\n",
    "    theta2 = data['Theta2']\n",
    "    \n",
    "    return theta1, theta2"
   ]
  },
  {
   "cell_type": "code",
   "execution_count": null,
   "metadata": {
    "ExecuteTime": {
     "end_time": "2019-04-17T12:08:47.726430Z",
     "start_time": "2019-04-17T12:08:47.318813Z"
    }
   },
   "outputs": [],
   "source": [
    "# Lendo parâmetros\n",
    "theta1, theta2 = load_params()"
   ]
  },
  {
   "cell_type": "code",
   "execution_count": null,
   "metadata": {
    "ExecuteTime": {
     "end_time": "2019-04-17T12:08:48.071926Z",
     "start_time": "2019-04-17T12:08:47.729237Z"
    }
   },
   "outputs": [],
   "source": [
    "# Verificando dimensões\n",
    "print(f'Dimensões de theta1: {theta1.shape}')\n",
    "print(f'Dimensões de theta2: {theta2.shape}')"
   ]
  },
  {
   "cell_type": "code",
   "execution_count": null,
   "metadata": {
    "ExecuteTime": {
     "end_time": "2019-04-17T12:08:48.205419Z",
     "start_time": "2019-04-17T12:08:48.085906Z"
    }
   },
   "outputs": [],
   "source": [
    "# Verificando primeiras linhas de cada\n",
    "theta1[0]"
   ]
  },
  {
   "cell_type": "code",
   "execution_count": null,
   "metadata": {
    "ExecuteTime": {
     "end_time": "2019-04-17T12:08:48.284715Z",
     "start_time": "2019-04-17T12:08:48.211451Z"
    }
   },
   "outputs": [],
   "source": [
    "theta2[0]"
   ]
  },
  {
   "cell_type": "markdown",
   "metadata": {},
   "source": [
    "Os parâmetros já possuem valores, mas provavelmente não se trata dos valores adequados para o modelo, visto que um dos grandes objetivos deste exercício é justamente aplicar o algoritmo de ```back propagation``` para otimizar a rede."
   ]
  },
  {
   "cell_type": "markdown",
   "metadata": {},
   "source": [
    "Uma métrica importante que irá permitir dizer se os parâmetros estão adequados ou não é a implementação do ```forward propagation``` seguido da ```função custo```."
   ]
  },
  {
   "cell_type": "markdown",
   "metadata": {},
   "source": [
    "### Forward Propagation"
   ]
  },
  {
   "cell_type": "markdown",
   "metadata": {},
   "source": [
    "Como vimos no exerício anterior, para implementar o forward propagation, devemos seguir os passos:"
   ]
  },
  {
   "cell_type": "code",
   "execution_count": null,
   "metadata": {
    "ExecuteTime": {
     "end_time": "2019-04-17T12:08:48.458719Z",
     "start_time": "2019-04-17T12:08:48.289760Z"
    }
   },
   "outputs": [],
   "source": [
    "# Adicionando termo de bias em X\n",
    "m = X.shape[0]\n",
    "X_train = np.c_[(np.ones((m, 1)), X)]\n",
    "\n",
    "# Parametrizando camada oculta\n",
    "a2 = X_train.dot(theta1.T)\n",
    "\n",
    "# Adicionando termo de bias em a2\n",
    "a2 = np.c_[(np.ones((m, 1)), a2)]\n",
    "\n",
    "# Parametrizando camada de saída\n",
    "h = a2.dot(theta2.T)"
   ]
  },
  {
   "cell_type": "code",
   "execution_count": null,
   "metadata": {
    "ExecuteTime": {
     "end_time": "2019-04-17T12:08:48.495589Z",
     "start_time": "2019-04-17T12:08:48.466729Z"
    }
   },
   "outputs": [],
   "source": [
    "# Verificando\n",
    "h.shape"
   ]
  },
  {
   "cell_type": "markdown",
   "metadata": {},
   "source": [
    "Realmente temos agora 5000 predições de 10 classes cada uma. Vamos implementar a função custo para seguir com a análise."
   ]
  },
  {
   "cell_type": "code",
   "execution_count": null,
   "metadata": {
    "ExecuteTime": {
     "end_time": "2019-04-17T12:08:48.575147Z",
     "start_time": "2019-04-17T12:08:48.500478Z"
    }
   },
   "outputs": [],
   "source": [
    "# Definindo função para retornar a predição de cada linha\n",
    "def acc_predictions(h, y):\n",
    "    \"\"\" Função responsável por cálcular as predições e retornar a acurácia do modelo\n",
    "    Input:\n",
    "        h: matriz de probabilidades de dimensões m x k\n",
    "        y: vetor de labels de dimensões m x 1\n",
    "    Output:\n",
    "        acc: acurácia do modelo\"\"\"\n",
    "    \n",
    "    # Configurando parâmetros\n",
    "    m = h.shape[0]\n",
    "    pred = np.zeros((m, 1)).reshape(-1)\n",
    "    \n",
    "    # Laço para cálculo das predições\n",
    "    for i in range(m):\n",
    "        pred[i] = np.where(h[i] == h[i].max())[0] + 1\n",
    "    \n",
    "    # Calculando acurácia\n",
    "    acertos = sum((pred == y) * 1)\n",
    "    return acertos / m"
   ]
  },
  {
   "cell_type": "code",
   "execution_count": null,
   "metadata": {
    "ExecuteTime": {
     "end_time": "2019-04-17T12:08:48.806572Z",
     "start_time": "2019-04-17T12:08:48.577141Z"
    }
   },
   "outputs": [],
   "source": [
    "# Verificando acurácia do modelo\n",
    "acc = acc_predictions(h, y)\n",
    "print(f'Acurácia do modelo: {acc}')"
   ]
  },
  {
   "cell_type": "markdown",
   "metadata": {},
   "source": [
    "Realmente, a acurácia do modelo nos mostra que o set de parâmetros carregados para este problema está longe do ideal, provando assim que uma das tarefas principais desta atividade é a implementação de todas as funcionalidades necessárias para a otimização deste set de parâmetros, passando pela ```função custo```, ```gradiente descendente``` e, o mais importante, ```back propagation```."
   ]
  },
  {
   "cell_type": "markdown",
   "metadata": {},
   "source": [
    "### Função Custo"
   ]
  },
  {
   "cell_type": "markdown",
   "metadata": {},
   "source": [
    "A função custo de uma rede neural é dada por:"
   ]
  },
  {
   "cell_type": "markdown",
   "metadata": {},
   "source": [
    "\\begin{equation*}\n",
    "    J(\\theta)=\\frac{1}{m}\\sum_{i=1}^{m}\\sum_{k=1}^{K}\\left[-y_k^{(i)}\\log{(h_\\theta(x^{(i)})_k)}-\n",
    "              (1 - y_k^{(i)})\\log{(1-h_\\theta(x^{(i)})_k)}\\right]\n",
    "\\end{equation*}"
   ]
  },
  {
   "cell_type": "markdown",
   "metadata": {},
   "source": [
    "Temos agora um novo somatório, indo de ```k=1``` até ```K```, além dos índices ```k``` abaixo dos labels y e das funções de custo h(x)."
   ]
  },
  {
   "cell_type": "markdown",
   "metadata": {},
   "source": [
    "\\begin{equation*}\n",
    "    K=10\n",
    "\\end{equation*}\n",
    "\\begin{equation*}\n",
    "    h_\\theta(x^{(i)})=a_k^{3}\n",
    "\\end{equation*}"
   ]
  },
  {
   "cell_type": "markdown",
   "metadata": {},
   "source": [
    "**Considerações importantes**\n",
    "\n",
    "A nova função hypothesis, indexada por ```k```, indica a ativação (saída) da k-ésima unidade de saída. Além disso, teremos que codificar nosso vetor de label ```y``` em uma matriz de 0s e 1s onde cada elemento representa a presença (ou não) de elementos daquela classe."
   ]
  },
  {
   "attachments": {
    "image.png": {
     "image/png": "[encoded data removed]"
    }
   },
   "cell_type": "markdown",
   "metadata": {},
   "source": [
    "![image.png](attachment:image.png)"
   ]
  },
  {
   "cell_type": "markdown",
   "metadata": {},
   "source": [
    "Vamos realizar alguns testes"
   ]
  },
  {
   "cell_type": "code",
   "execution_count": null,
   "metadata": {
    "ExecuteTime": {
     "end_time": "2019-04-17T12:08:48.858839Z",
     "start_time": "2019-04-17T12:08:48.808567Z"
    }
   },
   "outputs": [],
   "source": [
    "# Primeira linha de predições\n",
    "h[0]"
   ]
  },
  {
   "cell_type": "code",
   "execution_count": null,
   "metadata": {
    "ExecuteTime": {
     "end_time": "2019-04-17T12:08:48.940280Z",
     "start_time": "2019-04-17T12:08:48.860867Z"
    }
   },
   "outputs": [],
   "source": [
    "# Usando operação lógica para transformação em uma array de 0s e 1s\n",
    "h[0] == max(h[0])"
   ]
  },
  {
   "cell_type": "code",
   "execution_count": null,
   "metadata": {
    "ExecuteTime": {
     "end_time": "2019-04-17T12:08:49.030995Z",
     "start_time": "2019-04-17T12:08:48.942300Z"
    }
   },
   "outputs": [],
   "source": [
    "# Complementando o raciocínio\n",
    "(h[0] == max(h[0])) * 1"
   ]
  },
  {
   "cell_type": "code",
   "execution_count": null,
   "metadata": {
    "ExecuteTime": {
     "end_time": "2019-04-17T12:08:49.142745Z",
     "start_time": "2019-04-17T12:08:49.033089Z"
    }
   },
   "outputs": [],
   "source": [
    "# Iterando sobre toda a matriz\n",
    "m = h.shape[0]\n",
    "k = h.shape[1]\n",
    "predictions = np.zeros((m, k))\n",
    "for i in range(m):\n",
    "    predictions[i] = (h[i] == max(h[i]) * 1)"
   ]
  },
  {
   "cell_type": "code",
   "execution_count": null,
   "metadata": {
    "ExecuteTime": {
     "end_time": "2019-04-17T12:08:49.208775Z",
     "start_time": "2019-04-17T12:08:49.143971Z"
    }
   },
   "outputs": [],
   "source": [
    "# Verificando\n",
    "predictions"
   ]
  },
  {
   "cell_type": "markdown",
   "metadata": {
    "ExecuteTime": {
     "end_time": "2019-04-14T13:00:45.186716Z",
     "start_time": "2019-04-14T13:00:45.031131Z"
    }
   },
   "source": [
    "Como sabemos que a acurácia do modelo está em torno de 69%, provavelmente será relativamente fácil encontrar predições \"erradas\". Vamos verificar um exemplo."
   ]
  },
  {
   "cell_type": "code",
   "execution_count": null,
   "metadata": {
    "ExecuteTime": {
     "end_time": "2019-04-17T12:08:49.377479Z",
     "start_time": "2019-04-17T12:08:49.210801Z"
    }
   },
   "outputs": [],
   "source": [
    "# Qual é o terceiro elemento?\n",
    "print(f'Probabilidades pela função hypothesis: \\n{h[2]}')\n",
    "print(f'\\nPredição pela matriz predictions: {predictions[2]}')"
   ]
  },
  {
   "cell_type": "markdown",
   "metadata": {
    "ExecuteTime": {
     "end_time": "2019-04-14T13:01:15.899474Z",
     "start_time": "2019-04-14T13:01:15.894489Z"
    }
   },
   "source": [
    "Segundo os cálculos, trata-se de um 8, visto que o maior valor para este registro, mostrado em ```h```, indica que existe uma probabilidade maior de que este elemento seja um 8 (apesar da probabilidade de 0 também seja bem alta). Vamos plotar este dígito."
   ]
  },
  {
   "cell_type": "code",
   "execution_count": null,
   "metadata": {
    "ExecuteTime": {
     "end_time": "2019-04-17T12:08:49.464689Z",
     "start_time": "2019-04-17T12:08:49.382533Z"
    }
   },
   "outputs": [],
   "source": [
    "# Definindo função para plotagem aleatório de um dígito\n",
    "def plot_one_digit(index):\n",
    "    \"\"\" Função responsável pela plotagem de um dígito do dataset de forma aleatória\n",
    "    Input:\n",
    "        X: features do modelo;\n",
    "        y: vetor de labels\"\"\"\n",
    "    \n",
    "    m = X.shape[0]\n",
    "    plt.imshow(X[index].reshape(20, 20).T, cmap='viridis')\n",
    "    plt.axis('off')\n",
    "    plt.title(f'Dígito: {y[index]}', size=13)\n",
    "    plt.show()"
   ]
  },
  {
   "cell_type": "code",
   "execution_count": null,
   "metadata": {
    "ExecuteTime": {
     "end_time": "2019-04-17T12:08:49.665453Z",
     "start_time": "2019-04-17T12:08:49.465686Z"
    }
   },
   "outputs": [],
   "source": [
    "# Plotando elemento de índice 2\n",
    "plot_one_digit(2)"
   ]
  },
  {
   "cell_type": "markdown",
   "metadata": {},
   "source": [
    "Visualmente falando, não é tão impossível confundir este dígito 0 com um dígito 8. Esta é a comprovação oficial de que o modelo está mal parametrizado. Para dar continuidade aos cálculos, precisamos tentar transformar o vetor de labels ```y``` em um vetor semelhante ao feito em ```predictions```."
   ]
  },
  {
   "cell_type": "code",
   "execution_count": null,
   "metadata": {
    "ExecuteTime": {
     "end_time": "2019-04-17T12:08:49.673883Z",
     "start_time": "2019-04-17T12:08:49.666981Z"
    }
   },
   "outputs": [],
   "source": [
    "# Verificando\n",
    "y"
   ]
  },
  {
   "cell_type": "markdown",
   "metadata": {},
   "source": [
    "Após pesquisas realizadas em [stackOverflow](https://stackoverflow.com/questions/37292872/how-can-i-one-hot-encode-in-python), temos uma pista sobre como prosseguir."
   ]
  },
  {
   "cell_type": "code",
   "execution_count": null,
   "metadata": {
    "ExecuteTime": {
     "end_time": "2019-04-17T12:08:49.758342Z",
     "start_time": "2019-04-17T12:08:49.678127Z"
    }
   },
   "outputs": [],
   "source": [
    "# Criando matriz identidade de acordo com o número de classes \n",
    "i = np.eye(10)\n",
    "i"
   ]
  },
  {
   "cell_type": "code",
   "execution_count": null,
   "metadata": {
    "ExecuteTime": {
     "end_time": "2019-04-17T12:08:50.167772Z",
     "start_time": "2019-04-17T12:08:49.762694Z"
    }
   },
   "outputs": [],
   "source": [
    "# Indexando matriz\n",
    "y_pre_encoded = i[y]\n",
    "y_pre_encoded"
   ]
  },
  {
   "cell_type": "markdown",
   "metadata": {},
   "source": [
    "Obtivemos um erro. Após testes realizados, foi possível concluir que devemos criar nossa matriz identidade com uma classe a mais, gerando assim uma matriz codificada com uma coluna a mais (11 ao invés de 10). Posteriormente devemos dropar uma das colunas."
   ]
  },
  {
   "cell_type": "code",
   "execution_count": null,
   "metadata": {
    "ExecuteTime": {
     "end_time": "2019-04-17T12:09:13.474074Z",
     "start_time": "2019-04-17T12:09:13.452292Z"
    }
   },
   "outputs": [],
   "source": [
    "# Matriz identidade com 11 classes\n",
    "i = np.eye(11)\n",
    "y_pre_encoded = i[y]\n",
    "y_pre_encoded"
   ]
  },
  {
   "cell_type": "code",
   "execution_count": null,
   "metadata": {
    "ExecuteTime": {
     "end_time": "2019-04-17T12:09:13.584161Z",
     "start_time": "2019-04-17T12:09:13.476301Z"
    }
   },
   "outputs": [],
   "source": [
    "# Verificando dimensões\n",
    "y_pre_encoded.shape"
   ]
  },
  {
   "cell_type": "markdown",
   "metadata": {
    "ExecuteTime": {
     "end_time": "2019-04-14T13:19:06.219133Z",
     "start_time": "2019-04-14T13:19:06.213149Z"
    }
   },
   "source": [
    "Sim, há uma coluna a mais. A coluna a ser dropada não pode influenciar em nossos resultados e, portanto, esta não pode conter nenhuma informação. Mas qual coluna está \"sobrando\" nesta nossa matriz?"
   ]
  },
  {
   "cell_type": "code",
   "execution_count": null,
   "metadata": {
    "ExecuteTime": {
     "end_time": "2019-04-17T12:09:13.808947Z",
     "start_time": "2019-04-17T12:09:13.588173Z"
    }
   },
   "outputs": [],
   "source": [
    "# Verificando primeiros elemento\n",
    "print(f'Primeiro elemento: \\n{y_pre_encoded[0]}')\n",
    "print(f'{y_pre_encoded[1]}')\n",
    "print(f'{y_pre_encoded[2]}')\n",
    "print(f'\\nClasses oficiais: {y[0]}, {y[1]}, {y[2]}')"
   ]
  },
  {
   "cell_type": "code",
   "execution_count": null,
   "metadata": {
    "ExecuteTime": {
     "end_time": "2019-04-17T12:09:14.094217Z",
     "start_time": "2019-04-17T12:09:13.812721Z"
    }
   },
   "outputs": [],
   "source": [
    "# Verificando últimos elementos\n",
    "print(f'Primeiro elemento: \\n{y_pre_encoded[-1]}')\n",
    "print(f'{y_pre_encoded[-2]}')\n",
    "print(f'{y_pre_encoded[-3]}')\n",
    "print(f'\\nClasses oficiais: {y[-1]}, {y[-2]}, {y[-3]}')"
   ]
  },
  {
   "cell_type": "code",
   "execution_count": null,
   "metadata": {
    "ExecuteTime": {
     "end_time": "2019-04-17T12:09:14.371056Z",
     "start_time": "2019-04-17T12:09:14.096246Z"
    }
   },
   "outputs": [],
   "source": [
    "# Matriz\n",
    "y_pre_encoded"
   ]
  },
  {
   "cell_type": "markdown",
   "metadata": {
    "ExecuteTime": {
     "end_time": "2019-04-14T13:23:22.970116Z",
     "start_time": "2019-04-14T13:23:22.964134Z"
    }
   },
   "source": [
    "Temos que tanto os primeiros quanto os últimos elementos realmente equivalem ao label correto. Vamos aplicar uma verificação mais avançada: somar todos os elementos de cada coluna. A coluna cujo resultado for nulo, deverá ser eliminada."
   ]
  },
  {
   "cell_type": "code",
   "execution_count": null,
   "metadata": {
    "ExecuteTime": {
     "end_time": "2019-04-17T12:09:14.684549Z",
     "start_time": "2019-04-17T12:09:14.375686Z"
    }
   },
   "outputs": [],
   "source": [
    "# Laço de verificação\n",
    "k = y_pre_encoded.shape[1]\n",
    "for i in range(k):\n",
    "    print(f'Soma dos elementos da coluna {i}: {sum(y_pre_encoded[:, i])}')"
   ]
  },
  {
   "cell_type": "markdown",
   "metadata": {
    "ExecuteTime": {
     "end_time": "2019-04-14T13:21:21.598530Z",
     "start_time": "2019-04-14T13:21:21.593541Z"
    }
   },
   "source": [
    "Temos o intruso: coluna 0!"
   ]
  },
  {
   "cell_type": "code",
   "execution_count": null,
   "metadata": {
    "ExecuteTime": {
     "end_time": "2019-04-17T12:09:14.796777Z",
     "start_time": "2019-04-17T12:09:14.686366Z"
    }
   },
   "outputs": [],
   "source": [
    "# Dropando a coluna 0 temos nosso vetor codificado\n",
    "y_encoded = y_pre_encoded[:, 1:]\n",
    "\n",
    "# Verificando dimensões\n",
    "y_encoded.shape"
   ]
  },
  {
   "cell_type": "code",
   "execution_count": null,
   "metadata": {
    "ExecuteTime": {
     "end_time": "2019-04-17T12:09:14.879202Z",
     "start_time": "2019-04-17T12:09:14.798577Z"
    }
   },
   "outputs": [],
   "source": [
    "# Primeiras linhas\n",
    "y_encoded"
   ]
  },
  {
   "cell_type": "markdown",
   "metadata": {
    "ExecuteTime": {
     "end_time": "2019-04-14T13:16:57.397509Z",
     "start_time": "2019-04-14T13:16:57.392523Z"
    }
   },
   "source": [
    "Acredto que agora temos insumos suficientes para calcular a função custo!\n",
    "\n",
    "\\begin{equation*}\n",
    "    J(\\theta)=\\frac{1}{m}\\sum_{i=1}^{m}\\sum_{k=1}^{K}\\left[-y_k^{(i)}\\log{(h_\\theta(x^{(i)})_k)}-\n",
    "              (1 - y_k^{(i)})\\log{(1-h_\\theta(x^{(i)})_k)}\\right]\n",
    "\\end{equation*}"
   ]
  },
  {
   "cell_type": "code",
   "execution_count": null,
   "metadata": {
    "ExecuteTime": {
     "end_time": "2019-04-17T12:09:14.963885Z",
     "start_time": "2019-04-17T12:09:14.881107Z"
    }
   },
   "outputs": [],
   "source": [
    "# Testando custo apenas para o primeiro elemento\n",
    "np.log(predictions[0]).T.dot(-y_encoded[0])"
   ]
  },
  {
   "cell_type": "code",
   "execution_count": null,
   "metadata": {
    "ExecuteTime": {
     "end_time": "2019-04-17T12:09:15.053972Z",
     "start_time": "2019-04-17T12:09:14.965879Z"
    }
   },
   "outputs": [],
   "source": [
    "# Verificando ponto a ponto\n",
    "print(f'predictions[0]: {predictions[0]}')\n",
    "print(f'y_encoded[0]: {y_encoded[0]}')"
   ]
  },
  {
   "cell_type": "code",
   "execution_count": null,
   "metadata": {
    "ExecuteTime": {
     "end_time": "2019-04-17T12:09:15.141992Z",
     "start_time": "2019-04-17T12:09:15.053972Z"
    }
   },
   "outputs": [],
   "source": [
    "# Log\n",
    "np.log(predictions[0])"
   ]
  },
  {
   "cell_type": "markdown",
   "metadata": {},
   "source": [
    "Acredito que devemos aplicar um laço para cada classe, evitando assim estes valores indesejados. Vamos considerar a aplicação neste exemplo apenas para o elemento 0 (label = 10 e index = 9)"
   ]
  },
  {
   "cell_type": "code",
   "execution_count": null,
   "metadata": {
    "ExecuteTime": {
     "end_time": "2019-04-17T12:09:15.229375Z",
     "start_time": "2019-04-17T12:09:15.147087Z"
    }
   },
   "outputs": [],
   "source": [
    "# Log\n",
    "np.log(predictions[0][9])"
   ]
  },
  {
   "cell_type": "code",
   "execution_count": null,
   "metadata": {
    "ExecuteTime": {
     "end_time": "2019-04-17T12:09:15.345568Z",
     "start_time": "2019-04-17T12:09:15.231976Z"
    }
   },
   "outputs": [],
   "source": [
    "# dot\n",
    "np.log(predictions[0][9]).T.dot(y_encoded[0][9])"
   ]
  },
  {
   "cell_type": "markdown",
   "metadata": {},
   "source": [
    "Neste caso, teríamos um vetor de vários elementos."
   ]
  },
  {
   "cell_type": "code",
   "execution_count": null,
   "metadata": {
    "ExecuteTime": {
     "end_time": "2019-04-17T12:09:40.202974Z",
     "start_time": "2019-04-17T12:09:40.172353Z"
    }
   },
   "outputs": [],
   "source": [
    "np.log(predictions[:, 9]).T.dot(y_encoded[:, 9])"
   ]
  },
  {
   "cell_type": "markdown",
   "metadata": {},
   "source": [
    "#### Função Custo Modificada\n"
   ]
  },
  {
   "cell_type": "markdown",
   "metadata": {},
   "source": [
    "Diante do impasse acima, vamos tentar aplicar a função custo sem codificar os arrays"
   ]
  },
  {
   "cell_type": "code",
   "execution_count": null,
   "metadata": {
    "ExecuteTime": {
     "end_time": "2019-04-17T12:09:40.417408Z",
     "start_time": "2019-04-17T12:09:40.220401Z"
    }
   },
   "outputs": [],
   "source": [
    "# Temos os vetores\n",
    "print(f'Hypotheshs exemplo: \\n{h[0]}')\n",
    "print(f'y exemplo: \\n{y[0]}')"
   ]
  },
  {
   "cell_type": "markdown",
   "metadata": {},
   "source": [
    "\\begin{equation*}\n",
    "    J(\\theta)=\\frac{1}{m}\\sum_{i=1}^{m}\\sum_{k=1}^{K}\\left[-y_k^{(i)}\\log{(h_\\theta(x^{(i)})_k)}-\n",
    "              (1 - y_k^{(i)})\\log{(1-h_\\theta(x^{(i)})_k)}\\right]\n",
    "\\end{equation*}"
   ]
  },
  {
   "cell_type": "code",
   "execution_count": null,
   "metadata": {
    "ExecuteTime": {
     "end_time": "2019-04-17T12:09:40.671957Z",
     "start_time": "2019-04-17T12:09:40.419403Z"
    }
   },
   "outputs": [],
   "source": [
    "# Aplicando cálculos\n",
    "np.log(h[0]).T.dot(-y[0])"
   ]
  },
  {
   "cell_type": "code",
   "execution_count": null,
   "metadata": {
    "ExecuteTime": {
     "end_time": "2019-04-17T12:09:40.912671Z",
     "start_time": "2019-04-17T12:09:40.674464Z"
    }
   },
   "outputs": [],
   "source": [
    "# Testando\n",
    "np.log(h[0]).T.dot(-y[0]) - np.log(1 - h[0]).T.dot(1 - y[0])"
   ]
  },
  {
   "cell_type": "markdown",
   "metadata": {},
   "source": [
    "Acredito que o erro esteja sendo causado pela nossa função hypothesis. Pensando bem, eu não esperava obter valores negativos dentro da função. No máximo valores bem próximos de 0, mas não negativos."
   ]
  },
  {
   "cell_type": "markdown",
   "metadata": {},
   "source": [
    "**Erro encontrado:** veja como calculamos a função hypotheis:"
   ]
  },
  {
   "cell_type": "code",
   "execution_count": null,
   "metadata": {
    "ExecuteTime": {
     "end_time": "2019-04-17T12:09:41.009643Z",
     "start_time": "2019-04-17T12:09:40.917601Z"
    }
   },
   "outputs": [],
   "source": [
    "# Adicionando termo de bias em X\n",
    "m = X.shape[0]\n",
    "X_train = np.c_[(np.ones((m, 1)), X)]\n",
    "\n",
    "# Parametrizando camada oculta\n",
    "a2 = X_train.dot(theta1.T)\n",
    "\n",
    "# Adicionando termo de bias em a2\n",
    "a2 = np.c_[(np.ones((m, 1)), a2)]\n",
    "\n",
    "# Parametrizando camada de saída\n",
    "h = a2.dot(theta2.T)"
   ]
  },
  {
   "cell_type": "markdown",
   "metadata": {},
   "source": [
    "Totalmente equivocado. Não utilizamos a função de ativação (sigmoide) nos cálculos."
   ]
  },
  {
   "cell_type": "code",
   "execution_count": null,
   "metadata": {
    "ExecuteTime": {
     "end_time": "2019-04-17T12:09:41.065016Z",
     "start_time": "2019-04-17T12:09:41.009643Z"
    }
   },
   "outputs": [],
   "source": [
    "# Definindo função sigmoidal\n",
    "def sigmoid(z):\n",
    "    \"\"\"Função sigmoidal para cálculo da função hyothesis\n",
    "    Input: \n",
    "        z: X.dot(theta)\n",
    "    Output:\n",
    "        h = função sigmoidal\"\"\"\n",
    "    return 1 / (1 + np.exp(-z))"
   ]
  },
  {
   "cell_type": "code",
   "execution_count": null,
   "metadata": {
    "ExecuteTime": {
     "end_time": "2019-04-17T12:09:41.156283Z",
     "start_time": "2019-04-17T12:09:41.066547Z"
    }
   },
   "outputs": [],
   "source": [
    "# Refazendo\n",
    "m = X.shape[0]\n",
    "X_train = np.c_[(np.ones((m, 1)), X)]\n",
    "\n",
    "# Parametrizando camada oculta\n",
    "a2 = sigmoid(X_train.dot(theta1.T))\n",
    "a2 = np.c_[(np.ones((m, 1)), a2)]\n",
    "\n",
    "# Parametrizando camada de saída\n",
    "h = sigmoid(a2.dot(theta2.T))"
   ]
  },
  {
   "cell_type": "code",
   "execution_count": null,
   "metadata": {
    "ExecuteTime": {
     "end_time": "2019-04-17T12:09:41.220796Z",
     "start_time": "2019-04-17T12:09:41.157558Z"
    }
   },
   "outputs": [],
   "source": [
    "# Verificando\n",
    "h[0]"
   ]
  },
  {
   "cell_type": "markdown",
   "metadata": {},
   "source": [
    "Agora sim! Nenhum número negativo. Temos apenas as predições. Será que a acurácia se mantem?"
   ]
  },
  {
   "cell_type": "code",
   "execution_count": null,
   "metadata": {
    "ExecuteTime": {
     "end_time": "2019-04-17T12:09:41.367031Z",
     "start_time": "2019-04-17T12:09:41.223859Z"
    }
   },
   "outputs": [],
   "source": [
    "# Acurácia\n",
    "acc = acc_predictions(h, y)\n",
    "acc"
   ]
  },
  {
   "cell_type": "markdown",
   "metadata": {},
   "source": [
    "Agora a conclusão que temos é que os parâmetros carregados realmente fazem parte de um dos melhores sets para este modelo. Com certeza as predições realizadas anteriormente podem ser descartadas, devido ao erro encontrado. De toda forma, será que há espaço para melhoria? Para responder essa pergunta, precisamos, de fato, calcular a função custo."
   ]
  },
  {
   "cell_type": "code",
   "execution_count": null,
   "metadata": {
    "ExecuteTime": {
     "end_time": "2019-04-17T12:09:41.445931Z",
     "start_time": "2019-04-17T12:09:41.370728Z"
    }
   },
   "outputs": [],
   "source": [
    "# Testando\n",
    "np.log(h[0]).T.dot(-y[0]) - np.log(1 - h[0]).T.dot(1 - y[0])"
   ]
  },
  {
   "cell_type": "markdown",
   "metadata": {},
   "source": [
    "Precisamos aplicar o somatório das ```K``` classes para obter resultados justos. Vamos considerar a aplicação neste exemplo apenas para o elemento 0 (label = 10 e index = 9)"
   ]
  },
  {
   "cell_type": "code",
   "execution_count": null,
   "metadata": {
    "ExecuteTime": {
     "end_time": "2019-04-17T12:09:41.530532Z",
     "start_time": "2019-04-17T12:09:41.446931Z"
    }
   },
   "outputs": [],
   "source": [
    "# Valor\n",
    "h[0][-1]"
   ]
  },
  {
   "cell_type": "code",
   "execution_count": null,
   "metadata": {
    "ExecuteTime": {
     "end_time": "2019-04-17T12:09:41.614681Z",
     "start_time": "2019-04-17T12:09:41.532525Z"
    }
   },
   "outputs": [],
   "source": [
    "# Logaritmo\n",
    "np.log(h[0][-1])"
   ]
  },
  {
   "cell_type": "markdown",
   "metadata": {},
   "source": [
    "Valor esperado = próximo de 0, uma vez que acertamos a predição, o custo tem que tender a 0."
   ]
  },
  {
   "cell_type": "code",
   "execution_count": null,
   "metadata": {
    "ExecuteTime": {
     "end_time": "2019-04-17T12:09:41.699141Z",
     "start_time": "2019-04-17T12:09:41.616676Z"
    }
   },
   "outputs": [],
   "source": [
    "# Label\n",
    "y[0]"
   ]
  },
  {
   "cell_type": "code",
   "execution_count": null,
   "metadata": {
    "ExecuteTime": {
     "end_time": "2019-04-17T12:09:41.997218Z",
     "start_time": "2019-04-17T12:09:41.704196Z"
    }
   },
   "outputs": [],
   "source": [
    "# Multiplicação\n",
    "np.log(h[0][-1]).T.dot(y[0])"
   ]
  },
  {
   "cell_type": "markdown",
   "metadata": {},
   "source": [
    "Vamos aplicar um custo para todas as classes = 0 (índice = 9 ou -1)"
   ]
  },
  {
   "cell_type": "code",
   "execution_count": null,
   "metadata": {
    "ExecuteTime": {
     "end_time": "2019-04-17T12:10:02.020442Z",
     "start_time": "2019-04-17T12:10:02.001450Z"
    }
   },
   "outputs": [],
   "source": [
    "# Indexando\n",
    "h_0 = h[:, 0]\n",
    "print(f'Primeira linha: \\n{h_0[0]}')\n",
    "print(f'Dimensões: {h_0.shape}')"
   ]
  },
  {
   "cell_type": "code",
   "execution_count": null,
   "metadata": {
    "ExecuteTime": {
     "end_time": "2019-04-17T12:10:02.261201Z",
     "start_time": "2019-04-17T12:10:02.038251Z"
    }
   },
   "outputs": [],
   "source": [
    "# Aplicando cálculos\n",
    "np.log(h_0).T.dot(y) - np.log(1 - h_0).T.dot(1 - y)"
   ]
  },
  {
   "cell_type": "code",
   "execution_count": null,
   "metadata": {
    "ExecuteTime": {
     "end_time": "2019-04-17T12:10:02.474492Z",
     "start_time": "2019-04-17T12:10:02.264332Z"
    }
   },
   "outputs": [],
   "source": [
    "# Dividindo por m\n",
    "(np.log(h_0).T.dot(y) - np.log(1 - h_0).T.dot(1 - y)) / m"
   ]
  },
  {
   "cell_type": "markdown",
   "metadata": {},
   "source": [
    "Bom, o resultado obtido não foi, de tudo, absurdo. Vamos aplicar o laço."
   ]
  },
  {
   "cell_type": "code",
   "execution_count": null,
   "metadata": {
    "ExecuteTime": {
     "end_time": "2019-04-17T12:10:02.704158Z",
     "start_time": "2019-04-17T12:10:02.476511Z"
    }
   },
   "outputs": [],
   "source": [
    "# Laço para cálculo de custo de todas as 10 classes\n",
    "k = h.shape[1]\n",
    "cost_class = np.zeros((k, 1))\n",
    "for i in range(k):\n",
    "    h_class = h[:, i]\n",
    "    J = (np.log(h_class).T.dot(y) - np.log(1 - h_class).T.dot(1 - y)) / m\n",
    "    cost_class[i] = J"
   ]
  },
  {
   "cell_type": "code",
   "execution_count": null,
   "metadata": {
    "ExecuteTime": {
     "end_time": "2019-04-17T12:10:02.775241Z",
     "start_time": "2019-04-17T12:10:02.706518Z"
    }
   },
   "outputs": [],
   "source": [
    "# Verificando\n",
    "cost_class"
   ]
  },
  {
   "cell_type": "markdown",
   "metadata": {},
   "source": [
    "Não sei se este resultado é justo. Talvez teríamos também que indexar o vetor de labels y para cada uma das classes, evitando elevações no custo."
   ]
  },
  {
   "cell_type": "code",
   "execution_count": null,
   "metadata": {
    "ExecuteTime": {
     "end_time": "2019-04-17T12:10:02.862564Z",
     "start_time": "2019-04-17T12:10:02.777236Z"
    }
   },
   "outputs": [],
   "source": [
    "# Aplicando novamente\n",
    "k = h.shape[1]\n",
    "cost_class = np.zeros((k, 1))\n",
    "for i in range(1, k+1):\n",
    "    h_class = h[:, i-1]\n",
    "    y_class = (y == i) * 1\n",
    "    J = (np.log(h_class).T.dot(y_class) - np.log(1 - h_class).T.dot(1 - y_class)) / m\n",
    "    cost_class[i-1] = J"
   ]
  },
  {
   "cell_type": "code",
   "execution_count": null,
   "metadata": {
    "ExecuteTime": {
     "end_time": "2019-04-17T12:10:02.973801Z",
     "start_time": "2019-04-17T12:10:02.864559Z"
    }
   },
   "outputs": [],
   "source": [
    "cost_class"
   ]
  },
  {
   "cell_type": "code",
   "execution_count": null,
   "metadata": {
    "ExecuteTime": {
     "end_time": "2019-04-17T12:10:03.057591Z",
     "start_time": "2019-04-17T12:10:02.975151Z"
    }
   },
   "outputs": [],
   "source": [
    "# Será?\n",
    "sum(cost_class)"
   ]
  },
  {
   "cell_type": "markdown",
   "metadata": {},
   "source": [
    "Como assim custo negativo?"
   ]
  },
  {
   "cell_type": "code",
   "execution_count": null,
   "metadata": {
    "ExecuteTime": {
     "end_time": "2019-04-17T12:10:03.152636Z",
     "start_time": "2019-04-17T12:10:03.059994Z"
    }
   },
   "outputs": [],
   "source": [
    "h0 = h[:, 9]\n",
    "y0 = (y == 10)\n",
    "J = (np.log(h0).T.dot(y0) - np.log(1 - h0).T.dot(1 - y0)) / m\n",
    "J"
   ]
  },
  {
   "cell_type": "markdown",
   "metadata": {},
   "source": [
    "Já sei! Faltou um sinal negativo na fórmula..."
   ]
  },
  {
   "cell_type": "code",
   "execution_count": null,
   "metadata": {
    "ExecuteTime": {
     "end_time": "2019-04-17T12:10:03.228955Z",
     "start_time": "2019-04-17T12:10:03.155712Z"
    }
   },
   "outputs": [],
   "source": [
    "# Aplicando novamente\n",
    "k = h.shape[1]\n",
    "cost_class = np.zeros((k, 1))\n",
    "for i in range(1, k+1):\n",
    "    h_class = h[:, i-1]\n",
    "    y_class = (y == i) * 1\n",
    "    J = (np.log(h_class).T.dot(-y_class) - np.log(1 - h_class).T.dot(1 - y_class)) / m\n",
    "    cost_class[i-1] = J"
   ]
  },
  {
   "cell_type": "code",
   "execution_count": null,
   "metadata": {
    "ExecuteTime": {
     "end_time": "2019-04-17T12:10:03.304744Z",
     "start_time": "2019-04-17T12:10:03.230311Z"
    }
   },
   "outputs": [],
   "source": [
    "# Vetor de custos\n",
    "cost_class"
   ]
  },
  {
   "cell_type": "code",
   "execution_count": null,
   "metadata": {
    "ExecuteTime": {
     "end_time": "2019-04-17T12:10:03.383457Z",
     "start_time": "2019-04-17T12:10:03.306269Z"
    }
   },
   "outputs": [],
   "source": [
    "# Somando\n",
    "sum(cost_class)"
   ]
  },
  {
   "cell_type": "markdown",
   "metadata": {},
   "source": [
    "ÓTIMO! O RESULTADO ESPERADO DE ACORDO COM O PDF!"
   ]
  },
  {
   "cell_type": "code",
   "execution_count": null,
   "metadata": {
    "ExecuteTime": {
     "end_time": "2019-04-17T12:10:03.465802Z",
     "start_time": "2019-04-17T12:10:03.385574Z"
    }
   },
   "outputs": [],
   "source": [
    "# Implementando funções úteis\n",
    "def forwardPropagation(X, theta1, theta2):\n",
    "    \"\"\" Função responsável pela aplicação do procedimento de Forward Propagation que, por sua\n",
    "    vez, realiza o mapeamento de todas as camadas da Rede Neural, desde a camada de entrada\n",
    "    até a camada de saída, passando também pelas camadas ocultas\n",
    "    Input:\n",
    "        X: features do modelo;\n",
    "        theta1: parâmetros que mapeam a função da camada de entrada para a camada oculta\n",
    "        theta2: parâmetros que mapeam a função da camada de oculta para a camada de saída\n",
    "    Output:\n",
    "        h: função hypothesis contendo todas as predições do modelo\"\"\"\n",
    "    \n",
    "    # Adicionando termo bias\n",
    "    m = X.shape[0]\n",
    "    X_train = np.c_[(np.ones((m, 1)), X)]\n",
    "\n",
    "    # Parametriazando camada oculta\n",
    "    a2 = sigmoid(X_train.dot(theta1.T))\n",
    "    a2 = np.c_[(np.ones((m, 1)), a2)]\n",
    "\n",
    "    # Parametrizando camada de saída\n",
    "    h = sigmoid(a2.dot(theta2.T))\n",
    "    \n",
    "    return h\n",
    "\n",
    "# Definindo função custo\n",
    "def nnCostFunction(X, y, theta1, theta2):\n",
    "    \"\"\" Função responsável por calcular o custo de treinamento do modelo, de acordo com os\n",
    "    parâmetros obtidos\n",
    "    Input:\n",
    "        X: features do modelo;\n",
    "        y: vetor de label com 10 classes (dígitos de 0 a 9)\n",
    "        theta1: parâmetros que mapeam a função da camada de entrada para a camada oculta\n",
    "        theta2: parâmetros que mapeam a função da camada de oculta para a camada de saída\n",
    "    Output:\n",
    "        J: custo do modelo parametrizado por theta\"\"\"\n",
    "    \n",
    "    # Aplicando forward propagation\n",
    "    h = forwardPropagation(X, theta1, theta2)\n",
    "    \n",
    "    # Preparando variáveis\n",
    "    k = h.shape[1]\n",
    "    cost_class = np.zeros((k, 1))\n",
    "    \n",
    "    # Calculando custo para cada classse\n",
    "    for i in range(1, k+1):\n",
    "        h_class = h[:, i-1]\n",
    "        y_class = (y == i) * 1\n",
    "        J_temp = (np.log(h_class).T.dot(-y_class) - np.log(1 - h_class).T.dot(1 - y_class)) / m\n",
    "        cost_class[i-1] = J_temp\n",
    "    \n",
    "    # Somando o custo para todas as classes\n",
    "    J = sum(cost_class)\n",
    "    \n",
    "    return J"
   ]
  },
  {
   "cell_type": "code",
   "execution_count": null,
   "metadata": {
    "ExecuteTime": {
     "end_time": "2019-04-17T12:10:03.568118Z",
     "start_time": "2019-04-17T12:10:03.467349Z"
    }
   },
   "outputs": [],
   "source": [
    "# Testando\n",
    "J = nnCostFunction(X, y, theta1, theta2)\n",
    "print(f'Custo: {J}')"
   ]
  },
  {
   "cell_type": "markdown",
   "metadata": {},
   "source": [
    "#### Função Custo Regularizada"
   ]
  },
  {
   "cell_type": "markdown",
   "metadata": {},
   "source": [
    "Com o sucesso da implementação da função custo, vamos agora aplicar os termos de regularização."
   ]
  },
  {
   "cell_type": "markdown",
   "metadata": {},
   "source": [
    "\\begin{equation*}\n",
    "    J(\\theta)=\\frac{1}{m}\\sum_{i=1}^{m}\\sum_{k=1}^{K}\\left[-y_k^{(i)}\\log{(h_\\theta(x^{(i)})_k)}-\n",
    "              (1 - y_k^{(i)})\\log{(1-h_\\theta(x^{(i)})_k)}\\right] +\n",
    "              \\frac{\\lambda}{2m}\n",
    "              \\left[\\sum_{j=1}^{25}\\sum_{k=1}^{400}\\left(\\theta_{j,k}^{(1)}\\right)^2 +\n",
    "                    \\sum_{j=1}^{10}\\sum_{k=1}^{25}\\left(\\theta_{j,k}^{(2)}\\right)^2\\right]\n",
    "\\end{equation*}"
   ]
  },
  {
   "cell_type": "code",
   "execution_count": null,
   "metadata": {
    "ExecuteTime": {
     "end_time": "2019-04-17T12:10:03.620361Z",
     "start_time": "2019-04-17T12:10:03.569558Z"
    }
   },
   "outputs": [],
   "source": [
    "# Testando\n",
    "(theta1[0] * theta1[0])[0]"
   ]
  },
  {
   "cell_type": "code",
   "execution_count": null,
   "metadata": {
    "ExecuteTime": {
     "end_time": "2019-04-17T12:10:03.701645Z",
     "start_time": "2019-04-17T12:10:03.622673Z"
    }
   },
   "outputs": [],
   "source": [
    "np.square(theta1)[0][0]"
   ]
  },
  {
   "cell_type": "code",
   "execution_count": null,
   "metadata": {
    "ExecuteTime": {
     "end_time": "2019-04-17T12:10:03.779343Z",
     "start_time": "2019-04-17T12:10:03.703226Z"
    }
   },
   "outputs": [],
   "source": [
    "sum(sum(np.square(theta1)))"
   ]
  },
  {
   "cell_type": "code",
   "execution_count": null,
   "metadata": {
    "ExecuteTime": {
     "end_time": "2019-04-17T12:10:03.887315Z",
     "start_time": "2019-04-17T12:10:03.781070Z"
    }
   },
   "outputs": [],
   "source": [
    "# Redefinindo função custo\n",
    "h = forwardPropagation(X, theta1, theta2)\n",
    "    \n",
    "# Preparando variáveis\n",
    "[m, k] = h.shape\n",
    "cost_class = np.zeros((k, 1))\n",
    "\n",
    "# Calculando custo para cada classse\n",
    "for i in range(1, k+1):\n",
    "    h_class = h[:, i-1]\n",
    "    y_class = (y == i) * 1\n",
    "    J_temp = (np.log(h_class).T.dot(-y_class) - np.log(1 - h_class).T.dot(1 - y_class)) / m\n",
    "    cost_class[i-1] = J_temp\n",
    "\n",
    "# Calculando parâmetros de regularização\n",
    "lamda = 0.1\n",
    "reg1 = sum(sum(np.square(theta1)))\n",
    "reg2 = sum(sum(np.square(theta2)))\n",
    "reg_total = (lamda / (2*m)) * (reg1 + reg2)\n",
    "\n",
    "# Somando o custo para todas as classes\n",
    "J = sum(cost_class) + reg_total"
   ]
  },
  {
   "cell_type": "code",
   "execution_count": null,
   "metadata": {
    "ExecuteTime": {
     "end_time": "2019-04-17T12:10:03.939415Z",
     "start_time": "2019-04-17T12:10:03.890367Z"
    }
   },
   "outputs": [],
   "source": [
    "# Verificando\n",
    "J"
   ]
  },
  {
   "cell_type": "markdown",
   "metadata": {},
   "source": [
    "O resultado foi coerente."
   ]
  },
  {
   "cell_type": "code",
   "execution_count": null,
   "metadata": {
    "ExecuteTime": {
     "end_time": "2019-04-17T12:10:04.021020Z",
     "start_time": "2019-04-17T12:10:03.940414Z"
    }
   },
   "outputs": [],
   "source": [
    "# Redefinindo função custo regularizada\n",
    "def nnRegCostFunction(X, y, theta1, theta2, lamda):\n",
    "    \"\"\" Função responsável por calcular o custo de treinamento do modelo, de acordo com os\n",
    "    parâmetros obtidos\n",
    "    Input:\n",
    "        X: features do modelo;\n",
    "        y: vetor de label com 10 classes (dígitos de 0 a 9)\n",
    "        theta1: parâmetros que mapeam a função da camada de entrada para a camada oculta\n",
    "        theta2: parâmetros que mapeam a função da camada de oculta para a camada de saída\n",
    "        lamda: fator de regularização\n",
    "    Output:\n",
    "        J_reg: custo do modelo parametrizado por theta\"\"\"\n",
    "    \n",
    "    # Redefinindo função custo\n",
    "    h = forwardPropagation(X, theta1, theta2)\n",
    "\n",
    "    # Preparando variáveis\n",
    "    [m, k] = h.shape\n",
    "    cost_class = np.zeros((k, 1))\n",
    "\n",
    "    # Calculando custo para cada classse\n",
    "    for i in range(1, k+1):\n",
    "        h_class = h[:, i-1]\n",
    "        y_class = (y == i) * 1\n",
    "        J_temp = (np.log(h_class).T.dot(-y_class) - np.log(1 - h_class).T.dot(1 - y_class)) / m\n",
    "        cost_class[i-1] = J_temp\n",
    "\n",
    "    # Calculando parâmetros de regularização\n",
    "    reg1 = sum(sum(np.square(theta1)))\n",
    "    reg2 = sum(sum(np.square(theta2)))\n",
    "    reg_total = (lamda / (2*m)) * (reg1 + reg2)\n",
    "\n",
    "    # Somando o custo para todas as classes\n",
    "    J_reg = sum(cost_class) + reg_total\n",
    "    \n",
    "    return J_reg"
   ]
  },
  {
   "cell_type": "code",
   "execution_count": null,
   "metadata": {
    "ExecuteTime": {
     "end_time": "2019-04-17T12:10:04.184587Z",
     "start_time": "2019-04-17T12:10:04.023110Z"
    }
   },
   "outputs": [],
   "source": [
    "# Testando para lambda = 0.1\n",
    "J = nnRegCostFunction(X, y, theta1, theta2, 0.1)\n",
    "print(J)"
   ]
  },
  {
   "cell_type": "markdown",
   "metadata": {},
   "source": [
    "### Unrolling Parameters"
   ]
  },
  {
   "cell_type": "markdown",
   "metadata": {},
   "source": [
    "Para uma aplicação efetiva do nosso modelo, precisamos aplicar uma modificação no modo com as funções foram construídas. Como temos plena ciência da nossa rede e, sabendo que a mesma contem uma camada de entrada, uma camada oculta e uma camada de saída, totalizando dois conjuntos de parâmetros (theta1 e theta2), construímos nossas funções de acordo com esse conhecimento.\n",
    "\n",
    "Entretanto, é preciso levar em consideração que nosso modelo deve funcionar qualquer que seja a configuração da nossa rede, tendo 1, 2, 3 ou n camadas ocultas. Para isso, ao invés de passarmos as matrizes de parâmetros separadamente para nossas funções (como temos feito), precisamos realizar um procedimento que junte todas as N matrizes de parâmetros em uma única estrutura, fazendo então o procedimento de ```unrolling```, ou seja, o procedimenteo de separação dos parâmetros dentro de cada uma das funções.\n",
    "\n",
    "Isto irá servir como base para a aplicação de funções de otimização, como ```scipy.optimize.fmin_cg```."
   ]
  },
  {
   "cell_type": "markdown",
   "metadata": {},
   "source": [
    "#### Agrupando Parâmetros"
   ]
  },
  {
   "cell_type": "code",
   "execution_count": null,
   "metadata": {
    "ExecuteTime": {
     "end_time": "2019-04-17T12:10:04.262099Z",
     "start_time": "2019-04-17T12:10:04.186722Z"
    }
   },
   "outputs": [],
   "source": [
    "# Testando\n",
    "print(f'Shape theta1: {theta1.shape}')\n",
    "print(f'Shape theta2: {theta2.shape}')"
   ]
  },
  {
   "cell_type": "code",
   "execution_count": null,
   "metadata": {
    "ExecuteTime": {
     "end_time": "2019-04-17T12:10:04.343370Z",
     "start_time": "2019-04-17T12:10:04.262099Z"
    }
   },
   "outputs": [],
   "source": [
    "# Agrupando tudo em um array unidimensional\n",
    "t1_flatten = theta1.flatten()\n",
    "t1_flatten.shape"
   ]
  },
  {
   "cell_type": "code",
   "execution_count": null,
   "metadata": {
    "ExecuteTime": {
     "end_time": "2019-04-17T12:10:04.428748Z",
     "start_time": "2019-04-17T12:10:04.349555Z"
    }
   },
   "outputs": [],
   "source": [
    "# Verificando\n",
    "t1_flatten[:10]"
   ]
  },
  {
   "cell_type": "code",
   "execution_count": null,
   "metadata": {
    "ExecuteTime": {
     "end_time": "2019-04-17T12:10:04.514208Z",
     "start_time": "2019-04-17T12:10:04.432124Z"
    }
   },
   "outputs": [],
   "source": [
    "# Comparando com theta1\n",
    "theta1[0][:10]"
   ]
  },
  {
   "cell_type": "markdown",
   "metadata": {},
   "source": [
    "Perfeito! Conseguimos continuar!"
   ]
  },
  {
   "cell_type": "code",
   "execution_count": null,
   "metadata": {
    "ExecuteTime": {
     "end_time": "2019-04-17T12:10:04.595420Z",
     "start_time": "2019-04-17T12:10:04.514208Z"
    }
   },
   "outputs": [],
   "source": [
    "# Agrupando matrizes\n",
    "nn_params = np.r_[theta1.flatten(), theta2.flatten()]\n",
    "print(f'Dimensões de nn_params: {nn_params.shape}')"
   ]
  },
  {
   "cell_type": "code",
   "execution_count": null,
   "metadata": {
    "ExecuteTime": {
     "end_time": "2019-04-17T12:10:04.685172Z",
     "start_time": "2019-04-17T12:10:04.597414Z"
    }
   },
   "outputs": [],
   "source": [
    "# Verificando primeiras 10 colunas (devem bater com theta1)\n",
    "nn_params[:401][:10]"
   ]
  },
  {
   "cell_type": "code",
   "execution_count": null,
   "metadata": {
    "ExecuteTime": {
     "end_time": "2019-04-17T12:10:04.769416Z",
     "start_time": "2019-04-17T12:10:04.686882Z"
    }
   },
   "outputs": [],
   "source": [
    "# Verificando\n",
    "theta1[0][:10]"
   ]
  },
  {
   "cell_type": "code",
   "execution_count": null,
   "metadata": {
    "ExecuteTime": {
     "end_time": "2019-04-17T12:10:04.854398Z",
     "start_time": "2019-04-17T12:10:04.771345Z"
    }
   },
   "outputs": [],
   "source": [
    "# Verificando da coluna 10025 até a 10035 (deve bater com theta2)\n",
    "nn_params[10025:10035]"
   ]
  },
  {
   "cell_type": "code",
   "execution_count": null,
   "metadata": {
    "ExecuteTime": {
     "end_time": "2019-04-17T12:10:04.942885Z",
     "start_time": "2019-04-17T12:10:04.855766Z"
    }
   },
   "outputs": [],
   "source": [
    "# Verificando\n",
    "theta2[0][:10]"
   ]
  },
  {
   "cell_type": "markdown",
   "metadata": {
    "ExecuteTime": {
     "end_time": "2019-04-14T17:44:45.524879Z",
     "start_time": "2019-04-14T17:44:45.518927Z"
    }
   },
   "source": [
    "Fontes:\n",
    "\n",
    "[numpy.r_](https://docs.scipy.org/doc/numpy-1.15.1/reference/generated/numpy.r_.html); [row-wise-merging](https://stackoverflow.com/questions/30597869/what-does-np-r-do-numpy)"
   ]
  },
  {
   "cell_type": "markdown",
   "metadata": {},
   "source": [
    "#### Separando Parâmetros"
   ]
  },
  {
   "cell_type": "markdown",
   "metadata": {},
   "source": [
    "Após o agrupamento, precisamos implementar linhas de código para separar o array agrupado de acordo com a quantidade de camadas/parâmetros presentes em nossa rede. Isto será aplicado dentro da cada uma das funções (custo e gradiente)"
   ]
  },
  {
   "cell_type": "code",
   "execution_count": null,
   "metadata": {
    "ExecuteTime": {
     "end_time": "2019-04-17T12:10:05.022521Z",
     "start_time": "2019-04-17T12:10:04.945017Z"
    }
   },
   "outputs": [],
   "source": [
    "# Variáveis\n",
    "input_layer_size = 400\n",
    "hidden_layer_size = 25\n",
    "num_labels = 10"
   ]
  },
  {
   "cell_type": "code",
   "execution_count": null,
   "metadata": {
    "ExecuteTime": {
     "end_time": "2019-04-17T12:10:05.109804Z",
     "start_time": "2019-04-17T12:10:05.023527Z"
    }
   },
   "outputs": [],
   "source": [
    "# Quantidade de elementos de theta1\n",
    "qtd_theta1 = (input_layer_size + 1) * hidden_layer_size\n",
    "qtd_theta1"
   ]
  },
  {
   "cell_type": "code",
   "execution_count": null,
   "metadata": {
    "ExecuteTime": {
     "end_time": "2019-04-17T12:10:05.195673Z",
     "start_time": "2019-04-17T12:10:05.110800Z"
    }
   },
   "outputs": [],
   "source": [
    "# Retornando dimensões de theta1\n",
    "dim_theta1 = (hidden_layer_size, input_layer_size + 1)\n",
    "dim_theta1"
   ]
  },
  {
   "cell_type": "code",
   "execution_count": null,
   "metadata": {
    "ExecuteTime": {
     "end_time": "2019-04-17T12:10:05.277402Z",
     "start_time": "2019-04-17T12:10:05.199662Z"
    }
   },
   "outputs": [],
   "source": [
    "# Testando retorno de theta1\n",
    "t1 = nn_params[:qtd_theta1]\n",
    "t1 = t1.reshape(dim_theta1)\n",
    "t1.shape"
   ]
  },
  {
   "cell_type": "code",
   "execution_count": null,
   "metadata": {
    "ExecuteTime": {
     "end_time": "2019-04-17T12:10:05.362476Z",
     "start_time": "2019-04-17T12:10:05.278616Z"
    }
   },
   "outputs": [],
   "source": [
    "# Primeiras linhas batem?\n",
    "print(f'Primeiras linhas de t1: \\n{t1[0][:5]}')\n",
    "print(f'\\nPrimeiras linhas de theta1: \\n{theta1[0][:5]}')"
   ]
  },
  {
   "cell_type": "code",
   "execution_count": null,
   "metadata": {
    "ExecuteTime": {
     "end_time": "2019-04-17T12:10:05.450000Z",
     "start_time": "2019-04-17T12:10:05.364471Z"
    }
   },
   "outputs": [],
   "source": [
    "# Retornando theta2\n",
    "qtd_theta2 = (hidden_layer_size + 1) * num_labels # não é necessário\n",
    "dim_theta2 = (num_labels, hidden_layer_size+1)\n",
    "t2 = nn_params[qtd_theta1:].reshape(dim_theta2)\n",
    "t2.shape"
   ]
  },
  {
   "cell_type": "code",
   "execution_count": null,
   "metadata": {
    "ExecuteTime": {
     "end_time": "2019-04-17T12:10:05.536910Z",
     "start_time": "2019-04-17T12:10:05.451550Z"
    }
   },
   "outputs": [],
   "source": [
    "# Primeiras linhas batem?\n",
    "print(f'Primeiras linhas de t2: \\n{t2[0][:5]}')\n",
    "print(f'\\nPrimeiras linhas de theta2: \\n{theta2[0][:5]}')"
   ]
  },
  {
   "cell_type": "markdown",
   "metadata": {},
   "source": [
    "Aparentemente funcionou. Os resultados foram obtidos de acordo com o esperado. Vamos aplicar esta filosofia dentro das funções já implementadas para viabilizar a aplicação."
   ]
  },
  {
   "cell_type": "markdown",
   "metadata": {},
   "source": [
    "#### Redefinindo Funções"
   ]
  },
  {
   "cell_type": "code",
   "execution_count": null,
   "metadata": {
    "ExecuteTime": {
     "end_time": "2019-04-17T12:10:05.641696Z",
     "start_time": "2019-04-17T12:10:05.537908Z"
    }
   },
   "outputs": [],
   "source": [
    "# Função para aplicação do procedimento de unrolling\n",
    "def unrollingParams(nn_params, input_layer_size, hidden_layer_size, num_labels):\n",
    "    \"\"\" Função responsável pela aplicação do procedimento de unrolling de parâmetros,\n",
    "    recebendo um vetor agrupado com todos os parâmetros como argumento e retornando a\n",
    "    separação destes vetores de acordo com a quantidade de matrizes de parâmetros (camadas)\n",
    "    \n",
    "    Input:\n",
    "        nn_params: vetor de parâmetros agrupados (todas as camadas)\n",
    "        input_layer_size: quantidade de nós da camada de entrada (features = n)\n",
    "        hidden_layer_size: quantidade de nós na camada oculta\n",
    "        num_labels: quantidade de nós na camada de saída (classes)\n",
    "    Output:\n",
    "        theta1: parâmetros que mapeam a função da camada de entrada para a camada oculta\n",
    "        theta2: parâmetros que mapeam a função da camada de oculta para a camada de saída\"\"\"\n",
    "    \n",
    "    # Parâmetros importantes para o procedimento\n",
    "    qtd_theta1 = (input_layer_size + 1) * hidden_layer_size\n",
    "    dim_theta1 = (hidden_layer_size, input_layer_size + 1)\n",
    "    dim_theta2 = (num_labels, hidden_layer_size + 1)\n",
    "    \n",
    "    # Retornando parâmetros\n",
    "    theta1 = nn_params[:qtd_theta1].reshape(dim_theta1)\n",
    "    theta2 = nn_params[qtd_theta1:].reshape(dim_theta2)\n",
    "    \n",
    "    return theta1, theta2"
   ]
  },
  {
   "cell_type": "code",
   "execution_count": null,
   "metadata": {
    "ExecuteTime": {
     "end_time": "2019-04-17T12:10:05.785451Z",
     "start_time": "2019-04-17T12:10:05.641696Z"
    }
   },
   "outputs": [],
   "source": [
    "# Testando função\n",
    "theta1, theta2 = unrollingParams(nn_params, input_layer_size, \n",
    "                                 hidden_layer_size, num_labels)\n",
    "\n",
    "print(f'Primeiras linhas de theta1: {theta1[0][:5]}')\n",
    "print(f'Shape de theta1: {theta1.shape}')\n",
    "print(f'Primeiras linhas de theta2: {theta2[0][:5]}')\n",
    "print(f'Shape de theta1: {theta2.shape}')"
   ]
  },
  {
   "cell_type": "code",
   "execution_count": null,
   "metadata": {
    "ExecuteTime": {
     "end_time": "2019-04-17T12:10:06.088435Z",
     "start_time": "2019-04-17T12:10:05.793815Z"
    }
   },
   "outputs": [],
   "source": [
    "# Implementando funções úteis\n",
    "def forwardPropagation(nn_params, X, input_layer_size, hidden_layer_size, num_labels):\n",
    "    \"\"\" Função responsável pela aplicação do procedimento de Forward Propagation que, por sua\n",
    "    vez, realiza o mapeamento de todas as camadas da Rede Neural, desde a camada de entrada\n",
    "    até a camada de saída, passando também pelas camadas ocultas\n",
    "    Input:\n",
    "        nn_params: vetor de parâmetros agrupados (todas as camadas);\n",
    "        X: features do modelo\n",
    "        input_layer_size: quantidade de nós da camada de entrada (features = n)\n",
    "        hidden_layer_size: quantidade de nós na camada oculta\n",
    "        num_labels: quantidade de nós na camada de saída (classes)\n",
    "    Output:\n",
    "        h: predições para os dados de entrada estabelecidos\"\"\"\n",
    "    \n",
    "    # Separando parâmetros\n",
    "    theta1, theta2 = unrollingParams(nn_params, input_layer_size,\n",
    "                                     hidden_layer_size, num_labels)\n",
    "    \n",
    "    # Adicionando termo bias\n",
    "    m = X.shape[0]\n",
    "    X_train = np.c_[(np.ones((m, 1)), X)]\n",
    "\n",
    "    # Parametriazando camada oculta\n",
    "    a2 = sigmoid(X_train.dot(theta1.T))\n",
    "    a2 = np.c_[(np.ones((m, 1)), a2)]\n",
    "\n",
    "    # Parametrizando camada de saída\n",
    "    h = sigmoid(a2.dot(theta2.T))\n",
    "    \n",
    "    return h"
   ]
  },
  {
   "cell_type": "code",
   "execution_count": null,
   "metadata": {
    "ExecuteTime": {
     "end_time": "2019-04-17T12:10:06.175477Z",
     "start_time": "2019-04-17T12:10:06.092397Z"
    }
   },
   "outputs": [],
   "source": [
    "# Definindo função custo\n",
    "def nnCostFunction(nn_params, X, y, input_layer_size, hidden_layer_size, num_labels):\n",
    "    \"\"\" Função responsável por calcular o custo de treinamento do modelo, de acordo com os\n",
    "    parâmetros obtidos\n",
    "    Input:\n",
    "        nn_params: vetor de parâmetros agrupados (todas as camadas);\n",
    "        X: features do modelo\n",
    "        y: vetor de labels\n",
    "        input_layer_size: quantidade de nós da camada de entrada (features = n)\n",
    "        hidden_layer_size: quantidade de nós na camada oculta\n",
    "        num_labels: quantidade de nós na camada de saída (classes)\n",
    "    Output:\n",
    "        J: custo do modelo parametrizado pelas matrizes theta\"\"\"\n",
    "    \n",
    "    # Aplicando forward propagation\n",
    "    h = forwardPropagation(nn_params, X, input_layer_size, \n",
    "                           hidden_layer_size, num_labels)\n",
    "    \n",
    "    # Preparando variáveis\n",
    "    k = h.shape[1]\n",
    "    cost_class = np.zeros((k, 1))\n",
    "    \n",
    "    # Calculando custo para cada classse\n",
    "    for i in range(1, k+1):\n",
    "        h_class = h[:, i-1]\n",
    "        y_class = (y == i) * 1\n",
    "        J_temp = (np.log(h_class).T.dot(-y_class) - np.log(1 - h_class).T.dot(1 - y_class)) / m\n",
    "        cost_class[i-1] = J_temp\n",
    "    \n",
    "    # Somando o custo para todas as classes\n",
    "    J = sum(cost_class)\n",
    "    \n",
    "    return J"
   ]
  },
  {
   "cell_type": "code",
   "execution_count": null,
   "metadata": {
    "ExecuteTime": {
     "end_time": "2019-04-17T12:10:06.278840Z",
     "start_time": "2019-04-17T12:10:06.175477Z"
    }
   },
   "outputs": [],
   "source": [
    "# Testando função custo sem regularização\n",
    "input_layer_size = 400\n",
    "hidden_layer_size = 25\n",
    "num_labels = 10\n",
    "\n",
    "J = nnCostFunction(nn_params, X, y, input_layer_size, \n",
    "                   hidden_layer_size, num_labels)\n",
    "print(f'Custo: {J}')"
   ]
  },
  {
   "cell_type": "markdown",
   "metadata": {},
   "source": [
    "O resultado esperado foi obtido! Vamos agora redefinir a função de custo com ```regularização```."
   ]
  },
  {
   "cell_type": "code",
   "execution_count": null,
   "metadata": {
    "ExecuteTime": {
     "end_time": "2019-04-17T12:10:06.329659Z",
     "start_time": "2019-04-17T12:10:06.280461Z"
    }
   },
   "outputs": [],
   "source": [
    "# Redefinindo função custo regularizada\n",
    "def nnRegCostFunction(nn_params, X, y, input_layer_size, \n",
    "                      hidden_layer_size, num_labels, lamda):\n",
    "    \"\"\" Função responsável por calcular o custo regularizado de treinamento do modelo, \n",
    "    de acordo com os parâmetros obtidos\n",
    "    Input:\n",
    "        nn_params: vetor de parâmetros agrupados (todas as camadas);\n",
    "        X: features do modelo\n",
    "        y: vetor de labels\n",
    "        input_layer_size: quantidade de nós da camada de entrada (features = n)\n",
    "        hidden_layer_size: quantidade de nós na camada oculta\n",
    "        num_labels: quantidade de nós na camada de saída (classes)\n",
    "        lamda: fator de regularização\n",
    "    Output:\n",
    "        J_reg: custo do modelo parametrizado pelas matrizes theta\"\"\"\n",
    "    \n",
    "    # Aplicando forward propagation\n",
    "    h = forwardPropagation(nn_params, X, input_layer_size, \n",
    "                           hidden_layer_size, num_labels)\n",
    "    \n",
    "    # Retornando parâmetros para regularização\n",
    "    theta1, theta2 = unrollingParams(nn_params, input_layer_size, \n",
    "                                     hidden_layer_size, num_labels)\n",
    "\n",
    "    # Preparando variáveis\n",
    "    [m, k] = h.shape\n",
    "    cost_class = np.zeros((k, 1))\n",
    "\n",
    "    # Calculando custo para cada classse\n",
    "    for i in range(1, k+1):\n",
    "        h_class = h[:, i-1]\n",
    "        y_class = (y == i) * 1\n",
    "        J_temp = (np.log(h_class).T.dot(-y_class) - np.log(1 - h_class).T.dot(1 - y_class)) / m\n",
    "        cost_class[i-1] = J_temp\n",
    "\n",
    "    # Calculando parâmetros de regularização\n",
    "    reg1 = sum(sum(np.square(theta1)))\n",
    "    reg2 = sum(sum(np.square(theta2)))\n",
    "    reg_total = (lamda / (2*m)) * (reg1 + reg2)\n",
    "\n",
    "    # Somando o custo para todas as classes\n",
    "    J_reg = sum(cost_class) + reg_total\n",
    "    \n",
    "    return J_reg"
   ]
  },
  {
   "cell_type": "code",
   "execution_count": null,
   "metadata": {
    "ExecuteTime": {
     "end_time": "2019-04-17T12:10:06.461077Z",
     "start_time": "2019-04-17T12:10:06.329659Z"
    }
   },
   "outputs": [],
   "source": [
    "# Testando para lambda = 0 (resultado deve ser o mesmo)\n",
    "lamda = 0\n",
    "J_reg0 = nnRegCostFunction(nn_params, X, y, input_layer_size, \n",
    "                            hidden_layer_size, num_labels, lamda)\n",
    "print(f'Custo para lambda=0: {J_reg0}')\n",
    "\n",
    "# Testando para lambda = 0.1 \n",
    "lamda = 1\n",
    "J_reg1 = nnRegCostFunction(nn_params, X, y, input_layer_size, \n",
    "                            hidden_layer_size, num_labels, lamda)\n",
    "print(f'Custo para lambda=1: {J_reg1}')"
   ]
  },
  {
   "cell_type": "markdown",
   "metadata": {},
   "source": [
    "Os resultados foram obtidos de acordo com o esperado."
   ]
  },
  {
   "cell_type": "markdown",
   "metadata": {},
   "source": [
    "### Back Propagation"
   ]
  },
  {
   "cell_type": "markdown",
   "metadata": {},
   "source": [
    "Nesta parte do exercício, será implementado o algoritmo de ```back propagation``` para computar o gradiente da rede. Para isso, vamos modificar a função ```nnCostFunction``` sem regularização e, depois, ```nnRegCostFunction``` com regularização.\n",
    "\n",
    "Uma vez implementado o algoritmo, teremos condições de minimizar a função custo em busca dos melhores parâmetro ```theta``` para o modelo, utilizando módulos de otimização como ```scipy.optimize.minimize``` ou ```scipi.optimize.fmin_cg```."
   ]
  },
  {
   "cell_type": "markdown",
   "metadata": {},
   "source": [
    "#### Sigmoid Gradient"
   ]
  },
  {
   "cell_type": "markdown",
   "metadata": {},
   "source": [
    "Para auxiliar no início desta implementação, será necessário criar uma função para calcular o gradiente da função sigmoidal, dado por:"
   ]
  },
  {
   "cell_type": "markdown",
   "metadata": {},
   "source": [
    "\\begin{equation*}\n",
    "    g^{'}(z)=\\frac{d}{dz}g(z)=g(z)(1-g(z))\n",
    "\\end{equation*}\n",
    "\n",
    "onde\n",
    "\\begin{equation*}\n",
    "    sigmoid(z)=g(z)=\\frac{1}{1+e^{-z}}\n",
    "\\end{equation*}"
   ]
  },
  {
   "cell_type": "markdown",
   "metadata": {},
   "source": [
    "Para testar, é esperado que valores elevados de z, a função retorne 0. Para z=0, espera-se um valor exato de 0.25"
   ]
  },
  {
   "cell_type": "code",
   "execution_count": null,
   "metadata": {
    "ExecuteTime": {
     "end_time": "2019-04-17T12:10:06.483052Z",
     "start_time": "2019-04-17T12:10:06.463072Z"
    }
   },
   "outputs": [],
   "source": [
    "# Testando para z = 0\n",
    "z = 0\n",
    "teste_sigmoidal_gradient = (1 / (1 + np.exp(-z))) * (1 - (1 / (1 + np.exp(-z))))\n",
    "print(f'Sigmoid gradient para z=0 (valor esperado: 0.25): {teste_sigmoidal_gradient}')"
   ]
  },
  {
   "cell_type": "code",
   "execution_count": null,
   "metadata": {
    "ExecuteTime": {
     "end_time": "2019-04-17T12:10:06.557339Z",
     "start_time": "2019-04-17T12:10:06.484048Z"
    }
   },
   "outputs": [],
   "source": [
    "# Testando para z = alto\n",
    "z = 1e128\n",
    "teste_sigmoidal_gradient = (1 / (1 + np.exp(-z))) * (1 - (1 / (1 + np.exp(-z))))\n",
    "print(f'Sigmoid gradient para z=0 (valor esperado: 0): {teste_sigmoidal_gradient}')"
   ]
  },
  {
   "cell_type": "code",
   "execution_count": null,
   "metadata": {
    "ExecuteTime": {
     "end_time": "2019-04-17T12:10:06.630628Z",
     "start_time": "2019-04-17T12:10:06.558823Z"
    }
   },
   "outputs": [],
   "source": [
    "# Definindo função\n",
    "def sigmoidGradient(z):\n",
    "    \"\"\" Função gradiente sigmoidal a ser utilizada na implementada no Backpropagation\n",
    "    Input:\n",
    "        z: matematicamente definido por X.dot(theta)\n",
    "    Output:\n",
    "        h: função hypothesis\"\"\"\n",
    "    \n",
    "    return (1 / (1 + np.exp(-z))) * (1 - (1 / (1 + np.exp(-z))))"
   ]
  },
  {
   "cell_type": "code",
   "execution_count": null,
   "metadata": {
    "ExecuteTime": {
     "end_time": "2019-04-17T12:10:06.704617Z",
     "start_time": "2019-04-17T12:10:06.632631Z"
    }
   },
   "outputs": [],
   "source": [
    "# Testando\n",
    "sig_test = np.array([1, -.5, 0, .5, 1])\n",
    "print(sigmoidGradient(sig_test))"
   ]
  },
  {
   "cell_type": "markdown",
   "metadata": {},
   "source": [
    "#### Inicialização Randômica"
   ]
  },
  {
   "cell_type": "markdown",
   "metadata": {},
   "source": [
    "Para implementar um bom treinamento de uma rede neural, é importante inicializar randomicamente os parâmetros, aplicando assim uma quebra de simetria e evitando que o modelo, de alguma forma, apresente um comportamente incomum caso os parâmetros iniciais sejam compostos apenas por zeros."
   ]
  },
  {
   "cell_type": "markdown",
   "metadata": {},
   "source": [
    "Regra:\n",
    "\n",
    "\\begin{equation*}\n",
    "    \\epsilon=\\frac{\\sqrt{6}}{\\sqrt{L_{in} + L_{out}}}\n",
    "\\end{equation*}"
   ]
  },
  {
   "cell_type": "markdown",
   "metadata": {},
   "source": [
    "Onde:\n",
    "\n",
    "\\begin{equation*}\n",
    "    L_{in} = s_l\n",
    "\\end{equation*}\n",
    "\n",
    "\\begin{equation*}\n",
    "    L_{out} = s_{l+1}\n",
    "\\end{equation*}\n",
    "\n",
    "Sendo estes os números de unidades na camada adjacente de theta^(l). Por padrão, faremos ```epsilon = 0.12```"
   ]
  },
  {
   "cell_type": "code",
   "execution_count": null,
   "metadata": {
    "ExecuteTime": {
     "end_time": "2019-04-17T12:10:06.809306Z",
     "start_time": "2019-04-17T12:10:06.706718Z"
    }
   },
   "outputs": [],
   "source": [
    "# Tentando a inicialização para theta1\n",
    "print('Dimensões de theta1: 25x401')\n",
    "eps = .12\n",
    "theta1_random = np.random.random((25, 401)) * 2 * eps - eps\n",
    "theta1_random.shape"
   ]
  },
  {
   "cell_type": "code",
   "execution_count": null,
   "metadata": {
    "ExecuteTime": {
     "end_time": "2019-04-17T12:10:06.900041Z",
     "start_time": "2019-04-17T12:10:06.812904Z"
    }
   },
   "outputs": [],
   "source": [
    "# Definindo função\n",
    "def randomInitParams(Lin, Lout):\n",
    "    \"\"\" Função para inicialização randomica dos parâmetros da rede\n",
    "    Input:\n",
    "        Lin: quantidade de nós da camada adjacente (direita) ao set de parâmetros\n",
    "        Lout: quantidade de nós da camada adjacente (esquerda) ao set de parâmetros\n",
    "    Output:\n",
    "        theta_random: matriz de parâmetros inicializada randomicamente\"\"\"\n",
    "    \n",
    "    # Parâmetros epsilon\n",
    "    eps = .12\n",
    "    \n",
    "    return np.random.random((Lin, Lout)) * 2 * eps - eps"
   ]
  },
  {
   "cell_type": "code",
   "execution_count": null,
   "metadata": {
    "ExecuteTime": {
     "end_time": "2019-04-17T12:10:06.985877Z",
     "start_time": "2019-04-17T12:10:06.904092Z"
    }
   },
   "outputs": [],
   "source": [
    "# Inicializando theta1 e theta2\n",
    "theta1_random = randomInitParams(25, 401)\n",
    "theta2_random = randomInitParams(10, 26)\n",
    "\n",
    "print(f'Dimensões de theta1: {theta1.shape}')\n",
    "print(f'Dimensões de theta2: {theta2.shape}')"
   ]
  },
  {
   "cell_type": "markdown",
   "metadata": {},
   "source": [
    "#### Calculando Back Prop"
   ]
  },
  {
   "cell_type": "markdown",
   "metadata": {},
   "source": [
    "Chegamos agora ao ponto de implementação do algoritmo de ```back propagation```. Dado um exemplo (x, y), vamos primeiro rodar um ```forward pass``` para computar todas as ativações da rede, incluindo um valor de output para a função ```hypothesis h(x)```. Então, para cada nó ```j``` na camada ```l```, iremos calcular um ```termo de erro delta``` que mede o quão responsável é aquele nó por qualquer erro na saída."
   ]
  },
  {
   "cell_type": "markdown",
   "metadata": {},
   "source": [
    "Para um nó de saída, podemos calcular diretamente o valor de ```delta``` através da diferença entre o output gerado e o valor real. Para as camadas ocultas, vamos computar o ```delta``` baseado em uma média ponderada dos termos de erro dos nós ```l + 1```."
   ]
  },
  {
   "attachments": {
    "image.png": {
     "image/png": "[encoded data removed]"
    }
   },
   "cell_type": "markdown",
   "metadata": {},
   "source": [
    "![image.png](attachment:image.png)"
   ]
  },
  {
   "cell_type": "markdown",
   "metadata": {},
   "source": [
    "##### Forward Pass"
   ]
  },
  {
   "cell_type": "markdown",
   "metadata": {},
   "source": [
    "Aplicando o requesitado pelo item **1** da imagem acima."
   ]
  },
  {
   "cell_type": "code",
   "execution_count": null,
   "metadata": {
    "ExecuteTime": {
     "end_time": "2019-04-17T12:10:07.103392Z",
     "start_time": "2019-04-17T12:10:06.989853Z"
    }
   },
   "outputs": [],
   "source": [
    "# Aplicando forward pass\n",
    "h = forwardPropagation(nn_params, X, input_layer_size, hidden_layer_size, num_labels)\n",
    "\n",
    "print(f'Dimensões de h: {h.shape}')\n",
    "print(f'Primeira linha: \\n{h[0]}')"
   ]
  },
  {
   "cell_type": "markdown",
   "metadata": {},
   "source": [
    "Análise: 99% de chance de ser um 0 (último índice)"
   ]
  },
  {
   "cell_type": "code",
   "execution_count": null,
   "metadata": {
    "ExecuteTime": {
     "end_time": "2019-04-17T12:10:07.288039Z",
     "start_time": "2019-04-17T12:10:07.105386Z"
    }
   },
   "outputs": [],
   "source": [
    "# Verificando\n",
    "plot_one_digit(0)"
   ]
  },
  {
   "cell_type": "markdown",
   "metadata": {},
   "source": [
    "##### Delta Output Layer"
   ]
  },
  {
   "cell_type": "markdown",
   "metadata": {},
   "source": [
    "Para aplicar o passo **2** do tutorial de implementação do back propagation, precisamos retomar um assunto referente a transformação lógica das matrizes de output, tanto da matriz obtida pela função ```hypothesis``` quanto pelo vetor de parâmetros ```y```.\n",
    "\n",
    "A ideia é realizar o cálculo:\n",
    "\n",
    "\\begin{equation*}\n",
    "    \\delta_k^{(3)}=\\left(a_k^{(3)}-y_k\\right),\n",
    "\\end{equation*}"
   ]
  },
  {
   "cell_type": "markdown",
   "metadata": {},
   "source": [
    "Onde:\n",
    "\\begin{equation*}\n",
    "    y_k\\in{0, 1}\n",
    "\\end{equation*}"
   ]
  },
  {
   "cell_type": "markdown",
   "metadata": {},
   "source": [
    "Indicando se determinado exemplo de treinamento pertence (=1) ou não (=0) a classe ```k```."
   ]
  },
  {
   "cell_type": "code",
   "execution_count": null,
   "metadata": {
    "ExecuteTime": {
     "end_time": "2019-04-17T12:10:07.296697Z",
     "start_time": "2019-04-17T12:10:07.291655Z"
    }
   },
   "outputs": [],
   "source": [
    "# Verificando condição atual de y\n",
    "y"
   ]
  },
  {
   "cell_type": "code",
   "execution_count": null,
   "metadata": {
    "ExecuteTime": {
     "end_time": "2019-04-17T12:10:07.380275Z",
     "start_time": "2019-04-17T12:10:07.297693Z"
    }
   },
   "outputs": [],
   "source": [
    "# Repetindo procedimento já feito\n",
    "y_encoded = np.eye(11)[y][:, 1:]\n",
    "y_encoded"
   ]
  },
  {
   "cell_type": "code",
   "execution_count": null,
   "metadata": {
    "ExecuteTime": {
     "end_time": "2019-04-17T12:10:07.465469Z",
     "start_time": "2019-04-17T12:10:07.384069Z"
    }
   },
   "outputs": [],
   "source": [
    "# Verificando dimensões\n",
    "y_encoded.shape"
   ]
  },
  {
   "cell_type": "code",
   "execution_count": null,
   "metadata": {
    "ExecuteTime": {
     "end_time": "2019-04-17T12:10:07.556858Z",
     "start_time": "2019-04-17T12:10:07.466466Z"
    }
   },
   "outputs": [],
   "source": [
    "# Verificando situação de h\n",
    "h"
   ]
  },
  {
   "cell_type": "code",
   "execution_count": null,
   "metadata": {
    "ExecuteTime": {
     "end_time": "2019-04-17T12:10:07.642076Z",
     "start_time": "2019-04-17T12:10:07.562527Z"
    }
   },
   "outputs": [],
   "source": [
    "# Testando\n",
    "(h[0] == h[0].max()) * 1"
   ]
  },
  {
   "cell_type": "code",
   "execution_count": null,
   "metadata": {
    "ExecuteTime": {
     "end_time": "2019-04-17T12:10:07.729555Z",
     "start_time": "2019-04-17T12:10:07.648519Z"
    }
   },
   "outputs": [],
   "source": [
    "# Testando\n",
    "h_encoded = np.zeros((m, 10))\n",
    "h_encoded"
   ]
  },
  {
   "cell_type": "code",
   "execution_count": null,
   "metadata": {
    "ExecuteTime": {
     "end_time": "2019-04-17T12:10:07.869717Z",
     "start_time": "2019-04-17T12:10:07.737104Z"
    }
   },
   "outputs": [],
   "source": [
    "# Transformando\n",
    "h_encoded = np.zeros((m, 10))\n",
    "for i in range(m):\n",
    "    h_encoded[i] = (h[i] == h[i].max()) * 1"
   ]
  },
  {
   "cell_type": "code",
   "execution_count": null,
   "metadata": {
    "ExecuteTime": {
     "end_time": "2019-04-17T12:10:07.897718Z",
     "start_time": "2019-04-17T12:10:07.871749Z"
    }
   },
   "outputs": [],
   "source": [
    "# Verificando\n",
    "print(f'Dimensões de h_encoded: {h_encoded.shape}')\n",
    "print(f'Dimensões de y_encoded: {y_encoded.shape}')\n",
    "print(f'\\nPrimeiras linhas de h_encoded: \\n{h_encoded[:5, :]}')\n",
    "print(f'\\nPrimeiras linhas de y_encoded: \\n{y_encoded[:5, :]}')"
   ]
  },
  {
   "cell_type": "code",
   "execution_count": null,
   "metadata": {
    "ExecuteTime": {
     "end_time": "2019-04-17T12:10:07.978811Z",
     "start_time": "2019-04-17T12:10:07.899710Z"
    }
   },
   "outputs": [],
   "source": [
    "# Subtração\n",
    "h_encoded - y_encoded"
   ]
  },
  {
   "cell_type": "markdown",
   "metadata": {},
   "source": [
    "Na verdade, só precisamos calcular a codificação de ```y```, visto que a matriz ```h``` contém valores de probabilidades e é justamente isso que queremos para quantificar o erro dos nós."
   ]
  },
  {
   "cell_type": "code",
   "execution_count": null,
   "metadata": {
    "ExecuteTime": {
     "end_time": "2019-04-17T12:10:08.061242Z",
     "start_time": "2019-04-17T12:10:07.978811Z"
    }
   },
   "outputs": [],
   "source": [
    "# Calculando delta3\n",
    "delta3 = h - y_encoded\n",
    "delta3.shape"
   ]
  },
  {
   "cell_type": "code",
   "execution_count": null,
   "metadata": {
    "ExecuteTime": {
     "end_time": "2019-04-17T12:10:08.147174Z",
     "start_time": "2019-04-17T12:10:08.065693Z"
    }
   },
   "outputs": [],
   "source": [
    "# Exemplo\n",
    "delta3[0]"
   ]
  },
  {
   "cell_type": "markdown",
   "metadata": {},
   "source": [
    "##### Delta Hidden Layer"
   ]
  },
  {
   "cell_type": "markdown",
   "metadata": {},
   "source": [
    "Para calcular a matriz delta2 com os erros para cada nó da camada 2, temos:\n",
    "\n",
    "\\begin{equation*}\n",
    "    \\delta^{(2)}=\\left(\\Theta^{(2)}\\right)^T\\delta^{(3)}.*g'\\left(z^{(2)}\\right)\n",
    "\\end{equation*}"
   ]
  },
  {
   "cell_type": "code",
   "execution_count": null,
   "metadata": {
    "ExecuteTime": {
     "end_time": "2019-04-17T12:10:08.295519Z",
     "start_time": "2019-04-17T12:10:08.149170Z"
    }
   },
   "outputs": [],
   "source": [
    "# Testando operação 2\n",
    "z2 = X_train.dot(theta1.T)\n",
    "sig_z2 = sigmoidGradient(z2)\n",
    "sig_z2_bias = np.c_[(np.ones((m, 1)), sig_z2)]\n",
    "sig_z2_bias.shape"
   ]
  },
  {
   "cell_type": "code",
   "execution_count": null,
   "metadata": {
    "ExecuteTime": {
     "end_time": "2019-04-17T12:10:08.383301Z",
     "start_time": "2019-04-17T12:10:08.307312Z"
    }
   },
   "outputs": [],
   "source": [
    "# Dimensões de delta3\n",
    "delta3.shape"
   ]
  },
  {
   "cell_type": "code",
   "execution_count": null,
   "metadata": {
    "ExecuteTime": {
     "end_time": "2019-04-17T12:10:08.504911Z",
     "start_time": "2019-04-17T12:10:08.387121Z"
    }
   },
   "outputs": [],
   "source": [
    "# Dimensões de theta2\n",
    "theta2.shape"
   ]
  },
  {
   "cell_type": "code",
   "execution_count": null,
   "metadata": {
    "ExecuteTime": {
     "end_time": "2019-04-17T12:10:08.629314Z",
     "start_time": "2019-04-17T12:10:08.509348Z"
    }
   },
   "outputs": [],
   "source": [
    "# Multiplicação termo 1\n",
    "temp1 = delta3.dot(theta2)\n",
    "temp1.shape"
   ]
  },
  {
   "cell_type": "code",
   "execution_count": null,
   "metadata": {
    "ExecuteTime": {
     "end_time": "2019-04-17T12:10:08.746568Z",
     "start_time": "2019-04-17T12:10:08.639084Z"
    }
   },
   "outputs": [],
   "source": [
    "# Delta 2\n",
    "delta2 = temp1 * sig_z2_bias\n",
    "delta2[0]"
   ]
  },
  {
   "cell_type": "code",
   "execution_count": null,
   "metadata": {
    "ExecuteTime": {
     "end_time": "2019-04-17T12:10:08.846764Z",
     "start_time": "2019-04-17T12:10:08.751812Z"
    }
   },
   "outputs": [],
   "source": [
    "# Retirando o termo bias\n",
    "delta2 = delta2[:, 1:]\n",
    "delta2.shape"
   ]
  },
  {
   "cell_type": "code",
   "execution_count": null,
   "metadata": {
    "ExecuteTime": {
     "end_time": "2019-04-17T12:10:08.917935Z",
     "start_time": "2019-04-17T12:10:08.848821Z"
    }
   },
   "outputs": [],
   "source": [
    "# Calculando D1\n",
    "D1 = X_train.T.dot(delta2)"
   ]
  },
  {
   "cell_type": "code",
   "execution_count": null,
   "metadata": {
    "ExecuteTime": {
     "end_time": "2019-04-17T12:10:08.991753Z",
     "start_time": "2019-04-17T12:10:08.919586Z"
    }
   },
   "outputs": [],
   "source": [
    "# Verificando shape\n",
    "D1.shape"
   ]
  },
  {
   "cell_type": "code",
   "execution_count": null,
   "metadata": {
    "ExecuteTime": {
     "end_time": "2019-04-17T12:10:09.066351Z",
     "start_time": "2019-04-17T12:10:08.993436Z"
    }
   },
   "outputs": [],
   "source": [
    "# Exemplo transposto\n",
    "D1.T[0][:6]"
   ]
  },
  {
   "cell_type": "code",
   "execution_count": null,
   "metadata": {
    "ExecuteTime": {
     "end_time": "2019-04-17T12:10:09.243091Z",
     "start_time": "2019-04-17T12:10:09.068345Z"
    }
   },
   "outputs": [],
   "source": [
    "# Calculando D2\n",
    "D2 = a2.T.dot(delta3)\n",
    "D2.shape"
   ]
  },
  {
   "cell_type": "code",
   "execution_count": null,
   "metadata": {
    "ExecuteTime": {
     "end_time": "2019-04-17T12:10:09.561148Z",
     "start_time": "2019-04-17T12:10:09.246225Z"
    }
   },
   "outputs": [],
   "source": [
    "# Exemplo transposto\n",
    "D2.T[0][:5]"
   ]
  },
  {
   "cell_type": "markdown",
   "metadata": {},
   "source": [
    "Após alguns erros encontrados nos parâmetros theta (unrolling), conseguimos chegar nos resultados esperados!"
   ]
  },
  {
   "cell_type": "markdown",
   "metadata": {},
   "source": [
    "#### Definindo Back Prop"
   ]
  },
  {
   "cell_type": "code",
   "execution_count": null,
   "metadata": {
    "ExecuteTime": {
     "end_time": "2019-04-17T12:10:09.842689Z",
     "start_time": "2019-04-17T12:10:09.562904Z"
    }
   },
   "outputs": [],
   "source": [
    "# Definindo função para retornar parâmetros de cada camada\n",
    "def forwardPass(nn_params, X, input_layer_size, hidden_layer_size, num_labels):\n",
    "    \"\"\" Função responsável por retornar todos os parâmetros do Forward Propagation\n",
    "    Input:\n",
    "        nn_params: vetor de parâmetros agrupados (todas as camadas);\n",
    "        X: features do modelo\n",
    "        input_layer_size: quantidade de nós da camada de entrada (features = n)\n",
    "        hidden_layer_size: quantidade de nós na camada oculta\n",
    "        num_labels: quantidade de nós na camada de saída (classes)\n",
    "    Output:\n",
    "        a1, a2, a3, z2, z3: parâmetros de cada uma das camadas\"\"\"\n",
    "    \n",
    "    # Separando parâmetros\n",
    "    theta1, theta2 = unrollingParams(nn_params, input_layer_size,\n",
    "                                     hidden_layer_size, num_labels)\n",
    "    \n",
    "    # Adicionando termo bias\n",
    "    m = X.shape[0]\n",
    "    X_train = np.c_[(np.ones((m, 1)), X)]\n",
    "    a1 = X\n",
    "\n",
    "    # Parametriazando camada oculta\n",
    "    z2 = a1.dot(theta1.T)\n",
    "    a2 = sigmoid(z2)\n",
    "    a2 = np.c_[(np.ones((m, 1)), a2)]\n",
    "\n",
    "    # Parametrizando camada de saída\n",
    "    z3 = a2.dot(theta2.T)\n",
    "    a3 = sigmoid(z3)\n",
    "    \n",
    "    return a1, a2, a3, z2, z3"
   ]
  },
  {
   "cell_type": "code",
   "execution_count": null,
   "metadata": {
    "ExecuteTime": {
     "end_time": "2019-04-17T12:10:10.156238Z",
     "start_time": "2019-04-17T12:10:09.849108Z"
    }
   },
   "outputs": [],
   "source": [
    "# Testando\n",
    "input_layer_size = 400\n",
    "hidden_layer_size = 25\n",
    "num_labels = 10\n",
    "\n",
    "a1, a2, a3, z2, z3 = forwardPass(nn_params, X_train, input_layer_size, \n",
    "                                 hidden_layer_size, num_labels)\n",
    "\n",
    "print(f'Dimensões a1: {a1.shape}')\n",
    "print(f'Dimensões z2: {z2.shape}')\n",
    "print(f'Dimensões a2: {a2.shape}')\n",
    "print(f'Dimensões z3: {z3.shape}')\n",
    "print(f'Dimensões a3: {a3.shape}')"
   ]
  },
  {
   "cell_type": "code",
   "execution_count": null,
   "metadata": {
    "ExecuteTime": {
     "end_time": "2019-04-17T13:06:15.348910Z",
     "start_time": "2019-04-17T13:06:15.341929Z"
    }
   },
   "outputs": [],
   "source": [
    "# Função para retornar y_encoded (utilizado no cálculo de back prop)\n",
    "def encodeY(y, num_labels):\n",
    "    \"\"\" Função responsável por retornar y de forma codificada\n",
    "    Input: \n",
    "        y: vetor de labels 1xm\n",
    "        hidden_layer_size: quantidade de elementos na ultima camada (classes)\n",
    "    Output:\n",
    "        y_encoded: matriz codificada de dimensões m x num_labels\"\"\"\n",
    "    \n",
    "    return np.eye(num_labels + 1)[y][:, 1:]"
   ]
  },
  {
   "cell_type": "code",
   "execution_count": null,
   "metadata": {
    "ExecuteTime": {
     "end_time": "2019-04-17T13:33:08.819762Z",
     "start_time": "2019-04-17T13:33:08.761264Z"
    }
   },
   "outputs": [],
   "source": [
    "# Definindo função para aplicação do Back Propagation\n",
    "def backPropagation(nn_params, X, y, input_layer_size, \n",
    "                    hidden_layer_size, num_labels, lamda):\n",
    "    \"\"\" Função responsável pela aplicação do back propagation, partindo da camada de saída\n",
    "    até as camadas de entrada, calculando as derivadas parciais e os deltas de cada uma\n",
    "    das camadas, auxiliando no aprendizado do modelo\n",
    "    Input:\n",
    "        nn_params: vetor de parâmetros agrupados (todas as camadas);\n",
    "        X: features do modelo;\n",
    "        y: label_encoded do modelo;\n",
    "        input_layer_size: quantidade de nós da camada de entrada (features = n);\n",
    "        hidden_layer_size: quantidade de nós na camada oculta;\n",
    "        num_labels: quantidade de nós na camada de saída (classes);\n",
    "        lamda: fator de regularização\n",
    "    Output:\n",
    "        theta_grad: gradiente de matrizes agrupado em forma de vetor\"\"\"\n",
    "    \n",
    "    # Retornando parâmetros das camadas\n",
    "    a1, a2, a3, z2, z3 = forwardPass(nn_params, X_train, input_layer_size, \n",
    "                                 hidden_layer_size, num_labels)\n",
    "    m = X.shape[0]\n",
    "    \n",
    "    # Separando parâmetros\n",
    "    theta1, theta2 = unrollingParams(nn_params, input_layer_size,\n",
    "                                     hidden_layer_size, num_labels)\n",
    "    \n",
    "    # Retornando y codificado\n",
    "    y_encoded = encodeY(y, num_labels)\n",
    "    \n",
    "    # Calculando delta da camada de saída\n",
    "    delta3 = a3 - y_encoded\n",
    "    \n",
    "    # Calculando delta da camada oculta\n",
    "    sig_z2 = sigmoidGradient(z2)\n",
    "    sig_z2 = np.c_[(np.ones((m, 1)), sig_z2)]\n",
    "    delta2 = delta3.dot(theta2) * sig_z2\n",
    "    delta2 = delta2[:, 1:]\n",
    "    \n",
    "    # Calculando D1 e D2\n",
    "    D1 = a1.T.dot(delta2).T / m\n",
    "    D2 = a2.T.dot(delta3).T / m\n",
    "    \n",
    "    # Calculando Gradiente de matrizes\n",
    "    theta1_grad = D1 + (lamda/m) * theta1\n",
    "    theta2_grad = D2 + (lamda/m) * theta2\n",
    "    \n",
    "    # Agrupando gradiente\n",
    "    Dvec = np.r_[theta1_grad.flatten(), theta2_grad.flatten()]\n",
    "    \n",
    "    return Dvec"
   ]
  },
  {
   "cell_type": "code",
   "execution_count": null,
   "metadata": {
    "ExecuteTime": {
     "end_time": "2019-04-17T13:33:18.211674Z",
     "start_time": "2019-04-17T13:33:18.174514Z"
    }
   },
   "outputs": [],
   "source": [
    "# Testando\n",
    "Dvec = backPropagation(nn_params, X, y, input_layer_size, \n",
    "                       hidden_layer_size, num_labels, 0)"
   ]
  },
  {
   "cell_type": "code",
   "execution_count": null,
   "metadata": {
    "ExecuteTime": {
     "end_time": "2019-04-17T13:33:18.396935Z",
     "start_time": "2019-04-17T13:33:18.387943Z"
    }
   },
   "outputs": [],
   "source": [
    "# Retornando gradientes\n",
    "D1, D2 = unrollingParams(Dvec, input_layer_size, hidden_layer_size, num_labels)\n",
    "\n",
    "print(f'Dimensões de D1: {D1.shape}')\n",
    "print(f'Dimensões de D2: {D2.shape}')"
   ]
  },
  {
   "cell_type": "code",
   "execution_count": null,
   "metadata": {
    "ExecuteTime": {
     "end_time": "2019-04-17T13:33:20.346172Z",
     "start_time": "2019-04-17T13:33:20.341187Z"
    }
   },
   "outputs": [],
   "source": [
    "# Comparando com theta\n",
    "print(f'Dimensões de theta1: {theta1.shape}')\n",
    "print(f'Dimensões de theta2: {theta2.shape}')"
   ]
  },
  {
   "cell_type": "code",
   "execution_count": null,
   "metadata": {
    "ExecuteTime": {
     "end_time": "2019-04-17T13:33:35.071944Z",
     "start_time": "2019-04-17T13:33:35.023158Z"
    }
   },
   "outputs": [],
   "source": [
    "# Redefinindo função custo com Back Propagation\n",
    "def nnRegCostFunctionPlus(nn_params, X, y, input_layer_size, \n",
    "                          hidden_layer_size, num_labels, lamda):\n",
    "    \"\"\" Função responsável por calcular o custo de treinamento do modelo, de acordo com os\n",
    "    parâmetros obtidos\n",
    "    Input:\n",
    "        nn_params: vetor de parâmetros agrupados (todas as camadas);\n",
    "        X: features do modelo;\n",
    "        y: vetor de labels;\n",
    "        input_layer_size: quantidade de nós da camada de entrada (features = n);\n",
    "        hidden_layer_size: quantidade de nós na camada oculta;\n",
    "        num_labels: quantidade de nós na camada de saída (classes);\n",
    "        lamda: fator de regularização\n",
    "    Output:\n",
    "        J: custo do modelo parametrizado pelas matrizes theta;\n",
    "        grad: matriz de gradientes\"\"\"\n",
    "    \n",
    "    # Aplicando forward propagation\n",
    "    h = forwardPropagation(nn_params, X, input_layer_size, \n",
    "                           hidden_layer_size, num_labels)\n",
    "    \n",
    "    # Retornando parâmetros para regularização\n",
    "    theta1, theta2 = unrollingParams(nn_params, input_layer_size, \n",
    "                                     hidden_layer_size, num_labels)\n",
    "    # Preparando variáveis\n",
    "    [m, k] = h.shape\n",
    "    cost_class = np.zeros((k, 1))\n",
    "    \n",
    "    # Calculando custo para cada classse\n",
    "    for i in range(1, k+1):\n",
    "        h_class = h[:, i-1]\n",
    "        y_class = (y == i) * 1\n",
    "        J_temp = (np.log(h_class).T.dot(-y_class) - np.log(1 - h_class).T.dot(1 - y_class)) / m\n",
    "        cost_class[i-1] = J_temp\n",
    "    \n",
    "    # Calculando parâmetros de regularização\n",
    "    reg1 = sum(sum(np.square(theta1)))\n",
    "    reg2 = sum(sum(np.square(theta2)))\n",
    "    reg_total = (lamda / (2*m)) * (reg1 + reg2)\n",
    "\n",
    "    # Somando o custo para todas as classes\n",
    "    J_reg = sum(cost_class) + reg_total\n",
    "    \n",
    "    # Aplicando back prop\n",
    "    grad = backPropagation(nn_params, X, y, input_layer_size, \n",
    "                    hidden_layer_size, num_labels, lamda)\n",
    "    \n",
    "    return J_reg, grad"
   ]
  },
  {
   "cell_type": "code",
   "execution_count": null,
   "metadata": {
    "ExecuteTime": {
     "end_time": "2019-04-17T13:33:37.341679Z",
     "start_time": "2019-04-17T13:33:37.281782Z"
    }
   },
   "outputs": [],
   "source": [
    "# Testando\n",
    "J, grad = nnRegCostFunctionPlus(nn_params, X, y, input_layer_size, \n",
    "                       hidden_layer_size, num_labels, 0)\n",
    "\n",
    "print(f'Custo com lambda = 0: {J}')"
   ]
  },
  {
   "cell_type": "code",
   "execution_count": null,
   "metadata": {
    "ExecuteTime": {
     "end_time": "2019-04-17T13:33:38.900967Z",
     "start_time": "2019-04-17T13:33:38.829161Z"
    }
   },
   "outputs": [],
   "source": [
    "# Testando com lambda = 3\n",
    "J, grad = nnRegCostFunctionPlus(nn_params, X, y, input_layer_size, \n",
    "                       hidden_layer_size, num_labels, 3)\n",
    "\n",
    "print(f'Custo com lambda = 3: {J}')"
   ]
  },
  {
   "cell_type": "markdown",
   "metadata": {
    "ExecuteTime": {
     "end_time": "2019-04-17T02:33:54.467879Z",
     "start_time": "2019-04-17T02:33:54.462893Z"
    }
   },
   "source": [
    "Para verificar se nosso algoritmo de ```back propagation``` está funcionando bem, seria interessante criar uma função de ```checagem``` do gradiente. Esta, por sua vez, teria o papel de criar uma pequena rede neural apenas para testar se não há nenhum bug no algoritmo de back propagation."
   ]
  },
  {
   "cell_type": "markdown",
   "metadata": {},
   "source": [
    "Pensando na otimização dos parâmetro theta, será necessário criar uma função específica para o cálculo do custo (esta função será minimizada) e uma outra função específica para o cálculo dos gradientes (back prop). Fazemos isso para poder aplicar a outras funções de otimização do scipy, como por exemplo, ```scipy.optimize.fmin_cg```."
   ]
  },
  {
   "cell_type": "code",
   "execution_count": null,
   "metadata": {
    "ExecuteTime": {
     "end_time": "2019-04-17T13:33:44.585059Z",
     "start_time": "2019-04-17T13:33:44.541151Z"
    }
   },
   "outputs": [],
   "source": [
    "# Definindo função para o cálculo do custo\n",
    "def computeCost(nn_params, X, y, input_layer_size, \n",
    "                hidden_layer_size, num_labels, lamda):\n",
    "    \"\"\" Função responsável por calcular o custo de treinamento do modelo, de acordo com os\n",
    "    parâmetros obtidos\n",
    "    Input:\n",
    "        nn_params: vetor de parâmetros agrupados (todas as camadas);\n",
    "        X: features do modelo;\n",
    "        y: vetor de labels;\n",
    "        input_layer_size: quantidade de nós da camada de entrada (features = n);\n",
    "        hidden_layer_size: quantidade de nós na camada oculta;\n",
    "        num_labels: quantidade de nós na camada de saída (classes);\n",
    "        lamda: fator de regularização\n",
    "    Output:\n",
    "        J: custo do modelo parametrizado pelas matrizes theta\"\"\"\n",
    "    \n",
    "    # Aplicando forward propagation\n",
    "    h = forwardPropagation(nn_params, X, input_layer_size, \n",
    "                           hidden_layer_size, num_labels)\n",
    "    \n",
    "    # Retornando parâmetros para regularização\n",
    "    theta1, theta2 = unrollingParams(nn_params, input_layer_size, \n",
    "                                     hidden_layer_size, num_labels)\n",
    "    # Preparando variáveis\n",
    "    [m, k] = h.shape\n",
    "    cost_class = np.zeros((k, 1))\n",
    "    \n",
    "    # Calculando custo para cada classse\n",
    "    for i in range(1, k+1):\n",
    "        h_class = h[:, i-1]\n",
    "        y_class = (y == i) * 1\n",
    "        J_temp = (np.log(h_class).T.dot(-y_class) - np.log(1 - h_class).T.dot(1 - y_class)) / m\n",
    "        cost_class[i-1] = J_temp\n",
    "    \n",
    "    # Calculando parâmetros de regularização\n",
    "    reg1 = sum(sum(np.square(theta1)))\n",
    "    reg2 = sum(sum(np.square(theta2)))\n",
    "    reg_total = (lamda / (2*m)) * (reg1 + reg2)\n",
    "\n",
    "    # Somando o custo para todas as classes\n",
    "    J_reg = sum(cost_class) + reg_total\n",
    "    \n",
    "    return J_reg"
   ]
  },
  {
   "cell_type": "markdown",
   "metadata": {},
   "source": [
    "## Pipeline Completo"
   ]
  },
  {
   "cell_type": "markdown",
   "metadata": {},
   "source": [
    "### Fórmulas"
   ]
  },
  {
   "cell_type": "markdown",
   "metadata": {},
   "source": [
    "<center>_**Função Custo**_</center>\n",
    "\\begin{equation*}\n",
    "    J(\\theta)=\\frac{1}{m}\\sum_{i=1}^{m}\\sum_{k=1}^{K}\\left[-y_k^{(i)}\\log{(h_\\theta(x^{(i)})_k)}-\n",
    "              (1 - y_k^{(i)})\\log{(1-h_\\theta(x^{(i)})_k)}\\right]\n",
    "\\end{equation*}\n",
    "<br><br>\n",
    "\n",
    "<center>_**Função Custo Com Regularização**_</center>\n",
    "\\begin{equation*}\n",
    "    J(\\theta)=\\frac{1}{m}\\sum_{i=1}^{m}\\sum_{k=1}^{K}\\left[-y_k^{(i)}\\log{(h_\\theta(x^{(i)})_k)}-\n",
    "              (1 - y_k^{(i)})\\log{(1-h_\\theta(x^{(i)})_k)}\\right] +\n",
    "              \\frac{\\lambda}{2m}\n",
    "              \\left[\\sum_{j=1}^{25}\\sum_{k=1}^{400}\\left(\\theta_{j,k}^{(1)}\\right)^2 +\n",
    "                    \\sum_{j=1}^{10}\\sum_{k=1}^{25}\\left(\\theta_{j,k}^{(2)}\\right)^2\\right]\n",
    "\\end{equation*}\n",
    "<br><br>\n",
    "\n",
    "<center>_**Função Sigmoidal**_</center>\n",
    "\\begin{equation*}\n",
    "    g(z)=\\frac{1}{1+e^{-z}}\n",
    "\\end{equation*}\n",
    "<br><br>\n",
    "\n",
    "<center>_**Forward Propagation**_</center>\n",
    "\\begin{equation*}\n",
    "    a^{(1)} = x\n",
    "\\end{equation*}\n",
    "\n",
    "\\begin{equation*}\n",
    "    z^{(2)} = \\Theta^{(1)}a^{(1)}\n",
    "\\end{equation*}\n",
    "\n",
    "\\begin{equation*}\n",
    "    a^{(2)} = g(z^{(2)})\n",
    "\\end{equation*}\n",
    "\n",
    "\\begin{equation*}\n",
    "    z^{(3)} = \\Theta^{(1)}a^{(1)}\n",
    "\\end{equation*}\n",
    "<br><br>\n",
    "\n",
    "<center>_**Gradiente Sigmoidal**_</center>\n",
    "\\begin{equation*}\n",
    "    g^{'}(z)=\\frac{d}{dz}g(z)=g(z)(1-g(z))\n",
    "\\end{equation*}\n",
    "<br><br>\n",
    "\n",
    "<center>_**Inicialização Aleatória dos Parâmetros**_</center><br>\n",
    "\\begin{equation*}\n",
    "    \\epsilon=\\frac{\\sqrt{6}}{\\sqrt{L_{in} + L_{out}}}\n",
    "\\end{equation*}\n",
    "\n",
    "\\begin{equation*}\n",
    "    L_{in} = s_l\n",
    "\\end{equation*}\n",
    "\n",
    "\\begin{equation*}\n",
    "    L_{out} = s_{l+1}\n",
    "\\end{equation*}\n",
    "<br><br>\n",
    "\n",
    "<center>_**Back Propagation**_</center><br>\n",
    "\\begin{equation*}\n",
    "    \\delta_k^{(3)}=\\left(a_k^{(3)}-y_k\\right)\n",
    "\\end{equation*}\n",
    "\n",
    "\\begin{equation*}\n",
    "    \\delta^{(2)}=\\left(\\Theta^{(2)}\\right)^T\\delta^{(3)}.*g'\\left(z^{(2)}\\right)\n",
    "\\end{equation*}\n",
    "\n",
    "\\begin{equation*}\n",
    "    \\Delta^{(l)}=\\Delta^{(l)}+\\delta^{(l+1)}\\left(a^{(l)}\\right)^T\n",
    "\\end{equation*}\n",
    "\n",
    "\\begin{equation*}\n",
    "    \\frac{\\partial}{\\partial\\Theta_{ij}^{(l)}}J(\\Theta)=\n",
    "        \\begin{cases}\n",
    "            D_{ij}^{(l)}=\\frac{1}{m}\\Delta_{ij}^{(l)}, &\\mbox{para } j\\mbox{ = 0} \\\\\n",
    "            D_{ij}^{(l)}=\\frac{1}{m}\\Delta_{ij}^{(l)} + \\frac{\\lambda}{m}\\Theta_{ij}^{(l)},\n",
    "                                                       &\\mbox{para } j\\mbox{ >= 1}    \n",
    "        \\end{cases}   \n",
    "\\end{equation*}"
   ]
  },
  {
   "cell_type": "markdown",
   "metadata": {},
   "source": [
    "### Importando Bibliotecas"
   ]
  },
  {
   "cell_type": "code",
   "execution_count": 1,
   "metadata": {
    "ExecuteTime": {
     "end_time": "2019-04-17T13:59:49.809726Z",
     "start_time": "2019-04-17T13:59:48.797031Z"
    }
   },
   "outputs": [],
   "source": [
    "# Importando bibliotecas\n",
    "import numpy as np\n",
    "import scipy.io as sio\n",
    "import scipy.optimize\n",
    "import matplotlib.pyplot as plt\n",
    "%matplotlib inline"
   ]
  },
  {
   "cell_type": "markdown",
   "metadata": {},
   "source": [
    "### Definindo Funções"
   ]
  },
  {
   "cell_type": "code",
   "execution_count": 27,
   "metadata": {
    "ExecuteTime": {
     "end_time": "2019-04-17T14:19:05.677045Z",
     "start_time": "2019-04-17T14:19:03.471750Z"
    }
   },
   "outputs": [],
   "source": [
    "# Definindo função para leitura dos dados\n",
    "def load_data():\n",
    "    \"\"\" Função responsável por ler os dados e a matriz de parâmetros\n",
    "    Output:\n",
    "        X: features do modelo\n",
    "        y: vetor de label (10 classes)\"\"\"\n",
    "    \n",
    "    # Lendo dados\n",
    "    data = sio.loadmat('ex4data1.mat')\n",
    "    X = data['X']\n",
    "    y = data['y']\n",
    "    \n",
    "    return X, y.reshape(-1)\n",
    "\n",
    "# Definindo função para plotagem aleatório de um dígito\n",
    "def plot_digit(X, y):\n",
    "    \"\"\" Função responsável pela plotagem de um dígito do dataset de forma aleatória\n",
    "    Input:\n",
    "        X: features do modelo;\n",
    "        y: vetor de labels\"\"\"\n",
    "    \n",
    "    m = X.shape[0]\n",
    "    rnd = np.random.randint(m)\n",
    "    plt.imshow(X[rnd].reshape(20, 20).T, cmap='viridis')\n",
    "    plt.axis('off')\n",
    "    plt.title(f'Dígito: {y[rnd]}', size=13)\n",
    "    plt.show()\n",
    "    \n",
    "# Definindo função para leitura dos parâmetros theta\n",
    "def load_params():\n",
    "    \"\"\" Função responsável por ler os dados e a matriz de parâmetros previamente carregada\n",
    "    Output:\n",
    "        Theta1: matriz de parâmetros que mapeia a camada de entrada para a camada oculta\n",
    "        Theta2: matriz de parâmetros que mapeia a camada oculta para a camada de saída\"\"\"\n",
    "    \n",
    "    # Lendo dados\n",
    "    data = sio.loadmat('ex4weights.mat')\n",
    "    theta1 = data['Theta1']\n",
    "    theta2 = data['Theta2']\n",
    "    \n",
    "    return theta1, theta2\n",
    "\n",
    "# Definindo função para retornar a predição de cada linha\n",
    "def acc_predictions(h, y):\n",
    "    \"\"\" Função responsável por cálcular as predições e retornar a acurácia do modelo\n",
    "    Input:\n",
    "        h: matriz de probabilidades de dimensões m x k\n",
    "        y: vetor de labels de dimensões m x 1\n",
    "    Output:\n",
    "        acc: acurácia do modelo\"\"\"\n",
    "    \n",
    "    # Configurando parâmetros\n",
    "    m = h.shape[0]\n",
    "    pred = np.zeros((m, 1)).reshape(-1)\n",
    "    \n",
    "    # Laço para cálculo das predições\n",
    "    for i in range(m):\n",
    "        pred[i] = np.where(h[i] == h[i].max())[0] + 1\n",
    "    \n",
    "    # Calculando acurácia\n",
    "    acertos = sum((pred == y) * 1)\n",
    "    return acertos / m\n",
    "\n",
    "# Definindo função para plotagem aleatório de um dígito\n",
    "def plot_one_digit(index):\n",
    "    \"\"\" Função responsável pela plotagem de um dígito do dataset de forma aleatória\n",
    "    Input:\n",
    "        X: features do modelo;\n",
    "        y: vetor de labels\"\"\"\n",
    "    \n",
    "    m = X.shape[0]\n",
    "    plt.imshow(X[index].reshape(20, 20).T, cmap='viridis')\n",
    "    plt.axis('off')\n",
    "    plt.title(f'Dígito: {y[index]}', size=13)\n",
    "    plt.show()\n",
    "    \n",
    "# Definindo função sigmoidal\n",
    "def sigmoid(z):\n",
    "    \"\"\"Função sigmoidal para cálculo da função hyothesis\n",
    "    Input: \n",
    "        z: X.dot(theta)\n",
    "    Output:\n",
    "        h = função sigmoidal\"\"\"\n",
    "    return 1 / (1 + np.exp(-z))\n",
    "\n",
    "# Função para aplicação do procedimento de unrolling\n",
    "def unrollingParams(nn_params, input_layer_size, hidden_layer_size, num_labels):\n",
    "    \"\"\" Função responsável pela aplicação do procedimento de unrolling de parâmetros,\n",
    "    recebendo um vetor agrupado com todos os parâmetros como argumento e retornando a\n",
    "    separação destes vetores de acordo com a quantidade de matrizes de parâmetros (camadas)\n",
    "    \n",
    "    Input:\n",
    "        nn_params: vetor de parâmetros agrupados (todas as camadas)\n",
    "        input_layer_size: quantidade de nós da camada de entrada (features = n)\n",
    "        hidden_layer_size: quantidade de nós na camada oculta\n",
    "        num_labels: quantidade de nós na camada de saída (classes)\n",
    "    Output:\n",
    "        theta1: parâmetros que mapeam a função da camada de entrada para a camada oculta\n",
    "        theta2: parâmetros que mapeam a função da camada de oculta para a camada de saída\"\"\"\n",
    "    \n",
    "    # Parâmetros importantes para o procedimento\n",
    "    qtd_theta1 = (input_layer_size + 1) * hidden_layer_size\n",
    "    dim_theta1 = (hidden_layer_size, input_layer_size + 1)\n",
    "    dim_theta2 = (num_labels, hidden_layer_size + 1)\n",
    "    \n",
    "    # Retornando parâmetros\n",
    "    theta1 = nn_params[:qtd_theta1].reshape(dim_theta1)\n",
    "    theta2 = nn_params[qtd_theta1:].reshape(dim_theta2)\n",
    "    \n",
    "    return theta1, theta2\n",
    "\n",
    "# Implementando funções úteis\n",
    "def forwardPropagation(nn_params, X, input_layer_size, hidden_layer_size, num_labels):\n",
    "    \"\"\" Função responsável pela aplicação do procedimento de Forward Propagation que, por sua\n",
    "    vez, realiza o mapeamento de todas as camadas da Rede Neural, desde a camada de entrada\n",
    "    até a camada de saída, passando também pelas camadas ocultas\n",
    "    Input:\n",
    "        nn_params: vetor de parâmetros agrupados (todas as camadas);\n",
    "        X: features do modelo\n",
    "        input_layer_size: quantidade de nós da camada de entrada (features = n)\n",
    "        hidden_layer_size: quantidade de nós na camada oculta\n",
    "        num_labels: quantidade de nós na camada de saída (classes)\n",
    "    Output:\n",
    "        h: predições para os dados de entrada estabelecidos\"\"\"\n",
    "    \n",
    "    # Separando parâmetros\n",
    "    theta1, theta2 = unrollingParams(nn_params, input_layer_size,\n",
    "                                     hidden_layer_size, num_labels)\n",
    "    \n",
    "    # Adicionando termo bias\n",
    "    m = X.shape[0]\n",
    "    X_train = np.c_[(np.ones((m, 1)), X)]\n",
    "\n",
    "    # Parametriazando camada oculta\n",
    "    a2 = sigmoid(X_train.dot(theta1.T))\n",
    "    a2 = np.c_[(np.ones((m, 1)), a2)]\n",
    "\n",
    "    # Parametrizando camada de saída\n",
    "    h = sigmoid(a2.dot(theta2.T))\n",
    "    \n",
    "    return h\n",
    "\n",
    "# Redefinindo função custo regularizada\n",
    "def nnRegCostFunction(nn_params, X, y, input_layer_size, \n",
    "                      hidden_layer_size, num_labels, lamda):\n",
    "    \"\"\" Função responsável por calcular o custo regularizado de treinamento do modelo, \n",
    "    de acordo com os parâmetros obtidos\n",
    "    Input:\n",
    "        nn_params: vetor de parâmetros agrupados (todas as camadas);\n",
    "        X: features do modelo\n",
    "        y: vetor de labels\n",
    "        input_layer_size: quantidade de nós da camada de entrada (features = n)\n",
    "        hidden_layer_size: quantidade de nós na camada oculta\n",
    "        num_labels: quantidade de nós na camada de saída (classes)\n",
    "        lamda: fator de regularização\n",
    "    Output:\n",
    "        J_reg: custo do modelo parametrizado pelas matrizes theta\"\"\"\n",
    "    \n",
    "    # Aplicando forward propagation\n",
    "    h = forwardPropagation(nn_params, X, input_layer_size, \n",
    "                           hidden_layer_size, num_labels)\n",
    "    \n",
    "    # Retornando parâmetros para regularização\n",
    "    theta1, theta2 = unrollingParams(nn_params, input_layer_size, \n",
    "                                     hidden_layer_size, num_labels)\n",
    "\n",
    "    # Preparando variáveis\n",
    "    [m, k] = h.shape\n",
    "    cost_class = np.zeros((k, 1))\n",
    "\n",
    "    # Calculando custo para cada classse\n",
    "    for i in range(1, k+1):\n",
    "        h_class = h[:, i-1]\n",
    "        y_class = (y == i) * 1\n",
    "        J_temp = (np.log(h_class).T.dot(-y_class) - np.log(1 - h_class).T.dot(1 - y_class)) / m\n",
    "        cost_class[i-1] = J_temp\n",
    "\n",
    "    # Calculando parâmetros de regularização\n",
    "    reg1 = sum(sum(np.square(theta1)))\n",
    "    reg2 = sum(sum(np.square(theta2)))\n",
    "    reg_total = (lamda / (2*m)) * (reg1 + reg2)\n",
    "\n",
    "    # Somando o custo para todas as classes\n",
    "    J_reg = sum(cost_class) + reg_total\n",
    "    \n",
    "    return J_reg\n",
    "\n",
    "# Definindo função sigmoide gradiente\n",
    "def sigmoidGradient(z):\n",
    "    \"\"\" Função gradiente sigmoidal a ser utilizada na implementada no Backpropagation\n",
    "    Input:\n",
    "        z: matematicamente definido por X.dot(theta)\n",
    "    Output:\n",
    "        h: função hypothesis\"\"\"\n",
    "    \n",
    "    return (1 / (1 + np.exp(-z))) * (1 - (1 / (1 + np.exp(-z))))\n",
    "\n",
    "# Definindo função para inicialização aleatória de theta\n",
    "def randomInitParams(Lin, Lout):\n",
    "    \"\"\" Função para inicialização randomica dos parâmetros da rede\n",
    "    Input:\n",
    "        Lin: quantidade de nós da camada adjacente (direita) ao set de parâmetros\n",
    "        Lout: quantidade de nós da camada adjacente (esquerda) ao set de parâmetros\n",
    "    Output:\n",
    "        theta_random: matriz de parâmetros inicializada randomicamente\"\"\"\n",
    "    \n",
    "    # Parâmetros epsilon\n",
    "    eps = .12\n",
    "    \n",
    "    return np.random.random((Lin, Lout)) * 2 * eps - eps\n",
    "\n",
    "# Definindo função para retornar parâmetros de cada camada\n",
    "def forwardPass(nn_params, X, input_layer_size, hidden_layer_size, num_labels):\n",
    "    \"\"\" Função responsável por retornar todos os parâmetros do Forward Propagation\n",
    "    Input:\n",
    "        nn_params: vetor de parâmetros agrupados (todas as camadas);\n",
    "        X: features do modelo\n",
    "        input_layer_size: quantidade de nós da camada de entrada (features = n)\n",
    "        hidden_layer_size: quantidade de nós na camada oculta\n",
    "        num_labels: quantidade de nós na camada de saída (classes)\n",
    "    Output:\n",
    "        a1, a2, a3, z2, z3: parâmetros de cada uma das camadas\"\"\"\n",
    "    \n",
    "    # Separando parâmetros\n",
    "    theta1, theta2 = unrollingParams(nn_params, input_layer_size,\n",
    "                                     hidden_layer_size, num_labels)\n",
    "    \n",
    "    # Adicionando termo bias\n",
    "    m = X.shape[0]\n",
    "    X_train = np.c_[(np.ones((m, 1)), X)]\n",
    "    a1 = X\n",
    "\n",
    "    # Parametriazando camada oculta\n",
    "    z2 = a1.dot(theta1.T)\n",
    "    a2 = sigmoid(z2)\n",
    "    a2 = np.c_[(np.ones((m, 1)), a2)]\n",
    "\n",
    "    # Parametrizando camada de saída\n",
    "    z3 = a2.dot(theta2.T)\n",
    "    a3 = sigmoid(z3)\n",
    "    \n",
    "    return a1, a2, a3, z2, z3\n",
    "\n",
    "# Função para retornar y_encoded (utilizado no cálculo de back prop)\n",
    "def encodeY(y, num_labels):\n",
    "    \"\"\" Função responsável por retornar y de forma codificada\n",
    "    Input: \n",
    "        y: vetor de labels 1xm\n",
    "        hidden_layer_size: quantidade de elementos na ultima camada (classes)\n",
    "    Output:\n",
    "        y_encoded: matriz codificada de dimensões m x num_labels\"\"\"\n",
    "    \n",
    "    return np.eye(num_labels + 1)[y][:, 1:]\n",
    "\n",
    "# Definindo função para aplicação do Back Propagation\n",
    "def backPropagation(nn_params, X, y, input_layer_size, \n",
    "                    hidden_layer_size, num_labels, lamda):\n",
    "    \"\"\" Função responsável pela aplicação do back propagation, partindo da camada de saída\n",
    "    até as camadas de entrada, calculando as derivadas parciais e os deltas de cada uma\n",
    "    das camadas, auxiliando no aprendizado do modelo\n",
    "    Input:\n",
    "        nn_params: vetor de parâmetros agrupados (todas as camadas);\n",
    "        X: features do modelo;\n",
    "        y: label_encoded do modelo;\n",
    "        input_layer_size: quantidade de nós da camada de entrada (features = n);\n",
    "        hidden_layer_size: quantidade de nós na camada oculta;\n",
    "        num_labels: quantidade de nós na camada de saída (classes);\n",
    "        lamda: fator de regularização\n",
    "    Output:\n",
    "        theta_grad: gradiente de matrizes agrupado em forma de vetor\"\"\"\n",
    "    \n",
    "    # Retornando parâmetros das camadas\n",
    "    a1, a2, a3, z2, z3 = forwardPass(nn_params, X_train, input_layer_size, \n",
    "                                 hidden_layer_size, num_labels)\n",
    "    m = X.shape[0]\n",
    "    \n",
    "    # Separando parâmetros\n",
    "    theta1, theta2 = unrollingParams(nn_params, input_layer_size,\n",
    "                                     hidden_layer_size, num_labels)\n",
    "    \n",
    "    # Retornando y codificado\n",
    "    y_encoded = encodeY(y, num_labels)\n",
    "    \n",
    "    # Calculando delta da camada de saída\n",
    "    delta3 = a3 - y_encoded\n",
    "    \n",
    "    # Calculando delta da camada oculta\n",
    "    sig_z2 = sigmoidGradient(z2)\n",
    "    sig_z2 = np.c_[(np.ones((m, 1)), sig_z2)]\n",
    "    delta2 = delta3.dot(theta2) * sig_z2\n",
    "    delta2 = delta2[:, 1:]\n",
    "    \n",
    "    # Calculando D1 e D2\n",
    "    D1 = a1.T.dot(delta2).T / m\n",
    "    D2 = a2.T.dot(delta3).T / m\n",
    "    \n",
    "    # Calculando Gradiente de matrizes\n",
    "    theta1_grad = D1 + (lamda/m) * theta1\n",
    "    theta2_grad = D2 + (lamda/m) * theta2\n",
    "    \n",
    "    # Agrupando gradiente\n",
    "    Dvec = np.r_[theta1_grad.flatten(), theta2_grad.flatten()]\n",
    "    \n",
    "    return Dvec\n",
    "\n",
    "# Redefinindo função custo com Back Propagation (retorna J e grad)\n",
    "def nnRegCostFunctionPlus(nn_params, X, y, input_layer_size, \n",
    "                          hidden_layer_size, num_labels, lamda):\n",
    "    \"\"\" Função responsável por calcular o custo de treinamento do modelo, de acordo com os\n",
    "    parâmetros obtidos\n",
    "    Input:\n",
    "        nn_params: vetor de parâmetros agrupados (todas as camadas);\n",
    "        X: features do modelo;\n",
    "        y: vetor de labels;\n",
    "        input_layer_size: quantidade de nós da camada de entrada (features = n);\n",
    "        hidden_layer_size: quantidade de nós na camada oculta;\n",
    "        num_labels: quantidade de nós na camada de saída (classes);\n",
    "        lamda: fator de regularização\n",
    "    Output:\n",
    "        J: custo do modelo parametrizado pelas matrizes theta;\n",
    "        grad: matriz de gradientes\"\"\"\n",
    "    \n",
    "    # Aplicando forward propagation\n",
    "    h = forwardPropagation(nn_params, X, input_layer_size, \n",
    "                           hidden_layer_size, num_labels)\n",
    "    \n",
    "    # Retornando parâmetros para regularização\n",
    "    theta1, theta2 = unrollingParams(nn_params, input_layer_size, \n",
    "                                     hidden_layer_size, num_labels)\n",
    "    # Preparando variáveis\n",
    "    [m, k] = h.shape\n",
    "    cost_class = np.zeros((k, 1))\n",
    "    \n",
    "    # Calculando custo para cada classse\n",
    "    for i in range(1, k+1):\n",
    "        h_class = h[:, i-1]\n",
    "        y_class = (y == i) * 1\n",
    "        J_temp = (np.log(h_class).T.dot(-y_class) - np.log(1 - h_class).T.dot(1 - y_class)) / m\n",
    "        cost_class[i-1] = J_temp\n",
    "    \n",
    "    # Calculando parâmetros de regularização\n",
    "    reg1 = sum(sum(np.square(theta1)))\n",
    "    reg2 = sum(sum(np.square(theta2)))\n",
    "    reg_total = (lamda / (2*m)) * (reg1 + reg2)\n",
    "\n",
    "    # Somando o custo para todas as classes\n",
    "    J_reg = sum(cost_class) + reg_total\n",
    "    \n",
    "    # Aplicando back prop\n",
    "    grad = backPropagation(nn_params, X, y, input_layer_size, \n",
    "                    hidden_layer_size, num_labels, lamda)\n",
    "    \n",
    "    return J_reg, grad\n",
    "\n",
    "# Definindo função para mostrar as predições\n",
    "def random_pred(X, y, h):\n",
    "    \"\"\" Função responsável por criar um laço de repetição contendo predições do modelo\n",
    "    e uma plotagem do label original\n",
    "    Input:\n",
    "        X: features do modelo\n",
    "        y: label\n",
    "        h: matriz de predições\"\"\"\n",
    "    \n",
    "    # Preparando plotagem\n",
    "    m = X.shape[0]\n",
    "    resposta = 'S'\n",
    "    while resposta not in 'Qq':\n",
    "        rnd = np.random.randint(m)\n",
    "        pred = np.where(h[rnd] == h[rnd].max())[0] + 1\n",
    "        print(f'Predição: {pred}')\n",
    "        plt.imshow(X[rnd].reshape(20, 20).T, cmap='viridis')\n",
    "        plt.axis('off')\n",
    "        plt.title(f'Dígito original: {y[rnd]}')\n",
    "        plt.show()\n",
    "        resposta = input('Pressione qualquer tecla para continuar ou \"q\" para sair\\n')\n",
    "        if resposta in 'Qq':\n",
    "            print(f'Fim do laço')"
   ]
  },
  {
   "cell_type": "markdown",
   "metadata": {},
   "source": [
    "### Treinando Rede"
   ]
  },
  {
   "cell_type": "code",
   "execution_count": 3,
   "metadata": {
    "ExecuteTime": {
     "end_time": "2019-04-17T13:59:57.998854Z",
     "start_time": "2019-04-17T13:59:57.861223Z"
    }
   },
   "outputs": [
    {
     "name": "stdout",
     "output_type": "stream",
     "text": [
      "Dimensões de X: (5000, 400)\n",
      "Dimensões de y: (5000,)\n",
      "\n",
      "Dimensões de X_train: (5000, 401)\n"
     ]
    }
   ],
   "source": [
    "# Lendo dados\n",
    "X, y = load_data()\n",
    "\n",
    "# Verificando\n",
    "print(f'Dimensões de X: {X.shape}')\n",
    "print(f'Dimensões de y: {y.shape}')\n",
    "\n",
    "# Adicionando termo de bias em X\n",
    "m = X.shape[0]\n",
    "X_train = np.c_[(np.ones((m, 1)), X)]\n",
    "print(f'\\nDimensões de X_train: {X_train.shape}')"
   ]
  },
  {
   "cell_type": "code",
   "execution_count": 4,
   "metadata": {
    "ExecuteTime": {
     "end_time": "2019-04-17T13:59:59.120168Z",
     "start_time": "2019-04-17T13:59:59.109230Z"
    }
   },
   "outputs": [
    {
     "name": "stdout",
     "output_type": "stream",
     "text": [
      "Dimensões de theta1: (25, 401)\n",
      "Dimensões de theta2: (10, 26)\n",
      "\n",
      "Dimensões de nn_params: (10285,)\n"
     ]
    }
   ],
   "source": [
    "# Inicializando theta1 e theta2\n",
    "theta1_random = randomInitParams(25, 401)\n",
    "theta2_random = randomInitParams(10, 26)\n",
    "\n",
    "print(f'Dimensões de theta1: {theta1_random.shape}')\n",
    "print(f'Dimensões de theta2: {theta2_random.shape}')\n",
    "\n",
    "# Agrupando matrizes\n",
    "nn_params_random = np.r_[theta1_random.flatten(), theta2_random.flatten()]\n",
    "print(f'\\nDimensões de nn_params: {nn_params_random.shape}')"
   ]
  },
  {
   "cell_type": "code",
   "execution_count": 5,
   "metadata": {
    "ExecuteTime": {
     "end_time": "2019-04-17T14:00:00.652956Z",
     "start_time": "2019-04-17T14:00:00.579996Z"
    }
   },
   "outputs": [
    {
     "name": "stdout",
     "output_type": "stream",
     "text": [
      "Custo com lambda = 0: [6.97547448]\n"
     ]
    }
   ],
   "source": [
    "# Verificando custo com parâmetros iniciados aleatoriamente\n",
    "input_layer_size = 400\n",
    "hidden_layer_size = 25\n",
    "num_labels = 10\n",
    "lamda = 0\n",
    "\n",
    "J, grad = nnRegCostFunctionPlus(nn_params_random, X, y, input_layer_size, \n",
    "                                hidden_layer_size, num_labels, lamda)\n",
    "\n",
    "print(f'Custo com lambda = 0: {J}')"
   ]
  },
  {
   "cell_type": "code",
   "execution_count": 6,
   "metadata": {
    "ExecuteTime": {
     "end_time": "2019-04-17T14:00:02.543168Z",
     "start_time": "2019-04-17T14:00:02.483211Z"
    }
   },
   "outputs": [
    {
     "name": "stdout",
     "output_type": "stream",
     "text": [
      "Custo com lambda = 3: [6.99016614]\n"
     ]
    }
   ],
   "source": [
    "# Verificando custo com lambda = 3\n",
    "lamda = 3\n",
    "J, grad = nnRegCostFunctionPlus(nn_params_random, X, y, input_layer_size, \n",
    "                                hidden_layer_size, num_labels, lamda)\n",
    "\n",
    "print(f'Custo com lambda = 3: {J}')"
   ]
  },
  {
   "cell_type": "code",
   "execution_count": 8,
   "metadata": {
    "ExecuteTime": {
     "end_time": "2019-04-17T14:00:37.443605Z",
     "start_time": "2019-04-17T14:00:29.204686Z"
    }
   },
   "outputs": [
    {
     "name": "stdout",
     "output_type": "stream",
     "text": [
      "Warning: Maximum number of iterations has been exceeded.\n",
      "         Current function value: 0.650861\n",
      "         Iterations: 50\n",
      "         Function evaluations: 108\n",
      "         Gradient evaluations: 108\n"
     ]
    }
   ],
   "source": [
    "# Otimizando Rede\n",
    "import scipy.optimize\n",
    "\n",
    "result = scipy.optimize.fmin_cg(nnRegCostFunction, fprime=backPropagation, x0=nn_params_random, \n",
    "                                args=(X, y, input_layer_size, hidden_layer_size, num_labels,\n",
    "                                      lamda), \n",
    "                                maxiter=50, disp=True, full_output=True)"
   ]
  },
  {
   "cell_type": "code",
   "execution_count": 9,
   "metadata": {
    "ExecuteTime": {
     "end_time": "2019-04-17T14:00:41.244473Z",
     "start_time": "2019-04-17T14:00:41.238686Z"
    }
   },
   "outputs": [
    {
     "name": "stdout",
     "output_type": "stream",
     "text": [
      "Custo da função otimizada: 0.6508609320356853\n"
     ]
    }
   ],
   "source": [
    "# Verificando\n",
    "J = result[1]\n",
    "print(f'Custo da função otimizada: {J}')"
   ]
  },
  {
   "cell_type": "code",
   "execution_count": 10,
   "metadata": {
    "ExecuteTime": {
     "end_time": "2019-04-17T14:00:45.237771Z",
     "start_time": "2019-04-17T14:00:45.222810Z"
    }
   },
   "outputs": [
    {
     "name": "stdout",
     "output_type": "stream",
     "text": [
      "Dimensões de best_theta1: (25, 401)\n",
      "Dimensões de best_theta2: (10, 26)\n"
     ]
    }
   ],
   "source": [
    "# Retornando parâmetros theta\n",
    "best_nn_params = result[0]\n",
    "best_theta1, best_theta2 = unrollingParams(best_nn_params, input_layer_size, \n",
    "                                           hidden_layer_size, num_labels)\n",
    "\n",
    "print(f'Dimensões de best_theta1: {best_theta1.shape}')\n",
    "print(f'Dimensões de best_theta2: {best_theta2.shape}')"
   ]
  },
  {
   "cell_type": "code",
   "execution_count": 11,
   "metadata": {
    "ExecuteTime": {
     "end_time": "2019-04-17T14:00:46.953187Z",
     "start_time": "2019-04-17T14:00:46.876393Z"
    }
   },
   "outputs": [
    {
     "name": "stdout",
     "output_type": "stream",
     "text": [
      "Acurácia do modelo: 0.9588\n"
     ]
    }
   ],
   "source": [
    "# Retornando parâmetros das camadas para calcular a acurácia\n",
    "a1, a2, a3, z2, z3 = forwardPass(best_nn_params, X_train, input_layer_size, \n",
    "                                 hidden_layer_size, num_labels)\n",
    "\n",
    "# Calculando acurácia\n",
    "acc = acc_predictions(a3, y)\n",
    "print(f'Acurácia do modelo: {acc}')"
   ]
  },
  {
   "cell_type": "code",
   "execution_count": 30,
   "metadata": {
    "ExecuteTime": {
     "end_time": "2019-04-17T14:20:21.252811Z",
     "start_time": "2019-04-17T14:19:43.018904Z"
    }
   },
   "outputs": [
    {
     "name": "stdout",
     "output_type": "stream",
     "text": [
      "Predição: [7]\n"
     ]
    },
    {
     "data": {
      "image/png": "[encoded data removed]",
      "text/plain": [
       "<matplotlib.figure.Figure at 0x25705821438>"
      ]
     },
     "metadata": {
      "needs_background": "light"
     },
     "output_type": "display_data"
    },
    {
     "name": "stdout",
     "output_type": "stream",
     "text": [
      "Pressione qualquer tecla para continuar ou \"q\" para sair\n",
      "a\n",
      "Predição: [2]\n"
     ]
    },
    {
     "data": {
      "image/png": "[encoded data removed]",
      "text/plain": [
       "<matplotlib.figure.Figure at 0x257031e6860>"
      ]
     },
     "metadata": {
      "needs_background": "light"
     },
     "output_type": "display_data"
    },
    {
     "name": "stdout",
     "output_type": "stream",
     "text": [
      "Pressione qualquer tecla para continuar ou \"q\" para sair\n",
      "a\n",
      "Predição: [8]\n"
     ]
    },
    {
     "data": {
      "image/png": "[encoded data removed]",
      "text/plain": [
       "<matplotlib.figure.Figure at 0x25705cc7518>"
      ]
     },
     "metadata": {
      "needs_background": "light"
     },
     "output_type": "display_data"
    },
    {
     "name": "stdout",
     "output_type": "stream",
     "text": [
      "Pressione qualquer tecla para continuar ou \"q\" para sair\n",
      "q\n",
      "Fim do laço\n"
     ]
    }
   ],
   "source": [
    "# Visualizando predições\n",
    "random_pred(X, y, a3)"
   ]
  },
  {
   "cell_type": "markdown",
   "metadata": {},
   "source": [
    "Fim do programa."
   ]
  },
  {
   "cell_type": "code",
   "execution_count": null,
   "metadata": {},
   "outputs": [],
   "source": []
  }
 ],
 "metadata": {
  "kernelspec": {
   "display_name": "Python 3",
   "language": "python",
   "name": "python3"
  },
  "language_info": {
   "codemirror_mode": {
    "name": "ipython",
    "version": 3
   },
   "file_extension": ".py",
   "mimetype": "text/x-python",
   "name": "python",
   "nbconvert_exporter": "python",
   "pygments_lexer": "ipython3",
   "version": "3.6.4"
  },
  "toc": {
   "base_numbering": 1,
   "nav_menu": {},
   "number_sections": true,
   "sideBar": true,
   "skip_h1_title": true,
   "title_cell": "Table of Contents",
   "title_sidebar": "Contents",
   "toc_cell": true,
   "toc_position": {
    "height": "calc(100% - 180px)",
    "left": "10px",
    "top": "150px",
    "width": "246px"
   },
   "toc_section_display": true,
   "toc_window_display": true
  }
 },
 "nbformat": 4,
 "nbformat_minor": 2
}
