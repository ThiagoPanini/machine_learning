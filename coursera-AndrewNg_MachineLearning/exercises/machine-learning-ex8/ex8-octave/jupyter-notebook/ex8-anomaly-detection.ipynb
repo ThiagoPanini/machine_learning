{
 "cells": [
  {
   "cell_type": "markdown",
   "metadata": {
    "toc": true
   },
   "source": [
    "<h1>Table of Contents<span class=\"tocSkip\"></span></h1>\n",
    "<div class=\"toc\"><ul class=\"toc-item\"><li><span><a href=\"#Lendo-os-Dados\" data-toc-modified-id=\"Lendo-os-Dados-1\"><span class=\"toc-item-num\">1&nbsp;&nbsp;</span>Lendo os Dados</a></span></li><li><span><a href=\"#Distribuição-Gaussiana\" data-toc-modified-id=\"Distribuição-Gaussiana-2\"><span class=\"toc-item-num\">2&nbsp;&nbsp;</span>Distribuição Gaussiana</a></span><ul class=\"toc-item\"><li><span><a href=\"#Média-e-Variância\" data-toc-modified-id=\"Média-e-Variância-2.1\"><span class=\"toc-item-num\">2.1&nbsp;&nbsp;</span>Média e Variância</a></span></li></ul></li><li><span><a href=\"#Dados-de-Cross-Validation\" data-toc-modified-id=\"Dados-de-Cross-Validation-3\"><span class=\"toc-item-num\">3&nbsp;&nbsp;</span>Dados de Cross Validation</a></span><ul class=\"toc-item\"><li><span><a href=\"#Selecionando-Epsilon\" data-toc-modified-id=\"Selecionando-Epsilon-3.1\"><span class=\"toc-item-num\">3.1&nbsp;&nbsp;</span>Selecionando Epsilon</a></span></li></ul></li></ul></div>"
   ]
  },
  {
   "cell_type": "markdown",
   "metadata": {},
   "source": [
    "Este notebook tem por objetivo alocar implementações e investigações a respeito da parte A do exercício 8 do curso de Introdução a Machine Learning (Andrew Ng). Nele, serão considerados os devidos testes para a construção do código responsável pela criação de um sistema de detecção de anomalia, assunto referente a semana 9 do curso."
   ]
  },
  {
   "cell_type": "markdown",
   "metadata": {},
   "source": [
    "## Lendo os Dados"
   ]
  },
  {
   "cell_type": "code",
   "execution_count": 1,
   "metadata": {
    "ExecuteTime": {
     "end_time": "2019-03-19T00:16:09.292019Z",
     "start_time": "2019-03-19T00:16:08.990826Z"
    }
   },
   "outputs": [],
   "source": [
    "# Lendo arquivo e inspecionando variáveis\n",
    "load('ex8data1.mat')"
   ]
  },
  {
   "cell_type": "code",
   "execution_count": 2,
   "metadata": {
    "ExecuteTime": {
     "end_time": "2019-03-19T00:16:10.555563Z",
     "start_time": "2019-03-19T00:16:10.420656Z"
    }
   },
   "outputs": [
    {
     "name": "stdout",
     "output_type": "stream",
     "text": [
      "ans =\n",
      "\n",
      "   307     2\n",
      "\n"
     ]
    }
   ],
   "source": [
    "# Dimensões do conjunto de dados\n",
    "size(X)"
   ]
  },
  {
   "cell_type": "markdown",
   "metadata": {},
   "source": [
    "Trata-se de um dataset com 307 linhas e 2 colunas. Tais colunas representam features relacionadas ao comportamento de computadores conectados a um servidor, sendo elas:\n",
    "    - Latency (ms)\n",
    "    - Throughput (mb/s)"
   ]
  },
  {
   "cell_type": "markdown",
   "metadata": {},
   "source": [
    "O objetivo é identificar comportamentos anômalos dentro do servidos através dessas duas features."
   ]
  },
  {
   "cell_type": "code",
   "execution_count": 3,
   "metadata": {
    "ExecuteTime": {
     "end_time": "2019-03-19T00:16:18.642952Z",
     "start_time": "2019-03-19T00:16:12.980896Z"
    }
   },
   "outputs": [
    {
     "data": {
      "image/png": "[encoded data removed]",
      "text/plain": [
       "<IPython.core.display.Image object>"
      ]
     },
     "metadata": {},
     "output_type": "display_data"
    }
   ],
   "source": [
    "# Visualizando os dados\n",
    "plot(X(:, 1), X(:, 2), 'bx')\n",
    "axis([0 30 0 30])\n",
    "xlabel('Latency (ms)')\n",
    "ylabel('Throughput (mb/s)')"
   ]
  },
  {
   "cell_type": "markdown",
   "metadata": {},
   "source": [
    "Visivelmente, através da plotagem, é possível perceber a presença de ```outliers``` no dataset, sejam estes descritos por um aumento anormal na latência, ou na taxa de transferência."
   ]
  },
  {
   "cell_type": "markdown",
   "metadata": {},
   "source": [
    "## Distribuição Gaussiana"
   ]
  },
  {
   "cell_type": "markdown",
   "metadata": {},
   "source": [
    "Neste ponto do exerício, será necessário definir uma função que receba, como argumento, um dataset n-dimensional, tendo como o escopo o cálculo das variáveis necessárias para construção da distribuição gaussiana, ou seja, a média e a variância para cada feature dentro do dataset X"
   ]
  },
  {
   "cell_type": "code",
   "execution_count": 4,
   "metadata": {
    "ExecuteTime": {
     "end_time": "2019-03-19T00:16:18.711175Z",
     "start_time": "2019-03-19T00:16:18.645547Z"
    }
   },
   "outputs": [
    {
     "name": "stdout",
     "output_type": "stream",
     "text": [
      "m =  307\n",
      "n =  2\n"
     ]
    }
   ],
   "source": [
    "% Retornando dimensões do dataset\n",
    "[m n] = size(X)"
   ]
  },
  {
   "cell_type": "code",
   "execution_count": 5,
   "metadata": {
    "ExecuteTime": {
     "end_time": "2019-03-19T00:16:18.775003Z",
     "start_time": "2019-03-19T00:16:18.715163Z"
    }
   },
   "outputs": [
    {
     "name": "stdout",
     "output_type": "stream",
     "text": [
      "ans =\n",
      "\n",
      "   13.047   14.741\n",
      "   13.409   13.763\n",
      "   14.196   15.853\n",
      "   14.915   16.174\n",
      "   13.577   14.043\n",
      "\n"
     ]
    }
   ],
   "source": [
    "% Verificando primeiras linhas do dataset\n",
    "X(1:5, :)"
   ]
  },
  {
   "cell_type": "code",
   "execution_count": 6,
   "metadata": {
    "ExecuteTime": {
     "end_time": "2019-03-19T00:16:23.120932Z",
     "start_time": "2019-03-19T00:16:23.020202Z"
    }
   },
   "outputs": [
    {
     "name": "stdout",
     "output_type": "stream",
     "text": [
      "Head feature 1\n",
      "ans =\n",
      "\n",
      "   13.047\n",
      "   13.409\n",
      "   14.196\n",
      "   14.915\n",
      "   13.577\n",
      "\n",
      "Head feature 2\n",
      "ans =\n",
      "\n",
      "   14.741\n",
      "   13.763\n",
      "   15.853\n",
      "   16.174\n",
      "   14.043\n",
      "\n"
     ]
    }
   ],
   "source": [
    "% Testando laço for\n",
    "for i=1:n\n",
    "    fprintf('Head feature %d\\n', i)\n",
    "    X(1:5, i)\n",
    "endfor"
   ]
  },
  {
   "cell_type": "code",
   "execution_count": 7,
   "metadata": {
    "ExecuteTime": {
     "end_time": "2019-03-19T00:16:24.778864Z",
     "start_time": "2019-03-19T00:16:24.714021Z"
    }
   },
   "outputs": [
    {
     "name": "stdout",
     "output_type": "stream",
     "text": [
      "ans =\n",
      "\n",
      "   13.047\n",
      "   13.409\n",
      "   14.196\n",
      "   14.915\n",
      "   13.577\n",
      "\n"
     ]
    }
   ],
   "source": [
    "% Testando cálculo da média\n",
    "latencia = X(:, 1);\n",
    "latencia(1:5)"
   ]
  },
  {
   "cell_type": "code",
   "execution_count": 8,
   "metadata": {
    "ExecuteTime": {
     "end_time": "2019-03-19T00:16:26.364710Z",
     "start_time": "2019-03-19T00:16:26.291101Z"
    }
   },
   "outputs": [
    {
     "name": "stdout",
     "output_type": "stream",
     "text": [
      "ans =  14.112\n"
     ]
    }
   ],
   "source": [
    "% Média\n",
    "mean(latencia)"
   ]
  },
  {
   "cell_type": "code",
   "execution_count": 9,
   "metadata": {
    "ExecuteTime": {
     "end_time": "2019-03-19T00:16:26.528597Z",
     "start_time": "2019-03-19T00:16:26.469739Z"
    }
   },
   "outputs": [
    {
     "name": "stdout",
     "output_type": "stream",
     "text": [
      "ans =  1.8326\n"
     ]
    }
   ],
   "source": [
    "% Testando Variância\n",
    "sum(((latencia - mean(latencia)).^2))/m"
   ]
  },
  {
   "cell_type": "code",
   "execution_count": 10,
   "metadata": {
    "ExecuteTime": {
     "end_time": "2019-03-19T00:16:26.731522Z",
     "start_time": "2019-03-19T00:16:26.636743Z"
    }
   },
   "outputs": [
    {
     "name": "stdout",
     "output_type": "stream",
     "text": [
      "ans =  1.8386\n"
     ]
    }
   ],
   "source": [
    "% Outro método\n",
    "var(latencia)"
   ]
  },
  {
   "cell_type": "markdown",
   "metadata": {},
   "source": [
    "Vamos repetir este método para a feature de taxa de transferência afim de verificar se implementações futuras estarão corretas."
   ]
  },
  {
   "cell_type": "code",
   "execution_count": 11,
   "metadata": {
    "ExecuteTime": {
     "end_time": "2019-03-19T00:16:28.577821Z",
     "start_time": "2019-03-19T00:16:28.520348Z"
    }
   },
   "outputs": [
    {
     "name": "stdout",
     "output_type": "stream",
     "text": [
      "ans =  14.998\n"
     ]
    }
   ],
   "source": [
    "% Calculando média\n",
    "tx_transf = X(:, 2);\n",
    "mean(tx_transf)"
   ]
  },
  {
   "cell_type": "code",
   "execution_count": 12,
   "metadata": {
    "ExecuteTime": {
     "end_time": "2019-03-19T00:16:28.704309Z",
     "start_time": "2019-03-19T00:16:28.658422Z"
    }
   },
   "outputs": [
    {
     "name": "stdout",
     "output_type": "stream",
     "text": [
      "ans =  1.7097\n"
     ]
    }
   ],
   "source": [
    "% Calculando variância (raça)\n",
    "sum((tx_transf - mean(tx_transf)).^2)/m"
   ]
  },
  {
   "cell_type": "code",
   "execution_count": 13,
   "metadata": {
    "ExecuteTime": {
     "end_time": "2019-03-19T00:16:28.881060Z",
     "start_time": "2019-03-19T00:16:28.827195Z"
    }
   },
   "outputs": [
    {
     "name": "stdout",
     "output_type": "stream",
     "text": [
      "ans =  1.7153\n"
     ]
    }
   ],
   "source": [
    "% Calculando variância (func)\n",
    "var(tx_transf)"
   ]
  },
  {
   "cell_type": "markdown",
   "metadata": {},
   "source": [
    "### Média e Variância"
   ]
  },
  {
   "cell_type": "markdown",
   "metadata": {},
   "source": [
    "Vamos então implementar a função, em um primeiro momento, com cálculos realizados \"na raça\", ou seja, sem o auxílio da função ```var()``` do Octave/MATLAB. Vamos expandir os cálculos para que estes possam ser aplicados a qualquer dataset n-dimensional."
   ]
  },
  {
   "cell_type": "code",
   "execution_count": 14,
   "metadata": {
    "ExecuteTime": {
     "end_time": "2019-03-19T00:16:29.872038Z",
     "start_time": "2019-03-19T00:16:29.685357Z"
    }
   },
   "outputs": [],
   "source": [
    "% Dimensões do dataset\n",
    "[m n] = size(X);\n",
    "\n",
    "% Inicializando vetores\n",
    "mu = zeros(n, 1);\n",
    "sigma2 = zeros(n, 1);\n",
    "\n",
    "% Iterando features e implementando cálculos\n",
    "for i = 1:n\n",
    "    media = mean(X(:, i));\n",
    "    mu(i) = media;\n",
    "    var = sum((X(:, i) - media).^2)/m;\n",
    "    sigma2(i) = var;\n",
    "endfor"
   ]
  },
  {
   "cell_type": "code",
   "execution_count": 15,
   "metadata": {
    "ExecuteTime": {
     "end_time": "2019-03-19T00:16:30.069346Z",
     "start_time": "2019-03-19T00:16:30.001851Z"
    }
   },
   "outputs": [
    {
     "name": "stdout",
     "output_type": "stream",
     "text": [
      "mu =\n",
      "\n",
      "   14.112\n",
      "   14.998\n",
      "\n",
      "sigma2 =\n",
      "\n",
      "   1.8326\n",
      "   1.7097\n",
      "\n"
     ]
    }
   ],
   "source": [
    "% Verificando valores\n",
    "mu\n",
    "sigma2"
   ]
  },
  {
   "cell_type": "markdown",
   "metadata": {},
   "source": [
    "Os valores bateram com os testes realizados. Implementando função"
   ]
  },
  {
   "cell_type": "code",
   "execution_count": 16,
   "metadata": {
    "ExecuteTime": {
     "end_time": "2019-03-19T00:16:31.002844Z",
     "start_time": "2019-03-19T00:16:30.535027Z"
    }
   },
   "outputs": [],
   "source": [
    "function [mu sigma2] = estimateGaussian(X)\n",
    "    %ESTIMATEGAUSSIAN This function estimates the parameters of a \n",
    "    %Gaussian distribution using the data in X\n",
    "    %   [mu sigma2] = estimateGaussian(X), \n",
    "    %   The input X is the dataset with each n-dimensional data point in one row\n",
    "    %   The output is an n-dimensional vector mu, the mean of the data set\n",
    "    %   and the variances sigma^2, an n x 1 vector\n",
    "    \n",
    "    % Dimensões do dataset\n",
    "    [m n] = size(X);\n",
    "\n",
    "    % Inicializando vetores\n",
    "    mu = zeros(n, 1);\n",
    "    sigma2 = zeros(n, 1);\n",
    "\n",
    "    % Iterando features e implementando cálculos\n",
    "    for i = 1:n\n",
    "        media = mean(X(:, i));\n",
    "        mu(i) = media;\n",
    "        var = sum((X(:, i) - media).^2)/m;\n",
    "        sigma2(i) = var;\n",
    "    endfor\n",
    "    \n",
    "endfunction"
   ]
  },
  {
   "cell_type": "code",
   "execution_count": 17,
   "metadata": {
    "ExecuteTime": {
     "end_time": "2019-03-19T00:16:31.168795Z",
     "start_time": "2019-03-19T00:16:31.115936Z"
    }
   },
   "outputs": [
    {
     "name": "stdout",
     "output_type": "stream",
     "text": [
      "mu =\n",
      "\n",
      "   14.112\n",
      "   14.998\n",
      "\n",
      "sigma =\n",
      "\n",
      "   1.8326\n",
      "   1.7097\n",
      "\n"
     ]
    }
   ],
   "source": [
    "% Chamando função\n",
    "[mu sigma] = estimateGaussian(X)"
   ]
  },
  {
   "cell_type": "markdown",
   "metadata": {
    "ExecuteTime": {
     "end_time": "2019-03-19T00:17:56.769718Z",
     "start_time": "2019-03-19T00:17:56.607152Z"
    }
   },
   "source": [
    "## Dados de Cross Validation"
   ]
  },
  {
   "cell_type": "markdown",
   "metadata": {},
   "source": [
    "Para calcular o melhor threshold ```epsilon```, será necessário utilizar o set de Validação Cruzada junto com a métrica ```f1_score```. Para isso, temos os conjuntos ```Xval``` e ```yval```."
   ]
  },
  {
   "cell_type": "code",
   "execution_count": 22,
   "metadata": {
    "ExecuteTime": {
     "end_time": "2019-03-19T00:20:07.142339Z",
     "start_time": "2019-03-19T00:20:07.065544Z"
    }
   },
   "outputs": [
    {
     "name": "stdout",
     "output_type": "stream",
     "text": [
      "ans =\n",
      "\n",
      "   307     2\n",
      "\n",
      "ans =\n",
      "\n",
      "   307     1\n",
      "\n"
     ]
    }
   ],
   "source": [
    "% Dimensões de dados de validação\n",
    "size(Xval)\n",
    "size(yval)"
   ]
  },
  {
   "cell_type": "code",
   "execution_count": 24,
   "metadata": {
    "ExecuteTime": {
     "end_time": "2019-03-19T00:20:30.766801Z",
     "start_time": "2019-03-19T00:20:30.699562Z"
    }
   },
   "outputs": [
    {
     "name": "stdout",
     "output_type": "stream",
     "text": [
      "ans =\n",
      "\n",
      "   15.790   14.921\n",
      "   13.640   15.330\n",
      "   14.866   16.474\n",
      "   13.585   13.989\n",
      "   13.464   15.635\n",
      "\n",
      "ans =\n",
      "\n",
      "   0\n",
      "   0\n",
      "   0\n",
      "   0\n",
      "   0\n",
      "\n"
     ]
    }
   ],
   "source": [
    "% Primeiras linhas\n",
    "Xval(1:5, :)\n",
    "yval(1:5)"
   ]
  },
  {
   "cell_type": "markdown",
   "metadata": {},
   "source": [
    "    - yval = 0: exemplos normais\n",
    "    - yval = 1: exemplos anômalos"
   ]
  },
  {
   "cell_type": "code",
   "execution_count": 26,
   "metadata": {
    "ExecuteTime": {
     "end_time": "2019-03-19T00:22:27.259299Z",
     "start_time": "2019-03-19T00:22:27.212351Z"
    }
   },
   "outputs": [
    {
     "name": "stdout",
     "output_type": "stream",
     "text": [
      "ans =  9\n"
     ]
    }
   ],
   "source": [
    "% Verificando exemplos anômalos\n",
    "sum(yval)"
   ]
  },
  {
   "cell_type": "code",
   "execution_count": 30,
   "metadata": {
    "ExecuteTime": {
     "end_time": "2019-03-19T00:23:19.618896Z",
     "start_time": "2019-03-19T00:23:19.438369Z"
    }
   },
   "outputs": [
    {
     "name": "stdout",
     "output_type": "stream",
     "text": [
      "yval =\n",
      "\n",
      "   0\n",
      "   0\n",
      "   0\n",
      "   0\n",
      "   0\n",
      "   0\n",
      "   0\n",
      "   0\n",
      "   0\n",
      "   1\n",
      "   0\n",
      "   0\n",
      "   0\n",
      "   0\n",
      "   0\n",
      "   0\n",
      "   0\n",
      "   0\n",
      "   0\n",
      "   0\n",
      "   0\n",
      "   0\n",
      "   0\n",
      "   0\n",
      "   0\n",
      "   0\n",
      "   0\n",
      "   0\n",
      "   0\n",
      "   0\n",
      "   0\n",
      "   0\n",
      "   0\n",
      "   0\n",
      "   0\n",
      "   0\n",
      "   0\n",
      "   0\n",
      "   0\n",
      "   0\n",
      "   0\n",
      "   0\n",
      "   0\n",
      "   0\n",
      "   0\n",
      "   0\n",
      "   0\n",
      "   0\n",
      "   0\n",
      "   1\n",
      "   0\n",
      "   0\n",
      "   0\n",
      "   0\n",
      "   0\n",
      "   0\n",
      "   0\n",
      "   0\n",
      "   0\n",
      "   0\n",
      "   0\n",
      "   0\n",
      "   0\n",
      "   0\n",
      "   0\n",
      "   0\n",
      "   0\n",
      "   0\n",
      "   0\n",
      "   0\n",
      "   0\n",
      "   0\n",
      "   0\n",
      "   0\n",
      "   0\n",
      "   0\n",
      "   0\n",
      "   0\n",
      "   0\n",
      "   0\n",
      "   0\n",
      "   0\n",
      "   0\n",
      "   0\n",
      "   0\n",
      "   0\n",
      "   0\n",
      "   0\n",
      "   0\n",
      "   0\n",
      "   0\n",
      "   0\n",
      "   0\n",
      "   0\n",
      "   0\n",
      "   0\n",
      "   0\n",
      "   0\n",
      "   0\n",
      "   0\n",
      "   0\n",
      "   0\n",
      "   0\n",
      "   0\n",
      "   0\n",
      "   0\n",
      "   0\n",
      "   0\n",
      "   0\n",
      "   0\n",
      "   0\n",
      "   0\n",
      "   0\n",
      "   0\n",
      "   0\n",
      "   0\n",
      "   0\n",
      "   0\n",
      "   0\n",
      "   0\n",
      "   0\n",
      "   0\n",
      "   0\n",
      "   0\n",
      "   0\n",
      "   0\n",
      "   0\n",
      "   0\n",
      "   0\n",
      "   0\n",
      "   0\n",
      "   0\n",
      "   0\n",
      "   0\n",
      "   0\n",
      "   0\n",
      "   0\n",
      "   0\n",
      "   0\n",
      "   0\n",
      "   0\n",
      "   0\n",
      "   0\n",
      "   0\n",
      "   0\n",
      "   0\n",
      "   0\n",
      "   0\n",
      "   0\n",
      "   0\n",
      "   0\n",
      "   0\n",
      "   0\n",
      "   0\n",
      "   0\n",
      "   0\n",
      "   0\n",
      "   0\n",
      "   0\n",
      "   0\n",
      "   0\n",
      "   0\n",
      "   0\n",
      "   0\n",
      "   0\n",
      "   0\n",
      "   0\n",
      "   0\n",
      "   0\n",
      "   0\n",
      "   0\n",
      "   0\n",
      "   0\n",
      "   0\n",
      "   0\n",
      "   0\n",
      "   0\n",
      "   0\n",
      "   0\n",
      "   0\n",
      "   0\n",
      "   0\n",
      "   0\n",
      "   0\n",
      "   0\n",
      "   0\n",
      "   0\n",
      "   0\n",
      "   0\n",
      "   0\n",
      "   0\n",
      "   0\n",
      "   0\n",
      "   0\n",
      "   0\n",
      "   0\n",
      "   0\n",
      "   0\n",
      "   0\n",
      "   0\n",
      "   0\n",
      "   0\n",
      "   0\n",
      "   0\n",
      "   0\n",
      "   0\n",
      "   0\n",
      "   0\n",
      "   0\n",
      "   0\n",
      "   0\n",
      "   0\n",
      "   0\n",
      "   0\n",
      "   0\n",
      "   0\n",
      "   0\n",
      "   0\n",
      "   0\n",
      "   0\n",
      "   0\n",
      "   0\n",
      "   0\n",
      "   0\n",
      "   0\n",
      "   0\n",
      "   0\n",
      "   0\n",
      "   0\n",
      "   0\n",
      "   0\n",
      "   0\n",
      "   0\n",
      "   0\n",
      "   0\n",
      "   0\n",
      "   0\n",
      "   0\n",
      "   0\n",
      "   0\n",
      "   0\n",
      "   0\n",
      "   0\n",
      "   0\n",
      "   0\n",
      "   0\n",
      "   0\n",
      "   0\n",
      "   0\n",
      "   0\n",
      "   0\n",
      "   0\n",
      "   0\n",
      "   0\n",
      "   0\n",
      "   0\n",
      "   0\n",
      "   0\n",
      "   0\n",
      "   0\n",
      "   0\n",
      "   0\n",
      "   0\n",
      "   0\n",
      "   0\n",
      "   0\n",
      "   0\n",
      "   0\n",
      "   0\n",
      "   0\n",
      "   0\n",
      "   0\n",
      "   0\n",
      "   0\n",
      "   0\n",
      "   0\n",
      "   0\n",
      "   0\n",
      "   0\n",
      "   0\n",
      "   0\n",
      "   0\n",
      "   0\n",
      "   0\n",
      "   0\n",
      "   0\n",
      "   0\n",
      "   0\n",
      "   0\n",
      "   0\n",
      "   0\n",
      "   0\n",
      "   0\n",
      "   0\n",
      "   0\n",
      "   0\n",
      "   0\n",
      "   0\n",
      "   0\n",
      "   0\n",
      "   1\n",
      "   1\n",
      "   1\n",
      "   1\n",
      "   1\n",
      "   1\n",
      "   1\n",
      "\n"
     ]
    }
   ],
   "source": [
    "% Verificando índices\n",
    "yval"
   ]
  },
  {
   "cell_type": "markdown",
   "metadata": {},
   "source": [
    "Vejamos os 5 primeiros e os 5 últimos."
   ]
  },
  {
   "cell_type": "code",
   "execution_count": 31,
   "metadata": {
    "ExecuteTime": {
     "end_time": "2019-03-19T00:24:23.674450Z",
     "start_time": "2019-03-19T00:24:23.603722Z"
    }
   },
   "outputs": [
    {
     "name": "stdout",
     "output_type": "stream",
     "text": [
      "ans =\n",
      "\n",
      "   15.790   14.921\n",
      "   13.640   15.330\n",
      "   14.866   16.474\n",
      "   13.585   13.989\n",
      "   13.464   15.635\n",
      "\n",
      "ans =\n",
      "\n",
      "    8.73857   16.79581\n",
      "    0.30794    5.39141\n",
      "   28.54179   21.59978\n",
      "   19.03499   12.02895\n",
      "   14.37578   23.35597\n",
      "    8.77807   16.68953\n",
      "\n"
     ]
    }
   ],
   "source": [
    "% Comparando normais e anômalos\n",
    "mval = size(X, 1);\n",
    "Xval(1:5, :)\n",
    "Xval(mval-5:mval, :)"
   ]
  },
  {
   "cell_type": "markdown",
   "metadata": {},
   "source": [
    "Os resultados fizeram sentido."
   ]
  },
  {
   "cell_type": "markdown",
   "metadata": {},
   "source": [
    "### Selecionando Epsilon"
   ]
  },
  {
   "cell_type": "markdown",
   "metadata": {},
   "source": [
    "Para selecionar o threshold ```epsilon```, temos que calcular o parâmetro ```p(x)``` para cada um dos exemplos de validação cruzada. Para tal, é necessário ter em mãos os parâmetros ```mu``` e ```sigma``` da distribuição gaussiana já calculados"
   ]
  },
  {
   "cell_type": "code",
   "execution_count": 37,
   "metadata": {
    "ExecuteTime": {
     "end_time": "2019-03-19T00:30:45.016602Z",
     "start_time": "2019-03-19T00:30:44.951776Z"
    }
   },
   "outputs": [
    {
     "name": "stdout",
     "output_type": "stream",
     "text": [
      "mu =\n",
      "\n",
      "   14.112\n",
      "   14.998\n",
      "\n",
      "sigma2 =\n",
      "\n",
      "   1.8326\n",
      "   1.7097\n",
      "\n"
     ]
    }
   ],
   "source": [
    "% Verificando mu e sigma\n",
    "mu\n",
    "sigma2"
   ]
  },
  {
   "cell_type": "markdown",
   "metadata": {},
   "source": [
    "Para complementar o código, vamos definir uma função e investigar seu retorno."
   ]
  },
  {
   "cell_type": "code",
   "execution_count": 33,
   "metadata": {
    "ExecuteTime": {
     "end_time": "2019-03-19T00:30:14.290667Z",
     "start_time": "2019-03-19T00:30:14.034469Z"
    }
   },
   "outputs": [],
   "source": [
    "function p = multivariateGaussian(X, mu, Sigma2)\n",
    "%MULTIVARIATEGAUSSIAN Computes the probability density function of the\n",
    "%multivariate gaussian distribution.\n",
    "%    p = MULTIVARIATEGAUSSIAN(X, mu, Sigma2) Computes the probability \n",
    "%    density function of the examples X under the multivariate gaussian \n",
    "%    distribution with parameters mu and Sigma2. If Sigma2 is a matrix, it is\n",
    "%    treated as the covariance matrix. If Sigma2 is a vector, it is treated\n",
    "%    as the \\sigma^2 values of the variances in each dimension (a diagonal\n",
    "%    covariance matrix)\n",
    "%\n",
    "\n",
    "k = length(mu);\n",
    "\n",
    "if (size(Sigma2, 2) == 1) || (size(Sigma2, 1) == 1)\n",
    "    Sigma2 = diag(Sigma2);\n",
    "end\n",
    "\n",
    "X = bsxfun(@minus, X, mu(:)');\n",
    "p = (2 * pi) ^ (- k / 2) * det(Sigma2) ^ (-0.5) * ...\n",
    "    exp(-0.5 * sum(bsxfun(@times, X * pinv(Sigma2), X), 2));\n",
    "\n",
    "end"
   ]
  },
  {
   "cell_type": "code",
   "execution_count": 38,
   "metadata": {
    "ExecuteTime": {
     "end_time": "2019-03-19T00:30:51.011001Z",
     "start_time": "2019-03-19T00:30:50.966122Z"
    }
   },
   "outputs": [],
   "source": [
    "% Iniciando função\n",
    "pval = multivariateGaussian(Xval, mu, sigma2);"
   ]
  },
  {
   "cell_type": "markdown",
   "metadata": {
    "ExecuteTime": {
     "end_time": "2019-03-19T00:30:52.548447Z",
     "start_time": "2019-03-19T00:30:52.394885Z"
    }
   },
   "source": [
    "O elemento ```pval``` já contém a probabilidade de cada exemplo do set de validação!"
   ]
  },
  {
   "cell_type": "code",
   "execution_count": 40,
   "metadata": {
    "ExecuteTime": {
     "end_time": "2019-03-19T00:31:42.709778Z",
     "start_time": "2019-03-19T00:31:42.661917Z"
    }
   },
   "outputs": [
    {
     "name": "stdout",
     "output_type": "stream",
     "text": [
      "ans =\n",
      "\n",
      "   0.041632\n",
      "   0.081909\n",
      "   0.040716\n",
      "   0.061900\n",
      "   0.071187\n",
      "\n"
     ]
    }
   ],
   "source": [
    "% Verificando header\n",
    "pval(1:5, :)"
   ]
  },
  {
   "cell_type": "markdown",
   "metadata": {},
   "source": [
    "O pipeline funcionará da seguinte forma:\n",
    "    - Inicializar uma função que calcule e retorne epsilon que maximiza f1_score"
   ]
  },
  {
   "cell_type": "code",
   "execution_count": 43,
   "metadata": {
    "ExecuteTime": {
     "end_time": "2019-03-19T00:33:37.533248Z",
     "start_time": "2019-03-19T00:33:37.488368Z"
    }
   },
   "outputs": [
    {
     "name": "stdout",
     "output_type": "stream",
     "text": [
      "ans =  0.089909\n",
      "ans =    4.5133e-36\n"
     ]
    }
   ],
   "source": [
    "max(pval)\n",
    "min(pval)"
   ]
  },
  {
   "cell_type": "code",
   "execution_count": 44,
   "metadata": {
    "ExecuteTime": {
     "end_time": "2019-03-19T00:33:40.804234Z",
     "start_time": "2019-03-19T00:33:40.773319Z"
    }
   },
   "outputs": [
    {
     "name": "stdout",
     "output_type": "stream",
     "text": [
      "stepsize =  0.000089909\n"
     ]
    }
   ],
   "source": [
    "stepsize = (max(pval) - min(pval)) / 1000"
   ]
  },
  {
   "cell_type": "code",
   "execution_count": 46,
   "metadata": {
    "ExecuteTime": {
     "end_time": "2019-03-19T00:34:26.149037Z",
     "start_time": "2019-03-19T00:34:25.627429Z"
    }
   },
   "outputs": [
    {
     "name": "stdout",
     "output_type": "stream",
     "text": [
      "epsilon =    4.5133e-36\n",
      "epsilon =  0.000089909\n",
      "epsilon =  0.00017982\n",
      "epsilon =  0.00026973\n",
      "epsilon =  0.00035963\n",
      "epsilon =  0.00044954\n",
      "epsilon =  0.00053945\n",
      "epsilon =  0.00062936\n",
      "epsilon =  0.00071927\n",
      "epsilon =  0.00080918\n",
      "epsilon =  0.00089909\n",
      "epsilon =  0.00098899\n",
      "epsilon =  0.0010789\n",
      "epsilon =  0.0011688\n",
      "epsilon =  0.0012587\n",
      "epsilon =  0.0013486\n",
      "epsilon =  0.0014385\n",
      "epsilon =  0.0015284\n",
      "epsilon =  0.0016184\n",
      "epsilon =  0.0017083\n",
      "epsilon =  0.0017982\n",
      "epsilon =  0.0018881\n",
      "epsilon =  0.0019780\n",
      "epsilon =  0.0020679\n",
      "epsilon =  0.0021578\n",
      "epsilon =  0.0022477\n",
      "epsilon =  0.0023376\n",
      "epsilon =  0.0024275\n",
      "epsilon =  0.0025174\n",
      "epsilon =  0.0026073\n",
      "epsilon =  0.0026973\n",
      "epsilon =  0.0027872\n",
      "epsilon =  0.0028771\n",
      "epsilon =  0.0029670\n",
      "epsilon =  0.0030569\n",
      "epsilon =  0.0031468\n",
      "epsilon =  0.0032367\n",
      "epsilon =  0.0033266\n",
      "epsilon =  0.0034165\n",
      "epsilon =  0.0035064\n",
      "epsilon =  0.0035963\n",
      "epsilon =  0.0036862\n",
      "epsilon =  0.0037762\n",
      "epsilon =  0.0038661\n",
      "epsilon =  0.0039560\n",
      "epsilon =  0.0040459\n",
      "epsilon =  0.0041358\n",
      "epsilon =  0.0042257\n",
      "epsilon =  0.0043156\n",
      "epsilon =  0.0044055\n",
      "epsilon =  0.0044954\n",
      "epsilon =  0.0045853\n",
      "epsilon =  0.0046752\n",
      "epsilon =  0.0047652\n",
      "epsilon =  0.0048551\n",
      "epsilon =  0.0049450\n",
      "epsilon =  0.0050349\n",
      "epsilon =  0.0051248\n",
      "epsilon =  0.0052147\n",
      "epsilon =  0.0053046\n",
      "epsilon =  0.0053945\n",
      "epsilon =  0.0054844\n",
      "epsilon =  0.0055743\n",
      "epsilon =  0.0056642\n",
      "epsilon =  0.0057541\n",
      "epsilon =  0.0058441\n",
      "epsilon =  0.0059340\n",
      "epsilon =  0.0060239\n",
      "epsilon =  0.0061138\n",
      "epsilon =  0.0062037\n",
      "epsilon =  0.0062936\n",
      "epsilon =  0.0063835\n",
      "epsilon =  0.0064734\n",
      "epsilon =  0.0065633\n",
      "epsilon =  0.0066532\n",
      "epsilon =  0.0067431\n",
      "epsilon =  0.0068330\n",
      "epsilon =  0.0069230\n",
      "epsilon =  0.0070129\n",
      "epsilon =  0.0071028\n",
      "epsilon =  0.0071927\n",
      "epsilon =  0.0072826\n",
      "epsilon =  0.0073725\n",
      "epsilon =  0.0074624\n",
      "epsilon =  0.0075523\n",
      "epsilon =  0.0076422\n",
      "epsilon =  0.0077321\n",
      "epsilon =  0.0078220\n",
      "epsilon =  0.0079120\n",
      "epsilon =  0.0080019\n",
      "epsilon =  0.0080918\n",
      "epsilon =  0.0081817\n",
      "epsilon =  0.0082716\n",
      "epsilon =  0.0083615\n",
      "epsilon =  0.0084514\n",
      "epsilon =  0.0085413\n",
      "epsilon =  0.0086312\n",
      "epsilon =  0.0087211\n",
      "epsilon =  0.0088110\n",
      "epsilon =  0.0089009\n",
      "epsilon =  0.0089909\n",
      "epsilon =  0.0090808\n",
      "epsilon =  0.0091707\n",
      "epsilon =  0.0092606\n",
      "epsilon =  0.0093505\n",
      "epsilon =  0.0094404\n",
      "epsilon =  0.0095303\n",
      "epsilon =  0.0096202\n",
      "epsilon =  0.0097101\n",
      "epsilon =  0.0098000\n",
      "epsilon =  0.0098899\n",
      "epsilon =  0.0099798\n",
      "epsilon =  0.010070\n",
      "epsilon =  0.010160\n",
      "epsilon =  0.010250\n",
      "epsilon =  0.010339\n",
      "epsilon =  0.010429\n",
      "epsilon =  0.010519\n",
      "epsilon =  0.010609\n",
      "epsilon =  0.010699\n",
      "epsilon =  0.010789\n",
      "epsilon =  0.010879\n",
      "epsilon =  0.010969\n",
      "epsilon =  0.011059\n",
      "epsilon =  0.011149\n",
      "epsilon =  0.011239\n",
      "epsilon =  0.011328\n",
      "epsilon =  0.011418\n",
      "epsilon =  0.011508\n",
      "epsilon =  0.011598\n",
      "epsilon =  0.011688\n",
      "epsilon =  0.011778\n",
      "epsilon =  0.011868\n",
      "epsilon =  0.011958\n",
      "epsilon =  0.012048\n",
      "epsilon =  0.012138\n",
      "epsilon =  0.012228\n",
      "epsilon =  0.012317\n",
      "epsilon =  0.012407\n",
      "epsilon =  0.012497\n",
      "epsilon =  0.012587\n",
      "epsilon =  0.012677\n",
      "epsilon =  0.012767\n",
      "epsilon =  0.012857\n",
      "epsilon =  0.012947\n",
      "epsilon =  0.013037\n",
      "epsilon =  0.013127\n",
      "epsilon =  0.013217\n",
      "epsilon =  0.013306\n",
      "epsilon =  0.013396\n",
      "epsilon =  0.013486\n",
      "epsilon =  0.013576\n",
      "epsilon =  0.013666\n",
      "epsilon =  0.013756\n",
      "epsilon =  0.013846\n",
      "epsilon =  0.013936\n",
      "epsilon =  0.014026\n",
      "epsilon =  0.014116\n",
      "epsilon =  0.014206\n",
      "epsilon =  0.014295\n",
      "epsilon =  0.014385\n",
      "epsilon =  0.014475\n",
      "epsilon =  0.014565\n",
      "epsilon =  0.014655\n",
      "epsilon =  0.014745\n",
      "epsilon =  0.014835\n",
      "epsilon =  0.014925\n",
      "epsilon =  0.015015\n",
      "epsilon =  0.015105\n",
      "epsilon =  0.015195\n",
      "epsilon =  0.015284\n",
      "epsilon =  0.015374\n",
      "epsilon =  0.015464\n",
      "epsilon =  0.015554\n",
      "epsilon =  0.015644\n",
      "epsilon =  0.015734\n",
      "epsilon =  0.015824\n",
      "epsilon =  0.015914\n",
      "epsilon =  0.016004\n",
      "epsilon =  0.016094\n",
      "epsilon =  0.016184\n",
      "epsilon =  0.016273\n",
      "epsilon =  0.016363\n",
      "epsilon =  0.016453\n",
      "epsilon =  0.016543\n",
      "epsilon =  0.016633\n",
      "epsilon =  0.016723\n",
      "epsilon =  0.016813\n",
      "epsilon =  0.016903\n",
      "epsilon =  0.016993\n",
      "epsilon =  0.017083\n",
      "epsilon =  0.017173\n",
      "epsilon =  0.017262\n",
      "epsilon =  0.017352\n",
      "epsilon =  0.017442\n",
      "epsilon =  0.017532\n",
      "epsilon =  0.017622\n",
      "epsilon =  0.017712\n",
      "epsilon =  0.017802\n",
      "epsilon =  0.017892\n",
      "epsilon =  0.017982\n",
      "epsilon =  0.018072\n",
      "epsilon =  0.018162\n",
      "epsilon =  0.018251\n",
      "epsilon =  0.018341\n",
      "epsilon =  0.018431\n",
      "epsilon =  0.018521\n",
      "epsilon =  0.018611\n",
      "epsilon =  0.018701\n",
      "epsilon =  0.018791\n",
      "epsilon =  0.018881\n",
      "epsilon =  0.018971\n",
      "epsilon =  0.019061\n",
      "epsilon =  0.019151\n",
      "epsilon =  0.019240\n",
      "epsilon =  0.019330\n",
      "epsilon =  0.019420\n",
      "epsilon =  0.019510\n",
      "epsilon =  0.019600\n",
      "epsilon =  0.019690\n",
      "epsilon =  0.019780\n",
      "epsilon =  0.019870\n",
      "epsilon =  0.019960\n",
      "epsilon =  0.020050\n",
      "epsilon =  0.020140\n",
      "epsilon =  0.020229\n",
      "epsilon =  0.020319\n",
      "epsilon =  0.020409\n",
      "epsilon =  0.020499\n",
      "epsilon =  0.020589\n",
      "epsilon =  0.020679\n",
      "epsilon =  0.020769\n",
      "epsilon =  0.020859\n",
      "epsilon =  0.020949\n",
      "epsilon =  0.021039\n",
      "epsilon =  0.021129\n",
      "epsilon =  0.021218\n",
      "epsilon =  0.021308\n",
      "epsilon =  0.021398\n",
      "epsilon =  0.021488\n",
      "epsilon =  0.021578\n",
      "epsilon =  0.021668\n",
      "epsilon =  0.021758\n",
      "epsilon =  0.021848\n",
      "epsilon =  0.021938\n",
      "epsilon =  0.022028\n",
      "epsilon =  0.022117\n",
      "epsilon =  0.022207\n",
      "epsilon =  0.022297\n",
      "epsilon =  0.022387\n",
      "epsilon =  0.022477\n",
      "epsilon =  0.022567\n",
      "epsilon =  0.022657\n",
      "epsilon =  0.022747\n",
      "epsilon =  0.022837\n",
      "epsilon =  0.022927\n",
      "epsilon =  0.023017\n",
      "epsilon =  0.023106\n",
      "epsilon =  0.023196\n",
      "epsilon =  0.023286\n",
      "epsilon =  0.023376\n",
      "epsilon =  0.023466\n",
      "epsilon =  0.023556\n",
      "epsilon =  0.023646\n",
      "epsilon =  0.023736\n",
      "epsilon =  0.023826\n",
      "epsilon =  0.023916\n",
      "epsilon =  0.024006\n",
      "epsilon =  0.024095\n",
      "epsilon =  0.024185\n",
      "epsilon =  0.024275\n",
      "epsilon =  0.024365\n",
      "epsilon =  0.024455\n",
      "epsilon =  0.024545\n",
      "epsilon =  0.024635\n",
      "epsilon =  0.024725\n",
      "epsilon =  0.024815\n",
      "epsilon =  0.024905\n",
      "epsilon =  0.024995\n",
      "epsilon =  0.025084\n",
      "epsilon =  0.025174\n",
      "epsilon =  0.025264\n",
      "epsilon =  0.025354\n",
      "epsilon =  0.025444\n",
      "epsilon =  0.025534\n",
      "epsilon =  0.025624\n",
      "epsilon =  0.025714\n",
      "epsilon =  0.025804\n",
      "epsilon =  0.025894\n",
      "epsilon =  0.025984\n",
      "epsilon =  0.026073\n",
      "epsilon =  0.026163\n",
      "epsilon =  0.026253\n",
      "epsilon =  0.026343\n",
      "epsilon =  0.026433\n",
      "epsilon =  0.026523\n",
      "epsilon =  0.026613\n",
      "epsilon =  0.026703\n",
      "epsilon =  0.026793\n",
      "epsilon =  0.026883\n",
      "epsilon =  0.026973\n",
      "epsilon =  0.027062\n",
      "epsilon =  0.027152\n",
      "epsilon =  0.027242\n",
      "epsilon =  0.027332\n",
      "epsilon =  0.027422\n",
      "epsilon =  0.027512\n",
      "epsilon =  0.027602\n",
      "epsilon =  0.027692\n",
      "epsilon =  0.027782\n",
      "epsilon =  0.027872\n",
      "epsilon =  0.027962\n",
      "epsilon =  0.028051\n",
      "epsilon =  0.028141\n",
      "epsilon =  0.028231\n",
      "epsilon =  0.028321\n",
      "epsilon =  0.028411\n",
      "epsilon =  0.028501\n",
      "epsilon =  0.028591\n",
      "epsilon =  0.028681\n",
      "epsilon =  0.028771\n",
      "epsilon =  0.028861\n",
      "epsilon =  0.028951\n",
      "epsilon =  0.029040\n",
      "epsilon =  0.029130\n",
      "epsilon =  0.029220\n",
      "epsilon =  0.029310\n",
      "epsilon =  0.029400\n",
      "epsilon =  0.029490\n",
      "epsilon =  0.029580\n",
      "epsilon =  0.029670\n",
      "epsilon =  0.029760\n",
      "epsilon =  0.029850\n",
      "epsilon =  0.029940\n",
      "epsilon =  0.030029\n",
      "epsilon =  0.030119\n",
      "epsilon =  0.030209\n",
      "epsilon =  0.030299\n",
      "epsilon =  0.030389\n",
      "epsilon =  0.030479\n",
      "epsilon =  0.030569\n",
      "epsilon =  0.030659\n",
      "epsilon =  0.030749\n",
      "epsilon =  0.030839\n",
      "epsilon =  0.030929\n",
      "epsilon =  0.031018\n",
      "epsilon =  0.031108\n",
      "epsilon =  0.031198\n",
      "epsilon =  0.031288\n",
      "epsilon =  0.031378\n",
      "epsilon =  0.031468\n",
      "epsilon =  0.031558\n",
      "epsilon =  0.031648\n",
      "epsilon =  0.031738\n",
      "epsilon =  0.031828\n",
      "epsilon =  0.031918\n",
      "epsilon =  0.032007\n",
      "epsilon =  0.032097\n",
      "epsilon =  0.032187\n",
      "epsilon =  0.032277\n",
      "epsilon =  0.032367\n",
      "epsilon =  0.032457\n",
      "epsilon =  0.032547\n",
      "epsilon =  0.032637\n",
      "epsilon =  0.032727\n",
      "epsilon =  0.032817\n",
      "epsilon =  0.032907\n",
      "epsilon =  0.032996\n",
      "epsilon =  0.033086\n",
      "epsilon =  0.033176\n",
      "epsilon =  0.033266\n",
      "epsilon =  0.033356\n",
      "epsilon =  0.033446\n",
      "epsilon =  0.033536\n",
      "epsilon =  0.033626\n",
      "epsilon =  0.033716\n",
      "epsilon =  0.033806\n",
      "epsilon =  0.033896\n",
      "epsilon =  0.033985\n",
      "epsilon =  0.034075\n",
      "epsilon =  0.034165\n",
      "epsilon =  0.034255\n",
      "epsilon =  0.034345\n",
      "epsilon =  0.034435\n",
      "epsilon =  0.034525\n",
      "epsilon =  0.034615\n",
      "epsilon =  0.034705\n",
      "epsilon =  0.034795\n",
      "epsilon =  0.034885\n",
      "epsilon =  0.034974\n",
      "epsilon =  0.035064\n",
      "epsilon =  0.035154\n",
      "epsilon =  0.035244\n",
      "epsilon =  0.035334\n",
      "epsilon =  0.035424\n",
      "epsilon =  0.035514\n",
      "epsilon =  0.035604\n",
      "epsilon =  0.035694\n",
      "epsilon =  0.035784\n",
      "epsilon =  0.035874\n",
      "epsilon =  0.035963\n",
      "epsilon =  0.036053\n",
      "epsilon =  0.036143\n",
      "epsilon =  0.036233\n"
     ]
    },
    {
     "name": "stdout",
     "output_type": "stream",
     "text": [
      "epsilon =  0.036323\n",
      "epsilon =  0.036413\n",
      "epsilon =  0.036503\n",
      "epsilon =  0.036593\n",
      "epsilon =  0.036683\n",
      "epsilon =  0.036773\n",
      "epsilon =  0.036862\n",
      "epsilon =  0.036952\n",
      "epsilon =  0.037042\n",
      "epsilon =  0.037132\n",
      "epsilon =  0.037222\n",
      "epsilon =  0.037312\n",
      "epsilon =  0.037402\n",
      "epsilon =  0.037492\n",
      "epsilon =  0.037582\n",
      "epsilon =  0.037672\n",
      "epsilon =  0.037762\n",
      "epsilon =  0.037851\n",
      "epsilon =  0.037941\n",
      "epsilon =  0.038031\n",
      "epsilon =  0.038121\n",
      "epsilon =  0.038211\n",
      "epsilon =  0.038301\n",
      "epsilon =  0.038391\n",
      "epsilon =  0.038481\n",
      "epsilon =  0.038571\n",
      "epsilon =  0.038661\n",
      "epsilon =  0.038751\n",
      "epsilon =  0.038840\n",
      "epsilon =  0.038930\n",
      "epsilon =  0.039020\n",
      "epsilon =  0.039110\n",
      "epsilon =  0.039200\n",
      "epsilon =  0.039290\n",
      "epsilon =  0.039380\n",
      "epsilon =  0.039470\n",
      "epsilon =  0.039560\n",
      "epsilon =  0.039650\n",
      "epsilon =  0.039740\n",
      "epsilon =  0.039829\n",
      "epsilon =  0.039919\n",
      "epsilon =  0.040009\n",
      "epsilon =  0.040099\n",
      "epsilon =  0.040189\n",
      "epsilon =  0.040279\n",
      "epsilon =  0.040369\n",
      "epsilon =  0.040459\n",
      "epsilon =  0.040549\n",
      "epsilon =  0.040639\n",
      "epsilon =  0.040729\n",
      "epsilon =  0.040818\n",
      "epsilon =  0.040908\n",
      "epsilon =  0.040998\n",
      "epsilon =  0.041088\n",
      "epsilon =  0.041178\n",
      "epsilon =  0.041268\n",
      "epsilon =  0.041358\n",
      "epsilon =  0.041448\n",
      "epsilon =  0.041538\n",
      "epsilon =  0.041628\n",
      "epsilon =  0.041718\n",
      "epsilon =  0.041807\n",
      "epsilon =  0.041897\n",
      "epsilon =  0.041987\n",
      "epsilon =  0.042077\n",
      "epsilon =  0.042167\n",
      "epsilon =  0.042257\n",
      "epsilon =  0.042347\n",
      "epsilon =  0.042437\n",
      "epsilon =  0.042527\n",
      "epsilon =  0.042617\n",
      "epsilon =  0.042707\n",
      "epsilon =  0.042796\n",
      "epsilon =  0.042886\n",
      "epsilon =  0.042976\n",
      "epsilon =  0.043066\n",
      "epsilon =  0.043156\n",
      "epsilon =  0.043246\n",
      "epsilon =  0.043336\n",
      "epsilon =  0.043426\n",
      "epsilon =  0.043516\n",
      "epsilon =  0.043606\n",
      "epsilon =  0.043696\n",
      "epsilon =  0.043785\n",
      "epsilon =  0.043875\n",
      "epsilon =  0.043965\n",
      "epsilon =  0.044055\n",
      "epsilon =  0.044145\n",
      "epsilon =  0.044235\n",
      "epsilon =  0.044325\n",
      "epsilon =  0.044415\n",
      "epsilon =  0.044505\n",
      "epsilon =  0.044595\n",
      "epsilon =  0.044685\n",
      "epsilon =  0.044774\n",
      "epsilon =  0.044864\n",
      "epsilon =  0.044954\n",
      "epsilon =  0.045044\n",
      "epsilon =  0.045134\n",
      "epsilon =  0.045224\n",
      "epsilon =  0.045314\n",
      "epsilon =  0.045404\n",
      "epsilon =  0.045494\n",
      "epsilon =  0.045584\n",
      "epsilon =  0.045674\n",
      "epsilon =  0.045763\n",
      "epsilon =  0.045853\n",
      "epsilon =  0.045943\n",
      "epsilon =  0.046033\n",
      "epsilon =  0.046123\n",
      "epsilon =  0.046213\n",
      "epsilon =  0.046303\n",
      "epsilon =  0.046393\n",
      "epsilon =  0.046483\n",
      "epsilon =  0.046573\n",
      "epsilon =  0.046663\n",
      "epsilon =  0.046752\n",
      "epsilon =  0.046842\n",
      "epsilon =  0.046932\n",
      "epsilon =  0.047022\n",
      "epsilon =  0.047112\n",
      "epsilon =  0.047202\n",
      "epsilon =  0.047292\n",
      "epsilon =  0.047382\n",
      "epsilon =  0.047472\n",
      "epsilon =  0.047562\n",
      "epsilon =  0.047652\n",
      "epsilon =  0.047741\n",
      "epsilon =  0.047831\n",
      "epsilon =  0.047921\n",
      "epsilon =  0.048011\n",
      "epsilon =  0.048101\n",
      "epsilon =  0.048191\n",
      "epsilon =  0.048281\n",
      "epsilon =  0.048371\n",
      "epsilon =  0.048461\n",
      "epsilon =  0.048551\n",
      "epsilon =  0.048641\n",
      "epsilon =  0.048730\n",
      "epsilon =  0.048820\n",
      "epsilon =  0.048910\n",
      "epsilon =  0.049000\n",
      "epsilon =  0.049090\n",
      "epsilon =  0.049180\n",
      "epsilon =  0.049270\n",
      "epsilon =  0.049360\n",
      "epsilon =  0.049450\n",
      "epsilon =  0.049540\n",
      "epsilon =  0.049630\n",
      "epsilon =  0.049719\n",
      "epsilon =  0.049809\n",
      "epsilon =  0.049899\n",
      "epsilon =  0.049989\n",
      "epsilon =  0.050079\n",
      "epsilon =  0.050169\n",
      "epsilon =  0.050259\n",
      "epsilon =  0.050349\n",
      "epsilon =  0.050439\n",
      "epsilon =  0.050529\n",
      "epsilon =  0.050619\n",
      "epsilon =  0.050708\n",
      "epsilon =  0.050798\n",
      "epsilon =  0.050888\n",
      "epsilon =  0.050978\n",
      "epsilon =  0.051068\n",
      "epsilon =  0.051158\n",
      "epsilon =  0.051248\n",
      "epsilon =  0.051338\n",
      "epsilon =  0.051428\n",
      "epsilon =  0.051518\n",
      "epsilon =  0.051607\n",
      "epsilon =  0.051697\n",
      "epsilon =  0.051787\n",
      "epsilon =  0.051877\n",
      "epsilon =  0.051967\n",
      "epsilon =  0.052057\n",
      "epsilon =  0.052147\n",
      "epsilon =  0.052237\n",
      "epsilon =  0.052327\n",
      "epsilon =  0.052417\n",
      "epsilon =  0.052507\n",
      "epsilon =  0.052596\n",
      "epsilon =  0.052686\n",
      "epsilon =  0.052776\n",
      "epsilon =  0.052866\n",
      "epsilon =  0.052956\n",
      "epsilon =  0.053046\n",
      "epsilon =  0.053136\n",
      "epsilon =  0.053226\n",
      "epsilon =  0.053316\n",
      "epsilon =  0.053406\n",
      "epsilon =  0.053496\n",
      "epsilon =  0.053585\n",
      "epsilon =  0.053675\n",
      "epsilon =  0.053765\n",
      "epsilon =  0.053855\n",
      "epsilon =  0.053945\n",
      "epsilon =  0.054035\n",
      "epsilon =  0.054125\n",
      "epsilon =  0.054215\n",
      "epsilon =  0.054305\n",
      "epsilon =  0.054395\n",
      "epsilon =  0.054485\n",
      "epsilon =  0.054574\n",
      "epsilon =  0.054664\n",
      "epsilon =  0.054754\n",
      "epsilon =  0.054844\n",
      "epsilon =  0.054934\n",
      "epsilon =  0.055024\n",
      "epsilon =  0.055114\n",
      "epsilon =  0.055204\n",
      "epsilon =  0.055294\n",
      "epsilon =  0.055384\n",
      "epsilon =  0.055474\n",
      "epsilon =  0.055563\n",
      "epsilon =  0.055653\n",
      "epsilon =  0.055743\n",
      "epsilon =  0.055833\n",
      "epsilon =  0.055923\n",
      "epsilon =  0.056013\n",
      "epsilon =  0.056103\n",
      "epsilon =  0.056193\n",
      "epsilon =  0.056283\n",
      "epsilon =  0.056373\n",
      "epsilon =  0.056463\n",
      "epsilon =  0.056552\n",
      "epsilon =  0.056642\n",
      "epsilon =  0.056732\n",
      "epsilon =  0.056822\n",
      "epsilon =  0.056912\n",
      "epsilon =  0.057002\n",
      "epsilon =  0.057092\n",
      "epsilon =  0.057182\n",
      "epsilon =  0.057272\n",
      "epsilon =  0.057362\n",
      "epsilon =  0.057452\n",
      "epsilon =  0.057541\n",
      "epsilon =  0.057631\n",
      "epsilon =  0.057721\n",
      "epsilon =  0.057811\n",
      "epsilon =  0.057901\n",
      "epsilon =  0.057991\n",
      "epsilon =  0.058081\n",
      "epsilon =  0.058171\n",
      "epsilon =  0.058261\n",
      "epsilon =  0.058351\n",
      "epsilon =  0.058441\n",
      "epsilon =  0.058530\n",
      "epsilon =  0.058620\n",
      "epsilon =  0.058710\n",
      "epsilon =  0.058800\n",
      "epsilon =  0.058890\n",
      "epsilon =  0.058980\n",
      "epsilon =  0.059070\n",
      "epsilon =  0.059160\n",
      "epsilon =  0.059250\n",
      "epsilon =  0.059340\n",
      "epsilon =  0.059430\n",
      "epsilon =  0.059519\n",
      "epsilon =  0.059609\n",
      "epsilon =  0.059699\n",
      "epsilon =  0.059789\n",
      "epsilon =  0.059879\n",
      "epsilon =  0.059969\n",
      "epsilon =  0.060059\n",
      "epsilon =  0.060149\n",
      "epsilon =  0.060239\n",
      "epsilon =  0.060329\n",
      "epsilon =  0.060419\n",
      "epsilon =  0.060508\n",
      "epsilon =  0.060598\n",
      "epsilon =  0.060688\n",
      "epsilon =  0.060778\n",
      "epsilon =  0.060868\n",
      "epsilon =  0.060958\n",
      "epsilon =  0.061048\n",
      "epsilon =  0.061138\n",
      "epsilon =  0.061228\n",
      "epsilon =  0.061318\n",
      "epsilon =  0.061408\n",
      "epsilon =  0.061497\n",
      "epsilon =  0.061587\n",
      "epsilon =  0.061677\n",
      "epsilon =  0.061767\n",
      "epsilon =  0.061857\n",
      "epsilon =  0.061947\n",
      "epsilon =  0.062037\n",
      "epsilon =  0.062127\n",
      "epsilon =  0.062217\n",
      "epsilon =  0.062307\n",
      "epsilon =  0.062397\n",
      "epsilon =  0.062486\n",
      "epsilon =  0.062576\n",
      "epsilon =  0.062666\n",
      "epsilon =  0.062756\n",
      "epsilon =  0.062846\n",
      "epsilon =  0.062936\n",
      "epsilon =  0.063026\n",
      "epsilon =  0.063116\n",
      "epsilon =  0.063206\n",
      "epsilon =  0.063296\n",
      "epsilon =  0.063386\n",
      "epsilon =  0.063475\n",
      "epsilon =  0.063565\n",
      "epsilon =  0.063655\n",
      "epsilon =  0.063745\n",
      "epsilon =  0.063835\n",
      "epsilon =  0.063925\n",
      "epsilon =  0.064015\n",
      "epsilon =  0.064105\n",
      "epsilon =  0.064195\n",
      "epsilon =  0.064285\n",
      "epsilon =  0.064375\n",
      "epsilon =  0.064464\n",
      "epsilon =  0.064554\n",
      "epsilon =  0.064644\n",
      "epsilon =  0.064734\n",
      "epsilon =  0.064824\n",
      "epsilon =  0.064914\n",
      "epsilon =  0.065004\n",
      "epsilon =  0.065094\n",
      "epsilon =  0.065184\n",
      "epsilon =  0.065274\n",
      "epsilon =  0.065363\n",
      "epsilon =  0.065453\n",
      "epsilon =  0.065543\n",
      "epsilon =  0.065633\n",
      "epsilon =  0.065723\n",
      "epsilon =  0.065813\n",
      "epsilon =  0.065903\n",
      "epsilon =  0.065993\n",
      "epsilon =  0.066083\n",
      "epsilon =  0.066173\n",
      "epsilon =  0.066263\n",
      "epsilon =  0.066352\n",
      "epsilon =  0.066442\n",
      "epsilon =  0.066532\n",
      "epsilon =  0.066622\n",
      "epsilon =  0.066712\n",
      "epsilon =  0.066802\n",
      "epsilon =  0.066892\n",
      "epsilon =  0.066982\n",
      "epsilon =  0.067072\n",
      "epsilon =  0.067162\n",
      "epsilon =  0.067252\n",
      "epsilon =  0.067341\n",
      "epsilon =  0.067431\n",
      "epsilon =  0.067521\n",
      "epsilon =  0.067611\n",
      "epsilon =  0.067701\n",
      "epsilon =  0.067791\n",
      "epsilon =  0.067881\n",
      "epsilon =  0.067971\n",
      "epsilon =  0.068061\n",
      "epsilon =  0.068151\n",
      "epsilon =  0.068241\n",
      "epsilon =  0.068330\n",
      "epsilon =  0.068420\n",
      "epsilon =  0.068510\n",
      "epsilon =  0.068600\n",
      "epsilon =  0.068690\n",
      "epsilon =  0.068780\n",
      "epsilon =  0.068870\n",
      "epsilon =  0.068960\n",
      "epsilon =  0.069050\n",
      "epsilon =  0.069140\n",
      "epsilon =  0.069230\n",
      "epsilon =  0.069319\n",
      "epsilon =  0.069409\n",
      "epsilon =  0.069499\n",
      "epsilon =  0.069589\n",
      "epsilon =  0.069679\n",
      "epsilon =  0.069769\n",
      "epsilon =  0.069859\n",
      "epsilon =  0.069949\n",
      "epsilon =  0.070039\n",
      "epsilon =  0.070129\n",
      "epsilon =  0.070219\n",
      "epsilon =  0.070308\n",
      "epsilon =  0.070398\n",
      "epsilon =  0.070488\n",
      "epsilon =  0.070578\n",
      "epsilon =  0.070668\n",
      "epsilon =  0.070758\n",
      "epsilon =  0.070848\n",
      "epsilon =  0.070938\n",
      "epsilon =  0.071028\n",
      "epsilon =  0.071118\n",
      "epsilon =  0.071208\n",
      "epsilon =  0.071297\n",
      "epsilon =  0.071387\n",
      "epsilon =  0.071477\n",
      "epsilon =  0.071567\n",
      "epsilon =  0.071657\n",
      "epsilon =  0.071747\n",
      "epsilon =  0.071837\n",
      "epsilon =  0.071927\n",
      "epsilon =  0.072017\n",
      "epsilon =  0.072107\n",
      "epsilon =  0.072197\n",
      "epsilon =  0.072286\n",
      "epsilon =  0.072376\n",
      "epsilon =  0.072466\n",
      "epsilon =  0.072556\n",
      "epsilon =  0.072646\n",
      "epsilon =  0.072736\n",
      "epsilon =  0.072826\n",
      "epsilon =  0.072916\n",
      "epsilon =  0.073006\n",
      "epsilon =  0.073096\n"
     ]
    },
    {
     "name": "stdout",
     "output_type": "stream",
     "text": [
      "epsilon =  0.073186\n",
      "epsilon =  0.073275\n",
      "epsilon =  0.073365\n",
      "epsilon =  0.073455\n",
      "epsilon =  0.073545\n",
      "epsilon =  0.073635\n",
      "epsilon =  0.073725\n",
      "epsilon =  0.073815\n",
      "epsilon =  0.073905\n",
      "epsilon =  0.073995\n",
      "epsilon =  0.074085\n",
      "epsilon =  0.074175\n",
      "epsilon =  0.074264\n",
      "epsilon =  0.074354\n",
      "epsilon =  0.074444\n",
      "epsilon =  0.074534\n",
      "epsilon =  0.074624\n",
      "epsilon =  0.074714\n",
      "epsilon =  0.074804\n",
      "epsilon =  0.074894\n",
      "epsilon =  0.074984\n",
      "epsilon =  0.075074\n",
      "epsilon =  0.075164\n",
      "epsilon =  0.075253\n",
      "epsilon =  0.075343\n",
      "epsilon =  0.075433\n",
      "epsilon =  0.075523\n",
      "epsilon =  0.075613\n",
      "epsilon =  0.075703\n",
      "epsilon =  0.075793\n",
      "epsilon =  0.075883\n",
      "epsilon =  0.075973\n",
      "epsilon =  0.076063\n",
      "epsilon =  0.076153\n",
      "epsilon =  0.076242\n",
      "epsilon =  0.076332\n",
      "epsilon =  0.076422\n",
      "epsilon =  0.076512\n",
      "epsilon =  0.076602\n",
      "epsilon =  0.076692\n",
      "epsilon =  0.076782\n",
      "epsilon =  0.076872\n",
      "epsilon =  0.076962\n",
      "epsilon =  0.077052\n",
      "epsilon =  0.077142\n",
      "epsilon =  0.077231\n",
      "epsilon =  0.077321\n",
      "epsilon =  0.077411\n",
      "epsilon =  0.077501\n",
      "epsilon =  0.077591\n",
      "epsilon =  0.077681\n",
      "epsilon =  0.077771\n",
      "epsilon =  0.077861\n",
      "epsilon =  0.077951\n",
      "epsilon =  0.078041\n",
      "epsilon =  0.078131\n",
      "epsilon =  0.078220\n",
      "epsilon =  0.078310\n",
      "epsilon =  0.078400\n",
      "epsilon =  0.078490\n",
      "epsilon =  0.078580\n",
      "epsilon =  0.078670\n",
      "epsilon =  0.078760\n",
      "epsilon =  0.078850\n",
      "epsilon =  0.078940\n",
      "epsilon =  0.079030\n",
      "epsilon =  0.079120\n",
      "epsilon =  0.079209\n",
      "epsilon =  0.079299\n",
      "epsilon =  0.079389\n",
      "epsilon =  0.079479\n",
      "epsilon =  0.079569\n",
      "epsilon =  0.079659\n",
      "epsilon =  0.079749\n",
      "epsilon =  0.079839\n",
      "epsilon =  0.079929\n",
      "epsilon =  0.080019\n",
      "epsilon =  0.080108\n",
      "epsilon =  0.080198\n",
      "epsilon =  0.080288\n",
      "epsilon =  0.080378\n",
      "epsilon =  0.080468\n",
      "epsilon =  0.080558\n",
      "epsilon =  0.080648\n",
      "epsilon =  0.080738\n",
      "epsilon =  0.080828\n",
      "epsilon =  0.080918\n",
      "epsilon =  0.081008\n",
      "epsilon =  0.081097\n",
      "epsilon =  0.081187\n",
      "epsilon =  0.081277\n",
      "epsilon =  0.081367\n",
      "epsilon =  0.081457\n",
      "epsilon =  0.081547\n",
      "epsilon =  0.081637\n",
      "epsilon =  0.081727\n",
      "epsilon =  0.081817\n",
      "epsilon =  0.081907\n",
      "epsilon =  0.081997\n",
      "epsilon =  0.082086\n",
      "epsilon =  0.082176\n",
      "epsilon =  0.082266\n",
      "epsilon =  0.082356\n",
      "epsilon =  0.082446\n",
      "epsilon =  0.082536\n",
      "epsilon =  0.082626\n",
      "epsilon =  0.082716\n",
      "epsilon =  0.082806\n",
      "epsilon =  0.082896\n",
      "epsilon =  0.082986\n",
      "epsilon =  0.083075\n",
      "epsilon =  0.083165\n",
      "epsilon =  0.083255\n",
      "epsilon =  0.083345\n",
      "epsilon =  0.083435\n",
      "epsilon =  0.083525\n",
      "epsilon =  0.083615\n",
      "epsilon =  0.083705\n",
      "epsilon =  0.083795\n",
      "epsilon =  0.083885\n",
      "epsilon =  0.083975\n",
      "epsilon =  0.084064\n",
      "epsilon =  0.084154\n",
      "epsilon =  0.084244\n",
      "epsilon =  0.084334\n",
      "epsilon =  0.084424\n",
      "epsilon =  0.084514\n",
      "epsilon =  0.084604\n",
      "epsilon =  0.084694\n",
      "epsilon =  0.084784\n",
      "epsilon =  0.084874\n",
      "epsilon =  0.084964\n",
      "epsilon =  0.085053\n",
      "epsilon =  0.085143\n",
      "epsilon =  0.085233\n",
      "epsilon =  0.085323\n",
      "epsilon =  0.085413\n",
      "epsilon =  0.085503\n",
      "epsilon =  0.085593\n",
      "epsilon =  0.085683\n",
      "epsilon =  0.085773\n",
      "epsilon =  0.085863\n",
      "epsilon =  0.085953\n",
      "epsilon =  0.086042\n",
      "epsilon =  0.086132\n",
      "epsilon =  0.086222\n",
      "epsilon =  0.086312\n",
      "epsilon =  0.086402\n",
      "epsilon =  0.086492\n",
      "epsilon =  0.086582\n",
      "epsilon =  0.086672\n",
      "epsilon =  0.086762\n",
      "epsilon =  0.086852\n",
      "epsilon =  0.086942\n",
      "epsilon =  0.087031\n",
      "epsilon =  0.087121\n",
      "epsilon =  0.087211\n",
      "epsilon =  0.087301\n",
      "epsilon =  0.087391\n",
      "epsilon =  0.087481\n",
      "epsilon =  0.087571\n",
      "epsilon =  0.087661\n",
      "epsilon =  0.087751\n",
      "epsilon =  0.087841\n",
      "epsilon =  0.087931\n",
      "epsilon =  0.088020\n",
      "epsilon =  0.088110\n",
      "epsilon =  0.088200\n",
      "epsilon =  0.088290\n",
      "epsilon =  0.088380\n",
      "epsilon =  0.088470\n",
      "epsilon =  0.088560\n",
      "epsilon =  0.088650\n",
      "epsilon =  0.088740\n",
      "epsilon =  0.088830\n",
      "epsilon =  0.088920\n",
      "epsilon =  0.089009\n",
      "epsilon =  0.089099\n",
      "epsilon =  0.089189\n",
      "epsilon =  0.089279\n",
      "epsilon =  0.089369\n",
      "epsilon =  0.089459\n",
      "epsilon =  0.089549\n",
      "epsilon =  0.089639\n",
      "epsilon =  0.089729\n",
      "epsilon =  0.089819\n",
      "epsilon =  0.089909\n"
     ]
    }
   ],
   "source": [
    "% O código abaixo itera sobre possibilidades de epsilon\n",
    "for epsilon = min(pval):stepsize:max(pval)\n",
    "    epsilon\n",
    "endfor"
   ]
  },
  {
   "cell_type": "code",
   "execution_count": 52,
   "metadata": {
    "ExecuteTime": {
     "end_time": "2019-03-19T00:39:44.514558Z",
     "start_time": "2019-03-19T00:39:44.448798Z"
    }
   },
   "outputs": [
    {
     "name": "stdout",
     "output_type": "stream",
     "text": [
      "ans =\n",
      "\n",
      "   307     1\n",
      "\n",
      "epsilon =    4.5133e-36\n"
     ]
    }
   ],
   "source": [
    "% Verificando, para o primeiro epsilon, quais as predições\n",
    "cvPred = zeros(m, 1);\n",
    "size(cvPred)\n",
    "epsilon = min(pval)"
   ]
  },
  {
   "cell_type": "markdown",
   "metadata": {},
   "source": [
    "PROVA - CADEIA DE MEIOS E FINS QUE ORGANIZ AOS OBJETIVOS DE FORMA HIERÁRQUICA\n",
    "\n",
    "SLIDE 17 - AULA PROCESSOS DE PLANEJAMENTO COMPONENTES DE UM PLANO\n",
    "\n",
    "OBJETIVOS!\n",
    "\n",
    "ARQUIVO - Processo-de-planejamento+-+Resumo(1)"
   ]
  },
  {
   "cell_type": "code",
   "execution_count": 55,
   "metadata": {
    "ExecuteTime": {
     "end_time": "2019-03-19T00:40:58.209515Z",
     "start_time": "2019-03-19T00:40:58.156646Z"
    }
   },
   "outputs": [
    {
     "name": "stdout",
     "output_type": "stream",
     "text": [
      "ans = 0\n"
     ]
    }
   ],
   "source": [
    "% Calculando qtd de anomalias com threshold indicado\n",
    "sum((pval<epsilon==1))"
   ]
  },
  {
   "cell_type": "markdown",
   "metadata": {},
   "source": [
    "O threshold utilizado é muito baixo. Vejamos o resultado com um valor intermediário."
   ]
  },
  {
   "cell_type": "code",
   "execution_count": 56,
   "metadata": {
    "ExecuteTime": {
     "end_time": "2019-03-19T00:41:43.067766Z",
     "start_time": "2019-03-19T00:41:43.015874Z"
    }
   },
   "outputs": [
    {
     "name": "stdout",
     "output_type": "stream",
     "text": [
      "ans =  8\n"
     ]
    }
   ],
   "source": [
    "% Repetindo procedimento\n",
    "epsilon = 0.0013486;\n",
    "sum((pval<epsilon) == 1)"
   ]
  },
  {
   "cell_type": "markdown",
   "metadata": {},
   "source": [
    "Será que tratam-se dos últimos 8 dados?"
   ]
  },
  {
   "cell_type": "code",
   "execution_count": 57,
   "metadata": {
    "ExecuteTime": {
     "end_time": "2019-03-19T00:42:17.358048Z",
     "start_time": "2019-03-19T00:42:17.242391Z"
    }
   },
   "outputs": [
    {
     "name": "stdout",
     "output_type": "stream",
     "text": [
      "ans =\n",
      "\n",
      "  0\n",
      "  0\n",
      "  0\n",
      "  0\n",
      "  0\n",
      "  0\n",
      "  0\n",
      "  0\n",
      "  0\n",
      "  0\n",
      "  0\n",
      "  0\n",
      "  0\n",
      "  0\n",
      "  0\n",
      "  0\n",
      "  0\n",
      "  0\n",
      "  0\n",
      "  0\n",
      "  0\n",
      "  0\n",
      "  0\n",
      "  0\n",
      "  0\n",
      "  0\n",
      "  0\n",
      "  0\n",
      "  0\n",
      "  0\n",
      "  0\n",
      "  0\n",
      "  0\n",
      "  0\n",
      "  0\n",
      "  0\n",
      "  0\n",
      "  0\n",
      "  0\n",
      "  0\n",
      "  0\n",
      "  0\n",
      "  0\n",
      "  0\n",
      "  0\n",
      "  0\n",
      "  0\n",
      "  0\n",
      "  0\n",
      "  0\n",
      "  0\n",
      "  0\n",
      "  0\n",
      "  0\n",
      "  0\n",
      "  0\n",
      "  0\n",
      "  0\n",
      "  0\n",
      "  0\n",
      "  0\n",
      "  0\n",
      "  0\n",
      "  0\n",
      "  0\n",
      "  0\n",
      "  0\n",
      "  0\n",
      "  0\n",
      "  0\n",
      "  0\n",
      "  0\n",
      "  0\n",
      "  0\n",
      "  0\n",
      "  0\n",
      "  0\n",
      "  0\n",
      "  0\n",
      "  0\n",
      "  0\n",
      "  0\n",
      "  0\n",
      "  0\n",
      "  0\n",
      "  0\n",
      "  0\n",
      "  0\n",
      "  0\n",
      "  0\n",
      "  0\n",
      "  0\n",
      "  0\n",
      "  0\n",
      "  0\n",
      "  0\n",
      "  0\n",
      "  0\n",
      "  0\n",
      "  0\n",
      "  0\n",
      "  0\n",
      "  0\n",
      "  0\n",
      "  0\n",
      "  0\n",
      "  0\n",
      "  0\n",
      "  0\n",
      "  0\n",
      "  0\n",
      "  0\n",
      "  0\n",
      "  0\n",
      "  0\n",
      "  0\n",
      "  0\n",
      "  0\n",
      "  0\n",
      "  0\n",
      "  0\n",
      "  0\n",
      "  0\n",
      "  0\n",
      "  0\n",
      "  0\n",
      "  0\n",
      "  0\n",
      "  0\n",
      "  0\n",
      "  0\n",
      "  0\n",
      "  0\n",
      "  0\n",
      "  0\n",
      "  0\n",
      "  0\n",
      "  0\n",
      "  0\n",
      "  0\n",
      "  0\n",
      "  0\n",
      "  0\n",
      "  0\n",
      "  0\n",
      "  0\n",
      "  0\n",
      "  0\n",
      "  0\n",
      "  0\n",
      "  0\n",
      "  0\n",
      "  0\n",
      "  0\n",
      "  0\n",
      "  0\n",
      "  0\n",
      "  0\n",
      "  0\n",
      "  0\n",
      "  0\n",
      "  0\n",
      "  0\n",
      "  0\n",
      "  0\n",
      "  0\n",
      "  0\n",
      "  0\n",
      "  0\n",
      "  0\n",
      "  0\n",
      "  0\n",
      "  0\n",
      "  0\n",
      "  0\n",
      "  0\n",
      "  0\n",
      "  0\n",
      "  0\n",
      "  0\n",
      "  0\n",
      "  0\n",
      "  0\n",
      "  0\n",
      "  0\n",
      "  0\n",
      "  0\n",
      "  0\n",
      "  0\n",
      "  0\n",
      "  0\n",
      "  0\n",
      "  0\n",
      "  0\n",
      "  0\n",
      "  0\n",
      "  0\n",
      "  0\n",
      "  0\n",
      "  0\n",
      "  0\n",
      "  0\n",
      "  0\n",
      "  0\n",
      "  0\n",
      "  0\n",
      "  0\n",
      "  0\n",
      "  0\n",
      "  0\n",
      "  0\n",
      "  0\n",
      "  0\n",
      "  0\n",
      "  0\n",
      "  0\n",
      "  0\n",
      "  0\n",
      "  0\n",
      "  0\n",
      "  0\n",
      "  0\n",
      "  0\n",
      "  0\n",
      "  0\n",
      "  0\n",
      "  0\n",
      "  0\n",
      "  0\n",
      "  0\n",
      "  0\n",
      "  0\n",
      "  0\n",
      "  0\n",
      "  0\n",
      "  0\n",
      "  0\n",
      "  0\n",
      "  0\n",
      "  0\n",
      "  0\n",
      "  0\n",
      "  0\n",
      "  0\n",
      "  0\n",
      "  0\n",
      "  1\n",
      "  0\n",
      "  0\n",
      "  0\n",
      "  0\n",
      "  0\n",
      "  0\n",
      "  0\n",
      "  0\n",
      "  0\n",
      "  0\n",
      "  0\n",
      "  0\n",
      "  0\n",
      "  0\n",
      "  0\n",
      "  0\n",
      "  0\n",
      "  0\n",
      "  0\n",
      "  0\n",
      "  0\n",
      "  0\n",
      "  0\n",
      "  0\n",
      "  0\n",
      "  0\n",
      "  0\n",
      "  0\n",
      "  0\n",
      "  0\n",
      "  0\n",
      "  0\n",
      "  0\n",
      "  0\n",
      "  0\n",
      "  0\n",
      "  0\n",
      "  0\n",
      "  0\n",
      "  0\n",
      "  0\n",
      "  0\n",
      "  0\n",
      "  0\n",
      "  0\n",
      "  0\n",
      "  0\n",
      "  0\n",
      "  0\n",
      "  0\n",
      "  0\n",
      "  0\n",
      "  0\n",
      "  1\n",
      "  1\n",
      "  1\n",
      "  1\n",
      "  1\n",
      "  1\n",
      "  1\n",
      "\n"
     ]
    }
   ],
   "source": [
    "% Verificando\n",
    "pval<epsilon"
   ]
  },
  {
   "cell_type": "markdown",
   "metadata": {},
   "source": [
    "É preciso checar linha a linha. Como ficaria TP e FP, nesse caso?"
   ]
  },
  {
   "cell_type": "code",
   "execution_count": 58,
   "metadata": {
    "ExecuteTime": {
     "end_time": "2019-03-19T00:44:49.699139Z",
     "start_time": "2019-03-19T00:44:49.655035Z"
    }
   },
   "outputs": [
    {
     "name": "stdout",
     "output_type": "stream",
     "text": [
      "fp =  1\n"
     ]
    }
   ],
   "source": [
    "% Calculando Falsos Negativos\n",
    "cvPred = (pval < epsilon);\n",
    "fp = sum((cvPred == 1) & yval==0)"
   ]
  },
  {
   "cell_type": "markdown",
   "metadata": {},
   "source": [
    "Um falso positivo é um valor coerente, visto que, com o threshold epsilon utilizado, 8 dados foram classificados como anomalia (ao invés de 9, de acordo com o label oficial), indicando que 1 exemplo anômalo foi erronamente classificado como OK."
   ]
  },
  {
   "cell_type": "code",
   "execution_count": 59,
   "metadata": {
    "ExecuteTime": {
     "end_time": "2019-03-19T00:47:43.243592Z",
     "start_time": "2019-03-19T00:47:43.198711Z"
    }
   },
   "outputs": [
    {
     "name": "stdout",
     "output_type": "stream",
     "text": [
      "tp =  7\n"
     ]
    }
   ],
   "source": [
    "% Calculando Verdadeiros Positivos\n",
    "tp = sum((cvPred==1) & yval==1)"
   ]
  },
  {
   "cell_type": "markdown",
   "metadata": {
    "ExecuteTime": {
     "end_time": "2019-03-19T00:47:57.390455Z",
     "start_time": "2019-03-19T00:47:57.360533Z"
    }
   },
   "source": [
    "Este dado está estranho. Esperava o valor 8 como resultado."
   ]
  },
  {
   "cell_type": "code",
   "execution_count": 62,
   "metadata": {
    "ExecuteTime": {
     "end_time": "2019-03-19T00:48:33.414763Z",
     "start_time": "2019-03-19T00:48:33.385814Z"
    }
   },
   "outputs": [
    {
     "name": "stdout",
     "output_type": "stream",
     "text": [
      "ans =  8\n"
     ]
    }
   ],
   "source": [
    "sum(cvPred==1)"
   ]
  },
  {
   "cell_type": "code",
   "execution_count": 63,
   "metadata": {
    "ExecuteTime": {
     "end_time": "2019-03-19T00:49:01.947624Z",
     "start_time": "2019-03-19T00:49:01.881800Z"
    }
   },
   "outputs": [
    {
     "name": "stdout",
     "output_type": "stream",
     "text": [
      "ans =\n",
      "\n",
      "  0\n",
      "  0\n",
      "  0\n",
      "  0\n",
      "  1\n",
      "  1\n",
      "  1\n",
      "  1\n",
      "  1\n",
      "  1\n",
      "  1\n",
      "\n",
      "ans =\n",
      "\n",
      "   0\n",
      "   0\n",
      "   0\n",
      "   0\n",
      "   1\n",
      "   1\n",
      "   1\n",
      "   1\n",
      "   1\n",
      "   1\n",
      "   1\n",
      "\n"
     ]
    }
   ],
   "source": [
    "% Verificando últimas linhas de cada um\n",
    "cvPred(mval-10:mval, :)\n",
    "yval(mval-10:mval, :)"
   ]
  },
  {
   "cell_type": "code",
   "execution_count": 64,
   "metadata": {
    "ExecuteTime": {
     "end_time": "2019-03-19T00:49:25.531478Z",
     "start_time": "2019-03-19T00:49:25.412793Z"
    }
   },
   "outputs": [
    {
     "name": "stdout",
     "output_type": "stream",
     "text": [
      "yval =\n",
      "\n",
      "   0\n",
      "   0\n",
      "   0\n",
      "   0\n",
      "   0\n",
      "   0\n",
      "   0\n",
      "   0\n",
      "   0\n",
      "   1\n",
      "   0\n",
      "   0\n",
      "   0\n",
      "   0\n",
      "   0\n",
      "   0\n",
      "   0\n",
      "   0\n",
      "   0\n",
      "   0\n",
      "   0\n",
      "   0\n",
      "   0\n",
      "   0\n",
      "   0\n",
      "   0\n",
      "   0\n",
      "   0\n",
      "   0\n",
      "   0\n",
      "   0\n",
      "   0\n",
      "   0\n",
      "   0\n",
      "   0\n",
      "   0\n",
      "   0\n",
      "   0\n",
      "   0\n",
      "   0\n",
      "   0\n",
      "   0\n",
      "   0\n",
      "   0\n",
      "   0\n",
      "   0\n",
      "   0\n",
      "   0\n",
      "   0\n",
      "   1\n",
      "   0\n",
      "   0\n",
      "   0\n",
      "   0\n",
      "   0\n",
      "   0\n",
      "   0\n",
      "   0\n",
      "   0\n",
      "   0\n",
      "   0\n",
      "   0\n",
      "   0\n",
      "   0\n",
      "   0\n",
      "   0\n",
      "   0\n",
      "   0\n",
      "   0\n",
      "   0\n",
      "   0\n",
      "   0\n",
      "   0\n",
      "   0\n",
      "   0\n",
      "   0\n",
      "   0\n",
      "   0\n",
      "   0\n",
      "   0\n",
      "   0\n",
      "   0\n",
      "   0\n",
      "   0\n",
      "   0\n",
      "   0\n",
      "   0\n",
      "   0\n",
      "   0\n",
      "   0\n",
      "   0\n",
      "   0\n",
      "   0\n",
      "   0\n",
      "   0\n",
      "   0\n",
      "   0\n",
      "   0\n",
      "   0\n",
      "   0\n",
      "   0\n",
      "   0\n",
      "   0\n",
      "   0\n",
      "   0\n",
      "   0\n",
      "   0\n",
      "   0\n",
      "   0\n",
      "   0\n",
      "   0\n",
      "   0\n",
      "   0\n",
      "   0\n",
      "   0\n",
      "   0\n",
      "   0\n",
      "   0\n",
      "   0\n",
      "   0\n",
      "   0\n",
      "   0\n",
      "   0\n",
      "   0\n",
      "   0\n",
      "   0\n",
      "   0\n",
      "   0\n",
      "   0\n",
      "   0\n",
      "   0\n",
      "   0\n",
      "   0\n",
      "   0\n",
      "   0\n",
      "   0\n",
      "   0\n",
      "   0\n",
      "   0\n",
      "   0\n",
      "   0\n",
      "   0\n",
      "   0\n",
      "   0\n",
      "   0\n",
      "   0\n",
      "   0\n",
      "   0\n",
      "   0\n",
      "   0\n",
      "   0\n",
      "   0\n",
      "   0\n",
      "   0\n",
      "   0\n",
      "   0\n",
      "   0\n",
      "   0\n",
      "   0\n",
      "   0\n",
      "   0\n",
      "   0\n",
      "   0\n",
      "   0\n",
      "   0\n",
      "   0\n",
      "   0\n",
      "   0\n",
      "   0\n",
      "   0\n",
      "   0\n",
      "   0\n",
      "   0\n",
      "   0\n",
      "   0\n",
      "   0\n",
      "   0\n",
      "   0\n",
      "   0\n",
      "   0\n",
      "   0\n",
      "   0\n",
      "   0\n",
      "   0\n",
      "   0\n",
      "   0\n",
      "   0\n",
      "   0\n",
      "   0\n",
      "   0\n",
      "   0\n",
      "   0\n",
      "   0\n",
      "   0\n",
      "   0\n",
      "   0\n",
      "   0\n",
      "   0\n",
      "   0\n",
      "   0\n",
      "   0\n",
      "   0\n",
      "   0\n",
      "   0\n",
      "   0\n",
      "   0\n",
      "   0\n",
      "   0\n",
      "   0\n",
      "   0\n",
      "   0\n",
      "   0\n",
      "   0\n",
      "   0\n",
      "   0\n",
      "   0\n",
      "   0\n",
      "   0\n",
      "   0\n",
      "   0\n",
      "   0\n",
      "   0\n",
      "   0\n",
      "   0\n",
      "   0\n",
      "   0\n",
      "   0\n",
      "   0\n",
      "   0\n",
      "   0\n",
      "   0\n",
      "   0\n",
      "   0\n",
      "   0\n",
      "   0\n",
      "   0\n",
      "   0\n",
      "   0\n",
      "   0\n",
      "   0\n",
      "   0\n",
      "   0\n",
      "   0\n",
      "   0\n",
      "   0\n",
      "   0\n",
      "   0\n",
      "   0\n",
      "   0\n",
      "   0\n",
      "   0\n",
      "   0\n",
      "   0\n",
      "   0\n",
      "   0\n",
      "   0\n",
      "   0\n",
      "   0\n",
      "   0\n",
      "   0\n",
      "   0\n",
      "   0\n",
      "   0\n",
      "   0\n",
      "   0\n",
      "   0\n",
      "   0\n",
      "   0\n",
      "   0\n",
      "   0\n",
      "   0\n",
      "   0\n",
      "   0\n",
      "   0\n",
      "   0\n",
      "   0\n",
      "   0\n",
      "   0\n",
      "   0\n",
      "   0\n",
      "   0\n",
      "   0\n",
      "   0\n",
      "   0\n",
      "   0\n",
      "   0\n",
      "   0\n",
      "   0\n",
      "   0\n",
      "   0\n",
      "   0\n",
      "   0\n",
      "   0\n",
      "   0\n",
      "   0\n",
      "   0\n",
      "   0\n",
      "   0\n",
      "   0\n",
      "   0\n",
      "   1\n",
      "   1\n",
      "   1\n",
      "   1\n",
      "   1\n",
      "   1\n",
      "   1\n",
      "\n"
     ]
    }
   ],
   "source": [
    "yval"
   ]
  },
  {
   "cell_type": "code",
   "execution_count": 65,
   "metadata": {
    "ExecuteTime": {
     "end_time": "2019-03-19T00:49:37.454682Z",
     "start_time": "2019-03-19T00:49:37.420773Z"
    }
   },
   "outputs": [
    {
     "name": "stdout",
     "output_type": "stream",
     "text": [
      "ans =  9\n"
     ]
    }
   ],
   "source": [
    "sum(yval==1)"
   ]
  },
  {
   "cell_type": "markdown",
   "metadata": {},
   "source": [
    "Verificando linha a linha, é possível perceber que não são apenas os últimos 9 dados os etiquetados como anomalia (yval==1). Há exemplos, no meio do dataset que também são indicados como anomalia. Então o cálculo de ```tp``` faz sentido!"
   ]
  },
  {
   "cell_type": "code",
   "execution_count": 66,
   "metadata": {
    "ExecuteTime": {
     "end_time": "2019-03-19T00:52:08.778103Z",
     "start_time": "2019-03-19T00:52:08.718264Z"
    }
   },
   "outputs": [
    {
     "name": "stdout",
     "output_type": "stream",
     "text": [
      "tp =  7\n"
     ]
    }
   ],
   "source": [
    "% Calculando TP\n",
    "tp = sum((cvPred==1) & yval==1)"
   ]
  },
  {
   "cell_type": "code",
   "execution_count": 67,
   "metadata": {
    "ExecuteTime": {
     "end_time": "2019-03-19T00:52:35.963611Z",
     "start_time": "2019-03-19T00:52:35.920693Z"
    }
   },
   "outputs": [
    {
     "name": "stdout",
     "output_type": "stream",
     "text": [
      "fn =  2\n"
     ]
    }
   ],
   "source": [
    "% Calculando FN\n",
    "fn = sum((cvPred==0) & yval==1)"
   ]
  },
  {
   "cell_type": "code",
   "execution_count": 68,
   "metadata": {
    "ExecuteTime": {
     "end_time": "2019-03-19T00:53:01.617942Z",
     "start_time": "2019-03-19T00:53:01.570045Z"
    }
   },
   "outputs": [
    {
     "name": "stdout",
     "output_type": "stream",
     "text": [
      "tn =  297\n"
     ]
    }
   ],
   "source": [
    "% Calculando TN (esperamos um número grande)\n",
    "tn = sum((cvPred==0) & yval==0)"
   ]
  },
  {
   "cell_type": "markdown",
   "metadata": {},
   "source": [
    "Agora, é completamente possível calcular f1_score"
   ]
  },
  {
   "cell_type": "code",
   "execution_count": 70,
   "metadata": {
    "ExecuteTime": {
     "end_time": "2019-03-19T00:53:58.866325Z",
     "start_time": "2019-03-19T00:53:58.771547Z"
    }
   },
   "outputs": [
    {
     "name": "stdout",
     "output_type": "stream",
     "text": [
      "prec =  0.87500\n",
      "rec =  0.77778\n",
      "f1 =  0.82353\n"
     ]
    }
   ],
   "source": [
    "% Precision\n",
    "prec = tp / (tp + fp)\n",
    "\n",
    "% Recall\n",
    "rec = tp / (tp + fn)\n",
    "\n",
    "% F1 Score\n",
    "f1 = 2 * prec * rec / (prec + rec)"
   ]
  },
  {
   "cell_type": "code",
   "execution_count": 72,
   "metadata": {
    "ExecuteTime": {
     "end_time": "2019-03-19T00:58:40.572506Z",
     "start_time": "2019-03-19T00:58:40.120763Z"
    }
   },
   "outputs": [
    {
     "name": "stdout",
     "output_type": "stream",
     "text": [
      "warning: division by zero\n"
     ]
    }
   ],
   "source": [
    "% Vamos iterar pelos possíveis epsilons afim de encontrar o melhor f1_score\n",
    "bestEpsilon = 0;\n",
    "bestF1 = 0;\n",
    "F1 = 0;\n",
    "\n",
    "stepsize = (max(pval) - min(pval)) / 1000;\n",
    "for epsilon = min(pval):stepsize:max(pval)\n",
    "    % Vetor de predições\n",
    "    cvPred = (pval < epsilon);\n",
    "    \n",
    "    % Calculando TP\n",
    "    tp = sum((cvPred==1) & yval==1);\n",
    "    \n",
    "    % Calculando FP\n",
    "    fp = sum((cvPred==1) & yval==0);\n",
    "    \n",
    "    % Calculando FN\n",
    "    fn = sum((cvPred==0) & yval==1);\n",
    "    \n",
    "    % Precision e Recall\n",
    "    prec = tp / (tp + fp);\n",
    "    rec = tp / (tp + fn);\n",
    "    \n",
    "    % F1 Score\n",
    "    F1 = 2 * prec * rec / (prec + rec);\n",
    "    \n",
    "    % Verificando melhor score\n",
    "    if F1 > bestF1\n",
    "        bestF1 = F1;\n",
    "        bestEpsilon = epsilon;\n",
    "    endif\n",
    "        \n",
    "endfor"
   ]
  },
  {
   "cell_type": "code",
   "execution_count": 74,
   "metadata": {
    "ExecuteTime": {
     "end_time": "2019-03-19T00:58:56.206004Z",
     "start_time": "2019-03-19T00:58:56.142176Z"
    }
   },
   "outputs": [
    {
     "name": "stdout",
     "output_type": "stream",
     "text": [
      "bestF1 =  0.87500\n",
      "bestEpsilon =  0.000089909\n"
     ]
    }
   ],
   "source": [
    "% Verificando resultados\n",
    "bestF1\n",
    "bestEpsilon"
   ]
  },
  {
   "cell_type": "markdown",
   "metadata": {},
   "source": [
    "Deu certo."
   ]
  },
  {
   "cell_type": "code",
   "execution_count": null,
   "metadata": {},
   "outputs": [],
   "source": []
  }
 ],
 "metadata": {
  "kernelspec": {
   "display_name": "Octave",
   "language": "octave",
   "name": "octave"
  },
  "language_info": {
   "file_extension": ".m",
   "help_links": [
    {
     "text": "GNU Octave",
     "url": "https://www.gnu.org/software/octave/support.html"
    },
    {
     "text": "Octave Kernel",
     "url": "https://github.com/Calysto/octave_kernel"
    },
    {
     "text": "MetaKernel Magics",
     "url": "https://github.com/calysto/metakernel/blob/master/metakernel/magics/README.md"
    }
   ],
   "mimetype": "text/x-octave",
   "name": "octave",
   "version": "4.4.1"
  },
  "toc": {
   "base_numbering": 1,
   "nav_menu": {},
   "number_sections": true,
   "sideBar": true,
   "skip_h1_title": true,
   "title_cell": "Table of Contents",
   "title_sidebar": "Contents",
   "toc_cell": true,
   "toc_position": {},
   "toc_section_display": true,
   "toc_window_display": true
  }
 },
 "nbformat": 4,
 "nbformat_minor": 2
}
