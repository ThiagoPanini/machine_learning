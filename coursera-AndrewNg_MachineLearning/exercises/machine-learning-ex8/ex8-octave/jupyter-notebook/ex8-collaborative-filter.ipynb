{
 "cells": [
  {
   "cell_type": "markdown",
   "metadata": {
    "toc": true
   },
   "source": [
    "<h1>Table of Contents<span class=\"tocSkip\"></span></h1>\n",
    "<div class=\"toc\"><ul class=\"toc-item\"><li><span><a href=\"#Lendo-os-Dados-de-Filmes\" data-toc-modified-id=\"Lendo-os-Dados-de-Filmes-1\"><span class=\"toc-item-num\">1&nbsp;&nbsp;</span>Lendo os Dados de Filmes</a></span></li><li><span><a href=\"#Carregando-Parâmetros\" data-toc-modified-id=\"Carregando-Parâmetros-2\"><span class=\"toc-item-num\">2&nbsp;&nbsp;</span>Carregando Parâmetros</a></span></li><li><span><a href=\"#Função-Custo\" data-toc-modified-id=\"Função-Custo-3\"><span class=\"toc-item-num\">3&nbsp;&nbsp;</span>Função Custo</a></span></li><li><span><a href=\"#Gradient-Descent\" data-toc-modified-id=\"Gradient-Descent-4\"><span class=\"toc-item-num\">4&nbsp;&nbsp;</span>Gradient Descent</a></span><ul class=\"toc-item\"><li><span><a href=\"#Gradient-Descent-2ª-Tentativa\" data-toc-modified-id=\"Gradient-Descent-2ª-Tentativa-4.1\"><span class=\"toc-item-num\">4.1&nbsp;&nbsp;</span>Gradient Descent 2ª Tentativa</a></span></li><li><span><a href=\"#Gradient-Descent-3ª-Tentativa\" data-toc-modified-id=\"Gradient-Descent-3ª-Tentativa-4.2\"><span class=\"toc-item-num\">4.2&nbsp;&nbsp;</span>Gradient Descent 3ª Tentativa</a></span></li><li><span><a href=\"#Gradient-Descent-4ª-Tentativa\" data-toc-modified-id=\"Gradient-Descent-4ª-Tentativa-4.3\"><span class=\"toc-item-num\">4.3&nbsp;&nbsp;</span>Gradient Descent 4ª Tentativa</a></span></li></ul></li><li><span><a href=\"#Regularização\" data-toc-modified-id=\"Regularização-5\"><span class=\"toc-item-num\">5&nbsp;&nbsp;</span>Regularização</a></span></li></ul></div>"
   ]
  },
  {
   "cell_type": "markdown",
   "metadata": {},
   "source": [
    "Este notebook tem por objetivo alocar o desenvolvimento da parte 2 do exercício 8: aplicação do algoritimo de ```Filtro Colaborativo``` em um Sistema de Recomendação."
   ]
  },
  {
   "cell_type": "markdown",
   "metadata": {},
   "source": [
    "## Lendo os Dados de Filmes"
   ]
  },
  {
   "cell_type": "markdown",
   "metadata": {},
   "source": [
    "Em um primeiro momento, iremos ler um dataset ```Y``` de dimensões ```1682x943``` indicando a presença de 1682 filmes avaliados por 943 usuários.\n",
    "\n",
    "Adicionalmente, um conjunto de dados ```R``` contendo o parâmetro ```r(i, j)``` que, por sua vez, indica se o usuário j avaliou o filme i (r(i, j)=1)"
   ]
  },
  {
   "cell_type": "code",
   "execution_count": 1,
   "metadata": {
    "ExecuteTime": {
     "end_time": "2019-03-22T19:43:16.282760Z",
     "start_time": "2019-03-22T19:43:15.990543Z"
    }
   },
   "outputs": [],
   "source": [
    "% Lendo dados\n",
    "load('ex8_movies.mat')"
   ]
  },
  {
   "cell_type": "code",
   "execution_count": 2,
   "metadata": {
    "ExecuteTime": {
     "end_time": "2019-03-22T19:43:16.337613Z",
     "start_time": "2019-03-22T19:43:16.284755Z"
    }
   },
   "outputs": [
    {
     "name": "stdout",
     "output_type": "stream",
     "text": [
      "ans =\n",
      "\n",
      "   1682    943\n",
      "\n"
     ]
    }
   ],
   "source": [
    "% Verificando dataset de filmes\n",
    "size(Y)"
   ]
  },
  {
   "cell_type": "code",
   "execution_count": 3,
   "metadata": {
    "ExecuteTime": {
     "end_time": "2019-03-22T19:43:16.389487Z",
     "start_time": "2019-03-22T19:43:16.339608Z"
    }
   },
   "outputs": [
    {
     "name": "stdout",
     "output_type": "stream",
     "text": [
      "ans =\n",
      "\n",
      "   5   4   0   0   4   4   0   0   0   4\n",
      "   3   0   0   0   3   0   0   0   0   0\n",
      "   4   0   0   0   0   0   0   0   0   0\n",
      "   3   0   0   0   0   0   5   0   0   4\n",
      "   3   0   0   0   0   0   0   0   0   0\n",
      "   5   0   0   0   0   0   0   0   5   0\n",
      "   4   0   0   0   0   2   5   3   4   4\n",
      "   1   0   0   0   0   4   5   0   0   0\n",
      "   5   0   0   0   0   4   5   0   0   4\n",
      "   3   2   0   0   0   0   4   0   0   0\n",
      "\n"
     ]
    }
   ],
   "source": [
    "% Verificando avaliações dos 10 primeiros filmes pelos 10 primeiros usuários\n",
    "Y(1:10, 1:10)"
   ]
  },
  {
   "cell_type": "code",
   "execution_count": 4,
   "metadata": {
    "ExecuteTime": {
     "end_time": "2019-03-22T19:43:16.441342Z",
     "start_time": "2019-03-22T19:43:16.395459Z"
    },
    "code_folding": []
   },
   "outputs": [
    {
     "name": "stdout",
     "output_type": "stream",
     "text": [
      "ans =\n",
      "\n",
      "   1682    943\n",
      "\n"
     ]
    }
   ],
   "source": [
    "% Verificando matriz R\n",
    "size(R)"
   ]
  },
  {
   "cell_type": "code",
   "execution_count": 5,
   "metadata": {
    "ExecuteTime": {
     "end_time": "2019-03-22T19:43:16.497186Z",
     "start_time": "2019-03-22T19:43:16.443332Z"
    },
    "code_folding": []
   },
   "outputs": [
    {
     "name": "stdout",
     "output_type": "stream",
     "text": [
      "ans =\n",
      "\n",
      "  1  1  0  0  1  1  0  0  0  1\n",
      "  1  0  0  0  1  0  0  0  0  0\n",
      "  1  0  0  0  0  0  0  0  0  0\n",
      "  1  0  0  0  0  0  1  0  0  1\n",
      "  1  0  0  0  0  0  0  0  0  0\n",
      "  1  0  0  0  0  0  0  0  1  0\n",
      "  1  0  0  0  0  1  1  1  1  1\n",
      "  1  0  0  0  0  1  1  0  0  0\n",
      "  1  0  0  0  0  1  1  0  0  1\n",
      "  1  1  0  0  0  0  1  0  0  0\n",
      "\n"
     ]
    }
   ],
   "source": [
    "% Primeiros elementos\n",
    "R(1:10, 1:10)"
   ]
  },
  {
   "cell_type": "markdown",
   "metadata": {},
   "source": [
    "Lembrando que r(i, j)=1 indica que o usuário j avaliou o filme i;\n",
    "\n",
    "Consequentemente, r(i, j)=0 indica que o usuário j não avaliou o filme i;"
   ]
  },
  {
   "cell_type": "code",
   "execution_count": 6,
   "metadata": {
    "ExecuteTime": {
     "end_time": "2019-03-22T19:43:16.735549Z",
     "start_time": "2019-03-22T19:43:16.498184Z"
    }
   },
   "outputs": [
    {
     "name": "stdout",
     "output_type": "stream",
     "text": [
      "toy_story =\n",
      "\n",
      " Columns 1 through 20:\n",
      "\n",
      "   5   4   0   0   4   4   0   0   0   4   0   0   3   0   1   5   4   5   0   3\n",
      "\n",
      " Columns 21 through 40:\n",
      "\n",
      "   5   0   5   0   5   3   0   0   0   0   0   0   0   0   0   0   0   5   0   0\n",
      "\n",
      " Columns 41 through 60:\n",
      "\n",
      "   4   5   5   4   5   0   0   0   2   0   0   0   0   4   0   4   5   5   2   0\n",
      "\n",
      " Columns 61 through 80:\n",
      "\n",
      "   0   2   3   4   3   3   3   0   0   4   0   4   2   0   4   0   5   0   4   0\n",
      "\n",
      " Columns 81 through 100:\n",
      "\n",
      "   4   4   4   2   0   0   0   0   5   0   0   4   5   4   5   5   4   0   4   0\n",
      "\n",
      " Columns 101 through 120:\n",
      "\n",
      "   3   3   0   0   0   4   0   4   4   0   0   0   0   0   0   0   4   0   0   4\n",
      "\n",
      " Columns 121 through 140:\n",
      "\n",
      "   4   0   0   3   4   0   0   4   0   5   4   0   0   5   0   0   3   4   0   0\n",
      "\n",
      " Columns 141 through 160:\n",
      "\n",
      "   3   0   0   4   3   0   0   4   0   4   5   0   0   0   0   0   5   4   0   4\n",
      "\n",
      " Columns 161 through 180:\n",
      "\n",
      "   0   4   0   0   0   0   0   5   0   0   0   0   0   3   0   0   3   4   0   0\n",
      "\n",
      " Columns 181 through 200:\n",
      "\n",
      "   3   4   0   4   0   0   0   0   5   0   0   0   4   4   0   0   0   4   1   5\n",
      "\n",
      " Columns 201 through 220:\n",
      "\n",
      "   3   3   3   2   0   0   0   0   5   5   0   0   2   0   0   4   0   0   0   0\n",
      "\n",
      " Columns 221 through 240:\n",
      "\n",
      "   0   4   4   0   0   0   0   0   0   5   3   4   0   3   4   0   0   0   0   0\n",
      "\n",
      " Columns 241 through 260:\n",
      "\n",
      "   0   4   4   4   0   4   4   3   4   4   4   5   5   3   0   5   0   0   0   0\n",
      "\n",
      " Columns 261 through 280:\n",
      "\n",
      "   0   3   5   0   5   0   0   3   0   0   3   0   0   4   4   5   4   0   3   4\n",
      "\n",
      " Columns 281 through 300:\n",
      "\n",
      "   0   0   0   0   0   4   5   0   3   5   5   4   2   5   4   5   3   5   3   0\n",
      "\n",
      " Columns 301 through 320:\n",
      "\n",
      "   4   0   5   0   5   0   5   4   0   0   4   5   4   5   0   0   0   0   0   3\n",
      "\n",
      " Columns 321 through 340:\n",
      "\n",
      "   0   2   0   5   2   3   4   0   0   5   1   4   0   0   0   3   0   3   5   5\n",
      "\n",
      " Columns 341 through 360:\n",
      "\n",
      "   0   0   5   3   3   0   4   4   0   4   0   0   0   0   0   0   5   0   4   3\n",
      "\n",
      " Columns 361 through 380:\n",
      "\n",
      "   0   0   2   0   4   0   0   0   0   0   4   0   0   4   0   0   0   4   4   4\n",
      "\n",
      " Columns 381 through 400:\n",
      "\n",
      "   5   0   0   0   0   0   4   5   4   5   0   0   3   4   5   4   0   5   4   0\n",
      "\n",
      " Columns 401 through 420:\n",
      "\n",
      "   2   5   4   0   0   4   4   0   0   0   4   4   0   0   0   5   4   0   4   0\n",
      "\n",
      " Columns 421 through 440:\n",
      "\n",
      "   0   3   0   1   2   0   0   0   3   0   0   2   0   4   5   0   0   4   0   0\n",
      "\n",
      " Columns 441 through 460:\n",
      "\n",
      "   5   0   0   0   3   0   3   0   0   4   0   0   0   3   4   2   4   4   4   2\n",
      "\n",
      " Columns 461 through 480:\n",
      "\n",
      "   0   0   1   0   4   0   4   5   0   3   4   5   0   0   0   0   0   4   5   0\n",
      "\n",
      " Columns 481 through 500:\n",
      "\n",
      "   0   0   4   5   0   4   5   3   0   3   0   0   3   3   4   0   4   0   0   4\n",
      "\n",
      " Columns 501 through 520:\n",
      "\n",
      "   0   0   5   0   3   0   0   5   0   0   0   4   0   5   0   0   3   4   0   0\n",
      "\n",
      " Columns 521 through 540:\n",
      "\n",
      "   2   0   5   0   4   5   0   0   0   0   0   5   4   5   3   5   2   0   0   3\n",
      "\n",
      " Columns 541 through 560:\n",
      "\n",
      "   4   4   0   0   5   0   0   4   5   3   0   3   3   3   0   0   0   0   0   4\n",
      "\n",
      " Columns 561 through 580:\n",
      "\n",
      "   2   2   0   0   0   0   3   0   4   0   0   0   0   0   0   4   5   0   4   3\n",
      "\n",
      " Columns 581 through 600:\n",
      "\n",
      "   0   4   0   0   0   0   0   4   0   0   0   4   3   0   0   0   3   0   4   0\n",
      "\n",
      " Columns 601 through 620:\n",
      "\n",
      "   0   4   0   0   4   5   0   0   1   4   0   4   4   5   0   0   0   4   0   5\n",
      "\n",
      " Columns 621 through 640:\n",
      "\n",
      "   3   3   0   4   0   0   0   0   0   4   0   3   0   3   4   3   4   0   0   0\n",
      "\n",
      " Columns 641 through 660:\n",
      "\n",
      "   0   5   5   0   0   0   0   5   5   3   0   0   4   4   2   0   3   4   0   3\n",
      "\n",
      " Columns 661 through 680:\n",
      "\n",
      "   5   0   4   4   4   0   0   0   5   0   0   0   0   4   0   5   4   5   3   4\n",
      "\n",
      " Columns 681 through 700:\n",
      "\n",
      "   0   4   0   4   0   0   0   0   3   4   5   4   0   0   0   0   5   4   3   0\n",
      "\n",
      " Columns 701 through 720:\n",
      "\n",
      "   4   0   4   0   5   4   0   5   4   4   0   0   0   3   5   5   0   0   0   0\n",
      "\n",
      " Columns 721 through 740:\n",
      "\n",
      "   5   0   3   0   0   4   3   0   0   4   2   0   2   0   4   0   0   5   0   0\n",
      "\n",
      " Columns 741 through 760:\n",
      "\n",
      "   0   4   0   4   2   4   5   4   4   0   3   0   0   0   0   4   4   0   5   0\n",
      "\n",
      " Columns 761 through 780:\n",
      "\n",
      "   1   0   4   4   0   0   5   5   4   5   5   0   3   0   0   0   4   0   4   0\n",
      "\n",
      " Columns 781 through 800:\n",
      "\n",
      "   0   0   0   0   4   4   0   3   3   3   0   4   4   4   4   2   0   4   0   4\n",
      "\n",
      " Columns 801 through 820:\n",
      "\n",
      "   0   0   0   5   4   4   4   0   0   0   0   0   0   0   5   0   4   0   0   0\n",
      "\n",
      " Columns 821 through 840:\n",
      "\n",
      "   5   4   4   0   0   4   0   0   4   4   4   0   0   0   3   0   0   5   4   0\n",
      "\n",
      " Columns 841 through 860:\n",
      "\n",
      "   0   0   3   0   0   0   3   0   0   0   0   4   0   3   0   0   0   0   0   0\n",
      "\n",
      " Columns 861 through 880:\n",
      "\n",
      "   0   0   0   5   1   0   4   4   0   5   0   3   0   0   0   0   0   0   4   4\n",
      "\n",
      " Columns 881 through 900:\n",
      "\n",
      "   4   5   3   0   5   4   5   0   3   4   0   5   5   4   4   4   5   0   3   0\n",
      "\n",
      " Columns 901 through 920:\n",
      "\n",
      "   5   5   3   0   0   0   5   0   0   4   0   0   2   0   0   4   3   3   4   0\n",
      "\n",
      " Columns 921 through 940:\n",
      "\n",
      "   3   5   3   5   0   0   5   0   3   3   0   4   3   2   3   4   0   4   0   0\n",
      "\n",
      " Columns 941 through 943:\n",
      "\n",
      "   5   0   0\n",
      "\n"
     ]
    }
   ],
   "source": [
    "% Verificando estatísticas do filme 1: Toy Story\n",
    "toy_story = Y(1, :)"
   ]
  },
  {
   "cell_type": "code",
   "execution_count": 7,
   "metadata": {
    "ExecuteTime": {
     "end_time": "2019-03-22T19:43:16.788408Z",
     "start_time": "2019-03-22T19:43:16.737543Z"
    }
   },
   "outputs": [
    {
     "name": "stdout",
     "output_type": "stream",
     "text": [
      "toy_story_rating =  1.8590\n"
     ]
    }
   ],
   "source": [
    "% Estatística\n",
    "toy_story_rating = mean(Y(1, :))"
   ]
  },
  {
   "cell_type": "markdown",
   "metadata": {},
   "source": [
    "Este valor não é correto pois não levamos em consideração a presença ou não de avaliação r(i,j)=1"
   ]
  },
  {
   "cell_type": "code",
   "execution_count": 8,
   "metadata": {
    "ExecuteTime": {
     "end_time": "2019-03-22T19:43:16.885149Z",
     "start_time": "2019-03-22T19:43:16.794398Z"
    }
   },
   "outputs": [
    {
     "name": "stdout",
     "output_type": "stream",
     "text": [
      "ans =\n",
      "\n",
      " Columns 1 through 26:\n",
      "\n",
      "  1  1  0  0  1  1  0  0  0  1  0  0  1  0  1  1  1  1  0  1  1  0  1  0  1  1\n",
      "\n",
      " Columns 27 through 52:\n",
      "\n",
      "  0  0  0  0  0  0  0  0  0  0  0  1  0  0  1  1  1  1  1  0  0  0  1  0  0  0\n",
      "\n",
      " Columns 53 through 78:\n",
      "\n",
      "  0  1  0  1  1  1  1  0  0  1  1  1  1  1  1  0  0  1  0  1  1  0  1  0  1  0\n",
      "\n",
      " Columns 79 through 104:\n",
      "\n",
      "  1  0  1  1  1  1  0  0  0  0  1  0  0  1  1  1  1  1  1  0  1  0  1  1  0  0\n",
      "\n",
      " Columns 105 through 130:\n",
      "\n",
      "  0  1  0  1  1  0  0  0  0  0  0  0  1  0  0  1  1  0  0  1  1  0  0  1  0  1\n",
      "\n",
      " Columns 131 through 156:\n",
      "\n",
      "  1  0  0  1  0  0  1  1  0  0  1  0  0  1  1  0  0  1  0  1  1  0  0  0  0  0\n",
      "\n",
      " Columns 157 through 182:\n",
      "\n",
      "  1  1  0  1  0  1  0  0  0  0  0  1  0  0  0  0  0  1  0  0  1  1  0  0  1  1\n",
      "\n",
      " Columns 183 through 208:\n",
      "\n",
      "  0  1  0  0  0  0  1  0  0  0  1  1  0  0  0  1  1  1  1  1  1  1  0  0  0  0\n",
      "\n",
      " Columns 209 through 234:\n",
      "\n",
      "  1  1  0  0  1  0  0  1  0  0  0  0  0  1  1  0  0  0  0  0  0  1  1  1  0  1\n",
      "\n",
      " Columns 235 through 260:\n",
      "\n",
      "  1  0  0  0  0  0  0  1  1  1  0  1  1  1  1  1  1  1  1  1  0  1  0  0  0  0\n",
      "\n",
      " Columns 261 through 286:\n",
      "\n",
      "  0  1  1  0  1  0  0  1  0  0  1  0  0  1  1  1  1  0  1  1  0  0  0  0  0  1\n",
      "\n",
      " Columns 287 through 312:\n",
      "\n",
      "  1  0  1  1  1  1  1  1  1  1  1  1  1  0  1  0  1  0  1  0  1  1  0  0  1  1\n",
      "\n",
      " Columns 313 through 338:\n",
      "\n",
      "  1  1  0  0  0  0  0  1  0  1  0  1  1  1  1  0  0  1  1  1  0  0  0  1  0  1\n",
      "\n",
      " Columns 339 through 364:\n",
      "\n",
      "  1  1  0  0  1  1  1  0  1  1  0  1  0  0  0  0  0  0  1  0  1  1  0  0  1  0\n",
      "\n",
      " Columns 365 through 390:\n",
      "\n",
      "  1  0  0  0  0  0  1  0  0  1  0  0  0  1  1  1  1  0  0  0  0  0  1  1  1  1\n",
      "\n",
      " Columns 391 through 416:\n",
      "\n",
      "  0  0  1  1  1  1  0  1  1  0  1  1  1  0  0  1  1  0  0  0  1  1  0  0  0  1\n",
      "\n",
      " Columns 417 through 442:\n",
      "\n",
      "  1  0  1  0  0  1  0  1  1  0  0  0  1  0  0  1  0  1  1  0  0  1  0  0  1  0\n",
      "\n",
      " Columns 443 through 468:\n",
      "\n",
      "  0  0  1  0  1  0  0  1  0  0  0  1  1  1  1  1  1  1  0  0  1  0  1  0  1  1\n",
      "\n",
      " Columns 469 through 494:\n",
      "\n",
      "  0  1  1  1  0  0  0  0  0  1  1  0  0  0  1  1  0  1  1  1  0  1  0  0  1  1\n",
      "\n",
      " Columns 495 through 520:\n",
      "\n",
      "  1  0  1  0  0  1  0  0  1  0  1  0  0  1  0  0  0  1  0  1  0  0  1  1  0  0\n",
      "\n",
      " Columns 521 through 546:\n",
      "\n",
      "  1  0  1  0  1  1  0  0  0  0  0  1  1  1  1  1  1  0  0  1  1  1  0  0  1  0\n",
      "\n",
      " Columns 547 through 572:\n",
      "\n",
      "  0  1  1  1  0  1  1  1  0  0  0  0  0  1  1  1  0  0  0  0  1  0  1  0  0  0\n",
      "\n",
      " Columns 573 through 598:\n",
      "\n",
      "  0  0  0  1  1  0  1  1  0  1  0  0  0  0  0  1  0  0  0  1  1  0  0  0  1  0\n",
      "\n",
      " Columns 599 through 624:\n",
      "\n",
      "  1  0  0  1  0  0  1  1  0  0  1  1  0  1  1  1  0  0  0  1  0  1  1  1  0  1\n",
      "\n",
      " Columns 625 through 650:\n",
      "\n",
      "  0  0  0  0  0  1  0  1  0  1  1  1  1  0  0  0  0  1  1  0  0  0  0  1  1  1\n",
      "\n",
      " Columns 651 through 676:\n",
      "\n",
      "  0  0  1  1  1  0  1  1  0  1  1  0  1  1  1  0  0  0  1  0  0  0  0  1  0  1\n",
      "\n",
      " Columns 677 through 702:\n",
      "\n",
      "  1  1  1  1  0  1  0  1  0  0  0  0  1  1  1  1  0  0  0  0  1  1  1  0  1  0\n",
      "\n",
      " Columns 703 through 728:\n",
      "\n",
      "  1  0  1  1  0  1  1  1  0  0  0  1  1  1  0  0  0  0  1  0  1  0  0  1  1  0\n",
      "\n",
      " Columns 729 through 754:\n",
      "\n",
      "  0  1  1  0  1  0  1  0  0  1  0  0  0  1  0  1  1  1  1  1  1  0  1  0  0  0\n",
      "\n",
      " Columns 755 through 780:\n",
      "\n",
      "  0  1  1  0  1  0  1  0  1  1  0  0  1  1  1  1  1  0  1  0  0  0  1  0  1  0\n",
      "\n",
      " Columns 781 through 806:\n",
      "\n",
      "  0  0  0  0  1  1  0  1  1  1  0  1  1  1  1  1  0  1  0  1  0  0  0  1  1  1\n",
      "\n",
      " Columns 807 through 832:\n",
      "\n",
      "  1  0  0  0  0  0  0  0  1  0  1  0  0  0  1  1  1  0  0  1  0  0  1  1  1  0\n",
      "\n",
      " Columns 833 through 858:\n",
      "\n",
      "  0  0  1  0  0  1  1  0  0  0  1  0  0  0  1  0  0  0  0  1  0  1  0  0  0  0\n",
      "\n",
      " Columns 859 through 884:\n",
      "\n",
      "  0  0  0  0  0  1  1  0  1  1  0  1  0  1  0  0  0  0  0  0  1  1  1  1  1  0\n",
      "\n",
      " Columns 885 through 910:\n",
      "\n",
      "  1  1  1  0  1  1  0  1  1  1  1  1  1  0  1  0  1  1  1  0  0  0  1  0  0  1\n",
      "\n",
      " Columns 911 through 936:\n",
      "\n",
      "  0  0  1  0  0  1  1  1  1  0  1  1  1  1  0  0  1  0  1  1  0  1  1  1  1  1\n",
      "\n",
      " Columns 937 through 943:\n",
      "\n",
      "  0  1  0  0  1  0  0\n",
      "\n"
     ]
    }
   ],
   "source": [
    "% Todos os usuários que avaliaram Toy Story\n",
    "R(1, :)"
   ]
  },
  {
   "cell_type": "code",
   "execution_count": 9,
   "metadata": {
    "ExecuteTime": {
     "end_time": "2019-03-22T19:43:16.930030Z",
     "start_time": "2019-03-22T19:43:16.887145Z"
    }
   },
   "outputs": [
    {
     "name": "stdout",
     "output_type": "stream",
     "text": [
      "ans =  452\n"
     ]
    }
   ],
   "source": [
    "% Somando avaliações\n",
    "sum(R(1, :))"
   ]
  },
  {
   "cell_type": "code",
   "execution_count": 10,
   "metadata": {
    "ExecuteTime": {
     "end_time": "2019-03-22T19:43:17.012808Z",
     "start_time": "2019-03-22T19:43:16.932024Z"
    }
   },
   "outputs": [
    {
     "name": "stdout",
     "output_type": "stream",
     "text": [
      "ans =\n",
      "\n",
      " Columns 1 through 20:\n",
      "\n",
      "   5   4   4   4   4   3   1   5   4   5   3   5   5   5   3   5   4   5   5   4\n",
      "\n",
      " Columns 21 through 40:\n",
      "\n",
      "   5   2   4   4   5   5   2   2   3   4   3   3   3   4   4   2   4   5   4   4\n",
      "\n",
      " Columns 41 through 60:\n",
      "\n",
      "   4   4   2   5   4   5   4   5   5   4   4   3   3   4   4   4   4   4   4   3\n",
      "\n",
      " Columns 61 through 80:\n",
      "\n",
      "   4   4   5   4   5   3   4   3   4   3   4   4   5   5   4   4   4   5   3   3\n",
      "\n",
      " Columns 81 through 100:\n",
      "\n",
      "   4   3   4   4   5   4   4   4   1   5   3   3   3   2   5   5   2   4   4   4\n",
      "\n",
      " Columns 101 through 120:\n",
      "\n",
      "   5   3   4   3   4   4   4   4   4   4   3   4   4   4   5   5   3   5   3   5\n",
      "\n",
      " Columns 121 through 140:\n",
      "\n",
      "   5   3   3   4   4   5   4   3   4   4   5   3   5   5   4   2   5   4   5   3\n",
      "\n",
      " Columns 141 through 160:\n",
      "\n",
      "   5   3   4   5   5   5   4   4   5   4   5   3   2   5   2   3   4   5   1   4\n",
      "\n",
      " Columns 161 through 180:\n",
      "\n",
      "   3   3   5   5   5   3   3   4   4   4   5   4   3   2   4   4   4   4   4   4\n",
      "\n",
      " Columns 181 through 200:\n",
      "\n",
      "   5   4   5   4   5   3   4   5   4   5   4   2   5   4   4   4   4   4   5   4\n",
      "\n",
      " Columns 201 through 220:\n",
      "\n",
      "   4   3   1   2   3   2   4   5   4   5   3   3   4   3   4   2   4   4   4   2\n",
      "\n",
      " Columns 221 through 240:\n",
      "\n",
      "   1   4   4   5   3   4   5   4   5   4   5   4   5   3   3   3   3   4   4   4\n",
      "\n",
      " Columns 241 through 260:\n",
      "\n",
      "   5   3   5   4   5   3   4   2   5   4   5   5   4   5   3   5   2   3   4   4\n",
      "\n",
      " Columns 261 through 280:\n",
      "\n",
      "   5   4   5   3   3   3   3   4   2   2   3   4   4   5   4   3   4   4   4   3\n",
      "\n",
      " Columns 281 through 300:\n",
      "\n",
      "   3   4   4   4   5   1   4   4   4   5   4   5   3   3   4   4   3   3   4   3\n",
      "\n",
      " Columns 301 through 320:\n",
      "\n",
      "   4   5   5   5   5   3   4   4   2   3   4   3   5   4   4   4   5   4   5   4\n",
      "\n",
      " Columns 321 through 340:\n",
      "\n",
      "   5   3   4   4   4   3   4   5   4   5   4   3   4   4   5   4   5   4   4   3\n",
      "\n",
      " Columns 341 through 360:\n",
      "\n",
      "   5   5   5   3   4   3   4   2   2   4   5   4   4   2   4   5   4   4   3   4\n",
      "\n",
      " Columns 361 through 380:\n",
      "\n",
      "   4   5   1   4   4   5   5   4   5   5   3   4   4   4   4   3   3   3   4   4\n",
      "\n",
      " Columns 381 through 400:\n",
      "\n",
      "   4   4   2   4   4   5   4   4   4   5   4   5   4   4   4   4   4   4   3   5\n",
      "\n",
      " Columns 401 through 420:\n",
      "\n",
      "   4   3   3   4   3   5   1   4   4   5   3   4   4   4   5   3   5   4   5   3\n",
      "\n",
      " Columns 421 through 440:\n",
      "\n",
      "   4   5   5   4   4   4   5   3   5   5   3   5   4   2   4   3   3   4   3   5\n",
      "\n",
      " Columns 441 through 452:\n",
      "\n",
      "   3   5   5   3   3   4   3   2   3   4   4   5\n",
      "\n"
     ]
    }
   ],
   "source": [
    "% Indexando conjuntos para retornar apenas notas avaliadas\n",
    "Y(1, R(1, :))"
   ]
  },
  {
   "cell_type": "code",
   "execution_count": 11,
   "metadata": {
    "ExecuteTime": {
     "end_time": "2019-03-22T19:43:17.060679Z",
     "start_time": "2019-03-22T19:43:17.013805Z"
    }
   },
   "outputs": [
    {
     "name": "stdout",
     "output_type": "stream",
     "text": [
      "ans =  452\n"
     ]
    }
   ],
   "source": [
    "% Verificando se o número de colunas batem\n",
    "size(Y(1, R(1, :)), 2)"
   ]
  },
  {
   "cell_type": "markdown",
   "metadata": {
    "ExecuteTime": {
     "end_time": "2019-03-19T18:28:40.887931Z",
     "start_time": "2019-03-19T18:28:40.855058Z"
    }
   },
   "source": [
    "Dos 952 usuários presentes no conjunto de dados, apenas 452 avaliaram Toy Story"
   ]
  },
  {
   "cell_type": "code",
   "execution_count": 12,
   "metadata": {
    "ExecuteTime": {
     "end_time": "2019-03-22T19:43:17.106557Z",
     "start_time": "2019-03-22T19:43:17.062674Z"
    }
   },
   "outputs": [
    {
     "name": "stdout",
     "output_type": "stream",
     "text": [
      "ans =  3.8783\n"
     ]
    }
   ],
   "source": [
    "% Média de avaliação de Toy Story\n",
    "mean(Y(1, R(1, :)))"
   ]
  },
  {
   "cell_type": "markdown",
   "metadata": {},
   "source": [
    "## Carregando Parâmetros"
   ]
  },
  {
   "cell_type": "markdown",
   "metadata": {},
   "source": [
    "Dentro do pacote de arquivos do exercício, já existe um arquivo ```.mat``` responsável por carregar todos os parâmetros pré-treinados (X, Theta, num_users, num_movies, num_features);"
   ]
  },
  {
   "cell_type": "code",
   "execution_count": 13,
   "metadata": {
    "ExecuteTime": {
     "end_time": "2019-03-22T19:43:17.165399Z",
     "start_time": "2019-03-22T19:43:17.109549Z"
    }
   },
   "outputs": [],
   "source": [
    "% Carregando parâmetros\n",
    "load('ex8_movieParams.mat')"
   ]
  },
  {
   "cell_type": "code",
   "execution_count": 14,
   "metadata": {
    "ExecuteTime": {
     "end_time": "2019-03-22T19:43:17.230228Z",
     "start_time": "2019-03-22T19:43:17.166397Z"
    }
   },
   "outputs": [
    {
     "name": "stdout",
     "output_type": "stream",
     "text": [
      "dim_x =\n",
      "\n",
      "   1682     10\n",
      "\n",
      "head_x =\n",
      "\n",
      "   1.048686  -0.400232   1.194119   0.371128   0.407607\n",
      "   0.780851  -0.385626   0.521198   0.227355   0.570109\n",
      "   0.641509  -0.547854  -0.083796  -0.598519  -0.017694\n",
      "   0.453618  -0.800218   0.680481  -0.081743   0.136601\n",
      "   0.937538   0.106090   0.361953   0.086646   0.287505\n",
      "\n"
     ]
    }
   ],
   "source": [
    "% Verificando retorno\n",
    "dim_x = size(X)\n",
    "head_x = X(1:5, 1:5)"
   ]
  },
  {
   "cell_type": "markdown",
   "metadata": {},
   "source": [
    "Cada linha ```i``` da matriz X representa os parâmetros do respectivo filme ```i```"
   ]
  },
  {
   "cell_type": "code",
   "execution_count": 15,
   "metadata": {
    "ExecuteTime": {
     "end_time": "2019-03-22T19:43:17.288074Z",
     "start_time": "2019-03-22T19:43:17.231224Z"
    }
   },
   "outputs": [
    {
     "name": "stdout",
     "output_type": "stream",
     "text": [
      "dim_theta =\n",
      "\n",
      "   943    10\n",
      "\n",
      "head_theta =\n",
      "\n",
      "   0.285444  -1.684265   0.262939  -0.287317   0.585725\n",
      "   0.505013  -0.454648   0.317462  -0.115087   0.567704\n",
      "  -0.431917  -0.478804   0.846711  -0.011731  -0.138578\n",
      "   0.728598  -0.271894   0.326844  -0.250724  -0.471017\n",
      "   0.052119  -1.380697   0.637941  -0.231980   0.246337\n",
      "\n"
     ]
    }
   ],
   "source": [
    "% Vejamos a matriz theta\n",
    "dim_theta = size(Theta)\n",
    "head_theta = Theta(1:5, 1:5)"
   ]
  },
  {
   "cell_type": "markdown",
   "metadata": {},
   "source": [
    "## Função Custo"
   ]
  },
  {
   "cell_type": "markdown",
   "metadata": {},
   "source": [
    "Para critérios de teste, o dataset será reduzido."
   ]
  },
  {
   "cell_type": "code",
   "execution_count": 16,
   "metadata": {
    "ExecuteTime": {
     "end_time": "2019-03-22T19:43:17.391796Z",
     "start_time": "2019-03-22T19:43:17.290067Z"
    }
   },
   "outputs": [],
   "source": [
    "% Reduzindo dataset\n",
    "num_users = 4; num_movies = 5; num_features = 3;\n",
    "X = X(1:num_movies, 1:num_features);\n",
    "Theta = Theta(1:num_users, 1:num_features);\n",
    "Y = Y(1:num_movies, 1:num_users);\n",
    "R = R(1:num_movies, 1:num_users);"
   ]
  },
  {
   "cell_type": "markdown",
   "metadata": {
    "ExecuteTime": {
     "end_time": "2019-03-19T18:46:13.413865Z",
     "start_time": "2019-03-19T18:46:13.381952Z"
    }
   },
   "source": [
    "Temos apenas 4 usuários e 5 filmes, vamos verificar nossa matriz r(i, j)."
   ]
  },
  {
   "cell_type": "code",
   "execution_count": 17,
   "metadata": {
    "ExecuteTime": {
     "end_time": "2019-03-22T19:43:17.428695Z",
     "start_time": "2019-03-22T19:43:17.393789Z"
    }
   },
   "outputs": [
    {
     "name": "stdout",
     "output_type": "stream",
     "text": [
      "R =\n",
      "\n",
      "  1  1  0  0\n",
      "  1  0  0  0\n",
      "  1  0  0  0\n",
      "  1  0  0  0\n",
      "  1  0  0  0\n",
      "\n"
     ]
    }
   ],
   "source": [
    "R"
   ]
  },
  {
   "cell_type": "code",
   "execution_count": 18,
   "metadata": {
    "ExecuteTime": {
     "end_time": "2019-03-22T19:43:17.515464Z",
     "start_time": "2019-03-22T19:43:17.429692Z"
    }
   },
   "outputs": [
    {
     "name": "stdout",
     "output_type": "stream",
     "text": [
      "Y =\n",
      "\n",
      "   5   4   0   0\n",
      "   3   0   0   0\n",
      "   4   0   0   0\n",
      "   3   0   0   0\n",
      "   3   0   0   0\n",
      "\n"
     ]
    }
   ],
   "source": [
    "Y"
   ]
  },
  {
   "cell_type": "code",
   "execution_count": 19,
   "metadata": {
    "ExecuteTime": {
     "end_time": "2019-03-22T19:43:17.564332Z",
     "start_time": "2019-03-22T19:43:17.517458Z"
    }
   },
   "outputs": [
    {
     "name": "stdout",
     "output_type": "stream",
     "text": [
      "ans =\n",
      "\n",
      "   5   4\n",
      "   3   0\n",
      "   4   0\n",
      "   3   0\n",
      "   3   0\n",
      "\n"
     ]
    }
   ],
   "source": [
    "% Trazendo apenas filmes avaliados\n",
    "Y(:, R(1, :))"
   ]
  },
  {
   "cell_type": "code",
   "execution_count": 20,
   "metadata": {
    "ExecuteTime": {
     "end_time": "2019-03-22T19:43:17.624172Z",
     "start_time": "2019-03-22T19:43:17.566327Z"
    }
   },
   "outputs": [
    {
     "name": "stdout",
     "output_type": "stream",
     "text": [
      "ans =\n",
      "\n",
      "   18    4\n",
      "\n"
     ]
    }
   ],
   "source": [
    "% Outra maneira\n",
    "sum(Y(:, R(1, :)))"
   ]
  },
  {
   "cell_type": "code",
   "execution_count": 21,
   "metadata": {
    "ExecuteTime": {
     "end_time": "2019-03-22T19:43:17.678028Z",
     "start_time": "2019-03-22T19:43:17.626167Z"
    }
   },
   "outputs": [
    {
     "name": "stdout",
     "output_type": "stream",
     "text": [
      "ans =\n",
      "\n",
      "   1.287418   1.090653   0.749762   1.263181\n",
      "   1.009428   0.735125   0.288681   0.844126\n",
      "   1.083812   0.546449  -0.085715   0.588972\n",
      "   1.656187   0.808928   0.763394   0.770491\n",
      "   0.184102   0.540142  -0.149265   0.772545\n",
      "\n"
     ]
    }
   ],
   "source": [
    "% Testando cálculos\n",
    "X * Theta'"
   ]
  },
  {
   "cell_type": "code",
   "execution_count": 22,
   "metadata": {
    "ExecuteTime": {
     "end_time": "2019-03-22T19:43:17.733878Z",
     "start_time": "2019-03-22T19:43:17.680023Z"
    }
   },
   "outputs": [
    {
     "name": "stdout",
     "output_type": "stream",
     "text": [
      "ans =\n",
      "\n",
      "  -3.712582  -2.909347   0.749762   1.263181\n",
      "  -1.990572   0.735125   0.288681   0.844126\n",
      "  -2.916188   0.546449  -0.085715   0.588972\n",
      "  -1.343813   0.808928   0.763394   0.770491\n",
      "  -2.815898   0.540142  -0.149265   0.772545\n",
      "\n"
     ]
    }
   ],
   "source": [
    "% Custo\n",
    "(X * Theta') - Y"
   ]
  },
  {
   "cell_type": "code",
   "execution_count": 23,
   "metadata": {
    "ExecuteTime": {
     "end_time": "2019-03-22T19:43:18.234080Z",
     "start_time": "2019-03-22T19:43:17.739863Z"
    }
   },
   "outputs": [
    {
     "name": "stdout",
     "output_type": "stream",
     "text": [
      "ans =\n",
      "\n",
      "  -3.71258  -2.90935   0.00000   0.00000\n",
      "  -1.99057   0.00000   0.00000   0.00000\n",
      "  -2.91619   0.00000  -0.00000   0.00000\n",
      "  -1.34381   0.00000   0.00000   0.00000\n",
      "  -2.81590   0.00000  -0.00000   0.00000\n",
      "\n"
     ]
    }
   ],
   "source": [
    "% Eliminando filmes não avaliados\n",
    "((X * Theta') - Y) .* R"
   ]
  },
  {
   "cell_type": "code",
   "execution_count": 24,
   "metadata": {
    "ExecuteTime": {
     "end_time": "2019-03-22T19:43:18.310834Z",
     "start_time": "2019-03-22T19:43:18.243019Z"
    }
   },
   "outputs": [
    {
     "name": "stdout",
     "output_type": "stream",
     "text": [
      "ans =\n",
      "\n",
      "   13.78327    8.46430    0.00000    0.00000\n",
      "    3.96238    0.00000    0.00000    0.00000\n",
      "    8.50415    0.00000    0.00000    0.00000\n",
      "    1.80583    0.00000    0.00000    0.00000\n",
      "    7.92928    0.00000    0.00000    0.00000\n",
      "\n"
     ]
    }
   ],
   "source": [
    "% Quadrado\n",
    "(((X * Theta') - Y) .* R).^2"
   ]
  },
  {
   "cell_type": "code",
   "execution_count": 25,
   "metadata": {
    "ExecuteTime": {
     "end_time": "2019-03-22T19:43:18.360700Z",
     "start_time": "2019-03-22T19:43:18.311833Z"
    }
   },
   "outputs": [
    {
     "name": "stdout",
     "output_type": "stream",
     "text": [
      "ans =  44.449\n"
     ]
    }
   ],
   "source": [
    "% Somando tudo\n",
    "sum([(((X * Theta') - Y) .* R).^2](:))"
   ]
  },
  {
   "cell_type": "code",
   "execution_count": 26,
   "metadata": {
    "ExecuteTime": {
     "end_time": "2019-03-22T19:43:18.399596Z",
     "start_time": "2019-03-22T19:43:18.361699Z"
    }
   },
   "outputs": [
    {
     "name": "stdout",
     "output_type": "stream",
     "text": [
      "ans =  22.225\n"
     ]
    }
   ],
   "source": [
    "% Dividindo por 2\n",
    "sum([(((X * Theta') - Y) .* R).^2](:))/2"
   ]
  },
  {
   "cell_type": "markdown",
   "metadata": {},
   "source": [
    "Custo OK!"
   ]
  },
  {
   "cell_type": "markdown",
   "metadata": {},
   "source": [
    "## Gradient Descent"
   ]
  },
  {
   "cell_type": "code",
   "execution_count": 27,
   "metadata": {
    "ExecuteTime": {
     "end_time": "2019-03-22T19:43:18.481473Z",
     "start_time": "2019-03-22T19:43:18.400594Z"
    }
   },
   "outputs": [],
   "source": [
    "% Revendo transformações\n",
    "num_users = 4; num_movies = 5; num_features = 3;\n",
    "X = X(1:num_movies, 1:num_features);\n",
    "Theta = Theta(1:num_users, 1:num_features);\n",
    "Y = Y(1:num_movies, 1:num_users);\n",
    "R = R(1:num_movies, 1:num_users);"
   ]
  },
  {
   "cell_type": "code",
   "execution_count": 28,
   "metadata": {
    "ExecuteTime": {
     "end_time": "2019-03-22T19:43:18.523303Z",
     "start_time": "2019-03-22T19:43:18.482412Z"
    }
   },
   "outputs": [
    {
     "name": "stdout",
     "output_type": "stream",
     "text": [
      "Y =\n",
      "\n",
      "   5   4   0   0\n",
      "   3   0   0   0\n",
      "   4   0   0   0\n",
      "   3   0   0   0\n",
      "   3   0   0   0\n",
      "\n"
     ]
    }
   ],
   "source": [
    "% Avaliação de filmes\n",
    "Y"
   ]
  },
  {
   "cell_type": "code",
   "execution_count": 29,
   "metadata": {
    "ExecuteTime": {
     "end_time": "2019-03-22T19:43:18.568211Z",
     "start_time": "2019-03-22T19:43:18.524300Z"
    }
   },
   "outputs": [
    {
     "name": "stdout",
     "output_type": "stream",
     "text": [
      "R =\n",
      "\n",
      "  1  1  0  0\n",
      "  1  0  0  0\n",
      "  1  0  0  0\n",
      "  1  0  0  0\n",
      "  1  0  0  0\n",
      "\n"
     ]
    }
   ],
   "source": [
    "% Filmes avaliados\n",
    "R"
   ]
  },
  {
   "cell_type": "code",
   "execution_count": 30,
   "metadata": {
    "ExecuteTime": {
     "end_time": "2019-03-22T19:43:18.617052Z",
     "start_time": "2019-03-22T19:43:18.569180Z"
    }
   },
   "outputs": [
    {
     "name": "stdout",
     "output_type": "stream",
     "text": [
      "Theta =\n",
      "\n",
      "   0.28544  -1.68427   0.26294\n",
      "   0.50501  -0.45465   0.31746\n",
      "  -0.43192  -0.47880   0.84671\n",
      "   0.72860  -0.27189   0.32684\n",
      "\n"
     ]
    }
   ],
   "source": [
    "% Parâmetros por usuário\n",
    "Theta"
   ]
  },
  {
   "cell_type": "code",
   "execution_count": 31,
   "metadata": {
    "ExecuteTime": {
     "end_time": "2019-03-22T19:43:19.161367Z",
     "start_time": "2019-03-22T19:43:18.618050Z"
    }
   },
   "outputs": [
    {
     "name": "stdout",
     "output_type": "stream",
     "text": [
      "X =\n",
      "\n",
      "   1.048686  -0.400232   1.194119\n",
      "   0.780851  -0.385626   0.521198\n",
      "   0.641509  -0.547854  -0.083796\n",
      "   0.453618  -0.800218   0.680481\n",
      "   0.937538   0.106090   0.361953\n",
      "\n"
     ]
    }
   ],
   "source": [
    "% Features por filme\n",
    "X"
   ]
  },
  {
   "cell_type": "markdown",
   "metadata": {},
   "source": [
    "Pela matriz de features ```X```, entende-se que cada um dos 5 filmes possui 3 features diferentes.\n",
    "\n",
    "Como ilustração, estas features poderiam indicar algo como:\n",
    "    - x_romance;\n",
    "    - x_ação;\n",
    "    - x_comédia;\n",
    "\n",
    "Onde o valor em cada uma das colunas representaria o quão adepto o filme i é ao gênero em questão."
   ]
  },
  {
   "cell_type": "code",
   "execution_count": 32,
   "metadata": {
    "ExecuteTime": {
     "end_time": "2019-03-22T19:43:19.251124Z",
     "start_time": "2019-03-22T19:43:19.167351Z"
    }
   },
   "outputs": [
    {
     "name": "stdout",
     "output_type": "stream",
     "text": [
      "x_teste =\n",
      "\n",
      "   1.04869  -0.40023   1.19412\n",
      "\n",
      "theta_teste =\n",
      "\n",
      "   0.28544  -1.68427   0.26294\n",
      "\n"
     ]
    }
   ],
   "source": [
    "% Realizando um teste para um único filme\n",
    "x_teste = X(1, :)\n",
    "theta_teste = Theta(1, :)"
   ]
  },
  {
   "cell_type": "code",
   "execution_count": 33,
   "metadata": {
    "ExecuteTime": {
     "end_time": "2019-03-22T19:43:19.318944Z",
     "start_time": "2019-03-22T19:43:19.252121Z"
    }
   },
   "outputs": [
    {
     "name": "stdout",
     "output_type": "stream",
     "text": [
      "pred_teste =  1.2874\n",
      "ans =  5\n"
     ]
    }
   ],
   "source": [
    "% Predições\n",
    "pred_teste = x_teste * theta_teste'\n",
    "\n",
    "% Avaliação original\n",
    "Y(1)"
   ]
  },
  {
   "cell_type": "markdown",
   "metadata": {},
   "source": [
    "Testando matriz de medições"
   ]
  },
  {
   "cell_type": "code",
   "execution_count": 34,
   "metadata": {
    "ExecuteTime": {
     "end_time": "2019-03-22T19:43:19.394740Z",
     "start_time": "2019-03-22T19:43:19.320939Z"
    }
   },
   "outputs": [
    {
     "name": "stdout",
     "output_type": "stream",
     "text": [
      "pred =\n",
      "\n",
      "   1.287418   1.090653   0.749762   1.263181\n",
      "   1.009428   0.735125   0.288681   0.844126\n",
      "   1.083812   0.546449  -0.085715   0.588972\n",
      "   1.656187   0.808928   0.763394   0.770491\n",
      "   0.184102   0.540142  -0.149265   0.772545\n",
      "\n",
      "Y =\n",
      "\n",
      "   5   4   0   0\n",
      "   3   0   0   0\n",
      "   4   0   0   0\n",
      "   3   0   0   0\n",
      "   3   0   0   0\n",
      "\n"
     ]
    }
   ],
   "source": [
    "% Matriz\n",
    "pred = X * Theta'\n",
    "\n",
    "% Avaliações\n",
    "Y"
   ]
  },
  {
   "cell_type": "code",
   "execution_count": 35,
   "metadata": {
    "ExecuteTime": {
     "end_time": "2019-03-22T19:43:19.487494Z",
     "start_time": "2019-03-22T19:43:19.395739Z"
    }
   },
   "outputs": [
    {
     "name": "stdout",
     "output_type": "stream",
     "text": [
      "R =\n",
      "\n",
      "  1  1  0  0\n",
      "  1  0  0  0\n",
      "  1  0  0  0\n",
      "  1  0  0  0\n",
      "  1  0  0  0\n",
      "\n",
      "idx =\n",
      "\n",
      "   1\n",
      "   2\n",
      "   3\n",
      "   4\n",
      "   5\n",
      "   6\n",
      "\n"
     ]
    }
   ],
   "source": [
    "% Matriz de filmes avaliados\n",
    "R\n",
    "\n",
    "% Retornando índices apenas de filmes avaliados\n",
    "idx = find(R==1)"
   ]
  },
  {
   "cell_type": "code",
   "execution_count": 36,
   "metadata": {
    "ExecuteTime": {
     "end_time": "2019-03-22T19:43:19.701276Z",
     "start_time": "2019-03-22T19:43:19.490485Z"
    }
   },
   "outputs": [
    {
     "name": "stdout",
     "output_type": "stream",
     "text": [
      "ans =\n",
      "\n",
      "   5   4\n",
      "\n",
      "ans =\n",
      "\n",
      "   5   4\n",
      "\n"
     ]
    }
   ],
   "source": [
    "% Dimensões das matrizes são iguais?\n",
    "size(pred)\n",
    "size(Y)"
   ]
  },
  {
   "cell_type": "code",
   "execution_count": 37,
   "metadata": {
    "ExecuteTime": {
     "end_time": "2019-03-22T19:43:19.785049Z",
     "start_time": "2019-03-22T19:43:19.706293Z"
    }
   },
   "outputs": [
    {
     "name": "stdout",
     "output_type": "stream",
     "text": [
      "subtract =\n",
      "\n",
      "  -3.712582  -2.909347   0.749762   1.263181\n",
      "  -1.990572   0.735125   0.288681   0.844126\n",
      "  -2.916188   0.546449  -0.085715   0.588972\n",
      "  -1.343813   0.808928   0.763394   0.770491\n",
      "  -2.815898   0.540142  -0.149265   0.772545\n",
      "\n"
     ]
    }
   ],
   "source": [
    "% Subtração\n",
    "subtract = pred - Y"
   ]
  },
  {
   "cell_type": "code",
   "execution_count": 38,
   "metadata": {
    "ExecuteTime": {
     "end_time": "2019-03-22T19:43:19.854862Z",
     "start_time": "2019-03-22T19:43:19.791033Z"
    }
   },
   "outputs": [
    {
     "name": "stdout",
     "output_type": "stream",
     "text": [
      "X_grad_temp =\n",
      "\n",
      "  -1.932474   6.873262  -0.852095\n",
      "   0.293395   2.650692   0.230303\n",
      "  -0.090297   4.544093  -0.473376\n",
      "   0.256592   1.320551   0.801668\n",
      "   0.096344   4.358562  -0.442817\n",
      "\n"
     ]
    }
   ],
   "source": [
    "% Multiplicando por theta (X_grad)\n",
    "X_grad_temp = subtract * Theta"
   ]
  },
  {
   "cell_type": "code",
   "execution_count": 39,
   "metadata": {
    "ExecuteTime": {
     "end_time": "2019-03-22T19:43:19.912709Z",
     "start_time": "2019-03-22T19:43:19.859859Z"
    }
   },
   "outputs": [
    {
     "name": "stdout",
     "output_type": "stream",
     "text": [
      "ans =\n",
      "\n",
      "   5   3\n",
      "\n",
      "ans =\n",
      "\n",
      "   4   3\n",
      "\n"
     ]
    }
   ],
   "source": [
    "size(X)\n",
    "size(Theta)"
   ]
  },
  {
   "cell_type": "code",
   "execution_count": 40,
   "metadata": {
    "ExecuteTime": {
     "end_time": "2019-03-22T19:43:19.963593Z",
     "start_time": "2019-03-22T19:43:19.913705Z"
    }
   },
   "outputs": [
    {
     "name": "stdout",
     "output_type": "stream",
     "text": [
      "Theta_grad_temp =\n",
      "\n",
      "  -10.5680202    4.6277602   -7.1600444\n",
      "   -1.2530669   -0.0084597   -2.3907862\n",
      "    1.1630427   -0.9911601    1.5183969\n",
      "    3.4354470   -1.6883549    2.7029223\n",
      "\n"
     ]
    }
   ],
   "source": [
    "% Multiplicando por X (Theta_grad)\n",
    "Theta_grad_temp = subtract' * X"
   ]
  },
  {
   "cell_type": "code",
   "execution_count": 41,
   "metadata": {
    "ExecuteTime": {
     "end_time": "2019-03-22T19:43:20.027401Z",
     "start_time": "2019-03-22T19:43:19.966564Z"
    }
   },
   "outputs": [
    {
     "name": "stdout",
     "output_type": "stream",
     "text": [
      "X_grad =\n",
      "\n",
      "  -1.932474\n",
      "   0.293395\n",
      "  -0.090297\n",
      "   0.256592\n",
      "   0.096344\n",
      "   6.873262\n",
      "\n",
      "Theta_grad =\n",
      "\n",
      "  -10.5680202\n",
      "   -1.2530669\n",
      "    1.1630427\n",
      "    3.4354470\n",
      "    4.6277602\n",
      "   -0.0084597\n",
      "\n"
     ]
    }
   ],
   "source": [
    "% Indexando apenas filmes avaliados\n",
    "X_grad = X_grad_temp(idx)\n",
    "Theta_grad = Theta_grad_temp(idx)"
   ]
  },
  {
   "cell_type": "code",
   "execution_count": 42,
   "metadata": {
    "ExecuteTime": {
     "end_time": "2019-03-22T19:43:20.083253Z",
     "start_time": "2019-03-22T19:43:20.029401Z"
    }
   },
   "outputs": [
    {
     "name": "stdout",
     "output_type": "stream",
     "text": [
      "grad =\n",
      "\n",
      "   -1.9324745\n",
      "    0.2933951\n",
      "   -0.0902973\n",
      "    0.2565924\n",
      "    0.0963440\n",
      "    6.8732621\n",
      "  -10.5680202\n",
      "   -1.2530669\n",
      "    1.1630427\n",
      "    3.4354470\n",
      "    4.6277602\n",
      "   -0.0084597\n",
      "\n"
     ]
    }
   ],
   "source": [
    "% Juntando os dois\n",
    "grad = [X_grad(:); Theta_grad(:)]"
   ]
  },
  {
   "cell_type": "code",
   "execution_count": 43,
   "metadata": {
    "ExecuteTime": {
     "end_time": "2019-03-22T19:43:20.190964Z",
     "start_time": "2019-03-22T19:43:20.085246Z"
    }
   },
   "outputs": [
    {
     "name": "stdout",
     "output_type": "stream",
     "text": [
      "grad =\n",
      "\n",
      "   -1.9324745\n",
      "    0.2933951\n",
      "   -0.0902973\n",
      "    0.2565924\n",
      "    0.0963440\n",
      "    6.8732621\n",
      "  -10.5680202\n",
      "   -1.2530669\n",
      "    1.1630427\n",
      "    3.4354470\n",
      "    4.6277602\n",
      "   -0.0084597\n",
      "\n"
     ]
    }
   ],
   "source": [
    "% Implementando tudo em uma rotina única\n",
    "idx = find(R==1);\n",
    "diff_pred = (X * Theta') - Y;\n",
    "X_grad = (diff_pred * Theta)(idx);\n",
    "Theta_grad = (diff_pred' * X)(idx);\n",
    "grad = [X_grad(:); Theta_grad(:)]"
   ]
  },
  {
   "cell_type": "code",
   "execution_count": 44,
   "metadata": {
    "ExecuteTime": {
     "end_time": "2019-03-22T19:43:20.266760Z",
     "start_time": "2019-03-22T19:43:20.195952Z"
    }
   },
   "outputs": [],
   "source": [
    "idx = find(R==1);\n",
    "diff_pred = (X * Theta') - Y;\n",
    "X_grad = (diff_pred * Theta)(idx);\n",
    "Theta_grad = (diff_pred' * X)(idx);"
   ]
  },
  {
   "cell_type": "code",
   "execution_count": 45,
   "metadata": {
    "ExecuteTime": {
     "end_time": "2019-03-22T19:43:20.305657Z",
     "start_time": "2019-03-22T19:43:20.267757Z"
    }
   },
   "outputs": [
    {
     "name": "stdout",
     "output_type": "stream",
     "text": [
      "X_grad =\n",
      "\n",
      "  -1.932474\n",
      "   0.293395\n",
      "  -0.090297\n",
      "   0.256592\n",
      "   0.096344\n",
      "   6.873262\n",
      "\n"
     ]
    }
   ],
   "source": [
    "X_grad"
   ]
  },
  {
   "cell_type": "code",
   "execution_count": 46,
   "metadata": {
    "ExecuteTime": {
     "end_time": "2019-03-22T19:43:20.354527Z",
     "start_time": "2019-03-22T19:43:20.309645Z"
    }
   },
   "outputs": [
    {
     "name": "stdout",
     "output_type": "stream",
     "text": [
      "Theta_grad =\n",
      "\n",
      "  -10.5680202\n",
      "   -1.2530669\n",
      "    1.1630427\n",
      "    3.4354470\n",
      "    4.6277602\n",
      "   -0.0084597\n",
      "\n"
     ]
    }
   ],
   "source": [
    "Theta_grad"
   ]
  },
  {
   "cell_type": "markdown",
   "metadata": {},
   "source": [
    "### Gradient Descent 2ª Tentativa"
   ]
  },
  {
   "cell_type": "code",
   "execution_count": 47,
   "metadata": {
    "ExecuteTime": {
     "end_time": "2019-03-22T19:43:20.436306Z",
     "start_time": "2019-03-22T19:43:20.355523Z"
    }
   },
   "outputs": [
    {
     "name": "stdout",
     "output_type": "stream",
     "text": [
      "Y =\n",
      "\n",
      "   5   4   0   0\n",
      "   3   0   0   0\n",
      "   4   0   0   0\n",
      "   3   0   0   0\n",
      "   3   0   0   0\n",
      "\n",
      "X =\n",
      "\n",
      "   1.048686  -0.400232   1.194119\n",
      "   0.780851  -0.385626   0.521198\n",
      "   0.641509  -0.547854  -0.083796\n",
      "   0.453618  -0.800218   0.680481\n",
      "   0.937538   0.106090   0.361953\n",
      "\n",
      "Theta =\n",
      "\n",
      "   0.28544  -1.68427   0.26294\n",
      "   0.50501  -0.45465   0.31746\n",
      "  -0.43192  -0.47880   0.84671\n",
      "   0.72860  -0.27189   0.32684\n",
      "\n"
     ]
    }
   ],
   "source": [
    "% Revendo matrizes\n",
    "Y\n",
    "X\n",
    "Theta"
   ]
  },
  {
   "cell_type": "markdown",
   "metadata": {},
   "source": [
    "A matriz de features de filmes ```X``` possui dimensões 5x3, já a matriz de parâmetros de usuários ```Theta``` possui dimensões 4x3.\n",
    "\n",
    "No total, temos 4 usuários e 5 filmes."
   ]
  },
  {
   "cell_type": "code",
   "execution_count": 48,
   "metadata": {
    "ExecuteTime": {
     "end_time": "2019-03-22T19:43:20.478195Z",
     "start_time": "2019-03-22T19:43:20.438302Z"
    }
   },
   "outputs": [
    {
     "name": "stdout",
     "output_type": "stream",
     "text": [
      "ans =\n",
      "\n",
      "   0.28544   0.50501  -0.43192   0.72860\n",
      "  -1.68427  -0.45465  -0.47880  -0.27189\n",
      "   0.26294   0.31746   0.84671   0.32684\n",
      "\n"
     ]
    }
   ],
   "source": [
    "Theta'"
   ]
  },
  {
   "cell_type": "code",
   "execution_count": 49,
   "metadata": {
    "ExecuteTime": {
     "end_time": "2019-03-22T19:43:20.538035Z",
     "start_time": "2019-03-22T19:43:20.480190Z"
    }
   },
   "outputs": [
    {
     "name": "stdout",
     "output_type": "stream",
     "text": [
      "x1 =\n",
      "\n",
      "   1.04869  -0.40023   1.19412\n",
      "\n",
      "theta1 =\n",
      "\n",
      "   0.28544  -1.68427   0.26294\n",
      "\n"
     ]
    }
   ],
   "source": [
    "% Coletando parâmetros e features para o usuário 1 e filme 1\n",
    "x1 = X(1, :)\n",
    "theta1 = Theta(1, :)"
   ]
  },
  {
   "cell_type": "code",
   "execution_count": 50,
   "metadata": {
    "ExecuteTime": {
     "end_time": "2019-03-22T19:43:20.598873Z",
     "start_time": "2019-03-22T19:43:20.540030Z"
    }
   },
   "outputs": [
    {
     "name": "stdout",
     "output_type": "stream",
     "text": [
      "pred =  1.2874\n",
      "ans =  5\n"
     ]
    }
   ],
   "source": [
    "% Calculando predição e verificando rating\n",
    "pred = x1 * theta1'\n",
    "Y(1)"
   ]
  },
  {
   "cell_type": "code",
   "execution_count": 51,
   "metadata": {
    "ExecuteTime": {
     "end_time": "2019-03-22T19:43:20.637768Z",
     "start_time": "2019-03-22T19:43:20.601865Z"
    }
   },
   "outputs": [
    {
     "name": "stdout",
     "output_type": "stream",
     "text": [
      "ans = -3.7126\n"
     ]
    }
   ],
   "source": [
    "(pred - Y(1))"
   ]
  },
  {
   "cell_type": "code",
   "execution_count": 52,
   "metadata": {
    "ExecuteTime": {
     "end_time": "2019-03-22T19:43:20.793352Z",
     "start_time": "2019-03-22T19:43:20.641768Z"
    }
   },
   "outputs": [
    {
     "name": "stdout",
     "output_type": "stream",
     "text": [
      "x_grad_1 =  4.2171\n"
     ]
    }
   ],
   "source": [
    "% Gradiente 1\n",
    "x_grad_1 = sum((pred - Y(1)) * theta1)"
   ]
  },
  {
   "cell_type": "code",
   "execution_count": 53,
   "metadata": {
    "ExecuteTime": {
     "end_time": "2019-03-22T19:43:20.831251Z",
     "start_time": "2019-03-22T19:43:20.795347Z"
    }
   },
   "outputs": [
    {
     "name": "stdout",
     "output_type": "stream",
     "text": [
      "ans =\n",
      "\n",
      "  -3.712582  -2.909347   0.749762   1.263181\n",
      "  -1.990572   0.735125   0.288681   0.844126\n",
      "  -2.916188   0.546449  -0.085715   0.588972\n",
      "  -1.343813   0.808928   0.763394   0.770491\n",
      "  -2.815898   0.540142  -0.149265   0.772545\n",
      "\n"
     ]
    }
   ],
   "source": [
    "((X * Theta') - Y)"
   ]
  },
  {
   "cell_type": "code",
   "execution_count": 54,
   "metadata": {
    "ExecuteTime": {
     "end_time": "2019-03-22T19:43:20.870149Z",
     "start_time": "2019-03-22T19:43:20.833245Z"
    }
   },
   "outputs": [
    {
     "name": "stdout",
     "output_type": "stream",
     "text": [
      "ans =\n",
      "\n",
      "  -3.712582  -2.909347   0.749762   1.263181\n",
      "  -1.990572   0.735125   0.288681   0.844126\n",
      "  -2.916188   0.546449  -0.085715   0.588972\n",
      "  -1.343813   0.808928   0.763394   0.770491\n",
      "  -2.815898   0.540142  -0.149265   0.772545\n",
      "\n"
     ]
    }
   ],
   "source": [
    "(X * Theta') - Y "
   ]
  },
  {
   "cell_type": "code",
   "execution_count": 55,
   "metadata": {
    "ExecuteTime": {
     "end_time": "2019-03-22T19:43:20.923012Z",
     "start_time": "2019-03-22T19:43:20.873139Z"
    }
   },
   "outputs": [
    {
     "name": "stdout",
     "output_type": "stream",
     "text": [
      "Y =\n",
      "\n",
      "   5   4   0   0\n",
      "   3   0   0   0\n",
      "   4   0   0   0\n",
      "   3   0   0   0\n",
      "   3   0   0   0\n",
      "\n",
      "ans =\n",
      "\n",
      "   1.287418   1.090653   0.749762   1.263181\n",
      "   1.009428   0.735125   0.288681   0.844126\n",
      "   1.083812   0.546449  -0.085715   0.588972\n",
      "   1.656187   0.808928   0.763394   0.770491\n",
      "   0.184102   0.540142  -0.149265   0.772545\n",
      "\n"
     ]
    }
   ],
   "source": [
    "Y\n",
    "(X * Theta')"
   ]
  },
  {
   "cell_type": "code",
   "execution_count": 56,
   "metadata": {
    "ExecuteTime": {
     "end_time": "2019-03-22T19:43:21.001795Z",
     "start_time": "2019-03-22T19:43:20.925997Z"
    }
   },
   "outputs": [
    {
     "name": "stdout",
     "output_type": "stream",
     "text": [
      "Y =\n",
      "\n",
      "   5   4   0   0\n",
      "   3   0   0   0\n",
      "   4   0   0   0\n",
      "   3   0   0   0\n",
      "   3   0   0   0\n",
      "\n",
      "idx_1 =\n",
      "\n",
      "   1   2\n",
      "\n"
     ]
    }
   ],
   "source": [
    "% Usuários que avaliaram filme 1\n",
    "Y\n",
    "idx_1 = find(R(1, :) == 1)"
   ]
  },
  {
   "cell_type": "code",
   "execution_count": 57,
   "metadata": {
    "ExecuteTime": {
     "end_time": "2019-03-22T19:43:21.960231Z",
     "start_time": "2019-03-22T19:43:21.006784Z"
    }
   },
   "outputs": [
    {
     "name": "stdout",
     "output_type": "stream",
     "text": [
      "error: Theta(6,_): but Theta has size 4x3\n"
     ]
    }
   ],
   "source": [
    "% Matrizes temporárias considerando avaliações\n",
    "theta_temp_1 = Theta(idx, :)"
   ]
  },
  {
   "cell_type": "code",
   "execution_count": 58,
   "metadata": {
    "ExecuteTime": {
     "end_time": "2019-03-22T19:43:22.005110Z",
     "start_time": "2019-03-22T19:43:21.961229Z"
    }
   },
   "outputs": [
    {
     "name": "stdout",
     "output_type": "stream",
     "text": [
      "error: Y(_,6): but Y has size 5x4\n"
     ]
    }
   ],
   "source": [
    "y_temp = Y(1, idx)"
   ]
  },
  {
   "cell_type": "code",
   "execution_count": 59,
   "metadata": {
    "ExecuteTime": {
     "end_time": "2019-03-22T19:43:22.422993Z",
     "start_time": "2019-03-22T19:43:22.007106Z"
    }
   },
   "outputs": [
    {
     "name": "stdout",
     "output_type": "stream",
     "text": [
      "error: 'theta_temp_1' undefined near line 1 column 24\n"
     ]
    }
   ],
   "source": [
    "x_grad_1 = ((X(1, :) * theta_temp_1') - y_temp) * theta_temp_1"
   ]
  },
  {
   "cell_type": "markdown",
   "metadata": {},
   "source": [
    "### Gradient Descent 3ª Tentativa"
   ]
  },
  {
   "cell_type": "code",
   "execution_count": 60,
   "metadata": {
    "ExecuteTime": {
     "end_time": "2019-03-22T19:44:29.498204Z",
     "start_time": "2019-03-22T19:44:29.417392Z"
    }
   },
   "outputs": [],
   "source": [
    "% Verificando parâmetros\n",
    "num_users = 4; num_movies = 5; num_features = 3;\n",
    "X = X(1:num_movies, 1:num_features);\n",
    "Theta = Theta(1:num_users, 1:num_features);\n",
    "Y = Y(1:num_movies, 1:num_users);\n",
    "R = R(1:num_movies, 1:num_users);"
   ]
  },
  {
   "cell_type": "code",
   "execution_count": 62,
   "metadata": {
    "ExecuteTime": {
     "end_time": "2019-03-22T19:44:38.895786Z",
     "start_time": "2019-03-22T19:44:38.834949Z"
    }
   },
   "outputs": [
    {
     "name": "stdout",
     "output_type": "stream",
     "text": [
      "X =\n",
      "\n",
      "   1.048686  -0.400232   1.194119\n",
      "   0.780851  -0.385626   0.521198\n",
      "   0.641509  -0.547854  -0.083796\n",
      "   0.453618  -0.800218   0.680481\n",
      "   0.937538   0.106090   0.361953\n",
      "\n",
      "Theta =\n",
      "\n",
      "   0.28544  -1.68427   0.26294\n",
      "   0.50501  -0.45465   0.31746\n",
      "  -0.43192  -0.47880   0.84671\n",
      "   0.72860  -0.27189   0.32684\n",
      "\n",
      "Y =\n",
      "\n",
      "   5   4   0   0\n",
      "   3   0   0   0\n",
      "   4   0   0   0\n",
      "   3   0   0   0\n",
      "   3   0   0   0\n",
      "\n"
     ]
    }
   ],
   "source": [
    "X\n",
    "Theta\n",
    "Y"
   ]
  },
  {
   "cell_type": "markdown",
   "metadata": {},
   "source": [
    "Temos então 5 filmes avaliados (ou não) por 4 usuários!"
   ]
  },
  {
   "cell_type": "code",
   "execution_count": 63,
   "metadata": {
    "ExecuteTime": {
     "end_time": "2019-03-22T19:46:01.769977Z",
     "start_time": "2019-03-22T19:46:01.522641Z"
    }
   },
   "outputs": [
    {
     "name": "stdout",
     "output_type": "stream",
     "text": [
      "X_grad =\n",
      "\n",
      "   0\n",
      "   0\n",
      "   0\n",
      "   0\n",
      "   0\n",
      "\n"
     ]
    }
   ],
   "source": [
    "% Montando matriz de gradientes X\n",
    "X_grad = zeros(num_movies, 1)"
   ]
  },
  {
   "cell_type": "code",
   "execution_count": 67,
   "metadata": {
    "ExecuteTime": {
     "end_time": "2019-03-22T19:50:00.023976Z",
     "start_time": "2019-03-22T19:49:59.947182Z"
    }
   },
   "outputs": [
    {
     "name": "stdout",
     "output_type": "stream",
     "text": [
      "x =\n",
      "\n",
      "   1.04869  -0.40023   1.19412\n",
      "\n",
      "theta =\n",
      "\n",
      "   0.28544  -1.68427   0.26294\n",
      "\n",
      "y =  5\n"
     ]
    }
   ],
   "source": [
    "% Testando para o filme 1 e usuário 1 (i=1; j=1)\n",
    "x = X(1, :)\n",
    "theta = Theta(1, :)\n",
    "y = Y(1, 1)"
   ]
  },
  {
   "cell_type": "code",
   "execution_count": 71,
   "metadata": {
    "ExecuteTime": {
     "end_time": "2019-03-22T19:50:24.757849Z",
     "start_time": "2019-03-22T19:50:24.717954Z"
    }
   },
   "outputs": [
    {
     "name": "stdout",
     "output_type": "stream",
     "text": [
      "ans =  4.2171\n"
     ]
    }
   ],
   "source": [
    "% Calculando gradiente (I)\n",
    "sum(((x * theta') - y) * theta)"
   ]
  },
  {
   "cell_type": "code",
   "execution_count": 74,
   "metadata": {
    "ExecuteTime": {
     "end_time": "2019-03-22T19:56:35.056129Z",
     "start_time": "2019-03-22T19:56:34.980304Z"
    }
   },
   "outputs": [
    {
     "name": "stdout",
     "output_type": "stream",
     "text": [
      "R =\n",
      "\n",
      "  1  1  0  0\n",
      "  1  0  0  0\n",
      "  1  0  0  0\n",
      "  1  0  0  0\n",
      "  1  0  0  0\n",
      "\n",
      "Y =\n",
      "\n",
      "   5   4   0   0\n",
      "   3   0   0   0\n",
      "   4   0   0   0\n",
      "   3   0   0   0\n",
      "   3   0   0   0\n",
      "\n",
      "idx =\n",
      "\n",
      "   1   2\n",
      "\n"
     ]
    }
   ],
   "source": [
    "% Testando vetorização (de acordo com pdf)\n",
    "R\n",
    "Y\n",
    "\n",
    "% Retornando somente avaliações do filme 1\n",
    "idx = find(R(1, :)==1)"
   ]
  },
  {
   "cell_type": "code",
   "execution_count": 81,
   "metadata": {
    "ExecuteTime": {
     "end_time": "2019-03-22T20:00:01.419319Z",
     "start_time": "2019-03-22T20:00:01.306623Z"
    }
   },
   "outputs": [
    {
     "name": "stdout",
     "output_type": "stream",
     "text": [
      "theta_temp =\n",
      "\n",
      "   0.28544  -1.68427   0.26294\n",
      "   0.50501  -0.45465   0.31746\n",
      "\n",
      "y_temp =\n",
      "\n",
      "   5   4\n",
      "\n",
      "x_temp =\n",
      "\n",
      "   1.04869  -0.40023   1.19412\n",
      "\n",
      "x_grad_temp =\n",
      "\n",
      "  -2.5290   7.5757  -1.8998\n",
      "\n",
      "x_grad =  3.1469\n",
      "X_grad =\n",
      "\n",
      "   3.14692\n",
      "   0.00000\n",
      "   0.00000\n",
      "   0.00000\n",
      "   0.00000\n",
      "\n"
     ]
    }
   ],
   "source": [
    "% Calculando gradiente (II)\n",
    "theta_temp = Theta(idx, :)\n",
    "y_temp = Y(1, idx)\n",
    "x_temp = X(1, :)\n",
    "\n",
    "x_grad_temp = ((x_temp * theta_temp') - y_temp) * theta_temp\n",
    "x_grad = sum(x_grad_temp)\n",
    "X_grad(1, :) = x_grad"
   ]
  },
  {
   "cell_type": "code",
   "execution_count": 86,
   "metadata": {
    "ExecuteTime": {
     "end_time": "2019-03-22T20:02:06.370511Z",
     "start_time": "2019-03-22T20:02:06.223904Z"
    }
   },
   "outputs": [],
   "source": [
    "% Testando for-loop para todos os usuários\n",
    "for i = 1:num_movies\n",
    "    idx = find(R(i, :)==1);\n",
    "    theta_temp = Theta(idx, :);\n",
    "    y_temp = Y(i, idx);\n",
    "    x_temp = X(i, :);\n",
    "\n",
    "    x_grad_temp = ((x_temp * theta_temp') - y_temp) * theta_temp;\n",
    "    x_grad = sum(x_grad_temp);\n",
    "    X_grad(i, :) = x_grad;\n",
    "endfor"
   ]
  },
  {
   "cell_type": "code",
   "execution_count": 87,
   "metadata": {
    "ExecuteTime": {
     "end_time": "2019-03-22T20:02:10.232183Z",
     "start_time": "2019-03-22T20:02:10.197277Z"
    }
   },
   "outputs": [
    {
     "name": "stdout",
     "output_type": "stream",
     "text": [
      "X_grad =\n",
      "\n",
      "   3.1469\n",
      "   2.2611\n",
      "   3.3124\n",
      "   1.5264\n",
      "   3.1985\n",
      "\n"
     ]
    }
   ],
   "source": [
    "X_grad"
   ]
  },
  {
   "cell_type": "code",
   "execution_count": 89,
   "metadata": {
    "ExecuteTime": {
     "end_time": "2019-03-22T20:03:31.488623Z",
     "start_time": "2019-03-22T20:03:31.348002Z"
    }
   },
   "outputs": [],
   "source": [
    "% Realizando processo semelhante para features theta\n",
    "Theta_grad = zeros(num_users, 1);\n",
    "for i = 1:num_users\n",
    "    idx = find(R(i, :)==1);\n",
    "    theta_temp = Theta(idx, :);\n",
    "    y_temp = Y(i, idx);\n",
    "    x_temp = X(i, :);\n",
    "\n",
    "    theta_grad_temp = ((x_temp * theta_temp') - y_temp)' * x_temp;\n",
    "    theta_grad = sum(theta_grad_temp);\n",
    "    Theta_grad(i, :) = x_grad;\n",
    "endfor"
   ]
  },
  {
   "cell_type": "code",
   "execution_count": 90,
   "metadata": {
    "ExecuteTime": {
     "end_time": "2019-03-22T20:03:35.952726Z",
     "start_time": "2019-03-22T20:03:35.920812Z"
    }
   },
   "outputs": [
    {
     "name": "stdout",
     "output_type": "stream",
     "text": [
      "Theta_grad =\n",
      "\n",
      "   3.1985\n",
      "   3.1985\n",
      "   3.1985\n",
      "   3.1985\n",
      "\n"
     ]
    }
   ],
   "source": [
    "Theta_grad"
   ]
  },
  {
   "cell_type": "code",
   "execution_count": 111,
   "metadata": {
    "ExecuteTime": {
     "end_time": "2019-03-22T20:11:06.618169Z",
     "start_time": "2019-03-22T20:11:06.447626Z"
    }
   },
   "outputs": [
    {
     "name": "stdout",
     "output_type": "stream",
     "text": [
      "theta_grad = -13.100\n",
      "theta_grad = -5.3607\n"
     ]
    }
   ],
   "source": [
    "% Calculando gradiente (III)\n",
    "idx = find(R(:, 1)==1);\n",
    "theta_temp = Theta(1, :);\n",
    "y_temp = Y(idx, 1);\n",
    "x_temp = X(idx, :);\n",
    "\n",
    "theta_grad = sum(((x_temp * theta_temp') - y_temp)' * x_temp)\n",
    "\n",
    "idx = find(R(:, 2)==1);\n",
    "theta_temp = Theta(2, :);\n",
    "y_temp = Y(idx, 2);\n",
    "x_temp = X(idx, :);\n",
    "\n",
    "theta_grad = sum(((x_temp * theta_temp') - y_temp)' * x_temp)"
   ]
  },
  {
   "cell_type": "code",
   "execution_count": 114,
   "metadata": {
    "ExecuteTime": {
     "end_time": "2019-03-22T20:12:05.769397Z",
     "start_time": "2019-03-22T20:12:05.619798Z"
    }
   },
   "outputs": [],
   "source": [
    "% Testando for-loop para todos os usuários\n",
    "for i = 1:num_users\n",
    "    idx = find(R(:, i)==1);\n",
    "    theta_temp = Theta(i, :);\n",
    "    y_temp = Y(idx, i);\n",
    "    x_temp = X(idx, :);\n",
    "\n",
    "    theta_grad_temp = ((x_temp * theta_temp') - y_temp)' * x_temp;\n",
    "    theta_grad = sum(theta_grad_temp);\n",
    "    Theta_grad(i, :) = theta_grad;\n",
    "endfor"
   ]
  },
  {
   "cell_type": "code",
   "execution_count": 115,
   "metadata": {
    "ExecuteTime": {
     "end_time": "2019-03-22T20:12:08.204883Z",
     "start_time": "2019-03-22T20:12:08.170974Z"
    }
   },
   "outputs": [
    {
     "name": "stdout",
     "output_type": "stream",
     "text": [
      "Theta_grad =\n",
      "\n",
      "  -13.10030\n",
      "   -5.36068\n",
      "    0.00000\n",
      "    0.00000\n",
      "\n"
     ]
    }
   ],
   "source": [
    "Theta_grad"
   ]
  },
  {
   "cell_type": "markdown",
   "metadata": {},
   "source": [
    "### Gradient Descent 4ª Tentativa"
   ]
  },
  {
   "cell_type": "code",
   "execution_count": 116,
   "metadata": {
    "ExecuteTime": {
     "end_time": "2019-03-22T20:18:11.919684Z",
     "start_time": "2019-03-22T20:18:11.837933Z"
    }
   },
   "outputs": [],
   "source": [
    "% Carregando parâmetros\n",
    "num_users = 4; num_movies = 5; num_features = 3;\n",
    "X = X(1:num_movies, 1:num_features);\n",
    "Theta = Theta(1:num_users, 1:num_features);\n",
    "Y = Y(1:num_movies, 1:num_users);\n",
    "R = R(1:num_movies, 1:num_users);"
   ]
  },
  {
   "cell_type": "code",
   "execution_count": 119,
   "metadata": {
    "ExecuteTime": {
     "end_time": "2019-03-22T20:18:52.959836Z",
     "start_time": "2019-03-22T20:18:52.884039Z"
    }
   },
   "outputs": [
    {
     "name": "stdout",
     "output_type": "stream",
     "text": [
      "H =\n",
      "\n",
      "   1.287418   1.090653   0.749762   1.263181\n",
      "   1.009428   0.735125   0.288681   0.844126\n",
      "   1.083812   0.546449  -0.085715   0.588972\n",
      "   1.656187   0.808928   0.763394   0.770491\n",
      "   0.184102   0.540142  -0.149265   0.772545\n",
      "\n",
      "pred =\n",
      "\n",
      "  -3.712582  -2.909347   0.749762   1.263181\n",
      "  -1.990572   0.735125   0.288681   0.844126\n",
      "  -2.916188   0.546449  -0.085715   0.588972\n",
      "  -1.343813   0.808928   0.763394   0.770491\n",
      "  -2.815898   0.540142  -0.149265   0.772545\n",
      "\n",
      "aval =\n",
      "\n",
      "  -3.71258  -2.90935   0.00000   0.00000\n",
      "  -1.99057   0.00000   0.00000   0.00000\n",
      "  -2.91619   0.00000  -0.00000   0.00000\n",
      "  -1.34381   0.00000   0.00000   0.00000\n",
      "  -2.81590   0.00000  -0.00000   0.00000\n",
      "\n"
     ]
    }
   ],
   "source": [
    "% Formato totalmente vetorizado\n",
    "H = X * Theta'\n",
    "pred = (H - Y)\n",
    "aval = pred .* R"
   ]
  },
  {
   "cell_type": "code",
   "execution_count": 124,
   "metadata": {
    "ExecuteTime": {
     "end_time": "2019-03-22T20:20:34.471032Z",
     "start_time": "2019-03-22T20:20:34.395235Z"
    }
   },
   "outputs": [
    {
     "name": "stdout",
     "output_type": "stream",
     "text": [
      "X_grad =\n",
      "\n",
      "  -2.52899   7.57570  -1.89979\n",
      "  -0.56820   3.35265  -0.52340\n",
      "  -0.83241   4.91163  -0.76678\n",
      "  -0.38358   2.26334  -0.35334\n",
      "  -0.80378   4.74272  -0.74041\n",
      "\n",
      "Theta_grad =\n",
      "\n",
      "  -10.56802    4.62776   -7.16004\n",
      "   -3.05099    1.16441   -3.47411\n",
      "    0.00000    0.00000    0.00000\n",
      "    0.00000    0.00000    0.00000\n",
      "\n"
     ]
    }
   ],
   "source": [
    "% Gradiente X_grad\n",
    "H = X * Theta';\n",
    "X_grad = ((H - Y).*R) * Theta\n",
    "\n",
    "% Gradiente Theta_Grad\n",
    "Theta_grad = ((H - Y).*R)' * X"
   ]
  },
  {
   "cell_type": "code",
   "execution_count": 128,
   "metadata": {
    "ExecuteTime": {
     "end_time": "2019-03-22T20:26:29.649799Z",
     "start_time": "2019-03-22T20:26:29.609908Z"
    }
   },
   "outputs": [
    {
     "name": "stdout",
     "output_type": "stream",
     "text": [
      "ans =  5.3942\n"
     ]
    }
   ],
   "source": [
    "sum(sum(Theta.^2))"
   ]
  },
  {
   "cell_type": "markdown",
   "metadata": {},
   "source": [
    "## Regularização"
   ]
  },
  {
   "cell_type": "code",
   "execution_count": 131,
   "metadata": {
    "ExecuteTime": {
     "end_time": "2019-03-22T21:10:26.133193Z",
     "start_time": "2019-03-22T21:10:25.999401Z"
    }
   },
   "outputs": [],
   "source": [
    "% Implementação completa\n",
    "% Gradiente X_grad\n",
    "lambda = 0;\n",
    "H = X * Theta';\n",
    "X_grad = (((H - Y).*R) * Theta) + lambda*X;\n",
    "\n",
    "% Gradiente Theta_Grad\n",
    "Theta_grad = (((H - Y).*R)' * X) + lambda*Theta;\n",
    "\n",
    "\n",
    "% =============================================================\n",
    "\n",
    "grad = [X_grad(:); Theta_grad(:)];"
   ]
  },
  {
   "cell_type": "code",
   "execution_count": 132,
   "metadata": {
    "ExecuteTime": {
     "end_time": "2019-03-22T21:10:28.699849Z",
     "start_time": "2019-03-22T21:10:28.655966Z"
    }
   },
   "outputs": [
    {
     "name": "stdout",
     "output_type": "stream",
     "text": [
      "grad =\n",
      "\n",
      "   -2.52899\n",
      "   -0.56820\n",
      "   -0.83241\n",
      "   -0.38358\n",
      "   -0.80378\n",
      "    7.57570\n",
      "    3.35265\n",
      "    4.91163\n",
      "    2.26334\n",
      "    4.74272\n",
      "   -1.89979\n",
      "   -0.52340\n",
      "   -0.76678\n",
      "   -0.35334\n",
      "   -0.74041\n",
      "  -10.56802\n",
      "   -3.05099\n",
      "    0.00000\n",
      "    0.00000\n",
      "    4.62776\n",
      "    1.16441\n",
      "    0.00000\n",
      "    0.00000\n",
      "   -7.16004\n",
      "   -3.47411\n",
      "    0.00000\n",
      "    0.00000\n",
      "\n"
     ]
    }
   ],
   "source": [
    "grad"
   ]
  },
  {
   "cell_type": "code",
   "execution_count": null,
   "metadata": {},
   "outputs": [],
   "source": []
  }
 ],
 "metadata": {
  "kernelspec": {
   "display_name": "Octave",
   "language": "octave",
   "name": "octave"
  },
  "language_info": {
   "file_extension": ".m",
   "help_links": [
    {
     "text": "GNU Octave",
     "url": "https://www.gnu.org/software/octave/support.html"
    },
    {
     "text": "Octave Kernel",
     "url": "https://github.com/Calysto/octave_kernel"
    },
    {
     "text": "MetaKernel Magics",
     "url": "https://github.com/calysto/metakernel/blob/master/metakernel/magics/README.md"
    }
   ],
   "mimetype": "text/x-octave",
   "name": "octave",
   "version": "4.4.1"
  },
  "toc": {
   "base_numbering": 1,
   "nav_menu": {
    "height": "45px",
    "width": "218px"
   },
   "number_sections": true,
   "sideBar": true,
   "skip_h1_title": true,
   "title_cell": "Table of Contents",
   "title_sidebar": "Contents",
   "toc_cell": true,
   "toc_position": {},
   "toc_section_display": true,
   "toc_window_display": true
  }
 },
 "nbformat": 4,
 "nbformat_minor": 2
}
