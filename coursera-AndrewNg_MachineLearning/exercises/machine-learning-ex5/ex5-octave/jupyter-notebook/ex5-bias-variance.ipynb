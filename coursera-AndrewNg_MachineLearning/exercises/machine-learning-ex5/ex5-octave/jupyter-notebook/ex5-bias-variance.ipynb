{
 "cells": [
  {
   "cell_type": "markdown",
   "metadata": {
    "toc": true
   },
   "source": [
    "<h1>Table of Contents<span class=\"tocSkip\"></span></h1>\n",
    "<div class=\"toc\"><ul class=\"toc-item\"><li><span><a href=\"#Lendo-e-Visualizando-os-Dados\" data-toc-modified-id=\"Lendo-e-Visualizando-os-Dados-1\"><span class=\"toc-item-num\">1&nbsp;&nbsp;</span>Lendo e Visualizando os Dados</a></span></li><li><span><a href=\"#Regressão-Linear\" data-toc-modified-id=\"Regressão-Linear-2\"><span class=\"toc-item-num\">2&nbsp;&nbsp;</span>Regressão Linear</a></span></li><li><span><a href=\"#Curvas-de-Aprendizado\" data-toc-modified-id=\"Curvas-de-Aprendizado-3\"><span class=\"toc-item-num\">3&nbsp;&nbsp;</span>Curvas de Aprendizado</a></span></li><li><span><a href=\"#Regressão-Polinomial\" data-toc-modified-id=\"Regressão-Polinomial-4\"><span class=\"toc-item-num\">4&nbsp;&nbsp;</span>Regressão Polinomial</a></span></li><li><span><a href=\"#Curva-de-Validação\" data-toc-modified-id=\"Curva-de-Validação-5\"><span class=\"toc-item-num\">5&nbsp;&nbsp;</span>Curva de Validação</a></span></li></ul></div>"
   ]
  },
  {
   "cell_type": "markdown",
   "metadata": {},
   "source": [
    "Este notebook tem por objetivo o desenvolvimento das soluções requeridas pelo exercício 5 do curso de Machine Learning."
   ]
  },
  {
   "cell_type": "markdown",
   "metadata": {},
   "source": [
    "## Lendo e Visualizando os Dados"
   ]
  },
  {
   "cell_type": "code",
   "execution_count": 1,
   "metadata": {
    "ExecuteTime": {
     "end_time": "2019-01-26T12:34:45.668742Z",
     "start_time": "2019-01-26T12:34:45.474316Z"
    }
   },
   "outputs": [
    {
     "name": "stdout",
     "output_type": "stream",
     "text": [
      "dimensao_X =\n",
      "\n",
      "   12    1\n",
      "\n",
      "dimensao_y =\n",
      "\n",
      "   12    1\n",
      "\n",
      "dimensao_Xval =\n",
      "\n",
      "   21    1\n",
      "\n",
      "dimensao_yval =\n",
      "\n",
      "   21    1\n",
      "\n"
     ]
    }
   ],
   "source": [
    "% Lendo os dados\n",
    "load('ex5data1.mat');\n",
    "\n",
    "% Verificando output\n",
    "dimensao_X = size(X)\n",
    "dimensao_y = size(y)\n",
    "dimensao_Xval = size(Xval)\n",
    "dimensao_yval = size(yval)"
   ]
  },
  {
   "cell_type": "code",
   "execution_count": 2,
   "metadata": {
    "ExecuteTime": {
     "end_time": "2019-01-26T12:34:45.748039Z",
     "start_time": "2019-01-26T12:34:45.672731Z"
    }
   },
   "outputs": [
    {
     "name": "stdout",
     "output_type": "stream",
     "text": [
      "data_matrix =\n",
      "\n",
      "  -15.9368    2.1343\n",
      "  -29.1530    1.1733\n",
      "   36.1895   34.3591\n",
      "   37.4922   36.8380\n",
      "  -48.0588    2.8090\n",
      "   -8.9415    2.1211\n",
      "   15.3078   14.7103\n",
      "  -34.7063    2.6142\n",
      "    1.3892    3.7402\n",
      "  -44.3838    3.7317\n",
      "    7.0135    7.6277\n",
      "   22.7627   22.7524\n",
      "\n"
     ]
    }
   ],
   "source": [
    "% A quantidade de dados é baixa, é possível plotar a matriz completa\n",
    "data_matrix = [X y]"
   ]
  },
  {
   "cell_type": "code",
   "execution_count": 3,
   "metadata": {
    "ExecuteTime": {
     "end_time": "2019-01-26T12:34:50.315596Z",
     "start_time": "2019-01-26T12:34:45.752029Z"
    }
   },
   "outputs": [
    {
     "data": {
      "image/png": "[encoded data removed]",
      "text/plain": [
       "<IPython.core.display.Image object>"
      ]
     },
     "metadata": {},
     "output_type": "display_data"
    }
   ],
   "source": [
    "% Vamos plotar os dados para facilitar a visualização\n",
    "plot(X, y, 'rx', 'MarkerSize', 10, 'LineWidth', 1.5);\n",
    "xlabel('Change in water level (x)');\n",
    "ylabel('Water flowing out of the dam (y)');"
   ]
  },
  {
   "cell_type": "markdown",
   "metadata": {},
   "source": [
    "Muito interessante! O comportamento da quantidade de água que sai da barragem com relação a mudança no nível da água é, de certa forma, exponencial (ou pelo menos de um grau polinomial elevado)."
   ]
  },
  {
   "cell_type": "markdown",
   "metadata": {},
   "source": [
    "## Regressão Linear"
   ]
  },
  {
   "cell_type": "markdown",
   "metadata": {},
   "source": [
    "Para verificara os efeitos de ```bias``` e ```variância```, será aplicado um modelo de regressão linear regularizado. Para tal, precisamos calcular a função custo e o gradiente."
   ]
  },
  {
   "cell_type": "code",
   "execution_count": 4,
   "metadata": {
    "ExecuteTime": {
     "end_time": "2019-01-26T12:34:50.392423Z",
     "start_time": "2019-01-26T12:34:50.317589Z"
    }
   },
   "outputs": [
    {
     "name": "stdout",
     "output_type": "stream",
     "text": [
      "ans =\n",
      "\n",
      "    1.0000  -15.9368\n",
      "    1.0000  -29.1530\n",
      "    1.0000   36.1895\n",
      "    1.0000   37.4922\n",
      "    1.0000  -48.0588\n",
      "\n"
     ]
    }
   ],
   "source": [
    "% Adicionando termo bias nos dados X\n",
    "m = size(X, 1);\n",
    "X_train = [ones(m, 1) X];\n",
    "\n",
    "% Verificando\n",
    "X_train(1:5, :)"
   ]
  },
  {
   "cell_type": "code",
   "execution_count": 5,
   "metadata": {
    "ExecuteTime": {
     "end_time": "2019-01-26T12:34:50.439289Z",
     "start_time": "2019-01-26T12:34:50.395411Z"
    }
   },
   "outputs": [
    {
     "name": "stdout",
     "output_type": "stream",
     "text": [
      "theta =\n",
      "\n",
      "   1\n",
      "   1\n",
      "\n"
     ]
    }
   ],
   "source": [
    "% Inicializando theta\n",
    "theta = [1; 1]"
   ]
  },
  {
   "cell_type": "code",
   "execution_count": 6,
   "metadata": {
    "ExecuteTime": {
     "end_time": "2019-01-26T12:34:50.493121Z",
     "start_time": "2019-01-26T12:34:50.441259Z"
    }
   },
   "outputs": [
    {
     "name": "stdout",
     "output_type": "stream",
     "text": [
      "h_theta =\n",
      "\n",
      "  -14.9368\n",
      "  -28.1530\n",
      "   37.1895\n",
      "   38.4922\n",
      "  -47.0588\n",
      "   -7.9415\n",
      "   16.3078\n",
      "  -33.7063\n",
      "    2.3892\n",
      "  -43.3838\n",
      "    8.0135\n",
      "   23.7627\n",
      "\n"
     ]
    }
   ],
   "source": [
    "% Calculando hypothesis\n",
    "h_theta = X_train * theta"
   ]
  },
  {
   "cell_type": "code",
   "execution_count": 7,
   "metadata": {
    "ExecuteTime": {
     "end_time": "2019-01-26T12:34:50.567923Z",
     "start_time": "2019-01-26T12:34:50.495115Z"
    }
   },
   "outputs": [
    {
     "name": "stdout",
     "output_type": "stream",
     "text": [
      "lambda =  1\n",
      "J =\n",
      "\n",
      "    1754.52831\n",
      "    5166.16867\n",
      "      54.06832\n",
      "      22.41890\n",
      "   14926.78159\n",
      "     613.52711\n",
      "      21.31251\n",
      "    7921.05062\n",
      "      16.95149\n",
      "   13325.19443\n",
      "       6.89325\n",
      "      12.12449\n",
      "\n"
     ]
    }
   ],
   "source": [
    "% Calculando função custo\n",
    "lambda = 1\n",
    "J = (1/2*m) * (((h_theta - y).^2) + lambda * sum(theta(2:end).^2))"
   ]
  },
  {
   "cell_type": "markdown",
   "metadata": {},
   "source": [
    "O retorno da função custo J, acima, está incorreto. Esperamos um único valor de custo para o treinamento."
   ]
  },
  {
   "cell_type": "code",
   "execution_count": 8,
   "metadata": {
    "ExecuteTime": {
     "end_time": "2019-01-26T12:34:50.643717Z",
     "start_time": "2019-01-26T12:34:50.571910Z"
    }
   },
   "outputs": [
    {
     "name": "stdout",
     "output_type": "stream",
     "text": [
      "grad =\n",
      "\n",
      "   -15.303\n",
      "   598.251\n",
      "\n"
     ]
    }
   ],
   "source": [
    "% Calculando o gradiente\n",
    "grad = X_train' * (h_theta - y) / m + lambda*[0; theta(2:end)] / m;\n",
    "grad = grad(:)"
   ]
  },
  {
   "cell_type": "markdown",
   "metadata": {},
   "source": [
    "Os valores do gradiente indicam que, o primeiro elemento da matriz de parâmetros theta (1), está razoavelmente próximo do valor adequado para este elemento.\n",
    "\n",
    "O elevado valor obtido no segundo elemento da matriz de gradientes, indicam que o segundo elemento da matriz theta passou longe do valor considerado ideal."
   ]
  },
  {
   "cell_type": "code",
   "execution_count": 9,
   "metadata": {
    "ExecuteTime": {
     "end_time": "2019-01-26T12:34:50.867633Z",
     "start_time": "2019-01-26T12:34:50.648706Z"
    }
   },
   "outputs": [],
   "source": [
    "% Criando função para retornar J e grad\n",
    "function [J, grad] = linearRegCostFunction(X, y, theta, lambda)\n",
    "    m = length(y);\n",
    "    J = 0;\n",
    "    grad = zeros(size(theta));\n",
    "    \n",
    "    % Calculando hypothesis\n",
    "    %X_train = [ones(m, 1) X];\n",
    "    h_theta = X * theta;\n",
    "    \n",
    "    % Calculando função custo J\n",
    "    J = sum(((h_theta - y).^2) / (2 * m)) + ((lambda * sum(theta(2:end).^2)) / (2 * m));\n",
    "    \n",
    "    % Calculando gradiente\n",
    "    grad = X' * (h_theta - y) / m + lambda*[0; theta(2:end)] / m;\n",
    "    grad = grad(:);\n",
    "    \n",
    "endfunction"
   ]
  },
  {
   "cell_type": "code",
   "execution_count": 10,
   "metadata": {
    "ExecuteTime": {
     "end_time": "2019-01-26T12:34:50.901541Z",
     "start_time": "2019-01-26T12:34:50.868629Z"
    }
   },
   "outputs": [
    {
     "name": "stdout",
     "output_type": "stream",
     "text": [
      "J =  303.99\n"
     ]
    }
   ],
   "source": [
    "J = sum((h_theta - y).^2) / (2 * m) + lambda*sum(theta(2:end).^2) / (2 * m)"
   ]
  },
  {
   "cell_type": "code",
   "execution_count": 11,
   "metadata": {
    "ExecuteTime": {
     "end_time": "2019-01-26T12:34:50.999282Z",
     "start_time": "2019-01-26T12:34:50.904534Z"
    }
   },
   "outputs": [
    {
     "name": "stdout",
     "output_type": "stream",
     "text": [
      "J =  303.99\n",
      "grad =\n",
      "\n",
      "   -15.303\n",
      "   598.251\n",
      "\n"
     ]
    }
   ],
   "source": [
    "% Chamando função\n",
    "theta = [1; 1];\n",
    "lambda = 1;\n",
    "X_train = [ones(m, 1) X];\n",
    "\n",
    "[J, grad] = linearRegCostFunction(X_train, y, theta, lambda)"
   ]
  },
  {
   "cell_type": "markdown",
   "metadata": {},
   "source": [
    "## Curvas de Aprendizado"
   ]
  },
  {
   "cell_type": "markdown",
   "metadata": {},
   "source": [
    "Após a implementação da função custo J e dos gradientes referentes a cada um dos parâmetros theta, o próximo passo diz respeito a avaliação de um dos temas presentes neste capítulo: ```curvas de aprendizado```.\n",
    "\n",
    "Para tal, vamos desenvolver uma função que receba a função custo+gradiente e retorne o melhor set de parâmetros theta. Parece familiar? ```fmincg``` e ```fminunc``` fazem exatamente esse papel."
   ]
  },
  {
   "cell_type": "code",
   "execution_count": 12,
   "metadata": {
    "ExecuteTime": {
     "end_time": "2019-01-26T12:34:51.108089Z",
     "start_time": "2019-01-26T12:34:51.003271Z"
    }
   },
   "outputs": [],
   "source": [
    "% Definindo função para treinamento do modelo de Regressão Linear\n",
    "function [theta] = trainLinearReg(X, y, lambda)\n",
    "    initial_theta = zeros(size(X, 2), 1);\n",
    "    costFunction = @(t) linearRegCostFunction(X, y, t, lambda);\n",
    "    options = optimset('MaxIter', 200, 'GradObj', 'on');\n",
    "    \n",
    "    theta = fmincg(costFunction, initial_theta, options);\n",
    "endfunction"
   ]
  },
  {
   "cell_type": "code",
   "execution_count": 13,
   "metadata": {
    "ExecuteTime": {
     "end_time": "2019-01-26T12:34:51.226676Z",
     "start_time": "2019-01-26T12:34:51.108988Z"
    }
   },
   "outputs": [
    {
     "name": "stdout",
     "output_type": "stream",
     "text": [
      "Iteration     1 | Cost: 2.702393e-01\r",
      "Iteration     2 | Cost: 8.862434e-03\r",
      "Iteration     3 | Cost: 6.358831e-04\r",
      "Iteration     4 | Cost: 5.485874e-05\r",
      "Iteration     5 | Cost: 3.936451e-06\r",
      "Iteration     6 | Cost: 2.320768e-06\r",
      "Iteration     7 | Cost: 1.571973e-06\r",
      "Iteration     8 | Cost: 1.230692e-06\r",
      "Iteration     9 | Cost: 1.604397e-30\r",
      "Iteration    10 | Cost: 1.111022e-30\r\n"
     ]
    }
   ],
   "source": [
    "% Chamando função\n",
    "X_train = [ones(m, 1) X];\n",
    "[theta] = trainLinearReg([ones(1 , 1) X(1:1 , :)], y(1:1), lambda);"
   ]
  },
  {
   "cell_type": "code",
   "execution_count": 14,
   "metadata": {
    "ExecuteTime": {
     "end_time": "2019-01-26T12:34:51.268603Z",
     "start_time": "2019-01-26T12:34:51.227674Z"
    }
   },
   "outputs": [
    {
     "name": "stdout",
     "output_type": "stream",
     "text": [
      "ans =\n",
      "\n",
      "    1.0000  -15.9368\n",
      "\n"
     ]
    }
   ],
   "source": [
    "X_train(1:1, :)"
   ]
  },
  {
   "cell_type": "code",
   "execution_count": 15,
   "metadata": {
    "ExecuteTime": {
     "end_time": "2019-01-26T12:34:51.386856Z",
     "start_time": "2019-01-26T12:34:51.276544Z"
    }
   },
   "outputs": [
    {
     "name": "stdout",
     "output_type": "stream",
     "text": [
      "error: 'initial_theta' undefined near line 1 column 58\n"
     ]
    }
   ],
   "source": [
    "[J, grad] = linearRegCostFunction(X_train(1:5, :), y(1:5), initial_theta, lambda)"
   ]
  },
  {
   "cell_type": "code",
   "execution_count": 16,
   "metadata": {
    "ExecuteTime": {
     "end_time": "2019-01-26T12:34:51.433637Z",
     "start_time": "2019-01-26T12:34:51.388755Z"
    }
   },
   "outputs": [
    {
     "name": "stdout",
     "output_type": "stream",
     "text": [
      "theta =\n",
      "\n",
      "   2.1343e+00\n",
      "  -1.4907e-15\n",
      "\n"
     ]
    }
   ],
   "source": [
    "% Verificando parâmetros\n",
    "theta"
   ]
  },
  {
   "cell_type": "code",
   "execution_count": 17,
   "metadata": {
    "ExecuteTime": {
     "end_time": "2019-01-26T12:34:51.471566Z",
     "start_time": "2019-01-26T12:34:51.435663Z"
    }
   },
   "outputs": [
    {
     "name": "stdout",
     "output_type": "stream",
     "text": [
      "J =    1.1110e-30\n",
      "grad =\n",
      "\n",
      "   0.0000e+00\n",
      "  -1.4907e-15\n",
      "\n"
     ]
    }
   ],
   "source": [
    "[J, grad] = linearRegCostFunction(X_train(1:1, :), y(1:1), theta, lambda)"
   ]
  },
  {
   "cell_type": "code",
   "execution_count": 18,
   "metadata": {
    "ExecuteTime": {
     "end_time": "2019-01-26T12:34:53.006028Z",
     "start_time": "2019-01-26T12:34:51.473529Z"
    }
   },
   "outputs": [
    {
     "data": {
      "image/png": "[encoded data removed]",
      "text/plain": [
       "<IPython.core.display.Image object>"
      ]
     },
     "metadata": {},
     "output_type": "display_data"
    }
   ],
   "source": [
    "% Plotando curva obtida com regressão linear\n",
    "plot(X, y, 'rx', 'MarkerSize', 10, 'LineWidth', 1.5);\n",
    "xlabel('Change in water level (x)');\n",
    "ylabel('Water flowing out of the dam (y)');\n",
    "hold on;\n",
    "plot(X, X_train*theta, '--', 'LineWidth', 2)\n",
    "hold off;"
   ]
  },
  {
   "cell_type": "code",
   "execution_count": 19,
   "metadata": {
    "ExecuteTime": {
     "end_time": "2019-01-26T12:34:53.057882Z",
     "start_time": "2019-01-26T12:34:53.010012Z"
    }
   },
   "outputs": [
    {
     "name": "stdout",
     "output_type": "stream",
     "text": [
      "initial_theta =\n",
      "\n",
      "   0\n",
      "   0\n",
      "\n"
     ]
    }
   ],
   "source": [
    "initial_theta = zeros(size(X_train(1:4, :), 2), 1)"
   ]
  },
  {
   "cell_type": "code",
   "execution_count": 20,
   "metadata": {
    "ExecuteTime": {
     "end_time": "2019-01-26T12:34:54.097538Z",
     "start_time": "2019-01-26T12:34:53.069861Z"
    }
   },
   "outputs": [
    {
     "name": "stdout",
     "output_type": "stream",
     "text": [
      "warning: division by zero.944305e-31\n",
      "warning: called from\n",
      "    fmincg at line 102 column 12\n",
      "    trainLinearReg at line 6 column 11\n",
      "warning: division by zero.000000e+00\n",
      "warning: called from\n",
      "    fmincg at line 124 column 8\n",
      "    trainLinearReg at line 6 column 11\n",
      "warning: division by zero\n",
      "warning: called from\n",
      "    fmincg at line 124 column 8\n",
      "    trainLinearReg at line 6 column 11\n",
      "warning: division by zero\n",
      "warning: called from\n",
      "    fmincg at line 124 column 8\n",
      "    trainLinearReg at line 6 column 11\n",
      "warning: division by zero\n",
      "warning: called from\n",
      "    fmincg at line 124 column 8\n",
      "    trainLinearReg at line 6 column 11\n",
      "warning: division by zero\n",
      "warning: called from\n",
      "    fmincg at line 124 column 8\n",
      "    trainLinearReg at line 6 column 11\n",
      "warning: division by zero\n",
      "warning: called from\n",
      "    fmincg at line 124 column 8\n",
      "    trainLinearReg at line 6 column 11\n",
      "warning: division by zero\n",
      "warning: called from\n",
      "    fmincg at line 124 column 8\n",
      "    trainLinearReg at line 6 column 11\n",
      "warning: division by zero\n",
      "warning: called from\n",
      "    fmincg at line 124 column 8\n",
      "    trainLinearReg at line 6 column 11\n",
      "warning: division by zero\n",
      "warning: called from\n",
      "    fmincg at line 124 column 8\n",
      "    trainLinearReg at line 6 column 11\n",
      "warning: division by zero\n",
      "warning: called from\n",
      "    fmincg at line 124 column 8\n",
      "    trainLinearReg at line 6 column 11\n",
      "warning: division by zero\n",
      "warning: called from\n",
      "    fmincg at line 124 column 8\n",
      "    trainLinearReg at line 6 column 11\n",
      "warning: division by zero\n",
      "warning: called from\n",
      "    fmincg at line 124 column 8\n",
      "    trainLinearReg at line 6 column 11\n",
      "warning: division by zero\n",
      "warning: called from\n",
      "    fmincg at line 124 column 8\n",
      "    trainLinearReg at line 6 column 11\n",
      "warning: division by zero\n",
      "warning: called from\n",
      "    fmincg at line 124 column 8\n",
      "    trainLinearReg at line 6 column 11\n",
      "warning: division by zero\n",
      "warning: called from\n",
      "    fmincg at line 124 column 8\n",
      "    trainLinearReg at line 6 column 11\n",
      "warning: division by zero\n",
      "warning: called from\n",
      "    fmincg at line 124 column 8\n",
      "    trainLinearReg at line 6 column 11\n",
      "warning: division by zero\n",
      "warning: called from\n",
      "    fmincg at line 124 column 8\n",
      "    trainLinearReg at line 6 column 11\n",
      "warning: division by zero\n",
      "warning: called from\n",
      "    fmincg at line 124 column 8\n",
      "    trainLinearReg at line 6 column 11\n",
      "warning: division by zero\n",
      "warning: called from\n",
      "    fmincg at line 124 column 8\n",
      "    trainLinearReg at line 6 column 11\n",
      "warning: division by zero\n",
      "warning: called from\n",
      "    fmincg at line 124 column 8\n",
      "    trainLinearReg at line 6 column 11\n",
      "warning: division by zero\n",
      "warning: called from\n",
      "    fmincg at line 124 column 8\n",
      "    trainLinearReg at line 6 column 11\n",
      "warning: division by zero\n",
      "warning: called from\n",
      "    fmincg at line 124 column 8\n",
      "    trainLinearReg at line 6 column 11\n",
      "warning: division by zero\n",
      "warning: called from\n",
      "    fmincg at line 124 column 8\n",
      "    trainLinearReg at line 6 column 11\n",
      "warning: division by zero\n",
      "warning: called from\n",
      "    fmincg at line 124 column 8\n",
      "    trainLinearReg at line 6 column 11\n",
      "warning: division by zero\n",
      "warning: called from\n",
      "    fmincg at line 124 column 8\n",
      "    trainLinearReg at line 6 column 11\n",
      "warning: division by zero\n",
      "warning: called from\n",
      "    fmincg at line 124 column 8\n",
      "    trainLinearReg at line 6 column 11\n",
      "warning: division by zero\n",
      "warning: called from\n",
      "    fmincg at line 124 column 8\n",
      "    trainLinearReg at line 6 column 11\n",
      "warning: division by zero\n",
      "warning: called from\n",
      "    fmincg at line 124 column 8\n",
      "    trainLinearReg at line 6 column 11\n",
      "warning: division by zero\n",
      "warning: called from\n",
      "    fmincg at line 124 column 8\n",
      "    trainLinearReg at line 6 column 11\n",
      "warning: division by zero\n",
      "warning: called from\n",
      "    fmincg at line 124 column 8\n",
      "    trainLinearReg at line 6 column 11\n",
      "warning: division by zero\n",
      "warning: called from\n",
      "    fmincg at line 124 column 8\n",
      "    trainLinearReg at line 6 column 11\n",
      "warning: division by zero\n",
      "warning: called from\n",
      "    fmincg at line 124 column 8\n",
      "    trainLinearReg at line 6 column 11\n",
      "warning: division by zero\n",
      "warning: called from\n",
      "    fmincg at line 124 column 8\n",
      "    trainLinearReg at line 6 column 11\n",
      "warning: division by zero\n",
      "warning: called from\n",
      "    fmincg at line 124 column 8\n",
      "    trainLinearReg at line 6 column 11\n",
      "warning: division by zero\n",
      "warning: called from\n",
      "    fmincg at line 124 column 8\n",
      "    trainLinearReg at line 6 column 11\n",
      "warning: division by zero\n",
      "warning: called from\n",
      "    fmincg at line 124 column 8\n",
      "    trainLinearReg at line 6 column 11\n",
      "warning: division by zero\n",
      "warning: called from\n",
      "    fmincg at line 124 column 8\n",
      "    trainLinearReg at line 6 column 11\n",
      "warning: division by zero\n",
      "warning: called from\n",
      "    fmincg at line 124 column 8\n",
      "    trainLinearReg at line 6 column 11\n",
      "warning: division by zero\n",
      "warning: called from\n",
      "    fmincg at line 124 column 8\n",
      "    trainLinearReg at line 6 column 11\n",
      "warning: division by zero\n",
      "warning: called from\n",
      "    fmincg at line 124 column 8\n",
      "    trainLinearReg at line 6 column 11\n",
      "\n",
      "Iteration     3 | Cost: 9.860761e-32\n",
      "Iteration     4 | Cost: 3.286595e+00\n",
      "Iteration    24 | Cost: 2.842678e+00\n",
      "Iteration    23 | Cost: 1.315405e+01\n",
      "Iteration    23 | Cost: 1.944396e+01\n",
      "Iteration    13 | Cost: 2.009852e+01\n",
      "Iteration    18 | Cost: 1.817286e+01\n",
      "Iteration    10 | Cost: 2.260941e+01\n",
      "Iteration    16 | Cost: 2.326146e+01\n",
      "Iteration    13 | Cost: 2.431725e+01\n",
      "Iteration     8 | Cost: 2.237391e+01\n"
     ]
    }
   ],
   "source": [
    "% Testando preparação para curva de aprendizado\n",
    "m = size(X, 1);\n",
    "m_val = size(Xval, 1);\n",
    "X_train = [ones(m, 1) X];\n",
    "X_val = [ones(m_val, 1) Xval];\n",
    "error_train = zeros(m, 1);\n",
    "error_val = zeros(m, 1);\n",
    "\n",
    "for i=1:m\n",
    "    % Calculando erro para dados de treino\n",
    "    [theta] = trainLinearReg(X_train(1:i, :), y(1:i), 0);\n",
    "    [J, grad] = linearRegCostFunction(X_train(1:i, :), y(1:i), theta, 0);\n",
    "    error_train(i) = J;\n",
    "    % Calculando erro para dados de validação\n",
    "    [J, grad] = linearRegCostFunction(X_val, yval, theta, lambda);\n",
    "    error_val(i) = J;\n",
    "endfor"
   ]
  },
  {
   "cell_type": "code",
   "execution_count": 21,
   "metadata": {
    "ExecuteTime": {
     "end_time": "2019-01-26T12:34:54.158870Z",
     "start_time": "2019-01-26T12:34:54.101503Z"
    }
   },
   "outputs": [
    {
     "name": "stdout",
     "output_type": "stream",
     "text": [
      "error_train =\n",
      "\n",
      "    0.00000\n",
      "    0.00000\n",
      "    3.28660\n",
      "    2.84268\n",
      "   13.15405\n",
      "   19.44396\n",
      "   20.09852\n",
      "   18.17286\n",
      "   22.60941\n",
      "   23.26146\n",
      "   24.31725\n",
      "   22.37391\n",
      "\n",
      "error_val =\n",
      "\n",
      "   205.122\n",
      "   110.300\n",
      "    45.017\n",
      "    48.376\n",
      "    35.870\n",
      "    33.835\n",
      "    31.976\n",
      "    30.867\n",
      "    31.140\n",
      "    28.940\n",
      "    29.555\n",
      "    29.437\n",
      "\n"
     ]
    }
   ],
   "source": [
    "error_train\n",
    "error_val"
   ]
  },
  {
   "cell_type": "code",
   "execution_count": 23,
   "metadata": {
    "ExecuteTime": {
     "end_time": "2019-01-26T12:36:27.608834Z",
     "start_time": "2019-01-26T12:36:26.371528Z"
    }
   },
   "outputs": [
    {
     "data": {
      "image/png": "[encoded data removed]",
      "text/plain": [
       "<IPython.core.display.Image object>"
      ]
     },
     "metadata": {},
     "output_type": "display_data"
    }
   ],
   "source": [
    "% Plotando curvas de aprendizado para dados de treino e validação\n",
    "\n",
    "plot(1:m, error_train, 1:m, error_val);\n",
    "title('Learning curve for linear regression')\n",
    "legend('Train', 'Cross Validation')\n",
    "xlabel('Number of training examples')\n",
    "ylabel('Error')\n",
    "axis([0 13 0 150])"
   ]
  },
  {
   "cell_type": "markdown",
   "metadata": {},
   "source": [
    "## Regressão Polinomial"
   ]
  },
  {
   "cell_type": "markdown",
   "metadata": {},
   "source": [
    "Após verificar que o modelo sofre de um ```bias alto```, vamos aplicar um procedimento para aumentar o grau polinomial do algoritmo, fazendo assim com que este se encaixe melhor nos dados."
   ]
  },
  {
   "cell_type": "code",
   "execution_count": 25,
   "metadata": {
    "ExecuteTime": {
     "end_time": "2019-01-26T12:37:45.059778Z",
     "start_time": "2019-01-26T12:37:44.994952Z"
    }
   },
   "outputs": [
    {
     "name": "stdout",
     "output_type": "stream",
     "text": [
      "X =\n",
      "\n",
      "  -15.9368\n",
      "  -29.1530\n",
      "   36.1895\n",
      "   37.4922\n",
      "  -48.0588\n",
      "   -8.9415\n",
      "   15.3078\n",
      "  -34.7063\n",
      "    1.3892\n",
      "  -44.3838\n",
      "    7.0135\n",
      "   22.7627\n",
      "\n",
      "X_train =\n",
      "\n",
      "    1.0000  -15.9368\n",
      "    1.0000  -29.1530\n",
      "    1.0000   36.1895\n",
      "    1.0000   37.4922\n",
      "    1.0000  -48.0588\n",
      "    1.0000   -8.9415\n",
      "    1.0000   15.3078\n",
      "    1.0000  -34.7063\n",
      "    1.0000    1.3892\n",
      "    1.0000  -44.3838\n",
      "    1.0000    7.0135\n",
      "    1.0000   22.7627\n",
      "\n"
     ]
    }
   ],
   "source": [
    "% Testando\n",
    "X\n",
    "X_train"
   ]
  },
  {
   "cell_type": "code",
   "execution_count": 26,
   "metadata": {
    "ExecuteTime": {
     "end_time": "2019-01-26T12:38:39.017100Z",
     "start_time": "2019-01-26T12:38:38.983187Z"
    }
   },
   "outputs": [
    {
     "name": "stdout",
     "output_type": "stream",
     "text": [
      "X_poly =\n",
      "\n",
      "   0   0\n",
      "   0   0\n",
      "   0   0\n",
      "   0   0\n",
      "   0   0\n",
      "   0   0\n",
      "   0   0\n",
      "   0   0\n",
      "   0   0\n",
      "   0   0\n",
      "   0   0\n",
      "   0   0\n",
      "\n"
     ]
    }
   ],
   "source": [
    "X_poly = zeros(numel(X), 2)"
   ]
  },
  {
   "cell_type": "code",
   "execution_count": 28,
   "metadata": {
    "ExecuteTime": {
     "end_time": "2019-01-26T12:39:45.819456Z",
     "start_time": "2019-01-26T12:39:45.750207Z"
    }
   },
   "outputs": [
    {
     "name": "stdout",
     "output_type": "stream",
     "text": [
      "X_poly =\n",
      "\n",
      "    -15.9368    253.9803\n",
      "    -29.1530    849.8962\n",
      "     36.1895   1309.6834\n",
      "     37.4922   1405.6641\n",
      "    -48.0588   2309.6511\n",
      "     -8.9415     79.9497\n",
      "     15.3078    234.3285\n",
      "    -34.7063   1204.5249\n",
      "      1.3892      1.9297\n",
      "    -44.3838   1969.9181\n",
      "      7.0135     49.1892\n",
      "     22.7627    518.1427\n",
      "\n"
     ]
    }
   ],
   "source": [
    "X_2 = X .^ 2;\n",
    "X_poly(:, 1) = X;\n",
    "X_poly(:, 2) = X_2;\n",
    "X_poly"
   ]
  },
  {
   "cell_type": "code",
   "execution_count": 29,
   "metadata": {
    "ExecuteTime": {
     "end_time": "2019-01-26T12:41:30.530820Z",
     "start_time": "2019-01-26T12:41:30.413085Z"
    }
   },
   "outputs": [
    {
     "name": "stdout",
     "output_type": "stream",
     "text": [
      "X_poly =\n",
      "\n",
      "   0   0   0\n",
      "   0   0   0\n",
      "   0   0   0\n",
      "   0   0   0\n",
      "   0   0   0\n",
      "   0   0   0\n",
      "   0   0   0\n",
      "   0   0   0\n",
      "   0   0   0\n",
      "   0   0   0\n",
      "   0   0   0\n",
      "   0   0   0\n",
      "\n",
      "X_poly =\n",
      "\n",
      "      -15.93676      253.98026    -4047.62197\n",
      "      -29.15298      849.89620   -24777.00617\n",
      "       36.18955     1309.68343    47396.85217\n",
      "       37.49219     1405.66411    52701.42217\n",
      "      -48.05883     2309.65109  -110999.12775\n",
      "       -8.94146       79.94967     -714.86661\n",
      "       15.30779      234.32852     3587.05250\n",
      "      -34.70627     1204.52489   -41804.56089\n",
      "        1.38915        1.92975        2.68072\n",
      "      -44.38376     1969.91814   -87432.37359\n",
      "        7.01350       49.18921      344.98864\n",
      "       22.76275      518.14274    11794.35306\n",
      "\n"
     ]
    }
   ],
   "source": [
    "% Testando dentro de um laço for\n",
    "p = 3;\n",
    "X_poly = zeros(numel(X), p)\n",
    "for i = 1:p\n",
    "    X_poly(:, i) = X.^i;\n",
    "endfor\n",
    "\n",
    "X_poly"
   ]
  },
  {
   "cell_type": "markdown",
   "metadata": {},
   "source": [
    "Aparentemente, deu tudo certo. Encapsulando dentro de uma função"
   ]
  },
  {
   "cell_type": "code",
   "execution_count": 30,
   "metadata": {
    "ExecuteTime": {
     "end_time": "2019-01-26T12:45:12.030690Z",
     "start_time": "2019-01-26T12:45:11.896950Z"
    }
   },
   "outputs": [],
   "source": [
    "function[X_poly] = polyFeatures(X, p)\n",
    "    % Retorna uma matriz onde cada coluna representa os dados de treinamento\n",
    "    % elevados por um grau polinomial maior, limitado pelo argumento p\n",
    "    \n",
    "    % Cria matriz de zeros com \"p\" colunas\n",
    "    X_poly = zeros(numel(X), p);\n",
    "    \n",
    "    % Popula a matriz criada com os cálculos polinomiais\n",
    "    for i = 1:p\n",
    "        X_poly(:, i) = X.^i;\n",
    "    endfor\n",
    "    \n",
    "endfunction"
   ]
  },
  {
   "cell_type": "code",
   "execution_count": 31,
   "metadata": {
    "ExecuteTime": {
     "end_time": "2019-01-26T12:45:31.105162Z",
     "start_time": "2019-01-26T12:45:31.070255Z"
    }
   },
   "outputs": [
    {
     "name": "stdout",
     "output_type": "stream",
     "text": [
      "X_poly =\n",
      "\n",
      "       -15.93676       253.98026     -4047.62197     64505.97238\n",
      "       -29.15298       849.89620    -24777.00617    722323.54608\n",
      "        36.18955      1309.68343     47396.85217   1715270.68630\n",
      "        37.49219      1405.66411     52701.42217   1975891.59278\n",
      "       -48.05883      2309.65109   -110999.12775   5334488.14992\n",
      "        -8.94146        79.94967      -714.86661      6391.94974\n",
      "        15.30779       234.32852      3587.05250     54909.85676\n",
      "       -34.70627      1204.52489    -41804.56089   1450880.20236\n",
      "         1.38915         1.92975         2.68072         3.72393\n",
      "       -44.38376      1969.91814    -87432.37359   3880577.47268\n",
      "         7.01350        49.18921       344.98864      2419.57852\n",
      "        22.76275       518.14274     11794.35306    268471.89734\n",
      "\n"
     ]
    }
   ],
   "source": [
    "X_poly = polyFeatures(X, 4)"
   ]
  },
  {
   "cell_type": "markdown",
   "metadata": {},
   "source": [
    "No exercício, o grau polinomial utilizado será 8."
   ]
  },
  {
   "cell_type": "code",
   "execution_count": 44,
   "metadata": {
    "ExecuteTime": {
     "end_time": "2019-01-26T13:10:13.257069Z",
     "start_time": "2019-01-26T13:10:13.215181Z"
    }
   },
   "outputs": [
    {
     "name": "stdout",
     "output_type": "stream",
     "text": [
      "X_poly =\n",
      "\n",
      " Columns 1 through 6:\n",
      "\n",
      "  -1.5937e+01   2.5398e+02  -4.0476e+03   6.4506e+04  -1.0280e+06   1.6383e+07\n",
      "  -2.9153e+01   8.4990e+02  -2.4777e+04   7.2232e+05  -2.1058e+07   6.1390e+08\n",
      "   3.6190e+01   1.3097e+03   4.7397e+04   1.7153e+06   6.2075e+07   2.2465e+09\n",
      "   3.7492e+01   1.4057e+03   5.2701e+04   1.9759e+06   7.4080e+07   2.7774e+09\n",
      "  -4.8059e+01   2.3097e+03  -1.1100e+05   5.3345e+06  -2.5637e+08   1.2321e+10\n",
      "  -8.9415e+00   7.9950e+01  -7.1487e+02   6.3919e+03  -5.7153e+04   5.1103e+05\n",
      "   1.5308e+01   2.3433e+02   3.5871e+03   5.4910e+04   8.4055e+05   1.2867e+07\n",
      "  -3.4706e+01   1.2045e+03  -4.1805e+04   1.4509e+06  -5.0355e+07   1.7476e+09\n",
      "   1.3892e+00   1.9297e+00   2.6807e+00   3.7239e+00   5.1731e+00   7.1863e+00\n",
      "  -4.4384e+01   1.9699e+03  -8.7432e+04   3.8806e+06  -1.7223e+08   7.6444e+09\n",
      "   7.0135e+00   4.9189e+01   3.4499e+02   2.4196e+03   1.6970e+04   1.1902e+05\n",
      "   2.2763e+01   5.1814e+02   1.1794e+04   2.6847e+05   6.1112e+06   1.3911e+08\n",
      "\n",
      " Columns 7 and 8:\n",
      "\n",
      "  -2.6110e+08   4.1610e+09\n",
      "  -1.7897e+10   5.2175e+11\n",
      "   8.1298e+10   2.9422e+12\n",
      "   1.0413e+11   3.9041e+12\n",
      "  -5.9212e+11   2.8457e+13\n",
      "  -4.5694e+06   4.0857e+07\n",
      "   1.9696e+08   3.0151e+09\n",
      "  -6.0653e+10   2.1051e+12\n",
      "   9.9828e+00   1.3868e+01\n",
      "  -3.3929e+11   1.5059e+13\n",
      "   8.3473e+05   5.8544e+06\n",
      "   3.1665e+09   7.2077e+10\n",
      "\n"
     ]
    }
   ],
   "source": [
    "X_poly = polyFeatures(X, 8)"
   ]
  },
  {
   "cell_type": "code",
   "execution_count": 45,
   "metadata": {
    "ExecuteTime": {
     "end_time": "2019-01-26T13:10:36.152489Z",
     "start_time": "2019-01-26T13:10:35.988840Z"
    }
   },
   "outputs": [],
   "source": [
    "% Normalizando os dados\n",
    "function [X_norm, mu, sigma] = featureNormalize(X)\n",
    "%FEATURENORMALIZE Normalizes the features in X \n",
    "%   FEATURENORMALIZE(X) returns a normalized version of X where\n",
    "%   the mean value of each feature is 0 and the standard deviation\n",
    "%   is 1. This is often a good preprocessing step to do when\n",
    "%   working with learning algorithms.\n",
    "\n",
    "mu = mean(X);\n",
    "X_norm = bsxfun(@minus, X, mu);\n",
    "\n",
    "sigma = std(X_norm);\n",
    "X_norm = bsxfun(@rdivide, X_norm, sigma);\n",
    "\n",
    "\n",
    "% ============================================================\n",
    "\n",
    "end"
   ]
  },
  {
   "cell_type": "code",
   "execution_count": 48,
   "metadata": {
    "ExecuteTime": {
     "end_time": "2019-01-26T13:11:55.343407Z",
     "start_time": "2019-01-26T13:11:55.167789Z"
    }
   },
   "outputs": [],
   "source": [
    "% Map X onto Polynomial Features and Normalize\n",
    "p = 8;\n",
    "X_poly = polyFeatures(X, p);\n",
    "[X_poly, mu, sigma] = featureNormalize(X_poly);  % Normalize\n",
    "X_poly = [ones(m, 1), X_poly];                   % Add Ones\n",
    "\n",
    "% Map X_poly_test and normalize (using mu and sigma)\n",
    "X_poly_test = polyFeatures(Xtest, p);\n",
    "X_poly_test = bsxfun(@minus, X_poly_test, mu);\n",
    "X_poly_test = bsxfun(@rdivide, X_poly_test, sigma);\n",
    "X_poly_test = [ones(size(X_poly_test, 1), 1), X_poly_test];         % Add Ones\n",
    "\n",
    "% Map X_poly_val and normalize (using mu and sigma)\n",
    "X_poly_val = polyFeatures(Xval, p);\n",
    "X_poly_val = bsxfun(@minus, X_poly_val, mu);\n",
    "X_poly_val = bsxfun(@rdivide, X_poly_val, sigma);\n",
    "X_poly_val = [ones(size(X_poly_val, 1), 1), X_poly_val];           % Add Ones"
   ]
  },
  {
   "cell_type": "code",
   "execution_count": 49,
   "metadata": {
    "ExecuteTime": {
     "end_time": "2019-01-26T13:11:55.965416Z",
     "start_time": "2019-01-26T13:11:55.894605Z"
    }
   },
   "outputs": [
    {
     "name": "stdout",
     "output_type": "stream",
     "text": [
      "ans =\n",
      "\n",
      "   12    9\n",
      "\n",
      "ans =\n",
      "\n",
      "   21    9\n",
      "\n",
      "ans =\n",
      "\n",
      "   21    9\n",
      "\n"
     ]
    }
   ],
   "source": [
    "size(X_poly)\n",
    "size(X_poly_test)\n",
    "size(X_poly_val)"
   ]
  },
  {
   "cell_type": "markdown",
   "metadata": {},
   "source": [
    "## Curva de Validação"
   ]
  },
  {
   "cell_type": "markdown",
   "metadata": {},
   "source": [
    "Nesta etapa, vamos aplicar diferentes valores para o parâmetro de regularização ```lambda``` e verificar, através dos erros de treino e de validação, qual o comportamento do algoritmo dado o nível de regularização aplicado."
   ]
  },
  {
   "cell_type": "code",
   "execution_count": 32,
   "metadata": {
    "ExecuteTime": {
     "end_time": "2019-01-26T13:00:59.875326Z",
     "start_time": "2019-01-26T13:00:59.840421Z"
    }
   },
   "outputs": [
    {
     "name": "stdout",
     "output_type": "stream",
     "text": [
      "lambda_vec =\n",
      "\n",
      "    0.00000\n",
      "    0.00100\n",
      "    0.00300\n",
      "    0.01000\n",
      "    0.03000\n",
      "    0.10000\n",
      "    0.30000\n",
      "    1.00000\n",
      "    3.00000\n",
      "   10.00000\n",
      "\n"
     ]
    }
   ],
   "source": [
    "lambda_vec = [0 0.001 0.003 0.01 0.03 0.1 0.3 1 3 10]'"
   ]
  },
  {
   "cell_type": "code",
   "execution_count": 33,
   "metadata": {
    "ExecuteTime": {
     "end_time": "2019-01-26T13:01:14.996589Z",
     "start_time": "2019-01-26T13:01:14.955668Z"
    }
   },
   "outputs": [
    {
     "name": "stdout",
     "output_type": "stream",
     "text": [
      "ans =  10\n"
     ]
    }
   ],
   "source": [
    "% Retornando a quantidade de elementos\n",
    "length(lambda_vec)"
   ]
  },
  {
   "cell_type": "code",
   "execution_count": 39,
   "metadata": {
    "ExecuteTime": {
     "end_time": "2019-01-26T13:07:04.452109Z",
     "start_time": "2019-01-26T13:07:04.417203Z"
    }
   },
   "outputs": [
    {
     "name": "stdout",
     "output_type": "stream",
     "text": [
      "lambda_test =\n",
      "\n",
      "    0.00000\n",
      "    0.00100\n",
      "    0.00300\n",
      "    0.01000\n",
      "    0.03000\n",
      "    0.10000\n",
      "    0.30000\n",
      "    1.00000\n",
      "    3.00000\n",
      "   10.00000\n",
      "\n"
     ]
    }
   ],
   "source": [
    "lambda_test = lambda_vec(1:10)"
   ]
  },
  {
   "cell_type": "code",
   "execution_count": 53,
   "metadata": {
    "ExecuteTime": {
     "end_time": "2019-01-26T13:13:10.394222Z",
     "start_time": "2019-01-26T13:13:08.455596Z"
    }
   },
   "outputs": [
    {
     "name": "stdout",
     "output_type": "stream",
     "text": [
      "ans = 0\n",
      "Iteration   200 | Cost: 9.253165e-02\n",
      "theta =\n",
      "\n",
      "   11.2172\n",
      "   10.6671\n",
      "   16.8285\n",
      "   15.7218\n",
      "  -21.5940\n",
      "  -26.3275\n",
      "   18.1849\n",
      "   13.1727\n",
      "   -6.4784\n",
      "\n",
      "ans =  0.0010000\n",
      "Iteration   200 | Cost: 1.912170e-01\n",
      "theta =\n",
      "\n",
      "   11.2169\n",
      "   11.7469\n",
      "   14.6403\n",
      "   10.1398\n",
      "  -11.3199\n",
      "  -13.4429\n",
      "    5.7428\n",
      "    2.5809\n",
      "   -4.3755\n",
      "\n",
      "ans =  0.0030000\n",
      "Iteration   200 | Cost: 2.543586e-01\n",
      "theta =\n",
      "\n",
      "   11.2176\n",
      "   11.8559\n",
      "   13.2700\n",
      "    8.0185\n",
      "   -6.6671\n",
      "   -7.9874\n",
      "    1.0884\n",
      "   -1.3952\n",
      "   -3.5183\n",
      "\n",
      "ans =  0.010000\n",
      "Iteration   200 | Cost: 3.850698e-01\n",
      "theta =\n",
      "\n",
      "   11.21750\n",
      "   12.22260\n",
      "   12.37077\n",
      "    5.74069\n",
      "   -4.55728\n",
      "   -4.90694\n",
      "   -0.79798\n",
      "   -2.11371\n",
      "   -2.40751\n",
      "\n",
      "ans =  0.030000\n",
      "Iteration   200 | Cost: 6.692749e-01\n",
      "theta =\n",
      "\n",
      "   11.2176\n",
      "   12.4497\n",
      "   11.0209\n",
      "    3.6185\n",
      "   -2.2778\n",
      "   -2.3548\n",
      "   -1.7553\n",
      "   -1.9808\n",
      "   -1.6267\n",
      "\n",
      "ans =  0.10000\n",
      "Iteration   187 | Cost: 1.443470e+00\n",
      "theta =\n",
      "\n",
      "   11.217589\n",
      "   12.033175\n",
      "    9.024657\n",
      "    2.463607\n",
      "   -0.031106\n",
      "   -0.751660\n",
      "   -1.113132\n",
      "   -0.718906\n",
      "   -1.250419\n",
      "\n",
      "ans =  0.30000\n",
      "Iteration   111 | Cost: 3.101591e+00\n",
      "theta =\n",
      "\n",
      "   11.217589\n",
      "   10.684352\n",
      "    7.061770\n",
      "    2.721528\n",
      "    1.483061\n",
      "    0.534472\n",
      "    0.028355\n",
      "    0.372074\n",
      "   -0.575717\n",
      "\n",
      "ans =  1\n",
      "Iteration    64 | Cost: 7.268148e+00\n",
      "theta =\n",
      "\n",
      "   11.21759\n",
      "    8.58518\n",
      "    5.21269\n",
      "    3.59111\n",
      "    2.28295\n",
      "    1.76030\n",
      "    1.06813\n",
      "    1.10763\n",
      "    0.39399\n",
      "\n",
      "ans =  3\n",
      "Iteration    36 | Cost: 1.586769e+01\n",
      "theta =\n",
      "\n",
      "   11.21759\n",
      "    6.65683\n",
      "    3.89421\n",
      "    3.75900\n",
      "    2.25316\n",
      "    2.20638\n",
      "    1.33199\n",
      "    1.35014\n",
      "    0.76190\n",
      "\n",
      "ans =  10\n",
      "Iteration    19 | Cost: 3.337220e+01\n",
      "theta =\n",
      "\n",
      "   11.21759\n",
      "    4.36657\n",
      "    2.39947\n",
      "    2.90177\n",
      "    1.50155\n",
      "    1.86592\n",
      "    0.89814\n",
      "    1.19375\n",
      "    0.50923\n",
      "\n"
     ]
    }
   ],
   "source": [
    "error_train_test = zeros(m, 1);\n",
    "error_val_test = zeros(m, 1);\n",
    "\n",
    "for i = 1:length(lambda_test)\n",
    "    % Treinando algoritmo com diferentes valores para lambda\n",
    "    lambda_test(i)\n",
    "    theta = trainLinearReg(X_poly, y, lambda_test(i))\n",
    "    [J, grad] = linearRegCostFunction(X_poly, y, theta, lambda_test(i));\n",
    "    error_train_test(i) = J;\n",
    "    \n",
    "    % Calculando erro para dados de validação\n",
    "    [J, grad] = linearRegCostFunction(X_poly_val, yval, theta, lambda_test(i));\n",
    "    error_val_test(i) = J;\n",
    "endfor"
   ]
  },
  {
   "cell_type": "code",
   "execution_count": 54,
   "metadata": {
    "ExecuteTime": {
     "end_time": "2019-01-26T13:13:22.622979Z",
     "start_time": "2019-01-26T13:13:22.588069Z"
    }
   },
   "outputs": [
    {
     "name": "stdout",
     "output_type": "stream",
     "text": [
      "error_train_test =\n",
      "\n",
      "    0.09253\n",
      "    0.19122\n",
      "    0.25436\n",
      "    0.38507\n",
      "    0.66927\n",
      "    1.44347\n",
      "    3.10159\n",
      "    7.26815\n",
      "   15.86769\n",
      "   33.37220\n",
      "    0.00000\n",
      "    0.00000\n",
      "\n"
     ]
    }
   ],
   "source": [
    "error_train_test"
   ]
  },
  {
   "cell_type": "code",
   "execution_count": 55,
   "metadata": {
    "ExecuteTime": {
     "end_time": "2019-01-26T13:13:26.965243Z",
     "start_time": "2019-01-26T13:13:26.926347Z"
    }
   },
   "outputs": [
    {
     "name": "stdout",
     "output_type": "stream",
     "text": [
      "error_val_test =\n",
      "\n",
      "   10.29413\n",
      "   17.95810\n",
      "   19.76163\n",
      "   17.09071\n",
      "   13.05014\n",
      "    8.14939\n",
      "    5.88245\n",
      "    7.22746\n",
      "   10.08939\n",
      "   19.81979\n",
      "    0.00000\n",
      "    0.00000\n",
      "\n"
     ]
    }
   ],
   "source": [
    "error_val_test"
   ]
  },
  {
   "cell_type": "markdown",
   "metadata": {},
   "source": [
    "Parece que, em determinado grau polinomial, os erros são 0."
   ]
  },
  {
   "cell_type": "code",
   "execution_count": null,
   "metadata": {},
   "outputs": [],
   "source": []
  }
 ],
 "metadata": {
  "kernelspec": {
   "display_name": "Octave",
   "language": "octave",
   "name": "octave"
  },
  "language_info": {
   "file_extension": ".m",
   "help_links": [
    {
     "text": "GNU Octave",
     "url": "https://www.gnu.org/software/octave/support.html"
    },
    {
     "text": "Octave Kernel",
     "url": "https://github.com/Calysto/octave_kernel"
    },
    {
     "text": "MetaKernel Magics",
     "url": "https://github.com/calysto/metakernel/blob/master/metakernel/magics/README.md"
    }
   ],
   "mimetype": "text/x-octave",
   "name": "octave",
   "version": "4.4.1"
  },
  "toc": {
   "base_numbering": 1,
   "nav_menu": {},
   "number_sections": true,
   "sideBar": true,
   "skip_h1_title": true,
   "title_cell": "Table of Contents",
   "title_sidebar": "Contents",
   "toc_cell": true,
   "toc_position": {},
   "toc_section_display": true,
   "toc_window_display": true
  }
 },
 "nbformat": 4,
 "nbformat_minor": 2
}
