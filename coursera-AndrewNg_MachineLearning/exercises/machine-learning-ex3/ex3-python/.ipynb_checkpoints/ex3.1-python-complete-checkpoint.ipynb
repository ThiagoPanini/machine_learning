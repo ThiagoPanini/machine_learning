{
 "cells": [
  {
   "cell_type": "markdown",
   "metadata": {
    "toc": true
   },
   "source": [
    "<h1>Table of Contents<span class=\"tocSkip\"></span></h1>\n",
    "<div class=\"toc\"><ul class=\"toc-item\"><li><span><a href=\"#Classificação-Multi-Classe\" data-toc-modified-id=\"Classificação-Multi-Classe-1\"><span class=\"toc-item-num\">1&nbsp;&nbsp;</span>Classificação Multi-Classe</a></span><ul class=\"toc-item\"><li><span><a href=\"#Lendo-e-Explorando-os-Dados\" data-toc-modified-id=\"Lendo-e-Explorando-os-Dados-1.1\"><span class=\"toc-item-num\">1.1&nbsp;&nbsp;</span>Lendo e Explorando os Dados</a></span></li><li><span><a href=\"#Visualizando-os-Dados\" data-toc-modified-id=\"Visualizando-os-Dados-1.2\"><span class=\"toc-item-num\">1.2&nbsp;&nbsp;</span>Visualizando os Dados</a></span></li><li><span><a href=\"#Função-Custo\" data-toc-modified-id=\"Função-Custo-1.3\"><span class=\"toc-item-num\">1.3&nbsp;&nbsp;</span>Função Custo</a></span></li><li><span><a href=\"#Nova-Abordagem-Binária\" data-toc-modified-id=\"Nova-Abordagem-Binária-1.4\"><span class=\"toc-item-num\">1.4&nbsp;&nbsp;</span>Nova Abordagem Binária</a></span><ul class=\"toc-item\"><li><span><a href=\"#Função-Custo\" data-toc-modified-id=\"Função-Custo-1.4.1\"><span class=\"toc-item-num\">1.4.1&nbsp;&nbsp;</span>Função Custo</a></span></li><li><span><a href=\"#Gradiente\" data-toc-modified-id=\"Gradiente-1.4.2\"><span class=\"toc-item-num\">1.4.2&nbsp;&nbsp;</span>Gradiente</a></span></li><li><span><a href=\"#Otimizando-Modelo\" data-toc-modified-id=\"Otimizando-Modelo-1.4.3\"><span class=\"toc-item-num\">1.4.3&nbsp;&nbsp;</span>Otimizando Modelo</a></span></li></ul></li><li><span><a href=\"#Classificador-Multi-Classe\" data-toc-modified-id=\"Classificador-Multi-Classe-1.5\"><span class=\"toc-item-num\">1.5&nbsp;&nbsp;</span>Classificador Multi Classe</a></span></li><li><span><a href=\"#Predizendo-e-Medindo-Performance\" data-toc-modified-id=\"Predizendo-e-Medindo-Performance-1.6\"><span class=\"toc-item-num\">1.6&nbsp;&nbsp;</span>Predizendo e Medindo Performance</a></span></li><li><span><a href=\"#Pipeline-Completo-(Treino-e-Teste)\" data-toc-modified-id=\"Pipeline-Completo-(Treino-e-Teste)-1.7\"><span class=\"toc-item-num\">1.7&nbsp;&nbsp;</span>Pipeline Completo (Treino e Teste)</a></span></li></ul></li><li><span><a href=\"#Scikit-Learn\" data-toc-modified-id=\"Scikit-Learn-2\"><span class=\"toc-item-num\">2&nbsp;&nbsp;</span>Scikit Learn</a></span><ul class=\"toc-item\"><li><span><a href=\"#Treinando-um-Modelo\" data-toc-modified-id=\"Treinando-um-Modelo-2.1\"><span class=\"toc-item-num\">2.1&nbsp;&nbsp;</span>Treinando um Modelo</a></span></li><li><span><a href=\"#Medindo-Performance\" data-toc-modified-id=\"Medindo-Performance-2.2\"><span class=\"toc-item-num\">2.2&nbsp;&nbsp;</span>Medindo Performance</a></span></li><li><span><a href=\"#Pipeline-Completo\" data-toc-modified-id=\"Pipeline-Completo-2.3\"><span class=\"toc-item-num\">2.3&nbsp;&nbsp;</span>Pipeline Completo</a></span></li></ul></li></ul></div>"
   ]
  },
  {
   "cell_type": "markdown",
   "metadata": {},
   "source": [
    "Este notebook tem por objetivo alocar o desenvolvimento do ```exercicio 3``` proposto pelo curso de Aprendizagem Automática. Na primeira parte do exercício, será implementado o algoritmo de Regressão Logística com várias classes (one vs all). Na segunda parte do exercício, é encontrado um problema onde será necessária a utilização de um modelo de Redes Neurais"
   ]
  },
  {
   "cell_type": "markdown",
   "metadata": {},
   "source": [
    "## Classificação Multi-Classe"
   ]
  },
  {
   "cell_type": "markdown",
   "metadata": {},
   "source": [
    "Em ambas as partes, o problema de negócio é o mesmo: aplicar classificação a um dataset contendo dígitos manuscritos de 0 a 9. Neste primeiro momento, o problema será resolvido através do algoritmo de ```Regressão Logística```."
   ]
  },
  {
   "cell_type": "markdown",
   "metadata": {},
   "source": [
    "### Lendo e Explorando os Dados"
   ]
  },
  {
   "cell_type": "code",
   "execution_count": 1,
   "metadata": {
    "ExecuteTime": {
     "end_time": "2019-04-10T21:57:55.246971Z",
     "start_time": "2019-04-10T21:57:54.699430Z"
    }
   },
   "outputs": [],
   "source": [
    "# Importando biblioteca e lendo arquivo\n",
    "import numpy as np\n",
    "import scipy.io as sio\n",
    "\n",
    "# Lendo arquivo\n",
    "data = sio.loadmat('ex3data1.mat')"
   ]
  },
  {
   "cell_type": "markdown",
   "metadata": {},
   "source": [
    "Fonte: [scipy.io.loadmat()](https://docs.scipy.org/doc/scipy/reference/generated/scipy.io.loadmat.html)"
   ]
  },
  {
   "cell_type": "code",
   "execution_count": 2,
   "metadata": {
    "ExecuteTime": {
     "end_time": "2019-04-10T21:57:55.275889Z",
     "start_time": "2019-04-10T21:57:55.248961Z"
    }
   },
   "outputs": [
    {
     "data": {
      "text/plain": [
       "{'X': array([[0., 0., 0., ..., 0., 0., 0.],\n",
       "        [0., 0., 0., ..., 0., 0., 0.],\n",
       "        [0., 0., 0., ..., 0., 0., 0.],\n",
       "        ...,\n",
       "        [0., 0., 0., ..., 0., 0., 0.],\n",
       "        [0., 0., 0., ..., 0., 0., 0.],\n",
       "        [0., 0., 0., ..., 0., 0., 0.]]),\n",
       " '__globals__': [],\n",
       " '__header__': b'MATLAB 5.0 MAT-file, Platform: GLNXA64, Created on: Sun Oct 16 13:09:09 2011',\n",
       " '__version__': '1.0',\n",
       " 'y': array([[10],\n",
       "        [10],\n",
       "        [10],\n",
       "        ...,\n",
       "        [ 9],\n",
       "        [ 9],\n",
       "        [ 9]], dtype=uint8)}"
      ]
     },
     "execution_count": 2,
     "metadata": {},
     "output_type": "execute_result"
    }
   ],
   "source": [
    "# Verificando resultado\n",
    "data"
   ]
  },
  {
   "cell_type": "code",
   "execution_count": 3,
   "metadata": {
    "ExecuteTime": {
     "end_time": "2019-04-10T21:57:55.476674Z",
     "start_time": "2019-04-10T21:57:55.278881Z"
    }
   },
   "outputs": [],
   "source": [
    "# Separando em partes\n",
    "X = data['X']\n",
    "y = data['y']"
   ]
  },
  {
   "cell_type": "code",
   "execution_count": 4,
   "metadata": {
    "ExecuteTime": {
     "end_time": "2019-04-10T21:57:55.680194Z",
     "start_time": "2019-04-10T21:57:55.478669Z"
    }
   },
   "outputs": [
    {
     "name": "stdout",
     "output_type": "stream",
     "text": [
      "Dimensões do dataset: (5000, 400)\n",
      "Labels: (5000, 1)\n"
     ]
    }
   ],
   "source": [
    "# Verificando dimensões\n",
    "print(f'Dimensões do dataset: {X.shape}')\n",
    "print(f'Labels: {y.shape}')"
   ]
  },
  {
   "cell_type": "markdown",
   "metadata": {},
   "source": [
    "Temos 5000 linhas e 400 features! Realmente trata-se de um dataset de imagens (provavelmente 20 x 20 pixels). Cada feature representa a intensidade de um pixel referente a imagem, variando de 0 a 255."
   ]
  },
  {
   "cell_type": "markdown",
   "metadata": {},
   "source": [
    "### Visualizando os Dados"
   ]
  },
  {
   "cell_type": "code",
   "execution_count": 5,
   "metadata": {
    "ExecuteTime": {
     "end_time": "2019-04-10T21:57:56.382304Z",
     "start_time": "2019-04-10T21:57:55.682176Z"
    }
   },
   "outputs": [
    {
     "data": {
      "image/png": "[encoded data removed]",
      "text/plain": [
       "<matplotlib.figure.Figure at 0x1ce776f6048>"
      ]
     },
     "metadata": {
      "needs_background": "light"
     },
     "output_type": "display_data"
    }
   ],
   "source": [
    "# Visualizando os dados\n",
    "import matplotlib\n",
    "import matplotlib.pyplot as plt\n",
    "%matplotlib inline\n",
    "\n",
    "digito = X[2500]\n",
    "imagem_digito = digito.reshape(20, 20)\n",
    "plt.imshow(imagem_digito, cmap=matplotlib.cm.binary, interpolation='nearest')\n",
    "plt.axis('off')\n",
    "plt.show()"
   ]
  },
  {
   "cell_type": "markdown",
   "metadata": {},
   "source": [
    "Mas que imagem seria essa? Vamos verificar seu label"
   ]
  },
  {
   "cell_type": "code",
   "execution_count": 6,
   "metadata": {
    "ExecuteTime": {
     "end_time": "2019-04-10T21:57:56.389283Z",
     "start_time": "2019-04-10T21:57:56.383302Z"
    }
   },
   "outputs": [
    {
     "data": {
      "text/plain": [
       "array([5], dtype=uint8)"
      ]
     },
     "execution_count": 6,
     "metadata": {},
     "output_type": "execute_result"
    }
   ],
   "source": [
    "# Label\n",
    "y[2500]"
   ]
  },
  {
   "cell_type": "code",
   "execution_count": 7,
   "metadata": {
    "ExecuteTime": {
     "end_time": "2019-04-10T21:57:56.689481Z",
     "start_time": "2019-04-10T21:57:56.390281Z"
    }
   },
   "outputs": [
    {
     "data": {
      "image/png": "[encoded data removed]",
      "text/plain": [
       "<matplotlib.figure.Figure at 0x1ce7c464d68>"
      ]
     },
     "metadata": {
      "needs_background": "light"
     },
     "output_type": "display_data"
    }
   ],
   "source": [
    "# Verificando outro digito\n",
    "digito = X[3000]\n",
    "imagem_digito = digito.reshape(20, 20)\n",
    "plt.imshow(imagem_digito, cmap=matplotlib.cm.binary, interpolation='nearest')\n",
    "label = y[3000]\n",
    "plt.axis('off')\n",
    "plt.title(label)\n",
    "plt.show()"
   ]
  },
  {
   "cell_type": "markdown",
   "metadata": {},
   "source": [
    "Aparentemente as imagens estão invertidas!?"
   ]
  },
  {
   "cell_type": "code",
   "execution_count": 8,
   "metadata": {
    "ExecuteTime": {
     "end_time": "2019-04-10T21:57:56.912883Z",
     "start_time": "2019-04-10T21:57:56.693471Z"
    }
   },
   "outputs": [
    {
     "data": {
      "image/png": "[encoded data removed]",
      "text/plain": [
       "<matplotlib.figure.Figure at 0x1ce7d770cc0>"
      ]
     },
     "metadata": {
      "needs_background": "light"
     },
     "output_type": "display_data"
    }
   ],
   "source": [
    "# Outra tentativa\n",
    "digito = X[4000]\n",
    "imagem_digito = digito.reshape(20, 20)\n",
    "plt.imshow(imagem_digito, cmap=matplotlib.cm.binary, interpolation='nearest')\n",
    "label = y[4000]\n",
    "plt.axis('off')\n",
    "plt.title(label)\n",
    "plt.show()"
   ]
  },
  {
   "cell_type": "code",
   "execution_count": 9,
   "metadata": {
    "ExecuteTime": {
     "end_time": "2019-04-10T21:57:57.129305Z",
     "start_time": "2019-04-10T21:57:56.915875Z"
    }
   },
   "outputs": [
    {
     "data": {
      "image/png": "[encoded data removed]",
      "text/plain": [
       "<matplotlib.figure.Figure at 0x1ce7d7659b0>"
      ]
     },
     "metadata": {
      "needs_background": "light"
     },
     "output_type": "display_data"
    }
   ],
   "source": [
    "# Tentando após pesquisas\n",
    "from scipy import ndimage\n",
    "\n",
    "digito = X[4500]\n",
    "imagem_digito = digito.reshape(20, 20)\n",
    "plt.imshow(ndimage.rotate(imagem_digito, -90), cmap=matplotlib.cm.binary, \n",
    "           interpolation='nearest')\n",
    "label = y[4500]\n",
    "plt.axis('off')\n",
    "plt.title(label)\n",
    "plt.show()"
   ]
  },
  {
   "cell_type": "markdown",
   "metadata": {},
   "source": [
    "Fonte: [scipy.ndimage.rotate](https://docs.scipy.org/doc/scipy/reference/generated/scipy.ndimage.rotate.html) não surtiu efeito."
   ]
  },
  {
   "cell_type": "code",
   "execution_count": 10,
   "metadata": {
    "ExecuteTime": {
     "end_time": "2019-04-10T21:57:57.636948Z",
     "start_time": "2019-04-10T21:57:57.132297Z"
    }
   },
   "outputs": [
    {
     "data": {
      "image/png": "[encoded data removed]",
      "text/plain": [
       "<matplotlib.figure.Figure at 0x1ce7d82e780>"
      ]
     },
     "metadata": {
      "needs_background": "light"
     },
     "output_type": "display_data"
    }
   ],
   "source": [
    "# Verificando para os demais\n",
    "i = 0\n",
    "digitos = [2500, 3000, 4000]\n",
    "fig, ax = plt.subplots(1, 3, figsize=(10, 3))\n",
    "for axe in ax:\n",
    "    digito = X[digitos[i]]\n",
    "    imagem_digito = digito.reshape(20, 20)\n",
    "    axe.imshow(ndimage.rotate(imagem_digito, -90), cmap=matplotlib.cm.binary,\n",
    "              interpolation='nearest')\n",
    "    label = y[digitos[i]]\n",
    "    axe.set_title(f'Label: {label}')\n",
    "    axe.axis('off')\n",
    "    i+=1\n",
    "plt.show()"
   ]
  },
  {
   "cell_type": "markdown",
   "metadata": {},
   "source": [
    "Ao que tudo indica, as imagens não estavam simplismente rotacionadas, mas sim ```espelhadas!```.  Como consertar?"
   ]
  },
  {
   "cell_type": "code",
   "execution_count": 11,
   "metadata": {
    "ExecuteTime": {
     "end_time": "2019-04-10T21:57:57.642933Z",
     "start_time": "2019-04-10T21:57:57.638943Z"
    }
   },
   "outputs": [],
   "source": [
    "# Pesquisas\n",
    "from PIL import Image"
   ]
  },
  {
   "cell_type": "code",
   "execution_count": 12,
   "metadata": {
    "ExecuteTime": {
     "end_time": "2019-04-10T21:57:58.067130Z",
     "start_time": "2019-04-10T21:57:57.643929Z"
    }
   },
   "outputs": [
    {
     "data": {
      "image/png": "[encoded data removed]",
      "text/plain": [
       "<matplotlib.figure.Figure at 0x1ce7c70f8d0>"
      ]
     },
     "metadata": {
      "needs_background": "light"
     },
     "output_type": "display_data"
    }
   ],
   "source": [
    "digito = X[3000]\n",
    "rotated_image = digito.transpose(Image.FLIP_LEFT_RIGHT)\n",
    "imagem_digito = digito.reshape(20, 20)\n",
    "plt.imshow(imagem_digito, cmap=matplotlib.cm.binary, interpolation='nearest')\n",
    "label = y[3000]\n",
    "plt.axis('off')\n",
    "plt.title(label)\n",
    "plt.show()"
   ]
  },
  {
   "cell_type": "markdown",
   "metadata": {},
   "source": [
    "Fonte: [PIL.Image](https://www.blog.pythonlibrary.org/2017/10/05/how-to-rotate-mirror-photos-with-python/) não surtiu efeito."
   ]
  },
  {
   "cell_type": "code",
   "execution_count": 13,
   "metadata": {
    "ExecuteTime": {
     "end_time": "2019-04-10T21:57:58.225705Z",
     "start_time": "2019-04-10T21:57:58.070122Z"
    }
   },
   "outputs": [
    {
     "data": {
      "image/png": "[encoded data removed]",
      "text/plain": [
       "<matplotlib.figure.Figure at 0x1ce7c457898>"
      ]
     },
     "metadata": {
      "needs_background": "light"
     },
     "output_type": "display_data"
    }
   ],
   "source": [
    "# Mais uma tentativa\n",
    "digito = X[3000]\n",
    "imagem_digito = digito.reshape(20, 20).T\n",
    "plt.imshow(imagem_digito, cmap=matplotlib.cm.binary, interpolation='nearest')\n",
    "label = y[3000]\n",
    "plt.axis('off')\n",
    "plt.title(label)\n",
    "plt.show()"
   ]
  },
  {
   "cell_type": "markdown",
   "metadata": {},
   "source": [
    "Opa! Será!?"
   ]
  },
  {
   "cell_type": "code",
   "execution_count": 14,
   "metadata": {
    "ExecuteTime": {
     "end_time": "2019-04-10T21:57:58.561456Z",
     "start_time": "2019-04-10T21:57:58.227700Z"
    }
   },
   "outputs": [
    {
     "data": {
      "image/png": "[encoded data removed]",
      "text/plain": [
       "<matplotlib.figure.Figure at 0x1ce7d8d2eb8>"
      ]
     },
     "metadata": {
      "needs_background": "light"
     },
     "output_type": "display_data"
    }
   ],
   "source": [
    "# Verificando para os demais\n",
    "i = 0\n",
    "digitos = [2500, 3000, 4000]\n",
    "fig, ax = plt.subplots(1, 3, figsize=(10, 3))\n",
    "for axe in ax:\n",
    "    digito = X[digitos[i]]\n",
    "    imagem_digito = digito.reshape(20, 20).T\n",
    "    axe.imshow(imagem_digito, cmap=matplotlib.cm.binary,\n",
    "              interpolation='nearest')\n",
    "    label = y[digitos[i]]\n",
    "    axe.set_title(f'Label: {label}')\n",
    "    axe.axis('off')\n",
    "    i+=1\n",
    "plt.show()"
   ]
  },
  {
   "cell_type": "markdown",
   "metadata": {},
   "source": [
    "__Perfeito!__ Compartilhando suspeita:\n",
    "\n",
    "Como a imagem estava espelhada, a suspeita levantada era que, de alguma forma, os dados das colunas estavam localizados nas linhas da matriz que representa a imagem (e vice e versa). Em outras palavras, significa dizer que os pixels brilhantes que deveriam estar nas colunas, estavam nas linhas, assim como os pixels brilhantes que estavam nas linhas, deveriam estar nas colunas.\n",
    "\n",
    "Para confirmar a suspeita, foi aplicada uma transposição na matriz da imagem após o ```.reshape(20, 20)```, transformando o que é linha, em coluna e o que é coluna, em linha."
   ]
  },
  {
   "cell_type": "markdown",
   "metadata": {},
   "source": [
    "__Plotando grid de imagens:__"
   ]
  },
  {
   "cell_type": "code",
   "execution_count": 15,
   "metadata": {
    "ExecuteTime": {
     "end_time": "2019-04-10T21:58:01.323845Z",
     "start_time": "2019-04-10T21:57:58.563421Z"
    }
   },
   "outputs": [
    {
     "data": {
      "image/png": "[encoded data removed]",
      "text/plain": [
       "<matplotlib.figure.Figure at 0x1ce7d8fbac8>"
      ]
     },
     "metadata": {
      "needs_background": "light"
     },
     "output_type": "display_data"
    }
   ],
   "source": [
    "# settings\n",
    "h, w = 10, 10        # for raster image\n",
    "nrows, ncols = 7, 7  # array of sub-plots\n",
    "figsize = [12, 12]     # figure size, inches\n",
    "\n",
    "# prep (x,y) for extra plotting on selected sub-plots\n",
    "xs = np.linspace(0, 2*np.pi, 60)  # from 0 to 2pi\n",
    "ys = np.abs(np.sin(xs))           # absolute of sine\n",
    "\n",
    "# create figure (fig), and array of axes (ax)\n",
    "fig, ax = plt.subplots(nrows=nrows, ncols=ncols, figsize=figsize)\n",
    "\n",
    "# plot simple raster image on each sub-plot\n",
    "for i, axi in enumerate(ax.flat):\n",
    "    # i runs from 0 to (nrows*ncols-1)\n",
    "    # axi is equivalent with ax[rowid][colid]\n",
    "    rnd = np.random.randint(0, 5000)\n",
    "    img = X[rnd].reshape(20, 20).T\n",
    "    axi.imshow(img, alpha=0.9)\n",
    "    # get indices of row/column\n",
    "    rowid = i // ncols\n",
    "    colid = i % ncols\n",
    "    # write row/col indices as axes' title for identification\n",
    "    #axi.set_title(\"Row:\"+str(rowid)+\", Col:\"+str(colid))\n",
    "    label = y[rnd]\n",
    "    axi.set_title(f'Label: {label}')\n",
    "    axi.axis('off')\n",
    "\n",
    "# one can access the axes by ax[row_id][col_id]\n",
    "# do additional plotting on ax[row_id][col_id] of your choice\n",
    "#ax[0][2].plot(xs, 3*ys, color='red', linewidth=3)\n",
    "#ax[4][3].plot(ys**2, xs, color='green', linewidth=3)\n",
    "\n",
    "plt.tight_layout(True)\n",
    "plt.show()"
   ]
  },
  {
   "cell_type": "markdown",
   "metadata": {},
   "source": [
    "### Função Custo"
   ]
  },
  {
   "cell_type": "markdown",
   "metadata": {},
   "source": [
    "Como sempre, antes de definir a função custo, vamos definir a função sigmoidal"
   ]
  },
  {
   "cell_type": "code",
   "execution_count": 16,
   "metadata": {
    "ExecuteTime": {
     "end_time": "2019-04-10T21:58:01.331824Z",
     "start_time": "2019-04-10T21:58:01.325839Z"
    }
   },
   "outputs": [],
   "source": [
    "# Definindo função sigmoidal\n",
    "def sigmoid(z):\n",
    "    \"\"\"Função sigmoidal para cálculo da função hyothesis\n",
    "    Input: \n",
    "        z: X.dot(theta)\n",
    "    Output:\n",
    "        h = função sigmoidal\"\"\"\n",
    "    return 1 / (1 + np.exp(-z))"
   ]
  },
  {
   "cell_type": "code",
   "execution_count": 17,
   "metadata": {
    "ExecuteTime": {
     "end_time": "2019-04-10T21:58:01.544256Z",
     "start_time": "2019-04-10T21:58:01.334816Z"
    }
   },
   "outputs": [
    {
     "data": {
      "text/plain": [
       "(400, 1)"
      ]
     },
     "execution_count": 17,
     "metadata": {},
     "output_type": "execute_result"
    }
   ],
   "source": [
    "# Testando\n",
    "[m, n] = X.shape\n",
    "theta_inicial = np.zeros((n, 1))\n",
    "theta_inicial.shape"
   ]
  },
  {
   "cell_type": "code",
   "execution_count": 18,
   "metadata": {
    "ExecuteTime": {
     "end_time": "2019-04-10T21:58:01.664934Z",
     "start_time": "2019-04-10T21:58:01.546250Z"
    }
   },
   "outputs": [
    {
     "data": {
      "text/plain": [
       "array([[0.5],\n",
       "       [0.5],\n",
       "       [0.5],\n",
       "       [0.5],\n",
       "       [0.5]])"
      ]
     },
     "execution_count": 18,
     "metadata": {},
     "output_type": "execute_result"
    }
   ],
   "source": [
    "# Calculando z\n",
    "z = X.dot(theta_inicial)\n",
    "h = sigmoid(z)\n",
    "h[:5]"
   ]
  },
  {
   "cell_type": "markdown",
   "metadata": {},
   "source": [
    "__Função Custo__:\n",
    "\n",
    "\\begin{equation*}\n",
    "    J(\\theta)=\\frac{1}{m}\\sum_{i=1}^{m}\\left[-y^{(i)}\\log{(h_\\theta(x^{(i)}))} -\n",
    "              (1 - y^{(i)})\\log{(1-h_\\theta(x^{(i)}))}\\right]\n",
    "\\end{equation*}"
   ]
  },
  {
   "cell_type": "code",
   "execution_count": 19,
   "metadata": {
    "ExecuteTime": {
     "end_time": "2019-04-10T21:58:01.736740Z",
     "start_time": "2019-04-10T21:58:01.666928Z"
    }
   },
   "outputs": [
    {
     "data": {
      "text/plain": [
       "array([[-868166.84365133]])"
      ]
     },
     "execution_count": 19,
     "metadata": {},
     "output_type": "execute_result"
    }
   ],
   "source": [
    "# Termo 1\n",
    "termo1 = np.log(h).T.dot(-y)\n",
    "termo1"
   ]
  },
  {
   "cell_type": "code",
   "execution_count": 20,
   "metadata": {
    "ExecuteTime": {
     "end_time": "2019-04-10T21:58:01.811541Z",
     "start_time": "2019-04-10T21:58:01.738736Z"
    }
   },
   "outputs": [
    {
     "data": {
      "text/plain": [
       "array([[-782909.74044246]])"
      ]
     },
     "execution_count": 20,
     "metadata": {},
     "output_type": "execute_result"
    }
   ],
   "source": [
    "# Termo 2\n",
    "termo2 = np.log(1 - h).T.dot(1 - y)\n",
    "termo2"
   ]
  },
  {
   "cell_type": "code",
   "execution_count": 21,
   "metadata": {
    "ExecuteTime": {
     "end_time": "2019-04-10T21:58:02.017989Z",
     "start_time": "2019-04-10T21:58:01.814534Z"
    }
   },
   "outputs": [
    {
     "data": {
      "text/plain": [
       "array([[-85257.10320887]])"
      ]
     },
     "execution_count": 21,
     "metadata": {},
     "output_type": "execute_result"
    }
   ],
   "source": [
    "termo1 - termo2"
   ]
  },
  {
   "cell_type": "markdown",
   "metadata": {},
   "source": [
    "Já é possível identificar um problema: y varia de 1 a 10. Não queremos isso."
   ]
  },
  {
   "cell_type": "code",
   "execution_count": 22,
   "metadata": {
    "ExecuteTime": {
     "end_time": "2019-04-10T21:58:02.124704Z",
     "start_time": "2019-04-10T21:58:02.019985Z"
    }
   },
   "outputs": [
    {
     "data": {
      "text/plain": [
       "array([ 1,  2,  3,  4,  5,  6,  7,  8,  9, 10], dtype=uint8)"
      ]
     },
     "execution_count": 22,
     "metadata": {},
     "output_type": "execute_result"
    }
   ],
   "source": [
    "# Valores únicos do array\n",
    "np.unique(y)"
   ]
  },
  {
   "cell_type": "code",
   "execution_count": 23,
   "metadata": {
    "ExecuteTime": {
     "end_time": "2019-04-10T21:58:02.285791Z",
     "start_time": "2019-04-10T21:58:02.130688Z"
    }
   },
   "outputs": [
    {
     "data": {
      "text/plain": [
       "array([[10],\n",
       "       [10],\n",
       "       [10],\n",
       "       [10],\n",
       "       [10]], dtype=uint8)"
      ]
     },
     "execution_count": 23,
     "metadata": {},
     "output_type": "execute_result"
    }
   ],
   "source": [
    "# Verificando primeiras linhas\n",
    "y[:5]"
   ]
  },
  {
   "cell_type": "code",
   "execution_count": 24,
   "metadata": {
    "ExecuteTime": {
     "end_time": "2019-04-10T21:58:02.711136Z",
     "start_time": "2019-04-10T21:58:02.290261Z"
    }
   },
   "outputs": [
    {
     "data": {
      "text/plain": [
       "array([10, 10, 10, ...,  9,  9,  9], dtype=uint8)"
      ]
     },
     "execution_count": 24,
     "metadata": {},
     "output_type": "execute_result"
    }
   ],
   "source": [
    "y_reshaped = y.reshape(-1)\n",
    "y_reshaped"
   ]
  },
  {
   "cell_type": "code",
   "execution_count": 25,
   "metadata": {
    "ExecuteTime": {
     "end_time": "2019-04-10T21:58:02.871707Z",
     "start_time": "2019-04-10T21:58:02.713129Z"
    }
   },
   "outputs": [
    {
     "data": {
      "text/plain": [
       "array([ True,  True,  True,  True,  True])"
      ]
     },
     "execution_count": 25,
     "metadata": {},
     "output_type": "execute_result"
    }
   ],
   "source": [
    "# Verificando se é um 0\n",
    "y_mod = (y_reshaped == 10)\n",
    "y_mod[:5]"
   ]
  },
  {
   "cell_type": "code",
   "execution_count": 26,
   "metadata": {
    "ExecuteTime": {
     "end_time": "2019-04-10T21:58:03.035270Z",
     "start_time": "2019-04-10T21:58:02.873701Z"
    }
   },
   "outputs": [
    {
     "data": {
      "text/plain": [
       "array([1, 1, 1, ..., 0, 0, 0])"
      ]
     },
     "execution_count": 26,
     "metadata": {},
     "output_type": "execute_result"
    }
   ],
   "source": [
    "# Multiplicando por 1\n",
    "y_mod * 1"
   ]
  },
  {
   "cell_type": "code",
   "execution_count": 27,
   "metadata": {
    "ExecuteTime": {
     "end_time": "2019-04-10T21:58:03.286597Z",
     "start_time": "2019-04-10T21:58:03.038262Z"
    }
   },
   "outputs": [
    {
     "data": {
      "text/plain": [
       "array([[1., 1.],\n",
       "       [1., 1.],\n",
       "       [1., 1.],\n",
       "       ...,\n",
       "       [1., 0.],\n",
       "       [1., 0.],\n",
       "       [1., 0.]])"
      ]
     },
     "execution_count": 27,
     "metadata": {},
     "output_type": "execute_result"
    }
   ],
   "source": [
    "# Testando um procedimento já realizado\n",
    "bias = np.ones((m, 1))\n",
    "np.c_[(bias, y_mod)]"
   ]
  },
  {
   "cell_type": "code",
   "execution_count": 28,
   "metadata": {
    "ExecuteTime": {
     "end_time": "2019-04-10T21:58:03.393313Z",
     "start_time": "2019-04-10T21:58:03.288593Z"
    }
   },
   "outputs": [
    {
     "data": {
      "text/plain": [
       "array([[0., 1., 1.],\n",
       "       [0., 1., 1.],\n",
       "       [0., 1., 1.],\n",
       "       ...,\n",
       "       [0., 1., 0.],\n",
       "       [0., 1., 0.],\n",
       "       [0., 1., 0.]])"
      ]
     },
     "execution_count": 28,
     "metadata": {},
     "output_type": "execute_result"
    }
   ],
   "source": [
    "# Testando pra mais de uma concatenação\n",
    "zeros = np.zeros((m, 1))\n",
    "np.c_[(zeros, bias, y_mod)]"
   ]
  },
  {
   "cell_type": "code",
   "execution_count": 29,
   "metadata": {
    "ExecuteTime": {
     "end_time": "2019-04-10T21:58:03.879013Z",
     "start_time": "2019-04-10T21:58:03.395307Z"
    }
   },
   "outputs": [],
   "source": [
    "# Realizando o procedimento para todas as classes\n",
    "y_10 = (y_reshaped == 10)\n",
    "y_9 = (y_reshaped == 9)\n",
    "stack = np.c_[(y_9, y_10)]\n",
    "\n",
    "for i in range(len(np.unique(y))-2, 0, -1):\n",
    "    y_i = (y_reshaped == i)\n",
    "    stack = np.c_[(y_i, stack)]"
   ]
  },
  {
   "cell_type": "code",
   "execution_count": 30,
   "metadata": {
    "ExecuteTime": {
     "end_time": "2019-04-10T21:58:04.021631Z",
     "start_time": "2019-04-10T21:58:03.883004Z"
    }
   },
   "outputs": [
    {
     "data": {
      "text/plain": [
       "array([[0, 0, 0, ..., 0, 0, 1],\n",
       "       [0, 0, 0, ..., 0, 0, 1],\n",
       "       [0, 0, 0, ..., 0, 0, 1],\n",
       "       ...,\n",
       "       [0, 0, 0, ..., 0, 1, 0],\n",
       "       [0, 0, 0, ..., 0, 1, 0],\n",
       "       [0, 0, 0, ..., 0, 1, 0]])"
      ]
     },
     "execution_count": 30,
     "metadata": {},
     "output_type": "execute_result"
    }
   ],
   "source": [
    "y_encoded = stack * 1\n",
    "y_encoded"
   ]
  },
  {
   "cell_type": "code",
   "execution_count": 31,
   "metadata": {
    "ExecuteTime": {
     "end_time": "2019-04-10T21:58:04.119371Z",
     "start_time": "2019-04-10T21:58:04.024624Z"
    }
   },
   "outputs": [
    {
     "data": {
      "text/plain": [
       "array([[10],\n",
       "       [10],\n",
       "       [10],\n",
       "       ...,\n",
       "       [ 9],\n",
       "       [ 9],\n",
       "       [ 9]], dtype=uint8)"
      ]
     },
     "execution_count": 31,
     "metadata": {},
     "output_type": "execute_result"
    }
   ],
   "source": [
    "# Verificando últimas linhas de y\n",
    "y[:-5]"
   ]
  },
  {
   "cell_type": "code",
   "execution_count": 32,
   "metadata": {
    "ExecuteTime": {
     "end_time": "2019-04-10T21:58:04.403612Z",
     "start_time": "2019-04-10T21:58:04.122364Z"
    }
   },
   "outputs": [
    {
     "data": {
      "text/plain": [
       "(5000, 10)"
      ]
     },
     "execution_count": 32,
     "metadata": {},
     "output_type": "execute_result"
    }
   ],
   "source": [
    "# Verificando novo shape\n",
    "y_encoded.shape"
   ]
  },
  {
   "cell_type": "code",
   "execution_count": 33,
   "metadata": {
    "ExecuteTime": {
     "end_time": "2019-04-10T21:58:04.697825Z",
     "start_time": "2019-04-10T21:58:04.406603Z"
    }
   },
   "outputs": [
    {
     "data": {
      "text/plain": [
       "(5000, 400)"
      ]
     },
     "execution_count": 33,
     "metadata": {},
     "output_type": "execute_result"
    }
   ],
   "source": [
    "# Verificando dados\n",
    "X.shape"
   ]
  },
  {
   "cell_type": "code",
   "execution_count": 34,
   "metadata": {
    "ExecuteTime": {
     "end_time": "2019-04-10T21:58:04.857397Z",
     "start_time": "2019-04-10T21:58:04.700817Z"
    }
   },
   "outputs": [],
   "source": [
    "# Adicionando termo bias\n",
    "m = X.shape[0]\n",
    "bias = np.ones((m))\n",
    "X_train = np.c_[(bias, X)]\n",
    "\n",
    "# Nova matriz de parâmetros\n",
    "n = X_train.shape[1]\n",
    "labels = y_encoded.shape[1]\n",
    "all_theta = np.zeros((labels, n))"
   ]
  },
  {
   "cell_type": "code",
   "execution_count": 35,
   "metadata": {
    "ExecuteTime": {
     "end_time": "2019-04-10T21:58:05.012015Z",
     "start_time": "2019-04-10T21:58:04.858394Z"
    }
   },
   "outputs": [
    {
     "data": {
      "text/plain": [
       "(10, 401)"
      ]
     },
     "execution_count": 35,
     "metadata": {},
     "output_type": "execute_result"
    }
   ],
   "source": [
    "# Verificando\n",
    "all_theta.shape"
   ]
  },
  {
   "cell_type": "code",
   "execution_count": 36,
   "metadata": {
    "ExecuteTime": {
     "end_time": "2019-04-10T21:58:05.163579Z",
     "start_time": "2019-04-10T21:58:05.014978Z"
    }
   },
   "outputs": [
    {
     "data": {
      "text/plain": [
       "(5000, 401)"
      ]
     },
     "execution_count": 36,
     "metadata": {},
     "output_type": "execute_result"
    }
   ],
   "source": [
    "# X após bias\n",
    "X_train.shape"
   ]
  },
  {
   "cell_type": "code",
   "execution_count": 37,
   "metadata": {
    "ExecuteTime": {
     "end_time": "2019-04-10T21:58:05.261317Z",
     "start_time": "2019-04-10T21:58:05.169564Z"
    }
   },
   "outputs": [
    {
     "data": {
      "text/plain": [
       "(5000, 10)"
      ]
     },
     "execution_count": 37,
     "metadata": {},
     "output_type": "execute_result"
    }
   ],
   "source": [
    "# Labels\n",
    "y_encoded.shape"
   ]
  },
  {
   "cell_type": "code",
   "execution_count": 38,
   "metadata": {
    "ExecuteTime": {
     "end_time": "2019-04-10T21:58:05.553535Z",
     "start_time": "2019-04-10T21:58:05.266305Z"
    }
   },
   "outputs": [
    {
     "data": {
      "text/plain": [
       "array([[0., 0., 0., ..., 0., 0., 0.],\n",
       "       [0., 0., 0., ..., 0., 0., 0.],\n",
       "       [0., 0., 0., ..., 0., 0., 0.],\n",
       "       ...,\n",
       "       [0., 0., 0., ..., 0., 0., 0.],\n",
       "       [0., 0., 0., ..., 0., 0., 0.],\n",
       "       [0., 0., 0., ..., 0., 0., 0.]])"
      ]
     },
     "execution_count": 38,
     "metadata": {},
     "output_type": "execute_result"
    }
   ],
   "source": [
    "# Testando previsão\n",
    "X_train.dot(all_theta.T)"
   ]
  },
  {
   "cell_type": "code",
   "execution_count": 39,
   "metadata": {
    "ExecuteTime": {
     "end_time": "2019-04-10T21:58:06.219755Z",
     "start_time": "2019-04-10T21:58:05.555531Z"
    }
   },
   "outputs": [
    {
     "data": {
      "text/plain": [
       "(5000, 10)"
      ]
     },
     "execution_count": 39,
     "metadata": {},
     "output_type": "execute_result"
    }
   ],
   "source": [
    "# Dimensões\n",
    "X_train.dot(all_theta.T).shape"
   ]
  },
  {
   "cell_type": "code",
   "execution_count": 40,
   "metadata": {
    "ExecuteTime": {
     "end_time": "2019-04-10T21:58:07.544213Z",
     "start_time": "2019-04-10T21:58:06.221750Z"
    }
   },
   "outputs": [
    {
     "data": {
      "text/plain": [
       "array([[0., 0., 0., ..., 0., 0., 1.],\n",
       "       [0., 0., 0., ..., 0., 0., 1.],\n",
       "       [0., 0., 0., ..., 0., 0., 1.],\n",
       "       ...,\n",
       "       [0., 0., 0., ..., 0., 1., 0.],\n",
       "       [0., 0., 0., ..., 0., 1., 0.],\n",
       "       [0., 0., 0., ..., 0., 1., 0.]])"
      ]
     },
     "execution_count": 40,
     "metadata": {},
     "output_type": "execute_result"
    }
   ],
   "source": [
    "# Testando termos da função custo\n",
    "y_encoded - X_train.dot(all_theta.T)"
   ]
  },
  {
   "cell_type": "code",
   "execution_count": 42,
   "metadata": {
    "ExecuteTime": {
     "end_time": "2019-04-10T22:00:38.037648Z",
     "start_time": "2019-04-10T22:00:38.014709Z"
    }
   },
   "outputs": [
    {
     "data": {
      "text/plain": [
       "array([[-868166.84365132],\n",
       "       [-868166.84365132],\n",
       "       [-868166.84365132],\n",
       "       [-868166.84365132],\n",
       "       [-868166.84365132],\n",
       "       [-868166.84365132],\n",
       "       [-868166.84365132],\n",
       "       [-868166.84365132],\n",
       "       [-868166.84365132],\n",
       "       [-868166.84365132]])"
      ]
     },
     "execution_count": 42,
     "metadata": {},
     "output_type": "execute_result"
    }
   ],
   "source": [
    "h = sigmoid(X_train.dot(all_theta.T))\n",
    "np.log(h).T.dot(-y)"
   ]
  },
  {
   "cell_type": "markdown",
   "metadata": {},
   "source": [
    "\\begin{equation*}\n",
    "    J(\\theta)=\\frac{1}{m}\\sum_{i=1}^{m}\\left[-y^{(i)}\\log{(h_\\theta(x^{(i)}))} -\n",
    "              (1 - y^{(i)})\\log{(1-h_\\theta(x^{(i)}))}\\right]\n",
    "\\end{equation*}"
   ]
  },
  {
   "cell_type": "code",
   "execution_count": 43,
   "metadata": {
    "ExecuteTime": {
     "end_time": "2019-04-10T22:00:39.748570Z",
     "start_time": "2019-04-10T22:00:39.738596Z"
    }
   },
   "outputs": [
    {
     "data": {
      "text/plain": [
       "array([[-782909.74044243],\n",
       "       [-782909.74044243],\n",
       "       [-782909.74044243],\n",
       "       [-782909.74044243],\n",
       "       [-782909.74044243],\n",
       "       [-782909.74044243],\n",
       "       [-782909.74044243],\n",
       "       [-782909.74044243],\n",
       "       [-782909.74044243],\n",
       "       [-782909.74044243]])"
      ]
     },
     "execution_count": 43,
     "metadata": {},
     "output_type": "execute_result"
    }
   ],
   "source": [
    "np.log(1 - h).T.dot(1 - y)"
   ]
  },
  {
   "cell_type": "code",
   "execution_count": 44,
   "metadata": {
    "ExecuteTime": {
     "end_time": "2019-04-10T22:01:03.724300Z",
     "start_time": "2019-04-10T22:00:40.657785Z"
    }
   },
   "outputs": [
    {
     "name": "stdout",
     "output_type": "stream",
     "text": [
      "1 Cost: 0.01517\n",
      "2 Cost: 0.05689\n",
      "3 Cost: 0.06408\n",
      "4 Cost: 0.03721\n",
      "5 Cost: 0.06125\n",
      "6 Cost: 0.02077\n",
      "7 Cost: 0.03378\n",
      "8 Cost: 0.08479\n",
      "9 Cost: 0.07967\n",
      "10 Cost: 0.01046\n",
      "1 Cost: 0.01517\n",
      "2 Cost: 0.05689\n",
      "3 Cost: 0.06408\n",
      "4 Cost: 0.03721\n",
      "5 Cost: 0.06125\n",
      "6 Cost: 0.02077\n",
      "7 Cost: 0.03378\n",
      "8 Cost: 0.08479\n",
      "9 Cost: 0.07967\n",
      "10 Cost: 0.01046\n",
      "Accuracy: 95.06%\n"
     ]
    }
   ],
   "source": [
    "#!/usr/local/Cellar/python/2.7.6/bin/python\n",
    "# -*- coding: utf-8 -*-\n",
    "\n",
    "import sys\n",
    "\n",
    "import scipy.misc, scipy.optimize, scipy.io, scipy.special\n",
    "from numpy import *\n",
    "\n",
    "def sigmoid( z ):\n",
    "\treturn scipy.special.expit(z)\n",
    "\t# return 1.0 / (1.0 + exp( -z ))\n",
    "\n",
    "def computeCost( theta, X, y, lamda ):\n",
    "\tm = shape( X )[0]\n",
    "\thypo \t   = sigmoid( X.dot( theta ) )\n",
    "\tterm1 \t   = log( hypo ).dot( -y )\n",
    "\tterm2 \t   = log( 1.0 - hypo ).dot( 1 - y )\n",
    "\tleft_hand  = (term1 - term2) / m\n",
    "\tright_hand = theta.T.dot( theta ) * lamda / (2*m)\n",
    "\treturn left_hand + right_hand\n",
    "\n",
    "def gradientCost( theta, X, y, lamda ):\n",
    "\tm = shape( X )[0]\n",
    "\tgrad = X.T.dot( sigmoid( X.dot( theta ) ) - y ) / m\n",
    "\tgrad[1:] = grad[1:] + ( (theta[1:] * lamda ) / m )\n",
    "\treturn grad\n",
    "\n",
    "def oneVsAll( X, y, num_classes, lamda ):\n",
    "\tm,n \t\t= shape( X )\n",
    "\tX \t\t\t= c_[ones((m, 1)), X]\n",
    "\tall_theta \t= zeros((n+1, num_classes))\n",
    "\n",
    "\tfor k in range(0, num_classes):\n",
    "\t\ttheta \t\t\t= zeros(( n+1, 1 )).reshape(-1)\n",
    "\t\ttemp_y \t\t\t= ((y == (k+1)) + 0).reshape(-1)\n",
    "\t\tresult \t\t\t= scipy.optimize.fmin_cg( computeCost, fprime=gradientCost, x0=theta, \\\n",
    "\t\t\t\t\t\t\t\t\t\t\t\t  args=(X, temp_y, lamda), maxiter=50, disp=False, full_output=True )\n",
    "\t\tall_theta[:, k] = result[0]\n",
    "\t\tprint(\"%d Cost: %.5f\" % (k+1, result[1]))\n",
    "\n",
    "\t# save( \"all_theta.txt\", all_theta )\n",
    "\treturn all_theta\n",
    "\n",
    "def predictOneVsAll( theta, X, y ):\n",
    "\tm,n = shape( X )\n",
    "\tX \t= c_[ones((m, 1)), X]\n",
    "\n",
    "\tcorrect = 0\n",
    "\tfor i in range(0, m ):\n",
    "\t\tprediction \t= argmax(theta.T.dot( X[i] )) + 1\n",
    "\t\tactual \t\t= y[i]\n",
    "\t\t# print \"prediction = %d actual = %d\" % (prediction, actual)\n",
    "\t\tif actual == prediction:\n",
    "\t\t\tcorrect += 1\n",
    "\tprint(\"Accuracy: %.2f%%\" % (correct * 100.0 / m ))\n",
    "\n",
    "\t\n",
    "def part1_1():\n",
    "\tmat = scipy.io.loadmat('ex3data1.mat')\n",
    "\tX, y = mat['X'], mat['y']\n",
    "\t\n",
    "def part1_2():\n",
    "\tmat = scipy.io.loadmat('ex3data1.mat')\n",
    "\tX, y = mat['X'], mat['y']\n",
    "\n",
    "def part1_3():\n",
    "\tmat = scipy.io.loadmat('ex3data1.mat')\n",
    "\tX, y = mat['X'], mat['y']\n",
    "\tm, n = shape( X )\n",
    "\tinput_layer_size = 400\n",
    "\tnum_labels \t\t = 10\n",
    "\tlamda \t\t\t = 0.1\n",
    "\n",
    "\ttheta = oneVsAll( X, y, num_labels, lamda )\n",
    "\n",
    "def part1_4():\n",
    "\tmat = scipy.io.loadmat('ex3data1.mat')\n",
    "\tX, y \t\t\t = mat['X'], mat['y']\n",
    "\tm, n \t\t\t = shape( X )\n",
    "\tinput_layer_size = 400\n",
    "\tnum_labels \t\t = 10\n",
    "\tlamda \t\t\t = 0.1\n",
    "\n",
    "\ttheta = oneVsAll( X, y, num_labels, lamda )\n",
    "\tpredictOneVsAll( theta, X, y )\n",
    "\n",
    "\n",
    "\n",
    "def main():\n",
    "\tset_printoptions(precision=6, linewidth=200)\n",
    "\tpart1_1()\n",
    "\tpart1_2()\n",
    "\tpart1_3()\n",
    "\tpart1_4()\n",
    "\t\n",
    "if __name__ == '__main__':\n",
    "\tmain()"
   ]
  },
  {
   "cell_type": "code",
   "execution_count": 45,
   "metadata": {
    "ExecuteTime": {
     "end_time": "2019-04-10T22:01:03.734276Z",
     "start_time": "2019-04-10T22:01:03.726296Z"
    }
   },
   "outputs": [
    {
     "data": {
      "text/plain": [
       "array([[10],\n",
       "       [10],\n",
       "       [10],\n",
       "       ...,\n",
       "       [ 9],\n",
       "       [ 9],\n",
       "       [ 9]], dtype=uint8)"
      ]
     },
     "execution_count": 45,
     "metadata": {},
     "output_type": "execute_result"
    }
   ],
   "source": [
    "y"
   ]
  },
  {
   "cell_type": "code",
   "execution_count": 46,
   "metadata": {
    "ExecuteTime": {
     "end_time": "2019-04-10T22:01:04.145448Z",
     "start_time": "2019-04-10T22:01:03.737267Z"
    }
   },
   "outputs": [],
   "source": [
    "temp_y = ((y == (+1)) + 0).reshape(-1)"
   ]
  },
  {
   "cell_type": "code",
   "execution_count": 47,
   "metadata": {
    "ExecuteTime": {
     "end_time": "2019-04-10T22:01:04.334670Z",
     "start_time": "2019-04-10T22:01:04.153345Z"
    }
   },
   "outputs": [
    {
     "data": {
      "text/plain": [
       "0"
      ]
     },
     "execution_count": 47,
     "metadata": {},
     "output_type": "execute_result"
    }
   ],
   "source": [
    "temp_y[1000]"
   ]
  },
  {
   "cell_type": "code",
   "execution_count": 48,
   "metadata": {
    "ExecuteTime": {
     "end_time": "2019-04-10T22:01:04.653718Z",
     "start_time": "2019-04-10T22:01:04.340654Z"
    }
   },
   "outputs": [
    {
     "data": {
      "text/plain": [
       "(401,)"
      ]
     },
     "execution_count": 48,
     "metadata": {},
     "output_type": "execute_result"
    }
   ],
   "source": [
    "theta = np.zeros((n, 1)).reshape(-1)\n",
    "theta.shape"
   ]
  },
  {
   "cell_type": "code",
   "execution_count": 49,
   "metadata": {
    "ExecuteTime": {
     "end_time": "2019-04-10T22:01:05.073145Z",
     "start_time": "2019-04-10T22:01:04.656711Z"
    }
   },
   "outputs": [
    {
     "data": {
      "text/plain": [
       "(5000,)"
      ]
     },
     "execution_count": 49,
     "metadata": {},
     "output_type": "execute_result"
    }
   ],
   "source": [
    "z = X_train.dot(theta)\n",
    "h = sigmoid(z)\n",
    "h.shape"
   ]
  },
  {
   "cell_type": "markdown",
   "metadata": {},
   "source": [
    "\\begin{equation*}\n",
    "    J(\\theta)=\\frac{1}{m}\\sum_{i=1}^{m}\\left[-y^{(i)}\\log{(h_\\theta(x^{(i)}))} -\n",
    "              (1 - y^{(i)})\\log{(1-h_\\theta(x^{(i)}))}\\right]\n",
    "\\end{equation*}"
   ]
  },
  {
   "cell_type": "code",
   "execution_count": 50,
   "metadata": {
    "ExecuteTime": {
     "end_time": "2019-04-10T22:01:05.656879Z",
     "start_time": "2019-04-10T22:01:05.076150Z"
    }
   },
   "outputs": [
    {
     "data": {
      "text/plain": [
       "array([-868166.843651])"
      ]
     },
     "execution_count": 50,
     "metadata": {},
     "output_type": "execute_result"
    }
   ],
   "source": [
    "t1 = np.log(h).T.dot(-y)\n",
    "t1"
   ]
  },
  {
   "cell_type": "code",
   "execution_count": 51,
   "metadata": {
    "ExecuteTime": {
     "end_time": "2019-04-10T22:01:05.935672Z",
     "start_time": "2019-04-10T22:01:05.663867Z"
    }
   },
   "outputs": [
    {
     "data": {
      "text/plain": [
       "array([-782909.740442])"
      ]
     },
     "execution_count": 51,
     "metadata": {},
     "output_type": "execute_result"
    }
   ],
   "source": [
    "t2 = np.log(1 - h).T.dot(1 - y)\n",
    "t2"
   ]
  },
  {
   "cell_type": "markdown",
   "metadata": {},
   "source": [
    "### Nova Abordagem Binária"
   ]
  },
  {
   "cell_type": "markdown",
   "metadata": {},
   "source": [
    "Definindo função custo regularizada:\n",
    "\n",
    "\\begin{equation*}\n",
    "    J(\\theta)=\\frac{1}{m}\\sum_{i=1}^{m}\\left[-y^{(i)}\\log{(h_\\theta(x^{(i)}))} -\n",
    "              (1 - y^{(i)})\\log{(1-h_\\theta(x^{(i)}))}\\right]\n",
    "              + \\frac{\\lambda}{2m}\\sum_{j=1}^{n}\\theta_j^2\n",
    "\\end{equation*}"
   ]
  },
  {
   "cell_type": "code",
   "execution_count": 52,
   "metadata": {
    "ExecuteTime": {
     "end_time": "2019-04-10T22:01:06.195047Z",
     "start_time": "2019-04-10T22:01:05.941658Z"
    }
   },
   "outputs": [
    {
     "name": "stdout",
     "output_type": "stream",
     "text": [
      "Dimensões de X: (5000, 400)\n",
      "Dimensões de y: (5000, 1)\n"
     ]
    }
   ],
   "source": [
    "# Dados brutos de entrada\n",
    "data = sio.loadmat('ex3data1.mat')\n",
    "\n",
    "X = data['X']\n",
    "y = data['y']\n",
    "\n",
    "print(f'Dimensões de X: {X.shape}')\n",
    "print(f'Dimensões de y: {y.shape}')"
   ]
  },
  {
   "cell_type": "code",
   "execution_count": 53,
   "metadata": {
    "ExecuteTime": {
     "end_time": "2019-04-10T22:01:06.389561Z",
     "start_time": "2019-04-10T22:01:06.200032Z"
    }
   },
   "outputs": [
    {
     "data": {
      "text/plain": [
       "array([[10],\n",
       "       [10],\n",
       "       [10],\n",
       "       ...,\n",
       "       [ 9],\n",
       "       [ 9],\n",
       "       [ 9]], dtype=uint8)"
      ]
     },
     "execution_count": 53,
     "metadata": {},
     "output_type": "execute_result"
    }
   ],
   "source": [
    "# Header de y\n",
    "y"
   ]
  },
  {
   "cell_type": "markdown",
   "metadata": {},
   "source": [
    "Para conseguir resultados efetivos através da métodologia ```One vs All```, vamos treinar um número ```k``` de classificadores de acordo com a quantidade ```K``` de labels possíveis. Neste caso, temos 10 classes diferentes (numerais de 0 a 10) e, portanto, vamos realizar o procedimento de treino para 10 possíveis casos."
   ]
  },
  {
   "cell_type": "code",
   "execution_count": 54,
   "metadata": {
    "ExecuteTime": {
     "end_time": "2019-04-10T22:01:06.633609Z",
     "start_time": "2019-04-10T22:01:06.391556Z"
    }
   },
   "outputs": [
    {
     "data": {
      "text/plain": [
       "array([[0],\n",
       "       [0],\n",
       "       [0],\n",
       "       ...,\n",
       "       [0],\n",
       "       [0],\n",
       "       [0]])"
      ]
     },
     "execution_count": 54,
     "metadata": {},
     "output_type": "execute_result"
    }
   ],
   "source": [
    "# Testando para y = 1\n",
    "y1 = (y == 1) * 1\n",
    "y1"
   ]
  },
  {
   "cell_type": "code",
   "execution_count": 55,
   "metadata": {
    "ExecuteTime": {
     "end_time": "2019-04-10T22:01:06.822239Z",
     "start_time": "2019-04-10T22:01:06.636586Z"
    }
   },
   "outputs": [
    {
     "data": {
      "text/plain": [
       "(5000,)"
      ]
     },
     "execution_count": 55,
     "metadata": {},
     "output_type": "execute_result"
    }
   ],
   "source": [
    "# Aplicando reshape\n",
    "y1 = y1.reshape(-1)\n",
    "y1.shape"
   ]
  },
  {
   "cell_type": "markdown",
   "metadata": {},
   "source": [
    "Agora temos um vetor de 5000 elementos, onde o 1 identifica os index onde o label é igual a classe (1, no caso)"
   ]
  },
  {
   "cell_type": "code",
   "execution_count": 56,
   "metadata": {
    "ExecuteTime": {
     "end_time": "2019-04-10T22:01:07.024699Z",
     "start_time": "2019-04-10T22:01:06.825234Z"
    }
   },
   "outputs": [
    {
     "data": {
      "text/plain": [
       "array([0, 0, 0, 0, 0, 0, 0, 0, 0, 0, 0, 0, 0, 0, 0, 0, 0, 0, 0, 0, 0, 0, 0, 0, 0, 0, 0, 0, 0, 0, 0, 0, 0, 0, 0, 0, 0, 0, 0, 0, 0, 0, 0, 0, 0, 0, 0, 0, 0, 0, 1, 1, 1, 1, 1, 1, 1, 1, 1, 1, 1, 1, 1, 1,\n",
       "       1, 1, 1, 1, 1, 1, 1, 1, 1, 1, 1, 1, 1, 1, 1, 1, 1, 1, 1, 1, 1, 1, 1, 1, 1, 1, 1, 1, 1, 1, 1, 1, 1, 1, 1, 1])"
      ]
     },
     "execution_count": 56,
     "metadata": {},
     "output_type": "execute_result"
    }
   ],
   "source": [
    "# Procurando y = 1\n",
    "y1[450:550]"
   ]
  },
  {
   "cell_type": "markdown",
   "metadata": {},
   "source": [
    "Vamos considerar uma matriz de theta para este classificador binário."
   ]
  },
  {
   "cell_type": "code",
   "execution_count": 57,
   "metadata": {
    "ExecuteTime": {
     "end_time": "2019-04-10T22:01:07.248114Z",
     "start_time": "2019-04-10T22:01:07.028688Z"
    }
   },
   "outputs": [
    {
     "data": {
      "text/plain": [
       "(401,)"
      ]
     },
     "execution_count": 57,
     "metadata": {},
     "output_type": "execute_result"
    }
   ],
   "source": [
    "# Adicionando bias\n",
    "X_train = np.c_[(np.ones((m, 1)), X)]\n",
    "\n",
    "# Matriz de theta\n",
    "[m, n] = X_train.shape\n",
    "theta1 = np.zeros((n, 1))\n",
    "theta1 = theta1.reshape(-1)\n",
    "theta1.shape"
   ]
  },
  {
   "cell_type": "markdown",
   "metadata": {},
   "source": [
    "Agora sim podemos calcular nossa função custo seguindo os meios normais!"
   ]
  },
  {
   "cell_type": "code",
   "execution_count": 58,
   "metadata": {
    "ExecuteTime": {
     "end_time": "2019-04-10T22:01:07.487249Z",
     "start_time": "2019-04-10T22:01:07.250110Z"
    }
   },
   "outputs": [
    {
     "data": {
      "text/plain": [
       "(5000,)"
      ]
     },
     "execution_count": 58,
     "metadata": {},
     "output_type": "execute_result"
    }
   ],
   "source": [
    "# Calculando hypothesis\n",
    "z = X_train.dot(theta)\n",
    "h = sigmoid(z)\n",
    "h.shape"
   ]
  },
  {
   "cell_type": "code",
   "execution_count": 59,
   "metadata": {
    "ExecuteTime": {
     "end_time": "2019-04-10T22:01:07.634812Z",
     "start_time": "2019-04-10T22:01:07.491198Z"
    }
   },
   "outputs": [
    {
     "data": {
      "text/plain": [
       "array([0.5, 0.5, 0.5, 0.5, 0.5])"
      ]
     },
     "execution_count": 59,
     "metadata": {},
     "output_type": "execute_result"
    }
   ],
   "source": [
    "# Verificnado\n",
    "h[:5]"
   ]
  },
  {
   "cell_type": "markdown",
   "metadata": {},
   "source": [
    "\\begin{equation*}\n",
    "    J(\\theta)=\\frac{1}{m}\\sum_{i=1}^{m}\\left[-y^{(i)}\\log{(h_\\theta(x^{(i)}))} -\n",
    "              (1 - y^{(i)})\\log{(1-h_\\theta(x^{(i)}))}\\right]\n",
    "              + \\frac{\\lambda}{2m}\\sum_{j=1}^{n}\\theta_j^2\n",
    "\\end{equation*}"
   ]
  },
  {
   "cell_type": "code",
   "execution_count": 60,
   "metadata": {
    "ExecuteTime": {
     "end_time": "2019-04-10T22:01:07.817933Z",
     "start_time": "2019-04-10T22:01:07.636807Z"
    }
   },
   "outputs": [],
   "source": [
    "# Calculando custo\n",
    "lamda = 0.1\n",
    "termo1 = np.log(h).T.dot(-y)\n",
    "termo2 = np.log(1 - h).T.dot(1 - y)\n",
    "unreg = termo1 - termo2\n",
    "reg = (lamda/(2*m)) * theta.T.dot(theta)\n",
    "\n",
    "J = unreg + reg"
   ]
  },
  {
   "cell_type": "markdown",
   "metadata": {
    "ExecuteTime": {
     "end_time": "2019-04-10T20:43:24.847685Z",
     "start_time": "2019-04-10T20:43:24.842719Z"
    }
   },
   "source": [
    "Para cada uma das classes, devemos:\n",
    "    - Indexar corretamente o vetor y para uma única classe;\n",
    "    - Criar um vetor de parâmetros específico considerando uma única classe;\n",
    "    - Minimizar a função custo para obter os melhores parâmetros;\n",
    "    - Finalizar treinamento do classificador binário;\n",
    "    - Adicionar os parâmetros theta a uma matriz all_theta que irá contemplar todas as classes."
   ]
  },
  {
   "cell_type": "markdown",
   "metadata": {},
   "source": [
    "Para concluir os passos acima e, considerando ```K``` classificadores binários, devemos:\n",
    "    - Definir uma função que compute o Custo;\n",
    "    - Definir uma função que compute o Gradiente;\n",
    "    - Definir uma função para minimizar o Custo e obter os melhores theta;\n",
    "    - Definir uma função que englobe tudo isso."
   ]
  },
  {
   "cell_type": "markdown",
   "metadata": {},
   "source": [
    "#### Função Custo"
   ]
  },
  {
   "cell_type": "markdown",
   "metadata": {},
   "source": [
    "\\begin{equation*}\n",
    "    J(\\theta)=\\frac{1}{m}\\sum_{i=1}^{m}\\left[-y^{(i)}\\log{(h_\\theta(x^{(i)}))} -\n",
    "              (1 - y^{(i)})\\log{(1-h_\\theta(x^{(i)}))}\\right]\n",
    "              + \\frac{\\lambda}{2m}\\sum_{j=1}^{n}\\theta_j^2\n",
    "\\end{equation*}"
   ]
  },
  {
   "cell_type": "code",
   "execution_count": 123,
   "metadata": {
    "ExecuteTime": {
     "end_time": "2019-04-10T23:01:18.444207Z",
     "start_time": "2019-04-10T23:01:18.428250Z"
    }
   },
   "outputs": [],
   "source": [
    "def costFunction(theta, X, y, lamda):\n",
    "    \"\"\" Função responsável por cálcular o custo de um treinamento,\n",
    "    considerando um classificador binário de dígitos (K = 1)\n",
    "    Input:\n",
    "        theta: vetor de parâmetros de dimensões nx1 (classe única já indexada)\n",
    "        X: dataset de dimensões mxn\n",
    "        y: vetor de labels de dimensões mx1 (classe única já indexada)\n",
    "        lamda: fator de regularização\n",
    "    Output:\n",
    "        J: custo do treinamento com os parâmetros indicados\"\"\"\n",
    "    \n",
    "    # Retornando variáveis de dimensão\n",
    "    [m, n] = X.shape\n",
    "    \n",
    "    # Calculando hypothesis\n",
    "    z = X.dot(theta)\n",
    "    h = sigmoid(z)\n",
    "    \n",
    "    # Calculando custo\n",
    "    termo1 = np.log(h).T.dot(y * (-1))\n",
    "    termo2 = np.log(1 - h).T.dot(1 - y)\n",
    "    unreg = termo1 - termo2\n",
    "    reg = theta.T.dot(theta)\n",
    "    \n",
    "    return (unreg + reg) / m"
   ]
  },
  {
   "cell_type": "code",
   "execution_count": 94,
   "metadata": {
    "ExecuteTime": {
     "end_time": "2019-04-10T22:37:34.710214Z",
     "start_time": "2019-04-10T22:37:34.688280Z"
    }
   },
   "outputs": [
    {
     "name": "stdout",
     "output_type": "stream",
     "text": [
      "Dimensões de X_train: (5000, 401)\n",
      "Dimensões de y1: (5000,)\n",
      "Primeiras linhas de y: [0 0 0 0 0 0 0 0 0 0 0 0 0 0 0]\n",
      "Dimensões de theta: (401,)\n"
     ]
    }
   ],
   "source": [
    "# Testando para um classificar binário (digito = 1)\n",
    "m = X.shape[0]\n",
    "X_train = np.c_[(np.ones((m, 1)), X)]\n",
    "n = X_train.shape[1]\n",
    "y1 = ((y == 1) * 1).reshape(-1)\n",
    "theta = np.zeros((n, 1)).reshape(-1)\n",
    "lamda = 0.1\n",
    "\n",
    "print(f'Dimensões de X_train: {X_train.shape}')\n",
    "print(f'Dimensões de y1: {y1.shape}')\n",
    "print(f'Primeiras linhas de y: {y1[:15]}')\n",
    "print(f'Dimensões de theta: {theta.shape}')"
   ]
  },
  {
   "cell_type": "code",
   "execution_count": 95,
   "metadata": {
    "ExecuteTime": {
     "end_time": "2019-04-10T22:37:45.541357Z",
     "start_time": "2019-04-10T22:37:45.534379Z"
    }
   },
   "outputs": [
    {
     "name": "stdout",
     "output_type": "stream",
     "text": [
      "Custo calculado: 0.6931471805599453\n"
     ]
    }
   ],
   "source": [
    "# Chamando função custo\n",
    "J = costFunction(theta, X_train, y1, lamda)\n",
    "print(f'Custo calculado: {J}')"
   ]
  },
  {
   "cell_type": "markdown",
   "metadata": {},
   "source": [
    "Antes de tomar qualquer conclusão, vamos calcular o gradiente e uma função de minimização."
   ]
  },
  {
   "cell_type": "markdown",
   "metadata": {},
   "source": [
    "#### Gradiente"
   ]
  },
  {
   "cell_type": "markdown",
   "metadata": {},
   "source": [
    "\\begin{equation*}\n",
    "    \\frac{\\partial J(\\theta)}{\\partial\\theta_j} = \n",
    "        \\begin{cases} \n",
    "            \\left(\\frac{1}{m}\\sum_{i=1}^m(h_\\theta(x^{(i)})-y^{(i)})x_j^{(i)}\\right)\n",
    "                & \\mbox{para } j\\mbox{ = 0} \\\\\n",
    "            \\left(\\frac{1}{m}\\sum_{i=1}^m(h_\\theta(x^{(i)})-y^{(i)})x_j^{(i)}\\right) +\n",
    "            \\frac{\\lambda}{m}\\theta_j &\\mbox{para } j\\mbox{ >= 1}\n",
    "        \\end{cases}\n",
    "\\end{equation*}  "
   ]
  },
  {
   "cell_type": "code",
   "execution_count": 128,
   "metadata": {
    "ExecuteTime": {
     "end_time": "2019-04-10T23:08:12.705903Z",
     "start_time": "2019-04-10T23:08:12.692939Z"
    }
   },
   "outputs": [],
   "source": [
    "def gradient(theta, X, y, lamda):\n",
    "    \"\"\" Função responsável por cálcular o gradiente (derivadas parciais)\n",
    "    Input:\n",
    "        theta: vetor de parâmetros de dimensão nx1\n",
    "        X: features de dimensões mxn\n",
    "        y: vetor de labels de dimensão mx1\n",
    "        lamda: fator de regularização\n",
    "    Output:\n",
    "        grad: vetor de gradiente com todas as derivadas parciais (nx1)\"\"\"\n",
    "    \n",
    "    # Dimensões\n",
    "    [m, n] = X.shape\n",
    "    \n",
    "    # Calculando gradiente\n",
    "    z = X.dot(theta)\n",
    "    h = sigmoid(z)\n",
    "    grad = X.T.dot(h - y)\n",
    "    grad[1:] = grad[1:] + (lamda/m)*theta[1:]\n",
    "    \n",
    "    return grad"
   ]
  },
  {
   "cell_type": "code",
   "execution_count": 129,
   "metadata": {
    "ExecuteTime": {
     "end_time": "2019-04-10T23:08:14.925967Z",
     "start_time": "2019-04-10T23:08:14.916991Z"
    }
   },
   "outputs": [],
   "source": [
    "# Testando\n",
    "grad = gradient(theta, X_train, y1, lamda)"
   ]
  },
  {
   "cell_type": "code",
   "execution_count": 130,
   "metadata": {
    "ExecuteTime": {
     "end_time": "2019-04-10T23:08:17.494783Z",
     "start_time": "2019-04-10T23:08:17.482814Z"
    }
   },
   "outputs": [
    {
     "data": {
      "text/plain": [
       "array([ 2.000000e+03,  0.000000e+00,  0.000000e+00, -3.872651e-04,  2.458648e-03, -1.164701e-03,  2.984533e-01,  3.009640e-01,  5.768387e-02,  5.077351e-02,  1.090396e-01,  3.525355e-02,\n",
       "       -2.711668e-02, -5.876744e-02, -1.043973e-01, -1.633717e-01, -1.179166e-01, -3.428309e-02, -2.318495e-04,  3.659450e-04,  0.000000e+00,  1.234001e-04, -1.050177e-03,  5.164639e-03,\n",
       "       -9.293038e-02, -1.603880e-01,  4.210963e-01,  1.403214e+00,  2.035603e+00,  1.770619e+00,  6.711758e-01, -2.544750e-01, -5.341581e-01, -6.089224e-01, -7.218186e-01, -2.364683e-01,\n",
       "       -2.408007e-02, -1.275915e-01, -1.350698e-01, -1.947951e-02, -4.429466e-03, -1.058610e-03,  1.148088e-02, -4.547858e-02,  2.353046e-01,  2.030169e+00,  7.085653e+00,  1.210085e+01,\n",
       "        1.362964e+01,  1.014235e+01,  4.919109e+00,  3.149471e+00,  3.054058e+00,  8.242045e+00,  1.977360e+01,  2.523262e+01,  1.528244e+01,  4.861497e+00,  1.349668e+00, -5.223184e-02,\n",
       "        1.578679e-02, -4.422862e-03,  1.585427e-03,  1.061581e-01,  4.384987e+00,  1.453276e+01,  3.518270e+01,  5.299694e+01,  5.722588e+01,  5.393548e+01,  5.318797e+01,  6.518558e+01,\n",
       "        8.452761e+01,  1.153502e+02,  1.480766e+02,  1.546690e+02,  1.067930e+02,  4.265010e+01,  1.012419e+01,  1.657493e+00,  3.633559e-01, -5.158105e-03, -1.305634e-01,  1.237653e+00,\n",
       "        1.449191e+01,  4.640493e+01,  9.241361e+01,  1.373774e+02,  1.583924e+02,  1.744142e+02,  2.092036e+02,  2.553144e+02,  2.914361e+02,  3.201652e+02,  3.627733e+02,  3.878193e+02,\n",
       "        3.080014e+02,  1.472171e+02,  3.798917e+01,  1.019499e+01,  2.294577e+00,  6.680107e-02,  1.261027e-01,  4.415677e+00,  3.854148e+01,  1.183642e+02,  2.237604e+02,  3.253874e+02,\n",
       "        3.864247e+02,  4.441993e+02,  5.190057e+02,  5.592765e+02,  5.510208e+02,  5.297533e+02,  5.462501e+02,  6.025497e+02,  5.584440e+02,  3.278237e+02,  1.120265e+02,  3.676324e+01,\n",
       "        6.430493e+00,  1.342738e-01,  9.114560e-01,  1.276502e+01,  8.699553e+01,  2.447474e+02,  4.479865e+02,  6.043174e+02,  7.060987e+02,  7.759291e+02,  8.293729e+02,  8.243951e+02,\n",
       "        7.609723e+02,  6.614844e+02,  6.143347e+02,  6.794784e+02,  7.124564e+02,  5.174002e+02,  2.188246e+02,  7.020737e+01,  9.958668e+00, -2.657854e-02,  1.529423e+00,  2.929120e+01,\n",
       "        1.750090e+02,  4.449386e+02,  7.357619e+02,  9.227263e+02,  9.867397e+02,  9.678370e+02,  9.484919e+02,  9.259411e+02,  8.544720e+02,  6.843857e+02,  5.865294e+02,  6.739479e+02,\n",
       "        8.263297e+02,  7.312747e+02,  3.446372e+02,  9.551625e+01,  1.296262e+01, -1.134224e-01,  1.696035e+00,  5.279729e+01,  2.883600e+02,  6.576404e+02,  9.789270e+02,  1.098253e+03,\n",
       "        9.873138e+02,  8.580499e+02,  8.460858e+02,  8.899495e+02,  8.268982e+02,  6.006903e+02,  5.087254e+02,  6.925647e+02,  9.504396e+02,  8.936994e+02,  4.272745e+02,  9.642822e+01,\n",
       "        1.426341e+01, -4.507154e-01,  3.933682e+00,  8.394531e+01,  4.041395e+02,  8.368178e+02,  1.105313e+03,  1.021974e+03,  7.222180e+02,  5.726458e+02,  6.343683e+02,  7.810164e+02,\n",
       "        7.485164e+02,  5.622376e+02,  5.700169e+02,  8.312480e+02,  1.056784e+03,  9.125480e+02,  4.257915e+02,  9.370765e+01,  1.511019e+01, -9.938166e-01,  9.287762e+00,  1.214795e+02,\n",
       "        5.091911e+02,  9.638542e+02,  1.091527e+03,  8.001627e+02,  4.326053e+02,  3.616377e+02,  5.723349e+02,  8.341746e+02,  8.649385e+02,  7.944894e+02,  8.347175e+02,  1.007278e+03,\n",
       "        1.069449e+03,  7.990450e+02,  3.568185e+02,  8.716024e+01,  1.397491e+01, -1.396440e+00,  1.706653e+01,  1.512973e+02,  5.524185e+02,  9.781583e+02,  1.040182e+03,  7.274485e+02,\n",
       "        4.735042e+02,  5.491394e+02,  8.705153e+02,  1.138879e+03,  1.138970e+03,  1.051368e+03,  1.029558e+03,  1.084050e+03,  9.751735e+02,  6.330727e+02,  2.632808e+02,  6.886189e+01,\n",
       "        1.034667e+01, -1.906139e+00,  2.035804e+01,  1.405050e+02,  4.830216e+02,  8.603058e+02,  9.936645e+02,  8.605018e+02,  7.722882e+02,  9.000313e+02,  1.128339e+03,  1.236091e+03,\n",
       "        1.166519e+03,  1.060119e+03,  1.036044e+03,  9.954485e+02,  7.632770e+02,  4.326452e+02,  1.625181e+02,  4.308303e+01,  6.189800e+00, -1.455802e+00,  1.468331e+01,  9.175760e+01,\n",
       "        3.308244e+02,  6.687823e+02,  9.099420e+02,  9.567781e+02,  9.372366e+02,  9.573030e+02,  9.601968e+02,  9.292731e+02,  9.012771e+02,  8.730259e+02,  8.423771e+02,  7.290719e+02,\n",
       "        4.907183e+02,  2.475610e+02,  8.641857e+01,  2.098807e+01,  2.207773e+00, -5.328387e-01,  6.752837e+00,  4.444330e+01,  2.009660e+02,  4.724714e+02,  7.360862e+02,  8.404713e+02,\n",
       "        8.050883e+02,  7.140809e+02,  6.331208e+02,  6.092767e+02,  6.248554e+02,  6.257194e+02,  5.632740e+02,  4.464591e+02,  2.696064e+02,  1.213375e+02,  4.469235e+01,  1.227668e+01,\n",
       "        9.314679e-01, -6.313201e-02,  1.589525e+00,  1.464392e+01,  1.032199e+02,  2.799567e+02,  4.561424e+02,  5.233367e+02,  4.672936e+02,  3.847127e+02,  3.533252e+02,  3.590378e+02,\n",
       "        3.683446e+02,  3.578672e+02,  3.065491e+02,  2.178836e+02,  1.178111e+02,  5.100335e+01,  1.915172e+01,  6.127971e+00,  9.160072e-01, -5.947576e-03, -7.645949e-02,  4.439400e+00,\n",
       "        5.116991e+01,  1.468369e+02,  2.312960e+02,  2.400626e+02,  1.958962e+02,  1.684448e+02,  1.743226e+02,  1.824643e+02,  1.809454e+02,  1.656223e+02,  1.342502e+02,  8.930666e+01,\n",
       "        4.590557e+01,  1.835037e+01,  6.331430e+00,  1.852435e+00,  3.144514e-01, -1.339502e-02, -7.111013e-02,  5.112860e-01,  1.725587e+01,  5.828153e+01,  8.724482e+01,  7.150840e+01,\n",
       "        3.963162e+01,  3.728887e+01,  4.901449e+01,  5.258474e+01,  5.362479e+01,  5.265238e+01,  3.807016e+01,  2.498067e+01,  1.349940e+01,  3.719389e+00,  3.338380e-01,  1.690144e-01,\n",
       "       -2.337858e-02,  5.404071e-04, -5.822355e-03, -2.342674e-01,  1.180557e+00,  1.054060e+01,  2.111754e+01,  1.308093e+01,  2.062011e+00,  2.673714e-01,  9.956318e-01,  1.480724e+00,\n",
       "        3.380220e+00,  6.517033e+00,  3.924313e+00,  2.308882e+00,  1.669772e+00,  5.424209e-01, -1.429519e-01, -2.642999e-02, -2.091078e-03,  0.000000e+00,  7.723141e-04, -6.666794e-03,\n",
       "       -7.209444e-02,  7.490712e-01,  1.220572e+00,  2.720783e-01, -4.447667e-02,  2.413700e-01, -1.242675e-01, -1.989374e-01,  5.319837e-02,  1.176239e-01, -6.104257e-01, -6.793103e-02,\n",
       "       -9.043947e-05,  3.883505e-02,  8.666738e-03, -1.030263e-03,  0.000000e+00])"
      ]
     },
     "execution_count": 130,
     "metadata": {},
     "output_type": "execute_result"
    }
   ],
   "source": [
    "# Verificando erro\n",
    "grad"
   ]
  },
  {
   "cell_type": "markdown",
   "metadata": {},
   "source": [
    "Aparentemente funcionou bem. Vamos verificar as dimensões do gradiente."
   ]
  },
  {
   "cell_type": "code",
   "execution_count": 131,
   "metadata": {
    "ExecuteTime": {
     "end_time": "2019-04-10T23:08:39.681703Z",
     "start_time": "2019-04-10T23:08:39.676718Z"
    }
   },
   "outputs": [
    {
     "data": {
      "text/plain": [
       "(401,)"
      ]
     },
     "execution_count": 131,
     "metadata": {},
     "output_type": "execute_result"
    }
   ],
   "source": [
    "# Dimensões\n",
    "grad.shape"
   ]
  },
  {
   "cell_type": "markdown",
   "metadata": {},
   "source": [
    "#### Otimizando Modelo"
   ]
  },
  {
   "cell_type": "markdown",
   "metadata": {},
   "source": [
    "Nos dois últimos problemas realizados até aqui, utilizamos os módulos:\n",
    "    - scipy.optimize.fmin()\n",
    "    - scipy.optimize.minimize()\n",
    "\n",
    "Para este problema, vamos utilizar o módulo\n",
    "    - scipy.optimize.fmin_cg()\n",
    "    \n",
    "Fonte: [fmin_cg()](https://docs.scipy.org/doc/scipy/reference/generated/scipy.optimize.fmin_cg.html)"
   ]
  },
  {
   "cell_type": "code",
   "execution_count": 132,
   "metadata": {
    "ExecuteTime": {
     "end_time": "2019-04-10T23:08:58.789118Z",
     "start_time": "2019-04-10T23:08:58.785130Z"
    }
   },
   "outputs": [],
   "source": [
    "# Importando módulo\n",
    "from scipy import optimize"
   ]
  },
  {
   "cell_type": "code",
   "execution_count": 133,
   "metadata": {
    "ExecuteTime": {
     "end_time": "2019-04-10T23:08:59.068372Z",
     "start_time": "2019-04-10T23:08:59.013517Z"
    }
   },
   "outputs": [
    {
     "name": "stdout",
     "output_type": "stream",
     "text": [
      "Help on function fmin_cg in module scipy.optimize.optimize:\n",
      "\n",
      "fmin_cg(f, x0, fprime=None, args=(), gtol=1e-05, norm=inf, epsilon=1.4901161193847656e-08, maxiter=None, full_output=0, disp=1, retall=0, callback=None)\n",
      "    Minimize a function using a nonlinear conjugate gradient algorithm.\n",
      "    \n",
      "    Parameters\n",
      "    ----------\n",
      "    f : callable, ``f(x, *args)``\n",
      "        Objective function to be minimized.  Here `x` must be a 1-D array of\n",
      "        the variables that are to be changed in the search for a minimum, and\n",
      "        `args` are the other (fixed) parameters of `f`.\n",
      "    x0 : ndarray\n",
      "        A user-supplied initial estimate of `xopt`, the optimal value of `x`.\n",
      "        It must be a 1-D array of values.\n",
      "    fprime : callable, ``fprime(x, *args)``, optional\n",
      "        A function that returns the gradient of `f` at `x`. Here `x` and `args`\n",
      "        are as described above for `f`. The returned value must be a 1-D array.\n",
      "        Defaults to None, in which case the gradient is approximated\n",
      "        numerically (see `epsilon`, below).\n",
      "    args : tuple, optional\n",
      "        Parameter values passed to `f` and `fprime`. Must be supplied whenever\n",
      "        additional fixed parameters are needed to completely specify the\n",
      "        functions `f` and `fprime`.\n",
      "    gtol : float, optional\n",
      "        Stop when the norm of the gradient is less than `gtol`.\n",
      "    norm : float, optional\n",
      "        Order to use for the norm of the gradient\n",
      "        (``-np.Inf`` is min, ``np.Inf`` is max).\n",
      "    epsilon : float or ndarray, optional\n",
      "        Step size(s) to use when `fprime` is approximated numerically. Can be a\n",
      "        scalar or a 1-D array.  Defaults to ``sqrt(eps)``, with eps the\n",
      "        floating point machine precision.  Usually ``sqrt(eps)`` is about\n",
      "        1.5e-8.\n",
      "    maxiter : int, optional\n",
      "        Maximum number of iterations to perform. Default is ``200 * len(x0)``.\n",
      "    full_output : bool, optional\n",
      "        If True, return `fopt`, `func_calls`, `grad_calls`, and `warnflag` in\n",
      "        addition to `xopt`.  See the Returns section below for additional\n",
      "        information on optional return values.\n",
      "    disp : bool, optional\n",
      "        If True, return a convergence message, followed by `xopt`.\n",
      "    retall : bool, optional\n",
      "        If True, add to the returned values the results of each iteration.\n",
      "    callback : callable, optional\n",
      "        An optional user-supplied function, called after each iteration.\n",
      "        Called as ``callback(xk)``, where ``xk`` is the current value of `x0`.\n",
      "    \n",
      "    Returns\n",
      "    -------\n",
      "    xopt : ndarray\n",
      "        Parameters which minimize f, i.e. ``f(xopt) == fopt``.\n",
      "    fopt : float, optional\n",
      "        Minimum value found, f(xopt).  Only returned if `full_output` is True.\n",
      "    func_calls : int, optional\n",
      "        The number of function_calls made.  Only returned if `full_output`\n",
      "        is True.\n",
      "    grad_calls : int, optional\n",
      "        The number of gradient calls made. Only returned if `full_output` is\n",
      "        True.\n",
      "    warnflag : int, optional\n",
      "        Integer value with warning status, only returned if `full_output` is\n",
      "        True.\n",
      "    \n",
      "        0 : Success.\n",
      "    \n",
      "        1 : The maximum number of iterations was exceeded.\n",
      "    \n",
      "        2 : Gradient and/or function calls were not changing.  May indicate\n",
      "            that precision was lost, i.e., the routine did not converge.\n",
      "    \n",
      "    allvecs : list of ndarray, optional\n",
      "        List of arrays, containing the results at each iteration.\n",
      "        Only returned if `retall` is True.\n",
      "    \n",
      "    See Also\n",
      "    --------\n",
      "    minimize : common interface to all `scipy.optimize` algorithms for\n",
      "               unconstrained and constrained minimization of multivariate\n",
      "               functions.  It provides an alternative way to call\n",
      "               ``fmin_cg``, by specifying ``method='CG'``.\n",
      "    \n",
      "    Notes\n",
      "    -----\n",
      "    This conjugate gradient algorithm is based on that of Polak and Ribiere\n",
      "    [1]_.\n",
      "    \n",
      "    Conjugate gradient methods tend to work better when:\n",
      "    \n",
      "    1. `f` has a unique global minimizing point, and no local minima or\n",
      "       other stationary points,\n",
      "    2. `f` is, at least locally, reasonably well approximated by a\n",
      "       quadratic function of the variables,\n",
      "    3. `f` is continuous and has a continuous gradient,\n",
      "    4. `fprime` is not too large, e.g., has a norm less than 1000,\n",
      "    5. The initial guess, `x0`, is reasonably close to `f` 's global\n",
      "       minimizing point, `xopt`.\n",
      "    \n",
      "    References\n",
      "    ----------\n",
      "    .. [1] Wright & Nocedal, \"Numerical Optimization\", 1999, pp. 120-122.\n",
      "    \n",
      "    Examples\n",
      "    --------\n",
      "    Example 1: seek the minimum value of the expression\n",
      "    ``a*u**2 + b*u*v + c*v**2 + d*u + e*v + f`` for given values\n",
      "    of the parameters and an initial guess ``(u, v) = (0, 0)``.\n",
      "    \n",
      "    >>> args = (2, 3, 7, 8, 9, 10)  # parameter values\n",
      "    >>> def f(x, *args):\n",
      "    ...     u, v = x\n",
      "    ...     a, b, c, d, e, f = args\n",
      "    ...     return a*u**2 + b*u*v + c*v**2 + d*u + e*v + f\n",
      "    >>> def gradf(x, *args):\n",
      "    ...     u, v = x\n",
      "    ...     a, b, c, d, e, f = args\n",
      "    ...     gu = 2*a*u + b*v + d     # u-component of the gradient\n",
      "    ...     gv = b*u + 2*c*v + e     # v-component of the gradient\n",
      "    ...     return np.asarray((gu, gv))\n",
      "    >>> x0 = np.asarray((0, 0))  # Initial guess.\n",
      "    >>> from scipy import optimize\n",
      "    >>> res1 = optimize.fmin_cg(f, x0, fprime=gradf, args=args)\n",
      "    Optimization terminated successfully.\n",
      "             Current function value: 1.617021\n",
      "             Iterations: 4\n",
      "             Function evaluations: 8\n",
      "             Gradient evaluations: 8\n",
      "    >>> res1\n",
      "    array([-1.80851064, -0.25531915])\n",
      "    \n",
      "    Example 2: solve the same problem using the `minimize` function.\n",
      "    (This `myopts` dictionary shows all of the available options,\n",
      "    although in practice only non-default values would be needed.\n",
      "    The returned value will be a dictionary.)\n",
      "    \n",
      "    >>> opts = {'maxiter' : None,    # default value.\n",
      "    ...         'disp' : True,    # non-default value.\n",
      "    ...         'gtol' : 1e-5,    # default value.\n",
      "    ...         'norm' : np.inf,  # default value.\n",
      "    ...         'eps' : 1.4901161193847656e-08}  # default value.\n",
      "    >>> res2 = optimize.minimize(f, x0, jac=gradf, args=args,\n",
      "    ...                          method='CG', options=opts)\n",
      "    Optimization terminated successfully.\n",
      "            Current function value: 1.617021\n",
      "            Iterations: 4\n",
      "            Function evaluations: 8\n",
      "            Gradient evaluations: 8\n",
      "    >>> res2.x  # minimum found\n",
      "    array([-1.80851064, -0.25531915])\n",
      "\n"
     ]
    }
   ],
   "source": [
    "# Verificando argumentos\n",
    "help(optimize.fmin_cg)"
   ]
  },
  {
   "cell_type": "code",
   "execution_count": 134,
   "metadata": {
    "ExecuteTime": {
     "end_time": "2019-04-10T23:09:09.158800Z",
     "start_time": "2019-04-10T23:09:04.989948Z"
    }
   },
   "outputs": [],
   "source": [
    "# Vejamos\n",
    "result = scipy.optimize.fmin_cg(computeCost, fprime=gradient, x0=theta,\n",
    "                               args=(X_train, y1, lamda), maxiter=50,\n",
    "                               disp=False, full_output=True)"
   ]
  },
  {
   "cell_type": "code",
   "execution_count": 135,
   "metadata": {
    "ExecuteTime": {
     "end_time": "2019-04-10T23:09:11.565367Z",
     "start_time": "2019-04-10T23:09:11.557389Z"
    }
   },
   "outputs": [
    {
     "data": {
      "text/plain": [
       "(array([-2.976817e+00,  0.000000e+00,  0.000000e+00,  4.743128e-05, -4.374885e-04, -4.836378e-04,  5.123529e-04, -8.032833e-03,  2.064173e-03,  1.647083e-04,  4.781605e-04,  1.060046e-04,\n",
       "         1.049490e-04,  3.733127e-04,  9.436163e-04,  5.024946e-03,  6.838518e-03,  5.758627e-04, -9.716843e-05, -1.284984e-07,  0.000000e+00, -3.290121e-08,  7.424094e-06, -6.178454e-04,\n",
       "         4.899800e-03,  5.713410e-03,  1.233673e-03, -1.062939e-02,  1.946698e-03, -2.805185e-03, -9.091439e-03, -1.308430e-03, -7.696247e-04, -3.184170e-03, -4.638094e-03, -4.796835e-02,\n",
       "        -6.814750e-02,  2.833493e-05,  4.839162e-03,  3.241187e-04,  1.420261e-04,  2.710534e-07, -1.396212e-04,  2.522784e-04,  1.244707e-02,  2.486628e-02,  3.318417e-02,  3.348459e-02,\n",
       "        -4.796570e-02, -6.568554e-02, -2.630016e-02, -2.513165e-02, -2.189829e-03, -1.848592e-02, -1.542909e-01, -2.963157e-01, -2.610054e-01, -7.903695e-02,  2.648305e-02, -6.196077e-05,\n",
       "        -6.713749e-04,  1.257922e-06,  3.835117e-04,  3.572892e-03, -6.451001e-02, -2.451022e-01, -5.030830e-01, -7.482353e-01, -4.475005e-01, -4.044516e-01, -2.133176e-02,  1.518561e-01,\n",
       "        -7.538860e-02, -6.561970e-02, -4.484213e-01, -5.489443e-01, -7.098079e-01, -6.788548e-01, -6.030863e-01, -3.061520e-02, -1.237820e-02,  2.100322e-06,  2.660509e-03, -3.263112e-02,\n",
       "         2.891650e-02,  1.180659e-02, -1.560019e+00, -1.457814e+00, -6.269231e-02,  7.529055e-01,  1.116166e+00,  1.055873e-01, -2.743217e-01, -2.969959e-01, -1.077710e+00, -7.638739e-01,\n",
       "         1.077528e+00,  3.680068e-01, -5.533853e-01, -1.715974e-01, -2.852432e-02, -2.041810e-05, -8.944491e-03, -5.028423e-02,  8.771596e-01,  2.083568e-01, -7.488309e-01, -1.162069e+00,\n",
       "        -3.857267e-01,  1.309585e+00,  8.904601e-01, -8.330088e-01, -6.357577e-01, -5.033367e-01, -1.560513e+00, -1.028579e+00,  2.225627e+00,  7.792074e-01, -1.862073e+00, -5.218793e-01,\n",
       "        -3.137927e-02, -8.261360e-05,  8.037646e-03, -4.147312e-01, -2.591122e-01, -3.912773e-01, -1.229563e+00, -8.291276e-01, -6.988830e-01, -2.442535e-01, -7.503608e-01, -7.500166e-01,\n",
       "        -5.287173e-01, -5.260091e-01, -1.046863e+00, -1.323778e+00, -1.064523e+00, -1.758611e-01, -1.269728e+00, -7.949676e-01, -2.518145e-02, -3.634822e-04,  3.067927e-02, -9.484254e-01,\n",
       "        -1.734694e+00, -9.576276e-01, -1.057409e+00, -1.450176e-01, -5.532945e-01,  1.771555e-01, -1.964265e+00, -1.836553e+00, -8.531716e-01, -1.503934e+00,  4.423922e-01,  1.507785e+00,\n",
       "        -3.634846e-01, -4.136894e-01, -3.233181e-01, -1.559140e+00, -2.422264e-02,  9.386969e-03, -1.076163e-01, -6.938438e-01, -7.445851e-01, -1.468937e+00, -1.082854e+00,  2.709564e-01,\n",
       "         2.697498e-01, -4.214344e-01, -1.891651e+00, -6.891644e-01, -1.773588e-03, -1.026713e+00, -1.023564e+00,  4.578720e-01, -2.697143e-01, -7.970027e-01, -1.166825e+00, -1.951442e+00,\n",
       "        -2.929707e-01,  1.895248e-02, -2.159135e-01, -1.376277e-01, -4.488751e-01, -8.216277e-01, -6.028344e-01, -3.845505e-01,  7.382488e-02,  2.949805e-01,  6.897728e-01,  1.268852e+00,\n",
       "         7.536381e-01,  5.739660e-01,  4.836547e-01, -3.384230e-02, -1.266734e+00, -3.021029e-01, -5.164277e-01, -1.386890e+00, -9.813065e-02,  1.159093e-02, -1.092945e-01,  2.676676e-01,\n",
       "        -7.597633e-01, -1.401578e+00,  8.053844e-02, -1.760818e-01,  6.621336e-01,  2.641696e+00,  2.652915e+00,  1.523385e+00,  1.650008e+00,  3.272660e-01,  8.549473e-01,  2.990961e-01,\n",
       "        -2.041728e-02, -1.286992e-01, -1.423334e+00, -1.066905e+00, -1.024425e-03,  4.507604e-03, -1.066403e-01,  3.664118e-01,  1.428690e+00,  2.150175e-01, -6.896976e-01, -5.955158e-01,\n",
       "         1.334519e+00,  1.230017e+00,  4.581235e-01, -1.792982e-01,  2.257424e-01, -1.582258e+00, -1.062379e+00,  4.360413e-01,  5.453154e-01,  5.072984e-01, -1.790690e+00, -1.111068e+00,\n",
       "        -7.896069e-02,  1.704542e-02, -1.638107e-01, -1.367883e+00, -1.425617e+00, -8.227842e-01, -1.572915e+00, -5.491033e-01, -2.179883e-01,  2.004095e-01,  3.566370e-01,  7.395422e-01,\n",
       "         3.611665e-01, -1.115186e+00, -7.669637e-01, -5.028169e-01, -5.825851e-01,  1.422812e+00,  3.149528e-01, -4.808649e-01, -7.563349e-02,  1.483710e-02, -1.786947e-01, -8.100177e-01,\n",
       "         4.693072e-01,  7.274129e-01,  1.354060e+00, -4.909087e-01, -9.672033e-01,  4.437706e-01, -1.074340e+00, -1.163407e+00, -1.697955e+00, -7.562350e-01,  9.260369e-01,  1.083218e+00,\n",
       "        -6.353652e-01,  7.486236e-01,  3.917674e-01, -2.997707e-01, -1.736386e-02,  2.294230e-03, -2.007635e-02, -3.999850e-01, -2.958188e-01,  1.452232e-01, -1.607364e-01, -1.117981e+00,\n",
       "        -1.044256e+00, -1.685172e+00, -1.517385e+00, -9.476851e-01, -1.289136e+00, -8.331361e-01,  1.136969e+00, -5.011675e-01, -4.827833e-01,  1.027628e+00, -4.395406e-01, -2.494479e-01,\n",
       "        -1.204681e-02, -5.077139e-05,  1.768884e-03, -6.737447e-02, -4.333904e-01, -3.608072e-01,  2.697781e-01, -9.028791e-01, -1.225116e+00, -8.886699e-01, -6.753840e-01, -8.525531e-01,\n",
       "        -1.075975e+00, -1.004121e+00, -7.894766e-01, -5.060206e-01,  2.459394e-01,  1.488230e-01, -5.999031e-01, -9.095583e-03, -3.759575e-03, -2.152436e-05, -1.109635e-02,  7.160837e-02,\n",
       "         5.379775e-01, -2.628280e-01, -7.808729e-01, -1.131518e+00, -7.587272e-01, -3.777750e-01, -2.967061e-01, -2.268393e-01, -3.613890e-01, -6.752278e-01, -6.588457e-03,  3.548071e-01,\n",
       "         2.781269e-01, -1.739207e-01, -1.523188e-01, -1.924954e-02, -1.263681e-03,  2.293793e-05, -4.750606e-03,  3.317492e-02,  2.534182e-01, -4.833257e-01, -9.708758e-01, -7.131109e-01,\n",
       "        -1.616478e-01, -9.153124e-02, -2.185396e-01, -6.850972e-02, -1.312850e-01, -3.191309e-01,  1.567969e-01,  1.240114e+00,  1.350359e+00,  2.939942e-01, -8.366044e-02, -1.257276e-02,\n",
       "         8.415318e-04, -7.982745e-07,  6.698808e-04,  1.412105e-03, -7.887374e-02, -2.291648e-01, -1.928119e-01, -1.988092e-01,  2.604992e-01,  1.877732e-01, -8.101323e-02,  1.312539e-01,\n",
       "         3.722132e-03, -1.070395e-01, -2.718891e-02,  2.674182e-01,  7.948626e-01,  2.007515e-01, -2.164554e-02,  7.679732e-04, -1.655574e-05,  0.000000e+00, -3.970764e-05,  1.019735e-03,\n",
       "        -4.690210e-03, -9.416434e-03, -1.583991e-02,  2.270102e-03, -2.957917e-02, -2.619738e-02,  2.089849e-03,  2.306014e-02,  2.357714e-03,  1.435417e-02,  1.496618e-01, -8.631755e-03,\n",
       "        -7.125640e-02, -1.771147e-02,  2.194368e-03,  2.119161e-07,  0.000000e+00]),\n",
       " 0.01635050622036764,\n",
       " 1124,\n",
       " 1124,\n",
       " 1)"
      ]
     },
     "execution_count": 135,
     "metadata": {},
     "output_type": "execute_result"
    }
   ],
   "source": [
    "# Verificando\n",
    "result"
   ]
  },
  {
   "cell_type": "code",
   "execution_count": 137,
   "metadata": {
    "ExecuteTime": {
     "end_time": "2019-04-10T23:10:14.752240Z",
     "start_time": "2019-04-10T23:10:14.745259Z"
    }
   },
   "outputs": [
    {
     "name": "stdout",
     "output_type": "stream",
     "text": [
      "Cost: 0.01635050622036764\n",
      "Theta shape: (401,)\n"
     ]
    }
   ],
   "source": [
    "# Interpretando resultado\n",
    "theta = result[0]\n",
    "cost = result[1]\n",
    "\n",
    "print(f'Cost: {cost}')\n",
    "print(f'Theta shape: {theta.shape}')"
   ]
  },
  {
   "cell_type": "markdown",
   "metadata": {},
   "source": [
    "### Classificador Multi Classe"
   ]
  },
  {
   "cell_type": "markdown",
   "metadata": {},
   "source": [
    "Após o aparente sucesso na classificação binária, vamos expandir os cálculos para todas as classes."
   ]
  },
  {
   "cell_type": "code",
   "execution_count": 142,
   "metadata": {
    "ExecuteTime": {
     "end_time": "2019-04-10T23:31:59.602672Z",
     "start_time": "2019-04-10T23:31:36.155362Z"
    }
   },
   "outputs": [
    {
     "name": "stdout",
     "output_type": "stream",
     "text": [
      "Custo classe 1: 0.01635050622036764\n",
      "Custo classe 2: 0.05723545648365058\n",
      "Custo classe 3: 0.062027568038251164\n",
      "Custo classe 4: 0.03746326453019381\n",
      "Custo classe 5: 0.06127988762752769\n",
      "Custo classe 6: 0.022219525972190728\n",
      "Custo classe 7: 0.03499951651049976\n",
      "Custo classe 8: 0.08473976821922251\n",
      "Custo classe 9: 0.08085955670177353\n",
      "Custo classe 10: 0.011685368513978143\n"
     ]
    }
   ],
   "source": [
    "# Retornando parâmetros\n",
    "[m, n] = X_train.shape\n",
    "lamda = 0.1\n",
    "num_classes = 10\n",
    "all_theta = np.zeros((n, num_classes))\n",
    "\n",
    "for k in range(1, num_classes+1):\n",
    "    theta = np.zeros((n, 1)).reshape(-1)\n",
    "    y_class = ((y == k) * 1).reshape(-1)\n",
    "    result = scipy.optimize.fmin_cg(computeCost, fprime=gradient, x0=theta,\n",
    "                               args=(X_train, y_class, lamda), maxiter=50,\n",
    "                               disp=False, full_output=True)\n",
    "    all_theta[:, k-1] = result[0]\n",
    "    print(f'Custo classe {k}: {result[1]}')"
   ]
  },
  {
   "cell_type": "code",
   "execution_count": 143,
   "metadata": {
    "ExecuteTime": {
     "end_time": "2019-04-10T23:34:24.662159Z",
     "start_time": "2019-04-10T23:34:24.656174Z"
    }
   },
   "outputs": [
    {
     "data": {
      "text/plain": [
       "(401, 10)"
      ]
     },
     "execution_count": 143,
     "metadata": {},
     "output_type": "execute_result"
    }
   ],
   "source": [
    "# Dimensões da matriz de theta\n",
    "all_theta.shape"
   ]
  },
  {
   "cell_type": "code",
   "execution_count": 144,
   "metadata": {
    "ExecuteTime": {
     "end_time": "2019-04-10T23:41:43.082384Z",
     "start_time": "2019-04-10T23:41:43.049327Z"
    }
   },
   "outputs": [],
   "source": [
    "# Encapsulando em uma função\n",
    "def trainOneVsAll(X, y, num_classes, lamda):\n",
    "    \"\"\"Função responsável por realizar o treinamento utiliando o método One vs All\n",
    "    Input:\n",
    "        X: features de dimensões mxn+1\n",
    "        y: vetor de labels de dimensões mx1\n",
    "        num_classes: quantidade de classes do modelo\n",
    "        lamda: fator de regularização\"\"\"\n",
    "    \n",
    "    # Criando matriz para alocar todos os num_classes vetores theta\n",
    "    all_theta = np.zeros((n, num_classes))\n",
    "\n",
    "    for k in range(1, num_classes+1):\n",
    "        theta = np.zeros((n, 1)).reshape(-1)\n",
    "        y_class = ((y == k) * 1).reshape(-1)\n",
    "        result = scipy.optimize.fmin_cg(computeCost, fprime=gradient, x0=theta,\n",
    "                                   args=(X_train, y_class, lamda), maxiter=50,\n",
    "                                   disp=False, full_output=True)\n",
    "        all_theta[:, k-1] = result[0]\n",
    "        print(f'Custo classe {k}: {result[1]}')\n",
    "    \n",
    "    return all_theta"
   ]
  },
  {
   "cell_type": "code",
   "execution_count": 145,
   "metadata": {
    "ExecuteTime": {
     "end_time": "2019-04-10T23:42:32.558936Z",
     "start_time": "2019-04-10T23:42:09.256240Z"
    }
   },
   "outputs": [
    {
     "name": "stdout",
     "output_type": "stream",
     "text": [
      "Custo classe 1: 0.01635050622036764\n",
      "Custo classe 2: 0.05723545648365058\n",
      "Custo classe 3: 0.062027568038251164\n",
      "Custo classe 4: 0.03746326453019381\n",
      "Custo classe 5: 0.06127988762752769\n",
      "Custo classe 6: 0.022219525972190728\n",
      "Custo classe 7: 0.03499951651049976\n",
      "Custo classe 8: 0.08473976821922251\n",
      "Custo classe 9: 0.08085955670177353\n",
      "Custo classe 10: 0.011685368513978143\n"
     ]
    },
    {
     "data": {
      "text/plain": [
       "(401, 10)"
      ]
     },
     "execution_count": 145,
     "metadata": {},
     "output_type": "execute_result"
    }
   ],
   "source": [
    "# Testando\n",
    "full_theta = trainOneVsAll(X_train, y, 10, 0.1)\n",
    "full_theta.shape"
   ]
  },
  {
   "cell_type": "markdown",
   "metadata": {},
   "source": [
    "### Predizendo e Medindo Performance"
   ]
  },
  {
   "cell_type": "code",
   "execution_count": 147,
   "metadata": {
    "ExecuteTime": {
     "end_time": "2019-04-10T23:43:03.420848Z",
     "start_time": "2019-04-10T23:43:03.414865Z"
    }
   },
   "outputs": [
    {
     "data": {
      "text/plain": [
       "5"
      ]
     },
     "execution_count": 147,
     "metadata": {},
     "output_type": "execute_result"
    }
   ],
   "source": [
    "# Testando predições\n",
    "y[2500]"
   ]
  },
  {
   "cell_type": "code",
   "execution_count": 149,
   "metadata": {
    "ExecuteTime": {
     "end_time": "2019-04-10T23:44:07.655085Z",
     "start_time": "2019-04-10T23:44:07.647107Z"
    }
   },
   "outputs": [
    {
     "data": {
      "text/plain": [
       "array([-16.540549,  -9.767432,  -0.9958  , -17.21325 ,   0.391954, -11.495383,  -8.785016, -10.71215 ,  -8.692925, -12.631682])"
      ]
     },
     "execution_count": 149,
     "metadata": {},
     "output_type": "execute_result"
    }
   ],
   "source": [
    "# Predizendo um único elemento\n",
    "full_theta.T.dot(X_train[2500])"
   ]
  },
  {
   "cell_type": "code",
   "execution_count": 150,
   "metadata": {
    "ExecuteTime": {
     "end_time": "2019-04-10T23:44:20.323987Z",
     "start_time": "2019-04-10T23:44:20.317007Z"
    }
   },
   "outputs": [
    {
     "data": {
      "text/plain": [
       "(10,)"
      ]
     },
     "execution_count": 150,
     "metadata": {},
     "output_type": "execute_result"
    }
   ],
   "source": [
    "# Qual o shape\n",
    "full_theta.T.dot(X_train[2500]).shape"
   ]
  },
  {
   "cell_type": "markdown",
   "metadata": {},
   "source": [
    "O código acima indica que o índice do maior elemento desse vetor equivale a classe predita. Vejamos!"
   ]
  },
  {
   "cell_type": "code",
   "execution_count": 152,
   "metadata": {
    "ExecuteTime": {
     "end_time": "2019-04-10T23:45:20.230090Z",
     "start_time": "2019-04-10T23:45:20.224107Z"
    }
   },
   "outputs": [
    {
     "data": {
      "text/plain": [
       "5"
      ]
     },
     "execution_count": 152,
     "metadata": {},
     "output_type": "execute_result"
    }
   ],
   "source": [
    "# Maior elemento\n",
    "np.argmax(full_theta.T.dot(X_train[2500])) + 1"
   ]
  },
  {
   "cell_type": "markdown",
   "metadata": {},
   "source": [
    "Devemos adicionar mais um, pois em Python a indexação começa por 0"
   ]
  },
  {
   "cell_type": "markdown",
   "metadata": {},
   "source": [
    "Expandindo para todos os dados e contabilizando os acertos."
   ]
  },
  {
   "cell_type": "code",
   "execution_count": 155,
   "metadata": {
    "ExecuteTime": {
     "end_time": "2019-04-10T23:48:23.389550Z",
     "start_time": "2019-04-10T23:48:23.238041Z"
    }
   },
   "outputs": [
    {
     "name": "stdout",
     "output_type": "stream",
     "text": [
      "Acertos: 4752\n"
     ]
    }
   ],
   "source": [
    "acertos = 0\n",
    "for i in range(m):\n",
    "    pred = np.argmax(full_theta.T.dot(X_train[i])) + 1\n",
    "    if pred == y[i]:\n",
    "        acertos += 1\n",
    "print(f'Acertos: {acertos}')"
   ]
  },
  {
   "cell_type": "code",
   "execution_count": 157,
   "metadata": {
    "ExecuteTime": {
     "end_time": "2019-04-10T23:48:50.151164Z",
     "start_time": "2019-04-10T23:48:50.146179Z"
    }
   },
   "outputs": [
    {
     "name": "stdout",
     "output_type": "stream",
     "text": [
      "Acurácia: 95.04%\n"
     ]
    }
   ],
   "source": [
    "# Calculando acurácia\n",
    "print(f'Acurácia: {100 * (acertos / m)}%')"
   ]
  },
  {
   "cell_type": "code",
   "execution_count": 158,
   "metadata": {
    "ExecuteTime": {
     "end_time": "2019-04-10T23:51:13.132167Z",
     "start_time": "2019-04-10T23:51:13.119202Z"
    }
   },
   "outputs": [],
   "source": [
    "# Encapsulando em uma função\n",
    "def predictOneVsAll(X, y, theta):\n",
    "    \"\"\"Função responsável pela predição dos valores e cálculo da acurácia do modelo\n",
    "    Input: \n",
    "        X: features nas dimensões mxn+1\n",
    "        y: vetor de labels nas dimensões mx1\n",
    "        theta: vetor de parâmetros (full_theta) nas dimensões nxnum_classes\"\"\"\n",
    "    \n",
    "    [m, n] = X.shape\n",
    "    acertos = 0\n",
    "    for i in range(m):\n",
    "        pred = np.argmax(theta.T.dot(X_train[i])) + 1\n",
    "        if pred == y[i]:\n",
    "            acertos += 1\n",
    "    acc = acertos / m\n",
    "    return acc"
   ]
  },
  {
   "cell_type": "code",
   "execution_count": 160,
   "metadata": {
    "ExecuteTime": {
     "end_time": "2019-04-10T23:51:44.478654Z",
     "start_time": "2019-04-10T23:51:44.415822Z"
    }
   },
   "outputs": [
    {
     "name": "stdout",
     "output_type": "stream",
     "text": [
      "Acurácia final do modelo: 95.04%\n"
     ]
    }
   ],
   "source": [
    "# Testando\n",
    "acc = predictOneVsAll(X_train, y, full_theta)\n",
    "print(f'Acurácia final do modelo: {(100*acc):.2f}%')"
   ]
  },
  {
   "cell_type": "markdown",
   "metadata": {},
   "source": [
    "### Pipeline Completo (Treino e Teste)"
   ]
  },
  {
   "cell_type": "code",
   "execution_count": 1,
   "metadata": {
    "ExecuteTime": {
     "end_time": "2019-04-12T02:24:41.618739Z",
     "start_time": "2019-04-12T02:24:05.174743Z"
    }
   },
   "outputs": [],
   "source": [
    "# Importando bibliotecas\n",
    "import numpy as np\n",
    "import scipy.io as sio\n",
    "import scipy.misc, scipy.optimize, scipy.io, scipy.special\n",
    "import matplotlib.pyplot as plt\n",
    "%matplotlib inline"
   ]
  },
  {
   "cell_type": "code",
   "execution_count": 2,
   "metadata": {
    "ExecuteTime": {
     "end_time": "2019-04-11T22:49:33.280801Z",
     "start_time": "2019-04-11T22:49:31.956039Z"
    },
    "code_folding": []
   },
   "outputs": [],
   "source": [
    "# Encapsulamento de todas as funções do modelo\n",
    "\n",
    "# Função para separação dos dados\n",
    "def split_data(X, y, test_ratio):\n",
    "    \"\"\"Função responsável por separar randomicamente o conjunto de dados\n",
    "    Input:\n",
    "        X: conjunto de dados (features)\n",
    "        y: vetor de classificações (labels)\n",
    "        test_ratio: porcentagem de separação para os dados de teste\n",
    "    Output:\n",
    "        X_train, y_train, X_test, y_test: conjuntos de dados após separação\"\"\"\n",
    "    \n",
    "    # Criando índices aleatórios (com seed)\n",
    "    m = X.shape[0]\n",
    "    indices = np.random.RandomState(seed=42).permutation(m)\n",
    "    \n",
    "    # Embaralhando os dados\n",
    "    X_shuffled = X[indices]\n",
    "    y_shuffled = y[indices]\n",
    "    \n",
    "    # Separando os dados\n",
    "    test_indices = int(m * test_ratio)\n",
    "    X_train = X_shuffled[test_indices:]\n",
    "    X_test = X_shuffled[:test_indices]\n",
    "    y_train = y_shuffled[test_indices:]\n",
    "    y_test = y_shuffled[:test_indices]\n",
    "    \n",
    "    # Retorno da função\n",
    "    return X_train, y_train, X_test, y_test\n",
    "\n",
    "# Função para leitura dos arquivos e preparção do dataset\n",
    "def load_and_prepare_data(test_ratio):\n",
    "    \"\"\"Função responsável por ler os dados e preparar a separação em Treino e Teste\n",
    "    Output:\n",
    "        X_train, y_train, X_test, y_test: conjuntos de dados\"\"\"\n",
    "    \n",
    "    # Lendo arquivos\n",
    "    data = sio.loadmat('ex3data1.mat')\n",
    "    X = np.c_[(np.ones((data['X'].shape[0], 1)), data['X'])] # Já com colunas bias\n",
    "    y = data['y'].reshape(-1)\n",
    "    \n",
    "    # Retornando dados\n",
    "    return split_data(X, y, test_ratio)\n",
    "\n",
    "# Função para plotagem dos dados\n",
    "def plot_data(X, y):\n",
    "    \"\"\"Função responsável por plotar um grid contendo elementos aleatórios do dataset\n",
    "    Input:\n",
    "        X: features\n",
    "        y: labels\"\"\"\n",
    "\n",
    "    # settings\n",
    "    X = X[:, 1:]\n",
    "    h, w = 10, 10        # for raster image\n",
    "    nrows, ncols = 7, 7  # array of sub-plots\n",
    "    figsize = [12, 12]     # figure size, inches\n",
    "\n",
    "    # prep (x,y) for extra plotting on selected sub-plots\n",
    "    xs = np.linspace(0, 2*np.pi, 60)  # from 0 to 2pi\n",
    "    ys = np.abs(np.sin(xs))           # absolute of sine\n",
    "\n",
    "    # create figure (fig), and array of axes (ax)\n",
    "    fig, ax = plt.subplots(nrows=nrows, ncols=ncols, figsize=figsize)\n",
    "\n",
    "    # plot simple raster image on each sub-plot\n",
    "    for i, axi in enumerate(ax.flat):\n",
    "        # i runs from 0 to (nrows*ncols-1)\n",
    "        # axi is equivalent with ax[rowid][colid]\n",
    "        rnd = np.random.randint(0, X.shape[0])\n",
    "        img = X[rnd].reshape(20, 20).T\n",
    "        axi.imshow(img, alpha=0.9)\n",
    "        # get indices of row/column\n",
    "        rowid = i // ncols\n",
    "        colid = i % ncols\n",
    "        # write row/col indices as axes' title for identification\n",
    "        #axi.set_title(\"Row:\"+str(rowid)+\", Col:\"+str(colid))\n",
    "        label = y[rnd]\n",
    "        axi.set_title(f'Label: {label}')\n",
    "        axi.axis('off')\n",
    "\n",
    "    # one can access the axes by ax[row_id][col_id]\n",
    "    # do additional plotting on ax[row_id][col_id] of your choice\n",
    "    #ax[0][2].plot(xs, 3*ys, color='red', linewidth=3)\n",
    "    #ax[4][3].plot(ys**2, xs, color='green', linewidth=3)\n",
    "    plt.tight_layout(True)\n",
    "    plt.show()\n",
    "\n",
    "# Definindo função sigmoidal\n",
    "def sigmoid(z):\n",
    "    \"\"\"Função sigmoidal para cálculo da função hyothesis\n",
    "    Input: \n",
    "        z: X.dot(theta)\n",
    "    Output:\n",
    "        h = função sigmoidal\"\"\"\n",
    "    return 1 / (1 + np.exp(-z))\n",
    "\n",
    "# Função de Custo\n",
    "def costFunction(theta, X, y, lamda):\n",
    "    \"\"\" Função responsável por cálcular o custo de um treinamento,\n",
    "    considerando um classificador binário de dígitos (K = 1)\n",
    "    Input:\n",
    "        theta: vetor de parâmetros de dimensões nx1 (classe única já indexada)\n",
    "        X: dataset de dimensões mxn\n",
    "        y: vetor de labels de dimensões mx1 (classe única já indexada)\n",
    "        lamda: fator de regularização\n",
    "    Output:\n",
    "        J: custo do treinamento com os parâmetros indicados\"\"\"\n",
    "    \n",
    "    # Retornando variáveis de dimensão\n",
    "    [m, n] = X.shape\n",
    "    \n",
    "    # Calculando hypothesis\n",
    "    z = X.dot(theta)\n",
    "    h = sigmoid(z)\n",
    "    \n",
    "    # Calculando custo\n",
    "    termo1 = np.log(h).T.dot(y * (-1))\n",
    "    termo2 = np.log(1 - h).T.dot(1 - y)\n",
    "    unreg = termo1 - termo2\n",
    "    reg = theta.T.dot(theta)\n",
    "    \n",
    "    return (unreg + reg) / m\n",
    "\n",
    "# Cálculo do gradiente\n",
    "def gradient(theta, X, y, lamda):\n",
    "    \"\"\" Função responsável por cálcular o gradiente (derivadas parciais)\n",
    "    Input:\n",
    "        theta: vetor de parâmetros de dimensão nx1\n",
    "        X: features de dimensões mxn\n",
    "        y: vetor de labels de dimensão mx1\n",
    "        lamda: fator de regularização\n",
    "    Output:\n",
    "        grad: vetor de gradiente com todas as derivadas parciais (nx1)\"\"\"\n",
    "    \n",
    "    # Dimensões\n",
    "    [m, n] = X.shape\n",
    "    \n",
    "    # Calculando gradiente\n",
    "    z = X.dot(theta)\n",
    "    h = sigmoid(z)\n",
    "    grad = X.T.dot(h - y)\n",
    "    grad[1:] = grad[1:] + (lamda/m)*theta[1:]\n",
    "    \n",
    "    return grad\n",
    "\n",
    "# Função para treinamento do classificador multiclasse\n",
    "def trainOneVsAll(X, y, num_classes, lamda):\n",
    "    \"\"\"Função responsável por realizar o treinamento utiliando o método One vs All\n",
    "    Input:\n",
    "        X: features de dimensões mxn+1\n",
    "        y: vetor de labels de dimensões mx1\n",
    "        num_classes: quantidade de classes do modelo\n",
    "        lamda: fator de regularização\"\"\"\n",
    "    \n",
    "    # Criando matriz para alocar todos os num_classes vetores theta\n",
    "    [m, n] = X_train.shape\n",
    "    all_theta = np.zeros((n, num_classes))\n",
    "\n",
    "    for k in range(1, num_classes+1):\n",
    "        theta = np.zeros((n, 1)).reshape(-1)\n",
    "        y_class = ((y == k) * 1).reshape(-1)\n",
    "        result = scipy.optimize.fmin_cg(costFunction, fprime=gradient, x0=theta,\n",
    "                                   args=(X_train, y_class, lamda), maxiter=50,\n",
    "                                   disp=False, full_output=True)\n",
    "        all_theta[:, k-1] = result[0]\n",
    "        print(f'Custo classe {k}: {result[1]}')\n",
    "    \n",
    "    return all_theta\n",
    "\n",
    "# Função para predição dos dados\n",
    "def predictOneVsAll(X, y, theta):\n",
    "    \"\"\"Função responsável pela predição dos valores e cálculo da acurácia do modelo\n",
    "    Input: \n",
    "        X: features nas dimensões mxn+1\n",
    "        y: vetor de labels nas dimensões mx1\n",
    "        theta: vetor de parâmetros (full_theta) nas dimensões nxnum_classes\"\"\"\n",
    "    \n",
    "    [m, n] = X.shape\n",
    "    acertos = 0\n",
    "    for i in range(m):\n",
    "        pred = np.argmax(theta.T.dot(X[i])) + 1\n",
    "        if pred == y[i]:\n",
    "            acertos += 1\n",
    "    acc = acertos / m\n",
    "    return acc"
   ]
  },
  {
   "cell_type": "code",
   "execution_count": 3,
   "metadata": {
    "ExecuteTime": {
     "end_time": "2019-04-11T22:49:34.829866Z",
     "start_time": "2019-04-11T22:49:33.291804Z"
    }
   },
   "outputs": [],
   "source": [
    "# Retornando conjuntos de dados\n",
    "X_train, y_train, X_test, y_test = load_and_prepare_data(.20)"
   ]
  },
  {
   "cell_type": "code",
   "execution_count": 4,
   "metadata": {
    "ExecuteTime": {
     "end_time": "2019-04-11T22:49:34.862820Z",
     "start_time": "2019-04-11T22:49:34.838263Z"
    }
   },
   "outputs": [
    {
     "name": "stdout",
     "output_type": "stream",
     "text": [
      "- - - Treino - - -\n",
      "Dimensões de X_train: (4000, 401)\n",
      "Dimensões de y_train: (4000,)\n",
      "\n",
      "- - - Teste - - -\n",
      "Dimensões de X_test: (1000, 401)\n",
      "Dimensões de y_test: (1000,)\n"
     ]
    }
   ],
   "source": [
    "# Verificando\n",
    "print('- - - Treino - - -')\n",
    "print(f'Dimensões de X_train: {X_train.shape}')\n",
    "print(f'Dimensões de y_train: {y_train.shape}')\n",
    "print('\\n- - - Teste - - -')\n",
    "print(f'Dimensões de X_test: {X_test.shape}')\n",
    "print(f'Dimensões de y_test: {y_test.shape}')"
   ]
  },
  {
   "cell_type": "code",
   "execution_count": 5,
   "metadata": {
    "ExecuteTime": {
     "end_time": "2019-04-11T22:49:45.339324Z",
     "start_time": "2019-04-11T22:49:34.875111Z"
    }
   },
   "outputs": [
    {
     "data": {
      "image/png": "[encoded data removed]",
      "text/plain": [
       "<matplotlib.figure.Figure at 0x25b584cb518>"
      ]
     },
     "metadata": {
      "needs_background": "light"
     },
     "output_type": "display_data"
    }
   ],
   "source": [
    "# PLotando dados\n",
    "plot_data(X_train, y_train)"
   ]
  },
  {
   "cell_type": "code",
   "execution_count": 79,
   "metadata": {
    "ExecuteTime": {
     "end_time": "2019-04-11T21:46:10.313515Z",
     "start_time": "2019-04-11T21:44:54.611741Z"
    }
   },
   "outputs": [
    {
     "name": "stdout",
     "output_type": "stream",
     "text": [
      "Custo classe 1: 0.03414935850977738\n",
      "Custo classe 2: 0.07902325002445935\n",
      "Custo classe 3: 0.0853136937071129\n",
      "Custo classe 4: 0.06449088177561806\n",
      "Custo classe 5: 0.09411897236812583\n",
      "Custo classe 6: 0.045671231196759296\n",
      "Custo classe 7: 0.053261398650833805\n",
      "Custo classe 8: 0.11839487784986064\n",
      "Custo classe 9: 0.10463940132537496\n",
      "Custo classe 10: 0.031974445437754746\n"
     ]
    }
   ],
   "source": [
    "# Treinando modelo\n",
    "lamda = 0.003\n",
    "num_classes = len(np.unique(y))\n",
    "\n",
    "theta = trainOneVsAll(X_train, y_train, num_classes, lamda)"
   ]
  },
  {
   "cell_type": "code",
   "execution_count": 81,
   "metadata": {
    "ExecuteTime": {
     "end_time": "2019-04-11T21:46:12.136960Z",
     "start_time": "2019-04-11T21:46:12.113333Z"
    }
   },
   "outputs": [
    {
     "name": "stdout",
     "output_type": "stream",
     "text": [
      "Acurácia final do modelo nos dados de teste: 89.80%\n"
     ]
    }
   ],
   "source": [
    "# Predizendo com dados de teste\n",
    "acc = predictOneVsAll(X_test, y_test, theta)\n",
    "print(f'Acurácia final do modelo nos dados de teste: {(100*acc):.2f}%')"
   ]
  },
  {
   "cell_type": "code",
   "execution_count": 82,
   "metadata": {
    "ExecuteTime": {
     "end_time": "2019-04-11T21:48:24.462348Z",
     "start_time": "2019-04-11T21:47:08.628213Z"
    }
   },
   "outputs": [
    {
     "name": "stdout",
     "output_type": "stream",
     "text": [
      "Custo classe 1: 0.03414986765513343\n",
      "Custo classe 2: 0.07920263382264771\n",
      "Custo classe 3: 0.08588437072437398\n",
      "Custo classe 4: 0.06387061876910005\n",
      "Custo classe 5: 0.09430656677052834\n",
      "Custo classe 6: 0.04566845641723168\n",
      "Custo classe 7: 0.05345105431901198\n",
      "Custo classe 8: 0.11791706572703942\n",
      "Custo classe 9: 0.10435921021881908\n",
      "Custo classe 10: 0.03195346871192362\n",
      "Acurácia final do modelo nos dados de teste: 89.90%\n"
     ]
    }
   ],
   "source": [
    "# Vejamos como a acurácia nos dados de teste muda conforme lambda\n",
    "lamda = 0.1\n",
    "num_classes = len(np.unique(y_train))\n",
    "\n",
    "theta = trainOneVsAll(X_train, y_train, num_classes, lamda)\n",
    "acc = predictOneVsAll(X_test, y_test, theta)\n",
    "print(f'Acurácia final do modelo nos dados de teste: {(100*acc):.2f}%')"
   ]
  },
  {
   "cell_type": "code",
   "execution_count": 8,
   "metadata": {
    "ExecuteTime": {
     "end_time": "2019-04-11T23:19:06.361702Z",
     "start_time": "2019-04-11T22:52:21.408391Z"
    }
   },
   "outputs": [
    {
     "name": "stdout",
     "output_type": "stream",
     "text": [
      "Custo classe 1: 0.03414934815592578\n",
      "Custo classe 2: 0.07884929087408014\n",
      "Custo classe 3: 0.08647931272362153\n",
      "Custo classe 4: 0.06478210664736556\n",
      "Custo classe 5: 0.09411892891792929\n",
      "Custo classe 6: 0.045671305869465634\n",
      "Custo classe 7: 0.05326842071197008\n",
      "Custo classe 8: 0.12001112759874046\n",
      "Custo classe 9: 0.10499608926882274\n",
      "Custo classe 10: 0.03197508745483657\n",
      "Custo classe 1: 0.03414935850977738\n",
      "Custo classe 2: 0.07902325002445935\n",
      "Custo classe 3: 0.0853136937071129\n",
      "Custo classe 4: 0.06449088177561806\n",
      "Custo classe 5: 0.09411897236812583\n",
      "Custo classe 6: 0.045671231196759296\n",
      "Custo classe 7: 0.053261398650833805\n",
      "Custo classe 8: 0.11839487784986064\n",
      "Custo classe 9: 0.10463940132537496\n",
      "Custo classe 10: 0.031974445437754746\n",
      "Custo classe 1: 0.034149394794684464\n",
      "Custo classe 2: 0.07936177592554768\n",
      "Custo classe 3: 0.0864257267352508\n",
      "Custo classe 4: 0.06308407697974797\n",
      "Custo classe 5: 0.09433739679271913\n",
      "Custo classe 6: 0.04567097545675645\n",
      "Custo classe 7: 0.053255403995423396\n",
      "Custo classe 8: 0.11977940379707255\n",
      "Custo classe 9: 0.10558375975422384\n",
      "Custo classe 10: 0.031972238489667425\n",
      "Custo classe 1: 0.03414949886166251\n",
      "Custo classe 2: 0.07997479533157587\n",
      "Custo classe 3: 0.0859198548773668\n",
      "Custo classe 4: 0.06339684117979909\n",
      "Custo classe 5: 0.09432688208792395\n",
      "Custo classe 6: 0.04567029290636354\n",
      "Custo classe 7: 0.05326746987512421\n",
      "Custo classe 8: 0.11792748484492276\n",
      "Custo classe 9: 0.1042858665822842\n",
      "Custo classe 10: 0.031966399265422885\n",
      "Custo classe 1: 0.03414986765513343\n",
      "Custo classe 2: 0.07920263382264771\n",
      "Custo classe 3: 0.08588437072437398\n",
      "Custo classe 4: 0.06387061876910005\n",
      "Custo classe 5: 0.09430656677052834\n",
      "Custo classe 6: 0.04566845641723168\n",
      "Custo classe 7: 0.05345105431901198\n",
      "Custo classe 8: 0.11791706572703942\n",
      "Custo classe 9: 0.10435921021881908\n",
      "Custo classe 10: 0.03195346871192362\n",
      "Custo classe 1: 0.0341509589576094\n",
      "Custo classe 2: 0.07853734900109981\n",
      "Custo classe 3: 0.08573905419287808\n",
      "Custo classe 4: 0.06437595388945515\n",
      "Custo classe 5: 0.0943696741138876\n",
      "Custo classe 6: 0.045630082950606825\n",
      "Custo classe 7: 0.05411202959059408\n",
      "Custo classe 8: 0.11872271997089826\n",
      "Custo classe 9: 0.10392811040001973\n",
      "Custo classe 10: 0.03211857177812519\n",
      "Custo classe 1: 0.0341521026139379\n",
      "Custo classe 2: 0.07980171503861647\n",
      "Custo classe 3: 0.08618440548053295\n",
      "Custo classe 4: 0.06587262796559683\n",
      "Custo classe 5: 0.09431826281118504\n",
      "Custo classe 6: 0.04576487147076081\n",
      "Custo classe 7: 0.05437681723982608\n",
      "Custo classe 8: 0.12106504932393188\n",
      "Custo classe 9: 0.10348313933018068\n",
      "Custo classe 10: 0.03213239571414675\n",
      "Custo classe 1: 0.03321300551406614\n",
      "Custo classe 2: 0.07910742967594175\n",
      "Custo classe 3: 0.08530900598896839\n",
      "Custo classe 4: 0.06332197597117427\n",
      "Custo classe 5: 0.09418443139212894\n",
      "Custo classe 6: 0.04572510249379851\n",
      "Custo classe 7: 0.054198559618588354\n",
      "Custo classe 8: 0.1182769440939923\n",
      "Custo classe 9: 0.10453861821681093\n",
      "Custo classe 10: 0.03180049950766727\n",
      "Custo classe 1: 0.033371082880279894\n",
      "Custo classe 2: 0.08015002304322959\n",
      "Custo classe 3: 0.08571709656643911\n",
      "Custo classe 4: 0.06356177120954039\n",
      "Custo classe 5: 0.09372212174535666\n",
      "Custo classe 6: 0.04470680674548408\n",
      "Custo classe 7: 0.05424709270624858\n",
      "Custo classe 8: 0.11845083392340976\n",
      "Custo classe 9: 0.10403083464523172\n",
      "Custo classe 10: 0.03219379360343891\n",
      "Custo classe 1: 0.03329920488543252\n",
      "Custo classe 2: 0.07924934295036881\n",
      "Custo classe 3: 0.08684184331269458\n",
      "Custo classe 4: 0.06512685574696538\n",
      "Custo classe 5: 0.0943537312464166\n",
      "Custo classe 6: 0.04491820908967261\n",
      "Custo classe 7: 0.05416478702164241\n",
      "Custo classe 8: 0.11914067913675154\n",
      "Custo classe 9: 0.10399889969357429\n",
      "Custo classe 10: 0.0321153972050997\n",
      "Custo classe 1: 0.03405821154098493\n",
      "Custo classe 2: 0.07977696795942842\n",
      "Custo classe 3: 0.08560271705503328\n",
      "Custo classe 4: 0.06403671774029113\n",
      "Custo classe 5: 0.09410663475429337\n",
      "Custo classe 6: 0.04470537705810257\n",
      "Custo classe 7: 0.053847692853347257\n",
      "Custo classe 8: 0.11832313475662752\n",
      "Custo classe 9: 0.10431260162923821\n",
      "Custo classe 10: 0.031871253291904406\n"
     ]
    }
   ],
   "source": [
    "num_classes = len(np.unique(y_train))\n",
    "lambdas = [0.001, 0.003, 0.01, 0.03, 0.1, 0.3, 0.5, 1, 3, 5, 10]\n",
    "acc_list = []\n",
    "for lamda in lambdas:\n",
    "    theta = trainOneVsAll(X_train, y_train, num_classes, lamda)\n",
    "    acc = predictOneVsAll(X_test, y_test, theta)\n",
    "    acc_list.append(acc)"
   ]
  },
  {
   "cell_type": "code",
   "execution_count": 9,
   "metadata": {
    "ExecuteTime": {
     "end_time": "2019-04-11T23:19:32.338353Z",
     "start_time": "2019-04-11T23:19:32.326214Z"
    }
   },
   "outputs": [
    {
     "data": {
      "text/plain": [
       "[0.898, 0.898, 0.9, 0.899, 0.899, 0.901, 0.9, 0.899, 0.901, 0.9, 0.899]"
      ]
     },
     "execution_count": 9,
     "metadata": {},
     "output_type": "execute_result"
    }
   ],
   "source": [
    "# Acurácias\n",
    "acc_list"
   ]
  },
  {
   "cell_type": "code",
   "execution_count": 7,
   "metadata": {
    "ExecuteTime": {
     "end_time": "2019-04-12T02:26:18.313857Z",
     "start_time": "2019-04-12T02:26:18.307873Z"
    }
   },
   "outputs": [],
   "source": [
    "lambdas = [0.001, 0.003, 0.01, 0.03, 0.1, 0.3, 0.5, 1, 3, 5, 10]\n",
    "acc_list = [0.898, 0.898, 0.9, 0.899, 0.899, 0.901, 0.9, 0.899, 0.901, 0.9, 0.899]"
   ]
  },
  {
   "cell_type": "code",
   "execution_count": 13,
   "metadata": {
    "ExecuteTime": {
     "end_time": "2019-04-11T23:20:26.194497Z",
     "start_time": "2019-04-11T23:20:26.187293Z"
    }
   },
   "outputs": [
    {
     "data": {
      "text/plain": [
       "0.3"
      ]
     },
     "execution_count": 13,
     "metadata": {},
     "output_type": "execute_result"
    }
   ],
   "source": [
    "# Lambdas respectivos\n",
    "lambdas[acc_list.index(max(acc_list))]"
   ]
  },
  {
   "cell_type": "markdown",
   "metadata": {},
   "source": [
    "E também 3."
   ]
  },
  {
   "cell_type": "code",
   "execution_count": 18,
   "metadata": {
    "ExecuteTime": {
     "end_time": "2019-04-12T02:29:06.604086Z",
     "start_time": "2019-04-12T02:29:06.437531Z"
    }
   },
   "outputs": [
    {
     "data": {
      "image/png": "[encoded data removed]",
      "text/plain": [
       "<matplotlib.figure.Figure at 0x27a8835cd68>"
      ]
     },
     "metadata": {
      "needs_background": "light"
     },
     "output_type": "display_data"
    }
   ],
   "source": [
    "# Plotando\n",
    "fig = plt.figure(figsize=(7, 5))\n",
    "plt.plot(np.arange(11), acc_list, color='b')\n",
    "plt.xticks(np.arange(11), lambdas)\n",
    "plt.title('Acurácia do Modelo x Learning Rate', size=13)\n",
    "plt.xlabel('Learning Rate', size=11, labelpad=9)\n",
    "plt.ylabel('Acurácia', size=11, labelpad=9)\n",
    "plt.show()"
   ]
  },
  {
   "cell_type": "markdown",
   "metadata": {},
   "source": [
    "## Scikit Learn"
   ]
  },
  {
   "cell_type": "markdown",
   "metadata": {},
   "source": [
    "Após toda a implementação utilizando as funcionalidades do ```numpy``` e do ```scipy```, vamos estudar a fundo o modelo de ```Regressão Logística``` do ```scikit-learn```. A ideia é repetir o procedimento acima desenvolvido, analisando critérios de performance, facilidade e aprimoramento."
   ]
  },
  {
   "cell_type": "code",
   "execution_count": 19,
   "metadata": {
    "ExecuteTime": {
     "end_time": "2019-04-12T02:32:38.157297Z",
     "start_time": "2019-04-12T02:32:33.091881Z"
    }
   },
   "outputs": [],
   "source": [
    "# Importando bibliotecas\n",
    "import numpy as np\n",
    "import scipy.io as sio\n",
    "import pandas as pd\n",
    "\n",
    "# Lendo arquivo\n",
    "data = sio.loadmat('ex3data1.mat')\n",
    "X = data['X']\n",
    "y = data['y']"
   ]
  },
  {
   "cell_type": "code",
   "execution_count": 21,
   "metadata": {
    "ExecuteTime": {
     "end_time": "2019-04-12T02:34:49.709920Z",
     "start_time": "2019-04-12T02:34:49.702939Z"
    }
   },
   "outputs": [
    {
     "data": {
      "text/plain": [
       "array([1501, 2586, 2653, ..., 3092, 3772,  860])"
      ]
     },
     "execution_count": 21,
     "metadata": {},
     "output_type": "execute_result"
    }
   ],
   "source": [
    "# Embaralhando índices\n",
    "m = X.shape[0]\n",
    "indices = np.random.RandomState(seed=42).permutation(m)\n",
    "indices"
   ]
  },
  {
   "cell_type": "code",
   "execution_count": 23,
   "metadata": {
    "ExecuteTime": {
     "end_time": "2019-04-12T02:35:28.476689Z",
     "start_time": "2019-04-12T02:35:28.444776Z"
    }
   },
   "outputs": [],
   "source": [
    "# Indexando \n",
    "X_shuffle = X[indices]\n",
    "y_shuffle = y[indices]"
   ]
  },
  {
   "cell_type": "code",
   "execution_count": null,
   "metadata": {},
   "outputs": [],
   "source": [
    "# Separando dados\n",
    "from sklearn.model_selection import train_test_split"
   ]
  },
  {
   "cell_type": "code",
   "execution_count": 24,
   "metadata": {
    "ExecuteTime": {
     "end_time": "2019-04-12T02:35:51.804631Z",
     "start_time": "2019-04-12T02:35:51.797651Z"
    }
   },
   "outputs": [
    {
     "name": "stdout",
     "output_type": "stream",
     "text": [
      "Help on function train_test_split in module sklearn.model_selection._split:\n",
      "\n",
      "train_test_split(*arrays, **options)\n",
      "    Split arrays or matrices into random train and test subsets\n",
      "    \n",
      "    Quick utility that wraps input validation and\n",
      "    ``next(ShuffleSplit().split(X, y))`` and application to input data\n",
      "    into a single call for splitting (and optionally subsampling) data in a\n",
      "    oneliner.\n",
      "    \n",
      "    Read more in the :ref:`User Guide <cross_validation>`.\n",
      "    \n",
      "    Parameters\n",
      "    ----------\n",
      "    *arrays : sequence of indexables with same length / shape[0]\n",
      "        Allowed inputs are lists, numpy arrays, scipy-sparse\n",
      "        matrices or pandas dataframes.\n",
      "    \n",
      "    test_size : float, int, None, optional\n",
      "        If float, should be between 0.0 and 1.0 and represent the proportion\n",
      "        of the dataset to include in the test split. If int, represents the\n",
      "        absolute number of test samples. If None, the value is set to the\n",
      "        complement of the train size. By default, the value is set to 0.25.\n",
      "        The default will change in version 0.21. It will remain 0.25 only\n",
      "        if ``train_size`` is unspecified, otherwise it will complement\n",
      "        the specified ``train_size``.\n",
      "    \n",
      "    train_size : float, int, or None, default None\n",
      "        If float, should be between 0.0 and 1.0 and represent the\n",
      "        proportion of the dataset to include in the train split. If\n",
      "        int, represents the absolute number of train samples. If None,\n",
      "        the value is automatically set to the complement of the test size.\n",
      "    \n",
      "    random_state : int, RandomState instance or None, optional (default=None)\n",
      "        If int, random_state is the seed used by the random number generator;\n",
      "        If RandomState instance, random_state is the random number generator;\n",
      "        If None, the random number generator is the RandomState instance used\n",
      "        by `np.random`.\n",
      "    \n",
      "    shuffle : boolean, optional (default=True)\n",
      "        Whether or not to shuffle the data before splitting. If shuffle=False\n",
      "        then stratify must be None.\n",
      "    \n",
      "    stratify : array-like or None (default is None)\n",
      "        If not None, data is split in a stratified fashion, using this as\n",
      "        the class labels.\n",
      "    \n",
      "    Returns\n",
      "    -------\n",
      "    splitting : list, length=2 * len(arrays)\n",
      "        List containing train-test split of inputs.\n",
      "    \n",
      "        .. versionadded:: 0.16\n",
      "            If the input is sparse, the output will be a\n",
      "            ``scipy.sparse.csr_matrix``. Else, output type is the same as the\n",
      "            input type.\n",
      "    \n",
      "    Examples\n",
      "    --------\n",
      "    >>> import numpy as np\n",
      "    >>> from sklearn.model_selection import train_test_split\n",
      "    >>> X, y = np.arange(10).reshape((5, 2)), range(5)\n",
      "    >>> X\n",
      "    array([[0, 1],\n",
      "           [2, 3],\n",
      "           [4, 5],\n",
      "           [6, 7],\n",
      "           [8, 9]])\n",
      "    >>> list(y)\n",
      "    [0, 1, 2, 3, 4]\n",
      "    \n",
      "    >>> X_train, X_test, y_train, y_test = train_test_split(\n",
      "    ...     X, y, test_size=0.33, random_state=42)\n",
      "    ...\n",
      "    >>> X_train\n",
      "    array([[4, 5],\n",
      "           [0, 1],\n",
      "           [6, 7]])\n",
      "    >>> y_train\n",
      "    [2, 0, 3]\n",
      "    >>> X_test\n",
      "    array([[2, 3],\n",
      "           [8, 9]])\n",
      "    >>> y_test\n",
      "    [1, 4]\n",
      "    \n",
      "    >>> train_test_split(y, shuffle=False)\n",
      "    [[0, 1, 2], [3, 4]]\n",
      "\n"
     ]
    }
   ],
   "source": [
    "help(train_test_split)"
   ]
  },
  {
   "cell_type": "code",
   "execution_count": 44,
   "metadata": {
    "ExecuteTime": {
     "end_time": "2019-04-12T02:44:32.303257Z",
     "start_time": "2019-04-12T02:44:32.263394Z"
    }
   },
   "outputs": [],
   "source": [
    "# Separando dados\n",
    "X_train, X_test, y_train, y_test = train_test_split(X, y, test_size=.20,\n",
    "                                                   random_state=42)"
   ]
  },
  {
   "cell_type": "code",
   "execution_count": 49,
   "metadata": {
    "ExecuteTime": {
     "end_time": "2019-04-12T02:46:18.152468Z",
     "start_time": "2019-04-12T02:46:18.144492Z"
    }
   },
   "outputs": [
    {
     "name": "stdout",
     "output_type": "stream",
     "text": [
      "- - - Treino - - -\n",
      "Dimensões de X_train: (4000, 400)\n",
      "Dimensões de y_train: (4000,)\n",
      "\n",
      "- - - Teste - - -\n",
      "Dimensões de X_test: (1000, 400)\n",
      "Dimensões de y_test: (1000,)\n"
     ]
    }
   ],
   "source": [
    "# Verificando\n",
    "y_train = y_train.reshape(-1)\n",
    "y_test = y_test.reshape(-1)\n",
    "\n",
    "print('- - - Treino - - -')\n",
    "print(f'Dimensões de X_train: {X_train.shape}')\n",
    "print(f'Dimensões de y_train: {y_train.shape}')\n",
    "print('\\n- - - Teste - - -')\n",
    "print(f'Dimensões de X_test: {X_test.shape}')\n",
    "print(f'Dimensões de y_test: {y_test.shape}')"
   ]
  },
  {
   "cell_type": "code",
   "execution_count": 46,
   "metadata": {
    "ExecuteTime": {
     "end_time": "2019-04-12T02:44:36.088220Z",
     "start_time": "2019-04-12T02:44:35.941613Z"
    }
   },
   "outputs": [
    {
     "data": {
      "image/png": "[encoded data removed]",
      "text/plain": [
       "<matplotlib.figure.Figure at 0x27a8c8e90b8>"
      ]
     },
     "metadata": {
      "needs_background": "light"
     },
     "output_type": "display_data"
    }
   ],
   "source": [
    "# Plotando dados\n",
    "plt.imshow(X_train[1500].reshape(20, 20).T, cmap='viridis')\n",
    "plt.axis('off')\n",
    "plt.title(f'Dígito: {y[1500][0]}', size=13)\n",
    "plt.show()"
   ]
  },
  {
   "cell_type": "markdown",
   "metadata": {},
   "source": [
    "### Treinando um Modelo"
   ]
  },
  {
   "cell_type": "code",
   "execution_count": 48,
   "metadata": {
    "ExecuteTime": {
     "end_time": "2019-04-12T02:44:53.931217Z",
     "start_time": "2019-04-12T02:44:51.983418Z"
    }
   },
   "outputs": [
    {
     "data": {
      "text/plain": [
       "LogisticRegression(C=1.0, class_weight=None, dual=False, fit_intercept=True,\n",
       "          intercept_scaling=1, max_iter=100, multi_class='ovr', n_jobs=1,\n",
       "          penalty='l2', random_state=None, solver='liblinear', tol=0.0001,\n",
       "          verbose=0, warm_start=False)"
      ]
     },
     "execution_count": 48,
     "metadata": {},
     "output_type": "execute_result"
    }
   ],
   "source": [
    "# Importando classificador\n",
    "from sklearn.linear_model import LogisticRegression\n",
    "\n",
    "# Criando classificador (sem hiperparâmetros)\n",
    "clf = LogisticRegression()\n",
    "\n",
    "# Treinando modelo\n",
    "clf.fit(X_train, y_train)"
   ]
  },
  {
   "cell_type": "markdown",
   "metadata": {},
   "source": [
    "### Medindo Performance"
   ]
  },
  {
   "cell_type": "code",
   "execution_count": 50,
   "metadata": {
    "ExecuteTime": {
     "end_time": "2019-04-12T02:46:34.246666Z",
     "start_time": "2019-04-12T02:46:30.515948Z"
    }
   },
   "outputs": [
    {
     "data": {
      "text/plain": [
       "array([0.89528796, 0.90404798, 0.89917231])"
      ]
     },
     "execution_count": 50,
     "metadata": {},
     "output_type": "execute_result"
    }
   ],
   "source": [
    "# Acurácia do modelo\n",
    "from sklearn.model_selection import cross_val_score\n",
    "\n",
    "cross_val_score(clf, X_train, y_train, cv=3, scoring='accuracy')"
   ]
  },
  {
   "cell_type": "markdown",
   "metadata": {},
   "source": [
    "Níveis semelhantes ao encontrado via NumPy. Vejamos outras métricas."
   ]
  },
  {
   "cell_type": "code",
   "execution_count": 55,
   "metadata": {
    "ExecuteTime": {
     "end_time": "2019-04-12T02:47:26.490889Z",
     "start_time": "2019-04-12T02:47:26.478921Z"
    }
   },
   "outputs": [
    {
     "data": {
      "text/plain": [
       "0.904"
      ]
     },
     "execution_count": 55,
     "metadata": {},
     "output_type": "execute_result"
    }
   ],
   "source": [
    "# Score nos dados de treino\n",
    "clf.score(X_test, y_test)"
   ]
  },
  {
   "cell_type": "code",
   "execution_count": 56,
   "metadata": {
    "ExecuteTime": {
     "end_time": "2019-04-12T02:49:24.428096Z",
     "start_time": "2019-04-12T02:49:23.889563Z"
    }
   },
   "outputs": [
    {
     "data": {
      "text/plain": [
       "array([[102,   1,   0,   0,   1,   0,   1,   0,   0,   0],\n",
       "       [  4,  83,   4,   4,   2,   2,   2,   3,   0,   1],\n",
       "       [  0,   3,  71,   0,   3,   1,   1,   4,   2,   0],\n",
       "       [  0,   4,   0,  81,   0,   1,   0,   2,   6,   0],\n",
       "       [  3,   1,   5,   3,  80,   0,   0,   1,   2,   3],\n",
       "       [  1,   2,   0,   0,   1,  90,   0,   1,   0,   3],\n",
       "       [  4,   2,   0,   1,   1,   0,  95,   0,   8,   1],\n",
       "       [  2,   1,   5,   1,   5,   2,   0,  63,   1,   1],\n",
       "       [  0,   1,   2,   4,   0,   0,   6,   1,  97,   0],\n",
       "       [  0,   0,   0,   0,   1,   2,   2,   1,   0, 105]], dtype=int64)"
      ]
     },
     "execution_count": 56,
     "metadata": {},
     "output_type": "execute_result"
    }
   ],
   "source": [
    "# Utilizando matriz de confusão para avaliar problemas pontuais\n",
    "from sklearn.model_selection import cross_val_predict\n",
    "from sklearn.metrics import confusion_matrix\n",
    "\n",
    "predictions = cross_val_predict(clf, X_test, y_test, cv=3)\n",
    "confusion_matrix(y_test, predictions)"
   ]
  },
  {
   "cell_type": "markdown",
   "metadata": {
    "ExecuteTime": {
     "end_time": "2019-04-12T02:52:06.352466Z",
     "start_time": "2019-04-12T02:52:06.342495Z"
    }
   },
   "source": [
    "Na tentativa de aprimorar o modelo, vamos aplicar um procedimento de Normalização nos dados."
   ]
  },
  {
   "cell_type": "code",
   "execution_count": 64,
   "metadata": {
    "ExecuteTime": {
     "end_time": "2019-04-12T02:56:04.532701Z",
     "start_time": "2019-04-12T02:55:37.900885Z"
    }
   },
   "outputs": [
    {
     "data": {
      "text/plain": [
       "array([0.868362  , 0.87406297, 0.87133183])"
      ]
     },
     "execution_count": 64,
     "metadata": {},
     "output_type": "execute_result"
    }
   ],
   "source": [
    "# Normalizando dados e retreinando modelo\n",
    "from sklearn.preprocessing import StandardScaler\n",
    "\n",
    "scaler = StandardScaler()\n",
    "X_train_scaled = scaler.fit_transform(X_train)\n",
    "\n",
    "# Realizando novo treinamento\n",
    "cross_val_score(clf, X_train_scaled, y_train, cv=3, scoring='accuracy')"
   ]
  },
  {
   "cell_type": "markdown",
   "metadata": {},
   "source": [
    "Não foi efetivo!"
   ]
  },
  {
   "cell_type": "code",
   "execution_count": 73,
   "metadata": {
    "ExecuteTime": {
     "end_time": "2019-04-12T02:57:58.000398Z",
     "start_time": "2019-04-12T02:57:55.650680Z"
    }
   },
   "outputs": [
    {
     "data": {
      "text/plain": [
       "array([0.88780853, 0.89655172, 0.89465764])"
      ]
     },
     "execution_count": 73,
     "metadata": {},
     "output_type": "execute_result"
    }
   ],
   "source": [
    "# Modificando um parâmetro\n",
    "clf_mod = LogisticRegression(C=0.1)\n",
    "\n",
    "cross_val_score(clf_mod, X_train, y_train, cv=3, scoring='accuracy')"
   ]
  },
  {
   "cell_type": "code",
   "execution_count": 74,
   "metadata": {
    "ExecuteTime": {
     "end_time": "2019-04-12T02:59:06.363496Z",
     "start_time": "2019-04-12T02:59:05.735175Z"
    }
   },
   "outputs": [
    {
     "data": {
      "text/plain": [
       "array([[102,   1,   0,   0,   1,   0,   1,   0,   0,   0],\n",
       "       [  4,  83,   4,   4,   2,   2,   2,   3,   0,   1],\n",
       "       [  0,   3,  71,   0,   3,   1,   1,   4,   2,   0],\n",
       "       [  0,   4,   0,  81,   0,   1,   0,   2,   6,   0],\n",
       "       [  3,   1,   5,   3,  80,   0,   0,   1,   2,   3],\n",
       "       [  1,   2,   0,   0,   1,  90,   0,   1,   0,   3],\n",
       "       [  4,   2,   0,   1,   1,   0,  95,   0,   8,   1],\n",
       "       [  2,   1,   5,   1,   5,   2,   0,  63,   1,   1],\n",
       "       [  0,   1,   2,   4,   0,   0,   6,   1,  97,   0],\n",
       "       [  0,   0,   0,   0,   1,   2,   2,   1,   0, 105]], dtype=int64)"
      ]
     },
     "execution_count": 74,
     "metadata": {},
     "output_type": "execute_result"
    }
   ],
   "source": [
    "# Dinamizando matriz de confusão\n",
    "predictions = cross_val_predict(clf, X_test, y_test, cv=3)\n",
    "conf_mx = confusion_matrix(y_test, predictions)\n",
    "conf_mx"
   ]
  },
  {
   "cell_type": "code",
   "execution_count": 75,
   "metadata": {
    "ExecuteTime": {
     "end_time": "2019-04-12T02:59:39.690272Z",
     "start_time": "2019-04-12T02:59:39.600513Z"
    }
   },
   "outputs": [
    {
     "data": {
      "text/plain": [
       "<matplotlib.figure.Figure at 0x27a8ce5bd68>"
      ]
     },
     "metadata": {},
     "output_type": "display_data"
    },
    {
     "data": {
      "image/png": "[encoded data removed]",
      "text/plain": [
       "<matplotlib.figure.Figure at 0x27a8ce5b278>"
      ]
     },
     "metadata": {
      "needs_background": "light"
     },
     "output_type": "display_data"
    }
   ],
   "source": [
    "# Plotando matriz\n",
    "plt.figure(figsize=(12, 6))\n",
    "plt.matshow(conf_mx, cmap='binary')\n",
    "plt.show()"
   ]
  },
  {
   "cell_type": "code",
   "execution_count": 76,
   "metadata": {
    "ExecuteTime": {
     "end_time": "2019-04-12T03:00:17.246591Z",
     "start_time": "2019-04-12T03:00:17.129903Z"
    }
   },
   "outputs": [
    {
     "data": {
      "image/png": "[encoded data removed]",
      "text/plain": [
       "<matplotlib.figure.Figure at 0x27a8b122d30>"
      ]
     },
     "metadata": {
      "needs_background": "light"
     },
     "output_type": "display_data"
    }
   ],
   "source": [
    "# Visualizando melhor\n",
    "row_sums = conf_mx.sum(axis=1, keepdims=True)\n",
    "norm_conf_mx = conf_mx / row_sums\n",
    "\n",
    "np.fill_diagonal(norm_conf_mx, 0)\n",
    "plt.matshow(norm_conf_mx, cmap=plt.cm.gray)\n",
    "plt.show()"
   ]
  },
  {
   "cell_type": "markdown",
   "metadata": {},
   "source": [
    "Análise:\n",
    "\n",
    "Através da Matriz de Confusão acima, é possível perceber que existem muitos dígitos **7** sendo confundidos com dígitos **2**, muitos dígitos **7** sendo confundidos com dígitos **4** e, talvez em uma situação mais crítica, muitos dígitos **6** sendo confundidos com dígitos **8**."
   ]
  },
  {
   "cell_type": "markdown",
   "metadata": {},
   "source": [
    "Vamos tentar plotar os dígitos classificados erroneamente."
   ]
  },
  {
   "cell_type": "code",
   "execution_count": null,
   "metadata": {},
   "outputs": [],
   "source": [
    "#"
   ]
  },
  {
   "cell_type": "code",
   "execution_count": 96,
   "metadata": {
    "ExecuteTime": {
     "end_time": "2019-04-12T03:11:30.724924Z",
     "start_time": "2019-04-12T03:11:30.412785Z"
    }
   },
   "outputs": [
    {
     "data": {
      "image/png": "[encoded data removed]",
      "text/plain": [
       "<matplotlib.figure.Figure at 0x27a8d174780>"
      ]
     },
     "metadata": {
      "needs_background": "light"
     },
     "output_type": "display_data"
    }
   ],
   "source": [
    "import matplotlib\n",
    "# Analisando erros individuais (por que 6s são tão confundidos com 8s?)\n",
    "# EXTRA\n",
    "def plot_digits(instances, images_per_row=10, **options):\n",
    "    size = 20\n",
    "    images_per_row = min(len(instances), images_per_row)\n",
    "    images = [instance.reshape(size,size) for instance in instances]\n",
    "    n_rows = (len(instances) - 1) // images_per_row + 1\n",
    "    row_images = []\n",
    "    n_empty = n_rows * images_per_row - len(instances)\n",
    "    images.append(np.zeros((size, size * n_empty)))\n",
    "    for row in range(n_rows):\n",
    "        rimages = images[row * images_per_row : (row + 1) * images_per_row]\n",
    "        row_images.append(np.concatenate(rimages, axis=1))\n",
    "    image = np.concatenate(row_images, axis=0)\n",
    "    plt.imshow(image.T, cmap = matplotlib.cm.binary, **options)\n",
    "    plt.axis(\"off\")\n",
    "    \n",
    "cl_a, cl_b = 3, 5\n",
    "X_aa = X_test[(y_test == cl_a) & (predictions == cl_a)]\n",
    "X_ab = X_test[(y_test == cl_a) & (predictions == cl_b)]\n",
    "X_ba = X_test[(y_test == cl_b) & (predictions == cl_a)]\n",
    "X_bb = X_test[(y_test == cl_b) & (predictions == cl_b)]\n",
    "\n",
    "plt.figure(figsize=(10, 10))\n",
    "plt.subplot(221); plot_digits(X_aa[:25], images_per_row=5)\n",
    "plt.subplot(222); plot_digits(X_ab[:25], images_per_row=5)\n",
    "plt.subplot(223); plot_digits(X_ba[:25], images_per_row=5)\n",
    "plt.subplot(224); plot_digits(X_bb[:25], images_per_row=5)\n",
    "plt.show()"
   ]
  },
  {
   "cell_type": "code",
   "execution_count": 82,
   "metadata": {
    "ExecuteTime": {
     "end_time": "2019-04-12T03:07:15.762847Z",
     "start_time": "2019-04-12T03:07:11.673771Z"
    }
   },
   "outputs": [
    {
     "data": {
      "image/png": "[encoded data removed]",
      "text/plain": [
       "<matplotlib.figure.Figure at 0x27a8b2d9940>"
      ]
     },
     "metadata": {
      "needs_background": "light"
     },
     "output_type": "display_data"
    }
   ],
   "source": [
    "# Vejamos com os dados de treino\n",
    "train_pred = cross_val_predict(clf, X_train, y_train, cv=3)\n",
    "train_conf_mx = confusion_matrix(y_train, train_pred)\n",
    "row_sums = train_conf_mx.sum(axis=1, keepdims=True)\n",
    "norm_conf_mx = train_conf_mx / row_sums\n",
    "\n",
    "np.fill_diagonal(norm_conf_mx, 0)\n",
    "plt.matshow(norm_conf_mx, cmap=plt.cm.gray)\n",
    "plt.show()"
   ]
  },
  {
   "cell_type": "markdown",
   "metadata": {},
   "source": [
    "Nos dados de treino, a maior confusão se deu entre os dígitos 2 e 4."
   ]
  },
  {
   "cell_type": "code",
   "execution_count": 86,
   "metadata": {
    "ExecuteTime": {
     "end_time": "2019-04-12T03:08:47.673371Z",
     "start_time": "2019-04-12T03:08:47.667386Z"
    }
   },
   "outputs": [
    {
     "data": {
      "text/plain": [
       "array([[379,   2,   1,   1,   2,   0,   0,  10,   0,   0],\n",
       "       [  7, 336,   5,   9,   1,   5,   8,  17,   3,   4],\n",
       "       [  4,  17, 353,   2,  24,   1,   5,   6,   3,   0],\n",
       "       [  1,   3,   0, 374,   1,   6,   1,   4,  15,   1],\n",
       "       [  2,   3,  17,   9, 339,   6,   0,  17,   7,   2],\n",
       "       [  2,   2,   0,   4,   6, 376,   3,   5,   2,   2],\n",
       "       [  2,   3,   2,   4,   0,   1, 353,   2,  16,   5],\n",
       "       [  9,   9,   9,   4,   7,   4,   1, 368,   7,   1],\n",
       "       [  3,   4,   6,  11,   4,   0,  15,   2, 340,   4],\n",
       "       [  0,   0,   1,   1,   3,   2,   1,   1,   0, 380]], dtype=int64)"
      ]
     },
     "execution_count": 86,
     "metadata": {},
     "output_type": "execute_result"
    }
   ],
   "source": [
    "train_conf_mx"
   ]
  },
  {
   "cell_type": "code",
   "execution_count": 91,
   "metadata": {
    "ExecuteTime": {
     "end_time": "2019-04-12T03:10:30.669489Z",
     "start_time": "2019-04-12T03:10:30.294490Z"
    }
   },
   "outputs": [
    {
     "data": {
      "image/png": "[encoded data removed]",
      "text/plain": [
       "<matplotlib.figure.Figure at 0x27a8e8aa4a8>"
      ]
     },
     "metadata": {
      "needs_background": "light"
     },
     "output_type": "display_data"
    }
   ],
   "source": [
    "# Analisando erros individuais (por que 5s são tão confundidos com 3s?)\n",
    "# EXTRA\n",
    "def plot_digits(instances, images_per_row=10, **options):\n",
    "    size = 20\n",
    "    images_per_row = min(len(instances), images_per_row)\n",
    "    images = [instance.reshape(size,size) for instance in instances]\n",
    "    n_rows = (len(instances) - 1) // images_per_row + 1\n",
    "    row_images = []\n",
    "    n_empty = n_rows * images_per_row - len(instances)\n",
    "    images.append(np.zeros((size, size * n_empty)))\n",
    "    for row in range(n_rows):\n",
    "        rimages = images[row * images_per_row : (row + 1) * images_per_row]\n",
    "        row_images.append(np.concatenate(rimages, axis=1))\n",
    "    image = np.concatenate(row_images, axis=0)\n",
    "    plt.imshow(image.T, cmap = matplotlib.cm.binary, **options)\n",
    "    plt.axis(\"off\")\n",
    "    \n",
    "cl_a, cl_b = 2, 4\n",
    "X_aa = X_train[(y_train == cl_a) & (train_pred == cl_a)]\n",
    "X_ab = X_train[(y_train == cl_a) & (train_pred == cl_b)]\n",
    "X_ba = X_train[(y_train == cl_b) & (train_pred == cl_a)]\n",
    "X_bb = X_train[(y_train == cl_b) & (train_pred == cl_b)]\n",
    "\n",
    "plt.figure(figsize=(10, 10))\n",
    "plt.subplot(221); plot_digits(X_aa[:15], images_per_row=5)\n",
    "plt.subplot(222); plot_digits(X_ab[:15], images_per_row=5)\n",
    "plt.subplot(223); plot_digits(X_ba[:15], images_per_row=5)\n",
    "plt.subplot(224); plot_digits(X_bb[:15], images_per_row=5)\n",
    "plt.show()"
   ]
  },
  {
   "cell_type": "markdown",
   "metadata": {},
   "source": [
    "### Pipeline Completo"
   ]
  },
  {
   "cell_type": "code",
   "execution_count": 1,
   "metadata": {
    "ExecuteTime": {
     "end_time": "2019-04-12T22:25:39.457186Z",
     "start_time": "2019-04-12T22:25:38.668517Z"
    }
   },
   "outputs": [],
   "source": [
    "# Importando bibliotecas\n",
    "import numpy as np\n",
    "import scipy.io as sio\n",
    "from sklearn.model_selection import train_test_split\n",
    "from sklearn.model_selection import cross_val_predict\n",
    "from sklearn.metrics import confusion_matrix\n",
    "from sklearn.linear_model import LogisticRegression\n",
    "from sklearn.preprocessing import StandardScaler\n",
    "from sklearn.model_selection import cross_val_score\n",
    "from sklearn.model_selection import GridSearchCV\n",
    "import matplotlib\n",
    "import matplotlib.pyplot as plt\n",
    "%matplotlib inline"
   ]
  },
  {
   "cell_type": "code",
   "execution_count": 2,
   "metadata": {
    "ExecuteTime": {
     "end_time": "2019-04-12T22:25:42.476098Z",
     "start_time": "2019-04-12T22:25:42.372784Z"
    }
   },
   "outputs": [],
   "source": [
    "# Definindo funções\n",
    "\n",
    "# Função para separação dos dados\n",
    "def data_split(X, y, test_ratio):\n",
    "    \"\"\" Função responsável pela separação do dataset em dados de Treino e Teste\n",
    "    Input:\n",
    "        X: features do modelo;\n",
    "        y: label do modelo;\n",
    "        test_ratio: porcentagem de dados de teste\n",
    "    Output: X_train, X_teste, y_train, y_teste: dados separados\"\"\"\n",
    "    \n",
    "    # Embaralhando os dados\n",
    "    m = X.shape[0]\n",
    "    indices = np.random.RandomState(seed=42).permutation(m)\n",
    "    X_shuffle = X[indices]\n",
    "    y_shuffle = y[indices]\n",
    "    \n",
    "    # Separando os dados\n",
    "    return train_test_split(X_shuffle, y_shuffle, \n",
    "                            test_size=test_ratio, random_state=42)\n",
    "\n",
    "# Função para leitura e preparação dos dados\n",
    "def data_prepare(test_ratio):\n",
    "    \"\"\" Função responsável pela leitura e preparação dos dados\n",
    "    Input:\n",
    "        test_ratio: porcentagem de dados de teste.\n",
    "    Output:\n",
    "        X_train, X_test, y_train, y_test: dados separados\"\"\"\n",
    "    \n",
    "    # Lendo dados\n",
    "    data = sio.loadmat('ex3data1.mat')\n",
    "    X = data['X']\n",
    "    y = data['y']\n",
    "    \n",
    "    return data_split(X, y, test_ratio=test_ratio)\n",
    "\n",
    "# Função para plotagem dos dados\n",
    "def plot_digit():\n",
    "    \"\"\" Função por plotar um dígito aletório do conjunto de train\"\"\"\n",
    "    \n",
    "    rnd = np.random.randint(3999)\n",
    "    plt.imshow(X_train[rnd].reshape(20, 20).T, cmap='viridis')\n",
    "    plt.axis('off')\n",
    "    plt.title(f'Dígito: {y_train[rnd]}', size=13)\n",
    "    plt.show()\n",
    "    \n",
    "# Função para análise da Matriz de COnfusão\n",
    "def plot_conf_matrix(y, predictions):\n",
    "    \"\"\" Função responsável por mostrar a Matriz de Confusão analítica e gráfica\n",
    "    Input:\n",
    "        X: features\n",
    "        y: label\n",
    "        predictions: predições realizadas através da validação cruzada\"\"\"\n",
    "    \n",
    "    # Analítica\n",
    "    conf_mx = confusion_matrix(y, predictions)\n",
    "    print(conf_mx)\n",
    "    print()\n",
    "    \n",
    "    # Gráfica\n",
    "    row_sums = conf_mx.sum(axis=1, keepdims=True)\n",
    "    norm_conf_mx = conf_mx / row_sums\n",
    "    np.fill_diagonal(norm_conf_mx, 0)\n",
    "    plt.matshow(norm_conf_mx, cmap=plt.cm.gray)\n",
    "    plt.show()"
   ]
  },
  {
   "cell_type": "code",
   "execution_count": 3,
   "metadata": {
    "ExecuteTime": {
     "end_time": "2019-04-12T22:25:43.373213Z",
     "start_time": "2019-04-12T22:25:43.254958Z"
    }
   },
   "outputs": [],
   "source": [
    "# Lendo e preparando dados\n",
    "X_train, X_test, y_train, y_test = data_prepare(.20)"
   ]
  },
  {
   "cell_type": "code",
   "execution_count": 4,
   "metadata": {
    "ExecuteTime": {
     "end_time": "2019-04-12T22:25:44.103704Z",
     "start_time": "2019-04-12T22:25:44.091432Z"
    }
   },
   "outputs": [
    {
     "name": "stdout",
     "output_type": "stream",
     "text": [
      "- - - Treino - - -\n",
      "Dimensões de X_train: (4000, 400)\n",
      "Dimensões de y_train: (4000,)\n",
      "\n",
      "- - - Teste - - -\n",
      "Dimensões de X_test: (1000, 400)\n",
      "Dimensões de y_test: (1000,)\n"
     ]
    }
   ],
   "source": [
    "# Verificando\n",
    "y_train = y_train.reshape(-1)\n",
    "y_test = y_test.reshape(-1)\n",
    "\n",
    "print('- - - Treino - - -')\n",
    "print(f'Dimensões de X_train: {X_train.shape}')\n",
    "print(f'Dimensões de y_train: {y_train.shape}')\n",
    "print('\\n- - - Teste - - -')\n",
    "print(f'Dimensões de X_test: {X_test.shape}')\n",
    "print(f'Dimensões de y_test: {y_test.shape}')"
   ]
  },
  {
   "cell_type": "code",
   "execution_count": 5,
   "metadata": {
    "ExecuteTime": {
     "end_time": "2019-04-12T22:25:45.510290Z",
     "start_time": "2019-04-12T22:25:45.498446Z"
    }
   },
   "outputs": [
    {
     "data": {
      "text/plain": [
       "array([ 3,  7,  5, ...,  5, 10,  6], dtype=uint8)"
      ]
     },
     "execution_count": 5,
     "metadata": {},
     "output_type": "execute_result"
    }
   ],
   "source": [
    "y_train"
   ]
  },
  {
   "cell_type": "code",
   "execution_count": 6,
   "metadata": {
    "ExecuteTime": {
     "end_time": "2019-04-12T22:25:46.786600Z",
     "start_time": "2019-04-12T22:25:46.619380Z"
    }
   },
   "outputs": [
    {
     "data": {
      "image/png": "[encoded data removed]",
      "text/plain": [
       "<matplotlib.figure.Figure at 0x1629da7b3c8>"
      ]
     },
     "metadata": {
      "needs_background": "light"
     },
     "output_type": "display_data"
    }
   ],
   "source": [
    "# Plotando dígito\n",
    "plot_digit()"
   ]
  },
  {
   "cell_type": "code",
   "execution_count": 7,
   "metadata": {
    "ExecuteTime": {
     "end_time": "2019-04-12T22:25:57.447439Z",
     "start_time": "2019-04-12T22:25:47.509301Z"
    }
   },
   "outputs": [
    {
     "name": "stdout",
     "output_type": "stream",
     "text": [
      "Scores: [0.90052356 0.9107946  0.89089541]\n",
      "Score médio: 0.90\n"
     ]
    }
   ],
   "source": [
    "# Treinando modelo\n",
    "clf = LogisticRegression()\n",
    "clf.fit(X_train, y_train)\n",
    "\n",
    "# Acurácia\n",
    "accs = cross_val_score(clf, X_train, y_train, scoring='accuracy')\n",
    "print(f'Scores: {accs}')\n",
    "print(f'Score médio: {accs.mean():.2f}')"
   ]
  },
  {
   "cell_type": "code",
   "execution_count": 8,
   "metadata": {
    "ExecuteTime": {
     "end_time": "2019-04-12T22:26:04.056576Z",
     "start_time": "2019-04-12T22:25:57.457561Z"
    }
   },
   "outputs": [
    {
     "name": "stdout",
     "output_type": "stream",
     "text": [
      "[[389   3   2   1   4   0   1   6   0   0]\n",
      " [ 10 330   2   7   1   8   6  14   5   4]\n",
      " [  2  11 343   1  22   1   7   6   5   1]\n",
      " [  2   7   0 379   0   5   0   3  19   1]\n",
      " [  4   2  22   9 327   7   0  12   5   4]\n",
      " [  1   5   0   2   7 370   0   1   2   3]\n",
      " [  8   4   0   6   1   0 369   0  10   3]\n",
      " [  8   8   8   5  10   3   2 341   5   2]\n",
      " [  4   2   7  12   5   1  12   3 349   5]\n",
      " [  0   1   1   2   2   2   0   0   2 406]]\n",
      "\n"
     ]
    },
    {
     "data": {
      "image/png": "[encoded data removed]",
      "text/plain": [
       "<matplotlib.figure.Figure at 0x1629fbf2588>"
      ]
     },
     "metadata": {
      "needs_background": "light"
     },
     "output_type": "display_data"
    }
   ],
   "source": [
    "# Matriz de Confusão\n",
    "predictions = cross_val_predict(clf, X_train, y_train, cv=3)\n",
    "plot_conf_matrix(y_train, predictions)"
   ]
  },
  {
   "cell_type": "markdown",
   "metadata": {},
   "source": [
    "Análise: \n",
    "\n",
    "Os pontos brancos indicam locais onde houveram um maior índice de erros na classificação de dígitos. Por exemplo, ao analisar a linha 4 e a coluna 2, é possível concluir que _dígitos que deveriam ser classificados como **2**, normalmente estão sendo classificados como **4**_!"
   ]
  },
  {
   "cell_type": "code",
   "execution_count": 9,
   "metadata": {
    "ExecuteTime": {
     "end_time": "2019-04-12T22:36:55.989074Z",
     "start_time": "2019-04-12T22:26:11.355875Z"
    }
   },
   "outputs": [
    {
     "data": {
      "text/plain": [
       "GridSearchCV(cv=3, error_score='raise',\n",
       "       estimator=LogisticRegression(C=1.0, class_weight=None, dual=False, fit_intercept=True,\n",
       "          intercept_scaling=1, max_iter=100, multi_class='ovr', n_jobs=1,\n",
       "          penalty='l2', random_state=None, solver='liblinear', tol=0.0001,\n",
       "          verbose=0, warm_start=False),\n",
       "       fit_params=None, iid=True, n_jobs=1,\n",
       "       param_grid=[{'C': array([  1.     ,   1.6681 ,   2.78256,   4.64159,   7.74264,  12.9155 ,\n",
       "        21.54435,  35.93814,  59.94843, 100.     ]), 'penalty': ['l1', 'l2']}],\n",
       "       pre_dispatch='2*n_jobs', refit=True, return_train_score='warn',\n",
       "       scoring='accuracy', verbose=0)"
      ]
     },
     "execution_count": 9,
     "metadata": {},
     "output_type": "execute_result"
    }
   ],
   "source": [
    "# Tunando hiperparâmetros\n",
    "param_grid = [\n",
    "    {'C': np.logspace(0, 2, 10), 'penalty': ['l1', 'l2']}\n",
    "]\n",
    "\n",
    "# Classificador\n",
    "grid_search = GridSearchCV(clf, param_grid, cv=3, scoring='accuracy')\n",
    "grid_search.fit(X_train, y_train)"
   ]
  },
  {
   "cell_type": "code",
   "execution_count": 11,
   "metadata": {
    "ExecuteTime": {
     "end_time": "2019-04-12T22:46:46.636801Z",
     "start_time": "2019-04-12T22:46:46.628701Z"
    }
   },
   "outputs": [
    {
     "name": "stdout",
     "output_type": "stream",
     "text": [
      "A melhor acurácia para o modelo é 0.90075\n"
     ]
    }
   ],
   "source": [
    "# Melhor performance\n",
    "print(f'A melhor acurácia para o modelo é {grid_search.best_score_}')"
   ]
  },
  {
   "cell_type": "code",
   "execution_count": 18,
   "metadata": {
    "ExecuteTime": {
     "end_time": "2019-04-12T23:05:36.324530Z",
     "start_time": "2019-04-12T23:05:32.723826Z"
    }
   },
   "outputs": [
    {
     "name": "stdout",
     "output_type": "stream",
     "text": [
      "[[389   3   2   1   4   0   1   6   0   0]\n",
      " [ 10 330   2   7   1   8   6  14   5   4]\n",
      " [  2  11 343   1  22   1   7   6   5   1]\n",
      " [  2   7   0 379   0   5   0   3  19   1]\n",
      " [  4   2  22   9 327   7   0  12   5   4]\n",
      " [  1   5   0   2   7 370   0   1   2   3]\n",
      " [  8   4   0   6   1   0 369   0  10   3]\n",
      " [  8   8   8   5  10   3   2 341   5   2]\n",
      " [  4   2   7  12   5   1  12   3 349   5]\n",
      " [  0   1   1   2   2   2   0   0   2 406]]\n",
      "\n"
     ]
    },
    {
     "data": {
      "image/png": "[encoded data removed]",
      "text/plain": [
       "<matplotlib.figure.Figure at 0x162a1096438>"
      ]
     },
     "metadata": {
      "needs_background": "light"
     },
     "output_type": "display_data"
    }
   ],
   "source": [
    "# Avaliando matriz de confusão \n",
    "model = grid_search.best_estimator_\n",
    "\n",
    "pred = cross_val_predict(model, X_train, y_train, cv=3)\n",
    "plot_conf_matrix(y_train, pred)"
   ]
  },
  {
   "cell_type": "code",
   "execution_count": 19,
   "metadata": {
    "ExecuteTime": {
     "end_time": "2019-04-12T23:06:13.894712Z",
     "start_time": "2019-04-12T23:06:13.102830Z"
    }
   },
   "outputs": [
    {
     "name": "stdout",
     "output_type": "stream",
     "text": [
      "[[ 87   0   1   0   2   0   0   4   0   0]\n",
      " [  2  94   4   2   0   1   3   5   0   2]\n",
      " [  3   5  85   0   2   1   1   1   3   0]\n",
      " [  0   0   1  71   0   2   0   3   7   0]\n",
      " [  1   0   6   2  84   2   0   8   4   1]\n",
      " [  2   1   0   1   2 101   0   2   0   0]\n",
      " [  2   1   0   4   0   0  87   0   5   0]\n",
      " [  0   6   3   0   8   2   2  81   6   0]\n",
      " [  0   0   3   6   0   1   8   0  82   0]\n",
      " [  0   1   0   0   1   1   0   1   0  80]]\n",
      "\n"
     ]
    },
    {
     "data": {
      "image/png": "[encoded data removed]",
      "text/plain": [
       "<matplotlib.figure.Figure at 0x162a13f3c50>"
      ]
     },
     "metadata": {
      "needs_background": "light"
     },
     "output_type": "display_data"
    }
   ],
   "source": [
    "# Matriz de confusão nos dados de teste\n",
    "test_pred = cross_val_predict(model, X_test, y_test, cv=3)\n",
    "plot_conf_matrix(y_test, test_pred)"
   ]
  },
  {
   "cell_type": "markdown",
   "metadata": {},
   "source": [
    "**Conclusão**:\n",
    "\n",
    "A aplicação da classe ```GridSearchCV``` não foi tão efetiva, visto que a acurácia do modelo e as avaliações pontuais através da matriz de confusão não sofreram mudanças significativas."
   ]
  },
  {
   "cell_type": "code",
   "execution_count": null,
   "metadata": {},
   "outputs": [],
   "source": []
  }
 ],
 "metadata": {
  "kernelspec": {
   "display_name": "Python 3",
   "language": "python",
   "name": "python3"
  },
  "language_info": {
   "codemirror_mode": {
    "name": "ipython",
    "version": 3
   },
   "file_extension": ".py",
   "mimetype": "text/x-python",
   "name": "python",
   "nbconvert_exporter": "python",
   "pygments_lexer": "ipython3",
   "version": "3.6.4"
  },
  "toc": {
   "base_numbering": 1,
   "nav_menu": {},
   "number_sections": true,
   "sideBar": true,
   "skip_h1_title": true,
   "title_cell": "Table of Contents",
   "title_sidebar": "Contents",
   "toc_cell": true,
   "toc_position": {},
   "toc_section_display": true,
   "toc_window_display": true
  }
 },
 "nbformat": 4,
 "nbformat_minor": 2
}
