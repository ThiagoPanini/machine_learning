{
 "cells": [
  {
   "cell_type": "markdown",
   "metadata": {},
   "source": [
    "# <font color='blue'>Data Science Academy - Python Fundamentos - Capítulo 2</font>\n",
    "\n",
    "## Download: http://github.com/dsacademybr"
   ]
  },
  {
   "cell_type": "markdown",
   "metadata": {},
   "source": [
    "## Exercícios Cap02"
   ]
  },
  {
   "cell_type": "code",
   "execution_count": 1,
   "metadata": {},
   "outputs": [
    {
     "name": "stdout",
     "output_type": "stream",
     "text": [
      "1, 2, 3, 4, 5, 6, 7, 8, 9, 10, \n",
      " [1, 2, 3, 4, 5, 6, 7, 8, 9, 10]\n"
     ]
    }
   ],
   "source": [
    "# Exercício 1 - Imprima na tela os números de 1 a 10. Use uma lista para armazenar os números.\n",
    "lista = []\n",
    "for x in range(1, 11):\n",
    "    print(x, end=', ')\n",
    "    lista.append(x)\n",
    "print('\\n',lista)"
   ]
  },
  {
   "cell_type": "code",
   "execution_count": 14,
   "metadata": {},
   "outputs": [
    {
     "name": "stdout",
     "output_type": "stream",
     "text": [
      "[1, 2, 3, 4, 5, 6, 7, 8, 9, 10]\n"
     ]
    }
   ],
   "source": [
    "print([x for x in range(1, 11)]) # List Comprehension"
   ]
  },
  {
   "cell_type": "code",
   "execution_count": 17,
   "metadata": {},
   "outputs": [
    {
     "name": "stdout",
     "output_type": "stream",
     "text": [
      "Insira um elemento da lista: pêra\n",
      "Insira um elemento da lista: uva\n",
      "Insira um elemento da lista: maçã\n",
      "Insira um elemento da lista: salada mista\n",
      "Insira um elemento da lista: molejo\n",
      "['pêra', 'uva', 'maçã', 'salada mista', 'molejo']\n"
     ]
    }
   ],
   "source": [
    "# Exercício 2 - Crie uma lista de 5 objetos e imprima na tela\n",
    "lista = []\n",
    "for c in range(5):\n",
    "    lista.append(input('Insira um elemento da lista: '))\n",
    "print(lista)"
   ]
  },
  {
   "cell_type": "code",
   "execution_count": 18,
   "metadata": {},
   "outputs": [
    {
     "name": "stdout",
     "output_type": "stream",
     "text": [
      "Insira um elemento da lista: ela\n",
      "Insira um elemento da lista: dancando\n",
      "Insira um elemento da lista: pimpolho\n",
      "Insira um elemento da lista: esta\n",
      "Insira um elemento da lista: de olho\n",
      "['ela', 'dancando', 'pimpolho', 'esta', 'de olho']\n"
     ]
    }
   ],
   "source": [
    "# Fazendo com List Comprehension\n",
    "print([input('Insira um elemento da lista: ') for x in range(5)])"
   ]
  },
  {
   "cell_type": "code",
   "execution_count": 19,
   "metadata": {},
   "outputs": [
    {
     "name": "stdout",
     "output_type": "stream",
     "text": [
      "Insira uma string: É essa? \n",
      "Insira outra string: Não!\n",
      "String concatenada = É essa? Não!\n"
     ]
    }
   ],
   "source": [
    "# Exercício 3 - Crie duas strings e concatene as duas em uma terceira string\n",
    "s1 = input('Insira uma string: ')\n",
    "s2 = input('Insira outra string: ')\n",
    "s3 = s1+s2\n",
    "print('String concatenada = {}'.format(s3))"
   ]
  },
  {
   "cell_type": "code",
   "execution_count": 20,
   "metadata": {},
   "outputs": [
    {
     "data": {
      "text/plain": [
       "3"
      ]
     },
     "execution_count": 20,
     "metadata": {},
     "output_type": "execute_result"
    }
   ],
   "source": [
    "# Exercício 4 - Crie uma tupla com os seguintes elementos: 1, 2, 2, 3, 4, 4, 4, 5 e depois utilize a função count do \n",
    "# objeto tupla para verificar quantas vezes o número 4 aparece na tupla\n",
    "tup = (1, 2, 2, 3, 4, 4, 4, 5)\n",
    "tup.count(4)"
   ]
  },
  {
   "cell_type": "code",
   "execution_count": 21,
   "metadata": {},
   "outputs": [
    {
     "name": "stdout",
     "output_type": "stream",
     "text": [
      "{}\n"
     ]
    }
   ],
   "source": [
    "# Exercício 5 - Crie um dicionário vazio e imprima na tela\n",
    "dic = {}\n",
    "print(dic)"
   ]
  },
  {
   "cell_type": "code",
   "execution_count": 22,
   "metadata": {},
   "outputs": [
    {
     "name": "stdout",
     "output_type": "stream",
     "text": [
      "Chave: key1\n",
      "Valor: Romarinho\n",
      "Chave: key2\n",
      "Valor: Pqfasisso\n",
      "Chave: key3\n",
      "Valor: Tite hexacampeão\n",
      "{'key1': 'Romarinho', 'key2': 'Pqfasisso', 'key3': 'Tite hexacampeão'}\n"
     ]
    }
   ],
   "source": [
    "# Exercício 6 - Crie um dicionário com 3 chaves e 3 valores e imprima na tela\n",
    "for item in range(3):\n",
    "    chave = input('Chave: ')\n",
    "    valor = input('Valor: ')\n",
    "    dic[chave] = valor\n",
    "print(dic)"
   ]
  },
  {
   "cell_type": "code",
   "execution_count": 23,
   "metadata": {},
   "outputs": [
    {
     "name": "stdout",
     "output_type": "stream",
     "text": [
      "Elemento: 7 a 1 Brasil\n",
      "Chave: Placar contra a Alemanha\n",
      "{'key1': 'Romarinho', 'key2': 'Pqfasisso', 'key3': 'Tite hexacampeão', 'Placar contra a Alemanha': '7 a 1 Brasil'}\n"
     ]
    }
   ],
   "source": [
    "# Exercício 7 - Adicione mais um elemento ao dicionário criado no exercício anterior e imprima na tela\n",
    "dic[input('Chave: ')] = input('Elemento: ')\n",
    "print(dic)"
   ]
  },
  {
   "cell_type": "code",
   "execution_count": 24,
   "metadata": {},
   "outputs": [
    {
     "name": "stdout",
     "output_type": "stream",
     "text": [
      "Valor 1: Valorização do dólar\n",
      "Chave 1: chaveta1\n",
      "Valor 2: [10, 100]\n",
      "Chave 2: chaveinglesa\n",
      "Valor 3: kof98\n",
      "Chave 3: Melhor The King\n",
      "{'chaveta1': 'Valorização do dólar', 'chaveinglesa': '[10, 100]', 'Melhor The King': 'kof98'}\n"
     ]
    }
   ],
   "source": [
    "# Exercício 8 - Crie um dicionário com 3 chaves e 3 valores. Um dos valores deve ser uma lista de 2 elementos numéricos. \n",
    "# Imprima o dicionário na tela.\n",
    "\n",
    "dicio = {}\n",
    "for x in range(3):\n",
    "    dicio[input(f'Chave {x+1}: ')] = input(f'Valor {x+1}: ')\n",
    "print(dicio)"
   ]
  },
  {
   "cell_type": "code",
   "execution_count": 25,
   "metadata": {},
   "outputs": [
    {
     "name": "stdout",
     "output_type": "stream",
     "text": [
      "Item 1: String\n",
      "Item 2: (1, 2)\n",
      "Item 3: {'Eu': 'Robô', 'Tu': 'Cop'}\n",
      "Item 4: 5.6\n",
      "['String', '(1, 2)', \"{'Eu': 'Robô', 'Tu': 'Cop'}\", '5.6']\n"
     ]
    }
   ],
   "source": [
    "# Exercício 9 - Crie uma lista de 4 elementos. O primeiro elemento deve ser uma string, \n",
    "# o segundo uma tupla de 2 elementos, o terceiro um dcionário com 2 chaves e 2 valores e \n",
    "# o quarto elemento um valor do tipo float.\n",
    "# Imprima a lista na tela.\n",
    "\n",
    "print([input(f'Item {i+1}: ') for i in range(4)]) # Dessa forma tudo virou string"
   ]
  },
  {
   "cell_type": "code",
   "execution_count": 12,
   "metadata": {},
   "outputs": [
    {
     "name": "stdout",
     "output_type": "stream",
     "text": [
      "['Thiago', (1, 2), {'Python': 'Nice', 'DSA': 10}, 10.5]\n"
     ]
    }
   ],
   "source": [
    "lista = ['Thiago', (1, 2), {'Python': 'Nice', 'DSA': 10}, 10.5]\n",
    "print(lista)"
   ]
  },
  {
   "cell_type": "code",
   "execution_count": 13,
   "metadata": {},
   "outputs": [
    {
     "data": {
      "text/plain": [
       "'ientista de Dados '"
      ]
     },
     "execution_count": 13,
     "metadata": {},
     "output_type": "execute_result"
    }
   ],
   "source": [
    "# Exercício 10 - Considere a string abaixo. Imprima na tela apenas os caracteres da posição 1 a 18.\n",
    "frase = 'Cientista de Dados é o profissional mais sexy do século XXI'\n",
    "frase[1:19]"
   ]
  },
  {
   "cell_type": "markdown",
   "metadata": {},
   "source": [
    "# Fim"
   ]
  },
  {
   "cell_type": "markdown",
   "metadata": {},
   "source": [
    "### Obrigado - Data Science Academy - <a href=http://facebook.com/dsacademy>facebook.com/dsacademybr</a>"
   ]
  }
 ],
 "metadata": {
  "kernelspec": {
   "display_name": "Python 3",
   "language": "python",
   "name": "python3"
  },
  "language_info": {
   "codemirror_mode": {
    "name": "ipython",
    "version": 3
   },
   "file_extension": ".py",
   "mimetype": "text/x-python",
   "name": "python",
   "nbconvert_exporter": "python",
   "pygments_lexer": "ipython3",
   "version": "3.6.4"
  }
 },
 "nbformat": 4,
 "nbformat_minor": 1
}
