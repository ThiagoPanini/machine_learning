{
 "cells": [
  {
   "cell_type": "markdown",
   "metadata": {},
   "source": [
    "# <font color='blue'>Data Science Academy - Python Fundamentos - Capítulo 5</font>\n",
    "\n",
    "## Download: http://github.com/dsacademybr"
   ]
  },
  {
   "cell_type": "markdown",
   "metadata": {},
   "source": [
    "## Exercícios"
   ]
  },
  {
   "cell_type": "code",
   "execution_count": 2,
   "metadata": {},
   "outputs": [],
   "source": [
    "# Exercício 1 - Crie um objeto a partir da classe abaixo, chamado roc1, passando 2 parâmetros e depois faça uma chamada\n",
    "# aos atributos e métodos\n",
    "from math import sqrt\n",
    "\n",
    "class Rocket(): # Cria a classe Rocket\n",
    "     \n",
    "    def __init__(self, x=0, y=0): # Método construtor inicializa os atributos x e y (default: 0 e 0, respectivamente)\n",
    "        self.x = x\n",
    "        self.y = y\n",
    "        \n",
    "    def move_rocket(self, x_increment=0, y_increment=1): \n",
    "        \"\"\"Função move_rocket recebe dois incrementos para x e y (default: 0 e 1, respectivamente) e adiciona estes valores\n",
    "        aos atributos x e y\"\"\"\n",
    "        self.x += x_increment\n",
    "        self.y += y_increment\n",
    "        \n",
    "    def print_rocket(self):\n",
    "        \"\"\"função print_rocket imprime os atributos x e y\"\"\"\n",
    "        print(self.x, self.y)\n",
    "        "
   ]
  },
  {
   "cell_type": "code",
   "execution_count": 12,
   "metadata": {},
   "outputs": [
    {
     "name": "stdout",
     "output_type": "stream",
     "text": [
      "5\n",
      "6\n",
      "7\n",
      "10\n",
      "7 10\n"
     ]
    }
   ],
   "source": [
    "roc1 = Rocket(5, 6)\n",
    "print(roc1.x)\n",
    "print(roc1.y)\n",
    "roc1.move_rocket(2, 4)\n",
    "print(roc1.x)\n",
    "print(roc1.y)\n",
    "roc1.print_rocket()"
   ]
  },
  {
   "cell_type": "code",
   "execution_count": 15,
   "metadata": {},
   "outputs": [],
   "source": [
    "# Exercício 2 - Crie uma classe chamada Pessoa() com os atributos: nome, cidade, telefone e e-mail. Use pelo menos 2\n",
    "# métodos especiais na sua classe. Crie um objeto da sua classe e faça uma chamada a pelo menos um dos seus métodos\n",
    "# especiais.\n",
    "\n",
    "class Pessoa():\n",
    "\n",
    "    def __init__(self, nome, cidade, telefone, email):\n",
    "        \"\"\"Método construtor para inicialização dos atributos do objeto a ser instanciado\"\"\"\n",
    "        self.nome = nome\n",
    "        self.cidade = cidade\n",
    "        self.telefone = telefone\n",
    "        self.email = email\n",
    "    \n",
    "    def __str__(self):\n",
    "        return f\"Nome: {self.nome}\\nCidade: {self.cidade}\\nTelefone: {self.telefone}\\nE-mail: {self.email}\"\n",
    "    \n",
    "    def setNome(self, novo_nome):\n",
    "        self.nome = novo_nome\n",
    "    \n",
    "    def getNome(self):\n",
    "        return self.nome\n",
    "    \n",
    "    def setCidade(self, nova_cidade):\n",
    "        self.cidade = nova_cidade\n",
    "    \n",
    "    def getCidade(self):\n",
    "        return self.cidade\n",
    "    \n",
    "    def setTelefone(self, novo_telefone):\n",
    "        self.telefone = novo_telefone\n",
    "    \n",
    "    def getTelefone(self):\n",
    "        return self.telefone\n",
    "    \n",
    "    def getEmail(self, novo_email):\n",
    "        self.email = novo_email\n",
    "    \n",
    "    def getEmail(self):\n",
    "        return self.email   \n",
    "    "
   ]
  },
  {
   "cell_type": "code",
   "execution_count": 18,
   "metadata": {},
   "outputs": [
    {
     "name": "stdout",
     "output_type": "stream",
     "text": [
      "Nome: Thiago\n",
      "Cidade: São Bernardo do Campo\n",
      "Telefone: 43575116\n",
      "E-mail: thipanini94@gmail.com\n"
     ]
    }
   ],
   "source": [
    "Pessoa1 = Pessoa('Thiago', 'São Bernardo do Campo', 43575116, 'thipanini94@gmail.com')\n",
    "print(Pessoa1)"
   ]
  },
  {
   "cell_type": "code",
   "execution_count": 21,
   "metadata": {},
   "outputs": [
    {
     "name": "stdout",
     "output_type": "stream",
     "text": [
      "Thiago\n"
     ]
    }
   ],
   "source": [
    "print(Pessoa1.getNome())"
   ]
  },
  {
   "cell_type": "code",
   "execution_count": 22,
   "metadata": {},
   "outputs": [
    {
     "name": "stdout",
     "output_type": "stream",
     "text": [
      "Thiago Panini\n"
     ]
    }
   ],
   "source": [
    "Pessoa1.setNome('Thiago Panini')\n",
    "print(Pessoa1.getNome())"
   ]
  },
  {
   "cell_type": "code",
   "execution_count": 38,
   "metadata": {},
   "outputs": [],
   "source": [
    "# Exercício 3 - Crie a classe Smartphone com 2 atributos, tamanho e interface e crie a classe MP3Player com os \n",
    "# atributos capacidade. A classe MP3player deve herdar os atributos da classe Smartphone.\n",
    "\n",
    "class Smartphone():\n",
    "    \n",
    "    def __init__(self, tamanho, interface):\n",
    "        self.tamanho = tamanho\n",
    "        self.interface = interface\n",
    "        print('Smartphone criado')\n",
    "    \n",
    "    def __str__(self):\n",
    "        return f\"Smartphone interface {self.interface} e tamanho {self.tamanho}cm\"\n",
    "    \n",
    "    def setTamanho(self, novo_tamanho):\n",
    "        self.tamanho = novo_tamanho\n",
    "    \n",
    "    def getTamanho(self):\n",
    "        return self.tamanho\n",
    "    \n",
    "    def setInterface(self, nova_interface):\n",
    "        self.interface = nova_interface\n",
    "    \n",
    "    def getInterface(self):\n",
    "        return self.interface"
   ]
  },
  {
   "cell_type": "code",
   "execution_count": 42,
   "metadata": {},
   "outputs": [],
   "source": [
    "class MP3Player(Smartphone):\n",
    "    \"\"\"Sub-classe de Smartphone\"\"\"\n",
    "    \n",
    "    def __init__(self, capacidade, tamanho = 12, interface = 'DragonForce'):\n",
    "        Smartphone.__init__(self, tamanho, interface)\n",
    "        self.capacidade = capacidade\n",
    "    \n",
    "    def __str__(self):\n",
    "        return f'MP3 player do Smartphone {self.interface} com capacidade de {self.capacidade} Gb'\n",
    "    \n",
    "    def setCapacidade(self, nova_capacidade):\n",
    "        self.capacidade = nova_capacidade\n",
    "    \n",
    "    def getCapacidade(self):\n",
    "        return self.capacidade"
   ]
  },
  {
   "cell_type": "code",
   "execution_count": 43,
   "metadata": {},
   "outputs": [
    {
     "name": "stdout",
     "output_type": "stream",
     "text": [
      "Smartphone criado\n",
      "Smartphone interface Android e tamanho 12cm\n",
      "Android\n",
      "12\n",
      "Smartphone interface dragonForce e tamanho 12cm\n"
     ]
    }
   ],
   "source": [
    "motorola = Smartphone(12, 'Android')\n",
    "print(motorola)\n",
    "print(motorola.getInterface())\n",
    "print(motorola.getTamanho())\n",
    "\n",
    "motorola.setInterface('dragonForce')\n",
    "print(motorola)"
   ]
  },
  {
   "cell_type": "code",
   "execution_count": 45,
   "metadata": {},
   "outputs": [
    {
     "name": "stdout",
     "output_type": "stream",
     "text": [
      "Smartphone criado\n",
      "MP3 player do Smartphone DragonForce com capacidade de 256 Gb\n"
     ]
    }
   ],
   "source": [
    "blackplayer = MP3Player(256)\n",
    "print(blackplayer)"
   ]
  },
  {
   "cell_type": "code",
   "execution_count": 47,
   "metadata": {},
   "outputs": [
    {
     "name": "stdout",
     "output_type": "stream",
     "text": [
      "MP3 player do Smartphone DragonForce com capacidade de 512 Gb\n"
     ]
    }
   ],
   "source": [
    "blackplayer.setCapacidade(512)\n",
    "print(blackplayer)"
   ]
  },
  {
   "cell_type": "markdown",
   "metadata": {},
   "source": [
    "### FIM"
   ]
  },
  {
   "cell_type": "markdown",
   "metadata": {},
   "source": [
    "### Obrigado - Data Science Academy - <a href=http://facebook.com/dsacademy>facebook.com/dsacademybr</a>"
   ]
  }
 ],
 "metadata": {
  "kernelspec": {
   "display_name": "Python 3",
   "language": "python",
   "name": "python3"
  },
  "language_info": {
   "codemirror_mode": {
    "name": "ipython",
    "version": 3
   },
   "file_extension": ".py",
   "mimetype": "text/x-python",
   "name": "python",
   "nbconvert_exporter": "python",
   "pygments_lexer": "ipython3",
   "version": "3.6.4"
  }
 },
 "nbformat": 4,
 "nbformat_minor": 1
}
