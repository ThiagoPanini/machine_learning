{
 "cells": [
  {
   "cell_type": "markdown",
   "metadata": {},
   "source": [
    "# <font color='blue'>Data Science Academy - Python Fundamentos - Capítulo 8</font>\n",
    "\n",
    "## Download: http://github.com/dsacademybr"
   ]
  },
  {
   "cell_type": "markdown",
   "metadata": {},
   "source": [
    "### Bokeh"
   ]
  },
  {
   "cell_type": "markdown",
   "metadata": {},
   "source": [
    "### Caso o Bokeh não esteja instalado, executar no prompt ou terminal: pip install bokeh"
   ]
  },
  {
   "cell_type": "code",
   "execution_count": 1,
   "metadata": {},
   "outputs": [],
   "source": [
    "# Importando o módulo Bokeh\n",
    "import bokeh\n",
    "from bokeh.io import show, output_notebook\n",
    "from bokeh.plotting import figure, output_file\n",
    "from bokeh.models import ColumnDataSource\n",
    "from bokeh.transform import factor_cmap\n",
    "from bokeh.palettes import Spectral6"
   ]
  },
  {
   "cell_type": "code",
   "execution_count": 2,
   "metadata": {},
   "outputs": [
    {
     "data": {
      "text/html": [
       "\n",
       "    <div class=\"bk-root\">\n",
       "        <a href=\"https://bokeh.pydata.org\" target=\"_blank\" class=\"bk-logo bk-logo-small bk-logo-notebook\"></a>\n",
       "        <span id=\"7ac88e0a-358d-4186-92b3-ad6d08c039d7\">Loading BokehJS ...</span>\n",
       "    </div>"
      ]
     },
     "metadata": {},
     "output_type": "display_data"
    },
    {
     "data": {
      "application/javascript": [
       "\n",
       "(function(root) {\n",
       "  function now() {\n",
       "    return new Date();\n",
       "  }\n",
       "\n",
       "  var force = true;\n",
       "\n",
       "  if (typeof (root._bokeh_onload_callbacks) === \"undefined\" || force === true) {\n",
       "    root._bokeh_onload_callbacks = [];\n",
       "    root._bokeh_is_loading = undefined;\n",
       "  }\n",
       "\n",
       "  var JS_MIME_TYPE = 'application/javascript';\n",
       "  var HTML_MIME_TYPE = 'text/html';\n",
       "  var EXEC_MIME_TYPE = 'application/vnd.bokehjs_exec.v0+json';\n",
       "  var CLASS_NAME = 'output_bokeh rendered_html';\n",
       "\n",
       "  /**\n",
       "   * Render data to the DOM node\n",
       "   */\n",
       "  function render(props, node) {\n",
       "    var script = document.createElement(\"script\");\n",
       "    node.appendChild(script);\n",
       "  }\n",
       "\n",
       "  /**\n",
       "   * Handle when an output is cleared or removed\n",
       "   */\n",
       "  function handleClearOutput(event, handle) {\n",
       "    var cell = handle.cell;\n",
       "\n",
       "    var id = cell.output_area._bokeh_element_id;\n",
       "    var server_id = cell.output_area._bokeh_server_id;\n",
       "    // Clean up Bokeh references\n",
       "    if (id !== undefined) {\n",
       "      Bokeh.index[id].model.document.clear();\n",
       "      delete Bokeh.index[id];\n",
       "    }\n",
       "\n",
       "    if (server_id !== undefined) {\n",
       "      // Clean up Bokeh references\n",
       "      var cmd = \"from bokeh.io.state import curstate; print(curstate().uuid_to_server['\" + server_id + \"'].get_sessions()[0].document.roots[0]._id)\";\n",
       "      cell.notebook.kernel.execute(cmd, {\n",
       "        iopub: {\n",
       "          output: function(msg) {\n",
       "            var element_id = msg.content.text.trim();\n",
       "            Bokeh.index[element_id].model.document.clear();\n",
       "            delete Bokeh.index[element_id];\n",
       "          }\n",
       "        }\n",
       "      });\n",
       "      // Destroy server and session\n",
       "      var cmd = \"import bokeh.io.notebook as ion; ion.destroy_server('\" + server_id + \"')\";\n",
       "      cell.notebook.kernel.execute(cmd);\n",
       "    }\n",
       "  }\n",
       "\n",
       "  /**\n",
       "   * Handle when a new output is added\n",
       "   */\n",
       "  function handleAddOutput(event, handle) {\n",
       "    var output_area = handle.output_area;\n",
       "    var output = handle.output;\n",
       "\n",
       "    // limit handleAddOutput to display_data with EXEC_MIME_TYPE content only\n",
       "    if ((output.output_type != \"display_data\") || (!output.data.hasOwnProperty(EXEC_MIME_TYPE))) {\n",
       "      return\n",
       "    }\n",
       "\n",
       "    var toinsert = output_area.element.find(\".\" + CLASS_NAME.split(' ')[0]);\n",
       "\n",
       "    if (output.metadata[EXEC_MIME_TYPE][\"id\"] !== undefined) {\n",
       "      toinsert[0].firstChild.textContent = output.data[JS_MIME_TYPE];\n",
       "      // store reference to embed id on output_area\n",
       "      output_area._bokeh_element_id = output.metadata[EXEC_MIME_TYPE][\"id\"];\n",
       "    }\n",
       "    if (output.metadata[EXEC_MIME_TYPE][\"server_id\"] !== undefined) {\n",
       "      var bk_div = document.createElement(\"div\");\n",
       "      bk_div.innerHTML = output.data[HTML_MIME_TYPE];\n",
       "      var script_attrs = bk_div.children[0].attributes;\n",
       "      for (var i = 0; i < script_attrs.length; i++) {\n",
       "        toinsert[0].firstChild.setAttribute(script_attrs[i].name, script_attrs[i].value);\n",
       "      }\n",
       "      // store reference to server id on output_area\n",
       "      output_area._bokeh_server_id = output.metadata[EXEC_MIME_TYPE][\"server_id\"];\n",
       "    }\n",
       "  }\n",
       "\n",
       "  function register_renderer(events, OutputArea) {\n",
       "\n",
       "    function append_mime(data, metadata, element) {\n",
       "      // create a DOM node to render to\n",
       "      var toinsert = this.create_output_subarea(\n",
       "        metadata,\n",
       "        CLASS_NAME,\n",
       "        EXEC_MIME_TYPE\n",
       "      );\n",
       "      this.keyboard_manager.register_events(toinsert);\n",
       "      // Render to node\n",
       "      var props = {data: data, metadata: metadata[EXEC_MIME_TYPE]};\n",
       "      render(props, toinsert[0]);\n",
       "      element.append(toinsert);\n",
       "      return toinsert\n",
       "    }\n",
       "\n",
       "    /* Handle when an output is cleared or removed */\n",
       "    events.on('clear_output.CodeCell', handleClearOutput);\n",
       "    events.on('delete.Cell', handleClearOutput);\n",
       "\n",
       "    /* Handle when a new output is added */\n",
       "    events.on('output_added.OutputArea', handleAddOutput);\n",
       "\n",
       "    /**\n",
       "     * Register the mime type and append_mime function with output_area\n",
       "     */\n",
       "    OutputArea.prototype.register_mime_type(EXEC_MIME_TYPE, append_mime, {\n",
       "      /* Is output safe? */\n",
       "      safe: true,\n",
       "      /* Index of renderer in `output_area.display_order` */\n",
       "      index: 0\n",
       "    });\n",
       "  }\n",
       "\n",
       "  // register the mime type if in Jupyter Notebook environment and previously unregistered\n",
       "  if (root.Jupyter !== undefined) {\n",
       "    var events = require('base/js/events');\n",
       "    var OutputArea = require('notebook/js/outputarea').OutputArea;\n",
       "\n",
       "    if (OutputArea.prototype.mime_types().indexOf(EXEC_MIME_TYPE) == -1) {\n",
       "      register_renderer(events, OutputArea);\n",
       "    }\n",
       "  }\n",
       "\n",
       "  \n",
       "  if (typeof (root._bokeh_timeout) === \"undefined\" || force === true) {\n",
       "    root._bokeh_timeout = Date.now() + 5000;\n",
       "    root._bokeh_failed_load = false;\n",
       "  }\n",
       "\n",
       "  var NB_LOAD_WARNING = {'data': {'text/html':\n",
       "     \"<div style='background-color: #fdd'>\\n\"+\n",
       "     \"<p>\\n\"+\n",
       "     \"BokehJS does not appear to have successfully loaded. If loading BokehJS from CDN, this \\n\"+\n",
       "     \"may be due to a slow or bad network connection. Possible fixes:\\n\"+\n",
       "     \"</p>\\n\"+\n",
       "     \"<ul>\\n\"+\n",
       "     \"<li>re-rerun `output_notebook()` to attempt to load from CDN again, or</li>\\n\"+\n",
       "     \"<li>use INLINE resources instead, as so:</li>\\n\"+\n",
       "     \"</ul>\\n\"+\n",
       "     \"<code>\\n\"+\n",
       "     \"from bokeh.resources import INLINE\\n\"+\n",
       "     \"output_notebook(resources=INLINE)\\n\"+\n",
       "     \"</code>\\n\"+\n",
       "     \"</div>\"}};\n",
       "\n",
       "  function display_loaded() {\n",
       "    var el = document.getElementById(\"7ac88e0a-358d-4186-92b3-ad6d08c039d7\");\n",
       "    if (el != null) {\n",
       "      el.textContent = \"BokehJS is loading...\";\n",
       "    }\n",
       "    if (root.Bokeh !== undefined) {\n",
       "      if (el != null) {\n",
       "        el.textContent = \"BokehJS \" + root.Bokeh.version + \" successfully loaded.\";\n",
       "      }\n",
       "    } else if (Date.now() < root._bokeh_timeout) {\n",
       "      setTimeout(display_loaded, 100)\n",
       "    }\n",
       "  }\n",
       "\n",
       "\n",
       "  function run_callbacks() {\n",
       "    try {\n",
       "      root._bokeh_onload_callbacks.forEach(function(callback) { callback() });\n",
       "    }\n",
       "    finally {\n",
       "      delete root._bokeh_onload_callbacks\n",
       "    }\n",
       "    console.info(\"Bokeh: all callbacks have finished\");\n",
       "  }\n",
       "\n",
       "  function load_libs(js_urls, callback) {\n",
       "    root._bokeh_onload_callbacks.push(callback);\n",
       "    if (root._bokeh_is_loading > 0) {\n",
       "      console.log(\"Bokeh: BokehJS is being loaded, scheduling callback at\", now());\n",
       "      return null;\n",
       "    }\n",
       "    if (js_urls == null || js_urls.length === 0) {\n",
       "      run_callbacks();\n",
       "      return null;\n",
       "    }\n",
       "    console.log(\"Bokeh: BokehJS not loaded, scheduling load and callback at\", now());\n",
       "    root._bokeh_is_loading = js_urls.length;\n",
       "    for (var i = 0; i < js_urls.length; i++) {\n",
       "      var url = js_urls[i];\n",
       "      var s = document.createElement('script');\n",
       "      s.src = url;\n",
       "      s.async = false;\n",
       "      s.onreadystatechange = s.onload = function() {\n",
       "        root._bokeh_is_loading--;\n",
       "        if (root._bokeh_is_loading === 0) {\n",
       "          console.log(\"Bokeh: all BokehJS libraries loaded\");\n",
       "          run_callbacks()\n",
       "        }\n",
       "      };\n",
       "      s.onerror = function() {\n",
       "        console.warn(\"failed to load library \" + url);\n",
       "      };\n",
       "      console.log(\"Bokeh: injecting script tag for BokehJS library: \", url);\n",
       "      document.getElementsByTagName(\"head\")[0].appendChild(s);\n",
       "    }\n",
       "  };var element = document.getElementById(\"7ac88e0a-358d-4186-92b3-ad6d08c039d7\");\n",
       "  if (element == null) {\n",
       "    console.log(\"Bokeh: ERROR: autoload.js configured with elementid '7ac88e0a-358d-4186-92b3-ad6d08c039d7' but no matching script tag was found. \")\n",
       "    return false;\n",
       "  }\n",
       "\n",
       "  var js_urls = [\"https://cdn.pydata.org/bokeh/release/bokeh-0.12.13.min.js\", \"https://cdn.pydata.org/bokeh/release/bokeh-widgets-0.12.13.min.js\", \"https://cdn.pydata.org/bokeh/release/bokeh-tables-0.12.13.min.js\", \"https://cdn.pydata.org/bokeh/release/bokeh-gl-0.12.13.min.js\"];\n",
       "\n",
       "  var inline_js = [\n",
       "    function(Bokeh) {\n",
       "      Bokeh.set_log_level(\"info\");\n",
       "    },\n",
       "    \n",
       "    function(Bokeh) {\n",
       "      \n",
       "    },\n",
       "    function(Bokeh) {\n",
       "      console.log(\"Bokeh: injecting CSS: https://cdn.pydata.org/bokeh/release/bokeh-0.12.13.min.css\");\n",
       "      Bokeh.embed.inject_css(\"https://cdn.pydata.org/bokeh/release/bokeh-0.12.13.min.css\");\n",
       "      console.log(\"Bokeh: injecting CSS: https://cdn.pydata.org/bokeh/release/bokeh-widgets-0.12.13.min.css\");\n",
       "      Bokeh.embed.inject_css(\"https://cdn.pydata.org/bokeh/release/bokeh-widgets-0.12.13.min.css\");\n",
       "      console.log(\"Bokeh: injecting CSS: https://cdn.pydata.org/bokeh/release/bokeh-tables-0.12.13.min.css\");\n",
       "      Bokeh.embed.inject_css(\"https://cdn.pydata.org/bokeh/release/bokeh-tables-0.12.13.min.css\");\n",
       "    }\n",
       "  ];\n",
       "\n",
       "  function run_inline_js() {\n",
       "    \n",
       "    if ((root.Bokeh !== undefined) || (force === true)) {\n",
       "      for (var i = 0; i < inline_js.length; i++) {\n",
       "        inline_js[i].call(root, root.Bokeh);\n",
       "      }if (force === true) {\n",
       "        display_loaded();\n",
       "      }} else if (Date.now() < root._bokeh_timeout) {\n",
       "      setTimeout(run_inline_js, 100);\n",
       "    } else if (!root._bokeh_failed_load) {\n",
       "      console.log(\"Bokeh: BokehJS failed to load within specified timeout.\");\n",
       "      root._bokeh_failed_load = true;\n",
       "    } else if (force !== true) {\n",
       "      var cell = $(document.getElementById(\"7ac88e0a-358d-4186-92b3-ad6d08c039d7\")).parents('.cell').data().cell;\n",
       "      cell.output_area.append_execute_result(NB_LOAD_WARNING)\n",
       "    }\n",
       "\n",
       "  }\n",
       "\n",
       "  if (root._bokeh_is_loading === 0) {\n",
       "    console.log(\"Bokeh: BokehJS loaded, going straight to plotting\");\n",
       "    run_inline_js();\n",
       "  } else {\n",
       "    load_libs(js_urls, function() {\n",
       "      console.log(\"Bokeh: BokehJS plotting callback run at\", now());\n",
       "      run_inline_js();\n",
       "    });\n",
       "  }\n",
       "}(window));"
      ],
      "application/vnd.bokehjs_load.v0+json": "\n(function(root) {\n  function now() {\n    return new Date();\n  }\n\n  var force = true;\n\n  if (typeof (root._bokeh_onload_callbacks) === \"undefined\" || force === true) {\n    root._bokeh_onload_callbacks = [];\n    root._bokeh_is_loading = undefined;\n  }\n\n  \n\n  \n  if (typeof (root._bokeh_timeout) === \"undefined\" || force === true) {\n    root._bokeh_timeout = Date.now() + 5000;\n    root._bokeh_failed_load = false;\n  }\n\n  var NB_LOAD_WARNING = {'data': {'text/html':\n     \"<div style='background-color: #fdd'>\\n\"+\n     \"<p>\\n\"+\n     \"BokehJS does not appear to have successfully loaded. If loading BokehJS from CDN, this \\n\"+\n     \"may be due to a slow or bad network connection. Possible fixes:\\n\"+\n     \"</p>\\n\"+\n     \"<ul>\\n\"+\n     \"<li>re-rerun `output_notebook()` to attempt to load from CDN again, or</li>\\n\"+\n     \"<li>use INLINE resources instead, as so:</li>\\n\"+\n     \"</ul>\\n\"+\n     \"<code>\\n\"+\n     \"from bokeh.resources import INLINE\\n\"+\n     \"output_notebook(resources=INLINE)\\n\"+\n     \"</code>\\n\"+\n     \"</div>\"}};\n\n  function display_loaded() {\n    var el = document.getElementById(\"7ac88e0a-358d-4186-92b3-ad6d08c039d7\");\n    if (el != null) {\n      el.textContent = \"BokehJS is loading...\";\n    }\n    if (root.Bokeh !== undefined) {\n      if (el != null) {\n        el.textContent = \"BokehJS \" + root.Bokeh.version + \" successfully loaded.\";\n      }\n    } else if (Date.now() < root._bokeh_timeout) {\n      setTimeout(display_loaded, 100)\n    }\n  }\n\n\n  function run_callbacks() {\n    try {\n      root._bokeh_onload_callbacks.forEach(function(callback) { callback() });\n    }\n    finally {\n      delete root._bokeh_onload_callbacks\n    }\n    console.info(\"Bokeh: all callbacks have finished\");\n  }\n\n  function load_libs(js_urls, callback) {\n    root._bokeh_onload_callbacks.push(callback);\n    if (root._bokeh_is_loading > 0) {\n      console.log(\"Bokeh: BokehJS is being loaded, scheduling callback at\", now());\n      return null;\n    }\n    if (js_urls == null || js_urls.length === 0) {\n      run_callbacks();\n      return null;\n    }\n    console.log(\"Bokeh: BokehJS not loaded, scheduling load and callback at\", now());\n    root._bokeh_is_loading = js_urls.length;\n    for (var i = 0; i < js_urls.length; i++) {\n      var url = js_urls[i];\n      var s = document.createElement('script');\n      s.src = url;\n      s.async = false;\n      s.onreadystatechange = s.onload = function() {\n        root._bokeh_is_loading--;\n        if (root._bokeh_is_loading === 0) {\n          console.log(\"Bokeh: all BokehJS libraries loaded\");\n          run_callbacks()\n        }\n      };\n      s.onerror = function() {\n        console.warn(\"failed to load library \" + url);\n      };\n      console.log(\"Bokeh: injecting script tag for BokehJS library: \", url);\n      document.getElementsByTagName(\"head\")[0].appendChild(s);\n    }\n  };var element = document.getElementById(\"7ac88e0a-358d-4186-92b3-ad6d08c039d7\");\n  if (element == null) {\n    console.log(\"Bokeh: ERROR: autoload.js configured with elementid '7ac88e0a-358d-4186-92b3-ad6d08c039d7' but no matching script tag was found. \")\n    return false;\n  }\n\n  var js_urls = [\"https://cdn.pydata.org/bokeh/release/bokeh-0.12.13.min.js\", \"https://cdn.pydata.org/bokeh/release/bokeh-widgets-0.12.13.min.js\", \"https://cdn.pydata.org/bokeh/release/bokeh-tables-0.12.13.min.js\", \"https://cdn.pydata.org/bokeh/release/bokeh-gl-0.12.13.min.js\"];\n\n  var inline_js = [\n    function(Bokeh) {\n      Bokeh.set_log_level(\"info\");\n    },\n    \n    function(Bokeh) {\n      \n    },\n    function(Bokeh) {\n      console.log(\"Bokeh: injecting CSS: https://cdn.pydata.org/bokeh/release/bokeh-0.12.13.min.css\");\n      Bokeh.embed.inject_css(\"https://cdn.pydata.org/bokeh/release/bokeh-0.12.13.min.css\");\n      console.log(\"Bokeh: injecting CSS: https://cdn.pydata.org/bokeh/release/bokeh-widgets-0.12.13.min.css\");\n      Bokeh.embed.inject_css(\"https://cdn.pydata.org/bokeh/release/bokeh-widgets-0.12.13.min.css\");\n      console.log(\"Bokeh: injecting CSS: https://cdn.pydata.org/bokeh/release/bokeh-tables-0.12.13.min.css\");\n      Bokeh.embed.inject_css(\"https://cdn.pydata.org/bokeh/release/bokeh-tables-0.12.13.min.css\");\n    }\n  ];\n\n  function run_inline_js() {\n    \n    if ((root.Bokeh !== undefined) || (force === true)) {\n      for (var i = 0; i < inline_js.length; i++) {\n        inline_js[i].call(root, root.Bokeh);\n      }if (force === true) {\n        display_loaded();\n      }} else if (Date.now() < root._bokeh_timeout) {\n      setTimeout(run_inline_js, 100);\n    } else if (!root._bokeh_failed_load) {\n      console.log(\"Bokeh: BokehJS failed to load within specified timeout.\");\n      root._bokeh_failed_load = true;\n    } else if (force !== true) {\n      var cell = $(document.getElementById(\"7ac88e0a-358d-4186-92b3-ad6d08c039d7\")).parents('.cell').data().cell;\n      cell.output_area.append_execute_result(NB_LOAD_WARNING)\n    }\n\n  }\n\n  if (root._bokeh_is_loading === 0) {\n    console.log(\"Bokeh: BokehJS loaded, going straight to plotting\");\n    run_inline_js();\n  } else {\n    load_libs(js_urls, function() {\n      console.log(\"Bokeh: BokehJS plotting callback run at\", now());\n      run_inline_js();\n    });\n  }\n}(window));"
     },
     "metadata": {},
     "output_type": "display_data"
    }
   ],
   "source": [
    "# Carregando o Bokeh \n",
    "output_notebook() "
   ]
  },
  {
   "cell_type": "code",
   "execution_count": 3,
   "metadata": {},
   "outputs": [],
   "source": [
    "# Arquivo gerado pela visualização\n",
    "output_file(\"Bokeh-Grafico-Interativo.html\")"
   ]
  },
  {
   "cell_type": "code",
   "execution_count": 4,
   "metadata": {},
   "outputs": [],
   "source": [
    "p = figure()"
   ]
  },
  {
   "cell_type": "code",
   "execution_count": 5,
   "metadata": {},
   "outputs": [
    {
     "data": {
      "text/plain": [
       "bokeh.plotting.figure.Figure"
      ]
     },
     "execution_count": 5,
     "metadata": {},
     "output_type": "execute_result"
    }
   ],
   "source": [
    "type(p)"
   ]
  },
  {
   "cell_type": "code",
   "execution_count": 6,
   "metadata": {},
   "outputs": [
    {
     "data": {
      "text/html": [
       "<div style=\"display: table;\"><div style=\"display: table-row;\"><div style=\"display: table-cell;\"><b title=\"bokeh.models.renderers.GlyphRenderer\">GlyphRenderer</b>(</div><div style=\"display: table-cell;\">id&nbsp;=&nbsp;'b448262c-216c-4fe1-b359-b060f4bc6c2f', <span id=\"5cb53f8b-3648-439b-b007-548be4fc5279\" style=\"cursor: pointer;\">&hellip;)</span></div></div><div class=\"5e61f837-8ac7-407c-b6bb-4c707a7f4f38\" style=\"display: none;\"><div style=\"display: table-cell;\"></div><div style=\"display: table-cell;\">data_source&nbsp;=&nbsp;ColumnDataSource(id='293f209f-e463-4fcd-b976-e7682433a87c', ...),</div></div><div class=\"5e61f837-8ac7-407c-b6bb-4c707a7f4f38\" style=\"display: none;\"><div style=\"display: table-cell;\"></div><div style=\"display: table-cell;\">glyph&nbsp;=&nbsp;Line(id='60734e26-ae89-4f7a-aa7f-d42cde37e065', ...),</div></div><div class=\"5e61f837-8ac7-407c-b6bb-4c707a7f4f38\" style=\"display: none;\"><div style=\"display: table-cell;\"></div><div style=\"display: table-cell;\">hover_glyph&nbsp;=&nbsp;None,</div></div><div class=\"5e61f837-8ac7-407c-b6bb-4c707a7f4f38\" style=\"display: none;\"><div style=\"display: table-cell;\"></div><div style=\"display: table-cell;\">js_event_callbacks&nbsp;=&nbsp;{},</div></div><div class=\"5e61f837-8ac7-407c-b6bb-4c707a7f4f38\" style=\"display: none;\"><div style=\"display: table-cell;\"></div><div style=\"display: table-cell;\">js_property_callbacks&nbsp;=&nbsp;{},</div></div><div class=\"5e61f837-8ac7-407c-b6bb-4c707a7f4f38\" style=\"display: none;\"><div style=\"display: table-cell;\"></div><div style=\"display: table-cell;\">level&nbsp;=&nbsp;'glyph',</div></div><div class=\"5e61f837-8ac7-407c-b6bb-4c707a7f4f38\" style=\"display: none;\"><div style=\"display: table-cell;\"></div><div style=\"display: table-cell;\">muted&nbsp;=&nbsp;False,</div></div><div class=\"5e61f837-8ac7-407c-b6bb-4c707a7f4f38\" style=\"display: none;\"><div style=\"display: table-cell;\"></div><div style=\"display: table-cell;\">muted_glyph&nbsp;=&nbsp;None,</div></div><div class=\"5e61f837-8ac7-407c-b6bb-4c707a7f4f38\" style=\"display: none;\"><div style=\"display: table-cell;\"></div><div style=\"display: table-cell;\">name&nbsp;=&nbsp;None,</div></div><div class=\"5e61f837-8ac7-407c-b6bb-4c707a7f4f38\" style=\"display: none;\"><div style=\"display: table-cell;\"></div><div style=\"display: table-cell;\">nonselection_glyph&nbsp;=&nbsp;Line(id='6a631033-74ef-414b-83b0-384420df79f1', ...),</div></div><div class=\"5e61f837-8ac7-407c-b6bb-4c707a7f4f38\" style=\"display: none;\"><div style=\"display: table-cell;\"></div><div style=\"display: table-cell;\">selection_glyph&nbsp;=&nbsp;None,</div></div><div class=\"5e61f837-8ac7-407c-b6bb-4c707a7f4f38\" style=\"display: none;\"><div style=\"display: table-cell;\"></div><div style=\"display: table-cell;\">subscribed_events&nbsp;=&nbsp;[],</div></div><div class=\"5e61f837-8ac7-407c-b6bb-4c707a7f4f38\" style=\"display: none;\"><div style=\"display: table-cell;\"></div><div style=\"display: table-cell;\">tags&nbsp;=&nbsp;[],</div></div><div class=\"5e61f837-8ac7-407c-b6bb-4c707a7f4f38\" style=\"display: none;\"><div style=\"display: table-cell;\"></div><div style=\"display: table-cell;\">view&nbsp;=&nbsp;CDSView(id='dbfe407b-8488-4e59-b34c-4b0aa6bee576', ...),</div></div><div class=\"5e61f837-8ac7-407c-b6bb-4c707a7f4f38\" style=\"display: none;\"><div style=\"display: table-cell;\"></div><div style=\"display: table-cell;\">visible&nbsp;=&nbsp;True,</div></div><div class=\"5e61f837-8ac7-407c-b6bb-4c707a7f4f38\" style=\"display: none;\"><div style=\"display: table-cell;\"></div><div style=\"display: table-cell;\">x_range_name&nbsp;=&nbsp;'default',</div></div><div class=\"5e61f837-8ac7-407c-b6bb-4c707a7f4f38\" style=\"display: none;\"><div style=\"display: table-cell;\"></div><div style=\"display: table-cell;\">y_range_name&nbsp;=&nbsp;'default')</div></div></div>\n",
       "<script>\n",
       "(function() {\n",
       "  var expanded = false;\n",
       "  var ellipsis = document.getElementById(\"5cb53f8b-3648-439b-b007-548be4fc5279\");\n",
       "  ellipsis.addEventListener(\"click\", function() {\n",
       "    var rows = document.getElementsByClassName(\"5e61f837-8ac7-407c-b6bb-4c707a7f4f38\");\n",
       "    for (var i = 0; i < rows.length; i++) {\n",
       "      var el = rows[i];\n",
       "      el.style.display = expanded ? \"none\" : \"table-row\";\n",
       "    }\n",
       "    ellipsis.innerHTML = expanded ? \"&hellip;)\" : \"&lsaquo;&lsaquo;&lsaquo;\";\n",
       "    expanded = !expanded;\n",
       "  });\n",
       "})();\n",
       "</script>\n"
      ],
      "text/plain": [
       "GlyphRenderer(id='b448262c-216c-4fe1-b359-b060f4bc6c2f', ...)"
      ]
     },
     "execution_count": 6,
     "metadata": {},
     "output_type": "execute_result"
    }
   ],
   "source": [
    "p.line([1, 2, 3, 4, 5], [6, 7, 2, 4, 5], line_width = 2)"
   ]
  },
  {
   "cell_type": "code",
   "execution_count": 7,
   "metadata": {},
   "outputs": [
    {
     "data": {
      "text/html": [
       "\n",
       "<div class=\"bk-root\">\n",
       "    <div class=\"bk-plotdiv\" id=\"7fe2865a-c32f-41b9-9f46-7a3f72bf735b\"></div>\n",
       "</div>"
      ]
     },
     "metadata": {},
     "output_type": "display_data"
    },
    {
     "data": {
      "application/javascript": [
       "(function(root) {\n",
       "  function embed_document(root) {\n",
       "    \n",
       "  var docs_json = {\"ff24e52f-11c7-42ce-a7e0-1246798cd25d\":{\"roots\":{\"references\":[{\"attributes\":{},\"id\":\"30b8fbb4-b98b-4c5d-936b-e4855b759096\",\"type\":\"BasicTickFormatter\"},{\"attributes\":{},\"id\":\"6850f6f5-3950-4610-9d8c-870f8f2d7e90\",\"type\":\"ResetTool\"},{\"attributes\":{\"plot\":null,\"text\":\"\"},\"id\":\"84de1863-71aa-4ea3-b810-63c2e23b6333\",\"type\":\"Title\"},{\"attributes\":{},\"id\":\"51c57aa8-99d8-4944-a1f4-57af3bddb5e2\",\"type\":\"HelpTool\"},{\"attributes\":{},\"id\":\"6ba9e7fc-7608-4db8-bf60-57bd6205bf3c\",\"type\":\"BasicTicker\"},{\"attributes\":{},\"id\":\"e44892c4-9a7d-4cb7-8876-bb34e6a1fae7\",\"type\":\"BasicTickFormatter\"},{\"attributes\":{\"callback\":null},\"id\":\"d6f0feeb-7bc4-48db-96ca-8cec9f14a334\",\"type\":\"DataRange1d\"},{\"attributes\":{\"callback\":null},\"id\":\"0082ffee-4d6c-4862-be0f-900e272ec994\",\"type\":\"DataRange1d\"},{\"attributes\":{\"source\":{\"id\":\"293f209f-e463-4fcd-b976-e7682433a87c\",\"type\":\"ColumnDataSource\"}},\"id\":\"dbfe407b-8488-4e59-b34c-4b0aa6bee576\",\"type\":\"CDSView\"},{\"attributes\":{\"below\":[{\"id\":\"54f5c776-f7e2-46e1-96cd-b9cc2a10f3a3\",\"type\":\"LinearAxis\"}],\"left\":[{\"id\":\"36a0fbd7-505d-48b8-b49b-77378bde381e\",\"type\":\"LinearAxis\"}],\"renderers\":[{\"id\":\"54f5c776-f7e2-46e1-96cd-b9cc2a10f3a3\",\"type\":\"LinearAxis\"},{\"id\":\"f139472e-4c3f-4f21-9b08-9ffa36d45888\",\"type\":\"Grid\"},{\"id\":\"36a0fbd7-505d-48b8-b49b-77378bde381e\",\"type\":\"LinearAxis\"},{\"id\":\"c05ad303-1da3-46f8-892c-069cbf6c2d4a\",\"type\":\"Grid\"},{\"id\":\"ac579b59-7369-4d63-a1be-15736891ac49\",\"type\":\"BoxAnnotation\"},{\"id\":\"b448262c-216c-4fe1-b359-b060f4bc6c2f\",\"type\":\"GlyphRenderer\"}],\"title\":{\"id\":\"84de1863-71aa-4ea3-b810-63c2e23b6333\",\"type\":\"Title\"},\"toolbar\":{\"id\":\"da53eaac-df07-493a-bd8a-0e8ec596839e\",\"type\":\"Toolbar\"},\"x_range\":{\"id\":\"d6f0feeb-7bc4-48db-96ca-8cec9f14a334\",\"type\":\"DataRange1d\"},\"x_scale\":{\"id\":\"02bd496d-402f-4bc4-86c7-48b648106474\",\"type\":\"LinearScale\"},\"y_range\":{\"id\":\"0082ffee-4d6c-4862-be0f-900e272ec994\",\"type\":\"DataRange1d\"},\"y_scale\":{\"id\":\"dd536cda-01ae-44df-9edc-7cedd4b0938b\",\"type\":\"LinearScale\"}},\"id\":\"073397f1-bdd6-48a2-9209-2c50390a5064\",\"subtype\":\"Figure\",\"type\":\"Plot\"},{\"attributes\":{\"formatter\":{\"id\":\"e44892c4-9a7d-4cb7-8876-bb34e6a1fae7\",\"type\":\"BasicTickFormatter\"},\"plot\":{\"id\":\"073397f1-bdd6-48a2-9209-2c50390a5064\",\"subtype\":\"Figure\",\"type\":\"Plot\"},\"ticker\":{\"id\":\"b7619c5c-7954-441d-8227-9b0da3d8efda\",\"type\":\"BasicTicker\"}},\"id\":\"54f5c776-f7e2-46e1-96cd-b9cc2a10f3a3\",\"type\":\"LinearAxis\"},{\"attributes\":{\"dimension\":1,\"plot\":{\"id\":\"073397f1-bdd6-48a2-9209-2c50390a5064\",\"subtype\":\"Figure\",\"type\":\"Plot\"},\"ticker\":{\"id\":\"6ba9e7fc-7608-4db8-bf60-57bd6205bf3c\",\"type\":\"BasicTicker\"}},\"id\":\"c05ad303-1da3-46f8-892c-069cbf6c2d4a\",\"type\":\"Grid\"},{\"attributes\":{\"plot\":{\"id\":\"073397f1-bdd6-48a2-9209-2c50390a5064\",\"subtype\":\"Figure\",\"type\":\"Plot\"},\"ticker\":{\"id\":\"b7619c5c-7954-441d-8227-9b0da3d8efda\",\"type\":\"BasicTicker\"}},\"id\":\"f139472e-4c3f-4f21-9b08-9ffa36d45888\",\"type\":\"Grid\"},{\"attributes\":{},\"id\":\"b7619c5c-7954-441d-8227-9b0da3d8efda\",\"type\":\"BasicTicker\"},{\"attributes\":{},\"id\":\"02bd496d-402f-4bc4-86c7-48b648106474\",\"type\":\"LinearScale\"},{\"attributes\":{\"formatter\":{\"id\":\"30b8fbb4-b98b-4c5d-936b-e4855b759096\",\"type\":\"BasicTickFormatter\"},\"plot\":{\"id\":\"073397f1-bdd6-48a2-9209-2c50390a5064\",\"subtype\":\"Figure\",\"type\":\"Plot\"},\"ticker\":{\"id\":\"6ba9e7fc-7608-4db8-bf60-57bd6205bf3c\",\"type\":\"BasicTicker\"}},\"id\":\"36a0fbd7-505d-48b8-b49b-77378bde381e\",\"type\":\"LinearAxis\"},{\"attributes\":{\"callback\":null,\"column_names\":[\"x\",\"y\"],\"data\":{\"x\":[1,2,3,4,5],\"y\":[6,7,2,4,5]}},\"id\":\"293f209f-e463-4fcd-b976-e7682433a87c\",\"type\":\"ColumnDataSource\"},{\"attributes\":{\"bottom_units\":\"screen\",\"fill_alpha\":{\"value\":0.5},\"fill_color\":{\"value\":\"lightgrey\"},\"left_units\":\"screen\",\"level\":\"overlay\",\"line_alpha\":{\"value\":1.0},\"line_color\":{\"value\":\"black\"},\"line_dash\":[4,4],\"line_width\":{\"value\":2},\"plot\":null,\"render_mode\":\"css\",\"right_units\":\"screen\",\"top_units\":\"screen\"},\"id\":\"ac579b59-7369-4d63-a1be-15736891ac49\",\"type\":\"BoxAnnotation\"},{\"attributes\":{},\"id\":\"dd536cda-01ae-44df-9edc-7cedd4b0938b\",\"type\":\"LinearScale\"},{\"attributes\":{\"line_color\":\"#1f77b4\",\"line_width\":2,\"x\":{\"field\":\"x\"},\"y\":{\"field\":\"y\"}},\"id\":\"60734e26-ae89-4f7a-aa7f-d42cde37e065\",\"type\":\"Line\"},{\"attributes\":{\"line_alpha\":0.1,\"line_color\":\"#1f77b4\",\"line_width\":2,\"x\":{\"field\":\"x\"},\"y\":{\"field\":\"y\"}},\"id\":\"6a631033-74ef-414b-83b0-384420df79f1\",\"type\":\"Line\"},{\"attributes\":{\"data_source\":{\"id\":\"293f209f-e463-4fcd-b976-e7682433a87c\",\"type\":\"ColumnDataSource\"},\"glyph\":{\"id\":\"60734e26-ae89-4f7a-aa7f-d42cde37e065\",\"type\":\"Line\"},\"hover_glyph\":null,\"muted_glyph\":null,\"nonselection_glyph\":{\"id\":\"6a631033-74ef-414b-83b0-384420df79f1\",\"type\":\"Line\"},\"selection_glyph\":null,\"view\":{\"id\":\"dbfe407b-8488-4e59-b34c-4b0aa6bee576\",\"type\":\"CDSView\"}},\"id\":\"b448262c-216c-4fe1-b359-b060f4bc6c2f\",\"type\":\"GlyphRenderer\"},{\"attributes\":{},\"id\":\"6470dd78-3115-444f-98f3-d10dcb9cbd8e\",\"type\":\"PanTool\"},{\"attributes\":{\"active_drag\":\"auto\",\"active_inspect\":\"auto\",\"active_scroll\":\"auto\",\"active_tap\":\"auto\",\"tools\":[{\"id\":\"6470dd78-3115-444f-98f3-d10dcb9cbd8e\",\"type\":\"PanTool\"},{\"id\":\"7aedd599-6052-433a-9a82-353ac2610307\",\"type\":\"WheelZoomTool\"},{\"id\":\"e706568c-f334-4e09-b9d2-9dc21c54be16\",\"type\":\"BoxZoomTool\"},{\"id\":\"9c74091d-e58f-4d4a-b4e6-78a059782b00\",\"type\":\"SaveTool\"},{\"id\":\"6850f6f5-3950-4610-9d8c-870f8f2d7e90\",\"type\":\"ResetTool\"},{\"id\":\"51c57aa8-99d8-4944-a1f4-57af3bddb5e2\",\"type\":\"HelpTool\"}]},\"id\":\"da53eaac-df07-493a-bd8a-0e8ec596839e\",\"type\":\"Toolbar\"},{\"attributes\":{},\"id\":\"7aedd599-6052-433a-9a82-353ac2610307\",\"type\":\"WheelZoomTool\"},{\"attributes\":{\"overlay\":{\"id\":\"ac579b59-7369-4d63-a1be-15736891ac49\",\"type\":\"BoxAnnotation\"}},\"id\":\"e706568c-f334-4e09-b9d2-9dc21c54be16\",\"type\":\"BoxZoomTool\"},{\"attributes\":{},\"id\":\"9c74091d-e58f-4d4a-b4e6-78a059782b00\",\"type\":\"SaveTool\"}],\"root_ids\":[\"073397f1-bdd6-48a2-9209-2c50390a5064\"]},\"title\":\"Bokeh Application\",\"version\":\"0.12.13\"}};\n",
       "  var render_items = [{\"docid\":\"ff24e52f-11c7-42ce-a7e0-1246798cd25d\",\"elementid\":\"7fe2865a-c32f-41b9-9f46-7a3f72bf735b\",\"modelid\":\"073397f1-bdd6-48a2-9209-2c50390a5064\"}];\n",
       "  root.Bokeh.embed.embed_items_notebook(docs_json, render_items);\n",
       "\n",
       "  }\n",
       "  if (root.Bokeh !== undefined) {\n",
       "    embed_document(root);\n",
       "  } else {\n",
       "    var attempts = 0;\n",
       "    var timer = setInterval(function(root) {\n",
       "      if (root.Bokeh !== undefined) {\n",
       "        embed_document(root);\n",
       "        clearInterval(timer);\n",
       "      }\n",
       "      attempts++;\n",
       "      if (attempts > 100) {\n",
       "        console.log(\"Bokeh: ERROR: Unable to run BokehJS code because BokehJS library is missing\")\n",
       "        clearInterval(timer);\n",
       "      }\n",
       "    }, 10, root)\n",
       "  }\n",
       "})(window);"
      ],
      "application/vnd.bokehjs_exec.v0+json": ""
     },
     "metadata": {
      "application/vnd.bokehjs_exec.v0+json": {
       "id": "073397f1-bdd6-48a2-9209-2c50390a5064"
      }
     },
     "output_type": "display_data"
    }
   ],
   "source": [
    "show(p)"
   ]
  },
  {
   "cell_type": "markdown",
   "metadata": {},
   "source": [
    "## Gráfico de Barras"
   ]
  },
  {
   "cell_type": "code",
   "execution_count": 8,
   "metadata": {},
   "outputs": [
    {
     "data": {
      "text/html": [
       "\n",
       "<div class=\"bk-root\">\n",
       "    <div class=\"bk-plotdiv\" id=\"02ffb5f0-febd-468a-9efb-896c4cbf7938\"></div>\n",
       "</div>"
      ]
     },
     "metadata": {},
     "output_type": "display_data"
    },
    {
     "data": {
      "application/javascript": [
       "(function(root) {\n",
       "  function embed_document(root) {\n",
       "    \n",
       "  var docs_json = {\"dcf2fc3d-2901-47d4-b8a6-37a3cae488af\":{\"roots\":{\"references\":[{\"attributes\":{\"source\":{\"id\":\"24bdbfed-4318-44a5-a44f-5c5d1b180143\",\"type\":\"ColumnDataSource\"}},\"id\":\"bf07263c-dd80-4e5c-b368-ff31e3f1d1b3\",\"type\":\"CDSView\"},{\"attributes\":{\"callback\":null,\"end\":9,\"start\":0},\"id\":\"2ae4d0a0-5686-455a-93f6-3ff013a35527\",\"type\":\"DataRange1d\"},{\"attributes\":{\"grid_line_color\":{\"value\":null},\"plot\":{\"id\":\"6ac34763-5bc4-4f25-8fe5-996da648c172\",\"subtype\":\"Figure\",\"type\":\"Plot\"},\"ticker\":{\"id\":\"ef0d2f39-1526-427a-95f9-651f04fbb9cd\",\"type\":\"CategoricalTicker\"}},\"id\":\"0f75416b-d8d1-4668-b459-f474ad7fb62f\",\"type\":\"Grid\"},{\"attributes\":{\"formatter\":{\"id\":\"4e3e5f19-a71b-4c4c-bf40-ac55d911052d\",\"type\":\"BasicTickFormatter\"},\"plot\":{\"id\":\"6ac34763-5bc4-4f25-8fe5-996da648c172\",\"subtype\":\"Figure\",\"type\":\"Plot\"},\"ticker\":{\"id\":\"077782e0-1a1e-43fc-89ad-7135ebdbe1b0\",\"type\":\"BasicTicker\"}},\"id\":\"fdb9ddaf-5731-44cc-a595-3ad0d27a968e\",\"type\":\"LinearAxis\"},{\"attributes\":{\"fill_color\":{\"field\":\"fruits\",\"transform\":{\"id\":\"78548670-dabf-4d19-8143-ea7a863902eb\",\"type\":\"CategoricalColorMapper\"}},\"line_color\":{\"value\":\"white\"},\"top\":{\"field\":\"counts\"},\"width\":{\"value\":0.9},\"x\":{\"field\":\"fruits\"}},\"id\":\"999d7596-f732-4c0a-a1a5-0bb6d71102a7\",\"type\":\"VBar\"},{\"attributes\":{},\"id\":\"ef0d2f39-1526-427a-95f9-651f04fbb9cd\",\"type\":\"CategoricalTicker\"},{\"attributes\":{},\"id\":\"077782e0-1a1e-43fc-89ad-7135ebdbe1b0\",\"type\":\"BasicTicker\"},{\"attributes\":{},\"id\":\"e2194feb-7f10-4298-9d1e-59020863ebba\",\"type\":\"CategoricalTickFormatter\"},{\"attributes\":{\"dimension\":1,\"plot\":{\"id\":\"6ac34763-5bc4-4f25-8fe5-996da648c172\",\"subtype\":\"Figure\",\"type\":\"Plot\"},\"ticker\":{\"id\":\"077782e0-1a1e-43fc-89ad-7135ebdbe1b0\",\"type\":\"BasicTicker\"}},\"id\":\"b28e5c0c-2c83-43f3-9443-d675e9de756d\",\"type\":\"Grid\"},{\"attributes\":{\"factors\":[\"Ma\\u00e7as\",\"Peras\",\"Tangerinas\",\"Uvas\",\"Melancias\",\"Morangos\"],\"palette\":[\"#3288bd\",\"#99d594\",\"#e6f598\",\"#fee08b\",\"#fc8d59\",\"#d53e4f\"]},\"id\":\"78548670-dabf-4d19-8143-ea7a863902eb\",\"type\":\"CategoricalColorMapper\"},{\"attributes\":{\"plot\":null,\"text\":\"Contagem de Frutas\"},\"id\":\"da8c4bf0-1530-42a2-bae7-ad4f6655fc31\",\"type\":\"Title\"},{\"attributes\":{\"fill_alpha\":{\"value\":0.1},\"fill_color\":{\"value\":\"#1f77b4\"},\"line_alpha\":{\"value\":0.1},\"line_color\":{\"value\":\"#1f77b4\"},\"top\":{\"field\":\"counts\"},\"width\":{\"value\":0.9},\"x\":{\"field\":\"fruits\"}},\"id\":\"31fbb6bc-3e1d-45f0-a7db-7f92a7adcd0c\",\"type\":\"VBar\"},{\"attributes\":{\"active_drag\":\"auto\",\"active_inspect\":\"auto\",\"active_scroll\":\"auto\",\"active_tap\":\"auto\",\"tools\":[{\"id\":\"f057da7e-b4c5-4443-a3bd-81cdf6d43d13\",\"type\":\"PanTool\"},{\"id\":\"4d652882-1a6c-4d6c-be3f-be947ab6fb72\",\"type\":\"WheelZoomTool\"},{\"id\":\"e728b249-3a08-4a2e-84e9-83e4e507fc41\",\"type\":\"BoxZoomTool\"},{\"id\":\"2e5f2908-d817-4c1a-a4c6-63b1cf98e6d7\",\"type\":\"SaveTool\"},{\"id\":\"57e00ad0-db84-4059-9f10-cabbf4bce946\",\"type\":\"ResetTool\"},{\"id\":\"b5a4a348-c9ed-4c1b-9144-2693d691394e\",\"type\":\"HelpTool\"}]},\"id\":\"b4ccfe02-e4d3-47f8-b275-ef839620e4f1\",\"type\":\"Toolbar\"},{\"attributes\":{\"formatter\":{\"id\":\"e2194feb-7f10-4298-9d1e-59020863ebba\",\"type\":\"CategoricalTickFormatter\"},\"plot\":{\"id\":\"6ac34763-5bc4-4f25-8fe5-996da648c172\",\"subtype\":\"Figure\",\"type\":\"Plot\"},\"ticker\":{\"id\":\"ef0d2f39-1526-427a-95f9-651f04fbb9cd\",\"type\":\"CategoricalTicker\"}},\"id\":\"3888a9ed-bbff-4eda-9612-8578e0986073\",\"type\":\"CategoricalAxis\"},{\"attributes\":{\"bottom_units\":\"screen\",\"fill_alpha\":{\"value\":0.5},\"fill_color\":{\"value\":\"lightgrey\"},\"left_units\":\"screen\",\"level\":\"overlay\",\"line_alpha\":{\"value\":1.0},\"line_color\":{\"value\":\"black\"},\"line_dash\":[4,4],\"line_width\":{\"value\":2},\"plot\":null,\"render_mode\":\"css\",\"right_units\":\"screen\",\"top_units\":\"screen\"},\"id\":\"274012d9-6577-46ac-b57e-1575ca767f5d\",\"type\":\"BoxAnnotation\"},{\"attributes\":{\"callback\":null,\"factors\":[\"Ma\\u00e7as\",\"Peras\",\"Tangerinas\",\"Uvas\",\"Melancias\",\"Morangos\"]},\"id\":\"8db9b30c-792f-4e64-962a-83fd73cc5ea2\",\"type\":\"FactorRange\"},{\"attributes\":{},\"id\":\"c6c7bbd4-84ea-4c74-a3b6-0738760a6690\",\"type\":\"LinearScale\"},{\"attributes\":{},\"id\":\"f057da7e-b4c5-4443-a3bd-81cdf6d43d13\",\"type\":\"PanTool\"},{\"attributes\":{\"items\":[{\"id\":\"af3f815b-1426-4a32-a8b0-33dbda03fd20\",\"type\":\"LegendItem\"}],\"location\":\"top_center\",\"orientation\":\"horizontal\",\"plot\":{\"id\":\"6ac34763-5bc4-4f25-8fe5-996da648c172\",\"subtype\":\"Figure\",\"type\":\"Plot\"}},\"id\":\"7853c608-0fab-49c0-a434-4a80fc7cfc8e\",\"type\":\"Legend\"},{\"attributes\":{\"data_source\":{\"id\":\"24bdbfed-4318-44a5-a44f-5c5d1b180143\",\"type\":\"ColumnDataSource\"},\"glyph\":{\"id\":\"999d7596-f732-4c0a-a1a5-0bb6d71102a7\",\"type\":\"VBar\"},\"hover_glyph\":null,\"muted_glyph\":null,\"nonselection_glyph\":{\"id\":\"31fbb6bc-3e1d-45f0-a7db-7f92a7adcd0c\",\"type\":\"VBar\"},\"selection_glyph\":null,\"view\":{\"id\":\"bf07263c-dd80-4e5c-b368-ff31e3f1d1b3\",\"type\":\"CDSView\"}},\"id\":\"35bd09fa-b455-45de-86d0-55a9ef9b5ccf\",\"type\":\"GlyphRenderer\"},{\"attributes\":{\"below\":[{\"id\":\"3888a9ed-bbff-4eda-9612-8578e0986073\",\"type\":\"CategoricalAxis\"}],\"left\":[{\"id\":\"fdb9ddaf-5731-44cc-a595-3ad0d27a968e\",\"type\":\"LinearAxis\"}],\"plot_height\":350,\"renderers\":[{\"id\":\"3888a9ed-bbff-4eda-9612-8578e0986073\",\"type\":\"CategoricalAxis\"},{\"id\":\"0f75416b-d8d1-4668-b459-f474ad7fb62f\",\"type\":\"Grid\"},{\"id\":\"fdb9ddaf-5731-44cc-a595-3ad0d27a968e\",\"type\":\"LinearAxis\"},{\"id\":\"b28e5c0c-2c83-43f3-9443-d675e9de756d\",\"type\":\"Grid\"},{\"id\":\"274012d9-6577-46ac-b57e-1575ca767f5d\",\"type\":\"BoxAnnotation\"},{\"id\":\"7853c608-0fab-49c0-a434-4a80fc7cfc8e\",\"type\":\"Legend\"},{\"id\":\"35bd09fa-b455-45de-86d0-55a9ef9b5ccf\",\"type\":\"GlyphRenderer\"}],\"title\":{\"id\":\"da8c4bf0-1530-42a2-bae7-ad4f6655fc31\",\"type\":\"Title\"},\"toolbar\":{\"id\":\"b4ccfe02-e4d3-47f8-b275-ef839620e4f1\",\"type\":\"Toolbar\"},\"toolbar_location\":null,\"x_range\":{\"id\":\"8db9b30c-792f-4e64-962a-83fd73cc5ea2\",\"type\":\"FactorRange\"},\"x_scale\":{\"id\":\"24f7318d-66e5-45fc-a601-60437911bd65\",\"type\":\"CategoricalScale\"},\"y_range\":{\"id\":\"2ae4d0a0-5686-455a-93f6-3ff013a35527\",\"type\":\"DataRange1d\"},\"y_scale\":{\"id\":\"c6c7bbd4-84ea-4c74-a3b6-0738760a6690\",\"type\":\"LinearScale\"}},\"id\":\"6ac34763-5bc4-4f25-8fe5-996da648c172\",\"subtype\":\"Figure\",\"type\":\"Plot\"},{\"attributes\":{},\"id\":\"4d652882-1a6c-4d6c-be3f-be947ab6fb72\",\"type\":\"WheelZoomTool\"},{\"attributes\":{\"overlay\":{\"id\":\"274012d9-6577-46ac-b57e-1575ca767f5d\",\"type\":\"BoxAnnotation\"}},\"id\":\"e728b249-3a08-4a2e-84e9-83e4e507fc41\",\"type\":\"BoxZoomTool\"},{\"attributes\":{},\"id\":\"2e5f2908-d817-4c1a-a4c6-63b1cf98e6d7\",\"type\":\"SaveTool\"},{\"attributes\":{},\"id\":\"57e00ad0-db84-4059-9f10-cabbf4bce946\",\"type\":\"ResetTool\"},{\"attributes\":{\"callback\":null,\"column_names\":[\"fruits\",\"counts\"],\"data\":{\"counts\":[5,3,4,2,4,6],\"fruits\":[\"Ma\\u00e7as\",\"Peras\",\"Tangerinas\",\"Uvas\",\"Melancias\",\"Morangos\"]}},\"id\":\"24bdbfed-4318-44a5-a44f-5c5d1b180143\",\"type\":\"ColumnDataSource\"},{\"attributes\":{},\"id\":\"b5a4a348-c9ed-4c1b-9144-2693d691394e\",\"type\":\"HelpTool\"},{\"attributes\":{},\"id\":\"4e3e5f19-a71b-4c4c-bf40-ac55d911052d\",\"type\":\"BasicTickFormatter\"},{\"attributes\":{\"label\":{\"field\":\"fruits\"},\"renderers\":[{\"id\":\"35bd09fa-b455-45de-86d0-55a9ef9b5ccf\",\"type\":\"GlyphRenderer\"}]},\"id\":\"af3f815b-1426-4a32-a8b0-33dbda03fd20\",\"type\":\"LegendItem\"},{\"attributes\":{},\"id\":\"24f7318d-66e5-45fc-a601-60437911bd65\",\"type\":\"CategoricalScale\"}],\"root_ids\":[\"6ac34763-5bc4-4f25-8fe5-996da648c172\"]},\"title\":\"Bokeh Application\",\"version\":\"0.12.13\"}};\n",
       "  var render_items = [{\"docid\":\"dcf2fc3d-2901-47d4-b8a6-37a3cae488af\",\"elementid\":\"02ffb5f0-febd-468a-9efb-896c4cbf7938\",\"modelid\":\"6ac34763-5bc4-4f25-8fe5-996da648c172\"}];\n",
       "  root.Bokeh.embed.embed_items_notebook(docs_json, render_items);\n",
       "\n",
       "  }\n",
       "  if (root.Bokeh !== undefined) {\n",
       "    embed_document(root);\n",
       "  } else {\n",
       "    var attempts = 0;\n",
       "    var timer = setInterval(function(root) {\n",
       "      if (root.Bokeh !== undefined) {\n",
       "        embed_document(root);\n",
       "        clearInterval(timer);\n",
       "      }\n",
       "      attempts++;\n",
       "      if (attempts > 100) {\n",
       "        console.log(\"Bokeh: ERROR: Unable to run BokehJS code because BokehJS library is missing\")\n",
       "        clearInterval(timer);\n",
       "      }\n",
       "    }, 10, root)\n",
       "  }\n",
       "})(window);"
      ],
      "application/vnd.bokehjs_exec.v0+json": ""
     },
     "metadata": {
      "application/vnd.bokehjs_exec.v0+json": {
       "id": "6ac34763-5bc4-4f25-8fe5-996da648c172"
      }
     },
     "output_type": "display_data"
    }
   ],
   "source": [
    "# Criando um novo gráfico\n",
    "output_file(\"Bokeh-Grafico-Barras.html\")\n",
    "\n",
    "fruits = ['Maças', 'Peras', 'Tangerinas', 'Uvas', 'Melancias', 'Morangos']\n",
    "counts = [5, 3, 4, 2, 4, 6]\n",
    "\n",
    "source = ColumnDataSource(data=dict(fruits=fruits, counts=counts))\n",
    "\n",
    "p = figure(x_range=fruits, plot_height=350, toolbar_location=None, title=\"Contagem de Frutas\")\n",
    "\n",
    "p.vbar(x='fruits', \n",
    "       top='counts', \n",
    "       width=0.9, \n",
    "       source=source, \n",
    "       legend=\"fruits\",\n",
    "       line_color='white', \n",
    "       fill_color=factor_cmap('fruits', palette=Spectral6, factors=fruits))\n",
    "\n",
    "p.xgrid.grid_line_color = None\n",
    "p.y_range.start = 0\n",
    "p.y_range.end = 9\n",
    "p.legend.orientation = \"horizontal\"\n",
    "p.legend.location = \"top_center\"\n",
    "\n",
    "show(p)"
   ]
  },
  {
   "cell_type": "markdown",
   "metadata": {},
   "source": [
    "## ScatterPlot"
   ]
  },
  {
   "cell_type": "code",
   "execution_count": 9,
   "metadata": {},
   "outputs": [
    {
     "data": {
      "text/html": [
       "\n",
       "<div class=\"bk-root\">\n",
       "    <div class=\"bk-plotdiv\" id=\"7550f262-3bb1-441b-96e8-ced637577094\"></div>\n",
       "</div>"
      ]
     },
     "metadata": {},
     "output_type": "display_data"
    },
    {
     "data": {
      "application/javascript": [
       "(function(root) {\n",
       "  function embed_document(root) {\n",
       "    \n",
       "  var docs_json = {\"76cdfad2-1c76-43ce-b14a-f0e108da9545\":{\"roots\":{\"references\":[{\"attributes\":{\"fill_alpha\":{\"value\":0.1},\"fill_color\":{\"value\":\"#1f77b4\"},\"line_alpha\":{\"value\":0.1},\"line_color\":{\"value\":\"#1f77b4\"},\"size\":{\"units\":\"screen\",\"value\":10},\"x\":{\"field\":\"x\"},\"y\":{\"field\":\"y\"}},\"id\":\"806d091f-cc50-4f5b-bacb-a5ccbf7413fc\",\"type\":\"Circle\"},{\"attributes\":{},\"id\":\"929f7f8b-c317-4471-86da-5cdcf6932839\",\"type\":\"WheelZoomTool\"},{\"attributes\":{\"active_drag\":\"auto\",\"active_inspect\":\"auto\",\"active_scroll\":\"auto\",\"active_tap\":\"auto\",\"tools\":[{\"id\":\"3c952a70-bdee-4ba5-be10-7c9e6504dad0\",\"type\":\"PanTool\"},{\"id\":\"929f7f8b-c317-4471-86da-5cdcf6932839\",\"type\":\"WheelZoomTool\"},{\"id\":\"87784d05-28a0-4e7a-b52a-752f881bf5ee\",\"type\":\"BoxZoomTool\"},{\"id\":\"98c81b4d-2f31-419d-9509-7179b19a6353\",\"type\":\"SaveTool\"},{\"id\":\"46c62f7b-6d8d-44e1-b015-1e45b524afd7\",\"type\":\"ResetTool\"},{\"id\":\"f51e96c6-e259-4f17-9ddd-1a13f91ec64e\",\"type\":\"HelpTool\"}]},\"id\":\"60528cdb-0849-4911-8a78-fd4a458b6dfd\",\"type\":\"Toolbar\"},{\"attributes\":{\"overlay\":{\"id\":\"38180583-d045-435c-afe8-fd5163fb3880\",\"type\":\"BoxAnnotation\"}},\"id\":\"87784d05-28a0-4e7a-b52a-752f881bf5ee\",\"type\":\"BoxZoomTool\"},{\"attributes\":{},\"id\":\"98c81b4d-2f31-419d-9509-7179b19a6353\",\"type\":\"SaveTool\"},{\"attributes\":{},\"id\":\"46c62f7b-6d8d-44e1-b015-1e45b524afd7\",\"type\":\"ResetTool\"},{\"attributes\":{},\"id\":\"4b4a1f9d-9157-4869-89d5-e11a822da1e7\",\"type\":\"LinearScale\"},{\"attributes\":{\"callback\":null},\"id\":\"8ef19fef-98f2-4872-ba18-02a96e5554bf\",\"type\":\"DataRange1d\"},{\"attributes\":{},\"id\":\"f51e96c6-e259-4f17-9ddd-1a13f91ec64e\",\"type\":\"HelpTool\"},{\"attributes\":{},\"id\":\"0682164a-698e-45da-a737-e5f609a0fff1\",\"type\":\"LinearScale\"},{\"attributes\":{\"data_source\":{\"id\":\"4e247058-0618-4670-b039-b76b13424b99\",\"type\":\"ColumnDataSource\"},\"glyph\":{\"id\":\"bf9f7074-883d-42f9-a9e3-79f6edcc77de\",\"type\":\"Circle\"},\"hover_glyph\":null,\"muted_glyph\":null,\"nonselection_glyph\":{\"id\":\"806d091f-cc50-4f5b-bacb-a5ccbf7413fc\",\"type\":\"Circle\"},\"selection_glyph\":null,\"view\":{\"id\":\"7337d2d4-4af2-4c7d-8e47-a7a1d82093b6\",\"type\":\"CDSView\"}},\"id\":\"fbe2e8e9-4917-4ff2-a6e6-91e60f874424\",\"type\":\"GlyphRenderer\"},{\"attributes\":{\"plot\":{\"id\":\"97295e74-efae-485c-9398-419cfbdae530\",\"subtype\":\"Figure\",\"type\":\"Plot\"},\"ticker\":{\"id\":\"650bcd57-df35-4557-bf16-c747360ecd72\",\"type\":\"BasicTicker\"}},\"id\":\"1779c847-28ad-41f2-a298-04f3f743aa70\",\"type\":\"Grid\"},{\"attributes\":{\"source\":{\"id\":\"4e247058-0618-4670-b039-b76b13424b99\",\"type\":\"ColumnDataSource\"}},\"id\":\"7337d2d4-4af2-4c7d-8e47-a7a1d82093b6\",\"type\":\"CDSView\"},{\"attributes\":{\"axis_label\":\"Petal Length\",\"formatter\":{\"id\":\"78bd3b8e-e229-4093-af56-bad7a20bd27a\",\"type\":\"BasicTickFormatter\"},\"plot\":{\"id\":\"97295e74-efae-485c-9398-419cfbdae530\",\"subtype\":\"Figure\",\"type\":\"Plot\"},\"ticker\":{\"id\":\"650bcd57-df35-4557-bf16-c747360ecd72\",\"type\":\"BasicTicker\"}},\"id\":\"4786f012-9fa4-4a8c-b717-238d15b57280\",\"type\":\"LinearAxis\"},{\"attributes\":{},\"id\":\"78bd3b8e-e229-4093-af56-bad7a20bd27a\",\"type\":\"BasicTickFormatter\"},{\"attributes\":{},\"id\":\"650bcd57-df35-4557-bf16-c747360ecd72\",\"type\":\"BasicTicker\"},{\"attributes\":{\"axis_label\":\"Petal Width\",\"formatter\":{\"id\":\"698e46f3-8a46-4880-b1bf-089d6f78779b\",\"type\":\"BasicTickFormatter\"},\"plot\":{\"id\":\"97295e74-efae-485c-9398-419cfbdae530\",\"subtype\":\"Figure\",\"type\":\"Plot\"},\"ticker\":{\"id\":\"757dc6a1-fb4d-42ff-9ed5-4d1a5505976c\",\"type\":\"BasicTicker\"}},\"id\":\"f25a0e29-d72f-4f1e-b18e-e43ea217ddbc\",\"type\":\"LinearAxis\"},{\"attributes\":{},\"id\":\"757dc6a1-fb4d-42ff-9ed5-4d1a5505976c\",\"type\":\"BasicTicker\"},{\"attributes\":{\"callback\":null},\"id\":\"56768844-286c-4a5b-938f-9e4141b52f69\",\"type\":\"DataRange1d\"},{\"attributes\":{\"dimension\":1,\"plot\":{\"id\":\"97295e74-efae-485c-9398-419cfbdae530\",\"subtype\":\"Figure\",\"type\":\"Plot\"},\"ticker\":{\"id\":\"757dc6a1-fb4d-42ff-9ed5-4d1a5505976c\",\"type\":\"BasicTicker\"}},\"id\":\"e75aa5b5-2ffe-439f-b99d-bc5284b8f6fe\",\"type\":\"Grid\"},{\"attributes\":{\"below\":[{\"id\":\"4786f012-9fa4-4a8c-b717-238d15b57280\",\"type\":\"LinearAxis\"}],\"left\":[{\"id\":\"f25a0e29-d72f-4f1e-b18e-e43ea217ddbc\",\"type\":\"LinearAxis\"}],\"renderers\":[{\"id\":\"4786f012-9fa4-4a8c-b717-238d15b57280\",\"type\":\"LinearAxis\"},{\"id\":\"1779c847-28ad-41f2-a298-04f3f743aa70\",\"type\":\"Grid\"},{\"id\":\"f25a0e29-d72f-4f1e-b18e-e43ea217ddbc\",\"type\":\"LinearAxis\"},{\"id\":\"e75aa5b5-2ffe-439f-b99d-bc5284b8f6fe\",\"type\":\"Grid\"},{\"id\":\"38180583-d045-435c-afe8-fd5163fb3880\",\"type\":\"BoxAnnotation\"},{\"id\":\"fbe2e8e9-4917-4ff2-a6e6-91e60f874424\",\"type\":\"GlyphRenderer\"}],\"title\":{\"id\":\"6619525d-fc3b-416f-ae10-bd747c3af130\",\"type\":\"Title\"},\"toolbar\":{\"id\":\"60528cdb-0849-4911-8a78-fd4a458b6dfd\",\"type\":\"Toolbar\"},\"x_range\":{\"id\":\"56768844-286c-4a5b-938f-9e4141b52f69\",\"type\":\"DataRange1d\"},\"x_scale\":{\"id\":\"4b4a1f9d-9157-4869-89d5-e11a822da1e7\",\"type\":\"LinearScale\"},\"y_range\":{\"id\":\"8ef19fef-98f2-4872-ba18-02a96e5554bf\",\"type\":\"DataRange1d\"},\"y_scale\":{\"id\":\"0682164a-698e-45da-a737-e5f609a0fff1\",\"type\":\"LinearScale\"}},\"id\":\"97295e74-efae-485c-9398-419cfbdae530\",\"subtype\":\"Figure\",\"type\":\"Plot\"},{\"attributes\":{},\"id\":\"698e46f3-8a46-4880-b1bf-089d6f78779b\",\"type\":\"BasicTickFormatter\"},{\"attributes\":{\"plot\":null,\"text\":\"Iris Morphology\"},\"id\":\"6619525d-fc3b-416f-ae10-bd747c3af130\",\"type\":\"Title\"},{\"attributes\":{\"callback\":null,\"column_names\":[\"x\",\"y\",\"fill_color\",\"line_color\"],\"data\":{\"fill_color\":[\"red\",\"red\",\"red\",\"red\",\"red\",\"red\",\"red\",\"red\",\"red\",\"red\",\"red\",\"red\",\"red\",\"red\",\"red\",\"red\",\"red\",\"red\",\"red\",\"red\",\"red\",\"red\",\"red\",\"red\",\"red\",\"red\",\"red\",\"red\",\"red\",\"red\",\"red\",\"red\",\"red\",\"red\",\"red\",\"red\",\"red\",\"red\",\"red\",\"red\",\"red\",\"red\",\"red\",\"red\",\"red\",\"red\",\"red\",\"red\",\"red\",\"red\",\"green\",\"green\",\"green\",\"green\",\"green\",\"green\",\"green\",\"green\",\"green\",\"green\",\"green\",\"green\",\"green\",\"green\",\"green\",\"green\",\"green\",\"green\",\"green\",\"green\",\"green\",\"green\",\"green\",\"green\",\"green\",\"green\",\"green\",\"green\",\"green\",\"green\",\"green\",\"green\",\"green\",\"green\",\"green\",\"green\",\"green\",\"green\",\"green\",\"green\",\"green\",\"green\",\"green\",\"green\",\"green\",\"green\",\"green\",\"green\",\"green\",\"green\",\"blue\",\"blue\",\"blue\",\"blue\",\"blue\",\"blue\",\"blue\",\"blue\",\"blue\",\"blue\",\"blue\",\"blue\",\"blue\",\"blue\",\"blue\",\"blue\",\"blue\",\"blue\",\"blue\",\"blue\",\"blue\",\"blue\",\"blue\",\"blue\",\"blue\",\"blue\",\"blue\",\"blue\",\"blue\",\"blue\",\"blue\",\"blue\",\"blue\",\"blue\",\"blue\",\"blue\",\"blue\",\"blue\",\"blue\",\"blue\",\"blue\",\"blue\",\"blue\",\"blue\",\"blue\",\"blue\",\"blue\",\"blue\",\"blue\",\"blue\"],\"line_color\":[\"red\",\"red\",\"red\",\"red\",\"red\",\"red\",\"red\",\"red\",\"red\",\"red\",\"red\",\"red\",\"red\",\"red\",\"red\",\"red\",\"red\",\"red\",\"red\",\"red\",\"red\",\"red\",\"red\",\"red\",\"red\",\"red\",\"red\",\"red\",\"red\",\"red\",\"red\",\"red\",\"red\",\"red\",\"red\",\"red\",\"red\",\"red\",\"red\",\"red\",\"red\",\"red\",\"red\",\"red\",\"red\",\"red\",\"red\",\"red\",\"red\",\"red\",\"green\",\"green\",\"green\",\"green\",\"green\",\"green\",\"green\",\"green\",\"green\",\"green\",\"green\",\"green\",\"green\",\"green\",\"green\",\"green\",\"green\",\"green\",\"green\",\"green\",\"green\",\"green\",\"green\",\"green\",\"green\",\"green\",\"green\",\"green\",\"green\",\"green\",\"green\",\"green\",\"green\",\"green\",\"green\",\"green\",\"green\",\"green\",\"green\",\"green\",\"green\",\"green\",\"green\",\"green\",\"green\",\"green\",\"green\",\"green\",\"green\",\"green\",\"blue\",\"blue\",\"blue\",\"blue\",\"blue\",\"blue\",\"blue\",\"blue\",\"blue\",\"blue\",\"blue\",\"blue\",\"blue\",\"blue\",\"blue\",\"blue\",\"blue\",\"blue\",\"blue\",\"blue\",\"blue\",\"blue\",\"blue\",\"blue\",\"blue\",\"blue\",\"blue\",\"blue\",\"blue\",\"blue\",\"blue\",\"blue\",\"blue\",\"blue\",\"blue\",\"blue\",\"blue\",\"blue\",\"blue\",\"blue\",\"blue\",\"blue\",\"blue\",\"blue\",\"blue\",\"blue\",\"blue\",\"blue\",\"blue\",\"blue\"],\"x\":{\"__ndarray__\":\"ZmZmZmZm9j9mZmZmZmb2P83MzMzMzPQ/AAAAAAAA+D9mZmZmZmb2PzMzMzMzM/s/ZmZmZmZm9j8AAAAAAAD4P2ZmZmZmZvY/AAAAAAAA+D8AAAAAAAD4P5qZmZmZmfk/ZmZmZmZm9j+amZmZmZnxPzMzMzMzM/M/AAAAAAAA+D/NzMzMzMz0P2ZmZmZmZvY/MzMzMzMz+z8AAAAAAAD4PzMzMzMzM/s/AAAAAAAA+D8AAAAAAADwPzMzMzMzM/s/ZmZmZmZm/j+amZmZmZn5P5qZmZmZmfk/AAAAAAAA+D9mZmZmZmb2P5qZmZmZmfk/mpmZmZmZ+T8AAAAAAAD4PwAAAAAAAPg/ZmZmZmZm9j8AAAAAAAD4PzMzMzMzM/M/zczMzMzM9D9mZmZmZmb2P83MzMzMzPQ/AAAAAAAA+D/NzMzMzMz0P83MzMzMzPQ/zczMzMzM9D+amZmZmZn5P2ZmZmZmZv4/ZmZmZmZm9j+amZmZmZn5P2ZmZmZmZvY/AAAAAAAA+D9mZmZmZmb2P83MzMzMzBJAAAAAAAAAEkCamZmZmZkTQAAAAAAAABBAZmZmZmZmEkAAAAAAAAASQM3MzMzMzBJAZmZmZmZmCkBmZmZmZmYSQDMzMzMzMw9AAAAAAAAADEDNzMzMzMwQQAAAAAAAABBAzczMzMzMEkDNzMzMzMwMQJqZmZmZmRFAAAAAAAAAEkBmZmZmZmYQQAAAAAAAABJAMzMzMzMzD0AzMzMzMzMTQAAAAAAAABBAmpmZmZmZE0DNzMzMzMwSQDMzMzMzMxFAmpmZmZmZEUAzMzMzMzMTQAAAAAAAABRAAAAAAAAAEkAAAAAAAAAMQGZmZmZmZg5AmpmZmZmZDUAzMzMzMzMPQGZmZmZmZhRAAAAAAAAAEkAAAAAAAAASQM3MzMzMzBJAmpmZmZmZEUBmZmZmZmYQQAAAAAAAABBAmpmZmZmZEUBmZmZmZmYSQAAAAAAAABBAZmZmZmZmCkDNzMzMzMwQQM3MzMzMzBBAzczMzMzMEEAzMzMzMzMRQAAAAAAAAAhAZmZmZmZmEEAAAAAAAAAYQGZmZmZmZhRAmpmZmZmZF0BmZmZmZmYWQDMzMzMzMxdAZmZmZmZmGkAAAAAAAAASQDMzMzMzMxlAMzMzMzMzF0BmZmZmZmYYQGZmZmZmZhRAMzMzMzMzFUAAAAAAAAAWQAAAAAAAABRAZmZmZmZmFEAzMzMzMzMVQAAAAAAAABZAzczMzMzMGkCamZmZmZkbQAAAAAAAABRAzczMzMzMFkCamZmZmZkTQM3MzMzMzBpAmpmZmZmZE0DNzMzMzMwWQAAAAAAAABhAMzMzMzMzE0CamZmZmZkTQGZmZmZmZhZAMzMzMzMzF0BmZmZmZmYYQJqZmZmZmRlAZmZmZmZmFkBmZmZmZmYUQGZmZmZmZhZAZmZmZmZmGEBmZmZmZmYWQAAAAAAAABZAMzMzMzMzE0CamZmZmZkVQGZmZmZmZhZAZmZmZmZmFEBmZmZmZmYUQJqZmZmZmRdAzczMzMzMFkDNzMzMzMwUQAAAAAAAABRAzczMzMzMFECamZmZmZkVQGZmZmZmZhRA\",\"dtype\":\"float64\",\"shape\":[150]},\"y\":{\"__ndarray__\":\"mpmZmZmZyT+amZmZmZnJP5qZmZmZmck/mpmZmZmZyT+amZmZmZnJP5qZmZmZmdk/MzMzMzMz0z+amZmZmZnJP5qZmZmZmck/mpmZmZmZuT+amZmZmZnJP5qZmZmZmck/mpmZmZmZuT+amZmZmZm5P5qZmZmZmck/mpmZmZmZ2T+amZmZmZnZPzMzMzMzM9M/MzMzMzMz0z8zMzMzMzPTP5qZmZmZmck/mpmZmZmZ2T+amZmZmZnJPwAAAAAAAOA/mpmZmZmZyT+amZmZmZnJP5qZmZmZmdk/mpmZmZmZyT+amZmZmZnJP5qZmZmZmck/mpmZmZmZyT+amZmZmZnZP5qZmZmZmbk/mpmZmZmZyT+amZmZmZnJP5qZmZmZmck/mpmZmZmZyT+amZmZmZm5P5qZmZmZmck/mpmZmZmZyT8zMzMzMzPTPzMzMzMzM9M/mpmZmZmZyT8zMzMzMzPjP5qZmZmZmdk/MzMzMzMz0z+amZmZmZnJP5qZmZmZmck/mpmZmZmZyT+amZmZmZnJP2ZmZmZmZvY/AAAAAAAA+D8AAAAAAAD4P83MzMzMzPQ/AAAAAAAA+D/NzMzMzMz0P5qZmZmZmfk/AAAAAAAA8D/NzMzMzMz0P2ZmZmZmZvY/AAAAAAAA8D8AAAAAAAD4PwAAAAAAAPA/ZmZmZmZm9j/NzMzMzMz0P2ZmZmZmZvY/AAAAAAAA+D8AAAAAAADwPwAAAAAAAPg/mpmZmZmZ8T/NzMzMzMz8P83MzMzMzPQ/AAAAAAAA+D8zMzMzMzPzP83MzMzMzPQ/ZmZmZmZm9j9mZmZmZmb2PzMzMzMzM/s/AAAAAAAA+D8AAAAAAADwP5qZmZmZmfE/AAAAAAAA8D8zMzMzMzPzP5qZmZmZmfk/AAAAAAAA+D+amZmZmZn5PwAAAAAAAPg/zczMzMzM9D/NzMzMzMz0P83MzMzMzPQ/MzMzMzMz8z9mZmZmZmb2PzMzMzMzM/M/AAAAAAAA8D/NzMzMzMz0PzMzMzMzM/M/zczMzMzM9D/NzMzMzMz0P5qZmZmZmfE/zczMzMzM9D8AAAAAAAAEQGZmZmZmZv4/zczMzMzMAEDNzMzMzMz8P5qZmZmZmQFAzczMzMzMAEAzMzMzMzP7P83MzMzMzPw/zczMzMzM/D8AAAAAAAAEQAAAAAAAAABAZmZmZmZm/j/NzMzMzMwAQAAAAAAAAABAMzMzMzMzA0BmZmZmZmYCQM3MzMzMzPw/mpmZmZmZAUBmZmZmZmYCQAAAAAAAAPg/ZmZmZmZmAkAAAAAAAAAAQAAAAAAAAABAzczMzMzM/D/NzMzMzMwAQM3MzMzMzPw/zczMzMzM/D/NzMzMzMz8P83MzMzMzABAmpmZmZmZ+T9mZmZmZmb+PwAAAAAAAABAmpmZmZmZAUAAAAAAAAD4P2ZmZmZmZvY/ZmZmZmZmAkAzMzMzMzMDQM3MzMzMzPw/zczMzMzM/D/NzMzMzMwAQDMzMzMzMwNAZmZmZmZmAkBmZmZmZmb+P2ZmZmZmZgJAAAAAAAAABEBmZmZmZmYCQGZmZmZmZv4/AAAAAAAAAEBmZmZmZmYCQM3MzMzMzPw/\",\"dtype\":\"float64\",\"shape\":[150]}}},\"id\":\"4e247058-0618-4670-b039-b76b13424b99\",\"type\":\"ColumnDataSource\"},{\"attributes\":{\"fill_alpha\":{\"value\":0.2},\"fill_color\":{\"field\":\"fill_color\"},\"line_color\":{\"field\":\"line_color\"},\"size\":{\"units\":\"screen\",\"value\":10},\"x\":{\"field\":\"x\"},\"y\":{\"field\":\"y\"}},\"id\":\"bf9f7074-883d-42f9-a9e3-79f6edcc77de\",\"type\":\"Circle\"},{\"attributes\":{\"bottom_units\":\"screen\",\"fill_alpha\":{\"value\":0.5},\"fill_color\":{\"value\":\"lightgrey\"},\"left_units\":\"screen\",\"level\":\"overlay\",\"line_alpha\":{\"value\":1.0},\"line_color\":{\"value\":\"black\"},\"line_dash\":[4,4],\"line_width\":{\"value\":2},\"plot\":null,\"render_mode\":\"css\",\"right_units\":\"screen\",\"top_units\":\"screen\"},\"id\":\"38180583-d045-435c-afe8-fd5163fb3880\",\"type\":\"BoxAnnotation\"},{\"attributes\":{},\"id\":\"3c952a70-bdee-4ba5-be10-7c9e6504dad0\",\"type\":\"PanTool\"}],\"root_ids\":[\"97295e74-efae-485c-9398-419cfbdae530\"]},\"title\":\"Bokeh Application\",\"version\":\"0.12.13\"}};\n",
       "  var render_items = [{\"docid\":\"76cdfad2-1c76-43ce-b14a-f0e108da9545\",\"elementid\":\"7550f262-3bb1-441b-96e8-ced637577094\",\"modelid\":\"97295e74-efae-485c-9398-419cfbdae530\"}];\n",
       "  root.Bokeh.embed.embed_items_notebook(docs_json, render_items);\n",
       "\n",
       "  }\n",
       "  if (root.Bokeh !== undefined) {\n",
       "    embed_document(root);\n",
       "  } else {\n",
       "    var attempts = 0;\n",
       "    var timer = setInterval(function(root) {\n",
       "      if (root.Bokeh !== undefined) {\n",
       "        embed_document(root);\n",
       "        clearInterval(timer);\n",
       "      }\n",
       "      attempts++;\n",
       "      if (attempts > 100) {\n",
       "        console.log(\"Bokeh: ERROR: Unable to run BokehJS code because BokehJS library is missing\")\n",
       "        clearInterval(timer);\n",
       "      }\n",
       "    }, 10, root)\n",
       "  }\n",
       "})(window);"
      ],
      "application/vnd.bokehjs_exec.v0+json": ""
     },
     "metadata": {
      "application/vnd.bokehjs_exec.v0+json": {
       "id": "97295e74-efae-485c-9398-419cfbdae530"
      }
     },
     "output_type": "display_data"
    }
   ],
   "source": [
    "# Construindo um ScatterPlot\n",
    "from bokeh.plotting import figure, show, output_file\n",
    "from bokeh.sampledata.iris import flowers\n",
    "\n",
    "colormap = {'setosa': 'red', 'versicolor': 'green', 'virginica': 'blue'}\n",
    "colors = [colormap[x] for x in flowers['species']]\n",
    "\n",
    "p = figure(title = \"Iris Morphology\")\n",
    "p.xaxis.axis_label = 'Petal Length'\n",
    "p.yaxis.axis_label = 'Petal Width'\n",
    "\n",
    "p.circle(flowers[\"petal_length\"], flowers[\"petal_width\"], color=colors, fill_alpha=0.2, size=10)\n",
    "\n",
    "output_file(\"Bokeh_grafico_Iris.html\", title=\"iris.py example\")\n",
    "\n",
    "show(p)"
   ]
  },
  {
   "cell_type": "markdown",
   "metadata": {
    "collapsed": true
   },
   "source": [
    "## Gráfico de Círculos"
   ]
  },
  {
   "cell_type": "code",
   "execution_count": 10,
   "metadata": {},
   "outputs": [
    {
     "data": {
      "text/html": [
       "\n",
       "<div class=\"bk-root\">\n",
       "    <div class=\"bk-plotdiv\" id=\"95c883c9-6ca7-4c24-b0f5-eb93451ed77c\"></div>\n",
       "</div>"
      ]
     },
     "metadata": {},
     "output_type": "display_data"
    },
    {
     "data": {
      "application/javascript": [
       "(function(root) {\n",
       "  function embed_document(root) {\n",
       "    \n",
       "  var docs_json = {\"5174bbfd-3ffe-4a59-9315-fe0c1f94fc2a\":{\"roots\":{\"references\":[{\"attributes\":{},\"id\":\"53804e58-8757-49ee-96e5-af98740f126a\",\"type\":\"BasicTicker\"},{\"attributes\":{},\"id\":\"737b52ae-4f1e-4213-a1d2-97c15318fb90\",\"type\":\"HelpTool\"},{\"attributes\":{},\"id\":\"2f08bcb8-b03d-4d44-813c-5f74c21b00cf\",\"type\":\"LinearScale\"},{\"attributes\":{\"fill_alpha\":{\"value\":0.1},\"fill_color\":{\"value\":\"#1f77b4\"},\"line_alpha\":{\"value\":0.1},\"line_color\":{\"value\":\"#1f77b4\"},\"size\":{\"units\":\"screen\",\"value\":20},\"x\":{\"field\":\"x\"},\"y\":{\"field\":\"y\"}},\"id\":\"077b905c-395d-4832-8dc5-56d03c8c39e4\",\"type\":\"Circle\"},{\"attributes\":{},\"id\":\"d67e13f7-87d8-4866-8771-12c03ab55fb0\",\"type\":\"LinearScale\"},{\"attributes\":{\"formatter\":{\"id\":\"527b12b1-f38d-4431-9b01-1b7c7c4ecb67\",\"type\":\"BasicTickFormatter\"},\"plot\":{\"id\":\"dd7b4eca-39fe-44d0-9c27-a6a40f60ff77\",\"subtype\":\"Figure\",\"type\":\"Plot\"},\"ticker\":{\"id\":\"53804e58-8757-49ee-96e5-af98740f126a\",\"type\":\"BasicTicker\"}},\"id\":\"61f601aa-e457-4740-bb25-211a8e2a1e27\",\"type\":\"LinearAxis\"},{\"attributes\":{\"callback\":null},\"id\":\"8416a9ca-c780-4977-9de9-bb1bfe1de55f\",\"type\":\"DataRange1d\"},{\"attributes\":{},\"id\":\"98ee54f8-f7ca-4508-9ee5-99f2afc12c3f\",\"type\":\"WheelZoomTool\"},{\"attributes\":{\"dimension\":1,\"plot\":{\"id\":\"dd7b4eca-39fe-44d0-9c27-a6a40f60ff77\",\"subtype\":\"Figure\",\"type\":\"Plot\"},\"ticker\":{\"id\":\"53804e58-8757-49ee-96e5-af98740f126a\",\"type\":\"BasicTicker\"}},\"id\":\"e2c2e898-f255-4551-b147-b2f8d48d7c98\",\"type\":\"Grid\"},{\"attributes\":{\"fill_alpha\":{\"value\":0.5},\"fill_color\":{\"value\":\"navy\"},\"line_alpha\":{\"value\":0.5},\"line_color\":{\"value\":\"navy\"},\"size\":{\"units\":\"screen\",\"value\":20},\"x\":{\"field\":\"x\"},\"y\":{\"field\":\"y\"}},\"id\":\"153d3682-fc3b-46f3-b611-d28ce3eb9175\",\"type\":\"Circle\"},{\"attributes\":{},\"id\":\"7954f0d1-4581-42a0-94ba-54b19e96f90b\",\"type\":\"BasicTickFormatter\"},{\"attributes\":{\"plot\":{\"id\":\"dd7b4eca-39fe-44d0-9c27-a6a40f60ff77\",\"subtype\":\"Figure\",\"type\":\"Plot\"},\"ticker\":{\"id\":\"6f850bdd-662e-4e0e-ba6e-bf419da5d05b\",\"type\":\"BasicTicker\"}},\"id\":\"a941c0cd-1c1a-4535-9458-bafe8af25c2d\",\"type\":\"Grid\"},{\"attributes\":{},\"id\":\"9924fa0a-4d06-4937-a03a-c010f67a98a8\",\"type\":\"PanTool\"},{\"attributes\":{\"overlay\":{\"id\":\"eae3eeaf-874a-4e8c-a020-eadca15a10fc\",\"type\":\"BoxAnnotation\"}},\"id\":\"987436d1-7737-4177-871e-522c61c2af0a\",\"type\":\"BoxZoomTool\"},{\"attributes\":{},\"id\":\"dfd69bae-907c-4eac-a2d4-459793f42317\",\"type\":\"ResetTool\"},{\"attributes\":{\"bottom_units\":\"screen\",\"fill_alpha\":{\"value\":0.5},\"fill_color\":{\"value\":\"lightgrey\"},\"left_units\":\"screen\",\"level\":\"overlay\",\"line_alpha\":{\"value\":1.0},\"line_color\":{\"value\":\"black\"},\"line_dash\":[4,4],\"line_width\":{\"value\":2},\"plot\":null,\"render_mode\":\"css\",\"right_units\":\"screen\",\"top_units\":\"screen\"},\"id\":\"eae3eeaf-874a-4e8c-a020-eadca15a10fc\",\"type\":\"BoxAnnotation\"},{\"attributes\":{\"formatter\":{\"id\":\"7954f0d1-4581-42a0-94ba-54b19e96f90b\",\"type\":\"BasicTickFormatter\"},\"plot\":{\"id\":\"dd7b4eca-39fe-44d0-9c27-a6a40f60ff77\",\"subtype\":\"Figure\",\"type\":\"Plot\"},\"ticker\":{\"id\":\"6f850bdd-662e-4e0e-ba6e-bf419da5d05b\",\"type\":\"BasicTicker\"}},\"id\":\"b5fecc15-24c5-4f86-ac3b-528cc9c11694\",\"type\":\"LinearAxis\"},{\"attributes\":{},\"id\":\"3cf1acd6-9efe-4b79-ac34-00aa6d81fa80\",\"type\":\"SaveTool\"},{\"attributes\":{\"source\":{\"id\":\"6fa429f3-4a77-4e75-86c3-748a6061bfe5\",\"type\":\"ColumnDataSource\"}},\"id\":\"4d2d7160-46b6-410f-a75f-bcaaeda91a36\",\"type\":\"CDSView\"},{\"attributes\":{\"below\":[{\"id\":\"b5fecc15-24c5-4f86-ac3b-528cc9c11694\",\"type\":\"LinearAxis\"}],\"left\":[{\"id\":\"61f601aa-e457-4740-bb25-211a8e2a1e27\",\"type\":\"LinearAxis\"}],\"plot_height\":400,\"plot_width\":400,\"renderers\":[{\"id\":\"b5fecc15-24c5-4f86-ac3b-528cc9c11694\",\"type\":\"LinearAxis\"},{\"id\":\"a941c0cd-1c1a-4535-9458-bafe8af25c2d\",\"type\":\"Grid\"},{\"id\":\"61f601aa-e457-4740-bb25-211a8e2a1e27\",\"type\":\"LinearAxis\"},{\"id\":\"e2c2e898-f255-4551-b147-b2f8d48d7c98\",\"type\":\"Grid\"},{\"id\":\"eae3eeaf-874a-4e8c-a020-eadca15a10fc\",\"type\":\"BoxAnnotation\"},{\"id\":\"90b2e11e-bfea-4a19-a482-a624e40cfd57\",\"type\":\"GlyphRenderer\"}],\"title\":{\"id\":\"9ed333a6-a7c7-4480-8a21-2b536bd9f8a4\",\"type\":\"Title\"},\"toolbar\":{\"id\":\"861cab2c-c47c-4310-9b22-879711598135\",\"type\":\"Toolbar\"},\"x_range\":{\"id\":\"8416a9ca-c780-4977-9de9-bb1bfe1de55f\",\"type\":\"DataRange1d\"},\"x_scale\":{\"id\":\"2f08bcb8-b03d-4d44-813c-5f74c21b00cf\",\"type\":\"LinearScale\"},\"y_range\":{\"id\":\"210627be-68a6-4a51-8942-f58c750b5ec6\",\"type\":\"DataRange1d\"},\"y_scale\":{\"id\":\"d67e13f7-87d8-4866-8771-12c03ab55fb0\",\"type\":\"LinearScale\"}},\"id\":\"dd7b4eca-39fe-44d0-9c27-a6a40f60ff77\",\"subtype\":\"Figure\",\"type\":\"Plot\"},{\"attributes\":{\"callback\":null,\"column_names\":[\"x\",\"y\"],\"data\":{\"x\":[1,2,3,4,5],\"y\":[6,7,2,4,5]}},\"id\":\"6fa429f3-4a77-4e75-86c3-748a6061bfe5\",\"type\":\"ColumnDataSource\"},{\"attributes\":{\"callback\":null},\"id\":\"210627be-68a6-4a51-8942-f58c750b5ec6\",\"type\":\"DataRange1d\"},{\"attributes\":{\"active_drag\":\"auto\",\"active_inspect\":\"auto\",\"active_scroll\":\"auto\",\"active_tap\":\"auto\",\"tools\":[{\"id\":\"9924fa0a-4d06-4937-a03a-c010f67a98a8\",\"type\":\"PanTool\"},{\"id\":\"98ee54f8-f7ca-4508-9ee5-99f2afc12c3f\",\"type\":\"WheelZoomTool\"},{\"id\":\"987436d1-7737-4177-871e-522c61c2af0a\",\"type\":\"BoxZoomTool\"},{\"id\":\"3cf1acd6-9efe-4b79-ac34-00aa6d81fa80\",\"type\":\"SaveTool\"},{\"id\":\"dfd69bae-907c-4eac-a2d4-459793f42317\",\"type\":\"ResetTool\"},{\"id\":\"737b52ae-4f1e-4213-a1d2-97c15318fb90\",\"type\":\"HelpTool\"}]},\"id\":\"861cab2c-c47c-4310-9b22-879711598135\",\"type\":\"Toolbar\"},{\"attributes\":{},\"id\":\"6f850bdd-662e-4e0e-ba6e-bf419da5d05b\",\"type\":\"BasicTicker\"},{\"attributes\":{},\"id\":\"527b12b1-f38d-4431-9b01-1b7c7c4ecb67\",\"type\":\"BasicTickFormatter\"},{\"attributes\":{\"data_source\":{\"id\":\"6fa429f3-4a77-4e75-86c3-748a6061bfe5\",\"type\":\"ColumnDataSource\"},\"glyph\":{\"id\":\"153d3682-fc3b-46f3-b611-d28ce3eb9175\",\"type\":\"Circle\"},\"hover_glyph\":null,\"muted_glyph\":null,\"nonselection_glyph\":{\"id\":\"077b905c-395d-4832-8dc5-56d03c8c39e4\",\"type\":\"Circle\"},\"selection_glyph\":null,\"view\":{\"id\":\"4d2d7160-46b6-410f-a75f-bcaaeda91a36\",\"type\":\"CDSView\"}},\"id\":\"90b2e11e-bfea-4a19-a482-a624e40cfd57\",\"type\":\"GlyphRenderer\"},{\"attributes\":{\"plot\":null,\"text\":\"\"},\"id\":\"9ed333a6-a7c7-4480-8a21-2b536bd9f8a4\",\"type\":\"Title\"}],\"root_ids\":[\"dd7b4eca-39fe-44d0-9c27-a6a40f60ff77\"]},\"title\":\"Bokeh Application\",\"version\":\"0.12.13\"}};\n",
       "  var render_items = [{\"docid\":\"5174bbfd-3ffe-4a59-9315-fe0c1f94fc2a\",\"elementid\":\"95c883c9-6ca7-4c24-b0f5-eb93451ed77c\",\"modelid\":\"dd7b4eca-39fe-44d0-9c27-a6a40f60ff77\"}];\n",
       "  root.Bokeh.embed.embed_items_notebook(docs_json, render_items);\n",
       "\n",
       "  }\n",
       "  if (root.Bokeh !== undefined) {\n",
       "    embed_document(root);\n",
       "  } else {\n",
       "    var attempts = 0;\n",
       "    var timer = setInterval(function(root) {\n",
       "      if (root.Bokeh !== undefined) {\n",
       "        embed_document(root);\n",
       "        clearInterval(timer);\n",
       "      }\n",
       "      attempts++;\n",
       "      if (attempts > 100) {\n",
       "        console.log(\"Bokeh: ERROR: Unable to run BokehJS code because BokehJS library is missing\")\n",
       "        clearInterval(timer);\n",
       "      }\n",
       "    }, 10, root)\n",
       "  }\n",
       "})(window);"
      ],
      "application/vnd.bokehjs_exec.v0+json": ""
     },
     "metadata": {
      "application/vnd.bokehjs_exec.v0+json": {
       "id": "dd7b4eca-39fe-44d0-9c27-a6a40f60ff77"
      }
     },
     "output_type": "display_data"
    }
   ],
   "source": [
    "from bokeh.plotting import figure, output_file, show\n",
    "\n",
    "# Outuput\n",
    "output_file(\"Bokeh-Grafico-Circulos.html\")\n",
    "\n",
    "p = figure(plot_width = 400, plot_height = 400)\n",
    "\n",
    "# Adicionando círculos ao gráfico\n",
    "p.circle([1, 2, 3, 4, 5], [6, 7, 2, 4, 5], size = 20, color = \"navy\", alpha = 0.5)\n",
    "\n",
    "# Mostrando o resultado\n",
    "show(p)"
   ]
  },
  {
   "cell_type": "markdown",
   "metadata": {},
   "source": [
    "## Gráfico com Dados Geofísicos"
   ]
  },
  {
   "cell_type": "code",
   "execution_count": 11,
   "metadata": {},
   "outputs": [
    {
     "data": {
      "text/html": [
       "\n",
       "<div class=\"bk-root\">\n",
       "    <div class=\"bk-plotdiv\" id=\"824edb01-5856-434c-8b89-24887673fe55\"></div>\n",
       "</div>"
      ]
     },
     "metadata": {},
     "output_type": "display_data"
    },
    {
     "data": {
      "application/javascript": [
       "(function(root) {\n",
       "  function embed_document(root) {\n",
       "    \n",
       "  var docs_json = {\"16eecfdd-51dc-4dda-8ec0-e5c0b70bb9e4\":{\"roots\":{\"references\":[{\"attributes\":{\"plot\":{\"id\":\"cd56f037-1314-44f9-a8f7-b7edd83bbe2e\",\"subtype\":\"Figure\",\"type\":\"Plot\"},\"ticker\":{\"id\":\"d0ff9b63-85c4-4880-afe7-af86fa35692a\",\"type\":\"BasicTicker\"}},\"id\":\"4f65db05-374b-41cf-8eeb-ed7f47a7da7f\",\"type\":\"Grid\"},{\"attributes\":{},\"id\":\"f06d1127-826a-4fa3-bc30-5961beb8e5f6\",\"type\":\"ResetTool\"},{\"attributes\":{},\"id\":\"04667320-3e49-4f28-b970-86ce1cf131e5\",\"type\":\"LinearScale\"},{\"attributes\":{},\"id\":\"426de8d5-6fbd-4e37-838c-f9aa175af76c\",\"type\":\"BasicTicker\"},{\"attributes\":{},\"id\":\"0df84ada-eaca-4211-8d21-90be49c3d537\",\"type\":\"BasicTickFormatter\"},{\"attributes\":{\"active_drag\":\"auto\",\"active_inspect\":\"auto\",\"active_scroll\":\"auto\",\"active_tap\":\"auto\",\"tools\":[{\"id\":\"f6b5a9f0-173a-4f19-854f-f3c60b858eb2\",\"type\":\"PanTool\"},{\"id\":\"a0ad4211-11d6-4b5c-a217-a274f410157c\",\"type\":\"WheelZoomTool\"},{\"id\":\"073673ac-237f-4b72-b073-acca9558505f\",\"type\":\"BoxZoomTool\"},{\"id\":\"9cf6d186-6654-462c-a086-2d000e8d19df\",\"type\":\"SaveTool\"},{\"id\":\"f06d1127-826a-4fa3-bc30-5961beb8e5f6\",\"type\":\"ResetTool\"},{\"id\":\"78aa58f1-7358-4509-9194-d7885ee79ed3\",\"type\":\"HelpTool\"}]},\"id\":\"85a5dd72-59ca-4533-9d7c-5ec8d11951b5\",\"type\":\"Toolbar\"},{\"attributes\":{},\"id\":\"a0ad4211-11d6-4b5c-a217-a274f410157c\",\"type\":\"WheelZoomTool\"},{\"attributes\":{},\"id\":\"9cf6d186-6654-462c-a086-2d000e8d19df\",\"type\":\"SaveTool\"},{\"attributes\":{},\"id\":\"d0ff9b63-85c4-4880-afe7-af86fa35692a\",\"type\":\"BasicTicker\"},{\"attributes\":{},\"id\":\"78aa58f1-7358-4509-9194-d7885ee79ed3\",\"type\":\"HelpTool\"},{\"attributes\":{\"callback\":null,\"geojson\":\"{\\\"type\\\":\\\"FeatureCollection\\\",\\\"features\\\":[{\\\"type\\\":\\\"Feature\\\",\\\"id\\\":\\\"463098\\\",\\\"geometry\\\":{\\\"type\\\":\\\"Point\\\",\\\"coordinates\\\":[-2.1208465099334717,51.4613151550293]},\\\"properties\\\":{\\\"OrganisationCode\\\":\\\"Q64\\\",\\\"OrganisationType\\\":\\\"Area Team\\\",\\\"SubType\\\":\\\"UNKNOWN\\\",\\\"OrganisationStatus\\\":\\\"Visible\\\",\\\"IsPimsManaged\\\":\\\"True\\\",\\\"OrganisationName\\\":\\\"Bath, Gloucestershire, Swindon And Wiltshire Area Team\\\",\\\"Address1\\\":\\\"1st Floor\\\",\\\"Address2\\\":\\\"Bewley House\\\",\\\"Address3\\\":\\\"Marshfield Road\\\",\\\"City\\\":\\\"Chippenham\\\",\\\"County\\\":\\\"Wiltshire\\\",\\\"Postcode\\\":\\\"SN15 1JW\\\",\\\"Phone\\\":\\\"0113 8251 500\\\",\\\"Email\\\":\\\"england.contactus@nhs.net\\\",\\\"Website\\\":\\\"http://www.england.nhs.uk/south/south/bgsw-at/\\\"}},{\\\"type\\\":\\\"Feature\\\",\\\"id\\\":\\\"463099\\\",\\\"geometry\\\":{\\\"type\\\":\\\"Point\\\",\\\"coordinates\\\":[-2.5929524898529053,51.459877014160156]},\\\"properties\\\":{\\\"OrganisationCode\\\":\\\"Q65\\\",\\\"OrganisationType\\\":\\\"Area Team\\\",\\\"SubType\\\":\\\"UNKNOWN\\\",\\\"OrganisationStatus\\\":\\\"Visible\\\",\\\"IsPimsManaged\\\":\\\"True\\\",\\\"OrganisationName\\\":\\\"Bristol, North Somerset, Somerset And South Gloucestershire Area Team\\\",\\\"Address1\\\":\\\"South Plaza\\\",\\\"Address3\\\":\\\"Marlborough Street\\\",\\\"City\\\":\\\"Bristol\\\",\\\"County\\\":\\\"Somerset\\\",\\\"Postcode\\\":\\\"BS1 3NX\\\",\\\"Phone\\\":\\\"0117 976 6600\\\",\\\"Email\\\":\\\"england.contactus@nhs.net\\\",\\\"Website\\\":\\\"http://www.england.nhs.uk/south/south/bnsssg-at/\\\"}},{\\\"type\\\":\\\"Feature\\\",\\\"id\\\":\\\"463100\\\",\\\"geometry\\\":{\\\"type\\\":\\\"Point\\\",\\\"coordinates\\\":[-4.232546806335449,50.42112731933594]},\\\"properties\\\":{\\\"OrganisationCode\\\":\\\"Q66\\\",\\\"OrganisationType\\\":\\\"Area Team\\\",\\\"SubType\\\":\\\"UNKNOWN\\\",\\\"OrganisationStatus\\\":\\\"Visible\\\",\\\"IsPimsManaged\\\":\\\"True\\\",\\\"OrganisationName\\\":\\\"Devon, Cornwall And Isles Of Scilly Area Team\\\",\\\"Address1\\\":\\\"Peninsula House\\\",\\\"Address2\\\":\\\"Kingsmill Road\\\",\\\"Address3\\\":\\\"Tamar View Industrial Estate\\\",\\\"City\\\":\\\"Cornwall\\\",\\\"County\\\":\\\"Cornwall\\\",\\\"Postcode\\\":\\\"PL12 6LE\\\",\\\"Phone\\\":\\\"01752 679250\\\",\\\"Email\\\":\\\"england.contactus@nhs.net\\\",\\\"Website\\\":\\\"http://www.england.nhs.uk/south/south/dcis-at/\\\"}},{\\\"type\\\":\\\"Feature\\\",\\\"id\\\":\\\"463101\\\",\\\"geometry\\\":{\\\"type\\\":\\\"Point\\\",\\\"coordinates\\\":[0.27698493003845215,51.193748474121094]},\\\"properties\\\":{\\\"OrganisationCode\\\":\\\"Q67\\\",\\\"OrganisationType\\\":\\\"Area Team\\\",\\\"SubType\\\":\\\"UNKNOWN\\\",\\\"OrganisationStatus\\\":\\\"Visible\\\",\\\"IsPimsManaged\\\":\\\"True\\\",\\\"OrganisationName\\\":\\\"Kent And Medway Area Team\\\",\\\"Address1\\\":\\\"Wharf House\\\",\\\"Address2\\\":\\\"Medway Wharf Road\\\",\\\"City\\\":\\\"Tonbridge\\\",\\\"County\\\":\\\"Kent\\\",\\\"Postcode\\\":\\\"TN9 1RE\\\",\\\"Phone\\\":\\\"01732 375200\\\",\\\"Email\\\":\\\"england.kentandmedwaybusinessoffice@nhs.net\\\",\\\"Website\\\":\\\"http://www.england.nhs.uk/south/south/km-at/\\\"}},{\\\"type\\\":\\\"Feature\\\",\\\"id\\\":\\\"463102\\\",\\\"geometry\\\":{\\\"type\\\":\\\"Point\\\",\\\"coordinates\\\":[-0.1647440642118454,51.170936584472656]},\\\"properties\\\":{\\\"OrganisationCode\\\":\\\"Q68\\\",\\\"OrganisationType\\\":\\\"Area Team\\\",\\\"SubType\\\":\\\"UNKNOWN\\\",\\\"OrganisationStatus\\\":\\\"Visible\\\",\\\"IsPimsManaged\\\":\\\"True\\\",\\\"OrganisationName\\\":\\\"Surrey And Sussex Area Team\\\",\\\"Address1\\\":\\\"York House\\\",\\\"Address2\\\":\\\"18-20 Massetts Road\\\",\\\"City\\\":\\\"Horley\\\",\\\"County\\\":\\\"Surrey\\\",\\\"Postcode\\\":\\\"RH6 7DE\\\",\\\"Phone\\\":\\\"01293 778899\\\",\\\"Email\\\":\\\"england.surreyandsussex-businessoffice@nhs.net\\\",\\\"Website\\\":\\\"http://www.england.nhs.uk/south/south/ss-at/\\\"}},{\\\"type\\\":\\\"Feature\\\",\\\"id\\\":\\\"463103\\\",\\\"geometry\\\":{\\\"type\\\":\\\"Point\\\",\\\"coordinates\\\":[-1.2079498767852783,51.72844696044922]},\\\"properties\\\":{\\\"OrganisationCode\\\":\\\"Q69\\\",\\\"OrganisationType\\\":\\\"Area Team\\\",\\\"SubType\\\":\\\"UNKNOWN\\\",\\\"OrganisationStatus\\\":\\\"Visible\\\",\\\"IsPimsManaged\\\":\\\"True\\\",\\\"OrganisationName\\\":\\\"Thames Valley Area Team\\\",\\\"Address1\\\":\\\"Jubilee House\\\",\\\"Address2\\\":\\\"5510 John Smith Drive\\\",\\\"Address3\\\":\\\"Oxford Business Park South\\\",\\\"City\\\":\\\"Cowley\\\",\\\"County\\\":\\\"Oxfordshire\\\",\\\"Postcode\\\":\\\"OX4 2LH\\\",\\\"Phone\\\":\\\"01865 963800\\\",\\\"Email\\\":\\\"england.contactus@nhs.net\\\",\\\"Website\\\":\\\"http://www.england.nhs.uk/south/south/tv-at/\\\"}},{\\\"type\\\":\\\"Feature\\\",\\\"id\\\":\\\"463104\\\",\\\"geometry\\\":{\\\"type\\\":\\\"Point\\\",\\\"coordinates\\\":[-1.4493359327316284,50.92325973510742]},\\\"properties\\\":{\\\"OrganisationCode\\\":\\\"Q70\\\",\\\"OrganisationType\\\":\\\"Area Team\\\",\\\"SubType\\\":\\\"UNKNOWN\\\",\\\"OrganisationStatus\\\":\\\"Visible\\\",\\\"IsPimsManaged\\\":\\\"True\\\",\\\"OrganisationName\\\":\\\"Wessex Area Team\\\",\\\"Address2\\\":\\\"Oakley Road\\\",\\\"City\\\":\\\"Southampton\\\",\\\"County\\\":\\\"Hampshire\\\",\\\"Postcode\\\":\\\"SO16 4GX\\\",\\\"Phone\\\":\\\"023 8029 6914\\\",\\\"Email\\\":\\\"england.wessexpatientexperience@nhs.net\\\",\\\"Website\\\":\\\"http://www.england.nhs.uk/south/south/w-at/\\\"}},{\\\"type\\\":\\\"Feature\\\",\\\"id\\\":\\\"463105\\\",\\\"geometry\\\":{\\\"type\\\":\\\"Point\\\",\\\"coordinates\\\":[-0.13727261126041412,51.49694061279297]},\\\"properties\\\":{\\\"OrganisationCode\\\":\\\"Q71\\\",\\\"OrganisationType\\\":\\\"Area Team\\\",\\\"SubType\\\":\\\"UNKNOWN\\\",\\\"OrganisationStatus\\\":\\\"Visible\\\",\\\"IsPimsManaged\\\":\\\"True\\\",\\\"OrganisationName\\\":\\\"London Area Team\\\",\\\"Address2\\\":\\\"2nd Floor, Southside\\\",\\\"Address3\\\":\\\"105 Victoria Street\\\",\\\"City\\\":\\\"London\\\",\\\"Postcode\\\":\\\"SW1E 6QT\\\",\\\"Phone\\\":\\\"0207 932 3700\\\",\\\"Email\\\":\\\"england.contactus@nhs.net\\\",\\\"Website\\\":\\\"http://www.england.nhs.uk/london/\\\"}},{\\\"type\\\":\\\"Feature\\\",\\\"id\\\":\\\"463120\\\",\\\"geometry\\\":{\\\"type\\\":\\\"Point\\\",\\\"coordinates\\\":[-2.5846381187438965,53.37392807006836]},\\\"properties\\\":{\\\"OrganisationCode\\\":\\\"Q44\\\",\\\"OrganisationType\\\":\\\"Area Team\\\",\\\"SubType\\\":\\\"UNKNOWN\\\",\\\"OrganisationStatus\\\":\\\"Visible\\\",\\\"IsPimsManaged\\\":\\\"True\\\",\\\"OrganisationName\\\":\\\"Cheshire, Warrington And Wirral Area Team\\\",\\\"Address1\\\":\\\"NHS Quayside (NHS North West)\\\",\\\"Address2\\\":\\\"Wilderspool Park\\\",\\\"Address3\\\":\\\"Greensall Avenue\\\",\\\"City\\\":\\\"Warrington\\\",\\\"County\\\":\\\"Cheshire\\\",\\\"Postcode\\\":\\\"WA4 6HL\\\",\\\"Phone\\\":\\\"01925 406000\\\",\\\"Email\\\":\\\"england.contactus@nhs.net\\\",\\\"Website\\\":\\\"http://www.england.nhs.uk/north/north/cww-at/\\\"}},{\\\"type\\\":\\\"Feature\\\",\\\"id\\\":\\\"463121\\\",\\\"geometry\\\":{\\\"type\\\":\\\"Point\\\",\\\"coordinates\\\":[-1.5323498249053955,53.79779815673828]},\\\"properties\\\":{\\\"OrganisationCode\\\":\\\"Q45\\\",\\\"OrganisationType\\\":\\\"Area Team\\\",\\\"SubType\\\":\\\"UNKNOWN\\\",\\\"OrganisationStatus\\\":\\\"Visible\\\",\\\"IsPimsManaged\\\":\\\"True\\\",\\\"OrganisationName\\\":\\\"Durham, Darlington And Tees Area Team\\\",\\\"Address1\\\":\\\"The Old Exchange\\\",\\\"Address2\\\":\\\"Barnard Street\\\",\\\"City\\\":\\\"Darlington\\\",\\\"County\\\":\\\"Durham\\\",\\\"Postcode\\\":\\\"LS2 7UE\\\",\\\"Phone\\\":\\\"0113 825 1609\\\",\\\"Email\\\":\\\"england.ddt-at-generalenquiries@nhs.net\\\",\\\"Website\\\":\\\"http://www.england.nhs.uk/north/north/ddt-at/\\\"}},{\\\"type\\\":\\\"Feature\\\",\\\"id\\\":\\\"463122\\\",\\\"geometry\\\":{\\\"type\\\":\\\"Point\\\",\\\"coordinates\\\":[-2.233488082885742,53.47760009765625]},\\\"properties\\\":{\\\"OrganisationCode\\\":\\\"Q46\\\",\\\"OrganisationType\\\":\\\"Area Team\\\",\\\"SubType\\\":\\\"UNKNOWN\\\",\\\"OrganisationStatus\\\":\\\"Visible\\\",\\\"IsPimsManaged\\\":\\\"True\\\",\\\"OrganisationName\\\":\\\"Greater Manchester Area Team\\\",\\\"Address1\\\":\\\"4th Floor\\\",\\\"Address2\\\":\\\"3 Picadilly Place\\\",\\\"Address3\\\":\\\"London Road\\\",\\\"City\\\":\\\"Manchester\\\",\\\"County\\\":\\\"Lancashire\\\",\\\"Postcode\\\":\\\"M1 3BN\\\",\\\"Phone\\\":\\\"0845 0500194\\\",\\\"Email\\\":\\\"nhse.gmat@nhs.net\\\",\\\"Website\\\":\\\"http://www.england.nhs.uk/north/north/gm-at/\\\"}},{\\\"type\\\":\\\"Feature\\\",\\\"id\\\":\\\"463123\\\",\\\"geometry\\\":{\\\"type\\\":\\\"Point\\\",\\\"coordinates\\\":[-2.705566644668579,53.77775573730469]},\\\"properties\\\":{\\\"OrganisationCode\\\":\\\"Q47\\\",\\\"OrganisationType\\\":\\\"Area Team\\\",\\\"SubType\\\":\\\"UNKNOWN\\\",\\\"OrganisationStatus\\\":\\\"Visible\\\",\\\"IsPimsManaged\\\":\\\"True\\\",\\\"OrganisationName\\\":\\\"Lancashire Area Team\\\",\\\"Address1\\\":\\\"Second Floor, Preston Business Centre\\\",\\\"Address2\\\":\\\"Watling Street Road\\\",\\\"Address3\\\":\\\"Fulwood\\\",\\\"City\\\":\\\"Preston\\\",\\\"County\\\":\\\"Lancashire\\\",\\\"Postcode\\\":\\\"PR2 8DY\\\",\\\"Phone\\\":\\\"01772 420150\\\",\\\"Email\\\":\\\"england.contactus@nhs.net\\\",\\\"Website\\\":\\\"http://www.england.nhs.uk/north/north/lanc-at/\\\"}},{\\\"type\\\":\\\"Feature\\\",\\\"id\\\":\\\"463124\\\",\\\"geometry\\\":{\\\"type\\\":\\\"Point\\\",\\\"coordinates\\\":[-2.9802029132843018,53.38481903076172]},\\\"properties\\\":{\\\"OrganisationCode\\\":\\\"Q48\\\",\\\"OrganisationType\\\":\\\"Area Team\\\",\\\"SubType\\\":\\\"UNKNOWN\\\",\\\"OrganisationStatus\\\":\\\"Visible\\\",\\\"IsPimsManaged\\\":\\\"True\\\",\\\"OrganisationName\\\":\\\"Merseyside Area Team\\\",\\\"Address1\\\":\\\"Regatta Place\\\",\\\"Address2\\\":\\\"Summers Road\\\",\\\"Address3\\\":\\\"Brunswick Business Park\\\",\\\"City\\\":\\\"Liverpool\\\",\\\"County\\\":\\\"Merseyside\\\",\\\"Postcode\\\":\\\"L3 4BL\\\",\\\"Phone\\\":\\\"0151 285 4777\\\",\\\"Email\\\":\\\"england.contactus@nhs.net\\\",\\\"Website\\\":\\\"http://www.england.nhs.uk/north/north/mers-at/\\\"}},{\\\"type\\\":\\\"Feature\\\",\\\"id\\\":\\\"463125\\\",\\\"geometry\\\":{\\\"type\\\":\\\"Point\\\",\\\"coordinates\\\":[-1.7141016721725464,54.96938705444336]},\\\"properties\\\":{\\\"OrganisationCode\\\":\\\"Q49\\\",\\\"OrganisationType\\\":\\\"Area Team\\\",\\\"SubType\\\":\\\"UNKNOWN\\\",\\\"OrganisationStatus\\\":\\\"Visible\\\",\\\"IsPimsManaged\\\":\\\"True\\\",\\\"OrganisationName\\\":\\\"Cumbria, Northumberland, Tyne And Wear Area Team\\\",\\\"Address1\\\":\\\"Waterfront\\\",\\\"Address2\\\":\\\"4 Goldcrest Way\\\",\\\"Address3\\\":\\\"Newburn\\\",\\\"City\\\":\\\"Newcastle Upon Tyne\\\",\\\"County\\\":\\\"Tyne and Wear\\\",\\\"Postcode\\\":\\\"NE15 8NY\\\",\\\"Phone\\\":\\\"01912 106400\\\",\\\"Email\\\":\\\"england.contactus@nhs.net\\\",\\\"Website\\\":\\\"http://www.england.nhs.uk/north/north/cntw-at/\\\"}},{\\\"type\\\":\\\"Feature\\\",\\\"id\\\":\\\"463126\\\",\\\"geometry\\\":{\\\"type\\\":\\\"Point\\\",\\\"coordinates\\\":[-1.0497655868530273,53.989986419677734]},\\\"properties\\\":{\\\"OrganisationCode\\\":\\\"Q50\\\",\\\"OrganisationType\\\":\\\"Area Team\\\",\\\"SubType\\\":\\\"UNKNOWN\\\",\\\"OrganisationStatus\\\":\\\"Visible\\\",\\\"IsPimsManaged\\\":\\\"True\\\",\\\"OrganisationName\\\":\\\"North Yorkshire And Humber Area Team\\\",\\\"Address1\\\":\\\"Unit 3\\\",\\\"Address2\\\":\\\"Alpha Court\\\",\\\"Address3\\\":\\\"Monks Cross\\\",\\\"City\\\":\\\"York\\\",\\\"County\\\":\\\"North Yorkshire\\\",\\\"Postcode\\\":\\\"YO32 9WN\\\",\\\"Phone\\\":\\\"0113 825 1845\\\",\\\"Email\\\":\\\"england.contactus@nhs.net\\\",\\\"Website\\\":\\\"http://www.england.nhs.uk/north/north/nyh-at/\\\"}},{\\\"type\\\":\\\"Feature\\\",\\\"id\\\":\\\"463127\\\",\\\"geometry\\\":{\\\"type\\\":\\\"Point\\\",\\\"coordinates\\\":[-1.2550956010818481,53.42157745361328]},\\\"properties\\\":{\\\"OrganisationCode\\\":\\\"Q51\\\",\\\"OrganisationType\\\":\\\"Area Team\\\",\\\"SubType\\\":\\\"UNKNOWN\\\",\\\"OrganisationStatus\\\":\\\"Visible\\\",\\\"IsPimsManaged\\\":\\\"True\\\",\\\"OrganisationName\\\":\\\"South Yorkshire And Bassetlaw Area Team\\\",\\\"Address1\\\":\\\"Oak House\\\",\\\"Address2\\\":\\\"Moorhead Way\\\",\\\"Address3\\\":\\\"Bramley\\\",\\\"City\\\":\\\"Rotherham\\\",\\\"County\\\":\\\"South Yorkshire\\\",\\\"Postcode\\\":\\\"S66 1YY\\\",\\\"Phone\\\":\\\"01709 302000\\\",\\\"Email\\\":\\\"england.syb-businessoffice@nhs.net\\\",\\\"Website\\\":\\\"http://www.england.nhs.uk/north/north/syb-at/\\\"}},{\\\"type\\\":\\\"Feature\\\",\\\"id\\\":\\\"463128\\\",\\\"geometry\\\":{\\\"type\\\":\\\"Point\\\",\\\"coordinates\\\":[-1.544582486152649,53.78975296020508]},\\\"properties\\\":{\\\"OrganisationCode\\\":\\\"Q52\\\",\\\"OrganisationType\\\":\\\"Area Team\\\",\\\"SubType\\\":\\\"UNKNOWN\\\",\\\"OrganisationStatus\\\":\\\"Visible\\\",\\\"IsPimsManaged\\\":\\\"True\\\",\\\"OrganisationName\\\":\\\"West Yorkshire Area Team\\\",\\\"Address1\\\":\\\"3 Leeds City Office Park\\\",\\\"Address2\\\":\\\"Meadow Lane\\\",\\\"City\\\":\\\"Leeds\\\",\\\"County\\\":\\\"West Yorkshire\\\",\\\"Postcode\\\":\\\"LS11 5BD\\\",\\\"Phone\\\":\\\"0113 8252700\\\",\\\"Email\\\":\\\"reception.westyorkshireareateam@nhs.net\\\",\\\"Website\\\":\\\"http://www.england.nhs.uk/north/north/wy-at/\\\"}},{\\\"type\\\":\\\"Feature\\\",\\\"id\\\":\\\"463129\\\",\\\"geometry\\\":{\\\"type\\\":\\\"Point\\\",\\\"coordinates\\\":[-2.1813161373138428,52.18680953979492]},\\\"properties\\\":{\\\"OrganisationCode\\\":\\\"Q53\\\",\\\"OrganisationType\\\":\\\"Area Team\\\",\\\"SubType\\\":\\\"UNKNOWN\\\",\\\"OrganisationStatus\\\":\\\"Visible\\\",\\\"IsPimsManaged\\\":\\\"True\\\",\\\"OrganisationName\\\":\\\"Arden, Herefordshire And Worcestershire Area Team\\\",\\\"Address2\\\":\\\"Wildwood\\\",\\\"Address3\\\":\\\"Wildwood Drive\\\",\\\"City\\\":\\\"Worcester\\\",\\\"County\\\":\\\"Worcestershire\\\",\\\"Postcode\\\":\\\"WR5 2LG\\\",\\\"Phone\\\":\\\"0113 825 3099\\\",\\\"Email\\\":\\\"england.contactus@nhs.net\\\",\\\"Website\\\":\\\"http://www.england.nhs.uk/mids-east/mids-east-3/ahw-at/\\\"}},{\\\"type\\\":\\\"Feature\\\",\\\"id\\\":\\\"463130\\\",\\\"geometry\\\":{\\\"type\\\":\\\"Point\\\",\\\"coordinates\\\":[-1.9351675510406494,52.471920013427734]},\\\"properties\\\":{\\\"OrganisationCode\\\":\\\"Q54\\\",\\\"OrganisationType\\\":\\\"Area Team\\\",\\\"SubType\\\":\\\"UNKNOWN\\\",\\\"OrganisationStatus\\\":\\\"Visible\\\",\\\"IsPimsManaged\\\":\\\"True\\\",\\\"OrganisationName\\\":\\\"Birmingham And The Black Country Area Team\\\",\\\"Address1\\\":\\\"St Chads Court\\\",\\\"Address2\\\":\\\"213 Hagley Road\\\",\\\"Address3\\\":\\\"Edgbaston\\\",\\\"City\\\":\\\"Birmingham\\\",\\\"County\\\":\\\"West Midlands\\\",\\\"Postcode\\\":\\\"B16 9RG\\\",\\\"Phone\\\":\\\"0121 695 2222\\\",\\\"Email\\\":\\\"england.contactus@nhs.net\\\",\\\"Website\\\":\\\"http://www.england.nhs.uk/mids-east/mids-east-3/bsbc-at/\\\"}},{\\\"type\\\":\\\"Feature\\\",\\\"id\\\":\\\"463131\\\",\\\"geometry\\\":{\\\"type\\\":\\\"Point\\\",\\\"coordinates\\\":[-1.1435775756835938,53.12958526611328]},\\\"properties\\\":{\\\"OrganisationCode\\\":\\\"Q55\\\",\\\"OrganisationType\\\":\\\"Area Team\\\",\\\"SubType\\\":\\\"UNKNOWN\\\",\\\"OrganisationStatus\\\":\\\"Visible\\\",\\\"IsPimsManaged\\\":\\\"True\\\",\\\"OrganisationName\\\":\\\"Derbyshire And Nottinghamshire Area Team\\\",\\\"Address1\\\":\\\"Birch House\\\",\\\"Address2\\\":\\\"Ransom Wood Business Park\\\",\\\"Address3\\\":\\\"Southwell Road West, Rainworth\\\",\\\"City\\\":\\\"Nottingham\\\",\\\"County\\\":\\\"Nottinghamshire\\\",\\\"Postcode\\\":\\\"NG21 0HJ\\\",\\\"Phone\\\":\\\"0300 300 1234\\\",\\\"Email\\\":\\\"england.contactus@nhs.net\\\",\\\"Website\\\":\\\"http://www.england.nhs.uk/mids-east/mids-east-3/dn-at/\\\"}},{\\\"type\\\":\\\"Feature\\\",\\\"id\\\":\\\"463132\\\",\\\"geometry\\\":{\\\"type\\\":\\\"Point\\\",\\\"coordinates\\\":[0.19126050174236298,52.18547821044922]},\\\"properties\\\":{\\\"OrganisationCode\\\":\\\"Q56\\\",\\\"OrganisationType\\\":\\\"Area Team\\\",\\\"SubType\\\":\\\"UNKNOWN\\\",\\\"OrganisationStatus\\\":\\\"Visible\\\",\\\"IsPimsManaged\\\":\\\"True\\\",\\\"OrganisationName\\\":\\\"East Anglia Area Team\\\",\\\"Address1\\\":\\\"CPC1\\\",\\\"Address2\\\":\\\"Capital Business Park\\\",\\\"Address3\\\":\\\"Fulbourn\\\",\\\"City\\\":\\\"Cambridge\\\",\\\"County\\\":\\\"Cambridgeshire\\\",\\\"Postcode\\\":\\\"CB21 5XE\\\",\\\"Phone\\\":\\\"01223 708700\\\",\\\"Email\\\":\\\"england.contactus@nhs.net\\\",\\\"Website\\\":\\\"http://www.england.nhs.uk/mids-east/mids-east-3/ea-at/\\\"}},{\\\"type\\\":\\\"Feature\\\",\\\"id\\\":\\\"463133\\\",\\\"geometry\\\":{\\\"type\\\":\\\"Point\\\",\\\"coordinates\\\":[0.5076583027839661,51.74932098388672]},\\\"properties\\\":{\\\"OrganisationCode\\\":\\\"Q57\\\",\\\"OrganisationType\\\":\\\"Area Team\\\",\\\"SubType\\\":\\\"UNKNOWN\\\",\\\"OrganisationStatus\\\":\\\"Visible\\\",\\\"IsPimsManaged\\\":\\\"True\\\",\\\"OrganisationName\\\":\\\"Essex Area Team\\\",\\\"Address1\\\":\\\"Swift House\\\",\\\"Address2\\\":\\\"Hedgerows Business Park\\\",\\\"Address3\\\":\\\"Colchester Road, Springfield\\\",\\\"City\\\":\\\"Chelmsford\\\",\\\"County\\\":\\\"Essex\\\",\\\"Postcode\\\":\\\"CM2 5PF\\\",\\\"Phone\\\":\\\"01245 398770\\\",\\\"Email\\\":\\\"england.contactus@nhs.net\\\",\\\"Website\\\":\\\"http://www.england.nhs.uk/mids-east/mids-east-3/essex-at/\\\"}},{\\\"type\\\":\\\"Feature\\\",\\\"id\\\":\\\"463134\\\",\\\"geometry\\\":{\\\"type\\\":\\\"Point\\\",\\\"coordinates\\\":[-0.20884820818901062,51.8019905090332]},\\\"properties\\\":{\\\"OrganisationCode\\\":\\\"Q58\\\",\\\"OrganisationType\\\":\\\"Area Team\\\",\\\"SubType\\\":\\\"UNKNOWN\\\",\\\"OrganisationStatus\\\":\\\"Visible\\\",\\\"IsPimsManaged\\\":\\\"True\\\",\\\"OrganisationName\\\":\\\"Hertfordshire And The South Midlands Area Team\\\",\\\"Address1\\\":\\\"Charter House\\\",\\\"Address2\\\":\\\"Parkway\\\",\\\"City\\\":\\\"Welwyn Garden City\\\",\\\"County\\\":\\\"Hertfordshire\\\",\\\"Postcode\\\":\\\"AL8 6JL\\\",\\\"Phone\\\":\\\"01707 390855\\\",\\\"Email\\\":\\\"england.contactus@nhs.net\\\",\\\"Website\\\":\\\"http://www.england.nhs.uk/mids-east/mids-east-3/hsm-at/\\\"}},{\\\"type\\\":\\\"Feature\\\",\\\"id\\\":\\\"463135\\\",\\\"geometry\\\":{\\\"type\\\":\\\"Point\\\",\\\"coordinates\\\":[-1.189500093460083,52.593223571777344]},\\\"properties\\\":{\\\"OrganisationCode\\\":\\\"Q59\\\",\\\"OrganisationType\\\":\\\"Area Team\\\",\\\"SubType\\\":\\\"UNKNOWN\\\",\\\"OrganisationStatus\\\":\\\"Visible\\\",\\\"IsPimsManaged\\\":\\\"True\\\",\\\"OrganisationName\\\":\\\"Leicestershire And Lincolnshire Area Team\\\",\\\"Address1\\\":\\\"Fosse House\\\",\\\"Address2\\\":\\\"6 Smith Way\\\",\\\"Address3\\\":\\\"Grove Park, Enderby\\\",\\\"City\\\":\\\"Leicester\\\",\\\"County\\\":\\\"Leicestershire\\\",\\\"Postcode\\\":\\\"LE19 1SX\\\",\\\"Phone\\\":\\\"0116 295 7500\\\",\\\"Email\\\":\\\"england.leicsandlincsareateam@nhs.net\\\",\\\"Website\\\":\\\"http://www.england.nhs.uk/mids-east/mids-east-3/ll-at/\\\"}},{\\\"type\\\":\\\"Feature\\\",\\\"id\\\":\\\"463136\\\",\\\"geometry\\\":{\\\"type\\\":\\\"Point\\\",\\\"coordinates\\\":[-1.9140186309814453,52.7487907409668]},\\\"properties\\\":{\\\"OrganisationCode\\\":\\\"Q60\\\",\\\"OrganisationType\\\":\\\"Area Team\\\",\\\"SubType\\\":\\\"UNKNOWN\\\",\\\"OrganisationStatus\\\":\\\"Visible\\\",\\\"IsPimsManaged\\\":\\\"True\\\",\\\"OrganisationName\\\":\\\"Shropshire And Staffordshire Area Team\\\",\\\"Address1\\\":\\\"Anglesey House,\\\",\\\"Address2\\\":\\\"Wheelhouse Road,\\\",\\\"Address3\\\":\\\"Towers Plaza,\\\",\\\"City\\\":\\\"Rugeley,\\\",\\\"County\\\":\\\"Staffordshire\\\",\\\"Postcode\\\":\\\"WS15 1UL\\\",\\\"Phone\\\":\\\"0300 7900233\\\",\\\"Email\\\":\\\"england.contactus@nhs.net\\\",\\\"Website\\\":\\\"http://www.england.nhs.uk/mids-east/mids-east-3/ss-at/\\\"}}]}\\n\"},\"id\":\"bf13468e-9ba9-408c-aaae-91f6d9aa4f14\",\"type\":\"GeoJSONDataSource\"},{\"attributes\":{\"bottom_units\":\"screen\",\"fill_alpha\":{\"value\":0.5},\"fill_color\":{\"value\":\"lightgrey\"},\"left_units\":\"screen\",\"level\":\"overlay\",\"line_alpha\":{\"value\":1.0},\"line_color\":{\"value\":\"black\"},\"line_dash\":[4,4],\"line_width\":{\"value\":2},\"plot\":null,\"render_mode\":\"css\",\"right_units\":\"screen\",\"top_units\":\"screen\"},\"id\":\"4d0edc9e-3975-4937-9400-ac8616b888d7\",\"type\":\"BoxAnnotation\"},{\"attributes\":{\"formatter\":{\"id\":\"0df84ada-eaca-4211-8d21-90be49c3d537\",\"type\":\"BasicTickFormatter\"},\"plot\":{\"id\":\"cd56f037-1314-44f9-a8f7-b7edd83bbe2e\",\"subtype\":\"Figure\",\"type\":\"Plot\"},\"ticker\":{\"id\":\"426de8d5-6fbd-4e37-838c-f9aa175af76c\",\"type\":\"BasicTicker\"}},\"id\":\"dbc8dd4c-b18e-4490-ae7a-fd3cfd82193d\",\"type\":\"LinearAxis\"},{\"attributes\":{\"formatter\":{\"id\":\"c37669d1-753f-47d2-a240-d4056405d710\",\"type\":\"BasicTickFormatter\"},\"plot\":{\"id\":\"cd56f037-1314-44f9-a8f7-b7edd83bbe2e\",\"subtype\":\"Figure\",\"type\":\"Plot\"},\"ticker\":{\"id\":\"d0ff9b63-85c4-4880-afe7-af86fa35692a\",\"type\":\"BasicTicker\"}},\"id\":\"642ad374-2bf4-4726-b930-800212d78263\",\"type\":\"LinearAxis\"},{\"attributes\":{\"plot\":null,\"text\":\"\"},\"id\":\"a2b509c6-45bf-4121-9aea-f70f5bd1af79\",\"type\":\"Title\"},{\"attributes\":{\"data_source\":{\"id\":\"bf13468e-9ba9-408c-aaae-91f6d9aa4f14\",\"type\":\"GeoJSONDataSource\"},\"glyph\":{\"id\":\"4a9c2624-51ca-4bf4-9f28-8a0e9a41baea\",\"type\":\"Circle\"},\"hover_glyph\":null,\"muted_glyph\":null,\"nonselection_glyph\":{\"id\":\"73c31c9b-9113-476a-891d-f23a76b4bd17\",\"type\":\"Circle\"},\"selection_glyph\":null,\"view\":{\"id\":\"90e139e4-f544-4292-becd-48ccde8adc35\",\"type\":\"CDSView\"}},\"id\":\"6913f097-1999-4689-8889-105d08af7d93\",\"type\":\"GlyphRenderer\"},{\"attributes\":{},\"id\":\"c37669d1-753f-47d2-a240-d4056405d710\",\"type\":\"BasicTickFormatter\"},{\"attributes\":{\"fill_alpha\":{\"value\":0.9},\"fill_color\":{\"value\":\"#1f77b4\"},\"line_alpha\":{\"value\":0.9},\"line_color\":{\"value\":\"#1f77b4\"},\"x\":{\"field\":\"x\"},\"y\":{\"field\":\"y\"}},\"id\":\"4a9c2624-51ca-4bf4-9f28-8a0e9a41baea\",\"type\":\"Circle\"},{\"attributes\":{\"source\":{\"id\":\"bf13468e-9ba9-408c-aaae-91f6d9aa4f14\",\"type\":\"GeoJSONDataSource\"}},\"id\":\"90e139e4-f544-4292-becd-48ccde8adc35\",\"type\":\"CDSView\"},{\"attributes\":{},\"id\":\"db0fe391-578c-4c44-ad2c-c4ce34f36986\",\"type\":\"LinearScale\"},{\"attributes\":{\"below\":[{\"id\":\"642ad374-2bf4-4726-b930-800212d78263\",\"type\":\"LinearAxis\"}],\"left\":[{\"id\":\"dbc8dd4c-b18e-4490-ae7a-fd3cfd82193d\",\"type\":\"LinearAxis\"}],\"renderers\":[{\"id\":\"642ad374-2bf4-4726-b930-800212d78263\",\"type\":\"LinearAxis\"},{\"id\":\"4f65db05-374b-41cf-8eeb-ed7f47a7da7f\",\"type\":\"Grid\"},{\"id\":\"dbc8dd4c-b18e-4490-ae7a-fd3cfd82193d\",\"type\":\"LinearAxis\"},{\"id\":\"a0346145-cf33-412e-8377-945fb898b3a4\",\"type\":\"Grid\"},{\"id\":\"4d0edc9e-3975-4937-9400-ac8616b888d7\",\"type\":\"BoxAnnotation\"},{\"id\":\"6913f097-1999-4689-8889-105d08af7d93\",\"type\":\"GlyphRenderer\"}],\"title\":{\"id\":\"a2b509c6-45bf-4121-9aea-f70f5bd1af79\",\"type\":\"Title\"},\"toolbar\":{\"id\":\"85a5dd72-59ca-4533-9d7c-5ec8d11951b5\",\"type\":\"Toolbar\"},\"x_range\":{\"id\":\"de503359-019b-451e-a6dd-52fc41f74a77\",\"type\":\"DataRange1d\"},\"x_scale\":{\"id\":\"db0fe391-578c-4c44-ad2c-c4ce34f36986\",\"type\":\"LinearScale\"},\"y_range\":{\"id\":\"a5e8a336-6f80-48e8-835c-dd9f1b1170a6\",\"type\":\"DataRange1d\"},\"y_scale\":{\"id\":\"04667320-3e49-4f28-b970-86ce1cf131e5\",\"type\":\"LinearScale\"}},\"id\":\"cd56f037-1314-44f9-a8f7-b7edd83bbe2e\",\"subtype\":\"Figure\",\"type\":\"Plot\"},{\"attributes\":{\"callback\":null},\"id\":\"de503359-019b-451e-a6dd-52fc41f74a77\",\"type\":\"DataRange1d\"},{\"attributes\":{\"callback\":null},\"id\":\"a5e8a336-6f80-48e8-835c-dd9f1b1170a6\",\"type\":\"DataRange1d\"},{\"attributes\":{},\"id\":\"f6b5a9f0-173a-4f19-854f-f3c60b858eb2\",\"type\":\"PanTool\"},{\"attributes\":{\"overlay\":{\"id\":\"4d0edc9e-3975-4937-9400-ac8616b888d7\",\"type\":\"BoxAnnotation\"}},\"id\":\"073673ac-237f-4b72-b073-acca9558505f\",\"type\":\"BoxZoomTool\"},{\"attributes\":{\"dimension\":1,\"plot\":{\"id\":\"cd56f037-1314-44f9-a8f7-b7edd83bbe2e\",\"subtype\":\"Figure\",\"type\":\"Plot\"},\"ticker\":{\"id\":\"426de8d5-6fbd-4e37-838c-f9aa175af76c\",\"type\":\"BasicTicker\"}},\"id\":\"a0346145-cf33-412e-8377-945fb898b3a4\",\"type\":\"Grid\"},{\"attributes\":{\"fill_alpha\":{\"value\":0.1},\"fill_color\":{\"value\":\"#1f77b4\"},\"line_alpha\":{\"value\":0.1},\"line_color\":{\"value\":\"#1f77b4\"},\"x\":{\"field\":\"x\"},\"y\":{\"field\":\"y\"}},\"id\":\"73c31c9b-9113-476a-891d-f23a76b4bd17\",\"type\":\"Circle\"}],\"root_ids\":[\"cd56f037-1314-44f9-a8f7-b7edd83bbe2e\"]},\"title\":\"Bokeh Application\",\"version\":\"0.12.13\"}};\n",
       "  var render_items = [{\"docid\":\"16eecfdd-51dc-4dda-8ec0-e5c0b70bb9e4\",\"elementid\":\"824edb01-5856-434c-8b89-24887673fe55\",\"modelid\":\"cd56f037-1314-44f9-a8f7-b7edd83bbe2e\"}];\n",
       "  root.Bokeh.embed.embed_items_notebook(docs_json, render_items);\n",
       "\n",
       "  }\n",
       "  if (root.Bokeh !== undefined) {\n",
       "    embed_document(root);\n",
       "  } else {\n",
       "    var attempts = 0;\n",
       "    var timer = setInterval(function(root) {\n",
       "      if (root.Bokeh !== undefined) {\n",
       "        embed_document(root);\n",
       "        clearInterval(timer);\n",
       "      }\n",
       "      attempts++;\n",
       "      if (attempts > 100) {\n",
       "        console.log(\"Bokeh: ERROR: Unable to run BokehJS code because BokehJS library is missing\")\n",
       "        clearInterval(timer);\n",
       "      }\n",
       "    }, 10, root)\n",
       "  }\n",
       "})(window);"
      ],
      "application/vnd.bokehjs_exec.v0+json": ""
     },
     "metadata": {
      "application/vnd.bokehjs_exec.v0+json": {
       "id": "cd56f037-1314-44f9-a8f7-b7edd83bbe2e"
      }
     },
     "output_type": "display_data"
    }
   ],
   "source": [
    "# Geojson\n",
    "from bokeh.io import output_file, show\n",
    "from bokeh.models import GeoJSONDataSource\n",
    "from bokeh.plotting import figure\n",
    "from bokeh.sampledata.sample_geojson import geojson\n",
    "\n",
    "geo_source = GeoJSONDataSource(geojson=geojson)\n",
    "\n",
    "p = figure()\n",
    "p.circle(x = 'x', y = 'y', alpha = 0.9, source = geo_source)\n",
    "output_file(\"Bokeh-GeoJSON.html\")\n",
    "show(p)"
   ]
  },
  {
   "cell_type": "code",
   "execution_count": null,
   "metadata": {},
   "outputs": [
    {
     "name": "stdout",
     "output_type": "stream",
     "text": [
      "Creating C:\\Users\\thiagoPanini\\.bokeh directory\n",
      "Creating C:\\Users\\thiagoPanini\\.bokeh\\data directory\n",
      "Using data directory: C:\\Users\\thiagoPanini\\.bokeh\\data\n",
      "Downloading: CGM.csv (1589982 bytes)\n",
      "   1589982 [100.00%]\n",
      "Downloading: US_Counties.zip (3182088 bytes)\n",
      "   2801664 [ 88.04%]"
     ]
    }
   ],
   "source": [
    "# Baixando o diretório de dados de exemplo do Bokeh\n",
    "bokeh.sampledata.download()"
   ]
  },
  {
   "cell_type": "code",
   "execution_count": null,
   "metadata": {},
   "outputs": [],
   "source": [
    "from bokeh.io import show\n",
    "from bokeh.models import (ColumnDataSource, HoverTool, LogColorMapper)\n",
    "from bokeh.palettes import Viridis6 as palette\n",
    "from bokeh.plotting import figure\n",
    "from bokeh.sampledata.us_counties import data as counties\n",
    "from bokeh.sampledata.unemployment import data as unemployment\n",
    "\n",
    "palette.reverse()\n",
    "\n",
    "counties = {code: county for code, county in counties.items() if county[\"state\"] == \"tx\"}\n",
    "\n",
    "county_xs = [county[\"lons\"] for county in counties.values()]\n",
    "county_ys = [county[\"lats\"] for county in counties.values()]\n",
    "\n",
    "county_names = [county['name'] for county in counties.values()]\n",
    "county_rates = [unemployment[county_id] for county_id in counties]\n",
    "color_mapper = LogColorMapper(palette=palette)\n",
    "\n",
    "source = ColumnDataSource(data=dict(\n",
    "    x=county_xs,\n",
    "    y=county_ys,\n",
    "    name=county_names,\n",
    "    rate=county_rates,\n",
    "))\n",
    "\n",
    "TOOLS = \"pan,wheel_zoom,reset,hover,save\"\n",
    "\n",
    "p = figure(\n",
    "    title=\"Texas Unemployment, 2009\", tools=TOOLS,\n",
    "    x_axis_location=None, y_axis_location=None\n",
    ")\n",
    "p.grid.grid_line_color = None\n",
    "\n",
    "p.patches('x', 'y', source=source,\n",
    "          fill_color={'field': 'rate', 'transform': color_mapper},\n",
    "          fill_alpha=0.7, line_color=\"white\", line_width=0.5)\n",
    "\n",
    "hover = p.select_one(HoverTool)\n",
    "hover.point_policy = \"follow_mouse\"\n",
    "hover.tooltips = [\n",
    "    (\"Name\", \"@name\"),\n",
    "    (\"Unemployment rate)\", \"@rate%\"),\n",
    "    (\"(Long, Lat)\", \"($x, $y)\"),\n",
    "]\n",
    "\n",
    "show(p)"
   ]
  },
  {
   "cell_type": "markdown",
   "metadata": {},
   "source": [
    "Conheça a Formação Cientista de Dados, um programa completo, 100% online e 100% em português, com 340 horas, mais de 1.200 aulas em vídeos e 26 projetos, que vão ajudá-lo a se tornar um dos profissionais mais cobiçados do mercado de análise de dados. Clique no link abaixo, faça sua inscrição, comece hoje mesmo e aumente sua empregabilidade:\n",
    "\n",
    "https://www.datascienceacademy.com.br/pages/formacao-cientista-de-dados"
   ]
  },
  {
   "cell_type": "markdown",
   "metadata": {},
   "source": [
    "# Fim"
   ]
  },
  {
   "cell_type": "markdown",
   "metadata": {},
   "source": [
    "### Obrigado - Data Science Academy - <a href=http://facebook.com/dsacademy>facebook.com/dsacademybr</a>"
   ]
  }
 ],
 "metadata": {
  "kernelspec": {
   "display_name": "Python 3",
   "language": "python",
   "name": "python3"
  },
  "language_info": {
   "codemirror_mode": {
    "name": "ipython",
    "version": 3
   },
   "file_extension": ".py",
   "mimetype": "text/x-python",
   "name": "python",
   "nbconvert_exporter": "python",
   "pygments_lexer": "ipython3",
   "version": "3.6.4"
  },
  "toc": {
   "base_numbering": 1,
   "nav_menu": {},
   "number_sections": true,
   "sideBar": true,
   "skip_h1_title": false,
   "title_cell": "Table of Contents",
   "title_sidebar": "Contents",
   "toc_cell": false,
   "toc_position": {},
   "toc_section_display": true,
   "toc_window_display": false
  }
 },
 "nbformat": 4,
 "nbformat_minor": 1
}
