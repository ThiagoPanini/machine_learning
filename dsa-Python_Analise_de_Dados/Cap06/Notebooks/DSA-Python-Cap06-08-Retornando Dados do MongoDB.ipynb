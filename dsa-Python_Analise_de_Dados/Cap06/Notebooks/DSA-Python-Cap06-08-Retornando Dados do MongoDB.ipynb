{
 "cells": [
  {
   "cell_type": "markdown",
   "metadata": {},
   "source": [
    "# <font color='blue'>Data Science Academy - Python Fundamentos - Capítulo 6</font>\n",
    "\n",
    "## Download: http://github.com/dsacademybr"
   ]
  },
  {
   "cell_type": "markdown",
   "metadata": {},
   "source": [
    "### Retornando Dados no MongoDB com PyMongo"
   ]
  },
  {
   "cell_type": "code",
   "execution_count": 1,
   "metadata": {},
   "outputs": [],
   "source": [
    "# Importamos o Módulo PyMongo\n",
    "import pymongo"
   ]
  },
  {
   "cell_type": "code",
   "execution_count": 2,
   "metadata": {},
   "outputs": [],
   "source": [
    "# Criando a conexão com o MongoDB (neste caso, conexão padrão)\n",
    "client_con = pymongo.MongoClient()"
   ]
  },
  {
   "cell_type": "code",
   "execution_count": 3,
   "metadata": {},
   "outputs": [
    {
     "name": "stderr",
     "output_type": "stream",
     "text": [
      "C:\\Users\\thiagoPanini\\Anaconda3\\lib\\site-packages\\ipykernel_launcher.py:2: DeprecationWarning: database_names is deprecated. Use list_database_names instead.\n",
      "  \n"
     ]
    },
    {
     "data": {
      "text/plain": [
       "['admin', 'cadastrodb', 'config', 'local']"
      ]
     },
     "execution_count": 3,
     "metadata": {},
     "output_type": "execute_result"
    }
   ],
   "source": [
    "# Listando os bancos de dados disponíveis\n",
    "client_con.database_names()"
   ]
  },
  {
   "cell_type": "code",
   "execution_count": 4,
   "metadata": {},
   "outputs": [],
   "source": [
    "# Definindo o objeto db\n",
    "db = client_con.cadastrodb"
   ]
  },
  {
   "cell_type": "code",
   "execution_count": 5,
   "metadata": {},
   "outputs": [
    {
     "name": "stderr",
     "output_type": "stream",
     "text": [
      "C:\\Users\\thiagoPanini\\Anaconda3\\lib\\site-packages\\ipykernel_launcher.py:2: DeprecationWarning: collection_names is deprecated. Use list_collection_names instead.\n",
      "  \n"
     ]
    },
    {
     "data": {
      "text/plain": [
       "['posts']"
      ]
     },
     "execution_count": 5,
     "metadata": {},
     "output_type": "execute_result"
    }
   ],
   "source": [
    "# Listando as coleções disponíveis\n",
    "db.collection_names()"
   ]
  },
  {
   "cell_type": "code",
   "execution_count": 6,
   "metadata": {},
   "outputs": [
    {
     "data": {
      "text/plain": [
       "Collection(Database(MongoClient(host=['localhost:27017'], document_class=dict, tz_aware=False, connect=True), 'cadastrodb'), 'mycollection')"
      ]
     },
     "execution_count": 6,
     "metadata": {},
     "output_type": "execute_result"
    }
   ],
   "source": [
    "# Criando uma coleção\n",
    "db.create_collection(\"mycollection\")"
   ]
  },
  {
   "cell_type": "code",
   "execution_count": 7,
   "metadata": {},
   "outputs": [
    {
     "name": "stderr",
     "output_type": "stream",
     "text": [
      "C:\\Users\\thiagoPanini\\Anaconda3\\lib\\site-packages\\ipykernel_launcher.py:2: DeprecationWarning: collection_names is deprecated. Use list_collection_names instead.\n",
      "  \n"
     ]
    },
    {
     "data": {
      "text/plain": [
       "['mycollection', 'posts']"
      ]
     },
     "execution_count": 7,
     "metadata": {},
     "output_type": "execute_result"
    }
   ],
   "source": [
    "# Listando as coleções disponíveis\n",
    "db.collection_names()"
   ]
  },
  {
   "cell_type": "code",
   "execution_count": 8,
   "metadata": {},
   "outputs": [
    {
     "data": {
      "text/plain": [
       "<pymongo.results.InsertOneResult at 0x1228aa21f88>"
      ]
     },
     "execution_count": 8,
     "metadata": {},
     "output_type": "execute_result"
    }
   ],
   "source": [
    "# Inserindo um documento na coleção criada\n",
    "db.mycollection.insert_one({\n",
    "   'titulo': 'MongoDB com Python', \n",
    "   'descricao': 'MongoDB é um Banco de Dados NoSQL',\n",
    "   'by': 'Data Science Academy',\n",
    "   'url': 'http://www.datascienceacademy.com.br',\n",
    "   'tags': ['mongodb', 'database', 'NoSQL'],\n",
    "   'likes': 100\n",
    "})\n",
    "\n",
    "# Ao invés de definir o dicionário previamente, passamos ele diretamente (JSON = dict em Python)"
   ]
  },
  {
   "cell_type": "code",
   "execution_count": 9,
   "metadata": {},
   "outputs": [
    {
     "data": {
      "text/plain": [
       "{'_id': ObjectId('5b607f886486d11af0480536'),\n",
       " 'by': 'Data Science Academy',\n",
       " 'descricao': 'MongoDB é um Banco de Dados NoSQL',\n",
       " 'likes': 100,\n",
       " 'tags': ['mongodb', 'database', 'NoSQL'],\n",
       " 'titulo': 'MongoDB com Python',\n",
       " 'url': 'http://www.datascienceacademy.com.br'}"
      ]
     },
     "execution_count": 9,
     "metadata": {},
     "output_type": "execute_result"
    }
   ],
   "source": [
    "# Retornando o documento criado\n",
    "db.mycollection.find_one()"
   ]
  },
  {
   "cell_type": "code",
   "execution_count": 10,
   "metadata": {},
   "outputs": [],
   "source": [
    "# Preparando um documento\n",
    "doc1 = {\"Nome\":\"Donald\",\"sobrenome\":\"Trump\",\"twitter\":\"@POTUS\"}"
   ]
  },
  {
   "cell_type": "code",
   "execution_count": 11,
   "metadata": {},
   "outputs": [
    {
     "data": {
      "text/plain": [
       "<pymongo.results.InsertOneResult at 0x1228aa57d48>"
      ]
     },
     "execution_count": 11,
     "metadata": {},
     "output_type": "execute_result"
    }
   ],
   "source": [
    "# Inserindo um documento\n",
    "db.mycollection.insert_one(doc1)"
   ]
  },
  {
   "cell_type": "code",
   "execution_count": 12,
   "metadata": {},
   "outputs": [],
   "source": [
    "# Preparando um documento\n",
    "doc2 = {\"Site\":\"http://www.datascienceacademy.com.br\",\n",
    "        \"facebook\":\"facebook.com/dsacademybr\"}"
   ]
  },
  {
   "cell_type": "code",
   "execution_count": 13,
   "metadata": {},
   "outputs": [
    {
     "data": {
      "text/plain": [
       "<pymongo.results.InsertOneResult at 0x1228aa32448>"
      ]
     },
     "execution_count": 13,
     "metadata": {},
     "output_type": "execute_result"
    }
   ],
   "source": [
    "# Inserindo um documento\n",
    "db.mycollection.insert_one(doc2)"
   ]
  },
  {
   "cell_type": "code",
   "execution_count": 14,
   "metadata": {},
   "outputs": [
    {
     "name": "stdout",
     "output_type": "stream",
     "text": [
      "{'_id': ObjectId('5b607f886486d11af0480536'), 'titulo': 'MongoDB com Python', 'descricao': 'MongoDB é um Banco de Dados NoSQL', 'by': 'Data Science Academy', 'url': 'http://www.datascienceacademy.com.br', 'tags': ['mongodb', 'database', 'NoSQL'], 'likes': 100}\n",
      "{'_id': ObjectId('5b607f9e6486d11af0480537'), 'Nome': 'Donald', 'sobrenome': 'Trump', 'twitter': '@POTUS'}\n",
      "{'_id': ObjectId('5b607fca6486d11af0480538'), 'Site': 'http://www.datascienceacademy.com.br', 'facebook': 'facebook.com/dsacademybr'}\n"
     ]
    }
   ],
   "source": [
    "# Retornando os documentos na coleção\n",
    "for rec in db.mycollection.find():\n",
    "    print(rec)"
   ]
  },
  {
   "cell_type": "code",
   "execution_count": 15,
   "metadata": {},
   "outputs": [],
   "source": [
    "# Conectando a uma coleção\n",
    "col = db[\"mycollection\"]"
   ]
  },
  {
   "cell_type": "code",
   "execution_count": 16,
   "metadata": {},
   "outputs": [
    {
     "data": {
      "text/plain": [
       "pymongo.collection.Collection"
      ]
     },
     "execution_count": 16,
     "metadata": {},
     "output_type": "execute_result"
    }
   ],
   "source": [
    "type(col)"
   ]
  },
  {
   "cell_type": "code",
   "execution_count": 17,
   "metadata": {},
   "outputs": [
    {
     "name": "stderr",
     "output_type": "stream",
     "text": [
      "C:\\Users\\thiagoPanini\\Anaconda3\\lib\\site-packages\\ipykernel_launcher.py:2: DeprecationWarning: count is deprecated. Use estimated_document_count or count_documents instead. Please note that $where must be replaced by $expr, $near must be replaced by $geoWithin with $center, and $nearSphere must be replaced by $geoWithin with $centerSphere\n",
      "  \n"
     ]
    },
    {
     "data": {
      "text/plain": [
       "3"
      ]
     },
     "execution_count": 17,
     "metadata": {},
     "output_type": "execute_result"
    }
   ],
   "source": [
    "# Contando os documentos em uma coleção\n",
    "col.count()"
   ]
  },
  {
   "cell_type": "code",
   "execution_count": 35,
   "metadata": {},
   "outputs": [],
   "source": [
    "# Encontrando um único documento\n",
    "redoc = col.find_one()"
   ]
  },
  {
   "cell_type": "code",
   "execution_count": 36,
   "metadata": {},
   "outputs": [
    {
     "data": {
      "text/plain": [
       "{'_id': ObjectId('5b607f886486d11af0480536'),\n",
       " 'by': 'Data Science Academy',\n",
       " 'descricao': 'MongoDB é um Banco de Dados NoSQL',\n",
       " 'likes': 100,\n",
       " 'tags': ['mongodb', 'database', 'NoSQL'],\n",
       " 'titulo': 'MongoDB com Python',\n",
       " 'url': 'http://www.datascienceacademy.com.br'}"
      ]
     },
     "execution_count": 36,
     "metadata": {},
     "output_type": "execute_result"
    }
   ],
   "source": [
    "redoc"
   ]
  },
  {
   "cell_type": "markdown",
   "metadata": {},
   "source": [
    "# Fim"
   ]
  },
  {
   "cell_type": "markdown",
   "metadata": {},
   "source": [
    "### Obrigado - Data Science Academy - <a href=http://facebook.com/dsacademy>facebook.com/dsacademybr</a>"
   ]
  }
 ],
 "metadata": {
  "kernelspec": {
   "display_name": "Python 3",
   "language": "python",
   "name": "python3"
  },
  "language_info": {
   "codemirror_mode": {
    "name": "ipython",
    "version": 3
   },
   "file_extension": ".py",
   "mimetype": "text/x-python",
   "name": "python",
   "nbconvert_exporter": "python",
   "pygments_lexer": "ipython3",
   "version": "3.6.4"
  }
 },
 "nbformat": 4,
 "nbformat_minor": 1
}
